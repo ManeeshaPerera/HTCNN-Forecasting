{
 "cells": [
  {
   "cell_type": "markdown",
   "id": "living-punishment",
   "metadata": {},
   "source": [
    "## Visualise Features Captured By CONV"
   ]
  },
  {
   "cell_type": "code",
   "execution_count": 1,
   "id": "literary-duncan",
   "metadata": {},
   "outputs": [],
   "source": [
    "import tensorflow as tf\n",
    "from keras.utils.vis_utils import plot_model"
   ]
  },
  {
   "cell_type": "code",
   "execution_count": 2,
   "id": "martial-poland",
   "metadata": {},
   "outputs": [],
   "source": [
    "import sys\n",
    "sys.path.insert(0, '../')"
   ]
  },
  {
   "cell_type": "code",
   "execution_count": 3,
   "id": "careful-carry",
   "metadata": {},
   "outputs": [],
   "source": [
    "# from vis.visualization import visualize_saliency, overlay\n",
    "# from vis.utils import utils\n",
    "# from keras import activations\n",
    "# from vis.visualization import visualize_activation"
   ]
  },
  {
   "cell_type": "code",
   "execution_count": 4,
   "id": "violent-premiere",
   "metadata": {},
   "outputs": [],
   "source": [
    "# from keras_visualizer import visualizer "
   ]
  },
  {
   "cell_type": "code",
   "execution_count": 5,
   "id": "jewish-seating",
   "metadata": {},
   "outputs": [],
   "source": [
    "from matplotlib import pyplot as plt\n",
    "import pandas as pd"
   ]
  },
  {
   "cell_type": "code",
   "execution_count": 13,
   "id": "fca70eca",
   "metadata": {},
   "outputs": [
    {
     "name": "stdout",
     "output_type": "stream",
     "text": [
      "WARNING:tensorflow:SavedModel saved prior to TF 2.5 detected when loading Keras model. Please ensure that you are saving the model with model.save() or tf.keras.models.save_model(), *NOT* tf.saved_model.save(). To confirm, there should be a file named \"keras_metadata.pb\" in the SavedModel directory.\n"
     ]
    }
   ],
   "source": [
    "pc_model = tf.keras.models.load_model(\n",
    "        '../combined_nn_results/refined_models/pre_trained_models/CNN/all_pc/saved_models/postcode_level_branch_approachA/0')"
   ]
  },
  {
   "cell_type": "code",
   "execution_count": 11,
   "id": "3140b5da",
   "metadata": {},
   "outputs": [],
   "source": [
    "# pc_model.name= 'pCMO'"
   ]
  },
  {
   "cell_type": "code",
   "execution_count": 14,
   "id": "e309d8f4",
   "metadata": {},
   "outputs": [
    {
     "name": "stdout",
     "output_type": "stream",
     "text": [
      "Model: \"functional_1\"\n",
      "__________________________________________________________________________________________________\n",
      "Layer (type)                    Output Shape         Param #     Connected to                     \n",
      "==================================================================================================\n",
      "input_postcode_6010 (InputLayer [(None, 14, 14)]     0                                            \n",
      "__________________________________________________________________________________________________\n",
      "input_postcode_6014 (InputLayer [(None, 14, 14)]     0                                            \n",
      "__________________________________________________________________________________________________\n",
      "input_postcode_6011 (InputLayer [(None, 14, 14)]     0                                            \n",
      "__________________________________________________________________________________________________\n",
      "input_postcode_6280 (InputLayer [(None, 14, 14)]     0                                            \n",
      "__________________________________________________________________________________________________\n",
      "input_postcode_6281 (InputLayer [(None, 14, 14)]     0                                            \n",
      "__________________________________________________________________________________________________\n",
      "input_postcode_6284 (InputLayer [(None, 14, 14)]     0                                            \n",
      "__________________________________________________________________________________________________\n",
      "postcode_concat (Concatenate)   (None, 14, 84)       0           input_postcode_6010[0][0]        \n",
      "                                                                 input_postcode_6014[0][0]        \n",
      "                                                                 input_postcode_6011[0][0]        \n",
      "                                                                 input_postcode_6280[0][0]        \n",
      "                                                                 input_postcode_6281[0][0]        \n",
      "                                                                 input_postcode_6284[0][0]        \n",
      "__________________________________________________________________________________________________\n",
      "postcode_concat_normalize (Laye (None, 14, 84)       168         postcode_concat[0][0]            \n",
      "__________________________________________________________________________________________________\n",
      "pc_all_cnn_layer1 (Conv1D)      (None, 14, 32)       5408        postcode_concat_normalize[0][0]  \n",
      "__________________________________________________________________________________________________\n",
      "pc_all_cnn_layer2 (Conv1D)      (None, 14, 32)       2080        pc_all_cnn_layer1[0][0]          \n",
      "__________________________________________________________________________________________________\n",
      "pc_all_max_pool_1 (MaxPooling1D (None, 7, 32)        0           pc_all_cnn_layer2[0][0]          \n",
      "__________________________________________________________________________________________________\n",
      "pc_all_cnn_layer3 (Conv1D)      (None, 7, 32)        2080        pc_all_max_pool_1[0][0]          \n",
      "__________________________________________________________________________________________________\n",
      "pc_all_cnn_layer4 (Conv1D)      (None, 7, 32)        2080        pc_all_cnn_layer3[0][0]          \n",
      "__________________________________________________________________________________________________\n",
      "pc_all_max_pool_2 (MaxPooling1D (None, 4, 32)        0           pc_all_cnn_layer4[0][0]          \n",
      "__________________________________________________________________________________________________\n",
      "flatten_pc_all (Flatten)        (None, 128)          0           pc_all_max_pool_2[0][0]          \n",
      "__________________________________________________________________________________________________\n",
      "prediction_layer_pc_all (Dense) (None, 14)           1806        flatten_pc_all[0][0]             \n",
      "==================================================================================================\n",
      "Total params: 13,622\n",
      "Trainable params: 13,622\n",
      "Non-trainable params: 0\n",
      "__________________________________________________________________________________________________\n"
     ]
    }
   ],
   "source": [
    "pc_model.summary()"
   ]
  },
  {
   "cell_type": "code",
   "execution_count": 6,
   "id": "metropolitan-county",
   "metadata": {},
   "outputs": [],
   "source": [
    "data = pd.read_pickle('../ts_data/new/6010')"
   ]
  },
  {
   "cell_type": "code",
   "execution_count": 7,
   "id": "dimensional-tissue",
   "metadata": {},
   "outputs": [
    {
     "data": {
      "text/plain": [
       "['power',\n",
       " 'day2',\n",
       " 'day3',\n",
       " 'day4',\n",
       " 'day5',\n",
       " 'day6',\n",
       " 'day7',\n",
       " 'wind',\n",
       " 'temperature',\n",
       " 'dewPoint',\n",
       " 'cloudCover',\n",
       " 'humidity',\n",
       " 'pressure',\n",
       " 'uvIndex']"
      ]
     },
     "execution_count": 7,
     "metadata": {},
     "output_type": "execute_result"
    }
   ],
   "source": [
    "feature_inputs = data.columns.tolist()\n",
    "feature_inputs"
   ]
  },
  {
   "cell_type": "code",
   "execution_count": 8,
   "id": "structured-differential",
   "metadata": {},
   "outputs": [
    {
     "data": {
      "text/plain": [
       "['day1',\n",
       " 'day2',\n",
       " 'day3',\n",
       " 'day4',\n",
       " 'day5',\n",
       " 'day6',\n",
       " 'day7',\n",
       " 'wind',\n",
       " 'temperature',\n",
       " 'dewPoint',\n",
       " 'cloudCover',\n",
       " 'humidity',\n",
       " 'pressure',\n",
       " 'uvIndex']"
      ]
     },
     "execution_count": 8,
     "metadata": {},
     "output_type": "execute_result"
    }
   ],
   "source": [
    "feature_inputs[0] = 'day1'\n",
    "feature_inputs"
   ]
  },
  {
   "cell_type": "markdown",
   "id": "retired-patrick",
   "metadata": {},
   "source": [
    "Loading Model 9"
   ]
  },
  {
   "cell_type": "code",
   "execution_count": 6,
   "id": "white-homeless",
   "metadata": {},
   "outputs": [
    {
     "name": "stdout",
     "output_type": "stream",
     "text": [
      "WARNING:tensorflow:SavedModel saved prior to TF 2.5 detected when loading Keras model. Please ensure that you are saving the model with model.save() or tf.keras.models.save_model(), *NOT* tf.saved_model.save(). To confirm, there should be a file named \"keras_metadata.pb\" in the SavedModel directory.\n"
     ]
    }
   ],
   "source": [
    "model = tf.keras.models.load_model('../combined_nn_results/refined_models/saved_models/model9')"
   ]
  },
  {
   "cell_type": "code",
   "execution_count": 10,
   "id": "7e569fcb",
   "metadata": {},
   "outputs": [],
   "source": [
    "import src.CNN_architectures.temporal_conv as tcn"
   ]
  },
  {
   "cell_type": "code",
   "execution_count": 12,
   "id": "8e994a6a",
   "metadata": {},
   "outputs": [],
   "source": [
    "# tcn.TCN.get_config()"
   ]
  },
  {
   "cell_type": "code",
   "execution_count": 1,
   "id": "1ad03ea5",
   "metadata": {},
   "outputs": [],
   "source": [
    "# model2 = tf.keras.models.load_model('../combined_nn_results/refined_models/pre_trained_models/grid/saved_models/grid_level_branch/0', custom_objects={\"TCN_grid\":tcn.TCN})"
   ]
  },
  {
   "cell_type": "code",
   "execution_count": 2,
   "id": "d7efbae5",
   "metadata": {},
   "outputs": [],
   "source": [
    "# model2 = tf.keras.models.load_model('../combined_nn_results/refined_models/pre_trained_models/all_pc/saved_models/postcode_level_branch_approachA/0')"
   ]
  },
  {
   "cell_type": "code",
   "execution_count": 10,
   "id": "biblical-leonard",
   "metadata": {},
   "outputs": [],
   "source": [
    "# visualizer(model9, format='png', view=True)"
   ]
  },
  {
   "cell_type": "code",
   "execution_count": 11,
   "id": "cooked-boards",
   "metadata": {},
   "outputs": [
    {
     "name": "stdout",
     "output_type": "stream",
     "text": [
      "Model: \"functional_13\"\n",
      "__________________________________________________________________________________________________\n",
      "Layer (type)                    Output Shape         Param #     Connected to                     \n",
      "==================================================================================================\n",
      "input_postcode_6010 (InputLayer [(None, 14, 14)]     0                                            \n",
      "__________________________________________________________________________________________________\n",
      "input_postcode_6014 (InputLayer [(None, 14, 14)]     0                                            \n",
      "__________________________________________________________________________________________________\n",
      "input_postcode_6011 (InputLayer [(None, 14, 14)]     0                                            \n",
      "__________________________________________________________________________________________________\n",
      "input_postcode_6280 (InputLayer [(None, 14, 14)]     0                                            \n",
      "__________________________________________________________________________________________________\n",
      "input_postcode_6281 (InputLayer [(None, 14, 14)]     0                                            \n",
      "__________________________________________________________________________________________________\n",
      "input_postcode_6284 (InputLayer [(None, 14, 14)]     0                                            \n",
      "__________________________________________________________________________________________________\n",
      "cnn1_postcode_6010 (Conv1D)     (None, 14, 32)       1824        input_postcode_6010[0][0]        \n",
      "__________________________________________________________________________________________________\n",
      "cnn1_postcode_6014 (Conv1D)     (None, 14, 32)       1824        input_postcode_6014[0][0]        \n",
      "__________________________________________________________________________________________________\n",
      "cnn1_postcode_6011 (Conv1D)     (None, 14, 32)       1824        input_postcode_6011[0][0]        \n",
      "__________________________________________________________________________________________________\n",
      "cnn1_postcode_6280 (Conv1D)     (None, 14, 32)       1824        input_postcode_6280[0][0]        \n",
      "__________________________________________________________________________________________________\n",
      "cnn1_postcode_6281 (Conv1D)     (None, 14, 32)       1824        input_postcode_6281[0][0]        \n",
      "__________________________________________________________________________________________________\n",
      "cnn1_postcode_6284 (Conv1D)     (None, 14, 32)       1824        input_postcode_6284[0][0]        \n",
      "__________________________________________________________________________________________________\n",
      "max_pooling1d (MaxPooling1D)    (None, 14, 32)       0           cnn1_postcode_6010[0][0]         \n",
      "__________________________________________________________________________________________________\n",
      "max_pooling1d_1 (MaxPooling1D)  (None, 14, 32)       0           cnn1_postcode_6014[0][0]         \n",
      "__________________________________________________________________________________________________\n",
      "max_pooling1d_2 (MaxPooling1D)  (None, 14, 32)       0           cnn1_postcode_6011[0][0]         \n",
      "__________________________________________________________________________________________________\n",
      "max_pooling1d_3 (MaxPooling1D)  (None, 14, 32)       0           cnn1_postcode_6280[0][0]         \n",
      "__________________________________________________________________________________________________\n",
      "max_pooling1d_4 (MaxPooling1D)  (None, 14, 32)       0           cnn1_postcode_6281[0][0]         \n",
      "__________________________________________________________________________________________________\n",
      "max_pooling1d_5 (MaxPooling1D)  (None, 14, 32)       0           cnn1_postcode_6284[0][0]         \n",
      "__________________________________________________________________________________________________\n",
      "concatenate (Concatenate)       (None, 14, 192)      0           max_pooling1d[0][0]              \n",
      "                                                                 max_pooling1d_1[0][0]            \n",
      "                                                                 max_pooling1d_2[0][0]            \n",
      "                                                                 max_pooling1d_3[0][0]            \n",
      "                                                                 max_pooling1d_4[0][0]            \n",
      "                                                                 max_pooling1d_5[0][0]            \n",
      "__________________________________________________________________________________________________\n",
      "conv1d (Conv1D)                 (None, 11, 32)       24608       concatenate[0][0]                \n",
      "__________________________________________________________________________________________________\n",
      "max_pooling1d_6 (MaxPooling1D)  (None, 6, 32)        0           conv1d[0][0]                     \n",
      "__________________________________________________________________________________________________\n",
      "flatten_combined (Flatten)      (None, 192)          0           max_pooling1d_6[0][0]            \n",
      "__________________________________________________________________________________________________\n",
      "dense (Dense)                   (None, 14)           2702        flatten_combined[0][0]           \n",
      "==================================================================================================\n",
      "Total params: 38,254\n",
      "Trainable params: 38,254\n",
      "Non-trainable params: 0\n",
      "__________________________________________________________________________________________________\n"
     ]
    }
   ],
   "source": [
    "model.summary()\n",
    "# plot_model(model9, show_shapes=True)"
   ]
  },
  {
   "cell_type": "code",
   "execution_count": 12,
   "id": "designing-service",
   "metadata": {},
   "outputs": [
    {
     "name": "stdout",
     "output_type": "stream",
     "text": [
      "6 cnn1_postcode_6010 (None, 14, 32) (4, 14, 32) [ 0.01218159  0.00819196 -0.00145282 -0.01392525 -0.01250212  0.0127612\n",
      "  0.01118655  0.01806916 -0.01320827 -0.00391739  0.00637672  0.00431184\n",
      " -0.0028084   0.00921785 -0.01272317 -0.00110225 -0.0075383  -0.01186624\n",
      " -0.01470442 -0.00508959  0.01125524 -0.00725618 -0.00877438 -0.00963546\n",
      "  0.01303868  0.01168418  0.00514139 -0.00797686 -0.00486415  0.01932095\n",
      "  0.01511545 -0.00209637]\n",
      "7 cnn1_postcode_6014 (None, 14, 32) (4, 14, 32) [ 0.01105045 -0.00514959 -0.01593383 -0.02122341  0.01573423 -0.00549005\n",
      " -0.00913619  0.00709747  0.01006969  0.01332097  0.00862616  0.00717893\n",
      " -0.01272415 -0.00611596  0.00520597  0.00554419 -0.00308785 -0.00874897\n",
      " -0.01070834 -0.00019601  0.01262966  0.00127794  0.0010027  -0.01420006\n",
      " -0.01430153  0.00507879 -0.00613553  0.00783241 -0.0111634  -0.00879344\n",
      " -0.00826668 -0.00707278]\n",
      "8 cnn1_postcode_6011 (None, 14, 32) (4, 14, 32) [-0.00969284 -0.00140992 -0.00399539 -0.0057942   0.00184521  0.00340662\n",
      " -0.01571235  0.00287019  0.00841512 -0.00156552 -0.01766491  0.01328266\n",
      "  0.00978948 -0.0107789  -0.01248193  0.00342552 -0.00312081 -0.00473647\n",
      " -0.01469979  0.00027273 -0.00977306  0.01129128 -0.00438861  0.01556611\n",
      " -0.00749094 -0.01512264 -0.01199616 -0.00108433 -0.01451315  0.01046446\n",
      " -0.01463781 -0.0021858 ]\n",
      "9 cnn1_postcode_6280 (None, 14, 32) (4, 14, 32) [-1.47674037e-02 -9.22386441e-03  1.16108367e-02 -1.62147861e-02\n",
      " -1.05511565e-02 -1.36210024e-02 -1.26431985e-02 -1.58574097e-02\n",
      " -1.83078425e-03  9.84601397e-03  6.60145670e-05 -3.61921382e-03\n",
      "  1.60582073e-03  4.19285288e-03 -1.10159274e-02  1.18594551e-02\n",
      "  1.01265358e-02  1.34016937e-02  2.41903285e-03 -8.48452002e-03\n",
      "  2.20924765e-02 -1.52630936e-02 -5.18375263e-03  7.03287125e-03\n",
      "  1.12470994e-02 -2.28328980e-03 -5.77413058e-03 -1.03316912e-02\n",
      "  7.11917924e-03 -1.09607941e-02 -2.43589818e-03 -3.01913125e-03]\n",
      "10 cnn1_postcode_6281 (None, 14, 32) (4, 14, 32) [-0.00667339 -0.01630309 -0.00643052 -0.01312939 -0.01015447  0.01133131\n",
      "  0.00567257 -0.01263218  0.01177734 -0.00586405 -0.00849277 -0.00245258\n",
      " -0.00773549 -0.00015288 -0.00770244  0.00644636 -0.00033688  0.01272546\n",
      " -0.00595121  0.0040198  -0.00957882  0.01000067  0.01414869 -0.00077115\n",
      " -0.01228293  0.01530777  0.01849246  0.01278153 -0.01342289 -0.0087658\n",
      "  0.01568799 -0.00225993]\n",
      "11 cnn1_postcode_6284 (None, 14, 32) (4, 14, 32) [-0.00153275  0.01434072 -0.00972129 -0.0184044  -0.00613077  0.00199445\n",
      " -0.00087322 -0.01889428  0.00578597  0.00807625  0.00481687 -0.01008932\n",
      " -0.01939347 -0.00251579  0.00022329 -0.0016132  -0.00251533 -0.00617774\n",
      "  0.00694783  0.00865998 -0.01158729  0.00093348 -0.00531899  0.00613786\n",
      " -0.01256738 -0.00291443 -0.01454423 -0.0086683   0.00171828 -0.01021099\n",
      " -0.00321032  0.0072204 ]\n"
     ]
    }
   ],
   "source": [
    "# summarize filters in each convolutional layer\n",
    "\n",
    "# summarize filter shapes\n",
    "for i in range(len(model.layers)):\n",
    "    layer = model.layers[i]\n",
    "    # check for convolutional layer\n",
    "    if 'cnn' not in layer.name:\n",
    "        continue\n",
    "    # get filter weights\n",
    "    filters, biases = layer.get_weights()\n",
    "    print(i, layer.name, layer.output.shape, filters.shape, biases)"
   ]
  },
  {
   "cell_type": "code",
   "execution_count": 13,
   "id": "contrary-tenant",
   "metadata": {},
   "outputs": [
    {
     "name": "stdout",
     "output_type": "stream",
     "text": [
      "Model: \"model\"\n",
      "__________________________________________________________________________________________________\n",
      "Layer (type)                    Output Shape         Param #     Connected to                     \n",
      "==================================================================================================\n",
      "input_postcode_6010 (InputLayer [(None, 14, 14)]     0                                            \n",
      "__________________________________________________________________________________________________\n",
      "input_postcode_6014 (InputLayer [(None, 14, 14)]     0                                            \n",
      "__________________________________________________________________________________________________\n",
      "input_postcode_6011 (InputLayer [(None, 14, 14)]     0                                            \n",
      "__________________________________________________________________________________________________\n",
      "input_postcode_6280 (InputLayer [(None, 14, 14)]     0                                            \n",
      "__________________________________________________________________________________________________\n",
      "input_postcode_6281 (InputLayer [(None, 14, 14)]     0                                            \n",
      "__________________________________________________________________________________________________\n",
      "input_postcode_6284 (InputLayer [(None, 14, 14)]     0                                            \n",
      "__________________________________________________________________________________________________\n",
      "cnn1_postcode_6010 (Conv1D)     (None, 14, 32)       1824        input_postcode_6010[0][0]        \n",
      "==================================================================================================\n",
      "Total params: 1,824\n",
      "Trainable params: 1,824\n",
      "Non-trainable params: 0\n",
      "__________________________________________________________________________________________________\n"
     ]
    }
   ],
   "source": [
    "# redefine model to output right after the first hidden layer\n",
    "from keras.models import Model\n",
    "model = Model(inputs=model.inputs, outputs=model.layers[6].output)\n",
    "model.summary()"
   ]
  },
  {
   "cell_type": "code",
   "execution_count": 14,
   "id": "becoming-airfare",
   "metadata": {},
   "outputs": [],
   "source": [
    "from numpy import expand_dims"
   ]
  },
  {
   "cell_type": "code",
   "execution_count": 15,
   "id": "competent-prerequisite",
   "metadata": {},
   "outputs": [],
   "source": [
    "test_dic = pd.read_pickle('../combined_nn_results/refined_models/test_data_pc')\n",
    "sample_data = {}\n",
    "\n",
    "for key, val in test_dic.items():\n",
    "    sample_data[key] = expand_dims(val[0], axis=0)\n",
    "\n",
    "\n",
    "feature_maps = model.predict(sample_data)"
   ]
  },
  {
   "cell_type": "code",
   "execution_count": 16,
   "id": "intense-combine",
   "metadata": {},
   "outputs": [
    {
     "data": {
      "text/plain": [
       "-0.4384052"
      ]
     },
     "execution_count": 16,
     "metadata": {},
     "output_type": "execute_result"
    }
   ],
   "source": [
    "feature_maps[0][13][13]"
   ]
  },
  {
   "cell_type": "code",
   "execution_count": 17,
   "id": "cutting-quilt",
   "metadata": {},
   "outputs": [
    {
     "data": {
      "text/html": [
       "        <script type=\"text/javascript\">\n",
       "        window.PlotlyConfig = {MathJaxConfig: 'local'};\n",
       "        if (window.MathJax) {MathJax.Hub.Config({SVG: {font: \"STIX-Web\"}});}\n",
       "        if (typeof require !== 'undefined') {\n",
       "        require.undef(\"plotly\");\n",
       "        requirejs.config({\n",
       "            paths: {\n",
       "                'plotly': ['https://cdn.plot.ly/plotly-latest.min']\n",
       "            }\n",
       "        });\n",
       "        require(['plotly'], function(Plotly) {\n",
       "            window._Plotly = Plotly;\n",
       "        });\n",
       "        }\n",
       "        </script>\n",
       "        "
      ]
     },
     "metadata": {},
     "output_type": "display_data"
    }
   ],
   "source": [
    "import plotly.graph_objs as go\n",
    "from plotly.subplots import make_subplots\n",
    "from plotly.offline import init_notebook_mode, iplot\n",
    "init_notebook_mode(connected=True)"
   ]
  },
  {
   "cell_type": "code",
   "execution_count": 18,
   "id": "enclosed-national",
   "metadata": {},
   "outputs": [
    {
     "data": {
      "text/plain": [
       "14"
      ]
     },
     "execution_count": 18,
     "metadata": {},
     "output_type": "execute_result"
    }
   ],
   "source": [
    "len(sample_data['input_postcode_6010'][0][0])"
   ]
  },
  {
   "cell_type": "code",
   "execution_count": 19,
   "id": "historical-hammer",
   "metadata": {},
   "outputs": [
    {
     "data": {
      "application/vnd.plotly.v1+json": {
       "config": {
        "plotlyServerURL": "https://plot.ly"
       },
       "data": [
        {
         "type": "scatter",
         "xaxis": "x",
         "y": [
          -1.1226046085357666,
          -1.084856390953064,
          -0.7043024301528931,
          -0.004335049074143171,
          0.6818723678588867,
          1.3069490194320679,
          1.688907265663147,
          1.8397901058197021,
          1.8846734762191772,
          1.8089320659637451,
          1.4404501914978027,
          0.8974021077156067,
          0.4559527039527893,
          -0.309208482503891
         ],
         "yaxis": "y"
        },
        {
         "type": "scatter",
         "xaxis": "x2",
         "y": [
          -1.1226481199264526,
          -1.0788968801498413,
          -0.6747221350669861,
          0.054464515298604965,
          0.818916380405426,
          1.3893318176269531,
          1.4826816320419312,
          1.952951192855835,
          1.9875099658966064,
          1.9317587614059448,
          1.652222990989685,
          1.1888928413391113,
          0.5132303833961487,
          -0.36045515537261963
         ],
         "yaxis": "y2"
        },
        {
         "type": "scatter",
         "xaxis": "x3",
         "y": [
          -1.122374415397644,
          -1.0745606422424316,
          -0.6600427031517029,
          0.019542133435606956,
          0.7956556677818298,
          1.4679975509643555,
          1.8539854288101196,
          1.9839756488800049,
          2.013336181640625,
          1.9488228559494019,
          1.689308762550354,
          1.2049651145935059,
          0.5133570432662964,
          -0.24201415479183197
         ],
         "yaxis": "y3"
        },
        {
         "type": "scatter",
         "xaxis": "x4",
         "y": [
          -1.1218205690383911,
          -1.073283076286316,
          -0.6677270531654358,
          -0.059951264411211014,
          0.7825580835342407,
          1.438367486000061,
          1.8422188758850098,
          1.987596035003662,
          2.0231547355651855,
          1.9758886098861694,
          1.7311928272247314,
          1.2327326536178589,
          0.5367546677589417,
          -0.2384507954120636
         ],
         "yaxis": "y4"
        },
        {
         "type": "scatter",
         "xaxis": "x5",
         "y": [
          -1.120980143547058,
          -1.0673975944519043,
          -0.7926670908927917,
          -0.11714231222867966,
          0.8294609785079956,
          1.4925446510314941,
          1.8788890838623047,
          2.016245126724243,
          2.041330337524414,
          1.9935165643692017,
          1.745522379875183,
          1.2519556283950806,
          0.5546837449073792,
          -0.23622645437717438
         ],
         "yaxis": "y5"
        },
        {
         "type": "scatter",
         "xaxis": "x6",
         "y": [
          -1.1207555532455444,
          -1.0964319705963135,
          -0.7725180387496948,
          0.0016722945729270577,
          0.5693912506103516,
          1.3270556926727295,
          1.6527771949768066,
          1.7506788969039917,
          1.8198964595794678,
          1.7492146492004395,
          1.771469235420227,
          1.2066729068756104,
          0.30958548188209534,
          -0.2866368293762207
         ],
         "yaxis": "y6"
        },
        {
         "type": "scatter",
         "xaxis": "x7",
         "y": [
          -1.1211620569229126,
          -1.0729541778564453,
          -0.6709232926368713,
          -0.0035832044668495655,
          0.7658012509346008,
          1.4226257801055908,
          1.833288550376892,
          1.9687604904174805,
          2.024035692214966,
          1.9585700035095215,
          1.6812831163406372,
          1.1523032188415527,
          0.45418643951416016,
          -0.305416464805603
         ],
         "yaxis": "y7"
        },
        {
         "type": "scatter",
         "xaxis": "x8",
         "y": [
          -1.356887936592102,
          -1.3610848188400269,
          -1.3652817010879517,
          -1.3442972898483276,
          -1.428234577178955,
          -0.7147673964500427,
          -0.6308301091194153,
          -0.4965303838253021,
          -0.18596231937408447,
          -0.08943440020084381,
          0.02388097532093525,
          -0.0013002195628359914,
          -0.0013002195628359914,
          -0.13140305876731873
         ],
         "yaxis": "y8"
        },
        {
         "type": "scatter",
         "xaxis": "x9",
         "y": [
          1.30765700340271,
          1.3405566215515137,
          1.2966904640197754,
          1.4918947219848633,
          1.8450170755386353,
          2.1871728897094727,
          2.678473472595215,
          2.6060943603515625,
          2.4788827896118164,
          2.237618923187256,
          2.099440574645996,
          2.097247362136841,
          2.020481586456299,
          1.8055375814437866
         ],
         "yaxis": "y9"
        },
        {
         "type": "scatter",
         "xaxis": "x10",
         "y": [
          -0.7970471382141113,
          -0.7839717268943787,
          -0.6270670890808105,
          -0.35248398780822754,
          -0.1641983985900879,
          -0.804892361164093,
          -0.6662932634353638,
          -0.22696025669574738,
          0.018857020884752274,
          0.47649556398391724,
          0.7536937594413757,
          1.0648880004882812,
          1.3786972761154175,
          1.4937607049942017
         ],
         "yaxis": "y10"
        },
        {
         "type": "scatter",
         "xaxis": "x11",
         "y": [
          1.1255943775177002,
          0.9923826456069946,
          1.3387333154678345,
          1.4186604022979736,
          1.4453027248382568,
          1.4453027248382568,
          1.1255943775177002,
          1.152236819267273,
          0.8058860898017883,
          1.0723097324371338,
          1.045667290687561,
          0.05990000069141388,
          0.3796083331108093,
          0.32632359862327576
         ],
         "yaxis": "y11"
        },
        {
         "type": "scatter",
         "xaxis": "x12",
         "y": [
          -2.195943593978882,
          -2.195943593978882,
          -2.060861587524414,
          -2.060861587524414,
          -2.195943593978882,
          -2.8038125038146973,
          -3.0064356327056885,
          -2.736271619796753,
          -2.4661076068878174,
          -1.9933207035064697,
          -1.6556156873703003,
          -1.4529927968978882,
          -1.0477467775344849,
          -0.710041880607605
         ],
         "yaxis": "y12"
        },
        {
         "type": "scatter",
         "xaxis": "x13",
         "y": [
          -1.487617015838623,
          -1.4362525939941406,
          -1.3335237503051758,
          -1.196552038192749,
          -1.230794906616211,
          -1.2992808818817139,
          -1.3335237503051758,
          -1.3164023160934448,
          -1.3164023160934448,
          -1.3848881721496582,
          -1.4020096063613892,
          -1.4020096063613892,
          -1.3848881721496582,
          -1.2821593284606934
         ],
         "yaxis": "y13"
        },
        {
         "type": "scatter",
         "xaxis": "x14",
         "y": [
          -0.8860518336296082,
          -0.8860518336296082,
          -0.8860518336296082,
          -0.4477468729019165,
          -0.009441942907869816,
          0.8671678900718689,
          1.7437777519226074,
          1.7437777519226074,
          2.620387554168701,
          2.1820826530456543,
          1.7437777519226074,
          2.1820826530456543,
          0.8671678900718689,
          -0.009441942907869816
         ],
         "yaxis": "y14"
        }
       ],
       "layout": {
        "annotations": [
         {
          "font": {
           "size": 16
          },
          "showarrow": false,
          "text": "day1",
          "x": 0.10625,
          "xanchor": "center",
          "xref": "paper",
          "y": 1,
          "yanchor": "bottom",
          "yref": "paper"
         },
         {
          "font": {
           "size": 16
          },
          "showarrow": false,
          "text": "day2",
          "x": 0.36875,
          "xanchor": "center",
          "xref": "paper",
          "y": 1,
          "yanchor": "bottom",
          "yref": "paper"
         },
         {
          "font": {
           "size": 16
          },
          "showarrow": false,
          "text": "day3",
          "x": 0.6312500000000001,
          "xanchor": "center",
          "xref": "paper",
          "y": 1,
          "yanchor": "bottom",
          "yref": "paper"
         },
         {
          "font": {
           "size": 16
          },
          "showarrow": false,
          "text": "day4",
          "x": 0.89375,
          "xanchor": "center",
          "xref": "paper",
          "y": 1,
          "yanchor": "bottom",
          "yref": "paper"
         },
         {
          "font": {
           "size": 16
          },
          "showarrow": false,
          "text": "day5",
          "x": 0.10625,
          "xanchor": "center",
          "xref": "paper",
          "y": 0.78,
          "yanchor": "bottom",
          "yref": "paper"
         },
         {
          "font": {
           "size": 16
          },
          "showarrow": false,
          "text": "day6",
          "x": 0.36875,
          "xanchor": "center",
          "xref": "paper",
          "y": 0.78,
          "yanchor": "bottom",
          "yref": "paper"
         },
         {
          "font": {
           "size": 16
          },
          "showarrow": false,
          "text": "day7",
          "x": 0.6312500000000001,
          "xanchor": "center",
          "xref": "paper",
          "y": 0.78,
          "yanchor": "bottom",
          "yref": "paper"
         },
         {
          "font": {
           "size": 16
          },
          "showarrow": false,
          "text": "wind",
          "x": 0.89375,
          "xanchor": "center",
          "xref": "paper",
          "y": 0.78,
          "yanchor": "bottom",
          "yref": "paper"
         },
         {
          "font": {
           "size": 16
          },
          "showarrow": false,
          "text": "temperature",
          "x": 0.10625,
          "xanchor": "center",
          "xref": "paper",
          "y": 0.56,
          "yanchor": "bottom",
          "yref": "paper"
         },
         {
          "font": {
           "size": 16
          },
          "showarrow": false,
          "text": "dewPoint",
          "x": 0.36875,
          "xanchor": "center",
          "xref": "paper",
          "y": 0.56,
          "yanchor": "bottom",
          "yref": "paper"
         },
         {
          "font": {
           "size": 16
          },
          "showarrow": false,
          "text": "cloudCover",
          "x": 0.6312500000000001,
          "xanchor": "center",
          "xref": "paper",
          "y": 0.56,
          "yanchor": "bottom",
          "yref": "paper"
         },
         {
          "font": {
           "size": 16
          },
          "showarrow": false,
          "text": "humidity",
          "x": 0.89375,
          "xanchor": "center",
          "xref": "paper",
          "y": 0.56,
          "yanchor": "bottom",
          "yref": "paper"
         },
         {
          "font": {
           "size": 16
          },
          "showarrow": false,
          "text": "pressure",
          "x": 0.10625,
          "xanchor": "center",
          "xref": "paper",
          "y": 0.33999999999999997,
          "yanchor": "bottom",
          "yref": "paper"
         },
         {
          "font": {
           "size": 16
          },
          "showarrow": false,
          "text": "uvIndex",
          "x": 0.36875,
          "xanchor": "center",
          "xref": "paper",
          "y": 0.33999999999999997,
          "yanchor": "bottom",
          "yref": "paper"
         }
        ],
        "height": 700,
        "showlegend": false,
        "template": {
         "data": {
          "bar": [
           {
            "error_x": {
             "color": "#2a3f5f"
            },
            "error_y": {
             "color": "#2a3f5f"
            },
            "marker": {
             "line": {
              "color": "#E5ECF6",
              "width": 0.5
             }
            },
            "type": "bar"
           }
          ],
          "barpolar": [
           {
            "marker": {
             "line": {
              "color": "#E5ECF6",
              "width": 0.5
             }
            },
            "type": "barpolar"
           }
          ],
          "carpet": [
           {
            "aaxis": {
             "endlinecolor": "#2a3f5f",
             "gridcolor": "white",
             "linecolor": "white",
             "minorgridcolor": "white",
             "startlinecolor": "#2a3f5f"
            },
            "baxis": {
             "endlinecolor": "#2a3f5f",
             "gridcolor": "white",
             "linecolor": "white",
             "minorgridcolor": "white",
             "startlinecolor": "#2a3f5f"
            },
            "type": "carpet"
           }
          ],
          "choropleth": [
           {
            "colorbar": {
             "outlinewidth": 0,
             "ticks": ""
            },
            "type": "choropleth"
           }
          ],
          "contour": [
           {
            "colorbar": {
             "outlinewidth": 0,
             "ticks": ""
            },
            "colorscale": [
             [
              0,
              "#0d0887"
             ],
             [
              0.1111111111111111,
              "#46039f"
             ],
             [
              0.2222222222222222,
              "#7201a8"
             ],
             [
              0.3333333333333333,
              "#9c179e"
             ],
             [
              0.4444444444444444,
              "#bd3786"
             ],
             [
              0.5555555555555556,
              "#d8576b"
             ],
             [
              0.6666666666666666,
              "#ed7953"
             ],
             [
              0.7777777777777778,
              "#fb9f3a"
             ],
             [
              0.8888888888888888,
              "#fdca26"
             ],
             [
              1,
              "#f0f921"
             ]
            ],
            "type": "contour"
           }
          ],
          "contourcarpet": [
           {
            "colorbar": {
             "outlinewidth": 0,
             "ticks": ""
            },
            "type": "contourcarpet"
           }
          ],
          "heatmap": [
           {
            "colorbar": {
             "outlinewidth": 0,
             "ticks": ""
            },
            "colorscale": [
             [
              0,
              "#0d0887"
             ],
             [
              0.1111111111111111,
              "#46039f"
             ],
             [
              0.2222222222222222,
              "#7201a8"
             ],
             [
              0.3333333333333333,
              "#9c179e"
             ],
             [
              0.4444444444444444,
              "#bd3786"
             ],
             [
              0.5555555555555556,
              "#d8576b"
             ],
             [
              0.6666666666666666,
              "#ed7953"
             ],
             [
              0.7777777777777778,
              "#fb9f3a"
             ],
             [
              0.8888888888888888,
              "#fdca26"
             ],
             [
              1,
              "#f0f921"
             ]
            ],
            "type": "heatmap"
           }
          ],
          "heatmapgl": [
           {
            "colorbar": {
             "outlinewidth": 0,
             "ticks": ""
            },
            "colorscale": [
             [
              0,
              "#0d0887"
             ],
             [
              0.1111111111111111,
              "#46039f"
             ],
             [
              0.2222222222222222,
              "#7201a8"
             ],
             [
              0.3333333333333333,
              "#9c179e"
             ],
             [
              0.4444444444444444,
              "#bd3786"
             ],
             [
              0.5555555555555556,
              "#d8576b"
             ],
             [
              0.6666666666666666,
              "#ed7953"
             ],
             [
              0.7777777777777778,
              "#fb9f3a"
             ],
             [
              0.8888888888888888,
              "#fdca26"
             ],
             [
              1,
              "#f0f921"
             ]
            ],
            "type": "heatmapgl"
           }
          ],
          "histogram": [
           {
            "marker": {
             "colorbar": {
              "outlinewidth": 0,
              "ticks": ""
             }
            },
            "type": "histogram"
           }
          ],
          "histogram2d": [
           {
            "colorbar": {
             "outlinewidth": 0,
             "ticks": ""
            },
            "colorscale": [
             [
              0,
              "#0d0887"
             ],
             [
              0.1111111111111111,
              "#46039f"
             ],
             [
              0.2222222222222222,
              "#7201a8"
             ],
             [
              0.3333333333333333,
              "#9c179e"
             ],
             [
              0.4444444444444444,
              "#bd3786"
             ],
             [
              0.5555555555555556,
              "#d8576b"
             ],
             [
              0.6666666666666666,
              "#ed7953"
             ],
             [
              0.7777777777777778,
              "#fb9f3a"
             ],
             [
              0.8888888888888888,
              "#fdca26"
             ],
             [
              1,
              "#f0f921"
             ]
            ],
            "type": "histogram2d"
           }
          ],
          "histogram2dcontour": [
           {
            "colorbar": {
             "outlinewidth": 0,
             "ticks": ""
            },
            "colorscale": [
             [
              0,
              "#0d0887"
             ],
             [
              0.1111111111111111,
              "#46039f"
             ],
             [
              0.2222222222222222,
              "#7201a8"
             ],
             [
              0.3333333333333333,
              "#9c179e"
             ],
             [
              0.4444444444444444,
              "#bd3786"
             ],
             [
              0.5555555555555556,
              "#d8576b"
             ],
             [
              0.6666666666666666,
              "#ed7953"
             ],
             [
              0.7777777777777778,
              "#fb9f3a"
             ],
             [
              0.8888888888888888,
              "#fdca26"
             ],
             [
              1,
              "#f0f921"
             ]
            ],
            "type": "histogram2dcontour"
           }
          ],
          "mesh3d": [
           {
            "colorbar": {
             "outlinewidth": 0,
             "ticks": ""
            },
            "type": "mesh3d"
           }
          ],
          "parcoords": [
           {
            "line": {
             "colorbar": {
              "outlinewidth": 0,
              "ticks": ""
             }
            },
            "type": "parcoords"
           }
          ],
          "pie": [
           {
            "automargin": true,
            "type": "pie"
           }
          ],
          "scatter": [
           {
            "marker": {
             "colorbar": {
              "outlinewidth": 0,
              "ticks": ""
             }
            },
            "type": "scatter"
           }
          ],
          "scatter3d": [
           {
            "line": {
             "colorbar": {
              "outlinewidth": 0,
              "ticks": ""
             }
            },
            "marker": {
             "colorbar": {
              "outlinewidth": 0,
              "ticks": ""
             }
            },
            "type": "scatter3d"
           }
          ],
          "scattercarpet": [
           {
            "marker": {
             "colorbar": {
              "outlinewidth": 0,
              "ticks": ""
             }
            },
            "type": "scattercarpet"
           }
          ],
          "scattergeo": [
           {
            "marker": {
             "colorbar": {
              "outlinewidth": 0,
              "ticks": ""
             }
            },
            "type": "scattergeo"
           }
          ],
          "scattergl": [
           {
            "marker": {
             "colorbar": {
              "outlinewidth": 0,
              "ticks": ""
             }
            },
            "type": "scattergl"
           }
          ],
          "scattermapbox": [
           {
            "marker": {
             "colorbar": {
              "outlinewidth": 0,
              "ticks": ""
             }
            },
            "type": "scattermapbox"
           }
          ],
          "scatterpolar": [
           {
            "marker": {
             "colorbar": {
              "outlinewidth": 0,
              "ticks": ""
             }
            },
            "type": "scatterpolar"
           }
          ],
          "scatterpolargl": [
           {
            "marker": {
             "colorbar": {
              "outlinewidth": 0,
              "ticks": ""
             }
            },
            "type": "scatterpolargl"
           }
          ],
          "scatterternary": [
           {
            "marker": {
             "colorbar": {
              "outlinewidth": 0,
              "ticks": ""
             }
            },
            "type": "scatterternary"
           }
          ],
          "surface": [
           {
            "colorbar": {
             "outlinewidth": 0,
             "ticks": ""
            },
            "colorscale": [
             [
              0,
              "#0d0887"
             ],
             [
              0.1111111111111111,
              "#46039f"
             ],
             [
              0.2222222222222222,
              "#7201a8"
             ],
             [
              0.3333333333333333,
              "#9c179e"
             ],
             [
              0.4444444444444444,
              "#bd3786"
             ],
             [
              0.5555555555555556,
              "#d8576b"
             ],
             [
              0.6666666666666666,
              "#ed7953"
             ],
             [
              0.7777777777777778,
              "#fb9f3a"
             ],
             [
              0.8888888888888888,
              "#fdca26"
             ],
             [
              1,
              "#f0f921"
             ]
            ],
            "type": "surface"
           }
          ],
          "table": [
           {
            "cells": {
             "fill": {
              "color": "#EBF0F8"
             },
             "line": {
              "color": "white"
             }
            },
            "header": {
             "fill": {
              "color": "#C8D4E3"
             },
             "line": {
              "color": "white"
             }
            },
            "type": "table"
           }
          ]
         },
         "layout": {
          "annotationdefaults": {
           "arrowcolor": "#2a3f5f",
           "arrowhead": 0,
           "arrowwidth": 1
          },
          "autotypenumbers": "strict",
          "coloraxis": {
           "colorbar": {
            "outlinewidth": 0,
            "ticks": ""
           }
          },
          "colorscale": {
           "diverging": [
            [
             0,
             "#8e0152"
            ],
            [
             0.1,
             "#c51b7d"
            ],
            [
             0.2,
             "#de77ae"
            ],
            [
             0.3,
             "#f1b6da"
            ],
            [
             0.4,
             "#fde0ef"
            ],
            [
             0.5,
             "#f7f7f7"
            ],
            [
             0.6,
             "#e6f5d0"
            ],
            [
             0.7,
             "#b8e186"
            ],
            [
             0.8,
             "#7fbc41"
            ],
            [
             0.9,
             "#4d9221"
            ],
            [
             1,
             "#276419"
            ]
           ],
           "sequential": [
            [
             0,
             "#0d0887"
            ],
            [
             0.1111111111111111,
             "#46039f"
            ],
            [
             0.2222222222222222,
             "#7201a8"
            ],
            [
             0.3333333333333333,
             "#9c179e"
            ],
            [
             0.4444444444444444,
             "#bd3786"
            ],
            [
             0.5555555555555556,
             "#d8576b"
            ],
            [
             0.6666666666666666,
             "#ed7953"
            ],
            [
             0.7777777777777778,
             "#fb9f3a"
            ],
            [
             0.8888888888888888,
             "#fdca26"
            ],
            [
             1,
             "#f0f921"
            ]
           ],
           "sequentialminus": [
            [
             0,
             "#0d0887"
            ],
            [
             0.1111111111111111,
             "#46039f"
            ],
            [
             0.2222222222222222,
             "#7201a8"
            ],
            [
             0.3333333333333333,
             "#9c179e"
            ],
            [
             0.4444444444444444,
             "#bd3786"
            ],
            [
             0.5555555555555556,
             "#d8576b"
            ],
            [
             0.6666666666666666,
             "#ed7953"
            ],
            [
             0.7777777777777778,
             "#fb9f3a"
            ],
            [
             0.8888888888888888,
             "#fdca26"
            ],
            [
             1,
             "#f0f921"
            ]
           ]
          },
          "colorway": [
           "#636efa",
           "#EF553B",
           "#00cc96",
           "#ab63fa",
           "#FFA15A",
           "#19d3f3",
           "#FF6692",
           "#B6E880",
           "#FF97FF",
           "#FECB52"
          ],
          "font": {
           "color": "#2a3f5f"
          },
          "geo": {
           "bgcolor": "white",
           "lakecolor": "white",
           "landcolor": "#E5ECF6",
           "showlakes": true,
           "showland": true,
           "subunitcolor": "white"
          },
          "hoverlabel": {
           "align": "left"
          },
          "hovermode": "closest",
          "mapbox": {
           "style": "light"
          },
          "paper_bgcolor": "white",
          "plot_bgcolor": "#E5ECF6",
          "polar": {
           "angularaxis": {
            "gridcolor": "white",
            "linecolor": "white",
            "ticks": ""
           },
           "bgcolor": "#E5ECF6",
           "radialaxis": {
            "gridcolor": "white",
            "linecolor": "white",
            "ticks": ""
           }
          },
          "scene": {
           "xaxis": {
            "backgroundcolor": "#E5ECF6",
            "gridcolor": "white",
            "gridwidth": 2,
            "linecolor": "white",
            "showbackground": true,
            "ticks": "",
            "zerolinecolor": "white"
           },
           "yaxis": {
            "backgroundcolor": "#E5ECF6",
            "gridcolor": "white",
            "gridwidth": 2,
            "linecolor": "white",
            "showbackground": true,
            "ticks": "",
            "zerolinecolor": "white"
           },
           "zaxis": {
            "backgroundcolor": "#E5ECF6",
            "gridcolor": "white",
            "gridwidth": 2,
            "linecolor": "white",
            "showbackground": true,
            "ticks": "",
            "zerolinecolor": "white"
           }
          },
          "shapedefaults": {
           "line": {
            "color": "#2a3f5f"
           }
          },
          "ternary": {
           "aaxis": {
            "gridcolor": "white",
            "linecolor": "white",
            "ticks": ""
           },
           "baxis": {
            "gridcolor": "white",
            "linecolor": "white",
            "ticks": ""
           },
           "bgcolor": "#E5ECF6",
           "caxis": {
            "gridcolor": "white",
            "linecolor": "white",
            "ticks": ""
           }
          },
          "title": {
           "x": 0.05
          },
          "xaxis": {
           "automargin": true,
           "gridcolor": "white",
           "linecolor": "white",
           "ticks": "",
           "title": {
            "standoff": 15
           },
           "zerolinecolor": "white",
           "zerolinewidth": 2
          },
          "yaxis": {
           "automargin": true,
           "gridcolor": "white",
           "linecolor": "white",
           "ticks": "",
           "title": {
            "standoff": 15
           },
           "zerolinecolor": "white",
           "zerolinewidth": 2
          }
         }
        },
        "xaxis": {
         "anchor": "y",
         "domain": [
          0,
          0.2125
         ]
        },
        "xaxis10": {
         "anchor": "y10",
         "domain": [
          0.2625,
          0.475
         ]
        },
        "xaxis11": {
         "anchor": "y11",
         "domain": [
          0.525,
          0.7375
         ]
        },
        "xaxis12": {
         "anchor": "y12",
         "domain": [
          0.7875,
          1
         ]
        },
        "xaxis13": {
         "anchor": "y13",
         "domain": [
          0,
          0.2125
         ]
        },
        "xaxis14": {
         "anchor": "y14",
         "domain": [
          0.2625,
          0.475
         ]
        },
        "xaxis15": {
         "anchor": "y15",
         "domain": [
          0.525,
          0.7375
         ]
        },
        "xaxis16": {
         "anchor": "y16",
         "domain": [
          0.7875,
          1
         ]
        },
        "xaxis17": {
         "anchor": "y17",
         "domain": [
          0,
          0.2125
         ]
        },
        "xaxis18": {
         "anchor": "y18",
         "domain": [
          0.2625,
          0.475
         ]
        },
        "xaxis19": {
         "anchor": "y19",
         "domain": [
          0.525,
          0.7375
         ]
        },
        "xaxis2": {
         "anchor": "y2",
         "domain": [
          0.2625,
          0.475
         ]
        },
        "xaxis20": {
         "anchor": "y20",
         "domain": [
          0.7875,
          1
         ]
        },
        "xaxis3": {
         "anchor": "y3",
         "domain": [
          0.525,
          0.7375
         ]
        },
        "xaxis4": {
         "anchor": "y4",
         "domain": [
          0.7875,
          1
         ]
        },
        "xaxis5": {
         "anchor": "y5",
         "domain": [
          0,
          0.2125
         ]
        },
        "xaxis6": {
         "anchor": "y6",
         "domain": [
          0.2625,
          0.475
         ]
        },
        "xaxis7": {
         "anchor": "y7",
         "domain": [
          0.525,
          0.7375
         ]
        },
        "xaxis8": {
         "anchor": "y8",
         "domain": [
          0.7875,
          1
         ]
        },
        "xaxis9": {
         "anchor": "y9",
         "domain": [
          0,
          0.2125
         ]
        },
        "yaxis": {
         "anchor": "x",
         "domain": [
          0.88,
          1
         ]
        },
        "yaxis10": {
         "anchor": "x10",
         "domain": [
          0.44,
          0.56
         ]
        },
        "yaxis11": {
         "anchor": "x11",
         "domain": [
          0.44,
          0.56
         ]
        },
        "yaxis12": {
         "anchor": "x12",
         "domain": [
          0.44,
          0.56
         ]
        },
        "yaxis13": {
         "anchor": "x13",
         "domain": [
          0.22,
          0.33999999999999997
         ]
        },
        "yaxis14": {
         "anchor": "x14",
         "domain": [
          0.22,
          0.33999999999999997
         ]
        },
        "yaxis15": {
         "anchor": "x15",
         "domain": [
          0.22,
          0.33999999999999997
         ]
        },
        "yaxis16": {
         "anchor": "x16",
         "domain": [
          0.22,
          0.33999999999999997
         ]
        },
        "yaxis17": {
         "anchor": "x17",
         "domain": [
          0,
          0.12
         ]
        },
        "yaxis18": {
         "anchor": "x18",
         "domain": [
          0,
          0.12
         ]
        },
        "yaxis19": {
         "anchor": "x19",
         "domain": [
          0,
          0.12
         ]
        },
        "yaxis2": {
         "anchor": "x2",
         "domain": [
          0.88,
          1
         ]
        },
        "yaxis20": {
         "anchor": "x20",
         "domain": [
          0,
          0.12
         ]
        },
        "yaxis3": {
         "anchor": "x3",
         "domain": [
          0.88,
          1
         ]
        },
        "yaxis4": {
         "anchor": "x4",
         "domain": [
          0.88,
          1
         ]
        },
        "yaxis5": {
         "anchor": "x5",
         "domain": [
          0.66,
          0.78
         ]
        },
        "yaxis6": {
         "anchor": "x6",
         "domain": [
          0.66,
          0.78
         ]
        },
        "yaxis7": {
         "anchor": "x7",
         "domain": [
          0.66,
          0.78
         ]
        },
        "yaxis8": {
         "anchor": "x8",
         "domain": [
          0.66,
          0.78
         ]
        },
        "yaxis9": {
         "anchor": "x9",
         "domain": [
          0.44,
          0.56
         ]
        }
       }
      },
      "text/html": [
       "<div>                            <div id=\"29e14c66-1a8e-466e-a03f-7db80b184164\" class=\"plotly-graph-div\" style=\"height:700px; width:100%;\"></div>            <script type=\"text/javascript\">                require([\"plotly\"], function(Plotly) {                    window.PLOTLYENV=window.PLOTLYENV || {};                                    if (document.getElementById(\"29e14c66-1a8e-466e-a03f-7db80b184164\")) {                    Plotly.newPlot(                        \"29e14c66-1a8e-466e-a03f-7db80b184164\",                        [{\"type\": \"scatter\", \"xaxis\": \"x\", \"y\": [-1.1226046085357666, -1.084856390953064, -0.7043024301528931, -0.004335049074143171, 0.6818723678588867, 1.3069490194320679, 1.688907265663147, 1.8397901058197021, 1.8846734762191772, 1.8089320659637451, 1.4404501914978027, 0.8974021077156067, 0.4559527039527893, -0.309208482503891], \"yaxis\": \"y\"}, {\"type\": \"scatter\", \"xaxis\": \"x2\", \"y\": [-1.1226481199264526, -1.0788968801498413, -0.6747221350669861, 0.054464515298604965, 0.818916380405426, 1.3893318176269531, 1.4826816320419312, 1.952951192855835, 1.9875099658966064, 1.9317587614059448, 1.652222990989685, 1.1888928413391113, 0.5132303833961487, -0.36045515537261963], \"yaxis\": \"y2\"}, {\"type\": \"scatter\", \"xaxis\": \"x3\", \"y\": [-1.122374415397644, -1.0745606422424316, -0.6600427031517029, 0.019542133435606956, 0.7956556677818298, 1.4679975509643555, 1.8539854288101196, 1.9839756488800049, 2.013336181640625, 1.9488228559494019, 1.689308762550354, 1.2049651145935059, 0.5133570432662964, -0.24201415479183197], \"yaxis\": \"y3\"}, {\"type\": \"scatter\", \"xaxis\": \"x4\", \"y\": [-1.1218205690383911, -1.073283076286316, -0.6677270531654358, -0.059951264411211014, 0.7825580835342407, 1.438367486000061, 1.8422188758850098, 1.987596035003662, 2.0231547355651855, 1.9758886098861694, 1.7311928272247314, 1.2327326536178589, 0.5367546677589417, -0.2384507954120636], \"yaxis\": \"y4\"}, {\"type\": \"scatter\", \"xaxis\": \"x5\", \"y\": [-1.120980143547058, -1.0673975944519043, -0.7926670908927917, -0.11714231222867966, 0.8294609785079956, 1.4925446510314941, 1.8788890838623047, 2.016245126724243, 2.041330337524414, 1.9935165643692017, 1.745522379875183, 1.2519556283950806, 0.5546837449073792, -0.23622645437717438], \"yaxis\": \"y5\"}, {\"type\": \"scatter\", \"xaxis\": \"x6\", \"y\": [-1.1207555532455444, -1.0964319705963135, -0.7725180387496948, 0.0016722945729270577, 0.5693912506103516, 1.3270556926727295, 1.6527771949768066, 1.7506788969039917, 1.8198964595794678, 1.7492146492004395, 1.771469235420227, 1.2066729068756104, 0.30958548188209534, -0.2866368293762207], \"yaxis\": \"y6\"}, {\"type\": \"scatter\", \"xaxis\": \"x7\", \"y\": [-1.1211620569229126, -1.0729541778564453, -0.6709232926368713, -0.0035832044668495655, 0.7658012509346008, 1.4226257801055908, 1.833288550376892, 1.9687604904174805, 2.024035692214966, 1.9585700035095215, 1.6812831163406372, 1.1523032188415527, 0.45418643951416016, -0.305416464805603], \"yaxis\": \"y7\"}, {\"type\": \"scatter\", \"xaxis\": \"x8\", \"y\": [-1.356887936592102, -1.3610848188400269, -1.3652817010879517, -1.3442972898483276, -1.428234577178955, -0.7147673964500427, -0.6308301091194153, -0.4965303838253021, -0.18596231937408447, -0.08943440020084381, 0.02388097532093525, -0.0013002195628359914, -0.0013002195628359914, -0.13140305876731873], \"yaxis\": \"y8\"}, {\"type\": \"scatter\", \"xaxis\": \"x9\", \"y\": [1.30765700340271, 1.3405566215515137, 1.2966904640197754, 1.4918947219848633, 1.8450170755386353, 2.1871728897094727, 2.678473472595215, 2.6060943603515625, 2.4788827896118164, 2.237618923187256, 2.099440574645996, 2.097247362136841, 2.020481586456299, 1.8055375814437866], \"yaxis\": \"y9\"}, {\"type\": \"scatter\", \"xaxis\": \"x10\", \"y\": [-0.7970471382141113, -0.7839717268943787, -0.6270670890808105, -0.35248398780822754, -0.1641983985900879, -0.804892361164093, -0.6662932634353638, -0.22696025669574738, 0.018857020884752274, 0.47649556398391724, 0.7536937594413757, 1.0648880004882812, 1.3786972761154175, 1.4937607049942017], \"yaxis\": \"y10\"}, {\"type\": \"scatter\", \"xaxis\": \"x11\", \"y\": [1.1255943775177002, 0.9923826456069946, 1.3387333154678345, 1.4186604022979736, 1.4453027248382568, 1.4453027248382568, 1.1255943775177002, 1.152236819267273, 0.8058860898017883, 1.0723097324371338, 1.045667290687561, 0.05990000069141388, 0.3796083331108093, 0.32632359862327576], \"yaxis\": \"y11\"}, {\"type\": \"scatter\", \"xaxis\": \"x12\", \"y\": [-2.195943593978882, -2.195943593978882, -2.060861587524414, -2.060861587524414, -2.195943593978882, -2.8038125038146973, -3.0064356327056885, -2.736271619796753, -2.4661076068878174, -1.9933207035064697, -1.6556156873703003, -1.4529927968978882, -1.0477467775344849, -0.710041880607605], \"yaxis\": \"y12\"}, {\"type\": \"scatter\", \"xaxis\": \"x13\", \"y\": [-1.487617015838623, -1.4362525939941406, -1.3335237503051758, -1.196552038192749, -1.230794906616211, -1.2992808818817139, -1.3335237503051758, -1.3164023160934448, -1.3164023160934448, -1.3848881721496582, -1.4020096063613892, -1.4020096063613892, -1.3848881721496582, -1.2821593284606934], \"yaxis\": \"y13\"}, {\"type\": \"scatter\", \"xaxis\": \"x14\", \"y\": [-0.8860518336296082, -0.8860518336296082, -0.8860518336296082, -0.4477468729019165, -0.009441942907869816, 0.8671678900718689, 1.7437777519226074, 1.7437777519226074, 2.620387554168701, 2.1820826530456543, 1.7437777519226074, 2.1820826530456543, 0.8671678900718689, -0.009441942907869816], \"yaxis\": \"y14\"}],                        {\"annotations\": [{\"font\": {\"size\": 16}, \"showarrow\": false, \"text\": \"day1\", \"x\": 0.10625, \"xanchor\": \"center\", \"xref\": \"paper\", \"y\": 1.0, \"yanchor\": \"bottom\", \"yref\": \"paper\"}, {\"font\": {\"size\": 16}, \"showarrow\": false, \"text\": \"day2\", \"x\": 0.36875, \"xanchor\": \"center\", \"xref\": \"paper\", \"y\": 1.0, \"yanchor\": \"bottom\", \"yref\": \"paper\"}, {\"font\": {\"size\": 16}, \"showarrow\": false, \"text\": \"day3\", \"x\": 0.6312500000000001, \"xanchor\": \"center\", \"xref\": \"paper\", \"y\": 1.0, \"yanchor\": \"bottom\", \"yref\": \"paper\"}, {\"font\": {\"size\": 16}, \"showarrow\": false, \"text\": \"day4\", \"x\": 0.89375, \"xanchor\": \"center\", \"xref\": \"paper\", \"y\": 1.0, \"yanchor\": \"bottom\", \"yref\": \"paper\"}, {\"font\": {\"size\": 16}, \"showarrow\": false, \"text\": \"day5\", \"x\": 0.10625, \"xanchor\": \"center\", \"xref\": \"paper\", \"y\": 0.78, \"yanchor\": \"bottom\", \"yref\": \"paper\"}, {\"font\": {\"size\": 16}, \"showarrow\": false, \"text\": \"day6\", \"x\": 0.36875, \"xanchor\": \"center\", \"xref\": \"paper\", \"y\": 0.78, \"yanchor\": \"bottom\", \"yref\": \"paper\"}, {\"font\": {\"size\": 16}, \"showarrow\": false, \"text\": \"day7\", \"x\": 0.6312500000000001, \"xanchor\": \"center\", \"xref\": \"paper\", \"y\": 0.78, \"yanchor\": \"bottom\", \"yref\": \"paper\"}, {\"font\": {\"size\": 16}, \"showarrow\": false, \"text\": \"wind\", \"x\": 0.89375, \"xanchor\": \"center\", \"xref\": \"paper\", \"y\": 0.78, \"yanchor\": \"bottom\", \"yref\": \"paper\"}, {\"font\": {\"size\": 16}, \"showarrow\": false, \"text\": \"temperature\", \"x\": 0.10625, \"xanchor\": \"center\", \"xref\": \"paper\", \"y\": 0.56, \"yanchor\": \"bottom\", \"yref\": \"paper\"}, {\"font\": {\"size\": 16}, \"showarrow\": false, \"text\": \"dewPoint\", \"x\": 0.36875, \"xanchor\": \"center\", \"xref\": \"paper\", \"y\": 0.56, \"yanchor\": \"bottom\", \"yref\": \"paper\"}, {\"font\": {\"size\": 16}, \"showarrow\": false, \"text\": \"cloudCover\", \"x\": 0.6312500000000001, \"xanchor\": \"center\", \"xref\": \"paper\", \"y\": 0.56, \"yanchor\": \"bottom\", \"yref\": \"paper\"}, {\"font\": {\"size\": 16}, \"showarrow\": false, \"text\": \"humidity\", \"x\": 0.89375, \"xanchor\": \"center\", \"xref\": \"paper\", \"y\": 0.56, \"yanchor\": \"bottom\", \"yref\": \"paper\"}, {\"font\": {\"size\": 16}, \"showarrow\": false, \"text\": \"pressure\", \"x\": 0.10625, \"xanchor\": \"center\", \"xref\": \"paper\", \"y\": 0.33999999999999997, \"yanchor\": \"bottom\", \"yref\": \"paper\"}, {\"font\": {\"size\": 16}, \"showarrow\": false, \"text\": \"uvIndex\", \"x\": 0.36875, \"xanchor\": \"center\", \"xref\": \"paper\", \"y\": 0.33999999999999997, \"yanchor\": \"bottom\", \"yref\": \"paper\"}], \"height\": 700, \"showlegend\": false, \"template\": {\"data\": {\"bar\": [{\"error_x\": {\"color\": \"#2a3f5f\"}, \"error_y\": {\"color\": \"#2a3f5f\"}, \"marker\": {\"line\": {\"color\": \"#E5ECF6\", \"width\": 0.5}}, \"type\": \"bar\"}], \"barpolar\": [{\"marker\": {\"line\": {\"color\": \"#E5ECF6\", \"width\": 0.5}}, \"type\": \"barpolar\"}], \"carpet\": [{\"aaxis\": {\"endlinecolor\": \"#2a3f5f\", \"gridcolor\": \"white\", \"linecolor\": \"white\", \"minorgridcolor\": \"white\", \"startlinecolor\": \"#2a3f5f\"}, \"baxis\": {\"endlinecolor\": \"#2a3f5f\", \"gridcolor\": \"white\", \"linecolor\": \"white\", \"minorgridcolor\": \"white\", \"startlinecolor\": \"#2a3f5f\"}, \"type\": \"carpet\"}], \"choropleth\": [{\"colorbar\": {\"outlinewidth\": 0, \"ticks\": \"\"}, \"type\": \"choropleth\"}], \"contour\": [{\"colorbar\": {\"outlinewidth\": 0, \"ticks\": \"\"}, \"colorscale\": [[0.0, \"#0d0887\"], [0.1111111111111111, \"#46039f\"], [0.2222222222222222, \"#7201a8\"], [0.3333333333333333, \"#9c179e\"], [0.4444444444444444, \"#bd3786\"], [0.5555555555555556, \"#d8576b\"], [0.6666666666666666, \"#ed7953\"], [0.7777777777777778, \"#fb9f3a\"], [0.8888888888888888, \"#fdca26\"], [1.0, \"#f0f921\"]], \"type\": \"contour\"}], \"contourcarpet\": [{\"colorbar\": {\"outlinewidth\": 0, \"ticks\": \"\"}, \"type\": \"contourcarpet\"}], \"heatmap\": [{\"colorbar\": {\"outlinewidth\": 0, \"ticks\": \"\"}, \"colorscale\": [[0.0, \"#0d0887\"], [0.1111111111111111, \"#46039f\"], [0.2222222222222222, \"#7201a8\"], [0.3333333333333333, \"#9c179e\"], [0.4444444444444444, \"#bd3786\"], [0.5555555555555556, \"#d8576b\"], [0.6666666666666666, \"#ed7953\"], [0.7777777777777778, \"#fb9f3a\"], [0.8888888888888888, \"#fdca26\"], [1.0, \"#f0f921\"]], \"type\": \"heatmap\"}], \"heatmapgl\": [{\"colorbar\": {\"outlinewidth\": 0, \"ticks\": \"\"}, \"colorscale\": [[0.0, \"#0d0887\"], [0.1111111111111111, \"#46039f\"], [0.2222222222222222, \"#7201a8\"], [0.3333333333333333, \"#9c179e\"], [0.4444444444444444, \"#bd3786\"], [0.5555555555555556, \"#d8576b\"], [0.6666666666666666, \"#ed7953\"], [0.7777777777777778, \"#fb9f3a\"], [0.8888888888888888, \"#fdca26\"], [1.0, \"#f0f921\"]], \"type\": \"heatmapgl\"}], \"histogram\": [{\"marker\": {\"colorbar\": {\"outlinewidth\": 0, \"ticks\": \"\"}}, \"type\": \"histogram\"}], \"histogram2d\": [{\"colorbar\": {\"outlinewidth\": 0, \"ticks\": \"\"}, \"colorscale\": [[0.0, \"#0d0887\"], [0.1111111111111111, \"#46039f\"], [0.2222222222222222, \"#7201a8\"], [0.3333333333333333, \"#9c179e\"], [0.4444444444444444, \"#bd3786\"], [0.5555555555555556, \"#d8576b\"], [0.6666666666666666, \"#ed7953\"], [0.7777777777777778, \"#fb9f3a\"], [0.8888888888888888, \"#fdca26\"], [1.0, \"#f0f921\"]], \"type\": \"histogram2d\"}], \"histogram2dcontour\": [{\"colorbar\": {\"outlinewidth\": 0, \"ticks\": \"\"}, \"colorscale\": [[0.0, \"#0d0887\"], [0.1111111111111111, \"#46039f\"], [0.2222222222222222, \"#7201a8\"], [0.3333333333333333, \"#9c179e\"], [0.4444444444444444, \"#bd3786\"], [0.5555555555555556, \"#d8576b\"], [0.6666666666666666, \"#ed7953\"], [0.7777777777777778, \"#fb9f3a\"], [0.8888888888888888, \"#fdca26\"], [1.0, \"#f0f921\"]], \"type\": \"histogram2dcontour\"}], \"mesh3d\": [{\"colorbar\": {\"outlinewidth\": 0, \"ticks\": \"\"}, \"type\": \"mesh3d\"}], \"parcoords\": [{\"line\": {\"colorbar\": {\"outlinewidth\": 0, \"ticks\": \"\"}}, \"type\": \"parcoords\"}], \"pie\": [{\"automargin\": true, \"type\": \"pie\"}], \"scatter\": [{\"marker\": {\"colorbar\": {\"outlinewidth\": 0, \"ticks\": \"\"}}, \"type\": \"scatter\"}], \"scatter3d\": [{\"line\": {\"colorbar\": {\"outlinewidth\": 0, \"ticks\": \"\"}}, \"marker\": {\"colorbar\": {\"outlinewidth\": 0, \"ticks\": \"\"}}, \"type\": \"scatter3d\"}], \"scattercarpet\": [{\"marker\": {\"colorbar\": {\"outlinewidth\": 0, \"ticks\": \"\"}}, \"type\": \"scattercarpet\"}], \"scattergeo\": [{\"marker\": {\"colorbar\": {\"outlinewidth\": 0, \"ticks\": \"\"}}, \"type\": \"scattergeo\"}], \"scattergl\": [{\"marker\": {\"colorbar\": {\"outlinewidth\": 0, \"ticks\": \"\"}}, \"type\": \"scattergl\"}], \"scattermapbox\": [{\"marker\": {\"colorbar\": {\"outlinewidth\": 0, \"ticks\": \"\"}}, \"type\": \"scattermapbox\"}], \"scatterpolar\": [{\"marker\": {\"colorbar\": {\"outlinewidth\": 0, \"ticks\": \"\"}}, \"type\": \"scatterpolar\"}], \"scatterpolargl\": [{\"marker\": {\"colorbar\": {\"outlinewidth\": 0, \"ticks\": \"\"}}, \"type\": \"scatterpolargl\"}], \"scatterternary\": [{\"marker\": {\"colorbar\": {\"outlinewidth\": 0, \"ticks\": \"\"}}, \"type\": \"scatterternary\"}], \"surface\": [{\"colorbar\": {\"outlinewidth\": 0, \"ticks\": \"\"}, \"colorscale\": [[0.0, \"#0d0887\"], [0.1111111111111111, \"#46039f\"], [0.2222222222222222, \"#7201a8\"], [0.3333333333333333, \"#9c179e\"], [0.4444444444444444, \"#bd3786\"], [0.5555555555555556, \"#d8576b\"], [0.6666666666666666, \"#ed7953\"], [0.7777777777777778, \"#fb9f3a\"], [0.8888888888888888, \"#fdca26\"], [1.0, \"#f0f921\"]], \"type\": \"surface\"}], \"table\": [{\"cells\": {\"fill\": {\"color\": \"#EBF0F8\"}, \"line\": {\"color\": \"white\"}}, \"header\": {\"fill\": {\"color\": \"#C8D4E3\"}, \"line\": {\"color\": \"white\"}}, \"type\": \"table\"}]}, \"layout\": {\"annotationdefaults\": {\"arrowcolor\": \"#2a3f5f\", \"arrowhead\": 0, \"arrowwidth\": 1}, \"autotypenumbers\": \"strict\", \"coloraxis\": {\"colorbar\": {\"outlinewidth\": 0, \"ticks\": \"\"}}, \"colorscale\": {\"diverging\": [[0, \"#8e0152\"], [0.1, \"#c51b7d\"], [0.2, \"#de77ae\"], [0.3, \"#f1b6da\"], [0.4, \"#fde0ef\"], [0.5, \"#f7f7f7\"], [0.6, \"#e6f5d0\"], [0.7, \"#b8e186\"], [0.8, \"#7fbc41\"], [0.9, \"#4d9221\"], [1, \"#276419\"]], \"sequential\": [[0.0, \"#0d0887\"], [0.1111111111111111, \"#46039f\"], [0.2222222222222222, \"#7201a8\"], [0.3333333333333333, \"#9c179e\"], [0.4444444444444444, \"#bd3786\"], [0.5555555555555556, \"#d8576b\"], [0.6666666666666666, \"#ed7953\"], [0.7777777777777778, \"#fb9f3a\"], [0.8888888888888888, \"#fdca26\"], [1.0, \"#f0f921\"]], \"sequentialminus\": [[0.0, \"#0d0887\"], [0.1111111111111111, \"#46039f\"], [0.2222222222222222, \"#7201a8\"], [0.3333333333333333, \"#9c179e\"], [0.4444444444444444, \"#bd3786\"], [0.5555555555555556, \"#d8576b\"], [0.6666666666666666, \"#ed7953\"], [0.7777777777777778, \"#fb9f3a\"], [0.8888888888888888, \"#fdca26\"], [1.0, \"#f0f921\"]]}, \"colorway\": [\"#636efa\", \"#EF553B\", \"#00cc96\", \"#ab63fa\", \"#FFA15A\", \"#19d3f3\", \"#FF6692\", \"#B6E880\", \"#FF97FF\", \"#FECB52\"], \"font\": {\"color\": \"#2a3f5f\"}, \"geo\": {\"bgcolor\": \"white\", \"lakecolor\": \"white\", \"landcolor\": \"#E5ECF6\", \"showlakes\": true, \"showland\": true, \"subunitcolor\": \"white\"}, \"hoverlabel\": {\"align\": \"left\"}, \"hovermode\": \"closest\", \"mapbox\": {\"style\": \"light\"}, \"paper_bgcolor\": \"white\", \"plot_bgcolor\": \"#E5ECF6\", \"polar\": {\"angularaxis\": {\"gridcolor\": \"white\", \"linecolor\": \"white\", \"ticks\": \"\"}, \"bgcolor\": \"#E5ECF6\", \"radialaxis\": {\"gridcolor\": \"white\", \"linecolor\": \"white\", \"ticks\": \"\"}}, \"scene\": {\"xaxis\": {\"backgroundcolor\": \"#E5ECF6\", \"gridcolor\": \"white\", \"gridwidth\": 2, \"linecolor\": \"white\", \"showbackground\": true, \"ticks\": \"\", \"zerolinecolor\": \"white\"}, \"yaxis\": {\"backgroundcolor\": \"#E5ECF6\", \"gridcolor\": \"white\", \"gridwidth\": 2, \"linecolor\": \"white\", \"showbackground\": true, \"ticks\": \"\", \"zerolinecolor\": \"white\"}, \"zaxis\": {\"backgroundcolor\": \"#E5ECF6\", \"gridcolor\": \"white\", \"gridwidth\": 2, \"linecolor\": \"white\", \"showbackground\": true, \"ticks\": \"\", \"zerolinecolor\": \"white\"}}, \"shapedefaults\": {\"line\": {\"color\": \"#2a3f5f\"}}, \"ternary\": {\"aaxis\": {\"gridcolor\": \"white\", \"linecolor\": \"white\", \"ticks\": \"\"}, \"baxis\": {\"gridcolor\": \"white\", \"linecolor\": \"white\", \"ticks\": \"\"}, \"bgcolor\": \"#E5ECF6\", \"caxis\": {\"gridcolor\": \"white\", \"linecolor\": \"white\", \"ticks\": \"\"}}, \"title\": {\"x\": 0.05}, \"xaxis\": {\"automargin\": true, \"gridcolor\": \"white\", \"linecolor\": \"white\", \"ticks\": \"\", \"title\": {\"standoff\": 15}, \"zerolinecolor\": \"white\", \"zerolinewidth\": 2}, \"yaxis\": {\"automargin\": true, \"gridcolor\": \"white\", \"linecolor\": \"white\", \"ticks\": \"\", \"title\": {\"standoff\": 15}, \"zerolinecolor\": \"white\", \"zerolinewidth\": 2}}}, \"xaxis\": {\"anchor\": \"y\", \"domain\": [0.0, 0.2125]}, \"xaxis10\": {\"anchor\": \"y10\", \"domain\": [0.2625, 0.475]}, \"xaxis11\": {\"anchor\": \"y11\", \"domain\": [0.525, 0.7375]}, \"xaxis12\": {\"anchor\": \"y12\", \"domain\": [0.7875, 1.0]}, \"xaxis13\": {\"anchor\": \"y13\", \"domain\": [0.0, 0.2125]}, \"xaxis14\": {\"anchor\": \"y14\", \"domain\": [0.2625, 0.475]}, \"xaxis15\": {\"anchor\": \"y15\", \"domain\": [0.525, 0.7375]}, \"xaxis16\": {\"anchor\": \"y16\", \"domain\": [0.7875, 1.0]}, \"xaxis17\": {\"anchor\": \"y17\", \"domain\": [0.0, 0.2125]}, \"xaxis18\": {\"anchor\": \"y18\", \"domain\": [0.2625, 0.475]}, \"xaxis19\": {\"anchor\": \"y19\", \"domain\": [0.525, 0.7375]}, \"xaxis2\": {\"anchor\": \"y2\", \"domain\": [0.2625, 0.475]}, \"xaxis20\": {\"anchor\": \"y20\", \"domain\": [0.7875, 1.0]}, \"xaxis3\": {\"anchor\": \"y3\", \"domain\": [0.525, 0.7375]}, \"xaxis4\": {\"anchor\": \"y4\", \"domain\": [0.7875, 1.0]}, \"xaxis5\": {\"anchor\": \"y5\", \"domain\": [0.0, 0.2125]}, \"xaxis6\": {\"anchor\": \"y6\", \"domain\": [0.2625, 0.475]}, \"xaxis7\": {\"anchor\": \"y7\", \"domain\": [0.525, 0.7375]}, \"xaxis8\": {\"anchor\": \"y8\", \"domain\": [0.7875, 1.0]}, \"xaxis9\": {\"anchor\": \"y9\", \"domain\": [0.0, 0.2125]}, \"yaxis\": {\"anchor\": \"x\", \"domain\": [0.88, 1.0]}, \"yaxis10\": {\"anchor\": \"x10\", \"domain\": [0.44, 0.56]}, \"yaxis11\": {\"anchor\": \"x11\", \"domain\": [0.44, 0.56]}, \"yaxis12\": {\"anchor\": \"x12\", \"domain\": [0.44, 0.56]}, \"yaxis13\": {\"anchor\": \"x13\", \"domain\": [0.22, 0.33999999999999997]}, \"yaxis14\": {\"anchor\": \"x14\", \"domain\": [0.22, 0.33999999999999997]}, \"yaxis15\": {\"anchor\": \"x15\", \"domain\": [0.22, 0.33999999999999997]}, \"yaxis16\": {\"anchor\": \"x16\", \"domain\": [0.22, 0.33999999999999997]}, \"yaxis17\": {\"anchor\": \"x17\", \"domain\": [0.0, 0.12]}, \"yaxis18\": {\"anchor\": \"x18\", \"domain\": [0.0, 0.12]}, \"yaxis19\": {\"anchor\": \"x19\", \"domain\": [0.0, 0.12]}, \"yaxis2\": {\"anchor\": \"x2\", \"domain\": [0.88, 1.0]}, \"yaxis20\": {\"anchor\": \"x20\", \"domain\": [0.0, 0.12]}, \"yaxis3\": {\"anchor\": \"x3\", \"domain\": [0.88, 1.0]}, \"yaxis4\": {\"anchor\": \"x4\", \"domain\": [0.88, 1.0]}, \"yaxis5\": {\"anchor\": \"x5\", \"domain\": [0.66, 0.78]}, \"yaxis6\": {\"anchor\": \"x6\", \"domain\": [0.66, 0.78]}, \"yaxis7\": {\"anchor\": \"x7\", \"domain\": [0.66, 0.78]}, \"yaxis8\": {\"anchor\": \"x8\", \"domain\": [0.66, 0.78]}, \"yaxis9\": {\"anchor\": \"x9\", \"domain\": [0.44, 0.56]}},                        {\"responsive\": true}                    ).then(function(){\n",
       "                            \n",
       "var gd = document.getElementById('29e14c66-1a8e-466e-a03f-7db80b184164');\n",
       "var x = new MutationObserver(function (mutations, observer) {{\n",
       "        var display = window.getComputedStyle(gd).display;\n",
       "        if (!display || display === 'none') {{\n",
       "            console.log([gd, 'removed!']);\n",
       "            Plotly.purge(gd);\n",
       "            observer.disconnect();\n",
       "        }}\n",
       "}});\n",
       "\n",
       "// Listen for the removal of the full notebook cells\n",
       "var notebookContainer = gd.closest('#notebook-container');\n",
       "if (notebookContainer) {{\n",
       "    x.observe(notebookContainer, {childList: true});\n",
       "}}\n",
       "\n",
       "// Listen for the clearing of the current output cell\n",
       "var outputEl = gd.closest('.output');\n",
       "if (outputEl) {{\n",
       "    x.observe(outputEl, {childList: true});\n",
       "}}\n",
       "\n",
       "                        })                };                });            </script>        </div>"
      ]
     },
     "metadata": {},
     "output_type": "display_data"
    }
   ],
   "source": [
    "fig = make_subplots(rows=5, cols=4, subplot_titles = feature_inputs)\n",
    "\n",
    "row = 1\n",
    "col = 1\n",
    "# plot the given data\n",
    "for feature_input in range(0, 14):\n",
    "    f_data = []\n",
    "    for t in range(0, 14):\n",
    "        f_data.append(sample_data['input_postcode_6010'][0][t][feature_input])\n",
    "    fig.add_trace(go.Scatter(y = f_data), row=row, col=col)\n",
    "    \n",
    "    if col == 4:\n",
    "        row = row + 1\n",
    "        col = 1\n",
    "    else:\n",
    "        col = col + 1\n",
    "        \n",
    "fig.update_layout(showlegend = False, height = 700)"
   ]
  },
  {
   "cell_type": "code",
   "execution_count": 20,
   "id": "external-premiere",
   "metadata": {},
   "outputs": [
    {
     "data": {
      "application/vnd.plotly.v1+json": {
       "config": {
        "plotlyServerURL": "https://plot.ly"
       },
       "data": [
        {
         "type": "scatter",
         "xaxis": "x",
         "y": [
          -0.5938013195991516,
          -1.2093069553375244,
          -1.069795846939087,
          -0.410478413105011,
          0.2286260575056076,
          0.8629645705223083,
          1.1918922662734985,
          1.4836691617965698,
          1.5945942401885986,
          1.4731004238128662,
          1.3319638967514038,
          0.7419626712799072,
          0.06773354113101959,
          0.15463624894618988
         ],
         "yaxis": "y"
        },
        {
         "type": "scatter",
         "xaxis": "x2",
         "y": [
          0.03838610276579857,
          -0.4519946575164795,
          -0.19651928544044495,
          0.10362497717142105,
          0.9313984513282776,
          1.4770386219024658,
          1.8236596584320068,
          2.1185739040374756,
          2.098766565322876,
          1.9813401699066162,
          1.8418958187103271,
          1.402618169784546,
          0.8111044764518738,
          0.6028886437416077
         ],
         "yaxis": "y2"
        },
        {
         "type": "scatter",
         "xaxis": "x3",
         "y": [
          -0.3114255964756012,
          0.20482276380062103,
          0.4113085865974426,
          0.5048367381095886,
          0.22320376336574554,
          -0.4911997318267822,
          -1.2522556781768799,
          -1.9076149463653564,
          -2.1757707595825195,
          -2.3957834243774414,
          -2.598026990890503,
          -2.672236204147339,
          -2.3486833572387695,
          -1.1036863327026367
         ],
         "yaxis": "y3"
        },
        {
         "type": "scatter",
         "xaxis": "x4",
         "y": [
          0.3152419626712799,
          0.9018695950508118,
          0.6578381657600403,
          0.14491914212703705,
          -0.09074351191520691,
          -0.5376779437065125,
          -0.6361029148101807,
          -0.9434216618537903,
          -0.8380659818649292,
          -0.6322259306907654,
          -0.5659512281417847,
          0.05480629950761795,
          0.10987594723701477,
          0.4151981770992279
         ],
         "yaxis": "y4"
        },
        {
         "type": "scatter",
         "xaxis": "x5",
         "y": [
          0.6061236262321472,
          0.5512876510620117,
          0.22705237567424774,
          -0.03666524216532707,
          -0.17414182424545288,
          -0.10848329216241837,
          0.16230939328670502,
          0.19492512941360474,
          0.2575717866420746,
          0.4135383665561676,
          0.2616252303123474,
          0.557528018951416,
          1.1696363687515259,
          0.909733772277832
         ],
         "yaxis": "y5"
        },
        {
         "type": "scatter",
         "xaxis": "x6",
         "y": [
          -1.342081904411316,
          -1.7735011577606201,
          -2.011765956878662,
          -2.1716532707214355,
          -2.0160017013549805,
          -1.2333877086639404,
          -0.9968305230140686,
          -0.3546763062477112,
          0.1294897198677063,
          0.23864789307117462,
          0.805302619934082,
          1.0126959085464478,
          0.8963656425476074,
          0.07985830307006836
         ],
         "yaxis": "y6"
        },
        {
         "type": "scatter",
         "xaxis": "x7",
         "y": [
          0.13483230769634247,
          0.2593306005001068,
          0.3270051181316376,
          0.3857614994049072,
          0.42914173007011414,
          0.5410318970680237,
          0.5702474117279053,
          0.7278815507888794,
          0.9039204716682434,
          0.6737152934074402,
          0.9029521942138672,
          1.0972366333007812,
          0.6911875605583191,
          0.9917313456535339
         ],
         "yaxis": "y7"
        },
        {
         "type": "scatter",
         "xaxis": "x8",
         "y": [
          -1.0277149677276611,
          -1.6994404792785645,
          -1.6188015937805176,
          -1.1487338542938232,
          -0.7499668002128601,
          -0.42180097103118896,
          -0.12179558724164963,
          -0.1989983171224594,
          0.06146171689033508,
          -0.014841912314295769,
          -0.052355267107486725,
          0.0006508752703666687,
          -0.3719242215156555,
          -0.35574519634246826
         ],
         "yaxis": "y8"
        },
        {
         "type": "scatter",
         "xaxis": "x9",
         "y": [
          0.5231635570526123,
          0.9624714255332947,
          0.6669272780418396,
          0.3582853674888611,
          0.23338547348976135,
          0.011692039668560028,
          -0.12803798913955688,
          -0.15140888094902039,
          -0.30669713020324707,
          0.039532121270895004,
          0.17366790771484375,
          0.10715749859809875,
          0.09374469518661499,
          -0.09837773442268372
         ],
         "yaxis": "y9"
        },
        {
         "type": "scatter",
         "xaxis": "x10",
         "y": [
          -0.5398468375205994,
          -0.2480066418647766,
          -0.25273117423057556,
          -0.23288927972316742,
          -0.8005538582801819,
          -1.501551628112793,
          -1.743363380432129,
          -2.0401716232299805,
          -2.1741247177124023,
          -2.2563555240631104,
          -2.320866107940674,
          -2.1100761890411377,
          -0.89039546251297,
          -0.5748935341835022
         ],
         "yaxis": "y10"
        },
        {
         "type": "scatter",
         "xaxis": "x11",
         "y": [
          -0.3111059069633484,
          0.5108105540275574,
          0.567690908908844,
          0.4315938949584961,
          0.7160773873329163,
          0.9764129519462585,
          0.9708901643753052,
          1.1994225978851318,
          1.0879467725753784,
          0.9875242710113525,
          0.8179154992103577,
          0.4246671199798584,
          0.3462050259113312,
          0.2905748784542084
         ],
         "yaxis": "y11"
        },
        {
         "type": "scatter",
         "xaxis": "x12",
         "y": [
          0.9555276036262512,
          0.9916313886642456,
          1.0544564723968506,
          1.1062666177749634,
          1.069111704826355,
          0.8369739055633545,
          0.7171310782432556,
          0.5426118969917297,
          0.12284182012081146,
          0.23630490899085999,
          -0.12938031554222107,
          -0.37217867374420166,
          0.0629817470908165,
          -0.10902189463376999
         ],
         "yaxis": "y12"
        },
        {
         "type": "scatter",
         "xaxis": "x13",
         "y": [
          -0.4684404134750366,
          -0.4979459345340729,
          -0.6214892268180847,
          -0.7882649302482605,
          -1.147496223449707,
          -1.445845127105713,
          -1.5480445623397827,
          -1.5584406852722168,
          -1.384962797164917,
          -1.1110584735870361,
          -0.9500183463096619,
          -0.7487682104110718,
          -0.6975076794624329,
          -0.6183272004127502
         ],
         "yaxis": "y13"
        },
        {
         "type": "scatter",
         "xaxis": "x14",
         "y": [
          1.3844679594039917,
          1.6313557624816895,
          1.2976001501083374,
          0.6603145599365234,
          -0.052483465522527695,
          -0.391876220703125,
          -0.7639795541763306,
          -1.1729401350021362,
          -1.0581384897232056,
          -1.1358113288879395,
          -0.770715057849884,
          -0.31136539578437805,
          -0.640026330947876,
          -0.43840518593788147
         ],
         "yaxis": "y14"
        },
        {
         "type": "scatter",
         "xaxis": "x15",
         "y": [
          0.4887349307537079,
          0.46359556913375854,
          0.34262096881866455,
          0.31326770782470703,
          0.23463505506515503,
          0.7627031207084656,
          0.9003360867500305,
          0.9945123791694641,
          1.0576698780059814,
          0.5608651041984558,
          0.46063587069511414,
          0.5378468632698059,
          0.38994500041007996,
          -0.3315782845020294
         ],
         "yaxis": "y15"
        },
        {
         "type": "scatter",
         "xaxis": "x16",
         "y": [
          -0.13010874390602112,
          0.8466917872428894,
          0.9455316662788391,
          0.8302167057991028,
          0.49792182445526123,
          0.4068315625190735,
          0.17203228175640106,
          0.03109823353588581,
          0.008037390187382698,
          -0.09349898993968964,
          0.17189793288707733,
          0.0790814459323883,
          0.17506849765777588,
          0.2452719658613205
         ],
         "yaxis": "y16"
        },
        {
         "type": "scatter",
         "xaxis": "x17",
         "y": [
          0.11513318121433258,
          0.036302827298641205,
          0.2240840494632721,
          0.2513686418533325,
          0.5448101758956909,
          0.5269102454185486,
          0.8197711706161499,
          0.9995638132095337,
          0.7825210094451904,
          0.9083486795425415,
          0.9374043941497803,
          0.6756881475448608,
          0.7612624168395996,
          0.39688533544540405
         ],
         "yaxis": "y17"
        },
        {
         "type": "scatter",
         "xaxis": "x18",
         "y": [
          -0.4866352677345276,
          -0.14270730316638947,
          -0.05934862792491913,
          -0.040765367448329926,
          -0.566886305809021,
          -1.2072241306304932,
          -1.5898381471633911,
          -1.8929095268249512,
          -1.8001837730407715,
          -1.8735259771347046,
          -1.929720163345337,
          -1.49332857131958,
          -0.8457849025726318,
          -0.5973390340805054
         ],
         "yaxis": "y18"
        },
        {
         "type": "scatter",
         "xaxis": "x19",
         "y": [
          0.2493276447057724,
          0.4824531078338623,
          0.606606125831604,
          0.5838953852653503,
          0.39886993169784546,
          0.2517293393611908,
          0.0341339036822319,
          0.010877244174480438,
          -0.08108308166265488,
          -0.3650246858596802,
          -0.5415331125259399,
          -0.8291419744491577,
          -0.6770871877670288,
          0.06744804978370667
         ],
         "yaxis": "y19"
        },
        {
         "type": "scatter",
         "xaxis": "x20",
         "y": [
          -0.4170685112476349,
          0.298628568649292,
          0.7172780632972717,
          0.9815980195999146,
          1.1785526275634766,
          1.109968662261963,
          1.215902328491211,
          1.007556438446045,
          0.9011476039886475,
          0.8707179427146912,
          0.2965308427810669,
          -0.07821722328662872,
          -0.3528151512145996,
          -0.45656368136405945
         ],
         "yaxis": "y20"
        },
        {
         "type": "scatter",
         "xaxis": "x21",
         "y": [
          1.0333210229873657,
          0.6608718037605286,
          0.7445882558822632,
          1.0715314149856567,
          1.4673616886138916,
          1.6955739259719849,
          2.0552139282226562,
          2.112229824066162,
          2.036135196685791,
          2.063983678817749,
          1.8728060722351074,
          1.6414542198181152,
          1.3079091310501099,
          1.1414843797683716
         ],
         "yaxis": "y21"
        },
        {
         "type": "scatter",
         "xaxis": "x22",
         "y": [
          0.29110395908355713,
          0.12484912574291229,
          0.1211378276348114,
          -0.1878598928451538,
          -0.1749800443649292,
          -0.23940928280353546,
          -0.5371212959289551,
          -0.6126676201820374,
          -0.6231189966201782,
          -0.6399059891700745,
          -0.5684512853622437,
          -0.32192936539649963,
          -0.3110196888446808,
          -0.4686059057712555
         ],
         "yaxis": "y22"
        },
        {
         "type": "scatter",
         "xaxis": "x23",
         "y": [
          -1.2190085649490356,
          -0.9615976810455322,
          -0.6889429688453674,
          -0.7890401482582092,
          -0.9203816056251526,
          -1.3107547760009766,
          -1.587720274925232,
          -1.2034878730773926,
          -1.1622703075408936,
          -1.1216676235198975,
          -1.0197933912277222,
          -1.1955487728118896,
          -1.1283875703811646,
          -0.2862929701805115
         ],
         "yaxis": "y23"
        },
        {
         "type": "scatter",
         "xaxis": "x24",
         "y": [
          -0.836448073387146,
          -0.8394123315811157,
          -0.9076479077339172,
          -1.1407517194747925,
          -1.498753547668457,
          -1.7011632919311523,
          -1.6042946577072144,
          -1.6755951642990112,
          -1.6101784706115723,
          -1.2466328144073486,
          -1.1321485042572021,
          -1.0198243856430054,
          -0.6718620657920837,
          -0.47428902983665466
         ],
         "yaxis": "y24"
        },
        {
         "type": "scatter",
         "xaxis": "x25",
         "y": [
          -2.03523325920105,
          -1.9483743906021118,
          -1.653740644454956,
          -1.1185922622680664,
          -0.3905358910560608,
          0.33028969168663025,
          0.6957520842552185,
          1.057877779006958,
          1.135852336883545,
          1.1774097681045532,
          0.9738280177116394,
          0.3915833532810211,
          -0.12867364287376404,
          -0.055606573820114136
         ],
         "yaxis": "y25"
        },
        {
         "type": "scatter",
         "xaxis": "x26",
         "y": [
          -0.8375774025917053,
          -0.7813100814819336,
          -0.256381630897522,
          0.23548798263072968,
          0.7123205661773682,
          1.2156368494033813,
          1.4237812757492065,
          1.5263628959655762,
          1.4489282369613647,
          1.425112009048462,
          1.082974910736084,
          0.43589356541633606,
          0.3328745365142822,
          -0.0047647058963775635
         ],
         "yaxis": "y26"
        },
        {
         "type": "scatter",
         "xaxis": "x27",
         "y": [
          0.5726915001869202,
          0.2961040437221527,
          -0.0022628321312367916,
          -0.2266671508550644,
          -0.5446902513504028,
          -0.18540096282958984,
          -0.26482170820236206,
          -0.2796887159347534,
          -0.152673602104187,
          -0.23166175186634064,
          0.2745228707790375,
          0.39160895347595215,
          0.2623637914657593,
          -0.42431673407554626
         ],
         "yaxis": "y27"
        },
        {
         "type": "scatter",
         "xaxis": "x28",
         "y": [
          -0.7463882565498352,
          -1.2077573537826538,
          -1.4638335704803467,
          -1.4560589790344238,
          -1.4397648572921753,
          -1.099345088005066,
          -0.7875990867614746,
          -0.7972795963287354,
          -0.46653804183006287,
          -0.4649523198604584,
          -0.39012500643730164,
          -0.19539478421211243,
          -0.3414871096611023,
          -0.5411289930343628
         ],
         "yaxis": "y28"
        },
        {
         "type": "scatter",
         "xaxis": "x29",
         "y": [
          -0.27887898683547974,
          -0.18260931968688965,
          0.09500367939472198,
          0.7354477643966675,
          0.8013965487480164,
          0.5367284417152405,
          0.6608307957649231,
          0.15329274535179138,
          0.08879262208938599,
          -0.2539239227771759,
          -0.5186794400215149,
          -0.8069188594818115,
          -0.9693914651870728,
          -0.7271407246589661
         ],
         "yaxis": "y29"
        },
        {
         "type": "scatter",
         "xaxis": "x30",
         "y": [
          0.173423171043396,
          -0.3447076082229614,
          -0.30202019214630127,
          -0.14089760184288025,
          -0.07813306897878647,
          -0.40156662464141846,
          -0.8496568202972412,
          -0.8543246388435364,
          -0.8252835869789124,
          -0.942348301410675,
          -1.0708591938018799,
          -1.1096922159194946,
          -0.7343190312385559,
          0.06852275133132935
         ],
         "yaxis": "y30"
        },
        {
         "type": "scatter",
         "xaxis": "x31",
         "y": [
          1.2499994039535522,
          1.3279269933700562,
          0.7895381450653076,
          0.019979167729616165,
          -1.022531509399414,
          -2.005035877227783,
          -2.5432064533233643,
          -3.0119011402130127,
          -2.8893887996673584,
          -3.0238254070281982,
          -2.5393564701080322,
          -1.6125385761260986,
          -1.3538322448730469,
          -0.6601694226264954
         ],
         "yaxis": "y31"
        },
        {
         "type": "scatter",
         "xaxis": "x32",
         "y": [
          0.6493025422096252,
          1.3567626476287842,
          1.3624833822250366,
          1.187774896621704,
          1.251050591468811,
          1.0103017091751099,
          1.1440160274505615,
          0.8975368142127991,
          0.7787394523620605,
          0.7738156914710999,
          0.4073813557624817,
          0.5274264216423035,
          0.19516432285308838,
          0.4175138771533966
         ],
         "yaxis": "y32"
        }
       ],
       "layout": {
        "annotations": [
         {
          "font": {
           "size": 16
          },
          "showarrow": false,
          "text": "Filters",
          "x": 0.36875,
          "xanchor": "center",
          "xref": "paper",
          "y": 1,
          "yanchor": "bottom",
          "yref": "paper"
         }
        ],
        "height": 1000,
        "showlegend": false,
        "template": {
         "data": {
          "bar": [
           {
            "error_x": {
             "color": "#2a3f5f"
            },
            "error_y": {
             "color": "#2a3f5f"
            },
            "marker": {
             "line": {
              "color": "#E5ECF6",
              "width": 0.5
             }
            },
            "type": "bar"
           }
          ],
          "barpolar": [
           {
            "marker": {
             "line": {
              "color": "#E5ECF6",
              "width": 0.5
             }
            },
            "type": "barpolar"
           }
          ],
          "carpet": [
           {
            "aaxis": {
             "endlinecolor": "#2a3f5f",
             "gridcolor": "white",
             "linecolor": "white",
             "minorgridcolor": "white",
             "startlinecolor": "#2a3f5f"
            },
            "baxis": {
             "endlinecolor": "#2a3f5f",
             "gridcolor": "white",
             "linecolor": "white",
             "minorgridcolor": "white",
             "startlinecolor": "#2a3f5f"
            },
            "type": "carpet"
           }
          ],
          "choropleth": [
           {
            "colorbar": {
             "outlinewidth": 0,
             "ticks": ""
            },
            "type": "choropleth"
           }
          ],
          "contour": [
           {
            "colorbar": {
             "outlinewidth": 0,
             "ticks": ""
            },
            "colorscale": [
             [
              0,
              "#0d0887"
             ],
             [
              0.1111111111111111,
              "#46039f"
             ],
             [
              0.2222222222222222,
              "#7201a8"
             ],
             [
              0.3333333333333333,
              "#9c179e"
             ],
             [
              0.4444444444444444,
              "#bd3786"
             ],
             [
              0.5555555555555556,
              "#d8576b"
             ],
             [
              0.6666666666666666,
              "#ed7953"
             ],
             [
              0.7777777777777778,
              "#fb9f3a"
             ],
             [
              0.8888888888888888,
              "#fdca26"
             ],
             [
              1,
              "#f0f921"
             ]
            ],
            "type": "contour"
           }
          ],
          "contourcarpet": [
           {
            "colorbar": {
             "outlinewidth": 0,
             "ticks": ""
            },
            "type": "contourcarpet"
           }
          ],
          "heatmap": [
           {
            "colorbar": {
             "outlinewidth": 0,
             "ticks": ""
            },
            "colorscale": [
             [
              0,
              "#0d0887"
             ],
             [
              0.1111111111111111,
              "#46039f"
             ],
             [
              0.2222222222222222,
              "#7201a8"
             ],
             [
              0.3333333333333333,
              "#9c179e"
             ],
             [
              0.4444444444444444,
              "#bd3786"
             ],
             [
              0.5555555555555556,
              "#d8576b"
             ],
             [
              0.6666666666666666,
              "#ed7953"
             ],
             [
              0.7777777777777778,
              "#fb9f3a"
             ],
             [
              0.8888888888888888,
              "#fdca26"
             ],
             [
              1,
              "#f0f921"
             ]
            ],
            "type": "heatmap"
           }
          ],
          "heatmapgl": [
           {
            "colorbar": {
             "outlinewidth": 0,
             "ticks": ""
            },
            "colorscale": [
             [
              0,
              "#0d0887"
             ],
             [
              0.1111111111111111,
              "#46039f"
             ],
             [
              0.2222222222222222,
              "#7201a8"
             ],
             [
              0.3333333333333333,
              "#9c179e"
             ],
             [
              0.4444444444444444,
              "#bd3786"
             ],
             [
              0.5555555555555556,
              "#d8576b"
             ],
             [
              0.6666666666666666,
              "#ed7953"
             ],
             [
              0.7777777777777778,
              "#fb9f3a"
             ],
             [
              0.8888888888888888,
              "#fdca26"
             ],
             [
              1,
              "#f0f921"
             ]
            ],
            "type": "heatmapgl"
           }
          ],
          "histogram": [
           {
            "marker": {
             "colorbar": {
              "outlinewidth": 0,
              "ticks": ""
             }
            },
            "type": "histogram"
           }
          ],
          "histogram2d": [
           {
            "colorbar": {
             "outlinewidth": 0,
             "ticks": ""
            },
            "colorscale": [
             [
              0,
              "#0d0887"
             ],
             [
              0.1111111111111111,
              "#46039f"
             ],
             [
              0.2222222222222222,
              "#7201a8"
             ],
             [
              0.3333333333333333,
              "#9c179e"
             ],
             [
              0.4444444444444444,
              "#bd3786"
             ],
             [
              0.5555555555555556,
              "#d8576b"
             ],
             [
              0.6666666666666666,
              "#ed7953"
             ],
             [
              0.7777777777777778,
              "#fb9f3a"
             ],
             [
              0.8888888888888888,
              "#fdca26"
             ],
             [
              1,
              "#f0f921"
             ]
            ],
            "type": "histogram2d"
           }
          ],
          "histogram2dcontour": [
           {
            "colorbar": {
             "outlinewidth": 0,
             "ticks": ""
            },
            "colorscale": [
             [
              0,
              "#0d0887"
             ],
             [
              0.1111111111111111,
              "#46039f"
             ],
             [
              0.2222222222222222,
              "#7201a8"
             ],
             [
              0.3333333333333333,
              "#9c179e"
             ],
             [
              0.4444444444444444,
              "#bd3786"
             ],
             [
              0.5555555555555556,
              "#d8576b"
             ],
             [
              0.6666666666666666,
              "#ed7953"
             ],
             [
              0.7777777777777778,
              "#fb9f3a"
             ],
             [
              0.8888888888888888,
              "#fdca26"
             ],
             [
              1,
              "#f0f921"
             ]
            ],
            "type": "histogram2dcontour"
           }
          ],
          "mesh3d": [
           {
            "colorbar": {
             "outlinewidth": 0,
             "ticks": ""
            },
            "type": "mesh3d"
           }
          ],
          "parcoords": [
           {
            "line": {
             "colorbar": {
              "outlinewidth": 0,
              "ticks": ""
             }
            },
            "type": "parcoords"
           }
          ],
          "pie": [
           {
            "automargin": true,
            "type": "pie"
           }
          ],
          "scatter": [
           {
            "marker": {
             "colorbar": {
              "outlinewidth": 0,
              "ticks": ""
             }
            },
            "type": "scatter"
           }
          ],
          "scatter3d": [
           {
            "line": {
             "colorbar": {
              "outlinewidth": 0,
              "ticks": ""
             }
            },
            "marker": {
             "colorbar": {
              "outlinewidth": 0,
              "ticks": ""
             }
            },
            "type": "scatter3d"
           }
          ],
          "scattercarpet": [
           {
            "marker": {
             "colorbar": {
              "outlinewidth": 0,
              "ticks": ""
             }
            },
            "type": "scattercarpet"
           }
          ],
          "scattergeo": [
           {
            "marker": {
             "colorbar": {
              "outlinewidth": 0,
              "ticks": ""
             }
            },
            "type": "scattergeo"
           }
          ],
          "scattergl": [
           {
            "marker": {
             "colorbar": {
              "outlinewidth": 0,
              "ticks": ""
             }
            },
            "type": "scattergl"
           }
          ],
          "scattermapbox": [
           {
            "marker": {
             "colorbar": {
              "outlinewidth": 0,
              "ticks": ""
             }
            },
            "type": "scattermapbox"
           }
          ],
          "scatterpolar": [
           {
            "marker": {
             "colorbar": {
              "outlinewidth": 0,
              "ticks": ""
             }
            },
            "type": "scatterpolar"
           }
          ],
          "scatterpolargl": [
           {
            "marker": {
             "colorbar": {
              "outlinewidth": 0,
              "ticks": ""
             }
            },
            "type": "scatterpolargl"
           }
          ],
          "scatterternary": [
           {
            "marker": {
             "colorbar": {
              "outlinewidth": 0,
              "ticks": ""
             }
            },
            "type": "scatterternary"
           }
          ],
          "surface": [
           {
            "colorbar": {
             "outlinewidth": 0,
             "ticks": ""
            },
            "colorscale": [
             [
              0,
              "#0d0887"
             ],
             [
              0.1111111111111111,
              "#46039f"
             ],
             [
              0.2222222222222222,
              "#7201a8"
             ],
             [
              0.3333333333333333,
              "#9c179e"
             ],
             [
              0.4444444444444444,
              "#bd3786"
             ],
             [
              0.5555555555555556,
              "#d8576b"
             ],
             [
              0.6666666666666666,
              "#ed7953"
             ],
             [
              0.7777777777777778,
              "#fb9f3a"
             ],
             [
              0.8888888888888888,
              "#fdca26"
             ],
             [
              1,
              "#f0f921"
             ]
            ],
            "type": "surface"
           }
          ],
          "table": [
           {
            "cells": {
             "fill": {
              "color": "#EBF0F8"
             },
             "line": {
              "color": "white"
             }
            },
            "header": {
             "fill": {
              "color": "#C8D4E3"
             },
             "line": {
              "color": "white"
             }
            },
            "type": "table"
           }
          ]
         },
         "layout": {
          "annotationdefaults": {
           "arrowcolor": "#2a3f5f",
           "arrowhead": 0,
           "arrowwidth": 1
          },
          "autotypenumbers": "strict",
          "coloraxis": {
           "colorbar": {
            "outlinewidth": 0,
            "ticks": ""
           }
          },
          "colorscale": {
           "diverging": [
            [
             0,
             "#8e0152"
            ],
            [
             0.1,
             "#c51b7d"
            ],
            [
             0.2,
             "#de77ae"
            ],
            [
             0.3,
             "#f1b6da"
            ],
            [
             0.4,
             "#fde0ef"
            ],
            [
             0.5,
             "#f7f7f7"
            ],
            [
             0.6,
             "#e6f5d0"
            ],
            [
             0.7,
             "#b8e186"
            ],
            [
             0.8,
             "#7fbc41"
            ],
            [
             0.9,
             "#4d9221"
            ],
            [
             1,
             "#276419"
            ]
           ],
           "sequential": [
            [
             0,
             "#0d0887"
            ],
            [
             0.1111111111111111,
             "#46039f"
            ],
            [
             0.2222222222222222,
             "#7201a8"
            ],
            [
             0.3333333333333333,
             "#9c179e"
            ],
            [
             0.4444444444444444,
             "#bd3786"
            ],
            [
             0.5555555555555556,
             "#d8576b"
            ],
            [
             0.6666666666666666,
             "#ed7953"
            ],
            [
             0.7777777777777778,
             "#fb9f3a"
            ],
            [
             0.8888888888888888,
             "#fdca26"
            ],
            [
             1,
             "#f0f921"
            ]
           ],
           "sequentialminus": [
            [
             0,
             "#0d0887"
            ],
            [
             0.1111111111111111,
             "#46039f"
            ],
            [
             0.2222222222222222,
             "#7201a8"
            ],
            [
             0.3333333333333333,
             "#9c179e"
            ],
            [
             0.4444444444444444,
             "#bd3786"
            ],
            [
             0.5555555555555556,
             "#d8576b"
            ],
            [
             0.6666666666666666,
             "#ed7953"
            ],
            [
             0.7777777777777778,
             "#fb9f3a"
            ],
            [
             0.8888888888888888,
             "#fdca26"
            ],
            [
             1,
             "#f0f921"
            ]
           ]
          },
          "colorway": [
           "#636efa",
           "#EF553B",
           "#00cc96",
           "#ab63fa",
           "#FFA15A",
           "#19d3f3",
           "#FF6692",
           "#B6E880",
           "#FF97FF",
           "#FECB52"
          ],
          "font": {
           "color": "#2a3f5f"
          },
          "geo": {
           "bgcolor": "white",
           "lakecolor": "white",
           "landcolor": "#E5ECF6",
           "showlakes": true,
           "showland": true,
           "subunitcolor": "white"
          },
          "hoverlabel": {
           "align": "left"
          },
          "hovermode": "closest",
          "mapbox": {
           "style": "light"
          },
          "paper_bgcolor": "white",
          "plot_bgcolor": "#E5ECF6",
          "polar": {
           "angularaxis": {
            "gridcolor": "white",
            "linecolor": "white",
            "ticks": ""
           },
           "bgcolor": "#E5ECF6",
           "radialaxis": {
            "gridcolor": "white",
            "linecolor": "white",
            "ticks": ""
           }
          },
          "scene": {
           "xaxis": {
            "backgroundcolor": "#E5ECF6",
            "gridcolor": "white",
            "gridwidth": 2,
            "linecolor": "white",
            "showbackground": true,
            "ticks": "",
            "zerolinecolor": "white"
           },
           "yaxis": {
            "backgroundcolor": "#E5ECF6",
            "gridcolor": "white",
            "gridwidth": 2,
            "linecolor": "white",
            "showbackground": true,
            "ticks": "",
            "zerolinecolor": "white"
           },
           "zaxis": {
            "backgroundcolor": "#E5ECF6",
            "gridcolor": "white",
            "gridwidth": 2,
            "linecolor": "white",
            "showbackground": true,
            "ticks": "",
            "zerolinecolor": "white"
           }
          },
          "shapedefaults": {
           "line": {
            "color": "#2a3f5f"
           }
          },
          "ternary": {
           "aaxis": {
            "gridcolor": "white",
            "linecolor": "white",
            "ticks": ""
           },
           "baxis": {
            "gridcolor": "white",
            "linecolor": "white",
            "ticks": ""
           },
           "bgcolor": "#E5ECF6",
           "caxis": {
            "gridcolor": "white",
            "linecolor": "white",
            "ticks": ""
           }
          },
          "title": {
           "x": 0.05
          },
          "xaxis": {
           "automargin": true,
           "gridcolor": "white",
           "linecolor": "white",
           "ticks": "",
           "title": {
            "standoff": 15
           },
           "zerolinecolor": "white",
           "zerolinewidth": 2
          },
          "yaxis": {
           "automargin": true,
           "gridcolor": "white",
           "linecolor": "white",
           "ticks": "",
           "title": {
            "standoff": 15
           },
           "zerolinecolor": "white",
           "zerolinewidth": 2
          }
         }
        },
        "xaxis": {
         "anchor": "y",
         "domain": [
          0,
          0.2125
         ]
        },
        "xaxis10": {
         "anchor": "y10",
         "domain": [
          0.2625,
          0.475
         ]
        },
        "xaxis11": {
         "anchor": "y11",
         "domain": [
          0.525,
          0.7375
         ]
        },
        "xaxis12": {
         "anchor": "y12",
         "domain": [
          0.7875,
          1
         ]
        },
        "xaxis13": {
         "anchor": "y13",
         "domain": [
          0,
          0.2125
         ]
        },
        "xaxis14": {
         "anchor": "y14",
         "domain": [
          0.2625,
          0.475
         ]
        },
        "xaxis15": {
         "anchor": "y15",
         "domain": [
          0.525,
          0.7375
         ]
        },
        "xaxis16": {
         "anchor": "y16",
         "domain": [
          0.7875,
          1
         ]
        },
        "xaxis17": {
         "anchor": "y17",
         "domain": [
          0,
          0.2125
         ]
        },
        "xaxis18": {
         "anchor": "y18",
         "domain": [
          0.2625,
          0.475
         ]
        },
        "xaxis19": {
         "anchor": "y19",
         "domain": [
          0.525,
          0.7375
         ]
        },
        "xaxis2": {
         "anchor": "y2",
         "domain": [
          0.2625,
          0.475
         ]
        },
        "xaxis20": {
         "anchor": "y20",
         "domain": [
          0.7875,
          1
         ]
        },
        "xaxis21": {
         "anchor": "y21",
         "domain": [
          0,
          0.2125
         ]
        },
        "xaxis22": {
         "anchor": "y22",
         "domain": [
          0.2625,
          0.475
         ]
        },
        "xaxis23": {
         "anchor": "y23",
         "domain": [
          0.525,
          0.7375
         ]
        },
        "xaxis24": {
         "anchor": "y24",
         "domain": [
          0.7875,
          1
         ]
        },
        "xaxis25": {
         "anchor": "y25",
         "domain": [
          0,
          0.2125
         ]
        },
        "xaxis26": {
         "anchor": "y26",
         "domain": [
          0.2625,
          0.475
         ]
        },
        "xaxis27": {
         "anchor": "y27",
         "domain": [
          0.525,
          0.7375
         ]
        },
        "xaxis28": {
         "anchor": "y28",
         "domain": [
          0.7875,
          1
         ]
        },
        "xaxis29": {
         "anchor": "y29",
         "domain": [
          0,
          0.2125
         ]
        },
        "xaxis3": {
         "anchor": "y3",
         "domain": [
          0.525,
          0.7375
         ]
        },
        "xaxis30": {
         "anchor": "y30",
         "domain": [
          0.2625,
          0.475
         ]
        },
        "xaxis31": {
         "anchor": "y31",
         "domain": [
          0.525,
          0.7375
         ]
        },
        "xaxis32": {
         "anchor": "y32",
         "domain": [
          0.7875,
          1
         ]
        },
        "xaxis4": {
         "anchor": "y4",
         "domain": [
          0.7875,
          1
         ]
        },
        "xaxis5": {
         "anchor": "y5",
         "domain": [
          0,
          0.2125
         ]
        },
        "xaxis6": {
         "anchor": "y6",
         "domain": [
          0.2625,
          0.475
         ]
        },
        "xaxis7": {
         "anchor": "y7",
         "domain": [
          0.525,
          0.7375
         ]
        },
        "xaxis8": {
         "anchor": "y8",
         "domain": [
          0.7875,
          1
         ]
        },
        "xaxis9": {
         "anchor": "y9",
         "domain": [
          0,
          0.2125
         ]
        },
        "yaxis": {
         "anchor": "x",
         "domain": [
          0.9296875,
          1
         ]
        },
        "yaxis10": {
         "anchor": "x10",
         "domain": [
          0.6640625,
          0.734375
         ]
        },
        "yaxis11": {
         "anchor": "x11",
         "domain": [
          0.6640625,
          0.734375
         ]
        },
        "yaxis12": {
         "anchor": "x12",
         "domain": [
          0.6640625,
          0.734375
         ]
        },
        "yaxis13": {
         "anchor": "x13",
         "domain": [
          0.53125,
          0.6015625
         ]
        },
        "yaxis14": {
         "anchor": "x14",
         "domain": [
          0.53125,
          0.6015625
         ]
        },
        "yaxis15": {
         "anchor": "x15",
         "domain": [
          0.53125,
          0.6015625
         ]
        },
        "yaxis16": {
         "anchor": "x16",
         "domain": [
          0.53125,
          0.6015625
         ]
        },
        "yaxis17": {
         "anchor": "x17",
         "domain": [
          0.3984375,
          0.46875
         ]
        },
        "yaxis18": {
         "anchor": "x18",
         "domain": [
          0.3984375,
          0.46875
         ]
        },
        "yaxis19": {
         "anchor": "x19",
         "domain": [
          0.3984375,
          0.46875
         ]
        },
        "yaxis2": {
         "anchor": "x2",
         "domain": [
          0.9296875,
          1
         ]
        },
        "yaxis20": {
         "anchor": "x20",
         "domain": [
          0.3984375,
          0.46875
         ]
        },
        "yaxis21": {
         "anchor": "x21",
         "domain": [
          0.265625,
          0.3359375
         ]
        },
        "yaxis22": {
         "anchor": "x22",
         "domain": [
          0.265625,
          0.3359375
         ]
        },
        "yaxis23": {
         "anchor": "x23",
         "domain": [
          0.265625,
          0.3359375
         ]
        },
        "yaxis24": {
         "anchor": "x24",
         "domain": [
          0.265625,
          0.3359375
         ]
        },
        "yaxis25": {
         "anchor": "x25",
         "domain": [
          0.1328125,
          0.203125
         ]
        },
        "yaxis26": {
         "anchor": "x26",
         "domain": [
          0.1328125,
          0.203125
         ]
        },
        "yaxis27": {
         "anchor": "x27",
         "domain": [
          0.1328125,
          0.203125
         ]
        },
        "yaxis28": {
         "anchor": "x28",
         "domain": [
          0.1328125,
          0.203125
         ]
        },
        "yaxis29": {
         "anchor": "x29",
         "domain": [
          0,
          0.0703125
         ]
        },
        "yaxis3": {
         "anchor": "x3",
         "domain": [
          0.9296875,
          1
         ]
        },
        "yaxis30": {
         "anchor": "x30",
         "domain": [
          0,
          0.0703125
         ]
        },
        "yaxis31": {
         "anchor": "x31",
         "domain": [
          0,
          0.0703125
         ]
        },
        "yaxis32": {
         "anchor": "x32",
         "domain": [
          0,
          0.0703125
         ]
        },
        "yaxis4": {
         "anchor": "x4",
         "domain": [
          0.9296875,
          1
         ]
        },
        "yaxis5": {
         "anchor": "x5",
         "domain": [
          0.796875,
          0.8671875
         ]
        },
        "yaxis6": {
         "anchor": "x6",
         "domain": [
          0.796875,
          0.8671875
         ]
        },
        "yaxis7": {
         "anchor": "x7",
         "domain": [
          0.796875,
          0.8671875
         ]
        },
        "yaxis8": {
         "anchor": "x8",
         "domain": [
          0.796875,
          0.8671875
         ]
        },
        "yaxis9": {
         "anchor": "x9",
         "domain": [
          0.6640625,
          0.734375
         ]
        }
       }
      },
      "text/html": [
       "<div>                            <div id=\"655bee69-334c-424d-8a63-16d9bf55e0fe\" class=\"plotly-graph-div\" style=\"height:1000px; width:100%;\"></div>            <script type=\"text/javascript\">                require([\"plotly\"], function(Plotly) {                    window.PLOTLYENV=window.PLOTLYENV || {};                                    if (document.getElementById(\"655bee69-334c-424d-8a63-16d9bf55e0fe\")) {                    Plotly.newPlot(                        \"655bee69-334c-424d-8a63-16d9bf55e0fe\",                        [{\"type\": \"scatter\", \"xaxis\": \"x\", \"y\": [-0.5938013195991516, -1.2093069553375244, -1.069795846939087, -0.410478413105011, 0.2286260575056076, 0.8629645705223083, 1.1918922662734985, 1.4836691617965698, 1.5945942401885986, 1.4731004238128662, 1.3319638967514038, 0.7419626712799072, 0.06773354113101959, 0.15463624894618988], \"yaxis\": \"y\"}, {\"type\": \"scatter\", \"xaxis\": \"x2\", \"y\": [0.03838610276579857, -0.4519946575164795, -0.19651928544044495, 0.10362497717142105, 0.9313984513282776, 1.4770386219024658, 1.8236596584320068, 2.1185739040374756, 2.098766565322876, 1.9813401699066162, 1.8418958187103271, 1.402618169784546, 0.8111044764518738, 0.6028886437416077], \"yaxis\": \"y2\"}, {\"type\": \"scatter\", \"xaxis\": \"x3\", \"y\": [-0.3114255964756012, 0.20482276380062103, 0.4113085865974426, 0.5048367381095886, 0.22320376336574554, -0.4911997318267822, -1.2522556781768799, -1.9076149463653564, -2.1757707595825195, -2.3957834243774414, -2.598026990890503, -2.672236204147339, -2.3486833572387695, -1.1036863327026367], \"yaxis\": \"y3\"}, {\"type\": \"scatter\", \"xaxis\": \"x4\", \"y\": [0.3152419626712799, 0.9018695950508118, 0.6578381657600403, 0.14491914212703705, -0.09074351191520691, -0.5376779437065125, -0.6361029148101807, -0.9434216618537903, -0.8380659818649292, -0.6322259306907654, -0.5659512281417847, 0.05480629950761795, 0.10987594723701477, 0.4151981770992279], \"yaxis\": \"y4\"}, {\"type\": \"scatter\", \"xaxis\": \"x5\", \"y\": [0.6061236262321472, 0.5512876510620117, 0.22705237567424774, -0.03666524216532707, -0.17414182424545288, -0.10848329216241837, 0.16230939328670502, 0.19492512941360474, 0.2575717866420746, 0.4135383665561676, 0.2616252303123474, 0.557528018951416, 1.1696363687515259, 0.909733772277832], \"yaxis\": \"y5\"}, {\"type\": \"scatter\", \"xaxis\": \"x6\", \"y\": [-1.342081904411316, -1.7735011577606201, -2.011765956878662, -2.1716532707214355, -2.0160017013549805, -1.2333877086639404, -0.9968305230140686, -0.3546763062477112, 0.1294897198677063, 0.23864789307117462, 0.805302619934082, 1.0126959085464478, 0.8963656425476074, 0.07985830307006836], \"yaxis\": \"y6\"}, {\"type\": \"scatter\", \"xaxis\": \"x7\", \"y\": [0.13483230769634247, 0.2593306005001068, 0.3270051181316376, 0.3857614994049072, 0.42914173007011414, 0.5410318970680237, 0.5702474117279053, 0.7278815507888794, 0.9039204716682434, 0.6737152934074402, 0.9029521942138672, 1.0972366333007812, 0.6911875605583191, 0.9917313456535339], \"yaxis\": \"y7\"}, {\"type\": \"scatter\", \"xaxis\": \"x8\", \"y\": [-1.0277149677276611, -1.6994404792785645, -1.6188015937805176, -1.1487338542938232, -0.7499668002128601, -0.42180097103118896, -0.12179558724164963, -0.1989983171224594, 0.06146171689033508, -0.014841912314295769, -0.052355267107486725, 0.0006508752703666687, -0.3719242215156555, -0.35574519634246826], \"yaxis\": \"y8\"}, {\"type\": \"scatter\", \"xaxis\": \"x9\", \"y\": [0.5231635570526123, 0.9624714255332947, 0.6669272780418396, 0.3582853674888611, 0.23338547348976135, 0.011692039668560028, -0.12803798913955688, -0.15140888094902039, -0.30669713020324707, 0.039532121270895004, 0.17366790771484375, 0.10715749859809875, 0.09374469518661499, -0.09837773442268372], \"yaxis\": \"y9\"}, {\"type\": \"scatter\", \"xaxis\": \"x10\", \"y\": [-0.5398468375205994, -0.2480066418647766, -0.25273117423057556, -0.23288927972316742, -0.8005538582801819, -1.501551628112793, -1.743363380432129, -2.0401716232299805, -2.1741247177124023, -2.2563555240631104, -2.320866107940674, -2.1100761890411377, -0.89039546251297, -0.5748935341835022], \"yaxis\": \"y10\"}, {\"type\": \"scatter\", \"xaxis\": \"x11\", \"y\": [-0.3111059069633484, 0.5108105540275574, 0.567690908908844, 0.4315938949584961, 0.7160773873329163, 0.9764129519462585, 0.9708901643753052, 1.1994225978851318, 1.0879467725753784, 0.9875242710113525, 0.8179154992103577, 0.4246671199798584, 0.3462050259113312, 0.2905748784542084], \"yaxis\": \"y11\"}, {\"type\": \"scatter\", \"xaxis\": \"x12\", \"y\": [0.9555276036262512, 0.9916313886642456, 1.0544564723968506, 1.1062666177749634, 1.069111704826355, 0.8369739055633545, 0.7171310782432556, 0.5426118969917297, 0.12284182012081146, 0.23630490899085999, -0.12938031554222107, -0.37217867374420166, 0.0629817470908165, -0.10902189463376999], \"yaxis\": \"y12\"}, {\"type\": \"scatter\", \"xaxis\": \"x13\", \"y\": [-0.4684404134750366, -0.4979459345340729, -0.6214892268180847, -0.7882649302482605, -1.147496223449707, -1.445845127105713, -1.5480445623397827, -1.5584406852722168, -1.384962797164917, -1.1110584735870361, -0.9500183463096619, -0.7487682104110718, -0.6975076794624329, -0.6183272004127502], \"yaxis\": \"y13\"}, {\"type\": \"scatter\", \"xaxis\": \"x14\", \"y\": [1.3844679594039917, 1.6313557624816895, 1.2976001501083374, 0.6603145599365234, -0.052483465522527695, -0.391876220703125, -0.7639795541763306, -1.1729401350021362, -1.0581384897232056, -1.1358113288879395, -0.770715057849884, -0.31136539578437805, -0.640026330947876, -0.43840518593788147], \"yaxis\": \"y14\"}, {\"type\": \"scatter\", \"xaxis\": \"x15\", \"y\": [0.4887349307537079, 0.46359556913375854, 0.34262096881866455, 0.31326770782470703, 0.23463505506515503, 0.7627031207084656, 0.9003360867500305, 0.9945123791694641, 1.0576698780059814, 0.5608651041984558, 0.46063587069511414, 0.5378468632698059, 0.38994500041007996, -0.3315782845020294], \"yaxis\": \"y15\"}, {\"type\": \"scatter\", \"xaxis\": \"x16\", \"y\": [-0.13010874390602112, 0.8466917872428894, 0.9455316662788391, 0.8302167057991028, 0.49792182445526123, 0.4068315625190735, 0.17203228175640106, 0.03109823353588581, 0.008037390187382698, -0.09349898993968964, 0.17189793288707733, 0.0790814459323883, 0.17506849765777588, 0.2452719658613205], \"yaxis\": \"y16\"}, {\"type\": \"scatter\", \"xaxis\": \"x17\", \"y\": [0.11513318121433258, 0.036302827298641205, 0.2240840494632721, 0.2513686418533325, 0.5448101758956909, 0.5269102454185486, 0.8197711706161499, 0.9995638132095337, 0.7825210094451904, 0.9083486795425415, 0.9374043941497803, 0.6756881475448608, 0.7612624168395996, 0.39688533544540405], \"yaxis\": \"y17\"}, {\"type\": \"scatter\", \"xaxis\": \"x18\", \"y\": [-0.4866352677345276, -0.14270730316638947, -0.05934862792491913, -0.040765367448329926, -0.566886305809021, -1.2072241306304932, -1.5898381471633911, -1.8929095268249512, -1.8001837730407715, -1.8735259771347046, -1.929720163345337, -1.49332857131958, -0.8457849025726318, -0.5973390340805054], \"yaxis\": \"y18\"}, {\"type\": \"scatter\", \"xaxis\": \"x19\", \"y\": [0.2493276447057724, 0.4824531078338623, 0.606606125831604, 0.5838953852653503, 0.39886993169784546, 0.2517293393611908, 0.0341339036822319, 0.010877244174480438, -0.08108308166265488, -0.3650246858596802, -0.5415331125259399, -0.8291419744491577, -0.6770871877670288, 0.06744804978370667], \"yaxis\": \"y19\"}, {\"type\": \"scatter\", \"xaxis\": \"x20\", \"y\": [-0.4170685112476349, 0.298628568649292, 0.7172780632972717, 0.9815980195999146, 1.1785526275634766, 1.109968662261963, 1.215902328491211, 1.007556438446045, 0.9011476039886475, 0.8707179427146912, 0.2965308427810669, -0.07821722328662872, -0.3528151512145996, -0.45656368136405945], \"yaxis\": \"y20\"}, {\"type\": \"scatter\", \"xaxis\": \"x21\", \"y\": [1.0333210229873657, 0.6608718037605286, 0.7445882558822632, 1.0715314149856567, 1.4673616886138916, 1.6955739259719849, 2.0552139282226562, 2.112229824066162, 2.036135196685791, 2.063983678817749, 1.8728060722351074, 1.6414542198181152, 1.3079091310501099, 1.1414843797683716], \"yaxis\": \"y21\"}, {\"type\": \"scatter\", \"xaxis\": \"x22\", \"y\": [0.29110395908355713, 0.12484912574291229, 0.1211378276348114, -0.1878598928451538, -0.1749800443649292, -0.23940928280353546, -0.5371212959289551, -0.6126676201820374, -0.6231189966201782, -0.6399059891700745, -0.5684512853622437, -0.32192936539649963, -0.3110196888446808, -0.4686059057712555], \"yaxis\": \"y22\"}, {\"type\": \"scatter\", \"xaxis\": \"x23\", \"y\": [-1.2190085649490356, -0.9615976810455322, -0.6889429688453674, -0.7890401482582092, -0.9203816056251526, -1.3107547760009766, -1.587720274925232, -1.2034878730773926, -1.1622703075408936, -1.1216676235198975, -1.0197933912277222, -1.1955487728118896, -1.1283875703811646, -0.2862929701805115], \"yaxis\": \"y23\"}, {\"type\": \"scatter\", \"xaxis\": \"x24\", \"y\": [-0.836448073387146, -0.8394123315811157, -0.9076479077339172, -1.1407517194747925, -1.498753547668457, -1.7011632919311523, -1.6042946577072144, -1.6755951642990112, -1.6101784706115723, -1.2466328144073486, -1.1321485042572021, -1.0198243856430054, -0.6718620657920837, -0.47428902983665466], \"yaxis\": \"y24\"}, {\"type\": \"scatter\", \"xaxis\": \"x25\", \"y\": [-2.03523325920105, -1.9483743906021118, -1.653740644454956, -1.1185922622680664, -0.3905358910560608, 0.33028969168663025, 0.6957520842552185, 1.057877779006958, 1.135852336883545, 1.1774097681045532, 0.9738280177116394, 0.3915833532810211, -0.12867364287376404, -0.055606573820114136], \"yaxis\": \"y25\"}, {\"type\": \"scatter\", \"xaxis\": \"x26\", \"y\": [-0.8375774025917053, -0.7813100814819336, -0.256381630897522, 0.23548798263072968, 0.7123205661773682, 1.2156368494033813, 1.4237812757492065, 1.5263628959655762, 1.4489282369613647, 1.425112009048462, 1.082974910736084, 0.43589356541633606, 0.3328745365142822, -0.0047647058963775635], \"yaxis\": \"y26\"}, {\"type\": \"scatter\", \"xaxis\": \"x27\", \"y\": [0.5726915001869202, 0.2961040437221527, -0.0022628321312367916, -0.2266671508550644, -0.5446902513504028, -0.18540096282958984, -0.26482170820236206, -0.2796887159347534, -0.152673602104187, -0.23166175186634064, 0.2745228707790375, 0.39160895347595215, 0.2623637914657593, -0.42431673407554626], \"yaxis\": \"y27\"}, {\"type\": \"scatter\", \"xaxis\": \"x28\", \"y\": [-0.7463882565498352, -1.2077573537826538, -1.4638335704803467, -1.4560589790344238, -1.4397648572921753, -1.099345088005066, -0.7875990867614746, -0.7972795963287354, -0.46653804183006287, -0.4649523198604584, -0.39012500643730164, -0.19539478421211243, -0.3414871096611023, -0.5411289930343628], \"yaxis\": \"y28\"}, {\"type\": \"scatter\", \"xaxis\": \"x29\", \"y\": [-0.27887898683547974, -0.18260931968688965, 0.09500367939472198, 0.7354477643966675, 0.8013965487480164, 0.5367284417152405, 0.6608307957649231, 0.15329274535179138, 0.08879262208938599, -0.2539239227771759, -0.5186794400215149, -0.8069188594818115, -0.9693914651870728, -0.7271407246589661], \"yaxis\": \"y29\"}, {\"type\": \"scatter\", \"xaxis\": \"x30\", \"y\": [0.173423171043396, -0.3447076082229614, -0.30202019214630127, -0.14089760184288025, -0.07813306897878647, -0.40156662464141846, -0.8496568202972412, -0.8543246388435364, -0.8252835869789124, -0.942348301410675, -1.0708591938018799, -1.1096922159194946, -0.7343190312385559, 0.06852275133132935], \"yaxis\": \"y30\"}, {\"type\": \"scatter\", \"xaxis\": \"x31\", \"y\": [1.2499994039535522, 1.3279269933700562, 0.7895381450653076, 0.019979167729616165, -1.022531509399414, -2.005035877227783, -2.5432064533233643, -3.0119011402130127, -2.8893887996673584, -3.0238254070281982, -2.5393564701080322, -1.6125385761260986, -1.3538322448730469, -0.6601694226264954], \"yaxis\": \"y31\"}, {\"type\": \"scatter\", \"xaxis\": \"x32\", \"y\": [0.6493025422096252, 1.3567626476287842, 1.3624833822250366, 1.187774896621704, 1.251050591468811, 1.0103017091751099, 1.1440160274505615, 0.8975368142127991, 0.7787394523620605, 0.7738156914710999, 0.4073813557624817, 0.5274264216423035, 0.19516432285308838, 0.4175138771533966], \"yaxis\": \"y32\"}],                        {\"annotations\": [{\"font\": {\"size\": 16}, \"showarrow\": false, \"text\": \"Filters\", \"x\": 0.36875, \"xanchor\": \"center\", \"xref\": \"paper\", \"y\": 1.0, \"yanchor\": \"bottom\", \"yref\": \"paper\"}], \"height\": 1000, \"showlegend\": false, \"template\": {\"data\": {\"bar\": [{\"error_x\": {\"color\": \"#2a3f5f\"}, \"error_y\": {\"color\": \"#2a3f5f\"}, \"marker\": {\"line\": {\"color\": \"#E5ECF6\", \"width\": 0.5}}, \"type\": \"bar\"}], \"barpolar\": [{\"marker\": {\"line\": {\"color\": \"#E5ECF6\", \"width\": 0.5}}, \"type\": \"barpolar\"}], \"carpet\": [{\"aaxis\": {\"endlinecolor\": \"#2a3f5f\", \"gridcolor\": \"white\", \"linecolor\": \"white\", \"minorgridcolor\": \"white\", \"startlinecolor\": \"#2a3f5f\"}, \"baxis\": {\"endlinecolor\": \"#2a3f5f\", \"gridcolor\": \"white\", \"linecolor\": \"white\", \"minorgridcolor\": \"white\", \"startlinecolor\": \"#2a3f5f\"}, \"type\": \"carpet\"}], \"choropleth\": [{\"colorbar\": {\"outlinewidth\": 0, \"ticks\": \"\"}, \"type\": \"choropleth\"}], \"contour\": [{\"colorbar\": {\"outlinewidth\": 0, \"ticks\": \"\"}, \"colorscale\": [[0.0, \"#0d0887\"], [0.1111111111111111, \"#46039f\"], [0.2222222222222222, \"#7201a8\"], [0.3333333333333333, \"#9c179e\"], [0.4444444444444444, \"#bd3786\"], [0.5555555555555556, \"#d8576b\"], [0.6666666666666666, \"#ed7953\"], [0.7777777777777778, \"#fb9f3a\"], [0.8888888888888888, \"#fdca26\"], [1.0, \"#f0f921\"]], \"type\": \"contour\"}], \"contourcarpet\": [{\"colorbar\": {\"outlinewidth\": 0, \"ticks\": \"\"}, \"type\": \"contourcarpet\"}], \"heatmap\": [{\"colorbar\": {\"outlinewidth\": 0, \"ticks\": \"\"}, \"colorscale\": [[0.0, \"#0d0887\"], [0.1111111111111111, \"#46039f\"], [0.2222222222222222, \"#7201a8\"], [0.3333333333333333, \"#9c179e\"], [0.4444444444444444, \"#bd3786\"], [0.5555555555555556, \"#d8576b\"], [0.6666666666666666, \"#ed7953\"], [0.7777777777777778, \"#fb9f3a\"], [0.8888888888888888, \"#fdca26\"], [1.0, \"#f0f921\"]], \"type\": \"heatmap\"}], \"heatmapgl\": [{\"colorbar\": {\"outlinewidth\": 0, \"ticks\": \"\"}, \"colorscale\": [[0.0, \"#0d0887\"], [0.1111111111111111, \"#46039f\"], [0.2222222222222222, \"#7201a8\"], [0.3333333333333333, \"#9c179e\"], [0.4444444444444444, \"#bd3786\"], [0.5555555555555556, \"#d8576b\"], [0.6666666666666666, \"#ed7953\"], [0.7777777777777778, \"#fb9f3a\"], [0.8888888888888888, \"#fdca26\"], [1.0, \"#f0f921\"]], \"type\": \"heatmapgl\"}], \"histogram\": [{\"marker\": {\"colorbar\": {\"outlinewidth\": 0, \"ticks\": \"\"}}, \"type\": \"histogram\"}], \"histogram2d\": [{\"colorbar\": {\"outlinewidth\": 0, \"ticks\": \"\"}, \"colorscale\": [[0.0, \"#0d0887\"], [0.1111111111111111, \"#46039f\"], [0.2222222222222222, \"#7201a8\"], [0.3333333333333333, \"#9c179e\"], [0.4444444444444444, \"#bd3786\"], [0.5555555555555556, \"#d8576b\"], [0.6666666666666666, \"#ed7953\"], [0.7777777777777778, \"#fb9f3a\"], [0.8888888888888888, \"#fdca26\"], [1.0, \"#f0f921\"]], \"type\": \"histogram2d\"}], \"histogram2dcontour\": [{\"colorbar\": {\"outlinewidth\": 0, \"ticks\": \"\"}, \"colorscale\": [[0.0, \"#0d0887\"], [0.1111111111111111, \"#46039f\"], [0.2222222222222222, \"#7201a8\"], [0.3333333333333333, \"#9c179e\"], [0.4444444444444444, \"#bd3786\"], [0.5555555555555556, \"#d8576b\"], [0.6666666666666666, \"#ed7953\"], [0.7777777777777778, \"#fb9f3a\"], [0.8888888888888888, \"#fdca26\"], [1.0, \"#f0f921\"]], \"type\": \"histogram2dcontour\"}], \"mesh3d\": [{\"colorbar\": {\"outlinewidth\": 0, \"ticks\": \"\"}, \"type\": \"mesh3d\"}], \"parcoords\": [{\"line\": {\"colorbar\": {\"outlinewidth\": 0, \"ticks\": \"\"}}, \"type\": \"parcoords\"}], \"pie\": [{\"automargin\": true, \"type\": \"pie\"}], \"scatter\": [{\"marker\": {\"colorbar\": {\"outlinewidth\": 0, \"ticks\": \"\"}}, \"type\": \"scatter\"}], \"scatter3d\": [{\"line\": {\"colorbar\": {\"outlinewidth\": 0, \"ticks\": \"\"}}, \"marker\": {\"colorbar\": {\"outlinewidth\": 0, \"ticks\": \"\"}}, \"type\": \"scatter3d\"}], \"scattercarpet\": [{\"marker\": {\"colorbar\": {\"outlinewidth\": 0, \"ticks\": \"\"}}, \"type\": \"scattercarpet\"}], \"scattergeo\": [{\"marker\": {\"colorbar\": {\"outlinewidth\": 0, \"ticks\": \"\"}}, \"type\": \"scattergeo\"}], \"scattergl\": [{\"marker\": {\"colorbar\": {\"outlinewidth\": 0, \"ticks\": \"\"}}, \"type\": \"scattergl\"}], \"scattermapbox\": [{\"marker\": {\"colorbar\": {\"outlinewidth\": 0, \"ticks\": \"\"}}, \"type\": \"scattermapbox\"}], \"scatterpolar\": [{\"marker\": {\"colorbar\": {\"outlinewidth\": 0, \"ticks\": \"\"}}, \"type\": \"scatterpolar\"}], \"scatterpolargl\": [{\"marker\": {\"colorbar\": {\"outlinewidth\": 0, \"ticks\": \"\"}}, \"type\": \"scatterpolargl\"}], \"scatterternary\": [{\"marker\": {\"colorbar\": {\"outlinewidth\": 0, \"ticks\": \"\"}}, \"type\": \"scatterternary\"}], \"surface\": [{\"colorbar\": {\"outlinewidth\": 0, \"ticks\": \"\"}, \"colorscale\": [[0.0, \"#0d0887\"], [0.1111111111111111, \"#46039f\"], [0.2222222222222222, \"#7201a8\"], [0.3333333333333333, \"#9c179e\"], [0.4444444444444444, \"#bd3786\"], [0.5555555555555556, \"#d8576b\"], [0.6666666666666666, \"#ed7953\"], [0.7777777777777778, \"#fb9f3a\"], [0.8888888888888888, \"#fdca26\"], [1.0, \"#f0f921\"]], \"type\": \"surface\"}], \"table\": [{\"cells\": {\"fill\": {\"color\": \"#EBF0F8\"}, \"line\": {\"color\": \"white\"}}, \"header\": {\"fill\": {\"color\": \"#C8D4E3\"}, \"line\": {\"color\": \"white\"}}, \"type\": \"table\"}]}, \"layout\": {\"annotationdefaults\": {\"arrowcolor\": \"#2a3f5f\", \"arrowhead\": 0, \"arrowwidth\": 1}, \"autotypenumbers\": \"strict\", \"coloraxis\": {\"colorbar\": {\"outlinewidth\": 0, \"ticks\": \"\"}}, \"colorscale\": {\"diverging\": [[0, \"#8e0152\"], [0.1, \"#c51b7d\"], [0.2, \"#de77ae\"], [0.3, \"#f1b6da\"], [0.4, \"#fde0ef\"], [0.5, \"#f7f7f7\"], [0.6, \"#e6f5d0\"], [0.7, \"#b8e186\"], [0.8, \"#7fbc41\"], [0.9, \"#4d9221\"], [1, \"#276419\"]], \"sequential\": [[0.0, \"#0d0887\"], [0.1111111111111111, \"#46039f\"], [0.2222222222222222, \"#7201a8\"], [0.3333333333333333, \"#9c179e\"], [0.4444444444444444, \"#bd3786\"], [0.5555555555555556, \"#d8576b\"], [0.6666666666666666, \"#ed7953\"], [0.7777777777777778, \"#fb9f3a\"], [0.8888888888888888, \"#fdca26\"], [1.0, \"#f0f921\"]], \"sequentialminus\": [[0.0, \"#0d0887\"], [0.1111111111111111, \"#46039f\"], [0.2222222222222222, \"#7201a8\"], [0.3333333333333333, \"#9c179e\"], [0.4444444444444444, \"#bd3786\"], [0.5555555555555556, \"#d8576b\"], [0.6666666666666666, \"#ed7953\"], [0.7777777777777778, \"#fb9f3a\"], [0.8888888888888888, \"#fdca26\"], [1.0, \"#f0f921\"]]}, \"colorway\": [\"#636efa\", \"#EF553B\", \"#00cc96\", \"#ab63fa\", \"#FFA15A\", \"#19d3f3\", \"#FF6692\", \"#B6E880\", \"#FF97FF\", \"#FECB52\"], \"font\": {\"color\": \"#2a3f5f\"}, \"geo\": {\"bgcolor\": \"white\", \"lakecolor\": \"white\", \"landcolor\": \"#E5ECF6\", \"showlakes\": true, \"showland\": true, \"subunitcolor\": \"white\"}, \"hoverlabel\": {\"align\": \"left\"}, \"hovermode\": \"closest\", \"mapbox\": {\"style\": \"light\"}, \"paper_bgcolor\": \"white\", \"plot_bgcolor\": \"#E5ECF6\", \"polar\": {\"angularaxis\": {\"gridcolor\": \"white\", \"linecolor\": \"white\", \"ticks\": \"\"}, \"bgcolor\": \"#E5ECF6\", \"radialaxis\": {\"gridcolor\": \"white\", \"linecolor\": \"white\", \"ticks\": \"\"}}, \"scene\": {\"xaxis\": {\"backgroundcolor\": \"#E5ECF6\", \"gridcolor\": \"white\", \"gridwidth\": 2, \"linecolor\": \"white\", \"showbackground\": true, \"ticks\": \"\", \"zerolinecolor\": \"white\"}, \"yaxis\": {\"backgroundcolor\": \"#E5ECF6\", \"gridcolor\": \"white\", \"gridwidth\": 2, \"linecolor\": \"white\", \"showbackground\": true, \"ticks\": \"\", \"zerolinecolor\": \"white\"}, \"zaxis\": {\"backgroundcolor\": \"#E5ECF6\", \"gridcolor\": \"white\", \"gridwidth\": 2, \"linecolor\": \"white\", \"showbackground\": true, \"ticks\": \"\", \"zerolinecolor\": \"white\"}}, \"shapedefaults\": {\"line\": {\"color\": \"#2a3f5f\"}}, \"ternary\": {\"aaxis\": {\"gridcolor\": \"white\", \"linecolor\": \"white\", \"ticks\": \"\"}, \"baxis\": {\"gridcolor\": \"white\", \"linecolor\": \"white\", \"ticks\": \"\"}, \"bgcolor\": \"#E5ECF6\", \"caxis\": {\"gridcolor\": \"white\", \"linecolor\": \"white\", \"ticks\": \"\"}}, \"title\": {\"x\": 0.05}, \"xaxis\": {\"automargin\": true, \"gridcolor\": \"white\", \"linecolor\": \"white\", \"ticks\": \"\", \"title\": {\"standoff\": 15}, \"zerolinecolor\": \"white\", \"zerolinewidth\": 2}, \"yaxis\": {\"automargin\": true, \"gridcolor\": \"white\", \"linecolor\": \"white\", \"ticks\": \"\", \"title\": {\"standoff\": 15}, \"zerolinecolor\": \"white\", \"zerolinewidth\": 2}}}, \"xaxis\": {\"anchor\": \"y\", \"domain\": [0.0, 0.2125]}, \"xaxis10\": {\"anchor\": \"y10\", \"domain\": [0.2625, 0.475]}, \"xaxis11\": {\"anchor\": \"y11\", \"domain\": [0.525, 0.7375]}, \"xaxis12\": {\"anchor\": \"y12\", \"domain\": [0.7875, 1.0]}, \"xaxis13\": {\"anchor\": \"y13\", \"domain\": [0.0, 0.2125]}, \"xaxis14\": {\"anchor\": \"y14\", \"domain\": [0.2625, 0.475]}, \"xaxis15\": {\"anchor\": \"y15\", \"domain\": [0.525, 0.7375]}, \"xaxis16\": {\"anchor\": \"y16\", \"domain\": [0.7875, 1.0]}, \"xaxis17\": {\"anchor\": \"y17\", \"domain\": [0.0, 0.2125]}, \"xaxis18\": {\"anchor\": \"y18\", \"domain\": [0.2625, 0.475]}, \"xaxis19\": {\"anchor\": \"y19\", \"domain\": [0.525, 0.7375]}, \"xaxis2\": {\"anchor\": \"y2\", \"domain\": [0.2625, 0.475]}, \"xaxis20\": {\"anchor\": \"y20\", \"domain\": [0.7875, 1.0]}, \"xaxis21\": {\"anchor\": \"y21\", \"domain\": [0.0, 0.2125]}, \"xaxis22\": {\"anchor\": \"y22\", \"domain\": [0.2625, 0.475]}, \"xaxis23\": {\"anchor\": \"y23\", \"domain\": [0.525, 0.7375]}, \"xaxis24\": {\"anchor\": \"y24\", \"domain\": [0.7875, 1.0]}, \"xaxis25\": {\"anchor\": \"y25\", \"domain\": [0.0, 0.2125]}, \"xaxis26\": {\"anchor\": \"y26\", \"domain\": [0.2625, 0.475]}, \"xaxis27\": {\"anchor\": \"y27\", \"domain\": [0.525, 0.7375]}, \"xaxis28\": {\"anchor\": \"y28\", \"domain\": [0.7875, 1.0]}, \"xaxis29\": {\"anchor\": \"y29\", \"domain\": [0.0, 0.2125]}, \"xaxis3\": {\"anchor\": \"y3\", \"domain\": [0.525, 0.7375]}, \"xaxis30\": {\"anchor\": \"y30\", \"domain\": [0.2625, 0.475]}, \"xaxis31\": {\"anchor\": \"y31\", \"domain\": [0.525, 0.7375]}, \"xaxis32\": {\"anchor\": \"y32\", \"domain\": [0.7875, 1.0]}, \"xaxis4\": {\"anchor\": \"y4\", \"domain\": [0.7875, 1.0]}, \"xaxis5\": {\"anchor\": \"y5\", \"domain\": [0.0, 0.2125]}, \"xaxis6\": {\"anchor\": \"y6\", \"domain\": [0.2625, 0.475]}, \"xaxis7\": {\"anchor\": \"y7\", \"domain\": [0.525, 0.7375]}, \"xaxis8\": {\"anchor\": \"y8\", \"domain\": [0.7875, 1.0]}, \"xaxis9\": {\"anchor\": \"y9\", \"domain\": [0.0, 0.2125]}, \"yaxis\": {\"anchor\": \"x\", \"domain\": [0.9296875, 1.0]}, \"yaxis10\": {\"anchor\": \"x10\", \"domain\": [0.6640625, 0.734375]}, \"yaxis11\": {\"anchor\": \"x11\", \"domain\": [0.6640625, 0.734375]}, \"yaxis12\": {\"anchor\": \"x12\", \"domain\": [0.6640625, 0.734375]}, \"yaxis13\": {\"anchor\": \"x13\", \"domain\": [0.53125, 0.6015625]}, \"yaxis14\": {\"anchor\": \"x14\", \"domain\": [0.53125, 0.6015625]}, \"yaxis15\": {\"anchor\": \"x15\", \"domain\": [0.53125, 0.6015625]}, \"yaxis16\": {\"anchor\": \"x16\", \"domain\": [0.53125, 0.6015625]}, \"yaxis17\": {\"anchor\": \"x17\", \"domain\": [0.3984375, 0.46875]}, \"yaxis18\": {\"anchor\": \"x18\", \"domain\": [0.3984375, 0.46875]}, \"yaxis19\": {\"anchor\": \"x19\", \"domain\": [0.3984375, 0.46875]}, \"yaxis2\": {\"anchor\": \"x2\", \"domain\": [0.9296875, 1.0]}, \"yaxis20\": {\"anchor\": \"x20\", \"domain\": [0.3984375, 0.46875]}, \"yaxis21\": {\"anchor\": \"x21\", \"domain\": [0.265625, 0.3359375]}, \"yaxis22\": {\"anchor\": \"x22\", \"domain\": [0.265625, 0.3359375]}, \"yaxis23\": {\"anchor\": \"x23\", \"domain\": [0.265625, 0.3359375]}, \"yaxis24\": {\"anchor\": \"x24\", \"domain\": [0.265625, 0.3359375]}, \"yaxis25\": {\"anchor\": \"x25\", \"domain\": [0.1328125, 0.203125]}, \"yaxis26\": {\"anchor\": \"x26\", \"domain\": [0.1328125, 0.203125]}, \"yaxis27\": {\"anchor\": \"x27\", \"domain\": [0.1328125, 0.203125]}, \"yaxis28\": {\"anchor\": \"x28\", \"domain\": [0.1328125, 0.203125]}, \"yaxis29\": {\"anchor\": \"x29\", \"domain\": [0.0, 0.0703125]}, \"yaxis3\": {\"anchor\": \"x3\", \"domain\": [0.9296875, 1.0]}, \"yaxis30\": {\"anchor\": \"x30\", \"domain\": [0.0, 0.0703125]}, \"yaxis31\": {\"anchor\": \"x31\", \"domain\": [0.0, 0.0703125]}, \"yaxis32\": {\"anchor\": \"x32\", \"domain\": [0.0, 0.0703125]}, \"yaxis4\": {\"anchor\": \"x4\", \"domain\": [0.9296875, 1.0]}, \"yaxis5\": {\"anchor\": \"x5\", \"domain\": [0.796875, 0.8671875]}, \"yaxis6\": {\"anchor\": \"x6\", \"domain\": [0.796875, 0.8671875]}, \"yaxis7\": {\"anchor\": \"x7\", \"domain\": [0.796875, 0.8671875]}, \"yaxis8\": {\"anchor\": \"x8\", \"domain\": [0.796875, 0.8671875]}, \"yaxis9\": {\"anchor\": \"x9\", \"domain\": [0.6640625, 0.734375]}},                        {\"responsive\": true}                    ).then(function(){\n",
       "                            \n",
       "var gd = document.getElementById('655bee69-334c-424d-8a63-16d9bf55e0fe');\n",
       "var x = new MutationObserver(function (mutations, observer) {{\n",
       "        var display = window.getComputedStyle(gd).display;\n",
       "        if (!display || display === 'none') {{\n",
       "            console.log([gd, 'removed!']);\n",
       "            Plotly.purge(gd);\n",
       "            observer.disconnect();\n",
       "        }}\n",
       "}});\n",
       "\n",
       "// Listen for the removal of the full notebook cells\n",
       "var notebookContainer = gd.closest('#notebook-container');\n",
       "if (notebookContainer) {{\n",
       "    x.observe(notebookContainer, {childList: true});\n",
       "}}\n",
       "\n",
       "// Listen for the clearing of the current output cell\n",
       "var outputEl = gd.closest('.output');\n",
       "if (outputEl) {{\n",
       "    x.observe(outputEl, {childList: true});\n",
       "}}\n",
       "\n",
       "                        })                };                });            </script>        </div>"
      ]
     },
     "metadata": {},
     "output_type": "display_data"
    }
   ],
   "source": [
    "fig = make_subplots(rows=8, cols=4, subplot_titles = ['', 'Filters'])\n",
    "\n",
    "row = 1\n",
    "col = 1\n",
    "for feature in range(0, 32):\n",
    "    trace_data = []\n",
    "    for time in range(0, 14):\n",
    "        f_map = feature_maps[0][time][feature]\n",
    "        trace_data.append(f_map)\n",
    "    fig.add_trace(go.Scatter(y = trace_data), row=row, col=col)\n",
    "    if col == 4:\n",
    "        row = row + 1\n",
    "        col = 1\n",
    "    else:\n",
    "        col = col + 1\n",
    "        \n",
    "fig.update_layout(showlegend = False, height = 1000)"
   ]
  },
  {
   "cell_type": "code",
   "execution_count": 26,
   "id": "excellent-aquatic",
   "metadata": {},
   "outputs": [],
   "source": [
    "model10 = tf.keras.models.load_model('../combined_nn_results/refined_models/saved_models/model10')"
   ]
  },
  {
   "cell_type": "code",
   "execution_count": 27,
   "id": "muslim-chain",
   "metadata": {},
   "outputs": [
    {
     "name": "stdout",
     "output_type": "stream",
     "text": [
      "Model: \"functional_13\"\n",
      "__________________________________________________________________________________________________\n",
      "Layer (type)                    Output Shape         Param #     Connected to                     \n",
      "==================================================================================================\n",
      "input_postcode_6010 (InputLayer [(None, 14, 14)]     0                                            \n",
      "__________________________________________________________________________________________________\n",
      "input_postcode_6014 (InputLayer [(None, 14, 14)]     0                                            \n",
      "__________________________________________________________________________________________________\n",
      "input_postcode_6011 (InputLayer [(None, 14, 14)]     0                                            \n",
      "__________________________________________________________________________________________________\n",
      "input_postcode_6280 (InputLayer [(None, 14, 14)]     0                                            \n",
      "__________________________________________________________________________________________________\n",
      "input_postcode_6281 (InputLayer [(None, 14, 14)]     0                                            \n",
      "__________________________________________________________________________________________________\n",
      "input_postcode_6284 (InputLayer [(None, 14, 14)]     0                                            \n",
      "__________________________________________________________________________________________________\n",
      "cnn1_postcode_6010 (Conv1D)     (None, 14, 32)       1824        input_postcode_6010[0][0]        \n",
      "__________________________________________________________________________________________________\n",
      "cnn1_postcode_6014 (Conv1D)     (None, 14, 32)       1824        input_postcode_6014[0][0]        \n",
      "__________________________________________________________________________________________________\n",
      "cnn1_postcode_6011 (Conv1D)     (None, 14, 32)       1824        input_postcode_6011[0][0]        \n",
      "__________________________________________________________________________________________________\n",
      "cnn1_postcode_6280 (Conv1D)     (None, 14, 32)       1824        input_postcode_6280[0][0]        \n",
      "__________________________________________________________________________________________________\n",
      "cnn1_postcode_6281 (Conv1D)     (None, 14, 32)       1824        input_postcode_6281[0][0]        \n",
      "__________________________________________________________________________________________________\n",
      "cnn1_postcode_6284 (Conv1D)     (None, 14, 32)       1824        input_postcode_6284[0][0]        \n",
      "__________________________________________________________________________________________________\n",
      "max_pooling1d (MaxPooling1D)    (None, 14, 32)       0           cnn1_postcode_6010[0][0]         \n",
      "__________________________________________________________________________________________________\n",
      "max_pooling1d_2 (MaxPooling1D)  (None, 14, 32)       0           cnn1_postcode_6014[0][0]         \n",
      "__________________________________________________________________________________________________\n",
      "max_pooling1d_4 (MaxPooling1D)  (None, 14, 32)       0           cnn1_postcode_6011[0][0]         \n",
      "__________________________________________________________________________________________________\n",
      "max_pooling1d_6 (MaxPooling1D)  (None, 14, 32)       0           cnn1_postcode_6280[0][0]         \n",
      "__________________________________________________________________________________________________\n",
      "max_pooling1d_8 (MaxPooling1D)  (None, 14, 32)       0           cnn1_postcode_6281[0][0]         \n",
      "__________________________________________________________________________________________________\n",
      "max_pooling1d_10 (MaxPooling1D) (None, 14, 32)       0           cnn1_postcode_6284[0][0]         \n",
      "__________________________________________________________________________________________________\n",
      "cnn2_postcode_6010 (Conv1D)     (None, 14, 32)       4128        max_pooling1d[0][0]              \n",
      "__________________________________________________________________________________________________\n",
      "cnn2_postcode_6014 (Conv1D)     (None, 14, 32)       4128        max_pooling1d_2[0][0]            \n",
      "__________________________________________________________________________________________________\n",
      "cnn2_postcode_6011 (Conv1D)     (None, 14, 32)       4128        max_pooling1d_4[0][0]            \n",
      "__________________________________________________________________________________________________\n",
      "cnn2_postcode_6280 (Conv1D)     (None, 14, 32)       4128        max_pooling1d_6[0][0]            \n",
      "__________________________________________________________________________________________________\n",
      "cnn2_postcode_6281 (Conv1D)     (None, 14, 32)       4128        max_pooling1d_8[0][0]            \n",
      "__________________________________________________________________________________________________\n",
      "cnn2_postcode_6284 (Conv1D)     (None, 14, 32)       4128        max_pooling1d_10[0][0]           \n",
      "__________________________________________________________________________________________________\n",
      "max_pooling1d_1 (MaxPooling1D)  (None, 14, 32)       0           cnn2_postcode_6010[0][0]         \n",
      "__________________________________________________________________________________________________\n",
      "max_pooling1d_3 (MaxPooling1D)  (None, 14, 32)       0           cnn2_postcode_6014[0][0]         \n",
      "__________________________________________________________________________________________________\n",
      "max_pooling1d_5 (MaxPooling1D)  (None, 14, 32)       0           cnn2_postcode_6011[0][0]         \n",
      "__________________________________________________________________________________________________\n",
      "max_pooling1d_7 (MaxPooling1D)  (None, 14, 32)       0           cnn2_postcode_6280[0][0]         \n",
      "__________________________________________________________________________________________________\n",
      "max_pooling1d_9 (MaxPooling1D)  (None, 14, 32)       0           cnn2_postcode_6281[0][0]         \n",
      "__________________________________________________________________________________________________\n",
      "max_pooling1d_11 (MaxPooling1D) (None, 14, 32)       0           cnn2_postcode_6284[0][0]         \n",
      "__________________________________________________________________________________________________\n",
      "concatenate (Concatenate)       (None, 14, 192)      0           max_pooling1d_1[0][0]            \n",
      "                                                                 max_pooling1d_3[0][0]            \n",
      "                                                                 max_pooling1d_5[0][0]            \n",
      "                                                                 max_pooling1d_7[0][0]            \n",
      "                                                                 max_pooling1d_9[0][0]            \n",
      "                                                                 max_pooling1d_11[0][0]           \n",
      "__________________________________________________________________________________________________\n",
      "conv1d (Conv1D)                 (None, 11, 32)       24608       concatenate[0][0]                \n",
      "__________________________________________________________________________________________________\n",
      "max_pooling1d_12 (MaxPooling1D) (None, 6, 32)        0           conv1d[0][0]                     \n",
      "__________________________________________________________________________________________________\n",
      "conv1d_1 (Conv1D)               (None, 3, 32)        4128        max_pooling1d_12[0][0]           \n",
      "__________________________________________________________________________________________________\n",
      "max_pooling1d_13 (MaxPooling1D) (None, 2, 32)        0           conv1d_1[0][0]                   \n",
      "__________________________________________________________________________________________________\n",
      "flatten_combined (Flatten)      (None, 64)           0           max_pooling1d_13[0][0]           \n",
      "__________________________________________________________________________________________________\n",
      "dense (Dense)                   (None, 14)           910         flatten_combined[0][0]           \n",
      "==================================================================================================\n",
      "Total params: 65,358\n",
      "Trainable params: 65,358\n",
      "Non-trainable params: 0\n",
      "__________________________________________________________________________________________________\n"
     ]
    }
   ],
   "source": [
    "model10.summary()"
   ]
  },
  {
   "cell_type": "code",
   "execution_count": 31,
   "id": "oriented-floating",
   "metadata": {},
   "outputs": [],
   "source": [
    "res = tf.keras.models.load_model('../combined_nn_results/refined_models/residual_model/grid_model')"
   ]
  },
  {
   "cell_type": "code",
   "execution_count": 32,
   "id": "painful-logan",
   "metadata": {},
   "outputs": [
    {
     "name": "stdout",
     "output_type": "stream",
     "text": [
      "Model: \"functional_1\"\n",
      "__________________________________________________________________________________________________\n",
      "Layer (type)                    Output Shape         Param #     Connected to                     \n",
      "==================================================================================================\n",
      "input_postcode_6010 (InputLayer [(None, 14, 14)]     0                                            \n",
      "__________________________________________________________________________________________________\n",
      "input_postcode_6014 (InputLayer [(None, 14, 14)]     0                                            \n",
      "__________________________________________________________________________________________________\n",
      "input_postcode_6011 (InputLayer [(None, 14, 14)]     0                                            \n",
      "__________________________________________________________________________________________________\n",
      "input_postcode_6280 (InputLayer [(None, 14, 14)]     0                                            \n",
      "__________________________________________________________________________________________________\n",
      "input_postcode_6281 (InputLayer [(None, 14, 14)]     0                                            \n",
      "__________________________________________________________________________________________________\n",
      "input_postcode_6284 (InputLayer [(None, 14, 14)]     0                                            \n",
      "__________________________________________________________________________________________________\n",
      "concatenate (Concatenate)       (None, 14, 84)       0           input_postcode_6010[0][0]        \n",
      "                                                                 input_postcode_6014[0][0]        \n",
      "                                                                 input_postcode_6011[0][0]        \n",
      "                                                                 input_postcode_6280[0][0]        \n",
      "                                                                 input_postcode_6281[0][0]        \n",
      "                                                                 input_postcode_6284[0][0]        \n",
      "__________________________________________________________________________________________________\n",
      "conv1d (Conv1D)                 (None, 11, 32)       10784       concatenate[0][0]                \n",
      "__________________________________________________________________________________________________\n",
      "conv1d_1 (Conv1D)               (None, 8, 32)        4128        conv1d[0][0]                     \n",
      "__________________________________________________________________________________________________\n",
      "max_pooling1d (MaxPooling1D)    (None, 4, 32)        0           conv1d_1[0][0]                   \n",
      "__________________________________________________________________________________________________\n",
      "input_grid (InputLayer)         [(None, 14, 7)]      0                                            \n",
      "__________________________________________________________________________________________________\n",
      "flatten_pc (Flatten)            (None, 128)          0           max_pooling1d[0][0]              \n",
      "__________________________________________________________________________________________________\n",
      "functional_1 (Functional)       (None, 14)           6862        input_grid[0][0]                 \n",
      "__________________________________________________________________________________________________\n",
      "dense (Dense)                   (None, 14)           1806        flatten_pc[0][0]                 \n",
      "__________________________________________________________________________________________________\n",
      "concatenate_1 (Concatenate)     (None, 28)           0           functional_1[0][0]               \n",
      "                                                                 dense[0][0]                      \n",
      "__________________________________________________________________________________________________\n",
      "dense_1 (Dense)                 (None, 14)           406         concatenate_1[0][0]              \n",
      "==================================================================================================\n",
      "Total params: 23,986\n",
      "Trainable params: 23,986\n",
      "Non-trainable params: 0\n",
      "__________________________________________________________________________________________________\n"
     ]
    }
   ],
   "source": [
    "res.summary()"
   ]
  },
  {
   "cell_type": "code",
   "execution_count": 21,
   "id": "dutch-binding",
   "metadata": {},
   "outputs": [],
   "source": [
    "# test_dic = pd.read_pickle('../combined_nn_results/refined_models/test_data_pc')"
   ]
  },
  {
   "cell_type": "code",
   "execution_count": 22,
   "id": "marked-picnic",
   "metadata": {},
   "outputs": [],
   "source": [
    "# seed_data1 = {}\n",
    "# seed_data2 = {}\n",
    "\n",
    "# for key, val in test_dic.items():\n",
    "#     seed_data1[key] = val[0]\n",
    "#     seed_data2[key] = val[14]"
   ]
  },
  {
   "cell_type": "code",
   "execution_count": 23,
   "id": "allied-theater",
   "metadata": {},
   "outputs": [],
   "source": [
    "# seed_data1"
   ]
  },
  {
   "cell_type": "code",
   "execution_count": 24,
   "id": "religious-balloon",
   "metadata": {},
   "outputs": [],
   "source": [
    "# layer_idx = utils.find_layer_idx(model9, 'dense')"
   ]
  },
  {
   "cell_type": "code",
   "execution_count": 25,
   "id": "forced-class",
   "metadata": {},
   "outputs": [],
   "source": [
    "# f, ax = plt.subplots(1, 1)\n",
    "\n",
    "\n",
    "# vis_images = []\n",
    "# for idx in [0, 0, 0]:\n",
    "#     img = visualize_activation(model9, layer_idx, filter_indices=idx, max_iter=500)\n",
    "#     vis_images.append(img)\n",
    "    \n",
    "# visualize grads as heatmap\n",
    "# ax[0].imshow(grads, cmap='jet')"
   ]
  },
  {
   "cell_type": "markdown",
   "id": "33086043",
   "metadata": {},
   "source": [
    "## Image TS Visualise"
   ]
  },
  {
   "cell_type": "code",
   "execution_count": 1,
   "id": "171d3046",
   "metadata": {},
   "outputs": [],
   "source": [
    "import tensorflow as tf\n",
    "from keras.utils.vis_utils import plot_model\n",
    "from matplotlib import pyplot as plt\n",
    "import pandas as pd"
   ]
  },
  {
   "cell_type": "code",
   "execution_count": 2,
   "id": "42e85b08",
   "metadata": {},
   "outputs": [],
   "source": [
    "import numpy as np"
   ]
  },
  {
   "cell_type": "code",
   "execution_count": 3,
   "id": "6a01db4a",
   "metadata": {},
   "outputs": [],
   "source": [
    "# from keras.models import Model"
   ]
  },
  {
   "cell_type": "code",
   "execution_count": 4,
   "id": "70674dfd",
   "metadata": {},
   "outputs": [
    {
     "name": "stdout",
     "output_type": "stream",
     "text": [
      "WARNING:tensorflow:SavedModel saved prior to TF 2.5 detected when loading Keras model. Please ensure that you are saving the model with model.save() or tf.keras.models.save_model(), *NOT* tf.saved_model.save(). To confirm, there should be a file named \"keras_metadata.pb\" in the SavedModel directory.\n"
     ]
    }
   ],
   "source": [
    "conv_model = tf.keras.models.load_model(\n",
    "        '../swis_combined_nn_results/new_models/conv_2d_with_images_epochs2/0/conv_2d_with_images_epochs2')"
   ]
  },
  {
   "cell_type": "code",
   "execution_count": 5,
   "id": "b422da4f",
   "metadata": {},
   "outputs": [
    {
     "name": "stdout",
     "output_type": "stream",
     "text": [
      "Model: \"functional_1\"\n",
      "__________________________________________________________________________________________________\n",
      "Layer (type)                    Output Shape         Param #     Connected to                     \n",
      "==================================================================================================\n",
      "input_postcode (InputLayer)     [(None, 173, 192, 18 0                                            \n",
      "__________________________________________________________________________________________________\n",
      "lambda (Lambda)                 (None, 173, 192, 18) 0           input_postcode[0][0]             \n",
      "__________________________________________________________________________________________________\n",
      "lambda_1 (Lambda)               (None, 173, 192, 18) 0           input_postcode[0][0]             \n",
      "__________________________________________________________________________________________________\n",
      "lambda_2 (Lambda)               (None, 173, 192, 18) 0           input_postcode[0][0]             \n",
      "__________________________________________________________________________________________________\n",
      "lambda_3 (Lambda)               (None, 173, 192, 18) 0           input_postcode[0][0]             \n",
      "__________________________________________________________________________________________________\n",
      "lambda_4 (Lambda)               (None, 173, 192, 18) 0           input_postcode[0][0]             \n",
      "__________________________________________________________________________________________________\n",
      "lambda_5 (Lambda)               (None, 173, 192, 18) 0           input_postcode[0][0]             \n",
      "__________________________________________________________________________________________________\n",
      "lambda_6 (Lambda)               (None, 173, 192, 18) 0           input_postcode[0][0]             \n",
      "__________________________________________________________________________________________________\n",
      "lambda_7 (Lambda)               (None, 173, 192, 18) 0           input_postcode[0][0]             \n",
      "__________________________________________________________________________________________________\n",
      "conv1_0 (Conv2D)                (None, 172, 191, 32) 2336        lambda[0][0]                     \n",
      "__________________________________________________________________________________________________\n",
      "conv1_1 (Conv2D)                (None, 172, 191, 32) 2336        lambda_1[0][0]                   \n",
      "__________________________________________________________________________________________________\n",
      "conv1_2 (Conv2D)                (None, 172, 191, 32) 2336        lambda_2[0][0]                   \n",
      "__________________________________________________________________________________________________\n",
      "conv1_3 (Conv2D)                (None, 172, 191, 32) 2336        lambda_3[0][0]                   \n",
      "__________________________________________________________________________________________________\n",
      "conv1_4 (Conv2D)                (None, 172, 191, 32) 2336        lambda_4[0][0]                   \n",
      "__________________________________________________________________________________________________\n",
      "conv1_5 (Conv2D)                (None, 172, 191, 32) 2336        lambda_5[0][0]                   \n",
      "__________________________________________________________________________________________________\n",
      "conv1_6 (Conv2D)                (None, 172, 191, 32) 2336        lambda_6[0][0]                   \n",
      "__________________________________________________________________________________________________\n",
      "conv1_7 (Conv2D)                (None, 172, 191, 32) 2336        lambda_7[0][0]                   \n",
      "__________________________________________________________________________________________________\n",
      "conv2_0 (Conv2D)                (None, 171, 190, 32) 4128        conv1_0[0][0]                    \n",
      "__________________________________________________________________________________________________\n",
      "conv2_1 (Conv2D)                (None, 171, 190, 32) 4128        conv1_1[0][0]                    \n",
      "__________________________________________________________________________________________________\n",
      "conv2_2 (Conv2D)                (None, 171, 190, 32) 4128        conv1_2[0][0]                    \n",
      "__________________________________________________________________________________________________\n",
      "conv2_3 (Conv2D)                (None, 171, 190, 32) 4128        conv1_3[0][0]                    \n",
      "__________________________________________________________________________________________________\n",
      "conv2_4 (Conv2D)                (None, 171, 190, 32) 4128        conv1_4[0][0]                    \n",
      "__________________________________________________________________________________________________\n",
      "conv2_5 (Conv2D)                (None, 171, 190, 32) 4128        conv1_5[0][0]                    \n",
      "__________________________________________________________________________________________________\n",
      "conv2_6 (Conv2D)                (None, 171, 190, 32) 4128        conv1_6[0][0]                    \n",
      "__________________________________________________________________________________________________\n",
      "conv2_7 (Conv2D)                (None, 171, 190, 32) 4128        conv1_7[0][0]                    \n",
      "__________________________________________________________________________________________________\n",
      "max_pool_0 (MaxPooling2D)       (None, 85, 95, 32)   0           conv2_0[0][0]                    \n",
      "__________________________________________________________________________________________________\n",
      "max_pool_1 (MaxPooling2D)       (None, 85, 95, 32)   0           conv2_1[0][0]                    \n",
      "__________________________________________________________________________________________________\n",
      "max_pool_2 (MaxPooling2D)       (None, 85, 95, 32)   0           conv2_2[0][0]                    \n",
      "__________________________________________________________________________________________________\n",
      "max_pool_3 (MaxPooling2D)       (None, 85, 95, 32)   0           conv2_3[0][0]                    \n",
      "__________________________________________________________________________________________________\n",
      "max_pool_4 (MaxPooling2D)       (None, 85, 95, 32)   0           conv2_4[0][0]                    \n",
      "__________________________________________________________________________________________________\n",
      "max_pool_5 (MaxPooling2D)       (None, 85, 95, 32)   0           conv2_5[0][0]                    \n",
      "__________________________________________________________________________________________________\n",
      "max_pool_6 (MaxPooling2D)       (None, 85, 95, 32)   0           conv2_6[0][0]                    \n",
      "__________________________________________________________________________________________________\n",
      "max_pool_7 (MaxPooling2D)       (None, 85, 95, 32)   0           conv2_7[0][0]                    \n",
      "__________________________________________________________________________________________________\n",
      "conv3_0 (Conv2D)                (None, 84, 94, 64)   8256        max_pool_0[0][0]                 \n",
      "__________________________________________________________________________________________________\n",
      "conv3_1 (Conv2D)                (None, 84, 94, 64)   8256        max_pool_1[0][0]                 \n",
      "__________________________________________________________________________________________________\n",
      "conv3_2 (Conv2D)                (None, 84, 94, 64)   8256        max_pool_2[0][0]                 \n",
      "__________________________________________________________________________________________________\n",
      "conv3_3 (Conv2D)                (None, 84, 94, 64)   8256        max_pool_3[0][0]                 \n",
      "__________________________________________________________________________________________________\n",
      "conv3_4 (Conv2D)                (None, 84, 94, 64)   8256        max_pool_4[0][0]                 \n",
      "__________________________________________________________________________________________________\n",
      "conv3_5 (Conv2D)                (None, 84, 94, 64)   8256        max_pool_5[0][0]                 \n",
      "__________________________________________________________________________________________________\n",
      "conv3_6 (Conv2D)                (None, 84, 94, 64)   8256        max_pool_6[0][0]                 \n",
      "__________________________________________________________________________________________________\n",
      "conv3_7 (Conv2D)                (None, 84, 94, 64)   8256        max_pool_7[0][0]                 \n",
      "__________________________________________________________________________________________________\n",
      "conv4_0 (Conv2D)                (None, 83, 93, 64)   16448       conv3_0[0][0]                    \n",
      "__________________________________________________________________________________________________\n",
      "conv4_1 (Conv2D)                (None, 83, 93, 64)   16448       conv3_1[0][0]                    \n",
      "__________________________________________________________________________________________________\n",
      "conv4_2 (Conv2D)                (None, 83, 93, 64)   16448       conv3_2[0][0]                    \n",
      "__________________________________________________________________________________________________\n",
      "conv4_3 (Conv2D)                (None, 83, 93, 64)   16448       conv3_3[0][0]                    \n",
      "__________________________________________________________________________________________________\n",
      "conv4_4 (Conv2D)                (None, 83, 93, 64)   16448       conv3_4[0][0]                    \n",
      "__________________________________________________________________________________________________\n",
      "conv4_5 (Conv2D)                (None, 83, 93, 64)   16448       conv3_5[0][0]                    \n",
      "__________________________________________________________________________________________________\n",
      "conv4_6 (Conv2D)                (None, 83, 93, 64)   16448       conv3_6[0][0]                    \n",
      "__________________________________________________________________________________________________\n",
      "conv4_7 (Conv2D)                (None, 83, 93, 64)   16448       conv3_7[0][0]                    \n",
      "__________________________________________________________________________________________________\n",
      "flatten (Flatten)               (None, 494016)       0           conv4_0[0][0]                    \n",
      "__________________________________________________________________________________________________\n",
      "flatten_1 (Flatten)             (None, 494016)       0           conv4_1[0][0]                    \n",
      "__________________________________________________________________________________________________\n",
      "flatten_2 (Flatten)             (None, 494016)       0           conv4_2[0][0]                    \n",
      "__________________________________________________________________________________________________\n",
      "flatten_3 (Flatten)             (None, 494016)       0           conv4_3[0][0]                    \n",
      "__________________________________________________________________________________________________\n",
      "flatten_4 (Flatten)             (None, 494016)       0           conv4_4[0][0]                    \n",
      "__________________________________________________________________________________________________\n",
      "flatten_5 (Flatten)             (None, 494016)       0           conv4_5[0][0]                    \n",
      "__________________________________________________________________________________________________\n",
      "flatten_6 (Flatten)             (None, 494016)       0           conv4_6[0][0]                    \n",
      "__________________________________________________________________________________________________\n",
      "flatten_7 (Flatten)             (None, 494016)       0           conv4_7[0][0]                    \n",
      "__________________________________________________________________________________________________\n",
      "concatenate (Concatenate)       (None, 3952128)      0           flatten[0][0]                    \n",
      "                                                                 flatten_1[0][0]                  \n",
      "                                                                 flatten_2[0][0]                  \n",
      "                                                                 flatten_3[0][0]                  \n",
      "                                                                 flatten_4[0][0]                  \n",
      "                                                                 flatten_5[0][0]                  \n",
      "                                                                 flatten_6[0][0]                  \n",
      "                                                                 flatten_7[0][0]                  \n",
      "__________________________________________________________________________________________________\n",
      "prediction_layer1 (Dense)       (None, 50)           197606450   concatenate[0][0]                \n",
      "__________________________________________________________________________________________________\n",
      "prediction_layer (Dense)        (None, 18)           918         prediction_layer1[0][0]          \n",
      "==================================================================================================\n",
      "Total params: 197,856,712\n",
      "Trainable params: 197,856,712\n",
      "Non-trainable params: 0\n",
      "__________________________________________________________________________________________________\n"
     ]
    }
   ],
   "source": [
    "conv_model.summary()"
   ]
  },
  {
   "cell_type": "code",
   "execution_count": 56,
   "id": "be2dc2bf",
   "metadata": {},
   "outputs": [
    {
     "data": {
      "text/plain": [
       "'conv4_7'"
      ]
     },
     "execution_count": 56,
     "metadata": {},
     "output_type": "execute_result"
    }
   ],
   "source": [
    "conv_model.layers[48].name"
   ]
  },
  {
   "cell_type": "code",
   "execution_count": 61,
   "id": "2172a519",
   "metadata": {},
   "outputs": [],
   "source": [
    "new_model_1 = tf.keras.Model(inputs=conv_model.inputs, outputs=conv_model.layers[41].output)\n",
    "new_model_2 = tf.keras.Model(inputs=conv_model.inputs, outputs=conv_model.layers[42].output)\n",
    "new_model_3 = tf.keras.Model(inputs=conv_model.inputs, outputs=conv_model.layers[43].output)\n",
    "new_model_4 = tf.keras.Model(inputs=conv_model.inputs, outputs=conv_model.layers[44].output)\n",
    "new_model_5 = tf.keras.Model(inputs=conv_model.inputs, outputs=conv_model.layers[45].output)\n",
    "new_model_6 = tf.keras.Model(inputs=conv_model.inputs, outputs=conv_model.layers[46].output)\n",
    "new_model_7 = tf.keras.Model(inputs=conv_model.inputs, outputs=conv_model.layers[47].output)\n",
    "new_model_8 = tf.keras.Model(inputs=conv_model.inputs, outputs=conv_model.layers[48].output)"
   ]
  },
  {
   "cell_type": "code",
   "execution_count": 62,
   "id": "9625c21d",
   "metadata": {},
   "outputs": [],
   "source": [
    "X = np.empty((1, *(173, 192, 18), 8))\n",
    "X[0,] = np.load(f'../swis_ts_data/img_ts/train_{4882}.npy')"
   ]
  },
  {
   "cell_type": "code",
   "execution_count": 63,
   "id": "f162a66d",
   "metadata": {},
   "outputs": [],
   "source": [
    "# get feature map for hidden layer\n",
    "feature_maps1 = new_model_1.predict(X)\n",
    "feature_maps2 = new_model_2.predict(X)\n",
    "feature_maps3 = new_model_3.predict(X)\n",
    "feature_maps4 = new_model_4.predict(X)\n",
    "feature_maps5 = new_model_5.predict(X)\n",
    "feature_maps6 = new_model_6.predict(X)\n",
    "feature_maps7 = new_model_7.predict(X)\n",
    "feature_maps8 = new_model_8.predict(X)"
   ]
  },
  {
   "cell_type": "code",
   "execution_count": 108,
   "id": "ea994b84",
   "metadata": {},
   "outputs": [
    {
     "data": {
      "image/png": "[encoded data removed]",
      "text/plain": [
       "<Figure size 432x288 with 1 Axes>"
      ]
     },
     "metadata": {},
     "output_type": "display_data"
    },
    {
     "data": {
      "image/png": "[encoded data removed]",
      "text/plain": [
       "<Figure size 432x288 with 1 Axes>"
      ]
     },
     "metadata": {},
     "output_type": "display_data"
    },
    {
     "data": {
      "image/png": "[encoded data removed]",
      "text/plain": [
       "<Figure size 432x288 with 1 Axes>"
      ]
     },
     "metadata": {},
     "output_type": "display_data"
    }
   ],
   "source": [
    "fig = pyplot.figure()\n",
    "num = np.random.choice(64, 3)\n",
    "\n",
    "for ix in num:\n",
    "    pyplot.imshow(feature_maps1[0, :, :, ix-1], cmap='gray')\n",
    "    # show the figure\n",
    "    pyplot.xticks([])\n",
    "    pyplot.yticks([])\n",
    "    pyplot.show()"
   ]
  },
  {
   "cell_type": "code",
   "execution_count": 60,
   "id": "58fdab5c",
   "metadata": {},
   "outputs": [
    {
     "data": {
      "image/png": "[encoded data removed]",
      "text/plain": [
       "<Figure size 1440x1440 with 64 Axes>"
      ]
     },
     "metadata": {},
     "output_type": "display_data"
    }
   ],
   "source": [
    "from matplotlib import pyplot\n",
    "# plot all 64 maps in an 8x8 squares\n",
    "square = 8\n",
    "ix = 1\n",
    "fig = pyplot.figure(figsize=(20, 20))\n",
    "for _ in range(square):\n",
    "    for _ in range(square):\n",
    "        # specify subplot and turn of axis\n",
    "        ax = fig.add_subplot(square, square, ix)\n",
    "        ax.set_xticks([])\n",
    "        ax.set_yticks([])\n",
    "        # plot filter channel in grayscale\n",
    "        pyplot.imshow(feature_maps[0, :, :, ix-1], cmap='gray')\n",
    "        ix += 1\n",
    "\n",
    "# show the figure\n",
    "pyplot.show()"
   ]
  },
  {
   "cell_type": "code",
   "execution_count": null,
   "id": "20f1d6e5",
   "metadata": {},
   "outputs": [],
   "source": [
    "\n",
    "# load the model\n",
    "model = VGG16()\n",
    "# redefine model to output right after the first hidden layer\n",
    "model = Model(inputs=model.inputs, outputs=model.layers[1].output)\n",
    "model.summary()\n",
    "# load the image with the required shape\n",
    "img = load_img('bird.jpg', target_size=(224, 224))\n",
    "# convert the image to an array\n",
    "img = img_to_array(img)\n",
    "# expand dimensions so that it represents a single 'sample'\n",
    "img = expand_dims(img, axis=0)\n",
    "# prepare the image (e.g. scale pixel values for the vgg)\n",
    "img = preprocess_input(img)\n",
    "# get feature map for first hidden layer\n",
    "feature_maps = model.predict(img)\n",
    "# plot all 64 maps in an 8x8 squares\n",
    "square = 8\n",
    "ix = 1\n",
    "for _ in range(square):\n",
    "\tfor _ in range(square):\n",
    "\t\t# specify subplot and turn of axis\n",
    "\t\tax = pyplot.subplot(square, square, ix)\n",
    "\t\tax.set_xticks([])\n",
    "\t\tax.set_yticks([])\n",
    "\t\t# plot filter channel in grayscale\n",
    "\t\tpyplot.imshow(feature_maps[0, :, :, ix-1], cmap='gray')\n",
    "\t\tix += 1\n",
    "# show the figure\n",
    "pyplot.show()"
   ]
  }
 ],
 "metadata": {
  "kernelspec": {
   "display_name": "Python 3",
   "language": "python",
   "name": "python3"
  },
  "language_info": {
   "codemirror_mode": {
    "name": "ipython",
    "version": 3
   },
   "file_extension": ".py",
   "mimetype": "text/x-python",
   "name": "python",
   "nbconvert_exporter": "python",
   "pygments_lexer": "ipython3",
   "version": "3.8.10"
  }
 },
 "nbformat": 4,
 "nbformat_minor": 5
}
