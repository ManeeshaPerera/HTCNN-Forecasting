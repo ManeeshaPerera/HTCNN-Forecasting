{
 "cells": [
  {
   "cell_type": "markdown",
   "id": "emotional-network",
   "metadata": {},
   "source": [
    "## Hierarchical Forecasting with Different level's of Data"
   ]
  },
  {
   "cell_type": "code",
   "execution_count": 1,
   "id": "activated-accordance",
   "metadata": {},
   "outputs": [
    {
     "data": {
      "text/html": [
       "        <script type=\"text/javascript\">\n",
       "        window.PlotlyConfig = {MathJaxConfig: 'local'};\n",
       "        if (window.MathJax) {MathJax.Hub.Config({SVG: {font: \"STIX-Web\"}});}\n",
       "        if (typeof require !== 'undefined') {\n",
       "        require.undef(\"plotly\");\n",
       "        requirejs.config({\n",
       "            paths: {\n",
       "                'plotly': ['https://cdn.plot.ly/plotly-latest.min']\n",
       "            }\n",
       "        });\n",
       "        require(['plotly'], function(Plotly) {\n",
       "            window._Plotly = Plotly;\n",
       "        });\n",
       "        }\n",
       "        </script>\n",
       "        "
      ]
     },
     "metadata": {},
     "output_type": "display_data"
    }
   ],
   "source": [
    "import pandas as pd\n",
    "import sys\n",
    "sys.path.insert(0, '../')\n",
    "\n",
    "import constants as const\n",
    "import src.utils as util\n",
    "import src.calculate_errors as err\n",
    "\n",
    "import plotly.graph_objs as go\n",
    "from plotly.subplots import make_subplots\n",
    "from plotly.offline import init_notebook_mode, iplot\n",
    "init_notebook_mode(connected=True)"
   ]
  },
  {
   "cell_type": "code",
   "execution_count": 2,
   "id": "allied-cooperation",
   "metadata": {},
   "outputs": [],
   "source": [
    "def calculate_grid_error(model_path):\n",
    "    data = pd.read_csv(f'../ts_data/grid.csv', index_col=[0])\n",
    "    look_back = 14 * 7  # 14 hours in to 7 days\n",
    "\n",
    "    # train, val, test split\n",
    "    train, val, test = util.split_hourly_data(data, look_back)\n",
    "    train_df = train[['power']]\n",
    "    \n",
    "    results_df = pd.read_csv(f'../{model_path}/grid.csv', index_col=[0])\n",
    "    test_sample = results_df['power'].values\n",
    "    if model_path == 'benchmark_results/arima':\n",
    "        forecasts = results_df['average_fc'].values\n",
    "    else:\n",
    "        forecasts = results_df['average_fc'].values\n",
    "    horizon = 14\n",
    "    \n",
    "    mean_err, error_dist = err.test_errors_nrmse(train_df.values, test_sample, forecasts, horizon)\n",
    "    return mean_err, error_dist"
   ]
  },
  {
   "cell_type": "code",
   "execution_count": 15,
   "id": "wound-richardson",
   "metadata": {},
   "outputs": [],
   "source": [
    "def read_loss_curve(path):\n",
    "    return pd.read_pickle(f'../{path}/training_loss_grid_iteration')\n",
    "\n",
    "def plot_loss(loss_array, models):\n",
    "\n",
    "    fig = make_subplots(rows = len(loss_array), shared_xaxes=True)\n",
    "    \n",
    "    i =0\n",
    "    for loss in loss_array:\n",
    "        fig.add_trace(go.Scatter(y= loss['loss'] , name = f'{models[i]}_train-loss' ), row = i+1, col=1)\n",
    "#         fig.add_trace(go.Scatter(y= loss['val_loss'], name = f'{models[i]}_val-loss'), row = i+1, col=1)\n",
    "        i +=1\n",
    "        \n",
    "    fig.update_xaxes(title=\"Epochs\", row=i, col=1)\n",
    "    fig.show()\n",
    "    \n",
    "def show_loss(path_list, model_names):\n",
    "    loss_vals = []\n",
    "    for path in path_list:\n",
    "        loss_vals.append(read_loss_curve(path))\n",
    "    plot_loss(loss_vals, model_names)"
   ]
  },
  {
   "cell_type": "markdown",
   "id": "changing-porcelain",
   "metadata": {},
   "source": [
    "## Model 1 - Architecture"
   ]
  },
  {
   "cell_type": "markdown",
   "id": "senior-street",
   "metadata": {},
   "source": [
    "<img src=\"../images/New_images/model1.png\">"
   ]
  },
  {
   "cell_type": "code",
   "execution_count": 32,
   "id": "eastern-standing",
   "metadata": {},
   "outputs": [],
   "source": [
    "path1 = 'combined_nn_results/refined_models/model1'\n",
    "# rmse1, dist1 = calculate_grid_error(path1)"
   ]
  },
  {
   "cell_type": "code",
   "execution_count": 5,
   "id": "demonstrated-waters",
   "metadata": {},
   "outputs": [
    {
     "data": {
      "text/plain": [
       "0.4689518104839537"
      ]
     },
     "execution_count": 5,
     "metadata": {},
     "output_type": "execute_result"
    }
   ],
   "source": [
    "rmse1"
   ]
  },
  {
   "cell_type": "markdown",
   "id": "impressive-reader",
   "metadata": {},
   "source": [
    "## Model 2 - Architecture"
   ]
  },
  {
   "cell_type": "markdown",
   "id": "passive-pound",
   "metadata": {},
   "source": [
    "<img src=\"../images/new_images/model2.png\">"
   ]
  },
  {
   "cell_type": "code",
   "execution_count": 14,
   "id": "sensitive-wichita",
   "metadata": {},
   "outputs": [],
   "source": [
    "path2 = 'combined_nn_results/refined_models/model2'\n",
    "rmse2, dist2 = calculate_grid_error(path2)"
   ]
  },
  {
   "cell_type": "code",
   "execution_count": 15,
   "id": "silent-irish",
   "metadata": {},
   "outputs": [
    {
     "data": {
      "text/plain": [
       "0.4851028450736508"
      ]
     },
     "execution_count": 15,
     "metadata": {},
     "output_type": "execute_result"
    }
   ],
   "source": [
    "rmse2"
   ]
  },
  {
   "cell_type": "markdown",
   "id": "contained-barcelona",
   "metadata": {},
   "source": [
    "## Model 3 - Architecture"
   ]
  },
  {
   "cell_type": "markdown",
   "id": "cosmetic-introduction",
   "metadata": {},
   "source": [
    "<img src=\"../images/new_images/model3.png\">"
   ]
  },
  {
   "cell_type": "code",
   "execution_count": 16,
   "id": "northern-norwegian",
   "metadata": {},
   "outputs": [],
   "source": [
    "# dense layer 14 output from each branch\n",
    "path3 = 'combined_nn_results/refined_models/model3'\n",
    "rmse3, dist3 = calculate_grid_error(path3)"
   ]
  },
  {
   "cell_type": "code",
   "execution_count": 17,
   "id": "surprising-surveillance",
   "metadata": {},
   "outputs": [
    {
     "data": {
      "text/plain": [
       "0.40207853214251055"
      ]
     },
     "execution_count": 17,
     "metadata": {},
     "output_type": "execute_result"
    }
   ],
   "source": [
    "rmse3"
   ]
  },
  {
   "cell_type": "markdown",
   "id": "characteristic-heating",
   "metadata": {},
   "source": [
    "## Model 4 - Architecture "
   ]
  },
  {
   "cell_type": "markdown",
   "id": "removed-rachel",
   "metadata": {},
   "source": [
    "<img src=\"../images/new_images/model4.png\">"
   ]
  },
  {
   "cell_type": "code",
   "execution_count": 18,
   "id": "permanent-sequence",
   "metadata": {},
   "outputs": [],
   "source": [
    "path4 = 'combined_nn_results/refined_models/model4'\n",
    "rmse4, dist4 = calculate_grid_error(path4)"
   ]
  },
  {
   "cell_type": "code",
   "execution_count": 19,
   "id": "literary-mapping",
   "metadata": {},
   "outputs": [
    {
     "data": {
      "text/plain": [
       "0.48270205794177873"
      ]
     },
     "execution_count": 19,
     "metadata": {},
     "output_type": "execute_result"
    }
   ],
   "source": [
    "rmse4"
   ]
  },
  {
   "cell_type": "markdown",
   "id": "cordless-dollar",
   "metadata": {},
   "source": [
    "## Model 5 - Architecture"
   ]
  },
  {
   "cell_type": "markdown",
   "id": "vocational-bangkok",
   "metadata": {},
   "source": [
    "<img src=\"../images/new_images/model5.png\">"
   ]
  },
  {
   "cell_type": "code",
   "execution_count": 20,
   "id": "religious-printer",
   "metadata": {},
   "outputs": [],
   "source": [
    "path5 = 'combined_nn_results/refined_models/model5'\n",
    "rmse5, dist5 = calculate_grid_error(path5)"
   ]
  },
  {
   "cell_type": "code",
   "execution_count": 21,
   "id": "widespread-month",
   "metadata": {},
   "outputs": [
    {
     "data": {
      "text/plain": [
       "0.4746874638641852"
      ]
     },
     "execution_count": 21,
     "metadata": {},
     "output_type": "execute_result"
    }
   ],
   "source": [
    "rmse5"
   ]
  },
  {
   "cell_type": "markdown",
   "id": "clean-vanilla",
   "metadata": {},
   "source": [
    "## Model 6"
   ]
  },
  {
   "cell_type": "markdown",
   "id": "independent-louisville",
   "metadata": {},
   "source": [
    "Same architecture as Model 5 but with new data"
   ]
  },
  {
   "cell_type": "code",
   "execution_count": 22,
   "id": "identified-tractor",
   "metadata": {},
   "outputs": [],
   "source": [
    "# model 6 used the new pre processing of data\n",
    "\n",
    "path6 = 'combined_nn_results/refined_models/model6'\n",
    "rmse6, dist6 = calculate_grid_error(path6)"
   ]
  },
  {
   "cell_type": "code",
   "execution_count": 23,
   "id": "confirmed-conjunction",
   "metadata": {},
   "outputs": [
    {
     "data": {
      "text/plain": [
       "0.3899444423059909"
      ]
     },
     "execution_count": 23,
     "metadata": {},
     "output_type": "execute_result"
    }
   ],
   "source": [
    "rmse6"
   ]
  },
  {
   "cell_type": "markdown",
   "id": "declared-channel",
   "metadata": {},
   "source": [
    "## Model 7"
   ]
  },
  {
   "cell_type": "markdown",
   "id": "rotary-census",
   "metadata": {},
   "source": [
    "Reduced the convolution layers to 2"
   ]
  },
  {
   "cell_type": "code",
   "execution_count": 24,
   "id": "medical-champion",
   "metadata": {},
   "outputs": [],
   "source": [
    "path7 = 'combined_nn_results/refined_models/model7'\n",
    "rmse7, dist7 = calculate_grid_error(path7)"
   ]
  },
  {
   "cell_type": "code",
   "execution_count": 25,
   "id": "excessive-belly",
   "metadata": {},
   "outputs": [
    {
     "data": {
      "text/plain": [
       "0.3390148849998616"
      ]
     },
     "execution_count": 25,
     "metadata": {},
     "output_type": "execute_result"
    }
   ],
   "source": [
    "rmse7"
   ]
  },
  {
   "cell_type": "markdown",
   "id": "standard-stocks",
   "metadata": {},
   "source": [
    "## Model 8"
   ]
  },
  {
   "cell_type": "code",
   "execution_count": 26,
   "id": "voluntary-lunch",
   "metadata": {},
   "outputs": [],
   "source": [
    "path8 = 'combined_nn_results/refined_models/model8'\n",
    "rmse8, dist8 = calculate_grid_error(path8)"
   ]
  },
  {
   "cell_type": "code",
   "execution_count": 27,
   "id": "challenging-ottawa",
   "metadata": {},
   "outputs": [
    {
     "data": {
      "text/plain": [
       "0.40559583690922857"
      ]
     },
     "execution_count": 27,
     "metadata": {},
     "output_type": "execute_result"
    }
   ],
   "source": [
    "rmse8"
   ]
  },
  {
   "cell_type": "markdown",
   "id": "passive-heading",
   "metadata": {},
   "source": [
    "## Model 9"
   ]
  },
  {
   "cell_type": "code",
   "execution_count": 28,
   "id": "technical-scoop",
   "metadata": {},
   "outputs": [],
   "source": [
    "path9 = 'combined_nn_results/refined_models/model9'\n",
    "rmse9, dist9 = calculate_grid_error(path9)"
   ]
  },
  {
   "cell_type": "code",
   "execution_count": 29,
   "id": "connected-group",
   "metadata": {},
   "outputs": [
    {
     "data": {
      "text/plain": [
       "0.3552818973681426"
      ]
     },
     "execution_count": 29,
     "metadata": {},
     "output_type": "execute_result"
    }
   ],
   "source": [
    "rmse9"
   ]
  },
  {
   "cell_type": "code",
   "execution_count": 30,
   "id": "based-stanford",
   "metadata": {},
   "outputs": [],
   "source": [
    "path10 = 'combined_nn_results/refined_models/model10'\n",
    "rmse10, dist10 = calculate_grid_error(path10)"
   ]
  },
  {
   "cell_type": "code",
   "execution_count": 31,
   "id": "brave-narrative",
   "metadata": {},
   "outputs": [
    {
     "data": {
      "text/plain": [
       "0.3641159126739144"
      ]
     },
     "execution_count": 31,
     "metadata": {},
     "output_type": "execute_result"
    }
   ],
   "source": [
    "rmse10"
   ]
  },
  {
   "cell_type": "code",
   "execution_count": 32,
   "id": "academic-communications",
   "metadata": {},
   "outputs": [],
   "source": [
    "path11 = 'combined_nn_results/refined_models/model11'\n",
    "rmse11, dist11 = calculate_grid_error(path11)"
   ]
  },
  {
   "cell_type": "code",
   "execution_count": 33,
   "id": "constitutional-spirit",
   "metadata": {},
   "outputs": [
    {
     "data": {
      "text/plain": [
       "0.38913993761101306"
      ]
     },
     "execution_count": 33,
     "metadata": {},
     "output_type": "execute_result"
    }
   ],
   "source": [
    "rmse11"
   ]
  },
  {
   "cell_type": "markdown",
   "id": "physical-poison",
   "metadata": {},
   "source": [
    "## Grid only model"
   ]
  },
  {
   "cell_type": "code",
   "execution_count": 34,
   "id": "current-segment",
   "metadata": {},
   "outputs": [],
   "source": [
    "path_grid = 'combined_nn_results/refined_models/grid_model'\n",
    "rmse_grid, dist_grid = calculate_grid_error(path_grid)"
   ]
  },
  {
   "cell_type": "code",
   "execution_count": 35,
   "id": "flush-november",
   "metadata": {},
   "outputs": [
    {
     "data": {
      "text/plain": [
       "0.40673213392218766"
      ]
     },
     "execution_count": 35,
     "metadata": {},
     "output_type": "execute_result"
    }
   ],
   "source": [
    "rmse_grid"
   ]
  },
  {
   "cell_type": "code",
   "execution_count": 36,
   "id": "competent-livestock",
   "metadata": {},
   "outputs": [],
   "source": [
    "arimapath = 'benchmark_results/arima'\n",
    "arima_gridrmse, arima_grid = calculate_grid_error(arimapath)"
   ]
  },
  {
   "cell_type": "code",
   "execution_count": 37,
   "id": "hydraulic-sport",
   "metadata": {},
   "outputs": [
    {
     "data": {
      "text/plain": [
       "0.3633728789167558"
      ]
     },
     "execution_count": 37,
     "metadata": {},
     "output_type": "execute_result"
    }
   ],
   "source": [
    "arima_gridrmse"
   ]
  },
  {
   "cell_type": "markdown",
   "id": "transsexual-brisbane",
   "metadata": {},
   "source": [
    "## Residual Model"
   ]
  },
  {
   "cell_type": "code",
   "execution_count": 38,
   "id": "timely-edmonton",
   "metadata": {},
   "outputs": [],
   "source": [
    "res_model = 'combined_nn_results/refined_models/residual_model'\n",
    "rmse_res, dist_res = calculate_grid_error(res_model)"
   ]
  },
  {
   "cell_type": "code",
   "execution_count": 39,
   "id": "minute-carbon",
   "metadata": {},
   "outputs": [
    {
     "data": {
      "text/plain": [
       "0.41429881593906076"
      ]
     },
     "execution_count": 39,
     "metadata": {},
     "output_type": "execute_result"
    }
   ],
   "source": [
    "rmse_res"
   ]
  },
  {
   "cell_type": "code",
   "execution_count": 40,
   "id": "diverse-possession",
   "metadata": {},
   "outputs": [
    {
     "data": {
      "text/plain": [
       "0.36800180112890035"
      ]
     },
     "execution_count": 40,
     "metadata": {},
     "output_type": "execute_result"
    }
   ],
   "source": [
    "res_model2 = 'combined_nn_results/refined_models/residual_model2'\n",
    "rmse_res2, dist_res2 = calculate_grid_error(res_model2)\n",
    "rmse_res2"
   ]
  },
  {
   "cell_type": "code",
   "execution_count": 41,
   "id": "average-delivery",
   "metadata": {},
   "outputs": [
    {
     "data": {
      "text/plain": [
       "0.37354493435902414"
      ]
     },
     "execution_count": 41,
     "metadata": {},
     "output_type": "execute_result"
    }
   ],
   "source": [
    "res_model3 = 'combined_nn_results/refined_models/residual_model3'\n",
    "rmse_res3, dist_res3= calculate_grid_error(res_model3)\n",
    "rmse_res3"
   ]
  },
  {
   "cell_type": "markdown",
   "id": "abstract-receptor",
   "metadata": {},
   "source": [
    "Postcode only"
   ]
  },
  {
   "cell_type": "code",
   "execution_count": 42,
   "id": "inappropriate-amount",
   "metadata": {},
   "outputs": [
    {
     "data": {
      "text/plain": [
       "0.341281379861684"
      ]
     },
     "execution_count": 42,
     "metadata": {},
     "output_type": "execute_result"
    }
   ],
   "source": [
    "pc_only = 'combined_nn_results/refined_models/postcode_only'\n",
    "rmse_pc, dist_pc= calculate_grid_error(pc_only)\n",
    "rmse_pc"
   ]
  },
  {
   "cell_type": "code",
   "execution_count": 43,
   "id": "going-adelaide",
   "metadata": {},
   "outputs": [
    {
     "data": {
      "text/plain": [
       "0.42601355474826996"
      ]
     },
     "execution_count": 43,
     "metadata": {},
     "output_type": "execute_result"
    }
   ],
   "source": [
    "pc_only2 = 'combined_nn_results/refined_models/postcode_only2' # without layer normalization\n",
    "rmse_pc2, dist_pc2= calculate_grid_error(pc_only2)\n",
    "rmse_pc2"
   ]
  },
  {
   "cell_type": "markdown",
   "id": "copyrighted-accreditation",
   "metadata": {},
   "source": [
    "Residual block"
   ]
  },
  {
   "cell_type": "code",
   "execution_count": 44,
   "id": "english-fourth",
   "metadata": {},
   "outputs": [
    {
     "data": {
      "text/plain": [
       "0.3894877543909436"
      ]
     },
     "execution_count": 44,
     "metadata": {},
     "output_type": "execute_result"
    }
   ],
   "source": [
    "res_block = 'combined_nn_results/refined_models/residual_block'\n",
    "rmse_resblock, dist_resblock= calculate_grid_error(res_block)\n",
    "rmse_resblock"
   ]
  },
  {
   "cell_type": "code",
   "execution_count": 45,
   "id": "known-group",
   "metadata": {},
   "outputs": [
    {
     "data": {
      "text/plain": [
       "0.3808541439075752"
      ]
     },
     "execution_count": 45,
     "metadata": {},
     "output_type": "execute_result"
    }
   ],
   "source": [
    "res_block2 = 'combined_nn_results/refined_models/residual_block2'\n",
    "rmse_resblock2, dist_resblock2= calculate_grid_error(res_block2)\n",
    "rmse_resblock2"
   ]
  },
  {
   "cell_type": "markdown",
   "id": "fd491391",
   "metadata": {},
   "source": [
    "Local Conv + Grid Input for Each PC"
   ]
  },
  {
   "cell_type": "code",
   "execution_count": 46,
   "id": "0ad92c76",
   "metadata": {},
   "outputs": [
    {
     "data": {
      "text/plain": [
       "0.37648212505446166"
      ]
     },
     "execution_count": 46,
     "metadata": {},
     "output_type": "execute_result"
    }
   ],
   "source": [
    "local_conv_with_grid = 'combined_nn_results/refined_models/local_conv_with_grid'\n",
    "local_conv_with_grid_rmse, local_conv_with_grid_dist= calculate_grid_error(local_conv_with_grid)\n",
    "local_conv_with_grid_rmse"
   ]
  },
  {
   "cell_type": "markdown",
   "id": "52d0071e",
   "metadata": {},
   "source": [
    "TCN"
   ]
  },
  {
   "cell_type": "code",
   "execution_count": 71,
   "id": "85381154",
   "metadata": {},
   "outputs": [
    {
     "data": {
      "text/plain": [
       "0.3507372406813527"
      ]
     },
     "execution_count": 71,
     "metadata": {},
     "output_type": "execute_result"
    }
   ],
   "source": [
    "local_conv_with_grid_TCN = 'combined_nn_results/refined_models/local_conv_with_grid_with_TCN_approach'\n",
    "local_conv_with_grid_rmse_TCN, local_conv_with_grid_dist_TCN = calculate_grid_error(local_conv_with_grid_TCN)\n",
    "local_conv_with_grid_rmse_TCN"
   ]
  },
  {
   "cell_type": "markdown",
   "id": "9d5ee1c9",
   "metadata": {},
   "source": [
    "Last Residual Approach with TCN"
   ]
  },
  {
   "cell_type": "code",
   "execution_count": 4,
   "id": "6ea1b545",
   "metadata": {},
   "outputs": [
    {
     "data": {
      "text/plain": [
       "0.32165229733562906"
      ]
     },
     "execution_count": 4,
     "metadata": {},
     "output_type": "execute_result"
    }
   ],
   "source": [
    "last_res_conv_with_grid_TCN = 'combined_nn_results/refined_models/last_residual_approach_with_TCN'\n",
    "last_res_conv_with_grid_TCN_rmse, last_res_conv_with_grid_TCN_dist = calculate_grid_error(last_res_conv_with_grid_TCN)\n",
    "last_res_conv_with_grid_TCN_rmse"
   ]
  },
  {
   "cell_type": "markdown",
   "id": "6a9ff280",
   "metadata": {},
   "source": [
    "last_residual_approach_with_TCN_skip_connectionTrue"
   ]
  },
  {
   "cell_type": "code",
   "execution_count": 11,
   "id": "027e7299",
   "metadata": {},
   "outputs": [
    {
     "data": {
      "text/plain": [
       "0.3381568648713746"
      ]
     },
     "execution_count": 11,
     "metadata": {},
     "output_type": "execute_result"
    }
   ],
   "source": [
    "last_residual_approach_with_TCN_skip = 'combined_nn_results/refined_models/last_residual_approach_with_TCN_skip_connectionTrue'\n",
    "last_residual_approach_with_TCN_skip_rmse, last_residual_approach_with_TCN_skip_dist = calculate_grid_error(last_residual_approach_with_TCN_skip)\n",
    "last_residual_approach_with_TCN_skip_rmse"
   ]
  },
  {
   "cell_type": "markdown",
   "id": "3ab3646e",
   "metadata": {},
   "source": [
    "last_residual_approach_with_TCN_skip_connectionTrueMoreLayers"
   ]
  },
  {
   "cell_type": "code",
   "execution_count": 12,
   "id": "b2af2c52",
   "metadata": {},
   "outputs": [
    {
     "data": {
      "text/plain": [
       "0.36271567739333344"
      ]
     },
     "execution_count": 12,
     "metadata": {},
     "output_type": "execute_result"
    }
   ],
   "source": [
    "last_residual_approach_with_TCN_skip_connectionTrueMoreLayers = 'combined_nn_results/refined_models/last_residual_approach_with_TCN_skip_connectionTrueMoreLayers'\n",
    "last_residual_approach_with_TCN_skip_connectionTrueMoreLayers_rmse, last_residual_approach_with_TCN_skip_connectionTrueMoreLayers_dist = calculate_grid_error(last_residual_approach_with_TCN_skip_connectionTrueMoreLayers)\n",
    "last_residual_approach_with_TCN_skip_connectionTrueMoreLayers_rmse"
   ]
  },
  {
   "cell_type": "markdown",
   "id": "1ba48784",
   "metadata": {},
   "source": [
    "PC ONLY TCN"
   ]
  },
  {
   "cell_type": "code",
   "execution_count": 5,
   "id": "2b9976a4",
   "metadata": {},
   "outputs": [
    {
     "data": {
      "text/plain": [
       "0.3491998225899857"
      ]
     },
     "execution_count": 5,
     "metadata": {},
     "output_type": "execute_result"
    }
   ],
   "source": [
    "PC_only_TCN = 'combined_nn_results/refined_models/postcode_only_TCN'\n",
    "PC_only_TCN_rmse, PC_only_TCN_dist = calculate_grid_error(PC_only_TCN)\n",
    "PC_only_TCN_rmse"
   ]
  },
  {
   "cell_type": "markdown",
   "id": "f34dbf36",
   "metadata": {},
   "source": [
    "local_conv_with_grid_conv_TCN_approach"
   ]
  },
  {
   "cell_type": "code",
   "execution_count": 6,
   "id": "95b0d810",
   "metadata": {},
   "outputs": [
    {
     "data": {
      "text/plain": [
       "0.3752518123109525"
      ]
     },
     "execution_count": 6,
     "metadata": {},
     "output_type": "execute_result"
    }
   ],
   "source": [
    "local_conv_with_grid_conv_TCN_approach = 'combined_nn_results/refined_models/local_conv_with_grid_conv_TCN_approach'\n",
    "local_conv_with_grid_conv_TCN_approach_rmse, local_conv_with_grid_conv_TCN_approach_dist = calculate_grid_error(local_conv_with_grid_conv_TCN_approach)\n",
    "local_conv_with_grid_conv_TCN_approach_rmse\n"
   ]
  },
  {
   "cell_type": "markdown",
   "id": "8bf82836",
   "metadata": {},
   "source": [
    "pc_and_grid_input_together"
   ]
  },
  {
   "cell_type": "code",
   "execution_count": 8,
   "id": "1eb1d684",
   "metadata": {},
   "outputs": [
    {
     "data": {
      "text/plain": [
       "0.34537338716494126"
      ]
     },
     "execution_count": 8,
     "metadata": {},
     "output_type": "execute_result"
    }
   ],
   "source": [
    "pc_and_grid_input_together = 'combined_nn_results/refined_models/pc_and_grid_input_together'\n",
    "pc_and_grid_input_together_rmse, pc_and_grid_input_together_dist = calculate_grid_error(pc_and_grid_input_together)\n",
    "pc_and_grid_input_together_rmse"
   ]
  },
  {
   "cell_type": "markdown",
   "id": "a447dd27",
   "metadata": {},
   "source": [
    "grid_added_at_each_TCN_together"
   ]
  },
  {
   "cell_type": "code",
   "execution_count": 9,
   "id": "3228d41f",
   "metadata": {},
   "outputs": [
    {
     "data": {
      "text/plain": [
       "0.35743335224330935"
      ]
     },
     "execution_count": 9,
     "metadata": {},
     "output_type": "execute_result"
    }
   ],
   "source": [
    "grid_added_at_each_TCN_together = 'combined_nn_results/refined_models/grid_added_at_each_TCN_together'\n",
    "grid_added_at_each_TCN_together_rmse, grid_added_at_each_TCN_together_dist = calculate_grid_error(grid_added_at_each_TCN_together)\n",
    "grid_added_at_each_TCN_together_rmse"
   ]
  },
  {
   "cell_type": "markdown",
   "id": "ded04357",
   "metadata": {},
   "source": [
    "grid_conv_added_at_each_TCN_together"
   ]
  },
  {
   "cell_type": "code",
   "execution_count": 10,
   "id": "7c485d41",
   "metadata": {},
   "outputs": [
    {
     "data": {
      "text/plain": [
       "0.32865881657044227"
      ]
     },
     "execution_count": 10,
     "metadata": {},
     "output_type": "execute_result"
    }
   ],
   "source": [
    "grid_conv_added_at_each_TCN_together = 'combined_nn_results/refined_models/grid_conv_added_at_each_TCN_together'\n",
    "grid_conv_added_at_each_TCN_together_rmse, grid_conv_added_at_each_TCN_together_dist = calculate_grid_error(grid_conv_added_at_each_TCN_together)\n",
    "grid_conv_added_at_each_TCN_together_rmse"
   ]
  },
  {
   "cell_type": "markdown",
   "id": "b55c7b5c",
   "metadata": {},
   "source": [
    "### Without Skip"
   ]
  },
  {
   "cell_type": "code",
   "execution_count": 13,
   "id": "d9a3583d",
   "metadata": {},
   "outputs": [
    {
     "data": {
      "text/plain": [
       "0.3211726877855623"
      ]
     },
     "execution_count": 13,
     "metadata": {},
     "output_type": "execute_result"
    }
   ],
   "source": [
    "PC_only_TCN2 = 'combined_nn_results/refined_models/without_skip/postcode_only_TCN'\n",
    "PC_only_TCN2_rmse, PC_only_TCN2_dist = calculate_grid_error(PC_only_TCN2)\n",
    "PC_only_TCN2_rmse"
   ]
  },
  {
   "cell_type": "code",
   "execution_count": 14,
   "id": "c2337d94",
   "metadata": {},
   "outputs": [
    {
     "data": {
      "text/plain": [
       "0.3129393434868755"
      ]
     },
     "execution_count": 14,
     "metadata": {},
     "output_type": "execute_result"
    }
   ],
   "source": [
    "last_res_conv_with_grid_TCN2 = 'combined_nn_results/refined_models/without_skip/last_residual_approach_with_TCN'\n",
    "last_res_conv_with_grid_TCN2_rmse, last_res_conv_with_grid_TCN2_dist = calculate_grid_error(last_res_conv_with_grid_TCN2)\n",
    "last_res_conv_with_grid_TCN2_rmse"
   ]
  },
  {
   "cell_type": "code",
   "execution_count": 16,
   "id": "1810d683",
   "metadata": {},
   "outputs": [
    {
     "data": {
      "text/plain": [
       "0.3585855865894618"
      ]
     },
     "execution_count": 16,
     "metadata": {},
     "output_type": "execute_result"
    }
   ],
   "source": [
    "grid_conv_added_at_each_TCN_together2 = 'combined_nn_results/refined_models/without_skip/grid_conv_added_at_each_TCN_together'\n",
    "grid_conv_added_at_each_TCN_together2_rmse, grid_conv_added_at_each_TCN_together2_dist = calculate_grid_error(grid_conv_added_at_each_TCN_together2)\n",
    "grid_conv_added_at_each_TCN_together2_rmse"
   ]
  },
  {
   "cell_type": "code",
   "execution_count": 17,
   "id": "b73e3164",
   "metadata": {},
   "outputs": [
    {
     "data": {
      "text/plain": [
       "0.36953024768820913"
      ]
     },
     "execution_count": 17,
     "metadata": {},
     "output_type": "execute_result"
    }
   ],
   "source": [
    "grid_added_at_each_TCN_together2 = 'combined_nn_results/refined_models/without_skip/grid_added_at_each_TCN_together'\n",
    "grid_added_at_each_TCN_together2_rmse, grid_added_at_each_TCN_together2_dist = calculate_grid_error(grid_added_at_each_TCN_together2)\n",
    "grid_added_at_each_TCN_together2_rmse"
   ]
  },
  {
   "cell_type": "code",
   "execution_count": 19,
   "id": "093768fc",
   "metadata": {},
   "outputs": [
    {
     "data": {
      "text/plain": [
       "0.35049988934963827"
      ]
     },
     "execution_count": 19,
     "metadata": {},
     "output_type": "execute_result"
    }
   ],
   "source": [
    "local_conv_with_grid_conv_TCN_approach2 = 'combined_nn_results/refined_models/without_skip/local_conv_with_grid_conv_TCN_approach'\n",
    "local_conv_with_grid_conv_TCN_approach_rmse2, local_conv_with_grid_conv_TCN_approach_dist2 = calculate_grid_error(local_conv_with_grid_conv_TCN_approach2)\n",
    "local_conv_with_grid_conv_TCN_approach_rmse2"
   ]
  },
  {
   "cell_type": "code",
   "execution_count": 20,
   "id": "c31fa09c",
   "metadata": {},
   "outputs": [
    {
     "data": {
      "text/plain": [
       "0.34998833199056467"
      ]
     },
     "execution_count": 20,
     "metadata": {},
     "output_type": "execute_result"
    }
   ],
   "source": [
    "pc_and_grid_input_together2 = 'combined_nn_results/refined_models/without_skip/pc_and_grid_input_together'\n",
    "pc_and_grid_input_together2_rmse, pc_and_grid_input_together2_dist = calculate_grid_error(pc_and_grid_input_together2)\n",
    "pc_and_grid_input_together2_rmse"
   ]
  },
  {
   "cell_type": "code",
   "execution_count": null,
   "id": "c1764509",
   "metadata": {},
   "outputs": [],
   "source": []
  },
  {
   "cell_type": "code",
   "execution_count": 41,
   "id": "35ddfc6c",
   "metadata": {},
   "outputs": [
    {
     "data": {
      "text/plain": [
       "0.31464616624795994"
      ]
     },
     "execution_count": 41,
     "metadata": {},
     "output_type": "execute_result"
    }
   ],
   "source": [
    "PC_only_TCN3 = 'combined_nn_results/refined_models/multiple_runs/postcode_only_TCN'\n",
    "PC_only_TCN3_rmse, PC_only_TCN3_dist = calculate_grid_error(PC_only_TCN3)\n",
    "PC_only_TCN3_rmse"
   ]
  },
  {
   "cell_type": "code",
   "execution_count": 40,
   "id": "a2ba20c8",
   "metadata": {},
   "outputs": [
    {
     "data": {
      "text/plain": [
       "0.3329459269634783"
      ]
     },
     "execution_count": 40,
     "metadata": {},
     "output_type": "execute_result"
    }
   ],
   "source": [
    "last_res_conv_with_grid_TCN3 = 'combined_nn_results/refined_models/multiple_runs/last_residual_approach_with_TCN'\n",
    "last_res_conv_with_grid_TCN3_rmse, last_res_conv_with_grid_TCN3_dist = calculate_grid_error(last_res_conv_with_grid_TCN3)\n",
    "last_res_conv_with_grid_TCN3_rmse"
   ]
  },
  {
   "cell_type": "markdown",
   "id": "convinced-sunday",
   "metadata": {},
   "source": [
    "## Loss Curves"
   ]
  },
  {
   "cell_type": "code",
   "execution_count": 19,
   "id": "712d890f",
   "metadata": {},
   "outputs": [],
   "source": [
    "pc_tcn = 'combined_nn_results/refined_models/multiple_runs2/last_residual_approach_with_TCN/0'\n",
    "pc_tcn2 = 'combined_nn_results/refined_models/multiple_runs2/last_residual_approach_with_TCN/1'\n",
    "pc_tcn3 = 'combined_nn_results/refined_models/multiple_runs2/last_residual_approach_with_TCN/2'"
   ]
  },
  {
   "cell_type": "code",
   "execution_count": 20,
   "id": "invalid-large",
   "metadata": {},
   "outputs": [
    {
     "data": {
      "application/vnd.plotly.v1+json": {
       "config": {
        "plotlyServerURL": "https://plot.ly"
       },
       "data": [
        {
         "name": "PC Conv_train-loss",
         "type": "scatter",
         "xaxis": "x",
         "y": [
          450.4568176269531,
          27.859464645385742,
          23.03879737854004,
          21.155914306640625,
          19.66954231262207,
          18.328887939453125,
          17.125577926635742,
          16.2476863861084,
          15.145252227783203,
          14.392034530639648,
          13.776779174804688,
          13.53879451751709,
          12.6898832321167,
          11.922061920166016,
          11.688807487487793,
          11.235624313354492,
          10.83564281463623,
          10.494194984436035,
          10.153372764587402,
          9.862419128417969,
          9.496630668640137,
          9.311933517456055,
          8.927033424377441,
          8.714994430541992,
          8.51570987701416,
          8.171631813049316,
          8.011906623840332,
          7.827907562255859,
          7.622398853302002,
          7.401063919067383,
          7.310801029205322,
          7.087535381317139,
          6.929891109466553,
          6.766607761383057,
          6.588913440704346,
          6.48495626449585,
          6.30277156829834,
          6.2636919021606445,
          6.02335786819458,
          5.933016300201416,
          5.862852573394775,
          5.728094577789307,
          5.596701145172119,
          5.508020877838135,
          5.407365322113037,
          5.2925801277160645,
          5.1999006271362305,
          5.098514080047607,
          4.975518703460693,
          4.915171146392822,
          4.805569648742676,
          4.771151065826416,
          4.715163707733154,
          4.558419704437256,
          4.521462440490723,
          4.458622455596924,
          4.346606731414795,
          4.2716169357299805,
          4.238997459411621,
          4.1545729637146,
          4.092430591583252,
          3.9619388580322266,
          3.991056203842163,
          3.8817458152770996,
          3.811772346496582,
          3.824155807495117,
          3.7368412017822266,
          3.665778160095215,
          3.598114252090454,
          3.5605170726776123,
          3.5184166431427,
          3.4499995708465576,
          3.405933380126953,
          3.349475622177124,
          3.2849209308624268,
          3.2247540950775146,
          3.2359395027160645,
          3.138772964477539,
          3.1269092559814453,
          3.0907504558563232,
          3.0120701789855957,
          2.9911584854125977,
          2.9518511295318604,
          2.8959221839904785,
          2.8766984939575195,
          2.8278448581695557,
          2.7581164836883545,
          2.763000011444092,
          2.727479934692383,
          2.6966264247894287,
          2.6468236446380615,
          2.614194631576538,
          2.5788421630859375,
          2.5246024131774902,
          2.5085484981536865,
          2.487025737762451,
          2.432908535003662,
          2.404413938522339,
          2.3769826889038086,
          2.3262572288513184,
          2.28161883354187,
          2.295131206512451,
          2.241286277770996,
          2.1998555660247803,
          2.2162275314331055,
          2.1791436672210693,
          2.172464609146118,
          2.1340689659118652,
          2.08712100982666,
          2.0788190364837646,
          2.0501675605773926,
          2.027097702026367,
          2.007514238357544,
          1.9607399702072144,
          1.9482603073120117,
          1.906630277633667,
          1.9012490510940552,
          1.8668313026428223,
          1.8527061939239502,
          1.8198785781860352,
          1.7983760833740234,
          1.7746431827545166,
          1.7765424251556396,
          1.729095458984375,
          1.7299824953079224,
          1.716385841369629,
          1.6891785860061646,
          1.6655383110046387,
          1.6277453899383545,
          1.6200571060180664,
          1.5998220443725586,
          1.5867966413497925,
          1.5815435647964478,
          1.5522119998931885,
          1.533613920211792,
          1.5316290855407715,
          1.5081391334533691,
          1.4701482057571411,
          1.4587761163711548,
          1.4432913064956665,
          1.4371258020401,
          1.4176098108291626,
          1.3828930854797363,
          1.3790463209152222,
          1.3595571517944336,
          1.3634027242660522,
          1.3434616327285767,
          1.343186616897583,
          1.3215185403823853,
          1.3022682666778564,
          1.282459020614624,
          1.2662200927734375,
          1.2508656978607178,
          1.2497204542160034,
          1.2234092950820923,
          1.207574486732483,
          1.1878012418746948,
          1.1811206340789795,
          1.1880135536193848,
          1.15579092502594,
          1.1403313875198364,
          1.1116575002670288,
          1.1128146648406982,
          1.0994503498077393,
          1.0944031476974487,
          1.0742638111114502,
          1.0828979015350342,
          1.0668697357177734,
          1.0427321195602417,
          1.0488371849060059,
          1.0313969850540161,
          1.0210919380187988,
          1.0055856704711914,
          0.9922689199447632,
          0.9829813241958618,
          0.9835253953933716,
          0.9590229988098145,
          0.9466301202774048,
          0.9423619508743286,
          0.925567090511322,
          0.922273576259613,
          0.9198508262634277,
          0.9045488238334656,
          0.8942444920539856,
          0.8807330131530762,
          0.8800280690193176,
          0.8714004158973694,
          0.8493688702583313,
          0.8492121696472168,
          0.8356221318244934,
          0.8273499608039856,
          0.8260246515274048,
          0.8207312226295471,
          0.8118950128555298,
          0.7981191277503967,
          0.7915021777153015,
          0.7824398875236511,
          0.7726038098335266,
          0.7676295042037964,
          0.7591814994812012,
          0.7562444806098938,
          0.741659939289093,
          0.7352044582366943,
          0.7282533049583435,
          0.7067763805389404,
          0.7107132077217102,
          0.7056498527526855,
          0.7028626203536987,
          0.692038357257843,
          0.6905620694160461,
          0.6771444082260132,
          0.6755539774894714,
          0.6685835123062134,
          0.6622251868247986,
          0.6471962928771973,
          0.6547648310661316,
          0.6396143436431885,
          0.6319620013237,
          0.6363283395767212,
          0.623224139213562,
          0.6183140277862549,
          0.6172239780426025,
          0.6055641174316406,
          0.6073270440101624,
          0.5986418128013611,
          0.5905539393424988,
          0.5875562429428101,
          0.5744451880455017,
          0.5747263431549072,
          0.5613023042678833,
          0.560530960559845,
          0.5590209364891052,
          0.5531274080276489,
          0.5533149242401123,
          0.5441850423812866,
          0.5439492464065552,
          0.5330406427383423,
          0.5284818410873413,
          0.5232774019241333,
          0.5210573673248291,
          0.5204980373382568,
          0.5139622688293457,
          0.5031668543815613,
          0.5091444849967957,
          0.4955776631832123,
          0.4915286600589752,
          0.4890877306461334,
          0.48045411705970764,
          0.4810253083705902,
          0.47905799746513367,
          0.4731420576572418,
          0.46842166781425476,
          0.4633854329586029,
          0.4658488631248474,
          0.46098801493644714,
          0.44977235794067383,
          0.4583498537540436,
          0.446809858083725,
          0.4369622468948364,
          0.44068899750709534,
          0.4338842034339905,
          0.433697372674942,
          0.426571249961853,
          0.4226562976837158,
          0.4225352108478546,
          0.42173364758491516,
          0.4181818962097168,
          0.4148027300834656,
          0.4121730327606201,
          0.4087052643299103,
          0.4012572467327118,
          0.3986954987049103,
          0.4019416570663452,
          0.3971719741821289,
          0.38996291160583496,
          0.3914284408092499,
          0.38638779520988464,
          0.38124513626098633,
          0.3850281536579132,
          0.37709495425224304,
          0.3735770285129547,
          0.3707025647163391,
          0.3736424148082733,
          0.366576224565506,
          0.36416593194007874,
          0.3664182424545288,
          0.3576543927192688,
          0.3603154122829437,
          0.35792914032936096,
          0.3550003468990326,
          0.350363165140152,
          0.34985053539276123,
          0.34698760509490967,
          0.34369343519210815,
          0.34245508909225464,
          0.3414502441883087,
          0.3451491594314575,
          0.33499953150749207,
          0.3393124043941498,
          0.33617207407951355,
          0.33680254220962524,
          0.3333494961261749,
          0.33004671335220337,
          0.33310115337371826,
          0.3279803991317749,
          0.330232709646225,
          0.33018040657043457,
          0.32996612787246704,
          0.32365283370018005,
          0.32430538535118103,
          0.32740744948387146,
          0.3259464502334595,
          0.322213351726532,
          0.3275550901889801,
          0.3285485506057739,
          0.3252679705619812,
          0.33128175139427185,
          0.32885122299194336,
          0.33661574125289917,
          0.3368259370326996,
          0.3421715497970581,
          0.3462291955947876,
          0.3526892066001892,
          0.362236887216568,
          0.37968143820762634,
          0.3910905718803406,
          0.39937853813171387,
          0.41607871651649475,
          0.43547365069389343,
          0.45175865292549133,
          0.4701610803604126,
          0.49753430485725403,
          0.5173394083976746,
          0.560688316822052,
          0.6201164126396179,
          0.6957381963729858,
          0.7842244505882263,
          0.9154380559921265,
          1.0968011617660522,
          1.2866755723953247,
          1.422662377357483,
          1.4400583505630493,
          1.3865129947662354,
          1.265207052230835,
          1.1950445175170898,
          1.123956561088562,
          1.044978141784668,
          0.9664102792739868,
          0.8721712827682495,
          0.7837831974029541,
          0.6945641040802002,
          0.6322780251502991,
          0.5718584060668945,
          0.5263020992279053,
          0.49124613404273987,
          0.46552014350891113,
          0.42964789271354675,
          0.41297754645347595,
          0.39669787883758545,
          0.3810286223888397,
          0.37330034375190735,
          0.35785406827926636,
          0.3570690453052521
         ],
         "yaxis": "y"
        },
        {
         "name": "2_train-loss",
         "type": "scatter",
         "xaxis": "x2",
         "y": [
          876.9838256835938,
          58.521114349365234,
          27.897260665893555,
          25.26874542236328,
          23.273386001586914,
          21.475343704223633,
          20.43163299560547,
          19.34392738342285,
          18.10477066040039,
          17.37999153137207,
          16.680526733398438,
          15.919026374816895,
          15.251051902770996,
          14.77200698852539,
          14.255380630493164,
          13.877768516540527,
          13.469496726989746,
          13.060153007507324,
          12.788507461547852,
          12.279205322265625,
          11.898547172546387,
          11.526491165161133,
          11.32351016998291,
          10.945844650268555,
          10.67210578918457,
          10.449039459228516,
          10.194893836975098,
          9.953003883361816,
          9.657309532165527,
          9.490636825561523,
          9.36323070526123,
          9.019697189331055,
          8.854248046875,
          8.640693664550781,
          8.509966850280762,
          8.32334041595459,
          8.193951606750488,
          7.9533209800720215,
          7.83689546585083,
          7.677204608917236,
          7.4711594581604,
          7.389350414276123,
          7.1998677253723145,
          7.160824775695801,
          6.988502025604248,
          6.8466668128967285,
          6.812099456787109,
          6.539782524108887,
          6.427925109863281,
          6.454825401306152,
          6.269650459289551,
          6.251501083374023,
          6.0451130867004395,
          5.957452297210693,
          5.880620956420898,
          5.792270660400391,
          5.661153793334961,
          5.612222194671631,
          5.534586429595947,
          5.428527355194092,
          5.344837665557861,
          5.2775726318359375,
          5.1658406257629395,
          5.035583019256592,
          5.04950475692749,
          4.8835673332214355,
          4.828505039215088,
          4.804512977600098,
          4.679867267608643,
          4.632819652557373,
          4.592568874359131,
          4.49437952041626,
          4.436517715454102,
          4.412217140197754,
          4.253658771514893,
          4.306173324584961,
          4.233363628387451,
          4.181267738342285,
          4.104606628417969,
          3.9970943927764893,
          3.9572131633758545,
          3.9400105476379395,
          3.86154842376709,
          3.8314266204833984,
          3.7522449493408203,
          3.701310396194458,
          3.6447606086730957,
          3.599914073944092,
          3.5332064628601074,
          3.4899637699127197,
          3.450103521347046,
          3.393329381942749,
          3.4072201251983643,
          3.336747169494629,
          3.273735284805298,
          3.241452693939209,
          3.1749179363250732,
          3.1493120193481445,
          3.11330509185791,
          3.0654919147491455,
          3.015493154525757,
          2.9682769775390625,
          2.9320311546325684,
          2.873940944671631,
          2.874765634536743,
          2.844388484954834,
          2.8094966411590576,
          2.7530863285064697,
          2.731468439102173,
          2.6872708797454834,
          2.652940511703491,
          2.6152470111846924,
          2.5787742137908936,
          2.562678575515747,
          2.4958486557006836,
          2.4758899211883545,
          2.456529140472412,
          2.4373013973236084,
          2.39980411529541,
          2.3732848167419434,
          2.352261543273926,
          2.340419054031372,
          2.3041634559631348,
          2.26404070854187,
          2.257016181945801,
          2.22038197517395,
          2.198451519012451,
          2.175974130630493,
          2.132148027420044,
          2.1064772605895996,
          2.091639757156372,
          2.0840768814086914,
          2.0342907905578613,
          2.041468858718872,
          1.993064284324646,
          1.9711358547210693,
          1.9203351736068726,
          1.9149025678634644,
          1.9039490222930908,
          1.868443250656128,
          1.8524619340896606,
          1.836623191833496,
          1.8326915502548218,
          1.8018959760665894,
          1.7756017446517944,
          1.7574831247329712,
          1.7461639642715454,
          1.7089378833770752,
          1.6935828924179077,
          1.6868329048156738,
          1.6655341386795044,
          1.6486480236053467,
          1.6100654602050781,
          1.597777247428894,
          1.5913480520248413,
          1.5603667497634888,
          1.5522960424423218,
          1.5321125984191895,
          1.5031311511993408,
          1.4967665672302246,
          1.4864840507507324,
          1.4838093519210815,
          1.44134521484375,
          1.422724723815918,
          1.4070565700531006,
          1.3952480554580688,
          1.3939329385757446,
          1.3735253810882568,
          1.3672692775726318,
          1.3233035802841187,
          1.3214861154556274,
          1.298317313194275,
          1.2882378101348877,
          1.2876102924346924,
          1.2714177370071411,
          1.235381841659546,
          1.2391482591629028,
          1.2031528949737549,
          1.2073142528533936,
          1.1953673362731934,
          1.1906343698501587,
          1.1800415515899658,
          1.1567972898483276,
          1.1561133861541748,
          1.1253252029418945,
          1.115373134613037,
          1.1114845275878906,
          1.1158288717269897,
          1.0926622152328491,
          1.0644605159759521,
          1.0766932964324951,
          1.041296362876892,
          1.0515084266662598,
          1.0473486185073853,
          1.0261120796203613,
          1.0123341083526611,
          1.0032508373260498,
          0.9967759251594543,
          0.9661511778831482,
          0.9671648144721985,
          0.9547145366668701,
          0.9538790583610535,
          0.946246325969696,
          0.9308626055717468,
          0.9273389577865601,
          0.9202214479446411,
          0.9101672768592834,
          0.8997316956520081,
          0.8772689700126648,
          0.8712018132209778,
          0.8606476783752441,
          0.8496955037117004,
          0.8565570712089539,
          0.854678213596344,
          0.8403390645980835,
          0.8274824619293213,
          0.8243288993835449,
          0.8031351566314697,
          0.800436794757843,
          0.7985011339187622,
          0.7840930819511414,
          0.7790308594703674,
          0.7741748094558716,
          0.7631136775016785,
          0.7545729279518127,
          0.750010073184967,
          0.7415395975112915,
          0.7279919385910034,
          0.7274877429008484,
          0.7205100655555725,
          0.7102152109146118,
          0.7161465883255005,
          0.6985042691230774,
          0.6887284517288208,
          0.6818022131919861,
          0.681850016117096,
          0.6793034076690674,
          0.6640263199806213,
          0.6671243906021118,
          0.6564011573791504,
          0.6458797454833984,
          0.6388216018676758,
          0.63773512840271,
          0.6318055391311646,
          0.6321253180503845,
          0.6256135702133179,
          0.6181332468986511,
          0.6105424761772156,
          0.5968132615089417,
          0.5924631953239441,
          0.5891885161399841,
          0.5848789811134338,
          0.5849515199661255,
          0.5761216282844543,
          0.5804668068885803,
          0.5670615434646606,
          0.5672114491462708,
          0.5626868605613708,
          0.5614901781082153,
          0.5558289289474487,
          0.5456656813621521,
          0.537520170211792,
          0.5327541828155518,
          0.5338084101676941,
          0.5294505953788757,
          0.520415186882019,
          0.5147081613540649,
          0.5143092274665833,
          0.5135428309440613,
          0.5061795115470886,
          0.5031521320343018,
          0.4965057671070099,
          0.49142181873321533,
          0.48878324031829834,
          0.48971906304359436,
          0.4818275272846222,
          0.478557288646698,
          0.477466344833374,
          0.46874499320983887,
          0.4729367196559906,
          0.46877413988113403,
          0.4622628688812256,
          0.45625051856040955,
          0.4511173367500305,
          0.45522964000701904,
          0.4508259892463684,
          0.44939544796943665,
          0.43854376673698425,
          0.44135668873786926,
          0.44441312551498413,
          0.43639418482780457,
          0.4364638924598694,
          0.4283793270587921,
          0.4278141260147095,
          0.4241431951522827,
          0.42013299465179443,
          0.42059263586997986,
          0.4214332103729248,
          0.4202841520309448,
          0.41553688049316406,
          0.4156544506549835,
          0.4108041822910309,
          0.4130849242210388,
          0.41110658645629883,
          0.41192826628685,
          0.40653231739997864,
          0.4088219702243805,
          0.40764498710632324,
          0.4041956663131714,
          0.4054439067840576,
          0.4068434238433838,
          0.40591755509376526,
          0.41122373938560486,
          0.4096463620662689,
          0.41043877601623535,
          0.41508907079696655,
          0.4098052978515625,
          0.4111984372138977,
          0.4224541187286377,
          0.4244057536125183,
          0.43070125579833984,
          0.4483766257762909,
          0.4582880735397339,
          0.47544246912002563,
          0.48541298508644104,
          0.5055161714553833,
          0.5517873764038086,
          0.5829246044158936,
          0.6455356478691101,
          0.7142844796180725,
          0.8157935738563538,
          0.9361845850944519,
          1.0456418991088867,
          1.0957598686218262,
          1.0668877363204956,
          0.9609715342521667,
          0.8246220350265503,
          0.7032075524330139,
          0.6294848322868347,
          0.582038938999176,
          0.5489873886108398,
          0.5221660137176514,
          0.5053302049636841,
          0.48819008469581604,
          0.4796479046344757,
          0.4703883230686188,
          0.45954254269599915,
          0.46042105555534363,
          0.4576086401939392,
          0.45407339930534363,
          0.4557969868183136,
          0.4461010992527008,
          0.4454779624938965,
          0.44084230065345764,
          0.4326150417327881,
          0.4358329176902771,
          0.4270922541618347,
          0.426841676235199,
          0.4165319502353668
         ],
         "yaxis": "y2"
        },
        {
         "name": "3_train-loss",
         "type": "scatter",
         "xaxis": "x3",
         "y": [
          407.9557189941406,
          26.91919708251953,
          22.49817657470703,
          20.785167694091797,
          19.060344696044922,
          17.816558837890625,
          16.722278594970703,
          15.776591300964355,
          15.080239295959473,
          14.224327087402344,
          13.4850435256958,
          12.761489868164062,
          12.273685455322266,
          11.936604499816895,
          11.426422119140625,
          10.906882286071777,
          10.57082748413086,
          10.147955894470215,
          9.74886703491211,
          9.445706367492676,
          9.220816612243652,
          8.83834457397461,
          8.672746658325195,
          8.375836372375488,
          8.136397361755371,
          7.822372913360596,
          7.657827854156494,
          7.409651756286621,
          7.304568290710449,
          7.050334453582764,
          6.925477027893066,
          6.798931121826172,
          6.55405330657959,
          6.512258529663086,
          6.345615863800049,
          6.194124698638916,
          6.057375907897949,
          5.947068691253662,
          5.786581039428711,
          5.682436466217041,
          5.5666327476501465,
          5.411280632019043,
          5.339028835296631,
          5.193964958190918,
          5.094829082489014,
          5.088537693023682,
          4.8842668533325195,
          4.880075454711914,
          4.763768672943115,
          4.653074264526367,
          4.609237194061279,
          4.559854030609131,
          4.4634552001953125,
          4.341330051422119,
          4.302443504333496,
          4.2050604820251465,
          4.187878131866455,
          4.129411697387695,
          4.023226261138916,
          3.970047950744629,
          3.908700942993164,
          3.7789695262908936,
          3.7726588249206543,
          3.720090866088867,
          3.631054162979126,
          3.575937032699585,
          3.563783884048462,
          3.5295350551605225,
          3.436068296432495,
          3.3838517665863037,
          3.3687691688537598,
          3.299280881881714,
          3.219632387161255,
          3.16756010055542,
          3.1797380447387695,
          3.1131680011749268,
          3.0589888095855713,
          3.037172317504883,
          2.9985854625701904,
          2.9268596172332764,
          2.9234778881073,
          2.891188144683838,
          2.80804443359375,
          2.7679355144500732,
          2.7477073669433594,
          2.704312324523926,
          2.6527581214904785,
          2.6253647804260254,
          2.624724864959717,
          2.552565336227417,
          2.523101329803467,
          2.480588912963867,
          2.4726622104644775,
          2.439819574356079,
          2.4020557403564453,
          2.389662027359009,
          2.3325092792510986,
          2.317598819732666,
          2.291374683380127,
          2.2522740364074707,
          2.207120895385742,
          2.20219349861145,
          2.155694007873535,
          2.148519277572632,
          2.1140785217285156,
          2.088914155960083,
          2.055539131164551,
          2.036937952041626,
          2.0346508026123047,
          1.9893007278442383,
          1.986695408821106,
          1.9325295686721802,
          1.8904246091842651,
          1.893619418144226,
          1.863390326499939,
          1.8383840322494507,
          1.7940536737442017,
          1.7886078357696533,
          1.7524380683898926,
          1.7363070249557495,
          1.751853108406067,
          1.723056435585022,
          1.7039026021957397,
          1.6791391372680664,
          1.6728041172027588,
          1.6352133750915527,
          1.640830636024475,
          1.5863810777664185,
          1.5874435901641846,
          1.5629382133483887,
          1.5243173837661743,
          1.5297082662582397,
          1.5033297538757324,
          1.4975066184997559,
          1.4605172872543335,
          1.4517621994018555,
          1.426639199256897,
          1.4148989915847778,
          1.3970091342926025,
          1.3937859535217285,
          1.3651014566421509,
          1.366255760192871,
          1.3417069911956787,
          1.316209316253662,
          1.3091676235198975,
          1.2828290462493896,
          1.2742981910705566,
          1.2515556812286377,
          1.246763825416565,
          1.232987642288208,
          1.2072476148605347,
          1.199600338935852,
          1.17763090133667,
          1.1720434427261353,
          1.1402472257614136,
          1.151328682899475,
          1.1244382858276367,
          1.125187635421753,
          1.1056263446807861,
          1.094175934791565,
          1.0816011428833008,
          1.0581563711166382,
          1.0531584024429321,
          1.047070026397705,
          1.0259226560592651,
          1.0058262348175049,
          1.0140142440795898,
          1.0043745040893555,
          0.9852628111839294,
          0.9612124562263489,
          0.9618467092514038,
          0.9488643407821655,
          0.9405905604362488,
          0.9402768015861511,
          0.9098913073539734,
          0.9083529710769653,
          0.9061025381088257,
          0.8883504271507263,
          0.8785414099693298,
          0.8724105358123779,
          0.8611419200897217,
          0.8537774682044983,
          0.8408069610595703,
          0.834365725517273,
          0.8277502059936523,
          0.8083149194717407,
          0.8075042963027954,
          0.7962263226509094,
          0.7900909185409546,
          0.7769141793251038,
          0.773764431476593,
          0.7663748860359192,
          0.7561513781547546,
          0.7369499206542969,
          0.7360684871673584,
          0.7383856773376465,
          0.7270224094390869,
          0.7079929709434509,
          0.7024110555648804,
          0.6938079595565796,
          0.6968246698379517,
          0.6959307193756104,
          0.6836544871330261,
          0.6800061464309692,
          0.6596699357032776,
          0.6588296294212341,
          0.6474223136901855,
          0.6440749168395996,
          0.6351719498634338,
          0.6338362693786621,
          0.6228803396224976,
          0.6187692284584045,
          0.6071679592132568,
          0.6032527685165405,
          0.5980510711669922,
          0.5913281440734863,
          0.5916234254837036,
          0.5891914963722229,
          0.5769568085670471,
          0.5685860514640808,
          0.5639840960502625,
          0.5597540140151978,
          0.5530810952186584,
          0.5451138019561768,
          0.543428361415863,
          0.5305668711662292,
          0.5302558541297913,
          0.5270652770996094,
          0.5239644050598145,
          0.513741135597229,
          0.5060833692550659,
          0.5065703392028809,
          0.503158450126648,
          0.4907921254634857,
          0.4956001937389374,
          0.4828934669494629,
          0.47847384214401245,
          0.48066672682762146,
          0.46986716985702515,
          0.4667707085609436,
          0.4681309163570404,
          0.4639449119567871,
          0.4508175253868103,
          0.45600903034210205,
          0.44004154205322266,
          0.4482646584510803,
          0.43262872099876404,
          0.4321328401565552,
          0.4207334816455841,
          0.4238806664943695,
          0.423014372587204,
          0.41959092020988464,
          0.41575077176094055,
          0.4092313349246979,
          0.4098922312259674,
          0.3987046480178833,
          0.399556964635849,
          0.39450958371162415,
          0.39273566007614136,
          0.3904627561569214,
          0.3822006583213806,
          0.38175395131111145,
          0.37646692991256714,
          0.3736710250377655,
          0.3682185709476471,
          0.3662276864051819,
          0.36964499950408936,
          0.3603944480419159,
          0.3609115779399872,
          0.35811111330986023,
          0.3525177836418152,
          0.3480429947376251,
          0.3488825261592865,
          0.34506234526634216,
          0.3419588506221771,
          0.33716002106666565,
          0.3406237065792084,
          0.33166173100471497,
          0.3329612910747528,
          0.3238734304904938,
          0.3195821940898895,
          0.3213949501514435,
          0.31988129019737244,
          0.3153645098209381,
          0.3166407644748688,
          0.3120088279247284,
          0.30292049050331116,
          0.30655357241630554,
          0.30315545201301575,
          0.3006187379360199,
          0.2980857491493225,
          0.2992536723613739,
          0.2920069694519043,
          0.29338550567626953,
          0.28994297981262207,
          0.2868722379207611,
          0.28430256247520447,
          0.2810177206993103,
          0.27853500843048096,
          0.27821773290634155,
          0.27622732520103455,
          0.2735014855861664,
          0.26903101801872253,
          0.27213138341903687,
          0.26482954621315,
          0.2631266117095947,
          0.2628771960735321,
          0.2615010738372803,
          0.2592795193195343,
          0.25984296202659607,
          0.25579583644866943,
          0.25589901208877563,
          0.2530844211578369,
          0.24988016486167908,
          0.2452373206615448,
          0.24351529777050018,
          0.244537353515625,
          0.24585649371147156,
          0.23979832231998444,
          0.23629721999168396,
          0.23732760548591614,
          0.23609130084514618,
          0.23165664076805115,
          0.23301714658737183,
          0.23294399678707123,
          0.2268197238445282,
          0.22754564881324768,
          0.22903580963611603,
          0.22221384942531586,
          0.22372660040855408,
          0.22129924595355988,
          0.21867024898529053,
          0.21840496361255646,
          0.21808457374572754,
          0.2154751569032669,
          0.21324865520000458,
          0.20814159512519836,
          0.21004606783390045,
          0.20826275646686554,
          0.20924454927444458,
          0.20340321958065033,
          0.2084525227546692,
          0.20265860855579376,
          0.20208919048309326,
          0.20094580948352814,
          0.20195168256759644,
          0.2001154124736786,
          0.19703859090805054,
          0.19645452499389648,
          0.19451196491718292,
          0.19055210053920746,
          0.1906537264585495,
          0.18946854770183563,
          0.19228363037109375,
          0.18932344019412994,
          0.18849943578243256,
          0.1848900318145752,
          0.18335774540901184,
          0.1839384138584137,
          0.18089468777179718,
          0.18142908811569214,
          0.18225336074829102,
          0.1798437535762787,
          0.17879673838615417,
          0.17626307904720306,
          0.1750878393650055,
          0.17386092245578766,
          0.17305035889148712,
          0.17492437362670898,
          0.17178399860858917,
          0.1703404188156128,
          0.16963894665241241,
          0.16693748533725739,
          0.16944795846939087,
          0.16759322583675385,
          0.16492608189582825,
          0.16452786326408386,
          0.1626906543970108,
          0.16040894389152527,
          0.16099905967712402,
          0.1596864014863968,
          0.1600780338048935,
          0.158425435423851,
          0.15818817913532257,
          0.15744918584823608,
          0.15640228986740112,
          0.1556856632232666,
          0.1547289788722992,
          0.15377545356750488,
          0.15090607106685638,
          0.1500282883644104,
          0.14905625581741333,
          0.15083225071430206,
          0.15049152076244354,
          0.1505437046289444,
          0.14870193600654602,
          0.14720509946346283,
          0.145540252327919,
          0.14474686980247498,
          0.1433834731578827,
          0.1424866020679474,
          0.1417718529701233,
          0.14173568785190582,
          0.14273867011070251,
          0.1417282074689865,
          0.14045903086662292,
          0.1372031718492508,
          0.1367223709821701,
          0.1369175761938095,
          0.13476023077964783,
          0.1355287879705429,
          0.1339675635099411,
          0.13342754542827606,
          0.13178151845932007,
          0.13301241397857666,
          0.13099166750907898,
          0.1315147578716278,
          0.12893062829971313,
          0.1273966282606125,
          0.12955839931964874,
          0.12627677619457245,
          0.12681396305561066,
          0.1274155080318451,
          0.1253027468919754,
          0.12466032058000565,
          0.12565405666828156,
          0.12304288148880005,
          0.12236753851175308,
          0.12368790060281754,
          0.12148240208625793,
          0.12097842991352081,
          0.1220526322722435,
          0.12005650252103806,
          0.12042061239480972,
          0.11864051222801208,
          0.11749020963907242,
          0.11549670249223709,
          0.11730094999074936,
          0.1165255457162857,
          0.11424510180950165,
          0.11339322477579117,
          0.11390960216522217,
          0.1132577583193779,
          0.11322268098592758,
          0.11349041014909744,
          0.11072372645139694,
          0.11119846254587173,
          0.11196687817573547,
          0.11268965899944305,
          0.11060528457164764,
          0.11041154712438583,
          0.108449786901474,
          0.10779321193695068,
          0.10870327800512314,
          0.10837303102016449,
          0.10669095814228058,
          0.10805423557758331,
          0.10729154199361801,
          0.10408662259578705,
          0.10580363124608994,
          0.10553528368473053,
          0.1038312017917633,
          0.10315120220184326,
          0.1033569723367691,
          0.10376626253128052,
          0.10244014114141464,
          0.10187484323978424,
          0.10193870216608047,
          0.10286864638328552,
          0.10203206539154053,
          0.10052703320980072,
          0.0999319925904274,
          0.10022581368684769,
          0.10103893280029297,
          0.10034575313329697,
          0.09870074689388275,
          0.09891048073768616,
          0.09996943920850754,
          0.09688971936702728,
          0.09886153787374496,
          0.09595010429620743,
          0.09490745514631271,
          0.09617636352777481,
          0.09712639451026917,
          0.09434594213962555,
          0.09368753433227539,
          0.09344769269227982,
          0.09318007528781891,
          0.09304927289485931,
          0.09348497539758682,
          0.09260480850934982,
          0.09186668694019318,
          0.09175905585289001,
          0.09181347489356995,
          0.09076474606990814,
          0.09137006849050522,
          0.09069442749023438,
          0.08950494229793549,
          0.08987721055746078,
          0.0899876281619072,
          0.09039720892906189,
          0.09019587934017181,
          0.0887020081281662,
          0.08762966841459274,
          0.08887754380702972,
          0.08903826773166656,
          0.08876208961009979,
          0.0880325511097908,
          0.0867917388677597,
          0.0872669443488121,
          0.08626198768615723,
          0.08687583357095718,
          0.08552324026823044,
          0.0855788141489029,
          0.0868876725435257,
          0.0870329812169075,
          0.08805705606937408,
          0.08750230073928833,
          0.08765341341495514,
          0.08877862244844437,
          0.08896997570991516,
          0.08888012170791626,
          0.09107179939746857,
          0.09225769340991974,
          0.09286345541477203,
          0.09547335654497147,
          0.095819853246212,
          0.0973890945315361,
          0.1003912016749382,
          0.10529965907335281,
          0.11308859288692474,
          0.1229701042175293,
          0.1302025467157364,
          0.1491626352071762,
          0.19171829521656036,
          0.28710809350013733,
          0.477714478969574,
          0.45362427830696106,
          0.6076452732086182,
          1.125440001487732,
          1.6531703472137451,
          1.8714683055877686,
          1.9395146369934082,
          1.6864089965820312,
          1.1166566610336304,
          0.7392054796218872,
          0.5253840088844299,
          0.4056796729564667,
          0.3312132656574249,
          0.2891855835914612,
          0.2595120072364807,
          0.24101823568344116,
          0.22827288508415222,
          0.2165079265832901,
          0.21219952404499054,
          0.2047635167837143,
          0.19891546666622162,
          0.1934555023908615,
          0.18765771389007568,
          0.18224793672561646,
          0.17705367505550385,
          0.17392970621585846,
          0.16960906982421875
         ],
         "yaxis": "y3"
        }
       ],
       "layout": {
        "template": {
         "data": {
          "bar": [
           {
            "error_x": {
             "color": "#2a3f5f"
            },
            "error_y": {
             "color": "#2a3f5f"
            },
            "marker": {
             "line": {
              "color": "#E5ECF6",
              "width": 0.5
             }
            },
            "type": "bar"
           }
          ],
          "barpolar": [
           {
            "marker": {
             "line": {
              "color": "#E5ECF6",
              "width": 0.5
             }
            },
            "type": "barpolar"
           }
          ],
          "carpet": [
           {
            "aaxis": {
             "endlinecolor": "#2a3f5f",
             "gridcolor": "white",
             "linecolor": "white",
             "minorgridcolor": "white",
             "startlinecolor": "#2a3f5f"
            },
            "baxis": {
             "endlinecolor": "#2a3f5f",
             "gridcolor": "white",
             "linecolor": "white",
             "minorgridcolor": "white",
             "startlinecolor": "#2a3f5f"
            },
            "type": "carpet"
           }
          ],
          "choropleth": [
           {
            "colorbar": {
             "outlinewidth": 0,
             "ticks": ""
            },
            "type": "choropleth"
           }
          ],
          "contour": [
           {
            "colorbar": {
             "outlinewidth": 0,
             "ticks": ""
            },
            "colorscale": [
             [
              0,
              "#0d0887"
             ],
             [
              0.1111111111111111,
              "#46039f"
             ],
             [
              0.2222222222222222,
              "#7201a8"
             ],
             [
              0.3333333333333333,
              "#9c179e"
             ],
             [
              0.4444444444444444,
              "#bd3786"
             ],
             [
              0.5555555555555556,
              "#d8576b"
             ],
             [
              0.6666666666666666,
              "#ed7953"
             ],
             [
              0.7777777777777778,
              "#fb9f3a"
             ],
             [
              0.8888888888888888,
              "#fdca26"
             ],
             [
              1,
              "#f0f921"
             ]
            ],
            "type": "contour"
           }
          ],
          "contourcarpet": [
           {
            "colorbar": {
             "outlinewidth": 0,
             "ticks": ""
            },
            "type": "contourcarpet"
           }
          ],
          "heatmap": [
           {
            "colorbar": {
             "outlinewidth": 0,
             "ticks": ""
            },
            "colorscale": [
             [
              0,
              "#0d0887"
             ],
             [
              0.1111111111111111,
              "#46039f"
             ],
             [
              0.2222222222222222,
              "#7201a8"
             ],
             [
              0.3333333333333333,
              "#9c179e"
             ],
             [
              0.4444444444444444,
              "#bd3786"
             ],
             [
              0.5555555555555556,
              "#d8576b"
             ],
             [
              0.6666666666666666,
              "#ed7953"
             ],
             [
              0.7777777777777778,
              "#fb9f3a"
             ],
             [
              0.8888888888888888,
              "#fdca26"
             ],
             [
              1,
              "#f0f921"
             ]
            ],
            "type": "heatmap"
           }
          ],
          "heatmapgl": [
           {
            "colorbar": {
             "outlinewidth": 0,
             "ticks": ""
            },
            "colorscale": [
             [
              0,
              "#0d0887"
             ],
             [
              0.1111111111111111,
              "#46039f"
             ],
             [
              0.2222222222222222,
              "#7201a8"
             ],
             [
              0.3333333333333333,
              "#9c179e"
             ],
             [
              0.4444444444444444,
              "#bd3786"
             ],
             [
              0.5555555555555556,
              "#d8576b"
             ],
             [
              0.6666666666666666,
              "#ed7953"
             ],
             [
              0.7777777777777778,
              "#fb9f3a"
             ],
             [
              0.8888888888888888,
              "#fdca26"
             ],
             [
              1,
              "#f0f921"
             ]
            ],
            "type": "heatmapgl"
           }
          ],
          "histogram": [
           {
            "marker": {
             "colorbar": {
              "outlinewidth": 0,
              "ticks": ""
             }
            },
            "type": "histogram"
           }
          ],
          "histogram2d": [
           {
            "colorbar": {
             "outlinewidth": 0,
             "ticks": ""
            },
            "colorscale": [
             [
              0,
              "#0d0887"
             ],
             [
              0.1111111111111111,
              "#46039f"
             ],
             [
              0.2222222222222222,
              "#7201a8"
             ],
             [
              0.3333333333333333,
              "#9c179e"
             ],
             [
              0.4444444444444444,
              "#bd3786"
             ],
             [
              0.5555555555555556,
              "#d8576b"
             ],
             [
              0.6666666666666666,
              "#ed7953"
             ],
             [
              0.7777777777777778,
              "#fb9f3a"
             ],
             [
              0.8888888888888888,
              "#fdca26"
             ],
             [
              1,
              "#f0f921"
             ]
            ],
            "type": "histogram2d"
           }
          ],
          "histogram2dcontour": [
           {
            "colorbar": {
             "outlinewidth": 0,
             "ticks": ""
            },
            "colorscale": [
             [
              0,
              "#0d0887"
             ],
             [
              0.1111111111111111,
              "#46039f"
             ],
             [
              0.2222222222222222,
              "#7201a8"
             ],
             [
              0.3333333333333333,
              "#9c179e"
             ],
             [
              0.4444444444444444,
              "#bd3786"
             ],
             [
              0.5555555555555556,
              "#d8576b"
             ],
             [
              0.6666666666666666,
              "#ed7953"
             ],
             [
              0.7777777777777778,
              "#fb9f3a"
             ],
             [
              0.8888888888888888,
              "#fdca26"
             ],
             [
              1,
              "#f0f921"
             ]
            ],
            "type": "histogram2dcontour"
           }
          ],
          "mesh3d": [
           {
            "colorbar": {
             "outlinewidth": 0,
             "ticks": ""
            },
            "type": "mesh3d"
           }
          ],
          "parcoords": [
           {
            "line": {
             "colorbar": {
              "outlinewidth": 0,
              "ticks": ""
             }
            },
            "type": "parcoords"
           }
          ],
          "pie": [
           {
            "automargin": true,
            "type": "pie"
           }
          ],
          "scatter": [
           {
            "marker": {
             "colorbar": {
              "outlinewidth": 0,
              "ticks": ""
             }
            },
            "type": "scatter"
           }
          ],
          "scatter3d": [
           {
            "line": {
             "colorbar": {
              "outlinewidth": 0,
              "ticks": ""
             }
            },
            "marker": {
             "colorbar": {
              "outlinewidth": 0,
              "ticks": ""
             }
            },
            "type": "scatter3d"
           }
          ],
          "scattercarpet": [
           {
            "marker": {
             "colorbar": {
              "outlinewidth": 0,
              "ticks": ""
             }
            },
            "type": "scattercarpet"
           }
          ],
          "scattergeo": [
           {
            "marker": {
             "colorbar": {
              "outlinewidth": 0,
              "ticks": ""
             }
            },
            "type": "scattergeo"
           }
          ],
          "scattergl": [
           {
            "marker": {
             "colorbar": {
              "outlinewidth": 0,
              "ticks": ""
             }
            },
            "type": "scattergl"
           }
          ],
          "scattermapbox": [
           {
            "marker": {
             "colorbar": {
              "outlinewidth": 0,
              "ticks": ""
             }
            },
            "type": "scattermapbox"
           }
          ],
          "scatterpolar": [
           {
            "marker": {
             "colorbar": {
              "outlinewidth": 0,
              "ticks": ""
             }
            },
            "type": "scatterpolar"
           }
          ],
          "scatterpolargl": [
           {
            "marker": {
             "colorbar": {
              "outlinewidth": 0,
              "ticks": ""
             }
            },
            "type": "scatterpolargl"
           }
          ],
          "scatterternary": [
           {
            "marker": {
             "colorbar": {
              "outlinewidth": 0,
              "ticks": ""
             }
            },
            "type": "scatterternary"
           }
          ],
          "surface": [
           {
            "colorbar": {
             "outlinewidth": 0,
             "ticks": ""
            },
            "colorscale": [
             [
              0,
              "#0d0887"
             ],
             [
              0.1111111111111111,
              "#46039f"
             ],
             [
              0.2222222222222222,
              "#7201a8"
             ],
             [
              0.3333333333333333,
              "#9c179e"
             ],
             [
              0.4444444444444444,
              "#bd3786"
             ],
             [
              0.5555555555555556,
              "#d8576b"
             ],
             [
              0.6666666666666666,
              "#ed7953"
             ],
             [
              0.7777777777777778,
              "#fb9f3a"
             ],
             [
              0.8888888888888888,
              "#fdca26"
             ],
             [
              1,
              "#f0f921"
             ]
            ],
            "type": "surface"
           }
          ],
          "table": [
           {
            "cells": {
             "fill": {
              "color": "#EBF0F8"
             },
             "line": {
              "color": "white"
             }
            },
            "header": {
             "fill": {
              "color": "#C8D4E3"
             },
             "line": {
              "color": "white"
             }
            },
            "type": "table"
           }
          ]
         },
         "layout": {
          "annotationdefaults": {
           "arrowcolor": "#2a3f5f",
           "arrowhead": 0,
           "arrowwidth": 1
          },
          "autotypenumbers": "strict",
          "coloraxis": {
           "colorbar": {
            "outlinewidth": 0,
            "ticks": ""
           }
          },
          "colorscale": {
           "diverging": [
            [
             0,
             "#8e0152"
            ],
            [
             0.1,
             "#c51b7d"
            ],
            [
             0.2,
             "#de77ae"
            ],
            [
             0.3,
             "#f1b6da"
            ],
            [
             0.4,
             "#fde0ef"
            ],
            [
             0.5,
             "#f7f7f7"
            ],
            [
             0.6,
             "#e6f5d0"
            ],
            [
             0.7,
             "#b8e186"
            ],
            [
             0.8,
             "#7fbc41"
            ],
            [
             0.9,
             "#4d9221"
            ],
            [
             1,
             "#276419"
            ]
           ],
           "sequential": [
            [
             0,
             "#0d0887"
            ],
            [
             0.1111111111111111,
             "#46039f"
            ],
            [
             0.2222222222222222,
             "#7201a8"
            ],
            [
             0.3333333333333333,
             "#9c179e"
            ],
            [
             0.4444444444444444,
             "#bd3786"
            ],
            [
             0.5555555555555556,
             "#d8576b"
            ],
            [
             0.6666666666666666,
             "#ed7953"
            ],
            [
             0.7777777777777778,
             "#fb9f3a"
            ],
            [
             0.8888888888888888,
             "#fdca26"
            ],
            [
             1,
             "#f0f921"
            ]
           ],
           "sequentialminus": [
            [
             0,
             "#0d0887"
            ],
            [
             0.1111111111111111,
             "#46039f"
            ],
            [
             0.2222222222222222,
             "#7201a8"
            ],
            [
             0.3333333333333333,
             "#9c179e"
            ],
            [
             0.4444444444444444,
             "#bd3786"
            ],
            [
             0.5555555555555556,
             "#d8576b"
            ],
            [
             0.6666666666666666,
             "#ed7953"
            ],
            [
             0.7777777777777778,
             "#fb9f3a"
            ],
            [
             0.8888888888888888,
             "#fdca26"
            ],
            [
             1,
             "#f0f921"
            ]
           ]
          },
          "colorway": [
           "#636efa",
           "#EF553B",
           "#00cc96",
           "#ab63fa",
           "#FFA15A",
           "#19d3f3",
           "#FF6692",
           "#B6E880",
           "#FF97FF",
           "#FECB52"
          ],
          "font": {
           "color": "#2a3f5f"
          },
          "geo": {
           "bgcolor": "white",
           "lakecolor": "white",
           "landcolor": "#E5ECF6",
           "showlakes": true,
           "showland": true,
           "subunitcolor": "white"
          },
          "hoverlabel": {
           "align": "left"
          },
          "hovermode": "closest",
          "mapbox": {
           "style": "light"
          },
          "paper_bgcolor": "white",
          "plot_bgcolor": "#E5ECF6",
          "polar": {
           "angularaxis": {
            "gridcolor": "white",
            "linecolor": "white",
            "ticks": ""
           },
           "bgcolor": "#E5ECF6",
           "radialaxis": {
            "gridcolor": "white",
            "linecolor": "white",
            "ticks": ""
           }
          },
          "scene": {
           "xaxis": {
            "backgroundcolor": "#E5ECF6",
            "gridcolor": "white",
            "gridwidth": 2,
            "linecolor": "white",
            "showbackground": true,
            "ticks": "",
            "zerolinecolor": "white"
           },
           "yaxis": {
            "backgroundcolor": "#E5ECF6",
            "gridcolor": "white",
            "gridwidth": 2,
            "linecolor": "white",
            "showbackground": true,
            "ticks": "",
            "zerolinecolor": "white"
           },
           "zaxis": {
            "backgroundcolor": "#E5ECF6",
            "gridcolor": "white",
            "gridwidth": 2,
            "linecolor": "white",
            "showbackground": true,
            "ticks": "",
            "zerolinecolor": "white"
           }
          },
          "shapedefaults": {
           "line": {
            "color": "#2a3f5f"
           }
          },
          "ternary": {
           "aaxis": {
            "gridcolor": "white",
            "linecolor": "white",
            "ticks": ""
           },
           "baxis": {
            "gridcolor": "white",
            "linecolor": "white",
            "ticks": ""
           },
           "bgcolor": "#E5ECF6",
           "caxis": {
            "gridcolor": "white",
            "linecolor": "white",
            "ticks": ""
           }
          },
          "title": {
           "x": 0.05
          },
          "xaxis": {
           "automargin": true,
           "gridcolor": "white",
           "linecolor": "white",
           "ticks": "",
           "title": {
            "standoff": 15
           },
           "zerolinecolor": "white",
           "zerolinewidth": 2
          },
          "yaxis": {
           "automargin": true,
           "gridcolor": "white",
           "linecolor": "white",
           "ticks": "",
           "title": {
            "standoff": 15
           },
           "zerolinecolor": "white",
           "zerolinewidth": 2
          }
         }
        },
        "xaxis": {
         "anchor": "y",
         "domain": [
          0,
          1
         ],
         "matches": "x3",
         "showticklabels": false
        },
        "xaxis2": {
         "anchor": "y2",
         "domain": [
          0,
          1
         ],
         "matches": "x3",
         "showticklabels": false
        },
        "xaxis3": {
         "anchor": "y3",
         "domain": [
          0,
          1
         ],
         "title": {
          "text": "Epochs"
         }
        },
        "yaxis": {
         "anchor": "x",
         "domain": [
          0.7333333333333333,
          1
         ]
        },
        "yaxis2": {
         "anchor": "x2",
         "domain": [
          0.36666666666666664,
          0.6333333333333333
         ]
        },
        "yaxis3": {
         "anchor": "x3",
         "domain": [
          0,
          0.26666666666666666
         ]
        }
       }
      },
      "text/html": [
       "<div>                            <div id=\"fc72fa08-8e54-404d-890f-9e22746a7d6d\" class=\"plotly-graph-div\" style=\"height:525px; width:100%;\"></div>            <script type=\"text/javascript\">                require([\"plotly\"], function(Plotly) {                    window.PLOTLYENV=window.PLOTLYENV || {};                                    if (document.getElementById(\"fc72fa08-8e54-404d-890f-9e22746a7d6d\")) {                    Plotly.newPlot(                        \"fc72fa08-8e54-404d-890f-9e22746a7d6d\",                        [{\"name\": \"PC Conv_train-loss\", \"type\": \"scatter\", \"xaxis\": \"x\", \"y\": [450.4568176269531, 27.859464645385742, 23.03879737854004, 21.155914306640625, 19.66954231262207, 18.328887939453125, 17.125577926635742, 16.2476863861084, 15.145252227783203, 14.392034530639648, 13.776779174804688, 13.53879451751709, 12.6898832321167, 11.922061920166016, 11.688807487487793, 11.235624313354492, 10.83564281463623, 10.494194984436035, 10.153372764587402, 9.862419128417969, 9.496630668640137, 9.311933517456055, 8.927033424377441, 8.714994430541992, 8.51570987701416, 8.171631813049316, 8.011906623840332, 7.827907562255859, 7.622398853302002, 7.401063919067383, 7.310801029205322, 7.087535381317139, 6.929891109466553, 6.766607761383057, 6.588913440704346, 6.48495626449585, 6.30277156829834, 6.2636919021606445, 6.02335786819458, 5.933016300201416, 5.862852573394775, 5.728094577789307, 5.596701145172119, 5.508020877838135, 5.407365322113037, 5.2925801277160645, 5.1999006271362305, 5.098514080047607, 4.975518703460693, 4.915171146392822, 4.805569648742676, 4.771151065826416, 4.715163707733154, 4.558419704437256, 4.521462440490723, 4.458622455596924, 4.346606731414795, 4.2716169357299805, 4.238997459411621, 4.1545729637146, 4.092430591583252, 3.9619388580322266, 3.991056203842163, 3.8817458152770996, 3.811772346496582, 3.824155807495117, 3.7368412017822266, 3.665778160095215, 3.598114252090454, 3.5605170726776123, 3.5184166431427, 3.4499995708465576, 3.405933380126953, 3.349475622177124, 3.2849209308624268, 3.2247540950775146, 3.2359395027160645, 3.138772964477539, 3.1269092559814453, 3.0907504558563232, 3.0120701789855957, 2.9911584854125977, 2.9518511295318604, 2.8959221839904785, 2.8766984939575195, 2.8278448581695557, 2.7581164836883545, 2.763000011444092, 2.727479934692383, 2.6966264247894287, 2.6468236446380615, 2.614194631576538, 2.5788421630859375, 2.5246024131774902, 2.5085484981536865, 2.487025737762451, 2.432908535003662, 2.404413938522339, 2.3769826889038086, 2.3262572288513184, 2.28161883354187, 2.295131206512451, 2.241286277770996, 2.1998555660247803, 2.2162275314331055, 2.1791436672210693, 2.172464609146118, 2.1340689659118652, 2.08712100982666, 2.0788190364837646, 2.0501675605773926, 2.027097702026367, 2.007514238357544, 1.9607399702072144, 1.9482603073120117, 1.906630277633667, 1.9012490510940552, 1.8668313026428223, 1.8527061939239502, 1.8198785781860352, 1.7983760833740234, 1.7746431827545166, 1.7765424251556396, 1.729095458984375, 1.7299824953079224, 1.716385841369629, 1.6891785860061646, 1.6655383110046387, 1.6277453899383545, 1.6200571060180664, 1.5998220443725586, 1.5867966413497925, 1.5815435647964478, 1.5522119998931885, 1.533613920211792, 1.5316290855407715, 1.5081391334533691, 1.4701482057571411, 1.4587761163711548, 1.4432913064956665, 1.4371258020401, 1.4176098108291626, 1.3828930854797363, 1.3790463209152222, 1.3595571517944336, 1.3634027242660522, 1.3434616327285767, 1.343186616897583, 1.3215185403823853, 1.3022682666778564, 1.282459020614624, 1.2662200927734375, 1.2508656978607178, 1.2497204542160034, 1.2234092950820923, 1.207574486732483, 1.1878012418746948, 1.1811206340789795, 1.1880135536193848, 1.15579092502594, 1.1403313875198364, 1.1116575002670288, 1.1128146648406982, 1.0994503498077393, 1.0944031476974487, 1.0742638111114502, 1.0828979015350342, 1.0668697357177734, 1.0427321195602417, 1.0488371849060059, 1.0313969850540161, 1.0210919380187988, 1.0055856704711914, 0.9922689199447632, 0.9829813241958618, 0.9835253953933716, 0.9590229988098145, 0.9466301202774048, 0.9423619508743286, 0.925567090511322, 0.922273576259613, 0.9198508262634277, 0.9045488238334656, 0.8942444920539856, 0.8807330131530762, 0.8800280690193176, 0.8714004158973694, 0.8493688702583313, 0.8492121696472168, 0.8356221318244934, 0.8273499608039856, 0.8260246515274048, 0.8207312226295471, 0.8118950128555298, 0.7981191277503967, 0.7915021777153015, 0.7824398875236511, 0.7726038098335266, 0.7676295042037964, 0.7591814994812012, 0.7562444806098938, 0.741659939289093, 0.7352044582366943, 0.7282533049583435, 0.7067763805389404, 0.7107132077217102, 0.7056498527526855, 0.7028626203536987, 0.692038357257843, 0.6905620694160461, 0.6771444082260132, 0.6755539774894714, 0.6685835123062134, 0.6622251868247986, 0.6471962928771973, 0.6547648310661316, 0.6396143436431885, 0.6319620013237, 0.6363283395767212, 0.623224139213562, 0.6183140277862549, 0.6172239780426025, 0.6055641174316406, 0.6073270440101624, 0.5986418128013611, 0.5905539393424988, 0.5875562429428101, 0.5744451880455017, 0.5747263431549072, 0.5613023042678833, 0.560530960559845, 0.5590209364891052, 0.5531274080276489, 0.5533149242401123, 0.5441850423812866, 0.5439492464065552, 0.5330406427383423, 0.5284818410873413, 0.5232774019241333, 0.5210573673248291, 0.5204980373382568, 0.5139622688293457, 0.5031668543815613, 0.5091444849967957, 0.4955776631832123, 0.4915286600589752, 0.4890877306461334, 0.48045411705970764, 0.4810253083705902, 0.47905799746513367, 0.4731420576572418, 0.46842166781425476, 0.4633854329586029, 0.4658488631248474, 0.46098801493644714, 0.44977235794067383, 0.4583498537540436, 0.446809858083725, 0.4369622468948364, 0.44068899750709534, 0.4338842034339905, 0.433697372674942, 0.426571249961853, 0.4226562976837158, 0.4225352108478546, 0.42173364758491516, 0.4181818962097168, 0.4148027300834656, 0.4121730327606201, 0.4087052643299103, 0.4012572467327118, 0.3986954987049103, 0.4019416570663452, 0.3971719741821289, 0.38996291160583496, 0.3914284408092499, 0.38638779520988464, 0.38124513626098633, 0.3850281536579132, 0.37709495425224304, 0.3735770285129547, 0.3707025647163391, 0.3736424148082733, 0.366576224565506, 0.36416593194007874, 0.3664182424545288, 0.3576543927192688, 0.3603154122829437, 0.35792914032936096, 0.3550003468990326, 0.350363165140152, 0.34985053539276123, 0.34698760509490967, 0.34369343519210815, 0.34245508909225464, 0.3414502441883087, 0.3451491594314575, 0.33499953150749207, 0.3393124043941498, 0.33617207407951355, 0.33680254220962524, 0.3333494961261749, 0.33004671335220337, 0.33310115337371826, 0.3279803991317749, 0.330232709646225, 0.33018040657043457, 0.32996612787246704, 0.32365283370018005, 0.32430538535118103, 0.32740744948387146, 0.3259464502334595, 0.322213351726532, 0.3275550901889801, 0.3285485506057739, 0.3252679705619812, 0.33128175139427185, 0.32885122299194336, 0.33661574125289917, 0.3368259370326996, 0.3421715497970581, 0.3462291955947876, 0.3526892066001892, 0.362236887216568, 0.37968143820762634, 0.3910905718803406, 0.39937853813171387, 0.41607871651649475, 0.43547365069389343, 0.45175865292549133, 0.4701610803604126, 0.49753430485725403, 0.5173394083976746, 0.560688316822052, 0.6201164126396179, 0.6957381963729858, 0.7842244505882263, 0.9154380559921265, 1.0968011617660522, 1.2866755723953247, 1.422662377357483, 1.4400583505630493, 1.3865129947662354, 1.265207052230835, 1.1950445175170898, 1.123956561088562, 1.044978141784668, 0.9664102792739868, 0.8721712827682495, 0.7837831974029541, 0.6945641040802002, 0.6322780251502991, 0.5718584060668945, 0.5263020992279053, 0.49124613404273987, 0.46552014350891113, 0.42964789271354675, 0.41297754645347595, 0.39669787883758545, 0.3810286223888397, 0.37330034375190735, 0.35785406827926636, 0.3570690453052521], \"yaxis\": \"y\"}, {\"name\": \"2_train-loss\", \"type\": \"scatter\", \"xaxis\": \"x2\", \"y\": [876.9838256835938, 58.521114349365234, 27.897260665893555, 25.26874542236328, 23.273386001586914, 21.475343704223633, 20.43163299560547, 19.34392738342285, 18.10477066040039, 17.37999153137207, 16.680526733398438, 15.919026374816895, 15.251051902770996, 14.77200698852539, 14.255380630493164, 13.877768516540527, 13.469496726989746, 13.060153007507324, 12.788507461547852, 12.279205322265625, 11.898547172546387, 11.526491165161133, 11.32351016998291, 10.945844650268555, 10.67210578918457, 10.449039459228516, 10.194893836975098, 9.953003883361816, 9.657309532165527, 9.490636825561523, 9.36323070526123, 9.019697189331055, 8.854248046875, 8.640693664550781, 8.509966850280762, 8.32334041595459, 8.193951606750488, 7.9533209800720215, 7.83689546585083, 7.677204608917236, 7.4711594581604, 7.389350414276123, 7.1998677253723145, 7.160824775695801, 6.988502025604248, 6.8466668128967285, 6.812099456787109, 6.539782524108887, 6.427925109863281, 6.454825401306152, 6.269650459289551, 6.251501083374023, 6.0451130867004395, 5.957452297210693, 5.880620956420898, 5.792270660400391, 5.661153793334961, 5.612222194671631, 5.534586429595947, 5.428527355194092, 5.344837665557861, 5.2775726318359375, 5.1658406257629395, 5.035583019256592, 5.04950475692749, 4.8835673332214355, 4.828505039215088, 4.804512977600098, 4.679867267608643, 4.632819652557373, 4.592568874359131, 4.49437952041626, 4.436517715454102, 4.412217140197754, 4.253658771514893, 4.306173324584961, 4.233363628387451, 4.181267738342285, 4.104606628417969, 3.9970943927764893, 3.9572131633758545, 3.9400105476379395, 3.86154842376709, 3.8314266204833984, 3.7522449493408203, 3.701310396194458, 3.6447606086730957, 3.599914073944092, 3.5332064628601074, 3.4899637699127197, 3.450103521347046, 3.393329381942749, 3.4072201251983643, 3.336747169494629, 3.273735284805298, 3.241452693939209, 3.1749179363250732, 3.1493120193481445, 3.11330509185791, 3.0654919147491455, 3.015493154525757, 2.9682769775390625, 2.9320311546325684, 2.873940944671631, 2.874765634536743, 2.844388484954834, 2.8094966411590576, 2.7530863285064697, 2.731468439102173, 2.6872708797454834, 2.652940511703491, 2.6152470111846924, 2.5787742137908936, 2.562678575515747, 2.4958486557006836, 2.4758899211883545, 2.456529140472412, 2.4373013973236084, 2.39980411529541, 2.3732848167419434, 2.352261543273926, 2.340419054031372, 2.3041634559631348, 2.26404070854187, 2.257016181945801, 2.22038197517395, 2.198451519012451, 2.175974130630493, 2.132148027420044, 2.1064772605895996, 2.091639757156372, 2.0840768814086914, 2.0342907905578613, 2.041468858718872, 1.993064284324646, 1.9711358547210693, 1.9203351736068726, 1.9149025678634644, 1.9039490222930908, 1.868443250656128, 1.8524619340896606, 1.836623191833496, 1.8326915502548218, 1.8018959760665894, 1.7756017446517944, 1.7574831247329712, 1.7461639642715454, 1.7089378833770752, 1.6935828924179077, 1.6868329048156738, 1.6655341386795044, 1.6486480236053467, 1.6100654602050781, 1.597777247428894, 1.5913480520248413, 1.5603667497634888, 1.5522960424423218, 1.5321125984191895, 1.5031311511993408, 1.4967665672302246, 1.4864840507507324, 1.4838093519210815, 1.44134521484375, 1.422724723815918, 1.4070565700531006, 1.3952480554580688, 1.3939329385757446, 1.3735253810882568, 1.3672692775726318, 1.3233035802841187, 1.3214861154556274, 1.298317313194275, 1.2882378101348877, 1.2876102924346924, 1.2714177370071411, 1.235381841659546, 1.2391482591629028, 1.2031528949737549, 1.2073142528533936, 1.1953673362731934, 1.1906343698501587, 1.1800415515899658, 1.1567972898483276, 1.1561133861541748, 1.1253252029418945, 1.115373134613037, 1.1114845275878906, 1.1158288717269897, 1.0926622152328491, 1.0644605159759521, 1.0766932964324951, 1.041296362876892, 1.0515084266662598, 1.0473486185073853, 1.0261120796203613, 1.0123341083526611, 1.0032508373260498, 0.9967759251594543, 0.9661511778831482, 0.9671648144721985, 0.9547145366668701, 0.9538790583610535, 0.946246325969696, 0.9308626055717468, 0.9273389577865601, 0.9202214479446411, 0.9101672768592834, 0.8997316956520081, 0.8772689700126648, 0.8712018132209778, 0.8606476783752441, 0.8496955037117004, 0.8565570712089539, 0.854678213596344, 0.8403390645980835, 0.8274824619293213, 0.8243288993835449, 0.8031351566314697, 0.800436794757843, 0.7985011339187622, 0.7840930819511414, 0.7790308594703674, 0.7741748094558716, 0.7631136775016785, 0.7545729279518127, 0.750010073184967, 0.7415395975112915, 0.7279919385910034, 0.7274877429008484, 0.7205100655555725, 0.7102152109146118, 0.7161465883255005, 0.6985042691230774, 0.6887284517288208, 0.6818022131919861, 0.681850016117096, 0.6793034076690674, 0.6640263199806213, 0.6671243906021118, 0.6564011573791504, 0.6458797454833984, 0.6388216018676758, 0.63773512840271, 0.6318055391311646, 0.6321253180503845, 0.6256135702133179, 0.6181332468986511, 0.6105424761772156, 0.5968132615089417, 0.5924631953239441, 0.5891885161399841, 0.5848789811134338, 0.5849515199661255, 0.5761216282844543, 0.5804668068885803, 0.5670615434646606, 0.5672114491462708, 0.5626868605613708, 0.5614901781082153, 0.5558289289474487, 0.5456656813621521, 0.537520170211792, 0.5327541828155518, 0.5338084101676941, 0.5294505953788757, 0.520415186882019, 0.5147081613540649, 0.5143092274665833, 0.5135428309440613, 0.5061795115470886, 0.5031521320343018, 0.4965057671070099, 0.49142181873321533, 0.48878324031829834, 0.48971906304359436, 0.4818275272846222, 0.478557288646698, 0.477466344833374, 0.46874499320983887, 0.4729367196559906, 0.46877413988113403, 0.4622628688812256, 0.45625051856040955, 0.4511173367500305, 0.45522964000701904, 0.4508259892463684, 0.44939544796943665, 0.43854376673698425, 0.44135668873786926, 0.44441312551498413, 0.43639418482780457, 0.4364638924598694, 0.4283793270587921, 0.4278141260147095, 0.4241431951522827, 0.42013299465179443, 0.42059263586997986, 0.4214332103729248, 0.4202841520309448, 0.41553688049316406, 0.4156544506549835, 0.4108041822910309, 0.4130849242210388, 0.41110658645629883, 0.41192826628685, 0.40653231739997864, 0.4088219702243805, 0.40764498710632324, 0.4041956663131714, 0.4054439067840576, 0.4068434238433838, 0.40591755509376526, 0.41122373938560486, 0.4096463620662689, 0.41043877601623535, 0.41508907079696655, 0.4098052978515625, 0.4111984372138977, 0.4224541187286377, 0.4244057536125183, 0.43070125579833984, 0.4483766257762909, 0.4582880735397339, 0.47544246912002563, 0.48541298508644104, 0.5055161714553833, 0.5517873764038086, 0.5829246044158936, 0.6455356478691101, 0.7142844796180725, 0.8157935738563538, 0.9361845850944519, 1.0456418991088867, 1.0957598686218262, 1.0668877363204956, 0.9609715342521667, 0.8246220350265503, 0.7032075524330139, 0.6294848322868347, 0.582038938999176, 0.5489873886108398, 0.5221660137176514, 0.5053302049636841, 0.48819008469581604, 0.4796479046344757, 0.4703883230686188, 0.45954254269599915, 0.46042105555534363, 0.4576086401939392, 0.45407339930534363, 0.4557969868183136, 0.4461010992527008, 0.4454779624938965, 0.44084230065345764, 0.4326150417327881, 0.4358329176902771, 0.4270922541618347, 0.426841676235199, 0.4165319502353668], \"yaxis\": \"y2\"}, {\"name\": \"3_train-loss\", \"type\": \"scatter\", \"xaxis\": \"x3\", \"y\": [407.9557189941406, 26.91919708251953, 22.49817657470703, 20.785167694091797, 19.060344696044922, 17.816558837890625, 16.722278594970703, 15.776591300964355, 15.080239295959473, 14.224327087402344, 13.4850435256958, 12.761489868164062, 12.273685455322266, 11.936604499816895, 11.426422119140625, 10.906882286071777, 10.57082748413086, 10.147955894470215, 9.74886703491211, 9.445706367492676, 9.220816612243652, 8.83834457397461, 8.672746658325195, 8.375836372375488, 8.136397361755371, 7.822372913360596, 7.657827854156494, 7.409651756286621, 7.304568290710449, 7.050334453582764, 6.925477027893066, 6.798931121826172, 6.55405330657959, 6.512258529663086, 6.345615863800049, 6.194124698638916, 6.057375907897949, 5.947068691253662, 5.786581039428711, 5.682436466217041, 5.5666327476501465, 5.411280632019043, 5.339028835296631, 5.193964958190918, 5.094829082489014, 5.088537693023682, 4.8842668533325195, 4.880075454711914, 4.763768672943115, 4.653074264526367, 4.609237194061279, 4.559854030609131, 4.4634552001953125, 4.341330051422119, 4.302443504333496, 4.2050604820251465, 4.187878131866455, 4.129411697387695, 4.023226261138916, 3.970047950744629, 3.908700942993164, 3.7789695262908936, 3.7726588249206543, 3.720090866088867, 3.631054162979126, 3.575937032699585, 3.563783884048462, 3.5295350551605225, 3.436068296432495, 3.3838517665863037, 3.3687691688537598, 3.299280881881714, 3.219632387161255, 3.16756010055542, 3.1797380447387695, 3.1131680011749268, 3.0589888095855713, 3.037172317504883, 2.9985854625701904, 2.9268596172332764, 2.9234778881073, 2.891188144683838, 2.80804443359375, 2.7679355144500732, 2.7477073669433594, 2.704312324523926, 2.6527581214904785, 2.6253647804260254, 2.624724864959717, 2.552565336227417, 2.523101329803467, 2.480588912963867, 2.4726622104644775, 2.439819574356079, 2.4020557403564453, 2.389662027359009, 2.3325092792510986, 2.317598819732666, 2.291374683380127, 2.2522740364074707, 2.207120895385742, 2.20219349861145, 2.155694007873535, 2.148519277572632, 2.1140785217285156, 2.088914155960083, 2.055539131164551, 2.036937952041626, 2.0346508026123047, 1.9893007278442383, 1.986695408821106, 1.9325295686721802, 1.8904246091842651, 1.893619418144226, 1.863390326499939, 1.8383840322494507, 1.7940536737442017, 1.7886078357696533, 1.7524380683898926, 1.7363070249557495, 1.751853108406067, 1.723056435585022, 1.7039026021957397, 1.6791391372680664, 1.6728041172027588, 1.6352133750915527, 1.640830636024475, 1.5863810777664185, 1.5874435901641846, 1.5629382133483887, 1.5243173837661743, 1.5297082662582397, 1.5033297538757324, 1.4975066184997559, 1.4605172872543335, 1.4517621994018555, 1.426639199256897, 1.4148989915847778, 1.3970091342926025, 1.3937859535217285, 1.3651014566421509, 1.366255760192871, 1.3417069911956787, 1.316209316253662, 1.3091676235198975, 1.2828290462493896, 1.2742981910705566, 1.2515556812286377, 1.246763825416565, 1.232987642288208, 1.2072476148605347, 1.199600338935852, 1.17763090133667, 1.1720434427261353, 1.1402472257614136, 1.151328682899475, 1.1244382858276367, 1.125187635421753, 1.1056263446807861, 1.094175934791565, 1.0816011428833008, 1.0581563711166382, 1.0531584024429321, 1.047070026397705, 1.0259226560592651, 1.0058262348175049, 1.0140142440795898, 1.0043745040893555, 0.9852628111839294, 0.9612124562263489, 0.9618467092514038, 0.9488643407821655, 0.9405905604362488, 0.9402768015861511, 0.9098913073539734, 0.9083529710769653, 0.9061025381088257, 0.8883504271507263, 0.8785414099693298, 0.8724105358123779, 0.8611419200897217, 0.8537774682044983, 0.8408069610595703, 0.834365725517273, 0.8277502059936523, 0.8083149194717407, 0.8075042963027954, 0.7962263226509094, 0.7900909185409546, 0.7769141793251038, 0.773764431476593, 0.7663748860359192, 0.7561513781547546, 0.7369499206542969, 0.7360684871673584, 0.7383856773376465, 0.7270224094390869, 0.7079929709434509, 0.7024110555648804, 0.6938079595565796, 0.6968246698379517, 0.6959307193756104, 0.6836544871330261, 0.6800061464309692, 0.6596699357032776, 0.6588296294212341, 0.6474223136901855, 0.6440749168395996, 0.6351719498634338, 0.6338362693786621, 0.6228803396224976, 0.6187692284584045, 0.6071679592132568, 0.6032527685165405, 0.5980510711669922, 0.5913281440734863, 0.5916234254837036, 0.5891914963722229, 0.5769568085670471, 0.5685860514640808, 0.5639840960502625, 0.5597540140151978, 0.5530810952186584, 0.5451138019561768, 0.543428361415863, 0.5305668711662292, 0.5302558541297913, 0.5270652770996094, 0.5239644050598145, 0.513741135597229, 0.5060833692550659, 0.5065703392028809, 0.503158450126648, 0.4907921254634857, 0.4956001937389374, 0.4828934669494629, 0.47847384214401245, 0.48066672682762146, 0.46986716985702515, 0.4667707085609436, 0.4681309163570404, 0.4639449119567871, 0.4508175253868103, 0.45600903034210205, 0.44004154205322266, 0.4482646584510803, 0.43262872099876404, 0.4321328401565552, 0.4207334816455841, 0.4238806664943695, 0.423014372587204, 0.41959092020988464, 0.41575077176094055, 0.4092313349246979, 0.4098922312259674, 0.3987046480178833, 0.399556964635849, 0.39450958371162415, 0.39273566007614136, 0.3904627561569214, 0.3822006583213806, 0.38175395131111145, 0.37646692991256714, 0.3736710250377655, 0.3682185709476471, 0.3662276864051819, 0.36964499950408936, 0.3603944480419159, 0.3609115779399872, 0.35811111330986023, 0.3525177836418152, 0.3480429947376251, 0.3488825261592865, 0.34506234526634216, 0.3419588506221771, 0.33716002106666565, 0.3406237065792084, 0.33166173100471497, 0.3329612910747528, 0.3238734304904938, 0.3195821940898895, 0.3213949501514435, 0.31988129019737244, 0.3153645098209381, 0.3166407644748688, 0.3120088279247284, 0.30292049050331116, 0.30655357241630554, 0.30315545201301575, 0.3006187379360199, 0.2980857491493225, 0.2992536723613739, 0.2920069694519043, 0.29338550567626953, 0.28994297981262207, 0.2868722379207611, 0.28430256247520447, 0.2810177206993103, 0.27853500843048096, 0.27821773290634155, 0.27622732520103455, 0.2735014855861664, 0.26903101801872253, 0.27213138341903687, 0.26482954621315, 0.2631266117095947, 0.2628771960735321, 0.2615010738372803, 0.2592795193195343, 0.25984296202659607, 0.25579583644866943, 0.25589901208877563, 0.2530844211578369, 0.24988016486167908, 0.2452373206615448, 0.24351529777050018, 0.244537353515625, 0.24585649371147156, 0.23979832231998444, 0.23629721999168396, 0.23732760548591614, 0.23609130084514618, 0.23165664076805115, 0.23301714658737183, 0.23294399678707123, 0.2268197238445282, 0.22754564881324768, 0.22903580963611603, 0.22221384942531586, 0.22372660040855408, 0.22129924595355988, 0.21867024898529053, 0.21840496361255646, 0.21808457374572754, 0.2154751569032669, 0.21324865520000458, 0.20814159512519836, 0.21004606783390045, 0.20826275646686554, 0.20924454927444458, 0.20340321958065033, 0.2084525227546692, 0.20265860855579376, 0.20208919048309326, 0.20094580948352814, 0.20195168256759644, 0.2001154124736786, 0.19703859090805054, 0.19645452499389648, 0.19451196491718292, 0.19055210053920746, 0.1906537264585495, 0.18946854770183563, 0.19228363037109375, 0.18932344019412994, 0.18849943578243256, 0.1848900318145752, 0.18335774540901184, 0.1839384138584137, 0.18089468777179718, 0.18142908811569214, 0.18225336074829102, 0.1798437535762787, 0.17879673838615417, 0.17626307904720306, 0.1750878393650055, 0.17386092245578766, 0.17305035889148712, 0.17492437362670898, 0.17178399860858917, 0.1703404188156128, 0.16963894665241241, 0.16693748533725739, 0.16944795846939087, 0.16759322583675385, 0.16492608189582825, 0.16452786326408386, 0.1626906543970108, 0.16040894389152527, 0.16099905967712402, 0.1596864014863968, 0.1600780338048935, 0.158425435423851, 0.15818817913532257, 0.15744918584823608, 0.15640228986740112, 0.1556856632232666, 0.1547289788722992, 0.15377545356750488, 0.15090607106685638, 0.1500282883644104, 0.14905625581741333, 0.15083225071430206, 0.15049152076244354, 0.1505437046289444, 0.14870193600654602, 0.14720509946346283, 0.145540252327919, 0.14474686980247498, 0.1433834731578827, 0.1424866020679474, 0.1417718529701233, 0.14173568785190582, 0.14273867011070251, 0.1417282074689865, 0.14045903086662292, 0.1372031718492508, 0.1367223709821701, 0.1369175761938095, 0.13476023077964783, 0.1355287879705429, 0.1339675635099411, 0.13342754542827606, 0.13178151845932007, 0.13301241397857666, 0.13099166750907898, 0.1315147578716278, 0.12893062829971313, 0.1273966282606125, 0.12955839931964874, 0.12627677619457245, 0.12681396305561066, 0.1274155080318451, 0.1253027468919754, 0.12466032058000565, 0.12565405666828156, 0.12304288148880005, 0.12236753851175308, 0.12368790060281754, 0.12148240208625793, 0.12097842991352081, 0.1220526322722435, 0.12005650252103806, 0.12042061239480972, 0.11864051222801208, 0.11749020963907242, 0.11549670249223709, 0.11730094999074936, 0.1165255457162857, 0.11424510180950165, 0.11339322477579117, 0.11390960216522217, 0.1132577583193779, 0.11322268098592758, 0.11349041014909744, 0.11072372645139694, 0.11119846254587173, 0.11196687817573547, 0.11268965899944305, 0.11060528457164764, 0.11041154712438583, 0.108449786901474, 0.10779321193695068, 0.10870327800512314, 0.10837303102016449, 0.10669095814228058, 0.10805423557758331, 0.10729154199361801, 0.10408662259578705, 0.10580363124608994, 0.10553528368473053, 0.1038312017917633, 0.10315120220184326, 0.1033569723367691, 0.10376626253128052, 0.10244014114141464, 0.10187484323978424, 0.10193870216608047, 0.10286864638328552, 0.10203206539154053, 0.10052703320980072, 0.0999319925904274, 0.10022581368684769, 0.10103893280029297, 0.10034575313329697, 0.09870074689388275, 0.09891048073768616, 0.09996943920850754, 0.09688971936702728, 0.09886153787374496, 0.09595010429620743, 0.09490745514631271, 0.09617636352777481, 0.09712639451026917, 0.09434594213962555, 0.09368753433227539, 0.09344769269227982, 0.09318007528781891, 0.09304927289485931, 0.09348497539758682, 0.09260480850934982, 0.09186668694019318, 0.09175905585289001, 0.09181347489356995, 0.09076474606990814, 0.09137006849050522, 0.09069442749023438, 0.08950494229793549, 0.08987721055746078, 0.0899876281619072, 0.09039720892906189, 0.09019587934017181, 0.0887020081281662, 0.08762966841459274, 0.08887754380702972, 0.08903826773166656, 0.08876208961009979, 0.0880325511097908, 0.0867917388677597, 0.0872669443488121, 0.08626198768615723, 0.08687583357095718, 0.08552324026823044, 0.0855788141489029, 0.0868876725435257, 0.0870329812169075, 0.08805705606937408, 0.08750230073928833, 0.08765341341495514, 0.08877862244844437, 0.08896997570991516, 0.08888012170791626, 0.09107179939746857, 0.09225769340991974, 0.09286345541477203, 0.09547335654497147, 0.095819853246212, 0.0973890945315361, 0.1003912016749382, 0.10529965907335281, 0.11308859288692474, 0.1229701042175293, 0.1302025467157364, 0.1491626352071762, 0.19171829521656036, 0.28710809350013733, 0.477714478969574, 0.45362427830696106, 0.6076452732086182, 1.125440001487732, 1.6531703472137451, 1.8714683055877686, 1.9395146369934082, 1.6864089965820312, 1.1166566610336304, 0.7392054796218872, 0.5253840088844299, 0.4056796729564667, 0.3312132656574249, 0.2891855835914612, 0.2595120072364807, 0.24101823568344116, 0.22827288508415222, 0.2165079265832901, 0.21219952404499054, 0.2047635167837143, 0.19891546666622162, 0.1934555023908615, 0.18765771389007568, 0.18224793672561646, 0.17705367505550385, 0.17392970621585846, 0.16960906982421875], \"yaxis\": \"y3\"}],                        {\"template\": {\"data\": {\"bar\": [{\"error_x\": {\"color\": \"#2a3f5f\"}, \"error_y\": {\"color\": \"#2a3f5f\"}, \"marker\": {\"line\": {\"color\": \"#E5ECF6\", \"width\": 0.5}}, \"type\": \"bar\"}], \"barpolar\": [{\"marker\": {\"line\": {\"color\": \"#E5ECF6\", \"width\": 0.5}}, \"type\": \"barpolar\"}], \"carpet\": [{\"aaxis\": {\"endlinecolor\": \"#2a3f5f\", \"gridcolor\": \"white\", \"linecolor\": \"white\", \"minorgridcolor\": \"white\", \"startlinecolor\": \"#2a3f5f\"}, \"baxis\": {\"endlinecolor\": \"#2a3f5f\", \"gridcolor\": \"white\", \"linecolor\": \"white\", \"minorgridcolor\": \"white\", \"startlinecolor\": \"#2a3f5f\"}, \"type\": \"carpet\"}], \"choropleth\": [{\"colorbar\": {\"outlinewidth\": 0, \"ticks\": \"\"}, \"type\": \"choropleth\"}], \"contour\": [{\"colorbar\": {\"outlinewidth\": 0, \"ticks\": \"\"}, \"colorscale\": [[0.0, \"#0d0887\"], [0.1111111111111111, \"#46039f\"], [0.2222222222222222, \"#7201a8\"], [0.3333333333333333, \"#9c179e\"], [0.4444444444444444, \"#bd3786\"], [0.5555555555555556, \"#d8576b\"], [0.6666666666666666, \"#ed7953\"], [0.7777777777777778, \"#fb9f3a\"], [0.8888888888888888, \"#fdca26\"], [1.0, \"#f0f921\"]], \"type\": \"contour\"}], \"contourcarpet\": [{\"colorbar\": {\"outlinewidth\": 0, \"ticks\": \"\"}, \"type\": \"contourcarpet\"}], \"heatmap\": [{\"colorbar\": {\"outlinewidth\": 0, \"ticks\": \"\"}, \"colorscale\": [[0.0, \"#0d0887\"], [0.1111111111111111, \"#46039f\"], [0.2222222222222222, \"#7201a8\"], [0.3333333333333333, \"#9c179e\"], [0.4444444444444444, \"#bd3786\"], [0.5555555555555556, \"#d8576b\"], [0.6666666666666666, \"#ed7953\"], [0.7777777777777778, \"#fb9f3a\"], [0.8888888888888888, \"#fdca26\"], [1.0, \"#f0f921\"]], \"type\": \"heatmap\"}], \"heatmapgl\": [{\"colorbar\": {\"outlinewidth\": 0, \"ticks\": \"\"}, \"colorscale\": [[0.0, \"#0d0887\"], [0.1111111111111111, \"#46039f\"], [0.2222222222222222, \"#7201a8\"], [0.3333333333333333, \"#9c179e\"], [0.4444444444444444, \"#bd3786\"], [0.5555555555555556, \"#d8576b\"], [0.6666666666666666, \"#ed7953\"], [0.7777777777777778, \"#fb9f3a\"], [0.8888888888888888, \"#fdca26\"], [1.0, \"#f0f921\"]], \"type\": \"heatmapgl\"}], \"histogram\": [{\"marker\": {\"colorbar\": {\"outlinewidth\": 0, \"ticks\": \"\"}}, \"type\": \"histogram\"}], \"histogram2d\": [{\"colorbar\": {\"outlinewidth\": 0, \"ticks\": \"\"}, \"colorscale\": [[0.0, \"#0d0887\"], [0.1111111111111111, \"#46039f\"], [0.2222222222222222, \"#7201a8\"], [0.3333333333333333, \"#9c179e\"], [0.4444444444444444, \"#bd3786\"], [0.5555555555555556, \"#d8576b\"], [0.6666666666666666, \"#ed7953\"], [0.7777777777777778, \"#fb9f3a\"], [0.8888888888888888, \"#fdca26\"], [1.0, \"#f0f921\"]], \"type\": \"histogram2d\"}], \"histogram2dcontour\": [{\"colorbar\": {\"outlinewidth\": 0, \"ticks\": \"\"}, \"colorscale\": [[0.0, \"#0d0887\"], [0.1111111111111111, \"#46039f\"], [0.2222222222222222, \"#7201a8\"], [0.3333333333333333, \"#9c179e\"], [0.4444444444444444, \"#bd3786\"], [0.5555555555555556, \"#d8576b\"], [0.6666666666666666, \"#ed7953\"], [0.7777777777777778, \"#fb9f3a\"], [0.8888888888888888, \"#fdca26\"], [1.0, \"#f0f921\"]], \"type\": \"histogram2dcontour\"}], \"mesh3d\": [{\"colorbar\": {\"outlinewidth\": 0, \"ticks\": \"\"}, \"type\": \"mesh3d\"}], \"parcoords\": [{\"line\": {\"colorbar\": {\"outlinewidth\": 0, \"ticks\": \"\"}}, \"type\": \"parcoords\"}], \"pie\": [{\"automargin\": true, \"type\": \"pie\"}], \"scatter\": [{\"marker\": {\"colorbar\": {\"outlinewidth\": 0, \"ticks\": \"\"}}, \"type\": \"scatter\"}], \"scatter3d\": [{\"line\": {\"colorbar\": {\"outlinewidth\": 0, \"ticks\": \"\"}}, \"marker\": {\"colorbar\": {\"outlinewidth\": 0, \"ticks\": \"\"}}, \"type\": \"scatter3d\"}], \"scattercarpet\": [{\"marker\": {\"colorbar\": {\"outlinewidth\": 0, \"ticks\": \"\"}}, \"type\": \"scattercarpet\"}], \"scattergeo\": [{\"marker\": {\"colorbar\": {\"outlinewidth\": 0, \"ticks\": \"\"}}, \"type\": \"scattergeo\"}], \"scattergl\": [{\"marker\": {\"colorbar\": {\"outlinewidth\": 0, \"ticks\": \"\"}}, \"type\": \"scattergl\"}], \"scattermapbox\": [{\"marker\": {\"colorbar\": {\"outlinewidth\": 0, \"ticks\": \"\"}}, \"type\": \"scattermapbox\"}], \"scatterpolar\": [{\"marker\": {\"colorbar\": {\"outlinewidth\": 0, \"ticks\": \"\"}}, \"type\": \"scatterpolar\"}], \"scatterpolargl\": [{\"marker\": {\"colorbar\": {\"outlinewidth\": 0, \"ticks\": \"\"}}, \"type\": \"scatterpolargl\"}], \"scatterternary\": [{\"marker\": {\"colorbar\": {\"outlinewidth\": 0, \"ticks\": \"\"}}, \"type\": \"scatterternary\"}], \"surface\": [{\"colorbar\": {\"outlinewidth\": 0, \"ticks\": \"\"}, \"colorscale\": [[0.0, \"#0d0887\"], [0.1111111111111111, \"#46039f\"], [0.2222222222222222, \"#7201a8\"], [0.3333333333333333, \"#9c179e\"], [0.4444444444444444, \"#bd3786\"], [0.5555555555555556, \"#d8576b\"], [0.6666666666666666, \"#ed7953\"], [0.7777777777777778, \"#fb9f3a\"], [0.8888888888888888, \"#fdca26\"], [1.0, \"#f0f921\"]], \"type\": \"surface\"}], \"table\": [{\"cells\": {\"fill\": {\"color\": \"#EBF0F8\"}, \"line\": {\"color\": \"white\"}}, \"header\": {\"fill\": {\"color\": \"#C8D4E3\"}, \"line\": {\"color\": \"white\"}}, \"type\": \"table\"}]}, \"layout\": {\"annotationdefaults\": {\"arrowcolor\": \"#2a3f5f\", \"arrowhead\": 0, \"arrowwidth\": 1}, \"autotypenumbers\": \"strict\", \"coloraxis\": {\"colorbar\": {\"outlinewidth\": 0, \"ticks\": \"\"}}, \"colorscale\": {\"diverging\": [[0, \"#8e0152\"], [0.1, \"#c51b7d\"], [0.2, \"#de77ae\"], [0.3, \"#f1b6da\"], [0.4, \"#fde0ef\"], [0.5, \"#f7f7f7\"], [0.6, \"#e6f5d0\"], [0.7, \"#b8e186\"], [0.8, \"#7fbc41\"], [0.9, \"#4d9221\"], [1, \"#276419\"]], \"sequential\": [[0.0, \"#0d0887\"], [0.1111111111111111, \"#46039f\"], [0.2222222222222222, \"#7201a8\"], [0.3333333333333333, \"#9c179e\"], [0.4444444444444444, \"#bd3786\"], [0.5555555555555556, \"#d8576b\"], [0.6666666666666666, \"#ed7953\"], [0.7777777777777778, \"#fb9f3a\"], [0.8888888888888888, \"#fdca26\"], [1.0, \"#f0f921\"]], \"sequentialminus\": [[0.0, \"#0d0887\"], [0.1111111111111111, \"#46039f\"], [0.2222222222222222, \"#7201a8\"], [0.3333333333333333, \"#9c179e\"], [0.4444444444444444, \"#bd3786\"], [0.5555555555555556, \"#d8576b\"], [0.6666666666666666, \"#ed7953\"], [0.7777777777777778, \"#fb9f3a\"], [0.8888888888888888, \"#fdca26\"], [1.0, \"#f0f921\"]]}, \"colorway\": [\"#636efa\", \"#EF553B\", \"#00cc96\", \"#ab63fa\", \"#FFA15A\", \"#19d3f3\", \"#FF6692\", \"#B6E880\", \"#FF97FF\", \"#FECB52\"], \"font\": {\"color\": \"#2a3f5f\"}, \"geo\": {\"bgcolor\": \"white\", \"lakecolor\": \"white\", \"landcolor\": \"#E5ECF6\", \"showlakes\": true, \"showland\": true, \"subunitcolor\": \"white\"}, \"hoverlabel\": {\"align\": \"left\"}, \"hovermode\": \"closest\", \"mapbox\": {\"style\": \"light\"}, \"paper_bgcolor\": \"white\", \"plot_bgcolor\": \"#E5ECF6\", \"polar\": {\"angularaxis\": {\"gridcolor\": \"white\", \"linecolor\": \"white\", \"ticks\": \"\"}, \"bgcolor\": \"#E5ECF6\", \"radialaxis\": {\"gridcolor\": \"white\", \"linecolor\": \"white\", \"ticks\": \"\"}}, \"scene\": {\"xaxis\": {\"backgroundcolor\": \"#E5ECF6\", \"gridcolor\": \"white\", \"gridwidth\": 2, \"linecolor\": \"white\", \"showbackground\": true, \"ticks\": \"\", \"zerolinecolor\": \"white\"}, \"yaxis\": {\"backgroundcolor\": \"#E5ECF6\", \"gridcolor\": \"white\", \"gridwidth\": 2, \"linecolor\": \"white\", \"showbackground\": true, \"ticks\": \"\", \"zerolinecolor\": \"white\"}, \"zaxis\": {\"backgroundcolor\": \"#E5ECF6\", \"gridcolor\": \"white\", \"gridwidth\": 2, \"linecolor\": \"white\", \"showbackground\": true, \"ticks\": \"\", \"zerolinecolor\": \"white\"}}, \"shapedefaults\": {\"line\": {\"color\": \"#2a3f5f\"}}, \"ternary\": {\"aaxis\": {\"gridcolor\": \"white\", \"linecolor\": \"white\", \"ticks\": \"\"}, \"baxis\": {\"gridcolor\": \"white\", \"linecolor\": \"white\", \"ticks\": \"\"}, \"bgcolor\": \"#E5ECF6\", \"caxis\": {\"gridcolor\": \"white\", \"linecolor\": \"white\", \"ticks\": \"\"}}, \"title\": {\"x\": 0.05}, \"xaxis\": {\"automargin\": true, \"gridcolor\": \"white\", \"linecolor\": \"white\", \"ticks\": \"\", \"title\": {\"standoff\": 15}, \"zerolinecolor\": \"white\", \"zerolinewidth\": 2}, \"yaxis\": {\"automargin\": true, \"gridcolor\": \"white\", \"linecolor\": \"white\", \"ticks\": \"\", \"title\": {\"standoff\": 15}, \"zerolinecolor\": \"white\", \"zerolinewidth\": 2}}}, \"xaxis\": {\"anchor\": \"y\", \"domain\": [0.0, 1.0], \"matches\": \"x3\", \"showticklabels\": false}, \"xaxis2\": {\"anchor\": \"y2\", \"domain\": [0.0, 1.0], \"matches\": \"x3\", \"showticklabels\": false}, \"xaxis3\": {\"anchor\": \"y3\", \"domain\": [0.0, 1.0], \"title\": {\"text\": \"Epochs\"}}, \"yaxis\": {\"anchor\": \"x\", \"domain\": [0.7333333333333333, 1.0]}, \"yaxis2\": {\"anchor\": \"x2\", \"domain\": [0.36666666666666664, 0.6333333333333333]}, \"yaxis3\": {\"anchor\": \"x3\", \"domain\": [0.0, 0.26666666666666666]}},                        {\"responsive\": true}                    ).then(function(){\n",
       "                            \n",
       "var gd = document.getElementById('fc72fa08-8e54-404d-890f-9e22746a7d6d');\n",
       "var x = new MutationObserver(function (mutations, observer) {{\n",
       "        var display = window.getComputedStyle(gd).display;\n",
       "        if (!display || display === 'none') {{\n",
       "            console.log([gd, 'removed!']);\n",
       "            Plotly.purge(gd);\n",
       "            observer.disconnect();\n",
       "        }}\n",
       "}});\n",
       "\n",
       "// Listen for the removal of the full notebook cells\n",
       "var notebookContainer = gd.closest('#notebook-container');\n",
       "if (notebookContainer) {{\n",
       "    x.observe(notebookContainer, {childList: true});\n",
       "}}\n",
       "\n",
       "// Listen for the clearing of the current output cell\n",
       "var outputEl = gd.closest('.output');\n",
       "if (outputEl) {{\n",
       "    x.observe(outputEl, {childList: true});\n",
       "}}\n",
       "\n",
       "                        })                };                });            </script>        </div>"
      ]
     },
     "metadata": {},
     "output_type": "display_data"
    }
   ],
   "source": [
    "# show_loss([path1, path2, path3, path4, path5, path6, path7], ['model 1', 'model 2', 'model 3', 'model 4', 'model 5', 'model 6', 'model 7'])\n",
    "\n",
    "# show_loss([path6, path7, path8, path9, path11, path_grid, res_model, res_model2], ['model 6', 'model 7', 'model 8', 'model 9', 'model 11', 'grid', 'res', 'res2'])\n",
    "# show_loss([PC_only_TCN2, last_res_conv_with_grid_TCN2, grid_conv_added_at_each_TCN_together2], ['PC Conv', 'Last Res Conv', 'Grid Conv'])\n",
    "\n",
    "show_loss([pc_tcn, pc_tcn2, pc_tcn3], ['PC Conv', '2', '3'])\n",
    "\n"
   ]
  },
  {
   "cell_type": "markdown",
   "id": "broken-journey",
   "metadata": {},
   "source": [
    "## Plot the forecasts"
   ]
  },
  {
   "cell_type": "code",
   "execution_count": 21,
   "id": "compatible-attraction",
   "metadata": {},
   "outputs": [],
   "source": [
    "def change_df(dataframe):\n",
    "    dataframe.index = pd.to_datetime(dataframe.reset_index()['date_str'])\n",
    "    dataframe = dataframe.resample(\"1H\").mean()\n",
    "    return dataframe"
   ]
  },
  {
   "cell_type": "code",
   "execution_count": 49,
   "id": "external-portal",
   "metadata": {},
   "outputs": [],
   "source": [
    "arima = pd.read_csv(f'../benchmark_results/arima/grid.csv', index_col=[0])\n",
    "arima = change_df(arima)"
   ]
  },
  {
   "cell_type": "code",
   "execution_count": 50,
   "id": "fossil-eight",
   "metadata": {},
   "outputs": [],
   "source": [
    "tbats = pd.read_csv(f'../benchmark_results/tbats/grid.csv', index_col=[0])\n",
    "tbats = change_df(tbats)"
   ]
  },
  {
   "cell_type": "code",
   "execution_count": 31,
   "id": "healthy-plenty",
   "metadata": {},
   "outputs": [
    {
     "ename": "NameError",
     "evalue": "name 'path1' is not defined",
     "output_type": "error",
     "traceback": [
      "\u001b[0;31m---------------------------------------------------------------------------\u001b[0m",
      "\u001b[0;31mNameError\u001b[0m                                 Traceback (most recent call last)",
      "\u001b[0;32m<ipython-input-31-1fbdb8a533a6>\u001b[0m in \u001b[0;36m<module>\u001b[0;34m\u001b[0m\n\u001b[0;32m----> 1\u001b[0;31m \u001b[0mmodel1_fc\u001b[0m \u001b[0;34m=\u001b[0m \u001b[0mpd\u001b[0m\u001b[0;34m.\u001b[0m\u001b[0mread_csv\u001b[0m\u001b[0;34m(\u001b[0m\u001b[0;34mf'../{path1}/grid.csv'\u001b[0m\u001b[0;34m,\u001b[0m \u001b[0mindex_col\u001b[0m\u001b[0;34m=\u001b[0m\u001b[0;34m[\u001b[0m\u001b[0;36m0\u001b[0m\u001b[0;34m]\u001b[0m\u001b[0;34m)\u001b[0m\u001b[0;34m\u001b[0m\u001b[0;34m\u001b[0m\u001b[0m\n\u001b[0m\u001b[1;32m      2\u001b[0m \u001b[0mmodel1_fc\u001b[0m \u001b[0;34m=\u001b[0m \u001b[0mchange_df\u001b[0m\u001b[0;34m(\u001b[0m\u001b[0mmodel1_fc\u001b[0m\u001b[0;34m)\u001b[0m\u001b[0;34m\u001b[0m\u001b[0;34m\u001b[0m\u001b[0m\n",
      "\u001b[0;31mNameError\u001b[0m: name 'path1' is not defined"
     ]
    }
   ],
   "source": [
    "model1_fc = pd.read_csv(f'../{path1}/grid.csv', index_col=[0])\n",
    "model1_fc = change_df(model1_fc)"
   ]
  },
  {
   "cell_type": "code",
   "execution_count": 52,
   "id": "indian-netscape",
   "metadata": {},
   "outputs": [],
   "source": [
    "model2_fc = pd.read_csv(f'../{path2}/grid.csv', index_col=[0])\n",
    "model2_fc = change_df(model2_fc)"
   ]
  },
  {
   "cell_type": "code",
   "execution_count": 53,
   "id": "average-classic",
   "metadata": {},
   "outputs": [],
   "source": [
    "model3_fc = pd.read_csv(f'../{path3}/grid.csv', index_col=[0])\n",
    "model3_fc = change_df(model3_fc)"
   ]
  },
  {
   "cell_type": "code",
   "execution_count": 54,
   "id": "catholic-roots",
   "metadata": {},
   "outputs": [],
   "source": [
    "model4_fc = pd.read_csv(f'../{path4}/grid.csv', index_col=[0])\n",
    "model4_fc = change_df(model4_fc)"
   ]
  },
  {
   "cell_type": "code",
   "execution_count": 55,
   "id": "above-poker",
   "metadata": {},
   "outputs": [],
   "source": [
    "model5_fc = pd.read_csv(f'../{path5}/grid.csv', index_col=[0])\n",
    "model5_fc = change_df(model5_fc)"
   ]
  },
  {
   "cell_type": "code",
   "execution_count": 56,
   "id": "packed-swaziland",
   "metadata": {},
   "outputs": [],
   "source": [
    "path_cnn = 'cnn_results/tcn_new/dilation_2/final_results'\n",
    "\n",
    "cnn_uni = pd.read_csv(f'../{path_cnn}/grid.csv', index_col=[0])\n",
    "cnn_uni = change_df(cnn_uni)"
   ]
  },
  {
   "cell_type": "code",
   "execution_count": 57,
   "id": "scientific-proposal",
   "metadata": {},
   "outputs": [],
   "source": [
    "model6_fc = pd.read_csv(f'../{path6}/grid.csv', index_col=[0])\n",
    "model6_fc = change_df(model6_fc)"
   ]
  },
  {
   "cell_type": "code",
   "execution_count": 58,
   "id": "blond-canvas",
   "metadata": {},
   "outputs": [],
   "source": [
    "model7_fc = pd.read_csv(f'../{path7}/grid.csv', index_col=[0])\n",
    "model7_fc = change_df(model7_fc)"
   ]
  },
  {
   "cell_type": "code",
   "execution_count": 59,
   "id": "little-emperor",
   "metadata": {},
   "outputs": [],
   "source": [
    "model8_fc = pd.read_csv(f'../{path8}/grid.csv', index_col=[0])\n",
    "model8_fc = change_df(model8_fc)"
   ]
  },
  {
   "cell_type": "code",
   "execution_count": 60,
   "id": "annoying-fusion",
   "metadata": {},
   "outputs": [],
   "source": [
    "model9_fc = pd.read_csv(f'../{path9}/grid.csv', index_col=[0])\n",
    "model9_fc = change_df(model9_fc)"
   ]
  },
  {
   "cell_type": "code",
   "execution_count": 61,
   "id": "cordless-hunter",
   "metadata": {},
   "outputs": [],
   "source": [
    "model11_fc = pd.read_csv(f'../{path11}/grid.csv', index_col=[0])\n",
    "model11_fc = change_df(model11_fc)"
   ]
  },
  {
   "cell_type": "code",
   "execution_count": 62,
   "id": "after-disorder",
   "metadata": {},
   "outputs": [],
   "source": [
    "modelgrid_fc = pd.read_csv(f'../{path_grid}/grid.csv', index_col=[0])\n",
    "modelgrid_fc = change_df(modelgrid_fc)"
   ]
  },
  {
   "cell_type": "code",
   "execution_count": 63,
   "id": "irish-evidence",
   "metadata": {},
   "outputs": [],
   "source": [
    "modelres = pd.read_csv(f'../{res_model}/grid.csv', index_col=[0])\n",
    "modelres = change_df(modelres)"
   ]
  },
  {
   "cell_type": "code",
   "execution_count": 64,
   "id": "least-housing",
   "metadata": {},
   "outputs": [],
   "source": [
    "modelres2 = pd.read_csv(f'../{res_model2}/grid.csv', index_col=[0])\n",
    "modelres2 = change_df(modelres2)"
   ]
  },
  {
   "cell_type": "code",
   "execution_count": 65,
   "id": "delayed-inclusion",
   "metadata": {},
   "outputs": [],
   "source": [
    "modelresblock = pd.read_csv(f'../{res_block}/grid.csv', index_col=[0])\n",
    "modelresblock = change_df(modelresblock)"
   ]
  },
  {
   "cell_type": "code",
   "execution_count": 66,
   "id": "spiritual-grain",
   "metadata": {},
   "outputs": [],
   "source": [
    "modelresblock2 = pd.read_csv(f'../{res_block2}/grid.csv', index_col=[0])\n",
    "modelresblock2 = change_df(modelresblock2)"
   ]
  },
  {
   "cell_type": "code",
   "execution_count": 68,
   "id": "af0b280f",
   "metadata": {},
   "outputs": [],
   "source": [
    "local_conv_df = pd.read_csv(f'../{local_conv_with_grid}/grid.csv', index_col=[0])\n",
    "local_conv_df = change_df(local_conv_df)"
   ]
  },
  {
   "cell_type": "code",
   "execution_count": 73,
   "id": "8584cbaf",
   "metadata": {},
   "outputs": [],
   "source": [
    "local_conv_with_grid_TCN_df = pd.read_csv(f'../{local_conv_with_grid_TCN}/grid.csv', index_col=[0])\n",
    "local_conv_with_grid_TCN_df = change_df(local_conv_with_grid_TCN_df)"
   ]
  },
  {
   "cell_type": "code",
   "execution_count": 79,
   "id": "e66b75bb",
   "metadata": {},
   "outputs": [],
   "source": [
    "last_res_conv_with_grid_TCN_df = pd.read_csv(f'../{last_res_conv_with_grid_TCN}/grid.csv', index_col=[0])\n",
    "last_res_conv_with_grid_TCN_df = change_df(last_res_conv_with_grid_TCN_df)"
   ]
  },
  {
   "cell_type": "code",
   "execution_count": 22,
   "id": "72d50d52",
   "metadata": {},
   "outputs": [],
   "source": [
    "PC_only_TCN3 = 'combined_nn_results/refined_models/multiple_runs2/grid_conv_added_at_each_TCN_together/2'\n",
    "\n",
    "\n",
    "PC_only_TCN3_df = pd.read_csv(f'../{PC_only_TCN3}/grid.csv', index_col=[0])\n",
    "PC_only_TCN3_df = change_df(PC_only_TCN3_df)"
   ]
  },
  {
   "cell_type": "code",
   "execution_count": null,
   "id": "9b5a2efc",
   "metadata": {},
   "outputs": [],
   "source": []
  },
  {
   "cell_type": "code",
   "execution_count": 24,
   "id": "coupled-reviewer",
   "metadata": {},
   "outputs": [
    {
     "data": {
      "application/vnd.plotly.v1+json": {
       "config": {
        "plotlyServerURL": "https://plot.ly"
       },
       "data": [
        {
         "name": "target generation",
         "type": "scatter",
         "x": [
          "2021-01-09T07:00:00",
          "2021-01-09T08:00:00",
          "2021-01-09T09:00:00",
          "2021-01-09T10:00:00",
          "2021-01-09T11:00:00",
          "2021-01-09T12:00:00",
          "2021-01-09T13:00:00",
          "2021-01-09T14:00:00",
          "2021-01-09T15:00:00",
          "2021-01-09T16:00:00",
          "2021-01-09T17:00:00",
          "2021-01-09T18:00:00",
          "2021-01-09T19:00:00",
          "2021-01-09T20:00:00",
          "2021-01-09T21:00:00",
          "2021-01-09T22:00:00",
          "2021-01-09T23:00:00",
          "2021-01-10T00:00:00",
          "2021-01-10T01:00:00",
          "2021-01-10T02:00:00",
          "2021-01-10T03:00:00",
          "2021-01-10T04:00:00",
          "2021-01-10T05:00:00",
          "2021-01-10T06:00:00",
          "2021-01-10T07:00:00",
          "2021-01-10T08:00:00",
          "2021-01-10T09:00:00",
          "2021-01-10T10:00:00",
          "2021-01-10T11:00:00",
          "2021-01-10T12:00:00",
          "2021-01-10T13:00:00",
          "2021-01-10T14:00:00",
          "2021-01-10T15:00:00",
          "2021-01-10T16:00:00",
          "2021-01-10T17:00:00",
          "2021-01-10T18:00:00",
          "2021-01-10T19:00:00",
          "2021-01-10T20:00:00",
          "2021-01-10T21:00:00",
          "2021-01-10T22:00:00",
          "2021-01-10T23:00:00",
          "2021-01-11T00:00:00",
          "2021-01-11T01:00:00",
          "2021-01-11T02:00:00",
          "2021-01-11T03:00:00",
          "2021-01-11T04:00:00",
          "2021-01-11T05:00:00",
          "2021-01-11T06:00:00",
          "2021-01-11T07:00:00",
          "2021-01-11T08:00:00",
          "2021-01-11T09:00:00",
          "2021-01-11T10:00:00",
          "2021-01-11T11:00:00",
          "2021-01-11T12:00:00",
          "2021-01-11T13:00:00",
          "2021-01-11T14:00:00",
          "2021-01-11T15:00:00",
          "2021-01-11T16:00:00",
          "2021-01-11T17:00:00",
          "2021-01-11T18:00:00",
          "2021-01-11T19:00:00",
          "2021-01-11T20:00:00",
          "2021-01-11T21:00:00",
          "2021-01-11T22:00:00",
          "2021-01-11T23:00:00",
          "2021-01-12T00:00:00",
          "2021-01-12T01:00:00",
          "2021-01-12T02:00:00",
          "2021-01-12T03:00:00",
          "2021-01-12T04:00:00",
          "2021-01-12T05:00:00",
          "2021-01-12T06:00:00",
          "2021-01-12T07:00:00",
          "2021-01-12T08:00:00",
          "2021-01-12T09:00:00",
          "2021-01-12T10:00:00",
          "2021-01-12T11:00:00",
          "2021-01-12T12:00:00",
          "2021-01-12T13:00:00",
          "2021-01-12T14:00:00",
          "2021-01-12T15:00:00",
          "2021-01-12T16:00:00",
          "2021-01-12T17:00:00",
          "2021-01-12T18:00:00",
          "2021-01-12T19:00:00",
          "2021-01-12T20:00:00",
          "2021-01-12T21:00:00",
          "2021-01-12T22:00:00",
          "2021-01-12T23:00:00",
          "2021-01-13T00:00:00",
          "2021-01-13T01:00:00",
          "2021-01-13T02:00:00",
          "2021-01-13T03:00:00",
          "2021-01-13T04:00:00",
          "2021-01-13T05:00:00",
          "2021-01-13T06:00:00",
          "2021-01-13T07:00:00",
          "2021-01-13T08:00:00",
          "2021-01-13T09:00:00",
          "2021-01-13T10:00:00",
          "2021-01-13T11:00:00",
          "2021-01-13T12:00:00",
          "2021-01-13T13:00:00",
          "2021-01-13T14:00:00",
          "2021-01-13T15:00:00",
          "2021-01-13T16:00:00",
          "2021-01-13T17:00:00",
          "2021-01-13T18:00:00",
          "2021-01-13T19:00:00",
          "2021-01-13T20:00:00",
          "2021-01-13T21:00:00",
          "2021-01-13T22:00:00",
          "2021-01-13T23:00:00",
          "2021-01-14T00:00:00",
          "2021-01-14T01:00:00",
          "2021-01-14T02:00:00",
          "2021-01-14T03:00:00",
          "2021-01-14T04:00:00",
          "2021-01-14T05:00:00",
          "2021-01-14T06:00:00",
          "2021-01-14T07:00:00",
          "2021-01-14T08:00:00",
          "2021-01-14T09:00:00",
          "2021-01-14T10:00:00",
          "2021-01-14T11:00:00",
          "2021-01-14T12:00:00",
          "2021-01-14T13:00:00",
          "2021-01-14T14:00:00",
          "2021-01-14T15:00:00",
          "2021-01-14T16:00:00",
          "2021-01-14T17:00:00",
          "2021-01-14T18:00:00",
          "2021-01-14T19:00:00",
          "2021-01-14T20:00:00",
          "2021-01-14T21:00:00",
          "2021-01-14T22:00:00",
          "2021-01-14T23:00:00",
          "2021-01-15T00:00:00",
          "2021-01-15T01:00:00",
          "2021-01-15T02:00:00",
          "2021-01-15T03:00:00",
          "2021-01-15T04:00:00",
          "2021-01-15T05:00:00",
          "2021-01-15T06:00:00",
          "2021-01-15T07:00:00",
          "2021-01-15T08:00:00",
          "2021-01-15T09:00:00",
          "2021-01-15T10:00:00",
          "2021-01-15T11:00:00",
          "2021-01-15T12:00:00",
          "2021-01-15T13:00:00",
          "2021-01-15T14:00:00",
          "2021-01-15T15:00:00",
          "2021-01-15T16:00:00",
          "2021-01-15T17:00:00",
          "2021-01-15T18:00:00",
          "2021-01-15T19:00:00",
          "2021-01-15T20:00:00",
          "2021-01-15T21:00:00",
          "2021-01-15T22:00:00",
          "2021-01-15T23:00:00",
          "2021-01-16T00:00:00",
          "2021-01-16T01:00:00",
          "2021-01-16T02:00:00",
          "2021-01-16T03:00:00",
          "2021-01-16T04:00:00",
          "2021-01-16T05:00:00",
          "2021-01-16T06:00:00",
          "2021-01-16T07:00:00",
          "2021-01-16T08:00:00",
          "2021-01-16T09:00:00",
          "2021-01-16T10:00:00",
          "2021-01-16T11:00:00",
          "2021-01-16T12:00:00",
          "2021-01-16T13:00:00",
          "2021-01-16T14:00:00",
          "2021-01-16T15:00:00",
          "2021-01-16T16:00:00",
          "2021-01-16T17:00:00",
          "2021-01-16T18:00:00",
          "2021-01-16T19:00:00",
          "2021-01-16T20:00:00",
          "2021-01-16T21:00:00",
          "2021-01-16T22:00:00",
          "2021-01-16T23:00:00",
          "2021-01-17T00:00:00",
          "2021-01-17T01:00:00",
          "2021-01-17T02:00:00",
          "2021-01-17T03:00:00",
          "2021-01-17T04:00:00",
          "2021-01-17T05:00:00",
          "2021-01-17T06:00:00",
          "2021-01-17T07:00:00",
          "2021-01-17T08:00:00",
          "2021-01-17T09:00:00",
          "2021-01-17T10:00:00",
          "2021-01-17T11:00:00",
          "2021-01-17T12:00:00",
          "2021-01-17T13:00:00",
          "2021-01-17T14:00:00",
          "2021-01-17T15:00:00",
          "2021-01-17T16:00:00",
          "2021-01-17T17:00:00",
          "2021-01-17T18:00:00",
          "2021-01-17T19:00:00",
          "2021-01-17T20:00:00",
          "2021-01-17T21:00:00",
          "2021-01-17T22:00:00",
          "2021-01-17T23:00:00",
          "2021-01-18T00:00:00",
          "2021-01-18T01:00:00",
          "2021-01-18T02:00:00",
          "2021-01-18T03:00:00",
          "2021-01-18T04:00:00",
          "2021-01-18T05:00:00",
          "2021-01-18T06:00:00",
          "2021-01-18T07:00:00",
          "2021-01-18T08:00:00",
          "2021-01-18T09:00:00",
          "2021-01-18T10:00:00",
          "2021-01-18T11:00:00",
          "2021-01-18T12:00:00",
          "2021-01-18T13:00:00",
          "2021-01-18T14:00:00",
          "2021-01-18T15:00:00",
          "2021-01-18T16:00:00",
          "2021-01-18T17:00:00",
          "2021-01-18T18:00:00",
          "2021-01-18T19:00:00",
          "2021-01-18T20:00:00",
          "2021-01-18T21:00:00",
          "2021-01-18T22:00:00",
          "2021-01-18T23:00:00",
          "2021-01-19T00:00:00",
          "2021-01-19T01:00:00",
          "2021-01-19T02:00:00",
          "2021-01-19T03:00:00",
          "2021-01-19T04:00:00",
          "2021-01-19T05:00:00",
          "2021-01-19T06:00:00",
          "2021-01-19T07:00:00",
          "2021-01-19T08:00:00",
          "2021-01-19T09:00:00",
          "2021-01-19T10:00:00",
          "2021-01-19T11:00:00",
          "2021-01-19T12:00:00",
          "2021-01-19T13:00:00",
          "2021-01-19T14:00:00",
          "2021-01-19T15:00:00",
          "2021-01-19T16:00:00",
          "2021-01-19T17:00:00",
          "2021-01-19T18:00:00",
          "2021-01-19T19:00:00",
          "2021-01-19T20:00:00",
          "2021-01-19T21:00:00",
          "2021-01-19T22:00:00",
          "2021-01-19T23:00:00",
          "2021-01-20T00:00:00",
          "2021-01-20T01:00:00",
          "2021-01-20T02:00:00",
          "2021-01-20T03:00:00",
          "2021-01-20T04:00:00",
          "2021-01-20T05:00:00",
          "2021-01-20T06:00:00",
          "2021-01-20T07:00:00",
          "2021-01-20T08:00:00",
          "2021-01-20T09:00:00",
          "2021-01-20T10:00:00",
          "2021-01-20T11:00:00",
          "2021-01-20T12:00:00",
          "2021-01-20T13:00:00",
          "2021-01-20T14:00:00",
          "2021-01-20T15:00:00",
          "2021-01-20T16:00:00",
          "2021-01-20T17:00:00",
          "2021-01-20T18:00:00",
          "2021-01-20T19:00:00",
          "2021-01-20T20:00:00",
          "2021-01-20T21:00:00",
          "2021-01-20T22:00:00",
          "2021-01-20T23:00:00",
          "2021-01-21T00:00:00",
          "2021-01-21T01:00:00",
          "2021-01-21T02:00:00",
          "2021-01-21T03:00:00",
          "2021-01-21T04:00:00",
          "2021-01-21T05:00:00",
          "2021-01-21T06:00:00",
          "2021-01-21T07:00:00",
          "2021-01-21T08:00:00",
          "2021-01-21T09:00:00",
          "2021-01-21T10:00:00",
          "2021-01-21T11:00:00",
          "2021-01-21T12:00:00",
          "2021-01-21T13:00:00",
          "2021-01-21T14:00:00",
          "2021-01-21T15:00:00",
          "2021-01-21T16:00:00",
          "2021-01-21T17:00:00",
          "2021-01-21T18:00:00",
          "2021-01-21T19:00:00",
          "2021-01-21T20:00:00",
          "2021-01-21T21:00:00",
          "2021-01-21T22:00:00",
          "2021-01-21T23:00:00",
          "2021-01-22T00:00:00",
          "2021-01-22T01:00:00",
          "2021-01-22T02:00:00",
          "2021-01-22T03:00:00",
          "2021-01-22T04:00:00",
          "2021-01-22T05:00:00",
          "2021-01-22T06:00:00",
          "2021-01-22T07:00:00",
          "2021-01-22T08:00:00",
          "2021-01-22T09:00:00",
          "2021-01-22T10:00:00",
          "2021-01-22T11:00:00",
          "2021-01-22T12:00:00",
          "2021-01-22T13:00:00",
          "2021-01-22T14:00:00",
          "2021-01-22T15:00:00",
          "2021-01-22T16:00:00",
          "2021-01-22T17:00:00",
          "2021-01-22T18:00:00",
          "2021-01-22T19:00:00",
          "2021-01-22T20:00:00",
          "2021-01-22T21:00:00",
          "2021-01-22T22:00:00",
          "2021-01-22T23:00:00",
          "2021-01-23T00:00:00",
          "2021-01-23T01:00:00",
          "2021-01-23T02:00:00",
          "2021-01-23T03:00:00",
          "2021-01-23T04:00:00",
          "2021-01-23T05:00:00",
          "2021-01-23T06:00:00",
          "2021-01-23T07:00:00",
          "2021-01-23T08:00:00",
          "2021-01-23T09:00:00",
          "2021-01-23T10:00:00",
          "2021-01-23T11:00:00",
          "2021-01-23T12:00:00",
          "2021-01-23T13:00:00",
          "2021-01-23T14:00:00",
          "2021-01-23T15:00:00",
          "2021-01-23T16:00:00",
          "2021-01-23T17:00:00",
          "2021-01-23T18:00:00",
          "2021-01-23T19:00:00",
          "2021-01-23T20:00:00",
          "2021-01-23T21:00:00",
          "2021-01-23T22:00:00",
          "2021-01-23T23:00:00",
          "2021-01-24T00:00:00",
          "2021-01-24T01:00:00",
          "2021-01-24T02:00:00",
          "2021-01-24T03:00:00",
          "2021-01-24T04:00:00",
          "2021-01-24T05:00:00",
          "2021-01-24T06:00:00",
          "2021-01-24T07:00:00",
          "2021-01-24T08:00:00",
          "2021-01-24T09:00:00",
          "2021-01-24T10:00:00",
          "2021-01-24T11:00:00",
          "2021-01-24T12:00:00",
          "2021-01-24T13:00:00",
          "2021-01-24T14:00:00",
          "2021-01-24T15:00:00",
          "2021-01-24T16:00:00",
          "2021-01-24T17:00:00",
          "2021-01-24T18:00:00",
          "2021-01-24T19:00:00",
          "2021-01-24T20:00:00",
          "2021-01-24T21:00:00",
          "2021-01-24T22:00:00",
          "2021-01-24T23:00:00",
          "2021-01-25T00:00:00",
          "2021-01-25T01:00:00",
          "2021-01-25T02:00:00",
          "2021-01-25T03:00:00",
          "2021-01-25T04:00:00",
          "2021-01-25T05:00:00",
          "2021-01-25T06:00:00",
          "2021-01-25T07:00:00",
          "2021-01-25T08:00:00",
          "2021-01-25T09:00:00",
          "2021-01-25T10:00:00",
          "2021-01-25T11:00:00",
          "2021-01-25T12:00:00",
          "2021-01-25T13:00:00",
          "2021-01-25T14:00:00",
          "2021-01-25T15:00:00",
          "2021-01-25T16:00:00",
          "2021-01-25T17:00:00",
          "2021-01-25T18:00:00",
          "2021-01-25T19:00:00",
          "2021-01-25T20:00:00",
          "2021-01-25T21:00:00",
          "2021-01-25T22:00:00",
          "2021-01-25T23:00:00",
          "2021-01-26T00:00:00",
          "2021-01-26T01:00:00",
          "2021-01-26T02:00:00",
          "2021-01-26T03:00:00",
          "2021-01-26T04:00:00",
          "2021-01-26T05:00:00",
          "2021-01-26T06:00:00",
          "2021-01-26T07:00:00",
          "2021-01-26T08:00:00",
          "2021-01-26T09:00:00",
          "2021-01-26T10:00:00",
          "2021-01-26T11:00:00",
          "2021-01-26T12:00:00",
          "2021-01-26T13:00:00",
          "2021-01-26T14:00:00",
          "2021-01-26T15:00:00",
          "2021-01-26T16:00:00",
          "2021-01-26T17:00:00",
          "2021-01-26T18:00:00",
          "2021-01-26T19:00:00",
          "2021-01-26T20:00:00",
          "2021-01-26T21:00:00",
          "2021-01-26T22:00:00",
          "2021-01-26T23:00:00",
          "2021-01-27T00:00:00",
          "2021-01-27T01:00:00",
          "2021-01-27T02:00:00",
          "2021-01-27T03:00:00",
          "2021-01-27T04:00:00",
          "2021-01-27T05:00:00",
          "2021-01-27T06:00:00",
          "2021-01-27T07:00:00",
          "2021-01-27T08:00:00",
          "2021-01-27T09:00:00",
          "2021-01-27T10:00:00",
          "2021-01-27T11:00:00",
          "2021-01-27T12:00:00",
          "2021-01-27T13:00:00",
          "2021-01-27T14:00:00",
          "2021-01-27T15:00:00",
          "2021-01-27T16:00:00",
          "2021-01-27T17:00:00",
          "2021-01-27T18:00:00",
          "2021-01-27T19:00:00",
          "2021-01-27T20:00:00",
          "2021-01-27T21:00:00",
          "2021-01-27T22:00:00",
          "2021-01-27T23:00:00",
          "2021-01-28T00:00:00",
          "2021-01-28T01:00:00",
          "2021-01-28T02:00:00",
          "2021-01-28T03:00:00",
          "2021-01-28T04:00:00",
          "2021-01-28T05:00:00",
          "2021-01-28T06:00:00",
          "2021-01-28T07:00:00",
          "2021-01-28T08:00:00",
          "2021-01-28T09:00:00",
          "2021-01-28T10:00:00",
          "2021-01-28T11:00:00",
          "2021-01-28T12:00:00",
          "2021-01-28T13:00:00",
          "2021-01-28T14:00:00",
          "2021-01-28T15:00:00",
          "2021-01-28T16:00:00",
          "2021-01-28T17:00:00",
          "2021-01-28T18:00:00",
          "2021-01-28T19:00:00",
          "2021-01-28T20:00:00",
          "2021-01-28T21:00:00",
          "2021-01-28T22:00:00",
          "2021-01-28T23:00:00",
          "2021-01-29T00:00:00",
          "2021-01-29T01:00:00",
          "2021-01-29T02:00:00",
          "2021-01-29T03:00:00",
          "2021-01-29T04:00:00",
          "2021-01-29T05:00:00",
          "2021-01-29T06:00:00",
          "2021-01-29T07:00:00",
          "2021-01-29T08:00:00",
          "2021-01-29T09:00:00",
          "2021-01-29T10:00:00",
          "2021-01-29T11:00:00",
          "2021-01-29T12:00:00",
          "2021-01-29T13:00:00",
          "2021-01-29T14:00:00",
          "2021-01-29T15:00:00",
          "2021-01-29T16:00:00",
          "2021-01-29T17:00:00",
          "2021-01-29T18:00:00",
          "2021-01-29T19:00:00",
          "2021-01-29T20:00:00",
          "2021-01-29T21:00:00",
          "2021-01-29T22:00:00",
          "2021-01-29T23:00:00",
          "2021-01-30T00:00:00",
          "2021-01-30T01:00:00",
          "2021-01-30T02:00:00",
          "2021-01-30T03:00:00",
          "2021-01-30T04:00:00",
          "2021-01-30T05:00:00",
          "2021-01-30T06:00:00",
          "2021-01-30T07:00:00",
          "2021-01-30T08:00:00",
          "2021-01-30T09:00:00",
          "2021-01-30T10:00:00",
          "2021-01-30T11:00:00",
          "2021-01-30T12:00:00",
          "2021-01-30T13:00:00",
          "2021-01-30T14:00:00",
          "2021-01-30T15:00:00",
          "2021-01-30T16:00:00",
          "2021-01-30T17:00:00",
          "2021-01-30T18:00:00",
          "2021-01-30T19:00:00",
          "2021-01-30T20:00:00",
          "2021-01-30T21:00:00",
          "2021-01-30T22:00:00",
          "2021-01-30T23:00:00",
          "2021-01-31T00:00:00",
          "2021-01-31T01:00:00",
          "2021-01-31T02:00:00",
          "2021-01-31T03:00:00",
          "2021-01-31T04:00:00",
          "2021-01-31T05:00:00",
          "2021-01-31T06:00:00",
          "2021-01-31T07:00:00",
          "2021-01-31T08:00:00",
          "2021-01-31T09:00:00",
          "2021-01-31T10:00:00",
          "2021-01-31T11:00:00",
          "2021-01-31T12:00:00",
          "2021-01-31T13:00:00",
          "2021-01-31T14:00:00",
          "2021-01-31T15:00:00",
          "2021-01-31T16:00:00",
          "2021-01-31T17:00:00",
          "2021-01-31T18:00:00",
          "2021-01-31T19:00:00",
          "2021-01-31T20:00:00",
          "2021-01-31T21:00:00",
          "2021-01-31T22:00:00",
          "2021-01-31T23:00:00",
          "2021-02-01T00:00:00",
          "2021-02-01T01:00:00",
          "2021-02-01T02:00:00",
          "2021-02-01T03:00:00",
          "2021-02-01T04:00:00",
          "2021-02-01T05:00:00",
          "2021-02-01T06:00:00",
          "2021-02-01T07:00:00",
          "2021-02-01T08:00:00",
          "2021-02-01T09:00:00",
          "2021-02-01T10:00:00",
          "2021-02-01T11:00:00",
          "2021-02-01T12:00:00",
          "2021-02-01T13:00:00",
          "2021-02-01T14:00:00",
          "2021-02-01T15:00:00",
          "2021-02-01T16:00:00",
          "2021-02-01T17:00:00",
          "2021-02-01T18:00:00",
          "2021-02-01T19:00:00",
          "2021-02-01T20:00:00",
          "2021-02-01T21:00:00",
          "2021-02-01T22:00:00",
          "2021-02-01T23:00:00",
          "2021-02-02T00:00:00",
          "2021-02-02T01:00:00",
          "2021-02-02T02:00:00",
          "2021-02-02T03:00:00",
          "2021-02-02T04:00:00",
          "2021-02-02T05:00:00",
          "2021-02-02T06:00:00",
          "2021-02-02T07:00:00",
          "2021-02-02T08:00:00",
          "2021-02-02T09:00:00",
          "2021-02-02T10:00:00",
          "2021-02-02T11:00:00",
          "2021-02-02T12:00:00",
          "2021-02-02T13:00:00",
          "2021-02-02T14:00:00",
          "2021-02-02T15:00:00",
          "2021-02-02T16:00:00",
          "2021-02-02T17:00:00",
          "2021-02-02T18:00:00",
          "2021-02-02T19:00:00",
          "2021-02-02T20:00:00",
          "2021-02-02T21:00:00",
          "2021-02-02T22:00:00",
          "2021-02-02T23:00:00",
          "2021-02-03T00:00:00",
          "2021-02-03T01:00:00",
          "2021-02-03T02:00:00",
          "2021-02-03T03:00:00",
          "2021-02-03T04:00:00",
          "2021-02-03T05:00:00",
          "2021-02-03T06:00:00",
          "2021-02-03T07:00:00",
          "2021-02-03T08:00:00",
          "2021-02-03T09:00:00",
          "2021-02-03T10:00:00",
          "2021-02-03T11:00:00",
          "2021-02-03T12:00:00",
          "2021-02-03T13:00:00",
          "2021-02-03T14:00:00",
          "2021-02-03T15:00:00",
          "2021-02-03T16:00:00",
          "2021-02-03T17:00:00",
          "2021-02-03T18:00:00",
          "2021-02-03T19:00:00",
          "2021-02-03T20:00:00",
          "2021-02-03T21:00:00",
          "2021-02-03T22:00:00",
          "2021-02-03T23:00:00",
          "2021-02-04T00:00:00",
          "2021-02-04T01:00:00",
          "2021-02-04T02:00:00",
          "2021-02-04T03:00:00",
          "2021-02-04T04:00:00",
          "2021-02-04T05:00:00",
          "2021-02-04T06:00:00",
          "2021-02-04T07:00:00",
          "2021-02-04T08:00:00",
          "2021-02-04T09:00:00",
          "2021-02-04T10:00:00",
          "2021-02-04T11:00:00",
          "2021-02-04T12:00:00",
          "2021-02-04T13:00:00",
          "2021-02-04T14:00:00",
          "2021-02-04T15:00:00",
          "2021-02-04T16:00:00",
          "2021-02-04T17:00:00",
          "2021-02-04T18:00:00",
          "2021-02-04T19:00:00",
          "2021-02-04T20:00:00",
          "2021-02-04T21:00:00",
          "2021-02-04T22:00:00",
          "2021-02-04T23:00:00",
          "2021-02-05T00:00:00",
          "2021-02-05T01:00:00",
          "2021-02-05T02:00:00",
          "2021-02-05T03:00:00",
          "2021-02-05T04:00:00",
          "2021-02-05T05:00:00",
          "2021-02-05T06:00:00",
          "2021-02-05T07:00:00",
          "2021-02-05T08:00:00",
          "2021-02-05T09:00:00",
          "2021-02-05T10:00:00",
          "2021-02-05T11:00:00",
          "2021-02-05T12:00:00",
          "2021-02-05T13:00:00",
          "2021-02-05T14:00:00",
          "2021-02-05T15:00:00",
          "2021-02-05T16:00:00",
          "2021-02-05T17:00:00",
          "2021-02-05T18:00:00",
          "2021-02-05T19:00:00",
          "2021-02-05T20:00:00",
          "2021-02-05T21:00:00",
          "2021-02-05T22:00:00",
          "2021-02-05T23:00:00",
          "2021-02-06T00:00:00",
          "2021-02-06T01:00:00",
          "2021-02-06T02:00:00",
          "2021-02-06T03:00:00",
          "2021-02-06T04:00:00",
          "2021-02-06T05:00:00",
          "2021-02-06T06:00:00",
          "2021-02-06T07:00:00",
          "2021-02-06T08:00:00",
          "2021-02-06T09:00:00",
          "2021-02-06T10:00:00",
          "2021-02-06T11:00:00",
          "2021-02-06T12:00:00",
          "2021-02-06T13:00:00",
          "2021-02-06T14:00:00",
          "2021-02-06T15:00:00",
          "2021-02-06T16:00:00",
          "2021-02-06T17:00:00",
          "2021-02-06T18:00:00",
          "2021-02-06T19:00:00",
          "2021-02-06T20:00:00",
          "2021-02-06T21:00:00",
          "2021-02-06T22:00:00",
          "2021-02-06T23:00:00",
          "2021-02-07T00:00:00",
          "2021-02-07T01:00:00",
          "2021-02-07T02:00:00",
          "2021-02-07T03:00:00",
          "2021-02-07T04:00:00",
          "2021-02-07T05:00:00",
          "2021-02-07T06:00:00",
          "2021-02-07T07:00:00",
          "2021-02-07T08:00:00",
          "2021-02-07T09:00:00",
          "2021-02-07T10:00:00",
          "2021-02-07T11:00:00",
          "2021-02-07T12:00:00",
          "2021-02-07T13:00:00",
          "2021-02-07T14:00:00",
          "2021-02-07T15:00:00",
          "2021-02-07T16:00:00",
          "2021-02-07T17:00:00",
          "2021-02-07T18:00:00",
          "2021-02-07T19:00:00",
          "2021-02-07T20:00:00",
          "2021-02-07T21:00:00",
          "2021-02-07T22:00:00",
          "2021-02-07T23:00:00",
          "2021-02-08T00:00:00",
          "2021-02-08T01:00:00",
          "2021-02-08T02:00:00",
          "2021-02-08T03:00:00",
          "2021-02-08T04:00:00",
          "2021-02-08T05:00:00",
          "2021-02-08T06:00:00",
          "2021-02-08T07:00:00",
          "2021-02-08T08:00:00",
          "2021-02-08T09:00:00",
          "2021-02-08T10:00:00",
          "2021-02-08T11:00:00",
          "2021-02-08T12:00:00",
          "2021-02-08T13:00:00",
          "2021-02-08T14:00:00",
          "2021-02-08T15:00:00",
          "2021-02-08T16:00:00",
          "2021-02-08T17:00:00",
          "2021-02-08T18:00:00",
          "2021-02-08T19:00:00",
          "2021-02-08T20:00:00",
          "2021-02-08T21:00:00",
          "2021-02-08T22:00:00",
          "2021-02-08T23:00:00",
          "2021-02-09T00:00:00",
          "2021-02-09T01:00:00",
          "2021-02-09T02:00:00",
          "2021-02-09T03:00:00",
          "2021-02-09T04:00:00",
          "2021-02-09T05:00:00",
          "2021-02-09T06:00:00",
          "2021-02-09T07:00:00",
          "2021-02-09T08:00:00",
          "2021-02-09T09:00:00",
          "2021-02-09T10:00:00",
          "2021-02-09T11:00:00",
          "2021-02-09T12:00:00",
          "2021-02-09T13:00:00",
          "2021-02-09T14:00:00",
          "2021-02-09T15:00:00",
          "2021-02-09T16:00:00",
          "2021-02-09T17:00:00",
          "2021-02-09T18:00:00",
          "2021-02-09T19:00:00",
          "2021-02-09T20:00:00",
          "2021-02-09T21:00:00",
          "2021-02-09T22:00:00",
          "2021-02-09T23:00:00",
          "2021-02-10T00:00:00",
          "2021-02-10T01:00:00",
          "2021-02-10T02:00:00",
          "2021-02-10T03:00:00",
          "2021-02-10T04:00:00",
          "2021-02-10T05:00:00",
          "2021-02-10T06:00:00",
          "2021-02-10T07:00:00",
          "2021-02-10T08:00:00",
          "2021-02-10T09:00:00",
          "2021-02-10T10:00:00",
          "2021-02-10T11:00:00",
          "2021-02-10T12:00:00",
          "2021-02-10T13:00:00",
          "2021-02-10T14:00:00",
          "2021-02-10T15:00:00",
          "2021-02-10T16:00:00",
          "2021-02-10T17:00:00",
          "2021-02-10T18:00:00",
          "2021-02-10T19:00:00",
          "2021-02-10T20:00:00",
          "2021-02-10T21:00:00",
          "2021-02-10T22:00:00",
          "2021-02-10T23:00:00",
          "2021-02-11T00:00:00",
          "2021-02-11T01:00:00",
          "2021-02-11T02:00:00",
          "2021-02-11T03:00:00",
          "2021-02-11T04:00:00",
          "2021-02-11T05:00:00",
          "2021-02-11T06:00:00",
          "2021-02-11T07:00:00",
          "2021-02-11T08:00:00",
          "2021-02-11T09:00:00",
          "2021-02-11T10:00:00",
          "2021-02-11T11:00:00",
          "2021-02-11T12:00:00",
          "2021-02-11T13:00:00",
          "2021-02-11T14:00:00",
          "2021-02-11T15:00:00",
          "2021-02-11T16:00:00",
          "2021-02-11T17:00:00",
          "2021-02-11T18:00:00",
          "2021-02-11T19:00:00",
          "2021-02-11T20:00:00",
          "2021-02-11T21:00:00",
          "2021-02-11T22:00:00",
          "2021-02-11T23:00:00",
          "2021-02-12T00:00:00",
          "2021-02-12T01:00:00",
          "2021-02-12T02:00:00",
          "2021-02-12T03:00:00",
          "2021-02-12T04:00:00",
          "2021-02-12T05:00:00",
          "2021-02-12T06:00:00",
          "2021-02-12T07:00:00",
          "2021-02-12T08:00:00",
          "2021-02-12T09:00:00",
          "2021-02-12T10:00:00",
          "2021-02-12T11:00:00",
          "2021-02-12T12:00:00",
          "2021-02-12T13:00:00",
          "2021-02-12T14:00:00",
          "2021-02-12T15:00:00",
          "2021-02-12T16:00:00",
          "2021-02-12T17:00:00",
          "2021-02-12T18:00:00",
          "2021-02-12T19:00:00",
          "2021-02-12T20:00:00",
          "2021-02-12T21:00:00",
          "2021-02-12T22:00:00",
          "2021-02-12T23:00:00",
          "2021-02-13T00:00:00",
          "2021-02-13T01:00:00",
          "2021-02-13T02:00:00",
          "2021-02-13T03:00:00",
          "2021-02-13T04:00:00",
          "2021-02-13T05:00:00",
          "2021-02-13T06:00:00",
          "2021-02-13T07:00:00",
          "2021-02-13T08:00:00",
          "2021-02-13T09:00:00",
          "2021-02-13T10:00:00",
          "2021-02-13T11:00:00",
          "2021-02-13T12:00:00",
          "2021-02-13T13:00:00",
          "2021-02-13T14:00:00",
          "2021-02-13T15:00:00",
          "2021-02-13T16:00:00",
          "2021-02-13T17:00:00",
          "2021-02-13T18:00:00",
          "2021-02-13T19:00:00",
          "2021-02-13T20:00:00"
         ],
         "y": [
          11.490000000000002,
          2827.6199999999994,
          19126,
          81339.19999999997,
          120248.86000000002,
          138112.29,
          193998.08,
          198199.69,
          221898.67,
          220806.23,
          208875.36,
          225113.79000000007,
          169836.8,
          98231.43,
          null,
          null,
          null,
          null,
          null,
          null,
          null,
          null,
          null,
          null,
          9.66,
          1874.0800000000008,
          18753.49,
          58166.4,
          108814.06,
          168628.05999999994,
          213157.54,
          237281.68,
          203407.61,
          221005.11000000004,
          246277.39,
          266609.59999999986,
          208908.97,
          117316.99,
          null,
          null,
          null,
          null,
          null,
          null,
          null,
          null,
          null,
          null,
          6.12,
          2161.71,
          25827.03,
          56276.64999999999,
          135925.74,
          217747,
          281071.83,
          309890.92,
          264609.42,
          263013.08,
          251036.94000000003,
          263345.35,
          206894.23,
          115868.2,
          null,
          null,
          null,
          null,
          null,
          null,
          null,
          null,
          null,
          null,
          5.420000000000001,
          2133.4,
          24505.500000000004,
          84336.27999999997,
          155551.63,
          208850.4100000001,
          260587.48,
          306314.96000000014,
          323163.66,
          327811.12,
          312043.91000000003,
          242867.13,
          204081.96,
          117152,
          null,
          null,
          null,
          null,
          null,
          null,
          null,
          null,
          null,
          null,
          5.4,
          1463.2699999999998,
          19166.500000000004,
          83024.11999999997,
          121824.58,
          188928.26,
          242478.05999999988,
          278689.21,
          291603.06999999995,
          293091.67000000004,
          281207.7500000001,
          245114.6600000001,
          170843.89000000007,
          95213.46000000004,
          null,
          null,
          null,
          null,
          null,
          null,
          null,
          null,
          null,
          null,
          5.029999999999999,
          1624.7199999999998,
          25464.02,
          66761.44,
          147238.49,
          214825.52,
          267461.4499999999,
          314078.71,
          324505.16000000003,
          300878.99,
          285004.22000000003,
          251804.12999999995,
          185653.81,
          106537.61,
          null,
          null,
          null,
          null,
          null,
          null,
          null,
          null,
          null,
          null,
          5.96,
          1085.4899999999998,
          21781.49,
          85087.74,
          161111.33000000002,
          229647.6,
          278492.35,
          310844.59999999986,
          326101.67999999993,
          324116.33,
          307126.84,
          266057.78,
          203145.11,
          113064.38,
          null,
          null,
          null,
          null,
          null,
          null,
          null,
          null,
          null,
          null,
          6.330000000000001,
          1234.13,
          20990.94,
          80045.87,
          160110.43,
          184304.67000000004,
          218831.27,
          246264.22,
          254507.88000000003,
          253681.92,
          245871.79000000007,
          262008.86000000013,
          204948.76,
          114052.41000000002,
          null,
          null,
          null,
          null,
          null,
          null,
          null,
          null,
          null,
          null,
          8.309999999999999,
          1145.18,
          20418.62,
          78977.69999999997,
          157607.05,
          221537.97,
          268994.95,
          299374.58,
          257426.68,
          252306.06,
          243546.99,
          253676.99,
          198314.65,
          110071.47000000004,
          null,
          null,
          null,
          null,
          null,
          null,
          null,
          null,
          null,
          null,
          11.96,
          1099.3200000000004,
          21733.56,
          77548.81999999999,
          144054.93,
          201185.51,
          228247.63,
          266507.5100000001,
          260591.94,
          256967.35000000003,
          231859.96,
          161133.14,
          140958.44000000006,
          81425.99,
          null,
          null,
          null,
          null,
          null,
          null,
          null,
          null,
          null,
          null,
          10.170000000000002,
          909.02,
          19396.89,
          68189.26000000001,
          143424.15000000002,
          196671.53,
          250164.47000000003,
          231712.97000000003,
          221961.13000000003,
          259044.78,
          225629.85000000003,
          181908.14,
          143796.63999999998,
          81011.45000000001,
          null,
          null,
          null,
          null,
          null,
          null,
          null,
          null,
          null,
          null,
          10.32,
          526.6199999999999,
          16294.279999999995,
          72804.59000000001,
          129605.73,
          208811.58,
          267034.98,
          301564.36,
          311855.9100000001,
          313041.46,
          283746.3,
          244505.59,
          189180.15,
          102395.55,
          null,
          null,
          null,
          null,
          null,
          null,
          null,
          null,
          null,
          null,
          9.79,
          800.1799999999997,
          20187.61,
          62433.03000000001,
          149036.47999999998,
          218858.54,
          267407.37,
          299673.1900000001,
          312702.3399999999,
          313896.42,
          299053.63,
          262488.72000000003,
          200483.16,
          108960.66999999995,
          null,
          null,
          null,
          null,
          null,
          null,
          null,
          null,
          null,
          null,
          10.26,
          706.4300000000002,
          18486.82999999999,
          73793.82,
          150841.78,
          217178.02,
          266226.24000000005,
          296576.7900000001,
          313757.84,
          318016.7500000001,
          303093.48000000004,
          264622.89,
          203043.94,
          112121.66,
          null,
          null,
          null,
          null,
          null,
          null,
          null,
          null,
          null,
          null,
          6.35,
          559.12,
          17881.2,
          73548.83000000003,
          148820.57999999993,
          172609.74000000002,
          15616.160000000002,
          210021.25,
          243636.35000000003,
          247209.74,
          236094.45,
          255543.7500000001,
          203462.0000000001,
          103992.62000000002,
          null,
          null,
          null,
          null,
          null,
          null,
          null,
          null,
          null,
          null,
          5.94,
          267.58000000000004,
          14462.21,
          70403.50000000001,
          88106.54,
          161624.28000000006,
          185411.38,
          207153.29000000004,
          219209.13,
          232135.89000000004,
          243666.89,
          238686.1,
          187771.23,
          99244.44,
          null,
          null,
          null,
          null,
          null,
          null,
          null,
          null,
          null,
          null,
          5.73,
          301.4,
          15897.010000000006,
          43304.62000000002,
          130248.90000000002,
          204045.68000000005,
          215983.71,
          158285.96000000002,
          151867.99999999994,
          166051.15999999997,
          202116.88000000003,
          180685.17000000007,
          179049.47999999995,
          115628.75,
          null,
          null,
          null,
          null,
          null,
          null,
          null,
          null,
          null,
          null,
          9.01,
          400.65000000000015,
          17961.91,
          62030.08,
          147936.64999999994,
          211546.41000000003,
          229409.37,
          271722.24000000005,
          257599.2,
          206300.71,
          279035.66999999987,
          243559.53,
          148394.62999999995,
          107926.62,
          null,
          null,
          null,
          null,
          null,
          null,
          null,
          null,
          null,
          null,
          7.909999999999998,
          362.76,
          16685.140000000007,
          70638.82,
          128835.33,
          171030.38000000006,
          231422.40000000005,
          284547.43,
          309129.71,
          314954.0700000001,
          270489.27,
          256074.96000000005,
          205715.77,
          115166.89,
          null,
          null,
          null,
          null,
          null,
          null,
          null,
          null,
          null,
          null,
          6.82,
          392.61000000000007,
          17330.65,
          72806.94,
          152549.43,
          222746.12,
          272686.48,
          287154.46,
          275332.28,
          288991.40999999986,
          304241.23000000004,
          272308.8,
          208607.83,
          112258.77,
          null,
          null,
          null,
          null,
          null,
          null,
          null,
          null,
          null,
          null,
          5.8000000000000025,
          301.5999999999999,
          16332.329999999994,
          72256.66,
          140980.11,
          212495.78,
          272745.17999999993,
          306238.99,
          320842.15,
          320213.36,
          303402.4400000001,
          265490.97000000003,
          203139.15,
          109815.83999999998,
          null,
          null,
          null,
          null,
          null,
          null,
          null,
          null,
          null,
          null,
          9.32,
          273.95,
          15691.39,
          69765.9,
          151132.56,
          179782.4,
          217852.05,
          242425.32,
          255853.01,
          257569.97999999995,
          245838.31,
          257942.9,
          201137.10000000003,
          108597.13999999998,
          null,
          null,
          null,
          null,
          null,
          null,
          null,
          null,
          null,
          null,
          10.71,
          235.7,
          15334.85,
          70152.44,
          148675.11000000002,
          216611.19,
          266322.71,
          290996.82,
          194036.44999999995,
          225357.09,
          247972.21000000005,
          260293.6800000001,
          204873,
          109325.18999999996,
          null,
          null,
          null,
          null,
          null,
          null,
          null,
          null,
          null,
          null,
          11.28,
          192.04,
          14901.190000000002,
          69469.20000000001,
          148908.75999999998,
          220192.16,
          269913.7500000001,
          299779.46,
          256786.52,
          255577.22,
          245084.34,
          253577.52000000005,
          197010.97,
          102244.34,
          null,
          null,
          null,
          null,
          null,
          null,
          null,
          null,
          null,
          null,
          11.1,
          206.66,
          15581.179999999997,
          68634.7,
          125977.73,
          180083.50999999995,
          204327.65,
          239176.69999999995,
          278544.0299999999,
          265662.6100000001,
          241503.19999999995,
          209208.29000000004,
          152099.72,
          79437.65000000002,
          null,
          null,
          null,
          null,
          null,
          null,
          null,
          null,
          null,
          null,
          10.97,
          102.95,
          14246.21,
          60524.86,
          119678.71000000006,
          212098.74,
          261714.87,
          301703.95,
          298049.7399999999,
          257949.56000000003,
          248982.62,
          253295.91000000003,
          173214.34999999995,
          79500.5,
          null,
          null,
          null,
          null,
          null,
          null,
          null,
          null,
          null,
          null,
          6.48,
          103.01000000000002,
          14334.030000000002,
          51356.68,
          147667.55999999994,
          220913.37,
          264633.31,
          299830.93,
          316351.19999999995,
          315999.11000000004,
          301920.05999999994,
          268347.55999999994,
          204182.75,
          106619.25,
          null,
          null,
          null,
          null,
          null,
          null,
          null,
          null,
          null,
          null,
          6.329999999999999,
          67.72,
          14813.419999999998,
          66522.33,
          144728.25999999995,
          202083.36,
          265738.47000000003,
          295002.65000000014,
          318753.35000000003,
          310476.8200000001,
          284552.3800000001,
          238495.04,
          164136.61000000002,
          76093.86000000003,
          null,
          null,
          null,
          null,
          null,
          null,
          null,
          null,
          null,
          null,
          5.55,
          6.05,
          7425.59,
          64679.25000000001,
          64386.15999999997,
          64852.450000000026,
          86855.86,
          84027.59,
          93601.24000000002,
          84993.54000000001,
          70884.11,
          67452.76,
          31441.35000000001,
          13269.080000000002,
          null,
          null,
          null,
          null,
          null,
          null,
          null,
          null,
          null,
          null,
          6.49,
          6.24,
          1450.9,
          30658.650000000005,
          23653.36,
          32021.74,
          55187.29000000001,
          63816.24,
          58572.39000000002,
          45461.92999999999,
          45429.92,
          39189.7,
          25455.500000000004,
          11562.52,
          null,
          null,
          null,
          null,
          null,
          null,
          null,
          null,
          null,
          null,
          5.849999999999999,
          6.569999999999999,
          10749.7,
          12388.830000000002,
          102174.64,
          160749.35999999993,
          207784.96,
          236877.68000000005,
          196896.83,
          189896.83000000005,
          191888.26,
          196723.4,
          142522.42,
          88440.44000000002,
          null,
          null,
          null,
          null,
          null,
          null,
          null,
          null,
          null,
          null,
          5.459999999999999,
          5.600000000000001,
          12870.29,
          46954.53000000001,
          110431.88,
          158718.60999999993,
          184121.03000000003,
          277605.43,
          267733.07,
          272191.44,
          225975.28999999995,
          165051.50999999998,
          112482.83000000002,
          57786.96999999999,
          null,
          null,
          null,
          null,
          null,
          null,
          null,
          null,
          null,
          null,
          6.579999999999999,
          5.66,
          11413.51,
          63296.44,
          136809.65,
          186389.09,
          232616.54,
          263235.85,
          256906.11,
          279913.7099999999,
          239647.87,
          231207.06,
          164680.3,
          75767.67000000003,
          null,
          null,
          null,
          null,
          null,
          null,
          null,
          null,
          null,
          null,
          5.76,
          6.119999999999999,
          9303.5,
          64515.34000000001,
          113036.94000000002,
          136628.99,
          157670.49,
          204809.24,
          253249.95,
          242951.9100000001,
          202430.29000000004,
          187915.29,
          170439.88999999998,
          90719.89,
          null,
          null,
          null,
          null,
          null,
          null,
          null,
          null,
          null,
          null,
          6.2200000000000015,
          6.3100000000000005,
          12412.369999999995,
          55026.48999999999,
          132631.87,
          206983.67,
          263017.61999999994,
          304988.59,
          320708.32,
          320346.64,
          306753.99,
          269933.41,
          204080.53,
          101333.65000000002,
          null,
          null,
          null,
          null,
          null,
          null,
          null,
          null,
          null,
          null,
          6.34,
          6.589999999999997,
          10997.160000000002,
          62266.51,
          143674.11,
          175687.08000000002,
          214049.33,
          239580.78999999995,
          249179.05,
          255891.1500000001,
          231299.38,
          255489.24000000005,
          191863.39,
          92640.43
         ]
        },
        {
         "name": "PC",
         "type": "scatter",
         "x": [
          "2021-01-09T07:00:00",
          "2021-01-09T08:00:00",
          "2021-01-09T09:00:00",
          "2021-01-09T10:00:00",
          "2021-01-09T11:00:00",
          "2021-01-09T12:00:00",
          "2021-01-09T13:00:00",
          "2021-01-09T14:00:00",
          "2021-01-09T15:00:00",
          "2021-01-09T16:00:00",
          "2021-01-09T17:00:00",
          "2021-01-09T18:00:00",
          "2021-01-09T19:00:00",
          "2021-01-09T20:00:00",
          "2021-01-09T21:00:00",
          "2021-01-09T22:00:00",
          "2021-01-09T23:00:00",
          "2021-01-10T00:00:00",
          "2021-01-10T01:00:00",
          "2021-01-10T02:00:00",
          "2021-01-10T03:00:00",
          "2021-01-10T04:00:00",
          "2021-01-10T05:00:00",
          "2021-01-10T06:00:00",
          "2021-01-10T07:00:00",
          "2021-01-10T08:00:00",
          "2021-01-10T09:00:00",
          "2021-01-10T10:00:00",
          "2021-01-10T11:00:00",
          "2021-01-10T12:00:00",
          "2021-01-10T13:00:00",
          "2021-01-10T14:00:00",
          "2021-01-10T15:00:00",
          "2021-01-10T16:00:00",
          "2021-01-10T17:00:00",
          "2021-01-10T18:00:00",
          "2021-01-10T19:00:00",
          "2021-01-10T20:00:00",
          "2021-01-10T21:00:00",
          "2021-01-10T22:00:00",
          "2021-01-10T23:00:00",
          "2021-01-11T00:00:00",
          "2021-01-11T01:00:00",
          "2021-01-11T02:00:00",
          "2021-01-11T03:00:00",
          "2021-01-11T04:00:00",
          "2021-01-11T05:00:00",
          "2021-01-11T06:00:00",
          "2021-01-11T07:00:00",
          "2021-01-11T08:00:00",
          "2021-01-11T09:00:00",
          "2021-01-11T10:00:00",
          "2021-01-11T11:00:00",
          "2021-01-11T12:00:00",
          "2021-01-11T13:00:00",
          "2021-01-11T14:00:00",
          "2021-01-11T15:00:00",
          "2021-01-11T16:00:00",
          "2021-01-11T17:00:00",
          "2021-01-11T18:00:00",
          "2021-01-11T19:00:00",
          "2021-01-11T20:00:00",
          "2021-01-11T21:00:00",
          "2021-01-11T22:00:00",
          "2021-01-11T23:00:00",
          "2021-01-12T00:00:00",
          "2021-01-12T01:00:00",
          "2021-01-12T02:00:00",
          "2021-01-12T03:00:00",
          "2021-01-12T04:00:00",
          "2021-01-12T05:00:00",
          "2021-01-12T06:00:00",
          "2021-01-12T07:00:00",
          "2021-01-12T08:00:00",
          "2021-01-12T09:00:00",
          "2021-01-12T10:00:00",
          "2021-01-12T11:00:00",
          "2021-01-12T12:00:00",
          "2021-01-12T13:00:00",
          "2021-01-12T14:00:00",
          "2021-01-12T15:00:00",
          "2021-01-12T16:00:00",
          "2021-01-12T17:00:00",
          "2021-01-12T18:00:00",
          "2021-01-12T19:00:00",
          "2021-01-12T20:00:00",
          "2021-01-12T21:00:00",
          "2021-01-12T22:00:00",
          "2021-01-12T23:00:00",
          "2021-01-13T00:00:00",
          "2021-01-13T01:00:00",
          "2021-01-13T02:00:00",
          "2021-01-13T03:00:00",
          "2021-01-13T04:00:00",
          "2021-01-13T05:00:00",
          "2021-01-13T06:00:00",
          "2021-01-13T07:00:00",
          "2021-01-13T08:00:00",
          "2021-01-13T09:00:00",
          "2021-01-13T10:00:00",
          "2021-01-13T11:00:00",
          "2021-01-13T12:00:00",
          "2021-01-13T13:00:00",
          "2021-01-13T14:00:00",
          "2021-01-13T15:00:00",
          "2021-01-13T16:00:00",
          "2021-01-13T17:00:00",
          "2021-01-13T18:00:00",
          "2021-01-13T19:00:00",
          "2021-01-13T20:00:00",
          "2021-01-13T21:00:00",
          "2021-01-13T22:00:00",
          "2021-01-13T23:00:00",
          "2021-01-14T00:00:00",
          "2021-01-14T01:00:00",
          "2021-01-14T02:00:00",
          "2021-01-14T03:00:00",
          "2021-01-14T04:00:00",
          "2021-01-14T05:00:00",
          "2021-01-14T06:00:00",
          "2021-01-14T07:00:00",
          "2021-01-14T08:00:00",
          "2021-01-14T09:00:00",
          "2021-01-14T10:00:00",
          "2021-01-14T11:00:00",
          "2021-01-14T12:00:00",
          "2021-01-14T13:00:00",
          "2021-01-14T14:00:00",
          "2021-01-14T15:00:00",
          "2021-01-14T16:00:00",
          "2021-01-14T17:00:00",
          "2021-01-14T18:00:00",
          "2021-01-14T19:00:00",
          "2021-01-14T20:00:00",
          "2021-01-14T21:00:00",
          "2021-01-14T22:00:00",
          "2021-01-14T23:00:00",
          "2021-01-15T00:00:00",
          "2021-01-15T01:00:00",
          "2021-01-15T02:00:00",
          "2021-01-15T03:00:00",
          "2021-01-15T04:00:00",
          "2021-01-15T05:00:00",
          "2021-01-15T06:00:00",
          "2021-01-15T07:00:00",
          "2021-01-15T08:00:00",
          "2021-01-15T09:00:00",
          "2021-01-15T10:00:00",
          "2021-01-15T11:00:00",
          "2021-01-15T12:00:00",
          "2021-01-15T13:00:00",
          "2021-01-15T14:00:00",
          "2021-01-15T15:00:00",
          "2021-01-15T16:00:00",
          "2021-01-15T17:00:00",
          "2021-01-15T18:00:00",
          "2021-01-15T19:00:00",
          "2021-01-15T20:00:00",
          "2021-01-15T21:00:00",
          "2021-01-15T22:00:00",
          "2021-01-15T23:00:00",
          "2021-01-16T00:00:00",
          "2021-01-16T01:00:00",
          "2021-01-16T02:00:00",
          "2021-01-16T03:00:00",
          "2021-01-16T04:00:00",
          "2021-01-16T05:00:00",
          "2021-01-16T06:00:00",
          "2021-01-16T07:00:00",
          "2021-01-16T08:00:00",
          "2021-01-16T09:00:00",
          "2021-01-16T10:00:00",
          "2021-01-16T11:00:00",
          "2021-01-16T12:00:00",
          "2021-01-16T13:00:00",
          "2021-01-16T14:00:00",
          "2021-01-16T15:00:00",
          "2021-01-16T16:00:00",
          "2021-01-16T17:00:00",
          "2021-01-16T18:00:00",
          "2021-01-16T19:00:00",
          "2021-01-16T20:00:00",
          "2021-01-16T21:00:00",
          "2021-01-16T22:00:00",
          "2021-01-16T23:00:00",
          "2021-01-17T00:00:00",
          "2021-01-17T01:00:00",
          "2021-01-17T02:00:00",
          "2021-01-17T03:00:00",
          "2021-01-17T04:00:00",
          "2021-01-17T05:00:00",
          "2021-01-17T06:00:00",
          "2021-01-17T07:00:00",
          "2021-01-17T08:00:00",
          "2021-01-17T09:00:00",
          "2021-01-17T10:00:00",
          "2021-01-17T11:00:00",
          "2021-01-17T12:00:00",
          "2021-01-17T13:00:00",
          "2021-01-17T14:00:00",
          "2021-01-17T15:00:00",
          "2021-01-17T16:00:00",
          "2021-01-17T17:00:00",
          "2021-01-17T18:00:00",
          "2021-01-17T19:00:00",
          "2021-01-17T20:00:00",
          "2021-01-17T21:00:00",
          "2021-01-17T22:00:00",
          "2021-01-17T23:00:00",
          "2021-01-18T00:00:00",
          "2021-01-18T01:00:00",
          "2021-01-18T02:00:00",
          "2021-01-18T03:00:00",
          "2021-01-18T04:00:00",
          "2021-01-18T05:00:00",
          "2021-01-18T06:00:00",
          "2021-01-18T07:00:00",
          "2021-01-18T08:00:00",
          "2021-01-18T09:00:00",
          "2021-01-18T10:00:00",
          "2021-01-18T11:00:00",
          "2021-01-18T12:00:00",
          "2021-01-18T13:00:00",
          "2021-01-18T14:00:00",
          "2021-01-18T15:00:00",
          "2021-01-18T16:00:00",
          "2021-01-18T17:00:00",
          "2021-01-18T18:00:00",
          "2021-01-18T19:00:00",
          "2021-01-18T20:00:00",
          "2021-01-18T21:00:00",
          "2021-01-18T22:00:00",
          "2021-01-18T23:00:00",
          "2021-01-19T00:00:00",
          "2021-01-19T01:00:00",
          "2021-01-19T02:00:00",
          "2021-01-19T03:00:00",
          "2021-01-19T04:00:00",
          "2021-01-19T05:00:00",
          "2021-01-19T06:00:00",
          "2021-01-19T07:00:00",
          "2021-01-19T08:00:00",
          "2021-01-19T09:00:00",
          "2021-01-19T10:00:00",
          "2021-01-19T11:00:00",
          "2021-01-19T12:00:00",
          "2021-01-19T13:00:00",
          "2021-01-19T14:00:00",
          "2021-01-19T15:00:00",
          "2021-01-19T16:00:00",
          "2021-01-19T17:00:00",
          "2021-01-19T18:00:00",
          "2021-01-19T19:00:00",
          "2021-01-19T20:00:00",
          "2021-01-19T21:00:00",
          "2021-01-19T22:00:00",
          "2021-01-19T23:00:00",
          "2021-01-20T00:00:00",
          "2021-01-20T01:00:00",
          "2021-01-20T02:00:00",
          "2021-01-20T03:00:00",
          "2021-01-20T04:00:00",
          "2021-01-20T05:00:00",
          "2021-01-20T06:00:00",
          "2021-01-20T07:00:00",
          "2021-01-20T08:00:00",
          "2021-01-20T09:00:00",
          "2021-01-20T10:00:00",
          "2021-01-20T11:00:00",
          "2021-01-20T12:00:00",
          "2021-01-20T13:00:00",
          "2021-01-20T14:00:00",
          "2021-01-20T15:00:00",
          "2021-01-20T16:00:00",
          "2021-01-20T17:00:00",
          "2021-01-20T18:00:00",
          "2021-01-20T19:00:00",
          "2021-01-20T20:00:00",
          "2021-01-20T21:00:00",
          "2021-01-20T22:00:00",
          "2021-01-20T23:00:00",
          "2021-01-21T00:00:00",
          "2021-01-21T01:00:00",
          "2021-01-21T02:00:00",
          "2021-01-21T03:00:00",
          "2021-01-21T04:00:00",
          "2021-01-21T05:00:00",
          "2021-01-21T06:00:00",
          "2021-01-21T07:00:00",
          "2021-01-21T08:00:00",
          "2021-01-21T09:00:00",
          "2021-01-21T10:00:00",
          "2021-01-21T11:00:00",
          "2021-01-21T12:00:00",
          "2021-01-21T13:00:00",
          "2021-01-21T14:00:00",
          "2021-01-21T15:00:00",
          "2021-01-21T16:00:00",
          "2021-01-21T17:00:00",
          "2021-01-21T18:00:00",
          "2021-01-21T19:00:00",
          "2021-01-21T20:00:00",
          "2021-01-21T21:00:00",
          "2021-01-21T22:00:00",
          "2021-01-21T23:00:00",
          "2021-01-22T00:00:00",
          "2021-01-22T01:00:00",
          "2021-01-22T02:00:00",
          "2021-01-22T03:00:00",
          "2021-01-22T04:00:00",
          "2021-01-22T05:00:00",
          "2021-01-22T06:00:00",
          "2021-01-22T07:00:00",
          "2021-01-22T08:00:00",
          "2021-01-22T09:00:00",
          "2021-01-22T10:00:00",
          "2021-01-22T11:00:00",
          "2021-01-22T12:00:00",
          "2021-01-22T13:00:00",
          "2021-01-22T14:00:00",
          "2021-01-22T15:00:00",
          "2021-01-22T16:00:00",
          "2021-01-22T17:00:00",
          "2021-01-22T18:00:00",
          "2021-01-22T19:00:00",
          "2021-01-22T20:00:00",
          "2021-01-22T21:00:00",
          "2021-01-22T22:00:00",
          "2021-01-22T23:00:00",
          "2021-01-23T00:00:00",
          "2021-01-23T01:00:00",
          "2021-01-23T02:00:00",
          "2021-01-23T03:00:00",
          "2021-01-23T04:00:00",
          "2021-01-23T05:00:00",
          "2021-01-23T06:00:00",
          "2021-01-23T07:00:00",
          "2021-01-23T08:00:00",
          "2021-01-23T09:00:00",
          "2021-01-23T10:00:00",
          "2021-01-23T11:00:00",
          "2021-01-23T12:00:00",
          "2021-01-23T13:00:00",
          "2021-01-23T14:00:00",
          "2021-01-23T15:00:00",
          "2021-01-23T16:00:00",
          "2021-01-23T17:00:00",
          "2021-01-23T18:00:00",
          "2021-01-23T19:00:00",
          "2021-01-23T20:00:00",
          "2021-01-23T21:00:00",
          "2021-01-23T22:00:00",
          "2021-01-23T23:00:00",
          "2021-01-24T00:00:00",
          "2021-01-24T01:00:00",
          "2021-01-24T02:00:00",
          "2021-01-24T03:00:00",
          "2021-01-24T04:00:00",
          "2021-01-24T05:00:00",
          "2021-01-24T06:00:00",
          "2021-01-24T07:00:00",
          "2021-01-24T08:00:00",
          "2021-01-24T09:00:00",
          "2021-01-24T10:00:00",
          "2021-01-24T11:00:00",
          "2021-01-24T12:00:00",
          "2021-01-24T13:00:00",
          "2021-01-24T14:00:00",
          "2021-01-24T15:00:00",
          "2021-01-24T16:00:00",
          "2021-01-24T17:00:00",
          "2021-01-24T18:00:00",
          "2021-01-24T19:00:00",
          "2021-01-24T20:00:00",
          "2021-01-24T21:00:00",
          "2021-01-24T22:00:00",
          "2021-01-24T23:00:00",
          "2021-01-25T00:00:00",
          "2021-01-25T01:00:00",
          "2021-01-25T02:00:00",
          "2021-01-25T03:00:00",
          "2021-01-25T04:00:00",
          "2021-01-25T05:00:00",
          "2021-01-25T06:00:00",
          "2021-01-25T07:00:00",
          "2021-01-25T08:00:00",
          "2021-01-25T09:00:00",
          "2021-01-25T10:00:00",
          "2021-01-25T11:00:00",
          "2021-01-25T12:00:00",
          "2021-01-25T13:00:00",
          "2021-01-25T14:00:00",
          "2021-01-25T15:00:00",
          "2021-01-25T16:00:00",
          "2021-01-25T17:00:00",
          "2021-01-25T18:00:00",
          "2021-01-25T19:00:00",
          "2021-01-25T20:00:00",
          "2021-01-25T21:00:00",
          "2021-01-25T22:00:00",
          "2021-01-25T23:00:00",
          "2021-01-26T00:00:00",
          "2021-01-26T01:00:00",
          "2021-01-26T02:00:00",
          "2021-01-26T03:00:00",
          "2021-01-26T04:00:00",
          "2021-01-26T05:00:00",
          "2021-01-26T06:00:00",
          "2021-01-26T07:00:00",
          "2021-01-26T08:00:00",
          "2021-01-26T09:00:00",
          "2021-01-26T10:00:00",
          "2021-01-26T11:00:00",
          "2021-01-26T12:00:00",
          "2021-01-26T13:00:00",
          "2021-01-26T14:00:00",
          "2021-01-26T15:00:00",
          "2021-01-26T16:00:00",
          "2021-01-26T17:00:00",
          "2021-01-26T18:00:00",
          "2021-01-26T19:00:00",
          "2021-01-26T20:00:00",
          "2021-01-26T21:00:00",
          "2021-01-26T22:00:00",
          "2021-01-26T23:00:00",
          "2021-01-27T00:00:00",
          "2021-01-27T01:00:00",
          "2021-01-27T02:00:00",
          "2021-01-27T03:00:00",
          "2021-01-27T04:00:00",
          "2021-01-27T05:00:00",
          "2021-01-27T06:00:00",
          "2021-01-27T07:00:00",
          "2021-01-27T08:00:00",
          "2021-01-27T09:00:00",
          "2021-01-27T10:00:00",
          "2021-01-27T11:00:00",
          "2021-01-27T12:00:00",
          "2021-01-27T13:00:00",
          "2021-01-27T14:00:00",
          "2021-01-27T15:00:00",
          "2021-01-27T16:00:00",
          "2021-01-27T17:00:00",
          "2021-01-27T18:00:00",
          "2021-01-27T19:00:00",
          "2021-01-27T20:00:00",
          "2021-01-27T21:00:00",
          "2021-01-27T22:00:00",
          "2021-01-27T23:00:00",
          "2021-01-28T00:00:00",
          "2021-01-28T01:00:00",
          "2021-01-28T02:00:00",
          "2021-01-28T03:00:00",
          "2021-01-28T04:00:00",
          "2021-01-28T05:00:00",
          "2021-01-28T06:00:00",
          "2021-01-28T07:00:00",
          "2021-01-28T08:00:00",
          "2021-01-28T09:00:00",
          "2021-01-28T10:00:00",
          "2021-01-28T11:00:00",
          "2021-01-28T12:00:00",
          "2021-01-28T13:00:00",
          "2021-01-28T14:00:00",
          "2021-01-28T15:00:00",
          "2021-01-28T16:00:00",
          "2021-01-28T17:00:00",
          "2021-01-28T18:00:00",
          "2021-01-28T19:00:00",
          "2021-01-28T20:00:00",
          "2021-01-28T21:00:00",
          "2021-01-28T22:00:00",
          "2021-01-28T23:00:00",
          "2021-01-29T00:00:00",
          "2021-01-29T01:00:00",
          "2021-01-29T02:00:00",
          "2021-01-29T03:00:00",
          "2021-01-29T04:00:00",
          "2021-01-29T05:00:00",
          "2021-01-29T06:00:00",
          "2021-01-29T07:00:00",
          "2021-01-29T08:00:00",
          "2021-01-29T09:00:00",
          "2021-01-29T10:00:00",
          "2021-01-29T11:00:00",
          "2021-01-29T12:00:00",
          "2021-01-29T13:00:00",
          "2021-01-29T14:00:00",
          "2021-01-29T15:00:00",
          "2021-01-29T16:00:00",
          "2021-01-29T17:00:00",
          "2021-01-29T18:00:00",
          "2021-01-29T19:00:00",
          "2021-01-29T20:00:00",
          "2021-01-29T21:00:00",
          "2021-01-29T22:00:00",
          "2021-01-29T23:00:00",
          "2021-01-30T00:00:00",
          "2021-01-30T01:00:00",
          "2021-01-30T02:00:00",
          "2021-01-30T03:00:00",
          "2021-01-30T04:00:00",
          "2021-01-30T05:00:00",
          "2021-01-30T06:00:00",
          "2021-01-30T07:00:00",
          "2021-01-30T08:00:00",
          "2021-01-30T09:00:00",
          "2021-01-30T10:00:00",
          "2021-01-30T11:00:00",
          "2021-01-30T12:00:00",
          "2021-01-30T13:00:00",
          "2021-01-30T14:00:00",
          "2021-01-30T15:00:00",
          "2021-01-30T16:00:00",
          "2021-01-30T17:00:00",
          "2021-01-30T18:00:00",
          "2021-01-30T19:00:00",
          "2021-01-30T20:00:00",
          "2021-01-30T21:00:00",
          "2021-01-30T22:00:00",
          "2021-01-30T23:00:00",
          "2021-01-31T00:00:00",
          "2021-01-31T01:00:00",
          "2021-01-31T02:00:00",
          "2021-01-31T03:00:00",
          "2021-01-31T04:00:00",
          "2021-01-31T05:00:00",
          "2021-01-31T06:00:00",
          "2021-01-31T07:00:00",
          "2021-01-31T08:00:00",
          "2021-01-31T09:00:00",
          "2021-01-31T10:00:00",
          "2021-01-31T11:00:00",
          "2021-01-31T12:00:00",
          "2021-01-31T13:00:00",
          "2021-01-31T14:00:00",
          "2021-01-31T15:00:00",
          "2021-01-31T16:00:00",
          "2021-01-31T17:00:00",
          "2021-01-31T18:00:00",
          "2021-01-31T19:00:00",
          "2021-01-31T20:00:00",
          "2021-01-31T21:00:00",
          "2021-01-31T22:00:00",
          "2021-01-31T23:00:00",
          "2021-02-01T00:00:00",
          "2021-02-01T01:00:00",
          "2021-02-01T02:00:00",
          "2021-02-01T03:00:00",
          "2021-02-01T04:00:00",
          "2021-02-01T05:00:00",
          "2021-02-01T06:00:00",
          "2021-02-01T07:00:00",
          "2021-02-01T08:00:00",
          "2021-02-01T09:00:00",
          "2021-02-01T10:00:00",
          "2021-02-01T11:00:00",
          "2021-02-01T12:00:00",
          "2021-02-01T13:00:00",
          "2021-02-01T14:00:00",
          "2021-02-01T15:00:00",
          "2021-02-01T16:00:00",
          "2021-02-01T17:00:00",
          "2021-02-01T18:00:00",
          "2021-02-01T19:00:00",
          "2021-02-01T20:00:00",
          "2021-02-01T21:00:00",
          "2021-02-01T22:00:00",
          "2021-02-01T23:00:00",
          "2021-02-02T00:00:00",
          "2021-02-02T01:00:00",
          "2021-02-02T02:00:00",
          "2021-02-02T03:00:00",
          "2021-02-02T04:00:00",
          "2021-02-02T05:00:00",
          "2021-02-02T06:00:00",
          "2021-02-02T07:00:00",
          "2021-02-02T08:00:00",
          "2021-02-02T09:00:00",
          "2021-02-02T10:00:00",
          "2021-02-02T11:00:00",
          "2021-02-02T12:00:00",
          "2021-02-02T13:00:00",
          "2021-02-02T14:00:00",
          "2021-02-02T15:00:00",
          "2021-02-02T16:00:00",
          "2021-02-02T17:00:00",
          "2021-02-02T18:00:00",
          "2021-02-02T19:00:00",
          "2021-02-02T20:00:00",
          "2021-02-02T21:00:00",
          "2021-02-02T22:00:00",
          "2021-02-02T23:00:00",
          "2021-02-03T00:00:00",
          "2021-02-03T01:00:00",
          "2021-02-03T02:00:00",
          "2021-02-03T03:00:00",
          "2021-02-03T04:00:00",
          "2021-02-03T05:00:00",
          "2021-02-03T06:00:00",
          "2021-02-03T07:00:00",
          "2021-02-03T08:00:00",
          "2021-02-03T09:00:00",
          "2021-02-03T10:00:00",
          "2021-02-03T11:00:00",
          "2021-02-03T12:00:00",
          "2021-02-03T13:00:00",
          "2021-02-03T14:00:00",
          "2021-02-03T15:00:00",
          "2021-02-03T16:00:00",
          "2021-02-03T17:00:00",
          "2021-02-03T18:00:00",
          "2021-02-03T19:00:00",
          "2021-02-03T20:00:00",
          "2021-02-03T21:00:00",
          "2021-02-03T22:00:00",
          "2021-02-03T23:00:00",
          "2021-02-04T00:00:00",
          "2021-02-04T01:00:00",
          "2021-02-04T02:00:00",
          "2021-02-04T03:00:00",
          "2021-02-04T04:00:00",
          "2021-02-04T05:00:00",
          "2021-02-04T06:00:00",
          "2021-02-04T07:00:00",
          "2021-02-04T08:00:00",
          "2021-02-04T09:00:00",
          "2021-02-04T10:00:00",
          "2021-02-04T11:00:00",
          "2021-02-04T12:00:00",
          "2021-02-04T13:00:00",
          "2021-02-04T14:00:00",
          "2021-02-04T15:00:00",
          "2021-02-04T16:00:00",
          "2021-02-04T17:00:00",
          "2021-02-04T18:00:00",
          "2021-02-04T19:00:00",
          "2021-02-04T20:00:00",
          "2021-02-04T21:00:00",
          "2021-02-04T22:00:00",
          "2021-02-04T23:00:00",
          "2021-02-05T00:00:00",
          "2021-02-05T01:00:00",
          "2021-02-05T02:00:00",
          "2021-02-05T03:00:00",
          "2021-02-05T04:00:00",
          "2021-02-05T05:00:00",
          "2021-02-05T06:00:00",
          "2021-02-05T07:00:00",
          "2021-02-05T08:00:00",
          "2021-02-05T09:00:00",
          "2021-02-05T10:00:00",
          "2021-02-05T11:00:00",
          "2021-02-05T12:00:00",
          "2021-02-05T13:00:00",
          "2021-02-05T14:00:00",
          "2021-02-05T15:00:00",
          "2021-02-05T16:00:00",
          "2021-02-05T17:00:00",
          "2021-02-05T18:00:00",
          "2021-02-05T19:00:00",
          "2021-02-05T20:00:00",
          "2021-02-05T21:00:00",
          "2021-02-05T22:00:00",
          "2021-02-05T23:00:00",
          "2021-02-06T00:00:00",
          "2021-02-06T01:00:00",
          "2021-02-06T02:00:00",
          "2021-02-06T03:00:00",
          "2021-02-06T04:00:00",
          "2021-02-06T05:00:00",
          "2021-02-06T06:00:00",
          "2021-02-06T07:00:00",
          "2021-02-06T08:00:00",
          "2021-02-06T09:00:00",
          "2021-02-06T10:00:00",
          "2021-02-06T11:00:00",
          "2021-02-06T12:00:00",
          "2021-02-06T13:00:00",
          "2021-02-06T14:00:00",
          "2021-02-06T15:00:00",
          "2021-02-06T16:00:00",
          "2021-02-06T17:00:00",
          "2021-02-06T18:00:00",
          "2021-02-06T19:00:00",
          "2021-02-06T20:00:00",
          "2021-02-06T21:00:00",
          "2021-02-06T22:00:00",
          "2021-02-06T23:00:00",
          "2021-02-07T00:00:00",
          "2021-02-07T01:00:00",
          "2021-02-07T02:00:00",
          "2021-02-07T03:00:00",
          "2021-02-07T04:00:00",
          "2021-02-07T05:00:00",
          "2021-02-07T06:00:00",
          "2021-02-07T07:00:00",
          "2021-02-07T08:00:00",
          "2021-02-07T09:00:00",
          "2021-02-07T10:00:00",
          "2021-02-07T11:00:00",
          "2021-02-07T12:00:00",
          "2021-02-07T13:00:00",
          "2021-02-07T14:00:00",
          "2021-02-07T15:00:00",
          "2021-02-07T16:00:00",
          "2021-02-07T17:00:00",
          "2021-02-07T18:00:00",
          "2021-02-07T19:00:00",
          "2021-02-07T20:00:00",
          "2021-02-07T21:00:00",
          "2021-02-07T22:00:00",
          "2021-02-07T23:00:00",
          "2021-02-08T00:00:00",
          "2021-02-08T01:00:00",
          "2021-02-08T02:00:00",
          "2021-02-08T03:00:00",
          "2021-02-08T04:00:00",
          "2021-02-08T05:00:00",
          "2021-02-08T06:00:00",
          "2021-02-08T07:00:00",
          "2021-02-08T08:00:00",
          "2021-02-08T09:00:00",
          "2021-02-08T10:00:00",
          "2021-02-08T11:00:00",
          "2021-02-08T12:00:00",
          "2021-02-08T13:00:00",
          "2021-02-08T14:00:00",
          "2021-02-08T15:00:00",
          "2021-02-08T16:00:00",
          "2021-02-08T17:00:00",
          "2021-02-08T18:00:00",
          "2021-02-08T19:00:00",
          "2021-02-08T20:00:00",
          "2021-02-08T21:00:00",
          "2021-02-08T22:00:00",
          "2021-02-08T23:00:00",
          "2021-02-09T00:00:00",
          "2021-02-09T01:00:00",
          "2021-02-09T02:00:00",
          "2021-02-09T03:00:00",
          "2021-02-09T04:00:00",
          "2021-02-09T05:00:00",
          "2021-02-09T06:00:00",
          "2021-02-09T07:00:00",
          "2021-02-09T08:00:00",
          "2021-02-09T09:00:00",
          "2021-02-09T10:00:00",
          "2021-02-09T11:00:00",
          "2021-02-09T12:00:00",
          "2021-02-09T13:00:00",
          "2021-02-09T14:00:00",
          "2021-02-09T15:00:00",
          "2021-02-09T16:00:00",
          "2021-02-09T17:00:00",
          "2021-02-09T18:00:00",
          "2021-02-09T19:00:00",
          "2021-02-09T20:00:00",
          "2021-02-09T21:00:00",
          "2021-02-09T22:00:00",
          "2021-02-09T23:00:00",
          "2021-02-10T00:00:00",
          "2021-02-10T01:00:00",
          "2021-02-10T02:00:00",
          "2021-02-10T03:00:00",
          "2021-02-10T04:00:00",
          "2021-02-10T05:00:00",
          "2021-02-10T06:00:00",
          "2021-02-10T07:00:00",
          "2021-02-10T08:00:00",
          "2021-02-10T09:00:00",
          "2021-02-10T10:00:00",
          "2021-02-10T11:00:00",
          "2021-02-10T12:00:00",
          "2021-02-10T13:00:00",
          "2021-02-10T14:00:00",
          "2021-02-10T15:00:00",
          "2021-02-10T16:00:00",
          "2021-02-10T17:00:00",
          "2021-02-10T18:00:00",
          "2021-02-10T19:00:00",
          "2021-02-10T20:00:00",
          "2021-02-10T21:00:00",
          "2021-02-10T22:00:00",
          "2021-02-10T23:00:00",
          "2021-02-11T00:00:00",
          "2021-02-11T01:00:00",
          "2021-02-11T02:00:00",
          "2021-02-11T03:00:00",
          "2021-02-11T04:00:00",
          "2021-02-11T05:00:00",
          "2021-02-11T06:00:00",
          "2021-02-11T07:00:00",
          "2021-02-11T08:00:00",
          "2021-02-11T09:00:00",
          "2021-02-11T10:00:00",
          "2021-02-11T11:00:00",
          "2021-02-11T12:00:00",
          "2021-02-11T13:00:00",
          "2021-02-11T14:00:00",
          "2021-02-11T15:00:00",
          "2021-02-11T16:00:00",
          "2021-02-11T17:00:00",
          "2021-02-11T18:00:00",
          "2021-02-11T19:00:00",
          "2021-02-11T20:00:00",
          "2021-02-11T21:00:00",
          "2021-02-11T22:00:00",
          "2021-02-11T23:00:00",
          "2021-02-12T00:00:00",
          "2021-02-12T01:00:00",
          "2021-02-12T02:00:00",
          "2021-02-12T03:00:00",
          "2021-02-12T04:00:00",
          "2021-02-12T05:00:00",
          "2021-02-12T06:00:00",
          "2021-02-12T07:00:00",
          "2021-02-12T08:00:00",
          "2021-02-12T09:00:00",
          "2021-02-12T10:00:00",
          "2021-02-12T11:00:00",
          "2021-02-12T12:00:00",
          "2021-02-12T13:00:00",
          "2021-02-12T14:00:00",
          "2021-02-12T15:00:00",
          "2021-02-12T16:00:00",
          "2021-02-12T17:00:00",
          "2021-02-12T18:00:00",
          "2021-02-12T19:00:00",
          "2021-02-12T20:00:00",
          "2021-02-12T21:00:00",
          "2021-02-12T22:00:00",
          "2021-02-12T23:00:00",
          "2021-02-13T00:00:00",
          "2021-02-13T01:00:00",
          "2021-02-13T02:00:00",
          "2021-02-13T03:00:00",
          "2021-02-13T04:00:00",
          "2021-02-13T05:00:00",
          "2021-02-13T06:00:00",
          "2021-02-13T07:00:00",
          "2021-02-13T08:00:00",
          "2021-02-13T09:00:00",
          "2021-02-13T10:00:00",
          "2021-02-13T11:00:00",
          "2021-02-13T12:00:00",
          "2021-02-13T13:00:00",
          "2021-02-13T14:00:00",
          "2021-02-13T15:00:00",
          "2021-02-13T16:00:00",
          "2021-02-13T17:00:00",
          "2021-02-13T18:00:00",
          "2021-02-13T19:00:00",
          "2021-02-13T20:00:00"
         ],
         "y": [
          801.3909912109375,
          5663.58642578125,
          28804.9921875,
          75504.5546875,
          123441.8515625,
          168810.96875,
          224435.25,
          247846.46875,
          243496.984375,
          253553.296875,
          249615.984375,
          245419.234375,
          197019.234375,
          102232.0546875,
          null,
          null,
          null,
          null,
          null,
          null,
          null,
          null,
          null,
          null,
          10833.6328125,
          9724.8203125,
          27081.7109375,
          77397.90625,
          131266.265625,
          173020.90625,
          195882.015625,
          222182.015625,
          206332.578125,
          212654.421875,
          195587.125,
          232039.265625,
          197238.40625,
          126172.46875,
          null,
          null,
          null,
          null,
          null,
          null,
          null,
          null,
          null,
          null,
          8581.46875,
          6273.86767578125,
          26921.3203125,
          81559.1484375,
          163148.8125,
          231720.078125,
          278157.5,
          324361.59375,
          294357.34375,
          276124.1875,
          255028.953125,
          271644.375,
          222566.171875,
          138268.671875,
          null,
          null,
          null,
          null,
          null,
          null,
          null,
          null,
          null,
          null,
          6122.02392578125,
          0,
          20557.1015625,
          75034.7578125,
          145745.078125,
          223826,
          280083.21875,
          310787,
          309020.59375,
          295418.71875,
          270224.21875,
          232696.734375,
          185364.140625,
          97728.6328125,
          null,
          null,
          null,
          null,
          null,
          null,
          null,
          null,
          null,
          null,
          79.18006134033203,
          0,
          18536.0625,
          78964.34375,
          138247.34375,
          197901.375,
          253509.015625,
          285843.40625,
          301287.78125,
          300842.90625,
          281386.84375,
          246016.609375,
          192626.140625,
          104998.1875,
          null,
          null,
          null,
          null,
          null,
          null,
          null,
          null,
          null,
          null,
          1484.5394287109375,
          0,
          23953.8359375,
          76823.953125,
          137190.3125,
          178752.71875,
          214155.890625,
          240838.015625,
          264122.46875,
          277398.375,
          257373.1875,
          218727.734375,
          178259.359375,
          101040.9921875,
          null,
          null,
          null,
          null,
          null,
          null,
          null,
          null,
          null,
          null,
          587.5238037109375,
          0,
          11118.265625,
          70904.03125,
          150334.9375,
          213108.25,
          266205.4375,
          290948.5625,
          281076.0625,
          293414.125,
          302514.21875,
          276225.28125,
          221333.984375,
          132046.15625,
          null,
          null,
          null,
          null,
          null,
          null,
          null,
          null,
          null,
          null,
          3667.09423828125,
          0,
          19028.8203125,
          73901.1171875,
          149582.5,
          194047.890625,
          246287.40625,
          281738.875,
          271936.15625,
          267462.71875,
          252801.71875,
          241668.140625,
          203903.3125,
          131139.28125,
          null,
          null,
          null,
          null,
          null,
          null,
          null,
          null,
          null,
          null,
          0,
          0,
          16495.765625,
          71680.6015625,
          168319.171875,
          220847.09375,
          262383.78125,
          284577.03125,
          252583.75,
          250469.9375,
          245187.765625,
          260707.8125,
          204135.84375,
          120481.8359375,
          null,
          null,
          null,
          null,
          null,
          null,
          null,
          null,
          null,
          null,
          7010.03955078125,
          3206.28955078125,
          16944.4609375,
          75728.15625,
          154442.390625,
          222657.375,
          275696.0625,
          304291.3125,
          277220.90625,
          275476.6875,
          258030.28125,
          268061.4375,
          213141.21875,
          119547.875,
          null,
          null,
          null,
          null,
          null,
          null,
          null,
          null,
          null,
          null,
          7874.57861328125,
          6622.64111328125,
          21985.9296875,
          66308.3515625,
          138104.421875,
          213433.375,
          282009.09375,
          320040.625,
          326365,
          320599.65625,
          289748.1875,
          224234.5,
          184067.0625,
          101749.5234375,
          null,
          null,
          null,
          null,
          null,
          null,
          null,
          null,
          null,
          null,
          4173.48486328125,
          0,
          20379.28125,
          67691.15625,
          127816.3046875,
          194973.8125,
          247872.890625,
          299051.625,
          300664.28125,
          295316.09375,
          272330.59375,
          249611.328125,
          200521.09375,
          97900.046875,
          null,
          null,
          null,
          null,
          null,
          null,
          null,
          null,
          null,
          null,
          7475.00830078125,
          0,
          21483.59375,
          75667.2421875,
          148453.578125,
          212583.796875,
          271344.21875,
          310323.4375,
          322861.5,
          327186.34375,
          299527.0625,
          267790.6875,
          201128.109375,
          112616.234375,
          null,
          null,
          null,
          null,
          null,
          null,
          null,
          null,
          null,
          null,
          6872.03173828125,
          435.5472412109375,
          19967.7109375,
          75196.8984375,
          151937.890625,
          216090.65625,
          270460.3125,
          300866.625,
          312032.21875,
          315388.5,
          291592.78125,
          266643.3125,
          205420.234375,
          122512.1640625,
          null,
          null,
          null,
          null,
          null,
          null,
          null,
          null,
          null,
          null,
          20728.6796875,
          7873.75830078125,
          24649.9765625,
          74105.8828125,
          133220.953125,
          184322.859375,
          230607.0625,
          267207.34375,
          272705.875,
          278990.625,
          267556.75,
          264353.96875,
          220708.015625,
          125163.703125,
          null,
          null,
          null,
          null,
          null,
          null,
          null,
          null,
          null,
          null,
          21319.4609375,
          0,
          15169.3671875,
          61519.703125,
          120426.5703125,
          183536,
          209051.375,
          228418.3125,
          219097.046875,
          231446.25,
          225552.015625,
          235140.796875,
          192543.140625,
          96335.546875,
          null,
          null,
          null,
          null,
          null,
          null,
          null,
          null,
          null,
          null,
          24156.25,
          2691.89892578125,
          16186.0859375,
          79546.328125,
          134733.78125,
          167292.890625,
          201087.5625,
          234314.21875,
          239782.65625,
          226903.296875,
          215679.171875,
          202945.53125,
          168387.75,
          95076.8828125,
          null,
          null,
          null,
          null,
          null,
          null,
          null,
          null,
          null,
          null,
          27673.859375,
          0,
          0,
          55303.58203125,
          143040.984375,
          212778.953125,
          266423.78125,
          257079.671875,
          247843.296875,
          232474.421875,
          222324.78125,
          208897.0625,
          161530.796875,
          82662.2890625,
          null,
          null,
          null,
          null,
          null,
          null,
          null,
          null,
          null,
          null,
          18230.90625,
          0,
          10500.3359375,
          67430.5390625,
          141865.25,
          199919.140625,
          239032.375,
          266913.15625,
          276524.4375,
          259829.59375,
          266126.90625,
          229852.90625,
          193779.390625,
          105196.6328125,
          null,
          null,
          null,
          null,
          null,
          null,
          null,
          null,
          null,
          null,
          0,
          0,
          20709.7421875,
          82641.40625,
          153902.953125,
          208725.90625,
          256435.390625,
          311568.25,
          342091.8125,
          328469.5,
          298165.875,
          266632.21875,
          213705.875,
          112256.203125,
          null,
          null,
          null,
          null,
          null,
          null,
          null,
          null,
          null,
          null,
          11997.59375,
          0,
          20291.6484375,
          84439.3203125,
          180056.890625,
          222048.265625,
          276965.8125,
          295145.71875,
          297783.5625,
          321082.8125,
          323462.09375,
          287764.6875,
          238911.859375,
          145359.171875,
          null,
          null,
          null,
          null,
          null,
          null,
          null,
          null,
          null,
          null,
          7285.31298828125,
          0,
          14774.8671875,
          65447.38671875,
          135674.796875,
          187583.53125,
          231127.078125,
          266457.375,
          290013.34375,
          292874.4375,
          276525.09375,
          249240.015625,
          183932.0625,
          97409.0390625,
          null,
          null,
          null,
          null,
          null,
          null,
          null,
          null,
          null,
          null,
          4504.20361328125,
          0,
          7290.75830078125,
          61373.8359375,
          141341.328125,
          204558.15625,
          258913.828125,
          290399.15625,
          276827.96875,
          279349.03125,
          269995.5625,
          267454.15625,
          210250.96875,
          108436.5703125,
          null,
          null,
          null,
          null,
          null,
          null,
          null,
          null,
          null,
          null,
          13262.4453125,
          0,
          9455.4140625,
          63413,
          165661.171875,
          241853.09375,
          279039.5625,
          296529.53125,
          264215.3125,
          271384.8125,
          268072.1875,
          263561.75,
          209715.921875,
          109506.625,
          null,
          null,
          null,
          null,
          null,
          null,
          null,
          null,
          null,
          null,
          7316.71923828125,
          0,
          10704.515625,
          61569.3125,
          157330.65625,
          242335.03125,
          295289.96875,
          319665.25,
          310305.15625,
          301203.96875,
          297629.28125,
          257780.21875,
          198065.03125,
          103782.2578125,
          null,
          null,
          null,
          null,
          null,
          null,
          null,
          null,
          null,
          null,
          662.2113037109375,
          0,
          16106.8046875,
          80206.5546875,
          133994.078125,
          186697.265625,
          238327.59375,
          283839.28125,
          311747.5625,
          300166.375,
          260791.703125,
          217241.53125,
          184361.265625,
          109391.25,
          null,
          null,
          null,
          null,
          null,
          null,
          null,
          null,
          null,
          null,
          12165.703125,
          0,
          8049.72705078125,
          60113.37109375,
          137853.46875,
          188400.125,
          236705.421875,
          274190.9375,
          283426.46875,
          283171.90625,
          272926.34375,
          243491.078125,
          187798.234375,
          96792.2265625,
          null,
          null,
          null,
          null,
          null,
          null,
          null,
          null,
          null,
          null,
          0,
          0,
          11603.890625,
          78303.015625,
          140798.703125,
          192620.6875,
          241951.375,
          263630.375,
          276369.59375,
          262619.03125,
          246056.734375,
          221860.671875,
          160200.28125,
          76195.875,
          null,
          null,
          null,
          null,
          null,
          null,
          null,
          null,
          null,
          null,
          0,
          0,
          18373.7421875,
          63906.48828125,
          102970.171875,
          143430.875,
          187945.515625,
          226204.921875,
          240800.546875,
          228468.703125,
          207955.453125,
          186065.421875,
          142115.296875,
          72500.765625,
          null,
          null,
          null,
          null,
          null,
          null,
          null,
          null,
          null,
          null,
          0,
          0,
          11083.3359375,
          10682.3984375,
          18801.546875,
          54705.671875,
          80974.4140625,
          86752.0234375,
          118793.7421875,
          99703.7890625,
          72704.046875,
          70640.0703125,
          49267.34765625,
          21527.53125,
          null,
          null,
          null,
          null,
          null,
          null,
          null,
          null,
          null,
          null,
          0,
          0,
          0,
          21501.8984375,
          63002.3046875,
          115788.6953125,
          146600.375,
          176666.90625,
          197631.125,
          182006.140625,
          142165.96875,
          137999.359375,
          102199.15625,
          50997.1953125,
          null,
          null,
          null,
          null,
          null,
          null,
          null,
          null,
          null,
          null,
          0,
          0,
          2323.97705078125,
          35460.25,
          90312.390625,
          153319.34375,
          164732.4375,
          157138.765625,
          182928.203125,
          173752.40625,
          129209.0234375,
          90285.6015625,
          44813.3359375,
          8948.9140625,
          null,
          null,
          null,
          null,
          null,
          null,
          null,
          null,
          null,
          null,
          13290.3203125,
          4420.10205078125,
          19000.2265625,
          61756.63671875,
          119660.046875,
          180493.671875,
          228914.578125,
          256617.296875,
          266251.78125,
          273990.125,
          253450.328125,
          210273.65625,
          132479.0625,
          43285.48828125,
          null,
          null,
          null,
          null,
          null,
          null,
          null,
          null,
          null,
          null,
          23468.7734375,
          0,
          6675.59423828125,
          65027.01953125,
          138673.8125,
          206206.171875,
          264610.9375,
          306239.28125,
          315297.78125,
          308423.53125,
          279337.8125,
          228551.078125,
          176468.171875,
          86436.40625,
          null,
          null,
          null,
          null,
          null,
          null,
          null,
          null,
          null,
          null,
          9891.6796875,
          0,
          0,
          49770.40625,
          141965.25,
          222938.734375,
          263434.09375,
          280155.96875,
          299302.375,
          296129.46875,
          304946.6875,
          273089.21875,
          208816.34375,
          84502.03125,
          null,
          null,
          null,
          null,
          null,
          null,
          null,
          null,
          null,
          null,
          28634.9296875,
          1475.0081787109375,
          14652.8671875,
          68846.8359375,
          131877.625,
          187846.078125,
          221682.734375,
          235195.203125,
          246671.734375,
          257493.359375,
          257432,
          237706.484375,
          184490.578125,
          90068.859375
         ]
        }
       ],
       "layout": {
        "template": {
         "data": {
          "bar": [
           {
            "error_x": {
             "color": "#2a3f5f"
            },
            "error_y": {
             "color": "#2a3f5f"
            },
            "marker": {
             "line": {
              "color": "#E5ECF6",
              "width": 0.5
             }
            },
            "type": "bar"
           }
          ],
          "barpolar": [
           {
            "marker": {
             "line": {
              "color": "#E5ECF6",
              "width": 0.5
             }
            },
            "type": "barpolar"
           }
          ],
          "carpet": [
           {
            "aaxis": {
             "endlinecolor": "#2a3f5f",
             "gridcolor": "white",
             "linecolor": "white",
             "minorgridcolor": "white",
             "startlinecolor": "#2a3f5f"
            },
            "baxis": {
             "endlinecolor": "#2a3f5f",
             "gridcolor": "white",
             "linecolor": "white",
             "minorgridcolor": "white",
             "startlinecolor": "#2a3f5f"
            },
            "type": "carpet"
           }
          ],
          "choropleth": [
           {
            "colorbar": {
             "outlinewidth": 0,
             "ticks": ""
            },
            "type": "choropleth"
           }
          ],
          "contour": [
           {
            "colorbar": {
             "outlinewidth": 0,
             "ticks": ""
            },
            "colorscale": [
             [
              0,
              "#0d0887"
             ],
             [
              0.1111111111111111,
              "#46039f"
             ],
             [
              0.2222222222222222,
              "#7201a8"
             ],
             [
              0.3333333333333333,
              "#9c179e"
             ],
             [
              0.4444444444444444,
              "#bd3786"
             ],
             [
              0.5555555555555556,
              "#d8576b"
             ],
             [
              0.6666666666666666,
              "#ed7953"
             ],
             [
              0.7777777777777778,
              "#fb9f3a"
             ],
             [
              0.8888888888888888,
              "#fdca26"
             ],
             [
              1,
              "#f0f921"
             ]
            ],
            "type": "contour"
           }
          ],
          "contourcarpet": [
           {
            "colorbar": {
             "outlinewidth": 0,
             "ticks": ""
            },
            "type": "contourcarpet"
           }
          ],
          "heatmap": [
           {
            "colorbar": {
             "outlinewidth": 0,
             "ticks": ""
            },
            "colorscale": [
             [
              0,
              "#0d0887"
             ],
             [
              0.1111111111111111,
              "#46039f"
             ],
             [
              0.2222222222222222,
              "#7201a8"
             ],
             [
              0.3333333333333333,
              "#9c179e"
             ],
             [
              0.4444444444444444,
              "#bd3786"
             ],
             [
              0.5555555555555556,
              "#d8576b"
             ],
             [
              0.6666666666666666,
              "#ed7953"
             ],
             [
              0.7777777777777778,
              "#fb9f3a"
             ],
             [
              0.8888888888888888,
              "#fdca26"
             ],
             [
              1,
              "#f0f921"
             ]
            ],
            "type": "heatmap"
           }
          ],
          "heatmapgl": [
           {
            "colorbar": {
             "outlinewidth": 0,
             "ticks": ""
            },
            "colorscale": [
             [
              0,
              "#0d0887"
             ],
             [
              0.1111111111111111,
              "#46039f"
             ],
             [
              0.2222222222222222,
              "#7201a8"
             ],
             [
              0.3333333333333333,
              "#9c179e"
             ],
             [
              0.4444444444444444,
              "#bd3786"
             ],
             [
              0.5555555555555556,
              "#d8576b"
             ],
             [
              0.6666666666666666,
              "#ed7953"
             ],
             [
              0.7777777777777778,
              "#fb9f3a"
             ],
             [
              0.8888888888888888,
              "#fdca26"
             ],
             [
              1,
              "#f0f921"
             ]
            ],
            "type": "heatmapgl"
           }
          ],
          "histogram": [
           {
            "marker": {
             "colorbar": {
              "outlinewidth": 0,
              "ticks": ""
             }
            },
            "type": "histogram"
           }
          ],
          "histogram2d": [
           {
            "colorbar": {
             "outlinewidth": 0,
             "ticks": ""
            },
            "colorscale": [
             [
              0,
              "#0d0887"
             ],
             [
              0.1111111111111111,
              "#46039f"
             ],
             [
              0.2222222222222222,
              "#7201a8"
             ],
             [
              0.3333333333333333,
              "#9c179e"
             ],
             [
              0.4444444444444444,
              "#bd3786"
             ],
             [
              0.5555555555555556,
              "#d8576b"
             ],
             [
              0.6666666666666666,
              "#ed7953"
             ],
             [
              0.7777777777777778,
              "#fb9f3a"
             ],
             [
              0.8888888888888888,
              "#fdca26"
             ],
             [
              1,
              "#f0f921"
             ]
            ],
            "type": "histogram2d"
           }
          ],
          "histogram2dcontour": [
           {
            "colorbar": {
             "outlinewidth": 0,
             "ticks": ""
            },
            "colorscale": [
             [
              0,
              "#0d0887"
             ],
             [
              0.1111111111111111,
              "#46039f"
             ],
             [
              0.2222222222222222,
              "#7201a8"
             ],
             [
              0.3333333333333333,
              "#9c179e"
             ],
             [
              0.4444444444444444,
              "#bd3786"
             ],
             [
              0.5555555555555556,
              "#d8576b"
             ],
             [
              0.6666666666666666,
              "#ed7953"
             ],
             [
              0.7777777777777778,
              "#fb9f3a"
             ],
             [
              0.8888888888888888,
              "#fdca26"
             ],
             [
              1,
              "#f0f921"
             ]
            ],
            "type": "histogram2dcontour"
           }
          ],
          "mesh3d": [
           {
            "colorbar": {
             "outlinewidth": 0,
             "ticks": ""
            },
            "type": "mesh3d"
           }
          ],
          "parcoords": [
           {
            "line": {
             "colorbar": {
              "outlinewidth": 0,
              "ticks": ""
             }
            },
            "type": "parcoords"
           }
          ],
          "pie": [
           {
            "automargin": true,
            "type": "pie"
           }
          ],
          "scatter": [
           {
            "marker": {
             "colorbar": {
              "outlinewidth": 0,
              "ticks": ""
             }
            },
            "type": "scatter"
           }
          ],
          "scatter3d": [
           {
            "line": {
             "colorbar": {
              "outlinewidth": 0,
              "ticks": ""
             }
            },
            "marker": {
             "colorbar": {
              "outlinewidth": 0,
              "ticks": ""
             }
            },
            "type": "scatter3d"
           }
          ],
          "scattercarpet": [
           {
            "marker": {
             "colorbar": {
              "outlinewidth": 0,
              "ticks": ""
             }
            },
            "type": "scattercarpet"
           }
          ],
          "scattergeo": [
           {
            "marker": {
             "colorbar": {
              "outlinewidth": 0,
              "ticks": ""
             }
            },
            "type": "scattergeo"
           }
          ],
          "scattergl": [
           {
            "marker": {
             "colorbar": {
              "outlinewidth": 0,
              "ticks": ""
             }
            },
            "type": "scattergl"
           }
          ],
          "scattermapbox": [
           {
            "marker": {
             "colorbar": {
              "outlinewidth": 0,
              "ticks": ""
             }
            },
            "type": "scattermapbox"
           }
          ],
          "scatterpolar": [
           {
            "marker": {
             "colorbar": {
              "outlinewidth": 0,
              "ticks": ""
             }
            },
            "type": "scatterpolar"
           }
          ],
          "scatterpolargl": [
           {
            "marker": {
             "colorbar": {
              "outlinewidth": 0,
              "ticks": ""
             }
            },
            "type": "scatterpolargl"
           }
          ],
          "scatterternary": [
           {
            "marker": {
             "colorbar": {
              "outlinewidth": 0,
              "ticks": ""
             }
            },
            "type": "scatterternary"
           }
          ],
          "surface": [
           {
            "colorbar": {
             "outlinewidth": 0,
             "ticks": ""
            },
            "colorscale": [
             [
              0,
              "#0d0887"
             ],
             [
              0.1111111111111111,
              "#46039f"
             ],
             [
              0.2222222222222222,
              "#7201a8"
             ],
             [
              0.3333333333333333,
              "#9c179e"
             ],
             [
              0.4444444444444444,
              "#bd3786"
             ],
             [
              0.5555555555555556,
              "#d8576b"
             ],
             [
              0.6666666666666666,
              "#ed7953"
             ],
             [
              0.7777777777777778,
              "#fb9f3a"
             ],
             [
              0.8888888888888888,
              "#fdca26"
             ],
             [
              1,
              "#f0f921"
             ]
            ],
            "type": "surface"
           }
          ],
          "table": [
           {
            "cells": {
             "fill": {
              "color": "#EBF0F8"
             },
             "line": {
              "color": "white"
             }
            },
            "header": {
             "fill": {
              "color": "#C8D4E3"
             },
             "line": {
              "color": "white"
             }
            },
            "type": "table"
           }
          ]
         },
         "layout": {
          "annotationdefaults": {
           "arrowcolor": "#2a3f5f",
           "arrowhead": 0,
           "arrowwidth": 1
          },
          "autotypenumbers": "strict",
          "coloraxis": {
           "colorbar": {
            "outlinewidth": 0,
            "ticks": ""
           }
          },
          "colorscale": {
           "diverging": [
            [
             0,
             "#8e0152"
            ],
            [
             0.1,
             "#c51b7d"
            ],
            [
             0.2,
             "#de77ae"
            ],
            [
             0.3,
             "#f1b6da"
            ],
            [
             0.4,
             "#fde0ef"
            ],
            [
             0.5,
             "#f7f7f7"
            ],
            [
             0.6,
             "#e6f5d0"
            ],
            [
             0.7,
             "#b8e186"
            ],
            [
             0.8,
             "#7fbc41"
            ],
            [
             0.9,
             "#4d9221"
            ],
            [
             1,
             "#276419"
            ]
           ],
           "sequential": [
            [
             0,
             "#0d0887"
            ],
            [
             0.1111111111111111,
             "#46039f"
            ],
            [
             0.2222222222222222,
             "#7201a8"
            ],
            [
             0.3333333333333333,
             "#9c179e"
            ],
            [
             0.4444444444444444,
             "#bd3786"
            ],
            [
             0.5555555555555556,
             "#d8576b"
            ],
            [
             0.6666666666666666,
             "#ed7953"
            ],
            [
             0.7777777777777778,
             "#fb9f3a"
            ],
            [
             0.8888888888888888,
             "#fdca26"
            ],
            [
             1,
             "#f0f921"
            ]
           ],
           "sequentialminus": [
            [
             0,
             "#0d0887"
            ],
            [
             0.1111111111111111,
             "#46039f"
            ],
            [
             0.2222222222222222,
             "#7201a8"
            ],
            [
             0.3333333333333333,
             "#9c179e"
            ],
            [
             0.4444444444444444,
             "#bd3786"
            ],
            [
             0.5555555555555556,
             "#d8576b"
            ],
            [
             0.6666666666666666,
             "#ed7953"
            ],
            [
             0.7777777777777778,
             "#fb9f3a"
            ],
            [
             0.8888888888888888,
             "#fdca26"
            ],
            [
             1,
             "#f0f921"
            ]
           ]
          },
          "colorway": [
           "#636efa",
           "#EF553B",
           "#00cc96",
           "#ab63fa",
           "#FFA15A",
           "#19d3f3",
           "#FF6692",
           "#B6E880",
           "#FF97FF",
           "#FECB52"
          ],
          "font": {
           "color": "#2a3f5f"
          },
          "geo": {
           "bgcolor": "white",
           "lakecolor": "white",
           "landcolor": "#E5ECF6",
           "showlakes": true,
           "showland": true,
           "subunitcolor": "white"
          },
          "hoverlabel": {
           "align": "left"
          },
          "hovermode": "closest",
          "mapbox": {
           "style": "light"
          },
          "paper_bgcolor": "white",
          "plot_bgcolor": "#E5ECF6",
          "polar": {
           "angularaxis": {
            "gridcolor": "white",
            "linecolor": "white",
            "ticks": ""
           },
           "bgcolor": "#E5ECF6",
           "radialaxis": {
            "gridcolor": "white",
            "linecolor": "white",
            "ticks": ""
           }
          },
          "scene": {
           "xaxis": {
            "backgroundcolor": "#E5ECF6",
            "gridcolor": "white",
            "gridwidth": 2,
            "linecolor": "white",
            "showbackground": true,
            "ticks": "",
            "zerolinecolor": "white"
           },
           "yaxis": {
            "backgroundcolor": "#E5ECF6",
            "gridcolor": "white",
            "gridwidth": 2,
            "linecolor": "white",
            "showbackground": true,
            "ticks": "",
            "zerolinecolor": "white"
           },
           "zaxis": {
            "backgroundcolor": "#E5ECF6",
            "gridcolor": "white",
            "gridwidth": 2,
            "linecolor": "white",
            "showbackground": true,
            "ticks": "",
            "zerolinecolor": "white"
           }
          },
          "shapedefaults": {
           "line": {
            "color": "#2a3f5f"
           }
          },
          "ternary": {
           "aaxis": {
            "gridcolor": "white",
            "linecolor": "white",
            "ticks": ""
           },
           "baxis": {
            "gridcolor": "white",
            "linecolor": "white",
            "ticks": ""
           },
           "bgcolor": "#E5ECF6",
           "caxis": {
            "gridcolor": "white",
            "linecolor": "white",
            "ticks": ""
           }
          },
          "title": {
           "x": 0.05
          },
          "xaxis": {
           "automargin": true,
           "gridcolor": "white",
           "linecolor": "white",
           "ticks": "",
           "title": {
            "standoff": 15
           },
           "zerolinecolor": "white",
           "zerolinewidth": 2
          },
          "yaxis": {
           "automargin": true,
           "gridcolor": "white",
           "linecolor": "white",
           "ticks": "",
           "title": {
            "standoff": 15
           },
           "zerolinecolor": "white",
           "zerolinewidth": 2
          }
         }
        },
        "yaxis": {
         "title": {
          "text": "Generation (kW)"
         }
        }
       }
      },
      "text/html": [
       "<div>                            <div id=\"e3779892-e512-4adf-98a1-fafe3a5031be\" class=\"plotly-graph-div\" style=\"height:525px; width:100%;\"></div>            <script type=\"text/javascript\">                require([\"plotly\"], function(Plotly) {                    window.PLOTLYENV=window.PLOTLYENV || {};                                    if (document.getElementById(\"e3779892-e512-4adf-98a1-fafe3a5031be\")) {                    Plotly.newPlot(                        \"e3779892-e512-4adf-98a1-fafe3a5031be\",                        [{\"name\": \"target generation\", \"type\": \"scatter\", \"x\": [\"2021-01-09T07:00:00\", \"2021-01-09T08:00:00\", \"2021-01-09T09:00:00\", \"2021-01-09T10:00:00\", \"2021-01-09T11:00:00\", \"2021-01-09T12:00:00\", \"2021-01-09T13:00:00\", \"2021-01-09T14:00:00\", \"2021-01-09T15:00:00\", \"2021-01-09T16:00:00\", \"2021-01-09T17:00:00\", \"2021-01-09T18:00:00\", \"2021-01-09T19:00:00\", \"2021-01-09T20:00:00\", \"2021-01-09T21:00:00\", \"2021-01-09T22:00:00\", \"2021-01-09T23:00:00\", \"2021-01-10T00:00:00\", \"2021-01-10T01:00:00\", \"2021-01-10T02:00:00\", \"2021-01-10T03:00:00\", \"2021-01-10T04:00:00\", \"2021-01-10T05:00:00\", \"2021-01-10T06:00:00\", \"2021-01-10T07:00:00\", \"2021-01-10T08:00:00\", \"2021-01-10T09:00:00\", \"2021-01-10T10:00:00\", \"2021-01-10T11:00:00\", \"2021-01-10T12:00:00\", \"2021-01-10T13:00:00\", \"2021-01-10T14:00:00\", \"2021-01-10T15:00:00\", \"2021-01-10T16:00:00\", \"2021-01-10T17:00:00\", \"2021-01-10T18:00:00\", \"2021-01-10T19:00:00\", \"2021-01-10T20:00:00\", \"2021-01-10T21:00:00\", \"2021-01-10T22:00:00\", \"2021-01-10T23:00:00\", \"2021-01-11T00:00:00\", \"2021-01-11T01:00:00\", \"2021-01-11T02:00:00\", \"2021-01-11T03:00:00\", \"2021-01-11T04:00:00\", \"2021-01-11T05:00:00\", \"2021-01-11T06:00:00\", \"2021-01-11T07:00:00\", \"2021-01-11T08:00:00\", \"2021-01-11T09:00:00\", \"2021-01-11T10:00:00\", \"2021-01-11T11:00:00\", \"2021-01-11T12:00:00\", \"2021-01-11T13:00:00\", \"2021-01-11T14:00:00\", \"2021-01-11T15:00:00\", \"2021-01-11T16:00:00\", \"2021-01-11T17:00:00\", \"2021-01-11T18:00:00\", \"2021-01-11T19:00:00\", \"2021-01-11T20:00:00\", \"2021-01-11T21:00:00\", \"2021-01-11T22:00:00\", \"2021-01-11T23:00:00\", \"2021-01-12T00:00:00\", \"2021-01-12T01:00:00\", \"2021-01-12T02:00:00\", \"2021-01-12T03:00:00\", \"2021-01-12T04:00:00\", \"2021-01-12T05:00:00\", \"2021-01-12T06:00:00\", \"2021-01-12T07:00:00\", \"2021-01-12T08:00:00\", \"2021-01-12T09:00:00\", \"2021-01-12T10:00:00\", \"2021-01-12T11:00:00\", \"2021-01-12T12:00:00\", \"2021-01-12T13:00:00\", \"2021-01-12T14:00:00\", \"2021-01-12T15:00:00\", \"2021-01-12T16:00:00\", \"2021-01-12T17:00:00\", \"2021-01-12T18:00:00\", \"2021-01-12T19:00:00\", \"2021-01-12T20:00:00\", \"2021-01-12T21:00:00\", \"2021-01-12T22:00:00\", \"2021-01-12T23:00:00\", \"2021-01-13T00:00:00\", \"2021-01-13T01:00:00\", \"2021-01-13T02:00:00\", \"2021-01-13T03:00:00\", \"2021-01-13T04:00:00\", \"2021-01-13T05:00:00\", \"2021-01-13T06:00:00\", \"2021-01-13T07:00:00\", \"2021-01-13T08:00:00\", \"2021-01-13T09:00:00\", \"2021-01-13T10:00:00\", \"2021-01-13T11:00:00\", \"2021-01-13T12:00:00\", \"2021-01-13T13:00:00\", \"2021-01-13T14:00:00\", \"2021-01-13T15:00:00\", \"2021-01-13T16:00:00\", \"2021-01-13T17:00:00\", \"2021-01-13T18:00:00\", \"2021-01-13T19:00:00\", \"2021-01-13T20:00:00\", \"2021-01-13T21:00:00\", \"2021-01-13T22:00:00\", \"2021-01-13T23:00:00\", \"2021-01-14T00:00:00\", \"2021-01-14T01:00:00\", \"2021-01-14T02:00:00\", \"2021-01-14T03:00:00\", \"2021-01-14T04:00:00\", \"2021-01-14T05:00:00\", \"2021-01-14T06:00:00\", \"2021-01-14T07:00:00\", \"2021-01-14T08:00:00\", \"2021-01-14T09:00:00\", \"2021-01-14T10:00:00\", \"2021-01-14T11:00:00\", \"2021-01-14T12:00:00\", \"2021-01-14T13:00:00\", \"2021-01-14T14:00:00\", \"2021-01-14T15:00:00\", \"2021-01-14T16:00:00\", \"2021-01-14T17:00:00\", \"2021-01-14T18:00:00\", \"2021-01-14T19:00:00\", \"2021-01-14T20:00:00\", \"2021-01-14T21:00:00\", \"2021-01-14T22:00:00\", \"2021-01-14T23:00:00\", \"2021-01-15T00:00:00\", \"2021-01-15T01:00:00\", \"2021-01-15T02:00:00\", \"2021-01-15T03:00:00\", \"2021-01-15T04:00:00\", \"2021-01-15T05:00:00\", \"2021-01-15T06:00:00\", \"2021-01-15T07:00:00\", \"2021-01-15T08:00:00\", \"2021-01-15T09:00:00\", \"2021-01-15T10:00:00\", \"2021-01-15T11:00:00\", \"2021-01-15T12:00:00\", \"2021-01-15T13:00:00\", \"2021-01-15T14:00:00\", \"2021-01-15T15:00:00\", \"2021-01-15T16:00:00\", \"2021-01-15T17:00:00\", \"2021-01-15T18:00:00\", \"2021-01-15T19:00:00\", \"2021-01-15T20:00:00\", \"2021-01-15T21:00:00\", \"2021-01-15T22:00:00\", \"2021-01-15T23:00:00\", \"2021-01-16T00:00:00\", \"2021-01-16T01:00:00\", \"2021-01-16T02:00:00\", \"2021-01-16T03:00:00\", \"2021-01-16T04:00:00\", \"2021-01-16T05:00:00\", \"2021-01-16T06:00:00\", \"2021-01-16T07:00:00\", \"2021-01-16T08:00:00\", \"2021-01-16T09:00:00\", \"2021-01-16T10:00:00\", \"2021-01-16T11:00:00\", \"2021-01-16T12:00:00\", \"2021-01-16T13:00:00\", \"2021-01-16T14:00:00\", \"2021-01-16T15:00:00\", \"2021-01-16T16:00:00\", \"2021-01-16T17:00:00\", \"2021-01-16T18:00:00\", \"2021-01-16T19:00:00\", \"2021-01-16T20:00:00\", \"2021-01-16T21:00:00\", \"2021-01-16T22:00:00\", \"2021-01-16T23:00:00\", \"2021-01-17T00:00:00\", \"2021-01-17T01:00:00\", \"2021-01-17T02:00:00\", \"2021-01-17T03:00:00\", \"2021-01-17T04:00:00\", \"2021-01-17T05:00:00\", \"2021-01-17T06:00:00\", \"2021-01-17T07:00:00\", \"2021-01-17T08:00:00\", \"2021-01-17T09:00:00\", \"2021-01-17T10:00:00\", \"2021-01-17T11:00:00\", \"2021-01-17T12:00:00\", \"2021-01-17T13:00:00\", \"2021-01-17T14:00:00\", \"2021-01-17T15:00:00\", \"2021-01-17T16:00:00\", \"2021-01-17T17:00:00\", \"2021-01-17T18:00:00\", \"2021-01-17T19:00:00\", \"2021-01-17T20:00:00\", \"2021-01-17T21:00:00\", \"2021-01-17T22:00:00\", \"2021-01-17T23:00:00\", \"2021-01-18T00:00:00\", \"2021-01-18T01:00:00\", \"2021-01-18T02:00:00\", \"2021-01-18T03:00:00\", \"2021-01-18T04:00:00\", \"2021-01-18T05:00:00\", \"2021-01-18T06:00:00\", \"2021-01-18T07:00:00\", \"2021-01-18T08:00:00\", \"2021-01-18T09:00:00\", \"2021-01-18T10:00:00\", \"2021-01-18T11:00:00\", \"2021-01-18T12:00:00\", \"2021-01-18T13:00:00\", \"2021-01-18T14:00:00\", \"2021-01-18T15:00:00\", \"2021-01-18T16:00:00\", \"2021-01-18T17:00:00\", \"2021-01-18T18:00:00\", \"2021-01-18T19:00:00\", \"2021-01-18T20:00:00\", \"2021-01-18T21:00:00\", \"2021-01-18T22:00:00\", \"2021-01-18T23:00:00\", \"2021-01-19T00:00:00\", \"2021-01-19T01:00:00\", \"2021-01-19T02:00:00\", \"2021-01-19T03:00:00\", \"2021-01-19T04:00:00\", \"2021-01-19T05:00:00\", \"2021-01-19T06:00:00\", \"2021-01-19T07:00:00\", \"2021-01-19T08:00:00\", \"2021-01-19T09:00:00\", \"2021-01-19T10:00:00\", \"2021-01-19T11:00:00\", \"2021-01-19T12:00:00\", \"2021-01-19T13:00:00\", \"2021-01-19T14:00:00\", \"2021-01-19T15:00:00\", \"2021-01-19T16:00:00\", \"2021-01-19T17:00:00\", \"2021-01-19T18:00:00\", \"2021-01-19T19:00:00\", \"2021-01-19T20:00:00\", \"2021-01-19T21:00:00\", \"2021-01-19T22:00:00\", \"2021-01-19T23:00:00\", \"2021-01-20T00:00:00\", \"2021-01-20T01:00:00\", \"2021-01-20T02:00:00\", \"2021-01-20T03:00:00\", \"2021-01-20T04:00:00\", \"2021-01-20T05:00:00\", \"2021-01-20T06:00:00\", \"2021-01-20T07:00:00\", \"2021-01-20T08:00:00\", \"2021-01-20T09:00:00\", \"2021-01-20T10:00:00\", \"2021-01-20T11:00:00\", \"2021-01-20T12:00:00\", \"2021-01-20T13:00:00\", \"2021-01-20T14:00:00\", \"2021-01-20T15:00:00\", \"2021-01-20T16:00:00\", \"2021-01-20T17:00:00\", \"2021-01-20T18:00:00\", \"2021-01-20T19:00:00\", \"2021-01-20T20:00:00\", \"2021-01-20T21:00:00\", \"2021-01-20T22:00:00\", \"2021-01-20T23:00:00\", \"2021-01-21T00:00:00\", \"2021-01-21T01:00:00\", \"2021-01-21T02:00:00\", \"2021-01-21T03:00:00\", \"2021-01-21T04:00:00\", \"2021-01-21T05:00:00\", \"2021-01-21T06:00:00\", \"2021-01-21T07:00:00\", \"2021-01-21T08:00:00\", \"2021-01-21T09:00:00\", \"2021-01-21T10:00:00\", \"2021-01-21T11:00:00\", \"2021-01-21T12:00:00\", \"2021-01-21T13:00:00\", \"2021-01-21T14:00:00\", \"2021-01-21T15:00:00\", \"2021-01-21T16:00:00\", \"2021-01-21T17:00:00\", \"2021-01-21T18:00:00\", \"2021-01-21T19:00:00\", \"2021-01-21T20:00:00\", \"2021-01-21T21:00:00\", \"2021-01-21T22:00:00\", \"2021-01-21T23:00:00\", \"2021-01-22T00:00:00\", \"2021-01-22T01:00:00\", \"2021-01-22T02:00:00\", \"2021-01-22T03:00:00\", \"2021-01-22T04:00:00\", \"2021-01-22T05:00:00\", \"2021-01-22T06:00:00\", \"2021-01-22T07:00:00\", \"2021-01-22T08:00:00\", \"2021-01-22T09:00:00\", \"2021-01-22T10:00:00\", \"2021-01-22T11:00:00\", \"2021-01-22T12:00:00\", \"2021-01-22T13:00:00\", \"2021-01-22T14:00:00\", \"2021-01-22T15:00:00\", \"2021-01-22T16:00:00\", \"2021-01-22T17:00:00\", \"2021-01-22T18:00:00\", \"2021-01-22T19:00:00\", \"2021-01-22T20:00:00\", \"2021-01-22T21:00:00\", \"2021-01-22T22:00:00\", \"2021-01-22T23:00:00\", \"2021-01-23T00:00:00\", \"2021-01-23T01:00:00\", \"2021-01-23T02:00:00\", \"2021-01-23T03:00:00\", \"2021-01-23T04:00:00\", \"2021-01-23T05:00:00\", \"2021-01-23T06:00:00\", \"2021-01-23T07:00:00\", \"2021-01-23T08:00:00\", \"2021-01-23T09:00:00\", \"2021-01-23T10:00:00\", \"2021-01-23T11:00:00\", \"2021-01-23T12:00:00\", \"2021-01-23T13:00:00\", \"2021-01-23T14:00:00\", \"2021-01-23T15:00:00\", \"2021-01-23T16:00:00\", \"2021-01-23T17:00:00\", \"2021-01-23T18:00:00\", \"2021-01-23T19:00:00\", \"2021-01-23T20:00:00\", \"2021-01-23T21:00:00\", \"2021-01-23T22:00:00\", \"2021-01-23T23:00:00\", \"2021-01-24T00:00:00\", \"2021-01-24T01:00:00\", \"2021-01-24T02:00:00\", \"2021-01-24T03:00:00\", \"2021-01-24T04:00:00\", \"2021-01-24T05:00:00\", \"2021-01-24T06:00:00\", \"2021-01-24T07:00:00\", \"2021-01-24T08:00:00\", \"2021-01-24T09:00:00\", \"2021-01-24T10:00:00\", \"2021-01-24T11:00:00\", \"2021-01-24T12:00:00\", \"2021-01-24T13:00:00\", \"2021-01-24T14:00:00\", \"2021-01-24T15:00:00\", \"2021-01-24T16:00:00\", \"2021-01-24T17:00:00\", \"2021-01-24T18:00:00\", \"2021-01-24T19:00:00\", \"2021-01-24T20:00:00\", \"2021-01-24T21:00:00\", \"2021-01-24T22:00:00\", \"2021-01-24T23:00:00\", \"2021-01-25T00:00:00\", \"2021-01-25T01:00:00\", \"2021-01-25T02:00:00\", \"2021-01-25T03:00:00\", \"2021-01-25T04:00:00\", \"2021-01-25T05:00:00\", \"2021-01-25T06:00:00\", \"2021-01-25T07:00:00\", \"2021-01-25T08:00:00\", \"2021-01-25T09:00:00\", \"2021-01-25T10:00:00\", \"2021-01-25T11:00:00\", \"2021-01-25T12:00:00\", \"2021-01-25T13:00:00\", \"2021-01-25T14:00:00\", \"2021-01-25T15:00:00\", \"2021-01-25T16:00:00\", \"2021-01-25T17:00:00\", \"2021-01-25T18:00:00\", \"2021-01-25T19:00:00\", \"2021-01-25T20:00:00\", \"2021-01-25T21:00:00\", \"2021-01-25T22:00:00\", \"2021-01-25T23:00:00\", \"2021-01-26T00:00:00\", \"2021-01-26T01:00:00\", \"2021-01-26T02:00:00\", \"2021-01-26T03:00:00\", \"2021-01-26T04:00:00\", \"2021-01-26T05:00:00\", \"2021-01-26T06:00:00\", \"2021-01-26T07:00:00\", \"2021-01-26T08:00:00\", \"2021-01-26T09:00:00\", \"2021-01-26T10:00:00\", \"2021-01-26T11:00:00\", \"2021-01-26T12:00:00\", \"2021-01-26T13:00:00\", \"2021-01-26T14:00:00\", \"2021-01-26T15:00:00\", \"2021-01-26T16:00:00\", \"2021-01-26T17:00:00\", \"2021-01-26T18:00:00\", \"2021-01-26T19:00:00\", \"2021-01-26T20:00:00\", \"2021-01-26T21:00:00\", \"2021-01-26T22:00:00\", \"2021-01-26T23:00:00\", \"2021-01-27T00:00:00\", \"2021-01-27T01:00:00\", \"2021-01-27T02:00:00\", \"2021-01-27T03:00:00\", \"2021-01-27T04:00:00\", \"2021-01-27T05:00:00\", \"2021-01-27T06:00:00\", \"2021-01-27T07:00:00\", \"2021-01-27T08:00:00\", \"2021-01-27T09:00:00\", \"2021-01-27T10:00:00\", \"2021-01-27T11:00:00\", \"2021-01-27T12:00:00\", \"2021-01-27T13:00:00\", \"2021-01-27T14:00:00\", \"2021-01-27T15:00:00\", \"2021-01-27T16:00:00\", \"2021-01-27T17:00:00\", \"2021-01-27T18:00:00\", \"2021-01-27T19:00:00\", \"2021-01-27T20:00:00\", \"2021-01-27T21:00:00\", \"2021-01-27T22:00:00\", \"2021-01-27T23:00:00\", \"2021-01-28T00:00:00\", \"2021-01-28T01:00:00\", \"2021-01-28T02:00:00\", \"2021-01-28T03:00:00\", \"2021-01-28T04:00:00\", \"2021-01-28T05:00:00\", \"2021-01-28T06:00:00\", \"2021-01-28T07:00:00\", \"2021-01-28T08:00:00\", \"2021-01-28T09:00:00\", \"2021-01-28T10:00:00\", \"2021-01-28T11:00:00\", \"2021-01-28T12:00:00\", \"2021-01-28T13:00:00\", \"2021-01-28T14:00:00\", \"2021-01-28T15:00:00\", \"2021-01-28T16:00:00\", \"2021-01-28T17:00:00\", \"2021-01-28T18:00:00\", \"2021-01-28T19:00:00\", \"2021-01-28T20:00:00\", \"2021-01-28T21:00:00\", \"2021-01-28T22:00:00\", \"2021-01-28T23:00:00\", \"2021-01-29T00:00:00\", \"2021-01-29T01:00:00\", \"2021-01-29T02:00:00\", \"2021-01-29T03:00:00\", \"2021-01-29T04:00:00\", \"2021-01-29T05:00:00\", \"2021-01-29T06:00:00\", \"2021-01-29T07:00:00\", \"2021-01-29T08:00:00\", \"2021-01-29T09:00:00\", \"2021-01-29T10:00:00\", \"2021-01-29T11:00:00\", \"2021-01-29T12:00:00\", \"2021-01-29T13:00:00\", \"2021-01-29T14:00:00\", \"2021-01-29T15:00:00\", \"2021-01-29T16:00:00\", \"2021-01-29T17:00:00\", \"2021-01-29T18:00:00\", \"2021-01-29T19:00:00\", \"2021-01-29T20:00:00\", \"2021-01-29T21:00:00\", \"2021-01-29T22:00:00\", \"2021-01-29T23:00:00\", \"2021-01-30T00:00:00\", \"2021-01-30T01:00:00\", \"2021-01-30T02:00:00\", \"2021-01-30T03:00:00\", \"2021-01-30T04:00:00\", \"2021-01-30T05:00:00\", \"2021-01-30T06:00:00\", \"2021-01-30T07:00:00\", \"2021-01-30T08:00:00\", \"2021-01-30T09:00:00\", \"2021-01-30T10:00:00\", \"2021-01-30T11:00:00\", \"2021-01-30T12:00:00\", \"2021-01-30T13:00:00\", \"2021-01-30T14:00:00\", \"2021-01-30T15:00:00\", \"2021-01-30T16:00:00\", \"2021-01-30T17:00:00\", \"2021-01-30T18:00:00\", \"2021-01-30T19:00:00\", \"2021-01-30T20:00:00\", \"2021-01-30T21:00:00\", \"2021-01-30T22:00:00\", \"2021-01-30T23:00:00\", \"2021-01-31T00:00:00\", \"2021-01-31T01:00:00\", \"2021-01-31T02:00:00\", \"2021-01-31T03:00:00\", \"2021-01-31T04:00:00\", \"2021-01-31T05:00:00\", \"2021-01-31T06:00:00\", \"2021-01-31T07:00:00\", \"2021-01-31T08:00:00\", \"2021-01-31T09:00:00\", \"2021-01-31T10:00:00\", \"2021-01-31T11:00:00\", \"2021-01-31T12:00:00\", \"2021-01-31T13:00:00\", \"2021-01-31T14:00:00\", \"2021-01-31T15:00:00\", \"2021-01-31T16:00:00\", \"2021-01-31T17:00:00\", \"2021-01-31T18:00:00\", \"2021-01-31T19:00:00\", \"2021-01-31T20:00:00\", \"2021-01-31T21:00:00\", \"2021-01-31T22:00:00\", \"2021-01-31T23:00:00\", \"2021-02-01T00:00:00\", \"2021-02-01T01:00:00\", \"2021-02-01T02:00:00\", \"2021-02-01T03:00:00\", \"2021-02-01T04:00:00\", \"2021-02-01T05:00:00\", \"2021-02-01T06:00:00\", \"2021-02-01T07:00:00\", \"2021-02-01T08:00:00\", \"2021-02-01T09:00:00\", \"2021-02-01T10:00:00\", \"2021-02-01T11:00:00\", \"2021-02-01T12:00:00\", \"2021-02-01T13:00:00\", \"2021-02-01T14:00:00\", \"2021-02-01T15:00:00\", \"2021-02-01T16:00:00\", \"2021-02-01T17:00:00\", \"2021-02-01T18:00:00\", \"2021-02-01T19:00:00\", \"2021-02-01T20:00:00\", \"2021-02-01T21:00:00\", \"2021-02-01T22:00:00\", \"2021-02-01T23:00:00\", \"2021-02-02T00:00:00\", \"2021-02-02T01:00:00\", \"2021-02-02T02:00:00\", \"2021-02-02T03:00:00\", \"2021-02-02T04:00:00\", \"2021-02-02T05:00:00\", \"2021-02-02T06:00:00\", \"2021-02-02T07:00:00\", \"2021-02-02T08:00:00\", \"2021-02-02T09:00:00\", \"2021-02-02T10:00:00\", \"2021-02-02T11:00:00\", \"2021-02-02T12:00:00\", \"2021-02-02T13:00:00\", \"2021-02-02T14:00:00\", \"2021-02-02T15:00:00\", \"2021-02-02T16:00:00\", \"2021-02-02T17:00:00\", \"2021-02-02T18:00:00\", \"2021-02-02T19:00:00\", \"2021-02-02T20:00:00\", \"2021-02-02T21:00:00\", \"2021-02-02T22:00:00\", \"2021-02-02T23:00:00\", \"2021-02-03T00:00:00\", \"2021-02-03T01:00:00\", \"2021-02-03T02:00:00\", \"2021-02-03T03:00:00\", \"2021-02-03T04:00:00\", \"2021-02-03T05:00:00\", \"2021-02-03T06:00:00\", \"2021-02-03T07:00:00\", \"2021-02-03T08:00:00\", \"2021-02-03T09:00:00\", \"2021-02-03T10:00:00\", \"2021-02-03T11:00:00\", \"2021-02-03T12:00:00\", \"2021-02-03T13:00:00\", \"2021-02-03T14:00:00\", \"2021-02-03T15:00:00\", \"2021-02-03T16:00:00\", \"2021-02-03T17:00:00\", \"2021-02-03T18:00:00\", \"2021-02-03T19:00:00\", \"2021-02-03T20:00:00\", \"2021-02-03T21:00:00\", \"2021-02-03T22:00:00\", \"2021-02-03T23:00:00\", \"2021-02-04T00:00:00\", \"2021-02-04T01:00:00\", \"2021-02-04T02:00:00\", \"2021-02-04T03:00:00\", \"2021-02-04T04:00:00\", \"2021-02-04T05:00:00\", \"2021-02-04T06:00:00\", \"2021-02-04T07:00:00\", \"2021-02-04T08:00:00\", \"2021-02-04T09:00:00\", \"2021-02-04T10:00:00\", \"2021-02-04T11:00:00\", \"2021-02-04T12:00:00\", \"2021-02-04T13:00:00\", \"2021-02-04T14:00:00\", \"2021-02-04T15:00:00\", \"2021-02-04T16:00:00\", \"2021-02-04T17:00:00\", \"2021-02-04T18:00:00\", \"2021-02-04T19:00:00\", \"2021-02-04T20:00:00\", \"2021-02-04T21:00:00\", \"2021-02-04T22:00:00\", \"2021-02-04T23:00:00\", \"2021-02-05T00:00:00\", \"2021-02-05T01:00:00\", \"2021-02-05T02:00:00\", \"2021-02-05T03:00:00\", \"2021-02-05T04:00:00\", \"2021-02-05T05:00:00\", \"2021-02-05T06:00:00\", \"2021-02-05T07:00:00\", \"2021-02-05T08:00:00\", \"2021-02-05T09:00:00\", \"2021-02-05T10:00:00\", \"2021-02-05T11:00:00\", \"2021-02-05T12:00:00\", \"2021-02-05T13:00:00\", \"2021-02-05T14:00:00\", \"2021-02-05T15:00:00\", \"2021-02-05T16:00:00\", \"2021-02-05T17:00:00\", \"2021-02-05T18:00:00\", \"2021-02-05T19:00:00\", \"2021-02-05T20:00:00\", \"2021-02-05T21:00:00\", \"2021-02-05T22:00:00\", \"2021-02-05T23:00:00\", \"2021-02-06T00:00:00\", \"2021-02-06T01:00:00\", \"2021-02-06T02:00:00\", \"2021-02-06T03:00:00\", \"2021-02-06T04:00:00\", \"2021-02-06T05:00:00\", \"2021-02-06T06:00:00\", \"2021-02-06T07:00:00\", \"2021-02-06T08:00:00\", \"2021-02-06T09:00:00\", \"2021-02-06T10:00:00\", \"2021-02-06T11:00:00\", \"2021-02-06T12:00:00\", \"2021-02-06T13:00:00\", \"2021-02-06T14:00:00\", \"2021-02-06T15:00:00\", \"2021-02-06T16:00:00\", \"2021-02-06T17:00:00\", \"2021-02-06T18:00:00\", \"2021-02-06T19:00:00\", \"2021-02-06T20:00:00\", \"2021-02-06T21:00:00\", \"2021-02-06T22:00:00\", \"2021-02-06T23:00:00\", \"2021-02-07T00:00:00\", \"2021-02-07T01:00:00\", \"2021-02-07T02:00:00\", \"2021-02-07T03:00:00\", \"2021-02-07T04:00:00\", \"2021-02-07T05:00:00\", \"2021-02-07T06:00:00\", \"2021-02-07T07:00:00\", \"2021-02-07T08:00:00\", \"2021-02-07T09:00:00\", \"2021-02-07T10:00:00\", \"2021-02-07T11:00:00\", \"2021-02-07T12:00:00\", \"2021-02-07T13:00:00\", \"2021-02-07T14:00:00\", \"2021-02-07T15:00:00\", \"2021-02-07T16:00:00\", \"2021-02-07T17:00:00\", \"2021-02-07T18:00:00\", \"2021-02-07T19:00:00\", \"2021-02-07T20:00:00\", \"2021-02-07T21:00:00\", \"2021-02-07T22:00:00\", \"2021-02-07T23:00:00\", \"2021-02-08T00:00:00\", \"2021-02-08T01:00:00\", \"2021-02-08T02:00:00\", \"2021-02-08T03:00:00\", \"2021-02-08T04:00:00\", \"2021-02-08T05:00:00\", \"2021-02-08T06:00:00\", \"2021-02-08T07:00:00\", \"2021-02-08T08:00:00\", \"2021-02-08T09:00:00\", \"2021-02-08T10:00:00\", \"2021-02-08T11:00:00\", \"2021-02-08T12:00:00\", \"2021-02-08T13:00:00\", \"2021-02-08T14:00:00\", \"2021-02-08T15:00:00\", \"2021-02-08T16:00:00\", \"2021-02-08T17:00:00\", \"2021-02-08T18:00:00\", \"2021-02-08T19:00:00\", \"2021-02-08T20:00:00\", \"2021-02-08T21:00:00\", \"2021-02-08T22:00:00\", \"2021-02-08T23:00:00\", \"2021-02-09T00:00:00\", \"2021-02-09T01:00:00\", \"2021-02-09T02:00:00\", \"2021-02-09T03:00:00\", \"2021-02-09T04:00:00\", \"2021-02-09T05:00:00\", \"2021-02-09T06:00:00\", \"2021-02-09T07:00:00\", \"2021-02-09T08:00:00\", \"2021-02-09T09:00:00\", \"2021-02-09T10:00:00\", \"2021-02-09T11:00:00\", \"2021-02-09T12:00:00\", \"2021-02-09T13:00:00\", \"2021-02-09T14:00:00\", \"2021-02-09T15:00:00\", \"2021-02-09T16:00:00\", \"2021-02-09T17:00:00\", \"2021-02-09T18:00:00\", \"2021-02-09T19:00:00\", \"2021-02-09T20:00:00\", \"2021-02-09T21:00:00\", \"2021-02-09T22:00:00\", \"2021-02-09T23:00:00\", \"2021-02-10T00:00:00\", \"2021-02-10T01:00:00\", \"2021-02-10T02:00:00\", \"2021-02-10T03:00:00\", \"2021-02-10T04:00:00\", \"2021-02-10T05:00:00\", \"2021-02-10T06:00:00\", \"2021-02-10T07:00:00\", \"2021-02-10T08:00:00\", \"2021-02-10T09:00:00\", \"2021-02-10T10:00:00\", \"2021-02-10T11:00:00\", \"2021-02-10T12:00:00\", \"2021-02-10T13:00:00\", \"2021-02-10T14:00:00\", \"2021-02-10T15:00:00\", \"2021-02-10T16:00:00\", \"2021-02-10T17:00:00\", \"2021-02-10T18:00:00\", \"2021-02-10T19:00:00\", \"2021-02-10T20:00:00\", \"2021-02-10T21:00:00\", \"2021-02-10T22:00:00\", \"2021-02-10T23:00:00\", \"2021-02-11T00:00:00\", \"2021-02-11T01:00:00\", \"2021-02-11T02:00:00\", \"2021-02-11T03:00:00\", \"2021-02-11T04:00:00\", \"2021-02-11T05:00:00\", \"2021-02-11T06:00:00\", \"2021-02-11T07:00:00\", \"2021-02-11T08:00:00\", \"2021-02-11T09:00:00\", \"2021-02-11T10:00:00\", \"2021-02-11T11:00:00\", \"2021-02-11T12:00:00\", \"2021-02-11T13:00:00\", \"2021-02-11T14:00:00\", \"2021-02-11T15:00:00\", \"2021-02-11T16:00:00\", \"2021-02-11T17:00:00\", \"2021-02-11T18:00:00\", \"2021-02-11T19:00:00\", \"2021-02-11T20:00:00\", \"2021-02-11T21:00:00\", \"2021-02-11T22:00:00\", \"2021-02-11T23:00:00\", \"2021-02-12T00:00:00\", \"2021-02-12T01:00:00\", \"2021-02-12T02:00:00\", \"2021-02-12T03:00:00\", \"2021-02-12T04:00:00\", \"2021-02-12T05:00:00\", \"2021-02-12T06:00:00\", \"2021-02-12T07:00:00\", \"2021-02-12T08:00:00\", \"2021-02-12T09:00:00\", \"2021-02-12T10:00:00\", \"2021-02-12T11:00:00\", \"2021-02-12T12:00:00\", \"2021-02-12T13:00:00\", \"2021-02-12T14:00:00\", \"2021-02-12T15:00:00\", \"2021-02-12T16:00:00\", \"2021-02-12T17:00:00\", \"2021-02-12T18:00:00\", \"2021-02-12T19:00:00\", \"2021-02-12T20:00:00\", \"2021-02-12T21:00:00\", \"2021-02-12T22:00:00\", \"2021-02-12T23:00:00\", \"2021-02-13T00:00:00\", \"2021-02-13T01:00:00\", \"2021-02-13T02:00:00\", \"2021-02-13T03:00:00\", \"2021-02-13T04:00:00\", \"2021-02-13T05:00:00\", \"2021-02-13T06:00:00\", \"2021-02-13T07:00:00\", \"2021-02-13T08:00:00\", \"2021-02-13T09:00:00\", \"2021-02-13T10:00:00\", \"2021-02-13T11:00:00\", \"2021-02-13T12:00:00\", \"2021-02-13T13:00:00\", \"2021-02-13T14:00:00\", \"2021-02-13T15:00:00\", \"2021-02-13T16:00:00\", \"2021-02-13T17:00:00\", \"2021-02-13T18:00:00\", \"2021-02-13T19:00:00\", \"2021-02-13T20:00:00\"], \"y\": [11.490000000000002, 2827.6199999999994, 19126.0, 81339.19999999997, 120248.86000000002, 138112.29, 193998.08, 198199.69, 221898.67, 220806.23, 208875.36, 225113.79000000007, 169836.8, 98231.43, null, null, null, null, null, null, null, null, null, null, 9.66, 1874.0800000000008, 18753.49, 58166.4, 108814.06, 168628.05999999994, 213157.54, 237281.68, 203407.61, 221005.11000000004, 246277.39, 266609.59999999986, 208908.97, 117316.99, null, null, null, null, null, null, null, null, null, null, 6.12, 2161.71, 25827.03, 56276.64999999999, 135925.74, 217747.0, 281071.83, 309890.92, 264609.42, 263013.08, 251036.94000000003, 263345.35, 206894.23, 115868.2, null, null, null, null, null, null, null, null, null, null, 5.420000000000001, 2133.4, 24505.500000000004, 84336.27999999997, 155551.63, 208850.4100000001, 260587.48, 306314.96000000014, 323163.66, 327811.12, 312043.91000000003, 242867.13, 204081.96, 117152.0, null, null, null, null, null, null, null, null, null, null, 5.4, 1463.2699999999998, 19166.500000000004, 83024.11999999997, 121824.58, 188928.26, 242478.05999999988, 278689.21, 291603.06999999995, 293091.67000000004, 281207.7500000001, 245114.6600000001, 170843.89000000007, 95213.46000000004, null, null, null, null, null, null, null, null, null, null, 5.029999999999999, 1624.7199999999998, 25464.02, 66761.44, 147238.49, 214825.52, 267461.4499999999, 314078.71, 324505.16000000003, 300878.99, 285004.22000000003, 251804.12999999995, 185653.81, 106537.61, null, null, null, null, null, null, null, null, null, null, 5.96, 1085.4899999999998, 21781.49, 85087.74, 161111.33000000002, 229647.6, 278492.35, 310844.59999999986, 326101.67999999993, 324116.33, 307126.84, 266057.78, 203145.11, 113064.38, null, null, null, null, null, null, null, null, null, null, 6.330000000000001, 1234.13, 20990.94, 80045.87, 160110.43, 184304.67000000004, 218831.27, 246264.22, 254507.88000000003, 253681.92, 245871.79000000007, 262008.86000000013, 204948.76, 114052.41000000002, null, null, null, null, null, null, null, null, null, null, 8.309999999999999, 1145.18, 20418.62, 78977.69999999997, 157607.05, 221537.97, 268994.95, 299374.58, 257426.68, 252306.06, 243546.99, 253676.99, 198314.65, 110071.47000000004, null, null, null, null, null, null, null, null, null, null, 11.96, 1099.3200000000004, 21733.56, 77548.81999999999, 144054.93, 201185.51, 228247.63, 266507.5100000001, 260591.94, 256967.35000000003, 231859.96, 161133.14, 140958.44000000006, 81425.99, null, null, null, null, null, null, null, null, null, null, 10.170000000000002, 909.02, 19396.89, 68189.26000000001, 143424.15000000002, 196671.53, 250164.47000000003, 231712.97000000003, 221961.13000000003, 259044.78, 225629.85000000003, 181908.14, 143796.63999999998, 81011.45000000001, null, null, null, null, null, null, null, null, null, null, 10.32, 526.6199999999999, 16294.279999999995, 72804.59000000001, 129605.73, 208811.58, 267034.98, 301564.36, 311855.9100000001, 313041.46, 283746.3, 244505.59, 189180.15, 102395.55, null, null, null, null, null, null, null, null, null, null, 9.79, 800.1799999999997, 20187.61, 62433.03000000001, 149036.47999999998, 218858.54, 267407.37, 299673.1900000001, 312702.3399999999, 313896.42, 299053.63, 262488.72000000003, 200483.16, 108960.66999999995, null, null, null, null, null, null, null, null, null, null, 10.26, 706.4300000000002, 18486.82999999999, 73793.82, 150841.78, 217178.02, 266226.24000000005, 296576.7900000001, 313757.84, 318016.7500000001, 303093.48000000004, 264622.89, 203043.94, 112121.66, null, null, null, null, null, null, null, null, null, null, 6.35, 559.12, 17881.2, 73548.83000000003, 148820.57999999993, 172609.74000000002, 15616.160000000002, 210021.25, 243636.35000000003, 247209.74, 236094.45, 255543.7500000001, 203462.0000000001, 103992.62000000002, null, null, null, null, null, null, null, null, null, null, 5.94, 267.58000000000004, 14462.21, 70403.50000000001, 88106.54, 161624.28000000006, 185411.38, 207153.29000000004, 219209.13, 232135.89000000004, 243666.89, 238686.1, 187771.23, 99244.44, null, null, null, null, null, null, null, null, null, null, 5.73, 301.4, 15897.010000000006, 43304.62000000002, 130248.90000000002, 204045.68000000005, 215983.71, 158285.96000000002, 151867.99999999994, 166051.15999999997, 202116.88000000003, 180685.17000000007, 179049.47999999995, 115628.75, null, null, null, null, null, null, null, null, null, null, 9.01, 400.65000000000015, 17961.91, 62030.08, 147936.64999999994, 211546.41000000003, 229409.37, 271722.24000000005, 257599.2, 206300.71, 279035.66999999987, 243559.53, 148394.62999999995, 107926.62, null, null, null, null, null, null, null, null, null, null, 7.909999999999998, 362.76, 16685.140000000007, 70638.82, 128835.33, 171030.38000000006, 231422.40000000005, 284547.43, 309129.71, 314954.0700000001, 270489.27, 256074.96000000005, 205715.77, 115166.89, null, null, null, null, null, null, null, null, null, null, 6.82, 392.61000000000007, 17330.65, 72806.94, 152549.43, 222746.12, 272686.48, 287154.46, 275332.28, 288991.40999999986, 304241.23000000004, 272308.8, 208607.83, 112258.77, null, null, null, null, null, null, null, null, null, null, 5.8000000000000025, 301.5999999999999, 16332.329999999994, 72256.66, 140980.11, 212495.78, 272745.17999999993, 306238.99, 320842.15, 320213.36, 303402.4400000001, 265490.97000000003, 203139.15, 109815.83999999998, null, null, null, null, null, null, null, null, null, null, 9.32, 273.95, 15691.39, 69765.9, 151132.56, 179782.4, 217852.05, 242425.32, 255853.01, 257569.97999999995, 245838.31, 257942.9, 201137.10000000003, 108597.13999999998, null, null, null, null, null, null, null, null, null, null, 10.71, 235.7, 15334.85, 70152.44, 148675.11000000002, 216611.19, 266322.71, 290996.82, 194036.44999999995, 225357.09, 247972.21000000005, 260293.6800000001, 204873.0, 109325.18999999996, null, null, null, null, null, null, null, null, null, null, 11.28, 192.04, 14901.190000000002, 69469.20000000001, 148908.75999999998, 220192.16, 269913.7500000001, 299779.46, 256786.52, 255577.22, 245084.34, 253577.52000000005, 197010.97, 102244.34, null, null, null, null, null, null, null, null, null, null, 11.1, 206.66, 15581.179999999997, 68634.7, 125977.73, 180083.50999999995, 204327.65, 239176.69999999995, 278544.0299999999, 265662.6100000001, 241503.19999999995, 209208.29000000004, 152099.72, 79437.65000000002, null, null, null, null, null, null, null, null, null, null, 10.97, 102.95, 14246.21, 60524.86, 119678.71000000006, 212098.74, 261714.87, 301703.95, 298049.7399999999, 257949.56000000003, 248982.62, 253295.91000000003, 173214.34999999995, 79500.5, null, null, null, null, null, null, null, null, null, null, 6.48, 103.01000000000002, 14334.030000000002, 51356.68, 147667.55999999994, 220913.37, 264633.31, 299830.93, 316351.19999999995, 315999.11000000004, 301920.05999999994, 268347.55999999994, 204182.75, 106619.25, null, null, null, null, null, null, null, null, null, null, 6.329999999999999, 67.72, 14813.419999999998, 66522.33, 144728.25999999995, 202083.36, 265738.47000000003, 295002.65000000014, 318753.35000000003, 310476.8200000001, 284552.3800000001, 238495.04, 164136.61000000002, 76093.86000000003, null, null, null, null, null, null, null, null, null, null, 5.55, 6.05, 7425.59, 64679.25000000001, 64386.15999999997, 64852.450000000026, 86855.86, 84027.59, 93601.24000000002, 84993.54000000001, 70884.11, 67452.76, 31441.35000000001, 13269.080000000002, null, null, null, null, null, null, null, null, null, null, 6.49, 6.24, 1450.9, 30658.650000000005, 23653.36, 32021.74, 55187.29000000001, 63816.24, 58572.39000000002, 45461.92999999999, 45429.92, 39189.7, 25455.500000000004, 11562.52, null, null, null, null, null, null, null, null, null, null, 5.849999999999999, 6.569999999999999, 10749.7, 12388.830000000002, 102174.64, 160749.35999999993, 207784.96, 236877.68000000005, 196896.83, 189896.83000000005, 191888.26, 196723.4, 142522.42, 88440.44000000002, null, null, null, null, null, null, null, null, null, null, 5.459999999999999, 5.600000000000001, 12870.29, 46954.53000000001, 110431.88, 158718.60999999993, 184121.03000000003, 277605.43, 267733.07, 272191.44, 225975.28999999995, 165051.50999999998, 112482.83000000002, 57786.96999999999, null, null, null, null, null, null, null, null, null, null, 6.579999999999999, 5.66, 11413.51, 63296.44, 136809.65, 186389.09, 232616.54, 263235.85, 256906.11, 279913.7099999999, 239647.87, 231207.06, 164680.3, 75767.67000000003, null, null, null, null, null, null, null, null, null, null, 5.76, 6.119999999999999, 9303.5, 64515.34000000001, 113036.94000000002, 136628.99, 157670.49, 204809.24, 253249.95, 242951.9100000001, 202430.29000000004, 187915.29, 170439.88999999998, 90719.89, null, null, null, null, null, null, null, null, null, null, 6.2200000000000015, 6.3100000000000005, 12412.369999999995, 55026.48999999999, 132631.87, 206983.67, 263017.61999999994, 304988.59, 320708.32, 320346.64, 306753.99, 269933.41, 204080.53, 101333.65000000002, null, null, null, null, null, null, null, null, null, null, 6.34, 6.589999999999997, 10997.160000000002, 62266.51, 143674.11, 175687.08000000002, 214049.33, 239580.78999999995, 249179.05, 255891.1500000001, 231299.38, 255489.24000000005, 191863.39, 92640.43]}, {\"name\": \"PC\", \"type\": \"scatter\", \"x\": [\"2021-01-09T07:00:00\", \"2021-01-09T08:00:00\", \"2021-01-09T09:00:00\", \"2021-01-09T10:00:00\", \"2021-01-09T11:00:00\", \"2021-01-09T12:00:00\", \"2021-01-09T13:00:00\", \"2021-01-09T14:00:00\", \"2021-01-09T15:00:00\", \"2021-01-09T16:00:00\", \"2021-01-09T17:00:00\", \"2021-01-09T18:00:00\", \"2021-01-09T19:00:00\", \"2021-01-09T20:00:00\", \"2021-01-09T21:00:00\", \"2021-01-09T22:00:00\", \"2021-01-09T23:00:00\", \"2021-01-10T00:00:00\", \"2021-01-10T01:00:00\", \"2021-01-10T02:00:00\", \"2021-01-10T03:00:00\", \"2021-01-10T04:00:00\", \"2021-01-10T05:00:00\", \"2021-01-10T06:00:00\", \"2021-01-10T07:00:00\", \"2021-01-10T08:00:00\", \"2021-01-10T09:00:00\", \"2021-01-10T10:00:00\", \"2021-01-10T11:00:00\", \"2021-01-10T12:00:00\", \"2021-01-10T13:00:00\", \"2021-01-10T14:00:00\", \"2021-01-10T15:00:00\", \"2021-01-10T16:00:00\", \"2021-01-10T17:00:00\", \"2021-01-10T18:00:00\", \"2021-01-10T19:00:00\", \"2021-01-10T20:00:00\", \"2021-01-10T21:00:00\", \"2021-01-10T22:00:00\", \"2021-01-10T23:00:00\", \"2021-01-11T00:00:00\", \"2021-01-11T01:00:00\", \"2021-01-11T02:00:00\", \"2021-01-11T03:00:00\", \"2021-01-11T04:00:00\", \"2021-01-11T05:00:00\", \"2021-01-11T06:00:00\", \"2021-01-11T07:00:00\", \"2021-01-11T08:00:00\", \"2021-01-11T09:00:00\", \"2021-01-11T10:00:00\", \"2021-01-11T11:00:00\", \"2021-01-11T12:00:00\", \"2021-01-11T13:00:00\", \"2021-01-11T14:00:00\", \"2021-01-11T15:00:00\", \"2021-01-11T16:00:00\", \"2021-01-11T17:00:00\", \"2021-01-11T18:00:00\", \"2021-01-11T19:00:00\", \"2021-01-11T20:00:00\", \"2021-01-11T21:00:00\", \"2021-01-11T22:00:00\", \"2021-01-11T23:00:00\", \"2021-01-12T00:00:00\", \"2021-01-12T01:00:00\", \"2021-01-12T02:00:00\", \"2021-01-12T03:00:00\", \"2021-01-12T04:00:00\", \"2021-01-12T05:00:00\", \"2021-01-12T06:00:00\", \"2021-01-12T07:00:00\", \"2021-01-12T08:00:00\", \"2021-01-12T09:00:00\", \"2021-01-12T10:00:00\", \"2021-01-12T11:00:00\", \"2021-01-12T12:00:00\", \"2021-01-12T13:00:00\", \"2021-01-12T14:00:00\", \"2021-01-12T15:00:00\", \"2021-01-12T16:00:00\", \"2021-01-12T17:00:00\", \"2021-01-12T18:00:00\", \"2021-01-12T19:00:00\", \"2021-01-12T20:00:00\", \"2021-01-12T21:00:00\", \"2021-01-12T22:00:00\", \"2021-01-12T23:00:00\", \"2021-01-13T00:00:00\", \"2021-01-13T01:00:00\", \"2021-01-13T02:00:00\", \"2021-01-13T03:00:00\", \"2021-01-13T04:00:00\", \"2021-01-13T05:00:00\", \"2021-01-13T06:00:00\", \"2021-01-13T07:00:00\", \"2021-01-13T08:00:00\", \"2021-01-13T09:00:00\", \"2021-01-13T10:00:00\", \"2021-01-13T11:00:00\", \"2021-01-13T12:00:00\", \"2021-01-13T13:00:00\", \"2021-01-13T14:00:00\", \"2021-01-13T15:00:00\", \"2021-01-13T16:00:00\", \"2021-01-13T17:00:00\", \"2021-01-13T18:00:00\", \"2021-01-13T19:00:00\", \"2021-01-13T20:00:00\", \"2021-01-13T21:00:00\", \"2021-01-13T22:00:00\", \"2021-01-13T23:00:00\", \"2021-01-14T00:00:00\", \"2021-01-14T01:00:00\", \"2021-01-14T02:00:00\", \"2021-01-14T03:00:00\", \"2021-01-14T04:00:00\", \"2021-01-14T05:00:00\", \"2021-01-14T06:00:00\", \"2021-01-14T07:00:00\", \"2021-01-14T08:00:00\", \"2021-01-14T09:00:00\", \"2021-01-14T10:00:00\", \"2021-01-14T11:00:00\", \"2021-01-14T12:00:00\", \"2021-01-14T13:00:00\", \"2021-01-14T14:00:00\", \"2021-01-14T15:00:00\", \"2021-01-14T16:00:00\", \"2021-01-14T17:00:00\", \"2021-01-14T18:00:00\", \"2021-01-14T19:00:00\", \"2021-01-14T20:00:00\", \"2021-01-14T21:00:00\", \"2021-01-14T22:00:00\", \"2021-01-14T23:00:00\", \"2021-01-15T00:00:00\", \"2021-01-15T01:00:00\", \"2021-01-15T02:00:00\", \"2021-01-15T03:00:00\", \"2021-01-15T04:00:00\", \"2021-01-15T05:00:00\", \"2021-01-15T06:00:00\", \"2021-01-15T07:00:00\", \"2021-01-15T08:00:00\", \"2021-01-15T09:00:00\", \"2021-01-15T10:00:00\", \"2021-01-15T11:00:00\", \"2021-01-15T12:00:00\", \"2021-01-15T13:00:00\", \"2021-01-15T14:00:00\", \"2021-01-15T15:00:00\", \"2021-01-15T16:00:00\", \"2021-01-15T17:00:00\", \"2021-01-15T18:00:00\", \"2021-01-15T19:00:00\", \"2021-01-15T20:00:00\", \"2021-01-15T21:00:00\", \"2021-01-15T22:00:00\", \"2021-01-15T23:00:00\", \"2021-01-16T00:00:00\", \"2021-01-16T01:00:00\", \"2021-01-16T02:00:00\", \"2021-01-16T03:00:00\", \"2021-01-16T04:00:00\", \"2021-01-16T05:00:00\", \"2021-01-16T06:00:00\", \"2021-01-16T07:00:00\", \"2021-01-16T08:00:00\", \"2021-01-16T09:00:00\", \"2021-01-16T10:00:00\", \"2021-01-16T11:00:00\", \"2021-01-16T12:00:00\", \"2021-01-16T13:00:00\", \"2021-01-16T14:00:00\", \"2021-01-16T15:00:00\", \"2021-01-16T16:00:00\", \"2021-01-16T17:00:00\", \"2021-01-16T18:00:00\", \"2021-01-16T19:00:00\", \"2021-01-16T20:00:00\", \"2021-01-16T21:00:00\", \"2021-01-16T22:00:00\", \"2021-01-16T23:00:00\", \"2021-01-17T00:00:00\", \"2021-01-17T01:00:00\", \"2021-01-17T02:00:00\", \"2021-01-17T03:00:00\", \"2021-01-17T04:00:00\", \"2021-01-17T05:00:00\", \"2021-01-17T06:00:00\", \"2021-01-17T07:00:00\", \"2021-01-17T08:00:00\", \"2021-01-17T09:00:00\", \"2021-01-17T10:00:00\", \"2021-01-17T11:00:00\", \"2021-01-17T12:00:00\", \"2021-01-17T13:00:00\", \"2021-01-17T14:00:00\", \"2021-01-17T15:00:00\", \"2021-01-17T16:00:00\", \"2021-01-17T17:00:00\", \"2021-01-17T18:00:00\", \"2021-01-17T19:00:00\", \"2021-01-17T20:00:00\", \"2021-01-17T21:00:00\", \"2021-01-17T22:00:00\", \"2021-01-17T23:00:00\", \"2021-01-18T00:00:00\", \"2021-01-18T01:00:00\", \"2021-01-18T02:00:00\", \"2021-01-18T03:00:00\", \"2021-01-18T04:00:00\", \"2021-01-18T05:00:00\", \"2021-01-18T06:00:00\", \"2021-01-18T07:00:00\", \"2021-01-18T08:00:00\", \"2021-01-18T09:00:00\", \"2021-01-18T10:00:00\", \"2021-01-18T11:00:00\", \"2021-01-18T12:00:00\", \"2021-01-18T13:00:00\", \"2021-01-18T14:00:00\", \"2021-01-18T15:00:00\", \"2021-01-18T16:00:00\", \"2021-01-18T17:00:00\", \"2021-01-18T18:00:00\", \"2021-01-18T19:00:00\", \"2021-01-18T20:00:00\", \"2021-01-18T21:00:00\", \"2021-01-18T22:00:00\", \"2021-01-18T23:00:00\", \"2021-01-19T00:00:00\", \"2021-01-19T01:00:00\", \"2021-01-19T02:00:00\", \"2021-01-19T03:00:00\", \"2021-01-19T04:00:00\", \"2021-01-19T05:00:00\", \"2021-01-19T06:00:00\", \"2021-01-19T07:00:00\", \"2021-01-19T08:00:00\", \"2021-01-19T09:00:00\", \"2021-01-19T10:00:00\", \"2021-01-19T11:00:00\", \"2021-01-19T12:00:00\", \"2021-01-19T13:00:00\", \"2021-01-19T14:00:00\", \"2021-01-19T15:00:00\", \"2021-01-19T16:00:00\", \"2021-01-19T17:00:00\", \"2021-01-19T18:00:00\", \"2021-01-19T19:00:00\", \"2021-01-19T20:00:00\", \"2021-01-19T21:00:00\", \"2021-01-19T22:00:00\", \"2021-01-19T23:00:00\", \"2021-01-20T00:00:00\", \"2021-01-20T01:00:00\", \"2021-01-20T02:00:00\", \"2021-01-20T03:00:00\", \"2021-01-20T04:00:00\", \"2021-01-20T05:00:00\", \"2021-01-20T06:00:00\", \"2021-01-20T07:00:00\", \"2021-01-20T08:00:00\", \"2021-01-20T09:00:00\", \"2021-01-20T10:00:00\", \"2021-01-20T11:00:00\", \"2021-01-20T12:00:00\", \"2021-01-20T13:00:00\", \"2021-01-20T14:00:00\", \"2021-01-20T15:00:00\", \"2021-01-20T16:00:00\", \"2021-01-20T17:00:00\", \"2021-01-20T18:00:00\", \"2021-01-20T19:00:00\", \"2021-01-20T20:00:00\", \"2021-01-20T21:00:00\", \"2021-01-20T22:00:00\", \"2021-01-20T23:00:00\", \"2021-01-21T00:00:00\", \"2021-01-21T01:00:00\", \"2021-01-21T02:00:00\", \"2021-01-21T03:00:00\", \"2021-01-21T04:00:00\", \"2021-01-21T05:00:00\", \"2021-01-21T06:00:00\", \"2021-01-21T07:00:00\", \"2021-01-21T08:00:00\", \"2021-01-21T09:00:00\", \"2021-01-21T10:00:00\", \"2021-01-21T11:00:00\", \"2021-01-21T12:00:00\", \"2021-01-21T13:00:00\", \"2021-01-21T14:00:00\", \"2021-01-21T15:00:00\", \"2021-01-21T16:00:00\", \"2021-01-21T17:00:00\", \"2021-01-21T18:00:00\", \"2021-01-21T19:00:00\", \"2021-01-21T20:00:00\", \"2021-01-21T21:00:00\", \"2021-01-21T22:00:00\", \"2021-01-21T23:00:00\", \"2021-01-22T00:00:00\", \"2021-01-22T01:00:00\", \"2021-01-22T02:00:00\", \"2021-01-22T03:00:00\", \"2021-01-22T04:00:00\", \"2021-01-22T05:00:00\", \"2021-01-22T06:00:00\", \"2021-01-22T07:00:00\", \"2021-01-22T08:00:00\", \"2021-01-22T09:00:00\", \"2021-01-22T10:00:00\", \"2021-01-22T11:00:00\", \"2021-01-22T12:00:00\", \"2021-01-22T13:00:00\", \"2021-01-22T14:00:00\", \"2021-01-22T15:00:00\", \"2021-01-22T16:00:00\", \"2021-01-22T17:00:00\", \"2021-01-22T18:00:00\", \"2021-01-22T19:00:00\", \"2021-01-22T20:00:00\", \"2021-01-22T21:00:00\", \"2021-01-22T22:00:00\", \"2021-01-22T23:00:00\", \"2021-01-23T00:00:00\", \"2021-01-23T01:00:00\", \"2021-01-23T02:00:00\", \"2021-01-23T03:00:00\", \"2021-01-23T04:00:00\", \"2021-01-23T05:00:00\", \"2021-01-23T06:00:00\", \"2021-01-23T07:00:00\", \"2021-01-23T08:00:00\", \"2021-01-23T09:00:00\", \"2021-01-23T10:00:00\", \"2021-01-23T11:00:00\", \"2021-01-23T12:00:00\", \"2021-01-23T13:00:00\", \"2021-01-23T14:00:00\", \"2021-01-23T15:00:00\", \"2021-01-23T16:00:00\", \"2021-01-23T17:00:00\", \"2021-01-23T18:00:00\", \"2021-01-23T19:00:00\", \"2021-01-23T20:00:00\", \"2021-01-23T21:00:00\", \"2021-01-23T22:00:00\", \"2021-01-23T23:00:00\", \"2021-01-24T00:00:00\", \"2021-01-24T01:00:00\", \"2021-01-24T02:00:00\", \"2021-01-24T03:00:00\", \"2021-01-24T04:00:00\", \"2021-01-24T05:00:00\", \"2021-01-24T06:00:00\", \"2021-01-24T07:00:00\", \"2021-01-24T08:00:00\", \"2021-01-24T09:00:00\", \"2021-01-24T10:00:00\", \"2021-01-24T11:00:00\", \"2021-01-24T12:00:00\", \"2021-01-24T13:00:00\", \"2021-01-24T14:00:00\", \"2021-01-24T15:00:00\", \"2021-01-24T16:00:00\", \"2021-01-24T17:00:00\", \"2021-01-24T18:00:00\", \"2021-01-24T19:00:00\", \"2021-01-24T20:00:00\", \"2021-01-24T21:00:00\", \"2021-01-24T22:00:00\", \"2021-01-24T23:00:00\", \"2021-01-25T00:00:00\", \"2021-01-25T01:00:00\", \"2021-01-25T02:00:00\", \"2021-01-25T03:00:00\", \"2021-01-25T04:00:00\", \"2021-01-25T05:00:00\", \"2021-01-25T06:00:00\", \"2021-01-25T07:00:00\", \"2021-01-25T08:00:00\", \"2021-01-25T09:00:00\", \"2021-01-25T10:00:00\", \"2021-01-25T11:00:00\", \"2021-01-25T12:00:00\", \"2021-01-25T13:00:00\", \"2021-01-25T14:00:00\", \"2021-01-25T15:00:00\", \"2021-01-25T16:00:00\", \"2021-01-25T17:00:00\", \"2021-01-25T18:00:00\", \"2021-01-25T19:00:00\", \"2021-01-25T20:00:00\", \"2021-01-25T21:00:00\", \"2021-01-25T22:00:00\", \"2021-01-25T23:00:00\", \"2021-01-26T00:00:00\", \"2021-01-26T01:00:00\", \"2021-01-26T02:00:00\", \"2021-01-26T03:00:00\", \"2021-01-26T04:00:00\", \"2021-01-26T05:00:00\", \"2021-01-26T06:00:00\", \"2021-01-26T07:00:00\", \"2021-01-26T08:00:00\", \"2021-01-26T09:00:00\", \"2021-01-26T10:00:00\", \"2021-01-26T11:00:00\", \"2021-01-26T12:00:00\", \"2021-01-26T13:00:00\", \"2021-01-26T14:00:00\", \"2021-01-26T15:00:00\", \"2021-01-26T16:00:00\", \"2021-01-26T17:00:00\", \"2021-01-26T18:00:00\", \"2021-01-26T19:00:00\", \"2021-01-26T20:00:00\", \"2021-01-26T21:00:00\", \"2021-01-26T22:00:00\", \"2021-01-26T23:00:00\", \"2021-01-27T00:00:00\", \"2021-01-27T01:00:00\", \"2021-01-27T02:00:00\", \"2021-01-27T03:00:00\", \"2021-01-27T04:00:00\", \"2021-01-27T05:00:00\", \"2021-01-27T06:00:00\", \"2021-01-27T07:00:00\", \"2021-01-27T08:00:00\", \"2021-01-27T09:00:00\", \"2021-01-27T10:00:00\", \"2021-01-27T11:00:00\", \"2021-01-27T12:00:00\", \"2021-01-27T13:00:00\", \"2021-01-27T14:00:00\", \"2021-01-27T15:00:00\", \"2021-01-27T16:00:00\", \"2021-01-27T17:00:00\", \"2021-01-27T18:00:00\", \"2021-01-27T19:00:00\", \"2021-01-27T20:00:00\", \"2021-01-27T21:00:00\", \"2021-01-27T22:00:00\", \"2021-01-27T23:00:00\", \"2021-01-28T00:00:00\", \"2021-01-28T01:00:00\", \"2021-01-28T02:00:00\", \"2021-01-28T03:00:00\", \"2021-01-28T04:00:00\", \"2021-01-28T05:00:00\", \"2021-01-28T06:00:00\", \"2021-01-28T07:00:00\", \"2021-01-28T08:00:00\", \"2021-01-28T09:00:00\", \"2021-01-28T10:00:00\", \"2021-01-28T11:00:00\", \"2021-01-28T12:00:00\", \"2021-01-28T13:00:00\", \"2021-01-28T14:00:00\", \"2021-01-28T15:00:00\", \"2021-01-28T16:00:00\", \"2021-01-28T17:00:00\", \"2021-01-28T18:00:00\", \"2021-01-28T19:00:00\", \"2021-01-28T20:00:00\", \"2021-01-28T21:00:00\", \"2021-01-28T22:00:00\", \"2021-01-28T23:00:00\", \"2021-01-29T00:00:00\", \"2021-01-29T01:00:00\", \"2021-01-29T02:00:00\", \"2021-01-29T03:00:00\", \"2021-01-29T04:00:00\", \"2021-01-29T05:00:00\", \"2021-01-29T06:00:00\", \"2021-01-29T07:00:00\", \"2021-01-29T08:00:00\", \"2021-01-29T09:00:00\", \"2021-01-29T10:00:00\", \"2021-01-29T11:00:00\", \"2021-01-29T12:00:00\", \"2021-01-29T13:00:00\", \"2021-01-29T14:00:00\", \"2021-01-29T15:00:00\", \"2021-01-29T16:00:00\", \"2021-01-29T17:00:00\", \"2021-01-29T18:00:00\", \"2021-01-29T19:00:00\", \"2021-01-29T20:00:00\", \"2021-01-29T21:00:00\", \"2021-01-29T22:00:00\", \"2021-01-29T23:00:00\", \"2021-01-30T00:00:00\", \"2021-01-30T01:00:00\", \"2021-01-30T02:00:00\", \"2021-01-30T03:00:00\", \"2021-01-30T04:00:00\", \"2021-01-30T05:00:00\", \"2021-01-30T06:00:00\", \"2021-01-30T07:00:00\", \"2021-01-30T08:00:00\", \"2021-01-30T09:00:00\", \"2021-01-30T10:00:00\", \"2021-01-30T11:00:00\", \"2021-01-30T12:00:00\", \"2021-01-30T13:00:00\", \"2021-01-30T14:00:00\", \"2021-01-30T15:00:00\", \"2021-01-30T16:00:00\", \"2021-01-30T17:00:00\", \"2021-01-30T18:00:00\", \"2021-01-30T19:00:00\", \"2021-01-30T20:00:00\", \"2021-01-30T21:00:00\", \"2021-01-30T22:00:00\", \"2021-01-30T23:00:00\", \"2021-01-31T00:00:00\", \"2021-01-31T01:00:00\", \"2021-01-31T02:00:00\", \"2021-01-31T03:00:00\", \"2021-01-31T04:00:00\", \"2021-01-31T05:00:00\", \"2021-01-31T06:00:00\", \"2021-01-31T07:00:00\", \"2021-01-31T08:00:00\", \"2021-01-31T09:00:00\", \"2021-01-31T10:00:00\", \"2021-01-31T11:00:00\", \"2021-01-31T12:00:00\", \"2021-01-31T13:00:00\", \"2021-01-31T14:00:00\", \"2021-01-31T15:00:00\", \"2021-01-31T16:00:00\", \"2021-01-31T17:00:00\", \"2021-01-31T18:00:00\", \"2021-01-31T19:00:00\", \"2021-01-31T20:00:00\", \"2021-01-31T21:00:00\", \"2021-01-31T22:00:00\", \"2021-01-31T23:00:00\", \"2021-02-01T00:00:00\", \"2021-02-01T01:00:00\", \"2021-02-01T02:00:00\", \"2021-02-01T03:00:00\", \"2021-02-01T04:00:00\", \"2021-02-01T05:00:00\", \"2021-02-01T06:00:00\", \"2021-02-01T07:00:00\", \"2021-02-01T08:00:00\", \"2021-02-01T09:00:00\", \"2021-02-01T10:00:00\", \"2021-02-01T11:00:00\", \"2021-02-01T12:00:00\", \"2021-02-01T13:00:00\", \"2021-02-01T14:00:00\", \"2021-02-01T15:00:00\", \"2021-02-01T16:00:00\", \"2021-02-01T17:00:00\", \"2021-02-01T18:00:00\", \"2021-02-01T19:00:00\", \"2021-02-01T20:00:00\", \"2021-02-01T21:00:00\", \"2021-02-01T22:00:00\", \"2021-02-01T23:00:00\", \"2021-02-02T00:00:00\", \"2021-02-02T01:00:00\", \"2021-02-02T02:00:00\", \"2021-02-02T03:00:00\", \"2021-02-02T04:00:00\", \"2021-02-02T05:00:00\", \"2021-02-02T06:00:00\", \"2021-02-02T07:00:00\", \"2021-02-02T08:00:00\", \"2021-02-02T09:00:00\", \"2021-02-02T10:00:00\", \"2021-02-02T11:00:00\", \"2021-02-02T12:00:00\", \"2021-02-02T13:00:00\", \"2021-02-02T14:00:00\", \"2021-02-02T15:00:00\", \"2021-02-02T16:00:00\", \"2021-02-02T17:00:00\", \"2021-02-02T18:00:00\", \"2021-02-02T19:00:00\", \"2021-02-02T20:00:00\", \"2021-02-02T21:00:00\", \"2021-02-02T22:00:00\", \"2021-02-02T23:00:00\", \"2021-02-03T00:00:00\", \"2021-02-03T01:00:00\", \"2021-02-03T02:00:00\", \"2021-02-03T03:00:00\", \"2021-02-03T04:00:00\", \"2021-02-03T05:00:00\", \"2021-02-03T06:00:00\", \"2021-02-03T07:00:00\", \"2021-02-03T08:00:00\", \"2021-02-03T09:00:00\", \"2021-02-03T10:00:00\", \"2021-02-03T11:00:00\", \"2021-02-03T12:00:00\", \"2021-02-03T13:00:00\", \"2021-02-03T14:00:00\", \"2021-02-03T15:00:00\", \"2021-02-03T16:00:00\", \"2021-02-03T17:00:00\", \"2021-02-03T18:00:00\", \"2021-02-03T19:00:00\", \"2021-02-03T20:00:00\", \"2021-02-03T21:00:00\", \"2021-02-03T22:00:00\", \"2021-02-03T23:00:00\", \"2021-02-04T00:00:00\", \"2021-02-04T01:00:00\", \"2021-02-04T02:00:00\", \"2021-02-04T03:00:00\", \"2021-02-04T04:00:00\", \"2021-02-04T05:00:00\", \"2021-02-04T06:00:00\", \"2021-02-04T07:00:00\", \"2021-02-04T08:00:00\", \"2021-02-04T09:00:00\", \"2021-02-04T10:00:00\", \"2021-02-04T11:00:00\", \"2021-02-04T12:00:00\", \"2021-02-04T13:00:00\", \"2021-02-04T14:00:00\", \"2021-02-04T15:00:00\", \"2021-02-04T16:00:00\", \"2021-02-04T17:00:00\", \"2021-02-04T18:00:00\", \"2021-02-04T19:00:00\", \"2021-02-04T20:00:00\", \"2021-02-04T21:00:00\", \"2021-02-04T22:00:00\", \"2021-02-04T23:00:00\", \"2021-02-05T00:00:00\", \"2021-02-05T01:00:00\", \"2021-02-05T02:00:00\", \"2021-02-05T03:00:00\", \"2021-02-05T04:00:00\", \"2021-02-05T05:00:00\", \"2021-02-05T06:00:00\", \"2021-02-05T07:00:00\", \"2021-02-05T08:00:00\", \"2021-02-05T09:00:00\", \"2021-02-05T10:00:00\", \"2021-02-05T11:00:00\", \"2021-02-05T12:00:00\", \"2021-02-05T13:00:00\", \"2021-02-05T14:00:00\", \"2021-02-05T15:00:00\", \"2021-02-05T16:00:00\", \"2021-02-05T17:00:00\", \"2021-02-05T18:00:00\", \"2021-02-05T19:00:00\", \"2021-02-05T20:00:00\", \"2021-02-05T21:00:00\", \"2021-02-05T22:00:00\", \"2021-02-05T23:00:00\", \"2021-02-06T00:00:00\", \"2021-02-06T01:00:00\", \"2021-02-06T02:00:00\", \"2021-02-06T03:00:00\", \"2021-02-06T04:00:00\", \"2021-02-06T05:00:00\", \"2021-02-06T06:00:00\", \"2021-02-06T07:00:00\", \"2021-02-06T08:00:00\", \"2021-02-06T09:00:00\", \"2021-02-06T10:00:00\", \"2021-02-06T11:00:00\", \"2021-02-06T12:00:00\", \"2021-02-06T13:00:00\", \"2021-02-06T14:00:00\", \"2021-02-06T15:00:00\", \"2021-02-06T16:00:00\", \"2021-02-06T17:00:00\", \"2021-02-06T18:00:00\", \"2021-02-06T19:00:00\", \"2021-02-06T20:00:00\", \"2021-02-06T21:00:00\", \"2021-02-06T22:00:00\", \"2021-02-06T23:00:00\", \"2021-02-07T00:00:00\", \"2021-02-07T01:00:00\", \"2021-02-07T02:00:00\", \"2021-02-07T03:00:00\", \"2021-02-07T04:00:00\", \"2021-02-07T05:00:00\", \"2021-02-07T06:00:00\", \"2021-02-07T07:00:00\", \"2021-02-07T08:00:00\", \"2021-02-07T09:00:00\", \"2021-02-07T10:00:00\", \"2021-02-07T11:00:00\", \"2021-02-07T12:00:00\", \"2021-02-07T13:00:00\", \"2021-02-07T14:00:00\", \"2021-02-07T15:00:00\", \"2021-02-07T16:00:00\", \"2021-02-07T17:00:00\", \"2021-02-07T18:00:00\", \"2021-02-07T19:00:00\", \"2021-02-07T20:00:00\", \"2021-02-07T21:00:00\", \"2021-02-07T22:00:00\", \"2021-02-07T23:00:00\", \"2021-02-08T00:00:00\", \"2021-02-08T01:00:00\", \"2021-02-08T02:00:00\", \"2021-02-08T03:00:00\", \"2021-02-08T04:00:00\", \"2021-02-08T05:00:00\", \"2021-02-08T06:00:00\", \"2021-02-08T07:00:00\", \"2021-02-08T08:00:00\", \"2021-02-08T09:00:00\", \"2021-02-08T10:00:00\", \"2021-02-08T11:00:00\", \"2021-02-08T12:00:00\", \"2021-02-08T13:00:00\", \"2021-02-08T14:00:00\", \"2021-02-08T15:00:00\", \"2021-02-08T16:00:00\", \"2021-02-08T17:00:00\", \"2021-02-08T18:00:00\", \"2021-02-08T19:00:00\", \"2021-02-08T20:00:00\", \"2021-02-08T21:00:00\", \"2021-02-08T22:00:00\", \"2021-02-08T23:00:00\", \"2021-02-09T00:00:00\", \"2021-02-09T01:00:00\", \"2021-02-09T02:00:00\", \"2021-02-09T03:00:00\", \"2021-02-09T04:00:00\", \"2021-02-09T05:00:00\", \"2021-02-09T06:00:00\", \"2021-02-09T07:00:00\", \"2021-02-09T08:00:00\", \"2021-02-09T09:00:00\", \"2021-02-09T10:00:00\", \"2021-02-09T11:00:00\", \"2021-02-09T12:00:00\", \"2021-02-09T13:00:00\", \"2021-02-09T14:00:00\", \"2021-02-09T15:00:00\", \"2021-02-09T16:00:00\", \"2021-02-09T17:00:00\", \"2021-02-09T18:00:00\", \"2021-02-09T19:00:00\", \"2021-02-09T20:00:00\", \"2021-02-09T21:00:00\", \"2021-02-09T22:00:00\", \"2021-02-09T23:00:00\", \"2021-02-10T00:00:00\", \"2021-02-10T01:00:00\", \"2021-02-10T02:00:00\", \"2021-02-10T03:00:00\", \"2021-02-10T04:00:00\", \"2021-02-10T05:00:00\", \"2021-02-10T06:00:00\", \"2021-02-10T07:00:00\", \"2021-02-10T08:00:00\", \"2021-02-10T09:00:00\", \"2021-02-10T10:00:00\", \"2021-02-10T11:00:00\", \"2021-02-10T12:00:00\", \"2021-02-10T13:00:00\", \"2021-02-10T14:00:00\", \"2021-02-10T15:00:00\", \"2021-02-10T16:00:00\", \"2021-02-10T17:00:00\", \"2021-02-10T18:00:00\", \"2021-02-10T19:00:00\", \"2021-02-10T20:00:00\", \"2021-02-10T21:00:00\", \"2021-02-10T22:00:00\", \"2021-02-10T23:00:00\", \"2021-02-11T00:00:00\", \"2021-02-11T01:00:00\", \"2021-02-11T02:00:00\", \"2021-02-11T03:00:00\", \"2021-02-11T04:00:00\", \"2021-02-11T05:00:00\", \"2021-02-11T06:00:00\", \"2021-02-11T07:00:00\", \"2021-02-11T08:00:00\", \"2021-02-11T09:00:00\", \"2021-02-11T10:00:00\", \"2021-02-11T11:00:00\", \"2021-02-11T12:00:00\", \"2021-02-11T13:00:00\", \"2021-02-11T14:00:00\", \"2021-02-11T15:00:00\", \"2021-02-11T16:00:00\", \"2021-02-11T17:00:00\", \"2021-02-11T18:00:00\", \"2021-02-11T19:00:00\", \"2021-02-11T20:00:00\", \"2021-02-11T21:00:00\", \"2021-02-11T22:00:00\", \"2021-02-11T23:00:00\", \"2021-02-12T00:00:00\", \"2021-02-12T01:00:00\", \"2021-02-12T02:00:00\", \"2021-02-12T03:00:00\", \"2021-02-12T04:00:00\", \"2021-02-12T05:00:00\", \"2021-02-12T06:00:00\", \"2021-02-12T07:00:00\", \"2021-02-12T08:00:00\", \"2021-02-12T09:00:00\", \"2021-02-12T10:00:00\", \"2021-02-12T11:00:00\", \"2021-02-12T12:00:00\", \"2021-02-12T13:00:00\", \"2021-02-12T14:00:00\", \"2021-02-12T15:00:00\", \"2021-02-12T16:00:00\", \"2021-02-12T17:00:00\", \"2021-02-12T18:00:00\", \"2021-02-12T19:00:00\", \"2021-02-12T20:00:00\", \"2021-02-12T21:00:00\", \"2021-02-12T22:00:00\", \"2021-02-12T23:00:00\", \"2021-02-13T00:00:00\", \"2021-02-13T01:00:00\", \"2021-02-13T02:00:00\", \"2021-02-13T03:00:00\", \"2021-02-13T04:00:00\", \"2021-02-13T05:00:00\", \"2021-02-13T06:00:00\", \"2021-02-13T07:00:00\", \"2021-02-13T08:00:00\", \"2021-02-13T09:00:00\", \"2021-02-13T10:00:00\", \"2021-02-13T11:00:00\", \"2021-02-13T12:00:00\", \"2021-02-13T13:00:00\", \"2021-02-13T14:00:00\", \"2021-02-13T15:00:00\", \"2021-02-13T16:00:00\", \"2021-02-13T17:00:00\", \"2021-02-13T18:00:00\", \"2021-02-13T19:00:00\", \"2021-02-13T20:00:00\"], \"y\": [801.3909912109375, 5663.58642578125, 28804.9921875, 75504.5546875, 123441.8515625, 168810.96875, 224435.25, 247846.46875, 243496.984375, 253553.296875, 249615.984375, 245419.234375, 197019.234375, 102232.0546875, null, null, null, null, null, null, null, null, null, null, 10833.6328125, 9724.8203125, 27081.7109375, 77397.90625, 131266.265625, 173020.90625, 195882.015625, 222182.015625, 206332.578125, 212654.421875, 195587.125, 232039.265625, 197238.40625, 126172.46875, null, null, null, null, null, null, null, null, null, null, 8581.46875, 6273.86767578125, 26921.3203125, 81559.1484375, 163148.8125, 231720.078125, 278157.5, 324361.59375, 294357.34375, 276124.1875, 255028.953125, 271644.375, 222566.171875, 138268.671875, null, null, null, null, null, null, null, null, null, null, 6122.02392578125, 0.0, 20557.1015625, 75034.7578125, 145745.078125, 223826.0, 280083.21875, 310787.0, 309020.59375, 295418.71875, 270224.21875, 232696.734375, 185364.140625, 97728.6328125, null, null, null, null, null, null, null, null, null, null, 79.18006134033203, 0.0, 18536.0625, 78964.34375, 138247.34375, 197901.375, 253509.015625, 285843.40625, 301287.78125, 300842.90625, 281386.84375, 246016.609375, 192626.140625, 104998.1875, null, null, null, null, null, null, null, null, null, null, 1484.5394287109375, 0.0, 23953.8359375, 76823.953125, 137190.3125, 178752.71875, 214155.890625, 240838.015625, 264122.46875, 277398.375, 257373.1875, 218727.734375, 178259.359375, 101040.9921875, null, null, null, null, null, null, null, null, null, null, 587.5238037109375, 0.0, 11118.265625, 70904.03125, 150334.9375, 213108.25, 266205.4375, 290948.5625, 281076.0625, 293414.125, 302514.21875, 276225.28125, 221333.984375, 132046.15625, null, null, null, null, null, null, null, null, null, null, 3667.09423828125, 0.0, 19028.8203125, 73901.1171875, 149582.5, 194047.890625, 246287.40625, 281738.875, 271936.15625, 267462.71875, 252801.71875, 241668.140625, 203903.3125, 131139.28125, null, null, null, null, null, null, null, null, null, null, 0.0, 0.0, 16495.765625, 71680.6015625, 168319.171875, 220847.09375, 262383.78125, 284577.03125, 252583.75, 250469.9375, 245187.765625, 260707.8125, 204135.84375, 120481.8359375, null, null, null, null, null, null, null, null, null, null, 7010.03955078125, 3206.28955078125, 16944.4609375, 75728.15625, 154442.390625, 222657.375, 275696.0625, 304291.3125, 277220.90625, 275476.6875, 258030.28125, 268061.4375, 213141.21875, 119547.875, null, null, null, null, null, null, null, null, null, null, 7874.57861328125, 6622.64111328125, 21985.9296875, 66308.3515625, 138104.421875, 213433.375, 282009.09375, 320040.625, 326365.0, 320599.65625, 289748.1875, 224234.5, 184067.0625, 101749.5234375, null, null, null, null, null, null, null, null, null, null, 4173.48486328125, 0.0, 20379.28125, 67691.15625, 127816.3046875, 194973.8125, 247872.890625, 299051.625, 300664.28125, 295316.09375, 272330.59375, 249611.328125, 200521.09375, 97900.046875, null, null, null, null, null, null, null, null, null, null, 7475.00830078125, 0.0, 21483.59375, 75667.2421875, 148453.578125, 212583.796875, 271344.21875, 310323.4375, 322861.5, 327186.34375, 299527.0625, 267790.6875, 201128.109375, 112616.234375, null, null, null, null, null, null, null, null, null, null, 6872.03173828125, 435.5472412109375, 19967.7109375, 75196.8984375, 151937.890625, 216090.65625, 270460.3125, 300866.625, 312032.21875, 315388.5, 291592.78125, 266643.3125, 205420.234375, 122512.1640625, null, null, null, null, null, null, null, null, null, null, 20728.6796875, 7873.75830078125, 24649.9765625, 74105.8828125, 133220.953125, 184322.859375, 230607.0625, 267207.34375, 272705.875, 278990.625, 267556.75, 264353.96875, 220708.015625, 125163.703125, null, null, null, null, null, null, null, null, null, null, 21319.4609375, 0.0, 15169.3671875, 61519.703125, 120426.5703125, 183536.0, 209051.375, 228418.3125, 219097.046875, 231446.25, 225552.015625, 235140.796875, 192543.140625, 96335.546875, null, null, null, null, null, null, null, null, null, null, 24156.25, 2691.89892578125, 16186.0859375, 79546.328125, 134733.78125, 167292.890625, 201087.5625, 234314.21875, 239782.65625, 226903.296875, 215679.171875, 202945.53125, 168387.75, 95076.8828125, null, null, null, null, null, null, null, null, null, null, 27673.859375, 0.0, 0.0, 55303.58203125, 143040.984375, 212778.953125, 266423.78125, 257079.671875, 247843.296875, 232474.421875, 222324.78125, 208897.0625, 161530.796875, 82662.2890625, null, null, null, null, null, null, null, null, null, null, 18230.90625, 0.0, 10500.3359375, 67430.5390625, 141865.25, 199919.140625, 239032.375, 266913.15625, 276524.4375, 259829.59375, 266126.90625, 229852.90625, 193779.390625, 105196.6328125, null, null, null, null, null, null, null, null, null, null, 0.0, 0.0, 20709.7421875, 82641.40625, 153902.953125, 208725.90625, 256435.390625, 311568.25, 342091.8125, 328469.5, 298165.875, 266632.21875, 213705.875, 112256.203125, null, null, null, null, null, null, null, null, null, null, 11997.59375, 0.0, 20291.6484375, 84439.3203125, 180056.890625, 222048.265625, 276965.8125, 295145.71875, 297783.5625, 321082.8125, 323462.09375, 287764.6875, 238911.859375, 145359.171875, null, null, null, null, null, null, null, null, null, null, 7285.31298828125, 0.0, 14774.8671875, 65447.38671875, 135674.796875, 187583.53125, 231127.078125, 266457.375, 290013.34375, 292874.4375, 276525.09375, 249240.015625, 183932.0625, 97409.0390625, null, null, null, null, null, null, null, null, null, null, 4504.20361328125, 0.0, 7290.75830078125, 61373.8359375, 141341.328125, 204558.15625, 258913.828125, 290399.15625, 276827.96875, 279349.03125, 269995.5625, 267454.15625, 210250.96875, 108436.5703125, null, null, null, null, null, null, null, null, null, null, 13262.4453125, 0.0, 9455.4140625, 63413.0, 165661.171875, 241853.09375, 279039.5625, 296529.53125, 264215.3125, 271384.8125, 268072.1875, 263561.75, 209715.921875, 109506.625, null, null, null, null, null, null, null, null, null, null, 7316.71923828125, 0.0, 10704.515625, 61569.3125, 157330.65625, 242335.03125, 295289.96875, 319665.25, 310305.15625, 301203.96875, 297629.28125, 257780.21875, 198065.03125, 103782.2578125, null, null, null, null, null, null, null, null, null, null, 662.2113037109375, 0.0, 16106.8046875, 80206.5546875, 133994.078125, 186697.265625, 238327.59375, 283839.28125, 311747.5625, 300166.375, 260791.703125, 217241.53125, 184361.265625, 109391.25, null, null, null, null, null, null, null, null, null, null, 12165.703125, 0.0, 8049.72705078125, 60113.37109375, 137853.46875, 188400.125, 236705.421875, 274190.9375, 283426.46875, 283171.90625, 272926.34375, 243491.078125, 187798.234375, 96792.2265625, null, null, null, null, null, null, null, null, null, null, 0.0, 0.0, 11603.890625, 78303.015625, 140798.703125, 192620.6875, 241951.375, 263630.375, 276369.59375, 262619.03125, 246056.734375, 221860.671875, 160200.28125, 76195.875, null, null, null, null, null, null, null, null, null, null, 0.0, 0.0, 18373.7421875, 63906.48828125, 102970.171875, 143430.875, 187945.515625, 226204.921875, 240800.546875, 228468.703125, 207955.453125, 186065.421875, 142115.296875, 72500.765625, null, null, null, null, null, null, null, null, null, null, 0.0, 0.0, 11083.3359375, 10682.3984375, 18801.546875, 54705.671875, 80974.4140625, 86752.0234375, 118793.7421875, 99703.7890625, 72704.046875, 70640.0703125, 49267.34765625, 21527.53125, null, null, null, null, null, null, null, null, null, null, 0.0, 0.0, 0.0, 21501.8984375, 63002.3046875, 115788.6953125, 146600.375, 176666.90625, 197631.125, 182006.140625, 142165.96875, 137999.359375, 102199.15625, 50997.1953125, null, null, null, null, null, null, null, null, null, null, 0.0, 0.0, 2323.97705078125, 35460.25, 90312.390625, 153319.34375, 164732.4375, 157138.765625, 182928.203125, 173752.40625, 129209.0234375, 90285.6015625, 44813.3359375, 8948.9140625, null, null, null, null, null, null, null, null, null, null, 13290.3203125, 4420.10205078125, 19000.2265625, 61756.63671875, 119660.046875, 180493.671875, 228914.578125, 256617.296875, 266251.78125, 273990.125, 253450.328125, 210273.65625, 132479.0625, 43285.48828125, null, null, null, null, null, null, null, null, null, null, 23468.7734375, 0.0, 6675.59423828125, 65027.01953125, 138673.8125, 206206.171875, 264610.9375, 306239.28125, 315297.78125, 308423.53125, 279337.8125, 228551.078125, 176468.171875, 86436.40625, null, null, null, null, null, null, null, null, null, null, 9891.6796875, 0.0, 0.0, 49770.40625, 141965.25, 222938.734375, 263434.09375, 280155.96875, 299302.375, 296129.46875, 304946.6875, 273089.21875, 208816.34375, 84502.03125, null, null, null, null, null, null, null, null, null, null, 28634.9296875, 1475.0081787109375, 14652.8671875, 68846.8359375, 131877.625, 187846.078125, 221682.734375, 235195.203125, 246671.734375, 257493.359375, 257432.0, 237706.484375, 184490.578125, 90068.859375]}],                        {\"template\": {\"data\": {\"bar\": [{\"error_x\": {\"color\": \"#2a3f5f\"}, \"error_y\": {\"color\": \"#2a3f5f\"}, \"marker\": {\"line\": {\"color\": \"#E5ECF6\", \"width\": 0.5}}, \"type\": \"bar\"}], \"barpolar\": [{\"marker\": {\"line\": {\"color\": \"#E5ECF6\", \"width\": 0.5}}, \"type\": \"barpolar\"}], \"carpet\": [{\"aaxis\": {\"endlinecolor\": \"#2a3f5f\", \"gridcolor\": \"white\", \"linecolor\": \"white\", \"minorgridcolor\": \"white\", \"startlinecolor\": \"#2a3f5f\"}, \"baxis\": {\"endlinecolor\": \"#2a3f5f\", \"gridcolor\": \"white\", \"linecolor\": \"white\", \"minorgridcolor\": \"white\", \"startlinecolor\": \"#2a3f5f\"}, \"type\": \"carpet\"}], \"choropleth\": [{\"colorbar\": {\"outlinewidth\": 0, \"ticks\": \"\"}, \"type\": \"choropleth\"}], \"contour\": [{\"colorbar\": {\"outlinewidth\": 0, \"ticks\": \"\"}, \"colorscale\": [[0.0, \"#0d0887\"], [0.1111111111111111, \"#46039f\"], [0.2222222222222222, \"#7201a8\"], [0.3333333333333333, \"#9c179e\"], [0.4444444444444444, \"#bd3786\"], [0.5555555555555556, \"#d8576b\"], [0.6666666666666666, \"#ed7953\"], [0.7777777777777778, \"#fb9f3a\"], [0.8888888888888888, \"#fdca26\"], [1.0, \"#f0f921\"]], \"type\": \"contour\"}], \"contourcarpet\": [{\"colorbar\": {\"outlinewidth\": 0, \"ticks\": \"\"}, \"type\": \"contourcarpet\"}], \"heatmap\": [{\"colorbar\": {\"outlinewidth\": 0, \"ticks\": \"\"}, \"colorscale\": [[0.0, \"#0d0887\"], [0.1111111111111111, \"#46039f\"], [0.2222222222222222, \"#7201a8\"], [0.3333333333333333, \"#9c179e\"], [0.4444444444444444, \"#bd3786\"], [0.5555555555555556, \"#d8576b\"], [0.6666666666666666, \"#ed7953\"], [0.7777777777777778, \"#fb9f3a\"], [0.8888888888888888, \"#fdca26\"], [1.0, \"#f0f921\"]], \"type\": \"heatmap\"}], \"heatmapgl\": [{\"colorbar\": {\"outlinewidth\": 0, \"ticks\": \"\"}, \"colorscale\": [[0.0, \"#0d0887\"], [0.1111111111111111, \"#46039f\"], [0.2222222222222222, \"#7201a8\"], [0.3333333333333333, \"#9c179e\"], [0.4444444444444444, \"#bd3786\"], [0.5555555555555556, \"#d8576b\"], [0.6666666666666666, \"#ed7953\"], [0.7777777777777778, \"#fb9f3a\"], [0.8888888888888888, \"#fdca26\"], [1.0, \"#f0f921\"]], \"type\": \"heatmapgl\"}], \"histogram\": [{\"marker\": {\"colorbar\": {\"outlinewidth\": 0, \"ticks\": \"\"}}, \"type\": \"histogram\"}], \"histogram2d\": [{\"colorbar\": {\"outlinewidth\": 0, \"ticks\": \"\"}, \"colorscale\": [[0.0, \"#0d0887\"], [0.1111111111111111, \"#46039f\"], [0.2222222222222222, \"#7201a8\"], [0.3333333333333333, \"#9c179e\"], [0.4444444444444444, \"#bd3786\"], [0.5555555555555556, \"#d8576b\"], [0.6666666666666666, \"#ed7953\"], [0.7777777777777778, \"#fb9f3a\"], [0.8888888888888888, \"#fdca26\"], [1.0, \"#f0f921\"]], \"type\": \"histogram2d\"}], \"histogram2dcontour\": [{\"colorbar\": {\"outlinewidth\": 0, \"ticks\": \"\"}, \"colorscale\": [[0.0, \"#0d0887\"], [0.1111111111111111, \"#46039f\"], [0.2222222222222222, \"#7201a8\"], [0.3333333333333333, \"#9c179e\"], [0.4444444444444444, \"#bd3786\"], [0.5555555555555556, \"#d8576b\"], [0.6666666666666666, \"#ed7953\"], [0.7777777777777778, \"#fb9f3a\"], [0.8888888888888888, \"#fdca26\"], [1.0, \"#f0f921\"]], \"type\": \"histogram2dcontour\"}], \"mesh3d\": [{\"colorbar\": {\"outlinewidth\": 0, \"ticks\": \"\"}, \"type\": \"mesh3d\"}], \"parcoords\": [{\"line\": {\"colorbar\": {\"outlinewidth\": 0, \"ticks\": \"\"}}, \"type\": \"parcoords\"}], \"pie\": [{\"automargin\": true, \"type\": \"pie\"}], \"scatter\": [{\"marker\": {\"colorbar\": {\"outlinewidth\": 0, \"ticks\": \"\"}}, \"type\": \"scatter\"}], \"scatter3d\": [{\"line\": {\"colorbar\": {\"outlinewidth\": 0, \"ticks\": \"\"}}, \"marker\": {\"colorbar\": {\"outlinewidth\": 0, \"ticks\": \"\"}}, \"type\": \"scatter3d\"}], \"scattercarpet\": [{\"marker\": {\"colorbar\": {\"outlinewidth\": 0, \"ticks\": \"\"}}, \"type\": \"scattercarpet\"}], \"scattergeo\": [{\"marker\": {\"colorbar\": {\"outlinewidth\": 0, \"ticks\": \"\"}}, \"type\": \"scattergeo\"}], \"scattergl\": [{\"marker\": {\"colorbar\": {\"outlinewidth\": 0, \"ticks\": \"\"}}, \"type\": \"scattergl\"}], \"scattermapbox\": [{\"marker\": {\"colorbar\": {\"outlinewidth\": 0, \"ticks\": \"\"}}, \"type\": \"scattermapbox\"}], \"scatterpolar\": [{\"marker\": {\"colorbar\": {\"outlinewidth\": 0, \"ticks\": \"\"}}, \"type\": \"scatterpolar\"}], \"scatterpolargl\": [{\"marker\": {\"colorbar\": {\"outlinewidth\": 0, \"ticks\": \"\"}}, \"type\": \"scatterpolargl\"}], \"scatterternary\": [{\"marker\": {\"colorbar\": {\"outlinewidth\": 0, \"ticks\": \"\"}}, \"type\": \"scatterternary\"}], \"surface\": [{\"colorbar\": {\"outlinewidth\": 0, \"ticks\": \"\"}, \"colorscale\": [[0.0, \"#0d0887\"], [0.1111111111111111, \"#46039f\"], [0.2222222222222222, \"#7201a8\"], [0.3333333333333333, \"#9c179e\"], [0.4444444444444444, \"#bd3786\"], [0.5555555555555556, \"#d8576b\"], [0.6666666666666666, \"#ed7953\"], [0.7777777777777778, \"#fb9f3a\"], [0.8888888888888888, \"#fdca26\"], [1.0, \"#f0f921\"]], \"type\": \"surface\"}], \"table\": [{\"cells\": {\"fill\": {\"color\": \"#EBF0F8\"}, \"line\": {\"color\": \"white\"}}, \"header\": {\"fill\": {\"color\": \"#C8D4E3\"}, \"line\": {\"color\": \"white\"}}, \"type\": \"table\"}]}, \"layout\": {\"annotationdefaults\": {\"arrowcolor\": \"#2a3f5f\", \"arrowhead\": 0, \"arrowwidth\": 1}, \"autotypenumbers\": \"strict\", \"coloraxis\": {\"colorbar\": {\"outlinewidth\": 0, \"ticks\": \"\"}}, \"colorscale\": {\"diverging\": [[0, \"#8e0152\"], [0.1, \"#c51b7d\"], [0.2, \"#de77ae\"], [0.3, \"#f1b6da\"], [0.4, \"#fde0ef\"], [0.5, \"#f7f7f7\"], [0.6, \"#e6f5d0\"], [0.7, \"#b8e186\"], [0.8, \"#7fbc41\"], [0.9, \"#4d9221\"], [1, \"#276419\"]], \"sequential\": [[0.0, \"#0d0887\"], [0.1111111111111111, \"#46039f\"], [0.2222222222222222, \"#7201a8\"], [0.3333333333333333, \"#9c179e\"], [0.4444444444444444, \"#bd3786\"], [0.5555555555555556, \"#d8576b\"], [0.6666666666666666, \"#ed7953\"], [0.7777777777777778, \"#fb9f3a\"], [0.8888888888888888, \"#fdca26\"], [1.0, \"#f0f921\"]], \"sequentialminus\": [[0.0, \"#0d0887\"], [0.1111111111111111, \"#46039f\"], [0.2222222222222222, \"#7201a8\"], [0.3333333333333333, \"#9c179e\"], [0.4444444444444444, \"#bd3786\"], [0.5555555555555556, \"#d8576b\"], [0.6666666666666666, \"#ed7953\"], [0.7777777777777778, \"#fb9f3a\"], [0.8888888888888888, \"#fdca26\"], [1.0, \"#f0f921\"]]}, \"colorway\": [\"#636efa\", \"#EF553B\", \"#00cc96\", \"#ab63fa\", \"#FFA15A\", \"#19d3f3\", \"#FF6692\", \"#B6E880\", \"#FF97FF\", \"#FECB52\"], \"font\": {\"color\": \"#2a3f5f\"}, \"geo\": {\"bgcolor\": \"white\", \"lakecolor\": \"white\", \"landcolor\": \"#E5ECF6\", \"showlakes\": true, \"showland\": true, \"subunitcolor\": \"white\"}, \"hoverlabel\": {\"align\": \"left\"}, \"hovermode\": \"closest\", \"mapbox\": {\"style\": \"light\"}, \"paper_bgcolor\": \"white\", \"plot_bgcolor\": \"#E5ECF6\", \"polar\": {\"angularaxis\": {\"gridcolor\": \"white\", \"linecolor\": \"white\", \"ticks\": \"\"}, \"bgcolor\": \"#E5ECF6\", \"radialaxis\": {\"gridcolor\": \"white\", \"linecolor\": \"white\", \"ticks\": \"\"}}, \"scene\": {\"xaxis\": {\"backgroundcolor\": \"#E5ECF6\", \"gridcolor\": \"white\", \"gridwidth\": 2, \"linecolor\": \"white\", \"showbackground\": true, \"ticks\": \"\", \"zerolinecolor\": \"white\"}, \"yaxis\": {\"backgroundcolor\": \"#E5ECF6\", \"gridcolor\": \"white\", \"gridwidth\": 2, \"linecolor\": \"white\", \"showbackground\": true, \"ticks\": \"\", \"zerolinecolor\": \"white\"}, \"zaxis\": {\"backgroundcolor\": \"#E5ECF6\", \"gridcolor\": \"white\", \"gridwidth\": 2, \"linecolor\": \"white\", \"showbackground\": true, \"ticks\": \"\", \"zerolinecolor\": \"white\"}}, \"shapedefaults\": {\"line\": {\"color\": \"#2a3f5f\"}}, \"ternary\": {\"aaxis\": {\"gridcolor\": \"white\", \"linecolor\": \"white\", \"ticks\": \"\"}, \"baxis\": {\"gridcolor\": \"white\", \"linecolor\": \"white\", \"ticks\": \"\"}, \"bgcolor\": \"#E5ECF6\", \"caxis\": {\"gridcolor\": \"white\", \"linecolor\": \"white\", \"ticks\": \"\"}}, \"title\": {\"x\": 0.05}, \"xaxis\": {\"automargin\": true, \"gridcolor\": \"white\", \"linecolor\": \"white\", \"ticks\": \"\", \"title\": {\"standoff\": 15}, \"zerolinecolor\": \"white\", \"zerolinewidth\": 2}, \"yaxis\": {\"automargin\": true, \"gridcolor\": \"white\", \"linecolor\": \"white\", \"ticks\": \"\", \"title\": {\"standoff\": 15}, \"zerolinecolor\": \"white\", \"zerolinewidth\": 2}}}, \"yaxis\": {\"title\": {\"text\": \"Generation (kW)\"}}},                        {\"responsive\": true}                    ).then(function(){\n",
       "                            \n",
       "var gd = document.getElementById('e3779892-e512-4adf-98a1-fafe3a5031be');\n",
       "var x = new MutationObserver(function (mutations, observer) {{\n",
       "        var display = window.getComputedStyle(gd).display;\n",
       "        if (!display || display === 'none') {{\n",
       "            console.log([gd, 'removed!']);\n",
       "            Plotly.purge(gd);\n",
       "            observer.disconnect();\n",
       "        }}\n",
       "}});\n",
       "\n",
       "// Listen for the removal of the full notebook cells\n",
       "var notebookContainer = gd.closest('#notebook-container');\n",
       "if (notebookContainer) {{\n",
       "    x.observe(notebookContainer, {childList: true});\n",
       "}}\n",
       "\n",
       "// Listen for the clearing of the current output cell\n",
       "var outputEl = gd.closest('.output');\n",
       "if (outputEl) {{\n",
       "    x.observe(outputEl, {childList: true});\n",
       "}}\n",
       "\n",
       "                        })                };                });            </script>        </div>"
      ]
     },
     "metadata": {},
     "output_type": "display_data"
    }
   ],
   "source": [
    "fig = go.Figure()\n",
    "\n",
    "fig.add_trace(go.Scatter(x = PC_only_TCN3_df.index, y = PC_only_TCN3_df['power'], name = 'target generation'))\n",
    "# fig.add_trace(go.Scatter(x = model1_fc.index, y = arima['average_fc'], name = 'arima'))\n",
    "# fig.add_trace(go.Scatter(x = model1_fc.index, y = model1_fc['fc'], name = 'Combine Grid+PC CNN forecasts'))\n",
    "# fig.add_trace(go.Scatter(x = model1_fc.index, y = model3_fc['fc'], name = 'Combine PC NN forecasts'))\n",
    "# fig.add_trace(go.Scatter(x = model1_fc.index, y = model4_fc['fc'], name = 'Combine Grid+PC NN forecasts'))\n",
    "# fig.add_trace(go.Scatter(x = model1_fc.index, y = model5_fc['fc'], name = 'Combine PC NN Dense forecasts'))\n",
    "# fig.add_trace(go.Scatter(x = model1_fc.index, y = model6_fc['fc'], name = 'new features'))\n",
    "\n",
    "\n",
    "# fig.add_trace(go.Scatter(x = model1_fc.index, y = model9_fc['fc'], name = 'Removing Grid + Local Conv Stage'))\n",
    "# fig.add_trace(go.Scatter(x = model1_fc.index, y = model11_fc['fc'], name = 'Full Pipeline'))\n",
    "# fig.add_trace(go.Scatter(x = model1_fc.index, y = modelgrid_fc['fc'], name = 'Grid Only'))\n",
    "# fig.add_trace(go.Scatter(x = model1_fc.index, y = modelres['fc'], name = 'Residual'))\n",
    "# fig.add_trace(go.Scatter(x = model1_fc.index, y = modelres2['fc'], name = 'Residual2'))\n",
    "# fig.add_trace(go.Scatter(x = model1_fc.index, y = modelresblock['fc'], name = 'Res block Fully'))\n",
    "# fig.add_trace(go.Scatter(x = model1_fc.index, y = modelresblock2['fc'], name = 'Res block Conv'))\n",
    "# fig.add_trace(go.Scatter(x = model1_fc.index, y = local_conv_df['fc'], name = 'Local Conv + Grid Per PC'))\n",
    "# fig.add_trace(go.Scatter(x = model1_fc.index, y = local_conv_with_grid_TCN_df['fc'], name = 'Local Conv +TCN'))\n",
    "# fig.add_trace(go.Scatter(x = model1_fc.index, y = last_res_conv_with_grid_TCN_df['fc'], name = 'Last res +TCN'))\n",
    "\n",
    "fig.add_trace(go.Scatter(x = PC_only_TCN3_df.index, y = PC_only_TCN3_df['fc'], name = 'PC'))\n",
    "\n",
    "\n",
    "\n",
    "\n",
    "\n",
    "\n",
    "\n",
    "# fig.add_trace(go.Scatter(x = model1_fc.index, y = model8_fc['fc'], name = 'new features less cnn with relu'))\n",
    "# fig.add_trace(go.Scatter(x = model1_fc.index, y = model9_fc['fc'], name = 'model 9'))\n",
    "\n",
    "\n",
    "\n",
    "fig.update_yaxes(title = \"Generation (kW)\")\n",
    "fig.show()\n",
    "# fig.write_html('forecasts.html')"
   ]
  },
  {
   "cell_type": "markdown",
   "id": "embedded-electronics",
   "metadata": {},
   "source": [
    "## Visualize Network Architecture"
   ]
  },
  {
   "cell_type": "markdown",
   "id": "782a9bff",
   "metadata": {},
   "source": [
    "Moving Visulaisation to Colab"
   ]
  },
  {
   "cell_type": "code",
   "execution_count": 8,
   "id": "following-klein",
   "metadata": {},
   "outputs": [],
   "source": [
    "from keras.utils.vis_utils import plot_model\n",
    "import tensorflow as tf"
   ]
  },
  {
   "cell_type": "code",
   "execution_count": 9,
   "id": "discrete-rider",
   "metadata": {},
   "outputs": [
    {
     "name": "stdout",
     "output_type": "stream",
     "text": [
      "WARNING:tensorflow:SavedModel saved prior to TF 2.5 detected when loading Keras model. Please ensure that you are saving the model with model.save() or tf.keras.models.save_model(), *NOT* tf.saved_model.save(). To confirm, there should be a file named \"keras_metadata.pb\" in the SavedModel directory.\n"
     ]
    }
   ],
   "source": [
    "full_pipeline = tf.keras.models.load_model('../combined_nn_results/spartan_folders/saved_models/model11')"
   ]
  },
  {
   "cell_type": "code",
   "execution_count": 10,
   "id": "4f358730",
   "metadata": {},
   "outputs": [
    {
     "name": "stdout",
     "output_type": "stream",
     "text": [
      "Model: \"functional_13\"\n",
      "__________________________________________________________________________________________________\n",
      "Layer (type)                    Output Shape         Param #     Connected to                     \n",
      "==================================================================================================\n",
      "input_postcode_6010 (InputLayer [(None, 14, 14)]     0                                            \n",
      "__________________________________________________________________________________________________\n",
      "input_postcode_6014 (InputLayer [(None, 14, 14)]     0                                            \n",
      "__________________________________________________________________________________________________\n",
      "input_postcode_6011 (InputLayer [(None, 14, 14)]     0                                            \n",
      "__________________________________________________________________________________________________\n",
      "input_postcode_6280 (InputLayer [(None, 14, 14)]     0                                            \n",
      "__________________________________________________________________________________________________\n",
      "input_postcode_6281 (InputLayer [(None, 14, 14)]     0                                            \n",
      "__________________________________________________________________________________________________\n",
      "input_postcode_6284 (InputLayer [(None, 14, 14)]     0                                            \n",
      "__________________________________________________________________________________________________\n",
      "cnn1_postcode_6010 (Conv1D)     (None, 14, 32)       1824        input_postcode_6010[0][0]        \n",
      "__________________________________________________________________________________________________\n",
      "cnn1_postcode_6014 (Conv1D)     (None, 14, 32)       1824        input_postcode_6014[0][0]        \n",
      "__________________________________________________________________________________________________\n",
      "cnn1_postcode_6011 (Conv1D)     (None, 14, 32)       1824        input_postcode_6011[0][0]        \n",
      "__________________________________________________________________________________________________\n",
      "cnn1_postcode_6280 (Conv1D)     (None, 14, 32)       1824        input_postcode_6280[0][0]        \n",
      "__________________________________________________________________________________________________\n",
      "cnn1_postcode_6281 (Conv1D)     (None, 14, 32)       1824        input_postcode_6281[0][0]        \n",
      "__________________________________________________________________________________________________\n",
      "cnn1_postcode_6284 (Conv1D)     (None, 14, 32)       1824        input_postcode_6284[0][0]        \n",
      "__________________________________________________________________________________________________\n",
      "input_grid (InputLayer)         [(None, 14, 7)]      0                                            \n",
      "__________________________________________________________________________________________________\n",
      "max_pooling1d (MaxPooling1D)    (None, 14, 32)       0           cnn1_postcode_6010[0][0]         \n",
      "__________________________________________________________________________________________________\n",
      "max_pooling1d_1 (MaxPooling1D)  (None, 14, 32)       0           cnn1_postcode_6014[0][0]         \n",
      "__________________________________________________________________________________________________\n",
      "max_pooling1d_2 (MaxPooling1D)  (None, 14, 32)       0           cnn1_postcode_6011[0][0]         \n",
      "__________________________________________________________________________________________________\n",
      "max_pooling1d_3 (MaxPooling1D)  (None, 14, 32)       0           cnn1_postcode_6280[0][0]         \n",
      "__________________________________________________________________________________________________\n",
      "max_pooling1d_4 (MaxPooling1D)  (None, 14, 32)       0           cnn1_postcode_6281[0][0]         \n",
      "__________________________________________________________________________________________________\n",
      "max_pooling1d_5 (MaxPooling1D)  (None, 14, 32)       0           cnn1_postcode_6284[0][0]         \n",
      "__________________________________________________________________________________________________\n",
      "concatenate (Concatenate)       (None, 14, 199)      0           input_grid[0][0]                 \n",
      "                                                                 max_pooling1d[0][0]              \n",
      "                                                                 max_pooling1d_1[0][0]            \n",
      "                                                                 max_pooling1d_2[0][0]            \n",
      "                                                                 max_pooling1d_3[0][0]            \n",
      "                                                                 max_pooling1d_4[0][0]            \n",
      "                                                                 max_pooling1d_5[0][0]            \n",
      "__________________________________________________________________________________________________\n",
      "conv1d (Conv1D)                 (None, 11, 32)       25504       concatenate[0][0]                \n",
      "__________________________________________________________________________________________________\n",
      "conv1d_1 (Conv1D)               (None, 8, 32)        4128        conv1d[0][0]                     \n",
      "__________________________________________________________________________________________________\n",
      "max_pooling1d_6 (MaxPooling1D)  (None, 4, 32)        0           conv1d_1[0][0]                   \n",
      "__________________________________________________________________________________________________\n",
      "flatten_combined (Flatten)      (None, 128)          0           max_pooling1d_6[0][0]            \n",
      "__________________________________________________________________________________________________\n",
      "dense (Dense)                   (None, 14)           1806        flatten_combined[0][0]           \n",
      "==================================================================================================\n",
      "Total params: 42,382\n",
      "Trainable params: 42,382\n",
      "Non-trainable params: 0\n",
      "__________________________________________________________________________________________________\n"
     ]
    }
   ],
   "source": [
    "full_pipeline.summary()"
   ]
  },
  {
   "cell_type": "code",
   "execution_count": 12,
   "id": "domestic-german",
   "metadata": {},
   "outputs": [
    {
     "name": "stdout",
     "output_type": "stream",
     "text": [
      "('You must install pydot (`pip install pydot`) and install graphviz (see instructions at https://graphviz.gitlab.io/download/) ', 'for plot_model/model_to_dot to work.')\n"
     ]
    }
   ],
   "source": [
    "plot_model(full_pipeline, show_shapes=True)"
   ]
  }
 ],
 "metadata": {
  "kernelspec": {
   "display_name": "Python 3",
   "language": "python",
   "name": "python3"
  },
  "language_info": {
   "codemirror_mode": {
    "name": "ipython",
    "version": 3
   },
   "file_extension": ".py",
   "mimetype": "text/x-python",
   "name": "python",
   "nbconvert_exporter": "python",
   "pygments_lexer": "ipython3",
   "version": "3.8.10"
  }
 },
 "nbformat": 4,
 "nbformat_minor": 5
}
