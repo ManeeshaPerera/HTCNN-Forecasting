{
 "cells": [
  {
   "cell_type": "code",
   "execution_count": 33,
   "id": "sought-hunger",
   "metadata": {},
   "outputs": [],
   "source": [
    "import pandas as pd\n",
    "import sys\n",
    "sys.path.insert(0, '../')\n",
    "import constants as const\n",
    "import src.utils as util\n",
    "import src.calculate_errors as err"
   ]
  },
  {
   "cell_type": "code",
   "execution_count": 5,
   "id": "comic-rehabilitation",
   "metadata": {},
   "outputs": [
    {
     "data": {
      "text/html": [
       "        <script type=\"text/javascript\">\n",
       "        window.PlotlyConfig = {MathJaxConfig: 'local'};\n",
       "        if (window.MathJax) {MathJax.Hub.Config({SVG: {font: \"STIX-Web\"}});}\n",
       "        if (typeof require !== 'undefined') {\n",
       "        require.undef(\"plotly\");\n",
       "        requirejs.config({\n",
       "            paths: {\n",
       "                'plotly': ['https://cdn.plot.ly/plotly-latest.min']\n",
       "            }\n",
       "        });\n",
       "        require(['plotly'], function(Plotly) {\n",
       "            window._Plotly = Plotly;\n",
       "        });\n",
       "        }\n",
       "        </script>\n",
       "        "
      ]
     },
     "metadata": {},
     "output_type": "display_data"
    }
   ],
   "source": [
    "import plotly.graph_objs as go\n",
    "from plotly.offline import init_notebook_mode, iplot\n",
    "init_notebook_mode(connected=True)"
   ]
  },
  {
   "cell_type": "code",
   "execution_count": 3,
   "id": "obvious-graham",
   "metadata": {},
   "outputs": [],
   "source": [
    "lstm_iter_results = pd.read_csv('../lstm_new_results/rmse.csv')"
   ]
  },
  {
   "cell_type": "code",
   "execution_count": 4,
   "id": "desirable-cabinet",
   "metadata": {},
   "outputs": [
    {
     "data": {
      "text/html": [
       "<div>\n",
       "<style scoped>\n",
       "    .dataframe tbody tr th:only-of-type {\n",
       "        vertical-align: middle;\n",
       "    }\n",
       "\n",
       "    .dataframe tbody tr th {\n",
       "        vertical-align: top;\n",
       "    }\n",
       "\n",
       "    .dataframe thead th {\n",
       "        text-align: right;\n",
       "    }\n",
       "</style>\n",
       "<table border=\"1\" class=\"dataframe\">\n",
       "  <thead>\n",
       "    <tr style=\"text-align: right;\">\n",
       "      <th></th>\n",
       "      <th>Unnamed: 0</th>\n",
       "      <th>Grid</th>\n",
       "      <th>TL - Aggregated</th>\n",
       "      <th>SUB - Aggregated</th>\n",
       "      <th>PC - Aggregated</th>\n",
       "      <th>Site - Aggregated</th>\n",
       "    </tr>\n",
       "  </thead>\n",
       "  <tbody>\n",
       "    <tr>\n",
       "      <th>0</th>\n",
       "      <td>32_3_0.001_1</td>\n",
       "      <td>0.461</td>\n",
       "      <td>0.455</td>\n",
       "      <td>0.447</td>\n",
       "      <td>0.342</td>\n",
       "      <td>0.342</td>\n",
       "    </tr>\n",
       "    <tr>\n",
       "      <th>1</th>\n",
       "      <td>32_3_0.001_3</td>\n",
       "      <td>0.440</td>\n",
       "      <td>0.448</td>\n",
       "      <td>0.491</td>\n",
       "      <td>0.357</td>\n",
       "      <td>0.355</td>\n",
       "    </tr>\n",
       "    <tr>\n",
       "      <th>2</th>\n",
       "      <td>32_3_0.001_7</td>\n",
       "      <td>0.465</td>\n",
       "      <td>0.446</td>\n",
       "      <td>0.472</td>\n",
       "      <td>0.373</td>\n",
       "      <td>0.363</td>\n",
       "    </tr>\n",
       "    <tr>\n",
       "      <th>3</th>\n",
       "      <td>32_3_0.0001_1</td>\n",
       "      <td>0.484</td>\n",
       "      <td>0.479</td>\n",
       "      <td>0.465</td>\n",
       "      <td>0.416</td>\n",
       "      <td>0.376</td>\n",
       "    </tr>\n",
       "    <tr>\n",
       "      <th>4</th>\n",
       "      <td>32_3_0.0001_3</td>\n",
       "      <td>0.451</td>\n",
       "      <td>0.441</td>\n",
       "      <td>0.454</td>\n",
       "      <td>0.452</td>\n",
       "      <td>0.485</td>\n",
       "    </tr>\n",
       "  </tbody>\n",
       "</table>\n",
       "</div>"
      ],
      "text/plain": [
       "      Unnamed: 0   Grid  TL - Aggregated  SUB - Aggregated  PC - Aggregated  \\\n",
       "0   32_3_0.001_1  0.461            0.455             0.447            0.342   \n",
       "1   32_3_0.001_3  0.440            0.448             0.491            0.357   \n",
       "2   32_3_0.001_7  0.465            0.446             0.472            0.373   \n",
       "3  32_3_0.0001_1  0.484            0.479             0.465            0.416   \n",
       "4  32_3_0.0001_3  0.451            0.441             0.454            0.452   \n",
       "\n",
       "   Site - Aggregated  \n",
       "0              0.342  \n",
       "1              0.355  \n",
       "2              0.363  \n",
       "3              0.376  \n",
       "4              0.485  "
      ]
     },
     "execution_count": 4,
     "metadata": {},
     "output_type": "execute_result"
    }
   ],
   "source": [
    "lstm_iter_results.head()"
   ]
  },
  {
   "cell_type": "code",
   "execution_count": 19,
   "id": "apart-bikini",
   "metadata": {},
   "outputs": [],
   "source": [
    "fig = go.Figure()\n",
    "\n",
    "for col in lstm_iter_results.columns[1:]:\n",
    "    fig.add_trace(go.Scatter(x= lstm_iter_results['Unnamed: 0'], y=lstm_iter_results[col],  mode='markers', name=col))"
   ]
  },
  {
   "cell_type": "code",
   "execution_count": 20,
   "id": "sitting-death",
   "metadata": {},
   "outputs": [
    {
     "data": {
      "application/vnd.plotly.v1+json": {
       "config": {
        "plotlyServerURL": "https://plot.ly"
       },
       "data": [
        {
         "mode": "markers",
         "name": "Grid",
         "type": "scatter",
         "x": [
          "32_3_0.001_1",
          "32_3_0.001_3",
          "32_3_0.001_7",
          "32_3_0.0001_1",
          "32_3_0.0001_3",
          "32_3_0.0001_7",
          "32_5_0.001_1",
          "32_5_0.001_3",
          "32_5_0.001_7",
          "32_5_0.0001_1",
          "32_5_0.0001_3",
          "32_5_0.0001_7",
          "64_3_0.001_1",
          "64_3_0.001_3",
          "64_3_0.001_7",
          "64_3_0.0001_1",
          "64_3_0.0001_3",
          "64_3_0.0001_7",
          "64_5_0.001_1",
          "64_5_0.001_3",
          "64_5_0.001_7",
          "64_5_0.0001_1",
          "64_5_0.0001_3",
          "64_5_0.0001_7"
         ],
         "y": [
          0.461,
          0.44,
          0.465,
          0.484,
          0.451,
          0.456,
          0.484,
          1.072,
          0.529,
          0.496,
          0.652,
          0.517,
          0.463,
          0.518,
          0.5,
          0.472,
          0.458,
          0.666,
          0.492,
          1.269,
          0.51,
          0.5,
          0.516,
          0.498
         ]
        },
        {
         "mode": "markers",
         "name": "TL - Aggregated",
         "type": "scatter",
         "x": [
          "32_3_0.001_1",
          "32_3_0.001_3",
          "32_3_0.001_7",
          "32_3_0.0001_1",
          "32_3_0.0001_3",
          "32_3_0.0001_7",
          "32_5_0.001_1",
          "32_5_0.001_3",
          "32_5_0.001_7",
          "32_5_0.0001_1",
          "32_5_0.0001_3",
          "32_5_0.0001_7",
          "64_3_0.001_1",
          "64_3_0.001_3",
          "64_3_0.001_7",
          "64_3_0.0001_1",
          "64_3_0.0001_3",
          "64_3_0.0001_7",
          "64_5_0.001_1",
          "64_5_0.001_3",
          "64_5_0.001_7",
          "64_5_0.0001_1",
          "64_5_0.0001_3",
          "64_5_0.0001_7"
         ],
         "y": [
          0.455,
          0.448,
          0.446,
          0.479,
          0.441,
          0.459,
          0.487,
          0.569,
          0.493,
          0.515,
          0.581,
          0.468,
          0.537,
          0.466,
          0.483,
          0.451,
          0.451,
          0.444,
          0.541,
          1.01,
          0.461,
          0.495,
          0.489,
          0.529
         ]
        },
        {
         "mode": "markers",
         "name": "SUB - Aggregated",
         "type": "scatter",
         "x": [
          "32_3_0.001_1",
          "32_3_0.001_3",
          "32_3_0.001_7",
          "32_3_0.0001_1",
          "32_3_0.0001_3",
          "32_3_0.0001_7",
          "32_5_0.001_1",
          "32_5_0.001_3",
          "32_5_0.001_7",
          "32_5_0.0001_1",
          "32_5_0.0001_3",
          "32_5_0.0001_7",
          "64_3_0.001_1",
          "64_3_0.001_3",
          "64_3_0.001_7",
          "64_3_0.0001_1",
          "64_3_0.0001_3",
          "64_3_0.0001_7",
          "64_5_0.001_1",
          "64_5_0.001_3",
          "64_5_0.001_7",
          "64_5_0.0001_1",
          "64_5_0.0001_3",
          "64_5_0.0001_7"
         ],
         "y": [
          0.447,
          0.491,
          0.472,
          0.465,
          0.454,
          0.48,
          0.483,
          0.642,
          0.754,
          0.513,
          0.54,
          0.484,
          0.488,
          0.458,
          0.441,
          0.453,
          0.467,
          0.455,
          0.513,
          0.96,
          0.463,
          0.488,
          0.505,
          0.477
         ]
        },
        {
         "mode": "markers",
         "name": "PC - Aggregated",
         "type": "scatter",
         "x": [
          "32_3_0.001_1",
          "32_3_0.001_3",
          "32_3_0.001_7",
          "32_3_0.0001_1",
          "32_3_0.0001_3",
          "32_3_0.0001_7",
          "32_5_0.001_1",
          "32_5_0.001_3",
          "32_5_0.001_7",
          "32_5_0.0001_1",
          "32_5_0.0001_3",
          "32_5_0.0001_7",
          "64_3_0.001_1",
          "64_3_0.001_3",
          "64_3_0.001_7",
          "64_3_0.0001_1",
          "64_3_0.0001_3",
          "64_3_0.0001_7",
          "64_5_0.001_1",
          "64_5_0.001_3",
          "64_5_0.001_7",
          "64_5_0.0001_1",
          "64_5_0.0001_3",
          "64_5_0.0001_7"
         ],
         "y": [
          0.342,
          0.357,
          0.373,
          0.416,
          0.452,
          0.395,
          0.403,
          0.52,
          0.643,
          0.44,
          0.551,
          0.494,
          0.389,
          0.349,
          0.364,
          0.385,
          0.472,
          0.385,
          0.461,
          0.955,
          1.056,
          0.429,
          0.53,
          0.498
         ]
        },
        {
         "mode": "markers",
         "name": "Site - Aggregated",
         "type": "scatter",
         "x": [
          "32_3_0.001_1",
          "32_3_0.001_3",
          "32_3_0.001_7",
          "32_3_0.0001_1",
          "32_3_0.0001_3",
          "32_3_0.0001_7",
          "32_5_0.001_1",
          "32_5_0.001_3",
          "32_5_0.001_7",
          "32_5_0.0001_1",
          "32_5_0.0001_3",
          "32_5_0.0001_7",
          "64_3_0.001_1",
          "64_3_0.001_3",
          "64_3_0.001_7",
          "64_3_0.0001_1",
          "64_3_0.0001_3",
          "64_3_0.0001_7",
          "64_5_0.001_1",
          "64_5_0.001_3",
          "64_5_0.001_7",
          "64_5_0.0001_1",
          "64_5_0.0001_3",
          "64_5_0.0001_7"
         ],
         "y": [
          0.342,
          0.355,
          0.363,
          0.376,
          0.485,
          0.422,
          0.39,
          0.545,
          0.539,
          0.432,
          0.515,
          0.54,
          0.349,
          0.341,
          0.332,
          0.38,
          0.458,
          0.401,
          0.392,
          0.663,
          0.882,
          0.403,
          0.524,
          0.557
         ]
        }
       ],
       "layout": {
        "template": {
         "data": {
          "bar": [
           {
            "error_x": {
             "color": "#2a3f5f"
            },
            "error_y": {
             "color": "#2a3f5f"
            },
            "marker": {
             "line": {
              "color": "#E5ECF6",
              "width": 0.5
             }
            },
            "type": "bar"
           }
          ],
          "barpolar": [
           {
            "marker": {
             "line": {
              "color": "#E5ECF6",
              "width": 0.5
             }
            },
            "type": "barpolar"
           }
          ],
          "carpet": [
           {
            "aaxis": {
             "endlinecolor": "#2a3f5f",
             "gridcolor": "white",
             "linecolor": "white",
             "minorgridcolor": "white",
             "startlinecolor": "#2a3f5f"
            },
            "baxis": {
             "endlinecolor": "#2a3f5f",
             "gridcolor": "white",
             "linecolor": "white",
             "minorgridcolor": "white",
             "startlinecolor": "#2a3f5f"
            },
            "type": "carpet"
           }
          ],
          "choropleth": [
           {
            "colorbar": {
             "outlinewidth": 0,
             "ticks": ""
            },
            "type": "choropleth"
           }
          ],
          "contour": [
           {
            "colorbar": {
             "outlinewidth": 0,
             "ticks": ""
            },
            "colorscale": [
             [
              0,
              "#0d0887"
             ],
             [
              0.1111111111111111,
              "#46039f"
             ],
             [
              0.2222222222222222,
              "#7201a8"
             ],
             [
              0.3333333333333333,
              "#9c179e"
             ],
             [
              0.4444444444444444,
              "#bd3786"
             ],
             [
              0.5555555555555556,
              "#d8576b"
             ],
             [
              0.6666666666666666,
              "#ed7953"
             ],
             [
              0.7777777777777778,
              "#fb9f3a"
             ],
             [
              0.8888888888888888,
              "#fdca26"
             ],
             [
              1,
              "#f0f921"
             ]
            ],
            "type": "contour"
           }
          ],
          "contourcarpet": [
           {
            "colorbar": {
             "outlinewidth": 0,
             "ticks": ""
            },
            "type": "contourcarpet"
           }
          ],
          "heatmap": [
           {
            "colorbar": {
             "outlinewidth": 0,
             "ticks": ""
            },
            "colorscale": [
             [
              0,
              "#0d0887"
             ],
             [
              0.1111111111111111,
              "#46039f"
             ],
             [
              0.2222222222222222,
              "#7201a8"
             ],
             [
              0.3333333333333333,
              "#9c179e"
             ],
             [
              0.4444444444444444,
              "#bd3786"
             ],
             [
              0.5555555555555556,
              "#d8576b"
             ],
             [
              0.6666666666666666,
              "#ed7953"
             ],
             [
              0.7777777777777778,
              "#fb9f3a"
             ],
             [
              0.8888888888888888,
              "#fdca26"
             ],
             [
              1,
              "#f0f921"
             ]
            ],
            "type": "heatmap"
           }
          ],
          "heatmapgl": [
           {
            "colorbar": {
             "outlinewidth": 0,
             "ticks": ""
            },
            "colorscale": [
             [
              0,
              "#0d0887"
             ],
             [
              0.1111111111111111,
              "#46039f"
             ],
             [
              0.2222222222222222,
              "#7201a8"
             ],
             [
              0.3333333333333333,
              "#9c179e"
             ],
             [
              0.4444444444444444,
              "#bd3786"
             ],
             [
              0.5555555555555556,
              "#d8576b"
             ],
             [
              0.6666666666666666,
              "#ed7953"
             ],
             [
              0.7777777777777778,
              "#fb9f3a"
             ],
             [
              0.8888888888888888,
              "#fdca26"
             ],
             [
              1,
              "#f0f921"
             ]
            ],
            "type": "heatmapgl"
           }
          ],
          "histogram": [
           {
            "marker": {
             "colorbar": {
              "outlinewidth": 0,
              "ticks": ""
             }
            },
            "type": "histogram"
           }
          ],
          "histogram2d": [
           {
            "colorbar": {
             "outlinewidth": 0,
             "ticks": ""
            },
            "colorscale": [
             [
              0,
              "#0d0887"
             ],
             [
              0.1111111111111111,
              "#46039f"
             ],
             [
              0.2222222222222222,
              "#7201a8"
             ],
             [
              0.3333333333333333,
              "#9c179e"
             ],
             [
              0.4444444444444444,
              "#bd3786"
             ],
             [
              0.5555555555555556,
              "#d8576b"
             ],
             [
              0.6666666666666666,
              "#ed7953"
             ],
             [
              0.7777777777777778,
              "#fb9f3a"
             ],
             [
              0.8888888888888888,
              "#fdca26"
             ],
             [
              1,
              "#f0f921"
             ]
            ],
            "type": "histogram2d"
           }
          ],
          "histogram2dcontour": [
           {
            "colorbar": {
             "outlinewidth": 0,
             "ticks": ""
            },
            "colorscale": [
             [
              0,
              "#0d0887"
             ],
             [
              0.1111111111111111,
              "#46039f"
             ],
             [
              0.2222222222222222,
              "#7201a8"
             ],
             [
              0.3333333333333333,
              "#9c179e"
             ],
             [
              0.4444444444444444,
              "#bd3786"
             ],
             [
              0.5555555555555556,
              "#d8576b"
             ],
             [
              0.6666666666666666,
              "#ed7953"
             ],
             [
              0.7777777777777778,
              "#fb9f3a"
             ],
             [
              0.8888888888888888,
              "#fdca26"
             ],
             [
              1,
              "#f0f921"
             ]
            ],
            "type": "histogram2dcontour"
           }
          ],
          "mesh3d": [
           {
            "colorbar": {
             "outlinewidth": 0,
             "ticks": ""
            },
            "type": "mesh3d"
           }
          ],
          "parcoords": [
           {
            "line": {
             "colorbar": {
              "outlinewidth": 0,
              "ticks": ""
             }
            },
            "type": "parcoords"
           }
          ],
          "pie": [
           {
            "automargin": true,
            "type": "pie"
           }
          ],
          "scatter": [
           {
            "marker": {
             "colorbar": {
              "outlinewidth": 0,
              "ticks": ""
             }
            },
            "type": "scatter"
           }
          ],
          "scatter3d": [
           {
            "line": {
             "colorbar": {
              "outlinewidth": 0,
              "ticks": ""
             }
            },
            "marker": {
             "colorbar": {
              "outlinewidth": 0,
              "ticks": ""
             }
            },
            "type": "scatter3d"
           }
          ],
          "scattercarpet": [
           {
            "marker": {
             "colorbar": {
              "outlinewidth": 0,
              "ticks": ""
             }
            },
            "type": "scattercarpet"
           }
          ],
          "scattergeo": [
           {
            "marker": {
             "colorbar": {
              "outlinewidth": 0,
              "ticks": ""
             }
            },
            "type": "scattergeo"
           }
          ],
          "scattergl": [
           {
            "marker": {
             "colorbar": {
              "outlinewidth": 0,
              "ticks": ""
             }
            },
            "type": "scattergl"
           }
          ],
          "scattermapbox": [
           {
            "marker": {
             "colorbar": {
              "outlinewidth": 0,
              "ticks": ""
             }
            },
            "type": "scattermapbox"
           }
          ],
          "scatterpolar": [
           {
            "marker": {
             "colorbar": {
              "outlinewidth": 0,
              "ticks": ""
             }
            },
            "type": "scatterpolar"
           }
          ],
          "scatterpolargl": [
           {
            "marker": {
             "colorbar": {
              "outlinewidth": 0,
              "ticks": ""
             }
            },
            "type": "scatterpolargl"
           }
          ],
          "scatterternary": [
           {
            "marker": {
             "colorbar": {
              "outlinewidth": 0,
              "ticks": ""
             }
            },
            "type": "scatterternary"
           }
          ],
          "surface": [
           {
            "colorbar": {
             "outlinewidth": 0,
             "ticks": ""
            },
            "colorscale": [
             [
              0,
              "#0d0887"
             ],
             [
              0.1111111111111111,
              "#46039f"
             ],
             [
              0.2222222222222222,
              "#7201a8"
             ],
             [
              0.3333333333333333,
              "#9c179e"
             ],
             [
              0.4444444444444444,
              "#bd3786"
             ],
             [
              0.5555555555555556,
              "#d8576b"
             ],
             [
              0.6666666666666666,
              "#ed7953"
             ],
             [
              0.7777777777777778,
              "#fb9f3a"
             ],
             [
              0.8888888888888888,
              "#fdca26"
             ],
             [
              1,
              "#f0f921"
             ]
            ],
            "type": "surface"
           }
          ],
          "table": [
           {
            "cells": {
             "fill": {
              "color": "#EBF0F8"
             },
             "line": {
              "color": "white"
             }
            },
            "header": {
             "fill": {
              "color": "#C8D4E3"
             },
             "line": {
              "color": "white"
             }
            },
            "type": "table"
           }
          ]
         },
         "layout": {
          "annotationdefaults": {
           "arrowcolor": "#2a3f5f",
           "arrowhead": 0,
           "arrowwidth": 1
          },
          "autotypenumbers": "strict",
          "coloraxis": {
           "colorbar": {
            "outlinewidth": 0,
            "ticks": ""
           }
          },
          "colorscale": {
           "diverging": [
            [
             0,
             "#8e0152"
            ],
            [
             0.1,
             "#c51b7d"
            ],
            [
             0.2,
             "#de77ae"
            ],
            [
             0.3,
             "#f1b6da"
            ],
            [
             0.4,
             "#fde0ef"
            ],
            [
             0.5,
             "#f7f7f7"
            ],
            [
             0.6,
             "#e6f5d0"
            ],
            [
             0.7,
             "#b8e186"
            ],
            [
             0.8,
             "#7fbc41"
            ],
            [
             0.9,
             "#4d9221"
            ],
            [
             1,
             "#276419"
            ]
           ],
           "sequential": [
            [
             0,
             "#0d0887"
            ],
            [
             0.1111111111111111,
             "#46039f"
            ],
            [
             0.2222222222222222,
             "#7201a8"
            ],
            [
             0.3333333333333333,
             "#9c179e"
            ],
            [
             0.4444444444444444,
             "#bd3786"
            ],
            [
             0.5555555555555556,
             "#d8576b"
            ],
            [
             0.6666666666666666,
             "#ed7953"
            ],
            [
             0.7777777777777778,
             "#fb9f3a"
            ],
            [
             0.8888888888888888,
             "#fdca26"
            ],
            [
             1,
             "#f0f921"
            ]
           ],
           "sequentialminus": [
            [
             0,
             "#0d0887"
            ],
            [
             0.1111111111111111,
             "#46039f"
            ],
            [
             0.2222222222222222,
             "#7201a8"
            ],
            [
             0.3333333333333333,
             "#9c179e"
            ],
            [
             0.4444444444444444,
             "#bd3786"
            ],
            [
             0.5555555555555556,
             "#d8576b"
            ],
            [
             0.6666666666666666,
             "#ed7953"
            ],
            [
             0.7777777777777778,
             "#fb9f3a"
            ],
            [
             0.8888888888888888,
             "#fdca26"
            ],
            [
             1,
             "#f0f921"
            ]
           ]
          },
          "colorway": [
           "#636efa",
           "#EF553B",
           "#00cc96",
           "#ab63fa",
           "#FFA15A",
           "#19d3f3",
           "#FF6692",
           "#B6E880",
           "#FF97FF",
           "#FECB52"
          ],
          "font": {
           "color": "#2a3f5f"
          },
          "geo": {
           "bgcolor": "white",
           "lakecolor": "white",
           "landcolor": "#E5ECF6",
           "showlakes": true,
           "showland": true,
           "subunitcolor": "white"
          },
          "hoverlabel": {
           "align": "left"
          },
          "hovermode": "closest",
          "mapbox": {
           "style": "light"
          },
          "paper_bgcolor": "white",
          "plot_bgcolor": "#E5ECF6",
          "polar": {
           "angularaxis": {
            "gridcolor": "white",
            "linecolor": "white",
            "ticks": ""
           },
           "bgcolor": "#E5ECF6",
           "radialaxis": {
            "gridcolor": "white",
            "linecolor": "white",
            "ticks": ""
           }
          },
          "scene": {
           "xaxis": {
            "backgroundcolor": "#E5ECF6",
            "gridcolor": "white",
            "gridwidth": 2,
            "linecolor": "white",
            "showbackground": true,
            "ticks": "",
            "zerolinecolor": "white"
           },
           "yaxis": {
            "backgroundcolor": "#E5ECF6",
            "gridcolor": "white",
            "gridwidth": 2,
            "linecolor": "white",
            "showbackground": true,
            "ticks": "",
            "zerolinecolor": "white"
           },
           "zaxis": {
            "backgroundcolor": "#E5ECF6",
            "gridcolor": "white",
            "gridwidth": 2,
            "linecolor": "white",
            "showbackground": true,
            "ticks": "",
            "zerolinecolor": "white"
           }
          },
          "shapedefaults": {
           "line": {
            "color": "#2a3f5f"
           }
          },
          "ternary": {
           "aaxis": {
            "gridcolor": "white",
            "linecolor": "white",
            "ticks": ""
           },
           "baxis": {
            "gridcolor": "white",
            "linecolor": "white",
            "ticks": ""
           },
           "bgcolor": "#E5ECF6",
           "caxis": {
            "gridcolor": "white",
            "linecolor": "white",
            "ticks": ""
           }
          },
          "title": {
           "x": 0.05
          },
          "xaxis": {
           "automargin": true,
           "gridcolor": "white",
           "linecolor": "white",
           "ticks": "",
           "title": {
            "standoff": 15
           },
           "zerolinecolor": "white",
           "zerolinewidth": 2
          },
          "yaxis": {
           "automargin": true,
           "gridcolor": "white",
           "linecolor": "white",
           "ticks": "",
           "title": {
            "standoff": 15
           },
           "zerolinecolor": "white",
           "zerolinewidth": 2
          }
         }
        }
       }
      },
      "text/html": [
       "<div>                            <div id=\"72ca9d3a-83f3-4025-a894-06611b98c69f\" class=\"plotly-graph-div\" style=\"height:525px; width:100%;\"></div>            <script type=\"text/javascript\">                require([\"plotly\"], function(Plotly) {                    window.PLOTLYENV=window.PLOTLYENV || {};                                    if (document.getElementById(\"72ca9d3a-83f3-4025-a894-06611b98c69f\")) {                    Plotly.newPlot(                        \"72ca9d3a-83f3-4025-a894-06611b98c69f\",                        [{\"mode\": \"markers\", \"name\": \"Grid\", \"type\": \"scatter\", \"x\": [\"32_3_0.001_1\", \"32_3_0.001_3\", \"32_3_0.001_7\", \"32_3_0.0001_1\", \"32_3_0.0001_3\", \"32_3_0.0001_7\", \"32_5_0.001_1\", \"32_5_0.001_3\", \"32_5_0.001_7\", \"32_5_0.0001_1\", \"32_5_0.0001_3\", \"32_5_0.0001_7\", \"64_3_0.001_1\", \"64_3_0.001_3\", \"64_3_0.001_7\", \"64_3_0.0001_1\", \"64_3_0.0001_3\", \"64_3_0.0001_7\", \"64_5_0.001_1\", \"64_5_0.001_3\", \"64_5_0.001_7\", \"64_5_0.0001_1\", \"64_5_0.0001_3\", \"64_5_0.0001_7\"], \"y\": [0.461, 0.44, 0.465, 0.484, 0.451, 0.456, 0.484, 1.072, 0.529, 0.496, 0.652, 0.517, 0.463, 0.518, 0.5, 0.472, 0.458, 0.666, 0.492, 1.269, 0.51, 0.5, 0.516, 0.498]}, {\"mode\": \"markers\", \"name\": \"TL - Aggregated\", \"type\": \"scatter\", \"x\": [\"32_3_0.001_1\", \"32_3_0.001_3\", \"32_3_0.001_7\", \"32_3_0.0001_1\", \"32_3_0.0001_3\", \"32_3_0.0001_7\", \"32_5_0.001_1\", \"32_5_0.001_3\", \"32_5_0.001_7\", \"32_5_0.0001_1\", \"32_5_0.0001_3\", \"32_5_0.0001_7\", \"64_3_0.001_1\", \"64_3_0.001_3\", \"64_3_0.001_7\", \"64_3_0.0001_1\", \"64_3_0.0001_3\", \"64_3_0.0001_7\", \"64_5_0.001_1\", \"64_5_0.001_3\", \"64_5_0.001_7\", \"64_5_0.0001_1\", \"64_5_0.0001_3\", \"64_5_0.0001_7\"], \"y\": [0.455, 0.448, 0.446, 0.479, 0.441, 0.459, 0.487, 0.569, 0.493, 0.515, 0.581, 0.468, 0.537, 0.466, 0.483, 0.451, 0.451, 0.444, 0.541, 1.01, 0.461, 0.495, 0.489, 0.529]}, {\"mode\": \"markers\", \"name\": \"SUB - Aggregated\", \"type\": \"scatter\", \"x\": [\"32_3_0.001_1\", \"32_3_0.001_3\", \"32_3_0.001_7\", \"32_3_0.0001_1\", \"32_3_0.0001_3\", \"32_3_0.0001_7\", \"32_5_0.001_1\", \"32_5_0.001_3\", \"32_5_0.001_7\", \"32_5_0.0001_1\", \"32_5_0.0001_3\", \"32_5_0.0001_7\", \"64_3_0.001_1\", \"64_3_0.001_3\", \"64_3_0.001_7\", \"64_3_0.0001_1\", \"64_3_0.0001_3\", \"64_3_0.0001_7\", \"64_5_0.001_1\", \"64_5_0.001_3\", \"64_5_0.001_7\", \"64_5_0.0001_1\", \"64_5_0.0001_3\", \"64_5_0.0001_7\"], \"y\": [0.447, 0.491, 0.472, 0.465, 0.454, 0.48, 0.483, 0.642, 0.754, 0.513, 0.54, 0.484, 0.488, 0.458, 0.441, 0.453, 0.467, 0.455, 0.513, 0.96, 0.463, 0.488, 0.505, 0.477]}, {\"mode\": \"markers\", \"name\": \"PC - Aggregated\", \"type\": \"scatter\", \"x\": [\"32_3_0.001_1\", \"32_3_0.001_3\", \"32_3_0.001_7\", \"32_3_0.0001_1\", \"32_3_0.0001_3\", \"32_3_0.0001_7\", \"32_5_0.001_1\", \"32_5_0.001_3\", \"32_5_0.001_7\", \"32_5_0.0001_1\", \"32_5_0.0001_3\", \"32_5_0.0001_7\", \"64_3_0.001_1\", \"64_3_0.001_3\", \"64_3_0.001_7\", \"64_3_0.0001_1\", \"64_3_0.0001_3\", \"64_3_0.0001_7\", \"64_5_0.001_1\", \"64_5_0.001_3\", \"64_5_0.001_7\", \"64_5_0.0001_1\", \"64_5_0.0001_3\", \"64_5_0.0001_7\"], \"y\": [0.342, 0.357, 0.373, 0.416, 0.452, 0.395, 0.403, 0.52, 0.643, 0.44, 0.551, 0.494, 0.389, 0.349, 0.364, 0.385, 0.472, 0.385, 0.461, 0.955, 1.056, 0.429, 0.53, 0.498]}, {\"mode\": \"markers\", \"name\": \"Site - Aggregated\", \"type\": \"scatter\", \"x\": [\"32_3_0.001_1\", \"32_3_0.001_3\", \"32_3_0.001_7\", \"32_3_0.0001_1\", \"32_3_0.0001_3\", \"32_3_0.0001_7\", \"32_5_0.001_1\", \"32_5_0.001_3\", \"32_5_0.001_7\", \"32_5_0.0001_1\", \"32_5_0.0001_3\", \"32_5_0.0001_7\", \"64_3_0.001_1\", \"64_3_0.001_3\", \"64_3_0.001_7\", \"64_3_0.0001_1\", \"64_3_0.0001_3\", \"64_3_0.0001_7\", \"64_5_0.001_1\", \"64_5_0.001_3\", \"64_5_0.001_7\", \"64_5_0.0001_1\", \"64_5_0.0001_3\", \"64_5_0.0001_7\"], \"y\": [0.342, 0.355, 0.363, 0.376, 0.485, 0.422, 0.39, 0.545, 0.539, 0.432, 0.515, 0.54, 0.349, 0.341, 0.332, 0.38, 0.458, 0.401, 0.392, 0.663, 0.882, 0.403, 0.524, 0.557]}],                        {\"template\": {\"data\": {\"bar\": [{\"error_x\": {\"color\": \"#2a3f5f\"}, \"error_y\": {\"color\": \"#2a3f5f\"}, \"marker\": {\"line\": {\"color\": \"#E5ECF6\", \"width\": 0.5}}, \"type\": \"bar\"}], \"barpolar\": [{\"marker\": {\"line\": {\"color\": \"#E5ECF6\", \"width\": 0.5}}, \"type\": \"barpolar\"}], \"carpet\": [{\"aaxis\": {\"endlinecolor\": \"#2a3f5f\", \"gridcolor\": \"white\", \"linecolor\": \"white\", \"minorgridcolor\": \"white\", \"startlinecolor\": \"#2a3f5f\"}, \"baxis\": {\"endlinecolor\": \"#2a3f5f\", \"gridcolor\": \"white\", \"linecolor\": \"white\", \"minorgridcolor\": \"white\", \"startlinecolor\": \"#2a3f5f\"}, \"type\": \"carpet\"}], \"choropleth\": [{\"colorbar\": {\"outlinewidth\": 0, \"ticks\": \"\"}, \"type\": \"choropleth\"}], \"contour\": [{\"colorbar\": {\"outlinewidth\": 0, \"ticks\": \"\"}, \"colorscale\": [[0.0, \"#0d0887\"], [0.1111111111111111, \"#46039f\"], [0.2222222222222222, \"#7201a8\"], [0.3333333333333333, \"#9c179e\"], [0.4444444444444444, \"#bd3786\"], [0.5555555555555556, \"#d8576b\"], [0.6666666666666666, \"#ed7953\"], [0.7777777777777778, \"#fb9f3a\"], [0.8888888888888888, \"#fdca26\"], [1.0, \"#f0f921\"]], \"type\": \"contour\"}], \"contourcarpet\": [{\"colorbar\": {\"outlinewidth\": 0, \"ticks\": \"\"}, \"type\": \"contourcarpet\"}], \"heatmap\": [{\"colorbar\": {\"outlinewidth\": 0, \"ticks\": \"\"}, \"colorscale\": [[0.0, \"#0d0887\"], [0.1111111111111111, \"#46039f\"], [0.2222222222222222, \"#7201a8\"], [0.3333333333333333, \"#9c179e\"], [0.4444444444444444, \"#bd3786\"], [0.5555555555555556, \"#d8576b\"], [0.6666666666666666, \"#ed7953\"], [0.7777777777777778, \"#fb9f3a\"], [0.8888888888888888, \"#fdca26\"], [1.0, \"#f0f921\"]], \"type\": \"heatmap\"}], \"heatmapgl\": [{\"colorbar\": {\"outlinewidth\": 0, \"ticks\": \"\"}, \"colorscale\": [[0.0, \"#0d0887\"], [0.1111111111111111, \"#46039f\"], [0.2222222222222222, \"#7201a8\"], [0.3333333333333333, \"#9c179e\"], [0.4444444444444444, \"#bd3786\"], [0.5555555555555556, \"#d8576b\"], [0.6666666666666666, \"#ed7953\"], [0.7777777777777778, \"#fb9f3a\"], [0.8888888888888888, \"#fdca26\"], [1.0, \"#f0f921\"]], \"type\": \"heatmapgl\"}], \"histogram\": [{\"marker\": {\"colorbar\": {\"outlinewidth\": 0, \"ticks\": \"\"}}, \"type\": \"histogram\"}], \"histogram2d\": [{\"colorbar\": {\"outlinewidth\": 0, \"ticks\": \"\"}, \"colorscale\": [[0.0, \"#0d0887\"], [0.1111111111111111, \"#46039f\"], [0.2222222222222222, \"#7201a8\"], [0.3333333333333333, \"#9c179e\"], [0.4444444444444444, \"#bd3786\"], [0.5555555555555556, \"#d8576b\"], [0.6666666666666666, \"#ed7953\"], [0.7777777777777778, \"#fb9f3a\"], [0.8888888888888888, \"#fdca26\"], [1.0, \"#f0f921\"]], \"type\": \"histogram2d\"}], \"histogram2dcontour\": [{\"colorbar\": {\"outlinewidth\": 0, \"ticks\": \"\"}, \"colorscale\": [[0.0, \"#0d0887\"], [0.1111111111111111, \"#46039f\"], [0.2222222222222222, \"#7201a8\"], [0.3333333333333333, \"#9c179e\"], [0.4444444444444444, \"#bd3786\"], [0.5555555555555556, \"#d8576b\"], [0.6666666666666666, \"#ed7953\"], [0.7777777777777778, \"#fb9f3a\"], [0.8888888888888888, \"#fdca26\"], [1.0, \"#f0f921\"]], \"type\": \"histogram2dcontour\"}], \"mesh3d\": [{\"colorbar\": {\"outlinewidth\": 0, \"ticks\": \"\"}, \"type\": \"mesh3d\"}], \"parcoords\": [{\"line\": {\"colorbar\": {\"outlinewidth\": 0, \"ticks\": \"\"}}, \"type\": \"parcoords\"}], \"pie\": [{\"automargin\": true, \"type\": \"pie\"}], \"scatter\": [{\"marker\": {\"colorbar\": {\"outlinewidth\": 0, \"ticks\": \"\"}}, \"type\": \"scatter\"}], \"scatter3d\": [{\"line\": {\"colorbar\": {\"outlinewidth\": 0, \"ticks\": \"\"}}, \"marker\": {\"colorbar\": {\"outlinewidth\": 0, \"ticks\": \"\"}}, \"type\": \"scatter3d\"}], \"scattercarpet\": [{\"marker\": {\"colorbar\": {\"outlinewidth\": 0, \"ticks\": \"\"}}, \"type\": \"scattercarpet\"}], \"scattergeo\": [{\"marker\": {\"colorbar\": {\"outlinewidth\": 0, \"ticks\": \"\"}}, \"type\": \"scattergeo\"}], \"scattergl\": [{\"marker\": {\"colorbar\": {\"outlinewidth\": 0, \"ticks\": \"\"}}, \"type\": \"scattergl\"}], \"scattermapbox\": [{\"marker\": {\"colorbar\": {\"outlinewidth\": 0, \"ticks\": \"\"}}, \"type\": \"scattermapbox\"}], \"scatterpolar\": [{\"marker\": {\"colorbar\": {\"outlinewidth\": 0, \"ticks\": \"\"}}, \"type\": \"scatterpolar\"}], \"scatterpolargl\": [{\"marker\": {\"colorbar\": {\"outlinewidth\": 0, \"ticks\": \"\"}}, \"type\": \"scatterpolargl\"}], \"scatterternary\": [{\"marker\": {\"colorbar\": {\"outlinewidth\": 0, \"ticks\": \"\"}}, \"type\": \"scatterternary\"}], \"surface\": [{\"colorbar\": {\"outlinewidth\": 0, \"ticks\": \"\"}, \"colorscale\": [[0.0, \"#0d0887\"], [0.1111111111111111, \"#46039f\"], [0.2222222222222222, \"#7201a8\"], [0.3333333333333333, \"#9c179e\"], [0.4444444444444444, \"#bd3786\"], [0.5555555555555556, \"#d8576b\"], [0.6666666666666666, \"#ed7953\"], [0.7777777777777778, \"#fb9f3a\"], [0.8888888888888888, \"#fdca26\"], [1.0, \"#f0f921\"]], \"type\": \"surface\"}], \"table\": [{\"cells\": {\"fill\": {\"color\": \"#EBF0F8\"}, \"line\": {\"color\": \"white\"}}, \"header\": {\"fill\": {\"color\": \"#C8D4E3\"}, \"line\": {\"color\": \"white\"}}, \"type\": \"table\"}]}, \"layout\": {\"annotationdefaults\": {\"arrowcolor\": \"#2a3f5f\", \"arrowhead\": 0, \"arrowwidth\": 1}, \"autotypenumbers\": \"strict\", \"coloraxis\": {\"colorbar\": {\"outlinewidth\": 0, \"ticks\": \"\"}}, \"colorscale\": {\"diverging\": [[0, \"#8e0152\"], [0.1, \"#c51b7d\"], [0.2, \"#de77ae\"], [0.3, \"#f1b6da\"], [0.4, \"#fde0ef\"], [0.5, \"#f7f7f7\"], [0.6, \"#e6f5d0\"], [0.7, \"#b8e186\"], [0.8, \"#7fbc41\"], [0.9, \"#4d9221\"], [1, \"#276419\"]], \"sequential\": [[0.0, \"#0d0887\"], [0.1111111111111111, \"#46039f\"], [0.2222222222222222, \"#7201a8\"], [0.3333333333333333, \"#9c179e\"], [0.4444444444444444, \"#bd3786\"], [0.5555555555555556, \"#d8576b\"], [0.6666666666666666, \"#ed7953\"], [0.7777777777777778, \"#fb9f3a\"], [0.8888888888888888, \"#fdca26\"], [1.0, \"#f0f921\"]], \"sequentialminus\": [[0.0, \"#0d0887\"], [0.1111111111111111, \"#46039f\"], [0.2222222222222222, \"#7201a8\"], [0.3333333333333333, \"#9c179e\"], [0.4444444444444444, \"#bd3786\"], [0.5555555555555556, \"#d8576b\"], [0.6666666666666666, \"#ed7953\"], [0.7777777777777778, \"#fb9f3a\"], [0.8888888888888888, \"#fdca26\"], [1.0, \"#f0f921\"]]}, \"colorway\": [\"#636efa\", \"#EF553B\", \"#00cc96\", \"#ab63fa\", \"#FFA15A\", \"#19d3f3\", \"#FF6692\", \"#B6E880\", \"#FF97FF\", \"#FECB52\"], \"font\": {\"color\": \"#2a3f5f\"}, \"geo\": {\"bgcolor\": \"white\", \"lakecolor\": \"white\", \"landcolor\": \"#E5ECF6\", \"showlakes\": true, \"showland\": true, \"subunitcolor\": \"white\"}, \"hoverlabel\": {\"align\": \"left\"}, \"hovermode\": \"closest\", \"mapbox\": {\"style\": \"light\"}, \"paper_bgcolor\": \"white\", \"plot_bgcolor\": \"#E5ECF6\", \"polar\": {\"angularaxis\": {\"gridcolor\": \"white\", \"linecolor\": \"white\", \"ticks\": \"\"}, \"bgcolor\": \"#E5ECF6\", \"radialaxis\": {\"gridcolor\": \"white\", \"linecolor\": \"white\", \"ticks\": \"\"}}, \"scene\": {\"xaxis\": {\"backgroundcolor\": \"#E5ECF6\", \"gridcolor\": \"white\", \"gridwidth\": 2, \"linecolor\": \"white\", \"showbackground\": true, \"ticks\": \"\", \"zerolinecolor\": \"white\"}, \"yaxis\": {\"backgroundcolor\": \"#E5ECF6\", \"gridcolor\": \"white\", \"gridwidth\": 2, \"linecolor\": \"white\", \"showbackground\": true, \"ticks\": \"\", \"zerolinecolor\": \"white\"}, \"zaxis\": {\"backgroundcolor\": \"#E5ECF6\", \"gridcolor\": \"white\", \"gridwidth\": 2, \"linecolor\": \"white\", \"showbackground\": true, \"ticks\": \"\", \"zerolinecolor\": \"white\"}}, \"shapedefaults\": {\"line\": {\"color\": \"#2a3f5f\"}}, \"ternary\": {\"aaxis\": {\"gridcolor\": \"white\", \"linecolor\": \"white\", \"ticks\": \"\"}, \"baxis\": {\"gridcolor\": \"white\", \"linecolor\": \"white\", \"ticks\": \"\"}, \"bgcolor\": \"#E5ECF6\", \"caxis\": {\"gridcolor\": \"white\", \"linecolor\": \"white\", \"ticks\": \"\"}}, \"title\": {\"x\": 0.05}, \"xaxis\": {\"automargin\": true, \"gridcolor\": \"white\", \"linecolor\": \"white\", \"ticks\": \"\", \"title\": {\"standoff\": 15}, \"zerolinecolor\": \"white\", \"zerolinewidth\": 2}, \"yaxis\": {\"automargin\": true, \"gridcolor\": \"white\", \"linecolor\": \"white\", \"ticks\": \"\", \"title\": {\"standoff\": 15}, \"zerolinecolor\": \"white\", \"zerolinewidth\": 2}}}},                        {\"responsive\": true}                    ).then(function(){\n",
       "                            \n",
       "var gd = document.getElementById('72ca9d3a-83f3-4025-a894-06611b98c69f');\n",
       "var x = new MutationObserver(function (mutations, observer) {{\n",
       "        var display = window.getComputedStyle(gd).display;\n",
       "        if (!display || display === 'none') {{\n",
       "            console.log([gd, 'removed!']);\n",
       "            Plotly.purge(gd);\n",
       "            observer.disconnect();\n",
       "        }}\n",
       "}});\n",
       "\n",
       "// Listen for the removal of the full notebook cells\n",
       "var notebookContainer = gd.closest('#notebook-container');\n",
       "if (notebookContainer) {{\n",
       "    x.observe(notebookContainer, {childList: true});\n",
       "}}\n",
       "\n",
       "// Listen for the clearing of the current output cell\n",
       "var outputEl = gd.closest('.output');\n",
       "if (outputEl) {{\n",
       "    x.observe(outputEl, {childList: true});\n",
       "}}\n",
       "\n",
       "                        })                };                });            </script>        </div>"
      ]
     },
     "metadata": {},
     "output_type": "display_data"
    }
   ],
   "source": [
    "fig.show()"
   ]
  },
  {
   "cell_type": "code",
   "execution_count": 18,
   "id": "wrapped-orange",
   "metadata": {},
   "outputs": [
    {
     "data": {
      "text/plain": [
       "Unnamed: 0           32_3_0.0001_1\n",
       "Grid                          0.44\n",
       "TL - Aggregated              0.441\n",
       "SUB - Aggregated             0.441\n",
       "PC - Aggregated              0.342\n",
       "Site - Aggregated            0.332\n",
       "dtype: object"
      ]
     },
     "execution_count": 18,
     "metadata": {},
     "output_type": "execute_result"
    }
   ],
   "source": [
    "lstm_iter_results.min()"
   ]
  },
  {
   "cell_type": "code",
   "execution_count": 21,
   "id": "complicated-messaging",
   "metadata": {},
   "outputs": [],
   "source": [
    "cnn_iter_results = pd.read_csv('../cnn_new_results/rmse.csv')"
   ]
  },
  {
   "cell_type": "code",
   "execution_count": 23,
   "id": "global-drinking",
   "metadata": {},
   "outputs": [
    {
     "data": {
      "text/html": [
       "<div>\n",
       "<style scoped>\n",
       "    .dataframe tbody tr th:only-of-type {\n",
       "        vertical-align: middle;\n",
       "    }\n",
       "\n",
       "    .dataframe tbody tr th {\n",
       "        vertical-align: top;\n",
       "    }\n",
       "\n",
       "    .dataframe thead th {\n",
       "        text-align: right;\n",
       "    }\n",
       "</style>\n",
       "<table border=\"1\" class=\"dataframe\">\n",
       "  <thead>\n",
       "    <tr style=\"text-align: right;\">\n",
       "      <th></th>\n",
       "      <th>Unnamed: 0</th>\n",
       "      <th>Grid</th>\n",
       "      <th>TL - Aggregated</th>\n",
       "      <th>SUB - Aggregated</th>\n",
       "      <th>PC - Aggregated</th>\n",
       "      <th>Site - Aggregated</th>\n",
       "    </tr>\n",
       "  </thead>\n",
       "  <tbody>\n",
       "    <tr>\n",
       "      <th>0</th>\n",
       "      <td>32_4_0.001_1</td>\n",
       "      <td>0.546</td>\n",
       "      <td>0.465</td>\n",
       "      <td>0.467</td>\n",
       "      <td>0.323</td>\n",
       "      <td>0.332</td>\n",
       "    </tr>\n",
       "    <tr>\n",
       "      <th>1</th>\n",
       "      <td>32_4_0.001_3</td>\n",
       "      <td>0.583</td>\n",
       "      <td>0.471</td>\n",
       "      <td>0.486</td>\n",
       "      <td>0.498</td>\n",
       "      <td>0.573</td>\n",
       "    </tr>\n",
       "    <tr>\n",
       "      <th>2</th>\n",
       "      <td>32_4_0.001_7</td>\n",
       "      <td>0.564</td>\n",
       "      <td>0.572</td>\n",
       "      <td>0.503</td>\n",
       "      <td>0.769</td>\n",
       "      <td>0.778</td>\n",
       "    </tr>\n",
       "    <tr>\n",
       "      <th>3</th>\n",
       "      <td>32_4_0.0001_1</td>\n",
       "      <td>0.456</td>\n",
       "      <td>0.405</td>\n",
       "      <td>0.430</td>\n",
       "      <td>0.331</td>\n",
       "      <td>0.328</td>\n",
       "    </tr>\n",
       "    <tr>\n",
       "      <th>4</th>\n",
       "      <td>32_4_0.0001_3</td>\n",
       "      <td>0.446</td>\n",
       "      <td>0.442</td>\n",
       "      <td>0.455</td>\n",
       "      <td>0.357</td>\n",
       "      <td>0.376</td>\n",
       "    </tr>\n",
       "  </tbody>\n",
       "</table>\n",
       "</div>"
      ],
      "text/plain": [
       "      Unnamed: 0   Grid  TL - Aggregated  SUB - Aggregated  PC - Aggregated  \\\n",
       "0   32_4_0.001_1  0.546            0.465             0.467            0.323   \n",
       "1   32_4_0.001_3  0.583            0.471             0.486            0.498   \n",
       "2   32_4_0.001_7  0.564            0.572             0.503            0.769   \n",
       "3  32_4_0.0001_1  0.456            0.405             0.430            0.331   \n",
       "4  32_4_0.0001_3  0.446            0.442             0.455            0.357   \n",
       "\n",
       "   Site - Aggregated  \n",
       "0              0.332  \n",
       "1              0.573  \n",
       "2              0.778  \n",
       "3              0.328  \n",
       "4              0.376  "
      ]
     },
     "execution_count": 23,
     "metadata": {},
     "output_type": "execute_result"
    }
   ],
   "source": [
    "cnn_iter_results.head()"
   ]
  },
  {
   "cell_type": "code",
   "execution_count": 24,
   "id": "joint-trinidad",
   "metadata": {},
   "outputs": [
    {
     "data": {
      "text/plain": [
       "Unnamed: 0           32_4_0.0001_1\n",
       "Grid                         0.427\n",
       "TL - Aggregated              0.405\n",
       "SUB - Aggregated             0.394\n",
       "PC - Aggregated              0.323\n",
       "Site - Aggregated            0.325\n",
       "dtype: object"
      ]
     },
     "execution_count": 24,
     "metadata": {},
     "output_type": "execute_result"
    }
   ],
   "source": [
    "cnn_iter_results.min()"
   ]
  },
  {
   "cell_type": "code",
   "execution_count": 25,
   "id": "residential-yukon",
   "metadata": {},
   "outputs": [
    {
     "data": {
      "application/vnd.plotly.v1+json": {
       "config": {
        "plotlyServerURL": "https://plot.ly"
       },
       "data": [
        {
         "mode": "markers",
         "name": "Grid",
         "type": "scatter",
         "x": [
          "32_4_0.001_1",
          "32_4_0.001_3",
          "32_4_0.001_7",
          "32_4_0.0001_1",
          "32_4_0.0001_3",
          "32_4_0.0001_7",
          "32_6_0.001_1",
          "32_6_0.001_3",
          "32_6_0.001_7",
          "32_6_0.0001_1"
         ],
         "y": [
          0.546,
          0.583,
          0.564,
          0.456,
          0.446,
          0.503,
          0.501,
          0.465,
          0.538,
          0.427
         ]
        },
        {
         "mode": "markers",
         "name": "TL - Aggregated",
         "type": "scatter",
         "x": [
          "32_4_0.001_1",
          "32_4_0.001_3",
          "32_4_0.001_7",
          "32_4_0.0001_1",
          "32_4_0.0001_3",
          "32_4_0.0001_7",
          "32_6_0.001_1",
          "32_6_0.001_3",
          "32_6_0.001_7",
          "32_6_0.0001_1"
         ],
         "y": [
          0.465,
          0.471,
          0.572,
          0.405,
          0.442,
          0.427,
          0.462,
          0.48,
          0.494,
          0.42
         ]
        },
        {
         "mode": "markers",
         "name": "SUB - Aggregated",
         "type": "scatter",
         "x": [
          "32_4_0.001_1",
          "32_4_0.001_3",
          "32_4_0.001_7",
          "32_4_0.0001_1",
          "32_4_0.0001_3",
          "32_4_0.0001_7",
          "32_6_0.001_1",
          "32_6_0.001_3",
          "32_6_0.001_7",
          "32_6_0.0001_1"
         ],
         "y": [
          0.467,
          0.486,
          0.503,
          0.43,
          0.455,
          0.404,
          0.428,
          0.462,
          0.47,
          0.394
         ]
        },
        {
         "mode": "markers",
         "name": "PC - Aggregated",
         "type": "scatter",
         "x": [
          "32_4_0.001_1",
          "32_4_0.001_3",
          "32_4_0.001_7",
          "32_4_0.0001_1",
          "32_4_0.0001_3",
          "32_4_0.0001_7",
          "32_6_0.001_1",
          "32_6_0.001_3",
          "32_6_0.001_7",
          "32_6_0.0001_1"
         ],
         "y": [
          0.323,
          0.498,
          0.769,
          0.331,
          0.357,
          0.517,
          0.337,
          0.414,
          0.852,
          0.341
         ]
        },
        {
         "mode": "markers",
         "name": "Site - Aggregated",
         "type": "scatter",
         "x": [
          "32_4_0.001_1",
          "32_4_0.001_3",
          "32_4_0.001_7",
          "32_4_0.0001_1",
          "32_4_0.0001_3",
          "32_4_0.0001_7",
          "32_6_0.001_1",
          "32_6_0.001_3",
          "32_6_0.001_7",
          "32_6_0.0001_1"
         ],
         "y": [
          0.332,
          0.573,
          0.778,
          0.328,
          0.376,
          0.519,
          0.325,
          0.573,
          0.524,
          0.331
         ]
        }
       ],
       "layout": {
        "template": {
         "data": {
          "bar": [
           {
            "error_x": {
             "color": "#2a3f5f"
            },
            "error_y": {
             "color": "#2a3f5f"
            },
            "marker": {
             "line": {
              "color": "#E5ECF6",
              "width": 0.5
             }
            },
            "type": "bar"
           }
          ],
          "barpolar": [
           {
            "marker": {
             "line": {
              "color": "#E5ECF6",
              "width": 0.5
             }
            },
            "type": "barpolar"
           }
          ],
          "carpet": [
           {
            "aaxis": {
             "endlinecolor": "#2a3f5f",
             "gridcolor": "white",
             "linecolor": "white",
             "minorgridcolor": "white",
             "startlinecolor": "#2a3f5f"
            },
            "baxis": {
             "endlinecolor": "#2a3f5f",
             "gridcolor": "white",
             "linecolor": "white",
             "minorgridcolor": "white",
             "startlinecolor": "#2a3f5f"
            },
            "type": "carpet"
           }
          ],
          "choropleth": [
           {
            "colorbar": {
             "outlinewidth": 0,
             "ticks": ""
            },
            "type": "choropleth"
           }
          ],
          "contour": [
           {
            "colorbar": {
             "outlinewidth": 0,
             "ticks": ""
            },
            "colorscale": [
             [
              0,
              "#0d0887"
             ],
             [
              0.1111111111111111,
              "#46039f"
             ],
             [
              0.2222222222222222,
              "#7201a8"
             ],
             [
              0.3333333333333333,
              "#9c179e"
             ],
             [
              0.4444444444444444,
              "#bd3786"
             ],
             [
              0.5555555555555556,
              "#d8576b"
             ],
             [
              0.6666666666666666,
              "#ed7953"
             ],
             [
              0.7777777777777778,
              "#fb9f3a"
             ],
             [
              0.8888888888888888,
              "#fdca26"
             ],
             [
              1,
              "#f0f921"
             ]
            ],
            "type": "contour"
           }
          ],
          "contourcarpet": [
           {
            "colorbar": {
             "outlinewidth": 0,
             "ticks": ""
            },
            "type": "contourcarpet"
           }
          ],
          "heatmap": [
           {
            "colorbar": {
             "outlinewidth": 0,
             "ticks": ""
            },
            "colorscale": [
             [
              0,
              "#0d0887"
             ],
             [
              0.1111111111111111,
              "#46039f"
             ],
             [
              0.2222222222222222,
              "#7201a8"
             ],
             [
              0.3333333333333333,
              "#9c179e"
             ],
             [
              0.4444444444444444,
              "#bd3786"
             ],
             [
              0.5555555555555556,
              "#d8576b"
             ],
             [
              0.6666666666666666,
              "#ed7953"
             ],
             [
              0.7777777777777778,
              "#fb9f3a"
             ],
             [
              0.8888888888888888,
              "#fdca26"
             ],
             [
              1,
              "#f0f921"
             ]
            ],
            "type": "heatmap"
           }
          ],
          "heatmapgl": [
           {
            "colorbar": {
             "outlinewidth": 0,
             "ticks": ""
            },
            "colorscale": [
             [
              0,
              "#0d0887"
             ],
             [
              0.1111111111111111,
              "#46039f"
             ],
             [
              0.2222222222222222,
              "#7201a8"
             ],
             [
              0.3333333333333333,
              "#9c179e"
             ],
             [
              0.4444444444444444,
              "#bd3786"
             ],
             [
              0.5555555555555556,
              "#d8576b"
             ],
             [
              0.6666666666666666,
              "#ed7953"
             ],
             [
              0.7777777777777778,
              "#fb9f3a"
             ],
             [
              0.8888888888888888,
              "#fdca26"
             ],
             [
              1,
              "#f0f921"
             ]
            ],
            "type": "heatmapgl"
           }
          ],
          "histogram": [
           {
            "marker": {
             "colorbar": {
              "outlinewidth": 0,
              "ticks": ""
             }
            },
            "type": "histogram"
           }
          ],
          "histogram2d": [
           {
            "colorbar": {
             "outlinewidth": 0,
             "ticks": ""
            },
            "colorscale": [
             [
              0,
              "#0d0887"
             ],
             [
              0.1111111111111111,
              "#46039f"
             ],
             [
              0.2222222222222222,
              "#7201a8"
             ],
             [
              0.3333333333333333,
              "#9c179e"
             ],
             [
              0.4444444444444444,
              "#bd3786"
             ],
             [
              0.5555555555555556,
              "#d8576b"
             ],
             [
              0.6666666666666666,
              "#ed7953"
             ],
             [
              0.7777777777777778,
              "#fb9f3a"
             ],
             [
              0.8888888888888888,
              "#fdca26"
             ],
             [
              1,
              "#f0f921"
             ]
            ],
            "type": "histogram2d"
           }
          ],
          "histogram2dcontour": [
           {
            "colorbar": {
             "outlinewidth": 0,
             "ticks": ""
            },
            "colorscale": [
             [
              0,
              "#0d0887"
             ],
             [
              0.1111111111111111,
              "#46039f"
             ],
             [
              0.2222222222222222,
              "#7201a8"
             ],
             [
              0.3333333333333333,
              "#9c179e"
             ],
             [
              0.4444444444444444,
              "#bd3786"
             ],
             [
              0.5555555555555556,
              "#d8576b"
             ],
             [
              0.6666666666666666,
              "#ed7953"
             ],
             [
              0.7777777777777778,
              "#fb9f3a"
             ],
             [
              0.8888888888888888,
              "#fdca26"
             ],
             [
              1,
              "#f0f921"
             ]
            ],
            "type": "histogram2dcontour"
           }
          ],
          "mesh3d": [
           {
            "colorbar": {
             "outlinewidth": 0,
             "ticks": ""
            },
            "type": "mesh3d"
           }
          ],
          "parcoords": [
           {
            "line": {
             "colorbar": {
              "outlinewidth": 0,
              "ticks": ""
             }
            },
            "type": "parcoords"
           }
          ],
          "pie": [
           {
            "automargin": true,
            "type": "pie"
           }
          ],
          "scatter": [
           {
            "marker": {
             "colorbar": {
              "outlinewidth": 0,
              "ticks": ""
             }
            },
            "type": "scatter"
           }
          ],
          "scatter3d": [
           {
            "line": {
             "colorbar": {
              "outlinewidth": 0,
              "ticks": ""
             }
            },
            "marker": {
             "colorbar": {
              "outlinewidth": 0,
              "ticks": ""
             }
            },
            "type": "scatter3d"
           }
          ],
          "scattercarpet": [
           {
            "marker": {
             "colorbar": {
              "outlinewidth": 0,
              "ticks": ""
             }
            },
            "type": "scattercarpet"
           }
          ],
          "scattergeo": [
           {
            "marker": {
             "colorbar": {
              "outlinewidth": 0,
              "ticks": ""
             }
            },
            "type": "scattergeo"
           }
          ],
          "scattergl": [
           {
            "marker": {
             "colorbar": {
              "outlinewidth": 0,
              "ticks": ""
             }
            },
            "type": "scattergl"
           }
          ],
          "scattermapbox": [
           {
            "marker": {
             "colorbar": {
              "outlinewidth": 0,
              "ticks": ""
             }
            },
            "type": "scattermapbox"
           }
          ],
          "scatterpolar": [
           {
            "marker": {
             "colorbar": {
              "outlinewidth": 0,
              "ticks": ""
             }
            },
            "type": "scatterpolar"
           }
          ],
          "scatterpolargl": [
           {
            "marker": {
             "colorbar": {
              "outlinewidth": 0,
              "ticks": ""
             }
            },
            "type": "scatterpolargl"
           }
          ],
          "scatterternary": [
           {
            "marker": {
             "colorbar": {
              "outlinewidth": 0,
              "ticks": ""
             }
            },
            "type": "scatterternary"
           }
          ],
          "surface": [
           {
            "colorbar": {
             "outlinewidth": 0,
             "ticks": ""
            },
            "colorscale": [
             [
              0,
              "#0d0887"
             ],
             [
              0.1111111111111111,
              "#46039f"
             ],
             [
              0.2222222222222222,
              "#7201a8"
             ],
             [
              0.3333333333333333,
              "#9c179e"
             ],
             [
              0.4444444444444444,
              "#bd3786"
             ],
             [
              0.5555555555555556,
              "#d8576b"
             ],
             [
              0.6666666666666666,
              "#ed7953"
             ],
             [
              0.7777777777777778,
              "#fb9f3a"
             ],
             [
              0.8888888888888888,
              "#fdca26"
             ],
             [
              1,
              "#f0f921"
             ]
            ],
            "type": "surface"
           }
          ],
          "table": [
           {
            "cells": {
             "fill": {
              "color": "#EBF0F8"
             },
             "line": {
              "color": "white"
             }
            },
            "header": {
             "fill": {
              "color": "#C8D4E3"
             },
             "line": {
              "color": "white"
             }
            },
            "type": "table"
           }
          ]
         },
         "layout": {
          "annotationdefaults": {
           "arrowcolor": "#2a3f5f",
           "arrowhead": 0,
           "arrowwidth": 1
          },
          "autotypenumbers": "strict",
          "coloraxis": {
           "colorbar": {
            "outlinewidth": 0,
            "ticks": ""
           }
          },
          "colorscale": {
           "diverging": [
            [
             0,
             "#8e0152"
            ],
            [
             0.1,
             "#c51b7d"
            ],
            [
             0.2,
             "#de77ae"
            ],
            [
             0.3,
             "#f1b6da"
            ],
            [
             0.4,
             "#fde0ef"
            ],
            [
             0.5,
             "#f7f7f7"
            ],
            [
             0.6,
             "#e6f5d0"
            ],
            [
             0.7,
             "#b8e186"
            ],
            [
             0.8,
             "#7fbc41"
            ],
            [
             0.9,
             "#4d9221"
            ],
            [
             1,
             "#276419"
            ]
           ],
           "sequential": [
            [
             0,
             "#0d0887"
            ],
            [
             0.1111111111111111,
             "#46039f"
            ],
            [
             0.2222222222222222,
             "#7201a8"
            ],
            [
             0.3333333333333333,
             "#9c179e"
            ],
            [
             0.4444444444444444,
             "#bd3786"
            ],
            [
             0.5555555555555556,
             "#d8576b"
            ],
            [
             0.6666666666666666,
             "#ed7953"
            ],
            [
             0.7777777777777778,
             "#fb9f3a"
            ],
            [
             0.8888888888888888,
             "#fdca26"
            ],
            [
             1,
             "#f0f921"
            ]
           ],
           "sequentialminus": [
            [
             0,
             "#0d0887"
            ],
            [
             0.1111111111111111,
             "#46039f"
            ],
            [
             0.2222222222222222,
             "#7201a8"
            ],
            [
             0.3333333333333333,
             "#9c179e"
            ],
            [
             0.4444444444444444,
             "#bd3786"
            ],
            [
             0.5555555555555556,
             "#d8576b"
            ],
            [
             0.6666666666666666,
             "#ed7953"
            ],
            [
             0.7777777777777778,
             "#fb9f3a"
            ],
            [
             0.8888888888888888,
             "#fdca26"
            ],
            [
             1,
             "#f0f921"
            ]
           ]
          },
          "colorway": [
           "#636efa",
           "#EF553B",
           "#00cc96",
           "#ab63fa",
           "#FFA15A",
           "#19d3f3",
           "#FF6692",
           "#B6E880",
           "#FF97FF",
           "#FECB52"
          ],
          "font": {
           "color": "#2a3f5f"
          },
          "geo": {
           "bgcolor": "white",
           "lakecolor": "white",
           "landcolor": "#E5ECF6",
           "showlakes": true,
           "showland": true,
           "subunitcolor": "white"
          },
          "hoverlabel": {
           "align": "left"
          },
          "hovermode": "closest",
          "mapbox": {
           "style": "light"
          },
          "paper_bgcolor": "white",
          "plot_bgcolor": "#E5ECF6",
          "polar": {
           "angularaxis": {
            "gridcolor": "white",
            "linecolor": "white",
            "ticks": ""
           },
           "bgcolor": "#E5ECF6",
           "radialaxis": {
            "gridcolor": "white",
            "linecolor": "white",
            "ticks": ""
           }
          },
          "scene": {
           "xaxis": {
            "backgroundcolor": "#E5ECF6",
            "gridcolor": "white",
            "gridwidth": 2,
            "linecolor": "white",
            "showbackground": true,
            "ticks": "",
            "zerolinecolor": "white"
           },
           "yaxis": {
            "backgroundcolor": "#E5ECF6",
            "gridcolor": "white",
            "gridwidth": 2,
            "linecolor": "white",
            "showbackground": true,
            "ticks": "",
            "zerolinecolor": "white"
           },
           "zaxis": {
            "backgroundcolor": "#E5ECF6",
            "gridcolor": "white",
            "gridwidth": 2,
            "linecolor": "white",
            "showbackground": true,
            "ticks": "",
            "zerolinecolor": "white"
           }
          },
          "shapedefaults": {
           "line": {
            "color": "#2a3f5f"
           }
          },
          "ternary": {
           "aaxis": {
            "gridcolor": "white",
            "linecolor": "white",
            "ticks": ""
           },
           "baxis": {
            "gridcolor": "white",
            "linecolor": "white",
            "ticks": ""
           },
           "bgcolor": "#E5ECF6",
           "caxis": {
            "gridcolor": "white",
            "linecolor": "white",
            "ticks": ""
           }
          },
          "title": {
           "x": 0.05
          },
          "xaxis": {
           "automargin": true,
           "gridcolor": "white",
           "linecolor": "white",
           "ticks": "",
           "title": {
            "standoff": 15
           },
           "zerolinecolor": "white",
           "zerolinewidth": 2
          },
          "yaxis": {
           "automargin": true,
           "gridcolor": "white",
           "linecolor": "white",
           "ticks": "",
           "title": {
            "standoff": 15
           },
           "zerolinecolor": "white",
           "zerolinewidth": 2
          }
         }
        }
       }
      },
      "text/html": [
       "<div>                            <div id=\"970d8039-c974-4937-9a9a-8b7103cd367c\" class=\"plotly-graph-div\" style=\"height:525px; width:100%;\"></div>            <script type=\"text/javascript\">                require([\"plotly\"], function(Plotly) {                    window.PLOTLYENV=window.PLOTLYENV || {};                                    if (document.getElementById(\"970d8039-c974-4937-9a9a-8b7103cd367c\")) {                    Plotly.newPlot(                        \"970d8039-c974-4937-9a9a-8b7103cd367c\",                        [{\"mode\": \"markers\", \"name\": \"Grid\", \"type\": \"scatter\", \"x\": [\"32_4_0.001_1\", \"32_4_0.001_3\", \"32_4_0.001_7\", \"32_4_0.0001_1\", \"32_4_0.0001_3\", \"32_4_0.0001_7\", \"32_6_0.001_1\", \"32_6_0.001_3\", \"32_6_0.001_7\", \"32_6_0.0001_1\"], \"y\": [0.546, 0.583, 0.564, 0.456, 0.446, 0.503, 0.501, 0.465, 0.538, 0.427]}, {\"mode\": \"markers\", \"name\": \"TL - Aggregated\", \"type\": \"scatter\", \"x\": [\"32_4_0.001_1\", \"32_4_0.001_3\", \"32_4_0.001_7\", \"32_4_0.0001_1\", \"32_4_0.0001_3\", \"32_4_0.0001_7\", \"32_6_0.001_1\", \"32_6_0.001_3\", \"32_6_0.001_7\", \"32_6_0.0001_1\"], \"y\": [0.465, 0.471, 0.572, 0.405, 0.442, 0.427, 0.462, 0.48, 0.494, 0.42]}, {\"mode\": \"markers\", \"name\": \"SUB - Aggregated\", \"type\": \"scatter\", \"x\": [\"32_4_0.001_1\", \"32_4_0.001_3\", \"32_4_0.001_7\", \"32_4_0.0001_1\", \"32_4_0.0001_3\", \"32_4_0.0001_7\", \"32_6_0.001_1\", \"32_6_0.001_3\", \"32_6_0.001_7\", \"32_6_0.0001_1\"], \"y\": [0.467, 0.486, 0.503, 0.43, 0.455, 0.404, 0.428, 0.462, 0.47, 0.394]}, {\"mode\": \"markers\", \"name\": \"PC - Aggregated\", \"type\": \"scatter\", \"x\": [\"32_4_0.001_1\", \"32_4_0.001_3\", \"32_4_0.001_7\", \"32_4_0.0001_1\", \"32_4_0.0001_3\", \"32_4_0.0001_7\", \"32_6_0.001_1\", \"32_6_0.001_3\", \"32_6_0.001_7\", \"32_6_0.0001_1\"], \"y\": [0.323, 0.498, 0.769, 0.331, 0.357, 0.517, 0.337, 0.414, 0.852, 0.341]}, {\"mode\": \"markers\", \"name\": \"Site - Aggregated\", \"type\": \"scatter\", \"x\": [\"32_4_0.001_1\", \"32_4_0.001_3\", \"32_4_0.001_7\", \"32_4_0.0001_1\", \"32_4_0.0001_3\", \"32_4_0.0001_7\", \"32_6_0.001_1\", \"32_6_0.001_3\", \"32_6_0.001_7\", \"32_6_0.0001_1\"], \"y\": [0.332, 0.573, 0.778, 0.328, 0.376, 0.519, 0.325, 0.573, 0.524, 0.331]}],                        {\"template\": {\"data\": {\"bar\": [{\"error_x\": {\"color\": \"#2a3f5f\"}, \"error_y\": {\"color\": \"#2a3f5f\"}, \"marker\": {\"line\": {\"color\": \"#E5ECF6\", \"width\": 0.5}}, \"type\": \"bar\"}], \"barpolar\": [{\"marker\": {\"line\": {\"color\": \"#E5ECF6\", \"width\": 0.5}}, \"type\": \"barpolar\"}], \"carpet\": [{\"aaxis\": {\"endlinecolor\": \"#2a3f5f\", \"gridcolor\": \"white\", \"linecolor\": \"white\", \"minorgridcolor\": \"white\", \"startlinecolor\": \"#2a3f5f\"}, \"baxis\": {\"endlinecolor\": \"#2a3f5f\", \"gridcolor\": \"white\", \"linecolor\": \"white\", \"minorgridcolor\": \"white\", \"startlinecolor\": \"#2a3f5f\"}, \"type\": \"carpet\"}], \"choropleth\": [{\"colorbar\": {\"outlinewidth\": 0, \"ticks\": \"\"}, \"type\": \"choropleth\"}], \"contour\": [{\"colorbar\": {\"outlinewidth\": 0, \"ticks\": \"\"}, \"colorscale\": [[0.0, \"#0d0887\"], [0.1111111111111111, \"#46039f\"], [0.2222222222222222, \"#7201a8\"], [0.3333333333333333, \"#9c179e\"], [0.4444444444444444, \"#bd3786\"], [0.5555555555555556, \"#d8576b\"], [0.6666666666666666, \"#ed7953\"], [0.7777777777777778, \"#fb9f3a\"], [0.8888888888888888, \"#fdca26\"], [1.0, \"#f0f921\"]], \"type\": \"contour\"}], \"contourcarpet\": [{\"colorbar\": {\"outlinewidth\": 0, \"ticks\": \"\"}, \"type\": \"contourcarpet\"}], \"heatmap\": [{\"colorbar\": {\"outlinewidth\": 0, \"ticks\": \"\"}, \"colorscale\": [[0.0, \"#0d0887\"], [0.1111111111111111, \"#46039f\"], [0.2222222222222222, \"#7201a8\"], [0.3333333333333333, \"#9c179e\"], [0.4444444444444444, \"#bd3786\"], [0.5555555555555556, \"#d8576b\"], [0.6666666666666666, \"#ed7953\"], [0.7777777777777778, \"#fb9f3a\"], [0.8888888888888888, \"#fdca26\"], [1.0, \"#f0f921\"]], \"type\": \"heatmap\"}], \"heatmapgl\": [{\"colorbar\": {\"outlinewidth\": 0, \"ticks\": \"\"}, \"colorscale\": [[0.0, \"#0d0887\"], [0.1111111111111111, \"#46039f\"], [0.2222222222222222, \"#7201a8\"], [0.3333333333333333, \"#9c179e\"], [0.4444444444444444, \"#bd3786\"], [0.5555555555555556, \"#d8576b\"], [0.6666666666666666, \"#ed7953\"], [0.7777777777777778, \"#fb9f3a\"], [0.8888888888888888, \"#fdca26\"], [1.0, \"#f0f921\"]], \"type\": \"heatmapgl\"}], \"histogram\": [{\"marker\": {\"colorbar\": {\"outlinewidth\": 0, \"ticks\": \"\"}}, \"type\": \"histogram\"}], \"histogram2d\": [{\"colorbar\": {\"outlinewidth\": 0, \"ticks\": \"\"}, \"colorscale\": [[0.0, \"#0d0887\"], [0.1111111111111111, \"#46039f\"], [0.2222222222222222, \"#7201a8\"], [0.3333333333333333, \"#9c179e\"], [0.4444444444444444, \"#bd3786\"], [0.5555555555555556, \"#d8576b\"], [0.6666666666666666, \"#ed7953\"], [0.7777777777777778, \"#fb9f3a\"], [0.8888888888888888, \"#fdca26\"], [1.0, \"#f0f921\"]], \"type\": \"histogram2d\"}], \"histogram2dcontour\": [{\"colorbar\": {\"outlinewidth\": 0, \"ticks\": \"\"}, \"colorscale\": [[0.0, \"#0d0887\"], [0.1111111111111111, \"#46039f\"], [0.2222222222222222, \"#7201a8\"], [0.3333333333333333, \"#9c179e\"], [0.4444444444444444, \"#bd3786\"], [0.5555555555555556, \"#d8576b\"], [0.6666666666666666, \"#ed7953\"], [0.7777777777777778, \"#fb9f3a\"], [0.8888888888888888, \"#fdca26\"], [1.0, \"#f0f921\"]], \"type\": \"histogram2dcontour\"}], \"mesh3d\": [{\"colorbar\": {\"outlinewidth\": 0, \"ticks\": \"\"}, \"type\": \"mesh3d\"}], \"parcoords\": [{\"line\": {\"colorbar\": {\"outlinewidth\": 0, \"ticks\": \"\"}}, \"type\": \"parcoords\"}], \"pie\": [{\"automargin\": true, \"type\": \"pie\"}], \"scatter\": [{\"marker\": {\"colorbar\": {\"outlinewidth\": 0, \"ticks\": \"\"}}, \"type\": \"scatter\"}], \"scatter3d\": [{\"line\": {\"colorbar\": {\"outlinewidth\": 0, \"ticks\": \"\"}}, \"marker\": {\"colorbar\": {\"outlinewidth\": 0, \"ticks\": \"\"}}, \"type\": \"scatter3d\"}], \"scattercarpet\": [{\"marker\": {\"colorbar\": {\"outlinewidth\": 0, \"ticks\": \"\"}}, \"type\": \"scattercarpet\"}], \"scattergeo\": [{\"marker\": {\"colorbar\": {\"outlinewidth\": 0, \"ticks\": \"\"}}, \"type\": \"scattergeo\"}], \"scattergl\": [{\"marker\": {\"colorbar\": {\"outlinewidth\": 0, \"ticks\": \"\"}}, \"type\": \"scattergl\"}], \"scattermapbox\": [{\"marker\": {\"colorbar\": {\"outlinewidth\": 0, \"ticks\": \"\"}}, \"type\": \"scattermapbox\"}], \"scatterpolar\": [{\"marker\": {\"colorbar\": {\"outlinewidth\": 0, \"ticks\": \"\"}}, \"type\": \"scatterpolar\"}], \"scatterpolargl\": [{\"marker\": {\"colorbar\": {\"outlinewidth\": 0, \"ticks\": \"\"}}, \"type\": \"scatterpolargl\"}], \"scatterternary\": [{\"marker\": {\"colorbar\": {\"outlinewidth\": 0, \"ticks\": \"\"}}, \"type\": \"scatterternary\"}], \"surface\": [{\"colorbar\": {\"outlinewidth\": 0, \"ticks\": \"\"}, \"colorscale\": [[0.0, \"#0d0887\"], [0.1111111111111111, \"#46039f\"], [0.2222222222222222, \"#7201a8\"], [0.3333333333333333, \"#9c179e\"], [0.4444444444444444, \"#bd3786\"], [0.5555555555555556, \"#d8576b\"], [0.6666666666666666, \"#ed7953\"], [0.7777777777777778, \"#fb9f3a\"], [0.8888888888888888, \"#fdca26\"], [1.0, \"#f0f921\"]], \"type\": \"surface\"}], \"table\": [{\"cells\": {\"fill\": {\"color\": \"#EBF0F8\"}, \"line\": {\"color\": \"white\"}}, \"header\": {\"fill\": {\"color\": \"#C8D4E3\"}, \"line\": {\"color\": \"white\"}}, \"type\": \"table\"}]}, \"layout\": {\"annotationdefaults\": {\"arrowcolor\": \"#2a3f5f\", \"arrowhead\": 0, \"arrowwidth\": 1}, \"autotypenumbers\": \"strict\", \"coloraxis\": {\"colorbar\": {\"outlinewidth\": 0, \"ticks\": \"\"}}, \"colorscale\": {\"diverging\": [[0, \"#8e0152\"], [0.1, \"#c51b7d\"], [0.2, \"#de77ae\"], [0.3, \"#f1b6da\"], [0.4, \"#fde0ef\"], [0.5, \"#f7f7f7\"], [0.6, \"#e6f5d0\"], [0.7, \"#b8e186\"], [0.8, \"#7fbc41\"], [0.9, \"#4d9221\"], [1, \"#276419\"]], \"sequential\": [[0.0, \"#0d0887\"], [0.1111111111111111, \"#46039f\"], [0.2222222222222222, \"#7201a8\"], [0.3333333333333333, \"#9c179e\"], [0.4444444444444444, \"#bd3786\"], [0.5555555555555556, \"#d8576b\"], [0.6666666666666666, \"#ed7953\"], [0.7777777777777778, \"#fb9f3a\"], [0.8888888888888888, \"#fdca26\"], [1.0, \"#f0f921\"]], \"sequentialminus\": [[0.0, \"#0d0887\"], [0.1111111111111111, \"#46039f\"], [0.2222222222222222, \"#7201a8\"], [0.3333333333333333, \"#9c179e\"], [0.4444444444444444, \"#bd3786\"], [0.5555555555555556, \"#d8576b\"], [0.6666666666666666, \"#ed7953\"], [0.7777777777777778, \"#fb9f3a\"], [0.8888888888888888, \"#fdca26\"], [1.0, \"#f0f921\"]]}, \"colorway\": [\"#636efa\", \"#EF553B\", \"#00cc96\", \"#ab63fa\", \"#FFA15A\", \"#19d3f3\", \"#FF6692\", \"#B6E880\", \"#FF97FF\", \"#FECB52\"], \"font\": {\"color\": \"#2a3f5f\"}, \"geo\": {\"bgcolor\": \"white\", \"lakecolor\": \"white\", \"landcolor\": \"#E5ECF6\", \"showlakes\": true, \"showland\": true, \"subunitcolor\": \"white\"}, \"hoverlabel\": {\"align\": \"left\"}, \"hovermode\": \"closest\", \"mapbox\": {\"style\": \"light\"}, \"paper_bgcolor\": \"white\", \"plot_bgcolor\": \"#E5ECF6\", \"polar\": {\"angularaxis\": {\"gridcolor\": \"white\", \"linecolor\": \"white\", \"ticks\": \"\"}, \"bgcolor\": \"#E5ECF6\", \"radialaxis\": {\"gridcolor\": \"white\", \"linecolor\": \"white\", \"ticks\": \"\"}}, \"scene\": {\"xaxis\": {\"backgroundcolor\": \"#E5ECF6\", \"gridcolor\": \"white\", \"gridwidth\": 2, \"linecolor\": \"white\", \"showbackground\": true, \"ticks\": \"\", \"zerolinecolor\": \"white\"}, \"yaxis\": {\"backgroundcolor\": \"#E5ECF6\", \"gridcolor\": \"white\", \"gridwidth\": 2, \"linecolor\": \"white\", \"showbackground\": true, \"ticks\": \"\", \"zerolinecolor\": \"white\"}, \"zaxis\": {\"backgroundcolor\": \"#E5ECF6\", \"gridcolor\": \"white\", \"gridwidth\": 2, \"linecolor\": \"white\", \"showbackground\": true, \"ticks\": \"\", \"zerolinecolor\": \"white\"}}, \"shapedefaults\": {\"line\": {\"color\": \"#2a3f5f\"}}, \"ternary\": {\"aaxis\": {\"gridcolor\": \"white\", \"linecolor\": \"white\", \"ticks\": \"\"}, \"baxis\": {\"gridcolor\": \"white\", \"linecolor\": \"white\", \"ticks\": \"\"}, \"bgcolor\": \"#E5ECF6\", \"caxis\": {\"gridcolor\": \"white\", \"linecolor\": \"white\", \"ticks\": \"\"}}, \"title\": {\"x\": 0.05}, \"xaxis\": {\"automargin\": true, \"gridcolor\": \"white\", \"linecolor\": \"white\", \"ticks\": \"\", \"title\": {\"standoff\": 15}, \"zerolinecolor\": \"white\", \"zerolinewidth\": 2}, \"yaxis\": {\"automargin\": true, \"gridcolor\": \"white\", \"linecolor\": \"white\", \"ticks\": \"\", \"title\": {\"standoff\": 15}, \"zerolinecolor\": \"white\", \"zerolinewidth\": 2}}}},                        {\"responsive\": true}                    ).then(function(){\n",
       "                            \n",
       "var gd = document.getElementById('970d8039-c974-4937-9a9a-8b7103cd367c');\n",
       "var x = new MutationObserver(function (mutations, observer) {{\n",
       "        var display = window.getComputedStyle(gd).display;\n",
       "        if (!display || display === 'none') {{\n",
       "            console.log([gd, 'removed!']);\n",
       "            Plotly.purge(gd);\n",
       "            observer.disconnect();\n",
       "        }}\n",
       "}});\n",
       "\n",
       "// Listen for the removal of the full notebook cells\n",
       "var notebookContainer = gd.closest('#notebook-container');\n",
       "if (notebookContainer) {{\n",
       "    x.observe(notebookContainer, {childList: true});\n",
       "}}\n",
       "\n",
       "// Listen for the clearing of the current output cell\n",
       "var outputEl = gd.closest('.output');\n",
       "if (outputEl) {{\n",
       "    x.observe(outputEl, {childList: true});\n",
       "}}\n",
       "\n",
       "                        })                };                });            </script>        </div>"
      ]
     },
     "metadata": {},
     "output_type": "display_data"
    }
   ],
   "source": [
    "fig = go.Figure()\n",
    "\n",
    "for col in cnn_iter_results.columns[1:]:\n",
    "    fig.add_trace(go.Scatter(x= cnn_iter_results['Unnamed: 0'], y=cnn_iter_results[col],  mode='markers', name=col))\n",
    "    \n",
    "fig.show()"
   ]
  },
  {
   "cell_type": "markdown",
   "id": "curious-shoulder",
   "metadata": {},
   "source": [
    "## Grid + PC level NN"
   ]
  },
  {
   "cell_type": "code",
   "execution_count": 40,
   "id": "active-frequency",
   "metadata": {},
   "outputs": [],
   "source": [
    "def sum_fc_results(ts_array, model_path):\n",
    "    dfs = []\n",
    "    for ts in ts_array:\n",
    "        ts_fc = pd.read_csv(f'../{model_path}/{ts}.csv', index_col=[0])[['fc']]\n",
    "        dfs.append(ts_fc)\n",
    "    concat_df = pd.concat(dfs, axis=1).sum(axis=1)\n",
    "    return concat_df"
   ]
  },
  {
   "cell_type": "code",
   "execution_count": 41,
   "id": "reflected-pharmacology",
   "metadata": {},
   "outputs": [],
   "source": [
    "def calculate_grid_error(start, end, model_path, error_metric):\n",
    "    if end == -1:\n",
    "        ts_array = const.TS[start: ]\n",
    "    else:\n",
    "        ts_array = const.TS[start: end]\n",
    "    data = pd.read_csv(f'../ts_data/grid.csv', index_col=[0])\n",
    "    look_back = 14 * 7  # 14 hours in to 7 days\n",
    "\n",
    "    # train, val, test split\n",
    "    train, val, test = util.split_hourly_data(data, look_back)\n",
    "    train_df = train[['power']]\n",
    "    denom = err.calculate_denom(train_df, const.H_SEASONALITY)\n",
    "    \n",
    "    results_df = pd.read_csv(f'../{model_path}/grid.csv', index_col=[0])\n",
    "    test_sample = results_df['power'].values\n",
    "    forecasts = sum_fc_results(ts_array, model_path).values\n",
    "    horizon = 14\n",
    "    \n",
    "    if error_metric == \"RMSE\":\n",
    "        mean_err, error_dist = err.test_errors_nrmse(train_df.values, test_sample, forecasts, horizon)\n",
    "    else:\n",
    "        mean_err, error_dist = err.test_errors(train_df, test_sample, forecasts, horizon, const.H_SEASONALITY, denom)\n",
    "        \n",
    "    return mean_err, error_dist"
   ]
  },
  {
   "cell_type": "code",
   "execution_count": 43,
   "id": "third-eagle",
   "metadata": {},
   "outputs": [],
   "source": [
    "rmse_error, rmse_dist = calculate_grid_error(0, 1, 'combined_nn_results', \"RMSE\")"
   ]
  },
  {
   "cell_type": "code",
   "execution_count": 44,
   "id": "former-brother",
   "metadata": {},
   "outputs": [
    {
     "data": {
      "text/plain": [
       "0.5857013669439975"
      ]
     },
     "execution_count": 44,
     "metadata": {},
     "output_type": "execute_result"
    }
   ],
   "source": [
    "rmse_error"
   ]
  },
  {
   "cell_type": "code",
   "execution_count": 45,
   "id": "moved-backup",
   "metadata": {},
   "outputs": [],
   "source": [
    "def read_loss_curve():\n",
    "    return pd.read_pickle(f'../combined_nn_results/training_loss_grid_iteration')"
   ]
  },
  {
   "cell_type": "code",
   "execution_count": 46,
   "id": "cutting-volleyball",
   "metadata": {},
   "outputs": [],
   "source": [
    "def plot_loss(loss_array, models):\n",
    "\n",
    "    fig = go.Figure()\n",
    "    \n",
    "    i =0\n",
    "    for loss in loss_array:\n",
    "        fig.add_trace(go.Scatter(y= loss['loss'] , name = f'{models[i]}_train-loss' ))\n",
    "        fig.add_trace(go.Scatter(y= loss['val_loss'], name = f'{models[i]}_val-loss'))\n",
    "        i +=1\n",
    "    fig.show()"
   ]
  },
  {
   "cell_type": "code",
   "execution_count": 47,
   "id": "frozen-pierce",
   "metadata": {},
   "outputs": [],
   "source": [
    "loss = read_loss_curve()"
   ]
  },
  {
   "cell_type": "code",
   "execution_count": 48,
   "id": "mexican-caribbean",
   "metadata": {},
   "outputs": [
    {
     "data": {
      "application/vnd.plotly.v1+json": {
       "config": {
        "plotlyServerURL": "https://plot.ly"
       },
       "data": [
        {
         "name": "combined_nn_train-loss",
         "type": "scatter",
         "y": [
          1.0858913660049438,
          0.9649316072463989,
          0.9523940682411194,
          0.9492166042327881,
          0.9425086975097656,
          0.9394137859344482,
          0.9338079690933228,
          0.9242844581604004,
          0.9229106307029724,
          0.9219926595687866,
          0.9082212448120117,
          0.9022692441940308,
          0.9016770124435425,
          0.8929126858711243,
          0.890405535697937,
          0.8853495121002197,
          0.8884085416793823,
          0.8724134564399719,
          0.8687204718589783,
          0.8648239374160767,
          0.8652381896972656,
          0.8538679480552673,
          0.8522379398345947,
          0.8460294008255005,
          0.837958037853241,
          0.8422949314117432,
          0.8308820128440857,
          0.8312348127365112,
          0.8230451941490173,
          0.8204350471496582,
          0.8102223873138428,
          0.8096408247947693,
          0.8088890314102173,
          0.7945050597190857,
          0.797591507434845,
          0.7893047332763672,
          0.7896981835365295,
          0.7850426435470581,
          0.7775354981422424,
          0.7737632989883423,
          0.7698046565055847,
          0.7639977335929871,
          0.754348874092102,
          0.7461437582969666,
          0.7407127618789673,
          0.7322869896888733,
          0.7223427891731262,
          0.7103853821754456,
          0.7006491422653198,
          0.6983044743537903,
          0.6931405067443848,
          0.6859725117683411,
          0.6837517619132996,
          0.6768158078193665,
          0.6736200451850891,
          0.6717081069946289,
          0.6626372933387756,
          0.6612992882728577,
          0.6585321426391602,
          0.6608083844184875,
          0.656480610370636,
          0.6491031050682068,
          0.6505019664764404,
          0.6453042030334473,
          0.6454513072967529,
          0.6421410441398621,
          0.6329533457756042,
          0.635878324508667,
          0.632508397102356,
          0.6306143999099731,
          0.6314488649368286,
          0.6273205280303955,
          0.625388503074646,
          0.6278386116027832,
          0.6205945611000061,
          0.6211328506469727,
          0.6153775453567505,
          0.618408739566803,
          0.6140453815460205,
          0.6092774868011475,
          0.6092761754989624,
          0.6085368394851685,
          0.6065831184387207,
          0.6021286249160767,
          0.6002674102783203,
          0.6006497740745544,
          0.6002424955368042,
          0.595166027545929,
          0.5952492952346802,
          0.5949268937110901,
          0.5936447978019714,
          0.5912204384803772,
          0.5896021723747253,
          0.5855408906936646,
          0.5895294547080994,
          0.5865435600280762,
          0.5841506719589233,
          0.5856590270996094,
          0.5823566317558289,
          0.5780773162841797,
          0.5773456692695618,
          0.5766148567199707,
          0.5733592510223389,
          0.5724003314971924,
          0.5726420283317566,
          0.5720625519752502,
          0.5724037885665894,
          0.5678965449333191,
          0.5676888227462769,
          0.5685368776321411,
          0.5648918151855469,
          0.5624224543571472,
          0.5621893405914307,
          0.5633569955825806,
          0.559964656829834,
          0.5583527088165283,
          0.556214451789856,
          0.5561944842338562,
          0.5528983473777771,
          0.5517155528068542,
          0.5504367351531982,
          0.5500668287277222,
          0.5504708886146545,
          0.5505630970001221,
          0.548728883266449,
          0.5468928813934326,
          0.5469586253166199,
          0.5453875064849854,
          0.5461491942405701,
          0.5426313877105713,
          0.5404183268547058,
          0.5386976003646851,
          0.5390151739120483,
          0.5370008945465088,
          0.5373315811157227,
          0.536771833896637,
          0.5363903641700745,
          0.5326918959617615,
          0.5320630669593811,
          0.5323197841644287,
          0.5335037708282471,
          0.5309314727783203,
          0.5312073826789856,
          0.5273419618606567,
          0.5269721150398254,
          0.5261855125427246,
          0.5261504054069519,
          0.5222299098968506,
          0.5245162844657898,
          0.5196005702018738,
          0.5217452645301819,
          0.5194896459579468,
          0.5199975371360779,
          0.5179517865180969,
          0.5172677040100098,
          0.5159904360771179,
          0.5149992108345032,
          0.5138586759567261,
          0.515995442867279,
          0.5106918215751648,
          0.5101141929626465,
          0.512662947177887,
          0.5101224780082703,
          0.5105376839637756,
          0.5085602402687073,
          0.5127003788948059,
          0.5072006583213806,
          0.5066409707069397,
          0.5058750510215759,
          0.5061507225036621,
          0.5045937895774841,
          0.5030660629272461,
          0.5011785626411438,
          0.5010377168655396,
          0.5004014372825623,
          0.4978237450122833,
          0.5012800693511963,
          0.4995100498199463,
          0.4985697567462921,
          0.4967379868030548,
          0.49555110931396484,
          0.49367663264274597,
          0.4939570128917694,
          0.4962533414363861,
          0.4931744933128357,
          0.49360641837120056,
          0.4935905635356903,
          0.4918583929538727,
          0.4908972382545471,
          0.49018412828445435,
          0.49015212059020996,
          0.4888067841529846,
          0.486842542886734,
          0.486642062664032,
          0.4865686297416687,
          0.48572275042533875,
          0.48509034514427185,
          0.4847354292869568,
          0.4837188422679901,
          0.4845992922782898,
          0.4832156300544739,
          0.4822207987308502,
          0.4821336567401886,
          0.48126059770584106,
          0.48141008615493774,
          0.47986966371536255,
          0.48025044798851013,
          0.4801490604877472,
          0.4773741364479065,
          0.4777240455150604,
          0.4785689413547516,
          0.4760727286338806,
          0.47732943296432495,
          0.4772535264492035,
          0.476480633020401,
          0.47390663623809814,
          0.47614139318466187,
          0.47623613476753235,
          0.47320711612701416,
          0.47312790155410767,
          0.4734475910663605,
          0.47606387734413147,
          0.4729462265968323,
          0.4719092845916748,
          0.47075363993644714,
          0.4719031751155853,
          0.4696582555770874,
          0.46986258029937744,
          0.46865296363830566,
          0.47062093019485474,
          0.4687872529029846,
          0.4681019186973572,
          0.46814122796058655,
          0.4683529734611511,
          0.46806854009628296,
          0.46663978695869446,
          0.4659979045391083,
          0.464999258518219,
          0.46452629566192627,
          0.46495968103408813,
          0.46378034353256226,
          0.46556556224823,
          0.46459242701530457,
          0.46370792388916016,
          0.46438515186309814,
          0.46320268511772156,
          0.464124858379364,
          0.46241122484207153,
          0.46145692467689514,
          0.46177640557289124,
          0.4630711078643799,
          0.4610346853733063,
          0.4611303210258484,
          0.4604552984237671,
          0.4614895284175873,
          0.46167081594467163,
          0.4610263705253601,
          0.4596812427043915,
          0.46122103929519653,
          0.4604344964027405,
          0.4594246745109558,
          0.4600345492362976,
          0.4590919315814972,
          0.45851951837539673,
          0.45868849754333496,
          0.4599018096923828,
          0.45911750197410583,
          0.4582977294921875,
          0.4579830467700958,
          0.45760178565979004,
          0.4574293792247772,
          0.4578840136528015,
          0.4558241367340088,
          0.4560967981815338,
          0.457062304019928,
          0.4577106535434723,
          0.4577183425426483,
          0.4547218978404999,
          0.4555610716342926,
          0.45525071024894714,
          0.4577420949935913,
          0.45509642362594604,
          0.4547271430492401,
          0.4539138674736023,
          0.4535723030567169,
          0.45542654395103455,
          0.45420360565185547,
          0.45324015617370605,
          0.45403677225112915,
          0.454583078622818,
          0.45589280128479004,
          0.4526257812976837,
          0.4534464180469513,
          0.45451420545578003,
          0.45406654477119446,
          0.4532199800014496,
          0.4533601701259613,
          0.452379047870636,
          0.45502641797065735,
          0.45262253284454346,
          0.4521408677101135,
          0.45163342356681824,
          0.4532754421234131,
          0.4513038396835327,
          0.45164525508880615,
          0.45139122009277344,
          0.45172274112701416,
          0.4503040015697479,
          0.4514135420322418,
          0.4517362415790558,
          0.4524272680282593,
          0.4508483409881592,
          0.45036107301712036,
          0.4505644142627716,
          0.44944092631340027,
          0.4504162073135376,
          0.450991690158844,
          0.451509028673172,
          0.4502941966056824,
          0.44975996017456055,
          0.449775367975235,
          0.45092466473579407,
          0.4494471251964569,
          0.4496980309486389,
          0.4493095874786377,
          0.44911763072013855,
          0.45096972584724426,
          0.44914764165878296,
          0.4481912851333618,
          0.44848552346229553,
          0.4483371078968048,
          0.44865915179252625,
          0.44854360818862915,
          0.4482494294643402,
          0.44848281145095825,
          0.44817915558815,
          0.449758380651474,
          0.44741371273994446,
          0.44785335659980774,
          0.4475874602794647,
          0.4484344720840454,
          0.4478030800819397,
          0.4474947154521942,
          0.44927188754081726,
          0.4478297531604767,
          0.4471815526485443,
          0.4481372833251953,
          0.44804152846336365,
          0.4481111466884613,
          0.44784659147262573,
          0.4469175934791565,
          0.44720128178596497,
          0.44749605655670166,
          0.44766294956207275,
          0.44694042205810547,
          0.4464477002620697,
          0.44621196389198303,
          0.4469134211540222,
          0.44778549671173096,
          0.44618210196495056,
          0.44597724080085754,
          0.44650769233703613,
          0.44671201705932617,
          0.4464472830295563,
          0.44752630591392517,
          0.445889413356781,
          0.4454403221607208,
          0.4458250105381012,
          0.4464596211910248,
          0.44650447368621826,
          0.44621542096138,
          0.4469496011734009,
          0.4464567005634308,
          0.44557738304138184,
          0.44522517919540405,
          0.4454055726528168,
          0.444766640663147,
          0.44621288776397705,
          0.44643324613571167,
          0.44633767008781433,
          0.4446566104888916,
          0.44603973627090454,
          0.44555336236953735,
          0.4459497034549713,
          0.44465604424476624,
          0.4449041783809662,
          0.44495758414268494,
          0.44532713294029236,
          0.4453776776790619,
          0.4442509412765503,
          0.44401904940605164,
          0.44510459899902344,
          0.4445670247077942,
          0.4442371726036072,
          0.4445977509021759,
          0.44526588916778564,
          0.4443734288215637,
          0.44434645771980286,
          0.4444296956062317,
          0.44470858573913574,
          0.4435647428035736,
          0.44394412636756897,
          0.44371333718299866,
          0.4447518289089203,
          0.4445759356021881,
          0.4441607594490051,
          0.44413599371910095,
          0.4445139765739441,
          0.4446295201778412,
          0.4437375068664551,
          0.4436642825603485,
          0.4438767731189728,
          0.44336238503456116,
          0.4427890479564667,
          0.4426654875278473,
          0.4448705315589905,
          0.4449079930782318,
          0.4434854984283447,
          0.4427567720413208,
          0.44352737069129944,
          0.44413548707962036,
          0.44346487522125244,
          0.4453040361404419,
          0.44385141134262085,
          0.4431042969226837,
          0.4426671266555786,
          0.4431670904159546,
          0.4431534707546234,
          0.44296255707740784,
          0.4437251091003418,
          0.44226521253585815,
          0.4427613317966461,
          0.4434117376804352,
          0.44246554374694824,
          0.4429318904876709,
          0.4438841640949249,
          0.44269922375679016,
          0.44255784153938293,
          0.4422646462917328,
          0.44248709082603455,
          0.44303199648857117,
          0.44234326481819153,
          0.443486750125885,
          0.44300559163093567,
          0.4426482915878296,
          0.44179481267929077,
          0.4418172538280487,
          0.44335976243019104,
          0.4422198534011841,
          0.44261273741722107,
          0.44227489829063416,
          0.4428628981113434,
          0.44176462292671204,
          0.44367995858192444,
          0.4422489106655121,
          0.44187653064727783,
          0.44260892271995544,
          0.44277873635292053,
          0.44251471757888794,
          0.44180917739868164,
          0.442522257566452,
          0.4421534538269043,
          0.44224098324775696,
          0.4421662986278534,
          0.44156748056411743,
          0.441745400428772,
          0.44162797927856445,
          0.44185763597488403,
          0.44168034195899963,
          0.4423828423023224,
          0.4412575364112854,
          0.44122254848480225,
          0.44115614891052246,
          0.44127169251441956,
          0.44199037551879883,
          0.44198909401893616,
          0.4411987066268921,
          0.4411954879760742,
          0.4409591257572174,
          0.44075843691825867,
          0.44147223234176636,
          0.44134536385536194,
          0.4408716857433319,
          0.44069722294807434,
          0.4406627118587494,
          0.4414464831352234,
          0.4414035379886627,
          0.4409479796886444,
          0.44115641713142395,
          0.44062110781669617,
          0.44030487537384033,
          0.44096434116363525,
          0.4405311942100525,
          0.4406931698322296,
          0.4413856863975525,
          0.4417777359485626,
          0.44236084818840027,
          0.4420122504234314,
          0.4404115676879883,
          0.44016632437705994,
          0.4408740699291229,
          0.44057130813598633,
          0.4401363134384155,
          0.44097936153411865,
          0.44145533442497253,
          0.44055643677711487,
          0.44039809703826904,
          0.4404686689376831,
          0.4406023919582367,
          0.44118520617485046,
          0.4406028389930725,
          0.44043299555778503,
          0.44013041257858276,
          0.44082435965538025,
          0.44025155901908875,
          0.44066327810287476,
          0.4402620792388916,
          0.4400085210800171,
          0.44041597843170166,
          0.4403952658176422,
          0.4397508203983307,
          0.4406028985977173,
          0.4409905970096588,
          0.439415842294693,
          0.44013795256614685,
          0.44033995270729065,
          0.439915269613266,
          0.4406379759311676,
          0.4400539696216583,
          0.4395834505558014,
          0.43938398361206055,
          0.43952247500419617,
          0.44038450717926025,
          0.4397509694099426,
          0.43959611654281616,
          0.43935686349868774,
          0.44010403752326965,
          0.44081082940101624,
          0.4392493665218353,
          0.4399902820587158,
          0.4406960606575012,
          0.4398319125175476,
          0.440033495426178,
          0.4401136040687561,
          0.4408200681209564,
          0.44024065136909485,
          0.4403730034828186,
          0.4401121437549591,
          0.43995964527130127,
          0.44111889600753784,
          0.4399827718734741,
          0.43937522172927856,
          0.43958303332328796,
          0.43953606486320496,
          0.439691960811615,
          0.43931788206100464,
          0.4391910135746002,
          0.4387257993221283,
          0.43963247537612915,
          0.43994611501693726,
          0.43952077627182007,
          0.43967944383621216,
          0.43895065784454346,
          0.4394032955169678,
          0.4389816224575043,
          0.4393306374549866,
          0.439785897731781,
          0.4401065409183502,
          0.43967047333717346,
          0.43960678577423096,
          0.4393758475780487,
          0.43906185030937195,
          0.4392910599708557,
          0.4387474060058594,
          0.4389372169971466,
          0.43935737013816833,
          0.439187616109848,
          0.4399709403514862,
          0.43934494256973267,
          0.4397662580013275,
          0.43927183747291565,
          0.4385925531387329,
          0.4387533664703369,
          0.4388180673122406,
          0.438692182302475,
          0.4385196566581726,
          0.43901047110557556,
          0.43816158175468445,
          0.43899497389793396,
          0.4388177692890167,
          0.4390648305416107,
          0.4393080472946167,
          0.43856388330459595,
          0.4384630620479584,
          0.438909649848938,
          0.4388270974159241,
          0.4384796917438507,
          0.4392020106315613,
          0.43859541416168213,
          0.43926116824150085,
          0.43908289074897766,
          0.43891096115112305,
          0.438477098941803,
          0.438340961933136,
          0.43871572613716125,
          0.437976211309433,
          0.43881645798683167,
          0.43941381573677063,
          0.43808144330978394,
          0.43851321935653687,
          0.4386460483074188,
          0.4383290708065033,
          0.43786513805389404,
          0.43813174962997437,
          0.43803519010543823,
          0.4382348954677582,
          0.4380134642124176,
          0.43848374485969543,
          0.438632071018219,
          0.43816250562667847,
          0.4397386908531189,
          0.4384455680847168,
          0.43830421566963196,
          0.4383338391780853,
          0.4389394223690033,
          0.43871328234672546,
          0.43792256712913513,
          0.43799859285354614,
          0.4378720819950104,
          0.4382565915584564,
          0.4381440579891205,
          0.43799078464508057,
          0.4384630024433136,
          0.43836432695388794,
          0.4382208585739136,
          0.43800413608551025,
          0.4374595582485199,
          0.43894684314727783,
          0.43763458728790283,
          0.437682569026947,
          0.438949853181839,
          0.4384486973285675,
          0.43755772709846497,
          0.4375823438167572,
          0.438107430934906,
          0.43783506751060486,
          0.4378203749656677,
          0.4384244978427887,
          0.4377972185611725,
          0.4383808374404907,
          0.43824684619903564,
          0.43808436393737793,
          0.43741366267204285,
          0.43726345896720886,
          0.43832290172576904,
          0.4381061792373657,
          0.4380040764808655,
          0.4386965036392212,
          0.4383891522884369,
          0.4380109906196594,
          0.43722158670425415,
          0.4375488758087158,
          0.43816936016082764,
          0.43718382716178894,
          0.43777957558631897,
          0.43785300850868225,
          0.4369998872280121,
          0.43740180134773254,
          0.43794456124305725,
          0.4382408559322357,
          0.4376530349254608,
          0.43724876642227173,
          0.43773895502090454,
          0.43714872002601624,
          0.43855616450309753,
          0.43791064620018005,
          0.4381624758243561,
          0.43911927938461304,
          0.4376225173473358,
          0.43718084692955017,
          0.4372880756855011,
          0.4376245439052582,
          0.43874022364616394,
          0.43741723895072937,
          0.4378527104854584,
          0.4373846650123596,
          0.43785378336906433,
          0.43809735774993896,
          0.4377671182155609,
          0.4375556707382202,
          0.4371357560157776,
          0.4369773864746094,
          0.4372117817401886,
          0.4374089539051056,
          0.4371889531612396,
          0.43726763129234314,
          0.43675175309181213,
          0.43722420930862427,
          0.4370415508747101,
          0.43741822242736816,
          0.4369838237762451,
          0.43796056509017944,
          0.4373641312122345,
          0.4375670552253723,
          0.43689095973968506,
          0.43696659803390503,
          0.4368441104888916,
          0.4375724196434021,
          0.4369591474533081,
          0.4371767044067383,
          0.436788946390152,
          0.43692880868911743,
          0.43670883774757385,
          0.4368368983268738,
          0.4370776414871216,
          0.43720543384552,
          0.43749144673347473,
          0.4375516474246979,
          0.43722084164619446,
          0.43699344992637634,
          0.4370579421520233,
          0.43710318207740784,
          0.4370712637901306,
          0.4379136562347412,
          0.4377260208129883,
          0.43729734420776367,
          0.4372164011001587,
          0.4365590810775757,
          0.4367203414440155,
          0.4370647370815277,
          0.4369905889034271,
          0.4369662404060364,
          0.436956524848938,
          0.4366993308067322,
          0.43741708993911743,
          0.436798632144928,
          0.4365248382091522,
          0.43740400671958923,
          0.43637531995773315,
          0.4368283748626709,
          0.43646368384361267,
          0.43638625741004944,
          0.4371111989021301,
          0.437183678150177,
          0.4366011917591095,
          0.43759885430336,
          0.4364936053752899,
          0.4363906681537628,
          0.4364994466304779,
          0.43641334772109985,
          0.4361903965473175,
          0.4364674389362335,
          0.4364142417907715,
          0.4361957609653473,
          0.43650758266448975,
          0.43650001287460327,
          0.4374517798423767,
          0.43722864985466003,
          0.4366680979728699,
          0.4363008141517639,
          0.43658778071403503,
          0.43731632828712463,
          0.43670418858528137,
          0.43779146671295166,
          0.4367339611053467,
          0.43662503361701965,
          0.4362295866012573,
          0.43645742535591125,
          0.4359472692012787,
          0.43616166710853577,
          0.4358823895454407,
          0.4370996654033661,
          0.4366146922111511,
          0.43647563457489014,
          0.43605998158454895,
          0.4362832307815552,
          0.43677496910095215,
          0.4361908733844757,
          0.43649813532829285,
          0.4365289509296417,
          0.4363158345222473,
          0.43591588735580444,
          0.4364478886127472,
          0.43627360463142395,
          0.43598559498786926,
          0.4372566342353821,
          0.4364897906780243,
          0.43686437606811523,
          0.43612048029899597,
          0.43633103370666504,
          0.436342716217041,
          0.4359063506126404,
          0.4362509250640869,
          0.4362432360649109,
          0.4362052381038666,
          0.43750759959220886,
          0.43700650334358215,
          0.43582668900489807,
          0.4368870258331299,
          0.43674933910369873,
          0.43705320358276367,
          0.43617960810661316,
          0.4362606704235077,
          0.43613532185554504,
          0.4359881579875946,
          0.4360637962818146,
          0.4366600513458252,
          0.43657058477401733,
          0.43651169538497925,
          0.4359641671180725,
          0.4364243745803833,
          0.436349093914032,
          0.4358498156070709,
          0.43588313460350037,
          0.4362817406654358,
          0.4360007047653198,
          0.4357540011405945,
          0.43566837906837463,
          0.43640586733818054,
          0.4362926781177521,
          0.4357950687408447,
          0.4355855882167816,
          0.43645817041397095,
          0.4360334873199463,
          0.4358941614627838,
          0.43567052483558655,
          0.4354393482208252,
          0.4362829625606537,
          0.4367109537124634,
          0.4359016418457031,
          0.4357652962207794,
          0.4354592263698578,
          0.4357563257217407,
          0.43578821420669556,
          0.43596842885017395,
          0.4357689917087555,
          0.43603065609931946,
          0.4353814721107483,
          0.4354587197303772,
          0.43640321493148804,
          0.43622225522994995,
          0.43600597977638245,
          0.4362562894821167,
          0.4358111619949341,
          0.4356958568096161,
          0.4360884428024292,
          0.43735939264297485,
          0.43681973218917847,
          0.4360780715942383,
          0.43602892756462097,
          0.43582263588905334,
          0.4355449974536896,
          0.435969740152359,
          0.4359890818595886,
          0.43546411395072937,
          0.43618884682655334,
          0.4360572397708893,
          0.4352768361568451,
          0.4354766309261322,
          0.4359639883041382,
          0.4356687366962433,
          0.43536368012428284,
          0.43566060066223145,
          0.43489035964012146,
          0.43576276302337646,
          0.4359699785709381,
          0.4361327588558197,
          0.43531355261802673,
          0.43565523624420166,
          0.4352467656135559,
          0.43584612011909485,
          0.4357331693172455,
          0.4360698163509369,
          0.43540266156196594,
          0.43582794070243835,
          0.4352701008319855,
          0.4353191554546356,
          0.43519797921180725,
          0.435923308134079,
          0.4350293278694153,
          0.43512386083602905,
          0.4353552758693695,
          0.4360846281051636,
          0.4355000853538513,
          0.4358676075935364,
          0.43530982732772827,
          0.4352846145629883,
          0.4349741041660309,
          0.43567949533462524,
          0.4356878697872162,
          0.43543457984924316,
          0.4361601769924164,
          0.43553340435028076,
          0.4357421398162842,
          0.43529459834098816,
          0.43562397360801697,
          0.43551015853881836,
          0.435030072927475,
          0.4352906048297882,
          0.43475618958473206,
          0.43525391817092896,
          0.43533408641815186,
          0.43557634949684143,
          0.43564140796661377,
          0.4351799190044403,
          0.43503355979919434,
          0.43583062291145325,
          0.43480536341667175,
          0.43498972058296204,
          0.4353410303592682,
          0.4351339340209961,
          0.43488049507141113,
          0.43494945764541626,
          0.43519967794418335,
          0.43467235565185547,
          0.4350396990776062,
          0.4350467324256897,
          0.4351206123828888,
          0.43542972207069397,
          0.43474000692367554,
          0.43536803126335144,
          0.4353380501270294,
          0.43513286113739014,
          0.43527665734291077,
          0.4353640675544739,
          0.4348730742931366,
          0.43497925996780396,
          0.4355417788028717,
          0.43516096472740173,
          0.43458038568496704,
          0.43486806750297546,
          0.4351172149181366,
          0.4353613257408142,
          0.4349499046802521,
          0.43485942482948303,
          0.4353470206260681,
          0.43471255898475647,
          0.4348694682121277,
          0.4348638355731964,
          0.4361840486526489,
          0.43581947684288025,
          0.43478846549987793,
          0.4346470236778259,
          0.43516814708709717,
          0.43501782417297363,
          0.4355214238166809,
          0.43483373522758484,
          0.4349499046802521,
          0.4348655641078949,
          0.43510961532592773,
          0.4351959824562073,
          0.4352053105831146,
          0.4351981282234192,
          0.4363580346107483,
          0.43478989601135254,
          0.4347131848335266,
          0.43533703684806824,
          0.435596764087677,
          0.43469929695129395,
          0.4353022575378418,
          0.4353879988193512,
          0.4348592162132263,
          0.4345739185810089,
          0.4348090887069702,
          0.43444791436195374,
          0.4346635341644287,
          0.43479278683662415,
          0.4344829320907593,
          0.43470337986946106,
          0.43485450744628906,
          0.4350188672542572,
          0.43471866846084595,
          0.43489453196525574,
          0.43445345759391785,
          0.43465107679367065,
          0.43459373712539673,
          0.4344853460788727,
          0.43481335043907166,
          0.43442031741142273,
          0.43489453196525574,
          0.4354805648326874,
          0.43473491072654724,
          0.4349098205566406,
          0.43460211157798767,
          0.43468254804611206,
          0.43457069993019104,
          0.4344828426837921,
          0.43491289019584656,
          0.434699147939682,
          0.4348456561565399,
          0.4350101947784424,
          0.43428900837898254,
          0.43442466855049133,
          0.4350737929344177,
          0.43436846137046814,
          0.4363318383693695,
          0.4350629150867462,
          0.4344342052936554,
          0.43427327275276184,
          0.43415185809135437
         ]
        },
        {
         "name": "combined_nn_val-loss",
         "type": "scatter",
         "y": [
          2.023517608642578,
          1.9510831832885742,
          1.9523814916610718,
          1.8830097913742065,
          1.829010009765625,
          1.7659968137741089,
          1.7288525104522705,
          1.7023210525512695,
          1.679758071899414,
          1.6652557849884033,
          1.6018263101577759,
          1.6079649925231934,
          1.531131386756897,
          1.4806748628616333,
          1.5111260414123535,
          1.505015254020691,
          1.500490665435791,
          1.4449859857559204,
          1.4029911756515503,
          1.4405670166015625,
          1.3985868692398071,
          1.2915996313095093,
          1.2546712160110474,
          1.2402374744415283,
          1.2402034997940063,
          1.2191683053970337,
          1.178672194480896,
          1.1421842575073242,
          1.153389811515808,
          1.116054654121399,
          1.131328821182251,
          1.0418270826339722,
          1.0575355291366577,
          1.065446376800537,
          1.0670957565307617,
          1.0195257663726807,
          1.010382890701294,
          0.9916845560073853,
          0.9641794562339783,
          0.9579581618309021,
          0.9372310638427734,
          0.8928076028823853,
          0.8587494492530823,
          0.8342313766479492,
          0.7871659994125366,
          0.7896155714988708,
          0.7201088666915894,
          0.6689700484275818,
          0.6530871987342834,
          0.6222674250602722,
          0.6188944578170776,
          0.5861563682556152,
          0.5728399753570557,
          0.5566883683204651,
          0.56234210729599,
          0.5512095093727112,
          0.5332934856414795,
          0.5356364250183105,
          0.5404970645904541,
          0.5247970819473267,
          0.5311436653137207,
          0.5097984075546265,
          0.5182307362556458,
          0.5335130095481873,
          0.5303287506103516,
          0.5217172503471375,
          0.5092566609382629,
          0.4990559220314026,
          0.48757556080818176,
          0.4995149075984955,
          0.4918169677257538,
          0.49080121517181396,
          0.5219362378120422,
          0.510325014591217,
          0.49310609698295593,
          0.5043256878852844,
          0.4941677153110504,
          0.5004230737686157,
          0.5162012577056885,
          0.49573245644569397,
          0.48393872380256653,
          0.5034133195877075,
          0.47028541564941406,
          0.4756990075111389,
          0.4851778447628021,
          0.4652755558490753,
          0.4946424067020416,
          0.4726319909095764,
          0.46872979402542114,
          0.4663725793361664,
          0.4967978596687317,
          0.5091683268547058,
          0.46210476756095886,
          0.47464314103126526,
          0.4784117341041565,
          0.48119091987609863,
          0.46637415885925293,
          0.47462671995162964,
          0.45576533675193787,
          0.4686706066131592,
          0.4629354476928711,
          0.4615277945995331,
          0.473317414522171,
          0.4758511781692505,
          0.45030081272125244,
          0.4576743543148041,
          0.46057045459747314,
          0.45496585965156555,
          0.45325523614883423,
          0.46373844146728516,
          0.4659615159034729,
          0.46957337856292725,
          0.4708569645881653,
          0.441598504781723,
          0.46731242537498474,
          0.44695764780044556,
          0.4623855650424957,
          0.4403475821018219,
          0.4591783881187439,
          0.4595838189125061,
          0.4461183249950409,
          0.4632379412651062,
          0.45333635807037354,
          0.4674501419067383,
          0.4522435665130615,
          0.45148101449012756,
          0.44803386926651,
          0.4463023245334625,
          0.45067352056503296,
          0.4532953202724457,
          0.44085657596588135,
          0.44155511260032654,
          0.45319217443466187,
          0.4319494664669037,
          0.43753015995025635,
          0.42958173155784607,
          0.4479149580001831,
          0.42256075143814087,
          0.44291186332702637,
          0.45784851908683777,
          0.4358675181865692,
          0.44049331545829773,
          0.4490419030189514,
          0.4470766484737396,
          0.4388214647769928,
          0.43162471055984497,
          0.42435622215270996,
          0.4258095920085907,
          0.434315025806427,
          0.42075371742248535,
          0.42266079783439636,
          0.43183383345603943,
          0.4339437782764435,
          0.4246075451374054,
          0.4223485291004181,
          0.4320997893810272,
          0.4343709349632263,
          0.42019835114479065,
          0.4336531460285187,
          0.428727388381958,
          0.43405410647392273,
          0.414160817861557,
          0.4270520806312561,
          0.4248197674751282,
          0.41956955194473267,
          0.41668885946273804,
          0.4251600503921509,
          0.41701772809028625,
          0.411030650138855,
          0.4184013903141022,
          0.41717520356178284,
          0.4192350506782532,
          0.41553154587745667,
          0.4207044839859009,
          0.41943371295928955,
          0.41731759905815125,
          0.4007640480995178,
          0.42928510904312134,
          0.40989047288894653,
          0.4130829870700836,
          0.41103121638298035,
          0.41868114471435547,
          0.4082808494567871,
          0.41401785612106323,
          0.41009679436683655,
          0.4079253077507019,
          0.40507420897483826,
          0.4123154580593109,
          0.40539056062698364,
          0.4007968604564667,
          0.40553387999534607,
          0.39577701687812805,
          0.3957064747810364,
          0.4221588671207428,
          0.4024866819381714,
          0.40457379817962646,
          0.40469273924827576,
          0.40329617261886597,
          0.4007229208946228,
          0.39378589391708374,
          0.39197707176208496,
          0.40513333678245544,
          0.39398735761642456,
          0.3965674638748169,
          0.3952715992927551,
          0.39612653851509094,
          0.4012768864631653,
          0.3941064774990082,
          0.4015873372554779,
          0.38722264766693115,
          0.3950512409210205,
          0.4057253301143646,
          0.4006426930427551,
          0.3930432200431824,
          0.3920705020427704,
          0.3925407826900482,
          0.3887031376361847,
          0.38988062739372253,
          0.39313116669654846,
          0.3918493092060089,
          0.3869118392467499,
          0.38855189085006714,
          0.3890305757522583,
          0.38810014724731445,
          0.389659583568573,
          0.3889431953430176,
          0.39237117767333984,
          0.38252922892570496,
          0.3797389566898346,
          0.38555973768234253,
          0.38739126920700073,
          0.3853674530982971,
          0.38356250524520874,
          0.3864302635192871,
          0.3785562515258789,
          0.38103577494621277,
          0.3872535228729248,
          0.3825657069683075,
          0.38537710905075073,
          0.37882164120674133,
          0.3729177713394165,
          0.3739962577819824,
          0.3772050738334656,
          0.37315991520881653,
          0.3821018934249878,
          0.37153685092926025,
          0.37497615814208984,
          0.37229928374290466,
          0.3733506500720978,
          0.38410529494285583,
          0.37119877338409424,
          0.37305569648742676,
          0.3749120235443115,
          0.37650781869888306,
          0.3707811236381531,
          0.37847474217414856,
          0.367857426404953,
          0.369952529668808,
          0.37148404121398926,
          0.38300588726997375,
          0.3770274519920349,
          0.367291122674942,
          0.36937254667282104,
          0.367755264043808,
          0.36712682247161865,
          0.3657054305076599,
          0.37771910429000854,
          0.37204092741012573,
          0.370321124792099,
          0.36610716581344604,
          0.37431395053863525,
          0.36992380023002625,
          0.37008190155029297,
          0.3685437738895416,
          0.36848893761634827,
          0.36320751905441284,
          0.3677879571914673,
          0.372068852186203,
          0.36821967363357544,
          0.3663340210914612,
          0.36307492852211,
          0.36705076694488525,
          0.3646669089794159,
          0.36630481481552124,
          0.37403446435928345,
          0.3704473078250885,
          0.36364078521728516,
          0.3675503730773926,
          0.3666318953037262,
          0.3628695011138916,
          0.3702527582645416,
          0.3700070083141327,
          0.3673349916934967,
          0.3688338100910187,
          0.3670121133327484,
          0.3755892813205719,
          0.3628518879413605,
          0.35900425910949707,
          0.36286309361457825,
          0.3659355640411377,
          0.365296870470047,
          0.3651510179042816,
          0.36519119143486023,
          0.36335626244544983,
          0.36638739705085754,
          0.3663989007472992,
          0.36272740364074707,
          0.36283525824546814,
          0.36395883560180664,
          0.36668065190315247,
          0.36756953597068787,
          0.3624238073825836,
          0.364253431558609,
          0.36655983328819275,
          0.3663690984249115,
          0.35905513167381287,
          0.3660764992237091,
          0.362042099237442,
          0.36541712284088135,
          0.36445584893226624,
          0.36163195967674255,
          0.36401239037513733,
          0.36504560708999634,
          0.360281765460968,
          0.3600997030735016,
          0.3664829432964325,
          0.36419859528541565,
          0.36007145047187805,
          0.3604658246040344,
          0.36715638637542725,
          0.36121487617492676,
          0.36075136065483093,
          0.3606409728527069,
          0.362684041261673,
          0.36238226294517517,
          0.361797034740448,
          0.36383599042892456,
          0.35992103815078735,
          0.3600671589374542,
          0.3645078241825104,
          0.36083272099494934,
          0.3603309988975525,
          0.36022689938545227,
          0.36185917258262634,
          0.36158087849617004,
          0.3596329391002655,
          0.3621538281440735,
          0.3614344894886017,
          0.3620128035545349,
          0.36130568385124207,
          0.3595145344734192,
          0.3623619079589844,
          0.3602181673049927,
          0.3597303330898285,
          0.3598080277442932,
          0.35992422699928284,
          0.3599662482738495,
          0.36126142740249634,
          0.3615666925907135,
          0.3601897060871124,
          0.36119550466537476,
          0.36128658056259155,
          0.3601953089237213,
          0.36533838510513306,
          0.3612169325351715,
          0.3597128987312317,
          0.35993117094039917,
          0.3603556454181671,
          0.3595285713672638,
          0.3616510331630707,
          0.3643903136253357,
          0.36316409707069397,
          0.3587748408317566,
          0.36036503314971924,
          0.3610759675502777,
          0.361303448677063,
          0.3594139814376831,
          0.363383024930954,
          0.3615543842315674,
          0.36024025082588196,
          0.3609306812286377,
          0.360100656747818,
          0.3596866726875305,
          0.36009740829467773,
          0.3601800501346588,
          0.36237597465515137,
          0.3590177595615387,
          0.360361784696579,
          0.36044448614120483,
          0.36159712076187134,
          0.3595357835292816,
          0.36024588346481323,
          0.36148306727409363,
          0.3589591383934021,
          0.3585565388202667,
          0.3600701093673706,
          0.36160191893577576,
          0.3595251739025116,
          0.3582622706890106,
          0.3598649799823761,
          0.36003586649894714,
          0.36134546995162964,
          0.36100348830223083,
          0.3616424798965454,
          0.36420443654060364,
          0.36036810278892517,
          0.3605789840221405,
          0.3589918911457062,
          0.3609670400619507,
          0.36113646626472473,
          0.3610318899154663,
          0.3611378073692322,
          0.3594735860824585,
          0.3609713017940521,
          0.36097145080566406,
          0.36316102743148804,
          0.36288535594940186,
          0.3607884645462036,
          0.3614855706691742,
          0.35984501242637634,
          0.35947662591934204,
          0.36227163672447205,
          0.3631053864955902,
          0.36231371760368347,
          0.3601328730583191,
          0.36135929822921753,
          0.363039493560791,
          0.3616875410079956,
          0.36186566948890686,
          0.36321961879730225,
          0.3601747751235962,
          0.36249661445617676,
          0.36530524492263794,
          0.3655903935432434,
          0.3609010875225067,
          0.3629978895187378,
          0.360736608505249,
          0.3621523678302765,
          0.36352962255477905,
          0.3616713583469391,
          0.36306554079055786,
          0.3632534146308899,
          0.36409613490104675,
          0.36193737387657166,
          0.3627459704875946,
          0.3630419075489044,
          0.3620894253253937,
          0.36261260509490967,
          0.36190280318260193,
          0.36117497086524963,
          0.3642440736293793,
          0.36363860964775085,
          0.36878225207328796,
          0.36713096499443054,
          0.36209046840667725,
          0.362382709980011,
          0.36147961020469666,
          0.3602284789085388,
          0.36187416315078735,
          0.36138829588890076,
          0.3637984097003937,
          0.36305707693099976,
          0.36406463384628296,
          0.3646305203437805,
          0.3663163185119629,
          0.3631170690059662,
          0.3669103980064392,
          0.3645935356616974,
          0.36294320225715637,
          0.3618561923503876,
          0.36805588006973267,
          0.3627144694328308,
          0.36610719561576843,
          0.36613938212394714,
          0.36621057987213135,
          0.3643970489501953,
          0.3677034378051758,
          0.36512327194213867,
          0.3644876778125763,
          0.3650568723678589,
          0.36727944016456604,
          0.36334481835365295,
          0.36198440194129944,
          0.3655408024787903,
          0.36689069867134094,
          0.36427804827690125,
          0.36355698108673096,
          0.3623262643814087,
          0.36536166071891785,
          0.3642965853214264,
          0.36518675088882446,
          0.3631816506385803,
          0.36333805322647095,
          0.36200353503227234,
          0.36546799540519714,
          0.36432042717933655,
          0.36387622356414795,
          0.36541178822517395,
          0.3655836880207062,
          0.3627801239490509,
          0.3687888979911804,
          0.365680992603302,
          0.3688929080963135,
          0.365909606218338,
          0.3664308786392212,
          0.36487600207328796,
          0.36480721831321716,
          0.3623010814189911,
          0.3686111867427826,
          0.3693139851093292,
          0.36394092440605164,
          0.3653116524219513,
          0.3673233985900879,
          0.3639058768749237,
          0.36669543385505676,
          0.36573708057403564,
          0.3644733130931854,
          0.36380672454833984,
          0.37154024839401245,
          0.36963024735450745,
          0.3649345338344574,
          0.3668301999568939,
          0.36703935265541077,
          0.3666403591632843,
          0.3667372167110443,
          0.3625606894493103,
          0.3697667121887207,
          0.3652879595756531,
          0.3666505813598633,
          0.36536654829978943,
          0.36638233065605164,
          0.3650822639465332,
          0.36948367953300476,
          0.3650682270526886,
          0.36904820799827576,
          0.36801716685295105,
          0.3705913722515106,
          0.3669116795063019,
          0.36337876319885254,
          0.3677964210510254,
          0.36764708161354065,
          0.3706136643886566,
          0.36754581332206726,
          0.3637157380580902,
          0.3653426766395569,
          0.37209072709083557,
          0.370695024728775,
          0.36638206243515015,
          0.3692142963409424,
          0.3697206974029541,
          0.3643753230571747,
          0.3696975111961365,
          0.3676597774028778,
          0.3688526451587677,
          0.3645210266113281,
          0.37225082516670227,
          0.365969717502594,
          0.36873090267181396,
          0.37440723180770874,
          0.3655824065208435,
          0.3669455647468567,
          0.36564144492149353,
          0.36446064710617065,
          0.3643542528152466,
          0.3710409700870514,
          0.37312212586402893,
          0.36966127157211304,
          0.369075208902359,
          0.3659994304180145,
          0.368589848279953,
          0.3715916574001312,
          0.36788907647132874,
          0.37079229950904846,
          0.3686021864414215,
          0.3679315149784088,
          0.368740439414978,
          0.3651352822780609,
          0.3661734461784363,
          0.36645662784576416,
          0.3683139383792877,
          0.3760378062725067,
          0.3661031126976013,
          0.3681674003601074,
          0.37063729763031006,
          0.37259629368782043,
          0.36962100863456726,
          0.37064096331596375,
          0.3751794993877411,
          0.3725977838039398,
          0.37072673439979553,
          0.37791070342063904,
          0.37437379360198975,
          0.3668075501918793,
          0.36894404888153076,
          0.3658851385116577,
          0.3658820390701294,
          0.3677743375301361,
          0.3690095543861389,
          0.36786311864852905,
          0.3696337342262268,
          0.36758774518966675,
          0.36511752009391785,
          0.37210890650749207,
          0.37168198823928833,
          0.3658462464809418,
          0.36961105465888977,
          0.36402323842048645,
          0.3664223253726959,
          0.36827102303504944,
          0.3683560788631439,
          0.3737446367740631,
          0.3656274974346161,
          0.36869168281555176,
          0.3702290654182434,
          0.3686061501502991,
          0.36572471261024475,
          0.3678649961948395,
          0.3678426146507263,
          0.36925506591796875,
          0.36439451575279236,
          0.36757925152778625,
          0.37056368589401245,
          0.3721572160720825,
          0.36970269680023193,
          0.3706299662590027,
          0.3687576353549957,
          0.37101295590400696,
          0.36891835927963257,
          0.37539756298065186,
          0.3692164123058319,
          0.36848607659339905,
          0.36862316727638245,
          0.37166061997413635,
          0.36627063155174255,
          0.36755499243736267,
          0.36569085717201233,
          0.37429386377334595,
          0.3703140914440155,
          0.37490662932395935,
          0.3683735728263855,
          0.3676525354385376,
          0.36978796124458313,
          0.3687410354614258,
          0.37115025520324707,
          0.36518532037734985,
          0.36947953701019287,
          0.37546876072883606,
          0.37275221943855286,
          0.3671185374259949,
          0.3645363450050354,
          0.365642249584198,
          0.3689250349998474,
          0.37259501218795776,
          0.3649335205554962,
          0.37012559175491333,
          0.37799134850502014,
          0.3706094026565552,
          0.37242892384529114,
          0.3658352196216583,
          0.370197057723999,
          0.36792105436325073,
          0.3691002130508423,
          0.3742518723011017,
          0.36589354276657104,
          0.37961170077323914,
          0.36743953824043274,
          0.3741433024406433,
          0.37189722061157227,
          0.37661343812942505,
          0.36960792541503906,
          0.3665619492530823,
          0.3710833191871643,
          0.3673861026763916,
          0.3727266490459442,
          0.37509962916374207,
          0.3846171498298645,
          0.3716583549976349,
          0.367891788482666,
          0.36582013964653015,
          0.3693799078464508,
          0.36853650212287903,
          0.3663485646247864,
          0.3677351176738739,
          0.3750882148742676,
          0.36761802434921265,
          0.36914339661598206,
          0.3690442442893982,
          0.3683302700519562,
          0.36824312806129456,
          0.37090352177619934,
          0.3710668385028839,
          0.3692142963409424,
          0.3685115873813629,
          0.3717668354511261,
          0.3715296983718872,
          0.37167108058929443,
          0.37125563621520996,
          0.36919111013412476,
          0.36933931708335876,
          0.36948326230049133,
          0.366628497838974,
          0.3672153949737549,
          0.36979955434799194,
          0.37188807129859924,
          0.3762665390968323,
          0.3680468797683716,
          0.3722855746746063,
          0.36759305000305176,
          0.36798205971717834,
          0.37713807821273804,
          0.37034717202186584,
          0.3681592345237732,
          0.37217411398887634,
          0.37996232509613037,
          0.36929789185523987,
          0.3663278818130493,
          0.3705833852291107,
          0.3737969696521759,
          0.37039363384246826,
          0.3656572699546814,
          0.36333760619163513,
          0.3676168918609619,
          0.3649459481239319,
          0.36727723479270935,
          0.3797471523284912,
          0.36327552795410156,
          0.36697113513946533,
          0.36873796582221985,
          0.3679361045360565,
          0.3724018633365631,
          0.36528584361076355,
          0.3651901185512543,
          0.3681032061576843,
          0.37872931361198425,
          0.3742941617965698,
          0.3750704228878021,
          0.36664003133773804,
          0.3680512011051178,
          0.3653920590877533,
          0.367396742105484,
          0.37210601568222046,
          0.36456239223480225,
          0.36718907952308655,
          0.3668765723705292,
          0.3761650025844574,
          0.3726586103439331,
          0.368093878030777,
          0.3678032159805298,
          0.3723120093345642,
          0.3718346953392029,
          0.36438611149787903,
          0.36906862258911133,
          0.37237808108329773,
          0.36635684967041016,
          0.3702203631401062,
          0.3726929724216461,
          0.3682149052619934,
          0.3670138418674469,
          0.37399643659591675,
          0.37090086936950684,
          0.3697220981121063,
          0.3704722821712494,
          0.3662683665752411,
          0.3695141673088074,
          0.3680984377861023,
          0.3689882159233093,
          0.3697502613067627,
          0.3773270547389984,
          0.36731237173080444,
          0.36807408928871155,
          0.371209979057312,
          0.3668273389339447,
          0.3697963058948517,
          0.3711181581020355,
          0.3709798753261566,
          0.367142915725708,
          0.3667799234390259,
          0.36843395233154297,
          0.370939165353775,
          0.3676965534687042,
          0.37123680114746094,
          0.37379923462867737,
          0.36994215846061707,
          0.3647369146347046,
          0.3726237416267395,
          0.3649508059024811,
          0.37139925360679626,
          0.3731381595134735,
          0.368701308965683,
          0.3667689561843872,
          0.3702852129936218,
          0.36941635608673096,
          0.3765176236629486,
          0.37728944420814514,
          0.37271031737327576,
          0.3752286732196808,
          0.377437949180603,
          0.3739789128303528,
          0.37679389119148254,
          0.36648547649383545,
          0.37408682703971863,
          0.3638911545276642,
          0.37694522738456726,
          0.37142106890678406,
          0.37012675404548645,
          0.371277391910553,
          0.37214261293411255,
          0.3746260404586792,
          0.371511846780777,
          0.3704599440097809,
          0.3733350932598114,
          0.3666767179965973,
          0.36732393503189087,
          0.36593011021614075,
          0.374559611082077,
          0.36645233631134033,
          0.3696472942829132,
          0.3677985966205597,
          0.3661404550075531,
          0.3688715696334839,
          0.37292367219924927,
          0.3728558421134949,
          0.37221017479896545,
          0.36756381392478943,
          0.3693287968635559,
          0.36910906434059143,
          0.37472423911094666,
          0.3641420006752014,
          0.36854538321495056,
          0.3739481568336487,
          0.3660402297973633,
          0.3745346963405609,
          0.3719474673271179,
          0.37220558524131775,
          0.37311094999313354,
          0.37259960174560547,
          0.36953088641166687,
          0.37525704503059387,
          0.3763292729854584,
          0.364582896232605,
          0.3663799464702606,
          0.37203413248062134,
          0.3677072823047638,
          0.3725128471851349,
          0.36619827151298523,
          0.3691476583480835,
          0.378597229719162,
          0.3742200434207916,
          0.375247597694397,
          0.37057796120643616,
          0.364536851644516,
          0.3788805603981018,
          0.3713599443435669,
          0.370769202709198,
          0.3708422780036926,
          0.37384387850761414,
          0.3699735999107361,
          0.36747702956199646,
          0.36699092388153076,
          0.36916056275367737,
          0.3719361126422882,
          0.3714912533760071,
          0.36763644218444824,
          0.3721952736377716,
          0.3685319423675537,
          0.367458701133728,
          0.3677630126476288,
          0.36645057797431946,
          0.3687513768672943,
          0.369510293006897,
          0.37265828251838684,
          0.3741089999675751,
          0.36737796664237976,
          0.371676504611969,
          0.3681281805038452,
          0.37501588463783264,
          0.37197446823120117,
          0.37120524048805237,
          0.37087482213974,
          0.36800774931907654,
          0.37817561626434326,
          0.3676629066467285,
          0.37689825892448425,
          0.3650956153869629,
          0.37392541766166687,
          0.3677656948566437,
          0.37328270077705383,
          0.36903172731399536,
          0.3761323094367981,
          0.36920037865638733,
          0.3771387040615082,
          0.37127214670181274,
          0.37097519636154175,
          0.3731161057949066,
          0.3791412115097046,
          0.38282841444015503,
          0.3721683621406555,
          0.3711280822753906,
          0.3706425130367279,
          0.37310877442359924,
          0.3719079792499542,
          0.36756229400634766,
          0.3696768581867218,
          0.36626186966896057,
          0.3792114555835724,
          0.3755353093147278,
          0.3691340386867523,
          0.3716174066066742,
          0.3698207139968872,
          0.3687724769115448,
          0.3764209747314453,
          0.37157902121543884,
          0.36844661831855774,
          0.3712075650691986,
          0.3708037734031677,
          0.3672892451286316,
          0.36504146456718445,
          0.3694417178630829,
          0.37002626061439514,
          0.3665766417980194,
          0.3684775233268738,
          0.36970391869544983,
          0.37142571806907654,
          0.378765344619751,
          0.3772898018360138,
          0.3676646947860718,
          0.3742368221282959,
          0.3762460947036743,
          0.3702804744243622,
          0.36909034848213196,
          0.3724171221256256,
          0.3717549741268158,
          0.37003210186958313,
          0.37242138385772705,
          0.37207552790641785,
          0.37007829546928406,
          0.3730461299419403,
          0.3751610219478607,
          0.3668023943901062,
          0.36947891116142273,
          0.3760335445404053,
          0.37279176712036133,
          0.3690117597579956,
          0.3673064112663269,
          0.37238797545433044,
          0.3776939809322357,
          0.37304335832595825,
          0.3711024820804596,
          0.3715474009513855,
          0.36595985293388367,
          0.37275657057762146,
          0.37061482667922974,
          0.3732326328754425,
          0.3692047894001007,
          0.37321045994758606,
          0.3649999499320984,
          0.3710370659828186,
          0.3687995970249176,
          0.37687164545059204,
          0.36516398191452026,
          0.365044504404068,
          0.37294939160346985,
          0.37148231267929077,
          0.37081459164619446,
          0.37854766845703125,
          0.37155649065971375,
          0.3682004511356354,
          0.3675605356693268,
          0.3739006519317627,
          0.36824795603752136,
          0.37193384766578674,
          0.3729771077632904,
          0.36586084961891174,
          0.3720981478691101,
          0.37005308270454407,
          0.37414196133613586,
          0.3678315579891205,
          0.3739922046661377,
          0.3672208786010742,
          0.3661244511604309,
          0.37137922644615173,
          0.36668968200683594,
          0.3733132481575012,
          0.37451624870300293,
          0.36950042843818665,
          0.37186360359191895,
          0.3675276041030884,
          0.3692583441734314,
          0.3693939745426178,
          0.37146082520484924,
          0.3649345636367798,
          0.371705561876297,
          0.36873236298561096,
          0.3711625039577484,
          0.3759803771972656,
          0.3648322522640228,
          0.3742118775844574,
          0.368634968996048,
          0.370037317276001,
          0.36577552556991577
         ]
        }
       ],
       "layout": {
        "template": {
         "data": {
          "bar": [
           {
            "error_x": {
             "color": "#2a3f5f"
            },
            "error_y": {
             "color": "#2a3f5f"
            },
            "marker": {
             "line": {
              "color": "#E5ECF6",
              "width": 0.5
             }
            },
            "type": "bar"
           }
          ],
          "barpolar": [
           {
            "marker": {
             "line": {
              "color": "#E5ECF6",
              "width": 0.5
             }
            },
            "type": "barpolar"
           }
          ],
          "carpet": [
           {
            "aaxis": {
             "endlinecolor": "#2a3f5f",
             "gridcolor": "white",
             "linecolor": "white",
             "minorgridcolor": "white",
             "startlinecolor": "#2a3f5f"
            },
            "baxis": {
             "endlinecolor": "#2a3f5f",
             "gridcolor": "white",
             "linecolor": "white",
             "minorgridcolor": "white",
             "startlinecolor": "#2a3f5f"
            },
            "type": "carpet"
           }
          ],
          "choropleth": [
           {
            "colorbar": {
             "outlinewidth": 0,
             "ticks": ""
            },
            "type": "choropleth"
           }
          ],
          "contour": [
           {
            "colorbar": {
             "outlinewidth": 0,
             "ticks": ""
            },
            "colorscale": [
             [
              0,
              "#0d0887"
             ],
             [
              0.1111111111111111,
              "#46039f"
             ],
             [
              0.2222222222222222,
              "#7201a8"
             ],
             [
              0.3333333333333333,
              "#9c179e"
             ],
             [
              0.4444444444444444,
              "#bd3786"
             ],
             [
              0.5555555555555556,
              "#d8576b"
             ],
             [
              0.6666666666666666,
              "#ed7953"
             ],
             [
              0.7777777777777778,
              "#fb9f3a"
             ],
             [
              0.8888888888888888,
              "#fdca26"
             ],
             [
              1,
              "#f0f921"
             ]
            ],
            "type": "contour"
           }
          ],
          "contourcarpet": [
           {
            "colorbar": {
             "outlinewidth": 0,
             "ticks": ""
            },
            "type": "contourcarpet"
           }
          ],
          "heatmap": [
           {
            "colorbar": {
             "outlinewidth": 0,
             "ticks": ""
            },
            "colorscale": [
             [
              0,
              "#0d0887"
             ],
             [
              0.1111111111111111,
              "#46039f"
             ],
             [
              0.2222222222222222,
              "#7201a8"
             ],
             [
              0.3333333333333333,
              "#9c179e"
             ],
             [
              0.4444444444444444,
              "#bd3786"
             ],
             [
              0.5555555555555556,
              "#d8576b"
             ],
             [
              0.6666666666666666,
              "#ed7953"
             ],
             [
              0.7777777777777778,
              "#fb9f3a"
             ],
             [
              0.8888888888888888,
              "#fdca26"
             ],
             [
              1,
              "#f0f921"
             ]
            ],
            "type": "heatmap"
           }
          ],
          "heatmapgl": [
           {
            "colorbar": {
             "outlinewidth": 0,
             "ticks": ""
            },
            "colorscale": [
             [
              0,
              "#0d0887"
             ],
             [
              0.1111111111111111,
              "#46039f"
             ],
             [
              0.2222222222222222,
              "#7201a8"
             ],
             [
              0.3333333333333333,
              "#9c179e"
             ],
             [
              0.4444444444444444,
              "#bd3786"
             ],
             [
              0.5555555555555556,
              "#d8576b"
             ],
             [
              0.6666666666666666,
              "#ed7953"
             ],
             [
              0.7777777777777778,
              "#fb9f3a"
             ],
             [
              0.8888888888888888,
              "#fdca26"
             ],
             [
              1,
              "#f0f921"
             ]
            ],
            "type": "heatmapgl"
           }
          ],
          "histogram": [
           {
            "marker": {
             "colorbar": {
              "outlinewidth": 0,
              "ticks": ""
             }
            },
            "type": "histogram"
           }
          ],
          "histogram2d": [
           {
            "colorbar": {
             "outlinewidth": 0,
             "ticks": ""
            },
            "colorscale": [
             [
              0,
              "#0d0887"
             ],
             [
              0.1111111111111111,
              "#46039f"
             ],
             [
              0.2222222222222222,
              "#7201a8"
             ],
             [
              0.3333333333333333,
              "#9c179e"
             ],
             [
              0.4444444444444444,
              "#bd3786"
             ],
             [
              0.5555555555555556,
              "#d8576b"
             ],
             [
              0.6666666666666666,
              "#ed7953"
             ],
             [
              0.7777777777777778,
              "#fb9f3a"
             ],
             [
              0.8888888888888888,
              "#fdca26"
             ],
             [
              1,
              "#f0f921"
             ]
            ],
            "type": "histogram2d"
           }
          ],
          "histogram2dcontour": [
           {
            "colorbar": {
             "outlinewidth": 0,
             "ticks": ""
            },
            "colorscale": [
             [
              0,
              "#0d0887"
             ],
             [
              0.1111111111111111,
              "#46039f"
             ],
             [
              0.2222222222222222,
              "#7201a8"
             ],
             [
              0.3333333333333333,
              "#9c179e"
             ],
             [
              0.4444444444444444,
              "#bd3786"
             ],
             [
              0.5555555555555556,
              "#d8576b"
             ],
             [
              0.6666666666666666,
              "#ed7953"
             ],
             [
              0.7777777777777778,
              "#fb9f3a"
             ],
             [
              0.8888888888888888,
              "#fdca26"
             ],
             [
              1,
              "#f0f921"
             ]
            ],
            "type": "histogram2dcontour"
           }
          ],
          "mesh3d": [
           {
            "colorbar": {
             "outlinewidth": 0,
             "ticks": ""
            },
            "type": "mesh3d"
           }
          ],
          "parcoords": [
           {
            "line": {
             "colorbar": {
              "outlinewidth": 0,
              "ticks": ""
             }
            },
            "type": "parcoords"
           }
          ],
          "pie": [
           {
            "automargin": true,
            "type": "pie"
           }
          ],
          "scatter": [
           {
            "marker": {
             "colorbar": {
              "outlinewidth": 0,
              "ticks": ""
             }
            },
            "type": "scatter"
           }
          ],
          "scatter3d": [
           {
            "line": {
             "colorbar": {
              "outlinewidth": 0,
              "ticks": ""
             }
            },
            "marker": {
             "colorbar": {
              "outlinewidth": 0,
              "ticks": ""
             }
            },
            "type": "scatter3d"
           }
          ],
          "scattercarpet": [
           {
            "marker": {
             "colorbar": {
              "outlinewidth": 0,
              "ticks": ""
             }
            },
            "type": "scattercarpet"
           }
          ],
          "scattergeo": [
           {
            "marker": {
             "colorbar": {
              "outlinewidth": 0,
              "ticks": ""
             }
            },
            "type": "scattergeo"
           }
          ],
          "scattergl": [
           {
            "marker": {
             "colorbar": {
              "outlinewidth": 0,
              "ticks": ""
             }
            },
            "type": "scattergl"
           }
          ],
          "scattermapbox": [
           {
            "marker": {
             "colorbar": {
              "outlinewidth": 0,
              "ticks": ""
             }
            },
            "type": "scattermapbox"
           }
          ],
          "scatterpolar": [
           {
            "marker": {
             "colorbar": {
              "outlinewidth": 0,
              "ticks": ""
             }
            },
            "type": "scatterpolar"
           }
          ],
          "scatterpolargl": [
           {
            "marker": {
             "colorbar": {
              "outlinewidth": 0,
              "ticks": ""
             }
            },
            "type": "scatterpolargl"
           }
          ],
          "scatterternary": [
           {
            "marker": {
             "colorbar": {
              "outlinewidth": 0,
              "ticks": ""
             }
            },
            "type": "scatterternary"
           }
          ],
          "surface": [
           {
            "colorbar": {
             "outlinewidth": 0,
             "ticks": ""
            },
            "colorscale": [
             [
              0,
              "#0d0887"
             ],
             [
              0.1111111111111111,
              "#46039f"
             ],
             [
              0.2222222222222222,
              "#7201a8"
             ],
             [
              0.3333333333333333,
              "#9c179e"
             ],
             [
              0.4444444444444444,
              "#bd3786"
             ],
             [
              0.5555555555555556,
              "#d8576b"
             ],
             [
              0.6666666666666666,
              "#ed7953"
             ],
             [
              0.7777777777777778,
              "#fb9f3a"
             ],
             [
              0.8888888888888888,
              "#fdca26"
             ],
             [
              1,
              "#f0f921"
             ]
            ],
            "type": "surface"
           }
          ],
          "table": [
           {
            "cells": {
             "fill": {
              "color": "#EBF0F8"
             },
             "line": {
              "color": "white"
             }
            },
            "header": {
             "fill": {
              "color": "#C8D4E3"
             },
             "line": {
              "color": "white"
             }
            },
            "type": "table"
           }
          ]
         },
         "layout": {
          "annotationdefaults": {
           "arrowcolor": "#2a3f5f",
           "arrowhead": 0,
           "arrowwidth": 1
          },
          "autotypenumbers": "strict",
          "coloraxis": {
           "colorbar": {
            "outlinewidth": 0,
            "ticks": ""
           }
          },
          "colorscale": {
           "diverging": [
            [
             0,
             "#8e0152"
            ],
            [
             0.1,
             "#c51b7d"
            ],
            [
             0.2,
             "#de77ae"
            ],
            [
             0.3,
             "#f1b6da"
            ],
            [
             0.4,
             "#fde0ef"
            ],
            [
             0.5,
             "#f7f7f7"
            ],
            [
             0.6,
             "#e6f5d0"
            ],
            [
             0.7,
             "#b8e186"
            ],
            [
             0.8,
             "#7fbc41"
            ],
            [
             0.9,
             "#4d9221"
            ],
            [
             1,
             "#276419"
            ]
           ],
           "sequential": [
            [
             0,
             "#0d0887"
            ],
            [
             0.1111111111111111,
             "#46039f"
            ],
            [
             0.2222222222222222,
             "#7201a8"
            ],
            [
             0.3333333333333333,
             "#9c179e"
            ],
            [
             0.4444444444444444,
             "#bd3786"
            ],
            [
             0.5555555555555556,
             "#d8576b"
            ],
            [
             0.6666666666666666,
             "#ed7953"
            ],
            [
             0.7777777777777778,
             "#fb9f3a"
            ],
            [
             0.8888888888888888,
             "#fdca26"
            ],
            [
             1,
             "#f0f921"
            ]
           ],
           "sequentialminus": [
            [
             0,
             "#0d0887"
            ],
            [
             0.1111111111111111,
             "#46039f"
            ],
            [
             0.2222222222222222,
             "#7201a8"
            ],
            [
             0.3333333333333333,
             "#9c179e"
            ],
            [
             0.4444444444444444,
             "#bd3786"
            ],
            [
             0.5555555555555556,
             "#d8576b"
            ],
            [
             0.6666666666666666,
             "#ed7953"
            ],
            [
             0.7777777777777778,
             "#fb9f3a"
            ],
            [
             0.8888888888888888,
             "#fdca26"
            ],
            [
             1,
             "#f0f921"
            ]
           ]
          },
          "colorway": [
           "#636efa",
           "#EF553B",
           "#00cc96",
           "#ab63fa",
           "#FFA15A",
           "#19d3f3",
           "#FF6692",
           "#B6E880",
           "#FF97FF",
           "#FECB52"
          ],
          "font": {
           "color": "#2a3f5f"
          },
          "geo": {
           "bgcolor": "white",
           "lakecolor": "white",
           "landcolor": "#E5ECF6",
           "showlakes": true,
           "showland": true,
           "subunitcolor": "white"
          },
          "hoverlabel": {
           "align": "left"
          },
          "hovermode": "closest",
          "mapbox": {
           "style": "light"
          },
          "paper_bgcolor": "white",
          "plot_bgcolor": "#E5ECF6",
          "polar": {
           "angularaxis": {
            "gridcolor": "white",
            "linecolor": "white",
            "ticks": ""
           },
           "bgcolor": "#E5ECF6",
           "radialaxis": {
            "gridcolor": "white",
            "linecolor": "white",
            "ticks": ""
           }
          },
          "scene": {
           "xaxis": {
            "backgroundcolor": "#E5ECF6",
            "gridcolor": "white",
            "gridwidth": 2,
            "linecolor": "white",
            "showbackground": true,
            "ticks": "",
            "zerolinecolor": "white"
           },
           "yaxis": {
            "backgroundcolor": "#E5ECF6",
            "gridcolor": "white",
            "gridwidth": 2,
            "linecolor": "white",
            "showbackground": true,
            "ticks": "",
            "zerolinecolor": "white"
           },
           "zaxis": {
            "backgroundcolor": "#E5ECF6",
            "gridcolor": "white",
            "gridwidth": 2,
            "linecolor": "white",
            "showbackground": true,
            "ticks": "",
            "zerolinecolor": "white"
           }
          },
          "shapedefaults": {
           "line": {
            "color": "#2a3f5f"
           }
          },
          "ternary": {
           "aaxis": {
            "gridcolor": "white",
            "linecolor": "white",
            "ticks": ""
           },
           "baxis": {
            "gridcolor": "white",
            "linecolor": "white",
            "ticks": ""
           },
           "bgcolor": "#E5ECF6",
           "caxis": {
            "gridcolor": "white",
            "linecolor": "white",
            "ticks": ""
           }
          },
          "title": {
           "x": 0.05
          },
          "xaxis": {
           "automargin": true,
           "gridcolor": "white",
           "linecolor": "white",
           "ticks": "",
           "title": {
            "standoff": 15
           },
           "zerolinecolor": "white",
           "zerolinewidth": 2
          },
          "yaxis": {
           "automargin": true,
           "gridcolor": "white",
           "linecolor": "white",
           "ticks": "",
           "title": {
            "standoff": 15
           },
           "zerolinecolor": "white",
           "zerolinewidth": 2
          }
         }
        }
       }
      },
      "text/html": [
       "<div>                            <div id=\"7d1b332c-375c-48b8-9e91-48b4d552ed52\" class=\"plotly-graph-div\" style=\"height:525px; width:100%;\"></div>            <script type=\"text/javascript\">                require([\"plotly\"], function(Plotly) {                    window.PLOTLYENV=window.PLOTLYENV || {};                                    if (document.getElementById(\"7d1b332c-375c-48b8-9e91-48b4d552ed52\")) {                    Plotly.newPlot(                        \"7d1b332c-375c-48b8-9e91-48b4d552ed52\",                        [{\"name\": \"combined_nn_train-loss\", \"type\": \"scatter\", \"y\": [1.0858913660049438, 0.9649316072463989, 0.9523940682411194, 0.9492166042327881, 0.9425086975097656, 0.9394137859344482, 0.9338079690933228, 0.9242844581604004, 0.9229106307029724, 0.9219926595687866, 0.9082212448120117, 0.9022692441940308, 0.9016770124435425, 0.8929126858711243, 0.890405535697937, 0.8853495121002197, 0.8884085416793823, 0.8724134564399719, 0.8687204718589783, 0.8648239374160767, 0.8652381896972656, 0.8538679480552673, 0.8522379398345947, 0.8460294008255005, 0.837958037853241, 0.8422949314117432, 0.8308820128440857, 0.8312348127365112, 0.8230451941490173, 0.8204350471496582, 0.8102223873138428, 0.8096408247947693, 0.8088890314102173, 0.7945050597190857, 0.797591507434845, 0.7893047332763672, 0.7896981835365295, 0.7850426435470581, 0.7775354981422424, 0.7737632989883423, 0.7698046565055847, 0.7639977335929871, 0.754348874092102, 0.7461437582969666, 0.7407127618789673, 0.7322869896888733, 0.7223427891731262, 0.7103853821754456, 0.7006491422653198, 0.6983044743537903, 0.6931405067443848, 0.6859725117683411, 0.6837517619132996, 0.6768158078193665, 0.6736200451850891, 0.6717081069946289, 0.6626372933387756, 0.6612992882728577, 0.6585321426391602, 0.6608083844184875, 0.656480610370636, 0.6491031050682068, 0.6505019664764404, 0.6453042030334473, 0.6454513072967529, 0.6421410441398621, 0.6329533457756042, 0.635878324508667, 0.632508397102356, 0.6306143999099731, 0.6314488649368286, 0.6273205280303955, 0.625388503074646, 0.6278386116027832, 0.6205945611000061, 0.6211328506469727, 0.6153775453567505, 0.618408739566803, 0.6140453815460205, 0.6092774868011475, 0.6092761754989624, 0.6085368394851685, 0.6065831184387207, 0.6021286249160767, 0.6002674102783203, 0.6006497740745544, 0.6002424955368042, 0.595166027545929, 0.5952492952346802, 0.5949268937110901, 0.5936447978019714, 0.5912204384803772, 0.5896021723747253, 0.5855408906936646, 0.5895294547080994, 0.5865435600280762, 0.5841506719589233, 0.5856590270996094, 0.5823566317558289, 0.5780773162841797, 0.5773456692695618, 0.5766148567199707, 0.5733592510223389, 0.5724003314971924, 0.5726420283317566, 0.5720625519752502, 0.5724037885665894, 0.5678965449333191, 0.5676888227462769, 0.5685368776321411, 0.5648918151855469, 0.5624224543571472, 0.5621893405914307, 0.5633569955825806, 0.559964656829834, 0.5583527088165283, 0.556214451789856, 0.5561944842338562, 0.5528983473777771, 0.5517155528068542, 0.5504367351531982, 0.5500668287277222, 0.5504708886146545, 0.5505630970001221, 0.548728883266449, 0.5468928813934326, 0.5469586253166199, 0.5453875064849854, 0.5461491942405701, 0.5426313877105713, 0.5404183268547058, 0.5386976003646851, 0.5390151739120483, 0.5370008945465088, 0.5373315811157227, 0.536771833896637, 0.5363903641700745, 0.5326918959617615, 0.5320630669593811, 0.5323197841644287, 0.5335037708282471, 0.5309314727783203, 0.5312073826789856, 0.5273419618606567, 0.5269721150398254, 0.5261855125427246, 0.5261504054069519, 0.5222299098968506, 0.5245162844657898, 0.5196005702018738, 0.5217452645301819, 0.5194896459579468, 0.5199975371360779, 0.5179517865180969, 0.5172677040100098, 0.5159904360771179, 0.5149992108345032, 0.5138586759567261, 0.515995442867279, 0.5106918215751648, 0.5101141929626465, 0.512662947177887, 0.5101224780082703, 0.5105376839637756, 0.5085602402687073, 0.5127003788948059, 0.5072006583213806, 0.5066409707069397, 0.5058750510215759, 0.5061507225036621, 0.5045937895774841, 0.5030660629272461, 0.5011785626411438, 0.5010377168655396, 0.5004014372825623, 0.4978237450122833, 0.5012800693511963, 0.4995100498199463, 0.4985697567462921, 0.4967379868030548, 0.49555110931396484, 0.49367663264274597, 0.4939570128917694, 0.4962533414363861, 0.4931744933128357, 0.49360641837120056, 0.4935905635356903, 0.4918583929538727, 0.4908972382545471, 0.49018412828445435, 0.49015212059020996, 0.4888067841529846, 0.486842542886734, 0.486642062664032, 0.4865686297416687, 0.48572275042533875, 0.48509034514427185, 0.4847354292869568, 0.4837188422679901, 0.4845992922782898, 0.4832156300544739, 0.4822207987308502, 0.4821336567401886, 0.48126059770584106, 0.48141008615493774, 0.47986966371536255, 0.48025044798851013, 0.4801490604877472, 0.4773741364479065, 0.4777240455150604, 0.4785689413547516, 0.4760727286338806, 0.47732943296432495, 0.4772535264492035, 0.476480633020401, 0.47390663623809814, 0.47614139318466187, 0.47623613476753235, 0.47320711612701416, 0.47312790155410767, 0.4734475910663605, 0.47606387734413147, 0.4729462265968323, 0.4719092845916748, 0.47075363993644714, 0.4719031751155853, 0.4696582555770874, 0.46986258029937744, 0.46865296363830566, 0.47062093019485474, 0.4687872529029846, 0.4681019186973572, 0.46814122796058655, 0.4683529734611511, 0.46806854009628296, 0.46663978695869446, 0.4659979045391083, 0.464999258518219, 0.46452629566192627, 0.46495968103408813, 0.46378034353256226, 0.46556556224823, 0.46459242701530457, 0.46370792388916016, 0.46438515186309814, 0.46320268511772156, 0.464124858379364, 0.46241122484207153, 0.46145692467689514, 0.46177640557289124, 0.4630711078643799, 0.4610346853733063, 0.4611303210258484, 0.4604552984237671, 0.4614895284175873, 0.46167081594467163, 0.4610263705253601, 0.4596812427043915, 0.46122103929519653, 0.4604344964027405, 0.4594246745109558, 0.4600345492362976, 0.4590919315814972, 0.45851951837539673, 0.45868849754333496, 0.4599018096923828, 0.45911750197410583, 0.4582977294921875, 0.4579830467700958, 0.45760178565979004, 0.4574293792247772, 0.4578840136528015, 0.4558241367340088, 0.4560967981815338, 0.457062304019928, 0.4577106535434723, 0.4577183425426483, 0.4547218978404999, 0.4555610716342926, 0.45525071024894714, 0.4577420949935913, 0.45509642362594604, 0.4547271430492401, 0.4539138674736023, 0.4535723030567169, 0.45542654395103455, 0.45420360565185547, 0.45324015617370605, 0.45403677225112915, 0.454583078622818, 0.45589280128479004, 0.4526257812976837, 0.4534464180469513, 0.45451420545578003, 0.45406654477119446, 0.4532199800014496, 0.4533601701259613, 0.452379047870636, 0.45502641797065735, 0.45262253284454346, 0.4521408677101135, 0.45163342356681824, 0.4532754421234131, 0.4513038396835327, 0.45164525508880615, 0.45139122009277344, 0.45172274112701416, 0.4503040015697479, 0.4514135420322418, 0.4517362415790558, 0.4524272680282593, 0.4508483409881592, 0.45036107301712036, 0.4505644142627716, 0.44944092631340027, 0.4504162073135376, 0.450991690158844, 0.451509028673172, 0.4502941966056824, 0.44975996017456055, 0.449775367975235, 0.45092466473579407, 0.4494471251964569, 0.4496980309486389, 0.4493095874786377, 0.44911763072013855, 0.45096972584724426, 0.44914764165878296, 0.4481912851333618, 0.44848552346229553, 0.4483371078968048, 0.44865915179252625, 0.44854360818862915, 0.4482494294643402, 0.44848281145095825, 0.44817915558815, 0.449758380651474, 0.44741371273994446, 0.44785335659980774, 0.4475874602794647, 0.4484344720840454, 0.4478030800819397, 0.4474947154521942, 0.44927188754081726, 0.4478297531604767, 0.4471815526485443, 0.4481372833251953, 0.44804152846336365, 0.4481111466884613, 0.44784659147262573, 0.4469175934791565, 0.44720128178596497, 0.44749605655670166, 0.44766294956207275, 0.44694042205810547, 0.4464477002620697, 0.44621196389198303, 0.4469134211540222, 0.44778549671173096, 0.44618210196495056, 0.44597724080085754, 0.44650769233703613, 0.44671201705932617, 0.4464472830295563, 0.44752630591392517, 0.445889413356781, 0.4454403221607208, 0.4458250105381012, 0.4464596211910248, 0.44650447368621826, 0.44621542096138, 0.4469496011734009, 0.4464567005634308, 0.44557738304138184, 0.44522517919540405, 0.4454055726528168, 0.444766640663147, 0.44621288776397705, 0.44643324613571167, 0.44633767008781433, 0.4446566104888916, 0.44603973627090454, 0.44555336236953735, 0.4459497034549713, 0.44465604424476624, 0.4449041783809662, 0.44495758414268494, 0.44532713294029236, 0.4453776776790619, 0.4442509412765503, 0.44401904940605164, 0.44510459899902344, 0.4445670247077942, 0.4442371726036072, 0.4445977509021759, 0.44526588916778564, 0.4443734288215637, 0.44434645771980286, 0.4444296956062317, 0.44470858573913574, 0.4435647428035736, 0.44394412636756897, 0.44371333718299866, 0.4447518289089203, 0.4445759356021881, 0.4441607594490051, 0.44413599371910095, 0.4445139765739441, 0.4446295201778412, 0.4437375068664551, 0.4436642825603485, 0.4438767731189728, 0.44336238503456116, 0.4427890479564667, 0.4426654875278473, 0.4448705315589905, 0.4449079930782318, 0.4434854984283447, 0.4427567720413208, 0.44352737069129944, 0.44413548707962036, 0.44346487522125244, 0.4453040361404419, 0.44385141134262085, 0.4431042969226837, 0.4426671266555786, 0.4431670904159546, 0.4431534707546234, 0.44296255707740784, 0.4437251091003418, 0.44226521253585815, 0.4427613317966461, 0.4434117376804352, 0.44246554374694824, 0.4429318904876709, 0.4438841640949249, 0.44269922375679016, 0.44255784153938293, 0.4422646462917328, 0.44248709082603455, 0.44303199648857117, 0.44234326481819153, 0.443486750125885, 0.44300559163093567, 0.4426482915878296, 0.44179481267929077, 0.4418172538280487, 0.44335976243019104, 0.4422198534011841, 0.44261273741722107, 0.44227489829063416, 0.4428628981113434, 0.44176462292671204, 0.44367995858192444, 0.4422489106655121, 0.44187653064727783, 0.44260892271995544, 0.44277873635292053, 0.44251471757888794, 0.44180917739868164, 0.442522257566452, 0.4421534538269043, 0.44224098324775696, 0.4421662986278534, 0.44156748056411743, 0.441745400428772, 0.44162797927856445, 0.44185763597488403, 0.44168034195899963, 0.4423828423023224, 0.4412575364112854, 0.44122254848480225, 0.44115614891052246, 0.44127169251441956, 0.44199037551879883, 0.44198909401893616, 0.4411987066268921, 0.4411954879760742, 0.4409591257572174, 0.44075843691825867, 0.44147223234176636, 0.44134536385536194, 0.4408716857433319, 0.44069722294807434, 0.4406627118587494, 0.4414464831352234, 0.4414035379886627, 0.4409479796886444, 0.44115641713142395, 0.44062110781669617, 0.44030487537384033, 0.44096434116363525, 0.4405311942100525, 0.4406931698322296, 0.4413856863975525, 0.4417777359485626, 0.44236084818840027, 0.4420122504234314, 0.4404115676879883, 0.44016632437705994, 0.4408740699291229, 0.44057130813598633, 0.4401363134384155, 0.44097936153411865, 0.44145533442497253, 0.44055643677711487, 0.44039809703826904, 0.4404686689376831, 0.4406023919582367, 0.44118520617485046, 0.4406028389930725, 0.44043299555778503, 0.44013041257858276, 0.44082435965538025, 0.44025155901908875, 0.44066327810287476, 0.4402620792388916, 0.4400085210800171, 0.44041597843170166, 0.4403952658176422, 0.4397508203983307, 0.4406028985977173, 0.4409905970096588, 0.439415842294693, 0.44013795256614685, 0.44033995270729065, 0.439915269613266, 0.4406379759311676, 0.4400539696216583, 0.4395834505558014, 0.43938398361206055, 0.43952247500419617, 0.44038450717926025, 0.4397509694099426, 0.43959611654281616, 0.43935686349868774, 0.44010403752326965, 0.44081082940101624, 0.4392493665218353, 0.4399902820587158, 0.4406960606575012, 0.4398319125175476, 0.440033495426178, 0.4401136040687561, 0.4408200681209564, 0.44024065136909485, 0.4403730034828186, 0.4401121437549591, 0.43995964527130127, 0.44111889600753784, 0.4399827718734741, 0.43937522172927856, 0.43958303332328796, 0.43953606486320496, 0.439691960811615, 0.43931788206100464, 0.4391910135746002, 0.4387257993221283, 0.43963247537612915, 0.43994611501693726, 0.43952077627182007, 0.43967944383621216, 0.43895065784454346, 0.4394032955169678, 0.4389816224575043, 0.4393306374549866, 0.439785897731781, 0.4401065409183502, 0.43967047333717346, 0.43960678577423096, 0.4393758475780487, 0.43906185030937195, 0.4392910599708557, 0.4387474060058594, 0.4389372169971466, 0.43935737013816833, 0.439187616109848, 0.4399709403514862, 0.43934494256973267, 0.4397662580013275, 0.43927183747291565, 0.4385925531387329, 0.4387533664703369, 0.4388180673122406, 0.438692182302475, 0.4385196566581726, 0.43901047110557556, 0.43816158175468445, 0.43899497389793396, 0.4388177692890167, 0.4390648305416107, 0.4393080472946167, 0.43856388330459595, 0.4384630620479584, 0.438909649848938, 0.4388270974159241, 0.4384796917438507, 0.4392020106315613, 0.43859541416168213, 0.43926116824150085, 0.43908289074897766, 0.43891096115112305, 0.438477098941803, 0.438340961933136, 0.43871572613716125, 0.437976211309433, 0.43881645798683167, 0.43941381573677063, 0.43808144330978394, 0.43851321935653687, 0.4386460483074188, 0.4383290708065033, 0.43786513805389404, 0.43813174962997437, 0.43803519010543823, 0.4382348954677582, 0.4380134642124176, 0.43848374485969543, 0.438632071018219, 0.43816250562667847, 0.4397386908531189, 0.4384455680847168, 0.43830421566963196, 0.4383338391780853, 0.4389394223690033, 0.43871328234672546, 0.43792256712913513, 0.43799859285354614, 0.4378720819950104, 0.4382565915584564, 0.4381440579891205, 0.43799078464508057, 0.4384630024433136, 0.43836432695388794, 0.4382208585739136, 0.43800413608551025, 0.4374595582485199, 0.43894684314727783, 0.43763458728790283, 0.437682569026947, 0.438949853181839, 0.4384486973285675, 0.43755772709846497, 0.4375823438167572, 0.438107430934906, 0.43783506751060486, 0.4378203749656677, 0.4384244978427887, 0.4377972185611725, 0.4383808374404907, 0.43824684619903564, 0.43808436393737793, 0.43741366267204285, 0.43726345896720886, 0.43832290172576904, 0.4381061792373657, 0.4380040764808655, 0.4386965036392212, 0.4383891522884369, 0.4380109906196594, 0.43722158670425415, 0.4375488758087158, 0.43816936016082764, 0.43718382716178894, 0.43777957558631897, 0.43785300850868225, 0.4369998872280121, 0.43740180134773254, 0.43794456124305725, 0.4382408559322357, 0.4376530349254608, 0.43724876642227173, 0.43773895502090454, 0.43714872002601624, 0.43855616450309753, 0.43791064620018005, 0.4381624758243561, 0.43911927938461304, 0.4376225173473358, 0.43718084692955017, 0.4372880756855011, 0.4376245439052582, 0.43874022364616394, 0.43741723895072937, 0.4378527104854584, 0.4373846650123596, 0.43785378336906433, 0.43809735774993896, 0.4377671182155609, 0.4375556707382202, 0.4371357560157776, 0.4369773864746094, 0.4372117817401886, 0.4374089539051056, 0.4371889531612396, 0.43726763129234314, 0.43675175309181213, 0.43722420930862427, 0.4370415508747101, 0.43741822242736816, 0.4369838237762451, 0.43796056509017944, 0.4373641312122345, 0.4375670552253723, 0.43689095973968506, 0.43696659803390503, 0.4368441104888916, 0.4375724196434021, 0.4369591474533081, 0.4371767044067383, 0.436788946390152, 0.43692880868911743, 0.43670883774757385, 0.4368368983268738, 0.4370776414871216, 0.43720543384552, 0.43749144673347473, 0.4375516474246979, 0.43722084164619446, 0.43699344992637634, 0.4370579421520233, 0.43710318207740784, 0.4370712637901306, 0.4379136562347412, 0.4377260208129883, 0.43729734420776367, 0.4372164011001587, 0.4365590810775757, 0.4367203414440155, 0.4370647370815277, 0.4369905889034271, 0.4369662404060364, 0.436956524848938, 0.4366993308067322, 0.43741708993911743, 0.436798632144928, 0.4365248382091522, 0.43740400671958923, 0.43637531995773315, 0.4368283748626709, 0.43646368384361267, 0.43638625741004944, 0.4371111989021301, 0.437183678150177, 0.4366011917591095, 0.43759885430336, 0.4364936053752899, 0.4363906681537628, 0.4364994466304779, 0.43641334772109985, 0.4361903965473175, 0.4364674389362335, 0.4364142417907715, 0.4361957609653473, 0.43650758266448975, 0.43650001287460327, 0.4374517798423767, 0.43722864985466003, 0.4366680979728699, 0.4363008141517639, 0.43658778071403503, 0.43731632828712463, 0.43670418858528137, 0.43779146671295166, 0.4367339611053467, 0.43662503361701965, 0.4362295866012573, 0.43645742535591125, 0.4359472692012787, 0.43616166710853577, 0.4358823895454407, 0.4370996654033661, 0.4366146922111511, 0.43647563457489014, 0.43605998158454895, 0.4362832307815552, 0.43677496910095215, 0.4361908733844757, 0.43649813532829285, 0.4365289509296417, 0.4363158345222473, 0.43591588735580444, 0.4364478886127472, 0.43627360463142395, 0.43598559498786926, 0.4372566342353821, 0.4364897906780243, 0.43686437606811523, 0.43612048029899597, 0.43633103370666504, 0.436342716217041, 0.4359063506126404, 0.4362509250640869, 0.4362432360649109, 0.4362052381038666, 0.43750759959220886, 0.43700650334358215, 0.43582668900489807, 0.4368870258331299, 0.43674933910369873, 0.43705320358276367, 0.43617960810661316, 0.4362606704235077, 0.43613532185554504, 0.4359881579875946, 0.4360637962818146, 0.4366600513458252, 0.43657058477401733, 0.43651169538497925, 0.4359641671180725, 0.4364243745803833, 0.436349093914032, 0.4358498156070709, 0.43588313460350037, 0.4362817406654358, 0.4360007047653198, 0.4357540011405945, 0.43566837906837463, 0.43640586733818054, 0.4362926781177521, 0.4357950687408447, 0.4355855882167816, 0.43645817041397095, 0.4360334873199463, 0.4358941614627838, 0.43567052483558655, 0.4354393482208252, 0.4362829625606537, 0.4367109537124634, 0.4359016418457031, 0.4357652962207794, 0.4354592263698578, 0.4357563257217407, 0.43578821420669556, 0.43596842885017395, 0.4357689917087555, 0.43603065609931946, 0.4353814721107483, 0.4354587197303772, 0.43640321493148804, 0.43622225522994995, 0.43600597977638245, 0.4362562894821167, 0.4358111619949341, 0.4356958568096161, 0.4360884428024292, 0.43735939264297485, 0.43681973218917847, 0.4360780715942383, 0.43602892756462097, 0.43582263588905334, 0.4355449974536896, 0.435969740152359, 0.4359890818595886, 0.43546411395072937, 0.43618884682655334, 0.4360572397708893, 0.4352768361568451, 0.4354766309261322, 0.4359639883041382, 0.4356687366962433, 0.43536368012428284, 0.43566060066223145, 0.43489035964012146, 0.43576276302337646, 0.4359699785709381, 0.4361327588558197, 0.43531355261802673, 0.43565523624420166, 0.4352467656135559, 0.43584612011909485, 0.4357331693172455, 0.4360698163509369, 0.43540266156196594, 0.43582794070243835, 0.4352701008319855, 0.4353191554546356, 0.43519797921180725, 0.435923308134079, 0.4350293278694153, 0.43512386083602905, 0.4353552758693695, 0.4360846281051636, 0.4355000853538513, 0.4358676075935364, 0.43530982732772827, 0.4352846145629883, 0.4349741041660309, 0.43567949533462524, 0.4356878697872162, 0.43543457984924316, 0.4361601769924164, 0.43553340435028076, 0.4357421398162842, 0.43529459834098816, 0.43562397360801697, 0.43551015853881836, 0.435030072927475, 0.4352906048297882, 0.43475618958473206, 0.43525391817092896, 0.43533408641815186, 0.43557634949684143, 0.43564140796661377, 0.4351799190044403, 0.43503355979919434, 0.43583062291145325, 0.43480536341667175, 0.43498972058296204, 0.4353410303592682, 0.4351339340209961, 0.43488049507141113, 0.43494945764541626, 0.43519967794418335, 0.43467235565185547, 0.4350396990776062, 0.4350467324256897, 0.4351206123828888, 0.43542972207069397, 0.43474000692367554, 0.43536803126335144, 0.4353380501270294, 0.43513286113739014, 0.43527665734291077, 0.4353640675544739, 0.4348730742931366, 0.43497925996780396, 0.4355417788028717, 0.43516096472740173, 0.43458038568496704, 0.43486806750297546, 0.4351172149181366, 0.4353613257408142, 0.4349499046802521, 0.43485942482948303, 0.4353470206260681, 0.43471255898475647, 0.4348694682121277, 0.4348638355731964, 0.4361840486526489, 0.43581947684288025, 0.43478846549987793, 0.4346470236778259, 0.43516814708709717, 0.43501782417297363, 0.4355214238166809, 0.43483373522758484, 0.4349499046802521, 0.4348655641078949, 0.43510961532592773, 0.4351959824562073, 0.4352053105831146, 0.4351981282234192, 0.4363580346107483, 0.43478989601135254, 0.4347131848335266, 0.43533703684806824, 0.435596764087677, 0.43469929695129395, 0.4353022575378418, 0.4353879988193512, 0.4348592162132263, 0.4345739185810089, 0.4348090887069702, 0.43444791436195374, 0.4346635341644287, 0.43479278683662415, 0.4344829320907593, 0.43470337986946106, 0.43485450744628906, 0.4350188672542572, 0.43471866846084595, 0.43489453196525574, 0.43445345759391785, 0.43465107679367065, 0.43459373712539673, 0.4344853460788727, 0.43481335043907166, 0.43442031741142273, 0.43489453196525574, 0.4354805648326874, 0.43473491072654724, 0.4349098205566406, 0.43460211157798767, 0.43468254804611206, 0.43457069993019104, 0.4344828426837921, 0.43491289019584656, 0.434699147939682, 0.4348456561565399, 0.4350101947784424, 0.43428900837898254, 0.43442466855049133, 0.4350737929344177, 0.43436846137046814, 0.4363318383693695, 0.4350629150867462, 0.4344342052936554, 0.43427327275276184, 0.43415185809135437]}, {\"name\": \"combined_nn_val-loss\", \"type\": \"scatter\", \"y\": [2.023517608642578, 1.9510831832885742, 1.9523814916610718, 1.8830097913742065, 1.829010009765625, 1.7659968137741089, 1.7288525104522705, 1.7023210525512695, 1.679758071899414, 1.6652557849884033, 1.6018263101577759, 1.6079649925231934, 1.531131386756897, 1.4806748628616333, 1.5111260414123535, 1.505015254020691, 1.500490665435791, 1.4449859857559204, 1.4029911756515503, 1.4405670166015625, 1.3985868692398071, 1.2915996313095093, 1.2546712160110474, 1.2402374744415283, 1.2402034997940063, 1.2191683053970337, 1.178672194480896, 1.1421842575073242, 1.153389811515808, 1.116054654121399, 1.131328821182251, 1.0418270826339722, 1.0575355291366577, 1.065446376800537, 1.0670957565307617, 1.0195257663726807, 1.010382890701294, 0.9916845560073853, 0.9641794562339783, 0.9579581618309021, 0.9372310638427734, 0.8928076028823853, 0.8587494492530823, 0.8342313766479492, 0.7871659994125366, 0.7896155714988708, 0.7201088666915894, 0.6689700484275818, 0.6530871987342834, 0.6222674250602722, 0.6188944578170776, 0.5861563682556152, 0.5728399753570557, 0.5566883683204651, 0.56234210729599, 0.5512095093727112, 0.5332934856414795, 0.5356364250183105, 0.5404970645904541, 0.5247970819473267, 0.5311436653137207, 0.5097984075546265, 0.5182307362556458, 0.5335130095481873, 0.5303287506103516, 0.5217172503471375, 0.5092566609382629, 0.4990559220314026, 0.48757556080818176, 0.4995149075984955, 0.4918169677257538, 0.49080121517181396, 0.5219362378120422, 0.510325014591217, 0.49310609698295593, 0.5043256878852844, 0.4941677153110504, 0.5004230737686157, 0.5162012577056885, 0.49573245644569397, 0.48393872380256653, 0.5034133195877075, 0.47028541564941406, 0.4756990075111389, 0.4851778447628021, 0.4652755558490753, 0.4946424067020416, 0.4726319909095764, 0.46872979402542114, 0.4663725793361664, 0.4967978596687317, 0.5091683268547058, 0.46210476756095886, 0.47464314103126526, 0.4784117341041565, 0.48119091987609863, 0.46637415885925293, 0.47462671995162964, 0.45576533675193787, 0.4686706066131592, 0.4629354476928711, 0.4615277945995331, 0.473317414522171, 0.4758511781692505, 0.45030081272125244, 0.4576743543148041, 0.46057045459747314, 0.45496585965156555, 0.45325523614883423, 0.46373844146728516, 0.4659615159034729, 0.46957337856292725, 0.4708569645881653, 0.441598504781723, 0.46731242537498474, 0.44695764780044556, 0.4623855650424957, 0.4403475821018219, 0.4591783881187439, 0.4595838189125061, 0.4461183249950409, 0.4632379412651062, 0.45333635807037354, 0.4674501419067383, 0.4522435665130615, 0.45148101449012756, 0.44803386926651, 0.4463023245334625, 0.45067352056503296, 0.4532953202724457, 0.44085657596588135, 0.44155511260032654, 0.45319217443466187, 0.4319494664669037, 0.43753015995025635, 0.42958173155784607, 0.4479149580001831, 0.42256075143814087, 0.44291186332702637, 0.45784851908683777, 0.4358675181865692, 0.44049331545829773, 0.4490419030189514, 0.4470766484737396, 0.4388214647769928, 0.43162471055984497, 0.42435622215270996, 0.4258095920085907, 0.434315025806427, 0.42075371742248535, 0.42266079783439636, 0.43183383345603943, 0.4339437782764435, 0.4246075451374054, 0.4223485291004181, 0.4320997893810272, 0.4343709349632263, 0.42019835114479065, 0.4336531460285187, 0.428727388381958, 0.43405410647392273, 0.414160817861557, 0.4270520806312561, 0.4248197674751282, 0.41956955194473267, 0.41668885946273804, 0.4251600503921509, 0.41701772809028625, 0.411030650138855, 0.4184013903141022, 0.41717520356178284, 0.4192350506782532, 0.41553154587745667, 0.4207044839859009, 0.41943371295928955, 0.41731759905815125, 0.4007640480995178, 0.42928510904312134, 0.40989047288894653, 0.4130829870700836, 0.41103121638298035, 0.41868114471435547, 0.4082808494567871, 0.41401785612106323, 0.41009679436683655, 0.4079253077507019, 0.40507420897483826, 0.4123154580593109, 0.40539056062698364, 0.4007968604564667, 0.40553387999534607, 0.39577701687812805, 0.3957064747810364, 0.4221588671207428, 0.4024866819381714, 0.40457379817962646, 0.40469273924827576, 0.40329617261886597, 0.4007229208946228, 0.39378589391708374, 0.39197707176208496, 0.40513333678245544, 0.39398735761642456, 0.3965674638748169, 0.3952715992927551, 0.39612653851509094, 0.4012768864631653, 0.3941064774990082, 0.4015873372554779, 0.38722264766693115, 0.3950512409210205, 0.4057253301143646, 0.4006426930427551, 0.3930432200431824, 0.3920705020427704, 0.3925407826900482, 0.3887031376361847, 0.38988062739372253, 0.39313116669654846, 0.3918493092060089, 0.3869118392467499, 0.38855189085006714, 0.3890305757522583, 0.38810014724731445, 0.389659583568573, 0.3889431953430176, 0.39237117767333984, 0.38252922892570496, 0.3797389566898346, 0.38555973768234253, 0.38739126920700073, 0.3853674530982971, 0.38356250524520874, 0.3864302635192871, 0.3785562515258789, 0.38103577494621277, 0.3872535228729248, 0.3825657069683075, 0.38537710905075073, 0.37882164120674133, 0.3729177713394165, 0.3739962577819824, 0.3772050738334656, 0.37315991520881653, 0.3821018934249878, 0.37153685092926025, 0.37497615814208984, 0.37229928374290466, 0.3733506500720978, 0.38410529494285583, 0.37119877338409424, 0.37305569648742676, 0.3749120235443115, 0.37650781869888306, 0.3707811236381531, 0.37847474217414856, 0.367857426404953, 0.369952529668808, 0.37148404121398926, 0.38300588726997375, 0.3770274519920349, 0.367291122674942, 0.36937254667282104, 0.367755264043808, 0.36712682247161865, 0.3657054305076599, 0.37771910429000854, 0.37204092741012573, 0.370321124792099, 0.36610716581344604, 0.37431395053863525, 0.36992380023002625, 0.37008190155029297, 0.3685437738895416, 0.36848893761634827, 0.36320751905441284, 0.3677879571914673, 0.372068852186203, 0.36821967363357544, 0.3663340210914612, 0.36307492852211, 0.36705076694488525, 0.3646669089794159, 0.36630481481552124, 0.37403446435928345, 0.3704473078250885, 0.36364078521728516, 0.3675503730773926, 0.3666318953037262, 0.3628695011138916, 0.3702527582645416, 0.3700070083141327, 0.3673349916934967, 0.3688338100910187, 0.3670121133327484, 0.3755892813205719, 0.3628518879413605, 0.35900425910949707, 0.36286309361457825, 0.3659355640411377, 0.365296870470047, 0.3651510179042816, 0.36519119143486023, 0.36335626244544983, 0.36638739705085754, 0.3663989007472992, 0.36272740364074707, 0.36283525824546814, 0.36395883560180664, 0.36668065190315247, 0.36756953597068787, 0.3624238073825836, 0.364253431558609, 0.36655983328819275, 0.3663690984249115, 0.35905513167381287, 0.3660764992237091, 0.362042099237442, 0.36541712284088135, 0.36445584893226624, 0.36163195967674255, 0.36401239037513733, 0.36504560708999634, 0.360281765460968, 0.3600997030735016, 0.3664829432964325, 0.36419859528541565, 0.36007145047187805, 0.3604658246040344, 0.36715638637542725, 0.36121487617492676, 0.36075136065483093, 0.3606409728527069, 0.362684041261673, 0.36238226294517517, 0.361797034740448, 0.36383599042892456, 0.35992103815078735, 0.3600671589374542, 0.3645078241825104, 0.36083272099494934, 0.3603309988975525, 0.36022689938545227, 0.36185917258262634, 0.36158087849617004, 0.3596329391002655, 0.3621538281440735, 0.3614344894886017, 0.3620128035545349, 0.36130568385124207, 0.3595145344734192, 0.3623619079589844, 0.3602181673049927, 0.3597303330898285, 0.3598080277442932, 0.35992422699928284, 0.3599662482738495, 0.36126142740249634, 0.3615666925907135, 0.3601897060871124, 0.36119550466537476, 0.36128658056259155, 0.3601953089237213, 0.36533838510513306, 0.3612169325351715, 0.3597128987312317, 0.35993117094039917, 0.3603556454181671, 0.3595285713672638, 0.3616510331630707, 0.3643903136253357, 0.36316409707069397, 0.3587748408317566, 0.36036503314971924, 0.3610759675502777, 0.361303448677063, 0.3594139814376831, 0.363383024930954, 0.3615543842315674, 0.36024025082588196, 0.3609306812286377, 0.360100656747818, 0.3596866726875305, 0.36009740829467773, 0.3601800501346588, 0.36237597465515137, 0.3590177595615387, 0.360361784696579, 0.36044448614120483, 0.36159712076187134, 0.3595357835292816, 0.36024588346481323, 0.36148306727409363, 0.3589591383934021, 0.3585565388202667, 0.3600701093673706, 0.36160191893577576, 0.3595251739025116, 0.3582622706890106, 0.3598649799823761, 0.36003586649894714, 0.36134546995162964, 0.36100348830223083, 0.3616424798965454, 0.36420443654060364, 0.36036810278892517, 0.3605789840221405, 0.3589918911457062, 0.3609670400619507, 0.36113646626472473, 0.3610318899154663, 0.3611378073692322, 0.3594735860824585, 0.3609713017940521, 0.36097145080566406, 0.36316102743148804, 0.36288535594940186, 0.3607884645462036, 0.3614855706691742, 0.35984501242637634, 0.35947662591934204, 0.36227163672447205, 0.3631053864955902, 0.36231371760368347, 0.3601328730583191, 0.36135929822921753, 0.363039493560791, 0.3616875410079956, 0.36186566948890686, 0.36321961879730225, 0.3601747751235962, 0.36249661445617676, 0.36530524492263794, 0.3655903935432434, 0.3609010875225067, 0.3629978895187378, 0.360736608505249, 0.3621523678302765, 0.36352962255477905, 0.3616713583469391, 0.36306554079055786, 0.3632534146308899, 0.36409613490104675, 0.36193737387657166, 0.3627459704875946, 0.3630419075489044, 0.3620894253253937, 0.36261260509490967, 0.36190280318260193, 0.36117497086524963, 0.3642440736293793, 0.36363860964775085, 0.36878225207328796, 0.36713096499443054, 0.36209046840667725, 0.362382709980011, 0.36147961020469666, 0.3602284789085388, 0.36187416315078735, 0.36138829588890076, 0.3637984097003937, 0.36305707693099976, 0.36406463384628296, 0.3646305203437805, 0.3663163185119629, 0.3631170690059662, 0.3669103980064392, 0.3645935356616974, 0.36294320225715637, 0.3618561923503876, 0.36805588006973267, 0.3627144694328308, 0.36610719561576843, 0.36613938212394714, 0.36621057987213135, 0.3643970489501953, 0.3677034378051758, 0.36512327194213867, 0.3644876778125763, 0.3650568723678589, 0.36727944016456604, 0.36334481835365295, 0.36198440194129944, 0.3655408024787903, 0.36689069867134094, 0.36427804827690125, 0.36355698108673096, 0.3623262643814087, 0.36536166071891785, 0.3642965853214264, 0.36518675088882446, 0.3631816506385803, 0.36333805322647095, 0.36200353503227234, 0.36546799540519714, 0.36432042717933655, 0.36387622356414795, 0.36541178822517395, 0.3655836880207062, 0.3627801239490509, 0.3687888979911804, 0.365680992603302, 0.3688929080963135, 0.365909606218338, 0.3664308786392212, 0.36487600207328796, 0.36480721831321716, 0.3623010814189911, 0.3686111867427826, 0.3693139851093292, 0.36394092440605164, 0.3653116524219513, 0.3673233985900879, 0.3639058768749237, 0.36669543385505676, 0.36573708057403564, 0.3644733130931854, 0.36380672454833984, 0.37154024839401245, 0.36963024735450745, 0.3649345338344574, 0.3668301999568939, 0.36703935265541077, 0.3666403591632843, 0.3667372167110443, 0.3625606894493103, 0.3697667121887207, 0.3652879595756531, 0.3666505813598633, 0.36536654829978943, 0.36638233065605164, 0.3650822639465332, 0.36948367953300476, 0.3650682270526886, 0.36904820799827576, 0.36801716685295105, 0.3705913722515106, 0.3669116795063019, 0.36337876319885254, 0.3677964210510254, 0.36764708161354065, 0.3706136643886566, 0.36754581332206726, 0.3637157380580902, 0.3653426766395569, 0.37209072709083557, 0.370695024728775, 0.36638206243515015, 0.3692142963409424, 0.3697206974029541, 0.3643753230571747, 0.3696975111961365, 0.3676597774028778, 0.3688526451587677, 0.3645210266113281, 0.37225082516670227, 0.365969717502594, 0.36873090267181396, 0.37440723180770874, 0.3655824065208435, 0.3669455647468567, 0.36564144492149353, 0.36446064710617065, 0.3643542528152466, 0.3710409700870514, 0.37312212586402893, 0.36966127157211304, 0.369075208902359, 0.3659994304180145, 0.368589848279953, 0.3715916574001312, 0.36788907647132874, 0.37079229950904846, 0.3686021864414215, 0.3679315149784088, 0.368740439414978, 0.3651352822780609, 0.3661734461784363, 0.36645662784576416, 0.3683139383792877, 0.3760378062725067, 0.3661031126976013, 0.3681674003601074, 0.37063729763031006, 0.37259629368782043, 0.36962100863456726, 0.37064096331596375, 0.3751794993877411, 0.3725977838039398, 0.37072673439979553, 0.37791070342063904, 0.37437379360198975, 0.3668075501918793, 0.36894404888153076, 0.3658851385116577, 0.3658820390701294, 0.3677743375301361, 0.3690095543861389, 0.36786311864852905, 0.3696337342262268, 0.36758774518966675, 0.36511752009391785, 0.37210890650749207, 0.37168198823928833, 0.3658462464809418, 0.36961105465888977, 0.36402323842048645, 0.3664223253726959, 0.36827102303504944, 0.3683560788631439, 0.3737446367740631, 0.3656274974346161, 0.36869168281555176, 0.3702290654182434, 0.3686061501502991, 0.36572471261024475, 0.3678649961948395, 0.3678426146507263, 0.36925506591796875, 0.36439451575279236, 0.36757925152778625, 0.37056368589401245, 0.3721572160720825, 0.36970269680023193, 0.3706299662590027, 0.3687576353549957, 0.37101295590400696, 0.36891835927963257, 0.37539756298065186, 0.3692164123058319, 0.36848607659339905, 0.36862316727638245, 0.37166061997413635, 0.36627063155174255, 0.36755499243736267, 0.36569085717201233, 0.37429386377334595, 0.3703140914440155, 0.37490662932395935, 0.3683735728263855, 0.3676525354385376, 0.36978796124458313, 0.3687410354614258, 0.37115025520324707, 0.36518532037734985, 0.36947953701019287, 0.37546876072883606, 0.37275221943855286, 0.3671185374259949, 0.3645363450050354, 0.365642249584198, 0.3689250349998474, 0.37259501218795776, 0.3649335205554962, 0.37012559175491333, 0.37799134850502014, 0.3706094026565552, 0.37242892384529114, 0.3658352196216583, 0.370197057723999, 0.36792105436325073, 0.3691002130508423, 0.3742518723011017, 0.36589354276657104, 0.37961170077323914, 0.36743953824043274, 0.3741433024406433, 0.37189722061157227, 0.37661343812942505, 0.36960792541503906, 0.3665619492530823, 0.3710833191871643, 0.3673861026763916, 0.3727266490459442, 0.37509962916374207, 0.3846171498298645, 0.3716583549976349, 0.367891788482666, 0.36582013964653015, 0.3693799078464508, 0.36853650212287903, 0.3663485646247864, 0.3677351176738739, 0.3750882148742676, 0.36761802434921265, 0.36914339661598206, 0.3690442442893982, 0.3683302700519562, 0.36824312806129456, 0.37090352177619934, 0.3710668385028839, 0.3692142963409424, 0.3685115873813629, 0.3717668354511261, 0.3715296983718872, 0.37167108058929443, 0.37125563621520996, 0.36919111013412476, 0.36933931708335876, 0.36948326230049133, 0.366628497838974, 0.3672153949737549, 0.36979955434799194, 0.37188807129859924, 0.3762665390968323, 0.3680468797683716, 0.3722855746746063, 0.36759305000305176, 0.36798205971717834, 0.37713807821273804, 0.37034717202186584, 0.3681592345237732, 0.37217411398887634, 0.37996232509613037, 0.36929789185523987, 0.3663278818130493, 0.3705833852291107, 0.3737969696521759, 0.37039363384246826, 0.3656572699546814, 0.36333760619163513, 0.3676168918609619, 0.3649459481239319, 0.36727723479270935, 0.3797471523284912, 0.36327552795410156, 0.36697113513946533, 0.36873796582221985, 0.3679361045360565, 0.3724018633365631, 0.36528584361076355, 0.3651901185512543, 0.3681032061576843, 0.37872931361198425, 0.3742941617965698, 0.3750704228878021, 0.36664003133773804, 0.3680512011051178, 0.3653920590877533, 0.367396742105484, 0.37210601568222046, 0.36456239223480225, 0.36718907952308655, 0.3668765723705292, 0.3761650025844574, 0.3726586103439331, 0.368093878030777, 0.3678032159805298, 0.3723120093345642, 0.3718346953392029, 0.36438611149787903, 0.36906862258911133, 0.37237808108329773, 0.36635684967041016, 0.3702203631401062, 0.3726929724216461, 0.3682149052619934, 0.3670138418674469, 0.37399643659591675, 0.37090086936950684, 0.3697220981121063, 0.3704722821712494, 0.3662683665752411, 0.3695141673088074, 0.3680984377861023, 0.3689882159233093, 0.3697502613067627, 0.3773270547389984, 0.36731237173080444, 0.36807408928871155, 0.371209979057312, 0.3668273389339447, 0.3697963058948517, 0.3711181581020355, 0.3709798753261566, 0.367142915725708, 0.3667799234390259, 0.36843395233154297, 0.370939165353775, 0.3676965534687042, 0.37123680114746094, 0.37379923462867737, 0.36994215846061707, 0.3647369146347046, 0.3726237416267395, 0.3649508059024811, 0.37139925360679626, 0.3731381595134735, 0.368701308965683, 0.3667689561843872, 0.3702852129936218, 0.36941635608673096, 0.3765176236629486, 0.37728944420814514, 0.37271031737327576, 0.3752286732196808, 0.377437949180603, 0.3739789128303528, 0.37679389119148254, 0.36648547649383545, 0.37408682703971863, 0.3638911545276642, 0.37694522738456726, 0.37142106890678406, 0.37012675404548645, 0.371277391910553, 0.37214261293411255, 0.3746260404586792, 0.371511846780777, 0.3704599440097809, 0.3733350932598114, 0.3666767179965973, 0.36732393503189087, 0.36593011021614075, 0.374559611082077, 0.36645233631134033, 0.3696472942829132, 0.3677985966205597, 0.3661404550075531, 0.3688715696334839, 0.37292367219924927, 0.3728558421134949, 0.37221017479896545, 0.36756381392478943, 0.3693287968635559, 0.36910906434059143, 0.37472423911094666, 0.3641420006752014, 0.36854538321495056, 0.3739481568336487, 0.3660402297973633, 0.3745346963405609, 0.3719474673271179, 0.37220558524131775, 0.37311094999313354, 0.37259960174560547, 0.36953088641166687, 0.37525704503059387, 0.3763292729854584, 0.364582896232605, 0.3663799464702606, 0.37203413248062134, 0.3677072823047638, 0.3725128471851349, 0.36619827151298523, 0.3691476583480835, 0.378597229719162, 0.3742200434207916, 0.375247597694397, 0.37057796120643616, 0.364536851644516, 0.3788805603981018, 0.3713599443435669, 0.370769202709198, 0.3708422780036926, 0.37384387850761414, 0.3699735999107361, 0.36747702956199646, 0.36699092388153076, 0.36916056275367737, 0.3719361126422882, 0.3714912533760071, 0.36763644218444824, 0.3721952736377716, 0.3685319423675537, 0.367458701133728, 0.3677630126476288, 0.36645057797431946, 0.3687513768672943, 0.369510293006897, 0.37265828251838684, 0.3741089999675751, 0.36737796664237976, 0.371676504611969, 0.3681281805038452, 0.37501588463783264, 0.37197446823120117, 0.37120524048805237, 0.37087482213974, 0.36800774931907654, 0.37817561626434326, 0.3676629066467285, 0.37689825892448425, 0.3650956153869629, 0.37392541766166687, 0.3677656948566437, 0.37328270077705383, 0.36903172731399536, 0.3761323094367981, 0.36920037865638733, 0.3771387040615082, 0.37127214670181274, 0.37097519636154175, 0.3731161057949066, 0.3791412115097046, 0.38282841444015503, 0.3721683621406555, 0.3711280822753906, 0.3706425130367279, 0.37310877442359924, 0.3719079792499542, 0.36756229400634766, 0.3696768581867218, 0.36626186966896057, 0.3792114555835724, 0.3755353093147278, 0.3691340386867523, 0.3716174066066742, 0.3698207139968872, 0.3687724769115448, 0.3764209747314453, 0.37157902121543884, 0.36844661831855774, 0.3712075650691986, 0.3708037734031677, 0.3672892451286316, 0.36504146456718445, 0.3694417178630829, 0.37002626061439514, 0.3665766417980194, 0.3684775233268738, 0.36970391869544983, 0.37142571806907654, 0.378765344619751, 0.3772898018360138, 0.3676646947860718, 0.3742368221282959, 0.3762460947036743, 0.3702804744243622, 0.36909034848213196, 0.3724171221256256, 0.3717549741268158, 0.37003210186958313, 0.37242138385772705, 0.37207552790641785, 0.37007829546928406, 0.3730461299419403, 0.3751610219478607, 0.3668023943901062, 0.36947891116142273, 0.3760335445404053, 0.37279176712036133, 0.3690117597579956, 0.3673064112663269, 0.37238797545433044, 0.3776939809322357, 0.37304335832595825, 0.3711024820804596, 0.3715474009513855, 0.36595985293388367, 0.37275657057762146, 0.37061482667922974, 0.3732326328754425, 0.3692047894001007, 0.37321045994758606, 0.3649999499320984, 0.3710370659828186, 0.3687995970249176, 0.37687164545059204, 0.36516398191452026, 0.365044504404068, 0.37294939160346985, 0.37148231267929077, 0.37081459164619446, 0.37854766845703125, 0.37155649065971375, 0.3682004511356354, 0.3675605356693268, 0.3739006519317627, 0.36824795603752136, 0.37193384766578674, 0.3729771077632904, 0.36586084961891174, 0.3720981478691101, 0.37005308270454407, 0.37414196133613586, 0.3678315579891205, 0.3739922046661377, 0.3672208786010742, 0.3661244511604309, 0.37137922644615173, 0.36668968200683594, 0.3733132481575012, 0.37451624870300293, 0.36950042843818665, 0.37186360359191895, 0.3675276041030884, 0.3692583441734314, 0.3693939745426178, 0.37146082520484924, 0.3649345636367798, 0.371705561876297, 0.36873236298561096, 0.3711625039577484, 0.3759803771972656, 0.3648322522640228, 0.3742118775844574, 0.368634968996048, 0.370037317276001, 0.36577552556991577]}],                        {\"template\": {\"data\": {\"bar\": [{\"error_x\": {\"color\": \"#2a3f5f\"}, \"error_y\": {\"color\": \"#2a3f5f\"}, \"marker\": {\"line\": {\"color\": \"#E5ECF6\", \"width\": 0.5}}, \"type\": \"bar\"}], \"barpolar\": [{\"marker\": {\"line\": {\"color\": \"#E5ECF6\", \"width\": 0.5}}, \"type\": \"barpolar\"}], \"carpet\": [{\"aaxis\": {\"endlinecolor\": \"#2a3f5f\", \"gridcolor\": \"white\", \"linecolor\": \"white\", \"minorgridcolor\": \"white\", \"startlinecolor\": \"#2a3f5f\"}, \"baxis\": {\"endlinecolor\": \"#2a3f5f\", \"gridcolor\": \"white\", \"linecolor\": \"white\", \"minorgridcolor\": \"white\", \"startlinecolor\": \"#2a3f5f\"}, \"type\": \"carpet\"}], \"choropleth\": [{\"colorbar\": {\"outlinewidth\": 0, \"ticks\": \"\"}, \"type\": \"choropleth\"}], \"contour\": [{\"colorbar\": {\"outlinewidth\": 0, \"ticks\": \"\"}, \"colorscale\": [[0.0, \"#0d0887\"], [0.1111111111111111, \"#46039f\"], [0.2222222222222222, \"#7201a8\"], [0.3333333333333333, \"#9c179e\"], [0.4444444444444444, \"#bd3786\"], [0.5555555555555556, \"#d8576b\"], [0.6666666666666666, \"#ed7953\"], [0.7777777777777778, \"#fb9f3a\"], [0.8888888888888888, \"#fdca26\"], [1.0, \"#f0f921\"]], \"type\": \"contour\"}], \"contourcarpet\": [{\"colorbar\": {\"outlinewidth\": 0, \"ticks\": \"\"}, \"type\": \"contourcarpet\"}], \"heatmap\": [{\"colorbar\": {\"outlinewidth\": 0, \"ticks\": \"\"}, \"colorscale\": [[0.0, \"#0d0887\"], [0.1111111111111111, \"#46039f\"], [0.2222222222222222, \"#7201a8\"], [0.3333333333333333, \"#9c179e\"], [0.4444444444444444, \"#bd3786\"], [0.5555555555555556, \"#d8576b\"], [0.6666666666666666, \"#ed7953\"], [0.7777777777777778, \"#fb9f3a\"], [0.8888888888888888, \"#fdca26\"], [1.0, \"#f0f921\"]], \"type\": \"heatmap\"}], \"heatmapgl\": [{\"colorbar\": {\"outlinewidth\": 0, \"ticks\": \"\"}, \"colorscale\": [[0.0, \"#0d0887\"], [0.1111111111111111, \"#46039f\"], [0.2222222222222222, \"#7201a8\"], [0.3333333333333333, \"#9c179e\"], [0.4444444444444444, \"#bd3786\"], [0.5555555555555556, \"#d8576b\"], [0.6666666666666666, \"#ed7953\"], [0.7777777777777778, \"#fb9f3a\"], [0.8888888888888888, \"#fdca26\"], [1.0, \"#f0f921\"]], \"type\": \"heatmapgl\"}], \"histogram\": [{\"marker\": {\"colorbar\": {\"outlinewidth\": 0, \"ticks\": \"\"}}, \"type\": \"histogram\"}], \"histogram2d\": [{\"colorbar\": {\"outlinewidth\": 0, \"ticks\": \"\"}, \"colorscale\": [[0.0, \"#0d0887\"], [0.1111111111111111, \"#46039f\"], [0.2222222222222222, \"#7201a8\"], [0.3333333333333333, \"#9c179e\"], [0.4444444444444444, \"#bd3786\"], [0.5555555555555556, \"#d8576b\"], [0.6666666666666666, \"#ed7953\"], [0.7777777777777778, \"#fb9f3a\"], [0.8888888888888888, \"#fdca26\"], [1.0, \"#f0f921\"]], \"type\": \"histogram2d\"}], \"histogram2dcontour\": [{\"colorbar\": {\"outlinewidth\": 0, \"ticks\": \"\"}, \"colorscale\": [[0.0, \"#0d0887\"], [0.1111111111111111, \"#46039f\"], [0.2222222222222222, \"#7201a8\"], [0.3333333333333333, \"#9c179e\"], [0.4444444444444444, \"#bd3786\"], [0.5555555555555556, \"#d8576b\"], [0.6666666666666666, \"#ed7953\"], [0.7777777777777778, \"#fb9f3a\"], [0.8888888888888888, \"#fdca26\"], [1.0, \"#f0f921\"]], \"type\": \"histogram2dcontour\"}], \"mesh3d\": [{\"colorbar\": {\"outlinewidth\": 0, \"ticks\": \"\"}, \"type\": \"mesh3d\"}], \"parcoords\": [{\"line\": {\"colorbar\": {\"outlinewidth\": 0, \"ticks\": \"\"}}, \"type\": \"parcoords\"}], \"pie\": [{\"automargin\": true, \"type\": \"pie\"}], \"scatter\": [{\"marker\": {\"colorbar\": {\"outlinewidth\": 0, \"ticks\": \"\"}}, \"type\": \"scatter\"}], \"scatter3d\": [{\"line\": {\"colorbar\": {\"outlinewidth\": 0, \"ticks\": \"\"}}, \"marker\": {\"colorbar\": {\"outlinewidth\": 0, \"ticks\": \"\"}}, \"type\": \"scatter3d\"}], \"scattercarpet\": [{\"marker\": {\"colorbar\": {\"outlinewidth\": 0, \"ticks\": \"\"}}, \"type\": \"scattercarpet\"}], \"scattergeo\": [{\"marker\": {\"colorbar\": {\"outlinewidth\": 0, \"ticks\": \"\"}}, \"type\": \"scattergeo\"}], \"scattergl\": [{\"marker\": {\"colorbar\": {\"outlinewidth\": 0, \"ticks\": \"\"}}, \"type\": \"scattergl\"}], \"scattermapbox\": [{\"marker\": {\"colorbar\": {\"outlinewidth\": 0, \"ticks\": \"\"}}, \"type\": \"scattermapbox\"}], \"scatterpolar\": [{\"marker\": {\"colorbar\": {\"outlinewidth\": 0, \"ticks\": \"\"}}, \"type\": \"scatterpolar\"}], \"scatterpolargl\": [{\"marker\": {\"colorbar\": {\"outlinewidth\": 0, \"ticks\": \"\"}}, \"type\": \"scatterpolargl\"}], \"scatterternary\": [{\"marker\": {\"colorbar\": {\"outlinewidth\": 0, \"ticks\": \"\"}}, \"type\": \"scatterternary\"}], \"surface\": [{\"colorbar\": {\"outlinewidth\": 0, \"ticks\": \"\"}, \"colorscale\": [[0.0, \"#0d0887\"], [0.1111111111111111, \"#46039f\"], [0.2222222222222222, \"#7201a8\"], [0.3333333333333333, \"#9c179e\"], [0.4444444444444444, \"#bd3786\"], [0.5555555555555556, \"#d8576b\"], [0.6666666666666666, \"#ed7953\"], [0.7777777777777778, \"#fb9f3a\"], [0.8888888888888888, \"#fdca26\"], [1.0, \"#f0f921\"]], \"type\": \"surface\"}], \"table\": [{\"cells\": {\"fill\": {\"color\": \"#EBF0F8\"}, \"line\": {\"color\": \"white\"}}, \"header\": {\"fill\": {\"color\": \"#C8D4E3\"}, \"line\": {\"color\": \"white\"}}, \"type\": \"table\"}]}, \"layout\": {\"annotationdefaults\": {\"arrowcolor\": \"#2a3f5f\", \"arrowhead\": 0, \"arrowwidth\": 1}, \"autotypenumbers\": \"strict\", \"coloraxis\": {\"colorbar\": {\"outlinewidth\": 0, \"ticks\": \"\"}}, \"colorscale\": {\"diverging\": [[0, \"#8e0152\"], [0.1, \"#c51b7d\"], [0.2, \"#de77ae\"], [0.3, \"#f1b6da\"], [0.4, \"#fde0ef\"], [0.5, \"#f7f7f7\"], [0.6, \"#e6f5d0\"], [0.7, \"#b8e186\"], [0.8, \"#7fbc41\"], [0.9, \"#4d9221\"], [1, \"#276419\"]], \"sequential\": [[0.0, \"#0d0887\"], [0.1111111111111111, \"#46039f\"], [0.2222222222222222, \"#7201a8\"], [0.3333333333333333, \"#9c179e\"], [0.4444444444444444, \"#bd3786\"], [0.5555555555555556, \"#d8576b\"], [0.6666666666666666, \"#ed7953\"], [0.7777777777777778, \"#fb9f3a\"], [0.8888888888888888, \"#fdca26\"], [1.0, \"#f0f921\"]], \"sequentialminus\": [[0.0, \"#0d0887\"], [0.1111111111111111, \"#46039f\"], [0.2222222222222222, \"#7201a8\"], [0.3333333333333333, \"#9c179e\"], [0.4444444444444444, \"#bd3786\"], [0.5555555555555556, \"#d8576b\"], [0.6666666666666666, \"#ed7953\"], [0.7777777777777778, \"#fb9f3a\"], [0.8888888888888888, \"#fdca26\"], [1.0, \"#f0f921\"]]}, \"colorway\": [\"#636efa\", \"#EF553B\", \"#00cc96\", \"#ab63fa\", \"#FFA15A\", \"#19d3f3\", \"#FF6692\", \"#B6E880\", \"#FF97FF\", \"#FECB52\"], \"font\": {\"color\": \"#2a3f5f\"}, \"geo\": {\"bgcolor\": \"white\", \"lakecolor\": \"white\", \"landcolor\": \"#E5ECF6\", \"showlakes\": true, \"showland\": true, \"subunitcolor\": \"white\"}, \"hoverlabel\": {\"align\": \"left\"}, \"hovermode\": \"closest\", \"mapbox\": {\"style\": \"light\"}, \"paper_bgcolor\": \"white\", \"plot_bgcolor\": \"#E5ECF6\", \"polar\": {\"angularaxis\": {\"gridcolor\": \"white\", \"linecolor\": \"white\", \"ticks\": \"\"}, \"bgcolor\": \"#E5ECF6\", \"radialaxis\": {\"gridcolor\": \"white\", \"linecolor\": \"white\", \"ticks\": \"\"}}, \"scene\": {\"xaxis\": {\"backgroundcolor\": \"#E5ECF6\", \"gridcolor\": \"white\", \"gridwidth\": 2, \"linecolor\": \"white\", \"showbackground\": true, \"ticks\": \"\", \"zerolinecolor\": \"white\"}, \"yaxis\": {\"backgroundcolor\": \"#E5ECF6\", \"gridcolor\": \"white\", \"gridwidth\": 2, \"linecolor\": \"white\", \"showbackground\": true, \"ticks\": \"\", \"zerolinecolor\": \"white\"}, \"zaxis\": {\"backgroundcolor\": \"#E5ECF6\", \"gridcolor\": \"white\", \"gridwidth\": 2, \"linecolor\": \"white\", \"showbackground\": true, \"ticks\": \"\", \"zerolinecolor\": \"white\"}}, \"shapedefaults\": {\"line\": {\"color\": \"#2a3f5f\"}}, \"ternary\": {\"aaxis\": {\"gridcolor\": \"white\", \"linecolor\": \"white\", \"ticks\": \"\"}, \"baxis\": {\"gridcolor\": \"white\", \"linecolor\": \"white\", \"ticks\": \"\"}, \"bgcolor\": \"#E5ECF6\", \"caxis\": {\"gridcolor\": \"white\", \"linecolor\": \"white\", \"ticks\": \"\"}}, \"title\": {\"x\": 0.05}, \"xaxis\": {\"automargin\": true, \"gridcolor\": \"white\", \"linecolor\": \"white\", \"ticks\": \"\", \"title\": {\"standoff\": 15}, \"zerolinecolor\": \"white\", \"zerolinewidth\": 2}, \"yaxis\": {\"automargin\": true, \"gridcolor\": \"white\", \"linecolor\": \"white\", \"ticks\": \"\", \"title\": {\"standoff\": 15}, \"zerolinecolor\": \"white\", \"zerolinewidth\": 2}}}},                        {\"responsive\": true}                    ).then(function(){\n",
       "                            \n",
       "var gd = document.getElementById('7d1b332c-375c-48b8-9e91-48b4d552ed52');\n",
       "var x = new MutationObserver(function (mutations, observer) {{\n",
       "        var display = window.getComputedStyle(gd).display;\n",
       "        if (!display || display === 'none') {{\n",
       "            console.log([gd, 'removed!']);\n",
       "            Plotly.purge(gd);\n",
       "            observer.disconnect();\n",
       "        }}\n",
       "}});\n",
       "\n",
       "// Listen for the removal of the full notebook cells\n",
       "var notebookContainer = gd.closest('#notebook-container');\n",
       "if (notebookContainer) {{\n",
       "    x.observe(notebookContainer, {childList: true});\n",
       "}}\n",
       "\n",
       "// Listen for the clearing of the current output cell\n",
       "var outputEl = gd.closest('.output');\n",
       "if (outputEl) {{\n",
       "    x.observe(outputEl, {childList: true});\n",
       "}}\n",
       "\n",
       "                        })                };                });            </script>        </div>"
      ]
     },
     "metadata": {},
     "output_type": "display_data"
    }
   ],
   "source": [
    "plot_loss([loss], ['combined_nn'])"
   ]
  }
 ],
 "metadata": {
  "kernelspec": {
   "display_name": "Python 3",
   "language": "python",
   "name": "python3"
  },
  "language_info": {
   "codemirror_mode": {
    "name": "ipython",
    "version": 3
   },
   "file_extension": ".py",
   "mimetype": "text/x-python",
   "name": "python",
   "nbconvert_exporter": "python",
   "pygments_lexer": "ipython3",
   "version": "3.8.6"
  }
 },
 "nbformat": 4,
 "nbformat_minor": 5
}
