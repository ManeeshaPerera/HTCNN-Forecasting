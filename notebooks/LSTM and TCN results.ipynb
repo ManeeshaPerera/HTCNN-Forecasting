{
 "cells": [
  {
   "cell_type": "code",
   "execution_count": 33,
   "id": "racial-sweet",
   "metadata": {},
   "outputs": [],
   "source": [
    "import pandas as pd\n",
    "import sys\n",
    "sys.path.insert(0, '../')\n",
    "import constants as const\n",
    "import src.utils as util\n",
    "import src.calculate_errors as err"
   ]
  },
  {
   "cell_type": "code",
   "execution_count": 5,
   "id": "violent-intellectual",
   "metadata": {},
   "outputs": [
    {
     "data": {
      "text/html": [
       "        <script type=\"text/javascript\">\n",
       "        window.PlotlyConfig = {MathJaxConfig: 'local'};\n",
       "        if (window.MathJax) {MathJax.Hub.Config({SVG: {font: \"STIX-Web\"}});}\n",
       "        if (typeof require !== 'undefined') {\n",
       "        require.undef(\"plotly\");\n",
       "        requirejs.config({\n",
       "            paths: {\n",
       "                'plotly': ['https://cdn.plot.ly/plotly-latest.min']\n",
       "            }\n",
       "        });\n",
       "        require(['plotly'], function(Plotly) {\n",
       "            window._Plotly = Plotly;\n",
       "        });\n",
       "        }\n",
       "        </script>\n",
       "        "
      ]
     },
     "metadata": {},
     "output_type": "display_data"
    }
   ],
   "source": [
    "import plotly.graph_objs as go\n",
    "from plotly.offline import init_notebook_mode, iplot\n",
    "init_notebook_mode(connected=True)"
   ]
  },
  {
   "cell_type": "code",
   "execution_count": 3,
   "id": "federal-decline",
   "metadata": {},
   "outputs": [],
   "source": [
    "lstm_iter_results = pd.read_csv('../lstm_new_results/rmse.csv')"
   ]
  },
  {
   "cell_type": "code",
   "execution_count": 4,
   "id": "animated-exercise",
   "metadata": {},
   "outputs": [
    {
     "data": {
      "text/html": [
       "<div>\n",
       "<style scoped>\n",
       "    .dataframe tbody tr th:only-of-type {\n",
       "        vertical-align: middle;\n",
       "    }\n",
       "\n",
       "    .dataframe tbody tr th {\n",
       "        vertical-align: top;\n",
       "    }\n",
       "\n",
       "    .dataframe thead th {\n",
       "        text-align: right;\n",
       "    }\n",
       "</style>\n",
       "<table border=\"1\" class=\"dataframe\">\n",
       "  <thead>\n",
       "    <tr style=\"text-align: right;\">\n",
       "      <th></th>\n",
       "      <th>Unnamed: 0</th>\n",
       "      <th>Grid</th>\n",
       "      <th>TL - Aggregated</th>\n",
       "      <th>SUB - Aggregated</th>\n",
       "      <th>PC - Aggregated</th>\n",
       "      <th>Site - Aggregated</th>\n",
       "    </tr>\n",
       "  </thead>\n",
       "  <tbody>\n",
       "    <tr>\n",
       "      <th>0</th>\n",
       "      <td>32_3_0.001_1</td>\n",
       "      <td>0.461</td>\n",
       "      <td>0.455</td>\n",
       "      <td>0.447</td>\n",
       "      <td>0.342</td>\n",
       "      <td>0.342</td>\n",
       "    </tr>\n",
       "    <tr>\n",
       "      <th>1</th>\n",
       "      <td>32_3_0.001_3</td>\n",
       "      <td>0.440</td>\n",
       "      <td>0.448</td>\n",
       "      <td>0.491</td>\n",
       "      <td>0.357</td>\n",
       "      <td>0.355</td>\n",
       "    </tr>\n",
       "    <tr>\n",
       "      <th>2</th>\n",
       "      <td>32_3_0.001_7</td>\n",
       "      <td>0.465</td>\n",
       "      <td>0.446</td>\n",
       "      <td>0.472</td>\n",
       "      <td>0.373</td>\n",
       "      <td>0.363</td>\n",
       "    </tr>\n",
       "    <tr>\n",
       "      <th>3</th>\n",
       "      <td>32_3_0.0001_1</td>\n",
       "      <td>0.484</td>\n",
       "      <td>0.479</td>\n",
       "      <td>0.465</td>\n",
       "      <td>0.416</td>\n",
       "      <td>0.376</td>\n",
       "    </tr>\n",
       "    <tr>\n",
       "      <th>4</th>\n",
       "      <td>32_3_0.0001_3</td>\n",
       "      <td>0.451</td>\n",
       "      <td>0.441</td>\n",
       "      <td>0.454</td>\n",
       "      <td>0.452</td>\n",
       "      <td>0.485</td>\n",
       "    </tr>\n",
       "  </tbody>\n",
       "</table>\n",
       "</div>"
      ],
      "text/plain": [
       "      Unnamed: 0   Grid  TL - Aggregated  SUB - Aggregated  PC - Aggregated  \\\n",
       "0   32_3_0.001_1  0.461            0.455             0.447            0.342   \n",
       "1   32_3_0.001_3  0.440            0.448             0.491            0.357   \n",
       "2   32_3_0.001_7  0.465            0.446             0.472            0.373   \n",
       "3  32_3_0.0001_1  0.484            0.479             0.465            0.416   \n",
       "4  32_3_0.0001_3  0.451            0.441             0.454            0.452   \n",
       "\n",
       "   Site - Aggregated  \n",
       "0              0.342  \n",
       "1              0.355  \n",
       "2              0.363  \n",
       "3              0.376  \n",
       "4              0.485  "
      ]
     },
     "execution_count": 4,
     "metadata": {},
     "output_type": "execute_result"
    }
   ],
   "source": [
    "lstm_iter_results.head()"
   ]
  },
  {
   "cell_type": "code",
   "execution_count": 19,
   "id": "automatic-branch",
   "metadata": {},
   "outputs": [],
   "source": [
    "fig = go.Figure()\n",
    "\n",
    "for col in lstm_iter_results.columns[1:]:\n",
    "    fig.add_trace(go.Scatter(x= lstm_iter_results['Unnamed: 0'], y=lstm_iter_results[col],  mode='markers', name=col))"
   ]
  },
  {
   "cell_type": "code",
   "execution_count": 20,
   "id": "obvious-stopping",
   "metadata": {},
   "outputs": [
    {
     "data": {
      "application/vnd.plotly.v1+json": {
       "config": {
        "plotlyServerURL": "https://plot.ly"
       },
       "data": [
        {
         "mode": "markers",
         "name": "Grid",
         "type": "scatter",
         "x": [
          "32_3_0.001_1",
          "32_3_0.001_3",
          "32_3_0.001_7",
          "32_3_0.0001_1",
          "32_3_0.0001_3",
          "32_3_0.0001_7",
          "32_5_0.001_1",
          "32_5_0.001_3",
          "32_5_0.001_7",
          "32_5_0.0001_1",
          "32_5_0.0001_3",
          "32_5_0.0001_7",
          "64_3_0.001_1",
          "64_3_0.001_3",
          "64_3_0.001_7",
          "64_3_0.0001_1",
          "64_3_0.0001_3",
          "64_3_0.0001_7",
          "64_5_0.001_1",
          "64_5_0.001_3",
          "64_5_0.001_7",
          "64_5_0.0001_1",
          "64_5_0.0001_3",
          "64_5_0.0001_7"
         ],
         "y": [
          0.461,
          0.44,
          0.465,
          0.484,
          0.451,
          0.456,
          0.484,
          1.072,
          0.529,
          0.496,
          0.652,
          0.517,
          0.463,
          0.518,
          0.5,
          0.472,
          0.458,
          0.666,
          0.492,
          1.269,
          0.51,
          0.5,
          0.516,
          0.498
         ]
        },
        {
         "mode": "markers",
         "name": "TL - Aggregated",
         "type": "scatter",
         "x": [
          "32_3_0.001_1",
          "32_3_0.001_3",
          "32_3_0.001_7",
          "32_3_0.0001_1",
          "32_3_0.0001_3",
          "32_3_0.0001_7",
          "32_5_0.001_1",
          "32_5_0.001_3",
          "32_5_0.001_7",
          "32_5_0.0001_1",
          "32_5_0.0001_3",
          "32_5_0.0001_7",
          "64_3_0.001_1",
          "64_3_0.001_3",
          "64_3_0.001_7",
          "64_3_0.0001_1",
          "64_3_0.0001_3",
          "64_3_0.0001_7",
          "64_5_0.001_1",
          "64_5_0.001_3",
          "64_5_0.001_7",
          "64_5_0.0001_1",
          "64_5_0.0001_3",
          "64_5_0.0001_7"
         ],
         "y": [
          0.455,
          0.448,
          0.446,
          0.479,
          0.441,
          0.459,
          0.487,
          0.569,
          0.493,
          0.515,
          0.581,
          0.468,
          0.537,
          0.466,
          0.483,
          0.451,
          0.451,
          0.444,
          0.541,
          1.01,
          0.461,
          0.495,
          0.489,
          0.529
         ]
        },
        {
         "mode": "markers",
         "name": "SUB - Aggregated",
         "type": "scatter",
         "x": [
          "32_3_0.001_1",
          "32_3_0.001_3",
          "32_3_0.001_7",
          "32_3_0.0001_1",
          "32_3_0.0001_3",
          "32_3_0.0001_7",
          "32_5_0.001_1",
          "32_5_0.001_3",
          "32_5_0.001_7",
          "32_5_0.0001_1",
          "32_5_0.0001_3",
          "32_5_0.0001_7",
          "64_3_0.001_1",
          "64_3_0.001_3",
          "64_3_0.001_7",
          "64_3_0.0001_1",
          "64_3_0.0001_3",
          "64_3_0.0001_7",
          "64_5_0.001_1",
          "64_5_0.001_3",
          "64_5_0.001_7",
          "64_5_0.0001_1",
          "64_5_0.0001_3",
          "64_5_0.0001_7"
         ],
         "y": [
          0.447,
          0.491,
          0.472,
          0.465,
          0.454,
          0.48,
          0.483,
          0.642,
          0.754,
          0.513,
          0.54,
          0.484,
          0.488,
          0.458,
          0.441,
          0.453,
          0.467,
          0.455,
          0.513,
          0.96,
          0.463,
          0.488,
          0.505,
          0.477
         ]
        },
        {
         "mode": "markers",
         "name": "PC - Aggregated",
         "type": "scatter",
         "x": [
          "32_3_0.001_1",
          "32_3_0.001_3",
          "32_3_0.001_7",
          "32_3_0.0001_1",
          "32_3_0.0001_3",
          "32_3_0.0001_7",
          "32_5_0.001_1",
          "32_5_0.001_3",
          "32_5_0.001_7",
          "32_5_0.0001_1",
          "32_5_0.0001_3",
          "32_5_0.0001_7",
          "64_3_0.001_1",
          "64_3_0.001_3",
          "64_3_0.001_7",
          "64_3_0.0001_1",
          "64_3_0.0001_3",
          "64_3_0.0001_7",
          "64_5_0.001_1",
          "64_5_0.001_3",
          "64_5_0.001_7",
          "64_5_0.0001_1",
          "64_5_0.0001_3",
          "64_5_0.0001_7"
         ],
         "y": [
          0.342,
          0.357,
          0.373,
          0.416,
          0.452,
          0.395,
          0.403,
          0.52,
          0.643,
          0.44,
          0.551,
          0.494,
          0.389,
          0.349,
          0.364,
          0.385,
          0.472,
          0.385,
          0.461,
          0.955,
          1.056,
          0.429,
          0.53,
          0.498
         ]
        },
        {
         "mode": "markers",
         "name": "Site - Aggregated",
         "type": "scatter",
         "x": [
          "32_3_0.001_1",
          "32_3_0.001_3",
          "32_3_0.001_7",
          "32_3_0.0001_1",
          "32_3_0.0001_3",
          "32_3_0.0001_7",
          "32_5_0.001_1",
          "32_5_0.001_3",
          "32_5_0.001_7",
          "32_5_0.0001_1",
          "32_5_0.0001_3",
          "32_5_0.0001_7",
          "64_3_0.001_1",
          "64_3_0.001_3",
          "64_3_0.001_7",
          "64_3_0.0001_1",
          "64_3_0.0001_3",
          "64_3_0.0001_7",
          "64_5_0.001_1",
          "64_5_0.001_3",
          "64_5_0.001_7",
          "64_5_0.0001_1",
          "64_5_0.0001_3",
          "64_5_0.0001_7"
         ],
         "y": [
          0.342,
          0.355,
          0.363,
          0.376,
          0.485,
          0.422,
          0.39,
          0.545,
          0.539,
          0.432,
          0.515,
          0.54,
          0.349,
          0.341,
          0.332,
          0.38,
          0.458,
          0.401,
          0.392,
          0.663,
          0.882,
          0.403,
          0.524,
          0.557
         ]
        }
       ],
       "layout": {
        "template": {
         "data": {
          "bar": [
           {
            "error_x": {
             "color": "#2a3f5f"
            },
            "error_y": {
             "color": "#2a3f5f"
            },
            "marker": {
             "line": {
              "color": "#E5ECF6",
              "width": 0.5
             }
            },
            "type": "bar"
           }
          ],
          "barpolar": [
           {
            "marker": {
             "line": {
              "color": "#E5ECF6",
              "width": 0.5
             }
            },
            "type": "barpolar"
           }
          ],
          "carpet": [
           {
            "aaxis": {
             "endlinecolor": "#2a3f5f",
             "gridcolor": "white",
             "linecolor": "white",
             "minorgridcolor": "white",
             "startlinecolor": "#2a3f5f"
            },
            "baxis": {
             "endlinecolor": "#2a3f5f",
             "gridcolor": "white",
             "linecolor": "white",
             "minorgridcolor": "white",
             "startlinecolor": "#2a3f5f"
            },
            "type": "carpet"
           }
          ],
          "choropleth": [
           {
            "colorbar": {
             "outlinewidth": 0,
             "ticks": ""
            },
            "type": "choropleth"
           }
          ],
          "contour": [
           {
            "colorbar": {
             "outlinewidth": 0,
             "ticks": ""
            },
            "colorscale": [
             [
              0,
              "#0d0887"
             ],
             [
              0.1111111111111111,
              "#46039f"
             ],
             [
              0.2222222222222222,
              "#7201a8"
             ],
             [
              0.3333333333333333,
              "#9c179e"
             ],
             [
              0.4444444444444444,
              "#bd3786"
             ],
             [
              0.5555555555555556,
              "#d8576b"
             ],
             [
              0.6666666666666666,
              "#ed7953"
             ],
             [
              0.7777777777777778,
              "#fb9f3a"
             ],
             [
              0.8888888888888888,
              "#fdca26"
             ],
             [
              1,
              "#f0f921"
             ]
            ],
            "type": "contour"
           }
          ],
          "contourcarpet": [
           {
            "colorbar": {
             "outlinewidth": 0,
             "ticks": ""
            },
            "type": "contourcarpet"
           }
          ],
          "heatmap": [
           {
            "colorbar": {
             "outlinewidth": 0,
             "ticks": ""
            },
            "colorscale": [
             [
              0,
              "#0d0887"
             ],
             [
              0.1111111111111111,
              "#46039f"
             ],
             [
              0.2222222222222222,
              "#7201a8"
             ],
             [
              0.3333333333333333,
              "#9c179e"
             ],
             [
              0.4444444444444444,
              "#bd3786"
             ],
             [
              0.5555555555555556,
              "#d8576b"
             ],
             [
              0.6666666666666666,
              "#ed7953"
             ],
             [
              0.7777777777777778,
              "#fb9f3a"
             ],
             [
              0.8888888888888888,
              "#fdca26"
             ],
             [
              1,
              "#f0f921"
             ]
            ],
            "type": "heatmap"
           }
          ],
          "heatmapgl": [
           {
            "colorbar": {
             "outlinewidth": 0,
             "ticks": ""
            },
            "colorscale": [
             [
              0,
              "#0d0887"
             ],
             [
              0.1111111111111111,
              "#46039f"
             ],
             [
              0.2222222222222222,
              "#7201a8"
             ],
             [
              0.3333333333333333,
              "#9c179e"
             ],
             [
              0.4444444444444444,
              "#bd3786"
             ],
             [
              0.5555555555555556,
              "#d8576b"
             ],
             [
              0.6666666666666666,
              "#ed7953"
             ],
             [
              0.7777777777777778,
              "#fb9f3a"
             ],
             [
              0.8888888888888888,
              "#fdca26"
             ],
             [
              1,
              "#f0f921"
             ]
            ],
            "type": "heatmapgl"
           }
          ],
          "histogram": [
           {
            "marker": {
             "colorbar": {
              "outlinewidth": 0,
              "ticks": ""
             }
            },
            "type": "histogram"
           }
          ],
          "histogram2d": [
           {
            "colorbar": {
             "outlinewidth": 0,
             "ticks": ""
            },
            "colorscale": [
             [
              0,
              "#0d0887"
             ],
             [
              0.1111111111111111,
              "#46039f"
             ],
             [
              0.2222222222222222,
              "#7201a8"
             ],
             [
              0.3333333333333333,
              "#9c179e"
             ],
             [
              0.4444444444444444,
              "#bd3786"
             ],
             [
              0.5555555555555556,
              "#d8576b"
             ],
             [
              0.6666666666666666,
              "#ed7953"
             ],
             [
              0.7777777777777778,
              "#fb9f3a"
             ],
             [
              0.8888888888888888,
              "#fdca26"
             ],
             [
              1,
              "#f0f921"
             ]
            ],
            "type": "histogram2d"
           }
          ],
          "histogram2dcontour": [
           {
            "colorbar": {
             "outlinewidth": 0,
             "ticks": ""
            },
            "colorscale": [
             [
              0,
              "#0d0887"
             ],
             [
              0.1111111111111111,
              "#46039f"
             ],
             [
              0.2222222222222222,
              "#7201a8"
             ],
             [
              0.3333333333333333,
              "#9c179e"
             ],
             [
              0.4444444444444444,
              "#bd3786"
             ],
             [
              0.5555555555555556,
              "#d8576b"
             ],
             [
              0.6666666666666666,
              "#ed7953"
             ],
             [
              0.7777777777777778,
              "#fb9f3a"
             ],
             [
              0.8888888888888888,
              "#fdca26"
             ],
             [
              1,
              "#f0f921"
             ]
            ],
            "type": "histogram2dcontour"
           }
          ],
          "mesh3d": [
           {
            "colorbar": {
             "outlinewidth": 0,
             "ticks": ""
            },
            "type": "mesh3d"
           }
          ],
          "parcoords": [
           {
            "line": {
             "colorbar": {
              "outlinewidth": 0,
              "ticks": ""
             }
            },
            "type": "parcoords"
           }
          ],
          "pie": [
           {
            "automargin": true,
            "type": "pie"
           }
          ],
          "scatter": [
           {
            "marker": {
             "colorbar": {
              "outlinewidth": 0,
              "ticks": ""
             }
            },
            "type": "scatter"
           }
          ],
          "scatter3d": [
           {
            "line": {
             "colorbar": {
              "outlinewidth": 0,
              "ticks": ""
             }
            },
            "marker": {
             "colorbar": {
              "outlinewidth": 0,
              "ticks": ""
             }
            },
            "type": "scatter3d"
           }
          ],
          "scattercarpet": [
           {
            "marker": {
             "colorbar": {
              "outlinewidth": 0,
              "ticks": ""
             }
            },
            "type": "scattercarpet"
           }
          ],
          "scattergeo": [
           {
            "marker": {
             "colorbar": {
              "outlinewidth": 0,
              "ticks": ""
             }
            },
            "type": "scattergeo"
           }
          ],
          "scattergl": [
           {
            "marker": {
             "colorbar": {
              "outlinewidth": 0,
              "ticks": ""
             }
            },
            "type": "scattergl"
           }
          ],
          "scattermapbox": [
           {
            "marker": {
             "colorbar": {
              "outlinewidth": 0,
              "ticks": ""
             }
            },
            "type": "scattermapbox"
           }
          ],
          "scatterpolar": [
           {
            "marker": {
             "colorbar": {
              "outlinewidth": 0,
              "ticks": ""
             }
            },
            "type": "scatterpolar"
           }
          ],
          "scatterpolargl": [
           {
            "marker": {
             "colorbar": {
              "outlinewidth": 0,
              "ticks": ""
             }
            },
            "type": "scatterpolargl"
           }
          ],
          "scatterternary": [
           {
            "marker": {
             "colorbar": {
              "outlinewidth": 0,
              "ticks": ""
             }
            },
            "type": "scatterternary"
           }
          ],
          "surface": [
           {
            "colorbar": {
             "outlinewidth": 0,
             "ticks": ""
            },
            "colorscale": [
             [
              0,
              "#0d0887"
             ],
             [
              0.1111111111111111,
              "#46039f"
             ],
             [
              0.2222222222222222,
              "#7201a8"
             ],
             [
              0.3333333333333333,
              "#9c179e"
             ],
             [
              0.4444444444444444,
              "#bd3786"
             ],
             [
              0.5555555555555556,
              "#d8576b"
             ],
             [
              0.6666666666666666,
              "#ed7953"
             ],
             [
              0.7777777777777778,
              "#fb9f3a"
             ],
             [
              0.8888888888888888,
              "#fdca26"
             ],
             [
              1,
              "#f0f921"
             ]
            ],
            "type": "surface"
           }
          ],
          "table": [
           {
            "cells": {
             "fill": {
              "color": "#EBF0F8"
             },
             "line": {
              "color": "white"
             }
            },
            "header": {
             "fill": {
              "color": "#C8D4E3"
             },
             "line": {
              "color": "white"
             }
            },
            "type": "table"
           }
          ]
         },
         "layout": {
          "annotationdefaults": {
           "arrowcolor": "#2a3f5f",
           "arrowhead": 0,
           "arrowwidth": 1
          },
          "autotypenumbers": "strict",
          "coloraxis": {
           "colorbar": {
            "outlinewidth": 0,
            "ticks": ""
           }
          },
          "colorscale": {
           "diverging": [
            [
             0,
             "#8e0152"
            ],
            [
             0.1,
             "#c51b7d"
            ],
            [
             0.2,
             "#de77ae"
            ],
            [
             0.3,
             "#f1b6da"
            ],
            [
             0.4,
             "#fde0ef"
            ],
            [
             0.5,
             "#f7f7f7"
            ],
            [
             0.6,
             "#e6f5d0"
            ],
            [
             0.7,
             "#b8e186"
            ],
            [
             0.8,
             "#7fbc41"
            ],
            [
             0.9,
             "#4d9221"
            ],
            [
             1,
             "#276419"
            ]
           ],
           "sequential": [
            [
             0,
             "#0d0887"
            ],
            [
             0.1111111111111111,
             "#46039f"
            ],
            [
             0.2222222222222222,
             "#7201a8"
            ],
            [
             0.3333333333333333,
             "#9c179e"
            ],
            [
             0.4444444444444444,
             "#bd3786"
            ],
            [
             0.5555555555555556,
             "#d8576b"
            ],
            [
             0.6666666666666666,
             "#ed7953"
            ],
            [
             0.7777777777777778,
             "#fb9f3a"
            ],
            [
             0.8888888888888888,
             "#fdca26"
            ],
            [
             1,
             "#f0f921"
            ]
           ],
           "sequentialminus": [
            [
             0,
             "#0d0887"
            ],
            [
             0.1111111111111111,
             "#46039f"
            ],
            [
             0.2222222222222222,
             "#7201a8"
            ],
            [
             0.3333333333333333,
             "#9c179e"
            ],
            [
             0.4444444444444444,
             "#bd3786"
            ],
            [
             0.5555555555555556,
             "#d8576b"
            ],
            [
             0.6666666666666666,
             "#ed7953"
            ],
            [
             0.7777777777777778,
             "#fb9f3a"
            ],
            [
             0.8888888888888888,
             "#fdca26"
            ],
            [
             1,
             "#f0f921"
            ]
           ]
          },
          "colorway": [
           "#636efa",
           "#EF553B",
           "#00cc96",
           "#ab63fa",
           "#FFA15A",
           "#19d3f3",
           "#FF6692",
           "#B6E880",
           "#FF97FF",
           "#FECB52"
          ],
          "font": {
           "color": "#2a3f5f"
          },
          "geo": {
           "bgcolor": "white",
           "lakecolor": "white",
           "landcolor": "#E5ECF6",
           "showlakes": true,
           "showland": true,
           "subunitcolor": "white"
          },
          "hoverlabel": {
           "align": "left"
          },
          "hovermode": "closest",
          "mapbox": {
           "style": "light"
          },
          "paper_bgcolor": "white",
          "plot_bgcolor": "#E5ECF6",
          "polar": {
           "angularaxis": {
            "gridcolor": "white",
            "linecolor": "white",
            "ticks": ""
           },
           "bgcolor": "#E5ECF6",
           "radialaxis": {
            "gridcolor": "white",
            "linecolor": "white",
            "ticks": ""
           }
          },
          "scene": {
           "xaxis": {
            "backgroundcolor": "#E5ECF6",
            "gridcolor": "white",
            "gridwidth": 2,
            "linecolor": "white",
            "showbackground": true,
            "ticks": "",
            "zerolinecolor": "white"
           },
           "yaxis": {
            "backgroundcolor": "#E5ECF6",
            "gridcolor": "white",
            "gridwidth": 2,
            "linecolor": "white",
            "showbackground": true,
            "ticks": "",
            "zerolinecolor": "white"
           },
           "zaxis": {
            "backgroundcolor": "#E5ECF6",
            "gridcolor": "white",
            "gridwidth": 2,
            "linecolor": "white",
            "showbackground": true,
            "ticks": "",
            "zerolinecolor": "white"
           }
          },
          "shapedefaults": {
           "line": {
            "color": "#2a3f5f"
           }
          },
          "ternary": {
           "aaxis": {
            "gridcolor": "white",
            "linecolor": "white",
            "ticks": ""
           },
           "baxis": {
            "gridcolor": "white",
            "linecolor": "white",
            "ticks": ""
           },
           "bgcolor": "#E5ECF6",
           "caxis": {
            "gridcolor": "white",
            "linecolor": "white",
            "ticks": ""
           }
          },
          "title": {
           "x": 0.05
          },
          "xaxis": {
           "automargin": true,
           "gridcolor": "white",
           "linecolor": "white",
           "ticks": "",
           "title": {
            "standoff": 15
           },
           "zerolinecolor": "white",
           "zerolinewidth": 2
          },
          "yaxis": {
           "automargin": true,
           "gridcolor": "white",
           "linecolor": "white",
           "ticks": "",
           "title": {
            "standoff": 15
           },
           "zerolinecolor": "white",
           "zerolinewidth": 2
          }
         }
        }
       }
      },
      "text/html": [
       "<div>                            <div id=\"72ca9d3a-83f3-4025-a894-06611b98c69f\" class=\"plotly-graph-div\" style=\"height:525px; width:100%;\"></div>            <script type=\"text/javascript\">                require([\"plotly\"], function(Plotly) {                    window.PLOTLYENV=window.PLOTLYENV || {};                                    if (document.getElementById(\"72ca9d3a-83f3-4025-a894-06611b98c69f\")) {                    Plotly.newPlot(                        \"72ca9d3a-83f3-4025-a894-06611b98c69f\",                        [{\"mode\": \"markers\", \"name\": \"Grid\", \"type\": \"scatter\", \"x\": [\"32_3_0.001_1\", \"32_3_0.001_3\", \"32_3_0.001_7\", \"32_3_0.0001_1\", \"32_3_0.0001_3\", \"32_3_0.0001_7\", \"32_5_0.001_1\", \"32_5_0.001_3\", \"32_5_0.001_7\", \"32_5_0.0001_1\", \"32_5_0.0001_3\", \"32_5_0.0001_7\", \"64_3_0.001_1\", \"64_3_0.001_3\", \"64_3_0.001_7\", \"64_3_0.0001_1\", \"64_3_0.0001_3\", \"64_3_0.0001_7\", \"64_5_0.001_1\", \"64_5_0.001_3\", \"64_5_0.001_7\", \"64_5_0.0001_1\", \"64_5_0.0001_3\", \"64_5_0.0001_7\"], \"y\": [0.461, 0.44, 0.465, 0.484, 0.451, 0.456, 0.484, 1.072, 0.529, 0.496, 0.652, 0.517, 0.463, 0.518, 0.5, 0.472, 0.458, 0.666, 0.492, 1.269, 0.51, 0.5, 0.516, 0.498]}, {\"mode\": \"markers\", \"name\": \"TL - Aggregated\", \"type\": \"scatter\", \"x\": [\"32_3_0.001_1\", \"32_3_0.001_3\", \"32_3_0.001_7\", \"32_3_0.0001_1\", \"32_3_0.0001_3\", \"32_3_0.0001_7\", \"32_5_0.001_1\", \"32_5_0.001_3\", \"32_5_0.001_7\", \"32_5_0.0001_1\", \"32_5_0.0001_3\", \"32_5_0.0001_7\", \"64_3_0.001_1\", \"64_3_0.001_3\", \"64_3_0.001_7\", \"64_3_0.0001_1\", \"64_3_0.0001_3\", \"64_3_0.0001_7\", \"64_5_0.001_1\", \"64_5_0.001_3\", \"64_5_0.001_7\", \"64_5_0.0001_1\", \"64_5_0.0001_3\", \"64_5_0.0001_7\"], \"y\": [0.455, 0.448, 0.446, 0.479, 0.441, 0.459, 0.487, 0.569, 0.493, 0.515, 0.581, 0.468, 0.537, 0.466, 0.483, 0.451, 0.451, 0.444, 0.541, 1.01, 0.461, 0.495, 0.489, 0.529]}, {\"mode\": \"markers\", \"name\": \"SUB - Aggregated\", \"type\": \"scatter\", \"x\": [\"32_3_0.001_1\", \"32_3_0.001_3\", \"32_3_0.001_7\", \"32_3_0.0001_1\", \"32_3_0.0001_3\", \"32_3_0.0001_7\", \"32_5_0.001_1\", \"32_5_0.001_3\", \"32_5_0.001_7\", \"32_5_0.0001_1\", \"32_5_0.0001_3\", \"32_5_0.0001_7\", \"64_3_0.001_1\", \"64_3_0.001_3\", \"64_3_0.001_7\", \"64_3_0.0001_1\", \"64_3_0.0001_3\", \"64_3_0.0001_7\", \"64_5_0.001_1\", \"64_5_0.001_3\", \"64_5_0.001_7\", \"64_5_0.0001_1\", \"64_5_0.0001_3\", \"64_5_0.0001_7\"], \"y\": [0.447, 0.491, 0.472, 0.465, 0.454, 0.48, 0.483, 0.642, 0.754, 0.513, 0.54, 0.484, 0.488, 0.458, 0.441, 0.453, 0.467, 0.455, 0.513, 0.96, 0.463, 0.488, 0.505, 0.477]}, {\"mode\": \"markers\", \"name\": \"PC - Aggregated\", \"type\": \"scatter\", \"x\": [\"32_3_0.001_1\", \"32_3_0.001_3\", \"32_3_0.001_7\", \"32_3_0.0001_1\", \"32_3_0.0001_3\", \"32_3_0.0001_7\", \"32_5_0.001_1\", \"32_5_0.001_3\", \"32_5_0.001_7\", \"32_5_0.0001_1\", \"32_5_0.0001_3\", \"32_5_0.0001_7\", \"64_3_0.001_1\", \"64_3_0.001_3\", \"64_3_0.001_7\", \"64_3_0.0001_1\", \"64_3_0.0001_3\", \"64_3_0.0001_7\", \"64_5_0.001_1\", \"64_5_0.001_3\", \"64_5_0.001_7\", \"64_5_0.0001_1\", \"64_5_0.0001_3\", \"64_5_0.0001_7\"], \"y\": [0.342, 0.357, 0.373, 0.416, 0.452, 0.395, 0.403, 0.52, 0.643, 0.44, 0.551, 0.494, 0.389, 0.349, 0.364, 0.385, 0.472, 0.385, 0.461, 0.955, 1.056, 0.429, 0.53, 0.498]}, {\"mode\": \"markers\", \"name\": \"Site - Aggregated\", \"type\": \"scatter\", \"x\": [\"32_3_0.001_1\", \"32_3_0.001_3\", \"32_3_0.001_7\", \"32_3_0.0001_1\", \"32_3_0.0001_3\", \"32_3_0.0001_7\", \"32_5_0.001_1\", \"32_5_0.001_3\", \"32_5_0.001_7\", \"32_5_0.0001_1\", \"32_5_0.0001_3\", \"32_5_0.0001_7\", \"64_3_0.001_1\", \"64_3_0.001_3\", \"64_3_0.001_7\", \"64_3_0.0001_1\", \"64_3_0.0001_3\", \"64_3_0.0001_7\", \"64_5_0.001_1\", \"64_5_0.001_3\", \"64_5_0.001_7\", \"64_5_0.0001_1\", \"64_5_0.0001_3\", \"64_5_0.0001_7\"], \"y\": [0.342, 0.355, 0.363, 0.376, 0.485, 0.422, 0.39, 0.545, 0.539, 0.432, 0.515, 0.54, 0.349, 0.341, 0.332, 0.38, 0.458, 0.401, 0.392, 0.663, 0.882, 0.403, 0.524, 0.557]}],                        {\"template\": {\"data\": {\"bar\": [{\"error_x\": {\"color\": \"#2a3f5f\"}, \"error_y\": {\"color\": \"#2a3f5f\"}, \"marker\": {\"line\": {\"color\": \"#E5ECF6\", \"width\": 0.5}}, \"type\": \"bar\"}], \"barpolar\": [{\"marker\": {\"line\": {\"color\": \"#E5ECF6\", \"width\": 0.5}}, \"type\": \"barpolar\"}], \"carpet\": [{\"aaxis\": {\"endlinecolor\": \"#2a3f5f\", \"gridcolor\": \"white\", \"linecolor\": \"white\", \"minorgridcolor\": \"white\", \"startlinecolor\": \"#2a3f5f\"}, \"baxis\": {\"endlinecolor\": \"#2a3f5f\", \"gridcolor\": \"white\", \"linecolor\": \"white\", \"minorgridcolor\": \"white\", \"startlinecolor\": \"#2a3f5f\"}, \"type\": \"carpet\"}], \"choropleth\": [{\"colorbar\": {\"outlinewidth\": 0, \"ticks\": \"\"}, \"type\": \"choropleth\"}], \"contour\": [{\"colorbar\": {\"outlinewidth\": 0, \"ticks\": \"\"}, \"colorscale\": [[0.0, \"#0d0887\"], [0.1111111111111111, \"#46039f\"], [0.2222222222222222, \"#7201a8\"], [0.3333333333333333, \"#9c179e\"], [0.4444444444444444, \"#bd3786\"], [0.5555555555555556, \"#d8576b\"], [0.6666666666666666, \"#ed7953\"], [0.7777777777777778, \"#fb9f3a\"], [0.8888888888888888, \"#fdca26\"], [1.0, \"#f0f921\"]], \"type\": \"contour\"}], \"contourcarpet\": [{\"colorbar\": {\"outlinewidth\": 0, \"ticks\": \"\"}, \"type\": \"contourcarpet\"}], \"heatmap\": [{\"colorbar\": {\"outlinewidth\": 0, \"ticks\": \"\"}, \"colorscale\": [[0.0, \"#0d0887\"], [0.1111111111111111, \"#46039f\"], [0.2222222222222222, \"#7201a8\"], [0.3333333333333333, \"#9c179e\"], [0.4444444444444444, \"#bd3786\"], [0.5555555555555556, \"#d8576b\"], [0.6666666666666666, \"#ed7953\"], [0.7777777777777778, \"#fb9f3a\"], [0.8888888888888888, \"#fdca26\"], [1.0, \"#f0f921\"]], \"type\": \"heatmap\"}], \"heatmapgl\": [{\"colorbar\": {\"outlinewidth\": 0, \"ticks\": \"\"}, \"colorscale\": [[0.0, \"#0d0887\"], [0.1111111111111111, \"#46039f\"], [0.2222222222222222, \"#7201a8\"], [0.3333333333333333, \"#9c179e\"], [0.4444444444444444, \"#bd3786\"], [0.5555555555555556, \"#d8576b\"], [0.6666666666666666, \"#ed7953\"], [0.7777777777777778, \"#fb9f3a\"], [0.8888888888888888, \"#fdca26\"], [1.0, \"#f0f921\"]], \"type\": \"heatmapgl\"}], \"histogram\": [{\"marker\": {\"colorbar\": {\"outlinewidth\": 0, \"ticks\": \"\"}}, \"type\": \"histogram\"}], \"histogram2d\": [{\"colorbar\": {\"outlinewidth\": 0, \"ticks\": \"\"}, \"colorscale\": [[0.0, \"#0d0887\"], [0.1111111111111111, \"#46039f\"], [0.2222222222222222, \"#7201a8\"], [0.3333333333333333, \"#9c179e\"], [0.4444444444444444, \"#bd3786\"], [0.5555555555555556, \"#d8576b\"], [0.6666666666666666, \"#ed7953\"], [0.7777777777777778, \"#fb9f3a\"], [0.8888888888888888, \"#fdca26\"], [1.0, \"#f0f921\"]], \"type\": \"histogram2d\"}], \"histogram2dcontour\": [{\"colorbar\": {\"outlinewidth\": 0, \"ticks\": \"\"}, \"colorscale\": [[0.0, \"#0d0887\"], [0.1111111111111111, \"#46039f\"], [0.2222222222222222, \"#7201a8\"], [0.3333333333333333, \"#9c179e\"], [0.4444444444444444, \"#bd3786\"], [0.5555555555555556, \"#d8576b\"], [0.6666666666666666, \"#ed7953\"], [0.7777777777777778, \"#fb9f3a\"], [0.8888888888888888, \"#fdca26\"], [1.0, \"#f0f921\"]], \"type\": \"histogram2dcontour\"}], \"mesh3d\": [{\"colorbar\": {\"outlinewidth\": 0, \"ticks\": \"\"}, \"type\": \"mesh3d\"}], \"parcoords\": [{\"line\": {\"colorbar\": {\"outlinewidth\": 0, \"ticks\": \"\"}}, \"type\": \"parcoords\"}], \"pie\": [{\"automargin\": true, \"type\": \"pie\"}], \"scatter\": [{\"marker\": {\"colorbar\": {\"outlinewidth\": 0, \"ticks\": \"\"}}, \"type\": \"scatter\"}], \"scatter3d\": [{\"line\": {\"colorbar\": {\"outlinewidth\": 0, \"ticks\": \"\"}}, \"marker\": {\"colorbar\": {\"outlinewidth\": 0, \"ticks\": \"\"}}, \"type\": \"scatter3d\"}], \"scattercarpet\": [{\"marker\": {\"colorbar\": {\"outlinewidth\": 0, \"ticks\": \"\"}}, \"type\": \"scattercarpet\"}], \"scattergeo\": [{\"marker\": {\"colorbar\": {\"outlinewidth\": 0, \"ticks\": \"\"}}, \"type\": \"scattergeo\"}], \"scattergl\": [{\"marker\": {\"colorbar\": {\"outlinewidth\": 0, \"ticks\": \"\"}}, \"type\": \"scattergl\"}], \"scattermapbox\": [{\"marker\": {\"colorbar\": {\"outlinewidth\": 0, \"ticks\": \"\"}}, \"type\": \"scattermapbox\"}], \"scatterpolar\": [{\"marker\": {\"colorbar\": {\"outlinewidth\": 0, \"ticks\": \"\"}}, \"type\": \"scatterpolar\"}], \"scatterpolargl\": [{\"marker\": {\"colorbar\": {\"outlinewidth\": 0, \"ticks\": \"\"}}, \"type\": \"scatterpolargl\"}], \"scatterternary\": [{\"marker\": {\"colorbar\": {\"outlinewidth\": 0, \"ticks\": \"\"}}, \"type\": \"scatterternary\"}], \"surface\": [{\"colorbar\": {\"outlinewidth\": 0, \"ticks\": \"\"}, \"colorscale\": [[0.0, \"#0d0887\"], [0.1111111111111111, \"#46039f\"], [0.2222222222222222, \"#7201a8\"], [0.3333333333333333, \"#9c179e\"], [0.4444444444444444, \"#bd3786\"], [0.5555555555555556, \"#d8576b\"], [0.6666666666666666, \"#ed7953\"], [0.7777777777777778, \"#fb9f3a\"], [0.8888888888888888, \"#fdca26\"], [1.0, \"#f0f921\"]], \"type\": \"surface\"}], \"table\": [{\"cells\": {\"fill\": {\"color\": \"#EBF0F8\"}, \"line\": {\"color\": \"white\"}}, \"header\": {\"fill\": {\"color\": \"#C8D4E3\"}, \"line\": {\"color\": \"white\"}}, \"type\": \"table\"}]}, \"layout\": {\"annotationdefaults\": {\"arrowcolor\": \"#2a3f5f\", \"arrowhead\": 0, \"arrowwidth\": 1}, \"autotypenumbers\": \"strict\", \"coloraxis\": {\"colorbar\": {\"outlinewidth\": 0, \"ticks\": \"\"}}, \"colorscale\": {\"diverging\": [[0, \"#8e0152\"], [0.1, \"#c51b7d\"], [0.2, \"#de77ae\"], [0.3, \"#f1b6da\"], [0.4, \"#fde0ef\"], [0.5, \"#f7f7f7\"], [0.6, \"#e6f5d0\"], [0.7, \"#b8e186\"], [0.8, \"#7fbc41\"], [0.9, \"#4d9221\"], [1, \"#276419\"]], \"sequential\": [[0.0, \"#0d0887\"], [0.1111111111111111, \"#46039f\"], [0.2222222222222222, \"#7201a8\"], [0.3333333333333333, \"#9c179e\"], [0.4444444444444444, \"#bd3786\"], [0.5555555555555556, \"#d8576b\"], [0.6666666666666666, \"#ed7953\"], [0.7777777777777778, \"#fb9f3a\"], [0.8888888888888888, \"#fdca26\"], [1.0, \"#f0f921\"]], \"sequentialminus\": [[0.0, \"#0d0887\"], [0.1111111111111111, \"#46039f\"], [0.2222222222222222, \"#7201a8\"], [0.3333333333333333, \"#9c179e\"], [0.4444444444444444, \"#bd3786\"], [0.5555555555555556, \"#d8576b\"], [0.6666666666666666, \"#ed7953\"], [0.7777777777777778, \"#fb9f3a\"], [0.8888888888888888, \"#fdca26\"], [1.0, \"#f0f921\"]]}, \"colorway\": [\"#636efa\", \"#EF553B\", \"#00cc96\", \"#ab63fa\", \"#FFA15A\", \"#19d3f3\", \"#FF6692\", \"#B6E880\", \"#FF97FF\", \"#FECB52\"], \"font\": {\"color\": \"#2a3f5f\"}, \"geo\": {\"bgcolor\": \"white\", \"lakecolor\": \"white\", \"landcolor\": \"#E5ECF6\", \"showlakes\": true, \"showland\": true, \"subunitcolor\": \"white\"}, \"hoverlabel\": {\"align\": \"left\"}, \"hovermode\": \"closest\", \"mapbox\": {\"style\": \"light\"}, \"paper_bgcolor\": \"white\", \"plot_bgcolor\": \"#E5ECF6\", \"polar\": {\"angularaxis\": {\"gridcolor\": \"white\", \"linecolor\": \"white\", \"ticks\": \"\"}, \"bgcolor\": \"#E5ECF6\", \"radialaxis\": {\"gridcolor\": \"white\", \"linecolor\": \"white\", \"ticks\": \"\"}}, \"scene\": {\"xaxis\": {\"backgroundcolor\": \"#E5ECF6\", \"gridcolor\": \"white\", \"gridwidth\": 2, \"linecolor\": \"white\", \"showbackground\": true, \"ticks\": \"\", \"zerolinecolor\": \"white\"}, \"yaxis\": {\"backgroundcolor\": \"#E5ECF6\", \"gridcolor\": \"white\", \"gridwidth\": 2, \"linecolor\": \"white\", \"showbackground\": true, \"ticks\": \"\", \"zerolinecolor\": \"white\"}, \"zaxis\": {\"backgroundcolor\": \"#E5ECF6\", \"gridcolor\": \"white\", \"gridwidth\": 2, \"linecolor\": \"white\", \"showbackground\": true, \"ticks\": \"\", \"zerolinecolor\": \"white\"}}, \"shapedefaults\": {\"line\": {\"color\": \"#2a3f5f\"}}, \"ternary\": {\"aaxis\": {\"gridcolor\": \"white\", \"linecolor\": \"white\", \"ticks\": \"\"}, \"baxis\": {\"gridcolor\": \"white\", \"linecolor\": \"white\", \"ticks\": \"\"}, \"bgcolor\": \"#E5ECF6\", \"caxis\": {\"gridcolor\": \"white\", \"linecolor\": \"white\", \"ticks\": \"\"}}, \"title\": {\"x\": 0.05}, \"xaxis\": {\"automargin\": true, \"gridcolor\": \"white\", \"linecolor\": \"white\", \"ticks\": \"\", \"title\": {\"standoff\": 15}, \"zerolinecolor\": \"white\", \"zerolinewidth\": 2}, \"yaxis\": {\"automargin\": true, \"gridcolor\": \"white\", \"linecolor\": \"white\", \"ticks\": \"\", \"title\": {\"standoff\": 15}, \"zerolinecolor\": \"white\", \"zerolinewidth\": 2}}}},                        {\"responsive\": true}                    ).then(function(){\n",
       "                            \n",
       "var gd = document.getElementById('72ca9d3a-83f3-4025-a894-06611b98c69f');\n",
       "var x = new MutationObserver(function (mutations, observer) {{\n",
       "        var display = window.getComputedStyle(gd).display;\n",
       "        if (!display || display === 'none') {{\n",
       "            console.log([gd, 'removed!']);\n",
       "            Plotly.purge(gd);\n",
       "            observer.disconnect();\n",
       "        }}\n",
       "}});\n",
       "\n",
       "// Listen for the removal of the full notebook cells\n",
       "var notebookContainer = gd.closest('#notebook-container');\n",
       "if (notebookContainer) {{\n",
       "    x.observe(notebookContainer, {childList: true});\n",
       "}}\n",
       "\n",
       "// Listen for the clearing of the current output cell\n",
       "var outputEl = gd.closest('.output');\n",
       "if (outputEl) {{\n",
       "    x.observe(outputEl, {childList: true});\n",
       "}}\n",
       "\n",
       "                        })                };                });            </script>        </div>"
      ]
     },
     "metadata": {},
     "output_type": "display_data"
    }
   ],
   "source": [
    "fig.show()"
   ]
  },
  {
   "cell_type": "code",
   "execution_count": 18,
   "id": "sonic-property",
   "metadata": {},
   "outputs": [
    {
     "data": {
      "text/plain": [
       "Unnamed: 0           32_3_0.0001_1\n",
       "Grid                          0.44\n",
       "TL - Aggregated              0.441\n",
       "SUB - Aggregated             0.441\n",
       "PC - Aggregated              0.342\n",
       "Site - Aggregated            0.332\n",
       "dtype: object"
      ]
     },
     "execution_count": 18,
     "metadata": {},
     "output_type": "execute_result"
    }
   ],
   "source": [
    "lstm_iter_results.min()"
   ]
  },
  {
   "cell_type": "code",
   "execution_count": 78,
   "id": "dominican-longitude",
   "metadata": {},
   "outputs": [],
   "source": [
    "cnn_iter_results = pd.read_csv('../cnn_new_results/rmse.csv')"
   ]
  },
  {
   "cell_type": "code",
   "execution_count": 79,
   "id": "native-stationery",
   "metadata": {},
   "outputs": [
    {
     "data": {
      "text/html": [
       "<div>\n",
       "<style scoped>\n",
       "    .dataframe tbody tr th:only-of-type {\n",
       "        vertical-align: middle;\n",
       "    }\n",
       "\n",
       "    .dataframe tbody tr th {\n",
       "        vertical-align: top;\n",
       "    }\n",
       "\n",
       "    .dataframe thead th {\n",
       "        text-align: right;\n",
       "    }\n",
       "</style>\n",
       "<table border=\"1\" class=\"dataframe\">\n",
       "  <thead>\n",
       "    <tr style=\"text-align: right;\">\n",
       "      <th></th>\n",
       "      <th>Unnamed: 0</th>\n",
       "      <th>Grid</th>\n",
       "      <th>TL - Aggregated</th>\n",
       "      <th>SUB - Aggregated</th>\n",
       "      <th>PC - Aggregated</th>\n",
       "      <th>Site - Aggregated</th>\n",
       "    </tr>\n",
       "  </thead>\n",
       "  <tbody>\n",
       "    <tr>\n",
       "      <th>0</th>\n",
       "      <td>32_4_0.001_1</td>\n",
       "      <td>0.546</td>\n",
       "      <td>0.465</td>\n",
       "      <td>0.467</td>\n",
       "      <td>0.323</td>\n",
       "      <td>0.332</td>\n",
       "    </tr>\n",
       "    <tr>\n",
       "      <th>1</th>\n",
       "      <td>32_4_0.001_3</td>\n",
       "      <td>0.583</td>\n",
       "      <td>0.471</td>\n",
       "      <td>0.486</td>\n",
       "      <td>0.498</td>\n",
       "      <td>0.573</td>\n",
       "    </tr>\n",
       "    <tr>\n",
       "      <th>2</th>\n",
       "      <td>32_4_0.001_7</td>\n",
       "      <td>0.564</td>\n",
       "      <td>0.572</td>\n",
       "      <td>0.503</td>\n",
       "      <td>0.769</td>\n",
       "      <td>0.778</td>\n",
       "    </tr>\n",
       "    <tr>\n",
       "      <th>3</th>\n",
       "      <td>32_4_0.0001_1</td>\n",
       "      <td>0.456</td>\n",
       "      <td>0.405</td>\n",
       "      <td>0.430</td>\n",
       "      <td>0.331</td>\n",
       "      <td>0.328</td>\n",
       "    </tr>\n",
       "    <tr>\n",
       "      <th>4</th>\n",
       "      <td>32_4_0.0001_3</td>\n",
       "      <td>0.446</td>\n",
       "      <td>0.442</td>\n",
       "      <td>0.455</td>\n",
       "      <td>0.357</td>\n",
       "      <td>0.376</td>\n",
       "    </tr>\n",
       "  </tbody>\n",
       "</table>\n",
       "</div>"
      ],
      "text/plain": [
       "      Unnamed: 0   Grid  TL - Aggregated  SUB - Aggregated  PC - Aggregated  \\\n",
       "0   32_4_0.001_1  0.546            0.465             0.467            0.323   \n",
       "1   32_4_0.001_3  0.583            0.471             0.486            0.498   \n",
       "2   32_4_0.001_7  0.564            0.572             0.503            0.769   \n",
       "3  32_4_0.0001_1  0.456            0.405             0.430            0.331   \n",
       "4  32_4_0.0001_3  0.446            0.442             0.455            0.357   \n",
       "\n",
       "   Site - Aggregated  \n",
       "0              0.332  \n",
       "1              0.573  \n",
       "2              0.778  \n",
       "3              0.328  \n",
       "4              0.376  "
      ]
     },
     "execution_count": 79,
     "metadata": {},
     "output_type": "execute_result"
    }
   ],
   "source": [
    "cnn_iter_results.head()"
   ]
  },
  {
   "cell_type": "code",
   "execution_count": 80,
   "id": "molecular-airplane",
   "metadata": {},
   "outputs": [
    {
     "data": {
      "text/plain": [
       "Unnamed: 0           32_4_0.0001_1\n",
       "Grid                         0.426\n",
       "TL - Aggregated              0.405\n",
       "SUB - Aggregated             0.394\n",
       "PC - Aggregated              0.323\n",
       "Site - Aggregated            0.325\n",
       "dtype: object"
      ]
     },
     "execution_count": 80,
     "metadata": {},
     "output_type": "execute_result"
    }
   ],
   "source": [
    "cnn_iter_results.min()"
   ]
  },
  {
   "cell_type": "code",
   "execution_count": 81,
   "id": "christian-sharing",
   "metadata": {},
   "outputs": [
    {
     "data": {
      "application/vnd.plotly.v1+json": {
       "config": {
        "plotlyServerURL": "https://plot.ly"
       },
       "data": [
        {
         "mode": "markers",
         "name": "Grid",
         "type": "scatter",
         "x": [
          "32_4_0.001_1",
          "32_4_0.001_3",
          "32_4_0.001_7",
          "32_4_0.0001_1",
          "32_4_0.0001_3",
          "32_4_0.0001_7",
          "32_6_0.001_1",
          "32_6_0.001_3",
          "32_6_0.001_7",
          "32_6_0.0001_1",
          "32_6_0.0001_3",
          "32_6_0.0001_7",
          "32_8_0.001_1",
          "32_8_0.001_3",
          "32_8_0.001_7"
         ],
         "y": [
          0.546,
          0.583,
          0.564,
          0.456,
          0.446,
          0.503,
          0.501,
          0.465,
          0.538,
          0.427,
          0.506,
          0.426,
          0.489,
          0.476,
          0.6
         ]
        },
        {
         "mode": "markers",
         "name": "TL - Aggregated",
         "type": "scatter",
         "x": [
          "32_4_0.001_1",
          "32_4_0.001_3",
          "32_4_0.001_7",
          "32_4_0.0001_1",
          "32_4_0.0001_3",
          "32_4_0.0001_7",
          "32_6_0.001_1",
          "32_6_0.001_3",
          "32_6_0.001_7",
          "32_6_0.0001_1",
          "32_6_0.0001_3",
          "32_6_0.0001_7",
          "32_8_0.001_1",
          "32_8_0.001_3",
          "32_8_0.001_7"
         ],
         "y": [
          0.465,
          0.471,
          0.572,
          0.405,
          0.442,
          0.427,
          0.462,
          0.48,
          0.494,
          0.42,
          0.485,
          0.463,
          0.429,
          0.443,
          0.523
         ]
        },
        {
         "mode": "markers",
         "name": "SUB - Aggregated",
         "type": "scatter",
         "x": [
          "32_4_0.001_1",
          "32_4_0.001_3",
          "32_4_0.001_7",
          "32_4_0.0001_1",
          "32_4_0.0001_3",
          "32_4_0.0001_7",
          "32_6_0.001_1",
          "32_6_0.001_3",
          "32_6_0.001_7",
          "32_6_0.0001_1",
          "32_6_0.0001_3",
          "32_6_0.0001_7",
          "32_8_0.001_1",
          "32_8_0.001_3",
          "32_8_0.001_7"
         ],
         "y": [
          0.467,
          0.486,
          0.503,
          0.43,
          0.455,
          0.404,
          0.428,
          0.462,
          0.47,
          0.394,
          0.49,
          0.478,
          0.432,
          0.458,
          0.534
         ]
        },
        {
         "mode": "markers",
         "name": "PC - Aggregated",
         "type": "scatter",
         "x": [
          "32_4_0.001_1",
          "32_4_0.001_3",
          "32_4_0.001_7",
          "32_4_0.0001_1",
          "32_4_0.0001_3",
          "32_4_0.0001_7",
          "32_6_0.001_1",
          "32_6_0.001_3",
          "32_6_0.001_7",
          "32_6_0.0001_1",
          "32_6_0.0001_3",
          "32_6_0.0001_7",
          "32_8_0.001_1",
          "32_8_0.001_3",
          "32_8_0.001_7"
         ],
         "y": [
          0.323,
          0.498,
          0.769,
          0.331,
          0.357,
          0.517,
          0.337,
          0.414,
          0.852,
          0.341,
          0.357,
          0.506,
          0.387,
          0.586,
          0.992
         ]
        },
        {
         "mode": "markers",
         "name": "Site - Aggregated",
         "type": "scatter",
         "x": [
          "32_4_0.001_1",
          "32_4_0.001_3",
          "32_4_0.001_7",
          "32_4_0.0001_1",
          "32_4_0.0001_3",
          "32_4_0.0001_7",
          "32_6_0.001_1",
          "32_6_0.001_3",
          "32_6_0.001_7",
          "32_6_0.0001_1",
          "32_6_0.0001_3",
          "32_6_0.0001_7",
          "32_8_0.001_1",
          "32_8_0.001_3",
          "32_8_0.001_7"
         ],
         "y": [
          0.332,
          0.573,
          0.778,
          0.328,
          0.376,
          0.519,
          0.325,
          0.573,
          0.524,
          0.331,
          0.368,
          0.454,
          0.333,
          0.555,
          0.553
         ]
        }
       ],
       "layout": {
        "template": {
         "data": {
          "bar": [
           {
            "error_x": {
             "color": "#2a3f5f"
            },
            "error_y": {
             "color": "#2a3f5f"
            },
            "marker": {
             "line": {
              "color": "#E5ECF6",
              "width": 0.5
             }
            },
            "type": "bar"
           }
          ],
          "barpolar": [
           {
            "marker": {
             "line": {
              "color": "#E5ECF6",
              "width": 0.5
             }
            },
            "type": "barpolar"
           }
          ],
          "carpet": [
           {
            "aaxis": {
             "endlinecolor": "#2a3f5f",
             "gridcolor": "white",
             "linecolor": "white",
             "minorgridcolor": "white",
             "startlinecolor": "#2a3f5f"
            },
            "baxis": {
             "endlinecolor": "#2a3f5f",
             "gridcolor": "white",
             "linecolor": "white",
             "minorgridcolor": "white",
             "startlinecolor": "#2a3f5f"
            },
            "type": "carpet"
           }
          ],
          "choropleth": [
           {
            "colorbar": {
             "outlinewidth": 0,
             "ticks": ""
            },
            "type": "choropleth"
           }
          ],
          "contour": [
           {
            "colorbar": {
             "outlinewidth": 0,
             "ticks": ""
            },
            "colorscale": [
             [
              0,
              "#0d0887"
             ],
             [
              0.1111111111111111,
              "#46039f"
             ],
             [
              0.2222222222222222,
              "#7201a8"
             ],
             [
              0.3333333333333333,
              "#9c179e"
             ],
             [
              0.4444444444444444,
              "#bd3786"
             ],
             [
              0.5555555555555556,
              "#d8576b"
             ],
             [
              0.6666666666666666,
              "#ed7953"
             ],
             [
              0.7777777777777778,
              "#fb9f3a"
             ],
             [
              0.8888888888888888,
              "#fdca26"
             ],
             [
              1,
              "#f0f921"
             ]
            ],
            "type": "contour"
           }
          ],
          "contourcarpet": [
           {
            "colorbar": {
             "outlinewidth": 0,
             "ticks": ""
            },
            "type": "contourcarpet"
           }
          ],
          "heatmap": [
           {
            "colorbar": {
             "outlinewidth": 0,
             "ticks": ""
            },
            "colorscale": [
             [
              0,
              "#0d0887"
             ],
             [
              0.1111111111111111,
              "#46039f"
             ],
             [
              0.2222222222222222,
              "#7201a8"
             ],
             [
              0.3333333333333333,
              "#9c179e"
             ],
             [
              0.4444444444444444,
              "#bd3786"
             ],
             [
              0.5555555555555556,
              "#d8576b"
             ],
             [
              0.6666666666666666,
              "#ed7953"
             ],
             [
              0.7777777777777778,
              "#fb9f3a"
             ],
             [
              0.8888888888888888,
              "#fdca26"
             ],
             [
              1,
              "#f0f921"
             ]
            ],
            "type": "heatmap"
           }
          ],
          "heatmapgl": [
           {
            "colorbar": {
             "outlinewidth": 0,
             "ticks": ""
            },
            "colorscale": [
             [
              0,
              "#0d0887"
             ],
             [
              0.1111111111111111,
              "#46039f"
             ],
             [
              0.2222222222222222,
              "#7201a8"
             ],
             [
              0.3333333333333333,
              "#9c179e"
             ],
             [
              0.4444444444444444,
              "#bd3786"
             ],
             [
              0.5555555555555556,
              "#d8576b"
             ],
             [
              0.6666666666666666,
              "#ed7953"
             ],
             [
              0.7777777777777778,
              "#fb9f3a"
             ],
             [
              0.8888888888888888,
              "#fdca26"
             ],
             [
              1,
              "#f0f921"
             ]
            ],
            "type": "heatmapgl"
           }
          ],
          "histogram": [
           {
            "marker": {
             "colorbar": {
              "outlinewidth": 0,
              "ticks": ""
             }
            },
            "type": "histogram"
           }
          ],
          "histogram2d": [
           {
            "colorbar": {
             "outlinewidth": 0,
             "ticks": ""
            },
            "colorscale": [
             [
              0,
              "#0d0887"
             ],
             [
              0.1111111111111111,
              "#46039f"
             ],
             [
              0.2222222222222222,
              "#7201a8"
             ],
             [
              0.3333333333333333,
              "#9c179e"
             ],
             [
              0.4444444444444444,
              "#bd3786"
             ],
             [
              0.5555555555555556,
              "#d8576b"
             ],
             [
              0.6666666666666666,
              "#ed7953"
             ],
             [
              0.7777777777777778,
              "#fb9f3a"
             ],
             [
              0.8888888888888888,
              "#fdca26"
             ],
             [
              1,
              "#f0f921"
             ]
            ],
            "type": "histogram2d"
           }
          ],
          "histogram2dcontour": [
           {
            "colorbar": {
             "outlinewidth": 0,
             "ticks": ""
            },
            "colorscale": [
             [
              0,
              "#0d0887"
             ],
             [
              0.1111111111111111,
              "#46039f"
             ],
             [
              0.2222222222222222,
              "#7201a8"
             ],
             [
              0.3333333333333333,
              "#9c179e"
             ],
             [
              0.4444444444444444,
              "#bd3786"
             ],
             [
              0.5555555555555556,
              "#d8576b"
             ],
             [
              0.6666666666666666,
              "#ed7953"
             ],
             [
              0.7777777777777778,
              "#fb9f3a"
             ],
             [
              0.8888888888888888,
              "#fdca26"
             ],
             [
              1,
              "#f0f921"
             ]
            ],
            "type": "histogram2dcontour"
           }
          ],
          "mesh3d": [
           {
            "colorbar": {
             "outlinewidth": 0,
             "ticks": ""
            },
            "type": "mesh3d"
           }
          ],
          "parcoords": [
           {
            "line": {
             "colorbar": {
              "outlinewidth": 0,
              "ticks": ""
             }
            },
            "type": "parcoords"
           }
          ],
          "pie": [
           {
            "automargin": true,
            "type": "pie"
           }
          ],
          "scatter": [
           {
            "marker": {
             "colorbar": {
              "outlinewidth": 0,
              "ticks": ""
             }
            },
            "type": "scatter"
           }
          ],
          "scatter3d": [
           {
            "line": {
             "colorbar": {
              "outlinewidth": 0,
              "ticks": ""
             }
            },
            "marker": {
             "colorbar": {
              "outlinewidth": 0,
              "ticks": ""
             }
            },
            "type": "scatter3d"
           }
          ],
          "scattercarpet": [
           {
            "marker": {
             "colorbar": {
              "outlinewidth": 0,
              "ticks": ""
             }
            },
            "type": "scattercarpet"
           }
          ],
          "scattergeo": [
           {
            "marker": {
             "colorbar": {
              "outlinewidth": 0,
              "ticks": ""
             }
            },
            "type": "scattergeo"
           }
          ],
          "scattergl": [
           {
            "marker": {
             "colorbar": {
              "outlinewidth": 0,
              "ticks": ""
             }
            },
            "type": "scattergl"
           }
          ],
          "scattermapbox": [
           {
            "marker": {
             "colorbar": {
              "outlinewidth": 0,
              "ticks": ""
             }
            },
            "type": "scattermapbox"
           }
          ],
          "scatterpolar": [
           {
            "marker": {
             "colorbar": {
              "outlinewidth": 0,
              "ticks": ""
             }
            },
            "type": "scatterpolar"
           }
          ],
          "scatterpolargl": [
           {
            "marker": {
             "colorbar": {
              "outlinewidth": 0,
              "ticks": ""
             }
            },
            "type": "scatterpolargl"
           }
          ],
          "scatterternary": [
           {
            "marker": {
             "colorbar": {
              "outlinewidth": 0,
              "ticks": ""
             }
            },
            "type": "scatterternary"
           }
          ],
          "surface": [
           {
            "colorbar": {
             "outlinewidth": 0,
             "ticks": ""
            },
            "colorscale": [
             [
              0,
              "#0d0887"
             ],
             [
              0.1111111111111111,
              "#46039f"
             ],
             [
              0.2222222222222222,
              "#7201a8"
             ],
             [
              0.3333333333333333,
              "#9c179e"
             ],
             [
              0.4444444444444444,
              "#bd3786"
             ],
             [
              0.5555555555555556,
              "#d8576b"
             ],
             [
              0.6666666666666666,
              "#ed7953"
             ],
             [
              0.7777777777777778,
              "#fb9f3a"
             ],
             [
              0.8888888888888888,
              "#fdca26"
             ],
             [
              1,
              "#f0f921"
             ]
            ],
            "type": "surface"
           }
          ],
          "table": [
           {
            "cells": {
             "fill": {
              "color": "#EBF0F8"
             },
             "line": {
              "color": "white"
             }
            },
            "header": {
             "fill": {
              "color": "#C8D4E3"
             },
             "line": {
              "color": "white"
             }
            },
            "type": "table"
           }
          ]
         },
         "layout": {
          "annotationdefaults": {
           "arrowcolor": "#2a3f5f",
           "arrowhead": 0,
           "arrowwidth": 1
          },
          "autotypenumbers": "strict",
          "coloraxis": {
           "colorbar": {
            "outlinewidth": 0,
            "ticks": ""
           }
          },
          "colorscale": {
           "diverging": [
            [
             0,
             "#8e0152"
            ],
            [
             0.1,
             "#c51b7d"
            ],
            [
             0.2,
             "#de77ae"
            ],
            [
             0.3,
             "#f1b6da"
            ],
            [
             0.4,
             "#fde0ef"
            ],
            [
             0.5,
             "#f7f7f7"
            ],
            [
             0.6,
             "#e6f5d0"
            ],
            [
             0.7,
             "#b8e186"
            ],
            [
             0.8,
             "#7fbc41"
            ],
            [
             0.9,
             "#4d9221"
            ],
            [
             1,
             "#276419"
            ]
           ],
           "sequential": [
            [
             0,
             "#0d0887"
            ],
            [
             0.1111111111111111,
             "#46039f"
            ],
            [
             0.2222222222222222,
             "#7201a8"
            ],
            [
             0.3333333333333333,
             "#9c179e"
            ],
            [
             0.4444444444444444,
             "#bd3786"
            ],
            [
             0.5555555555555556,
             "#d8576b"
            ],
            [
             0.6666666666666666,
             "#ed7953"
            ],
            [
             0.7777777777777778,
             "#fb9f3a"
            ],
            [
             0.8888888888888888,
             "#fdca26"
            ],
            [
             1,
             "#f0f921"
            ]
           ],
           "sequentialminus": [
            [
             0,
             "#0d0887"
            ],
            [
             0.1111111111111111,
             "#46039f"
            ],
            [
             0.2222222222222222,
             "#7201a8"
            ],
            [
             0.3333333333333333,
             "#9c179e"
            ],
            [
             0.4444444444444444,
             "#bd3786"
            ],
            [
             0.5555555555555556,
             "#d8576b"
            ],
            [
             0.6666666666666666,
             "#ed7953"
            ],
            [
             0.7777777777777778,
             "#fb9f3a"
            ],
            [
             0.8888888888888888,
             "#fdca26"
            ],
            [
             1,
             "#f0f921"
            ]
           ]
          },
          "colorway": [
           "#636efa",
           "#EF553B",
           "#00cc96",
           "#ab63fa",
           "#FFA15A",
           "#19d3f3",
           "#FF6692",
           "#B6E880",
           "#FF97FF",
           "#FECB52"
          ],
          "font": {
           "color": "#2a3f5f"
          },
          "geo": {
           "bgcolor": "white",
           "lakecolor": "white",
           "landcolor": "#E5ECF6",
           "showlakes": true,
           "showland": true,
           "subunitcolor": "white"
          },
          "hoverlabel": {
           "align": "left"
          },
          "hovermode": "closest",
          "mapbox": {
           "style": "light"
          },
          "paper_bgcolor": "white",
          "plot_bgcolor": "#E5ECF6",
          "polar": {
           "angularaxis": {
            "gridcolor": "white",
            "linecolor": "white",
            "ticks": ""
           },
           "bgcolor": "#E5ECF6",
           "radialaxis": {
            "gridcolor": "white",
            "linecolor": "white",
            "ticks": ""
           }
          },
          "scene": {
           "xaxis": {
            "backgroundcolor": "#E5ECF6",
            "gridcolor": "white",
            "gridwidth": 2,
            "linecolor": "white",
            "showbackground": true,
            "ticks": "",
            "zerolinecolor": "white"
           },
           "yaxis": {
            "backgroundcolor": "#E5ECF6",
            "gridcolor": "white",
            "gridwidth": 2,
            "linecolor": "white",
            "showbackground": true,
            "ticks": "",
            "zerolinecolor": "white"
           },
           "zaxis": {
            "backgroundcolor": "#E5ECF6",
            "gridcolor": "white",
            "gridwidth": 2,
            "linecolor": "white",
            "showbackground": true,
            "ticks": "",
            "zerolinecolor": "white"
           }
          },
          "shapedefaults": {
           "line": {
            "color": "#2a3f5f"
           }
          },
          "ternary": {
           "aaxis": {
            "gridcolor": "white",
            "linecolor": "white",
            "ticks": ""
           },
           "baxis": {
            "gridcolor": "white",
            "linecolor": "white",
            "ticks": ""
           },
           "bgcolor": "#E5ECF6",
           "caxis": {
            "gridcolor": "white",
            "linecolor": "white",
            "ticks": ""
           }
          },
          "title": {
           "x": 0.05
          },
          "xaxis": {
           "automargin": true,
           "gridcolor": "white",
           "linecolor": "white",
           "ticks": "",
           "title": {
            "standoff": 15
           },
           "zerolinecolor": "white",
           "zerolinewidth": 2
          },
          "yaxis": {
           "automargin": true,
           "gridcolor": "white",
           "linecolor": "white",
           "ticks": "",
           "title": {
            "standoff": 15
           },
           "zerolinecolor": "white",
           "zerolinewidth": 2
          }
         }
        }
       }
      },
      "text/html": [
       "<div>                            <div id=\"2e04d62f-1452-4b94-b62c-8e2a3e3f64ee\" class=\"plotly-graph-div\" style=\"height:525px; width:100%;\"></div>            <script type=\"text/javascript\">                require([\"plotly\"], function(Plotly) {                    window.PLOTLYENV=window.PLOTLYENV || {};                                    if (document.getElementById(\"2e04d62f-1452-4b94-b62c-8e2a3e3f64ee\")) {                    Plotly.newPlot(                        \"2e04d62f-1452-4b94-b62c-8e2a3e3f64ee\",                        [{\"mode\": \"markers\", \"name\": \"Grid\", \"type\": \"scatter\", \"x\": [\"32_4_0.001_1\", \"32_4_0.001_3\", \"32_4_0.001_7\", \"32_4_0.0001_1\", \"32_4_0.0001_3\", \"32_4_0.0001_7\", \"32_6_0.001_1\", \"32_6_0.001_3\", \"32_6_0.001_7\", \"32_6_0.0001_1\", \"32_6_0.0001_3\", \"32_6_0.0001_7\", \"32_8_0.001_1\", \"32_8_0.001_3\", \"32_8_0.001_7\"], \"y\": [0.546, 0.583, 0.564, 0.456, 0.446, 0.503, 0.501, 0.465, 0.538, 0.427, 0.506, 0.426, 0.489, 0.476, 0.6]}, {\"mode\": \"markers\", \"name\": \"TL - Aggregated\", \"type\": \"scatter\", \"x\": [\"32_4_0.001_1\", \"32_4_0.001_3\", \"32_4_0.001_7\", \"32_4_0.0001_1\", \"32_4_0.0001_3\", \"32_4_0.0001_7\", \"32_6_0.001_1\", \"32_6_0.001_3\", \"32_6_0.001_7\", \"32_6_0.0001_1\", \"32_6_0.0001_3\", \"32_6_0.0001_7\", \"32_8_0.001_1\", \"32_8_0.001_3\", \"32_8_0.001_7\"], \"y\": [0.465, 0.471, 0.572, 0.405, 0.442, 0.427, 0.462, 0.48, 0.494, 0.42, 0.485, 0.463, 0.429, 0.443, 0.523]}, {\"mode\": \"markers\", \"name\": \"SUB - Aggregated\", \"type\": \"scatter\", \"x\": [\"32_4_0.001_1\", \"32_4_0.001_3\", \"32_4_0.001_7\", \"32_4_0.0001_1\", \"32_4_0.0001_3\", \"32_4_0.0001_7\", \"32_6_0.001_1\", \"32_6_0.001_3\", \"32_6_0.001_7\", \"32_6_0.0001_1\", \"32_6_0.0001_3\", \"32_6_0.0001_7\", \"32_8_0.001_1\", \"32_8_0.001_3\", \"32_8_0.001_7\"], \"y\": [0.467, 0.486, 0.503, 0.43, 0.455, 0.404, 0.428, 0.462, 0.47, 0.394, 0.49, 0.478, 0.432, 0.458, 0.534]}, {\"mode\": \"markers\", \"name\": \"PC - Aggregated\", \"type\": \"scatter\", \"x\": [\"32_4_0.001_1\", \"32_4_0.001_3\", \"32_4_0.001_7\", \"32_4_0.0001_1\", \"32_4_0.0001_3\", \"32_4_0.0001_7\", \"32_6_0.001_1\", \"32_6_0.001_3\", \"32_6_0.001_7\", \"32_6_0.0001_1\", \"32_6_0.0001_3\", \"32_6_0.0001_7\", \"32_8_0.001_1\", \"32_8_0.001_3\", \"32_8_0.001_7\"], \"y\": [0.323, 0.498, 0.769, 0.331, 0.357, 0.517, 0.337, 0.414, 0.852, 0.341, 0.357, 0.506, 0.387, 0.586, 0.992]}, {\"mode\": \"markers\", \"name\": \"Site - Aggregated\", \"type\": \"scatter\", \"x\": [\"32_4_0.001_1\", \"32_4_0.001_3\", \"32_4_0.001_7\", \"32_4_0.0001_1\", \"32_4_0.0001_3\", \"32_4_0.0001_7\", \"32_6_0.001_1\", \"32_6_0.001_3\", \"32_6_0.001_7\", \"32_6_0.0001_1\", \"32_6_0.0001_3\", \"32_6_0.0001_7\", \"32_8_0.001_1\", \"32_8_0.001_3\", \"32_8_0.001_7\"], \"y\": [0.332, 0.573, 0.778, 0.328, 0.376, 0.519, 0.325, 0.573, 0.524, 0.331, 0.368, 0.454, 0.333, 0.555, 0.553]}],                        {\"template\": {\"data\": {\"bar\": [{\"error_x\": {\"color\": \"#2a3f5f\"}, \"error_y\": {\"color\": \"#2a3f5f\"}, \"marker\": {\"line\": {\"color\": \"#E5ECF6\", \"width\": 0.5}}, \"type\": \"bar\"}], \"barpolar\": [{\"marker\": {\"line\": {\"color\": \"#E5ECF6\", \"width\": 0.5}}, \"type\": \"barpolar\"}], \"carpet\": [{\"aaxis\": {\"endlinecolor\": \"#2a3f5f\", \"gridcolor\": \"white\", \"linecolor\": \"white\", \"minorgridcolor\": \"white\", \"startlinecolor\": \"#2a3f5f\"}, \"baxis\": {\"endlinecolor\": \"#2a3f5f\", \"gridcolor\": \"white\", \"linecolor\": \"white\", \"minorgridcolor\": \"white\", \"startlinecolor\": \"#2a3f5f\"}, \"type\": \"carpet\"}], \"choropleth\": [{\"colorbar\": {\"outlinewidth\": 0, \"ticks\": \"\"}, \"type\": \"choropleth\"}], \"contour\": [{\"colorbar\": {\"outlinewidth\": 0, \"ticks\": \"\"}, \"colorscale\": [[0.0, \"#0d0887\"], [0.1111111111111111, \"#46039f\"], [0.2222222222222222, \"#7201a8\"], [0.3333333333333333, \"#9c179e\"], [0.4444444444444444, \"#bd3786\"], [0.5555555555555556, \"#d8576b\"], [0.6666666666666666, \"#ed7953\"], [0.7777777777777778, \"#fb9f3a\"], [0.8888888888888888, \"#fdca26\"], [1.0, \"#f0f921\"]], \"type\": \"contour\"}], \"contourcarpet\": [{\"colorbar\": {\"outlinewidth\": 0, \"ticks\": \"\"}, \"type\": \"contourcarpet\"}], \"heatmap\": [{\"colorbar\": {\"outlinewidth\": 0, \"ticks\": \"\"}, \"colorscale\": [[0.0, \"#0d0887\"], [0.1111111111111111, \"#46039f\"], [0.2222222222222222, \"#7201a8\"], [0.3333333333333333, \"#9c179e\"], [0.4444444444444444, \"#bd3786\"], [0.5555555555555556, \"#d8576b\"], [0.6666666666666666, \"#ed7953\"], [0.7777777777777778, \"#fb9f3a\"], [0.8888888888888888, \"#fdca26\"], [1.0, \"#f0f921\"]], \"type\": \"heatmap\"}], \"heatmapgl\": [{\"colorbar\": {\"outlinewidth\": 0, \"ticks\": \"\"}, \"colorscale\": [[0.0, \"#0d0887\"], [0.1111111111111111, \"#46039f\"], [0.2222222222222222, \"#7201a8\"], [0.3333333333333333, \"#9c179e\"], [0.4444444444444444, \"#bd3786\"], [0.5555555555555556, \"#d8576b\"], [0.6666666666666666, \"#ed7953\"], [0.7777777777777778, \"#fb9f3a\"], [0.8888888888888888, \"#fdca26\"], [1.0, \"#f0f921\"]], \"type\": \"heatmapgl\"}], \"histogram\": [{\"marker\": {\"colorbar\": {\"outlinewidth\": 0, \"ticks\": \"\"}}, \"type\": \"histogram\"}], \"histogram2d\": [{\"colorbar\": {\"outlinewidth\": 0, \"ticks\": \"\"}, \"colorscale\": [[0.0, \"#0d0887\"], [0.1111111111111111, \"#46039f\"], [0.2222222222222222, \"#7201a8\"], [0.3333333333333333, \"#9c179e\"], [0.4444444444444444, \"#bd3786\"], [0.5555555555555556, \"#d8576b\"], [0.6666666666666666, \"#ed7953\"], [0.7777777777777778, \"#fb9f3a\"], [0.8888888888888888, \"#fdca26\"], [1.0, \"#f0f921\"]], \"type\": \"histogram2d\"}], \"histogram2dcontour\": [{\"colorbar\": {\"outlinewidth\": 0, \"ticks\": \"\"}, \"colorscale\": [[0.0, \"#0d0887\"], [0.1111111111111111, \"#46039f\"], [0.2222222222222222, \"#7201a8\"], [0.3333333333333333, \"#9c179e\"], [0.4444444444444444, \"#bd3786\"], [0.5555555555555556, \"#d8576b\"], [0.6666666666666666, \"#ed7953\"], [0.7777777777777778, \"#fb9f3a\"], [0.8888888888888888, \"#fdca26\"], [1.0, \"#f0f921\"]], \"type\": \"histogram2dcontour\"}], \"mesh3d\": [{\"colorbar\": {\"outlinewidth\": 0, \"ticks\": \"\"}, \"type\": \"mesh3d\"}], \"parcoords\": [{\"line\": {\"colorbar\": {\"outlinewidth\": 0, \"ticks\": \"\"}}, \"type\": \"parcoords\"}], \"pie\": [{\"automargin\": true, \"type\": \"pie\"}], \"scatter\": [{\"marker\": {\"colorbar\": {\"outlinewidth\": 0, \"ticks\": \"\"}}, \"type\": \"scatter\"}], \"scatter3d\": [{\"line\": {\"colorbar\": {\"outlinewidth\": 0, \"ticks\": \"\"}}, \"marker\": {\"colorbar\": {\"outlinewidth\": 0, \"ticks\": \"\"}}, \"type\": \"scatter3d\"}], \"scattercarpet\": [{\"marker\": {\"colorbar\": {\"outlinewidth\": 0, \"ticks\": \"\"}}, \"type\": \"scattercarpet\"}], \"scattergeo\": [{\"marker\": {\"colorbar\": {\"outlinewidth\": 0, \"ticks\": \"\"}}, \"type\": \"scattergeo\"}], \"scattergl\": [{\"marker\": {\"colorbar\": {\"outlinewidth\": 0, \"ticks\": \"\"}}, \"type\": \"scattergl\"}], \"scattermapbox\": [{\"marker\": {\"colorbar\": {\"outlinewidth\": 0, \"ticks\": \"\"}}, \"type\": \"scattermapbox\"}], \"scatterpolar\": [{\"marker\": {\"colorbar\": {\"outlinewidth\": 0, \"ticks\": \"\"}}, \"type\": \"scatterpolar\"}], \"scatterpolargl\": [{\"marker\": {\"colorbar\": {\"outlinewidth\": 0, \"ticks\": \"\"}}, \"type\": \"scatterpolargl\"}], \"scatterternary\": [{\"marker\": {\"colorbar\": {\"outlinewidth\": 0, \"ticks\": \"\"}}, \"type\": \"scatterternary\"}], \"surface\": [{\"colorbar\": {\"outlinewidth\": 0, \"ticks\": \"\"}, \"colorscale\": [[0.0, \"#0d0887\"], [0.1111111111111111, \"#46039f\"], [0.2222222222222222, \"#7201a8\"], [0.3333333333333333, \"#9c179e\"], [0.4444444444444444, \"#bd3786\"], [0.5555555555555556, \"#d8576b\"], [0.6666666666666666, \"#ed7953\"], [0.7777777777777778, \"#fb9f3a\"], [0.8888888888888888, \"#fdca26\"], [1.0, \"#f0f921\"]], \"type\": \"surface\"}], \"table\": [{\"cells\": {\"fill\": {\"color\": \"#EBF0F8\"}, \"line\": {\"color\": \"white\"}}, \"header\": {\"fill\": {\"color\": \"#C8D4E3\"}, \"line\": {\"color\": \"white\"}}, \"type\": \"table\"}]}, \"layout\": {\"annotationdefaults\": {\"arrowcolor\": \"#2a3f5f\", \"arrowhead\": 0, \"arrowwidth\": 1}, \"autotypenumbers\": \"strict\", \"coloraxis\": {\"colorbar\": {\"outlinewidth\": 0, \"ticks\": \"\"}}, \"colorscale\": {\"diverging\": [[0, \"#8e0152\"], [0.1, \"#c51b7d\"], [0.2, \"#de77ae\"], [0.3, \"#f1b6da\"], [0.4, \"#fde0ef\"], [0.5, \"#f7f7f7\"], [0.6, \"#e6f5d0\"], [0.7, \"#b8e186\"], [0.8, \"#7fbc41\"], [0.9, \"#4d9221\"], [1, \"#276419\"]], \"sequential\": [[0.0, \"#0d0887\"], [0.1111111111111111, \"#46039f\"], [0.2222222222222222, \"#7201a8\"], [0.3333333333333333, \"#9c179e\"], [0.4444444444444444, \"#bd3786\"], [0.5555555555555556, \"#d8576b\"], [0.6666666666666666, \"#ed7953\"], [0.7777777777777778, \"#fb9f3a\"], [0.8888888888888888, \"#fdca26\"], [1.0, \"#f0f921\"]], \"sequentialminus\": [[0.0, \"#0d0887\"], [0.1111111111111111, \"#46039f\"], [0.2222222222222222, \"#7201a8\"], [0.3333333333333333, \"#9c179e\"], [0.4444444444444444, \"#bd3786\"], [0.5555555555555556, \"#d8576b\"], [0.6666666666666666, \"#ed7953\"], [0.7777777777777778, \"#fb9f3a\"], [0.8888888888888888, \"#fdca26\"], [1.0, \"#f0f921\"]]}, \"colorway\": [\"#636efa\", \"#EF553B\", \"#00cc96\", \"#ab63fa\", \"#FFA15A\", \"#19d3f3\", \"#FF6692\", \"#B6E880\", \"#FF97FF\", \"#FECB52\"], \"font\": {\"color\": \"#2a3f5f\"}, \"geo\": {\"bgcolor\": \"white\", \"lakecolor\": \"white\", \"landcolor\": \"#E5ECF6\", \"showlakes\": true, \"showland\": true, \"subunitcolor\": \"white\"}, \"hoverlabel\": {\"align\": \"left\"}, \"hovermode\": \"closest\", \"mapbox\": {\"style\": \"light\"}, \"paper_bgcolor\": \"white\", \"plot_bgcolor\": \"#E5ECF6\", \"polar\": {\"angularaxis\": {\"gridcolor\": \"white\", \"linecolor\": \"white\", \"ticks\": \"\"}, \"bgcolor\": \"#E5ECF6\", \"radialaxis\": {\"gridcolor\": \"white\", \"linecolor\": \"white\", \"ticks\": \"\"}}, \"scene\": {\"xaxis\": {\"backgroundcolor\": \"#E5ECF6\", \"gridcolor\": \"white\", \"gridwidth\": 2, \"linecolor\": \"white\", \"showbackground\": true, \"ticks\": \"\", \"zerolinecolor\": \"white\"}, \"yaxis\": {\"backgroundcolor\": \"#E5ECF6\", \"gridcolor\": \"white\", \"gridwidth\": 2, \"linecolor\": \"white\", \"showbackground\": true, \"ticks\": \"\", \"zerolinecolor\": \"white\"}, \"zaxis\": {\"backgroundcolor\": \"#E5ECF6\", \"gridcolor\": \"white\", \"gridwidth\": 2, \"linecolor\": \"white\", \"showbackground\": true, \"ticks\": \"\", \"zerolinecolor\": \"white\"}}, \"shapedefaults\": {\"line\": {\"color\": \"#2a3f5f\"}}, \"ternary\": {\"aaxis\": {\"gridcolor\": \"white\", \"linecolor\": \"white\", \"ticks\": \"\"}, \"baxis\": {\"gridcolor\": \"white\", \"linecolor\": \"white\", \"ticks\": \"\"}, \"bgcolor\": \"#E5ECF6\", \"caxis\": {\"gridcolor\": \"white\", \"linecolor\": \"white\", \"ticks\": \"\"}}, \"title\": {\"x\": 0.05}, \"xaxis\": {\"automargin\": true, \"gridcolor\": \"white\", \"linecolor\": \"white\", \"ticks\": \"\", \"title\": {\"standoff\": 15}, \"zerolinecolor\": \"white\", \"zerolinewidth\": 2}, \"yaxis\": {\"automargin\": true, \"gridcolor\": \"white\", \"linecolor\": \"white\", \"ticks\": \"\", \"title\": {\"standoff\": 15}, \"zerolinecolor\": \"white\", \"zerolinewidth\": 2}}}},                        {\"responsive\": true}                    ).then(function(){\n",
       "                            \n",
       "var gd = document.getElementById('2e04d62f-1452-4b94-b62c-8e2a3e3f64ee');\n",
       "var x = new MutationObserver(function (mutations, observer) {{\n",
       "        var display = window.getComputedStyle(gd).display;\n",
       "        if (!display || display === 'none') {{\n",
       "            console.log([gd, 'removed!']);\n",
       "            Plotly.purge(gd);\n",
       "            observer.disconnect();\n",
       "        }}\n",
       "}});\n",
       "\n",
       "// Listen for the removal of the full notebook cells\n",
       "var notebookContainer = gd.closest('#notebook-container');\n",
       "if (notebookContainer) {{\n",
       "    x.observe(notebookContainer, {childList: true});\n",
       "}}\n",
       "\n",
       "// Listen for the clearing of the current output cell\n",
       "var outputEl = gd.closest('.output');\n",
       "if (outputEl) {{\n",
       "    x.observe(outputEl, {childList: true});\n",
       "}}\n",
       "\n",
       "                        })                };                });            </script>        </div>"
      ]
     },
     "metadata": {},
     "output_type": "display_data"
    }
   ],
   "source": [
    "fig = go.Figure()\n",
    "\n",
    "for col in cnn_iter_results.columns[1:]:\n",
    "    fig.add_trace(go.Scatter(x= cnn_iter_results['Unnamed: 0'], y=cnn_iter_results[col],  mode='markers', name=col))\n",
    "    \n",
    "fig.show()"
   ]
  },
  {
   "cell_type": "markdown",
   "id": "induced-halloween",
   "metadata": {},
   "source": [
    "## Grid + PC level NN"
   ]
  },
  {
   "cell_type": "code",
   "execution_count": 40,
   "id": "latin-ecology",
   "metadata": {},
   "outputs": [],
   "source": [
    "def sum_fc_results(ts_array, model_path):\n",
    "    dfs = []\n",
    "    for ts in ts_array:\n",
    "        ts_fc = pd.read_csv(f'../{model_path}/{ts}.csv', index_col=[0])[['fc']]\n",
    "        dfs.append(ts_fc)\n",
    "    concat_df = pd.concat(dfs, axis=1).sum(axis=1)\n",
    "    return concat_df"
   ]
  },
  {
   "cell_type": "code",
   "execution_count": 41,
   "id": "federal-washington",
   "metadata": {},
   "outputs": [],
   "source": [
    "def calculate_grid_error(start, end, model_path, error_metric):\n",
    "    if end == -1:\n",
    "        ts_array = const.TS[start: ]\n",
    "    else:\n",
    "        ts_array = const.TS[start: end]\n",
    "    data = pd.read_csv(f'../ts_data/grid.csv', index_col=[0])\n",
    "    look_back = 14 * 7  # 14 hours in to 7 days\n",
    "\n",
    "    # train, val, test split\n",
    "    train, val, test = util.split_hourly_data(data, look_back)\n",
    "    train_df = train[['power']]\n",
    "    denom = err.calculate_denom(train_df, const.H_SEASONALITY)\n",
    "    \n",
    "    results_df = pd.read_csv(f'../{model_path}/grid.csv', index_col=[0])\n",
    "    test_sample = results_df['power'].values\n",
    "    forecasts = sum_fc_results(ts_array, model_path).values\n",
    "    horizon = 14\n",
    "    \n",
    "    if error_metric == \"RMSE\":\n",
    "        mean_err, error_dist = err.test_errors_nrmse(train_df.values, test_sample, forecasts, horizon)\n",
    "    else:\n",
    "        mean_err, error_dist = err.test_errors(train_df, test_sample, forecasts, horizon, const.H_SEASONALITY, denom)\n",
    "        \n",
    "    return mean_err, error_dist"
   ]
  },
  {
   "cell_type": "code",
   "execution_count": 43,
   "id": "certified-jimmy",
   "metadata": {},
   "outputs": [],
   "source": [
    "rmse_error, rmse_dist = calculate_grid_error(0, 1, 'combined_nn_results', \"RMSE\")"
   ]
  },
  {
   "cell_type": "code",
   "execution_count": 86,
   "id": "external-harvey",
   "metadata": {},
   "outputs": [
    {
     "data": {
      "text/plain": [
       "0.5857013669439975"
      ]
     },
     "execution_count": 86,
     "metadata": {},
     "output_type": "execute_result"
    }
   ],
   "source": [
    "# rmse_dist\n",
    "rmse_error"
   ]
  },
  {
   "cell_type": "code",
   "execution_count": 55,
   "id": "boring-blink",
   "metadata": {},
   "outputs": [],
   "source": [
    "rmse_error2, rmse_dist2 = calculate_grid_error(0, 1, 'combined_nn_results/loss_0.001', \"RMSE\")"
   ]
  },
  {
   "cell_type": "code",
   "execution_count": 56,
   "id": "julian-break",
   "metadata": {},
   "outputs": [
    {
     "data": {
      "text/plain": [
       "1.26047984138004"
      ]
     },
     "execution_count": 56,
     "metadata": {},
     "output_type": "execute_result"
    }
   ],
   "source": [
    "rmse_error2"
   ]
  },
  {
   "cell_type": "code",
   "execution_count": 64,
   "id": "unusual-central",
   "metadata": {},
   "outputs": [],
   "source": [
    "rmse_error3, rmse_dist3 = calculate_grid_error(0, 1, 'combined_nn_results/model1', \"RMSE\")"
   ]
  },
  {
   "cell_type": "code",
   "execution_count": 65,
   "id": "communist-trinidad",
   "metadata": {},
   "outputs": [
    {
     "data": {
      "text/plain": [
       "0.5863197314945559"
      ]
     },
     "execution_count": 65,
     "metadata": {},
     "output_type": "execute_result"
    }
   ],
   "source": [
    "rmse_error3"
   ]
  },
  {
   "cell_type": "code",
   "execution_count": 66,
   "id": "necessary-mapping",
   "metadata": {},
   "outputs": [],
   "source": [
    "rmse_error4, rmse_dist4 = calculate_grid_error(0, 1, 'combined_nn_results/model2', \"RMSE\")"
   ]
  },
  {
   "cell_type": "code",
   "execution_count": 67,
   "id": "anticipated-album",
   "metadata": {},
   "outputs": [
    {
     "data": {
      "text/plain": [
       "0.6398894618933153"
      ]
     },
     "execution_count": 67,
     "metadata": {},
     "output_type": "execute_result"
    }
   ],
   "source": [
    "rmse_error4"
   ]
  },
  {
   "cell_type": "code",
   "execution_count": 74,
   "id": "chronic-flood",
   "metadata": {},
   "outputs": [],
   "source": [
    "rmse_error5, rmse_dist5 = calculate_grid_error(0, 1, 'combined_nn_results/model3', \"RMSE\")"
   ]
  },
  {
   "cell_type": "code",
   "execution_count": 75,
   "id": "civilian-charles",
   "metadata": {},
   "outputs": [
    {
     "data": {
      "text/plain": [
       "1.0586457223920296"
      ]
     },
     "execution_count": 75,
     "metadata": {},
     "output_type": "execute_result"
    }
   ],
   "source": [
    "rmse_error5"
   ]
  },
  {
   "cell_type": "code",
   "execution_count": 82,
   "id": "continuing-submission",
   "metadata": {},
   "outputs": [],
   "source": [
    "rmse_error6, rmse_dist6 = calculate_grid_error(0, 1, 'combined_nn_results/model4', \"RMSE\")"
   ]
  },
  {
   "cell_type": "code",
   "execution_count": 83,
   "id": "noticed-machine",
   "metadata": {},
   "outputs": [
    {
     "data": {
      "text/plain": [
       "0.7490994565629006"
      ]
     },
     "execution_count": 83,
     "metadata": {},
     "output_type": "execute_result"
    }
   ],
   "source": [
    "rmse_error6"
   ]
  },
  {
   "cell_type": "code",
   "execution_count": 90,
   "id": "sapphire-elimination",
   "metadata": {},
   "outputs": [
    {
     "data": {
      "application/vnd.plotly.v1+json": {
       "config": {
        "plotlyServerURL": "https://plot.ly"
       },
       "data": [
        {
         "name": "Current Approach (1)",
         "type": "box",
         "y": [
          0.5908299371379412,
          0.5703023564937467,
          0.4994043847409167,
          0.5439039473030666,
          0.4544098139526558,
          0.4900967868342148,
          0.5220556152672474,
          0.6146954053181821,
          0.4929930544305173,
          0.5253222519533094,
          0.4885454620280974,
          0.5510622545988608,
          0.5102723502963203,
          0.48122402333563835,
          0.8201550137094344,
          0.6113047647022007,
          0.871631191709181,
          0.5539579970049272,
          0.48514558436504596,
          0.47089584092708503,
          0.4528833745016835,
          0.5713096186124315,
          0.6553798001512552,
          0.6233013414851745,
          0.6954695351311732,
          0.4892113985834874,
          0.46598493465044305,
          0.4834263641354239,
          1.2262919898719862,
          0.9720363332195838,
          0.5468520001841871,
          0.5220117394343579,
          0.47921534767484936,
          0.5369052901143461,
          0.6964349537090426,
          0.5203271524158937
         ]
        },
        {
         "name": "Current Approach (2)",
         "type": "box",
         "y": [
          0.9601732906540966,
          1.1313015619114184,
          1.4053024526463163,
          1.5551943996911521,
          1.3626880093850398,
          1.5109703407124782,
          1.6042354275798798,
          1.232681197093853,
          1.3491114618340043,
          1.1499870306770852,
          1.10176364533461,
          1.4845293589921638,
          1.533381653560418,
          1.5415618822893506,
          1.121529290877659,
          1.0488378947152988,
          0.8689337036749356,
          1.234934860984181,
          1.4214330947827152,
          1.4811410482958975,
          1.5651852636990191,
          1.2241923056860082,
          1.2728940053496876,
          1.3530842344290197,
          1.1615846002473191,
          1.3741045226995663,
          1.5536928116328634,
          1.46795980818407,
          0.5667778218394021,
          0.7081924302065465,
          0.945554630840877,
          1.1287770407991453,
          1.2348276164868517,
          0.9736354893711289,
          1.5621403576003523,
          1.1849797449170316
         ]
        },
        {
         "name": "Current Approach (3)",
         "type": "box",
         "y": [
          0.5946857740856462,
          0.5565309242927798,
          0.4999100612089187,
          0.48737899417878167,
          0.44753003576722233,
          0.48003425123815097,
          0.48540034465568804,
          0.6072504535507358,
          0.49067132499695804,
          0.5456879334437474,
          0.5034296113975651,
          0.5287722560980281,
          0.48814304189043944,
          0.468669721557862,
          0.8168088972940246,
          0.5922144389915116,
          0.9241094667523162,
          0.5531342436470675,
          0.46726265564339403,
          0.45385757169301766,
          0.45418881453153903,
          0.697784578020089,
          0.6494480523373607,
          0.635685182489578,
          0.714657395698587,
          0.4881479567426391,
          0.46456294235316387,
          0.4734864669705637,
          1.2367459193062347,
          1.0331773677998612,
          0.5571125289710372,
          0.5144822561517991,
          0.4714565575856286,
          0.5499686736384378,
          0.6390248462575596,
          0.5360987925660766
         ]
        },
        {
         "name": "Current Approach (4)",
         "type": "box",
         "y": [
          0.6838888120357588,
          0.7072339521884233,
          0.5543845761163728,
          0.7273800365355239,
          0.45856975682087636,
          0.6035182536306101,
          0.742187784285501,
          0.6337738977359108,
          0.565602386857459,
          0.8810073270027212,
          0.5725676492108279,
          0.6460468921137428,
          0.5072780992752073,
          0.5277469386455365,
          0.9557101389520914,
          0.6838257578509733,
          0.7506032542272987,
          0.5573373146771586,
          0.5644801461808644,
          0.630722733284933,
          0.48202249059070446,
          0.5682953935831673,
          0.751613655937086,
          0.7106048299201613,
          0.8800079343041121,
          0.5365881424639432,
          0.4839887472059103,
          0.5014118279151821,
          0.9687909747382796,
          0.7713625696300392,
          0.6030426535053329,
          0.5861151533231583,
          0.5444221740935962,
          0.5718529500953652,
          0.5452814190771335,
          0.5767540041483862
         ]
        },
        {
         "name": "Current Approach (5)",
         "type": "box",
         "y": [
          0.9604236339012868,
          0.7556464286711203,
          1.452645343895046,
          1.3779258057948818,
          1.3116064598215313,
          0.9090295749402809,
          1.071653241407014,
          0.9116269238200946,
          1.050676351969911,
          1.375533888268513,
          0.6173714291428605,
          0.7376729904073864,
          0.7025322478806286,
          0.7499424778802208,
          1.098476794335331,
          1.19191549081074,
          1.3293961847273985,
          0.9958717812082791,
          0.7836641972253938,
          0.758621202426552,
          1.0366169056244754,
          1.0880994440629272,
          1.0188649858888803,
          1.3837440277095907,
          1.381968762150732,
          0.9075358353005105,
          1.3848361611803182,
          0.8612206812701515,
          1.8830610729111934,
          1.0070657887804206,
          1.2347308548043752,
          0.9932436142370978,
          0.880877773146363,
          0.906794821202131,
          0.6016639862997063,
          1.398688843009717
         ]
        },
        {
         "name": "Current Approach (6)",
         "type": "box",
         "y": [
          0.6498342861391091,
          0.7340081978981948,
          0.7344195670539382,
          0.7727404739638067,
          0.6588684675330679,
          0.7307375653375461,
          0.9400849326805207,
          0.632428481844412,
          0.7404342764298417,
          0.6898138349562483,
          0.690681999652328,
          0.7962866738573978,
          0.8450847460737397,
          0.7816265163381589,
          0.6839887343427993,
          0.5665283082996952,
          0.8035888658948501,
          0.6504902632934514,
          0.708332689517745,
          0.7032873676026309,
          0.842666523980401,
          0.6120558927509101,
          0.7418420271857257,
          0.7448338719290079,
          0.679820082263135,
          0.6746017827013513,
          0.804061511908605,
          0.7582209241821745,
          1.1852966907167994,
          1.308300711244894,
          0.6379010734549052,
          0.6456675055795537,
          0.6607449371884901,
          0.5560689389802705,
          0.9686715067150724,
          0.6335602067736392
         ]
        }
       ],
       "layout": {
        "template": {
         "data": {
          "bar": [
           {
            "error_x": {
             "color": "#2a3f5f"
            },
            "error_y": {
             "color": "#2a3f5f"
            },
            "marker": {
             "line": {
              "color": "#E5ECF6",
              "width": 0.5
             }
            },
            "type": "bar"
           }
          ],
          "barpolar": [
           {
            "marker": {
             "line": {
              "color": "#E5ECF6",
              "width": 0.5
             }
            },
            "type": "barpolar"
           }
          ],
          "carpet": [
           {
            "aaxis": {
             "endlinecolor": "#2a3f5f",
             "gridcolor": "white",
             "linecolor": "white",
             "minorgridcolor": "white",
             "startlinecolor": "#2a3f5f"
            },
            "baxis": {
             "endlinecolor": "#2a3f5f",
             "gridcolor": "white",
             "linecolor": "white",
             "minorgridcolor": "white",
             "startlinecolor": "#2a3f5f"
            },
            "type": "carpet"
           }
          ],
          "choropleth": [
           {
            "colorbar": {
             "outlinewidth": 0,
             "ticks": ""
            },
            "type": "choropleth"
           }
          ],
          "contour": [
           {
            "colorbar": {
             "outlinewidth": 0,
             "ticks": ""
            },
            "colorscale": [
             [
              0,
              "#0d0887"
             ],
             [
              0.1111111111111111,
              "#46039f"
             ],
             [
              0.2222222222222222,
              "#7201a8"
             ],
             [
              0.3333333333333333,
              "#9c179e"
             ],
             [
              0.4444444444444444,
              "#bd3786"
             ],
             [
              0.5555555555555556,
              "#d8576b"
             ],
             [
              0.6666666666666666,
              "#ed7953"
             ],
             [
              0.7777777777777778,
              "#fb9f3a"
             ],
             [
              0.8888888888888888,
              "#fdca26"
             ],
             [
              1,
              "#f0f921"
             ]
            ],
            "type": "contour"
           }
          ],
          "contourcarpet": [
           {
            "colorbar": {
             "outlinewidth": 0,
             "ticks": ""
            },
            "type": "contourcarpet"
           }
          ],
          "heatmap": [
           {
            "colorbar": {
             "outlinewidth": 0,
             "ticks": ""
            },
            "colorscale": [
             [
              0,
              "#0d0887"
             ],
             [
              0.1111111111111111,
              "#46039f"
             ],
             [
              0.2222222222222222,
              "#7201a8"
             ],
             [
              0.3333333333333333,
              "#9c179e"
             ],
             [
              0.4444444444444444,
              "#bd3786"
             ],
             [
              0.5555555555555556,
              "#d8576b"
             ],
             [
              0.6666666666666666,
              "#ed7953"
             ],
             [
              0.7777777777777778,
              "#fb9f3a"
             ],
             [
              0.8888888888888888,
              "#fdca26"
             ],
             [
              1,
              "#f0f921"
             ]
            ],
            "type": "heatmap"
           }
          ],
          "heatmapgl": [
           {
            "colorbar": {
             "outlinewidth": 0,
             "ticks": ""
            },
            "colorscale": [
             [
              0,
              "#0d0887"
             ],
             [
              0.1111111111111111,
              "#46039f"
             ],
             [
              0.2222222222222222,
              "#7201a8"
             ],
             [
              0.3333333333333333,
              "#9c179e"
             ],
             [
              0.4444444444444444,
              "#bd3786"
             ],
             [
              0.5555555555555556,
              "#d8576b"
             ],
             [
              0.6666666666666666,
              "#ed7953"
             ],
             [
              0.7777777777777778,
              "#fb9f3a"
             ],
             [
              0.8888888888888888,
              "#fdca26"
             ],
             [
              1,
              "#f0f921"
             ]
            ],
            "type": "heatmapgl"
           }
          ],
          "histogram": [
           {
            "marker": {
             "colorbar": {
              "outlinewidth": 0,
              "ticks": ""
             }
            },
            "type": "histogram"
           }
          ],
          "histogram2d": [
           {
            "colorbar": {
             "outlinewidth": 0,
             "ticks": ""
            },
            "colorscale": [
             [
              0,
              "#0d0887"
             ],
             [
              0.1111111111111111,
              "#46039f"
             ],
             [
              0.2222222222222222,
              "#7201a8"
             ],
             [
              0.3333333333333333,
              "#9c179e"
             ],
             [
              0.4444444444444444,
              "#bd3786"
             ],
             [
              0.5555555555555556,
              "#d8576b"
             ],
             [
              0.6666666666666666,
              "#ed7953"
             ],
             [
              0.7777777777777778,
              "#fb9f3a"
             ],
             [
              0.8888888888888888,
              "#fdca26"
             ],
             [
              1,
              "#f0f921"
             ]
            ],
            "type": "histogram2d"
           }
          ],
          "histogram2dcontour": [
           {
            "colorbar": {
             "outlinewidth": 0,
             "ticks": ""
            },
            "colorscale": [
             [
              0,
              "#0d0887"
             ],
             [
              0.1111111111111111,
              "#46039f"
             ],
             [
              0.2222222222222222,
              "#7201a8"
             ],
             [
              0.3333333333333333,
              "#9c179e"
             ],
             [
              0.4444444444444444,
              "#bd3786"
             ],
             [
              0.5555555555555556,
              "#d8576b"
             ],
             [
              0.6666666666666666,
              "#ed7953"
             ],
             [
              0.7777777777777778,
              "#fb9f3a"
             ],
             [
              0.8888888888888888,
              "#fdca26"
             ],
             [
              1,
              "#f0f921"
             ]
            ],
            "type": "histogram2dcontour"
           }
          ],
          "mesh3d": [
           {
            "colorbar": {
             "outlinewidth": 0,
             "ticks": ""
            },
            "type": "mesh3d"
           }
          ],
          "parcoords": [
           {
            "line": {
             "colorbar": {
              "outlinewidth": 0,
              "ticks": ""
             }
            },
            "type": "parcoords"
           }
          ],
          "pie": [
           {
            "automargin": true,
            "type": "pie"
           }
          ],
          "scatter": [
           {
            "marker": {
             "colorbar": {
              "outlinewidth": 0,
              "ticks": ""
             }
            },
            "type": "scatter"
           }
          ],
          "scatter3d": [
           {
            "line": {
             "colorbar": {
              "outlinewidth": 0,
              "ticks": ""
             }
            },
            "marker": {
             "colorbar": {
              "outlinewidth": 0,
              "ticks": ""
             }
            },
            "type": "scatter3d"
           }
          ],
          "scattercarpet": [
           {
            "marker": {
             "colorbar": {
              "outlinewidth": 0,
              "ticks": ""
             }
            },
            "type": "scattercarpet"
           }
          ],
          "scattergeo": [
           {
            "marker": {
             "colorbar": {
              "outlinewidth": 0,
              "ticks": ""
             }
            },
            "type": "scattergeo"
           }
          ],
          "scattergl": [
           {
            "marker": {
             "colorbar": {
              "outlinewidth": 0,
              "ticks": ""
             }
            },
            "type": "scattergl"
           }
          ],
          "scattermapbox": [
           {
            "marker": {
             "colorbar": {
              "outlinewidth": 0,
              "ticks": ""
             }
            },
            "type": "scattermapbox"
           }
          ],
          "scatterpolar": [
           {
            "marker": {
             "colorbar": {
              "outlinewidth": 0,
              "ticks": ""
             }
            },
            "type": "scatterpolar"
           }
          ],
          "scatterpolargl": [
           {
            "marker": {
             "colorbar": {
              "outlinewidth": 0,
              "ticks": ""
             }
            },
            "type": "scatterpolargl"
           }
          ],
          "scatterternary": [
           {
            "marker": {
             "colorbar": {
              "outlinewidth": 0,
              "ticks": ""
             }
            },
            "type": "scatterternary"
           }
          ],
          "surface": [
           {
            "colorbar": {
             "outlinewidth": 0,
             "ticks": ""
            },
            "colorscale": [
             [
              0,
              "#0d0887"
             ],
             [
              0.1111111111111111,
              "#46039f"
             ],
             [
              0.2222222222222222,
              "#7201a8"
             ],
             [
              0.3333333333333333,
              "#9c179e"
             ],
             [
              0.4444444444444444,
              "#bd3786"
             ],
             [
              0.5555555555555556,
              "#d8576b"
             ],
             [
              0.6666666666666666,
              "#ed7953"
             ],
             [
              0.7777777777777778,
              "#fb9f3a"
             ],
             [
              0.8888888888888888,
              "#fdca26"
             ],
             [
              1,
              "#f0f921"
             ]
            ],
            "type": "surface"
           }
          ],
          "table": [
           {
            "cells": {
             "fill": {
              "color": "#EBF0F8"
             },
             "line": {
              "color": "white"
             }
            },
            "header": {
             "fill": {
              "color": "#C8D4E3"
             },
             "line": {
              "color": "white"
             }
            },
            "type": "table"
           }
          ]
         },
         "layout": {
          "annotationdefaults": {
           "arrowcolor": "#2a3f5f",
           "arrowhead": 0,
           "arrowwidth": 1
          },
          "autotypenumbers": "strict",
          "coloraxis": {
           "colorbar": {
            "outlinewidth": 0,
            "ticks": ""
           }
          },
          "colorscale": {
           "diverging": [
            [
             0,
             "#8e0152"
            ],
            [
             0.1,
             "#c51b7d"
            ],
            [
             0.2,
             "#de77ae"
            ],
            [
             0.3,
             "#f1b6da"
            ],
            [
             0.4,
             "#fde0ef"
            ],
            [
             0.5,
             "#f7f7f7"
            ],
            [
             0.6,
             "#e6f5d0"
            ],
            [
             0.7,
             "#b8e186"
            ],
            [
             0.8,
             "#7fbc41"
            ],
            [
             0.9,
             "#4d9221"
            ],
            [
             1,
             "#276419"
            ]
           ],
           "sequential": [
            [
             0,
             "#0d0887"
            ],
            [
             0.1111111111111111,
             "#46039f"
            ],
            [
             0.2222222222222222,
             "#7201a8"
            ],
            [
             0.3333333333333333,
             "#9c179e"
            ],
            [
             0.4444444444444444,
             "#bd3786"
            ],
            [
             0.5555555555555556,
             "#d8576b"
            ],
            [
             0.6666666666666666,
             "#ed7953"
            ],
            [
             0.7777777777777778,
             "#fb9f3a"
            ],
            [
             0.8888888888888888,
             "#fdca26"
            ],
            [
             1,
             "#f0f921"
            ]
           ],
           "sequentialminus": [
            [
             0,
             "#0d0887"
            ],
            [
             0.1111111111111111,
             "#46039f"
            ],
            [
             0.2222222222222222,
             "#7201a8"
            ],
            [
             0.3333333333333333,
             "#9c179e"
            ],
            [
             0.4444444444444444,
             "#bd3786"
            ],
            [
             0.5555555555555556,
             "#d8576b"
            ],
            [
             0.6666666666666666,
             "#ed7953"
            ],
            [
             0.7777777777777778,
             "#fb9f3a"
            ],
            [
             0.8888888888888888,
             "#fdca26"
            ],
            [
             1,
             "#f0f921"
            ]
           ]
          },
          "colorway": [
           "#636efa",
           "#EF553B",
           "#00cc96",
           "#ab63fa",
           "#FFA15A",
           "#19d3f3",
           "#FF6692",
           "#B6E880",
           "#FF97FF",
           "#FECB52"
          ],
          "font": {
           "color": "#2a3f5f"
          },
          "geo": {
           "bgcolor": "white",
           "lakecolor": "white",
           "landcolor": "#E5ECF6",
           "showlakes": true,
           "showland": true,
           "subunitcolor": "white"
          },
          "hoverlabel": {
           "align": "left"
          },
          "hovermode": "closest",
          "mapbox": {
           "style": "light"
          },
          "paper_bgcolor": "white",
          "plot_bgcolor": "#E5ECF6",
          "polar": {
           "angularaxis": {
            "gridcolor": "white",
            "linecolor": "white",
            "ticks": ""
           },
           "bgcolor": "#E5ECF6",
           "radialaxis": {
            "gridcolor": "white",
            "linecolor": "white",
            "ticks": ""
           }
          },
          "scene": {
           "xaxis": {
            "backgroundcolor": "#E5ECF6",
            "gridcolor": "white",
            "gridwidth": 2,
            "linecolor": "white",
            "showbackground": true,
            "ticks": "",
            "zerolinecolor": "white"
           },
           "yaxis": {
            "backgroundcolor": "#E5ECF6",
            "gridcolor": "white",
            "gridwidth": 2,
            "linecolor": "white",
            "showbackground": true,
            "ticks": "",
            "zerolinecolor": "white"
           },
           "zaxis": {
            "backgroundcolor": "#E5ECF6",
            "gridcolor": "white",
            "gridwidth": 2,
            "linecolor": "white",
            "showbackground": true,
            "ticks": "",
            "zerolinecolor": "white"
           }
          },
          "shapedefaults": {
           "line": {
            "color": "#2a3f5f"
           }
          },
          "ternary": {
           "aaxis": {
            "gridcolor": "white",
            "linecolor": "white",
            "ticks": ""
           },
           "baxis": {
            "gridcolor": "white",
            "linecolor": "white",
            "ticks": ""
           },
           "bgcolor": "#E5ECF6",
           "caxis": {
            "gridcolor": "white",
            "linecolor": "white",
            "ticks": ""
           }
          },
          "title": {
           "x": 0.05
          },
          "xaxis": {
           "automargin": true,
           "gridcolor": "white",
           "linecolor": "white",
           "ticks": "",
           "title": {
            "standoff": 15
           },
           "zerolinecolor": "white",
           "zerolinewidth": 2
          },
          "yaxis": {
           "automargin": true,
           "gridcolor": "white",
           "linecolor": "white",
           "ticks": "",
           "title": {
            "standoff": 15
           },
           "zerolinecolor": "white",
           "zerolinewidth": 2
          }
         }
        }
       }
      },
      "text/html": [
       "<div>                            <div id=\"bb859c83-0c9c-43e7-922f-e32ec67b3c36\" class=\"plotly-graph-div\" style=\"height:525px; width:100%;\"></div>            <script type=\"text/javascript\">                require([\"plotly\"], function(Plotly) {                    window.PLOTLYENV=window.PLOTLYENV || {};                                    if (document.getElementById(\"bb859c83-0c9c-43e7-922f-e32ec67b3c36\")) {                    Plotly.newPlot(                        \"bb859c83-0c9c-43e7-922f-e32ec67b3c36\",                        [{\"name\": \"Current Approach (1)\", \"type\": \"box\", \"y\": [0.5908299371379412, 0.5703023564937467, 0.4994043847409167, 0.5439039473030666, 0.4544098139526558, 0.4900967868342148, 0.5220556152672474, 0.6146954053181821, 0.4929930544305173, 0.5253222519533094, 0.4885454620280974, 0.5510622545988608, 0.5102723502963203, 0.48122402333563835, 0.8201550137094344, 0.6113047647022007, 0.871631191709181, 0.5539579970049272, 0.48514558436504596, 0.47089584092708503, 0.4528833745016835, 0.5713096186124315, 0.6553798001512552, 0.6233013414851745, 0.6954695351311732, 0.4892113985834874, 0.46598493465044305, 0.4834263641354239, 1.2262919898719862, 0.9720363332195838, 0.5468520001841871, 0.5220117394343579, 0.47921534767484936, 0.5369052901143461, 0.6964349537090426, 0.5203271524158937]}, {\"name\": \"Current Approach (2)\", \"type\": \"box\", \"y\": [0.9601732906540966, 1.1313015619114184, 1.4053024526463163, 1.5551943996911521, 1.3626880093850398, 1.5109703407124782, 1.6042354275798798, 1.232681197093853, 1.3491114618340043, 1.1499870306770852, 1.10176364533461, 1.4845293589921638, 1.533381653560418, 1.5415618822893506, 1.121529290877659, 1.0488378947152988, 0.8689337036749356, 1.234934860984181, 1.4214330947827152, 1.4811410482958975, 1.5651852636990191, 1.2241923056860082, 1.2728940053496876, 1.3530842344290197, 1.1615846002473191, 1.3741045226995663, 1.5536928116328634, 1.46795980818407, 0.5667778218394021, 0.7081924302065465, 0.945554630840877, 1.1287770407991453, 1.2348276164868517, 0.9736354893711289, 1.5621403576003523, 1.1849797449170316]}, {\"name\": \"Current Approach (3)\", \"type\": \"box\", \"y\": [0.5946857740856462, 0.5565309242927798, 0.4999100612089187, 0.48737899417878167, 0.44753003576722233, 0.48003425123815097, 0.48540034465568804, 0.6072504535507358, 0.49067132499695804, 0.5456879334437474, 0.5034296113975651, 0.5287722560980281, 0.48814304189043944, 0.468669721557862, 0.8168088972940246, 0.5922144389915116, 0.9241094667523162, 0.5531342436470675, 0.46726265564339403, 0.45385757169301766, 0.45418881453153903, 0.697784578020089, 0.6494480523373607, 0.635685182489578, 0.714657395698587, 0.4881479567426391, 0.46456294235316387, 0.4734864669705637, 1.2367459193062347, 1.0331773677998612, 0.5571125289710372, 0.5144822561517991, 0.4714565575856286, 0.5499686736384378, 0.6390248462575596, 0.5360987925660766]}, {\"name\": \"Current Approach (4)\", \"type\": \"box\", \"y\": [0.6838888120357588, 0.7072339521884233, 0.5543845761163728, 0.7273800365355239, 0.45856975682087636, 0.6035182536306101, 0.742187784285501, 0.6337738977359108, 0.565602386857459, 0.8810073270027212, 0.5725676492108279, 0.6460468921137428, 0.5072780992752073, 0.5277469386455365, 0.9557101389520914, 0.6838257578509733, 0.7506032542272987, 0.5573373146771586, 0.5644801461808644, 0.630722733284933, 0.48202249059070446, 0.5682953935831673, 0.751613655937086, 0.7106048299201613, 0.8800079343041121, 0.5365881424639432, 0.4839887472059103, 0.5014118279151821, 0.9687909747382796, 0.7713625696300392, 0.6030426535053329, 0.5861151533231583, 0.5444221740935962, 0.5718529500953652, 0.5452814190771335, 0.5767540041483862]}, {\"name\": \"Current Approach (5)\", \"type\": \"box\", \"y\": [0.9604236339012868, 0.7556464286711203, 1.452645343895046, 1.3779258057948818, 1.3116064598215313, 0.9090295749402809, 1.071653241407014, 0.9116269238200946, 1.050676351969911, 1.375533888268513, 0.6173714291428605, 0.7376729904073864, 0.7025322478806286, 0.7499424778802208, 1.098476794335331, 1.19191549081074, 1.3293961847273985, 0.9958717812082791, 0.7836641972253938, 0.758621202426552, 1.0366169056244754, 1.0880994440629272, 1.0188649858888803, 1.3837440277095907, 1.381968762150732, 0.9075358353005105, 1.3848361611803182, 0.8612206812701515, 1.8830610729111934, 1.0070657887804206, 1.2347308548043752, 0.9932436142370978, 0.880877773146363, 0.906794821202131, 0.6016639862997063, 1.398688843009717]}, {\"name\": \"Current Approach (6)\", \"type\": \"box\", \"y\": [0.6498342861391091, 0.7340081978981948, 0.7344195670539382, 0.7727404739638067, 0.6588684675330679, 0.7307375653375461, 0.9400849326805207, 0.632428481844412, 0.7404342764298417, 0.6898138349562483, 0.690681999652328, 0.7962866738573978, 0.8450847460737397, 0.7816265163381589, 0.6839887343427993, 0.5665283082996952, 0.8035888658948501, 0.6504902632934514, 0.708332689517745, 0.7032873676026309, 0.842666523980401, 0.6120558927509101, 0.7418420271857257, 0.7448338719290079, 0.679820082263135, 0.6746017827013513, 0.804061511908605, 0.7582209241821745, 1.1852966907167994, 1.308300711244894, 0.6379010734549052, 0.6456675055795537, 0.6607449371884901, 0.5560689389802705, 0.9686715067150724, 0.6335602067736392]}],                        {\"template\": {\"data\": {\"bar\": [{\"error_x\": {\"color\": \"#2a3f5f\"}, \"error_y\": {\"color\": \"#2a3f5f\"}, \"marker\": {\"line\": {\"color\": \"#E5ECF6\", \"width\": 0.5}}, \"type\": \"bar\"}], \"barpolar\": [{\"marker\": {\"line\": {\"color\": \"#E5ECF6\", \"width\": 0.5}}, \"type\": \"barpolar\"}], \"carpet\": [{\"aaxis\": {\"endlinecolor\": \"#2a3f5f\", \"gridcolor\": \"white\", \"linecolor\": \"white\", \"minorgridcolor\": \"white\", \"startlinecolor\": \"#2a3f5f\"}, \"baxis\": {\"endlinecolor\": \"#2a3f5f\", \"gridcolor\": \"white\", \"linecolor\": \"white\", \"minorgridcolor\": \"white\", \"startlinecolor\": \"#2a3f5f\"}, \"type\": \"carpet\"}], \"choropleth\": [{\"colorbar\": {\"outlinewidth\": 0, \"ticks\": \"\"}, \"type\": \"choropleth\"}], \"contour\": [{\"colorbar\": {\"outlinewidth\": 0, \"ticks\": \"\"}, \"colorscale\": [[0.0, \"#0d0887\"], [0.1111111111111111, \"#46039f\"], [0.2222222222222222, \"#7201a8\"], [0.3333333333333333, \"#9c179e\"], [0.4444444444444444, \"#bd3786\"], [0.5555555555555556, \"#d8576b\"], [0.6666666666666666, \"#ed7953\"], [0.7777777777777778, \"#fb9f3a\"], [0.8888888888888888, \"#fdca26\"], [1.0, \"#f0f921\"]], \"type\": \"contour\"}], \"contourcarpet\": [{\"colorbar\": {\"outlinewidth\": 0, \"ticks\": \"\"}, \"type\": \"contourcarpet\"}], \"heatmap\": [{\"colorbar\": {\"outlinewidth\": 0, \"ticks\": \"\"}, \"colorscale\": [[0.0, \"#0d0887\"], [0.1111111111111111, \"#46039f\"], [0.2222222222222222, \"#7201a8\"], [0.3333333333333333, \"#9c179e\"], [0.4444444444444444, \"#bd3786\"], [0.5555555555555556, \"#d8576b\"], [0.6666666666666666, \"#ed7953\"], [0.7777777777777778, \"#fb9f3a\"], [0.8888888888888888, \"#fdca26\"], [1.0, \"#f0f921\"]], \"type\": \"heatmap\"}], \"heatmapgl\": [{\"colorbar\": {\"outlinewidth\": 0, \"ticks\": \"\"}, \"colorscale\": [[0.0, \"#0d0887\"], [0.1111111111111111, \"#46039f\"], [0.2222222222222222, \"#7201a8\"], [0.3333333333333333, \"#9c179e\"], [0.4444444444444444, \"#bd3786\"], [0.5555555555555556, \"#d8576b\"], [0.6666666666666666, \"#ed7953\"], [0.7777777777777778, \"#fb9f3a\"], [0.8888888888888888, \"#fdca26\"], [1.0, \"#f0f921\"]], \"type\": \"heatmapgl\"}], \"histogram\": [{\"marker\": {\"colorbar\": {\"outlinewidth\": 0, \"ticks\": \"\"}}, \"type\": \"histogram\"}], \"histogram2d\": [{\"colorbar\": {\"outlinewidth\": 0, \"ticks\": \"\"}, \"colorscale\": [[0.0, \"#0d0887\"], [0.1111111111111111, \"#46039f\"], [0.2222222222222222, \"#7201a8\"], [0.3333333333333333, \"#9c179e\"], [0.4444444444444444, \"#bd3786\"], [0.5555555555555556, \"#d8576b\"], [0.6666666666666666, \"#ed7953\"], [0.7777777777777778, \"#fb9f3a\"], [0.8888888888888888, \"#fdca26\"], [1.0, \"#f0f921\"]], \"type\": \"histogram2d\"}], \"histogram2dcontour\": [{\"colorbar\": {\"outlinewidth\": 0, \"ticks\": \"\"}, \"colorscale\": [[0.0, \"#0d0887\"], [0.1111111111111111, \"#46039f\"], [0.2222222222222222, \"#7201a8\"], [0.3333333333333333, \"#9c179e\"], [0.4444444444444444, \"#bd3786\"], [0.5555555555555556, \"#d8576b\"], [0.6666666666666666, \"#ed7953\"], [0.7777777777777778, \"#fb9f3a\"], [0.8888888888888888, \"#fdca26\"], [1.0, \"#f0f921\"]], \"type\": \"histogram2dcontour\"}], \"mesh3d\": [{\"colorbar\": {\"outlinewidth\": 0, \"ticks\": \"\"}, \"type\": \"mesh3d\"}], \"parcoords\": [{\"line\": {\"colorbar\": {\"outlinewidth\": 0, \"ticks\": \"\"}}, \"type\": \"parcoords\"}], \"pie\": [{\"automargin\": true, \"type\": \"pie\"}], \"scatter\": [{\"marker\": {\"colorbar\": {\"outlinewidth\": 0, \"ticks\": \"\"}}, \"type\": \"scatter\"}], \"scatter3d\": [{\"line\": {\"colorbar\": {\"outlinewidth\": 0, \"ticks\": \"\"}}, \"marker\": {\"colorbar\": {\"outlinewidth\": 0, \"ticks\": \"\"}}, \"type\": \"scatter3d\"}], \"scattercarpet\": [{\"marker\": {\"colorbar\": {\"outlinewidth\": 0, \"ticks\": \"\"}}, \"type\": \"scattercarpet\"}], \"scattergeo\": [{\"marker\": {\"colorbar\": {\"outlinewidth\": 0, \"ticks\": \"\"}}, \"type\": \"scattergeo\"}], \"scattergl\": [{\"marker\": {\"colorbar\": {\"outlinewidth\": 0, \"ticks\": \"\"}}, \"type\": \"scattergl\"}], \"scattermapbox\": [{\"marker\": {\"colorbar\": {\"outlinewidth\": 0, \"ticks\": \"\"}}, \"type\": \"scattermapbox\"}], \"scatterpolar\": [{\"marker\": {\"colorbar\": {\"outlinewidth\": 0, \"ticks\": \"\"}}, \"type\": \"scatterpolar\"}], \"scatterpolargl\": [{\"marker\": {\"colorbar\": {\"outlinewidth\": 0, \"ticks\": \"\"}}, \"type\": \"scatterpolargl\"}], \"scatterternary\": [{\"marker\": {\"colorbar\": {\"outlinewidth\": 0, \"ticks\": \"\"}}, \"type\": \"scatterternary\"}], \"surface\": [{\"colorbar\": {\"outlinewidth\": 0, \"ticks\": \"\"}, \"colorscale\": [[0.0, \"#0d0887\"], [0.1111111111111111, \"#46039f\"], [0.2222222222222222, \"#7201a8\"], [0.3333333333333333, \"#9c179e\"], [0.4444444444444444, \"#bd3786\"], [0.5555555555555556, \"#d8576b\"], [0.6666666666666666, \"#ed7953\"], [0.7777777777777778, \"#fb9f3a\"], [0.8888888888888888, \"#fdca26\"], [1.0, \"#f0f921\"]], \"type\": \"surface\"}], \"table\": [{\"cells\": {\"fill\": {\"color\": \"#EBF0F8\"}, \"line\": {\"color\": \"white\"}}, \"header\": {\"fill\": {\"color\": \"#C8D4E3\"}, \"line\": {\"color\": \"white\"}}, \"type\": \"table\"}]}, \"layout\": {\"annotationdefaults\": {\"arrowcolor\": \"#2a3f5f\", \"arrowhead\": 0, \"arrowwidth\": 1}, \"autotypenumbers\": \"strict\", \"coloraxis\": {\"colorbar\": {\"outlinewidth\": 0, \"ticks\": \"\"}}, \"colorscale\": {\"diverging\": [[0, \"#8e0152\"], [0.1, \"#c51b7d\"], [0.2, \"#de77ae\"], [0.3, \"#f1b6da\"], [0.4, \"#fde0ef\"], [0.5, \"#f7f7f7\"], [0.6, \"#e6f5d0\"], [0.7, \"#b8e186\"], [0.8, \"#7fbc41\"], [0.9, \"#4d9221\"], [1, \"#276419\"]], \"sequential\": [[0.0, \"#0d0887\"], [0.1111111111111111, \"#46039f\"], [0.2222222222222222, \"#7201a8\"], [0.3333333333333333, \"#9c179e\"], [0.4444444444444444, \"#bd3786\"], [0.5555555555555556, \"#d8576b\"], [0.6666666666666666, \"#ed7953\"], [0.7777777777777778, \"#fb9f3a\"], [0.8888888888888888, \"#fdca26\"], [1.0, \"#f0f921\"]], \"sequentialminus\": [[0.0, \"#0d0887\"], [0.1111111111111111, \"#46039f\"], [0.2222222222222222, \"#7201a8\"], [0.3333333333333333, \"#9c179e\"], [0.4444444444444444, \"#bd3786\"], [0.5555555555555556, \"#d8576b\"], [0.6666666666666666, \"#ed7953\"], [0.7777777777777778, \"#fb9f3a\"], [0.8888888888888888, \"#fdca26\"], [1.0, \"#f0f921\"]]}, \"colorway\": [\"#636efa\", \"#EF553B\", \"#00cc96\", \"#ab63fa\", \"#FFA15A\", \"#19d3f3\", \"#FF6692\", \"#B6E880\", \"#FF97FF\", \"#FECB52\"], \"font\": {\"color\": \"#2a3f5f\"}, \"geo\": {\"bgcolor\": \"white\", \"lakecolor\": \"white\", \"landcolor\": \"#E5ECF6\", \"showlakes\": true, \"showland\": true, \"subunitcolor\": \"white\"}, \"hoverlabel\": {\"align\": \"left\"}, \"hovermode\": \"closest\", \"mapbox\": {\"style\": \"light\"}, \"paper_bgcolor\": \"white\", \"plot_bgcolor\": \"#E5ECF6\", \"polar\": {\"angularaxis\": {\"gridcolor\": \"white\", \"linecolor\": \"white\", \"ticks\": \"\"}, \"bgcolor\": \"#E5ECF6\", \"radialaxis\": {\"gridcolor\": \"white\", \"linecolor\": \"white\", \"ticks\": \"\"}}, \"scene\": {\"xaxis\": {\"backgroundcolor\": \"#E5ECF6\", \"gridcolor\": \"white\", \"gridwidth\": 2, \"linecolor\": \"white\", \"showbackground\": true, \"ticks\": \"\", \"zerolinecolor\": \"white\"}, \"yaxis\": {\"backgroundcolor\": \"#E5ECF6\", \"gridcolor\": \"white\", \"gridwidth\": 2, \"linecolor\": \"white\", \"showbackground\": true, \"ticks\": \"\", \"zerolinecolor\": \"white\"}, \"zaxis\": {\"backgroundcolor\": \"#E5ECF6\", \"gridcolor\": \"white\", \"gridwidth\": 2, \"linecolor\": \"white\", \"showbackground\": true, \"ticks\": \"\", \"zerolinecolor\": \"white\"}}, \"shapedefaults\": {\"line\": {\"color\": \"#2a3f5f\"}}, \"ternary\": {\"aaxis\": {\"gridcolor\": \"white\", \"linecolor\": \"white\", \"ticks\": \"\"}, \"baxis\": {\"gridcolor\": \"white\", \"linecolor\": \"white\", \"ticks\": \"\"}, \"bgcolor\": \"#E5ECF6\", \"caxis\": {\"gridcolor\": \"white\", \"linecolor\": \"white\", \"ticks\": \"\"}}, \"title\": {\"x\": 0.05}, \"xaxis\": {\"automargin\": true, \"gridcolor\": \"white\", \"linecolor\": \"white\", \"ticks\": \"\", \"title\": {\"standoff\": 15}, \"zerolinecolor\": \"white\", \"zerolinewidth\": 2}, \"yaxis\": {\"automargin\": true, \"gridcolor\": \"white\", \"linecolor\": \"white\", \"ticks\": \"\", \"title\": {\"standoff\": 15}, \"zerolinecolor\": \"white\", \"zerolinewidth\": 2}}}},                        {\"responsive\": true}                    ).then(function(){\n",
       "                            \n",
       "var gd = document.getElementById('bb859c83-0c9c-43e7-922f-e32ec67b3c36');\n",
       "var x = new MutationObserver(function (mutations, observer) {{\n",
       "        var display = window.getComputedStyle(gd).display;\n",
       "        if (!display || display === 'none') {{\n",
       "            console.log([gd, 'removed!']);\n",
       "            Plotly.purge(gd);\n",
       "            observer.disconnect();\n",
       "        }}\n",
       "}});\n",
       "\n",
       "// Listen for the removal of the full notebook cells\n",
       "var notebookContainer = gd.closest('#notebook-container');\n",
       "if (notebookContainer) {{\n",
       "    x.observe(notebookContainer, {childList: true});\n",
       "}}\n",
       "\n",
       "// Listen for the clearing of the current output cell\n",
       "var outputEl = gd.closest('.output');\n",
       "if (outputEl) {{\n",
       "    x.observe(outputEl, {childList: true});\n",
       "}}\n",
       "\n",
       "                        })                };                });            </script>        </div>"
      ]
     },
     "metadata": {},
     "output_type": "display_data"
    }
   ],
   "source": [
    "fig_box = go.Figure()\n",
    "\n",
    "fig_box.add_trace(go.Box(y = rmse_dist, name= \"Current Approach (1)\"))\n",
    "fig_box.add_trace(go.Box(y = rmse_dist2, name= \"Current Approach (2)\"))\n",
    "fig_box.add_trace(go.Box(y = rmse_dist3, name= \"Current Approach (3)\"))\n",
    "fig_box.add_trace(go.Box(y = rmse_dist4, name= \"Current Approach (4)\"))\n",
    "fig_box.add_trace(go.Box(y = rmse_dist5, name= \"Current Approach (5)\"))\n",
    "fig_box.add_trace(go.Box(y = rmse_dist6, name= \"Current Approach (6)\"))\n",
    "fig_box.show()"
   ]
  },
  {
   "cell_type": "code",
   "execution_count": 57,
   "id": "dimensional-cyprus",
   "metadata": {},
   "outputs": [],
   "source": [
    "def read_loss_curve(path):\n",
    "    return pd.read_pickle(f'../{path}/training_loss_grid_iteration')"
   ]
  },
  {
   "cell_type": "code",
   "execution_count": 58,
   "id": "republican-afghanistan",
   "metadata": {},
   "outputs": [],
   "source": [
    "def plot_loss(loss_array, models):\n",
    "\n",
    "    fig = go.Figure()\n",
    "    \n",
    "    i =0\n",
    "    for loss in loss_array:\n",
    "        fig.add_trace(go.Scatter(y= loss['loss'] , name = f'{models[i]}_train-loss' ))\n",
    "        fig.add_trace(go.Scatter(y= loss['val_loss'], name = f'{models[i]}_val-loss'))\n",
    "        i +=1\n",
    "    fig.show()"
   ]
  },
  {
   "cell_type": "code",
   "execution_count": 59,
   "id": "wrong-naples",
   "metadata": {},
   "outputs": [],
   "source": [
    "loss = read_loss_curve('combined_nn_results')"
   ]
  },
  {
   "cell_type": "code",
   "execution_count": 60,
   "id": "simplified-aerospace",
   "metadata": {},
   "outputs": [
    {
     "data": {
      "application/vnd.plotly.v1+json": {
       "config": {
        "plotlyServerURL": "https://plot.ly"
       },
       "data": [
        {
         "name": "combined_nn_train-loss",
         "type": "scatter",
         "y": [
          1.0858913660049438,
          0.9649316072463989,
          0.9523940682411194,
          0.9492166042327881,
          0.9425086975097656,
          0.9394137859344482,
          0.9338079690933228,
          0.9242844581604004,
          0.9229106307029724,
          0.9219926595687866,
          0.9082212448120117,
          0.9022692441940308,
          0.9016770124435425,
          0.8929126858711243,
          0.890405535697937,
          0.8853495121002197,
          0.8884085416793823,
          0.8724134564399719,
          0.8687204718589783,
          0.8648239374160767,
          0.8652381896972656,
          0.8538679480552673,
          0.8522379398345947,
          0.8460294008255005,
          0.837958037853241,
          0.8422949314117432,
          0.8308820128440857,
          0.8312348127365112,
          0.8230451941490173,
          0.8204350471496582,
          0.8102223873138428,
          0.8096408247947693,
          0.8088890314102173,
          0.7945050597190857,
          0.797591507434845,
          0.7893047332763672,
          0.7896981835365295,
          0.7850426435470581,
          0.7775354981422424,
          0.7737632989883423,
          0.7698046565055847,
          0.7639977335929871,
          0.754348874092102,
          0.7461437582969666,
          0.7407127618789673,
          0.7322869896888733,
          0.7223427891731262,
          0.7103853821754456,
          0.7006491422653198,
          0.6983044743537903,
          0.6931405067443848,
          0.6859725117683411,
          0.6837517619132996,
          0.6768158078193665,
          0.6736200451850891,
          0.6717081069946289,
          0.6626372933387756,
          0.6612992882728577,
          0.6585321426391602,
          0.6608083844184875,
          0.656480610370636,
          0.6491031050682068,
          0.6505019664764404,
          0.6453042030334473,
          0.6454513072967529,
          0.6421410441398621,
          0.6329533457756042,
          0.635878324508667,
          0.632508397102356,
          0.6306143999099731,
          0.6314488649368286,
          0.6273205280303955,
          0.625388503074646,
          0.6278386116027832,
          0.6205945611000061,
          0.6211328506469727,
          0.6153775453567505,
          0.618408739566803,
          0.6140453815460205,
          0.6092774868011475,
          0.6092761754989624,
          0.6085368394851685,
          0.6065831184387207,
          0.6021286249160767,
          0.6002674102783203,
          0.6006497740745544,
          0.6002424955368042,
          0.595166027545929,
          0.5952492952346802,
          0.5949268937110901,
          0.5936447978019714,
          0.5912204384803772,
          0.5896021723747253,
          0.5855408906936646,
          0.5895294547080994,
          0.5865435600280762,
          0.5841506719589233,
          0.5856590270996094,
          0.5823566317558289,
          0.5780773162841797,
          0.5773456692695618,
          0.5766148567199707,
          0.5733592510223389,
          0.5724003314971924,
          0.5726420283317566,
          0.5720625519752502,
          0.5724037885665894,
          0.5678965449333191,
          0.5676888227462769,
          0.5685368776321411,
          0.5648918151855469,
          0.5624224543571472,
          0.5621893405914307,
          0.5633569955825806,
          0.559964656829834,
          0.5583527088165283,
          0.556214451789856,
          0.5561944842338562,
          0.5528983473777771,
          0.5517155528068542,
          0.5504367351531982,
          0.5500668287277222,
          0.5504708886146545,
          0.5505630970001221,
          0.548728883266449,
          0.5468928813934326,
          0.5469586253166199,
          0.5453875064849854,
          0.5461491942405701,
          0.5426313877105713,
          0.5404183268547058,
          0.5386976003646851,
          0.5390151739120483,
          0.5370008945465088,
          0.5373315811157227,
          0.536771833896637,
          0.5363903641700745,
          0.5326918959617615,
          0.5320630669593811,
          0.5323197841644287,
          0.5335037708282471,
          0.5309314727783203,
          0.5312073826789856,
          0.5273419618606567,
          0.5269721150398254,
          0.5261855125427246,
          0.5261504054069519,
          0.5222299098968506,
          0.5245162844657898,
          0.5196005702018738,
          0.5217452645301819,
          0.5194896459579468,
          0.5199975371360779,
          0.5179517865180969,
          0.5172677040100098,
          0.5159904360771179,
          0.5149992108345032,
          0.5138586759567261,
          0.515995442867279,
          0.5106918215751648,
          0.5101141929626465,
          0.512662947177887,
          0.5101224780082703,
          0.5105376839637756,
          0.5085602402687073,
          0.5127003788948059,
          0.5072006583213806,
          0.5066409707069397,
          0.5058750510215759,
          0.5061507225036621,
          0.5045937895774841,
          0.5030660629272461,
          0.5011785626411438,
          0.5010377168655396,
          0.5004014372825623,
          0.4978237450122833,
          0.5012800693511963,
          0.4995100498199463,
          0.4985697567462921,
          0.4967379868030548,
          0.49555110931396484,
          0.49367663264274597,
          0.4939570128917694,
          0.4962533414363861,
          0.4931744933128357,
          0.49360641837120056,
          0.4935905635356903,
          0.4918583929538727,
          0.4908972382545471,
          0.49018412828445435,
          0.49015212059020996,
          0.4888067841529846,
          0.486842542886734,
          0.486642062664032,
          0.4865686297416687,
          0.48572275042533875,
          0.48509034514427185,
          0.4847354292869568,
          0.4837188422679901,
          0.4845992922782898,
          0.4832156300544739,
          0.4822207987308502,
          0.4821336567401886,
          0.48126059770584106,
          0.48141008615493774,
          0.47986966371536255,
          0.48025044798851013,
          0.4801490604877472,
          0.4773741364479065,
          0.4777240455150604,
          0.4785689413547516,
          0.4760727286338806,
          0.47732943296432495,
          0.4772535264492035,
          0.476480633020401,
          0.47390663623809814,
          0.47614139318466187,
          0.47623613476753235,
          0.47320711612701416,
          0.47312790155410767,
          0.4734475910663605,
          0.47606387734413147,
          0.4729462265968323,
          0.4719092845916748,
          0.47075363993644714,
          0.4719031751155853,
          0.4696582555770874,
          0.46986258029937744,
          0.46865296363830566,
          0.47062093019485474,
          0.4687872529029846,
          0.4681019186973572,
          0.46814122796058655,
          0.4683529734611511,
          0.46806854009628296,
          0.46663978695869446,
          0.4659979045391083,
          0.464999258518219,
          0.46452629566192627,
          0.46495968103408813,
          0.46378034353256226,
          0.46556556224823,
          0.46459242701530457,
          0.46370792388916016,
          0.46438515186309814,
          0.46320268511772156,
          0.464124858379364,
          0.46241122484207153,
          0.46145692467689514,
          0.46177640557289124,
          0.4630711078643799,
          0.4610346853733063,
          0.4611303210258484,
          0.4604552984237671,
          0.4614895284175873,
          0.46167081594467163,
          0.4610263705253601,
          0.4596812427043915,
          0.46122103929519653,
          0.4604344964027405,
          0.4594246745109558,
          0.4600345492362976,
          0.4590919315814972,
          0.45851951837539673,
          0.45868849754333496,
          0.4599018096923828,
          0.45911750197410583,
          0.4582977294921875,
          0.4579830467700958,
          0.45760178565979004,
          0.4574293792247772,
          0.4578840136528015,
          0.4558241367340088,
          0.4560967981815338,
          0.457062304019928,
          0.4577106535434723,
          0.4577183425426483,
          0.4547218978404999,
          0.4555610716342926,
          0.45525071024894714,
          0.4577420949935913,
          0.45509642362594604,
          0.4547271430492401,
          0.4539138674736023,
          0.4535723030567169,
          0.45542654395103455,
          0.45420360565185547,
          0.45324015617370605,
          0.45403677225112915,
          0.454583078622818,
          0.45589280128479004,
          0.4526257812976837,
          0.4534464180469513,
          0.45451420545578003,
          0.45406654477119446,
          0.4532199800014496,
          0.4533601701259613,
          0.452379047870636,
          0.45502641797065735,
          0.45262253284454346,
          0.4521408677101135,
          0.45163342356681824,
          0.4532754421234131,
          0.4513038396835327,
          0.45164525508880615,
          0.45139122009277344,
          0.45172274112701416,
          0.4503040015697479,
          0.4514135420322418,
          0.4517362415790558,
          0.4524272680282593,
          0.4508483409881592,
          0.45036107301712036,
          0.4505644142627716,
          0.44944092631340027,
          0.4504162073135376,
          0.450991690158844,
          0.451509028673172,
          0.4502941966056824,
          0.44975996017456055,
          0.449775367975235,
          0.45092466473579407,
          0.4494471251964569,
          0.4496980309486389,
          0.4493095874786377,
          0.44911763072013855,
          0.45096972584724426,
          0.44914764165878296,
          0.4481912851333618,
          0.44848552346229553,
          0.4483371078968048,
          0.44865915179252625,
          0.44854360818862915,
          0.4482494294643402,
          0.44848281145095825,
          0.44817915558815,
          0.449758380651474,
          0.44741371273994446,
          0.44785335659980774,
          0.4475874602794647,
          0.4484344720840454,
          0.4478030800819397,
          0.4474947154521942,
          0.44927188754081726,
          0.4478297531604767,
          0.4471815526485443,
          0.4481372833251953,
          0.44804152846336365,
          0.4481111466884613,
          0.44784659147262573,
          0.4469175934791565,
          0.44720128178596497,
          0.44749605655670166,
          0.44766294956207275,
          0.44694042205810547,
          0.4464477002620697,
          0.44621196389198303,
          0.4469134211540222,
          0.44778549671173096,
          0.44618210196495056,
          0.44597724080085754,
          0.44650769233703613,
          0.44671201705932617,
          0.4464472830295563,
          0.44752630591392517,
          0.445889413356781,
          0.4454403221607208,
          0.4458250105381012,
          0.4464596211910248,
          0.44650447368621826,
          0.44621542096138,
          0.4469496011734009,
          0.4464567005634308,
          0.44557738304138184,
          0.44522517919540405,
          0.4454055726528168,
          0.444766640663147,
          0.44621288776397705,
          0.44643324613571167,
          0.44633767008781433,
          0.4446566104888916,
          0.44603973627090454,
          0.44555336236953735,
          0.4459497034549713,
          0.44465604424476624,
          0.4449041783809662,
          0.44495758414268494,
          0.44532713294029236,
          0.4453776776790619,
          0.4442509412765503,
          0.44401904940605164,
          0.44510459899902344,
          0.4445670247077942,
          0.4442371726036072,
          0.4445977509021759,
          0.44526588916778564,
          0.4443734288215637,
          0.44434645771980286,
          0.4444296956062317,
          0.44470858573913574,
          0.4435647428035736,
          0.44394412636756897,
          0.44371333718299866,
          0.4447518289089203,
          0.4445759356021881,
          0.4441607594490051,
          0.44413599371910095,
          0.4445139765739441,
          0.4446295201778412,
          0.4437375068664551,
          0.4436642825603485,
          0.4438767731189728,
          0.44336238503456116,
          0.4427890479564667,
          0.4426654875278473,
          0.4448705315589905,
          0.4449079930782318,
          0.4434854984283447,
          0.4427567720413208,
          0.44352737069129944,
          0.44413548707962036,
          0.44346487522125244,
          0.4453040361404419,
          0.44385141134262085,
          0.4431042969226837,
          0.4426671266555786,
          0.4431670904159546,
          0.4431534707546234,
          0.44296255707740784,
          0.4437251091003418,
          0.44226521253585815,
          0.4427613317966461,
          0.4434117376804352,
          0.44246554374694824,
          0.4429318904876709,
          0.4438841640949249,
          0.44269922375679016,
          0.44255784153938293,
          0.4422646462917328,
          0.44248709082603455,
          0.44303199648857117,
          0.44234326481819153,
          0.443486750125885,
          0.44300559163093567,
          0.4426482915878296,
          0.44179481267929077,
          0.4418172538280487,
          0.44335976243019104,
          0.4422198534011841,
          0.44261273741722107,
          0.44227489829063416,
          0.4428628981113434,
          0.44176462292671204,
          0.44367995858192444,
          0.4422489106655121,
          0.44187653064727783,
          0.44260892271995544,
          0.44277873635292053,
          0.44251471757888794,
          0.44180917739868164,
          0.442522257566452,
          0.4421534538269043,
          0.44224098324775696,
          0.4421662986278534,
          0.44156748056411743,
          0.441745400428772,
          0.44162797927856445,
          0.44185763597488403,
          0.44168034195899963,
          0.4423828423023224,
          0.4412575364112854,
          0.44122254848480225,
          0.44115614891052246,
          0.44127169251441956,
          0.44199037551879883,
          0.44198909401893616,
          0.4411987066268921,
          0.4411954879760742,
          0.4409591257572174,
          0.44075843691825867,
          0.44147223234176636,
          0.44134536385536194,
          0.4408716857433319,
          0.44069722294807434,
          0.4406627118587494,
          0.4414464831352234,
          0.4414035379886627,
          0.4409479796886444,
          0.44115641713142395,
          0.44062110781669617,
          0.44030487537384033,
          0.44096434116363525,
          0.4405311942100525,
          0.4406931698322296,
          0.4413856863975525,
          0.4417777359485626,
          0.44236084818840027,
          0.4420122504234314,
          0.4404115676879883,
          0.44016632437705994,
          0.4408740699291229,
          0.44057130813598633,
          0.4401363134384155,
          0.44097936153411865,
          0.44145533442497253,
          0.44055643677711487,
          0.44039809703826904,
          0.4404686689376831,
          0.4406023919582367,
          0.44118520617485046,
          0.4406028389930725,
          0.44043299555778503,
          0.44013041257858276,
          0.44082435965538025,
          0.44025155901908875,
          0.44066327810287476,
          0.4402620792388916,
          0.4400085210800171,
          0.44041597843170166,
          0.4403952658176422,
          0.4397508203983307,
          0.4406028985977173,
          0.4409905970096588,
          0.439415842294693,
          0.44013795256614685,
          0.44033995270729065,
          0.439915269613266,
          0.4406379759311676,
          0.4400539696216583,
          0.4395834505558014,
          0.43938398361206055,
          0.43952247500419617,
          0.44038450717926025,
          0.4397509694099426,
          0.43959611654281616,
          0.43935686349868774,
          0.44010403752326965,
          0.44081082940101624,
          0.4392493665218353,
          0.4399902820587158,
          0.4406960606575012,
          0.4398319125175476,
          0.440033495426178,
          0.4401136040687561,
          0.4408200681209564,
          0.44024065136909485,
          0.4403730034828186,
          0.4401121437549591,
          0.43995964527130127,
          0.44111889600753784,
          0.4399827718734741,
          0.43937522172927856,
          0.43958303332328796,
          0.43953606486320496,
          0.439691960811615,
          0.43931788206100464,
          0.4391910135746002,
          0.4387257993221283,
          0.43963247537612915,
          0.43994611501693726,
          0.43952077627182007,
          0.43967944383621216,
          0.43895065784454346,
          0.4394032955169678,
          0.4389816224575043,
          0.4393306374549866,
          0.439785897731781,
          0.4401065409183502,
          0.43967047333717346,
          0.43960678577423096,
          0.4393758475780487,
          0.43906185030937195,
          0.4392910599708557,
          0.4387474060058594,
          0.4389372169971466,
          0.43935737013816833,
          0.439187616109848,
          0.4399709403514862,
          0.43934494256973267,
          0.4397662580013275,
          0.43927183747291565,
          0.4385925531387329,
          0.4387533664703369,
          0.4388180673122406,
          0.438692182302475,
          0.4385196566581726,
          0.43901047110557556,
          0.43816158175468445,
          0.43899497389793396,
          0.4388177692890167,
          0.4390648305416107,
          0.4393080472946167,
          0.43856388330459595,
          0.4384630620479584,
          0.438909649848938,
          0.4388270974159241,
          0.4384796917438507,
          0.4392020106315613,
          0.43859541416168213,
          0.43926116824150085,
          0.43908289074897766,
          0.43891096115112305,
          0.438477098941803,
          0.438340961933136,
          0.43871572613716125,
          0.437976211309433,
          0.43881645798683167,
          0.43941381573677063,
          0.43808144330978394,
          0.43851321935653687,
          0.4386460483074188,
          0.4383290708065033,
          0.43786513805389404,
          0.43813174962997437,
          0.43803519010543823,
          0.4382348954677582,
          0.4380134642124176,
          0.43848374485969543,
          0.438632071018219,
          0.43816250562667847,
          0.4397386908531189,
          0.4384455680847168,
          0.43830421566963196,
          0.4383338391780853,
          0.4389394223690033,
          0.43871328234672546,
          0.43792256712913513,
          0.43799859285354614,
          0.4378720819950104,
          0.4382565915584564,
          0.4381440579891205,
          0.43799078464508057,
          0.4384630024433136,
          0.43836432695388794,
          0.4382208585739136,
          0.43800413608551025,
          0.4374595582485199,
          0.43894684314727783,
          0.43763458728790283,
          0.437682569026947,
          0.438949853181839,
          0.4384486973285675,
          0.43755772709846497,
          0.4375823438167572,
          0.438107430934906,
          0.43783506751060486,
          0.4378203749656677,
          0.4384244978427887,
          0.4377972185611725,
          0.4383808374404907,
          0.43824684619903564,
          0.43808436393737793,
          0.43741366267204285,
          0.43726345896720886,
          0.43832290172576904,
          0.4381061792373657,
          0.4380040764808655,
          0.4386965036392212,
          0.4383891522884369,
          0.4380109906196594,
          0.43722158670425415,
          0.4375488758087158,
          0.43816936016082764,
          0.43718382716178894,
          0.43777957558631897,
          0.43785300850868225,
          0.4369998872280121,
          0.43740180134773254,
          0.43794456124305725,
          0.4382408559322357,
          0.4376530349254608,
          0.43724876642227173,
          0.43773895502090454,
          0.43714872002601624,
          0.43855616450309753,
          0.43791064620018005,
          0.4381624758243561,
          0.43911927938461304,
          0.4376225173473358,
          0.43718084692955017,
          0.4372880756855011,
          0.4376245439052582,
          0.43874022364616394,
          0.43741723895072937,
          0.4378527104854584,
          0.4373846650123596,
          0.43785378336906433,
          0.43809735774993896,
          0.4377671182155609,
          0.4375556707382202,
          0.4371357560157776,
          0.4369773864746094,
          0.4372117817401886,
          0.4374089539051056,
          0.4371889531612396,
          0.43726763129234314,
          0.43675175309181213,
          0.43722420930862427,
          0.4370415508747101,
          0.43741822242736816,
          0.4369838237762451,
          0.43796056509017944,
          0.4373641312122345,
          0.4375670552253723,
          0.43689095973968506,
          0.43696659803390503,
          0.4368441104888916,
          0.4375724196434021,
          0.4369591474533081,
          0.4371767044067383,
          0.436788946390152,
          0.43692880868911743,
          0.43670883774757385,
          0.4368368983268738,
          0.4370776414871216,
          0.43720543384552,
          0.43749144673347473,
          0.4375516474246979,
          0.43722084164619446,
          0.43699344992637634,
          0.4370579421520233,
          0.43710318207740784,
          0.4370712637901306,
          0.4379136562347412,
          0.4377260208129883,
          0.43729734420776367,
          0.4372164011001587,
          0.4365590810775757,
          0.4367203414440155,
          0.4370647370815277,
          0.4369905889034271,
          0.4369662404060364,
          0.436956524848938,
          0.4366993308067322,
          0.43741708993911743,
          0.436798632144928,
          0.4365248382091522,
          0.43740400671958923,
          0.43637531995773315,
          0.4368283748626709,
          0.43646368384361267,
          0.43638625741004944,
          0.4371111989021301,
          0.437183678150177,
          0.4366011917591095,
          0.43759885430336,
          0.4364936053752899,
          0.4363906681537628,
          0.4364994466304779,
          0.43641334772109985,
          0.4361903965473175,
          0.4364674389362335,
          0.4364142417907715,
          0.4361957609653473,
          0.43650758266448975,
          0.43650001287460327,
          0.4374517798423767,
          0.43722864985466003,
          0.4366680979728699,
          0.4363008141517639,
          0.43658778071403503,
          0.43731632828712463,
          0.43670418858528137,
          0.43779146671295166,
          0.4367339611053467,
          0.43662503361701965,
          0.4362295866012573,
          0.43645742535591125,
          0.4359472692012787,
          0.43616166710853577,
          0.4358823895454407,
          0.4370996654033661,
          0.4366146922111511,
          0.43647563457489014,
          0.43605998158454895,
          0.4362832307815552,
          0.43677496910095215,
          0.4361908733844757,
          0.43649813532829285,
          0.4365289509296417,
          0.4363158345222473,
          0.43591588735580444,
          0.4364478886127472,
          0.43627360463142395,
          0.43598559498786926,
          0.4372566342353821,
          0.4364897906780243,
          0.43686437606811523,
          0.43612048029899597,
          0.43633103370666504,
          0.436342716217041,
          0.4359063506126404,
          0.4362509250640869,
          0.4362432360649109,
          0.4362052381038666,
          0.43750759959220886,
          0.43700650334358215,
          0.43582668900489807,
          0.4368870258331299,
          0.43674933910369873,
          0.43705320358276367,
          0.43617960810661316,
          0.4362606704235077,
          0.43613532185554504,
          0.4359881579875946,
          0.4360637962818146,
          0.4366600513458252,
          0.43657058477401733,
          0.43651169538497925,
          0.4359641671180725,
          0.4364243745803833,
          0.436349093914032,
          0.4358498156070709,
          0.43588313460350037,
          0.4362817406654358,
          0.4360007047653198,
          0.4357540011405945,
          0.43566837906837463,
          0.43640586733818054,
          0.4362926781177521,
          0.4357950687408447,
          0.4355855882167816,
          0.43645817041397095,
          0.4360334873199463,
          0.4358941614627838,
          0.43567052483558655,
          0.4354393482208252,
          0.4362829625606537,
          0.4367109537124634,
          0.4359016418457031,
          0.4357652962207794,
          0.4354592263698578,
          0.4357563257217407,
          0.43578821420669556,
          0.43596842885017395,
          0.4357689917087555,
          0.43603065609931946,
          0.4353814721107483,
          0.4354587197303772,
          0.43640321493148804,
          0.43622225522994995,
          0.43600597977638245,
          0.4362562894821167,
          0.4358111619949341,
          0.4356958568096161,
          0.4360884428024292,
          0.43735939264297485,
          0.43681973218917847,
          0.4360780715942383,
          0.43602892756462097,
          0.43582263588905334,
          0.4355449974536896,
          0.435969740152359,
          0.4359890818595886,
          0.43546411395072937,
          0.43618884682655334,
          0.4360572397708893,
          0.4352768361568451,
          0.4354766309261322,
          0.4359639883041382,
          0.4356687366962433,
          0.43536368012428284,
          0.43566060066223145,
          0.43489035964012146,
          0.43576276302337646,
          0.4359699785709381,
          0.4361327588558197,
          0.43531355261802673,
          0.43565523624420166,
          0.4352467656135559,
          0.43584612011909485,
          0.4357331693172455,
          0.4360698163509369,
          0.43540266156196594,
          0.43582794070243835,
          0.4352701008319855,
          0.4353191554546356,
          0.43519797921180725,
          0.435923308134079,
          0.4350293278694153,
          0.43512386083602905,
          0.4353552758693695,
          0.4360846281051636,
          0.4355000853538513,
          0.4358676075935364,
          0.43530982732772827,
          0.4352846145629883,
          0.4349741041660309,
          0.43567949533462524,
          0.4356878697872162,
          0.43543457984924316,
          0.4361601769924164,
          0.43553340435028076,
          0.4357421398162842,
          0.43529459834098816,
          0.43562397360801697,
          0.43551015853881836,
          0.435030072927475,
          0.4352906048297882,
          0.43475618958473206,
          0.43525391817092896,
          0.43533408641815186,
          0.43557634949684143,
          0.43564140796661377,
          0.4351799190044403,
          0.43503355979919434,
          0.43583062291145325,
          0.43480536341667175,
          0.43498972058296204,
          0.4353410303592682,
          0.4351339340209961,
          0.43488049507141113,
          0.43494945764541626,
          0.43519967794418335,
          0.43467235565185547,
          0.4350396990776062,
          0.4350467324256897,
          0.4351206123828888,
          0.43542972207069397,
          0.43474000692367554,
          0.43536803126335144,
          0.4353380501270294,
          0.43513286113739014,
          0.43527665734291077,
          0.4353640675544739,
          0.4348730742931366,
          0.43497925996780396,
          0.4355417788028717,
          0.43516096472740173,
          0.43458038568496704,
          0.43486806750297546,
          0.4351172149181366,
          0.4353613257408142,
          0.4349499046802521,
          0.43485942482948303,
          0.4353470206260681,
          0.43471255898475647,
          0.4348694682121277,
          0.4348638355731964,
          0.4361840486526489,
          0.43581947684288025,
          0.43478846549987793,
          0.4346470236778259,
          0.43516814708709717,
          0.43501782417297363,
          0.4355214238166809,
          0.43483373522758484,
          0.4349499046802521,
          0.4348655641078949,
          0.43510961532592773,
          0.4351959824562073,
          0.4352053105831146,
          0.4351981282234192,
          0.4363580346107483,
          0.43478989601135254,
          0.4347131848335266,
          0.43533703684806824,
          0.435596764087677,
          0.43469929695129395,
          0.4353022575378418,
          0.4353879988193512,
          0.4348592162132263,
          0.4345739185810089,
          0.4348090887069702,
          0.43444791436195374,
          0.4346635341644287,
          0.43479278683662415,
          0.4344829320907593,
          0.43470337986946106,
          0.43485450744628906,
          0.4350188672542572,
          0.43471866846084595,
          0.43489453196525574,
          0.43445345759391785,
          0.43465107679367065,
          0.43459373712539673,
          0.4344853460788727,
          0.43481335043907166,
          0.43442031741142273,
          0.43489453196525574,
          0.4354805648326874,
          0.43473491072654724,
          0.4349098205566406,
          0.43460211157798767,
          0.43468254804611206,
          0.43457069993019104,
          0.4344828426837921,
          0.43491289019584656,
          0.434699147939682,
          0.4348456561565399,
          0.4350101947784424,
          0.43428900837898254,
          0.43442466855049133,
          0.4350737929344177,
          0.43436846137046814,
          0.4363318383693695,
          0.4350629150867462,
          0.4344342052936554,
          0.43427327275276184,
          0.43415185809135437
         ]
        },
        {
         "name": "combined_nn_val-loss",
         "type": "scatter",
         "y": [
          2.023517608642578,
          1.9510831832885742,
          1.9523814916610718,
          1.8830097913742065,
          1.829010009765625,
          1.7659968137741089,
          1.7288525104522705,
          1.7023210525512695,
          1.679758071899414,
          1.6652557849884033,
          1.6018263101577759,
          1.6079649925231934,
          1.531131386756897,
          1.4806748628616333,
          1.5111260414123535,
          1.505015254020691,
          1.500490665435791,
          1.4449859857559204,
          1.4029911756515503,
          1.4405670166015625,
          1.3985868692398071,
          1.2915996313095093,
          1.2546712160110474,
          1.2402374744415283,
          1.2402034997940063,
          1.2191683053970337,
          1.178672194480896,
          1.1421842575073242,
          1.153389811515808,
          1.116054654121399,
          1.131328821182251,
          1.0418270826339722,
          1.0575355291366577,
          1.065446376800537,
          1.0670957565307617,
          1.0195257663726807,
          1.010382890701294,
          0.9916845560073853,
          0.9641794562339783,
          0.9579581618309021,
          0.9372310638427734,
          0.8928076028823853,
          0.8587494492530823,
          0.8342313766479492,
          0.7871659994125366,
          0.7896155714988708,
          0.7201088666915894,
          0.6689700484275818,
          0.6530871987342834,
          0.6222674250602722,
          0.6188944578170776,
          0.5861563682556152,
          0.5728399753570557,
          0.5566883683204651,
          0.56234210729599,
          0.5512095093727112,
          0.5332934856414795,
          0.5356364250183105,
          0.5404970645904541,
          0.5247970819473267,
          0.5311436653137207,
          0.5097984075546265,
          0.5182307362556458,
          0.5335130095481873,
          0.5303287506103516,
          0.5217172503471375,
          0.5092566609382629,
          0.4990559220314026,
          0.48757556080818176,
          0.4995149075984955,
          0.4918169677257538,
          0.49080121517181396,
          0.5219362378120422,
          0.510325014591217,
          0.49310609698295593,
          0.5043256878852844,
          0.4941677153110504,
          0.5004230737686157,
          0.5162012577056885,
          0.49573245644569397,
          0.48393872380256653,
          0.5034133195877075,
          0.47028541564941406,
          0.4756990075111389,
          0.4851778447628021,
          0.4652755558490753,
          0.4946424067020416,
          0.4726319909095764,
          0.46872979402542114,
          0.4663725793361664,
          0.4967978596687317,
          0.5091683268547058,
          0.46210476756095886,
          0.47464314103126526,
          0.4784117341041565,
          0.48119091987609863,
          0.46637415885925293,
          0.47462671995162964,
          0.45576533675193787,
          0.4686706066131592,
          0.4629354476928711,
          0.4615277945995331,
          0.473317414522171,
          0.4758511781692505,
          0.45030081272125244,
          0.4576743543148041,
          0.46057045459747314,
          0.45496585965156555,
          0.45325523614883423,
          0.46373844146728516,
          0.4659615159034729,
          0.46957337856292725,
          0.4708569645881653,
          0.441598504781723,
          0.46731242537498474,
          0.44695764780044556,
          0.4623855650424957,
          0.4403475821018219,
          0.4591783881187439,
          0.4595838189125061,
          0.4461183249950409,
          0.4632379412651062,
          0.45333635807037354,
          0.4674501419067383,
          0.4522435665130615,
          0.45148101449012756,
          0.44803386926651,
          0.4463023245334625,
          0.45067352056503296,
          0.4532953202724457,
          0.44085657596588135,
          0.44155511260032654,
          0.45319217443466187,
          0.4319494664669037,
          0.43753015995025635,
          0.42958173155784607,
          0.4479149580001831,
          0.42256075143814087,
          0.44291186332702637,
          0.45784851908683777,
          0.4358675181865692,
          0.44049331545829773,
          0.4490419030189514,
          0.4470766484737396,
          0.4388214647769928,
          0.43162471055984497,
          0.42435622215270996,
          0.4258095920085907,
          0.434315025806427,
          0.42075371742248535,
          0.42266079783439636,
          0.43183383345603943,
          0.4339437782764435,
          0.4246075451374054,
          0.4223485291004181,
          0.4320997893810272,
          0.4343709349632263,
          0.42019835114479065,
          0.4336531460285187,
          0.428727388381958,
          0.43405410647392273,
          0.414160817861557,
          0.4270520806312561,
          0.4248197674751282,
          0.41956955194473267,
          0.41668885946273804,
          0.4251600503921509,
          0.41701772809028625,
          0.411030650138855,
          0.4184013903141022,
          0.41717520356178284,
          0.4192350506782532,
          0.41553154587745667,
          0.4207044839859009,
          0.41943371295928955,
          0.41731759905815125,
          0.4007640480995178,
          0.42928510904312134,
          0.40989047288894653,
          0.4130829870700836,
          0.41103121638298035,
          0.41868114471435547,
          0.4082808494567871,
          0.41401785612106323,
          0.41009679436683655,
          0.4079253077507019,
          0.40507420897483826,
          0.4123154580593109,
          0.40539056062698364,
          0.4007968604564667,
          0.40553387999534607,
          0.39577701687812805,
          0.3957064747810364,
          0.4221588671207428,
          0.4024866819381714,
          0.40457379817962646,
          0.40469273924827576,
          0.40329617261886597,
          0.4007229208946228,
          0.39378589391708374,
          0.39197707176208496,
          0.40513333678245544,
          0.39398735761642456,
          0.3965674638748169,
          0.3952715992927551,
          0.39612653851509094,
          0.4012768864631653,
          0.3941064774990082,
          0.4015873372554779,
          0.38722264766693115,
          0.3950512409210205,
          0.4057253301143646,
          0.4006426930427551,
          0.3930432200431824,
          0.3920705020427704,
          0.3925407826900482,
          0.3887031376361847,
          0.38988062739372253,
          0.39313116669654846,
          0.3918493092060089,
          0.3869118392467499,
          0.38855189085006714,
          0.3890305757522583,
          0.38810014724731445,
          0.389659583568573,
          0.3889431953430176,
          0.39237117767333984,
          0.38252922892570496,
          0.3797389566898346,
          0.38555973768234253,
          0.38739126920700073,
          0.3853674530982971,
          0.38356250524520874,
          0.3864302635192871,
          0.3785562515258789,
          0.38103577494621277,
          0.3872535228729248,
          0.3825657069683075,
          0.38537710905075073,
          0.37882164120674133,
          0.3729177713394165,
          0.3739962577819824,
          0.3772050738334656,
          0.37315991520881653,
          0.3821018934249878,
          0.37153685092926025,
          0.37497615814208984,
          0.37229928374290466,
          0.3733506500720978,
          0.38410529494285583,
          0.37119877338409424,
          0.37305569648742676,
          0.3749120235443115,
          0.37650781869888306,
          0.3707811236381531,
          0.37847474217414856,
          0.367857426404953,
          0.369952529668808,
          0.37148404121398926,
          0.38300588726997375,
          0.3770274519920349,
          0.367291122674942,
          0.36937254667282104,
          0.367755264043808,
          0.36712682247161865,
          0.3657054305076599,
          0.37771910429000854,
          0.37204092741012573,
          0.370321124792099,
          0.36610716581344604,
          0.37431395053863525,
          0.36992380023002625,
          0.37008190155029297,
          0.3685437738895416,
          0.36848893761634827,
          0.36320751905441284,
          0.3677879571914673,
          0.372068852186203,
          0.36821967363357544,
          0.3663340210914612,
          0.36307492852211,
          0.36705076694488525,
          0.3646669089794159,
          0.36630481481552124,
          0.37403446435928345,
          0.3704473078250885,
          0.36364078521728516,
          0.3675503730773926,
          0.3666318953037262,
          0.3628695011138916,
          0.3702527582645416,
          0.3700070083141327,
          0.3673349916934967,
          0.3688338100910187,
          0.3670121133327484,
          0.3755892813205719,
          0.3628518879413605,
          0.35900425910949707,
          0.36286309361457825,
          0.3659355640411377,
          0.365296870470047,
          0.3651510179042816,
          0.36519119143486023,
          0.36335626244544983,
          0.36638739705085754,
          0.3663989007472992,
          0.36272740364074707,
          0.36283525824546814,
          0.36395883560180664,
          0.36668065190315247,
          0.36756953597068787,
          0.3624238073825836,
          0.364253431558609,
          0.36655983328819275,
          0.3663690984249115,
          0.35905513167381287,
          0.3660764992237091,
          0.362042099237442,
          0.36541712284088135,
          0.36445584893226624,
          0.36163195967674255,
          0.36401239037513733,
          0.36504560708999634,
          0.360281765460968,
          0.3600997030735016,
          0.3664829432964325,
          0.36419859528541565,
          0.36007145047187805,
          0.3604658246040344,
          0.36715638637542725,
          0.36121487617492676,
          0.36075136065483093,
          0.3606409728527069,
          0.362684041261673,
          0.36238226294517517,
          0.361797034740448,
          0.36383599042892456,
          0.35992103815078735,
          0.3600671589374542,
          0.3645078241825104,
          0.36083272099494934,
          0.3603309988975525,
          0.36022689938545227,
          0.36185917258262634,
          0.36158087849617004,
          0.3596329391002655,
          0.3621538281440735,
          0.3614344894886017,
          0.3620128035545349,
          0.36130568385124207,
          0.3595145344734192,
          0.3623619079589844,
          0.3602181673049927,
          0.3597303330898285,
          0.3598080277442932,
          0.35992422699928284,
          0.3599662482738495,
          0.36126142740249634,
          0.3615666925907135,
          0.3601897060871124,
          0.36119550466537476,
          0.36128658056259155,
          0.3601953089237213,
          0.36533838510513306,
          0.3612169325351715,
          0.3597128987312317,
          0.35993117094039917,
          0.3603556454181671,
          0.3595285713672638,
          0.3616510331630707,
          0.3643903136253357,
          0.36316409707069397,
          0.3587748408317566,
          0.36036503314971924,
          0.3610759675502777,
          0.361303448677063,
          0.3594139814376831,
          0.363383024930954,
          0.3615543842315674,
          0.36024025082588196,
          0.3609306812286377,
          0.360100656747818,
          0.3596866726875305,
          0.36009740829467773,
          0.3601800501346588,
          0.36237597465515137,
          0.3590177595615387,
          0.360361784696579,
          0.36044448614120483,
          0.36159712076187134,
          0.3595357835292816,
          0.36024588346481323,
          0.36148306727409363,
          0.3589591383934021,
          0.3585565388202667,
          0.3600701093673706,
          0.36160191893577576,
          0.3595251739025116,
          0.3582622706890106,
          0.3598649799823761,
          0.36003586649894714,
          0.36134546995162964,
          0.36100348830223083,
          0.3616424798965454,
          0.36420443654060364,
          0.36036810278892517,
          0.3605789840221405,
          0.3589918911457062,
          0.3609670400619507,
          0.36113646626472473,
          0.3610318899154663,
          0.3611378073692322,
          0.3594735860824585,
          0.3609713017940521,
          0.36097145080566406,
          0.36316102743148804,
          0.36288535594940186,
          0.3607884645462036,
          0.3614855706691742,
          0.35984501242637634,
          0.35947662591934204,
          0.36227163672447205,
          0.3631053864955902,
          0.36231371760368347,
          0.3601328730583191,
          0.36135929822921753,
          0.363039493560791,
          0.3616875410079956,
          0.36186566948890686,
          0.36321961879730225,
          0.3601747751235962,
          0.36249661445617676,
          0.36530524492263794,
          0.3655903935432434,
          0.3609010875225067,
          0.3629978895187378,
          0.360736608505249,
          0.3621523678302765,
          0.36352962255477905,
          0.3616713583469391,
          0.36306554079055786,
          0.3632534146308899,
          0.36409613490104675,
          0.36193737387657166,
          0.3627459704875946,
          0.3630419075489044,
          0.3620894253253937,
          0.36261260509490967,
          0.36190280318260193,
          0.36117497086524963,
          0.3642440736293793,
          0.36363860964775085,
          0.36878225207328796,
          0.36713096499443054,
          0.36209046840667725,
          0.362382709980011,
          0.36147961020469666,
          0.3602284789085388,
          0.36187416315078735,
          0.36138829588890076,
          0.3637984097003937,
          0.36305707693099976,
          0.36406463384628296,
          0.3646305203437805,
          0.3663163185119629,
          0.3631170690059662,
          0.3669103980064392,
          0.3645935356616974,
          0.36294320225715637,
          0.3618561923503876,
          0.36805588006973267,
          0.3627144694328308,
          0.36610719561576843,
          0.36613938212394714,
          0.36621057987213135,
          0.3643970489501953,
          0.3677034378051758,
          0.36512327194213867,
          0.3644876778125763,
          0.3650568723678589,
          0.36727944016456604,
          0.36334481835365295,
          0.36198440194129944,
          0.3655408024787903,
          0.36689069867134094,
          0.36427804827690125,
          0.36355698108673096,
          0.3623262643814087,
          0.36536166071891785,
          0.3642965853214264,
          0.36518675088882446,
          0.3631816506385803,
          0.36333805322647095,
          0.36200353503227234,
          0.36546799540519714,
          0.36432042717933655,
          0.36387622356414795,
          0.36541178822517395,
          0.3655836880207062,
          0.3627801239490509,
          0.3687888979911804,
          0.365680992603302,
          0.3688929080963135,
          0.365909606218338,
          0.3664308786392212,
          0.36487600207328796,
          0.36480721831321716,
          0.3623010814189911,
          0.3686111867427826,
          0.3693139851093292,
          0.36394092440605164,
          0.3653116524219513,
          0.3673233985900879,
          0.3639058768749237,
          0.36669543385505676,
          0.36573708057403564,
          0.3644733130931854,
          0.36380672454833984,
          0.37154024839401245,
          0.36963024735450745,
          0.3649345338344574,
          0.3668301999568939,
          0.36703935265541077,
          0.3666403591632843,
          0.3667372167110443,
          0.3625606894493103,
          0.3697667121887207,
          0.3652879595756531,
          0.3666505813598633,
          0.36536654829978943,
          0.36638233065605164,
          0.3650822639465332,
          0.36948367953300476,
          0.3650682270526886,
          0.36904820799827576,
          0.36801716685295105,
          0.3705913722515106,
          0.3669116795063019,
          0.36337876319885254,
          0.3677964210510254,
          0.36764708161354065,
          0.3706136643886566,
          0.36754581332206726,
          0.3637157380580902,
          0.3653426766395569,
          0.37209072709083557,
          0.370695024728775,
          0.36638206243515015,
          0.3692142963409424,
          0.3697206974029541,
          0.3643753230571747,
          0.3696975111961365,
          0.3676597774028778,
          0.3688526451587677,
          0.3645210266113281,
          0.37225082516670227,
          0.365969717502594,
          0.36873090267181396,
          0.37440723180770874,
          0.3655824065208435,
          0.3669455647468567,
          0.36564144492149353,
          0.36446064710617065,
          0.3643542528152466,
          0.3710409700870514,
          0.37312212586402893,
          0.36966127157211304,
          0.369075208902359,
          0.3659994304180145,
          0.368589848279953,
          0.3715916574001312,
          0.36788907647132874,
          0.37079229950904846,
          0.3686021864414215,
          0.3679315149784088,
          0.368740439414978,
          0.3651352822780609,
          0.3661734461784363,
          0.36645662784576416,
          0.3683139383792877,
          0.3760378062725067,
          0.3661031126976013,
          0.3681674003601074,
          0.37063729763031006,
          0.37259629368782043,
          0.36962100863456726,
          0.37064096331596375,
          0.3751794993877411,
          0.3725977838039398,
          0.37072673439979553,
          0.37791070342063904,
          0.37437379360198975,
          0.3668075501918793,
          0.36894404888153076,
          0.3658851385116577,
          0.3658820390701294,
          0.3677743375301361,
          0.3690095543861389,
          0.36786311864852905,
          0.3696337342262268,
          0.36758774518966675,
          0.36511752009391785,
          0.37210890650749207,
          0.37168198823928833,
          0.3658462464809418,
          0.36961105465888977,
          0.36402323842048645,
          0.3664223253726959,
          0.36827102303504944,
          0.3683560788631439,
          0.3737446367740631,
          0.3656274974346161,
          0.36869168281555176,
          0.3702290654182434,
          0.3686061501502991,
          0.36572471261024475,
          0.3678649961948395,
          0.3678426146507263,
          0.36925506591796875,
          0.36439451575279236,
          0.36757925152778625,
          0.37056368589401245,
          0.3721572160720825,
          0.36970269680023193,
          0.3706299662590027,
          0.3687576353549957,
          0.37101295590400696,
          0.36891835927963257,
          0.37539756298065186,
          0.3692164123058319,
          0.36848607659339905,
          0.36862316727638245,
          0.37166061997413635,
          0.36627063155174255,
          0.36755499243736267,
          0.36569085717201233,
          0.37429386377334595,
          0.3703140914440155,
          0.37490662932395935,
          0.3683735728263855,
          0.3676525354385376,
          0.36978796124458313,
          0.3687410354614258,
          0.37115025520324707,
          0.36518532037734985,
          0.36947953701019287,
          0.37546876072883606,
          0.37275221943855286,
          0.3671185374259949,
          0.3645363450050354,
          0.365642249584198,
          0.3689250349998474,
          0.37259501218795776,
          0.3649335205554962,
          0.37012559175491333,
          0.37799134850502014,
          0.3706094026565552,
          0.37242892384529114,
          0.3658352196216583,
          0.370197057723999,
          0.36792105436325073,
          0.3691002130508423,
          0.3742518723011017,
          0.36589354276657104,
          0.37961170077323914,
          0.36743953824043274,
          0.3741433024406433,
          0.37189722061157227,
          0.37661343812942505,
          0.36960792541503906,
          0.3665619492530823,
          0.3710833191871643,
          0.3673861026763916,
          0.3727266490459442,
          0.37509962916374207,
          0.3846171498298645,
          0.3716583549976349,
          0.367891788482666,
          0.36582013964653015,
          0.3693799078464508,
          0.36853650212287903,
          0.3663485646247864,
          0.3677351176738739,
          0.3750882148742676,
          0.36761802434921265,
          0.36914339661598206,
          0.3690442442893982,
          0.3683302700519562,
          0.36824312806129456,
          0.37090352177619934,
          0.3710668385028839,
          0.3692142963409424,
          0.3685115873813629,
          0.3717668354511261,
          0.3715296983718872,
          0.37167108058929443,
          0.37125563621520996,
          0.36919111013412476,
          0.36933931708335876,
          0.36948326230049133,
          0.366628497838974,
          0.3672153949737549,
          0.36979955434799194,
          0.37188807129859924,
          0.3762665390968323,
          0.3680468797683716,
          0.3722855746746063,
          0.36759305000305176,
          0.36798205971717834,
          0.37713807821273804,
          0.37034717202186584,
          0.3681592345237732,
          0.37217411398887634,
          0.37996232509613037,
          0.36929789185523987,
          0.3663278818130493,
          0.3705833852291107,
          0.3737969696521759,
          0.37039363384246826,
          0.3656572699546814,
          0.36333760619163513,
          0.3676168918609619,
          0.3649459481239319,
          0.36727723479270935,
          0.3797471523284912,
          0.36327552795410156,
          0.36697113513946533,
          0.36873796582221985,
          0.3679361045360565,
          0.3724018633365631,
          0.36528584361076355,
          0.3651901185512543,
          0.3681032061576843,
          0.37872931361198425,
          0.3742941617965698,
          0.3750704228878021,
          0.36664003133773804,
          0.3680512011051178,
          0.3653920590877533,
          0.367396742105484,
          0.37210601568222046,
          0.36456239223480225,
          0.36718907952308655,
          0.3668765723705292,
          0.3761650025844574,
          0.3726586103439331,
          0.368093878030777,
          0.3678032159805298,
          0.3723120093345642,
          0.3718346953392029,
          0.36438611149787903,
          0.36906862258911133,
          0.37237808108329773,
          0.36635684967041016,
          0.3702203631401062,
          0.3726929724216461,
          0.3682149052619934,
          0.3670138418674469,
          0.37399643659591675,
          0.37090086936950684,
          0.3697220981121063,
          0.3704722821712494,
          0.3662683665752411,
          0.3695141673088074,
          0.3680984377861023,
          0.3689882159233093,
          0.3697502613067627,
          0.3773270547389984,
          0.36731237173080444,
          0.36807408928871155,
          0.371209979057312,
          0.3668273389339447,
          0.3697963058948517,
          0.3711181581020355,
          0.3709798753261566,
          0.367142915725708,
          0.3667799234390259,
          0.36843395233154297,
          0.370939165353775,
          0.3676965534687042,
          0.37123680114746094,
          0.37379923462867737,
          0.36994215846061707,
          0.3647369146347046,
          0.3726237416267395,
          0.3649508059024811,
          0.37139925360679626,
          0.3731381595134735,
          0.368701308965683,
          0.3667689561843872,
          0.3702852129936218,
          0.36941635608673096,
          0.3765176236629486,
          0.37728944420814514,
          0.37271031737327576,
          0.3752286732196808,
          0.377437949180603,
          0.3739789128303528,
          0.37679389119148254,
          0.36648547649383545,
          0.37408682703971863,
          0.3638911545276642,
          0.37694522738456726,
          0.37142106890678406,
          0.37012675404548645,
          0.371277391910553,
          0.37214261293411255,
          0.3746260404586792,
          0.371511846780777,
          0.3704599440097809,
          0.3733350932598114,
          0.3666767179965973,
          0.36732393503189087,
          0.36593011021614075,
          0.374559611082077,
          0.36645233631134033,
          0.3696472942829132,
          0.3677985966205597,
          0.3661404550075531,
          0.3688715696334839,
          0.37292367219924927,
          0.3728558421134949,
          0.37221017479896545,
          0.36756381392478943,
          0.3693287968635559,
          0.36910906434059143,
          0.37472423911094666,
          0.3641420006752014,
          0.36854538321495056,
          0.3739481568336487,
          0.3660402297973633,
          0.3745346963405609,
          0.3719474673271179,
          0.37220558524131775,
          0.37311094999313354,
          0.37259960174560547,
          0.36953088641166687,
          0.37525704503059387,
          0.3763292729854584,
          0.364582896232605,
          0.3663799464702606,
          0.37203413248062134,
          0.3677072823047638,
          0.3725128471851349,
          0.36619827151298523,
          0.3691476583480835,
          0.378597229719162,
          0.3742200434207916,
          0.375247597694397,
          0.37057796120643616,
          0.364536851644516,
          0.3788805603981018,
          0.3713599443435669,
          0.370769202709198,
          0.3708422780036926,
          0.37384387850761414,
          0.3699735999107361,
          0.36747702956199646,
          0.36699092388153076,
          0.36916056275367737,
          0.3719361126422882,
          0.3714912533760071,
          0.36763644218444824,
          0.3721952736377716,
          0.3685319423675537,
          0.367458701133728,
          0.3677630126476288,
          0.36645057797431946,
          0.3687513768672943,
          0.369510293006897,
          0.37265828251838684,
          0.3741089999675751,
          0.36737796664237976,
          0.371676504611969,
          0.3681281805038452,
          0.37501588463783264,
          0.37197446823120117,
          0.37120524048805237,
          0.37087482213974,
          0.36800774931907654,
          0.37817561626434326,
          0.3676629066467285,
          0.37689825892448425,
          0.3650956153869629,
          0.37392541766166687,
          0.3677656948566437,
          0.37328270077705383,
          0.36903172731399536,
          0.3761323094367981,
          0.36920037865638733,
          0.3771387040615082,
          0.37127214670181274,
          0.37097519636154175,
          0.3731161057949066,
          0.3791412115097046,
          0.38282841444015503,
          0.3721683621406555,
          0.3711280822753906,
          0.3706425130367279,
          0.37310877442359924,
          0.3719079792499542,
          0.36756229400634766,
          0.3696768581867218,
          0.36626186966896057,
          0.3792114555835724,
          0.3755353093147278,
          0.3691340386867523,
          0.3716174066066742,
          0.3698207139968872,
          0.3687724769115448,
          0.3764209747314453,
          0.37157902121543884,
          0.36844661831855774,
          0.3712075650691986,
          0.3708037734031677,
          0.3672892451286316,
          0.36504146456718445,
          0.3694417178630829,
          0.37002626061439514,
          0.3665766417980194,
          0.3684775233268738,
          0.36970391869544983,
          0.37142571806907654,
          0.378765344619751,
          0.3772898018360138,
          0.3676646947860718,
          0.3742368221282959,
          0.3762460947036743,
          0.3702804744243622,
          0.36909034848213196,
          0.3724171221256256,
          0.3717549741268158,
          0.37003210186958313,
          0.37242138385772705,
          0.37207552790641785,
          0.37007829546928406,
          0.3730461299419403,
          0.3751610219478607,
          0.3668023943901062,
          0.36947891116142273,
          0.3760335445404053,
          0.37279176712036133,
          0.3690117597579956,
          0.3673064112663269,
          0.37238797545433044,
          0.3776939809322357,
          0.37304335832595825,
          0.3711024820804596,
          0.3715474009513855,
          0.36595985293388367,
          0.37275657057762146,
          0.37061482667922974,
          0.3732326328754425,
          0.3692047894001007,
          0.37321045994758606,
          0.3649999499320984,
          0.3710370659828186,
          0.3687995970249176,
          0.37687164545059204,
          0.36516398191452026,
          0.365044504404068,
          0.37294939160346985,
          0.37148231267929077,
          0.37081459164619446,
          0.37854766845703125,
          0.37155649065971375,
          0.3682004511356354,
          0.3675605356693268,
          0.3739006519317627,
          0.36824795603752136,
          0.37193384766578674,
          0.3729771077632904,
          0.36586084961891174,
          0.3720981478691101,
          0.37005308270454407,
          0.37414196133613586,
          0.3678315579891205,
          0.3739922046661377,
          0.3672208786010742,
          0.3661244511604309,
          0.37137922644615173,
          0.36668968200683594,
          0.3733132481575012,
          0.37451624870300293,
          0.36950042843818665,
          0.37186360359191895,
          0.3675276041030884,
          0.3692583441734314,
          0.3693939745426178,
          0.37146082520484924,
          0.3649345636367798,
          0.371705561876297,
          0.36873236298561096,
          0.3711625039577484,
          0.3759803771972656,
          0.3648322522640228,
          0.3742118775844574,
          0.368634968996048,
          0.370037317276001,
          0.36577552556991577
         ]
        }
       ],
       "layout": {
        "template": {
         "data": {
          "bar": [
           {
            "error_x": {
             "color": "#2a3f5f"
            },
            "error_y": {
             "color": "#2a3f5f"
            },
            "marker": {
             "line": {
              "color": "#E5ECF6",
              "width": 0.5
             }
            },
            "type": "bar"
           }
          ],
          "barpolar": [
           {
            "marker": {
             "line": {
              "color": "#E5ECF6",
              "width": 0.5
             }
            },
            "type": "barpolar"
           }
          ],
          "carpet": [
           {
            "aaxis": {
             "endlinecolor": "#2a3f5f",
             "gridcolor": "white",
             "linecolor": "white",
             "minorgridcolor": "white",
             "startlinecolor": "#2a3f5f"
            },
            "baxis": {
             "endlinecolor": "#2a3f5f",
             "gridcolor": "white",
             "linecolor": "white",
             "minorgridcolor": "white",
             "startlinecolor": "#2a3f5f"
            },
            "type": "carpet"
           }
          ],
          "choropleth": [
           {
            "colorbar": {
             "outlinewidth": 0,
             "ticks": ""
            },
            "type": "choropleth"
           }
          ],
          "contour": [
           {
            "colorbar": {
             "outlinewidth": 0,
             "ticks": ""
            },
            "colorscale": [
             [
              0,
              "#0d0887"
             ],
             [
              0.1111111111111111,
              "#46039f"
             ],
             [
              0.2222222222222222,
              "#7201a8"
             ],
             [
              0.3333333333333333,
              "#9c179e"
             ],
             [
              0.4444444444444444,
              "#bd3786"
             ],
             [
              0.5555555555555556,
              "#d8576b"
             ],
             [
              0.6666666666666666,
              "#ed7953"
             ],
             [
              0.7777777777777778,
              "#fb9f3a"
             ],
             [
              0.8888888888888888,
              "#fdca26"
             ],
             [
              1,
              "#f0f921"
             ]
            ],
            "type": "contour"
           }
          ],
          "contourcarpet": [
           {
            "colorbar": {
             "outlinewidth": 0,
             "ticks": ""
            },
            "type": "contourcarpet"
           }
          ],
          "heatmap": [
           {
            "colorbar": {
             "outlinewidth": 0,
             "ticks": ""
            },
            "colorscale": [
             [
              0,
              "#0d0887"
             ],
             [
              0.1111111111111111,
              "#46039f"
             ],
             [
              0.2222222222222222,
              "#7201a8"
             ],
             [
              0.3333333333333333,
              "#9c179e"
             ],
             [
              0.4444444444444444,
              "#bd3786"
             ],
             [
              0.5555555555555556,
              "#d8576b"
             ],
             [
              0.6666666666666666,
              "#ed7953"
             ],
             [
              0.7777777777777778,
              "#fb9f3a"
             ],
             [
              0.8888888888888888,
              "#fdca26"
             ],
             [
              1,
              "#f0f921"
             ]
            ],
            "type": "heatmap"
           }
          ],
          "heatmapgl": [
           {
            "colorbar": {
             "outlinewidth": 0,
             "ticks": ""
            },
            "colorscale": [
             [
              0,
              "#0d0887"
             ],
             [
              0.1111111111111111,
              "#46039f"
             ],
             [
              0.2222222222222222,
              "#7201a8"
             ],
             [
              0.3333333333333333,
              "#9c179e"
             ],
             [
              0.4444444444444444,
              "#bd3786"
             ],
             [
              0.5555555555555556,
              "#d8576b"
             ],
             [
              0.6666666666666666,
              "#ed7953"
             ],
             [
              0.7777777777777778,
              "#fb9f3a"
             ],
             [
              0.8888888888888888,
              "#fdca26"
             ],
             [
              1,
              "#f0f921"
             ]
            ],
            "type": "heatmapgl"
           }
          ],
          "histogram": [
           {
            "marker": {
             "colorbar": {
              "outlinewidth": 0,
              "ticks": ""
             }
            },
            "type": "histogram"
           }
          ],
          "histogram2d": [
           {
            "colorbar": {
             "outlinewidth": 0,
             "ticks": ""
            },
            "colorscale": [
             [
              0,
              "#0d0887"
             ],
             [
              0.1111111111111111,
              "#46039f"
             ],
             [
              0.2222222222222222,
              "#7201a8"
             ],
             [
              0.3333333333333333,
              "#9c179e"
             ],
             [
              0.4444444444444444,
              "#bd3786"
             ],
             [
              0.5555555555555556,
              "#d8576b"
             ],
             [
              0.6666666666666666,
              "#ed7953"
             ],
             [
              0.7777777777777778,
              "#fb9f3a"
             ],
             [
              0.8888888888888888,
              "#fdca26"
             ],
             [
              1,
              "#f0f921"
             ]
            ],
            "type": "histogram2d"
           }
          ],
          "histogram2dcontour": [
           {
            "colorbar": {
             "outlinewidth": 0,
             "ticks": ""
            },
            "colorscale": [
             [
              0,
              "#0d0887"
             ],
             [
              0.1111111111111111,
              "#46039f"
             ],
             [
              0.2222222222222222,
              "#7201a8"
             ],
             [
              0.3333333333333333,
              "#9c179e"
             ],
             [
              0.4444444444444444,
              "#bd3786"
             ],
             [
              0.5555555555555556,
              "#d8576b"
             ],
             [
              0.6666666666666666,
              "#ed7953"
             ],
             [
              0.7777777777777778,
              "#fb9f3a"
             ],
             [
              0.8888888888888888,
              "#fdca26"
             ],
             [
              1,
              "#f0f921"
             ]
            ],
            "type": "histogram2dcontour"
           }
          ],
          "mesh3d": [
           {
            "colorbar": {
             "outlinewidth": 0,
             "ticks": ""
            },
            "type": "mesh3d"
           }
          ],
          "parcoords": [
           {
            "line": {
             "colorbar": {
              "outlinewidth": 0,
              "ticks": ""
             }
            },
            "type": "parcoords"
           }
          ],
          "pie": [
           {
            "automargin": true,
            "type": "pie"
           }
          ],
          "scatter": [
           {
            "marker": {
             "colorbar": {
              "outlinewidth": 0,
              "ticks": ""
             }
            },
            "type": "scatter"
           }
          ],
          "scatter3d": [
           {
            "line": {
             "colorbar": {
              "outlinewidth": 0,
              "ticks": ""
             }
            },
            "marker": {
             "colorbar": {
              "outlinewidth": 0,
              "ticks": ""
             }
            },
            "type": "scatter3d"
           }
          ],
          "scattercarpet": [
           {
            "marker": {
             "colorbar": {
              "outlinewidth": 0,
              "ticks": ""
             }
            },
            "type": "scattercarpet"
           }
          ],
          "scattergeo": [
           {
            "marker": {
             "colorbar": {
              "outlinewidth": 0,
              "ticks": ""
             }
            },
            "type": "scattergeo"
           }
          ],
          "scattergl": [
           {
            "marker": {
             "colorbar": {
              "outlinewidth": 0,
              "ticks": ""
             }
            },
            "type": "scattergl"
           }
          ],
          "scattermapbox": [
           {
            "marker": {
             "colorbar": {
              "outlinewidth": 0,
              "ticks": ""
             }
            },
            "type": "scattermapbox"
           }
          ],
          "scatterpolar": [
           {
            "marker": {
             "colorbar": {
              "outlinewidth": 0,
              "ticks": ""
             }
            },
            "type": "scatterpolar"
           }
          ],
          "scatterpolargl": [
           {
            "marker": {
             "colorbar": {
              "outlinewidth": 0,
              "ticks": ""
             }
            },
            "type": "scatterpolargl"
           }
          ],
          "scatterternary": [
           {
            "marker": {
             "colorbar": {
              "outlinewidth": 0,
              "ticks": ""
             }
            },
            "type": "scatterternary"
           }
          ],
          "surface": [
           {
            "colorbar": {
             "outlinewidth": 0,
             "ticks": ""
            },
            "colorscale": [
             [
              0,
              "#0d0887"
             ],
             [
              0.1111111111111111,
              "#46039f"
             ],
             [
              0.2222222222222222,
              "#7201a8"
             ],
             [
              0.3333333333333333,
              "#9c179e"
             ],
             [
              0.4444444444444444,
              "#bd3786"
             ],
             [
              0.5555555555555556,
              "#d8576b"
             ],
             [
              0.6666666666666666,
              "#ed7953"
             ],
             [
              0.7777777777777778,
              "#fb9f3a"
             ],
             [
              0.8888888888888888,
              "#fdca26"
             ],
             [
              1,
              "#f0f921"
             ]
            ],
            "type": "surface"
           }
          ],
          "table": [
           {
            "cells": {
             "fill": {
              "color": "#EBF0F8"
             },
             "line": {
              "color": "white"
             }
            },
            "header": {
             "fill": {
              "color": "#C8D4E3"
             },
             "line": {
              "color": "white"
             }
            },
            "type": "table"
           }
          ]
         },
         "layout": {
          "annotationdefaults": {
           "arrowcolor": "#2a3f5f",
           "arrowhead": 0,
           "arrowwidth": 1
          },
          "autotypenumbers": "strict",
          "coloraxis": {
           "colorbar": {
            "outlinewidth": 0,
            "ticks": ""
           }
          },
          "colorscale": {
           "diverging": [
            [
             0,
             "#8e0152"
            ],
            [
             0.1,
             "#c51b7d"
            ],
            [
             0.2,
             "#de77ae"
            ],
            [
             0.3,
             "#f1b6da"
            ],
            [
             0.4,
             "#fde0ef"
            ],
            [
             0.5,
             "#f7f7f7"
            ],
            [
             0.6,
             "#e6f5d0"
            ],
            [
             0.7,
             "#b8e186"
            ],
            [
             0.8,
             "#7fbc41"
            ],
            [
             0.9,
             "#4d9221"
            ],
            [
             1,
             "#276419"
            ]
           ],
           "sequential": [
            [
             0,
             "#0d0887"
            ],
            [
             0.1111111111111111,
             "#46039f"
            ],
            [
             0.2222222222222222,
             "#7201a8"
            ],
            [
             0.3333333333333333,
             "#9c179e"
            ],
            [
             0.4444444444444444,
             "#bd3786"
            ],
            [
             0.5555555555555556,
             "#d8576b"
            ],
            [
             0.6666666666666666,
             "#ed7953"
            ],
            [
             0.7777777777777778,
             "#fb9f3a"
            ],
            [
             0.8888888888888888,
             "#fdca26"
            ],
            [
             1,
             "#f0f921"
            ]
           ],
           "sequentialminus": [
            [
             0,
             "#0d0887"
            ],
            [
             0.1111111111111111,
             "#46039f"
            ],
            [
             0.2222222222222222,
             "#7201a8"
            ],
            [
             0.3333333333333333,
             "#9c179e"
            ],
            [
             0.4444444444444444,
             "#bd3786"
            ],
            [
             0.5555555555555556,
             "#d8576b"
            ],
            [
             0.6666666666666666,
             "#ed7953"
            ],
            [
             0.7777777777777778,
             "#fb9f3a"
            ],
            [
             0.8888888888888888,
             "#fdca26"
            ],
            [
             1,
             "#f0f921"
            ]
           ]
          },
          "colorway": [
           "#636efa",
           "#EF553B",
           "#00cc96",
           "#ab63fa",
           "#FFA15A",
           "#19d3f3",
           "#FF6692",
           "#B6E880",
           "#FF97FF",
           "#FECB52"
          ],
          "font": {
           "color": "#2a3f5f"
          },
          "geo": {
           "bgcolor": "white",
           "lakecolor": "white",
           "landcolor": "#E5ECF6",
           "showlakes": true,
           "showland": true,
           "subunitcolor": "white"
          },
          "hoverlabel": {
           "align": "left"
          },
          "hovermode": "closest",
          "mapbox": {
           "style": "light"
          },
          "paper_bgcolor": "white",
          "plot_bgcolor": "#E5ECF6",
          "polar": {
           "angularaxis": {
            "gridcolor": "white",
            "linecolor": "white",
            "ticks": ""
           },
           "bgcolor": "#E5ECF6",
           "radialaxis": {
            "gridcolor": "white",
            "linecolor": "white",
            "ticks": ""
           }
          },
          "scene": {
           "xaxis": {
            "backgroundcolor": "#E5ECF6",
            "gridcolor": "white",
            "gridwidth": 2,
            "linecolor": "white",
            "showbackground": true,
            "ticks": "",
            "zerolinecolor": "white"
           },
           "yaxis": {
            "backgroundcolor": "#E5ECF6",
            "gridcolor": "white",
            "gridwidth": 2,
            "linecolor": "white",
            "showbackground": true,
            "ticks": "",
            "zerolinecolor": "white"
           },
           "zaxis": {
            "backgroundcolor": "#E5ECF6",
            "gridcolor": "white",
            "gridwidth": 2,
            "linecolor": "white",
            "showbackground": true,
            "ticks": "",
            "zerolinecolor": "white"
           }
          },
          "shapedefaults": {
           "line": {
            "color": "#2a3f5f"
           }
          },
          "ternary": {
           "aaxis": {
            "gridcolor": "white",
            "linecolor": "white",
            "ticks": ""
           },
           "baxis": {
            "gridcolor": "white",
            "linecolor": "white",
            "ticks": ""
           },
           "bgcolor": "#E5ECF6",
           "caxis": {
            "gridcolor": "white",
            "linecolor": "white",
            "ticks": ""
           }
          },
          "title": {
           "x": 0.05
          },
          "xaxis": {
           "automargin": true,
           "gridcolor": "white",
           "linecolor": "white",
           "ticks": "",
           "title": {
            "standoff": 15
           },
           "zerolinecolor": "white",
           "zerolinewidth": 2
          },
          "yaxis": {
           "automargin": true,
           "gridcolor": "white",
           "linecolor": "white",
           "ticks": "",
           "title": {
            "standoff": 15
           },
           "zerolinecolor": "white",
           "zerolinewidth": 2
          }
         }
        }
       }
      },
      "text/html": [
       "<div>                            <div id=\"c71c8f07-9007-4e0c-a607-80dd64c9c080\" class=\"plotly-graph-div\" style=\"height:525px; width:100%;\"></div>            <script type=\"text/javascript\">                require([\"plotly\"], function(Plotly) {                    window.PLOTLYENV=window.PLOTLYENV || {};                                    if (document.getElementById(\"c71c8f07-9007-4e0c-a607-80dd64c9c080\")) {                    Plotly.newPlot(                        \"c71c8f07-9007-4e0c-a607-80dd64c9c080\",                        [{\"name\": \"combined_nn_train-loss\", \"type\": \"scatter\", \"y\": [1.0858913660049438, 0.9649316072463989, 0.9523940682411194, 0.9492166042327881, 0.9425086975097656, 0.9394137859344482, 0.9338079690933228, 0.9242844581604004, 0.9229106307029724, 0.9219926595687866, 0.9082212448120117, 0.9022692441940308, 0.9016770124435425, 0.8929126858711243, 0.890405535697937, 0.8853495121002197, 0.8884085416793823, 0.8724134564399719, 0.8687204718589783, 0.8648239374160767, 0.8652381896972656, 0.8538679480552673, 0.8522379398345947, 0.8460294008255005, 0.837958037853241, 0.8422949314117432, 0.8308820128440857, 0.8312348127365112, 0.8230451941490173, 0.8204350471496582, 0.8102223873138428, 0.8096408247947693, 0.8088890314102173, 0.7945050597190857, 0.797591507434845, 0.7893047332763672, 0.7896981835365295, 0.7850426435470581, 0.7775354981422424, 0.7737632989883423, 0.7698046565055847, 0.7639977335929871, 0.754348874092102, 0.7461437582969666, 0.7407127618789673, 0.7322869896888733, 0.7223427891731262, 0.7103853821754456, 0.7006491422653198, 0.6983044743537903, 0.6931405067443848, 0.6859725117683411, 0.6837517619132996, 0.6768158078193665, 0.6736200451850891, 0.6717081069946289, 0.6626372933387756, 0.6612992882728577, 0.6585321426391602, 0.6608083844184875, 0.656480610370636, 0.6491031050682068, 0.6505019664764404, 0.6453042030334473, 0.6454513072967529, 0.6421410441398621, 0.6329533457756042, 0.635878324508667, 0.632508397102356, 0.6306143999099731, 0.6314488649368286, 0.6273205280303955, 0.625388503074646, 0.6278386116027832, 0.6205945611000061, 0.6211328506469727, 0.6153775453567505, 0.618408739566803, 0.6140453815460205, 0.6092774868011475, 0.6092761754989624, 0.6085368394851685, 0.6065831184387207, 0.6021286249160767, 0.6002674102783203, 0.6006497740745544, 0.6002424955368042, 0.595166027545929, 0.5952492952346802, 0.5949268937110901, 0.5936447978019714, 0.5912204384803772, 0.5896021723747253, 0.5855408906936646, 0.5895294547080994, 0.5865435600280762, 0.5841506719589233, 0.5856590270996094, 0.5823566317558289, 0.5780773162841797, 0.5773456692695618, 0.5766148567199707, 0.5733592510223389, 0.5724003314971924, 0.5726420283317566, 0.5720625519752502, 0.5724037885665894, 0.5678965449333191, 0.5676888227462769, 0.5685368776321411, 0.5648918151855469, 0.5624224543571472, 0.5621893405914307, 0.5633569955825806, 0.559964656829834, 0.5583527088165283, 0.556214451789856, 0.5561944842338562, 0.5528983473777771, 0.5517155528068542, 0.5504367351531982, 0.5500668287277222, 0.5504708886146545, 0.5505630970001221, 0.548728883266449, 0.5468928813934326, 0.5469586253166199, 0.5453875064849854, 0.5461491942405701, 0.5426313877105713, 0.5404183268547058, 0.5386976003646851, 0.5390151739120483, 0.5370008945465088, 0.5373315811157227, 0.536771833896637, 0.5363903641700745, 0.5326918959617615, 0.5320630669593811, 0.5323197841644287, 0.5335037708282471, 0.5309314727783203, 0.5312073826789856, 0.5273419618606567, 0.5269721150398254, 0.5261855125427246, 0.5261504054069519, 0.5222299098968506, 0.5245162844657898, 0.5196005702018738, 0.5217452645301819, 0.5194896459579468, 0.5199975371360779, 0.5179517865180969, 0.5172677040100098, 0.5159904360771179, 0.5149992108345032, 0.5138586759567261, 0.515995442867279, 0.5106918215751648, 0.5101141929626465, 0.512662947177887, 0.5101224780082703, 0.5105376839637756, 0.5085602402687073, 0.5127003788948059, 0.5072006583213806, 0.5066409707069397, 0.5058750510215759, 0.5061507225036621, 0.5045937895774841, 0.5030660629272461, 0.5011785626411438, 0.5010377168655396, 0.5004014372825623, 0.4978237450122833, 0.5012800693511963, 0.4995100498199463, 0.4985697567462921, 0.4967379868030548, 0.49555110931396484, 0.49367663264274597, 0.4939570128917694, 0.4962533414363861, 0.4931744933128357, 0.49360641837120056, 0.4935905635356903, 0.4918583929538727, 0.4908972382545471, 0.49018412828445435, 0.49015212059020996, 0.4888067841529846, 0.486842542886734, 0.486642062664032, 0.4865686297416687, 0.48572275042533875, 0.48509034514427185, 0.4847354292869568, 0.4837188422679901, 0.4845992922782898, 0.4832156300544739, 0.4822207987308502, 0.4821336567401886, 0.48126059770584106, 0.48141008615493774, 0.47986966371536255, 0.48025044798851013, 0.4801490604877472, 0.4773741364479065, 0.4777240455150604, 0.4785689413547516, 0.4760727286338806, 0.47732943296432495, 0.4772535264492035, 0.476480633020401, 0.47390663623809814, 0.47614139318466187, 0.47623613476753235, 0.47320711612701416, 0.47312790155410767, 0.4734475910663605, 0.47606387734413147, 0.4729462265968323, 0.4719092845916748, 0.47075363993644714, 0.4719031751155853, 0.4696582555770874, 0.46986258029937744, 0.46865296363830566, 0.47062093019485474, 0.4687872529029846, 0.4681019186973572, 0.46814122796058655, 0.4683529734611511, 0.46806854009628296, 0.46663978695869446, 0.4659979045391083, 0.464999258518219, 0.46452629566192627, 0.46495968103408813, 0.46378034353256226, 0.46556556224823, 0.46459242701530457, 0.46370792388916016, 0.46438515186309814, 0.46320268511772156, 0.464124858379364, 0.46241122484207153, 0.46145692467689514, 0.46177640557289124, 0.4630711078643799, 0.4610346853733063, 0.4611303210258484, 0.4604552984237671, 0.4614895284175873, 0.46167081594467163, 0.4610263705253601, 0.4596812427043915, 0.46122103929519653, 0.4604344964027405, 0.4594246745109558, 0.4600345492362976, 0.4590919315814972, 0.45851951837539673, 0.45868849754333496, 0.4599018096923828, 0.45911750197410583, 0.4582977294921875, 0.4579830467700958, 0.45760178565979004, 0.4574293792247772, 0.4578840136528015, 0.4558241367340088, 0.4560967981815338, 0.457062304019928, 0.4577106535434723, 0.4577183425426483, 0.4547218978404999, 0.4555610716342926, 0.45525071024894714, 0.4577420949935913, 0.45509642362594604, 0.4547271430492401, 0.4539138674736023, 0.4535723030567169, 0.45542654395103455, 0.45420360565185547, 0.45324015617370605, 0.45403677225112915, 0.454583078622818, 0.45589280128479004, 0.4526257812976837, 0.4534464180469513, 0.45451420545578003, 0.45406654477119446, 0.4532199800014496, 0.4533601701259613, 0.452379047870636, 0.45502641797065735, 0.45262253284454346, 0.4521408677101135, 0.45163342356681824, 0.4532754421234131, 0.4513038396835327, 0.45164525508880615, 0.45139122009277344, 0.45172274112701416, 0.4503040015697479, 0.4514135420322418, 0.4517362415790558, 0.4524272680282593, 0.4508483409881592, 0.45036107301712036, 0.4505644142627716, 0.44944092631340027, 0.4504162073135376, 0.450991690158844, 0.451509028673172, 0.4502941966056824, 0.44975996017456055, 0.449775367975235, 0.45092466473579407, 0.4494471251964569, 0.4496980309486389, 0.4493095874786377, 0.44911763072013855, 0.45096972584724426, 0.44914764165878296, 0.4481912851333618, 0.44848552346229553, 0.4483371078968048, 0.44865915179252625, 0.44854360818862915, 0.4482494294643402, 0.44848281145095825, 0.44817915558815, 0.449758380651474, 0.44741371273994446, 0.44785335659980774, 0.4475874602794647, 0.4484344720840454, 0.4478030800819397, 0.4474947154521942, 0.44927188754081726, 0.4478297531604767, 0.4471815526485443, 0.4481372833251953, 0.44804152846336365, 0.4481111466884613, 0.44784659147262573, 0.4469175934791565, 0.44720128178596497, 0.44749605655670166, 0.44766294956207275, 0.44694042205810547, 0.4464477002620697, 0.44621196389198303, 0.4469134211540222, 0.44778549671173096, 0.44618210196495056, 0.44597724080085754, 0.44650769233703613, 0.44671201705932617, 0.4464472830295563, 0.44752630591392517, 0.445889413356781, 0.4454403221607208, 0.4458250105381012, 0.4464596211910248, 0.44650447368621826, 0.44621542096138, 0.4469496011734009, 0.4464567005634308, 0.44557738304138184, 0.44522517919540405, 0.4454055726528168, 0.444766640663147, 0.44621288776397705, 0.44643324613571167, 0.44633767008781433, 0.4446566104888916, 0.44603973627090454, 0.44555336236953735, 0.4459497034549713, 0.44465604424476624, 0.4449041783809662, 0.44495758414268494, 0.44532713294029236, 0.4453776776790619, 0.4442509412765503, 0.44401904940605164, 0.44510459899902344, 0.4445670247077942, 0.4442371726036072, 0.4445977509021759, 0.44526588916778564, 0.4443734288215637, 0.44434645771980286, 0.4444296956062317, 0.44470858573913574, 0.4435647428035736, 0.44394412636756897, 0.44371333718299866, 0.4447518289089203, 0.4445759356021881, 0.4441607594490051, 0.44413599371910095, 0.4445139765739441, 0.4446295201778412, 0.4437375068664551, 0.4436642825603485, 0.4438767731189728, 0.44336238503456116, 0.4427890479564667, 0.4426654875278473, 0.4448705315589905, 0.4449079930782318, 0.4434854984283447, 0.4427567720413208, 0.44352737069129944, 0.44413548707962036, 0.44346487522125244, 0.4453040361404419, 0.44385141134262085, 0.4431042969226837, 0.4426671266555786, 0.4431670904159546, 0.4431534707546234, 0.44296255707740784, 0.4437251091003418, 0.44226521253585815, 0.4427613317966461, 0.4434117376804352, 0.44246554374694824, 0.4429318904876709, 0.4438841640949249, 0.44269922375679016, 0.44255784153938293, 0.4422646462917328, 0.44248709082603455, 0.44303199648857117, 0.44234326481819153, 0.443486750125885, 0.44300559163093567, 0.4426482915878296, 0.44179481267929077, 0.4418172538280487, 0.44335976243019104, 0.4422198534011841, 0.44261273741722107, 0.44227489829063416, 0.4428628981113434, 0.44176462292671204, 0.44367995858192444, 0.4422489106655121, 0.44187653064727783, 0.44260892271995544, 0.44277873635292053, 0.44251471757888794, 0.44180917739868164, 0.442522257566452, 0.4421534538269043, 0.44224098324775696, 0.4421662986278534, 0.44156748056411743, 0.441745400428772, 0.44162797927856445, 0.44185763597488403, 0.44168034195899963, 0.4423828423023224, 0.4412575364112854, 0.44122254848480225, 0.44115614891052246, 0.44127169251441956, 0.44199037551879883, 0.44198909401893616, 0.4411987066268921, 0.4411954879760742, 0.4409591257572174, 0.44075843691825867, 0.44147223234176636, 0.44134536385536194, 0.4408716857433319, 0.44069722294807434, 0.4406627118587494, 0.4414464831352234, 0.4414035379886627, 0.4409479796886444, 0.44115641713142395, 0.44062110781669617, 0.44030487537384033, 0.44096434116363525, 0.4405311942100525, 0.4406931698322296, 0.4413856863975525, 0.4417777359485626, 0.44236084818840027, 0.4420122504234314, 0.4404115676879883, 0.44016632437705994, 0.4408740699291229, 0.44057130813598633, 0.4401363134384155, 0.44097936153411865, 0.44145533442497253, 0.44055643677711487, 0.44039809703826904, 0.4404686689376831, 0.4406023919582367, 0.44118520617485046, 0.4406028389930725, 0.44043299555778503, 0.44013041257858276, 0.44082435965538025, 0.44025155901908875, 0.44066327810287476, 0.4402620792388916, 0.4400085210800171, 0.44041597843170166, 0.4403952658176422, 0.4397508203983307, 0.4406028985977173, 0.4409905970096588, 0.439415842294693, 0.44013795256614685, 0.44033995270729065, 0.439915269613266, 0.4406379759311676, 0.4400539696216583, 0.4395834505558014, 0.43938398361206055, 0.43952247500419617, 0.44038450717926025, 0.4397509694099426, 0.43959611654281616, 0.43935686349868774, 0.44010403752326965, 0.44081082940101624, 0.4392493665218353, 0.4399902820587158, 0.4406960606575012, 0.4398319125175476, 0.440033495426178, 0.4401136040687561, 0.4408200681209564, 0.44024065136909485, 0.4403730034828186, 0.4401121437549591, 0.43995964527130127, 0.44111889600753784, 0.4399827718734741, 0.43937522172927856, 0.43958303332328796, 0.43953606486320496, 0.439691960811615, 0.43931788206100464, 0.4391910135746002, 0.4387257993221283, 0.43963247537612915, 0.43994611501693726, 0.43952077627182007, 0.43967944383621216, 0.43895065784454346, 0.4394032955169678, 0.4389816224575043, 0.4393306374549866, 0.439785897731781, 0.4401065409183502, 0.43967047333717346, 0.43960678577423096, 0.4393758475780487, 0.43906185030937195, 0.4392910599708557, 0.4387474060058594, 0.4389372169971466, 0.43935737013816833, 0.439187616109848, 0.4399709403514862, 0.43934494256973267, 0.4397662580013275, 0.43927183747291565, 0.4385925531387329, 0.4387533664703369, 0.4388180673122406, 0.438692182302475, 0.4385196566581726, 0.43901047110557556, 0.43816158175468445, 0.43899497389793396, 0.4388177692890167, 0.4390648305416107, 0.4393080472946167, 0.43856388330459595, 0.4384630620479584, 0.438909649848938, 0.4388270974159241, 0.4384796917438507, 0.4392020106315613, 0.43859541416168213, 0.43926116824150085, 0.43908289074897766, 0.43891096115112305, 0.438477098941803, 0.438340961933136, 0.43871572613716125, 0.437976211309433, 0.43881645798683167, 0.43941381573677063, 0.43808144330978394, 0.43851321935653687, 0.4386460483074188, 0.4383290708065033, 0.43786513805389404, 0.43813174962997437, 0.43803519010543823, 0.4382348954677582, 0.4380134642124176, 0.43848374485969543, 0.438632071018219, 0.43816250562667847, 0.4397386908531189, 0.4384455680847168, 0.43830421566963196, 0.4383338391780853, 0.4389394223690033, 0.43871328234672546, 0.43792256712913513, 0.43799859285354614, 0.4378720819950104, 0.4382565915584564, 0.4381440579891205, 0.43799078464508057, 0.4384630024433136, 0.43836432695388794, 0.4382208585739136, 0.43800413608551025, 0.4374595582485199, 0.43894684314727783, 0.43763458728790283, 0.437682569026947, 0.438949853181839, 0.4384486973285675, 0.43755772709846497, 0.4375823438167572, 0.438107430934906, 0.43783506751060486, 0.4378203749656677, 0.4384244978427887, 0.4377972185611725, 0.4383808374404907, 0.43824684619903564, 0.43808436393737793, 0.43741366267204285, 0.43726345896720886, 0.43832290172576904, 0.4381061792373657, 0.4380040764808655, 0.4386965036392212, 0.4383891522884369, 0.4380109906196594, 0.43722158670425415, 0.4375488758087158, 0.43816936016082764, 0.43718382716178894, 0.43777957558631897, 0.43785300850868225, 0.4369998872280121, 0.43740180134773254, 0.43794456124305725, 0.4382408559322357, 0.4376530349254608, 0.43724876642227173, 0.43773895502090454, 0.43714872002601624, 0.43855616450309753, 0.43791064620018005, 0.4381624758243561, 0.43911927938461304, 0.4376225173473358, 0.43718084692955017, 0.4372880756855011, 0.4376245439052582, 0.43874022364616394, 0.43741723895072937, 0.4378527104854584, 0.4373846650123596, 0.43785378336906433, 0.43809735774993896, 0.4377671182155609, 0.4375556707382202, 0.4371357560157776, 0.4369773864746094, 0.4372117817401886, 0.4374089539051056, 0.4371889531612396, 0.43726763129234314, 0.43675175309181213, 0.43722420930862427, 0.4370415508747101, 0.43741822242736816, 0.4369838237762451, 0.43796056509017944, 0.4373641312122345, 0.4375670552253723, 0.43689095973968506, 0.43696659803390503, 0.4368441104888916, 0.4375724196434021, 0.4369591474533081, 0.4371767044067383, 0.436788946390152, 0.43692880868911743, 0.43670883774757385, 0.4368368983268738, 0.4370776414871216, 0.43720543384552, 0.43749144673347473, 0.4375516474246979, 0.43722084164619446, 0.43699344992637634, 0.4370579421520233, 0.43710318207740784, 0.4370712637901306, 0.4379136562347412, 0.4377260208129883, 0.43729734420776367, 0.4372164011001587, 0.4365590810775757, 0.4367203414440155, 0.4370647370815277, 0.4369905889034271, 0.4369662404060364, 0.436956524848938, 0.4366993308067322, 0.43741708993911743, 0.436798632144928, 0.4365248382091522, 0.43740400671958923, 0.43637531995773315, 0.4368283748626709, 0.43646368384361267, 0.43638625741004944, 0.4371111989021301, 0.437183678150177, 0.4366011917591095, 0.43759885430336, 0.4364936053752899, 0.4363906681537628, 0.4364994466304779, 0.43641334772109985, 0.4361903965473175, 0.4364674389362335, 0.4364142417907715, 0.4361957609653473, 0.43650758266448975, 0.43650001287460327, 0.4374517798423767, 0.43722864985466003, 0.4366680979728699, 0.4363008141517639, 0.43658778071403503, 0.43731632828712463, 0.43670418858528137, 0.43779146671295166, 0.4367339611053467, 0.43662503361701965, 0.4362295866012573, 0.43645742535591125, 0.4359472692012787, 0.43616166710853577, 0.4358823895454407, 0.4370996654033661, 0.4366146922111511, 0.43647563457489014, 0.43605998158454895, 0.4362832307815552, 0.43677496910095215, 0.4361908733844757, 0.43649813532829285, 0.4365289509296417, 0.4363158345222473, 0.43591588735580444, 0.4364478886127472, 0.43627360463142395, 0.43598559498786926, 0.4372566342353821, 0.4364897906780243, 0.43686437606811523, 0.43612048029899597, 0.43633103370666504, 0.436342716217041, 0.4359063506126404, 0.4362509250640869, 0.4362432360649109, 0.4362052381038666, 0.43750759959220886, 0.43700650334358215, 0.43582668900489807, 0.4368870258331299, 0.43674933910369873, 0.43705320358276367, 0.43617960810661316, 0.4362606704235077, 0.43613532185554504, 0.4359881579875946, 0.4360637962818146, 0.4366600513458252, 0.43657058477401733, 0.43651169538497925, 0.4359641671180725, 0.4364243745803833, 0.436349093914032, 0.4358498156070709, 0.43588313460350037, 0.4362817406654358, 0.4360007047653198, 0.4357540011405945, 0.43566837906837463, 0.43640586733818054, 0.4362926781177521, 0.4357950687408447, 0.4355855882167816, 0.43645817041397095, 0.4360334873199463, 0.4358941614627838, 0.43567052483558655, 0.4354393482208252, 0.4362829625606537, 0.4367109537124634, 0.4359016418457031, 0.4357652962207794, 0.4354592263698578, 0.4357563257217407, 0.43578821420669556, 0.43596842885017395, 0.4357689917087555, 0.43603065609931946, 0.4353814721107483, 0.4354587197303772, 0.43640321493148804, 0.43622225522994995, 0.43600597977638245, 0.4362562894821167, 0.4358111619949341, 0.4356958568096161, 0.4360884428024292, 0.43735939264297485, 0.43681973218917847, 0.4360780715942383, 0.43602892756462097, 0.43582263588905334, 0.4355449974536896, 0.435969740152359, 0.4359890818595886, 0.43546411395072937, 0.43618884682655334, 0.4360572397708893, 0.4352768361568451, 0.4354766309261322, 0.4359639883041382, 0.4356687366962433, 0.43536368012428284, 0.43566060066223145, 0.43489035964012146, 0.43576276302337646, 0.4359699785709381, 0.4361327588558197, 0.43531355261802673, 0.43565523624420166, 0.4352467656135559, 0.43584612011909485, 0.4357331693172455, 0.4360698163509369, 0.43540266156196594, 0.43582794070243835, 0.4352701008319855, 0.4353191554546356, 0.43519797921180725, 0.435923308134079, 0.4350293278694153, 0.43512386083602905, 0.4353552758693695, 0.4360846281051636, 0.4355000853538513, 0.4358676075935364, 0.43530982732772827, 0.4352846145629883, 0.4349741041660309, 0.43567949533462524, 0.4356878697872162, 0.43543457984924316, 0.4361601769924164, 0.43553340435028076, 0.4357421398162842, 0.43529459834098816, 0.43562397360801697, 0.43551015853881836, 0.435030072927475, 0.4352906048297882, 0.43475618958473206, 0.43525391817092896, 0.43533408641815186, 0.43557634949684143, 0.43564140796661377, 0.4351799190044403, 0.43503355979919434, 0.43583062291145325, 0.43480536341667175, 0.43498972058296204, 0.4353410303592682, 0.4351339340209961, 0.43488049507141113, 0.43494945764541626, 0.43519967794418335, 0.43467235565185547, 0.4350396990776062, 0.4350467324256897, 0.4351206123828888, 0.43542972207069397, 0.43474000692367554, 0.43536803126335144, 0.4353380501270294, 0.43513286113739014, 0.43527665734291077, 0.4353640675544739, 0.4348730742931366, 0.43497925996780396, 0.4355417788028717, 0.43516096472740173, 0.43458038568496704, 0.43486806750297546, 0.4351172149181366, 0.4353613257408142, 0.4349499046802521, 0.43485942482948303, 0.4353470206260681, 0.43471255898475647, 0.4348694682121277, 0.4348638355731964, 0.4361840486526489, 0.43581947684288025, 0.43478846549987793, 0.4346470236778259, 0.43516814708709717, 0.43501782417297363, 0.4355214238166809, 0.43483373522758484, 0.4349499046802521, 0.4348655641078949, 0.43510961532592773, 0.4351959824562073, 0.4352053105831146, 0.4351981282234192, 0.4363580346107483, 0.43478989601135254, 0.4347131848335266, 0.43533703684806824, 0.435596764087677, 0.43469929695129395, 0.4353022575378418, 0.4353879988193512, 0.4348592162132263, 0.4345739185810089, 0.4348090887069702, 0.43444791436195374, 0.4346635341644287, 0.43479278683662415, 0.4344829320907593, 0.43470337986946106, 0.43485450744628906, 0.4350188672542572, 0.43471866846084595, 0.43489453196525574, 0.43445345759391785, 0.43465107679367065, 0.43459373712539673, 0.4344853460788727, 0.43481335043907166, 0.43442031741142273, 0.43489453196525574, 0.4354805648326874, 0.43473491072654724, 0.4349098205566406, 0.43460211157798767, 0.43468254804611206, 0.43457069993019104, 0.4344828426837921, 0.43491289019584656, 0.434699147939682, 0.4348456561565399, 0.4350101947784424, 0.43428900837898254, 0.43442466855049133, 0.4350737929344177, 0.43436846137046814, 0.4363318383693695, 0.4350629150867462, 0.4344342052936554, 0.43427327275276184, 0.43415185809135437]}, {\"name\": \"combined_nn_val-loss\", \"type\": \"scatter\", \"y\": [2.023517608642578, 1.9510831832885742, 1.9523814916610718, 1.8830097913742065, 1.829010009765625, 1.7659968137741089, 1.7288525104522705, 1.7023210525512695, 1.679758071899414, 1.6652557849884033, 1.6018263101577759, 1.6079649925231934, 1.531131386756897, 1.4806748628616333, 1.5111260414123535, 1.505015254020691, 1.500490665435791, 1.4449859857559204, 1.4029911756515503, 1.4405670166015625, 1.3985868692398071, 1.2915996313095093, 1.2546712160110474, 1.2402374744415283, 1.2402034997940063, 1.2191683053970337, 1.178672194480896, 1.1421842575073242, 1.153389811515808, 1.116054654121399, 1.131328821182251, 1.0418270826339722, 1.0575355291366577, 1.065446376800537, 1.0670957565307617, 1.0195257663726807, 1.010382890701294, 0.9916845560073853, 0.9641794562339783, 0.9579581618309021, 0.9372310638427734, 0.8928076028823853, 0.8587494492530823, 0.8342313766479492, 0.7871659994125366, 0.7896155714988708, 0.7201088666915894, 0.6689700484275818, 0.6530871987342834, 0.6222674250602722, 0.6188944578170776, 0.5861563682556152, 0.5728399753570557, 0.5566883683204651, 0.56234210729599, 0.5512095093727112, 0.5332934856414795, 0.5356364250183105, 0.5404970645904541, 0.5247970819473267, 0.5311436653137207, 0.5097984075546265, 0.5182307362556458, 0.5335130095481873, 0.5303287506103516, 0.5217172503471375, 0.5092566609382629, 0.4990559220314026, 0.48757556080818176, 0.4995149075984955, 0.4918169677257538, 0.49080121517181396, 0.5219362378120422, 0.510325014591217, 0.49310609698295593, 0.5043256878852844, 0.4941677153110504, 0.5004230737686157, 0.5162012577056885, 0.49573245644569397, 0.48393872380256653, 0.5034133195877075, 0.47028541564941406, 0.4756990075111389, 0.4851778447628021, 0.4652755558490753, 0.4946424067020416, 0.4726319909095764, 0.46872979402542114, 0.4663725793361664, 0.4967978596687317, 0.5091683268547058, 0.46210476756095886, 0.47464314103126526, 0.4784117341041565, 0.48119091987609863, 0.46637415885925293, 0.47462671995162964, 0.45576533675193787, 0.4686706066131592, 0.4629354476928711, 0.4615277945995331, 0.473317414522171, 0.4758511781692505, 0.45030081272125244, 0.4576743543148041, 0.46057045459747314, 0.45496585965156555, 0.45325523614883423, 0.46373844146728516, 0.4659615159034729, 0.46957337856292725, 0.4708569645881653, 0.441598504781723, 0.46731242537498474, 0.44695764780044556, 0.4623855650424957, 0.4403475821018219, 0.4591783881187439, 0.4595838189125061, 0.4461183249950409, 0.4632379412651062, 0.45333635807037354, 0.4674501419067383, 0.4522435665130615, 0.45148101449012756, 0.44803386926651, 0.4463023245334625, 0.45067352056503296, 0.4532953202724457, 0.44085657596588135, 0.44155511260032654, 0.45319217443466187, 0.4319494664669037, 0.43753015995025635, 0.42958173155784607, 0.4479149580001831, 0.42256075143814087, 0.44291186332702637, 0.45784851908683777, 0.4358675181865692, 0.44049331545829773, 0.4490419030189514, 0.4470766484737396, 0.4388214647769928, 0.43162471055984497, 0.42435622215270996, 0.4258095920085907, 0.434315025806427, 0.42075371742248535, 0.42266079783439636, 0.43183383345603943, 0.4339437782764435, 0.4246075451374054, 0.4223485291004181, 0.4320997893810272, 0.4343709349632263, 0.42019835114479065, 0.4336531460285187, 0.428727388381958, 0.43405410647392273, 0.414160817861557, 0.4270520806312561, 0.4248197674751282, 0.41956955194473267, 0.41668885946273804, 0.4251600503921509, 0.41701772809028625, 0.411030650138855, 0.4184013903141022, 0.41717520356178284, 0.4192350506782532, 0.41553154587745667, 0.4207044839859009, 0.41943371295928955, 0.41731759905815125, 0.4007640480995178, 0.42928510904312134, 0.40989047288894653, 0.4130829870700836, 0.41103121638298035, 0.41868114471435547, 0.4082808494567871, 0.41401785612106323, 0.41009679436683655, 0.4079253077507019, 0.40507420897483826, 0.4123154580593109, 0.40539056062698364, 0.4007968604564667, 0.40553387999534607, 0.39577701687812805, 0.3957064747810364, 0.4221588671207428, 0.4024866819381714, 0.40457379817962646, 0.40469273924827576, 0.40329617261886597, 0.4007229208946228, 0.39378589391708374, 0.39197707176208496, 0.40513333678245544, 0.39398735761642456, 0.3965674638748169, 0.3952715992927551, 0.39612653851509094, 0.4012768864631653, 0.3941064774990082, 0.4015873372554779, 0.38722264766693115, 0.3950512409210205, 0.4057253301143646, 0.4006426930427551, 0.3930432200431824, 0.3920705020427704, 0.3925407826900482, 0.3887031376361847, 0.38988062739372253, 0.39313116669654846, 0.3918493092060089, 0.3869118392467499, 0.38855189085006714, 0.3890305757522583, 0.38810014724731445, 0.389659583568573, 0.3889431953430176, 0.39237117767333984, 0.38252922892570496, 0.3797389566898346, 0.38555973768234253, 0.38739126920700073, 0.3853674530982971, 0.38356250524520874, 0.3864302635192871, 0.3785562515258789, 0.38103577494621277, 0.3872535228729248, 0.3825657069683075, 0.38537710905075073, 0.37882164120674133, 0.3729177713394165, 0.3739962577819824, 0.3772050738334656, 0.37315991520881653, 0.3821018934249878, 0.37153685092926025, 0.37497615814208984, 0.37229928374290466, 0.3733506500720978, 0.38410529494285583, 0.37119877338409424, 0.37305569648742676, 0.3749120235443115, 0.37650781869888306, 0.3707811236381531, 0.37847474217414856, 0.367857426404953, 0.369952529668808, 0.37148404121398926, 0.38300588726997375, 0.3770274519920349, 0.367291122674942, 0.36937254667282104, 0.367755264043808, 0.36712682247161865, 0.3657054305076599, 0.37771910429000854, 0.37204092741012573, 0.370321124792099, 0.36610716581344604, 0.37431395053863525, 0.36992380023002625, 0.37008190155029297, 0.3685437738895416, 0.36848893761634827, 0.36320751905441284, 0.3677879571914673, 0.372068852186203, 0.36821967363357544, 0.3663340210914612, 0.36307492852211, 0.36705076694488525, 0.3646669089794159, 0.36630481481552124, 0.37403446435928345, 0.3704473078250885, 0.36364078521728516, 0.3675503730773926, 0.3666318953037262, 0.3628695011138916, 0.3702527582645416, 0.3700070083141327, 0.3673349916934967, 0.3688338100910187, 0.3670121133327484, 0.3755892813205719, 0.3628518879413605, 0.35900425910949707, 0.36286309361457825, 0.3659355640411377, 0.365296870470047, 0.3651510179042816, 0.36519119143486023, 0.36335626244544983, 0.36638739705085754, 0.3663989007472992, 0.36272740364074707, 0.36283525824546814, 0.36395883560180664, 0.36668065190315247, 0.36756953597068787, 0.3624238073825836, 0.364253431558609, 0.36655983328819275, 0.3663690984249115, 0.35905513167381287, 0.3660764992237091, 0.362042099237442, 0.36541712284088135, 0.36445584893226624, 0.36163195967674255, 0.36401239037513733, 0.36504560708999634, 0.360281765460968, 0.3600997030735016, 0.3664829432964325, 0.36419859528541565, 0.36007145047187805, 0.3604658246040344, 0.36715638637542725, 0.36121487617492676, 0.36075136065483093, 0.3606409728527069, 0.362684041261673, 0.36238226294517517, 0.361797034740448, 0.36383599042892456, 0.35992103815078735, 0.3600671589374542, 0.3645078241825104, 0.36083272099494934, 0.3603309988975525, 0.36022689938545227, 0.36185917258262634, 0.36158087849617004, 0.3596329391002655, 0.3621538281440735, 0.3614344894886017, 0.3620128035545349, 0.36130568385124207, 0.3595145344734192, 0.3623619079589844, 0.3602181673049927, 0.3597303330898285, 0.3598080277442932, 0.35992422699928284, 0.3599662482738495, 0.36126142740249634, 0.3615666925907135, 0.3601897060871124, 0.36119550466537476, 0.36128658056259155, 0.3601953089237213, 0.36533838510513306, 0.3612169325351715, 0.3597128987312317, 0.35993117094039917, 0.3603556454181671, 0.3595285713672638, 0.3616510331630707, 0.3643903136253357, 0.36316409707069397, 0.3587748408317566, 0.36036503314971924, 0.3610759675502777, 0.361303448677063, 0.3594139814376831, 0.363383024930954, 0.3615543842315674, 0.36024025082588196, 0.3609306812286377, 0.360100656747818, 0.3596866726875305, 0.36009740829467773, 0.3601800501346588, 0.36237597465515137, 0.3590177595615387, 0.360361784696579, 0.36044448614120483, 0.36159712076187134, 0.3595357835292816, 0.36024588346481323, 0.36148306727409363, 0.3589591383934021, 0.3585565388202667, 0.3600701093673706, 0.36160191893577576, 0.3595251739025116, 0.3582622706890106, 0.3598649799823761, 0.36003586649894714, 0.36134546995162964, 0.36100348830223083, 0.3616424798965454, 0.36420443654060364, 0.36036810278892517, 0.3605789840221405, 0.3589918911457062, 0.3609670400619507, 0.36113646626472473, 0.3610318899154663, 0.3611378073692322, 0.3594735860824585, 0.3609713017940521, 0.36097145080566406, 0.36316102743148804, 0.36288535594940186, 0.3607884645462036, 0.3614855706691742, 0.35984501242637634, 0.35947662591934204, 0.36227163672447205, 0.3631053864955902, 0.36231371760368347, 0.3601328730583191, 0.36135929822921753, 0.363039493560791, 0.3616875410079956, 0.36186566948890686, 0.36321961879730225, 0.3601747751235962, 0.36249661445617676, 0.36530524492263794, 0.3655903935432434, 0.3609010875225067, 0.3629978895187378, 0.360736608505249, 0.3621523678302765, 0.36352962255477905, 0.3616713583469391, 0.36306554079055786, 0.3632534146308899, 0.36409613490104675, 0.36193737387657166, 0.3627459704875946, 0.3630419075489044, 0.3620894253253937, 0.36261260509490967, 0.36190280318260193, 0.36117497086524963, 0.3642440736293793, 0.36363860964775085, 0.36878225207328796, 0.36713096499443054, 0.36209046840667725, 0.362382709980011, 0.36147961020469666, 0.3602284789085388, 0.36187416315078735, 0.36138829588890076, 0.3637984097003937, 0.36305707693099976, 0.36406463384628296, 0.3646305203437805, 0.3663163185119629, 0.3631170690059662, 0.3669103980064392, 0.3645935356616974, 0.36294320225715637, 0.3618561923503876, 0.36805588006973267, 0.3627144694328308, 0.36610719561576843, 0.36613938212394714, 0.36621057987213135, 0.3643970489501953, 0.3677034378051758, 0.36512327194213867, 0.3644876778125763, 0.3650568723678589, 0.36727944016456604, 0.36334481835365295, 0.36198440194129944, 0.3655408024787903, 0.36689069867134094, 0.36427804827690125, 0.36355698108673096, 0.3623262643814087, 0.36536166071891785, 0.3642965853214264, 0.36518675088882446, 0.3631816506385803, 0.36333805322647095, 0.36200353503227234, 0.36546799540519714, 0.36432042717933655, 0.36387622356414795, 0.36541178822517395, 0.3655836880207062, 0.3627801239490509, 0.3687888979911804, 0.365680992603302, 0.3688929080963135, 0.365909606218338, 0.3664308786392212, 0.36487600207328796, 0.36480721831321716, 0.3623010814189911, 0.3686111867427826, 0.3693139851093292, 0.36394092440605164, 0.3653116524219513, 0.3673233985900879, 0.3639058768749237, 0.36669543385505676, 0.36573708057403564, 0.3644733130931854, 0.36380672454833984, 0.37154024839401245, 0.36963024735450745, 0.3649345338344574, 0.3668301999568939, 0.36703935265541077, 0.3666403591632843, 0.3667372167110443, 0.3625606894493103, 0.3697667121887207, 0.3652879595756531, 0.3666505813598633, 0.36536654829978943, 0.36638233065605164, 0.3650822639465332, 0.36948367953300476, 0.3650682270526886, 0.36904820799827576, 0.36801716685295105, 0.3705913722515106, 0.3669116795063019, 0.36337876319885254, 0.3677964210510254, 0.36764708161354065, 0.3706136643886566, 0.36754581332206726, 0.3637157380580902, 0.3653426766395569, 0.37209072709083557, 0.370695024728775, 0.36638206243515015, 0.3692142963409424, 0.3697206974029541, 0.3643753230571747, 0.3696975111961365, 0.3676597774028778, 0.3688526451587677, 0.3645210266113281, 0.37225082516670227, 0.365969717502594, 0.36873090267181396, 0.37440723180770874, 0.3655824065208435, 0.3669455647468567, 0.36564144492149353, 0.36446064710617065, 0.3643542528152466, 0.3710409700870514, 0.37312212586402893, 0.36966127157211304, 0.369075208902359, 0.3659994304180145, 0.368589848279953, 0.3715916574001312, 0.36788907647132874, 0.37079229950904846, 0.3686021864414215, 0.3679315149784088, 0.368740439414978, 0.3651352822780609, 0.3661734461784363, 0.36645662784576416, 0.3683139383792877, 0.3760378062725067, 0.3661031126976013, 0.3681674003601074, 0.37063729763031006, 0.37259629368782043, 0.36962100863456726, 0.37064096331596375, 0.3751794993877411, 0.3725977838039398, 0.37072673439979553, 0.37791070342063904, 0.37437379360198975, 0.3668075501918793, 0.36894404888153076, 0.3658851385116577, 0.3658820390701294, 0.3677743375301361, 0.3690095543861389, 0.36786311864852905, 0.3696337342262268, 0.36758774518966675, 0.36511752009391785, 0.37210890650749207, 0.37168198823928833, 0.3658462464809418, 0.36961105465888977, 0.36402323842048645, 0.3664223253726959, 0.36827102303504944, 0.3683560788631439, 0.3737446367740631, 0.3656274974346161, 0.36869168281555176, 0.3702290654182434, 0.3686061501502991, 0.36572471261024475, 0.3678649961948395, 0.3678426146507263, 0.36925506591796875, 0.36439451575279236, 0.36757925152778625, 0.37056368589401245, 0.3721572160720825, 0.36970269680023193, 0.3706299662590027, 0.3687576353549957, 0.37101295590400696, 0.36891835927963257, 0.37539756298065186, 0.3692164123058319, 0.36848607659339905, 0.36862316727638245, 0.37166061997413635, 0.36627063155174255, 0.36755499243736267, 0.36569085717201233, 0.37429386377334595, 0.3703140914440155, 0.37490662932395935, 0.3683735728263855, 0.3676525354385376, 0.36978796124458313, 0.3687410354614258, 0.37115025520324707, 0.36518532037734985, 0.36947953701019287, 0.37546876072883606, 0.37275221943855286, 0.3671185374259949, 0.3645363450050354, 0.365642249584198, 0.3689250349998474, 0.37259501218795776, 0.3649335205554962, 0.37012559175491333, 0.37799134850502014, 0.3706094026565552, 0.37242892384529114, 0.3658352196216583, 0.370197057723999, 0.36792105436325073, 0.3691002130508423, 0.3742518723011017, 0.36589354276657104, 0.37961170077323914, 0.36743953824043274, 0.3741433024406433, 0.37189722061157227, 0.37661343812942505, 0.36960792541503906, 0.3665619492530823, 0.3710833191871643, 0.3673861026763916, 0.3727266490459442, 0.37509962916374207, 0.3846171498298645, 0.3716583549976349, 0.367891788482666, 0.36582013964653015, 0.3693799078464508, 0.36853650212287903, 0.3663485646247864, 0.3677351176738739, 0.3750882148742676, 0.36761802434921265, 0.36914339661598206, 0.3690442442893982, 0.3683302700519562, 0.36824312806129456, 0.37090352177619934, 0.3710668385028839, 0.3692142963409424, 0.3685115873813629, 0.3717668354511261, 0.3715296983718872, 0.37167108058929443, 0.37125563621520996, 0.36919111013412476, 0.36933931708335876, 0.36948326230049133, 0.366628497838974, 0.3672153949737549, 0.36979955434799194, 0.37188807129859924, 0.3762665390968323, 0.3680468797683716, 0.3722855746746063, 0.36759305000305176, 0.36798205971717834, 0.37713807821273804, 0.37034717202186584, 0.3681592345237732, 0.37217411398887634, 0.37996232509613037, 0.36929789185523987, 0.3663278818130493, 0.3705833852291107, 0.3737969696521759, 0.37039363384246826, 0.3656572699546814, 0.36333760619163513, 0.3676168918609619, 0.3649459481239319, 0.36727723479270935, 0.3797471523284912, 0.36327552795410156, 0.36697113513946533, 0.36873796582221985, 0.3679361045360565, 0.3724018633365631, 0.36528584361076355, 0.3651901185512543, 0.3681032061576843, 0.37872931361198425, 0.3742941617965698, 0.3750704228878021, 0.36664003133773804, 0.3680512011051178, 0.3653920590877533, 0.367396742105484, 0.37210601568222046, 0.36456239223480225, 0.36718907952308655, 0.3668765723705292, 0.3761650025844574, 0.3726586103439331, 0.368093878030777, 0.3678032159805298, 0.3723120093345642, 0.3718346953392029, 0.36438611149787903, 0.36906862258911133, 0.37237808108329773, 0.36635684967041016, 0.3702203631401062, 0.3726929724216461, 0.3682149052619934, 0.3670138418674469, 0.37399643659591675, 0.37090086936950684, 0.3697220981121063, 0.3704722821712494, 0.3662683665752411, 0.3695141673088074, 0.3680984377861023, 0.3689882159233093, 0.3697502613067627, 0.3773270547389984, 0.36731237173080444, 0.36807408928871155, 0.371209979057312, 0.3668273389339447, 0.3697963058948517, 0.3711181581020355, 0.3709798753261566, 0.367142915725708, 0.3667799234390259, 0.36843395233154297, 0.370939165353775, 0.3676965534687042, 0.37123680114746094, 0.37379923462867737, 0.36994215846061707, 0.3647369146347046, 0.3726237416267395, 0.3649508059024811, 0.37139925360679626, 0.3731381595134735, 0.368701308965683, 0.3667689561843872, 0.3702852129936218, 0.36941635608673096, 0.3765176236629486, 0.37728944420814514, 0.37271031737327576, 0.3752286732196808, 0.377437949180603, 0.3739789128303528, 0.37679389119148254, 0.36648547649383545, 0.37408682703971863, 0.3638911545276642, 0.37694522738456726, 0.37142106890678406, 0.37012675404548645, 0.371277391910553, 0.37214261293411255, 0.3746260404586792, 0.371511846780777, 0.3704599440097809, 0.3733350932598114, 0.3666767179965973, 0.36732393503189087, 0.36593011021614075, 0.374559611082077, 0.36645233631134033, 0.3696472942829132, 0.3677985966205597, 0.3661404550075531, 0.3688715696334839, 0.37292367219924927, 0.3728558421134949, 0.37221017479896545, 0.36756381392478943, 0.3693287968635559, 0.36910906434059143, 0.37472423911094666, 0.3641420006752014, 0.36854538321495056, 0.3739481568336487, 0.3660402297973633, 0.3745346963405609, 0.3719474673271179, 0.37220558524131775, 0.37311094999313354, 0.37259960174560547, 0.36953088641166687, 0.37525704503059387, 0.3763292729854584, 0.364582896232605, 0.3663799464702606, 0.37203413248062134, 0.3677072823047638, 0.3725128471851349, 0.36619827151298523, 0.3691476583480835, 0.378597229719162, 0.3742200434207916, 0.375247597694397, 0.37057796120643616, 0.364536851644516, 0.3788805603981018, 0.3713599443435669, 0.370769202709198, 0.3708422780036926, 0.37384387850761414, 0.3699735999107361, 0.36747702956199646, 0.36699092388153076, 0.36916056275367737, 0.3719361126422882, 0.3714912533760071, 0.36763644218444824, 0.3721952736377716, 0.3685319423675537, 0.367458701133728, 0.3677630126476288, 0.36645057797431946, 0.3687513768672943, 0.369510293006897, 0.37265828251838684, 0.3741089999675751, 0.36737796664237976, 0.371676504611969, 0.3681281805038452, 0.37501588463783264, 0.37197446823120117, 0.37120524048805237, 0.37087482213974, 0.36800774931907654, 0.37817561626434326, 0.3676629066467285, 0.37689825892448425, 0.3650956153869629, 0.37392541766166687, 0.3677656948566437, 0.37328270077705383, 0.36903172731399536, 0.3761323094367981, 0.36920037865638733, 0.3771387040615082, 0.37127214670181274, 0.37097519636154175, 0.3731161057949066, 0.3791412115097046, 0.38282841444015503, 0.3721683621406555, 0.3711280822753906, 0.3706425130367279, 0.37310877442359924, 0.3719079792499542, 0.36756229400634766, 0.3696768581867218, 0.36626186966896057, 0.3792114555835724, 0.3755353093147278, 0.3691340386867523, 0.3716174066066742, 0.3698207139968872, 0.3687724769115448, 0.3764209747314453, 0.37157902121543884, 0.36844661831855774, 0.3712075650691986, 0.3708037734031677, 0.3672892451286316, 0.36504146456718445, 0.3694417178630829, 0.37002626061439514, 0.3665766417980194, 0.3684775233268738, 0.36970391869544983, 0.37142571806907654, 0.378765344619751, 0.3772898018360138, 0.3676646947860718, 0.3742368221282959, 0.3762460947036743, 0.3702804744243622, 0.36909034848213196, 0.3724171221256256, 0.3717549741268158, 0.37003210186958313, 0.37242138385772705, 0.37207552790641785, 0.37007829546928406, 0.3730461299419403, 0.3751610219478607, 0.3668023943901062, 0.36947891116142273, 0.3760335445404053, 0.37279176712036133, 0.3690117597579956, 0.3673064112663269, 0.37238797545433044, 0.3776939809322357, 0.37304335832595825, 0.3711024820804596, 0.3715474009513855, 0.36595985293388367, 0.37275657057762146, 0.37061482667922974, 0.3732326328754425, 0.3692047894001007, 0.37321045994758606, 0.3649999499320984, 0.3710370659828186, 0.3687995970249176, 0.37687164545059204, 0.36516398191452026, 0.365044504404068, 0.37294939160346985, 0.37148231267929077, 0.37081459164619446, 0.37854766845703125, 0.37155649065971375, 0.3682004511356354, 0.3675605356693268, 0.3739006519317627, 0.36824795603752136, 0.37193384766578674, 0.3729771077632904, 0.36586084961891174, 0.3720981478691101, 0.37005308270454407, 0.37414196133613586, 0.3678315579891205, 0.3739922046661377, 0.3672208786010742, 0.3661244511604309, 0.37137922644615173, 0.36668968200683594, 0.3733132481575012, 0.37451624870300293, 0.36950042843818665, 0.37186360359191895, 0.3675276041030884, 0.3692583441734314, 0.3693939745426178, 0.37146082520484924, 0.3649345636367798, 0.371705561876297, 0.36873236298561096, 0.3711625039577484, 0.3759803771972656, 0.3648322522640228, 0.3742118775844574, 0.368634968996048, 0.370037317276001, 0.36577552556991577]}],                        {\"template\": {\"data\": {\"bar\": [{\"error_x\": {\"color\": \"#2a3f5f\"}, \"error_y\": {\"color\": \"#2a3f5f\"}, \"marker\": {\"line\": {\"color\": \"#E5ECF6\", \"width\": 0.5}}, \"type\": \"bar\"}], \"barpolar\": [{\"marker\": {\"line\": {\"color\": \"#E5ECF6\", \"width\": 0.5}}, \"type\": \"barpolar\"}], \"carpet\": [{\"aaxis\": {\"endlinecolor\": \"#2a3f5f\", \"gridcolor\": \"white\", \"linecolor\": \"white\", \"minorgridcolor\": \"white\", \"startlinecolor\": \"#2a3f5f\"}, \"baxis\": {\"endlinecolor\": \"#2a3f5f\", \"gridcolor\": \"white\", \"linecolor\": \"white\", \"minorgridcolor\": \"white\", \"startlinecolor\": \"#2a3f5f\"}, \"type\": \"carpet\"}], \"choropleth\": [{\"colorbar\": {\"outlinewidth\": 0, \"ticks\": \"\"}, \"type\": \"choropleth\"}], \"contour\": [{\"colorbar\": {\"outlinewidth\": 0, \"ticks\": \"\"}, \"colorscale\": [[0.0, \"#0d0887\"], [0.1111111111111111, \"#46039f\"], [0.2222222222222222, \"#7201a8\"], [0.3333333333333333, \"#9c179e\"], [0.4444444444444444, \"#bd3786\"], [0.5555555555555556, \"#d8576b\"], [0.6666666666666666, \"#ed7953\"], [0.7777777777777778, \"#fb9f3a\"], [0.8888888888888888, \"#fdca26\"], [1.0, \"#f0f921\"]], \"type\": \"contour\"}], \"contourcarpet\": [{\"colorbar\": {\"outlinewidth\": 0, \"ticks\": \"\"}, \"type\": \"contourcarpet\"}], \"heatmap\": [{\"colorbar\": {\"outlinewidth\": 0, \"ticks\": \"\"}, \"colorscale\": [[0.0, \"#0d0887\"], [0.1111111111111111, \"#46039f\"], [0.2222222222222222, \"#7201a8\"], [0.3333333333333333, \"#9c179e\"], [0.4444444444444444, \"#bd3786\"], [0.5555555555555556, \"#d8576b\"], [0.6666666666666666, \"#ed7953\"], [0.7777777777777778, \"#fb9f3a\"], [0.8888888888888888, \"#fdca26\"], [1.0, \"#f0f921\"]], \"type\": \"heatmap\"}], \"heatmapgl\": [{\"colorbar\": {\"outlinewidth\": 0, \"ticks\": \"\"}, \"colorscale\": [[0.0, \"#0d0887\"], [0.1111111111111111, \"#46039f\"], [0.2222222222222222, \"#7201a8\"], [0.3333333333333333, \"#9c179e\"], [0.4444444444444444, \"#bd3786\"], [0.5555555555555556, \"#d8576b\"], [0.6666666666666666, \"#ed7953\"], [0.7777777777777778, \"#fb9f3a\"], [0.8888888888888888, \"#fdca26\"], [1.0, \"#f0f921\"]], \"type\": \"heatmapgl\"}], \"histogram\": [{\"marker\": {\"colorbar\": {\"outlinewidth\": 0, \"ticks\": \"\"}}, \"type\": \"histogram\"}], \"histogram2d\": [{\"colorbar\": {\"outlinewidth\": 0, \"ticks\": \"\"}, \"colorscale\": [[0.0, \"#0d0887\"], [0.1111111111111111, \"#46039f\"], [0.2222222222222222, \"#7201a8\"], [0.3333333333333333, \"#9c179e\"], [0.4444444444444444, \"#bd3786\"], [0.5555555555555556, \"#d8576b\"], [0.6666666666666666, \"#ed7953\"], [0.7777777777777778, \"#fb9f3a\"], [0.8888888888888888, \"#fdca26\"], [1.0, \"#f0f921\"]], \"type\": \"histogram2d\"}], \"histogram2dcontour\": [{\"colorbar\": {\"outlinewidth\": 0, \"ticks\": \"\"}, \"colorscale\": [[0.0, \"#0d0887\"], [0.1111111111111111, \"#46039f\"], [0.2222222222222222, \"#7201a8\"], [0.3333333333333333, \"#9c179e\"], [0.4444444444444444, \"#bd3786\"], [0.5555555555555556, \"#d8576b\"], [0.6666666666666666, \"#ed7953\"], [0.7777777777777778, \"#fb9f3a\"], [0.8888888888888888, \"#fdca26\"], [1.0, \"#f0f921\"]], \"type\": \"histogram2dcontour\"}], \"mesh3d\": [{\"colorbar\": {\"outlinewidth\": 0, \"ticks\": \"\"}, \"type\": \"mesh3d\"}], \"parcoords\": [{\"line\": {\"colorbar\": {\"outlinewidth\": 0, \"ticks\": \"\"}}, \"type\": \"parcoords\"}], \"pie\": [{\"automargin\": true, \"type\": \"pie\"}], \"scatter\": [{\"marker\": {\"colorbar\": {\"outlinewidth\": 0, \"ticks\": \"\"}}, \"type\": \"scatter\"}], \"scatter3d\": [{\"line\": {\"colorbar\": {\"outlinewidth\": 0, \"ticks\": \"\"}}, \"marker\": {\"colorbar\": {\"outlinewidth\": 0, \"ticks\": \"\"}}, \"type\": \"scatter3d\"}], \"scattercarpet\": [{\"marker\": {\"colorbar\": {\"outlinewidth\": 0, \"ticks\": \"\"}}, \"type\": \"scattercarpet\"}], \"scattergeo\": [{\"marker\": {\"colorbar\": {\"outlinewidth\": 0, \"ticks\": \"\"}}, \"type\": \"scattergeo\"}], \"scattergl\": [{\"marker\": {\"colorbar\": {\"outlinewidth\": 0, \"ticks\": \"\"}}, \"type\": \"scattergl\"}], \"scattermapbox\": [{\"marker\": {\"colorbar\": {\"outlinewidth\": 0, \"ticks\": \"\"}}, \"type\": \"scattermapbox\"}], \"scatterpolar\": [{\"marker\": {\"colorbar\": {\"outlinewidth\": 0, \"ticks\": \"\"}}, \"type\": \"scatterpolar\"}], \"scatterpolargl\": [{\"marker\": {\"colorbar\": {\"outlinewidth\": 0, \"ticks\": \"\"}}, \"type\": \"scatterpolargl\"}], \"scatterternary\": [{\"marker\": {\"colorbar\": {\"outlinewidth\": 0, \"ticks\": \"\"}}, \"type\": \"scatterternary\"}], \"surface\": [{\"colorbar\": {\"outlinewidth\": 0, \"ticks\": \"\"}, \"colorscale\": [[0.0, \"#0d0887\"], [0.1111111111111111, \"#46039f\"], [0.2222222222222222, \"#7201a8\"], [0.3333333333333333, \"#9c179e\"], [0.4444444444444444, \"#bd3786\"], [0.5555555555555556, \"#d8576b\"], [0.6666666666666666, \"#ed7953\"], [0.7777777777777778, \"#fb9f3a\"], [0.8888888888888888, \"#fdca26\"], [1.0, \"#f0f921\"]], \"type\": \"surface\"}], \"table\": [{\"cells\": {\"fill\": {\"color\": \"#EBF0F8\"}, \"line\": {\"color\": \"white\"}}, \"header\": {\"fill\": {\"color\": \"#C8D4E3\"}, \"line\": {\"color\": \"white\"}}, \"type\": \"table\"}]}, \"layout\": {\"annotationdefaults\": {\"arrowcolor\": \"#2a3f5f\", \"arrowhead\": 0, \"arrowwidth\": 1}, \"autotypenumbers\": \"strict\", \"coloraxis\": {\"colorbar\": {\"outlinewidth\": 0, \"ticks\": \"\"}}, \"colorscale\": {\"diverging\": [[0, \"#8e0152\"], [0.1, \"#c51b7d\"], [0.2, \"#de77ae\"], [0.3, \"#f1b6da\"], [0.4, \"#fde0ef\"], [0.5, \"#f7f7f7\"], [0.6, \"#e6f5d0\"], [0.7, \"#b8e186\"], [0.8, \"#7fbc41\"], [0.9, \"#4d9221\"], [1, \"#276419\"]], \"sequential\": [[0.0, \"#0d0887\"], [0.1111111111111111, \"#46039f\"], [0.2222222222222222, \"#7201a8\"], [0.3333333333333333, \"#9c179e\"], [0.4444444444444444, \"#bd3786\"], [0.5555555555555556, \"#d8576b\"], [0.6666666666666666, \"#ed7953\"], [0.7777777777777778, \"#fb9f3a\"], [0.8888888888888888, \"#fdca26\"], [1.0, \"#f0f921\"]], \"sequentialminus\": [[0.0, \"#0d0887\"], [0.1111111111111111, \"#46039f\"], [0.2222222222222222, \"#7201a8\"], [0.3333333333333333, \"#9c179e\"], [0.4444444444444444, \"#bd3786\"], [0.5555555555555556, \"#d8576b\"], [0.6666666666666666, \"#ed7953\"], [0.7777777777777778, \"#fb9f3a\"], [0.8888888888888888, \"#fdca26\"], [1.0, \"#f0f921\"]]}, \"colorway\": [\"#636efa\", \"#EF553B\", \"#00cc96\", \"#ab63fa\", \"#FFA15A\", \"#19d3f3\", \"#FF6692\", \"#B6E880\", \"#FF97FF\", \"#FECB52\"], \"font\": {\"color\": \"#2a3f5f\"}, \"geo\": {\"bgcolor\": \"white\", \"lakecolor\": \"white\", \"landcolor\": \"#E5ECF6\", \"showlakes\": true, \"showland\": true, \"subunitcolor\": \"white\"}, \"hoverlabel\": {\"align\": \"left\"}, \"hovermode\": \"closest\", \"mapbox\": {\"style\": \"light\"}, \"paper_bgcolor\": \"white\", \"plot_bgcolor\": \"#E5ECF6\", \"polar\": {\"angularaxis\": {\"gridcolor\": \"white\", \"linecolor\": \"white\", \"ticks\": \"\"}, \"bgcolor\": \"#E5ECF6\", \"radialaxis\": {\"gridcolor\": \"white\", \"linecolor\": \"white\", \"ticks\": \"\"}}, \"scene\": {\"xaxis\": {\"backgroundcolor\": \"#E5ECF6\", \"gridcolor\": \"white\", \"gridwidth\": 2, \"linecolor\": \"white\", \"showbackground\": true, \"ticks\": \"\", \"zerolinecolor\": \"white\"}, \"yaxis\": {\"backgroundcolor\": \"#E5ECF6\", \"gridcolor\": \"white\", \"gridwidth\": 2, \"linecolor\": \"white\", \"showbackground\": true, \"ticks\": \"\", \"zerolinecolor\": \"white\"}, \"zaxis\": {\"backgroundcolor\": \"#E5ECF6\", \"gridcolor\": \"white\", \"gridwidth\": 2, \"linecolor\": \"white\", \"showbackground\": true, \"ticks\": \"\", \"zerolinecolor\": \"white\"}}, \"shapedefaults\": {\"line\": {\"color\": \"#2a3f5f\"}}, \"ternary\": {\"aaxis\": {\"gridcolor\": \"white\", \"linecolor\": \"white\", \"ticks\": \"\"}, \"baxis\": {\"gridcolor\": \"white\", \"linecolor\": \"white\", \"ticks\": \"\"}, \"bgcolor\": \"#E5ECF6\", \"caxis\": {\"gridcolor\": \"white\", \"linecolor\": \"white\", \"ticks\": \"\"}}, \"title\": {\"x\": 0.05}, \"xaxis\": {\"automargin\": true, \"gridcolor\": \"white\", \"linecolor\": \"white\", \"ticks\": \"\", \"title\": {\"standoff\": 15}, \"zerolinecolor\": \"white\", \"zerolinewidth\": 2}, \"yaxis\": {\"automargin\": true, \"gridcolor\": \"white\", \"linecolor\": \"white\", \"ticks\": \"\", \"title\": {\"standoff\": 15}, \"zerolinecolor\": \"white\", \"zerolinewidth\": 2}}}},                        {\"responsive\": true}                    ).then(function(){\n",
       "                            \n",
       "var gd = document.getElementById('c71c8f07-9007-4e0c-a607-80dd64c9c080');\n",
       "var x = new MutationObserver(function (mutations, observer) {{\n",
       "        var display = window.getComputedStyle(gd).display;\n",
       "        if (!display || display === 'none') {{\n",
       "            console.log([gd, 'removed!']);\n",
       "            Plotly.purge(gd);\n",
       "            observer.disconnect();\n",
       "        }}\n",
       "}});\n",
       "\n",
       "// Listen for the removal of the full notebook cells\n",
       "var notebookContainer = gd.closest('#notebook-container');\n",
       "if (notebookContainer) {{\n",
       "    x.observe(notebookContainer, {childList: true});\n",
       "}}\n",
       "\n",
       "// Listen for the clearing of the current output cell\n",
       "var outputEl = gd.closest('.output');\n",
       "if (outputEl) {{\n",
       "    x.observe(outputEl, {childList: true});\n",
       "}}\n",
       "\n",
       "                        })                };                });            </script>        </div>"
      ]
     },
     "metadata": {},
     "output_type": "display_data"
    }
   ],
   "source": [
    "plot_loss([loss], ['combined_nn'])"
   ]
  },
  {
   "cell_type": "code",
   "execution_count": 76,
   "id": "communist-research",
   "metadata": {},
   "outputs": [],
   "source": [
    "loss = read_loss_curve('combined_nn_results/model3')"
   ]
  },
  {
   "cell_type": "code",
   "execution_count": 77,
   "id": "ranking-campus",
   "metadata": {},
   "outputs": [
    {
     "data": {
      "application/vnd.plotly.v1+json": {
       "config": {
        "plotlyServerURL": "https://plot.ly"
       },
       "data": [
        {
         "name": "combined_nn_train-loss",
         "type": "scatter",
         "y": [
          1.0359340906143188,
          0.6743221879005432,
          0.6214324235916138,
          0.5971904993057251,
          0.5808236002922058,
          0.5702826976776123,
          0.5598387122154236,
          0.5512265563011169,
          0.5447991490364075,
          0.5393763184547424,
          0.5336156487464905,
          0.5292682647705078,
          0.5253051519393921,
          0.5199909806251526,
          0.5169467926025391,
          0.5132023692131042,
          0.5103220343589783,
          0.5078198313713074,
          0.504858136177063,
          0.5022552013397217,
          0.5003538131713867,
          0.4979449510574341,
          0.49653521180152893,
          0.49457240104675293,
          0.4929715394973755,
          0.4910311698913574,
          0.4896419048309326,
          0.4879278838634491,
          0.4879136383533478,
          0.4861938953399658,
          0.48457106947898865,
          0.48374906182289124,
          0.4824077785015106,
          0.481628954410553,
          0.4805797338485718,
          0.47928252816200256,
          0.47900888323783875,
          0.478723406791687,
          0.47791019082069397,
          0.4766642451286316,
          0.4751502275466919,
          0.4749356210231781,
          0.4741728603839874,
          0.47386467456817627,
          0.47273045778274536,
          0.47272369265556335,
          0.4718736410140991,
          0.47090327739715576,
          0.47070127725601196,
          0.47087419033050537,
          0.4703308343887329,
          0.46979814767837524,
          0.46891775727272034,
          0.4681786596775055,
          0.4678512513637543,
          0.46766796708106995,
          0.46696949005126953,
          0.46674326062202454,
          0.4661135673522949,
          0.465358167886734,
          0.4650874137878418,
          0.4649069905281067,
          0.4644051492214203,
          0.46380946040153503,
          0.46393245458602905,
          0.4632471203804016,
          0.46283960342407227,
          0.46318531036376953,
          0.46191224455833435,
          0.46202316880226135,
          0.4612179398536682,
          0.46111124753952026,
          0.46075499057769775,
          0.4605749249458313,
          0.4604952931404114,
          0.46013587713241577,
          0.45951512455940247,
          0.45940646529197693,
          0.45921164751052856,
          0.45850369334220886,
          0.45820802450180054,
          0.4580344557762146,
          0.4580756425857544,
          0.45750388503074646,
          0.45740723609924316,
          0.45822176337242126,
          0.4566655158996582,
          0.4569080173969269,
          0.45638152956962585,
          0.4561972916126251,
          0.4561653435230255,
          0.45569857954978943,
          0.4556829035282135,
          0.45537832379341125,
          0.45519980788230896,
          0.45456579327583313,
          0.4545001685619354,
          0.4545479714870453,
          0.4541201591491699,
          0.45400911569595337,
          0.4540138840675354,
          0.4538297951221466,
          0.4534609019756317,
          0.45342767238616943,
          0.4526369273662567,
          0.45234525203704834,
          0.45213666558265686,
          0.45216280221939087,
          0.4520135819911957,
          0.45181795954704285,
          0.45172351598739624,
          0.45160973072052,
          0.45116034150123596,
          0.45113828778266907,
          0.4506218433380127,
          0.45089420676231384,
          0.45025402307510376,
          0.4502873420715332,
          0.4502301812171936,
          0.4500037431716919,
          0.449767529964447,
          0.4496106803417206,
          0.44941166043281555,
          0.44950324296951294,
          0.44952815771102905,
          0.4493155777454376,
          0.44927406311035156,
          0.4492866098880768,
          0.4483969509601593,
          0.4485950171947479,
          0.4487161636352539,
          0.4482995867729187,
          0.447909951210022,
          0.4476495087146759,
          0.44792497158050537,
          0.44794490933418274,
          0.4473400413990021,
          0.447261780500412,
          0.44708260893821716,
          0.44697803258895874,
          0.44671687483787537,
          0.4469146430492401,
          0.4466722309589386,
          0.44680076837539673,
          0.4464271366596222,
          0.44597572088241577,
          0.4456789791584015,
          0.44583094120025635,
          0.4462061822414398,
          0.4454706311225891,
          0.4456295073032379,
          0.4455674886703491,
          0.44563400745391846,
          0.44507795572280884,
          0.4449174106121063,
          0.44463279843330383,
          0.4449933171272278,
          0.44472628831863403,
          0.44455376267433167,
          0.44431084394454956,
          0.444217324256897,
          0.4442404806613922,
          0.44367995858192444,
          0.4436589777469635,
          0.4436245858669281,
          0.44350865483283997,
          0.4432964324951172,
          0.4436521530151367,
          0.4435001015663147,
          0.44328832626342773,
          0.4428730010986328,
          0.4427281320095062,
          0.4432358145713806,
          0.4427104890346527,
          0.44274264574050903,
          0.4423178434371948,
          0.4425491392612457,
          0.44249653816223145,
          0.4423276484012604,
          0.44194212555885315,
          0.44174185395240784,
          0.4415654242038727,
          0.44218936562538147,
          0.44201770424842834,
          0.44173556566238403,
          0.44150784611701965,
          0.4415340721607208,
          0.4415787160396576,
          0.4410957098007202,
          0.44135966897010803,
          0.4412928819656372,
          0.44078919291496277,
          0.4406540095806122,
          0.440597265958786,
          0.4405227601528168,
          0.44044730067253113,
          0.4402833580970764,
          0.4401937425136566,
          0.44022759795188904,
          0.44053855538368225,
          0.44052961468696594,
          0.44071757793426514,
          0.44066402316093445,
          0.43971195816993713,
          0.43973350524902344,
          0.43973904848098755,
          0.4397728145122528,
          0.43952515721321106,
          0.43989813327789307,
          0.43941551446914673,
          0.4397066533565521,
          0.4391382038593292,
          0.43903443217277527,
          0.43902722001075745,
          0.43909940123558044,
          0.43896806240081787,
          0.43927717208862305,
          0.43886539340019226,
          0.43883216381073,
          0.438720703125,
          0.4387775659561157,
          0.4385029077529907,
          0.4383716881275177,
          0.438420832157135,
          0.4386774003505707,
          0.43833863735198975,
          0.43834376335144043,
          0.43804875016212463,
          0.43797579407691956,
          0.4381290376186371,
          0.438045859336853,
          0.4379366636276245,
          0.4375101923942566,
          0.43751028180122375,
          0.43774130940437317,
          0.4375641644001007,
          0.43746206164360046,
          0.43733054399490356,
          0.4372269809246063,
          0.43732789158821106,
          0.43707743287086487,
          0.43728137016296387,
          0.4373522400856018,
          0.4370296895503998,
          0.4371243417263031,
          0.4369760751724243,
          0.43699410557746887,
          0.43696439266204834,
          0.4369766116142273,
          0.43668001890182495,
          0.43673044443130493,
          0.43653473258018494,
          0.43656834959983826,
          0.43642571568489075,
          0.4365770220756531,
          0.4365231990814209,
          0.4365541934967041,
          0.4363401532173157,
          0.4364096522331238,
          0.4361189007759094,
          0.43646976351737976,
          0.436248779296875,
          0.4358978271484375,
          0.43607163429260254,
          0.4359574317932129,
          0.4357264041900635,
          0.4356822073459625,
          0.435779333114624,
          0.4356880784034729,
          0.435638427734375,
          0.43582770228385925,
          0.4358604848384857,
          0.43551692366600037,
          0.43551382422447205,
          0.4359569251537323,
          0.4357096254825592,
          0.43549811840057373,
          0.43515199422836304,
          0.43510890007019043,
          0.4354379177093506,
          0.4351644814014435,
          0.4352569878101349,
          0.43508008122444153,
          0.43502292037010193,
          0.43504202365875244,
          0.4350224435329437,
          0.43497246503829956,
          0.43467336893081665,
          0.4348556399345398,
          0.43488749861717224,
          0.434597373008728,
          0.43460461497306824,
          0.43454858660697937,
          0.43462899327278137,
          0.43448418378829956,
          0.43442395329475403,
          0.43458810448646545,
          0.4345631003379822,
          0.4345312714576721,
          0.4345515966415405,
          0.43477964401245117,
          0.43471723794937134,
          0.43422600626945496,
          0.4343003034591675,
          0.43426766991615295,
          0.4341297149658203,
          0.43386995792388916,
          0.43394505977630615,
          0.4338863790035248,
          0.4340748190879822,
          0.4342571198940277,
          0.4337843656539917,
          0.43390217423439026,
          0.43390709161758423,
          0.43385693430900574,
          0.43385228514671326,
          0.4335702955722809,
          0.4335879683494568,
          0.43350690603256226,
          0.43352630734443665,
          0.4336458444595337,
          0.43362733721733093,
          0.4335446357727051,
          0.43341150879859924,
          0.4335293769836426,
          0.4335617125034332,
          0.4334774315357208,
          0.43352392315864563,
          0.43357259035110474,
          0.43347933888435364,
          0.4331194758415222,
          0.43309730291366577,
          0.4330267310142517,
          0.43311411142349243,
          0.4331069886684418,
          0.43309977650642395,
          0.4328783452510834,
          0.43295371532440186,
          0.43308910727500916,
          0.432814359664917,
          0.43286600708961487,
          0.4329046607017517,
          0.4328523278236389,
          0.4328899085521698,
          0.4327370524406433,
          0.4326511025428772,
          0.43269819021224976,
          0.43283820152282715,
          0.43289992213249207,
          0.4327123165130615,
          0.4325876235961914,
          0.4325718283653259,
          0.4325380027294159,
          0.43272534012794495,
          0.43264347314834595,
          0.4325132966041565,
          0.4324379563331604,
          0.43271732330322266,
          0.4325786828994751,
          0.43256571888923645,
          0.43266019225120544,
          0.43281564116477966,
          0.43267545104026794,
          0.43228885531425476,
          0.43231233954429626,
          0.43225255608558655,
          0.4322535991668701,
          0.43229371309280396,
          0.4323066174983978,
          0.4321983754634857,
          0.43225985765457153,
          0.43218642473220825,
          0.4320375621318817,
          0.4320431351661682,
          0.4321426749229431,
          0.4320470094680786,
          0.4320264756679535,
          0.4319237768650055,
          0.4319852292537689,
          0.43194153904914856,
          0.4320053458213806,
          0.43199288845062256,
          0.431753933429718,
          0.4319898784160614,
          0.4319209158420563,
          0.431892991065979,
          0.43177467584609985,
          0.4318353533744812,
          0.4318515658378601,
          0.4318896532058716,
          0.43179190158843994,
          0.4315967559814453,
          0.4315854609012604,
          0.4316551387310028,
          0.43170490860939026,
          0.431888610124588,
          0.4315527677536011,
          0.4316817820072174,
          0.4314652383327484,
          0.431458055973053,
          0.4314541518688202,
          0.4316291809082031,
          0.431614488363266,
          0.4315112233161926,
          0.4319733679294586,
          0.4315275251865387,
          0.4313529133796692,
          0.4313308596611023,
          0.4313226342201233,
          0.431394100189209,
          0.4316139817237854,
          0.431260883808136,
          0.43138644099235535,
          0.43138113617897034,
          0.4314309060573578,
          0.4313771724700928,
          0.43159857392311096,
          0.43130967020988464,
          0.4311564266681671,
          0.4311491847038269,
          0.4312228560447693,
          0.4313570559024811,
          0.431230366230011,
          0.43121203780174255,
          0.4312836229801178,
          0.4312382936477661,
          0.43103188276290894,
          0.4312407672405243,
          0.43109604716300964,
          0.4311116635799408,
          0.4312487244606018,
          0.4310219883918762,
          0.4308827221393585,
          0.4309908449649811,
          0.4309944212436676,
          0.43096065521240234,
          0.43100956082344055,
          0.43089234828948975,
          0.43097665905952454,
          0.4309696853160858,
          0.4313003420829773,
          0.43097472190856934,
          0.43087533116340637,
          0.43102291226387024,
          0.43089044094085693,
          0.43105873465538025,
          0.4308517277240753,
          0.4307350814342499,
          0.43081504106521606,
          0.4309871196746826,
          0.4307976961135864,
          0.4307396113872528,
          0.4307139217853546,
          0.4307499825954437,
          0.43071305751800537,
          0.4305844306945801,
          0.43058714270591736,
          0.43055784702301025,
          0.43066084384918213,
          0.4305921196937561,
          0.4309347867965698,
          0.4310653507709503,
          0.43095025420188904,
          0.43063777685165405,
          0.43048590421676636,
          0.4306025505065918,
          0.4304775893688202,
          0.4305802881717682,
          0.4304902255535126,
          0.43059641122817993,
          0.43059590458869934,
          0.4303949177265167,
          0.4303615987300873,
          0.43044039607048035,
          0.43035537004470825,
          0.43032312393188477,
          0.430442214012146,
          0.4304347634315491,
          0.4304400086402893,
          0.43037956953048706,
          0.4302968382835388,
          0.4303414225578308,
          0.43023431301116943,
          0.4303677976131439,
          0.43038326501846313,
          0.43031471967697144,
          0.430276095867157,
          0.4304035007953644,
          0.4302659332752228,
          0.4302695691585541,
          0.43036383390426636,
          0.4304138123989105,
          0.4304640591144562,
          0.43043509125709534,
          0.43022558093070984,
          0.43048039078712463,
          0.4303099513053894,
          0.43016818165779114,
          0.4302564561367035,
          0.4301953911781311,
          0.4300408661365509,
          0.43007388710975647,
          0.4300541877746582,
          0.430134117603302,
          0.43028655648231506,
          0.4303582012653351,
          0.43044230341911316,
          0.43040579557418823,
          0.43044203519821167,
          0.43022045493125916,
          0.43022528290748596,
          0.43046897649765015,
          0.43045124411582947,
          0.4302515685558319,
          0.4301212728023529,
          0.42994099855422974,
          0.42989659309387207,
          0.4299148619174957,
          0.42992615699768066,
          0.42994534969329834,
          0.42986881732940674,
          0.42992648482322693,
          0.43000245094299316,
          0.42996472120285034,
          0.429974228143692,
          0.4299476146697998,
          0.4299991726875305,
          0.43000853061676025,
          0.42998990416526794,
          0.43000707030296326,
          0.43023964762687683,
          0.43003320693969727,
          0.4299808144569397,
          0.42993178963661194,
          0.42997443675994873,
          0.4298146367073059,
          0.4298783838748932,
          0.42993223667144775,
          0.4298045039176941,
          0.42985799908638,
          0.4298981726169586,
          0.4300121068954468,
          0.4299046993255615,
          0.42978987097740173,
          0.4299328327178955,
          0.42989465594291687,
          0.4298478066921234,
          0.4297310411930084,
          0.42980507016181946,
          0.4299772083759308,
          0.4298073351383209,
          0.42965587973594666,
          0.429740846157074,
          0.42993539571762085,
          0.42990273237228394,
          0.42990270256996155,
          0.4298519194126129,
          0.4297879934310913,
          0.4297516345977783,
          0.42976006865501404,
          0.42968830466270447,
          0.4296766221523285,
          0.42955532670021057,
          0.4295530617237091,
          0.42968297004699707,
          0.4302191436290741,
          0.43014422059059143,
          0.42988139390945435,
          0.42958104610443115,
          0.4296809732913971,
          0.42972058057785034,
          0.4296448230743408,
          0.4296095669269562,
          0.4297289252281189,
          0.42954862117767334,
          0.4297441840171814,
          0.42971086502075195,
          0.42951613664627075,
          0.42979446053504944,
          0.42967256903648376,
          0.4296093285083771,
          0.42954570055007935,
          0.4294661581516266,
          0.42950308322906494,
          0.4295198321342468,
          0.42949116230010986,
          0.4296129047870636,
          0.4296611547470093,
          0.42955145239830017,
          0.42969435453414917,
          0.4295628070831299,
          0.42958149313926697,
          0.4295831024646759,
          0.42947372794151306,
          0.42939940094947815,
          0.429363489151001,
          0.42937085032463074,
          0.42960160970687866,
          0.4295569956302643,
          0.42973512411117554,
          0.4298208951950073,
          0.42969778180122375,
          0.4294707179069519,
          0.4293663501739502,
          0.4292689859867096,
          0.4292975664138794,
          0.42939549684524536,
          0.429423451423645,
          0.42972466349601746,
          0.4296084940433502,
          0.42941662669181824,
          0.42949798703193665,
          0.4296437203884125,
          0.4295479655265808,
          0.4294756352901459,
          0.4294893145561218,
          0.42937570810317993,
          0.42934247851371765,
          0.4296358823776245,
          0.42955338954925537,
          0.4293842613697052,
          0.4294004738330841,
          0.4294601380825043,
          0.42937734723091125,
          0.4294338822364807,
          0.4295112192630768,
          0.4293922483921051,
          0.4294544756412506,
          0.42961177229881287,
          0.42953553795814514,
          0.4293631911277771,
          0.4293164014816284,
          0.4291313588619232,
          0.429233193397522,
          0.4292888045310974,
          0.42921316623687744,
          0.4292210340499878,
          0.42939284443855286,
          0.42922842502593994,
          0.42920759320259094,
          0.42918485403060913,
          0.4291943609714508,
          0.429222047328949,
          0.42928510904312134,
          0.42920640110969543,
          0.4291483461856842,
          0.4292050898075104,
          0.4292603135108948,
          0.42927515506744385,
          0.42922669649124146,
          0.4292096793651581,
          0.4291839003562927,
          0.4293179512023926,
          0.4293065667152405,
          0.42926767468452454,
          0.4292460083961487,
          0.42939117550849915,
          0.4292369782924652,
          0.42914247512817383,
          0.4290972948074341,
          0.4291042685508728,
          0.4290452003479004,
          0.4292266368865967,
          0.4291781485080719,
          0.42926493287086487,
          0.429261714220047,
          0.42943063378334045,
          0.42945384979248047,
          0.429377943277359,
          0.4292631447315216,
          0.4292570650577545,
          0.4291703701019287,
          0.4292318522930145,
          0.429206520318985,
          0.4291617274284363,
          0.4291824698448181,
          0.4292106628417969,
          0.42928656935691833,
          0.42916426062583923,
          0.4291599988937378,
          0.4291318655014038,
          0.4290837347507477,
          0.42911630868911743,
          0.4291693866252899,
          0.4290691018104553,
          0.4289741516113281,
          0.42897874116897583,
          0.4289872944355011,
          0.42900756001472473,
          0.429230272769928,
          0.4292484223842621,
          0.4291309118270874,
          0.42905399203300476,
          0.4293268918991089,
          0.42944014072418213,
          0.429447740316391,
          0.42945030331611633,
          0.42934226989746094,
          0.4294901192188263,
          0.42940667271614075,
          0.42929643392562866,
          0.42935848236083984,
          0.42921337485313416,
          0.4292945861816406,
          0.4291054308414459,
          0.42919063568115234,
          0.4290647804737091,
          0.4290582537651062,
          0.4291136860847473,
          0.4291282296180725,
          0.4291851818561554,
          0.42895591259002686,
          0.42899101972579956,
          0.42896416783332825,
          0.4290233254432678,
          0.4290691316127777,
          0.42897850275039673,
          0.42890989780426025,
          0.42888906598091125,
          0.42885762453079224,
          0.42887526750564575,
          0.4289460778236389,
          0.4290398955345154,
          0.42918193340301514,
          0.4289933741092682,
          0.4289723336696625,
          0.42899778485298157,
          0.4291156530380249,
          0.4291917085647583,
          0.42914867401123047,
          0.42906737327575684,
          0.4289940297603607,
          0.42905932664871216,
          0.4290570318698883,
          0.4291943311691284,
          0.4290066361427307,
          0.4289112091064453,
          0.4289173185825348,
          0.429019957780838,
          0.429014652967453,
          0.428993821144104,
          0.429065465927124,
          0.4292946755886078,
          0.4290732741355896,
          0.42902469635009766,
          0.42907682061195374,
          0.42903122305870056,
          0.42897829413414,
          0.4289298951625824,
          0.42890623211860657,
          0.4289323389530182,
          0.42906635999679565,
          0.4292869567871094,
          0.42918503284454346,
          0.4289993345737457,
          0.4289805293083191,
          0.429176926612854,
          0.4292532503604889,
          0.42916184663772583,
          0.42896759510040283,
          0.4288323223590851,
          0.42882975935935974,
          0.42881375551223755,
          0.42884495854377747,
          0.42884698510169983,
          0.42882001399993896,
          0.4288192391395569,
          0.4290533661842346,
          0.42901748418807983,
          0.4295279383659363,
          0.42911678552627563,
          0.42896243929862976,
          0.4288622736930847,
          0.4288434684276581,
          0.4287945032119751,
          0.42873015999794006,
          0.4287724494934082,
          0.42877572774887085,
          0.42878246307373047,
          0.42883914709091187,
          0.4289415776729584,
          0.42907819151878357,
          0.4289989471435547,
          0.4290013611316681,
          0.4289563298225403,
          0.4289188086986542,
          0.4288482069969177,
          0.42889174818992615,
          0.42898350954055786,
          0.4291992783546448,
          0.42896950244903564,
          0.4290814995765686,
          0.42895445227622986,
          0.42900025844573975,
          0.42880383133888245,
          0.4287208616733551,
          0.42875614762306213,
          0.4287645220756531,
          0.4288071393966675,
          0.4288846552371979,
          0.42898672819137573,
          0.42898425459861755,
          0.4289557635784149,
          0.42895984649658203,
          0.42887550592422485,
          0.42885392904281616,
          0.42885494232177734,
          0.4288933575153351,
          0.42889899015426636,
          0.42887842655181885,
          0.4288686513900757,
          0.428975373506546,
          0.42896783351898193,
          0.42895767092704773,
          0.4288606643676758,
          0.42881909012794495,
          0.4287879467010498,
          0.4288674592971802,
          0.42885419726371765,
          0.4288264214992523,
          0.4288702607154846,
          0.42877140641212463,
          0.4287116229534149,
          0.42880022525787354,
          0.42902764678001404,
          0.4290028214454651,
          0.4288041591644287,
          0.42880985140800476,
          0.4288859963417053,
          0.42902201414108276,
          0.4290999472141266,
          0.4288971722126007,
          0.42893722653388977,
          0.42884811758995056,
          0.42893731594085693,
          0.42897990345954895,
          0.4288710057735443,
          0.4287950098514557,
          0.4287358224391937,
          0.4287554621696472,
          0.4286661744117737,
          0.4286554753780365,
          0.4286569356918335,
          0.4286556839942932,
          0.428687185049057,
          0.4286516606807709,
          0.4286747872829437,
          0.4287688732147217,
          0.4288061261177063,
          0.42891979217529297,
          0.42917123436927795,
          0.4291210174560547,
          0.42901691794395447,
          0.42887309193611145,
          0.42881450057029724,
          0.4287571310997009,
          0.4287508726119995,
          0.4286881685256958,
          0.42865025997161865,
          0.4286530017852783,
          0.42865580320358276,
          0.4287024736404419,
          0.42883938550949097,
          0.42886194586753845,
          0.428801953792572,
          0.4288569390773773,
          0.42883798480033875,
          0.4288155734539032,
          0.4286927282810211,
          0.4287359416484833,
          0.42882147431373596,
          0.42879900336265564,
          0.4288458526134491,
          0.4288334846496582,
          0.4287757873535156,
          0.42877456545829773,
          0.4287678897380829,
          0.4287590980529785,
          0.4288451075553894,
          0.4288724362850189,
          0.4288345277309418,
          0.4290425181388855,
          0.4291304349899292,
          0.42901411652565,
          0.4287325143814087,
          0.4286569654941559,
          0.4286634027957916,
          0.4286405146121979,
          0.42865967750549316,
          0.4286031424999237,
          0.42861661314964294,
          0.42865315079689026,
          0.4286584258079529,
          0.4286252558231354,
          0.42892754077911377,
          0.4289625883102417,
          0.4290313422679901,
          0.4288896322250366,
          0.4287523329257965,
          0.4288288950920105,
          0.4288725256919861,
          0.42873501777648926,
          0.4286806285381317,
          0.4286058247089386,
          0.42862704396247864,
          0.42859044671058655,
          0.428705632686615,
          0.42868611216545105,
          0.42867255210876465,
          0.42870354652404785,
          0.42869865894317627,
          0.42863136529922485,
          0.4286389648914337,
          0.4286394715309143,
          0.4286026358604431,
          0.42866072058677673,
          0.4287530779838562,
          0.42885538935661316,
          0.4287809729576111,
          0.4288715720176697,
          0.42881685495376587,
          0.4288274347782135,
          0.4289490580558777,
          0.42880818247795105,
          0.42865580320358276,
          0.42862361669540405,
          0.4287128150463104,
          0.4286956191062927,
          0.42862290143966675,
          0.42872118949890137,
          0.4287232756614685,
          0.4286227822303772,
          0.4286594092845917,
          0.4286063313484192,
          0.42859947681427,
          0.4285787343978882,
          0.4286811947822571,
          0.42873573303222656,
          0.4287962019443512,
          0.4288354814052582,
          0.42876699566841125,
          0.4287259876728058,
          0.42873600125312805,
          0.4286240041255951,
          0.4285818934440613,
          0.4287012219429016,
          0.42879530787467957,
          0.428867906332016,
          0.4287942349910736,
          0.428770512342453,
          0.4285978078842163,
          0.42859524488449097,
          0.428619384765625,
          0.42866235971450806,
          0.4286023676395416,
          0.42867276072502136,
          0.42865341901779175,
          0.42863643169403076,
          0.4286626875400543,
          0.4286760985851288,
          0.428755521774292,
          0.4288863241672516,
          0.42884838581085205,
          0.42870986461639404,
          0.4287433624267578,
          0.4286766052246094,
          0.4285880923271179,
          0.4285641610622406,
          0.4285934567451477,
          0.4285822808742523,
          0.42862468957901,
          0.42868173122406006,
          0.4286423325538635,
          0.4287155866622925,
          0.4285731017589569,
          0.42868733406066895,
          0.4289514720439911,
          0.42885318398475647,
          0.4287751317024231,
          0.4286723732948303,
          0.42869576811790466,
          0.42865797877311707,
          0.4285898506641388,
          0.4286152720451355,
          0.42861539125442505,
          0.42853376269340515,
          0.42851522564888,
          0.4285089075565338,
          0.4285423159599304,
          0.42851439118385315,
          0.4285857379436493,
          0.42858824133872986,
          0.42854538559913635,
          0.4285982847213745,
          0.4285987913608551,
          0.42869308590888977,
          0.4288240373134613,
          0.42881086468696594,
          0.42887791991233826,
          0.42883580923080444
         ]
        },
        {
         "name": "combined_nn_val-loss",
         "type": "scatter",
         "y": [
          0.8205994963645935,
          0.6859052181243896,
          0.6223489046096802,
          0.5876466035842896,
          0.5384036898612976,
          0.52781742811203,
          0.5165046453475952,
          0.4889562427997589,
          0.47640296816825867,
          0.47881510853767395,
          0.48341676592826843,
          0.45890238881111145,
          0.4595649838447571,
          0.44776129722595215,
          0.47190624475479126,
          0.46920356154441833,
          0.450378954410553,
          0.4543471038341522,
          0.46563830971717834,
          0.46531620621681213,
          0.49523255228996277,
          0.43322309851646423,
          0.44688525795936584,
          0.5115494728088379,
          0.47883209586143494,
          0.5228185653686523,
          0.49793341755867004,
          0.5004569888114929,
          0.46521562337875366,
          0.4996508061885834,
          0.49724677205085754,
          0.5312471389770508,
          0.5388714671134949,
          0.5058751106262207,
          0.5373281836509705,
          0.5128121972084045,
          0.5138845443725586,
          0.4920564889907837,
          0.5468746423721313,
          0.48791050910949707,
          0.5336782336235046,
          0.5430675148963928,
          0.5681653618812561,
          0.5213401913642883,
          0.5419858694076538,
          0.5039764046669006,
          0.5403410196304321,
          0.5139275193214417,
          0.5550138354301453,
          0.5321248173713684,
          0.5285366773605347,
          0.581028163433075,
          0.5373561382293701,
          0.5279618501663208,
          0.5224090814590454,
          0.5105611085891724,
          0.5160602927207947,
          0.5975082516670227,
          0.5665267705917358,
          0.5074170231819153,
          0.587653398513794,
          0.5860211849212646,
          0.6009776592254639,
          0.5664390921592712,
          0.5311456322669983,
          0.5293970108032227,
          0.5510728359222412,
          0.5558597445487976,
          0.5016146898269653,
          0.5748000144958496,
          0.5834154486656189,
          0.5562506914138794,
          0.5534217357635498,
          0.562804102897644,
          0.5910958051681519,
          0.5637239813804626,
          0.560979425907135,
          0.5602684020996094,
          0.5607966184616089,
          0.5729533433914185,
          0.5458281636238098,
          0.5388327240943909,
          0.5953654050827026,
          0.5643342733383179,
          0.6070119142532349,
          0.6040182709693909,
          0.5516077876091003,
          0.5948178768157959,
          0.5825034976005554,
          0.654026210308075,
          0.6223441362380981,
          0.5758039951324463,
          0.5672115683555603,
          0.5614005327224731,
          0.6108158826828003,
          0.6337622404098511,
          0.5906600952148438,
          0.6078636646270752,
          0.5892810821533203,
          0.6370672583580017,
          0.6082212924957275,
          0.5834053158760071,
          0.6605305671691895,
          0.596442699432373,
          0.6048644781112671,
          0.6429167985916138,
          0.6646845936775208,
          0.5745627880096436,
          0.6088671088218689,
          0.6007494330406189,
          0.6193944215774536,
          0.6234995722770691,
          0.620680570602417,
          0.5964111089706421,
          0.6380518078804016,
          0.6126423478126526,
          0.6499003171920776,
          0.6129841804504395,
          0.5903764963150024,
          0.6824434995651245,
          0.636656641960144,
          0.6409146189689636,
          0.6383985877037048,
          0.6049719452857971,
          0.6330816149711609,
          0.5911105275154114,
          0.6066061854362488,
          0.6283850073814392,
          0.654285728931427,
          0.6252609491348267,
          0.6229619979858398,
          0.6500366926193237,
          0.6356984972953796,
          0.6172103881835938,
          0.6010288000106812,
          0.6508622765541077,
          0.6493553519248962,
          0.6547969579696655,
          0.628073513507843,
          0.6837654709815979,
          0.6743210554122925,
          0.6567612886428833,
          0.6162105202674866,
          0.6276514530181885,
          0.6270988583564758,
          0.6916999220848083,
          0.6311285495758057,
          0.6518677473068237,
          0.6467350125312805,
          0.6399037837982178,
          0.6612130999565125,
          0.6434025168418884,
          0.6864263415336609,
          0.6679473519325256,
          0.6253985166549683,
          0.6949760913848877,
          0.6426994800567627,
          0.6680958867073059,
          0.6788114905357361,
          0.6441063284873962,
          0.671873927116394,
          0.6632855534553528,
          0.6393988728523254,
          0.6849215030670166,
          0.6500832438468933,
          0.6703367233276367,
          0.6881809234619141,
          0.6925715208053589,
          0.7002124786376953,
          0.6702604293823242,
          0.6851276159286499,
          0.6649477481842041,
          0.6929738521575928,
          0.7206401228904724,
          0.7126712799072266,
          0.7241153717041016,
          0.7059916257858276,
          0.692685604095459,
          0.6832095384597778,
          0.7073713541030884,
          0.7237326502799988,
          0.7190083265304565,
          0.7181086540222168,
          0.6549991369247437,
          0.691660463809967,
          0.6711457967758179,
          0.6322533488273621,
          0.7159273028373718,
          0.6866875886917114,
          0.6880358457565308,
          0.6940830945968628,
          0.6859001517295837,
          0.7078586220741272,
          0.7186155915260315,
          0.6772410869598389,
          0.6927538514137268,
          0.720457911491394,
          0.7052116394042969,
          0.6994126439094543,
          0.7223149538040161,
          0.8349220752716064,
          0.6993170976638794,
          0.6917740702629089,
          0.731715202331543,
          0.6918437480926514,
          0.7707471251487732,
          0.6855826377868652,
          0.7695443630218506,
          0.7227556109428406,
          0.7255921959877014,
          0.7047507762908936,
          0.7246913313865662,
          0.7533652186393738,
          0.7295159101486206,
          0.7551041841506958,
          0.8028795719146729,
          0.7422713041305542,
          0.7600075006484985,
          0.7163463830947876,
          0.7684299349784851,
          0.7136040925979614,
          0.7483609318733215,
          0.7787388563156128,
          0.7217249870300293,
          0.7435578107833862,
          0.7690579295158386,
          0.7266861200332642,
          0.7456862926483154,
          0.7340595722198486,
          0.727001965045929,
          0.7616031169891357,
          0.7707658410072327,
          0.755263090133667,
          0.7572809457778931,
          0.8093491792678833,
          0.7747277021408081,
          0.7840516567230225,
          0.7334481477737427,
          0.7840683460235596,
          0.7959266304969788,
          0.7683058381080627,
          0.7735248804092407,
          0.7640628218650818,
          0.7941966652870178,
          0.7756156325340271,
          0.7663738131523132,
          0.7932445406913757,
          0.7817956805229187,
          0.7589437365531921,
          0.7828854918479919,
          0.8203463554382324,
          0.7661005258560181,
          0.8038850426673889,
          0.7862305641174316,
          0.7955197095870972,
          0.7965556979179382,
          0.7652025818824768,
          0.8352496027946472,
          0.7946600914001465,
          0.8277491331100464,
          0.7588969469070435,
          0.79871666431427,
          0.8110756874084473,
          0.7893255352973938,
          0.8302249908447266,
          0.8074431419372559,
          0.8088420629501343,
          0.8219848871231079,
          0.8026254773139954,
          0.8043667674064636,
          0.8177189230918884,
          0.8334939479827881,
          0.8245216608047485,
          0.7972439527511597,
          0.8426056504249573,
          0.8363614678382874,
          0.8044129610061646,
          0.8389561176300049,
          0.799568772315979,
          0.8271101713180542,
          0.8354579210281372,
          0.7932597398757935,
          0.8011364340782166,
          0.8524054884910583,
          0.8440326452255249,
          0.7934644818305969,
          0.8254719376564026,
          0.8230801224708557,
          0.8602457046508789,
          0.8435057997703552,
          0.8344225883483887,
          0.828463077545166,
          0.8517165780067444,
          0.8213987946510315,
          0.8239842653274536,
          0.8569827675819397,
          0.8766260147094727,
          0.8686262965202332,
          0.8612887859344482,
          0.8813222646713257,
          0.8593248724937439,
          0.8445997834205627,
          0.8679867386817932,
          0.8391903042793274,
          0.8696277141571045,
          0.8738405704498291,
          0.8465050458908081,
          0.8597167730331421,
          0.8747716546058655,
          0.8693959712982178,
          0.873489260673523,
          0.8510439991950989,
          0.88956218957901,
          0.8439348936080933,
          0.8711456656455994,
          0.871849536895752,
          0.8836459517478943,
          0.869651734828949,
          0.8684536814689636,
          0.856505811214447,
          0.886032223701477,
          0.8937778472900391,
          0.8719649910926819,
          0.8664095401763916,
          0.9218025207519531,
          0.8774079084396362,
          0.9301100969314575,
          0.8637378811836243,
          0.8948487639427185,
          0.8566015362739563,
          0.8591742515563965,
          0.887222170829773,
          0.9013888835906982,
          0.8763072490692139,
          0.9014116525650024,
          0.9005314111709595,
          0.9006115794181824,
          0.8747493028640747,
          0.9382392168045044,
          0.9163835048675537,
          0.8764150142669678,
          0.9325151443481445,
          0.9396704435348511,
          0.8858205676078796,
          0.9262567758560181,
          0.9405114054679871,
          0.9462034106254578,
          0.8838940262794495,
          0.8831038475036621,
          0.9357617497444153,
          0.8807482123374939,
          0.9103372693061829,
          0.9274519085884094,
          0.9339409470558167,
          0.9122763872146606,
          0.90160071849823,
          0.9134368896484375,
          0.9546590447425842,
          0.9242866635322571,
          0.9261670708656311,
          0.9109091758728027,
          0.9583917856216431,
          0.9431676268577576,
          0.9433188438415527,
          0.908027172088623,
          0.9406716227531433,
          0.9197114109992981,
          0.925922155380249,
          0.9585785269737244,
          0.9388353824615479,
          0.9410871863365173,
          0.9710519909858704,
          0.9259040355682373,
          0.900377631187439,
          0.9343882203102112,
          0.9430238604545593,
          0.9383365511894226,
          0.9337394833564758,
          0.9344636797904968,
          0.9732070565223694,
          0.9358968734741211,
          0.9138625264167786,
          0.9072433114051819,
          0.921318769454956,
          0.9855214953422546,
          0.9553849697113037,
          0.9334467649459839,
          0.9585085511207581,
          0.9326188564300537,
          0.9729645252227783,
          0.9657440781593323,
          0.9572156667709351,
          0.9601544737815857,
          0.9762336611747742,
          0.9909117221832275,
          0.9798985123634338,
          0.9334002733230591,
          0.9383786916732788,
          0.9612189531326294,
          0.9541353583335876,
          0.9662405252456665,
          0.9850665926933289,
          0.9616473317146301,
          0.9020111560821533,
          0.9512518644332886,
          0.984483540058136,
          0.9616358876228333,
          0.9644432067871094,
          0.9828267693519592,
          0.9637832641601562,
          1.0114843845367432,
          0.9690567851066589,
          0.9836956858634949,
          0.9538186192512512,
          0.9660964608192444,
          1.0003706216812134,
          0.9552061557769775,
          0.9948418736457825,
          0.9479790329933167,
          0.9706265926361084,
          0.9790752530097961,
          0.9787178635597229,
          0.954305112361908,
          0.9306472539901733,
          1.0101534128189087,
          0.9637449979782104,
          1.015024185180664,
          0.9982436895370483,
          0.9456724524497986,
          0.9464120864868164,
          0.9504351615905762,
          0.9737179279327393,
          0.9952852129936218,
          0.9851917028427124,
          0.9835534691810608,
          1.0333850383758545,
          0.9572129249572754,
          1.003031611442566,
          0.9970486164093018,
          0.9707418084144592,
          1.0284640789031982,
          1.0151903629302979,
          1.0352855920791626,
          0.9823483824729919,
          0.9797988533973694,
          0.9835944175720215,
          1.0116487741470337,
          0.9999228119850159,
          1.0054510831832886,
          0.9859085083007812,
          0.9994257688522339,
          0.9968308806419373,
          0.9807847142219543,
          1.022230863571167,
          0.994102418422699,
          1.015082836151123,
          1.0230482816696167,
          1.0272600650787354,
          0.999117374420166,
          1.0338127613067627,
          0.9581172466278076,
          0.9939841628074646,
          0.9669680595397949,
          0.9928582906723022,
          0.9816247820854187,
          1.0050181150436401,
          1.0338125228881836,
          1.0163949728012085,
          1.0442085266113281,
          1.0171809196472168,
          0.9869066476821899,
          1.01377534866333,
          1.013477087020874,
          1.0002104043960571,
          1.0404623746871948,
          1.0229268074035645,
          1.0032237768173218,
          0.9859707355499268,
          1.036370873451233,
          1.0237785577774048,
          1.031352162361145,
          1.0108083486557007,
          1.019614577293396,
          1.0399705171585083,
          1.0863631963729858,
          0.9989196062088013,
          1.0490565299987793,
          1.0302574634552002,
          1.016198992729187,
          1.022362232208252,
          1.0257436037063599,
          1.0590561628341675,
          1.0557501316070557,
          1.0126464366912842,
          1.0751841068267822,
          1.0369712114334106,
          1.024273157119751,
          1.0596871376037598,
          1.0431078672409058,
          1.0305981636047363,
          1.0410268306732178,
          1.039681077003479,
          1.0080541372299194,
          1.0443239212036133,
          1.028214454650879,
          1.030808448791504,
          1.0248862504959106,
          1.0289314985275269,
          1.03580641746521,
          1.022398591041565,
          1.0164977312088013,
          1.0221631526947021,
          1.0269464254379272,
          1.0420950651168823,
          1.028740406036377,
          1.0240846872329712,
          1.0358281135559082,
          1.067467212677002,
          1.0266623497009277,
          1.019490122795105,
          1.0425455570220947,
          1.0510915517807007,
          1.0620843172073364,
          1.0136314630508423,
          1.0528258085250854,
          1.0746369361877441,
          1.0308305025100708,
          1.058506727218628,
          1.064795970916748,
          1.0956964492797852,
          1.0431174039840698,
          1.031031847000122,
          1.0447403192520142,
          1.0533546209335327,
          1.0476878881454468,
          1.0750529766082764,
          1.0401108264923096,
          1.0579816102981567,
          1.0882493257522583,
          1.0528026819229126,
          1.056333303451538,
          1.0323967933654785,
          1.0328550338745117,
          1.0468093156814575,
          1.0461572408676147,
          1.085716962814331,
          1.0494450330734253,
          1.0983341932296753,
          1.0440833568572998,
          1.0683412551879883,
          1.0630437135696411,
          1.0632884502410889,
          1.0816360712051392,
          1.0440605878829956,
          1.0500890016555786,
          1.0299289226531982,
          1.1018840074539185,
          1.0909937620162964,
          1.0378869771957397,
          1.0713704824447632,
          1.0570868253707886,
          1.050492763519287,
          1.091179609298706,
          1.1002527475357056,
          1.0455076694488525,
          1.0521464347839355,
          1.0577194690704346,
          1.0629678964614868,
          1.0640268325805664,
          1.0999822616577148,
          1.044550895690918,
          1.0481679439544678,
          1.094901204109192,
          1.0755112171173096,
          1.0678232908248901,
          1.0797187089920044,
          1.0568801164627075,
          1.090714454650879,
          1.0645873546600342,
          1.0837410688400269,
          1.0828417539596558,
          1.0686582326889038,
          1.066791296005249,
          1.0699225664138794,
          1.0636987686157227,
          1.0764400959014893,
          1.0874847173690796,
          1.0569559335708618,
          1.0822157859802246,
          1.066586971282959,
          1.0445805788040161,
          1.0774236917495728,
          1.0906537771224976,
          1.0737297534942627,
          1.0862025022506714,
          1.0981757640838623,
          1.1161284446716309,
          1.1113752126693726,
          1.0813977718353271,
          1.0994504690170288,
          1.0544373989105225,
          1.0813930034637451,
          1.0616002082824707,
          1.1100531816482544,
          1.0844826698303223,
          1.0685073137283325,
          1.115038514137268,
          1.0655725002288818,
          1.0560169219970703,
          1.060588002204895,
          1.0952532291412354,
          1.0635532140731812,
          1.0764318704605103,
          1.0936371088027954,
          1.0795667171478271,
          1.059889793395996,
          1.1030607223510742,
          1.1259286403656006,
          1.0614957809448242,
          1.0956718921661377,
          1.0908676385879517,
          1.0824882984161377,
          1.075050950050354,
          1.0622426271438599,
          1.0867717266082764,
          1.0934202671051025,
          1.096877098083496,
          1.0855929851531982,
          1.0981884002685547,
          1.0886173248291016,
          1.0915277004241943,
          1.1051777601242065,
          1.0822798013687134,
          1.1038023233413696,
          1.0781158208847046,
          1.0901110172271729,
          1.1070536375045776,
          1.0855190753936768,
          1.0852694511413574,
          1.0903788805007935,
          1.0808472633361816,
          1.117040753364563,
          1.1132464408874512,
          1.1089450120925903,
          1.1054742336273193,
          1.093682050704956,
          1.1109875440597534,
          1.098713994026184,
          1.111619472503662,
          1.1054774522781372,
          1.1016250848770142,
          1.1008622646331787,
          1.0978766679763794,
          1.115708827972412,
          1.1143406629562378,
          1.0672578811645508,
          1.1055047512054443,
          1.0964815616607666,
          1.1199285984039307,
          1.0913965702056885,
          1.1149392127990723,
          1.1163501739501953,
          1.079643726348877,
          1.0815733671188354,
          1.0923658609390259,
          1.0830496549606323,
          1.1034700870513916,
          1.0790469646453857,
          1.0510976314544678,
          1.1237332820892334,
          1.0818463563919067,
          1.1196330785751343,
          1.1065678596496582,
          1.0553396940231323,
          1.1132196187973022,
          1.111504077911377,
          1.0889356136322021,
          1.0735220909118652,
          1.1116547584533691,
          1.1219178438186646,
          1.113430142402649,
          1.0914567708969116,
          1.1152421236038208,
          1.080068588256836,
          1.1161565780639648,
          1.100763201713562,
          1.0966007709503174,
          1.101874589920044,
          1.118167757987976,
          1.0977346897125244,
          1.1203148365020752,
          1.123867154121399,
          1.1287271976470947,
          1.1064783334732056,
          1.1284658908843994,
          1.0464476346969604,
          1.1351686716079712,
          1.081752061843872,
          1.126704454421997,
          1.0642988681793213,
          1.1063581705093384,
          1.0884013175964355,
          1.1176735162734985,
          1.0720454454421997,
          1.0597431659698486,
          1.1092040538787842,
          1.0878963470458984,
          1.1054457426071167,
          1.0913945436477661,
          1.1110363006591797,
          1.113353967666626,
          1.0720336437225342,
          1.0894770622253418,
          1.0913172960281372,
          1.0718797445297241,
          1.1157112121582031,
          1.1038366556167603,
          1.0942825078964233,
          1.1338372230529785,
          1.1263632774353027,
          1.0967254638671875,
          1.1007537841796875,
          1.083030104637146,
          1.1179677248001099,
          1.0991315841674805,
          1.1100391149520874,
          1.1059226989746094,
          1.1075999736785889,
          1.0991092920303345,
          1.1008143424987793,
          1.0865596532821655,
          1.094565987586975,
          1.1272624731063843,
          1.1075087785720825,
          1.1020941734313965,
          1.084566354751587,
          1.111493468284607,
          1.1094540357589722,
          1.0900806188583374,
          1.0857930183410645,
          1.1096032857894897,
          1.1308293342590332,
          1.0793615579605103,
          1.120295524597168,
          1.095389723777771,
          1.1008931398391724,
          1.1061391830444336,
          1.095687985420227,
          1.0963771343231201,
          1.1220420598983765,
          1.0787502527236938,
          1.0966039896011353,
          1.0906802415847778,
          1.1107844114303589,
          1.1014623641967773,
          1.1029281616210938,
          1.058715581893921,
          1.1027101278305054,
          1.0902761220932007,
          1.0917129516601562,
          1.104034423828125,
          1.1119763851165771,
          1.1075962781906128,
          1.1126128435134888,
          1.0946953296661377,
          1.1218856573104858,
          1.0818536281585693,
          1.1077756881713867,
          1.144589900970459,
          1.0971599817276,
          1.1105295419692993,
          1.1120105981826782,
          1.1146587133407593,
          1.10903000831604,
          1.0944428443908691,
          1.089284896850586,
          1.0968810319900513,
          1.0999568700790405,
          1.1271884441375732,
          1.1013041734695435,
          1.1255167722702026,
          1.1070337295532227,
          1.1063199043273926,
          1.1006017923355103,
          1.098936915397644,
          1.1126227378845215,
          1.0906180143356323,
          1.1118073463439941,
          1.0693333148956299,
          1.0926613807678223,
          1.12638521194458,
          1.1284167766571045,
          1.0810123682022095,
          1.0968815088272095,
          1.1110260486602783,
          1.1061240434646606,
          1.1073949337005615,
          1.0844422578811646,
          1.1129939556121826,
          1.0937057733535767,
          1.1159709692001343,
          1.123137354850769,
          1.1100866794586182,
          1.132706642150879,
          1.0887237787246704,
          1.0980756282806396,
          1.1247361898422241,
          1.1073477268218994,
          1.087347388267517,
          1.0906726121902466,
          1.1366342306137085,
          1.1377050876617432,
          1.1546216011047363,
          1.0865422487258911,
          1.0975306034088135,
          1.1239243745803833,
          1.1166805028915405,
          1.115450143814087,
          1.0911444425582886,
          1.1115766763687134,
          1.1268290281295776,
          1.0972564220428467,
          1.1010794639587402,
          1.1545482873916626,
          1.1218106746673584,
          1.0941202640533447,
          1.11537766456604,
          1.107920527458191,
          1.1178456544876099,
          1.082001805305481,
          1.1030325889587402,
          1.0891815423965454,
          1.0767767429351807,
          1.0859296321868896,
          1.1151736974716187,
          1.1019477844238281,
          1.098807692527771,
          1.116254448890686,
          1.1122184991836548,
          1.1216009855270386,
          1.107933759689331,
          1.1027250289916992,
          1.1128109693527222,
          1.0920990705490112,
          1.1005034446716309,
          1.104742407798767,
          1.110041856765747,
          1.1129796504974365,
          1.1193519830703735,
          1.1013951301574707,
          1.136426329612732,
          1.1045492887496948,
          1.094678282737732,
          1.108017086982727,
          1.1133173704147339,
          1.0869251489639282,
          1.0705589056015015,
          1.1095938682556152,
          1.1008981466293335,
          1.0956028699874878,
          1.118475079536438,
          1.0935710668563843,
          1.1184614896774292,
          1.1175278425216675,
          1.1265268325805664,
          1.1367874145507812,
          1.1065102815628052,
          1.1152026653289795,
          1.1247135400772095,
          1.1189500093460083,
          1.1284621953964233,
          1.0879771709442139,
          1.104494571685791,
          1.0938150882720947,
          1.092936635017395,
          1.1194300651550293,
          1.1171101331710815,
          1.070064902305603,
          1.1235935688018799,
          1.1008343696594238,
          1.1454508304595947,
          1.1202914714813232,
          1.09645414352417,
          1.1166352033615112,
          1.107064127922058,
          1.110007882118225,
          1.0984588861465454,
          1.0863044261932373,
          1.1217544078826904,
          1.1179676055908203,
          1.128110408782959,
          1.1049559116363525,
          1.1014922857284546,
          1.0827603340148926,
          1.1105332374572754,
          1.0739316940307617,
          1.0918551683425903,
          1.0719295740127563,
          1.1007705926895142,
          1.1224100589752197,
          1.103493094444275,
          1.1155116558074951,
          1.0901811122894287,
          1.1089146137237549,
          1.1052963733673096,
          1.1153653860092163,
          1.120737075805664,
          1.1136467456817627,
          1.0921036005020142,
          1.1174843311309814,
          1.0938186645507812,
          1.1224474906921387,
          1.1048067808151245,
          1.0822581052780151,
          1.1128666400909424,
          1.1176972389221191,
          1.0915831327438354,
          1.1173994541168213,
          1.1232208013534546,
          1.0845632553100586,
          1.0716652870178223,
          1.0809955596923828,
          1.1124306917190552,
          1.0927765369415283,
          1.0984410047531128,
          1.0896722078323364,
          1.1084798574447632,
          1.0968137979507446,
          1.1066663265228271,
          1.116287112236023,
          1.0980530977249146,
          1.0946381092071533,
          1.1144628524780273,
          1.1111053228378296,
          1.0970348119735718,
          1.0883845090866089,
          1.1164281368255615,
          1.1188671588897705,
          1.138157606124878,
          1.115493893623352,
          1.1308526992797852,
          1.0821894407272339,
          1.1042243242263794,
          1.1010652780532837,
          1.1146819591522217,
          1.092502236366272,
          1.092983603477478,
          1.1084917783737183,
          1.0922725200653076,
          1.094753384590149,
          1.096928596496582,
          1.1347917318344116,
          1.0843685865402222,
          1.102770447731018,
          1.0921436548233032,
          1.1067835092544556,
          1.1039435863494873,
          1.105664610862732,
          1.091139793395996,
          1.1206369400024414,
          1.108590841293335,
          1.0982424020767212,
          1.1055517196655273,
          1.113095998764038,
          1.1252516508102417,
          1.1121386289596558,
          1.117569088935852,
          1.0942802429199219,
          1.1200482845306396,
          1.1033873558044434,
          1.1060539484024048,
          1.1172785758972168,
          1.0872116088867188,
          1.089577078819275,
          1.1121821403503418,
          1.100414752960205,
          1.1232223510742188,
          1.1078513860702515,
          1.094925045967102,
          1.0948537588119507,
          1.083642840385437,
          1.1129480600357056,
          1.099702000617981,
          1.1450023651123047,
          1.0882606506347656,
          1.1126946210861206,
          1.1032297611236572,
          1.1069142818450928,
          1.107846975326538,
          1.097286343574524,
          1.1246415376663208,
          1.120475172996521,
          1.114243507385254,
          1.0795477628707886,
          1.112820029258728,
          1.1085742712020874,
          1.1305317878723145,
          1.1081392765045166,
          1.088958978652954,
          1.0949382781982422
         ]
        }
       ],
       "layout": {
        "template": {
         "data": {
          "bar": [
           {
            "error_x": {
             "color": "#2a3f5f"
            },
            "error_y": {
             "color": "#2a3f5f"
            },
            "marker": {
             "line": {
              "color": "#E5ECF6",
              "width": 0.5
             }
            },
            "type": "bar"
           }
          ],
          "barpolar": [
           {
            "marker": {
             "line": {
              "color": "#E5ECF6",
              "width": 0.5
             }
            },
            "type": "barpolar"
           }
          ],
          "carpet": [
           {
            "aaxis": {
             "endlinecolor": "#2a3f5f",
             "gridcolor": "white",
             "linecolor": "white",
             "minorgridcolor": "white",
             "startlinecolor": "#2a3f5f"
            },
            "baxis": {
             "endlinecolor": "#2a3f5f",
             "gridcolor": "white",
             "linecolor": "white",
             "minorgridcolor": "white",
             "startlinecolor": "#2a3f5f"
            },
            "type": "carpet"
           }
          ],
          "choropleth": [
           {
            "colorbar": {
             "outlinewidth": 0,
             "ticks": ""
            },
            "type": "choropleth"
           }
          ],
          "contour": [
           {
            "colorbar": {
             "outlinewidth": 0,
             "ticks": ""
            },
            "colorscale": [
             [
              0,
              "#0d0887"
             ],
             [
              0.1111111111111111,
              "#46039f"
             ],
             [
              0.2222222222222222,
              "#7201a8"
             ],
             [
              0.3333333333333333,
              "#9c179e"
             ],
             [
              0.4444444444444444,
              "#bd3786"
             ],
             [
              0.5555555555555556,
              "#d8576b"
             ],
             [
              0.6666666666666666,
              "#ed7953"
             ],
             [
              0.7777777777777778,
              "#fb9f3a"
             ],
             [
              0.8888888888888888,
              "#fdca26"
             ],
             [
              1,
              "#f0f921"
             ]
            ],
            "type": "contour"
           }
          ],
          "contourcarpet": [
           {
            "colorbar": {
             "outlinewidth": 0,
             "ticks": ""
            },
            "type": "contourcarpet"
           }
          ],
          "heatmap": [
           {
            "colorbar": {
             "outlinewidth": 0,
             "ticks": ""
            },
            "colorscale": [
             [
              0,
              "#0d0887"
             ],
             [
              0.1111111111111111,
              "#46039f"
             ],
             [
              0.2222222222222222,
              "#7201a8"
             ],
             [
              0.3333333333333333,
              "#9c179e"
             ],
             [
              0.4444444444444444,
              "#bd3786"
             ],
             [
              0.5555555555555556,
              "#d8576b"
             ],
             [
              0.6666666666666666,
              "#ed7953"
             ],
             [
              0.7777777777777778,
              "#fb9f3a"
             ],
             [
              0.8888888888888888,
              "#fdca26"
             ],
             [
              1,
              "#f0f921"
             ]
            ],
            "type": "heatmap"
           }
          ],
          "heatmapgl": [
           {
            "colorbar": {
             "outlinewidth": 0,
             "ticks": ""
            },
            "colorscale": [
             [
              0,
              "#0d0887"
             ],
             [
              0.1111111111111111,
              "#46039f"
             ],
             [
              0.2222222222222222,
              "#7201a8"
             ],
             [
              0.3333333333333333,
              "#9c179e"
             ],
             [
              0.4444444444444444,
              "#bd3786"
             ],
             [
              0.5555555555555556,
              "#d8576b"
             ],
             [
              0.6666666666666666,
              "#ed7953"
             ],
             [
              0.7777777777777778,
              "#fb9f3a"
             ],
             [
              0.8888888888888888,
              "#fdca26"
             ],
             [
              1,
              "#f0f921"
             ]
            ],
            "type": "heatmapgl"
           }
          ],
          "histogram": [
           {
            "marker": {
             "colorbar": {
              "outlinewidth": 0,
              "ticks": ""
             }
            },
            "type": "histogram"
           }
          ],
          "histogram2d": [
           {
            "colorbar": {
             "outlinewidth": 0,
             "ticks": ""
            },
            "colorscale": [
             [
              0,
              "#0d0887"
             ],
             [
              0.1111111111111111,
              "#46039f"
             ],
             [
              0.2222222222222222,
              "#7201a8"
             ],
             [
              0.3333333333333333,
              "#9c179e"
             ],
             [
              0.4444444444444444,
              "#bd3786"
             ],
             [
              0.5555555555555556,
              "#d8576b"
             ],
             [
              0.6666666666666666,
              "#ed7953"
             ],
             [
              0.7777777777777778,
              "#fb9f3a"
             ],
             [
              0.8888888888888888,
              "#fdca26"
             ],
             [
              1,
              "#f0f921"
             ]
            ],
            "type": "histogram2d"
           }
          ],
          "histogram2dcontour": [
           {
            "colorbar": {
             "outlinewidth": 0,
             "ticks": ""
            },
            "colorscale": [
             [
              0,
              "#0d0887"
             ],
             [
              0.1111111111111111,
              "#46039f"
             ],
             [
              0.2222222222222222,
              "#7201a8"
             ],
             [
              0.3333333333333333,
              "#9c179e"
             ],
             [
              0.4444444444444444,
              "#bd3786"
             ],
             [
              0.5555555555555556,
              "#d8576b"
             ],
             [
              0.6666666666666666,
              "#ed7953"
             ],
             [
              0.7777777777777778,
              "#fb9f3a"
             ],
             [
              0.8888888888888888,
              "#fdca26"
             ],
             [
              1,
              "#f0f921"
             ]
            ],
            "type": "histogram2dcontour"
           }
          ],
          "mesh3d": [
           {
            "colorbar": {
             "outlinewidth": 0,
             "ticks": ""
            },
            "type": "mesh3d"
           }
          ],
          "parcoords": [
           {
            "line": {
             "colorbar": {
              "outlinewidth": 0,
              "ticks": ""
             }
            },
            "type": "parcoords"
           }
          ],
          "pie": [
           {
            "automargin": true,
            "type": "pie"
           }
          ],
          "scatter": [
           {
            "marker": {
             "colorbar": {
              "outlinewidth": 0,
              "ticks": ""
             }
            },
            "type": "scatter"
           }
          ],
          "scatter3d": [
           {
            "line": {
             "colorbar": {
              "outlinewidth": 0,
              "ticks": ""
             }
            },
            "marker": {
             "colorbar": {
              "outlinewidth": 0,
              "ticks": ""
             }
            },
            "type": "scatter3d"
           }
          ],
          "scattercarpet": [
           {
            "marker": {
             "colorbar": {
              "outlinewidth": 0,
              "ticks": ""
             }
            },
            "type": "scattercarpet"
           }
          ],
          "scattergeo": [
           {
            "marker": {
             "colorbar": {
              "outlinewidth": 0,
              "ticks": ""
             }
            },
            "type": "scattergeo"
           }
          ],
          "scattergl": [
           {
            "marker": {
             "colorbar": {
              "outlinewidth": 0,
              "ticks": ""
             }
            },
            "type": "scattergl"
           }
          ],
          "scattermapbox": [
           {
            "marker": {
             "colorbar": {
              "outlinewidth": 0,
              "ticks": ""
             }
            },
            "type": "scattermapbox"
           }
          ],
          "scatterpolar": [
           {
            "marker": {
             "colorbar": {
              "outlinewidth": 0,
              "ticks": ""
             }
            },
            "type": "scatterpolar"
           }
          ],
          "scatterpolargl": [
           {
            "marker": {
             "colorbar": {
              "outlinewidth": 0,
              "ticks": ""
             }
            },
            "type": "scatterpolargl"
           }
          ],
          "scatterternary": [
           {
            "marker": {
             "colorbar": {
              "outlinewidth": 0,
              "ticks": ""
             }
            },
            "type": "scatterternary"
           }
          ],
          "surface": [
           {
            "colorbar": {
             "outlinewidth": 0,
             "ticks": ""
            },
            "colorscale": [
             [
              0,
              "#0d0887"
             ],
             [
              0.1111111111111111,
              "#46039f"
             ],
             [
              0.2222222222222222,
              "#7201a8"
             ],
             [
              0.3333333333333333,
              "#9c179e"
             ],
             [
              0.4444444444444444,
              "#bd3786"
             ],
             [
              0.5555555555555556,
              "#d8576b"
             ],
             [
              0.6666666666666666,
              "#ed7953"
             ],
             [
              0.7777777777777778,
              "#fb9f3a"
             ],
             [
              0.8888888888888888,
              "#fdca26"
             ],
             [
              1,
              "#f0f921"
             ]
            ],
            "type": "surface"
           }
          ],
          "table": [
           {
            "cells": {
             "fill": {
              "color": "#EBF0F8"
             },
             "line": {
              "color": "white"
             }
            },
            "header": {
             "fill": {
              "color": "#C8D4E3"
             },
             "line": {
              "color": "white"
             }
            },
            "type": "table"
           }
          ]
         },
         "layout": {
          "annotationdefaults": {
           "arrowcolor": "#2a3f5f",
           "arrowhead": 0,
           "arrowwidth": 1
          },
          "autotypenumbers": "strict",
          "coloraxis": {
           "colorbar": {
            "outlinewidth": 0,
            "ticks": ""
           }
          },
          "colorscale": {
           "diverging": [
            [
             0,
             "#8e0152"
            ],
            [
             0.1,
             "#c51b7d"
            ],
            [
             0.2,
             "#de77ae"
            ],
            [
             0.3,
             "#f1b6da"
            ],
            [
             0.4,
             "#fde0ef"
            ],
            [
             0.5,
             "#f7f7f7"
            ],
            [
             0.6,
             "#e6f5d0"
            ],
            [
             0.7,
             "#b8e186"
            ],
            [
             0.8,
             "#7fbc41"
            ],
            [
             0.9,
             "#4d9221"
            ],
            [
             1,
             "#276419"
            ]
           ],
           "sequential": [
            [
             0,
             "#0d0887"
            ],
            [
             0.1111111111111111,
             "#46039f"
            ],
            [
             0.2222222222222222,
             "#7201a8"
            ],
            [
             0.3333333333333333,
             "#9c179e"
            ],
            [
             0.4444444444444444,
             "#bd3786"
            ],
            [
             0.5555555555555556,
             "#d8576b"
            ],
            [
             0.6666666666666666,
             "#ed7953"
            ],
            [
             0.7777777777777778,
             "#fb9f3a"
            ],
            [
             0.8888888888888888,
             "#fdca26"
            ],
            [
             1,
             "#f0f921"
            ]
           ],
           "sequentialminus": [
            [
             0,
             "#0d0887"
            ],
            [
             0.1111111111111111,
             "#46039f"
            ],
            [
             0.2222222222222222,
             "#7201a8"
            ],
            [
             0.3333333333333333,
             "#9c179e"
            ],
            [
             0.4444444444444444,
             "#bd3786"
            ],
            [
             0.5555555555555556,
             "#d8576b"
            ],
            [
             0.6666666666666666,
             "#ed7953"
            ],
            [
             0.7777777777777778,
             "#fb9f3a"
            ],
            [
             0.8888888888888888,
             "#fdca26"
            ],
            [
             1,
             "#f0f921"
            ]
           ]
          },
          "colorway": [
           "#636efa",
           "#EF553B",
           "#00cc96",
           "#ab63fa",
           "#FFA15A",
           "#19d3f3",
           "#FF6692",
           "#B6E880",
           "#FF97FF",
           "#FECB52"
          ],
          "font": {
           "color": "#2a3f5f"
          },
          "geo": {
           "bgcolor": "white",
           "lakecolor": "white",
           "landcolor": "#E5ECF6",
           "showlakes": true,
           "showland": true,
           "subunitcolor": "white"
          },
          "hoverlabel": {
           "align": "left"
          },
          "hovermode": "closest",
          "mapbox": {
           "style": "light"
          },
          "paper_bgcolor": "white",
          "plot_bgcolor": "#E5ECF6",
          "polar": {
           "angularaxis": {
            "gridcolor": "white",
            "linecolor": "white",
            "ticks": ""
           },
           "bgcolor": "#E5ECF6",
           "radialaxis": {
            "gridcolor": "white",
            "linecolor": "white",
            "ticks": ""
           }
          },
          "scene": {
           "xaxis": {
            "backgroundcolor": "#E5ECF6",
            "gridcolor": "white",
            "gridwidth": 2,
            "linecolor": "white",
            "showbackground": true,
            "ticks": "",
            "zerolinecolor": "white"
           },
           "yaxis": {
            "backgroundcolor": "#E5ECF6",
            "gridcolor": "white",
            "gridwidth": 2,
            "linecolor": "white",
            "showbackground": true,
            "ticks": "",
            "zerolinecolor": "white"
           },
           "zaxis": {
            "backgroundcolor": "#E5ECF6",
            "gridcolor": "white",
            "gridwidth": 2,
            "linecolor": "white",
            "showbackground": true,
            "ticks": "",
            "zerolinecolor": "white"
           }
          },
          "shapedefaults": {
           "line": {
            "color": "#2a3f5f"
           }
          },
          "ternary": {
           "aaxis": {
            "gridcolor": "white",
            "linecolor": "white",
            "ticks": ""
           },
           "baxis": {
            "gridcolor": "white",
            "linecolor": "white",
            "ticks": ""
           },
           "bgcolor": "#E5ECF6",
           "caxis": {
            "gridcolor": "white",
            "linecolor": "white",
            "ticks": ""
           }
          },
          "title": {
           "x": 0.05
          },
          "xaxis": {
           "automargin": true,
           "gridcolor": "white",
           "linecolor": "white",
           "ticks": "",
           "title": {
            "standoff": 15
           },
           "zerolinecolor": "white",
           "zerolinewidth": 2
          },
          "yaxis": {
           "automargin": true,
           "gridcolor": "white",
           "linecolor": "white",
           "ticks": "",
           "title": {
            "standoff": 15
           },
           "zerolinecolor": "white",
           "zerolinewidth": 2
          }
         }
        }
       }
      },
      "text/html": [
       "<div>                            <div id=\"a96e5f6d-26d5-4638-8589-9698d086339d\" class=\"plotly-graph-div\" style=\"height:525px; width:100%;\"></div>            <script type=\"text/javascript\">                require([\"plotly\"], function(Plotly) {                    window.PLOTLYENV=window.PLOTLYENV || {};                                    if (document.getElementById(\"a96e5f6d-26d5-4638-8589-9698d086339d\")) {                    Plotly.newPlot(                        \"a96e5f6d-26d5-4638-8589-9698d086339d\",                        [{\"name\": \"combined_nn_train-loss\", \"type\": \"scatter\", \"y\": [1.0359340906143188, 0.6743221879005432, 0.6214324235916138, 0.5971904993057251, 0.5808236002922058, 0.5702826976776123, 0.5598387122154236, 0.5512265563011169, 0.5447991490364075, 0.5393763184547424, 0.5336156487464905, 0.5292682647705078, 0.5253051519393921, 0.5199909806251526, 0.5169467926025391, 0.5132023692131042, 0.5103220343589783, 0.5078198313713074, 0.504858136177063, 0.5022552013397217, 0.5003538131713867, 0.4979449510574341, 0.49653521180152893, 0.49457240104675293, 0.4929715394973755, 0.4910311698913574, 0.4896419048309326, 0.4879278838634491, 0.4879136383533478, 0.4861938953399658, 0.48457106947898865, 0.48374906182289124, 0.4824077785015106, 0.481628954410553, 0.4805797338485718, 0.47928252816200256, 0.47900888323783875, 0.478723406791687, 0.47791019082069397, 0.4766642451286316, 0.4751502275466919, 0.4749356210231781, 0.4741728603839874, 0.47386467456817627, 0.47273045778274536, 0.47272369265556335, 0.4718736410140991, 0.47090327739715576, 0.47070127725601196, 0.47087419033050537, 0.4703308343887329, 0.46979814767837524, 0.46891775727272034, 0.4681786596775055, 0.4678512513637543, 0.46766796708106995, 0.46696949005126953, 0.46674326062202454, 0.4661135673522949, 0.465358167886734, 0.4650874137878418, 0.4649069905281067, 0.4644051492214203, 0.46380946040153503, 0.46393245458602905, 0.4632471203804016, 0.46283960342407227, 0.46318531036376953, 0.46191224455833435, 0.46202316880226135, 0.4612179398536682, 0.46111124753952026, 0.46075499057769775, 0.4605749249458313, 0.4604952931404114, 0.46013587713241577, 0.45951512455940247, 0.45940646529197693, 0.45921164751052856, 0.45850369334220886, 0.45820802450180054, 0.4580344557762146, 0.4580756425857544, 0.45750388503074646, 0.45740723609924316, 0.45822176337242126, 0.4566655158996582, 0.4569080173969269, 0.45638152956962585, 0.4561972916126251, 0.4561653435230255, 0.45569857954978943, 0.4556829035282135, 0.45537832379341125, 0.45519980788230896, 0.45456579327583313, 0.4545001685619354, 0.4545479714870453, 0.4541201591491699, 0.45400911569595337, 0.4540138840675354, 0.4538297951221466, 0.4534609019756317, 0.45342767238616943, 0.4526369273662567, 0.45234525203704834, 0.45213666558265686, 0.45216280221939087, 0.4520135819911957, 0.45181795954704285, 0.45172351598739624, 0.45160973072052, 0.45116034150123596, 0.45113828778266907, 0.4506218433380127, 0.45089420676231384, 0.45025402307510376, 0.4502873420715332, 0.4502301812171936, 0.4500037431716919, 0.449767529964447, 0.4496106803417206, 0.44941166043281555, 0.44950324296951294, 0.44952815771102905, 0.4493155777454376, 0.44927406311035156, 0.4492866098880768, 0.4483969509601593, 0.4485950171947479, 0.4487161636352539, 0.4482995867729187, 0.447909951210022, 0.4476495087146759, 0.44792497158050537, 0.44794490933418274, 0.4473400413990021, 0.447261780500412, 0.44708260893821716, 0.44697803258895874, 0.44671687483787537, 0.4469146430492401, 0.4466722309589386, 0.44680076837539673, 0.4464271366596222, 0.44597572088241577, 0.4456789791584015, 0.44583094120025635, 0.4462061822414398, 0.4454706311225891, 0.4456295073032379, 0.4455674886703491, 0.44563400745391846, 0.44507795572280884, 0.4449174106121063, 0.44463279843330383, 0.4449933171272278, 0.44472628831863403, 0.44455376267433167, 0.44431084394454956, 0.444217324256897, 0.4442404806613922, 0.44367995858192444, 0.4436589777469635, 0.4436245858669281, 0.44350865483283997, 0.4432964324951172, 0.4436521530151367, 0.4435001015663147, 0.44328832626342773, 0.4428730010986328, 0.4427281320095062, 0.4432358145713806, 0.4427104890346527, 0.44274264574050903, 0.4423178434371948, 0.4425491392612457, 0.44249653816223145, 0.4423276484012604, 0.44194212555885315, 0.44174185395240784, 0.4415654242038727, 0.44218936562538147, 0.44201770424842834, 0.44173556566238403, 0.44150784611701965, 0.4415340721607208, 0.4415787160396576, 0.4410957098007202, 0.44135966897010803, 0.4412928819656372, 0.44078919291496277, 0.4406540095806122, 0.440597265958786, 0.4405227601528168, 0.44044730067253113, 0.4402833580970764, 0.4401937425136566, 0.44022759795188904, 0.44053855538368225, 0.44052961468696594, 0.44071757793426514, 0.44066402316093445, 0.43971195816993713, 0.43973350524902344, 0.43973904848098755, 0.4397728145122528, 0.43952515721321106, 0.43989813327789307, 0.43941551446914673, 0.4397066533565521, 0.4391382038593292, 0.43903443217277527, 0.43902722001075745, 0.43909940123558044, 0.43896806240081787, 0.43927717208862305, 0.43886539340019226, 0.43883216381073, 0.438720703125, 0.4387775659561157, 0.4385029077529907, 0.4383716881275177, 0.438420832157135, 0.4386774003505707, 0.43833863735198975, 0.43834376335144043, 0.43804875016212463, 0.43797579407691956, 0.4381290376186371, 0.438045859336853, 0.4379366636276245, 0.4375101923942566, 0.43751028180122375, 0.43774130940437317, 0.4375641644001007, 0.43746206164360046, 0.43733054399490356, 0.4372269809246063, 0.43732789158821106, 0.43707743287086487, 0.43728137016296387, 0.4373522400856018, 0.4370296895503998, 0.4371243417263031, 0.4369760751724243, 0.43699410557746887, 0.43696439266204834, 0.4369766116142273, 0.43668001890182495, 0.43673044443130493, 0.43653473258018494, 0.43656834959983826, 0.43642571568489075, 0.4365770220756531, 0.4365231990814209, 0.4365541934967041, 0.4363401532173157, 0.4364096522331238, 0.4361189007759094, 0.43646976351737976, 0.436248779296875, 0.4358978271484375, 0.43607163429260254, 0.4359574317932129, 0.4357264041900635, 0.4356822073459625, 0.435779333114624, 0.4356880784034729, 0.435638427734375, 0.43582770228385925, 0.4358604848384857, 0.43551692366600037, 0.43551382422447205, 0.4359569251537323, 0.4357096254825592, 0.43549811840057373, 0.43515199422836304, 0.43510890007019043, 0.4354379177093506, 0.4351644814014435, 0.4352569878101349, 0.43508008122444153, 0.43502292037010193, 0.43504202365875244, 0.4350224435329437, 0.43497246503829956, 0.43467336893081665, 0.4348556399345398, 0.43488749861717224, 0.434597373008728, 0.43460461497306824, 0.43454858660697937, 0.43462899327278137, 0.43448418378829956, 0.43442395329475403, 0.43458810448646545, 0.4345631003379822, 0.4345312714576721, 0.4345515966415405, 0.43477964401245117, 0.43471723794937134, 0.43422600626945496, 0.4343003034591675, 0.43426766991615295, 0.4341297149658203, 0.43386995792388916, 0.43394505977630615, 0.4338863790035248, 0.4340748190879822, 0.4342571198940277, 0.4337843656539917, 0.43390217423439026, 0.43390709161758423, 0.43385693430900574, 0.43385228514671326, 0.4335702955722809, 0.4335879683494568, 0.43350690603256226, 0.43352630734443665, 0.4336458444595337, 0.43362733721733093, 0.4335446357727051, 0.43341150879859924, 0.4335293769836426, 0.4335617125034332, 0.4334774315357208, 0.43352392315864563, 0.43357259035110474, 0.43347933888435364, 0.4331194758415222, 0.43309730291366577, 0.4330267310142517, 0.43311411142349243, 0.4331069886684418, 0.43309977650642395, 0.4328783452510834, 0.43295371532440186, 0.43308910727500916, 0.432814359664917, 0.43286600708961487, 0.4329046607017517, 0.4328523278236389, 0.4328899085521698, 0.4327370524406433, 0.4326511025428772, 0.43269819021224976, 0.43283820152282715, 0.43289992213249207, 0.4327123165130615, 0.4325876235961914, 0.4325718283653259, 0.4325380027294159, 0.43272534012794495, 0.43264347314834595, 0.4325132966041565, 0.4324379563331604, 0.43271732330322266, 0.4325786828994751, 0.43256571888923645, 0.43266019225120544, 0.43281564116477966, 0.43267545104026794, 0.43228885531425476, 0.43231233954429626, 0.43225255608558655, 0.4322535991668701, 0.43229371309280396, 0.4323066174983978, 0.4321983754634857, 0.43225985765457153, 0.43218642473220825, 0.4320375621318817, 0.4320431351661682, 0.4321426749229431, 0.4320470094680786, 0.4320264756679535, 0.4319237768650055, 0.4319852292537689, 0.43194153904914856, 0.4320053458213806, 0.43199288845062256, 0.431753933429718, 0.4319898784160614, 0.4319209158420563, 0.431892991065979, 0.43177467584609985, 0.4318353533744812, 0.4318515658378601, 0.4318896532058716, 0.43179190158843994, 0.4315967559814453, 0.4315854609012604, 0.4316551387310028, 0.43170490860939026, 0.431888610124588, 0.4315527677536011, 0.4316817820072174, 0.4314652383327484, 0.431458055973053, 0.4314541518688202, 0.4316291809082031, 0.431614488363266, 0.4315112233161926, 0.4319733679294586, 0.4315275251865387, 0.4313529133796692, 0.4313308596611023, 0.4313226342201233, 0.431394100189209, 0.4316139817237854, 0.431260883808136, 0.43138644099235535, 0.43138113617897034, 0.4314309060573578, 0.4313771724700928, 0.43159857392311096, 0.43130967020988464, 0.4311564266681671, 0.4311491847038269, 0.4312228560447693, 0.4313570559024811, 0.431230366230011, 0.43121203780174255, 0.4312836229801178, 0.4312382936477661, 0.43103188276290894, 0.4312407672405243, 0.43109604716300964, 0.4311116635799408, 0.4312487244606018, 0.4310219883918762, 0.4308827221393585, 0.4309908449649811, 0.4309944212436676, 0.43096065521240234, 0.43100956082344055, 0.43089234828948975, 0.43097665905952454, 0.4309696853160858, 0.4313003420829773, 0.43097472190856934, 0.43087533116340637, 0.43102291226387024, 0.43089044094085693, 0.43105873465538025, 0.4308517277240753, 0.4307350814342499, 0.43081504106521606, 0.4309871196746826, 0.4307976961135864, 0.4307396113872528, 0.4307139217853546, 0.4307499825954437, 0.43071305751800537, 0.4305844306945801, 0.43058714270591736, 0.43055784702301025, 0.43066084384918213, 0.4305921196937561, 0.4309347867965698, 0.4310653507709503, 0.43095025420188904, 0.43063777685165405, 0.43048590421676636, 0.4306025505065918, 0.4304775893688202, 0.4305802881717682, 0.4304902255535126, 0.43059641122817993, 0.43059590458869934, 0.4303949177265167, 0.4303615987300873, 0.43044039607048035, 0.43035537004470825, 0.43032312393188477, 0.430442214012146, 0.4304347634315491, 0.4304400086402893, 0.43037956953048706, 0.4302968382835388, 0.4303414225578308, 0.43023431301116943, 0.4303677976131439, 0.43038326501846313, 0.43031471967697144, 0.430276095867157, 0.4304035007953644, 0.4302659332752228, 0.4302695691585541, 0.43036383390426636, 0.4304138123989105, 0.4304640591144562, 0.43043509125709534, 0.43022558093070984, 0.43048039078712463, 0.4303099513053894, 0.43016818165779114, 0.4302564561367035, 0.4301953911781311, 0.4300408661365509, 0.43007388710975647, 0.4300541877746582, 0.430134117603302, 0.43028655648231506, 0.4303582012653351, 0.43044230341911316, 0.43040579557418823, 0.43044203519821167, 0.43022045493125916, 0.43022528290748596, 0.43046897649765015, 0.43045124411582947, 0.4302515685558319, 0.4301212728023529, 0.42994099855422974, 0.42989659309387207, 0.4299148619174957, 0.42992615699768066, 0.42994534969329834, 0.42986881732940674, 0.42992648482322693, 0.43000245094299316, 0.42996472120285034, 0.429974228143692, 0.4299476146697998, 0.4299991726875305, 0.43000853061676025, 0.42998990416526794, 0.43000707030296326, 0.43023964762687683, 0.43003320693969727, 0.4299808144569397, 0.42993178963661194, 0.42997443675994873, 0.4298146367073059, 0.4298783838748932, 0.42993223667144775, 0.4298045039176941, 0.42985799908638, 0.4298981726169586, 0.4300121068954468, 0.4299046993255615, 0.42978987097740173, 0.4299328327178955, 0.42989465594291687, 0.4298478066921234, 0.4297310411930084, 0.42980507016181946, 0.4299772083759308, 0.4298073351383209, 0.42965587973594666, 0.429740846157074, 0.42993539571762085, 0.42990273237228394, 0.42990270256996155, 0.4298519194126129, 0.4297879934310913, 0.4297516345977783, 0.42976006865501404, 0.42968830466270447, 0.4296766221523285, 0.42955532670021057, 0.4295530617237091, 0.42968297004699707, 0.4302191436290741, 0.43014422059059143, 0.42988139390945435, 0.42958104610443115, 0.4296809732913971, 0.42972058057785034, 0.4296448230743408, 0.4296095669269562, 0.4297289252281189, 0.42954862117767334, 0.4297441840171814, 0.42971086502075195, 0.42951613664627075, 0.42979446053504944, 0.42967256903648376, 0.4296093285083771, 0.42954570055007935, 0.4294661581516266, 0.42950308322906494, 0.4295198321342468, 0.42949116230010986, 0.4296129047870636, 0.4296611547470093, 0.42955145239830017, 0.42969435453414917, 0.4295628070831299, 0.42958149313926697, 0.4295831024646759, 0.42947372794151306, 0.42939940094947815, 0.429363489151001, 0.42937085032463074, 0.42960160970687866, 0.4295569956302643, 0.42973512411117554, 0.4298208951950073, 0.42969778180122375, 0.4294707179069519, 0.4293663501739502, 0.4292689859867096, 0.4292975664138794, 0.42939549684524536, 0.429423451423645, 0.42972466349601746, 0.4296084940433502, 0.42941662669181824, 0.42949798703193665, 0.4296437203884125, 0.4295479655265808, 0.4294756352901459, 0.4294893145561218, 0.42937570810317993, 0.42934247851371765, 0.4296358823776245, 0.42955338954925537, 0.4293842613697052, 0.4294004738330841, 0.4294601380825043, 0.42937734723091125, 0.4294338822364807, 0.4295112192630768, 0.4293922483921051, 0.4294544756412506, 0.42961177229881287, 0.42953553795814514, 0.4293631911277771, 0.4293164014816284, 0.4291313588619232, 0.429233193397522, 0.4292888045310974, 0.42921316623687744, 0.4292210340499878, 0.42939284443855286, 0.42922842502593994, 0.42920759320259094, 0.42918485403060913, 0.4291943609714508, 0.429222047328949, 0.42928510904312134, 0.42920640110969543, 0.4291483461856842, 0.4292050898075104, 0.4292603135108948, 0.42927515506744385, 0.42922669649124146, 0.4292096793651581, 0.4291839003562927, 0.4293179512023926, 0.4293065667152405, 0.42926767468452454, 0.4292460083961487, 0.42939117550849915, 0.4292369782924652, 0.42914247512817383, 0.4290972948074341, 0.4291042685508728, 0.4290452003479004, 0.4292266368865967, 0.4291781485080719, 0.42926493287086487, 0.429261714220047, 0.42943063378334045, 0.42945384979248047, 0.429377943277359, 0.4292631447315216, 0.4292570650577545, 0.4291703701019287, 0.4292318522930145, 0.429206520318985, 0.4291617274284363, 0.4291824698448181, 0.4292106628417969, 0.42928656935691833, 0.42916426062583923, 0.4291599988937378, 0.4291318655014038, 0.4290837347507477, 0.42911630868911743, 0.4291693866252899, 0.4290691018104553, 0.4289741516113281, 0.42897874116897583, 0.4289872944355011, 0.42900756001472473, 0.429230272769928, 0.4292484223842621, 0.4291309118270874, 0.42905399203300476, 0.4293268918991089, 0.42944014072418213, 0.429447740316391, 0.42945030331611633, 0.42934226989746094, 0.4294901192188263, 0.42940667271614075, 0.42929643392562866, 0.42935848236083984, 0.42921337485313416, 0.4292945861816406, 0.4291054308414459, 0.42919063568115234, 0.4290647804737091, 0.4290582537651062, 0.4291136860847473, 0.4291282296180725, 0.4291851818561554, 0.42895591259002686, 0.42899101972579956, 0.42896416783332825, 0.4290233254432678, 0.4290691316127777, 0.42897850275039673, 0.42890989780426025, 0.42888906598091125, 0.42885762453079224, 0.42887526750564575, 0.4289460778236389, 0.4290398955345154, 0.42918193340301514, 0.4289933741092682, 0.4289723336696625, 0.42899778485298157, 0.4291156530380249, 0.4291917085647583, 0.42914867401123047, 0.42906737327575684, 0.4289940297603607, 0.42905932664871216, 0.4290570318698883, 0.4291943311691284, 0.4290066361427307, 0.4289112091064453, 0.4289173185825348, 0.429019957780838, 0.429014652967453, 0.428993821144104, 0.429065465927124, 0.4292946755886078, 0.4290732741355896, 0.42902469635009766, 0.42907682061195374, 0.42903122305870056, 0.42897829413414, 0.4289298951625824, 0.42890623211860657, 0.4289323389530182, 0.42906635999679565, 0.4292869567871094, 0.42918503284454346, 0.4289993345737457, 0.4289805293083191, 0.429176926612854, 0.4292532503604889, 0.42916184663772583, 0.42896759510040283, 0.4288323223590851, 0.42882975935935974, 0.42881375551223755, 0.42884495854377747, 0.42884698510169983, 0.42882001399993896, 0.4288192391395569, 0.4290533661842346, 0.42901748418807983, 0.4295279383659363, 0.42911678552627563, 0.42896243929862976, 0.4288622736930847, 0.4288434684276581, 0.4287945032119751, 0.42873015999794006, 0.4287724494934082, 0.42877572774887085, 0.42878246307373047, 0.42883914709091187, 0.4289415776729584, 0.42907819151878357, 0.4289989471435547, 0.4290013611316681, 0.4289563298225403, 0.4289188086986542, 0.4288482069969177, 0.42889174818992615, 0.42898350954055786, 0.4291992783546448, 0.42896950244903564, 0.4290814995765686, 0.42895445227622986, 0.42900025844573975, 0.42880383133888245, 0.4287208616733551, 0.42875614762306213, 0.4287645220756531, 0.4288071393966675, 0.4288846552371979, 0.42898672819137573, 0.42898425459861755, 0.4289557635784149, 0.42895984649658203, 0.42887550592422485, 0.42885392904281616, 0.42885494232177734, 0.4288933575153351, 0.42889899015426636, 0.42887842655181885, 0.4288686513900757, 0.428975373506546, 0.42896783351898193, 0.42895767092704773, 0.4288606643676758, 0.42881909012794495, 0.4287879467010498, 0.4288674592971802, 0.42885419726371765, 0.4288264214992523, 0.4288702607154846, 0.42877140641212463, 0.4287116229534149, 0.42880022525787354, 0.42902764678001404, 0.4290028214454651, 0.4288041591644287, 0.42880985140800476, 0.4288859963417053, 0.42902201414108276, 0.4290999472141266, 0.4288971722126007, 0.42893722653388977, 0.42884811758995056, 0.42893731594085693, 0.42897990345954895, 0.4288710057735443, 0.4287950098514557, 0.4287358224391937, 0.4287554621696472, 0.4286661744117737, 0.4286554753780365, 0.4286569356918335, 0.4286556839942932, 0.428687185049057, 0.4286516606807709, 0.4286747872829437, 0.4287688732147217, 0.4288061261177063, 0.42891979217529297, 0.42917123436927795, 0.4291210174560547, 0.42901691794395447, 0.42887309193611145, 0.42881450057029724, 0.4287571310997009, 0.4287508726119995, 0.4286881685256958, 0.42865025997161865, 0.4286530017852783, 0.42865580320358276, 0.4287024736404419, 0.42883938550949097, 0.42886194586753845, 0.428801953792572, 0.4288569390773773, 0.42883798480033875, 0.4288155734539032, 0.4286927282810211, 0.4287359416484833, 0.42882147431373596, 0.42879900336265564, 0.4288458526134491, 0.4288334846496582, 0.4287757873535156, 0.42877456545829773, 0.4287678897380829, 0.4287590980529785, 0.4288451075553894, 0.4288724362850189, 0.4288345277309418, 0.4290425181388855, 0.4291304349899292, 0.42901411652565, 0.4287325143814087, 0.4286569654941559, 0.4286634027957916, 0.4286405146121979, 0.42865967750549316, 0.4286031424999237, 0.42861661314964294, 0.42865315079689026, 0.4286584258079529, 0.4286252558231354, 0.42892754077911377, 0.4289625883102417, 0.4290313422679901, 0.4288896322250366, 0.4287523329257965, 0.4288288950920105, 0.4288725256919861, 0.42873501777648926, 0.4286806285381317, 0.4286058247089386, 0.42862704396247864, 0.42859044671058655, 0.428705632686615, 0.42868611216545105, 0.42867255210876465, 0.42870354652404785, 0.42869865894317627, 0.42863136529922485, 0.4286389648914337, 0.4286394715309143, 0.4286026358604431, 0.42866072058677673, 0.4287530779838562, 0.42885538935661316, 0.4287809729576111, 0.4288715720176697, 0.42881685495376587, 0.4288274347782135, 0.4289490580558777, 0.42880818247795105, 0.42865580320358276, 0.42862361669540405, 0.4287128150463104, 0.4286956191062927, 0.42862290143966675, 0.42872118949890137, 0.4287232756614685, 0.4286227822303772, 0.4286594092845917, 0.4286063313484192, 0.42859947681427, 0.4285787343978882, 0.4286811947822571, 0.42873573303222656, 0.4287962019443512, 0.4288354814052582, 0.42876699566841125, 0.4287259876728058, 0.42873600125312805, 0.4286240041255951, 0.4285818934440613, 0.4287012219429016, 0.42879530787467957, 0.428867906332016, 0.4287942349910736, 0.428770512342453, 0.4285978078842163, 0.42859524488449097, 0.428619384765625, 0.42866235971450806, 0.4286023676395416, 0.42867276072502136, 0.42865341901779175, 0.42863643169403076, 0.4286626875400543, 0.4286760985851288, 0.428755521774292, 0.4288863241672516, 0.42884838581085205, 0.42870986461639404, 0.4287433624267578, 0.4286766052246094, 0.4285880923271179, 0.4285641610622406, 0.4285934567451477, 0.4285822808742523, 0.42862468957901, 0.42868173122406006, 0.4286423325538635, 0.4287155866622925, 0.4285731017589569, 0.42868733406066895, 0.4289514720439911, 0.42885318398475647, 0.4287751317024231, 0.4286723732948303, 0.42869576811790466, 0.42865797877311707, 0.4285898506641388, 0.4286152720451355, 0.42861539125442505, 0.42853376269340515, 0.42851522564888, 0.4285089075565338, 0.4285423159599304, 0.42851439118385315, 0.4285857379436493, 0.42858824133872986, 0.42854538559913635, 0.4285982847213745, 0.4285987913608551, 0.42869308590888977, 0.4288240373134613, 0.42881086468696594, 0.42887791991233826, 0.42883580923080444]}, {\"name\": \"combined_nn_val-loss\", \"type\": \"scatter\", \"y\": [0.8205994963645935, 0.6859052181243896, 0.6223489046096802, 0.5876466035842896, 0.5384036898612976, 0.52781742811203, 0.5165046453475952, 0.4889562427997589, 0.47640296816825867, 0.47881510853767395, 0.48341676592826843, 0.45890238881111145, 0.4595649838447571, 0.44776129722595215, 0.47190624475479126, 0.46920356154441833, 0.450378954410553, 0.4543471038341522, 0.46563830971717834, 0.46531620621681213, 0.49523255228996277, 0.43322309851646423, 0.44688525795936584, 0.5115494728088379, 0.47883209586143494, 0.5228185653686523, 0.49793341755867004, 0.5004569888114929, 0.46521562337875366, 0.4996508061885834, 0.49724677205085754, 0.5312471389770508, 0.5388714671134949, 0.5058751106262207, 0.5373281836509705, 0.5128121972084045, 0.5138845443725586, 0.4920564889907837, 0.5468746423721313, 0.48791050910949707, 0.5336782336235046, 0.5430675148963928, 0.5681653618812561, 0.5213401913642883, 0.5419858694076538, 0.5039764046669006, 0.5403410196304321, 0.5139275193214417, 0.5550138354301453, 0.5321248173713684, 0.5285366773605347, 0.581028163433075, 0.5373561382293701, 0.5279618501663208, 0.5224090814590454, 0.5105611085891724, 0.5160602927207947, 0.5975082516670227, 0.5665267705917358, 0.5074170231819153, 0.587653398513794, 0.5860211849212646, 0.6009776592254639, 0.5664390921592712, 0.5311456322669983, 0.5293970108032227, 0.5510728359222412, 0.5558597445487976, 0.5016146898269653, 0.5748000144958496, 0.5834154486656189, 0.5562506914138794, 0.5534217357635498, 0.562804102897644, 0.5910958051681519, 0.5637239813804626, 0.560979425907135, 0.5602684020996094, 0.5607966184616089, 0.5729533433914185, 0.5458281636238098, 0.5388327240943909, 0.5953654050827026, 0.5643342733383179, 0.6070119142532349, 0.6040182709693909, 0.5516077876091003, 0.5948178768157959, 0.5825034976005554, 0.654026210308075, 0.6223441362380981, 0.5758039951324463, 0.5672115683555603, 0.5614005327224731, 0.6108158826828003, 0.6337622404098511, 0.5906600952148438, 0.6078636646270752, 0.5892810821533203, 0.6370672583580017, 0.6082212924957275, 0.5834053158760071, 0.6605305671691895, 0.596442699432373, 0.6048644781112671, 0.6429167985916138, 0.6646845936775208, 0.5745627880096436, 0.6088671088218689, 0.6007494330406189, 0.6193944215774536, 0.6234995722770691, 0.620680570602417, 0.5964111089706421, 0.6380518078804016, 0.6126423478126526, 0.6499003171920776, 0.6129841804504395, 0.5903764963150024, 0.6824434995651245, 0.636656641960144, 0.6409146189689636, 0.6383985877037048, 0.6049719452857971, 0.6330816149711609, 0.5911105275154114, 0.6066061854362488, 0.6283850073814392, 0.654285728931427, 0.6252609491348267, 0.6229619979858398, 0.6500366926193237, 0.6356984972953796, 0.6172103881835938, 0.6010288000106812, 0.6508622765541077, 0.6493553519248962, 0.6547969579696655, 0.628073513507843, 0.6837654709815979, 0.6743210554122925, 0.6567612886428833, 0.6162105202674866, 0.6276514530181885, 0.6270988583564758, 0.6916999220848083, 0.6311285495758057, 0.6518677473068237, 0.6467350125312805, 0.6399037837982178, 0.6612130999565125, 0.6434025168418884, 0.6864263415336609, 0.6679473519325256, 0.6253985166549683, 0.6949760913848877, 0.6426994800567627, 0.6680958867073059, 0.6788114905357361, 0.6441063284873962, 0.671873927116394, 0.6632855534553528, 0.6393988728523254, 0.6849215030670166, 0.6500832438468933, 0.6703367233276367, 0.6881809234619141, 0.6925715208053589, 0.7002124786376953, 0.6702604293823242, 0.6851276159286499, 0.6649477481842041, 0.6929738521575928, 0.7206401228904724, 0.7126712799072266, 0.7241153717041016, 0.7059916257858276, 0.692685604095459, 0.6832095384597778, 0.7073713541030884, 0.7237326502799988, 0.7190083265304565, 0.7181086540222168, 0.6549991369247437, 0.691660463809967, 0.6711457967758179, 0.6322533488273621, 0.7159273028373718, 0.6866875886917114, 0.6880358457565308, 0.6940830945968628, 0.6859001517295837, 0.7078586220741272, 0.7186155915260315, 0.6772410869598389, 0.6927538514137268, 0.720457911491394, 0.7052116394042969, 0.6994126439094543, 0.7223149538040161, 0.8349220752716064, 0.6993170976638794, 0.6917740702629089, 0.731715202331543, 0.6918437480926514, 0.7707471251487732, 0.6855826377868652, 0.7695443630218506, 0.7227556109428406, 0.7255921959877014, 0.7047507762908936, 0.7246913313865662, 0.7533652186393738, 0.7295159101486206, 0.7551041841506958, 0.8028795719146729, 0.7422713041305542, 0.7600075006484985, 0.7163463830947876, 0.7684299349784851, 0.7136040925979614, 0.7483609318733215, 0.7787388563156128, 0.7217249870300293, 0.7435578107833862, 0.7690579295158386, 0.7266861200332642, 0.7456862926483154, 0.7340595722198486, 0.727001965045929, 0.7616031169891357, 0.7707658410072327, 0.755263090133667, 0.7572809457778931, 0.8093491792678833, 0.7747277021408081, 0.7840516567230225, 0.7334481477737427, 0.7840683460235596, 0.7959266304969788, 0.7683058381080627, 0.7735248804092407, 0.7640628218650818, 0.7941966652870178, 0.7756156325340271, 0.7663738131523132, 0.7932445406913757, 0.7817956805229187, 0.7589437365531921, 0.7828854918479919, 0.8203463554382324, 0.7661005258560181, 0.8038850426673889, 0.7862305641174316, 0.7955197095870972, 0.7965556979179382, 0.7652025818824768, 0.8352496027946472, 0.7946600914001465, 0.8277491331100464, 0.7588969469070435, 0.79871666431427, 0.8110756874084473, 0.7893255352973938, 0.8302249908447266, 0.8074431419372559, 0.8088420629501343, 0.8219848871231079, 0.8026254773139954, 0.8043667674064636, 0.8177189230918884, 0.8334939479827881, 0.8245216608047485, 0.7972439527511597, 0.8426056504249573, 0.8363614678382874, 0.8044129610061646, 0.8389561176300049, 0.799568772315979, 0.8271101713180542, 0.8354579210281372, 0.7932597398757935, 0.8011364340782166, 0.8524054884910583, 0.8440326452255249, 0.7934644818305969, 0.8254719376564026, 0.8230801224708557, 0.8602457046508789, 0.8435057997703552, 0.8344225883483887, 0.828463077545166, 0.8517165780067444, 0.8213987946510315, 0.8239842653274536, 0.8569827675819397, 0.8766260147094727, 0.8686262965202332, 0.8612887859344482, 0.8813222646713257, 0.8593248724937439, 0.8445997834205627, 0.8679867386817932, 0.8391903042793274, 0.8696277141571045, 0.8738405704498291, 0.8465050458908081, 0.8597167730331421, 0.8747716546058655, 0.8693959712982178, 0.873489260673523, 0.8510439991950989, 0.88956218957901, 0.8439348936080933, 0.8711456656455994, 0.871849536895752, 0.8836459517478943, 0.869651734828949, 0.8684536814689636, 0.856505811214447, 0.886032223701477, 0.8937778472900391, 0.8719649910926819, 0.8664095401763916, 0.9218025207519531, 0.8774079084396362, 0.9301100969314575, 0.8637378811836243, 0.8948487639427185, 0.8566015362739563, 0.8591742515563965, 0.887222170829773, 0.9013888835906982, 0.8763072490692139, 0.9014116525650024, 0.9005314111709595, 0.9006115794181824, 0.8747493028640747, 0.9382392168045044, 0.9163835048675537, 0.8764150142669678, 0.9325151443481445, 0.9396704435348511, 0.8858205676078796, 0.9262567758560181, 0.9405114054679871, 0.9462034106254578, 0.8838940262794495, 0.8831038475036621, 0.9357617497444153, 0.8807482123374939, 0.9103372693061829, 0.9274519085884094, 0.9339409470558167, 0.9122763872146606, 0.90160071849823, 0.9134368896484375, 0.9546590447425842, 0.9242866635322571, 0.9261670708656311, 0.9109091758728027, 0.9583917856216431, 0.9431676268577576, 0.9433188438415527, 0.908027172088623, 0.9406716227531433, 0.9197114109992981, 0.925922155380249, 0.9585785269737244, 0.9388353824615479, 0.9410871863365173, 0.9710519909858704, 0.9259040355682373, 0.900377631187439, 0.9343882203102112, 0.9430238604545593, 0.9383365511894226, 0.9337394833564758, 0.9344636797904968, 0.9732070565223694, 0.9358968734741211, 0.9138625264167786, 0.9072433114051819, 0.921318769454956, 0.9855214953422546, 0.9553849697113037, 0.9334467649459839, 0.9585085511207581, 0.9326188564300537, 0.9729645252227783, 0.9657440781593323, 0.9572156667709351, 0.9601544737815857, 0.9762336611747742, 0.9909117221832275, 0.9798985123634338, 0.9334002733230591, 0.9383786916732788, 0.9612189531326294, 0.9541353583335876, 0.9662405252456665, 0.9850665926933289, 0.9616473317146301, 0.9020111560821533, 0.9512518644332886, 0.984483540058136, 0.9616358876228333, 0.9644432067871094, 0.9828267693519592, 0.9637832641601562, 1.0114843845367432, 0.9690567851066589, 0.9836956858634949, 0.9538186192512512, 0.9660964608192444, 1.0003706216812134, 0.9552061557769775, 0.9948418736457825, 0.9479790329933167, 0.9706265926361084, 0.9790752530097961, 0.9787178635597229, 0.954305112361908, 0.9306472539901733, 1.0101534128189087, 0.9637449979782104, 1.015024185180664, 0.9982436895370483, 0.9456724524497986, 0.9464120864868164, 0.9504351615905762, 0.9737179279327393, 0.9952852129936218, 0.9851917028427124, 0.9835534691810608, 1.0333850383758545, 0.9572129249572754, 1.003031611442566, 0.9970486164093018, 0.9707418084144592, 1.0284640789031982, 1.0151903629302979, 1.0352855920791626, 0.9823483824729919, 0.9797988533973694, 0.9835944175720215, 1.0116487741470337, 0.9999228119850159, 1.0054510831832886, 0.9859085083007812, 0.9994257688522339, 0.9968308806419373, 0.9807847142219543, 1.022230863571167, 0.994102418422699, 1.015082836151123, 1.0230482816696167, 1.0272600650787354, 0.999117374420166, 1.0338127613067627, 0.9581172466278076, 0.9939841628074646, 0.9669680595397949, 0.9928582906723022, 0.9816247820854187, 1.0050181150436401, 1.0338125228881836, 1.0163949728012085, 1.0442085266113281, 1.0171809196472168, 0.9869066476821899, 1.01377534866333, 1.013477087020874, 1.0002104043960571, 1.0404623746871948, 1.0229268074035645, 1.0032237768173218, 0.9859707355499268, 1.036370873451233, 1.0237785577774048, 1.031352162361145, 1.0108083486557007, 1.019614577293396, 1.0399705171585083, 1.0863631963729858, 0.9989196062088013, 1.0490565299987793, 1.0302574634552002, 1.016198992729187, 1.022362232208252, 1.0257436037063599, 1.0590561628341675, 1.0557501316070557, 1.0126464366912842, 1.0751841068267822, 1.0369712114334106, 1.024273157119751, 1.0596871376037598, 1.0431078672409058, 1.0305981636047363, 1.0410268306732178, 1.039681077003479, 1.0080541372299194, 1.0443239212036133, 1.028214454650879, 1.030808448791504, 1.0248862504959106, 1.0289314985275269, 1.03580641746521, 1.022398591041565, 1.0164977312088013, 1.0221631526947021, 1.0269464254379272, 1.0420950651168823, 1.028740406036377, 1.0240846872329712, 1.0358281135559082, 1.067467212677002, 1.0266623497009277, 1.019490122795105, 1.0425455570220947, 1.0510915517807007, 1.0620843172073364, 1.0136314630508423, 1.0528258085250854, 1.0746369361877441, 1.0308305025100708, 1.058506727218628, 1.064795970916748, 1.0956964492797852, 1.0431174039840698, 1.031031847000122, 1.0447403192520142, 1.0533546209335327, 1.0476878881454468, 1.0750529766082764, 1.0401108264923096, 1.0579816102981567, 1.0882493257522583, 1.0528026819229126, 1.056333303451538, 1.0323967933654785, 1.0328550338745117, 1.0468093156814575, 1.0461572408676147, 1.085716962814331, 1.0494450330734253, 1.0983341932296753, 1.0440833568572998, 1.0683412551879883, 1.0630437135696411, 1.0632884502410889, 1.0816360712051392, 1.0440605878829956, 1.0500890016555786, 1.0299289226531982, 1.1018840074539185, 1.0909937620162964, 1.0378869771957397, 1.0713704824447632, 1.0570868253707886, 1.050492763519287, 1.091179609298706, 1.1002527475357056, 1.0455076694488525, 1.0521464347839355, 1.0577194690704346, 1.0629678964614868, 1.0640268325805664, 1.0999822616577148, 1.044550895690918, 1.0481679439544678, 1.094901204109192, 1.0755112171173096, 1.0678232908248901, 1.0797187089920044, 1.0568801164627075, 1.090714454650879, 1.0645873546600342, 1.0837410688400269, 1.0828417539596558, 1.0686582326889038, 1.066791296005249, 1.0699225664138794, 1.0636987686157227, 1.0764400959014893, 1.0874847173690796, 1.0569559335708618, 1.0822157859802246, 1.066586971282959, 1.0445805788040161, 1.0774236917495728, 1.0906537771224976, 1.0737297534942627, 1.0862025022506714, 1.0981757640838623, 1.1161284446716309, 1.1113752126693726, 1.0813977718353271, 1.0994504690170288, 1.0544373989105225, 1.0813930034637451, 1.0616002082824707, 1.1100531816482544, 1.0844826698303223, 1.0685073137283325, 1.115038514137268, 1.0655725002288818, 1.0560169219970703, 1.060588002204895, 1.0952532291412354, 1.0635532140731812, 1.0764318704605103, 1.0936371088027954, 1.0795667171478271, 1.059889793395996, 1.1030607223510742, 1.1259286403656006, 1.0614957809448242, 1.0956718921661377, 1.0908676385879517, 1.0824882984161377, 1.075050950050354, 1.0622426271438599, 1.0867717266082764, 1.0934202671051025, 1.096877098083496, 1.0855929851531982, 1.0981884002685547, 1.0886173248291016, 1.0915277004241943, 1.1051777601242065, 1.0822798013687134, 1.1038023233413696, 1.0781158208847046, 1.0901110172271729, 1.1070536375045776, 1.0855190753936768, 1.0852694511413574, 1.0903788805007935, 1.0808472633361816, 1.117040753364563, 1.1132464408874512, 1.1089450120925903, 1.1054742336273193, 1.093682050704956, 1.1109875440597534, 1.098713994026184, 1.111619472503662, 1.1054774522781372, 1.1016250848770142, 1.1008622646331787, 1.0978766679763794, 1.115708827972412, 1.1143406629562378, 1.0672578811645508, 1.1055047512054443, 1.0964815616607666, 1.1199285984039307, 1.0913965702056885, 1.1149392127990723, 1.1163501739501953, 1.079643726348877, 1.0815733671188354, 1.0923658609390259, 1.0830496549606323, 1.1034700870513916, 1.0790469646453857, 1.0510976314544678, 1.1237332820892334, 1.0818463563919067, 1.1196330785751343, 1.1065678596496582, 1.0553396940231323, 1.1132196187973022, 1.111504077911377, 1.0889356136322021, 1.0735220909118652, 1.1116547584533691, 1.1219178438186646, 1.113430142402649, 1.0914567708969116, 1.1152421236038208, 1.080068588256836, 1.1161565780639648, 1.100763201713562, 1.0966007709503174, 1.101874589920044, 1.118167757987976, 1.0977346897125244, 1.1203148365020752, 1.123867154121399, 1.1287271976470947, 1.1064783334732056, 1.1284658908843994, 1.0464476346969604, 1.1351686716079712, 1.081752061843872, 1.126704454421997, 1.0642988681793213, 1.1063581705093384, 1.0884013175964355, 1.1176735162734985, 1.0720454454421997, 1.0597431659698486, 1.1092040538787842, 1.0878963470458984, 1.1054457426071167, 1.0913945436477661, 1.1110363006591797, 1.113353967666626, 1.0720336437225342, 1.0894770622253418, 1.0913172960281372, 1.0718797445297241, 1.1157112121582031, 1.1038366556167603, 1.0942825078964233, 1.1338372230529785, 1.1263632774353027, 1.0967254638671875, 1.1007537841796875, 1.083030104637146, 1.1179677248001099, 1.0991315841674805, 1.1100391149520874, 1.1059226989746094, 1.1075999736785889, 1.0991092920303345, 1.1008143424987793, 1.0865596532821655, 1.094565987586975, 1.1272624731063843, 1.1075087785720825, 1.1020941734313965, 1.084566354751587, 1.111493468284607, 1.1094540357589722, 1.0900806188583374, 1.0857930183410645, 1.1096032857894897, 1.1308293342590332, 1.0793615579605103, 1.120295524597168, 1.095389723777771, 1.1008931398391724, 1.1061391830444336, 1.095687985420227, 1.0963771343231201, 1.1220420598983765, 1.0787502527236938, 1.0966039896011353, 1.0906802415847778, 1.1107844114303589, 1.1014623641967773, 1.1029281616210938, 1.058715581893921, 1.1027101278305054, 1.0902761220932007, 1.0917129516601562, 1.104034423828125, 1.1119763851165771, 1.1075962781906128, 1.1126128435134888, 1.0946953296661377, 1.1218856573104858, 1.0818536281585693, 1.1077756881713867, 1.144589900970459, 1.0971599817276, 1.1105295419692993, 1.1120105981826782, 1.1146587133407593, 1.10903000831604, 1.0944428443908691, 1.089284896850586, 1.0968810319900513, 1.0999568700790405, 1.1271884441375732, 1.1013041734695435, 1.1255167722702026, 1.1070337295532227, 1.1063199043273926, 1.1006017923355103, 1.098936915397644, 1.1126227378845215, 1.0906180143356323, 1.1118073463439941, 1.0693333148956299, 1.0926613807678223, 1.12638521194458, 1.1284167766571045, 1.0810123682022095, 1.0968815088272095, 1.1110260486602783, 1.1061240434646606, 1.1073949337005615, 1.0844422578811646, 1.1129939556121826, 1.0937057733535767, 1.1159709692001343, 1.123137354850769, 1.1100866794586182, 1.132706642150879, 1.0887237787246704, 1.0980756282806396, 1.1247361898422241, 1.1073477268218994, 1.087347388267517, 1.0906726121902466, 1.1366342306137085, 1.1377050876617432, 1.1546216011047363, 1.0865422487258911, 1.0975306034088135, 1.1239243745803833, 1.1166805028915405, 1.115450143814087, 1.0911444425582886, 1.1115766763687134, 1.1268290281295776, 1.0972564220428467, 1.1010794639587402, 1.1545482873916626, 1.1218106746673584, 1.0941202640533447, 1.11537766456604, 1.107920527458191, 1.1178456544876099, 1.082001805305481, 1.1030325889587402, 1.0891815423965454, 1.0767767429351807, 1.0859296321868896, 1.1151736974716187, 1.1019477844238281, 1.098807692527771, 1.116254448890686, 1.1122184991836548, 1.1216009855270386, 1.107933759689331, 1.1027250289916992, 1.1128109693527222, 1.0920990705490112, 1.1005034446716309, 1.104742407798767, 1.110041856765747, 1.1129796504974365, 1.1193519830703735, 1.1013951301574707, 1.136426329612732, 1.1045492887496948, 1.094678282737732, 1.108017086982727, 1.1133173704147339, 1.0869251489639282, 1.0705589056015015, 1.1095938682556152, 1.1008981466293335, 1.0956028699874878, 1.118475079536438, 1.0935710668563843, 1.1184614896774292, 1.1175278425216675, 1.1265268325805664, 1.1367874145507812, 1.1065102815628052, 1.1152026653289795, 1.1247135400772095, 1.1189500093460083, 1.1284621953964233, 1.0879771709442139, 1.104494571685791, 1.0938150882720947, 1.092936635017395, 1.1194300651550293, 1.1171101331710815, 1.070064902305603, 1.1235935688018799, 1.1008343696594238, 1.1454508304595947, 1.1202914714813232, 1.09645414352417, 1.1166352033615112, 1.107064127922058, 1.110007882118225, 1.0984588861465454, 1.0863044261932373, 1.1217544078826904, 1.1179676055908203, 1.128110408782959, 1.1049559116363525, 1.1014922857284546, 1.0827603340148926, 1.1105332374572754, 1.0739316940307617, 1.0918551683425903, 1.0719295740127563, 1.1007705926895142, 1.1224100589752197, 1.103493094444275, 1.1155116558074951, 1.0901811122894287, 1.1089146137237549, 1.1052963733673096, 1.1153653860092163, 1.120737075805664, 1.1136467456817627, 1.0921036005020142, 1.1174843311309814, 1.0938186645507812, 1.1224474906921387, 1.1048067808151245, 1.0822581052780151, 1.1128666400909424, 1.1176972389221191, 1.0915831327438354, 1.1173994541168213, 1.1232208013534546, 1.0845632553100586, 1.0716652870178223, 1.0809955596923828, 1.1124306917190552, 1.0927765369415283, 1.0984410047531128, 1.0896722078323364, 1.1084798574447632, 1.0968137979507446, 1.1066663265228271, 1.116287112236023, 1.0980530977249146, 1.0946381092071533, 1.1144628524780273, 1.1111053228378296, 1.0970348119735718, 1.0883845090866089, 1.1164281368255615, 1.1188671588897705, 1.138157606124878, 1.115493893623352, 1.1308526992797852, 1.0821894407272339, 1.1042243242263794, 1.1010652780532837, 1.1146819591522217, 1.092502236366272, 1.092983603477478, 1.1084917783737183, 1.0922725200653076, 1.094753384590149, 1.096928596496582, 1.1347917318344116, 1.0843685865402222, 1.102770447731018, 1.0921436548233032, 1.1067835092544556, 1.1039435863494873, 1.105664610862732, 1.091139793395996, 1.1206369400024414, 1.108590841293335, 1.0982424020767212, 1.1055517196655273, 1.113095998764038, 1.1252516508102417, 1.1121386289596558, 1.117569088935852, 1.0942802429199219, 1.1200482845306396, 1.1033873558044434, 1.1060539484024048, 1.1172785758972168, 1.0872116088867188, 1.089577078819275, 1.1121821403503418, 1.100414752960205, 1.1232223510742188, 1.1078513860702515, 1.094925045967102, 1.0948537588119507, 1.083642840385437, 1.1129480600357056, 1.099702000617981, 1.1450023651123047, 1.0882606506347656, 1.1126946210861206, 1.1032297611236572, 1.1069142818450928, 1.107846975326538, 1.097286343574524, 1.1246415376663208, 1.120475172996521, 1.114243507385254, 1.0795477628707886, 1.112820029258728, 1.1085742712020874, 1.1305317878723145, 1.1081392765045166, 1.088958978652954, 1.0949382781982422]}],                        {\"template\": {\"data\": {\"bar\": [{\"error_x\": {\"color\": \"#2a3f5f\"}, \"error_y\": {\"color\": \"#2a3f5f\"}, \"marker\": {\"line\": {\"color\": \"#E5ECF6\", \"width\": 0.5}}, \"type\": \"bar\"}], \"barpolar\": [{\"marker\": {\"line\": {\"color\": \"#E5ECF6\", \"width\": 0.5}}, \"type\": \"barpolar\"}], \"carpet\": [{\"aaxis\": {\"endlinecolor\": \"#2a3f5f\", \"gridcolor\": \"white\", \"linecolor\": \"white\", \"minorgridcolor\": \"white\", \"startlinecolor\": \"#2a3f5f\"}, \"baxis\": {\"endlinecolor\": \"#2a3f5f\", \"gridcolor\": \"white\", \"linecolor\": \"white\", \"minorgridcolor\": \"white\", \"startlinecolor\": \"#2a3f5f\"}, \"type\": \"carpet\"}], \"choropleth\": [{\"colorbar\": {\"outlinewidth\": 0, \"ticks\": \"\"}, \"type\": \"choropleth\"}], \"contour\": [{\"colorbar\": {\"outlinewidth\": 0, \"ticks\": \"\"}, \"colorscale\": [[0.0, \"#0d0887\"], [0.1111111111111111, \"#46039f\"], [0.2222222222222222, \"#7201a8\"], [0.3333333333333333, \"#9c179e\"], [0.4444444444444444, \"#bd3786\"], [0.5555555555555556, \"#d8576b\"], [0.6666666666666666, \"#ed7953\"], [0.7777777777777778, \"#fb9f3a\"], [0.8888888888888888, \"#fdca26\"], [1.0, \"#f0f921\"]], \"type\": \"contour\"}], \"contourcarpet\": [{\"colorbar\": {\"outlinewidth\": 0, \"ticks\": \"\"}, \"type\": \"contourcarpet\"}], \"heatmap\": [{\"colorbar\": {\"outlinewidth\": 0, \"ticks\": \"\"}, \"colorscale\": [[0.0, \"#0d0887\"], [0.1111111111111111, \"#46039f\"], [0.2222222222222222, \"#7201a8\"], [0.3333333333333333, \"#9c179e\"], [0.4444444444444444, \"#bd3786\"], [0.5555555555555556, \"#d8576b\"], [0.6666666666666666, \"#ed7953\"], [0.7777777777777778, \"#fb9f3a\"], [0.8888888888888888, \"#fdca26\"], [1.0, \"#f0f921\"]], \"type\": \"heatmap\"}], \"heatmapgl\": [{\"colorbar\": {\"outlinewidth\": 0, \"ticks\": \"\"}, \"colorscale\": [[0.0, \"#0d0887\"], [0.1111111111111111, \"#46039f\"], [0.2222222222222222, \"#7201a8\"], [0.3333333333333333, \"#9c179e\"], [0.4444444444444444, \"#bd3786\"], [0.5555555555555556, \"#d8576b\"], [0.6666666666666666, \"#ed7953\"], [0.7777777777777778, \"#fb9f3a\"], [0.8888888888888888, \"#fdca26\"], [1.0, \"#f0f921\"]], \"type\": \"heatmapgl\"}], \"histogram\": [{\"marker\": {\"colorbar\": {\"outlinewidth\": 0, \"ticks\": \"\"}}, \"type\": \"histogram\"}], \"histogram2d\": [{\"colorbar\": {\"outlinewidth\": 0, \"ticks\": \"\"}, \"colorscale\": [[0.0, \"#0d0887\"], [0.1111111111111111, \"#46039f\"], [0.2222222222222222, \"#7201a8\"], [0.3333333333333333, \"#9c179e\"], [0.4444444444444444, \"#bd3786\"], [0.5555555555555556, \"#d8576b\"], [0.6666666666666666, \"#ed7953\"], [0.7777777777777778, \"#fb9f3a\"], [0.8888888888888888, \"#fdca26\"], [1.0, \"#f0f921\"]], \"type\": \"histogram2d\"}], \"histogram2dcontour\": [{\"colorbar\": {\"outlinewidth\": 0, \"ticks\": \"\"}, \"colorscale\": [[0.0, \"#0d0887\"], [0.1111111111111111, \"#46039f\"], [0.2222222222222222, \"#7201a8\"], [0.3333333333333333, \"#9c179e\"], [0.4444444444444444, \"#bd3786\"], [0.5555555555555556, \"#d8576b\"], [0.6666666666666666, \"#ed7953\"], [0.7777777777777778, \"#fb9f3a\"], [0.8888888888888888, \"#fdca26\"], [1.0, \"#f0f921\"]], \"type\": \"histogram2dcontour\"}], \"mesh3d\": [{\"colorbar\": {\"outlinewidth\": 0, \"ticks\": \"\"}, \"type\": \"mesh3d\"}], \"parcoords\": [{\"line\": {\"colorbar\": {\"outlinewidth\": 0, \"ticks\": \"\"}}, \"type\": \"parcoords\"}], \"pie\": [{\"automargin\": true, \"type\": \"pie\"}], \"scatter\": [{\"marker\": {\"colorbar\": {\"outlinewidth\": 0, \"ticks\": \"\"}}, \"type\": \"scatter\"}], \"scatter3d\": [{\"line\": {\"colorbar\": {\"outlinewidth\": 0, \"ticks\": \"\"}}, \"marker\": {\"colorbar\": {\"outlinewidth\": 0, \"ticks\": \"\"}}, \"type\": \"scatter3d\"}], \"scattercarpet\": [{\"marker\": {\"colorbar\": {\"outlinewidth\": 0, \"ticks\": \"\"}}, \"type\": \"scattercarpet\"}], \"scattergeo\": [{\"marker\": {\"colorbar\": {\"outlinewidth\": 0, \"ticks\": \"\"}}, \"type\": \"scattergeo\"}], \"scattergl\": [{\"marker\": {\"colorbar\": {\"outlinewidth\": 0, \"ticks\": \"\"}}, \"type\": \"scattergl\"}], \"scattermapbox\": [{\"marker\": {\"colorbar\": {\"outlinewidth\": 0, \"ticks\": \"\"}}, \"type\": \"scattermapbox\"}], \"scatterpolar\": [{\"marker\": {\"colorbar\": {\"outlinewidth\": 0, \"ticks\": \"\"}}, \"type\": \"scatterpolar\"}], \"scatterpolargl\": [{\"marker\": {\"colorbar\": {\"outlinewidth\": 0, \"ticks\": \"\"}}, \"type\": \"scatterpolargl\"}], \"scatterternary\": [{\"marker\": {\"colorbar\": {\"outlinewidth\": 0, \"ticks\": \"\"}}, \"type\": \"scatterternary\"}], \"surface\": [{\"colorbar\": {\"outlinewidth\": 0, \"ticks\": \"\"}, \"colorscale\": [[0.0, \"#0d0887\"], [0.1111111111111111, \"#46039f\"], [0.2222222222222222, \"#7201a8\"], [0.3333333333333333, \"#9c179e\"], [0.4444444444444444, \"#bd3786\"], [0.5555555555555556, \"#d8576b\"], [0.6666666666666666, \"#ed7953\"], [0.7777777777777778, \"#fb9f3a\"], [0.8888888888888888, \"#fdca26\"], [1.0, \"#f0f921\"]], \"type\": \"surface\"}], \"table\": [{\"cells\": {\"fill\": {\"color\": \"#EBF0F8\"}, \"line\": {\"color\": \"white\"}}, \"header\": {\"fill\": {\"color\": \"#C8D4E3\"}, \"line\": {\"color\": \"white\"}}, \"type\": \"table\"}]}, \"layout\": {\"annotationdefaults\": {\"arrowcolor\": \"#2a3f5f\", \"arrowhead\": 0, \"arrowwidth\": 1}, \"autotypenumbers\": \"strict\", \"coloraxis\": {\"colorbar\": {\"outlinewidth\": 0, \"ticks\": \"\"}}, \"colorscale\": {\"diverging\": [[0, \"#8e0152\"], [0.1, \"#c51b7d\"], [0.2, \"#de77ae\"], [0.3, \"#f1b6da\"], [0.4, \"#fde0ef\"], [0.5, \"#f7f7f7\"], [0.6, \"#e6f5d0\"], [0.7, \"#b8e186\"], [0.8, \"#7fbc41\"], [0.9, \"#4d9221\"], [1, \"#276419\"]], \"sequential\": [[0.0, \"#0d0887\"], [0.1111111111111111, \"#46039f\"], [0.2222222222222222, \"#7201a8\"], [0.3333333333333333, \"#9c179e\"], [0.4444444444444444, \"#bd3786\"], [0.5555555555555556, \"#d8576b\"], [0.6666666666666666, \"#ed7953\"], [0.7777777777777778, \"#fb9f3a\"], [0.8888888888888888, \"#fdca26\"], [1.0, \"#f0f921\"]], \"sequentialminus\": [[0.0, \"#0d0887\"], [0.1111111111111111, \"#46039f\"], [0.2222222222222222, \"#7201a8\"], [0.3333333333333333, \"#9c179e\"], [0.4444444444444444, \"#bd3786\"], [0.5555555555555556, \"#d8576b\"], [0.6666666666666666, \"#ed7953\"], [0.7777777777777778, \"#fb9f3a\"], [0.8888888888888888, \"#fdca26\"], [1.0, \"#f0f921\"]]}, \"colorway\": [\"#636efa\", \"#EF553B\", \"#00cc96\", \"#ab63fa\", \"#FFA15A\", \"#19d3f3\", \"#FF6692\", \"#B6E880\", \"#FF97FF\", \"#FECB52\"], \"font\": {\"color\": \"#2a3f5f\"}, \"geo\": {\"bgcolor\": \"white\", \"lakecolor\": \"white\", \"landcolor\": \"#E5ECF6\", \"showlakes\": true, \"showland\": true, \"subunitcolor\": \"white\"}, \"hoverlabel\": {\"align\": \"left\"}, \"hovermode\": \"closest\", \"mapbox\": {\"style\": \"light\"}, \"paper_bgcolor\": \"white\", \"plot_bgcolor\": \"#E5ECF6\", \"polar\": {\"angularaxis\": {\"gridcolor\": \"white\", \"linecolor\": \"white\", \"ticks\": \"\"}, \"bgcolor\": \"#E5ECF6\", \"radialaxis\": {\"gridcolor\": \"white\", \"linecolor\": \"white\", \"ticks\": \"\"}}, \"scene\": {\"xaxis\": {\"backgroundcolor\": \"#E5ECF6\", \"gridcolor\": \"white\", \"gridwidth\": 2, \"linecolor\": \"white\", \"showbackground\": true, \"ticks\": \"\", \"zerolinecolor\": \"white\"}, \"yaxis\": {\"backgroundcolor\": \"#E5ECF6\", \"gridcolor\": \"white\", \"gridwidth\": 2, \"linecolor\": \"white\", \"showbackground\": true, \"ticks\": \"\", \"zerolinecolor\": \"white\"}, \"zaxis\": {\"backgroundcolor\": \"#E5ECF6\", \"gridcolor\": \"white\", \"gridwidth\": 2, \"linecolor\": \"white\", \"showbackground\": true, \"ticks\": \"\", \"zerolinecolor\": \"white\"}}, \"shapedefaults\": {\"line\": {\"color\": \"#2a3f5f\"}}, \"ternary\": {\"aaxis\": {\"gridcolor\": \"white\", \"linecolor\": \"white\", \"ticks\": \"\"}, \"baxis\": {\"gridcolor\": \"white\", \"linecolor\": \"white\", \"ticks\": \"\"}, \"bgcolor\": \"#E5ECF6\", \"caxis\": {\"gridcolor\": \"white\", \"linecolor\": \"white\", \"ticks\": \"\"}}, \"title\": {\"x\": 0.05}, \"xaxis\": {\"automargin\": true, \"gridcolor\": \"white\", \"linecolor\": \"white\", \"ticks\": \"\", \"title\": {\"standoff\": 15}, \"zerolinecolor\": \"white\", \"zerolinewidth\": 2}, \"yaxis\": {\"automargin\": true, \"gridcolor\": \"white\", \"linecolor\": \"white\", \"ticks\": \"\", \"title\": {\"standoff\": 15}, \"zerolinecolor\": \"white\", \"zerolinewidth\": 2}}}},                        {\"responsive\": true}                    ).then(function(){\n",
       "                            \n",
       "var gd = document.getElementById('a96e5f6d-26d5-4638-8589-9698d086339d');\n",
       "var x = new MutationObserver(function (mutations, observer) {{\n",
       "        var display = window.getComputedStyle(gd).display;\n",
       "        if (!display || display === 'none') {{\n",
       "            console.log([gd, 'removed!']);\n",
       "            Plotly.purge(gd);\n",
       "            observer.disconnect();\n",
       "        }}\n",
       "}});\n",
       "\n",
       "// Listen for the removal of the full notebook cells\n",
       "var notebookContainer = gd.closest('#notebook-container');\n",
       "if (notebookContainer) {{\n",
       "    x.observe(notebookContainer, {childList: true});\n",
       "}}\n",
       "\n",
       "// Listen for the clearing of the current output cell\n",
       "var outputEl = gd.closest('.output');\n",
       "if (outputEl) {{\n",
       "    x.observe(outputEl, {childList: true});\n",
       "}}\n",
       "\n",
       "                        })                };                });            </script>        </div>"
      ]
     },
     "metadata": {},
     "output_type": "display_data"
    }
   ],
   "source": [
    "plot_loss([loss], ['combined_nn'])"
   ]
  },
  {
   "cell_type": "markdown",
   "id": "realistic-uncle",
   "metadata": {},
   "source": [
    "plot forecasts"
   ]
  },
  {
   "cell_type": "code",
   "execution_count": 50,
   "id": "encouraging-reducing",
   "metadata": {},
   "outputs": [],
   "source": [
    "results_df = pd.read_csv(f'../combined_nn_results/grid.csv', index_col=[0])"
   ]
  },
  {
   "cell_type": "code",
   "execution_count": 51,
   "id": "actual-limitation",
   "metadata": {},
   "outputs": [
    {
     "data": {
      "text/html": [
       "<div>\n",
       "<style scoped>\n",
       "    .dataframe tbody tr th:only-of-type {\n",
       "        vertical-align: middle;\n",
       "    }\n",
       "\n",
       "    .dataframe tbody tr th {\n",
       "        vertical-align: top;\n",
       "    }\n",
       "\n",
       "    .dataframe thead th {\n",
       "        text-align: right;\n",
       "    }\n",
       "</style>\n",
       "<table border=\"1\" class=\"dataframe\">\n",
       "  <thead>\n",
       "    <tr style=\"text-align: right;\">\n",
       "      <th></th>\n",
       "      <th>power</th>\n",
       "      <th>fc</th>\n",
       "    </tr>\n",
       "    <tr>\n",
       "      <th>date_str</th>\n",
       "      <th></th>\n",
       "      <th></th>\n",
       "    </tr>\n",
       "  </thead>\n",
       "  <tbody>\n",
       "    <tr>\n",
       "      <th>2021-01-09 07:00:00</th>\n",
       "      <td>11.51</td>\n",
       "      <td>94265.117188</td>\n",
       "    </tr>\n",
       "    <tr>\n",
       "      <th>2021-01-09 08:00:00</th>\n",
       "      <td>2827.61</td>\n",
       "      <td>94265.117188</td>\n",
       "    </tr>\n",
       "    <tr>\n",
       "      <th>2021-01-09 09:00:00</th>\n",
       "      <td>19125.99</td>\n",
       "      <td>94265.117188</td>\n",
       "    </tr>\n",
       "    <tr>\n",
       "      <th>2021-01-09 10:00:00</th>\n",
       "      <td>81339.20</td>\n",
       "      <td>94265.117188</td>\n",
       "    </tr>\n",
       "    <tr>\n",
       "      <th>2021-01-09 11:00:00</th>\n",
       "      <td>120248.84</td>\n",
       "      <td>145344.125000</td>\n",
       "    </tr>\n",
       "  </tbody>\n",
       "</table>\n",
       "</div>"
      ],
      "text/plain": [
       "                         power             fc\n",
       "date_str                                     \n",
       "2021-01-09 07:00:00      11.51   94265.117188\n",
       "2021-01-09 08:00:00    2827.61   94265.117188\n",
       "2021-01-09 09:00:00   19125.99   94265.117188\n",
       "2021-01-09 10:00:00   81339.20   94265.117188\n",
       "2021-01-09 11:00:00  120248.84  145344.125000"
      ]
     },
     "execution_count": 51,
     "metadata": {},
     "output_type": "execute_result"
    }
   ],
   "source": [
    "results_df.head()"
   ]
  },
  {
   "cell_type": "code",
   "execution_count": 54,
   "id": "royal-wright",
   "metadata": {},
   "outputs": [
    {
     "data": {
      "application/vnd.plotly.v1+json": {
       "config": {
        "plotlyServerURL": "https://plot.ly"
       },
       "data": [
        {
         "name": "actual",
         "type": "scatter",
         "x": [
          "2021-01-09 07:00:00",
          "2021-01-09 08:00:00",
          "2021-01-09 09:00:00",
          "2021-01-09 10:00:00",
          "2021-01-09 11:00:00",
          "2021-01-09 12:00:00",
          "2021-01-09 13:00:00",
          "2021-01-09 14:00:00",
          "2021-01-09 15:00:00",
          "2021-01-09 16:00:00",
          "2021-01-09 17:00:00",
          "2021-01-09 18:00:00",
          "2021-01-09 19:00:00",
          "2021-01-09 20:00:00",
          "2021-01-10 07:00:00",
          "2021-01-10 08:00:00",
          "2021-01-10 09:00:00",
          "2021-01-10 10:00:00",
          "2021-01-10 11:00:00",
          "2021-01-10 12:00:00",
          "2021-01-10 13:00:00",
          "2021-01-10 14:00:00",
          "2021-01-10 15:00:00",
          "2021-01-10 16:00:00",
          "2021-01-10 17:00:00",
          "2021-01-10 18:00:00",
          "2021-01-10 19:00:00",
          "2021-01-10 20:00:00",
          "2021-01-11 07:00:00",
          "2021-01-11 08:00:00",
          "2021-01-11 09:00:00",
          "2021-01-11 10:00:00",
          "2021-01-11 11:00:00",
          "2021-01-11 12:00:00",
          "2021-01-11 13:00:00",
          "2021-01-11 14:00:00",
          "2021-01-11 15:00:00",
          "2021-01-11 16:00:00",
          "2021-01-11 17:00:00",
          "2021-01-11 18:00:00",
          "2021-01-11 19:00:00",
          "2021-01-11 20:00:00",
          "2021-01-12 07:00:00",
          "2021-01-12 08:00:00",
          "2021-01-12 09:00:00",
          "2021-01-12 10:00:00",
          "2021-01-12 11:00:00",
          "2021-01-12 12:00:00",
          "2021-01-12 13:00:00",
          "2021-01-12 14:00:00",
          "2021-01-12 15:00:00",
          "2021-01-12 16:00:00",
          "2021-01-12 17:00:00",
          "2021-01-12 18:00:00",
          "2021-01-12 19:00:00",
          "2021-01-12 20:00:00",
          "2021-01-13 07:00:00",
          "2021-01-13 08:00:00",
          "2021-01-13 09:00:00",
          "2021-01-13 10:00:00",
          "2021-01-13 11:00:00",
          "2021-01-13 12:00:00",
          "2021-01-13 13:00:00",
          "2021-01-13 14:00:00",
          "2021-01-13 15:00:00",
          "2021-01-13 16:00:00",
          "2021-01-13 17:00:00",
          "2021-01-13 18:00:00",
          "2021-01-13 19:00:00",
          "2021-01-13 20:00:00",
          "2021-01-14 07:00:00",
          "2021-01-14 08:00:00",
          "2021-01-14 09:00:00",
          "2021-01-14 10:00:00",
          "2021-01-14 11:00:00",
          "2021-01-14 12:00:00",
          "2021-01-14 13:00:00",
          "2021-01-14 14:00:00",
          "2021-01-14 15:00:00",
          "2021-01-14 16:00:00",
          "2021-01-14 17:00:00",
          "2021-01-14 18:00:00",
          "2021-01-14 19:00:00",
          "2021-01-14 20:00:00",
          "2021-01-15 07:00:00",
          "2021-01-15 08:00:00",
          "2021-01-15 09:00:00",
          "2021-01-15 10:00:00",
          "2021-01-15 11:00:00",
          "2021-01-15 12:00:00",
          "2021-01-15 13:00:00",
          "2021-01-15 14:00:00",
          "2021-01-15 15:00:00",
          "2021-01-15 16:00:00",
          "2021-01-15 17:00:00",
          "2021-01-15 18:00:00",
          "2021-01-15 19:00:00",
          "2021-01-15 20:00:00",
          "2021-01-16 07:00:00",
          "2021-01-16 08:00:00",
          "2021-01-16 09:00:00",
          "2021-01-16 10:00:00",
          "2021-01-16 11:00:00",
          "2021-01-16 12:00:00",
          "2021-01-16 13:00:00",
          "2021-01-16 14:00:00",
          "2021-01-16 15:00:00",
          "2021-01-16 16:00:00",
          "2021-01-16 17:00:00",
          "2021-01-16 18:00:00",
          "2021-01-16 19:00:00",
          "2021-01-16 20:00:00",
          "2021-01-17 07:00:00",
          "2021-01-17 08:00:00",
          "2021-01-17 09:00:00",
          "2021-01-17 10:00:00",
          "2021-01-17 11:00:00",
          "2021-01-17 12:00:00",
          "2021-01-17 13:00:00",
          "2021-01-17 14:00:00",
          "2021-01-17 15:00:00",
          "2021-01-17 16:00:00",
          "2021-01-17 17:00:00",
          "2021-01-17 18:00:00",
          "2021-01-17 19:00:00",
          "2021-01-17 20:00:00",
          "2021-01-18 07:00:00",
          "2021-01-18 08:00:00",
          "2021-01-18 09:00:00",
          "2021-01-18 10:00:00",
          "2021-01-18 11:00:00",
          "2021-01-18 12:00:00",
          "2021-01-18 13:00:00",
          "2021-01-18 14:00:00",
          "2021-01-18 15:00:00",
          "2021-01-18 16:00:00",
          "2021-01-18 17:00:00",
          "2021-01-18 18:00:00",
          "2021-01-18 19:00:00",
          "2021-01-18 20:00:00",
          "2021-01-19 07:00:00",
          "2021-01-19 08:00:00",
          "2021-01-19 09:00:00",
          "2021-01-19 10:00:00",
          "2021-01-19 11:00:00",
          "2021-01-19 12:00:00",
          "2021-01-19 13:00:00",
          "2021-01-19 14:00:00",
          "2021-01-19 15:00:00",
          "2021-01-19 16:00:00",
          "2021-01-19 17:00:00",
          "2021-01-19 18:00:00",
          "2021-01-19 19:00:00",
          "2021-01-19 20:00:00",
          "2021-01-20 07:00:00",
          "2021-01-20 08:00:00",
          "2021-01-20 09:00:00",
          "2021-01-20 10:00:00",
          "2021-01-20 11:00:00",
          "2021-01-20 12:00:00",
          "2021-01-20 13:00:00",
          "2021-01-20 14:00:00",
          "2021-01-20 15:00:00",
          "2021-01-20 16:00:00",
          "2021-01-20 17:00:00",
          "2021-01-20 18:00:00",
          "2021-01-20 19:00:00",
          "2021-01-20 20:00:00",
          "2021-01-21 07:00:00",
          "2021-01-21 08:00:00",
          "2021-01-21 09:00:00",
          "2021-01-21 10:00:00",
          "2021-01-21 11:00:00",
          "2021-01-21 12:00:00",
          "2021-01-21 13:00:00",
          "2021-01-21 14:00:00",
          "2021-01-21 15:00:00",
          "2021-01-21 16:00:00",
          "2021-01-21 17:00:00",
          "2021-01-21 18:00:00",
          "2021-01-21 19:00:00",
          "2021-01-21 20:00:00",
          "2021-01-22 07:00:00",
          "2021-01-22 08:00:00",
          "2021-01-22 09:00:00",
          "2021-01-22 10:00:00",
          "2021-01-22 11:00:00",
          "2021-01-22 12:00:00",
          "2021-01-22 13:00:00",
          "2021-01-22 14:00:00",
          "2021-01-22 15:00:00",
          "2021-01-22 16:00:00",
          "2021-01-22 17:00:00",
          "2021-01-22 18:00:00",
          "2021-01-22 19:00:00",
          "2021-01-22 20:00:00",
          "2021-01-23 07:00:00",
          "2021-01-23 08:00:00",
          "2021-01-23 09:00:00",
          "2021-01-23 10:00:00",
          "2021-01-23 11:00:00",
          "2021-01-23 12:00:00",
          "2021-01-23 13:00:00",
          "2021-01-23 14:00:00",
          "2021-01-23 15:00:00",
          "2021-01-23 16:00:00",
          "2021-01-23 17:00:00",
          "2021-01-23 18:00:00",
          "2021-01-23 19:00:00",
          "2021-01-23 20:00:00",
          "2021-01-24 07:00:00",
          "2021-01-24 08:00:00",
          "2021-01-24 09:00:00",
          "2021-01-24 10:00:00",
          "2021-01-24 11:00:00",
          "2021-01-24 12:00:00",
          "2021-01-24 13:00:00",
          "2021-01-24 14:00:00",
          "2021-01-24 15:00:00",
          "2021-01-24 16:00:00",
          "2021-01-24 17:00:00",
          "2021-01-24 18:00:00",
          "2021-01-24 19:00:00",
          "2021-01-24 20:00:00",
          "2021-01-25 07:00:00",
          "2021-01-25 08:00:00",
          "2021-01-25 09:00:00",
          "2021-01-25 10:00:00",
          "2021-01-25 11:00:00",
          "2021-01-25 12:00:00",
          "2021-01-25 13:00:00",
          "2021-01-25 14:00:00",
          "2021-01-25 15:00:00",
          "2021-01-25 16:00:00",
          "2021-01-25 17:00:00",
          "2021-01-25 18:00:00",
          "2021-01-25 19:00:00",
          "2021-01-25 20:00:00",
          "2021-01-26 07:00:00",
          "2021-01-26 08:00:00",
          "2021-01-26 09:00:00",
          "2021-01-26 10:00:00",
          "2021-01-26 11:00:00",
          "2021-01-26 12:00:00",
          "2021-01-26 13:00:00",
          "2021-01-26 14:00:00",
          "2021-01-26 15:00:00",
          "2021-01-26 16:00:00",
          "2021-01-26 17:00:00",
          "2021-01-26 18:00:00",
          "2021-01-26 19:00:00",
          "2021-01-26 20:00:00",
          "2021-01-27 07:00:00",
          "2021-01-27 08:00:00",
          "2021-01-27 09:00:00",
          "2021-01-27 10:00:00",
          "2021-01-27 11:00:00",
          "2021-01-27 12:00:00",
          "2021-01-27 13:00:00",
          "2021-01-27 14:00:00",
          "2021-01-27 15:00:00",
          "2021-01-27 16:00:00",
          "2021-01-27 17:00:00",
          "2021-01-27 18:00:00",
          "2021-01-27 19:00:00",
          "2021-01-27 20:00:00",
          "2021-01-28 07:00:00",
          "2021-01-28 08:00:00",
          "2021-01-28 09:00:00",
          "2021-01-28 10:00:00",
          "2021-01-28 11:00:00",
          "2021-01-28 12:00:00",
          "2021-01-28 13:00:00",
          "2021-01-28 14:00:00",
          "2021-01-28 15:00:00",
          "2021-01-28 16:00:00",
          "2021-01-28 17:00:00",
          "2021-01-28 18:00:00",
          "2021-01-28 19:00:00",
          "2021-01-28 20:00:00",
          "2021-01-29 07:00:00",
          "2021-01-29 08:00:00",
          "2021-01-29 09:00:00",
          "2021-01-29 10:00:00",
          "2021-01-29 11:00:00",
          "2021-01-29 12:00:00",
          "2021-01-29 13:00:00",
          "2021-01-29 14:00:00",
          "2021-01-29 15:00:00",
          "2021-01-29 16:00:00",
          "2021-01-29 17:00:00",
          "2021-01-29 18:00:00",
          "2021-01-29 19:00:00",
          "2021-01-29 20:00:00",
          "2021-01-30 07:00:00",
          "2021-01-30 08:00:00",
          "2021-01-30 09:00:00",
          "2021-01-30 10:00:00",
          "2021-01-30 11:00:00",
          "2021-01-30 12:00:00",
          "2021-01-30 13:00:00",
          "2021-01-30 14:00:00",
          "2021-01-30 15:00:00",
          "2021-01-30 16:00:00",
          "2021-01-30 17:00:00",
          "2021-01-30 18:00:00",
          "2021-01-30 19:00:00",
          "2021-01-30 20:00:00",
          "2021-01-31 07:00:00",
          "2021-01-31 08:00:00",
          "2021-01-31 09:00:00",
          "2021-01-31 10:00:00",
          "2021-01-31 11:00:00",
          "2021-01-31 12:00:00",
          "2021-01-31 13:00:00",
          "2021-01-31 14:00:00",
          "2021-01-31 15:00:00",
          "2021-01-31 16:00:00",
          "2021-01-31 17:00:00",
          "2021-01-31 18:00:00",
          "2021-01-31 19:00:00",
          "2021-01-31 20:00:00",
          "2021-02-01 07:00:00",
          "2021-02-01 08:00:00",
          "2021-02-01 09:00:00",
          "2021-02-01 10:00:00",
          "2021-02-01 11:00:00",
          "2021-02-01 12:00:00",
          "2021-02-01 13:00:00",
          "2021-02-01 14:00:00",
          "2021-02-01 15:00:00",
          "2021-02-01 16:00:00",
          "2021-02-01 17:00:00",
          "2021-02-01 18:00:00",
          "2021-02-01 19:00:00",
          "2021-02-01 20:00:00",
          "2021-02-02 07:00:00",
          "2021-02-02 08:00:00",
          "2021-02-02 09:00:00",
          "2021-02-02 10:00:00",
          "2021-02-02 11:00:00",
          "2021-02-02 12:00:00",
          "2021-02-02 13:00:00",
          "2021-02-02 14:00:00",
          "2021-02-02 15:00:00",
          "2021-02-02 16:00:00",
          "2021-02-02 17:00:00",
          "2021-02-02 18:00:00",
          "2021-02-02 19:00:00",
          "2021-02-02 20:00:00",
          "2021-02-03 07:00:00",
          "2021-02-03 08:00:00",
          "2021-02-03 09:00:00",
          "2021-02-03 10:00:00",
          "2021-02-03 11:00:00",
          "2021-02-03 12:00:00",
          "2021-02-03 13:00:00",
          "2021-02-03 14:00:00",
          "2021-02-03 15:00:00",
          "2021-02-03 16:00:00",
          "2021-02-03 17:00:00",
          "2021-02-03 18:00:00",
          "2021-02-03 19:00:00",
          "2021-02-03 20:00:00",
          "2021-02-04 07:00:00",
          "2021-02-04 08:00:00",
          "2021-02-04 09:00:00",
          "2021-02-04 10:00:00",
          "2021-02-04 11:00:00",
          "2021-02-04 12:00:00",
          "2021-02-04 13:00:00",
          "2021-02-04 14:00:00",
          "2021-02-04 15:00:00",
          "2021-02-04 16:00:00",
          "2021-02-04 17:00:00",
          "2021-02-04 18:00:00",
          "2021-02-04 19:00:00",
          "2021-02-04 20:00:00",
          "2021-02-05 07:00:00",
          "2021-02-05 08:00:00",
          "2021-02-05 09:00:00",
          "2021-02-05 10:00:00",
          "2021-02-05 11:00:00",
          "2021-02-05 12:00:00",
          "2021-02-05 13:00:00",
          "2021-02-05 14:00:00",
          "2021-02-05 15:00:00",
          "2021-02-05 16:00:00",
          "2021-02-05 17:00:00",
          "2021-02-05 18:00:00",
          "2021-02-05 19:00:00",
          "2021-02-05 20:00:00",
          "2021-02-06 07:00:00",
          "2021-02-06 08:00:00",
          "2021-02-06 09:00:00",
          "2021-02-06 10:00:00",
          "2021-02-06 11:00:00",
          "2021-02-06 12:00:00",
          "2021-02-06 13:00:00",
          "2021-02-06 14:00:00",
          "2021-02-06 15:00:00",
          "2021-02-06 16:00:00",
          "2021-02-06 17:00:00",
          "2021-02-06 18:00:00",
          "2021-02-06 19:00:00",
          "2021-02-06 20:00:00",
          "2021-02-07 07:00:00",
          "2021-02-07 08:00:00",
          "2021-02-07 09:00:00",
          "2021-02-07 10:00:00",
          "2021-02-07 11:00:00",
          "2021-02-07 12:00:00",
          "2021-02-07 13:00:00",
          "2021-02-07 14:00:00",
          "2021-02-07 15:00:00",
          "2021-02-07 16:00:00",
          "2021-02-07 17:00:00",
          "2021-02-07 18:00:00",
          "2021-02-07 19:00:00",
          "2021-02-07 20:00:00",
          "2021-02-08 07:00:00",
          "2021-02-08 08:00:00",
          "2021-02-08 09:00:00",
          "2021-02-08 10:00:00",
          "2021-02-08 11:00:00",
          "2021-02-08 12:00:00",
          "2021-02-08 13:00:00",
          "2021-02-08 14:00:00",
          "2021-02-08 15:00:00",
          "2021-02-08 16:00:00",
          "2021-02-08 17:00:00",
          "2021-02-08 18:00:00",
          "2021-02-08 19:00:00",
          "2021-02-08 20:00:00",
          "2021-02-09 07:00:00",
          "2021-02-09 08:00:00",
          "2021-02-09 09:00:00",
          "2021-02-09 10:00:00",
          "2021-02-09 11:00:00",
          "2021-02-09 12:00:00",
          "2021-02-09 13:00:00",
          "2021-02-09 14:00:00",
          "2021-02-09 15:00:00",
          "2021-02-09 16:00:00",
          "2021-02-09 17:00:00",
          "2021-02-09 18:00:00",
          "2021-02-09 19:00:00",
          "2021-02-09 20:00:00",
          "2021-02-10 07:00:00",
          "2021-02-10 08:00:00",
          "2021-02-10 09:00:00",
          "2021-02-10 10:00:00",
          "2021-02-10 11:00:00",
          "2021-02-10 12:00:00",
          "2021-02-10 13:00:00",
          "2021-02-10 14:00:00",
          "2021-02-10 15:00:00",
          "2021-02-10 16:00:00",
          "2021-02-10 17:00:00",
          "2021-02-10 18:00:00",
          "2021-02-10 19:00:00",
          "2021-02-10 20:00:00",
          "2021-02-11 07:00:00",
          "2021-02-11 08:00:00",
          "2021-02-11 09:00:00",
          "2021-02-11 10:00:00",
          "2021-02-11 11:00:00",
          "2021-02-11 12:00:00",
          "2021-02-11 13:00:00",
          "2021-02-11 14:00:00",
          "2021-02-11 15:00:00",
          "2021-02-11 16:00:00",
          "2021-02-11 17:00:00",
          "2021-02-11 18:00:00",
          "2021-02-11 19:00:00",
          "2021-02-11 20:00:00",
          "2021-02-12 07:00:00",
          "2021-02-12 08:00:00",
          "2021-02-12 09:00:00",
          "2021-02-12 10:00:00",
          "2021-02-12 11:00:00",
          "2021-02-12 12:00:00",
          "2021-02-12 13:00:00",
          "2021-02-12 14:00:00",
          "2021-02-12 15:00:00",
          "2021-02-12 16:00:00",
          "2021-02-12 17:00:00",
          "2021-02-12 18:00:00",
          "2021-02-12 19:00:00",
          "2021-02-12 20:00:00",
          "2021-02-13 07:00:00",
          "2021-02-13 08:00:00",
          "2021-02-13 09:00:00",
          "2021-02-13 10:00:00",
          "2021-02-13 11:00:00",
          "2021-02-13 12:00:00",
          "2021-02-13 13:00:00",
          "2021-02-13 14:00:00",
          "2021-02-13 15:00:00",
          "2021-02-13 16:00:00",
          "2021-02-13 17:00:00",
          "2021-02-13 18:00:00",
          "2021-02-13 19:00:00",
          "2021-02-13 20:00:00"
         ],
         "y": [
          11.51,
          2827.61,
          19125.99,
          81339.2,
          120248.84,
          138112.28,
          193998.09,
          198199.7,
          221898.65,
          220806.24,
          208875.37,
          225113.79,
          169836.77,
          98231.42,
          9.68,
          1874.08,
          18753.49,
          58166.42,
          108814.06,
          168628.08,
          213157.56,
          237281.68,
          203407.61,
          221005.12,
          246277.37,
          266609.58,
          208908.97,
          117317,
          6.14,
          2161.71,
          25827.02,
          56276.65,
          135925.73,
          217747.01,
          281071.81,
          309890.91,
          264609.44,
          263013.07,
          251036.95,
          263345.38,
          206894.24,
          115868.21,
          5.41,
          2133.38,
          24505.5,
          84336.31,
          155551.63,
          208850.44,
          260587.47,
          306314.97,
          323163.66,
          327811.12,
          312043.92,
          242867.1,
          204081.96,
          117152.03,
          5.4,
          1463.26,
          19166.5,
          83024.11,
          121824.55,
          188928.27,
          242478.05,
          278689.23,
          291603.07,
          293091.68,
          281207.75,
          245114.66,
          170843.89,
          95213.46,
          5.04,
          1624.7,
          25464.03,
          66761.44,
          147238.47,
          214825.54,
          267461.45,
          314078.71,
          324505.12,
          300878.98,
          285004.22,
          251804.12,
          185653.78,
          106537.61,
          5.95,
          1085.46,
          21781.49,
          85087.74,
          161111.33,
          229647.63,
          278492.33,
          310844.58,
          326101.67,
          324116.33,
          307126.86,
          266057.81,
          203145.1,
          113064.39,
          6.32,
          1234.13,
          20990.97,
          80045.86,
          160110.44,
          184304.71,
          218831.28,
          246264.23,
          254507.88,
          253681.91,
          245871.79,
          262008.84,
          204948.76,
          114052.4,
          8.32,
          1145.17,
          20418.63,
          78977.72,
          157607.07,
          221537.97,
          268994.95,
          299374.6,
          257426.7,
          252306.08,
          243547.01,
          253676.97,
          198314.66,
          110071.49,
          11.95,
          1099.32,
          21733.55,
          77548.81,
          144054.95,
          201185.51,
          228247.62,
          266507.49,
          260591.94,
          256967.38,
          231859.95,
          161133.13,
          140958.43,
          81425.99,
          10.15,
          909.01,
          19396.88,
          68189.26,
          143424.14,
          196671.55,
          250164.48,
          231712.98,
          221961.15,
          259044.78,
          225629.87,
          181908.14,
          143796.63,
          81011.46,
          10.32,
          526.64,
          16294.28,
          72804.6,
          129605.73,
          208811.57,
          267034.98,
          301564.33,
          311855.91,
          313041.44,
          283746.31,
          244505.58,
          189180.14,
          102395.52,
          9.79,
          800.16,
          20187.61,
          62433.05,
          149036.49,
          218858.55,
          267407.39,
          299673.21,
          312702.35,
          313896.41,
          299053.63,
          262488.72,
          200483.18,
          108960.69,
          10.25,
          706.44,
          18486.82,
          73793.83,
          150841.77,
          217178.04,
          266226.24,
          296576.79,
          313757.84,
          318016.75,
          303093.46,
          264622.89,
          203043.93,
          112121.66,
          6.37,
          559.13,
          17881.21,
          73548.82,
          148820.6,
          172609.74,
          15616.14,
          210021.24,
          243636.34,
          247209.75,
          236094.45,
          255543.75,
          203462.01,
          103992.61,
          5.92,
          267.56,
          14462.22,
          70403.48,
          88106.54,
          161624.3,
          185411.36,
          207153.29,
          219209.11,
          232135.87,
          243666.9,
          238686.08,
          187771.24,
          99244.43,
          5.72,
          301.41,
          15897,
          43304.63,
          130248.89,
          204045.7,
          215983.71,
          158285.97,
          151867.96,
          166051.15,
          202116.9,
          180685.16,
          179049.48,
          115628.74,
          9.02,
          400.63,
          17961.9,
          62030.06,
          147936.66,
          211546.4,
          229409.37,
          271722.24,
          257599.2,
          206300.71,
          279035.68,
          243559.56,
          148394.62,
          107926.63,
          7.91,
          362.74,
          16685.16,
          70638.8,
          128835.31,
          171030.37,
          231422.4,
          284547.42,
          309129.69,
          314954.08,
          270489.25,
          256074.96,
          205715.77,
          115166.89,
          6.81,
          392.6,
          17330.65,
          72806.93,
          152549.42,
          222746.14,
          272686.47,
          287154.45,
          275332.27,
          288991.42,
          304241.22,
          272308.82,
          208607.85,
          112258.76,
          5.8,
          301.6,
          16332.36,
          72256.65,
          140980.1,
          212495.76,
          272745.12,
          306238.99,
          320842.16,
          320213.35,
          303402.45,
          265490.97,
          203139.13,
          109815.82,
          9.34,
          273.95,
          15691.4,
          69765.91,
          151132.54,
          179782.4,
          217852.06,
          242425.32,
          255853,
          257569.98,
          245838.29,
          257942.89,
          201137.1,
          108597.15,
          10.71,
          235.69,
          15334.85,
          70152.46,
          148675.12,
          216611.2,
          266322.73,
          290996.83,
          194036.45,
          225357.1,
          247972.22,
          260293.64,
          204873.03,
          109325.17,
          11.27,
          192.02,
          14901.18,
          69469.19,
          148908.78,
          220192.14,
          269913.74,
          299779.44,
          256786.52,
          255577.2,
          245084.34,
          253577.53,
          197010.96,
          102244.34,
          11.1,
          206.66,
          15581.17,
          68634.71,
          125977.72,
          180083.5,
          204327.63,
          239176.72,
          278544.05,
          265662.61,
          241503.22,
          209208.26,
          152099.72,
          79437.63,
          10.96,
          102.97,
          14246.2,
          60524.89,
          119678.72,
          212098.7,
          261714.88,
          301703.95,
          298049.75,
          257949.53,
          248982.62,
          253295.95,
          173214.34,
          79500.51,
          6.46,
          103.01,
          14334.04,
          51356.69,
          147667.55,
          220913.37,
          264633.27,
          299830.92,
          316351.19,
          315999.13,
          301920.05,
          268347.53,
          204182.72,
          106619.26,
          6.31,
          67.69,
          14813.43,
          66522.36,
          144728.25,
          202083.35,
          265738.48,
          295002.62,
          318753.35,
          310476.85,
          284552.37,
          238495.03,
          164136.57,
          76093.85,
          5.55,
          6.07,
          7425.59,
          64679.25,
          64386.16,
          64852.45,
          86855.87,
          84027.56,
          93601.25,
          84993.53,
          70884.12,
          67452.74,
          31441.35,
          13269.08,
          6.5,
          6.25,
          1450.9,
          30658.67,
          23653.36,
          32021.73,
          55187.28,
          63816.25,
          58572.41,
          45461.92,
          45429.94,
          39189.7,
          25455.49,
          11562.53,
          5.84,
          6.58,
          10749.7,
          12388.85,
          102174.61,
          160749.38,
          207784.97,
          236877.72,
          196896.82,
          189896.82,
          191888.28,
          196723.4,
          142522.42,
          88440.44,
          5.46,
          5.6,
          12870.29,
          46954.54,
          110431.87,
          158718.61,
          184121.01,
          277605.44,
          267733.06,
          272191.44,
          225975.27,
          165051.53,
          112482.83,
          57786.98,
          6.57,
          5.66,
          11413.5,
          63296.44,
          136809.62,
          186389.09,
          232616.55,
          263235.86,
          256906.1,
          279913.69,
          239647.87,
          231207.09,
          164680.31,
          75767.7,
          5.77,
          6.12,
          9303.5,
          64515.33,
          113036.97,
          136629,
          157670.5,
          204809.24,
          253249.96,
          242951.91,
          202430.29,
          187915.3,
          170439.87,
          90719.88,
          6.23,
          6.3,
          12412.38,
          55026.51,
          132631.89,
          206983.68,
          263017.61,
          304988.57,
          320708.31,
          320346.64,
          306753.99,
          269933.4,
          204080.54,
          101333.65,
          6.34,
          6.59,
          10997.14,
          62266.53,
          143674.13,
          175687.08,
          214049.35,
          239580.82,
          249179.04,
          255891.13,
          231299.37,
          255489.21,
          191863.39,
          92640.44
         ]
        },
        {
         "name": "fc",
         "type": "scatter",
         "x": [
          "2021-01-09 07:00:00",
          "2021-01-09 08:00:00",
          "2021-01-09 09:00:00",
          "2021-01-09 10:00:00",
          "2021-01-09 11:00:00",
          "2021-01-09 12:00:00",
          "2021-01-09 13:00:00",
          "2021-01-09 14:00:00",
          "2021-01-09 15:00:00",
          "2021-01-09 16:00:00",
          "2021-01-09 17:00:00",
          "2021-01-09 18:00:00",
          "2021-01-09 19:00:00",
          "2021-01-09 20:00:00",
          "2021-01-10 07:00:00",
          "2021-01-10 08:00:00",
          "2021-01-10 09:00:00",
          "2021-01-10 10:00:00",
          "2021-01-10 11:00:00",
          "2021-01-10 12:00:00",
          "2021-01-10 13:00:00",
          "2021-01-10 14:00:00",
          "2021-01-10 15:00:00",
          "2021-01-10 16:00:00",
          "2021-01-10 17:00:00",
          "2021-01-10 18:00:00",
          "2021-01-10 19:00:00",
          "2021-01-10 20:00:00",
          "2021-01-11 07:00:00",
          "2021-01-11 08:00:00",
          "2021-01-11 09:00:00",
          "2021-01-11 10:00:00",
          "2021-01-11 11:00:00",
          "2021-01-11 12:00:00",
          "2021-01-11 13:00:00",
          "2021-01-11 14:00:00",
          "2021-01-11 15:00:00",
          "2021-01-11 16:00:00",
          "2021-01-11 17:00:00",
          "2021-01-11 18:00:00",
          "2021-01-11 19:00:00",
          "2021-01-11 20:00:00",
          "2021-01-12 07:00:00",
          "2021-01-12 08:00:00",
          "2021-01-12 09:00:00",
          "2021-01-12 10:00:00",
          "2021-01-12 11:00:00",
          "2021-01-12 12:00:00",
          "2021-01-12 13:00:00",
          "2021-01-12 14:00:00",
          "2021-01-12 15:00:00",
          "2021-01-12 16:00:00",
          "2021-01-12 17:00:00",
          "2021-01-12 18:00:00",
          "2021-01-12 19:00:00",
          "2021-01-12 20:00:00",
          "2021-01-13 07:00:00",
          "2021-01-13 08:00:00",
          "2021-01-13 09:00:00",
          "2021-01-13 10:00:00",
          "2021-01-13 11:00:00",
          "2021-01-13 12:00:00",
          "2021-01-13 13:00:00",
          "2021-01-13 14:00:00",
          "2021-01-13 15:00:00",
          "2021-01-13 16:00:00",
          "2021-01-13 17:00:00",
          "2021-01-13 18:00:00",
          "2021-01-13 19:00:00",
          "2021-01-13 20:00:00",
          "2021-01-14 07:00:00",
          "2021-01-14 08:00:00",
          "2021-01-14 09:00:00",
          "2021-01-14 10:00:00",
          "2021-01-14 11:00:00",
          "2021-01-14 12:00:00",
          "2021-01-14 13:00:00",
          "2021-01-14 14:00:00",
          "2021-01-14 15:00:00",
          "2021-01-14 16:00:00",
          "2021-01-14 17:00:00",
          "2021-01-14 18:00:00",
          "2021-01-14 19:00:00",
          "2021-01-14 20:00:00",
          "2021-01-15 07:00:00",
          "2021-01-15 08:00:00",
          "2021-01-15 09:00:00",
          "2021-01-15 10:00:00",
          "2021-01-15 11:00:00",
          "2021-01-15 12:00:00",
          "2021-01-15 13:00:00",
          "2021-01-15 14:00:00",
          "2021-01-15 15:00:00",
          "2021-01-15 16:00:00",
          "2021-01-15 17:00:00",
          "2021-01-15 18:00:00",
          "2021-01-15 19:00:00",
          "2021-01-15 20:00:00",
          "2021-01-16 07:00:00",
          "2021-01-16 08:00:00",
          "2021-01-16 09:00:00",
          "2021-01-16 10:00:00",
          "2021-01-16 11:00:00",
          "2021-01-16 12:00:00",
          "2021-01-16 13:00:00",
          "2021-01-16 14:00:00",
          "2021-01-16 15:00:00",
          "2021-01-16 16:00:00",
          "2021-01-16 17:00:00",
          "2021-01-16 18:00:00",
          "2021-01-16 19:00:00",
          "2021-01-16 20:00:00",
          "2021-01-17 07:00:00",
          "2021-01-17 08:00:00",
          "2021-01-17 09:00:00",
          "2021-01-17 10:00:00",
          "2021-01-17 11:00:00",
          "2021-01-17 12:00:00",
          "2021-01-17 13:00:00",
          "2021-01-17 14:00:00",
          "2021-01-17 15:00:00",
          "2021-01-17 16:00:00",
          "2021-01-17 17:00:00",
          "2021-01-17 18:00:00",
          "2021-01-17 19:00:00",
          "2021-01-17 20:00:00",
          "2021-01-18 07:00:00",
          "2021-01-18 08:00:00",
          "2021-01-18 09:00:00",
          "2021-01-18 10:00:00",
          "2021-01-18 11:00:00",
          "2021-01-18 12:00:00",
          "2021-01-18 13:00:00",
          "2021-01-18 14:00:00",
          "2021-01-18 15:00:00",
          "2021-01-18 16:00:00",
          "2021-01-18 17:00:00",
          "2021-01-18 18:00:00",
          "2021-01-18 19:00:00",
          "2021-01-18 20:00:00",
          "2021-01-19 07:00:00",
          "2021-01-19 08:00:00",
          "2021-01-19 09:00:00",
          "2021-01-19 10:00:00",
          "2021-01-19 11:00:00",
          "2021-01-19 12:00:00",
          "2021-01-19 13:00:00",
          "2021-01-19 14:00:00",
          "2021-01-19 15:00:00",
          "2021-01-19 16:00:00",
          "2021-01-19 17:00:00",
          "2021-01-19 18:00:00",
          "2021-01-19 19:00:00",
          "2021-01-19 20:00:00",
          "2021-01-20 07:00:00",
          "2021-01-20 08:00:00",
          "2021-01-20 09:00:00",
          "2021-01-20 10:00:00",
          "2021-01-20 11:00:00",
          "2021-01-20 12:00:00",
          "2021-01-20 13:00:00",
          "2021-01-20 14:00:00",
          "2021-01-20 15:00:00",
          "2021-01-20 16:00:00",
          "2021-01-20 17:00:00",
          "2021-01-20 18:00:00",
          "2021-01-20 19:00:00",
          "2021-01-20 20:00:00",
          "2021-01-21 07:00:00",
          "2021-01-21 08:00:00",
          "2021-01-21 09:00:00",
          "2021-01-21 10:00:00",
          "2021-01-21 11:00:00",
          "2021-01-21 12:00:00",
          "2021-01-21 13:00:00",
          "2021-01-21 14:00:00",
          "2021-01-21 15:00:00",
          "2021-01-21 16:00:00",
          "2021-01-21 17:00:00",
          "2021-01-21 18:00:00",
          "2021-01-21 19:00:00",
          "2021-01-21 20:00:00",
          "2021-01-22 07:00:00",
          "2021-01-22 08:00:00",
          "2021-01-22 09:00:00",
          "2021-01-22 10:00:00",
          "2021-01-22 11:00:00",
          "2021-01-22 12:00:00",
          "2021-01-22 13:00:00",
          "2021-01-22 14:00:00",
          "2021-01-22 15:00:00",
          "2021-01-22 16:00:00",
          "2021-01-22 17:00:00",
          "2021-01-22 18:00:00",
          "2021-01-22 19:00:00",
          "2021-01-22 20:00:00",
          "2021-01-23 07:00:00",
          "2021-01-23 08:00:00",
          "2021-01-23 09:00:00",
          "2021-01-23 10:00:00",
          "2021-01-23 11:00:00",
          "2021-01-23 12:00:00",
          "2021-01-23 13:00:00",
          "2021-01-23 14:00:00",
          "2021-01-23 15:00:00",
          "2021-01-23 16:00:00",
          "2021-01-23 17:00:00",
          "2021-01-23 18:00:00",
          "2021-01-23 19:00:00",
          "2021-01-23 20:00:00",
          "2021-01-24 07:00:00",
          "2021-01-24 08:00:00",
          "2021-01-24 09:00:00",
          "2021-01-24 10:00:00",
          "2021-01-24 11:00:00",
          "2021-01-24 12:00:00",
          "2021-01-24 13:00:00",
          "2021-01-24 14:00:00",
          "2021-01-24 15:00:00",
          "2021-01-24 16:00:00",
          "2021-01-24 17:00:00",
          "2021-01-24 18:00:00",
          "2021-01-24 19:00:00",
          "2021-01-24 20:00:00",
          "2021-01-25 07:00:00",
          "2021-01-25 08:00:00",
          "2021-01-25 09:00:00",
          "2021-01-25 10:00:00",
          "2021-01-25 11:00:00",
          "2021-01-25 12:00:00",
          "2021-01-25 13:00:00",
          "2021-01-25 14:00:00",
          "2021-01-25 15:00:00",
          "2021-01-25 16:00:00",
          "2021-01-25 17:00:00",
          "2021-01-25 18:00:00",
          "2021-01-25 19:00:00",
          "2021-01-25 20:00:00",
          "2021-01-26 07:00:00",
          "2021-01-26 08:00:00",
          "2021-01-26 09:00:00",
          "2021-01-26 10:00:00",
          "2021-01-26 11:00:00",
          "2021-01-26 12:00:00",
          "2021-01-26 13:00:00",
          "2021-01-26 14:00:00",
          "2021-01-26 15:00:00",
          "2021-01-26 16:00:00",
          "2021-01-26 17:00:00",
          "2021-01-26 18:00:00",
          "2021-01-26 19:00:00",
          "2021-01-26 20:00:00",
          "2021-01-27 07:00:00",
          "2021-01-27 08:00:00",
          "2021-01-27 09:00:00",
          "2021-01-27 10:00:00",
          "2021-01-27 11:00:00",
          "2021-01-27 12:00:00",
          "2021-01-27 13:00:00",
          "2021-01-27 14:00:00",
          "2021-01-27 15:00:00",
          "2021-01-27 16:00:00",
          "2021-01-27 17:00:00",
          "2021-01-27 18:00:00",
          "2021-01-27 19:00:00",
          "2021-01-27 20:00:00",
          "2021-01-28 07:00:00",
          "2021-01-28 08:00:00",
          "2021-01-28 09:00:00",
          "2021-01-28 10:00:00",
          "2021-01-28 11:00:00",
          "2021-01-28 12:00:00",
          "2021-01-28 13:00:00",
          "2021-01-28 14:00:00",
          "2021-01-28 15:00:00",
          "2021-01-28 16:00:00",
          "2021-01-28 17:00:00",
          "2021-01-28 18:00:00",
          "2021-01-28 19:00:00",
          "2021-01-28 20:00:00",
          "2021-01-29 07:00:00",
          "2021-01-29 08:00:00",
          "2021-01-29 09:00:00",
          "2021-01-29 10:00:00",
          "2021-01-29 11:00:00",
          "2021-01-29 12:00:00",
          "2021-01-29 13:00:00",
          "2021-01-29 14:00:00",
          "2021-01-29 15:00:00",
          "2021-01-29 16:00:00",
          "2021-01-29 17:00:00",
          "2021-01-29 18:00:00",
          "2021-01-29 19:00:00",
          "2021-01-29 20:00:00",
          "2021-01-30 07:00:00",
          "2021-01-30 08:00:00",
          "2021-01-30 09:00:00",
          "2021-01-30 10:00:00",
          "2021-01-30 11:00:00",
          "2021-01-30 12:00:00",
          "2021-01-30 13:00:00",
          "2021-01-30 14:00:00",
          "2021-01-30 15:00:00",
          "2021-01-30 16:00:00",
          "2021-01-30 17:00:00",
          "2021-01-30 18:00:00",
          "2021-01-30 19:00:00",
          "2021-01-30 20:00:00",
          "2021-01-31 07:00:00",
          "2021-01-31 08:00:00",
          "2021-01-31 09:00:00",
          "2021-01-31 10:00:00",
          "2021-01-31 11:00:00",
          "2021-01-31 12:00:00",
          "2021-01-31 13:00:00",
          "2021-01-31 14:00:00",
          "2021-01-31 15:00:00",
          "2021-01-31 16:00:00",
          "2021-01-31 17:00:00",
          "2021-01-31 18:00:00",
          "2021-01-31 19:00:00",
          "2021-01-31 20:00:00",
          "2021-02-01 07:00:00",
          "2021-02-01 08:00:00",
          "2021-02-01 09:00:00",
          "2021-02-01 10:00:00",
          "2021-02-01 11:00:00",
          "2021-02-01 12:00:00",
          "2021-02-01 13:00:00",
          "2021-02-01 14:00:00",
          "2021-02-01 15:00:00",
          "2021-02-01 16:00:00",
          "2021-02-01 17:00:00",
          "2021-02-01 18:00:00",
          "2021-02-01 19:00:00",
          "2021-02-01 20:00:00",
          "2021-02-02 07:00:00",
          "2021-02-02 08:00:00",
          "2021-02-02 09:00:00",
          "2021-02-02 10:00:00",
          "2021-02-02 11:00:00",
          "2021-02-02 12:00:00",
          "2021-02-02 13:00:00",
          "2021-02-02 14:00:00",
          "2021-02-02 15:00:00",
          "2021-02-02 16:00:00",
          "2021-02-02 17:00:00",
          "2021-02-02 18:00:00",
          "2021-02-02 19:00:00",
          "2021-02-02 20:00:00",
          "2021-02-03 07:00:00",
          "2021-02-03 08:00:00",
          "2021-02-03 09:00:00",
          "2021-02-03 10:00:00",
          "2021-02-03 11:00:00",
          "2021-02-03 12:00:00",
          "2021-02-03 13:00:00",
          "2021-02-03 14:00:00",
          "2021-02-03 15:00:00",
          "2021-02-03 16:00:00",
          "2021-02-03 17:00:00",
          "2021-02-03 18:00:00",
          "2021-02-03 19:00:00",
          "2021-02-03 20:00:00",
          "2021-02-04 07:00:00",
          "2021-02-04 08:00:00",
          "2021-02-04 09:00:00",
          "2021-02-04 10:00:00",
          "2021-02-04 11:00:00",
          "2021-02-04 12:00:00",
          "2021-02-04 13:00:00",
          "2021-02-04 14:00:00",
          "2021-02-04 15:00:00",
          "2021-02-04 16:00:00",
          "2021-02-04 17:00:00",
          "2021-02-04 18:00:00",
          "2021-02-04 19:00:00",
          "2021-02-04 20:00:00",
          "2021-02-05 07:00:00",
          "2021-02-05 08:00:00",
          "2021-02-05 09:00:00",
          "2021-02-05 10:00:00",
          "2021-02-05 11:00:00",
          "2021-02-05 12:00:00",
          "2021-02-05 13:00:00",
          "2021-02-05 14:00:00",
          "2021-02-05 15:00:00",
          "2021-02-05 16:00:00",
          "2021-02-05 17:00:00",
          "2021-02-05 18:00:00",
          "2021-02-05 19:00:00",
          "2021-02-05 20:00:00",
          "2021-02-06 07:00:00",
          "2021-02-06 08:00:00",
          "2021-02-06 09:00:00",
          "2021-02-06 10:00:00",
          "2021-02-06 11:00:00",
          "2021-02-06 12:00:00",
          "2021-02-06 13:00:00",
          "2021-02-06 14:00:00",
          "2021-02-06 15:00:00",
          "2021-02-06 16:00:00",
          "2021-02-06 17:00:00",
          "2021-02-06 18:00:00",
          "2021-02-06 19:00:00",
          "2021-02-06 20:00:00",
          "2021-02-07 07:00:00",
          "2021-02-07 08:00:00",
          "2021-02-07 09:00:00",
          "2021-02-07 10:00:00",
          "2021-02-07 11:00:00",
          "2021-02-07 12:00:00",
          "2021-02-07 13:00:00",
          "2021-02-07 14:00:00",
          "2021-02-07 15:00:00",
          "2021-02-07 16:00:00",
          "2021-02-07 17:00:00",
          "2021-02-07 18:00:00",
          "2021-02-07 19:00:00",
          "2021-02-07 20:00:00",
          "2021-02-08 07:00:00",
          "2021-02-08 08:00:00",
          "2021-02-08 09:00:00",
          "2021-02-08 10:00:00",
          "2021-02-08 11:00:00",
          "2021-02-08 12:00:00",
          "2021-02-08 13:00:00",
          "2021-02-08 14:00:00",
          "2021-02-08 15:00:00",
          "2021-02-08 16:00:00",
          "2021-02-08 17:00:00",
          "2021-02-08 18:00:00",
          "2021-02-08 19:00:00",
          "2021-02-08 20:00:00",
          "2021-02-09 07:00:00",
          "2021-02-09 08:00:00",
          "2021-02-09 09:00:00",
          "2021-02-09 10:00:00",
          "2021-02-09 11:00:00",
          "2021-02-09 12:00:00",
          "2021-02-09 13:00:00",
          "2021-02-09 14:00:00",
          "2021-02-09 15:00:00",
          "2021-02-09 16:00:00",
          "2021-02-09 17:00:00",
          "2021-02-09 18:00:00",
          "2021-02-09 19:00:00",
          "2021-02-09 20:00:00",
          "2021-02-10 07:00:00",
          "2021-02-10 08:00:00",
          "2021-02-10 09:00:00",
          "2021-02-10 10:00:00",
          "2021-02-10 11:00:00",
          "2021-02-10 12:00:00",
          "2021-02-10 13:00:00",
          "2021-02-10 14:00:00",
          "2021-02-10 15:00:00",
          "2021-02-10 16:00:00",
          "2021-02-10 17:00:00",
          "2021-02-10 18:00:00",
          "2021-02-10 19:00:00",
          "2021-02-10 20:00:00",
          "2021-02-11 07:00:00",
          "2021-02-11 08:00:00",
          "2021-02-11 09:00:00",
          "2021-02-11 10:00:00",
          "2021-02-11 11:00:00",
          "2021-02-11 12:00:00",
          "2021-02-11 13:00:00",
          "2021-02-11 14:00:00",
          "2021-02-11 15:00:00",
          "2021-02-11 16:00:00",
          "2021-02-11 17:00:00",
          "2021-02-11 18:00:00",
          "2021-02-11 19:00:00",
          "2021-02-11 20:00:00",
          "2021-02-12 07:00:00",
          "2021-02-12 08:00:00",
          "2021-02-12 09:00:00",
          "2021-02-12 10:00:00",
          "2021-02-12 11:00:00",
          "2021-02-12 12:00:00",
          "2021-02-12 13:00:00",
          "2021-02-12 14:00:00",
          "2021-02-12 15:00:00",
          "2021-02-12 16:00:00",
          "2021-02-12 17:00:00",
          "2021-02-12 18:00:00",
          "2021-02-12 19:00:00",
          "2021-02-12 20:00:00",
          "2021-02-13 07:00:00",
          "2021-02-13 08:00:00",
          "2021-02-13 09:00:00",
          "2021-02-13 10:00:00",
          "2021-02-13 11:00:00",
          "2021-02-13 12:00:00",
          "2021-02-13 13:00:00",
          "2021-02-13 14:00:00",
          "2021-02-13 15:00:00",
          "2021-02-13 16:00:00",
          "2021-02-13 17:00:00",
          "2021-02-13 18:00:00",
          "2021-02-13 19:00:00",
          "2021-02-13 20:00:00"
         ],
         "y": [
          94265.1171875,
          94265.1171875,
          94265.1171875,
          94265.1171875,
          145344.125,
          202210.296875,
          250272.75,
          262989.15625,
          282154.375,
          256574.484375,
          219071.03125,
          176550.546875,
          140206.375,
          94265.1171875,
          94265.1171875,
          94265.1171875,
          94265.1171875,
          94265.1171875,
          124091.96875,
          178378.78125,
          208481.65625,
          232318.734375,
          263882.125,
          258818.609375,
          226906.765625,
          188090.875,
          149729.34375,
          94265.1171875,
          94265.1171875,
          94265.1171875,
          94265.1171875,
          94265.1171875,
          145623.109375,
          216857.71875,
          258064.4375,
          293293.875,
          317968.9375,
          306236.59375,
          288410.3125,
          258612.703125,
          198286.203125,
          95287.9765625,
          94265.1171875,
          94265.1171875,
          94265.1171875,
          94265.1171875,
          138986.03125,
          198990.84375,
          237152.109375,
          263516.15625,
          276963.8125,
          266905.25,
          250482.546875,
          219907.421875,
          172037.828125,
          94265.1171875,
          94265.1171875,
          94265.1171875,
          94265.1171875,
          94265.1171875,
          138134.109375,
          195905.34375,
          240812.328125,
          286701.125,
          287395.78125,
          263553.9375,
          257068.90625,
          223652.21875,
          160431.09375,
          94265.1171875,
          94265.1171875,
          94265.1171875,
          94265.1171875,
          94265.1171875,
          113586.3515625,
          190647.109375,
          237713.0625,
          276122.375,
          276321.125,
          287167.375,
          276225.15625,
          251048.453125,
          173696.34375,
          94265.1171875,
          94265.1171875,
          94265.1171875,
          94265.1171875,
          94265.1171875,
          134123.03125,
          212766.171875,
          274722,
          306651.59375,
          292439.15625,
          286251.53125,
          256723.671875,
          217279.234375,
          157163.0625,
          94265.1171875,
          94265.1171875,
          94265.1171875,
          94265.1171875,
          94265.1171875,
          169850.859375,
          242196.09375,
          287810.40625,
          312528.1875,
          311137.4375,
          302087.6875,
          261355.359375,
          218120.4375,
          148450.515625,
          94265.1171875,
          94265.1171875,
          94265.1171875,
          94265.1171875,
          94265.1171875,
          158384.453125,
          238398.15625,
          290777.21875,
          308132.5,
          308925.84375,
          287029.40625,
          260966.59375,
          227391.375,
          165844.453125,
          94265.1171875,
          94265.1171875,
          94265.1171875,
          94265.1171875,
          115225.0234375,
          178666.921875,
          240230.296875,
          279771.625,
          293283.78125,
          292416.375,
          272327.21875,
          251672.3125,
          206558.0625,
          152052.34375,
          94265.1171875,
          94265.1171875,
          94265.1171875,
          94265.1171875,
          94265.1171875,
          137100.75,
          197083.546875,
          241873.578125,
          270875.34375,
          275321.65625,
          257107.484375,
          241511.515625,
          211294.15625,
          148526.0625,
          94265.1171875,
          94265.1171875,
          94265.1171875,
          94265.1171875,
          94265.1171875,
          137059.890625,
          193413.25,
          236206.03125,
          260732.34375,
          275000.40625,
          263498.125,
          239705.859375,
          192662.65625,
          142813.171875,
          94265.1171875,
          94265.1171875,
          94265.1171875,
          94265.1171875,
          96304.234375,
          160465.78125,
          214587.953125,
          244675.15625,
          267533.09375,
          292180.96875,
          279097.53125,
          262169.46875,
          220373.140625,
          162320.265625,
          94265.1171875,
          94265.1171875,
          94265.1171875,
          94265.1171875,
          94265.1171875,
          129699.4375,
          191281.71875,
          235964.953125,
          273052.5625,
          283037.125,
          286125.84375,
          287099.84375,
          259705.640625,
          193145.265625,
          102922.1171875,
          94265.1171875,
          94265.1171875,
          94265.1171875,
          94265.1171875,
          135083,
          194174.75,
          236064.78125,
          280803.9375,
          279113.03125,
          280636.09375,
          265386.71875,
          228693.578125,
          165517.5,
          94265.1171875,
          94265.1171875,
          94265.1171875,
          94265.1171875,
          94265.1171875,
          116976.453125,
          183577.53125,
          225814.34375,
          278472,
          300745.5,
          306323.9375,
          282871.875,
          245243.921875,
          181507.59375,
          94265.1171875,
          94265.1171875,
          94265.1171875,
          94265.1171875,
          94265.1171875,
          119039.7265625,
          187232.375,
          225578.3125,
          268649.03125,
          294904.1875,
          308462.96875,
          291943.15625,
          258494.328125,
          186860.90625,
          94265.1171875,
          94265.1171875,
          94265.1171875,
          94265.1171875,
          94265.1171875,
          163190.21875,
          229435.25,
          268402.96875,
          291129.34375,
          301653.21875,
          296772.28125,
          273379.5625,
          244366.859375,
          177107.265625,
          94265.1171875,
          94265.1171875,
          94265.1171875,
          94265.1171875,
          94265.1171875,
          143696.296875,
          211154.3125,
          253701.625,
          287271.40625,
          292410.125,
          282755.375,
          280743.84375,
          251529.65625,
          177649.484375,
          94265.1171875,
          94265.1171875,
          94265.1171875,
          94265.1171875,
          94265.1171875,
          128926.015625,
          196950.59375,
          237183,
          271500.625,
          273400.3125,
          288960.59375,
          298279.3125,
          269278.875,
          188405.328125,
          94265.1171875,
          94265.1171875,
          94265.1171875,
          94265.1171875,
          94265.1171875,
          139807.5,
          211546.921875,
          267351.4375,
          299608.25,
          308732.375,
          307993.84375,
          290816.59375,
          253637.28125,
          184930.875,
          94265.1171875,
          94265.1171875,
          94265.1171875,
          94265.1171875,
          94265.1171875,
          160817.671875,
          225109.8125,
          269709.6875,
          300995.03125,
          315906.53125,
          307019.6875,
          287169.125,
          254053.625,
          195902.421875,
          115031.671875,
          94265.1171875,
          94265.1171875,
          94265.1171875,
          123107.8515625,
          199597.765625,
          251501.09375,
          285039.96875,
          310773.15625,
          313845.6875,
          304441.0625,
          283128.125,
          252373.828125,
          194448.578125,
          99009.7578125,
          94265.1171875,
          94265.1171875,
          94265.1171875,
          117324.34375,
          179060.703125,
          242304.5625,
          287731.40625,
          321438.375,
          333519.09375,
          337338.21875,
          321434.0625,
          287954.21875,
          211935.28125,
          98054.3203125,
          94265.1171875,
          94265.1171875,
          94265.1171875,
          101790.796875,
          159800.40625,
          235458.03125,
          285225.78125,
          322786.375,
          327480.0625,
          321260.03125,
          299491.46875,
          273417.3125,
          206807.265625,
          117385.0078125,
          94265.1171875,
          94265.1171875,
          94265.1171875,
          94265.1171875,
          157898.78125,
          219523.8125,
          250510.328125,
          274635.28125,
          283087.53125,
          286619.15625,
          271704.375,
          235217.34375,
          172802,
          94265.1171875,
          94265.1171875,
          94265.1171875,
          94265.1171875,
          94265.1171875,
          158251.515625,
          228139.078125,
          274822.96875,
          310731.6875,
          328388.9375,
          327484.78125,
          306633.71875,
          268552,
          190284.78125,
          94265.1171875,
          94265.1171875,
          94265.1171875,
          94265.1171875,
          94265.1171875,
          144419.046875,
          208855.9375,
          248793.484375,
          261262.0625,
          277520.875,
          284197.125,
          280948.96875,
          235251.765625,
          160015.015625,
          94265.1171875,
          94265.1171875,
          94265.1171875,
          94265.1171875,
          94265.1171875,
          122097.7734375,
          172929.328125,
          207306.0625,
          228526.75,
          249418.375,
          245298.453125,
          236821.96875,
          198877.03125,
          127074.015625,
          94265.1171875,
          94265.1171875,
          94265.1171875,
          94265.1171875,
          94265.1171875,
          94265.1171875,
          108139.3828125,
          124211.1328125,
          140946.140625,
          154489.6875,
          172079.0625,
          172209.265625,
          149547.84375,
          98228.84375,
          94265.1171875,
          94265.1171875,
          94265.1171875,
          94265.1171875,
          94265.1171875,
          108491.9375,
          159996.109375,
          191360.5625,
          222950.390625,
          235137.75,
          232118.78125,
          231214.140625,
          185098.78125,
          125510.53125,
          94265.1171875,
          94265.1171875,
          94265.1171875,
          94265.1171875,
          94265.1171875,
          125506.03125,
          165959.609375,
          202885.28125,
          220055.03125,
          250508.578125,
          232959.40625,
          221078.96875,
          172016.515625,
          121612.765625,
          94265.1171875,
          94265.1171875,
          94265.1171875,
          94265.1171875,
          94265.1171875,
          144940,
          183964.515625,
          208792.046875,
          232915.859375,
          258151.296875,
          255783.1875,
          254762.9375,
          220048.65625,
          163798.859375,
          97661.1171875,
          94265.1171875,
          94265.1171875,
          94265.1171875,
          94265.1171875,
          131969.140625,
          195774.359375,
          207604.234375,
          223231.1875,
          221420.328125,
          234202.78125,
          234651.0625,
          219453.53125,
          167232.34375,
          103603.7265625,
          94265.1171875,
          94265.1171875,
          94265.1171875,
          94265.1171875,
          126048.828125,
          184958.671875,
          195935.578125,
          223363.53125,
          224519.4375,
          239727.921875,
          236697.078125,
          234782.4375,
          176830.734375,
          100933.875,
          94265.1171875,
          94265.1171875,
          94265.1171875,
          94265.1171875,
          154417.953125,
          215913.953125,
          251278.09375,
          271857.03125,
          283038.65625,
          281305.6875,
          271678.40625,
          256150.6875,
          194305.328125,
          111703.25
         ]
        }
       ],
       "layout": {
        "template": {
         "data": {
          "bar": [
           {
            "error_x": {
             "color": "#2a3f5f"
            },
            "error_y": {
             "color": "#2a3f5f"
            },
            "marker": {
             "line": {
              "color": "#E5ECF6",
              "width": 0.5
             }
            },
            "type": "bar"
           }
          ],
          "barpolar": [
           {
            "marker": {
             "line": {
              "color": "#E5ECF6",
              "width": 0.5
             }
            },
            "type": "barpolar"
           }
          ],
          "carpet": [
           {
            "aaxis": {
             "endlinecolor": "#2a3f5f",
             "gridcolor": "white",
             "linecolor": "white",
             "minorgridcolor": "white",
             "startlinecolor": "#2a3f5f"
            },
            "baxis": {
             "endlinecolor": "#2a3f5f",
             "gridcolor": "white",
             "linecolor": "white",
             "minorgridcolor": "white",
             "startlinecolor": "#2a3f5f"
            },
            "type": "carpet"
           }
          ],
          "choropleth": [
           {
            "colorbar": {
             "outlinewidth": 0,
             "ticks": ""
            },
            "type": "choropleth"
           }
          ],
          "contour": [
           {
            "colorbar": {
             "outlinewidth": 0,
             "ticks": ""
            },
            "colorscale": [
             [
              0,
              "#0d0887"
             ],
             [
              0.1111111111111111,
              "#46039f"
             ],
             [
              0.2222222222222222,
              "#7201a8"
             ],
             [
              0.3333333333333333,
              "#9c179e"
             ],
             [
              0.4444444444444444,
              "#bd3786"
             ],
             [
              0.5555555555555556,
              "#d8576b"
             ],
             [
              0.6666666666666666,
              "#ed7953"
             ],
             [
              0.7777777777777778,
              "#fb9f3a"
             ],
             [
              0.8888888888888888,
              "#fdca26"
             ],
             [
              1,
              "#f0f921"
             ]
            ],
            "type": "contour"
           }
          ],
          "contourcarpet": [
           {
            "colorbar": {
             "outlinewidth": 0,
             "ticks": ""
            },
            "type": "contourcarpet"
           }
          ],
          "heatmap": [
           {
            "colorbar": {
             "outlinewidth": 0,
             "ticks": ""
            },
            "colorscale": [
             [
              0,
              "#0d0887"
             ],
             [
              0.1111111111111111,
              "#46039f"
             ],
             [
              0.2222222222222222,
              "#7201a8"
             ],
             [
              0.3333333333333333,
              "#9c179e"
             ],
             [
              0.4444444444444444,
              "#bd3786"
             ],
             [
              0.5555555555555556,
              "#d8576b"
             ],
             [
              0.6666666666666666,
              "#ed7953"
             ],
             [
              0.7777777777777778,
              "#fb9f3a"
             ],
             [
              0.8888888888888888,
              "#fdca26"
             ],
             [
              1,
              "#f0f921"
             ]
            ],
            "type": "heatmap"
           }
          ],
          "heatmapgl": [
           {
            "colorbar": {
             "outlinewidth": 0,
             "ticks": ""
            },
            "colorscale": [
             [
              0,
              "#0d0887"
             ],
             [
              0.1111111111111111,
              "#46039f"
             ],
             [
              0.2222222222222222,
              "#7201a8"
             ],
             [
              0.3333333333333333,
              "#9c179e"
             ],
             [
              0.4444444444444444,
              "#bd3786"
             ],
             [
              0.5555555555555556,
              "#d8576b"
             ],
             [
              0.6666666666666666,
              "#ed7953"
             ],
             [
              0.7777777777777778,
              "#fb9f3a"
             ],
             [
              0.8888888888888888,
              "#fdca26"
             ],
             [
              1,
              "#f0f921"
             ]
            ],
            "type": "heatmapgl"
           }
          ],
          "histogram": [
           {
            "marker": {
             "colorbar": {
              "outlinewidth": 0,
              "ticks": ""
             }
            },
            "type": "histogram"
           }
          ],
          "histogram2d": [
           {
            "colorbar": {
             "outlinewidth": 0,
             "ticks": ""
            },
            "colorscale": [
             [
              0,
              "#0d0887"
             ],
             [
              0.1111111111111111,
              "#46039f"
             ],
             [
              0.2222222222222222,
              "#7201a8"
             ],
             [
              0.3333333333333333,
              "#9c179e"
             ],
             [
              0.4444444444444444,
              "#bd3786"
             ],
             [
              0.5555555555555556,
              "#d8576b"
             ],
             [
              0.6666666666666666,
              "#ed7953"
             ],
             [
              0.7777777777777778,
              "#fb9f3a"
             ],
             [
              0.8888888888888888,
              "#fdca26"
             ],
             [
              1,
              "#f0f921"
             ]
            ],
            "type": "histogram2d"
           }
          ],
          "histogram2dcontour": [
           {
            "colorbar": {
             "outlinewidth": 0,
             "ticks": ""
            },
            "colorscale": [
             [
              0,
              "#0d0887"
             ],
             [
              0.1111111111111111,
              "#46039f"
             ],
             [
              0.2222222222222222,
              "#7201a8"
             ],
             [
              0.3333333333333333,
              "#9c179e"
             ],
             [
              0.4444444444444444,
              "#bd3786"
             ],
             [
              0.5555555555555556,
              "#d8576b"
             ],
             [
              0.6666666666666666,
              "#ed7953"
             ],
             [
              0.7777777777777778,
              "#fb9f3a"
             ],
             [
              0.8888888888888888,
              "#fdca26"
             ],
             [
              1,
              "#f0f921"
             ]
            ],
            "type": "histogram2dcontour"
           }
          ],
          "mesh3d": [
           {
            "colorbar": {
             "outlinewidth": 0,
             "ticks": ""
            },
            "type": "mesh3d"
           }
          ],
          "parcoords": [
           {
            "line": {
             "colorbar": {
              "outlinewidth": 0,
              "ticks": ""
             }
            },
            "type": "parcoords"
           }
          ],
          "pie": [
           {
            "automargin": true,
            "type": "pie"
           }
          ],
          "scatter": [
           {
            "marker": {
             "colorbar": {
              "outlinewidth": 0,
              "ticks": ""
             }
            },
            "type": "scatter"
           }
          ],
          "scatter3d": [
           {
            "line": {
             "colorbar": {
              "outlinewidth": 0,
              "ticks": ""
             }
            },
            "marker": {
             "colorbar": {
              "outlinewidth": 0,
              "ticks": ""
             }
            },
            "type": "scatter3d"
           }
          ],
          "scattercarpet": [
           {
            "marker": {
             "colorbar": {
              "outlinewidth": 0,
              "ticks": ""
             }
            },
            "type": "scattercarpet"
           }
          ],
          "scattergeo": [
           {
            "marker": {
             "colorbar": {
              "outlinewidth": 0,
              "ticks": ""
             }
            },
            "type": "scattergeo"
           }
          ],
          "scattergl": [
           {
            "marker": {
             "colorbar": {
              "outlinewidth": 0,
              "ticks": ""
             }
            },
            "type": "scattergl"
           }
          ],
          "scattermapbox": [
           {
            "marker": {
             "colorbar": {
              "outlinewidth": 0,
              "ticks": ""
             }
            },
            "type": "scattermapbox"
           }
          ],
          "scatterpolar": [
           {
            "marker": {
             "colorbar": {
              "outlinewidth": 0,
              "ticks": ""
             }
            },
            "type": "scatterpolar"
           }
          ],
          "scatterpolargl": [
           {
            "marker": {
             "colorbar": {
              "outlinewidth": 0,
              "ticks": ""
             }
            },
            "type": "scatterpolargl"
           }
          ],
          "scatterternary": [
           {
            "marker": {
             "colorbar": {
              "outlinewidth": 0,
              "ticks": ""
             }
            },
            "type": "scatterternary"
           }
          ],
          "surface": [
           {
            "colorbar": {
             "outlinewidth": 0,
             "ticks": ""
            },
            "colorscale": [
             [
              0,
              "#0d0887"
             ],
             [
              0.1111111111111111,
              "#46039f"
             ],
             [
              0.2222222222222222,
              "#7201a8"
             ],
             [
              0.3333333333333333,
              "#9c179e"
             ],
             [
              0.4444444444444444,
              "#bd3786"
             ],
             [
              0.5555555555555556,
              "#d8576b"
             ],
             [
              0.6666666666666666,
              "#ed7953"
             ],
             [
              0.7777777777777778,
              "#fb9f3a"
             ],
             [
              0.8888888888888888,
              "#fdca26"
             ],
             [
              1,
              "#f0f921"
             ]
            ],
            "type": "surface"
           }
          ],
          "table": [
           {
            "cells": {
             "fill": {
              "color": "#EBF0F8"
             },
             "line": {
              "color": "white"
             }
            },
            "header": {
             "fill": {
              "color": "#C8D4E3"
             },
             "line": {
              "color": "white"
             }
            },
            "type": "table"
           }
          ]
         },
         "layout": {
          "annotationdefaults": {
           "arrowcolor": "#2a3f5f",
           "arrowhead": 0,
           "arrowwidth": 1
          },
          "autotypenumbers": "strict",
          "coloraxis": {
           "colorbar": {
            "outlinewidth": 0,
            "ticks": ""
           }
          },
          "colorscale": {
           "diverging": [
            [
             0,
             "#8e0152"
            ],
            [
             0.1,
             "#c51b7d"
            ],
            [
             0.2,
             "#de77ae"
            ],
            [
             0.3,
             "#f1b6da"
            ],
            [
             0.4,
             "#fde0ef"
            ],
            [
             0.5,
             "#f7f7f7"
            ],
            [
             0.6,
             "#e6f5d0"
            ],
            [
             0.7,
             "#b8e186"
            ],
            [
             0.8,
             "#7fbc41"
            ],
            [
             0.9,
             "#4d9221"
            ],
            [
             1,
             "#276419"
            ]
           ],
           "sequential": [
            [
             0,
             "#0d0887"
            ],
            [
             0.1111111111111111,
             "#46039f"
            ],
            [
             0.2222222222222222,
             "#7201a8"
            ],
            [
             0.3333333333333333,
             "#9c179e"
            ],
            [
             0.4444444444444444,
             "#bd3786"
            ],
            [
             0.5555555555555556,
             "#d8576b"
            ],
            [
             0.6666666666666666,
             "#ed7953"
            ],
            [
             0.7777777777777778,
             "#fb9f3a"
            ],
            [
             0.8888888888888888,
             "#fdca26"
            ],
            [
             1,
             "#f0f921"
            ]
           ],
           "sequentialminus": [
            [
             0,
             "#0d0887"
            ],
            [
             0.1111111111111111,
             "#46039f"
            ],
            [
             0.2222222222222222,
             "#7201a8"
            ],
            [
             0.3333333333333333,
             "#9c179e"
            ],
            [
             0.4444444444444444,
             "#bd3786"
            ],
            [
             0.5555555555555556,
             "#d8576b"
            ],
            [
             0.6666666666666666,
             "#ed7953"
            ],
            [
             0.7777777777777778,
             "#fb9f3a"
            ],
            [
             0.8888888888888888,
             "#fdca26"
            ],
            [
             1,
             "#f0f921"
            ]
           ]
          },
          "colorway": [
           "#636efa",
           "#EF553B",
           "#00cc96",
           "#ab63fa",
           "#FFA15A",
           "#19d3f3",
           "#FF6692",
           "#B6E880",
           "#FF97FF",
           "#FECB52"
          ],
          "font": {
           "color": "#2a3f5f"
          },
          "geo": {
           "bgcolor": "white",
           "lakecolor": "white",
           "landcolor": "#E5ECF6",
           "showlakes": true,
           "showland": true,
           "subunitcolor": "white"
          },
          "hoverlabel": {
           "align": "left"
          },
          "hovermode": "closest",
          "mapbox": {
           "style": "light"
          },
          "paper_bgcolor": "white",
          "plot_bgcolor": "#E5ECF6",
          "polar": {
           "angularaxis": {
            "gridcolor": "white",
            "linecolor": "white",
            "ticks": ""
           },
           "bgcolor": "#E5ECF6",
           "radialaxis": {
            "gridcolor": "white",
            "linecolor": "white",
            "ticks": ""
           }
          },
          "scene": {
           "xaxis": {
            "backgroundcolor": "#E5ECF6",
            "gridcolor": "white",
            "gridwidth": 2,
            "linecolor": "white",
            "showbackground": true,
            "ticks": "",
            "zerolinecolor": "white"
           },
           "yaxis": {
            "backgroundcolor": "#E5ECF6",
            "gridcolor": "white",
            "gridwidth": 2,
            "linecolor": "white",
            "showbackground": true,
            "ticks": "",
            "zerolinecolor": "white"
           },
           "zaxis": {
            "backgroundcolor": "#E5ECF6",
            "gridcolor": "white",
            "gridwidth": 2,
            "linecolor": "white",
            "showbackground": true,
            "ticks": "",
            "zerolinecolor": "white"
           }
          },
          "shapedefaults": {
           "line": {
            "color": "#2a3f5f"
           }
          },
          "ternary": {
           "aaxis": {
            "gridcolor": "white",
            "linecolor": "white",
            "ticks": ""
           },
           "baxis": {
            "gridcolor": "white",
            "linecolor": "white",
            "ticks": ""
           },
           "bgcolor": "#E5ECF6",
           "caxis": {
            "gridcolor": "white",
            "linecolor": "white",
            "ticks": ""
           }
          },
          "title": {
           "x": 0.05
          },
          "xaxis": {
           "automargin": true,
           "gridcolor": "white",
           "linecolor": "white",
           "ticks": "",
           "title": {
            "standoff": 15
           },
           "zerolinecolor": "white",
           "zerolinewidth": 2
          },
          "yaxis": {
           "automargin": true,
           "gridcolor": "white",
           "linecolor": "white",
           "ticks": "",
           "title": {
            "standoff": 15
           },
           "zerolinecolor": "white",
           "zerolinewidth": 2
          }
         }
        }
       }
      },
      "text/html": [
       "<div>                            <div id=\"2cd778e7-6c55-415a-b0dc-141f660ebcd7\" class=\"plotly-graph-div\" style=\"height:525px; width:100%;\"></div>            <script type=\"text/javascript\">                require([\"plotly\"], function(Plotly) {                    window.PLOTLYENV=window.PLOTLYENV || {};                                    if (document.getElementById(\"2cd778e7-6c55-415a-b0dc-141f660ebcd7\")) {                    Plotly.newPlot(                        \"2cd778e7-6c55-415a-b0dc-141f660ebcd7\",                        [{\"name\": \"actual\", \"type\": \"scatter\", \"x\": [\"2021-01-09 07:00:00\", \"2021-01-09 08:00:00\", \"2021-01-09 09:00:00\", \"2021-01-09 10:00:00\", \"2021-01-09 11:00:00\", \"2021-01-09 12:00:00\", \"2021-01-09 13:00:00\", \"2021-01-09 14:00:00\", \"2021-01-09 15:00:00\", \"2021-01-09 16:00:00\", \"2021-01-09 17:00:00\", \"2021-01-09 18:00:00\", \"2021-01-09 19:00:00\", \"2021-01-09 20:00:00\", \"2021-01-10 07:00:00\", \"2021-01-10 08:00:00\", \"2021-01-10 09:00:00\", \"2021-01-10 10:00:00\", \"2021-01-10 11:00:00\", \"2021-01-10 12:00:00\", \"2021-01-10 13:00:00\", \"2021-01-10 14:00:00\", \"2021-01-10 15:00:00\", \"2021-01-10 16:00:00\", \"2021-01-10 17:00:00\", \"2021-01-10 18:00:00\", \"2021-01-10 19:00:00\", \"2021-01-10 20:00:00\", \"2021-01-11 07:00:00\", \"2021-01-11 08:00:00\", \"2021-01-11 09:00:00\", \"2021-01-11 10:00:00\", \"2021-01-11 11:00:00\", \"2021-01-11 12:00:00\", \"2021-01-11 13:00:00\", \"2021-01-11 14:00:00\", \"2021-01-11 15:00:00\", \"2021-01-11 16:00:00\", \"2021-01-11 17:00:00\", \"2021-01-11 18:00:00\", \"2021-01-11 19:00:00\", \"2021-01-11 20:00:00\", \"2021-01-12 07:00:00\", \"2021-01-12 08:00:00\", \"2021-01-12 09:00:00\", \"2021-01-12 10:00:00\", \"2021-01-12 11:00:00\", \"2021-01-12 12:00:00\", \"2021-01-12 13:00:00\", \"2021-01-12 14:00:00\", \"2021-01-12 15:00:00\", \"2021-01-12 16:00:00\", \"2021-01-12 17:00:00\", \"2021-01-12 18:00:00\", \"2021-01-12 19:00:00\", \"2021-01-12 20:00:00\", \"2021-01-13 07:00:00\", \"2021-01-13 08:00:00\", \"2021-01-13 09:00:00\", \"2021-01-13 10:00:00\", \"2021-01-13 11:00:00\", \"2021-01-13 12:00:00\", \"2021-01-13 13:00:00\", \"2021-01-13 14:00:00\", \"2021-01-13 15:00:00\", \"2021-01-13 16:00:00\", \"2021-01-13 17:00:00\", \"2021-01-13 18:00:00\", \"2021-01-13 19:00:00\", \"2021-01-13 20:00:00\", \"2021-01-14 07:00:00\", \"2021-01-14 08:00:00\", \"2021-01-14 09:00:00\", \"2021-01-14 10:00:00\", \"2021-01-14 11:00:00\", \"2021-01-14 12:00:00\", \"2021-01-14 13:00:00\", \"2021-01-14 14:00:00\", \"2021-01-14 15:00:00\", \"2021-01-14 16:00:00\", \"2021-01-14 17:00:00\", \"2021-01-14 18:00:00\", \"2021-01-14 19:00:00\", \"2021-01-14 20:00:00\", \"2021-01-15 07:00:00\", \"2021-01-15 08:00:00\", \"2021-01-15 09:00:00\", \"2021-01-15 10:00:00\", \"2021-01-15 11:00:00\", \"2021-01-15 12:00:00\", \"2021-01-15 13:00:00\", \"2021-01-15 14:00:00\", \"2021-01-15 15:00:00\", \"2021-01-15 16:00:00\", \"2021-01-15 17:00:00\", \"2021-01-15 18:00:00\", \"2021-01-15 19:00:00\", \"2021-01-15 20:00:00\", \"2021-01-16 07:00:00\", \"2021-01-16 08:00:00\", \"2021-01-16 09:00:00\", \"2021-01-16 10:00:00\", \"2021-01-16 11:00:00\", \"2021-01-16 12:00:00\", \"2021-01-16 13:00:00\", \"2021-01-16 14:00:00\", \"2021-01-16 15:00:00\", \"2021-01-16 16:00:00\", \"2021-01-16 17:00:00\", \"2021-01-16 18:00:00\", \"2021-01-16 19:00:00\", \"2021-01-16 20:00:00\", \"2021-01-17 07:00:00\", \"2021-01-17 08:00:00\", \"2021-01-17 09:00:00\", \"2021-01-17 10:00:00\", \"2021-01-17 11:00:00\", \"2021-01-17 12:00:00\", \"2021-01-17 13:00:00\", \"2021-01-17 14:00:00\", \"2021-01-17 15:00:00\", \"2021-01-17 16:00:00\", \"2021-01-17 17:00:00\", \"2021-01-17 18:00:00\", \"2021-01-17 19:00:00\", \"2021-01-17 20:00:00\", \"2021-01-18 07:00:00\", \"2021-01-18 08:00:00\", \"2021-01-18 09:00:00\", \"2021-01-18 10:00:00\", \"2021-01-18 11:00:00\", \"2021-01-18 12:00:00\", \"2021-01-18 13:00:00\", \"2021-01-18 14:00:00\", \"2021-01-18 15:00:00\", \"2021-01-18 16:00:00\", \"2021-01-18 17:00:00\", \"2021-01-18 18:00:00\", \"2021-01-18 19:00:00\", \"2021-01-18 20:00:00\", \"2021-01-19 07:00:00\", \"2021-01-19 08:00:00\", \"2021-01-19 09:00:00\", \"2021-01-19 10:00:00\", \"2021-01-19 11:00:00\", \"2021-01-19 12:00:00\", \"2021-01-19 13:00:00\", \"2021-01-19 14:00:00\", \"2021-01-19 15:00:00\", \"2021-01-19 16:00:00\", \"2021-01-19 17:00:00\", \"2021-01-19 18:00:00\", \"2021-01-19 19:00:00\", \"2021-01-19 20:00:00\", \"2021-01-20 07:00:00\", \"2021-01-20 08:00:00\", \"2021-01-20 09:00:00\", \"2021-01-20 10:00:00\", \"2021-01-20 11:00:00\", \"2021-01-20 12:00:00\", \"2021-01-20 13:00:00\", \"2021-01-20 14:00:00\", \"2021-01-20 15:00:00\", \"2021-01-20 16:00:00\", \"2021-01-20 17:00:00\", \"2021-01-20 18:00:00\", \"2021-01-20 19:00:00\", \"2021-01-20 20:00:00\", \"2021-01-21 07:00:00\", \"2021-01-21 08:00:00\", \"2021-01-21 09:00:00\", \"2021-01-21 10:00:00\", \"2021-01-21 11:00:00\", \"2021-01-21 12:00:00\", \"2021-01-21 13:00:00\", \"2021-01-21 14:00:00\", \"2021-01-21 15:00:00\", \"2021-01-21 16:00:00\", \"2021-01-21 17:00:00\", \"2021-01-21 18:00:00\", \"2021-01-21 19:00:00\", \"2021-01-21 20:00:00\", \"2021-01-22 07:00:00\", \"2021-01-22 08:00:00\", \"2021-01-22 09:00:00\", \"2021-01-22 10:00:00\", \"2021-01-22 11:00:00\", \"2021-01-22 12:00:00\", \"2021-01-22 13:00:00\", \"2021-01-22 14:00:00\", \"2021-01-22 15:00:00\", \"2021-01-22 16:00:00\", \"2021-01-22 17:00:00\", \"2021-01-22 18:00:00\", \"2021-01-22 19:00:00\", \"2021-01-22 20:00:00\", \"2021-01-23 07:00:00\", \"2021-01-23 08:00:00\", \"2021-01-23 09:00:00\", \"2021-01-23 10:00:00\", \"2021-01-23 11:00:00\", \"2021-01-23 12:00:00\", \"2021-01-23 13:00:00\", \"2021-01-23 14:00:00\", \"2021-01-23 15:00:00\", \"2021-01-23 16:00:00\", \"2021-01-23 17:00:00\", \"2021-01-23 18:00:00\", \"2021-01-23 19:00:00\", \"2021-01-23 20:00:00\", \"2021-01-24 07:00:00\", \"2021-01-24 08:00:00\", \"2021-01-24 09:00:00\", \"2021-01-24 10:00:00\", \"2021-01-24 11:00:00\", \"2021-01-24 12:00:00\", \"2021-01-24 13:00:00\", \"2021-01-24 14:00:00\", \"2021-01-24 15:00:00\", \"2021-01-24 16:00:00\", \"2021-01-24 17:00:00\", \"2021-01-24 18:00:00\", \"2021-01-24 19:00:00\", \"2021-01-24 20:00:00\", \"2021-01-25 07:00:00\", \"2021-01-25 08:00:00\", \"2021-01-25 09:00:00\", \"2021-01-25 10:00:00\", \"2021-01-25 11:00:00\", \"2021-01-25 12:00:00\", \"2021-01-25 13:00:00\", \"2021-01-25 14:00:00\", \"2021-01-25 15:00:00\", \"2021-01-25 16:00:00\", \"2021-01-25 17:00:00\", \"2021-01-25 18:00:00\", \"2021-01-25 19:00:00\", \"2021-01-25 20:00:00\", \"2021-01-26 07:00:00\", \"2021-01-26 08:00:00\", \"2021-01-26 09:00:00\", \"2021-01-26 10:00:00\", \"2021-01-26 11:00:00\", \"2021-01-26 12:00:00\", \"2021-01-26 13:00:00\", \"2021-01-26 14:00:00\", \"2021-01-26 15:00:00\", \"2021-01-26 16:00:00\", \"2021-01-26 17:00:00\", \"2021-01-26 18:00:00\", \"2021-01-26 19:00:00\", \"2021-01-26 20:00:00\", \"2021-01-27 07:00:00\", \"2021-01-27 08:00:00\", \"2021-01-27 09:00:00\", \"2021-01-27 10:00:00\", \"2021-01-27 11:00:00\", \"2021-01-27 12:00:00\", \"2021-01-27 13:00:00\", \"2021-01-27 14:00:00\", \"2021-01-27 15:00:00\", \"2021-01-27 16:00:00\", \"2021-01-27 17:00:00\", \"2021-01-27 18:00:00\", \"2021-01-27 19:00:00\", \"2021-01-27 20:00:00\", \"2021-01-28 07:00:00\", \"2021-01-28 08:00:00\", \"2021-01-28 09:00:00\", \"2021-01-28 10:00:00\", \"2021-01-28 11:00:00\", \"2021-01-28 12:00:00\", \"2021-01-28 13:00:00\", \"2021-01-28 14:00:00\", \"2021-01-28 15:00:00\", \"2021-01-28 16:00:00\", \"2021-01-28 17:00:00\", \"2021-01-28 18:00:00\", \"2021-01-28 19:00:00\", \"2021-01-28 20:00:00\", \"2021-01-29 07:00:00\", \"2021-01-29 08:00:00\", \"2021-01-29 09:00:00\", \"2021-01-29 10:00:00\", \"2021-01-29 11:00:00\", \"2021-01-29 12:00:00\", \"2021-01-29 13:00:00\", \"2021-01-29 14:00:00\", \"2021-01-29 15:00:00\", \"2021-01-29 16:00:00\", \"2021-01-29 17:00:00\", \"2021-01-29 18:00:00\", \"2021-01-29 19:00:00\", \"2021-01-29 20:00:00\", \"2021-01-30 07:00:00\", \"2021-01-30 08:00:00\", \"2021-01-30 09:00:00\", \"2021-01-30 10:00:00\", \"2021-01-30 11:00:00\", \"2021-01-30 12:00:00\", \"2021-01-30 13:00:00\", \"2021-01-30 14:00:00\", \"2021-01-30 15:00:00\", \"2021-01-30 16:00:00\", \"2021-01-30 17:00:00\", \"2021-01-30 18:00:00\", \"2021-01-30 19:00:00\", \"2021-01-30 20:00:00\", \"2021-01-31 07:00:00\", \"2021-01-31 08:00:00\", \"2021-01-31 09:00:00\", \"2021-01-31 10:00:00\", \"2021-01-31 11:00:00\", \"2021-01-31 12:00:00\", \"2021-01-31 13:00:00\", \"2021-01-31 14:00:00\", \"2021-01-31 15:00:00\", \"2021-01-31 16:00:00\", \"2021-01-31 17:00:00\", \"2021-01-31 18:00:00\", \"2021-01-31 19:00:00\", \"2021-01-31 20:00:00\", \"2021-02-01 07:00:00\", \"2021-02-01 08:00:00\", \"2021-02-01 09:00:00\", \"2021-02-01 10:00:00\", \"2021-02-01 11:00:00\", \"2021-02-01 12:00:00\", \"2021-02-01 13:00:00\", \"2021-02-01 14:00:00\", \"2021-02-01 15:00:00\", \"2021-02-01 16:00:00\", \"2021-02-01 17:00:00\", \"2021-02-01 18:00:00\", \"2021-02-01 19:00:00\", \"2021-02-01 20:00:00\", \"2021-02-02 07:00:00\", \"2021-02-02 08:00:00\", \"2021-02-02 09:00:00\", \"2021-02-02 10:00:00\", \"2021-02-02 11:00:00\", \"2021-02-02 12:00:00\", \"2021-02-02 13:00:00\", \"2021-02-02 14:00:00\", \"2021-02-02 15:00:00\", \"2021-02-02 16:00:00\", \"2021-02-02 17:00:00\", \"2021-02-02 18:00:00\", \"2021-02-02 19:00:00\", \"2021-02-02 20:00:00\", \"2021-02-03 07:00:00\", \"2021-02-03 08:00:00\", \"2021-02-03 09:00:00\", \"2021-02-03 10:00:00\", \"2021-02-03 11:00:00\", \"2021-02-03 12:00:00\", \"2021-02-03 13:00:00\", \"2021-02-03 14:00:00\", \"2021-02-03 15:00:00\", \"2021-02-03 16:00:00\", \"2021-02-03 17:00:00\", \"2021-02-03 18:00:00\", \"2021-02-03 19:00:00\", \"2021-02-03 20:00:00\", \"2021-02-04 07:00:00\", \"2021-02-04 08:00:00\", \"2021-02-04 09:00:00\", \"2021-02-04 10:00:00\", \"2021-02-04 11:00:00\", \"2021-02-04 12:00:00\", \"2021-02-04 13:00:00\", \"2021-02-04 14:00:00\", \"2021-02-04 15:00:00\", \"2021-02-04 16:00:00\", \"2021-02-04 17:00:00\", \"2021-02-04 18:00:00\", \"2021-02-04 19:00:00\", \"2021-02-04 20:00:00\", \"2021-02-05 07:00:00\", \"2021-02-05 08:00:00\", \"2021-02-05 09:00:00\", \"2021-02-05 10:00:00\", \"2021-02-05 11:00:00\", \"2021-02-05 12:00:00\", \"2021-02-05 13:00:00\", \"2021-02-05 14:00:00\", \"2021-02-05 15:00:00\", \"2021-02-05 16:00:00\", \"2021-02-05 17:00:00\", \"2021-02-05 18:00:00\", \"2021-02-05 19:00:00\", \"2021-02-05 20:00:00\", \"2021-02-06 07:00:00\", \"2021-02-06 08:00:00\", \"2021-02-06 09:00:00\", \"2021-02-06 10:00:00\", \"2021-02-06 11:00:00\", \"2021-02-06 12:00:00\", \"2021-02-06 13:00:00\", \"2021-02-06 14:00:00\", \"2021-02-06 15:00:00\", \"2021-02-06 16:00:00\", \"2021-02-06 17:00:00\", \"2021-02-06 18:00:00\", \"2021-02-06 19:00:00\", \"2021-02-06 20:00:00\", \"2021-02-07 07:00:00\", \"2021-02-07 08:00:00\", \"2021-02-07 09:00:00\", \"2021-02-07 10:00:00\", \"2021-02-07 11:00:00\", \"2021-02-07 12:00:00\", \"2021-02-07 13:00:00\", \"2021-02-07 14:00:00\", \"2021-02-07 15:00:00\", \"2021-02-07 16:00:00\", \"2021-02-07 17:00:00\", \"2021-02-07 18:00:00\", \"2021-02-07 19:00:00\", \"2021-02-07 20:00:00\", \"2021-02-08 07:00:00\", \"2021-02-08 08:00:00\", \"2021-02-08 09:00:00\", \"2021-02-08 10:00:00\", \"2021-02-08 11:00:00\", \"2021-02-08 12:00:00\", \"2021-02-08 13:00:00\", \"2021-02-08 14:00:00\", \"2021-02-08 15:00:00\", \"2021-02-08 16:00:00\", \"2021-02-08 17:00:00\", \"2021-02-08 18:00:00\", \"2021-02-08 19:00:00\", \"2021-02-08 20:00:00\", \"2021-02-09 07:00:00\", \"2021-02-09 08:00:00\", \"2021-02-09 09:00:00\", \"2021-02-09 10:00:00\", \"2021-02-09 11:00:00\", \"2021-02-09 12:00:00\", \"2021-02-09 13:00:00\", \"2021-02-09 14:00:00\", \"2021-02-09 15:00:00\", \"2021-02-09 16:00:00\", \"2021-02-09 17:00:00\", \"2021-02-09 18:00:00\", \"2021-02-09 19:00:00\", \"2021-02-09 20:00:00\", \"2021-02-10 07:00:00\", \"2021-02-10 08:00:00\", \"2021-02-10 09:00:00\", \"2021-02-10 10:00:00\", \"2021-02-10 11:00:00\", \"2021-02-10 12:00:00\", \"2021-02-10 13:00:00\", \"2021-02-10 14:00:00\", \"2021-02-10 15:00:00\", \"2021-02-10 16:00:00\", \"2021-02-10 17:00:00\", \"2021-02-10 18:00:00\", \"2021-02-10 19:00:00\", \"2021-02-10 20:00:00\", \"2021-02-11 07:00:00\", \"2021-02-11 08:00:00\", \"2021-02-11 09:00:00\", \"2021-02-11 10:00:00\", \"2021-02-11 11:00:00\", \"2021-02-11 12:00:00\", \"2021-02-11 13:00:00\", \"2021-02-11 14:00:00\", \"2021-02-11 15:00:00\", \"2021-02-11 16:00:00\", \"2021-02-11 17:00:00\", \"2021-02-11 18:00:00\", \"2021-02-11 19:00:00\", \"2021-02-11 20:00:00\", \"2021-02-12 07:00:00\", \"2021-02-12 08:00:00\", \"2021-02-12 09:00:00\", \"2021-02-12 10:00:00\", \"2021-02-12 11:00:00\", \"2021-02-12 12:00:00\", \"2021-02-12 13:00:00\", \"2021-02-12 14:00:00\", \"2021-02-12 15:00:00\", \"2021-02-12 16:00:00\", \"2021-02-12 17:00:00\", \"2021-02-12 18:00:00\", \"2021-02-12 19:00:00\", \"2021-02-12 20:00:00\", \"2021-02-13 07:00:00\", \"2021-02-13 08:00:00\", \"2021-02-13 09:00:00\", \"2021-02-13 10:00:00\", \"2021-02-13 11:00:00\", \"2021-02-13 12:00:00\", \"2021-02-13 13:00:00\", \"2021-02-13 14:00:00\", \"2021-02-13 15:00:00\", \"2021-02-13 16:00:00\", \"2021-02-13 17:00:00\", \"2021-02-13 18:00:00\", \"2021-02-13 19:00:00\", \"2021-02-13 20:00:00\"], \"y\": [11.51, 2827.61, 19125.99, 81339.2, 120248.84, 138112.28, 193998.09, 198199.7, 221898.65, 220806.24, 208875.37, 225113.79, 169836.77, 98231.42, 9.68, 1874.08, 18753.49, 58166.42, 108814.06, 168628.08, 213157.56, 237281.68, 203407.61, 221005.12, 246277.37, 266609.58, 208908.97, 117317.0, 6.14, 2161.71, 25827.02, 56276.65, 135925.73, 217747.01, 281071.81, 309890.91, 264609.44, 263013.07, 251036.95, 263345.38, 206894.24, 115868.21, 5.41, 2133.38, 24505.5, 84336.31, 155551.63, 208850.44, 260587.47, 306314.97, 323163.66, 327811.12, 312043.92, 242867.1, 204081.96, 117152.03, 5.4, 1463.26, 19166.5, 83024.11, 121824.55, 188928.27, 242478.05, 278689.23, 291603.07, 293091.68, 281207.75, 245114.66, 170843.89, 95213.46, 5.04, 1624.7, 25464.03, 66761.44, 147238.47, 214825.54, 267461.45, 314078.71, 324505.12, 300878.98, 285004.22, 251804.12, 185653.78, 106537.61, 5.95, 1085.46, 21781.49, 85087.74, 161111.33, 229647.63, 278492.33, 310844.58, 326101.67, 324116.33, 307126.86, 266057.81, 203145.1, 113064.39, 6.32, 1234.13, 20990.97, 80045.86, 160110.44, 184304.71, 218831.28, 246264.23, 254507.88, 253681.91, 245871.79, 262008.84, 204948.76, 114052.4, 8.32, 1145.17, 20418.63, 78977.72, 157607.07, 221537.97, 268994.95, 299374.6, 257426.7, 252306.08, 243547.01, 253676.97, 198314.66, 110071.49, 11.95, 1099.32, 21733.55, 77548.81, 144054.95, 201185.51, 228247.62, 266507.49, 260591.94, 256967.38, 231859.95, 161133.13, 140958.43, 81425.99, 10.15, 909.01, 19396.88, 68189.26, 143424.14, 196671.55, 250164.48, 231712.98, 221961.15, 259044.78, 225629.87, 181908.14, 143796.63, 81011.46, 10.32, 526.64, 16294.28, 72804.6, 129605.73, 208811.57, 267034.98, 301564.33, 311855.91, 313041.44, 283746.31, 244505.58, 189180.14, 102395.52, 9.79, 800.16, 20187.61, 62433.05, 149036.49, 218858.55, 267407.39, 299673.21, 312702.35, 313896.41, 299053.63, 262488.72, 200483.18, 108960.69, 10.25, 706.44, 18486.82, 73793.83, 150841.77, 217178.04, 266226.24, 296576.79, 313757.84, 318016.75, 303093.46, 264622.89, 203043.93, 112121.66, 6.37, 559.13, 17881.21, 73548.82, 148820.6, 172609.74, 15616.14, 210021.24, 243636.34, 247209.75, 236094.45, 255543.75, 203462.01, 103992.61, 5.92, 267.56, 14462.22, 70403.48, 88106.54, 161624.3, 185411.36, 207153.29, 219209.11, 232135.87, 243666.9, 238686.08, 187771.24, 99244.43, 5.72, 301.41, 15897.0, 43304.63, 130248.89, 204045.7, 215983.71, 158285.97, 151867.96, 166051.15, 202116.9, 180685.16, 179049.48, 115628.74, 9.02, 400.63, 17961.9, 62030.06, 147936.66, 211546.4, 229409.37, 271722.24, 257599.2, 206300.71, 279035.68, 243559.56, 148394.62, 107926.63, 7.91, 362.74, 16685.16, 70638.8, 128835.31, 171030.37, 231422.4, 284547.42, 309129.69, 314954.08, 270489.25, 256074.96, 205715.77, 115166.89, 6.81, 392.6, 17330.65, 72806.93, 152549.42, 222746.14, 272686.47, 287154.45, 275332.27, 288991.42, 304241.22, 272308.82, 208607.85, 112258.76, 5.8, 301.6, 16332.36, 72256.65, 140980.1, 212495.76, 272745.12, 306238.99, 320842.16, 320213.35, 303402.45, 265490.97, 203139.13, 109815.82, 9.34, 273.95, 15691.4, 69765.91, 151132.54, 179782.4, 217852.06, 242425.32, 255853.0, 257569.98, 245838.29, 257942.89, 201137.1, 108597.15, 10.71, 235.69, 15334.85, 70152.46, 148675.12, 216611.2, 266322.73, 290996.83, 194036.45, 225357.1, 247972.22, 260293.64, 204873.03, 109325.17, 11.27, 192.02, 14901.18, 69469.19, 148908.78, 220192.14, 269913.74, 299779.44, 256786.52, 255577.2, 245084.34, 253577.53, 197010.96, 102244.34, 11.1, 206.66, 15581.17, 68634.71, 125977.72, 180083.5, 204327.63, 239176.72, 278544.05, 265662.61, 241503.22, 209208.26, 152099.72, 79437.63, 10.96, 102.97, 14246.2, 60524.89, 119678.72, 212098.7, 261714.88, 301703.95, 298049.75, 257949.53, 248982.62, 253295.95, 173214.34, 79500.51, 6.46, 103.01, 14334.04, 51356.69, 147667.55, 220913.37, 264633.27, 299830.92, 316351.19, 315999.13, 301920.05, 268347.53, 204182.72, 106619.26, 6.31, 67.69, 14813.43, 66522.36, 144728.25, 202083.35, 265738.48, 295002.62, 318753.35, 310476.85, 284552.37, 238495.03, 164136.57, 76093.85, 5.55, 6.07, 7425.59, 64679.25, 64386.16, 64852.45, 86855.87, 84027.56, 93601.25, 84993.53, 70884.12, 67452.74, 31441.35, 13269.08, 6.5, 6.25, 1450.9, 30658.67, 23653.36, 32021.73, 55187.28, 63816.25, 58572.41, 45461.92, 45429.94, 39189.7, 25455.49, 11562.53, 5.84, 6.58, 10749.7, 12388.85, 102174.61, 160749.38, 207784.97, 236877.72, 196896.82, 189896.82, 191888.28, 196723.4, 142522.42, 88440.44, 5.46, 5.6, 12870.29, 46954.54, 110431.87, 158718.61, 184121.01, 277605.44, 267733.06, 272191.44, 225975.27, 165051.53, 112482.83, 57786.98, 6.57, 5.66, 11413.5, 63296.44, 136809.62, 186389.09, 232616.55, 263235.86, 256906.1, 279913.69, 239647.87, 231207.09, 164680.31, 75767.7, 5.77, 6.12, 9303.5, 64515.33, 113036.97, 136629.0, 157670.5, 204809.24, 253249.96, 242951.91, 202430.29, 187915.3, 170439.87, 90719.88, 6.23, 6.3, 12412.38, 55026.51, 132631.89, 206983.68, 263017.61, 304988.57, 320708.31, 320346.64, 306753.99, 269933.4, 204080.54, 101333.65, 6.34, 6.59, 10997.14, 62266.53, 143674.13, 175687.08, 214049.35, 239580.82, 249179.04, 255891.13, 231299.37, 255489.21, 191863.39, 92640.44]}, {\"name\": \"fc\", \"type\": \"scatter\", \"x\": [\"2021-01-09 07:00:00\", \"2021-01-09 08:00:00\", \"2021-01-09 09:00:00\", \"2021-01-09 10:00:00\", \"2021-01-09 11:00:00\", \"2021-01-09 12:00:00\", \"2021-01-09 13:00:00\", \"2021-01-09 14:00:00\", \"2021-01-09 15:00:00\", \"2021-01-09 16:00:00\", \"2021-01-09 17:00:00\", \"2021-01-09 18:00:00\", \"2021-01-09 19:00:00\", \"2021-01-09 20:00:00\", \"2021-01-10 07:00:00\", \"2021-01-10 08:00:00\", \"2021-01-10 09:00:00\", \"2021-01-10 10:00:00\", \"2021-01-10 11:00:00\", \"2021-01-10 12:00:00\", \"2021-01-10 13:00:00\", \"2021-01-10 14:00:00\", \"2021-01-10 15:00:00\", \"2021-01-10 16:00:00\", \"2021-01-10 17:00:00\", \"2021-01-10 18:00:00\", \"2021-01-10 19:00:00\", \"2021-01-10 20:00:00\", \"2021-01-11 07:00:00\", \"2021-01-11 08:00:00\", \"2021-01-11 09:00:00\", \"2021-01-11 10:00:00\", \"2021-01-11 11:00:00\", \"2021-01-11 12:00:00\", \"2021-01-11 13:00:00\", \"2021-01-11 14:00:00\", \"2021-01-11 15:00:00\", \"2021-01-11 16:00:00\", \"2021-01-11 17:00:00\", \"2021-01-11 18:00:00\", \"2021-01-11 19:00:00\", \"2021-01-11 20:00:00\", \"2021-01-12 07:00:00\", \"2021-01-12 08:00:00\", \"2021-01-12 09:00:00\", \"2021-01-12 10:00:00\", \"2021-01-12 11:00:00\", \"2021-01-12 12:00:00\", \"2021-01-12 13:00:00\", \"2021-01-12 14:00:00\", \"2021-01-12 15:00:00\", \"2021-01-12 16:00:00\", \"2021-01-12 17:00:00\", \"2021-01-12 18:00:00\", \"2021-01-12 19:00:00\", \"2021-01-12 20:00:00\", \"2021-01-13 07:00:00\", \"2021-01-13 08:00:00\", \"2021-01-13 09:00:00\", \"2021-01-13 10:00:00\", \"2021-01-13 11:00:00\", \"2021-01-13 12:00:00\", \"2021-01-13 13:00:00\", \"2021-01-13 14:00:00\", \"2021-01-13 15:00:00\", \"2021-01-13 16:00:00\", \"2021-01-13 17:00:00\", \"2021-01-13 18:00:00\", \"2021-01-13 19:00:00\", \"2021-01-13 20:00:00\", \"2021-01-14 07:00:00\", \"2021-01-14 08:00:00\", \"2021-01-14 09:00:00\", \"2021-01-14 10:00:00\", \"2021-01-14 11:00:00\", \"2021-01-14 12:00:00\", \"2021-01-14 13:00:00\", \"2021-01-14 14:00:00\", \"2021-01-14 15:00:00\", \"2021-01-14 16:00:00\", \"2021-01-14 17:00:00\", \"2021-01-14 18:00:00\", \"2021-01-14 19:00:00\", \"2021-01-14 20:00:00\", \"2021-01-15 07:00:00\", \"2021-01-15 08:00:00\", \"2021-01-15 09:00:00\", \"2021-01-15 10:00:00\", \"2021-01-15 11:00:00\", \"2021-01-15 12:00:00\", \"2021-01-15 13:00:00\", \"2021-01-15 14:00:00\", \"2021-01-15 15:00:00\", \"2021-01-15 16:00:00\", \"2021-01-15 17:00:00\", \"2021-01-15 18:00:00\", \"2021-01-15 19:00:00\", \"2021-01-15 20:00:00\", \"2021-01-16 07:00:00\", \"2021-01-16 08:00:00\", \"2021-01-16 09:00:00\", \"2021-01-16 10:00:00\", \"2021-01-16 11:00:00\", \"2021-01-16 12:00:00\", \"2021-01-16 13:00:00\", \"2021-01-16 14:00:00\", \"2021-01-16 15:00:00\", \"2021-01-16 16:00:00\", \"2021-01-16 17:00:00\", \"2021-01-16 18:00:00\", \"2021-01-16 19:00:00\", \"2021-01-16 20:00:00\", \"2021-01-17 07:00:00\", \"2021-01-17 08:00:00\", \"2021-01-17 09:00:00\", \"2021-01-17 10:00:00\", \"2021-01-17 11:00:00\", \"2021-01-17 12:00:00\", \"2021-01-17 13:00:00\", \"2021-01-17 14:00:00\", \"2021-01-17 15:00:00\", \"2021-01-17 16:00:00\", \"2021-01-17 17:00:00\", \"2021-01-17 18:00:00\", \"2021-01-17 19:00:00\", \"2021-01-17 20:00:00\", \"2021-01-18 07:00:00\", \"2021-01-18 08:00:00\", \"2021-01-18 09:00:00\", \"2021-01-18 10:00:00\", \"2021-01-18 11:00:00\", \"2021-01-18 12:00:00\", \"2021-01-18 13:00:00\", \"2021-01-18 14:00:00\", \"2021-01-18 15:00:00\", \"2021-01-18 16:00:00\", \"2021-01-18 17:00:00\", \"2021-01-18 18:00:00\", \"2021-01-18 19:00:00\", \"2021-01-18 20:00:00\", \"2021-01-19 07:00:00\", \"2021-01-19 08:00:00\", \"2021-01-19 09:00:00\", \"2021-01-19 10:00:00\", \"2021-01-19 11:00:00\", \"2021-01-19 12:00:00\", \"2021-01-19 13:00:00\", \"2021-01-19 14:00:00\", \"2021-01-19 15:00:00\", \"2021-01-19 16:00:00\", \"2021-01-19 17:00:00\", \"2021-01-19 18:00:00\", \"2021-01-19 19:00:00\", \"2021-01-19 20:00:00\", \"2021-01-20 07:00:00\", \"2021-01-20 08:00:00\", \"2021-01-20 09:00:00\", \"2021-01-20 10:00:00\", \"2021-01-20 11:00:00\", \"2021-01-20 12:00:00\", \"2021-01-20 13:00:00\", \"2021-01-20 14:00:00\", \"2021-01-20 15:00:00\", \"2021-01-20 16:00:00\", \"2021-01-20 17:00:00\", \"2021-01-20 18:00:00\", \"2021-01-20 19:00:00\", \"2021-01-20 20:00:00\", \"2021-01-21 07:00:00\", \"2021-01-21 08:00:00\", \"2021-01-21 09:00:00\", \"2021-01-21 10:00:00\", \"2021-01-21 11:00:00\", \"2021-01-21 12:00:00\", \"2021-01-21 13:00:00\", \"2021-01-21 14:00:00\", \"2021-01-21 15:00:00\", \"2021-01-21 16:00:00\", \"2021-01-21 17:00:00\", \"2021-01-21 18:00:00\", \"2021-01-21 19:00:00\", \"2021-01-21 20:00:00\", \"2021-01-22 07:00:00\", \"2021-01-22 08:00:00\", \"2021-01-22 09:00:00\", \"2021-01-22 10:00:00\", \"2021-01-22 11:00:00\", \"2021-01-22 12:00:00\", \"2021-01-22 13:00:00\", \"2021-01-22 14:00:00\", \"2021-01-22 15:00:00\", \"2021-01-22 16:00:00\", \"2021-01-22 17:00:00\", \"2021-01-22 18:00:00\", \"2021-01-22 19:00:00\", \"2021-01-22 20:00:00\", \"2021-01-23 07:00:00\", \"2021-01-23 08:00:00\", \"2021-01-23 09:00:00\", \"2021-01-23 10:00:00\", \"2021-01-23 11:00:00\", \"2021-01-23 12:00:00\", \"2021-01-23 13:00:00\", \"2021-01-23 14:00:00\", \"2021-01-23 15:00:00\", \"2021-01-23 16:00:00\", \"2021-01-23 17:00:00\", \"2021-01-23 18:00:00\", \"2021-01-23 19:00:00\", \"2021-01-23 20:00:00\", \"2021-01-24 07:00:00\", \"2021-01-24 08:00:00\", \"2021-01-24 09:00:00\", \"2021-01-24 10:00:00\", \"2021-01-24 11:00:00\", \"2021-01-24 12:00:00\", \"2021-01-24 13:00:00\", \"2021-01-24 14:00:00\", \"2021-01-24 15:00:00\", \"2021-01-24 16:00:00\", \"2021-01-24 17:00:00\", \"2021-01-24 18:00:00\", \"2021-01-24 19:00:00\", \"2021-01-24 20:00:00\", \"2021-01-25 07:00:00\", \"2021-01-25 08:00:00\", \"2021-01-25 09:00:00\", \"2021-01-25 10:00:00\", \"2021-01-25 11:00:00\", \"2021-01-25 12:00:00\", \"2021-01-25 13:00:00\", \"2021-01-25 14:00:00\", \"2021-01-25 15:00:00\", \"2021-01-25 16:00:00\", \"2021-01-25 17:00:00\", \"2021-01-25 18:00:00\", \"2021-01-25 19:00:00\", \"2021-01-25 20:00:00\", \"2021-01-26 07:00:00\", \"2021-01-26 08:00:00\", \"2021-01-26 09:00:00\", \"2021-01-26 10:00:00\", \"2021-01-26 11:00:00\", \"2021-01-26 12:00:00\", \"2021-01-26 13:00:00\", \"2021-01-26 14:00:00\", \"2021-01-26 15:00:00\", \"2021-01-26 16:00:00\", \"2021-01-26 17:00:00\", \"2021-01-26 18:00:00\", \"2021-01-26 19:00:00\", \"2021-01-26 20:00:00\", \"2021-01-27 07:00:00\", \"2021-01-27 08:00:00\", \"2021-01-27 09:00:00\", \"2021-01-27 10:00:00\", \"2021-01-27 11:00:00\", \"2021-01-27 12:00:00\", \"2021-01-27 13:00:00\", \"2021-01-27 14:00:00\", \"2021-01-27 15:00:00\", \"2021-01-27 16:00:00\", \"2021-01-27 17:00:00\", \"2021-01-27 18:00:00\", \"2021-01-27 19:00:00\", \"2021-01-27 20:00:00\", \"2021-01-28 07:00:00\", \"2021-01-28 08:00:00\", \"2021-01-28 09:00:00\", \"2021-01-28 10:00:00\", \"2021-01-28 11:00:00\", \"2021-01-28 12:00:00\", \"2021-01-28 13:00:00\", \"2021-01-28 14:00:00\", \"2021-01-28 15:00:00\", \"2021-01-28 16:00:00\", \"2021-01-28 17:00:00\", \"2021-01-28 18:00:00\", \"2021-01-28 19:00:00\", \"2021-01-28 20:00:00\", \"2021-01-29 07:00:00\", \"2021-01-29 08:00:00\", \"2021-01-29 09:00:00\", \"2021-01-29 10:00:00\", \"2021-01-29 11:00:00\", \"2021-01-29 12:00:00\", \"2021-01-29 13:00:00\", \"2021-01-29 14:00:00\", \"2021-01-29 15:00:00\", \"2021-01-29 16:00:00\", \"2021-01-29 17:00:00\", \"2021-01-29 18:00:00\", \"2021-01-29 19:00:00\", \"2021-01-29 20:00:00\", \"2021-01-30 07:00:00\", \"2021-01-30 08:00:00\", \"2021-01-30 09:00:00\", \"2021-01-30 10:00:00\", \"2021-01-30 11:00:00\", \"2021-01-30 12:00:00\", \"2021-01-30 13:00:00\", \"2021-01-30 14:00:00\", \"2021-01-30 15:00:00\", \"2021-01-30 16:00:00\", \"2021-01-30 17:00:00\", \"2021-01-30 18:00:00\", \"2021-01-30 19:00:00\", \"2021-01-30 20:00:00\", \"2021-01-31 07:00:00\", \"2021-01-31 08:00:00\", \"2021-01-31 09:00:00\", \"2021-01-31 10:00:00\", \"2021-01-31 11:00:00\", \"2021-01-31 12:00:00\", \"2021-01-31 13:00:00\", \"2021-01-31 14:00:00\", \"2021-01-31 15:00:00\", \"2021-01-31 16:00:00\", \"2021-01-31 17:00:00\", \"2021-01-31 18:00:00\", \"2021-01-31 19:00:00\", \"2021-01-31 20:00:00\", \"2021-02-01 07:00:00\", \"2021-02-01 08:00:00\", \"2021-02-01 09:00:00\", \"2021-02-01 10:00:00\", \"2021-02-01 11:00:00\", \"2021-02-01 12:00:00\", \"2021-02-01 13:00:00\", \"2021-02-01 14:00:00\", \"2021-02-01 15:00:00\", \"2021-02-01 16:00:00\", \"2021-02-01 17:00:00\", \"2021-02-01 18:00:00\", \"2021-02-01 19:00:00\", \"2021-02-01 20:00:00\", \"2021-02-02 07:00:00\", \"2021-02-02 08:00:00\", \"2021-02-02 09:00:00\", \"2021-02-02 10:00:00\", \"2021-02-02 11:00:00\", \"2021-02-02 12:00:00\", \"2021-02-02 13:00:00\", \"2021-02-02 14:00:00\", \"2021-02-02 15:00:00\", \"2021-02-02 16:00:00\", \"2021-02-02 17:00:00\", \"2021-02-02 18:00:00\", \"2021-02-02 19:00:00\", \"2021-02-02 20:00:00\", \"2021-02-03 07:00:00\", \"2021-02-03 08:00:00\", \"2021-02-03 09:00:00\", \"2021-02-03 10:00:00\", \"2021-02-03 11:00:00\", \"2021-02-03 12:00:00\", \"2021-02-03 13:00:00\", \"2021-02-03 14:00:00\", \"2021-02-03 15:00:00\", \"2021-02-03 16:00:00\", \"2021-02-03 17:00:00\", \"2021-02-03 18:00:00\", \"2021-02-03 19:00:00\", \"2021-02-03 20:00:00\", \"2021-02-04 07:00:00\", \"2021-02-04 08:00:00\", \"2021-02-04 09:00:00\", \"2021-02-04 10:00:00\", \"2021-02-04 11:00:00\", \"2021-02-04 12:00:00\", \"2021-02-04 13:00:00\", \"2021-02-04 14:00:00\", \"2021-02-04 15:00:00\", \"2021-02-04 16:00:00\", \"2021-02-04 17:00:00\", \"2021-02-04 18:00:00\", \"2021-02-04 19:00:00\", \"2021-02-04 20:00:00\", \"2021-02-05 07:00:00\", \"2021-02-05 08:00:00\", \"2021-02-05 09:00:00\", \"2021-02-05 10:00:00\", \"2021-02-05 11:00:00\", \"2021-02-05 12:00:00\", \"2021-02-05 13:00:00\", \"2021-02-05 14:00:00\", \"2021-02-05 15:00:00\", \"2021-02-05 16:00:00\", \"2021-02-05 17:00:00\", \"2021-02-05 18:00:00\", \"2021-02-05 19:00:00\", \"2021-02-05 20:00:00\", \"2021-02-06 07:00:00\", \"2021-02-06 08:00:00\", \"2021-02-06 09:00:00\", \"2021-02-06 10:00:00\", \"2021-02-06 11:00:00\", \"2021-02-06 12:00:00\", \"2021-02-06 13:00:00\", \"2021-02-06 14:00:00\", \"2021-02-06 15:00:00\", \"2021-02-06 16:00:00\", \"2021-02-06 17:00:00\", \"2021-02-06 18:00:00\", \"2021-02-06 19:00:00\", \"2021-02-06 20:00:00\", \"2021-02-07 07:00:00\", \"2021-02-07 08:00:00\", \"2021-02-07 09:00:00\", \"2021-02-07 10:00:00\", \"2021-02-07 11:00:00\", \"2021-02-07 12:00:00\", \"2021-02-07 13:00:00\", \"2021-02-07 14:00:00\", \"2021-02-07 15:00:00\", \"2021-02-07 16:00:00\", \"2021-02-07 17:00:00\", \"2021-02-07 18:00:00\", \"2021-02-07 19:00:00\", \"2021-02-07 20:00:00\", \"2021-02-08 07:00:00\", \"2021-02-08 08:00:00\", \"2021-02-08 09:00:00\", \"2021-02-08 10:00:00\", \"2021-02-08 11:00:00\", \"2021-02-08 12:00:00\", \"2021-02-08 13:00:00\", \"2021-02-08 14:00:00\", \"2021-02-08 15:00:00\", \"2021-02-08 16:00:00\", \"2021-02-08 17:00:00\", \"2021-02-08 18:00:00\", \"2021-02-08 19:00:00\", \"2021-02-08 20:00:00\", \"2021-02-09 07:00:00\", \"2021-02-09 08:00:00\", \"2021-02-09 09:00:00\", \"2021-02-09 10:00:00\", \"2021-02-09 11:00:00\", \"2021-02-09 12:00:00\", \"2021-02-09 13:00:00\", \"2021-02-09 14:00:00\", \"2021-02-09 15:00:00\", \"2021-02-09 16:00:00\", \"2021-02-09 17:00:00\", \"2021-02-09 18:00:00\", \"2021-02-09 19:00:00\", \"2021-02-09 20:00:00\", \"2021-02-10 07:00:00\", \"2021-02-10 08:00:00\", \"2021-02-10 09:00:00\", \"2021-02-10 10:00:00\", \"2021-02-10 11:00:00\", \"2021-02-10 12:00:00\", \"2021-02-10 13:00:00\", \"2021-02-10 14:00:00\", \"2021-02-10 15:00:00\", \"2021-02-10 16:00:00\", \"2021-02-10 17:00:00\", \"2021-02-10 18:00:00\", \"2021-02-10 19:00:00\", \"2021-02-10 20:00:00\", \"2021-02-11 07:00:00\", \"2021-02-11 08:00:00\", \"2021-02-11 09:00:00\", \"2021-02-11 10:00:00\", \"2021-02-11 11:00:00\", \"2021-02-11 12:00:00\", \"2021-02-11 13:00:00\", \"2021-02-11 14:00:00\", \"2021-02-11 15:00:00\", \"2021-02-11 16:00:00\", \"2021-02-11 17:00:00\", \"2021-02-11 18:00:00\", \"2021-02-11 19:00:00\", \"2021-02-11 20:00:00\", \"2021-02-12 07:00:00\", \"2021-02-12 08:00:00\", \"2021-02-12 09:00:00\", \"2021-02-12 10:00:00\", \"2021-02-12 11:00:00\", \"2021-02-12 12:00:00\", \"2021-02-12 13:00:00\", \"2021-02-12 14:00:00\", \"2021-02-12 15:00:00\", \"2021-02-12 16:00:00\", \"2021-02-12 17:00:00\", \"2021-02-12 18:00:00\", \"2021-02-12 19:00:00\", \"2021-02-12 20:00:00\", \"2021-02-13 07:00:00\", \"2021-02-13 08:00:00\", \"2021-02-13 09:00:00\", \"2021-02-13 10:00:00\", \"2021-02-13 11:00:00\", \"2021-02-13 12:00:00\", \"2021-02-13 13:00:00\", \"2021-02-13 14:00:00\", \"2021-02-13 15:00:00\", \"2021-02-13 16:00:00\", \"2021-02-13 17:00:00\", \"2021-02-13 18:00:00\", \"2021-02-13 19:00:00\", \"2021-02-13 20:00:00\"], \"y\": [94265.1171875, 94265.1171875, 94265.1171875, 94265.1171875, 145344.125, 202210.296875, 250272.75, 262989.15625, 282154.375, 256574.484375, 219071.03125, 176550.546875, 140206.375, 94265.1171875, 94265.1171875, 94265.1171875, 94265.1171875, 94265.1171875, 124091.96875, 178378.78125, 208481.65625, 232318.734375, 263882.125, 258818.609375, 226906.765625, 188090.875, 149729.34375, 94265.1171875, 94265.1171875, 94265.1171875, 94265.1171875, 94265.1171875, 145623.109375, 216857.71875, 258064.4375, 293293.875, 317968.9375, 306236.59375, 288410.3125, 258612.703125, 198286.203125, 95287.9765625, 94265.1171875, 94265.1171875, 94265.1171875, 94265.1171875, 138986.03125, 198990.84375, 237152.109375, 263516.15625, 276963.8125, 266905.25, 250482.546875, 219907.421875, 172037.828125, 94265.1171875, 94265.1171875, 94265.1171875, 94265.1171875, 94265.1171875, 138134.109375, 195905.34375, 240812.328125, 286701.125, 287395.78125, 263553.9375, 257068.90625, 223652.21875, 160431.09375, 94265.1171875, 94265.1171875, 94265.1171875, 94265.1171875, 94265.1171875, 113586.3515625, 190647.109375, 237713.0625, 276122.375, 276321.125, 287167.375, 276225.15625, 251048.453125, 173696.34375, 94265.1171875, 94265.1171875, 94265.1171875, 94265.1171875, 94265.1171875, 134123.03125, 212766.171875, 274722.0, 306651.59375, 292439.15625, 286251.53125, 256723.671875, 217279.234375, 157163.0625, 94265.1171875, 94265.1171875, 94265.1171875, 94265.1171875, 94265.1171875, 169850.859375, 242196.09375, 287810.40625, 312528.1875, 311137.4375, 302087.6875, 261355.359375, 218120.4375, 148450.515625, 94265.1171875, 94265.1171875, 94265.1171875, 94265.1171875, 94265.1171875, 158384.453125, 238398.15625, 290777.21875, 308132.5, 308925.84375, 287029.40625, 260966.59375, 227391.375, 165844.453125, 94265.1171875, 94265.1171875, 94265.1171875, 94265.1171875, 115225.0234375, 178666.921875, 240230.296875, 279771.625, 293283.78125, 292416.375, 272327.21875, 251672.3125, 206558.0625, 152052.34375, 94265.1171875, 94265.1171875, 94265.1171875, 94265.1171875, 94265.1171875, 137100.75, 197083.546875, 241873.578125, 270875.34375, 275321.65625, 257107.484375, 241511.515625, 211294.15625, 148526.0625, 94265.1171875, 94265.1171875, 94265.1171875, 94265.1171875, 94265.1171875, 137059.890625, 193413.25, 236206.03125, 260732.34375, 275000.40625, 263498.125, 239705.859375, 192662.65625, 142813.171875, 94265.1171875, 94265.1171875, 94265.1171875, 94265.1171875, 96304.234375, 160465.78125, 214587.953125, 244675.15625, 267533.09375, 292180.96875, 279097.53125, 262169.46875, 220373.140625, 162320.265625, 94265.1171875, 94265.1171875, 94265.1171875, 94265.1171875, 94265.1171875, 129699.4375, 191281.71875, 235964.953125, 273052.5625, 283037.125, 286125.84375, 287099.84375, 259705.640625, 193145.265625, 102922.1171875, 94265.1171875, 94265.1171875, 94265.1171875, 94265.1171875, 135083.0, 194174.75, 236064.78125, 280803.9375, 279113.03125, 280636.09375, 265386.71875, 228693.578125, 165517.5, 94265.1171875, 94265.1171875, 94265.1171875, 94265.1171875, 94265.1171875, 116976.453125, 183577.53125, 225814.34375, 278472.0, 300745.5, 306323.9375, 282871.875, 245243.921875, 181507.59375, 94265.1171875, 94265.1171875, 94265.1171875, 94265.1171875, 94265.1171875, 119039.7265625, 187232.375, 225578.3125, 268649.03125, 294904.1875, 308462.96875, 291943.15625, 258494.328125, 186860.90625, 94265.1171875, 94265.1171875, 94265.1171875, 94265.1171875, 94265.1171875, 163190.21875, 229435.25, 268402.96875, 291129.34375, 301653.21875, 296772.28125, 273379.5625, 244366.859375, 177107.265625, 94265.1171875, 94265.1171875, 94265.1171875, 94265.1171875, 94265.1171875, 143696.296875, 211154.3125, 253701.625, 287271.40625, 292410.125, 282755.375, 280743.84375, 251529.65625, 177649.484375, 94265.1171875, 94265.1171875, 94265.1171875, 94265.1171875, 94265.1171875, 128926.015625, 196950.59375, 237183.0, 271500.625, 273400.3125, 288960.59375, 298279.3125, 269278.875, 188405.328125, 94265.1171875, 94265.1171875, 94265.1171875, 94265.1171875, 94265.1171875, 139807.5, 211546.921875, 267351.4375, 299608.25, 308732.375, 307993.84375, 290816.59375, 253637.28125, 184930.875, 94265.1171875, 94265.1171875, 94265.1171875, 94265.1171875, 94265.1171875, 160817.671875, 225109.8125, 269709.6875, 300995.03125, 315906.53125, 307019.6875, 287169.125, 254053.625, 195902.421875, 115031.671875, 94265.1171875, 94265.1171875, 94265.1171875, 123107.8515625, 199597.765625, 251501.09375, 285039.96875, 310773.15625, 313845.6875, 304441.0625, 283128.125, 252373.828125, 194448.578125, 99009.7578125, 94265.1171875, 94265.1171875, 94265.1171875, 117324.34375, 179060.703125, 242304.5625, 287731.40625, 321438.375, 333519.09375, 337338.21875, 321434.0625, 287954.21875, 211935.28125, 98054.3203125, 94265.1171875, 94265.1171875, 94265.1171875, 101790.796875, 159800.40625, 235458.03125, 285225.78125, 322786.375, 327480.0625, 321260.03125, 299491.46875, 273417.3125, 206807.265625, 117385.0078125, 94265.1171875, 94265.1171875, 94265.1171875, 94265.1171875, 157898.78125, 219523.8125, 250510.328125, 274635.28125, 283087.53125, 286619.15625, 271704.375, 235217.34375, 172802.0, 94265.1171875, 94265.1171875, 94265.1171875, 94265.1171875, 94265.1171875, 158251.515625, 228139.078125, 274822.96875, 310731.6875, 328388.9375, 327484.78125, 306633.71875, 268552.0, 190284.78125, 94265.1171875, 94265.1171875, 94265.1171875, 94265.1171875, 94265.1171875, 144419.046875, 208855.9375, 248793.484375, 261262.0625, 277520.875, 284197.125, 280948.96875, 235251.765625, 160015.015625, 94265.1171875, 94265.1171875, 94265.1171875, 94265.1171875, 94265.1171875, 122097.7734375, 172929.328125, 207306.0625, 228526.75, 249418.375, 245298.453125, 236821.96875, 198877.03125, 127074.015625, 94265.1171875, 94265.1171875, 94265.1171875, 94265.1171875, 94265.1171875, 94265.1171875, 108139.3828125, 124211.1328125, 140946.140625, 154489.6875, 172079.0625, 172209.265625, 149547.84375, 98228.84375, 94265.1171875, 94265.1171875, 94265.1171875, 94265.1171875, 94265.1171875, 108491.9375, 159996.109375, 191360.5625, 222950.390625, 235137.75, 232118.78125, 231214.140625, 185098.78125, 125510.53125, 94265.1171875, 94265.1171875, 94265.1171875, 94265.1171875, 94265.1171875, 125506.03125, 165959.609375, 202885.28125, 220055.03125, 250508.578125, 232959.40625, 221078.96875, 172016.515625, 121612.765625, 94265.1171875, 94265.1171875, 94265.1171875, 94265.1171875, 94265.1171875, 144940.0, 183964.515625, 208792.046875, 232915.859375, 258151.296875, 255783.1875, 254762.9375, 220048.65625, 163798.859375, 97661.1171875, 94265.1171875, 94265.1171875, 94265.1171875, 94265.1171875, 131969.140625, 195774.359375, 207604.234375, 223231.1875, 221420.328125, 234202.78125, 234651.0625, 219453.53125, 167232.34375, 103603.7265625, 94265.1171875, 94265.1171875, 94265.1171875, 94265.1171875, 126048.828125, 184958.671875, 195935.578125, 223363.53125, 224519.4375, 239727.921875, 236697.078125, 234782.4375, 176830.734375, 100933.875, 94265.1171875, 94265.1171875, 94265.1171875, 94265.1171875, 154417.953125, 215913.953125, 251278.09375, 271857.03125, 283038.65625, 281305.6875, 271678.40625, 256150.6875, 194305.328125, 111703.25]}],                        {\"template\": {\"data\": {\"bar\": [{\"error_x\": {\"color\": \"#2a3f5f\"}, \"error_y\": {\"color\": \"#2a3f5f\"}, \"marker\": {\"line\": {\"color\": \"#E5ECF6\", \"width\": 0.5}}, \"type\": \"bar\"}], \"barpolar\": [{\"marker\": {\"line\": {\"color\": \"#E5ECF6\", \"width\": 0.5}}, \"type\": \"barpolar\"}], \"carpet\": [{\"aaxis\": {\"endlinecolor\": \"#2a3f5f\", \"gridcolor\": \"white\", \"linecolor\": \"white\", \"minorgridcolor\": \"white\", \"startlinecolor\": \"#2a3f5f\"}, \"baxis\": {\"endlinecolor\": \"#2a3f5f\", \"gridcolor\": \"white\", \"linecolor\": \"white\", \"minorgridcolor\": \"white\", \"startlinecolor\": \"#2a3f5f\"}, \"type\": \"carpet\"}], \"choropleth\": [{\"colorbar\": {\"outlinewidth\": 0, \"ticks\": \"\"}, \"type\": \"choropleth\"}], \"contour\": [{\"colorbar\": {\"outlinewidth\": 0, \"ticks\": \"\"}, \"colorscale\": [[0.0, \"#0d0887\"], [0.1111111111111111, \"#46039f\"], [0.2222222222222222, \"#7201a8\"], [0.3333333333333333, \"#9c179e\"], [0.4444444444444444, \"#bd3786\"], [0.5555555555555556, \"#d8576b\"], [0.6666666666666666, \"#ed7953\"], [0.7777777777777778, \"#fb9f3a\"], [0.8888888888888888, \"#fdca26\"], [1.0, \"#f0f921\"]], \"type\": \"contour\"}], \"contourcarpet\": [{\"colorbar\": {\"outlinewidth\": 0, \"ticks\": \"\"}, \"type\": \"contourcarpet\"}], \"heatmap\": [{\"colorbar\": {\"outlinewidth\": 0, \"ticks\": \"\"}, \"colorscale\": [[0.0, \"#0d0887\"], [0.1111111111111111, \"#46039f\"], [0.2222222222222222, \"#7201a8\"], [0.3333333333333333, \"#9c179e\"], [0.4444444444444444, \"#bd3786\"], [0.5555555555555556, \"#d8576b\"], [0.6666666666666666, \"#ed7953\"], [0.7777777777777778, \"#fb9f3a\"], [0.8888888888888888, \"#fdca26\"], [1.0, \"#f0f921\"]], \"type\": \"heatmap\"}], \"heatmapgl\": [{\"colorbar\": {\"outlinewidth\": 0, \"ticks\": \"\"}, \"colorscale\": [[0.0, \"#0d0887\"], [0.1111111111111111, \"#46039f\"], [0.2222222222222222, \"#7201a8\"], [0.3333333333333333, \"#9c179e\"], [0.4444444444444444, \"#bd3786\"], [0.5555555555555556, \"#d8576b\"], [0.6666666666666666, \"#ed7953\"], [0.7777777777777778, \"#fb9f3a\"], [0.8888888888888888, \"#fdca26\"], [1.0, \"#f0f921\"]], \"type\": \"heatmapgl\"}], \"histogram\": [{\"marker\": {\"colorbar\": {\"outlinewidth\": 0, \"ticks\": \"\"}}, \"type\": \"histogram\"}], \"histogram2d\": [{\"colorbar\": {\"outlinewidth\": 0, \"ticks\": \"\"}, \"colorscale\": [[0.0, \"#0d0887\"], [0.1111111111111111, \"#46039f\"], [0.2222222222222222, \"#7201a8\"], [0.3333333333333333, \"#9c179e\"], [0.4444444444444444, \"#bd3786\"], [0.5555555555555556, \"#d8576b\"], [0.6666666666666666, \"#ed7953\"], [0.7777777777777778, \"#fb9f3a\"], [0.8888888888888888, \"#fdca26\"], [1.0, \"#f0f921\"]], \"type\": \"histogram2d\"}], \"histogram2dcontour\": [{\"colorbar\": {\"outlinewidth\": 0, \"ticks\": \"\"}, \"colorscale\": [[0.0, \"#0d0887\"], [0.1111111111111111, \"#46039f\"], [0.2222222222222222, \"#7201a8\"], [0.3333333333333333, \"#9c179e\"], [0.4444444444444444, \"#bd3786\"], [0.5555555555555556, \"#d8576b\"], [0.6666666666666666, \"#ed7953\"], [0.7777777777777778, \"#fb9f3a\"], [0.8888888888888888, \"#fdca26\"], [1.0, \"#f0f921\"]], \"type\": \"histogram2dcontour\"}], \"mesh3d\": [{\"colorbar\": {\"outlinewidth\": 0, \"ticks\": \"\"}, \"type\": \"mesh3d\"}], \"parcoords\": [{\"line\": {\"colorbar\": {\"outlinewidth\": 0, \"ticks\": \"\"}}, \"type\": \"parcoords\"}], \"pie\": [{\"automargin\": true, \"type\": \"pie\"}], \"scatter\": [{\"marker\": {\"colorbar\": {\"outlinewidth\": 0, \"ticks\": \"\"}}, \"type\": \"scatter\"}], \"scatter3d\": [{\"line\": {\"colorbar\": {\"outlinewidth\": 0, \"ticks\": \"\"}}, \"marker\": {\"colorbar\": {\"outlinewidth\": 0, \"ticks\": \"\"}}, \"type\": \"scatter3d\"}], \"scattercarpet\": [{\"marker\": {\"colorbar\": {\"outlinewidth\": 0, \"ticks\": \"\"}}, \"type\": \"scattercarpet\"}], \"scattergeo\": [{\"marker\": {\"colorbar\": {\"outlinewidth\": 0, \"ticks\": \"\"}}, \"type\": \"scattergeo\"}], \"scattergl\": [{\"marker\": {\"colorbar\": {\"outlinewidth\": 0, \"ticks\": \"\"}}, \"type\": \"scattergl\"}], \"scattermapbox\": [{\"marker\": {\"colorbar\": {\"outlinewidth\": 0, \"ticks\": \"\"}}, \"type\": \"scattermapbox\"}], \"scatterpolar\": [{\"marker\": {\"colorbar\": {\"outlinewidth\": 0, \"ticks\": \"\"}}, \"type\": \"scatterpolar\"}], \"scatterpolargl\": [{\"marker\": {\"colorbar\": {\"outlinewidth\": 0, \"ticks\": \"\"}}, \"type\": \"scatterpolargl\"}], \"scatterternary\": [{\"marker\": {\"colorbar\": {\"outlinewidth\": 0, \"ticks\": \"\"}}, \"type\": \"scatterternary\"}], \"surface\": [{\"colorbar\": {\"outlinewidth\": 0, \"ticks\": \"\"}, \"colorscale\": [[0.0, \"#0d0887\"], [0.1111111111111111, \"#46039f\"], [0.2222222222222222, \"#7201a8\"], [0.3333333333333333, \"#9c179e\"], [0.4444444444444444, \"#bd3786\"], [0.5555555555555556, \"#d8576b\"], [0.6666666666666666, \"#ed7953\"], [0.7777777777777778, \"#fb9f3a\"], [0.8888888888888888, \"#fdca26\"], [1.0, \"#f0f921\"]], \"type\": \"surface\"}], \"table\": [{\"cells\": {\"fill\": {\"color\": \"#EBF0F8\"}, \"line\": {\"color\": \"white\"}}, \"header\": {\"fill\": {\"color\": \"#C8D4E3\"}, \"line\": {\"color\": \"white\"}}, \"type\": \"table\"}]}, \"layout\": {\"annotationdefaults\": {\"arrowcolor\": \"#2a3f5f\", \"arrowhead\": 0, \"arrowwidth\": 1}, \"autotypenumbers\": \"strict\", \"coloraxis\": {\"colorbar\": {\"outlinewidth\": 0, \"ticks\": \"\"}}, \"colorscale\": {\"diverging\": [[0, \"#8e0152\"], [0.1, \"#c51b7d\"], [0.2, \"#de77ae\"], [0.3, \"#f1b6da\"], [0.4, \"#fde0ef\"], [0.5, \"#f7f7f7\"], [0.6, \"#e6f5d0\"], [0.7, \"#b8e186\"], [0.8, \"#7fbc41\"], [0.9, \"#4d9221\"], [1, \"#276419\"]], \"sequential\": [[0.0, \"#0d0887\"], [0.1111111111111111, \"#46039f\"], [0.2222222222222222, \"#7201a8\"], [0.3333333333333333, \"#9c179e\"], [0.4444444444444444, \"#bd3786\"], [0.5555555555555556, \"#d8576b\"], [0.6666666666666666, \"#ed7953\"], [0.7777777777777778, \"#fb9f3a\"], [0.8888888888888888, \"#fdca26\"], [1.0, \"#f0f921\"]], \"sequentialminus\": [[0.0, \"#0d0887\"], [0.1111111111111111, \"#46039f\"], [0.2222222222222222, \"#7201a8\"], [0.3333333333333333, \"#9c179e\"], [0.4444444444444444, \"#bd3786\"], [0.5555555555555556, \"#d8576b\"], [0.6666666666666666, \"#ed7953\"], [0.7777777777777778, \"#fb9f3a\"], [0.8888888888888888, \"#fdca26\"], [1.0, \"#f0f921\"]]}, \"colorway\": [\"#636efa\", \"#EF553B\", \"#00cc96\", \"#ab63fa\", \"#FFA15A\", \"#19d3f3\", \"#FF6692\", \"#B6E880\", \"#FF97FF\", \"#FECB52\"], \"font\": {\"color\": \"#2a3f5f\"}, \"geo\": {\"bgcolor\": \"white\", \"lakecolor\": \"white\", \"landcolor\": \"#E5ECF6\", \"showlakes\": true, \"showland\": true, \"subunitcolor\": \"white\"}, \"hoverlabel\": {\"align\": \"left\"}, \"hovermode\": \"closest\", \"mapbox\": {\"style\": \"light\"}, \"paper_bgcolor\": \"white\", \"plot_bgcolor\": \"#E5ECF6\", \"polar\": {\"angularaxis\": {\"gridcolor\": \"white\", \"linecolor\": \"white\", \"ticks\": \"\"}, \"bgcolor\": \"#E5ECF6\", \"radialaxis\": {\"gridcolor\": \"white\", \"linecolor\": \"white\", \"ticks\": \"\"}}, \"scene\": {\"xaxis\": {\"backgroundcolor\": \"#E5ECF6\", \"gridcolor\": \"white\", \"gridwidth\": 2, \"linecolor\": \"white\", \"showbackground\": true, \"ticks\": \"\", \"zerolinecolor\": \"white\"}, \"yaxis\": {\"backgroundcolor\": \"#E5ECF6\", \"gridcolor\": \"white\", \"gridwidth\": 2, \"linecolor\": \"white\", \"showbackground\": true, \"ticks\": \"\", \"zerolinecolor\": \"white\"}, \"zaxis\": {\"backgroundcolor\": \"#E5ECF6\", \"gridcolor\": \"white\", \"gridwidth\": 2, \"linecolor\": \"white\", \"showbackground\": true, \"ticks\": \"\", \"zerolinecolor\": \"white\"}}, \"shapedefaults\": {\"line\": {\"color\": \"#2a3f5f\"}}, \"ternary\": {\"aaxis\": {\"gridcolor\": \"white\", \"linecolor\": \"white\", \"ticks\": \"\"}, \"baxis\": {\"gridcolor\": \"white\", \"linecolor\": \"white\", \"ticks\": \"\"}, \"bgcolor\": \"#E5ECF6\", \"caxis\": {\"gridcolor\": \"white\", \"linecolor\": \"white\", \"ticks\": \"\"}}, \"title\": {\"x\": 0.05}, \"xaxis\": {\"automargin\": true, \"gridcolor\": \"white\", \"linecolor\": \"white\", \"ticks\": \"\", \"title\": {\"standoff\": 15}, \"zerolinecolor\": \"white\", \"zerolinewidth\": 2}, \"yaxis\": {\"automargin\": true, \"gridcolor\": \"white\", \"linecolor\": \"white\", \"ticks\": \"\", \"title\": {\"standoff\": 15}, \"zerolinecolor\": \"white\", \"zerolinewidth\": 2}}}},                        {\"responsive\": true}                    ).then(function(){\n",
       "                            \n",
       "var gd = document.getElementById('2cd778e7-6c55-415a-b0dc-141f660ebcd7');\n",
       "var x = new MutationObserver(function (mutations, observer) {{\n",
       "        var display = window.getComputedStyle(gd).display;\n",
       "        if (!display || display === 'none') {{\n",
       "            console.log([gd, 'removed!']);\n",
       "            Plotly.purge(gd);\n",
       "            observer.disconnect();\n",
       "        }}\n",
       "}});\n",
       "\n",
       "// Listen for the removal of the full notebook cells\n",
       "var notebookContainer = gd.closest('#notebook-container');\n",
       "if (notebookContainer) {{\n",
       "    x.observe(notebookContainer, {childList: true});\n",
       "}}\n",
       "\n",
       "// Listen for the clearing of the current output cell\n",
       "var outputEl = gd.closest('.output');\n",
       "if (outputEl) {{\n",
       "    x.observe(outputEl, {childList: true});\n",
       "}}\n",
       "\n",
       "                        })                };                });            </script>        </div>"
      ]
     },
     "metadata": {},
     "output_type": "display_data"
    }
   ],
   "source": [
    "fig_fc = go.Figure()\n",
    "\n",
    "fig_fc.add_trace(go.Scatter(x=results_df.index, y = results_df['power'], name = 'actual'))\n",
    "fig_fc.add_trace(go.Scatter(x=results_df.index, y = results_df['fc'], name = 'fc'))\n",
    "\n",
    "fig_fc.show()"
   ]
  }
 ],
 "metadata": {
  "kernelspec": {
   "display_name": "Python 3",
   "language": "python",
   "name": "python3"
  },
  "language_info": {
   "codemirror_mode": {
    "name": "ipython",
    "version": 3
   },
   "file_extension": ".py",
   "mimetype": "text/x-python",
   "name": "python",
   "nbconvert_exporter": "python",
   "pygments_lexer": "ipython3",
   "version": "3.8.6"
  }
 },
 "nbformat": 4,
 "nbformat_minor": 5
}
