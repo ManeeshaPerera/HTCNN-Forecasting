{
 "cells": [
  {
   "cell_type": "markdown",
   "metadata": {
    "collapsed": true
   },
   "source": [
    "## LSTM and CNN results comparison"
   ]
  },
  {
   "cell_type": "markdown",
   "metadata": {},
   "source": [
    "1. We will first calculate the error for each time series\n",
    "2. Then we will calculate the error for each level in the hierarchy\n",
    "3. Then we will calculate get the forecasts at the grid level\n",
    "4. Finally we will calculate the error for the grid level"
   ]
  },
  {
   "cell_type": "code",
   "execution_count": 1,
   "metadata": {},
   "outputs": [],
   "source": [
    "import sys\n",
    "sys.path.insert(0, '../')\n",
    "\n",
    "import src.utils as util\n",
    "import src.calculate_errors as err\n",
    "import constants as const\n",
    "\n",
    "%load_ext autoreload\n",
    "%autoreload 2"
   ]
  },
  {
   "cell_type": "code",
   "execution_count": 2,
   "metadata": {},
   "outputs": [
    {
     "data": {
      "text/html": [
       "        <script type=\"text/javascript\">\n",
       "        window.PlotlyConfig = {MathJaxConfig: 'local'};\n",
       "        if (window.MathJax) {MathJax.Hub.Config({SVG: {font: \"STIX-Web\"}});}\n",
       "        if (typeof require !== 'undefined') {\n",
       "        require.undef(\"plotly\");\n",
       "        requirejs.config({\n",
       "            paths: {\n",
       "                'plotly': ['https://cdn.plot.ly/plotly-latest.min']\n",
       "            }\n",
       "        });\n",
       "        require(['plotly'], function(Plotly) {\n",
       "            window._Plotly = Plotly;\n",
       "        });\n",
       "        }\n",
       "        </script>\n",
       "        "
      ]
     },
     "metadata": {},
     "output_type": "display_data"
    }
   ],
   "source": [
    "import plotly.graph_objs as go\n",
    "from plotly.offline import init_notebook_mode, iplot\n",
    "init_notebook_mode(connected=True)"
   ]
  },
  {
   "cell_type": "code",
   "execution_count": 3,
   "metadata": {},
   "outputs": [],
   "source": [
    "import pandas as pd\n",
    "import numpy as np"
   ]
  },
  {
   "cell_type": "code",
   "execution_count": 4,
   "metadata": {},
   "outputs": [],
   "source": [
    "def calculate_errors_per_ts(model_path, ts):\n",
    "    data = pd.read_csv(f'../ts_data/{ts}.csv', index_col=[0])\n",
    "    look_back = 14 * 7  # 14 hours in to 7 days\n",
    "\n",
    "    # train, val, test split\n",
    "    train, val, test = util.split_hourly_data(data, look_back)\n",
    "    train_df = train[['power']]\n",
    "    denom = err.calculate_denom(train_df, const.H_SEASONALITY)\n",
    "    \n",
    "    results_df = pd.read_csv(f'../{model_path}/final_results/{ts}.csv', index_col=[0])\n",
    "    test_sample = results_df[['power']].values\n",
    "    forecasts = results_df[['average_fc']].values\n",
    "    horizon = 14\n",
    "    \n",
    "    mean_mase, error_dist = err.test_errors(train_df, test_sample, forecasts, horizon, const.H_SEASONALITY, denom)\n",
    "    return mean_mase, error_dist"
   ]
  },
  {
   "cell_type": "code",
   "execution_count": 5,
   "metadata": {},
   "outputs": [],
   "source": [
    "def get_results_ts(model_path):\n",
    "    ts_mase = {}\n",
    "    ts_dist_err = {}\n",
    "    mase_vals = []\n",
    "\n",
    "    for ts in const.TS:\n",
    "        mean_mase_ts, ts_dist = calculate_errors_per_ts(model_path, ts)\n",
    "        ts_dist_err[ts] = ts_dist\n",
    "        ts_mase[ts] = mean_mase_ts\n",
    "        mase_vals.append(mean_mase_ts)\n",
    "    return ts_mase, ts_dist_err, mase_vals"
   ]
  },
  {
   "cell_type": "code",
   "execution_count": 6,
   "metadata": {},
   "outputs": [],
   "source": [
    "lstm_mase_ts, lstm_dist_ts, mase_vals_lstm = get_results_ts('lstm_results')"
   ]
  },
  {
   "cell_type": "code",
   "execution_count": 7,
   "metadata": {},
   "outputs": [],
   "source": [
    "# tcn_mase_ts, tcn_dist_ts, mase_vals_cnn = get_results_ts('cnn_results/tcn')\n",
    "\n",
    "tcn_mase_ts, tcn_dist_ts, mase_vals_cnn = get_results_ts('cnn_results/tcn_new/dilation_2')"
   ]
  },
  {
   "cell_type": "code",
   "execution_count": 8,
   "metadata": {},
   "outputs": [],
   "source": [
    "tcn2_mase_ts, tcn2_dist_ts, mase_vals_cnn2 = get_results_ts('cnn_results/tcn_new/filter_64')"
   ]
  },
  {
   "cell_type": "code",
   "execution_count": 18,
   "metadata": {},
   "outputs": [],
   "source": [
    "lstm2_mase_ts, lstm2_dist_ts, mase_vals_lstm2 = get_results_ts('lstm_results/lstm2')"
   ]
  },
  {
   "cell_type": "code",
   "execution_count": 107,
   "metadata": {},
   "outputs": [],
   "source": [
    "# tcn_d3_mase_ts, tcn_d3_dist_ts, mase_vals_cnn_d3 = get_results_ts('cnn_results/tcn/dilation_3')"
   ]
  },
  {
   "cell_type": "code",
   "execution_count": 108,
   "metadata": {},
   "outputs": [],
   "source": [
    "# tcn_d1_mase_ts, tcn_d1_dist_ts, mase_vals_cnn_d1 = get_results_ts('cnn_results/tcn/dilation_1')"
   ]
  },
  {
   "cell_type": "markdown",
   "metadata": {},
   "source": [
    "plot error in chart"
   ]
  },
  {
   "cell_type": "code",
   "execution_count": 19,
   "metadata": {},
   "outputs": [
    {
     "data": {
      "application/vnd.plotly.v1+json": {
       "config": {
        "plotlyServerURL": "https://plot.ly"
       },
       "data": [
        {
         "name": "LSTM",
         "type": "bar",
         "x": [
          "grid",
          "tline_1",
          "tline_2",
          "substation1",
          "substation2",
          "substation3",
          "substation4",
          6010,
          6014,
          6011,
          6280,
          6281,
          6284,
          "1295864320",
          "1247421966",
          "2107373071",
          "2009066518",
          "972102295",
          "1616571925",
          "806187417",
          "771513244",
          "1562145181",
          "896338719",
          "1113196323",
          "1597760039",
          "317532327",
          "346061612",
          "40333612",
          "511723709",
          "1004972352",
          "143824576",
          "368424646",
          "1428227531",
          "2040495184",
          "1893337300",
          "2117861717",
          "1941427679",
          "1708098535",
          "456209269"
         ],
         "y": [
          1.4682344822944209,
          0.9512451452747785,
          1.553704475135833,
          0.961249295153769,
          0.9062447799657871,
          1.4653248376913632,
          0.8942132689732358,
          0.6472148625791622,
          0.7748558731346002,
          0.6532872397184609,
          1.3770451919754874,
          0.7291093683051114,
          0.6910331358801165,
          1.1669607864961162,
          0.622505812425143,
          0.993990297241863,
          0.8574778015595312,
          0.7153250058828022,
          1.5697231409685162,
          0.6524394652996871,
          0.6880878193185755,
          0.7624896455170874,
          0.5666010912496755,
          0.9811432563448539,
          0.7455937102482921,
          0.9995331793033206,
          1.0258112351625865,
          0.6131515789968796,
          0.7200521320834619,
          0.7688006994947587,
          0.6600727119942308,
          1.772514519716918,
          0.9105491268230534,
          0.8199928000607641,
          0.7433133005639432,
          0.5848656267927465,
          0.8893713042907506,
          0.6538757842843324,
          0.6332925857389143
         ]
        },
        {
         "name": "LSTM-2",
         "type": "bar",
         "x": [
          "grid",
          "tline_1",
          "tline_2",
          "substation1",
          "substation2",
          "substation3",
          "substation4",
          6010,
          6014,
          6011,
          6280,
          6281,
          6284,
          "1295864320",
          "1247421966",
          "2107373071",
          "2009066518",
          "972102295",
          "1616571925",
          "806187417",
          "771513244",
          "1562145181",
          "896338719",
          "1113196323",
          "1597760039",
          "317532327",
          "346061612",
          "40333612",
          "511723709",
          "1004972352",
          "143824576",
          "368424646",
          "1428227531",
          "2040495184",
          "1893337300",
          "2117861717",
          "1941427679",
          "1708098535",
          "456209269"
         ],
         "y": [
          1.4063437587113607,
          0.9698785222419419,
          1.4222512654969524,
          0.9939677178107823,
          0.9629042423742986,
          1.4730737095677808,
          0.934367101955971,
          0.7667234676813188,
          0.9281008538564777,
          0.777611665135619,
          1.4127927251927117,
          0.8372643707311245,
          0.860738931012206,
          1.2281786525316711,
          0.693247825157955,
          1.1132121634149694,
          0.8486664823017249,
          0.7759275268992917,
          1.7572557877907302,
          0.7005608098053386,
          0.7542845573180418,
          0.8799476805650702,
          0.6589648225064775,
          0.9346015273451438,
          0.7890758558413341,
          0.9393874915256326,
          1.11858190181552,
          0.7446991019615401,
          0.8949315974723062,
          0.8108456276948379,
          0.7486363124635688,
          1.9659348636245808,
          0.9949614965074619,
          0.9219771047310021,
          0.8996485912785843,
          0.6974584410471034,
          1.0471158848305209,
          0.728503952791157,
          0.7701866659672161
         ]
        },
        {
         "name": "Dilated Convolutions (Rate - 2)",
         "type": "bar",
         "x": [
          "grid",
          "tline_1",
          "tline_2",
          "substation1",
          "substation2",
          "substation3",
          "substation4",
          6010,
          6014,
          6011,
          6280,
          6281,
          6284,
          "1295864320",
          "1247421966",
          "2107373071",
          "2009066518",
          "972102295",
          "1616571925",
          "806187417",
          "771513244",
          "1562145181",
          "896338719",
          "1113196323",
          "1597760039",
          "317532327",
          "346061612",
          "40333612",
          "511723709",
          "1004972352",
          "143824576",
          "368424646",
          "1428227531",
          "2040495184",
          "1893337300",
          "2117861717",
          "1941427679",
          "1708098535",
          "456209269"
         ],
         "y": [
          1.150048520316878,
          1.0123789832675563,
          1.1732462406399549,
          1.030460780565586,
          0.9553671053970891,
          1.1816071429811281,
          0.9051595035716937,
          1.287259693000848,
          1.5207506266283362,
          1.3078618352675369,
          1.2875553488256937,
          1.0295719774841272,
          1.36001336158666,
          1.3553963475957234,
          1.260018710608726,
          1.6291137246740444,
          1.1823647167102997,
          1.0116542171173064,
          1.1735850025794003,
          1.2960017958363417,
          1.2582642063792202,
          1.1643436052516,
          1.1334645100978722,
          1.1581173261208388,
          1.1038358456020354,
          1.1709278607185525,
          1.609004956550384,
          1.273070472531645,
          1.577064965683948,
          1.2102623373316757,
          1.1986142809962137,
          1.4546550937105769,
          1.1388636805413086,
          1.1131016622945262,
          1.3007105947418494,
          1.2105087792939393,
          1.7799399741969306,
          1.3312273386714046,
          1.3538787774111778
         ]
        },
        {
         "name": "Dilated Convolutions (Filter - 64)",
         "type": "bar",
         "x": [
          "grid",
          "tline_1",
          "tline_2",
          "substation1",
          "substation2",
          "substation3",
          "substation4",
          6010,
          6014,
          6011,
          6280,
          6281,
          6284,
          "1295864320",
          "1247421966",
          "2107373071",
          "2009066518",
          "972102295",
          "1616571925",
          "806187417",
          "771513244",
          "1562145181",
          "896338719",
          "1113196323",
          "1597760039",
          "317532327",
          "346061612",
          "40333612",
          "511723709",
          "1004972352",
          "143824576",
          "368424646",
          "1428227531",
          "2040495184",
          "1893337300",
          "2117861717",
          "1941427679",
          "1708098535",
          "456209269"
         ],
         "y": [
          1.1519216428468821,
          1.0123505603237202,
          1.1811675157502364,
          1.0247276869553765,
          0.9495797974604163,
          1.1916938565228667,
          0.9044995426510256,
          1.2721828761180252,
          1.6010585994854614,
          1.2929243735589997,
          1.3540922052026334,
          1.0329758535989184,
          1.3140064537124556,
          1.4190918982974368,
          1.2505441096918943,
          1.6674363473386355,
          1.2116358392700737,
          1.0492389707825498,
          1.2055518273240102,
          1.269151616341822,
          1.2015613747724638,
          1.2008060249156065,
          1.1392047789322515,
          1.157926744322473,
          1.067932706245614,
          1.2189624110670616,
          1.6448971882992265,
          1.3145724765935194,
          1.561133910809661,
          1.1846048376467515,
          1.1771099941869358,
          1.4787136384020374,
          1.1518412542662857,
          1.1826837083623802,
          1.3501086529337685,
          1.193448356771577,
          1.7578184858728878,
          1.2973518817215874,
          1.350487704605166
         ]
        }
       ],
       "layout": {
        "barmode": "group",
        "template": {
         "data": {
          "bar": [
           {
            "error_x": {
             "color": "#2a3f5f"
            },
            "error_y": {
             "color": "#2a3f5f"
            },
            "marker": {
             "line": {
              "color": "#E5ECF6",
              "width": 0.5
             }
            },
            "type": "bar"
           }
          ],
          "barpolar": [
           {
            "marker": {
             "line": {
              "color": "#E5ECF6",
              "width": 0.5
             }
            },
            "type": "barpolar"
           }
          ],
          "carpet": [
           {
            "aaxis": {
             "endlinecolor": "#2a3f5f",
             "gridcolor": "white",
             "linecolor": "white",
             "minorgridcolor": "white",
             "startlinecolor": "#2a3f5f"
            },
            "baxis": {
             "endlinecolor": "#2a3f5f",
             "gridcolor": "white",
             "linecolor": "white",
             "minorgridcolor": "white",
             "startlinecolor": "#2a3f5f"
            },
            "type": "carpet"
           }
          ],
          "choropleth": [
           {
            "colorbar": {
             "outlinewidth": 0,
             "ticks": ""
            },
            "type": "choropleth"
           }
          ],
          "contour": [
           {
            "colorbar": {
             "outlinewidth": 0,
             "ticks": ""
            },
            "colorscale": [
             [
              0,
              "#0d0887"
             ],
             [
              0.1111111111111111,
              "#46039f"
             ],
             [
              0.2222222222222222,
              "#7201a8"
             ],
             [
              0.3333333333333333,
              "#9c179e"
             ],
             [
              0.4444444444444444,
              "#bd3786"
             ],
             [
              0.5555555555555556,
              "#d8576b"
             ],
             [
              0.6666666666666666,
              "#ed7953"
             ],
             [
              0.7777777777777778,
              "#fb9f3a"
             ],
             [
              0.8888888888888888,
              "#fdca26"
             ],
             [
              1,
              "#f0f921"
             ]
            ],
            "type": "contour"
           }
          ],
          "contourcarpet": [
           {
            "colorbar": {
             "outlinewidth": 0,
             "ticks": ""
            },
            "type": "contourcarpet"
           }
          ],
          "heatmap": [
           {
            "colorbar": {
             "outlinewidth": 0,
             "ticks": ""
            },
            "colorscale": [
             [
              0,
              "#0d0887"
             ],
             [
              0.1111111111111111,
              "#46039f"
             ],
             [
              0.2222222222222222,
              "#7201a8"
             ],
             [
              0.3333333333333333,
              "#9c179e"
             ],
             [
              0.4444444444444444,
              "#bd3786"
             ],
             [
              0.5555555555555556,
              "#d8576b"
             ],
             [
              0.6666666666666666,
              "#ed7953"
             ],
             [
              0.7777777777777778,
              "#fb9f3a"
             ],
             [
              0.8888888888888888,
              "#fdca26"
             ],
             [
              1,
              "#f0f921"
             ]
            ],
            "type": "heatmap"
           }
          ],
          "heatmapgl": [
           {
            "colorbar": {
             "outlinewidth": 0,
             "ticks": ""
            },
            "colorscale": [
             [
              0,
              "#0d0887"
             ],
             [
              0.1111111111111111,
              "#46039f"
             ],
             [
              0.2222222222222222,
              "#7201a8"
             ],
             [
              0.3333333333333333,
              "#9c179e"
             ],
             [
              0.4444444444444444,
              "#bd3786"
             ],
             [
              0.5555555555555556,
              "#d8576b"
             ],
             [
              0.6666666666666666,
              "#ed7953"
             ],
             [
              0.7777777777777778,
              "#fb9f3a"
             ],
             [
              0.8888888888888888,
              "#fdca26"
             ],
             [
              1,
              "#f0f921"
             ]
            ],
            "type": "heatmapgl"
           }
          ],
          "histogram": [
           {
            "marker": {
             "colorbar": {
              "outlinewidth": 0,
              "ticks": ""
             }
            },
            "type": "histogram"
           }
          ],
          "histogram2d": [
           {
            "colorbar": {
             "outlinewidth": 0,
             "ticks": ""
            },
            "colorscale": [
             [
              0,
              "#0d0887"
             ],
             [
              0.1111111111111111,
              "#46039f"
             ],
             [
              0.2222222222222222,
              "#7201a8"
             ],
             [
              0.3333333333333333,
              "#9c179e"
             ],
             [
              0.4444444444444444,
              "#bd3786"
             ],
             [
              0.5555555555555556,
              "#d8576b"
             ],
             [
              0.6666666666666666,
              "#ed7953"
             ],
             [
              0.7777777777777778,
              "#fb9f3a"
             ],
             [
              0.8888888888888888,
              "#fdca26"
             ],
             [
              1,
              "#f0f921"
             ]
            ],
            "type": "histogram2d"
           }
          ],
          "histogram2dcontour": [
           {
            "colorbar": {
             "outlinewidth": 0,
             "ticks": ""
            },
            "colorscale": [
             [
              0,
              "#0d0887"
             ],
             [
              0.1111111111111111,
              "#46039f"
             ],
             [
              0.2222222222222222,
              "#7201a8"
             ],
             [
              0.3333333333333333,
              "#9c179e"
             ],
             [
              0.4444444444444444,
              "#bd3786"
             ],
             [
              0.5555555555555556,
              "#d8576b"
             ],
             [
              0.6666666666666666,
              "#ed7953"
             ],
             [
              0.7777777777777778,
              "#fb9f3a"
             ],
             [
              0.8888888888888888,
              "#fdca26"
             ],
             [
              1,
              "#f0f921"
             ]
            ],
            "type": "histogram2dcontour"
           }
          ],
          "mesh3d": [
           {
            "colorbar": {
             "outlinewidth": 0,
             "ticks": ""
            },
            "type": "mesh3d"
           }
          ],
          "parcoords": [
           {
            "line": {
             "colorbar": {
              "outlinewidth": 0,
              "ticks": ""
             }
            },
            "type": "parcoords"
           }
          ],
          "pie": [
           {
            "automargin": true,
            "type": "pie"
           }
          ],
          "scatter": [
           {
            "marker": {
             "colorbar": {
              "outlinewidth": 0,
              "ticks": ""
             }
            },
            "type": "scatter"
           }
          ],
          "scatter3d": [
           {
            "line": {
             "colorbar": {
              "outlinewidth": 0,
              "ticks": ""
             }
            },
            "marker": {
             "colorbar": {
              "outlinewidth": 0,
              "ticks": ""
             }
            },
            "type": "scatter3d"
           }
          ],
          "scattercarpet": [
           {
            "marker": {
             "colorbar": {
              "outlinewidth": 0,
              "ticks": ""
             }
            },
            "type": "scattercarpet"
           }
          ],
          "scattergeo": [
           {
            "marker": {
             "colorbar": {
              "outlinewidth": 0,
              "ticks": ""
             }
            },
            "type": "scattergeo"
           }
          ],
          "scattergl": [
           {
            "marker": {
             "colorbar": {
              "outlinewidth": 0,
              "ticks": ""
             }
            },
            "type": "scattergl"
           }
          ],
          "scattermapbox": [
           {
            "marker": {
             "colorbar": {
              "outlinewidth": 0,
              "ticks": ""
             }
            },
            "type": "scattermapbox"
           }
          ],
          "scatterpolar": [
           {
            "marker": {
             "colorbar": {
              "outlinewidth": 0,
              "ticks": ""
             }
            },
            "type": "scatterpolar"
           }
          ],
          "scatterpolargl": [
           {
            "marker": {
             "colorbar": {
              "outlinewidth": 0,
              "ticks": ""
             }
            },
            "type": "scatterpolargl"
           }
          ],
          "scatterternary": [
           {
            "marker": {
             "colorbar": {
              "outlinewidth": 0,
              "ticks": ""
             }
            },
            "type": "scatterternary"
           }
          ],
          "surface": [
           {
            "colorbar": {
             "outlinewidth": 0,
             "ticks": ""
            },
            "colorscale": [
             [
              0,
              "#0d0887"
             ],
             [
              0.1111111111111111,
              "#46039f"
             ],
             [
              0.2222222222222222,
              "#7201a8"
             ],
             [
              0.3333333333333333,
              "#9c179e"
             ],
             [
              0.4444444444444444,
              "#bd3786"
             ],
             [
              0.5555555555555556,
              "#d8576b"
             ],
             [
              0.6666666666666666,
              "#ed7953"
             ],
             [
              0.7777777777777778,
              "#fb9f3a"
             ],
             [
              0.8888888888888888,
              "#fdca26"
             ],
             [
              1,
              "#f0f921"
             ]
            ],
            "type": "surface"
           }
          ],
          "table": [
           {
            "cells": {
             "fill": {
              "color": "#EBF0F8"
             },
             "line": {
              "color": "white"
             }
            },
            "header": {
             "fill": {
              "color": "#C8D4E3"
             },
             "line": {
              "color": "white"
             }
            },
            "type": "table"
           }
          ]
         },
         "layout": {
          "annotationdefaults": {
           "arrowcolor": "#2a3f5f",
           "arrowhead": 0,
           "arrowwidth": 1
          },
          "autotypenumbers": "strict",
          "coloraxis": {
           "colorbar": {
            "outlinewidth": 0,
            "ticks": ""
           }
          },
          "colorscale": {
           "diverging": [
            [
             0,
             "#8e0152"
            ],
            [
             0.1,
             "#c51b7d"
            ],
            [
             0.2,
             "#de77ae"
            ],
            [
             0.3,
             "#f1b6da"
            ],
            [
             0.4,
             "#fde0ef"
            ],
            [
             0.5,
             "#f7f7f7"
            ],
            [
             0.6,
             "#e6f5d0"
            ],
            [
             0.7,
             "#b8e186"
            ],
            [
             0.8,
             "#7fbc41"
            ],
            [
             0.9,
             "#4d9221"
            ],
            [
             1,
             "#276419"
            ]
           ],
           "sequential": [
            [
             0,
             "#0d0887"
            ],
            [
             0.1111111111111111,
             "#46039f"
            ],
            [
             0.2222222222222222,
             "#7201a8"
            ],
            [
             0.3333333333333333,
             "#9c179e"
            ],
            [
             0.4444444444444444,
             "#bd3786"
            ],
            [
             0.5555555555555556,
             "#d8576b"
            ],
            [
             0.6666666666666666,
             "#ed7953"
            ],
            [
             0.7777777777777778,
             "#fb9f3a"
            ],
            [
             0.8888888888888888,
             "#fdca26"
            ],
            [
             1,
             "#f0f921"
            ]
           ],
           "sequentialminus": [
            [
             0,
             "#0d0887"
            ],
            [
             0.1111111111111111,
             "#46039f"
            ],
            [
             0.2222222222222222,
             "#7201a8"
            ],
            [
             0.3333333333333333,
             "#9c179e"
            ],
            [
             0.4444444444444444,
             "#bd3786"
            ],
            [
             0.5555555555555556,
             "#d8576b"
            ],
            [
             0.6666666666666666,
             "#ed7953"
            ],
            [
             0.7777777777777778,
             "#fb9f3a"
            ],
            [
             0.8888888888888888,
             "#fdca26"
            ],
            [
             1,
             "#f0f921"
            ]
           ]
          },
          "colorway": [
           "#636efa",
           "#EF553B",
           "#00cc96",
           "#ab63fa",
           "#FFA15A",
           "#19d3f3",
           "#FF6692",
           "#B6E880",
           "#FF97FF",
           "#FECB52"
          ],
          "font": {
           "color": "#2a3f5f"
          },
          "geo": {
           "bgcolor": "white",
           "lakecolor": "white",
           "landcolor": "#E5ECF6",
           "showlakes": true,
           "showland": true,
           "subunitcolor": "white"
          },
          "hoverlabel": {
           "align": "left"
          },
          "hovermode": "closest",
          "mapbox": {
           "style": "light"
          },
          "paper_bgcolor": "white",
          "plot_bgcolor": "#E5ECF6",
          "polar": {
           "angularaxis": {
            "gridcolor": "white",
            "linecolor": "white",
            "ticks": ""
           },
           "bgcolor": "#E5ECF6",
           "radialaxis": {
            "gridcolor": "white",
            "linecolor": "white",
            "ticks": ""
           }
          },
          "scene": {
           "xaxis": {
            "backgroundcolor": "#E5ECF6",
            "gridcolor": "white",
            "gridwidth": 2,
            "linecolor": "white",
            "showbackground": true,
            "ticks": "",
            "zerolinecolor": "white"
           },
           "yaxis": {
            "backgroundcolor": "#E5ECF6",
            "gridcolor": "white",
            "gridwidth": 2,
            "linecolor": "white",
            "showbackground": true,
            "ticks": "",
            "zerolinecolor": "white"
           },
           "zaxis": {
            "backgroundcolor": "#E5ECF6",
            "gridcolor": "white",
            "gridwidth": 2,
            "linecolor": "white",
            "showbackground": true,
            "ticks": "",
            "zerolinecolor": "white"
           }
          },
          "shapedefaults": {
           "line": {
            "color": "#2a3f5f"
           }
          },
          "ternary": {
           "aaxis": {
            "gridcolor": "white",
            "linecolor": "white",
            "ticks": ""
           },
           "baxis": {
            "gridcolor": "white",
            "linecolor": "white",
            "ticks": ""
           },
           "bgcolor": "#E5ECF6",
           "caxis": {
            "gridcolor": "white",
            "linecolor": "white",
            "ticks": ""
           }
          },
          "title": {
           "x": 0.05
          },
          "xaxis": {
           "automargin": true,
           "gridcolor": "white",
           "linecolor": "white",
           "ticks": "",
           "title": {
            "standoff": 15
           },
           "zerolinecolor": "white",
           "zerolinewidth": 2
          },
          "yaxis": {
           "automargin": true,
           "gridcolor": "white",
           "linecolor": "white",
           "ticks": "",
           "title": {
            "standoff": 15
           },
           "zerolinecolor": "white",
           "zerolinewidth": 2
          }
         }
        },
        "title": {
         "text": "Mean MASE - 36 samples (1 day ahead - 1 hour resolution)"
        }
       }
      },
      "text/html": [
       "<div>                            <div id=\"87f080fa-e93d-441f-89ed-cc1c165fca57\" class=\"plotly-graph-div\" style=\"height:525px; width:100%;\"></div>            <script type=\"text/javascript\">                require([\"plotly\"], function(Plotly) {                    window.PLOTLYENV=window.PLOTLYENV || {};                                    if (document.getElementById(\"87f080fa-e93d-441f-89ed-cc1c165fca57\")) {                    Plotly.newPlot(                        \"87f080fa-e93d-441f-89ed-cc1c165fca57\",                        [{\"name\": \"LSTM\", \"type\": \"bar\", \"x\": [\"grid\", \"tline_1\", \"tline_2\", \"substation1\", \"substation2\", \"substation3\", \"substation4\", 6010, 6014, 6011, 6280, 6281, 6284, \"1295864320\", \"1247421966\", \"2107373071\", \"2009066518\", \"972102295\", \"1616571925\", \"806187417\", \"771513244\", \"1562145181\", \"896338719\", \"1113196323\", \"1597760039\", \"317532327\", \"346061612\", \"40333612\", \"511723709\", \"1004972352\", \"143824576\", \"368424646\", \"1428227531\", \"2040495184\", \"1893337300\", \"2117861717\", \"1941427679\", \"1708098535\", \"456209269\"], \"y\": [1.4682344822944209, 0.9512451452747785, 1.553704475135833, 0.961249295153769, 0.9062447799657871, 1.4653248376913632, 0.8942132689732358, 0.6472148625791622, 0.7748558731346002, 0.6532872397184609, 1.3770451919754874, 0.7291093683051114, 0.6910331358801165, 1.1669607864961162, 0.622505812425143, 0.993990297241863, 0.8574778015595312, 0.7153250058828022, 1.5697231409685162, 0.6524394652996871, 0.6880878193185755, 0.7624896455170874, 0.5666010912496755, 0.9811432563448539, 0.7455937102482921, 0.9995331793033206, 1.0258112351625865, 0.6131515789968796, 0.7200521320834619, 0.7688006994947587, 0.6600727119942308, 1.772514519716918, 0.9105491268230534, 0.8199928000607641, 0.7433133005639432, 0.5848656267927465, 0.8893713042907506, 0.6538757842843324, 0.6332925857389143]}, {\"name\": \"LSTM-2\", \"type\": \"bar\", \"x\": [\"grid\", \"tline_1\", \"tline_2\", \"substation1\", \"substation2\", \"substation3\", \"substation4\", 6010, 6014, 6011, 6280, 6281, 6284, \"1295864320\", \"1247421966\", \"2107373071\", \"2009066518\", \"972102295\", \"1616571925\", \"806187417\", \"771513244\", \"1562145181\", \"896338719\", \"1113196323\", \"1597760039\", \"317532327\", \"346061612\", \"40333612\", \"511723709\", \"1004972352\", \"143824576\", \"368424646\", \"1428227531\", \"2040495184\", \"1893337300\", \"2117861717\", \"1941427679\", \"1708098535\", \"456209269\"], \"y\": [1.4063437587113607, 0.9698785222419419, 1.4222512654969524, 0.9939677178107823, 0.9629042423742986, 1.4730737095677808, 0.934367101955971, 0.7667234676813188, 0.9281008538564777, 0.777611665135619, 1.4127927251927117, 0.8372643707311245, 0.860738931012206, 1.2281786525316711, 0.693247825157955, 1.1132121634149694, 0.8486664823017249, 0.7759275268992917, 1.7572557877907302, 0.7005608098053386, 0.7542845573180418, 0.8799476805650702, 0.6589648225064775, 0.9346015273451438, 0.7890758558413341, 0.9393874915256326, 1.11858190181552, 0.7446991019615401, 0.8949315974723062, 0.8108456276948379, 0.7486363124635688, 1.9659348636245808, 0.9949614965074619, 0.9219771047310021, 0.8996485912785843, 0.6974584410471034, 1.0471158848305209, 0.728503952791157, 0.7701866659672161]}, {\"name\": \"Dilated Convolutions (Rate - 2)\", \"type\": \"bar\", \"x\": [\"grid\", \"tline_1\", \"tline_2\", \"substation1\", \"substation2\", \"substation3\", \"substation4\", 6010, 6014, 6011, 6280, 6281, 6284, \"1295864320\", \"1247421966\", \"2107373071\", \"2009066518\", \"972102295\", \"1616571925\", \"806187417\", \"771513244\", \"1562145181\", \"896338719\", \"1113196323\", \"1597760039\", \"317532327\", \"346061612\", \"40333612\", \"511723709\", \"1004972352\", \"143824576\", \"368424646\", \"1428227531\", \"2040495184\", \"1893337300\", \"2117861717\", \"1941427679\", \"1708098535\", \"456209269\"], \"y\": [1.150048520316878, 1.0123789832675563, 1.1732462406399549, 1.030460780565586, 0.9553671053970891, 1.1816071429811281, 0.9051595035716937, 1.287259693000848, 1.5207506266283362, 1.3078618352675369, 1.2875553488256937, 1.0295719774841272, 1.36001336158666, 1.3553963475957234, 1.260018710608726, 1.6291137246740444, 1.1823647167102997, 1.0116542171173064, 1.1735850025794003, 1.2960017958363417, 1.2582642063792202, 1.1643436052516, 1.1334645100978722, 1.1581173261208388, 1.1038358456020354, 1.1709278607185525, 1.609004956550384, 1.273070472531645, 1.577064965683948, 1.2102623373316757, 1.1986142809962137, 1.4546550937105769, 1.1388636805413086, 1.1131016622945262, 1.3007105947418494, 1.2105087792939393, 1.7799399741969306, 1.3312273386714046, 1.3538787774111778]}, {\"name\": \"Dilated Convolutions (Filter - 64)\", \"type\": \"bar\", \"x\": [\"grid\", \"tline_1\", \"tline_2\", \"substation1\", \"substation2\", \"substation3\", \"substation4\", 6010, 6014, 6011, 6280, 6281, 6284, \"1295864320\", \"1247421966\", \"2107373071\", \"2009066518\", \"972102295\", \"1616571925\", \"806187417\", \"771513244\", \"1562145181\", \"896338719\", \"1113196323\", \"1597760039\", \"317532327\", \"346061612\", \"40333612\", \"511723709\", \"1004972352\", \"143824576\", \"368424646\", \"1428227531\", \"2040495184\", \"1893337300\", \"2117861717\", \"1941427679\", \"1708098535\", \"456209269\"], \"y\": [1.1519216428468821, 1.0123505603237202, 1.1811675157502364, 1.0247276869553765, 0.9495797974604163, 1.1916938565228667, 0.9044995426510256, 1.2721828761180252, 1.6010585994854614, 1.2929243735589997, 1.3540922052026334, 1.0329758535989184, 1.3140064537124556, 1.4190918982974368, 1.2505441096918943, 1.6674363473386355, 1.2116358392700737, 1.0492389707825498, 1.2055518273240102, 1.269151616341822, 1.2015613747724638, 1.2008060249156065, 1.1392047789322515, 1.157926744322473, 1.067932706245614, 1.2189624110670616, 1.6448971882992265, 1.3145724765935194, 1.561133910809661, 1.1846048376467515, 1.1771099941869358, 1.4787136384020374, 1.1518412542662857, 1.1826837083623802, 1.3501086529337685, 1.193448356771577, 1.7578184858728878, 1.2973518817215874, 1.350487704605166]}],                        {\"barmode\": \"group\", \"template\": {\"data\": {\"bar\": [{\"error_x\": {\"color\": \"#2a3f5f\"}, \"error_y\": {\"color\": \"#2a3f5f\"}, \"marker\": {\"line\": {\"color\": \"#E5ECF6\", \"width\": 0.5}}, \"type\": \"bar\"}], \"barpolar\": [{\"marker\": {\"line\": {\"color\": \"#E5ECF6\", \"width\": 0.5}}, \"type\": \"barpolar\"}], \"carpet\": [{\"aaxis\": {\"endlinecolor\": \"#2a3f5f\", \"gridcolor\": \"white\", \"linecolor\": \"white\", \"minorgridcolor\": \"white\", \"startlinecolor\": \"#2a3f5f\"}, \"baxis\": {\"endlinecolor\": \"#2a3f5f\", \"gridcolor\": \"white\", \"linecolor\": \"white\", \"minorgridcolor\": \"white\", \"startlinecolor\": \"#2a3f5f\"}, \"type\": \"carpet\"}], \"choropleth\": [{\"colorbar\": {\"outlinewidth\": 0, \"ticks\": \"\"}, \"type\": \"choropleth\"}], \"contour\": [{\"colorbar\": {\"outlinewidth\": 0, \"ticks\": \"\"}, \"colorscale\": [[0.0, \"#0d0887\"], [0.1111111111111111, \"#46039f\"], [0.2222222222222222, \"#7201a8\"], [0.3333333333333333, \"#9c179e\"], [0.4444444444444444, \"#bd3786\"], [0.5555555555555556, \"#d8576b\"], [0.6666666666666666, \"#ed7953\"], [0.7777777777777778, \"#fb9f3a\"], [0.8888888888888888, \"#fdca26\"], [1.0, \"#f0f921\"]], \"type\": \"contour\"}], \"contourcarpet\": [{\"colorbar\": {\"outlinewidth\": 0, \"ticks\": \"\"}, \"type\": \"contourcarpet\"}], \"heatmap\": [{\"colorbar\": {\"outlinewidth\": 0, \"ticks\": \"\"}, \"colorscale\": [[0.0, \"#0d0887\"], [0.1111111111111111, \"#46039f\"], [0.2222222222222222, \"#7201a8\"], [0.3333333333333333, \"#9c179e\"], [0.4444444444444444, \"#bd3786\"], [0.5555555555555556, \"#d8576b\"], [0.6666666666666666, \"#ed7953\"], [0.7777777777777778, \"#fb9f3a\"], [0.8888888888888888, \"#fdca26\"], [1.0, \"#f0f921\"]], \"type\": \"heatmap\"}], \"heatmapgl\": [{\"colorbar\": {\"outlinewidth\": 0, \"ticks\": \"\"}, \"colorscale\": [[0.0, \"#0d0887\"], [0.1111111111111111, \"#46039f\"], [0.2222222222222222, \"#7201a8\"], [0.3333333333333333, \"#9c179e\"], [0.4444444444444444, \"#bd3786\"], [0.5555555555555556, \"#d8576b\"], [0.6666666666666666, \"#ed7953\"], [0.7777777777777778, \"#fb9f3a\"], [0.8888888888888888, \"#fdca26\"], [1.0, \"#f0f921\"]], \"type\": \"heatmapgl\"}], \"histogram\": [{\"marker\": {\"colorbar\": {\"outlinewidth\": 0, \"ticks\": \"\"}}, \"type\": \"histogram\"}], \"histogram2d\": [{\"colorbar\": {\"outlinewidth\": 0, \"ticks\": \"\"}, \"colorscale\": [[0.0, \"#0d0887\"], [0.1111111111111111, \"#46039f\"], [0.2222222222222222, \"#7201a8\"], [0.3333333333333333, \"#9c179e\"], [0.4444444444444444, \"#bd3786\"], [0.5555555555555556, \"#d8576b\"], [0.6666666666666666, \"#ed7953\"], [0.7777777777777778, \"#fb9f3a\"], [0.8888888888888888, \"#fdca26\"], [1.0, \"#f0f921\"]], \"type\": \"histogram2d\"}], \"histogram2dcontour\": [{\"colorbar\": {\"outlinewidth\": 0, \"ticks\": \"\"}, \"colorscale\": [[0.0, \"#0d0887\"], [0.1111111111111111, \"#46039f\"], [0.2222222222222222, \"#7201a8\"], [0.3333333333333333, \"#9c179e\"], [0.4444444444444444, \"#bd3786\"], [0.5555555555555556, \"#d8576b\"], [0.6666666666666666, \"#ed7953\"], [0.7777777777777778, \"#fb9f3a\"], [0.8888888888888888, \"#fdca26\"], [1.0, \"#f0f921\"]], \"type\": \"histogram2dcontour\"}], \"mesh3d\": [{\"colorbar\": {\"outlinewidth\": 0, \"ticks\": \"\"}, \"type\": \"mesh3d\"}], \"parcoords\": [{\"line\": {\"colorbar\": {\"outlinewidth\": 0, \"ticks\": \"\"}}, \"type\": \"parcoords\"}], \"pie\": [{\"automargin\": true, \"type\": \"pie\"}], \"scatter\": [{\"marker\": {\"colorbar\": {\"outlinewidth\": 0, \"ticks\": \"\"}}, \"type\": \"scatter\"}], \"scatter3d\": [{\"line\": {\"colorbar\": {\"outlinewidth\": 0, \"ticks\": \"\"}}, \"marker\": {\"colorbar\": {\"outlinewidth\": 0, \"ticks\": \"\"}}, \"type\": \"scatter3d\"}], \"scattercarpet\": [{\"marker\": {\"colorbar\": {\"outlinewidth\": 0, \"ticks\": \"\"}}, \"type\": \"scattercarpet\"}], \"scattergeo\": [{\"marker\": {\"colorbar\": {\"outlinewidth\": 0, \"ticks\": \"\"}}, \"type\": \"scattergeo\"}], \"scattergl\": [{\"marker\": {\"colorbar\": {\"outlinewidth\": 0, \"ticks\": \"\"}}, \"type\": \"scattergl\"}], \"scattermapbox\": [{\"marker\": {\"colorbar\": {\"outlinewidth\": 0, \"ticks\": \"\"}}, \"type\": \"scattermapbox\"}], \"scatterpolar\": [{\"marker\": {\"colorbar\": {\"outlinewidth\": 0, \"ticks\": \"\"}}, \"type\": \"scatterpolar\"}], \"scatterpolargl\": [{\"marker\": {\"colorbar\": {\"outlinewidth\": 0, \"ticks\": \"\"}}, \"type\": \"scatterpolargl\"}], \"scatterternary\": [{\"marker\": {\"colorbar\": {\"outlinewidth\": 0, \"ticks\": \"\"}}, \"type\": \"scatterternary\"}], \"surface\": [{\"colorbar\": {\"outlinewidth\": 0, \"ticks\": \"\"}, \"colorscale\": [[0.0, \"#0d0887\"], [0.1111111111111111, \"#46039f\"], [0.2222222222222222, \"#7201a8\"], [0.3333333333333333, \"#9c179e\"], [0.4444444444444444, \"#bd3786\"], [0.5555555555555556, \"#d8576b\"], [0.6666666666666666, \"#ed7953\"], [0.7777777777777778, \"#fb9f3a\"], [0.8888888888888888, \"#fdca26\"], [1.0, \"#f0f921\"]], \"type\": \"surface\"}], \"table\": [{\"cells\": {\"fill\": {\"color\": \"#EBF0F8\"}, \"line\": {\"color\": \"white\"}}, \"header\": {\"fill\": {\"color\": \"#C8D4E3\"}, \"line\": {\"color\": \"white\"}}, \"type\": \"table\"}]}, \"layout\": {\"annotationdefaults\": {\"arrowcolor\": \"#2a3f5f\", \"arrowhead\": 0, \"arrowwidth\": 1}, \"autotypenumbers\": \"strict\", \"coloraxis\": {\"colorbar\": {\"outlinewidth\": 0, \"ticks\": \"\"}}, \"colorscale\": {\"diverging\": [[0, \"#8e0152\"], [0.1, \"#c51b7d\"], [0.2, \"#de77ae\"], [0.3, \"#f1b6da\"], [0.4, \"#fde0ef\"], [0.5, \"#f7f7f7\"], [0.6, \"#e6f5d0\"], [0.7, \"#b8e186\"], [0.8, \"#7fbc41\"], [0.9, \"#4d9221\"], [1, \"#276419\"]], \"sequential\": [[0.0, \"#0d0887\"], [0.1111111111111111, \"#46039f\"], [0.2222222222222222, \"#7201a8\"], [0.3333333333333333, \"#9c179e\"], [0.4444444444444444, \"#bd3786\"], [0.5555555555555556, \"#d8576b\"], [0.6666666666666666, \"#ed7953\"], [0.7777777777777778, \"#fb9f3a\"], [0.8888888888888888, \"#fdca26\"], [1.0, \"#f0f921\"]], \"sequentialminus\": [[0.0, \"#0d0887\"], [0.1111111111111111, \"#46039f\"], [0.2222222222222222, \"#7201a8\"], [0.3333333333333333, \"#9c179e\"], [0.4444444444444444, \"#bd3786\"], [0.5555555555555556, \"#d8576b\"], [0.6666666666666666, \"#ed7953\"], [0.7777777777777778, \"#fb9f3a\"], [0.8888888888888888, \"#fdca26\"], [1.0, \"#f0f921\"]]}, \"colorway\": [\"#636efa\", \"#EF553B\", \"#00cc96\", \"#ab63fa\", \"#FFA15A\", \"#19d3f3\", \"#FF6692\", \"#B6E880\", \"#FF97FF\", \"#FECB52\"], \"font\": {\"color\": \"#2a3f5f\"}, \"geo\": {\"bgcolor\": \"white\", \"lakecolor\": \"white\", \"landcolor\": \"#E5ECF6\", \"showlakes\": true, \"showland\": true, \"subunitcolor\": \"white\"}, \"hoverlabel\": {\"align\": \"left\"}, \"hovermode\": \"closest\", \"mapbox\": {\"style\": \"light\"}, \"paper_bgcolor\": \"white\", \"plot_bgcolor\": \"#E5ECF6\", \"polar\": {\"angularaxis\": {\"gridcolor\": \"white\", \"linecolor\": \"white\", \"ticks\": \"\"}, \"bgcolor\": \"#E5ECF6\", \"radialaxis\": {\"gridcolor\": \"white\", \"linecolor\": \"white\", \"ticks\": \"\"}}, \"scene\": {\"xaxis\": {\"backgroundcolor\": \"#E5ECF6\", \"gridcolor\": \"white\", \"gridwidth\": 2, \"linecolor\": \"white\", \"showbackground\": true, \"ticks\": \"\", \"zerolinecolor\": \"white\"}, \"yaxis\": {\"backgroundcolor\": \"#E5ECF6\", \"gridcolor\": \"white\", \"gridwidth\": 2, \"linecolor\": \"white\", \"showbackground\": true, \"ticks\": \"\", \"zerolinecolor\": \"white\"}, \"zaxis\": {\"backgroundcolor\": \"#E5ECF6\", \"gridcolor\": \"white\", \"gridwidth\": 2, \"linecolor\": \"white\", \"showbackground\": true, \"ticks\": \"\", \"zerolinecolor\": \"white\"}}, \"shapedefaults\": {\"line\": {\"color\": \"#2a3f5f\"}}, \"ternary\": {\"aaxis\": {\"gridcolor\": \"white\", \"linecolor\": \"white\", \"ticks\": \"\"}, \"baxis\": {\"gridcolor\": \"white\", \"linecolor\": \"white\", \"ticks\": \"\"}, \"bgcolor\": \"#E5ECF6\", \"caxis\": {\"gridcolor\": \"white\", \"linecolor\": \"white\", \"ticks\": \"\"}}, \"title\": {\"x\": 0.05}, \"xaxis\": {\"automargin\": true, \"gridcolor\": \"white\", \"linecolor\": \"white\", \"ticks\": \"\", \"title\": {\"standoff\": 15}, \"zerolinecolor\": \"white\", \"zerolinewidth\": 2}, \"yaxis\": {\"automargin\": true, \"gridcolor\": \"white\", \"linecolor\": \"white\", \"ticks\": \"\", \"title\": {\"standoff\": 15}, \"zerolinecolor\": \"white\", \"zerolinewidth\": 2}}}, \"title\": {\"text\": \"Mean MASE - 36 samples (1 day ahead - 1 hour resolution)\"}},                        {\"responsive\": true}                    ).then(function(){\n",
       "                            \n",
       "var gd = document.getElementById('87f080fa-e93d-441f-89ed-cc1c165fca57');\n",
       "var x = new MutationObserver(function (mutations, observer) {{\n",
       "        var display = window.getComputedStyle(gd).display;\n",
       "        if (!display || display === 'none') {{\n",
       "            console.log([gd, 'removed!']);\n",
       "            Plotly.purge(gd);\n",
       "            observer.disconnect();\n",
       "        }}\n",
       "}});\n",
       "\n",
       "// Listen for the removal of the full notebook cells\n",
       "var notebookContainer = gd.closest('#notebook-container');\n",
       "if (notebookContainer) {{\n",
       "    x.observe(notebookContainer, {childList: true});\n",
       "}}\n",
       "\n",
       "// Listen for the clearing of the current output cell\n",
       "var outputEl = gd.closest('.output');\n",
       "if (outputEl) {{\n",
       "    x.observe(outputEl, {childList: true});\n",
       "}}\n",
       "\n",
       "                        })                };                });            </script>        </div>"
      ]
     },
     "metadata": {},
     "output_type": "display_data"
    }
   ],
   "source": [
    "fig = go.Figure(data=[\n",
    "    go.Bar(name='LSTM', x=const.TS, y=mase_vals_lstm),\n",
    "    go.Bar(name='LSTM-2', x=const.TS, y=mase_vals_lstm2),\n",
    "#     go.Bar(name='Dilated Convolutions (Rate - 1)', x=const.TS, y=mase_vals_cnn_d1),\n",
    "    go.Bar(name='Dilated Convolutions (Rate - 2)', x=const.TS, y=mase_vals_cnn),\n",
    "    go.Bar(name='Dilated Convolutions (Filter - 64)', x=const.TS, y=mase_vals_cnn2)\n",
    "])\n",
    "# Change the bar mode\n",
    "fig.update_layout(barmode='group')\n",
    "fig.update_layout(title='Mean MASE - 36 samples (1 day ahead - 1 hour resolution)')\n",
    "fig.show()"
   ]
  },
  {
   "cell_type": "markdown",
   "metadata": {},
   "source": [
    "Error distributions"
   ]
  },
  {
   "cell_type": "code",
   "execution_count": 22,
   "metadata": {},
   "outputs": [
    {
     "data": {
      "application/vnd.plotly.v1+json": {
       "config": {
        "plotlyServerURL": "https://plot.ly"
       },
       "data": [
        {
         "name": "grid",
         "type": "box",
         "y": [
          1.2354774395423351,
          1.1171428916014359,
          0.7993274246742952,
          2.1183795146117292,
          1.3654891161006806,
          1.6989868219458513,
          2.13633623649371,
          1.246406399899505,
          1.2955410704734325,
          0.7400306434417467,
          0.7036381632138289,
          1.1393532477331096,
          1.9266837392889593,
          1.8386192879132248,
          1.7702273364063708,
          0.8806028921366997,
          1.4034838467669724,
          0.7868948593165561,
          2.294146074378257,
          1.6787664154472337,
          1.9676525929828588,
          1.27151290033647,
          1.31420948738389,
          0.8946901048430028,
          0.7833009795098318,
          1.185205393541342,
          1.44962424616909,
          1.3694847225854303,
          3.5833976613054697,
          2.822365071569557,
          1.2001564761117594,
          0.6941539527108906,
          1.5868498410255623,
          1.5060191221833243,
          1.8758818283984904,
          1.1764035605562435
         ]
        },
        {
         "name": "tline_1",
         "type": "box",
         "y": [
          1.1062047647748294,
          1.2827472694838835,
          1.5544766985952505,
          0.6352868705527703,
          0.560442318265638,
          0.2723407120462276,
          0.22719624982208936,
          0.30803560565488547,
          0.27155124705611094,
          1.7227679158153917,
          0.5971839514901089,
          1.2813102052965384,
          1.663466448823322,
          0.2918627929247929,
          1.2782823362903941,
          1.092441000652503,
          0.6872159994822056,
          0.4536119413243057,
          1.0700047059827171,
          0.7618006809771548,
          0.35483929964628175,
          0.26453742808397224,
          0.24277455267014925,
          0.25464238099678443,
          2.156359996665966,
          2.18057254125668,
          0.4481321100851643,
          0.4832270236215253,
          4.524385702610429,
          1.7353074493608778,
          1.3799585619624568,
          0.8702033510805928,
          0.7542610150435061,
          0.6187649624358271,
          0.324225396683188,
          0.5344037423775136
         ]
        },
        {
         "name": "tline_2",
         "type": "box",
         "y": [
          1.2978134601597653,
          1.2458381111357915,
          1.005859654383406,
          2.8568826359711696,
          1.3701769032953777,
          2.0683213802588702,
          1.6322065450882188,
          1.3981098169825164,
          1.1825234587754316,
          0.7868359540044488,
          0.9707506805859987,
          1.4484139755760672,
          2.2239195046631592,
          2.0082239703318168,
          1.6814203107126076,
          0.7293470023893557,
          1.7952502045351304,
          1.0413220251734192,
          2.2324603349313983,
          2.401719572018043,
          1.7015701417791853,
          1.1235872018533812,
          1.4000445345288637,
          0.6868746146011778,
          1.7232962629693618,
          1.0848439737977458,
          1.2257502187142235,
          1.6614068280522105,
          2.7745542304268316,
          3.3527558362192793,
          1.146858284065084,
          0.9938526743308044,
          1.4019966186327046,
          1.3988614392144876,
          1.8065079550452885,
          1.0732047896873589
         ]
        },
        {
         "name": "substation1",
         "type": "box",
         "y": [
          1.1512449992863651,
          1.4705925090849552,
          1.6198247290951577,
          0.6478475209496263,
          0.521707869114076,
          0.28384752903205795,
          0.25806674732307905,
          0.21637338234732856,
          0.141421755102713,
          1.6758450898230326,
          0.7072583106343688,
          1.0653175581675447,
          1.986810841471213,
          0.3636051763906411,
          1.3277170649413885,
          1.099825771803117,
          0.4401310470992977,
          0.40329743109187566,
          1.2499210911660912,
          0.9516273980245041,
          0.2724497344676256,
          0.24399895452062817,
          0.1664343122913391,
          0.11262148599508526,
          2.2090848116269006,
          2.3252989276808296,
          0.34375550081831124,
          0.422336159404069,
          4.493310015632514,
          1.377904211619123,
          1.4553544778468286,
          1.5834608278778124,
          0.7254283346055369,
          0.7960878477271587,
          0.14294387638681372,
          0.35222132508666854
         ]
        },
        {
         "name": "substation2",
         "type": "box",
         "y": [
          0.9986943155086414,
          0.919806233673445,
          1.5365337000555823,
          0.5708174579885326,
          0.8040161548092151,
          0.29249797623677415,
          0.3401060301364334,
          0.3149584775258391,
          0.3029349983274742,
          1.5335903694425301,
          0.6180283808216062,
          1.216821728586149,
          2.044244064483235,
          0.5450980014046809,
          1.2665071780324828,
          0.7104693022158719,
          0.6001759655702534,
          0.4855997618122567,
          0.9011730684504452,
          0.7406786230510883,
          0.5406423771452231,
          0.34456572217199616,
          0.3336082506747924,
          0.3436526395419121,
          1.8196083559499336,
          1.4819382348478733,
          0.42851377531104023,
          0.5741961212146581,
          4.1467378554679275,
          1.7174167451849744,
          0.9428883011457408,
          1.1791666299983192,
          0.5586220033206634,
          0.5943571404228156,
          0.34999819589747666,
          0.5261479423404509
         ]
        },
        {
         "name": "substation3",
         "type": "box",
         "y": [
          1.4464571432817757,
          0.8779346267353914,
          0.8618782031756573,
          2.908653055047307,
          0.7055782017629639,
          1.7192102265151745,
          1.7124601819040965,
          1.6092602316168552,
          1.0704861253755493,
          0.8233084111126165,
          0.7877576961148935,
          1.0553883159719217,
          2.4140192085295764,
          1.228149810628854,
          1.771561133640335,
          0.7210794825537175,
          1.588955093556217,
          1.1291290610971891,
          2.417988695361429,
          2.248921828773829,
          0.9954162820702903,
          1.2267160771752774,
          1.2452136636127293,
          0.7944019685275597,
          1.3818872217515998,
          0.7558682112866236,
          0.9148535996669219,
          1.8344924679833197,
          2.9466542449470285,
          3.2079791509915356,
          1.2070131912126023,
          0.7989930425161463,
          1.0820470196592478,
          1.4901580594532602,
          2.1766924112857713,
          1.59513081199381
         ]
        },
        {
         "name": "substation4",
         "type": "box",
         "y": [
          0.786111357930806,
          0.955645841682441,
          1.4552385864294801,
          0.24692763943772106,
          0.6834070879456824,
          0.9204087063776962,
          1.4699925202839013,
          0.5719238669370119,
          0.7292652769911847,
          0.5065982155707729,
          0.5608751893184638,
          1.314365878725863,
          0.6328104515488049,
          0.4899719439110114,
          1.2754355049682222,
          1.1424004835422148,
          1.220201515947657,
          0.9782062656001189,
          0.5168969643751957,
          0.5866395785094005,
          0.6659272743271348,
          0.3097009327747788,
          1.0113991675525593,
          0.5201956137389786,
          0.6241927704169253,
          0.6895856062708159,
          1.0856776777776704,
          0.5726272141805809,
          2.231783626733256,
          1.9184440744381366,
          0.6507659405521485,
          0.7461234118526076,
          1.0151116122153045,
          0.9988787557343797,
          1.2052944999489559,
          0.9026466284886041
         ]
        },
        {
         "name": "6010",
         "type": "box",
         "y": [
          0.9013351121021638,
          0.8373897608318219,
          0.5059745751244196,
          0.6130669033712262,
          0.096916976694273,
          0.2383233955983567,
          0.15486602634166663,
          0.17412598748556107,
          0.19992298722901683,
          1.435316908665193,
          0.9044267704951795,
          0.6880738017748501,
          0.5810260578874379,
          0.30223778377792115,
          1.0782275830199666,
          0.9071849133370901,
          0.548856676105562,
          0.4338246934086923,
          0.8828553305285548,
          0.26672761115193594,
          0.17704618072226957,
          0.1936197633234202,
          0.1638657651579075,
          0.19785557020003897,
          1.8556309045228896,
          0.33759839344029174,
          0.2550774028649631,
          0.2806898328555812,
          3.3224290936030014,
          1.4476988745928485,
          0.9338516508979141,
          0.8325136239081874,
          0.55857851657722,
          0.40967401662808833,
          0.3006385775404637,
          0.2822870310838595
         ]
        },
        {
         "name": "6014",
         "type": "box",
         "y": [
          1.1139169034987044,
          0.9992510840522753,
          0.5051165057537153,
          0.6509747536382756,
          0.2155660944333879,
          0.2669570104700625,
          0.2665714125536996,
          0.3085848555179541,
          0.32623014339909434,
          1.7374976059417129,
          1.182013171948731,
          0.883996675064079,
          0.708922631216013,
          0.5649947392324802,
          1.1127449982495496,
          0.936153352758484,
          0.5748531993246597,
          0.4623214581433126,
          0.8763821050887087,
          0.3768306457232722,
          0.3371608309543019,
          0.28645438449139143,
          0.2678382290822668,
          0.22270956488697122,
          2.4132901178537485,
          0.6036072639138439,
          0.24371219057835172,
          0.28235060837300324,
          4.074096126426272,
          0.9562719141053325,
          1.4089029159994129,
          0.9087280030532842,
          0.6595599981806727,
          0.4060019062239241,
          0.33671846428336827,
          0.4175295684312924
         ]
        },
        {
         "name": "6011",
         "type": "box",
         "y": [
          0.8349765715742624,
          0.7137577284446748,
          0.3263090152916584,
          0.4033995658102023,
          0.23782915422229248,
          0.21307526979065078,
          0.2124914600670377,
          0.25018549172418114,
          0.17108428297339284,
          1.3833065675684322,
          0.8343670435489924,
          0.8666721594018403,
          0.8034459017433183,
          0.29689652399318434,
          1.0777763895482073,
          0.9250507100249555,
          0.5568371731851167,
          0.442816287173461,
          0.5797928351655258,
          0.3213464129205693,
          0.2549994074507228,
          0.2923608709576997,
          0.25340366255857394,
          0.20626557358803035,
          1.8174175443213905,
          0.4608128024701794,
          0.2255987950688064,
          0.325190531329448,
          3.7784511578114293,
          1.3937973801922912,
          0.8788518525894341,
          0.7071460277143377,
          0.5137168482604194,
          0.3354983072253268,
          0.23975252908858455,
          0.3836607950659632
         ]
        },
        {
         "name": "6280",
         "type": "box",
         "y": [
          1.365390709041953,
          1.8435490580888585,
          1.128295817123153,
          2.221042759559406,
          0.40699727408362885,
          1.8595202029890687,
          2.019869602798184,
          1.0507054979342096,
          1.4485427737242191,
          1.0649900377783803,
          1.0990406880736254,
          1.1116775225683577,
          1.5313377303798483,
          1.3241737101138074,
          1.5587703859574393,
          1.4022870056516579,
          2.2727632133306765,
          0.9524783807915859,
          1.2250183677611217,
          1.4925561516226242,
          1.3144131962029444,
          1.1773636754857202,
          1.659493797428982,
          1.1428509905502804,
          0.41336664313737365,
          1.041266034255344,
          2.0709020829818123,
          1.974835037449707,
          2.4921088020963875,
          1.4459117794975378,
          1.1795331002750926,
          0.6359540076509368,
          0.87331803335051,
          1.314378332885085,
          1.6023967434949415,
          0.8565277650030825
         ]
        },
        {
         "name": "6281",
         "type": "box",
         "y": [
          1.0419283539237367,
          1.0464259320660754,
          0.47387076151004515,
          0.5017745305400743,
          0.3707163375593311,
          0.5601024258368263,
          1.0473786091153043,
          0.6867505744093583,
          0.7900201767773678,
          0.581032859223237,
          0.6121448500865068,
          1.351560894089627,
          0.6757532133815518,
          0.7144538672273845,
          1.3122439295217625,
          0.4964044973579544,
          0.53026544790572,
          0.7668368334237137,
          0.3572698890839575,
          1.1833779602294678,
          0.39599549091354613,
          0.4903213934722806,
          0.7415792391508389,
          0.7356182137839605,
          0.7391336637873237,
          0.7674686168517286,
          0.32760536059352624,
          0.732074030622169,
          1.4502817183611234,
          0.7923063995665499,
          0.8846329888908205,
          0.5633019489262469,
          0.9065054765013889,
          0.8508677623643844,
          0.48452771356308016,
          0.2854052983660389
         ]
        },
        {
         "name": "6284",
         "type": "box",
         "y": [
          0.64473830100126,
          0.9362484468340794,
          0.4171523849115531,
          0.46073817225363983,
          0.7524665858026163,
          0.9429054700457221,
          0.7631511492934523,
          0.48209836201456435,
          0.47177254232747295,
          0.7107043824272928,
          0.5830900237955164,
          0.6508754554824893,
          0.6123070094228162,
          0.3212079759442602,
          1.182529382599067,
          1.0666413414966103,
          1.4713053745302502,
          0.577808150994113,
          0.5153828553229468,
          0.6159259011518942,
          0.4957041783958723,
          0.33587801992151844,
          0.45165648725582086,
          0.4023379375035982,
          0.34759483677725034,
          0.8996629326938869,
          0.7163250305185546,
          0.6617771804669866,
          1.5989855072753467,
          1.0452986027958804,
          0.3601371843468171,
          0.8396578286123725,
          0.4821550790923734,
          0.919210034048973,
          0.7682618763342002,
          0.37350090799312446
         ]
        },
        {
         "name": "1295864320",
         "type": "box",
         "y": [
          0.7642981869310427,
          1.9960219751447927,
          0.9788025487875065,
          1.059707263664449,
          0.8512783815541287,
          1.4112161070330296,
          1.565343755255447,
          1.5311990485962368,
          1.1504413094995347,
          0.8341090104466027,
          0.7765773600350353,
          1.0684860814661536,
          0.9442029958270134,
          0.8697323877667297,
          1.4607277397850185,
          0.8217408610408785,
          2.7551910960912362,
          1.1542200165204939,
          1.0680058749186951,
          0.9090342868932633,
          1.1360468776523174,
          0.6590333549407381,
          1.4945824758643687,
          0.8913140160210443,
          0.4355125015002312,
          1.0381674809745882,
          1.258505881697011,
          0.7642102217066055,
          1.7323567505630433,
          1.1361034454866599,
          2.234407313552256,
          0.9072027526932811,
          1.1863276736285484,
          1.3795332606280675,
          1.2422590565014797,
          0.5446889631926525
         ]
        },
        {
         "name": "1247421966",
         "type": "box",
         "y": [
          1.0161988503286548,
          0.7936246987772938,
          0.23395190082406817,
          0.4742988922551817,
          0.20978415710618856,
          0.24575582315874242,
          0.152597807830229,
          0.17110017559225146,
          0.24865579390463943,
          1.5698434651829365,
          0.7776544249101078,
          0.901565031270907,
          0.5528448468945857,
          0.3861602496497827,
          1.0427434793067156,
          0.8099700576778833,
          0.3788744451396394,
          0.46245531362994996,
          0.8762763085361059,
          0.25672614762511603,
          0.20646824131832367,
          0.17249231987808508,
          0.2534833604577067,
          0.19812902715244812,
          1.9697826327762722,
          0.4632716314360933,
          0.21772195879021186,
          0.2868596670495417,
          2.8181214435833866,
          1.0313671613361615,
          1.1270742356307333,
          0.6695817948082526,
          0.5073068208425232,
          0.24878382921835956,
          0.21464456796002013,
          0.46403868546605
         ]
        },
        {
         "name": "2107373071",
         "type": "box",
         "y": [
          1.207984788842674,
          1.4594787777877505,
          0.8940017209925314,
          0.8578066701534175,
          0.45391551828112764,
          0.4552442788513606,
          0.49363966209031246,
          0.5772173535517793,
          0.5342081290153509,
          1.835042153408916,
          1.0987758527324625,
          1.1390099916601062,
          1.05642871580158,
          0.8833998069682742,
          1.2408582272486723,
          1.5131228429755466,
          0.9562735525799896,
          0.6292637054899828,
          0.9386622756472253,
          0.6314273990526146,
          0.5317724664886502,
          0.48887066363485765,
          0.4253568429813816,
          0.47390774142052144,
          2.3225512508382913,
          0.5544185654368993,
          0.5629588203499954,
          0.5970257065817322,
          4.84545639307382,
          2.1973803467629613,
          0.972532172321396,
          1.0078794844906718,
          0.6944002690810825,
          0.5458955954563328,
          0.4121765720250541,
          0.2953063866317613
         ]
        },
        {
         "name": "2009066518",
         "type": "box",
         "y": [
          0.764037184722875,
          0.8965526138633387,
          0.5151690710568159,
          0.7559074605550234,
          0.653576831157167,
          1.1984523165720327,
          0.9696862189374711,
          0.7956923613767809,
          0.5934551834833912,
          0.4819701817289452,
          1.1167309761938555,
          0.8019784406234504,
          0.7543492847895422,
          0.5149887833666339,
          1.2022186050097847,
          1.0942088764230118,
          1.5475622186053364,
          0.7442270487336604,
          1.0054697816079674,
          0.8379898145597702,
          0.7961737540583657,
          0.6925337243718904,
          0.38146630487774574,
          0.555756179167088,
          0.5887009389460824,
          0.87463365295177,
          0.9040363311881735,
          0.5480806091218234,
          1.8546350165785341,
          1.4425458094012622,
          1.205744814810185,
          0.6245915923601174,
          0.684743543842652,
          1.4987248721369484,
          0.6251715705612908,
          0.3474388884023391
         ]
        },
        {
         "name": "972102295",
         "type": "box",
         "y": [
          0.7638273736446033,
          0.7999585024616308,
          0.40635381772689855,
          0.5009387789887463,
          0.5127738951651889,
          0.742232113420071,
          1.1416145539933324,
          0.469854640964819,
          1.174390318473028,
          0.8340601934755691,
          0.6110841699453021,
          0.719626867142088,
          0.7570400994371138,
          0.6864363520550276,
          1.2387079733159696,
          0.4952471019378187,
          0.46650182300985626,
          0.7526437529726552,
          0.4621075650776195,
          1.1564761167936979,
          0.4620722279761917,
          0.5483122638270957,
          0.7369511300435685,
          0.6765011766996777,
          0.8633671182145574,
          0.5407625226987958,
          0.3404056983330355,
          0.8615738466961071,
          1.495932443390477,
          0.46395421709886836,
          1.1379980906246334,
          0.5139293196355531,
          0.7869495679239789,
          0.9733342457477192,
          0.42758146630697164,
          0.23019886656261518
         ]
        },
        {
         "name": "1616571925",
         "type": "box",
         "y": [
          1.264475406963067,
          1.2005691089311414,
          1.3681593113460109,
          2.7785593663977277,
          1.8192676810784454,
          1.6897593763125642,
          2.3287352430085684,
          2.352248743477264,
          1.9911750439221698,
          1.031024856692039,
          0.6751121465928274,
          1.1051033977006073,
          1.6796999064217661,
          1.5363956040532682,
          2.02362055343807,
          0.7192167085198005,
          1.064265877688746,
          1.1423629618852433,
          1.3247806308281163,
          2.09793337278983,
          2.729696977412181,
          1.274011323298699,
          1.2244480311238648,
          1.1795639052725506,
          0.5797352501085032,
          1.2253797486106104,
          2.2441375466745384,
          1.851308946249709,
          0.9921299196371475,
          0.4649099542795821,
          2.3864882511280454,
          0.973890665979952,
          1.2585796301922965,
          1.3178890749041214,
          3.724106198201789,
          1.8912923537457227
         ]
        },
        {
         "name": "806187417",
         "type": "box",
         "y": [
          0.9707441213288542,
          0.6992975687253933,
          0.1788371546892158,
          0.5219663588911906,
          0.2266886218427127,
          0.2794120019950138,
          0.24491650761597805,
          0.17184679976190034,
          0.18547804096356105,
          1.6147546170979317,
          0.825836567370624,
          0.97746014417864,
          0.4339430449796473,
          0.3584067055930161,
          0.886606629443966,
          0.9499396084485004,
          0.9172363836967935,
          0.5521146137049031,
          0.7607210220859942,
          0.4718824028999988,
          0.34875133886463205,
          0.1912047134310207,
          0.19973612164876434,
          0.14976116539769369,
          2.0300984483985287,
          0.44566589039164317,
          0.21810546531381442,
          0.2833292309548815,
          2.802903723729612,
          1.0585901461274536,
          1.2111881753275098,
          0.9318365290745113,
          0.4635841102310228,
          0.3580841247038247,
          0.15455090992123768,
          0.4123417419587532
         ]
        },
        {
         "name": "771513244",
         "type": "box",
         "y": [
          1.092011116786416,
          0.8362486718453405,
          0.42730470150130995,
          0.9151860687138975,
          0.32429113390622955,
          0.29939388516478116,
          0.22042598699657248,
          0.2242564991759952,
          0.28890276309857416,
          1.2538083794113428,
          0.9751305961305108,
          0.7683594586632063,
          0.520662774659617,
          0.40963870837405564,
          1.0495538432197895,
          0.8834655761963108,
          0.36438935328607913,
          0.4315738503397816,
          1.015194057964688,
          0.25063621351761706,
          0.24734661439361502,
          0.22892827616891565,
          0.16958284363637685,
          0.18688399212550394,
          1.65003533617447,
          0.3134800876726329,
          0.25552610945169346,
          0.40503945167192124,
          3.911697200251238,
          1.437892095845127,
          0.8377432277305266,
          1.071044037425809,
          0.8171657377103922,
          0.20653623575949603,
          0.16899766281533662,
          0.312828947683549
         ]
        },
        {
         "name": "1562145181",
         "type": "box",
         "y": [
          0.7656980116585884,
          1.0154710161844829,
          0.717173175484086,
          0.6073898314509159,
          0.23842677291627556,
          0.31626242823093703,
          0.19227130257017133,
          0.2620655472332657,
          0.24316827234230273,
          1.7479880665451688,
          0.6848536855969194,
          1.1708176705733928,
          0.4147562475626577,
          0.3125819632298857,
          0.9369867880469469,
          0.9965226163962224,
          0.6264240459285216,
          0.5181426098006068,
          0.8330660751957505,
          1.056978739836348,
          0.4373313432474559,
          0.24856910961999473,
          0.2806066849457595,
          0.13903448797273799,
          1.8958651027826867,
          0.8024207008375019,
          0.3664145131545613,
          0.3515379872271912,
          2.9531243297327676,
          0.9878589004400418,
          1.1268385423235572,
          1.07667830705137,
          0.7272856480563731,
          1.1767076645877734,
          0.6998104589018369,
          0.5224985909500879
         ]
        },
        {
         "name": "896338719",
         "type": "box",
         "y": [
          0.7848793719834095,
          0.5587043633797846,
          0.25037362562240145,
          0.5669801662450691,
          0.2548176162287077,
          0.26211903859046964,
          0.143362603810595,
          0.12791982070681293,
          0.15363511213580436,
          1.23267033884985,
          1.0497936326091935,
          0.8386560541249471,
          0.6549442539886656,
          0.17377597838396935,
          0.8993507666594044,
          0.6450401502984943,
          0.3110337960682607,
          0.4860619663443198,
          0.7119154420327862,
          0.13608597503117995,
          0.18056703376277045,
          0.23104433294831284,
          0.2326815193453204,
          0.19330884986924343,
          1.7039852840452243,
          0.26961467393311017,
          0.2406450759002364,
          0.31154496600744364,
          2.9692984101027786,
          0.7802404310921385,
          0.9849520508735553,
          0.9320752580563127,
          0.4234375313553813,
          0.24523459523583785,
          0.18890708976072942,
          0.2679821096057961
         ]
        },
        {
         "name": "1113196323",
         "type": "box",
         "y": [
          1.1009336431662278,
          1.124314007965175,
          0.9411943713061184,
          0.7266544478592417,
          0.9866661906647758,
          1.2837542672778601,
          1.3677920595339839,
          0.9763467707043949,
          0.9196879410155943,
          0.469363755709872,
          1.1693804899331333,
          0.8987432760058,
          1.2598984747670443,
          1.0435751177930666,
          1.6454646751194628,
          0.8304209849982507,
          1.0206261212750098,
          0.8711158145209675,
          0.8983118444525563,
          1.1427239949970114,
          0.9422409527377568,
          0.7688738086808348,
          0.6188759858277153,
          0.6736247828201819,
          0.288573763044464,
          1.251285521983856,
          0.8685165144004008,
          0.5405577533154077,
          1.7783360861778703,
          0.7631066823077165,
          1.394056499383052,
          0.9431275887078627,
          1.1891579457438397,
          0.695180428920453,
          1.0818026593689605,
          0.8468720059288318
         ]
        },
        {
         "name": "1597760039",
         "type": "box",
         "y": [
          0.6796451159886381,
          0.9862056014225558,
          0.5230385591443691,
          0.5489470898681765,
          0.69744426398968,
          0.9782969611208748,
          0.5960395683046849,
          0.5164368216835779,
          0.5839392526655685,
          0.5089486809189889,
          0.9956670881005594,
          1.2484116533441927,
          0.5764531565012322,
          0.6404274627398683,
          1.3478127313304846,
          0.9601912293147714,
          1.2522464229421886,
          0.7238927853101229,
          0.7232393318402245,
          0.48698549984773265,
          0.5124447160445984,
          0.39880031142854977,
          0.41675651785113116,
          0.43645416932402287,
          0.31405396153424436,
          1.0086374275417267,
          0.8323848213817455,
          0.5165896106599351,
          1.3737811955525943,
          1.2030664663946293,
          0.7025061747930187,
          0.718003153912542,
          0.5315506593827388,
          1.1525890972956168,
          0.8254526860777105,
          0.3240333233852177
         ]
        },
        {
         "name": "317532327",
         "type": "box",
         "y": [
          1.0524194842948726,
          1.2408864812736329,
          1.0798325898769394,
          0.9621827967405817,
          1.0556788781673039,
          1.395847420806397,
          1.0733053521476004,
          0.8637080039796995,
          0.8901273451506359,
          0.80355674676557,
          0.5375455058919213,
          0.7066066693702246,
          1.3429894150200878,
          0.8702819810430745,
          1.3019657580741022,
          1.0197680803526883,
          1.562962606864299,
          1.1643076792129545,
          0.8815903523630697,
          0.9398377717356977,
          0.8647247246784797,
          0.6821448104868634,
          0.6637800181501361,
          0.9798033145651309,
          0.5244380693558846,
          0.9922686582999211,
          1.5590124890718389,
          0.8883681120007092,
          1.0188730879524757,
          1.13975783531601,
          1.5765901560378033,
          1.2241513817162735,
          0.7167131752530517,
          1.0599612090559536,
          0.879614358272703,
          0.4675921355749495
         ]
        },
        {
         "name": "346061612",
         "type": "box",
         "y": [
          1.2739222961845076,
          1.5002892695812422,
          0.8089706192480771,
          0.9119749620474641,
          0.5078261205967425,
          0.673061283088496,
          0.5635347191722427,
          0.680655976085815,
          0.6058834461634538,
          1.9224717300597034,
          1.4753721156214368,
          0.8015737976727568,
          0.6301499858403348,
          0.5887963938223297,
          1.4311430114817938,
          1.0043647815199412,
          0.6912964409778348,
          0.5121627325870513,
          0.8921292752561024,
          0.45831023864525805,
          0.5263295618964204,
          0.35139615120755235,
          0.34333817184138254,
          0.32350841408613823,
          2.5430232044380205,
          0.6273789981391431,
          0.3284409099153334,
          0.475422732564441,
          4.542794010732861,
          2.31473702007933,
          2.2841929563591803,
          1.721435598940901,
          0.7782933947937947,
          0.8582301327286859,
          0.5269481359553828,
          0.44984587652197544
         ]
        },
        {
         "name": "40333612",
         "type": "box",
         "y": [
          0.8345015381033661,
          0.5488319761432516,
          0.24723189883373786,
          0.4022054919543362,
          0.23329998157687343,
          0.17408301308352525,
          0.2241014924099427,
          0.2781907690993004,
          0.24167609802564907,
          1.3191295278245183,
          1.10502473954672,
          0.6568790641760393,
          0.49336745299663504,
          0.3513081199458472,
          1.1877472752126499,
          0.865131080850384,
          0.5037184971692359,
          0.491744921031921,
          0.6222135077725691,
          0.26572812506110943,
          0.22844055167462765,
          0.23039132024774825,
          0.20154345248278438,
          0.19784881830798867,
          1.6674026977220604,
          0.33055109289965595,
          0.19572132253596727,
          0.4597202382827121,
          3.053349652982763,
          1.1060665910433407,
          1.116203098569856,
          0.8052249857623354,
          0.5593328177871558,
          0.276605598458755,
          0.2082843087252551,
          0.3906557255870438
         ]
        },
        {
         "name": "511723709",
         "type": "box",
         "y": [
          1.0006349542563957,
          0.7319182467468057,
          0.556980364820882,
          0.49874582697388564,
          0.24094444129430728,
          0.25435019344744314,
          0.2839676672299745,
          0.44907539283651626,
          0.29813071957515314,
          1.4886131630365733,
          1.2066731425514419,
          0.7961750708783325,
          0.9961527932956986,
          0.5991029614565814,
          0.9280407706225515,
          0.7994143001656807,
          0.5965592669898394,
          0.499208369986703,
          0.5869327246593373,
          0.37628158323056443,
          0.31861169196820166,
          0.2467855010650871,
          0.2579190246076709,
          0.27861547414637283,
          2.0201422982370953,
          0.4724749252978599,
          0.25715764181965145,
          0.39615155962427906,
          3.154000254465268,
          1.3354893968062174,
          1.193454153366237,
          1.0686228468259324,
          0.4860810685062648,
          0.4834325421852245,
          0.2915825494357433,
          0.47345387259284794
         ]
        },
        {
         "name": "1004972352",
         "type": "box",
         "y": [
          0.5443151599221249,
          0.9798658811489886,
          0.6801730596012688,
          0.591344349328187,
          0.7500839716402546,
          0.7176460762853992,
          0.6288274091703226,
          0.5022092882317912,
          0.35556207318317096,
          0.33261595690195256,
          0.7330702737560091,
          0.8186045083261894,
          0.6172678773866092,
          0.4189264340851224,
          1.0337779952739325,
          0.8650267326260248,
          1.0980206940877608,
          0.7945204078560217,
          0.5678704558952269,
          0.9851422818005079,
          0.9457541324872782,
          0.7131652835384079,
          0.9842061892393125,
          0.6227552412456646,
          0.3550342140713157,
          0.6886969570552431,
          1.0750955378959248,
          0.6188941359032657,
          1.2625529741169714,
          1.064526639178278,
          1.0249013159352265,
          1.020949823847285,
          0.4550172252638254,
          1.1393605683297368,
          1.337000077920288,
          0.3540439792764251
         ]
        },
        {
         "name": "143824576",
         "type": "box",
         "y": [
          1.006796707385006,
          0.9159248118585123,
          0.1801414883129782,
          0.5408231915955526,
          0.2209628891686723,
          0.2675333669845588,
          0.14048321196803515,
          0.12472553041141293,
          0.14541478402910019,
          1.2716230090518614,
          1.3167282193187897,
          0.7541603195389911,
          0.7972746556267183,
          0.34322107151702796,
          1.3323241262977417,
          0.7856533888101825,
          0.5395906445162322,
          0.5315925727333006,
          0.8098590008518705,
          0.19183249448850512,
          0.21758518269809912,
          0.35010111321208853,
          0.17736165131153772,
          0.29645729560982514,
          1.7238255096804533,
          0.3547283043116789,
          0.24755700661604757,
          0.3947258245584506,
          3.036674327481215,
          1.0484400885469003,
          1.0498702376159739,
          1.1601534825888729,
          0.8094247040985085,
          0.245451674348229,
          0.11285958747121828,
          0.3207361571781655
         ]
        },
        {
         "name": "368424646",
         "type": "box",
         "y": [
          3.19238218439555,
          2.378831448794121,
          2.2882017662424388,
          1.9423260812437442,
          2.20768403406262,
          1.7810290674696931,
          1.7977739348140978,
          3.5394784054524786,
          1.7832935180192113,
          1.1406912928406276,
          1.3859564583431685,
          0.7913642231234462,
          1.053555117929419,
          0.8711314326690704,
          3.552700402362076,
          2.6789506820870272,
          2.335686053249854,
          0.9634951225260362,
          0.6761984835561344,
          0.9569039938648901,
          0.8900117290649878,
          3.619340001025256,
          1.9855670183653724,
          1.9963693908370843,
          0.943501429914711,
          0.9885158297036372,
          1.1427076006199204,
          1.0835523320043765,
          3.405916210906793,
          1.4166536067861133,
          1.807602066865194,
          0.6582250030960783,
          0.7180915912895793,
          1.3080198570239496,
          1.4827988319031917,
          3.046016507357111
         ]
        },
        {
         "name": "1428227531",
         "type": "box",
         "y": [
          0.5881237535556366,
          1.3247599445803253,
          0.9037184296188235,
          0.9055695178220925,
          0.8705610190033851,
          0.9632731207365565,
          0.8531584451332874,
          0.7862292253472393,
          0.6209468008547576,
          0.5854827156422403,
          1.0997953117233037,
          1.2821042026468528,
          0.7513918311249689,
          0.6834856303684165,
          1.219495712353622,
          1.2808374478330595,
          1.7263002252076816,
          0.7904993126734784,
          0.8853573784169041,
          0.7763889980689105,
          0.8187448893187974,
          0.48794413252303176,
          0.46044792549454333,
          0.4499543890404606,
          0.5011291933298915,
          1.0885340692575347,
          0.797593914031911,
          0.26159094714931813,
          2.071817124311777,
          1.168499136793829,
          1.2844673059565754,
          0.6911888316539736,
          0.6115487766800006,
          1.505587360444974,
          1.1561897834339614,
          0.5270517634977997
         ]
        },
        {
         "name": "2040495184",
         "type": "box",
         "y": [
          0.6164082845670509,
          1.0362486174419616,
          0.6831124015075709,
          0.6684468163122924,
          0.6523007519986059,
          1.0326807783235783,
          0.8023727598133351,
          0.7237025224448381,
          0.7290714931461453,
          0.4626753142348827,
          0.8691618472316898,
          0.7732796967531395,
          0.7530822523336822,
          0.7168174910177937,
          1.1823184190476261,
          1.2480552347104874,
          1.6556666807266074,
          0.8267405907177265,
          0.6727480288293777,
          0.7619468094431296,
          0.6792699534744318,
          0.5480324843659221,
          0.27262782699502586,
          0.4357603556326868,
          0.33770054002154903,
          0.6818676069662636,
          0.7241186781959362,
          0.5204094911097373,
          1.6376683243666437,
          1.302558448426091,
          1.118059355921565,
          0.7798459691087923,
          0.8225489869475552,
          1.5717031221394793,
          0.7773007931070806,
          0.4434320748072262
         ]
        },
        {
         "name": "1893337300",
         "type": "box",
         "y": [
          0.7065760092751351,
          0.9201557788230299,
          0.6477678095226803,
          0.5141626129927783,
          0.855536129480269,
          1.0519574650788166,
          0.6407103644376478,
          0.3841932674107557,
          0.35496398798537127,
          0.3869682532674249,
          0.5973065337869865,
          0.680534663862042,
          0.7455856426742709,
          0.4399717135826883,
          1.158051973532689,
          0.9413309086388428,
          1.4612677143374848,
          0.5717113533329627,
          0.5900710287593185,
          0.5887658264148719,
          0.47505303140536514,
          0.36731813094623134,
          0.36770708151995396,
          0.41122180885316234,
          0.5297998355735324,
          1.2589100121647685,
          0.45672136602275654,
          0.6008445776378576,
          2.165109345767059,
          1.4166660555824306,
          0.878334400811465,
          0.7751412307593929,
          0.6717590361231217,
          0.9781540394816595,
          0.7642921739406833,
          0.404657656516452
         ]
        },
        {
         "name": "2117861717",
         "type": "box",
         "y": [
          0.7611005422498607,
          0.7695540427819068,
          0.2612958732650695,
          0.6405689044739555,
          0.19147549506720887,
          0.27525075149595374,
          0.25388118350349453,
          0.2254963616712201,
          0.29382997986768616,
          1.4418818842446806,
          0.7105926576997251,
          0.8903773329924576,
          0.7157060699522946,
          0.36469194519794434,
          0.7403888219808435,
          0.8719513134635296,
          0.31964074645626195,
          0.375477039273713,
          0.62823346493108,
          0.20001539854642914,
          0.19970807194918447,
          0.1845233131174999,
          0.14948765286923013,
          0.15504337712458302,
          1.6975360002915225,
          0.3285400206990173,
          0.1954733175792129,
          0.28885241284365426,
          3.1394611563670995,
          0.9471806840429099,
          0.9993914039893361,
          0.680568359105656,
          0.44689681979298645,
          0.267860159631157,
          0.17195026358783097,
          0.27127974243267
         ]
        },
        {
         "name": "1941427679",
         "type": "box",
         "y": [
          1.141520960211782,
          1.3245318016473917,
          0.5991634318337318,
          0.6138226792025583,
          0.34105204947303946,
          0.32828688724612415,
          0.42718887993650956,
          0.5157961802952826,
          0.4714416532473874,
          1.688342956592007,
          1.1464378993371842,
          1.3014570299362385,
          0.8729110191162802,
          0.664551280673353,
          0.9953939579509429,
          1.1083005280922409,
          0.6824920676787289,
          0.7730540244316194,
          0.7251903759366823,
          0.41346627395673374,
          0.35660200712956297,
          0.3627441258965962,
          0.3186170802458029,
          0.3307939411515662,
          2.535916645876937,
          0.8444626155475655,
          0.4030370401544521,
          0.4057419419253755,
          3.8933023880568105,
          1.807618500873588,
          1.5150833498691632,
          0.803791585595186,
          0.6794730675998782,
          0.7020153183991498,
          0.42320527660594703,
          0.500560132743622
         ]
        },
        {
         "name": "1708098535",
         "type": "box",
         "y": [
          0.9131972611148669,
          0.8735224393163245,
          0.4123415907112257,
          0.7275815783258499,
          0.154280113807136,
          0.2548573384619954,
          0.19135616293223626,
          0.2559154474493056,
          0.2776182866530649,
          1.397593469268214,
          1.057043235992839,
          0.7027011481060453,
          0.4268600174383815,
          0.26796993500592864,
          1.0579277367913893,
          1.1005726937330038,
          0.27521670645041335,
          0.32262365630889944,
          0.9831169745538001,
          0.22363846900067963,
          0.204381878631345,
          0.2076877726010325,
          0.14783491299415277,
          0.16419088577381027,
          1.7883957818741747,
          0.3370191227948026,
          0.22345202740161077,
          0.24717682979177175,
          3.7027608910981824,
          1.7523163816008456,
          0.5390563552621097,
          0.9276637173102408,
          0.7352276909724951,
          0.22815699838088627,
          0.21815522811665478,
          0.24011749821025408
         ]
        },
        {
         "name": "456209269",
         "type": "box",
         "y": [
          0.9229707459617785,
          0.6761540062408349,
          0.2731915391819154,
          0.4053793138605668,
          0.2185973607624155,
          0.25404091041961296,
          0.23208943022920794,
          0.2809235759224623,
          0.24516322195309234,
          1.39400878703092,
          0.8997520790846342,
          0.7339415192158156,
          0.4918957319848887,
          0.38931339407812615,
          0.8463259754709811,
          0.9049163823013532,
          0.36987497554042886,
          0.39786493016358765,
          0.506046004642339,
          0.285201051129068,
          0.20797444807416496,
          0.35915300473278305,
          0.26791929676477105,
          0.26651419617663563,
          1.9174130461386514,
          0.40738089021570545,
          0.31814258393108275,
          0.3395609408546056,
          3.532666791141967,
          1.2191557338964167,
          0.9885336908752471,
          0.9501193752709376,
          0.467569382878979,
          0.29200708371371004,
          0.18271534947894483,
          0.35405633728228647
         ]
        }
       ],
       "layout": {
        "showlegend": false,
        "template": {
         "data": {
          "bar": [
           {
            "error_x": {
             "color": "#2a3f5f"
            },
            "error_y": {
             "color": "#2a3f5f"
            },
            "marker": {
             "line": {
              "color": "#E5ECF6",
              "width": 0.5
             }
            },
            "type": "bar"
           }
          ],
          "barpolar": [
           {
            "marker": {
             "line": {
              "color": "#E5ECF6",
              "width": 0.5
             }
            },
            "type": "barpolar"
           }
          ],
          "carpet": [
           {
            "aaxis": {
             "endlinecolor": "#2a3f5f",
             "gridcolor": "white",
             "linecolor": "white",
             "minorgridcolor": "white",
             "startlinecolor": "#2a3f5f"
            },
            "baxis": {
             "endlinecolor": "#2a3f5f",
             "gridcolor": "white",
             "linecolor": "white",
             "minorgridcolor": "white",
             "startlinecolor": "#2a3f5f"
            },
            "type": "carpet"
           }
          ],
          "choropleth": [
           {
            "colorbar": {
             "outlinewidth": 0,
             "ticks": ""
            },
            "type": "choropleth"
           }
          ],
          "contour": [
           {
            "colorbar": {
             "outlinewidth": 0,
             "ticks": ""
            },
            "colorscale": [
             [
              0,
              "#0d0887"
             ],
             [
              0.1111111111111111,
              "#46039f"
             ],
             [
              0.2222222222222222,
              "#7201a8"
             ],
             [
              0.3333333333333333,
              "#9c179e"
             ],
             [
              0.4444444444444444,
              "#bd3786"
             ],
             [
              0.5555555555555556,
              "#d8576b"
             ],
             [
              0.6666666666666666,
              "#ed7953"
             ],
             [
              0.7777777777777778,
              "#fb9f3a"
             ],
             [
              0.8888888888888888,
              "#fdca26"
             ],
             [
              1,
              "#f0f921"
             ]
            ],
            "type": "contour"
           }
          ],
          "contourcarpet": [
           {
            "colorbar": {
             "outlinewidth": 0,
             "ticks": ""
            },
            "type": "contourcarpet"
           }
          ],
          "heatmap": [
           {
            "colorbar": {
             "outlinewidth": 0,
             "ticks": ""
            },
            "colorscale": [
             [
              0,
              "#0d0887"
             ],
             [
              0.1111111111111111,
              "#46039f"
             ],
             [
              0.2222222222222222,
              "#7201a8"
             ],
             [
              0.3333333333333333,
              "#9c179e"
             ],
             [
              0.4444444444444444,
              "#bd3786"
             ],
             [
              0.5555555555555556,
              "#d8576b"
             ],
             [
              0.6666666666666666,
              "#ed7953"
             ],
             [
              0.7777777777777778,
              "#fb9f3a"
             ],
             [
              0.8888888888888888,
              "#fdca26"
             ],
             [
              1,
              "#f0f921"
             ]
            ],
            "type": "heatmap"
           }
          ],
          "heatmapgl": [
           {
            "colorbar": {
             "outlinewidth": 0,
             "ticks": ""
            },
            "colorscale": [
             [
              0,
              "#0d0887"
             ],
             [
              0.1111111111111111,
              "#46039f"
             ],
             [
              0.2222222222222222,
              "#7201a8"
             ],
             [
              0.3333333333333333,
              "#9c179e"
             ],
             [
              0.4444444444444444,
              "#bd3786"
             ],
             [
              0.5555555555555556,
              "#d8576b"
             ],
             [
              0.6666666666666666,
              "#ed7953"
             ],
             [
              0.7777777777777778,
              "#fb9f3a"
             ],
             [
              0.8888888888888888,
              "#fdca26"
             ],
             [
              1,
              "#f0f921"
             ]
            ],
            "type": "heatmapgl"
           }
          ],
          "histogram": [
           {
            "marker": {
             "colorbar": {
              "outlinewidth": 0,
              "ticks": ""
             }
            },
            "type": "histogram"
           }
          ],
          "histogram2d": [
           {
            "colorbar": {
             "outlinewidth": 0,
             "ticks": ""
            },
            "colorscale": [
             [
              0,
              "#0d0887"
             ],
             [
              0.1111111111111111,
              "#46039f"
             ],
             [
              0.2222222222222222,
              "#7201a8"
             ],
             [
              0.3333333333333333,
              "#9c179e"
             ],
             [
              0.4444444444444444,
              "#bd3786"
             ],
             [
              0.5555555555555556,
              "#d8576b"
             ],
             [
              0.6666666666666666,
              "#ed7953"
             ],
             [
              0.7777777777777778,
              "#fb9f3a"
             ],
             [
              0.8888888888888888,
              "#fdca26"
             ],
             [
              1,
              "#f0f921"
             ]
            ],
            "type": "histogram2d"
           }
          ],
          "histogram2dcontour": [
           {
            "colorbar": {
             "outlinewidth": 0,
             "ticks": ""
            },
            "colorscale": [
             [
              0,
              "#0d0887"
             ],
             [
              0.1111111111111111,
              "#46039f"
             ],
             [
              0.2222222222222222,
              "#7201a8"
             ],
             [
              0.3333333333333333,
              "#9c179e"
             ],
             [
              0.4444444444444444,
              "#bd3786"
             ],
             [
              0.5555555555555556,
              "#d8576b"
             ],
             [
              0.6666666666666666,
              "#ed7953"
             ],
             [
              0.7777777777777778,
              "#fb9f3a"
             ],
             [
              0.8888888888888888,
              "#fdca26"
             ],
             [
              1,
              "#f0f921"
             ]
            ],
            "type": "histogram2dcontour"
           }
          ],
          "mesh3d": [
           {
            "colorbar": {
             "outlinewidth": 0,
             "ticks": ""
            },
            "type": "mesh3d"
           }
          ],
          "parcoords": [
           {
            "line": {
             "colorbar": {
              "outlinewidth": 0,
              "ticks": ""
             }
            },
            "type": "parcoords"
           }
          ],
          "pie": [
           {
            "automargin": true,
            "type": "pie"
           }
          ],
          "scatter": [
           {
            "marker": {
             "colorbar": {
              "outlinewidth": 0,
              "ticks": ""
             }
            },
            "type": "scatter"
           }
          ],
          "scatter3d": [
           {
            "line": {
             "colorbar": {
              "outlinewidth": 0,
              "ticks": ""
             }
            },
            "marker": {
             "colorbar": {
              "outlinewidth": 0,
              "ticks": ""
             }
            },
            "type": "scatter3d"
           }
          ],
          "scattercarpet": [
           {
            "marker": {
             "colorbar": {
              "outlinewidth": 0,
              "ticks": ""
             }
            },
            "type": "scattercarpet"
           }
          ],
          "scattergeo": [
           {
            "marker": {
             "colorbar": {
              "outlinewidth": 0,
              "ticks": ""
             }
            },
            "type": "scattergeo"
           }
          ],
          "scattergl": [
           {
            "marker": {
             "colorbar": {
              "outlinewidth": 0,
              "ticks": ""
             }
            },
            "type": "scattergl"
           }
          ],
          "scattermapbox": [
           {
            "marker": {
             "colorbar": {
              "outlinewidth": 0,
              "ticks": ""
             }
            },
            "type": "scattermapbox"
           }
          ],
          "scatterpolar": [
           {
            "marker": {
             "colorbar": {
              "outlinewidth": 0,
              "ticks": ""
             }
            },
            "type": "scatterpolar"
           }
          ],
          "scatterpolargl": [
           {
            "marker": {
             "colorbar": {
              "outlinewidth": 0,
              "ticks": ""
             }
            },
            "type": "scatterpolargl"
           }
          ],
          "scatterternary": [
           {
            "marker": {
             "colorbar": {
              "outlinewidth": 0,
              "ticks": ""
             }
            },
            "type": "scatterternary"
           }
          ],
          "surface": [
           {
            "colorbar": {
             "outlinewidth": 0,
             "ticks": ""
            },
            "colorscale": [
             [
              0,
              "#0d0887"
             ],
             [
              0.1111111111111111,
              "#46039f"
             ],
             [
              0.2222222222222222,
              "#7201a8"
             ],
             [
              0.3333333333333333,
              "#9c179e"
             ],
             [
              0.4444444444444444,
              "#bd3786"
             ],
             [
              0.5555555555555556,
              "#d8576b"
             ],
             [
              0.6666666666666666,
              "#ed7953"
             ],
             [
              0.7777777777777778,
              "#fb9f3a"
             ],
             [
              0.8888888888888888,
              "#fdca26"
             ],
             [
              1,
              "#f0f921"
             ]
            ],
            "type": "surface"
           }
          ],
          "table": [
           {
            "cells": {
             "fill": {
              "color": "#EBF0F8"
             },
             "line": {
              "color": "white"
             }
            },
            "header": {
             "fill": {
              "color": "#C8D4E3"
             },
             "line": {
              "color": "white"
             }
            },
            "type": "table"
           }
          ]
         },
         "layout": {
          "annotationdefaults": {
           "arrowcolor": "#2a3f5f",
           "arrowhead": 0,
           "arrowwidth": 1
          },
          "autotypenumbers": "strict",
          "coloraxis": {
           "colorbar": {
            "outlinewidth": 0,
            "ticks": ""
           }
          },
          "colorscale": {
           "diverging": [
            [
             0,
             "#8e0152"
            ],
            [
             0.1,
             "#c51b7d"
            ],
            [
             0.2,
             "#de77ae"
            ],
            [
             0.3,
             "#f1b6da"
            ],
            [
             0.4,
             "#fde0ef"
            ],
            [
             0.5,
             "#f7f7f7"
            ],
            [
             0.6,
             "#e6f5d0"
            ],
            [
             0.7,
             "#b8e186"
            ],
            [
             0.8,
             "#7fbc41"
            ],
            [
             0.9,
             "#4d9221"
            ],
            [
             1,
             "#276419"
            ]
           ],
           "sequential": [
            [
             0,
             "#0d0887"
            ],
            [
             0.1111111111111111,
             "#46039f"
            ],
            [
             0.2222222222222222,
             "#7201a8"
            ],
            [
             0.3333333333333333,
             "#9c179e"
            ],
            [
             0.4444444444444444,
             "#bd3786"
            ],
            [
             0.5555555555555556,
             "#d8576b"
            ],
            [
             0.6666666666666666,
             "#ed7953"
            ],
            [
             0.7777777777777778,
             "#fb9f3a"
            ],
            [
             0.8888888888888888,
             "#fdca26"
            ],
            [
             1,
             "#f0f921"
            ]
           ],
           "sequentialminus": [
            [
             0,
             "#0d0887"
            ],
            [
             0.1111111111111111,
             "#46039f"
            ],
            [
             0.2222222222222222,
             "#7201a8"
            ],
            [
             0.3333333333333333,
             "#9c179e"
            ],
            [
             0.4444444444444444,
             "#bd3786"
            ],
            [
             0.5555555555555556,
             "#d8576b"
            ],
            [
             0.6666666666666666,
             "#ed7953"
            ],
            [
             0.7777777777777778,
             "#fb9f3a"
            ],
            [
             0.8888888888888888,
             "#fdca26"
            ],
            [
             1,
             "#f0f921"
            ]
           ]
          },
          "colorway": [
           "#636efa",
           "#EF553B",
           "#00cc96",
           "#ab63fa",
           "#FFA15A",
           "#19d3f3",
           "#FF6692",
           "#B6E880",
           "#FF97FF",
           "#FECB52"
          ],
          "font": {
           "color": "#2a3f5f"
          },
          "geo": {
           "bgcolor": "white",
           "lakecolor": "white",
           "landcolor": "#E5ECF6",
           "showlakes": true,
           "showland": true,
           "subunitcolor": "white"
          },
          "hoverlabel": {
           "align": "left"
          },
          "hovermode": "closest",
          "mapbox": {
           "style": "light"
          },
          "paper_bgcolor": "white",
          "plot_bgcolor": "#E5ECF6",
          "polar": {
           "angularaxis": {
            "gridcolor": "white",
            "linecolor": "white",
            "ticks": ""
           },
           "bgcolor": "#E5ECF6",
           "radialaxis": {
            "gridcolor": "white",
            "linecolor": "white",
            "ticks": ""
           }
          },
          "scene": {
           "xaxis": {
            "backgroundcolor": "#E5ECF6",
            "gridcolor": "white",
            "gridwidth": 2,
            "linecolor": "white",
            "showbackground": true,
            "ticks": "",
            "zerolinecolor": "white"
           },
           "yaxis": {
            "backgroundcolor": "#E5ECF6",
            "gridcolor": "white",
            "gridwidth": 2,
            "linecolor": "white",
            "showbackground": true,
            "ticks": "",
            "zerolinecolor": "white"
           },
           "zaxis": {
            "backgroundcolor": "#E5ECF6",
            "gridcolor": "white",
            "gridwidth": 2,
            "linecolor": "white",
            "showbackground": true,
            "ticks": "",
            "zerolinecolor": "white"
           }
          },
          "shapedefaults": {
           "line": {
            "color": "#2a3f5f"
           }
          },
          "ternary": {
           "aaxis": {
            "gridcolor": "white",
            "linecolor": "white",
            "ticks": ""
           },
           "baxis": {
            "gridcolor": "white",
            "linecolor": "white",
            "ticks": ""
           },
           "bgcolor": "#E5ECF6",
           "caxis": {
            "gridcolor": "white",
            "linecolor": "white",
            "ticks": ""
           }
          },
          "title": {
           "x": 0.05
          },
          "xaxis": {
           "automargin": true,
           "gridcolor": "white",
           "linecolor": "white",
           "ticks": "",
           "title": {
            "standoff": 15
           },
           "zerolinecolor": "white",
           "zerolinewidth": 2
          },
          "yaxis": {
           "automargin": true,
           "gridcolor": "white",
           "linecolor": "white",
           "ticks": "",
           "title": {
            "standoff": 15
           },
           "zerolinecolor": "white",
           "zerolinewidth": 2
          }
         }
        },
        "title": {
         "text": "LSTM"
        },
        "xaxis": {
         "title": {
          "text": "Time series"
         }
        },
        "yaxis": {
         "title": {
          "text": "MASE distribution"
         }
        }
       }
      },
      "text/html": [
       "<div>                            <div id=\"c04edfc7-6e87-4366-a79f-582ee7830202\" class=\"plotly-graph-div\" style=\"height:525px; width:100%;\"></div>            <script type=\"text/javascript\">                require([\"plotly\"], function(Plotly) {                    window.PLOTLYENV=window.PLOTLYENV || {};                                    if (document.getElementById(\"c04edfc7-6e87-4366-a79f-582ee7830202\")) {                    Plotly.newPlot(                        \"c04edfc7-6e87-4366-a79f-582ee7830202\",                        [{\"name\": \"grid\", \"type\": \"box\", \"y\": [1.2354774395423351, 1.1171428916014359, 0.7993274246742952, 2.1183795146117292, 1.3654891161006806, 1.6989868219458513, 2.13633623649371, 1.246406399899505, 1.2955410704734325, 0.7400306434417467, 0.7036381632138289, 1.1393532477331096, 1.9266837392889593, 1.8386192879132248, 1.7702273364063708, 0.8806028921366997, 1.4034838467669724, 0.7868948593165561, 2.294146074378257, 1.6787664154472337, 1.9676525929828588, 1.27151290033647, 1.31420948738389, 0.8946901048430028, 0.7833009795098318, 1.185205393541342, 1.44962424616909, 1.3694847225854303, 3.5833976613054697, 2.822365071569557, 1.2001564761117594, 0.6941539527108906, 1.5868498410255623, 1.5060191221833243, 1.8758818283984904, 1.1764035605562435]}, {\"name\": \"tline_1\", \"type\": \"box\", \"y\": [1.1062047647748294, 1.2827472694838835, 1.5544766985952505, 0.6352868705527703, 0.560442318265638, 0.2723407120462276, 0.22719624982208936, 0.30803560565488547, 0.27155124705611094, 1.7227679158153917, 0.5971839514901089, 1.2813102052965384, 1.663466448823322, 0.2918627929247929, 1.2782823362903941, 1.092441000652503, 0.6872159994822056, 0.4536119413243057, 1.0700047059827171, 0.7618006809771548, 0.35483929964628175, 0.26453742808397224, 0.24277455267014925, 0.25464238099678443, 2.156359996665966, 2.18057254125668, 0.4481321100851643, 0.4832270236215253, 4.524385702610429, 1.7353074493608778, 1.3799585619624568, 0.8702033510805928, 0.7542610150435061, 0.6187649624358271, 0.324225396683188, 0.5344037423775136]}, {\"name\": \"tline_2\", \"type\": \"box\", \"y\": [1.2978134601597653, 1.2458381111357915, 1.005859654383406, 2.8568826359711696, 1.3701769032953777, 2.0683213802588702, 1.6322065450882188, 1.3981098169825164, 1.1825234587754316, 0.7868359540044488, 0.9707506805859987, 1.4484139755760672, 2.2239195046631592, 2.0082239703318168, 1.6814203107126076, 0.7293470023893557, 1.7952502045351304, 1.0413220251734192, 2.2324603349313983, 2.401719572018043, 1.7015701417791853, 1.1235872018533812, 1.4000445345288637, 0.6868746146011778, 1.7232962629693618, 1.0848439737977458, 1.2257502187142235, 1.6614068280522105, 2.7745542304268316, 3.3527558362192793, 1.146858284065084, 0.9938526743308044, 1.4019966186327046, 1.3988614392144876, 1.8065079550452885, 1.0732047896873589]}, {\"name\": \"substation1\", \"type\": \"box\", \"y\": [1.1512449992863651, 1.4705925090849552, 1.6198247290951577, 0.6478475209496263, 0.521707869114076, 0.28384752903205795, 0.25806674732307905, 0.21637338234732856, 0.141421755102713, 1.6758450898230326, 0.7072583106343688, 1.0653175581675447, 1.986810841471213, 0.3636051763906411, 1.3277170649413885, 1.099825771803117, 0.4401310470992977, 0.40329743109187566, 1.2499210911660912, 0.9516273980245041, 0.2724497344676256, 0.24399895452062817, 0.1664343122913391, 0.11262148599508526, 2.2090848116269006, 2.3252989276808296, 0.34375550081831124, 0.422336159404069, 4.493310015632514, 1.377904211619123, 1.4553544778468286, 1.5834608278778124, 0.7254283346055369, 0.7960878477271587, 0.14294387638681372, 0.35222132508666854]}, {\"name\": \"substation2\", \"type\": \"box\", \"y\": [0.9986943155086414, 0.919806233673445, 1.5365337000555823, 0.5708174579885326, 0.8040161548092151, 0.29249797623677415, 0.3401060301364334, 0.3149584775258391, 0.3029349983274742, 1.5335903694425301, 0.6180283808216062, 1.216821728586149, 2.044244064483235, 0.5450980014046809, 1.2665071780324828, 0.7104693022158719, 0.6001759655702534, 0.4855997618122567, 0.9011730684504452, 0.7406786230510883, 0.5406423771452231, 0.34456572217199616, 0.3336082506747924, 0.3436526395419121, 1.8196083559499336, 1.4819382348478733, 0.42851377531104023, 0.5741961212146581, 4.1467378554679275, 1.7174167451849744, 0.9428883011457408, 1.1791666299983192, 0.5586220033206634, 0.5943571404228156, 0.34999819589747666, 0.5261479423404509]}, {\"name\": \"substation3\", \"type\": \"box\", \"y\": [1.4464571432817757, 0.8779346267353914, 0.8618782031756573, 2.908653055047307, 0.7055782017629639, 1.7192102265151745, 1.7124601819040965, 1.6092602316168552, 1.0704861253755493, 0.8233084111126165, 0.7877576961148935, 1.0553883159719217, 2.4140192085295764, 1.228149810628854, 1.771561133640335, 0.7210794825537175, 1.588955093556217, 1.1291290610971891, 2.417988695361429, 2.248921828773829, 0.9954162820702903, 1.2267160771752774, 1.2452136636127293, 0.7944019685275597, 1.3818872217515998, 0.7558682112866236, 0.9148535996669219, 1.8344924679833197, 2.9466542449470285, 3.2079791509915356, 1.2070131912126023, 0.7989930425161463, 1.0820470196592478, 1.4901580594532602, 2.1766924112857713, 1.59513081199381]}, {\"name\": \"substation4\", \"type\": \"box\", \"y\": [0.786111357930806, 0.955645841682441, 1.4552385864294801, 0.24692763943772106, 0.6834070879456824, 0.9204087063776962, 1.4699925202839013, 0.5719238669370119, 0.7292652769911847, 0.5065982155707729, 0.5608751893184638, 1.314365878725863, 0.6328104515488049, 0.4899719439110114, 1.2754355049682222, 1.1424004835422148, 1.220201515947657, 0.9782062656001189, 0.5168969643751957, 0.5866395785094005, 0.6659272743271348, 0.3097009327747788, 1.0113991675525593, 0.5201956137389786, 0.6241927704169253, 0.6895856062708159, 1.0856776777776704, 0.5726272141805809, 2.231783626733256, 1.9184440744381366, 0.6507659405521485, 0.7461234118526076, 1.0151116122153045, 0.9988787557343797, 1.2052944999489559, 0.9026466284886041]}, {\"name\": \"6010\", \"type\": \"box\", \"y\": [0.9013351121021638, 0.8373897608318219, 0.5059745751244196, 0.6130669033712262, 0.096916976694273, 0.2383233955983567, 0.15486602634166663, 0.17412598748556107, 0.19992298722901683, 1.435316908665193, 0.9044267704951795, 0.6880738017748501, 0.5810260578874379, 0.30223778377792115, 1.0782275830199666, 0.9071849133370901, 0.548856676105562, 0.4338246934086923, 0.8828553305285548, 0.26672761115193594, 0.17704618072226957, 0.1936197633234202, 0.1638657651579075, 0.19785557020003897, 1.8556309045228896, 0.33759839344029174, 0.2550774028649631, 0.2806898328555812, 3.3224290936030014, 1.4476988745928485, 0.9338516508979141, 0.8325136239081874, 0.55857851657722, 0.40967401662808833, 0.3006385775404637, 0.2822870310838595]}, {\"name\": \"6014\", \"type\": \"box\", \"y\": [1.1139169034987044, 0.9992510840522753, 0.5051165057537153, 0.6509747536382756, 0.2155660944333879, 0.2669570104700625, 0.2665714125536996, 0.3085848555179541, 0.32623014339909434, 1.7374976059417129, 1.182013171948731, 0.883996675064079, 0.708922631216013, 0.5649947392324802, 1.1127449982495496, 0.936153352758484, 0.5748531993246597, 0.4623214581433126, 0.8763821050887087, 0.3768306457232722, 0.3371608309543019, 0.28645438449139143, 0.2678382290822668, 0.22270956488697122, 2.4132901178537485, 0.6036072639138439, 0.24371219057835172, 0.28235060837300324, 4.074096126426272, 0.9562719141053325, 1.4089029159994129, 0.9087280030532842, 0.6595599981806727, 0.4060019062239241, 0.33671846428336827, 0.4175295684312924]}, {\"name\": \"6011\", \"type\": \"box\", \"y\": [0.8349765715742624, 0.7137577284446748, 0.3263090152916584, 0.4033995658102023, 0.23782915422229248, 0.21307526979065078, 0.2124914600670377, 0.25018549172418114, 0.17108428297339284, 1.3833065675684322, 0.8343670435489924, 0.8666721594018403, 0.8034459017433183, 0.29689652399318434, 1.0777763895482073, 0.9250507100249555, 0.5568371731851167, 0.442816287173461, 0.5797928351655258, 0.3213464129205693, 0.2549994074507228, 0.2923608709576997, 0.25340366255857394, 0.20626557358803035, 1.8174175443213905, 0.4608128024701794, 0.2255987950688064, 0.325190531329448, 3.7784511578114293, 1.3937973801922912, 0.8788518525894341, 0.7071460277143377, 0.5137168482604194, 0.3354983072253268, 0.23975252908858455, 0.3836607950659632]}, {\"name\": \"6280\", \"type\": \"box\", \"y\": [1.365390709041953, 1.8435490580888585, 1.128295817123153, 2.221042759559406, 0.40699727408362885, 1.8595202029890687, 2.019869602798184, 1.0507054979342096, 1.4485427737242191, 1.0649900377783803, 1.0990406880736254, 1.1116775225683577, 1.5313377303798483, 1.3241737101138074, 1.5587703859574393, 1.4022870056516579, 2.2727632133306765, 0.9524783807915859, 1.2250183677611217, 1.4925561516226242, 1.3144131962029444, 1.1773636754857202, 1.659493797428982, 1.1428509905502804, 0.41336664313737365, 1.041266034255344, 2.0709020829818123, 1.974835037449707, 2.4921088020963875, 1.4459117794975378, 1.1795331002750926, 0.6359540076509368, 0.87331803335051, 1.314378332885085, 1.6023967434949415, 0.8565277650030825]}, {\"name\": \"6281\", \"type\": \"box\", \"y\": [1.0419283539237367, 1.0464259320660754, 0.47387076151004515, 0.5017745305400743, 0.3707163375593311, 0.5601024258368263, 1.0473786091153043, 0.6867505744093583, 0.7900201767773678, 0.581032859223237, 0.6121448500865068, 1.351560894089627, 0.6757532133815518, 0.7144538672273845, 1.3122439295217625, 0.4964044973579544, 0.53026544790572, 0.7668368334237137, 0.3572698890839575, 1.1833779602294678, 0.39599549091354613, 0.4903213934722806, 0.7415792391508389, 0.7356182137839605, 0.7391336637873237, 0.7674686168517286, 0.32760536059352624, 0.732074030622169, 1.4502817183611234, 0.7923063995665499, 0.8846329888908205, 0.5633019489262469, 0.9065054765013889, 0.8508677623643844, 0.48452771356308016, 0.2854052983660389]}, {\"name\": \"6284\", \"type\": \"box\", \"y\": [0.64473830100126, 0.9362484468340794, 0.4171523849115531, 0.46073817225363983, 0.7524665858026163, 0.9429054700457221, 0.7631511492934523, 0.48209836201456435, 0.47177254232747295, 0.7107043824272928, 0.5830900237955164, 0.6508754554824893, 0.6123070094228162, 0.3212079759442602, 1.182529382599067, 1.0666413414966103, 1.4713053745302502, 0.577808150994113, 0.5153828553229468, 0.6159259011518942, 0.4957041783958723, 0.33587801992151844, 0.45165648725582086, 0.4023379375035982, 0.34759483677725034, 0.8996629326938869, 0.7163250305185546, 0.6617771804669866, 1.5989855072753467, 1.0452986027958804, 0.3601371843468171, 0.8396578286123725, 0.4821550790923734, 0.919210034048973, 0.7682618763342002, 0.37350090799312446]}, {\"name\": \"1295864320\", \"type\": \"box\", \"y\": [0.7642981869310427, 1.9960219751447927, 0.9788025487875065, 1.059707263664449, 0.8512783815541287, 1.4112161070330296, 1.565343755255447, 1.5311990485962368, 1.1504413094995347, 0.8341090104466027, 0.7765773600350353, 1.0684860814661536, 0.9442029958270134, 0.8697323877667297, 1.4607277397850185, 0.8217408610408785, 2.7551910960912362, 1.1542200165204939, 1.0680058749186951, 0.9090342868932633, 1.1360468776523174, 0.6590333549407381, 1.4945824758643687, 0.8913140160210443, 0.4355125015002312, 1.0381674809745882, 1.258505881697011, 0.7642102217066055, 1.7323567505630433, 1.1361034454866599, 2.234407313552256, 0.9072027526932811, 1.1863276736285484, 1.3795332606280675, 1.2422590565014797, 0.5446889631926525]}, {\"name\": \"1247421966\", \"type\": \"box\", \"y\": [1.0161988503286548, 0.7936246987772938, 0.23395190082406817, 0.4742988922551817, 0.20978415710618856, 0.24575582315874242, 0.152597807830229, 0.17110017559225146, 0.24865579390463943, 1.5698434651829365, 0.7776544249101078, 0.901565031270907, 0.5528448468945857, 0.3861602496497827, 1.0427434793067156, 0.8099700576778833, 0.3788744451396394, 0.46245531362994996, 0.8762763085361059, 0.25672614762511603, 0.20646824131832367, 0.17249231987808508, 0.2534833604577067, 0.19812902715244812, 1.9697826327762722, 0.4632716314360933, 0.21772195879021186, 0.2868596670495417, 2.8181214435833866, 1.0313671613361615, 1.1270742356307333, 0.6695817948082526, 0.5073068208425232, 0.24878382921835956, 0.21464456796002013, 0.46403868546605]}, {\"name\": \"2107373071\", \"type\": \"box\", \"y\": [1.207984788842674, 1.4594787777877505, 0.8940017209925314, 0.8578066701534175, 0.45391551828112764, 0.4552442788513606, 0.49363966209031246, 0.5772173535517793, 0.5342081290153509, 1.835042153408916, 1.0987758527324625, 1.1390099916601062, 1.05642871580158, 0.8833998069682742, 1.2408582272486723, 1.5131228429755466, 0.9562735525799896, 0.6292637054899828, 0.9386622756472253, 0.6314273990526146, 0.5317724664886502, 0.48887066363485765, 0.4253568429813816, 0.47390774142052144, 2.3225512508382913, 0.5544185654368993, 0.5629588203499954, 0.5970257065817322, 4.84545639307382, 2.1973803467629613, 0.972532172321396, 1.0078794844906718, 0.6944002690810825, 0.5458955954563328, 0.4121765720250541, 0.2953063866317613]}, {\"name\": \"2009066518\", \"type\": \"box\", \"y\": [0.764037184722875, 0.8965526138633387, 0.5151690710568159, 0.7559074605550234, 0.653576831157167, 1.1984523165720327, 0.9696862189374711, 0.7956923613767809, 0.5934551834833912, 0.4819701817289452, 1.1167309761938555, 0.8019784406234504, 0.7543492847895422, 0.5149887833666339, 1.2022186050097847, 1.0942088764230118, 1.5475622186053364, 0.7442270487336604, 1.0054697816079674, 0.8379898145597702, 0.7961737540583657, 0.6925337243718904, 0.38146630487774574, 0.555756179167088, 0.5887009389460824, 0.87463365295177, 0.9040363311881735, 0.5480806091218234, 1.8546350165785341, 1.4425458094012622, 1.205744814810185, 0.6245915923601174, 0.684743543842652, 1.4987248721369484, 0.6251715705612908, 0.3474388884023391]}, {\"name\": \"972102295\", \"type\": \"box\", \"y\": [0.7638273736446033, 0.7999585024616308, 0.40635381772689855, 0.5009387789887463, 0.5127738951651889, 0.742232113420071, 1.1416145539933324, 0.469854640964819, 1.174390318473028, 0.8340601934755691, 0.6110841699453021, 0.719626867142088, 0.7570400994371138, 0.6864363520550276, 1.2387079733159696, 0.4952471019378187, 0.46650182300985626, 0.7526437529726552, 0.4621075650776195, 1.1564761167936979, 0.4620722279761917, 0.5483122638270957, 0.7369511300435685, 0.6765011766996777, 0.8633671182145574, 0.5407625226987958, 0.3404056983330355, 0.8615738466961071, 1.495932443390477, 0.46395421709886836, 1.1379980906246334, 0.5139293196355531, 0.7869495679239789, 0.9733342457477192, 0.42758146630697164, 0.23019886656261518]}, {\"name\": \"1616571925\", \"type\": \"box\", \"y\": [1.264475406963067, 1.2005691089311414, 1.3681593113460109, 2.7785593663977277, 1.8192676810784454, 1.6897593763125642, 2.3287352430085684, 2.352248743477264, 1.9911750439221698, 1.031024856692039, 0.6751121465928274, 1.1051033977006073, 1.6796999064217661, 1.5363956040532682, 2.02362055343807, 0.7192167085198005, 1.064265877688746, 1.1423629618852433, 1.3247806308281163, 2.09793337278983, 2.729696977412181, 1.274011323298699, 1.2244480311238648, 1.1795639052725506, 0.5797352501085032, 1.2253797486106104, 2.2441375466745384, 1.851308946249709, 0.9921299196371475, 0.4649099542795821, 2.3864882511280454, 0.973890665979952, 1.2585796301922965, 1.3178890749041214, 3.724106198201789, 1.8912923537457227]}, {\"name\": \"806187417\", \"type\": \"box\", \"y\": [0.9707441213288542, 0.6992975687253933, 0.1788371546892158, 0.5219663588911906, 0.2266886218427127, 0.2794120019950138, 0.24491650761597805, 0.17184679976190034, 0.18547804096356105, 1.6147546170979317, 0.825836567370624, 0.97746014417864, 0.4339430449796473, 0.3584067055930161, 0.886606629443966, 0.9499396084485004, 0.9172363836967935, 0.5521146137049031, 0.7607210220859942, 0.4718824028999988, 0.34875133886463205, 0.1912047134310207, 0.19973612164876434, 0.14976116539769369, 2.0300984483985287, 0.44566589039164317, 0.21810546531381442, 0.2833292309548815, 2.802903723729612, 1.0585901461274536, 1.2111881753275098, 0.9318365290745113, 0.4635841102310228, 0.3580841247038247, 0.15455090992123768, 0.4123417419587532]}, {\"name\": \"771513244\", \"type\": \"box\", \"y\": [1.092011116786416, 0.8362486718453405, 0.42730470150130995, 0.9151860687138975, 0.32429113390622955, 0.29939388516478116, 0.22042598699657248, 0.2242564991759952, 0.28890276309857416, 1.2538083794113428, 0.9751305961305108, 0.7683594586632063, 0.520662774659617, 0.40963870837405564, 1.0495538432197895, 0.8834655761963108, 0.36438935328607913, 0.4315738503397816, 1.015194057964688, 0.25063621351761706, 0.24734661439361502, 0.22892827616891565, 0.16958284363637685, 0.18688399212550394, 1.65003533617447, 0.3134800876726329, 0.25552610945169346, 0.40503945167192124, 3.911697200251238, 1.437892095845127, 0.8377432277305266, 1.071044037425809, 0.8171657377103922, 0.20653623575949603, 0.16899766281533662, 0.312828947683549]}, {\"name\": \"1562145181\", \"type\": \"box\", \"y\": [0.7656980116585884, 1.0154710161844829, 0.717173175484086, 0.6073898314509159, 0.23842677291627556, 0.31626242823093703, 0.19227130257017133, 0.2620655472332657, 0.24316827234230273, 1.7479880665451688, 0.6848536855969194, 1.1708176705733928, 0.4147562475626577, 0.3125819632298857, 0.9369867880469469, 0.9965226163962224, 0.6264240459285216, 0.5181426098006068, 0.8330660751957505, 1.056978739836348, 0.4373313432474559, 0.24856910961999473, 0.2806066849457595, 0.13903448797273799, 1.8958651027826867, 0.8024207008375019, 0.3664145131545613, 0.3515379872271912, 2.9531243297327676, 0.9878589004400418, 1.1268385423235572, 1.07667830705137, 0.7272856480563731, 1.1767076645877734, 0.6998104589018369, 0.5224985909500879]}, {\"name\": \"896338719\", \"type\": \"box\", \"y\": [0.7848793719834095, 0.5587043633797846, 0.25037362562240145, 0.5669801662450691, 0.2548176162287077, 0.26211903859046964, 0.143362603810595, 0.12791982070681293, 0.15363511213580436, 1.23267033884985, 1.0497936326091935, 0.8386560541249471, 0.6549442539886656, 0.17377597838396935, 0.8993507666594044, 0.6450401502984943, 0.3110337960682607, 0.4860619663443198, 0.7119154420327862, 0.13608597503117995, 0.18056703376277045, 0.23104433294831284, 0.2326815193453204, 0.19330884986924343, 1.7039852840452243, 0.26961467393311017, 0.2406450759002364, 0.31154496600744364, 2.9692984101027786, 0.7802404310921385, 0.9849520508735553, 0.9320752580563127, 0.4234375313553813, 0.24523459523583785, 0.18890708976072942, 0.2679821096057961]}, {\"name\": \"1113196323\", \"type\": \"box\", \"y\": [1.1009336431662278, 1.124314007965175, 0.9411943713061184, 0.7266544478592417, 0.9866661906647758, 1.2837542672778601, 1.3677920595339839, 0.9763467707043949, 0.9196879410155943, 0.469363755709872, 1.1693804899331333, 0.8987432760058, 1.2598984747670443, 1.0435751177930666, 1.6454646751194628, 0.8304209849982507, 1.0206261212750098, 0.8711158145209675, 0.8983118444525563, 1.1427239949970114, 0.9422409527377568, 0.7688738086808348, 0.6188759858277153, 0.6736247828201819, 0.288573763044464, 1.251285521983856, 0.8685165144004008, 0.5405577533154077, 1.7783360861778703, 0.7631066823077165, 1.394056499383052, 0.9431275887078627, 1.1891579457438397, 0.695180428920453, 1.0818026593689605, 0.8468720059288318]}, {\"name\": \"1597760039\", \"type\": \"box\", \"y\": [0.6796451159886381, 0.9862056014225558, 0.5230385591443691, 0.5489470898681765, 0.69744426398968, 0.9782969611208748, 0.5960395683046849, 0.5164368216835779, 0.5839392526655685, 0.5089486809189889, 0.9956670881005594, 1.2484116533441927, 0.5764531565012322, 0.6404274627398683, 1.3478127313304846, 0.9601912293147714, 1.2522464229421886, 0.7238927853101229, 0.7232393318402245, 0.48698549984773265, 0.5124447160445984, 0.39880031142854977, 0.41675651785113116, 0.43645416932402287, 0.31405396153424436, 1.0086374275417267, 0.8323848213817455, 0.5165896106599351, 1.3737811955525943, 1.2030664663946293, 0.7025061747930187, 0.718003153912542, 0.5315506593827388, 1.1525890972956168, 0.8254526860777105, 0.3240333233852177]}, {\"name\": \"317532327\", \"type\": \"box\", \"y\": [1.0524194842948726, 1.2408864812736329, 1.0798325898769394, 0.9621827967405817, 1.0556788781673039, 1.395847420806397, 1.0733053521476004, 0.8637080039796995, 0.8901273451506359, 0.80355674676557, 0.5375455058919213, 0.7066066693702246, 1.3429894150200878, 0.8702819810430745, 1.3019657580741022, 1.0197680803526883, 1.562962606864299, 1.1643076792129545, 0.8815903523630697, 0.9398377717356977, 0.8647247246784797, 0.6821448104868634, 0.6637800181501361, 0.9798033145651309, 0.5244380693558846, 0.9922686582999211, 1.5590124890718389, 0.8883681120007092, 1.0188730879524757, 1.13975783531601, 1.5765901560378033, 1.2241513817162735, 0.7167131752530517, 1.0599612090559536, 0.879614358272703, 0.4675921355749495]}, {\"name\": \"346061612\", \"type\": \"box\", \"y\": [1.2739222961845076, 1.5002892695812422, 0.8089706192480771, 0.9119749620474641, 0.5078261205967425, 0.673061283088496, 0.5635347191722427, 0.680655976085815, 0.6058834461634538, 1.9224717300597034, 1.4753721156214368, 0.8015737976727568, 0.6301499858403348, 0.5887963938223297, 1.4311430114817938, 1.0043647815199412, 0.6912964409778348, 0.5121627325870513, 0.8921292752561024, 0.45831023864525805, 0.5263295618964204, 0.35139615120755235, 0.34333817184138254, 0.32350841408613823, 2.5430232044380205, 0.6273789981391431, 0.3284409099153334, 0.475422732564441, 4.542794010732861, 2.31473702007933, 2.2841929563591803, 1.721435598940901, 0.7782933947937947, 0.8582301327286859, 0.5269481359553828, 0.44984587652197544]}, {\"name\": \"40333612\", \"type\": \"box\", \"y\": [0.8345015381033661, 0.5488319761432516, 0.24723189883373786, 0.4022054919543362, 0.23329998157687343, 0.17408301308352525, 0.2241014924099427, 0.2781907690993004, 0.24167609802564907, 1.3191295278245183, 1.10502473954672, 0.6568790641760393, 0.49336745299663504, 0.3513081199458472, 1.1877472752126499, 0.865131080850384, 0.5037184971692359, 0.491744921031921, 0.6222135077725691, 0.26572812506110943, 0.22844055167462765, 0.23039132024774825, 0.20154345248278438, 0.19784881830798867, 1.6674026977220604, 0.33055109289965595, 0.19572132253596727, 0.4597202382827121, 3.053349652982763, 1.1060665910433407, 1.116203098569856, 0.8052249857623354, 0.5593328177871558, 0.276605598458755, 0.2082843087252551, 0.3906557255870438]}, {\"name\": \"511723709\", \"type\": \"box\", \"y\": [1.0006349542563957, 0.7319182467468057, 0.556980364820882, 0.49874582697388564, 0.24094444129430728, 0.25435019344744314, 0.2839676672299745, 0.44907539283651626, 0.29813071957515314, 1.4886131630365733, 1.2066731425514419, 0.7961750708783325, 0.9961527932956986, 0.5991029614565814, 0.9280407706225515, 0.7994143001656807, 0.5965592669898394, 0.499208369986703, 0.5869327246593373, 0.37628158323056443, 0.31861169196820166, 0.2467855010650871, 0.2579190246076709, 0.27861547414637283, 2.0201422982370953, 0.4724749252978599, 0.25715764181965145, 0.39615155962427906, 3.154000254465268, 1.3354893968062174, 1.193454153366237, 1.0686228468259324, 0.4860810685062648, 0.4834325421852245, 0.2915825494357433, 0.47345387259284794]}, {\"name\": \"1004972352\", \"type\": \"box\", \"y\": [0.5443151599221249, 0.9798658811489886, 0.6801730596012688, 0.591344349328187, 0.7500839716402546, 0.7176460762853992, 0.6288274091703226, 0.5022092882317912, 0.35556207318317096, 0.33261595690195256, 0.7330702737560091, 0.8186045083261894, 0.6172678773866092, 0.4189264340851224, 1.0337779952739325, 0.8650267326260248, 1.0980206940877608, 0.7945204078560217, 0.5678704558952269, 0.9851422818005079, 0.9457541324872782, 0.7131652835384079, 0.9842061892393125, 0.6227552412456646, 0.3550342140713157, 0.6886969570552431, 1.0750955378959248, 0.6188941359032657, 1.2625529741169714, 1.064526639178278, 1.0249013159352265, 1.020949823847285, 0.4550172252638254, 1.1393605683297368, 1.337000077920288, 0.3540439792764251]}, {\"name\": \"143824576\", \"type\": \"box\", \"y\": [1.006796707385006, 0.9159248118585123, 0.1801414883129782, 0.5408231915955526, 0.2209628891686723, 0.2675333669845588, 0.14048321196803515, 0.12472553041141293, 0.14541478402910019, 1.2716230090518614, 1.3167282193187897, 0.7541603195389911, 0.7972746556267183, 0.34322107151702796, 1.3323241262977417, 0.7856533888101825, 0.5395906445162322, 0.5315925727333006, 0.8098590008518705, 0.19183249448850512, 0.21758518269809912, 0.35010111321208853, 0.17736165131153772, 0.29645729560982514, 1.7238255096804533, 0.3547283043116789, 0.24755700661604757, 0.3947258245584506, 3.036674327481215, 1.0484400885469003, 1.0498702376159739, 1.1601534825888729, 0.8094247040985085, 0.245451674348229, 0.11285958747121828, 0.3207361571781655]}, {\"name\": \"368424646\", \"type\": \"box\", \"y\": [3.19238218439555, 2.378831448794121, 2.2882017662424388, 1.9423260812437442, 2.20768403406262, 1.7810290674696931, 1.7977739348140978, 3.5394784054524786, 1.7832935180192113, 1.1406912928406276, 1.3859564583431685, 0.7913642231234462, 1.053555117929419, 0.8711314326690704, 3.552700402362076, 2.6789506820870272, 2.335686053249854, 0.9634951225260362, 0.6761984835561344, 0.9569039938648901, 0.8900117290649878, 3.619340001025256, 1.9855670183653724, 1.9963693908370843, 0.943501429914711, 0.9885158297036372, 1.1427076006199204, 1.0835523320043765, 3.405916210906793, 1.4166536067861133, 1.807602066865194, 0.6582250030960783, 0.7180915912895793, 1.3080198570239496, 1.4827988319031917, 3.046016507357111]}, {\"name\": \"1428227531\", \"type\": \"box\", \"y\": [0.5881237535556366, 1.3247599445803253, 0.9037184296188235, 0.9055695178220925, 0.8705610190033851, 0.9632731207365565, 0.8531584451332874, 0.7862292253472393, 0.6209468008547576, 0.5854827156422403, 1.0997953117233037, 1.2821042026468528, 0.7513918311249689, 0.6834856303684165, 1.219495712353622, 1.2808374478330595, 1.7263002252076816, 0.7904993126734784, 0.8853573784169041, 0.7763889980689105, 0.8187448893187974, 0.48794413252303176, 0.46044792549454333, 0.4499543890404606, 0.5011291933298915, 1.0885340692575347, 0.797593914031911, 0.26159094714931813, 2.071817124311777, 1.168499136793829, 1.2844673059565754, 0.6911888316539736, 0.6115487766800006, 1.505587360444974, 1.1561897834339614, 0.5270517634977997]}, {\"name\": \"2040495184\", \"type\": \"box\", \"y\": [0.6164082845670509, 1.0362486174419616, 0.6831124015075709, 0.6684468163122924, 0.6523007519986059, 1.0326807783235783, 0.8023727598133351, 0.7237025224448381, 0.7290714931461453, 0.4626753142348827, 0.8691618472316898, 0.7732796967531395, 0.7530822523336822, 0.7168174910177937, 1.1823184190476261, 1.2480552347104874, 1.6556666807266074, 0.8267405907177265, 0.6727480288293777, 0.7619468094431296, 0.6792699534744318, 0.5480324843659221, 0.27262782699502586, 0.4357603556326868, 0.33770054002154903, 0.6818676069662636, 0.7241186781959362, 0.5204094911097373, 1.6376683243666437, 1.302558448426091, 1.118059355921565, 0.7798459691087923, 0.8225489869475552, 1.5717031221394793, 0.7773007931070806, 0.4434320748072262]}, {\"name\": \"1893337300\", \"type\": \"box\", \"y\": [0.7065760092751351, 0.9201557788230299, 0.6477678095226803, 0.5141626129927783, 0.855536129480269, 1.0519574650788166, 0.6407103644376478, 0.3841932674107557, 0.35496398798537127, 0.3869682532674249, 0.5973065337869865, 0.680534663862042, 0.7455856426742709, 0.4399717135826883, 1.158051973532689, 0.9413309086388428, 1.4612677143374848, 0.5717113533329627, 0.5900710287593185, 0.5887658264148719, 0.47505303140536514, 0.36731813094623134, 0.36770708151995396, 0.41122180885316234, 0.5297998355735324, 1.2589100121647685, 0.45672136602275654, 0.6008445776378576, 2.165109345767059, 1.4166660555824306, 0.878334400811465, 0.7751412307593929, 0.6717590361231217, 0.9781540394816595, 0.7642921739406833, 0.404657656516452]}, {\"name\": \"2117861717\", \"type\": \"box\", \"y\": [0.7611005422498607, 0.7695540427819068, 0.2612958732650695, 0.6405689044739555, 0.19147549506720887, 0.27525075149595374, 0.25388118350349453, 0.2254963616712201, 0.29382997986768616, 1.4418818842446806, 0.7105926576997251, 0.8903773329924576, 0.7157060699522946, 0.36469194519794434, 0.7403888219808435, 0.8719513134635296, 0.31964074645626195, 0.375477039273713, 0.62823346493108, 0.20001539854642914, 0.19970807194918447, 0.1845233131174999, 0.14948765286923013, 0.15504337712458302, 1.6975360002915225, 0.3285400206990173, 0.1954733175792129, 0.28885241284365426, 3.1394611563670995, 0.9471806840429099, 0.9993914039893361, 0.680568359105656, 0.44689681979298645, 0.267860159631157, 0.17195026358783097, 0.27127974243267]}, {\"name\": \"1941427679\", \"type\": \"box\", \"y\": [1.141520960211782, 1.3245318016473917, 0.5991634318337318, 0.6138226792025583, 0.34105204947303946, 0.32828688724612415, 0.42718887993650956, 0.5157961802952826, 0.4714416532473874, 1.688342956592007, 1.1464378993371842, 1.3014570299362385, 0.8729110191162802, 0.664551280673353, 0.9953939579509429, 1.1083005280922409, 0.6824920676787289, 0.7730540244316194, 0.7251903759366823, 0.41346627395673374, 0.35660200712956297, 0.3627441258965962, 0.3186170802458029, 0.3307939411515662, 2.535916645876937, 0.8444626155475655, 0.4030370401544521, 0.4057419419253755, 3.8933023880568105, 1.807618500873588, 1.5150833498691632, 0.803791585595186, 0.6794730675998782, 0.7020153183991498, 0.42320527660594703, 0.500560132743622]}, {\"name\": \"1708098535\", \"type\": \"box\", \"y\": [0.9131972611148669, 0.8735224393163245, 0.4123415907112257, 0.7275815783258499, 0.154280113807136, 0.2548573384619954, 0.19135616293223626, 0.2559154474493056, 0.2776182866530649, 1.397593469268214, 1.057043235992839, 0.7027011481060453, 0.4268600174383815, 0.26796993500592864, 1.0579277367913893, 1.1005726937330038, 0.27521670645041335, 0.32262365630889944, 0.9831169745538001, 0.22363846900067963, 0.204381878631345, 0.2076877726010325, 0.14783491299415277, 0.16419088577381027, 1.7883957818741747, 0.3370191227948026, 0.22345202740161077, 0.24717682979177175, 3.7027608910981824, 1.7523163816008456, 0.5390563552621097, 0.9276637173102408, 0.7352276909724951, 0.22815699838088627, 0.21815522811665478, 0.24011749821025408]}, {\"name\": \"456209269\", \"type\": \"box\", \"y\": [0.9229707459617785, 0.6761540062408349, 0.2731915391819154, 0.4053793138605668, 0.2185973607624155, 0.25404091041961296, 0.23208943022920794, 0.2809235759224623, 0.24516322195309234, 1.39400878703092, 0.8997520790846342, 0.7339415192158156, 0.4918957319848887, 0.38931339407812615, 0.8463259754709811, 0.9049163823013532, 0.36987497554042886, 0.39786493016358765, 0.506046004642339, 0.285201051129068, 0.20797444807416496, 0.35915300473278305, 0.26791929676477105, 0.26651419617663563, 1.9174130461386514, 0.40738089021570545, 0.31814258393108275, 0.3395609408546056, 3.532666791141967, 1.2191557338964167, 0.9885336908752471, 0.9501193752709376, 0.467569382878979, 0.29200708371371004, 0.18271534947894483, 0.35405633728228647]}],                        {\"showlegend\": false, \"template\": {\"data\": {\"bar\": [{\"error_x\": {\"color\": \"#2a3f5f\"}, \"error_y\": {\"color\": \"#2a3f5f\"}, \"marker\": {\"line\": {\"color\": \"#E5ECF6\", \"width\": 0.5}}, \"type\": \"bar\"}], \"barpolar\": [{\"marker\": {\"line\": {\"color\": \"#E5ECF6\", \"width\": 0.5}}, \"type\": \"barpolar\"}], \"carpet\": [{\"aaxis\": {\"endlinecolor\": \"#2a3f5f\", \"gridcolor\": \"white\", \"linecolor\": \"white\", \"minorgridcolor\": \"white\", \"startlinecolor\": \"#2a3f5f\"}, \"baxis\": {\"endlinecolor\": \"#2a3f5f\", \"gridcolor\": \"white\", \"linecolor\": \"white\", \"minorgridcolor\": \"white\", \"startlinecolor\": \"#2a3f5f\"}, \"type\": \"carpet\"}], \"choropleth\": [{\"colorbar\": {\"outlinewidth\": 0, \"ticks\": \"\"}, \"type\": \"choropleth\"}], \"contour\": [{\"colorbar\": {\"outlinewidth\": 0, \"ticks\": \"\"}, \"colorscale\": [[0.0, \"#0d0887\"], [0.1111111111111111, \"#46039f\"], [0.2222222222222222, \"#7201a8\"], [0.3333333333333333, \"#9c179e\"], [0.4444444444444444, \"#bd3786\"], [0.5555555555555556, \"#d8576b\"], [0.6666666666666666, \"#ed7953\"], [0.7777777777777778, \"#fb9f3a\"], [0.8888888888888888, \"#fdca26\"], [1.0, \"#f0f921\"]], \"type\": \"contour\"}], \"contourcarpet\": [{\"colorbar\": {\"outlinewidth\": 0, \"ticks\": \"\"}, \"type\": \"contourcarpet\"}], \"heatmap\": [{\"colorbar\": {\"outlinewidth\": 0, \"ticks\": \"\"}, \"colorscale\": [[0.0, \"#0d0887\"], [0.1111111111111111, \"#46039f\"], [0.2222222222222222, \"#7201a8\"], [0.3333333333333333, \"#9c179e\"], [0.4444444444444444, \"#bd3786\"], [0.5555555555555556, \"#d8576b\"], [0.6666666666666666, \"#ed7953\"], [0.7777777777777778, \"#fb9f3a\"], [0.8888888888888888, \"#fdca26\"], [1.0, \"#f0f921\"]], \"type\": \"heatmap\"}], \"heatmapgl\": [{\"colorbar\": {\"outlinewidth\": 0, \"ticks\": \"\"}, \"colorscale\": [[0.0, \"#0d0887\"], [0.1111111111111111, \"#46039f\"], [0.2222222222222222, \"#7201a8\"], [0.3333333333333333, \"#9c179e\"], [0.4444444444444444, \"#bd3786\"], [0.5555555555555556, \"#d8576b\"], [0.6666666666666666, \"#ed7953\"], [0.7777777777777778, \"#fb9f3a\"], [0.8888888888888888, \"#fdca26\"], [1.0, \"#f0f921\"]], \"type\": \"heatmapgl\"}], \"histogram\": [{\"marker\": {\"colorbar\": {\"outlinewidth\": 0, \"ticks\": \"\"}}, \"type\": \"histogram\"}], \"histogram2d\": [{\"colorbar\": {\"outlinewidth\": 0, \"ticks\": \"\"}, \"colorscale\": [[0.0, \"#0d0887\"], [0.1111111111111111, \"#46039f\"], [0.2222222222222222, \"#7201a8\"], [0.3333333333333333, \"#9c179e\"], [0.4444444444444444, \"#bd3786\"], [0.5555555555555556, \"#d8576b\"], [0.6666666666666666, \"#ed7953\"], [0.7777777777777778, \"#fb9f3a\"], [0.8888888888888888, \"#fdca26\"], [1.0, \"#f0f921\"]], \"type\": \"histogram2d\"}], \"histogram2dcontour\": [{\"colorbar\": {\"outlinewidth\": 0, \"ticks\": \"\"}, \"colorscale\": [[0.0, \"#0d0887\"], [0.1111111111111111, \"#46039f\"], [0.2222222222222222, \"#7201a8\"], [0.3333333333333333, \"#9c179e\"], [0.4444444444444444, \"#bd3786\"], [0.5555555555555556, \"#d8576b\"], [0.6666666666666666, \"#ed7953\"], [0.7777777777777778, \"#fb9f3a\"], [0.8888888888888888, \"#fdca26\"], [1.0, \"#f0f921\"]], \"type\": \"histogram2dcontour\"}], \"mesh3d\": [{\"colorbar\": {\"outlinewidth\": 0, \"ticks\": \"\"}, \"type\": \"mesh3d\"}], \"parcoords\": [{\"line\": {\"colorbar\": {\"outlinewidth\": 0, \"ticks\": \"\"}}, \"type\": \"parcoords\"}], \"pie\": [{\"automargin\": true, \"type\": \"pie\"}], \"scatter\": [{\"marker\": {\"colorbar\": {\"outlinewidth\": 0, \"ticks\": \"\"}}, \"type\": \"scatter\"}], \"scatter3d\": [{\"line\": {\"colorbar\": {\"outlinewidth\": 0, \"ticks\": \"\"}}, \"marker\": {\"colorbar\": {\"outlinewidth\": 0, \"ticks\": \"\"}}, \"type\": \"scatter3d\"}], \"scattercarpet\": [{\"marker\": {\"colorbar\": {\"outlinewidth\": 0, \"ticks\": \"\"}}, \"type\": \"scattercarpet\"}], \"scattergeo\": [{\"marker\": {\"colorbar\": {\"outlinewidth\": 0, \"ticks\": \"\"}}, \"type\": \"scattergeo\"}], \"scattergl\": [{\"marker\": {\"colorbar\": {\"outlinewidth\": 0, \"ticks\": \"\"}}, \"type\": \"scattergl\"}], \"scattermapbox\": [{\"marker\": {\"colorbar\": {\"outlinewidth\": 0, \"ticks\": \"\"}}, \"type\": \"scattermapbox\"}], \"scatterpolar\": [{\"marker\": {\"colorbar\": {\"outlinewidth\": 0, \"ticks\": \"\"}}, \"type\": \"scatterpolar\"}], \"scatterpolargl\": [{\"marker\": {\"colorbar\": {\"outlinewidth\": 0, \"ticks\": \"\"}}, \"type\": \"scatterpolargl\"}], \"scatterternary\": [{\"marker\": {\"colorbar\": {\"outlinewidth\": 0, \"ticks\": \"\"}}, \"type\": \"scatterternary\"}], \"surface\": [{\"colorbar\": {\"outlinewidth\": 0, \"ticks\": \"\"}, \"colorscale\": [[0.0, \"#0d0887\"], [0.1111111111111111, \"#46039f\"], [0.2222222222222222, \"#7201a8\"], [0.3333333333333333, \"#9c179e\"], [0.4444444444444444, \"#bd3786\"], [0.5555555555555556, \"#d8576b\"], [0.6666666666666666, \"#ed7953\"], [0.7777777777777778, \"#fb9f3a\"], [0.8888888888888888, \"#fdca26\"], [1.0, \"#f0f921\"]], \"type\": \"surface\"}], \"table\": [{\"cells\": {\"fill\": {\"color\": \"#EBF0F8\"}, \"line\": {\"color\": \"white\"}}, \"header\": {\"fill\": {\"color\": \"#C8D4E3\"}, \"line\": {\"color\": \"white\"}}, \"type\": \"table\"}]}, \"layout\": {\"annotationdefaults\": {\"arrowcolor\": \"#2a3f5f\", \"arrowhead\": 0, \"arrowwidth\": 1}, \"autotypenumbers\": \"strict\", \"coloraxis\": {\"colorbar\": {\"outlinewidth\": 0, \"ticks\": \"\"}}, \"colorscale\": {\"diverging\": [[0, \"#8e0152\"], [0.1, \"#c51b7d\"], [0.2, \"#de77ae\"], [0.3, \"#f1b6da\"], [0.4, \"#fde0ef\"], [0.5, \"#f7f7f7\"], [0.6, \"#e6f5d0\"], [0.7, \"#b8e186\"], [0.8, \"#7fbc41\"], [0.9, \"#4d9221\"], [1, \"#276419\"]], \"sequential\": [[0.0, \"#0d0887\"], [0.1111111111111111, \"#46039f\"], [0.2222222222222222, \"#7201a8\"], [0.3333333333333333, \"#9c179e\"], [0.4444444444444444, \"#bd3786\"], [0.5555555555555556, \"#d8576b\"], [0.6666666666666666, \"#ed7953\"], [0.7777777777777778, \"#fb9f3a\"], [0.8888888888888888, \"#fdca26\"], [1.0, \"#f0f921\"]], \"sequentialminus\": [[0.0, \"#0d0887\"], [0.1111111111111111, \"#46039f\"], [0.2222222222222222, \"#7201a8\"], [0.3333333333333333, \"#9c179e\"], [0.4444444444444444, \"#bd3786\"], [0.5555555555555556, \"#d8576b\"], [0.6666666666666666, \"#ed7953\"], [0.7777777777777778, \"#fb9f3a\"], [0.8888888888888888, \"#fdca26\"], [1.0, \"#f0f921\"]]}, \"colorway\": [\"#636efa\", \"#EF553B\", \"#00cc96\", \"#ab63fa\", \"#FFA15A\", \"#19d3f3\", \"#FF6692\", \"#B6E880\", \"#FF97FF\", \"#FECB52\"], \"font\": {\"color\": \"#2a3f5f\"}, \"geo\": {\"bgcolor\": \"white\", \"lakecolor\": \"white\", \"landcolor\": \"#E5ECF6\", \"showlakes\": true, \"showland\": true, \"subunitcolor\": \"white\"}, \"hoverlabel\": {\"align\": \"left\"}, \"hovermode\": \"closest\", \"mapbox\": {\"style\": \"light\"}, \"paper_bgcolor\": \"white\", \"plot_bgcolor\": \"#E5ECF6\", \"polar\": {\"angularaxis\": {\"gridcolor\": \"white\", \"linecolor\": \"white\", \"ticks\": \"\"}, \"bgcolor\": \"#E5ECF6\", \"radialaxis\": {\"gridcolor\": \"white\", \"linecolor\": \"white\", \"ticks\": \"\"}}, \"scene\": {\"xaxis\": {\"backgroundcolor\": \"#E5ECF6\", \"gridcolor\": \"white\", \"gridwidth\": 2, \"linecolor\": \"white\", \"showbackground\": true, \"ticks\": \"\", \"zerolinecolor\": \"white\"}, \"yaxis\": {\"backgroundcolor\": \"#E5ECF6\", \"gridcolor\": \"white\", \"gridwidth\": 2, \"linecolor\": \"white\", \"showbackground\": true, \"ticks\": \"\", \"zerolinecolor\": \"white\"}, \"zaxis\": {\"backgroundcolor\": \"#E5ECF6\", \"gridcolor\": \"white\", \"gridwidth\": 2, \"linecolor\": \"white\", \"showbackground\": true, \"ticks\": \"\", \"zerolinecolor\": \"white\"}}, \"shapedefaults\": {\"line\": {\"color\": \"#2a3f5f\"}}, \"ternary\": {\"aaxis\": {\"gridcolor\": \"white\", \"linecolor\": \"white\", \"ticks\": \"\"}, \"baxis\": {\"gridcolor\": \"white\", \"linecolor\": \"white\", \"ticks\": \"\"}, \"bgcolor\": \"#E5ECF6\", \"caxis\": {\"gridcolor\": \"white\", \"linecolor\": \"white\", \"ticks\": \"\"}}, \"title\": {\"x\": 0.05}, \"xaxis\": {\"automargin\": true, \"gridcolor\": \"white\", \"linecolor\": \"white\", \"ticks\": \"\", \"title\": {\"standoff\": 15}, \"zerolinecolor\": \"white\", \"zerolinewidth\": 2}, \"yaxis\": {\"automargin\": true, \"gridcolor\": \"white\", \"linecolor\": \"white\", \"ticks\": \"\", \"title\": {\"standoff\": 15}, \"zerolinecolor\": \"white\", \"zerolinewidth\": 2}}}, \"title\": {\"text\": \"LSTM\"}, \"xaxis\": {\"title\": {\"text\": \"Time series\"}}, \"yaxis\": {\"title\": {\"text\": \"MASE distribution\"}}},                        {\"responsive\": true}                    ).then(function(){\n",
       "                            \n",
       "var gd = document.getElementById('c04edfc7-6e87-4366-a79f-582ee7830202');\n",
       "var x = new MutationObserver(function (mutations, observer) {{\n",
       "        var display = window.getComputedStyle(gd).display;\n",
       "        if (!display || display === 'none') {{\n",
       "            console.log([gd, 'removed!']);\n",
       "            Plotly.purge(gd);\n",
       "            observer.disconnect();\n",
       "        }}\n",
       "}});\n",
       "\n",
       "// Listen for the removal of the full notebook cells\n",
       "var notebookContainer = gd.closest('#notebook-container');\n",
       "if (notebookContainer) {{\n",
       "    x.observe(notebookContainer, {childList: true});\n",
       "}}\n",
       "\n",
       "// Listen for the clearing of the current output cell\n",
       "var outputEl = gd.closest('.output');\n",
       "if (outputEl) {{\n",
       "    x.observe(outputEl, {childList: true});\n",
       "}}\n",
       "\n",
       "                        })                };                });            </script>        </div>"
      ]
     },
     "metadata": {},
     "output_type": "display_data"
    }
   ],
   "source": [
    "fig = go.Figure()\n",
    "for col in lstm_dist_ts.keys():\n",
    "    box_data = lstm_dist_ts[col]\n",
    "    fig.add_trace(go.Box(y=box_data, name = col))\n",
    "fig.update_xaxes(title = 'Time series')\n",
    "fig.update_yaxes(title = 'MASE distribution')\n",
    "fig.update_layout(title = \"LSTM\", showlegend= False)"
   ]
  },
  {
   "cell_type": "code",
   "execution_count": 111,
   "metadata": {},
   "outputs": [
    {
     "data": {
      "application/vnd.plotly.v1+json": {
       "config": {
        "plotlyServerURL": "https://plot.ly"
       },
       "data": [
        {
         "name": "grid",
         "type": "box",
         "y": [
          1.2714278154834469,
          0.7990954559089972,
          0.9093162473503424,
          1.085979940362237,
          0.3402475439709639,
          0.679711864290282,
          1.1907457623161521,
          0.7926797472248658,
          0.7108862731187081,
          0.8361117465032805,
          0.6701892623606496,
          0.978644389677849,
          0.961277060842319,
          0.7199984195554411,
          1.6027498519180894,
          0.7665714788125159,
          1.3371723441984684,
          1.2335489835006777,
          1.0690424204162723,
          1.0366474400174588,
          1.031383182828294,
          0.439082888204944,
          0.9521070224742876,
          0.6971254572651656,
          0.6163582767930181,
          0.5337485371112838,
          1.0333898881231445,
          0.658818761497974,
          4.4817018539443465,
          3.5721496708914002,
          1.6991107591387284,
          1.389427873379859,
          0.9170627234027258,
          0.7011541163324831,
          2.5736203773328934,
          1.11346129485805
         ]
        },
        {
         "name": "tline_1",
         "type": "box",
         "y": [
          1.0589150159430722,
          0.963579176795914,
          0.6884147959529846,
          0.5612902842771277,
          0.44121752346804116,
          0.3228793934376009,
          0.5394498755271621,
          0.45404156902095577,
          0.31631894882895234,
          1.611789257830571,
          0.9254123134922922,
          0.9591142190620571,
          0.845539394363706,
          0.4746599716882985,
          1.4528969440984356,
          0.7042968240529645,
          1.292854180724442,
          0.67724233387922,
          0.8696270505483711,
          0.5757315012921992,
          0.6579901132211394,
          0.5487206199085822,
          0.3156954949876343,
          0.29342093981132705,
          1.990608734142692,
          0.9370204395024095,
          0.8029300254263668,
          0.3760779508972888,
          4.482960688454225,
          2.2662645181207415,
          2.0235204727358687,
          1.8216017466412096,
          0.811248961460744,
          0.8258173224833213,
          1.3952000067933954,
          1.1612947887607115
         ]
        },
        {
         "name": "tline_2",
         "type": "box",
         "y": [
          1.0885150880644157,
          0.9729023017527174,
          0.8453805431172567,
          1.3466551796219286,
          0.37370493665319815,
          0.8252776056352515,
          1.416029370360537,
          0.9359338673288999,
          0.8005937096412553,
          0.829623859705357,
          0.6227537280261587,
          0.9456973772603985,
          0.9896366265919835,
          0.7979336442383198,
          1.5067168107055893,
          0.9899707532121935,
          1.6989967218754167,
          1.1970079597792196,
          1.3450767912137587,
          1.143760163305311,
          1.144873923922678,
          0.5231223375005678,
          1.1107244285852274,
          0.782343514005165,
          0.4863502670238874,
          0.6011316395509531,
          1.024207266200326,
          0.6965941737206233,
          3.583546449523328,
          3.6230637811390425,
          1.0433160104031296,
          1.1935291963014503,
          0.9496351254938614,
          0.9805912399731831,
          2.6554404758659915,
          1.166227795739793
         ]
        },
        {
         "name": "substation1",
         "type": "box",
         "y": [
          1.0797328660890724,
          1.0058701635494682,
          0.7092066015329528,
          0.5794150139032717,
          0.46836678778431917,
          0.32131762757389226,
          0.5525305488854558,
          0.45779832619796396,
          0.3376827332282466,
          1.6499628678726597,
          0.9761978435944967,
          0.927883112825536,
          0.842881367206728,
          0.43846001416831293,
          1.4534033783782225,
          0.6956360489450198,
          1.319194990358784,
          0.6947594408127741,
          0.9363625285425614,
          0.5818589189347152,
          0.6816399151595522,
          0.5386929263632166,
          0.3015207120079767,
          0.2806494019251531,
          2.0561624514126295,
          0.948337390040027,
          0.8505107215728323,
          0.3883238669878694,
          4.5360009073201075,
          2.3310579661568935,
          2.0972869744385063,
          1.8630170598824436,
          0.7817739427214683,
          0.8254500484362062,
          1.4178342976281442,
          1.1698083379236113
         ]
        },
        {
         "name": "substation2",
         "type": "box",
         "y": [
          0.9740669998771846,
          0.8382274378578896,
          0.6290978294080323,
          0.5351766534530948,
          0.42610404520520995,
          0.3310034420868583,
          0.4980660346824733,
          0.4500380368743433,
          0.2805923743043874,
          1.466297776717986,
          0.8072071352348684,
          1.0113284423985158,
          0.8529398130268433,
          0.5923408753591498,
          1.391926188302739,
          0.7002636049462245,
          1.1776466944597763,
          0.6202240232432238,
          0.760050534094539,
          0.5744501906528472,
          0.6191944234844474,
          0.5752858097954119,
          0.3633510159397518,
          0.3458604871743865,
          1.7727022167787865,
          0.8612347282281357,
          0.6590863118629795,
          0.3997896768142957,
          4.199061253478976,
          2.001409096277434,
          1.7535320731298032,
          1.6897452223707168,
          0.9077943700983176,
          0.8529267103935706,
          1.3144095907668425,
          1.1607846755151694
         ]
        },
        {
         "name": "substation3",
         "type": "box",
         "y": [
          1.0875575448983237,
          0.9699550428127387,
          0.8429977061212254,
          1.3572942375933177,
          0.3729246401723915,
          0.8573656704355725,
          1.4236302504262506,
          0.9581303422724072,
          0.8100350165042045,
          0.841836080083682,
          0.6313110665727325,
          0.9578649483282772,
          1.0026506875074412,
          0.8133228142875853,
          1.5152738113157296,
          0.9892783260322757,
          1.6971379152100983,
          1.1987618014581707,
          1.3598906270404016,
          1.1603337564993912,
          1.1555358836599634,
          0.53628342694896,
          1.1291024730549895,
          0.7877251487397547,
          0.500383590469825,
          0.6218019153902004,
          1.0327619621619155,
          0.7146490150470775,
          3.5810564896364516,
          3.6230338891139553,
          1.0396420120364736,
          1.2097341768193197,
          0.960093294270719,
          0.9804391737830576,
          2.6692410043086983,
          1.1488214063070363
         ]
        },
        {
         "name": "substation4",
         "type": "box",
         "y": [
          0.6640030478755856,
          1.1219545031751001,
          0.9996038001157319,
          0.7339900676764907,
          0.5330328134937771,
          0.7863707955601874,
          1.1194627416979674,
          0.7019984000232969,
          0.3775051935507776,
          0.2697828828987017,
          0.6537813806313233,
          0.7108186548066111,
          0.8220547843849759,
          0.3759657174971635,
          0.9974173598966126,
          0.8335917970569733,
          1.377618245513863,
          0.8975554992024035,
          0.5704753415087197,
          0.5936424413691235,
          0.7442753738077925,
          0.8004314584447546,
          0.769575090876997,
          0.5919182788323347,
          0.2614462804120793,
          1.0912241621042922,
          0.8610796600309658,
          0.6830078397006658,
          2.408627089955741,
          2.707947711067485,
          1.0624166126817738,
          0.7581688480747053,
          0.6481653986285347,
          0.8596671680691551,
          1.3299650875957136,
          1.867200600362591
         ]
        },
        {
         "name": "6010",
         "type": "box",
         "y": [
          1.609807837241943,
          1.3311962310653427,
          2.3821354726989408,
          1.0459503193878523,
          1.1440954380519843,
          0.9565830797171694,
          0.8967830697545837,
          0.9467455716013349,
          0.7522413466314288,
          1.9815110644494203,
          1.211635324176619,
          0.7907641630724673,
          1.6917909846540826,
          0.8001213103961313,
          1.1811494480826232,
          0.8096559991731834,
          0.8904652920806061,
          1.0321647292634273,
          1.2747904295261878,
          1.4686744640852172,
          1.1926292314499425,
          0.9729801280522099,
          1.021423195412086,
          1.751945400811733,
          3.086371260387889,
          0.9029678388389859,
          1.8253568872682053,
          0.9840886035729468,
          3.6918220291870125,
          1.8740138671794602,
          0.5604445669922792,
          0.6811484821859454,
          1.2483672551683018,
          1.0696407988792382,
          0.5081326742883864,
          0.7717551532453611
         ]
        },
        {
         "name": "6014",
         "type": "box",
         "y": [
          2.017178717265664,
          1.2195324053256578,
          2.601188369728723,
          1.2326522161579716,
          1.5821760903027182,
          0.9619557467974588,
          0.9693882189046451,
          1.313129351732041,
          0.8555475035835091,
          2.4337337825921623,
          1.2629966742609684,
          1.0319385247948591,
          1.7458495866144588,
          1.1950754753772874,
          1.591970062505595,
          0.8371471511890148,
          1.0803290780328185,
          1.3605849242331813,
          1.687652410961888,
          1.775386655435834,
          1.1535314807135966,
          1.2043129338396277,
          1.2381522692973832,
          1.893366312515829,
          3.7761766846083358,
          1.1108402135222422,
          1.8659371858254972,
          1.2330194098913,
          4.677657547717108,
          2.306543607318166,
          0.682524375001985,
          0.6537483696765174,
          1.4673307823581718,
          1.4754777321622423,
          0.5452050034968594,
          0.7077857048787776
         ]
        },
        {
         "name": "6011",
         "type": "box",
         "y": [
          1.4859922607445004,
          1.1287447372039894,
          2.3296002916391934,
          1.287493527068141,
          1.2586394101075644,
          1.3286490093320764,
          1.276897846462189,
          1.1074969561666967,
          0.9077188223877525,
          2.0522362671983307,
          1.0833179421099681,
          0.6884859964631511,
          1.5031885946525811,
          1.0967809957139913,
          1.1565180075634278,
          0.681740662111123,
          0.8902765814334554,
          1.1078469940171627,
          0.956435764180227,
          1.5492503464912277,
          1.2348181080626481,
          1.0112820712833912,
          1.1356274457698947,
          1.6829554710435208,
          2.89005433693486,
          0.7631760818642008,
          1.7267141443837108,
          0.9477137203502208,
          4.166359893641733,
          1.7403734010022294,
          0.6600580260608105,
          0.9162474590351534,
          0.8855014828647472,
          1.1190451065788172,
          0.6548674812928161,
          0.6709208264158227
         ]
        },
        {
         "name": "6280",
         "type": "box",
         "y": [
          1.5599658084457135,
          1.5029668551504964,
          0.9848166843993021,
          2.0806416057799346,
          1.0060547097398491,
          1.1860612490521414,
          1.00137673852196,
          2.1183389705356603,
          1.7626460193166085,
          1.8307409852028176,
          0.9158572303152257,
          0.814233543777982,
          0.5339110331181309,
          0.5469005590326043,
          1.6991921819260005,
          1.2792971415325676,
          2.2717801846315138,
          0.791018696024407,
          0.6212547957740773,
          0.98372810934914,
          0.43272283490630525,
          1.6480165438047374,
          1.9222468945631077,
          1.9154855744196646,
          1.0254425212245764,
          0.7444111963519494,
          0.44016188042061566,
          1.3452804894736605,
          2.8342888404163546,
          1.9794826622887725,
          1.1339779291814371,
          1.0392324094807535,
          0.6877287032069369,
          0.8172275780613414,
          1.1586730715511626,
          1.7368303267474596
         ]
        },
        {
         "name": "6281",
         "type": "box",
         "y": [
          0.8625711287125941,
          0.9568724161329657,
          0.9792814095687926,
          1.1043267454833454,
          1.1374446049621232,
          1.469311804460359,
          1.1502403728217718,
          1.509514421262308,
          1.2277131021071002,
          1.647224216382479,
          0.8540300292093591,
          1.3899711987212064,
          0.526711901626411,
          0.31956846677359774,
          1.1415642199840683,
          0.8630000719961279,
          0.6553077084654757,
          0.8898599384923729,
          0.6651899132569531,
          0.9677518324339186,
          0.7950903872290274,
          0.6013079397831816,
          0.7080675926391322,
          1.2079976832935135,
          0.9997439993179386,
          0.8235262357633859,
          0.8359583433040881,
          1.5739286292573764,
          1.536527646313921,
          0.5990617629454167,
          1.6306949844218546,
          1.1281483738651024,
          1.2572852929194687,
          0.6051195666534657,
          1.6563631758067996,
          0.7883140730615686
         ]
        },
        {
         "name": "6284",
         "type": "box",
         "y": [
          1.3440650812569102,
          1.2692483229015148,
          1.343081964135631,
          2.1199921278577647,
          1.1477684813184024,
          1.902284325261191,
          1.2669030156673138,
          1.3454139027752803,
          1.9322136615091123,
          1.7508750646858688,
          1.3585191271517705,
          0.8038605140074666,
          1.3259575283207035,
          1.226741047422526,
          2.2701318264603008,
          1.4929983347582527,
          2.0603621643317913,
          0.935077669325403,
          0.8276096703929793,
          0.6457443266417605,
          0.7511703772249388,
          1.4811015576712327,
          1.421925767788424,
          2.440496015840861,
          2.150781396037653,
          1.7467446068639896,
          1.1331978460188699,
          0.8777693732826874,
          2.021429013897909,
          1.4714952325237949,
          1.011632476148971,
          0.7755204857745156,
          0.9077976962043564,
          0.9138539803593493,
          0.7530944884005876,
          0.7336225468996789
         ]
        },
        {
         "name": "1295864320",
         "type": "box",
         "y": [
          1.1428124572993252,
          2.176659974986722,
          1.257608764435166,
          2.048436199791431,
          0.9379615485123921,
          1.4571786740769623,
          1.1198070042018118,
          1.2005821598957023,
          1.146346811130667,
          1.3918326208615024,
          0.761814477583485,
          1.2474231588689388,
          0.8457332044405974,
          0.970151148029511,
          1.5039010939851438,
          0.8780185618185529,
          2.919213739134403,
          1.3252965930913836,
          0.6233648435098201,
          0.6995988855639876,
          1.3511841188185962,
          1.1198818316163428,
          2.7346468097078946,
          2.2100344307559485,
          1.85378027087717,
          1.4558457243726661,
          0.4814458924311845,
          1.5214798810158907,
          2.191398323680299,
          1.7109481079315858,
          1.6994445328732959,
          0.8665756801294947,
          0.9611709352997418,
          1.2765384500333352,
          0.672271000383418,
          1.033880602301669
         ]
        },
        {
         "name": "1247421966",
         "type": "box",
         "y": [
          1.628954803019449,
          0.8488471305209294,
          2.7690009408350567,
          1.1390743782270754,
          1.3643743725213338,
          0.8685895424607107,
          0.9661735822103609,
          1.0983600931874669,
          0.8068315312692443,
          2.103292494772207,
          0.7496939190471827,
          1.0075146164692321,
          1.720668369450859,
          1.079507060284775,
          1.2994110850667742,
          0.7899648653650299,
          0.938482724041286,
          0.9674396830379609,
          1.3769516580577643,
          1.2697621854314833,
          1.0534696251786988,
          0.8528914781024358,
          0.8151857029862962,
          1.5944400550631268,
          3.0904347849177856,
          0.74569532457307,
          1.6990402024195606,
          0.8972321945602746,
          3.3122769937851975,
          1.5676557814182195,
          0.6798551689906871,
          0.6345365586907658,
          1.171991978131807,
          0.9221540327083174,
          0.6673014148660696,
          0.8636172502456462
         ]
        },
        {
         "name": "2107373071",
         "type": "box",
         "y": [
          1.795139709669704,
          1.7815649231177755,
          2.7676633130921675,
          1.3198334351005636,
          1.1750682282423992,
          1.030019778739397,
          1.1926368664116775,
          1.322896651212625,
          0.9077142344762962,
          2.6895460240155473,
          1.3037901727606986,
          0.9345020502085055,
          1.8946982963207182,
          1.079993876544285,
          1.7383778599368152,
          1.2229210629596987,
          1.2298801637710892,
          1.4186084427669412,
          1.5802677938266094,
          1.638058164280332,
          1.3281889533132654,
          1.2900664513549598,
          1.3306151536681619,
          2.114198353907411,
          3.7946294353418857,
          0.9703156612334942,
          2.3679192326796143,
          1.3730632363898945,
          5.140098017088913,
          2.7630739258299792,
          0.8804842556958907,
          0.7343153524328093,
          1.886586419543192,
          1.3587204946086402,
          0.6136745840438166,
          0.6789635136798279
         ]
        },
        {
         "name": "2009066518",
         "type": "box",
         "y": [
          0.8697615240915704,
          1.498014305505612,
          0.7117051135337257,
          1.0749194362785353,
          0.690818072915287,
          1.168518568380615,
          1.2255497680786998,
          0.8387067074371234,
          1.455239280752109,
          1.4758132096306493,
          1.2655892221507676,
          0.725678839355441,
          1.0262090747789576,
          1.0333065428675958,
          1.3672926986240124,
          1.4413164474061386,
          2.2129191497180263,
          0.7684220949828948,
          0.6481219722320066,
          0.8128611258158478,
          1.0196213607426268,
          1.0562972104046622,
          1.4757468836893692,
          2.010125706835464,
          1.560567083140343,
          1.5634965474535583,
          0.9861948300857915,
          1.090742291976772,
          1.9724320298345184,
          1.5663526273545902,
          1.4159408388370802,
          1.023905160561706,
          0.8589321691612244,
          1.2732089345631976,
          0.19847302008999623,
          1.1823299523042707
         ]
        },
        {
         "name": "972102295",
         "type": "box",
         "y": [
          0.8834220857562926,
          0.8914984675632266,
          0.9855815165226716,
          0.8554466832580047,
          0.8477069278240031,
          1.3935388596739713,
          1.3840064007303325,
          1.3127394113272968,
          1.3675767547374453,
          1.7771837720912858,
          0.793339865441388,
          1.3654648114094212,
          0.4889416270912151,
          0.3208193593325613,
          1.2488737701505797,
          0.9963415400357208,
          0.7281007388912648,
          0.9025685010889907,
          0.6618965593875877,
          0.922549769052375,
          0.7497546399840999,
          0.5667985687255357,
          0.7161955668745,
          1.0399188267162984,
          1.0095134280761975,
          0.8336016979177687,
          0.6714094644029632,
          1.4136052030450412,
          1.6058437848061524,
          0.5654340693043471,
          1.5314339691334666,
          1.1934299726417343,
          1.3544184694875256,
          0.5321537415595224,
          1.653969360827614,
          0.8544736313546173
         ]
        },
        {
         "name": "1616571925",
         "type": "box",
         "y": [
          0.7805530173413907,
          1.0649640466279708,
          1.2947288274050401,
          1.1140878336815894,
          1.1185420291375772,
          0.8474522980897989,
          1.7852552101850314,
          1.8752711084760751,
          1.6721143928885471,
          1.2026154720920557,
          1.2657245828955954,
          1.0387962535137474,
          0.955175335572707,
          0.6857897481860052,
          1.9962640575263026,
          1.2081458442241915,
          1.9712889108587328,
          1.2800979330763658,
          0.803915385423076,
          0.912856945295123,
          0.6258162964264453,
          0.536751459330544,
          1.3939303977018849,
          0.9483279102435441,
          0.9745227165447117,
          1.3839650580366092,
          0.8259265445646417,
          1.1257662994492676,
          2.094160868171862,
          1.6910894319788066,
          1.1558994222940668,
          0.9203318743721329,
          0.4953498656627085,
          0.9308534112179019,
          1.3660061583007441,
          0.9067231460656202
         ]
        },
        {
         "name": "806187417",
         "type": "box",
         "y": [
          1.7813008048802716,
          1.296873875306504,
          2.7373486067228168,
          1.1281470801869584,
          1.3446793362333922,
          0.8694869141818505,
          0.9810817049371395,
          1.0580422830858651,
          0.8002600765698749,
          2.004494299025721,
          0.9141003643730587,
          1.0508509862021822,
          1.8013803714071275,
          1.1402954334558102,
          1.3495067738897157,
          0.849427913964265,
          0.860165808745881,
          0.9445289435202175,
          1.336725870579193,
          1.3842273869852797,
          1.0002482568060476,
          0.887193525204953,
          0.8989475902587853,
          1.511136378319613,
          3.1085065813891553,
          1.0369032437410786,
          1.6388432028589701,
          1.1190878433785525,
          3.231041502308125,
          1.6997326135388136,
          0.8283179543681,
          0.5118849019266435,
          1.014923694777536,
          0.9547928768560073,
          0.6847817223041137,
          0.8967979278186821
         ]
        },
        {
         "name": "771513244",
         "type": "box",
         "y": [
          1.5300283273338529,
          1.4100814432386077,
          2.108263354869865,
          1.023472904627048,
          1.0846144271983922,
          0.9387467176001888,
          0.8452811963325284,
          0.6961731247308098,
          0.7920762852579424,
          1.6977152702314753,
          1.1984342584326726,
          1.128026685535616,
          1.544456297162348,
          0.7034258041818531,
          1.0310677213151758,
          0.8663930413645162,
          0.8763115877094287,
          0.8739026041130243,
          1.5530855833293113,
          1.3948974231243803,
          1.1424897114386232,
          0.7859675742915225,
          0.9846835713292827,
          1.6349088127386253,
          2.661905434285755,
          1.1990892564889053,
          1.7941655493943454,
          1.0496096218097153,
          3.594706761392025,
          1.8307742029272671,
          0.6490645291263947,
          0.9743976105484194,
          1.5510030748264407,
          0.9462179228777342,
          0.42085394534756865,
          0.7812197931402682
         ]
        },
        {
         "name": "1562145181",
         "type": "box",
         "y": [
          1.6542002325063474,
          0.8303264193981907,
          2.0232015266148395,
          0.7887677402760702,
          0.7751011113384151,
          0.4980942969899977,
          0.42903558273167364,
          0.6329354055203936,
          0.5302286654290103,
          2.149745685399043,
          0.9923251621618029,
          0.8159504075795015,
          1.1683773464873437,
          0.724363329092418,
          1.312156852169889,
          1.0784434149788416,
          0.8769904122796107,
          1.0381851617449604,
          1.6079950238742295,
          1.8777825337653002,
          0.5859548272745564,
          0.8007184243335118,
          0.7619505816069431,
          1.3719787715611556,
          2.9128938609322597,
          0.7199481071024668,
          1.3983769867389322,
          1.248626771964923,
          3.2632051240940436,
          1.572617556941186,
          0.8788356622962733,
          0.6349128561870623,
          0.9392114157384807,
          1.7709545910074984,
          0.41404552461901073,
          0.8379324163214131
         ]
        },
        {
         "name": "896338719",
         "type": "box",
         "y": [
          1.2137840091044911,
          1.1069953634170724,
          2.171123396999311,
          0.8567261292674105,
          1.0341361449851756,
          0.9286832588836083,
          0.8066952352891594,
          0.7939596932806301,
          0.6274045060680935,
          1.6285716840207616,
          1.0645296530757717,
          0.8876215700069733,
          1.4950789204314137,
          0.7781953028272917,
          1.1273933393775275,
          0.7083818930422502,
          0.8771612114546158,
          0.9376457229471064,
          1.0777390921432877,
          1.2965381085297136,
          1.136706679182205,
          0.7757953717010032,
          0.8652193063521021,
          1.478386010473213,
          2.72339137980131,
          0.9571722478440635,
          1.5573202410835605,
          0.9075516299008187,
          3.0354886471244362,
          1.5373479085762243,
          0.6586242701195213,
          0.6597433019409011,
          0.9445915348120626,
          0.7708214070024071,
          0.5331091001205408,
          0.8450890923373604
         ]
        },
        {
         "name": "1113196323",
         "type": "box",
         "y": [
          1.4976164368717124,
          1.983760580574565,
          1.061653423461428,
          1.1762588103400942,
          0.8120530383457039,
          1.675710293489943,
          0.8157416687858717,
          0.9861728279372456,
          0.5518206915044186,
          1.0412661575953222,
          1.59007360820077,
          0.9561247510935302,
          0.821962979221831,
          0.8262699080406891,
          1.5632119042709713,
          1.068505997648013,
          0.9308049344603658,
          0.8536257913639822,
          1.1020616789299014,
          1.2800710397457007,
          1.134424586550269,
          1.1509058847621811,
          1.2318554395250616,
          1.454243083291457,
          1.044048845021823,
          0.7200838359803446,
          0.9670403405669699,
          0.8456804882575358,
          2.559491650655991,
          1.9477972755609512,
          1.3290513208100896,
          1.41355282501537,
          1.3217843405661014,
          0.640609844161214,
          0.3693733553794797,
          0.9675141023633064
         ]
        },
        {
         "name": "1597760039",
         "type": "box",
         "y": [
          0.8691659916401394,
          1.4060948911227318,
          0.7291831966083627,
          0.9752231605987879,
          0.40708426291804234,
          1.4976009112786208,
          0.975937383658324,
          0.6753873643935729,
          1.4280518912936222,
          1.3795807638530044,
          1.138535323319538,
          1.0695795937471784,
          0.8423340841479846,
          0.5954202478264405,
          1.2635406326695382,
          1.0013040420539823,
          1.9930932880072496,
          0.8146403814460189,
          0.6702686776698671,
          0.7008079353340991,
          0.9907697140619294,
          1.0053416837372369,
          1.5485300046028623,
          1.9649760287436573,
          1.7356471376618103,
          1.4988326968787686,
          0.8434865526211852,
          0.9577064003859951,
          1.8632596277470181,
          1.1556612646500437,
          1.321448526752968,
          0.9510543178899215,
          0.8304183552436428,
          1.0383933243595422,
          0.49706723858470336,
          1.1026635441648824
         ]
        },
        {
         "name": "317532327",
         "type": "box",
         "y": [
          1.4539157371634148,
          2.2079478315962557,
          0.9789745764324759,
          0.8899860724984789,
          1.3012445302247437,
          1.7441055193899042,
          0.5228487708670884,
          1.1481155942876344,
          1.3054932138631419,
          1.4468399478750287,
          0.8577650463630839,
          0.8693922960900793,
          0.8668253532105773,
          0.42269164182566143,
          0.7739152770438543,
          1.3816521969916606,
          1.797637667493493,
          1.3165400416090798,
          0.8348590917243055,
          0.604555851727935,
          1.2862977062791625,
          0.7655275425770804,
          1.3130241689247788,
          1.385438123728848,
          1.0720830858068786,
          1.0060828263281054,
          1.0974736507893954,
          1.0220088067757913,
          2.1262378712339345,
          1.3492255640158237,
          1.4687373980613816,
          1.3023456245536598,
          1.2589055357257577,
          1.0391972336648059,
          0.7751765380886736,
          1.1603350510359163
         ]
        },
        {
         "name": "346061612",
         "type": "box",
         "y": [
          1.7984457999954315,
          1.332776061778922,
          2.429336268498202,
          1.0046663548858523,
          1.3402513908674243,
          1.0224755552417188,
          1.1190851743025947,
          1.2716255992195813,
          0.7420329451907803,
          2.625238158948314,
          1.3738135969273253,
          1.0032452336164195,
          1.812593657435771,
          1.203689480258289,
          1.7911348631461417,
          0.8336804270388155,
          1.1305920462904544,
          1.4895923139689256,
          1.6562649378994179,
          1.7602806366388075,
          1.3250530014722275,
          1.3776946705142767,
          1.266087437358158,
          1.9221860793920393,
          3.912251924114317,
          0.97376093634301,
          1.8982408574702543,
          1.4193793847189509,
          5.392820946523829,
          2.6550801612529256,
          1.5981678614066872,
          1.0348852705743519,
          1.716441995648843,
          1.3422153989568368,
          0.505137841155092,
          0.843954166762832
         ]
        },
        {
         "name": "40333612",
         "type": "box",
         "y": [
          1.7297643269857887,
          1.1637855539562487,
          2.249108659245691,
          1.1196853963905602,
          1.0281965507945114,
          1.24129877531406,
          1.1504588826251245,
          1.0135348609291264,
          0.8058386939302553,
          2.0332527504078888,
          1.3876850854197624,
          0.6704241629651501,
          1.4776048462766538,
          0.9624657090516088,
          1.2017550191987583,
          0.6962310499491609,
          1.0771740508841192,
          1.1316718144319116,
          0.9463690215795347,
          1.5177042955587143,
          1.1185062059370752,
          0.97931319534361,
          1.0680363149564556,
          1.5811455199097528,
          2.730377573229931,
          0.676978965171445,
          1.6043554974056147,
          1.0567009084398493,
          3.9420225101734445,
          1.85939049662147,
          0.6770110863153928,
          0.9547108478612302,
          0.8259366309702536,
          0.9253712421100831,
          0.6207501955445421,
          0.6059203152544382
         ]
        },
        {
         "name": "511723709",
         "type": "box",
         "y": [
          1.8344531501113701,
          1.4230432263351893,
          2.7343082789274824,
          1.4877867599210632,
          1.3736016448489685,
          1.304066011118391,
          1.4572321797212642,
          1.3175129194771578,
          0.9132818422347655,
          2.4161665692489116,
          1.4663518152641617,
          0.9231873683395944,
          1.9363050045425296,
          1.472831291879327,
          1.4022445025776606,
          0.8468252631842642,
          1.087785441335848,
          1.390923425292601,
          0.9451131653738991,
          1.7640994063330204,
          1.3447008608649147,
          1.2688803106058528,
          1.281163248456838,
          2.0555528857906333,
          3.5240152119860033,
          0.9383628031428853,
          2.072177189970336,
          1.2404836651755653,
          4.665948530061234,
          2.329124435379677,
          0.8818985473105491,
          1.1897516827856767,
          1.3942775664370952,
          1.3724856093395146,
          0.9204280800655013,
          0.7979688711823816
         ]
        },
        {
         "name": "1004972352",
         "type": "box",
         "y": [
          1.1872496136774344,
          1.029972389201492,
          0.670437778628112,
          1.1079867859736579,
          1.2752315056186294,
          1.242252201132636,
          1.4161976556609939,
          1.1786468682257762,
          2.1751473885746817,
          1.9686263702415645,
          1.014071626946372,
          0.8357848978878145,
          1.0704465871980964,
          0.8659534871813246,
          1.2676702536823974,
          1.1855195254343602,
          1.9934825094808624,
          0.842766949261613,
          0.5574273665766245,
          0.5644790417616126,
          0.9662920948368497,
          0.9163218601426533,
          2.100016898622062,
          2.0001031111239245,
          1.8597380704577622,
          1.2955797487179972,
          0.7279767047253961,
          1.2222482008962685,
          1.8818800873731834,
          1.5629116648717725,
          1.4815536167591599,
          0.7389754178323759,
          0.8614053559161537,
          1.4698966039738939,
          0.38882420005807133,
          0.6463697052867392
         ]
        },
        {
         "name": "143824576",
         "type": "box",
         "y": [
          1.6237285479245858,
          1.2194622721898407,
          2.124502060140663,
          0.8665312641117373,
          1.0954670234599422,
          1.056568948160489,
          0.9653868466777854,
          0.922893239933726,
          0.7741519596961636,
          1.8036985495007154,
          1.2227579303987908,
          1.016974666576572,
          1.6444288949129626,
          0.7817824907550761,
          1.3703957476239772,
          0.7701733050529467,
          0.6878788239121282,
          0.9234204148621814,
          1.1392182450935275,
          1.3113692711148124,
          1.0227774186299943,
          0.9483322044465952,
          0.8317986865492816,
          1.5450980654464137,
          2.8477395147988105,
          0.9210700255037516,
          1.4665280487652448,
          1.1137682235278534,
          3.260339692808465,
          1.344419068003151,
          0.5244819409045974,
          0.6424806959909881,
          1.498744411611092,
          0.6298534773573081,
          0.48753337797075535,
          0.7443587614507706
         ]
        },
        {
         "name": "368424646",
         "type": "box",
         "y": [
          2.294743690158531,
          1.144288412618078,
          1.2581080544378962,
          2.324165693129663,
          1.9612325796559245,
          1.397454276205712,
          1.229026214959256,
          2.4887144246973714,
          1.22054144830895,
          1.1788513685908135,
          1.249578762143526,
          1.0334950019534275,
          0.7754084249032416,
          1.0660880839178573,
          1.9410847328220233,
          1.9591100167346145,
          1.4780003468252259,
          0.9720833563998988,
          0.7110263747504332,
          1.2640715493743557,
          0.9732809712124736,
          2.336538609385167,
          1.6081295032695813,
          1.8364149805855545,
          1.403180852194447,
          1.1136515604256392,
          0.4979458166471579,
          1.2445372205786644,
          2.3784454607892727,
          1.7477290791012596,
          1.300093752621177,
          1.5026720034150034,
          0.6524382772281371,
          0.8652437082574925,
          1.2184517425158716,
          2.7417570227670676
         ]
        },
        {
         "name": "1428227531",
         "type": "box",
         "y": [
          1.32814988434202,
          1.5913967153461637,
          0.4758065323395518,
          1.1141687716484077,
          0.6472067088712733,
          1.8117528069855913,
          1.007469121139513,
          1.0491747282581176,
          1.0664562537544944,
          1.4951801729052225,
          1.3014329971482053,
          1.2557944839307758,
          0.922978937524586,
          0.6147676635434405,
          1.1541271606715693,
          1.1069606644823,
          1.8282455517434748,
          0.8847621582788966,
          0.5352382225981153,
          0.7008205803306082,
          0.7977485607355199,
          0.8202797984296635,
          1.263249620228342,
          1.6059875787133717,
          1.2650775552812332,
          1.7390769683002893,
          0.6592680767045871,
          1.5480373586099567,
          2.155612387111537,
          1.411434990417975,
          1.5439967465996782,
          1.0385742095965158,
          0.8703675504500994,
          1.1348704816311648,
          0.39865205229176603,
          0.8549684485430818
         ]
        },
        {
         "name": "2040495184",
         "type": "box",
         "y": [
          0.8605481542307148,
          1.3771633241893628,
          0.6894001178214829,
          1.2599265210034243,
          0.926708880435079,
          1.1515221358129486,
          1.220150243393777,
          1.017134618452214,
          1.2955336715040955,
          1.2039368306303389,
          1.1933631932119935,
          0.7001372821786047,
          1.045345144503526,
          0.7845704631504917,
          1.3177577668483593,
          1.4815928919350112,
          2.2145019105501693,
          0.7902149313851696,
          0.4784800210644063,
          0.7381740706026021,
          0.9349502872049895,
          0.8158745753874354,
          1.3563094929003903,
          1.6077453331133278,
          1.3418689958369743,
          1.032953728306186,
          0.882657551498326,
          1.0792296380117525,
          2.032794253287783,
          1.6749616711438025,
          1.4197215119240272,
          0.931903075807318,
          0.6808733682375293,
          1.303340572056496,
          0.33299518104014364,
          0.8973184339426895
         ]
        },
        {
         "name": "1893337300",
         "type": "box",
         "y": [
          1.1728288048366708,
          1.066602634509305,
          1.3502938688366213,
          2.0607338482651514,
          1.1164046830448922,
          1.9056521658319352,
          1.337582141396401,
          1.3400924116963318,
          1.8337398686943445,
          1.7335746118870006,
          1.205503269719945,
          0.7381181761781797,
          1.235761584720201,
          1.1952005545298814,
          2.225180823478541,
          1.4714475494269386,
          2.0385820174258162,
          0.8718459445106037,
          0.7284175899530455,
          0.6519078430443415,
          0.7442750910640544,
          1.3334796132006037,
          1.3059589409894659,
          2.300396083028491,
          1.977308121745798,
          1.588906367310944,
          1.0441146891517359,
          0.854144590808173,
          1.944495755770991,
          1.4550041533236542,
          0.9690263589259538,
          0.7565648273935544,
          0.8940631934020634,
          0.8974234764590318,
          0.7574172934961713,
          0.7235324626497464
         ]
        },
        {
         "name": "2117861717",
         "type": "box",
         "y": [
          1.5420229553385076,
          1.614529476822,
          2.0228360768825726,
          1.1743889628745707,
          1.1079717271104215,
          1.2743611229004452,
          1.1832940884679954,
          0.8446792904844276,
          0.7470195562740269,
          1.828753718898445,
          1.1859376035467448,
          1.10655675226548,
          1.3529559611945738,
          0.8793581758589991,
          1.0529576329960852,
          0.7041019455950497,
          0.7879403766295501,
          0.8950475181937844,
          0.988020157817986,
          1.3546713402106825,
          1.0913498164900184,
          0.8287116550990836,
          0.9869507381118593,
          1.5087114936785886,
          2.5711340330117824,
          0.7665402040036017,
          1.5160747173251055,
          0.9503472294134472,
          3.484524302826889,
          1.2997892450455986,
          0.9081543032590546,
          0.7814090049851474,
          0.8934690597129044,
          1.0159022081131455,
          0.5456052112319518,
          0.7822383919112861
         ]
        },
        {
         "name": "1941427679",
         "type": "box",
         "y": [
          2.0128883459418945,
          1.5918827311211121,
          3.086086686929351,
          1.5788616910016098,
          1.217125263831542,
          1.0590444850873104,
          1.4440301769192836,
          1.714339501604951,
          1.0415730514398607,
          2.8158444468199963,
          1.5813345619306307,
          1.2516157947161577,
          2.137904384106442,
          1.4859882380652654,
          1.826461863794709,
          1.0244589202099752,
          1.0696496798448527,
          1.9411242203529324,
          1.4777144137798537,
          1.8971055005303945,
          1.4610141260045446,
          1.5828557165917014,
          1.3957996845379748,
          2.096802810269291,
          4.208017435655745,
          1.0969836392029306,
          1.9668212249252957,
          2.0703923496286643,
          4.907519694508905,
          2.934882525972903,
          1.1356395611529184,
          1.1095311531663332,
          1.7490635830174581,
          1.483743570462946,
          0.8341140178914142,
          0.7896240200723407
         ]
        },
        {
         "name": "1708098535",
         "type": "box",
         "y": [
          1.6798479024196447,
          1.5119618707736808,
          2.4953866016102757,
          1.1707667026458217,
          1.0251886002337027,
          0.9135798181521554,
          0.9569032921334174,
          0.822989991565636,
          0.7695724864020355,
          1.9411417898218228,
          1.1749187365322944,
          1.0375036579916481,
          1.6681592234161537,
          0.8416798406903763,
          1.144417720521137,
          0.8776879183102199,
          0.9490380338555569,
          1.0208204612439953,
          1.4571817997558376,
          1.4148251238934566,
          1.2410782910939169,
          0.8537305462825798,
          0.9506820241790417,
          1.7052308571199395,
          3.01965112732667,
          1.052628086909962,
          1.9613779829840352,
          1.148934484883964,
          3.649454455327023,
          1.9010574804754214,
          0.7260064089398226,
          0.6698391650455717,
          1.653254738359789,
          1.1625665542003845,
          0.5162582868656185,
          0.8388621302079526
         ]
        },
        {
         "name": "456209269",
         "type": "box",
         "y": [
          1.5216879541579862,
          1.037989047507674,
          2.4167170210746054,
          1.0496176981825454,
          1.3886770343790416,
          1.1269601387660235,
          1.1011586277637004,
          1.2009904593461385,
          0.7562809330335796,
          2.0381241867676825,
          1.231898414567502,
          0.606051671512842,
          1.620270671338271,
          1.0622669452819342,
          1.3039516202398362,
          0.847960665884261,
          1.0302419351622827,
          1.270350768916529,
          0.8800383810539074,
          1.512524967213297,
          1.246595225112369,
          1.0320876292315042,
          1.0531996262359955,
          1.6829960546082838,
          3.235974149960511,
          0.906854135917783,
          1.691374736857998,
          1.1667043773353212,
          3.9314899734715967,
          2.0284116681564206,
          0.7912029295036467,
          1.012166395287262,
          1.1831356522558414,
          1.2685028829406644,
          0.6380613885012589,
          0.8671200192763021
         ]
        }
       ],
       "layout": {
        "showlegend": false,
        "template": {
         "data": {
          "bar": [
           {
            "error_x": {
             "color": "#2a3f5f"
            },
            "error_y": {
             "color": "#2a3f5f"
            },
            "marker": {
             "line": {
              "color": "#E5ECF6",
              "width": 0.5
             }
            },
            "type": "bar"
           }
          ],
          "barpolar": [
           {
            "marker": {
             "line": {
              "color": "#E5ECF6",
              "width": 0.5
             }
            },
            "type": "barpolar"
           }
          ],
          "carpet": [
           {
            "aaxis": {
             "endlinecolor": "#2a3f5f",
             "gridcolor": "white",
             "linecolor": "white",
             "minorgridcolor": "white",
             "startlinecolor": "#2a3f5f"
            },
            "baxis": {
             "endlinecolor": "#2a3f5f",
             "gridcolor": "white",
             "linecolor": "white",
             "minorgridcolor": "white",
             "startlinecolor": "#2a3f5f"
            },
            "type": "carpet"
           }
          ],
          "choropleth": [
           {
            "colorbar": {
             "outlinewidth": 0,
             "ticks": ""
            },
            "type": "choropleth"
           }
          ],
          "contour": [
           {
            "colorbar": {
             "outlinewidth": 0,
             "ticks": ""
            },
            "colorscale": [
             [
              0,
              "#0d0887"
             ],
             [
              0.1111111111111111,
              "#46039f"
             ],
             [
              0.2222222222222222,
              "#7201a8"
             ],
             [
              0.3333333333333333,
              "#9c179e"
             ],
             [
              0.4444444444444444,
              "#bd3786"
             ],
             [
              0.5555555555555556,
              "#d8576b"
             ],
             [
              0.6666666666666666,
              "#ed7953"
             ],
             [
              0.7777777777777778,
              "#fb9f3a"
             ],
             [
              0.8888888888888888,
              "#fdca26"
             ],
             [
              1,
              "#f0f921"
             ]
            ],
            "type": "contour"
           }
          ],
          "contourcarpet": [
           {
            "colorbar": {
             "outlinewidth": 0,
             "ticks": ""
            },
            "type": "contourcarpet"
           }
          ],
          "heatmap": [
           {
            "colorbar": {
             "outlinewidth": 0,
             "ticks": ""
            },
            "colorscale": [
             [
              0,
              "#0d0887"
             ],
             [
              0.1111111111111111,
              "#46039f"
             ],
             [
              0.2222222222222222,
              "#7201a8"
             ],
             [
              0.3333333333333333,
              "#9c179e"
             ],
             [
              0.4444444444444444,
              "#bd3786"
             ],
             [
              0.5555555555555556,
              "#d8576b"
             ],
             [
              0.6666666666666666,
              "#ed7953"
             ],
             [
              0.7777777777777778,
              "#fb9f3a"
             ],
             [
              0.8888888888888888,
              "#fdca26"
             ],
             [
              1,
              "#f0f921"
             ]
            ],
            "type": "heatmap"
           }
          ],
          "heatmapgl": [
           {
            "colorbar": {
             "outlinewidth": 0,
             "ticks": ""
            },
            "colorscale": [
             [
              0,
              "#0d0887"
             ],
             [
              0.1111111111111111,
              "#46039f"
             ],
             [
              0.2222222222222222,
              "#7201a8"
             ],
             [
              0.3333333333333333,
              "#9c179e"
             ],
             [
              0.4444444444444444,
              "#bd3786"
             ],
             [
              0.5555555555555556,
              "#d8576b"
             ],
             [
              0.6666666666666666,
              "#ed7953"
             ],
             [
              0.7777777777777778,
              "#fb9f3a"
             ],
             [
              0.8888888888888888,
              "#fdca26"
             ],
             [
              1,
              "#f0f921"
             ]
            ],
            "type": "heatmapgl"
           }
          ],
          "histogram": [
           {
            "marker": {
             "colorbar": {
              "outlinewidth": 0,
              "ticks": ""
             }
            },
            "type": "histogram"
           }
          ],
          "histogram2d": [
           {
            "colorbar": {
             "outlinewidth": 0,
             "ticks": ""
            },
            "colorscale": [
             [
              0,
              "#0d0887"
             ],
             [
              0.1111111111111111,
              "#46039f"
             ],
             [
              0.2222222222222222,
              "#7201a8"
             ],
             [
              0.3333333333333333,
              "#9c179e"
             ],
             [
              0.4444444444444444,
              "#bd3786"
             ],
             [
              0.5555555555555556,
              "#d8576b"
             ],
             [
              0.6666666666666666,
              "#ed7953"
             ],
             [
              0.7777777777777778,
              "#fb9f3a"
             ],
             [
              0.8888888888888888,
              "#fdca26"
             ],
             [
              1,
              "#f0f921"
             ]
            ],
            "type": "histogram2d"
           }
          ],
          "histogram2dcontour": [
           {
            "colorbar": {
             "outlinewidth": 0,
             "ticks": ""
            },
            "colorscale": [
             [
              0,
              "#0d0887"
             ],
             [
              0.1111111111111111,
              "#46039f"
             ],
             [
              0.2222222222222222,
              "#7201a8"
             ],
             [
              0.3333333333333333,
              "#9c179e"
             ],
             [
              0.4444444444444444,
              "#bd3786"
             ],
             [
              0.5555555555555556,
              "#d8576b"
             ],
             [
              0.6666666666666666,
              "#ed7953"
             ],
             [
              0.7777777777777778,
              "#fb9f3a"
             ],
             [
              0.8888888888888888,
              "#fdca26"
             ],
             [
              1,
              "#f0f921"
             ]
            ],
            "type": "histogram2dcontour"
           }
          ],
          "mesh3d": [
           {
            "colorbar": {
             "outlinewidth": 0,
             "ticks": ""
            },
            "type": "mesh3d"
           }
          ],
          "parcoords": [
           {
            "line": {
             "colorbar": {
              "outlinewidth": 0,
              "ticks": ""
             }
            },
            "type": "parcoords"
           }
          ],
          "pie": [
           {
            "automargin": true,
            "type": "pie"
           }
          ],
          "scatter": [
           {
            "marker": {
             "colorbar": {
              "outlinewidth": 0,
              "ticks": ""
             }
            },
            "type": "scatter"
           }
          ],
          "scatter3d": [
           {
            "line": {
             "colorbar": {
              "outlinewidth": 0,
              "ticks": ""
             }
            },
            "marker": {
             "colorbar": {
              "outlinewidth": 0,
              "ticks": ""
             }
            },
            "type": "scatter3d"
           }
          ],
          "scattercarpet": [
           {
            "marker": {
             "colorbar": {
              "outlinewidth": 0,
              "ticks": ""
             }
            },
            "type": "scattercarpet"
           }
          ],
          "scattergeo": [
           {
            "marker": {
             "colorbar": {
              "outlinewidth": 0,
              "ticks": ""
             }
            },
            "type": "scattergeo"
           }
          ],
          "scattergl": [
           {
            "marker": {
             "colorbar": {
              "outlinewidth": 0,
              "ticks": ""
             }
            },
            "type": "scattergl"
           }
          ],
          "scattermapbox": [
           {
            "marker": {
             "colorbar": {
              "outlinewidth": 0,
              "ticks": ""
             }
            },
            "type": "scattermapbox"
           }
          ],
          "scatterpolar": [
           {
            "marker": {
             "colorbar": {
              "outlinewidth": 0,
              "ticks": ""
             }
            },
            "type": "scatterpolar"
           }
          ],
          "scatterpolargl": [
           {
            "marker": {
             "colorbar": {
              "outlinewidth": 0,
              "ticks": ""
             }
            },
            "type": "scatterpolargl"
           }
          ],
          "scatterternary": [
           {
            "marker": {
             "colorbar": {
              "outlinewidth": 0,
              "ticks": ""
             }
            },
            "type": "scatterternary"
           }
          ],
          "surface": [
           {
            "colorbar": {
             "outlinewidth": 0,
             "ticks": ""
            },
            "colorscale": [
             [
              0,
              "#0d0887"
             ],
             [
              0.1111111111111111,
              "#46039f"
             ],
             [
              0.2222222222222222,
              "#7201a8"
             ],
             [
              0.3333333333333333,
              "#9c179e"
             ],
             [
              0.4444444444444444,
              "#bd3786"
             ],
             [
              0.5555555555555556,
              "#d8576b"
             ],
             [
              0.6666666666666666,
              "#ed7953"
             ],
             [
              0.7777777777777778,
              "#fb9f3a"
             ],
             [
              0.8888888888888888,
              "#fdca26"
             ],
             [
              1,
              "#f0f921"
             ]
            ],
            "type": "surface"
           }
          ],
          "table": [
           {
            "cells": {
             "fill": {
              "color": "#EBF0F8"
             },
             "line": {
              "color": "white"
             }
            },
            "header": {
             "fill": {
              "color": "#C8D4E3"
             },
             "line": {
              "color": "white"
             }
            },
            "type": "table"
           }
          ]
         },
         "layout": {
          "annotationdefaults": {
           "arrowcolor": "#2a3f5f",
           "arrowhead": 0,
           "arrowwidth": 1
          },
          "autotypenumbers": "strict",
          "coloraxis": {
           "colorbar": {
            "outlinewidth": 0,
            "ticks": ""
           }
          },
          "colorscale": {
           "diverging": [
            [
             0,
             "#8e0152"
            ],
            [
             0.1,
             "#c51b7d"
            ],
            [
             0.2,
             "#de77ae"
            ],
            [
             0.3,
             "#f1b6da"
            ],
            [
             0.4,
             "#fde0ef"
            ],
            [
             0.5,
             "#f7f7f7"
            ],
            [
             0.6,
             "#e6f5d0"
            ],
            [
             0.7,
             "#b8e186"
            ],
            [
             0.8,
             "#7fbc41"
            ],
            [
             0.9,
             "#4d9221"
            ],
            [
             1,
             "#276419"
            ]
           ],
           "sequential": [
            [
             0,
             "#0d0887"
            ],
            [
             0.1111111111111111,
             "#46039f"
            ],
            [
             0.2222222222222222,
             "#7201a8"
            ],
            [
             0.3333333333333333,
             "#9c179e"
            ],
            [
             0.4444444444444444,
             "#bd3786"
            ],
            [
             0.5555555555555556,
             "#d8576b"
            ],
            [
             0.6666666666666666,
             "#ed7953"
            ],
            [
             0.7777777777777778,
             "#fb9f3a"
            ],
            [
             0.8888888888888888,
             "#fdca26"
            ],
            [
             1,
             "#f0f921"
            ]
           ],
           "sequentialminus": [
            [
             0,
             "#0d0887"
            ],
            [
             0.1111111111111111,
             "#46039f"
            ],
            [
             0.2222222222222222,
             "#7201a8"
            ],
            [
             0.3333333333333333,
             "#9c179e"
            ],
            [
             0.4444444444444444,
             "#bd3786"
            ],
            [
             0.5555555555555556,
             "#d8576b"
            ],
            [
             0.6666666666666666,
             "#ed7953"
            ],
            [
             0.7777777777777778,
             "#fb9f3a"
            ],
            [
             0.8888888888888888,
             "#fdca26"
            ],
            [
             1,
             "#f0f921"
            ]
           ]
          },
          "colorway": [
           "#636efa",
           "#EF553B",
           "#00cc96",
           "#ab63fa",
           "#FFA15A",
           "#19d3f3",
           "#FF6692",
           "#B6E880",
           "#FF97FF",
           "#FECB52"
          ],
          "font": {
           "color": "#2a3f5f"
          },
          "geo": {
           "bgcolor": "white",
           "lakecolor": "white",
           "landcolor": "#E5ECF6",
           "showlakes": true,
           "showland": true,
           "subunitcolor": "white"
          },
          "hoverlabel": {
           "align": "left"
          },
          "hovermode": "closest",
          "mapbox": {
           "style": "light"
          },
          "paper_bgcolor": "white",
          "plot_bgcolor": "#E5ECF6",
          "polar": {
           "angularaxis": {
            "gridcolor": "white",
            "linecolor": "white",
            "ticks": ""
           },
           "bgcolor": "#E5ECF6",
           "radialaxis": {
            "gridcolor": "white",
            "linecolor": "white",
            "ticks": ""
           }
          },
          "scene": {
           "xaxis": {
            "backgroundcolor": "#E5ECF6",
            "gridcolor": "white",
            "gridwidth": 2,
            "linecolor": "white",
            "showbackground": true,
            "ticks": "",
            "zerolinecolor": "white"
           },
           "yaxis": {
            "backgroundcolor": "#E5ECF6",
            "gridcolor": "white",
            "gridwidth": 2,
            "linecolor": "white",
            "showbackground": true,
            "ticks": "",
            "zerolinecolor": "white"
           },
           "zaxis": {
            "backgroundcolor": "#E5ECF6",
            "gridcolor": "white",
            "gridwidth": 2,
            "linecolor": "white",
            "showbackground": true,
            "ticks": "",
            "zerolinecolor": "white"
           }
          },
          "shapedefaults": {
           "line": {
            "color": "#2a3f5f"
           }
          },
          "ternary": {
           "aaxis": {
            "gridcolor": "white",
            "linecolor": "white",
            "ticks": ""
           },
           "baxis": {
            "gridcolor": "white",
            "linecolor": "white",
            "ticks": ""
           },
           "bgcolor": "#E5ECF6",
           "caxis": {
            "gridcolor": "white",
            "linecolor": "white",
            "ticks": ""
           }
          },
          "title": {
           "x": 0.05
          },
          "xaxis": {
           "automargin": true,
           "gridcolor": "white",
           "linecolor": "white",
           "ticks": "",
           "title": {
            "standoff": 15
           },
           "zerolinecolor": "white",
           "zerolinewidth": 2
          },
          "yaxis": {
           "automargin": true,
           "gridcolor": "white",
           "linecolor": "white",
           "ticks": "",
           "title": {
            "standoff": 15
           },
           "zerolinecolor": "white",
           "zerolinewidth": 2
          }
         }
        },
        "title": {
         "text": "Convolutions"
        },
        "xaxis": {
         "title": {
          "text": "Time series"
         }
        },
        "yaxis": {
         "title": {
          "text": "MASE distribution"
         }
        }
       }
      },
      "text/html": [
       "<div>                            <div id=\"5211a133-4bf3-4fa5-84c6-ad198009a238\" class=\"plotly-graph-div\" style=\"height:525px; width:100%;\"></div>            <script type=\"text/javascript\">                require([\"plotly\"], function(Plotly) {                    window.PLOTLYENV=window.PLOTLYENV || {};                                    if (document.getElementById(\"5211a133-4bf3-4fa5-84c6-ad198009a238\")) {                    Plotly.newPlot(                        \"5211a133-4bf3-4fa5-84c6-ad198009a238\",                        [{\"name\": \"grid\", \"type\": \"box\", \"y\": [1.2714278154834469, 0.7990954559089972, 0.9093162473503424, 1.085979940362237, 0.3402475439709639, 0.679711864290282, 1.1907457623161521, 0.7926797472248658, 0.7108862731187081, 0.8361117465032805, 0.6701892623606496, 0.978644389677849, 0.961277060842319, 0.7199984195554411, 1.6027498519180894, 0.7665714788125159, 1.3371723441984684, 1.2335489835006777, 1.0690424204162723, 1.0366474400174588, 1.031383182828294, 0.439082888204944, 0.9521070224742876, 0.6971254572651656, 0.6163582767930181, 0.5337485371112838, 1.0333898881231445, 0.658818761497974, 4.4817018539443465, 3.5721496708914002, 1.6991107591387284, 1.389427873379859, 0.9170627234027258, 0.7011541163324831, 2.5736203773328934, 1.11346129485805]}, {\"name\": \"tline_1\", \"type\": \"box\", \"y\": [1.0589150159430722, 0.963579176795914, 0.6884147959529846, 0.5612902842771277, 0.44121752346804116, 0.3228793934376009, 0.5394498755271621, 0.45404156902095577, 0.31631894882895234, 1.611789257830571, 0.9254123134922922, 0.9591142190620571, 0.845539394363706, 0.4746599716882985, 1.4528969440984356, 0.7042968240529645, 1.292854180724442, 0.67724233387922, 0.8696270505483711, 0.5757315012921992, 0.6579901132211394, 0.5487206199085822, 0.3156954949876343, 0.29342093981132705, 1.990608734142692, 0.9370204395024095, 0.8029300254263668, 0.3760779508972888, 4.482960688454225, 2.2662645181207415, 2.0235204727358687, 1.8216017466412096, 0.811248961460744, 0.8258173224833213, 1.3952000067933954, 1.1612947887607115]}, {\"name\": \"tline_2\", \"type\": \"box\", \"y\": [1.0885150880644157, 0.9729023017527174, 0.8453805431172567, 1.3466551796219286, 0.37370493665319815, 0.8252776056352515, 1.416029370360537, 0.9359338673288999, 0.8005937096412553, 0.829623859705357, 0.6227537280261587, 0.9456973772603985, 0.9896366265919835, 0.7979336442383198, 1.5067168107055893, 0.9899707532121935, 1.6989967218754167, 1.1970079597792196, 1.3450767912137587, 1.143760163305311, 1.144873923922678, 0.5231223375005678, 1.1107244285852274, 0.782343514005165, 0.4863502670238874, 0.6011316395509531, 1.024207266200326, 0.6965941737206233, 3.583546449523328, 3.6230637811390425, 1.0433160104031296, 1.1935291963014503, 0.9496351254938614, 0.9805912399731831, 2.6554404758659915, 1.166227795739793]}, {\"name\": \"substation1\", \"type\": \"box\", \"y\": [1.0797328660890724, 1.0058701635494682, 0.7092066015329528, 0.5794150139032717, 0.46836678778431917, 0.32131762757389226, 0.5525305488854558, 0.45779832619796396, 0.3376827332282466, 1.6499628678726597, 0.9761978435944967, 0.927883112825536, 0.842881367206728, 0.43846001416831293, 1.4534033783782225, 0.6956360489450198, 1.319194990358784, 0.6947594408127741, 0.9363625285425614, 0.5818589189347152, 0.6816399151595522, 0.5386929263632166, 0.3015207120079767, 0.2806494019251531, 2.0561624514126295, 0.948337390040027, 0.8505107215728323, 0.3883238669878694, 4.5360009073201075, 2.3310579661568935, 2.0972869744385063, 1.8630170598824436, 0.7817739427214683, 0.8254500484362062, 1.4178342976281442, 1.1698083379236113]}, {\"name\": \"substation2\", \"type\": \"box\", \"y\": [0.9740669998771846, 0.8382274378578896, 0.6290978294080323, 0.5351766534530948, 0.42610404520520995, 0.3310034420868583, 0.4980660346824733, 0.4500380368743433, 0.2805923743043874, 1.466297776717986, 0.8072071352348684, 1.0113284423985158, 0.8529398130268433, 0.5923408753591498, 1.391926188302739, 0.7002636049462245, 1.1776466944597763, 0.6202240232432238, 0.760050534094539, 0.5744501906528472, 0.6191944234844474, 0.5752858097954119, 0.3633510159397518, 0.3458604871743865, 1.7727022167787865, 0.8612347282281357, 0.6590863118629795, 0.3997896768142957, 4.199061253478976, 2.001409096277434, 1.7535320731298032, 1.6897452223707168, 0.9077943700983176, 0.8529267103935706, 1.3144095907668425, 1.1607846755151694]}, {\"name\": \"substation3\", \"type\": \"box\", \"y\": [1.0875575448983237, 0.9699550428127387, 0.8429977061212254, 1.3572942375933177, 0.3729246401723915, 0.8573656704355725, 1.4236302504262506, 0.9581303422724072, 0.8100350165042045, 0.841836080083682, 0.6313110665727325, 0.9578649483282772, 1.0026506875074412, 0.8133228142875853, 1.5152738113157296, 0.9892783260322757, 1.6971379152100983, 1.1987618014581707, 1.3598906270404016, 1.1603337564993912, 1.1555358836599634, 0.53628342694896, 1.1291024730549895, 0.7877251487397547, 0.500383590469825, 0.6218019153902004, 1.0327619621619155, 0.7146490150470775, 3.5810564896364516, 3.6230338891139553, 1.0396420120364736, 1.2097341768193197, 0.960093294270719, 0.9804391737830576, 2.6692410043086983, 1.1488214063070363]}, {\"name\": \"substation4\", \"type\": \"box\", \"y\": [0.6640030478755856, 1.1219545031751001, 0.9996038001157319, 0.7339900676764907, 0.5330328134937771, 0.7863707955601874, 1.1194627416979674, 0.7019984000232969, 0.3775051935507776, 0.2697828828987017, 0.6537813806313233, 0.7108186548066111, 0.8220547843849759, 0.3759657174971635, 0.9974173598966126, 0.8335917970569733, 1.377618245513863, 0.8975554992024035, 0.5704753415087197, 0.5936424413691235, 0.7442753738077925, 0.8004314584447546, 0.769575090876997, 0.5919182788323347, 0.2614462804120793, 1.0912241621042922, 0.8610796600309658, 0.6830078397006658, 2.408627089955741, 2.707947711067485, 1.0624166126817738, 0.7581688480747053, 0.6481653986285347, 0.8596671680691551, 1.3299650875957136, 1.867200600362591]}, {\"name\": \"6010\", \"type\": \"box\", \"y\": [1.609807837241943, 1.3311962310653427, 2.3821354726989408, 1.0459503193878523, 1.1440954380519843, 0.9565830797171694, 0.8967830697545837, 0.9467455716013349, 0.7522413466314288, 1.9815110644494203, 1.211635324176619, 0.7907641630724673, 1.6917909846540826, 0.8001213103961313, 1.1811494480826232, 0.8096559991731834, 0.8904652920806061, 1.0321647292634273, 1.2747904295261878, 1.4686744640852172, 1.1926292314499425, 0.9729801280522099, 1.021423195412086, 1.751945400811733, 3.086371260387889, 0.9029678388389859, 1.8253568872682053, 0.9840886035729468, 3.6918220291870125, 1.8740138671794602, 0.5604445669922792, 0.6811484821859454, 1.2483672551683018, 1.0696407988792382, 0.5081326742883864, 0.7717551532453611]}, {\"name\": \"6014\", \"type\": \"box\", \"y\": [2.017178717265664, 1.2195324053256578, 2.601188369728723, 1.2326522161579716, 1.5821760903027182, 0.9619557467974588, 0.9693882189046451, 1.313129351732041, 0.8555475035835091, 2.4337337825921623, 1.2629966742609684, 1.0319385247948591, 1.7458495866144588, 1.1950754753772874, 1.591970062505595, 0.8371471511890148, 1.0803290780328185, 1.3605849242331813, 1.687652410961888, 1.775386655435834, 1.1535314807135966, 1.2043129338396277, 1.2381522692973832, 1.893366312515829, 3.7761766846083358, 1.1108402135222422, 1.8659371858254972, 1.2330194098913, 4.677657547717108, 2.306543607318166, 0.682524375001985, 0.6537483696765174, 1.4673307823581718, 1.4754777321622423, 0.5452050034968594, 0.7077857048787776]}, {\"name\": \"6011\", \"type\": \"box\", \"y\": [1.4859922607445004, 1.1287447372039894, 2.3296002916391934, 1.287493527068141, 1.2586394101075644, 1.3286490093320764, 1.276897846462189, 1.1074969561666967, 0.9077188223877525, 2.0522362671983307, 1.0833179421099681, 0.6884859964631511, 1.5031885946525811, 1.0967809957139913, 1.1565180075634278, 0.681740662111123, 0.8902765814334554, 1.1078469940171627, 0.956435764180227, 1.5492503464912277, 1.2348181080626481, 1.0112820712833912, 1.1356274457698947, 1.6829554710435208, 2.89005433693486, 0.7631760818642008, 1.7267141443837108, 0.9477137203502208, 4.166359893641733, 1.7403734010022294, 0.6600580260608105, 0.9162474590351534, 0.8855014828647472, 1.1190451065788172, 0.6548674812928161, 0.6709208264158227]}, {\"name\": \"6280\", \"type\": \"box\", \"y\": [1.5599658084457135, 1.5029668551504964, 0.9848166843993021, 2.0806416057799346, 1.0060547097398491, 1.1860612490521414, 1.00137673852196, 2.1183389705356603, 1.7626460193166085, 1.8307409852028176, 0.9158572303152257, 0.814233543777982, 0.5339110331181309, 0.5469005590326043, 1.6991921819260005, 1.2792971415325676, 2.2717801846315138, 0.791018696024407, 0.6212547957740773, 0.98372810934914, 0.43272283490630525, 1.6480165438047374, 1.9222468945631077, 1.9154855744196646, 1.0254425212245764, 0.7444111963519494, 0.44016188042061566, 1.3452804894736605, 2.8342888404163546, 1.9794826622887725, 1.1339779291814371, 1.0392324094807535, 0.6877287032069369, 0.8172275780613414, 1.1586730715511626, 1.7368303267474596]}, {\"name\": \"6281\", \"type\": \"box\", \"y\": [0.8625711287125941, 0.9568724161329657, 0.9792814095687926, 1.1043267454833454, 1.1374446049621232, 1.469311804460359, 1.1502403728217718, 1.509514421262308, 1.2277131021071002, 1.647224216382479, 0.8540300292093591, 1.3899711987212064, 0.526711901626411, 0.31956846677359774, 1.1415642199840683, 0.8630000719961279, 0.6553077084654757, 0.8898599384923729, 0.6651899132569531, 0.9677518324339186, 0.7950903872290274, 0.6013079397831816, 0.7080675926391322, 1.2079976832935135, 0.9997439993179386, 0.8235262357633859, 0.8359583433040881, 1.5739286292573764, 1.536527646313921, 0.5990617629454167, 1.6306949844218546, 1.1281483738651024, 1.2572852929194687, 0.6051195666534657, 1.6563631758067996, 0.7883140730615686]}, {\"name\": \"6284\", \"type\": \"box\", \"y\": [1.3440650812569102, 1.2692483229015148, 1.343081964135631, 2.1199921278577647, 1.1477684813184024, 1.902284325261191, 1.2669030156673138, 1.3454139027752803, 1.9322136615091123, 1.7508750646858688, 1.3585191271517705, 0.8038605140074666, 1.3259575283207035, 1.226741047422526, 2.2701318264603008, 1.4929983347582527, 2.0603621643317913, 0.935077669325403, 0.8276096703929793, 0.6457443266417605, 0.7511703772249388, 1.4811015576712327, 1.421925767788424, 2.440496015840861, 2.150781396037653, 1.7467446068639896, 1.1331978460188699, 0.8777693732826874, 2.021429013897909, 1.4714952325237949, 1.011632476148971, 0.7755204857745156, 0.9077976962043564, 0.9138539803593493, 0.7530944884005876, 0.7336225468996789]}, {\"name\": \"1295864320\", \"type\": \"box\", \"y\": [1.1428124572993252, 2.176659974986722, 1.257608764435166, 2.048436199791431, 0.9379615485123921, 1.4571786740769623, 1.1198070042018118, 1.2005821598957023, 1.146346811130667, 1.3918326208615024, 0.761814477583485, 1.2474231588689388, 0.8457332044405974, 0.970151148029511, 1.5039010939851438, 0.8780185618185529, 2.919213739134403, 1.3252965930913836, 0.6233648435098201, 0.6995988855639876, 1.3511841188185962, 1.1198818316163428, 2.7346468097078946, 2.2100344307559485, 1.85378027087717, 1.4558457243726661, 0.4814458924311845, 1.5214798810158907, 2.191398323680299, 1.7109481079315858, 1.6994445328732959, 0.8665756801294947, 0.9611709352997418, 1.2765384500333352, 0.672271000383418, 1.033880602301669]}, {\"name\": \"1247421966\", \"type\": \"box\", \"y\": [1.628954803019449, 0.8488471305209294, 2.7690009408350567, 1.1390743782270754, 1.3643743725213338, 0.8685895424607107, 0.9661735822103609, 1.0983600931874669, 0.8068315312692443, 2.103292494772207, 0.7496939190471827, 1.0075146164692321, 1.720668369450859, 1.079507060284775, 1.2994110850667742, 0.7899648653650299, 0.938482724041286, 0.9674396830379609, 1.3769516580577643, 1.2697621854314833, 1.0534696251786988, 0.8528914781024358, 0.8151857029862962, 1.5944400550631268, 3.0904347849177856, 0.74569532457307, 1.6990402024195606, 0.8972321945602746, 3.3122769937851975, 1.5676557814182195, 0.6798551689906871, 0.6345365586907658, 1.171991978131807, 0.9221540327083174, 0.6673014148660696, 0.8636172502456462]}, {\"name\": \"2107373071\", \"type\": \"box\", \"y\": [1.795139709669704, 1.7815649231177755, 2.7676633130921675, 1.3198334351005636, 1.1750682282423992, 1.030019778739397, 1.1926368664116775, 1.322896651212625, 0.9077142344762962, 2.6895460240155473, 1.3037901727606986, 0.9345020502085055, 1.8946982963207182, 1.079993876544285, 1.7383778599368152, 1.2229210629596987, 1.2298801637710892, 1.4186084427669412, 1.5802677938266094, 1.638058164280332, 1.3281889533132654, 1.2900664513549598, 1.3306151536681619, 2.114198353907411, 3.7946294353418857, 0.9703156612334942, 2.3679192326796143, 1.3730632363898945, 5.140098017088913, 2.7630739258299792, 0.8804842556958907, 0.7343153524328093, 1.886586419543192, 1.3587204946086402, 0.6136745840438166, 0.6789635136798279]}, {\"name\": \"2009066518\", \"type\": \"box\", \"y\": [0.8697615240915704, 1.498014305505612, 0.7117051135337257, 1.0749194362785353, 0.690818072915287, 1.168518568380615, 1.2255497680786998, 0.8387067074371234, 1.455239280752109, 1.4758132096306493, 1.2655892221507676, 0.725678839355441, 1.0262090747789576, 1.0333065428675958, 1.3672926986240124, 1.4413164474061386, 2.2129191497180263, 0.7684220949828948, 0.6481219722320066, 0.8128611258158478, 1.0196213607426268, 1.0562972104046622, 1.4757468836893692, 2.010125706835464, 1.560567083140343, 1.5634965474535583, 0.9861948300857915, 1.090742291976772, 1.9724320298345184, 1.5663526273545902, 1.4159408388370802, 1.023905160561706, 0.8589321691612244, 1.2732089345631976, 0.19847302008999623, 1.1823299523042707]}, {\"name\": \"972102295\", \"type\": \"box\", \"y\": [0.8834220857562926, 0.8914984675632266, 0.9855815165226716, 0.8554466832580047, 0.8477069278240031, 1.3935388596739713, 1.3840064007303325, 1.3127394113272968, 1.3675767547374453, 1.7771837720912858, 0.793339865441388, 1.3654648114094212, 0.4889416270912151, 0.3208193593325613, 1.2488737701505797, 0.9963415400357208, 0.7281007388912648, 0.9025685010889907, 0.6618965593875877, 0.922549769052375, 0.7497546399840999, 0.5667985687255357, 0.7161955668745, 1.0399188267162984, 1.0095134280761975, 0.8336016979177687, 0.6714094644029632, 1.4136052030450412, 1.6058437848061524, 0.5654340693043471, 1.5314339691334666, 1.1934299726417343, 1.3544184694875256, 0.5321537415595224, 1.653969360827614, 0.8544736313546173]}, {\"name\": \"1616571925\", \"type\": \"box\", \"y\": [0.7805530173413907, 1.0649640466279708, 1.2947288274050401, 1.1140878336815894, 1.1185420291375772, 0.8474522980897989, 1.7852552101850314, 1.8752711084760751, 1.6721143928885471, 1.2026154720920557, 1.2657245828955954, 1.0387962535137474, 0.955175335572707, 0.6857897481860052, 1.9962640575263026, 1.2081458442241915, 1.9712889108587328, 1.2800979330763658, 0.803915385423076, 0.912856945295123, 0.6258162964264453, 0.536751459330544, 1.3939303977018849, 0.9483279102435441, 0.9745227165447117, 1.3839650580366092, 0.8259265445646417, 1.1257662994492676, 2.094160868171862, 1.6910894319788066, 1.1558994222940668, 0.9203318743721329, 0.4953498656627085, 0.9308534112179019, 1.3660061583007441, 0.9067231460656202]}, {\"name\": \"806187417\", \"type\": \"box\", \"y\": [1.7813008048802716, 1.296873875306504, 2.7373486067228168, 1.1281470801869584, 1.3446793362333922, 0.8694869141818505, 0.9810817049371395, 1.0580422830858651, 0.8002600765698749, 2.004494299025721, 0.9141003643730587, 1.0508509862021822, 1.8013803714071275, 1.1402954334558102, 1.3495067738897157, 0.849427913964265, 0.860165808745881, 0.9445289435202175, 1.336725870579193, 1.3842273869852797, 1.0002482568060476, 0.887193525204953, 0.8989475902587853, 1.511136378319613, 3.1085065813891553, 1.0369032437410786, 1.6388432028589701, 1.1190878433785525, 3.231041502308125, 1.6997326135388136, 0.8283179543681, 0.5118849019266435, 1.014923694777536, 0.9547928768560073, 0.6847817223041137, 0.8967979278186821]}, {\"name\": \"771513244\", \"type\": \"box\", \"y\": [1.5300283273338529, 1.4100814432386077, 2.108263354869865, 1.023472904627048, 1.0846144271983922, 0.9387467176001888, 0.8452811963325284, 0.6961731247308098, 0.7920762852579424, 1.6977152702314753, 1.1984342584326726, 1.128026685535616, 1.544456297162348, 0.7034258041818531, 1.0310677213151758, 0.8663930413645162, 0.8763115877094287, 0.8739026041130243, 1.5530855833293113, 1.3948974231243803, 1.1424897114386232, 0.7859675742915225, 0.9846835713292827, 1.6349088127386253, 2.661905434285755, 1.1990892564889053, 1.7941655493943454, 1.0496096218097153, 3.594706761392025, 1.8307742029272671, 0.6490645291263947, 0.9743976105484194, 1.5510030748264407, 0.9462179228777342, 0.42085394534756865, 0.7812197931402682]}, {\"name\": \"1562145181\", \"type\": \"box\", \"y\": [1.6542002325063474, 0.8303264193981907, 2.0232015266148395, 0.7887677402760702, 0.7751011113384151, 0.4980942969899977, 0.42903558273167364, 0.6329354055203936, 0.5302286654290103, 2.149745685399043, 0.9923251621618029, 0.8159504075795015, 1.1683773464873437, 0.724363329092418, 1.312156852169889, 1.0784434149788416, 0.8769904122796107, 1.0381851617449604, 1.6079950238742295, 1.8777825337653002, 0.5859548272745564, 0.8007184243335118, 0.7619505816069431, 1.3719787715611556, 2.9128938609322597, 0.7199481071024668, 1.3983769867389322, 1.248626771964923, 3.2632051240940436, 1.572617556941186, 0.8788356622962733, 0.6349128561870623, 0.9392114157384807, 1.7709545910074984, 0.41404552461901073, 0.8379324163214131]}, {\"name\": \"896338719\", \"type\": \"box\", \"y\": [1.2137840091044911, 1.1069953634170724, 2.171123396999311, 0.8567261292674105, 1.0341361449851756, 0.9286832588836083, 0.8066952352891594, 0.7939596932806301, 0.6274045060680935, 1.6285716840207616, 1.0645296530757717, 0.8876215700069733, 1.4950789204314137, 0.7781953028272917, 1.1273933393775275, 0.7083818930422502, 0.8771612114546158, 0.9376457229471064, 1.0777390921432877, 1.2965381085297136, 1.136706679182205, 0.7757953717010032, 0.8652193063521021, 1.478386010473213, 2.72339137980131, 0.9571722478440635, 1.5573202410835605, 0.9075516299008187, 3.0354886471244362, 1.5373479085762243, 0.6586242701195213, 0.6597433019409011, 0.9445915348120626, 0.7708214070024071, 0.5331091001205408, 0.8450890923373604]}, {\"name\": \"1113196323\", \"type\": \"box\", \"y\": [1.4976164368717124, 1.983760580574565, 1.061653423461428, 1.1762588103400942, 0.8120530383457039, 1.675710293489943, 0.8157416687858717, 0.9861728279372456, 0.5518206915044186, 1.0412661575953222, 1.59007360820077, 0.9561247510935302, 0.821962979221831, 0.8262699080406891, 1.5632119042709713, 1.068505997648013, 0.9308049344603658, 0.8536257913639822, 1.1020616789299014, 1.2800710397457007, 1.134424586550269, 1.1509058847621811, 1.2318554395250616, 1.454243083291457, 1.044048845021823, 0.7200838359803446, 0.9670403405669699, 0.8456804882575358, 2.559491650655991, 1.9477972755609512, 1.3290513208100896, 1.41355282501537, 1.3217843405661014, 0.640609844161214, 0.3693733553794797, 0.9675141023633064]}, {\"name\": \"1597760039\", \"type\": \"box\", \"y\": [0.8691659916401394, 1.4060948911227318, 0.7291831966083627, 0.9752231605987879, 0.40708426291804234, 1.4976009112786208, 0.975937383658324, 0.6753873643935729, 1.4280518912936222, 1.3795807638530044, 1.138535323319538, 1.0695795937471784, 0.8423340841479846, 0.5954202478264405, 1.2635406326695382, 1.0013040420539823, 1.9930932880072496, 0.8146403814460189, 0.6702686776698671, 0.7008079353340991, 0.9907697140619294, 1.0053416837372369, 1.5485300046028623, 1.9649760287436573, 1.7356471376618103, 1.4988326968787686, 0.8434865526211852, 0.9577064003859951, 1.8632596277470181, 1.1556612646500437, 1.321448526752968, 0.9510543178899215, 0.8304183552436428, 1.0383933243595422, 0.49706723858470336, 1.1026635441648824]}, {\"name\": \"317532327\", \"type\": \"box\", \"y\": [1.4539157371634148, 2.2079478315962557, 0.9789745764324759, 0.8899860724984789, 1.3012445302247437, 1.7441055193899042, 0.5228487708670884, 1.1481155942876344, 1.3054932138631419, 1.4468399478750287, 0.8577650463630839, 0.8693922960900793, 0.8668253532105773, 0.42269164182566143, 0.7739152770438543, 1.3816521969916606, 1.797637667493493, 1.3165400416090798, 0.8348590917243055, 0.604555851727935, 1.2862977062791625, 0.7655275425770804, 1.3130241689247788, 1.385438123728848, 1.0720830858068786, 1.0060828263281054, 1.0974736507893954, 1.0220088067757913, 2.1262378712339345, 1.3492255640158237, 1.4687373980613816, 1.3023456245536598, 1.2589055357257577, 1.0391972336648059, 0.7751765380886736, 1.1603350510359163]}, {\"name\": \"346061612\", \"type\": \"box\", \"y\": [1.7984457999954315, 1.332776061778922, 2.429336268498202, 1.0046663548858523, 1.3402513908674243, 1.0224755552417188, 1.1190851743025947, 1.2716255992195813, 0.7420329451907803, 2.625238158948314, 1.3738135969273253, 1.0032452336164195, 1.812593657435771, 1.203689480258289, 1.7911348631461417, 0.8336804270388155, 1.1305920462904544, 1.4895923139689256, 1.6562649378994179, 1.7602806366388075, 1.3250530014722275, 1.3776946705142767, 1.266087437358158, 1.9221860793920393, 3.912251924114317, 0.97376093634301, 1.8982408574702543, 1.4193793847189509, 5.392820946523829, 2.6550801612529256, 1.5981678614066872, 1.0348852705743519, 1.716441995648843, 1.3422153989568368, 0.505137841155092, 0.843954166762832]}, {\"name\": \"40333612\", \"type\": \"box\", \"y\": [1.7297643269857887, 1.1637855539562487, 2.249108659245691, 1.1196853963905602, 1.0281965507945114, 1.24129877531406, 1.1504588826251245, 1.0135348609291264, 0.8058386939302553, 2.0332527504078888, 1.3876850854197624, 0.6704241629651501, 1.4776048462766538, 0.9624657090516088, 1.2017550191987583, 0.6962310499491609, 1.0771740508841192, 1.1316718144319116, 0.9463690215795347, 1.5177042955587143, 1.1185062059370752, 0.97931319534361, 1.0680363149564556, 1.5811455199097528, 2.730377573229931, 0.676978965171445, 1.6043554974056147, 1.0567009084398493, 3.9420225101734445, 1.85939049662147, 0.6770110863153928, 0.9547108478612302, 0.8259366309702536, 0.9253712421100831, 0.6207501955445421, 0.6059203152544382]}, {\"name\": \"511723709\", \"type\": \"box\", \"y\": [1.8344531501113701, 1.4230432263351893, 2.7343082789274824, 1.4877867599210632, 1.3736016448489685, 1.304066011118391, 1.4572321797212642, 1.3175129194771578, 0.9132818422347655, 2.4161665692489116, 1.4663518152641617, 0.9231873683395944, 1.9363050045425296, 1.472831291879327, 1.4022445025776606, 0.8468252631842642, 1.087785441335848, 1.390923425292601, 0.9451131653738991, 1.7640994063330204, 1.3447008608649147, 1.2688803106058528, 1.281163248456838, 2.0555528857906333, 3.5240152119860033, 0.9383628031428853, 2.072177189970336, 1.2404836651755653, 4.665948530061234, 2.329124435379677, 0.8818985473105491, 1.1897516827856767, 1.3942775664370952, 1.3724856093395146, 0.9204280800655013, 0.7979688711823816]}, {\"name\": \"1004972352\", \"type\": \"box\", \"y\": [1.1872496136774344, 1.029972389201492, 0.670437778628112, 1.1079867859736579, 1.2752315056186294, 1.242252201132636, 1.4161976556609939, 1.1786468682257762, 2.1751473885746817, 1.9686263702415645, 1.014071626946372, 0.8357848978878145, 1.0704465871980964, 0.8659534871813246, 1.2676702536823974, 1.1855195254343602, 1.9934825094808624, 0.842766949261613, 0.5574273665766245, 0.5644790417616126, 0.9662920948368497, 0.9163218601426533, 2.100016898622062, 2.0001031111239245, 1.8597380704577622, 1.2955797487179972, 0.7279767047253961, 1.2222482008962685, 1.8818800873731834, 1.5629116648717725, 1.4815536167591599, 0.7389754178323759, 0.8614053559161537, 1.4698966039738939, 0.38882420005807133, 0.6463697052867392]}, {\"name\": \"143824576\", \"type\": \"box\", \"y\": [1.6237285479245858, 1.2194622721898407, 2.124502060140663, 0.8665312641117373, 1.0954670234599422, 1.056568948160489, 0.9653868466777854, 0.922893239933726, 0.7741519596961636, 1.8036985495007154, 1.2227579303987908, 1.016974666576572, 1.6444288949129626, 0.7817824907550761, 1.3703957476239772, 0.7701733050529467, 0.6878788239121282, 0.9234204148621814, 1.1392182450935275, 1.3113692711148124, 1.0227774186299943, 0.9483322044465952, 0.8317986865492816, 1.5450980654464137, 2.8477395147988105, 0.9210700255037516, 1.4665280487652448, 1.1137682235278534, 3.260339692808465, 1.344419068003151, 0.5244819409045974, 0.6424806959909881, 1.498744411611092, 0.6298534773573081, 0.48753337797075535, 0.7443587614507706]}, {\"name\": \"368424646\", \"type\": \"box\", \"y\": [2.294743690158531, 1.144288412618078, 1.2581080544378962, 2.324165693129663, 1.9612325796559245, 1.397454276205712, 1.229026214959256, 2.4887144246973714, 1.22054144830895, 1.1788513685908135, 1.249578762143526, 1.0334950019534275, 0.7754084249032416, 1.0660880839178573, 1.9410847328220233, 1.9591100167346145, 1.4780003468252259, 0.9720833563998988, 0.7110263747504332, 1.2640715493743557, 0.9732809712124736, 2.336538609385167, 1.6081295032695813, 1.8364149805855545, 1.403180852194447, 1.1136515604256392, 0.4979458166471579, 1.2445372205786644, 2.3784454607892727, 1.7477290791012596, 1.300093752621177, 1.5026720034150034, 0.6524382772281371, 0.8652437082574925, 1.2184517425158716, 2.7417570227670676]}, {\"name\": \"1428227531\", \"type\": \"box\", \"y\": [1.32814988434202, 1.5913967153461637, 0.4758065323395518, 1.1141687716484077, 0.6472067088712733, 1.8117528069855913, 1.007469121139513, 1.0491747282581176, 1.0664562537544944, 1.4951801729052225, 1.3014329971482053, 1.2557944839307758, 0.922978937524586, 0.6147676635434405, 1.1541271606715693, 1.1069606644823, 1.8282455517434748, 0.8847621582788966, 0.5352382225981153, 0.7008205803306082, 0.7977485607355199, 0.8202797984296635, 1.263249620228342, 1.6059875787133717, 1.2650775552812332, 1.7390769683002893, 0.6592680767045871, 1.5480373586099567, 2.155612387111537, 1.411434990417975, 1.5439967465996782, 1.0385742095965158, 0.8703675504500994, 1.1348704816311648, 0.39865205229176603, 0.8549684485430818]}, {\"name\": \"2040495184\", \"type\": \"box\", \"y\": [0.8605481542307148, 1.3771633241893628, 0.6894001178214829, 1.2599265210034243, 0.926708880435079, 1.1515221358129486, 1.220150243393777, 1.017134618452214, 1.2955336715040955, 1.2039368306303389, 1.1933631932119935, 0.7001372821786047, 1.045345144503526, 0.7845704631504917, 1.3177577668483593, 1.4815928919350112, 2.2145019105501693, 0.7902149313851696, 0.4784800210644063, 0.7381740706026021, 0.9349502872049895, 0.8158745753874354, 1.3563094929003903, 1.6077453331133278, 1.3418689958369743, 1.032953728306186, 0.882657551498326, 1.0792296380117525, 2.032794253287783, 1.6749616711438025, 1.4197215119240272, 0.931903075807318, 0.6808733682375293, 1.303340572056496, 0.33299518104014364, 0.8973184339426895]}, {\"name\": \"1893337300\", \"type\": \"box\", \"y\": [1.1728288048366708, 1.066602634509305, 1.3502938688366213, 2.0607338482651514, 1.1164046830448922, 1.9056521658319352, 1.337582141396401, 1.3400924116963318, 1.8337398686943445, 1.7335746118870006, 1.205503269719945, 0.7381181761781797, 1.235761584720201, 1.1952005545298814, 2.225180823478541, 1.4714475494269386, 2.0385820174258162, 0.8718459445106037, 0.7284175899530455, 0.6519078430443415, 0.7442750910640544, 1.3334796132006037, 1.3059589409894659, 2.300396083028491, 1.977308121745798, 1.588906367310944, 1.0441146891517359, 0.854144590808173, 1.944495755770991, 1.4550041533236542, 0.9690263589259538, 0.7565648273935544, 0.8940631934020634, 0.8974234764590318, 0.7574172934961713, 0.7235324626497464]}, {\"name\": \"2117861717\", \"type\": \"box\", \"y\": [1.5420229553385076, 1.614529476822, 2.0228360768825726, 1.1743889628745707, 1.1079717271104215, 1.2743611229004452, 1.1832940884679954, 0.8446792904844276, 0.7470195562740269, 1.828753718898445, 1.1859376035467448, 1.10655675226548, 1.3529559611945738, 0.8793581758589991, 1.0529576329960852, 0.7041019455950497, 0.7879403766295501, 0.8950475181937844, 0.988020157817986, 1.3546713402106825, 1.0913498164900184, 0.8287116550990836, 0.9869507381118593, 1.5087114936785886, 2.5711340330117824, 0.7665402040036017, 1.5160747173251055, 0.9503472294134472, 3.484524302826889, 1.2997892450455986, 0.9081543032590546, 0.7814090049851474, 0.8934690597129044, 1.0159022081131455, 0.5456052112319518, 0.7822383919112861]}, {\"name\": \"1941427679\", \"type\": \"box\", \"y\": [2.0128883459418945, 1.5918827311211121, 3.086086686929351, 1.5788616910016098, 1.217125263831542, 1.0590444850873104, 1.4440301769192836, 1.714339501604951, 1.0415730514398607, 2.8158444468199963, 1.5813345619306307, 1.2516157947161577, 2.137904384106442, 1.4859882380652654, 1.826461863794709, 1.0244589202099752, 1.0696496798448527, 1.9411242203529324, 1.4777144137798537, 1.8971055005303945, 1.4610141260045446, 1.5828557165917014, 1.3957996845379748, 2.096802810269291, 4.208017435655745, 1.0969836392029306, 1.9668212249252957, 2.0703923496286643, 4.907519694508905, 2.934882525972903, 1.1356395611529184, 1.1095311531663332, 1.7490635830174581, 1.483743570462946, 0.8341140178914142, 0.7896240200723407]}, {\"name\": \"1708098535\", \"type\": \"box\", \"y\": [1.6798479024196447, 1.5119618707736808, 2.4953866016102757, 1.1707667026458217, 1.0251886002337027, 0.9135798181521554, 0.9569032921334174, 0.822989991565636, 0.7695724864020355, 1.9411417898218228, 1.1749187365322944, 1.0375036579916481, 1.6681592234161537, 0.8416798406903763, 1.144417720521137, 0.8776879183102199, 0.9490380338555569, 1.0208204612439953, 1.4571817997558376, 1.4148251238934566, 1.2410782910939169, 0.8537305462825798, 0.9506820241790417, 1.7052308571199395, 3.01965112732667, 1.052628086909962, 1.9613779829840352, 1.148934484883964, 3.649454455327023, 1.9010574804754214, 0.7260064089398226, 0.6698391650455717, 1.653254738359789, 1.1625665542003845, 0.5162582868656185, 0.8388621302079526]}, {\"name\": \"456209269\", \"type\": \"box\", \"y\": [1.5216879541579862, 1.037989047507674, 2.4167170210746054, 1.0496176981825454, 1.3886770343790416, 1.1269601387660235, 1.1011586277637004, 1.2009904593461385, 0.7562809330335796, 2.0381241867676825, 1.231898414567502, 0.606051671512842, 1.620270671338271, 1.0622669452819342, 1.3039516202398362, 0.847960665884261, 1.0302419351622827, 1.270350768916529, 0.8800383810539074, 1.512524967213297, 1.246595225112369, 1.0320876292315042, 1.0531996262359955, 1.6829960546082838, 3.235974149960511, 0.906854135917783, 1.691374736857998, 1.1667043773353212, 3.9314899734715967, 2.0284116681564206, 0.7912029295036467, 1.012166395287262, 1.1831356522558414, 1.2685028829406644, 0.6380613885012589, 0.8671200192763021]}],                        {\"showlegend\": false, \"template\": {\"data\": {\"bar\": [{\"error_x\": {\"color\": \"#2a3f5f\"}, \"error_y\": {\"color\": \"#2a3f5f\"}, \"marker\": {\"line\": {\"color\": \"#E5ECF6\", \"width\": 0.5}}, \"type\": \"bar\"}], \"barpolar\": [{\"marker\": {\"line\": {\"color\": \"#E5ECF6\", \"width\": 0.5}}, \"type\": \"barpolar\"}], \"carpet\": [{\"aaxis\": {\"endlinecolor\": \"#2a3f5f\", \"gridcolor\": \"white\", \"linecolor\": \"white\", \"minorgridcolor\": \"white\", \"startlinecolor\": \"#2a3f5f\"}, \"baxis\": {\"endlinecolor\": \"#2a3f5f\", \"gridcolor\": \"white\", \"linecolor\": \"white\", \"minorgridcolor\": \"white\", \"startlinecolor\": \"#2a3f5f\"}, \"type\": \"carpet\"}], \"choropleth\": [{\"colorbar\": {\"outlinewidth\": 0, \"ticks\": \"\"}, \"type\": \"choropleth\"}], \"contour\": [{\"colorbar\": {\"outlinewidth\": 0, \"ticks\": \"\"}, \"colorscale\": [[0.0, \"#0d0887\"], [0.1111111111111111, \"#46039f\"], [0.2222222222222222, \"#7201a8\"], [0.3333333333333333, \"#9c179e\"], [0.4444444444444444, \"#bd3786\"], [0.5555555555555556, \"#d8576b\"], [0.6666666666666666, \"#ed7953\"], [0.7777777777777778, \"#fb9f3a\"], [0.8888888888888888, \"#fdca26\"], [1.0, \"#f0f921\"]], \"type\": \"contour\"}], \"contourcarpet\": [{\"colorbar\": {\"outlinewidth\": 0, \"ticks\": \"\"}, \"type\": \"contourcarpet\"}], \"heatmap\": [{\"colorbar\": {\"outlinewidth\": 0, \"ticks\": \"\"}, \"colorscale\": [[0.0, \"#0d0887\"], [0.1111111111111111, \"#46039f\"], [0.2222222222222222, \"#7201a8\"], [0.3333333333333333, \"#9c179e\"], [0.4444444444444444, \"#bd3786\"], [0.5555555555555556, \"#d8576b\"], [0.6666666666666666, \"#ed7953\"], [0.7777777777777778, \"#fb9f3a\"], [0.8888888888888888, \"#fdca26\"], [1.0, \"#f0f921\"]], \"type\": \"heatmap\"}], \"heatmapgl\": [{\"colorbar\": {\"outlinewidth\": 0, \"ticks\": \"\"}, \"colorscale\": [[0.0, \"#0d0887\"], [0.1111111111111111, \"#46039f\"], [0.2222222222222222, \"#7201a8\"], [0.3333333333333333, \"#9c179e\"], [0.4444444444444444, \"#bd3786\"], [0.5555555555555556, \"#d8576b\"], [0.6666666666666666, \"#ed7953\"], [0.7777777777777778, \"#fb9f3a\"], [0.8888888888888888, \"#fdca26\"], [1.0, \"#f0f921\"]], \"type\": \"heatmapgl\"}], \"histogram\": [{\"marker\": {\"colorbar\": {\"outlinewidth\": 0, \"ticks\": \"\"}}, \"type\": \"histogram\"}], \"histogram2d\": [{\"colorbar\": {\"outlinewidth\": 0, \"ticks\": \"\"}, \"colorscale\": [[0.0, \"#0d0887\"], [0.1111111111111111, \"#46039f\"], [0.2222222222222222, \"#7201a8\"], [0.3333333333333333, \"#9c179e\"], [0.4444444444444444, \"#bd3786\"], [0.5555555555555556, \"#d8576b\"], [0.6666666666666666, \"#ed7953\"], [0.7777777777777778, \"#fb9f3a\"], [0.8888888888888888, \"#fdca26\"], [1.0, \"#f0f921\"]], \"type\": \"histogram2d\"}], \"histogram2dcontour\": [{\"colorbar\": {\"outlinewidth\": 0, \"ticks\": \"\"}, \"colorscale\": [[0.0, \"#0d0887\"], [0.1111111111111111, \"#46039f\"], [0.2222222222222222, \"#7201a8\"], [0.3333333333333333, \"#9c179e\"], [0.4444444444444444, \"#bd3786\"], [0.5555555555555556, \"#d8576b\"], [0.6666666666666666, \"#ed7953\"], [0.7777777777777778, \"#fb9f3a\"], [0.8888888888888888, \"#fdca26\"], [1.0, \"#f0f921\"]], \"type\": \"histogram2dcontour\"}], \"mesh3d\": [{\"colorbar\": {\"outlinewidth\": 0, \"ticks\": \"\"}, \"type\": \"mesh3d\"}], \"parcoords\": [{\"line\": {\"colorbar\": {\"outlinewidth\": 0, \"ticks\": \"\"}}, \"type\": \"parcoords\"}], \"pie\": [{\"automargin\": true, \"type\": \"pie\"}], \"scatter\": [{\"marker\": {\"colorbar\": {\"outlinewidth\": 0, \"ticks\": \"\"}}, \"type\": \"scatter\"}], \"scatter3d\": [{\"line\": {\"colorbar\": {\"outlinewidth\": 0, \"ticks\": \"\"}}, \"marker\": {\"colorbar\": {\"outlinewidth\": 0, \"ticks\": \"\"}}, \"type\": \"scatter3d\"}], \"scattercarpet\": [{\"marker\": {\"colorbar\": {\"outlinewidth\": 0, \"ticks\": \"\"}}, \"type\": \"scattercarpet\"}], \"scattergeo\": [{\"marker\": {\"colorbar\": {\"outlinewidth\": 0, \"ticks\": \"\"}}, \"type\": \"scattergeo\"}], \"scattergl\": [{\"marker\": {\"colorbar\": {\"outlinewidth\": 0, \"ticks\": \"\"}}, \"type\": \"scattergl\"}], \"scattermapbox\": [{\"marker\": {\"colorbar\": {\"outlinewidth\": 0, \"ticks\": \"\"}}, \"type\": \"scattermapbox\"}], \"scatterpolar\": [{\"marker\": {\"colorbar\": {\"outlinewidth\": 0, \"ticks\": \"\"}}, \"type\": \"scatterpolar\"}], \"scatterpolargl\": [{\"marker\": {\"colorbar\": {\"outlinewidth\": 0, \"ticks\": \"\"}}, \"type\": \"scatterpolargl\"}], \"scatterternary\": [{\"marker\": {\"colorbar\": {\"outlinewidth\": 0, \"ticks\": \"\"}}, \"type\": \"scatterternary\"}], \"surface\": [{\"colorbar\": {\"outlinewidth\": 0, \"ticks\": \"\"}, \"colorscale\": [[0.0, \"#0d0887\"], [0.1111111111111111, \"#46039f\"], [0.2222222222222222, \"#7201a8\"], [0.3333333333333333, \"#9c179e\"], [0.4444444444444444, \"#bd3786\"], [0.5555555555555556, \"#d8576b\"], [0.6666666666666666, \"#ed7953\"], [0.7777777777777778, \"#fb9f3a\"], [0.8888888888888888, \"#fdca26\"], [1.0, \"#f0f921\"]], \"type\": \"surface\"}], \"table\": [{\"cells\": {\"fill\": {\"color\": \"#EBF0F8\"}, \"line\": {\"color\": \"white\"}}, \"header\": {\"fill\": {\"color\": \"#C8D4E3\"}, \"line\": {\"color\": \"white\"}}, \"type\": \"table\"}]}, \"layout\": {\"annotationdefaults\": {\"arrowcolor\": \"#2a3f5f\", \"arrowhead\": 0, \"arrowwidth\": 1}, \"autotypenumbers\": \"strict\", \"coloraxis\": {\"colorbar\": {\"outlinewidth\": 0, \"ticks\": \"\"}}, \"colorscale\": {\"diverging\": [[0, \"#8e0152\"], [0.1, \"#c51b7d\"], [0.2, \"#de77ae\"], [0.3, \"#f1b6da\"], [0.4, \"#fde0ef\"], [0.5, \"#f7f7f7\"], [0.6, \"#e6f5d0\"], [0.7, \"#b8e186\"], [0.8, \"#7fbc41\"], [0.9, \"#4d9221\"], [1, \"#276419\"]], \"sequential\": [[0.0, \"#0d0887\"], [0.1111111111111111, \"#46039f\"], [0.2222222222222222, \"#7201a8\"], [0.3333333333333333, \"#9c179e\"], [0.4444444444444444, \"#bd3786\"], [0.5555555555555556, \"#d8576b\"], [0.6666666666666666, \"#ed7953\"], [0.7777777777777778, \"#fb9f3a\"], [0.8888888888888888, \"#fdca26\"], [1.0, \"#f0f921\"]], \"sequentialminus\": [[0.0, \"#0d0887\"], [0.1111111111111111, \"#46039f\"], [0.2222222222222222, \"#7201a8\"], [0.3333333333333333, \"#9c179e\"], [0.4444444444444444, \"#bd3786\"], [0.5555555555555556, \"#d8576b\"], [0.6666666666666666, \"#ed7953\"], [0.7777777777777778, \"#fb9f3a\"], [0.8888888888888888, \"#fdca26\"], [1.0, \"#f0f921\"]]}, \"colorway\": [\"#636efa\", \"#EF553B\", \"#00cc96\", \"#ab63fa\", \"#FFA15A\", \"#19d3f3\", \"#FF6692\", \"#B6E880\", \"#FF97FF\", \"#FECB52\"], \"font\": {\"color\": \"#2a3f5f\"}, \"geo\": {\"bgcolor\": \"white\", \"lakecolor\": \"white\", \"landcolor\": \"#E5ECF6\", \"showlakes\": true, \"showland\": true, \"subunitcolor\": \"white\"}, \"hoverlabel\": {\"align\": \"left\"}, \"hovermode\": \"closest\", \"mapbox\": {\"style\": \"light\"}, \"paper_bgcolor\": \"white\", \"plot_bgcolor\": \"#E5ECF6\", \"polar\": {\"angularaxis\": {\"gridcolor\": \"white\", \"linecolor\": \"white\", \"ticks\": \"\"}, \"bgcolor\": \"#E5ECF6\", \"radialaxis\": {\"gridcolor\": \"white\", \"linecolor\": \"white\", \"ticks\": \"\"}}, \"scene\": {\"xaxis\": {\"backgroundcolor\": \"#E5ECF6\", \"gridcolor\": \"white\", \"gridwidth\": 2, \"linecolor\": \"white\", \"showbackground\": true, \"ticks\": \"\", \"zerolinecolor\": \"white\"}, \"yaxis\": {\"backgroundcolor\": \"#E5ECF6\", \"gridcolor\": \"white\", \"gridwidth\": 2, \"linecolor\": \"white\", \"showbackground\": true, \"ticks\": \"\", \"zerolinecolor\": \"white\"}, \"zaxis\": {\"backgroundcolor\": \"#E5ECF6\", \"gridcolor\": \"white\", \"gridwidth\": 2, \"linecolor\": \"white\", \"showbackground\": true, \"ticks\": \"\", \"zerolinecolor\": \"white\"}}, \"shapedefaults\": {\"line\": {\"color\": \"#2a3f5f\"}}, \"ternary\": {\"aaxis\": {\"gridcolor\": \"white\", \"linecolor\": \"white\", \"ticks\": \"\"}, \"baxis\": {\"gridcolor\": \"white\", \"linecolor\": \"white\", \"ticks\": \"\"}, \"bgcolor\": \"#E5ECF6\", \"caxis\": {\"gridcolor\": \"white\", \"linecolor\": \"white\", \"ticks\": \"\"}}, \"title\": {\"x\": 0.05}, \"xaxis\": {\"automargin\": true, \"gridcolor\": \"white\", \"linecolor\": \"white\", \"ticks\": \"\", \"title\": {\"standoff\": 15}, \"zerolinecolor\": \"white\", \"zerolinewidth\": 2}, \"yaxis\": {\"automargin\": true, \"gridcolor\": \"white\", \"linecolor\": \"white\", \"ticks\": \"\", \"title\": {\"standoff\": 15}, \"zerolinecolor\": \"white\", \"zerolinewidth\": 2}}}, \"title\": {\"text\": \"Convolutions\"}, \"xaxis\": {\"title\": {\"text\": \"Time series\"}}, \"yaxis\": {\"title\": {\"text\": \"MASE distribution\"}}},                        {\"responsive\": true}                    ).then(function(){\n",
       "                            \n",
       "var gd = document.getElementById('5211a133-4bf3-4fa5-84c6-ad198009a238');\n",
       "var x = new MutationObserver(function (mutations, observer) {{\n",
       "        var display = window.getComputedStyle(gd).display;\n",
       "        if (!display || display === 'none') {{\n",
       "            console.log([gd, 'removed!']);\n",
       "            Plotly.purge(gd);\n",
       "            observer.disconnect();\n",
       "        }}\n",
       "}});\n",
       "\n",
       "// Listen for the removal of the full notebook cells\n",
       "var notebookContainer = gd.closest('#notebook-container');\n",
       "if (notebookContainer) {{\n",
       "    x.observe(notebookContainer, {childList: true});\n",
       "}}\n",
       "\n",
       "// Listen for the clearing of the current output cell\n",
       "var outputEl = gd.closest('.output');\n",
       "if (outputEl) {{\n",
       "    x.observe(outputEl, {childList: true});\n",
       "}}\n",
       "\n",
       "                        })                };                });            </script>        </div>"
      ]
     },
     "metadata": {},
     "output_type": "display_data"
    }
   ],
   "source": [
    "fig = go.Figure()\n",
    "for col in tcn_dist_ts.keys():\n",
    "    box_data = tcn_dist_ts[col]\n",
    "    fig.add_trace(go.Box(y=box_data, name = col))\n",
    "fig.update_xaxes(title = 'Time series')\n",
    "fig.update_yaxes(title = 'MASE distribution')\n",
    "fig.update_layout(title = \"Convolutions\", showlegend= False)"
   ]
  },
  {
   "cell_type": "code",
   "execution_count": 11,
   "metadata": {},
   "outputs": [],
   "source": [
    "# fig = go.Figure()\n",
    "# for col in tcn_d3_dist_ts.keys():\n",
    "#     box_data = tcn_d3_dist_ts[col]\n",
    "#     fig.add_trace(go.Box(y=box_data, name = col))\n",
    "# fig.update_xaxes(title = 'Time series')\n",
    "# fig.update_yaxes(title = 'MASE distribution')\n",
    "# fig.update_layout(title = \"Dilated Convolutions (Rate - 3)\", showlegend= False)"
   ]
  },
  {
   "cell_type": "markdown",
   "metadata": {},
   "source": [
    "## Errors at each level"
   ]
  },
  {
   "cell_type": "code",
   "execution_count": 10,
   "metadata": {},
   "outputs": [],
   "source": [
    "def get_fc_each_level(start, end, mase_dict):\n",
    "    if end == -1:\n",
    "        ts_names = const.TS[start: ]\n",
    "    else:\n",
    "        ts_names = const.TS[start: end]\n",
    "    mase_vals= []\n",
    "    for ts in ts_names: \n",
    "        mase_vals.append(mase_dict[ts])\n",
    "    avg_mase = np.mean(mase_vals)\n",
    "    return avg_mase"
   ]
  },
  {
   "cell_type": "code",
   "execution_count": 11,
   "metadata": {},
   "outputs": [],
   "source": [
    "def get_fc_error_level_model(model_mase_dic):\n",
    "    level_mase = []\n",
    "    grid = get_fc_each_level(0, 1, model_mase_dic)\n",
    "    tl_line = get_fc_each_level(1, 3, model_mase_dic)\n",
    "    sub = get_fc_each_level(3, 7, model_mase_dic)\n",
    "    pc = get_fc_each_level(7, 13, model_mase_dic)\n",
    "    site = get_fc_each_level(13, -1, model_mase_dic)\n",
    "    level_mase.append(grid)\n",
    "    level_mase.append(tl_line)\n",
    "    level_mase.append(sub)\n",
    "    level_mase.append(pc)\n",
    "    level_mase.append(site)\n",
    "    return level_mase"
   ]
  },
  {
   "cell_type": "code",
   "execution_count": 12,
   "metadata": {},
   "outputs": [],
   "source": [
    "level_results_lstm = get_fc_error_level_model(lstm_dist_ts)"
   ]
  },
  {
   "cell_type": "code",
   "execution_count": 13,
   "metadata": {},
   "outputs": [
    {
     "data": {
      "text/plain": [
       "[1.4682344822944209,\n",
       " 1.2524748102053058,\n",
       " 1.0567580454460388,\n",
       " 0.8120909452654899,\n",
       " 0.850674400686877]"
      ]
     },
     "execution_count": 13,
     "metadata": {},
     "output_type": "execute_result"
    }
   ],
   "source": [
    "level_results_lstm"
   ]
  },
  {
   "cell_type": "code",
   "execution_count": 14,
   "metadata": {},
   "outputs": [],
   "source": [
    "level_results_tcn = get_fc_error_level_model(tcn_dist_ts)"
   ]
  },
  {
   "cell_type": "code",
   "execution_count": 16,
   "metadata": {},
   "outputs": [],
   "source": [
    "level_results_tcn2 = get_fc_error_level_model(tcn2_dist_ts)"
   ]
  },
  {
   "cell_type": "code",
   "execution_count": 17,
   "metadata": {},
   "outputs": [
    {
     "data": {
      "application/vnd.plotly.v1+json": {
       "config": {
        "plotlyServerURL": "https://plot.ly"
       },
       "data": [
        {
         "name": "LSTM",
         "type": "bar",
         "x": [
          "Grid",
          "Transmission",
          "Substation",
          "PostCode",
          "Site"
         ],
         "y": [
          1.4682344822944209,
          1.2524748102053058,
          1.0567580454460388,
          0.8120909452654899,
          0.850674400686877
         ]
        },
        {
         "name": "Convolutions",
         "type": "bar",
         "x": [
          "Grid",
          "Transmission",
          "Substation",
          "PostCode",
          "Site"
         ],
         "y": [
          1.150048520316878,
          1.0928126119537553,
          1.0181486331288743,
          1.2988354737988668,
          1.2864611839710594
         ]
        },
        {
         "name": "Convolutions-F64",
         "type": "bar",
         "x": [
          "Grid",
          "Transmission",
          "Substation",
          "PostCode",
          "Site"
         ],
         "y": [
          1.1519216428468821,
          1.096759038036978,
          1.0176252208974212,
          1.3112067269460823,
          1.2963006438374491
         ]
        }
       ],
       "layout": {
        "barmode": "group",
        "template": {
         "data": {
          "bar": [
           {
            "error_x": {
             "color": "#2a3f5f"
            },
            "error_y": {
             "color": "#2a3f5f"
            },
            "marker": {
             "line": {
              "color": "#E5ECF6",
              "width": 0.5
             }
            },
            "type": "bar"
           }
          ],
          "barpolar": [
           {
            "marker": {
             "line": {
              "color": "#E5ECF6",
              "width": 0.5
             }
            },
            "type": "barpolar"
           }
          ],
          "carpet": [
           {
            "aaxis": {
             "endlinecolor": "#2a3f5f",
             "gridcolor": "white",
             "linecolor": "white",
             "minorgridcolor": "white",
             "startlinecolor": "#2a3f5f"
            },
            "baxis": {
             "endlinecolor": "#2a3f5f",
             "gridcolor": "white",
             "linecolor": "white",
             "minorgridcolor": "white",
             "startlinecolor": "#2a3f5f"
            },
            "type": "carpet"
           }
          ],
          "choropleth": [
           {
            "colorbar": {
             "outlinewidth": 0,
             "ticks": ""
            },
            "type": "choropleth"
           }
          ],
          "contour": [
           {
            "colorbar": {
             "outlinewidth": 0,
             "ticks": ""
            },
            "colorscale": [
             [
              0,
              "#0d0887"
             ],
             [
              0.1111111111111111,
              "#46039f"
             ],
             [
              0.2222222222222222,
              "#7201a8"
             ],
             [
              0.3333333333333333,
              "#9c179e"
             ],
             [
              0.4444444444444444,
              "#bd3786"
             ],
             [
              0.5555555555555556,
              "#d8576b"
             ],
             [
              0.6666666666666666,
              "#ed7953"
             ],
             [
              0.7777777777777778,
              "#fb9f3a"
             ],
             [
              0.8888888888888888,
              "#fdca26"
             ],
             [
              1,
              "#f0f921"
             ]
            ],
            "type": "contour"
           }
          ],
          "contourcarpet": [
           {
            "colorbar": {
             "outlinewidth": 0,
             "ticks": ""
            },
            "type": "contourcarpet"
           }
          ],
          "heatmap": [
           {
            "colorbar": {
             "outlinewidth": 0,
             "ticks": ""
            },
            "colorscale": [
             [
              0,
              "#0d0887"
             ],
             [
              0.1111111111111111,
              "#46039f"
             ],
             [
              0.2222222222222222,
              "#7201a8"
             ],
             [
              0.3333333333333333,
              "#9c179e"
             ],
             [
              0.4444444444444444,
              "#bd3786"
             ],
             [
              0.5555555555555556,
              "#d8576b"
             ],
             [
              0.6666666666666666,
              "#ed7953"
             ],
             [
              0.7777777777777778,
              "#fb9f3a"
             ],
             [
              0.8888888888888888,
              "#fdca26"
             ],
             [
              1,
              "#f0f921"
             ]
            ],
            "type": "heatmap"
           }
          ],
          "heatmapgl": [
           {
            "colorbar": {
             "outlinewidth": 0,
             "ticks": ""
            },
            "colorscale": [
             [
              0,
              "#0d0887"
             ],
             [
              0.1111111111111111,
              "#46039f"
             ],
             [
              0.2222222222222222,
              "#7201a8"
             ],
             [
              0.3333333333333333,
              "#9c179e"
             ],
             [
              0.4444444444444444,
              "#bd3786"
             ],
             [
              0.5555555555555556,
              "#d8576b"
             ],
             [
              0.6666666666666666,
              "#ed7953"
             ],
             [
              0.7777777777777778,
              "#fb9f3a"
             ],
             [
              0.8888888888888888,
              "#fdca26"
             ],
             [
              1,
              "#f0f921"
             ]
            ],
            "type": "heatmapgl"
           }
          ],
          "histogram": [
           {
            "marker": {
             "colorbar": {
              "outlinewidth": 0,
              "ticks": ""
             }
            },
            "type": "histogram"
           }
          ],
          "histogram2d": [
           {
            "colorbar": {
             "outlinewidth": 0,
             "ticks": ""
            },
            "colorscale": [
             [
              0,
              "#0d0887"
             ],
             [
              0.1111111111111111,
              "#46039f"
             ],
             [
              0.2222222222222222,
              "#7201a8"
             ],
             [
              0.3333333333333333,
              "#9c179e"
             ],
             [
              0.4444444444444444,
              "#bd3786"
             ],
             [
              0.5555555555555556,
              "#d8576b"
             ],
             [
              0.6666666666666666,
              "#ed7953"
             ],
             [
              0.7777777777777778,
              "#fb9f3a"
             ],
             [
              0.8888888888888888,
              "#fdca26"
             ],
             [
              1,
              "#f0f921"
             ]
            ],
            "type": "histogram2d"
           }
          ],
          "histogram2dcontour": [
           {
            "colorbar": {
             "outlinewidth": 0,
             "ticks": ""
            },
            "colorscale": [
             [
              0,
              "#0d0887"
             ],
             [
              0.1111111111111111,
              "#46039f"
             ],
             [
              0.2222222222222222,
              "#7201a8"
             ],
             [
              0.3333333333333333,
              "#9c179e"
             ],
             [
              0.4444444444444444,
              "#bd3786"
             ],
             [
              0.5555555555555556,
              "#d8576b"
             ],
             [
              0.6666666666666666,
              "#ed7953"
             ],
             [
              0.7777777777777778,
              "#fb9f3a"
             ],
             [
              0.8888888888888888,
              "#fdca26"
             ],
             [
              1,
              "#f0f921"
             ]
            ],
            "type": "histogram2dcontour"
           }
          ],
          "mesh3d": [
           {
            "colorbar": {
             "outlinewidth": 0,
             "ticks": ""
            },
            "type": "mesh3d"
           }
          ],
          "parcoords": [
           {
            "line": {
             "colorbar": {
              "outlinewidth": 0,
              "ticks": ""
             }
            },
            "type": "parcoords"
           }
          ],
          "pie": [
           {
            "automargin": true,
            "type": "pie"
           }
          ],
          "scatter": [
           {
            "marker": {
             "colorbar": {
              "outlinewidth": 0,
              "ticks": ""
             }
            },
            "type": "scatter"
           }
          ],
          "scatter3d": [
           {
            "line": {
             "colorbar": {
              "outlinewidth": 0,
              "ticks": ""
             }
            },
            "marker": {
             "colorbar": {
              "outlinewidth": 0,
              "ticks": ""
             }
            },
            "type": "scatter3d"
           }
          ],
          "scattercarpet": [
           {
            "marker": {
             "colorbar": {
              "outlinewidth": 0,
              "ticks": ""
             }
            },
            "type": "scattercarpet"
           }
          ],
          "scattergeo": [
           {
            "marker": {
             "colorbar": {
              "outlinewidth": 0,
              "ticks": ""
             }
            },
            "type": "scattergeo"
           }
          ],
          "scattergl": [
           {
            "marker": {
             "colorbar": {
              "outlinewidth": 0,
              "ticks": ""
             }
            },
            "type": "scattergl"
           }
          ],
          "scattermapbox": [
           {
            "marker": {
             "colorbar": {
              "outlinewidth": 0,
              "ticks": ""
             }
            },
            "type": "scattermapbox"
           }
          ],
          "scatterpolar": [
           {
            "marker": {
             "colorbar": {
              "outlinewidth": 0,
              "ticks": ""
             }
            },
            "type": "scatterpolar"
           }
          ],
          "scatterpolargl": [
           {
            "marker": {
             "colorbar": {
              "outlinewidth": 0,
              "ticks": ""
             }
            },
            "type": "scatterpolargl"
           }
          ],
          "scatterternary": [
           {
            "marker": {
             "colorbar": {
              "outlinewidth": 0,
              "ticks": ""
             }
            },
            "type": "scatterternary"
           }
          ],
          "surface": [
           {
            "colorbar": {
             "outlinewidth": 0,
             "ticks": ""
            },
            "colorscale": [
             [
              0,
              "#0d0887"
             ],
             [
              0.1111111111111111,
              "#46039f"
             ],
             [
              0.2222222222222222,
              "#7201a8"
             ],
             [
              0.3333333333333333,
              "#9c179e"
             ],
             [
              0.4444444444444444,
              "#bd3786"
             ],
             [
              0.5555555555555556,
              "#d8576b"
             ],
             [
              0.6666666666666666,
              "#ed7953"
             ],
             [
              0.7777777777777778,
              "#fb9f3a"
             ],
             [
              0.8888888888888888,
              "#fdca26"
             ],
             [
              1,
              "#f0f921"
             ]
            ],
            "type": "surface"
           }
          ],
          "table": [
           {
            "cells": {
             "fill": {
              "color": "#EBF0F8"
             },
             "line": {
              "color": "white"
             }
            },
            "header": {
             "fill": {
              "color": "#C8D4E3"
             },
             "line": {
              "color": "white"
             }
            },
            "type": "table"
           }
          ]
         },
         "layout": {
          "annotationdefaults": {
           "arrowcolor": "#2a3f5f",
           "arrowhead": 0,
           "arrowwidth": 1
          },
          "autotypenumbers": "strict",
          "coloraxis": {
           "colorbar": {
            "outlinewidth": 0,
            "ticks": ""
           }
          },
          "colorscale": {
           "diverging": [
            [
             0,
             "#8e0152"
            ],
            [
             0.1,
             "#c51b7d"
            ],
            [
             0.2,
             "#de77ae"
            ],
            [
             0.3,
             "#f1b6da"
            ],
            [
             0.4,
             "#fde0ef"
            ],
            [
             0.5,
             "#f7f7f7"
            ],
            [
             0.6,
             "#e6f5d0"
            ],
            [
             0.7,
             "#b8e186"
            ],
            [
             0.8,
             "#7fbc41"
            ],
            [
             0.9,
             "#4d9221"
            ],
            [
             1,
             "#276419"
            ]
           ],
           "sequential": [
            [
             0,
             "#0d0887"
            ],
            [
             0.1111111111111111,
             "#46039f"
            ],
            [
             0.2222222222222222,
             "#7201a8"
            ],
            [
             0.3333333333333333,
             "#9c179e"
            ],
            [
             0.4444444444444444,
             "#bd3786"
            ],
            [
             0.5555555555555556,
             "#d8576b"
            ],
            [
             0.6666666666666666,
             "#ed7953"
            ],
            [
             0.7777777777777778,
             "#fb9f3a"
            ],
            [
             0.8888888888888888,
             "#fdca26"
            ],
            [
             1,
             "#f0f921"
            ]
           ],
           "sequentialminus": [
            [
             0,
             "#0d0887"
            ],
            [
             0.1111111111111111,
             "#46039f"
            ],
            [
             0.2222222222222222,
             "#7201a8"
            ],
            [
             0.3333333333333333,
             "#9c179e"
            ],
            [
             0.4444444444444444,
             "#bd3786"
            ],
            [
             0.5555555555555556,
             "#d8576b"
            ],
            [
             0.6666666666666666,
             "#ed7953"
            ],
            [
             0.7777777777777778,
             "#fb9f3a"
            ],
            [
             0.8888888888888888,
             "#fdca26"
            ],
            [
             1,
             "#f0f921"
            ]
           ]
          },
          "colorway": [
           "#636efa",
           "#EF553B",
           "#00cc96",
           "#ab63fa",
           "#FFA15A",
           "#19d3f3",
           "#FF6692",
           "#B6E880",
           "#FF97FF",
           "#FECB52"
          ],
          "font": {
           "color": "#2a3f5f"
          },
          "geo": {
           "bgcolor": "white",
           "lakecolor": "white",
           "landcolor": "#E5ECF6",
           "showlakes": true,
           "showland": true,
           "subunitcolor": "white"
          },
          "hoverlabel": {
           "align": "left"
          },
          "hovermode": "closest",
          "mapbox": {
           "style": "light"
          },
          "paper_bgcolor": "white",
          "plot_bgcolor": "#E5ECF6",
          "polar": {
           "angularaxis": {
            "gridcolor": "white",
            "linecolor": "white",
            "ticks": ""
           },
           "bgcolor": "#E5ECF6",
           "radialaxis": {
            "gridcolor": "white",
            "linecolor": "white",
            "ticks": ""
           }
          },
          "scene": {
           "xaxis": {
            "backgroundcolor": "#E5ECF6",
            "gridcolor": "white",
            "gridwidth": 2,
            "linecolor": "white",
            "showbackground": true,
            "ticks": "",
            "zerolinecolor": "white"
           },
           "yaxis": {
            "backgroundcolor": "#E5ECF6",
            "gridcolor": "white",
            "gridwidth": 2,
            "linecolor": "white",
            "showbackground": true,
            "ticks": "",
            "zerolinecolor": "white"
           },
           "zaxis": {
            "backgroundcolor": "#E5ECF6",
            "gridcolor": "white",
            "gridwidth": 2,
            "linecolor": "white",
            "showbackground": true,
            "ticks": "",
            "zerolinecolor": "white"
           }
          },
          "shapedefaults": {
           "line": {
            "color": "#2a3f5f"
           }
          },
          "ternary": {
           "aaxis": {
            "gridcolor": "white",
            "linecolor": "white",
            "ticks": ""
           },
           "baxis": {
            "gridcolor": "white",
            "linecolor": "white",
            "ticks": ""
           },
           "bgcolor": "#E5ECF6",
           "caxis": {
            "gridcolor": "white",
            "linecolor": "white",
            "ticks": ""
           }
          },
          "title": {
           "x": 0.05
          },
          "xaxis": {
           "automargin": true,
           "gridcolor": "white",
           "linecolor": "white",
           "ticks": "",
           "title": {
            "standoff": 15
           },
           "zerolinecolor": "white",
           "zerolinewidth": 2
          },
          "yaxis": {
           "automargin": true,
           "gridcolor": "white",
           "linecolor": "white",
           "ticks": "",
           "title": {
            "standoff": 15
           },
           "zerolinecolor": "white",
           "zerolinewidth": 2
          }
         }
        },
        "title": {
         "text": "Average MASE at each level in the time series hierarchy"
        }
       }
      },
      "text/html": [
       "<div>                            <div id=\"cd564738-9a2f-46e1-94d4-4bf504793474\" class=\"plotly-graph-div\" style=\"height:525px; width:100%;\"></div>            <script type=\"text/javascript\">                require([\"plotly\"], function(Plotly) {                    window.PLOTLYENV=window.PLOTLYENV || {};                                    if (document.getElementById(\"cd564738-9a2f-46e1-94d4-4bf504793474\")) {                    Plotly.newPlot(                        \"cd564738-9a2f-46e1-94d4-4bf504793474\",                        [{\"name\": \"LSTM\", \"type\": \"bar\", \"x\": [\"Grid\", \"Transmission\", \"Substation\", \"PostCode\", \"Site\"], \"y\": [1.4682344822944209, 1.2524748102053058, 1.0567580454460388, 0.8120909452654899, 0.850674400686877]}, {\"name\": \"Convolutions\", \"type\": \"bar\", \"x\": [\"Grid\", \"Transmission\", \"Substation\", \"PostCode\", \"Site\"], \"y\": [1.150048520316878, 1.0928126119537553, 1.0181486331288743, 1.2988354737988668, 1.2864611839710594]}, {\"name\": \"Convolutions-F64\", \"type\": \"bar\", \"x\": [\"Grid\", \"Transmission\", \"Substation\", \"PostCode\", \"Site\"], \"y\": [1.1519216428468821, 1.096759038036978, 1.0176252208974212, 1.3112067269460823, 1.2963006438374491]}],                        {\"barmode\": \"group\", \"template\": {\"data\": {\"bar\": [{\"error_x\": {\"color\": \"#2a3f5f\"}, \"error_y\": {\"color\": \"#2a3f5f\"}, \"marker\": {\"line\": {\"color\": \"#E5ECF6\", \"width\": 0.5}}, \"type\": \"bar\"}], \"barpolar\": [{\"marker\": {\"line\": {\"color\": \"#E5ECF6\", \"width\": 0.5}}, \"type\": \"barpolar\"}], \"carpet\": [{\"aaxis\": {\"endlinecolor\": \"#2a3f5f\", \"gridcolor\": \"white\", \"linecolor\": \"white\", \"minorgridcolor\": \"white\", \"startlinecolor\": \"#2a3f5f\"}, \"baxis\": {\"endlinecolor\": \"#2a3f5f\", \"gridcolor\": \"white\", \"linecolor\": \"white\", \"minorgridcolor\": \"white\", \"startlinecolor\": \"#2a3f5f\"}, \"type\": \"carpet\"}], \"choropleth\": [{\"colorbar\": {\"outlinewidth\": 0, \"ticks\": \"\"}, \"type\": \"choropleth\"}], \"contour\": [{\"colorbar\": {\"outlinewidth\": 0, \"ticks\": \"\"}, \"colorscale\": [[0.0, \"#0d0887\"], [0.1111111111111111, \"#46039f\"], [0.2222222222222222, \"#7201a8\"], [0.3333333333333333, \"#9c179e\"], [0.4444444444444444, \"#bd3786\"], [0.5555555555555556, \"#d8576b\"], [0.6666666666666666, \"#ed7953\"], [0.7777777777777778, \"#fb9f3a\"], [0.8888888888888888, \"#fdca26\"], [1.0, \"#f0f921\"]], \"type\": \"contour\"}], \"contourcarpet\": [{\"colorbar\": {\"outlinewidth\": 0, \"ticks\": \"\"}, \"type\": \"contourcarpet\"}], \"heatmap\": [{\"colorbar\": {\"outlinewidth\": 0, \"ticks\": \"\"}, \"colorscale\": [[0.0, \"#0d0887\"], [0.1111111111111111, \"#46039f\"], [0.2222222222222222, \"#7201a8\"], [0.3333333333333333, \"#9c179e\"], [0.4444444444444444, \"#bd3786\"], [0.5555555555555556, \"#d8576b\"], [0.6666666666666666, \"#ed7953\"], [0.7777777777777778, \"#fb9f3a\"], [0.8888888888888888, \"#fdca26\"], [1.0, \"#f0f921\"]], \"type\": \"heatmap\"}], \"heatmapgl\": [{\"colorbar\": {\"outlinewidth\": 0, \"ticks\": \"\"}, \"colorscale\": [[0.0, \"#0d0887\"], [0.1111111111111111, \"#46039f\"], [0.2222222222222222, \"#7201a8\"], [0.3333333333333333, \"#9c179e\"], [0.4444444444444444, \"#bd3786\"], [0.5555555555555556, \"#d8576b\"], [0.6666666666666666, \"#ed7953\"], [0.7777777777777778, \"#fb9f3a\"], [0.8888888888888888, \"#fdca26\"], [1.0, \"#f0f921\"]], \"type\": \"heatmapgl\"}], \"histogram\": [{\"marker\": {\"colorbar\": {\"outlinewidth\": 0, \"ticks\": \"\"}}, \"type\": \"histogram\"}], \"histogram2d\": [{\"colorbar\": {\"outlinewidth\": 0, \"ticks\": \"\"}, \"colorscale\": [[0.0, \"#0d0887\"], [0.1111111111111111, \"#46039f\"], [0.2222222222222222, \"#7201a8\"], [0.3333333333333333, \"#9c179e\"], [0.4444444444444444, \"#bd3786\"], [0.5555555555555556, \"#d8576b\"], [0.6666666666666666, \"#ed7953\"], [0.7777777777777778, \"#fb9f3a\"], [0.8888888888888888, \"#fdca26\"], [1.0, \"#f0f921\"]], \"type\": \"histogram2d\"}], \"histogram2dcontour\": [{\"colorbar\": {\"outlinewidth\": 0, \"ticks\": \"\"}, \"colorscale\": [[0.0, \"#0d0887\"], [0.1111111111111111, \"#46039f\"], [0.2222222222222222, \"#7201a8\"], [0.3333333333333333, \"#9c179e\"], [0.4444444444444444, \"#bd3786\"], [0.5555555555555556, \"#d8576b\"], [0.6666666666666666, \"#ed7953\"], [0.7777777777777778, \"#fb9f3a\"], [0.8888888888888888, \"#fdca26\"], [1.0, \"#f0f921\"]], \"type\": \"histogram2dcontour\"}], \"mesh3d\": [{\"colorbar\": {\"outlinewidth\": 0, \"ticks\": \"\"}, \"type\": \"mesh3d\"}], \"parcoords\": [{\"line\": {\"colorbar\": {\"outlinewidth\": 0, \"ticks\": \"\"}}, \"type\": \"parcoords\"}], \"pie\": [{\"automargin\": true, \"type\": \"pie\"}], \"scatter\": [{\"marker\": {\"colorbar\": {\"outlinewidth\": 0, \"ticks\": \"\"}}, \"type\": \"scatter\"}], \"scatter3d\": [{\"line\": {\"colorbar\": {\"outlinewidth\": 0, \"ticks\": \"\"}}, \"marker\": {\"colorbar\": {\"outlinewidth\": 0, \"ticks\": \"\"}}, \"type\": \"scatter3d\"}], \"scattercarpet\": [{\"marker\": {\"colorbar\": {\"outlinewidth\": 0, \"ticks\": \"\"}}, \"type\": \"scattercarpet\"}], \"scattergeo\": [{\"marker\": {\"colorbar\": {\"outlinewidth\": 0, \"ticks\": \"\"}}, \"type\": \"scattergeo\"}], \"scattergl\": [{\"marker\": {\"colorbar\": {\"outlinewidth\": 0, \"ticks\": \"\"}}, \"type\": \"scattergl\"}], \"scattermapbox\": [{\"marker\": {\"colorbar\": {\"outlinewidth\": 0, \"ticks\": \"\"}}, \"type\": \"scattermapbox\"}], \"scatterpolar\": [{\"marker\": {\"colorbar\": {\"outlinewidth\": 0, \"ticks\": \"\"}}, \"type\": \"scatterpolar\"}], \"scatterpolargl\": [{\"marker\": {\"colorbar\": {\"outlinewidth\": 0, \"ticks\": \"\"}}, \"type\": \"scatterpolargl\"}], \"scatterternary\": [{\"marker\": {\"colorbar\": {\"outlinewidth\": 0, \"ticks\": \"\"}}, \"type\": \"scatterternary\"}], \"surface\": [{\"colorbar\": {\"outlinewidth\": 0, \"ticks\": \"\"}, \"colorscale\": [[0.0, \"#0d0887\"], [0.1111111111111111, \"#46039f\"], [0.2222222222222222, \"#7201a8\"], [0.3333333333333333, \"#9c179e\"], [0.4444444444444444, \"#bd3786\"], [0.5555555555555556, \"#d8576b\"], [0.6666666666666666, \"#ed7953\"], [0.7777777777777778, \"#fb9f3a\"], [0.8888888888888888, \"#fdca26\"], [1.0, \"#f0f921\"]], \"type\": \"surface\"}], \"table\": [{\"cells\": {\"fill\": {\"color\": \"#EBF0F8\"}, \"line\": {\"color\": \"white\"}}, \"header\": {\"fill\": {\"color\": \"#C8D4E3\"}, \"line\": {\"color\": \"white\"}}, \"type\": \"table\"}]}, \"layout\": {\"annotationdefaults\": {\"arrowcolor\": \"#2a3f5f\", \"arrowhead\": 0, \"arrowwidth\": 1}, \"autotypenumbers\": \"strict\", \"coloraxis\": {\"colorbar\": {\"outlinewidth\": 0, \"ticks\": \"\"}}, \"colorscale\": {\"diverging\": [[0, \"#8e0152\"], [0.1, \"#c51b7d\"], [0.2, \"#de77ae\"], [0.3, \"#f1b6da\"], [0.4, \"#fde0ef\"], [0.5, \"#f7f7f7\"], [0.6, \"#e6f5d0\"], [0.7, \"#b8e186\"], [0.8, \"#7fbc41\"], [0.9, \"#4d9221\"], [1, \"#276419\"]], \"sequential\": [[0.0, \"#0d0887\"], [0.1111111111111111, \"#46039f\"], [0.2222222222222222, \"#7201a8\"], [0.3333333333333333, \"#9c179e\"], [0.4444444444444444, \"#bd3786\"], [0.5555555555555556, \"#d8576b\"], [0.6666666666666666, \"#ed7953\"], [0.7777777777777778, \"#fb9f3a\"], [0.8888888888888888, \"#fdca26\"], [1.0, \"#f0f921\"]], \"sequentialminus\": [[0.0, \"#0d0887\"], [0.1111111111111111, \"#46039f\"], [0.2222222222222222, \"#7201a8\"], [0.3333333333333333, \"#9c179e\"], [0.4444444444444444, \"#bd3786\"], [0.5555555555555556, \"#d8576b\"], [0.6666666666666666, \"#ed7953\"], [0.7777777777777778, \"#fb9f3a\"], [0.8888888888888888, \"#fdca26\"], [1.0, \"#f0f921\"]]}, \"colorway\": [\"#636efa\", \"#EF553B\", \"#00cc96\", \"#ab63fa\", \"#FFA15A\", \"#19d3f3\", \"#FF6692\", \"#B6E880\", \"#FF97FF\", \"#FECB52\"], \"font\": {\"color\": \"#2a3f5f\"}, \"geo\": {\"bgcolor\": \"white\", \"lakecolor\": \"white\", \"landcolor\": \"#E5ECF6\", \"showlakes\": true, \"showland\": true, \"subunitcolor\": \"white\"}, \"hoverlabel\": {\"align\": \"left\"}, \"hovermode\": \"closest\", \"mapbox\": {\"style\": \"light\"}, \"paper_bgcolor\": \"white\", \"plot_bgcolor\": \"#E5ECF6\", \"polar\": {\"angularaxis\": {\"gridcolor\": \"white\", \"linecolor\": \"white\", \"ticks\": \"\"}, \"bgcolor\": \"#E5ECF6\", \"radialaxis\": {\"gridcolor\": \"white\", \"linecolor\": \"white\", \"ticks\": \"\"}}, \"scene\": {\"xaxis\": {\"backgroundcolor\": \"#E5ECF6\", \"gridcolor\": \"white\", \"gridwidth\": 2, \"linecolor\": \"white\", \"showbackground\": true, \"ticks\": \"\", \"zerolinecolor\": \"white\"}, \"yaxis\": {\"backgroundcolor\": \"#E5ECF6\", \"gridcolor\": \"white\", \"gridwidth\": 2, \"linecolor\": \"white\", \"showbackground\": true, \"ticks\": \"\", \"zerolinecolor\": \"white\"}, \"zaxis\": {\"backgroundcolor\": \"#E5ECF6\", \"gridcolor\": \"white\", \"gridwidth\": 2, \"linecolor\": \"white\", \"showbackground\": true, \"ticks\": \"\", \"zerolinecolor\": \"white\"}}, \"shapedefaults\": {\"line\": {\"color\": \"#2a3f5f\"}}, \"ternary\": {\"aaxis\": {\"gridcolor\": \"white\", \"linecolor\": \"white\", \"ticks\": \"\"}, \"baxis\": {\"gridcolor\": \"white\", \"linecolor\": \"white\", \"ticks\": \"\"}, \"bgcolor\": \"#E5ECF6\", \"caxis\": {\"gridcolor\": \"white\", \"linecolor\": \"white\", \"ticks\": \"\"}}, \"title\": {\"x\": 0.05}, \"xaxis\": {\"automargin\": true, \"gridcolor\": \"white\", \"linecolor\": \"white\", \"ticks\": \"\", \"title\": {\"standoff\": 15}, \"zerolinecolor\": \"white\", \"zerolinewidth\": 2}, \"yaxis\": {\"automargin\": true, \"gridcolor\": \"white\", \"linecolor\": \"white\", \"ticks\": \"\", \"title\": {\"standoff\": 15}, \"zerolinecolor\": \"white\", \"zerolinewidth\": 2}}}, \"title\": {\"text\": \"Average MASE at each level in the time series hierarchy\"}},                        {\"responsive\": true}                    ).then(function(){\n",
       "                            \n",
       "var gd = document.getElementById('cd564738-9a2f-46e1-94d4-4bf504793474');\n",
       "var x = new MutationObserver(function (mutations, observer) {{\n",
       "        var display = window.getComputedStyle(gd).display;\n",
       "        if (!display || display === 'none') {{\n",
       "            console.log([gd, 'removed!']);\n",
       "            Plotly.purge(gd);\n",
       "            observer.disconnect();\n",
       "        }}\n",
       "}});\n",
       "\n",
       "// Listen for the removal of the full notebook cells\n",
       "var notebookContainer = gd.closest('#notebook-container');\n",
       "if (notebookContainer) {{\n",
       "    x.observe(notebookContainer, {childList: true});\n",
       "}}\n",
       "\n",
       "// Listen for the clearing of the current output cell\n",
       "var outputEl = gd.closest('.output');\n",
       "if (outputEl) {{\n",
       "    x.observe(outputEl, {childList: true});\n",
       "}}\n",
       "\n",
       "                        })                };                });            </script>        </div>"
      ]
     },
     "metadata": {},
     "output_type": "display_data"
    }
   ],
   "source": [
    "x_vals = ['Grid', 'Transmission', 'Substation', 'PostCode', 'Site']\n",
    "fig = go.Figure(data=[\n",
    "    go.Bar(name='LSTM', x=x_vals, y=level_results_lstm),\n",
    "    go.Bar(name='Convolutions', x=x_vals, y=level_results_tcn),\n",
    "    go.Bar(name='Convolutions-F64', x=x_vals, y=level_results_tcn2)\n",
    "])\n",
    "# Change the bar mode\n",
    "fig.update_layout(barmode='group')\n",
    "fig.update_layout(title='Average MASE at each level in the time series hierarchy')\n",
    "fig.show()"
   ]
  },
  {
   "cell_type": "markdown",
   "metadata": {},
   "source": [
    "## Grid level Forecasts"
   ]
  },
  {
   "cell_type": "code",
   "execution_count": 7,
   "metadata": {},
   "outputs": [],
   "source": [
    "def sum_fc_results(ts_array, model_path):\n",
    "    dfs = []\n",
    "    for ts in ts_array:\n",
    "        ts_fc = pd.read_csv(f'../{model_path}/final_results/{ts}.csv', index_col=[0])[['average_fc']]\n",
    "        dfs.append(ts_fc)\n",
    "    concat_df = pd.concat(dfs, axis=1).sum(axis=1)\n",
    "    return concat_df"
   ]
  },
  {
   "cell_type": "code",
   "execution_count": 8,
   "metadata": {},
   "outputs": [],
   "source": [
    "def calculate_grid_error(start, end, model_path, error_metric):\n",
    "    if end == -1:\n",
    "        ts_array = const.TS[start: ]\n",
    "    else:\n",
    "        ts_array = const.TS[start: end]\n",
    "    data = pd.read_csv(f'../ts_data/grid.csv', index_col=[0])\n",
    "    look_back = 14 * 7  # 14 hours in to 7 days\n",
    "\n",
    "    # train, val, test split\n",
    "    train, val, test = util.split_hourly_data(data, look_back)\n",
    "    train_df = train[['power']]\n",
    "    denom = err.calculate_denom(train_df, const.H_SEASONALITY)\n",
    "    \n",
    "    results_df = pd.read_csv(f'../{model_path}/final_results/grid.csv', index_col=[0])\n",
    "    test_sample = results_df['power'].values\n",
    "    forecasts = sum_fc_results(ts_array, model_path).values\n",
    "    horizon = 14\n",
    "    \n",
    "    if error_metric == \"RMSE\":\n",
    "        mean_err, error_dist = err.test_errors_nrmse(train_df.values, test_sample, forecasts, horizon)\n",
    "    else:\n",
    "        mean_err, error_dist = err.test_errors(train_df, test_sample, forecasts, horizon, const.H_SEASONALITY, denom)\n",
    "        \n",
    "    return mean_err, error_dist"
   ]
  },
  {
   "cell_type": "code",
   "execution_count": 9,
   "metadata": {},
   "outputs": [],
   "source": [
    "def mase_grid(model_path, error_metric = \"MASE\"):\n",
    "    level_mase = []\n",
    "    level_mase_dist = {}\n",
    "    grid_mase, grid_dist = calculate_grid_error(0, 1, model_path, error_metric)\n",
    "    tl_mase, tl_dist = calculate_grid_error(1, 3, model_path, error_metric)\n",
    "    sub_mase, sub_dist = calculate_grid_error(3, 7, model_path, error_metric)\n",
    "    pc_mase, pc_dist = calculate_grid_error(7, 13, model_path, error_metric)\n",
    "    site_mase, site_dist = calculate_grid_error(13, -1, model_path, error_metric)\n",
    "    \n",
    "    level_mase.append(grid_mase)\n",
    "    level_mase.append(tl_mase)\n",
    "    level_mase.append(sub_mase)\n",
    "    level_mase.append(pc_mase)\n",
    "    level_mase.append(site_mase)\n",
    "    \n",
    "    \n",
    "    level_mase_dist['grid'] = grid_dist\n",
    "    level_mase_dist['tl'] = tl_dist\n",
    "    level_mase_dist['sub'] = sub_dist\n",
    "    level_mase_dist['pc'] = pc_dist\n",
    "    level_mase_dist['site'] = site_dist\n",
    "    \n",
    "    return level_mase, level_mase_dist"
   ]
  },
  {
   "cell_type": "code",
   "execution_count": 10,
   "metadata": {},
   "outputs": [],
   "source": [
    "grid_error_naive, grid_error_dist_naive = mase_grid('benchmark_results/naive')"
   ]
  },
  {
   "cell_type": "code",
   "execution_count": 11,
   "metadata": {},
   "outputs": [
    {
     "data": {
      "text/plain": [
       "[1.079391787981905,\n",
       " 1.079391787981905,\n",
       " 1.079391787981905,\n",
       " 1.079391787981905,\n",
       " 1.079391787981905]"
      ]
     },
     "execution_count": 11,
     "metadata": {},
     "output_type": "execute_result"
    }
   ],
   "source": [
    "grid_error_naive"
   ]
  },
  {
   "cell_type": "code",
   "execution_count": 12,
   "metadata": {},
   "outputs": [],
   "source": [
    "grid_error_naive_rmse, grid_error_dist_naive_rmse = mase_grid('benchmark_results/naive', \"RMSE\")"
   ]
  },
  {
   "cell_type": "code",
   "execution_count": 13,
   "metadata": {},
   "outputs": [
    {
     "data": {
      "text/plain": [
       "[0.3965041238428431,\n",
       " 0.3965041238428431,\n",
       " 0.3965041238428431,\n",
       " 0.39650412384284306,\n",
       " 0.39650412384284306]"
      ]
     },
     "execution_count": 13,
     "metadata": {},
     "output_type": "execute_result"
    }
   ],
   "source": [
    "grid_error_naive_rmse"
   ]
  },
  {
   "cell_type": "code",
   "execution_count": 14,
   "metadata": {},
   "outputs": [],
   "source": [
    "grid_error_arima, grid_error_dist_arima = mase_grid('benchmark_results/arima')"
   ]
  },
  {
   "cell_type": "code",
   "execution_count": 15,
   "metadata": {},
   "outputs": [
    {
     "data": {
      "text/plain": [
       "[1.0542174171354002,\n",
       " 1.023268311933142,\n",
       " 1.024157068352861,\n",
       " 0.929386914423518,\n",
       " 1.0084912706608253]"
      ]
     },
     "execution_count": 15,
     "metadata": {},
     "output_type": "execute_result"
    }
   ],
   "source": [
    "grid_error_arima"
   ]
  },
  {
   "cell_type": "code",
   "execution_count": 18,
   "metadata": {},
   "outputs": [],
   "source": [
    "grid_error_arima_rmse, grid_error_dist_arima_rmse = mase_grid('benchmark_results/arima', \"RMSE\")"
   ]
  },
  {
   "cell_type": "code",
   "execution_count": 19,
   "metadata": {},
   "outputs": [
    {
     "data": {
      "text/plain": [
       "[0.3604885973574808,\n",
       " 0.34673791723819,\n",
       " 0.3472883436134808,\n",
       " 0.31814541816116665,\n",
       " 0.3358448691063564]"
      ]
     },
     "execution_count": 19,
     "metadata": {},
     "output_type": "execute_result"
    }
   ],
   "source": [
    "grid_error_arima_rmse"
   ]
  },
  {
   "cell_type": "code",
   "execution_count": 33,
   "metadata": {},
   "outputs": [
    {
     "data": {
      "text/plain": [
       "0.7443561393233701"
      ]
     },
     "execution_count": 33,
     "metadata": {},
     "output_type": "execute_result"
    }
   ],
   "source": [
    "grid_error_dist_arima_rmse['grid'][14]"
   ]
  },
  {
   "cell_type": "code",
   "execution_count": 34,
   "metadata": {},
   "outputs": [
    {
     "data": {
      "text/plain": [
       "0.8806265803815145"
      ]
     },
     "execution_count": 34,
     "metadata": {},
     "output_type": "execute_result"
    }
   ],
   "source": [
    "grid_error_dist_tbats_rmse['grid'][14]"
   ]
  },
  {
   "cell_type": "code",
   "execution_count": 21,
   "metadata": {},
   "outputs": [],
   "source": [
    "grid_error_tbats, grid_error_dist_tbats = mase_grid('benchmark_results/tbats')"
   ]
  },
  {
   "cell_type": "code",
   "execution_count": 22,
   "metadata": {},
   "outputs": [
    {
     "data": {
      "text/plain": [
       "[1.8748277728587728,\n",
       " 1.7491129158069132,\n",
       " 1.706391431091947,\n",
       " 1.5437416506766872,\n",
       " 1.683218533714503]"
      ]
     },
     "execution_count": 22,
     "metadata": {},
     "output_type": "execute_result"
    }
   ],
   "source": [
    "grid_error_tbats"
   ]
  },
  {
   "cell_type": "code",
   "execution_count": 23,
   "metadata": {},
   "outputs": [],
   "source": [
    "grid_error_tbats_rmse, grid_error_dist_tbats_rmse = mase_grid('benchmark_results/tbats', \"RMSE\")"
   ]
  },
  {
   "cell_type": "code",
   "execution_count": 24,
   "metadata": {},
   "outputs": [
    {
     "data": {
      "text/plain": [
       "[0.568815440036228,\n",
       " 0.5301626039525603,\n",
       " 0.5172115824644526,\n",
       " 0.4796227263138744,\n",
       " 0.512242338766708]"
      ]
     },
     "execution_count": 24,
     "metadata": {},
     "output_type": "execute_result"
    }
   ],
   "source": [
    "grid_error_tbats_rmse"
   ]
  },
  {
   "cell_type": "code",
   "execution_count": 38,
   "metadata": {},
   "outputs": [],
   "source": [
    "grid_error_prophet, grid_error_dist_prophet = mase_grid('benchmark_results/prophet')"
   ]
  },
  {
   "cell_type": "code",
   "execution_count": 39,
   "metadata": {},
   "outputs": [
    {
     "data": {
      "text/plain": [
       "[1.962394493488318,\n",
       " 1.9665700550555816,\n",
       " 1.966532036884485,\n",
       " 1.0803983146720384,\n",
       " 1.0899355671492128]"
      ]
     },
     "execution_count": 39,
     "metadata": {},
     "output_type": "execute_result"
    }
   ],
   "source": [
    "grid_error_prophet"
   ]
  },
  {
   "cell_type": "code",
   "execution_count": 40,
   "metadata": {},
   "outputs": [],
   "source": [
    "grid_error_prophet2, grid_error_dist_prophet2 = mase_grid('benchmark_results/prophet_2')"
   ]
  },
  {
   "cell_type": "code",
   "execution_count": 41,
   "metadata": {},
   "outputs": [
    {
     "data": {
      "text/plain": [
       "[1.9616519408739086,\n",
       " 1.9663323075008177,\n",
       " 1.966214992364306,\n",
       " 1.076739346631657,\n",
       " 1.0865213639116051]"
      ]
     },
     "execution_count": 41,
     "metadata": {},
     "output_type": "execute_result"
    }
   ],
   "source": [
    "grid_error_prophet2"
   ]
  },
  {
   "cell_type": "code",
   "execution_count": 42,
   "metadata": {},
   "outputs": [],
   "source": [
    "grid_error_prophet_rmse, grid_error_dist_prophet_rmse = mase_grid('benchmark_results/prophet', \"RMSE\")"
   ]
  },
  {
   "cell_type": "code",
   "execution_count": 43,
   "metadata": {},
   "outputs": [
    {
     "data": {
      "text/plain": [
       "[0.589810259593252,\n",
       " 0.5913052140865176,\n",
       " 0.591272299547771,\n",
       " 0.3701723039131422,\n",
       " 0.37032535308201564]"
      ]
     },
     "execution_count": 43,
     "metadata": {},
     "output_type": "execute_result"
    }
   ],
   "source": [
    "grid_error_prophet_rmse"
   ]
  },
  {
   "cell_type": "code",
   "execution_count": 44,
   "metadata": {},
   "outputs": [],
   "source": [
    "grid_error_prophet2_rmse, grid_error_dist_prophet2_rmse = mase_grid('benchmark_results/prophet_2', \"RMSE\")"
   ]
  },
  {
   "cell_type": "code",
   "execution_count": 45,
   "metadata": {},
   "outputs": [
    {
     "data": {
      "text/plain": [
       "[0.5894616278192185,\n",
       " 0.5912752348094751,\n",
       " 0.5912942988749715,\n",
       " 0.37368530172319714,\n",
       " 0.3737810116341059]"
      ]
     },
     "execution_count": 45,
     "metadata": {},
     "output_type": "execute_result"
    }
   ],
   "source": [
    "grid_error_prophet2_rmse"
   ]
  },
  {
   "cell_type": "code",
   "execution_count": 55,
   "metadata": {},
   "outputs": [],
   "source": [
    "grid_error, grid_error_dist = mase_grid('lstm_results')"
   ]
  },
  {
   "cell_type": "code",
   "execution_count": 56,
   "metadata": {},
   "outputs": [
    {
     "data": {
      "text/plain": [
       "[1.4682344822944209,\n",
       " 1.4161838663439736,\n",
       " 1.3301243856811835,\n",
       " 1.1232270030823759,\n",
       " 1.0130934871185588]"
      ]
     },
     "execution_count": 56,
     "metadata": {},
     "output_type": "execute_result"
    }
   ],
   "source": [
    "grid_error"
   ]
  },
  {
   "cell_type": "code",
   "execution_count": 48,
   "metadata": {},
   "outputs": [],
   "source": [
    "grid_error_rmse, grid_error_dist_rmse = mase_grid('lstm_results', \"RMSE\")"
   ]
  },
  {
   "cell_type": "code",
   "execution_count": 49,
   "metadata": {},
   "outputs": [],
   "source": [
    "# grid_error_lstm2, grid_error_dist_lstm2 = mase_grid('dnn_results/lstm')"
   ]
  },
  {
   "cell_type": "code",
   "execution_count": 50,
   "metadata": {},
   "outputs": [],
   "source": [
    "# grid_error_lstm2"
   ]
  },
  {
   "cell_type": "code",
   "execution_count": 51,
   "metadata": {},
   "outputs": [],
   "source": [
    "# grid_error_tcn, grid_error_dist_tcn = mase_grid('cnn_results/tcn')\n",
    "\n",
    "grid_error_tcn, grid_error_dist_tcn = mase_grid('cnn_results/tcn_new/dilation_2')"
   ]
  },
  {
   "cell_type": "code",
   "execution_count": 52,
   "metadata": {},
   "outputs": [
    {
     "data": {
      "text/plain": [
       "[1.150048520316878,\n",
       " 1.1694360905458727,\n",
       " 1.1717213662474213,\n",
       " 1.198340986831758,\n",
       " 1.1695815390243385]"
      ]
     },
     "execution_count": 52,
     "metadata": {},
     "output_type": "execute_result"
    }
   ],
   "source": [
    "grid_error_tcn"
   ]
  },
  {
   "cell_type": "code",
   "execution_count": 35,
   "metadata": {},
   "outputs": [],
   "source": [
    "grid_error_tcn_rmse, grid_error_dist_tcn_rmse = mase_grid('cnn_results/tcn_new/dilation_2', \"RMSE\")"
   ]
  },
  {
   "cell_type": "code",
   "execution_count": 36,
   "metadata": {},
   "outputs": [
    {
     "data": {
      "text/plain": [
       "[0.377380092919877,\n",
       " 0.38148387426162045,\n",
       " 0.38206648791517106,\n",
       " 0.39047288944725306,\n",
       " 0.37784276340728884]"
      ]
     },
     "execution_count": 36,
     "metadata": {},
     "output_type": "execute_result"
    }
   ],
   "source": [
    "grid_error_tcn_rmse"
   ]
  },
  {
   "cell_type": "code",
   "execution_count": 57,
   "metadata": {},
   "outputs": [],
   "source": [
    "grid_error_lstm2, grid_error_dist_lstm2 = mase_grid('lstm_results/lstm2')"
   ]
  },
  {
   "cell_type": "code",
   "execution_count": 58,
   "metadata": {},
   "outputs": [],
   "source": [
    "grid_error_lstm2_rmse, grid_error_dist_lstm2_rmse = mase_grid('lstm_results/lstm2', \"RMSE\")"
   ]
  },
  {
   "cell_type": "code",
   "execution_count": 84,
   "metadata": {},
   "outputs": [],
   "source": [
    "# grid_error_tcn"
   ]
  },
  {
   "cell_type": "code",
   "execution_count": 59,
   "metadata": {},
   "outputs": [],
   "source": [
    "def get_df_method(error_list, method):\n",
    "    df = pd.DataFrame(error_list).transpose()\n",
    "    df.columns = ['Grid', 'TL - Aggregated', 'SUB - Aggregated', 'PC - Aggregated', 'Site - Aggregated']\n",
    "    df.index = [method]\n",
    "    return df"
   ]
  },
  {
   "cell_type": "code",
   "execution_count": 60,
   "metadata": {},
   "outputs": [],
   "source": [
    "lstm = get_df_method(grid_error, \"LSTM\")\n",
    "tcn = get_df_method(grid_error_tcn, \"CNN\")\n",
    "arima = get_df_method(grid_error_arima, \"ARIMA\")\n",
    "tbats = get_df_method(grid_error_tbats, \"TBATS\")\n",
    "prophet = get_df_method(grid_error_prophet, \"PROPHET\")\n",
    "naive = get_df_method(grid_error_naive, \"NAIVE\")\n",
    "lstm2 = get_df_method(grid_error_lstm2, \"LSTM-2\")\n",
    "\n",
    "mase_final_results = pd.concat([naive, arima, tbats, prophet, tcn, lstm, lstm2]).round(3)"
   ]
  },
  {
   "cell_type": "code",
   "execution_count": 61,
   "metadata": {},
   "outputs": [
    {
     "data": {
      "text/html": [
       "<div>\n",
       "<style scoped>\n",
       "    .dataframe tbody tr th:only-of-type {\n",
       "        vertical-align: middle;\n",
       "    }\n",
       "\n",
       "    .dataframe tbody tr th {\n",
       "        vertical-align: top;\n",
       "    }\n",
       "\n",
       "    .dataframe thead th {\n",
       "        text-align: right;\n",
       "    }\n",
       "</style>\n",
       "<table border=\"1\" class=\"dataframe\">\n",
       "  <thead>\n",
       "    <tr style=\"text-align: right;\">\n",
       "      <th></th>\n",
       "      <th>Grid</th>\n",
       "      <th>TL - Aggregated</th>\n",
       "      <th>SUB - Aggregated</th>\n",
       "      <th>PC - Aggregated</th>\n",
       "      <th>Site - Aggregated</th>\n",
       "    </tr>\n",
       "  </thead>\n",
       "  <tbody>\n",
       "    <tr>\n",
       "      <th>NAIVE</th>\n",
       "      <td>1.079</td>\n",
       "      <td>1.079</td>\n",
       "      <td>1.079</td>\n",
       "      <td>1.079</td>\n",
       "      <td>1.079</td>\n",
       "    </tr>\n",
       "    <tr>\n",
       "      <th>ARIMA</th>\n",
       "      <td>1.054</td>\n",
       "      <td>1.023</td>\n",
       "      <td>1.024</td>\n",
       "      <td>0.929</td>\n",
       "      <td>1.008</td>\n",
       "    </tr>\n",
       "    <tr>\n",
       "      <th>TBATS</th>\n",
       "      <td>1.875</td>\n",
       "      <td>1.749</td>\n",
       "      <td>1.706</td>\n",
       "      <td>1.544</td>\n",
       "      <td>1.683</td>\n",
       "    </tr>\n",
       "    <tr>\n",
       "      <th>PROPHET</th>\n",
       "      <td>1.962</td>\n",
       "      <td>1.967</td>\n",
       "      <td>1.967</td>\n",
       "      <td>1.080</td>\n",
       "      <td>1.090</td>\n",
       "    </tr>\n",
       "    <tr>\n",
       "      <th>CNN</th>\n",
       "      <td>1.150</td>\n",
       "      <td>1.169</td>\n",
       "      <td>1.172</td>\n",
       "      <td>1.198</td>\n",
       "      <td>1.170</td>\n",
       "    </tr>\n",
       "    <tr>\n",
       "      <th>LSTM</th>\n",
       "      <td>1.468</td>\n",
       "      <td>1.416</td>\n",
       "      <td>1.330</td>\n",
       "      <td>1.123</td>\n",
       "      <td>1.013</td>\n",
       "    </tr>\n",
       "    <tr>\n",
       "      <th>LSTM-2</th>\n",
       "      <td>1.406</td>\n",
       "      <td>1.352</td>\n",
       "      <td>1.383</td>\n",
       "      <td>1.151</td>\n",
       "      <td>1.104</td>\n",
       "    </tr>\n",
       "  </tbody>\n",
       "</table>\n",
       "</div>"
      ],
      "text/plain": [
       "          Grid  TL - Aggregated  SUB - Aggregated  PC - Aggregated  \\\n",
       "NAIVE    1.079            1.079             1.079            1.079   \n",
       "ARIMA    1.054            1.023             1.024            0.929   \n",
       "TBATS    1.875            1.749             1.706            1.544   \n",
       "PROPHET  1.962            1.967             1.967            1.080   \n",
       "CNN      1.150            1.169             1.172            1.198   \n",
       "LSTM     1.468            1.416             1.330            1.123   \n",
       "LSTM-2   1.406            1.352             1.383            1.151   \n",
       "\n",
       "         Site - Aggregated  \n",
       "NAIVE                1.079  \n",
       "ARIMA                1.008  \n",
       "TBATS                1.683  \n",
       "PROPHET              1.090  \n",
       "CNN                  1.170  \n",
       "LSTM                 1.013  \n",
       "LSTM-2               1.104  "
      ]
     },
     "execution_count": 61,
     "metadata": {},
     "output_type": "execute_result"
    }
   ],
   "source": [
    "mase_final_results"
   ]
  },
  {
   "cell_type": "code",
   "execution_count": 96,
   "metadata": {},
   "outputs": [],
   "source": [
    "mase_final_results.to_csv('mase_results.csv')"
   ]
  },
  {
   "cell_type": "code",
   "execution_count": 62,
   "metadata": {},
   "outputs": [
    {
     "data": {
      "text/html": [
       "<div>\n",
       "<style scoped>\n",
       "    .dataframe tbody tr th:only-of-type {\n",
       "        vertical-align: middle;\n",
       "    }\n",
       "\n",
       "    .dataframe tbody tr th {\n",
       "        vertical-align: top;\n",
       "    }\n",
       "\n",
       "    .dataframe thead th {\n",
       "        text-align: right;\n",
       "    }\n",
       "</style>\n",
       "<table border=\"1\" class=\"dataframe\">\n",
       "  <thead>\n",
       "    <tr style=\"text-align: right;\">\n",
       "      <th></th>\n",
       "      <th>Grid</th>\n",
       "      <th>TL - Aggregated</th>\n",
       "      <th>SUB - Aggregated</th>\n",
       "      <th>PC - Aggregated</th>\n",
       "      <th>Site - Aggregated</th>\n",
       "    </tr>\n",
       "  </thead>\n",
       "  <tbody>\n",
       "    <tr>\n",
       "      <th>NAIVE</th>\n",
       "      <td>0.397</td>\n",
       "      <td>0.397</td>\n",
       "      <td>0.397</td>\n",
       "      <td>0.397</td>\n",
       "      <td>0.397</td>\n",
       "    </tr>\n",
       "    <tr>\n",
       "      <th>ARIMA</th>\n",
       "      <td>0.360</td>\n",
       "      <td>0.347</td>\n",
       "      <td>0.347</td>\n",
       "      <td>0.318</td>\n",
       "      <td>0.336</td>\n",
       "    </tr>\n",
       "    <tr>\n",
       "      <th>TBATS</th>\n",
       "      <td>0.569</td>\n",
       "      <td>0.530</td>\n",
       "      <td>0.517</td>\n",
       "      <td>0.480</td>\n",
       "      <td>0.512</td>\n",
       "    </tr>\n",
       "    <tr>\n",
       "      <th>PROPHET</th>\n",
       "      <td>0.590</td>\n",
       "      <td>0.591</td>\n",
       "      <td>0.591</td>\n",
       "      <td>0.370</td>\n",
       "      <td>0.370</td>\n",
       "    </tr>\n",
       "    <tr>\n",
       "      <th>CNN</th>\n",
       "      <td>0.377</td>\n",
       "      <td>0.381</td>\n",
       "      <td>0.382</td>\n",
       "      <td>0.390</td>\n",
       "      <td>0.378</td>\n",
       "    </tr>\n",
       "    <tr>\n",
       "      <th>LSTM</th>\n",
       "      <td>0.470</td>\n",
       "      <td>0.463</td>\n",
       "      <td>0.434</td>\n",
       "      <td>0.358</td>\n",
       "      <td>0.333</td>\n",
       "    </tr>\n",
       "    <tr>\n",
       "      <th>LSTM-2</th>\n",
       "      <td>0.450</td>\n",
       "      <td>0.437</td>\n",
       "      <td>0.437</td>\n",
       "      <td>0.371</td>\n",
       "      <td>0.363</td>\n",
       "    </tr>\n",
       "  </tbody>\n",
       "</table>\n",
       "</div>"
      ],
      "text/plain": [
       "          Grid  TL - Aggregated  SUB - Aggregated  PC - Aggregated  \\\n",
       "NAIVE    0.397            0.397             0.397            0.397   \n",
       "ARIMA    0.360            0.347             0.347            0.318   \n",
       "TBATS    0.569            0.530             0.517            0.480   \n",
       "PROPHET  0.590            0.591             0.591            0.370   \n",
       "CNN      0.377            0.381             0.382            0.390   \n",
       "LSTM     0.470            0.463             0.434            0.358   \n",
       "LSTM-2   0.450            0.437             0.437            0.371   \n",
       "\n",
       "         Site - Aggregated  \n",
       "NAIVE                0.397  \n",
       "ARIMA                0.336  \n",
       "TBATS                0.512  \n",
       "PROPHET              0.370  \n",
       "CNN                  0.378  \n",
       "LSTM                 0.333  \n",
       "LSTM-2               0.363  "
      ]
     },
     "execution_count": 62,
     "metadata": {},
     "output_type": "execute_result"
    }
   ],
   "source": [
    "lstm = get_df_method(grid_error_rmse, \"LSTM\")\n",
    "tcn = get_df_method(grid_error_tcn_rmse, \"CNN\")\n",
    "arima = get_df_method(grid_error_arima_rmse, \"ARIMA\")\n",
    "tbats = get_df_method(grid_error_tbats_rmse, \"TBATS\")\n",
    "prophet = get_df_method(grid_error_prophet_rmse, \"PROPHET\")\n",
    "naive = get_df_method(grid_error_naive_rmse, \"NAIVE\")\n",
    "lstm2 = get_df_method(grid_error_lstm2_rmse, \"LSTM-2\")\n",
    "\n",
    "\n",
    "nrmse_final_results = pd.concat([naive, arima, tbats, prophet, tcn, lstm, lstm2]).round(3)\n",
    "nrmse_final_results"
   ]
  },
  {
   "cell_type": "code",
   "execution_count": 98,
   "metadata": {},
   "outputs": [],
   "source": [
    "nrmse_final_results.to_csv('nrmse_results.csv')"
   ]
  },
  {
   "cell_type": "code",
   "execution_count": 91,
   "metadata": {},
   "outputs": [
    {
     "data": {
      "application/vnd.plotly.v1+json": {
       "config": {
        "plotlyServerURL": "https://plot.ly"
       },
       "data": [
        {
         "name": "Using grid level time series",
         "type": "scatter",
         "x": [
          "NAIVE",
          "ARIMA",
          "TBATS",
          "PROPHET",
          "CNN",
          "LSTM"
         ],
         "y": [
          0.3965041238428431,
          0.3604885973574808,
          0.568815440036228,
          0.589810259593252,
          0.377380092919877,
          0.4703903558856143
         ]
        },
        {
         "name": "Using transmission Zone level time series",
         "type": "scatter",
         "x": [
          "NAIVE",
          "ARIMA",
          "TBATS",
          "PROPHET",
          "CNN",
          "LSTM"
         ],
         "y": [
          0.3965041238428431,
          0.34673791723819,
          0.5301626039525603,
          0.5913052140865176,
          0.38148387426162045,
          0.4628670441309045
         ]
        },
        {
         "name": "Using substation level time series",
         "type": "scatter",
         "x": [
          "NAIVE",
          "ARIMA",
          "TBATS",
          "PROPHET",
          "CNN",
          "LSTM"
         ],
         "y": [
          0.3965041238428431,
          0.3472883436134808,
          0.5172115824644526,
          0.591272299547771,
          0.38206648791517106,
          0.43433249218710446
         ]
        },
        {
         "name": "Using postcode level time series",
         "type": "scatter",
         "x": [
          "NAIVE",
          "ARIMA",
          "TBATS",
          "PROPHET",
          "CNN",
          "LSTM"
         ],
         "y": [
          0.39650412384284306,
          0.31814541816116665,
          0.4796227263138744,
          0.3701723039131422,
          0.39047288944725306,
          0.35828865085204664
         ]
        },
        {
         "name": "Using site level time series",
         "type": "scatter",
         "x": [
          "NAIVE",
          "ARIMA",
          "TBATS",
          "PROPHET",
          "CNN",
          "LSTM"
         ],
         "y": [
          0.39650412384284306,
          0.3358448691063564,
          0.512242338766708,
          0.37032535308201564,
          0.37784276340728884,
          0.33299125289067605
         ]
        }
       ],
       "layout": {
        "template": {
         "data": {
          "bar": [
           {
            "error_x": {
             "color": "#2a3f5f"
            },
            "error_y": {
             "color": "#2a3f5f"
            },
            "marker": {
             "line": {
              "color": "#E5ECF6",
              "width": 0.5
             }
            },
            "type": "bar"
           }
          ],
          "barpolar": [
           {
            "marker": {
             "line": {
              "color": "#E5ECF6",
              "width": 0.5
             }
            },
            "type": "barpolar"
           }
          ],
          "carpet": [
           {
            "aaxis": {
             "endlinecolor": "#2a3f5f",
             "gridcolor": "white",
             "linecolor": "white",
             "minorgridcolor": "white",
             "startlinecolor": "#2a3f5f"
            },
            "baxis": {
             "endlinecolor": "#2a3f5f",
             "gridcolor": "white",
             "linecolor": "white",
             "minorgridcolor": "white",
             "startlinecolor": "#2a3f5f"
            },
            "type": "carpet"
           }
          ],
          "choropleth": [
           {
            "colorbar": {
             "outlinewidth": 0,
             "ticks": ""
            },
            "type": "choropleth"
           }
          ],
          "contour": [
           {
            "colorbar": {
             "outlinewidth": 0,
             "ticks": ""
            },
            "colorscale": [
             [
              0,
              "#0d0887"
             ],
             [
              0.1111111111111111,
              "#46039f"
             ],
             [
              0.2222222222222222,
              "#7201a8"
             ],
             [
              0.3333333333333333,
              "#9c179e"
             ],
             [
              0.4444444444444444,
              "#bd3786"
             ],
             [
              0.5555555555555556,
              "#d8576b"
             ],
             [
              0.6666666666666666,
              "#ed7953"
             ],
             [
              0.7777777777777778,
              "#fb9f3a"
             ],
             [
              0.8888888888888888,
              "#fdca26"
             ],
             [
              1,
              "#f0f921"
             ]
            ],
            "type": "contour"
           }
          ],
          "contourcarpet": [
           {
            "colorbar": {
             "outlinewidth": 0,
             "ticks": ""
            },
            "type": "contourcarpet"
           }
          ],
          "heatmap": [
           {
            "colorbar": {
             "outlinewidth": 0,
             "ticks": ""
            },
            "colorscale": [
             [
              0,
              "#0d0887"
             ],
             [
              0.1111111111111111,
              "#46039f"
             ],
             [
              0.2222222222222222,
              "#7201a8"
             ],
             [
              0.3333333333333333,
              "#9c179e"
             ],
             [
              0.4444444444444444,
              "#bd3786"
             ],
             [
              0.5555555555555556,
              "#d8576b"
             ],
             [
              0.6666666666666666,
              "#ed7953"
             ],
             [
              0.7777777777777778,
              "#fb9f3a"
             ],
             [
              0.8888888888888888,
              "#fdca26"
             ],
             [
              1,
              "#f0f921"
             ]
            ],
            "type": "heatmap"
           }
          ],
          "heatmapgl": [
           {
            "colorbar": {
             "outlinewidth": 0,
             "ticks": ""
            },
            "colorscale": [
             [
              0,
              "#0d0887"
             ],
             [
              0.1111111111111111,
              "#46039f"
             ],
             [
              0.2222222222222222,
              "#7201a8"
             ],
             [
              0.3333333333333333,
              "#9c179e"
             ],
             [
              0.4444444444444444,
              "#bd3786"
             ],
             [
              0.5555555555555556,
              "#d8576b"
             ],
             [
              0.6666666666666666,
              "#ed7953"
             ],
             [
              0.7777777777777778,
              "#fb9f3a"
             ],
             [
              0.8888888888888888,
              "#fdca26"
             ],
             [
              1,
              "#f0f921"
             ]
            ],
            "type": "heatmapgl"
           }
          ],
          "histogram": [
           {
            "marker": {
             "colorbar": {
              "outlinewidth": 0,
              "ticks": ""
             }
            },
            "type": "histogram"
           }
          ],
          "histogram2d": [
           {
            "colorbar": {
             "outlinewidth": 0,
             "ticks": ""
            },
            "colorscale": [
             [
              0,
              "#0d0887"
             ],
             [
              0.1111111111111111,
              "#46039f"
             ],
             [
              0.2222222222222222,
              "#7201a8"
             ],
             [
              0.3333333333333333,
              "#9c179e"
             ],
             [
              0.4444444444444444,
              "#bd3786"
             ],
             [
              0.5555555555555556,
              "#d8576b"
             ],
             [
              0.6666666666666666,
              "#ed7953"
             ],
             [
              0.7777777777777778,
              "#fb9f3a"
             ],
             [
              0.8888888888888888,
              "#fdca26"
             ],
             [
              1,
              "#f0f921"
             ]
            ],
            "type": "histogram2d"
           }
          ],
          "histogram2dcontour": [
           {
            "colorbar": {
             "outlinewidth": 0,
             "ticks": ""
            },
            "colorscale": [
             [
              0,
              "#0d0887"
             ],
             [
              0.1111111111111111,
              "#46039f"
             ],
             [
              0.2222222222222222,
              "#7201a8"
             ],
             [
              0.3333333333333333,
              "#9c179e"
             ],
             [
              0.4444444444444444,
              "#bd3786"
             ],
             [
              0.5555555555555556,
              "#d8576b"
             ],
             [
              0.6666666666666666,
              "#ed7953"
             ],
             [
              0.7777777777777778,
              "#fb9f3a"
             ],
             [
              0.8888888888888888,
              "#fdca26"
             ],
             [
              1,
              "#f0f921"
             ]
            ],
            "type": "histogram2dcontour"
           }
          ],
          "mesh3d": [
           {
            "colorbar": {
             "outlinewidth": 0,
             "ticks": ""
            },
            "type": "mesh3d"
           }
          ],
          "parcoords": [
           {
            "line": {
             "colorbar": {
              "outlinewidth": 0,
              "ticks": ""
             }
            },
            "type": "parcoords"
           }
          ],
          "pie": [
           {
            "automargin": true,
            "type": "pie"
           }
          ],
          "scatter": [
           {
            "marker": {
             "colorbar": {
              "outlinewidth": 0,
              "ticks": ""
             }
            },
            "type": "scatter"
           }
          ],
          "scatter3d": [
           {
            "line": {
             "colorbar": {
              "outlinewidth": 0,
              "ticks": ""
             }
            },
            "marker": {
             "colorbar": {
              "outlinewidth": 0,
              "ticks": ""
             }
            },
            "type": "scatter3d"
           }
          ],
          "scattercarpet": [
           {
            "marker": {
             "colorbar": {
              "outlinewidth": 0,
              "ticks": ""
             }
            },
            "type": "scattercarpet"
           }
          ],
          "scattergeo": [
           {
            "marker": {
             "colorbar": {
              "outlinewidth": 0,
              "ticks": ""
             }
            },
            "type": "scattergeo"
           }
          ],
          "scattergl": [
           {
            "marker": {
             "colorbar": {
              "outlinewidth": 0,
              "ticks": ""
             }
            },
            "type": "scattergl"
           }
          ],
          "scattermapbox": [
           {
            "marker": {
             "colorbar": {
              "outlinewidth": 0,
              "ticks": ""
             }
            },
            "type": "scattermapbox"
           }
          ],
          "scatterpolar": [
           {
            "marker": {
             "colorbar": {
              "outlinewidth": 0,
              "ticks": ""
             }
            },
            "type": "scatterpolar"
           }
          ],
          "scatterpolargl": [
           {
            "marker": {
             "colorbar": {
              "outlinewidth": 0,
              "ticks": ""
             }
            },
            "type": "scatterpolargl"
           }
          ],
          "scatterternary": [
           {
            "marker": {
             "colorbar": {
              "outlinewidth": 0,
              "ticks": ""
             }
            },
            "type": "scatterternary"
           }
          ],
          "surface": [
           {
            "colorbar": {
             "outlinewidth": 0,
             "ticks": ""
            },
            "colorscale": [
             [
              0,
              "#0d0887"
             ],
             [
              0.1111111111111111,
              "#46039f"
             ],
             [
              0.2222222222222222,
              "#7201a8"
             ],
             [
              0.3333333333333333,
              "#9c179e"
             ],
             [
              0.4444444444444444,
              "#bd3786"
             ],
             [
              0.5555555555555556,
              "#d8576b"
             ],
             [
              0.6666666666666666,
              "#ed7953"
             ],
             [
              0.7777777777777778,
              "#fb9f3a"
             ],
             [
              0.8888888888888888,
              "#fdca26"
             ],
             [
              1,
              "#f0f921"
             ]
            ],
            "type": "surface"
           }
          ],
          "table": [
           {
            "cells": {
             "fill": {
              "color": "#EBF0F8"
             },
             "line": {
              "color": "white"
             }
            },
            "header": {
             "fill": {
              "color": "#C8D4E3"
             },
             "line": {
              "color": "white"
             }
            },
            "type": "table"
           }
          ]
         },
         "layout": {
          "annotationdefaults": {
           "arrowcolor": "#2a3f5f",
           "arrowhead": 0,
           "arrowwidth": 1
          },
          "autotypenumbers": "strict",
          "coloraxis": {
           "colorbar": {
            "outlinewidth": 0,
            "ticks": ""
           }
          },
          "colorscale": {
           "diverging": [
            [
             0,
             "#8e0152"
            ],
            [
             0.1,
             "#c51b7d"
            ],
            [
             0.2,
             "#de77ae"
            ],
            [
             0.3,
             "#f1b6da"
            ],
            [
             0.4,
             "#fde0ef"
            ],
            [
             0.5,
             "#f7f7f7"
            ],
            [
             0.6,
             "#e6f5d0"
            ],
            [
             0.7,
             "#b8e186"
            ],
            [
             0.8,
             "#7fbc41"
            ],
            [
             0.9,
             "#4d9221"
            ],
            [
             1,
             "#276419"
            ]
           ],
           "sequential": [
            [
             0,
             "#0d0887"
            ],
            [
             0.1111111111111111,
             "#46039f"
            ],
            [
             0.2222222222222222,
             "#7201a8"
            ],
            [
             0.3333333333333333,
             "#9c179e"
            ],
            [
             0.4444444444444444,
             "#bd3786"
            ],
            [
             0.5555555555555556,
             "#d8576b"
            ],
            [
             0.6666666666666666,
             "#ed7953"
            ],
            [
             0.7777777777777778,
             "#fb9f3a"
            ],
            [
             0.8888888888888888,
             "#fdca26"
            ],
            [
             1,
             "#f0f921"
            ]
           ],
           "sequentialminus": [
            [
             0,
             "#0d0887"
            ],
            [
             0.1111111111111111,
             "#46039f"
            ],
            [
             0.2222222222222222,
             "#7201a8"
            ],
            [
             0.3333333333333333,
             "#9c179e"
            ],
            [
             0.4444444444444444,
             "#bd3786"
            ],
            [
             0.5555555555555556,
             "#d8576b"
            ],
            [
             0.6666666666666666,
             "#ed7953"
            ],
            [
             0.7777777777777778,
             "#fb9f3a"
            ],
            [
             0.8888888888888888,
             "#fdca26"
            ],
            [
             1,
             "#f0f921"
            ]
           ]
          },
          "colorway": [
           "#636efa",
           "#EF553B",
           "#00cc96",
           "#ab63fa",
           "#FFA15A",
           "#19d3f3",
           "#FF6692",
           "#B6E880",
           "#FF97FF",
           "#FECB52"
          ],
          "font": {
           "color": "#2a3f5f"
          },
          "geo": {
           "bgcolor": "white",
           "lakecolor": "white",
           "landcolor": "#E5ECF6",
           "showlakes": true,
           "showland": true,
           "subunitcolor": "white"
          },
          "hoverlabel": {
           "align": "left"
          },
          "hovermode": "closest",
          "mapbox": {
           "style": "light"
          },
          "paper_bgcolor": "white",
          "plot_bgcolor": "#E5ECF6",
          "polar": {
           "angularaxis": {
            "gridcolor": "white",
            "linecolor": "white",
            "ticks": ""
           },
           "bgcolor": "#E5ECF6",
           "radialaxis": {
            "gridcolor": "white",
            "linecolor": "white",
            "ticks": ""
           }
          },
          "scene": {
           "xaxis": {
            "backgroundcolor": "#E5ECF6",
            "gridcolor": "white",
            "gridwidth": 2,
            "linecolor": "white",
            "showbackground": true,
            "ticks": "",
            "zerolinecolor": "white"
           },
           "yaxis": {
            "backgroundcolor": "#E5ECF6",
            "gridcolor": "white",
            "gridwidth": 2,
            "linecolor": "white",
            "showbackground": true,
            "ticks": "",
            "zerolinecolor": "white"
           },
           "zaxis": {
            "backgroundcolor": "#E5ECF6",
            "gridcolor": "white",
            "gridwidth": 2,
            "linecolor": "white",
            "showbackground": true,
            "ticks": "",
            "zerolinecolor": "white"
           }
          },
          "shapedefaults": {
           "line": {
            "color": "#2a3f5f"
           }
          },
          "ternary": {
           "aaxis": {
            "gridcolor": "white",
            "linecolor": "white",
            "ticks": ""
           },
           "baxis": {
            "gridcolor": "white",
            "linecolor": "white",
            "ticks": ""
           },
           "bgcolor": "#E5ECF6",
           "caxis": {
            "gridcolor": "white",
            "linecolor": "white",
            "ticks": ""
           }
          },
          "title": {
           "x": 0.05
          },
          "xaxis": {
           "automargin": true,
           "gridcolor": "white",
           "linecolor": "white",
           "ticks": "",
           "title": {
            "standoff": 15
           },
           "zerolinecolor": "white",
           "zerolinewidth": 2
          },
          "yaxis": {
           "automargin": true,
           "gridcolor": "white",
           "linecolor": "white",
           "ticks": "",
           "title": {
            "standoff": 15
           },
           "zerolinecolor": "white",
           "zerolinewidth": 2
          }
         }
        }
       }
      },
      "text/html": [
       "<div>                            <div id=\"9ea7e30a-acce-4748-bbb2-17844cccdca4\" class=\"plotly-graph-div\" style=\"height:525px; width:100%;\"></div>            <script type=\"text/javascript\">                require([\"plotly\"], function(Plotly) {                    window.PLOTLYENV=window.PLOTLYENV || {};                                    if (document.getElementById(\"9ea7e30a-acce-4748-bbb2-17844cccdca4\")) {                    Plotly.newPlot(                        \"9ea7e30a-acce-4748-bbb2-17844cccdca4\",                        [{\"name\": \"Using grid level time series\", \"type\": \"scatter\", \"x\": [\"NAIVE\", \"ARIMA\", \"TBATS\", \"PROPHET\", \"CNN\", \"LSTM\"], \"y\": [0.3965041238428431, 0.3604885973574808, 0.568815440036228, 0.589810259593252, 0.377380092919877, 0.4703903558856143]}, {\"name\": \"Using transmission Zone level time series\", \"type\": \"scatter\", \"x\": [\"NAIVE\", \"ARIMA\", \"TBATS\", \"PROPHET\", \"CNN\", \"LSTM\"], \"y\": [0.3965041238428431, 0.34673791723819, 0.5301626039525603, 0.5913052140865176, 0.38148387426162045, 0.4628670441309045]}, {\"name\": \"Using substation level time series\", \"type\": \"scatter\", \"x\": [\"NAIVE\", \"ARIMA\", \"TBATS\", \"PROPHET\", \"CNN\", \"LSTM\"], \"y\": [0.3965041238428431, 0.3472883436134808, 0.5172115824644526, 0.591272299547771, 0.38206648791517106, 0.43433249218710446]}, {\"name\": \"Using postcode level time series\", \"type\": \"scatter\", \"x\": [\"NAIVE\", \"ARIMA\", \"TBATS\", \"PROPHET\", \"CNN\", \"LSTM\"], \"y\": [0.39650412384284306, 0.31814541816116665, 0.4796227263138744, 0.3701723039131422, 0.39047288944725306, 0.35828865085204664]}, {\"name\": \"Using site level time series\", \"type\": \"scatter\", \"x\": [\"NAIVE\", \"ARIMA\", \"TBATS\", \"PROPHET\", \"CNN\", \"LSTM\"], \"y\": [0.39650412384284306, 0.3358448691063564, 0.512242338766708, 0.37032535308201564, 0.37784276340728884, 0.33299125289067605]}],                        {\"template\": {\"data\": {\"bar\": [{\"error_x\": {\"color\": \"#2a3f5f\"}, \"error_y\": {\"color\": \"#2a3f5f\"}, \"marker\": {\"line\": {\"color\": \"#E5ECF6\", \"width\": 0.5}}, \"type\": \"bar\"}], \"barpolar\": [{\"marker\": {\"line\": {\"color\": \"#E5ECF6\", \"width\": 0.5}}, \"type\": \"barpolar\"}], \"carpet\": [{\"aaxis\": {\"endlinecolor\": \"#2a3f5f\", \"gridcolor\": \"white\", \"linecolor\": \"white\", \"minorgridcolor\": \"white\", \"startlinecolor\": \"#2a3f5f\"}, \"baxis\": {\"endlinecolor\": \"#2a3f5f\", \"gridcolor\": \"white\", \"linecolor\": \"white\", \"minorgridcolor\": \"white\", \"startlinecolor\": \"#2a3f5f\"}, \"type\": \"carpet\"}], \"choropleth\": [{\"colorbar\": {\"outlinewidth\": 0, \"ticks\": \"\"}, \"type\": \"choropleth\"}], \"contour\": [{\"colorbar\": {\"outlinewidth\": 0, \"ticks\": \"\"}, \"colorscale\": [[0.0, \"#0d0887\"], [0.1111111111111111, \"#46039f\"], [0.2222222222222222, \"#7201a8\"], [0.3333333333333333, \"#9c179e\"], [0.4444444444444444, \"#bd3786\"], [0.5555555555555556, \"#d8576b\"], [0.6666666666666666, \"#ed7953\"], [0.7777777777777778, \"#fb9f3a\"], [0.8888888888888888, \"#fdca26\"], [1.0, \"#f0f921\"]], \"type\": \"contour\"}], \"contourcarpet\": [{\"colorbar\": {\"outlinewidth\": 0, \"ticks\": \"\"}, \"type\": \"contourcarpet\"}], \"heatmap\": [{\"colorbar\": {\"outlinewidth\": 0, \"ticks\": \"\"}, \"colorscale\": [[0.0, \"#0d0887\"], [0.1111111111111111, \"#46039f\"], [0.2222222222222222, \"#7201a8\"], [0.3333333333333333, \"#9c179e\"], [0.4444444444444444, \"#bd3786\"], [0.5555555555555556, \"#d8576b\"], [0.6666666666666666, \"#ed7953\"], [0.7777777777777778, \"#fb9f3a\"], [0.8888888888888888, \"#fdca26\"], [1.0, \"#f0f921\"]], \"type\": \"heatmap\"}], \"heatmapgl\": [{\"colorbar\": {\"outlinewidth\": 0, \"ticks\": \"\"}, \"colorscale\": [[0.0, \"#0d0887\"], [0.1111111111111111, \"#46039f\"], [0.2222222222222222, \"#7201a8\"], [0.3333333333333333, \"#9c179e\"], [0.4444444444444444, \"#bd3786\"], [0.5555555555555556, \"#d8576b\"], [0.6666666666666666, \"#ed7953\"], [0.7777777777777778, \"#fb9f3a\"], [0.8888888888888888, \"#fdca26\"], [1.0, \"#f0f921\"]], \"type\": \"heatmapgl\"}], \"histogram\": [{\"marker\": {\"colorbar\": {\"outlinewidth\": 0, \"ticks\": \"\"}}, \"type\": \"histogram\"}], \"histogram2d\": [{\"colorbar\": {\"outlinewidth\": 0, \"ticks\": \"\"}, \"colorscale\": [[0.0, \"#0d0887\"], [0.1111111111111111, \"#46039f\"], [0.2222222222222222, \"#7201a8\"], [0.3333333333333333, \"#9c179e\"], [0.4444444444444444, \"#bd3786\"], [0.5555555555555556, \"#d8576b\"], [0.6666666666666666, \"#ed7953\"], [0.7777777777777778, \"#fb9f3a\"], [0.8888888888888888, \"#fdca26\"], [1.0, \"#f0f921\"]], \"type\": \"histogram2d\"}], \"histogram2dcontour\": [{\"colorbar\": {\"outlinewidth\": 0, \"ticks\": \"\"}, \"colorscale\": [[0.0, \"#0d0887\"], [0.1111111111111111, \"#46039f\"], [0.2222222222222222, \"#7201a8\"], [0.3333333333333333, \"#9c179e\"], [0.4444444444444444, \"#bd3786\"], [0.5555555555555556, \"#d8576b\"], [0.6666666666666666, \"#ed7953\"], [0.7777777777777778, \"#fb9f3a\"], [0.8888888888888888, \"#fdca26\"], [1.0, \"#f0f921\"]], \"type\": \"histogram2dcontour\"}], \"mesh3d\": [{\"colorbar\": {\"outlinewidth\": 0, \"ticks\": \"\"}, \"type\": \"mesh3d\"}], \"parcoords\": [{\"line\": {\"colorbar\": {\"outlinewidth\": 0, \"ticks\": \"\"}}, \"type\": \"parcoords\"}], \"pie\": [{\"automargin\": true, \"type\": \"pie\"}], \"scatter\": [{\"marker\": {\"colorbar\": {\"outlinewidth\": 0, \"ticks\": \"\"}}, \"type\": \"scatter\"}], \"scatter3d\": [{\"line\": {\"colorbar\": {\"outlinewidth\": 0, \"ticks\": \"\"}}, \"marker\": {\"colorbar\": {\"outlinewidth\": 0, \"ticks\": \"\"}}, \"type\": \"scatter3d\"}], \"scattercarpet\": [{\"marker\": {\"colorbar\": {\"outlinewidth\": 0, \"ticks\": \"\"}}, \"type\": \"scattercarpet\"}], \"scattergeo\": [{\"marker\": {\"colorbar\": {\"outlinewidth\": 0, \"ticks\": \"\"}}, \"type\": \"scattergeo\"}], \"scattergl\": [{\"marker\": {\"colorbar\": {\"outlinewidth\": 0, \"ticks\": \"\"}}, \"type\": \"scattergl\"}], \"scattermapbox\": [{\"marker\": {\"colorbar\": {\"outlinewidth\": 0, \"ticks\": \"\"}}, \"type\": \"scattermapbox\"}], \"scatterpolar\": [{\"marker\": {\"colorbar\": {\"outlinewidth\": 0, \"ticks\": \"\"}}, \"type\": \"scatterpolar\"}], \"scatterpolargl\": [{\"marker\": {\"colorbar\": {\"outlinewidth\": 0, \"ticks\": \"\"}}, \"type\": \"scatterpolargl\"}], \"scatterternary\": [{\"marker\": {\"colorbar\": {\"outlinewidth\": 0, \"ticks\": \"\"}}, \"type\": \"scatterternary\"}], \"surface\": [{\"colorbar\": {\"outlinewidth\": 0, \"ticks\": \"\"}, \"colorscale\": [[0.0, \"#0d0887\"], [0.1111111111111111, \"#46039f\"], [0.2222222222222222, \"#7201a8\"], [0.3333333333333333, \"#9c179e\"], [0.4444444444444444, \"#bd3786\"], [0.5555555555555556, \"#d8576b\"], [0.6666666666666666, \"#ed7953\"], [0.7777777777777778, \"#fb9f3a\"], [0.8888888888888888, \"#fdca26\"], [1.0, \"#f0f921\"]], \"type\": \"surface\"}], \"table\": [{\"cells\": {\"fill\": {\"color\": \"#EBF0F8\"}, \"line\": {\"color\": \"white\"}}, \"header\": {\"fill\": {\"color\": \"#C8D4E3\"}, \"line\": {\"color\": \"white\"}}, \"type\": \"table\"}]}, \"layout\": {\"annotationdefaults\": {\"arrowcolor\": \"#2a3f5f\", \"arrowhead\": 0, \"arrowwidth\": 1}, \"autotypenumbers\": \"strict\", \"coloraxis\": {\"colorbar\": {\"outlinewidth\": 0, \"ticks\": \"\"}}, \"colorscale\": {\"diverging\": [[0, \"#8e0152\"], [0.1, \"#c51b7d\"], [0.2, \"#de77ae\"], [0.3, \"#f1b6da\"], [0.4, \"#fde0ef\"], [0.5, \"#f7f7f7\"], [0.6, \"#e6f5d0\"], [0.7, \"#b8e186\"], [0.8, \"#7fbc41\"], [0.9, \"#4d9221\"], [1, \"#276419\"]], \"sequential\": [[0.0, \"#0d0887\"], [0.1111111111111111, \"#46039f\"], [0.2222222222222222, \"#7201a8\"], [0.3333333333333333, \"#9c179e\"], [0.4444444444444444, \"#bd3786\"], [0.5555555555555556, \"#d8576b\"], [0.6666666666666666, \"#ed7953\"], [0.7777777777777778, \"#fb9f3a\"], [0.8888888888888888, \"#fdca26\"], [1.0, \"#f0f921\"]], \"sequentialminus\": [[0.0, \"#0d0887\"], [0.1111111111111111, \"#46039f\"], [0.2222222222222222, \"#7201a8\"], [0.3333333333333333, \"#9c179e\"], [0.4444444444444444, \"#bd3786\"], [0.5555555555555556, \"#d8576b\"], [0.6666666666666666, \"#ed7953\"], [0.7777777777777778, \"#fb9f3a\"], [0.8888888888888888, \"#fdca26\"], [1.0, \"#f0f921\"]]}, \"colorway\": [\"#636efa\", \"#EF553B\", \"#00cc96\", \"#ab63fa\", \"#FFA15A\", \"#19d3f3\", \"#FF6692\", \"#B6E880\", \"#FF97FF\", \"#FECB52\"], \"font\": {\"color\": \"#2a3f5f\"}, \"geo\": {\"bgcolor\": \"white\", \"lakecolor\": \"white\", \"landcolor\": \"#E5ECF6\", \"showlakes\": true, \"showland\": true, \"subunitcolor\": \"white\"}, \"hoverlabel\": {\"align\": \"left\"}, \"hovermode\": \"closest\", \"mapbox\": {\"style\": \"light\"}, \"paper_bgcolor\": \"white\", \"plot_bgcolor\": \"#E5ECF6\", \"polar\": {\"angularaxis\": {\"gridcolor\": \"white\", \"linecolor\": \"white\", \"ticks\": \"\"}, \"bgcolor\": \"#E5ECF6\", \"radialaxis\": {\"gridcolor\": \"white\", \"linecolor\": \"white\", \"ticks\": \"\"}}, \"scene\": {\"xaxis\": {\"backgroundcolor\": \"#E5ECF6\", \"gridcolor\": \"white\", \"gridwidth\": 2, \"linecolor\": \"white\", \"showbackground\": true, \"ticks\": \"\", \"zerolinecolor\": \"white\"}, \"yaxis\": {\"backgroundcolor\": \"#E5ECF6\", \"gridcolor\": \"white\", \"gridwidth\": 2, \"linecolor\": \"white\", \"showbackground\": true, \"ticks\": \"\", \"zerolinecolor\": \"white\"}, \"zaxis\": {\"backgroundcolor\": \"#E5ECF6\", \"gridcolor\": \"white\", \"gridwidth\": 2, \"linecolor\": \"white\", \"showbackground\": true, \"ticks\": \"\", \"zerolinecolor\": \"white\"}}, \"shapedefaults\": {\"line\": {\"color\": \"#2a3f5f\"}}, \"ternary\": {\"aaxis\": {\"gridcolor\": \"white\", \"linecolor\": \"white\", \"ticks\": \"\"}, \"baxis\": {\"gridcolor\": \"white\", \"linecolor\": \"white\", \"ticks\": \"\"}, \"bgcolor\": \"#E5ECF6\", \"caxis\": {\"gridcolor\": \"white\", \"linecolor\": \"white\", \"ticks\": \"\"}}, \"title\": {\"x\": 0.05}, \"xaxis\": {\"automargin\": true, \"gridcolor\": \"white\", \"linecolor\": \"white\", \"ticks\": \"\", \"title\": {\"standoff\": 15}, \"zerolinecolor\": \"white\", \"zerolinewidth\": 2}, \"yaxis\": {\"automargin\": true, \"gridcolor\": \"white\", \"linecolor\": \"white\", \"ticks\": \"\", \"title\": {\"standoff\": 15}, \"zerolinecolor\": \"white\", \"zerolinewidth\": 2}}}},                        {\"responsive\": true}                    ).then(function(){\n",
       "                            \n",
       "var gd = document.getElementById('9ea7e30a-acce-4748-bbb2-17844cccdca4');\n",
       "var x = new MutationObserver(function (mutations, observer) {{\n",
       "        var display = window.getComputedStyle(gd).display;\n",
       "        if (!display || display === 'none') {{\n",
       "            console.log([gd, 'removed!']);\n",
       "            Plotly.purge(gd);\n",
       "            observer.disconnect();\n",
       "        }}\n",
       "}});\n",
       "\n",
       "// Listen for the removal of the full notebook cells\n",
       "var notebookContainer = gd.closest('#notebook-container');\n",
       "if (notebookContainer) {{\n",
       "    x.observe(notebookContainer, {childList: true});\n",
       "}}\n",
       "\n",
       "// Listen for the clearing of the current output cell\n",
       "var outputEl = gd.closest('.output');\n",
       "if (outputEl) {{\n",
       "    x.observe(outputEl, {childList: true});\n",
       "}}\n",
       "\n",
       "                        })                };                });            </script>        </div>"
      ]
     },
     "metadata": {},
     "output_type": "display_data"
    }
   ],
   "source": [
    "# lets draw a line plot\n",
    "\n",
    "line_plot = go.Figure()\n",
    "line_plot.add_trace(go.Scatter(x = nrmse_final_results.index, y =nrmse_final_results['Grid'], name = \"Using grid level time series\"))\n",
    "line_plot.add_trace(go.Scatter(x = nrmse_final_results.index, y =nrmse_final_results['TL - Aggregated'], name = \"Using transmission Zone level time series\"))\n",
    "line_plot.add_trace(go.Scatter(x = nrmse_final_results.index, y =nrmse_final_results['SUB - Aggregated'], name = \"Using substation level time series\"))\n",
    "line_plot.add_trace(go.Scatter(x = nrmse_final_results.index, y =nrmse_final_results['PC - Aggregated'], name = \"Using postcode level time series\"))\n",
    "line_plot.add_trace(go.Scatter(x = nrmse_final_results.index, y =nrmse_final_results['Site - Aggregated'], name = \"Using site level time series\"))\n"
   ]
  },
  {
   "cell_type": "code",
   "execution_count": 92,
   "metadata": {},
   "outputs": [
    {
     "data": {
      "application/vnd.plotly.v1+json": {
       "config": {
        "plotlyServerURL": "https://plot.ly"
       },
       "data": [
        {
         "name": "Using grid level time series",
         "type": "scatter",
         "x": [
          "NAIVE",
          "ARIMA",
          "TBATS",
          "PROPHET",
          "CNN",
          "LSTM"
         ],
         "y": [
          1.079391787981905,
          1.0542174171354002,
          1.8748277728587728,
          1.962394493488318,
          1.150048520316878,
          1.4682344822944209
         ]
        },
        {
         "name": "Using transmission Zone level time series",
         "type": "scatter",
         "x": [
          "NAIVE",
          "ARIMA",
          "TBATS",
          "PROPHET",
          "CNN",
          "LSTM"
         ],
         "y": [
          1.079391787981905,
          1.023268311933142,
          1.7491129158069132,
          1.9665700550555816,
          1.1694360905458727,
          1.4161838663439736
         ]
        },
        {
         "name": "Using substation level time series",
         "type": "scatter",
         "x": [
          "NAIVE",
          "ARIMA",
          "TBATS",
          "PROPHET",
          "CNN",
          "LSTM"
         ],
         "y": [
          1.079391787981905,
          1.024157068352861,
          1.706391431091947,
          1.966532036884485,
          1.1717213662474213,
          1.3301243856811835
         ]
        },
        {
         "name": "Using postcode level time series",
         "type": "scatter",
         "x": [
          "NAIVE",
          "ARIMA",
          "TBATS",
          "PROPHET",
          "CNN",
          "LSTM"
         ],
         "y": [
          1.079391787981905,
          0.929386914423518,
          1.5437416506766872,
          1.0803983146720384,
          1.198340986831758,
          1.1232270030823759
         ]
        },
        {
         "name": "Using site level time series",
         "type": "scatter",
         "x": [
          "NAIVE",
          "ARIMA",
          "TBATS",
          "PROPHET",
          "CNN",
          "LSTM"
         ],
         "y": [
          1.079391787981905,
          1.0084912706608253,
          1.683218533714503,
          1.0899355671492128,
          1.1695815390243385,
          1.0130934871185588
         ]
        }
       ],
       "layout": {
        "template": {
         "data": {
          "bar": [
           {
            "error_x": {
             "color": "#2a3f5f"
            },
            "error_y": {
             "color": "#2a3f5f"
            },
            "marker": {
             "line": {
              "color": "#E5ECF6",
              "width": 0.5
             }
            },
            "type": "bar"
           }
          ],
          "barpolar": [
           {
            "marker": {
             "line": {
              "color": "#E5ECF6",
              "width": 0.5
             }
            },
            "type": "barpolar"
           }
          ],
          "carpet": [
           {
            "aaxis": {
             "endlinecolor": "#2a3f5f",
             "gridcolor": "white",
             "linecolor": "white",
             "minorgridcolor": "white",
             "startlinecolor": "#2a3f5f"
            },
            "baxis": {
             "endlinecolor": "#2a3f5f",
             "gridcolor": "white",
             "linecolor": "white",
             "minorgridcolor": "white",
             "startlinecolor": "#2a3f5f"
            },
            "type": "carpet"
           }
          ],
          "choropleth": [
           {
            "colorbar": {
             "outlinewidth": 0,
             "ticks": ""
            },
            "type": "choropleth"
           }
          ],
          "contour": [
           {
            "colorbar": {
             "outlinewidth": 0,
             "ticks": ""
            },
            "colorscale": [
             [
              0,
              "#0d0887"
             ],
             [
              0.1111111111111111,
              "#46039f"
             ],
             [
              0.2222222222222222,
              "#7201a8"
             ],
             [
              0.3333333333333333,
              "#9c179e"
             ],
             [
              0.4444444444444444,
              "#bd3786"
             ],
             [
              0.5555555555555556,
              "#d8576b"
             ],
             [
              0.6666666666666666,
              "#ed7953"
             ],
             [
              0.7777777777777778,
              "#fb9f3a"
             ],
             [
              0.8888888888888888,
              "#fdca26"
             ],
             [
              1,
              "#f0f921"
             ]
            ],
            "type": "contour"
           }
          ],
          "contourcarpet": [
           {
            "colorbar": {
             "outlinewidth": 0,
             "ticks": ""
            },
            "type": "contourcarpet"
           }
          ],
          "heatmap": [
           {
            "colorbar": {
             "outlinewidth": 0,
             "ticks": ""
            },
            "colorscale": [
             [
              0,
              "#0d0887"
             ],
             [
              0.1111111111111111,
              "#46039f"
             ],
             [
              0.2222222222222222,
              "#7201a8"
             ],
             [
              0.3333333333333333,
              "#9c179e"
             ],
             [
              0.4444444444444444,
              "#bd3786"
             ],
             [
              0.5555555555555556,
              "#d8576b"
             ],
             [
              0.6666666666666666,
              "#ed7953"
             ],
             [
              0.7777777777777778,
              "#fb9f3a"
             ],
             [
              0.8888888888888888,
              "#fdca26"
             ],
             [
              1,
              "#f0f921"
             ]
            ],
            "type": "heatmap"
           }
          ],
          "heatmapgl": [
           {
            "colorbar": {
             "outlinewidth": 0,
             "ticks": ""
            },
            "colorscale": [
             [
              0,
              "#0d0887"
             ],
             [
              0.1111111111111111,
              "#46039f"
             ],
             [
              0.2222222222222222,
              "#7201a8"
             ],
             [
              0.3333333333333333,
              "#9c179e"
             ],
             [
              0.4444444444444444,
              "#bd3786"
             ],
             [
              0.5555555555555556,
              "#d8576b"
             ],
             [
              0.6666666666666666,
              "#ed7953"
             ],
             [
              0.7777777777777778,
              "#fb9f3a"
             ],
             [
              0.8888888888888888,
              "#fdca26"
             ],
             [
              1,
              "#f0f921"
             ]
            ],
            "type": "heatmapgl"
           }
          ],
          "histogram": [
           {
            "marker": {
             "colorbar": {
              "outlinewidth": 0,
              "ticks": ""
             }
            },
            "type": "histogram"
           }
          ],
          "histogram2d": [
           {
            "colorbar": {
             "outlinewidth": 0,
             "ticks": ""
            },
            "colorscale": [
             [
              0,
              "#0d0887"
             ],
             [
              0.1111111111111111,
              "#46039f"
             ],
             [
              0.2222222222222222,
              "#7201a8"
             ],
             [
              0.3333333333333333,
              "#9c179e"
             ],
             [
              0.4444444444444444,
              "#bd3786"
             ],
             [
              0.5555555555555556,
              "#d8576b"
             ],
             [
              0.6666666666666666,
              "#ed7953"
             ],
             [
              0.7777777777777778,
              "#fb9f3a"
             ],
             [
              0.8888888888888888,
              "#fdca26"
             ],
             [
              1,
              "#f0f921"
             ]
            ],
            "type": "histogram2d"
           }
          ],
          "histogram2dcontour": [
           {
            "colorbar": {
             "outlinewidth": 0,
             "ticks": ""
            },
            "colorscale": [
             [
              0,
              "#0d0887"
             ],
             [
              0.1111111111111111,
              "#46039f"
             ],
             [
              0.2222222222222222,
              "#7201a8"
             ],
             [
              0.3333333333333333,
              "#9c179e"
             ],
             [
              0.4444444444444444,
              "#bd3786"
             ],
             [
              0.5555555555555556,
              "#d8576b"
             ],
             [
              0.6666666666666666,
              "#ed7953"
             ],
             [
              0.7777777777777778,
              "#fb9f3a"
             ],
             [
              0.8888888888888888,
              "#fdca26"
             ],
             [
              1,
              "#f0f921"
             ]
            ],
            "type": "histogram2dcontour"
           }
          ],
          "mesh3d": [
           {
            "colorbar": {
             "outlinewidth": 0,
             "ticks": ""
            },
            "type": "mesh3d"
           }
          ],
          "parcoords": [
           {
            "line": {
             "colorbar": {
              "outlinewidth": 0,
              "ticks": ""
             }
            },
            "type": "parcoords"
           }
          ],
          "pie": [
           {
            "automargin": true,
            "type": "pie"
           }
          ],
          "scatter": [
           {
            "marker": {
             "colorbar": {
              "outlinewidth": 0,
              "ticks": ""
             }
            },
            "type": "scatter"
           }
          ],
          "scatter3d": [
           {
            "line": {
             "colorbar": {
              "outlinewidth": 0,
              "ticks": ""
             }
            },
            "marker": {
             "colorbar": {
              "outlinewidth": 0,
              "ticks": ""
             }
            },
            "type": "scatter3d"
           }
          ],
          "scattercarpet": [
           {
            "marker": {
             "colorbar": {
              "outlinewidth": 0,
              "ticks": ""
             }
            },
            "type": "scattercarpet"
           }
          ],
          "scattergeo": [
           {
            "marker": {
             "colorbar": {
              "outlinewidth": 0,
              "ticks": ""
             }
            },
            "type": "scattergeo"
           }
          ],
          "scattergl": [
           {
            "marker": {
             "colorbar": {
              "outlinewidth": 0,
              "ticks": ""
             }
            },
            "type": "scattergl"
           }
          ],
          "scattermapbox": [
           {
            "marker": {
             "colorbar": {
              "outlinewidth": 0,
              "ticks": ""
             }
            },
            "type": "scattermapbox"
           }
          ],
          "scatterpolar": [
           {
            "marker": {
             "colorbar": {
              "outlinewidth": 0,
              "ticks": ""
             }
            },
            "type": "scatterpolar"
           }
          ],
          "scatterpolargl": [
           {
            "marker": {
             "colorbar": {
              "outlinewidth": 0,
              "ticks": ""
             }
            },
            "type": "scatterpolargl"
           }
          ],
          "scatterternary": [
           {
            "marker": {
             "colorbar": {
              "outlinewidth": 0,
              "ticks": ""
             }
            },
            "type": "scatterternary"
           }
          ],
          "surface": [
           {
            "colorbar": {
             "outlinewidth": 0,
             "ticks": ""
            },
            "colorscale": [
             [
              0,
              "#0d0887"
             ],
             [
              0.1111111111111111,
              "#46039f"
             ],
             [
              0.2222222222222222,
              "#7201a8"
             ],
             [
              0.3333333333333333,
              "#9c179e"
             ],
             [
              0.4444444444444444,
              "#bd3786"
             ],
             [
              0.5555555555555556,
              "#d8576b"
             ],
             [
              0.6666666666666666,
              "#ed7953"
             ],
             [
              0.7777777777777778,
              "#fb9f3a"
             ],
             [
              0.8888888888888888,
              "#fdca26"
             ],
             [
              1,
              "#f0f921"
             ]
            ],
            "type": "surface"
           }
          ],
          "table": [
           {
            "cells": {
             "fill": {
              "color": "#EBF0F8"
             },
             "line": {
              "color": "white"
             }
            },
            "header": {
             "fill": {
              "color": "#C8D4E3"
             },
             "line": {
              "color": "white"
             }
            },
            "type": "table"
           }
          ]
         },
         "layout": {
          "annotationdefaults": {
           "arrowcolor": "#2a3f5f",
           "arrowhead": 0,
           "arrowwidth": 1
          },
          "autotypenumbers": "strict",
          "coloraxis": {
           "colorbar": {
            "outlinewidth": 0,
            "ticks": ""
           }
          },
          "colorscale": {
           "diverging": [
            [
             0,
             "#8e0152"
            ],
            [
             0.1,
             "#c51b7d"
            ],
            [
             0.2,
             "#de77ae"
            ],
            [
             0.3,
             "#f1b6da"
            ],
            [
             0.4,
             "#fde0ef"
            ],
            [
             0.5,
             "#f7f7f7"
            ],
            [
             0.6,
             "#e6f5d0"
            ],
            [
             0.7,
             "#b8e186"
            ],
            [
             0.8,
             "#7fbc41"
            ],
            [
             0.9,
             "#4d9221"
            ],
            [
             1,
             "#276419"
            ]
           ],
           "sequential": [
            [
             0,
             "#0d0887"
            ],
            [
             0.1111111111111111,
             "#46039f"
            ],
            [
             0.2222222222222222,
             "#7201a8"
            ],
            [
             0.3333333333333333,
             "#9c179e"
            ],
            [
             0.4444444444444444,
             "#bd3786"
            ],
            [
             0.5555555555555556,
             "#d8576b"
            ],
            [
             0.6666666666666666,
             "#ed7953"
            ],
            [
             0.7777777777777778,
             "#fb9f3a"
            ],
            [
             0.8888888888888888,
             "#fdca26"
            ],
            [
             1,
             "#f0f921"
            ]
           ],
           "sequentialminus": [
            [
             0,
             "#0d0887"
            ],
            [
             0.1111111111111111,
             "#46039f"
            ],
            [
             0.2222222222222222,
             "#7201a8"
            ],
            [
             0.3333333333333333,
             "#9c179e"
            ],
            [
             0.4444444444444444,
             "#bd3786"
            ],
            [
             0.5555555555555556,
             "#d8576b"
            ],
            [
             0.6666666666666666,
             "#ed7953"
            ],
            [
             0.7777777777777778,
             "#fb9f3a"
            ],
            [
             0.8888888888888888,
             "#fdca26"
            ],
            [
             1,
             "#f0f921"
            ]
           ]
          },
          "colorway": [
           "#636efa",
           "#EF553B",
           "#00cc96",
           "#ab63fa",
           "#FFA15A",
           "#19d3f3",
           "#FF6692",
           "#B6E880",
           "#FF97FF",
           "#FECB52"
          ],
          "font": {
           "color": "#2a3f5f"
          },
          "geo": {
           "bgcolor": "white",
           "lakecolor": "white",
           "landcolor": "#E5ECF6",
           "showlakes": true,
           "showland": true,
           "subunitcolor": "white"
          },
          "hoverlabel": {
           "align": "left"
          },
          "hovermode": "closest",
          "mapbox": {
           "style": "light"
          },
          "paper_bgcolor": "white",
          "plot_bgcolor": "#E5ECF6",
          "polar": {
           "angularaxis": {
            "gridcolor": "white",
            "linecolor": "white",
            "ticks": ""
           },
           "bgcolor": "#E5ECF6",
           "radialaxis": {
            "gridcolor": "white",
            "linecolor": "white",
            "ticks": ""
           }
          },
          "scene": {
           "xaxis": {
            "backgroundcolor": "#E5ECF6",
            "gridcolor": "white",
            "gridwidth": 2,
            "linecolor": "white",
            "showbackground": true,
            "ticks": "",
            "zerolinecolor": "white"
           },
           "yaxis": {
            "backgroundcolor": "#E5ECF6",
            "gridcolor": "white",
            "gridwidth": 2,
            "linecolor": "white",
            "showbackground": true,
            "ticks": "",
            "zerolinecolor": "white"
           },
           "zaxis": {
            "backgroundcolor": "#E5ECF6",
            "gridcolor": "white",
            "gridwidth": 2,
            "linecolor": "white",
            "showbackground": true,
            "ticks": "",
            "zerolinecolor": "white"
           }
          },
          "shapedefaults": {
           "line": {
            "color": "#2a3f5f"
           }
          },
          "ternary": {
           "aaxis": {
            "gridcolor": "white",
            "linecolor": "white",
            "ticks": ""
           },
           "baxis": {
            "gridcolor": "white",
            "linecolor": "white",
            "ticks": ""
           },
           "bgcolor": "#E5ECF6",
           "caxis": {
            "gridcolor": "white",
            "linecolor": "white",
            "ticks": ""
           }
          },
          "title": {
           "x": 0.05
          },
          "xaxis": {
           "automargin": true,
           "gridcolor": "white",
           "linecolor": "white",
           "ticks": "",
           "title": {
            "standoff": 15
           },
           "zerolinecolor": "white",
           "zerolinewidth": 2
          },
          "yaxis": {
           "automargin": true,
           "gridcolor": "white",
           "linecolor": "white",
           "ticks": "",
           "title": {
            "standoff": 15
           },
           "zerolinecolor": "white",
           "zerolinewidth": 2
          }
         }
        }
       }
      },
      "text/html": [
       "<div>                            <div id=\"3a578b66-f0cd-4466-9e10-c606a00b3452\" class=\"plotly-graph-div\" style=\"height:525px; width:100%;\"></div>            <script type=\"text/javascript\">                require([\"plotly\"], function(Plotly) {                    window.PLOTLYENV=window.PLOTLYENV || {};                                    if (document.getElementById(\"3a578b66-f0cd-4466-9e10-c606a00b3452\")) {                    Plotly.newPlot(                        \"3a578b66-f0cd-4466-9e10-c606a00b3452\",                        [{\"name\": \"Using grid level time series\", \"type\": \"scatter\", \"x\": [\"NAIVE\", \"ARIMA\", \"TBATS\", \"PROPHET\", \"CNN\", \"LSTM\"], \"y\": [1.079391787981905, 1.0542174171354002, 1.8748277728587728, 1.962394493488318, 1.150048520316878, 1.4682344822944209]}, {\"name\": \"Using transmission Zone level time series\", \"type\": \"scatter\", \"x\": [\"NAIVE\", \"ARIMA\", \"TBATS\", \"PROPHET\", \"CNN\", \"LSTM\"], \"y\": [1.079391787981905, 1.023268311933142, 1.7491129158069132, 1.9665700550555816, 1.1694360905458727, 1.4161838663439736]}, {\"name\": \"Using substation level time series\", \"type\": \"scatter\", \"x\": [\"NAIVE\", \"ARIMA\", \"TBATS\", \"PROPHET\", \"CNN\", \"LSTM\"], \"y\": [1.079391787981905, 1.024157068352861, 1.706391431091947, 1.966532036884485, 1.1717213662474213, 1.3301243856811835]}, {\"name\": \"Using postcode level time series\", \"type\": \"scatter\", \"x\": [\"NAIVE\", \"ARIMA\", \"TBATS\", \"PROPHET\", \"CNN\", \"LSTM\"], \"y\": [1.079391787981905, 0.929386914423518, 1.5437416506766872, 1.0803983146720384, 1.198340986831758, 1.1232270030823759]}, {\"name\": \"Using site level time series\", \"type\": \"scatter\", \"x\": [\"NAIVE\", \"ARIMA\", \"TBATS\", \"PROPHET\", \"CNN\", \"LSTM\"], \"y\": [1.079391787981905, 1.0084912706608253, 1.683218533714503, 1.0899355671492128, 1.1695815390243385, 1.0130934871185588]}],                        {\"template\": {\"data\": {\"bar\": [{\"error_x\": {\"color\": \"#2a3f5f\"}, \"error_y\": {\"color\": \"#2a3f5f\"}, \"marker\": {\"line\": {\"color\": \"#E5ECF6\", \"width\": 0.5}}, \"type\": \"bar\"}], \"barpolar\": [{\"marker\": {\"line\": {\"color\": \"#E5ECF6\", \"width\": 0.5}}, \"type\": \"barpolar\"}], \"carpet\": [{\"aaxis\": {\"endlinecolor\": \"#2a3f5f\", \"gridcolor\": \"white\", \"linecolor\": \"white\", \"minorgridcolor\": \"white\", \"startlinecolor\": \"#2a3f5f\"}, \"baxis\": {\"endlinecolor\": \"#2a3f5f\", \"gridcolor\": \"white\", \"linecolor\": \"white\", \"minorgridcolor\": \"white\", \"startlinecolor\": \"#2a3f5f\"}, \"type\": \"carpet\"}], \"choropleth\": [{\"colorbar\": {\"outlinewidth\": 0, \"ticks\": \"\"}, \"type\": \"choropleth\"}], \"contour\": [{\"colorbar\": {\"outlinewidth\": 0, \"ticks\": \"\"}, \"colorscale\": [[0.0, \"#0d0887\"], [0.1111111111111111, \"#46039f\"], [0.2222222222222222, \"#7201a8\"], [0.3333333333333333, \"#9c179e\"], [0.4444444444444444, \"#bd3786\"], [0.5555555555555556, \"#d8576b\"], [0.6666666666666666, \"#ed7953\"], [0.7777777777777778, \"#fb9f3a\"], [0.8888888888888888, \"#fdca26\"], [1.0, \"#f0f921\"]], \"type\": \"contour\"}], \"contourcarpet\": [{\"colorbar\": {\"outlinewidth\": 0, \"ticks\": \"\"}, \"type\": \"contourcarpet\"}], \"heatmap\": [{\"colorbar\": {\"outlinewidth\": 0, \"ticks\": \"\"}, \"colorscale\": [[0.0, \"#0d0887\"], [0.1111111111111111, \"#46039f\"], [0.2222222222222222, \"#7201a8\"], [0.3333333333333333, \"#9c179e\"], [0.4444444444444444, \"#bd3786\"], [0.5555555555555556, \"#d8576b\"], [0.6666666666666666, \"#ed7953\"], [0.7777777777777778, \"#fb9f3a\"], [0.8888888888888888, \"#fdca26\"], [1.0, \"#f0f921\"]], \"type\": \"heatmap\"}], \"heatmapgl\": [{\"colorbar\": {\"outlinewidth\": 0, \"ticks\": \"\"}, \"colorscale\": [[0.0, \"#0d0887\"], [0.1111111111111111, \"#46039f\"], [0.2222222222222222, \"#7201a8\"], [0.3333333333333333, \"#9c179e\"], [0.4444444444444444, \"#bd3786\"], [0.5555555555555556, \"#d8576b\"], [0.6666666666666666, \"#ed7953\"], [0.7777777777777778, \"#fb9f3a\"], [0.8888888888888888, \"#fdca26\"], [1.0, \"#f0f921\"]], \"type\": \"heatmapgl\"}], \"histogram\": [{\"marker\": {\"colorbar\": {\"outlinewidth\": 0, \"ticks\": \"\"}}, \"type\": \"histogram\"}], \"histogram2d\": [{\"colorbar\": {\"outlinewidth\": 0, \"ticks\": \"\"}, \"colorscale\": [[0.0, \"#0d0887\"], [0.1111111111111111, \"#46039f\"], [0.2222222222222222, \"#7201a8\"], [0.3333333333333333, \"#9c179e\"], [0.4444444444444444, \"#bd3786\"], [0.5555555555555556, \"#d8576b\"], [0.6666666666666666, \"#ed7953\"], [0.7777777777777778, \"#fb9f3a\"], [0.8888888888888888, \"#fdca26\"], [1.0, \"#f0f921\"]], \"type\": \"histogram2d\"}], \"histogram2dcontour\": [{\"colorbar\": {\"outlinewidth\": 0, \"ticks\": \"\"}, \"colorscale\": [[0.0, \"#0d0887\"], [0.1111111111111111, \"#46039f\"], [0.2222222222222222, \"#7201a8\"], [0.3333333333333333, \"#9c179e\"], [0.4444444444444444, \"#bd3786\"], [0.5555555555555556, \"#d8576b\"], [0.6666666666666666, \"#ed7953\"], [0.7777777777777778, \"#fb9f3a\"], [0.8888888888888888, \"#fdca26\"], [1.0, \"#f0f921\"]], \"type\": \"histogram2dcontour\"}], \"mesh3d\": [{\"colorbar\": {\"outlinewidth\": 0, \"ticks\": \"\"}, \"type\": \"mesh3d\"}], \"parcoords\": [{\"line\": {\"colorbar\": {\"outlinewidth\": 0, \"ticks\": \"\"}}, \"type\": \"parcoords\"}], \"pie\": [{\"automargin\": true, \"type\": \"pie\"}], \"scatter\": [{\"marker\": {\"colorbar\": {\"outlinewidth\": 0, \"ticks\": \"\"}}, \"type\": \"scatter\"}], \"scatter3d\": [{\"line\": {\"colorbar\": {\"outlinewidth\": 0, \"ticks\": \"\"}}, \"marker\": {\"colorbar\": {\"outlinewidth\": 0, \"ticks\": \"\"}}, \"type\": \"scatter3d\"}], \"scattercarpet\": [{\"marker\": {\"colorbar\": {\"outlinewidth\": 0, \"ticks\": \"\"}}, \"type\": \"scattercarpet\"}], \"scattergeo\": [{\"marker\": {\"colorbar\": {\"outlinewidth\": 0, \"ticks\": \"\"}}, \"type\": \"scattergeo\"}], \"scattergl\": [{\"marker\": {\"colorbar\": {\"outlinewidth\": 0, \"ticks\": \"\"}}, \"type\": \"scattergl\"}], \"scattermapbox\": [{\"marker\": {\"colorbar\": {\"outlinewidth\": 0, \"ticks\": \"\"}}, \"type\": \"scattermapbox\"}], \"scatterpolar\": [{\"marker\": {\"colorbar\": {\"outlinewidth\": 0, \"ticks\": \"\"}}, \"type\": \"scatterpolar\"}], \"scatterpolargl\": [{\"marker\": {\"colorbar\": {\"outlinewidth\": 0, \"ticks\": \"\"}}, \"type\": \"scatterpolargl\"}], \"scatterternary\": [{\"marker\": {\"colorbar\": {\"outlinewidth\": 0, \"ticks\": \"\"}}, \"type\": \"scatterternary\"}], \"surface\": [{\"colorbar\": {\"outlinewidth\": 0, \"ticks\": \"\"}, \"colorscale\": [[0.0, \"#0d0887\"], [0.1111111111111111, \"#46039f\"], [0.2222222222222222, \"#7201a8\"], [0.3333333333333333, \"#9c179e\"], [0.4444444444444444, \"#bd3786\"], [0.5555555555555556, \"#d8576b\"], [0.6666666666666666, \"#ed7953\"], [0.7777777777777778, \"#fb9f3a\"], [0.8888888888888888, \"#fdca26\"], [1.0, \"#f0f921\"]], \"type\": \"surface\"}], \"table\": [{\"cells\": {\"fill\": {\"color\": \"#EBF0F8\"}, \"line\": {\"color\": \"white\"}}, \"header\": {\"fill\": {\"color\": \"#C8D4E3\"}, \"line\": {\"color\": \"white\"}}, \"type\": \"table\"}]}, \"layout\": {\"annotationdefaults\": {\"arrowcolor\": \"#2a3f5f\", \"arrowhead\": 0, \"arrowwidth\": 1}, \"autotypenumbers\": \"strict\", \"coloraxis\": {\"colorbar\": {\"outlinewidth\": 0, \"ticks\": \"\"}}, \"colorscale\": {\"diverging\": [[0, \"#8e0152\"], [0.1, \"#c51b7d\"], [0.2, \"#de77ae\"], [0.3, \"#f1b6da\"], [0.4, \"#fde0ef\"], [0.5, \"#f7f7f7\"], [0.6, \"#e6f5d0\"], [0.7, \"#b8e186\"], [0.8, \"#7fbc41\"], [0.9, \"#4d9221\"], [1, \"#276419\"]], \"sequential\": [[0.0, \"#0d0887\"], [0.1111111111111111, \"#46039f\"], [0.2222222222222222, \"#7201a8\"], [0.3333333333333333, \"#9c179e\"], [0.4444444444444444, \"#bd3786\"], [0.5555555555555556, \"#d8576b\"], [0.6666666666666666, \"#ed7953\"], [0.7777777777777778, \"#fb9f3a\"], [0.8888888888888888, \"#fdca26\"], [1.0, \"#f0f921\"]], \"sequentialminus\": [[0.0, \"#0d0887\"], [0.1111111111111111, \"#46039f\"], [0.2222222222222222, \"#7201a8\"], [0.3333333333333333, \"#9c179e\"], [0.4444444444444444, \"#bd3786\"], [0.5555555555555556, \"#d8576b\"], [0.6666666666666666, \"#ed7953\"], [0.7777777777777778, \"#fb9f3a\"], [0.8888888888888888, \"#fdca26\"], [1.0, \"#f0f921\"]]}, \"colorway\": [\"#636efa\", \"#EF553B\", \"#00cc96\", \"#ab63fa\", \"#FFA15A\", \"#19d3f3\", \"#FF6692\", \"#B6E880\", \"#FF97FF\", \"#FECB52\"], \"font\": {\"color\": \"#2a3f5f\"}, \"geo\": {\"bgcolor\": \"white\", \"lakecolor\": \"white\", \"landcolor\": \"#E5ECF6\", \"showlakes\": true, \"showland\": true, \"subunitcolor\": \"white\"}, \"hoverlabel\": {\"align\": \"left\"}, \"hovermode\": \"closest\", \"mapbox\": {\"style\": \"light\"}, \"paper_bgcolor\": \"white\", \"plot_bgcolor\": \"#E5ECF6\", \"polar\": {\"angularaxis\": {\"gridcolor\": \"white\", \"linecolor\": \"white\", \"ticks\": \"\"}, \"bgcolor\": \"#E5ECF6\", \"radialaxis\": {\"gridcolor\": \"white\", \"linecolor\": \"white\", \"ticks\": \"\"}}, \"scene\": {\"xaxis\": {\"backgroundcolor\": \"#E5ECF6\", \"gridcolor\": \"white\", \"gridwidth\": 2, \"linecolor\": \"white\", \"showbackground\": true, \"ticks\": \"\", \"zerolinecolor\": \"white\"}, \"yaxis\": {\"backgroundcolor\": \"#E5ECF6\", \"gridcolor\": \"white\", \"gridwidth\": 2, \"linecolor\": \"white\", \"showbackground\": true, \"ticks\": \"\", \"zerolinecolor\": \"white\"}, \"zaxis\": {\"backgroundcolor\": \"#E5ECF6\", \"gridcolor\": \"white\", \"gridwidth\": 2, \"linecolor\": \"white\", \"showbackground\": true, \"ticks\": \"\", \"zerolinecolor\": \"white\"}}, \"shapedefaults\": {\"line\": {\"color\": \"#2a3f5f\"}}, \"ternary\": {\"aaxis\": {\"gridcolor\": \"white\", \"linecolor\": \"white\", \"ticks\": \"\"}, \"baxis\": {\"gridcolor\": \"white\", \"linecolor\": \"white\", \"ticks\": \"\"}, \"bgcolor\": \"#E5ECF6\", \"caxis\": {\"gridcolor\": \"white\", \"linecolor\": \"white\", \"ticks\": \"\"}}, \"title\": {\"x\": 0.05}, \"xaxis\": {\"automargin\": true, \"gridcolor\": \"white\", \"linecolor\": \"white\", \"ticks\": \"\", \"title\": {\"standoff\": 15}, \"zerolinecolor\": \"white\", \"zerolinewidth\": 2}, \"yaxis\": {\"automargin\": true, \"gridcolor\": \"white\", \"linecolor\": \"white\", \"ticks\": \"\", \"title\": {\"standoff\": 15}, \"zerolinecolor\": \"white\", \"zerolinewidth\": 2}}}},                        {\"responsive\": true}                    ).then(function(){\n",
       "                            \n",
       "var gd = document.getElementById('3a578b66-f0cd-4466-9e10-c606a00b3452');\n",
       "var x = new MutationObserver(function (mutations, observer) {{\n",
       "        var display = window.getComputedStyle(gd).display;\n",
       "        if (!display || display === 'none') {{\n",
       "            console.log([gd, 'removed!']);\n",
       "            Plotly.purge(gd);\n",
       "            observer.disconnect();\n",
       "        }}\n",
       "}});\n",
       "\n",
       "// Listen for the removal of the full notebook cells\n",
       "var notebookContainer = gd.closest('#notebook-container');\n",
       "if (notebookContainer) {{\n",
       "    x.observe(notebookContainer, {childList: true});\n",
       "}}\n",
       "\n",
       "// Listen for the clearing of the current output cell\n",
       "var outputEl = gd.closest('.output');\n",
       "if (outputEl) {{\n",
       "    x.observe(outputEl, {childList: true});\n",
       "}}\n",
       "\n",
       "                        })                };                });            </script>        </div>"
      ]
     },
     "metadata": {},
     "output_type": "display_data"
    }
   ],
   "source": [
    "line_plot = go.Figure()\n",
    "line_plot.add_trace(go.Scatter(x = mase_final_results.index, y =mase_final_results['Grid'], name = \"Using grid level time series\"))\n",
    "line_plot.add_trace(go.Scatter(x = mase_final_results.index, y =mase_final_results['TL - Aggregated'], name = \"Using transmission Zone level time series\"))\n",
    "line_plot.add_trace(go.Scatter(x = mase_final_results.index, y =mase_final_results['SUB - Aggregated'], name = \"Using substation level time series\"))\n",
    "line_plot.add_trace(go.Scatter(x = mase_final_results.index, y =mase_final_results['PC - Aggregated'], name = \"Using postcode level time series\"))\n",
    "line_plot.add_trace(go.Scatter(x = nrmse_final_results.index, y =mase_final_results['Site - Aggregated'], name = \"Using site level time series\"))\n"
   ]
  },
  {
   "cell_type": "code",
   "execution_count": 72,
   "metadata": {},
   "outputs": [
    {
     "data": {
      "text/plain": [
       "26"
      ]
     },
     "execution_count": 72,
     "metadata": {},
     "output_type": "execute_result"
    }
   ],
   "source": [
    "# create a dataframe\n",
    "grid_results = grid_error\n",
    "grid_results.extend(grid_error_tcn)\n",
    "grid_results.extend(grid_error_arima)\n",
    "grid_results.extend(grid_error_tbats)\n",
    "grid_results.extend(grid_error_prophet)\n",
    "grid_results.extend([grid_error_naive[0]])\n",
    "len(grid_results)"
   ]
  },
  {
   "cell_type": "code",
   "execution_count": 73,
   "metadata": {},
   "outputs": [],
   "source": [
    "column_names = ['LSTM - Grid', 'LSTM - TL aggregated', 'LSTM - SUB aggregated', 'LSTM - PC aggregated', \n",
    "                'LSTM - Site aggregated', 'CNN - Grid', 'CNN - TL aggregated', 'CNN - SUB aggregated', \n",
    "                'CNN - PC aggregated', 'CNN - Site aggregated', 'AutoARIMA - Grid', 'AutoARIMA - TL aggregated', \n",
    "                'AutoARIMA - SUB aggregated', \n",
    "                'AutoARIMA - PC aggregated', 'AutoARIMA - Site aggregated', 'TBATS - Grid', \n",
    "                'TBATS - TL aggregated', 'TBATS - SUB aggregated', \n",
    "                'TBATS - PC aggregated', 'TBATS - Site aggregated','Prophet - Grid', \n",
    "                'Prophet - TL aggregated', 'Prophet - SUB aggregated', \n",
    "                'Prophet - PC aggregated', 'Prophet - Site aggregated','Seasonal Naive']\n",
    "\n",
    "grid_level_fc_accuracy = pd.DataFrame(grid_results, index = column_names, columns = ['Grid Forecasts mean MASE'])"
   ]
  },
  {
   "cell_type": "code",
   "execution_count": 74,
   "metadata": {},
   "outputs": [],
   "source": [
    "def highlight_min(s):\n",
    "    is_min = grid_level_fc_accuracy.isin(grid_level_fc_accuracy.nsmallest(3, 'Grid Forecasts mean MASE')).values[:,0]\n",
    "    return ['background-color: lightgreen' if v else '' for v in is_min]"
   ]
  },
  {
   "cell_type": "code",
   "execution_count": 75,
   "metadata": {},
   "outputs": [
    {
     "data": {
      "text/html": [
       "<style  type=\"text/css\" >\n",
       "#T_c3b24_row4_col0,#T_c3b24_row13_col0,#T_c3b24_row14_col0{\n",
       "            background-color:  lightgreen;\n",
       "        }</style><table id=\"T_c3b24_\" ><thead>    <tr>        <th class=\"blank level0\" ></th>        <th class=\"col_heading level0 col0\" >Grid Forecasts mean MASE</th>    </tr></thead><tbody>\n",
       "                <tr>\n",
       "                        <th id=\"T_c3b24_level0_row0\" class=\"row_heading level0 row0\" >LSTM - Grid</th>\n",
       "                        <td id=\"T_c3b24_row0_col0\" class=\"data row0 col0\" >1.468234</td>\n",
       "            </tr>\n",
       "            <tr>\n",
       "                        <th id=\"T_c3b24_level0_row1\" class=\"row_heading level0 row1\" >LSTM - TL aggregated</th>\n",
       "                        <td id=\"T_c3b24_row1_col0\" class=\"data row1 col0\" >1.416184</td>\n",
       "            </tr>\n",
       "            <tr>\n",
       "                        <th id=\"T_c3b24_level0_row2\" class=\"row_heading level0 row2\" >LSTM - SUB aggregated</th>\n",
       "                        <td id=\"T_c3b24_row2_col0\" class=\"data row2 col0\" >1.330124</td>\n",
       "            </tr>\n",
       "            <tr>\n",
       "                        <th id=\"T_c3b24_level0_row3\" class=\"row_heading level0 row3\" >LSTM - PC aggregated</th>\n",
       "                        <td id=\"T_c3b24_row3_col0\" class=\"data row3 col0\" >1.123227</td>\n",
       "            </tr>\n",
       "            <tr>\n",
       "                        <th id=\"T_c3b24_level0_row4\" class=\"row_heading level0 row4\" >LSTM - Site aggregated</th>\n",
       "                        <td id=\"T_c3b24_row4_col0\" class=\"data row4 col0\" >1.013093</td>\n",
       "            </tr>\n",
       "            <tr>\n",
       "                        <th id=\"T_c3b24_level0_row5\" class=\"row_heading level0 row5\" >CNN - Grid</th>\n",
       "                        <td id=\"T_c3b24_row5_col0\" class=\"data row5 col0\" >1.150049</td>\n",
       "            </tr>\n",
       "            <tr>\n",
       "                        <th id=\"T_c3b24_level0_row6\" class=\"row_heading level0 row6\" >CNN - TL aggregated</th>\n",
       "                        <td id=\"T_c3b24_row6_col0\" class=\"data row6 col0\" >1.169436</td>\n",
       "            </tr>\n",
       "            <tr>\n",
       "                        <th id=\"T_c3b24_level0_row7\" class=\"row_heading level0 row7\" >CNN - SUB aggregated</th>\n",
       "                        <td id=\"T_c3b24_row7_col0\" class=\"data row7 col0\" >1.171721</td>\n",
       "            </tr>\n",
       "            <tr>\n",
       "                        <th id=\"T_c3b24_level0_row8\" class=\"row_heading level0 row8\" >CNN - PC aggregated</th>\n",
       "                        <td id=\"T_c3b24_row8_col0\" class=\"data row8 col0\" >1.198341</td>\n",
       "            </tr>\n",
       "            <tr>\n",
       "                        <th id=\"T_c3b24_level0_row9\" class=\"row_heading level0 row9\" >CNN - Site aggregated</th>\n",
       "                        <td id=\"T_c3b24_row9_col0\" class=\"data row9 col0\" >1.169582</td>\n",
       "            </tr>\n",
       "            <tr>\n",
       "                        <th id=\"T_c3b24_level0_row10\" class=\"row_heading level0 row10\" >AutoARIMA - Grid</th>\n",
       "                        <td id=\"T_c3b24_row10_col0\" class=\"data row10 col0\" >1.054217</td>\n",
       "            </tr>\n",
       "            <tr>\n",
       "                        <th id=\"T_c3b24_level0_row11\" class=\"row_heading level0 row11\" >AutoARIMA - TL aggregated</th>\n",
       "                        <td id=\"T_c3b24_row11_col0\" class=\"data row11 col0\" >1.023268</td>\n",
       "            </tr>\n",
       "            <tr>\n",
       "                        <th id=\"T_c3b24_level0_row12\" class=\"row_heading level0 row12\" >AutoARIMA - SUB aggregated</th>\n",
       "                        <td id=\"T_c3b24_row12_col0\" class=\"data row12 col0\" >1.024157</td>\n",
       "            </tr>\n",
       "            <tr>\n",
       "                        <th id=\"T_c3b24_level0_row13\" class=\"row_heading level0 row13\" >AutoARIMA - PC aggregated</th>\n",
       "                        <td id=\"T_c3b24_row13_col0\" class=\"data row13 col0\" >0.929387</td>\n",
       "            </tr>\n",
       "            <tr>\n",
       "                        <th id=\"T_c3b24_level0_row14\" class=\"row_heading level0 row14\" >AutoARIMA - Site aggregated</th>\n",
       "                        <td id=\"T_c3b24_row14_col0\" class=\"data row14 col0\" >1.008491</td>\n",
       "            </tr>\n",
       "            <tr>\n",
       "                        <th id=\"T_c3b24_level0_row15\" class=\"row_heading level0 row15\" >TBATS - Grid</th>\n",
       "                        <td id=\"T_c3b24_row15_col0\" class=\"data row15 col0\" >1.874828</td>\n",
       "            </tr>\n",
       "            <tr>\n",
       "                        <th id=\"T_c3b24_level0_row16\" class=\"row_heading level0 row16\" >TBATS - TL aggregated</th>\n",
       "                        <td id=\"T_c3b24_row16_col0\" class=\"data row16 col0\" >1.749113</td>\n",
       "            </tr>\n",
       "            <tr>\n",
       "                        <th id=\"T_c3b24_level0_row17\" class=\"row_heading level0 row17\" >TBATS - SUB aggregated</th>\n",
       "                        <td id=\"T_c3b24_row17_col0\" class=\"data row17 col0\" >1.706391</td>\n",
       "            </tr>\n",
       "            <tr>\n",
       "                        <th id=\"T_c3b24_level0_row18\" class=\"row_heading level0 row18\" >TBATS - PC aggregated</th>\n",
       "                        <td id=\"T_c3b24_row18_col0\" class=\"data row18 col0\" >1.543742</td>\n",
       "            </tr>\n",
       "            <tr>\n",
       "                        <th id=\"T_c3b24_level0_row19\" class=\"row_heading level0 row19\" >TBATS - Site aggregated</th>\n",
       "                        <td id=\"T_c3b24_row19_col0\" class=\"data row19 col0\" >1.683219</td>\n",
       "            </tr>\n",
       "            <tr>\n",
       "                        <th id=\"T_c3b24_level0_row20\" class=\"row_heading level0 row20\" >Prophet - Grid</th>\n",
       "                        <td id=\"T_c3b24_row20_col0\" class=\"data row20 col0\" >1.962394</td>\n",
       "            </tr>\n",
       "            <tr>\n",
       "                        <th id=\"T_c3b24_level0_row21\" class=\"row_heading level0 row21\" >Prophet - TL aggregated</th>\n",
       "                        <td id=\"T_c3b24_row21_col0\" class=\"data row21 col0\" >1.966570</td>\n",
       "            </tr>\n",
       "            <tr>\n",
       "                        <th id=\"T_c3b24_level0_row22\" class=\"row_heading level0 row22\" >Prophet - SUB aggregated</th>\n",
       "                        <td id=\"T_c3b24_row22_col0\" class=\"data row22 col0\" >1.966532</td>\n",
       "            </tr>\n",
       "            <tr>\n",
       "                        <th id=\"T_c3b24_level0_row23\" class=\"row_heading level0 row23\" >Prophet - PC aggregated</th>\n",
       "                        <td id=\"T_c3b24_row23_col0\" class=\"data row23 col0\" >1.080398</td>\n",
       "            </tr>\n",
       "            <tr>\n",
       "                        <th id=\"T_c3b24_level0_row24\" class=\"row_heading level0 row24\" >Prophet - Site aggregated</th>\n",
       "                        <td id=\"T_c3b24_row24_col0\" class=\"data row24 col0\" >1.089936</td>\n",
       "            </tr>\n",
       "            <tr>\n",
       "                        <th id=\"T_c3b24_level0_row25\" class=\"row_heading level0 row25\" >Seasonal Naive</th>\n",
       "                        <td id=\"T_c3b24_row25_col0\" class=\"data row25 col0\" >1.079392</td>\n",
       "            </tr>\n",
       "    </tbody></table>"
      ],
      "text/plain": [
       "<pandas.io.formats.style.Styler at 0x130292e20>"
      ]
     },
     "execution_count": 75,
     "metadata": {},
     "output_type": "execute_result"
    }
   ],
   "source": [
    "grid_level_fc_accuracy.style.apply(highlight_min)"
   ]
  },
  {
   "cell_type": "code",
   "execution_count": 76,
   "metadata": {},
   "outputs": [],
   "source": [
    "final_result_csv = grid_level_fc_accuracy.round(3)"
   ]
  },
  {
   "cell_type": "code",
   "execution_count": 77,
   "metadata": {},
   "outputs": [],
   "source": [
    "final_result_csv.to_csv('final_results.csv')"
   ]
  },
  {
   "cell_type": "code",
   "execution_count": 80,
   "metadata": {},
   "outputs": [
    {
     "data": {
      "application/vnd.plotly.v1+json": {
       "config": {
        "plotlyServerURL": "https://plot.ly"
       },
       "data": [
        {
         "boxmean": true,
         "name": "LSTM - Grid",
         "type": "box",
         "y": [
          1.2354774395423362,
          1.117142891601437,
          0.7993274246742958,
          2.118379514611731,
          1.3654891161006817,
          1.6989868219458528,
          2.136336236493712,
          1.2464063998995059,
          1.2955410704734338,
          0.7400306434417475,
          0.7036381632138295,
          1.1393532477331108,
          1.926683739288961,
          1.8386192879132264,
          1.770227336406372,
          0.8806028921367005,
          1.4034838467669737,
          0.7868948593165568,
          2.2941460743782587,
          1.6787664154472353,
          1.9676525929828605,
          1.2715129003364714,
          1.3142094873838912,
          0.8946901048430035,
          0.7833009795098324,
          1.1852053935413431,
          1.4496242461690916,
          1.3694847225854314,
          3.5833976613054728,
          2.8223650715695596,
          1.2001564761117602,
          0.6941539527108913,
          1.5868498410255636,
          1.5060191221833255,
          1.8758818283984922,
          1.1764035605562444
         ]
        },
        {
         "boxmean": true,
         "name": "LSTM - TL aggregated",
         "type": "box",
         "y": [
          1.2565060174497165,
          1.003259752296023,
          1.2863189237892638,
          2.2745277358444524,
          1.1527365698097,
          1.718963869129302,
          1.3909306502685048,
          1.127812515628105,
          1.0007819748129587,
          0.555744964230217,
          0.8820445271138541,
          1.519519976709057,
          2.3655747096350397,
          1.7161247618088722,
          1.662569362263201,
          0.6589237736292282,
          1.4270339797048657,
          0.903337934543747,
          1.96811342900828,
          2.1383426450110496,
          1.4914373012167537,
          0.9283073590485752,
          1.1710828531933752,
          0.6011435568379255,
          0.8316492898181294,
          1.6219005293611806,
          1.144393590629725,
          1.3969034150507853,
          3.722774605738128,
          3.2920229653791826,
          1.2303582793213048,
          0.8379174125207524,
          1.281825271407646,
          1.0582987377452036,
          1.5627522189121894,
          0.8006837295168067
         ]
        },
        {
         "boxmean": true,
         "name": "LSTM - SUB aggregated",
         "type": "box",
         "y": [
          1.3914132828410177,
          0.8787285641898317,
          1.2166071479805718,
          2.283771801539802,
          0.5873153658261671,
          1.3814325977464235,
          1.453705104498556,
          1.3114169459776304,
          0.8885321798222752,
          0.577090592745834,
          0.6888111245462561,
          1.0275077873774585,
          2.6148774327178,
          1.0895104135537745,
          1.743979371076874,
          0.6798350360620242,
          1.2461438018094577,
          0.9487645754482197,
          2.0500196225886547,
          2.0298690376929454,
          0.8560991992685263,
          0.9915283287104387,
          1.02827109976725,
          0.6774028899284437,
          0.9732806155210634,
          1.177147311446156,
          0.8536203257890184,
          1.4718119696082668,
          3.815815020808228,
          3.077535796164642,
          1.2730124776556555,
          0.6585522368834437,
          0.8735041981801795,
          1.0611927726200003,
          1.802482186360669,
          1.2038896697690948
         ]
        },
        {
         "boxmean": true,
         "name": "LSTM - PC aggregated",
         "type": "box",
         "y": [
          1.0894238249953776,
          1.3551896846981977,
          0.8070394741900427,
          1.588776901177034,
          0.3816785319609469,
          1.366728322573813,
          1.603846951943192,
          0.8337623685299966,
          1.142932343021481,
          0.5544579812765232,
          0.7759105060865794,
          1.2258017963201289,
          1.3612243215956312,
          1.1449052037473042,
          1.4545886642479005,
          1.028489376787211,
          1.5960905855156367,
          0.7219746016511266,
          0.7891658590650913,
          1.2858377067224638,
          1.040194110924839,
          0.8356440025250256,
          1.2195274863113088,
          0.8773054857271695,
          0.6049531396769853,
          0.8777933708548463,
          1.4988564190452103,
          1.4468416260871868,
          3.2294684458335907,
          1.567007615063325,
          1.191299236183136,
          0.579310759953629,
          0.5716247115280282,
          0.9568416722276819,
          1.2301474640426455,
          0.60153155887528
         ]
        },
        {
         "boxmean": true,
         "name": "LSTM - Site aggregated",
         "type": "box",
         "y": [
          1.0942807244706505,
          1.1121656808704974,
          0.7514490395081358,
          1.2383249227908735,
          0.389738391541274,
          1.283201638126297,
          1.5094405203124475,
          0.8908982778692865,
          0.9507719250197556,
          0.5203378730979481,
          0.5658775176344965,
          1.0365075680635614,
          1.1634778223960995,
          0.9768067294190235,
          1.495981949555343,
          0.7517060041055926,
          1.4814083900667903,
          0.6569541604481436,
          0.7400435341934389,
          1.0502338379640266,
          1.0596142222649196,
          0.9349651046122042,
          0.9063558557419376,
          0.6782018366280195,
          0.5229285448267803,
          0.6046263274117333,
          1.1000519994818918,
          0.8467439801576508,
          3.1087308825001925,
          1.4386938735181671,
          1.5673356665009852,
          0.5494438485068514,
          0.5332019762299115,
          0.893112772303674,
          1.34163809148877,
          0.7261140466407794
         ]
        },
        {
         "boxmean": true,
         "name": "CNN - Grid",
         "type": "box",
         "y": [
          1.2714278154834477,
          0.7990954559089979,
          0.9093162473503432,
          1.0859799403622379,
          0.3402475439709642,
          0.6797118642902824,
          1.1907457623161533,
          0.7926797472248664,
          0.7108862731187087,
          0.8361117465032811,
          0.6701892623606502,
          0.9786443896778498,
          0.9612770608423199,
          0.7199984195554417,
          1.602749851918091,
          0.7665714788125165,
          1.3371723441984695,
          1.2335489835006788,
          1.0690424204162734,
          1.03664744001746,
          1.0313831828282949,
          0.4390828882049444,
          0.9521070224742884,
          0.6971254572651662,
          0.6163582767930187,
          0.5337485371112842,
          1.0333898881231454,
          0.6588187614979745,
          4.48170185394435,
          3.572149670891403,
          1.6991107591387298,
          1.3894278733798602,
          0.9170627234027267,
          0.7011541163324838,
          2.573620377332896,
          1.1134612948580511
         ]
        },
        {
         "boxmean": true,
         "name": "CNN - TL aggregated",
         "type": "box",
         "y": [
          1.214646944464766,
          0.8424497885215494,
          0.8769546399496427,
          1.1075982704254064,
          0.26897753559519627,
          0.7470271070351288,
          1.3229593142762113,
          0.7661567964985438,
          0.7371064402421486,
          0.7982080952545026,
          0.7009281670651232,
          1.0220286068689586,
          1.0559376995068768,
          0.7972266087344534,
          1.621980577016951,
          0.7987399402285341,
          1.3712804193765107,
          1.166566931574826,
          1.0805090655555618,
          1.110325409407052,
          1.1463704283450193,
          0.4046694004089354,
          0.9571472416865161,
          0.7150360009072221,
          0.5728035130419069,
          0.5664299920168805,
          1.0943904582810842,
          0.649273777181498,
          4.424160500815578,
          3.6922986735462127,
          1.534693125837627,
          1.3239684743356868,
          0.9142058987326658,
          0.7364633240910817,
          2.6204476128870993,
          1.3397324799384929
         ]
        },
        {
         "boxmean": true,
         "name": "CNN - SUB aggregated",
         "type": "box",
         "y": [
          1.2103782739845683,
          0.8429075729826047,
          0.8792876383350626,
          1.1134150894691996,
          0.2656450158038337,
          0.7530768092774204,
          1.332913078051424,
          0.7661680724335371,
          0.74117755260692,
          0.7973252635492819,
          0.7023530159585343,
          1.0254777148899878,
          1.0646654446803787,
          0.8032671060735954,
          1.6203806223900616,
          0.79744093766241,
          1.3780128975055053,
          1.1648551857460243,
          1.081837140111745,
          1.1154207666915092,
          1.154442244085972,
          0.4064912590688314,
          0.962729232857409,
          0.7189823178717635,
          0.5688818404961014,
          0.5691967279477799,
          1.1026497704761613,
          0.6548335359673613,
          4.422412443377644,
          3.691187548313093,
          1.5314466051264435,
          1.3245361694914384,
          0.9148148640932888,
          0.7349373315957732,
          2.6225372013697097,
          1.3458848945648256
         ]
        },
        {
         "boxmean": true,
         "name": "CNN - PC aggregated",
         "type": "box",
         "y": [
          1.295754107810101,
          0.9818408503131677,
          1.0452517178365195,
          1.3170372780813904,
          1.1099279213710316,
          0.8515100443968558,
          1.0732701699548233,
          1.9005791002886547,
          1.5862482831429243,
          2.0162913440329917,
          0.8173854965608477,
          0.7255406923364156,
          0.6153080121263811,
          0.3019170332738032,
          1.501264096989632,
          0.8891040994113695,
          1.8961871286979248,
          0.6650769813451477,
          0.4621367183242228,
          0.4614677091400289,
          0.5723090766348455,
          1.4608220825091063,
          1.7174636230917888,
          2.159101791814472,
          1.8725012573556061,
          0.7595642771197503,
          0.6946439602692236,
          1.2399929825400922,
          3.5141371557226315,
          2.119037362118866,
          1.0267865445617066,
          0.7112449526701872,
          0.5130418519640336,
          0.8409656204834348,
          0.975376849350578,
          1.4501873523027766
         ]
        },
        {
         "boxmean": true,
         "name": "CNN - Site aggregated",
         "type": "box",
         "y": [
          0.6538310785078754,
          1.046438712092186,
          0.8049860488142465,
          1.2964887269614687,
          1.176648741122935,
          0.8256446984228064,
          0.9553337501109098,
          1.572511101530005,
          1.2736985640961829,
          1.6708474686354309,
          0.9409972157013435,
          0.8849406005888776,
          0.6899467910006284,
          0.3244461774416539,
          1.2770071784045818,
          0.9350304266850575,
          1.8011695929486582,
          0.7575111639753394,
          0.5912924860656695,
          0.5449888803536309,
          0.8691329905721721,
          1.3011878604525664,
          1.6748161556311587,
          2.1603318317674103,
          2.101768593145337,
          0.8807060849050528,
          0.9400879757965379,
          1.2481332347145602,
          3.29597337905112,
          2.035078478018573,
          1.0377693121293297,
          0.8106265845634821,
          0.49981769409885707,
          0.9964511112749264,
          0.7817455425764003,
          1.4475491727192575
         ]
        },
        {
         "boxmean": true,
         "name": "AutoARIMA - Grid",
         "type": "box",
         "y": [
          1.6853576949368594,
          1.2614247027541112,
          0.6884773300889144,
          0.789304499739047,
          0.5704930601472075,
          0.5211776827953404,
          0.7437049840271515,
          0.7253299905984498,
          0.49963850007962224,
          0.9985240152418069,
          0.9814577478972913,
          0.5675644356173761,
          0.6714383294132533,
          0.6176419140374961,
          1.4917734646469665,
          1.0892238527385738,
          1.5783255893347,
          0.6667860032366376,
          0.8378419462863471,
          0.829941675957614,
          0.9009290825713053,
          0.432213043343397,
          0.7598155958418239,
          0.45140613190211604,
          0.7322972643647959,
          0.5995416240429228,
          0.8925837127925106,
          0.6715439740415531,
          4.462695509950671,
          4.802625806456639,
          0.6022730672793044,
          0.8843115609470243,
          0.8616507722807992,
          0.656635754739094,
          1.8473987737292747,
          0.5784779230164391
         ]
        },
        {
         "boxmean": true,
         "name": "AutoARIMA - TL aggregated",
         "type": "box",
         "y": [
          1.8745646205205138,
          1.0835049877466334,
          0.6357742184356338,
          0.6928529778066556,
          0.6869784872431332,
          0.57211055420136,
          0.6139999809733766,
          0.9054582183606087,
          0.5665766558849897,
          1.109991936393243,
          0.585108324933742,
          0.9049575747893428,
          0.5385268913213943,
          0.4560654004762588,
          1.810641174553524,
          0.9648709637285923,
          1.4103327722163228,
          0.6220011942518164,
          0.7692756489590741,
          0.5899954734620854,
          0.7369602124604077,
          0.6652238653068239,
          0.7641144282027618,
          0.4399931373884252,
          0.8196358321191842,
          0.638553982467457,
          0.8421906356500617,
          0.7304139016435538,
          4.3226291752018335,
          3.4842320938344313,
          1.1904457869499177,
          0.8626696273943174,
          0.9938217048275692,
          0.7336226138787211,
          1.7284205260164325,
          0.49114364999295085
         ]
        },
        {
         "boxmean": true,
         "name": "AutoARIMA - SUB aggregated",
         "type": "box",
         "y": [
          1.6672383811196254,
          1.2599621619234436,
          0.7071800861988409,
          0.7759370010949451,
          0.6481314848804709,
          0.554363005384297,
          0.7394276957435336,
          0.7346092624342436,
          0.5239704006123203,
          1.0426982471058863,
          0.6805209676804003,
          0.7183898318873914,
          0.6200768368547032,
          0.5754932921247854,
          1.6016411997977167,
          1.0489758676873442,
          1.6232273234316055,
          0.7293947497952125,
          0.822160007039621,
          0.7076522598953086,
          0.833123442264527,
          0.5176909105678976,
          0.7722263194464019,
          0.4816601747765691,
          0.7493877257712294,
          0.6042482575260125,
          0.8237508447645941,
          0.7099024867512581,
          4.299909757032919,
          4.43519417361959,
          0.48571593915327405,
          1.007423080725379,
          0.6027460961647506,
          0.7157867131317346,
          1.6268644318764347,
          0.4229740444387623
         ]
        },
        {
         "boxmean": true,
         "name": "AutoARIMA - PC aggregated",
         "type": "box",
         "y": [
          0.9039789425533031,
          0.35419417712580836,
          1.0311292617876673,
          0.6223665494202419,
          0.7427185543610031,
          1.6601331348467296,
          0.520171114597606,
          1.034804220722936,
          0.7144800680440542,
          1.1092622154517626,
          0.939615069592148,
          0.8737867149615098,
          0.7160256764027219,
          0.3872847015444819,
          1.4924934263649472,
          0.5134620935682465,
          1.2944274657332586,
          0.6255853436822141,
          0.41721973166513854,
          0.5453744215808608,
          0.3005486070897783,
          1.3206541885017575,
          1.0968742263077744,
          0.7589073160752805,
          0.9551624264902092,
          0.6034109497141973,
          0.6003162825636197,
          1.5178031586137966,
          2.5100079271338736,
          1.146882550806465,
          1.634738721477056,
          1.1400707135502175,
          0.5615680075578704,
          0.8542013411387829,
          0.9623728234714323,
          0.9958967947479278
         ]
        },
        {
         "boxmean": true,
         "name": "AutoARIMA - Site aggregated",
         "type": "box",
         "y": [
          1.0496335048124212,
          0.6526851057072862,
          1.2583686176884472,
          0.6816962152845688,
          0.9330119954022347,
          1.4655520552057022,
          0.530918809044491,
          1.1585226230448202,
          0.5921815085726108,
          1.3563691679324354,
          0.6951497141273585,
          1.1124391209364028,
          0.7077442895425345,
          0.41247313336068575,
          1.3929080278059705,
          0.5512555922955837,
          1.3177708720673444,
          0.7634044054294369,
          0.5291714390524157,
          0.5524709483951551,
          0.3736796210646908,
          1.3437900720428768,
          1.1603700537481763,
          0.8451283521758858,
          0.7677102114147619,
          0.6894226753995306,
          0.7830257983708131,
          1.4426746664828438,
          2.8541270577857722,
          1.0946491671240504,
          2.0838777102582466,
          1.2678552254529307,
          0.7000498850222076,
          0.796003669997406,
          1.2048645686547503,
          1.1847298630868974
         ]
        },
        {
         "boxmean": true,
         "name": "TBATS - Grid",
         "type": "box",
         "y": [
          2.1869798844491064,
          1.94123104399883,
          1.7974107613980395,
          2.089468139611649,
          1.7155515036385296,
          1.8201608952024748,
          2.002659280577167,
          1.5886212721451973,
          1.29730520187363,
          1.2690635822941267,
          1.0835603093447725,
          1.8494981027969366,
          1.9123619957445757,
          1.814233162241381,
          2.3971521477392783,
          1.7651560178071901,
          1.9787634713217386,
          1.4272351455166772,
          2.3071435199901487,
          1.6878205843333485,
          2.2014318216683475,
          2.106494375600014,
          1.665733828767462,
          1.2930559063665394,
          1.325770841963751,
          1.3978451135397922,
          1.8868203750696961,
          1.6491585938365907,
          4.430603684767729,
          4.558810020684946,
          1.382716096645953,
          1.3470030246930456,
          1.340823145038424,
          1.2930397734796804,
          2.4208959104083125,
          1.262221288360809
         ]
        },
        {
         "boxmean": true,
         "name": "TBATS - TL aggregated",
         "type": "box",
         "y": [
          1.9990410008573145,
          2.1661636219292055,
          1.444175397857522,
          1.6389913331957737,
          1.2924491973362595,
          1.475397021006851,
          1.6878439919663755,
          1.884053237257579,
          1.2005724021739728,
          1.2959375250422447,
          1.0474309499771297,
          1.839621033857329,
          1.6845602756743692,
          1.5274641336359391,
          2.8090761195403986,
          1.389682025386324,
          1.8056266549568443,
          1.3071831457671188,
          1.8312758471617852,
          0.773519749173232,
          1.9426043585506283,
          1.7638073609282625,
          0.9977543914750454,
          1.526209148110923,
          1.4048135647577413,
          1.5210549800963573,
          1.9080080408537563,
          1.6410203662161817,
          4.39894039351588,
          3.38347124015149,
          2.122373002262742,
          1.354574328800685,
          1.2731568831806999,
          1.3471042813577798,
          2.3169023004987657,
          1.966205664538433
         ]
        },
        {
         "boxmean": true,
         "name": "TBATS - SUB aggregated",
         "type": "box",
         "y": [
          2.0192782723758245,
          1.9614748352143878,
          1.5860070935843178,
          1.7180281720296056,
          1.595910016349292,
          0.5464537845418276,
          1.599861751945753,
          1.6584230523255925,
          1.2052415245384271,
          1.0058338069807726,
          0.9817732624500201,
          1.831246062781867,
          1.7249931681548476,
          1.9175098092943983,
          2.3027002774122316,
          1.628161654494416,
          2.0004832822982297,
          1.3605447888072082,
          1.8073024431469975,
          1.5616192049192648,
          1.8727215004471314,
          1.7957064009082058,
          1.547614221724276,
          1.4997001513408896,
          1.1347824100173474,
          1.375000893209642,
          1.7471375567661507,
          1.753084917836327,
          4.344216251677783,
          3.8670369988601343,
          1.0099623583718607,
          0.8243998387715523,
          1.3213516472848317,
          1.3690473837865877,
          2.310228776732466,
          1.6452539479296922
         ]
        },
        {
         "boxmean": true,
         "name": "TBATS - PC aggregated",
         "type": "box",
         "y": [
          2.2795711059721353,
          2.0822599239266597,
          1.7212771956997945,
          1.7518692585849656,
          1.3969349226623478,
          0.8278513789429363,
          1.7967767543487094,
          1.6137038021095769,
          0.8389540612949317,
          1.099365193000944,
          0.873582958137532,
          1.903126952404013,
          1.0266950355264688,
          0.9084355958403518,
          2.1212559570123517,
          1.5204758713608495,
          1.6839920560372368,
          1.4617894716514257,
          1.0224682839240293,
          1.6460140438469213,
          0.8813736634956247,
          0.9317124634966599,
          0.9871120081029273,
          1.2309728996130065,
          1.2516007765125425,
          1.438384973867454,
          1.831932708502953,
          1.6924732273408372,
          4.807806390761672,
          2.655197882659451,
          1.0173819601878458,
          1.3100368956394226,
          1.3570057543260405,
          1.1774719109536758,
          2.2570413788588857,
          1.1707947077575918
         ]
        },
        {
         "boxmean": true,
         "name": "TBATS - Site aggregated",
         "type": "box",
         "y": [
          2.2864693250164536,
          1.7845587900071107,
          1.490966355447867,
          1.8032333903535547,
          1.4609330162108374,
          1.2354315570029921,
          1.4160075665688552,
          1.890287924003794,
          1.0452229723755584,
          1.1073771782891388,
          0.8980015543933428,
          1.7072860315155978,
          1.4591144549684925,
          1.365499993545086,
          2.4678997558170424,
          1.5264245922382038,
          1.7824643693179205,
          1.475409260396974,
          1.950673962978966,
          1.5071310349413414,
          1.2922441644667004,
          1.5909775699244353,
          1.585570161810793,
          1.3147915255392353,
          1.4165592069759751,
          1.4997415295053218,
          1.7830806841464428,
          1.6002708547598563,
          4.4504720939954145,
          3.584062992534734,
          1.3642639824718956,
          1.1234251232713544,
          1.2480419209893316,
          1.3573195100629285,
          2.2668706824854796,
          1.4577821253931484
         ]
        },
        {
         "boxmean": true,
         "name": "Prophet - Grid",
         "type": "box",
         "y": [
          2.1070396885373124,
          2.2211063836811933,
          1.687984661374971,
          1.9424104369511355,
          1.7863473902220208,
          1.7914062176392225,
          1.9671943730672035,
          1.722198269241318,
          1.390462383521621,
          1.3587433397560993,
          1.723932374067403,
          1.8496196922572714,
          1.8453386300974313,
          1.94631410425766,
          2.452890737592689,
          2.1161764372836926,
          2.382035336458408,
          1.6039823733422875,
          2.0480629549726648,
          1.655396128506615,
          2.0393536067592506,
          1.647456466117945,
          1.6593376897879464,
          1.3909467692545083,
          1.528510940821869,
          1.5701683511132916,
          1.8953633903643896,
          1.7655720194217221,
          4.561280107207387,
          5.250522584939957,
          1.6962472472980934,
          1.4777951906786106,
          1.309266003898802,
          1.6596944058523024,
          2.182005766320968,
          1.4140393129142323
         ]
        },
        {
         "boxmean": true,
         "name": "Prophet - TL aggregated",
         "type": "box",
         "y": [
          2.1038163470764393,
          2.2187079347194203,
          1.6881835052273375,
          1.9423947278306473,
          1.7819159084770322,
          1.787441560567358,
          1.9686940790895349,
          1.7205803799624968,
          1.3872118352373968,
          1.3413982064045409,
          1.7141243263892227,
          1.8475488140064145,
          1.8463269656830799,
          1.9460521300136553,
          2.457116419672874,
          2.1283557629660548,
          2.426304882659695,
          1.619233005534243,
          2.047641188574121,
          1.6552592863326852,
          2.0330261254591937,
          1.654176249731925,
          1.6621967584571355,
          1.3905721571488994,
          1.5356493494364405,
          1.5784924921787589,
          1.8883748977915022,
          1.764861630237602,
          4.600508633722259,
          5.274241831126754,
          1.7089499724140935,
          1.5054779991359106,
          1.321597561717244,
          1.6500802426193488,
          2.1790900608710944,
          1.4209187535285845
         ]
        },
        {
         "boxmean": true,
         "name": "Prophet - SUB aggregated",
         "type": "box",
         "y": [
          2.108065513099449,
          2.2224567195586458,
          1.688200963438044,
          1.9424598845631214,
          1.781701410310599,
          1.7878684487312226,
          1.9688095741127967,
          1.7233634354764018,
          1.3873208642983739,
          1.3387203129520484,
          1.712113321541853,
          1.8483726986165565,
          1.8453361596797444,
          1.9463764685917593,
          2.4557232387807026,
          2.1292942001129838,
          2.410359314033898,
          1.6159335251476856,
          2.0477090478217934,
          1.655528571152193,
          2.0334561650553846,
          1.657735198635677,
          1.6629689699272046,
          1.390835150665543,
          1.5347634519253555,
          1.5752005968061447,
          1.889822891383042,
          1.7656646400991411,
          4.6068478283878695,
          5.268188412245194,
          1.7216688361687,
          1.502105456815721,
          1.3136917899510505,
          1.657735458595525,
          2.178237184263218,
          1.4205176248968947
         ]
        },
        {
         "boxmean": true,
         "name": "Prophet - PC aggregated",
         "type": "box",
         "y": [
          1.394914233119005,
          0.8961124747848187,
          1.1570618520397427,
          0.8817690338367468,
          0.7067764220170567,
          1.2183947016215366,
          0.6568315753460051,
          1.194917832188488,
          0.9730908430762703,
          1.110091081050229,
          1.0226473692890266,
          1.0635057412326776,
          0.6658292956091707,
          0.7318697672593263,
          1.7019899180537779,
          0.8502440623283638,
          1.3581638161669982,
          1.018864998821758,
          0.668130040020375,
          0.9270030619098124,
          0.7380305565384883,
          1.361599644244693,
          1.4263042574734122,
          1.0050589283515203,
          1.3071169397719633,
          0.6985795077405857,
          0.7550891534028924,
          1.268473761626455,
          2.1851857632794216,
          1.7882434704491696,
          1.5815739821817973,
          0.8097470302673411,
          0.7455162957086061,
          0.8182149309230162,
          1.0836910451038144,
          1.1237059413590562
         ]
        },
        {
         "boxmean": true,
         "name": "Prophet - Site aggregated",
         "type": "box",
         "y": [
          1.3998005474695214,
          0.9094032420589161,
          1.1678967991179456,
          0.8900908318206714,
          0.7257308618247985,
          1.2211839447756125,
          0.6709031540911486,
          1.2170238948501508,
          0.9870622222266549,
          1.132863299450275,
          1.0595376951066118,
          1.0525566581475307,
          0.6949741898075442,
          0.7622831738854785,
          1.7023876355465906,
          0.8369182439171967,
          1.3711586351420448,
          1.0122216920015592,
          0.6573449016085497,
          0.9403370708970649,
          0.7546349121590902,
          1.3862669663308334,
          1.4318283186252205,
          1.020303799990494,
          1.3222639373231833,
          0.7248160131522127,
          0.7522452217832595,
          1.2715629363523162,
          2.191309026970861,
          1.7769088743076042,
          1.5653033765574826,
          0.7858713500277296,
          0.7647647516412505,
          0.8320879187831701,
          1.1106558552816286,
          1.135178464339499
         ]
        },
        {
         "boxmean": true,
         "name": "Seasonal Naive",
         "type": "box",
         "y": [
          1.4780371894097077,
          0.8108757931193623,
          0.9851368717740118,
          0.8412022613713731,
          0.755382348456642,
          0.612166844090761,
          0.43585031345239544,
          1.1181002430064222,
          0.4924402285622381,
          0.8916435451782548,
          0.41842472894114213,
          1.307384594678476,
          0.2866599834283844,
          0.10984875294350051,
          1.764688845434049,
          0.9703422553926633,
          1.3030478677055288,
          1.437270007020137,
          0.9547229368649363,
          0.6872756624678654,
          0.39006824112300315,
          1.0429523320936664,
          0.6942082552495016,
          0.3899611703689176,
          0.9780913096604256,
          0.7741613096127081,
          0.7323568449568453,
          0.48894410676422506,
          4.763940207017605,
          0.8715147927874495,
          3.877950101747636,
          1.1304166181612112,
          0.8768893514040391,
          1.0180100510191703,
          1.9763814896102938,
          1.191756912474073
         ]
        }
       ],
       "layout": {
        "font": {
         "size": 10
        },
        "showlegend": false,
        "template": {
         "data": {
          "bar": [
           {
            "error_x": {
             "color": "#2a3f5f"
            },
            "error_y": {
             "color": "#2a3f5f"
            },
            "marker": {
             "line": {
              "color": "#E5ECF6",
              "width": 0.5
             }
            },
            "type": "bar"
           }
          ],
          "barpolar": [
           {
            "marker": {
             "line": {
              "color": "#E5ECF6",
              "width": 0.5
             }
            },
            "type": "barpolar"
           }
          ],
          "carpet": [
           {
            "aaxis": {
             "endlinecolor": "#2a3f5f",
             "gridcolor": "white",
             "linecolor": "white",
             "minorgridcolor": "white",
             "startlinecolor": "#2a3f5f"
            },
            "baxis": {
             "endlinecolor": "#2a3f5f",
             "gridcolor": "white",
             "linecolor": "white",
             "minorgridcolor": "white",
             "startlinecolor": "#2a3f5f"
            },
            "type": "carpet"
           }
          ],
          "choropleth": [
           {
            "colorbar": {
             "outlinewidth": 0,
             "ticks": ""
            },
            "type": "choropleth"
           }
          ],
          "contour": [
           {
            "colorbar": {
             "outlinewidth": 0,
             "ticks": ""
            },
            "colorscale": [
             [
              0,
              "#0d0887"
             ],
             [
              0.1111111111111111,
              "#46039f"
             ],
             [
              0.2222222222222222,
              "#7201a8"
             ],
             [
              0.3333333333333333,
              "#9c179e"
             ],
             [
              0.4444444444444444,
              "#bd3786"
             ],
             [
              0.5555555555555556,
              "#d8576b"
             ],
             [
              0.6666666666666666,
              "#ed7953"
             ],
             [
              0.7777777777777778,
              "#fb9f3a"
             ],
             [
              0.8888888888888888,
              "#fdca26"
             ],
             [
              1,
              "#f0f921"
             ]
            ],
            "type": "contour"
           }
          ],
          "contourcarpet": [
           {
            "colorbar": {
             "outlinewidth": 0,
             "ticks": ""
            },
            "type": "contourcarpet"
           }
          ],
          "heatmap": [
           {
            "colorbar": {
             "outlinewidth": 0,
             "ticks": ""
            },
            "colorscale": [
             [
              0,
              "#0d0887"
             ],
             [
              0.1111111111111111,
              "#46039f"
             ],
             [
              0.2222222222222222,
              "#7201a8"
             ],
             [
              0.3333333333333333,
              "#9c179e"
             ],
             [
              0.4444444444444444,
              "#bd3786"
             ],
             [
              0.5555555555555556,
              "#d8576b"
             ],
             [
              0.6666666666666666,
              "#ed7953"
             ],
             [
              0.7777777777777778,
              "#fb9f3a"
             ],
             [
              0.8888888888888888,
              "#fdca26"
             ],
             [
              1,
              "#f0f921"
             ]
            ],
            "type": "heatmap"
           }
          ],
          "heatmapgl": [
           {
            "colorbar": {
             "outlinewidth": 0,
             "ticks": ""
            },
            "colorscale": [
             [
              0,
              "#0d0887"
             ],
             [
              0.1111111111111111,
              "#46039f"
             ],
             [
              0.2222222222222222,
              "#7201a8"
             ],
             [
              0.3333333333333333,
              "#9c179e"
             ],
             [
              0.4444444444444444,
              "#bd3786"
             ],
             [
              0.5555555555555556,
              "#d8576b"
             ],
             [
              0.6666666666666666,
              "#ed7953"
             ],
             [
              0.7777777777777778,
              "#fb9f3a"
             ],
             [
              0.8888888888888888,
              "#fdca26"
             ],
             [
              1,
              "#f0f921"
             ]
            ],
            "type": "heatmapgl"
           }
          ],
          "histogram": [
           {
            "marker": {
             "colorbar": {
              "outlinewidth": 0,
              "ticks": ""
             }
            },
            "type": "histogram"
           }
          ],
          "histogram2d": [
           {
            "colorbar": {
             "outlinewidth": 0,
             "ticks": ""
            },
            "colorscale": [
             [
              0,
              "#0d0887"
             ],
             [
              0.1111111111111111,
              "#46039f"
             ],
             [
              0.2222222222222222,
              "#7201a8"
             ],
             [
              0.3333333333333333,
              "#9c179e"
             ],
             [
              0.4444444444444444,
              "#bd3786"
             ],
             [
              0.5555555555555556,
              "#d8576b"
             ],
             [
              0.6666666666666666,
              "#ed7953"
             ],
             [
              0.7777777777777778,
              "#fb9f3a"
             ],
             [
              0.8888888888888888,
              "#fdca26"
             ],
             [
              1,
              "#f0f921"
             ]
            ],
            "type": "histogram2d"
           }
          ],
          "histogram2dcontour": [
           {
            "colorbar": {
             "outlinewidth": 0,
             "ticks": ""
            },
            "colorscale": [
             [
              0,
              "#0d0887"
             ],
             [
              0.1111111111111111,
              "#46039f"
             ],
             [
              0.2222222222222222,
              "#7201a8"
             ],
             [
              0.3333333333333333,
              "#9c179e"
             ],
             [
              0.4444444444444444,
              "#bd3786"
             ],
             [
              0.5555555555555556,
              "#d8576b"
             ],
             [
              0.6666666666666666,
              "#ed7953"
             ],
             [
              0.7777777777777778,
              "#fb9f3a"
             ],
             [
              0.8888888888888888,
              "#fdca26"
             ],
             [
              1,
              "#f0f921"
             ]
            ],
            "type": "histogram2dcontour"
           }
          ],
          "mesh3d": [
           {
            "colorbar": {
             "outlinewidth": 0,
             "ticks": ""
            },
            "type": "mesh3d"
           }
          ],
          "parcoords": [
           {
            "line": {
             "colorbar": {
              "outlinewidth": 0,
              "ticks": ""
             }
            },
            "type": "parcoords"
           }
          ],
          "pie": [
           {
            "automargin": true,
            "type": "pie"
           }
          ],
          "scatter": [
           {
            "marker": {
             "colorbar": {
              "outlinewidth": 0,
              "ticks": ""
             }
            },
            "type": "scatter"
           }
          ],
          "scatter3d": [
           {
            "line": {
             "colorbar": {
              "outlinewidth": 0,
              "ticks": ""
             }
            },
            "marker": {
             "colorbar": {
              "outlinewidth": 0,
              "ticks": ""
             }
            },
            "type": "scatter3d"
           }
          ],
          "scattercarpet": [
           {
            "marker": {
             "colorbar": {
              "outlinewidth": 0,
              "ticks": ""
             }
            },
            "type": "scattercarpet"
           }
          ],
          "scattergeo": [
           {
            "marker": {
             "colorbar": {
              "outlinewidth": 0,
              "ticks": ""
             }
            },
            "type": "scattergeo"
           }
          ],
          "scattergl": [
           {
            "marker": {
             "colorbar": {
              "outlinewidth": 0,
              "ticks": ""
             }
            },
            "type": "scattergl"
           }
          ],
          "scattermapbox": [
           {
            "marker": {
             "colorbar": {
              "outlinewidth": 0,
              "ticks": ""
             }
            },
            "type": "scattermapbox"
           }
          ],
          "scatterpolar": [
           {
            "marker": {
             "colorbar": {
              "outlinewidth": 0,
              "ticks": ""
             }
            },
            "type": "scatterpolar"
           }
          ],
          "scatterpolargl": [
           {
            "marker": {
             "colorbar": {
              "outlinewidth": 0,
              "ticks": ""
             }
            },
            "type": "scatterpolargl"
           }
          ],
          "scatterternary": [
           {
            "marker": {
             "colorbar": {
              "outlinewidth": 0,
              "ticks": ""
             }
            },
            "type": "scatterternary"
           }
          ],
          "surface": [
           {
            "colorbar": {
             "outlinewidth": 0,
             "ticks": ""
            },
            "colorscale": [
             [
              0,
              "#0d0887"
             ],
             [
              0.1111111111111111,
              "#46039f"
             ],
             [
              0.2222222222222222,
              "#7201a8"
             ],
             [
              0.3333333333333333,
              "#9c179e"
             ],
             [
              0.4444444444444444,
              "#bd3786"
             ],
             [
              0.5555555555555556,
              "#d8576b"
             ],
             [
              0.6666666666666666,
              "#ed7953"
             ],
             [
              0.7777777777777778,
              "#fb9f3a"
             ],
             [
              0.8888888888888888,
              "#fdca26"
             ],
             [
              1,
              "#f0f921"
             ]
            ],
            "type": "surface"
           }
          ],
          "table": [
           {
            "cells": {
             "fill": {
              "color": "#EBF0F8"
             },
             "line": {
              "color": "white"
             }
            },
            "header": {
             "fill": {
              "color": "#C8D4E3"
             },
             "line": {
              "color": "white"
             }
            },
            "type": "table"
           }
          ]
         },
         "layout": {
          "annotationdefaults": {
           "arrowcolor": "#2a3f5f",
           "arrowhead": 0,
           "arrowwidth": 1
          },
          "autotypenumbers": "strict",
          "coloraxis": {
           "colorbar": {
            "outlinewidth": 0,
            "ticks": ""
           }
          },
          "colorscale": {
           "diverging": [
            [
             0,
             "#8e0152"
            ],
            [
             0.1,
             "#c51b7d"
            ],
            [
             0.2,
             "#de77ae"
            ],
            [
             0.3,
             "#f1b6da"
            ],
            [
             0.4,
             "#fde0ef"
            ],
            [
             0.5,
             "#f7f7f7"
            ],
            [
             0.6,
             "#e6f5d0"
            ],
            [
             0.7,
             "#b8e186"
            ],
            [
             0.8,
             "#7fbc41"
            ],
            [
             0.9,
             "#4d9221"
            ],
            [
             1,
             "#276419"
            ]
           ],
           "sequential": [
            [
             0,
             "#0d0887"
            ],
            [
             0.1111111111111111,
             "#46039f"
            ],
            [
             0.2222222222222222,
             "#7201a8"
            ],
            [
             0.3333333333333333,
             "#9c179e"
            ],
            [
             0.4444444444444444,
             "#bd3786"
            ],
            [
             0.5555555555555556,
             "#d8576b"
            ],
            [
             0.6666666666666666,
             "#ed7953"
            ],
            [
             0.7777777777777778,
             "#fb9f3a"
            ],
            [
             0.8888888888888888,
             "#fdca26"
            ],
            [
             1,
             "#f0f921"
            ]
           ],
           "sequentialminus": [
            [
             0,
             "#0d0887"
            ],
            [
             0.1111111111111111,
             "#46039f"
            ],
            [
             0.2222222222222222,
             "#7201a8"
            ],
            [
             0.3333333333333333,
             "#9c179e"
            ],
            [
             0.4444444444444444,
             "#bd3786"
            ],
            [
             0.5555555555555556,
             "#d8576b"
            ],
            [
             0.6666666666666666,
             "#ed7953"
            ],
            [
             0.7777777777777778,
             "#fb9f3a"
            ],
            [
             0.8888888888888888,
             "#fdca26"
            ],
            [
             1,
             "#f0f921"
            ]
           ]
          },
          "colorway": [
           "#636efa",
           "#EF553B",
           "#00cc96",
           "#ab63fa",
           "#FFA15A",
           "#19d3f3",
           "#FF6692",
           "#B6E880",
           "#FF97FF",
           "#FECB52"
          ],
          "font": {
           "color": "#2a3f5f"
          },
          "geo": {
           "bgcolor": "white",
           "lakecolor": "white",
           "landcolor": "#E5ECF6",
           "showlakes": true,
           "showland": true,
           "subunitcolor": "white"
          },
          "hoverlabel": {
           "align": "left"
          },
          "hovermode": "closest",
          "mapbox": {
           "style": "light"
          },
          "paper_bgcolor": "white",
          "plot_bgcolor": "#E5ECF6",
          "polar": {
           "angularaxis": {
            "gridcolor": "white",
            "linecolor": "white",
            "ticks": ""
           },
           "bgcolor": "#E5ECF6",
           "radialaxis": {
            "gridcolor": "white",
            "linecolor": "white",
            "ticks": ""
           }
          },
          "scene": {
           "xaxis": {
            "backgroundcolor": "#E5ECF6",
            "gridcolor": "white",
            "gridwidth": 2,
            "linecolor": "white",
            "showbackground": true,
            "ticks": "",
            "zerolinecolor": "white"
           },
           "yaxis": {
            "backgroundcolor": "#E5ECF6",
            "gridcolor": "white",
            "gridwidth": 2,
            "linecolor": "white",
            "showbackground": true,
            "ticks": "",
            "zerolinecolor": "white"
           },
           "zaxis": {
            "backgroundcolor": "#E5ECF6",
            "gridcolor": "white",
            "gridwidth": 2,
            "linecolor": "white",
            "showbackground": true,
            "ticks": "",
            "zerolinecolor": "white"
           }
          },
          "shapedefaults": {
           "line": {
            "color": "#2a3f5f"
           }
          },
          "ternary": {
           "aaxis": {
            "gridcolor": "white",
            "linecolor": "white",
            "ticks": ""
           },
           "baxis": {
            "gridcolor": "white",
            "linecolor": "white",
            "ticks": ""
           },
           "bgcolor": "#E5ECF6",
           "caxis": {
            "gridcolor": "white",
            "linecolor": "white",
            "ticks": ""
           }
          },
          "title": {
           "x": 0.05
          },
          "xaxis": {
           "automargin": true,
           "gridcolor": "white",
           "linecolor": "white",
           "ticks": "",
           "title": {
            "standoff": 15
           },
           "zerolinecolor": "white",
           "zerolinewidth": 2
          },
          "yaxis": {
           "automargin": true,
           "gridcolor": "white",
           "linecolor": "white",
           "ticks": "",
           "title": {
            "standoff": 15
           },
           "zerolinecolor": "white",
           "zerolinewidth": 2
          }
         }
        },
        "title": {
         "text": ""
        },
        "xaxis": {
         "title": {
          "text": ""
         }
        },
        "yaxis": {
         "title": {
          "text": "MASE distribution"
         }
        }
       }
      },
      "text/html": [
       "<div>                            <div id=\"5e3b5860-9870-44ff-a8ac-bb40a722d5af\" class=\"plotly-graph-div\" style=\"height:525px; width:100%;\"></div>            <script type=\"text/javascript\">                require([\"plotly\"], function(Plotly) {                    window.PLOTLYENV=window.PLOTLYENV || {};                                    if (document.getElementById(\"5e3b5860-9870-44ff-a8ac-bb40a722d5af\")) {                    Plotly.newPlot(                        \"5e3b5860-9870-44ff-a8ac-bb40a722d5af\",                        [{\"boxmean\": true, \"name\": \"LSTM - Grid\", \"type\": \"box\", \"y\": [1.2354774395423362, 1.117142891601437, 0.7993274246742958, 2.118379514611731, 1.3654891161006817, 1.6989868219458528, 2.136336236493712, 1.2464063998995059, 1.2955410704734338, 0.7400306434417475, 0.7036381632138295, 1.1393532477331108, 1.926683739288961, 1.8386192879132264, 1.770227336406372, 0.8806028921367005, 1.4034838467669737, 0.7868948593165568, 2.2941460743782587, 1.6787664154472353, 1.9676525929828605, 1.2715129003364714, 1.3142094873838912, 0.8946901048430035, 0.7833009795098324, 1.1852053935413431, 1.4496242461690916, 1.3694847225854314, 3.5833976613054728, 2.8223650715695596, 1.2001564761117602, 0.6941539527108913, 1.5868498410255636, 1.5060191221833255, 1.8758818283984922, 1.1764035605562444]}, {\"boxmean\": true, \"name\": \"LSTM - TL aggregated\", \"type\": \"box\", \"y\": [1.2565060174497165, 1.003259752296023, 1.2863189237892638, 2.2745277358444524, 1.1527365698097, 1.718963869129302, 1.3909306502685048, 1.127812515628105, 1.0007819748129587, 0.555744964230217, 0.8820445271138541, 1.519519976709057, 2.3655747096350397, 1.7161247618088722, 1.662569362263201, 0.6589237736292282, 1.4270339797048657, 0.903337934543747, 1.96811342900828, 2.1383426450110496, 1.4914373012167537, 0.9283073590485752, 1.1710828531933752, 0.6011435568379255, 0.8316492898181294, 1.6219005293611806, 1.144393590629725, 1.3969034150507853, 3.722774605738128, 3.2920229653791826, 1.2303582793213048, 0.8379174125207524, 1.281825271407646, 1.0582987377452036, 1.5627522189121894, 0.8006837295168067]}, {\"boxmean\": true, \"name\": \"LSTM - SUB aggregated\", \"type\": \"box\", \"y\": [1.3914132828410177, 0.8787285641898317, 1.2166071479805718, 2.283771801539802, 0.5873153658261671, 1.3814325977464235, 1.453705104498556, 1.3114169459776304, 0.8885321798222752, 0.577090592745834, 0.6888111245462561, 1.0275077873774585, 2.6148774327178, 1.0895104135537745, 1.743979371076874, 0.6798350360620242, 1.2461438018094577, 0.9487645754482197, 2.0500196225886547, 2.0298690376929454, 0.8560991992685263, 0.9915283287104387, 1.02827109976725, 0.6774028899284437, 0.9732806155210634, 1.177147311446156, 0.8536203257890184, 1.4718119696082668, 3.815815020808228, 3.077535796164642, 1.2730124776556555, 0.6585522368834437, 0.8735041981801795, 1.0611927726200003, 1.802482186360669, 1.2038896697690948]}, {\"boxmean\": true, \"name\": \"LSTM - PC aggregated\", \"type\": \"box\", \"y\": [1.0894238249953776, 1.3551896846981977, 0.8070394741900427, 1.588776901177034, 0.3816785319609469, 1.366728322573813, 1.603846951943192, 0.8337623685299966, 1.142932343021481, 0.5544579812765232, 0.7759105060865794, 1.2258017963201289, 1.3612243215956312, 1.1449052037473042, 1.4545886642479005, 1.028489376787211, 1.5960905855156367, 0.7219746016511266, 0.7891658590650913, 1.2858377067224638, 1.040194110924839, 0.8356440025250256, 1.2195274863113088, 0.8773054857271695, 0.6049531396769853, 0.8777933708548463, 1.4988564190452103, 1.4468416260871868, 3.2294684458335907, 1.567007615063325, 1.191299236183136, 0.579310759953629, 0.5716247115280282, 0.9568416722276819, 1.2301474640426455, 0.60153155887528]}, {\"boxmean\": true, \"name\": \"LSTM - Site aggregated\", \"type\": \"box\", \"y\": [1.0942807244706505, 1.1121656808704974, 0.7514490395081358, 1.2383249227908735, 0.389738391541274, 1.283201638126297, 1.5094405203124475, 0.8908982778692865, 0.9507719250197556, 0.5203378730979481, 0.5658775176344965, 1.0365075680635614, 1.1634778223960995, 0.9768067294190235, 1.495981949555343, 0.7517060041055926, 1.4814083900667903, 0.6569541604481436, 0.7400435341934389, 1.0502338379640266, 1.0596142222649196, 0.9349651046122042, 0.9063558557419376, 0.6782018366280195, 0.5229285448267803, 0.6046263274117333, 1.1000519994818918, 0.8467439801576508, 3.1087308825001925, 1.4386938735181671, 1.5673356665009852, 0.5494438485068514, 0.5332019762299115, 0.893112772303674, 1.34163809148877, 0.7261140466407794]}, {\"boxmean\": true, \"name\": \"CNN - Grid\", \"type\": \"box\", \"y\": [1.2714278154834477, 0.7990954559089979, 0.9093162473503432, 1.0859799403622379, 0.3402475439709642, 0.6797118642902824, 1.1907457623161533, 0.7926797472248664, 0.7108862731187087, 0.8361117465032811, 0.6701892623606502, 0.9786443896778498, 0.9612770608423199, 0.7199984195554417, 1.602749851918091, 0.7665714788125165, 1.3371723441984695, 1.2335489835006788, 1.0690424204162734, 1.03664744001746, 1.0313831828282949, 0.4390828882049444, 0.9521070224742884, 0.6971254572651662, 0.6163582767930187, 0.5337485371112842, 1.0333898881231454, 0.6588187614979745, 4.48170185394435, 3.572149670891403, 1.6991107591387298, 1.3894278733798602, 0.9170627234027267, 0.7011541163324838, 2.573620377332896, 1.1134612948580511]}, {\"boxmean\": true, \"name\": \"CNN - TL aggregated\", \"type\": \"box\", \"y\": [1.214646944464766, 0.8424497885215494, 0.8769546399496427, 1.1075982704254064, 0.26897753559519627, 0.7470271070351288, 1.3229593142762113, 0.7661567964985438, 0.7371064402421486, 0.7982080952545026, 0.7009281670651232, 1.0220286068689586, 1.0559376995068768, 0.7972266087344534, 1.621980577016951, 0.7987399402285341, 1.3712804193765107, 1.166566931574826, 1.0805090655555618, 1.110325409407052, 1.1463704283450193, 0.4046694004089354, 0.9571472416865161, 0.7150360009072221, 0.5728035130419069, 0.5664299920168805, 1.0943904582810842, 0.649273777181498, 4.424160500815578, 3.6922986735462127, 1.534693125837627, 1.3239684743356868, 0.9142058987326658, 0.7364633240910817, 2.6204476128870993, 1.3397324799384929]}, {\"boxmean\": true, \"name\": \"CNN - SUB aggregated\", \"type\": \"box\", \"y\": [1.2103782739845683, 0.8429075729826047, 0.8792876383350626, 1.1134150894691996, 0.2656450158038337, 0.7530768092774204, 1.332913078051424, 0.7661680724335371, 0.74117755260692, 0.7973252635492819, 0.7023530159585343, 1.0254777148899878, 1.0646654446803787, 0.8032671060735954, 1.6203806223900616, 0.79744093766241, 1.3780128975055053, 1.1648551857460243, 1.081837140111745, 1.1154207666915092, 1.154442244085972, 0.4064912590688314, 0.962729232857409, 0.7189823178717635, 0.5688818404961014, 0.5691967279477799, 1.1026497704761613, 0.6548335359673613, 4.422412443377644, 3.691187548313093, 1.5314466051264435, 1.3245361694914384, 0.9148148640932888, 0.7349373315957732, 2.6225372013697097, 1.3458848945648256]}, {\"boxmean\": true, \"name\": \"CNN - PC aggregated\", \"type\": \"box\", \"y\": [1.295754107810101, 0.9818408503131677, 1.0452517178365195, 1.3170372780813904, 1.1099279213710316, 0.8515100443968558, 1.0732701699548233, 1.9005791002886547, 1.5862482831429243, 2.0162913440329917, 0.8173854965608477, 0.7255406923364156, 0.6153080121263811, 0.3019170332738032, 1.501264096989632, 0.8891040994113695, 1.8961871286979248, 0.6650769813451477, 0.4621367183242228, 0.4614677091400289, 0.5723090766348455, 1.4608220825091063, 1.7174636230917888, 2.159101791814472, 1.8725012573556061, 0.7595642771197503, 0.6946439602692236, 1.2399929825400922, 3.5141371557226315, 2.119037362118866, 1.0267865445617066, 0.7112449526701872, 0.5130418519640336, 0.8409656204834348, 0.975376849350578, 1.4501873523027766]}, {\"boxmean\": true, \"name\": \"CNN - Site aggregated\", \"type\": \"box\", \"y\": [0.6538310785078754, 1.046438712092186, 0.8049860488142465, 1.2964887269614687, 1.176648741122935, 0.8256446984228064, 0.9553337501109098, 1.572511101530005, 1.2736985640961829, 1.6708474686354309, 0.9409972157013435, 0.8849406005888776, 0.6899467910006284, 0.3244461774416539, 1.2770071784045818, 0.9350304266850575, 1.8011695929486582, 0.7575111639753394, 0.5912924860656695, 0.5449888803536309, 0.8691329905721721, 1.3011878604525664, 1.6748161556311587, 2.1603318317674103, 2.101768593145337, 0.8807060849050528, 0.9400879757965379, 1.2481332347145602, 3.29597337905112, 2.035078478018573, 1.0377693121293297, 0.8106265845634821, 0.49981769409885707, 0.9964511112749264, 0.7817455425764003, 1.4475491727192575]}, {\"boxmean\": true, \"name\": \"AutoARIMA - Grid\", \"type\": \"box\", \"y\": [1.6853576949368594, 1.2614247027541112, 0.6884773300889144, 0.789304499739047, 0.5704930601472075, 0.5211776827953404, 0.7437049840271515, 0.7253299905984498, 0.49963850007962224, 0.9985240152418069, 0.9814577478972913, 0.5675644356173761, 0.6714383294132533, 0.6176419140374961, 1.4917734646469665, 1.0892238527385738, 1.5783255893347, 0.6667860032366376, 0.8378419462863471, 0.829941675957614, 0.9009290825713053, 0.432213043343397, 0.7598155958418239, 0.45140613190211604, 0.7322972643647959, 0.5995416240429228, 0.8925837127925106, 0.6715439740415531, 4.462695509950671, 4.802625806456639, 0.6022730672793044, 0.8843115609470243, 0.8616507722807992, 0.656635754739094, 1.8473987737292747, 0.5784779230164391]}, {\"boxmean\": true, \"name\": \"AutoARIMA - TL aggregated\", \"type\": \"box\", \"y\": [1.8745646205205138, 1.0835049877466334, 0.6357742184356338, 0.6928529778066556, 0.6869784872431332, 0.57211055420136, 0.6139999809733766, 0.9054582183606087, 0.5665766558849897, 1.109991936393243, 0.585108324933742, 0.9049575747893428, 0.5385268913213943, 0.4560654004762588, 1.810641174553524, 0.9648709637285923, 1.4103327722163228, 0.6220011942518164, 0.7692756489590741, 0.5899954734620854, 0.7369602124604077, 0.6652238653068239, 0.7641144282027618, 0.4399931373884252, 0.8196358321191842, 0.638553982467457, 0.8421906356500617, 0.7304139016435538, 4.3226291752018335, 3.4842320938344313, 1.1904457869499177, 0.8626696273943174, 0.9938217048275692, 0.7336226138787211, 1.7284205260164325, 0.49114364999295085]}, {\"boxmean\": true, \"name\": \"AutoARIMA - SUB aggregated\", \"type\": \"box\", \"y\": [1.6672383811196254, 1.2599621619234436, 0.7071800861988409, 0.7759370010949451, 0.6481314848804709, 0.554363005384297, 0.7394276957435336, 0.7346092624342436, 0.5239704006123203, 1.0426982471058863, 0.6805209676804003, 0.7183898318873914, 0.6200768368547032, 0.5754932921247854, 1.6016411997977167, 1.0489758676873442, 1.6232273234316055, 0.7293947497952125, 0.822160007039621, 0.7076522598953086, 0.833123442264527, 0.5176909105678976, 0.7722263194464019, 0.4816601747765691, 0.7493877257712294, 0.6042482575260125, 0.8237508447645941, 0.7099024867512581, 4.299909757032919, 4.43519417361959, 0.48571593915327405, 1.007423080725379, 0.6027460961647506, 0.7157867131317346, 1.6268644318764347, 0.4229740444387623]}, {\"boxmean\": true, \"name\": \"AutoARIMA - PC aggregated\", \"type\": \"box\", \"y\": [0.9039789425533031, 0.35419417712580836, 1.0311292617876673, 0.6223665494202419, 0.7427185543610031, 1.6601331348467296, 0.520171114597606, 1.034804220722936, 0.7144800680440542, 1.1092622154517626, 0.939615069592148, 0.8737867149615098, 0.7160256764027219, 0.3872847015444819, 1.4924934263649472, 0.5134620935682465, 1.2944274657332586, 0.6255853436822141, 0.41721973166513854, 0.5453744215808608, 0.3005486070897783, 1.3206541885017575, 1.0968742263077744, 0.7589073160752805, 0.9551624264902092, 0.6034109497141973, 0.6003162825636197, 1.5178031586137966, 2.5100079271338736, 1.146882550806465, 1.634738721477056, 1.1400707135502175, 0.5615680075578704, 0.8542013411387829, 0.9623728234714323, 0.9958967947479278]}, {\"boxmean\": true, \"name\": \"AutoARIMA - Site aggregated\", \"type\": \"box\", \"y\": [1.0496335048124212, 0.6526851057072862, 1.2583686176884472, 0.6816962152845688, 0.9330119954022347, 1.4655520552057022, 0.530918809044491, 1.1585226230448202, 0.5921815085726108, 1.3563691679324354, 0.6951497141273585, 1.1124391209364028, 0.7077442895425345, 0.41247313336068575, 1.3929080278059705, 0.5512555922955837, 1.3177708720673444, 0.7634044054294369, 0.5291714390524157, 0.5524709483951551, 0.3736796210646908, 1.3437900720428768, 1.1603700537481763, 0.8451283521758858, 0.7677102114147619, 0.6894226753995306, 0.7830257983708131, 1.4426746664828438, 2.8541270577857722, 1.0946491671240504, 2.0838777102582466, 1.2678552254529307, 0.7000498850222076, 0.796003669997406, 1.2048645686547503, 1.1847298630868974]}, {\"boxmean\": true, \"name\": \"TBATS - Grid\", \"type\": \"box\", \"y\": [2.1869798844491064, 1.94123104399883, 1.7974107613980395, 2.089468139611649, 1.7155515036385296, 1.8201608952024748, 2.002659280577167, 1.5886212721451973, 1.29730520187363, 1.2690635822941267, 1.0835603093447725, 1.8494981027969366, 1.9123619957445757, 1.814233162241381, 2.3971521477392783, 1.7651560178071901, 1.9787634713217386, 1.4272351455166772, 2.3071435199901487, 1.6878205843333485, 2.2014318216683475, 2.106494375600014, 1.665733828767462, 1.2930559063665394, 1.325770841963751, 1.3978451135397922, 1.8868203750696961, 1.6491585938365907, 4.430603684767729, 4.558810020684946, 1.382716096645953, 1.3470030246930456, 1.340823145038424, 1.2930397734796804, 2.4208959104083125, 1.262221288360809]}, {\"boxmean\": true, \"name\": \"TBATS - TL aggregated\", \"type\": \"box\", \"y\": [1.9990410008573145, 2.1661636219292055, 1.444175397857522, 1.6389913331957737, 1.2924491973362595, 1.475397021006851, 1.6878439919663755, 1.884053237257579, 1.2005724021739728, 1.2959375250422447, 1.0474309499771297, 1.839621033857329, 1.6845602756743692, 1.5274641336359391, 2.8090761195403986, 1.389682025386324, 1.8056266549568443, 1.3071831457671188, 1.8312758471617852, 0.773519749173232, 1.9426043585506283, 1.7638073609282625, 0.9977543914750454, 1.526209148110923, 1.4048135647577413, 1.5210549800963573, 1.9080080408537563, 1.6410203662161817, 4.39894039351588, 3.38347124015149, 2.122373002262742, 1.354574328800685, 1.2731568831806999, 1.3471042813577798, 2.3169023004987657, 1.966205664538433]}, {\"boxmean\": true, \"name\": \"TBATS - SUB aggregated\", \"type\": \"box\", \"y\": [2.0192782723758245, 1.9614748352143878, 1.5860070935843178, 1.7180281720296056, 1.595910016349292, 0.5464537845418276, 1.599861751945753, 1.6584230523255925, 1.2052415245384271, 1.0058338069807726, 0.9817732624500201, 1.831246062781867, 1.7249931681548476, 1.9175098092943983, 2.3027002774122316, 1.628161654494416, 2.0004832822982297, 1.3605447888072082, 1.8073024431469975, 1.5616192049192648, 1.8727215004471314, 1.7957064009082058, 1.547614221724276, 1.4997001513408896, 1.1347824100173474, 1.375000893209642, 1.7471375567661507, 1.753084917836327, 4.344216251677783, 3.8670369988601343, 1.0099623583718607, 0.8243998387715523, 1.3213516472848317, 1.3690473837865877, 2.310228776732466, 1.6452539479296922]}, {\"boxmean\": true, \"name\": \"TBATS - PC aggregated\", \"type\": \"box\", \"y\": [2.2795711059721353, 2.0822599239266597, 1.7212771956997945, 1.7518692585849656, 1.3969349226623478, 0.8278513789429363, 1.7967767543487094, 1.6137038021095769, 0.8389540612949317, 1.099365193000944, 0.873582958137532, 1.903126952404013, 1.0266950355264688, 0.9084355958403518, 2.1212559570123517, 1.5204758713608495, 1.6839920560372368, 1.4617894716514257, 1.0224682839240293, 1.6460140438469213, 0.8813736634956247, 0.9317124634966599, 0.9871120081029273, 1.2309728996130065, 1.2516007765125425, 1.438384973867454, 1.831932708502953, 1.6924732273408372, 4.807806390761672, 2.655197882659451, 1.0173819601878458, 1.3100368956394226, 1.3570057543260405, 1.1774719109536758, 2.2570413788588857, 1.1707947077575918]}, {\"boxmean\": true, \"name\": \"TBATS - Site aggregated\", \"type\": \"box\", \"y\": [2.2864693250164536, 1.7845587900071107, 1.490966355447867, 1.8032333903535547, 1.4609330162108374, 1.2354315570029921, 1.4160075665688552, 1.890287924003794, 1.0452229723755584, 1.1073771782891388, 0.8980015543933428, 1.7072860315155978, 1.4591144549684925, 1.365499993545086, 2.4678997558170424, 1.5264245922382038, 1.7824643693179205, 1.475409260396974, 1.950673962978966, 1.5071310349413414, 1.2922441644667004, 1.5909775699244353, 1.585570161810793, 1.3147915255392353, 1.4165592069759751, 1.4997415295053218, 1.7830806841464428, 1.6002708547598563, 4.4504720939954145, 3.584062992534734, 1.3642639824718956, 1.1234251232713544, 1.2480419209893316, 1.3573195100629285, 2.2668706824854796, 1.4577821253931484]}, {\"boxmean\": true, \"name\": \"Prophet - Grid\", \"type\": \"box\", \"y\": [2.1070396885373124, 2.2211063836811933, 1.687984661374971, 1.9424104369511355, 1.7863473902220208, 1.7914062176392225, 1.9671943730672035, 1.722198269241318, 1.390462383521621, 1.3587433397560993, 1.723932374067403, 1.8496196922572714, 1.8453386300974313, 1.94631410425766, 2.452890737592689, 2.1161764372836926, 2.382035336458408, 1.6039823733422875, 2.0480629549726648, 1.655396128506615, 2.0393536067592506, 1.647456466117945, 1.6593376897879464, 1.3909467692545083, 1.528510940821869, 1.5701683511132916, 1.8953633903643896, 1.7655720194217221, 4.561280107207387, 5.250522584939957, 1.6962472472980934, 1.4777951906786106, 1.309266003898802, 1.6596944058523024, 2.182005766320968, 1.4140393129142323]}, {\"boxmean\": true, \"name\": \"Prophet - TL aggregated\", \"type\": \"box\", \"y\": [2.1038163470764393, 2.2187079347194203, 1.6881835052273375, 1.9423947278306473, 1.7819159084770322, 1.787441560567358, 1.9686940790895349, 1.7205803799624968, 1.3872118352373968, 1.3413982064045409, 1.7141243263892227, 1.8475488140064145, 1.8463269656830799, 1.9460521300136553, 2.457116419672874, 2.1283557629660548, 2.426304882659695, 1.619233005534243, 2.047641188574121, 1.6552592863326852, 2.0330261254591937, 1.654176249731925, 1.6621967584571355, 1.3905721571488994, 1.5356493494364405, 1.5784924921787589, 1.8883748977915022, 1.764861630237602, 4.600508633722259, 5.274241831126754, 1.7089499724140935, 1.5054779991359106, 1.321597561717244, 1.6500802426193488, 2.1790900608710944, 1.4209187535285845]}, {\"boxmean\": true, \"name\": \"Prophet - SUB aggregated\", \"type\": \"box\", \"y\": [2.108065513099449, 2.2224567195586458, 1.688200963438044, 1.9424598845631214, 1.781701410310599, 1.7878684487312226, 1.9688095741127967, 1.7233634354764018, 1.3873208642983739, 1.3387203129520484, 1.712113321541853, 1.8483726986165565, 1.8453361596797444, 1.9463764685917593, 2.4557232387807026, 2.1292942001129838, 2.410359314033898, 1.6159335251476856, 2.0477090478217934, 1.655528571152193, 2.0334561650553846, 1.657735198635677, 1.6629689699272046, 1.390835150665543, 1.5347634519253555, 1.5752005968061447, 1.889822891383042, 1.7656646400991411, 4.6068478283878695, 5.268188412245194, 1.7216688361687, 1.502105456815721, 1.3136917899510505, 1.657735458595525, 2.178237184263218, 1.4205176248968947]}, {\"boxmean\": true, \"name\": \"Prophet - PC aggregated\", \"type\": \"box\", \"y\": [1.394914233119005, 0.8961124747848187, 1.1570618520397427, 0.8817690338367468, 0.7067764220170567, 1.2183947016215366, 0.6568315753460051, 1.194917832188488, 0.9730908430762703, 1.110091081050229, 1.0226473692890266, 1.0635057412326776, 0.6658292956091707, 0.7318697672593263, 1.7019899180537779, 0.8502440623283638, 1.3581638161669982, 1.018864998821758, 0.668130040020375, 0.9270030619098124, 0.7380305565384883, 1.361599644244693, 1.4263042574734122, 1.0050589283515203, 1.3071169397719633, 0.6985795077405857, 0.7550891534028924, 1.268473761626455, 2.1851857632794216, 1.7882434704491696, 1.5815739821817973, 0.8097470302673411, 0.7455162957086061, 0.8182149309230162, 1.0836910451038144, 1.1237059413590562]}, {\"boxmean\": true, \"name\": \"Prophet - Site aggregated\", \"type\": \"box\", \"y\": [1.3998005474695214, 0.9094032420589161, 1.1678967991179456, 0.8900908318206714, 0.7257308618247985, 1.2211839447756125, 0.6709031540911486, 1.2170238948501508, 0.9870622222266549, 1.132863299450275, 1.0595376951066118, 1.0525566581475307, 0.6949741898075442, 0.7622831738854785, 1.7023876355465906, 0.8369182439171967, 1.3711586351420448, 1.0122216920015592, 0.6573449016085497, 0.9403370708970649, 0.7546349121590902, 1.3862669663308334, 1.4318283186252205, 1.020303799990494, 1.3222639373231833, 0.7248160131522127, 0.7522452217832595, 1.2715629363523162, 2.191309026970861, 1.7769088743076042, 1.5653033765574826, 0.7858713500277296, 0.7647647516412505, 0.8320879187831701, 1.1106558552816286, 1.135178464339499]}, {\"boxmean\": true, \"name\": \"Seasonal Naive\", \"type\": \"box\", \"y\": [1.4780371894097077, 0.8108757931193623, 0.9851368717740118, 0.8412022613713731, 0.755382348456642, 0.612166844090761, 0.43585031345239544, 1.1181002430064222, 0.4924402285622381, 0.8916435451782548, 0.41842472894114213, 1.307384594678476, 0.2866599834283844, 0.10984875294350051, 1.764688845434049, 0.9703422553926633, 1.3030478677055288, 1.437270007020137, 0.9547229368649363, 0.6872756624678654, 0.39006824112300315, 1.0429523320936664, 0.6942082552495016, 0.3899611703689176, 0.9780913096604256, 0.7741613096127081, 0.7323568449568453, 0.48894410676422506, 4.763940207017605, 0.8715147927874495, 3.877950101747636, 1.1304166181612112, 0.8768893514040391, 1.0180100510191703, 1.9763814896102938, 1.191756912474073]}],                        {\"font\": {\"size\": 10}, \"showlegend\": false, \"template\": {\"data\": {\"bar\": [{\"error_x\": {\"color\": \"#2a3f5f\"}, \"error_y\": {\"color\": \"#2a3f5f\"}, \"marker\": {\"line\": {\"color\": \"#E5ECF6\", \"width\": 0.5}}, \"type\": \"bar\"}], \"barpolar\": [{\"marker\": {\"line\": {\"color\": \"#E5ECF6\", \"width\": 0.5}}, \"type\": \"barpolar\"}], \"carpet\": [{\"aaxis\": {\"endlinecolor\": \"#2a3f5f\", \"gridcolor\": \"white\", \"linecolor\": \"white\", \"minorgridcolor\": \"white\", \"startlinecolor\": \"#2a3f5f\"}, \"baxis\": {\"endlinecolor\": \"#2a3f5f\", \"gridcolor\": \"white\", \"linecolor\": \"white\", \"minorgridcolor\": \"white\", \"startlinecolor\": \"#2a3f5f\"}, \"type\": \"carpet\"}], \"choropleth\": [{\"colorbar\": {\"outlinewidth\": 0, \"ticks\": \"\"}, \"type\": \"choropleth\"}], \"contour\": [{\"colorbar\": {\"outlinewidth\": 0, \"ticks\": \"\"}, \"colorscale\": [[0.0, \"#0d0887\"], [0.1111111111111111, \"#46039f\"], [0.2222222222222222, \"#7201a8\"], [0.3333333333333333, \"#9c179e\"], [0.4444444444444444, \"#bd3786\"], [0.5555555555555556, \"#d8576b\"], [0.6666666666666666, \"#ed7953\"], [0.7777777777777778, \"#fb9f3a\"], [0.8888888888888888, \"#fdca26\"], [1.0, \"#f0f921\"]], \"type\": \"contour\"}], \"contourcarpet\": [{\"colorbar\": {\"outlinewidth\": 0, \"ticks\": \"\"}, \"type\": \"contourcarpet\"}], \"heatmap\": [{\"colorbar\": {\"outlinewidth\": 0, \"ticks\": \"\"}, \"colorscale\": [[0.0, \"#0d0887\"], [0.1111111111111111, \"#46039f\"], [0.2222222222222222, \"#7201a8\"], [0.3333333333333333, \"#9c179e\"], [0.4444444444444444, \"#bd3786\"], [0.5555555555555556, \"#d8576b\"], [0.6666666666666666, \"#ed7953\"], [0.7777777777777778, \"#fb9f3a\"], [0.8888888888888888, \"#fdca26\"], [1.0, \"#f0f921\"]], \"type\": \"heatmap\"}], \"heatmapgl\": [{\"colorbar\": {\"outlinewidth\": 0, \"ticks\": \"\"}, \"colorscale\": [[0.0, \"#0d0887\"], [0.1111111111111111, \"#46039f\"], [0.2222222222222222, \"#7201a8\"], [0.3333333333333333, \"#9c179e\"], [0.4444444444444444, \"#bd3786\"], [0.5555555555555556, \"#d8576b\"], [0.6666666666666666, \"#ed7953\"], [0.7777777777777778, \"#fb9f3a\"], [0.8888888888888888, \"#fdca26\"], [1.0, \"#f0f921\"]], \"type\": \"heatmapgl\"}], \"histogram\": [{\"marker\": {\"colorbar\": {\"outlinewidth\": 0, \"ticks\": \"\"}}, \"type\": \"histogram\"}], \"histogram2d\": [{\"colorbar\": {\"outlinewidth\": 0, \"ticks\": \"\"}, \"colorscale\": [[0.0, \"#0d0887\"], [0.1111111111111111, \"#46039f\"], [0.2222222222222222, \"#7201a8\"], [0.3333333333333333, \"#9c179e\"], [0.4444444444444444, \"#bd3786\"], [0.5555555555555556, \"#d8576b\"], [0.6666666666666666, \"#ed7953\"], [0.7777777777777778, \"#fb9f3a\"], [0.8888888888888888, \"#fdca26\"], [1.0, \"#f0f921\"]], \"type\": \"histogram2d\"}], \"histogram2dcontour\": [{\"colorbar\": {\"outlinewidth\": 0, \"ticks\": \"\"}, \"colorscale\": [[0.0, \"#0d0887\"], [0.1111111111111111, \"#46039f\"], [0.2222222222222222, \"#7201a8\"], [0.3333333333333333, \"#9c179e\"], [0.4444444444444444, \"#bd3786\"], [0.5555555555555556, \"#d8576b\"], [0.6666666666666666, \"#ed7953\"], [0.7777777777777778, \"#fb9f3a\"], [0.8888888888888888, \"#fdca26\"], [1.0, \"#f0f921\"]], \"type\": \"histogram2dcontour\"}], \"mesh3d\": [{\"colorbar\": {\"outlinewidth\": 0, \"ticks\": \"\"}, \"type\": \"mesh3d\"}], \"parcoords\": [{\"line\": {\"colorbar\": {\"outlinewidth\": 0, \"ticks\": \"\"}}, \"type\": \"parcoords\"}], \"pie\": [{\"automargin\": true, \"type\": \"pie\"}], \"scatter\": [{\"marker\": {\"colorbar\": {\"outlinewidth\": 0, \"ticks\": \"\"}}, \"type\": \"scatter\"}], \"scatter3d\": [{\"line\": {\"colorbar\": {\"outlinewidth\": 0, \"ticks\": \"\"}}, \"marker\": {\"colorbar\": {\"outlinewidth\": 0, \"ticks\": \"\"}}, \"type\": \"scatter3d\"}], \"scattercarpet\": [{\"marker\": {\"colorbar\": {\"outlinewidth\": 0, \"ticks\": \"\"}}, \"type\": \"scattercarpet\"}], \"scattergeo\": [{\"marker\": {\"colorbar\": {\"outlinewidth\": 0, \"ticks\": \"\"}}, \"type\": \"scattergeo\"}], \"scattergl\": [{\"marker\": {\"colorbar\": {\"outlinewidth\": 0, \"ticks\": \"\"}}, \"type\": \"scattergl\"}], \"scattermapbox\": [{\"marker\": {\"colorbar\": {\"outlinewidth\": 0, \"ticks\": \"\"}}, \"type\": \"scattermapbox\"}], \"scatterpolar\": [{\"marker\": {\"colorbar\": {\"outlinewidth\": 0, \"ticks\": \"\"}}, \"type\": \"scatterpolar\"}], \"scatterpolargl\": [{\"marker\": {\"colorbar\": {\"outlinewidth\": 0, \"ticks\": \"\"}}, \"type\": \"scatterpolargl\"}], \"scatterternary\": [{\"marker\": {\"colorbar\": {\"outlinewidth\": 0, \"ticks\": \"\"}}, \"type\": \"scatterternary\"}], \"surface\": [{\"colorbar\": {\"outlinewidth\": 0, \"ticks\": \"\"}, \"colorscale\": [[0.0, \"#0d0887\"], [0.1111111111111111, \"#46039f\"], [0.2222222222222222, \"#7201a8\"], [0.3333333333333333, \"#9c179e\"], [0.4444444444444444, \"#bd3786\"], [0.5555555555555556, \"#d8576b\"], [0.6666666666666666, \"#ed7953\"], [0.7777777777777778, \"#fb9f3a\"], [0.8888888888888888, \"#fdca26\"], [1.0, \"#f0f921\"]], \"type\": \"surface\"}], \"table\": [{\"cells\": {\"fill\": {\"color\": \"#EBF0F8\"}, \"line\": {\"color\": \"white\"}}, \"header\": {\"fill\": {\"color\": \"#C8D4E3\"}, \"line\": {\"color\": \"white\"}}, \"type\": \"table\"}]}, \"layout\": {\"annotationdefaults\": {\"arrowcolor\": \"#2a3f5f\", \"arrowhead\": 0, \"arrowwidth\": 1}, \"autotypenumbers\": \"strict\", \"coloraxis\": {\"colorbar\": {\"outlinewidth\": 0, \"ticks\": \"\"}}, \"colorscale\": {\"diverging\": [[0, \"#8e0152\"], [0.1, \"#c51b7d\"], [0.2, \"#de77ae\"], [0.3, \"#f1b6da\"], [0.4, \"#fde0ef\"], [0.5, \"#f7f7f7\"], [0.6, \"#e6f5d0\"], [0.7, \"#b8e186\"], [0.8, \"#7fbc41\"], [0.9, \"#4d9221\"], [1, \"#276419\"]], \"sequential\": [[0.0, \"#0d0887\"], [0.1111111111111111, \"#46039f\"], [0.2222222222222222, \"#7201a8\"], [0.3333333333333333, \"#9c179e\"], [0.4444444444444444, \"#bd3786\"], [0.5555555555555556, \"#d8576b\"], [0.6666666666666666, \"#ed7953\"], [0.7777777777777778, \"#fb9f3a\"], [0.8888888888888888, \"#fdca26\"], [1.0, \"#f0f921\"]], \"sequentialminus\": [[0.0, \"#0d0887\"], [0.1111111111111111, \"#46039f\"], [0.2222222222222222, \"#7201a8\"], [0.3333333333333333, \"#9c179e\"], [0.4444444444444444, \"#bd3786\"], [0.5555555555555556, \"#d8576b\"], [0.6666666666666666, \"#ed7953\"], [0.7777777777777778, \"#fb9f3a\"], [0.8888888888888888, \"#fdca26\"], [1.0, \"#f0f921\"]]}, \"colorway\": [\"#636efa\", \"#EF553B\", \"#00cc96\", \"#ab63fa\", \"#FFA15A\", \"#19d3f3\", \"#FF6692\", \"#B6E880\", \"#FF97FF\", \"#FECB52\"], \"font\": {\"color\": \"#2a3f5f\"}, \"geo\": {\"bgcolor\": \"white\", \"lakecolor\": \"white\", \"landcolor\": \"#E5ECF6\", \"showlakes\": true, \"showland\": true, \"subunitcolor\": \"white\"}, \"hoverlabel\": {\"align\": \"left\"}, \"hovermode\": \"closest\", \"mapbox\": {\"style\": \"light\"}, \"paper_bgcolor\": \"white\", \"plot_bgcolor\": \"#E5ECF6\", \"polar\": {\"angularaxis\": {\"gridcolor\": \"white\", \"linecolor\": \"white\", \"ticks\": \"\"}, \"bgcolor\": \"#E5ECF6\", \"radialaxis\": {\"gridcolor\": \"white\", \"linecolor\": \"white\", \"ticks\": \"\"}}, \"scene\": {\"xaxis\": {\"backgroundcolor\": \"#E5ECF6\", \"gridcolor\": \"white\", \"gridwidth\": 2, \"linecolor\": \"white\", \"showbackground\": true, \"ticks\": \"\", \"zerolinecolor\": \"white\"}, \"yaxis\": {\"backgroundcolor\": \"#E5ECF6\", \"gridcolor\": \"white\", \"gridwidth\": 2, \"linecolor\": \"white\", \"showbackground\": true, \"ticks\": \"\", \"zerolinecolor\": \"white\"}, \"zaxis\": {\"backgroundcolor\": \"#E5ECF6\", \"gridcolor\": \"white\", \"gridwidth\": 2, \"linecolor\": \"white\", \"showbackground\": true, \"ticks\": \"\", \"zerolinecolor\": \"white\"}}, \"shapedefaults\": {\"line\": {\"color\": \"#2a3f5f\"}}, \"ternary\": {\"aaxis\": {\"gridcolor\": \"white\", \"linecolor\": \"white\", \"ticks\": \"\"}, \"baxis\": {\"gridcolor\": \"white\", \"linecolor\": \"white\", \"ticks\": \"\"}, \"bgcolor\": \"#E5ECF6\", \"caxis\": {\"gridcolor\": \"white\", \"linecolor\": \"white\", \"ticks\": \"\"}}, \"title\": {\"x\": 0.05}, \"xaxis\": {\"automargin\": true, \"gridcolor\": \"white\", \"linecolor\": \"white\", \"ticks\": \"\", \"title\": {\"standoff\": 15}, \"zerolinecolor\": \"white\", \"zerolinewidth\": 2}, \"yaxis\": {\"automargin\": true, \"gridcolor\": \"white\", \"linecolor\": \"white\", \"ticks\": \"\", \"title\": {\"standoff\": 15}, \"zerolinecolor\": \"white\", \"zerolinewidth\": 2}}}, \"title\": {\"text\": \"\"}, \"xaxis\": {\"title\": {\"text\": \"\"}}, \"yaxis\": {\"title\": {\"text\": \"MASE distribution\"}}},                        {\"responsive\": true}                    ).then(function(){\n",
       "                            \n",
       "var gd = document.getElementById('5e3b5860-9870-44ff-a8ac-bb40a722d5af');\n",
       "var x = new MutationObserver(function (mutations, observer) {{\n",
       "        var display = window.getComputedStyle(gd).display;\n",
       "        if (!display || display === 'none') {{\n",
       "            console.log([gd, 'removed!']);\n",
       "            Plotly.purge(gd);\n",
       "            observer.disconnect();\n",
       "        }}\n",
       "}});\n",
       "\n",
       "// Listen for the removal of the full notebook cells\n",
       "var notebookContainer = gd.closest('#notebook-container');\n",
       "if (notebookContainer) {{\n",
       "    x.observe(notebookContainer, {childList: true});\n",
       "}}\n",
       "\n",
       "// Listen for the clearing of the current output cell\n",
       "var outputEl = gd.closest('.output');\n",
       "if (outputEl) {{\n",
       "    x.observe(outputEl, {childList: true});\n",
       "}}\n",
       "\n",
       "                        })                };                });            </script>        </div>"
      ]
     },
     "metadata": {},
     "output_type": "display_data"
    }
   ],
   "source": [
    "# name = ['LSTM - Grid', 'LSTM - TL aggregated', 'LSTM - SUB aggregated', 'LSTM - PC aggregated', \n",
    "#                 'LSTM - Site aggregated', 'CNN - Grid', 'CNN - TL aggregated', 'CNN - SUB aggregated', \n",
    "#                 'CNN - PC aggregated', 'CNN - Site aggregated', 'Auto ARIMA - Grid']\n",
    "\n",
    "fig = go.Figure()\n",
    "count = 0\n",
    "for col in grid_error_dist.keys():\n",
    "    box_data = grid_error_dist[col]\n",
    "    fig.add_trace(go.Box(y=box_data, name = column_names[count], boxmean=True))\n",
    "    count = count+1\n",
    "    \n",
    "for col in grid_error_dist_tcn.keys():\n",
    "    box_data = grid_error_dist_tcn[col]\n",
    "    fig.add_trace(go.Box(y=box_data, name = column_names[count], boxmean = True))\n",
    "    count = count+1\n",
    "    \n",
    "for col in grid_error_dist_arima.keys():\n",
    "    box_data = grid_error_dist_arima[col]\n",
    "    fig.add_trace(go.Box(y=box_data, name = column_names[count], boxmean = True))\n",
    "    count = count+1\n",
    "    \n",
    "for col in grid_error_dist_tbats.keys():\n",
    "    box_data = grid_error_dist_tbats[col]\n",
    "    fig.add_trace(go.Box(y=box_data, name = column_names[count], boxmean = True))\n",
    "    count = count+1\n",
    "    \n",
    "for col in grid_error_dist_prophet.keys():\n",
    "    box_data = grid_error_dist_prophet[col]\n",
    "    fig.add_trace(go.Box(y=box_data, name = column_names[count], boxmean = True))\n",
    "    count = count+1\n",
    "    \n",
    "\n",
    "box_data = grid_error_dist_naive['grid']\n",
    "fig.add_trace(go.Box(y=box_data, name = column_names[count], boxmean = True))\n",
    "count = count+1\n",
    "    \n",
    "\n",
    "fig.update_xaxes(title = '')\n",
    "fig.update_yaxes(title = 'MASE distribution')\n",
    "fig.update_layout(title = \"\", showlegend = False, font = dict(size=10))"
   ]
  },
  {
   "cell_type": "code",
   "execution_count": 78,
   "metadata": {},
   "outputs": [
    {
     "data": {
      "application/vnd.plotly.v1+json": {
       "config": {
        "plotlyServerURL": "https://plot.ly"
       },
       "data": [
        {
         "name": "LSTM",
         "type": "bar",
         "x": [
          "Grid",
          "TL Aggregated",
          "SUB Aggregated",
          "PC Aggregated",
          "Site Aggregated"
         ],
         "y": [
          1.468234482294422,
          1.416183866343975,
          1.330124385681185,
          1.123227003082377,
          1.0130934871185597,
          1.150048520316879,
          1.1694360905458736,
          1.1717213662474222,
          1.1983409868317592,
          1.1695815390243398,
          1.0542174171354008,
          1.0232683119331432,
          1.0241570683528618,
          0.9293869144235187,
          1.0084912706608262,
          1.8748277728587743,
          1.749112915806915,
          1.7063914310919486,
          1.5437416506766883,
          1.683218533714505,
          1.9623944934883193,
          1.9665700550555831,
          1.966532036884487,
          1.0803983146720393,
          1.0899355671492141,
          1.079391787981906
         ]
        },
        {
         "name": "Convolutions",
         "type": "bar",
         "x": [
          "Grid",
          "TL Aggregated",
          "SUB Aggregated",
          "PC Aggregated",
          "Site Aggregated"
         ],
         "y": [
          1.150048520316879,
          1.1694360905458736,
          1.1717213662474222,
          1.1983409868317592,
          1.1695815390243398
         ]
        }
       ],
       "layout": {
        "barmode": "group",
        "template": {
         "data": {
          "bar": [
           {
            "error_x": {
             "color": "#2a3f5f"
            },
            "error_y": {
             "color": "#2a3f5f"
            },
            "marker": {
             "line": {
              "color": "#E5ECF6",
              "width": 0.5
             }
            },
            "type": "bar"
           }
          ],
          "barpolar": [
           {
            "marker": {
             "line": {
              "color": "#E5ECF6",
              "width": 0.5
             }
            },
            "type": "barpolar"
           }
          ],
          "carpet": [
           {
            "aaxis": {
             "endlinecolor": "#2a3f5f",
             "gridcolor": "white",
             "linecolor": "white",
             "minorgridcolor": "white",
             "startlinecolor": "#2a3f5f"
            },
            "baxis": {
             "endlinecolor": "#2a3f5f",
             "gridcolor": "white",
             "linecolor": "white",
             "minorgridcolor": "white",
             "startlinecolor": "#2a3f5f"
            },
            "type": "carpet"
           }
          ],
          "choropleth": [
           {
            "colorbar": {
             "outlinewidth": 0,
             "ticks": ""
            },
            "type": "choropleth"
           }
          ],
          "contour": [
           {
            "colorbar": {
             "outlinewidth": 0,
             "ticks": ""
            },
            "colorscale": [
             [
              0,
              "#0d0887"
             ],
             [
              0.1111111111111111,
              "#46039f"
             ],
             [
              0.2222222222222222,
              "#7201a8"
             ],
             [
              0.3333333333333333,
              "#9c179e"
             ],
             [
              0.4444444444444444,
              "#bd3786"
             ],
             [
              0.5555555555555556,
              "#d8576b"
             ],
             [
              0.6666666666666666,
              "#ed7953"
             ],
             [
              0.7777777777777778,
              "#fb9f3a"
             ],
             [
              0.8888888888888888,
              "#fdca26"
             ],
             [
              1,
              "#f0f921"
             ]
            ],
            "type": "contour"
           }
          ],
          "contourcarpet": [
           {
            "colorbar": {
             "outlinewidth": 0,
             "ticks": ""
            },
            "type": "contourcarpet"
           }
          ],
          "heatmap": [
           {
            "colorbar": {
             "outlinewidth": 0,
             "ticks": ""
            },
            "colorscale": [
             [
              0,
              "#0d0887"
             ],
             [
              0.1111111111111111,
              "#46039f"
             ],
             [
              0.2222222222222222,
              "#7201a8"
             ],
             [
              0.3333333333333333,
              "#9c179e"
             ],
             [
              0.4444444444444444,
              "#bd3786"
             ],
             [
              0.5555555555555556,
              "#d8576b"
             ],
             [
              0.6666666666666666,
              "#ed7953"
             ],
             [
              0.7777777777777778,
              "#fb9f3a"
             ],
             [
              0.8888888888888888,
              "#fdca26"
             ],
             [
              1,
              "#f0f921"
             ]
            ],
            "type": "heatmap"
           }
          ],
          "heatmapgl": [
           {
            "colorbar": {
             "outlinewidth": 0,
             "ticks": ""
            },
            "colorscale": [
             [
              0,
              "#0d0887"
             ],
             [
              0.1111111111111111,
              "#46039f"
             ],
             [
              0.2222222222222222,
              "#7201a8"
             ],
             [
              0.3333333333333333,
              "#9c179e"
             ],
             [
              0.4444444444444444,
              "#bd3786"
             ],
             [
              0.5555555555555556,
              "#d8576b"
             ],
             [
              0.6666666666666666,
              "#ed7953"
             ],
             [
              0.7777777777777778,
              "#fb9f3a"
             ],
             [
              0.8888888888888888,
              "#fdca26"
             ],
             [
              1,
              "#f0f921"
             ]
            ],
            "type": "heatmapgl"
           }
          ],
          "histogram": [
           {
            "marker": {
             "colorbar": {
              "outlinewidth": 0,
              "ticks": ""
             }
            },
            "type": "histogram"
           }
          ],
          "histogram2d": [
           {
            "colorbar": {
             "outlinewidth": 0,
             "ticks": ""
            },
            "colorscale": [
             [
              0,
              "#0d0887"
             ],
             [
              0.1111111111111111,
              "#46039f"
             ],
             [
              0.2222222222222222,
              "#7201a8"
             ],
             [
              0.3333333333333333,
              "#9c179e"
             ],
             [
              0.4444444444444444,
              "#bd3786"
             ],
             [
              0.5555555555555556,
              "#d8576b"
             ],
             [
              0.6666666666666666,
              "#ed7953"
             ],
             [
              0.7777777777777778,
              "#fb9f3a"
             ],
             [
              0.8888888888888888,
              "#fdca26"
             ],
             [
              1,
              "#f0f921"
             ]
            ],
            "type": "histogram2d"
           }
          ],
          "histogram2dcontour": [
           {
            "colorbar": {
             "outlinewidth": 0,
             "ticks": ""
            },
            "colorscale": [
             [
              0,
              "#0d0887"
             ],
             [
              0.1111111111111111,
              "#46039f"
             ],
             [
              0.2222222222222222,
              "#7201a8"
             ],
             [
              0.3333333333333333,
              "#9c179e"
             ],
             [
              0.4444444444444444,
              "#bd3786"
             ],
             [
              0.5555555555555556,
              "#d8576b"
             ],
             [
              0.6666666666666666,
              "#ed7953"
             ],
             [
              0.7777777777777778,
              "#fb9f3a"
             ],
             [
              0.8888888888888888,
              "#fdca26"
             ],
             [
              1,
              "#f0f921"
             ]
            ],
            "type": "histogram2dcontour"
           }
          ],
          "mesh3d": [
           {
            "colorbar": {
             "outlinewidth": 0,
             "ticks": ""
            },
            "type": "mesh3d"
           }
          ],
          "parcoords": [
           {
            "line": {
             "colorbar": {
              "outlinewidth": 0,
              "ticks": ""
             }
            },
            "type": "parcoords"
           }
          ],
          "pie": [
           {
            "automargin": true,
            "type": "pie"
           }
          ],
          "scatter": [
           {
            "marker": {
             "colorbar": {
              "outlinewidth": 0,
              "ticks": ""
             }
            },
            "type": "scatter"
           }
          ],
          "scatter3d": [
           {
            "line": {
             "colorbar": {
              "outlinewidth": 0,
              "ticks": ""
             }
            },
            "marker": {
             "colorbar": {
              "outlinewidth": 0,
              "ticks": ""
             }
            },
            "type": "scatter3d"
           }
          ],
          "scattercarpet": [
           {
            "marker": {
             "colorbar": {
              "outlinewidth": 0,
              "ticks": ""
             }
            },
            "type": "scattercarpet"
           }
          ],
          "scattergeo": [
           {
            "marker": {
             "colorbar": {
              "outlinewidth": 0,
              "ticks": ""
             }
            },
            "type": "scattergeo"
           }
          ],
          "scattergl": [
           {
            "marker": {
             "colorbar": {
              "outlinewidth": 0,
              "ticks": ""
             }
            },
            "type": "scattergl"
           }
          ],
          "scattermapbox": [
           {
            "marker": {
             "colorbar": {
              "outlinewidth": 0,
              "ticks": ""
             }
            },
            "type": "scattermapbox"
           }
          ],
          "scatterpolar": [
           {
            "marker": {
             "colorbar": {
              "outlinewidth": 0,
              "ticks": ""
             }
            },
            "type": "scatterpolar"
           }
          ],
          "scatterpolargl": [
           {
            "marker": {
             "colorbar": {
              "outlinewidth": 0,
              "ticks": ""
             }
            },
            "type": "scatterpolargl"
           }
          ],
          "scatterternary": [
           {
            "marker": {
             "colorbar": {
              "outlinewidth": 0,
              "ticks": ""
             }
            },
            "type": "scatterternary"
           }
          ],
          "surface": [
           {
            "colorbar": {
             "outlinewidth": 0,
             "ticks": ""
            },
            "colorscale": [
             [
              0,
              "#0d0887"
             ],
             [
              0.1111111111111111,
              "#46039f"
             ],
             [
              0.2222222222222222,
              "#7201a8"
             ],
             [
              0.3333333333333333,
              "#9c179e"
             ],
             [
              0.4444444444444444,
              "#bd3786"
             ],
             [
              0.5555555555555556,
              "#d8576b"
             ],
             [
              0.6666666666666666,
              "#ed7953"
             ],
             [
              0.7777777777777778,
              "#fb9f3a"
             ],
             [
              0.8888888888888888,
              "#fdca26"
             ],
             [
              1,
              "#f0f921"
             ]
            ],
            "type": "surface"
           }
          ],
          "table": [
           {
            "cells": {
             "fill": {
              "color": "#EBF0F8"
             },
             "line": {
              "color": "white"
             }
            },
            "header": {
             "fill": {
              "color": "#C8D4E3"
             },
             "line": {
              "color": "white"
             }
            },
            "type": "table"
           }
          ]
         },
         "layout": {
          "annotationdefaults": {
           "arrowcolor": "#2a3f5f",
           "arrowhead": 0,
           "arrowwidth": 1
          },
          "autotypenumbers": "strict",
          "coloraxis": {
           "colorbar": {
            "outlinewidth": 0,
            "ticks": ""
           }
          },
          "colorscale": {
           "diverging": [
            [
             0,
             "#8e0152"
            ],
            [
             0.1,
             "#c51b7d"
            ],
            [
             0.2,
             "#de77ae"
            ],
            [
             0.3,
             "#f1b6da"
            ],
            [
             0.4,
             "#fde0ef"
            ],
            [
             0.5,
             "#f7f7f7"
            ],
            [
             0.6,
             "#e6f5d0"
            ],
            [
             0.7,
             "#b8e186"
            ],
            [
             0.8,
             "#7fbc41"
            ],
            [
             0.9,
             "#4d9221"
            ],
            [
             1,
             "#276419"
            ]
           ],
           "sequential": [
            [
             0,
             "#0d0887"
            ],
            [
             0.1111111111111111,
             "#46039f"
            ],
            [
             0.2222222222222222,
             "#7201a8"
            ],
            [
             0.3333333333333333,
             "#9c179e"
            ],
            [
             0.4444444444444444,
             "#bd3786"
            ],
            [
             0.5555555555555556,
             "#d8576b"
            ],
            [
             0.6666666666666666,
             "#ed7953"
            ],
            [
             0.7777777777777778,
             "#fb9f3a"
            ],
            [
             0.8888888888888888,
             "#fdca26"
            ],
            [
             1,
             "#f0f921"
            ]
           ],
           "sequentialminus": [
            [
             0,
             "#0d0887"
            ],
            [
             0.1111111111111111,
             "#46039f"
            ],
            [
             0.2222222222222222,
             "#7201a8"
            ],
            [
             0.3333333333333333,
             "#9c179e"
            ],
            [
             0.4444444444444444,
             "#bd3786"
            ],
            [
             0.5555555555555556,
             "#d8576b"
            ],
            [
             0.6666666666666666,
             "#ed7953"
            ],
            [
             0.7777777777777778,
             "#fb9f3a"
            ],
            [
             0.8888888888888888,
             "#fdca26"
            ],
            [
             1,
             "#f0f921"
            ]
           ]
          },
          "colorway": [
           "#636efa",
           "#EF553B",
           "#00cc96",
           "#ab63fa",
           "#FFA15A",
           "#19d3f3",
           "#FF6692",
           "#B6E880",
           "#FF97FF",
           "#FECB52"
          ],
          "font": {
           "color": "#2a3f5f"
          },
          "geo": {
           "bgcolor": "white",
           "lakecolor": "white",
           "landcolor": "#E5ECF6",
           "showlakes": true,
           "showland": true,
           "subunitcolor": "white"
          },
          "hoverlabel": {
           "align": "left"
          },
          "hovermode": "closest",
          "mapbox": {
           "style": "light"
          },
          "paper_bgcolor": "white",
          "plot_bgcolor": "#E5ECF6",
          "polar": {
           "angularaxis": {
            "gridcolor": "white",
            "linecolor": "white",
            "ticks": ""
           },
           "bgcolor": "#E5ECF6",
           "radialaxis": {
            "gridcolor": "white",
            "linecolor": "white",
            "ticks": ""
           }
          },
          "scene": {
           "xaxis": {
            "backgroundcolor": "#E5ECF6",
            "gridcolor": "white",
            "gridwidth": 2,
            "linecolor": "white",
            "showbackground": true,
            "ticks": "",
            "zerolinecolor": "white"
           },
           "yaxis": {
            "backgroundcolor": "#E5ECF6",
            "gridcolor": "white",
            "gridwidth": 2,
            "linecolor": "white",
            "showbackground": true,
            "ticks": "",
            "zerolinecolor": "white"
           },
           "zaxis": {
            "backgroundcolor": "#E5ECF6",
            "gridcolor": "white",
            "gridwidth": 2,
            "linecolor": "white",
            "showbackground": true,
            "ticks": "",
            "zerolinecolor": "white"
           }
          },
          "shapedefaults": {
           "line": {
            "color": "#2a3f5f"
           }
          },
          "ternary": {
           "aaxis": {
            "gridcolor": "white",
            "linecolor": "white",
            "ticks": ""
           },
           "baxis": {
            "gridcolor": "white",
            "linecolor": "white",
            "ticks": ""
           },
           "bgcolor": "#E5ECF6",
           "caxis": {
            "gridcolor": "white",
            "linecolor": "white",
            "ticks": ""
           }
          },
          "title": {
           "x": 0.05
          },
          "xaxis": {
           "automargin": true,
           "gridcolor": "white",
           "linecolor": "white",
           "ticks": "",
           "title": {
            "standoff": 15
           },
           "zerolinecolor": "white",
           "zerolinewidth": 2
          },
          "yaxis": {
           "automargin": true,
           "gridcolor": "white",
           "linecolor": "white",
           "ticks": "",
           "title": {
            "standoff": 15
           },
           "zerolinecolor": "white",
           "zerolinewidth": 2
          }
         }
        },
        "title": {
         "text": "MASE at Grid Level"
        }
       }
      },
      "text/html": [
       "<div>                            <div id=\"e47acd90-3a6b-4c7a-ad88-f07e835bc04d\" class=\"plotly-graph-div\" style=\"height:525px; width:100%;\"></div>            <script type=\"text/javascript\">                require([\"plotly\"], function(Plotly) {                    window.PLOTLYENV=window.PLOTLYENV || {};                                    if (document.getElementById(\"e47acd90-3a6b-4c7a-ad88-f07e835bc04d\")) {                    Plotly.newPlot(                        \"e47acd90-3a6b-4c7a-ad88-f07e835bc04d\",                        [{\"name\": \"LSTM\", \"type\": \"bar\", \"x\": [\"Grid\", \"TL Aggregated\", \"SUB Aggregated\", \"PC Aggregated\", \"Site Aggregated\"], \"y\": [1.468234482294422, 1.416183866343975, 1.330124385681185, 1.123227003082377, 1.0130934871185597, 1.150048520316879, 1.1694360905458736, 1.1717213662474222, 1.1983409868317592, 1.1695815390243398, 1.0542174171354008, 1.0232683119331432, 1.0241570683528618, 0.9293869144235187, 1.0084912706608262, 1.8748277728587743, 1.749112915806915, 1.7063914310919486, 1.5437416506766883, 1.683218533714505, 1.9623944934883193, 1.9665700550555831, 1.966532036884487, 1.0803983146720393, 1.0899355671492141, 1.079391787981906]}, {\"name\": \"Convolutions\", \"type\": \"bar\", \"x\": [\"Grid\", \"TL Aggregated\", \"SUB Aggregated\", \"PC Aggregated\", \"Site Aggregated\"], \"y\": [1.150048520316879, 1.1694360905458736, 1.1717213662474222, 1.1983409868317592, 1.1695815390243398]}],                        {\"barmode\": \"group\", \"template\": {\"data\": {\"bar\": [{\"error_x\": {\"color\": \"#2a3f5f\"}, \"error_y\": {\"color\": \"#2a3f5f\"}, \"marker\": {\"line\": {\"color\": \"#E5ECF6\", \"width\": 0.5}}, \"type\": \"bar\"}], \"barpolar\": [{\"marker\": {\"line\": {\"color\": \"#E5ECF6\", \"width\": 0.5}}, \"type\": \"barpolar\"}], \"carpet\": [{\"aaxis\": {\"endlinecolor\": \"#2a3f5f\", \"gridcolor\": \"white\", \"linecolor\": \"white\", \"minorgridcolor\": \"white\", \"startlinecolor\": \"#2a3f5f\"}, \"baxis\": {\"endlinecolor\": \"#2a3f5f\", \"gridcolor\": \"white\", \"linecolor\": \"white\", \"minorgridcolor\": \"white\", \"startlinecolor\": \"#2a3f5f\"}, \"type\": \"carpet\"}], \"choropleth\": [{\"colorbar\": {\"outlinewidth\": 0, \"ticks\": \"\"}, \"type\": \"choropleth\"}], \"contour\": [{\"colorbar\": {\"outlinewidth\": 0, \"ticks\": \"\"}, \"colorscale\": [[0.0, \"#0d0887\"], [0.1111111111111111, \"#46039f\"], [0.2222222222222222, \"#7201a8\"], [0.3333333333333333, \"#9c179e\"], [0.4444444444444444, \"#bd3786\"], [0.5555555555555556, \"#d8576b\"], [0.6666666666666666, \"#ed7953\"], [0.7777777777777778, \"#fb9f3a\"], [0.8888888888888888, \"#fdca26\"], [1.0, \"#f0f921\"]], \"type\": \"contour\"}], \"contourcarpet\": [{\"colorbar\": {\"outlinewidth\": 0, \"ticks\": \"\"}, \"type\": \"contourcarpet\"}], \"heatmap\": [{\"colorbar\": {\"outlinewidth\": 0, \"ticks\": \"\"}, \"colorscale\": [[0.0, \"#0d0887\"], [0.1111111111111111, \"#46039f\"], [0.2222222222222222, \"#7201a8\"], [0.3333333333333333, \"#9c179e\"], [0.4444444444444444, \"#bd3786\"], [0.5555555555555556, \"#d8576b\"], [0.6666666666666666, \"#ed7953\"], [0.7777777777777778, \"#fb9f3a\"], [0.8888888888888888, \"#fdca26\"], [1.0, \"#f0f921\"]], \"type\": \"heatmap\"}], \"heatmapgl\": [{\"colorbar\": {\"outlinewidth\": 0, \"ticks\": \"\"}, \"colorscale\": [[0.0, \"#0d0887\"], [0.1111111111111111, \"#46039f\"], [0.2222222222222222, \"#7201a8\"], [0.3333333333333333, \"#9c179e\"], [0.4444444444444444, \"#bd3786\"], [0.5555555555555556, \"#d8576b\"], [0.6666666666666666, \"#ed7953\"], [0.7777777777777778, \"#fb9f3a\"], [0.8888888888888888, \"#fdca26\"], [1.0, \"#f0f921\"]], \"type\": \"heatmapgl\"}], \"histogram\": [{\"marker\": {\"colorbar\": {\"outlinewidth\": 0, \"ticks\": \"\"}}, \"type\": \"histogram\"}], \"histogram2d\": [{\"colorbar\": {\"outlinewidth\": 0, \"ticks\": \"\"}, \"colorscale\": [[0.0, \"#0d0887\"], [0.1111111111111111, \"#46039f\"], [0.2222222222222222, \"#7201a8\"], [0.3333333333333333, \"#9c179e\"], [0.4444444444444444, \"#bd3786\"], [0.5555555555555556, \"#d8576b\"], [0.6666666666666666, \"#ed7953\"], [0.7777777777777778, \"#fb9f3a\"], [0.8888888888888888, \"#fdca26\"], [1.0, \"#f0f921\"]], \"type\": \"histogram2d\"}], \"histogram2dcontour\": [{\"colorbar\": {\"outlinewidth\": 0, \"ticks\": \"\"}, \"colorscale\": [[0.0, \"#0d0887\"], [0.1111111111111111, \"#46039f\"], [0.2222222222222222, \"#7201a8\"], [0.3333333333333333, \"#9c179e\"], [0.4444444444444444, \"#bd3786\"], [0.5555555555555556, \"#d8576b\"], [0.6666666666666666, \"#ed7953\"], [0.7777777777777778, \"#fb9f3a\"], [0.8888888888888888, \"#fdca26\"], [1.0, \"#f0f921\"]], \"type\": \"histogram2dcontour\"}], \"mesh3d\": [{\"colorbar\": {\"outlinewidth\": 0, \"ticks\": \"\"}, \"type\": \"mesh3d\"}], \"parcoords\": [{\"line\": {\"colorbar\": {\"outlinewidth\": 0, \"ticks\": \"\"}}, \"type\": \"parcoords\"}], \"pie\": [{\"automargin\": true, \"type\": \"pie\"}], \"scatter\": [{\"marker\": {\"colorbar\": {\"outlinewidth\": 0, \"ticks\": \"\"}}, \"type\": \"scatter\"}], \"scatter3d\": [{\"line\": {\"colorbar\": {\"outlinewidth\": 0, \"ticks\": \"\"}}, \"marker\": {\"colorbar\": {\"outlinewidth\": 0, \"ticks\": \"\"}}, \"type\": \"scatter3d\"}], \"scattercarpet\": [{\"marker\": {\"colorbar\": {\"outlinewidth\": 0, \"ticks\": \"\"}}, \"type\": \"scattercarpet\"}], \"scattergeo\": [{\"marker\": {\"colorbar\": {\"outlinewidth\": 0, \"ticks\": \"\"}}, \"type\": \"scattergeo\"}], \"scattergl\": [{\"marker\": {\"colorbar\": {\"outlinewidth\": 0, \"ticks\": \"\"}}, \"type\": \"scattergl\"}], \"scattermapbox\": [{\"marker\": {\"colorbar\": {\"outlinewidth\": 0, \"ticks\": \"\"}}, \"type\": \"scattermapbox\"}], \"scatterpolar\": [{\"marker\": {\"colorbar\": {\"outlinewidth\": 0, \"ticks\": \"\"}}, \"type\": \"scatterpolar\"}], \"scatterpolargl\": [{\"marker\": {\"colorbar\": {\"outlinewidth\": 0, \"ticks\": \"\"}}, \"type\": \"scatterpolargl\"}], \"scatterternary\": [{\"marker\": {\"colorbar\": {\"outlinewidth\": 0, \"ticks\": \"\"}}, \"type\": \"scatterternary\"}], \"surface\": [{\"colorbar\": {\"outlinewidth\": 0, \"ticks\": \"\"}, \"colorscale\": [[0.0, \"#0d0887\"], [0.1111111111111111, \"#46039f\"], [0.2222222222222222, \"#7201a8\"], [0.3333333333333333, \"#9c179e\"], [0.4444444444444444, \"#bd3786\"], [0.5555555555555556, \"#d8576b\"], [0.6666666666666666, \"#ed7953\"], [0.7777777777777778, \"#fb9f3a\"], [0.8888888888888888, \"#fdca26\"], [1.0, \"#f0f921\"]], \"type\": \"surface\"}], \"table\": [{\"cells\": {\"fill\": {\"color\": \"#EBF0F8\"}, \"line\": {\"color\": \"white\"}}, \"header\": {\"fill\": {\"color\": \"#C8D4E3\"}, \"line\": {\"color\": \"white\"}}, \"type\": \"table\"}]}, \"layout\": {\"annotationdefaults\": {\"arrowcolor\": \"#2a3f5f\", \"arrowhead\": 0, \"arrowwidth\": 1}, \"autotypenumbers\": \"strict\", \"coloraxis\": {\"colorbar\": {\"outlinewidth\": 0, \"ticks\": \"\"}}, \"colorscale\": {\"diverging\": [[0, \"#8e0152\"], [0.1, \"#c51b7d\"], [0.2, \"#de77ae\"], [0.3, \"#f1b6da\"], [0.4, \"#fde0ef\"], [0.5, \"#f7f7f7\"], [0.6, \"#e6f5d0\"], [0.7, \"#b8e186\"], [0.8, \"#7fbc41\"], [0.9, \"#4d9221\"], [1, \"#276419\"]], \"sequential\": [[0.0, \"#0d0887\"], [0.1111111111111111, \"#46039f\"], [0.2222222222222222, \"#7201a8\"], [0.3333333333333333, \"#9c179e\"], [0.4444444444444444, \"#bd3786\"], [0.5555555555555556, \"#d8576b\"], [0.6666666666666666, \"#ed7953\"], [0.7777777777777778, \"#fb9f3a\"], [0.8888888888888888, \"#fdca26\"], [1.0, \"#f0f921\"]], \"sequentialminus\": [[0.0, \"#0d0887\"], [0.1111111111111111, \"#46039f\"], [0.2222222222222222, \"#7201a8\"], [0.3333333333333333, \"#9c179e\"], [0.4444444444444444, \"#bd3786\"], [0.5555555555555556, \"#d8576b\"], [0.6666666666666666, \"#ed7953\"], [0.7777777777777778, \"#fb9f3a\"], [0.8888888888888888, \"#fdca26\"], [1.0, \"#f0f921\"]]}, \"colorway\": [\"#636efa\", \"#EF553B\", \"#00cc96\", \"#ab63fa\", \"#FFA15A\", \"#19d3f3\", \"#FF6692\", \"#B6E880\", \"#FF97FF\", \"#FECB52\"], \"font\": {\"color\": \"#2a3f5f\"}, \"geo\": {\"bgcolor\": \"white\", \"lakecolor\": \"white\", \"landcolor\": \"#E5ECF6\", \"showlakes\": true, \"showland\": true, \"subunitcolor\": \"white\"}, \"hoverlabel\": {\"align\": \"left\"}, \"hovermode\": \"closest\", \"mapbox\": {\"style\": \"light\"}, \"paper_bgcolor\": \"white\", \"plot_bgcolor\": \"#E5ECF6\", \"polar\": {\"angularaxis\": {\"gridcolor\": \"white\", \"linecolor\": \"white\", \"ticks\": \"\"}, \"bgcolor\": \"#E5ECF6\", \"radialaxis\": {\"gridcolor\": \"white\", \"linecolor\": \"white\", \"ticks\": \"\"}}, \"scene\": {\"xaxis\": {\"backgroundcolor\": \"#E5ECF6\", \"gridcolor\": \"white\", \"gridwidth\": 2, \"linecolor\": \"white\", \"showbackground\": true, \"ticks\": \"\", \"zerolinecolor\": \"white\"}, \"yaxis\": {\"backgroundcolor\": \"#E5ECF6\", \"gridcolor\": \"white\", \"gridwidth\": 2, \"linecolor\": \"white\", \"showbackground\": true, \"ticks\": \"\", \"zerolinecolor\": \"white\"}, \"zaxis\": {\"backgroundcolor\": \"#E5ECF6\", \"gridcolor\": \"white\", \"gridwidth\": 2, \"linecolor\": \"white\", \"showbackground\": true, \"ticks\": \"\", \"zerolinecolor\": \"white\"}}, \"shapedefaults\": {\"line\": {\"color\": \"#2a3f5f\"}}, \"ternary\": {\"aaxis\": {\"gridcolor\": \"white\", \"linecolor\": \"white\", \"ticks\": \"\"}, \"baxis\": {\"gridcolor\": \"white\", \"linecolor\": \"white\", \"ticks\": \"\"}, \"bgcolor\": \"#E5ECF6\", \"caxis\": {\"gridcolor\": \"white\", \"linecolor\": \"white\", \"ticks\": \"\"}}, \"title\": {\"x\": 0.05}, \"xaxis\": {\"automargin\": true, \"gridcolor\": \"white\", \"linecolor\": \"white\", \"ticks\": \"\", \"title\": {\"standoff\": 15}, \"zerolinecolor\": \"white\", \"zerolinewidth\": 2}, \"yaxis\": {\"automargin\": true, \"gridcolor\": \"white\", \"linecolor\": \"white\", \"ticks\": \"\", \"title\": {\"standoff\": 15}, \"zerolinecolor\": \"white\", \"zerolinewidth\": 2}}}, \"title\": {\"text\": \"MASE at Grid Level\"}},                        {\"responsive\": true}                    ).then(function(){\n",
       "                            \n",
       "var gd = document.getElementById('e47acd90-3a6b-4c7a-ad88-f07e835bc04d');\n",
       "var x = new MutationObserver(function (mutations, observer) {{\n",
       "        var display = window.getComputedStyle(gd).display;\n",
       "        if (!display || display === 'none') {{\n",
       "            console.log([gd, 'removed!']);\n",
       "            Plotly.purge(gd);\n",
       "            observer.disconnect();\n",
       "        }}\n",
       "}});\n",
       "\n",
       "// Listen for the removal of the full notebook cells\n",
       "var notebookContainer = gd.closest('#notebook-container');\n",
       "if (notebookContainer) {{\n",
       "    x.observe(notebookContainer, {childList: true});\n",
       "}}\n",
       "\n",
       "// Listen for the clearing of the current output cell\n",
       "var outputEl = gd.closest('.output');\n",
       "if (outputEl) {{\n",
       "    x.observe(outputEl, {childList: true});\n",
       "}}\n",
       "\n",
       "                        })                };                });            </script>        </div>"
      ]
     },
     "metadata": {},
     "output_type": "display_data"
    }
   ],
   "source": [
    "x_vals = ['Grid', 'TL Aggregated', 'SUB Aggregated', \n",
    "          'PC Aggregated', 'Site Aggregated']\n",
    "fig = go.Figure(data=[\n",
    "    go.Bar(name='LSTM', x=x_vals, y=grid_error),\n",
    "    go.Bar(name='Convolutions', x=x_vals, y=grid_error_tcn)\n",
    "])\n",
    "# Change the bar mode\n",
    "fig.update_layout(barmode='group')\n",
    "fig.update_layout(title='MASE at Grid Level')\n",
    "fig.show()"
   ]
  },
  {
   "cell_type": "code",
   "execution_count": 35,
   "metadata": {},
   "outputs": [
    {
     "data": {
      "application/vnd.plotly.v1+json": {
       "config": {
        "plotlyServerURL": "https://plot.ly"
       },
       "data": [
        {
         "name": "grid",
         "type": "box",
         "y": [
          1.23547745107944,
          1.1171429020335122,
          0.7993274321385548,
          2.1183795343935286,
          1.3654891288518574,
          1.6989868378112882,
          2.136336256443193,
          1.2464064115386664,
          1.2955410825714222,
          0.7400306503522828,
          0.7036381697845254,
          1.1393532583725903,
          1.92668375728067,
          1.8386193050825739,
          1.770227352937064,
          0.880602900359924,
          1.4034838598729507,
          0.7868948666647183,
          2.2941460958013953,
          1.678766431123849,
          1.9676526113571438,
          1.2715129122100806,
          1.3142094996562086,
          0.8946901131977759,
          0.7833009868244336,
          1.185205404608998,
          1.4496242597059354,
          1.3694847353739186,
          3.583397694767865,
          2.8223650979252968,
          1.2001564873190311,
          0.6941539591930219,
          1.5868498558438444,
          1.506019136246795,
          1.875881845915804,
          1.1764035715417063
         ]
        },
        {
         "name": "tl",
         "type": "box",
         "y": [
          1.256506029183189,
          1.0032597616646375,
          1.2863189358011344,
          2.27452775708439,
          1.1527365805741552,
          1.7189638851812865,
          1.390930663257258,
          1.127812526159815,
          1.0007819841584353,
          0.5557449694198604,
          0.8820445353505396,
          1.5195199908985997,
          2.3655747317251885,
          1.7161247778343445,
          1.6625693777885637,
          0.6589237797823734,
          1.4270339930307578,
          0.9033379429792744,
          1.9681134473868664,
          2.1383426649792665,
          1.4914373151440554,
          0.9283073677172713,
          1.171082864129151,
          0.601143562451509,
          0.8316492975842156,
          1.6219005445067707,
          1.1443936013162719,
          1.3969034280953132,
          3.7227746405020463,
          3.2920229961206675,
          1.2303582908106052,
          0.8379174203453713,
          1.281825283377554,
          1.0582987476277819,
          1.5627522335054422,
          0.8006837369937311
         ]
        },
        {
         "name": "sub",
         "type": "box",
         "y": [
          1.3914132958342778,
          0.8787285723955524,
          1.2166071593414618,
          2.2837718228660613,
          0.5873153713106204,
          1.3814326106464823,
          1.4537051180735077,
          1.3114169582238708,
          0.8885321881195437,
          0.5770905981348067,
          0.6888111309784944,
          1.0275077969725055,
          2.614877457135982,
          1.0895104237278128,
          1.7439793873624578,
          0.6798350424104423,
          1.2461438134461658,
          0.948764584307949,
          2.0500196417320957,
          2.0298690566482165,
          0.8560992072629299,
          0.9915283379695033,
          1.028271109369425,
          0.67740289625415,
          0.9732806246097275,
          1.177147322438563,
          0.8536203337602739,
          1.4718119833523038,
          3.8158150564409747,
          3.0775358249032077,
          1.2730124895432682,
          0.6585522430331193,
          0.8735042063371141,
          1.0611927825296035,
          1.8024822031925622,
          1.2038896810112265
         ]
        },
        {
         "name": "pc",
         "type": "box",
         "y": [
          1.0894238351686074,
          1.3551896973531952,
          0.8070394817263182,
          1.58877691601331,
          0.38167853552512765,
          1.3667283353365605,
          1.6038469669201945,
          0.8337623763158151,
          1.1429323536943825,
          0.5544579864541486,
          0.7759105133321672,
          1.22580180776688,
          1.3612243343069814,
          1.1449052144386285,
          1.454588677831103,
          1.028489386391424,
          1.5960906004202091,
          0.7219746083930515,
          0.7891658664344597,
          1.2858377187298407,
          1.040194120638353,
          0.835644010328415,
          1.219527497699469,
          0.8773054939196011,
          0.6049531453261432,
          0.877793379051834,
          1.498856433041793,
          1.4468416395980463,
          3.2294684759909305,
          1.5670076296963156,
          1.1912992473076962,
          0.5793107653633339,
          0.5716247168659594,
          0.9568416811628363,
          1.2301474755299773,
          0.6015315644924867
         ]
        },
        {
         "name": "site",
         "type": "box",
         "y": [
          1.0485525998434915,
          1.1322375052720883,
          0.77281830390968,
          1.3315791855944243,
          0.4471480112606331,
          1.392655416714112,
          1.619498198087184,
          0.8762127640848533,
          1.0310062550303936,
          0.5054590982175392,
          0.593560061260968,
          1.1323068226066153,
          1.2659903158402261,
          1.0831592278089615,
          1.4580983942515704,
          0.7311030759243397,
          1.4288224169385764,
          0.6835409715871551,
          0.813864478663678,
          1.1599142569417966,
          1.169894877913663,
          0.8931246051531231,
          0.9326214913920724,
          0.7052517533179083,
          0.439191765071324,
          0.6745570357487853,
          1.2058303487755804,
          0.9486584895045113,
          3.017678751870492,
          1.3854282307438255,
          1.6355066058869434,
          0.5854126347703069,
          0.6010995208833927,
          0.8192938494398216,
          1.4529334087085846,
          0.6848848246727857
         ]
        }
       ],
       "layout": {
        "showlegend": false,
        "template": {
         "data": {
          "bar": [
           {
            "error_x": {
             "color": "#2a3f5f"
            },
            "error_y": {
             "color": "#2a3f5f"
            },
            "marker": {
             "line": {
              "color": "#E5ECF6",
              "width": 0.5
             }
            },
            "type": "bar"
           }
          ],
          "barpolar": [
           {
            "marker": {
             "line": {
              "color": "#E5ECF6",
              "width": 0.5
             }
            },
            "type": "barpolar"
           }
          ],
          "carpet": [
           {
            "aaxis": {
             "endlinecolor": "#2a3f5f",
             "gridcolor": "white",
             "linecolor": "white",
             "minorgridcolor": "white",
             "startlinecolor": "#2a3f5f"
            },
            "baxis": {
             "endlinecolor": "#2a3f5f",
             "gridcolor": "white",
             "linecolor": "white",
             "minorgridcolor": "white",
             "startlinecolor": "#2a3f5f"
            },
            "type": "carpet"
           }
          ],
          "choropleth": [
           {
            "colorbar": {
             "outlinewidth": 0,
             "ticks": ""
            },
            "type": "choropleth"
           }
          ],
          "contour": [
           {
            "colorbar": {
             "outlinewidth": 0,
             "ticks": ""
            },
            "colorscale": [
             [
              0,
              "#0d0887"
             ],
             [
              0.1111111111111111,
              "#46039f"
             ],
             [
              0.2222222222222222,
              "#7201a8"
             ],
             [
              0.3333333333333333,
              "#9c179e"
             ],
             [
              0.4444444444444444,
              "#bd3786"
             ],
             [
              0.5555555555555556,
              "#d8576b"
             ],
             [
              0.6666666666666666,
              "#ed7953"
             ],
             [
              0.7777777777777778,
              "#fb9f3a"
             ],
             [
              0.8888888888888888,
              "#fdca26"
             ],
             [
              1,
              "#f0f921"
             ]
            ],
            "type": "contour"
           }
          ],
          "contourcarpet": [
           {
            "colorbar": {
             "outlinewidth": 0,
             "ticks": ""
            },
            "type": "contourcarpet"
           }
          ],
          "heatmap": [
           {
            "colorbar": {
             "outlinewidth": 0,
             "ticks": ""
            },
            "colorscale": [
             [
              0,
              "#0d0887"
             ],
             [
              0.1111111111111111,
              "#46039f"
             ],
             [
              0.2222222222222222,
              "#7201a8"
             ],
             [
              0.3333333333333333,
              "#9c179e"
             ],
             [
              0.4444444444444444,
              "#bd3786"
             ],
             [
              0.5555555555555556,
              "#d8576b"
             ],
             [
              0.6666666666666666,
              "#ed7953"
             ],
             [
              0.7777777777777778,
              "#fb9f3a"
             ],
             [
              0.8888888888888888,
              "#fdca26"
             ],
             [
              1,
              "#f0f921"
             ]
            ],
            "type": "heatmap"
           }
          ],
          "heatmapgl": [
           {
            "colorbar": {
             "outlinewidth": 0,
             "ticks": ""
            },
            "colorscale": [
             [
              0,
              "#0d0887"
             ],
             [
              0.1111111111111111,
              "#46039f"
             ],
             [
              0.2222222222222222,
              "#7201a8"
             ],
             [
              0.3333333333333333,
              "#9c179e"
             ],
             [
              0.4444444444444444,
              "#bd3786"
             ],
             [
              0.5555555555555556,
              "#d8576b"
             ],
             [
              0.6666666666666666,
              "#ed7953"
             ],
             [
              0.7777777777777778,
              "#fb9f3a"
             ],
             [
              0.8888888888888888,
              "#fdca26"
             ],
             [
              1,
              "#f0f921"
             ]
            ],
            "type": "heatmapgl"
           }
          ],
          "histogram": [
           {
            "marker": {
             "colorbar": {
              "outlinewidth": 0,
              "ticks": ""
             }
            },
            "type": "histogram"
           }
          ],
          "histogram2d": [
           {
            "colorbar": {
             "outlinewidth": 0,
             "ticks": ""
            },
            "colorscale": [
             [
              0,
              "#0d0887"
             ],
             [
              0.1111111111111111,
              "#46039f"
             ],
             [
              0.2222222222222222,
              "#7201a8"
             ],
             [
              0.3333333333333333,
              "#9c179e"
             ],
             [
              0.4444444444444444,
              "#bd3786"
             ],
             [
              0.5555555555555556,
              "#d8576b"
             ],
             [
              0.6666666666666666,
              "#ed7953"
             ],
             [
              0.7777777777777778,
              "#fb9f3a"
             ],
             [
              0.8888888888888888,
              "#fdca26"
             ],
             [
              1,
              "#f0f921"
             ]
            ],
            "type": "histogram2d"
           }
          ],
          "histogram2dcontour": [
           {
            "colorbar": {
             "outlinewidth": 0,
             "ticks": ""
            },
            "colorscale": [
             [
              0,
              "#0d0887"
             ],
             [
              0.1111111111111111,
              "#46039f"
             ],
             [
              0.2222222222222222,
              "#7201a8"
             ],
             [
              0.3333333333333333,
              "#9c179e"
             ],
             [
              0.4444444444444444,
              "#bd3786"
             ],
             [
              0.5555555555555556,
              "#d8576b"
             ],
             [
              0.6666666666666666,
              "#ed7953"
             ],
             [
              0.7777777777777778,
              "#fb9f3a"
             ],
             [
              0.8888888888888888,
              "#fdca26"
             ],
             [
              1,
              "#f0f921"
             ]
            ],
            "type": "histogram2dcontour"
           }
          ],
          "mesh3d": [
           {
            "colorbar": {
             "outlinewidth": 0,
             "ticks": ""
            },
            "type": "mesh3d"
           }
          ],
          "parcoords": [
           {
            "line": {
             "colorbar": {
              "outlinewidth": 0,
              "ticks": ""
             }
            },
            "type": "parcoords"
           }
          ],
          "pie": [
           {
            "automargin": true,
            "type": "pie"
           }
          ],
          "scatter": [
           {
            "marker": {
             "colorbar": {
              "outlinewidth": 0,
              "ticks": ""
             }
            },
            "type": "scatter"
           }
          ],
          "scatter3d": [
           {
            "line": {
             "colorbar": {
              "outlinewidth": 0,
              "ticks": ""
             }
            },
            "marker": {
             "colorbar": {
              "outlinewidth": 0,
              "ticks": ""
             }
            },
            "type": "scatter3d"
           }
          ],
          "scattercarpet": [
           {
            "marker": {
             "colorbar": {
              "outlinewidth": 0,
              "ticks": ""
             }
            },
            "type": "scattercarpet"
           }
          ],
          "scattergeo": [
           {
            "marker": {
             "colorbar": {
              "outlinewidth": 0,
              "ticks": ""
             }
            },
            "type": "scattergeo"
           }
          ],
          "scattergl": [
           {
            "marker": {
             "colorbar": {
              "outlinewidth": 0,
              "ticks": ""
             }
            },
            "type": "scattergl"
           }
          ],
          "scattermapbox": [
           {
            "marker": {
             "colorbar": {
              "outlinewidth": 0,
              "ticks": ""
             }
            },
            "type": "scattermapbox"
           }
          ],
          "scatterpolar": [
           {
            "marker": {
             "colorbar": {
              "outlinewidth": 0,
              "ticks": ""
             }
            },
            "type": "scatterpolar"
           }
          ],
          "scatterpolargl": [
           {
            "marker": {
             "colorbar": {
              "outlinewidth": 0,
              "ticks": ""
             }
            },
            "type": "scatterpolargl"
           }
          ],
          "scatterternary": [
           {
            "marker": {
             "colorbar": {
              "outlinewidth": 0,
              "ticks": ""
             }
            },
            "type": "scatterternary"
           }
          ],
          "surface": [
           {
            "colorbar": {
             "outlinewidth": 0,
             "ticks": ""
            },
            "colorscale": [
             [
              0,
              "#0d0887"
             ],
             [
              0.1111111111111111,
              "#46039f"
             ],
             [
              0.2222222222222222,
              "#7201a8"
             ],
             [
              0.3333333333333333,
              "#9c179e"
             ],
             [
              0.4444444444444444,
              "#bd3786"
             ],
             [
              0.5555555555555556,
              "#d8576b"
             ],
             [
              0.6666666666666666,
              "#ed7953"
             ],
             [
              0.7777777777777778,
              "#fb9f3a"
             ],
             [
              0.8888888888888888,
              "#fdca26"
             ],
             [
              1,
              "#f0f921"
             ]
            ],
            "type": "surface"
           }
          ],
          "table": [
           {
            "cells": {
             "fill": {
              "color": "#EBF0F8"
             },
             "line": {
              "color": "white"
             }
            },
            "header": {
             "fill": {
              "color": "#C8D4E3"
             },
             "line": {
              "color": "white"
             }
            },
            "type": "table"
           }
          ]
         },
         "layout": {
          "annotationdefaults": {
           "arrowcolor": "#2a3f5f",
           "arrowhead": 0,
           "arrowwidth": 1
          },
          "autotypenumbers": "strict",
          "coloraxis": {
           "colorbar": {
            "outlinewidth": 0,
            "ticks": ""
           }
          },
          "colorscale": {
           "diverging": [
            [
             0,
             "#8e0152"
            ],
            [
             0.1,
             "#c51b7d"
            ],
            [
             0.2,
             "#de77ae"
            ],
            [
             0.3,
             "#f1b6da"
            ],
            [
             0.4,
             "#fde0ef"
            ],
            [
             0.5,
             "#f7f7f7"
            ],
            [
             0.6,
             "#e6f5d0"
            ],
            [
             0.7,
             "#b8e186"
            ],
            [
             0.8,
             "#7fbc41"
            ],
            [
             0.9,
             "#4d9221"
            ],
            [
             1,
             "#276419"
            ]
           ],
           "sequential": [
            [
             0,
             "#0d0887"
            ],
            [
             0.1111111111111111,
             "#46039f"
            ],
            [
             0.2222222222222222,
             "#7201a8"
            ],
            [
             0.3333333333333333,
             "#9c179e"
            ],
            [
             0.4444444444444444,
             "#bd3786"
            ],
            [
             0.5555555555555556,
             "#d8576b"
            ],
            [
             0.6666666666666666,
             "#ed7953"
            ],
            [
             0.7777777777777778,
             "#fb9f3a"
            ],
            [
             0.8888888888888888,
             "#fdca26"
            ],
            [
             1,
             "#f0f921"
            ]
           ],
           "sequentialminus": [
            [
             0,
             "#0d0887"
            ],
            [
             0.1111111111111111,
             "#46039f"
            ],
            [
             0.2222222222222222,
             "#7201a8"
            ],
            [
             0.3333333333333333,
             "#9c179e"
            ],
            [
             0.4444444444444444,
             "#bd3786"
            ],
            [
             0.5555555555555556,
             "#d8576b"
            ],
            [
             0.6666666666666666,
             "#ed7953"
            ],
            [
             0.7777777777777778,
             "#fb9f3a"
            ],
            [
             0.8888888888888888,
             "#fdca26"
            ],
            [
             1,
             "#f0f921"
            ]
           ]
          },
          "colorway": [
           "#636efa",
           "#EF553B",
           "#00cc96",
           "#ab63fa",
           "#FFA15A",
           "#19d3f3",
           "#FF6692",
           "#B6E880",
           "#FF97FF",
           "#FECB52"
          ],
          "font": {
           "color": "#2a3f5f"
          },
          "geo": {
           "bgcolor": "white",
           "lakecolor": "white",
           "landcolor": "#E5ECF6",
           "showlakes": true,
           "showland": true,
           "subunitcolor": "white"
          },
          "hoverlabel": {
           "align": "left"
          },
          "hovermode": "closest",
          "mapbox": {
           "style": "light"
          },
          "paper_bgcolor": "white",
          "plot_bgcolor": "#E5ECF6",
          "polar": {
           "angularaxis": {
            "gridcolor": "white",
            "linecolor": "white",
            "ticks": ""
           },
           "bgcolor": "#E5ECF6",
           "radialaxis": {
            "gridcolor": "white",
            "linecolor": "white",
            "ticks": ""
           }
          },
          "scene": {
           "xaxis": {
            "backgroundcolor": "#E5ECF6",
            "gridcolor": "white",
            "gridwidth": 2,
            "linecolor": "white",
            "showbackground": true,
            "ticks": "",
            "zerolinecolor": "white"
           },
           "yaxis": {
            "backgroundcolor": "#E5ECF6",
            "gridcolor": "white",
            "gridwidth": 2,
            "linecolor": "white",
            "showbackground": true,
            "ticks": "",
            "zerolinecolor": "white"
           },
           "zaxis": {
            "backgroundcolor": "#E5ECF6",
            "gridcolor": "white",
            "gridwidth": 2,
            "linecolor": "white",
            "showbackground": true,
            "ticks": "",
            "zerolinecolor": "white"
           }
          },
          "shapedefaults": {
           "line": {
            "color": "#2a3f5f"
           }
          },
          "ternary": {
           "aaxis": {
            "gridcolor": "white",
            "linecolor": "white",
            "ticks": ""
           },
           "baxis": {
            "gridcolor": "white",
            "linecolor": "white",
            "ticks": ""
           },
           "bgcolor": "#E5ECF6",
           "caxis": {
            "gridcolor": "white",
            "linecolor": "white",
            "ticks": ""
           }
          },
          "title": {
           "x": 0.05
          },
          "xaxis": {
           "automargin": true,
           "gridcolor": "white",
           "linecolor": "white",
           "ticks": "",
           "title": {
            "standoff": 15
           },
           "zerolinecolor": "white",
           "zerolinewidth": 2
          },
          "yaxis": {
           "automargin": true,
           "gridcolor": "white",
           "linecolor": "white",
           "ticks": "",
           "title": {
            "standoff": 15
           },
           "zerolinecolor": "white",
           "zerolinewidth": 2
          }
         }
        },
        "title": {
         "text": "Grid level forecasts - Model LSTM"
        },
        "xaxis": {
         "title": {
          "text": "BU strategy - ts hierarchy level"
         }
        },
        "yaxis": {
         "title": {
          "text": "MASE distribution"
         }
        }
       }
      },
      "text/html": [
       "<div>                            <div id=\"456df3ce-cd8c-43cd-8ebc-b8b297f83413\" class=\"plotly-graph-div\" style=\"height:525px; width:100%;\"></div>            <script type=\"text/javascript\">                require([\"plotly\"], function(Plotly) {                    window.PLOTLYENV=window.PLOTLYENV || {};                                    if (document.getElementById(\"456df3ce-cd8c-43cd-8ebc-b8b297f83413\")) {                    Plotly.newPlot(                        \"456df3ce-cd8c-43cd-8ebc-b8b297f83413\",                        [{\"name\": \"grid\", \"type\": \"box\", \"y\": [1.23547745107944, 1.1171429020335122, 0.7993274321385548, 2.1183795343935286, 1.3654891288518574, 1.6989868378112882, 2.136336256443193, 1.2464064115386664, 1.2955410825714222, 0.7400306503522828, 0.7036381697845254, 1.1393532583725903, 1.92668375728067, 1.8386193050825739, 1.770227352937064, 0.880602900359924, 1.4034838598729507, 0.7868948666647183, 2.2941460958013953, 1.678766431123849, 1.9676526113571438, 1.2715129122100806, 1.3142094996562086, 0.8946901131977759, 0.7833009868244336, 1.185205404608998, 1.4496242597059354, 1.3694847353739186, 3.583397694767865, 2.8223650979252968, 1.2001564873190311, 0.6941539591930219, 1.5868498558438444, 1.506019136246795, 1.875881845915804, 1.1764035715417063]}, {\"name\": \"tl\", \"type\": \"box\", \"y\": [1.256506029183189, 1.0032597616646375, 1.2863189358011344, 2.27452775708439, 1.1527365805741552, 1.7189638851812865, 1.390930663257258, 1.127812526159815, 1.0007819841584353, 0.5557449694198604, 0.8820445353505396, 1.5195199908985997, 2.3655747317251885, 1.7161247778343445, 1.6625693777885637, 0.6589237797823734, 1.4270339930307578, 0.9033379429792744, 1.9681134473868664, 2.1383426649792665, 1.4914373151440554, 0.9283073677172713, 1.171082864129151, 0.601143562451509, 0.8316492975842156, 1.6219005445067707, 1.1443936013162719, 1.3969034280953132, 3.7227746405020463, 3.2920229961206675, 1.2303582908106052, 0.8379174203453713, 1.281825283377554, 1.0582987476277819, 1.5627522335054422, 0.8006837369937311]}, {\"name\": \"sub\", \"type\": \"box\", \"y\": [1.3914132958342778, 0.8787285723955524, 1.2166071593414618, 2.2837718228660613, 0.5873153713106204, 1.3814326106464823, 1.4537051180735077, 1.3114169582238708, 0.8885321881195437, 0.5770905981348067, 0.6888111309784944, 1.0275077969725055, 2.614877457135982, 1.0895104237278128, 1.7439793873624578, 0.6798350424104423, 1.2461438134461658, 0.948764584307949, 2.0500196417320957, 2.0298690566482165, 0.8560992072629299, 0.9915283379695033, 1.028271109369425, 0.67740289625415, 0.9732806246097275, 1.177147322438563, 0.8536203337602739, 1.4718119833523038, 3.8158150564409747, 3.0775358249032077, 1.2730124895432682, 0.6585522430331193, 0.8735042063371141, 1.0611927825296035, 1.8024822031925622, 1.2038896810112265]}, {\"name\": \"pc\", \"type\": \"box\", \"y\": [1.0894238351686074, 1.3551896973531952, 0.8070394817263182, 1.58877691601331, 0.38167853552512765, 1.3667283353365605, 1.6038469669201945, 0.8337623763158151, 1.1429323536943825, 0.5544579864541486, 0.7759105133321672, 1.22580180776688, 1.3612243343069814, 1.1449052144386285, 1.454588677831103, 1.028489386391424, 1.5960906004202091, 0.7219746083930515, 0.7891658664344597, 1.2858377187298407, 1.040194120638353, 0.835644010328415, 1.219527497699469, 0.8773054939196011, 0.6049531453261432, 0.877793379051834, 1.498856433041793, 1.4468416395980463, 3.2294684759909305, 1.5670076296963156, 1.1912992473076962, 0.5793107653633339, 0.5716247168659594, 0.9568416811628363, 1.2301474755299773, 0.6015315644924867]}, {\"name\": \"site\", \"type\": \"box\", \"y\": [1.0485525998434915, 1.1322375052720883, 0.77281830390968, 1.3315791855944243, 0.4471480112606331, 1.392655416714112, 1.619498198087184, 0.8762127640848533, 1.0310062550303936, 0.5054590982175392, 0.593560061260968, 1.1323068226066153, 1.2659903158402261, 1.0831592278089615, 1.4580983942515704, 0.7311030759243397, 1.4288224169385764, 0.6835409715871551, 0.813864478663678, 1.1599142569417966, 1.169894877913663, 0.8931246051531231, 0.9326214913920724, 0.7052517533179083, 0.439191765071324, 0.6745570357487853, 1.2058303487755804, 0.9486584895045113, 3.017678751870492, 1.3854282307438255, 1.6355066058869434, 0.5854126347703069, 0.6010995208833927, 0.8192938494398216, 1.4529334087085846, 0.6848848246727857]}],                        {\"showlegend\": false, \"template\": {\"data\": {\"bar\": [{\"error_x\": {\"color\": \"#2a3f5f\"}, \"error_y\": {\"color\": \"#2a3f5f\"}, \"marker\": {\"line\": {\"color\": \"#E5ECF6\", \"width\": 0.5}}, \"type\": \"bar\"}], \"barpolar\": [{\"marker\": {\"line\": {\"color\": \"#E5ECF6\", \"width\": 0.5}}, \"type\": \"barpolar\"}], \"carpet\": [{\"aaxis\": {\"endlinecolor\": \"#2a3f5f\", \"gridcolor\": \"white\", \"linecolor\": \"white\", \"minorgridcolor\": \"white\", \"startlinecolor\": \"#2a3f5f\"}, \"baxis\": {\"endlinecolor\": \"#2a3f5f\", \"gridcolor\": \"white\", \"linecolor\": \"white\", \"minorgridcolor\": \"white\", \"startlinecolor\": \"#2a3f5f\"}, \"type\": \"carpet\"}], \"choropleth\": [{\"colorbar\": {\"outlinewidth\": 0, \"ticks\": \"\"}, \"type\": \"choropleth\"}], \"contour\": [{\"colorbar\": {\"outlinewidth\": 0, \"ticks\": \"\"}, \"colorscale\": [[0.0, \"#0d0887\"], [0.1111111111111111, \"#46039f\"], [0.2222222222222222, \"#7201a8\"], [0.3333333333333333, \"#9c179e\"], [0.4444444444444444, \"#bd3786\"], [0.5555555555555556, \"#d8576b\"], [0.6666666666666666, \"#ed7953\"], [0.7777777777777778, \"#fb9f3a\"], [0.8888888888888888, \"#fdca26\"], [1.0, \"#f0f921\"]], \"type\": \"contour\"}], \"contourcarpet\": [{\"colorbar\": {\"outlinewidth\": 0, \"ticks\": \"\"}, \"type\": \"contourcarpet\"}], \"heatmap\": [{\"colorbar\": {\"outlinewidth\": 0, \"ticks\": \"\"}, \"colorscale\": [[0.0, \"#0d0887\"], [0.1111111111111111, \"#46039f\"], [0.2222222222222222, \"#7201a8\"], [0.3333333333333333, \"#9c179e\"], [0.4444444444444444, \"#bd3786\"], [0.5555555555555556, \"#d8576b\"], [0.6666666666666666, \"#ed7953\"], [0.7777777777777778, \"#fb9f3a\"], [0.8888888888888888, \"#fdca26\"], [1.0, \"#f0f921\"]], \"type\": \"heatmap\"}], \"heatmapgl\": [{\"colorbar\": {\"outlinewidth\": 0, \"ticks\": \"\"}, \"colorscale\": [[0.0, \"#0d0887\"], [0.1111111111111111, \"#46039f\"], [0.2222222222222222, \"#7201a8\"], [0.3333333333333333, \"#9c179e\"], [0.4444444444444444, \"#bd3786\"], [0.5555555555555556, \"#d8576b\"], [0.6666666666666666, \"#ed7953\"], [0.7777777777777778, \"#fb9f3a\"], [0.8888888888888888, \"#fdca26\"], [1.0, \"#f0f921\"]], \"type\": \"heatmapgl\"}], \"histogram\": [{\"marker\": {\"colorbar\": {\"outlinewidth\": 0, \"ticks\": \"\"}}, \"type\": \"histogram\"}], \"histogram2d\": [{\"colorbar\": {\"outlinewidth\": 0, \"ticks\": \"\"}, \"colorscale\": [[0.0, \"#0d0887\"], [0.1111111111111111, \"#46039f\"], [0.2222222222222222, \"#7201a8\"], [0.3333333333333333, \"#9c179e\"], [0.4444444444444444, \"#bd3786\"], [0.5555555555555556, \"#d8576b\"], [0.6666666666666666, \"#ed7953\"], [0.7777777777777778, \"#fb9f3a\"], [0.8888888888888888, \"#fdca26\"], [1.0, \"#f0f921\"]], \"type\": \"histogram2d\"}], \"histogram2dcontour\": [{\"colorbar\": {\"outlinewidth\": 0, \"ticks\": \"\"}, \"colorscale\": [[0.0, \"#0d0887\"], [0.1111111111111111, \"#46039f\"], [0.2222222222222222, \"#7201a8\"], [0.3333333333333333, \"#9c179e\"], [0.4444444444444444, \"#bd3786\"], [0.5555555555555556, \"#d8576b\"], [0.6666666666666666, \"#ed7953\"], [0.7777777777777778, \"#fb9f3a\"], [0.8888888888888888, \"#fdca26\"], [1.0, \"#f0f921\"]], \"type\": \"histogram2dcontour\"}], \"mesh3d\": [{\"colorbar\": {\"outlinewidth\": 0, \"ticks\": \"\"}, \"type\": \"mesh3d\"}], \"parcoords\": [{\"line\": {\"colorbar\": {\"outlinewidth\": 0, \"ticks\": \"\"}}, \"type\": \"parcoords\"}], \"pie\": [{\"automargin\": true, \"type\": \"pie\"}], \"scatter\": [{\"marker\": {\"colorbar\": {\"outlinewidth\": 0, \"ticks\": \"\"}}, \"type\": \"scatter\"}], \"scatter3d\": [{\"line\": {\"colorbar\": {\"outlinewidth\": 0, \"ticks\": \"\"}}, \"marker\": {\"colorbar\": {\"outlinewidth\": 0, \"ticks\": \"\"}}, \"type\": \"scatter3d\"}], \"scattercarpet\": [{\"marker\": {\"colorbar\": {\"outlinewidth\": 0, \"ticks\": \"\"}}, \"type\": \"scattercarpet\"}], \"scattergeo\": [{\"marker\": {\"colorbar\": {\"outlinewidth\": 0, \"ticks\": \"\"}}, \"type\": \"scattergeo\"}], \"scattergl\": [{\"marker\": {\"colorbar\": {\"outlinewidth\": 0, \"ticks\": \"\"}}, \"type\": \"scattergl\"}], \"scattermapbox\": [{\"marker\": {\"colorbar\": {\"outlinewidth\": 0, \"ticks\": \"\"}}, \"type\": \"scattermapbox\"}], \"scatterpolar\": [{\"marker\": {\"colorbar\": {\"outlinewidth\": 0, \"ticks\": \"\"}}, \"type\": \"scatterpolar\"}], \"scatterpolargl\": [{\"marker\": {\"colorbar\": {\"outlinewidth\": 0, \"ticks\": \"\"}}, \"type\": \"scatterpolargl\"}], \"scatterternary\": [{\"marker\": {\"colorbar\": {\"outlinewidth\": 0, \"ticks\": \"\"}}, \"type\": \"scatterternary\"}], \"surface\": [{\"colorbar\": {\"outlinewidth\": 0, \"ticks\": \"\"}, \"colorscale\": [[0.0, \"#0d0887\"], [0.1111111111111111, \"#46039f\"], [0.2222222222222222, \"#7201a8\"], [0.3333333333333333, \"#9c179e\"], [0.4444444444444444, \"#bd3786\"], [0.5555555555555556, \"#d8576b\"], [0.6666666666666666, \"#ed7953\"], [0.7777777777777778, \"#fb9f3a\"], [0.8888888888888888, \"#fdca26\"], [1.0, \"#f0f921\"]], \"type\": \"surface\"}], \"table\": [{\"cells\": {\"fill\": {\"color\": \"#EBF0F8\"}, \"line\": {\"color\": \"white\"}}, \"header\": {\"fill\": {\"color\": \"#C8D4E3\"}, \"line\": {\"color\": \"white\"}}, \"type\": \"table\"}]}, \"layout\": {\"annotationdefaults\": {\"arrowcolor\": \"#2a3f5f\", \"arrowhead\": 0, \"arrowwidth\": 1}, \"autotypenumbers\": \"strict\", \"coloraxis\": {\"colorbar\": {\"outlinewidth\": 0, \"ticks\": \"\"}}, \"colorscale\": {\"diverging\": [[0, \"#8e0152\"], [0.1, \"#c51b7d\"], [0.2, \"#de77ae\"], [0.3, \"#f1b6da\"], [0.4, \"#fde0ef\"], [0.5, \"#f7f7f7\"], [0.6, \"#e6f5d0\"], [0.7, \"#b8e186\"], [0.8, \"#7fbc41\"], [0.9, \"#4d9221\"], [1, \"#276419\"]], \"sequential\": [[0.0, \"#0d0887\"], [0.1111111111111111, \"#46039f\"], [0.2222222222222222, \"#7201a8\"], [0.3333333333333333, \"#9c179e\"], [0.4444444444444444, \"#bd3786\"], [0.5555555555555556, \"#d8576b\"], [0.6666666666666666, \"#ed7953\"], [0.7777777777777778, \"#fb9f3a\"], [0.8888888888888888, \"#fdca26\"], [1.0, \"#f0f921\"]], \"sequentialminus\": [[0.0, \"#0d0887\"], [0.1111111111111111, \"#46039f\"], [0.2222222222222222, \"#7201a8\"], [0.3333333333333333, \"#9c179e\"], [0.4444444444444444, \"#bd3786\"], [0.5555555555555556, \"#d8576b\"], [0.6666666666666666, \"#ed7953\"], [0.7777777777777778, \"#fb9f3a\"], [0.8888888888888888, \"#fdca26\"], [1.0, \"#f0f921\"]]}, \"colorway\": [\"#636efa\", \"#EF553B\", \"#00cc96\", \"#ab63fa\", \"#FFA15A\", \"#19d3f3\", \"#FF6692\", \"#B6E880\", \"#FF97FF\", \"#FECB52\"], \"font\": {\"color\": \"#2a3f5f\"}, \"geo\": {\"bgcolor\": \"white\", \"lakecolor\": \"white\", \"landcolor\": \"#E5ECF6\", \"showlakes\": true, \"showland\": true, \"subunitcolor\": \"white\"}, \"hoverlabel\": {\"align\": \"left\"}, \"hovermode\": \"closest\", \"mapbox\": {\"style\": \"light\"}, \"paper_bgcolor\": \"white\", \"plot_bgcolor\": \"#E5ECF6\", \"polar\": {\"angularaxis\": {\"gridcolor\": \"white\", \"linecolor\": \"white\", \"ticks\": \"\"}, \"bgcolor\": \"#E5ECF6\", \"radialaxis\": {\"gridcolor\": \"white\", \"linecolor\": \"white\", \"ticks\": \"\"}}, \"scene\": {\"xaxis\": {\"backgroundcolor\": \"#E5ECF6\", \"gridcolor\": \"white\", \"gridwidth\": 2, \"linecolor\": \"white\", \"showbackground\": true, \"ticks\": \"\", \"zerolinecolor\": \"white\"}, \"yaxis\": {\"backgroundcolor\": \"#E5ECF6\", \"gridcolor\": \"white\", \"gridwidth\": 2, \"linecolor\": \"white\", \"showbackground\": true, \"ticks\": \"\", \"zerolinecolor\": \"white\"}, \"zaxis\": {\"backgroundcolor\": \"#E5ECF6\", \"gridcolor\": \"white\", \"gridwidth\": 2, \"linecolor\": \"white\", \"showbackground\": true, \"ticks\": \"\", \"zerolinecolor\": \"white\"}}, \"shapedefaults\": {\"line\": {\"color\": \"#2a3f5f\"}}, \"ternary\": {\"aaxis\": {\"gridcolor\": \"white\", \"linecolor\": \"white\", \"ticks\": \"\"}, \"baxis\": {\"gridcolor\": \"white\", \"linecolor\": \"white\", \"ticks\": \"\"}, \"bgcolor\": \"#E5ECF6\", \"caxis\": {\"gridcolor\": \"white\", \"linecolor\": \"white\", \"ticks\": \"\"}}, \"title\": {\"x\": 0.05}, \"xaxis\": {\"automargin\": true, \"gridcolor\": \"white\", \"linecolor\": \"white\", \"ticks\": \"\", \"title\": {\"standoff\": 15}, \"zerolinecolor\": \"white\", \"zerolinewidth\": 2}, \"yaxis\": {\"automargin\": true, \"gridcolor\": \"white\", \"linecolor\": \"white\", \"ticks\": \"\", \"title\": {\"standoff\": 15}, \"zerolinecolor\": \"white\", \"zerolinewidth\": 2}}}, \"title\": {\"text\": \"Grid level forecasts - Model LSTM\"}, \"xaxis\": {\"title\": {\"text\": \"BU strategy - ts hierarchy level\"}}, \"yaxis\": {\"title\": {\"text\": \"MASE distribution\"}}},                        {\"responsive\": true}                    ).then(function(){\n",
       "                            \n",
       "var gd = document.getElementById('456df3ce-cd8c-43cd-8ebc-b8b297f83413');\n",
       "var x = new MutationObserver(function (mutations, observer) {{\n",
       "        var display = window.getComputedStyle(gd).display;\n",
       "        if (!display || display === 'none') {{\n",
       "            console.log([gd, 'removed!']);\n",
       "            Plotly.purge(gd);\n",
       "            observer.disconnect();\n",
       "        }}\n",
       "}});\n",
       "\n",
       "// Listen for the removal of the full notebook cells\n",
       "var notebookContainer = gd.closest('#notebook-container');\n",
       "if (notebookContainer) {{\n",
       "    x.observe(notebookContainer, {childList: true});\n",
       "}}\n",
       "\n",
       "// Listen for the clearing of the current output cell\n",
       "var outputEl = gd.closest('.output');\n",
       "if (outputEl) {{\n",
       "    x.observe(outputEl, {childList: true});\n",
       "}}\n",
       "\n",
       "                        })                };                });            </script>        </div>"
      ]
     },
     "metadata": {},
     "output_type": "display_data"
    }
   ],
   "source": [
    "fig = go.Figure()\n",
    "for col in grid_error_dist.keys():\n",
    "    box_data = grid_error_dist[col]\n",
    "    fig.add_trace(go.Box(y=box_data, name = col))\n",
    "fig.update_xaxes(title = 'BU strategy - ts hierarchy level')\n",
    "fig.update_yaxes(title = 'MASE distribution')\n",
    "fig.update_layout(title = \"Grid level forecasts - Model LSTM\", showlegend = False)"
   ]
  },
  {
   "cell_type": "code",
   "execution_count": 34,
   "metadata": {},
   "outputs": [
    {
     "data": {
      "application/vnd.plotly.v1+json": {
       "config": {
        "plotlyServerURL": "https://plot.ly"
       },
       "data": [
        {
         "name": "grid",
         "type": "box",
         "y": [
          3.4053630071537606,
          3.9336043320261247,
          4.943115464028954,
          5.288742006370496,
          4.712054390061754,
          5.04895820253476,
          5.4229256717237755,
          4.390895517904,
          4.757890353496411,
          4.043340268024233,
          3.666636658782479,
          4.848673635779654,
          5.218897837073379,
          5.26500076073676,
          3.942124784384393,
          3.608355122418069,
          3.1638820405420085,
          4.384345962342484,
          4.817420420561679,
          5.173560896157113,
          5.330607625404893,
          4.345695578155768,
          4.471440943121055,
          4.759207973022852,
          4.026650673499766,
          4.476796030752107,
          5.18310277240383,
          5.038219618234287,
          1.5929341032104312,
          2.1763657574487834,
          2.9342692421173635,
          3.6599821890504667,
          3.9401761866630705,
          3.1538693577488983,
          5.19519390562354,
          4.184911074400843
         ]
        },
        {
         "name": "tl",
         "type": "box",
         "y": [
          3.389664677888329,
          3.9312651102091714,
          4.9349895332172595,
          5.281249618615122,
          4.692883305382709,
          5.046280732491974,
          5.418002601622449,
          4.383828563456176,
          4.739572396927346,
          4.0280106179396,
          3.6493900093606713,
          4.845386690263024,
          5.215764501444752,
          5.259655845611012,
          3.9337952469401762,
          3.5912263821873647,
          3.1575963495961754,
          4.366898136330182,
          4.810312294620938,
          5.159084186698441,
          5.317572904831738,
          4.338859369904049,
          4.466647999468463,
          4.746141174224085,
          4.016522051560023,
          4.4728374426833515,
          5.187857543837242,
          5.027054608858818,
          1.5804387112578653,
          2.1718577437783546,
          2.9381075892388067,
          3.660164033591076,
          3.953054226513108,
          3.1612754476873377,
          5.197110130379307,
          4.178650679821616
         ]
        },
        {
         "name": "sub",
         "type": "box",
         "y": [
          3.3923589549592505,
          3.93511796796252,
          4.938987996767073,
          5.285234674381559,
          4.6950033135218385,
          5.050195342233074,
          5.421926510087039,
          4.387820013657552,
          4.741891678534019,
          4.03055351922186,
          3.65435186065421,
          4.8496194434300355,
          5.219653135177021,
          5.26361411062019,
          3.9351838630927647,
          3.5930500318499825,
          3.1615938667810037,
          4.369096685015874,
          4.814435512031191,
          5.163035890882061,
          5.321510934092232,
          4.3427701037018425,
          4.470543297281891,
          4.748674959499653,
          4.0196556601033455,
          4.477425552146604,
          5.1914887336499875,
          5.029740330293178,
          1.5763305524732032,
          2.1740947059626037,
          2.9400570124860153,
          3.6638517049618367,
          3.956545980432228,
          3.1647247193908106,
          5.2007357411986215,
          4.181577776074072
         ]
        },
        {
         "name": "pc",
         "type": "box",
         "y": [
          1.5486566236612964,
          0.8335599169855742,
          1.6459962632871545,
          0.928771882205842,
          1.0828533942851342,
          0.7305743754702314,
          0.8644677464811366,
          1.704378769078957,
          1.1773742889110113,
          1.6306728629204255,
          1.2860122960711284,
          0.5853964173086876,
          1.0263030117242562,
          1.066823266394078,
          2.2629245430265286,
          0.7610021061852746,
          1.92024276841251,
          0.9591158722856127,
          0.8397544279269101,
          1.0123155919489377,
          0.868205948993065,
          1.870028529831677,
          1.8350654185079478,
          1.9327091859409449,
          1.6804139762116588,
          0.8068246977656325,
          0.7918882587547383,
          0.6978677951595538,
          2.5714465382710836,
          1.802334089359521,
          0.880720851399267,
          0.5784228628948818,
          0.580917846017367,
          1.378766676189226,
          0.5333321221720001,
          1.5549061642099857
         ]
        },
        {
         "name": "site",
         "type": "box",
         "y": [
          1.4257249136587333,
          0.7921209907138315,
          1.5982180035379392,
          0.8800748528036915,
          1.0213308953087072,
          0.8837598729012577,
          0.7521789354296659,
          1.5387668286815903,
          1.0575404117690204,
          1.5867496949238002,
          1.2342010850742209,
          0.6004207228176733,
          1.0091254934653788,
          1.0488955277219527,
          2.2463577849367398,
          0.7313025591053112,
          1.9056292004063706,
          0.9311342861664087,
          0.8385547402867864,
          0.9262615491454199,
          0.7984005553057446,
          1.8337085780963682,
          1.7724347861910381,
          1.8139590156261536,
          1.6091344990222212,
          0.7492376269363404,
          0.6860037351633302,
          0.7535025878332674,
          2.5787404282530955,
          1.8071311550151659,
          0.8885497019755216,
          0.5935276487640083,
          0.5867497618626022,
          1.3175138634494812,
          0.4755407587073754,
          1.5314919143346952
         ]
        }
       ],
       "layout": {
        "showlegend": false,
        "template": {
         "data": {
          "bar": [
           {
            "error_x": {
             "color": "#2a3f5f"
            },
            "error_y": {
             "color": "#2a3f5f"
            },
            "marker": {
             "line": {
              "color": "#E5ECF6",
              "width": 0.5
             }
            },
            "type": "bar"
           }
          ],
          "barpolar": [
           {
            "marker": {
             "line": {
              "color": "#E5ECF6",
              "width": 0.5
             }
            },
            "type": "barpolar"
           }
          ],
          "carpet": [
           {
            "aaxis": {
             "endlinecolor": "#2a3f5f",
             "gridcolor": "white",
             "linecolor": "white",
             "minorgridcolor": "white",
             "startlinecolor": "#2a3f5f"
            },
            "baxis": {
             "endlinecolor": "#2a3f5f",
             "gridcolor": "white",
             "linecolor": "white",
             "minorgridcolor": "white",
             "startlinecolor": "#2a3f5f"
            },
            "type": "carpet"
           }
          ],
          "choropleth": [
           {
            "colorbar": {
             "outlinewidth": 0,
             "ticks": ""
            },
            "type": "choropleth"
           }
          ],
          "contour": [
           {
            "colorbar": {
             "outlinewidth": 0,
             "ticks": ""
            },
            "colorscale": [
             [
              0,
              "#0d0887"
             ],
             [
              0.1111111111111111,
              "#46039f"
             ],
             [
              0.2222222222222222,
              "#7201a8"
             ],
             [
              0.3333333333333333,
              "#9c179e"
             ],
             [
              0.4444444444444444,
              "#bd3786"
             ],
             [
              0.5555555555555556,
              "#d8576b"
             ],
             [
              0.6666666666666666,
              "#ed7953"
             ],
             [
              0.7777777777777778,
              "#fb9f3a"
             ],
             [
              0.8888888888888888,
              "#fdca26"
             ],
             [
              1,
              "#f0f921"
             ]
            ],
            "type": "contour"
           }
          ],
          "contourcarpet": [
           {
            "colorbar": {
             "outlinewidth": 0,
             "ticks": ""
            },
            "type": "contourcarpet"
           }
          ],
          "heatmap": [
           {
            "colorbar": {
             "outlinewidth": 0,
             "ticks": ""
            },
            "colorscale": [
             [
              0,
              "#0d0887"
             ],
             [
              0.1111111111111111,
              "#46039f"
             ],
             [
              0.2222222222222222,
              "#7201a8"
             ],
             [
              0.3333333333333333,
              "#9c179e"
             ],
             [
              0.4444444444444444,
              "#bd3786"
             ],
             [
              0.5555555555555556,
              "#d8576b"
             ],
             [
              0.6666666666666666,
              "#ed7953"
             ],
             [
              0.7777777777777778,
              "#fb9f3a"
             ],
             [
              0.8888888888888888,
              "#fdca26"
             ],
             [
              1,
              "#f0f921"
             ]
            ],
            "type": "heatmap"
           }
          ],
          "heatmapgl": [
           {
            "colorbar": {
             "outlinewidth": 0,
             "ticks": ""
            },
            "colorscale": [
             [
              0,
              "#0d0887"
             ],
             [
              0.1111111111111111,
              "#46039f"
             ],
             [
              0.2222222222222222,
              "#7201a8"
             ],
             [
              0.3333333333333333,
              "#9c179e"
             ],
             [
              0.4444444444444444,
              "#bd3786"
             ],
             [
              0.5555555555555556,
              "#d8576b"
             ],
             [
              0.6666666666666666,
              "#ed7953"
             ],
             [
              0.7777777777777778,
              "#fb9f3a"
             ],
             [
              0.8888888888888888,
              "#fdca26"
             ],
             [
              1,
              "#f0f921"
             ]
            ],
            "type": "heatmapgl"
           }
          ],
          "histogram": [
           {
            "marker": {
             "colorbar": {
              "outlinewidth": 0,
              "ticks": ""
             }
            },
            "type": "histogram"
           }
          ],
          "histogram2d": [
           {
            "colorbar": {
             "outlinewidth": 0,
             "ticks": ""
            },
            "colorscale": [
             [
              0,
              "#0d0887"
             ],
             [
              0.1111111111111111,
              "#46039f"
             ],
             [
              0.2222222222222222,
              "#7201a8"
             ],
             [
              0.3333333333333333,
              "#9c179e"
             ],
             [
              0.4444444444444444,
              "#bd3786"
             ],
             [
              0.5555555555555556,
              "#d8576b"
             ],
             [
              0.6666666666666666,
              "#ed7953"
             ],
             [
              0.7777777777777778,
              "#fb9f3a"
             ],
             [
              0.8888888888888888,
              "#fdca26"
             ],
             [
              1,
              "#f0f921"
             ]
            ],
            "type": "histogram2d"
           }
          ],
          "histogram2dcontour": [
           {
            "colorbar": {
             "outlinewidth": 0,
             "ticks": ""
            },
            "colorscale": [
             [
              0,
              "#0d0887"
             ],
             [
              0.1111111111111111,
              "#46039f"
             ],
             [
              0.2222222222222222,
              "#7201a8"
             ],
             [
              0.3333333333333333,
              "#9c179e"
             ],
             [
              0.4444444444444444,
              "#bd3786"
             ],
             [
              0.5555555555555556,
              "#d8576b"
             ],
             [
              0.6666666666666666,
              "#ed7953"
             ],
             [
              0.7777777777777778,
              "#fb9f3a"
             ],
             [
              0.8888888888888888,
              "#fdca26"
             ],
             [
              1,
              "#f0f921"
             ]
            ],
            "type": "histogram2dcontour"
           }
          ],
          "mesh3d": [
           {
            "colorbar": {
             "outlinewidth": 0,
             "ticks": ""
            },
            "type": "mesh3d"
           }
          ],
          "parcoords": [
           {
            "line": {
             "colorbar": {
              "outlinewidth": 0,
              "ticks": ""
             }
            },
            "type": "parcoords"
           }
          ],
          "pie": [
           {
            "automargin": true,
            "type": "pie"
           }
          ],
          "scatter": [
           {
            "marker": {
             "colorbar": {
              "outlinewidth": 0,
              "ticks": ""
             }
            },
            "type": "scatter"
           }
          ],
          "scatter3d": [
           {
            "line": {
             "colorbar": {
              "outlinewidth": 0,
              "ticks": ""
             }
            },
            "marker": {
             "colorbar": {
              "outlinewidth": 0,
              "ticks": ""
             }
            },
            "type": "scatter3d"
           }
          ],
          "scattercarpet": [
           {
            "marker": {
             "colorbar": {
              "outlinewidth": 0,
              "ticks": ""
             }
            },
            "type": "scattercarpet"
           }
          ],
          "scattergeo": [
           {
            "marker": {
             "colorbar": {
              "outlinewidth": 0,
              "ticks": ""
             }
            },
            "type": "scattergeo"
           }
          ],
          "scattergl": [
           {
            "marker": {
             "colorbar": {
              "outlinewidth": 0,
              "ticks": ""
             }
            },
            "type": "scattergl"
           }
          ],
          "scattermapbox": [
           {
            "marker": {
             "colorbar": {
              "outlinewidth": 0,
              "ticks": ""
             }
            },
            "type": "scattermapbox"
           }
          ],
          "scatterpolar": [
           {
            "marker": {
             "colorbar": {
              "outlinewidth": 0,
              "ticks": ""
             }
            },
            "type": "scatterpolar"
           }
          ],
          "scatterpolargl": [
           {
            "marker": {
             "colorbar": {
              "outlinewidth": 0,
              "ticks": ""
             }
            },
            "type": "scatterpolargl"
           }
          ],
          "scatterternary": [
           {
            "marker": {
             "colorbar": {
              "outlinewidth": 0,
              "ticks": ""
             }
            },
            "type": "scatterternary"
           }
          ],
          "surface": [
           {
            "colorbar": {
             "outlinewidth": 0,
             "ticks": ""
            },
            "colorscale": [
             [
              0,
              "#0d0887"
             ],
             [
              0.1111111111111111,
              "#46039f"
             ],
             [
              0.2222222222222222,
              "#7201a8"
             ],
             [
              0.3333333333333333,
              "#9c179e"
             ],
             [
              0.4444444444444444,
              "#bd3786"
             ],
             [
              0.5555555555555556,
              "#d8576b"
             ],
             [
              0.6666666666666666,
              "#ed7953"
             ],
             [
              0.7777777777777778,
              "#fb9f3a"
             ],
             [
              0.8888888888888888,
              "#fdca26"
             ],
             [
              1,
              "#f0f921"
             ]
            ],
            "type": "surface"
           }
          ],
          "table": [
           {
            "cells": {
             "fill": {
              "color": "#EBF0F8"
             },
             "line": {
              "color": "white"
             }
            },
            "header": {
             "fill": {
              "color": "#C8D4E3"
             },
             "line": {
              "color": "white"
             }
            },
            "type": "table"
           }
          ]
         },
         "layout": {
          "annotationdefaults": {
           "arrowcolor": "#2a3f5f",
           "arrowhead": 0,
           "arrowwidth": 1
          },
          "autotypenumbers": "strict",
          "coloraxis": {
           "colorbar": {
            "outlinewidth": 0,
            "ticks": ""
           }
          },
          "colorscale": {
           "diverging": [
            [
             0,
             "#8e0152"
            ],
            [
             0.1,
             "#c51b7d"
            ],
            [
             0.2,
             "#de77ae"
            ],
            [
             0.3,
             "#f1b6da"
            ],
            [
             0.4,
             "#fde0ef"
            ],
            [
             0.5,
             "#f7f7f7"
            ],
            [
             0.6,
             "#e6f5d0"
            ],
            [
             0.7,
             "#b8e186"
            ],
            [
             0.8,
             "#7fbc41"
            ],
            [
             0.9,
             "#4d9221"
            ],
            [
             1,
             "#276419"
            ]
           ],
           "sequential": [
            [
             0,
             "#0d0887"
            ],
            [
             0.1111111111111111,
             "#46039f"
            ],
            [
             0.2222222222222222,
             "#7201a8"
            ],
            [
             0.3333333333333333,
             "#9c179e"
            ],
            [
             0.4444444444444444,
             "#bd3786"
            ],
            [
             0.5555555555555556,
             "#d8576b"
            ],
            [
             0.6666666666666666,
             "#ed7953"
            ],
            [
             0.7777777777777778,
             "#fb9f3a"
            ],
            [
             0.8888888888888888,
             "#fdca26"
            ],
            [
             1,
             "#f0f921"
            ]
           ],
           "sequentialminus": [
            [
             0,
             "#0d0887"
            ],
            [
             0.1111111111111111,
             "#46039f"
            ],
            [
             0.2222222222222222,
             "#7201a8"
            ],
            [
             0.3333333333333333,
             "#9c179e"
            ],
            [
             0.4444444444444444,
             "#bd3786"
            ],
            [
             0.5555555555555556,
             "#d8576b"
            ],
            [
             0.6666666666666666,
             "#ed7953"
            ],
            [
             0.7777777777777778,
             "#fb9f3a"
            ],
            [
             0.8888888888888888,
             "#fdca26"
            ],
            [
             1,
             "#f0f921"
            ]
           ]
          },
          "colorway": [
           "#636efa",
           "#EF553B",
           "#00cc96",
           "#ab63fa",
           "#FFA15A",
           "#19d3f3",
           "#FF6692",
           "#B6E880",
           "#FF97FF",
           "#FECB52"
          ],
          "font": {
           "color": "#2a3f5f"
          },
          "geo": {
           "bgcolor": "white",
           "lakecolor": "white",
           "landcolor": "#E5ECF6",
           "showlakes": true,
           "showland": true,
           "subunitcolor": "white"
          },
          "hoverlabel": {
           "align": "left"
          },
          "hovermode": "closest",
          "mapbox": {
           "style": "light"
          },
          "paper_bgcolor": "white",
          "plot_bgcolor": "#E5ECF6",
          "polar": {
           "angularaxis": {
            "gridcolor": "white",
            "linecolor": "white",
            "ticks": ""
           },
           "bgcolor": "#E5ECF6",
           "radialaxis": {
            "gridcolor": "white",
            "linecolor": "white",
            "ticks": ""
           }
          },
          "scene": {
           "xaxis": {
            "backgroundcolor": "#E5ECF6",
            "gridcolor": "white",
            "gridwidth": 2,
            "linecolor": "white",
            "showbackground": true,
            "ticks": "",
            "zerolinecolor": "white"
           },
           "yaxis": {
            "backgroundcolor": "#E5ECF6",
            "gridcolor": "white",
            "gridwidth": 2,
            "linecolor": "white",
            "showbackground": true,
            "ticks": "",
            "zerolinecolor": "white"
           },
           "zaxis": {
            "backgroundcolor": "#E5ECF6",
            "gridcolor": "white",
            "gridwidth": 2,
            "linecolor": "white",
            "showbackground": true,
            "ticks": "",
            "zerolinecolor": "white"
           }
          },
          "shapedefaults": {
           "line": {
            "color": "#2a3f5f"
           }
          },
          "ternary": {
           "aaxis": {
            "gridcolor": "white",
            "linecolor": "white",
            "ticks": ""
           },
           "baxis": {
            "gridcolor": "white",
            "linecolor": "white",
            "ticks": ""
           },
           "bgcolor": "#E5ECF6",
           "caxis": {
            "gridcolor": "white",
            "linecolor": "white",
            "ticks": ""
           }
          },
          "title": {
           "x": 0.05
          },
          "xaxis": {
           "automargin": true,
           "gridcolor": "white",
           "linecolor": "white",
           "ticks": "",
           "title": {
            "standoff": 15
           },
           "zerolinecolor": "white",
           "zerolinewidth": 2
          },
          "yaxis": {
           "automargin": true,
           "gridcolor": "white",
           "linecolor": "white",
           "ticks": "",
           "title": {
            "standoff": 15
           },
           "zerolinecolor": "white",
           "zerolinewidth": 2
          }
         }
        },
        "title": {
         "text": "Grid level forecasts - Model Dilated Convolutions"
        },
        "xaxis": {
         "title": {
          "text": "BU strategy - ts hierarchy level"
         }
        },
        "yaxis": {
         "title": {
          "text": "MASE distribution"
         }
        }
       }
      },
      "text/html": [
       "<div>                            <div id=\"8ddd4bf2-b6cb-49e7-b573-4796d4f7b71d\" class=\"plotly-graph-div\" style=\"height:525px; width:100%;\"></div>            <script type=\"text/javascript\">                require([\"plotly\"], function(Plotly) {                    window.PLOTLYENV=window.PLOTLYENV || {};                                    if (document.getElementById(\"8ddd4bf2-b6cb-49e7-b573-4796d4f7b71d\")) {                    Plotly.newPlot(                        \"8ddd4bf2-b6cb-49e7-b573-4796d4f7b71d\",                        [{\"name\": \"grid\", \"type\": \"box\", \"y\": [3.4053630071537606, 3.9336043320261247, 4.943115464028954, 5.288742006370496, 4.712054390061754, 5.04895820253476, 5.4229256717237755, 4.390895517904, 4.757890353496411, 4.043340268024233, 3.666636658782479, 4.848673635779654, 5.218897837073379, 5.26500076073676, 3.942124784384393, 3.608355122418069, 3.1638820405420085, 4.384345962342484, 4.817420420561679, 5.173560896157113, 5.330607625404893, 4.345695578155768, 4.471440943121055, 4.759207973022852, 4.026650673499766, 4.476796030752107, 5.18310277240383, 5.038219618234287, 1.5929341032104312, 2.1763657574487834, 2.9342692421173635, 3.6599821890504667, 3.9401761866630705, 3.1538693577488983, 5.19519390562354, 4.184911074400843]}, {\"name\": \"tl\", \"type\": \"box\", \"y\": [3.389664677888329, 3.9312651102091714, 4.9349895332172595, 5.281249618615122, 4.692883305382709, 5.046280732491974, 5.418002601622449, 4.383828563456176, 4.739572396927346, 4.0280106179396, 3.6493900093606713, 4.845386690263024, 5.215764501444752, 5.259655845611012, 3.9337952469401762, 3.5912263821873647, 3.1575963495961754, 4.366898136330182, 4.810312294620938, 5.159084186698441, 5.317572904831738, 4.338859369904049, 4.466647999468463, 4.746141174224085, 4.016522051560023, 4.4728374426833515, 5.187857543837242, 5.027054608858818, 1.5804387112578653, 2.1718577437783546, 2.9381075892388067, 3.660164033591076, 3.953054226513108, 3.1612754476873377, 5.197110130379307, 4.178650679821616]}, {\"name\": \"sub\", \"type\": \"box\", \"y\": [3.3923589549592505, 3.93511796796252, 4.938987996767073, 5.285234674381559, 4.6950033135218385, 5.050195342233074, 5.421926510087039, 4.387820013657552, 4.741891678534019, 4.03055351922186, 3.65435186065421, 4.8496194434300355, 5.219653135177021, 5.26361411062019, 3.9351838630927647, 3.5930500318499825, 3.1615938667810037, 4.369096685015874, 4.814435512031191, 5.163035890882061, 5.321510934092232, 4.3427701037018425, 4.470543297281891, 4.748674959499653, 4.0196556601033455, 4.477425552146604, 5.1914887336499875, 5.029740330293178, 1.5763305524732032, 2.1740947059626037, 2.9400570124860153, 3.6638517049618367, 3.956545980432228, 3.1647247193908106, 5.2007357411986215, 4.181577776074072]}, {\"name\": \"pc\", \"type\": \"box\", \"y\": [1.5486566236612964, 0.8335599169855742, 1.6459962632871545, 0.928771882205842, 1.0828533942851342, 0.7305743754702314, 0.8644677464811366, 1.704378769078957, 1.1773742889110113, 1.6306728629204255, 1.2860122960711284, 0.5853964173086876, 1.0263030117242562, 1.066823266394078, 2.2629245430265286, 0.7610021061852746, 1.92024276841251, 0.9591158722856127, 0.8397544279269101, 1.0123155919489377, 0.868205948993065, 1.870028529831677, 1.8350654185079478, 1.9327091859409449, 1.6804139762116588, 0.8068246977656325, 0.7918882587547383, 0.6978677951595538, 2.5714465382710836, 1.802334089359521, 0.880720851399267, 0.5784228628948818, 0.580917846017367, 1.378766676189226, 0.5333321221720001, 1.5549061642099857]}, {\"name\": \"site\", \"type\": \"box\", \"y\": [1.4257249136587333, 0.7921209907138315, 1.5982180035379392, 0.8800748528036915, 1.0213308953087072, 0.8837598729012577, 0.7521789354296659, 1.5387668286815903, 1.0575404117690204, 1.5867496949238002, 1.2342010850742209, 0.6004207228176733, 1.0091254934653788, 1.0488955277219527, 2.2463577849367398, 0.7313025591053112, 1.9056292004063706, 0.9311342861664087, 0.8385547402867864, 0.9262615491454199, 0.7984005553057446, 1.8337085780963682, 1.7724347861910381, 1.8139590156261536, 1.6091344990222212, 0.7492376269363404, 0.6860037351633302, 0.7535025878332674, 2.5787404282530955, 1.8071311550151659, 0.8885497019755216, 0.5935276487640083, 0.5867497618626022, 1.3175138634494812, 0.4755407587073754, 1.5314919143346952]}],                        {\"showlegend\": false, \"template\": {\"data\": {\"bar\": [{\"error_x\": {\"color\": \"#2a3f5f\"}, \"error_y\": {\"color\": \"#2a3f5f\"}, \"marker\": {\"line\": {\"color\": \"#E5ECF6\", \"width\": 0.5}}, \"type\": \"bar\"}], \"barpolar\": [{\"marker\": {\"line\": {\"color\": \"#E5ECF6\", \"width\": 0.5}}, \"type\": \"barpolar\"}], \"carpet\": [{\"aaxis\": {\"endlinecolor\": \"#2a3f5f\", \"gridcolor\": \"white\", \"linecolor\": \"white\", \"minorgridcolor\": \"white\", \"startlinecolor\": \"#2a3f5f\"}, \"baxis\": {\"endlinecolor\": \"#2a3f5f\", \"gridcolor\": \"white\", \"linecolor\": \"white\", \"minorgridcolor\": \"white\", \"startlinecolor\": \"#2a3f5f\"}, \"type\": \"carpet\"}], \"choropleth\": [{\"colorbar\": {\"outlinewidth\": 0, \"ticks\": \"\"}, \"type\": \"choropleth\"}], \"contour\": [{\"colorbar\": {\"outlinewidth\": 0, \"ticks\": \"\"}, \"colorscale\": [[0.0, \"#0d0887\"], [0.1111111111111111, \"#46039f\"], [0.2222222222222222, \"#7201a8\"], [0.3333333333333333, \"#9c179e\"], [0.4444444444444444, \"#bd3786\"], [0.5555555555555556, \"#d8576b\"], [0.6666666666666666, \"#ed7953\"], [0.7777777777777778, \"#fb9f3a\"], [0.8888888888888888, \"#fdca26\"], [1.0, \"#f0f921\"]], \"type\": \"contour\"}], \"contourcarpet\": [{\"colorbar\": {\"outlinewidth\": 0, \"ticks\": \"\"}, \"type\": \"contourcarpet\"}], \"heatmap\": [{\"colorbar\": {\"outlinewidth\": 0, \"ticks\": \"\"}, \"colorscale\": [[0.0, \"#0d0887\"], [0.1111111111111111, \"#46039f\"], [0.2222222222222222, \"#7201a8\"], [0.3333333333333333, \"#9c179e\"], [0.4444444444444444, \"#bd3786\"], [0.5555555555555556, \"#d8576b\"], [0.6666666666666666, \"#ed7953\"], [0.7777777777777778, \"#fb9f3a\"], [0.8888888888888888, \"#fdca26\"], [1.0, \"#f0f921\"]], \"type\": \"heatmap\"}], \"heatmapgl\": [{\"colorbar\": {\"outlinewidth\": 0, \"ticks\": \"\"}, \"colorscale\": [[0.0, \"#0d0887\"], [0.1111111111111111, \"#46039f\"], [0.2222222222222222, \"#7201a8\"], [0.3333333333333333, \"#9c179e\"], [0.4444444444444444, \"#bd3786\"], [0.5555555555555556, \"#d8576b\"], [0.6666666666666666, \"#ed7953\"], [0.7777777777777778, \"#fb9f3a\"], [0.8888888888888888, \"#fdca26\"], [1.0, \"#f0f921\"]], \"type\": \"heatmapgl\"}], \"histogram\": [{\"marker\": {\"colorbar\": {\"outlinewidth\": 0, \"ticks\": \"\"}}, \"type\": \"histogram\"}], \"histogram2d\": [{\"colorbar\": {\"outlinewidth\": 0, \"ticks\": \"\"}, \"colorscale\": [[0.0, \"#0d0887\"], [0.1111111111111111, \"#46039f\"], [0.2222222222222222, \"#7201a8\"], [0.3333333333333333, \"#9c179e\"], [0.4444444444444444, \"#bd3786\"], [0.5555555555555556, \"#d8576b\"], [0.6666666666666666, \"#ed7953\"], [0.7777777777777778, \"#fb9f3a\"], [0.8888888888888888, \"#fdca26\"], [1.0, \"#f0f921\"]], \"type\": \"histogram2d\"}], \"histogram2dcontour\": [{\"colorbar\": {\"outlinewidth\": 0, \"ticks\": \"\"}, \"colorscale\": [[0.0, \"#0d0887\"], [0.1111111111111111, \"#46039f\"], [0.2222222222222222, \"#7201a8\"], [0.3333333333333333, \"#9c179e\"], [0.4444444444444444, \"#bd3786\"], [0.5555555555555556, \"#d8576b\"], [0.6666666666666666, \"#ed7953\"], [0.7777777777777778, \"#fb9f3a\"], [0.8888888888888888, \"#fdca26\"], [1.0, \"#f0f921\"]], \"type\": \"histogram2dcontour\"}], \"mesh3d\": [{\"colorbar\": {\"outlinewidth\": 0, \"ticks\": \"\"}, \"type\": \"mesh3d\"}], \"parcoords\": [{\"line\": {\"colorbar\": {\"outlinewidth\": 0, \"ticks\": \"\"}}, \"type\": \"parcoords\"}], \"pie\": [{\"automargin\": true, \"type\": \"pie\"}], \"scatter\": [{\"marker\": {\"colorbar\": {\"outlinewidth\": 0, \"ticks\": \"\"}}, \"type\": \"scatter\"}], \"scatter3d\": [{\"line\": {\"colorbar\": {\"outlinewidth\": 0, \"ticks\": \"\"}}, \"marker\": {\"colorbar\": {\"outlinewidth\": 0, \"ticks\": \"\"}}, \"type\": \"scatter3d\"}], \"scattercarpet\": [{\"marker\": {\"colorbar\": {\"outlinewidth\": 0, \"ticks\": \"\"}}, \"type\": \"scattercarpet\"}], \"scattergeo\": [{\"marker\": {\"colorbar\": {\"outlinewidth\": 0, \"ticks\": \"\"}}, \"type\": \"scattergeo\"}], \"scattergl\": [{\"marker\": {\"colorbar\": {\"outlinewidth\": 0, \"ticks\": \"\"}}, \"type\": \"scattergl\"}], \"scattermapbox\": [{\"marker\": {\"colorbar\": {\"outlinewidth\": 0, \"ticks\": \"\"}}, \"type\": \"scattermapbox\"}], \"scatterpolar\": [{\"marker\": {\"colorbar\": {\"outlinewidth\": 0, \"ticks\": \"\"}}, \"type\": \"scatterpolar\"}], \"scatterpolargl\": [{\"marker\": {\"colorbar\": {\"outlinewidth\": 0, \"ticks\": \"\"}}, \"type\": \"scatterpolargl\"}], \"scatterternary\": [{\"marker\": {\"colorbar\": {\"outlinewidth\": 0, \"ticks\": \"\"}}, \"type\": \"scatterternary\"}], \"surface\": [{\"colorbar\": {\"outlinewidth\": 0, \"ticks\": \"\"}, \"colorscale\": [[0.0, \"#0d0887\"], [0.1111111111111111, \"#46039f\"], [0.2222222222222222, \"#7201a8\"], [0.3333333333333333, \"#9c179e\"], [0.4444444444444444, \"#bd3786\"], [0.5555555555555556, \"#d8576b\"], [0.6666666666666666, \"#ed7953\"], [0.7777777777777778, \"#fb9f3a\"], [0.8888888888888888, \"#fdca26\"], [1.0, \"#f0f921\"]], \"type\": \"surface\"}], \"table\": [{\"cells\": {\"fill\": {\"color\": \"#EBF0F8\"}, \"line\": {\"color\": \"white\"}}, \"header\": {\"fill\": {\"color\": \"#C8D4E3\"}, \"line\": {\"color\": \"white\"}}, \"type\": \"table\"}]}, \"layout\": {\"annotationdefaults\": {\"arrowcolor\": \"#2a3f5f\", \"arrowhead\": 0, \"arrowwidth\": 1}, \"autotypenumbers\": \"strict\", \"coloraxis\": {\"colorbar\": {\"outlinewidth\": 0, \"ticks\": \"\"}}, \"colorscale\": {\"diverging\": [[0, \"#8e0152\"], [0.1, \"#c51b7d\"], [0.2, \"#de77ae\"], [0.3, \"#f1b6da\"], [0.4, \"#fde0ef\"], [0.5, \"#f7f7f7\"], [0.6, \"#e6f5d0\"], [0.7, \"#b8e186\"], [0.8, \"#7fbc41\"], [0.9, \"#4d9221\"], [1, \"#276419\"]], \"sequential\": [[0.0, \"#0d0887\"], [0.1111111111111111, \"#46039f\"], [0.2222222222222222, \"#7201a8\"], [0.3333333333333333, \"#9c179e\"], [0.4444444444444444, \"#bd3786\"], [0.5555555555555556, \"#d8576b\"], [0.6666666666666666, \"#ed7953\"], [0.7777777777777778, \"#fb9f3a\"], [0.8888888888888888, \"#fdca26\"], [1.0, \"#f0f921\"]], \"sequentialminus\": [[0.0, \"#0d0887\"], [0.1111111111111111, \"#46039f\"], [0.2222222222222222, \"#7201a8\"], [0.3333333333333333, \"#9c179e\"], [0.4444444444444444, \"#bd3786\"], [0.5555555555555556, \"#d8576b\"], [0.6666666666666666, \"#ed7953\"], [0.7777777777777778, \"#fb9f3a\"], [0.8888888888888888, \"#fdca26\"], [1.0, \"#f0f921\"]]}, \"colorway\": [\"#636efa\", \"#EF553B\", \"#00cc96\", \"#ab63fa\", \"#FFA15A\", \"#19d3f3\", \"#FF6692\", \"#B6E880\", \"#FF97FF\", \"#FECB52\"], \"font\": {\"color\": \"#2a3f5f\"}, \"geo\": {\"bgcolor\": \"white\", \"lakecolor\": \"white\", \"landcolor\": \"#E5ECF6\", \"showlakes\": true, \"showland\": true, \"subunitcolor\": \"white\"}, \"hoverlabel\": {\"align\": \"left\"}, \"hovermode\": \"closest\", \"mapbox\": {\"style\": \"light\"}, \"paper_bgcolor\": \"white\", \"plot_bgcolor\": \"#E5ECF6\", \"polar\": {\"angularaxis\": {\"gridcolor\": \"white\", \"linecolor\": \"white\", \"ticks\": \"\"}, \"bgcolor\": \"#E5ECF6\", \"radialaxis\": {\"gridcolor\": \"white\", \"linecolor\": \"white\", \"ticks\": \"\"}}, \"scene\": {\"xaxis\": {\"backgroundcolor\": \"#E5ECF6\", \"gridcolor\": \"white\", \"gridwidth\": 2, \"linecolor\": \"white\", \"showbackground\": true, \"ticks\": \"\", \"zerolinecolor\": \"white\"}, \"yaxis\": {\"backgroundcolor\": \"#E5ECF6\", \"gridcolor\": \"white\", \"gridwidth\": 2, \"linecolor\": \"white\", \"showbackground\": true, \"ticks\": \"\", \"zerolinecolor\": \"white\"}, \"zaxis\": {\"backgroundcolor\": \"#E5ECF6\", \"gridcolor\": \"white\", \"gridwidth\": 2, \"linecolor\": \"white\", \"showbackground\": true, \"ticks\": \"\", \"zerolinecolor\": \"white\"}}, \"shapedefaults\": {\"line\": {\"color\": \"#2a3f5f\"}}, \"ternary\": {\"aaxis\": {\"gridcolor\": \"white\", \"linecolor\": \"white\", \"ticks\": \"\"}, \"baxis\": {\"gridcolor\": \"white\", \"linecolor\": \"white\", \"ticks\": \"\"}, \"bgcolor\": \"#E5ECF6\", \"caxis\": {\"gridcolor\": \"white\", \"linecolor\": \"white\", \"ticks\": \"\"}}, \"title\": {\"x\": 0.05}, \"xaxis\": {\"automargin\": true, \"gridcolor\": \"white\", \"linecolor\": \"white\", \"ticks\": \"\", \"title\": {\"standoff\": 15}, \"zerolinecolor\": \"white\", \"zerolinewidth\": 2}, \"yaxis\": {\"automargin\": true, \"gridcolor\": \"white\", \"linecolor\": \"white\", \"ticks\": \"\", \"title\": {\"standoff\": 15}, \"zerolinecolor\": \"white\", \"zerolinewidth\": 2}}}, \"title\": {\"text\": \"Grid level forecasts - Model Dilated Convolutions\"}, \"xaxis\": {\"title\": {\"text\": \"BU strategy - ts hierarchy level\"}}, \"yaxis\": {\"title\": {\"text\": \"MASE distribution\"}}},                        {\"responsive\": true}                    ).then(function(){\n",
       "                            \n",
       "var gd = document.getElementById('8ddd4bf2-b6cb-49e7-b573-4796d4f7b71d');\n",
       "var x = new MutationObserver(function (mutations, observer) {{\n",
       "        var display = window.getComputedStyle(gd).display;\n",
       "        if (!display || display === 'none') {{\n",
       "            console.log([gd, 'removed!']);\n",
       "            Plotly.purge(gd);\n",
       "            observer.disconnect();\n",
       "        }}\n",
       "}});\n",
       "\n",
       "// Listen for the removal of the full notebook cells\n",
       "var notebookContainer = gd.closest('#notebook-container');\n",
       "if (notebookContainer) {{\n",
       "    x.observe(notebookContainer, {childList: true});\n",
       "}}\n",
       "\n",
       "// Listen for the clearing of the current output cell\n",
       "var outputEl = gd.closest('.output');\n",
       "if (outputEl) {{\n",
       "    x.observe(outputEl, {childList: true});\n",
       "}}\n",
       "\n",
       "                        })                };                });            </script>        </div>"
      ]
     },
     "metadata": {},
     "output_type": "display_data"
    }
   ],
   "source": [
    "fig = go.Figure()\n",
    "for col in grid_error_dist_tcn.keys():\n",
    "    box_data = grid_error_dist_tcn[col]\n",
    "    fig.add_trace(go.Box(y=box_data, name = col))\n",
    "fig.update_xaxes(title = 'BU strategy - ts hierarchy level')\n",
    "fig.update_yaxes(title = 'MASE distribution')\n",
    "fig.update_layout(title = \"Grid level forecasts - Model Dilated Convolutions\", showlegend=False)"
   ]
  }
 ],
 "metadata": {
  "kernelspec": {
   "display_name": "Python 3",
   "language": "python",
   "name": "python3"
  },
  "language_info": {
   "codemirror_mode": {
    "name": "ipython",
    "version": 3
   },
   "file_extension": ".py",
   "mimetype": "text/x-python",
   "name": "python",
   "nbconvert_exporter": "python",
   "pygments_lexer": "ipython3",
   "version": "3.8.6"
  }
 },
 "nbformat": 4,
 "nbformat_minor": 1
}
