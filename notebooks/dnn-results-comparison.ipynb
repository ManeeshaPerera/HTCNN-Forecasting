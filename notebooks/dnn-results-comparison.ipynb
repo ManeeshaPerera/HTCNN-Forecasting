{
 "cells": [
  {
   "cell_type": "markdown",
   "metadata": {
    "collapsed": true
   },
   "source": [
    "## LSTM and CNN results comparison"
   ]
  },
  {
   "cell_type": "markdown",
   "metadata": {},
   "source": [
    "1. We will first calculate the error for each time series\n",
    "2. Then we will calculate the error for each level in the hierarchy\n",
    "3. Then we will calculate get the forecasts at the grid level\n",
    "4. Finally we will calculate the error for the grid level"
   ]
  },
  {
   "cell_type": "code",
   "execution_count": 1,
   "metadata": {},
   "outputs": [],
   "source": [
    "import sys\n",
    "sys.path.insert(0, '../')\n",
    "\n",
    "import src.utils as util\n",
    "import src.calculate_errors as err\n",
    "import constants as const\n",
    "\n",
    "%load_ext autoreload\n",
    "%autoreload 2"
   ]
  },
  {
   "cell_type": "code",
   "execution_count": 2,
   "metadata": {},
   "outputs": [
    {
     "data": {
      "text/html": [
       "        <script type=\"text/javascript\">\n",
       "        window.PlotlyConfig = {MathJaxConfig: 'local'};\n",
       "        if (window.MathJax) {MathJax.Hub.Config({SVG: {font: \"STIX-Web\"}});}\n",
       "        if (typeof require !== 'undefined') {\n",
       "        require.undef(\"plotly\");\n",
       "        requirejs.config({\n",
       "            paths: {\n",
       "                'plotly': ['https://cdn.plot.ly/plotly-latest.min']\n",
       "            }\n",
       "        });\n",
       "        require(['plotly'], function(Plotly) {\n",
       "            window._Plotly = Plotly;\n",
       "        });\n",
       "        }\n",
       "        </script>\n",
       "        "
      ]
     },
     "metadata": {},
     "output_type": "display_data"
    }
   ],
   "source": [
    "import plotly.graph_objs as go\n",
    "from plotly.offline import init_notebook_mode, iplot\n",
    "init_notebook_mode(connected=True)"
   ]
  },
  {
   "cell_type": "code",
   "execution_count": 3,
   "metadata": {},
   "outputs": [],
   "source": [
    "import pandas as pd\n",
    "import numpy as np"
   ]
  },
  {
   "cell_type": "code",
   "execution_count": 4,
   "metadata": {},
   "outputs": [],
   "source": [
    "def calculate_errors_per_ts(model_path, ts):\n",
    "    data = pd.read_csv(f'../ts_data/{ts}.csv', index_col=[0])\n",
    "    look_back = 14 * 7  # 14 hours in to 7 days\n",
    "\n",
    "    # train, val, test split\n",
    "    train, val, test = util.split_hourly_data(data, look_back)\n",
    "    train_df = train[['power']]\n",
    "    denom = err.calculate_denom(train_df, const.H_SEASONALITY)\n",
    "    \n",
    "    results_df = pd.read_csv(f'../{model_path}/final_results/{ts}.csv', index_col=[0])\n",
    "    test_sample = results_df[['power']].values\n",
    "    forecasts = results_df[['average_fc']].values\n",
    "    horizon = 14\n",
    "    \n",
    "    mean_mase, error_dist = err.test_errors(train_df, test_sample, forecasts, horizon, const.H_SEASONALITY, denom)\n",
    "    return mean_mase, error_dist"
   ]
  },
  {
   "cell_type": "code",
   "execution_count": 5,
   "metadata": {},
   "outputs": [],
   "source": [
    "def get_results_ts(model_path):\n",
    "    ts_mase = {}\n",
    "    ts_dist_err = {}\n",
    "    mase_vals = []\n",
    "\n",
    "    for ts in const.TS:\n",
    "        mean_mase_ts, ts_dist = calculate_errors_per_ts(model_path, ts)\n",
    "        ts_dist_err[ts] = ts_dist\n",
    "        ts_mase[ts] = mean_mase_ts\n",
    "        mase_vals.append(mean_mase_ts)\n",
    "    return ts_mase, ts_dist_err, mase_vals"
   ]
  },
  {
   "cell_type": "code",
   "execution_count": 6,
   "metadata": {},
   "outputs": [],
   "source": [
    "lstm_mase_ts, lstm_dist_ts, mase_vals_lstm = get_results_ts('lstm_results')"
   ]
  },
  {
   "cell_type": "code",
   "execution_count": 46,
   "metadata": {},
   "outputs": [],
   "source": [
    "# tcn_mase_ts, tcn_dist_ts, mase_vals_cnn = get_results_ts('cnn_results/tcn')\n",
    "\n",
    "tcn_mase_ts, tcn_dist_ts, mase_vals_cnn = get_results_ts('cnn_results/tcn_new/dilation_2')"
   ]
  },
  {
   "cell_type": "code",
   "execution_count": 10,
   "metadata": {},
   "outputs": [],
   "source": [
    "# tcn_d3_mase_ts, tcn_d3_dist_ts, mase_vals_cnn_d3 = get_results_ts('cnn_results/tcn/dilation_3')"
   ]
  },
  {
   "cell_type": "code",
   "execution_count": 36,
   "metadata": {},
   "outputs": [],
   "source": [
    "# tcn_d1_mase_ts, tcn_d1_dist_ts, mase_vals_cnn_d1 = get_results_ts('cnn_results/tcn/dilation_1')"
   ]
  },
  {
   "cell_type": "markdown",
   "metadata": {},
   "source": [
    "plot error in chart"
   ]
  },
  {
   "cell_type": "code",
   "execution_count": 47,
   "metadata": {},
   "outputs": [
    {
     "data": {
      "application/vnd.plotly.v1+json": {
       "config": {
        "plotlyServerURL": "https://plot.ly"
       },
       "data": [
        {
         "name": "LSTM",
         "type": "bar",
         "x": [
          "grid",
          "tline_1",
          "tline_2",
          "substation1",
          "substation2",
          "substation3",
          "substation4",
          6010,
          6014,
          6011,
          6280,
          6281,
          6284,
          "1295864320",
          "1247421966",
          "2107373071",
          "2009066518",
          "972102295",
          "1616571925",
          "806187417",
          "771513244",
          "1562145181",
          "896338719",
          "1113196323",
          "1597760039",
          "317532327",
          "346061612",
          "40333612",
          "511723709",
          "1004972352",
          "143824576",
          "368424646",
          "1428227531",
          "2040495184",
          "1893337300",
          "2117861717",
          "1941427679",
          "1708098535",
          "456209269"
         ],
         "y": [
          1.468234482294422,
          0.9512451452747798,
          1.553704475135833,
          0.9612492951537696,
          0.9062447799657884,
          1.4653248376913628,
          0.8942132689732367,
          0.6472148625791618,
          0.7748558731346022,
          0.6532872397184619,
          1.3770451919754874,
          0.7291093683051147,
          0.6910331358801172,
          1.1669607864961153,
          0.6225058124251436,
          0.9939902972418595,
          0.8574778015595256,
          0.7153250058828056,
          1.5697231409685273,
          0.6524394652996883,
          0.6880878193185747,
          0.7624896455170863,
          0.5666010912496753,
          0.9811432563448547,
          0.7455937102482926,
          0.9995331793033233,
          1.0258112351625863,
          0.6131515789968754,
          0.7200521320834627,
          0.768800699494758,
          0.6600727119942311,
          1.7725145197169159,
          0.9105491268230538,
          0.8199928000607609,
          0.7433133005639443,
          0.5848656267927461,
          0.8893713042907481,
          0.6538757842843316,
          0.6332925857389126
         ]
        },
        {
         "name": "Dilated Convolutions (Rate - 2)",
         "type": "bar",
         "x": [
          "grid",
          "tline_1",
          "tline_2",
          "substation1",
          "substation2",
          "substation3",
          "substation4",
          6010,
          6014,
          6011,
          6280,
          6281,
          6284,
          "1295864320",
          "1247421966",
          "2107373071",
          "2009066518",
          "972102295",
          "1616571925",
          "806187417",
          "771513244",
          "1562145181",
          "896338719",
          "1113196323",
          "1597760039",
          "317532327",
          "346061612",
          "40333612",
          "511723709",
          "1004972352",
          "143824576",
          "368424646",
          "1428227531",
          "2040495184",
          "1893337300",
          "2117861717",
          "1941427679",
          "1708098535",
          "456209269"
         ],
         "y": [
          1.150048520316879,
          1.0123789832675576,
          1.1732462406399546,
          1.0304607805655868,
          0.9553671053970907,
          1.181607142981128,
          0.9051595035716945,
          1.2872596930008473,
          1.52075062662834,
          1.3078618352675386,
          1.2875553488256937,
          1.0295719774841319,
          1.3600133615866619,
          1.3553963475957225,
          1.260018710608727,
          1.6291137246740381,
          1.1823647167102918,
          1.0116542171173108,
          1.1735850025794088,
          1.296001795836344,
          1.2582642063792187,
          1.1643436052515983,
          1.1334645100978715,
          1.1581173261208397,
          1.1038358456020363,
          1.1709278607185558,
          1.6090049565503834,
          1.2730704725316364,
          1.57706496568395,
          1.2102623373316743,
          1.1986142809962146,
          1.4546550937105747,
          1.1388636805413095,
          1.1131016622945218,
          1.300710594741851,
          1.2105087792939389,
          1.779939974196925,
          1.3312273386714026,
          1.3538787774111738
         ]
        }
       ],
       "layout": {
        "barmode": "group",
        "template": {
         "data": {
          "bar": [
           {
            "error_x": {
             "color": "#2a3f5f"
            },
            "error_y": {
             "color": "#2a3f5f"
            },
            "marker": {
             "line": {
              "color": "#E5ECF6",
              "width": 0.5
             }
            },
            "type": "bar"
           }
          ],
          "barpolar": [
           {
            "marker": {
             "line": {
              "color": "#E5ECF6",
              "width": 0.5
             }
            },
            "type": "barpolar"
           }
          ],
          "carpet": [
           {
            "aaxis": {
             "endlinecolor": "#2a3f5f",
             "gridcolor": "white",
             "linecolor": "white",
             "minorgridcolor": "white",
             "startlinecolor": "#2a3f5f"
            },
            "baxis": {
             "endlinecolor": "#2a3f5f",
             "gridcolor": "white",
             "linecolor": "white",
             "minorgridcolor": "white",
             "startlinecolor": "#2a3f5f"
            },
            "type": "carpet"
           }
          ],
          "choropleth": [
           {
            "colorbar": {
             "outlinewidth": 0,
             "ticks": ""
            },
            "type": "choropleth"
           }
          ],
          "contour": [
           {
            "colorbar": {
             "outlinewidth": 0,
             "ticks": ""
            },
            "colorscale": [
             [
              0,
              "#0d0887"
             ],
             [
              0.1111111111111111,
              "#46039f"
             ],
             [
              0.2222222222222222,
              "#7201a8"
             ],
             [
              0.3333333333333333,
              "#9c179e"
             ],
             [
              0.4444444444444444,
              "#bd3786"
             ],
             [
              0.5555555555555556,
              "#d8576b"
             ],
             [
              0.6666666666666666,
              "#ed7953"
             ],
             [
              0.7777777777777778,
              "#fb9f3a"
             ],
             [
              0.8888888888888888,
              "#fdca26"
             ],
             [
              1,
              "#f0f921"
             ]
            ],
            "type": "contour"
           }
          ],
          "contourcarpet": [
           {
            "colorbar": {
             "outlinewidth": 0,
             "ticks": ""
            },
            "type": "contourcarpet"
           }
          ],
          "heatmap": [
           {
            "colorbar": {
             "outlinewidth": 0,
             "ticks": ""
            },
            "colorscale": [
             [
              0,
              "#0d0887"
             ],
             [
              0.1111111111111111,
              "#46039f"
             ],
             [
              0.2222222222222222,
              "#7201a8"
             ],
             [
              0.3333333333333333,
              "#9c179e"
             ],
             [
              0.4444444444444444,
              "#bd3786"
             ],
             [
              0.5555555555555556,
              "#d8576b"
             ],
             [
              0.6666666666666666,
              "#ed7953"
             ],
             [
              0.7777777777777778,
              "#fb9f3a"
             ],
             [
              0.8888888888888888,
              "#fdca26"
             ],
             [
              1,
              "#f0f921"
             ]
            ],
            "type": "heatmap"
           }
          ],
          "heatmapgl": [
           {
            "colorbar": {
             "outlinewidth": 0,
             "ticks": ""
            },
            "colorscale": [
             [
              0,
              "#0d0887"
             ],
             [
              0.1111111111111111,
              "#46039f"
             ],
             [
              0.2222222222222222,
              "#7201a8"
             ],
             [
              0.3333333333333333,
              "#9c179e"
             ],
             [
              0.4444444444444444,
              "#bd3786"
             ],
             [
              0.5555555555555556,
              "#d8576b"
             ],
             [
              0.6666666666666666,
              "#ed7953"
             ],
             [
              0.7777777777777778,
              "#fb9f3a"
             ],
             [
              0.8888888888888888,
              "#fdca26"
             ],
             [
              1,
              "#f0f921"
             ]
            ],
            "type": "heatmapgl"
           }
          ],
          "histogram": [
           {
            "marker": {
             "colorbar": {
              "outlinewidth": 0,
              "ticks": ""
             }
            },
            "type": "histogram"
           }
          ],
          "histogram2d": [
           {
            "colorbar": {
             "outlinewidth": 0,
             "ticks": ""
            },
            "colorscale": [
             [
              0,
              "#0d0887"
             ],
             [
              0.1111111111111111,
              "#46039f"
             ],
             [
              0.2222222222222222,
              "#7201a8"
             ],
             [
              0.3333333333333333,
              "#9c179e"
             ],
             [
              0.4444444444444444,
              "#bd3786"
             ],
             [
              0.5555555555555556,
              "#d8576b"
             ],
             [
              0.6666666666666666,
              "#ed7953"
             ],
             [
              0.7777777777777778,
              "#fb9f3a"
             ],
             [
              0.8888888888888888,
              "#fdca26"
             ],
             [
              1,
              "#f0f921"
             ]
            ],
            "type": "histogram2d"
           }
          ],
          "histogram2dcontour": [
           {
            "colorbar": {
             "outlinewidth": 0,
             "ticks": ""
            },
            "colorscale": [
             [
              0,
              "#0d0887"
             ],
             [
              0.1111111111111111,
              "#46039f"
             ],
             [
              0.2222222222222222,
              "#7201a8"
             ],
             [
              0.3333333333333333,
              "#9c179e"
             ],
             [
              0.4444444444444444,
              "#bd3786"
             ],
             [
              0.5555555555555556,
              "#d8576b"
             ],
             [
              0.6666666666666666,
              "#ed7953"
             ],
             [
              0.7777777777777778,
              "#fb9f3a"
             ],
             [
              0.8888888888888888,
              "#fdca26"
             ],
             [
              1,
              "#f0f921"
             ]
            ],
            "type": "histogram2dcontour"
           }
          ],
          "mesh3d": [
           {
            "colorbar": {
             "outlinewidth": 0,
             "ticks": ""
            },
            "type": "mesh3d"
           }
          ],
          "parcoords": [
           {
            "line": {
             "colorbar": {
              "outlinewidth": 0,
              "ticks": ""
             }
            },
            "type": "parcoords"
           }
          ],
          "pie": [
           {
            "automargin": true,
            "type": "pie"
           }
          ],
          "scatter": [
           {
            "marker": {
             "colorbar": {
              "outlinewidth": 0,
              "ticks": ""
             }
            },
            "type": "scatter"
           }
          ],
          "scatter3d": [
           {
            "line": {
             "colorbar": {
              "outlinewidth": 0,
              "ticks": ""
             }
            },
            "marker": {
             "colorbar": {
              "outlinewidth": 0,
              "ticks": ""
             }
            },
            "type": "scatter3d"
           }
          ],
          "scattercarpet": [
           {
            "marker": {
             "colorbar": {
              "outlinewidth": 0,
              "ticks": ""
             }
            },
            "type": "scattercarpet"
           }
          ],
          "scattergeo": [
           {
            "marker": {
             "colorbar": {
              "outlinewidth": 0,
              "ticks": ""
             }
            },
            "type": "scattergeo"
           }
          ],
          "scattergl": [
           {
            "marker": {
             "colorbar": {
              "outlinewidth": 0,
              "ticks": ""
             }
            },
            "type": "scattergl"
           }
          ],
          "scattermapbox": [
           {
            "marker": {
             "colorbar": {
              "outlinewidth": 0,
              "ticks": ""
             }
            },
            "type": "scattermapbox"
           }
          ],
          "scatterpolar": [
           {
            "marker": {
             "colorbar": {
              "outlinewidth": 0,
              "ticks": ""
             }
            },
            "type": "scatterpolar"
           }
          ],
          "scatterpolargl": [
           {
            "marker": {
             "colorbar": {
              "outlinewidth": 0,
              "ticks": ""
             }
            },
            "type": "scatterpolargl"
           }
          ],
          "scatterternary": [
           {
            "marker": {
             "colorbar": {
              "outlinewidth": 0,
              "ticks": ""
             }
            },
            "type": "scatterternary"
           }
          ],
          "surface": [
           {
            "colorbar": {
             "outlinewidth": 0,
             "ticks": ""
            },
            "colorscale": [
             [
              0,
              "#0d0887"
             ],
             [
              0.1111111111111111,
              "#46039f"
             ],
             [
              0.2222222222222222,
              "#7201a8"
             ],
             [
              0.3333333333333333,
              "#9c179e"
             ],
             [
              0.4444444444444444,
              "#bd3786"
             ],
             [
              0.5555555555555556,
              "#d8576b"
             ],
             [
              0.6666666666666666,
              "#ed7953"
             ],
             [
              0.7777777777777778,
              "#fb9f3a"
             ],
             [
              0.8888888888888888,
              "#fdca26"
             ],
             [
              1,
              "#f0f921"
             ]
            ],
            "type": "surface"
           }
          ],
          "table": [
           {
            "cells": {
             "fill": {
              "color": "#EBF0F8"
             },
             "line": {
              "color": "white"
             }
            },
            "header": {
             "fill": {
              "color": "#C8D4E3"
             },
             "line": {
              "color": "white"
             }
            },
            "type": "table"
           }
          ]
         },
         "layout": {
          "annotationdefaults": {
           "arrowcolor": "#2a3f5f",
           "arrowhead": 0,
           "arrowwidth": 1
          },
          "autotypenumbers": "strict",
          "coloraxis": {
           "colorbar": {
            "outlinewidth": 0,
            "ticks": ""
           }
          },
          "colorscale": {
           "diverging": [
            [
             0,
             "#8e0152"
            ],
            [
             0.1,
             "#c51b7d"
            ],
            [
             0.2,
             "#de77ae"
            ],
            [
             0.3,
             "#f1b6da"
            ],
            [
             0.4,
             "#fde0ef"
            ],
            [
             0.5,
             "#f7f7f7"
            ],
            [
             0.6,
             "#e6f5d0"
            ],
            [
             0.7,
             "#b8e186"
            ],
            [
             0.8,
             "#7fbc41"
            ],
            [
             0.9,
             "#4d9221"
            ],
            [
             1,
             "#276419"
            ]
           ],
           "sequential": [
            [
             0,
             "#0d0887"
            ],
            [
             0.1111111111111111,
             "#46039f"
            ],
            [
             0.2222222222222222,
             "#7201a8"
            ],
            [
             0.3333333333333333,
             "#9c179e"
            ],
            [
             0.4444444444444444,
             "#bd3786"
            ],
            [
             0.5555555555555556,
             "#d8576b"
            ],
            [
             0.6666666666666666,
             "#ed7953"
            ],
            [
             0.7777777777777778,
             "#fb9f3a"
            ],
            [
             0.8888888888888888,
             "#fdca26"
            ],
            [
             1,
             "#f0f921"
            ]
           ],
           "sequentialminus": [
            [
             0,
             "#0d0887"
            ],
            [
             0.1111111111111111,
             "#46039f"
            ],
            [
             0.2222222222222222,
             "#7201a8"
            ],
            [
             0.3333333333333333,
             "#9c179e"
            ],
            [
             0.4444444444444444,
             "#bd3786"
            ],
            [
             0.5555555555555556,
             "#d8576b"
            ],
            [
             0.6666666666666666,
             "#ed7953"
            ],
            [
             0.7777777777777778,
             "#fb9f3a"
            ],
            [
             0.8888888888888888,
             "#fdca26"
            ],
            [
             1,
             "#f0f921"
            ]
           ]
          },
          "colorway": [
           "#636efa",
           "#EF553B",
           "#00cc96",
           "#ab63fa",
           "#FFA15A",
           "#19d3f3",
           "#FF6692",
           "#B6E880",
           "#FF97FF",
           "#FECB52"
          ],
          "font": {
           "color": "#2a3f5f"
          },
          "geo": {
           "bgcolor": "white",
           "lakecolor": "white",
           "landcolor": "#E5ECF6",
           "showlakes": true,
           "showland": true,
           "subunitcolor": "white"
          },
          "hoverlabel": {
           "align": "left"
          },
          "hovermode": "closest",
          "mapbox": {
           "style": "light"
          },
          "paper_bgcolor": "white",
          "plot_bgcolor": "#E5ECF6",
          "polar": {
           "angularaxis": {
            "gridcolor": "white",
            "linecolor": "white",
            "ticks": ""
           },
           "bgcolor": "#E5ECF6",
           "radialaxis": {
            "gridcolor": "white",
            "linecolor": "white",
            "ticks": ""
           }
          },
          "scene": {
           "xaxis": {
            "backgroundcolor": "#E5ECF6",
            "gridcolor": "white",
            "gridwidth": 2,
            "linecolor": "white",
            "showbackground": true,
            "ticks": "",
            "zerolinecolor": "white"
           },
           "yaxis": {
            "backgroundcolor": "#E5ECF6",
            "gridcolor": "white",
            "gridwidth": 2,
            "linecolor": "white",
            "showbackground": true,
            "ticks": "",
            "zerolinecolor": "white"
           },
           "zaxis": {
            "backgroundcolor": "#E5ECF6",
            "gridcolor": "white",
            "gridwidth": 2,
            "linecolor": "white",
            "showbackground": true,
            "ticks": "",
            "zerolinecolor": "white"
           }
          },
          "shapedefaults": {
           "line": {
            "color": "#2a3f5f"
           }
          },
          "ternary": {
           "aaxis": {
            "gridcolor": "white",
            "linecolor": "white",
            "ticks": ""
           },
           "baxis": {
            "gridcolor": "white",
            "linecolor": "white",
            "ticks": ""
           },
           "bgcolor": "#E5ECF6",
           "caxis": {
            "gridcolor": "white",
            "linecolor": "white",
            "ticks": ""
           }
          },
          "title": {
           "x": 0.05
          },
          "xaxis": {
           "automargin": true,
           "gridcolor": "white",
           "linecolor": "white",
           "ticks": "",
           "title": {
            "standoff": 15
           },
           "zerolinecolor": "white",
           "zerolinewidth": 2
          },
          "yaxis": {
           "automargin": true,
           "gridcolor": "white",
           "linecolor": "white",
           "ticks": "",
           "title": {
            "standoff": 15
           },
           "zerolinecolor": "white",
           "zerolinewidth": 2
          }
         }
        },
        "title": {
         "text": "Mean MASE - 36 samples (1 day ahead - 1 hour resolution)"
        }
       }
      },
      "text/html": [
       "<div>                            <div id=\"8b00613c-789d-43df-a77d-8738b6c636a0\" class=\"plotly-graph-div\" style=\"height:525px; width:100%;\"></div>            <script type=\"text/javascript\">                require([\"plotly\"], function(Plotly) {                    window.PLOTLYENV=window.PLOTLYENV || {};                                    if (document.getElementById(\"8b00613c-789d-43df-a77d-8738b6c636a0\")) {                    Plotly.newPlot(                        \"8b00613c-789d-43df-a77d-8738b6c636a0\",                        [{\"name\": \"LSTM\", \"type\": \"bar\", \"x\": [\"grid\", \"tline_1\", \"tline_2\", \"substation1\", \"substation2\", \"substation3\", \"substation4\", 6010, 6014, 6011, 6280, 6281, 6284, \"1295864320\", \"1247421966\", \"2107373071\", \"2009066518\", \"972102295\", \"1616571925\", \"806187417\", \"771513244\", \"1562145181\", \"896338719\", \"1113196323\", \"1597760039\", \"317532327\", \"346061612\", \"40333612\", \"511723709\", \"1004972352\", \"143824576\", \"368424646\", \"1428227531\", \"2040495184\", \"1893337300\", \"2117861717\", \"1941427679\", \"1708098535\", \"456209269\"], \"y\": [1.468234482294422, 0.9512451452747798, 1.553704475135833, 0.9612492951537696, 0.9062447799657884, 1.4653248376913628, 0.8942132689732367, 0.6472148625791618, 0.7748558731346022, 0.6532872397184619, 1.3770451919754874, 0.7291093683051147, 0.6910331358801172, 1.1669607864961153, 0.6225058124251436, 0.9939902972418595, 0.8574778015595256, 0.7153250058828056, 1.5697231409685273, 0.6524394652996883, 0.6880878193185747, 0.7624896455170863, 0.5666010912496753, 0.9811432563448547, 0.7455937102482926, 0.9995331793033233, 1.0258112351625863, 0.6131515789968754, 0.7200521320834627, 0.768800699494758, 0.6600727119942311, 1.7725145197169159, 0.9105491268230538, 0.8199928000607609, 0.7433133005639443, 0.5848656267927461, 0.8893713042907481, 0.6538757842843316, 0.6332925857389126]}, {\"name\": \"Dilated Convolutions (Rate - 2)\", \"type\": \"bar\", \"x\": [\"grid\", \"tline_1\", \"tline_2\", \"substation1\", \"substation2\", \"substation3\", \"substation4\", 6010, 6014, 6011, 6280, 6281, 6284, \"1295864320\", \"1247421966\", \"2107373071\", \"2009066518\", \"972102295\", \"1616571925\", \"806187417\", \"771513244\", \"1562145181\", \"896338719\", \"1113196323\", \"1597760039\", \"317532327\", \"346061612\", \"40333612\", \"511723709\", \"1004972352\", \"143824576\", \"368424646\", \"1428227531\", \"2040495184\", \"1893337300\", \"2117861717\", \"1941427679\", \"1708098535\", \"456209269\"], \"y\": [1.150048520316879, 1.0123789832675576, 1.1732462406399546, 1.0304607805655868, 0.9553671053970907, 1.181607142981128, 0.9051595035716945, 1.2872596930008473, 1.52075062662834, 1.3078618352675386, 1.2875553488256937, 1.0295719774841319, 1.3600133615866619, 1.3553963475957225, 1.260018710608727, 1.6291137246740381, 1.1823647167102918, 1.0116542171173108, 1.1735850025794088, 1.296001795836344, 1.2582642063792187, 1.1643436052515983, 1.1334645100978715, 1.1581173261208397, 1.1038358456020363, 1.1709278607185558, 1.6090049565503834, 1.2730704725316364, 1.57706496568395, 1.2102623373316743, 1.1986142809962146, 1.4546550937105747, 1.1388636805413095, 1.1131016622945218, 1.300710594741851, 1.2105087792939389, 1.779939974196925, 1.3312273386714026, 1.3538787774111738]}],                        {\"barmode\": \"group\", \"template\": {\"data\": {\"bar\": [{\"error_x\": {\"color\": \"#2a3f5f\"}, \"error_y\": {\"color\": \"#2a3f5f\"}, \"marker\": {\"line\": {\"color\": \"#E5ECF6\", \"width\": 0.5}}, \"type\": \"bar\"}], \"barpolar\": [{\"marker\": {\"line\": {\"color\": \"#E5ECF6\", \"width\": 0.5}}, \"type\": \"barpolar\"}], \"carpet\": [{\"aaxis\": {\"endlinecolor\": \"#2a3f5f\", \"gridcolor\": \"white\", \"linecolor\": \"white\", \"minorgridcolor\": \"white\", \"startlinecolor\": \"#2a3f5f\"}, \"baxis\": {\"endlinecolor\": \"#2a3f5f\", \"gridcolor\": \"white\", \"linecolor\": \"white\", \"minorgridcolor\": \"white\", \"startlinecolor\": \"#2a3f5f\"}, \"type\": \"carpet\"}], \"choropleth\": [{\"colorbar\": {\"outlinewidth\": 0, \"ticks\": \"\"}, \"type\": \"choropleth\"}], \"contour\": [{\"colorbar\": {\"outlinewidth\": 0, \"ticks\": \"\"}, \"colorscale\": [[0.0, \"#0d0887\"], [0.1111111111111111, \"#46039f\"], [0.2222222222222222, \"#7201a8\"], [0.3333333333333333, \"#9c179e\"], [0.4444444444444444, \"#bd3786\"], [0.5555555555555556, \"#d8576b\"], [0.6666666666666666, \"#ed7953\"], [0.7777777777777778, \"#fb9f3a\"], [0.8888888888888888, \"#fdca26\"], [1.0, \"#f0f921\"]], \"type\": \"contour\"}], \"contourcarpet\": [{\"colorbar\": {\"outlinewidth\": 0, \"ticks\": \"\"}, \"type\": \"contourcarpet\"}], \"heatmap\": [{\"colorbar\": {\"outlinewidth\": 0, \"ticks\": \"\"}, \"colorscale\": [[0.0, \"#0d0887\"], [0.1111111111111111, \"#46039f\"], [0.2222222222222222, \"#7201a8\"], [0.3333333333333333, \"#9c179e\"], [0.4444444444444444, \"#bd3786\"], [0.5555555555555556, \"#d8576b\"], [0.6666666666666666, \"#ed7953\"], [0.7777777777777778, \"#fb9f3a\"], [0.8888888888888888, \"#fdca26\"], [1.0, \"#f0f921\"]], \"type\": \"heatmap\"}], \"heatmapgl\": [{\"colorbar\": {\"outlinewidth\": 0, \"ticks\": \"\"}, \"colorscale\": [[0.0, \"#0d0887\"], [0.1111111111111111, \"#46039f\"], [0.2222222222222222, \"#7201a8\"], [0.3333333333333333, \"#9c179e\"], [0.4444444444444444, \"#bd3786\"], [0.5555555555555556, \"#d8576b\"], [0.6666666666666666, \"#ed7953\"], [0.7777777777777778, \"#fb9f3a\"], [0.8888888888888888, \"#fdca26\"], [1.0, \"#f0f921\"]], \"type\": \"heatmapgl\"}], \"histogram\": [{\"marker\": {\"colorbar\": {\"outlinewidth\": 0, \"ticks\": \"\"}}, \"type\": \"histogram\"}], \"histogram2d\": [{\"colorbar\": {\"outlinewidth\": 0, \"ticks\": \"\"}, \"colorscale\": [[0.0, \"#0d0887\"], [0.1111111111111111, \"#46039f\"], [0.2222222222222222, \"#7201a8\"], [0.3333333333333333, \"#9c179e\"], [0.4444444444444444, \"#bd3786\"], [0.5555555555555556, \"#d8576b\"], [0.6666666666666666, \"#ed7953\"], [0.7777777777777778, \"#fb9f3a\"], [0.8888888888888888, \"#fdca26\"], [1.0, \"#f0f921\"]], \"type\": \"histogram2d\"}], \"histogram2dcontour\": [{\"colorbar\": {\"outlinewidth\": 0, \"ticks\": \"\"}, \"colorscale\": [[0.0, \"#0d0887\"], [0.1111111111111111, \"#46039f\"], [0.2222222222222222, \"#7201a8\"], [0.3333333333333333, \"#9c179e\"], [0.4444444444444444, \"#bd3786\"], [0.5555555555555556, \"#d8576b\"], [0.6666666666666666, \"#ed7953\"], [0.7777777777777778, \"#fb9f3a\"], [0.8888888888888888, \"#fdca26\"], [1.0, \"#f0f921\"]], \"type\": \"histogram2dcontour\"}], \"mesh3d\": [{\"colorbar\": {\"outlinewidth\": 0, \"ticks\": \"\"}, \"type\": \"mesh3d\"}], \"parcoords\": [{\"line\": {\"colorbar\": {\"outlinewidth\": 0, \"ticks\": \"\"}}, \"type\": \"parcoords\"}], \"pie\": [{\"automargin\": true, \"type\": \"pie\"}], \"scatter\": [{\"marker\": {\"colorbar\": {\"outlinewidth\": 0, \"ticks\": \"\"}}, \"type\": \"scatter\"}], \"scatter3d\": [{\"line\": {\"colorbar\": {\"outlinewidth\": 0, \"ticks\": \"\"}}, \"marker\": {\"colorbar\": {\"outlinewidth\": 0, \"ticks\": \"\"}}, \"type\": \"scatter3d\"}], \"scattercarpet\": [{\"marker\": {\"colorbar\": {\"outlinewidth\": 0, \"ticks\": \"\"}}, \"type\": \"scattercarpet\"}], \"scattergeo\": [{\"marker\": {\"colorbar\": {\"outlinewidth\": 0, \"ticks\": \"\"}}, \"type\": \"scattergeo\"}], \"scattergl\": [{\"marker\": {\"colorbar\": {\"outlinewidth\": 0, \"ticks\": \"\"}}, \"type\": \"scattergl\"}], \"scattermapbox\": [{\"marker\": {\"colorbar\": {\"outlinewidth\": 0, \"ticks\": \"\"}}, \"type\": \"scattermapbox\"}], \"scatterpolar\": [{\"marker\": {\"colorbar\": {\"outlinewidth\": 0, \"ticks\": \"\"}}, \"type\": \"scatterpolar\"}], \"scatterpolargl\": [{\"marker\": {\"colorbar\": {\"outlinewidth\": 0, \"ticks\": \"\"}}, \"type\": \"scatterpolargl\"}], \"scatterternary\": [{\"marker\": {\"colorbar\": {\"outlinewidth\": 0, \"ticks\": \"\"}}, \"type\": \"scatterternary\"}], \"surface\": [{\"colorbar\": {\"outlinewidth\": 0, \"ticks\": \"\"}, \"colorscale\": [[0.0, \"#0d0887\"], [0.1111111111111111, \"#46039f\"], [0.2222222222222222, \"#7201a8\"], [0.3333333333333333, \"#9c179e\"], [0.4444444444444444, \"#bd3786\"], [0.5555555555555556, \"#d8576b\"], [0.6666666666666666, \"#ed7953\"], [0.7777777777777778, \"#fb9f3a\"], [0.8888888888888888, \"#fdca26\"], [1.0, \"#f0f921\"]], \"type\": \"surface\"}], \"table\": [{\"cells\": {\"fill\": {\"color\": \"#EBF0F8\"}, \"line\": {\"color\": \"white\"}}, \"header\": {\"fill\": {\"color\": \"#C8D4E3\"}, \"line\": {\"color\": \"white\"}}, \"type\": \"table\"}]}, \"layout\": {\"annotationdefaults\": {\"arrowcolor\": \"#2a3f5f\", \"arrowhead\": 0, \"arrowwidth\": 1}, \"autotypenumbers\": \"strict\", \"coloraxis\": {\"colorbar\": {\"outlinewidth\": 0, \"ticks\": \"\"}}, \"colorscale\": {\"diverging\": [[0, \"#8e0152\"], [0.1, \"#c51b7d\"], [0.2, \"#de77ae\"], [0.3, \"#f1b6da\"], [0.4, \"#fde0ef\"], [0.5, \"#f7f7f7\"], [0.6, \"#e6f5d0\"], [0.7, \"#b8e186\"], [0.8, \"#7fbc41\"], [0.9, \"#4d9221\"], [1, \"#276419\"]], \"sequential\": [[0.0, \"#0d0887\"], [0.1111111111111111, \"#46039f\"], [0.2222222222222222, \"#7201a8\"], [0.3333333333333333, \"#9c179e\"], [0.4444444444444444, \"#bd3786\"], [0.5555555555555556, \"#d8576b\"], [0.6666666666666666, \"#ed7953\"], [0.7777777777777778, \"#fb9f3a\"], [0.8888888888888888, \"#fdca26\"], [1.0, \"#f0f921\"]], \"sequentialminus\": [[0.0, \"#0d0887\"], [0.1111111111111111, \"#46039f\"], [0.2222222222222222, \"#7201a8\"], [0.3333333333333333, \"#9c179e\"], [0.4444444444444444, \"#bd3786\"], [0.5555555555555556, \"#d8576b\"], [0.6666666666666666, \"#ed7953\"], [0.7777777777777778, \"#fb9f3a\"], [0.8888888888888888, \"#fdca26\"], [1.0, \"#f0f921\"]]}, \"colorway\": [\"#636efa\", \"#EF553B\", \"#00cc96\", \"#ab63fa\", \"#FFA15A\", \"#19d3f3\", \"#FF6692\", \"#B6E880\", \"#FF97FF\", \"#FECB52\"], \"font\": {\"color\": \"#2a3f5f\"}, \"geo\": {\"bgcolor\": \"white\", \"lakecolor\": \"white\", \"landcolor\": \"#E5ECF6\", \"showlakes\": true, \"showland\": true, \"subunitcolor\": \"white\"}, \"hoverlabel\": {\"align\": \"left\"}, \"hovermode\": \"closest\", \"mapbox\": {\"style\": \"light\"}, \"paper_bgcolor\": \"white\", \"plot_bgcolor\": \"#E5ECF6\", \"polar\": {\"angularaxis\": {\"gridcolor\": \"white\", \"linecolor\": \"white\", \"ticks\": \"\"}, \"bgcolor\": \"#E5ECF6\", \"radialaxis\": {\"gridcolor\": \"white\", \"linecolor\": \"white\", \"ticks\": \"\"}}, \"scene\": {\"xaxis\": {\"backgroundcolor\": \"#E5ECF6\", \"gridcolor\": \"white\", \"gridwidth\": 2, \"linecolor\": \"white\", \"showbackground\": true, \"ticks\": \"\", \"zerolinecolor\": \"white\"}, \"yaxis\": {\"backgroundcolor\": \"#E5ECF6\", \"gridcolor\": \"white\", \"gridwidth\": 2, \"linecolor\": \"white\", \"showbackground\": true, \"ticks\": \"\", \"zerolinecolor\": \"white\"}, \"zaxis\": {\"backgroundcolor\": \"#E5ECF6\", \"gridcolor\": \"white\", \"gridwidth\": 2, \"linecolor\": \"white\", \"showbackground\": true, \"ticks\": \"\", \"zerolinecolor\": \"white\"}}, \"shapedefaults\": {\"line\": {\"color\": \"#2a3f5f\"}}, \"ternary\": {\"aaxis\": {\"gridcolor\": \"white\", \"linecolor\": \"white\", \"ticks\": \"\"}, \"baxis\": {\"gridcolor\": \"white\", \"linecolor\": \"white\", \"ticks\": \"\"}, \"bgcolor\": \"#E5ECF6\", \"caxis\": {\"gridcolor\": \"white\", \"linecolor\": \"white\", \"ticks\": \"\"}}, \"title\": {\"x\": 0.05}, \"xaxis\": {\"automargin\": true, \"gridcolor\": \"white\", \"linecolor\": \"white\", \"ticks\": \"\", \"title\": {\"standoff\": 15}, \"zerolinecolor\": \"white\", \"zerolinewidth\": 2}, \"yaxis\": {\"automargin\": true, \"gridcolor\": \"white\", \"linecolor\": \"white\", \"ticks\": \"\", \"title\": {\"standoff\": 15}, \"zerolinecolor\": \"white\", \"zerolinewidth\": 2}}}, \"title\": {\"text\": \"Mean MASE - 36 samples (1 day ahead - 1 hour resolution)\"}},                        {\"responsive\": true}                    ).then(function(){\n",
       "                            \n",
       "var gd = document.getElementById('8b00613c-789d-43df-a77d-8738b6c636a0');\n",
       "var x = new MutationObserver(function (mutations, observer) {{\n",
       "        var display = window.getComputedStyle(gd).display;\n",
       "        if (!display || display === 'none') {{\n",
       "            console.log([gd, 'removed!']);\n",
       "            Plotly.purge(gd);\n",
       "            observer.disconnect();\n",
       "        }}\n",
       "}});\n",
       "\n",
       "// Listen for the removal of the full notebook cells\n",
       "var notebookContainer = gd.closest('#notebook-container');\n",
       "if (notebookContainer) {{\n",
       "    x.observe(notebookContainer, {childList: true});\n",
       "}}\n",
       "\n",
       "// Listen for the clearing of the current output cell\n",
       "var outputEl = gd.closest('.output');\n",
       "if (outputEl) {{\n",
       "    x.observe(outputEl, {childList: true});\n",
       "}}\n",
       "\n",
       "                        })                };                });            </script>        </div>"
      ]
     },
     "metadata": {},
     "output_type": "display_data"
    }
   ],
   "source": [
    "fig = go.Figure(data=[\n",
    "    go.Bar(name='LSTM', x=const.TS, y=mase_vals_lstm),\n",
    "#     go.Bar(name='Dilated Convolutions (Rate - 1)', x=const.TS, y=mase_vals_cnn_d1),\n",
    "    go.Bar(name='Dilated Convolutions (Rate - 2)', x=const.TS, y=mase_vals_cnn),\n",
    "#     go.Bar(name='Dilated Convolutions (Rate - 3)', x=const.TS, y=mase_vals_cnn_d3)\n",
    "])\n",
    "# Change the bar mode\n",
    "fig.update_layout(barmode='group')\n",
    "fig.update_layout(title='Mean MASE - 36 samples (1 day ahead - 1 hour resolution)')\n",
    "fig.show()"
   ]
  },
  {
   "cell_type": "markdown",
   "metadata": {},
   "source": [
    "Error distributions"
   ]
  },
  {
   "cell_type": "code",
   "execution_count": 9,
   "metadata": {},
   "outputs": [
    {
     "data": {
      "application/vnd.plotly.v1+json": {
       "config": {
        "plotlyServerURL": "https://plot.ly"
       },
       "data": [
        {
         "name": "grid",
         "type": "box",
         "y": [
          1.2354774395423362,
          1.117142891601437,
          0.7993274246742958,
          2.118379514611731,
          1.3654891161006817,
          1.6989868219458528,
          2.136336236493712,
          1.2464063998995059,
          1.2955410704734338,
          0.7400306434417475,
          0.7036381632138295,
          1.1393532477331108,
          1.926683739288961,
          1.8386192879132264,
          1.770227336406372,
          0.8806028921367005,
          1.4034838467669737,
          0.7868948593165568,
          2.2941460743782587,
          1.6787664154472353,
          1.9676525929828605,
          1.2715129003364714,
          1.3142094873838912,
          0.8946901048430035,
          0.7833009795098324,
          1.1852053935413431,
          1.4496242461690916,
          1.3694847225854314,
          3.5833976613054728,
          2.8223650715695596,
          1.2001564761117602,
          0.6941539527108913,
          1.5868498410255636,
          1.5060191221833255,
          1.8758818283984922,
          1.1764035605562444
         ]
        },
        {
         "name": "tline_1",
         "type": "box",
         "y": [
          1.1062047647748308,
          1.282747269483885,
          1.5544766985952525,
          0.6352868705527711,
          0.5604423182656387,
          0.272340712046228,
          0.22719624982208964,
          0.3080356056548859,
          0.27155124705611133,
          1.7227679158153941,
          0.5971839514901098,
          1.2813102052965402,
          1.6634664488233242,
          0.29186279292479334,
          1.2782823362903957,
          1.0924410006525043,
          0.6872159994822065,
          0.4536119413243063,
          1.0700047059827187,
          0.7618006809771558,
          0.35483929964628225,
          0.2645374280839726,
          0.24277455267014955,
          0.25464238099678477,
          2.156359996665969,
          2.1805725412566828,
          0.44813211008516485,
          0.4832270236215259,
          4.524385702610434,
          1.73530744936088,
          1.3799585619624586,
          0.870203351080594,
          0.7542610150435071,
          0.6187649624358279,
          0.3242253966831884,
          0.5344037423775142
         ]
        },
        {
         "name": "tline_2",
         "type": "box",
         "y": [
          1.2978134601597653,
          1.2458381111357915,
          1.005859654383406,
          2.856882635971169,
          1.3701769032953777,
          2.0683213802588702,
          1.6322065450882188,
          1.3981098169825166,
          1.1825234587754316,
          0.7868359540044488,
          0.9707506805859987,
          1.4484139755760672,
          2.223919504663159,
          2.0082239703318168,
          1.6814203107126073,
          0.7293470023893558,
          1.7952502045351302,
          1.0413220251734192,
          2.2324603349313983,
          2.401719572018043,
          1.7015701417791853,
          1.1235872018533815,
          1.4000445345288637,
          0.6868746146011778,
          1.723296262969362,
          1.0848439737977458,
          1.2257502187142235,
          1.66140682805221,
          2.774554230426831,
          3.3527558362192798,
          1.146858284065084,
          0.9938526743308044,
          1.4019966186327049,
          1.3988614392144876,
          1.8065079550452885,
          1.073204789687359
         ]
        },
        {
         "name": "substation1",
         "type": "box",
         "y": [
          1.151244999286366,
          1.470592509084956,
          1.6198247290951588,
          0.6478475209496267,
          0.5217078691140763,
          0.2838475290320582,
          0.2580667473230792,
          0.21637338234732875,
          0.1414217551027131,
          1.6758450898230337,
          0.7072583106343693,
          1.0653175581675456,
          1.9868108414712145,
          0.3636051763906414,
          1.3277170649413894,
          1.099825771803118,
          0.440131047099298,
          0.40329743109187594,
          1.249921091166092,
          0.9516273980245049,
          0.27244973446762577,
          0.2439989545206283,
          0.1664343122913392,
          0.11262148599508534,
          2.2090848116269024,
          2.3252989276808314,
          0.3437555008183115,
          0.42233615940406927,
          4.493310015632518,
          1.3779042116191238,
          1.4553544778468297,
          1.5834608278778133,
          0.7254283346055376,
          0.7960878477271592,
          0.14294387638681383,
          0.35222132508666876
         ]
        },
        {
         "name": "substation2",
         "type": "box",
         "y": [
          0.998694315508643,
          0.9198062336734465,
          1.5365337000555848,
          0.5708174579885334,
          0.8040161548092163,
          0.29249797623677465,
          0.3401060301364339,
          0.3149584775258396,
          0.30293499832747467,
          1.5335903694425324,
          0.6180283808216072,
          1.2168217285861507,
          2.0442440644832383,
          0.5450980014046818,
          1.266507178032485,
          0.7104693022158731,
          0.6001759655702544,
          0.48559976181225745,
          0.9011730684504465,
          0.7406786230510896,
          0.5406423771452239,
          0.34456572217199666,
          0.33360825067479294,
          0.34365263954191266,
          1.8196083559499365,
          1.4819382348478758,
          0.4285137753110409,
          0.5741961212146591,
          4.146737855467935,
          1.7174167451849771,
          0.9428883011457423,
          1.179166629998321,
          0.5586220033206643,
          0.5943571404228167,
          0.3499981958974772,
          0.5261479423404517
         ]
        },
        {
         "name": "substation3",
         "type": "box",
         "y": [
          1.4464571432817752,
          0.8779346267353912,
          0.8618782031756573,
          2.9086530550473064,
          0.7055782017629637,
          1.7192102265151743,
          1.7124601819040959,
          1.609260231616855,
          1.070486125375549,
          0.8233084111126164,
          0.7877576961148934,
          1.0553883159719215,
          2.414019208529576,
          1.2281498106288538,
          1.7715611336403347,
          0.7210794825537173,
          1.5889550935562167,
          1.129129061097189,
          2.4179886953614287,
          2.2489218287738284,
          0.9954162820702902,
          1.2267160771752774,
          1.2452136636127291,
          0.7944019685275597,
          1.3818872217515994,
          0.7558682112866235,
          0.9148535996669217,
          1.8344924679833192,
          2.9466542449470277,
          3.2079791509915347,
          1.2070131912126023,
          0.7989930425161462,
          1.0820470196592475,
          1.4901580594532597,
          2.1766924112857704,
          1.5951308119938097
         ]
        },
        {
         "name": "substation4",
         "type": "box",
         "y": [
          0.7861113579308069,
          0.9556458416824422,
          1.455238586429482,
          0.24692763943772134,
          0.6834070879456832,
          0.9204087063776972,
          1.469992520283903,
          0.5719238669370126,
          0.7292652769911856,
          0.5065982155707734,
          0.5608751893184645,
          1.3143658787258645,
          0.6328104515488056,
          0.489971943911012,
          1.2754355049682238,
          1.1424004835422161,
          1.220201515947658,
          0.97820626560012,
          0.5168969643751964,
          0.5866395785094012,
          0.6659272743271355,
          0.3097009327747791,
          1.0113991675525607,
          0.5201956137389792,
          0.624192770416926,
          0.6895856062708167,
          1.0856776777776718,
          0.5726272141805816,
          2.2317836267332587,
          1.9184440744381388,
          0.6507659405521492,
          0.7461234118526084,
          1.0151116122153057,
          0.9988787557343809,
          1.2052944999489572,
          0.9026466284886052
         ]
        },
        {
         "name": "6010",
         "type": "box",
         "y": [
          0.9013351121021633,
          0.8373897608318216,
          0.5059745751244192,
          0.6130669033712258,
          0.09691697669427295,
          0.23832339559835655,
          0.15486602634166657,
          0.174125987485561,
          0.19992298722901672,
          1.4353169086651925,
          0.904426770495179,
          0.6880738017748497,
          0.5810260578874376,
          0.30223778377792104,
          1.0782275830199661,
          0.9071849133370895,
          0.5488566761055617,
          0.43382469340869206,
          0.8828553305285544,
          0.2667276111519358,
          0.17704618072226946,
          0.1936197633234201,
          0.1638657651579074,
          0.19785557020003888,
          1.8556309045228887,
          0.3375983934402916,
          0.25507740286496294,
          0.2806898328555811,
          3.3224290936029997,
          1.4476988745928474,
          0.9338516508979137,
          0.832513623908187,
          0.5585785165772197,
          0.4096740166280881,
          0.3006385775404635,
          0.28228703108385933
         ]
        },
        {
         "name": "6014",
         "type": "box",
         "y": [
          1.1139169034987073,
          0.9992510840522778,
          0.5051165057537166,
          0.6509747536382774,
          0.21556609443338842,
          0.26695701047006315,
          0.26657141255370026,
          0.3085848555179549,
          0.3262301433990952,
          1.7374976059417175,
          1.1820131719487341,
          0.8839966750640812,
          0.7089226312160147,
          0.5649947392324817,
          1.1127449982495525,
          0.9361533527584863,
          0.5748531993246611,
          0.46232145814331377,
          0.876382105088711,
          0.3768306457232731,
          0.3371608309543027,
          0.2864543844913921,
          0.26783822908226745,
          0.22270956488697177,
          2.4132901178537547,
          0.6036072639138454,
          0.24371219057835233,
          0.28235060837300396,
          4.074096126426282,
          0.956271914105335,
          1.4089029159994164,
          0.9087280030532865,
          0.6595599981806742,
          0.4060019062239251,
          0.3367184642833691,
          0.41752956843129346
         ]
        },
        {
         "name": "6011",
         "type": "box",
         "y": [
          0.8349765715742637,
          0.7137577284446758,
          0.3263090152916589,
          0.403399565810203,
          0.23782915422229287,
          0.21307526979065114,
          0.21249146006703803,
          0.2501854917241816,
          0.17108428297339312,
          1.3833065675684342,
          0.8343670435489937,
          0.8666721594018416,
          0.8034459017433196,
          0.29689652399318484,
          1.0777763895482093,
          0.9250507100249571,
          0.5568371731851176,
          0.4428162871734617,
          0.5797928351655267,
          0.32134641292056987,
          0.25499940745072325,
          0.29236087095770014,
          0.2534036625585743,
          0.20626557358803072,
          1.8174175443213934,
          0.46081280247018014,
          0.22559879506880676,
          0.32519053132944853,
          3.778451157811435,
          1.3937973801922932,
          0.8788518525894355,
          0.7071460277143389,
          0.5137168482604201,
          0.3354983072253273,
          0.2397525290885849,
          0.38366079506596373
         ]
        },
        {
         "name": "6280",
         "type": "box",
         "y": [
          1.3653907090419533,
          1.8435490580888587,
          1.1282958171231532,
          2.2210427595594067,
          0.40699727408362885,
          1.859520202989069,
          2.019869602798184,
          1.0507054979342096,
          1.4485427737242191,
          1.0649900377783805,
          1.0990406880736254,
          1.1116775225683575,
          1.531337730379848,
          1.3241737101138074,
          1.5587703859574393,
          1.4022870056516579,
          2.2727632133306765,
          0.9524783807915859,
          1.2250183677611217,
          1.4925561516226242,
          1.3144131962029442,
          1.1773636754857202,
          1.6594937974289823,
          1.1428509905502804,
          0.41336664313737365,
          1.041266034255344,
          2.0709020829818128,
          1.9748350374497072,
          2.492108802096388,
          1.4459117794975378,
          1.1795331002750926,
          0.6359540076509368,
          0.87331803335051,
          1.314378332885085,
          1.6023967434949415,
          0.8565277650030826
         ]
        },
        {
         "name": "6281",
         "type": "box",
         "y": [
          1.0419283539237416,
          1.04642593206608,
          0.47387076151004726,
          0.5017745305400766,
          0.3707163375593328,
          0.5601024258368288,
          1.0473786091153092,
          0.6867505744093613,
          0.7900201767773714,
          0.5810328592232396,
          0.6121448500865095,
          1.3515608940896333,
          0.6757532133815548,
          0.7144538672273877,
          1.3122439295217685,
          0.49640449735795666,
          0.5302654479057225,
          0.7668368334237171,
          0.35726988908395907,
          1.1833779602294732,
          0.39599549091354797,
          0.4903213934722828,
          0.7415792391508422,
          0.7356182137839639,
          0.739133663787327,
          0.7674686168517321,
          0.3276053605935277,
          0.7320740306221724,
          1.4502817183611298,
          0.7923063995665535,
          0.8846329888908245,
          0.5633019489262494,
          0.906505476501393,
          0.8508677623643883,
          0.48452771356308233,
          0.28540529836604017
         ]
        },
        {
         "name": "6284",
         "type": "box",
         "y": [
          0.6447383010012607,
          0.9362484468340805,
          0.41715238491155354,
          0.46073817225364033,
          0.7524665858026172,
          0.9429054700457231,
          0.7631511492934532,
          0.48209836201456496,
          0.47177254232747357,
          0.7107043824272937,
          0.5830900237955171,
          0.6508754554824902,
          0.6123070094228169,
          0.3212079759442606,
          1.1825293825990684,
          1.0666413414966116,
          1.4713053745302518,
          0.5778081509941135,
          0.5153828553229475,
          0.6159259011518949,
          0.49570417839587283,
          0.33587801992151883,
          0.4516564872558214,
          0.4023379375035986,
          0.3475948367772507,
          0.8996629326938879,
          0.7163250305185553,
          0.6617771804669875,
          1.5989855072753485,
          1.0452986027958815,
          0.36013718434681746,
          0.8396578286123735,
          0.48215507909237393,
          0.919210034048974,
          0.7682618763342012,
          0.3735009079931249
         ]
        },
        {
         "name": "1295864320",
         "type": "box",
         "y": [
          0.7642981869310421,
          1.9960219751447916,
          0.9788025487875058,
          1.0597072636644482,
          0.8512783815541282,
          1.4112161070330287,
          1.5653437552554461,
          1.531199048596236,
          1.150441309499534,
          0.8341090104466019,
          0.7765773600350346,
          1.0684860814661528,
          0.9442029958270127,
          0.869732387766729,
          1.4607277397850174,
          0.8217408610408778,
          2.755191096091234,
          1.1542200165204932,
          1.0680058749186943,
          0.9090342868932627,
          1.1360468776523167,
          0.6590333549407376,
          1.4945824758643675,
          0.8913140160210437,
          0.43551250150023085,
          1.0381674809745876,
          1.2585058816970098,
          0.7642102217066048,
          1.732356750563042,
          1.1361034454866592,
          2.2344073135522544,
          0.9072027526932803,
          1.1863276736285475,
          1.3795332606280666,
          1.2422590565014786,
          0.544688963192652
         ]
        },
        {
         "name": "1247421966",
         "type": "box",
         "y": [
          1.0161988503286556,
          0.7936246987772944,
          0.2339519008240683,
          0.474298892255182,
          0.20978415710618872,
          0.24575582315874261,
          0.1525978078302291,
          0.1711001755922516,
          0.24865579390463963,
          1.5698434651829378,
          0.7776544249101084,
          0.9015650312709076,
          0.5528448468945861,
          0.38616024964978296,
          1.0427434793067165,
          0.809970057677884,
          0.3788744451396397,
          0.46245531362995035,
          0.8762763085361067,
          0.25672614762511625,
          0.20646824131832384,
          0.17249231987808522,
          0.25348336045770686,
          0.1981290271524483,
          1.9697826327762733,
          0.46327163143609357,
          0.21772195879021203,
          0.2868596670495419,
          2.818121443583389,
          1.0313671613361624,
          1.1270742356307342,
          0.6695817948082532,
          0.5073068208425235,
          0.24878382921835973,
          0.21464456796002027,
          0.46403868546605026
         ]
        },
        {
         "name": "2107373071",
         "type": "box",
         "y": [
          1.2079847888426694,
          1.4594787777877447,
          0.8940017209925278,
          0.857806670153414,
          0.45391551828112586,
          0.4552442788513589,
          0.4936396620903105,
          0.577217353551777,
          0.5342081290153488,
          1.8350421534089087,
          1.0987758527324583,
          1.1390099916601018,
          1.0564287158015757,
          0.8833998069682708,
          1.2408582272486675,
          1.5131228429755408,
          0.9562735525799858,
          0.6292637054899803,
          0.9386622756472216,
          0.631427399052612,
          0.5317724664886481,
          0.48887066363485576,
          0.42535684298137993,
          0.4739077414205196,
          2.322551250838282,
          0.554418565436897,
          0.5629588203499932,
          0.5970257065817298,
          4.8454563930738015,
          2.197380346762953,
          0.9725321723213921,
          1.0078794844906678,
          0.6944002690810799,
          0.5458955954563307,
          0.4121765720250525,
          0.2953063866317601
         ]
        },
        {
         "name": "2009066518",
         "type": "box",
         "y": [
          0.76403718472287,
          0.8965526138633327,
          0.5151690710568125,
          0.7559074605550186,
          0.6535768311571628,
          1.198452316572025,
          0.9696862189374649,
          0.7956923613767757,
          0.5934551834833874,
          0.48197018172894207,
          1.1167309761938484,
          0.8019784406234453,
          0.7543492847895373,
          0.5149887833666306,
          1.202218605009777,
          1.094208876423005,
          1.5475622186053264,
          0.7442270487336555,
          1.005469781607961,
          0.8379898145597648,
          0.7961737540583605,
          0.6925337243718859,
          0.38146630487774325,
          0.5557561791670843,
          0.5887009389460787,
          0.8746336529517643,
          0.9040363311881677,
          0.5480806091218199,
          1.8546350165785221,
          1.4425458094012529,
          1.2057448148101773,
          0.6245915923601133,
          0.6847435438426476,
          1.4987248721369386,
          0.6251715705612869,
          0.3474388884023369
         ]
        },
        {
         "name": "972102295",
         "type": "box",
         "y": [
          0.7638273736446067,
          0.7999585024616344,
          0.40635381772690043,
          0.5009387789887485,
          0.5127738951651912,
          0.7422321134200743,
          1.1416145539933378,
          0.4698546409648211,
          1.174390318473033,
          0.834060193475573,
          0.6110841699453049,
          0.7196268671420913,
          0.7570400994371173,
          0.6864363520550306,
          1.2387079733159752,
          0.4952471019378209,
          0.4665018230098584,
          0.7526437529726585,
          0.4621075650776216,
          1.1564761167937032,
          0.4620722279761938,
          0.5483122638270982,
          0.7369511300435718,
          0.6765011766996808,
          0.8633671182145612,
          0.5407625226987982,
          0.3404056983330371,
          0.861573846696111,
          1.4959324433904837,
          0.46395421709887047,
          1.1379980906246385,
          0.5139293196355553,
          0.7869495679239824,
          0.9733342457477235,
          0.4275814663069735,
          0.2301988665626162
         ]
        },
        {
         "name": "1616571925",
         "type": "box",
         "y": [
          1.264475406963076,
          1.20056910893115,
          1.3681593113460206,
          2.7785593663977473,
          1.8192676810784578,
          1.689759376312576,
          2.328735243008585,
          2.3522487434772805,
          1.9911750439221838,
          1.0310248566920464,
          0.6751121465928321,
          1.1051033977006148,
          1.679699906421778,
          1.536395604053279,
          2.023620553438084,
          0.7192167085198056,
          1.0642658776887532,
          1.1423629618852513,
          1.3247806308281256,
          2.0979333727898446,
          2.7296969774121997,
          1.2740113232987078,
          1.2244480311238732,
          1.1795639052725588,
          0.5797352501085073,
          1.225379748610619,
          2.2441375466745543,
          1.851308946249722,
          0.9921299196371544,
          0.4649099542795853,
          2.386488251128062,
          0.9738906659799589,
          1.2585796301923053,
          1.3178890749041305,
          3.7241061982018153,
          1.8912923537457356
         ]
        },
        {
         "name": "806187417",
         "type": "box",
         "y": [
          0.9707441213288559,
          0.6992975687253944,
          0.17883715468921607,
          0.5219663588911915,
          0.22668862184271307,
          0.27941200199501426,
          0.24491650761597847,
          0.17184679976190062,
          0.18547804096356132,
          1.6147546170979343,
          0.8258365673706253,
          0.9774601441786416,
          0.4339430449796479,
          0.35840670559301663,
          0.8866066294439674,
          0.949939608448502,
          0.9172363836967949,
          0.552114613704904,
          0.7607210220859955,
          0.4718824028999995,
          0.34875133886463267,
          0.19120471343102102,
          0.19973612164876467,
          0.14976116539769393,
          2.0300984483985323,
          0.4456658903916439,
          0.21810546531381478,
          0.28332923095488194,
          2.802903723729617,
          1.0585901461274554,
          1.2111881753275118,
          0.9318365290745128,
          0.4635841102310236,
          0.3580841247038253,
          0.15455090992123793,
          0.41234174195875395
         ]
        },
        {
         "name": "771513244",
         "type": "box",
         "y": [
          1.0920111167864144,
          0.8362486718453395,
          0.42730470150130934,
          0.9151860687138964,
          0.32429113390622916,
          0.29939388516478077,
          0.22042598699657218,
          0.2242564991759949,
          0.28890276309857377,
          1.253808379411341,
          0.9751305961305095,
          0.7683594586632053,
          0.5206627746596162,
          0.4096387083740551,
          1.0495538432197882,
          0.8834655761963096,
          0.3643893532860787,
          0.43157385033978096,
          1.0151940579646868,
          0.2506362135176167,
          0.24734661439361472,
          0.22892827616891534,
          0.16958284363637663,
          0.1868839921255037,
          1.650035336174468,
          0.31348008767263247,
          0.25552610945169313,
          0.40503945167192074,
          3.911697200251233,
          1.4378920958451251,
          0.8377432277305255,
          1.0710440374258074,
          0.8171657377103912,
          0.20653623575949578,
          0.16899766281533643,
          0.31282894768354863
         ]
        },
        {
         "name": "1562145181",
         "type": "box",
         "y": [
          0.7656980116585874,
          1.0154710161844813,
          0.717173175484085,
          0.607389831450915,
          0.23842677291627523,
          0.3162624282309366,
          0.19227130257017105,
          0.26206554723326536,
          0.24316827234230237,
          1.7479880665451666,
          0.6848536855969184,
          1.1708176705733913,
          0.41475624756265717,
          0.3125819632298853,
          0.9369867880469457,
          0.9965226163962211,
          0.6264240459285207,
          0.518142609800606,
          0.8330660751957494,
          1.0569787398363464,
          0.43733134324745526,
          0.24856910961999443,
          0.28060668494575913,
          0.1390344879727378,
          1.895865102782684,
          0.8024207008375008,
          0.3664145131545608,
          0.3515379872271907,
          2.953124329732763,
          0.9878589004400403,
          1.1268385423235556,
          1.0766783070513686,
          0.7272856480563721,
          1.1767076645877719,
          0.6998104589018359,
          0.5224985909500871
         ]
        },
        {
         "name": "896338719",
         "type": "box",
         "y": [
          0.7848793719834092,
          0.5587043633797842,
          0.2503736256224013,
          0.5669801662450688,
          0.2548176162287075,
          0.2621190385904695,
          0.14336260381059493,
          0.12791982070681288,
          0.15363511213580425,
          1.232670338849849,
          1.0497936326091928,
          0.8386560541249467,
          0.6549442539886653,
          0.17377597838396927,
          0.8993507666594038,
          0.6450401502984938,
          0.3110337960682605,
          0.48606196634431953,
          0.7119154420327859,
          0.13608597503117986,
          0.18056703376277033,
          0.23104433294831273,
          0.23268151934532028,
          0.19330884986924332,
          1.7039852840452234,
          0.26961467393311,
          0.24064507590023626,
          0.31154496600744347,
          2.969298410102777,
          0.7802404310921381,
          0.9849520508735549,
          0.9320752580563122,
          0.42343753135538104,
          0.24523459523583768,
          0.1889070897607293,
          0.26798210960579594
         ]
        },
        {
         "name": "1113196323",
         "type": "box",
         "y": [
          1.1009336431662284,
          1.1243140079651757,
          0.9411943713061189,
          0.7266544478592422,
          0.9866661906647763,
          1.2837542672778606,
          1.3677920595339847,
          0.9763467707043956,
          0.9196879410155948,
          0.46936375570987227,
          1.1693804899331341,
          0.8987432760058006,
          1.259898474767045,
          1.0435751177930672,
          1.6454646751194637,
          0.8304209849982511,
          1.0206261212750103,
          0.871115814520968,
          0.8983118444525567,
          1.1427239949970123,
          0.9422409527377572,
          0.7688738086808352,
          0.6188759858277157,
          0.6736247828201823,
          0.2885737630444642,
          1.2512855219838568,
          0.8685165144004012,
          0.5405577533154079,
          1.7783360861778714,
          0.7631066823077169,
          1.3940564993830529,
          0.9431275887078634,
          1.1891579457438406,
          0.6951804289204534,
          1.0818026593689611,
          0.8468720059288323
         ]
        },
        {
         "name": "1597760039",
         "type": "box",
         "y": [
          0.6796451159886386,
          0.9862056014225565,
          0.5230385591443695,
          0.548947089868177,
          0.6974442639896806,
          0.9782969611208756,
          0.5960395683046853,
          0.5164368216835783,
          0.583939252665569,
          0.5089486809189894,
          0.9956670881005601,
          1.2484116533441938,
          0.5764531565012326,
          0.6404274627398687,
          1.3478127313304857,
          0.9601912293147723,
          1.2522464229421895,
          0.7238927853101235,
          0.7232393318402252,
          0.48698549984773304,
          0.5124447160445988,
          0.39880031142855016,
          0.4167565178511315,
          0.43645416932402326,
          0.31405396153424464,
          1.0086374275417274,
          0.8323848213817462,
          0.5165896106599356,
          1.3737811955525954,
          1.2030664663946304,
          0.7025061747930194,
          0.7180031539125425,
          0.5315506593827392,
          1.1525890972956176,
          0.8254526860777112,
          0.3240333233852179
         ]
        },
        {
         "name": "317532327",
         "type": "box",
         "y": [
          1.0524194842948758,
          1.2408864812736364,
          1.0798325898769425,
          0.9621827967405846,
          1.055678878167307,
          1.3958474208064011,
          1.0733053521476035,
          0.863708003979702,
          0.8901273451506384,
          0.8035567467655724,
          0.5375455058919228,
          0.7066066693702266,
          1.3429894150200918,
          0.8702819810430771,
          1.301965758074106,
          1.0197680803526912,
          1.5629626068643037,
          1.164307679212958,
          0.8815903523630721,
          0.9398377717357004,
          0.8647247246784822,
          0.6821448104868654,
          0.663780018150138,
          0.9798033145651337,
          0.5244380693558861,
          0.9922686582999238,
          1.5590124890718435,
          0.8883681120007116,
          1.0188730879524788,
          1.1397578353160134,
          1.5765901560378077,
          1.2241513817162768,
          0.7167131752530537,
          1.0599612090559567,
          0.8796143582727055,
          0.4675921355749509
         ]
        },
        {
         "name": "346061612",
         "type": "box",
         "y": [
          1.273922296184507,
          1.5002892695812415,
          0.8089706192480767,
          0.9119749620474638,
          0.5078261205967421,
          0.6730612830884957,
          0.5635347191722425,
          0.6806559760858146,
          0.6058834461634535,
          1.9224717300597025,
          1.475372115621436,
          0.8015737976727564,
          0.6301499858403344,
          0.5887963938223295,
          1.4311430114817933,
          1.0043647815199408,
          0.6912964409778345,
          0.512162732587051,
          0.892129275256102,
          0.45831023864525783,
          0.5263295618964202,
          0.3513961512075522,
          0.3433381718413823,
          0.32350841408613806,
          2.5430232044380188,
          0.6273789981391429,
          0.32844090991533326,
          0.4754227325644408,
          4.542794010732858,
          2.3147370200793285,
          2.2841929563591794,
          1.7214355989409,
          0.7782933947937943,
          0.8582301327286854,
          0.5269481359553826,
          0.4498458765219752
         ]
        },
        {
         "name": "40333612",
         "type": "box",
         "y": [
          0.8345015381033606,
          0.5488319761432481,
          0.24723189883373622,
          0.4022054919543335,
          0.2332999815768719,
          0.17408301308352409,
          0.2241014924099412,
          0.2781907690992985,
          0.24167609802564746,
          1.3191295278245097,
          1.1050247395467128,
          0.6568790641760349,
          0.49336745299663176,
          0.3513081199458449,
          1.187747275212642,
          0.8651310808503784,
          0.5037184971692324,
          0.49174492103191775,
          0.622213507772565,
          0.2657281250611077,
          0.22844055167462612,
          0.23039132024774672,
          0.20154345248278302,
          0.19784881830798737,
          1.6674026977220495,
          0.33055109289965373,
          0.195721322535966,
          0.459720238282709,
          3.0533496529827424,
          1.1060665910433334,
          1.1162030985698483,
          0.80522498576233,
          0.559332817787152,
          0.27660559845875315,
          0.20828430872525375,
          0.39065572558704126
         ]
        },
        {
         "name": "511723709",
         "type": "box",
         "y": [
          1.000634954256397,
          0.7319182467468066,
          0.5569803648208828,
          0.49874582697388625,
          0.2409444412943076,
          0.2543501934474435,
          0.28396766722997485,
          0.4490753928365168,
          0.2981307195751535,
          1.488613163036575,
          1.2066731425514434,
          0.7961750708783335,
          0.9961527932956998,
          0.5991029614565822,
          0.9280407706225526,
          0.7994143001656818,
          0.5965592669898402,
          0.49920836998670365,
          0.586932724659338,
          0.3762815832305649,
          0.31861169196820205,
          0.24678550106508743,
          0.2579190246076713,
          0.2786154741463732,
          2.020142298237098,
          0.4724749252978605,
          0.2571576418196518,
          0.39615155962427956,
          3.1540002544652723,
          1.335489396806219,
          1.1934541533662384,
          1.068622846825934,
          0.4860810685062654,
          0.48343254218522513,
          0.2915825494357437,
          0.4734538725928486
         ]
        },
        {
         "name": "1004972352",
         "type": "box",
         "y": [
          0.5443151599221244,
          0.9798658811489879,
          0.6801730596012682,
          0.5913443493281865,
          0.7500839716402539,
          0.7176460762853986,
          0.6288274091703221,
          0.5022092882317909,
          0.3555620731831706,
          0.3326159569019523,
          0.7330702737560085,
          0.8186045083261886,
          0.6172678773866086,
          0.41892643408512203,
          1.0337779952739317,
          0.865026732626024,
          1.09802069408776,
          0.7945204078560211,
          0.5678704558952263,
          0.985142281800507,
          0.9457541324872775,
          0.7131652835384072,
          0.9842061892393116,
          0.6227552412456641,
          0.35503421407131536,
          0.6886969570552425,
          1.075095537895924,
          0.618894135903265,
          1.26255297411697,
          1.064526639178277,
          1.0249013159352256,
          1.020949823847284,
          0.455017225263825,
          1.1393605683297356,
          1.3370000779202869,
          0.3540439792764248
         ]
        },
        {
         "name": "143824576",
         "type": "box",
         "y": [
          1.0067967073850066,
          0.9159248118585129,
          0.18014148831297833,
          0.5408231915955528,
          0.2209628891686724,
          0.26753336698455893,
          0.14048321196803523,
          0.124725530411413,
          0.14541478402910024,
          1.271623009051862,
          1.3167282193187904,
          0.7541603195389914,
          0.7972746556267187,
          0.34322107151702813,
          1.3323241262977423,
          0.785653388810183,
          0.5395906445162325,
          0.531592572733301,
          0.8098590008518709,
          0.19183249448850523,
          0.21758518269809923,
          0.3501011132120887,
          0.17736165131153783,
          0.2964572956098253,
          1.7238255096804542,
          0.3547283043116791,
          0.2475570066160477,
          0.3947258245584508,
          3.0366743274812165,
          1.048440088546901,
          1.0498702376159745,
          1.1601534825888733,
          0.8094247040985091,
          0.24545167434822912,
          0.11285958747121835,
          0.32073615717816567
         ]
        },
        {
         "name": "368424646",
         "type": "box",
         "y": [
          3.1923821843955458,
          2.378831448794118,
          2.288201766242435,
          1.9423260812437415,
          2.2076840340626167,
          1.7810290674696907,
          1.7977739348140953,
          3.5394784054524737,
          1.7832935180192089,
          1.140691292840626,
          1.3859564583431667,
          0.7913642231234451,
          1.0535551179294174,
          0.8711314326690693,
          3.5527004023620714,
          2.6789506820870237,
          2.3356860532498507,
          0.9634951225260349,
          0.6761984835561335,
          0.9569039938648888,
          0.8900117290649866,
          3.6193400010252517,
          1.9855670183653698,
          1.9963693908370814,
          0.9435014299147096,
          0.9885158297036359,
          1.1427076006199188,
          1.0835523320043752,
          3.4059162109067884,
          1.4166536067861115,
          1.8076020668651915,
          0.6582250030960773,
          0.7180915912895784,
          1.3080198570239479,
          1.48279883190319,
          3.046016507357107
         ]
        },
        {
         "name": "1428227531",
         "type": "box",
         "y": [
          0.5881237535556371,
          1.324759944580326,
          0.9037184296188242,
          0.9055695178220932,
          0.8705610190033857,
          0.9632731207365571,
          0.8531584451332879,
          0.7862292253472397,
          0.620946800854758,
          0.5854827156422406,
          1.0997953117233046,
          1.2821042026468537,
          0.7513918311249694,
          0.6834856303684169,
          1.219495712353623,
          1.2808374478330602,
          1.7263002252076827,
          0.7904993126734788,
          0.8853573784169048,
          0.7763889980689109,
          0.818744889318798,
          0.4879441325230321,
          0.4604479254945436,
          0.44995438904046087,
          0.5011291933298918,
          1.0885340692575354,
          0.7975939140319115,
          0.26159094714931835,
          2.071817124311779,
          1.1684991367938298,
          1.2844673059565763,
          0.6911888316539739,
          0.611548776680001,
          1.5055873604449752,
          1.156189783433962,
          0.5270517634978
         ]
        },
        {
         "name": "2040495184",
         "type": "box",
         "y": [
          0.6164082845670485,
          1.0362486174419574,
          0.6831124015075681,
          0.6684468163122899,
          0.6523007519986034,
          1.032680778323574,
          0.802372759813332,
          0.7237025224448352,
          0.7290714931461425,
          0.4626753142348808,
          0.8691618472316863,
          0.7732796967531363,
          0.7530822523336793,
          0.7168174910177908,
          1.1823184190476215,
          1.2480552347104825,
          1.6556666807266007,
          0.8267405907177233,
          0.672748028829375,
          0.7619468094431266,
          0.679269953474429,
          0.5480324843659198,
          0.2726278269950248,
          0.43576035563268495,
          0.3377005400215477,
          0.6818676069662608,
          0.7241186781959333,
          0.5204094911097352,
          1.637668324366637,
          1.3025584484260855,
          1.1180593559215606,
          0.7798459691087892,
          0.8225489869475519,
          1.571703122139473,
          0.7773007931070774,
          0.4434320748072244
         ]
        },
        {
         "name": "1893337300",
         "type": "box",
         "y": [
          0.706576009275136,
          0.920155778823031,
          0.647767809522681,
          0.5141626129927789,
          0.85553612948027,
          1.0519574650788177,
          0.6407103644376486,
          0.38419326741075616,
          0.35496398798537176,
          0.38696825326742534,
          0.5973065337869871,
          0.6805346638620428,
          0.7455856426742716,
          0.4399717135826888,
          1.1580519735326902,
          0.9413309086388439,
          1.4612677143374866,
          0.5717113533329635,
          0.5900710287593193,
          0.5887658264148724,
          0.4750530314053657,
          0.3673181309462318,
          0.3677070815199544,
          0.41122180885316284,
          0.5297998355735329,
          1.25891001216477,
          0.4567213660227571,
          0.6008445776378583,
          2.165109345767062,
          1.4166660555824322,
          0.8783344008114659,
          0.7751412307593938,
          0.6717590361231226,
          0.9781540394816606,
          0.7642921739406842,
          0.4046576565164525
         ]
        },
        {
         "name": "2117861717",
         "type": "box",
         "y": [
          0.7611005422498603,
          0.7695540427819064,
          0.26129587326506937,
          0.6405689044739553,
          0.19147549506720882,
          0.2752507514959536,
          0.2538811835034945,
          0.22549636167122003,
          0.2938299798676861,
          1.4418818842446801,
          0.7105926576997248,
          0.8903773329924572,
          0.7157060699522944,
          0.3646919451979442,
          0.7403888219808433,
          0.8719513134635293,
          0.31964074645626184,
          0.37547703927371284,
          0.6282334649310799,
          0.20001539854642905,
          0.19970807194918438,
          0.18452331311749984,
          0.14948765286923008,
          0.15504337712458297,
          1.6975360002915216,
          0.32854002069901717,
          0.19547331757921285,
          0.2888524128436542,
          3.1394611563670987,
          0.9471806840429097,
          0.9993914039893358,
          0.6805683591056557,
          0.4468968197929863,
          0.2678601596311569,
          0.17195026358783091,
          0.2712797424326699
         ]
        },
        {
         "name": "1941427679",
         "type": "box",
         "y": [
          1.1415209602117784,
          1.3245318016473877,
          0.5991634318337301,
          0.6138226792025564,
          0.3410520494730384,
          0.32828688724612315,
          0.4271888799365082,
          0.5157961802952811,
          0.471441653247386,
          1.6883429565920018,
          1.1464378993371809,
          1.3014570299362347,
          0.8729110191162777,
          0.664551280673351,
          0.9953939579509398,
          1.1083005280922376,
          0.6824920676787268,
          0.7730540244316172,
          0.7251903759366802,
          0.41346627395673247,
          0.3566020071295619,
          0.36274412589659516,
          0.318617080245802,
          0.3307939411515652,
          2.53591664587693,
          0.844462615547563,
          0.40303704015445085,
          0.4057419419253743,
          3.893302388056799,
          1.8076185008735826,
          1.5150833498691585,
          0.8037915855951835,
          0.6794730675998762,
          0.7020153183991475,
          0.4232052766059458,
          0.5005601327436204
         ]
        },
        {
         "name": "1708098535",
         "type": "box",
         "y": [
          0.9131972611148659,
          0.8735224393163235,
          0.4123415907112253,
          0.7275815783258491,
          0.15428011380713583,
          0.2548573384619951,
          0.19135616293223603,
          0.25591544744930533,
          0.27761828665306465,
          1.3975934692682124,
          1.0570432359928381,
          0.7027011481060447,
          0.42686001743838103,
          0.26796993500592836,
          1.057927736791388,
          1.1005726937330027,
          0.2752167064504131,
          0.32262365630889916,
          0.9831169745537991,
          0.22363846900067938,
          0.20438187863134477,
          0.20768777260103227,
          0.1478349129941526,
          0.1641908857738101,
          1.7883957818741725,
          0.33701912279480223,
          0.22345202740161052,
          0.2471768297917715,
          3.702760891098179,
          1.7523163816008438,
          0.5390563552621092,
          0.9276637173102398,
          0.7352276909724943,
          0.22815699838088602,
          0.21815522811665455,
          0.24011749821025385
         ]
        },
        {
         "name": "456209269",
         "type": "box",
         "y": [
          0.9229707459617761,
          0.676154006240833,
          0.2731915391819147,
          0.40537931386056564,
          0.2185973607624149,
          0.25404091041961224,
          0.2320894302292073,
          0.28092357592246153,
          0.24516322195309165,
          1.3940087870309164,
          0.8997520790846317,
          0.7339415192158137,
          0.49189573198488734,
          0.3893133940781251,
          0.8463259754709789,
          0.9049163823013506,
          0.36987497554042786,
          0.3978649301635865,
          0.5060460046423376,
          0.28520105112906724,
          0.20797444807416438,
          0.3591530047327821,
          0.2679192967647703,
          0.2665141961766349,
          1.917413046138646,
          0.4073808902157043,
          0.3181425839310819,
          0.3395609408546047,
          3.532666791141957,
          1.2191557338964134,
          0.9885336908752443,
          0.9501193752709349,
          0.46756938287897765,
          0.29200708371370926,
          0.18271534947894433,
          0.35405633728228547
         ]
        }
       ],
       "layout": {
        "showlegend": false,
        "template": {
         "data": {
          "bar": [
           {
            "error_x": {
             "color": "#2a3f5f"
            },
            "error_y": {
             "color": "#2a3f5f"
            },
            "marker": {
             "line": {
              "color": "#E5ECF6",
              "width": 0.5
             }
            },
            "type": "bar"
           }
          ],
          "barpolar": [
           {
            "marker": {
             "line": {
              "color": "#E5ECF6",
              "width": 0.5
             }
            },
            "type": "barpolar"
           }
          ],
          "carpet": [
           {
            "aaxis": {
             "endlinecolor": "#2a3f5f",
             "gridcolor": "white",
             "linecolor": "white",
             "minorgridcolor": "white",
             "startlinecolor": "#2a3f5f"
            },
            "baxis": {
             "endlinecolor": "#2a3f5f",
             "gridcolor": "white",
             "linecolor": "white",
             "minorgridcolor": "white",
             "startlinecolor": "#2a3f5f"
            },
            "type": "carpet"
           }
          ],
          "choropleth": [
           {
            "colorbar": {
             "outlinewidth": 0,
             "ticks": ""
            },
            "type": "choropleth"
           }
          ],
          "contour": [
           {
            "colorbar": {
             "outlinewidth": 0,
             "ticks": ""
            },
            "colorscale": [
             [
              0,
              "#0d0887"
             ],
             [
              0.1111111111111111,
              "#46039f"
             ],
             [
              0.2222222222222222,
              "#7201a8"
             ],
             [
              0.3333333333333333,
              "#9c179e"
             ],
             [
              0.4444444444444444,
              "#bd3786"
             ],
             [
              0.5555555555555556,
              "#d8576b"
             ],
             [
              0.6666666666666666,
              "#ed7953"
             ],
             [
              0.7777777777777778,
              "#fb9f3a"
             ],
             [
              0.8888888888888888,
              "#fdca26"
             ],
             [
              1,
              "#f0f921"
             ]
            ],
            "type": "contour"
           }
          ],
          "contourcarpet": [
           {
            "colorbar": {
             "outlinewidth": 0,
             "ticks": ""
            },
            "type": "contourcarpet"
           }
          ],
          "heatmap": [
           {
            "colorbar": {
             "outlinewidth": 0,
             "ticks": ""
            },
            "colorscale": [
             [
              0,
              "#0d0887"
             ],
             [
              0.1111111111111111,
              "#46039f"
             ],
             [
              0.2222222222222222,
              "#7201a8"
             ],
             [
              0.3333333333333333,
              "#9c179e"
             ],
             [
              0.4444444444444444,
              "#bd3786"
             ],
             [
              0.5555555555555556,
              "#d8576b"
             ],
             [
              0.6666666666666666,
              "#ed7953"
             ],
             [
              0.7777777777777778,
              "#fb9f3a"
             ],
             [
              0.8888888888888888,
              "#fdca26"
             ],
             [
              1,
              "#f0f921"
             ]
            ],
            "type": "heatmap"
           }
          ],
          "heatmapgl": [
           {
            "colorbar": {
             "outlinewidth": 0,
             "ticks": ""
            },
            "colorscale": [
             [
              0,
              "#0d0887"
             ],
             [
              0.1111111111111111,
              "#46039f"
             ],
             [
              0.2222222222222222,
              "#7201a8"
             ],
             [
              0.3333333333333333,
              "#9c179e"
             ],
             [
              0.4444444444444444,
              "#bd3786"
             ],
             [
              0.5555555555555556,
              "#d8576b"
             ],
             [
              0.6666666666666666,
              "#ed7953"
             ],
             [
              0.7777777777777778,
              "#fb9f3a"
             ],
             [
              0.8888888888888888,
              "#fdca26"
             ],
             [
              1,
              "#f0f921"
             ]
            ],
            "type": "heatmapgl"
           }
          ],
          "histogram": [
           {
            "marker": {
             "colorbar": {
              "outlinewidth": 0,
              "ticks": ""
             }
            },
            "type": "histogram"
           }
          ],
          "histogram2d": [
           {
            "colorbar": {
             "outlinewidth": 0,
             "ticks": ""
            },
            "colorscale": [
             [
              0,
              "#0d0887"
             ],
             [
              0.1111111111111111,
              "#46039f"
             ],
             [
              0.2222222222222222,
              "#7201a8"
             ],
             [
              0.3333333333333333,
              "#9c179e"
             ],
             [
              0.4444444444444444,
              "#bd3786"
             ],
             [
              0.5555555555555556,
              "#d8576b"
             ],
             [
              0.6666666666666666,
              "#ed7953"
             ],
             [
              0.7777777777777778,
              "#fb9f3a"
             ],
             [
              0.8888888888888888,
              "#fdca26"
             ],
             [
              1,
              "#f0f921"
             ]
            ],
            "type": "histogram2d"
           }
          ],
          "histogram2dcontour": [
           {
            "colorbar": {
             "outlinewidth": 0,
             "ticks": ""
            },
            "colorscale": [
             [
              0,
              "#0d0887"
             ],
             [
              0.1111111111111111,
              "#46039f"
             ],
             [
              0.2222222222222222,
              "#7201a8"
             ],
             [
              0.3333333333333333,
              "#9c179e"
             ],
             [
              0.4444444444444444,
              "#bd3786"
             ],
             [
              0.5555555555555556,
              "#d8576b"
             ],
             [
              0.6666666666666666,
              "#ed7953"
             ],
             [
              0.7777777777777778,
              "#fb9f3a"
             ],
             [
              0.8888888888888888,
              "#fdca26"
             ],
             [
              1,
              "#f0f921"
             ]
            ],
            "type": "histogram2dcontour"
           }
          ],
          "mesh3d": [
           {
            "colorbar": {
             "outlinewidth": 0,
             "ticks": ""
            },
            "type": "mesh3d"
           }
          ],
          "parcoords": [
           {
            "line": {
             "colorbar": {
              "outlinewidth": 0,
              "ticks": ""
             }
            },
            "type": "parcoords"
           }
          ],
          "pie": [
           {
            "automargin": true,
            "type": "pie"
           }
          ],
          "scatter": [
           {
            "marker": {
             "colorbar": {
              "outlinewidth": 0,
              "ticks": ""
             }
            },
            "type": "scatter"
           }
          ],
          "scatter3d": [
           {
            "line": {
             "colorbar": {
              "outlinewidth": 0,
              "ticks": ""
             }
            },
            "marker": {
             "colorbar": {
              "outlinewidth": 0,
              "ticks": ""
             }
            },
            "type": "scatter3d"
           }
          ],
          "scattercarpet": [
           {
            "marker": {
             "colorbar": {
              "outlinewidth": 0,
              "ticks": ""
             }
            },
            "type": "scattercarpet"
           }
          ],
          "scattergeo": [
           {
            "marker": {
             "colorbar": {
              "outlinewidth": 0,
              "ticks": ""
             }
            },
            "type": "scattergeo"
           }
          ],
          "scattergl": [
           {
            "marker": {
             "colorbar": {
              "outlinewidth": 0,
              "ticks": ""
             }
            },
            "type": "scattergl"
           }
          ],
          "scattermapbox": [
           {
            "marker": {
             "colorbar": {
              "outlinewidth": 0,
              "ticks": ""
             }
            },
            "type": "scattermapbox"
           }
          ],
          "scatterpolar": [
           {
            "marker": {
             "colorbar": {
              "outlinewidth": 0,
              "ticks": ""
             }
            },
            "type": "scatterpolar"
           }
          ],
          "scatterpolargl": [
           {
            "marker": {
             "colorbar": {
              "outlinewidth": 0,
              "ticks": ""
             }
            },
            "type": "scatterpolargl"
           }
          ],
          "scatterternary": [
           {
            "marker": {
             "colorbar": {
              "outlinewidth": 0,
              "ticks": ""
             }
            },
            "type": "scatterternary"
           }
          ],
          "surface": [
           {
            "colorbar": {
             "outlinewidth": 0,
             "ticks": ""
            },
            "colorscale": [
             [
              0,
              "#0d0887"
             ],
             [
              0.1111111111111111,
              "#46039f"
             ],
             [
              0.2222222222222222,
              "#7201a8"
             ],
             [
              0.3333333333333333,
              "#9c179e"
             ],
             [
              0.4444444444444444,
              "#bd3786"
             ],
             [
              0.5555555555555556,
              "#d8576b"
             ],
             [
              0.6666666666666666,
              "#ed7953"
             ],
             [
              0.7777777777777778,
              "#fb9f3a"
             ],
             [
              0.8888888888888888,
              "#fdca26"
             ],
             [
              1,
              "#f0f921"
             ]
            ],
            "type": "surface"
           }
          ],
          "table": [
           {
            "cells": {
             "fill": {
              "color": "#EBF0F8"
             },
             "line": {
              "color": "white"
             }
            },
            "header": {
             "fill": {
              "color": "#C8D4E3"
             },
             "line": {
              "color": "white"
             }
            },
            "type": "table"
           }
          ]
         },
         "layout": {
          "annotationdefaults": {
           "arrowcolor": "#2a3f5f",
           "arrowhead": 0,
           "arrowwidth": 1
          },
          "autotypenumbers": "strict",
          "coloraxis": {
           "colorbar": {
            "outlinewidth": 0,
            "ticks": ""
           }
          },
          "colorscale": {
           "diverging": [
            [
             0,
             "#8e0152"
            ],
            [
             0.1,
             "#c51b7d"
            ],
            [
             0.2,
             "#de77ae"
            ],
            [
             0.3,
             "#f1b6da"
            ],
            [
             0.4,
             "#fde0ef"
            ],
            [
             0.5,
             "#f7f7f7"
            ],
            [
             0.6,
             "#e6f5d0"
            ],
            [
             0.7,
             "#b8e186"
            ],
            [
             0.8,
             "#7fbc41"
            ],
            [
             0.9,
             "#4d9221"
            ],
            [
             1,
             "#276419"
            ]
           ],
           "sequential": [
            [
             0,
             "#0d0887"
            ],
            [
             0.1111111111111111,
             "#46039f"
            ],
            [
             0.2222222222222222,
             "#7201a8"
            ],
            [
             0.3333333333333333,
             "#9c179e"
            ],
            [
             0.4444444444444444,
             "#bd3786"
            ],
            [
             0.5555555555555556,
             "#d8576b"
            ],
            [
             0.6666666666666666,
             "#ed7953"
            ],
            [
             0.7777777777777778,
             "#fb9f3a"
            ],
            [
             0.8888888888888888,
             "#fdca26"
            ],
            [
             1,
             "#f0f921"
            ]
           ],
           "sequentialminus": [
            [
             0,
             "#0d0887"
            ],
            [
             0.1111111111111111,
             "#46039f"
            ],
            [
             0.2222222222222222,
             "#7201a8"
            ],
            [
             0.3333333333333333,
             "#9c179e"
            ],
            [
             0.4444444444444444,
             "#bd3786"
            ],
            [
             0.5555555555555556,
             "#d8576b"
            ],
            [
             0.6666666666666666,
             "#ed7953"
            ],
            [
             0.7777777777777778,
             "#fb9f3a"
            ],
            [
             0.8888888888888888,
             "#fdca26"
            ],
            [
             1,
             "#f0f921"
            ]
           ]
          },
          "colorway": [
           "#636efa",
           "#EF553B",
           "#00cc96",
           "#ab63fa",
           "#FFA15A",
           "#19d3f3",
           "#FF6692",
           "#B6E880",
           "#FF97FF",
           "#FECB52"
          ],
          "font": {
           "color": "#2a3f5f"
          },
          "geo": {
           "bgcolor": "white",
           "lakecolor": "white",
           "landcolor": "#E5ECF6",
           "showlakes": true,
           "showland": true,
           "subunitcolor": "white"
          },
          "hoverlabel": {
           "align": "left"
          },
          "hovermode": "closest",
          "mapbox": {
           "style": "light"
          },
          "paper_bgcolor": "white",
          "plot_bgcolor": "#E5ECF6",
          "polar": {
           "angularaxis": {
            "gridcolor": "white",
            "linecolor": "white",
            "ticks": ""
           },
           "bgcolor": "#E5ECF6",
           "radialaxis": {
            "gridcolor": "white",
            "linecolor": "white",
            "ticks": ""
           }
          },
          "scene": {
           "xaxis": {
            "backgroundcolor": "#E5ECF6",
            "gridcolor": "white",
            "gridwidth": 2,
            "linecolor": "white",
            "showbackground": true,
            "ticks": "",
            "zerolinecolor": "white"
           },
           "yaxis": {
            "backgroundcolor": "#E5ECF6",
            "gridcolor": "white",
            "gridwidth": 2,
            "linecolor": "white",
            "showbackground": true,
            "ticks": "",
            "zerolinecolor": "white"
           },
           "zaxis": {
            "backgroundcolor": "#E5ECF6",
            "gridcolor": "white",
            "gridwidth": 2,
            "linecolor": "white",
            "showbackground": true,
            "ticks": "",
            "zerolinecolor": "white"
           }
          },
          "shapedefaults": {
           "line": {
            "color": "#2a3f5f"
           }
          },
          "ternary": {
           "aaxis": {
            "gridcolor": "white",
            "linecolor": "white",
            "ticks": ""
           },
           "baxis": {
            "gridcolor": "white",
            "linecolor": "white",
            "ticks": ""
           },
           "bgcolor": "#E5ECF6",
           "caxis": {
            "gridcolor": "white",
            "linecolor": "white",
            "ticks": ""
           }
          },
          "title": {
           "x": 0.05
          },
          "xaxis": {
           "automargin": true,
           "gridcolor": "white",
           "linecolor": "white",
           "ticks": "",
           "title": {
            "standoff": 15
           },
           "zerolinecolor": "white",
           "zerolinewidth": 2
          },
          "yaxis": {
           "automargin": true,
           "gridcolor": "white",
           "linecolor": "white",
           "ticks": "",
           "title": {
            "standoff": 15
           },
           "zerolinecolor": "white",
           "zerolinewidth": 2
          }
         }
        },
        "title": {
         "text": "LSTM"
        },
        "xaxis": {
         "title": {
          "text": "Time series"
         }
        },
        "yaxis": {
         "title": {
          "text": "MASE distribution"
         }
        }
       }
      },
      "text/html": [
       "<div>                            <div id=\"96641666-7d34-4281-9ae3-32f7b3687ce9\" class=\"plotly-graph-div\" style=\"height:525px; width:100%;\"></div>            <script type=\"text/javascript\">                require([\"plotly\"], function(Plotly) {                    window.PLOTLYENV=window.PLOTLYENV || {};                                    if (document.getElementById(\"96641666-7d34-4281-9ae3-32f7b3687ce9\")) {                    Plotly.newPlot(                        \"96641666-7d34-4281-9ae3-32f7b3687ce9\",                        [{\"name\": \"grid\", \"type\": \"box\", \"y\": [1.2354774395423362, 1.117142891601437, 0.7993274246742958, 2.118379514611731, 1.3654891161006817, 1.6989868219458528, 2.136336236493712, 1.2464063998995059, 1.2955410704734338, 0.7400306434417475, 0.7036381632138295, 1.1393532477331108, 1.926683739288961, 1.8386192879132264, 1.770227336406372, 0.8806028921367005, 1.4034838467669737, 0.7868948593165568, 2.2941460743782587, 1.6787664154472353, 1.9676525929828605, 1.2715129003364714, 1.3142094873838912, 0.8946901048430035, 0.7833009795098324, 1.1852053935413431, 1.4496242461690916, 1.3694847225854314, 3.5833976613054728, 2.8223650715695596, 1.2001564761117602, 0.6941539527108913, 1.5868498410255636, 1.5060191221833255, 1.8758818283984922, 1.1764035605562444]}, {\"name\": \"tline_1\", \"type\": \"box\", \"y\": [1.1062047647748308, 1.282747269483885, 1.5544766985952525, 0.6352868705527711, 0.5604423182656387, 0.272340712046228, 0.22719624982208964, 0.3080356056548859, 0.27155124705611133, 1.7227679158153941, 0.5971839514901098, 1.2813102052965402, 1.6634664488233242, 0.29186279292479334, 1.2782823362903957, 1.0924410006525043, 0.6872159994822065, 0.4536119413243063, 1.0700047059827187, 0.7618006809771558, 0.35483929964628225, 0.2645374280839726, 0.24277455267014955, 0.25464238099678477, 2.156359996665969, 2.1805725412566828, 0.44813211008516485, 0.4832270236215259, 4.524385702610434, 1.73530744936088, 1.3799585619624586, 0.870203351080594, 0.7542610150435071, 0.6187649624358279, 0.3242253966831884, 0.5344037423775142]}, {\"name\": \"tline_2\", \"type\": \"box\", \"y\": [1.2978134601597653, 1.2458381111357915, 1.005859654383406, 2.856882635971169, 1.3701769032953777, 2.0683213802588702, 1.6322065450882188, 1.3981098169825166, 1.1825234587754316, 0.7868359540044488, 0.9707506805859987, 1.4484139755760672, 2.223919504663159, 2.0082239703318168, 1.6814203107126073, 0.7293470023893558, 1.7952502045351302, 1.0413220251734192, 2.2324603349313983, 2.401719572018043, 1.7015701417791853, 1.1235872018533815, 1.4000445345288637, 0.6868746146011778, 1.723296262969362, 1.0848439737977458, 1.2257502187142235, 1.66140682805221, 2.774554230426831, 3.3527558362192798, 1.146858284065084, 0.9938526743308044, 1.4019966186327049, 1.3988614392144876, 1.8065079550452885, 1.073204789687359]}, {\"name\": \"substation1\", \"type\": \"box\", \"y\": [1.151244999286366, 1.470592509084956, 1.6198247290951588, 0.6478475209496267, 0.5217078691140763, 0.2838475290320582, 0.2580667473230792, 0.21637338234732875, 0.1414217551027131, 1.6758450898230337, 0.7072583106343693, 1.0653175581675456, 1.9868108414712145, 0.3636051763906414, 1.3277170649413894, 1.099825771803118, 0.440131047099298, 0.40329743109187594, 1.249921091166092, 0.9516273980245049, 0.27244973446762577, 0.2439989545206283, 0.1664343122913392, 0.11262148599508534, 2.2090848116269024, 2.3252989276808314, 0.3437555008183115, 0.42233615940406927, 4.493310015632518, 1.3779042116191238, 1.4553544778468297, 1.5834608278778133, 0.7254283346055376, 0.7960878477271592, 0.14294387638681383, 0.35222132508666876]}, {\"name\": \"substation2\", \"type\": \"box\", \"y\": [0.998694315508643, 0.9198062336734465, 1.5365337000555848, 0.5708174579885334, 0.8040161548092163, 0.29249797623677465, 0.3401060301364339, 0.3149584775258396, 0.30293499832747467, 1.5335903694425324, 0.6180283808216072, 1.2168217285861507, 2.0442440644832383, 0.5450980014046818, 1.266507178032485, 0.7104693022158731, 0.6001759655702544, 0.48559976181225745, 0.9011730684504465, 0.7406786230510896, 0.5406423771452239, 0.34456572217199666, 0.33360825067479294, 0.34365263954191266, 1.8196083559499365, 1.4819382348478758, 0.4285137753110409, 0.5741961212146591, 4.146737855467935, 1.7174167451849771, 0.9428883011457423, 1.179166629998321, 0.5586220033206643, 0.5943571404228167, 0.3499981958974772, 0.5261479423404517]}, {\"name\": \"substation3\", \"type\": \"box\", \"y\": [1.4464571432817752, 0.8779346267353912, 0.8618782031756573, 2.9086530550473064, 0.7055782017629637, 1.7192102265151743, 1.7124601819040959, 1.609260231616855, 1.070486125375549, 0.8233084111126164, 0.7877576961148934, 1.0553883159719215, 2.414019208529576, 1.2281498106288538, 1.7715611336403347, 0.7210794825537173, 1.5889550935562167, 1.129129061097189, 2.4179886953614287, 2.2489218287738284, 0.9954162820702902, 1.2267160771752774, 1.2452136636127291, 0.7944019685275597, 1.3818872217515994, 0.7558682112866235, 0.9148535996669217, 1.8344924679833192, 2.9466542449470277, 3.2079791509915347, 1.2070131912126023, 0.7989930425161462, 1.0820470196592475, 1.4901580594532597, 2.1766924112857704, 1.5951308119938097]}, {\"name\": \"substation4\", \"type\": \"box\", \"y\": [0.7861113579308069, 0.9556458416824422, 1.455238586429482, 0.24692763943772134, 0.6834070879456832, 0.9204087063776972, 1.469992520283903, 0.5719238669370126, 0.7292652769911856, 0.5065982155707734, 0.5608751893184645, 1.3143658787258645, 0.6328104515488056, 0.489971943911012, 1.2754355049682238, 1.1424004835422161, 1.220201515947658, 0.97820626560012, 0.5168969643751964, 0.5866395785094012, 0.6659272743271355, 0.3097009327747791, 1.0113991675525607, 0.5201956137389792, 0.624192770416926, 0.6895856062708167, 1.0856776777776718, 0.5726272141805816, 2.2317836267332587, 1.9184440744381388, 0.6507659405521492, 0.7461234118526084, 1.0151116122153057, 0.9988787557343809, 1.2052944999489572, 0.9026466284886052]}, {\"name\": \"6010\", \"type\": \"box\", \"y\": [0.9013351121021633, 0.8373897608318216, 0.5059745751244192, 0.6130669033712258, 0.09691697669427295, 0.23832339559835655, 0.15486602634166657, 0.174125987485561, 0.19992298722901672, 1.4353169086651925, 0.904426770495179, 0.6880738017748497, 0.5810260578874376, 0.30223778377792104, 1.0782275830199661, 0.9071849133370895, 0.5488566761055617, 0.43382469340869206, 0.8828553305285544, 0.2667276111519358, 0.17704618072226946, 0.1936197633234201, 0.1638657651579074, 0.19785557020003888, 1.8556309045228887, 0.3375983934402916, 0.25507740286496294, 0.2806898328555811, 3.3224290936029997, 1.4476988745928474, 0.9338516508979137, 0.832513623908187, 0.5585785165772197, 0.4096740166280881, 0.3006385775404635, 0.28228703108385933]}, {\"name\": \"6014\", \"type\": \"box\", \"y\": [1.1139169034987073, 0.9992510840522778, 0.5051165057537166, 0.6509747536382774, 0.21556609443338842, 0.26695701047006315, 0.26657141255370026, 0.3085848555179549, 0.3262301433990952, 1.7374976059417175, 1.1820131719487341, 0.8839966750640812, 0.7089226312160147, 0.5649947392324817, 1.1127449982495525, 0.9361533527584863, 0.5748531993246611, 0.46232145814331377, 0.876382105088711, 0.3768306457232731, 0.3371608309543027, 0.2864543844913921, 0.26783822908226745, 0.22270956488697177, 2.4132901178537547, 0.6036072639138454, 0.24371219057835233, 0.28235060837300396, 4.074096126426282, 0.956271914105335, 1.4089029159994164, 0.9087280030532865, 0.6595599981806742, 0.4060019062239251, 0.3367184642833691, 0.41752956843129346]}, {\"name\": \"6011\", \"type\": \"box\", \"y\": [0.8349765715742637, 0.7137577284446758, 0.3263090152916589, 0.403399565810203, 0.23782915422229287, 0.21307526979065114, 0.21249146006703803, 0.2501854917241816, 0.17108428297339312, 1.3833065675684342, 0.8343670435489937, 0.8666721594018416, 0.8034459017433196, 0.29689652399318484, 1.0777763895482093, 0.9250507100249571, 0.5568371731851176, 0.4428162871734617, 0.5797928351655267, 0.32134641292056987, 0.25499940745072325, 0.29236087095770014, 0.2534036625585743, 0.20626557358803072, 1.8174175443213934, 0.46081280247018014, 0.22559879506880676, 0.32519053132944853, 3.778451157811435, 1.3937973801922932, 0.8788518525894355, 0.7071460277143389, 0.5137168482604201, 0.3354983072253273, 0.2397525290885849, 0.38366079506596373]}, {\"name\": \"6280\", \"type\": \"box\", \"y\": [1.3653907090419533, 1.8435490580888587, 1.1282958171231532, 2.2210427595594067, 0.40699727408362885, 1.859520202989069, 2.019869602798184, 1.0507054979342096, 1.4485427737242191, 1.0649900377783805, 1.0990406880736254, 1.1116775225683575, 1.531337730379848, 1.3241737101138074, 1.5587703859574393, 1.4022870056516579, 2.2727632133306765, 0.9524783807915859, 1.2250183677611217, 1.4925561516226242, 1.3144131962029442, 1.1773636754857202, 1.6594937974289823, 1.1428509905502804, 0.41336664313737365, 1.041266034255344, 2.0709020829818128, 1.9748350374497072, 2.492108802096388, 1.4459117794975378, 1.1795331002750926, 0.6359540076509368, 0.87331803335051, 1.314378332885085, 1.6023967434949415, 0.8565277650030826]}, {\"name\": \"6281\", \"type\": \"box\", \"y\": [1.0419283539237416, 1.04642593206608, 0.47387076151004726, 0.5017745305400766, 0.3707163375593328, 0.5601024258368288, 1.0473786091153092, 0.6867505744093613, 0.7900201767773714, 0.5810328592232396, 0.6121448500865095, 1.3515608940896333, 0.6757532133815548, 0.7144538672273877, 1.3122439295217685, 0.49640449735795666, 0.5302654479057225, 0.7668368334237171, 0.35726988908395907, 1.1833779602294732, 0.39599549091354797, 0.4903213934722828, 0.7415792391508422, 0.7356182137839639, 0.739133663787327, 0.7674686168517321, 0.3276053605935277, 0.7320740306221724, 1.4502817183611298, 0.7923063995665535, 0.8846329888908245, 0.5633019489262494, 0.906505476501393, 0.8508677623643883, 0.48452771356308233, 0.28540529836604017]}, {\"name\": \"6284\", \"type\": \"box\", \"y\": [0.6447383010012607, 0.9362484468340805, 0.41715238491155354, 0.46073817225364033, 0.7524665858026172, 0.9429054700457231, 0.7631511492934532, 0.48209836201456496, 0.47177254232747357, 0.7107043824272937, 0.5830900237955171, 0.6508754554824902, 0.6123070094228169, 0.3212079759442606, 1.1825293825990684, 1.0666413414966116, 1.4713053745302518, 0.5778081509941135, 0.5153828553229475, 0.6159259011518949, 0.49570417839587283, 0.33587801992151883, 0.4516564872558214, 0.4023379375035986, 0.3475948367772507, 0.8996629326938879, 0.7163250305185553, 0.6617771804669875, 1.5989855072753485, 1.0452986027958815, 0.36013718434681746, 0.8396578286123735, 0.48215507909237393, 0.919210034048974, 0.7682618763342012, 0.3735009079931249]}, {\"name\": \"1295864320\", \"type\": \"box\", \"y\": [0.7642981869310421, 1.9960219751447916, 0.9788025487875058, 1.0597072636644482, 0.8512783815541282, 1.4112161070330287, 1.5653437552554461, 1.531199048596236, 1.150441309499534, 0.8341090104466019, 0.7765773600350346, 1.0684860814661528, 0.9442029958270127, 0.869732387766729, 1.4607277397850174, 0.8217408610408778, 2.755191096091234, 1.1542200165204932, 1.0680058749186943, 0.9090342868932627, 1.1360468776523167, 0.6590333549407376, 1.4945824758643675, 0.8913140160210437, 0.43551250150023085, 1.0381674809745876, 1.2585058816970098, 0.7642102217066048, 1.732356750563042, 1.1361034454866592, 2.2344073135522544, 0.9072027526932803, 1.1863276736285475, 1.3795332606280666, 1.2422590565014786, 0.544688963192652]}, {\"name\": \"1247421966\", \"type\": \"box\", \"y\": [1.0161988503286556, 0.7936246987772944, 0.2339519008240683, 0.474298892255182, 0.20978415710618872, 0.24575582315874261, 0.1525978078302291, 0.1711001755922516, 0.24865579390463963, 1.5698434651829378, 0.7776544249101084, 0.9015650312709076, 0.5528448468945861, 0.38616024964978296, 1.0427434793067165, 0.809970057677884, 0.3788744451396397, 0.46245531362995035, 0.8762763085361067, 0.25672614762511625, 0.20646824131832384, 0.17249231987808522, 0.25348336045770686, 0.1981290271524483, 1.9697826327762733, 0.46327163143609357, 0.21772195879021203, 0.2868596670495419, 2.818121443583389, 1.0313671613361624, 1.1270742356307342, 0.6695817948082532, 0.5073068208425235, 0.24878382921835973, 0.21464456796002027, 0.46403868546605026]}, {\"name\": \"2107373071\", \"type\": \"box\", \"y\": [1.2079847888426694, 1.4594787777877447, 0.8940017209925278, 0.857806670153414, 0.45391551828112586, 0.4552442788513589, 0.4936396620903105, 0.577217353551777, 0.5342081290153488, 1.8350421534089087, 1.0987758527324583, 1.1390099916601018, 1.0564287158015757, 0.8833998069682708, 1.2408582272486675, 1.5131228429755408, 0.9562735525799858, 0.6292637054899803, 0.9386622756472216, 0.631427399052612, 0.5317724664886481, 0.48887066363485576, 0.42535684298137993, 0.4739077414205196, 2.322551250838282, 0.554418565436897, 0.5629588203499932, 0.5970257065817298, 4.8454563930738015, 2.197380346762953, 0.9725321723213921, 1.0078794844906678, 0.6944002690810799, 0.5458955954563307, 0.4121765720250525, 0.2953063866317601]}, {\"name\": \"2009066518\", \"type\": \"box\", \"y\": [0.76403718472287, 0.8965526138633327, 0.5151690710568125, 0.7559074605550186, 0.6535768311571628, 1.198452316572025, 0.9696862189374649, 0.7956923613767757, 0.5934551834833874, 0.48197018172894207, 1.1167309761938484, 0.8019784406234453, 0.7543492847895373, 0.5149887833666306, 1.202218605009777, 1.094208876423005, 1.5475622186053264, 0.7442270487336555, 1.005469781607961, 0.8379898145597648, 0.7961737540583605, 0.6925337243718859, 0.38146630487774325, 0.5557561791670843, 0.5887009389460787, 0.8746336529517643, 0.9040363311881677, 0.5480806091218199, 1.8546350165785221, 1.4425458094012529, 1.2057448148101773, 0.6245915923601133, 0.6847435438426476, 1.4987248721369386, 0.6251715705612869, 0.3474388884023369]}, {\"name\": \"972102295\", \"type\": \"box\", \"y\": [0.7638273736446067, 0.7999585024616344, 0.40635381772690043, 0.5009387789887485, 0.5127738951651912, 0.7422321134200743, 1.1416145539933378, 0.4698546409648211, 1.174390318473033, 0.834060193475573, 0.6110841699453049, 0.7196268671420913, 0.7570400994371173, 0.6864363520550306, 1.2387079733159752, 0.4952471019378209, 0.4665018230098584, 0.7526437529726585, 0.4621075650776216, 1.1564761167937032, 0.4620722279761938, 0.5483122638270982, 0.7369511300435718, 0.6765011766996808, 0.8633671182145612, 0.5407625226987982, 0.3404056983330371, 0.861573846696111, 1.4959324433904837, 0.46395421709887047, 1.1379980906246385, 0.5139293196355553, 0.7869495679239824, 0.9733342457477235, 0.4275814663069735, 0.2301988665626162]}, {\"name\": \"1616571925\", \"type\": \"box\", \"y\": [1.264475406963076, 1.20056910893115, 1.3681593113460206, 2.7785593663977473, 1.8192676810784578, 1.689759376312576, 2.328735243008585, 2.3522487434772805, 1.9911750439221838, 1.0310248566920464, 0.6751121465928321, 1.1051033977006148, 1.679699906421778, 1.536395604053279, 2.023620553438084, 0.7192167085198056, 1.0642658776887532, 1.1423629618852513, 1.3247806308281256, 2.0979333727898446, 2.7296969774121997, 1.2740113232987078, 1.2244480311238732, 1.1795639052725588, 0.5797352501085073, 1.225379748610619, 2.2441375466745543, 1.851308946249722, 0.9921299196371544, 0.4649099542795853, 2.386488251128062, 0.9738906659799589, 1.2585796301923053, 1.3178890749041305, 3.7241061982018153, 1.8912923537457356]}, {\"name\": \"806187417\", \"type\": \"box\", \"y\": [0.9707441213288559, 0.6992975687253944, 0.17883715468921607, 0.5219663588911915, 0.22668862184271307, 0.27941200199501426, 0.24491650761597847, 0.17184679976190062, 0.18547804096356132, 1.6147546170979343, 0.8258365673706253, 0.9774601441786416, 0.4339430449796479, 0.35840670559301663, 0.8866066294439674, 0.949939608448502, 0.9172363836967949, 0.552114613704904, 0.7607210220859955, 0.4718824028999995, 0.34875133886463267, 0.19120471343102102, 0.19973612164876467, 0.14976116539769393, 2.0300984483985323, 0.4456658903916439, 0.21810546531381478, 0.28332923095488194, 2.802903723729617, 1.0585901461274554, 1.2111881753275118, 0.9318365290745128, 0.4635841102310236, 0.3580841247038253, 0.15455090992123793, 0.41234174195875395]}, {\"name\": \"771513244\", \"type\": \"box\", \"y\": [1.0920111167864144, 0.8362486718453395, 0.42730470150130934, 0.9151860687138964, 0.32429113390622916, 0.29939388516478077, 0.22042598699657218, 0.2242564991759949, 0.28890276309857377, 1.253808379411341, 0.9751305961305095, 0.7683594586632053, 0.5206627746596162, 0.4096387083740551, 1.0495538432197882, 0.8834655761963096, 0.3643893532860787, 0.43157385033978096, 1.0151940579646868, 0.2506362135176167, 0.24734661439361472, 0.22892827616891534, 0.16958284363637663, 0.1868839921255037, 1.650035336174468, 0.31348008767263247, 0.25552610945169313, 0.40503945167192074, 3.911697200251233, 1.4378920958451251, 0.8377432277305255, 1.0710440374258074, 0.8171657377103912, 0.20653623575949578, 0.16899766281533643, 0.31282894768354863]}, {\"name\": \"1562145181\", \"type\": \"box\", \"y\": [0.7656980116585874, 1.0154710161844813, 0.717173175484085, 0.607389831450915, 0.23842677291627523, 0.3162624282309366, 0.19227130257017105, 0.26206554723326536, 0.24316827234230237, 1.7479880665451666, 0.6848536855969184, 1.1708176705733913, 0.41475624756265717, 0.3125819632298853, 0.9369867880469457, 0.9965226163962211, 0.6264240459285207, 0.518142609800606, 0.8330660751957494, 1.0569787398363464, 0.43733134324745526, 0.24856910961999443, 0.28060668494575913, 0.1390344879727378, 1.895865102782684, 0.8024207008375008, 0.3664145131545608, 0.3515379872271907, 2.953124329732763, 0.9878589004400403, 1.1268385423235556, 1.0766783070513686, 0.7272856480563721, 1.1767076645877719, 0.6998104589018359, 0.5224985909500871]}, {\"name\": \"896338719\", \"type\": \"box\", \"y\": [0.7848793719834092, 0.5587043633797842, 0.2503736256224013, 0.5669801662450688, 0.2548176162287075, 0.2621190385904695, 0.14336260381059493, 0.12791982070681288, 0.15363511213580425, 1.232670338849849, 1.0497936326091928, 0.8386560541249467, 0.6549442539886653, 0.17377597838396927, 0.8993507666594038, 0.6450401502984938, 0.3110337960682605, 0.48606196634431953, 0.7119154420327859, 0.13608597503117986, 0.18056703376277033, 0.23104433294831273, 0.23268151934532028, 0.19330884986924332, 1.7039852840452234, 0.26961467393311, 0.24064507590023626, 0.31154496600744347, 2.969298410102777, 0.7802404310921381, 0.9849520508735549, 0.9320752580563122, 0.42343753135538104, 0.24523459523583768, 0.1889070897607293, 0.26798210960579594]}, {\"name\": \"1113196323\", \"type\": \"box\", \"y\": [1.1009336431662284, 1.1243140079651757, 0.9411943713061189, 0.7266544478592422, 0.9866661906647763, 1.2837542672778606, 1.3677920595339847, 0.9763467707043956, 0.9196879410155948, 0.46936375570987227, 1.1693804899331341, 0.8987432760058006, 1.259898474767045, 1.0435751177930672, 1.6454646751194637, 0.8304209849982511, 1.0206261212750103, 0.871115814520968, 0.8983118444525567, 1.1427239949970123, 0.9422409527377572, 0.7688738086808352, 0.6188759858277157, 0.6736247828201823, 0.2885737630444642, 1.2512855219838568, 0.8685165144004012, 0.5405577533154079, 1.7783360861778714, 0.7631066823077169, 1.3940564993830529, 0.9431275887078634, 1.1891579457438406, 0.6951804289204534, 1.0818026593689611, 0.8468720059288323]}, {\"name\": \"1597760039\", \"type\": \"box\", \"y\": [0.6796451159886386, 0.9862056014225565, 0.5230385591443695, 0.548947089868177, 0.6974442639896806, 0.9782969611208756, 0.5960395683046853, 0.5164368216835783, 0.583939252665569, 0.5089486809189894, 0.9956670881005601, 1.2484116533441938, 0.5764531565012326, 0.6404274627398687, 1.3478127313304857, 0.9601912293147723, 1.2522464229421895, 0.7238927853101235, 0.7232393318402252, 0.48698549984773304, 0.5124447160445988, 0.39880031142855016, 0.4167565178511315, 0.43645416932402326, 0.31405396153424464, 1.0086374275417274, 0.8323848213817462, 0.5165896106599356, 1.3737811955525954, 1.2030664663946304, 0.7025061747930194, 0.7180031539125425, 0.5315506593827392, 1.1525890972956176, 0.8254526860777112, 0.3240333233852179]}, {\"name\": \"317532327\", \"type\": \"box\", \"y\": [1.0524194842948758, 1.2408864812736364, 1.0798325898769425, 0.9621827967405846, 1.055678878167307, 1.3958474208064011, 1.0733053521476035, 0.863708003979702, 0.8901273451506384, 0.8035567467655724, 0.5375455058919228, 0.7066066693702266, 1.3429894150200918, 0.8702819810430771, 1.301965758074106, 1.0197680803526912, 1.5629626068643037, 1.164307679212958, 0.8815903523630721, 0.9398377717357004, 0.8647247246784822, 0.6821448104868654, 0.663780018150138, 0.9798033145651337, 0.5244380693558861, 0.9922686582999238, 1.5590124890718435, 0.8883681120007116, 1.0188730879524788, 1.1397578353160134, 1.5765901560378077, 1.2241513817162768, 0.7167131752530537, 1.0599612090559567, 0.8796143582727055, 0.4675921355749509]}, {\"name\": \"346061612\", \"type\": \"box\", \"y\": [1.273922296184507, 1.5002892695812415, 0.8089706192480767, 0.9119749620474638, 0.5078261205967421, 0.6730612830884957, 0.5635347191722425, 0.6806559760858146, 0.6058834461634535, 1.9224717300597025, 1.475372115621436, 0.8015737976727564, 0.6301499858403344, 0.5887963938223295, 1.4311430114817933, 1.0043647815199408, 0.6912964409778345, 0.512162732587051, 0.892129275256102, 0.45831023864525783, 0.5263295618964202, 0.3513961512075522, 0.3433381718413823, 0.32350841408613806, 2.5430232044380188, 0.6273789981391429, 0.32844090991533326, 0.4754227325644408, 4.542794010732858, 2.3147370200793285, 2.2841929563591794, 1.7214355989409, 0.7782933947937943, 0.8582301327286854, 0.5269481359553826, 0.4498458765219752]}, {\"name\": \"40333612\", \"type\": \"box\", \"y\": [0.8345015381033606, 0.5488319761432481, 0.24723189883373622, 0.4022054919543335, 0.2332999815768719, 0.17408301308352409, 0.2241014924099412, 0.2781907690992985, 0.24167609802564746, 1.3191295278245097, 1.1050247395467128, 0.6568790641760349, 0.49336745299663176, 0.3513081199458449, 1.187747275212642, 0.8651310808503784, 0.5037184971692324, 0.49174492103191775, 0.622213507772565, 0.2657281250611077, 0.22844055167462612, 0.23039132024774672, 0.20154345248278302, 0.19784881830798737, 1.6674026977220495, 0.33055109289965373, 0.195721322535966, 0.459720238282709, 3.0533496529827424, 1.1060665910433334, 1.1162030985698483, 0.80522498576233, 0.559332817787152, 0.27660559845875315, 0.20828430872525375, 0.39065572558704126]}, {\"name\": \"511723709\", \"type\": \"box\", \"y\": [1.000634954256397, 0.7319182467468066, 0.5569803648208828, 0.49874582697388625, 0.2409444412943076, 0.2543501934474435, 0.28396766722997485, 0.4490753928365168, 0.2981307195751535, 1.488613163036575, 1.2066731425514434, 0.7961750708783335, 0.9961527932956998, 0.5991029614565822, 0.9280407706225526, 0.7994143001656818, 0.5965592669898402, 0.49920836998670365, 0.586932724659338, 0.3762815832305649, 0.31861169196820205, 0.24678550106508743, 0.2579190246076713, 0.2786154741463732, 2.020142298237098, 0.4724749252978605, 0.2571576418196518, 0.39615155962427956, 3.1540002544652723, 1.335489396806219, 1.1934541533662384, 1.068622846825934, 0.4860810685062654, 0.48343254218522513, 0.2915825494357437, 0.4734538725928486]}, {\"name\": \"1004972352\", \"type\": \"box\", \"y\": [0.5443151599221244, 0.9798658811489879, 0.6801730596012682, 0.5913443493281865, 0.7500839716402539, 0.7176460762853986, 0.6288274091703221, 0.5022092882317909, 0.3555620731831706, 0.3326159569019523, 0.7330702737560085, 0.8186045083261886, 0.6172678773866086, 0.41892643408512203, 1.0337779952739317, 0.865026732626024, 1.09802069408776, 0.7945204078560211, 0.5678704558952263, 0.985142281800507, 0.9457541324872775, 0.7131652835384072, 0.9842061892393116, 0.6227552412456641, 0.35503421407131536, 0.6886969570552425, 1.075095537895924, 0.618894135903265, 1.26255297411697, 1.064526639178277, 1.0249013159352256, 1.020949823847284, 0.455017225263825, 1.1393605683297356, 1.3370000779202869, 0.3540439792764248]}, {\"name\": \"143824576\", \"type\": \"box\", \"y\": [1.0067967073850066, 0.9159248118585129, 0.18014148831297833, 0.5408231915955528, 0.2209628891686724, 0.26753336698455893, 0.14048321196803523, 0.124725530411413, 0.14541478402910024, 1.271623009051862, 1.3167282193187904, 0.7541603195389914, 0.7972746556267187, 0.34322107151702813, 1.3323241262977423, 0.785653388810183, 0.5395906445162325, 0.531592572733301, 0.8098590008518709, 0.19183249448850523, 0.21758518269809923, 0.3501011132120887, 0.17736165131153783, 0.2964572956098253, 1.7238255096804542, 0.3547283043116791, 0.2475570066160477, 0.3947258245584508, 3.0366743274812165, 1.048440088546901, 1.0498702376159745, 1.1601534825888733, 0.8094247040985091, 0.24545167434822912, 0.11285958747121835, 0.32073615717816567]}, {\"name\": \"368424646\", \"type\": \"box\", \"y\": [3.1923821843955458, 2.378831448794118, 2.288201766242435, 1.9423260812437415, 2.2076840340626167, 1.7810290674696907, 1.7977739348140953, 3.5394784054524737, 1.7832935180192089, 1.140691292840626, 1.3859564583431667, 0.7913642231234451, 1.0535551179294174, 0.8711314326690693, 3.5527004023620714, 2.6789506820870237, 2.3356860532498507, 0.9634951225260349, 0.6761984835561335, 0.9569039938648888, 0.8900117290649866, 3.6193400010252517, 1.9855670183653698, 1.9963693908370814, 0.9435014299147096, 0.9885158297036359, 1.1427076006199188, 1.0835523320043752, 3.4059162109067884, 1.4166536067861115, 1.8076020668651915, 0.6582250030960773, 0.7180915912895784, 1.3080198570239479, 1.48279883190319, 3.046016507357107]}, {\"name\": \"1428227531\", \"type\": \"box\", \"y\": [0.5881237535556371, 1.324759944580326, 0.9037184296188242, 0.9055695178220932, 0.8705610190033857, 0.9632731207365571, 0.8531584451332879, 0.7862292253472397, 0.620946800854758, 0.5854827156422406, 1.0997953117233046, 1.2821042026468537, 0.7513918311249694, 0.6834856303684169, 1.219495712353623, 1.2808374478330602, 1.7263002252076827, 0.7904993126734788, 0.8853573784169048, 0.7763889980689109, 0.818744889318798, 0.4879441325230321, 0.4604479254945436, 0.44995438904046087, 0.5011291933298918, 1.0885340692575354, 0.7975939140319115, 0.26159094714931835, 2.071817124311779, 1.1684991367938298, 1.2844673059565763, 0.6911888316539739, 0.611548776680001, 1.5055873604449752, 1.156189783433962, 0.5270517634978]}, {\"name\": \"2040495184\", \"type\": \"box\", \"y\": [0.6164082845670485, 1.0362486174419574, 0.6831124015075681, 0.6684468163122899, 0.6523007519986034, 1.032680778323574, 0.802372759813332, 0.7237025224448352, 0.7290714931461425, 0.4626753142348808, 0.8691618472316863, 0.7732796967531363, 0.7530822523336793, 0.7168174910177908, 1.1823184190476215, 1.2480552347104825, 1.6556666807266007, 0.8267405907177233, 0.672748028829375, 0.7619468094431266, 0.679269953474429, 0.5480324843659198, 0.2726278269950248, 0.43576035563268495, 0.3377005400215477, 0.6818676069662608, 0.7241186781959333, 0.5204094911097352, 1.637668324366637, 1.3025584484260855, 1.1180593559215606, 0.7798459691087892, 0.8225489869475519, 1.571703122139473, 0.7773007931070774, 0.4434320748072244]}, {\"name\": \"1893337300\", \"type\": \"box\", \"y\": [0.706576009275136, 0.920155778823031, 0.647767809522681, 0.5141626129927789, 0.85553612948027, 1.0519574650788177, 0.6407103644376486, 0.38419326741075616, 0.35496398798537176, 0.38696825326742534, 0.5973065337869871, 0.6805346638620428, 0.7455856426742716, 0.4399717135826888, 1.1580519735326902, 0.9413309086388439, 1.4612677143374866, 0.5717113533329635, 0.5900710287593193, 0.5887658264148724, 0.4750530314053657, 0.3673181309462318, 0.3677070815199544, 0.41122180885316284, 0.5297998355735329, 1.25891001216477, 0.4567213660227571, 0.6008445776378583, 2.165109345767062, 1.4166660555824322, 0.8783344008114659, 0.7751412307593938, 0.6717590361231226, 0.9781540394816606, 0.7642921739406842, 0.4046576565164525]}, {\"name\": \"2117861717\", \"type\": \"box\", \"y\": [0.7611005422498603, 0.7695540427819064, 0.26129587326506937, 0.6405689044739553, 0.19147549506720882, 0.2752507514959536, 0.2538811835034945, 0.22549636167122003, 0.2938299798676861, 1.4418818842446801, 0.7105926576997248, 0.8903773329924572, 0.7157060699522944, 0.3646919451979442, 0.7403888219808433, 0.8719513134635293, 0.31964074645626184, 0.37547703927371284, 0.6282334649310799, 0.20001539854642905, 0.19970807194918438, 0.18452331311749984, 0.14948765286923008, 0.15504337712458297, 1.6975360002915216, 0.32854002069901717, 0.19547331757921285, 0.2888524128436542, 3.1394611563670987, 0.9471806840429097, 0.9993914039893358, 0.6805683591056557, 0.4468968197929863, 0.2678601596311569, 0.17195026358783091, 0.2712797424326699]}, {\"name\": \"1941427679\", \"type\": \"box\", \"y\": [1.1415209602117784, 1.3245318016473877, 0.5991634318337301, 0.6138226792025564, 0.3410520494730384, 0.32828688724612315, 0.4271888799365082, 0.5157961802952811, 0.471441653247386, 1.6883429565920018, 1.1464378993371809, 1.3014570299362347, 0.8729110191162777, 0.664551280673351, 0.9953939579509398, 1.1083005280922376, 0.6824920676787268, 0.7730540244316172, 0.7251903759366802, 0.41346627395673247, 0.3566020071295619, 0.36274412589659516, 0.318617080245802, 0.3307939411515652, 2.53591664587693, 0.844462615547563, 0.40303704015445085, 0.4057419419253743, 3.893302388056799, 1.8076185008735826, 1.5150833498691585, 0.8037915855951835, 0.6794730675998762, 0.7020153183991475, 0.4232052766059458, 0.5005601327436204]}, {\"name\": \"1708098535\", \"type\": \"box\", \"y\": [0.9131972611148659, 0.8735224393163235, 0.4123415907112253, 0.7275815783258491, 0.15428011380713583, 0.2548573384619951, 0.19135616293223603, 0.25591544744930533, 0.27761828665306465, 1.3975934692682124, 1.0570432359928381, 0.7027011481060447, 0.42686001743838103, 0.26796993500592836, 1.057927736791388, 1.1005726937330027, 0.2752167064504131, 0.32262365630889916, 0.9831169745537991, 0.22363846900067938, 0.20438187863134477, 0.20768777260103227, 0.1478349129941526, 0.1641908857738101, 1.7883957818741725, 0.33701912279480223, 0.22345202740161052, 0.2471768297917715, 3.702760891098179, 1.7523163816008438, 0.5390563552621092, 0.9276637173102398, 0.7352276909724943, 0.22815699838088602, 0.21815522811665455, 0.24011749821025385]}, {\"name\": \"456209269\", \"type\": \"box\", \"y\": [0.9229707459617761, 0.676154006240833, 0.2731915391819147, 0.40537931386056564, 0.2185973607624149, 0.25404091041961224, 0.2320894302292073, 0.28092357592246153, 0.24516322195309165, 1.3940087870309164, 0.8997520790846317, 0.7339415192158137, 0.49189573198488734, 0.3893133940781251, 0.8463259754709789, 0.9049163823013506, 0.36987497554042786, 0.3978649301635865, 0.5060460046423376, 0.28520105112906724, 0.20797444807416438, 0.3591530047327821, 0.2679192967647703, 0.2665141961766349, 1.917413046138646, 0.4073808902157043, 0.3181425839310819, 0.3395609408546047, 3.532666791141957, 1.2191557338964134, 0.9885336908752443, 0.9501193752709349, 0.46756938287897765, 0.29200708371370926, 0.18271534947894433, 0.35405633728228547]}],                        {\"showlegend\": false, \"template\": {\"data\": {\"bar\": [{\"error_x\": {\"color\": \"#2a3f5f\"}, \"error_y\": {\"color\": \"#2a3f5f\"}, \"marker\": {\"line\": {\"color\": \"#E5ECF6\", \"width\": 0.5}}, \"type\": \"bar\"}], \"barpolar\": [{\"marker\": {\"line\": {\"color\": \"#E5ECF6\", \"width\": 0.5}}, \"type\": \"barpolar\"}], \"carpet\": [{\"aaxis\": {\"endlinecolor\": \"#2a3f5f\", \"gridcolor\": \"white\", \"linecolor\": \"white\", \"minorgridcolor\": \"white\", \"startlinecolor\": \"#2a3f5f\"}, \"baxis\": {\"endlinecolor\": \"#2a3f5f\", \"gridcolor\": \"white\", \"linecolor\": \"white\", \"minorgridcolor\": \"white\", \"startlinecolor\": \"#2a3f5f\"}, \"type\": \"carpet\"}], \"choropleth\": [{\"colorbar\": {\"outlinewidth\": 0, \"ticks\": \"\"}, \"type\": \"choropleth\"}], \"contour\": [{\"colorbar\": {\"outlinewidth\": 0, \"ticks\": \"\"}, \"colorscale\": [[0.0, \"#0d0887\"], [0.1111111111111111, \"#46039f\"], [0.2222222222222222, \"#7201a8\"], [0.3333333333333333, \"#9c179e\"], [0.4444444444444444, \"#bd3786\"], [0.5555555555555556, \"#d8576b\"], [0.6666666666666666, \"#ed7953\"], [0.7777777777777778, \"#fb9f3a\"], [0.8888888888888888, \"#fdca26\"], [1.0, \"#f0f921\"]], \"type\": \"contour\"}], \"contourcarpet\": [{\"colorbar\": {\"outlinewidth\": 0, \"ticks\": \"\"}, \"type\": \"contourcarpet\"}], \"heatmap\": [{\"colorbar\": {\"outlinewidth\": 0, \"ticks\": \"\"}, \"colorscale\": [[0.0, \"#0d0887\"], [0.1111111111111111, \"#46039f\"], [0.2222222222222222, \"#7201a8\"], [0.3333333333333333, \"#9c179e\"], [0.4444444444444444, \"#bd3786\"], [0.5555555555555556, \"#d8576b\"], [0.6666666666666666, \"#ed7953\"], [0.7777777777777778, \"#fb9f3a\"], [0.8888888888888888, \"#fdca26\"], [1.0, \"#f0f921\"]], \"type\": \"heatmap\"}], \"heatmapgl\": [{\"colorbar\": {\"outlinewidth\": 0, \"ticks\": \"\"}, \"colorscale\": [[0.0, \"#0d0887\"], [0.1111111111111111, \"#46039f\"], [0.2222222222222222, \"#7201a8\"], [0.3333333333333333, \"#9c179e\"], [0.4444444444444444, \"#bd3786\"], [0.5555555555555556, \"#d8576b\"], [0.6666666666666666, \"#ed7953\"], [0.7777777777777778, \"#fb9f3a\"], [0.8888888888888888, \"#fdca26\"], [1.0, \"#f0f921\"]], \"type\": \"heatmapgl\"}], \"histogram\": [{\"marker\": {\"colorbar\": {\"outlinewidth\": 0, \"ticks\": \"\"}}, \"type\": \"histogram\"}], \"histogram2d\": [{\"colorbar\": {\"outlinewidth\": 0, \"ticks\": \"\"}, \"colorscale\": [[0.0, \"#0d0887\"], [0.1111111111111111, \"#46039f\"], [0.2222222222222222, \"#7201a8\"], [0.3333333333333333, \"#9c179e\"], [0.4444444444444444, \"#bd3786\"], [0.5555555555555556, \"#d8576b\"], [0.6666666666666666, \"#ed7953\"], [0.7777777777777778, \"#fb9f3a\"], [0.8888888888888888, \"#fdca26\"], [1.0, \"#f0f921\"]], \"type\": \"histogram2d\"}], \"histogram2dcontour\": [{\"colorbar\": {\"outlinewidth\": 0, \"ticks\": \"\"}, \"colorscale\": [[0.0, \"#0d0887\"], [0.1111111111111111, \"#46039f\"], [0.2222222222222222, \"#7201a8\"], [0.3333333333333333, \"#9c179e\"], [0.4444444444444444, \"#bd3786\"], [0.5555555555555556, \"#d8576b\"], [0.6666666666666666, \"#ed7953\"], [0.7777777777777778, \"#fb9f3a\"], [0.8888888888888888, \"#fdca26\"], [1.0, \"#f0f921\"]], \"type\": \"histogram2dcontour\"}], \"mesh3d\": [{\"colorbar\": {\"outlinewidth\": 0, \"ticks\": \"\"}, \"type\": \"mesh3d\"}], \"parcoords\": [{\"line\": {\"colorbar\": {\"outlinewidth\": 0, \"ticks\": \"\"}}, \"type\": \"parcoords\"}], \"pie\": [{\"automargin\": true, \"type\": \"pie\"}], \"scatter\": [{\"marker\": {\"colorbar\": {\"outlinewidth\": 0, \"ticks\": \"\"}}, \"type\": \"scatter\"}], \"scatter3d\": [{\"line\": {\"colorbar\": {\"outlinewidth\": 0, \"ticks\": \"\"}}, \"marker\": {\"colorbar\": {\"outlinewidth\": 0, \"ticks\": \"\"}}, \"type\": \"scatter3d\"}], \"scattercarpet\": [{\"marker\": {\"colorbar\": {\"outlinewidth\": 0, \"ticks\": \"\"}}, \"type\": \"scattercarpet\"}], \"scattergeo\": [{\"marker\": {\"colorbar\": {\"outlinewidth\": 0, \"ticks\": \"\"}}, \"type\": \"scattergeo\"}], \"scattergl\": [{\"marker\": {\"colorbar\": {\"outlinewidth\": 0, \"ticks\": \"\"}}, \"type\": \"scattergl\"}], \"scattermapbox\": [{\"marker\": {\"colorbar\": {\"outlinewidth\": 0, \"ticks\": \"\"}}, \"type\": \"scattermapbox\"}], \"scatterpolar\": [{\"marker\": {\"colorbar\": {\"outlinewidth\": 0, \"ticks\": \"\"}}, \"type\": \"scatterpolar\"}], \"scatterpolargl\": [{\"marker\": {\"colorbar\": {\"outlinewidth\": 0, \"ticks\": \"\"}}, \"type\": \"scatterpolargl\"}], \"scatterternary\": [{\"marker\": {\"colorbar\": {\"outlinewidth\": 0, \"ticks\": \"\"}}, \"type\": \"scatterternary\"}], \"surface\": [{\"colorbar\": {\"outlinewidth\": 0, \"ticks\": \"\"}, \"colorscale\": [[0.0, \"#0d0887\"], [0.1111111111111111, \"#46039f\"], [0.2222222222222222, \"#7201a8\"], [0.3333333333333333, \"#9c179e\"], [0.4444444444444444, \"#bd3786\"], [0.5555555555555556, \"#d8576b\"], [0.6666666666666666, \"#ed7953\"], [0.7777777777777778, \"#fb9f3a\"], [0.8888888888888888, \"#fdca26\"], [1.0, \"#f0f921\"]], \"type\": \"surface\"}], \"table\": [{\"cells\": {\"fill\": {\"color\": \"#EBF0F8\"}, \"line\": {\"color\": \"white\"}}, \"header\": {\"fill\": {\"color\": \"#C8D4E3\"}, \"line\": {\"color\": \"white\"}}, \"type\": \"table\"}]}, \"layout\": {\"annotationdefaults\": {\"arrowcolor\": \"#2a3f5f\", \"arrowhead\": 0, \"arrowwidth\": 1}, \"autotypenumbers\": \"strict\", \"coloraxis\": {\"colorbar\": {\"outlinewidth\": 0, \"ticks\": \"\"}}, \"colorscale\": {\"diverging\": [[0, \"#8e0152\"], [0.1, \"#c51b7d\"], [0.2, \"#de77ae\"], [0.3, \"#f1b6da\"], [0.4, \"#fde0ef\"], [0.5, \"#f7f7f7\"], [0.6, \"#e6f5d0\"], [0.7, \"#b8e186\"], [0.8, \"#7fbc41\"], [0.9, \"#4d9221\"], [1, \"#276419\"]], \"sequential\": [[0.0, \"#0d0887\"], [0.1111111111111111, \"#46039f\"], [0.2222222222222222, \"#7201a8\"], [0.3333333333333333, \"#9c179e\"], [0.4444444444444444, \"#bd3786\"], [0.5555555555555556, \"#d8576b\"], [0.6666666666666666, \"#ed7953\"], [0.7777777777777778, \"#fb9f3a\"], [0.8888888888888888, \"#fdca26\"], [1.0, \"#f0f921\"]], \"sequentialminus\": [[0.0, \"#0d0887\"], [0.1111111111111111, \"#46039f\"], [0.2222222222222222, \"#7201a8\"], [0.3333333333333333, \"#9c179e\"], [0.4444444444444444, \"#bd3786\"], [0.5555555555555556, \"#d8576b\"], [0.6666666666666666, \"#ed7953\"], [0.7777777777777778, \"#fb9f3a\"], [0.8888888888888888, \"#fdca26\"], [1.0, \"#f0f921\"]]}, \"colorway\": [\"#636efa\", \"#EF553B\", \"#00cc96\", \"#ab63fa\", \"#FFA15A\", \"#19d3f3\", \"#FF6692\", \"#B6E880\", \"#FF97FF\", \"#FECB52\"], \"font\": {\"color\": \"#2a3f5f\"}, \"geo\": {\"bgcolor\": \"white\", \"lakecolor\": \"white\", \"landcolor\": \"#E5ECF6\", \"showlakes\": true, \"showland\": true, \"subunitcolor\": \"white\"}, \"hoverlabel\": {\"align\": \"left\"}, \"hovermode\": \"closest\", \"mapbox\": {\"style\": \"light\"}, \"paper_bgcolor\": \"white\", \"plot_bgcolor\": \"#E5ECF6\", \"polar\": {\"angularaxis\": {\"gridcolor\": \"white\", \"linecolor\": \"white\", \"ticks\": \"\"}, \"bgcolor\": \"#E5ECF6\", \"radialaxis\": {\"gridcolor\": \"white\", \"linecolor\": \"white\", \"ticks\": \"\"}}, \"scene\": {\"xaxis\": {\"backgroundcolor\": \"#E5ECF6\", \"gridcolor\": \"white\", \"gridwidth\": 2, \"linecolor\": \"white\", \"showbackground\": true, \"ticks\": \"\", \"zerolinecolor\": \"white\"}, \"yaxis\": {\"backgroundcolor\": \"#E5ECF6\", \"gridcolor\": \"white\", \"gridwidth\": 2, \"linecolor\": \"white\", \"showbackground\": true, \"ticks\": \"\", \"zerolinecolor\": \"white\"}, \"zaxis\": {\"backgroundcolor\": \"#E5ECF6\", \"gridcolor\": \"white\", \"gridwidth\": 2, \"linecolor\": \"white\", \"showbackground\": true, \"ticks\": \"\", \"zerolinecolor\": \"white\"}}, \"shapedefaults\": {\"line\": {\"color\": \"#2a3f5f\"}}, \"ternary\": {\"aaxis\": {\"gridcolor\": \"white\", \"linecolor\": \"white\", \"ticks\": \"\"}, \"baxis\": {\"gridcolor\": \"white\", \"linecolor\": \"white\", \"ticks\": \"\"}, \"bgcolor\": \"#E5ECF6\", \"caxis\": {\"gridcolor\": \"white\", \"linecolor\": \"white\", \"ticks\": \"\"}}, \"title\": {\"x\": 0.05}, \"xaxis\": {\"automargin\": true, \"gridcolor\": \"white\", \"linecolor\": \"white\", \"ticks\": \"\", \"title\": {\"standoff\": 15}, \"zerolinecolor\": \"white\", \"zerolinewidth\": 2}, \"yaxis\": {\"automargin\": true, \"gridcolor\": \"white\", \"linecolor\": \"white\", \"ticks\": \"\", \"title\": {\"standoff\": 15}, \"zerolinecolor\": \"white\", \"zerolinewidth\": 2}}}, \"title\": {\"text\": \"LSTM\"}, \"xaxis\": {\"title\": {\"text\": \"Time series\"}}, \"yaxis\": {\"title\": {\"text\": \"MASE distribution\"}}},                        {\"responsive\": true}                    ).then(function(){\n",
       "                            \n",
       "var gd = document.getElementById('96641666-7d34-4281-9ae3-32f7b3687ce9');\n",
       "var x = new MutationObserver(function (mutations, observer) {{\n",
       "        var display = window.getComputedStyle(gd).display;\n",
       "        if (!display || display === 'none') {{\n",
       "            console.log([gd, 'removed!']);\n",
       "            Plotly.purge(gd);\n",
       "            observer.disconnect();\n",
       "        }}\n",
       "}});\n",
       "\n",
       "// Listen for the removal of the full notebook cells\n",
       "var notebookContainer = gd.closest('#notebook-container');\n",
       "if (notebookContainer) {{\n",
       "    x.observe(notebookContainer, {childList: true});\n",
       "}}\n",
       "\n",
       "// Listen for the clearing of the current output cell\n",
       "var outputEl = gd.closest('.output');\n",
       "if (outputEl) {{\n",
       "    x.observe(outputEl, {childList: true});\n",
       "}}\n",
       "\n",
       "                        })                };                });            </script>        </div>"
      ]
     },
     "metadata": {},
     "output_type": "display_data"
    }
   ],
   "source": [
    "fig = go.Figure()\n",
    "for col in lstm_dist_ts.keys():\n",
    "    box_data = lstm_dist_ts[col]\n",
    "    fig.add_trace(go.Box(y=box_data, name = col))\n",
    "fig.update_xaxes(title = 'Time series')\n",
    "fig.update_yaxes(title = 'MASE distribution')\n",
    "fig.update_layout(title = \"LSTM\", showlegend= False)"
   ]
  },
  {
   "cell_type": "code",
   "execution_count": 48,
   "metadata": {},
   "outputs": [
    {
     "data": {
      "application/vnd.plotly.v1+json": {
       "config": {
        "plotlyServerURL": "https://plot.ly"
       },
       "data": [
        {
         "name": "grid",
         "type": "box",
         "y": [
          1.2714278154834477,
          0.7990954559089979,
          0.9093162473503432,
          1.0859799403622379,
          0.3402475439709642,
          0.6797118642902824,
          1.1907457623161533,
          0.7926797472248664,
          0.7108862731187087,
          0.8361117465032811,
          0.6701892623606502,
          0.9786443896778498,
          0.9612770608423199,
          0.7199984195554417,
          1.602749851918091,
          0.7665714788125165,
          1.3371723441984695,
          1.2335489835006788,
          1.0690424204162734,
          1.03664744001746,
          1.0313831828282949,
          0.4390828882049444,
          0.9521070224742884,
          0.6971254572651662,
          0.6163582767930187,
          0.5337485371112842,
          1.0333898881231454,
          0.6588187614979745,
          4.48170185394435,
          3.572149670891403,
          1.6991107591387298,
          1.3894278733798602,
          0.9170627234027267,
          0.7011541163324838,
          2.573620377332896,
          1.1134612948580511
         ]
        },
        {
         "name": "tline_1",
         "type": "box",
         "y": [
          1.0589150159430736,
          0.9635791767959152,
          0.6884147959529854,
          0.5612902842771285,
          0.4412175234680417,
          0.32287939343760136,
          0.5394498755271627,
          0.4540415690209564,
          0.31631894882895273,
          1.611789257830573,
          0.9254123134922934,
          0.9591142190620584,
          0.8455393943637072,
          0.4746599716882991,
          1.4528969440984376,
          0.7042968240529655,
          1.2928541807244436,
          0.6772423338792208,
          0.8696270505483722,
          0.5757315012921999,
          0.6579901132211402,
          0.5487206199085829,
          0.31569549498763466,
          0.2934209398113274,
          1.9906087341426943,
          0.9370204395024108,
          0.8029300254263678,
          0.3760779508972893,
          4.482960688454231,
          2.2662645181207446,
          2.0235204727358713,
          1.821601746641212,
          0.811248961460745,
          0.8258173224833224,
          1.3952000067933972,
          1.161294788760713
         ]
        },
        {
         "name": "tline_2",
         "type": "box",
         "y": [
          1.0885150880644157,
          0.9729023017527173,
          0.8453805431172567,
          1.3466551796219286,
          0.37370493665319815,
          0.8252776056352514,
          1.416029370360537,
          0.9359338673288999,
          0.8005937096412554,
          0.829623859705357,
          0.6227537280261587,
          0.9456973772603986,
          0.9896366265919836,
          0.7979336442383198,
          1.5067168107055893,
          0.9899707532121934,
          1.6989967218754167,
          1.1970079597792196,
          1.3450767912137587,
          1.143760163305311,
          1.144873923922678,
          0.5231223375005678,
          1.1107244285852274,
          0.782343514005165,
          0.48635026702388734,
          0.6011316395509531,
          1.024207266200326,
          0.6965941737206233,
          3.583546449523328,
          3.6230637811390425,
          1.0433160104031296,
          1.19352919630145,
          0.9496351254938615,
          0.980591239973183,
          2.6554404758659915,
          1.166227795739793
         ]
        },
        {
         "name": "substation1",
         "type": "box",
         "y": [
          1.079732866089073,
          1.005870163549469,
          0.7092066015329533,
          0.5794150139032721,
          0.4683667877843195,
          0.3213176275738925,
          0.5525305488854563,
          0.45779832619796423,
          0.3376827332282469,
          1.649962867872661,
          0.9761978435944973,
          0.9278831128255367,
          0.8428813672067287,
          0.43846001416831326,
          1.4534033783782239,
          0.6956360489450203,
          1.319194990358785,
          0.6947594408127744,
          0.9363625285425622,
          0.5818589189347155,
          0.6816399151595526,
          0.5386929263632171,
          0.3015207120079769,
          0.2806494019251533,
          2.056162451412631,
          0.9483373900400277,
          0.850510721572833,
          0.38832386698786975,
          4.536000907320111,
          2.331057966156895,
          2.097286974438508,
          1.863017059882445,
          0.7817739427214689,
          0.8254500484362068,
          1.417834297628145,
          1.1698083379236122
         ]
        },
        {
         "name": "substation2",
         "type": "box",
         "y": [
          0.9740669998771861,
          0.838227437857891,
          0.6290978294080333,
          0.5351766534530956,
          0.42610404520521067,
          0.3310034420868588,
          0.49806603468247407,
          0.450038036874344,
          0.2805923743043878,
          1.4662977767179883,
          0.8072071352348696,
          1.0113284423985174,
          0.8529398130268447,
          0.5923408753591508,
          1.391926188302741,
          0.7002636049462255,
          1.177646694459778,
          0.6202240232432248,
          0.7600505340945402,
          0.5744501906528481,
          0.6191944234844484,
          0.5752858097954129,
          0.3633510159397524,
          0.34586048717438705,
          1.7727022167787891,
          0.8612347282281372,
          0.6590863118629805,
          0.39978967681429634,
          4.199061253478982,
          2.001409096277437,
          1.753532073129806,
          1.6897452223707194,
          0.9077943700983191,
          0.8529267103935719,
          1.3144095907668447,
          1.1607846755151712
         ]
        },
        {
         "name": "substation3",
         "type": "box",
         "y": [
          1.0875575448983237,
          0.9699550428127386,
          0.8429977061212253,
          1.3572942375933175,
          0.3729246401723914,
          0.8573656704355723,
          1.4236302504262504,
          0.9581303422724071,
          0.8100350165042043,
          0.8418360800836818,
          0.6313110665727323,
          0.9578649483282771,
          1.002650687507441,
          0.8133228142875852,
          1.5152738113157294,
          0.9892783260322756,
          1.697137915210098,
          1.1987618014581705,
          1.3598906270404016,
          1.160333756499391,
          1.1555358836599632,
          0.5362834269489599,
          1.1291024730549892,
          0.7877251487397546,
          0.5003835904698248,
          0.6218019153902002,
          1.0327619621619153,
          0.7146490150470772,
          3.581056489636451,
          3.6230338891139544,
          1.0396420120364733,
          1.2097341768193195,
          0.9600932942707188,
          0.9804391737830572,
          2.6692410043086983,
          1.148821406307036
         ]
        },
        {
         "name": "substation4",
         "type": "box",
         "y": [
          0.6640030478755864,
          1.1219545031751015,
          0.9996038001157331,
          0.7339900676764914,
          0.5330328134937777,
          0.7863707955601883,
          1.1194627416979688,
          0.7019984000232977,
          0.377505193550778,
          0.269782882898702,
          0.6537813806313241,
          0.710818654806612,
          0.8220547843849769,
          0.37596571749716395,
          0.9974173598966137,
          0.8335917970569742,
          1.3776182455138646,
          0.8975554992024045,
          0.5704753415087204,
          0.5936424413691243,
          0.7442753738077934,
          0.8004314584447556,
          0.7695750908769979,
          0.5919182788323355,
          0.26144628041207957,
          1.0912241621042935,
          0.8610796600309668,
          0.6830078397006668,
          2.4086270899557443,
          2.7079477110674888,
          1.062416612681775,
          0.7581688480747061,
          0.6481653986285354,
          0.8596671680691561,
          1.329965087595715,
          1.8672006003625932
         ]
        },
        {
         "name": "6010",
         "type": "box",
         "y": [
          1.6098078372419422,
          1.3311962310653418,
          2.382135472698939,
          1.0459503193878517,
          1.1440954380519837,
          0.9565830797171688,
          0.8967830697545833,
          0.9467455716013343,
          0.7522413466314284,
          1.9815110644494194,
          1.2116353241766185,
          0.7907641630724669,
          1.691790984654082,
          0.8001213103961309,
          1.1811494480826228,
          0.809655999173183,
          0.8904652920806055,
          1.0321647292634266,
          1.2747904295261872,
          1.4686744640852165,
          1.1926292314499418,
          0.9729801280522093,
          1.0214231954120854,
          1.751945400811732,
          3.0863712603878874,
          0.9029678388389855,
          1.8253568872682042,
          0.9840886035729463,
          3.6918220291870107,
          1.874013867179459,
          0.560444566992279,
          0.6811484821859449,
          1.2483672551683012,
          1.0696407988792376,
          0.508132674288386,
          0.7717551532453608
         ]
        },
        {
         "name": "6014",
         "type": "box",
         "y": [
          2.0171787172656694,
          1.2195324053256607,
          2.6011883697287295,
          1.2326522161579747,
          1.5821760903027224,
          0.9619557467974612,
          0.9693882189046475,
          1.3131293517320444,
          0.8555475035835113,
          2.4337337825921685,
          1.2629966742609717,
          1.0319385247948616,
          1.7458495866144632,
          1.1950754753772903,
          1.5919700625055992,
          0.837147151189017,
          1.0803290780328212,
          1.360584924233185,
          1.6876524109618922,
          1.7753866554358384,
          1.1535314807135995,
          1.2043129338396308,
          1.2381522692973863,
          1.893366312515834,
          3.776176684608345,
          1.1108402135222448,
          1.8659371858255018,
          1.2330194098913032,
          4.67765754771712,
          2.3065436073181718,
          0.6825243750019867,
          0.6537483696765191,
          1.4673307823581756,
          1.4754777321622463,
          0.5452050034968609,
          0.7077857048787793
         ]
        },
        {
         "name": "6011",
         "type": "box",
         "y": [
          1.4859922607445029,
          1.1287447372039914,
          2.3296002916391965,
          1.2874935270681431,
          1.2586394101075664,
          1.3286490093320784,
          1.276897846462191,
          1.1074969561666985,
          0.907718822387754,
          2.0522362671983343,
          1.08331794210997,
          0.6884859964631522,
          1.5031885946525836,
          1.0967809957139933,
          1.1565180075634298,
          0.681740662111124,
          0.8902765814334568,
          1.1078469940171645,
          0.9564357641802287,
          1.5492503464912304,
          1.23481810806265,
          1.011282071283393,
          1.1356274457698967,
          1.6829554710435235,
          2.8900543369348646,
          0.763176081864202,
          1.7267141443837135,
          0.9477137203502224,
          4.166359893641739,
          1.7403734010022323,
          0.6600580260608115,
          0.9162474590351549,
          0.8855014828647486,
          1.119045106578819,
          0.6548674812928172,
          0.6709208264158237
         ]
        },
        {
         "name": "6280",
         "type": "box",
         "y": [
          1.5599658084457135,
          1.5029668551504967,
          0.9848166843993021,
          2.080641605779934,
          1.0060547097398491,
          1.1860612490521414,
          1.00137673852196,
          2.1183389705356603,
          1.7626460193166087,
          1.8307409852028176,
          0.9158572303152257,
          0.8142335437779821,
          0.5339110331181309,
          0.5469005590326043,
          1.6991921819260007,
          1.2792971415325678,
          2.2717801846315138,
          0.791018696024407,
          0.6212547957740773,
          0.98372810934914,
          0.4327228349063053,
          1.6480165438047376,
          1.9222468945631077,
          1.9154855744196646,
          1.0254425212245764,
          0.7444111963519494,
          0.44016188042061566,
          1.3452804894736605,
          2.8342888404163546,
          1.9794826622887727,
          1.133977929181437,
          1.0392324094807535,
          0.6877287032069369,
          0.8172275780613415,
          1.1586730715511628,
          1.7368303267474594
         ]
        },
        {
         "name": "6281",
         "type": "box",
         "y": [
          0.862571128712598,
          0.9568724161329699,
          0.9792814095687971,
          1.1043267454833505,
          1.1374446049621283,
          1.4693118044603657,
          1.1502403728217772,
          1.5095144212623148,
          1.227713102107106,
          1.6472242163824864,
          0.854030029209363,
          1.3899711987212127,
          0.5267119016264133,
          0.3195684667735992,
          1.1415642199840736,
          0.8630000719961318,
          0.6553077084654786,
          0.8898599384923769,
          0.6651899132569561,
          0.967751832433923,
          0.7950903872290309,
          0.6013079397831843,
          0.7080675926391354,
          1.2079976832935189,
          0.9997439993179429,
          0.8235262357633896,
          0.8359583433040919,
          1.5739286292573837,
          1.536527646313928,
          0.5990617629454195,
          1.630694984421862,
          1.1281483738651075,
          1.2572852929194744,
          0.6051195666534684,
          1.6563631758068074,
          0.7883140730615722
         ]
        },
        {
         "name": "6284",
         "type": "box",
         "y": [
          1.3440650812569117,
          1.2692483229015163,
          1.3430819641356326,
          2.1199921278577674,
          1.1477684813184035,
          1.9022843252611934,
          1.2669030156673153,
          1.3454139027752816,
          1.9322136615091148,
          1.7508750646858708,
          1.3585191271517723,
          0.8038605140074676,
          1.325957528320705,
          1.2267410474225273,
          2.2701318264603034,
          1.4929983347582545,
          2.0603621643317935,
          0.935077669325404,
          0.8276096703929803,
          0.6457443266417613,
          0.7511703772249396,
          1.4811015576712345,
          1.4219257677884258,
          2.440496015840864,
          2.150781396037656,
          1.7467446068639916,
          1.1331978460188712,
          0.8777693732826884,
          2.021429013897911,
          1.4714952325237967,
          1.0116324761489721,
          0.7755204857745165,
          0.9077976962043574,
          0.9138539803593504,
          0.7530944884005885,
          0.7336225468996798
         ]
        },
        {
         "name": "1295864320",
         "type": "box",
         "y": [
          1.1428124572993243,
          2.1766599749867206,
          1.257608764435165,
          2.0484361997914293,
          0.9379615485123914,
          1.4571786740769614,
          1.119807004201811,
          1.2005821598957014,
          1.146346811130666,
          1.3918326208615013,
          0.7618144775834844,
          1.2474231588689382,
          0.8457332044405969,
          0.9701511480295102,
          1.5039010939851427,
          0.8780185618185523,
          2.9192137391344013,
          1.3252965930913827,
          0.6233648435098197,
          0.6995988855639871,
          1.3511841188185953,
          1.1198818316163421,
          2.7346468097078924,
          2.2100344307559467,
          1.8537802708771687,
          1.455845724372665,
          0.48144589243118413,
          1.5214798810158896,
          2.1913983236802976,
          1.7109481079315845,
          1.6994445328732948,
          0.866575680129494,
          0.9611709352997412,
          1.276538450033334,
          0.6722710003834175,
          1.0338806023016682
         ]
        },
        {
         "name": "1247421966",
         "type": "box",
         "y": [
          1.6289548030194503,
          0.8488471305209302,
          2.7690009408350584,
          1.1390743782270762,
          1.3643743725213349,
          0.8685895424607113,
          0.9661735822103618,
          1.0983600931874677,
          0.806831531269245,
          2.1032924947722087,
          0.7496939190471833,
          1.007514616469233,
          1.7206683694508604,
          1.0795070602847756,
          1.2994110850667753,
          0.7899648653650305,
          0.9384827240412867,
          0.9674396830379617,
          1.3769516580577652,
          1.2697621854314842,
          1.0534696251786995,
          0.8528914781024364,
          0.8151857029862969,
          1.594440055063128,
          3.0904347849177873,
          0.7456953245730704,
          1.6990402024195619,
          0.8972321945602751,
          3.3122769937852,
          1.5676557814182208,
          0.6798551689906877,
          0.6345365586907662,
          1.1719919781318082,
          0.9221540327083181,
          0.6673014148660702,
          0.8636172502456468
         ]
        },
        {
         "name": "2107373071",
         "type": "box",
         "y": [
          1.7951397096696966,
          1.7815649231177684,
          2.767663313092157,
          1.319833435100558,
          1.1750682282423945,
          1.030019778739393,
          1.1926368664116729,
          1.32289665121262,
          0.9077142344762926,
          2.689546024015537,
          1.3037901727606935,
          0.9345020502085019,
          1.8946982963207109,
          1.0799938765442807,
          1.738377859936808,
          1.2229210629596938,
          1.2298801637710841,
          1.4186084427669357,
          1.5802677938266032,
          1.6380581642803254,
          1.32818895331326,
          1.2900664513549547,
          1.3306151536681567,
          2.1141983539074025,
          3.794629435341871,
          0.9703156612334904,
          2.3679192326796046,
          1.3730632363898891,
          5.140098017088893,
          2.763073925829968,
          0.8804842556958874,
          0.7343153524328063,
          1.8865864195431847,
          1.3587204946086349,
          0.6136745840438141,
          0.6789635136798252
         ]
        },
        {
         "name": "2009066518",
         "type": "box",
         "y": [
          0.8697615240915649,
          1.4980143055056026,
          0.7117051135337211,
          1.0749194362785284,
          0.6908180729152825,
          1.1685185683806072,
          1.2255497680786918,
          0.838706707437118,
          1.4552392807520997,
          1.47581320963064,
          1.2655892221507596,
          0.7256788393554363,
          1.026209074778951,
          1.0333065428675892,
          1.3672926986240035,
          1.4413164474061293,
          2.2129191497180116,
          0.7684220949828899,
          0.6481219722320024,
          0.8128611258158427,
          1.01962136074262,
          1.0562972104046555,
          1.4757468836893595,
          2.010125706835451,
          1.5605670831403329,
          1.5634965474535483,
          0.9861948300857851,
          1.090742291976765,
          1.9724320298345057,
          1.5663526273545798,
          1.4159408388370713,
          1.0239051605616996,
          0.8589321691612187,
          1.2732089345631892,
          0.19847302008999493,
          1.182329952304263
         ]
        },
        {
         "name": "972102295",
         "type": "box",
         "y": [
          0.8834220857562965,
          0.8914984675632306,
          0.985581516522676,
          0.8554466832580087,
          0.8477069278240069,
          1.3935388596739777,
          1.3840064007303388,
          1.3127394113273028,
          1.3675767547374515,
          1.7771837720912937,
          0.7933398654413916,
          1.3654648114094274,
          0.48894162709121725,
          0.3208193593325627,
          1.2488737701505852,
          0.9963415400357254,
          0.728100738891268,
          0.9025685010889948,
          0.6618965593875907,
          0.9225497690523792,
          0.7497546399841032,
          0.5667985687255382,
          0.7161955668745034,
          1.039918826716303,
          1.009513428076202,
          0.8336016979177724,
          0.6714094644029662,
          1.4136052030450477,
          1.6058437848061597,
          0.5654340693043496,
          1.5314339691334737,
          1.1934299726417397,
          1.3544184694875319,
          0.5321537415595249,
          1.6539693608276216,
          0.8544736313546212
         ]
        },
        {
         "name": "1616571925",
         "type": "box",
         "y": [
          0.7805530173413961,
          1.0649640466279784,
          1.294728827405049,
          1.1140878336815974,
          1.118542029137585,
          0.8474522980898049,
          1.785255210185044,
          1.8752711084760882,
          1.672114392888559,
          1.2026154720920643,
          1.2657245828956043,
          1.0387962535137547,
          0.9551753355727138,
          0.6857897481860101,
          1.9962640575263166,
          1.2081458442242,
          1.9712889108587466,
          1.2800979330763746,
          0.8039153854230816,
          0.9128569452951293,
          0.6258162964264498,
          0.5367514593305478,
          1.3939303977018949,
          0.9483279102435507,
          0.9745227165447184,
          1.383965058036619,
          0.8259265445646474,
          1.1257662994492754,
          2.0941608681718766,
          1.6910894319788188,
          1.1558994222940748,
          0.9203318743721394,
          0.49534986566271194,
          0.9308534112179084,
          1.3660061583007537,
          0.9067231460656267
         ]
        },
        {
         "name": "806187417",
         "type": "box",
         "y": [
          1.7813008048802745,
          1.2968738753065063,
          2.737348606722821,
          1.1281470801869602,
          1.3446793362333942,
          0.869486914181852,
          0.9810817049371411,
          1.0580422830858667,
          0.8002600765698762,
          2.004494299025724,
          0.9141003643730602,
          1.0508509862021838,
          1.8013803714071304,
          1.140295433455812,
          1.349506773889718,
          0.8494279139642664,
          0.8601658087458824,
          0.9445289435202191,
          1.3367258705791953,
          1.384227386985282,
          1.0002482568060491,
          0.8871935252049544,
          0.8989475902587868,
          1.5111363783196157,
          3.10850658138916,
          1.0369032437410803,
          1.6388432028589726,
          1.1190878433785543,
          3.2310415023081305,
          1.6997326135388164,
          0.8283179543681013,
          0.5118849019266444,
          1.0149236947775375,
          0.9547928768560089,
          0.6847817223041147,
          0.8967979278186836
         ]
        },
        {
         "name": "771513244",
         "type": "box",
         "y": [
          1.5300283273338509,
          1.410081443238606,
          2.1082633548698624,
          1.0234729046270468,
          1.0846144271983909,
          0.9387467176001875,
          0.8452811963325273,
          0.6961731247308088,
          0.7920762852579414,
          1.697715270231473,
          1.198434258432671,
          1.1280266855356145,
          1.544456297162346,
          0.7034258041818521,
          1.0310677213151742,
          0.866393041364515,
          0.8763115877094275,
          0.8739026041130231,
          1.5530855833293093,
          1.3948974231243785,
          1.1424897114386217,
          0.7859675742915215,
          0.9846835713292813,
          1.634908812738623,
          2.661905434285751,
          1.1990892564889037,
          1.794165549394343,
          1.049609621809714,
          3.5947067613920205,
          1.8307742029272647,
          0.649064529126394,
          0.9743976105484183,
          1.5510030748264385,
          0.946217922877733,
          0.4208539453475681,
          0.7812197931402672
         ]
        },
        {
         "name": "1562145181",
         "type": "box",
         "y": [
          1.6542002325063454,
          0.8303264193981895,
          2.0232015266148364,
          0.7887677402760691,
          0.7751011113384141,
          0.498094296989997,
          0.429035582731673,
          0.6329354055203928,
          0.5302286654290095,
          2.1497456853990404,
          0.9923251621618014,
          0.8159504075795004,
          1.168377346487342,
          0.724363329092417,
          1.312156852169887,
          1.07844341497884,
          0.8769904122796095,
          1.0381851617449591,
          1.6079950238742275,
          1.877782533765298,
          0.5859548272745556,
          0.8007184243335106,
          0.761950581606942,
          1.3719787715611536,
          2.912893860932255,
          0.7199481071024658,
          1.3983769867389302,
          1.2486267719649213,
          3.2632051240940387,
          1.5726175569411838,
          0.878835662296272,
          0.6349128561870614,
          0.9392114157384793,
          1.7709545910074957,
          0.4140455246190102,
          0.837932416321412
         ]
        },
        {
         "name": "896338719",
         "type": "box",
         "y": [
          1.2137840091044905,
          1.1069953634170717,
          2.1711233969993096,
          0.85672612926741,
          1.034136144985175,
          0.9286832588836077,
          0.806695235289159,
          0.7939596932806297,
          0.6274045060680933,
          1.6285716840207607,
          1.0645296530757713,
          0.8876215700069726,
          1.495078920431413,
          0.7781953028272913,
          1.127393339377527,
          0.7083818930422499,
          0.8771612114546155,
          0.9376457229471058,
          1.0777390921432872,
          1.296538108529713,
          1.1367066791822042,
          0.7757953717010028,
          0.8652193063521018,
          1.478386010473212,
          2.7233913798013085,
          0.9571722478440631,
          1.5573202410835596,
          0.9075516299008184,
          3.0354886471244344,
          1.5373479085762232,
          0.658624270119521,
          0.6597433019409008,
          0.944591534812062,
          0.7708214070024066,
          0.5331091001205405,
          0.8450890923373598
         ]
        },
        {
         "name": "1113196323",
         "type": "box",
         "y": [
          1.4976164368717133,
          1.9837605805745664,
          1.0616534234614288,
          1.1762588103400948,
          0.8120530383457043,
          1.6757102934899442,
          0.8157416687858722,
          0.9861728279372463,
          0.5518206915044189,
          1.0412661575953228,
          1.5900736082007711,
          0.9561247510935308,
          0.8219629792218316,
          0.8262699080406897,
          1.5632119042709722,
          1.0685059976480136,
          0.9308049344603664,
          0.8536257913639826,
          1.102061678929902,
          1.2800710397457016,
          1.1344245865502693,
          1.1509058847621818,
          1.2318554395250625,
          1.454243083291458,
          1.0440488450218237,
          0.7200838359803451,
          0.9670403405669704,
          0.8456804882575364,
          2.5594916506559926,
          1.9477972755609525,
          1.3290513208100905,
          1.4135528250153708,
          1.321784340566102,
          0.6406098441612144,
          0.36937335537947996,
          0.9675141023633069
         ]
        },
        {
         "name": "1597760039",
         "type": "box",
         "y": [
          0.8691659916401402,
          1.406094891122733,
          0.7291831966083633,
          0.9752231605987888,
          0.40708426291804267,
          1.4976009112786222,
          0.9759373836583248,
          0.6753873643935735,
          1.4280518912936233,
          1.3795807638530053,
          1.138535323319539,
          1.0695795937471793,
          0.8423340841479854,
          0.595420247826441,
          1.263540632669539,
          1.001304042053983,
          1.9930932880072512,
          0.8146403814460196,
          0.6702686776698676,
          0.7008079353340996,
          0.9907697140619302,
          1.0053416837372378,
          1.5485300046028634,
          1.9649760287436588,
          1.7356471376618117,
          1.49883269687877,
          0.8434865526211858,
          0.9577064003859957,
          1.8632596277470195,
          1.1556612646500446,
          1.3214485267529692,
          0.9510543178899222,
          0.8304183552436435,
          1.0383933243595431,
          0.4970672385847038,
          1.102663544164883
         ]
        },
        {
         "name": "317532327",
         "type": "box",
         "y": [
          1.453915737163419,
          2.2079478315962624,
          0.9789745764324786,
          0.8899860724984816,
          1.3012445302247475,
          1.7441055193899095,
          0.5228487708670898,
          1.1481155942876378,
          1.3054932138631457,
          1.446839947875033,
          0.8577650463630865,
          0.8693922960900818,
          0.8668253532105797,
          0.42269164182566266,
          0.7739152770438565,
          1.3816521969916646,
          1.7976376674934984,
          1.3165400416090836,
          0.8348590917243078,
          0.6045558517279367,
          1.286297706279166,
          0.7655275425770827,
          1.3130241689247826,
          1.385438123728852,
          1.072083085806882,
          1.0060828263281083,
          1.0974736507893987,
          1.0220088067757942,
          2.1262378712339407,
          1.3492255640158277,
          1.4687373980613856,
          1.3023456245536633,
          1.2589055357257612,
          1.039197233664809,
          0.7751765380886758,
          1.1603350510359196
         ]
        },
        {
         "name": "346061612",
         "type": "box",
         "y": [
          1.7984457999954306,
          1.3327760617789213,
          2.4293362684982007,
          1.0046663548858519,
          1.3402513908674238,
          1.0224755552417184,
          1.119085174302594,
          1.2716255992195806,
          0.74203294519078,
          2.6252381589483127,
          1.3738135969273249,
          1.003245233616419,
          1.8125936574357702,
          1.2036894802582883,
          1.7911348631461408,
          0.8336804270388151,
          1.1305920462904537,
          1.4895923139689249,
          1.656264937899417,
          1.7602806366388066,
          1.3250530014722268,
          1.3776946705142759,
          1.2660874373581574,
          1.9221860793920382,
          3.912251924114315,
          0.9737609363430095,
          1.8982408574702532,
          1.41937938471895,
          5.392820946523826,
          2.6550801612529247,
          1.5981678614066865,
          1.0348852705743514,
          1.7164419956488426,
          1.3422153989568364,
          0.5051378411550917,
          0.8439541667628315
         ]
        },
        {
         "name": "40333612",
         "type": "box",
         "y": [
          1.729764326985777,
          1.1637855539562412,
          2.249108659245676,
          1.1196853963905526,
          1.0281965507945043,
          1.2412987753140519,
          1.150458882625117,
          1.0135348609291195,
          0.8058386939302499,
          2.033252750407875,
          1.387685085419753,
          0.6704241629651457,
          1.477604846276644,
          0.9624657090516023,
          1.2017550191987503,
          0.6962310499491562,
          1.077174050884112,
          1.131671814431904,
          0.9463690215795284,
          1.5177042955587043,
          1.1185062059370678,
          0.9793131953436035,
          1.0680363149564485,
          1.5811455199097426,
          2.7303775732299127,
          0.6769789651714404,
          1.604355497405604,
          1.0567009084398422,
          3.9420225101734183,
          1.8593904966214578,
          0.6770110863153882,
          0.9547108478612237,
          0.8259366309702482,
          0.925371242110077,
          0.620750195544538,
          0.6059203152544341
         ]
        },
        {
         "name": "511723709",
         "type": "box",
         "y": [
          1.8344531501113723,
          1.423043226335191,
          2.734308278927486,
          1.487786759921065,
          1.37360164484897,
          1.3040660111183926,
          1.457232179721266,
          1.3175129194771595,
          0.9132818422347667,
          2.4161665692489147,
          1.4663518152641635,
          0.9231873683395957,
          1.9363050045425323,
          1.472831291879329,
          1.4022445025776624,
          0.8468252631842654,
          1.0877854413358496,
          1.3909234252926026,
          0.9451131653739004,
          1.7640994063330226,
          1.3447008608649165,
          1.2688803106058546,
          1.2811632484568396,
          2.0555528857906356,
          3.5240152119860078,
          0.9383628031428864,
          2.0721771899703385,
          1.2404836651755669,
          4.66594853006124,
          2.3291244353796796,
          0.8818985473105502,
          1.1897516827856782,
          1.394277566437097,
          1.3724856093395161,
          0.9204280800655024,
          0.7979688711823826
         ]
        },
        {
         "name": "1004972352",
         "type": "box",
         "y": [
          1.1872496136774333,
          1.0299723892014911,
          0.6704377786281114,
          1.107986785973657,
          1.2752315056186283,
          1.242252201132635,
          1.4161976556609925,
          1.1786468682257751,
          2.17514738857468,
          1.9686263702415627,
          1.0140716269463712,
          0.8357848978878138,
          1.0704465871980955,
          0.8659534871813238,
          1.2676702536823963,
          1.1855195254343591,
          1.9934825094808608,
          0.8427669492616123,
          0.5574273665766241,
          0.564479041761612,
          0.9662920948368489,
          0.9163218601426525,
          2.1000168986220604,
          2.0001031111239227,
          1.8597380704577606,
          1.295579748717996,
          0.7279767047253956,
          1.2222482008962674,
          1.8818800873731816,
          1.5629116648717714,
          1.4815536167591588,
          0.7389754178323751,
          0.861405355916153,
          1.4698966039738928,
          0.388824200058071,
          0.6463697052867386
         ]
        },
        {
         "name": "143824576",
         "type": "box",
         "y": [
          1.6237285479245867,
          1.2194622721898412,
          2.124502060140664,
          0.8665312641117379,
          1.0954670234599428,
          1.0565689481604896,
          0.965386846677786,
          0.9228932399337265,
          0.774151959696164,
          1.8036985495007165,
          1.2227579303987912,
          1.0169746665765727,
          1.6444288949129635,
          0.7817824907550764,
          1.3703957476239779,
          0.7701733050529471,
          0.6878788239121285,
          0.923420414862182,
          1.1392182450935284,
          1.3113692711148133,
          1.0227774186299947,
          0.9483322044465956,
          0.8317986865492821,
          1.5450980654464146,
          2.847739514798812,
          0.921070025503752,
          1.466528048765246,
          1.1137682235278539,
          3.260339692808467,
          1.3444190680031518,
          0.5244819409045978,
          0.6424806959909884,
          1.4987444116110928,
          0.6298534773573085,
          0.48753337797075563,
          0.7443587614507711
         ]
        },
        {
         "name": "368424646",
         "type": "box",
         "y": [
          2.2947436901585276,
          1.1442884126180763,
          1.2581080544378944,
          2.32416569312966,
          1.961232579655922,
          1.3974542762057103,
          1.2290262149592543,
          2.4887144246973683,
          1.2205414483089483,
          1.1788513685908122,
          1.2495787621435244,
          1.033495001953426,
          0.7754084249032405,
          1.066088083917856,
          1.9410847328220207,
          1.959110016734612,
          1.4780003468252239,
          0.9720833563998975,
          0.7110263747504322,
          1.264071549374354,
          0.9732809712124724,
          2.3365386093851646,
          1.6081295032695793,
          1.8364149805855519,
          1.4031808521944453,
          1.1136515604256376,
          0.49794581664715726,
          1.244537220578663,
          2.378445460789269,
          1.7477290791012572,
          1.3000937526211753,
          1.5026720034150016,
          0.6524382772281363,
          0.8652437082574913,
          1.2184517425158699,
          2.7417570227670645
         ]
        },
        {
         "name": "1428227531",
         "type": "box",
         "y": [
          1.3281498843420212,
          1.5913967153461648,
          0.475806532339552,
          1.1141687716484083,
          0.6472067088712737,
          1.8117528069855922,
          1.0074691211395137,
          1.049174728258118,
          1.066456253754495,
          1.4951801729052236,
          1.301432997148206,
          1.2557944839307764,
          0.9229789375245865,
          0.6147676635434409,
          1.15412716067157,
          1.106960664482301,
          1.828245551743476,
          0.8847621582788971,
          0.5352382225981156,
          0.7008205803306087,
          0.7977485607355204,
          0.8202797984296639,
          1.263249620228343,
          1.6059875787133726,
          1.2650775552812341,
          1.7390769683002907,
          0.6592680767045874,
          1.5480373586099578,
          2.1556123871115385,
          1.4114349904179762,
          1.5439967465996793,
          1.0385742095965165,
          0.8703675504500998,
          1.1348704816311657,
          0.39865205229176626,
          0.8549684485430823
         ]
        },
        {
         "name": "2040495184",
         "type": "box",
         "y": [
          0.8605481542307113,
          1.3771633241893573,
          0.68940011782148,
          1.2599265210034194,
          0.9267088804350754,
          1.1515221358129442,
          1.2201502433937723,
          1.01713461845221,
          1.2955336715040904,
          1.2039368306303342,
          1.1933631932119886,
          0.7001372821786019,
          1.0453451445035218,
          0.7845704631504885,
          1.317757766848354,
          1.4815928919350052,
          2.2145019105501604,
          0.7902149313851664,
          0.47848002106440435,
          0.7381740706025991,
          0.9349502872049857,
          0.815874575387432,
          1.356309492900385,
          1.6077453331133214,
          1.341868995836969,
          1.0329537283061818,
          0.8826575514983226,
          1.079229638011748,
          2.0327942532877747,
          1.674961671143796,
          1.4197215119240216,
          0.9319030758073144,
          0.6808733682375266,
          1.3033405720564903,
          0.3329951810401423,
          0.897318433942686
         ]
        },
        {
         "name": "1893337300",
         "type": "box",
         "y": [
          1.1728288048366722,
          1.0666026345093063,
          1.3502938688366228,
          2.060733848265154,
          1.1164046830448935,
          1.9056521658319376,
          1.3375821413964026,
          1.340092411696333,
          1.8337398686943465,
          1.7335746118870026,
          1.2055032697199464,
          0.7381181761781805,
          1.2357615847202024,
          1.195200554529883,
          2.2251808234785435,
          1.4714475494269403,
          2.038582017425819,
          0.8718459445106047,
          0.7284175899530464,
          0.6519078430443422,
          0.7442750910640552,
          1.3334796132006053,
          1.3059589409894674,
          2.300396083028494,
          1.9773081217458002,
          1.5889063673109458,
          1.0441146891517372,
          0.8541445908081738,
          1.9444957557709934,
          1.4550041533236562,
          0.9690263589259549,
          0.7565648273935552,
          0.8940631934020644,
          0.8974234764590329,
          0.7574172934961722,
          0.7235324626497472
         ]
        },
        {
         "name": "2117861717",
         "type": "box",
         "y": [
          1.542022955338507,
          1.6145294768219995,
          2.022836076882572,
          1.1743889628745703,
          1.107971727110421,
          1.2743611229004448,
          1.183294088467995,
          0.8446792904844272,
          0.7470195562740267,
          1.8287537188984444,
          1.1859376035467446,
          1.1065567522654796,
          1.3529559611945732,
          0.8793581758589987,
          1.0529576329960848,
          0.7041019455950493,
          0.7879403766295497,
          0.895047518193784,
          0.9880201578179857,
          1.3546713402106818,
          1.091349816490018,
          0.8287116550990834,
          0.986950738111859,
          1.508711493678588,
          2.5711340330117816,
          0.7665402040036015,
          1.516074717325105,
          0.950347229413447,
          3.4845243028268875,
          1.2997892450455983,
          0.9081543032590542,
          0.7814090049851471,
          0.8934690597129041,
          1.015902208113145,
          0.5456052112319516,
          0.7822383919112859
         ]
        },
        {
         "name": "1941427679",
         "type": "box",
         "y": [
          2.0128883459418887,
          1.5918827311211075,
          3.0860866869293417,
          1.5788616910016053,
          1.2171252638315384,
          1.059044485087307,
          1.4440301769192794,
          1.7143395016049456,
          1.0415730514398576,
          2.8158444468199875,
          1.581334561930626,
          1.2516157947161537,
          2.1379043841064354,
          1.485988238065261,
          1.8264618637947034,
          1.024458920209972,
          1.0696496798448496,
          1.9411242203529266,
          1.477714413779849,
          1.8971055005303887,
          1.4610141260045404,
          1.5828557165916968,
          1.3957996845379708,
          2.096802810269285,
          4.208017435655732,
          1.0969836392029273,
          1.9668212249252899,
          2.070392349628658,
          4.90751969450889,
          2.9348825259728946,
          1.1356395611529149,
          1.1095311531663299,
          1.7490635830174528,
          1.4837435704629416,
          0.8341140178914117,
          0.7896240200723383
         ]
        },
        {
         "name": "1708098535",
         "type": "box",
         "y": [
          1.6798479024196429,
          1.511961870773679,
          2.495386601610273,
          1.1707667026458206,
          1.0251886002337016,
          0.9135798181521544,
          0.9569032921334164,
          0.822989991565635,
          0.7695724864020346,
          1.9411417898218208,
          1.174918736532293,
          1.0375036579916472,
          1.668159223416152,
          0.8416798406903754,
          1.144417720521136,
          0.877687918310219,
          0.9490380338555557,
          1.0208204612439942,
          1.4571817997558358,
          1.4148251238934553,
          1.2410782910939155,
          0.8537305462825788,
          0.9506820241790407,
          1.7052308571199377,
          3.019651127326667,
          1.0526280869099607,
          1.961377982984033,
          1.1489344848839629,
          3.6494544553270196,
          1.9010574804754192,
          0.7260064089398217,
          0.669839165045571,
          1.6532547383597875,
          1.1625665542003834,
          0.516258286865618,
          0.8388621302079518
         ]
        },
        {
         "name": "456209269",
         "type": "box",
         "y": [
          1.5216879541579817,
          1.037989047507671,
          2.416717021074599,
          1.0496176981825422,
          1.3886770343790378,
          1.1269601387660206,
          1.1011586277636973,
          1.2009904593461351,
          0.7562809330335776,
          2.038124186767677,
          1.2318984145674985,
          0.6060516715128405,
          1.6202706713382666,
          1.0622669452819313,
          1.3039516202398327,
          0.8479606658842587,
          1.03024193516228,
          1.2703507689165254,
          0.880038381053905,
          1.5125249672132928,
          1.2465952251123655,
          1.0320876292315015,
          1.0531996262359926,
          1.6829960546082794,
          3.2359741499605015,
          0.9068541359177805,
          1.6913747368579934,
          1.166704377335318,
          3.9314899734715856,
          2.0284116681564153,
          0.7912029295036443,
          1.0121663952872593,
          1.1831356522558383,
          1.2685028829406608,
          0.6380613885012573,
          0.8671200192762997
         ]
        }
       ],
       "layout": {
        "showlegend": false,
        "template": {
         "data": {
          "bar": [
           {
            "error_x": {
             "color": "#2a3f5f"
            },
            "error_y": {
             "color": "#2a3f5f"
            },
            "marker": {
             "line": {
              "color": "#E5ECF6",
              "width": 0.5
             }
            },
            "type": "bar"
           }
          ],
          "barpolar": [
           {
            "marker": {
             "line": {
              "color": "#E5ECF6",
              "width": 0.5
             }
            },
            "type": "barpolar"
           }
          ],
          "carpet": [
           {
            "aaxis": {
             "endlinecolor": "#2a3f5f",
             "gridcolor": "white",
             "linecolor": "white",
             "minorgridcolor": "white",
             "startlinecolor": "#2a3f5f"
            },
            "baxis": {
             "endlinecolor": "#2a3f5f",
             "gridcolor": "white",
             "linecolor": "white",
             "minorgridcolor": "white",
             "startlinecolor": "#2a3f5f"
            },
            "type": "carpet"
           }
          ],
          "choropleth": [
           {
            "colorbar": {
             "outlinewidth": 0,
             "ticks": ""
            },
            "type": "choropleth"
           }
          ],
          "contour": [
           {
            "colorbar": {
             "outlinewidth": 0,
             "ticks": ""
            },
            "colorscale": [
             [
              0,
              "#0d0887"
             ],
             [
              0.1111111111111111,
              "#46039f"
             ],
             [
              0.2222222222222222,
              "#7201a8"
             ],
             [
              0.3333333333333333,
              "#9c179e"
             ],
             [
              0.4444444444444444,
              "#bd3786"
             ],
             [
              0.5555555555555556,
              "#d8576b"
             ],
             [
              0.6666666666666666,
              "#ed7953"
             ],
             [
              0.7777777777777778,
              "#fb9f3a"
             ],
             [
              0.8888888888888888,
              "#fdca26"
             ],
             [
              1,
              "#f0f921"
             ]
            ],
            "type": "contour"
           }
          ],
          "contourcarpet": [
           {
            "colorbar": {
             "outlinewidth": 0,
             "ticks": ""
            },
            "type": "contourcarpet"
           }
          ],
          "heatmap": [
           {
            "colorbar": {
             "outlinewidth": 0,
             "ticks": ""
            },
            "colorscale": [
             [
              0,
              "#0d0887"
             ],
             [
              0.1111111111111111,
              "#46039f"
             ],
             [
              0.2222222222222222,
              "#7201a8"
             ],
             [
              0.3333333333333333,
              "#9c179e"
             ],
             [
              0.4444444444444444,
              "#bd3786"
             ],
             [
              0.5555555555555556,
              "#d8576b"
             ],
             [
              0.6666666666666666,
              "#ed7953"
             ],
             [
              0.7777777777777778,
              "#fb9f3a"
             ],
             [
              0.8888888888888888,
              "#fdca26"
             ],
             [
              1,
              "#f0f921"
             ]
            ],
            "type": "heatmap"
           }
          ],
          "heatmapgl": [
           {
            "colorbar": {
             "outlinewidth": 0,
             "ticks": ""
            },
            "colorscale": [
             [
              0,
              "#0d0887"
             ],
             [
              0.1111111111111111,
              "#46039f"
             ],
             [
              0.2222222222222222,
              "#7201a8"
             ],
             [
              0.3333333333333333,
              "#9c179e"
             ],
             [
              0.4444444444444444,
              "#bd3786"
             ],
             [
              0.5555555555555556,
              "#d8576b"
             ],
             [
              0.6666666666666666,
              "#ed7953"
             ],
             [
              0.7777777777777778,
              "#fb9f3a"
             ],
             [
              0.8888888888888888,
              "#fdca26"
             ],
             [
              1,
              "#f0f921"
             ]
            ],
            "type": "heatmapgl"
           }
          ],
          "histogram": [
           {
            "marker": {
             "colorbar": {
              "outlinewidth": 0,
              "ticks": ""
             }
            },
            "type": "histogram"
           }
          ],
          "histogram2d": [
           {
            "colorbar": {
             "outlinewidth": 0,
             "ticks": ""
            },
            "colorscale": [
             [
              0,
              "#0d0887"
             ],
             [
              0.1111111111111111,
              "#46039f"
             ],
             [
              0.2222222222222222,
              "#7201a8"
             ],
             [
              0.3333333333333333,
              "#9c179e"
             ],
             [
              0.4444444444444444,
              "#bd3786"
             ],
             [
              0.5555555555555556,
              "#d8576b"
             ],
             [
              0.6666666666666666,
              "#ed7953"
             ],
             [
              0.7777777777777778,
              "#fb9f3a"
             ],
             [
              0.8888888888888888,
              "#fdca26"
             ],
             [
              1,
              "#f0f921"
             ]
            ],
            "type": "histogram2d"
           }
          ],
          "histogram2dcontour": [
           {
            "colorbar": {
             "outlinewidth": 0,
             "ticks": ""
            },
            "colorscale": [
             [
              0,
              "#0d0887"
             ],
             [
              0.1111111111111111,
              "#46039f"
             ],
             [
              0.2222222222222222,
              "#7201a8"
             ],
             [
              0.3333333333333333,
              "#9c179e"
             ],
             [
              0.4444444444444444,
              "#bd3786"
             ],
             [
              0.5555555555555556,
              "#d8576b"
             ],
             [
              0.6666666666666666,
              "#ed7953"
             ],
             [
              0.7777777777777778,
              "#fb9f3a"
             ],
             [
              0.8888888888888888,
              "#fdca26"
             ],
             [
              1,
              "#f0f921"
             ]
            ],
            "type": "histogram2dcontour"
           }
          ],
          "mesh3d": [
           {
            "colorbar": {
             "outlinewidth": 0,
             "ticks": ""
            },
            "type": "mesh3d"
           }
          ],
          "parcoords": [
           {
            "line": {
             "colorbar": {
              "outlinewidth": 0,
              "ticks": ""
             }
            },
            "type": "parcoords"
           }
          ],
          "pie": [
           {
            "automargin": true,
            "type": "pie"
           }
          ],
          "scatter": [
           {
            "marker": {
             "colorbar": {
              "outlinewidth": 0,
              "ticks": ""
             }
            },
            "type": "scatter"
           }
          ],
          "scatter3d": [
           {
            "line": {
             "colorbar": {
              "outlinewidth": 0,
              "ticks": ""
             }
            },
            "marker": {
             "colorbar": {
              "outlinewidth": 0,
              "ticks": ""
             }
            },
            "type": "scatter3d"
           }
          ],
          "scattercarpet": [
           {
            "marker": {
             "colorbar": {
              "outlinewidth": 0,
              "ticks": ""
             }
            },
            "type": "scattercarpet"
           }
          ],
          "scattergeo": [
           {
            "marker": {
             "colorbar": {
              "outlinewidth": 0,
              "ticks": ""
             }
            },
            "type": "scattergeo"
           }
          ],
          "scattergl": [
           {
            "marker": {
             "colorbar": {
              "outlinewidth": 0,
              "ticks": ""
             }
            },
            "type": "scattergl"
           }
          ],
          "scattermapbox": [
           {
            "marker": {
             "colorbar": {
              "outlinewidth": 0,
              "ticks": ""
             }
            },
            "type": "scattermapbox"
           }
          ],
          "scatterpolar": [
           {
            "marker": {
             "colorbar": {
              "outlinewidth": 0,
              "ticks": ""
             }
            },
            "type": "scatterpolar"
           }
          ],
          "scatterpolargl": [
           {
            "marker": {
             "colorbar": {
              "outlinewidth": 0,
              "ticks": ""
             }
            },
            "type": "scatterpolargl"
           }
          ],
          "scatterternary": [
           {
            "marker": {
             "colorbar": {
              "outlinewidth": 0,
              "ticks": ""
             }
            },
            "type": "scatterternary"
           }
          ],
          "surface": [
           {
            "colorbar": {
             "outlinewidth": 0,
             "ticks": ""
            },
            "colorscale": [
             [
              0,
              "#0d0887"
             ],
             [
              0.1111111111111111,
              "#46039f"
             ],
             [
              0.2222222222222222,
              "#7201a8"
             ],
             [
              0.3333333333333333,
              "#9c179e"
             ],
             [
              0.4444444444444444,
              "#bd3786"
             ],
             [
              0.5555555555555556,
              "#d8576b"
             ],
             [
              0.6666666666666666,
              "#ed7953"
             ],
             [
              0.7777777777777778,
              "#fb9f3a"
             ],
             [
              0.8888888888888888,
              "#fdca26"
             ],
             [
              1,
              "#f0f921"
             ]
            ],
            "type": "surface"
           }
          ],
          "table": [
           {
            "cells": {
             "fill": {
              "color": "#EBF0F8"
             },
             "line": {
              "color": "white"
             }
            },
            "header": {
             "fill": {
              "color": "#C8D4E3"
             },
             "line": {
              "color": "white"
             }
            },
            "type": "table"
           }
          ]
         },
         "layout": {
          "annotationdefaults": {
           "arrowcolor": "#2a3f5f",
           "arrowhead": 0,
           "arrowwidth": 1
          },
          "autotypenumbers": "strict",
          "coloraxis": {
           "colorbar": {
            "outlinewidth": 0,
            "ticks": ""
           }
          },
          "colorscale": {
           "diverging": [
            [
             0,
             "#8e0152"
            ],
            [
             0.1,
             "#c51b7d"
            ],
            [
             0.2,
             "#de77ae"
            ],
            [
             0.3,
             "#f1b6da"
            ],
            [
             0.4,
             "#fde0ef"
            ],
            [
             0.5,
             "#f7f7f7"
            ],
            [
             0.6,
             "#e6f5d0"
            ],
            [
             0.7,
             "#b8e186"
            ],
            [
             0.8,
             "#7fbc41"
            ],
            [
             0.9,
             "#4d9221"
            ],
            [
             1,
             "#276419"
            ]
           ],
           "sequential": [
            [
             0,
             "#0d0887"
            ],
            [
             0.1111111111111111,
             "#46039f"
            ],
            [
             0.2222222222222222,
             "#7201a8"
            ],
            [
             0.3333333333333333,
             "#9c179e"
            ],
            [
             0.4444444444444444,
             "#bd3786"
            ],
            [
             0.5555555555555556,
             "#d8576b"
            ],
            [
             0.6666666666666666,
             "#ed7953"
            ],
            [
             0.7777777777777778,
             "#fb9f3a"
            ],
            [
             0.8888888888888888,
             "#fdca26"
            ],
            [
             1,
             "#f0f921"
            ]
           ],
           "sequentialminus": [
            [
             0,
             "#0d0887"
            ],
            [
             0.1111111111111111,
             "#46039f"
            ],
            [
             0.2222222222222222,
             "#7201a8"
            ],
            [
             0.3333333333333333,
             "#9c179e"
            ],
            [
             0.4444444444444444,
             "#bd3786"
            ],
            [
             0.5555555555555556,
             "#d8576b"
            ],
            [
             0.6666666666666666,
             "#ed7953"
            ],
            [
             0.7777777777777778,
             "#fb9f3a"
            ],
            [
             0.8888888888888888,
             "#fdca26"
            ],
            [
             1,
             "#f0f921"
            ]
           ]
          },
          "colorway": [
           "#636efa",
           "#EF553B",
           "#00cc96",
           "#ab63fa",
           "#FFA15A",
           "#19d3f3",
           "#FF6692",
           "#B6E880",
           "#FF97FF",
           "#FECB52"
          ],
          "font": {
           "color": "#2a3f5f"
          },
          "geo": {
           "bgcolor": "white",
           "lakecolor": "white",
           "landcolor": "#E5ECF6",
           "showlakes": true,
           "showland": true,
           "subunitcolor": "white"
          },
          "hoverlabel": {
           "align": "left"
          },
          "hovermode": "closest",
          "mapbox": {
           "style": "light"
          },
          "paper_bgcolor": "white",
          "plot_bgcolor": "#E5ECF6",
          "polar": {
           "angularaxis": {
            "gridcolor": "white",
            "linecolor": "white",
            "ticks": ""
           },
           "bgcolor": "#E5ECF6",
           "radialaxis": {
            "gridcolor": "white",
            "linecolor": "white",
            "ticks": ""
           }
          },
          "scene": {
           "xaxis": {
            "backgroundcolor": "#E5ECF6",
            "gridcolor": "white",
            "gridwidth": 2,
            "linecolor": "white",
            "showbackground": true,
            "ticks": "",
            "zerolinecolor": "white"
           },
           "yaxis": {
            "backgroundcolor": "#E5ECF6",
            "gridcolor": "white",
            "gridwidth": 2,
            "linecolor": "white",
            "showbackground": true,
            "ticks": "",
            "zerolinecolor": "white"
           },
           "zaxis": {
            "backgroundcolor": "#E5ECF6",
            "gridcolor": "white",
            "gridwidth": 2,
            "linecolor": "white",
            "showbackground": true,
            "ticks": "",
            "zerolinecolor": "white"
           }
          },
          "shapedefaults": {
           "line": {
            "color": "#2a3f5f"
           }
          },
          "ternary": {
           "aaxis": {
            "gridcolor": "white",
            "linecolor": "white",
            "ticks": ""
           },
           "baxis": {
            "gridcolor": "white",
            "linecolor": "white",
            "ticks": ""
           },
           "bgcolor": "#E5ECF6",
           "caxis": {
            "gridcolor": "white",
            "linecolor": "white",
            "ticks": ""
           }
          },
          "title": {
           "x": 0.05
          },
          "xaxis": {
           "automargin": true,
           "gridcolor": "white",
           "linecolor": "white",
           "ticks": "",
           "title": {
            "standoff": 15
           },
           "zerolinecolor": "white",
           "zerolinewidth": 2
          },
          "yaxis": {
           "automargin": true,
           "gridcolor": "white",
           "linecolor": "white",
           "ticks": "",
           "title": {
            "standoff": 15
           },
           "zerolinecolor": "white",
           "zerolinewidth": 2
          }
         }
        },
        "title": {
         "text": "Convolutions"
        },
        "xaxis": {
         "title": {
          "text": "Time series"
         }
        },
        "yaxis": {
         "title": {
          "text": "MASE distribution"
         }
        }
       }
      },
      "text/html": [
       "<div>                            <div id=\"fa77b267-8b08-4ff7-b767-d2b218aa916a\" class=\"plotly-graph-div\" style=\"height:525px; width:100%;\"></div>            <script type=\"text/javascript\">                require([\"plotly\"], function(Plotly) {                    window.PLOTLYENV=window.PLOTLYENV || {};                                    if (document.getElementById(\"fa77b267-8b08-4ff7-b767-d2b218aa916a\")) {                    Plotly.newPlot(                        \"fa77b267-8b08-4ff7-b767-d2b218aa916a\",                        [{\"name\": \"grid\", \"type\": \"box\", \"y\": [1.2714278154834477, 0.7990954559089979, 0.9093162473503432, 1.0859799403622379, 0.3402475439709642, 0.6797118642902824, 1.1907457623161533, 0.7926797472248664, 0.7108862731187087, 0.8361117465032811, 0.6701892623606502, 0.9786443896778498, 0.9612770608423199, 0.7199984195554417, 1.602749851918091, 0.7665714788125165, 1.3371723441984695, 1.2335489835006788, 1.0690424204162734, 1.03664744001746, 1.0313831828282949, 0.4390828882049444, 0.9521070224742884, 0.6971254572651662, 0.6163582767930187, 0.5337485371112842, 1.0333898881231454, 0.6588187614979745, 4.48170185394435, 3.572149670891403, 1.6991107591387298, 1.3894278733798602, 0.9170627234027267, 0.7011541163324838, 2.573620377332896, 1.1134612948580511]}, {\"name\": \"tline_1\", \"type\": \"box\", \"y\": [1.0589150159430736, 0.9635791767959152, 0.6884147959529854, 0.5612902842771285, 0.4412175234680417, 0.32287939343760136, 0.5394498755271627, 0.4540415690209564, 0.31631894882895273, 1.611789257830573, 0.9254123134922934, 0.9591142190620584, 0.8455393943637072, 0.4746599716882991, 1.4528969440984376, 0.7042968240529655, 1.2928541807244436, 0.6772423338792208, 0.8696270505483722, 0.5757315012921999, 0.6579901132211402, 0.5487206199085829, 0.31569549498763466, 0.2934209398113274, 1.9906087341426943, 0.9370204395024108, 0.8029300254263678, 0.3760779508972893, 4.482960688454231, 2.2662645181207446, 2.0235204727358713, 1.821601746641212, 0.811248961460745, 0.8258173224833224, 1.3952000067933972, 1.161294788760713]}, {\"name\": \"tline_2\", \"type\": \"box\", \"y\": [1.0885150880644157, 0.9729023017527173, 0.8453805431172567, 1.3466551796219286, 0.37370493665319815, 0.8252776056352514, 1.416029370360537, 0.9359338673288999, 0.8005937096412554, 0.829623859705357, 0.6227537280261587, 0.9456973772603986, 0.9896366265919836, 0.7979336442383198, 1.5067168107055893, 0.9899707532121934, 1.6989967218754167, 1.1970079597792196, 1.3450767912137587, 1.143760163305311, 1.144873923922678, 0.5231223375005678, 1.1107244285852274, 0.782343514005165, 0.48635026702388734, 0.6011316395509531, 1.024207266200326, 0.6965941737206233, 3.583546449523328, 3.6230637811390425, 1.0433160104031296, 1.19352919630145, 0.9496351254938615, 0.980591239973183, 2.6554404758659915, 1.166227795739793]}, {\"name\": \"substation1\", \"type\": \"box\", \"y\": [1.079732866089073, 1.005870163549469, 0.7092066015329533, 0.5794150139032721, 0.4683667877843195, 0.3213176275738925, 0.5525305488854563, 0.45779832619796423, 0.3376827332282469, 1.649962867872661, 0.9761978435944973, 0.9278831128255367, 0.8428813672067287, 0.43846001416831326, 1.4534033783782239, 0.6956360489450203, 1.319194990358785, 0.6947594408127744, 0.9363625285425622, 0.5818589189347155, 0.6816399151595526, 0.5386929263632171, 0.3015207120079769, 0.2806494019251533, 2.056162451412631, 0.9483373900400277, 0.850510721572833, 0.38832386698786975, 4.536000907320111, 2.331057966156895, 2.097286974438508, 1.863017059882445, 0.7817739427214689, 0.8254500484362068, 1.417834297628145, 1.1698083379236122]}, {\"name\": \"substation2\", \"type\": \"box\", \"y\": [0.9740669998771861, 0.838227437857891, 0.6290978294080333, 0.5351766534530956, 0.42610404520521067, 0.3310034420868588, 0.49806603468247407, 0.450038036874344, 0.2805923743043878, 1.4662977767179883, 0.8072071352348696, 1.0113284423985174, 0.8529398130268447, 0.5923408753591508, 1.391926188302741, 0.7002636049462255, 1.177646694459778, 0.6202240232432248, 0.7600505340945402, 0.5744501906528481, 0.6191944234844484, 0.5752858097954129, 0.3633510159397524, 0.34586048717438705, 1.7727022167787891, 0.8612347282281372, 0.6590863118629805, 0.39978967681429634, 4.199061253478982, 2.001409096277437, 1.753532073129806, 1.6897452223707194, 0.9077943700983191, 0.8529267103935719, 1.3144095907668447, 1.1607846755151712]}, {\"name\": \"substation3\", \"type\": \"box\", \"y\": [1.0875575448983237, 0.9699550428127386, 0.8429977061212253, 1.3572942375933175, 0.3729246401723914, 0.8573656704355723, 1.4236302504262504, 0.9581303422724071, 0.8100350165042043, 0.8418360800836818, 0.6313110665727323, 0.9578649483282771, 1.002650687507441, 0.8133228142875852, 1.5152738113157294, 0.9892783260322756, 1.697137915210098, 1.1987618014581705, 1.3598906270404016, 1.160333756499391, 1.1555358836599632, 0.5362834269489599, 1.1291024730549892, 0.7877251487397546, 0.5003835904698248, 0.6218019153902002, 1.0327619621619153, 0.7146490150470772, 3.581056489636451, 3.6230338891139544, 1.0396420120364733, 1.2097341768193195, 0.9600932942707188, 0.9804391737830572, 2.6692410043086983, 1.148821406307036]}, {\"name\": \"substation4\", \"type\": \"box\", \"y\": [0.6640030478755864, 1.1219545031751015, 0.9996038001157331, 0.7339900676764914, 0.5330328134937777, 0.7863707955601883, 1.1194627416979688, 0.7019984000232977, 0.377505193550778, 0.269782882898702, 0.6537813806313241, 0.710818654806612, 0.8220547843849769, 0.37596571749716395, 0.9974173598966137, 0.8335917970569742, 1.3776182455138646, 0.8975554992024045, 0.5704753415087204, 0.5936424413691243, 0.7442753738077934, 0.8004314584447556, 0.7695750908769979, 0.5919182788323355, 0.26144628041207957, 1.0912241621042935, 0.8610796600309668, 0.6830078397006668, 2.4086270899557443, 2.7079477110674888, 1.062416612681775, 0.7581688480747061, 0.6481653986285354, 0.8596671680691561, 1.329965087595715, 1.8672006003625932]}, {\"name\": \"6010\", \"type\": \"box\", \"y\": [1.6098078372419422, 1.3311962310653418, 2.382135472698939, 1.0459503193878517, 1.1440954380519837, 0.9565830797171688, 0.8967830697545833, 0.9467455716013343, 0.7522413466314284, 1.9815110644494194, 1.2116353241766185, 0.7907641630724669, 1.691790984654082, 0.8001213103961309, 1.1811494480826228, 0.809655999173183, 0.8904652920806055, 1.0321647292634266, 1.2747904295261872, 1.4686744640852165, 1.1926292314499418, 0.9729801280522093, 1.0214231954120854, 1.751945400811732, 3.0863712603878874, 0.9029678388389855, 1.8253568872682042, 0.9840886035729463, 3.6918220291870107, 1.874013867179459, 0.560444566992279, 0.6811484821859449, 1.2483672551683012, 1.0696407988792376, 0.508132674288386, 0.7717551532453608]}, {\"name\": \"6014\", \"type\": \"box\", \"y\": [2.0171787172656694, 1.2195324053256607, 2.6011883697287295, 1.2326522161579747, 1.5821760903027224, 0.9619557467974612, 0.9693882189046475, 1.3131293517320444, 0.8555475035835113, 2.4337337825921685, 1.2629966742609717, 1.0319385247948616, 1.7458495866144632, 1.1950754753772903, 1.5919700625055992, 0.837147151189017, 1.0803290780328212, 1.360584924233185, 1.6876524109618922, 1.7753866554358384, 1.1535314807135995, 1.2043129338396308, 1.2381522692973863, 1.893366312515834, 3.776176684608345, 1.1108402135222448, 1.8659371858255018, 1.2330194098913032, 4.67765754771712, 2.3065436073181718, 0.6825243750019867, 0.6537483696765191, 1.4673307823581756, 1.4754777321622463, 0.5452050034968609, 0.7077857048787793]}, {\"name\": \"6011\", \"type\": \"box\", \"y\": [1.4859922607445029, 1.1287447372039914, 2.3296002916391965, 1.2874935270681431, 1.2586394101075664, 1.3286490093320784, 1.276897846462191, 1.1074969561666985, 0.907718822387754, 2.0522362671983343, 1.08331794210997, 0.6884859964631522, 1.5031885946525836, 1.0967809957139933, 1.1565180075634298, 0.681740662111124, 0.8902765814334568, 1.1078469940171645, 0.9564357641802287, 1.5492503464912304, 1.23481810806265, 1.011282071283393, 1.1356274457698967, 1.6829554710435235, 2.8900543369348646, 0.763176081864202, 1.7267141443837135, 0.9477137203502224, 4.166359893641739, 1.7403734010022323, 0.6600580260608115, 0.9162474590351549, 0.8855014828647486, 1.119045106578819, 0.6548674812928172, 0.6709208264158237]}, {\"name\": \"6280\", \"type\": \"box\", \"y\": [1.5599658084457135, 1.5029668551504967, 0.9848166843993021, 2.080641605779934, 1.0060547097398491, 1.1860612490521414, 1.00137673852196, 2.1183389705356603, 1.7626460193166087, 1.8307409852028176, 0.9158572303152257, 0.8142335437779821, 0.5339110331181309, 0.5469005590326043, 1.6991921819260007, 1.2792971415325678, 2.2717801846315138, 0.791018696024407, 0.6212547957740773, 0.98372810934914, 0.4327228349063053, 1.6480165438047376, 1.9222468945631077, 1.9154855744196646, 1.0254425212245764, 0.7444111963519494, 0.44016188042061566, 1.3452804894736605, 2.8342888404163546, 1.9794826622887727, 1.133977929181437, 1.0392324094807535, 0.6877287032069369, 0.8172275780613415, 1.1586730715511628, 1.7368303267474594]}, {\"name\": \"6281\", \"type\": \"box\", \"y\": [0.862571128712598, 0.9568724161329699, 0.9792814095687971, 1.1043267454833505, 1.1374446049621283, 1.4693118044603657, 1.1502403728217772, 1.5095144212623148, 1.227713102107106, 1.6472242163824864, 0.854030029209363, 1.3899711987212127, 0.5267119016264133, 0.3195684667735992, 1.1415642199840736, 0.8630000719961318, 0.6553077084654786, 0.8898599384923769, 0.6651899132569561, 0.967751832433923, 0.7950903872290309, 0.6013079397831843, 0.7080675926391354, 1.2079976832935189, 0.9997439993179429, 0.8235262357633896, 0.8359583433040919, 1.5739286292573837, 1.536527646313928, 0.5990617629454195, 1.630694984421862, 1.1281483738651075, 1.2572852929194744, 0.6051195666534684, 1.6563631758068074, 0.7883140730615722]}, {\"name\": \"6284\", \"type\": \"box\", \"y\": [1.3440650812569117, 1.2692483229015163, 1.3430819641356326, 2.1199921278577674, 1.1477684813184035, 1.9022843252611934, 1.2669030156673153, 1.3454139027752816, 1.9322136615091148, 1.7508750646858708, 1.3585191271517723, 0.8038605140074676, 1.325957528320705, 1.2267410474225273, 2.2701318264603034, 1.4929983347582545, 2.0603621643317935, 0.935077669325404, 0.8276096703929803, 0.6457443266417613, 0.7511703772249396, 1.4811015576712345, 1.4219257677884258, 2.440496015840864, 2.150781396037656, 1.7467446068639916, 1.1331978460188712, 0.8777693732826884, 2.021429013897911, 1.4714952325237967, 1.0116324761489721, 0.7755204857745165, 0.9077976962043574, 0.9138539803593504, 0.7530944884005885, 0.7336225468996798]}, {\"name\": \"1295864320\", \"type\": \"box\", \"y\": [1.1428124572993243, 2.1766599749867206, 1.257608764435165, 2.0484361997914293, 0.9379615485123914, 1.4571786740769614, 1.119807004201811, 1.2005821598957014, 1.146346811130666, 1.3918326208615013, 0.7618144775834844, 1.2474231588689382, 0.8457332044405969, 0.9701511480295102, 1.5039010939851427, 0.8780185618185523, 2.9192137391344013, 1.3252965930913827, 0.6233648435098197, 0.6995988855639871, 1.3511841188185953, 1.1198818316163421, 2.7346468097078924, 2.2100344307559467, 1.8537802708771687, 1.455845724372665, 0.48144589243118413, 1.5214798810158896, 2.1913983236802976, 1.7109481079315845, 1.6994445328732948, 0.866575680129494, 0.9611709352997412, 1.276538450033334, 0.6722710003834175, 1.0338806023016682]}, {\"name\": \"1247421966\", \"type\": \"box\", \"y\": [1.6289548030194503, 0.8488471305209302, 2.7690009408350584, 1.1390743782270762, 1.3643743725213349, 0.8685895424607113, 0.9661735822103618, 1.0983600931874677, 0.806831531269245, 2.1032924947722087, 0.7496939190471833, 1.007514616469233, 1.7206683694508604, 1.0795070602847756, 1.2994110850667753, 0.7899648653650305, 0.9384827240412867, 0.9674396830379617, 1.3769516580577652, 1.2697621854314842, 1.0534696251786995, 0.8528914781024364, 0.8151857029862969, 1.594440055063128, 3.0904347849177873, 0.7456953245730704, 1.6990402024195619, 0.8972321945602751, 3.3122769937852, 1.5676557814182208, 0.6798551689906877, 0.6345365586907662, 1.1719919781318082, 0.9221540327083181, 0.6673014148660702, 0.8636172502456468]}, {\"name\": \"2107373071\", \"type\": \"box\", \"y\": [1.7951397096696966, 1.7815649231177684, 2.767663313092157, 1.319833435100558, 1.1750682282423945, 1.030019778739393, 1.1926368664116729, 1.32289665121262, 0.9077142344762926, 2.689546024015537, 1.3037901727606935, 0.9345020502085019, 1.8946982963207109, 1.0799938765442807, 1.738377859936808, 1.2229210629596938, 1.2298801637710841, 1.4186084427669357, 1.5802677938266032, 1.6380581642803254, 1.32818895331326, 1.2900664513549547, 1.3306151536681567, 2.1141983539074025, 3.794629435341871, 0.9703156612334904, 2.3679192326796046, 1.3730632363898891, 5.140098017088893, 2.763073925829968, 0.8804842556958874, 0.7343153524328063, 1.8865864195431847, 1.3587204946086349, 0.6136745840438141, 0.6789635136798252]}, {\"name\": \"2009066518\", \"type\": \"box\", \"y\": [0.8697615240915649, 1.4980143055056026, 0.7117051135337211, 1.0749194362785284, 0.6908180729152825, 1.1685185683806072, 1.2255497680786918, 0.838706707437118, 1.4552392807520997, 1.47581320963064, 1.2655892221507596, 0.7256788393554363, 1.026209074778951, 1.0333065428675892, 1.3672926986240035, 1.4413164474061293, 2.2129191497180116, 0.7684220949828899, 0.6481219722320024, 0.8128611258158427, 1.01962136074262, 1.0562972104046555, 1.4757468836893595, 2.010125706835451, 1.5605670831403329, 1.5634965474535483, 0.9861948300857851, 1.090742291976765, 1.9724320298345057, 1.5663526273545798, 1.4159408388370713, 1.0239051605616996, 0.8589321691612187, 1.2732089345631892, 0.19847302008999493, 1.182329952304263]}, {\"name\": \"972102295\", \"type\": \"box\", \"y\": [0.8834220857562965, 0.8914984675632306, 0.985581516522676, 0.8554466832580087, 0.8477069278240069, 1.3935388596739777, 1.3840064007303388, 1.3127394113273028, 1.3675767547374515, 1.7771837720912937, 0.7933398654413916, 1.3654648114094274, 0.48894162709121725, 0.3208193593325627, 1.2488737701505852, 0.9963415400357254, 0.728100738891268, 0.9025685010889948, 0.6618965593875907, 0.9225497690523792, 0.7497546399841032, 0.5667985687255382, 0.7161955668745034, 1.039918826716303, 1.009513428076202, 0.8336016979177724, 0.6714094644029662, 1.4136052030450477, 1.6058437848061597, 0.5654340693043496, 1.5314339691334737, 1.1934299726417397, 1.3544184694875319, 0.5321537415595249, 1.6539693608276216, 0.8544736313546212]}, {\"name\": \"1616571925\", \"type\": \"box\", \"y\": [0.7805530173413961, 1.0649640466279784, 1.294728827405049, 1.1140878336815974, 1.118542029137585, 0.8474522980898049, 1.785255210185044, 1.8752711084760882, 1.672114392888559, 1.2026154720920643, 1.2657245828956043, 1.0387962535137547, 0.9551753355727138, 0.6857897481860101, 1.9962640575263166, 1.2081458442242, 1.9712889108587466, 1.2800979330763746, 0.8039153854230816, 0.9128569452951293, 0.6258162964264498, 0.5367514593305478, 1.3939303977018949, 0.9483279102435507, 0.9745227165447184, 1.383965058036619, 0.8259265445646474, 1.1257662994492754, 2.0941608681718766, 1.6910894319788188, 1.1558994222940748, 0.9203318743721394, 0.49534986566271194, 0.9308534112179084, 1.3660061583007537, 0.9067231460656267]}, {\"name\": \"806187417\", \"type\": \"box\", \"y\": [1.7813008048802745, 1.2968738753065063, 2.737348606722821, 1.1281470801869602, 1.3446793362333942, 0.869486914181852, 0.9810817049371411, 1.0580422830858667, 0.8002600765698762, 2.004494299025724, 0.9141003643730602, 1.0508509862021838, 1.8013803714071304, 1.140295433455812, 1.349506773889718, 0.8494279139642664, 0.8601658087458824, 0.9445289435202191, 1.3367258705791953, 1.384227386985282, 1.0002482568060491, 0.8871935252049544, 0.8989475902587868, 1.5111363783196157, 3.10850658138916, 1.0369032437410803, 1.6388432028589726, 1.1190878433785543, 3.2310415023081305, 1.6997326135388164, 0.8283179543681013, 0.5118849019266444, 1.0149236947775375, 0.9547928768560089, 0.6847817223041147, 0.8967979278186836]}, {\"name\": \"771513244\", \"type\": \"box\", \"y\": [1.5300283273338509, 1.410081443238606, 2.1082633548698624, 1.0234729046270468, 1.0846144271983909, 0.9387467176001875, 0.8452811963325273, 0.6961731247308088, 0.7920762852579414, 1.697715270231473, 1.198434258432671, 1.1280266855356145, 1.544456297162346, 0.7034258041818521, 1.0310677213151742, 0.866393041364515, 0.8763115877094275, 0.8739026041130231, 1.5530855833293093, 1.3948974231243785, 1.1424897114386217, 0.7859675742915215, 0.9846835713292813, 1.634908812738623, 2.661905434285751, 1.1990892564889037, 1.794165549394343, 1.049609621809714, 3.5947067613920205, 1.8307742029272647, 0.649064529126394, 0.9743976105484183, 1.5510030748264385, 0.946217922877733, 0.4208539453475681, 0.7812197931402672]}, {\"name\": \"1562145181\", \"type\": \"box\", \"y\": [1.6542002325063454, 0.8303264193981895, 2.0232015266148364, 0.7887677402760691, 0.7751011113384141, 0.498094296989997, 0.429035582731673, 0.6329354055203928, 0.5302286654290095, 2.1497456853990404, 0.9923251621618014, 0.8159504075795004, 1.168377346487342, 0.724363329092417, 1.312156852169887, 1.07844341497884, 0.8769904122796095, 1.0381851617449591, 1.6079950238742275, 1.877782533765298, 0.5859548272745556, 0.8007184243335106, 0.761950581606942, 1.3719787715611536, 2.912893860932255, 0.7199481071024658, 1.3983769867389302, 1.2486267719649213, 3.2632051240940387, 1.5726175569411838, 0.878835662296272, 0.6349128561870614, 0.9392114157384793, 1.7709545910074957, 0.4140455246190102, 0.837932416321412]}, {\"name\": \"896338719\", \"type\": \"box\", \"y\": [1.2137840091044905, 1.1069953634170717, 2.1711233969993096, 0.85672612926741, 1.034136144985175, 0.9286832588836077, 0.806695235289159, 0.7939596932806297, 0.6274045060680933, 1.6285716840207607, 1.0645296530757713, 0.8876215700069726, 1.495078920431413, 0.7781953028272913, 1.127393339377527, 0.7083818930422499, 0.8771612114546155, 0.9376457229471058, 1.0777390921432872, 1.296538108529713, 1.1367066791822042, 0.7757953717010028, 0.8652193063521018, 1.478386010473212, 2.7233913798013085, 0.9571722478440631, 1.5573202410835596, 0.9075516299008184, 3.0354886471244344, 1.5373479085762232, 0.658624270119521, 0.6597433019409008, 0.944591534812062, 0.7708214070024066, 0.5331091001205405, 0.8450890923373598]}, {\"name\": \"1113196323\", \"type\": \"box\", \"y\": [1.4976164368717133, 1.9837605805745664, 1.0616534234614288, 1.1762588103400948, 0.8120530383457043, 1.6757102934899442, 0.8157416687858722, 0.9861728279372463, 0.5518206915044189, 1.0412661575953228, 1.5900736082007711, 0.9561247510935308, 0.8219629792218316, 0.8262699080406897, 1.5632119042709722, 1.0685059976480136, 0.9308049344603664, 0.8536257913639826, 1.102061678929902, 1.2800710397457016, 1.1344245865502693, 1.1509058847621818, 1.2318554395250625, 1.454243083291458, 1.0440488450218237, 0.7200838359803451, 0.9670403405669704, 0.8456804882575364, 2.5594916506559926, 1.9477972755609525, 1.3290513208100905, 1.4135528250153708, 1.321784340566102, 0.6406098441612144, 0.36937335537947996, 0.9675141023633069]}, {\"name\": \"1597760039\", \"type\": \"box\", \"y\": [0.8691659916401402, 1.406094891122733, 0.7291831966083633, 0.9752231605987888, 0.40708426291804267, 1.4976009112786222, 0.9759373836583248, 0.6753873643935735, 1.4280518912936233, 1.3795807638530053, 1.138535323319539, 1.0695795937471793, 0.8423340841479854, 0.595420247826441, 1.263540632669539, 1.001304042053983, 1.9930932880072512, 0.8146403814460196, 0.6702686776698676, 0.7008079353340996, 0.9907697140619302, 1.0053416837372378, 1.5485300046028634, 1.9649760287436588, 1.7356471376618117, 1.49883269687877, 0.8434865526211858, 0.9577064003859957, 1.8632596277470195, 1.1556612646500446, 1.3214485267529692, 0.9510543178899222, 0.8304183552436435, 1.0383933243595431, 0.4970672385847038, 1.102663544164883]}, {\"name\": \"317532327\", \"type\": \"box\", \"y\": [1.453915737163419, 2.2079478315962624, 0.9789745764324786, 0.8899860724984816, 1.3012445302247475, 1.7441055193899095, 0.5228487708670898, 1.1481155942876378, 1.3054932138631457, 1.446839947875033, 0.8577650463630865, 0.8693922960900818, 0.8668253532105797, 0.42269164182566266, 0.7739152770438565, 1.3816521969916646, 1.7976376674934984, 1.3165400416090836, 0.8348590917243078, 0.6045558517279367, 1.286297706279166, 0.7655275425770827, 1.3130241689247826, 1.385438123728852, 1.072083085806882, 1.0060828263281083, 1.0974736507893987, 1.0220088067757942, 2.1262378712339407, 1.3492255640158277, 1.4687373980613856, 1.3023456245536633, 1.2589055357257612, 1.039197233664809, 0.7751765380886758, 1.1603350510359196]}, {\"name\": \"346061612\", \"type\": \"box\", \"y\": [1.7984457999954306, 1.3327760617789213, 2.4293362684982007, 1.0046663548858519, 1.3402513908674238, 1.0224755552417184, 1.119085174302594, 1.2716255992195806, 0.74203294519078, 2.6252381589483127, 1.3738135969273249, 1.003245233616419, 1.8125936574357702, 1.2036894802582883, 1.7911348631461408, 0.8336804270388151, 1.1305920462904537, 1.4895923139689249, 1.656264937899417, 1.7602806366388066, 1.3250530014722268, 1.3776946705142759, 1.2660874373581574, 1.9221860793920382, 3.912251924114315, 0.9737609363430095, 1.8982408574702532, 1.41937938471895, 5.392820946523826, 2.6550801612529247, 1.5981678614066865, 1.0348852705743514, 1.7164419956488426, 1.3422153989568364, 0.5051378411550917, 0.8439541667628315]}, {\"name\": \"40333612\", \"type\": \"box\", \"y\": [1.729764326985777, 1.1637855539562412, 2.249108659245676, 1.1196853963905526, 1.0281965507945043, 1.2412987753140519, 1.150458882625117, 1.0135348609291195, 0.8058386939302499, 2.033252750407875, 1.387685085419753, 0.6704241629651457, 1.477604846276644, 0.9624657090516023, 1.2017550191987503, 0.6962310499491562, 1.077174050884112, 1.131671814431904, 0.9463690215795284, 1.5177042955587043, 1.1185062059370678, 0.9793131953436035, 1.0680363149564485, 1.5811455199097426, 2.7303775732299127, 0.6769789651714404, 1.604355497405604, 1.0567009084398422, 3.9420225101734183, 1.8593904966214578, 0.6770110863153882, 0.9547108478612237, 0.8259366309702482, 0.925371242110077, 0.620750195544538, 0.6059203152544341]}, {\"name\": \"511723709\", \"type\": \"box\", \"y\": [1.8344531501113723, 1.423043226335191, 2.734308278927486, 1.487786759921065, 1.37360164484897, 1.3040660111183926, 1.457232179721266, 1.3175129194771595, 0.9132818422347667, 2.4161665692489147, 1.4663518152641635, 0.9231873683395957, 1.9363050045425323, 1.472831291879329, 1.4022445025776624, 0.8468252631842654, 1.0877854413358496, 1.3909234252926026, 0.9451131653739004, 1.7640994063330226, 1.3447008608649165, 1.2688803106058546, 1.2811632484568396, 2.0555528857906356, 3.5240152119860078, 0.9383628031428864, 2.0721771899703385, 1.2404836651755669, 4.66594853006124, 2.3291244353796796, 0.8818985473105502, 1.1897516827856782, 1.394277566437097, 1.3724856093395161, 0.9204280800655024, 0.7979688711823826]}, {\"name\": \"1004972352\", \"type\": \"box\", \"y\": [1.1872496136774333, 1.0299723892014911, 0.6704377786281114, 1.107986785973657, 1.2752315056186283, 1.242252201132635, 1.4161976556609925, 1.1786468682257751, 2.17514738857468, 1.9686263702415627, 1.0140716269463712, 0.8357848978878138, 1.0704465871980955, 0.8659534871813238, 1.2676702536823963, 1.1855195254343591, 1.9934825094808608, 0.8427669492616123, 0.5574273665766241, 0.564479041761612, 0.9662920948368489, 0.9163218601426525, 2.1000168986220604, 2.0001031111239227, 1.8597380704577606, 1.295579748717996, 0.7279767047253956, 1.2222482008962674, 1.8818800873731816, 1.5629116648717714, 1.4815536167591588, 0.7389754178323751, 0.861405355916153, 1.4698966039738928, 0.388824200058071, 0.6463697052867386]}, {\"name\": \"143824576\", \"type\": \"box\", \"y\": [1.6237285479245867, 1.2194622721898412, 2.124502060140664, 0.8665312641117379, 1.0954670234599428, 1.0565689481604896, 0.965386846677786, 0.9228932399337265, 0.774151959696164, 1.8036985495007165, 1.2227579303987912, 1.0169746665765727, 1.6444288949129635, 0.7817824907550764, 1.3703957476239779, 0.7701733050529471, 0.6878788239121285, 0.923420414862182, 1.1392182450935284, 1.3113692711148133, 1.0227774186299947, 0.9483322044465956, 0.8317986865492821, 1.5450980654464146, 2.847739514798812, 0.921070025503752, 1.466528048765246, 1.1137682235278539, 3.260339692808467, 1.3444190680031518, 0.5244819409045978, 0.6424806959909884, 1.4987444116110928, 0.6298534773573085, 0.48753337797075563, 0.7443587614507711]}, {\"name\": \"368424646\", \"type\": \"box\", \"y\": [2.2947436901585276, 1.1442884126180763, 1.2581080544378944, 2.32416569312966, 1.961232579655922, 1.3974542762057103, 1.2290262149592543, 2.4887144246973683, 1.2205414483089483, 1.1788513685908122, 1.2495787621435244, 1.033495001953426, 0.7754084249032405, 1.066088083917856, 1.9410847328220207, 1.959110016734612, 1.4780003468252239, 0.9720833563998975, 0.7110263747504322, 1.264071549374354, 0.9732809712124724, 2.3365386093851646, 1.6081295032695793, 1.8364149805855519, 1.4031808521944453, 1.1136515604256376, 0.49794581664715726, 1.244537220578663, 2.378445460789269, 1.7477290791012572, 1.3000937526211753, 1.5026720034150016, 0.6524382772281363, 0.8652437082574913, 1.2184517425158699, 2.7417570227670645]}, {\"name\": \"1428227531\", \"type\": \"box\", \"y\": [1.3281498843420212, 1.5913967153461648, 0.475806532339552, 1.1141687716484083, 0.6472067088712737, 1.8117528069855922, 1.0074691211395137, 1.049174728258118, 1.066456253754495, 1.4951801729052236, 1.301432997148206, 1.2557944839307764, 0.9229789375245865, 0.6147676635434409, 1.15412716067157, 1.106960664482301, 1.828245551743476, 0.8847621582788971, 0.5352382225981156, 0.7008205803306087, 0.7977485607355204, 0.8202797984296639, 1.263249620228343, 1.6059875787133726, 1.2650775552812341, 1.7390769683002907, 0.6592680767045874, 1.5480373586099578, 2.1556123871115385, 1.4114349904179762, 1.5439967465996793, 1.0385742095965165, 0.8703675504500998, 1.1348704816311657, 0.39865205229176626, 0.8549684485430823]}, {\"name\": \"2040495184\", \"type\": \"box\", \"y\": [0.8605481542307113, 1.3771633241893573, 0.68940011782148, 1.2599265210034194, 0.9267088804350754, 1.1515221358129442, 1.2201502433937723, 1.01713461845221, 1.2955336715040904, 1.2039368306303342, 1.1933631932119886, 0.7001372821786019, 1.0453451445035218, 0.7845704631504885, 1.317757766848354, 1.4815928919350052, 2.2145019105501604, 0.7902149313851664, 0.47848002106440435, 0.7381740706025991, 0.9349502872049857, 0.815874575387432, 1.356309492900385, 1.6077453331133214, 1.341868995836969, 1.0329537283061818, 0.8826575514983226, 1.079229638011748, 2.0327942532877747, 1.674961671143796, 1.4197215119240216, 0.9319030758073144, 0.6808733682375266, 1.3033405720564903, 0.3329951810401423, 0.897318433942686]}, {\"name\": \"1893337300\", \"type\": \"box\", \"y\": [1.1728288048366722, 1.0666026345093063, 1.3502938688366228, 2.060733848265154, 1.1164046830448935, 1.9056521658319376, 1.3375821413964026, 1.340092411696333, 1.8337398686943465, 1.7335746118870026, 1.2055032697199464, 0.7381181761781805, 1.2357615847202024, 1.195200554529883, 2.2251808234785435, 1.4714475494269403, 2.038582017425819, 0.8718459445106047, 0.7284175899530464, 0.6519078430443422, 0.7442750910640552, 1.3334796132006053, 1.3059589409894674, 2.300396083028494, 1.9773081217458002, 1.5889063673109458, 1.0441146891517372, 0.8541445908081738, 1.9444957557709934, 1.4550041533236562, 0.9690263589259549, 0.7565648273935552, 0.8940631934020644, 0.8974234764590329, 0.7574172934961722, 0.7235324626497472]}, {\"name\": \"2117861717\", \"type\": \"box\", \"y\": [1.542022955338507, 1.6145294768219995, 2.022836076882572, 1.1743889628745703, 1.107971727110421, 1.2743611229004448, 1.183294088467995, 0.8446792904844272, 0.7470195562740267, 1.8287537188984444, 1.1859376035467446, 1.1065567522654796, 1.3529559611945732, 0.8793581758589987, 1.0529576329960848, 0.7041019455950493, 0.7879403766295497, 0.895047518193784, 0.9880201578179857, 1.3546713402106818, 1.091349816490018, 0.8287116550990834, 0.986950738111859, 1.508711493678588, 2.5711340330117816, 0.7665402040036015, 1.516074717325105, 0.950347229413447, 3.4845243028268875, 1.2997892450455983, 0.9081543032590542, 0.7814090049851471, 0.8934690597129041, 1.015902208113145, 0.5456052112319516, 0.7822383919112859]}, {\"name\": \"1941427679\", \"type\": \"box\", \"y\": [2.0128883459418887, 1.5918827311211075, 3.0860866869293417, 1.5788616910016053, 1.2171252638315384, 1.059044485087307, 1.4440301769192794, 1.7143395016049456, 1.0415730514398576, 2.8158444468199875, 1.581334561930626, 1.2516157947161537, 2.1379043841064354, 1.485988238065261, 1.8264618637947034, 1.024458920209972, 1.0696496798448496, 1.9411242203529266, 1.477714413779849, 1.8971055005303887, 1.4610141260045404, 1.5828557165916968, 1.3957996845379708, 2.096802810269285, 4.208017435655732, 1.0969836392029273, 1.9668212249252899, 2.070392349628658, 4.90751969450889, 2.9348825259728946, 1.1356395611529149, 1.1095311531663299, 1.7490635830174528, 1.4837435704629416, 0.8341140178914117, 0.7896240200723383]}, {\"name\": \"1708098535\", \"type\": \"box\", \"y\": [1.6798479024196429, 1.511961870773679, 2.495386601610273, 1.1707667026458206, 1.0251886002337016, 0.9135798181521544, 0.9569032921334164, 0.822989991565635, 0.7695724864020346, 1.9411417898218208, 1.174918736532293, 1.0375036579916472, 1.668159223416152, 0.8416798406903754, 1.144417720521136, 0.877687918310219, 0.9490380338555557, 1.0208204612439942, 1.4571817997558358, 1.4148251238934553, 1.2410782910939155, 0.8537305462825788, 0.9506820241790407, 1.7052308571199377, 3.019651127326667, 1.0526280869099607, 1.961377982984033, 1.1489344848839629, 3.6494544553270196, 1.9010574804754192, 0.7260064089398217, 0.669839165045571, 1.6532547383597875, 1.1625665542003834, 0.516258286865618, 0.8388621302079518]}, {\"name\": \"456209269\", \"type\": \"box\", \"y\": [1.5216879541579817, 1.037989047507671, 2.416717021074599, 1.0496176981825422, 1.3886770343790378, 1.1269601387660206, 1.1011586277636973, 1.2009904593461351, 0.7562809330335776, 2.038124186767677, 1.2318984145674985, 0.6060516715128405, 1.6202706713382666, 1.0622669452819313, 1.3039516202398327, 0.8479606658842587, 1.03024193516228, 1.2703507689165254, 0.880038381053905, 1.5125249672132928, 1.2465952251123655, 1.0320876292315015, 1.0531996262359926, 1.6829960546082794, 3.2359741499605015, 0.9068541359177805, 1.6913747368579934, 1.166704377335318, 3.9314899734715856, 2.0284116681564153, 0.7912029295036443, 1.0121663952872593, 1.1831356522558383, 1.2685028829406608, 0.6380613885012573, 0.8671200192762997]}],                        {\"showlegend\": false, \"template\": {\"data\": {\"bar\": [{\"error_x\": {\"color\": \"#2a3f5f\"}, \"error_y\": {\"color\": \"#2a3f5f\"}, \"marker\": {\"line\": {\"color\": \"#E5ECF6\", \"width\": 0.5}}, \"type\": \"bar\"}], \"barpolar\": [{\"marker\": {\"line\": {\"color\": \"#E5ECF6\", \"width\": 0.5}}, \"type\": \"barpolar\"}], \"carpet\": [{\"aaxis\": {\"endlinecolor\": \"#2a3f5f\", \"gridcolor\": \"white\", \"linecolor\": \"white\", \"minorgridcolor\": \"white\", \"startlinecolor\": \"#2a3f5f\"}, \"baxis\": {\"endlinecolor\": \"#2a3f5f\", \"gridcolor\": \"white\", \"linecolor\": \"white\", \"minorgridcolor\": \"white\", \"startlinecolor\": \"#2a3f5f\"}, \"type\": \"carpet\"}], \"choropleth\": [{\"colorbar\": {\"outlinewidth\": 0, \"ticks\": \"\"}, \"type\": \"choropleth\"}], \"contour\": [{\"colorbar\": {\"outlinewidth\": 0, \"ticks\": \"\"}, \"colorscale\": [[0.0, \"#0d0887\"], [0.1111111111111111, \"#46039f\"], [0.2222222222222222, \"#7201a8\"], [0.3333333333333333, \"#9c179e\"], [0.4444444444444444, \"#bd3786\"], [0.5555555555555556, \"#d8576b\"], [0.6666666666666666, \"#ed7953\"], [0.7777777777777778, \"#fb9f3a\"], [0.8888888888888888, \"#fdca26\"], [1.0, \"#f0f921\"]], \"type\": \"contour\"}], \"contourcarpet\": [{\"colorbar\": {\"outlinewidth\": 0, \"ticks\": \"\"}, \"type\": \"contourcarpet\"}], \"heatmap\": [{\"colorbar\": {\"outlinewidth\": 0, \"ticks\": \"\"}, \"colorscale\": [[0.0, \"#0d0887\"], [0.1111111111111111, \"#46039f\"], [0.2222222222222222, \"#7201a8\"], [0.3333333333333333, \"#9c179e\"], [0.4444444444444444, \"#bd3786\"], [0.5555555555555556, \"#d8576b\"], [0.6666666666666666, \"#ed7953\"], [0.7777777777777778, \"#fb9f3a\"], [0.8888888888888888, \"#fdca26\"], [1.0, \"#f0f921\"]], \"type\": \"heatmap\"}], \"heatmapgl\": [{\"colorbar\": {\"outlinewidth\": 0, \"ticks\": \"\"}, \"colorscale\": [[0.0, \"#0d0887\"], [0.1111111111111111, \"#46039f\"], [0.2222222222222222, \"#7201a8\"], [0.3333333333333333, \"#9c179e\"], [0.4444444444444444, \"#bd3786\"], [0.5555555555555556, \"#d8576b\"], [0.6666666666666666, \"#ed7953\"], [0.7777777777777778, \"#fb9f3a\"], [0.8888888888888888, \"#fdca26\"], [1.0, \"#f0f921\"]], \"type\": \"heatmapgl\"}], \"histogram\": [{\"marker\": {\"colorbar\": {\"outlinewidth\": 0, \"ticks\": \"\"}}, \"type\": \"histogram\"}], \"histogram2d\": [{\"colorbar\": {\"outlinewidth\": 0, \"ticks\": \"\"}, \"colorscale\": [[0.0, \"#0d0887\"], [0.1111111111111111, \"#46039f\"], [0.2222222222222222, \"#7201a8\"], [0.3333333333333333, \"#9c179e\"], [0.4444444444444444, \"#bd3786\"], [0.5555555555555556, \"#d8576b\"], [0.6666666666666666, \"#ed7953\"], [0.7777777777777778, \"#fb9f3a\"], [0.8888888888888888, \"#fdca26\"], [1.0, \"#f0f921\"]], \"type\": \"histogram2d\"}], \"histogram2dcontour\": [{\"colorbar\": {\"outlinewidth\": 0, \"ticks\": \"\"}, \"colorscale\": [[0.0, \"#0d0887\"], [0.1111111111111111, \"#46039f\"], [0.2222222222222222, \"#7201a8\"], [0.3333333333333333, \"#9c179e\"], [0.4444444444444444, \"#bd3786\"], [0.5555555555555556, \"#d8576b\"], [0.6666666666666666, \"#ed7953\"], [0.7777777777777778, \"#fb9f3a\"], [0.8888888888888888, \"#fdca26\"], [1.0, \"#f0f921\"]], \"type\": \"histogram2dcontour\"}], \"mesh3d\": [{\"colorbar\": {\"outlinewidth\": 0, \"ticks\": \"\"}, \"type\": \"mesh3d\"}], \"parcoords\": [{\"line\": {\"colorbar\": {\"outlinewidth\": 0, \"ticks\": \"\"}}, \"type\": \"parcoords\"}], \"pie\": [{\"automargin\": true, \"type\": \"pie\"}], \"scatter\": [{\"marker\": {\"colorbar\": {\"outlinewidth\": 0, \"ticks\": \"\"}}, \"type\": \"scatter\"}], \"scatter3d\": [{\"line\": {\"colorbar\": {\"outlinewidth\": 0, \"ticks\": \"\"}}, \"marker\": {\"colorbar\": {\"outlinewidth\": 0, \"ticks\": \"\"}}, \"type\": \"scatter3d\"}], \"scattercarpet\": [{\"marker\": {\"colorbar\": {\"outlinewidth\": 0, \"ticks\": \"\"}}, \"type\": \"scattercarpet\"}], \"scattergeo\": [{\"marker\": {\"colorbar\": {\"outlinewidth\": 0, \"ticks\": \"\"}}, \"type\": \"scattergeo\"}], \"scattergl\": [{\"marker\": {\"colorbar\": {\"outlinewidth\": 0, \"ticks\": \"\"}}, \"type\": \"scattergl\"}], \"scattermapbox\": [{\"marker\": {\"colorbar\": {\"outlinewidth\": 0, \"ticks\": \"\"}}, \"type\": \"scattermapbox\"}], \"scatterpolar\": [{\"marker\": {\"colorbar\": {\"outlinewidth\": 0, \"ticks\": \"\"}}, \"type\": \"scatterpolar\"}], \"scatterpolargl\": [{\"marker\": {\"colorbar\": {\"outlinewidth\": 0, \"ticks\": \"\"}}, \"type\": \"scatterpolargl\"}], \"scatterternary\": [{\"marker\": {\"colorbar\": {\"outlinewidth\": 0, \"ticks\": \"\"}}, \"type\": \"scatterternary\"}], \"surface\": [{\"colorbar\": {\"outlinewidth\": 0, \"ticks\": \"\"}, \"colorscale\": [[0.0, \"#0d0887\"], [0.1111111111111111, \"#46039f\"], [0.2222222222222222, \"#7201a8\"], [0.3333333333333333, \"#9c179e\"], [0.4444444444444444, \"#bd3786\"], [0.5555555555555556, \"#d8576b\"], [0.6666666666666666, \"#ed7953\"], [0.7777777777777778, \"#fb9f3a\"], [0.8888888888888888, \"#fdca26\"], [1.0, \"#f0f921\"]], \"type\": \"surface\"}], \"table\": [{\"cells\": {\"fill\": {\"color\": \"#EBF0F8\"}, \"line\": {\"color\": \"white\"}}, \"header\": {\"fill\": {\"color\": \"#C8D4E3\"}, \"line\": {\"color\": \"white\"}}, \"type\": \"table\"}]}, \"layout\": {\"annotationdefaults\": {\"arrowcolor\": \"#2a3f5f\", \"arrowhead\": 0, \"arrowwidth\": 1}, \"autotypenumbers\": \"strict\", \"coloraxis\": {\"colorbar\": {\"outlinewidth\": 0, \"ticks\": \"\"}}, \"colorscale\": {\"diverging\": [[0, \"#8e0152\"], [0.1, \"#c51b7d\"], [0.2, \"#de77ae\"], [0.3, \"#f1b6da\"], [0.4, \"#fde0ef\"], [0.5, \"#f7f7f7\"], [0.6, \"#e6f5d0\"], [0.7, \"#b8e186\"], [0.8, \"#7fbc41\"], [0.9, \"#4d9221\"], [1, \"#276419\"]], \"sequential\": [[0.0, \"#0d0887\"], [0.1111111111111111, \"#46039f\"], [0.2222222222222222, \"#7201a8\"], [0.3333333333333333, \"#9c179e\"], [0.4444444444444444, \"#bd3786\"], [0.5555555555555556, \"#d8576b\"], [0.6666666666666666, \"#ed7953\"], [0.7777777777777778, \"#fb9f3a\"], [0.8888888888888888, \"#fdca26\"], [1.0, \"#f0f921\"]], \"sequentialminus\": [[0.0, \"#0d0887\"], [0.1111111111111111, \"#46039f\"], [0.2222222222222222, \"#7201a8\"], [0.3333333333333333, \"#9c179e\"], [0.4444444444444444, \"#bd3786\"], [0.5555555555555556, \"#d8576b\"], [0.6666666666666666, \"#ed7953\"], [0.7777777777777778, \"#fb9f3a\"], [0.8888888888888888, \"#fdca26\"], [1.0, \"#f0f921\"]]}, \"colorway\": [\"#636efa\", \"#EF553B\", \"#00cc96\", \"#ab63fa\", \"#FFA15A\", \"#19d3f3\", \"#FF6692\", \"#B6E880\", \"#FF97FF\", \"#FECB52\"], \"font\": {\"color\": \"#2a3f5f\"}, \"geo\": {\"bgcolor\": \"white\", \"lakecolor\": \"white\", \"landcolor\": \"#E5ECF6\", \"showlakes\": true, \"showland\": true, \"subunitcolor\": \"white\"}, \"hoverlabel\": {\"align\": \"left\"}, \"hovermode\": \"closest\", \"mapbox\": {\"style\": \"light\"}, \"paper_bgcolor\": \"white\", \"plot_bgcolor\": \"#E5ECF6\", \"polar\": {\"angularaxis\": {\"gridcolor\": \"white\", \"linecolor\": \"white\", \"ticks\": \"\"}, \"bgcolor\": \"#E5ECF6\", \"radialaxis\": {\"gridcolor\": \"white\", \"linecolor\": \"white\", \"ticks\": \"\"}}, \"scene\": {\"xaxis\": {\"backgroundcolor\": \"#E5ECF6\", \"gridcolor\": \"white\", \"gridwidth\": 2, \"linecolor\": \"white\", \"showbackground\": true, \"ticks\": \"\", \"zerolinecolor\": \"white\"}, \"yaxis\": {\"backgroundcolor\": \"#E5ECF6\", \"gridcolor\": \"white\", \"gridwidth\": 2, \"linecolor\": \"white\", \"showbackground\": true, \"ticks\": \"\", \"zerolinecolor\": \"white\"}, \"zaxis\": {\"backgroundcolor\": \"#E5ECF6\", \"gridcolor\": \"white\", \"gridwidth\": 2, \"linecolor\": \"white\", \"showbackground\": true, \"ticks\": \"\", \"zerolinecolor\": \"white\"}}, \"shapedefaults\": {\"line\": {\"color\": \"#2a3f5f\"}}, \"ternary\": {\"aaxis\": {\"gridcolor\": \"white\", \"linecolor\": \"white\", \"ticks\": \"\"}, \"baxis\": {\"gridcolor\": \"white\", \"linecolor\": \"white\", \"ticks\": \"\"}, \"bgcolor\": \"#E5ECF6\", \"caxis\": {\"gridcolor\": \"white\", \"linecolor\": \"white\", \"ticks\": \"\"}}, \"title\": {\"x\": 0.05}, \"xaxis\": {\"automargin\": true, \"gridcolor\": \"white\", \"linecolor\": \"white\", \"ticks\": \"\", \"title\": {\"standoff\": 15}, \"zerolinecolor\": \"white\", \"zerolinewidth\": 2}, \"yaxis\": {\"automargin\": true, \"gridcolor\": \"white\", \"linecolor\": \"white\", \"ticks\": \"\", \"title\": {\"standoff\": 15}, \"zerolinecolor\": \"white\", \"zerolinewidth\": 2}}}, \"title\": {\"text\": \"Convolutions\"}, \"xaxis\": {\"title\": {\"text\": \"Time series\"}}, \"yaxis\": {\"title\": {\"text\": \"MASE distribution\"}}},                        {\"responsive\": true}                    ).then(function(){\n",
       "                            \n",
       "var gd = document.getElementById('fa77b267-8b08-4ff7-b767-d2b218aa916a');\n",
       "var x = new MutationObserver(function (mutations, observer) {{\n",
       "        var display = window.getComputedStyle(gd).display;\n",
       "        if (!display || display === 'none') {{\n",
       "            console.log([gd, 'removed!']);\n",
       "            Plotly.purge(gd);\n",
       "            observer.disconnect();\n",
       "        }}\n",
       "}});\n",
       "\n",
       "// Listen for the removal of the full notebook cells\n",
       "var notebookContainer = gd.closest('#notebook-container');\n",
       "if (notebookContainer) {{\n",
       "    x.observe(notebookContainer, {childList: true});\n",
       "}}\n",
       "\n",
       "// Listen for the clearing of the current output cell\n",
       "var outputEl = gd.closest('.output');\n",
       "if (outputEl) {{\n",
       "    x.observe(outputEl, {childList: true});\n",
       "}}\n",
       "\n",
       "                        })                };                });            </script>        </div>"
      ]
     },
     "metadata": {},
     "output_type": "display_data"
    }
   ],
   "source": [
    "fig = go.Figure()\n",
    "for col in tcn_dist_ts.keys():\n",
    "    box_data = tcn_dist_ts[col]\n",
    "    fig.add_trace(go.Box(y=box_data, name = col))\n",
    "fig.update_xaxes(title = 'Time series')\n",
    "fig.update_yaxes(title = 'MASE distribution')\n",
    "fig.update_layout(title = \"Convolutions\", showlegend= False)"
   ]
  },
  {
   "cell_type": "code",
   "execution_count": 11,
   "metadata": {},
   "outputs": [],
   "source": [
    "# fig = go.Figure()\n",
    "# for col in tcn_d3_dist_ts.keys():\n",
    "#     box_data = tcn_d3_dist_ts[col]\n",
    "#     fig.add_trace(go.Box(y=box_data, name = col))\n",
    "# fig.update_xaxes(title = 'Time series')\n",
    "# fig.update_yaxes(title = 'MASE distribution')\n",
    "# fig.update_layout(title = \"Dilated Convolutions (Rate - 3)\", showlegend= False)"
   ]
  },
  {
   "cell_type": "markdown",
   "metadata": {},
   "source": [
    "## Errors at each level"
   ]
  },
  {
   "cell_type": "code",
   "execution_count": 49,
   "metadata": {},
   "outputs": [],
   "source": [
    "def get_fc_each_level(start, end, mase_dict):\n",
    "    if end == -1:\n",
    "        ts_names = const.TS[start: ]\n",
    "    else:\n",
    "        ts_names = const.TS[start: end]\n",
    "    mase_vals= []\n",
    "    for ts in ts_names: \n",
    "        mase_vals.append(mase_dict[ts])\n",
    "    avg_mase = np.mean(mase_vals)\n",
    "    return avg_mase"
   ]
  },
  {
   "cell_type": "code",
   "execution_count": 50,
   "metadata": {},
   "outputs": [],
   "source": [
    "def get_fc_error_level_model(model_mase_dic):\n",
    "    level_mase = []\n",
    "    grid = get_fc_each_level(0, 1, model_mase_dic)\n",
    "    tl_line = get_fc_each_level(1, 3, model_mase_dic)\n",
    "    sub = get_fc_each_level(3, 7, model_mase_dic)\n",
    "    pc = get_fc_each_level(7, 13, model_mase_dic)\n",
    "    site = get_fc_each_level(13, -1, model_mase_dic)\n",
    "    level_mase.append(grid)\n",
    "    level_mase.append(tl_line)\n",
    "    level_mase.append(sub)\n",
    "    level_mase.append(pc)\n",
    "    level_mase.append(site)\n",
    "    return level_mase"
   ]
  },
  {
   "cell_type": "code",
   "execution_count": 51,
   "metadata": {},
   "outputs": [],
   "source": [
    "level_results_lstm = get_fc_error_level_model(lstm_dist_ts)"
   ]
  },
  {
   "cell_type": "code",
   "execution_count": 52,
   "metadata": {},
   "outputs": [
    {
     "data": {
      "text/plain": [
       "[1.468234482294422,\n",
       " 1.2524748102053063,\n",
       " 1.0567580454460395,\n",
       " 0.8120909452654909,\n",
       " 0.8506744006868768]"
      ]
     },
     "execution_count": 52,
     "metadata": {},
     "output_type": "execute_result"
    }
   ],
   "source": [
    "level_results_lstm"
   ]
  },
  {
   "cell_type": "code",
   "execution_count": 53,
   "metadata": {},
   "outputs": [],
   "source": [
    "level_results_tcn = get_fc_error_level_model(tcn_dist_ts)"
   ]
  },
  {
   "cell_type": "code",
   "execution_count": 54,
   "metadata": {},
   "outputs": [
    {
     "data": {
      "application/vnd.plotly.v1+json": {
       "config": {
        "plotlyServerURL": "https://plot.ly"
       },
       "data": [
        {
         "name": "LSTM",
         "type": "bar",
         "x": [
          "Grid",
          "Transmission",
          "Substation",
          "PostCode",
          "Site"
         ],
         "y": [
          1.468234482294422,
          1.2524748102053063,
          1.0567580454460395,
          0.8120909452654909,
          0.8506744006868768
         ]
        },
        {
         "name": "Convolutions",
         "type": "bar",
         "x": [
          "Grid",
          "Transmission",
          "Substation",
          "PostCode",
          "Site"
         ],
         "y": [
          1.150048520316879,
          1.0928126119537562,
          1.018148633128875,
          1.298835473798869,
          1.2864611839710585
         ]
        }
       ],
       "layout": {
        "barmode": "group",
        "template": {
         "data": {
          "bar": [
           {
            "error_x": {
             "color": "#2a3f5f"
            },
            "error_y": {
             "color": "#2a3f5f"
            },
            "marker": {
             "line": {
              "color": "#E5ECF6",
              "width": 0.5
             }
            },
            "type": "bar"
           }
          ],
          "barpolar": [
           {
            "marker": {
             "line": {
              "color": "#E5ECF6",
              "width": 0.5
             }
            },
            "type": "barpolar"
           }
          ],
          "carpet": [
           {
            "aaxis": {
             "endlinecolor": "#2a3f5f",
             "gridcolor": "white",
             "linecolor": "white",
             "minorgridcolor": "white",
             "startlinecolor": "#2a3f5f"
            },
            "baxis": {
             "endlinecolor": "#2a3f5f",
             "gridcolor": "white",
             "linecolor": "white",
             "minorgridcolor": "white",
             "startlinecolor": "#2a3f5f"
            },
            "type": "carpet"
           }
          ],
          "choropleth": [
           {
            "colorbar": {
             "outlinewidth": 0,
             "ticks": ""
            },
            "type": "choropleth"
           }
          ],
          "contour": [
           {
            "colorbar": {
             "outlinewidth": 0,
             "ticks": ""
            },
            "colorscale": [
             [
              0,
              "#0d0887"
             ],
             [
              0.1111111111111111,
              "#46039f"
             ],
             [
              0.2222222222222222,
              "#7201a8"
             ],
             [
              0.3333333333333333,
              "#9c179e"
             ],
             [
              0.4444444444444444,
              "#bd3786"
             ],
             [
              0.5555555555555556,
              "#d8576b"
             ],
             [
              0.6666666666666666,
              "#ed7953"
             ],
             [
              0.7777777777777778,
              "#fb9f3a"
             ],
             [
              0.8888888888888888,
              "#fdca26"
             ],
             [
              1,
              "#f0f921"
             ]
            ],
            "type": "contour"
           }
          ],
          "contourcarpet": [
           {
            "colorbar": {
             "outlinewidth": 0,
             "ticks": ""
            },
            "type": "contourcarpet"
           }
          ],
          "heatmap": [
           {
            "colorbar": {
             "outlinewidth": 0,
             "ticks": ""
            },
            "colorscale": [
             [
              0,
              "#0d0887"
             ],
             [
              0.1111111111111111,
              "#46039f"
             ],
             [
              0.2222222222222222,
              "#7201a8"
             ],
             [
              0.3333333333333333,
              "#9c179e"
             ],
             [
              0.4444444444444444,
              "#bd3786"
             ],
             [
              0.5555555555555556,
              "#d8576b"
             ],
             [
              0.6666666666666666,
              "#ed7953"
             ],
             [
              0.7777777777777778,
              "#fb9f3a"
             ],
             [
              0.8888888888888888,
              "#fdca26"
             ],
             [
              1,
              "#f0f921"
             ]
            ],
            "type": "heatmap"
           }
          ],
          "heatmapgl": [
           {
            "colorbar": {
             "outlinewidth": 0,
             "ticks": ""
            },
            "colorscale": [
             [
              0,
              "#0d0887"
             ],
             [
              0.1111111111111111,
              "#46039f"
             ],
             [
              0.2222222222222222,
              "#7201a8"
             ],
             [
              0.3333333333333333,
              "#9c179e"
             ],
             [
              0.4444444444444444,
              "#bd3786"
             ],
             [
              0.5555555555555556,
              "#d8576b"
             ],
             [
              0.6666666666666666,
              "#ed7953"
             ],
             [
              0.7777777777777778,
              "#fb9f3a"
             ],
             [
              0.8888888888888888,
              "#fdca26"
             ],
             [
              1,
              "#f0f921"
             ]
            ],
            "type": "heatmapgl"
           }
          ],
          "histogram": [
           {
            "marker": {
             "colorbar": {
              "outlinewidth": 0,
              "ticks": ""
             }
            },
            "type": "histogram"
           }
          ],
          "histogram2d": [
           {
            "colorbar": {
             "outlinewidth": 0,
             "ticks": ""
            },
            "colorscale": [
             [
              0,
              "#0d0887"
             ],
             [
              0.1111111111111111,
              "#46039f"
             ],
             [
              0.2222222222222222,
              "#7201a8"
             ],
             [
              0.3333333333333333,
              "#9c179e"
             ],
             [
              0.4444444444444444,
              "#bd3786"
             ],
             [
              0.5555555555555556,
              "#d8576b"
             ],
             [
              0.6666666666666666,
              "#ed7953"
             ],
             [
              0.7777777777777778,
              "#fb9f3a"
             ],
             [
              0.8888888888888888,
              "#fdca26"
             ],
             [
              1,
              "#f0f921"
             ]
            ],
            "type": "histogram2d"
           }
          ],
          "histogram2dcontour": [
           {
            "colorbar": {
             "outlinewidth": 0,
             "ticks": ""
            },
            "colorscale": [
             [
              0,
              "#0d0887"
             ],
             [
              0.1111111111111111,
              "#46039f"
             ],
             [
              0.2222222222222222,
              "#7201a8"
             ],
             [
              0.3333333333333333,
              "#9c179e"
             ],
             [
              0.4444444444444444,
              "#bd3786"
             ],
             [
              0.5555555555555556,
              "#d8576b"
             ],
             [
              0.6666666666666666,
              "#ed7953"
             ],
             [
              0.7777777777777778,
              "#fb9f3a"
             ],
             [
              0.8888888888888888,
              "#fdca26"
             ],
             [
              1,
              "#f0f921"
             ]
            ],
            "type": "histogram2dcontour"
           }
          ],
          "mesh3d": [
           {
            "colorbar": {
             "outlinewidth": 0,
             "ticks": ""
            },
            "type": "mesh3d"
           }
          ],
          "parcoords": [
           {
            "line": {
             "colorbar": {
              "outlinewidth": 0,
              "ticks": ""
             }
            },
            "type": "parcoords"
           }
          ],
          "pie": [
           {
            "automargin": true,
            "type": "pie"
           }
          ],
          "scatter": [
           {
            "marker": {
             "colorbar": {
              "outlinewidth": 0,
              "ticks": ""
             }
            },
            "type": "scatter"
           }
          ],
          "scatter3d": [
           {
            "line": {
             "colorbar": {
              "outlinewidth": 0,
              "ticks": ""
             }
            },
            "marker": {
             "colorbar": {
              "outlinewidth": 0,
              "ticks": ""
             }
            },
            "type": "scatter3d"
           }
          ],
          "scattercarpet": [
           {
            "marker": {
             "colorbar": {
              "outlinewidth": 0,
              "ticks": ""
             }
            },
            "type": "scattercarpet"
           }
          ],
          "scattergeo": [
           {
            "marker": {
             "colorbar": {
              "outlinewidth": 0,
              "ticks": ""
             }
            },
            "type": "scattergeo"
           }
          ],
          "scattergl": [
           {
            "marker": {
             "colorbar": {
              "outlinewidth": 0,
              "ticks": ""
             }
            },
            "type": "scattergl"
           }
          ],
          "scattermapbox": [
           {
            "marker": {
             "colorbar": {
              "outlinewidth": 0,
              "ticks": ""
             }
            },
            "type": "scattermapbox"
           }
          ],
          "scatterpolar": [
           {
            "marker": {
             "colorbar": {
              "outlinewidth": 0,
              "ticks": ""
             }
            },
            "type": "scatterpolar"
           }
          ],
          "scatterpolargl": [
           {
            "marker": {
             "colorbar": {
              "outlinewidth": 0,
              "ticks": ""
             }
            },
            "type": "scatterpolargl"
           }
          ],
          "scatterternary": [
           {
            "marker": {
             "colorbar": {
              "outlinewidth": 0,
              "ticks": ""
             }
            },
            "type": "scatterternary"
           }
          ],
          "surface": [
           {
            "colorbar": {
             "outlinewidth": 0,
             "ticks": ""
            },
            "colorscale": [
             [
              0,
              "#0d0887"
             ],
             [
              0.1111111111111111,
              "#46039f"
             ],
             [
              0.2222222222222222,
              "#7201a8"
             ],
             [
              0.3333333333333333,
              "#9c179e"
             ],
             [
              0.4444444444444444,
              "#bd3786"
             ],
             [
              0.5555555555555556,
              "#d8576b"
             ],
             [
              0.6666666666666666,
              "#ed7953"
             ],
             [
              0.7777777777777778,
              "#fb9f3a"
             ],
             [
              0.8888888888888888,
              "#fdca26"
             ],
             [
              1,
              "#f0f921"
             ]
            ],
            "type": "surface"
           }
          ],
          "table": [
           {
            "cells": {
             "fill": {
              "color": "#EBF0F8"
             },
             "line": {
              "color": "white"
             }
            },
            "header": {
             "fill": {
              "color": "#C8D4E3"
             },
             "line": {
              "color": "white"
             }
            },
            "type": "table"
           }
          ]
         },
         "layout": {
          "annotationdefaults": {
           "arrowcolor": "#2a3f5f",
           "arrowhead": 0,
           "arrowwidth": 1
          },
          "autotypenumbers": "strict",
          "coloraxis": {
           "colorbar": {
            "outlinewidth": 0,
            "ticks": ""
           }
          },
          "colorscale": {
           "diverging": [
            [
             0,
             "#8e0152"
            ],
            [
             0.1,
             "#c51b7d"
            ],
            [
             0.2,
             "#de77ae"
            ],
            [
             0.3,
             "#f1b6da"
            ],
            [
             0.4,
             "#fde0ef"
            ],
            [
             0.5,
             "#f7f7f7"
            ],
            [
             0.6,
             "#e6f5d0"
            ],
            [
             0.7,
             "#b8e186"
            ],
            [
             0.8,
             "#7fbc41"
            ],
            [
             0.9,
             "#4d9221"
            ],
            [
             1,
             "#276419"
            ]
           ],
           "sequential": [
            [
             0,
             "#0d0887"
            ],
            [
             0.1111111111111111,
             "#46039f"
            ],
            [
             0.2222222222222222,
             "#7201a8"
            ],
            [
             0.3333333333333333,
             "#9c179e"
            ],
            [
             0.4444444444444444,
             "#bd3786"
            ],
            [
             0.5555555555555556,
             "#d8576b"
            ],
            [
             0.6666666666666666,
             "#ed7953"
            ],
            [
             0.7777777777777778,
             "#fb9f3a"
            ],
            [
             0.8888888888888888,
             "#fdca26"
            ],
            [
             1,
             "#f0f921"
            ]
           ],
           "sequentialminus": [
            [
             0,
             "#0d0887"
            ],
            [
             0.1111111111111111,
             "#46039f"
            ],
            [
             0.2222222222222222,
             "#7201a8"
            ],
            [
             0.3333333333333333,
             "#9c179e"
            ],
            [
             0.4444444444444444,
             "#bd3786"
            ],
            [
             0.5555555555555556,
             "#d8576b"
            ],
            [
             0.6666666666666666,
             "#ed7953"
            ],
            [
             0.7777777777777778,
             "#fb9f3a"
            ],
            [
             0.8888888888888888,
             "#fdca26"
            ],
            [
             1,
             "#f0f921"
            ]
           ]
          },
          "colorway": [
           "#636efa",
           "#EF553B",
           "#00cc96",
           "#ab63fa",
           "#FFA15A",
           "#19d3f3",
           "#FF6692",
           "#B6E880",
           "#FF97FF",
           "#FECB52"
          ],
          "font": {
           "color": "#2a3f5f"
          },
          "geo": {
           "bgcolor": "white",
           "lakecolor": "white",
           "landcolor": "#E5ECF6",
           "showlakes": true,
           "showland": true,
           "subunitcolor": "white"
          },
          "hoverlabel": {
           "align": "left"
          },
          "hovermode": "closest",
          "mapbox": {
           "style": "light"
          },
          "paper_bgcolor": "white",
          "plot_bgcolor": "#E5ECF6",
          "polar": {
           "angularaxis": {
            "gridcolor": "white",
            "linecolor": "white",
            "ticks": ""
           },
           "bgcolor": "#E5ECF6",
           "radialaxis": {
            "gridcolor": "white",
            "linecolor": "white",
            "ticks": ""
           }
          },
          "scene": {
           "xaxis": {
            "backgroundcolor": "#E5ECF6",
            "gridcolor": "white",
            "gridwidth": 2,
            "linecolor": "white",
            "showbackground": true,
            "ticks": "",
            "zerolinecolor": "white"
           },
           "yaxis": {
            "backgroundcolor": "#E5ECF6",
            "gridcolor": "white",
            "gridwidth": 2,
            "linecolor": "white",
            "showbackground": true,
            "ticks": "",
            "zerolinecolor": "white"
           },
           "zaxis": {
            "backgroundcolor": "#E5ECF6",
            "gridcolor": "white",
            "gridwidth": 2,
            "linecolor": "white",
            "showbackground": true,
            "ticks": "",
            "zerolinecolor": "white"
           }
          },
          "shapedefaults": {
           "line": {
            "color": "#2a3f5f"
           }
          },
          "ternary": {
           "aaxis": {
            "gridcolor": "white",
            "linecolor": "white",
            "ticks": ""
           },
           "baxis": {
            "gridcolor": "white",
            "linecolor": "white",
            "ticks": ""
           },
           "bgcolor": "#E5ECF6",
           "caxis": {
            "gridcolor": "white",
            "linecolor": "white",
            "ticks": ""
           }
          },
          "title": {
           "x": 0.05
          },
          "xaxis": {
           "automargin": true,
           "gridcolor": "white",
           "linecolor": "white",
           "ticks": "",
           "title": {
            "standoff": 15
           },
           "zerolinecolor": "white",
           "zerolinewidth": 2
          },
          "yaxis": {
           "automargin": true,
           "gridcolor": "white",
           "linecolor": "white",
           "ticks": "",
           "title": {
            "standoff": 15
           },
           "zerolinecolor": "white",
           "zerolinewidth": 2
          }
         }
        },
        "title": {
         "text": "Avergae MASE at each level in the time series hierarchy"
        }
       }
      },
      "text/html": [
       "<div>                            <div id=\"15a569aa-4bc7-4b24-8e13-09dff5e83238\" class=\"plotly-graph-div\" style=\"height:525px; width:100%;\"></div>            <script type=\"text/javascript\">                require([\"plotly\"], function(Plotly) {                    window.PLOTLYENV=window.PLOTLYENV || {};                                    if (document.getElementById(\"15a569aa-4bc7-4b24-8e13-09dff5e83238\")) {                    Plotly.newPlot(                        \"15a569aa-4bc7-4b24-8e13-09dff5e83238\",                        [{\"name\": \"LSTM\", \"type\": \"bar\", \"x\": [\"Grid\", \"Transmission\", \"Substation\", \"PostCode\", \"Site\"], \"y\": [1.468234482294422, 1.2524748102053063, 1.0567580454460395, 0.8120909452654909, 0.8506744006868768]}, {\"name\": \"Convolutions\", \"type\": \"bar\", \"x\": [\"Grid\", \"Transmission\", \"Substation\", \"PostCode\", \"Site\"], \"y\": [1.150048520316879, 1.0928126119537562, 1.018148633128875, 1.298835473798869, 1.2864611839710585]}],                        {\"barmode\": \"group\", \"template\": {\"data\": {\"bar\": [{\"error_x\": {\"color\": \"#2a3f5f\"}, \"error_y\": {\"color\": \"#2a3f5f\"}, \"marker\": {\"line\": {\"color\": \"#E5ECF6\", \"width\": 0.5}}, \"type\": \"bar\"}], \"barpolar\": [{\"marker\": {\"line\": {\"color\": \"#E5ECF6\", \"width\": 0.5}}, \"type\": \"barpolar\"}], \"carpet\": [{\"aaxis\": {\"endlinecolor\": \"#2a3f5f\", \"gridcolor\": \"white\", \"linecolor\": \"white\", \"minorgridcolor\": \"white\", \"startlinecolor\": \"#2a3f5f\"}, \"baxis\": {\"endlinecolor\": \"#2a3f5f\", \"gridcolor\": \"white\", \"linecolor\": \"white\", \"minorgridcolor\": \"white\", \"startlinecolor\": \"#2a3f5f\"}, \"type\": \"carpet\"}], \"choropleth\": [{\"colorbar\": {\"outlinewidth\": 0, \"ticks\": \"\"}, \"type\": \"choropleth\"}], \"contour\": [{\"colorbar\": {\"outlinewidth\": 0, \"ticks\": \"\"}, \"colorscale\": [[0.0, \"#0d0887\"], [0.1111111111111111, \"#46039f\"], [0.2222222222222222, \"#7201a8\"], [0.3333333333333333, \"#9c179e\"], [0.4444444444444444, \"#bd3786\"], [0.5555555555555556, \"#d8576b\"], [0.6666666666666666, \"#ed7953\"], [0.7777777777777778, \"#fb9f3a\"], [0.8888888888888888, \"#fdca26\"], [1.0, \"#f0f921\"]], \"type\": \"contour\"}], \"contourcarpet\": [{\"colorbar\": {\"outlinewidth\": 0, \"ticks\": \"\"}, \"type\": \"contourcarpet\"}], \"heatmap\": [{\"colorbar\": {\"outlinewidth\": 0, \"ticks\": \"\"}, \"colorscale\": [[0.0, \"#0d0887\"], [0.1111111111111111, \"#46039f\"], [0.2222222222222222, \"#7201a8\"], [0.3333333333333333, \"#9c179e\"], [0.4444444444444444, \"#bd3786\"], [0.5555555555555556, \"#d8576b\"], [0.6666666666666666, \"#ed7953\"], [0.7777777777777778, \"#fb9f3a\"], [0.8888888888888888, \"#fdca26\"], [1.0, \"#f0f921\"]], \"type\": \"heatmap\"}], \"heatmapgl\": [{\"colorbar\": {\"outlinewidth\": 0, \"ticks\": \"\"}, \"colorscale\": [[0.0, \"#0d0887\"], [0.1111111111111111, \"#46039f\"], [0.2222222222222222, \"#7201a8\"], [0.3333333333333333, \"#9c179e\"], [0.4444444444444444, \"#bd3786\"], [0.5555555555555556, \"#d8576b\"], [0.6666666666666666, \"#ed7953\"], [0.7777777777777778, \"#fb9f3a\"], [0.8888888888888888, \"#fdca26\"], [1.0, \"#f0f921\"]], \"type\": \"heatmapgl\"}], \"histogram\": [{\"marker\": {\"colorbar\": {\"outlinewidth\": 0, \"ticks\": \"\"}}, \"type\": \"histogram\"}], \"histogram2d\": [{\"colorbar\": {\"outlinewidth\": 0, \"ticks\": \"\"}, \"colorscale\": [[0.0, \"#0d0887\"], [0.1111111111111111, \"#46039f\"], [0.2222222222222222, \"#7201a8\"], [0.3333333333333333, \"#9c179e\"], [0.4444444444444444, \"#bd3786\"], [0.5555555555555556, \"#d8576b\"], [0.6666666666666666, \"#ed7953\"], [0.7777777777777778, \"#fb9f3a\"], [0.8888888888888888, \"#fdca26\"], [1.0, \"#f0f921\"]], \"type\": \"histogram2d\"}], \"histogram2dcontour\": [{\"colorbar\": {\"outlinewidth\": 0, \"ticks\": \"\"}, \"colorscale\": [[0.0, \"#0d0887\"], [0.1111111111111111, \"#46039f\"], [0.2222222222222222, \"#7201a8\"], [0.3333333333333333, \"#9c179e\"], [0.4444444444444444, \"#bd3786\"], [0.5555555555555556, \"#d8576b\"], [0.6666666666666666, \"#ed7953\"], [0.7777777777777778, \"#fb9f3a\"], [0.8888888888888888, \"#fdca26\"], [1.0, \"#f0f921\"]], \"type\": \"histogram2dcontour\"}], \"mesh3d\": [{\"colorbar\": {\"outlinewidth\": 0, \"ticks\": \"\"}, \"type\": \"mesh3d\"}], \"parcoords\": [{\"line\": {\"colorbar\": {\"outlinewidth\": 0, \"ticks\": \"\"}}, \"type\": \"parcoords\"}], \"pie\": [{\"automargin\": true, \"type\": \"pie\"}], \"scatter\": [{\"marker\": {\"colorbar\": {\"outlinewidth\": 0, \"ticks\": \"\"}}, \"type\": \"scatter\"}], \"scatter3d\": [{\"line\": {\"colorbar\": {\"outlinewidth\": 0, \"ticks\": \"\"}}, \"marker\": {\"colorbar\": {\"outlinewidth\": 0, \"ticks\": \"\"}}, \"type\": \"scatter3d\"}], \"scattercarpet\": [{\"marker\": {\"colorbar\": {\"outlinewidth\": 0, \"ticks\": \"\"}}, \"type\": \"scattercarpet\"}], \"scattergeo\": [{\"marker\": {\"colorbar\": {\"outlinewidth\": 0, \"ticks\": \"\"}}, \"type\": \"scattergeo\"}], \"scattergl\": [{\"marker\": {\"colorbar\": {\"outlinewidth\": 0, \"ticks\": \"\"}}, \"type\": \"scattergl\"}], \"scattermapbox\": [{\"marker\": {\"colorbar\": {\"outlinewidth\": 0, \"ticks\": \"\"}}, \"type\": \"scattermapbox\"}], \"scatterpolar\": [{\"marker\": {\"colorbar\": {\"outlinewidth\": 0, \"ticks\": \"\"}}, \"type\": \"scatterpolar\"}], \"scatterpolargl\": [{\"marker\": {\"colorbar\": {\"outlinewidth\": 0, \"ticks\": \"\"}}, \"type\": \"scatterpolargl\"}], \"scatterternary\": [{\"marker\": {\"colorbar\": {\"outlinewidth\": 0, \"ticks\": \"\"}}, \"type\": \"scatterternary\"}], \"surface\": [{\"colorbar\": {\"outlinewidth\": 0, \"ticks\": \"\"}, \"colorscale\": [[0.0, \"#0d0887\"], [0.1111111111111111, \"#46039f\"], [0.2222222222222222, \"#7201a8\"], [0.3333333333333333, \"#9c179e\"], [0.4444444444444444, \"#bd3786\"], [0.5555555555555556, \"#d8576b\"], [0.6666666666666666, \"#ed7953\"], [0.7777777777777778, \"#fb9f3a\"], [0.8888888888888888, \"#fdca26\"], [1.0, \"#f0f921\"]], \"type\": \"surface\"}], \"table\": [{\"cells\": {\"fill\": {\"color\": \"#EBF0F8\"}, \"line\": {\"color\": \"white\"}}, \"header\": {\"fill\": {\"color\": \"#C8D4E3\"}, \"line\": {\"color\": \"white\"}}, \"type\": \"table\"}]}, \"layout\": {\"annotationdefaults\": {\"arrowcolor\": \"#2a3f5f\", \"arrowhead\": 0, \"arrowwidth\": 1}, \"autotypenumbers\": \"strict\", \"coloraxis\": {\"colorbar\": {\"outlinewidth\": 0, \"ticks\": \"\"}}, \"colorscale\": {\"diverging\": [[0, \"#8e0152\"], [0.1, \"#c51b7d\"], [0.2, \"#de77ae\"], [0.3, \"#f1b6da\"], [0.4, \"#fde0ef\"], [0.5, \"#f7f7f7\"], [0.6, \"#e6f5d0\"], [0.7, \"#b8e186\"], [0.8, \"#7fbc41\"], [0.9, \"#4d9221\"], [1, \"#276419\"]], \"sequential\": [[0.0, \"#0d0887\"], [0.1111111111111111, \"#46039f\"], [0.2222222222222222, \"#7201a8\"], [0.3333333333333333, \"#9c179e\"], [0.4444444444444444, \"#bd3786\"], [0.5555555555555556, \"#d8576b\"], [0.6666666666666666, \"#ed7953\"], [0.7777777777777778, \"#fb9f3a\"], [0.8888888888888888, \"#fdca26\"], [1.0, \"#f0f921\"]], \"sequentialminus\": [[0.0, \"#0d0887\"], [0.1111111111111111, \"#46039f\"], [0.2222222222222222, \"#7201a8\"], [0.3333333333333333, \"#9c179e\"], [0.4444444444444444, \"#bd3786\"], [0.5555555555555556, \"#d8576b\"], [0.6666666666666666, \"#ed7953\"], [0.7777777777777778, \"#fb9f3a\"], [0.8888888888888888, \"#fdca26\"], [1.0, \"#f0f921\"]]}, \"colorway\": [\"#636efa\", \"#EF553B\", \"#00cc96\", \"#ab63fa\", \"#FFA15A\", \"#19d3f3\", \"#FF6692\", \"#B6E880\", \"#FF97FF\", \"#FECB52\"], \"font\": {\"color\": \"#2a3f5f\"}, \"geo\": {\"bgcolor\": \"white\", \"lakecolor\": \"white\", \"landcolor\": \"#E5ECF6\", \"showlakes\": true, \"showland\": true, \"subunitcolor\": \"white\"}, \"hoverlabel\": {\"align\": \"left\"}, \"hovermode\": \"closest\", \"mapbox\": {\"style\": \"light\"}, \"paper_bgcolor\": \"white\", \"plot_bgcolor\": \"#E5ECF6\", \"polar\": {\"angularaxis\": {\"gridcolor\": \"white\", \"linecolor\": \"white\", \"ticks\": \"\"}, \"bgcolor\": \"#E5ECF6\", \"radialaxis\": {\"gridcolor\": \"white\", \"linecolor\": \"white\", \"ticks\": \"\"}}, \"scene\": {\"xaxis\": {\"backgroundcolor\": \"#E5ECF6\", \"gridcolor\": \"white\", \"gridwidth\": 2, \"linecolor\": \"white\", \"showbackground\": true, \"ticks\": \"\", \"zerolinecolor\": \"white\"}, \"yaxis\": {\"backgroundcolor\": \"#E5ECF6\", \"gridcolor\": \"white\", \"gridwidth\": 2, \"linecolor\": \"white\", \"showbackground\": true, \"ticks\": \"\", \"zerolinecolor\": \"white\"}, \"zaxis\": {\"backgroundcolor\": \"#E5ECF6\", \"gridcolor\": \"white\", \"gridwidth\": 2, \"linecolor\": \"white\", \"showbackground\": true, \"ticks\": \"\", \"zerolinecolor\": \"white\"}}, \"shapedefaults\": {\"line\": {\"color\": \"#2a3f5f\"}}, \"ternary\": {\"aaxis\": {\"gridcolor\": \"white\", \"linecolor\": \"white\", \"ticks\": \"\"}, \"baxis\": {\"gridcolor\": \"white\", \"linecolor\": \"white\", \"ticks\": \"\"}, \"bgcolor\": \"#E5ECF6\", \"caxis\": {\"gridcolor\": \"white\", \"linecolor\": \"white\", \"ticks\": \"\"}}, \"title\": {\"x\": 0.05}, \"xaxis\": {\"automargin\": true, \"gridcolor\": \"white\", \"linecolor\": \"white\", \"ticks\": \"\", \"title\": {\"standoff\": 15}, \"zerolinecolor\": \"white\", \"zerolinewidth\": 2}, \"yaxis\": {\"automargin\": true, \"gridcolor\": \"white\", \"linecolor\": \"white\", \"ticks\": \"\", \"title\": {\"standoff\": 15}, \"zerolinecolor\": \"white\", \"zerolinewidth\": 2}}}, \"title\": {\"text\": \"Avergae MASE at each level in the time series hierarchy\"}},                        {\"responsive\": true}                    ).then(function(){\n",
       "                            \n",
       "var gd = document.getElementById('15a569aa-4bc7-4b24-8e13-09dff5e83238');\n",
       "var x = new MutationObserver(function (mutations, observer) {{\n",
       "        var display = window.getComputedStyle(gd).display;\n",
       "        if (!display || display === 'none') {{\n",
       "            console.log([gd, 'removed!']);\n",
       "            Plotly.purge(gd);\n",
       "            observer.disconnect();\n",
       "        }}\n",
       "}});\n",
       "\n",
       "// Listen for the removal of the full notebook cells\n",
       "var notebookContainer = gd.closest('#notebook-container');\n",
       "if (notebookContainer) {{\n",
       "    x.observe(notebookContainer, {childList: true});\n",
       "}}\n",
       "\n",
       "// Listen for the clearing of the current output cell\n",
       "var outputEl = gd.closest('.output');\n",
       "if (outputEl) {{\n",
       "    x.observe(outputEl, {childList: true});\n",
       "}}\n",
       "\n",
       "                        })                };                });            </script>        </div>"
      ]
     },
     "metadata": {},
     "output_type": "display_data"
    }
   ],
   "source": [
    "x_vals = ['Grid', 'Transmission', 'Substation', 'PostCode', 'Site']\n",
    "fig = go.Figure(data=[\n",
    "    go.Bar(name='LSTM', x=x_vals, y=level_results_lstm),\n",
    "    go.Bar(name='Convolutions', x=x_vals, y=level_results_tcn)\n",
    "])\n",
    "# Change the bar mode\n",
    "fig.update_layout(barmode='group')\n",
    "fig.update_layout(title='Avergae MASE at each level in the time series hierarchy')\n",
    "fig.show()"
   ]
  },
  {
   "cell_type": "markdown",
   "metadata": {},
   "source": [
    "## Grid level Forecasts"
   ]
  },
  {
   "cell_type": "code",
   "execution_count": 9,
   "metadata": {},
   "outputs": [],
   "source": [
    "def sum_fc_results(ts_array, model_path):\n",
    "    dfs = []\n",
    "    for ts in ts_array:\n",
    "        ts_fc = pd.read_csv(f'../{model_path}/final_results/{ts}.csv', index_col=[0])[['average_fc']]\n",
    "        dfs.append(ts_fc)\n",
    "    concat_df = pd.concat(dfs, axis=1).sum(axis=1)\n",
    "    return concat_df"
   ]
  },
  {
   "cell_type": "code",
   "execution_count": 10,
   "metadata": {},
   "outputs": [],
   "source": [
    "def calculate_grid_error(start, end, model_path, error_metric):\n",
    "    if end == -1:\n",
    "        ts_array = const.TS[start: ]\n",
    "    else:\n",
    "        ts_array = const.TS[start: end]\n",
    "    data = pd.read_csv(f'../ts_data/grid.csv', index_col=[0])\n",
    "    look_back = 14 * 7  # 14 hours in to 7 days\n",
    "\n",
    "    # train, val, test split\n",
    "    train, val, test = util.split_hourly_data(data, look_back)\n",
    "    train_df = train[['power']]\n",
    "    denom = err.calculate_denom(train_df, const.H_SEASONALITY)\n",
    "    \n",
    "    results_df = pd.read_csv(f'../{model_path}/final_results/grid.csv', index_col=[0])\n",
    "    test_sample = results_df['power'].values\n",
    "    forecasts = sum_fc_results(ts_array, model_path).values\n",
    "    horizon = 14\n",
    "    \n",
    "    if error_metric == \"RMSE\":\n",
    "        mean_err, error_dist = err.test_errors_nrmse(train_df.values, test_sample, forecasts, horizon)\n",
    "    else:\n",
    "        mean_err, error_dist = err.test_errors(train_df, test_sample, forecasts, horizon, const.H_SEASONALITY, denom)\n",
    "        \n",
    "    return mean_err, error_dist"
   ]
  },
  {
   "cell_type": "code",
   "execution_count": 11,
   "metadata": {},
   "outputs": [],
   "source": [
    "def mase_grid(model_path, error_metric = \"MASE\"):\n",
    "    level_mase = []\n",
    "    level_mase_dist = {}\n",
    "    grid_mase, grid_dist = calculate_grid_error(0, 1, model_path, error_metric)\n",
    "    tl_mase, tl_dist = calculate_grid_error(1, 3, model_path, error_metric)\n",
    "    sub_mase, sub_dist = calculate_grid_error(3, 7, model_path, error_metric)\n",
    "    pc_mase, pc_dist = calculate_grid_error(7, 13, model_path, error_metric)\n",
    "    site_mase, site_dist = calculate_grid_error(13, -1, model_path, error_metric)\n",
    "    \n",
    "    level_mase.append(grid_mase)\n",
    "    level_mase.append(tl_mase)\n",
    "    level_mase.append(sub_mase)\n",
    "    level_mase.append(pc_mase)\n",
    "    level_mase.append(site_mase)\n",
    "    \n",
    "    \n",
    "    level_mase_dist['grid'] = grid_dist\n",
    "    level_mase_dist['tl'] = tl_dist\n",
    "    level_mase_dist['sub'] = sub_dist\n",
    "    level_mase_dist['pc'] = pc_dist\n",
    "    level_mase_dist['site'] = site_dist\n",
    "    \n",
    "    return level_mase, level_mase_dist"
   ]
  },
  {
   "cell_type": "code",
   "execution_count": 56,
   "metadata": {},
   "outputs": [],
   "source": [
    "grid_error_naive, grid_error_dist_naive = mase_grid('benchmark_results/naive')"
   ]
  },
  {
   "cell_type": "code",
   "execution_count": 57,
   "metadata": {},
   "outputs": [
    {
     "data": {
      "text/plain": [
       "[1.079391787981905,\n",
       " 1.079391787981905,\n",
       " 1.079391787981905,\n",
       " 1.079391787981905,\n",
       " 1.079391787981905]"
      ]
     },
     "execution_count": 57,
     "metadata": {},
     "output_type": "execute_result"
    }
   ],
   "source": [
    "grid_error_naive"
   ]
  },
  {
   "cell_type": "code",
   "execution_count": 58,
   "metadata": {},
   "outputs": [],
   "source": [
    "grid_error_naive_rmse, grid_error_dist_naive_rmse = mase_grid('benchmark_results/naive', \"RMSE\")"
   ]
  },
  {
   "cell_type": "code",
   "execution_count": 59,
   "metadata": {},
   "outputs": [
    {
     "data": {
      "text/plain": [
       "[0.3965041238428431,\n",
       " 0.3965041238428431,\n",
       " 0.3965041238428431,\n",
       " 0.39650412384284306,\n",
       " 0.39650412384284306]"
      ]
     },
     "execution_count": 59,
     "metadata": {},
     "output_type": "execute_result"
    }
   ],
   "source": [
    "grid_error_naive_rmse"
   ]
  },
  {
   "cell_type": "code",
   "execution_count": 60,
   "metadata": {},
   "outputs": [],
   "source": [
    "grid_error_arima, grid_error_dist_arima = mase_grid('benchmark_results/arima')"
   ]
  },
  {
   "cell_type": "code",
   "execution_count": 61,
   "metadata": {},
   "outputs": [
    {
     "data": {
      "text/plain": [
       "[1.0542174171354002,\n",
       " 1.023268311933142,\n",
       " 1.024157068352861,\n",
       " 0.929386914423518,\n",
       " 1.0084912706608253]"
      ]
     },
     "execution_count": 61,
     "metadata": {},
     "output_type": "execute_result"
    }
   ],
   "source": [
    "grid_error_arima"
   ]
  },
  {
   "cell_type": "code",
   "execution_count": 62,
   "metadata": {},
   "outputs": [],
   "source": [
    "grid_error_arima_rmse, grid_error_dist_arima_rmse = mase_grid('benchmark_results/arima', \"RMSE\")"
   ]
  },
  {
   "cell_type": "code",
   "execution_count": 63,
   "metadata": {},
   "outputs": [
    {
     "data": {
      "text/plain": [
       "[0.3604885973574808,\n",
       " 0.34673791723819,\n",
       " 0.3472883436134808,\n",
       " 0.31814541816116665,\n",
       " 0.3358448691063564]"
      ]
     },
     "execution_count": 63,
     "metadata": {},
     "output_type": "execute_result"
    }
   ],
   "source": [
    "grid_error_arima_rmse"
   ]
  },
  {
   "cell_type": "code",
   "execution_count": 64,
   "metadata": {},
   "outputs": [],
   "source": [
    "grid_error_tbats, grid_error_dist_tbats = mase_grid('benchmark_results/tbats')"
   ]
  },
  {
   "cell_type": "code",
   "execution_count": 65,
   "metadata": {},
   "outputs": [
    {
     "data": {
      "text/plain": [
       "[1.8748277728587728,\n",
       " 1.7491129158069132,\n",
       " 1.706391431091947,\n",
       " 1.5437416506766872,\n",
       " 1.683218533714503]"
      ]
     },
     "execution_count": 65,
     "metadata": {},
     "output_type": "execute_result"
    }
   ],
   "source": [
    "grid_error_tbats"
   ]
  },
  {
   "cell_type": "code",
   "execution_count": 66,
   "metadata": {},
   "outputs": [],
   "source": [
    "grid_error_tbats_rmse, grid_error_dist_tbats_rmse = mase_grid('benchmark_results/tbats', \"RMSE\")"
   ]
  },
  {
   "cell_type": "code",
   "execution_count": 67,
   "metadata": {},
   "outputs": [
    {
     "data": {
      "text/plain": [
       "[0.568815440036228,\n",
       " 0.5301626039525603,\n",
       " 0.5172115824644526,\n",
       " 0.4796227263138744,\n",
       " 0.512242338766708]"
      ]
     },
     "execution_count": 67,
     "metadata": {},
     "output_type": "execute_result"
    }
   ],
   "source": [
    "grid_error_tbats_rmse"
   ]
  },
  {
   "cell_type": "code",
   "execution_count": 68,
   "metadata": {},
   "outputs": [],
   "source": [
    "grid_error_prophet, grid_error_dist_prophet = mase_grid('benchmark_results/prophet')"
   ]
  },
  {
   "cell_type": "code",
   "execution_count": 69,
   "metadata": {},
   "outputs": [
    {
     "data": {
      "text/plain": [
       "[1.962394493488318,\n",
       " 1.9665700550555816,\n",
       " 1.966532036884485,\n",
       " 1.0803983146720384,\n",
       " 1.0899355671492128]"
      ]
     },
     "execution_count": 69,
     "metadata": {},
     "output_type": "execute_result"
    }
   ],
   "source": [
    "grid_error_prophet"
   ]
  },
  {
   "cell_type": "code",
   "execution_count": 70,
   "metadata": {},
   "outputs": [],
   "source": [
    "grid_error_prophet2, grid_error_dist_prophet2 = mase_grid('benchmark_results/prophet_2')"
   ]
  },
  {
   "cell_type": "code",
   "execution_count": 71,
   "metadata": {},
   "outputs": [
    {
     "data": {
      "text/plain": [
       "[1.9616519408739086,\n",
       " 1.9663323075008177,\n",
       " 1.966214992364306,\n",
       " 1.076739346631657,\n",
       " 1.0865213639116051]"
      ]
     },
     "execution_count": 71,
     "metadata": {},
     "output_type": "execute_result"
    }
   ],
   "source": [
    "grid_error_prophet2"
   ]
  },
  {
   "cell_type": "code",
   "execution_count": 72,
   "metadata": {},
   "outputs": [],
   "source": [
    "grid_error_prophet_rmse, grid_error_dist_prophet_rmse = mase_grid('benchmark_results/prophet', \"RMSE\")"
   ]
  },
  {
   "cell_type": "code",
   "execution_count": 73,
   "metadata": {},
   "outputs": [
    {
     "data": {
      "text/plain": [
       "[0.589810259593252,\n",
       " 0.5913052140865176,\n",
       " 0.591272299547771,\n",
       " 0.3701723039131422,\n",
       " 0.37032535308201564]"
      ]
     },
     "execution_count": 73,
     "metadata": {},
     "output_type": "execute_result"
    }
   ],
   "source": [
    "grid_error_prophet_rmse"
   ]
  },
  {
   "cell_type": "code",
   "execution_count": 74,
   "metadata": {},
   "outputs": [],
   "source": [
    "grid_error_prophet2_rmse, grid_error_dist_prophet2_rmse = mase_grid('benchmark_results/prophet_2', \"RMSE\")"
   ]
  },
  {
   "cell_type": "code",
   "execution_count": 75,
   "metadata": {},
   "outputs": [
    {
     "data": {
      "text/plain": [
       "[0.5894616278192185,\n",
       " 0.5912752348094751,\n",
       " 0.5912942988749715,\n",
       " 0.37368530172319714,\n",
       " 0.3737810116341059]"
      ]
     },
     "execution_count": 75,
     "metadata": {},
     "output_type": "execute_result"
    }
   ],
   "source": [
    "grid_error_prophet2_rmse"
   ]
  },
  {
   "cell_type": "code",
   "execution_count": 76,
   "metadata": {},
   "outputs": [],
   "source": [
    "grid_error, grid_error_dist = mase_grid('lstm_results')"
   ]
  },
  {
   "cell_type": "code",
   "execution_count": 77,
   "metadata": {},
   "outputs": [
    {
     "data": {
      "text/plain": [
       "[1.4682344822944209,\n",
       " 1.4161838663439736,\n",
       " 1.3301243856811835,\n",
       " 1.1232270030823759,\n",
       " 1.0130934871185588]"
      ]
     },
     "execution_count": 77,
     "metadata": {},
     "output_type": "execute_result"
    }
   ],
   "source": [
    "grid_error"
   ]
  },
  {
   "cell_type": "code",
   "execution_count": 78,
   "metadata": {},
   "outputs": [],
   "source": [
    "grid_error_rmse, grid_error_dist_rmse = mase_grid('lstm_results', \"RMSE\")"
   ]
  },
  {
   "cell_type": "code",
   "execution_count": 79,
   "metadata": {},
   "outputs": [],
   "source": [
    "# grid_error_lstm2, grid_error_dist_lstm2 = mase_grid('dnn_results/lstm')"
   ]
  },
  {
   "cell_type": "code",
   "execution_count": 80,
   "metadata": {},
   "outputs": [],
   "source": [
    "# grid_error_lstm2"
   ]
  },
  {
   "cell_type": "code",
   "execution_count": 81,
   "metadata": {},
   "outputs": [],
   "source": [
    "# grid_error_tcn, grid_error_dist_tcn = mase_grid('cnn_results/tcn')\n",
    "\n",
    "grid_error_tcn, grid_error_dist_tcn = mase_grid('cnn_results/tcn_new/dilation_2')"
   ]
  },
  {
   "cell_type": "code",
   "execution_count": 82,
   "metadata": {},
   "outputs": [
    {
     "data": {
      "text/plain": [
       "[1.150048520316878,\n",
       " 1.1694360905458727,\n",
       " 1.1717213662474213,\n",
       " 1.198340986831758,\n",
       " 1.1695815390243385]"
      ]
     },
     "execution_count": 82,
     "metadata": {},
     "output_type": "execute_result"
    }
   ],
   "source": [
    "grid_error_tcn"
   ]
  },
  {
   "cell_type": "code",
   "execution_count": 83,
   "metadata": {},
   "outputs": [],
   "source": [
    "grid_error_tcn_rmse, grid_error_dist_tcn_rmse = mase_grid('cnn_results/tcn_new/dilation_2', \"RMSE\")"
   ]
  },
  {
   "cell_type": "code",
   "execution_count": 84,
   "metadata": {},
   "outputs": [],
   "source": [
    "# grid_error_tcn"
   ]
  },
  {
   "cell_type": "code",
   "execution_count": 85,
   "metadata": {},
   "outputs": [],
   "source": [
    "def get_df_method(error_list, method):\n",
    "    df = pd.DataFrame(error_list).transpose()\n",
    "    df.columns = ['Grid', 'TL - Aggregated', 'SUB - Aggregated', 'PC - Aggregated', 'Site - Aggregated']\n",
    "    df.index = [method]\n",
    "    return df"
   ]
  },
  {
   "cell_type": "code",
   "execution_count": 86,
   "metadata": {},
   "outputs": [],
   "source": [
    "lstm = get_df_method(grid_error, \"LSTM\")\n",
    "tcn = get_df_method(grid_error_tcn, \"CNN\")\n",
    "arima = get_df_method(grid_error_arima, \"ARIMA\")\n",
    "tbats = get_df_method(grid_error_tbats, \"TBATS\")\n",
    "prophet = get_df_method(grid_error_prophet, \"PROPHET\")\n",
    "naive = get_df_method(grid_error_naive, \"NAIVE\")\n",
    "\n",
    "mase_final_results = pd.concat([naive, arima, tbats, prophet, tcn, lstm])"
   ]
  },
  {
   "cell_type": "code",
   "execution_count": 87,
   "metadata": {},
   "outputs": [
    {
     "data": {
      "text/html": [
       "<div>\n",
       "<style scoped>\n",
       "    .dataframe tbody tr th:only-of-type {\n",
       "        vertical-align: middle;\n",
       "    }\n",
       "\n",
       "    .dataframe tbody tr th {\n",
       "        vertical-align: top;\n",
       "    }\n",
       "\n",
       "    .dataframe thead th {\n",
       "        text-align: right;\n",
       "    }\n",
       "</style>\n",
       "<table border=\"1\" class=\"dataframe\">\n",
       "  <thead>\n",
       "    <tr style=\"text-align: right;\">\n",
       "      <th></th>\n",
       "      <th>Grid</th>\n",
       "      <th>TL - Aggregated</th>\n",
       "      <th>SUB - Aggregated</th>\n",
       "      <th>PC - Aggregated</th>\n",
       "      <th>Site - Aggregated</th>\n",
       "    </tr>\n",
       "  </thead>\n",
       "  <tbody>\n",
       "    <tr>\n",
       "      <th>NAIVE</th>\n",
       "      <td>1.079392</td>\n",
       "      <td>1.079392</td>\n",
       "      <td>1.079392</td>\n",
       "      <td>1.079392</td>\n",
       "      <td>1.079392</td>\n",
       "    </tr>\n",
       "    <tr>\n",
       "      <th>ARIMA</th>\n",
       "      <td>1.054217</td>\n",
       "      <td>1.023268</td>\n",
       "      <td>1.024157</td>\n",
       "      <td>0.929387</td>\n",
       "      <td>1.008491</td>\n",
       "    </tr>\n",
       "    <tr>\n",
       "      <th>TBATS</th>\n",
       "      <td>1.874828</td>\n",
       "      <td>1.749113</td>\n",
       "      <td>1.706391</td>\n",
       "      <td>1.543742</td>\n",
       "      <td>1.683219</td>\n",
       "    </tr>\n",
       "    <tr>\n",
       "      <th>PROPHET</th>\n",
       "      <td>1.962394</td>\n",
       "      <td>1.966570</td>\n",
       "      <td>1.966532</td>\n",
       "      <td>1.080398</td>\n",
       "      <td>1.089936</td>\n",
       "    </tr>\n",
       "    <tr>\n",
       "      <th>CNN</th>\n",
       "      <td>1.150049</td>\n",
       "      <td>1.169436</td>\n",
       "      <td>1.171721</td>\n",
       "      <td>1.198341</td>\n",
       "      <td>1.169582</td>\n",
       "    </tr>\n",
       "    <tr>\n",
       "      <th>LSTM</th>\n",
       "      <td>1.468234</td>\n",
       "      <td>1.416184</td>\n",
       "      <td>1.330124</td>\n",
       "      <td>1.123227</td>\n",
       "      <td>1.013093</td>\n",
       "    </tr>\n",
       "  </tbody>\n",
       "</table>\n",
       "</div>"
      ],
      "text/plain": [
       "             Grid  TL - Aggregated  SUB - Aggregated  PC - Aggregated  \\\n",
       "NAIVE    1.079392         1.079392          1.079392         1.079392   \n",
       "ARIMA    1.054217         1.023268          1.024157         0.929387   \n",
       "TBATS    1.874828         1.749113          1.706391         1.543742   \n",
       "PROPHET  1.962394         1.966570          1.966532         1.080398   \n",
       "CNN      1.150049         1.169436          1.171721         1.198341   \n",
       "LSTM     1.468234         1.416184          1.330124         1.123227   \n",
       "\n",
       "         Site - Aggregated  \n",
       "NAIVE             1.079392  \n",
       "ARIMA             1.008491  \n",
       "TBATS             1.683219  \n",
       "PROPHET           1.089936  \n",
       "CNN               1.169582  \n",
       "LSTM              1.013093  "
      ]
     },
     "execution_count": 87,
     "metadata": {},
     "output_type": "execute_result"
    }
   ],
   "source": [
    "mase_final_results"
   ]
  },
  {
   "cell_type": "code",
   "execution_count": 88,
   "metadata": {},
   "outputs": [],
   "source": [
    "mase_final_results.to_csv('mase_results.csv')"
   ]
  },
  {
   "cell_type": "code",
   "execution_count": 89,
   "metadata": {},
   "outputs": [
    {
     "data": {
      "text/html": [
       "<div>\n",
       "<style scoped>\n",
       "    .dataframe tbody tr th:only-of-type {\n",
       "        vertical-align: middle;\n",
       "    }\n",
       "\n",
       "    .dataframe tbody tr th {\n",
       "        vertical-align: top;\n",
       "    }\n",
       "\n",
       "    .dataframe thead th {\n",
       "        text-align: right;\n",
       "    }\n",
       "</style>\n",
       "<table border=\"1\" class=\"dataframe\">\n",
       "  <thead>\n",
       "    <tr style=\"text-align: right;\">\n",
       "      <th></th>\n",
       "      <th>Grid</th>\n",
       "      <th>TL - Aggregated</th>\n",
       "      <th>SUB - Aggregated</th>\n",
       "      <th>PC - Aggregated</th>\n",
       "      <th>Site - Aggregated</th>\n",
       "    </tr>\n",
       "  </thead>\n",
       "  <tbody>\n",
       "    <tr>\n",
       "      <th>NAIVE</th>\n",
       "      <td>0.396504</td>\n",
       "      <td>0.396504</td>\n",
       "      <td>0.396504</td>\n",
       "      <td>0.396504</td>\n",
       "      <td>0.396504</td>\n",
       "    </tr>\n",
       "    <tr>\n",
       "      <th>ARIMA</th>\n",
       "      <td>0.360489</td>\n",
       "      <td>0.346738</td>\n",
       "      <td>0.347288</td>\n",
       "      <td>0.318145</td>\n",
       "      <td>0.335845</td>\n",
       "    </tr>\n",
       "    <tr>\n",
       "      <th>TBATS</th>\n",
       "      <td>0.568815</td>\n",
       "      <td>0.530163</td>\n",
       "      <td>0.517212</td>\n",
       "      <td>0.479623</td>\n",
       "      <td>0.512242</td>\n",
       "    </tr>\n",
       "    <tr>\n",
       "      <th>PROPHET</th>\n",
       "      <td>0.589810</td>\n",
       "      <td>0.591305</td>\n",
       "      <td>0.591272</td>\n",
       "      <td>0.370172</td>\n",
       "      <td>0.370325</td>\n",
       "    </tr>\n",
       "    <tr>\n",
       "      <th>CNN</th>\n",
       "      <td>0.377380</td>\n",
       "      <td>0.381484</td>\n",
       "      <td>0.382066</td>\n",
       "      <td>0.390473</td>\n",
       "      <td>0.377843</td>\n",
       "    </tr>\n",
       "    <tr>\n",
       "      <th>LSTM</th>\n",
       "      <td>0.470390</td>\n",
       "      <td>0.462867</td>\n",
       "      <td>0.434332</td>\n",
       "      <td>0.358289</td>\n",
       "      <td>0.332991</td>\n",
       "    </tr>\n",
       "  </tbody>\n",
       "</table>\n",
       "</div>"
      ],
      "text/plain": [
       "             Grid  TL - Aggregated  SUB - Aggregated  PC - Aggregated  \\\n",
       "NAIVE    0.396504         0.396504          0.396504         0.396504   \n",
       "ARIMA    0.360489         0.346738          0.347288         0.318145   \n",
       "TBATS    0.568815         0.530163          0.517212         0.479623   \n",
       "PROPHET  0.589810         0.591305          0.591272         0.370172   \n",
       "CNN      0.377380         0.381484          0.382066         0.390473   \n",
       "LSTM     0.470390         0.462867          0.434332         0.358289   \n",
       "\n",
       "         Site - Aggregated  \n",
       "NAIVE             0.396504  \n",
       "ARIMA             0.335845  \n",
       "TBATS             0.512242  \n",
       "PROPHET           0.370325  \n",
       "CNN               0.377843  \n",
       "LSTM              0.332991  "
      ]
     },
     "execution_count": 89,
     "metadata": {},
     "output_type": "execute_result"
    }
   ],
   "source": [
    "lstm = get_df_method(grid_error_rmse, \"LSTM\")\n",
    "tcn = get_df_method(grid_error_tcn_rmse, \"CNN\")\n",
    "arima = get_df_method(grid_error_arima_rmse, \"ARIMA\")\n",
    "tbats = get_df_method(grid_error_tbats_rmse, \"TBATS\")\n",
    "prophet = get_df_method(grid_error_prophet_rmse, \"PROPHET\")\n",
    "naive = get_df_method(grid_error_naive_rmse, \"NAIVE\")\n",
    "\n",
    "nrmse_final_results = pd.concat([naive, arima, tbats, prophet, tcn, lstm])\n",
    "nrmse_final_results"
   ]
  },
  {
   "cell_type": "code",
   "execution_count": 90,
   "metadata": {},
   "outputs": [],
   "source": [
    "nrmse_final_results.to_csv('nrmse_results.csv')"
   ]
  },
  {
   "cell_type": "code",
   "execution_count": 91,
   "metadata": {},
   "outputs": [
    {
     "data": {
      "application/vnd.plotly.v1+json": {
       "config": {
        "plotlyServerURL": "https://plot.ly"
       },
       "data": [
        {
         "name": "Using grid level time series",
         "type": "scatter",
         "x": [
          "NAIVE",
          "ARIMA",
          "TBATS",
          "PROPHET",
          "CNN",
          "LSTM"
         ],
         "y": [
          0.3965041238428431,
          0.3604885973574808,
          0.568815440036228,
          0.589810259593252,
          0.377380092919877,
          0.4703903558856143
         ]
        },
        {
         "name": "Using transmission Zone level time series",
         "type": "scatter",
         "x": [
          "NAIVE",
          "ARIMA",
          "TBATS",
          "PROPHET",
          "CNN",
          "LSTM"
         ],
         "y": [
          0.3965041238428431,
          0.34673791723819,
          0.5301626039525603,
          0.5913052140865176,
          0.38148387426162045,
          0.4628670441309045
         ]
        },
        {
         "name": "Using substation level time series",
         "type": "scatter",
         "x": [
          "NAIVE",
          "ARIMA",
          "TBATS",
          "PROPHET",
          "CNN",
          "LSTM"
         ],
         "y": [
          0.3965041238428431,
          0.3472883436134808,
          0.5172115824644526,
          0.591272299547771,
          0.38206648791517106,
          0.43433249218710446
         ]
        },
        {
         "name": "Using postcode level time series",
         "type": "scatter",
         "x": [
          "NAIVE",
          "ARIMA",
          "TBATS",
          "PROPHET",
          "CNN",
          "LSTM"
         ],
         "y": [
          0.39650412384284306,
          0.31814541816116665,
          0.4796227263138744,
          0.3701723039131422,
          0.39047288944725306,
          0.35828865085204664
         ]
        },
        {
         "name": "Using site level time series",
         "type": "scatter",
         "x": [
          "NAIVE",
          "ARIMA",
          "TBATS",
          "PROPHET",
          "CNN",
          "LSTM"
         ],
         "y": [
          0.39650412384284306,
          0.3358448691063564,
          0.512242338766708,
          0.37032535308201564,
          0.37784276340728884,
          0.33299125289067605
         ]
        }
       ],
       "layout": {
        "template": {
         "data": {
          "bar": [
           {
            "error_x": {
             "color": "#2a3f5f"
            },
            "error_y": {
             "color": "#2a3f5f"
            },
            "marker": {
             "line": {
              "color": "#E5ECF6",
              "width": 0.5
             }
            },
            "type": "bar"
           }
          ],
          "barpolar": [
           {
            "marker": {
             "line": {
              "color": "#E5ECF6",
              "width": 0.5
             }
            },
            "type": "barpolar"
           }
          ],
          "carpet": [
           {
            "aaxis": {
             "endlinecolor": "#2a3f5f",
             "gridcolor": "white",
             "linecolor": "white",
             "minorgridcolor": "white",
             "startlinecolor": "#2a3f5f"
            },
            "baxis": {
             "endlinecolor": "#2a3f5f",
             "gridcolor": "white",
             "linecolor": "white",
             "minorgridcolor": "white",
             "startlinecolor": "#2a3f5f"
            },
            "type": "carpet"
           }
          ],
          "choropleth": [
           {
            "colorbar": {
             "outlinewidth": 0,
             "ticks": ""
            },
            "type": "choropleth"
           }
          ],
          "contour": [
           {
            "colorbar": {
             "outlinewidth": 0,
             "ticks": ""
            },
            "colorscale": [
             [
              0,
              "#0d0887"
             ],
             [
              0.1111111111111111,
              "#46039f"
             ],
             [
              0.2222222222222222,
              "#7201a8"
             ],
             [
              0.3333333333333333,
              "#9c179e"
             ],
             [
              0.4444444444444444,
              "#bd3786"
             ],
             [
              0.5555555555555556,
              "#d8576b"
             ],
             [
              0.6666666666666666,
              "#ed7953"
             ],
             [
              0.7777777777777778,
              "#fb9f3a"
             ],
             [
              0.8888888888888888,
              "#fdca26"
             ],
             [
              1,
              "#f0f921"
             ]
            ],
            "type": "contour"
           }
          ],
          "contourcarpet": [
           {
            "colorbar": {
             "outlinewidth": 0,
             "ticks": ""
            },
            "type": "contourcarpet"
           }
          ],
          "heatmap": [
           {
            "colorbar": {
             "outlinewidth": 0,
             "ticks": ""
            },
            "colorscale": [
             [
              0,
              "#0d0887"
             ],
             [
              0.1111111111111111,
              "#46039f"
             ],
             [
              0.2222222222222222,
              "#7201a8"
             ],
             [
              0.3333333333333333,
              "#9c179e"
             ],
             [
              0.4444444444444444,
              "#bd3786"
             ],
             [
              0.5555555555555556,
              "#d8576b"
             ],
             [
              0.6666666666666666,
              "#ed7953"
             ],
             [
              0.7777777777777778,
              "#fb9f3a"
             ],
             [
              0.8888888888888888,
              "#fdca26"
             ],
             [
              1,
              "#f0f921"
             ]
            ],
            "type": "heatmap"
           }
          ],
          "heatmapgl": [
           {
            "colorbar": {
             "outlinewidth": 0,
             "ticks": ""
            },
            "colorscale": [
             [
              0,
              "#0d0887"
             ],
             [
              0.1111111111111111,
              "#46039f"
             ],
             [
              0.2222222222222222,
              "#7201a8"
             ],
             [
              0.3333333333333333,
              "#9c179e"
             ],
             [
              0.4444444444444444,
              "#bd3786"
             ],
             [
              0.5555555555555556,
              "#d8576b"
             ],
             [
              0.6666666666666666,
              "#ed7953"
             ],
             [
              0.7777777777777778,
              "#fb9f3a"
             ],
             [
              0.8888888888888888,
              "#fdca26"
             ],
             [
              1,
              "#f0f921"
             ]
            ],
            "type": "heatmapgl"
           }
          ],
          "histogram": [
           {
            "marker": {
             "colorbar": {
              "outlinewidth": 0,
              "ticks": ""
             }
            },
            "type": "histogram"
           }
          ],
          "histogram2d": [
           {
            "colorbar": {
             "outlinewidth": 0,
             "ticks": ""
            },
            "colorscale": [
             [
              0,
              "#0d0887"
             ],
             [
              0.1111111111111111,
              "#46039f"
             ],
             [
              0.2222222222222222,
              "#7201a8"
             ],
             [
              0.3333333333333333,
              "#9c179e"
             ],
             [
              0.4444444444444444,
              "#bd3786"
             ],
             [
              0.5555555555555556,
              "#d8576b"
             ],
             [
              0.6666666666666666,
              "#ed7953"
             ],
             [
              0.7777777777777778,
              "#fb9f3a"
             ],
             [
              0.8888888888888888,
              "#fdca26"
             ],
             [
              1,
              "#f0f921"
             ]
            ],
            "type": "histogram2d"
           }
          ],
          "histogram2dcontour": [
           {
            "colorbar": {
             "outlinewidth": 0,
             "ticks": ""
            },
            "colorscale": [
             [
              0,
              "#0d0887"
             ],
             [
              0.1111111111111111,
              "#46039f"
             ],
             [
              0.2222222222222222,
              "#7201a8"
             ],
             [
              0.3333333333333333,
              "#9c179e"
             ],
             [
              0.4444444444444444,
              "#bd3786"
             ],
             [
              0.5555555555555556,
              "#d8576b"
             ],
             [
              0.6666666666666666,
              "#ed7953"
             ],
             [
              0.7777777777777778,
              "#fb9f3a"
             ],
             [
              0.8888888888888888,
              "#fdca26"
             ],
             [
              1,
              "#f0f921"
             ]
            ],
            "type": "histogram2dcontour"
           }
          ],
          "mesh3d": [
           {
            "colorbar": {
             "outlinewidth": 0,
             "ticks": ""
            },
            "type": "mesh3d"
           }
          ],
          "parcoords": [
           {
            "line": {
             "colorbar": {
              "outlinewidth": 0,
              "ticks": ""
             }
            },
            "type": "parcoords"
           }
          ],
          "pie": [
           {
            "automargin": true,
            "type": "pie"
           }
          ],
          "scatter": [
           {
            "marker": {
             "colorbar": {
              "outlinewidth": 0,
              "ticks": ""
             }
            },
            "type": "scatter"
           }
          ],
          "scatter3d": [
           {
            "line": {
             "colorbar": {
              "outlinewidth": 0,
              "ticks": ""
             }
            },
            "marker": {
             "colorbar": {
              "outlinewidth": 0,
              "ticks": ""
             }
            },
            "type": "scatter3d"
           }
          ],
          "scattercarpet": [
           {
            "marker": {
             "colorbar": {
              "outlinewidth": 0,
              "ticks": ""
             }
            },
            "type": "scattercarpet"
           }
          ],
          "scattergeo": [
           {
            "marker": {
             "colorbar": {
              "outlinewidth": 0,
              "ticks": ""
             }
            },
            "type": "scattergeo"
           }
          ],
          "scattergl": [
           {
            "marker": {
             "colorbar": {
              "outlinewidth": 0,
              "ticks": ""
             }
            },
            "type": "scattergl"
           }
          ],
          "scattermapbox": [
           {
            "marker": {
             "colorbar": {
              "outlinewidth": 0,
              "ticks": ""
             }
            },
            "type": "scattermapbox"
           }
          ],
          "scatterpolar": [
           {
            "marker": {
             "colorbar": {
              "outlinewidth": 0,
              "ticks": ""
             }
            },
            "type": "scatterpolar"
           }
          ],
          "scatterpolargl": [
           {
            "marker": {
             "colorbar": {
              "outlinewidth": 0,
              "ticks": ""
             }
            },
            "type": "scatterpolargl"
           }
          ],
          "scatterternary": [
           {
            "marker": {
             "colorbar": {
              "outlinewidth": 0,
              "ticks": ""
             }
            },
            "type": "scatterternary"
           }
          ],
          "surface": [
           {
            "colorbar": {
             "outlinewidth": 0,
             "ticks": ""
            },
            "colorscale": [
             [
              0,
              "#0d0887"
             ],
             [
              0.1111111111111111,
              "#46039f"
             ],
             [
              0.2222222222222222,
              "#7201a8"
             ],
             [
              0.3333333333333333,
              "#9c179e"
             ],
             [
              0.4444444444444444,
              "#bd3786"
             ],
             [
              0.5555555555555556,
              "#d8576b"
             ],
             [
              0.6666666666666666,
              "#ed7953"
             ],
             [
              0.7777777777777778,
              "#fb9f3a"
             ],
             [
              0.8888888888888888,
              "#fdca26"
             ],
             [
              1,
              "#f0f921"
             ]
            ],
            "type": "surface"
           }
          ],
          "table": [
           {
            "cells": {
             "fill": {
              "color": "#EBF0F8"
             },
             "line": {
              "color": "white"
             }
            },
            "header": {
             "fill": {
              "color": "#C8D4E3"
             },
             "line": {
              "color": "white"
             }
            },
            "type": "table"
           }
          ]
         },
         "layout": {
          "annotationdefaults": {
           "arrowcolor": "#2a3f5f",
           "arrowhead": 0,
           "arrowwidth": 1
          },
          "autotypenumbers": "strict",
          "coloraxis": {
           "colorbar": {
            "outlinewidth": 0,
            "ticks": ""
           }
          },
          "colorscale": {
           "diverging": [
            [
             0,
             "#8e0152"
            ],
            [
             0.1,
             "#c51b7d"
            ],
            [
             0.2,
             "#de77ae"
            ],
            [
             0.3,
             "#f1b6da"
            ],
            [
             0.4,
             "#fde0ef"
            ],
            [
             0.5,
             "#f7f7f7"
            ],
            [
             0.6,
             "#e6f5d0"
            ],
            [
             0.7,
             "#b8e186"
            ],
            [
             0.8,
             "#7fbc41"
            ],
            [
             0.9,
             "#4d9221"
            ],
            [
             1,
             "#276419"
            ]
           ],
           "sequential": [
            [
             0,
             "#0d0887"
            ],
            [
             0.1111111111111111,
             "#46039f"
            ],
            [
             0.2222222222222222,
             "#7201a8"
            ],
            [
             0.3333333333333333,
             "#9c179e"
            ],
            [
             0.4444444444444444,
             "#bd3786"
            ],
            [
             0.5555555555555556,
             "#d8576b"
            ],
            [
             0.6666666666666666,
             "#ed7953"
            ],
            [
             0.7777777777777778,
             "#fb9f3a"
            ],
            [
             0.8888888888888888,
             "#fdca26"
            ],
            [
             1,
             "#f0f921"
            ]
           ],
           "sequentialminus": [
            [
             0,
             "#0d0887"
            ],
            [
             0.1111111111111111,
             "#46039f"
            ],
            [
             0.2222222222222222,
             "#7201a8"
            ],
            [
             0.3333333333333333,
             "#9c179e"
            ],
            [
             0.4444444444444444,
             "#bd3786"
            ],
            [
             0.5555555555555556,
             "#d8576b"
            ],
            [
             0.6666666666666666,
             "#ed7953"
            ],
            [
             0.7777777777777778,
             "#fb9f3a"
            ],
            [
             0.8888888888888888,
             "#fdca26"
            ],
            [
             1,
             "#f0f921"
            ]
           ]
          },
          "colorway": [
           "#636efa",
           "#EF553B",
           "#00cc96",
           "#ab63fa",
           "#FFA15A",
           "#19d3f3",
           "#FF6692",
           "#B6E880",
           "#FF97FF",
           "#FECB52"
          ],
          "font": {
           "color": "#2a3f5f"
          },
          "geo": {
           "bgcolor": "white",
           "lakecolor": "white",
           "landcolor": "#E5ECF6",
           "showlakes": true,
           "showland": true,
           "subunitcolor": "white"
          },
          "hoverlabel": {
           "align": "left"
          },
          "hovermode": "closest",
          "mapbox": {
           "style": "light"
          },
          "paper_bgcolor": "white",
          "plot_bgcolor": "#E5ECF6",
          "polar": {
           "angularaxis": {
            "gridcolor": "white",
            "linecolor": "white",
            "ticks": ""
           },
           "bgcolor": "#E5ECF6",
           "radialaxis": {
            "gridcolor": "white",
            "linecolor": "white",
            "ticks": ""
           }
          },
          "scene": {
           "xaxis": {
            "backgroundcolor": "#E5ECF6",
            "gridcolor": "white",
            "gridwidth": 2,
            "linecolor": "white",
            "showbackground": true,
            "ticks": "",
            "zerolinecolor": "white"
           },
           "yaxis": {
            "backgroundcolor": "#E5ECF6",
            "gridcolor": "white",
            "gridwidth": 2,
            "linecolor": "white",
            "showbackground": true,
            "ticks": "",
            "zerolinecolor": "white"
           },
           "zaxis": {
            "backgroundcolor": "#E5ECF6",
            "gridcolor": "white",
            "gridwidth": 2,
            "linecolor": "white",
            "showbackground": true,
            "ticks": "",
            "zerolinecolor": "white"
           }
          },
          "shapedefaults": {
           "line": {
            "color": "#2a3f5f"
           }
          },
          "ternary": {
           "aaxis": {
            "gridcolor": "white",
            "linecolor": "white",
            "ticks": ""
           },
           "baxis": {
            "gridcolor": "white",
            "linecolor": "white",
            "ticks": ""
           },
           "bgcolor": "#E5ECF6",
           "caxis": {
            "gridcolor": "white",
            "linecolor": "white",
            "ticks": ""
           }
          },
          "title": {
           "x": 0.05
          },
          "xaxis": {
           "automargin": true,
           "gridcolor": "white",
           "linecolor": "white",
           "ticks": "",
           "title": {
            "standoff": 15
           },
           "zerolinecolor": "white",
           "zerolinewidth": 2
          },
          "yaxis": {
           "automargin": true,
           "gridcolor": "white",
           "linecolor": "white",
           "ticks": "",
           "title": {
            "standoff": 15
           },
           "zerolinecolor": "white",
           "zerolinewidth": 2
          }
         }
        }
       }
      },
      "text/html": [
       "<div>                            <div id=\"9ea7e30a-acce-4748-bbb2-17844cccdca4\" class=\"plotly-graph-div\" style=\"height:525px; width:100%;\"></div>            <script type=\"text/javascript\">                require([\"plotly\"], function(Plotly) {                    window.PLOTLYENV=window.PLOTLYENV || {};                                    if (document.getElementById(\"9ea7e30a-acce-4748-bbb2-17844cccdca4\")) {                    Plotly.newPlot(                        \"9ea7e30a-acce-4748-bbb2-17844cccdca4\",                        [{\"name\": \"Using grid level time series\", \"type\": \"scatter\", \"x\": [\"NAIVE\", \"ARIMA\", \"TBATS\", \"PROPHET\", \"CNN\", \"LSTM\"], \"y\": [0.3965041238428431, 0.3604885973574808, 0.568815440036228, 0.589810259593252, 0.377380092919877, 0.4703903558856143]}, {\"name\": \"Using transmission Zone level time series\", \"type\": \"scatter\", \"x\": [\"NAIVE\", \"ARIMA\", \"TBATS\", \"PROPHET\", \"CNN\", \"LSTM\"], \"y\": [0.3965041238428431, 0.34673791723819, 0.5301626039525603, 0.5913052140865176, 0.38148387426162045, 0.4628670441309045]}, {\"name\": \"Using substation level time series\", \"type\": \"scatter\", \"x\": [\"NAIVE\", \"ARIMA\", \"TBATS\", \"PROPHET\", \"CNN\", \"LSTM\"], \"y\": [0.3965041238428431, 0.3472883436134808, 0.5172115824644526, 0.591272299547771, 0.38206648791517106, 0.43433249218710446]}, {\"name\": \"Using postcode level time series\", \"type\": \"scatter\", \"x\": [\"NAIVE\", \"ARIMA\", \"TBATS\", \"PROPHET\", \"CNN\", \"LSTM\"], \"y\": [0.39650412384284306, 0.31814541816116665, 0.4796227263138744, 0.3701723039131422, 0.39047288944725306, 0.35828865085204664]}, {\"name\": \"Using site level time series\", \"type\": \"scatter\", \"x\": [\"NAIVE\", \"ARIMA\", \"TBATS\", \"PROPHET\", \"CNN\", \"LSTM\"], \"y\": [0.39650412384284306, 0.3358448691063564, 0.512242338766708, 0.37032535308201564, 0.37784276340728884, 0.33299125289067605]}],                        {\"template\": {\"data\": {\"bar\": [{\"error_x\": {\"color\": \"#2a3f5f\"}, \"error_y\": {\"color\": \"#2a3f5f\"}, \"marker\": {\"line\": {\"color\": \"#E5ECF6\", \"width\": 0.5}}, \"type\": \"bar\"}], \"barpolar\": [{\"marker\": {\"line\": {\"color\": \"#E5ECF6\", \"width\": 0.5}}, \"type\": \"barpolar\"}], \"carpet\": [{\"aaxis\": {\"endlinecolor\": \"#2a3f5f\", \"gridcolor\": \"white\", \"linecolor\": \"white\", \"minorgridcolor\": \"white\", \"startlinecolor\": \"#2a3f5f\"}, \"baxis\": {\"endlinecolor\": \"#2a3f5f\", \"gridcolor\": \"white\", \"linecolor\": \"white\", \"minorgridcolor\": \"white\", \"startlinecolor\": \"#2a3f5f\"}, \"type\": \"carpet\"}], \"choropleth\": [{\"colorbar\": {\"outlinewidth\": 0, \"ticks\": \"\"}, \"type\": \"choropleth\"}], \"contour\": [{\"colorbar\": {\"outlinewidth\": 0, \"ticks\": \"\"}, \"colorscale\": [[0.0, \"#0d0887\"], [0.1111111111111111, \"#46039f\"], [0.2222222222222222, \"#7201a8\"], [0.3333333333333333, \"#9c179e\"], [0.4444444444444444, \"#bd3786\"], [0.5555555555555556, \"#d8576b\"], [0.6666666666666666, \"#ed7953\"], [0.7777777777777778, \"#fb9f3a\"], [0.8888888888888888, \"#fdca26\"], [1.0, \"#f0f921\"]], \"type\": \"contour\"}], \"contourcarpet\": [{\"colorbar\": {\"outlinewidth\": 0, \"ticks\": \"\"}, \"type\": \"contourcarpet\"}], \"heatmap\": [{\"colorbar\": {\"outlinewidth\": 0, \"ticks\": \"\"}, \"colorscale\": [[0.0, \"#0d0887\"], [0.1111111111111111, \"#46039f\"], [0.2222222222222222, \"#7201a8\"], [0.3333333333333333, \"#9c179e\"], [0.4444444444444444, \"#bd3786\"], [0.5555555555555556, \"#d8576b\"], [0.6666666666666666, \"#ed7953\"], [0.7777777777777778, \"#fb9f3a\"], [0.8888888888888888, \"#fdca26\"], [1.0, \"#f0f921\"]], \"type\": \"heatmap\"}], \"heatmapgl\": [{\"colorbar\": {\"outlinewidth\": 0, \"ticks\": \"\"}, \"colorscale\": [[0.0, \"#0d0887\"], [0.1111111111111111, \"#46039f\"], [0.2222222222222222, \"#7201a8\"], [0.3333333333333333, \"#9c179e\"], [0.4444444444444444, \"#bd3786\"], [0.5555555555555556, \"#d8576b\"], [0.6666666666666666, \"#ed7953\"], [0.7777777777777778, \"#fb9f3a\"], [0.8888888888888888, \"#fdca26\"], [1.0, \"#f0f921\"]], \"type\": \"heatmapgl\"}], \"histogram\": [{\"marker\": {\"colorbar\": {\"outlinewidth\": 0, \"ticks\": \"\"}}, \"type\": \"histogram\"}], \"histogram2d\": [{\"colorbar\": {\"outlinewidth\": 0, \"ticks\": \"\"}, \"colorscale\": [[0.0, \"#0d0887\"], [0.1111111111111111, \"#46039f\"], [0.2222222222222222, \"#7201a8\"], [0.3333333333333333, \"#9c179e\"], [0.4444444444444444, \"#bd3786\"], [0.5555555555555556, \"#d8576b\"], [0.6666666666666666, \"#ed7953\"], [0.7777777777777778, \"#fb9f3a\"], [0.8888888888888888, \"#fdca26\"], [1.0, \"#f0f921\"]], \"type\": \"histogram2d\"}], \"histogram2dcontour\": [{\"colorbar\": {\"outlinewidth\": 0, \"ticks\": \"\"}, \"colorscale\": [[0.0, \"#0d0887\"], [0.1111111111111111, \"#46039f\"], [0.2222222222222222, \"#7201a8\"], [0.3333333333333333, \"#9c179e\"], [0.4444444444444444, \"#bd3786\"], [0.5555555555555556, \"#d8576b\"], [0.6666666666666666, \"#ed7953\"], [0.7777777777777778, \"#fb9f3a\"], [0.8888888888888888, \"#fdca26\"], [1.0, \"#f0f921\"]], \"type\": \"histogram2dcontour\"}], \"mesh3d\": [{\"colorbar\": {\"outlinewidth\": 0, \"ticks\": \"\"}, \"type\": \"mesh3d\"}], \"parcoords\": [{\"line\": {\"colorbar\": {\"outlinewidth\": 0, \"ticks\": \"\"}}, \"type\": \"parcoords\"}], \"pie\": [{\"automargin\": true, \"type\": \"pie\"}], \"scatter\": [{\"marker\": {\"colorbar\": {\"outlinewidth\": 0, \"ticks\": \"\"}}, \"type\": \"scatter\"}], \"scatter3d\": [{\"line\": {\"colorbar\": {\"outlinewidth\": 0, \"ticks\": \"\"}}, \"marker\": {\"colorbar\": {\"outlinewidth\": 0, \"ticks\": \"\"}}, \"type\": \"scatter3d\"}], \"scattercarpet\": [{\"marker\": {\"colorbar\": {\"outlinewidth\": 0, \"ticks\": \"\"}}, \"type\": \"scattercarpet\"}], \"scattergeo\": [{\"marker\": {\"colorbar\": {\"outlinewidth\": 0, \"ticks\": \"\"}}, \"type\": \"scattergeo\"}], \"scattergl\": [{\"marker\": {\"colorbar\": {\"outlinewidth\": 0, \"ticks\": \"\"}}, \"type\": \"scattergl\"}], \"scattermapbox\": [{\"marker\": {\"colorbar\": {\"outlinewidth\": 0, \"ticks\": \"\"}}, \"type\": \"scattermapbox\"}], \"scatterpolar\": [{\"marker\": {\"colorbar\": {\"outlinewidth\": 0, \"ticks\": \"\"}}, \"type\": \"scatterpolar\"}], \"scatterpolargl\": [{\"marker\": {\"colorbar\": {\"outlinewidth\": 0, \"ticks\": \"\"}}, \"type\": \"scatterpolargl\"}], \"scatterternary\": [{\"marker\": {\"colorbar\": {\"outlinewidth\": 0, \"ticks\": \"\"}}, \"type\": \"scatterternary\"}], \"surface\": [{\"colorbar\": {\"outlinewidth\": 0, \"ticks\": \"\"}, \"colorscale\": [[0.0, \"#0d0887\"], [0.1111111111111111, \"#46039f\"], [0.2222222222222222, \"#7201a8\"], [0.3333333333333333, \"#9c179e\"], [0.4444444444444444, \"#bd3786\"], [0.5555555555555556, \"#d8576b\"], [0.6666666666666666, \"#ed7953\"], [0.7777777777777778, \"#fb9f3a\"], [0.8888888888888888, \"#fdca26\"], [1.0, \"#f0f921\"]], \"type\": \"surface\"}], \"table\": [{\"cells\": {\"fill\": {\"color\": \"#EBF0F8\"}, \"line\": {\"color\": \"white\"}}, \"header\": {\"fill\": {\"color\": \"#C8D4E3\"}, \"line\": {\"color\": \"white\"}}, \"type\": \"table\"}]}, \"layout\": {\"annotationdefaults\": {\"arrowcolor\": \"#2a3f5f\", \"arrowhead\": 0, \"arrowwidth\": 1}, \"autotypenumbers\": \"strict\", \"coloraxis\": {\"colorbar\": {\"outlinewidth\": 0, \"ticks\": \"\"}}, \"colorscale\": {\"diverging\": [[0, \"#8e0152\"], [0.1, \"#c51b7d\"], [0.2, \"#de77ae\"], [0.3, \"#f1b6da\"], [0.4, \"#fde0ef\"], [0.5, \"#f7f7f7\"], [0.6, \"#e6f5d0\"], [0.7, \"#b8e186\"], [0.8, \"#7fbc41\"], [0.9, \"#4d9221\"], [1, \"#276419\"]], \"sequential\": [[0.0, \"#0d0887\"], [0.1111111111111111, \"#46039f\"], [0.2222222222222222, \"#7201a8\"], [0.3333333333333333, \"#9c179e\"], [0.4444444444444444, \"#bd3786\"], [0.5555555555555556, \"#d8576b\"], [0.6666666666666666, \"#ed7953\"], [0.7777777777777778, \"#fb9f3a\"], [0.8888888888888888, \"#fdca26\"], [1.0, \"#f0f921\"]], \"sequentialminus\": [[0.0, \"#0d0887\"], [0.1111111111111111, \"#46039f\"], [0.2222222222222222, \"#7201a8\"], [0.3333333333333333, \"#9c179e\"], [0.4444444444444444, \"#bd3786\"], [0.5555555555555556, \"#d8576b\"], [0.6666666666666666, \"#ed7953\"], [0.7777777777777778, \"#fb9f3a\"], [0.8888888888888888, \"#fdca26\"], [1.0, \"#f0f921\"]]}, \"colorway\": [\"#636efa\", \"#EF553B\", \"#00cc96\", \"#ab63fa\", \"#FFA15A\", \"#19d3f3\", \"#FF6692\", \"#B6E880\", \"#FF97FF\", \"#FECB52\"], \"font\": {\"color\": \"#2a3f5f\"}, \"geo\": {\"bgcolor\": \"white\", \"lakecolor\": \"white\", \"landcolor\": \"#E5ECF6\", \"showlakes\": true, \"showland\": true, \"subunitcolor\": \"white\"}, \"hoverlabel\": {\"align\": \"left\"}, \"hovermode\": \"closest\", \"mapbox\": {\"style\": \"light\"}, \"paper_bgcolor\": \"white\", \"plot_bgcolor\": \"#E5ECF6\", \"polar\": {\"angularaxis\": {\"gridcolor\": \"white\", \"linecolor\": \"white\", \"ticks\": \"\"}, \"bgcolor\": \"#E5ECF6\", \"radialaxis\": {\"gridcolor\": \"white\", \"linecolor\": \"white\", \"ticks\": \"\"}}, \"scene\": {\"xaxis\": {\"backgroundcolor\": \"#E5ECF6\", \"gridcolor\": \"white\", \"gridwidth\": 2, \"linecolor\": \"white\", \"showbackground\": true, \"ticks\": \"\", \"zerolinecolor\": \"white\"}, \"yaxis\": {\"backgroundcolor\": \"#E5ECF6\", \"gridcolor\": \"white\", \"gridwidth\": 2, \"linecolor\": \"white\", \"showbackground\": true, \"ticks\": \"\", \"zerolinecolor\": \"white\"}, \"zaxis\": {\"backgroundcolor\": \"#E5ECF6\", \"gridcolor\": \"white\", \"gridwidth\": 2, \"linecolor\": \"white\", \"showbackground\": true, \"ticks\": \"\", \"zerolinecolor\": \"white\"}}, \"shapedefaults\": {\"line\": {\"color\": \"#2a3f5f\"}}, \"ternary\": {\"aaxis\": {\"gridcolor\": \"white\", \"linecolor\": \"white\", \"ticks\": \"\"}, \"baxis\": {\"gridcolor\": \"white\", \"linecolor\": \"white\", \"ticks\": \"\"}, \"bgcolor\": \"#E5ECF6\", \"caxis\": {\"gridcolor\": \"white\", \"linecolor\": \"white\", \"ticks\": \"\"}}, \"title\": {\"x\": 0.05}, \"xaxis\": {\"automargin\": true, \"gridcolor\": \"white\", \"linecolor\": \"white\", \"ticks\": \"\", \"title\": {\"standoff\": 15}, \"zerolinecolor\": \"white\", \"zerolinewidth\": 2}, \"yaxis\": {\"automargin\": true, \"gridcolor\": \"white\", \"linecolor\": \"white\", \"ticks\": \"\", \"title\": {\"standoff\": 15}, \"zerolinecolor\": \"white\", \"zerolinewidth\": 2}}}},                        {\"responsive\": true}                    ).then(function(){\n",
       "                            \n",
       "var gd = document.getElementById('9ea7e30a-acce-4748-bbb2-17844cccdca4');\n",
       "var x = new MutationObserver(function (mutations, observer) {{\n",
       "        var display = window.getComputedStyle(gd).display;\n",
       "        if (!display || display === 'none') {{\n",
       "            console.log([gd, 'removed!']);\n",
       "            Plotly.purge(gd);\n",
       "            observer.disconnect();\n",
       "        }}\n",
       "}});\n",
       "\n",
       "// Listen for the removal of the full notebook cells\n",
       "var notebookContainer = gd.closest('#notebook-container');\n",
       "if (notebookContainer) {{\n",
       "    x.observe(notebookContainer, {childList: true});\n",
       "}}\n",
       "\n",
       "// Listen for the clearing of the current output cell\n",
       "var outputEl = gd.closest('.output');\n",
       "if (outputEl) {{\n",
       "    x.observe(outputEl, {childList: true});\n",
       "}}\n",
       "\n",
       "                        })                };                });            </script>        </div>"
      ]
     },
     "metadata": {},
     "output_type": "display_data"
    }
   ],
   "source": [
    "# lets draw a line plot\n",
    "\n",
    "line_plot = go.Figure()\n",
    "line_plot.add_trace(go.Scatter(x = nrmse_final_results.index, y =nrmse_final_results['Grid'], name = \"Using grid level time series\"))\n",
    "line_plot.add_trace(go.Scatter(x = nrmse_final_results.index, y =nrmse_final_results['TL - Aggregated'], name = \"Using transmission Zone level time series\"))\n",
    "line_plot.add_trace(go.Scatter(x = nrmse_final_results.index, y =nrmse_final_results['SUB - Aggregated'], name = \"Using substation level time series\"))\n",
    "line_plot.add_trace(go.Scatter(x = nrmse_final_results.index, y =nrmse_final_results['PC - Aggregated'], name = \"Using postcode level time series\"))\n",
    "line_plot.add_trace(go.Scatter(x = nrmse_final_results.index, y =nrmse_final_results['Site - Aggregated'], name = \"Using site level time series\"))\n"
   ]
  },
  {
   "cell_type": "code",
   "execution_count": 92,
   "metadata": {},
   "outputs": [
    {
     "data": {
      "application/vnd.plotly.v1+json": {
       "config": {
        "plotlyServerURL": "https://plot.ly"
       },
       "data": [
        {
         "name": "Using grid level time series",
         "type": "scatter",
         "x": [
          "NAIVE",
          "ARIMA",
          "TBATS",
          "PROPHET",
          "CNN",
          "LSTM"
         ],
         "y": [
          1.079391787981905,
          1.0542174171354002,
          1.8748277728587728,
          1.962394493488318,
          1.150048520316878,
          1.4682344822944209
         ]
        },
        {
         "name": "Using transmission Zone level time series",
         "type": "scatter",
         "x": [
          "NAIVE",
          "ARIMA",
          "TBATS",
          "PROPHET",
          "CNN",
          "LSTM"
         ],
         "y": [
          1.079391787981905,
          1.023268311933142,
          1.7491129158069132,
          1.9665700550555816,
          1.1694360905458727,
          1.4161838663439736
         ]
        },
        {
         "name": "Using substation level time series",
         "type": "scatter",
         "x": [
          "NAIVE",
          "ARIMA",
          "TBATS",
          "PROPHET",
          "CNN",
          "LSTM"
         ],
         "y": [
          1.079391787981905,
          1.024157068352861,
          1.706391431091947,
          1.966532036884485,
          1.1717213662474213,
          1.3301243856811835
         ]
        },
        {
         "name": "Using postcode level time series",
         "type": "scatter",
         "x": [
          "NAIVE",
          "ARIMA",
          "TBATS",
          "PROPHET",
          "CNN",
          "LSTM"
         ],
         "y": [
          1.079391787981905,
          0.929386914423518,
          1.5437416506766872,
          1.0803983146720384,
          1.198340986831758,
          1.1232270030823759
         ]
        },
        {
         "name": "Using site level time series",
         "type": "scatter",
         "x": [
          "NAIVE",
          "ARIMA",
          "TBATS",
          "PROPHET",
          "CNN",
          "LSTM"
         ],
         "y": [
          1.079391787981905,
          1.0084912706608253,
          1.683218533714503,
          1.0899355671492128,
          1.1695815390243385,
          1.0130934871185588
         ]
        }
       ],
       "layout": {
        "template": {
         "data": {
          "bar": [
           {
            "error_x": {
             "color": "#2a3f5f"
            },
            "error_y": {
             "color": "#2a3f5f"
            },
            "marker": {
             "line": {
              "color": "#E5ECF6",
              "width": 0.5
             }
            },
            "type": "bar"
           }
          ],
          "barpolar": [
           {
            "marker": {
             "line": {
              "color": "#E5ECF6",
              "width": 0.5
             }
            },
            "type": "barpolar"
           }
          ],
          "carpet": [
           {
            "aaxis": {
             "endlinecolor": "#2a3f5f",
             "gridcolor": "white",
             "linecolor": "white",
             "minorgridcolor": "white",
             "startlinecolor": "#2a3f5f"
            },
            "baxis": {
             "endlinecolor": "#2a3f5f",
             "gridcolor": "white",
             "linecolor": "white",
             "minorgridcolor": "white",
             "startlinecolor": "#2a3f5f"
            },
            "type": "carpet"
           }
          ],
          "choropleth": [
           {
            "colorbar": {
             "outlinewidth": 0,
             "ticks": ""
            },
            "type": "choropleth"
           }
          ],
          "contour": [
           {
            "colorbar": {
             "outlinewidth": 0,
             "ticks": ""
            },
            "colorscale": [
             [
              0,
              "#0d0887"
             ],
             [
              0.1111111111111111,
              "#46039f"
             ],
             [
              0.2222222222222222,
              "#7201a8"
             ],
             [
              0.3333333333333333,
              "#9c179e"
             ],
             [
              0.4444444444444444,
              "#bd3786"
             ],
             [
              0.5555555555555556,
              "#d8576b"
             ],
             [
              0.6666666666666666,
              "#ed7953"
             ],
             [
              0.7777777777777778,
              "#fb9f3a"
             ],
             [
              0.8888888888888888,
              "#fdca26"
             ],
             [
              1,
              "#f0f921"
             ]
            ],
            "type": "contour"
           }
          ],
          "contourcarpet": [
           {
            "colorbar": {
             "outlinewidth": 0,
             "ticks": ""
            },
            "type": "contourcarpet"
           }
          ],
          "heatmap": [
           {
            "colorbar": {
             "outlinewidth": 0,
             "ticks": ""
            },
            "colorscale": [
             [
              0,
              "#0d0887"
             ],
             [
              0.1111111111111111,
              "#46039f"
             ],
             [
              0.2222222222222222,
              "#7201a8"
             ],
             [
              0.3333333333333333,
              "#9c179e"
             ],
             [
              0.4444444444444444,
              "#bd3786"
             ],
             [
              0.5555555555555556,
              "#d8576b"
             ],
             [
              0.6666666666666666,
              "#ed7953"
             ],
             [
              0.7777777777777778,
              "#fb9f3a"
             ],
             [
              0.8888888888888888,
              "#fdca26"
             ],
             [
              1,
              "#f0f921"
             ]
            ],
            "type": "heatmap"
           }
          ],
          "heatmapgl": [
           {
            "colorbar": {
             "outlinewidth": 0,
             "ticks": ""
            },
            "colorscale": [
             [
              0,
              "#0d0887"
             ],
             [
              0.1111111111111111,
              "#46039f"
             ],
             [
              0.2222222222222222,
              "#7201a8"
             ],
             [
              0.3333333333333333,
              "#9c179e"
             ],
             [
              0.4444444444444444,
              "#bd3786"
             ],
             [
              0.5555555555555556,
              "#d8576b"
             ],
             [
              0.6666666666666666,
              "#ed7953"
             ],
             [
              0.7777777777777778,
              "#fb9f3a"
             ],
             [
              0.8888888888888888,
              "#fdca26"
             ],
             [
              1,
              "#f0f921"
             ]
            ],
            "type": "heatmapgl"
           }
          ],
          "histogram": [
           {
            "marker": {
             "colorbar": {
              "outlinewidth": 0,
              "ticks": ""
             }
            },
            "type": "histogram"
           }
          ],
          "histogram2d": [
           {
            "colorbar": {
             "outlinewidth": 0,
             "ticks": ""
            },
            "colorscale": [
             [
              0,
              "#0d0887"
             ],
             [
              0.1111111111111111,
              "#46039f"
             ],
             [
              0.2222222222222222,
              "#7201a8"
             ],
             [
              0.3333333333333333,
              "#9c179e"
             ],
             [
              0.4444444444444444,
              "#bd3786"
             ],
             [
              0.5555555555555556,
              "#d8576b"
             ],
             [
              0.6666666666666666,
              "#ed7953"
             ],
             [
              0.7777777777777778,
              "#fb9f3a"
             ],
             [
              0.8888888888888888,
              "#fdca26"
             ],
             [
              1,
              "#f0f921"
             ]
            ],
            "type": "histogram2d"
           }
          ],
          "histogram2dcontour": [
           {
            "colorbar": {
             "outlinewidth": 0,
             "ticks": ""
            },
            "colorscale": [
             [
              0,
              "#0d0887"
             ],
             [
              0.1111111111111111,
              "#46039f"
             ],
             [
              0.2222222222222222,
              "#7201a8"
             ],
             [
              0.3333333333333333,
              "#9c179e"
             ],
             [
              0.4444444444444444,
              "#bd3786"
             ],
             [
              0.5555555555555556,
              "#d8576b"
             ],
             [
              0.6666666666666666,
              "#ed7953"
             ],
             [
              0.7777777777777778,
              "#fb9f3a"
             ],
             [
              0.8888888888888888,
              "#fdca26"
             ],
             [
              1,
              "#f0f921"
             ]
            ],
            "type": "histogram2dcontour"
           }
          ],
          "mesh3d": [
           {
            "colorbar": {
             "outlinewidth": 0,
             "ticks": ""
            },
            "type": "mesh3d"
           }
          ],
          "parcoords": [
           {
            "line": {
             "colorbar": {
              "outlinewidth": 0,
              "ticks": ""
             }
            },
            "type": "parcoords"
           }
          ],
          "pie": [
           {
            "automargin": true,
            "type": "pie"
           }
          ],
          "scatter": [
           {
            "marker": {
             "colorbar": {
              "outlinewidth": 0,
              "ticks": ""
             }
            },
            "type": "scatter"
           }
          ],
          "scatter3d": [
           {
            "line": {
             "colorbar": {
              "outlinewidth": 0,
              "ticks": ""
             }
            },
            "marker": {
             "colorbar": {
              "outlinewidth": 0,
              "ticks": ""
             }
            },
            "type": "scatter3d"
           }
          ],
          "scattercarpet": [
           {
            "marker": {
             "colorbar": {
              "outlinewidth": 0,
              "ticks": ""
             }
            },
            "type": "scattercarpet"
           }
          ],
          "scattergeo": [
           {
            "marker": {
             "colorbar": {
              "outlinewidth": 0,
              "ticks": ""
             }
            },
            "type": "scattergeo"
           }
          ],
          "scattergl": [
           {
            "marker": {
             "colorbar": {
              "outlinewidth": 0,
              "ticks": ""
             }
            },
            "type": "scattergl"
           }
          ],
          "scattermapbox": [
           {
            "marker": {
             "colorbar": {
              "outlinewidth": 0,
              "ticks": ""
             }
            },
            "type": "scattermapbox"
           }
          ],
          "scatterpolar": [
           {
            "marker": {
             "colorbar": {
              "outlinewidth": 0,
              "ticks": ""
             }
            },
            "type": "scatterpolar"
           }
          ],
          "scatterpolargl": [
           {
            "marker": {
             "colorbar": {
              "outlinewidth": 0,
              "ticks": ""
             }
            },
            "type": "scatterpolargl"
           }
          ],
          "scatterternary": [
           {
            "marker": {
             "colorbar": {
              "outlinewidth": 0,
              "ticks": ""
             }
            },
            "type": "scatterternary"
           }
          ],
          "surface": [
           {
            "colorbar": {
             "outlinewidth": 0,
             "ticks": ""
            },
            "colorscale": [
             [
              0,
              "#0d0887"
             ],
             [
              0.1111111111111111,
              "#46039f"
             ],
             [
              0.2222222222222222,
              "#7201a8"
             ],
             [
              0.3333333333333333,
              "#9c179e"
             ],
             [
              0.4444444444444444,
              "#bd3786"
             ],
             [
              0.5555555555555556,
              "#d8576b"
             ],
             [
              0.6666666666666666,
              "#ed7953"
             ],
             [
              0.7777777777777778,
              "#fb9f3a"
             ],
             [
              0.8888888888888888,
              "#fdca26"
             ],
             [
              1,
              "#f0f921"
             ]
            ],
            "type": "surface"
           }
          ],
          "table": [
           {
            "cells": {
             "fill": {
              "color": "#EBF0F8"
             },
             "line": {
              "color": "white"
             }
            },
            "header": {
             "fill": {
              "color": "#C8D4E3"
             },
             "line": {
              "color": "white"
             }
            },
            "type": "table"
           }
          ]
         },
         "layout": {
          "annotationdefaults": {
           "arrowcolor": "#2a3f5f",
           "arrowhead": 0,
           "arrowwidth": 1
          },
          "autotypenumbers": "strict",
          "coloraxis": {
           "colorbar": {
            "outlinewidth": 0,
            "ticks": ""
           }
          },
          "colorscale": {
           "diverging": [
            [
             0,
             "#8e0152"
            ],
            [
             0.1,
             "#c51b7d"
            ],
            [
             0.2,
             "#de77ae"
            ],
            [
             0.3,
             "#f1b6da"
            ],
            [
             0.4,
             "#fde0ef"
            ],
            [
             0.5,
             "#f7f7f7"
            ],
            [
             0.6,
             "#e6f5d0"
            ],
            [
             0.7,
             "#b8e186"
            ],
            [
             0.8,
             "#7fbc41"
            ],
            [
             0.9,
             "#4d9221"
            ],
            [
             1,
             "#276419"
            ]
           ],
           "sequential": [
            [
             0,
             "#0d0887"
            ],
            [
             0.1111111111111111,
             "#46039f"
            ],
            [
             0.2222222222222222,
             "#7201a8"
            ],
            [
             0.3333333333333333,
             "#9c179e"
            ],
            [
             0.4444444444444444,
             "#bd3786"
            ],
            [
             0.5555555555555556,
             "#d8576b"
            ],
            [
             0.6666666666666666,
             "#ed7953"
            ],
            [
             0.7777777777777778,
             "#fb9f3a"
            ],
            [
             0.8888888888888888,
             "#fdca26"
            ],
            [
             1,
             "#f0f921"
            ]
           ],
           "sequentialminus": [
            [
             0,
             "#0d0887"
            ],
            [
             0.1111111111111111,
             "#46039f"
            ],
            [
             0.2222222222222222,
             "#7201a8"
            ],
            [
             0.3333333333333333,
             "#9c179e"
            ],
            [
             0.4444444444444444,
             "#bd3786"
            ],
            [
             0.5555555555555556,
             "#d8576b"
            ],
            [
             0.6666666666666666,
             "#ed7953"
            ],
            [
             0.7777777777777778,
             "#fb9f3a"
            ],
            [
             0.8888888888888888,
             "#fdca26"
            ],
            [
             1,
             "#f0f921"
            ]
           ]
          },
          "colorway": [
           "#636efa",
           "#EF553B",
           "#00cc96",
           "#ab63fa",
           "#FFA15A",
           "#19d3f3",
           "#FF6692",
           "#B6E880",
           "#FF97FF",
           "#FECB52"
          ],
          "font": {
           "color": "#2a3f5f"
          },
          "geo": {
           "bgcolor": "white",
           "lakecolor": "white",
           "landcolor": "#E5ECF6",
           "showlakes": true,
           "showland": true,
           "subunitcolor": "white"
          },
          "hoverlabel": {
           "align": "left"
          },
          "hovermode": "closest",
          "mapbox": {
           "style": "light"
          },
          "paper_bgcolor": "white",
          "plot_bgcolor": "#E5ECF6",
          "polar": {
           "angularaxis": {
            "gridcolor": "white",
            "linecolor": "white",
            "ticks": ""
           },
           "bgcolor": "#E5ECF6",
           "radialaxis": {
            "gridcolor": "white",
            "linecolor": "white",
            "ticks": ""
           }
          },
          "scene": {
           "xaxis": {
            "backgroundcolor": "#E5ECF6",
            "gridcolor": "white",
            "gridwidth": 2,
            "linecolor": "white",
            "showbackground": true,
            "ticks": "",
            "zerolinecolor": "white"
           },
           "yaxis": {
            "backgroundcolor": "#E5ECF6",
            "gridcolor": "white",
            "gridwidth": 2,
            "linecolor": "white",
            "showbackground": true,
            "ticks": "",
            "zerolinecolor": "white"
           },
           "zaxis": {
            "backgroundcolor": "#E5ECF6",
            "gridcolor": "white",
            "gridwidth": 2,
            "linecolor": "white",
            "showbackground": true,
            "ticks": "",
            "zerolinecolor": "white"
           }
          },
          "shapedefaults": {
           "line": {
            "color": "#2a3f5f"
           }
          },
          "ternary": {
           "aaxis": {
            "gridcolor": "white",
            "linecolor": "white",
            "ticks": ""
           },
           "baxis": {
            "gridcolor": "white",
            "linecolor": "white",
            "ticks": ""
           },
           "bgcolor": "#E5ECF6",
           "caxis": {
            "gridcolor": "white",
            "linecolor": "white",
            "ticks": ""
           }
          },
          "title": {
           "x": 0.05
          },
          "xaxis": {
           "automargin": true,
           "gridcolor": "white",
           "linecolor": "white",
           "ticks": "",
           "title": {
            "standoff": 15
           },
           "zerolinecolor": "white",
           "zerolinewidth": 2
          },
          "yaxis": {
           "automargin": true,
           "gridcolor": "white",
           "linecolor": "white",
           "ticks": "",
           "title": {
            "standoff": 15
           },
           "zerolinecolor": "white",
           "zerolinewidth": 2
          }
         }
        }
       }
      },
      "text/html": [
       "<div>                            <div id=\"3a578b66-f0cd-4466-9e10-c606a00b3452\" class=\"plotly-graph-div\" style=\"height:525px; width:100%;\"></div>            <script type=\"text/javascript\">                require([\"plotly\"], function(Plotly) {                    window.PLOTLYENV=window.PLOTLYENV || {};                                    if (document.getElementById(\"3a578b66-f0cd-4466-9e10-c606a00b3452\")) {                    Plotly.newPlot(                        \"3a578b66-f0cd-4466-9e10-c606a00b3452\",                        [{\"name\": \"Using grid level time series\", \"type\": \"scatter\", \"x\": [\"NAIVE\", \"ARIMA\", \"TBATS\", \"PROPHET\", \"CNN\", \"LSTM\"], \"y\": [1.079391787981905, 1.0542174171354002, 1.8748277728587728, 1.962394493488318, 1.150048520316878, 1.4682344822944209]}, {\"name\": \"Using transmission Zone level time series\", \"type\": \"scatter\", \"x\": [\"NAIVE\", \"ARIMA\", \"TBATS\", \"PROPHET\", \"CNN\", \"LSTM\"], \"y\": [1.079391787981905, 1.023268311933142, 1.7491129158069132, 1.9665700550555816, 1.1694360905458727, 1.4161838663439736]}, {\"name\": \"Using substation level time series\", \"type\": \"scatter\", \"x\": [\"NAIVE\", \"ARIMA\", \"TBATS\", \"PROPHET\", \"CNN\", \"LSTM\"], \"y\": [1.079391787981905, 1.024157068352861, 1.706391431091947, 1.966532036884485, 1.1717213662474213, 1.3301243856811835]}, {\"name\": \"Using postcode level time series\", \"type\": \"scatter\", \"x\": [\"NAIVE\", \"ARIMA\", \"TBATS\", \"PROPHET\", \"CNN\", \"LSTM\"], \"y\": [1.079391787981905, 0.929386914423518, 1.5437416506766872, 1.0803983146720384, 1.198340986831758, 1.1232270030823759]}, {\"name\": \"Using site level time series\", \"type\": \"scatter\", \"x\": [\"NAIVE\", \"ARIMA\", \"TBATS\", \"PROPHET\", \"CNN\", \"LSTM\"], \"y\": [1.079391787981905, 1.0084912706608253, 1.683218533714503, 1.0899355671492128, 1.1695815390243385, 1.0130934871185588]}],                        {\"template\": {\"data\": {\"bar\": [{\"error_x\": {\"color\": \"#2a3f5f\"}, \"error_y\": {\"color\": \"#2a3f5f\"}, \"marker\": {\"line\": {\"color\": \"#E5ECF6\", \"width\": 0.5}}, \"type\": \"bar\"}], \"barpolar\": [{\"marker\": {\"line\": {\"color\": \"#E5ECF6\", \"width\": 0.5}}, \"type\": \"barpolar\"}], \"carpet\": [{\"aaxis\": {\"endlinecolor\": \"#2a3f5f\", \"gridcolor\": \"white\", \"linecolor\": \"white\", \"minorgridcolor\": \"white\", \"startlinecolor\": \"#2a3f5f\"}, \"baxis\": {\"endlinecolor\": \"#2a3f5f\", \"gridcolor\": \"white\", \"linecolor\": \"white\", \"minorgridcolor\": \"white\", \"startlinecolor\": \"#2a3f5f\"}, \"type\": \"carpet\"}], \"choropleth\": [{\"colorbar\": {\"outlinewidth\": 0, \"ticks\": \"\"}, \"type\": \"choropleth\"}], \"contour\": [{\"colorbar\": {\"outlinewidth\": 0, \"ticks\": \"\"}, \"colorscale\": [[0.0, \"#0d0887\"], [0.1111111111111111, \"#46039f\"], [0.2222222222222222, \"#7201a8\"], [0.3333333333333333, \"#9c179e\"], [0.4444444444444444, \"#bd3786\"], [0.5555555555555556, \"#d8576b\"], [0.6666666666666666, \"#ed7953\"], [0.7777777777777778, \"#fb9f3a\"], [0.8888888888888888, \"#fdca26\"], [1.0, \"#f0f921\"]], \"type\": \"contour\"}], \"contourcarpet\": [{\"colorbar\": {\"outlinewidth\": 0, \"ticks\": \"\"}, \"type\": \"contourcarpet\"}], \"heatmap\": [{\"colorbar\": {\"outlinewidth\": 0, \"ticks\": \"\"}, \"colorscale\": [[0.0, \"#0d0887\"], [0.1111111111111111, \"#46039f\"], [0.2222222222222222, \"#7201a8\"], [0.3333333333333333, \"#9c179e\"], [0.4444444444444444, \"#bd3786\"], [0.5555555555555556, \"#d8576b\"], [0.6666666666666666, \"#ed7953\"], [0.7777777777777778, \"#fb9f3a\"], [0.8888888888888888, \"#fdca26\"], [1.0, \"#f0f921\"]], \"type\": \"heatmap\"}], \"heatmapgl\": [{\"colorbar\": {\"outlinewidth\": 0, \"ticks\": \"\"}, \"colorscale\": [[0.0, \"#0d0887\"], [0.1111111111111111, \"#46039f\"], [0.2222222222222222, \"#7201a8\"], [0.3333333333333333, \"#9c179e\"], [0.4444444444444444, \"#bd3786\"], [0.5555555555555556, \"#d8576b\"], [0.6666666666666666, \"#ed7953\"], [0.7777777777777778, \"#fb9f3a\"], [0.8888888888888888, \"#fdca26\"], [1.0, \"#f0f921\"]], \"type\": \"heatmapgl\"}], \"histogram\": [{\"marker\": {\"colorbar\": {\"outlinewidth\": 0, \"ticks\": \"\"}}, \"type\": \"histogram\"}], \"histogram2d\": [{\"colorbar\": {\"outlinewidth\": 0, \"ticks\": \"\"}, \"colorscale\": [[0.0, \"#0d0887\"], [0.1111111111111111, \"#46039f\"], [0.2222222222222222, \"#7201a8\"], [0.3333333333333333, \"#9c179e\"], [0.4444444444444444, \"#bd3786\"], [0.5555555555555556, \"#d8576b\"], [0.6666666666666666, \"#ed7953\"], [0.7777777777777778, \"#fb9f3a\"], [0.8888888888888888, \"#fdca26\"], [1.0, \"#f0f921\"]], \"type\": \"histogram2d\"}], \"histogram2dcontour\": [{\"colorbar\": {\"outlinewidth\": 0, \"ticks\": \"\"}, \"colorscale\": [[0.0, \"#0d0887\"], [0.1111111111111111, \"#46039f\"], [0.2222222222222222, \"#7201a8\"], [0.3333333333333333, \"#9c179e\"], [0.4444444444444444, \"#bd3786\"], [0.5555555555555556, \"#d8576b\"], [0.6666666666666666, \"#ed7953\"], [0.7777777777777778, \"#fb9f3a\"], [0.8888888888888888, \"#fdca26\"], [1.0, \"#f0f921\"]], \"type\": \"histogram2dcontour\"}], \"mesh3d\": [{\"colorbar\": {\"outlinewidth\": 0, \"ticks\": \"\"}, \"type\": \"mesh3d\"}], \"parcoords\": [{\"line\": {\"colorbar\": {\"outlinewidth\": 0, \"ticks\": \"\"}}, \"type\": \"parcoords\"}], \"pie\": [{\"automargin\": true, \"type\": \"pie\"}], \"scatter\": [{\"marker\": {\"colorbar\": {\"outlinewidth\": 0, \"ticks\": \"\"}}, \"type\": \"scatter\"}], \"scatter3d\": [{\"line\": {\"colorbar\": {\"outlinewidth\": 0, \"ticks\": \"\"}}, \"marker\": {\"colorbar\": {\"outlinewidth\": 0, \"ticks\": \"\"}}, \"type\": \"scatter3d\"}], \"scattercarpet\": [{\"marker\": {\"colorbar\": {\"outlinewidth\": 0, \"ticks\": \"\"}}, \"type\": \"scattercarpet\"}], \"scattergeo\": [{\"marker\": {\"colorbar\": {\"outlinewidth\": 0, \"ticks\": \"\"}}, \"type\": \"scattergeo\"}], \"scattergl\": [{\"marker\": {\"colorbar\": {\"outlinewidth\": 0, \"ticks\": \"\"}}, \"type\": \"scattergl\"}], \"scattermapbox\": [{\"marker\": {\"colorbar\": {\"outlinewidth\": 0, \"ticks\": \"\"}}, \"type\": \"scattermapbox\"}], \"scatterpolar\": [{\"marker\": {\"colorbar\": {\"outlinewidth\": 0, \"ticks\": \"\"}}, \"type\": \"scatterpolar\"}], \"scatterpolargl\": [{\"marker\": {\"colorbar\": {\"outlinewidth\": 0, \"ticks\": \"\"}}, \"type\": \"scatterpolargl\"}], \"scatterternary\": [{\"marker\": {\"colorbar\": {\"outlinewidth\": 0, \"ticks\": \"\"}}, \"type\": \"scatterternary\"}], \"surface\": [{\"colorbar\": {\"outlinewidth\": 0, \"ticks\": \"\"}, \"colorscale\": [[0.0, \"#0d0887\"], [0.1111111111111111, \"#46039f\"], [0.2222222222222222, \"#7201a8\"], [0.3333333333333333, \"#9c179e\"], [0.4444444444444444, \"#bd3786\"], [0.5555555555555556, \"#d8576b\"], [0.6666666666666666, \"#ed7953\"], [0.7777777777777778, \"#fb9f3a\"], [0.8888888888888888, \"#fdca26\"], [1.0, \"#f0f921\"]], \"type\": \"surface\"}], \"table\": [{\"cells\": {\"fill\": {\"color\": \"#EBF0F8\"}, \"line\": {\"color\": \"white\"}}, \"header\": {\"fill\": {\"color\": \"#C8D4E3\"}, \"line\": {\"color\": \"white\"}}, \"type\": \"table\"}]}, \"layout\": {\"annotationdefaults\": {\"arrowcolor\": \"#2a3f5f\", \"arrowhead\": 0, \"arrowwidth\": 1}, \"autotypenumbers\": \"strict\", \"coloraxis\": {\"colorbar\": {\"outlinewidth\": 0, \"ticks\": \"\"}}, \"colorscale\": {\"diverging\": [[0, \"#8e0152\"], [0.1, \"#c51b7d\"], [0.2, \"#de77ae\"], [0.3, \"#f1b6da\"], [0.4, \"#fde0ef\"], [0.5, \"#f7f7f7\"], [0.6, \"#e6f5d0\"], [0.7, \"#b8e186\"], [0.8, \"#7fbc41\"], [0.9, \"#4d9221\"], [1, \"#276419\"]], \"sequential\": [[0.0, \"#0d0887\"], [0.1111111111111111, \"#46039f\"], [0.2222222222222222, \"#7201a8\"], [0.3333333333333333, \"#9c179e\"], [0.4444444444444444, \"#bd3786\"], [0.5555555555555556, \"#d8576b\"], [0.6666666666666666, \"#ed7953\"], [0.7777777777777778, \"#fb9f3a\"], [0.8888888888888888, \"#fdca26\"], [1.0, \"#f0f921\"]], \"sequentialminus\": [[0.0, \"#0d0887\"], [0.1111111111111111, \"#46039f\"], [0.2222222222222222, \"#7201a8\"], [0.3333333333333333, \"#9c179e\"], [0.4444444444444444, \"#bd3786\"], [0.5555555555555556, \"#d8576b\"], [0.6666666666666666, \"#ed7953\"], [0.7777777777777778, \"#fb9f3a\"], [0.8888888888888888, \"#fdca26\"], [1.0, \"#f0f921\"]]}, \"colorway\": [\"#636efa\", \"#EF553B\", \"#00cc96\", \"#ab63fa\", \"#FFA15A\", \"#19d3f3\", \"#FF6692\", \"#B6E880\", \"#FF97FF\", \"#FECB52\"], \"font\": {\"color\": \"#2a3f5f\"}, \"geo\": {\"bgcolor\": \"white\", \"lakecolor\": \"white\", \"landcolor\": \"#E5ECF6\", \"showlakes\": true, \"showland\": true, \"subunitcolor\": \"white\"}, \"hoverlabel\": {\"align\": \"left\"}, \"hovermode\": \"closest\", \"mapbox\": {\"style\": \"light\"}, \"paper_bgcolor\": \"white\", \"plot_bgcolor\": \"#E5ECF6\", \"polar\": {\"angularaxis\": {\"gridcolor\": \"white\", \"linecolor\": \"white\", \"ticks\": \"\"}, \"bgcolor\": \"#E5ECF6\", \"radialaxis\": {\"gridcolor\": \"white\", \"linecolor\": \"white\", \"ticks\": \"\"}}, \"scene\": {\"xaxis\": {\"backgroundcolor\": \"#E5ECF6\", \"gridcolor\": \"white\", \"gridwidth\": 2, \"linecolor\": \"white\", \"showbackground\": true, \"ticks\": \"\", \"zerolinecolor\": \"white\"}, \"yaxis\": {\"backgroundcolor\": \"#E5ECF6\", \"gridcolor\": \"white\", \"gridwidth\": 2, \"linecolor\": \"white\", \"showbackground\": true, \"ticks\": \"\", \"zerolinecolor\": \"white\"}, \"zaxis\": {\"backgroundcolor\": \"#E5ECF6\", \"gridcolor\": \"white\", \"gridwidth\": 2, \"linecolor\": \"white\", \"showbackground\": true, \"ticks\": \"\", \"zerolinecolor\": \"white\"}}, \"shapedefaults\": {\"line\": {\"color\": \"#2a3f5f\"}}, \"ternary\": {\"aaxis\": {\"gridcolor\": \"white\", \"linecolor\": \"white\", \"ticks\": \"\"}, \"baxis\": {\"gridcolor\": \"white\", \"linecolor\": \"white\", \"ticks\": \"\"}, \"bgcolor\": \"#E5ECF6\", \"caxis\": {\"gridcolor\": \"white\", \"linecolor\": \"white\", \"ticks\": \"\"}}, \"title\": {\"x\": 0.05}, \"xaxis\": {\"automargin\": true, \"gridcolor\": \"white\", \"linecolor\": \"white\", \"ticks\": \"\", \"title\": {\"standoff\": 15}, \"zerolinecolor\": \"white\", \"zerolinewidth\": 2}, \"yaxis\": {\"automargin\": true, \"gridcolor\": \"white\", \"linecolor\": \"white\", \"ticks\": \"\", \"title\": {\"standoff\": 15}, \"zerolinecolor\": \"white\", \"zerolinewidth\": 2}}}},                        {\"responsive\": true}                    ).then(function(){\n",
       "                            \n",
       "var gd = document.getElementById('3a578b66-f0cd-4466-9e10-c606a00b3452');\n",
       "var x = new MutationObserver(function (mutations, observer) {{\n",
       "        var display = window.getComputedStyle(gd).display;\n",
       "        if (!display || display === 'none') {{\n",
       "            console.log([gd, 'removed!']);\n",
       "            Plotly.purge(gd);\n",
       "            observer.disconnect();\n",
       "        }}\n",
       "}});\n",
       "\n",
       "// Listen for the removal of the full notebook cells\n",
       "var notebookContainer = gd.closest('#notebook-container');\n",
       "if (notebookContainer) {{\n",
       "    x.observe(notebookContainer, {childList: true});\n",
       "}}\n",
       "\n",
       "// Listen for the clearing of the current output cell\n",
       "var outputEl = gd.closest('.output');\n",
       "if (outputEl) {{\n",
       "    x.observe(outputEl, {childList: true});\n",
       "}}\n",
       "\n",
       "                        })                };                });            </script>        </div>"
      ]
     },
     "metadata": {},
     "output_type": "display_data"
    }
   ],
   "source": [
    "line_plot = go.Figure()\n",
    "line_plot.add_trace(go.Scatter(x = mase_final_results.index, y =mase_final_results['Grid'], name = \"Using grid level time series\"))\n",
    "line_plot.add_trace(go.Scatter(x = mase_final_results.index, y =mase_final_results['TL - Aggregated'], name = \"Using transmission Zone level time series\"))\n",
    "line_plot.add_trace(go.Scatter(x = mase_final_results.index, y =mase_final_results['SUB - Aggregated'], name = \"Using substation level time series\"))\n",
    "line_plot.add_trace(go.Scatter(x = mase_final_results.index, y =mase_final_results['PC - Aggregated'], name = \"Using postcode level time series\"))\n",
    "line_plot.add_trace(go.Scatter(x = nrmse_final_results.index, y =mase_final_results['Site - Aggregated'], name = \"Using site level time series\"))\n"
   ]
  },
  {
   "cell_type": "code",
   "execution_count": 72,
   "metadata": {},
   "outputs": [
    {
     "data": {
      "text/plain": [
       "26"
      ]
     },
     "execution_count": 72,
     "metadata": {},
     "output_type": "execute_result"
    }
   ],
   "source": [
    "# create a dataframe\n",
    "grid_results = grid_error\n",
    "grid_results.extend(grid_error_tcn)\n",
    "grid_results.extend(grid_error_arima)\n",
    "grid_results.extend(grid_error_tbats)\n",
    "grid_results.extend(grid_error_prophet)\n",
    "grid_results.extend([grid_error_naive[0]])\n",
    "len(grid_results)"
   ]
  },
  {
   "cell_type": "code",
   "execution_count": 73,
   "metadata": {},
   "outputs": [],
   "source": [
    "column_names = ['LSTM - Grid', 'LSTM - TL aggregated', 'LSTM - SUB aggregated', 'LSTM - PC aggregated', \n",
    "                'LSTM - Site aggregated', 'CNN - Grid', 'CNN - TL aggregated', 'CNN - SUB aggregated', \n",
    "                'CNN - PC aggregated', 'CNN - Site aggregated', 'AutoARIMA - Grid', 'AutoARIMA - TL aggregated', \n",
    "                'AutoARIMA - SUB aggregated', \n",
    "                'AutoARIMA - PC aggregated', 'AutoARIMA - Site aggregated', 'TBATS - Grid', \n",
    "                'TBATS - TL aggregated', 'TBATS - SUB aggregated', \n",
    "                'TBATS - PC aggregated', 'TBATS - Site aggregated','Prophet - Grid', \n",
    "                'Prophet - TL aggregated', 'Prophet - SUB aggregated', \n",
    "                'Prophet - PC aggregated', 'Prophet - Site aggregated','Seasonal Naive']\n",
    "\n",
    "grid_level_fc_accuracy = pd.DataFrame(grid_results, index = column_names, columns = ['Grid Forecasts mean MASE'])"
   ]
  },
  {
   "cell_type": "code",
   "execution_count": 74,
   "metadata": {},
   "outputs": [],
   "source": [
    "def highlight_min(s):\n",
    "    is_min = grid_level_fc_accuracy.isin(grid_level_fc_accuracy.nsmallest(3, 'Grid Forecasts mean MASE')).values[:,0]\n",
    "    return ['background-color: lightgreen' if v else '' for v in is_min]"
   ]
  },
  {
   "cell_type": "code",
   "execution_count": 75,
   "metadata": {},
   "outputs": [
    {
     "data": {
      "text/html": [
       "<style  type=\"text/css\" >\n",
       "#T_c3b24_row4_col0,#T_c3b24_row13_col0,#T_c3b24_row14_col0{\n",
       "            background-color:  lightgreen;\n",
       "        }</style><table id=\"T_c3b24_\" ><thead>    <tr>        <th class=\"blank level0\" ></th>        <th class=\"col_heading level0 col0\" >Grid Forecasts mean MASE</th>    </tr></thead><tbody>\n",
       "                <tr>\n",
       "                        <th id=\"T_c3b24_level0_row0\" class=\"row_heading level0 row0\" >LSTM - Grid</th>\n",
       "                        <td id=\"T_c3b24_row0_col0\" class=\"data row0 col0\" >1.468234</td>\n",
       "            </tr>\n",
       "            <tr>\n",
       "                        <th id=\"T_c3b24_level0_row1\" class=\"row_heading level0 row1\" >LSTM - TL aggregated</th>\n",
       "                        <td id=\"T_c3b24_row1_col0\" class=\"data row1 col0\" >1.416184</td>\n",
       "            </tr>\n",
       "            <tr>\n",
       "                        <th id=\"T_c3b24_level0_row2\" class=\"row_heading level0 row2\" >LSTM - SUB aggregated</th>\n",
       "                        <td id=\"T_c3b24_row2_col0\" class=\"data row2 col0\" >1.330124</td>\n",
       "            </tr>\n",
       "            <tr>\n",
       "                        <th id=\"T_c3b24_level0_row3\" class=\"row_heading level0 row3\" >LSTM - PC aggregated</th>\n",
       "                        <td id=\"T_c3b24_row3_col0\" class=\"data row3 col0\" >1.123227</td>\n",
       "            </tr>\n",
       "            <tr>\n",
       "                        <th id=\"T_c3b24_level0_row4\" class=\"row_heading level0 row4\" >LSTM - Site aggregated</th>\n",
       "                        <td id=\"T_c3b24_row4_col0\" class=\"data row4 col0\" >1.013093</td>\n",
       "            </tr>\n",
       "            <tr>\n",
       "                        <th id=\"T_c3b24_level0_row5\" class=\"row_heading level0 row5\" >CNN - Grid</th>\n",
       "                        <td id=\"T_c3b24_row5_col0\" class=\"data row5 col0\" >1.150049</td>\n",
       "            </tr>\n",
       "            <tr>\n",
       "                        <th id=\"T_c3b24_level0_row6\" class=\"row_heading level0 row6\" >CNN - TL aggregated</th>\n",
       "                        <td id=\"T_c3b24_row6_col0\" class=\"data row6 col0\" >1.169436</td>\n",
       "            </tr>\n",
       "            <tr>\n",
       "                        <th id=\"T_c3b24_level0_row7\" class=\"row_heading level0 row7\" >CNN - SUB aggregated</th>\n",
       "                        <td id=\"T_c3b24_row7_col0\" class=\"data row7 col0\" >1.171721</td>\n",
       "            </tr>\n",
       "            <tr>\n",
       "                        <th id=\"T_c3b24_level0_row8\" class=\"row_heading level0 row8\" >CNN - PC aggregated</th>\n",
       "                        <td id=\"T_c3b24_row8_col0\" class=\"data row8 col0\" >1.198341</td>\n",
       "            </tr>\n",
       "            <tr>\n",
       "                        <th id=\"T_c3b24_level0_row9\" class=\"row_heading level0 row9\" >CNN - Site aggregated</th>\n",
       "                        <td id=\"T_c3b24_row9_col0\" class=\"data row9 col0\" >1.169582</td>\n",
       "            </tr>\n",
       "            <tr>\n",
       "                        <th id=\"T_c3b24_level0_row10\" class=\"row_heading level0 row10\" >AutoARIMA - Grid</th>\n",
       "                        <td id=\"T_c3b24_row10_col0\" class=\"data row10 col0\" >1.054217</td>\n",
       "            </tr>\n",
       "            <tr>\n",
       "                        <th id=\"T_c3b24_level0_row11\" class=\"row_heading level0 row11\" >AutoARIMA - TL aggregated</th>\n",
       "                        <td id=\"T_c3b24_row11_col0\" class=\"data row11 col0\" >1.023268</td>\n",
       "            </tr>\n",
       "            <tr>\n",
       "                        <th id=\"T_c3b24_level0_row12\" class=\"row_heading level0 row12\" >AutoARIMA - SUB aggregated</th>\n",
       "                        <td id=\"T_c3b24_row12_col0\" class=\"data row12 col0\" >1.024157</td>\n",
       "            </tr>\n",
       "            <tr>\n",
       "                        <th id=\"T_c3b24_level0_row13\" class=\"row_heading level0 row13\" >AutoARIMA - PC aggregated</th>\n",
       "                        <td id=\"T_c3b24_row13_col0\" class=\"data row13 col0\" >0.929387</td>\n",
       "            </tr>\n",
       "            <tr>\n",
       "                        <th id=\"T_c3b24_level0_row14\" class=\"row_heading level0 row14\" >AutoARIMA - Site aggregated</th>\n",
       "                        <td id=\"T_c3b24_row14_col0\" class=\"data row14 col0\" >1.008491</td>\n",
       "            </tr>\n",
       "            <tr>\n",
       "                        <th id=\"T_c3b24_level0_row15\" class=\"row_heading level0 row15\" >TBATS - Grid</th>\n",
       "                        <td id=\"T_c3b24_row15_col0\" class=\"data row15 col0\" >1.874828</td>\n",
       "            </tr>\n",
       "            <tr>\n",
       "                        <th id=\"T_c3b24_level0_row16\" class=\"row_heading level0 row16\" >TBATS - TL aggregated</th>\n",
       "                        <td id=\"T_c3b24_row16_col0\" class=\"data row16 col0\" >1.749113</td>\n",
       "            </tr>\n",
       "            <tr>\n",
       "                        <th id=\"T_c3b24_level0_row17\" class=\"row_heading level0 row17\" >TBATS - SUB aggregated</th>\n",
       "                        <td id=\"T_c3b24_row17_col0\" class=\"data row17 col0\" >1.706391</td>\n",
       "            </tr>\n",
       "            <tr>\n",
       "                        <th id=\"T_c3b24_level0_row18\" class=\"row_heading level0 row18\" >TBATS - PC aggregated</th>\n",
       "                        <td id=\"T_c3b24_row18_col0\" class=\"data row18 col0\" >1.543742</td>\n",
       "            </tr>\n",
       "            <tr>\n",
       "                        <th id=\"T_c3b24_level0_row19\" class=\"row_heading level0 row19\" >TBATS - Site aggregated</th>\n",
       "                        <td id=\"T_c3b24_row19_col0\" class=\"data row19 col0\" >1.683219</td>\n",
       "            </tr>\n",
       "            <tr>\n",
       "                        <th id=\"T_c3b24_level0_row20\" class=\"row_heading level0 row20\" >Prophet - Grid</th>\n",
       "                        <td id=\"T_c3b24_row20_col0\" class=\"data row20 col0\" >1.962394</td>\n",
       "            </tr>\n",
       "            <tr>\n",
       "                        <th id=\"T_c3b24_level0_row21\" class=\"row_heading level0 row21\" >Prophet - TL aggregated</th>\n",
       "                        <td id=\"T_c3b24_row21_col0\" class=\"data row21 col0\" >1.966570</td>\n",
       "            </tr>\n",
       "            <tr>\n",
       "                        <th id=\"T_c3b24_level0_row22\" class=\"row_heading level0 row22\" >Prophet - SUB aggregated</th>\n",
       "                        <td id=\"T_c3b24_row22_col0\" class=\"data row22 col0\" >1.966532</td>\n",
       "            </tr>\n",
       "            <tr>\n",
       "                        <th id=\"T_c3b24_level0_row23\" class=\"row_heading level0 row23\" >Prophet - PC aggregated</th>\n",
       "                        <td id=\"T_c3b24_row23_col0\" class=\"data row23 col0\" >1.080398</td>\n",
       "            </tr>\n",
       "            <tr>\n",
       "                        <th id=\"T_c3b24_level0_row24\" class=\"row_heading level0 row24\" >Prophet - Site aggregated</th>\n",
       "                        <td id=\"T_c3b24_row24_col0\" class=\"data row24 col0\" >1.089936</td>\n",
       "            </tr>\n",
       "            <tr>\n",
       "                        <th id=\"T_c3b24_level0_row25\" class=\"row_heading level0 row25\" >Seasonal Naive</th>\n",
       "                        <td id=\"T_c3b24_row25_col0\" class=\"data row25 col0\" >1.079392</td>\n",
       "            </tr>\n",
       "    </tbody></table>"
      ],
      "text/plain": [
       "<pandas.io.formats.style.Styler at 0x130292e20>"
      ]
     },
     "execution_count": 75,
     "metadata": {},
     "output_type": "execute_result"
    }
   ],
   "source": [
    "grid_level_fc_accuracy.style.apply(highlight_min)"
   ]
  },
  {
   "cell_type": "code",
   "execution_count": 76,
   "metadata": {},
   "outputs": [],
   "source": [
    "final_result_csv = grid_level_fc_accuracy.round(3)"
   ]
  },
  {
   "cell_type": "code",
   "execution_count": 77,
   "metadata": {},
   "outputs": [],
   "source": [
    "final_result_csv.to_csv('final_results.csv')"
   ]
  },
  {
   "cell_type": "code",
   "execution_count": 80,
   "metadata": {},
   "outputs": [
    {
     "data": {
      "application/vnd.plotly.v1+json": {
       "config": {
        "plotlyServerURL": "https://plot.ly"
       },
       "data": [
        {
         "boxmean": true,
         "name": "LSTM - Grid",
         "type": "box",
         "y": [
          1.2354774395423362,
          1.117142891601437,
          0.7993274246742958,
          2.118379514611731,
          1.3654891161006817,
          1.6989868219458528,
          2.136336236493712,
          1.2464063998995059,
          1.2955410704734338,
          0.7400306434417475,
          0.7036381632138295,
          1.1393532477331108,
          1.926683739288961,
          1.8386192879132264,
          1.770227336406372,
          0.8806028921367005,
          1.4034838467669737,
          0.7868948593165568,
          2.2941460743782587,
          1.6787664154472353,
          1.9676525929828605,
          1.2715129003364714,
          1.3142094873838912,
          0.8946901048430035,
          0.7833009795098324,
          1.1852053935413431,
          1.4496242461690916,
          1.3694847225854314,
          3.5833976613054728,
          2.8223650715695596,
          1.2001564761117602,
          0.6941539527108913,
          1.5868498410255636,
          1.5060191221833255,
          1.8758818283984922,
          1.1764035605562444
         ]
        },
        {
         "boxmean": true,
         "name": "LSTM - TL aggregated",
         "type": "box",
         "y": [
          1.2565060174497165,
          1.003259752296023,
          1.2863189237892638,
          2.2745277358444524,
          1.1527365698097,
          1.718963869129302,
          1.3909306502685048,
          1.127812515628105,
          1.0007819748129587,
          0.555744964230217,
          0.8820445271138541,
          1.519519976709057,
          2.3655747096350397,
          1.7161247618088722,
          1.662569362263201,
          0.6589237736292282,
          1.4270339797048657,
          0.903337934543747,
          1.96811342900828,
          2.1383426450110496,
          1.4914373012167537,
          0.9283073590485752,
          1.1710828531933752,
          0.6011435568379255,
          0.8316492898181294,
          1.6219005293611806,
          1.144393590629725,
          1.3969034150507853,
          3.722774605738128,
          3.2920229653791826,
          1.2303582793213048,
          0.8379174125207524,
          1.281825271407646,
          1.0582987377452036,
          1.5627522189121894,
          0.8006837295168067
         ]
        },
        {
         "boxmean": true,
         "name": "LSTM - SUB aggregated",
         "type": "box",
         "y": [
          1.3914132828410177,
          0.8787285641898317,
          1.2166071479805718,
          2.283771801539802,
          0.5873153658261671,
          1.3814325977464235,
          1.453705104498556,
          1.3114169459776304,
          0.8885321798222752,
          0.577090592745834,
          0.6888111245462561,
          1.0275077873774585,
          2.6148774327178,
          1.0895104135537745,
          1.743979371076874,
          0.6798350360620242,
          1.2461438018094577,
          0.9487645754482197,
          2.0500196225886547,
          2.0298690376929454,
          0.8560991992685263,
          0.9915283287104387,
          1.02827109976725,
          0.6774028899284437,
          0.9732806155210634,
          1.177147311446156,
          0.8536203257890184,
          1.4718119696082668,
          3.815815020808228,
          3.077535796164642,
          1.2730124776556555,
          0.6585522368834437,
          0.8735041981801795,
          1.0611927726200003,
          1.802482186360669,
          1.2038896697690948
         ]
        },
        {
         "boxmean": true,
         "name": "LSTM - PC aggregated",
         "type": "box",
         "y": [
          1.0894238249953776,
          1.3551896846981977,
          0.8070394741900427,
          1.588776901177034,
          0.3816785319609469,
          1.366728322573813,
          1.603846951943192,
          0.8337623685299966,
          1.142932343021481,
          0.5544579812765232,
          0.7759105060865794,
          1.2258017963201289,
          1.3612243215956312,
          1.1449052037473042,
          1.4545886642479005,
          1.028489376787211,
          1.5960905855156367,
          0.7219746016511266,
          0.7891658590650913,
          1.2858377067224638,
          1.040194110924839,
          0.8356440025250256,
          1.2195274863113088,
          0.8773054857271695,
          0.6049531396769853,
          0.8777933708548463,
          1.4988564190452103,
          1.4468416260871868,
          3.2294684458335907,
          1.567007615063325,
          1.191299236183136,
          0.579310759953629,
          0.5716247115280282,
          0.9568416722276819,
          1.2301474640426455,
          0.60153155887528
         ]
        },
        {
         "boxmean": true,
         "name": "LSTM - Site aggregated",
         "type": "box",
         "y": [
          1.0942807244706505,
          1.1121656808704974,
          0.7514490395081358,
          1.2383249227908735,
          0.389738391541274,
          1.283201638126297,
          1.5094405203124475,
          0.8908982778692865,
          0.9507719250197556,
          0.5203378730979481,
          0.5658775176344965,
          1.0365075680635614,
          1.1634778223960995,
          0.9768067294190235,
          1.495981949555343,
          0.7517060041055926,
          1.4814083900667903,
          0.6569541604481436,
          0.7400435341934389,
          1.0502338379640266,
          1.0596142222649196,
          0.9349651046122042,
          0.9063558557419376,
          0.6782018366280195,
          0.5229285448267803,
          0.6046263274117333,
          1.1000519994818918,
          0.8467439801576508,
          3.1087308825001925,
          1.4386938735181671,
          1.5673356665009852,
          0.5494438485068514,
          0.5332019762299115,
          0.893112772303674,
          1.34163809148877,
          0.7261140466407794
         ]
        },
        {
         "boxmean": true,
         "name": "CNN - Grid",
         "type": "box",
         "y": [
          1.2714278154834477,
          0.7990954559089979,
          0.9093162473503432,
          1.0859799403622379,
          0.3402475439709642,
          0.6797118642902824,
          1.1907457623161533,
          0.7926797472248664,
          0.7108862731187087,
          0.8361117465032811,
          0.6701892623606502,
          0.9786443896778498,
          0.9612770608423199,
          0.7199984195554417,
          1.602749851918091,
          0.7665714788125165,
          1.3371723441984695,
          1.2335489835006788,
          1.0690424204162734,
          1.03664744001746,
          1.0313831828282949,
          0.4390828882049444,
          0.9521070224742884,
          0.6971254572651662,
          0.6163582767930187,
          0.5337485371112842,
          1.0333898881231454,
          0.6588187614979745,
          4.48170185394435,
          3.572149670891403,
          1.6991107591387298,
          1.3894278733798602,
          0.9170627234027267,
          0.7011541163324838,
          2.573620377332896,
          1.1134612948580511
         ]
        },
        {
         "boxmean": true,
         "name": "CNN - TL aggregated",
         "type": "box",
         "y": [
          1.214646944464766,
          0.8424497885215494,
          0.8769546399496427,
          1.1075982704254064,
          0.26897753559519627,
          0.7470271070351288,
          1.3229593142762113,
          0.7661567964985438,
          0.7371064402421486,
          0.7982080952545026,
          0.7009281670651232,
          1.0220286068689586,
          1.0559376995068768,
          0.7972266087344534,
          1.621980577016951,
          0.7987399402285341,
          1.3712804193765107,
          1.166566931574826,
          1.0805090655555618,
          1.110325409407052,
          1.1463704283450193,
          0.4046694004089354,
          0.9571472416865161,
          0.7150360009072221,
          0.5728035130419069,
          0.5664299920168805,
          1.0943904582810842,
          0.649273777181498,
          4.424160500815578,
          3.6922986735462127,
          1.534693125837627,
          1.3239684743356868,
          0.9142058987326658,
          0.7364633240910817,
          2.6204476128870993,
          1.3397324799384929
         ]
        },
        {
         "boxmean": true,
         "name": "CNN - SUB aggregated",
         "type": "box",
         "y": [
          1.2103782739845683,
          0.8429075729826047,
          0.8792876383350626,
          1.1134150894691996,
          0.2656450158038337,
          0.7530768092774204,
          1.332913078051424,
          0.7661680724335371,
          0.74117755260692,
          0.7973252635492819,
          0.7023530159585343,
          1.0254777148899878,
          1.0646654446803787,
          0.8032671060735954,
          1.6203806223900616,
          0.79744093766241,
          1.3780128975055053,
          1.1648551857460243,
          1.081837140111745,
          1.1154207666915092,
          1.154442244085972,
          0.4064912590688314,
          0.962729232857409,
          0.7189823178717635,
          0.5688818404961014,
          0.5691967279477799,
          1.1026497704761613,
          0.6548335359673613,
          4.422412443377644,
          3.691187548313093,
          1.5314466051264435,
          1.3245361694914384,
          0.9148148640932888,
          0.7349373315957732,
          2.6225372013697097,
          1.3458848945648256
         ]
        },
        {
         "boxmean": true,
         "name": "CNN - PC aggregated",
         "type": "box",
         "y": [
          1.295754107810101,
          0.9818408503131677,
          1.0452517178365195,
          1.3170372780813904,
          1.1099279213710316,
          0.8515100443968558,
          1.0732701699548233,
          1.9005791002886547,
          1.5862482831429243,
          2.0162913440329917,
          0.8173854965608477,
          0.7255406923364156,
          0.6153080121263811,
          0.3019170332738032,
          1.501264096989632,
          0.8891040994113695,
          1.8961871286979248,
          0.6650769813451477,
          0.4621367183242228,
          0.4614677091400289,
          0.5723090766348455,
          1.4608220825091063,
          1.7174636230917888,
          2.159101791814472,
          1.8725012573556061,
          0.7595642771197503,
          0.6946439602692236,
          1.2399929825400922,
          3.5141371557226315,
          2.119037362118866,
          1.0267865445617066,
          0.7112449526701872,
          0.5130418519640336,
          0.8409656204834348,
          0.975376849350578,
          1.4501873523027766
         ]
        },
        {
         "boxmean": true,
         "name": "CNN - Site aggregated",
         "type": "box",
         "y": [
          0.6538310785078754,
          1.046438712092186,
          0.8049860488142465,
          1.2964887269614687,
          1.176648741122935,
          0.8256446984228064,
          0.9553337501109098,
          1.572511101530005,
          1.2736985640961829,
          1.6708474686354309,
          0.9409972157013435,
          0.8849406005888776,
          0.6899467910006284,
          0.3244461774416539,
          1.2770071784045818,
          0.9350304266850575,
          1.8011695929486582,
          0.7575111639753394,
          0.5912924860656695,
          0.5449888803536309,
          0.8691329905721721,
          1.3011878604525664,
          1.6748161556311587,
          2.1603318317674103,
          2.101768593145337,
          0.8807060849050528,
          0.9400879757965379,
          1.2481332347145602,
          3.29597337905112,
          2.035078478018573,
          1.0377693121293297,
          0.8106265845634821,
          0.49981769409885707,
          0.9964511112749264,
          0.7817455425764003,
          1.4475491727192575
         ]
        },
        {
         "boxmean": true,
         "name": "AutoARIMA - Grid",
         "type": "box",
         "y": [
          1.6853576949368594,
          1.2614247027541112,
          0.6884773300889144,
          0.789304499739047,
          0.5704930601472075,
          0.5211776827953404,
          0.7437049840271515,
          0.7253299905984498,
          0.49963850007962224,
          0.9985240152418069,
          0.9814577478972913,
          0.5675644356173761,
          0.6714383294132533,
          0.6176419140374961,
          1.4917734646469665,
          1.0892238527385738,
          1.5783255893347,
          0.6667860032366376,
          0.8378419462863471,
          0.829941675957614,
          0.9009290825713053,
          0.432213043343397,
          0.7598155958418239,
          0.45140613190211604,
          0.7322972643647959,
          0.5995416240429228,
          0.8925837127925106,
          0.6715439740415531,
          4.462695509950671,
          4.802625806456639,
          0.6022730672793044,
          0.8843115609470243,
          0.8616507722807992,
          0.656635754739094,
          1.8473987737292747,
          0.5784779230164391
         ]
        },
        {
         "boxmean": true,
         "name": "AutoARIMA - TL aggregated",
         "type": "box",
         "y": [
          1.8745646205205138,
          1.0835049877466334,
          0.6357742184356338,
          0.6928529778066556,
          0.6869784872431332,
          0.57211055420136,
          0.6139999809733766,
          0.9054582183606087,
          0.5665766558849897,
          1.109991936393243,
          0.585108324933742,
          0.9049575747893428,
          0.5385268913213943,
          0.4560654004762588,
          1.810641174553524,
          0.9648709637285923,
          1.4103327722163228,
          0.6220011942518164,
          0.7692756489590741,
          0.5899954734620854,
          0.7369602124604077,
          0.6652238653068239,
          0.7641144282027618,
          0.4399931373884252,
          0.8196358321191842,
          0.638553982467457,
          0.8421906356500617,
          0.7304139016435538,
          4.3226291752018335,
          3.4842320938344313,
          1.1904457869499177,
          0.8626696273943174,
          0.9938217048275692,
          0.7336226138787211,
          1.7284205260164325,
          0.49114364999295085
         ]
        },
        {
         "boxmean": true,
         "name": "AutoARIMA - SUB aggregated",
         "type": "box",
         "y": [
          1.6672383811196254,
          1.2599621619234436,
          0.7071800861988409,
          0.7759370010949451,
          0.6481314848804709,
          0.554363005384297,
          0.7394276957435336,
          0.7346092624342436,
          0.5239704006123203,
          1.0426982471058863,
          0.6805209676804003,
          0.7183898318873914,
          0.6200768368547032,
          0.5754932921247854,
          1.6016411997977167,
          1.0489758676873442,
          1.6232273234316055,
          0.7293947497952125,
          0.822160007039621,
          0.7076522598953086,
          0.833123442264527,
          0.5176909105678976,
          0.7722263194464019,
          0.4816601747765691,
          0.7493877257712294,
          0.6042482575260125,
          0.8237508447645941,
          0.7099024867512581,
          4.299909757032919,
          4.43519417361959,
          0.48571593915327405,
          1.007423080725379,
          0.6027460961647506,
          0.7157867131317346,
          1.6268644318764347,
          0.4229740444387623
         ]
        },
        {
         "boxmean": true,
         "name": "AutoARIMA - PC aggregated",
         "type": "box",
         "y": [
          0.9039789425533031,
          0.35419417712580836,
          1.0311292617876673,
          0.6223665494202419,
          0.7427185543610031,
          1.6601331348467296,
          0.520171114597606,
          1.034804220722936,
          0.7144800680440542,
          1.1092622154517626,
          0.939615069592148,
          0.8737867149615098,
          0.7160256764027219,
          0.3872847015444819,
          1.4924934263649472,
          0.5134620935682465,
          1.2944274657332586,
          0.6255853436822141,
          0.41721973166513854,
          0.5453744215808608,
          0.3005486070897783,
          1.3206541885017575,
          1.0968742263077744,
          0.7589073160752805,
          0.9551624264902092,
          0.6034109497141973,
          0.6003162825636197,
          1.5178031586137966,
          2.5100079271338736,
          1.146882550806465,
          1.634738721477056,
          1.1400707135502175,
          0.5615680075578704,
          0.8542013411387829,
          0.9623728234714323,
          0.9958967947479278
         ]
        },
        {
         "boxmean": true,
         "name": "AutoARIMA - Site aggregated",
         "type": "box",
         "y": [
          1.0496335048124212,
          0.6526851057072862,
          1.2583686176884472,
          0.6816962152845688,
          0.9330119954022347,
          1.4655520552057022,
          0.530918809044491,
          1.1585226230448202,
          0.5921815085726108,
          1.3563691679324354,
          0.6951497141273585,
          1.1124391209364028,
          0.7077442895425345,
          0.41247313336068575,
          1.3929080278059705,
          0.5512555922955837,
          1.3177708720673444,
          0.7634044054294369,
          0.5291714390524157,
          0.5524709483951551,
          0.3736796210646908,
          1.3437900720428768,
          1.1603700537481763,
          0.8451283521758858,
          0.7677102114147619,
          0.6894226753995306,
          0.7830257983708131,
          1.4426746664828438,
          2.8541270577857722,
          1.0946491671240504,
          2.0838777102582466,
          1.2678552254529307,
          0.7000498850222076,
          0.796003669997406,
          1.2048645686547503,
          1.1847298630868974
         ]
        },
        {
         "boxmean": true,
         "name": "TBATS - Grid",
         "type": "box",
         "y": [
          2.1869798844491064,
          1.94123104399883,
          1.7974107613980395,
          2.089468139611649,
          1.7155515036385296,
          1.8201608952024748,
          2.002659280577167,
          1.5886212721451973,
          1.29730520187363,
          1.2690635822941267,
          1.0835603093447725,
          1.8494981027969366,
          1.9123619957445757,
          1.814233162241381,
          2.3971521477392783,
          1.7651560178071901,
          1.9787634713217386,
          1.4272351455166772,
          2.3071435199901487,
          1.6878205843333485,
          2.2014318216683475,
          2.106494375600014,
          1.665733828767462,
          1.2930559063665394,
          1.325770841963751,
          1.3978451135397922,
          1.8868203750696961,
          1.6491585938365907,
          4.430603684767729,
          4.558810020684946,
          1.382716096645953,
          1.3470030246930456,
          1.340823145038424,
          1.2930397734796804,
          2.4208959104083125,
          1.262221288360809
         ]
        },
        {
         "boxmean": true,
         "name": "TBATS - TL aggregated",
         "type": "box",
         "y": [
          1.9990410008573145,
          2.1661636219292055,
          1.444175397857522,
          1.6389913331957737,
          1.2924491973362595,
          1.475397021006851,
          1.6878439919663755,
          1.884053237257579,
          1.2005724021739728,
          1.2959375250422447,
          1.0474309499771297,
          1.839621033857329,
          1.6845602756743692,
          1.5274641336359391,
          2.8090761195403986,
          1.389682025386324,
          1.8056266549568443,
          1.3071831457671188,
          1.8312758471617852,
          0.773519749173232,
          1.9426043585506283,
          1.7638073609282625,
          0.9977543914750454,
          1.526209148110923,
          1.4048135647577413,
          1.5210549800963573,
          1.9080080408537563,
          1.6410203662161817,
          4.39894039351588,
          3.38347124015149,
          2.122373002262742,
          1.354574328800685,
          1.2731568831806999,
          1.3471042813577798,
          2.3169023004987657,
          1.966205664538433
         ]
        },
        {
         "boxmean": true,
         "name": "TBATS - SUB aggregated",
         "type": "box",
         "y": [
          2.0192782723758245,
          1.9614748352143878,
          1.5860070935843178,
          1.7180281720296056,
          1.595910016349292,
          0.5464537845418276,
          1.599861751945753,
          1.6584230523255925,
          1.2052415245384271,
          1.0058338069807726,
          0.9817732624500201,
          1.831246062781867,
          1.7249931681548476,
          1.9175098092943983,
          2.3027002774122316,
          1.628161654494416,
          2.0004832822982297,
          1.3605447888072082,
          1.8073024431469975,
          1.5616192049192648,
          1.8727215004471314,
          1.7957064009082058,
          1.547614221724276,
          1.4997001513408896,
          1.1347824100173474,
          1.375000893209642,
          1.7471375567661507,
          1.753084917836327,
          4.344216251677783,
          3.8670369988601343,
          1.0099623583718607,
          0.8243998387715523,
          1.3213516472848317,
          1.3690473837865877,
          2.310228776732466,
          1.6452539479296922
         ]
        },
        {
         "boxmean": true,
         "name": "TBATS - PC aggregated",
         "type": "box",
         "y": [
          2.2795711059721353,
          2.0822599239266597,
          1.7212771956997945,
          1.7518692585849656,
          1.3969349226623478,
          0.8278513789429363,
          1.7967767543487094,
          1.6137038021095769,
          0.8389540612949317,
          1.099365193000944,
          0.873582958137532,
          1.903126952404013,
          1.0266950355264688,
          0.9084355958403518,
          2.1212559570123517,
          1.5204758713608495,
          1.6839920560372368,
          1.4617894716514257,
          1.0224682839240293,
          1.6460140438469213,
          0.8813736634956247,
          0.9317124634966599,
          0.9871120081029273,
          1.2309728996130065,
          1.2516007765125425,
          1.438384973867454,
          1.831932708502953,
          1.6924732273408372,
          4.807806390761672,
          2.655197882659451,
          1.0173819601878458,
          1.3100368956394226,
          1.3570057543260405,
          1.1774719109536758,
          2.2570413788588857,
          1.1707947077575918
         ]
        },
        {
         "boxmean": true,
         "name": "TBATS - Site aggregated",
         "type": "box",
         "y": [
          2.2864693250164536,
          1.7845587900071107,
          1.490966355447867,
          1.8032333903535547,
          1.4609330162108374,
          1.2354315570029921,
          1.4160075665688552,
          1.890287924003794,
          1.0452229723755584,
          1.1073771782891388,
          0.8980015543933428,
          1.7072860315155978,
          1.4591144549684925,
          1.365499993545086,
          2.4678997558170424,
          1.5264245922382038,
          1.7824643693179205,
          1.475409260396974,
          1.950673962978966,
          1.5071310349413414,
          1.2922441644667004,
          1.5909775699244353,
          1.585570161810793,
          1.3147915255392353,
          1.4165592069759751,
          1.4997415295053218,
          1.7830806841464428,
          1.6002708547598563,
          4.4504720939954145,
          3.584062992534734,
          1.3642639824718956,
          1.1234251232713544,
          1.2480419209893316,
          1.3573195100629285,
          2.2668706824854796,
          1.4577821253931484
         ]
        },
        {
         "boxmean": true,
         "name": "Prophet - Grid",
         "type": "box",
         "y": [
          2.1070396885373124,
          2.2211063836811933,
          1.687984661374971,
          1.9424104369511355,
          1.7863473902220208,
          1.7914062176392225,
          1.9671943730672035,
          1.722198269241318,
          1.390462383521621,
          1.3587433397560993,
          1.723932374067403,
          1.8496196922572714,
          1.8453386300974313,
          1.94631410425766,
          2.452890737592689,
          2.1161764372836926,
          2.382035336458408,
          1.6039823733422875,
          2.0480629549726648,
          1.655396128506615,
          2.0393536067592506,
          1.647456466117945,
          1.6593376897879464,
          1.3909467692545083,
          1.528510940821869,
          1.5701683511132916,
          1.8953633903643896,
          1.7655720194217221,
          4.561280107207387,
          5.250522584939957,
          1.6962472472980934,
          1.4777951906786106,
          1.309266003898802,
          1.6596944058523024,
          2.182005766320968,
          1.4140393129142323
         ]
        },
        {
         "boxmean": true,
         "name": "Prophet - TL aggregated",
         "type": "box",
         "y": [
          2.1038163470764393,
          2.2187079347194203,
          1.6881835052273375,
          1.9423947278306473,
          1.7819159084770322,
          1.787441560567358,
          1.9686940790895349,
          1.7205803799624968,
          1.3872118352373968,
          1.3413982064045409,
          1.7141243263892227,
          1.8475488140064145,
          1.8463269656830799,
          1.9460521300136553,
          2.457116419672874,
          2.1283557629660548,
          2.426304882659695,
          1.619233005534243,
          2.047641188574121,
          1.6552592863326852,
          2.0330261254591937,
          1.654176249731925,
          1.6621967584571355,
          1.3905721571488994,
          1.5356493494364405,
          1.5784924921787589,
          1.8883748977915022,
          1.764861630237602,
          4.600508633722259,
          5.274241831126754,
          1.7089499724140935,
          1.5054779991359106,
          1.321597561717244,
          1.6500802426193488,
          2.1790900608710944,
          1.4209187535285845
         ]
        },
        {
         "boxmean": true,
         "name": "Prophet - SUB aggregated",
         "type": "box",
         "y": [
          2.108065513099449,
          2.2224567195586458,
          1.688200963438044,
          1.9424598845631214,
          1.781701410310599,
          1.7878684487312226,
          1.9688095741127967,
          1.7233634354764018,
          1.3873208642983739,
          1.3387203129520484,
          1.712113321541853,
          1.8483726986165565,
          1.8453361596797444,
          1.9463764685917593,
          2.4557232387807026,
          2.1292942001129838,
          2.410359314033898,
          1.6159335251476856,
          2.0477090478217934,
          1.655528571152193,
          2.0334561650553846,
          1.657735198635677,
          1.6629689699272046,
          1.390835150665543,
          1.5347634519253555,
          1.5752005968061447,
          1.889822891383042,
          1.7656646400991411,
          4.6068478283878695,
          5.268188412245194,
          1.7216688361687,
          1.502105456815721,
          1.3136917899510505,
          1.657735458595525,
          2.178237184263218,
          1.4205176248968947
         ]
        },
        {
         "boxmean": true,
         "name": "Prophet - PC aggregated",
         "type": "box",
         "y": [
          1.394914233119005,
          0.8961124747848187,
          1.1570618520397427,
          0.8817690338367468,
          0.7067764220170567,
          1.2183947016215366,
          0.6568315753460051,
          1.194917832188488,
          0.9730908430762703,
          1.110091081050229,
          1.0226473692890266,
          1.0635057412326776,
          0.6658292956091707,
          0.7318697672593263,
          1.7019899180537779,
          0.8502440623283638,
          1.3581638161669982,
          1.018864998821758,
          0.668130040020375,
          0.9270030619098124,
          0.7380305565384883,
          1.361599644244693,
          1.4263042574734122,
          1.0050589283515203,
          1.3071169397719633,
          0.6985795077405857,
          0.7550891534028924,
          1.268473761626455,
          2.1851857632794216,
          1.7882434704491696,
          1.5815739821817973,
          0.8097470302673411,
          0.7455162957086061,
          0.8182149309230162,
          1.0836910451038144,
          1.1237059413590562
         ]
        },
        {
         "boxmean": true,
         "name": "Prophet - Site aggregated",
         "type": "box",
         "y": [
          1.3998005474695214,
          0.9094032420589161,
          1.1678967991179456,
          0.8900908318206714,
          0.7257308618247985,
          1.2211839447756125,
          0.6709031540911486,
          1.2170238948501508,
          0.9870622222266549,
          1.132863299450275,
          1.0595376951066118,
          1.0525566581475307,
          0.6949741898075442,
          0.7622831738854785,
          1.7023876355465906,
          0.8369182439171967,
          1.3711586351420448,
          1.0122216920015592,
          0.6573449016085497,
          0.9403370708970649,
          0.7546349121590902,
          1.3862669663308334,
          1.4318283186252205,
          1.020303799990494,
          1.3222639373231833,
          0.7248160131522127,
          0.7522452217832595,
          1.2715629363523162,
          2.191309026970861,
          1.7769088743076042,
          1.5653033765574826,
          0.7858713500277296,
          0.7647647516412505,
          0.8320879187831701,
          1.1106558552816286,
          1.135178464339499
         ]
        },
        {
         "boxmean": true,
         "name": "Seasonal Naive",
         "type": "box",
         "y": [
          1.4780371894097077,
          0.8108757931193623,
          0.9851368717740118,
          0.8412022613713731,
          0.755382348456642,
          0.612166844090761,
          0.43585031345239544,
          1.1181002430064222,
          0.4924402285622381,
          0.8916435451782548,
          0.41842472894114213,
          1.307384594678476,
          0.2866599834283844,
          0.10984875294350051,
          1.764688845434049,
          0.9703422553926633,
          1.3030478677055288,
          1.437270007020137,
          0.9547229368649363,
          0.6872756624678654,
          0.39006824112300315,
          1.0429523320936664,
          0.6942082552495016,
          0.3899611703689176,
          0.9780913096604256,
          0.7741613096127081,
          0.7323568449568453,
          0.48894410676422506,
          4.763940207017605,
          0.8715147927874495,
          3.877950101747636,
          1.1304166181612112,
          0.8768893514040391,
          1.0180100510191703,
          1.9763814896102938,
          1.191756912474073
         ]
        }
       ],
       "layout": {
        "font": {
         "size": 10
        },
        "showlegend": false,
        "template": {
         "data": {
          "bar": [
           {
            "error_x": {
             "color": "#2a3f5f"
            },
            "error_y": {
             "color": "#2a3f5f"
            },
            "marker": {
             "line": {
              "color": "#E5ECF6",
              "width": 0.5
             }
            },
            "type": "bar"
           }
          ],
          "barpolar": [
           {
            "marker": {
             "line": {
              "color": "#E5ECF6",
              "width": 0.5
             }
            },
            "type": "barpolar"
           }
          ],
          "carpet": [
           {
            "aaxis": {
             "endlinecolor": "#2a3f5f",
             "gridcolor": "white",
             "linecolor": "white",
             "minorgridcolor": "white",
             "startlinecolor": "#2a3f5f"
            },
            "baxis": {
             "endlinecolor": "#2a3f5f",
             "gridcolor": "white",
             "linecolor": "white",
             "minorgridcolor": "white",
             "startlinecolor": "#2a3f5f"
            },
            "type": "carpet"
           }
          ],
          "choropleth": [
           {
            "colorbar": {
             "outlinewidth": 0,
             "ticks": ""
            },
            "type": "choropleth"
           }
          ],
          "contour": [
           {
            "colorbar": {
             "outlinewidth": 0,
             "ticks": ""
            },
            "colorscale": [
             [
              0,
              "#0d0887"
             ],
             [
              0.1111111111111111,
              "#46039f"
             ],
             [
              0.2222222222222222,
              "#7201a8"
             ],
             [
              0.3333333333333333,
              "#9c179e"
             ],
             [
              0.4444444444444444,
              "#bd3786"
             ],
             [
              0.5555555555555556,
              "#d8576b"
             ],
             [
              0.6666666666666666,
              "#ed7953"
             ],
             [
              0.7777777777777778,
              "#fb9f3a"
             ],
             [
              0.8888888888888888,
              "#fdca26"
             ],
             [
              1,
              "#f0f921"
             ]
            ],
            "type": "contour"
           }
          ],
          "contourcarpet": [
           {
            "colorbar": {
             "outlinewidth": 0,
             "ticks": ""
            },
            "type": "contourcarpet"
           }
          ],
          "heatmap": [
           {
            "colorbar": {
             "outlinewidth": 0,
             "ticks": ""
            },
            "colorscale": [
             [
              0,
              "#0d0887"
             ],
             [
              0.1111111111111111,
              "#46039f"
             ],
             [
              0.2222222222222222,
              "#7201a8"
             ],
             [
              0.3333333333333333,
              "#9c179e"
             ],
             [
              0.4444444444444444,
              "#bd3786"
             ],
             [
              0.5555555555555556,
              "#d8576b"
             ],
             [
              0.6666666666666666,
              "#ed7953"
             ],
             [
              0.7777777777777778,
              "#fb9f3a"
             ],
             [
              0.8888888888888888,
              "#fdca26"
             ],
             [
              1,
              "#f0f921"
             ]
            ],
            "type": "heatmap"
           }
          ],
          "heatmapgl": [
           {
            "colorbar": {
             "outlinewidth": 0,
             "ticks": ""
            },
            "colorscale": [
             [
              0,
              "#0d0887"
             ],
             [
              0.1111111111111111,
              "#46039f"
             ],
             [
              0.2222222222222222,
              "#7201a8"
             ],
             [
              0.3333333333333333,
              "#9c179e"
             ],
             [
              0.4444444444444444,
              "#bd3786"
             ],
             [
              0.5555555555555556,
              "#d8576b"
             ],
             [
              0.6666666666666666,
              "#ed7953"
             ],
             [
              0.7777777777777778,
              "#fb9f3a"
             ],
             [
              0.8888888888888888,
              "#fdca26"
             ],
             [
              1,
              "#f0f921"
             ]
            ],
            "type": "heatmapgl"
           }
          ],
          "histogram": [
           {
            "marker": {
             "colorbar": {
              "outlinewidth": 0,
              "ticks": ""
             }
            },
            "type": "histogram"
           }
          ],
          "histogram2d": [
           {
            "colorbar": {
             "outlinewidth": 0,
             "ticks": ""
            },
            "colorscale": [
             [
              0,
              "#0d0887"
             ],
             [
              0.1111111111111111,
              "#46039f"
             ],
             [
              0.2222222222222222,
              "#7201a8"
             ],
             [
              0.3333333333333333,
              "#9c179e"
             ],
             [
              0.4444444444444444,
              "#bd3786"
             ],
             [
              0.5555555555555556,
              "#d8576b"
             ],
             [
              0.6666666666666666,
              "#ed7953"
             ],
             [
              0.7777777777777778,
              "#fb9f3a"
             ],
             [
              0.8888888888888888,
              "#fdca26"
             ],
             [
              1,
              "#f0f921"
             ]
            ],
            "type": "histogram2d"
           }
          ],
          "histogram2dcontour": [
           {
            "colorbar": {
             "outlinewidth": 0,
             "ticks": ""
            },
            "colorscale": [
             [
              0,
              "#0d0887"
             ],
             [
              0.1111111111111111,
              "#46039f"
             ],
             [
              0.2222222222222222,
              "#7201a8"
             ],
             [
              0.3333333333333333,
              "#9c179e"
             ],
             [
              0.4444444444444444,
              "#bd3786"
             ],
             [
              0.5555555555555556,
              "#d8576b"
             ],
             [
              0.6666666666666666,
              "#ed7953"
             ],
             [
              0.7777777777777778,
              "#fb9f3a"
             ],
             [
              0.8888888888888888,
              "#fdca26"
             ],
             [
              1,
              "#f0f921"
             ]
            ],
            "type": "histogram2dcontour"
           }
          ],
          "mesh3d": [
           {
            "colorbar": {
             "outlinewidth": 0,
             "ticks": ""
            },
            "type": "mesh3d"
           }
          ],
          "parcoords": [
           {
            "line": {
             "colorbar": {
              "outlinewidth": 0,
              "ticks": ""
             }
            },
            "type": "parcoords"
           }
          ],
          "pie": [
           {
            "automargin": true,
            "type": "pie"
           }
          ],
          "scatter": [
           {
            "marker": {
             "colorbar": {
              "outlinewidth": 0,
              "ticks": ""
             }
            },
            "type": "scatter"
           }
          ],
          "scatter3d": [
           {
            "line": {
             "colorbar": {
              "outlinewidth": 0,
              "ticks": ""
             }
            },
            "marker": {
             "colorbar": {
              "outlinewidth": 0,
              "ticks": ""
             }
            },
            "type": "scatter3d"
           }
          ],
          "scattercarpet": [
           {
            "marker": {
             "colorbar": {
              "outlinewidth": 0,
              "ticks": ""
             }
            },
            "type": "scattercarpet"
           }
          ],
          "scattergeo": [
           {
            "marker": {
             "colorbar": {
              "outlinewidth": 0,
              "ticks": ""
             }
            },
            "type": "scattergeo"
           }
          ],
          "scattergl": [
           {
            "marker": {
             "colorbar": {
              "outlinewidth": 0,
              "ticks": ""
             }
            },
            "type": "scattergl"
           }
          ],
          "scattermapbox": [
           {
            "marker": {
             "colorbar": {
              "outlinewidth": 0,
              "ticks": ""
             }
            },
            "type": "scattermapbox"
           }
          ],
          "scatterpolar": [
           {
            "marker": {
             "colorbar": {
              "outlinewidth": 0,
              "ticks": ""
             }
            },
            "type": "scatterpolar"
           }
          ],
          "scatterpolargl": [
           {
            "marker": {
             "colorbar": {
              "outlinewidth": 0,
              "ticks": ""
             }
            },
            "type": "scatterpolargl"
           }
          ],
          "scatterternary": [
           {
            "marker": {
             "colorbar": {
              "outlinewidth": 0,
              "ticks": ""
             }
            },
            "type": "scatterternary"
           }
          ],
          "surface": [
           {
            "colorbar": {
             "outlinewidth": 0,
             "ticks": ""
            },
            "colorscale": [
             [
              0,
              "#0d0887"
             ],
             [
              0.1111111111111111,
              "#46039f"
             ],
             [
              0.2222222222222222,
              "#7201a8"
             ],
             [
              0.3333333333333333,
              "#9c179e"
             ],
             [
              0.4444444444444444,
              "#bd3786"
             ],
             [
              0.5555555555555556,
              "#d8576b"
             ],
             [
              0.6666666666666666,
              "#ed7953"
             ],
             [
              0.7777777777777778,
              "#fb9f3a"
             ],
             [
              0.8888888888888888,
              "#fdca26"
             ],
             [
              1,
              "#f0f921"
             ]
            ],
            "type": "surface"
           }
          ],
          "table": [
           {
            "cells": {
             "fill": {
              "color": "#EBF0F8"
             },
             "line": {
              "color": "white"
             }
            },
            "header": {
             "fill": {
              "color": "#C8D4E3"
             },
             "line": {
              "color": "white"
             }
            },
            "type": "table"
           }
          ]
         },
         "layout": {
          "annotationdefaults": {
           "arrowcolor": "#2a3f5f",
           "arrowhead": 0,
           "arrowwidth": 1
          },
          "autotypenumbers": "strict",
          "coloraxis": {
           "colorbar": {
            "outlinewidth": 0,
            "ticks": ""
           }
          },
          "colorscale": {
           "diverging": [
            [
             0,
             "#8e0152"
            ],
            [
             0.1,
             "#c51b7d"
            ],
            [
             0.2,
             "#de77ae"
            ],
            [
             0.3,
             "#f1b6da"
            ],
            [
             0.4,
             "#fde0ef"
            ],
            [
             0.5,
             "#f7f7f7"
            ],
            [
             0.6,
             "#e6f5d0"
            ],
            [
             0.7,
             "#b8e186"
            ],
            [
             0.8,
             "#7fbc41"
            ],
            [
             0.9,
             "#4d9221"
            ],
            [
             1,
             "#276419"
            ]
           ],
           "sequential": [
            [
             0,
             "#0d0887"
            ],
            [
             0.1111111111111111,
             "#46039f"
            ],
            [
             0.2222222222222222,
             "#7201a8"
            ],
            [
             0.3333333333333333,
             "#9c179e"
            ],
            [
             0.4444444444444444,
             "#bd3786"
            ],
            [
             0.5555555555555556,
             "#d8576b"
            ],
            [
             0.6666666666666666,
             "#ed7953"
            ],
            [
             0.7777777777777778,
             "#fb9f3a"
            ],
            [
             0.8888888888888888,
             "#fdca26"
            ],
            [
             1,
             "#f0f921"
            ]
           ],
           "sequentialminus": [
            [
             0,
             "#0d0887"
            ],
            [
             0.1111111111111111,
             "#46039f"
            ],
            [
             0.2222222222222222,
             "#7201a8"
            ],
            [
             0.3333333333333333,
             "#9c179e"
            ],
            [
             0.4444444444444444,
             "#bd3786"
            ],
            [
             0.5555555555555556,
             "#d8576b"
            ],
            [
             0.6666666666666666,
             "#ed7953"
            ],
            [
             0.7777777777777778,
             "#fb9f3a"
            ],
            [
             0.8888888888888888,
             "#fdca26"
            ],
            [
             1,
             "#f0f921"
            ]
           ]
          },
          "colorway": [
           "#636efa",
           "#EF553B",
           "#00cc96",
           "#ab63fa",
           "#FFA15A",
           "#19d3f3",
           "#FF6692",
           "#B6E880",
           "#FF97FF",
           "#FECB52"
          ],
          "font": {
           "color": "#2a3f5f"
          },
          "geo": {
           "bgcolor": "white",
           "lakecolor": "white",
           "landcolor": "#E5ECF6",
           "showlakes": true,
           "showland": true,
           "subunitcolor": "white"
          },
          "hoverlabel": {
           "align": "left"
          },
          "hovermode": "closest",
          "mapbox": {
           "style": "light"
          },
          "paper_bgcolor": "white",
          "plot_bgcolor": "#E5ECF6",
          "polar": {
           "angularaxis": {
            "gridcolor": "white",
            "linecolor": "white",
            "ticks": ""
           },
           "bgcolor": "#E5ECF6",
           "radialaxis": {
            "gridcolor": "white",
            "linecolor": "white",
            "ticks": ""
           }
          },
          "scene": {
           "xaxis": {
            "backgroundcolor": "#E5ECF6",
            "gridcolor": "white",
            "gridwidth": 2,
            "linecolor": "white",
            "showbackground": true,
            "ticks": "",
            "zerolinecolor": "white"
           },
           "yaxis": {
            "backgroundcolor": "#E5ECF6",
            "gridcolor": "white",
            "gridwidth": 2,
            "linecolor": "white",
            "showbackground": true,
            "ticks": "",
            "zerolinecolor": "white"
           },
           "zaxis": {
            "backgroundcolor": "#E5ECF6",
            "gridcolor": "white",
            "gridwidth": 2,
            "linecolor": "white",
            "showbackground": true,
            "ticks": "",
            "zerolinecolor": "white"
           }
          },
          "shapedefaults": {
           "line": {
            "color": "#2a3f5f"
           }
          },
          "ternary": {
           "aaxis": {
            "gridcolor": "white",
            "linecolor": "white",
            "ticks": ""
           },
           "baxis": {
            "gridcolor": "white",
            "linecolor": "white",
            "ticks": ""
           },
           "bgcolor": "#E5ECF6",
           "caxis": {
            "gridcolor": "white",
            "linecolor": "white",
            "ticks": ""
           }
          },
          "title": {
           "x": 0.05
          },
          "xaxis": {
           "automargin": true,
           "gridcolor": "white",
           "linecolor": "white",
           "ticks": "",
           "title": {
            "standoff": 15
           },
           "zerolinecolor": "white",
           "zerolinewidth": 2
          },
          "yaxis": {
           "automargin": true,
           "gridcolor": "white",
           "linecolor": "white",
           "ticks": "",
           "title": {
            "standoff": 15
           },
           "zerolinecolor": "white",
           "zerolinewidth": 2
          }
         }
        },
        "title": {
         "text": ""
        },
        "xaxis": {
         "title": {
          "text": ""
         }
        },
        "yaxis": {
         "title": {
          "text": "MASE distribution"
         }
        }
       }
      },
      "text/html": [
       "<div>                            <div id=\"5e3b5860-9870-44ff-a8ac-bb40a722d5af\" class=\"plotly-graph-div\" style=\"height:525px; width:100%;\"></div>            <script type=\"text/javascript\">                require([\"plotly\"], function(Plotly) {                    window.PLOTLYENV=window.PLOTLYENV || {};                                    if (document.getElementById(\"5e3b5860-9870-44ff-a8ac-bb40a722d5af\")) {                    Plotly.newPlot(                        \"5e3b5860-9870-44ff-a8ac-bb40a722d5af\",                        [{\"boxmean\": true, \"name\": \"LSTM - Grid\", \"type\": \"box\", \"y\": [1.2354774395423362, 1.117142891601437, 0.7993274246742958, 2.118379514611731, 1.3654891161006817, 1.6989868219458528, 2.136336236493712, 1.2464063998995059, 1.2955410704734338, 0.7400306434417475, 0.7036381632138295, 1.1393532477331108, 1.926683739288961, 1.8386192879132264, 1.770227336406372, 0.8806028921367005, 1.4034838467669737, 0.7868948593165568, 2.2941460743782587, 1.6787664154472353, 1.9676525929828605, 1.2715129003364714, 1.3142094873838912, 0.8946901048430035, 0.7833009795098324, 1.1852053935413431, 1.4496242461690916, 1.3694847225854314, 3.5833976613054728, 2.8223650715695596, 1.2001564761117602, 0.6941539527108913, 1.5868498410255636, 1.5060191221833255, 1.8758818283984922, 1.1764035605562444]}, {\"boxmean\": true, \"name\": \"LSTM - TL aggregated\", \"type\": \"box\", \"y\": [1.2565060174497165, 1.003259752296023, 1.2863189237892638, 2.2745277358444524, 1.1527365698097, 1.718963869129302, 1.3909306502685048, 1.127812515628105, 1.0007819748129587, 0.555744964230217, 0.8820445271138541, 1.519519976709057, 2.3655747096350397, 1.7161247618088722, 1.662569362263201, 0.6589237736292282, 1.4270339797048657, 0.903337934543747, 1.96811342900828, 2.1383426450110496, 1.4914373012167537, 0.9283073590485752, 1.1710828531933752, 0.6011435568379255, 0.8316492898181294, 1.6219005293611806, 1.144393590629725, 1.3969034150507853, 3.722774605738128, 3.2920229653791826, 1.2303582793213048, 0.8379174125207524, 1.281825271407646, 1.0582987377452036, 1.5627522189121894, 0.8006837295168067]}, {\"boxmean\": true, \"name\": \"LSTM - SUB aggregated\", \"type\": \"box\", \"y\": [1.3914132828410177, 0.8787285641898317, 1.2166071479805718, 2.283771801539802, 0.5873153658261671, 1.3814325977464235, 1.453705104498556, 1.3114169459776304, 0.8885321798222752, 0.577090592745834, 0.6888111245462561, 1.0275077873774585, 2.6148774327178, 1.0895104135537745, 1.743979371076874, 0.6798350360620242, 1.2461438018094577, 0.9487645754482197, 2.0500196225886547, 2.0298690376929454, 0.8560991992685263, 0.9915283287104387, 1.02827109976725, 0.6774028899284437, 0.9732806155210634, 1.177147311446156, 0.8536203257890184, 1.4718119696082668, 3.815815020808228, 3.077535796164642, 1.2730124776556555, 0.6585522368834437, 0.8735041981801795, 1.0611927726200003, 1.802482186360669, 1.2038896697690948]}, {\"boxmean\": true, \"name\": \"LSTM - PC aggregated\", \"type\": \"box\", \"y\": [1.0894238249953776, 1.3551896846981977, 0.8070394741900427, 1.588776901177034, 0.3816785319609469, 1.366728322573813, 1.603846951943192, 0.8337623685299966, 1.142932343021481, 0.5544579812765232, 0.7759105060865794, 1.2258017963201289, 1.3612243215956312, 1.1449052037473042, 1.4545886642479005, 1.028489376787211, 1.5960905855156367, 0.7219746016511266, 0.7891658590650913, 1.2858377067224638, 1.040194110924839, 0.8356440025250256, 1.2195274863113088, 0.8773054857271695, 0.6049531396769853, 0.8777933708548463, 1.4988564190452103, 1.4468416260871868, 3.2294684458335907, 1.567007615063325, 1.191299236183136, 0.579310759953629, 0.5716247115280282, 0.9568416722276819, 1.2301474640426455, 0.60153155887528]}, {\"boxmean\": true, \"name\": \"LSTM - Site aggregated\", \"type\": \"box\", \"y\": [1.0942807244706505, 1.1121656808704974, 0.7514490395081358, 1.2383249227908735, 0.389738391541274, 1.283201638126297, 1.5094405203124475, 0.8908982778692865, 0.9507719250197556, 0.5203378730979481, 0.5658775176344965, 1.0365075680635614, 1.1634778223960995, 0.9768067294190235, 1.495981949555343, 0.7517060041055926, 1.4814083900667903, 0.6569541604481436, 0.7400435341934389, 1.0502338379640266, 1.0596142222649196, 0.9349651046122042, 0.9063558557419376, 0.6782018366280195, 0.5229285448267803, 0.6046263274117333, 1.1000519994818918, 0.8467439801576508, 3.1087308825001925, 1.4386938735181671, 1.5673356665009852, 0.5494438485068514, 0.5332019762299115, 0.893112772303674, 1.34163809148877, 0.7261140466407794]}, {\"boxmean\": true, \"name\": \"CNN - Grid\", \"type\": \"box\", \"y\": [1.2714278154834477, 0.7990954559089979, 0.9093162473503432, 1.0859799403622379, 0.3402475439709642, 0.6797118642902824, 1.1907457623161533, 0.7926797472248664, 0.7108862731187087, 0.8361117465032811, 0.6701892623606502, 0.9786443896778498, 0.9612770608423199, 0.7199984195554417, 1.602749851918091, 0.7665714788125165, 1.3371723441984695, 1.2335489835006788, 1.0690424204162734, 1.03664744001746, 1.0313831828282949, 0.4390828882049444, 0.9521070224742884, 0.6971254572651662, 0.6163582767930187, 0.5337485371112842, 1.0333898881231454, 0.6588187614979745, 4.48170185394435, 3.572149670891403, 1.6991107591387298, 1.3894278733798602, 0.9170627234027267, 0.7011541163324838, 2.573620377332896, 1.1134612948580511]}, {\"boxmean\": true, \"name\": \"CNN - TL aggregated\", \"type\": \"box\", \"y\": [1.214646944464766, 0.8424497885215494, 0.8769546399496427, 1.1075982704254064, 0.26897753559519627, 0.7470271070351288, 1.3229593142762113, 0.7661567964985438, 0.7371064402421486, 0.7982080952545026, 0.7009281670651232, 1.0220286068689586, 1.0559376995068768, 0.7972266087344534, 1.621980577016951, 0.7987399402285341, 1.3712804193765107, 1.166566931574826, 1.0805090655555618, 1.110325409407052, 1.1463704283450193, 0.4046694004089354, 0.9571472416865161, 0.7150360009072221, 0.5728035130419069, 0.5664299920168805, 1.0943904582810842, 0.649273777181498, 4.424160500815578, 3.6922986735462127, 1.534693125837627, 1.3239684743356868, 0.9142058987326658, 0.7364633240910817, 2.6204476128870993, 1.3397324799384929]}, {\"boxmean\": true, \"name\": \"CNN - SUB aggregated\", \"type\": \"box\", \"y\": [1.2103782739845683, 0.8429075729826047, 0.8792876383350626, 1.1134150894691996, 0.2656450158038337, 0.7530768092774204, 1.332913078051424, 0.7661680724335371, 0.74117755260692, 0.7973252635492819, 0.7023530159585343, 1.0254777148899878, 1.0646654446803787, 0.8032671060735954, 1.6203806223900616, 0.79744093766241, 1.3780128975055053, 1.1648551857460243, 1.081837140111745, 1.1154207666915092, 1.154442244085972, 0.4064912590688314, 0.962729232857409, 0.7189823178717635, 0.5688818404961014, 0.5691967279477799, 1.1026497704761613, 0.6548335359673613, 4.422412443377644, 3.691187548313093, 1.5314466051264435, 1.3245361694914384, 0.9148148640932888, 0.7349373315957732, 2.6225372013697097, 1.3458848945648256]}, {\"boxmean\": true, \"name\": \"CNN - PC aggregated\", \"type\": \"box\", \"y\": [1.295754107810101, 0.9818408503131677, 1.0452517178365195, 1.3170372780813904, 1.1099279213710316, 0.8515100443968558, 1.0732701699548233, 1.9005791002886547, 1.5862482831429243, 2.0162913440329917, 0.8173854965608477, 0.7255406923364156, 0.6153080121263811, 0.3019170332738032, 1.501264096989632, 0.8891040994113695, 1.8961871286979248, 0.6650769813451477, 0.4621367183242228, 0.4614677091400289, 0.5723090766348455, 1.4608220825091063, 1.7174636230917888, 2.159101791814472, 1.8725012573556061, 0.7595642771197503, 0.6946439602692236, 1.2399929825400922, 3.5141371557226315, 2.119037362118866, 1.0267865445617066, 0.7112449526701872, 0.5130418519640336, 0.8409656204834348, 0.975376849350578, 1.4501873523027766]}, {\"boxmean\": true, \"name\": \"CNN - Site aggregated\", \"type\": \"box\", \"y\": [0.6538310785078754, 1.046438712092186, 0.8049860488142465, 1.2964887269614687, 1.176648741122935, 0.8256446984228064, 0.9553337501109098, 1.572511101530005, 1.2736985640961829, 1.6708474686354309, 0.9409972157013435, 0.8849406005888776, 0.6899467910006284, 0.3244461774416539, 1.2770071784045818, 0.9350304266850575, 1.8011695929486582, 0.7575111639753394, 0.5912924860656695, 0.5449888803536309, 0.8691329905721721, 1.3011878604525664, 1.6748161556311587, 2.1603318317674103, 2.101768593145337, 0.8807060849050528, 0.9400879757965379, 1.2481332347145602, 3.29597337905112, 2.035078478018573, 1.0377693121293297, 0.8106265845634821, 0.49981769409885707, 0.9964511112749264, 0.7817455425764003, 1.4475491727192575]}, {\"boxmean\": true, \"name\": \"AutoARIMA - Grid\", \"type\": \"box\", \"y\": [1.6853576949368594, 1.2614247027541112, 0.6884773300889144, 0.789304499739047, 0.5704930601472075, 0.5211776827953404, 0.7437049840271515, 0.7253299905984498, 0.49963850007962224, 0.9985240152418069, 0.9814577478972913, 0.5675644356173761, 0.6714383294132533, 0.6176419140374961, 1.4917734646469665, 1.0892238527385738, 1.5783255893347, 0.6667860032366376, 0.8378419462863471, 0.829941675957614, 0.9009290825713053, 0.432213043343397, 0.7598155958418239, 0.45140613190211604, 0.7322972643647959, 0.5995416240429228, 0.8925837127925106, 0.6715439740415531, 4.462695509950671, 4.802625806456639, 0.6022730672793044, 0.8843115609470243, 0.8616507722807992, 0.656635754739094, 1.8473987737292747, 0.5784779230164391]}, {\"boxmean\": true, \"name\": \"AutoARIMA - TL aggregated\", \"type\": \"box\", \"y\": [1.8745646205205138, 1.0835049877466334, 0.6357742184356338, 0.6928529778066556, 0.6869784872431332, 0.57211055420136, 0.6139999809733766, 0.9054582183606087, 0.5665766558849897, 1.109991936393243, 0.585108324933742, 0.9049575747893428, 0.5385268913213943, 0.4560654004762588, 1.810641174553524, 0.9648709637285923, 1.4103327722163228, 0.6220011942518164, 0.7692756489590741, 0.5899954734620854, 0.7369602124604077, 0.6652238653068239, 0.7641144282027618, 0.4399931373884252, 0.8196358321191842, 0.638553982467457, 0.8421906356500617, 0.7304139016435538, 4.3226291752018335, 3.4842320938344313, 1.1904457869499177, 0.8626696273943174, 0.9938217048275692, 0.7336226138787211, 1.7284205260164325, 0.49114364999295085]}, {\"boxmean\": true, \"name\": \"AutoARIMA - SUB aggregated\", \"type\": \"box\", \"y\": [1.6672383811196254, 1.2599621619234436, 0.7071800861988409, 0.7759370010949451, 0.6481314848804709, 0.554363005384297, 0.7394276957435336, 0.7346092624342436, 0.5239704006123203, 1.0426982471058863, 0.6805209676804003, 0.7183898318873914, 0.6200768368547032, 0.5754932921247854, 1.6016411997977167, 1.0489758676873442, 1.6232273234316055, 0.7293947497952125, 0.822160007039621, 0.7076522598953086, 0.833123442264527, 0.5176909105678976, 0.7722263194464019, 0.4816601747765691, 0.7493877257712294, 0.6042482575260125, 0.8237508447645941, 0.7099024867512581, 4.299909757032919, 4.43519417361959, 0.48571593915327405, 1.007423080725379, 0.6027460961647506, 0.7157867131317346, 1.6268644318764347, 0.4229740444387623]}, {\"boxmean\": true, \"name\": \"AutoARIMA - PC aggregated\", \"type\": \"box\", \"y\": [0.9039789425533031, 0.35419417712580836, 1.0311292617876673, 0.6223665494202419, 0.7427185543610031, 1.6601331348467296, 0.520171114597606, 1.034804220722936, 0.7144800680440542, 1.1092622154517626, 0.939615069592148, 0.8737867149615098, 0.7160256764027219, 0.3872847015444819, 1.4924934263649472, 0.5134620935682465, 1.2944274657332586, 0.6255853436822141, 0.41721973166513854, 0.5453744215808608, 0.3005486070897783, 1.3206541885017575, 1.0968742263077744, 0.7589073160752805, 0.9551624264902092, 0.6034109497141973, 0.6003162825636197, 1.5178031586137966, 2.5100079271338736, 1.146882550806465, 1.634738721477056, 1.1400707135502175, 0.5615680075578704, 0.8542013411387829, 0.9623728234714323, 0.9958967947479278]}, {\"boxmean\": true, \"name\": \"AutoARIMA - Site aggregated\", \"type\": \"box\", \"y\": [1.0496335048124212, 0.6526851057072862, 1.2583686176884472, 0.6816962152845688, 0.9330119954022347, 1.4655520552057022, 0.530918809044491, 1.1585226230448202, 0.5921815085726108, 1.3563691679324354, 0.6951497141273585, 1.1124391209364028, 0.7077442895425345, 0.41247313336068575, 1.3929080278059705, 0.5512555922955837, 1.3177708720673444, 0.7634044054294369, 0.5291714390524157, 0.5524709483951551, 0.3736796210646908, 1.3437900720428768, 1.1603700537481763, 0.8451283521758858, 0.7677102114147619, 0.6894226753995306, 0.7830257983708131, 1.4426746664828438, 2.8541270577857722, 1.0946491671240504, 2.0838777102582466, 1.2678552254529307, 0.7000498850222076, 0.796003669997406, 1.2048645686547503, 1.1847298630868974]}, {\"boxmean\": true, \"name\": \"TBATS - Grid\", \"type\": \"box\", \"y\": [2.1869798844491064, 1.94123104399883, 1.7974107613980395, 2.089468139611649, 1.7155515036385296, 1.8201608952024748, 2.002659280577167, 1.5886212721451973, 1.29730520187363, 1.2690635822941267, 1.0835603093447725, 1.8494981027969366, 1.9123619957445757, 1.814233162241381, 2.3971521477392783, 1.7651560178071901, 1.9787634713217386, 1.4272351455166772, 2.3071435199901487, 1.6878205843333485, 2.2014318216683475, 2.106494375600014, 1.665733828767462, 1.2930559063665394, 1.325770841963751, 1.3978451135397922, 1.8868203750696961, 1.6491585938365907, 4.430603684767729, 4.558810020684946, 1.382716096645953, 1.3470030246930456, 1.340823145038424, 1.2930397734796804, 2.4208959104083125, 1.262221288360809]}, {\"boxmean\": true, \"name\": \"TBATS - TL aggregated\", \"type\": \"box\", \"y\": [1.9990410008573145, 2.1661636219292055, 1.444175397857522, 1.6389913331957737, 1.2924491973362595, 1.475397021006851, 1.6878439919663755, 1.884053237257579, 1.2005724021739728, 1.2959375250422447, 1.0474309499771297, 1.839621033857329, 1.6845602756743692, 1.5274641336359391, 2.8090761195403986, 1.389682025386324, 1.8056266549568443, 1.3071831457671188, 1.8312758471617852, 0.773519749173232, 1.9426043585506283, 1.7638073609282625, 0.9977543914750454, 1.526209148110923, 1.4048135647577413, 1.5210549800963573, 1.9080080408537563, 1.6410203662161817, 4.39894039351588, 3.38347124015149, 2.122373002262742, 1.354574328800685, 1.2731568831806999, 1.3471042813577798, 2.3169023004987657, 1.966205664538433]}, {\"boxmean\": true, \"name\": \"TBATS - SUB aggregated\", \"type\": \"box\", \"y\": [2.0192782723758245, 1.9614748352143878, 1.5860070935843178, 1.7180281720296056, 1.595910016349292, 0.5464537845418276, 1.599861751945753, 1.6584230523255925, 1.2052415245384271, 1.0058338069807726, 0.9817732624500201, 1.831246062781867, 1.7249931681548476, 1.9175098092943983, 2.3027002774122316, 1.628161654494416, 2.0004832822982297, 1.3605447888072082, 1.8073024431469975, 1.5616192049192648, 1.8727215004471314, 1.7957064009082058, 1.547614221724276, 1.4997001513408896, 1.1347824100173474, 1.375000893209642, 1.7471375567661507, 1.753084917836327, 4.344216251677783, 3.8670369988601343, 1.0099623583718607, 0.8243998387715523, 1.3213516472848317, 1.3690473837865877, 2.310228776732466, 1.6452539479296922]}, {\"boxmean\": true, \"name\": \"TBATS - PC aggregated\", \"type\": \"box\", \"y\": [2.2795711059721353, 2.0822599239266597, 1.7212771956997945, 1.7518692585849656, 1.3969349226623478, 0.8278513789429363, 1.7967767543487094, 1.6137038021095769, 0.8389540612949317, 1.099365193000944, 0.873582958137532, 1.903126952404013, 1.0266950355264688, 0.9084355958403518, 2.1212559570123517, 1.5204758713608495, 1.6839920560372368, 1.4617894716514257, 1.0224682839240293, 1.6460140438469213, 0.8813736634956247, 0.9317124634966599, 0.9871120081029273, 1.2309728996130065, 1.2516007765125425, 1.438384973867454, 1.831932708502953, 1.6924732273408372, 4.807806390761672, 2.655197882659451, 1.0173819601878458, 1.3100368956394226, 1.3570057543260405, 1.1774719109536758, 2.2570413788588857, 1.1707947077575918]}, {\"boxmean\": true, \"name\": \"TBATS - Site aggregated\", \"type\": \"box\", \"y\": [2.2864693250164536, 1.7845587900071107, 1.490966355447867, 1.8032333903535547, 1.4609330162108374, 1.2354315570029921, 1.4160075665688552, 1.890287924003794, 1.0452229723755584, 1.1073771782891388, 0.8980015543933428, 1.7072860315155978, 1.4591144549684925, 1.365499993545086, 2.4678997558170424, 1.5264245922382038, 1.7824643693179205, 1.475409260396974, 1.950673962978966, 1.5071310349413414, 1.2922441644667004, 1.5909775699244353, 1.585570161810793, 1.3147915255392353, 1.4165592069759751, 1.4997415295053218, 1.7830806841464428, 1.6002708547598563, 4.4504720939954145, 3.584062992534734, 1.3642639824718956, 1.1234251232713544, 1.2480419209893316, 1.3573195100629285, 2.2668706824854796, 1.4577821253931484]}, {\"boxmean\": true, \"name\": \"Prophet - Grid\", \"type\": \"box\", \"y\": [2.1070396885373124, 2.2211063836811933, 1.687984661374971, 1.9424104369511355, 1.7863473902220208, 1.7914062176392225, 1.9671943730672035, 1.722198269241318, 1.390462383521621, 1.3587433397560993, 1.723932374067403, 1.8496196922572714, 1.8453386300974313, 1.94631410425766, 2.452890737592689, 2.1161764372836926, 2.382035336458408, 1.6039823733422875, 2.0480629549726648, 1.655396128506615, 2.0393536067592506, 1.647456466117945, 1.6593376897879464, 1.3909467692545083, 1.528510940821869, 1.5701683511132916, 1.8953633903643896, 1.7655720194217221, 4.561280107207387, 5.250522584939957, 1.6962472472980934, 1.4777951906786106, 1.309266003898802, 1.6596944058523024, 2.182005766320968, 1.4140393129142323]}, {\"boxmean\": true, \"name\": \"Prophet - TL aggregated\", \"type\": \"box\", \"y\": [2.1038163470764393, 2.2187079347194203, 1.6881835052273375, 1.9423947278306473, 1.7819159084770322, 1.787441560567358, 1.9686940790895349, 1.7205803799624968, 1.3872118352373968, 1.3413982064045409, 1.7141243263892227, 1.8475488140064145, 1.8463269656830799, 1.9460521300136553, 2.457116419672874, 2.1283557629660548, 2.426304882659695, 1.619233005534243, 2.047641188574121, 1.6552592863326852, 2.0330261254591937, 1.654176249731925, 1.6621967584571355, 1.3905721571488994, 1.5356493494364405, 1.5784924921787589, 1.8883748977915022, 1.764861630237602, 4.600508633722259, 5.274241831126754, 1.7089499724140935, 1.5054779991359106, 1.321597561717244, 1.6500802426193488, 2.1790900608710944, 1.4209187535285845]}, {\"boxmean\": true, \"name\": \"Prophet - SUB aggregated\", \"type\": \"box\", \"y\": [2.108065513099449, 2.2224567195586458, 1.688200963438044, 1.9424598845631214, 1.781701410310599, 1.7878684487312226, 1.9688095741127967, 1.7233634354764018, 1.3873208642983739, 1.3387203129520484, 1.712113321541853, 1.8483726986165565, 1.8453361596797444, 1.9463764685917593, 2.4557232387807026, 2.1292942001129838, 2.410359314033898, 1.6159335251476856, 2.0477090478217934, 1.655528571152193, 2.0334561650553846, 1.657735198635677, 1.6629689699272046, 1.390835150665543, 1.5347634519253555, 1.5752005968061447, 1.889822891383042, 1.7656646400991411, 4.6068478283878695, 5.268188412245194, 1.7216688361687, 1.502105456815721, 1.3136917899510505, 1.657735458595525, 2.178237184263218, 1.4205176248968947]}, {\"boxmean\": true, \"name\": \"Prophet - PC aggregated\", \"type\": \"box\", \"y\": [1.394914233119005, 0.8961124747848187, 1.1570618520397427, 0.8817690338367468, 0.7067764220170567, 1.2183947016215366, 0.6568315753460051, 1.194917832188488, 0.9730908430762703, 1.110091081050229, 1.0226473692890266, 1.0635057412326776, 0.6658292956091707, 0.7318697672593263, 1.7019899180537779, 0.8502440623283638, 1.3581638161669982, 1.018864998821758, 0.668130040020375, 0.9270030619098124, 0.7380305565384883, 1.361599644244693, 1.4263042574734122, 1.0050589283515203, 1.3071169397719633, 0.6985795077405857, 0.7550891534028924, 1.268473761626455, 2.1851857632794216, 1.7882434704491696, 1.5815739821817973, 0.8097470302673411, 0.7455162957086061, 0.8182149309230162, 1.0836910451038144, 1.1237059413590562]}, {\"boxmean\": true, \"name\": \"Prophet - Site aggregated\", \"type\": \"box\", \"y\": [1.3998005474695214, 0.9094032420589161, 1.1678967991179456, 0.8900908318206714, 0.7257308618247985, 1.2211839447756125, 0.6709031540911486, 1.2170238948501508, 0.9870622222266549, 1.132863299450275, 1.0595376951066118, 1.0525566581475307, 0.6949741898075442, 0.7622831738854785, 1.7023876355465906, 0.8369182439171967, 1.3711586351420448, 1.0122216920015592, 0.6573449016085497, 0.9403370708970649, 0.7546349121590902, 1.3862669663308334, 1.4318283186252205, 1.020303799990494, 1.3222639373231833, 0.7248160131522127, 0.7522452217832595, 1.2715629363523162, 2.191309026970861, 1.7769088743076042, 1.5653033765574826, 0.7858713500277296, 0.7647647516412505, 0.8320879187831701, 1.1106558552816286, 1.135178464339499]}, {\"boxmean\": true, \"name\": \"Seasonal Naive\", \"type\": \"box\", \"y\": [1.4780371894097077, 0.8108757931193623, 0.9851368717740118, 0.8412022613713731, 0.755382348456642, 0.612166844090761, 0.43585031345239544, 1.1181002430064222, 0.4924402285622381, 0.8916435451782548, 0.41842472894114213, 1.307384594678476, 0.2866599834283844, 0.10984875294350051, 1.764688845434049, 0.9703422553926633, 1.3030478677055288, 1.437270007020137, 0.9547229368649363, 0.6872756624678654, 0.39006824112300315, 1.0429523320936664, 0.6942082552495016, 0.3899611703689176, 0.9780913096604256, 0.7741613096127081, 0.7323568449568453, 0.48894410676422506, 4.763940207017605, 0.8715147927874495, 3.877950101747636, 1.1304166181612112, 0.8768893514040391, 1.0180100510191703, 1.9763814896102938, 1.191756912474073]}],                        {\"font\": {\"size\": 10}, \"showlegend\": false, \"template\": {\"data\": {\"bar\": [{\"error_x\": {\"color\": \"#2a3f5f\"}, \"error_y\": {\"color\": \"#2a3f5f\"}, \"marker\": {\"line\": {\"color\": \"#E5ECF6\", \"width\": 0.5}}, \"type\": \"bar\"}], \"barpolar\": [{\"marker\": {\"line\": {\"color\": \"#E5ECF6\", \"width\": 0.5}}, \"type\": \"barpolar\"}], \"carpet\": [{\"aaxis\": {\"endlinecolor\": \"#2a3f5f\", \"gridcolor\": \"white\", \"linecolor\": \"white\", \"minorgridcolor\": \"white\", \"startlinecolor\": \"#2a3f5f\"}, \"baxis\": {\"endlinecolor\": \"#2a3f5f\", \"gridcolor\": \"white\", \"linecolor\": \"white\", \"minorgridcolor\": \"white\", \"startlinecolor\": \"#2a3f5f\"}, \"type\": \"carpet\"}], \"choropleth\": [{\"colorbar\": {\"outlinewidth\": 0, \"ticks\": \"\"}, \"type\": \"choropleth\"}], \"contour\": [{\"colorbar\": {\"outlinewidth\": 0, \"ticks\": \"\"}, \"colorscale\": [[0.0, \"#0d0887\"], [0.1111111111111111, \"#46039f\"], [0.2222222222222222, \"#7201a8\"], [0.3333333333333333, \"#9c179e\"], [0.4444444444444444, \"#bd3786\"], [0.5555555555555556, \"#d8576b\"], [0.6666666666666666, \"#ed7953\"], [0.7777777777777778, \"#fb9f3a\"], [0.8888888888888888, \"#fdca26\"], [1.0, \"#f0f921\"]], \"type\": \"contour\"}], \"contourcarpet\": [{\"colorbar\": {\"outlinewidth\": 0, \"ticks\": \"\"}, \"type\": \"contourcarpet\"}], \"heatmap\": [{\"colorbar\": {\"outlinewidth\": 0, \"ticks\": \"\"}, \"colorscale\": [[0.0, \"#0d0887\"], [0.1111111111111111, \"#46039f\"], [0.2222222222222222, \"#7201a8\"], [0.3333333333333333, \"#9c179e\"], [0.4444444444444444, \"#bd3786\"], [0.5555555555555556, \"#d8576b\"], [0.6666666666666666, \"#ed7953\"], [0.7777777777777778, \"#fb9f3a\"], [0.8888888888888888, \"#fdca26\"], [1.0, \"#f0f921\"]], \"type\": \"heatmap\"}], \"heatmapgl\": [{\"colorbar\": {\"outlinewidth\": 0, \"ticks\": \"\"}, \"colorscale\": [[0.0, \"#0d0887\"], [0.1111111111111111, \"#46039f\"], [0.2222222222222222, \"#7201a8\"], [0.3333333333333333, \"#9c179e\"], [0.4444444444444444, \"#bd3786\"], [0.5555555555555556, \"#d8576b\"], [0.6666666666666666, \"#ed7953\"], [0.7777777777777778, \"#fb9f3a\"], [0.8888888888888888, \"#fdca26\"], [1.0, \"#f0f921\"]], \"type\": \"heatmapgl\"}], \"histogram\": [{\"marker\": {\"colorbar\": {\"outlinewidth\": 0, \"ticks\": \"\"}}, \"type\": \"histogram\"}], \"histogram2d\": [{\"colorbar\": {\"outlinewidth\": 0, \"ticks\": \"\"}, \"colorscale\": [[0.0, \"#0d0887\"], [0.1111111111111111, \"#46039f\"], [0.2222222222222222, \"#7201a8\"], [0.3333333333333333, \"#9c179e\"], [0.4444444444444444, \"#bd3786\"], [0.5555555555555556, \"#d8576b\"], [0.6666666666666666, \"#ed7953\"], [0.7777777777777778, \"#fb9f3a\"], [0.8888888888888888, \"#fdca26\"], [1.0, \"#f0f921\"]], \"type\": \"histogram2d\"}], \"histogram2dcontour\": [{\"colorbar\": {\"outlinewidth\": 0, \"ticks\": \"\"}, \"colorscale\": [[0.0, \"#0d0887\"], [0.1111111111111111, \"#46039f\"], [0.2222222222222222, \"#7201a8\"], [0.3333333333333333, \"#9c179e\"], [0.4444444444444444, \"#bd3786\"], [0.5555555555555556, \"#d8576b\"], [0.6666666666666666, \"#ed7953\"], [0.7777777777777778, \"#fb9f3a\"], [0.8888888888888888, \"#fdca26\"], [1.0, \"#f0f921\"]], \"type\": \"histogram2dcontour\"}], \"mesh3d\": [{\"colorbar\": {\"outlinewidth\": 0, \"ticks\": \"\"}, \"type\": \"mesh3d\"}], \"parcoords\": [{\"line\": {\"colorbar\": {\"outlinewidth\": 0, \"ticks\": \"\"}}, \"type\": \"parcoords\"}], \"pie\": [{\"automargin\": true, \"type\": \"pie\"}], \"scatter\": [{\"marker\": {\"colorbar\": {\"outlinewidth\": 0, \"ticks\": \"\"}}, \"type\": \"scatter\"}], \"scatter3d\": [{\"line\": {\"colorbar\": {\"outlinewidth\": 0, \"ticks\": \"\"}}, \"marker\": {\"colorbar\": {\"outlinewidth\": 0, \"ticks\": \"\"}}, \"type\": \"scatter3d\"}], \"scattercarpet\": [{\"marker\": {\"colorbar\": {\"outlinewidth\": 0, \"ticks\": \"\"}}, \"type\": \"scattercarpet\"}], \"scattergeo\": [{\"marker\": {\"colorbar\": {\"outlinewidth\": 0, \"ticks\": \"\"}}, \"type\": \"scattergeo\"}], \"scattergl\": [{\"marker\": {\"colorbar\": {\"outlinewidth\": 0, \"ticks\": \"\"}}, \"type\": \"scattergl\"}], \"scattermapbox\": [{\"marker\": {\"colorbar\": {\"outlinewidth\": 0, \"ticks\": \"\"}}, \"type\": \"scattermapbox\"}], \"scatterpolar\": [{\"marker\": {\"colorbar\": {\"outlinewidth\": 0, \"ticks\": \"\"}}, \"type\": \"scatterpolar\"}], \"scatterpolargl\": [{\"marker\": {\"colorbar\": {\"outlinewidth\": 0, \"ticks\": \"\"}}, \"type\": \"scatterpolargl\"}], \"scatterternary\": [{\"marker\": {\"colorbar\": {\"outlinewidth\": 0, \"ticks\": \"\"}}, \"type\": \"scatterternary\"}], \"surface\": [{\"colorbar\": {\"outlinewidth\": 0, \"ticks\": \"\"}, \"colorscale\": [[0.0, \"#0d0887\"], [0.1111111111111111, \"#46039f\"], [0.2222222222222222, \"#7201a8\"], [0.3333333333333333, \"#9c179e\"], [0.4444444444444444, \"#bd3786\"], [0.5555555555555556, \"#d8576b\"], [0.6666666666666666, \"#ed7953\"], [0.7777777777777778, \"#fb9f3a\"], [0.8888888888888888, \"#fdca26\"], [1.0, \"#f0f921\"]], \"type\": \"surface\"}], \"table\": [{\"cells\": {\"fill\": {\"color\": \"#EBF0F8\"}, \"line\": {\"color\": \"white\"}}, \"header\": {\"fill\": {\"color\": \"#C8D4E3\"}, \"line\": {\"color\": \"white\"}}, \"type\": \"table\"}]}, \"layout\": {\"annotationdefaults\": {\"arrowcolor\": \"#2a3f5f\", \"arrowhead\": 0, \"arrowwidth\": 1}, \"autotypenumbers\": \"strict\", \"coloraxis\": {\"colorbar\": {\"outlinewidth\": 0, \"ticks\": \"\"}}, \"colorscale\": {\"diverging\": [[0, \"#8e0152\"], [0.1, \"#c51b7d\"], [0.2, \"#de77ae\"], [0.3, \"#f1b6da\"], [0.4, \"#fde0ef\"], [0.5, \"#f7f7f7\"], [0.6, \"#e6f5d0\"], [0.7, \"#b8e186\"], [0.8, \"#7fbc41\"], [0.9, \"#4d9221\"], [1, \"#276419\"]], \"sequential\": [[0.0, \"#0d0887\"], [0.1111111111111111, \"#46039f\"], [0.2222222222222222, \"#7201a8\"], [0.3333333333333333, \"#9c179e\"], [0.4444444444444444, \"#bd3786\"], [0.5555555555555556, \"#d8576b\"], [0.6666666666666666, \"#ed7953\"], [0.7777777777777778, \"#fb9f3a\"], [0.8888888888888888, \"#fdca26\"], [1.0, \"#f0f921\"]], \"sequentialminus\": [[0.0, \"#0d0887\"], [0.1111111111111111, \"#46039f\"], [0.2222222222222222, \"#7201a8\"], [0.3333333333333333, \"#9c179e\"], [0.4444444444444444, \"#bd3786\"], [0.5555555555555556, \"#d8576b\"], [0.6666666666666666, \"#ed7953\"], [0.7777777777777778, \"#fb9f3a\"], [0.8888888888888888, \"#fdca26\"], [1.0, \"#f0f921\"]]}, \"colorway\": [\"#636efa\", \"#EF553B\", \"#00cc96\", \"#ab63fa\", \"#FFA15A\", \"#19d3f3\", \"#FF6692\", \"#B6E880\", \"#FF97FF\", \"#FECB52\"], \"font\": {\"color\": \"#2a3f5f\"}, \"geo\": {\"bgcolor\": \"white\", \"lakecolor\": \"white\", \"landcolor\": \"#E5ECF6\", \"showlakes\": true, \"showland\": true, \"subunitcolor\": \"white\"}, \"hoverlabel\": {\"align\": \"left\"}, \"hovermode\": \"closest\", \"mapbox\": {\"style\": \"light\"}, \"paper_bgcolor\": \"white\", \"plot_bgcolor\": \"#E5ECF6\", \"polar\": {\"angularaxis\": {\"gridcolor\": \"white\", \"linecolor\": \"white\", \"ticks\": \"\"}, \"bgcolor\": \"#E5ECF6\", \"radialaxis\": {\"gridcolor\": \"white\", \"linecolor\": \"white\", \"ticks\": \"\"}}, \"scene\": {\"xaxis\": {\"backgroundcolor\": \"#E5ECF6\", \"gridcolor\": \"white\", \"gridwidth\": 2, \"linecolor\": \"white\", \"showbackground\": true, \"ticks\": \"\", \"zerolinecolor\": \"white\"}, \"yaxis\": {\"backgroundcolor\": \"#E5ECF6\", \"gridcolor\": \"white\", \"gridwidth\": 2, \"linecolor\": \"white\", \"showbackground\": true, \"ticks\": \"\", \"zerolinecolor\": \"white\"}, \"zaxis\": {\"backgroundcolor\": \"#E5ECF6\", \"gridcolor\": \"white\", \"gridwidth\": 2, \"linecolor\": \"white\", \"showbackground\": true, \"ticks\": \"\", \"zerolinecolor\": \"white\"}}, \"shapedefaults\": {\"line\": {\"color\": \"#2a3f5f\"}}, \"ternary\": {\"aaxis\": {\"gridcolor\": \"white\", \"linecolor\": \"white\", \"ticks\": \"\"}, \"baxis\": {\"gridcolor\": \"white\", \"linecolor\": \"white\", \"ticks\": \"\"}, \"bgcolor\": \"#E5ECF6\", \"caxis\": {\"gridcolor\": \"white\", \"linecolor\": \"white\", \"ticks\": \"\"}}, \"title\": {\"x\": 0.05}, \"xaxis\": {\"automargin\": true, \"gridcolor\": \"white\", \"linecolor\": \"white\", \"ticks\": \"\", \"title\": {\"standoff\": 15}, \"zerolinecolor\": \"white\", \"zerolinewidth\": 2}, \"yaxis\": {\"automargin\": true, \"gridcolor\": \"white\", \"linecolor\": \"white\", \"ticks\": \"\", \"title\": {\"standoff\": 15}, \"zerolinecolor\": \"white\", \"zerolinewidth\": 2}}}, \"title\": {\"text\": \"\"}, \"xaxis\": {\"title\": {\"text\": \"\"}}, \"yaxis\": {\"title\": {\"text\": \"MASE distribution\"}}},                        {\"responsive\": true}                    ).then(function(){\n",
       "                            \n",
       "var gd = document.getElementById('5e3b5860-9870-44ff-a8ac-bb40a722d5af');\n",
       "var x = new MutationObserver(function (mutations, observer) {{\n",
       "        var display = window.getComputedStyle(gd).display;\n",
       "        if (!display || display === 'none') {{\n",
       "            console.log([gd, 'removed!']);\n",
       "            Plotly.purge(gd);\n",
       "            observer.disconnect();\n",
       "        }}\n",
       "}});\n",
       "\n",
       "// Listen for the removal of the full notebook cells\n",
       "var notebookContainer = gd.closest('#notebook-container');\n",
       "if (notebookContainer) {{\n",
       "    x.observe(notebookContainer, {childList: true});\n",
       "}}\n",
       "\n",
       "// Listen for the clearing of the current output cell\n",
       "var outputEl = gd.closest('.output');\n",
       "if (outputEl) {{\n",
       "    x.observe(outputEl, {childList: true});\n",
       "}}\n",
       "\n",
       "                        })                };                });            </script>        </div>"
      ]
     },
     "metadata": {},
     "output_type": "display_data"
    }
   ],
   "source": [
    "# name = ['LSTM - Grid', 'LSTM - TL aggregated', 'LSTM - SUB aggregated', 'LSTM - PC aggregated', \n",
    "#                 'LSTM - Site aggregated', 'CNN - Grid', 'CNN - TL aggregated', 'CNN - SUB aggregated', \n",
    "#                 'CNN - PC aggregated', 'CNN - Site aggregated', 'Auto ARIMA - Grid']\n",
    "\n",
    "fig = go.Figure()\n",
    "count = 0\n",
    "for col in grid_error_dist.keys():\n",
    "    box_data = grid_error_dist[col]\n",
    "    fig.add_trace(go.Box(y=box_data, name = column_names[count], boxmean=True))\n",
    "    count = count+1\n",
    "    \n",
    "for col in grid_error_dist_tcn.keys():\n",
    "    box_data = grid_error_dist_tcn[col]\n",
    "    fig.add_trace(go.Box(y=box_data, name = column_names[count], boxmean = True))\n",
    "    count = count+1\n",
    "    \n",
    "for col in grid_error_dist_arima.keys():\n",
    "    box_data = grid_error_dist_arima[col]\n",
    "    fig.add_trace(go.Box(y=box_data, name = column_names[count], boxmean = True))\n",
    "    count = count+1\n",
    "    \n",
    "for col in grid_error_dist_tbats.keys():\n",
    "    box_data = grid_error_dist_tbats[col]\n",
    "    fig.add_trace(go.Box(y=box_data, name = column_names[count], boxmean = True))\n",
    "    count = count+1\n",
    "    \n",
    "for col in grid_error_dist_prophet.keys():\n",
    "    box_data = grid_error_dist_prophet[col]\n",
    "    fig.add_trace(go.Box(y=box_data, name = column_names[count], boxmean = True))\n",
    "    count = count+1\n",
    "    \n",
    "\n",
    "box_data = grid_error_dist_naive['grid']\n",
    "fig.add_trace(go.Box(y=box_data, name = column_names[count], boxmean = True))\n",
    "count = count+1\n",
    "    \n",
    "\n",
    "fig.update_xaxes(title = '')\n",
    "fig.update_yaxes(title = 'MASE distribution')\n",
    "fig.update_layout(title = \"\", showlegend = False, font = dict(size=10))"
   ]
  },
  {
   "cell_type": "code",
   "execution_count": 78,
   "metadata": {},
   "outputs": [
    {
     "data": {
      "application/vnd.plotly.v1+json": {
       "config": {
        "plotlyServerURL": "https://plot.ly"
       },
       "data": [
        {
         "name": "LSTM",
         "type": "bar",
         "x": [
          "Grid",
          "TL Aggregated",
          "SUB Aggregated",
          "PC Aggregated",
          "Site Aggregated"
         ],
         "y": [
          1.468234482294422,
          1.416183866343975,
          1.330124385681185,
          1.123227003082377,
          1.0130934871185597,
          1.150048520316879,
          1.1694360905458736,
          1.1717213662474222,
          1.1983409868317592,
          1.1695815390243398,
          1.0542174171354008,
          1.0232683119331432,
          1.0241570683528618,
          0.9293869144235187,
          1.0084912706608262,
          1.8748277728587743,
          1.749112915806915,
          1.7063914310919486,
          1.5437416506766883,
          1.683218533714505,
          1.9623944934883193,
          1.9665700550555831,
          1.966532036884487,
          1.0803983146720393,
          1.0899355671492141,
          1.079391787981906
         ]
        },
        {
         "name": "Convolutions",
         "type": "bar",
         "x": [
          "Grid",
          "TL Aggregated",
          "SUB Aggregated",
          "PC Aggregated",
          "Site Aggregated"
         ],
         "y": [
          1.150048520316879,
          1.1694360905458736,
          1.1717213662474222,
          1.1983409868317592,
          1.1695815390243398
         ]
        }
       ],
       "layout": {
        "barmode": "group",
        "template": {
         "data": {
          "bar": [
           {
            "error_x": {
             "color": "#2a3f5f"
            },
            "error_y": {
             "color": "#2a3f5f"
            },
            "marker": {
             "line": {
              "color": "#E5ECF6",
              "width": 0.5
             }
            },
            "type": "bar"
           }
          ],
          "barpolar": [
           {
            "marker": {
             "line": {
              "color": "#E5ECF6",
              "width": 0.5
             }
            },
            "type": "barpolar"
           }
          ],
          "carpet": [
           {
            "aaxis": {
             "endlinecolor": "#2a3f5f",
             "gridcolor": "white",
             "linecolor": "white",
             "minorgridcolor": "white",
             "startlinecolor": "#2a3f5f"
            },
            "baxis": {
             "endlinecolor": "#2a3f5f",
             "gridcolor": "white",
             "linecolor": "white",
             "minorgridcolor": "white",
             "startlinecolor": "#2a3f5f"
            },
            "type": "carpet"
           }
          ],
          "choropleth": [
           {
            "colorbar": {
             "outlinewidth": 0,
             "ticks": ""
            },
            "type": "choropleth"
           }
          ],
          "contour": [
           {
            "colorbar": {
             "outlinewidth": 0,
             "ticks": ""
            },
            "colorscale": [
             [
              0,
              "#0d0887"
             ],
             [
              0.1111111111111111,
              "#46039f"
             ],
             [
              0.2222222222222222,
              "#7201a8"
             ],
             [
              0.3333333333333333,
              "#9c179e"
             ],
             [
              0.4444444444444444,
              "#bd3786"
             ],
             [
              0.5555555555555556,
              "#d8576b"
             ],
             [
              0.6666666666666666,
              "#ed7953"
             ],
             [
              0.7777777777777778,
              "#fb9f3a"
             ],
             [
              0.8888888888888888,
              "#fdca26"
             ],
             [
              1,
              "#f0f921"
             ]
            ],
            "type": "contour"
           }
          ],
          "contourcarpet": [
           {
            "colorbar": {
             "outlinewidth": 0,
             "ticks": ""
            },
            "type": "contourcarpet"
           }
          ],
          "heatmap": [
           {
            "colorbar": {
             "outlinewidth": 0,
             "ticks": ""
            },
            "colorscale": [
             [
              0,
              "#0d0887"
             ],
             [
              0.1111111111111111,
              "#46039f"
             ],
             [
              0.2222222222222222,
              "#7201a8"
             ],
             [
              0.3333333333333333,
              "#9c179e"
             ],
             [
              0.4444444444444444,
              "#bd3786"
             ],
             [
              0.5555555555555556,
              "#d8576b"
             ],
             [
              0.6666666666666666,
              "#ed7953"
             ],
             [
              0.7777777777777778,
              "#fb9f3a"
             ],
             [
              0.8888888888888888,
              "#fdca26"
             ],
             [
              1,
              "#f0f921"
             ]
            ],
            "type": "heatmap"
           }
          ],
          "heatmapgl": [
           {
            "colorbar": {
             "outlinewidth": 0,
             "ticks": ""
            },
            "colorscale": [
             [
              0,
              "#0d0887"
             ],
             [
              0.1111111111111111,
              "#46039f"
             ],
             [
              0.2222222222222222,
              "#7201a8"
             ],
             [
              0.3333333333333333,
              "#9c179e"
             ],
             [
              0.4444444444444444,
              "#bd3786"
             ],
             [
              0.5555555555555556,
              "#d8576b"
             ],
             [
              0.6666666666666666,
              "#ed7953"
             ],
             [
              0.7777777777777778,
              "#fb9f3a"
             ],
             [
              0.8888888888888888,
              "#fdca26"
             ],
             [
              1,
              "#f0f921"
             ]
            ],
            "type": "heatmapgl"
           }
          ],
          "histogram": [
           {
            "marker": {
             "colorbar": {
              "outlinewidth": 0,
              "ticks": ""
             }
            },
            "type": "histogram"
           }
          ],
          "histogram2d": [
           {
            "colorbar": {
             "outlinewidth": 0,
             "ticks": ""
            },
            "colorscale": [
             [
              0,
              "#0d0887"
             ],
             [
              0.1111111111111111,
              "#46039f"
             ],
             [
              0.2222222222222222,
              "#7201a8"
             ],
             [
              0.3333333333333333,
              "#9c179e"
             ],
             [
              0.4444444444444444,
              "#bd3786"
             ],
             [
              0.5555555555555556,
              "#d8576b"
             ],
             [
              0.6666666666666666,
              "#ed7953"
             ],
             [
              0.7777777777777778,
              "#fb9f3a"
             ],
             [
              0.8888888888888888,
              "#fdca26"
             ],
             [
              1,
              "#f0f921"
             ]
            ],
            "type": "histogram2d"
           }
          ],
          "histogram2dcontour": [
           {
            "colorbar": {
             "outlinewidth": 0,
             "ticks": ""
            },
            "colorscale": [
             [
              0,
              "#0d0887"
             ],
             [
              0.1111111111111111,
              "#46039f"
             ],
             [
              0.2222222222222222,
              "#7201a8"
             ],
             [
              0.3333333333333333,
              "#9c179e"
             ],
             [
              0.4444444444444444,
              "#bd3786"
             ],
             [
              0.5555555555555556,
              "#d8576b"
             ],
             [
              0.6666666666666666,
              "#ed7953"
             ],
             [
              0.7777777777777778,
              "#fb9f3a"
             ],
             [
              0.8888888888888888,
              "#fdca26"
             ],
             [
              1,
              "#f0f921"
             ]
            ],
            "type": "histogram2dcontour"
           }
          ],
          "mesh3d": [
           {
            "colorbar": {
             "outlinewidth": 0,
             "ticks": ""
            },
            "type": "mesh3d"
           }
          ],
          "parcoords": [
           {
            "line": {
             "colorbar": {
              "outlinewidth": 0,
              "ticks": ""
             }
            },
            "type": "parcoords"
           }
          ],
          "pie": [
           {
            "automargin": true,
            "type": "pie"
           }
          ],
          "scatter": [
           {
            "marker": {
             "colorbar": {
              "outlinewidth": 0,
              "ticks": ""
             }
            },
            "type": "scatter"
           }
          ],
          "scatter3d": [
           {
            "line": {
             "colorbar": {
              "outlinewidth": 0,
              "ticks": ""
             }
            },
            "marker": {
             "colorbar": {
              "outlinewidth": 0,
              "ticks": ""
             }
            },
            "type": "scatter3d"
           }
          ],
          "scattercarpet": [
           {
            "marker": {
             "colorbar": {
              "outlinewidth": 0,
              "ticks": ""
             }
            },
            "type": "scattercarpet"
           }
          ],
          "scattergeo": [
           {
            "marker": {
             "colorbar": {
              "outlinewidth": 0,
              "ticks": ""
             }
            },
            "type": "scattergeo"
           }
          ],
          "scattergl": [
           {
            "marker": {
             "colorbar": {
              "outlinewidth": 0,
              "ticks": ""
             }
            },
            "type": "scattergl"
           }
          ],
          "scattermapbox": [
           {
            "marker": {
             "colorbar": {
              "outlinewidth": 0,
              "ticks": ""
             }
            },
            "type": "scattermapbox"
           }
          ],
          "scatterpolar": [
           {
            "marker": {
             "colorbar": {
              "outlinewidth": 0,
              "ticks": ""
             }
            },
            "type": "scatterpolar"
           }
          ],
          "scatterpolargl": [
           {
            "marker": {
             "colorbar": {
              "outlinewidth": 0,
              "ticks": ""
             }
            },
            "type": "scatterpolargl"
           }
          ],
          "scatterternary": [
           {
            "marker": {
             "colorbar": {
              "outlinewidth": 0,
              "ticks": ""
             }
            },
            "type": "scatterternary"
           }
          ],
          "surface": [
           {
            "colorbar": {
             "outlinewidth": 0,
             "ticks": ""
            },
            "colorscale": [
             [
              0,
              "#0d0887"
             ],
             [
              0.1111111111111111,
              "#46039f"
             ],
             [
              0.2222222222222222,
              "#7201a8"
             ],
             [
              0.3333333333333333,
              "#9c179e"
             ],
             [
              0.4444444444444444,
              "#bd3786"
             ],
             [
              0.5555555555555556,
              "#d8576b"
             ],
             [
              0.6666666666666666,
              "#ed7953"
             ],
             [
              0.7777777777777778,
              "#fb9f3a"
             ],
             [
              0.8888888888888888,
              "#fdca26"
             ],
             [
              1,
              "#f0f921"
             ]
            ],
            "type": "surface"
           }
          ],
          "table": [
           {
            "cells": {
             "fill": {
              "color": "#EBF0F8"
             },
             "line": {
              "color": "white"
             }
            },
            "header": {
             "fill": {
              "color": "#C8D4E3"
             },
             "line": {
              "color": "white"
             }
            },
            "type": "table"
           }
          ]
         },
         "layout": {
          "annotationdefaults": {
           "arrowcolor": "#2a3f5f",
           "arrowhead": 0,
           "arrowwidth": 1
          },
          "autotypenumbers": "strict",
          "coloraxis": {
           "colorbar": {
            "outlinewidth": 0,
            "ticks": ""
           }
          },
          "colorscale": {
           "diverging": [
            [
             0,
             "#8e0152"
            ],
            [
             0.1,
             "#c51b7d"
            ],
            [
             0.2,
             "#de77ae"
            ],
            [
             0.3,
             "#f1b6da"
            ],
            [
             0.4,
             "#fde0ef"
            ],
            [
             0.5,
             "#f7f7f7"
            ],
            [
             0.6,
             "#e6f5d0"
            ],
            [
             0.7,
             "#b8e186"
            ],
            [
             0.8,
             "#7fbc41"
            ],
            [
             0.9,
             "#4d9221"
            ],
            [
             1,
             "#276419"
            ]
           ],
           "sequential": [
            [
             0,
             "#0d0887"
            ],
            [
             0.1111111111111111,
             "#46039f"
            ],
            [
             0.2222222222222222,
             "#7201a8"
            ],
            [
             0.3333333333333333,
             "#9c179e"
            ],
            [
             0.4444444444444444,
             "#bd3786"
            ],
            [
             0.5555555555555556,
             "#d8576b"
            ],
            [
             0.6666666666666666,
             "#ed7953"
            ],
            [
             0.7777777777777778,
             "#fb9f3a"
            ],
            [
             0.8888888888888888,
             "#fdca26"
            ],
            [
             1,
             "#f0f921"
            ]
           ],
           "sequentialminus": [
            [
             0,
             "#0d0887"
            ],
            [
             0.1111111111111111,
             "#46039f"
            ],
            [
             0.2222222222222222,
             "#7201a8"
            ],
            [
             0.3333333333333333,
             "#9c179e"
            ],
            [
             0.4444444444444444,
             "#bd3786"
            ],
            [
             0.5555555555555556,
             "#d8576b"
            ],
            [
             0.6666666666666666,
             "#ed7953"
            ],
            [
             0.7777777777777778,
             "#fb9f3a"
            ],
            [
             0.8888888888888888,
             "#fdca26"
            ],
            [
             1,
             "#f0f921"
            ]
           ]
          },
          "colorway": [
           "#636efa",
           "#EF553B",
           "#00cc96",
           "#ab63fa",
           "#FFA15A",
           "#19d3f3",
           "#FF6692",
           "#B6E880",
           "#FF97FF",
           "#FECB52"
          ],
          "font": {
           "color": "#2a3f5f"
          },
          "geo": {
           "bgcolor": "white",
           "lakecolor": "white",
           "landcolor": "#E5ECF6",
           "showlakes": true,
           "showland": true,
           "subunitcolor": "white"
          },
          "hoverlabel": {
           "align": "left"
          },
          "hovermode": "closest",
          "mapbox": {
           "style": "light"
          },
          "paper_bgcolor": "white",
          "plot_bgcolor": "#E5ECF6",
          "polar": {
           "angularaxis": {
            "gridcolor": "white",
            "linecolor": "white",
            "ticks": ""
           },
           "bgcolor": "#E5ECF6",
           "radialaxis": {
            "gridcolor": "white",
            "linecolor": "white",
            "ticks": ""
           }
          },
          "scene": {
           "xaxis": {
            "backgroundcolor": "#E5ECF6",
            "gridcolor": "white",
            "gridwidth": 2,
            "linecolor": "white",
            "showbackground": true,
            "ticks": "",
            "zerolinecolor": "white"
           },
           "yaxis": {
            "backgroundcolor": "#E5ECF6",
            "gridcolor": "white",
            "gridwidth": 2,
            "linecolor": "white",
            "showbackground": true,
            "ticks": "",
            "zerolinecolor": "white"
           },
           "zaxis": {
            "backgroundcolor": "#E5ECF6",
            "gridcolor": "white",
            "gridwidth": 2,
            "linecolor": "white",
            "showbackground": true,
            "ticks": "",
            "zerolinecolor": "white"
           }
          },
          "shapedefaults": {
           "line": {
            "color": "#2a3f5f"
           }
          },
          "ternary": {
           "aaxis": {
            "gridcolor": "white",
            "linecolor": "white",
            "ticks": ""
           },
           "baxis": {
            "gridcolor": "white",
            "linecolor": "white",
            "ticks": ""
           },
           "bgcolor": "#E5ECF6",
           "caxis": {
            "gridcolor": "white",
            "linecolor": "white",
            "ticks": ""
           }
          },
          "title": {
           "x": 0.05
          },
          "xaxis": {
           "automargin": true,
           "gridcolor": "white",
           "linecolor": "white",
           "ticks": "",
           "title": {
            "standoff": 15
           },
           "zerolinecolor": "white",
           "zerolinewidth": 2
          },
          "yaxis": {
           "automargin": true,
           "gridcolor": "white",
           "linecolor": "white",
           "ticks": "",
           "title": {
            "standoff": 15
           },
           "zerolinecolor": "white",
           "zerolinewidth": 2
          }
         }
        },
        "title": {
         "text": "MASE at Grid Level"
        }
       }
      },
      "text/html": [
       "<div>                            <div id=\"e47acd90-3a6b-4c7a-ad88-f07e835bc04d\" class=\"plotly-graph-div\" style=\"height:525px; width:100%;\"></div>            <script type=\"text/javascript\">                require([\"plotly\"], function(Plotly) {                    window.PLOTLYENV=window.PLOTLYENV || {};                                    if (document.getElementById(\"e47acd90-3a6b-4c7a-ad88-f07e835bc04d\")) {                    Plotly.newPlot(                        \"e47acd90-3a6b-4c7a-ad88-f07e835bc04d\",                        [{\"name\": \"LSTM\", \"type\": \"bar\", \"x\": [\"Grid\", \"TL Aggregated\", \"SUB Aggregated\", \"PC Aggregated\", \"Site Aggregated\"], \"y\": [1.468234482294422, 1.416183866343975, 1.330124385681185, 1.123227003082377, 1.0130934871185597, 1.150048520316879, 1.1694360905458736, 1.1717213662474222, 1.1983409868317592, 1.1695815390243398, 1.0542174171354008, 1.0232683119331432, 1.0241570683528618, 0.9293869144235187, 1.0084912706608262, 1.8748277728587743, 1.749112915806915, 1.7063914310919486, 1.5437416506766883, 1.683218533714505, 1.9623944934883193, 1.9665700550555831, 1.966532036884487, 1.0803983146720393, 1.0899355671492141, 1.079391787981906]}, {\"name\": \"Convolutions\", \"type\": \"bar\", \"x\": [\"Grid\", \"TL Aggregated\", \"SUB Aggregated\", \"PC Aggregated\", \"Site Aggregated\"], \"y\": [1.150048520316879, 1.1694360905458736, 1.1717213662474222, 1.1983409868317592, 1.1695815390243398]}],                        {\"barmode\": \"group\", \"template\": {\"data\": {\"bar\": [{\"error_x\": {\"color\": \"#2a3f5f\"}, \"error_y\": {\"color\": \"#2a3f5f\"}, \"marker\": {\"line\": {\"color\": \"#E5ECF6\", \"width\": 0.5}}, \"type\": \"bar\"}], \"barpolar\": [{\"marker\": {\"line\": {\"color\": \"#E5ECF6\", \"width\": 0.5}}, \"type\": \"barpolar\"}], \"carpet\": [{\"aaxis\": {\"endlinecolor\": \"#2a3f5f\", \"gridcolor\": \"white\", \"linecolor\": \"white\", \"minorgridcolor\": \"white\", \"startlinecolor\": \"#2a3f5f\"}, \"baxis\": {\"endlinecolor\": \"#2a3f5f\", \"gridcolor\": \"white\", \"linecolor\": \"white\", \"minorgridcolor\": \"white\", \"startlinecolor\": \"#2a3f5f\"}, \"type\": \"carpet\"}], \"choropleth\": [{\"colorbar\": {\"outlinewidth\": 0, \"ticks\": \"\"}, \"type\": \"choropleth\"}], \"contour\": [{\"colorbar\": {\"outlinewidth\": 0, \"ticks\": \"\"}, \"colorscale\": [[0.0, \"#0d0887\"], [0.1111111111111111, \"#46039f\"], [0.2222222222222222, \"#7201a8\"], [0.3333333333333333, \"#9c179e\"], [0.4444444444444444, \"#bd3786\"], [0.5555555555555556, \"#d8576b\"], [0.6666666666666666, \"#ed7953\"], [0.7777777777777778, \"#fb9f3a\"], [0.8888888888888888, \"#fdca26\"], [1.0, \"#f0f921\"]], \"type\": \"contour\"}], \"contourcarpet\": [{\"colorbar\": {\"outlinewidth\": 0, \"ticks\": \"\"}, \"type\": \"contourcarpet\"}], \"heatmap\": [{\"colorbar\": {\"outlinewidth\": 0, \"ticks\": \"\"}, \"colorscale\": [[0.0, \"#0d0887\"], [0.1111111111111111, \"#46039f\"], [0.2222222222222222, \"#7201a8\"], [0.3333333333333333, \"#9c179e\"], [0.4444444444444444, \"#bd3786\"], [0.5555555555555556, \"#d8576b\"], [0.6666666666666666, \"#ed7953\"], [0.7777777777777778, \"#fb9f3a\"], [0.8888888888888888, \"#fdca26\"], [1.0, \"#f0f921\"]], \"type\": \"heatmap\"}], \"heatmapgl\": [{\"colorbar\": {\"outlinewidth\": 0, \"ticks\": \"\"}, \"colorscale\": [[0.0, \"#0d0887\"], [0.1111111111111111, \"#46039f\"], [0.2222222222222222, \"#7201a8\"], [0.3333333333333333, \"#9c179e\"], [0.4444444444444444, \"#bd3786\"], [0.5555555555555556, \"#d8576b\"], [0.6666666666666666, \"#ed7953\"], [0.7777777777777778, \"#fb9f3a\"], [0.8888888888888888, \"#fdca26\"], [1.0, \"#f0f921\"]], \"type\": \"heatmapgl\"}], \"histogram\": [{\"marker\": {\"colorbar\": {\"outlinewidth\": 0, \"ticks\": \"\"}}, \"type\": \"histogram\"}], \"histogram2d\": [{\"colorbar\": {\"outlinewidth\": 0, \"ticks\": \"\"}, \"colorscale\": [[0.0, \"#0d0887\"], [0.1111111111111111, \"#46039f\"], [0.2222222222222222, \"#7201a8\"], [0.3333333333333333, \"#9c179e\"], [0.4444444444444444, \"#bd3786\"], [0.5555555555555556, \"#d8576b\"], [0.6666666666666666, \"#ed7953\"], [0.7777777777777778, \"#fb9f3a\"], [0.8888888888888888, \"#fdca26\"], [1.0, \"#f0f921\"]], \"type\": \"histogram2d\"}], \"histogram2dcontour\": [{\"colorbar\": {\"outlinewidth\": 0, \"ticks\": \"\"}, \"colorscale\": [[0.0, \"#0d0887\"], [0.1111111111111111, \"#46039f\"], [0.2222222222222222, \"#7201a8\"], [0.3333333333333333, \"#9c179e\"], [0.4444444444444444, \"#bd3786\"], [0.5555555555555556, \"#d8576b\"], [0.6666666666666666, \"#ed7953\"], [0.7777777777777778, \"#fb9f3a\"], [0.8888888888888888, \"#fdca26\"], [1.0, \"#f0f921\"]], \"type\": \"histogram2dcontour\"}], \"mesh3d\": [{\"colorbar\": {\"outlinewidth\": 0, \"ticks\": \"\"}, \"type\": \"mesh3d\"}], \"parcoords\": [{\"line\": {\"colorbar\": {\"outlinewidth\": 0, \"ticks\": \"\"}}, \"type\": \"parcoords\"}], \"pie\": [{\"automargin\": true, \"type\": \"pie\"}], \"scatter\": [{\"marker\": {\"colorbar\": {\"outlinewidth\": 0, \"ticks\": \"\"}}, \"type\": \"scatter\"}], \"scatter3d\": [{\"line\": {\"colorbar\": {\"outlinewidth\": 0, \"ticks\": \"\"}}, \"marker\": {\"colorbar\": {\"outlinewidth\": 0, \"ticks\": \"\"}}, \"type\": \"scatter3d\"}], \"scattercarpet\": [{\"marker\": {\"colorbar\": {\"outlinewidth\": 0, \"ticks\": \"\"}}, \"type\": \"scattercarpet\"}], \"scattergeo\": [{\"marker\": {\"colorbar\": {\"outlinewidth\": 0, \"ticks\": \"\"}}, \"type\": \"scattergeo\"}], \"scattergl\": [{\"marker\": {\"colorbar\": {\"outlinewidth\": 0, \"ticks\": \"\"}}, \"type\": \"scattergl\"}], \"scattermapbox\": [{\"marker\": {\"colorbar\": {\"outlinewidth\": 0, \"ticks\": \"\"}}, \"type\": \"scattermapbox\"}], \"scatterpolar\": [{\"marker\": {\"colorbar\": {\"outlinewidth\": 0, \"ticks\": \"\"}}, \"type\": \"scatterpolar\"}], \"scatterpolargl\": [{\"marker\": {\"colorbar\": {\"outlinewidth\": 0, \"ticks\": \"\"}}, \"type\": \"scatterpolargl\"}], \"scatterternary\": [{\"marker\": {\"colorbar\": {\"outlinewidth\": 0, \"ticks\": \"\"}}, \"type\": \"scatterternary\"}], \"surface\": [{\"colorbar\": {\"outlinewidth\": 0, \"ticks\": \"\"}, \"colorscale\": [[0.0, \"#0d0887\"], [0.1111111111111111, \"#46039f\"], [0.2222222222222222, \"#7201a8\"], [0.3333333333333333, \"#9c179e\"], [0.4444444444444444, \"#bd3786\"], [0.5555555555555556, \"#d8576b\"], [0.6666666666666666, \"#ed7953\"], [0.7777777777777778, \"#fb9f3a\"], [0.8888888888888888, \"#fdca26\"], [1.0, \"#f0f921\"]], \"type\": \"surface\"}], \"table\": [{\"cells\": {\"fill\": {\"color\": \"#EBF0F8\"}, \"line\": {\"color\": \"white\"}}, \"header\": {\"fill\": {\"color\": \"#C8D4E3\"}, \"line\": {\"color\": \"white\"}}, \"type\": \"table\"}]}, \"layout\": {\"annotationdefaults\": {\"arrowcolor\": \"#2a3f5f\", \"arrowhead\": 0, \"arrowwidth\": 1}, \"autotypenumbers\": \"strict\", \"coloraxis\": {\"colorbar\": {\"outlinewidth\": 0, \"ticks\": \"\"}}, \"colorscale\": {\"diverging\": [[0, \"#8e0152\"], [0.1, \"#c51b7d\"], [0.2, \"#de77ae\"], [0.3, \"#f1b6da\"], [0.4, \"#fde0ef\"], [0.5, \"#f7f7f7\"], [0.6, \"#e6f5d0\"], [0.7, \"#b8e186\"], [0.8, \"#7fbc41\"], [0.9, \"#4d9221\"], [1, \"#276419\"]], \"sequential\": [[0.0, \"#0d0887\"], [0.1111111111111111, \"#46039f\"], [0.2222222222222222, \"#7201a8\"], [0.3333333333333333, \"#9c179e\"], [0.4444444444444444, \"#bd3786\"], [0.5555555555555556, \"#d8576b\"], [0.6666666666666666, \"#ed7953\"], [0.7777777777777778, \"#fb9f3a\"], [0.8888888888888888, \"#fdca26\"], [1.0, \"#f0f921\"]], \"sequentialminus\": [[0.0, \"#0d0887\"], [0.1111111111111111, \"#46039f\"], [0.2222222222222222, \"#7201a8\"], [0.3333333333333333, \"#9c179e\"], [0.4444444444444444, \"#bd3786\"], [0.5555555555555556, \"#d8576b\"], [0.6666666666666666, \"#ed7953\"], [0.7777777777777778, \"#fb9f3a\"], [0.8888888888888888, \"#fdca26\"], [1.0, \"#f0f921\"]]}, \"colorway\": [\"#636efa\", \"#EF553B\", \"#00cc96\", \"#ab63fa\", \"#FFA15A\", \"#19d3f3\", \"#FF6692\", \"#B6E880\", \"#FF97FF\", \"#FECB52\"], \"font\": {\"color\": \"#2a3f5f\"}, \"geo\": {\"bgcolor\": \"white\", \"lakecolor\": \"white\", \"landcolor\": \"#E5ECF6\", \"showlakes\": true, \"showland\": true, \"subunitcolor\": \"white\"}, \"hoverlabel\": {\"align\": \"left\"}, \"hovermode\": \"closest\", \"mapbox\": {\"style\": \"light\"}, \"paper_bgcolor\": \"white\", \"plot_bgcolor\": \"#E5ECF6\", \"polar\": {\"angularaxis\": {\"gridcolor\": \"white\", \"linecolor\": \"white\", \"ticks\": \"\"}, \"bgcolor\": \"#E5ECF6\", \"radialaxis\": {\"gridcolor\": \"white\", \"linecolor\": \"white\", \"ticks\": \"\"}}, \"scene\": {\"xaxis\": {\"backgroundcolor\": \"#E5ECF6\", \"gridcolor\": \"white\", \"gridwidth\": 2, \"linecolor\": \"white\", \"showbackground\": true, \"ticks\": \"\", \"zerolinecolor\": \"white\"}, \"yaxis\": {\"backgroundcolor\": \"#E5ECF6\", \"gridcolor\": \"white\", \"gridwidth\": 2, \"linecolor\": \"white\", \"showbackground\": true, \"ticks\": \"\", \"zerolinecolor\": \"white\"}, \"zaxis\": {\"backgroundcolor\": \"#E5ECF6\", \"gridcolor\": \"white\", \"gridwidth\": 2, \"linecolor\": \"white\", \"showbackground\": true, \"ticks\": \"\", \"zerolinecolor\": \"white\"}}, \"shapedefaults\": {\"line\": {\"color\": \"#2a3f5f\"}}, \"ternary\": {\"aaxis\": {\"gridcolor\": \"white\", \"linecolor\": \"white\", \"ticks\": \"\"}, \"baxis\": {\"gridcolor\": \"white\", \"linecolor\": \"white\", \"ticks\": \"\"}, \"bgcolor\": \"#E5ECF6\", \"caxis\": {\"gridcolor\": \"white\", \"linecolor\": \"white\", \"ticks\": \"\"}}, \"title\": {\"x\": 0.05}, \"xaxis\": {\"automargin\": true, \"gridcolor\": \"white\", \"linecolor\": \"white\", \"ticks\": \"\", \"title\": {\"standoff\": 15}, \"zerolinecolor\": \"white\", \"zerolinewidth\": 2}, \"yaxis\": {\"automargin\": true, \"gridcolor\": \"white\", \"linecolor\": \"white\", \"ticks\": \"\", \"title\": {\"standoff\": 15}, \"zerolinecolor\": \"white\", \"zerolinewidth\": 2}}}, \"title\": {\"text\": \"MASE at Grid Level\"}},                        {\"responsive\": true}                    ).then(function(){\n",
       "                            \n",
       "var gd = document.getElementById('e47acd90-3a6b-4c7a-ad88-f07e835bc04d');\n",
       "var x = new MutationObserver(function (mutations, observer) {{\n",
       "        var display = window.getComputedStyle(gd).display;\n",
       "        if (!display || display === 'none') {{\n",
       "            console.log([gd, 'removed!']);\n",
       "            Plotly.purge(gd);\n",
       "            observer.disconnect();\n",
       "        }}\n",
       "}});\n",
       "\n",
       "// Listen for the removal of the full notebook cells\n",
       "var notebookContainer = gd.closest('#notebook-container');\n",
       "if (notebookContainer) {{\n",
       "    x.observe(notebookContainer, {childList: true});\n",
       "}}\n",
       "\n",
       "// Listen for the clearing of the current output cell\n",
       "var outputEl = gd.closest('.output');\n",
       "if (outputEl) {{\n",
       "    x.observe(outputEl, {childList: true});\n",
       "}}\n",
       "\n",
       "                        })                };                });            </script>        </div>"
      ]
     },
     "metadata": {},
     "output_type": "display_data"
    }
   ],
   "source": [
    "x_vals = ['Grid', 'TL Aggregated', 'SUB Aggregated', \n",
    "          'PC Aggregated', 'Site Aggregated']\n",
    "fig = go.Figure(data=[\n",
    "    go.Bar(name='LSTM', x=x_vals, y=grid_error),\n",
    "    go.Bar(name='Convolutions', x=x_vals, y=grid_error_tcn)\n",
    "])\n",
    "# Change the bar mode\n",
    "fig.update_layout(barmode='group')\n",
    "fig.update_layout(title='MASE at Grid Level')\n",
    "fig.show()"
   ]
  },
  {
   "cell_type": "code",
   "execution_count": 35,
   "metadata": {},
   "outputs": [
    {
     "data": {
      "application/vnd.plotly.v1+json": {
       "config": {
        "plotlyServerURL": "https://plot.ly"
       },
       "data": [
        {
         "name": "grid",
         "type": "box",
         "y": [
          1.23547745107944,
          1.1171429020335122,
          0.7993274321385548,
          2.1183795343935286,
          1.3654891288518574,
          1.6989868378112882,
          2.136336256443193,
          1.2464064115386664,
          1.2955410825714222,
          0.7400306503522828,
          0.7036381697845254,
          1.1393532583725903,
          1.92668375728067,
          1.8386193050825739,
          1.770227352937064,
          0.880602900359924,
          1.4034838598729507,
          0.7868948666647183,
          2.2941460958013953,
          1.678766431123849,
          1.9676526113571438,
          1.2715129122100806,
          1.3142094996562086,
          0.8946901131977759,
          0.7833009868244336,
          1.185205404608998,
          1.4496242597059354,
          1.3694847353739186,
          3.583397694767865,
          2.8223650979252968,
          1.2001564873190311,
          0.6941539591930219,
          1.5868498558438444,
          1.506019136246795,
          1.875881845915804,
          1.1764035715417063
         ]
        },
        {
         "name": "tl",
         "type": "box",
         "y": [
          1.256506029183189,
          1.0032597616646375,
          1.2863189358011344,
          2.27452775708439,
          1.1527365805741552,
          1.7189638851812865,
          1.390930663257258,
          1.127812526159815,
          1.0007819841584353,
          0.5557449694198604,
          0.8820445353505396,
          1.5195199908985997,
          2.3655747317251885,
          1.7161247778343445,
          1.6625693777885637,
          0.6589237797823734,
          1.4270339930307578,
          0.9033379429792744,
          1.9681134473868664,
          2.1383426649792665,
          1.4914373151440554,
          0.9283073677172713,
          1.171082864129151,
          0.601143562451509,
          0.8316492975842156,
          1.6219005445067707,
          1.1443936013162719,
          1.3969034280953132,
          3.7227746405020463,
          3.2920229961206675,
          1.2303582908106052,
          0.8379174203453713,
          1.281825283377554,
          1.0582987476277819,
          1.5627522335054422,
          0.8006837369937311
         ]
        },
        {
         "name": "sub",
         "type": "box",
         "y": [
          1.3914132958342778,
          0.8787285723955524,
          1.2166071593414618,
          2.2837718228660613,
          0.5873153713106204,
          1.3814326106464823,
          1.4537051180735077,
          1.3114169582238708,
          0.8885321881195437,
          0.5770905981348067,
          0.6888111309784944,
          1.0275077969725055,
          2.614877457135982,
          1.0895104237278128,
          1.7439793873624578,
          0.6798350424104423,
          1.2461438134461658,
          0.948764584307949,
          2.0500196417320957,
          2.0298690566482165,
          0.8560992072629299,
          0.9915283379695033,
          1.028271109369425,
          0.67740289625415,
          0.9732806246097275,
          1.177147322438563,
          0.8536203337602739,
          1.4718119833523038,
          3.8158150564409747,
          3.0775358249032077,
          1.2730124895432682,
          0.6585522430331193,
          0.8735042063371141,
          1.0611927825296035,
          1.8024822031925622,
          1.2038896810112265
         ]
        },
        {
         "name": "pc",
         "type": "box",
         "y": [
          1.0894238351686074,
          1.3551896973531952,
          0.8070394817263182,
          1.58877691601331,
          0.38167853552512765,
          1.3667283353365605,
          1.6038469669201945,
          0.8337623763158151,
          1.1429323536943825,
          0.5544579864541486,
          0.7759105133321672,
          1.22580180776688,
          1.3612243343069814,
          1.1449052144386285,
          1.454588677831103,
          1.028489386391424,
          1.5960906004202091,
          0.7219746083930515,
          0.7891658664344597,
          1.2858377187298407,
          1.040194120638353,
          0.835644010328415,
          1.219527497699469,
          0.8773054939196011,
          0.6049531453261432,
          0.877793379051834,
          1.498856433041793,
          1.4468416395980463,
          3.2294684759909305,
          1.5670076296963156,
          1.1912992473076962,
          0.5793107653633339,
          0.5716247168659594,
          0.9568416811628363,
          1.2301474755299773,
          0.6015315644924867
         ]
        },
        {
         "name": "site",
         "type": "box",
         "y": [
          1.0485525998434915,
          1.1322375052720883,
          0.77281830390968,
          1.3315791855944243,
          0.4471480112606331,
          1.392655416714112,
          1.619498198087184,
          0.8762127640848533,
          1.0310062550303936,
          0.5054590982175392,
          0.593560061260968,
          1.1323068226066153,
          1.2659903158402261,
          1.0831592278089615,
          1.4580983942515704,
          0.7311030759243397,
          1.4288224169385764,
          0.6835409715871551,
          0.813864478663678,
          1.1599142569417966,
          1.169894877913663,
          0.8931246051531231,
          0.9326214913920724,
          0.7052517533179083,
          0.439191765071324,
          0.6745570357487853,
          1.2058303487755804,
          0.9486584895045113,
          3.017678751870492,
          1.3854282307438255,
          1.6355066058869434,
          0.5854126347703069,
          0.6010995208833927,
          0.8192938494398216,
          1.4529334087085846,
          0.6848848246727857
         ]
        }
       ],
       "layout": {
        "showlegend": false,
        "template": {
         "data": {
          "bar": [
           {
            "error_x": {
             "color": "#2a3f5f"
            },
            "error_y": {
             "color": "#2a3f5f"
            },
            "marker": {
             "line": {
              "color": "#E5ECF6",
              "width": 0.5
             }
            },
            "type": "bar"
           }
          ],
          "barpolar": [
           {
            "marker": {
             "line": {
              "color": "#E5ECF6",
              "width": 0.5
             }
            },
            "type": "barpolar"
           }
          ],
          "carpet": [
           {
            "aaxis": {
             "endlinecolor": "#2a3f5f",
             "gridcolor": "white",
             "linecolor": "white",
             "minorgridcolor": "white",
             "startlinecolor": "#2a3f5f"
            },
            "baxis": {
             "endlinecolor": "#2a3f5f",
             "gridcolor": "white",
             "linecolor": "white",
             "minorgridcolor": "white",
             "startlinecolor": "#2a3f5f"
            },
            "type": "carpet"
           }
          ],
          "choropleth": [
           {
            "colorbar": {
             "outlinewidth": 0,
             "ticks": ""
            },
            "type": "choropleth"
           }
          ],
          "contour": [
           {
            "colorbar": {
             "outlinewidth": 0,
             "ticks": ""
            },
            "colorscale": [
             [
              0,
              "#0d0887"
             ],
             [
              0.1111111111111111,
              "#46039f"
             ],
             [
              0.2222222222222222,
              "#7201a8"
             ],
             [
              0.3333333333333333,
              "#9c179e"
             ],
             [
              0.4444444444444444,
              "#bd3786"
             ],
             [
              0.5555555555555556,
              "#d8576b"
             ],
             [
              0.6666666666666666,
              "#ed7953"
             ],
             [
              0.7777777777777778,
              "#fb9f3a"
             ],
             [
              0.8888888888888888,
              "#fdca26"
             ],
             [
              1,
              "#f0f921"
             ]
            ],
            "type": "contour"
           }
          ],
          "contourcarpet": [
           {
            "colorbar": {
             "outlinewidth": 0,
             "ticks": ""
            },
            "type": "contourcarpet"
           }
          ],
          "heatmap": [
           {
            "colorbar": {
             "outlinewidth": 0,
             "ticks": ""
            },
            "colorscale": [
             [
              0,
              "#0d0887"
             ],
             [
              0.1111111111111111,
              "#46039f"
             ],
             [
              0.2222222222222222,
              "#7201a8"
             ],
             [
              0.3333333333333333,
              "#9c179e"
             ],
             [
              0.4444444444444444,
              "#bd3786"
             ],
             [
              0.5555555555555556,
              "#d8576b"
             ],
             [
              0.6666666666666666,
              "#ed7953"
             ],
             [
              0.7777777777777778,
              "#fb9f3a"
             ],
             [
              0.8888888888888888,
              "#fdca26"
             ],
             [
              1,
              "#f0f921"
             ]
            ],
            "type": "heatmap"
           }
          ],
          "heatmapgl": [
           {
            "colorbar": {
             "outlinewidth": 0,
             "ticks": ""
            },
            "colorscale": [
             [
              0,
              "#0d0887"
             ],
             [
              0.1111111111111111,
              "#46039f"
             ],
             [
              0.2222222222222222,
              "#7201a8"
             ],
             [
              0.3333333333333333,
              "#9c179e"
             ],
             [
              0.4444444444444444,
              "#bd3786"
             ],
             [
              0.5555555555555556,
              "#d8576b"
             ],
             [
              0.6666666666666666,
              "#ed7953"
             ],
             [
              0.7777777777777778,
              "#fb9f3a"
             ],
             [
              0.8888888888888888,
              "#fdca26"
             ],
             [
              1,
              "#f0f921"
             ]
            ],
            "type": "heatmapgl"
           }
          ],
          "histogram": [
           {
            "marker": {
             "colorbar": {
              "outlinewidth": 0,
              "ticks": ""
             }
            },
            "type": "histogram"
           }
          ],
          "histogram2d": [
           {
            "colorbar": {
             "outlinewidth": 0,
             "ticks": ""
            },
            "colorscale": [
             [
              0,
              "#0d0887"
             ],
             [
              0.1111111111111111,
              "#46039f"
             ],
             [
              0.2222222222222222,
              "#7201a8"
             ],
             [
              0.3333333333333333,
              "#9c179e"
             ],
             [
              0.4444444444444444,
              "#bd3786"
             ],
             [
              0.5555555555555556,
              "#d8576b"
             ],
             [
              0.6666666666666666,
              "#ed7953"
             ],
             [
              0.7777777777777778,
              "#fb9f3a"
             ],
             [
              0.8888888888888888,
              "#fdca26"
             ],
             [
              1,
              "#f0f921"
             ]
            ],
            "type": "histogram2d"
           }
          ],
          "histogram2dcontour": [
           {
            "colorbar": {
             "outlinewidth": 0,
             "ticks": ""
            },
            "colorscale": [
             [
              0,
              "#0d0887"
             ],
             [
              0.1111111111111111,
              "#46039f"
             ],
             [
              0.2222222222222222,
              "#7201a8"
             ],
             [
              0.3333333333333333,
              "#9c179e"
             ],
             [
              0.4444444444444444,
              "#bd3786"
             ],
             [
              0.5555555555555556,
              "#d8576b"
             ],
             [
              0.6666666666666666,
              "#ed7953"
             ],
             [
              0.7777777777777778,
              "#fb9f3a"
             ],
             [
              0.8888888888888888,
              "#fdca26"
             ],
             [
              1,
              "#f0f921"
             ]
            ],
            "type": "histogram2dcontour"
           }
          ],
          "mesh3d": [
           {
            "colorbar": {
             "outlinewidth": 0,
             "ticks": ""
            },
            "type": "mesh3d"
           }
          ],
          "parcoords": [
           {
            "line": {
             "colorbar": {
              "outlinewidth": 0,
              "ticks": ""
             }
            },
            "type": "parcoords"
           }
          ],
          "pie": [
           {
            "automargin": true,
            "type": "pie"
           }
          ],
          "scatter": [
           {
            "marker": {
             "colorbar": {
              "outlinewidth": 0,
              "ticks": ""
             }
            },
            "type": "scatter"
           }
          ],
          "scatter3d": [
           {
            "line": {
             "colorbar": {
              "outlinewidth": 0,
              "ticks": ""
             }
            },
            "marker": {
             "colorbar": {
              "outlinewidth": 0,
              "ticks": ""
             }
            },
            "type": "scatter3d"
           }
          ],
          "scattercarpet": [
           {
            "marker": {
             "colorbar": {
              "outlinewidth": 0,
              "ticks": ""
             }
            },
            "type": "scattercarpet"
           }
          ],
          "scattergeo": [
           {
            "marker": {
             "colorbar": {
              "outlinewidth": 0,
              "ticks": ""
             }
            },
            "type": "scattergeo"
           }
          ],
          "scattergl": [
           {
            "marker": {
             "colorbar": {
              "outlinewidth": 0,
              "ticks": ""
             }
            },
            "type": "scattergl"
           }
          ],
          "scattermapbox": [
           {
            "marker": {
             "colorbar": {
              "outlinewidth": 0,
              "ticks": ""
             }
            },
            "type": "scattermapbox"
           }
          ],
          "scatterpolar": [
           {
            "marker": {
             "colorbar": {
              "outlinewidth": 0,
              "ticks": ""
             }
            },
            "type": "scatterpolar"
           }
          ],
          "scatterpolargl": [
           {
            "marker": {
             "colorbar": {
              "outlinewidth": 0,
              "ticks": ""
             }
            },
            "type": "scatterpolargl"
           }
          ],
          "scatterternary": [
           {
            "marker": {
             "colorbar": {
              "outlinewidth": 0,
              "ticks": ""
             }
            },
            "type": "scatterternary"
           }
          ],
          "surface": [
           {
            "colorbar": {
             "outlinewidth": 0,
             "ticks": ""
            },
            "colorscale": [
             [
              0,
              "#0d0887"
             ],
             [
              0.1111111111111111,
              "#46039f"
             ],
             [
              0.2222222222222222,
              "#7201a8"
             ],
             [
              0.3333333333333333,
              "#9c179e"
             ],
             [
              0.4444444444444444,
              "#bd3786"
             ],
             [
              0.5555555555555556,
              "#d8576b"
             ],
             [
              0.6666666666666666,
              "#ed7953"
             ],
             [
              0.7777777777777778,
              "#fb9f3a"
             ],
             [
              0.8888888888888888,
              "#fdca26"
             ],
             [
              1,
              "#f0f921"
             ]
            ],
            "type": "surface"
           }
          ],
          "table": [
           {
            "cells": {
             "fill": {
              "color": "#EBF0F8"
             },
             "line": {
              "color": "white"
             }
            },
            "header": {
             "fill": {
              "color": "#C8D4E3"
             },
             "line": {
              "color": "white"
             }
            },
            "type": "table"
           }
          ]
         },
         "layout": {
          "annotationdefaults": {
           "arrowcolor": "#2a3f5f",
           "arrowhead": 0,
           "arrowwidth": 1
          },
          "autotypenumbers": "strict",
          "coloraxis": {
           "colorbar": {
            "outlinewidth": 0,
            "ticks": ""
           }
          },
          "colorscale": {
           "diverging": [
            [
             0,
             "#8e0152"
            ],
            [
             0.1,
             "#c51b7d"
            ],
            [
             0.2,
             "#de77ae"
            ],
            [
             0.3,
             "#f1b6da"
            ],
            [
             0.4,
             "#fde0ef"
            ],
            [
             0.5,
             "#f7f7f7"
            ],
            [
             0.6,
             "#e6f5d0"
            ],
            [
             0.7,
             "#b8e186"
            ],
            [
             0.8,
             "#7fbc41"
            ],
            [
             0.9,
             "#4d9221"
            ],
            [
             1,
             "#276419"
            ]
           ],
           "sequential": [
            [
             0,
             "#0d0887"
            ],
            [
             0.1111111111111111,
             "#46039f"
            ],
            [
             0.2222222222222222,
             "#7201a8"
            ],
            [
             0.3333333333333333,
             "#9c179e"
            ],
            [
             0.4444444444444444,
             "#bd3786"
            ],
            [
             0.5555555555555556,
             "#d8576b"
            ],
            [
             0.6666666666666666,
             "#ed7953"
            ],
            [
             0.7777777777777778,
             "#fb9f3a"
            ],
            [
             0.8888888888888888,
             "#fdca26"
            ],
            [
             1,
             "#f0f921"
            ]
           ],
           "sequentialminus": [
            [
             0,
             "#0d0887"
            ],
            [
             0.1111111111111111,
             "#46039f"
            ],
            [
             0.2222222222222222,
             "#7201a8"
            ],
            [
             0.3333333333333333,
             "#9c179e"
            ],
            [
             0.4444444444444444,
             "#bd3786"
            ],
            [
             0.5555555555555556,
             "#d8576b"
            ],
            [
             0.6666666666666666,
             "#ed7953"
            ],
            [
             0.7777777777777778,
             "#fb9f3a"
            ],
            [
             0.8888888888888888,
             "#fdca26"
            ],
            [
             1,
             "#f0f921"
            ]
           ]
          },
          "colorway": [
           "#636efa",
           "#EF553B",
           "#00cc96",
           "#ab63fa",
           "#FFA15A",
           "#19d3f3",
           "#FF6692",
           "#B6E880",
           "#FF97FF",
           "#FECB52"
          ],
          "font": {
           "color": "#2a3f5f"
          },
          "geo": {
           "bgcolor": "white",
           "lakecolor": "white",
           "landcolor": "#E5ECF6",
           "showlakes": true,
           "showland": true,
           "subunitcolor": "white"
          },
          "hoverlabel": {
           "align": "left"
          },
          "hovermode": "closest",
          "mapbox": {
           "style": "light"
          },
          "paper_bgcolor": "white",
          "plot_bgcolor": "#E5ECF6",
          "polar": {
           "angularaxis": {
            "gridcolor": "white",
            "linecolor": "white",
            "ticks": ""
           },
           "bgcolor": "#E5ECF6",
           "radialaxis": {
            "gridcolor": "white",
            "linecolor": "white",
            "ticks": ""
           }
          },
          "scene": {
           "xaxis": {
            "backgroundcolor": "#E5ECF6",
            "gridcolor": "white",
            "gridwidth": 2,
            "linecolor": "white",
            "showbackground": true,
            "ticks": "",
            "zerolinecolor": "white"
           },
           "yaxis": {
            "backgroundcolor": "#E5ECF6",
            "gridcolor": "white",
            "gridwidth": 2,
            "linecolor": "white",
            "showbackground": true,
            "ticks": "",
            "zerolinecolor": "white"
           },
           "zaxis": {
            "backgroundcolor": "#E5ECF6",
            "gridcolor": "white",
            "gridwidth": 2,
            "linecolor": "white",
            "showbackground": true,
            "ticks": "",
            "zerolinecolor": "white"
           }
          },
          "shapedefaults": {
           "line": {
            "color": "#2a3f5f"
           }
          },
          "ternary": {
           "aaxis": {
            "gridcolor": "white",
            "linecolor": "white",
            "ticks": ""
           },
           "baxis": {
            "gridcolor": "white",
            "linecolor": "white",
            "ticks": ""
           },
           "bgcolor": "#E5ECF6",
           "caxis": {
            "gridcolor": "white",
            "linecolor": "white",
            "ticks": ""
           }
          },
          "title": {
           "x": 0.05
          },
          "xaxis": {
           "automargin": true,
           "gridcolor": "white",
           "linecolor": "white",
           "ticks": "",
           "title": {
            "standoff": 15
           },
           "zerolinecolor": "white",
           "zerolinewidth": 2
          },
          "yaxis": {
           "automargin": true,
           "gridcolor": "white",
           "linecolor": "white",
           "ticks": "",
           "title": {
            "standoff": 15
           },
           "zerolinecolor": "white",
           "zerolinewidth": 2
          }
         }
        },
        "title": {
         "text": "Grid level forecasts - Model LSTM"
        },
        "xaxis": {
         "title": {
          "text": "BU strategy - ts hierarchy level"
         }
        },
        "yaxis": {
         "title": {
          "text": "MASE distribution"
         }
        }
       }
      },
      "text/html": [
       "<div>                            <div id=\"456df3ce-cd8c-43cd-8ebc-b8b297f83413\" class=\"plotly-graph-div\" style=\"height:525px; width:100%;\"></div>            <script type=\"text/javascript\">                require([\"plotly\"], function(Plotly) {                    window.PLOTLYENV=window.PLOTLYENV || {};                                    if (document.getElementById(\"456df3ce-cd8c-43cd-8ebc-b8b297f83413\")) {                    Plotly.newPlot(                        \"456df3ce-cd8c-43cd-8ebc-b8b297f83413\",                        [{\"name\": \"grid\", \"type\": \"box\", \"y\": [1.23547745107944, 1.1171429020335122, 0.7993274321385548, 2.1183795343935286, 1.3654891288518574, 1.6989868378112882, 2.136336256443193, 1.2464064115386664, 1.2955410825714222, 0.7400306503522828, 0.7036381697845254, 1.1393532583725903, 1.92668375728067, 1.8386193050825739, 1.770227352937064, 0.880602900359924, 1.4034838598729507, 0.7868948666647183, 2.2941460958013953, 1.678766431123849, 1.9676526113571438, 1.2715129122100806, 1.3142094996562086, 0.8946901131977759, 0.7833009868244336, 1.185205404608998, 1.4496242597059354, 1.3694847353739186, 3.583397694767865, 2.8223650979252968, 1.2001564873190311, 0.6941539591930219, 1.5868498558438444, 1.506019136246795, 1.875881845915804, 1.1764035715417063]}, {\"name\": \"tl\", \"type\": \"box\", \"y\": [1.256506029183189, 1.0032597616646375, 1.2863189358011344, 2.27452775708439, 1.1527365805741552, 1.7189638851812865, 1.390930663257258, 1.127812526159815, 1.0007819841584353, 0.5557449694198604, 0.8820445353505396, 1.5195199908985997, 2.3655747317251885, 1.7161247778343445, 1.6625693777885637, 0.6589237797823734, 1.4270339930307578, 0.9033379429792744, 1.9681134473868664, 2.1383426649792665, 1.4914373151440554, 0.9283073677172713, 1.171082864129151, 0.601143562451509, 0.8316492975842156, 1.6219005445067707, 1.1443936013162719, 1.3969034280953132, 3.7227746405020463, 3.2920229961206675, 1.2303582908106052, 0.8379174203453713, 1.281825283377554, 1.0582987476277819, 1.5627522335054422, 0.8006837369937311]}, {\"name\": \"sub\", \"type\": \"box\", \"y\": [1.3914132958342778, 0.8787285723955524, 1.2166071593414618, 2.2837718228660613, 0.5873153713106204, 1.3814326106464823, 1.4537051180735077, 1.3114169582238708, 0.8885321881195437, 0.5770905981348067, 0.6888111309784944, 1.0275077969725055, 2.614877457135982, 1.0895104237278128, 1.7439793873624578, 0.6798350424104423, 1.2461438134461658, 0.948764584307949, 2.0500196417320957, 2.0298690566482165, 0.8560992072629299, 0.9915283379695033, 1.028271109369425, 0.67740289625415, 0.9732806246097275, 1.177147322438563, 0.8536203337602739, 1.4718119833523038, 3.8158150564409747, 3.0775358249032077, 1.2730124895432682, 0.6585522430331193, 0.8735042063371141, 1.0611927825296035, 1.8024822031925622, 1.2038896810112265]}, {\"name\": \"pc\", \"type\": \"box\", \"y\": [1.0894238351686074, 1.3551896973531952, 0.8070394817263182, 1.58877691601331, 0.38167853552512765, 1.3667283353365605, 1.6038469669201945, 0.8337623763158151, 1.1429323536943825, 0.5544579864541486, 0.7759105133321672, 1.22580180776688, 1.3612243343069814, 1.1449052144386285, 1.454588677831103, 1.028489386391424, 1.5960906004202091, 0.7219746083930515, 0.7891658664344597, 1.2858377187298407, 1.040194120638353, 0.835644010328415, 1.219527497699469, 0.8773054939196011, 0.6049531453261432, 0.877793379051834, 1.498856433041793, 1.4468416395980463, 3.2294684759909305, 1.5670076296963156, 1.1912992473076962, 0.5793107653633339, 0.5716247168659594, 0.9568416811628363, 1.2301474755299773, 0.6015315644924867]}, {\"name\": \"site\", \"type\": \"box\", \"y\": [1.0485525998434915, 1.1322375052720883, 0.77281830390968, 1.3315791855944243, 0.4471480112606331, 1.392655416714112, 1.619498198087184, 0.8762127640848533, 1.0310062550303936, 0.5054590982175392, 0.593560061260968, 1.1323068226066153, 1.2659903158402261, 1.0831592278089615, 1.4580983942515704, 0.7311030759243397, 1.4288224169385764, 0.6835409715871551, 0.813864478663678, 1.1599142569417966, 1.169894877913663, 0.8931246051531231, 0.9326214913920724, 0.7052517533179083, 0.439191765071324, 0.6745570357487853, 1.2058303487755804, 0.9486584895045113, 3.017678751870492, 1.3854282307438255, 1.6355066058869434, 0.5854126347703069, 0.6010995208833927, 0.8192938494398216, 1.4529334087085846, 0.6848848246727857]}],                        {\"showlegend\": false, \"template\": {\"data\": {\"bar\": [{\"error_x\": {\"color\": \"#2a3f5f\"}, \"error_y\": {\"color\": \"#2a3f5f\"}, \"marker\": {\"line\": {\"color\": \"#E5ECF6\", \"width\": 0.5}}, \"type\": \"bar\"}], \"barpolar\": [{\"marker\": {\"line\": {\"color\": \"#E5ECF6\", \"width\": 0.5}}, \"type\": \"barpolar\"}], \"carpet\": [{\"aaxis\": {\"endlinecolor\": \"#2a3f5f\", \"gridcolor\": \"white\", \"linecolor\": \"white\", \"minorgridcolor\": \"white\", \"startlinecolor\": \"#2a3f5f\"}, \"baxis\": {\"endlinecolor\": \"#2a3f5f\", \"gridcolor\": \"white\", \"linecolor\": \"white\", \"minorgridcolor\": \"white\", \"startlinecolor\": \"#2a3f5f\"}, \"type\": \"carpet\"}], \"choropleth\": [{\"colorbar\": {\"outlinewidth\": 0, \"ticks\": \"\"}, \"type\": \"choropleth\"}], \"contour\": [{\"colorbar\": {\"outlinewidth\": 0, \"ticks\": \"\"}, \"colorscale\": [[0.0, \"#0d0887\"], [0.1111111111111111, \"#46039f\"], [0.2222222222222222, \"#7201a8\"], [0.3333333333333333, \"#9c179e\"], [0.4444444444444444, \"#bd3786\"], [0.5555555555555556, \"#d8576b\"], [0.6666666666666666, \"#ed7953\"], [0.7777777777777778, \"#fb9f3a\"], [0.8888888888888888, \"#fdca26\"], [1.0, \"#f0f921\"]], \"type\": \"contour\"}], \"contourcarpet\": [{\"colorbar\": {\"outlinewidth\": 0, \"ticks\": \"\"}, \"type\": \"contourcarpet\"}], \"heatmap\": [{\"colorbar\": {\"outlinewidth\": 0, \"ticks\": \"\"}, \"colorscale\": [[0.0, \"#0d0887\"], [0.1111111111111111, \"#46039f\"], [0.2222222222222222, \"#7201a8\"], [0.3333333333333333, \"#9c179e\"], [0.4444444444444444, \"#bd3786\"], [0.5555555555555556, \"#d8576b\"], [0.6666666666666666, \"#ed7953\"], [0.7777777777777778, \"#fb9f3a\"], [0.8888888888888888, \"#fdca26\"], [1.0, \"#f0f921\"]], \"type\": \"heatmap\"}], \"heatmapgl\": [{\"colorbar\": {\"outlinewidth\": 0, \"ticks\": \"\"}, \"colorscale\": [[0.0, \"#0d0887\"], [0.1111111111111111, \"#46039f\"], [0.2222222222222222, \"#7201a8\"], [0.3333333333333333, \"#9c179e\"], [0.4444444444444444, \"#bd3786\"], [0.5555555555555556, \"#d8576b\"], [0.6666666666666666, \"#ed7953\"], [0.7777777777777778, \"#fb9f3a\"], [0.8888888888888888, \"#fdca26\"], [1.0, \"#f0f921\"]], \"type\": \"heatmapgl\"}], \"histogram\": [{\"marker\": {\"colorbar\": {\"outlinewidth\": 0, \"ticks\": \"\"}}, \"type\": \"histogram\"}], \"histogram2d\": [{\"colorbar\": {\"outlinewidth\": 0, \"ticks\": \"\"}, \"colorscale\": [[0.0, \"#0d0887\"], [0.1111111111111111, \"#46039f\"], [0.2222222222222222, \"#7201a8\"], [0.3333333333333333, \"#9c179e\"], [0.4444444444444444, \"#bd3786\"], [0.5555555555555556, \"#d8576b\"], [0.6666666666666666, \"#ed7953\"], [0.7777777777777778, \"#fb9f3a\"], [0.8888888888888888, \"#fdca26\"], [1.0, \"#f0f921\"]], \"type\": \"histogram2d\"}], \"histogram2dcontour\": [{\"colorbar\": {\"outlinewidth\": 0, \"ticks\": \"\"}, \"colorscale\": [[0.0, \"#0d0887\"], [0.1111111111111111, \"#46039f\"], [0.2222222222222222, \"#7201a8\"], [0.3333333333333333, \"#9c179e\"], [0.4444444444444444, \"#bd3786\"], [0.5555555555555556, \"#d8576b\"], [0.6666666666666666, \"#ed7953\"], [0.7777777777777778, \"#fb9f3a\"], [0.8888888888888888, \"#fdca26\"], [1.0, \"#f0f921\"]], \"type\": \"histogram2dcontour\"}], \"mesh3d\": [{\"colorbar\": {\"outlinewidth\": 0, \"ticks\": \"\"}, \"type\": \"mesh3d\"}], \"parcoords\": [{\"line\": {\"colorbar\": {\"outlinewidth\": 0, \"ticks\": \"\"}}, \"type\": \"parcoords\"}], \"pie\": [{\"automargin\": true, \"type\": \"pie\"}], \"scatter\": [{\"marker\": {\"colorbar\": {\"outlinewidth\": 0, \"ticks\": \"\"}}, \"type\": \"scatter\"}], \"scatter3d\": [{\"line\": {\"colorbar\": {\"outlinewidth\": 0, \"ticks\": \"\"}}, \"marker\": {\"colorbar\": {\"outlinewidth\": 0, \"ticks\": \"\"}}, \"type\": \"scatter3d\"}], \"scattercarpet\": [{\"marker\": {\"colorbar\": {\"outlinewidth\": 0, \"ticks\": \"\"}}, \"type\": \"scattercarpet\"}], \"scattergeo\": [{\"marker\": {\"colorbar\": {\"outlinewidth\": 0, \"ticks\": \"\"}}, \"type\": \"scattergeo\"}], \"scattergl\": [{\"marker\": {\"colorbar\": {\"outlinewidth\": 0, \"ticks\": \"\"}}, \"type\": \"scattergl\"}], \"scattermapbox\": [{\"marker\": {\"colorbar\": {\"outlinewidth\": 0, \"ticks\": \"\"}}, \"type\": \"scattermapbox\"}], \"scatterpolar\": [{\"marker\": {\"colorbar\": {\"outlinewidth\": 0, \"ticks\": \"\"}}, \"type\": \"scatterpolar\"}], \"scatterpolargl\": [{\"marker\": {\"colorbar\": {\"outlinewidth\": 0, \"ticks\": \"\"}}, \"type\": \"scatterpolargl\"}], \"scatterternary\": [{\"marker\": {\"colorbar\": {\"outlinewidth\": 0, \"ticks\": \"\"}}, \"type\": \"scatterternary\"}], \"surface\": [{\"colorbar\": {\"outlinewidth\": 0, \"ticks\": \"\"}, \"colorscale\": [[0.0, \"#0d0887\"], [0.1111111111111111, \"#46039f\"], [0.2222222222222222, \"#7201a8\"], [0.3333333333333333, \"#9c179e\"], [0.4444444444444444, \"#bd3786\"], [0.5555555555555556, \"#d8576b\"], [0.6666666666666666, \"#ed7953\"], [0.7777777777777778, \"#fb9f3a\"], [0.8888888888888888, \"#fdca26\"], [1.0, \"#f0f921\"]], \"type\": \"surface\"}], \"table\": [{\"cells\": {\"fill\": {\"color\": \"#EBF0F8\"}, \"line\": {\"color\": \"white\"}}, \"header\": {\"fill\": {\"color\": \"#C8D4E3\"}, \"line\": {\"color\": \"white\"}}, \"type\": \"table\"}]}, \"layout\": {\"annotationdefaults\": {\"arrowcolor\": \"#2a3f5f\", \"arrowhead\": 0, \"arrowwidth\": 1}, \"autotypenumbers\": \"strict\", \"coloraxis\": {\"colorbar\": {\"outlinewidth\": 0, \"ticks\": \"\"}}, \"colorscale\": {\"diverging\": [[0, \"#8e0152\"], [0.1, \"#c51b7d\"], [0.2, \"#de77ae\"], [0.3, \"#f1b6da\"], [0.4, \"#fde0ef\"], [0.5, \"#f7f7f7\"], [0.6, \"#e6f5d0\"], [0.7, \"#b8e186\"], [0.8, \"#7fbc41\"], [0.9, \"#4d9221\"], [1, \"#276419\"]], \"sequential\": [[0.0, \"#0d0887\"], [0.1111111111111111, \"#46039f\"], [0.2222222222222222, \"#7201a8\"], [0.3333333333333333, \"#9c179e\"], [0.4444444444444444, \"#bd3786\"], [0.5555555555555556, \"#d8576b\"], [0.6666666666666666, \"#ed7953\"], [0.7777777777777778, \"#fb9f3a\"], [0.8888888888888888, \"#fdca26\"], [1.0, \"#f0f921\"]], \"sequentialminus\": [[0.0, \"#0d0887\"], [0.1111111111111111, \"#46039f\"], [0.2222222222222222, \"#7201a8\"], [0.3333333333333333, \"#9c179e\"], [0.4444444444444444, \"#bd3786\"], [0.5555555555555556, \"#d8576b\"], [0.6666666666666666, \"#ed7953\"], [0.7777777777777778, \"#fb9f3a\"], [0.8888888888888888, \"#fdca26\"], [1.0, \"#f0f921\"]]}, \"colorway\": [\"#636efa\", \"#EF553B\", \"#00cc96\", \"#ab63fa\", \"#FFA15A\", \"#19d3f3\", \"#FF6692\", \"#B6E880\", \"#FF97FF\", \"#FECB52\"], \"font\": {\"color\": \"#2a3f5f\"}, \"geo\": {\"bgcolor\": \"white\", \"lakecolor\": \"white\", \"landcolor\": \"#E5ECF6\", \"showlakes\": true, \"showland\": true, \"subunitcolor\": \"white\"}, \"hoverlabel\": {\"align\": \"left\"}, \"hovermode\": \"closest\", \"mapbox\": {\"style\": \"light\"}, \"paper_bgcolor\": \"white\", \"plot_bgcolor\": \"#E5ECF6\", \"polar\": {\"angularaxis\": {\"gridcolor\": \"white\", \"linecolor\": \"white\", \"ticks\": \"\"}, \"bgcolor\": \"#E5ECF6\", \"radialaxis\": {\"gridcolor\": \"white\", \"linecolor\": \"white\", \"ticks\": \"\"}}, \"scene\": {\"xaxis\": {\"backgroundcolor\": \"#E5ECF6\", \"gridcolor\": \"white\", \"gridwidth\": 2, \"linecolor\": \"white\", \"showbackground\": true, \"ticks\": \"\", \"zerolinecolor\": \"white\"}, \"yaxis\": {\"backgroundcolor\": \"#E5ECF6\", \"gridcolor\": \"white\", \"gridwidth\": 2, \"linecolor\": \"white\", \"showbackground\": true, \"ticks\": \"\", \"zerolinecolor\": \"white\"}, \"zaxis\": {\"backgroundcolor\": \"#E5ECF6\", \"gridcolor\": \"white\", \"gridwidth\": 2, \"linecolor\": \"white\", \"showbackground\": true, \"ticks\": \"\", \"zerolinecolor\": \"white\"}}, \"shapedefaults\": {\"line\": {\"color\": \"#2a3f5f\"}}, \"ternary\": {\"aaxis\": {\"gridcolor\": \"white\", \"linecolor\": \"white\", \"ticks\": \"\"}, \"baxis\": {\"gridcolor\": \"white\", \"linecolor\": \"white\", \"ticks\": \"\"}, \"bgcolor\": \"#E5ECF6\", \"caxis\": {\"gridcolor\": \"white\", \"linecolor\": \"white\", \"ticks\": \"\"}}, \"title\": {\"x\": 0.05}, \"xaxis\": {\"automargin\": true, \"gridcolor\": \"white\", \"linecolor\": \"white\", \"ticks\": \"\", \"title\": {\"standoff\": 15}, \"zerolinecolor\": \"white\", \"zerolinewidth\": 2}, \"yaxis\": {\"automargin\": true, \"gridcolor\": \"white\", \"linecolor\": \"white\", \"ticks\": \"\", \"title\": {\"standoff\": 15}, \"zerolinecolor\": \"white\", \"zerolinewidth\": 2}}}, \"title\": {\"text\": \"Grid level forecasts - Model LSTM\"}, \"xaxis\": {\"title\": {\"text\": \"BU strategy - ts hierarchy level\"}}, \"yaxis\": {\"title\": {\"text\": \"MASE distribution\"}}},                        {\"responsive\": true}                    ).then(function(){\n",
       "                            \n",
       "var gd = document.getElementById('456df3ce-cd8c-43cd-8ebc-b8b297f83413');\n",
       "var x = new MutationObserver(function (mutations, observer) {{\n",
       "        var display = window.getComputedStyle(gd).display;\n",
       "        if (!display || display === 'none') {{\n",
       "            console.log([gd, 'removed!']);\n",
       "            Plotly.purge(gd);\n",
       "            observer.disconnect();\n",
       "        }}\n",
       "}});\n",
       "\n",
       "// Listen for the removal of the full notebook cells\n",
       "var notebookContainer = gd.closest('#notebook-container');\n",
       "if (notebookContainer) {{\n",
       "    x.observe(notebookContainer, {childList: true});\n",
       "}}\n",
       "\n",
       "// Listen for the clearing of the current output cell\n",
       "var outputEl = gd.closest('.output');\n",
       "if (outputEl) {{\n",
       "    x.observe(outputEl, {childList: true});\n",
       "}}\n",
       "\n",
       "                        })                };                });            </script>        </div>"
      ]
     },
     "metadata": {},
     "output_type": "display_data"
    }
   ],
   "source": [
    "fig = go.Figure()\n",
    "for col in grid_error_dist.keys():\n",
    "    box_data = grid_error_dist[col]\n",
    "    fig.add_trace(go.Box(y=box_data, name = col))\n",
    "fig.update_xaxes(title = 'BU strategy - ts hierarchy level')\n",
    "fig.update_yaxes(title = 'MASE distribution')\n",
    "fig.update_layout(title = \"Grid level forecasts - Model LSTM\", showlegend = False)"
   ]
  },
  {
   "cell_type": "code",
   "execution_count": 34,
   "metadata": {},
   "outputs": [
    {
     "data": {
      "application/vnd.plotly.v1+json": {
       "config": {
        "plotlyServerURL": "https://plot.ly"
       },
       "data": [
        {
         "name": "grid",
         "type": "box",
         "y": [
          3.4053630071537606,
          3.9336043320261247,
          4.943115464028954,
          5.288742006370496,
          4.712054390061754,
          5.04895820253476,
          5.4229256717237755,
          4.390895517904,
          4.757890353496411,
          4.043340268024233,
          3.666636658782479,
          4.848673635779654,
          5.218897837073379,
          5.26500076073676,
          3.942124784384393,
          3.608355122418069,
          3.1638820405420085,
          4.384345962342484,
          4.817420420561679,
          5.173560896157113,
          5.330607625404893,
          4.345695578155768,
          4.471440943121055,
          4.759207973022852,
          4.026650673499766,
          4.476796030752107,
          5.18310277240383,
          5.038219618234287,
          1.5929341032104312,
          2.1763657574487834,
          2.9342692421173635,
          3.6599821890504667,
          3.9401761866630705,
          3.1538693577488983,
          5.19519390562354,
          4.184911074400843
         ]
        },
        {
         "name": "tl",
         "type": "box",
         "y": [
          3.389664677888329,
          3.9312651102091714,
          4.9349895332172595,
          5.281249618615122,
          4.692883305382709,
          5.046280732491974,
          5.418002601622449,
          4.383828563456176,
          4.739572396927346,
          4.0280106179396,
          3.6493900093606713,
          4.845386690263024,
          5.215764501444752,
          5.259655845611012,
          3.9337952469401762,
          3.5912263821873647,
          3.1575963495961754,
          4.366898136330182,
          4.810312294620938,
          5.159084186698441,
          5.317572904831738,
          4.338859369904049,
          4.466647999468463,
          4.746141174224085,
          4.016522051560023,
          4.4728374426833515,
          5.187857543837242,
          5.027054608858818,
          1.5804387112578653,
          2.1718577437783546,
          2.9381075892388067,
          3.660164033591076,
          3.953054226513108,
          3.1612754476873377,
          5.197110130379307,
          4.178650679821616
         ]
        },
        {
         "name": "sub",
         "type": "box",
         "y": [
          3.3923589549592505,
          3.93511796796252,
          4.938987996767073,
          5.285234674381559,
          4.6950033135218385,
          5.050195342233074,
          5.421926510087039,
          4.387820013657552,
          4.741891678534019,
          4.03055351922186,
          3.65435186065421,
          4.8496194434300355,
          5.219653135177021,
          5.26361411062019,
          3.9351838630927647,
          3.5930500318499825,
          3.1615938667810037,
          4.369096685015874,
          4.814435512031191,
          5.163035890882061,
          5.321510934092232,
          4.3427701037018425,
          4.470543297281891,
          4.748674959499653,
          4.0196556601033455,
          4.477425552146604,
          5.1914887336499875,
          5.029740330293178,
          1.5763305524732032,
          2.1740947059626037,
          2.9400570124860153,
          3.6638517049618367,
          3.956545980432228,
          3.1647247193908106,
          5.2007357411986215,
          4.181577776074072
         ]
        },
        {
         "name": "pc",
         "type": "box",
         "y": [
          1.5486566236612964,
          0.8335599169855742,
          1.6459962632871545,
          0.928771882205842,
          1.0828533942851342,
          0.7305743754702314,
          0.8644677464811366,
          1.704378769078957,
          1.1773742889110113,
          1.6306728629204255,
          1.2860122960711284,
          0.5853964173086876,
          1.0263030117242562,
          1.066823266394078,
          2.2629245430265286,
          0.7610021061852746,
          1.92024276841251,
          0.9591158722856127,
          0.8397544279269101,
          1.0123155919489377,
          0.868205948993065,
          1.870028529831677,
          1.8350654185079478,
          1.9327091859409449,
          1.6804139762116588,
          0.8068246977656325,
          0.7918882587547383,
          0.6978677951595538,
          2.5714465382710836,
          1.802334089359521,
          0.880720851399267,
          0.5784228628948818,
          0.580917846017367,
          1.378766676189226,
          0.5333321221720001,
          1.5549061642099857
         ]
        },
        {
         "name": "site",
         "type": "box",
         "y": [
          1.4257249136587333,
          0.7921209907138315,
          1.5982180035379392,
          0.8800748528036915,
          1.0213308953087072,
          0.8837598729012577,
          0.7521789354296659,
          1.5387668286815903,
          1.0575404117690204,
          1.5867496949238002,
          1.2342010850742209,
          0.6004207228176733,
          1.0091254934653788,
          1.0488955277219527,
          2.2463577849367398,
          0.7313025591053112,
          1.9056292004063706,
          0.9311342861664087,
          0.8385547402867864,
          0.9262615491454199,
          0.7984005553057446,
          1.8337085780963682,
          1.7724347861910381,
          1.8139590156261536,
          1.6091344990222212,
          0.7492376269363404,
          0.6860037351633302,
          0.7535025878332674,
          2.5787404282530955,
          1.8071311550151659,
          0.8885497019755216,
          0.5935276487640083,
          0.5867497618626022,
          1.3175138634494812,
          0.4755407587073754,
          1.5314919143346952
         ]
        }
       ],
       "layout": {
        "showlegend": false,
        "template": {
         "data": {
          "bar": [
           {
            "error_x": {
             "color": "#2a3f5f"
            },
            "error_y": {
             "color": "#2a3f5f"
            },
            "marker": {
             "line": {
              "color": "#E5ECF6",
              "width": 0.5
             }
            },
            "type": "bar"
           }
          ],
          "barpolar": [
           {
            "marker": {
             "line": {
              "color": "#E5ECF6",
              "width": 0.5
             }
            },
            "type": "barpolar"
           }
          ],
          "carpet": [
           {
            "aaxis": {
             "endlinecolor": "#2a3f5f",
             "gridcolor": "white",
             "linecolor": "white",
             "minorgridcolor": "white",
             "startlinecolor": "#2a3f5f"
            },
            "baxis": {
             "endlinecolor": "#2a3f5f",
             "gridcolor": "white",
             "linecolor": "white",
             "minorgridcolor": "white",
             "startlinecolor": "#2a3f5f"
            },
            "type": "carpet"
           }
          ],
          "choropleth": [
           {
            "colorbar": {
             "outlinewidth": 0,
             "ticks": ""
            },
            "type": "choropleth"
           }
          ],
          "contour": [
           {
            "colorbar": {
             "outlinewidth": 0,
             "ticks": ""
            },
            "colorscale": [
             [
              0,
              "#0d0887"
             ],
             [
              0.1111111111111111,
              "#46039f"
             ],
             [
              0.2222222222222222,
              "#7201a8"
             ],
             [
              0.3333333333333333,
              "#9c179e"
             ],
             [
              0.4444444444444444,
              "#bd3786"
             ],
             [
              0.5555555555555556,
              "#d8576b"
             ],
             [
              0.6666666666666666,
              "#ed7953"
             ],
             [
              0.7777777777777778,
              "#fb9f3a"
             ],
             [
              0.8888888888888888,
              "#fdca26"
             ],
             [
              1,
              "#f0f921"
             ]
            ],
            "type": "contour"
           }
          ],
          "contourcarpet": [
           {
            "colorbar": {
             "outlinewidth": 0,
             "ticks": ""
            },
            "type": "contourcarpet"
           }
          ],
          "heatmap": [
           {
            "colorbar": {
             "outlinewidth": 0,
             "ticks": ""
            },
            "colorscale": [
             [
              0,
              "#0d0887"
             ],
             [
              0.1111111111111111,
              "#46039f"
             ],
             [
              0.2222222222222222,
              "#7201a8"
             ],
             [
              0.3333333333333333,
              "#9c179e"
             ],
             [
              0.4444444444444444,
              "#bd3786"
             ],
             [
              0.5555555555555556,
              "#d8576b"
             ],
             [
              0.6666666666666666,
              "#ed7953"
             ],
             [
              0.7777777777777778,
              "#fb9f3a"
             ],
             [
              0.8888888888888888,
              "#fdca26"
             ],
             [
              1,
              "#f0f921"
             ]
            ],
            "type": "heatmap"
           }
          ],
          "heatmapgl": [
           {
            "colorbar": {
             "outlinewidth": 0,
             "ticks": ""
            },
            "colorscale": [
             [
              0,
              "#0d0887"
             ],
             [
              0.1111111111111111,
              "#46039f"
             ],
             [
              0.2222222222222222,
              "#7201a8"
             ],
             [
              0.3333333333333333,
              "#9c179e"
             ],
             [
              0.4444444444444444,
              "#bd3786"
             ],
             [
              0.5555555555555556,
              "#d8576b"
             ],
             [
              0.6666666666666666,
              "#ed7953"
             ],
             [
              0.7777777777777778,
              "#fb9f3a"
             ],
             [
              0.8888888888888888,
              "#fdca26"
             ],
             [
              1,
              "#f0f921"
             ]
            ],
            "type": "heatmapgl"
           }
          ],
          "histogram": [
           {
            "marker": {
             "colorbar": {
              "outlinewidth": 0,
              "ticks": ""
             }
            },
            "type": "histogram"
           }
          ],
          "histogram2d": [
           {
            "colorbar": {
             "outlinewidth": 0,
             "ticks": ""
            },
            "colorscale": [
             [
              0,
              "#0d0887"
             ],
             [
              0.1111111111111111,
              "#46039f"
             ],
             [
              0.2222222222222222,
              "#7201a8"
             ],
             [
              0.3333333333333333,
              "#9c179e"
             ],
             [
              0.4444444444444444,
              "#bd3786"
             ],
             [
              0.5555555555555556,
              "#d8576b"
             ],
             [
              0.6666666666666666,
              "#ed7953"
             ],
             [
              0.7777777777777778,
              "#fb9f3a"
             ],
             [
              0.8888888888888888,
              "#fdca26"
             ],
             [
              1,
              "#f0f921"
             ]
            ],
            "type": "histogram2d"
           }
          ],
          "histogram2dcontour": [
           {
            "colorbar": {
             "outlinewidth": 0,
             "ticks": ""
            },
            "colorscale": [
             [
              0,
              "#0d0887"
             ],
             [
              0.1111111111111111,
              "#46039f"
             ],
             [
              0.2222222222222222,
              "#7201a8"
             ],
             [
              0.3333333333333333,
              "#9c179e"
             ],
             [
              0.4444444444444444,
              "#bd3786"
             ],
             [
              0.5555555555555556,
              "#d8576b"
             ],
             [
              0.6666666666666666,
              "#ed7953"
             ],
             [
              0.7777777777777778,
              "#fb9f3a"
             ],
             [
              0.8888888888888888,
              "#fdca26"
             ],
             [
              1,
              "#f0f921"
             ]
            ],
            "type": "histogram2dcontour"
           }
          ],
          "mesh3d": [
           {
            "colorbar": {
             "outlinewidth": 0,
             "ticks": ""
            },
            "type": "mesh3d"
           }
          ],
          "parcoords": [
           {
            "line": {
             "colorbar": {
              "outlinewidth": 0,
              "ticks": ""
             }
            },
            "type": "parcoords"
           }
          ],
          "pie": [
           {
            "automargin": true,
            "type": "pie"
           }
          ],
          "scatter": [
           {
            "marker": {
             "colorbar": {
              "outlinewidth": 0,
              "ticks": ""
             }
            },
            "type": "scatter"
           }
          ],
          "scatter3d": [
           {
            "line": {
             "colorbar": {
              "outlinewidth": 0,
              "ticks": ""
             }
            },
            "marker": {
             "colorbar": {
              "outlinewidth": 0,
              "ticks": ""
             }
            },
            "type": "scatter3d"
           }
          ],
          "scattercarpet": [
           {
            "marker": {
             "colorbar": {
              "outlinewidth": 0,
              "ticks": ""
             }
            },
            "type": "scattercarpet"
           }
          ],
          "scattergeo": [
           {
            "marker": {
             "colorbar": {
              "outlinewidth": 0,
              "ticks": ""
             }
            },
            "type": "scattergeo"
           }
          ],
          "scattergl": [
           {
            "marker": {
             "colorbar": {
              "outlinewidth": 0,
              "ticks": ""
             }
            },
            "type": "scattergl"
           }
          ],
          "scattermapbox": [
           {
            "marker": {
             "colorbar": {
              "outlinewidth": 0,
              "ticks": ""
             }
            },
            "type": "scattermapbox"
           }
          ],
          "scatterpolar": [
           {
            "marker": {
             "colorbar": {
              "outlinewidth": 0,
              "ticks": ""
             }
            },
            "type": "scatterpolar"
           }
          ],
          "scatterpolargl": [
           {
            "marker": {
             "colorbar": {
              "outlinewidth": 0,
              "ticks": ""
             }
            },
            "type": "scatterpolargl"
           }
          ],
          "scatterternary": [
           {
            "marker": {
             "colorbar": {
              "outlinewidth": 0,
              "ticks": ""
             }
            },
            "type": "scatterternary"
           }
          ],
          "surface": [
           {
            "colorbar": {
             "outlinewidth": 0,
             "ticks": ""
            },
            "colorscale": [
             [
              0,
              "#0d0887"
             ],
             [
              0.1111111111111111,
              "#46039f"
             ],
             [
              0.2222222222222222,
              "#7201a8"
             ],
             [
              0.3333333333333333,
              "#9c179e"
             ],
             [
              0.4444444444444444,
              "#bd3786"
             ],
             [
              0.5555555555555556,
              "#d8576b"
             ],
             [
              0.6666666666666666,
              "#ed7953"
             ],
             [
              0.7777777777777778,
              "#fb9f3a"
             ],
             [
              0.8888888888888888,
              "#fdca26"
             ],
             [
              1,
              "#f0f921"
             ]
            ],
            "type": "surface"
           }
          ],
          "table": [
           {
            "cells": {
             "fill": {
              "color": "#EBF0F8"
             },
             "line": {
              "color": "white"
             }
            },
            "header": {
             "fill": {
              "color": "#C8D4E3"
             },
             "line": {
              "color": "white"
             }
            },
            "type": "table"
           }
          ]
         },
         "layout": {
          "annotationdefaults": {
           "arrowcolor": "#2a3f5f",
           "arrowhead": 0,
           "arrowwidth": 1
          },
          "autotypenumbers": "strict",
          "coloraxis": {
           "colorbar": {
            "outlinewidth": 0,
            "ticks": ""
           }
          },
          "colorscale": {
           "diverging": [
            [
             0,
             "#8e0152"
            ],
            [
             0.1,
             "#c51b7d"
            ],
            [
             0.2,
             "#de77ae"
            ],
            [
             0.3,
             "#f1b6da"
            ],
            [
             0.4,
             "#fde0ef"
            ],
            [
             0.5,
             "#f7f7f7"
            ],
            [
             0.6,
             "#e6f5d0"
            ],
            [
             0.7,
             "#b8e186"
            ],
            [
             0.8,
             "#7fbc41"
            ],
            [
             0.9,
             "#4d9221"
            ],
            [
             1,
             "#276419"
            ]
           ],
           "sequential": [
            [
             0,
             "#0d0887"
            ],
            [
             0.1111111111111111,
             "#46039f"
            ],
            [
             0.2222222222222222,
             "#7201a8"
            ],
            [
             0.3333333333333333,
             "#9c179e"
            ],
            [
             0.4444444444444444,
             "#bd3786"
            ],
            [
             0.5555555555555556,
             "#d8576b"
            ],
            [
             0.6666666666666666,
             "#ed7953"
            ],
            [
             0.7777777777777778,
             "#fb9f3a"
            ],
            [
             0.8888888888888888,
             "#fdca26"
            ],
            [
             1,
             "#f0f921"
            ]
           ],
           "sequentialminus": [
            [
             0,
             "#0d0887"
            ],
            [
             0.1111111111111111,
             "#46039f"
            ],
            [
             0.2222222222222222,
             "#7201a8"
            ],
            [
             0.3333333333333333,
             "#9c179e"
            ],
            [
             0.4444444444444444,
             "#bd3786"
            ],
            [
             0.5555555555555556,
             "#d8576b"
            ],
            [
             0.6666666666666666,
             "#ed7953"
            ],
            [
             0.7777777777777778,
             "#fb9f3a"
            ],
            [
             0.8888888888888888,
             "#fdca26"
            ],
            [
             1,
             "#f0f921"
            ]
           ]
          },
          "colorway": [
           "#636efa",
           "#EF553B",
           "#00cc96",
           "#ab63fa",
           "#FFA15A",
           "#19d3f3",
           "#FF6692",
           "#B6E880",
           "#FF97FF",
           "#FECB52"
          ],
          "font": {
           "color": "#2a3f5f"
          },
          "geo": {
           "bgcolor": "white",
           "lakecolor": "white",
           "landcolor": "#E5ECF6",
           "showlakes": true,
           "showland": true,
           "subunitcolor": "white"
          },
          "hoverlabel": {
           "align": "left"
          },
          "hovermode": "closest",
          "mapbox": {
           "style": "light"
          },
          "paper_bgcolor": "white",
          "plot_bgcolor": "#E5ECF6",
          "polar": {
           "angularaxis": {
            "gridcolor": "white",
            "linecolor": "white",
            "ticks": ""
           },
           "bgcolor": "#E5ECF6",
           "radialaxis": {
            "gridcolor": "white",
            "linecolor": "white",
            "ticks": ""
           }
          },
          "scene": {
           "xaxis": {
            "backgroundcolor": "#E5ECF6",
            "gridcolor": "white",
            "gridwidth": 2,
            "linecolor": "white",
            "showbackground": true,
            "ticks": "",
            "zerolinecolor": "white"
           },
           "yaxis": {
            "backgroundcolor": "#E5ECF6",
            "gridcolor": "white",
            "gridwidth": 2,
            "linecolor": "white",
            "showbackground": true,
            "ticks": "",
            "zerolinecolor": "white"
           },
           "zaxis": {
            "backgroundcolor": "#E5ECF6",
            "gridcolor": "white",
            "gridwidth": 2,
            "linecolor": "white",
            "showbackground": true,
            "ticks": "",
            "zerolinecolor": "white"
           }
          },
          "shapedefaults": {
           "line": {
            "color": "#2a3f5f"
           }
          },
          "ternary": {
           "aaxis": {
            "gridcolor": "white",
            "linecolor": "white",
            "ticks": ""
           },
           "baxis": {
            "gridcolor": "white",
            "linecolor": "white",
            "ticks": ""
           },
           "bgcolor": "#E5ECF6",
           "caxis": {
            "gridcolor": "white",
            "linecolor": "white",
            "ticks": ""
           }
          },
          "title": {
           "x": 0.05
          },
          "xaxis": {
           "automargin": true,
           "gridcolor": "white",
           "linecolor": "white",
           "ticks": "",
           "title": {
            "standoff": 15
           },
           "zerolinecolor": "white",
           "zerolinewidth": 2
          },
          "yaxis": {
           "automargin": true,
           "gridcolor": "white",
           "linecolor": "white",
           "ticks": "",
           "title": {
            "standoff": 15
           },
           "zerolinecolor": "white",
           "zerolinewidth": 2
          }
         }
        },
        "title": {
         "text": "Grid level forecasts - Model Dilated Convolutions"
        },
        "xaxis": {
         "title": {
          "text": "BU strategy - ts hierarchy level"
         }
        },
        "yaxis": {
         "title": {
          "text": "MASE distribution"
         }
        }
       }
      },
      "text/html": [
       "<div>                            <div id=\"8ddd4bf2-b6cb-49e7-b573-4796d4f7b71d\" class=\"plotly-graph-div\" style=\"height:525px; width:100%;\"></div>            <script type=\"text/javascript\">                require([\"plotly\"], function(Plotly) {                    window.PLOTLYENV=window.PLOTLYENV || {};                                    if (document.getElementById(\"8ddd4bf2-b6cb-49e7-b573-4796d4f7b71d\")) {                    Plotly.newPlot(                        \"8ddd4bf2-b6cb-49e7-b573-4796d4f7b71d\",                        [{\"name\": \"grid\", \"type\": \"box\", \"y\": [3.4053630071537606, 3.9336043320261247, 4.943115464028954, 5.288742006370496, 4.712054390061754, 5.04895820253476, 5.4229256717237755, 4.390895517904, 4.757890353496411, 4.043340268024233, 3.666636658782479, 4.848673635779654, 5.218897837073379, 5.26500076073676, 3.942124784384393, 3.608355122418069, 3.1638820405420085, 4.384345962342484, 4.817420420561679, 5.173560896157113, 5.330607625404893, 4.345695578155768, 4.471440943121055, 4.759207973022852, 4.026650673499766, 4.476796030752107, 5.18310277240383, 5.038219618234287, 1.5929341032104312, 2.1763657574487834, 2.9342692421173635, 3.6599821890504667, 3.9401761866630705, 3.1538693577488983, 5.19519390562354, 4.184911074400843]}, {\"name\": \"tl\", \"type\": \"box\", \"y\": [3.389664677888329, 3.9312651102091714, 4.9349895332172595, 5.281249618615122, 4.692883305382709, 5.046280732491974, 5.418002601622449, 4.383828563456176, 4.739572396927346, 4.0280106179396, 3.6493900093606713, 4.845386690263024, 5.215764501444752, 5.259655845611012, 3.9337952469401762, 3.5912263821873647, 3.1575963495961754, 4.366898136330182, 4.810312294620938, 5.159084186698441, 5.317572904831738, 4.338859369904049, 4.466647999468463, 4.746141174224085, 4.016522051560023, 4.4728374426833515, 5.187857543837242, 5.027054608858818, 1.5804387112578653, 2.1718577437783546, 2.9381075892388067, 3.660164033591076, 3.953054226513108, 3.1612754476873377, 5.197110130379307, 4.178650679821616]}, {\"name\": \"sub\", \"type\": \"box\", \"y\": [3.3923589549592505, 3.93511796796252, 4.938987996767073, 5.285234674381559, 4.6950033135218385, 5.050195342233074, 5.421926510087039, 4.387820013657552, 4.741891678534019, 4.03055351922186, 3.65435186065421, 4.8496194434300355, 5.219653135177021, 5.26361411062019, 3.9351838630927647, 3.5930500318499825, 3.1615938667810037, 4.369096685015874, 4.814435512031191, 5.163035890882061, 5.321510934092232, 4.3427701037018425, 4.470543297281891, 4.748674959499653, 4.0196556601033455, 4.477425552146604, 5.1914887336499875, 5.029740330293178, 1.5763305524732032, 2.1740947059626037, 2.9400570124860153, 3.6638517049618367, 3.956545980432228, 3.1647247193908106, 5.2007357411986215, 4.181577776074072]}, {\"name\": \"pc\", \"type\": \"box\", \"y\": [1.5486566236612964, 0.8335599169855742, 1.6459962632871545, 0.928771882205842, 1.0828533942851342, 0.7305743754702314, 0.8644677464811366, 1.704378769078957, 1.1773742889110113, 1.6306728629204255, 1.2860122960711284, 0.5853964173086876, 1.0263030117242562, 1.066823266394078, 2.2629245430265286, 0.7610021061852746, 1.92024276841251, 0.9591158722856127, 0.8397544279269101, 1.0123155919489377, 0.868205948993065, 1.870028529831677, 1.8350654185079478, 1.9327091859409449, 1.6804139762116588, 0.8068246977656325, 0.7918882587547383, 0.6978677951595538, 2.5714465382710836, 1.802334089359521, 0.880720851399267, 0.5784228628948818, 0.580917846017367, 1.378766676189226, 0.5333321221720001, 1.5549061642099857]}, {\"name\": \"site\", \"type\": \"box\", \"y\": [1.4257249136587333, 0.7921209907138315, 1.5982180035379392, 0.8800748528036915, 1.0213308953087072, 0.8837598729012577, 0.7521789354296659, 1.5387668286815903, 1.0575404117690204, 1.5867496949238002, 1.2342010850742209, 0.6004207228176733, 1.0091254934653788, 1.0488955277219527, 2.2463577849367398, 0.7313025591053112, 1.9056292004063706, 0.9311342861664087, 0.8385547402867864, 0.9262615491454199, 0.7984005553057446, 1.8337085780963682, 1.7724347861910381, 1.8139590156261536, 1.6091344990222212, 0.7492376269363404, 0.6860037351633302, 0.7535025878332674, 2.5787404282530955, 1.8071311550151659, 0.8885497019755216, 0.5935276487640083, 0.5867497618626022, 1.3175138634494812, 0.4755407587073754, 1.5314919143346952]}],                        {\"showlegend\": false, \"template\": {\"data\": {\"bar\": [{\"error_x\": {\"color\": \"#2a3f5f\"}, \"error_y\": {\"color\": \"#2a3f5f\"}, \"marker\": {\"line\": {\"color\": \"#E5ECF6\", \"width\": 0.5}}, \"type\": \"bar\"}], \"barpolar\": [{\"marker\": {\"line\": {\"color\": \"#E5ECF6\", \"width\": 0.5}}, \"type\": \"barpolar\"}], \"carpet\": [{\"aaxis\": {\"endlinecolor\": \"#2a3f5f\", \"gridcolor\": \"white\", \"linecolor\": \"white\", \"minorgridcolor\": \"white\", \"startlinecolor\": \"#2a3f5f\"}, \"baxis\": {\"endlinecolor\": \"#2a3f5f\", \"gridcolor\": \"white\", \"linecolor\": \"white\", \"minorgridcolor\": \"white\", \"startlinecolor\": \"#2a3f5f\"}, \"type\": \"carpet\"}], \"choropleth\": [{\"colorbar\": {\"outlinewidth\": 0, \"ticks\": \"\"}, \"type\": \"choropleth\"}], \"contour\": [{\"colorbar\": {\"outlinewidth\": 0, \"ticks\": \"\"}, \"colorscale\": [[0.0, \"#0d0887\"], [0.1111111111111111, \"#46039f\"], [0.2222222222222222, \"#7201a8\"], [0.3333333333333333, \"#9c179e\"], [0.4444444444444444, \"#bd3786\"], [0.5555555555555556, \"#d8576b\"], [0.6666666666666666, \"#ed7953\"], [0.7777777777777778, \"#fb9f3a\"], [0.8888888888888888, \"#fdca26\"], [1.0, \"#f0f921\"]], \"type\": \"contour\"}], \"contourcarpet\": [{\"colorbar\": {\"outlinewidth\": 0, \"ticks\": \"\"}, \"type\": \"contourcarpet\"}], \"heatmap\": [{\"colorbar\": {\"outlinewidth\": 0, \"ticks\": \"\"}, \"colorscale\": [[0.0, \"#0d0887\"], [0.1111111111111111, \"#46039f\"], [0.2222222222222222, \"#7201a8\"], [0.3333333333333333, \"#9c179e\"], [0.4444444444444444, \"#bd3786\"], [0.5555555555555556, \"#d8576b\"], [0.6666666666666666, \"#ed7953\"], [0.7777777777777778, \"#fb9f3a\"], [0.8888888888888888, \"#fdca26\"], [1.0, \"#f0f921\"]], \"type\": \"heatmap\"}], \"heatmapgl\": [{\"colorbar\": {\"outlinewidth\": 0, \"ticks\": \"\"}, \"colorscale\": [[0.0, \"#0d0887\"], [0.1111111111111111, \"#46039f\"], [0.2222222222222222, \"#7201a8\"], [0.3333333333333333, \"#9c179e\"], [0.4444444444444444, \"#bd3786\"], [0.5555555555555556, \"#d8576b\"], [0.6666666666666666, \"#ed7953\"], [0.7777777777777778, \"#fb9f3a\"], [0.8888888888888888, \"#fdca26\"], [1.0, \"#f0f921\"]], \"type\": \"heatmapgl\"}], \"histogram\": [{\"marker\": {\"colorbar\": {\"outlinewidth\": 0, \"ticks\": \"\"}}, \"type\": \"histogram\"}], \"histogram2d\": [{\"colorbar\": {\"outlinewidth\": 0, \"ticks\": \"\"}, \"colorscale\": [[0.0, \"#0d0887\"], [0.1111111111111111, \"#46039f\"], [0.2222222222222222, \"#7201a8\"], [0.3333333333333333, \"#9c179e\"], [0.4444444444444444, \"#bd3786\"], [0.5555555555555556, \"#d8576b\"], [0.6666666666666666, \"#ed7953\"], [0.7777777777777778, \"#fb9f3a\"], [0.8888888888888888, \"#fdca26\"], [1.0, \"#f0f921\"]], \"type\": \"histogram2d\"}], \"histogram2dcontour\": [{\"colorbar\": {\"outlinewidth\": 0, \"ticks\": \"\"}, \"colorscale\": [[0.0, \"#0d0887\"], [0.1111111111111111, \"#46039f\"], [0.2222222222222222, \"#7201a8\"], [0.3333333333333333, \"#9c179e\"], [0.4444444444444444, \"#bd3786\"], [0.5555555555555556, \"#d8576b\"], [0.6666666666666666, \"#ed7953\"], [0.7777777777777778, \"#fb9f3a\"], [0.8888888888888888, \"#fdca26\"], [1.0, \"#f0f921\"]], \"type\": \"histogram2dcontour\"}], \"mesh3d\": [{\"colorbar\": {\"outlinewidth\": 0, \"ticks\": \"\"}, \"type\": \"mesh3d\"}], \"parcoords\": [{\"line\": {\"colorbar\": {\"outlinewidth\": 0, \"ticks\": \"\"}}, \"type\": \"parcoords\"}], \"pie\": [{\"automargin\": true, \"type\": \"pie\"}], \"scatter\": [{\"marker\": {\"colorbar\": {\"outlinewidth\": 0, \"ticks\": \"\"}}, \"type\": \"scatter\"}], \"scatter3d\": [{\"line\": {\"colorbar\": {\"outlinewidth\": 0, \"ticks\": \"\"}}, \"marker\": {\"colorbar\": {\"outlinewidth\": 0, \"ticks\": \"\"}}, \"type\": \"scatter3d\"}], \"scattercarpet\": [{\"marker\": {\"colorbar\": {\"outlinewidth\": 0, \"ticks\": \"\"}}, \"type\": \"scattercarpet\"}], \"scattergeo\": [{\"marker\": {\"colorbar\": {\"outlinewidth\": 0, \"ticks\": \"\"}}, \"type\": \"scattergeo\"}], \"scattergl\": [{\"marker\": {\"colorbar\": {\"outlinewidth\": 0, \"ticks\": \"\"}}, \"type\": \"scattergl\"}], \"scattermapbox\": [{\"marker\": {\"colorbar\": {\"outlinewidth\": 0, \"ticks\": \"\"}}, \"type\": \"scattermapbox\"}], \"scatterpolar\": [{\"marker\": {\"colorbar\": {\"outlinewidth\": 0, \"ticks\": \"\"}}, \"type\": \"scatterpolar\"}], \"scatterpolargl\": [{\"marker\": {\"colorbar\": {\"outlinewidth\": 0, \"ticks\": \"\"}}, \"type\": \"scatterpolargl\"}], \"scatterternary\": [{\"marker\": {\"colorbar\": {\"outlinewidth\": 0, \"ticks\": \"\"}}, \"type\": \"scatterternary\"}], \"surface\": [{\"colorbar\": {\"outlinewidth\": 0, \"ticks\": \"\"}, \"colorscale\": [[0.0, \"#0d0887\"], [0.1111111111111111, \"#46039f\"], [0.2222222222222222, \"#7201a8\"], [0.3333333333333333, \"#9c179e\"], [0.4444444444444444, \"#bd3786\"], [0.5555555555555556, \"#d8576b\"], [0.6666666666666666, \"#ed7953\"], [0.7777777777777778, \"#fb9f3a\"], [0.8888888888888888, \"#fdca26\"], [1.0, \"#f0f921\"]], \"type\": \"surface\"}], \"table\": [{\"cells\": {\"fill\": {\"color\": \"#EBF0F8\"}, \"line\": {\"color\": \"white\"}}, \"header\": {\"fill\": {\"color\": \"#C8D4E3\"}, \"line\": {\"color\": \"white\"}}, \"type\": \"table\"}]}, \"layout\": {\"annotationdefaults\": {\"arrowcolor\": \"#2a3f5f\", \"arrowhead\": 0, \"arrowwidth\": 1}, \"autotypenumbers\": \"strict\", \"coloraxis\": {\"colorbar\": {\"outlinewidth\": 0, \"ticks\": \"\"}}, \"colorscale\": {\"diverging\": [[0, \"#8e0152\"], [0.1, \"#c51b7d\"], [0.2, \"#de77ae\"], [0.3, \"#f1b6da\"], [0.4, \"#fde0ef\"], [0.5, \"#f7f7f7\"], [0.6, \"#e6f5d0\"], [0.7, \"#b8e186\"], [0.8, \"#7fbc41\"], [0.9, \"#4d9221\"], [1, \"#276419\"]], \"sequential\": [[0.0, \"#0d0887\"], [0.1111111111111111, \"#46039f\"], [0.2222222222222222, \"#7201a8\"], [0.3333333333333333, \"#9c179e\"], [0.4444444444444444, \"#bd3786\"], [0.5555555555555556, \"#d8576b\"], [0.6666666666666666, \"#ed7953\"], [0.7777777777777778, \"#fb9f3a\"], [0.8888888888888888, \"#fdca26\"], [1.0, \"#f0f921\"]], \"sequentialminus\": [[0.0, \"#0d0887\"], [0.1111111111111111, \"#46039f\"], [0.2222222222222222, \"#7201a8\"], [0.3333333333333333, \"#9c179e\"], [0.4444444444444444, \"#bd3786\"], [0.5555555555555556, \"#d8576b\"], [0.6666666666666666, \"#ed7953\"], [0.7777777777777778, \"#fb9f3a\"], [0.8888888888888888, \"#fdca26\"], [1.0, \"#f0f921\"]]}, \"colorway\": [\"#636efa\", \"#EF553B\", \"#00cc96\", \"#ab63fa\", \"#FFA15A\", \"#19d3f3\", \"#FF6692\", \"#B6E880\", \"#FF97FF\", \"#FECB52\"], \"font\": {\"color\": \"#2a3f5f\"}, \"geo\": {\"bgcolor\": \"white\", \"lakecolor\": \"white\", \"landcolor\": \"#E5ECF6\", \"showlakes\": true, \"showland\": true, \"subunitcolor\": \"white\"}, \"hoverlabel\": {\"align\": \"left\"}, \"hovermode\": \"closest\", \"mapbox\": {\"style\": \"light\"}, \"paper_bgcolor\": \"white\", \"plot_bgcolor\": \"#E5ECF6\", \"polar\": {\"angularaxis\": {\"gridcolor\": \"white\", \"linecolor\": \"white\", \"ticks\": \"\"}, \"bgcolor\": \"#E5ECF6\", \"radialaxis\": {\"gridcolor\": \"white\", \"linecolor\": \"white\", \"ticks\": \"\"}}, \"scene\": {\"xaxis\": {\"backgroundcolor\": \"#E5ECF6\", \"gridcolor\": \"white\", \"gridwidth\": 2, \"linecolor\": \"white\", \"showbackground\": true, \"ticks\": \"\", \"zerolinecolor\": \"white\"}, \"yaxis\": {\"backgroundcolor\": \"#E5ECF6\", \"gridcolor\": \"white\", \"gridwidth\": 2, \"linecolor\": \"white\", \"showbackground\": true, \"ticks\": \"\", \"zerolinecolor\": \"white\"}, \"zaxis\": {\"backgroundcolor\": \"#E5ECF6\", \"gridcolor\": \"white\", \"gridwidth\": 2, \"linecolor\": \"white\", \"showbackground\": true, \"ticks\": \"\", \"zerolinecolor\": \"white\"}}, \"shapedefaults\": {\"line\": {\"color\": \"#2a3f5f\"}}, \"ternary\": {\"aaxis\": {\"gridcolor\": \"white\", \"linecolor\": \"white\", \"ticks\": \"\"}, \"baxis\": {\"gridcolor\": \"white\", \"linecolor\": \"white\", \"ticks\": \"\"}, \"bgcolor\": \"#E5ECF6\", \"caxis\": {\"gridcolor\": \"white\", \"linecolor\": \"white\", \"ticks\": \"\"}}, \"title\": {\"x\": 0.05}, \"xaxis\": {\"automargin\": true, \"gridcolor\": \"white\", \"linecolor\": \"white\", \"ticks\": \"\", \"title\": {\"standoff\": 15}, \"zerolinecolor\": \"white\", \"zerolinewidth\": 2}, \"yaxis\": {\"automargin\": true, \"gridcolor\": \"white\", \"linecolor\": \"white\", \"ticks\": \"\", \"title\": {\"standoff\": 15}, \"zerolinecolor\": \"white\", \"zerolinewidth\": 2}}}, \"title\": {\"text\": \"Grid level forecasts - Model Dilated Convolutions\"}, \"xaxis\": {\"title\": {\"text\": \"BU strategy - ts hierarchy level\"}}, \"yaxis\": {\"title\": {\"text\": \"MASE distribution\"}}},                        {\"responsive\": true}                    ).then(function(){\n",
       "                            \n",
       "var gd = document.getElementById('8ddd4bf2-b6cb-49e7-b573-4796d4f7b71d');\n",
       "var x = new MutationObserver(function (mutations, observer) {{\n",
       "        var display = window.getComputedStyle(gd).display;\n",
       "        if (!display || display === 'none') {{\n",
       "            console.log([gd, 'removed!']);\n",
       "            Plotly.purge(gd);\n",
       "            observer.disconnect();\n",
       "        }}\n",
       "}});\n",
       "\n",
       "// Listen for the removal of the full notebook cells\n",
       "var notebookContainer = gd.closest('#notebook-container');\n",
       "if (notebookContainer) {{\n",
       "    x.observe(notebookContainer, {childList: true});\n",
       "}}\n",
       "\n",
       "// Listen for the clearing of the current output cell\n",
       "var outputEl = gd.closest('.output');\n",
       "if (outputEl) {{\n",
       "    x.observe(outputEl, {childList: true});\n",
       "}}\n",
       "\n",
       "                        })                };                });            </script>        </div>"
      ]
     },
     "metadata": {},
     "output_type": "display_data"
    }
   ],
   "source": [
    "fig = go.Figure()\n",
    "for col in grid_error_dist_tcn.keys():\n",
    "    box_data = grid_error_dist_tcn[col]\n",
    "    fig.add_trace(go.Box(y=box_data, name = col))\n",
    "fig.update_xaxes(title = 'BU strategy - ts hierarchy level')\n",
    "fig.update_yaxes(title = 'MASE distribution')\n",
    "fig.update_layout(title = \"Grid level forecasts - Model Dilated Convolutions\", showlegend=False)"
   ]
  }
 ],
 "metadata": {
  "kernelspec": {
   "display_name": "Python 3",
   "language": "python",
   "name": "python3"
  },
  "language_info": {
   "codemirror_mode": {
    "name": "ipython",
    "version": 3
   },
   "file_extension": ".py",
   "mimetype": "text/x-python",
   "name": "python",
   "nbconvert_exporter": "python",
   "pygments_lexer": "ipython3",
   "version": "3.8.6"
  }
 },
 "nbformat": 4,
 "nbformat_minor": 1
}
