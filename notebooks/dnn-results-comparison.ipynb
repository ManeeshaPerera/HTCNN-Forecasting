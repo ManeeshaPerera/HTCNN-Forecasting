{
 "cells": [
  {
   "cell_type": "markdown",
   "metadata": {
    "collapsed": true
   },
   "source": [
    "## LSTM and CNN results comparison"
   ]
  },
  {
   "cell_type": "markdown",
   "metadata": {},
   "source": [
    "1. We will first calculate the error for each time series\n",
    "2. Then we will calculate the error for each level in the hierarchy\n",
    "3. Then we will calculate get the forecasts at the grid level\n",
    "4. Finally we will calculate the error for the grid level"
   ]
  },
  {
   "cell_type": "code",
   "execution_count": 1,
   "metadata": {},
   "outputs": [],
   "source": [
    "import sys\n",
    "sys.path.insert(0, '../')\n",
    "\n",
    "import src.utils as util\n",
    "import src.calculate_errors as err\n",
    "import constants as const\n",
    "\n",
    "%load_ext autoreload\n",
    "%autoreload 2"
   ]
  },
  {
   "cell_type": "code",
   "execution_count": 2,
   "metadata": {},
   "outputs": [
    {
     "data": {
      "text/html": [
       "        <script type=\"text/javascript\">\n",
       "        window.PlotlyConfig = {MathJaxConfig: 'local'};\n",
       "        if (window.MathJax) {MathJax.Hub.Config({SVG: {font: \"STIX-Web\"}});}\n",
       "        if (typeof require !== 'undefined') {\n",
       "        require.undef(\"plotly\");\n",
       "        requirejs.config({\n",
       "            paths: {\n",
       "                'plotly': ['https://cdn.plot.ly/plotly-latest.min']\n",
       "            }\n",
       "        });\n",
       "        require(['plotly'], function(Plotly) {\n",
       "            window._Plotly = Plotly;\n",
       "        });\n",
       "        }\n",
       "        </script>\n",
       "        "
      ]
     },
     "metadata": {},
     "output_type": "display_data"
    }
   ],
   "source": [
    "import plotly.graph_objs as go\n",
    "from plotly.offline import init_notebook_mode, iplot\n",
    "init_notebook_mode(connected=True)"
   ]
  },
  {
   "cell_type": "code",
   "execution_count": 3,
   "metadata": {},
   "outputs": [],
   "source": [
    "import pandas as pd\n",
    "import numpy as np"
   ]
  },
  {
   "cell_type": "code",
   "execution_count": 4,
   "metadata": {},
   "outputs": [],
   "source": [
    "def calculate_errors_per_ts(model_path, ts):\n",
    "    data = pd.read_csv(f'../ts_data/{ts}.csv', index_col=[0])\n",
    "    look_back = 14 * 7  # 14 hours in to 7 days\n",
    "\n",
    "    # train, val, test split\n",
    "    train, val, test = util.split_hourly_data(data, look_back)\n",
    "    train_df = train[['power']]\n",
    "    denom = err.calculate_denom(train_df, const.H_SEASONALITY)\n",
    "    \n",
    "    results_df = pd.read_csv(f'../{model_path}/final_results/{ts}.csv', index_col=[0])\n",
    "    test_sample = results_df[['power']].values\n",
    "    forecasts = results_df[['average_fc']].values\n",
    "    horizon = 14\n",
    "    \n",
    "    mean_mase, error_dist = err.test_errors(train_df, test_sample, forecasts, horizon, const.H_SEASONALITY, denom)\n",
    "    return mean_mase, error_dist"
   ]
  },
  {
   "cell_type": "code",
   "execution_count": 5,
   "metadata": {},
   "outputs": [],
   "source": [
    "def get_results_ts(model_path):\n",
    "    ts_mase = {}\n",
    "    ts_dist_err = {}\n",
    "    mase_vals = []\n",
    "\n",
    "    for ts in const.TS:\n",
    "        mean_mase_ts, ts_dist = calculate_errors_per_ts(model_path, ts)\n",
    "        ts_dist_err[ts] = ts_dist\n",
    "        ts_mase[ts] = mean_mase_ts\n",
    "        mase_vals.append(mean_mase_ts)\n",
    "    return ts_mase, ts_dist_err, mase_vals"
   ]
  },
  {
   "cell_type": "code",
   "execution_count": 6,
   "metadata": {},
   "outputs": [],
   "source": [
    "lstm_mase_ts, lstm_dist_ts, mase_vals_lstm = get_results_ts('lstm_results')"
   ]
  },
  {
   "cell_type": "code",
   "execution_count": 7,
   "metadata": {},
   "outputs": [],
   "source": [
    "tcn_mase_ts, tcn_dist_ts, mase_vals_cnn = get_results_ts('cnn_results/tcn')"
   ]
  },
  {
   "cell_type": "code",
   "execution_count": 10,
   "metadata": {},
   "outputs": [],
   "source": [
    "tcn_d3_mase_ts, tcn_d3_dist_ts, mase_vals_cnn_d3 = get_results_ts('cnn_results/tcn/dilation_3')"
   ]
  },
  {
   "cell_type": "code",
   "execution_count": 36,
   "metadata": {},
   "outputs": [],
   "source": [
    "tcn_d1_mase_ts, tcn_d1_dist_ts, mase_vals_cnn_d1 = get_results_ts('cnn_results/tcn/dilation_1')"
   ]
  },
  {
   "cell_type": "markdown",
   "metadata": {},
   "source": [
    "plot error in chart"
   ]
  },
  {
   "cell_type": "code",
   "execution_count": 37,
   "metadata": {},
   "outputs": [
    {
     "data": {
      "application/vnd.plotly.v1+json": {
       "config": {
        "plotlyServerURL": "https://plot.ly"
       },
       "data": [
        {
         "name": "LSTM",
         "type": "bar",
         "x": [
          "grid",
          "tline_1",
          "tline_2",
          "substation1",
          "substation2",
          "substation3",
          "substation4",
          6010,
          6014,
          6011,
          6280,
          6281,
          6284,
          "1295864320",
          "1247421966",
          "2107373071",
          "2009066518",
          "972102295",
          "1616571925",
          "806187417",
          "771513244",
          "1562145181",
          "896338719",
          "1113196323",
          "1597760039",
          "317532327",
          "346061612",
          "40333612",
          "511723709",
          "1004972352",
          "143824576",
          "368424646",
          "1428227531",
          "2040495184",
          "1893337300",
          "2117861717",
          "1941427679",
          "1708098535",
          "456209269"
         ],
         "y": [
          1.4682344960050517,
          0.9512451151813914,
          1.553704463032777,
          0.9612493153020005,
          0.9062446333916552,
          1.465324826079069,
          0.8942132689732367,
          0.6472148760870888,
          0.7748558716351361,
          0.6532871340571517,
          1.3770451867061155,
          0.7291093683051147,
          0.6910331358801172,
          1.1669607864961153,
          0.6225058124251436,
          0.9939902972418595,
          0.8574778015595256,
          0.7153250058828056,
          1.5697231409685273,
          0.6524394652996883,
          0.6880878193185747,
          0.7624896455170863,
          0.5666010912496753,
          0.9811432563448547,
          0.7455937102482926,
          0.9995331793033233,
          1.0258112351625863,
          0.6131515789968754,
          0.7200521320834627,
          0.768800699494758,
          0.6600727119942311,
          1.7725145197169159,
          0.9105491268230538,
          0.8199928000607609,
          0.7433133005639443,
          0.5848656267927461,
          0.8893713042907481,
          0.6538757842843316,
          0.6332925857389126
         ]
        },
        {
         "name": "Dilated Convolutions (Rate - 1)",
         "type": "bar",
         "x": [
          "grid",
          "tline_1",
          "tline_2",
          "substation1",
          "substation2",
          "substation3",
          "substation4",
          6010,
          6014,
          6011,
          6280,
          6281,
          6284,
          "1295864320",
          "1247421966",
          "2107373071",
          "2009066518",
          "972102295",
          "1616571925",
          "806187417",
          "771513244",
          "1562145181",
          "896338719",
          "1113196323",
          "1597760039",
          "317532327",
          "346061612",
          "40333612",
          "511723709",
          "1004972352",
          "143824576",
          "368424646",
          "1428227531",
          "2040495184",
          "1893337300",
          "2117861717",
          "1941427679",
          "1708098535",
          "456209269"
         ],
         "y": [
          4.290877351149007,
          3.404902734043943,
          3.88755231976665,
          3.4069536077219422,
          3.318815982681137,
          3.8860937849944133,
          2.6932761043532003,
          1.2651345432987067,
          1.5361579251626365,
          1.4067344312330523,
          1.2422165433239114,
          0.6850486657542295,
          1.1980113277279694,
          1.5122198500398734,
          1.2087567595823798,
          1.6895821032489087,
          1.208378415621206,
          0.683113083373985,
          1.6212406155678432,
          1.166512449504567,
          1.279083171779989,
          1.2315056790688055,
          1.0942146663397063,
          1.2562556673548204,
          1.0665093991824155,
          1.2963838620308483,
          1.8050657145812035,
          1.4316531072301835,
          1.6177946293360537,
          1.284794819074,
          1.1997169470037963,
          1.7072955272886268,
          1.1946539184169835,
          1.1855549932885106,
          1.188211167797392,
          1.2131599876445591,
          1.6887237316499786,
          1.281382311930472,
          1.3110186624698856
         ]
        },
        {
         "name": "Dilated Convolutions (Rate - 2)",
         "type": "bar",
         "x": [
          "grid",
          "tline_1",
          "tline_2",
          "substation1",
          "substation2",
          "substation3",
          "substation4",
          6010,
          6014,
          6011,
          6280,
          6281,
          6284,
          "1295864320",
          "1247421966",
          "2107373071",
          "2009066518",
          "972102295",
          "1616571925",
          "806187417",
          "771513244",
          "1562145181",
          "896338719",
          "1113196323",
          "1597760039",
          "317532327",
          "346061612",
          "40333612",
          "511723709",
          "1004972352",
          "143824576",
          "368424646",
          "1428227531",
          "2040495184",
          "1893337300",
          "2117861717",
          "1941427679",
          "1708098535",
          "456209269"
         ],
         "y": [
          4.2918113989711175,
          3.4050614817310842,
          3.8858515599708974,
          3.4074415862983694,
          3.3189658259268864,
          3.8909933208664844,
          2.6905370912844724,
          1.2568570617555226,
          1.5470629671094889,
          1.3956183578504806,
          1.2479257043752274,
          0.6807014965160835,
          1.183658485758206,
          1.5073786859957774,
          1.1974508402885347,
          1.671491792598774,
          1.2079835482841539,
          0.6848491905528831,
          1.6068692185489055,
          1.180593910467087,
          1.263871023830547,
          1.2456464696558243,
          1.09063357365979,
          1.2432456381393735,
          1.0649955857127447,
          1.2891437501178322,
          1.779806543478989,
          1.4477630665657668,
          1.6071845893275027,
          1.2784050918038092,
          1.1856288974198805,
          1.7091672172530474,
          1.21317551193613,
          1.1812720415504798,
          1.206284204667445,
          1.2024464453943808,
          1.6981987744429163,
          1.2730618281256658,
          1.3122504636645527
         ]
        },
        {
         "name": "Dilated Convolutions (Rate - 3)",
         "type": "bar",
         "x": [
          "grid",
          "tline_1",
          "tline_2",
          "substation1",
          "substation2",
          "substation3",
          "substation4",
          6010,
          6014,
          6011,
          6280,
          6281,
          6284,
          "1295864320",
          "1247421966",
          "2107373071",
          "2009066518",
          "972102295",
          "1616571925",
          "806187417",
          "771513244",
          "1562145181",
          "896338719",
          "1113196323",
          "1597760039",
          "317532327",
          "346061612",
          "40333612",
          "511723709",
          "1004972352",
          "143824576",
          "368424646",
          "1428227531",
          "2040495184",
          "1893337300",
          "2117861717",
          "1941427679",
          "1708098535",
          "456209269"
         ],
         "y": [
          4.2915668584892535,
          3.406917801643116,
          3.886040015592868,
          3.407337503450463,
          3.3187492583606235,
          3.887521289700653,
          2.695238971147734,
          1.2531985466718472,
          1.5361036905616925,
          1.395922964689622,
          1.245357831971815,
          0.6862823250701584,
          1.1823956152494917,
          1.506209834502399,
          1.1904533197545406,
          1.6662796076248607,
          1.2110103856999652,
          0.6926977701166548,
          1.619665108447661,
          1.162296908777913,
          1.2581245070478397,
          1.2677325419530954,
          1.0906163835649842,
          1.2611070902900325,
          1.0598381576688745,
          1.2803401762429674,
          1.8124741906784354,
          1.4233943390338537,
          1.6144841323804888,
          1.2847533361989432,
          1.193114351102494,
          1.7041330418124558,
          1.2072289719448517,
          1.1839918391013107,
          1.193474471743306,
          1.2227122477948174,
          1.719768847379691,
          1.2725526433699423,
          1.3053815879983275
         ]
        }
       ],
       "layout": {
        "barmode": "group",
        "template": {
         "data": {
          "bar": [
           {
            "error_x": {
             "color": "#2a3f5f"
            },
            "error_y": {
             "color": "#2a3f5f"
            },
            "marker": {
             "line": {
              "color": "#E5ECF6",
              "width": 0.5
             }
            },
            "type": "bar"
           }
          ],
          "barpolar": [
           {
            "marker": {
             "line": {
              "color": "#E5ECF6",
              "width": 0.5
             }
            },
            "type": "barpolar"
           }
          ],
          "carpet": [
           {
            "aaxis": {
             "endlinecolor": "#2a3f5f",
             "gridcolor": "white",
             "linecolor": "white",
             "minorgridcolor": "white",
             "startlinecolor": "#2a3f5f"
            },
            "baxis": {
             "endlinecolor": "#2a3f5f",
             "gridcolor": "white",
             "linecolor": "white",
             "minorgridcolor": "white",
             "startlinecolor": "#2a3f5f"
            },
            "type": "carpet"
           }
          ],
          "choropleth": [
           {
            "colorbar": {
             "outlinewidth": 0,
             "ticks": ""
            },
            "type": "choropleth"
           }
          ],
          "contour": [
           {
            "colorbar": {
             "outlinewidth": 0,
             "ticks": ""
            },
            "colorscale": [
             [
              0,
              "#0d0887"
             ],
             [
              0.1111111111111111,
              "#46039f"
             ],
             [
              0.2222222222222222,
              "#7201a8"
             ],
             [
              0.3333333333333333,
              "#9c179e"
             ],
             [
              0.4444444444444444,
              "#bd3786"
             ],
             [
              0.5555555555555556,
              "#d8576b"
             ],
             [
              0.6666666666666666,
              "#ed7953"
             ],
             [
              0.7777777777777778,
              "#fb9f3a"
             ],
             [
              0.8888888888888888,
              "#fdca26"
             ],
             [
              1,
              "#f0f921"
             ]
            ],
            "type": "contour"
           }
          ],
          "contourcarpet": [
           {
            "colorbar": {
             "outlinewidth": 0,
             "ticks": ""
            },
            "type": "contourcarpet"
           }
          ],
          "heatmap": [
           {
            "colorbar": {
             "outlinewidth": 0,
             "ticks": ""
            },
            "colorscale": [
             [
              0,
              "#0d0887"
             ],
             [
              0.1111111111111111,
              "#46039f"
             ],
             [
              0.2222222222222222,
              "#7201a8"
             ],
             [
              0.3333333333333333,
              "#9c179e"
             ],
             [
              0.4444444444444444,
              "#bd3786"
             ],
             [
              0.5555555555555556,
              "#d8576b"
             ],
             [
              0.6666666666666666,
              "#ed7953"
             ],
             [
              0.7777777777777778,
              "#fb9f3a"
             ],
             [
              0.8888888888888888,
              "#fdca26"
             ],
             [
              1,
              "#f0f921"
             ]
            ],
            "type": "heatmap"
           }
          ],
          "heatmapgl": [
           {
            "colorbar": {
             "outlinewidth": 0,
             "ticks": ""
            },
            "colorscale": [
             [
              0,
              "#0d0887"
             ],
             [
              0.1111111111111111,
              "#46039f"
             ],
             [
              0.2222222222222222,
              "#7201a8"
             ],
             [
              0.3333333333333333,
              "#9c179e"
             ],
             [
              0.4444444444444444,
              "#bd3786"
             ],
             [
              0.5555555555555556,
              "#d8576b"
             ],
             [
              0.6666666666666666,
              "#ed7953"
             ],
             [
              0.7777777777777778,
              "#fb9f3a"
             ],
             [
              0.8888888888888888,
              "#fdca26"
             ],
             [
              1,
              "#f0f921"
             ]
            ],
            "type": "heatmapgl"
           }
          ],
          "histogram": [
           {
            "marker": {
             "colorbar": {
              "outlinewidth": 0,
              "ticks": ""
             }
            },
            "type": "histogram"
           }
          ],
          "histogram2d": [
           {
            "colorbar": {
             "outlinewidth": 0,
             "ticks": ""
            },
            "colorscale": [
             [
              0,
              "#0d0887"
             ],
             [
              0.1111111111111111,
              "#46039f"
             ],
             [
              0.2222222222222222,
              "#7201a8"
             ],
             [
              0.3333333333333333,
              "#9c179e"
             ],
             [
              0.4444444444444444,
              "#bd3786"
             ],
             [
              0.5555555555555556,
              "#d8576b"
             ],
             [
              0.6666666666666666,
              "#ed7953"
             ],
             [
              0.7777777777777778,
              "#fb9f3a"
             ],
             [
              0.8888888888888888,
              "#fdca26"
             ],
             [
              1,
              "#f0f921"
             ]
            ],
            "type": "histogram2d"
           }
          ],
          "histogram2dcontour": [
           {
            "colorbar": {
             "outlinewidth": 0,
             "ticks": ""
            },
            "colorscale": [
             [
              0,
              "#0d0887"
             ],
             [
              0.1111111111111111,
              "#46039f"
             ],
             [
              0.2222222222222222,
              "#7201a8"
             ],
             [
              0.3333333333333333,
              "#9c179e"
             ],
             [
              0.4444444444444444,
              "#bd3786"
             ],
             [
              0.5555555555555556,
              "#d8576b"
             ],
             [
              0.6666666666666666,
              "#ed7953"
             ],
             [
              0.7777777777777778,
              "#fb9f3a"
             ],
             [
              0.8888888888888888,
              "#fdca26"
             ],
             [
              1,
              "#f0f921"
             ]
            ],
            "type": "histogram2dcontour"
           }
          ],
          "mesh3d": [
           {
            "colorbar": {
             "outlinewidth": 0,
             "ticks": ""
            },
            "type": "mesh3d"
           }
          ],
          "parcoords": [
           {
            "line": {
             "colorbar": {
              "outlinewidth": 0,
              "ticks": ""
             }
            },
            "type": "parcoords"
           }
          ],
          "pie": [
           {
            "automargin": true,
            "type": "pie"
           }
          ],
          "scatter": [
           {
            "marker": {
             "colorbar": {
              "outlinewidth": 0,
              "ticks": ""
             }
            },
            "type": "scatter"
           }
          ],
          "scatter3d": [
           {
            "line": {
             "colorbar": {
              "outlinewidth": 0,
              "ticks": ""
             }
            },
            "marker": {
             "colorbar": {
              "outlinewidth": 0,
              "ticks": ""
             }
            },
            "type": "scatter3d"
           }
          ],
          "scattercarpet": [
           {
            "marker": {
             "colorbar": {
              "outlinewidth": 0,
              "ticks": ""
             }
            },
            "type": "scattercarpet"
           }
          ],
          "scattergeo": [
           {
            "marker": {
             "colorbar": {
              "outlinewidth": 0,
              "ticks": ""
             }
            },
            "type": "scattergeo"
           }
          ],
          "scattergl": [
           {
            "marker": {
             "colorbar": {
              "outlinewidth": 0,
              "ticks": ""
             }
            },
            "type": "scattergl"
           }
          ],
          "scattermapbox": [
           {
            "marker": {
             "colorbar": {
              "outlinewidth": 0,
              "ticks": ""
             }
            },
            "type": "scattermapbox"
           }
          ],
          "scatterpolar": [
           {
            "marker": {
             "colorbar": {
              "outlinewidth": 0,
              "ticks": ""
             }
            },
            "type": "scatterpolar"
           }
          ],
          "scatterpolargl": [
           {
            "marker": {
             "colorbar": {
              "outlinewidth": 0,
              "ticks": ""
             }
            },
            "type": "scatterpolargl"
           }
          ],
          "scatterternary": [
           {
            "marker": {
             "colorbar": {
              "outlinewidth": 0,
              "ticks": ""
             }
            },
            "type": "scatterternary"
           }
          ],
          "surface": [
           {
            "colorbar": {
             "outlinewidth": 0,
             "ticks": ""
            },
            "colorscale": [
             [
              0,
              "#0d0887"
             ],
             [
              0.1111111111111111,
              "#46039f"
             ],
             [
              0.2222222222222222,
              "#7201a8"
             ],
             [
              0.3333333333333333,
              "#9c179e"
             ],
             [
              0.4444444444444444,
              "#bd3786"
             ],
             [
              0.5555555555555556,
              "#d8576b"
             ],
             [
              0.6666666666666666,
              "#ed7953"
             ],
             [
              0.7777777777777778,
              "#fb9f3a"
             ],
             [
              0.8888888888888888,
              "#fdca26"
             ],
             [
              1,
              "#f0f921"
             ]
            ],
            "type": "surface"
           }
          ],
          "table": [
           {
            "cells": {
             "fill": {
              "color": "#EBF0F8"
             },
             "line": {
              "color": "white"
             }
            },
            "header": {
             "fill": {
              "color": "#C8D4E3"
             },
             "line": {
              "color": "white"
             }
            },
            "type": "table"
           }
          ]
         },
         "layout": {
          "annotationdefaults": {
           "arrowcolor": "#2a3f5f",
           "arrowhead": 0,
           "arrowwidth": 1
          },
          "autotypenumbers": "strict",
          "coloraxis": {
           "colorbar": {
            "outlinewidth": 0,
            "ticks": ""
           }
          },
          "colorscale": {
           "diverging": [
            [
             0,
             "#8e0152"
            ],
            [
             0.1,
             "#c51b7d"
            ],
            [
             0.2,
             "#de77ae"
            ],
            [
             0.3,
             "#f1b6da"
            ],
            [
             0.4,
             "#fde0ef"
            ],
            [
             0.5,
             "#f7f7f7"
            ],
            [
             0.6,
             "#e6f5d0"
            ],
            [
             0.7,
             "#b8e186"
            ],
            [
             0.8,
             "#7fbc41"
            ],
            [
             0.9,
             "#4d9221"
            ],
            [
             1,
             "#276419"
            ]
           ],
           "sequential": [
            [
             0,
             "#0d0887"
            ],
            [
             0.1111111111111111,
             "#46039f"
            ],
            [
             0.2222222222222222,
             "#7201a8"
            ],
            [
             0.3333333333333333,
             "#9c179e"
            ],
            [
             0.4444444444444444,
             "#bd3786"
            ],
            [
             0.5555555555555556,
             "#d8576b"
            ],
            [
             0.6666666666666666,
             "#ed7953"
            ],
            [
             0.7777777777777778,
             "#fb9f3a"
            ],
            [
             0.8888888888888888,
             "#fdca26"
            ],
            [
             1,
             "#f0f921"
            ]
           ],
           "sequentialminus": [
            [
             0,
             "#0d0887"
            ],
            [
             0.1111111111111111,
             "#46039f"
            ],
            [
             0.2222222222222222,
             "#7201a8"
            ],
            [
             0.3333333333333333,
             "#9c179e"
            ],
            [
             0.4444444444444444,
             "#bd3786"
            ],
            [
             0.5555555555555556,
             "#d8576b"
            ],
            [
             0.6666666666666666,
             "#ed7953"
            ],
            [
             0.7777777777777778,
             "#fb9f3a"
            ],
            [
             0.8888888888888888,
             "#fdca26"
            ],
            [
             1,
             "#f0f921"
            ]
           ]
          },
          "colorway": [
           "#636efa",
           "#EF553B",
           "#00cc96",
           "#ab63fa",
           "#FFA15A",
           "#19d3f3",
           "#FF6692",
           "#B6E880",
           "#FF97FF",
           "#FECB52"
          ],
          "font": {
           "color": "#2a3f5f"
          },
          "geo": {
           "bgcolor": "white",
           "lakecolor": "white",
           "landcolor": "#E5ECF6",
           "showlakes": true,
           "showland": true,
           "subunitcolor": "white"
          },
          "hoverlabel": {
           "align": "left"
          },
          "hovermode": "closest",
          "mapbox": {
           "style": "light"
          },
          "paper_bgcolor": "white",
          "plot_bgcolor": "#E5ECF6",
          "polar": {
           "angularaxis": {
            "gridcolor": "white",
            "linecolor": "white",
            "ticks": ""
           },
           "bgcolor": "#E5ECF6",
           "radialaxis": {
            "gridcolor": "white",
            "linecolor": "white",
            "ticks": ""
           }
          },
          "scene": {
           "xaxis": {
            "backgroundcolor": "#E5ECF6",
            "gridcolor": "white",
            "gridwidth": 2,
            "linecolor": "white",
            "showbackground": true,
            "ticks": "",
            "zerolinecolor": "white"
           },
           "yaxis": {
            "backgroundcolor": "#E5ECF6",
            "gridcolor": "white",
            "gridwidth": 2,
            "linecolor": "white",
            "showbackground": true,
            "ticks": "",
            "zerolinecolor": "white"
           },
           "zaxis": {
            "backgroundcolor": "#E5ECF6",
            "gridcolor": "white",
            "gridwidth": 2,
            "linecolor": "white",
            "showbackground": true,
            "ticks": "",
            "zerolinecolor": "white"
           }
          },
          "shapedefaults": {
           "line": {
            "color": "#2a3f5f"
           }
          },
          "ternary": {
           "aaxis": {
            "gridcolor": "white",
            "linecolor": "white",
            "ticks": ""
           },
           "baxis": {
            "gridcolor": "white",
            "linecolor": "white",
            "ticks": ""
           },
           "bgcolor": "#E5ECF6",
           "caxis": {
            "gridcolor": "white",
            "linecolor": "white",
            "ticks": ""
           }
          },
          "title": {
           "x": 0.05
          },
          "xaxis": {
           "automargin": true,
           "gridcolor": "white",
           "linecolor": "white",
           "ticks": "",
           "title": {
            "standoff": 15
           },
           "zerolinecolor": "white",
           "zerolinewidth": 2
          },
          "yaxis": {
           "automargin": true,
           "gridcolor": "white",
           "linecolor": "white",
           "ticks": "",
           "title": {
            "standoff": 15
           },
           "zerolinecolor": "white",
           "zerolinewidth": 2
          }
         }
        },
        "title": {
         "text": "Mean MASE - 36 samples (1 day ahead - 1 hour resolution)"
        }
       }
      },
      "text/html": [
       "<div>                            <div id=\"8be52cf3-cc6a-4d04-b8d7-3cd9259bc491\" class=\"plotly-graph-div\" style=\"height:525px; width:100%;\"></div>            <script type=\"text/javascript\">                require([\"plotly\"], function(Plotly) {                    window.PLOTLYENV=window.PLOTLYENV || {};                                    if (document.getElementById(\"8be52cf3-cc6a-4d04-b8d7-3cd9259bc491\")) {                    Plotly.newPlot(                        \"8be52cf3-cc6a-4d04-b8d7-3cd9259bc491\",                        [{\"name\": \"LSTM\", \"type\": \"bar\", \"x\": [\"grid\", \"tline_1\", \"tline_2\", \"substation1\", \"substation2\", \"substation3\", \"substation4\", 6010, 6014, 6011, 6280, 6281, 6284, \"1295864320\", \"1247421966\", \"2107373071\", \"2009066518\", \"972102295\", \"1616571925\", \"806187417\", \"771513244\", \"1562145181\", \"896338719\", \"1113196323\", \"1597760039\", \"317532327\", \"346061612\", \"40333612\", \"511723709\", \"1004972352\", \"143824576\", \"368424646\", \"1428227531\", \"2040495184\", \"1893337300\", \"2117861717\", \"1941427679\", \"1708098535\", \"456209269\"], \"y\": [1.4682344960050517, 0.9512451151813914, 1.553704463032777, 0.9612493153020005, 0.9062446333916552, 1.465324826079069, 0.8942132689732367, 0.6472148760870888, 0.7748558716351361, 0.6532871340571517, 1.3770451867061155, 0.7291093683051147, 0.6910331358801172, 1.1669607864961153, 0.6225058124251436, 0.9939902972418595, 0.8574778015595256, 0.7153250058828056, 1.5697231409685273, 0.6524394652996883, 0.6880878193185747, 0.7624896455170863, 0.5666010912496753, 0.9811432563448547, 0.7455937102482926, 0.9995331793033233, 1.0258112351625863, 0.6131515789968754, 0.7200521320834627, 0.768800699494758, 0.6600727119942311, 1.7725145197169159, 0.9105491268230538, 0.8199928000607609, 0.7433133005639443, 0.5848656267927461, 0.8893713042907481, 0.6538757842843316, 0.6332925857389126]}, {\"name\": \"Dilated Convolutions (Rate - 1)\", \"type\": \"bar\", \"x\": [\"grid\", \"tline_1\", \"tline_2\", \"substation1\", \"substation2\", \"substation3\", \"substation4\", 6010, 6014, 6011, 6280, 6281, 6284, \"1295864320\", \"1247421966\", \"2107373071\", \"2009066518\", \"972102295\", \"1616571925\", \"806187417\", \"771513244\", \"1562145181\", \"896338719\", \"1113196323\", \"1597760039\", \"317532327\", \"346061612\", \"40333612\", \"511723709\", \"1004972352\", \"143824576\", \"368424646\", \"1428227531\", \"2040495184\", \"1893337300\", \"2117861717\", \"1941427679\", \"1708098535\", \"456209269\"], \"y\": [4.290877351149007, 3.404902734043943, 3.88755231976665, 3.4069536077219422, 3.318815982681137, 3.8860937849944133, 2.6932761043532003, 1.2651345432987067, 1.5361579251626365, 1.4067344312330523, 1.2422165433239114, 0.6850486657542295, 1.1980113277279694, 1.5122198500398734, 1.2087567595823798, 1.6895821032489087, 1.208378415621206, 0.683113083373985, 1.6212406155678432, 1.166512449504567, 1.279083171779989, 1.2315056790688055, 1.0942146663397063, 1.2562556673548204, 1.0665093991824155, 1.2963838620308483, 1.8050657145812035, 1.4316531072301835, 1.6177946293360537, 1.284794819074, 1.1997169470037963, 1.7072955272886268, 1.1946539184169835, 1.1855549932885106, 1.188211167797392, 1.2131599876445591, 1.6887237316499786, 1.281382311930472, 1.3110186624698856]}, {\"name\": \"Dilated Convolutions (Rate - 2)\", \"type\": \"bar\", \"x\": [\"grid\", \"tline_1\", \"tline_2\", \"substation1\", \"substation2\", \"substation3\", \"substation4\", 6010, 6014, 6011, 6280, 6281, 6284, \"1295864320\", \"1247421966\", \"2107373071\", \"2009066518\", \"972102295\", \"1616571925\", \"806187417\", \"771513244\", \"1562145181\", \"896338719\", \"1113196323\", \"1597760039\", \"317532327\", \"346061612\", \"40333612\", \"511723709\", \"1004972352\", \"143824576\", \"368424646\", \"1428227531\", \"2040495184\", \"1893337300\", \"2117861717\", \"1941427679\", \"1708098535\", \"456209269\"], \"y\": [4.2918113989711175, 3.4050614817310842, 3.8858515599708974, 3.4074415862983694, 3.3189658259268864, 3.8909933208664844, 2.6905370912844724, 1.2568570617555226, 1.5470629671094889, 1.3956183578504806, 1.2479257043752274, 0.6807014965160835, 1.183658485758206, 1.5073786859957774, 1.1974508402885347, 1.671491792598774, 1.2079835482841539, 0.6848491905528831, 1.6068692185489055, 1.180593910467087, 1.263871023830547, 1.2456464696558243, 1.09063357365979, 1.2432456381393735, 1.0649955857127447, 1.2891437501178322, 1.779806543478989, 1.4477630665657668, 1.6071845893275027, 1.2784050918038092, 1.1856288974198805, 1.7091672172530474, 1.21317551193613, 1.1812720415504798, 1.206284204667445, 1.2024464453943808, 1.6981987744429163, 1.2730618281256658, 1.3122504636645527]}, {\"name\": \"Dilated Convolutions (Rate - 3)\", \"type\": \"bar\", \"x\": [\"grid\", \"tline_1\", \"tline_2\", \"substation1\", \"substation2\", \"substation3\", \"substation4\", 6010, 6014, 6011, 6280, 6281, 6284, \"1295864320\", \"1247421966\", \"2107373071\", \"2009066518\", \"972102295\", \"1616571925\", \"806187417\", \"771513244\", \"1562145181\", \"896338719\", \"1113196323\", \"1597760039\", \"317532327\", \"346061612\", \"40333612\", \"511723709\", \"1004972352\", \"143824576\", \"368424646\", \"1428227531\", \"2040495184\", \"1893337300\", \"2117861717\", \"1941427679\", \"1708098535\", \"456209269\"], \"y\": [4.2915668584892535, 3.406917801643116, 3.886040015592868, 3.407337503450463, 3.3187492583606235, 3.887521289700653, 2.695238971147734, 1.2531985466718472, 1.5361036905616925, 1.395922964689622, 1.245357831971815, 0.6862823250701584, 1.1823956152494917, 1.506209834502399, 1.1904533197545406, 1.6662796076248607, 1.2110103856999652, 0.6926977701166548, 1.619665108447661, 1.162296908777913, 1.2581245070478397, 1.2677325419530954, 1.0906163835649842, 1.2611070902900325, 1.0598381576688745, 1.2803401762429674, 1.8124741906784354, 1.4233943390338537, 1.6144841323804888, 1.2847533361989432, 1.193114351102494, 1.7041330418124558, 1.2072289719448517, 1.1839918391013107, 1.193474471743306, 1.2227122477948174, 1.719768847379691, 1.2725526433699423, 1.3053815879983275]}],                        {\"barmode\": \"group\", \"template\": {\"data\": {\"bar\": [{\"error_x\": {\"color\": \"#2a3f5f\"}, \"error_y\": {\"color\": \"#2a3f5f\"}, \"marker\": {\"line\": {\"color\": \"#E5ECF6\", \"width\": 0.5}}, \"type\": \"bar\"}], \"barpolar\": [{\"marker\": {\"line\": {\"color\": \"#E5ECF6\", \"width\": 0.5}}, \"type\": \"barpolar\"}], \"carpet\": [{\"aaxis\": {\"endlinecolor\": \"#2a3f5f\", \"gridcolor\": \"white\", \"linecolor\": \"white\", \"minorgridcolor\": \"white\", \"startlinecolor\": \"#2a3f5f\"}, \"baxis\": {\"endlinecolor\": \"#2a3f5f\", \"gridcolor\": \"white\", \"linecolor\": \"white\", \"minorgridcolor\": \"white\", \"startlinecolor\": \"#2a3f5f\"}, \"type\": \"carpet\"}], \"choropleth\": [{\"colorbar\": {\"outlinewidth\": 0, \"ticks\": \"\"}, \"type\": \"choropleth\"}], \"contour\": [{\"colorbar\": {\"outlinewidth\": 0, \"ticks\": \"\"}, \"colorscale\": [[0.0, \"#0d0887\"], [0.1111111111111111, \"#46039f\"], [0.2222222222222222, \"#7201a8\"], [0.3333333333333333, \"#9c179e\"], [0.4444444444444444, \"#bd3786\"], [0.5555555555555556, \"#d8576b\"], [0.6666666666666666, \"#ed7953\"], [0.7777777777777778, \"#fb9f3a\"], [0.8888888888888888, \"#fdca26\"], [1.0, \"#f0f921\"]], \"type\": \"contour\"}], \"contourcarpet\": [{\"colorbar\": {\"outlinewidth\": 0, \"ticks\": \"\"}, \"type\": \"contourcarpet\"}], \"heatmap\": [{\"colorbar\": {\"outlinewidth\": 0, \"ticks\": \"\"}, \"colorscale\": [[0.0, \"#0d0887\"], [0.1111111111111111, \"#46039f\"], [0.2222222222222222, \"#7201a8\"], [0.3333333333333333, \"#9c179e\"], [0.4444444444444444, \"#bd3786\"], [0.5555555555555556, \"#d8576b\"], [0.6666666666666666, \"#ed7953\"], [0.7777777777777778, \"#fb9f3a\"], [0.8888888888888888, \"#fdca26\"], [1.0, \"#f0f921\"]], \"type\": \"heatmap\"}], \"heatmapgl\": [{\"colorbar\": {\"outlinewidth\": 0, \"ticks\": \"\"}, \"colorscale\": [[0.0, \"#0d0887\"], [0.1111111111111111, \"#46039f\"], [0.2222222222222222, \"#7201a8\"], [0.3333333333333333, \"#9c179e\"], [0.4444444444444444, \"#bd3786\"], [0.5555555555555556, \"#d8576b\"], [0.6666666666666666, \"#ed7953\"], [0.7777777777777778, \"#fb9f3a\"], [0.8888888888888888, \"#fdca26\"], [1.0, \"#f0f921\"]], \"type\": \"heatmapgl\"}], \"histogram\": [{\"marker\": {\"colorbar\": {\"outlinewidth\": 0, \"ticks\": \"\"}}, \"type\": \"histogram\"}], \"histogram2d\": [{\"colorbar\": {\"outlinewidth\": 0, \"ticks\": \"\"}, \"colorscale\": [[0.0, \"#0d0887\"], [0.1111111111111111, \"#46039f\"], [0.2222222222222222, \"#7201a8\"], [0.3333333333333333, \"#9c179e\"], [0.4444444444444444, \"#bd3786\"], [0.5555555555555556, \"#d8576b\"], [0.6666666666666666, \"#ed7953\"], [0.7777777777777778, \"#fb9f3a\"], [0.8888888888888888, \"#fdca26\"], [1.0, \"#f0f921\"]], \"type\": \"histogram2d\"}], \"histogram2dcontour\": [{\"colorbar\": {\"outlinewidth\": 0, \"ticks\": \"\"}, \"colorscale\": [[0.0, \"#0d0887\"], [0.1111111111111111, \"#46039f\"], [0.2222222222222222, \"#7201a8\"], [0.3333333333333333, \"#9c179e\"], [0.4444444444444444, \"#bd3786\"], [0.5555555555555556, \"#d8576b\"], [0.6666666666666666, \"#ed7953\"], [0.7777777777777778, \"#fb9f3a\"], [0.8888888888888888, \"#fdca26\"], [1.0, \"#f0f921\"]], \"type\": \"histogram2dcontour\"}], \"mesh3d\": [{\"colorbar\": {\"outlinewidth\": 0, \"ticks\": \"\"}, \"type\": \"mesh3d\"}], \"parcoords\": [{\"line\": {\"colorbar\": {\"outlinewidth\": 0, \"ticks\": \"\"}}, \"type\": \"parcoords\"}], \"pie\": [{\"automargin\": true, \"type\": \"pie\"}], \"scatter\": [{\"marker\": {\"colorbar\": {\"outlinewidth\": 0, \"ticks\": \"\"}}, \"type\": \"scatter\"}], \"scatter3d\": [{\"line\": {\"colorbar\": {\"outlinewidth\": 0, \"ticks\": \"\"}}, \"marker\": {\"colorbar\": {\"outlinewidth\": 0, \"ticks\": \"\"}}, \"type\": \"scatter3d\"}], \"scattercarpet\": [{\"marker\": {\"colorbar\": {\"outlinewidth\": 0, \"ticks\": \"\"}}, \"type\": \"scattercarpet\"}], \"scattergeo\": [{\"marker\": {\"colorbar\": {\"outlinewidth\": 0, \"ticks\": \"\"}}, \"type\": \"scattergeo\"}], \"scattergl\": [{\"marker\": {\"colorbar\": {\"outlinewidth\": 0, \"ticks\": \"\"}}, \"type\": \"scattergl\"}], \"scattermapbox\": [{\"marker\": {\"colorbar\": {\"outlinewidth\": 0, \"ticks\": \"\"}}, \"type\": \"scattermapbox\"}], \"scatterpolar\": [{\"marker\": {\"colorbar\": {\"outlinewidth\": 0, \"ticks\": \"\"}}, \"type\": \"scatterpolar\"}], \"scatterpolargl\": [{\"marker\": {\"colorbar\": {\"outlinewidth\": 0, \"ticks\": \"\"}}, \"type\": \"scatterpolargl\"}], \"scatterternary\": [{\"marker\": {\"colorbar\": {\"outlinewidth\": 0, \"ticks\": \"\"}}, \"type\": \"scatterternary\"}], \"surface\": [{\"colorbar\": {\"outlinewidth\": 0, \"ticks\": \"\"}, \"colorscale\": [[0.0, \"#0d0887\"], [0.1111111111111111, \"#46039f\"], [0.2222222222222222, \"#7201a8\"], [0.3333333333333333, \"#9c179e\"], [0.4444444444444444, \"#bd3786\"], [0.5555555555555556, \"#d8576b\"], [0.6666666666666666, \"#ed7953\"], [0.7777777777777778, \"#fb9f3a\"], [0.8888888888888888, \"#fdca26\"], [1.0, \"#f0f921\"]], \"type\": \"surface\"}], \"table\": [{\"cells\": {\"fill\": {\"color\": \"#EBF0F8\"}, \"line\": {\"color\": \"white\"}}, \"header\": {\"fill\": {\"color\": \"#C8D4E3\"}, \"line\": {\"color\": \"white\"}}, \"type\": \"table\"}]}, \"layout\": {\"annotationdefaults\": {\"arrowcolor\": \"#2a3f5f\", \"arrowhead\": 0, \"arrowwidth\": 1}, \"autotypenumbers\": \"strict\", \"coloraxis\": {\"colorbar\": {\"outlinewidth\": 0, \"ticks\": \"\"}}, \"colorscale\": {\"diverging\": [[0, \"#8e0152\"], [0.1, \"#c51b7d\"], [0.2, \"#de77ae\"], [0.3, \"#f1b6da\"], [0.4, \"#fde0ef\"], [0.5, \"#f7f7f7\"], [0.6, \"#e6f5d0\"], [0.7, \"#b8e186\"], [0.8, \"#7fbc41\"], [0.9, \"#4d9221\"], [1, \"#276419\"]], \"sequential\": [[0.0, \"#0d0887\"], [0.1111111111111111, \"#46039f\"], [0.2222222222222222, \"#7201a8\"], [0.3333333333333333, \"#9c179e\"], [0.4444444444444444, \"#bd3786\"], [0.5555555555555556, \"#d8576b\"], [0.6666666666666666, \"#ed7953\"], [0.7777777777777778, \"#fb9f3a\"], [0.8888888888888888, \"#fdca26\"], [1.0, \"#f0f921\"]], \"sequentialminus\": [[0.0, \"#0d0887\"], [0.1111111111111111, \"#46039f\"], [0.2222222222222222, \"#7201a8\"], [0.3333333333333333, \"#9c179e\"], [0.4444444444444444, \"#bd3786\"], [0.5555555555555556, \"#d8576b\"], [0.6666666666666666, \"#ed7953\"], [0.7777777777777778, \"#fb9f3a\"], [0.8888888888888888, \"#fdca26\"], [1.0, \"#f0f921\"]]}, \"colorway\": [\"#636efa\", \"#EF553B\", \"#00cc96\", \"#ab63fa\", \"#FFA15A\", \"#19d3f3\", \"#FF6692\", \"#B6E880\", \"#FF97FF\", \"#FECB52\"], \"font\": {\"color\": \"#2a3f5f\"}, \"geo\": {\"bgcolor\": \"white\", \"lakecolor\": \"white\", \"landcolor\": \"#E5ECF6\", \"showlakes\": true, \"showland\": true, \"subunitcolor\": \"white\"}, \"hoverlabel\": {\"align\": \"left\"}, \"hovermode\": \"closest\", \"mapbox\": {\"style\": \"light\"}, \"paper_bgcolor\": \"white\", \"plot_bgcolor\": \"#E5ECF6\", \"polar\": {\"angularaxis\": {\"gridcolor\": \"white\", \"linecolor\": \"white\", \"ticks\": \"\"}, \"bgcolor\": \"#E5ECF6\", \"radialaxis\": {\"gridcolor\": \"white\", \"linecolor\": \"white\", \"ticks\": \"\"}}, \"scene\": {\"xaxis\": {\"backgroundcolor\": \"#E5ECF6\", \"gridcolor\": \"white\", \"gridwidth\": 2, \"linecolor\": \"white\", \"showbackground\": true, \"ticks\": \"\", \"zerolinecolor\": \"white\"}, \"yaxis\": {\"backgroundcolor\": \"#E5ECF6\", \"gridcolor\": \"white\", \"gridwidth\": 2, \"linecolor\": \"white\", \"showbackground\": true, \"ticks\": \"\", \"zerolinecolor\": \"white\"}, \"zaxis\": {\"backgroundcolor\": \"#E5ECF6\", \"gridcolor\": \"white\", \"gridwidth\": 2, \"linecolor\": \"white\", \"showbackground\": true, \"ticks\": \"\", \"zerolinecolor\": \"white\"}}, \"shapedefaults\": {\"line\": {\"color\": \"#2a3f5f\"}}, \"ternary\": {\"aaxis\": {\"gridcolor\": \"white\", \"linecolor\": \"white\", \"ticks\": \"\"}, \"baxis\": {\"gridcolor\": \"white\", \"linecolor\": \"white\", \"ticks\": \"\"}, \"bgcolor\": \"#E5ECF6\", \"caxis\": {\"gridcolor\": \"white\", \"linecolor\": \"white\", \"ticks\": \"\"}}, \"title\": {\"x\": 0.05}, \"xaxis\": {\"automargin\": true, \"gridcolor\": \"white\", \"linecolor\": \"white\", \"ticks\": \"\", \"title\": {\"standoff\": 15}, \"zerolinecolor\": \"white\", \"zerolinewidth\": 2}, \"yaxis\": {\"automargin\": true, \"gridcolor\": \"white\", \"linecolor\": \"white\", \"ticks\": \"\", \"title\": {\"standoff\": 15}, \"zerolinecolor\": \"white\", \"zerolinewidth\": 2}}}, \"title\": {\"text\": \"Mean MASE - 36 samples (1 day ahead - 1 hour resolution)\"}},                        {\"responsive\": true}                    ).then(function(){\n",
       "                            \n",
       "var gd = document.getElementById('8be52cf3-cc6a-4d04-b8d7-3cd9259bc491');\n",
       "var x = new MutationObserver(function (mutations, observer) {{\n",
       "        var display = window.getComputedStyle(gd).display;\n",
       "        if (!display || display === 'none') {{\n",
       "            console.log([gd, 'removed!']);\n",
       "            Plotly.purge(gd);\n",
       "            observer.disconnect();\n",
       "        }}\n",
       "}});\n",
       "\n",
       "// Listen for the removal of the full notebook cells\n",
       "var notebookContainer = gd.closest('#notebook-container');\n",
       "if (notebookContainer) {{\n",
       "    x.observe(notebookContainer, {childList: true});\n",
       "}}\n",
       "\n",
       "// Listen for the clearing of the current output cell\n",
       "var outputEl = gd.closest('.output');\n",
       "if (outputEl) {{\n",
       "    x.observe(outputEl, {childList: true});\n",
       "}}\n",
       "\n",
       "                        })                };                });            </script>        </div>"
      ]
     },
     "metadata": {},
     "output_type": "display_data"
    }
   ],
   "source": [
    "fig = go.Figure(data=[\n",
    "    go.Bar(name='LSTM', x=const.TS, y=mase_vals_lstm),\n",
    "    go.Bar(name='Dilated Convolutions (Rate - 1)', x=const.TS, y=mase_vals_cnn_d1),\n",
    "    go.Bar(name='Dilated Convolutions (Rate - 2)', x=const.TS, y=mase_vals_cnn),\n",
    "    go.Bar(name='Dilated Convolutions (Rate - 3)', x=const.TS, y=mase_vals_cnn_d3)\n",
    "])\n",
    "# Change the bar mode\n",
    "fig.update_layout(barmode='group')\n",
    "fig.update_layout(title='Mean MASE - 36 samples (1 day ahead - 1 hour resolution)')\n",
    "fig.show()"
   ]
  },
  {
   "cell_type": "markdown",
   "metadata": {},
   "source": [
    "Error distributions"
   ]
  },
  {
   "cell_type": "code",
   "execution_count": 16,
   "metadata": {},
   "outputs": [
    {
     "data": {
      "application/vnd.plotly.v1+json": {
       "config": {
        "plotlyServerURL": "https://plot.ly"
       },
       "data": [
        {
         "name": "grid",
         "type": "box",
         "y": [
          1.23547745107944,
          1.1171429020335122,
          0.7993274321385548,
          2.1183795343935286,
          1.3654891288518574,
          1.6989868378112882,
          2.136336256443193,
          1.2464064115386664,
          1.2955410825714222,
          0.7400306503522828,
          0.7036381697845254,
          1.1393532583725903,
          1.92668375728067,
          1.8386193050825739,
          1.770227352937064,
          0.880602900359924,
          1.4034838598729507,
          0.7868948666647183,
          2.2941460958013953,
          1.678766431123849,
          1.9676526113571438,
          1.2715129122100806,
          1.3142094996562086,
          0.8946901131977759,
          0.7833009868244336,
          1.185205404608998,
          1.4496242597059354,
          1.3694847353739186,
          3.583397694767865,
          2.8223650979252968,
          1.2001564873190311,
          0.6941539591930219,
          1.5868498558438444,
          1.506019136246795,
          1.875881845915804,
          1.1764035715417063
         ]
        },
        {
         "name": "tline_1",
         "type": "box",
         "y": [
          1.1062047297791726,
          1.282747228903166,
          1.5544766494181592,
          0.6352868504549711,
          0.5604423005356051,
          0.2723407034305153,
          0.22719624263455754,
          0.3080355959099372,
          0.271551238465374,
          1.7227678613142756,
          0.5971839325977256,
          1.2813101647612837,
          1.6634663961982543,
          0.2918627836914842,
          1.2782822958509283,
          1.0924409660922738,
          0.6872159777415876,
          0.45361192697393565,
          1.070004672132278,
          0.7618006568769919,
          0.3548392884206618,
          0.26453741971512296,
          0.24277454498978557,
          0.2546423729409727,
          2.156359928447824,
          2.180572472272555,
          0.448132095908153,
          0.48322700833425886,
          4.524385559477933,
          1.7353073944630635,
          1.3799585183063836,
          0.8702033235510263,
          0.7542609911818665,
          0.6187649428607116,
          0.3242253864260629,
          0.5344037254712314
         ]
        },
        {
         "name": "tline_2",
         "type": "box",
         "y": [
          1.2978134500500507,
          1.2458381014309547,
          1.0058596465479546,
          2.8568826137166092,
          1.370176892621966,
          2.0683213641470486,
          1.6322065323736472,
          1.398109806091513,
          1.182523449563804,
          0.7868359478751497,
          0.9707506730240395,
          1.448413964293204,
          2.2239194873392583,
          2.008223954688142,
          1.68142029761467,
          0.7293469967078844,
          1.79525019055048,
          1.041322017061723,
          2.232460317540966,
          2.4017195533091145,
          1.7015701285242846,
          1.1235871931008554,
          1.400044523622789,
          0.6868746092505581,
          1.723296249545219,
          1.084843965347022,
          1.2257502091658676,
          1.661406815110174,
          2.7745542088135933,
          3.352755810101963,
          1.146858275131281,
          0.9938526665888852,
          1.4019966077114236,
          1.3988614283176288,
          1.8065079409729425,
          1.0732047813273022
         ]
        },
        {
         "name": "substation1",
         "type": "box",
         "y": [
          1.151245023416995,
          1.470592539909257,
          1.6198247630474363,
          0.6478475345288112,
          0.5217078800493151,
          0.28384753498163395,
          0.2580667527322779,
          0.21637338688261515,
          0.14142175806697863,
          1.6758451249495239,
          0.7072583254588315,
          1.0653175804970954,
          1.9868108831156908,
          0.36360518401197445,
          1.327717092770955,
          1.099825794855976,
          0.44013105632464883,
          0.40329743954517705,
          1.2499211173650175,
          0.9516274179710563,
          0.27244974017829854,
          0.24399895963495952,
          0.16643431577987955,
          0.1126214883556839,
          2.209084857930344,
          2.325298976420175,
          0.3437555080235862,
          0.42233616825643105,
          4.493310109814379,
          1.3779042405006352,
          1.4553545083517343,
          1.5834608610678864,
          0.7254283498108517,
          0.7960878644135295,
          0.14294387938298375,
          0.3522213324693911
         ]
        },
        {
         "name": "substation2",
         "type": "box",
         "y": [
          0.9986941539819154,
          0.9198060849059121,
          1.536533451539841,
          0.570817365665713,
          0.8040160247693269,
          0.2924979289287644,
          0.3401059751283967,
          0.3149584265851149,
          0.30293494933140236,
          1.533590121402837,
          0.6180282808629908,
          1.2168215317799518,
          2.0442437338514834,
          0.5450979132416722,
          1.2665069731902656,
          0.7104691873060557,
          0.6001758684990504,
          0.4855996832723687,
          0.9011729226966013,
          0.7406785032552798,
          0.5406422897028578,
          0.3445656664426582,
          0.333608196717693,
          0.34365258396025417,
          1.8196080616502908,
          1.4819379951622884,
          0.4285137060041201,
          0.5741960283453806,
          4.146737184783236,
          1.7174164674135886,
          0.9428881486449627,
          1.179166439282379,
          0.558621912970311,
          0.5943570442927372,
          0.34999813928950185,
          0.5261478572423851
         ]
        },
        {
         "name": "substation3",
         "type": "box",
         "y": [
          1.4464571318190025,
          0.877934619778002,
          0.8618781963455108,
          2.908653031997035,
          0.7055781961714516,
          1.7192102128909086,
          1.7124601683333225,
          1.6092602188639125,
          1.0704861168922426,
          0.8233084045881249,
          0.7877576898721314,
          1.0553883076082609,
          2.414019189399141,
          1.2281498008961063,
          1.7715611196012024,
          0.7210794768393617,
          1.5889550809641868,
          1.1291290521491533,
          2.417988676199537,
          2.248921810951745,
          0.9954162741818913,
          1.2267160674538915,
          1.2452136537447551,
          0.7944019622321437,
          1.3818872108005256,
          0.7558682052965768,
          0.9148535924169598,
          1.8344924534454736,
          2.9466542215956077,
          3.2079791255691874,
          1.2070131816473564,
          0.7989930361843472,
          1.082047011084324,
          1.4901580476441691,
          2.176692394036085,
          1.595130799352839
         ]
        },
        {
         "name": "substation4",
         "type": "box",
         "y": [
          0.7861113579308069,
          0.9556458416824422,
          1.455238586429482,
          0.24692763943772134,
          0.6834070879456832,
          0.9204087063776972,
          1.469992520283903,
          0.5719238669370126,
          0.7292652769911856,
          0.5065982155707734,
          0.5608751893184645,
          1.3143658787258645,
          0.6328104515488056,
          0.489971943911012,
          1.2754355049682238,
          1.1424004835422161,
          1.220201515947658,
          0.97820626560012,
          0.5168969643751964,
          0.5866395785094012,
          0.6659272743271355,
          0.3097009327747791,
          1.0113991675525607,
          0.5201956137389792,
          0.624192770416926,
          0.6895856062708167,
          1.0856776777776718,
          0.5726272141805816,
          2.2317836267332587,
          1.9184440744381388,
          0.6507659405521492,
          0.7461234118526084,
          1.0151116122153057,
          0.9988787557343809,
          1.2052944999489572,
          0.9026466284886052
         ]
        },
        {
         "name": "6010",
         "type": "box",
         "y": [
          0.9013351309137972,
          0.8373897783088612,
          0.5059745856845409,
          0.6130669161664558,
          0.09691697871701306,
          0.23832340057236942,
          0.15486602957385284,
          0.1741259911197191,
          0.19992299140158026,
          1.4353169386214824,
          0.9044267893713386,
          0.6880738161355379,
          0.5810260700139478,
          0.3022377900858818,
          1.078227605523497,
          0.9071849322708136,
          0.5488566875606694,
          0.43382470246298405,
          0.8828553489544994,
          0.26672761671876893,
          0.17704618441737452,
          0.19361976736442998,
          0.16386576857792592,
          0.19785557432945367,
          1.855630943251491,
          0.3375984004862585,
          0.25507740818864627,
          0.28068983871381764,
          3.322429162944933,
          1.44769890480756,
          0.9338516703881954,
          0.8325136412834576,
          0.5585785282352306,
          0.40967402517833484,
          0.3006385838150475,
          0.28228703697543084
         ]
        },
        {
         "name": "6014",
         "type": "box",
         "y": [
          1.1139169013431058,
          0.9992510821185724,
          0.5051165047762379,
          0.6509747523785404,
          0.2155660940162347,
          0.26695700995346006,
          0.26657141203784335,
          0.3085848549207954,
          0.3262301427677894,
          1.7374976025793907,
          1.1820131696613558,
          0.8839966733534109,
          0.7089226298441398,
          0.5649947381391295,
          1.1127449960962188,
          0.9361533509468848,
          0.5748531982122312,
          0.4623214572486502,
          0.876382103392776,
          0.3768306449940475,
          0.3371608303018444,
          0.2864543839370586,
          0.26783822856395906,
          0.22270956445599435,
          2.4132901131836646,
          0.6036072627457719,
          0.24371219010673154,
          0.28235060782661187,
          4.0740961185422755,
          0.9562719122548008,
          1.4089029132729713,
          0.9087280012947572,
          0.6595599969043237,
          0.40600190543824866,
          0.3367184636317668,
          0.4175295676233092
         ]
        },
        {
         "name": "6011",
         "type": "box",
         "y": [
          0.8349764365269012,
          0.7137576130029952,
          0.326308962515122,
          0.40339950056520174,
          0.23782911575630342,
          0.21307523532830314,
          0.2124914256991142,
          0.25018545125970393,
          0.17108425530257937,
          1.3833063438353261,
          0.834366908600215,
          0.8666720192281012,
          0.8034457717956617,
          0.2968964759737626,
          1.0777762152309125,
          0.925050560409192,
          0.556837083123439,
          0.44281621555328254,
          0.5797927413910475,
          0.32134636094667385,
          0.25499936620765296,
          0.292360823671865,
          0.2534036215735965,
          0.2062655402270687,
          1.8174172503760848,
          0.46081272793928224,
          0.22559875858092998,
          0.3251904787338128,
          3.778450546692656,
          1.393797154762423,
          0.8788517104457769,
          0.7071459133420209,
          0.5137167651729327,
          0.33549825296253355,
          0.23975249031151286,
          0.3836607330134701
         ]
        },
        {
         "name": "6280",
         "type": "box",
         "y": [
          1.3653907038171782,
          1.843549051034373,
          1.1282958128056404,
          2.221042751060412,
          0.40699727252622175,
          1.8595201958734684,
          2.019869595068994,
          1.0507054939136022,
          1.4485427681812564,
          1.0649900337031124,
          1.0990406838680598,
          1.1116775183144363,
          1.531337724520064,
          1.3241737050467524,
          1.5587703799926818,
          1.4022870002856962,
          2.2727632046337694,
          0.9524783771468525,
          1.2250183630734928,
          1.4925561459112406,
          1.3144131911732388,
          1.1773636709804456,
          1.6594937910787986,
          1.1428509861770713,
          0.4133666415555937,
          1.0412660302708576,
          2.070902075057343,
          1.9748350298928454,
          2.4921087925601375,
          1.4459117739646425,
          1.1795330957615164,
          0.6359540052174087,
          0.8733180300086898,
          1.3143783278555132,
          1.6023967373632444,
          0.8565277617255116
         ]
        },
        {
         "name": "6281",
         "type": "box",
         "y": [
          1.0419283539237416,
          1.04642593206608,
          0.47387076151004726,
          0.5017745305400766,
          0.3707163375593328,
          0.5601024258368288,
          1.0473786091153092,
          0.6867505744093613,
          0.7900201767773714,
          0.5810328592232396,
          0.6121448500865095,
          1.3515608940896333,
          0.6757532133815548,
          0.7144538672273877,
          1.3122439295217685,
          0.49640449735795666,
          0.5302654479057225,
          0.7668368334237171,
          0.35726988908395907,
          1.1833779602294732,
          0.39599549091354797,
          0.4903213934722828,
          0.7415792391508422,
          0.7356182137839639,
          0.739133663787327,
          0.7674686168517321,
          0.3276053605935277,
          0.7320740306221724,
          1.4502817183611298,
          0.7923063995665535,
          0.8846329888908245,
          0.5633019489262494,
          0.906505476501393,
          0.8508677623643883,
          0.48452771356308233,
          0.28540529836604017
         ]
        },
        {
         "name": "6284",
         "type": "box",
         "y": [
          0.6447383010012607,
          0.9362484468340805,
          0.41715238491155354,
          0.46073817225364033,
          0.7524665858026172,
          0.9429054700457231,
          0.7631511492934532,
          0.48209836201456496,
          0.47177254232747357,
          0.7107043824272937,
          0.5830900237955171,
          0.6508754554824902,
          0.6123070094228169,
          0.3212079759442606,
          1.1825293825990684,
          1.0666413414966116,
          1.4713053745302518,
          0.5778081509941135,
          0.5153828553229475,
          0.6159259011518949,
          0.49570417839587283,
          0.33587801992151883,
          0.4516564872558214,
          0.4023379375035986,
          0.3475948367772507,
          0.8996629326938879,
          0.7163250305185553,
          0.6617771804669875,
          1.5989855072753485,
          1.0452986027958815,
          0.36013718434681746,
          0.8396578286123735,
          0.48215507909237393,
          0.919210034048974,
          0.7682618763342012,
          0.3735009079931249
         ]
        },
        {
         "name": "1295864320",
         "type": "box",
         "y": [
          0.7642981869310421,
          1.9960219751447916,
          0.9788025487875058,
          1.0597072636644482,
          0.8512783815541282,
          1.4112161070330287,
          1.5653437552554461,
          1.531199048596236,
          1.150441309499534,
          0.8341090104466019,
          0.7765773600350346,
          1.0684860814661528,
          0.9442029958270127,
          0.869732387766729,
          1.4607277397850174,
          0.8217408610408778,
          2.755191096091234,
          1.1542200165204932,
          1.0680058749186943,
          0.9090342868932627,
          1.1360468776523167,
          0.6590333549407376,
          1.4945824758643675,
          0.8913140160210437,
          0.43551250150023085,
          1.0381674809745876,
          1.2585058816970098,
          0.7642102217066048,
          1.732356750563042,
          1.1361034454866592,
          2.2344073135522544,
          0.9072027526932803,
          1.1863276736285475,
          1.3795332606280666,
          1.2422590565014786,
          0.544688963192652
         ]
        },
        {
         "name": "1247421966",
         "type": "box",
         "y": [
          1.0161988503286556,
          0.7936246987772944,
          0.2339519008240683,
          0.474298892255182,
          0.20978415710618872,
          0.24575582315874261,
          0.1525978078302291,
          0.1711001755922516,
          0.24865579390463963,
          1.5698434651829378,
          0.7776544249101084,
          0.9015650312709076,
          0.5528448468945861,
          0.38616024964978296,
          1.0427434793067165,
          0.809970057677884,
          0.3788744451396397,
          0.46245531362995035,
          0.8762763085361067,
          0.25672614762511625,
          0.20646824131832384,
          0.17249231987808522,
          0.25348336045770686,
          0.1981290271524483,
          1.9697826327762733,
          0.46327163143609357,
          0.21772195879021203,
          0.2868596670495419,
          2.818121443583389,
          1.0313671613361624,
          1.1270742356307342,
          0.6695817948082532,
          0.5073068208425235,
          0.24878382921835973,
          0.21464456796002027,
          0.46403868546605026
         ]
        },
        {
         "name": "2107373071",
         "type": "box",
         "y": [
          1.2079847888426694,
          1.4594787777877447,
          0.8940017209925278,
          0.857806670153414,
          0.45391551828112586,
          0.4552442788513589,
          0.4936396620903105,
          0.577217353551777,
          0.5342081290153488,
          1.8350421534089087,
          1.0987758527324583,
          1.1390099916601018,
          1.0564287158015757,
          0.8833998069682708,
          1.2408582272486675,
          1.5131228429755408,
          0.9562735525799858,
          0.6292637054899803,
          0.9386622756472216,
          0.631427399052612,
          0.5317724664886481,
          0.48887066363485576,
          0.42535684298137993,
          0.4739077414205196,
          2.322551250838282,
          0.554418565436897,
          0.5629588203499932,
          0.5970257065817298,
          4.8454563930738015,
          2.197380346762953,
          0.9725321723213921,
          1.0078794844906678,
          0.6944002690810799,
          0.5458955954563307,
          0.4121765720250525,
          0.2953063866317601
         ]
        },
        {
         "name": "2009066518",
         "type": "box",
         "y": [
          0.76403718472287,
          0.8965526138633327,
          0.5151690710568125,
          0.7559074605550186,
          0.6535768311571628,
          1.198452316572025,
          0.9696862189374649,
          0.7956923613767757,
          0.5934551834833874,
          0.48197018172894207,
          1.1167309761938484,
          0.8019784406234453,
          0.7543492847895373,
          0.5149887833666306,
          1.202218605009777,
          1.094208876423005,
          1.5475622186053264,
          0.7442270487336555,
          1.005469781607961,
          0.8379898145597648,
          0.7961737540583605,
          0.6925337243718859,
          0.38146630487774325,
          0.5557561791670843,
          0.5887009389460787,
          0.8746336529517643,
          0.9040363311881677,
          0.5480806091218199,
          1.8546350165785221,
          1.4425458094012529,
          1.2057448148101773,
          0.6245915923601133,
          0.6847435438426476,
          1.4987248721369386,
          0.6251715705612869,
          0.3474388884023369
         ]
        },
        {
         "name": "972102295",
         "type": "box",
         "y": [
          0.7638273736446067,
          0.7999585024616344,
          0.40635381772690043,
          0.5009387789887485,
          0.5127738951651912,
          0.7422321134200743,
          1.1416145539933378,
          0.4698546409648211,
          1.174390318473033,
          0.834060193475573,
          0.6110841699453049,
          0.7196268671420913,
          0.7570400994371173,
          0.6864363520550306,
          1.2387079733159752,
          0.4952471019378209,
          0.4665018230098584,
          0.7526437529726585,
          0.4621075650776216,
          1.1564761167937032,
          0.4620722279761938,
          0.5483122638270982,
          0.7369511300435718,
          0.6765011766996808,
          0.8633671182145612,
          0.5407625226987982,
          0.3404056983330371,
          0.861573846696111,
          1.4959324433904837,
          0.46395421709887047,
          1.1379980906246385,
          0.5139293196355553,
          0.7869495679239824,
          0.9733342457477235,
          0.4275814663069735,
          0.2301988665626162
         ]
        },
        {
         "name": "1616571925",
         "type": "box",
         "y": [
          1.264475406963076,
          1.20056910893115,
          1.3681593113460206,
          2.7785593663977473,
          1.8192676810784578,
          1.689759376312576,
          2.328735243008585,
          2.3522487434772805,
          1.9911750439221838,
          1.0310248566920464,
          0.6751121465928321,
          1.1051033977006148,
          1.679699906421778,
          1.536395604053279,
          2.023620553438084,
          0.7192167085198056,
          1.0642658776887532,
          1.1423629618852513,
          1.3247806308281256,
          2.0979333727898446,
          2.7296969774121997,
          1.2740113232987078,
          1.2244480311238732,
          1.1795639052725588,
          0.5797352501085073,
          1.225379748610619,
          2.2441375466745543,
          1.851308946249722,
          0.9921299196371544,
          0.4649099542795853,
          2.386488251128062,
          0.9738906659799589,
          1.2585796301923053,
          1.3178890749041305,
          3.7241061982018153,
          1.8912923537457356
         ]
        },
        {
         "name": "806187417",
         "type": "box",
         "y": [
          0.9707441213288559,
          0.6992975687253944,
          0.17883715468921607,
          0.5219663588911915,
          0.22668862184271307,
          0.27941200199501426,
          0.24491650761597847,
          0.17184679976190062,
          0.18547804096356132,
          1.6147546170979343,
          0.8258365673706253,
          0.9774601441786416,
          0.4339430449796479,
          0.35840670559301663,
          0.8866066294439674,
          0.949939608448502,
          0.9172363836967949,
          0.552114613704904,
          0.7607210220859955,
          0.4718824028999995,
          0.34875133886463267,
          0.19120471343102102,
          0.19973612164876467,
          0.14976116539769393,
          2.0300984483985323,
          0.4456658903916439,
          0.21810546531381478,
          0.28332923095488194,
          2.802903723729617,
          1.0585901461274554,
          1.2111881753275118,
          0.9318365290745128,
          0.4635841102310236,
          0.3580841247038253,
          0.15455090992123793,
          0.41234174195875395
         ]
        },
        {
         "name": "771513244",
         "type": "box",
         "y": [
          1.0920111167864144,
          0.8362486718453395,
          0.42730470150130934,
          0.9151860687138964,
          0.32429113390622916,
          0.29939388516478077,
          0.22042598699657218,
          0.2242564991759949,
          0.28890276309857377,
          1.253808379411341,
          0.9751305961305095,
          0.7683594586632053,
          0.5206627746596162,
          0.4096387083740551,
          1.0495538432197882,
          0.8834655761963096,
          0.3643893532860787,
          0.43157385033978096,
          1.0151940579646868,
          0.2506362135176167,
          0.24734661439361472,
          0.22892827616891534,
          0.16958284363637663,
          0.1868839921255037,
          1.650035336174468,
          0.31348008767263247,
          0.25552610945169313,
          0.40503945167192074,
          3.911697200251233,
          1.4378920958451251,
          0.8377432277305255,
          1.0710440374258074,
          0.8171657377103912,
          0.20653623575949578,
          0.16899766281533643,
          0.31282894768354863
         ]
        },
        {
         "name": "1562145181",
         "type": "box",
         "y": [
          0.7656980116585874,
          1.0154710161844813,
          0.717173175484085,
          0.607389831450915,
          0.23842677291627523,
          0.3162624282309366,
          0.19227130257017105,
          0.26206554723326536,
          0.24316827234230237,
          1.7479880665451666,
          0.6848536855969184,
          1.1708176705733913,
          0.41475624756265717,
          0.3125819632298853,
          0.9369867880469457,
          0.9965226163962211,
          0.6264240459285207,
          0.518142609800606,
          0.8330660751957494,
          1.0569787398363464,
          0.43733134324745526,
          0.24856910961999443,
          0.28060668494575913,
          0.1390344879727378,
          1.895865102782684,
          0.8024207008375008,
          0.3664145131545608,
          0.3515379872271907,
          2.953124329732763,
          0.9878589004400403,
          1.1268385423235556,
          1.0766783070513686,
          0.7272856480563721,
          1.1767076645877719,
          0.6998104589018359,
          0.5224985909500871
         ]
        },
        {
         "name": "896338719",
         "type": "box",
         "y": [
          0.7848793719834092,
          0.5587043633797842,
          0.2503736256224013,
          0.5669801662450688,
          0.2548176162287075,
          0.2621190385904695,
          0.14336260381059493,
          0.12791982070681288,
          0.15363511213580425,
          1.232670338849849,
          1.0497936326091928,
          0.8386560541249467,
          0.6549442539886653,
          0.17377597838396927,
          0.8993507666594038,
          0.6450401502984938,
          0.3110337960682605,
          0.48606196634431953,
          0.7119154420327859,
          0.13608597503117986,
          0.18056703376277033,
          0.23104433294831273,
          0.23268151934532028,
          0.19330884986924332,
          1.7039852840452234,
          0.26961467393311,
          0.24064507590023626,
          0.31154496600744347,
          2.969298410102777,
          0.7802404310921381,
          0.9849520508735549,
          0.9320752580563122,
          0.42343753135538104,
          0.24523459523583768,
          0.1889070897607293,
          0.26798210960579594
         ]
        },
        {
         "name": "1113196323",
         "type": "box",
         "y": [
          1.1009336431662284,
          1.1243140079651757,
          0.9411943713061189,
          0.7266544478592422,
          0.9866661906647763,
          1.2837542672778606,
          1.3677920595339847,
          0.9763467707043956,
          0.9196879410155948,
          0.46936375570987227,
          1.1693804899331341,
          0.8987432760058006,
          1.259898474767045,
          1.0435751177930672,
          1.6454646751194637,
          0.8304209849982511,
          1.0206261212750103,
          0.871115814520968,
          0.8983118444525567,
          1.1427239949970123,
          0.9422409527377572,
          0.7688738086808352,
          0.6188759858277157,
          0.6736247828201823,
          0.2885737630444642,
          1.2512855219838568,
          0.8685165144004012,
          0.5405577533154079,
          1.7783360861778714,
          0.7631066823077169,
          1.3940564993830529,
          0.9431275887078634,
          1.1891579457438406,
          0.6951804289204534,
          1.0818026593689611,
          0.8468720059288323
         ]
        },
        {
         "name": "1597760039",
         "type": "box",
         "y": [
          0.6796451159886386,
          0.9862056014225565,
          0.5230385591443695,
          0.548947089868177,
          0.6974442639896806,
          0.9782969611208756,
          0.5960395683046853,
          0.5164368216835783,
          0.583939252665569,
          0.5089486809189894,
          0.9956670881005601,
          1.2484116533441938,
          0.5764531565012326,
          0.6404274627398687,
          1.3478127313304857,
          0.9601912293147723,
          1.2522464229421895,
          0.7238927853101235,
          0.7232393318402252,
          0.48698549984773304,
          0.5124447160445988,
          0.39880031142855016,
          0.4167565178511315,
          0.43645416932402326,
          0.31405396153424464,
          1.0086374275417274,
          0.8323848213817462,
          0.5165896106599356,
          1.3737811955525954,
          1.2030664663946304,
          0.7025061747930194,
          0.7180031539125425,
          0.5315506593827392,
          1.1525890972956176,
          0.8254526860777112,
          0.3240333233852179
         ]
        },
        {
         "name": "317532327",
         "type": "box",
         "y": [
          1.0524194842948758,
          1.2408864812736364,
          1.0798325898769425,
          0.9621827967405846,
          1.055678878167307,
          1.3958474208064011,
          1.0733053521476035,
          0.863708003979702,
          0.8901273451506384,
          0.8035567467655724,
          0.5375455058919228,
          0.7066066693702266,
          1.3429894150200918,
          0.8702819810430771,
          1.301965758074106,
          1.0197680803526912,
          1.5629626068643037,
          1.164307679212958,
          0.8815903523630721,
          0.9398377717357004,
          0.8647247246784822,
          0.6821448104868654,
          0.663780018150138,
          0.9798033145651337,
          0.5244380693558861,
          0.9922686582999238,
          1.5590124890718435,
          0.8883681120007116,
          1.0188730879524788,
          1.1397578353160134,
          1.5765901560378077,
          1.2241513817162768,
          0.7167131752530537,
          1.0599612090559567,
          0.8796143582727055,
          0.4675921355749509
         ]
        },
        {
         "name": "346061612",
         "type": "box",
         "y": [
          1.273922296184507,
          1.5002892695812415,
          0.8089706192480767,
          0.9119749620474638,
          0.5078261205967421,
          0.6730612830884957,
          0.5635347191722425,
          0.6806559760858146,
          0.6058834461634535,
          1.9224717300597025,
          1.475372115621436,
          0.8015737976727564,
          0.6301499858403344,
          0.5887963938223295,
          1.4311430114817933,
          1.0043647815199408,
          0.6912964409778345,
          0.512162732587051,
          0.892129275256102,
          0.45831023864525783,
          0.5263295618964202,
          0.3513961512075522,
          0.3433381718413823,
          0.32350841408613806,
          2.5430232044380188,
          0.6273789981391429,
          0.32844090991533326,
          0.4754227325644408,
          4.542794010732858,
          2.3147370200793285,
          2.2841929563591794,
          1.7214355989409,
          0.7782933947937943,
          0.8582301327286854,
          0.5269481359553826,
          0.4498458765219752
         ]
        },
        {
         "name": "40333612",
         "type": "box",
         "y": [
          0.8345015381033606,
          0.5488319761432481,
          0.24723189883373622,
          0.4022054919543335,
          0.2332999815768719,
          0.17408301308352409,
          0.2241014924099412,
          0.2781907690992985,
          0.24167609802564746,
          1.3191295278245097,
          1.1050247395467128,
          0.6568790641760349,
          0.49336745299663176,
          0.3513081199458449,
          1.187747275212642,
          0.8651310808503784,
          0.5037184971692324,
          0.49174492103191775,
          0.622213507772565,
          0.2657281250611077,
          0.22844055167462612,
          0.23039132024774672,
          0.20154345248278302,
          0.19784881830798737,
          1.6674026977220495,
          0.33055109289965373,
          0.195721322535966,
          0.459720238282709,
          3.0533496529827424,
          1.1060665910433334,
          1.1162030985698483,
          0.80522498576233,
          0.559332817787152,
          0.27660559845875315,
          0.20828430872525375,
          0.39065572558704126
         ]
        },
        {
         "name": "511723709",
         "type": "box",
         "y": [
          1.000634954256397,
          0.7319182467468066,
          0.5569803648208828,
          0.49874582697388625,
          0.2409444412943076,
          0.2543501934474435,
          0.28396766722997485,
          0.4490753928365168,
          0.2981307195751535,
          1.488613163036575,
          1.2066731425514434,
          0.7961750708783335,
          0.9961527932956998,
          0.5991029614565822,
          0.9280407706225526,
          0.7994143001656818,
          0.5965592669898402,
          0.49920836998670365,
          0.586932724659338,
          0.3762815832305649,
          0.31861169196820205,
          0.24678550106508743,
          0.2579190246076713,
          0.2786154741463732,
          2.020142298237098,
          0.4724749252978605,
          0.2571576418196518,
          0.39615155962427956,
          3.1540002544652723,
          1.335489396806219,
          1.1934541533662384,
          1.068622846825934,
          0.4860810685062654,
          0.48343254218522513,
          0.2915825494357437,
          0.4734538725928486
         ]
        },
        {
         "name": "1004972352",
         "type": "box",
         "y": [
          0.5443151599221244,
          0.9798658811489879,
          0.6801730596012682,
          0.5913443493281865,
          0.7500839716402539,
          0.7176460762853986,
          0.6288274091703221,
          0.5022092882317909,
          0.3555620731831706,
          0.3326159569019523,
          0.7330702737560085,
          0.8186045083261886,
          0.6172678773866086,
          0.41892643408512203,
          1.0337779952739317,
          0.865026732626024,
          1.09802069408776,
          0.7945204078560211,
          0.5678704558952263,
          0.985142281800507,
          0.9457541324872775,
          0.7131652835384072,
          0.9842061892393116,
          0.6227552412456641,
          0.35503421407131536,
          0.6886969570552425,
          1.075095537895924,
          0.618894135903265,
          1.26255297411697,
          1.064526639178277,
          1.0249013159352256,
          1.020949823847284,
          0.455017225263825,
          1.1393605683297356,
          1.3370000779202869,
          0.3540439792764248
         ]
        },
        {
         "name": "143824576",
         "type": "box",
         "y": [
          1.0067967073850066,
          0.9159248118585129,
          0.18014148831297833,
          0.5408231915955528,
          0.2209628891686724,
          0.26753336698455893,
          0.14048321196803523,
          0.124725530411413,
          0.14541478402910024,
          1.271623009051862,
          1.3167282193187904,
          0.7541603195389914,
          0.7972746556267187,
          0.34322107151702813,
          1.3323241262977423,
          0.785653388810183,
          0.5395906445162325,
          0.531592572733301,
          0.8098590008518709,
          0.19183249448850523,
          0.21758518269809923,
          0.3501011132120887,
          0.17736165131153783,
          0.2964572956098253,
          1.7238255096804542,
          0.3547283043116791,
          0.2475570066160477,
          0.3947258245584508,
          3.0366743274812165,
          1.048440088546901,
          1.0498702376159745,
          1.1601534825888733,
          0.8094247040985091,
          0.24545167434822912,
          0.11285958747121835,
          0.32073615717816567
         ]
        },
        {
         "name": "368424646",
         "type": "box",
         "y": [
          3.1923821843955458,
          2.378831448794118,
          2.288201766242435,
          1.9423260812437415,
          2.2076840340626167,
          1.7810290674696907,
          1.7977739348140953,
          3.5394784054524737,
          1.7832935180192089,
          1.140691292840626,
          1.3859564583431667,
          0.7913642231234451,
          1.0535551179294174,
          0.8711314326690693,
          3.5527004023620714,
          2.6789506820870237,
          2.3356860532498507,
          0.9634951225260349,
          0.6761984835561335,
          0.9569039938648888,
          0.8900117290649866,
          3.6193400010252517,
          1.9855670183653698,
          1.9963693908370814,
          0.9435014299147096,
          0.9885158297036359,
          1.1427076006199188,
          1.0835523320043752,
          3.4059162109067884,
          1.4166536067861115,
          1.8076020668651915,
          0.6582250030960773,
          0.7180915912895784,
          1.3080198570239479,
          1.48279883190319,
          3.046016507357107
         ]
        },
        {
         "name": "1428227531",
         "type": "box",
         "y": [
          0.5881237535556371,
          1.324759944580326,
          0.9037184296188242,
          0.9055695178220932,
          0.8705610190033857,
          0.9632731207365571,
          0.8531584451332879,
          0.7862292253472397,
          0.620946800854758,
          0.5854827156422406,
          1.0997953117233046,
          1.2821042026468537,
          0.7513918311249694,
          0.6834856303684169,
          1.219495712353623,
          1.2808374478330602,
          1.7263002252076827,
          0.7904993126734788,
          0.8853573784169048,
          0.7763889980689109,
          0.818744889318798,
          0.4879441325230321,
          0.4604479254945436,
          0.44995438904046087,
          0.5011291933298918,
          1.0885340692575354,
          0.7975939140319115,
          0.26159094714931835,
          2.071817124311779,
          1.1684991367938298,
          1.2844673059565763,
          0.6911888316539739,
          0.611548776680001,
          1.5055873604449752,
          1.156189783433962,
          0.5270517634978
         ]
        },
        {
         "name": "2040495184",
         "type": "box",
         "y": [
          0.6164082845670485,
          1.0362486174419574,
          0.6831124015075681,
          0.6684468163122899,
          0.6523007519986034,
          1.032680778323574,
          0.802372759813332,
          0.7237025224448352,
          0.7290714931461425,
          0.4626753142348808,
          0.8691618472316863,
          0.7732796967531363,
          0.7530822523336793,
          0.7168174910177908,
          1.1823184190476215,
          1.2480552347104825,
          1.6556666807266007,
          0.8267405907177233,
          0.672748028829375,
          0.7619468094431266,
          0.679269953474429,
          0.5480324843659198,
          0.2726278269950248,
          0.43576035563268495,
          0.3377005400215477,
          0.6818676069662608,
          0.7241186781959333,
          0.5204094911097352,
          1.637668324366637,
          1.3025584484260855,
          1.1180593559215606,
          0.7798459691087892,
          0.8225489869475519,
          1.571703122139473,
          0.7773007931070774,
          0.4434320748072244
         ]
        },
        {
         "name": "1893337300",
         "type": "box",
         "y": [
          0.706576009275136,
          0.920155778823031,
          0.647767809522681,
          0.5141626129927789,
          0.85553612948027,
          1.0519574650788177,
          0.6407103644376486,
          0.38419326741075616,
          0.35496398798537176,
          0.38696825326742534,
          0.5973065337869871,
          0.6805346638620428,
          0.7455856426742716,
          0.4399717135826888,
          1.1580519735326902,
          0.9413309086388439,
          1.4612677143374866,
          0.5717113533329635,
          0.5900710287593193,
          0.5887658264148724,
          0.4750530314053657,
          0.3673181309462318,
          0.3677070815199544,
          0.41122180885316284,
          0.5297998355735329,
          1.25891001216477,
          0.4567213660227571,
          0.6008445776378583,
          2.165109345767062,
          1.4166660555824322,
          0.8783344008114659,
          0.7751412307593938,
          0.6717590361231226,
          0.9781540394816606,
          0.7642921739406842,
          0.4046576565164525
         ]
        },
        {
         "name": "2117861717",
         "type": "box",
         "y": [
          0.7611005422498603,
          0.7695540427819064,
          0.26129587326506937,
          0.6405689044739553,
          0.19147549506720882,
          0.2752507514959536,
          0.2538811835034945,
          0.22549636167122003,
          0.2938299798676861,
          1.4418818842446801,
          0.7105926576997248,
          0.8903773329924572,
          0.7157060699522944,
          0.3646919451979442,
          0.7403888219808433,
          0.8719513134635293,
          0.31964074645626184,
          0.37547703927371284,
          0.6282334649310799,
          0.20001539854642905,
          0.19970807194918438,
          0.18452331311749984,
          0.14948765286923008,
          0.15504337712458297,
          1.6975360002915216,
          0.32854002069901717,
          0.19547331757921285,
          0.2888524128436542,
          3.1394611563670987,
          0.9471806840429097,
          0.9993914039893358,
          0.6805683591056557,
          0.4468968197929863,
          0.2678601596311569,
          0.17195026358783091,
          0.2712797424326699
         ]
        },
        {
         "name": "1941427679",
         "type": "box",
         "y": [
          1.1415209602117784,
          1.3245318016473877,
          0.5991634318337301,
          0.6138226792025564,
          0.3410520494730384,
          0.32828688724612315,
          0.4271888799365082,
          0.5157961802952811,
          0.471441653247386,
          1.6883429565920018,
          1.1464378993371809,
          1.3014570299362347,
          0.8729110191162777,
          0.664551280673351,
          0.9953939579509398,
          1.1083005280922376,
          0.6824920676787268,
          0.7730540244316172,
          0.7251903759366802,
          0.41346627395673247,
          0.3566020071295619,
          0.36274412589659516,
          0.318617080245802,
          0.3307939411515652,
          2.53591664587693,
          0.844462615547563,
          0.40303704015445085,
          0.4057419419253743,
          3.893302388056799,
          1.8076185008735826,
          1.5150833498691585,
          0.8037915855951835,
          0.6794730675998762,
          0.7020153183991475,
          0.4232052766059458,
          0.5005601327436204
         ]
        },
        {
         "name": "1708098535",
         "type": "box",
         "y": [
          0.9131972611148659,
          0.8735224393163235,
          0.4123415907112253,
          0.7275815783258491,
          0.15428011380713583,
          0.2548573384619951,
          0.19135616293223603,
          0.25591544744930533,
          0.27761828665306465,
          1.3975934692682124,
          1.0570432359928381,
          0.7027011481060447,
          0.42686001743838103,
          0.26796993500592836,
          1.057927736791388,
          1.1005726937330027,
          0.2752167064504131,
          0.32262365630889916,
          0.9831169745537991,
          0.22363846900067938,
          0.20438187863134477,
          0.20768777260103227,
          0.1478349129941526,
          0.1641908857738101,
          1.7883957818741725,
          0.33701912279480223,
          0.22345202740161052,
          0.2471768297917715,
          3.702760891098179,
          1.7523163816008438,
          0.5390563552621092,
          0.9276637173102398,
          0.7352276909724943,
          0.22815699838088602,
          0.21815522811665455,
          0.24011749821025385
         ]
        },
        {
         "name": "456209269",
         "type": "box",
         "y": [
          0.9229707459617761,
          0.676154006240833,
          0.2731915391819147,
          0.40537931386056564,
          0.2185973607624149,
          0.25404091041961224,
          0.2320894302292073,
          0.28092357592246153,
          0.24516322195309165,
          1.3940087870309164,
          0.8997520790846317,
          0.7339415192158137,
          0.49189573198488734,
          0.3893133940781251,
          0.8463259754709789,
          0.9049163823013506,
          0.36987497554042786,
          0.3978649301635865,
          0.5060460046423376,
          0.28520105112906724,
          0.20797444807416438,
          0.3591530047327821,
          0.2679192967647703,
          0.2665141961766349,
          1.917413046138646,
          0.4073808902157043,
          0.3181425839310819,
          0.3395609408546047,
          3.532666791141957,
          1.2191557338964134,
          0.9885336908752443,
          0.9501193752709349,
          0.46756938287897765,
          0.29200708371370926,
          0.18271534947894433,
          0.35405633728228547
         ]
        }
       ],
       "layout": {
        "showlegend": false,
        "template": {
         "data": {
          "bar": [
           {
            "error_x": {
             "color": "#2a3f5f"
            },
            "error_y": {
             "color": "#2a3f5f"
            },
            "marker": {
             "line": {
              "color": "#E5ECF6",
              "width": 0.5
             }
            },
            "type": "bar"
           }
          ],
          "barpolar": [
           {
            "marker": {
             "line": {
              "color": "#E5ECF6",
              "width": 0.5
             }
            },
            "type": "barpolar"
           }
          ],
          "carpet": [
           {
            "aaxis": {
             "endlinecolor": "#2a3f5f",
             "gridcolor": "white",
             "linecolor": "white",
             "minorgridcolor": "white",
             "startlinecolor": "#2a3f5f"
            },
            "baxis": {
             "endlinecolor": "#2a3f5f",
             "gridcolor": "white",
             "linecolor": "white",
             "minorgridcolor": "white",
             "startlinecolor": "#2a3f5f"
            },
            "type": "carpet"
           }
          ],
          "choropleth": [
           {
            "colorbar": {
             "outlinewidth": 0,
             "ticks": ""
            },
            "type": "choropleth"
           }
          ],
          "contour": [
           {
            "colorbar": {
             "outlinewidth": 0,
             "ticks": ""
            },
            "colorscale": [
             [
              0,
              "#0d0887"
             ],
             [
              0.1111111111111111,
              "#46039f"
             ],
             [
              0.2222222222222222,
              "#7201a8"
             ],
             [
              0.3333333333333333,
              "#9c179e"
             ],
             [
              0.4444444444444444,
              "#bd3786"
             ],
             [
              0.5555555555555556,
              "#d8576b"
             ],
             [
              0.6666666666666666,
              "#ed7953"
             ],
             [
              0.7777777777777778,
              "#fb9f3a"
             ],
             [
              0.8888888888888888,
              "#fdca26"
             ],
             [
              1,
              "#f0f921"
             ]
            ],
            "type": "contour"
           }
          ],
          "contourcarpet": [
           {
            "colorbar": {
             "outlinewidth": 0,
             "ticks": ""
            },
            "type": "contourcarpet"
           }
          ],
          "heatmap": [
           {
            "colorbar": {
             "outlinewidth": 0,
             "ticks": ""
            },
            "colorscale": [
             [
              0,
              "#0d0887"
             ],
             [
              0.1111111111111111,
              "#46039f"
             ],
             [
              0.2222222222222222,
              "#7201a8"
             ],
             [
              0.3333333333333333,
              "#9c179e"
             ],
             [
              0.4444444444444444,
              "#bd3786"
             ],
             [
              0.5555555555555556,
              "#d8576b"
             ],
             [
              0.6666666666666666,
              "#ed7953"
             ],
             [
              0.7777777777777778,
              "#fb9f3a"
             ],
             [
              0.8888888888888888,
              "#fdca26"
             ],
             [
              1,
              "#f0f921"
             ]
            ],
            "type": "heatmap"
           }
          ],
          "heatmapgl": [
           {
            "colorbar": {
             "outlinewidth": 0,
             "ticks": ""
            },
            "colorscale": [
             [
              0,
              "#0d0887"
             ],
             [
              0.1111111111111111,
              "#46039f"
             ],
             [
              0.2222222222222222,
              "#7201a8"
             ],
             [
              0.3333333333333333,
              "#9c179e"
             ],
             [
              0.4444444444444444,
              "#bd3786"
             ],
             [
              0.5555555555555556,
              "#d8576b"
             ],
             [
              0.6666666666666666,
              "#ed7953"
             ],
             [
              0.7777777777777778,
              "#fb9f3a"
             ],
             [
              0.8888888888888888,
              "#fdca26"
             ],
             [
              1,
              "#f0f921"
             ]
            ],
            "type": "heatmapgl"
           }
          ],
          "histogram": [
           {
            "marker": {
             "colorbar": {
              "outlinewidth": 0,
              "ticks": ""
             }
            },
            "type": "histogram"
           }
          ],
          "histogram2d": [
           {
            "colorbar": {
             "outlinewidth": 0,
             "ticks": ""
            },
            "colorscale": [
             [
              0,
              "#0d0887"
             ],
             [
              0.1111111111111111,
              "#46039f"
             ],
             [
              0.2222222222222222,
              "#7201a8"
             ],
             [
              0.3333333333333333,
              "#9c179e"
             ],
             [
              0.4444444444444444,
              "#bd3786"
             ],
             [
              0.5555555555555556,
              "#d8576b"
             ],
             [
              0.6666666666666666,
              "#ed7953"
             ],
             [
              0.7777777777777778,
              "#fb9f3a"
             ],
             [
              0.8888888888888888,
              "#fdca26"
             ],
             [
              1,
              "#f0f921"
             ]
            ],
            "type": "histogram2d"
           }
          ],
          "histogram2dcontour": [
           {
            "colorbar": {
             "outlinewidth": 0,
             "ticks": ""
            },
            "colorscale": [
             [
              0,
              "#0d0887"
             ],
             [
              0.1111111111111111,
              "#46039f"
             ],
             [
              0.2222222222222222,
              "#7201a8"
             ],
             [
              0.3333333333333333,
              "#9c179e"
             ],
             [
              0.4444444444444444,
              "#bd3786"
             ],
             [
              0.5555555555555556,
              "#d8576b"
             ],
             [
              0.6666666666666666,
              "#ed7953"
             ],
             [
              0.7777777777777778,
              "#fb9f3a"
             ],
             [
              0.8888888888888888,
              "#fdca26"
             ],
             [
              1,
              "#f0f921"
             ]
            ],
            "type": "histogram2dcontour"
           }
          ],
          "mesh3d": [
           {
            "colorbar": {
             "outlinewidth": 0,
             "ticks": ""
            },
            "type": "mesh3d"
           }
          ],
          "parcoords": [
           {
            "line": {
             "colorbar": {
              "outlinewidth": 0,
              "ticks": ""
             }
            },
            "type": "parcoords"
           }
          ],
          "pie": [
           {
            "automargin": true,
            "type": "pie"
           }
          ],
          "scatter": [
           {
            "marker": {
             "colorbar": {
              "outlinewidth": 0,
              "ticks": ""
             }
            },
            "type": "scatter"
           }
          ],
          "scatter3d": [
           {
            "line": {
             "colorbar": {
              "outlinewidth": 0,
              "ticks": ""
             }
            },
            "marker": {
             "colorbar": {
              "outlinewidth": 0,
              "ticks": ""
             }
            },
            "type": "scatter3d"
           }
          ],
          "scattercarpet": [
           {
            "marker": {
             "colorbar": {
              "outlinewidth": 0,
              "ticks": ""
             }
            },
            "type": "scattercarpet"
           }
          ],
          "scattergeo": [
           {
            "marker": {
             "colorbar": {
              "outlinewidth": 0,
              "ticks": ""
             }
            },
            "type": "scattergeo"
           }
          ],
          "scattergl": [
           {
            "marker": {
             "colorbar": {
              "outlinewidth": 0,
              "ticks": ""
             }
            },
            "type": "scattergl"
           }
          ],
          "scattermapbox": [
           {
            "marker": {
             "colorbar": {
              "outlinewidth": 0,
              "ticks": ""
             }
            },
            "type": "scattermapbox"
           }
          ],
          "scatterpolar": [
           {
            "marker": {
             "colorbar": {
              "outlinewidth": 0,
              "ticks": ""
             }
            },
            "type": "scatterpolar"
           }
          ],
          "scatterpolargl": [
           {
            "marker": {
             "colorbar": {
              "outlinewidth": 0,
              "ticks": ""
             }
            },
            "type": "scatterpolargl"
           }
          ],
          "scatterternary": [
           {
            "marker": {
             "colorbar": {
              "outlinewidth": 0,
              "ticks": ""
             }
            },
            "type": "scatterternary"
           }
          ],
          "surface": [
           {
            "colorbar": {
             "outlinewidth": 0,
             "ticks": ""
            },
            "colorscale": [
             [
              0,
              "#0d0887"
             ],
             [
              0.1111111111111111,
              "#46039f"
             ],
             [
              0.2222222222222222,
              "#7201a8"
             ],
             [
              0.3333333333333333,
              "#9c179e"
             ],
             [
              0.4444444444444444,
              "#bd3786"
             ],
             [
              0.5555555555555556,
              "#d8576b"
             ],
             [
              0.6666666666666666,
              "#ed7953"
             ],
             [
              0.7777777777777778,
              "#fb9f3a"
             ],
             [
              0.8888888888888888,
              "#fdca26"
             ],
             [
              1,
              "#f0f921"
             ]
            ],
            "type": "surface"
           }
          ],
          "table": [
           {
            "cells": {
             "fill": {
              "color": "#EBF0F8"
             },
             "line": {
              "color": "white"
             }
            },
            "header": {
             "fill": {
              "color": "#C8D4E3"
             },
             "line": {
              "color": "white"
             }
            },
            "type": "table"
           }
          ]
         },
         "layout": {
          "annotationdefaults": {
           "arrowcolor": "#2a3f5f",
           "arrowhead": 0,
           "arrowwidth": 1
          },
          "autotypenumbers": "strict",
          "coloraxis": {
           "colorbar": {
            "outlinewidth": 0,
            "ticks": ""
           }
          },
          "colorscale": {
           "diverging": [
            [
             0,
             "#8e0152"
            ],
            [
             0.1,
             "#c51b7d"
            ],
            [
             0.2,
             "#de77ae"
            ],
            [
             0.3,
             "#f1b6da"
            ],
            [
             0.4,
             "#fde0ef"
            ],
            [
             0.5,
             "#f7f7f7"
            ],
            [
             0.6,
             "#e6f5d0"
            ],
            [
             0.7,
             "#b8e186"
            ],
            [
             0.8,
             "#7fbc41"
            ],
            [
             0.9,
             "#4d9221"
            ],
            [
             1,
             "#276419"
            ]
           ],
           "sequential": [
            [
             0,
             "#0d0887"
            ],
            [
             0.1111111111111111,
             "#46039f"
            ],
            [
             0.2222222222222222,
             "#7201a8"
            ],
            [
             0.3333333333333333,
             "#9c179e"
            ],
            [
             0.4444444444444444,
             "#bd3786"
            ],
            [
             0.5555555555555556,
             "#d8576b"
            ],
            [
             0.6666666666666666,
             "#ed7953"
            ],
            [
             0.7777777777777778,
             "#fb9f3a"
            ],
            [
             0.8888888888888888,
             "#fdca26"
            ],
            [
             1,
             "#f0f921"
            ]
           ],
           "sequentialminus": [
            [
             0,
             "#0d0887"
            ],
            [
             0.1111111111111111,
             "#46039f"
            ],
            [
             0.2222222222222222,
             "#7201a8"
            ],
            [
             0.3333333333333333,
             "#9c179e"
            ],
            [
             0.4444444444444444,
             "#bd3786"
            ],
            [
             0.5555555555555556,
             "#d8576b"
            ],
            [
             0.6666666666666666,
             "#ed7953"
            ],
            [
             0.7777777777777778,
             "#fb9f3a"
            ],
            [
             0.8888888888888888,
             "#fdca26"
            ],
            [
             1,
             "#f0f921"
            ]
           ]
          },
          "colorway": [
           "#636efa",
           "#EF553B",
           "#00cc96",
           "#ab63fa",
           "#FFA15A",
           "#19d3f3",
           "#FF6692",
           "#B6E880",
           "#FF97FF",
           "#FECB52"
          ],
          "font": {
           "color": "#2a3f5f"
          },
          "geo": {
           "bgcolor": "white",
           "lakecolor": "white",
           "landcolor": "#E5ECF6",
           "showlakes": true,
           "showland": true,
           "subunitcolor": "white"
          },
          "hoverlabel": {
           "align": "left"
          },
          "hovermode": "closest",
          "mapbox": {
           "style": "light"
          },
          "paper_bgcolor": "white",
          "plot_bgcolor": "#E5ECF6",
          "polar": {
           "angularaxis": {
            "gridcolor": "white",
            "linecolor": "white",
            "ticks": ""
           },
           "bgcolor": "#E5ECF6",
           "radialaxis": {
            "gridcolor": "white",
            "linecolor": "white",
            "ticks": ""
           }
          },
          "scene": {
           "xaxis": {
            "backgroundcolor": "#E5ECF6",
            "gridcolor": "white",
            "gridwidth": 2,
            "linecolor": "white",
            "showbackground": true,
            "ticks": "",
            "zerolinecolor": "white"
           },
           "yaxis": {
            "backgroundcolor": "#E5ECF6",
            "gridcolor": "white",
            "gridwidth": 2,
            "linecolor": "white",
            "showbackground": true,
            "ticks": "",
            "zerolinecolor": "white"
           },
           "zaxis": {
            "backgroundcolor": "#E5ECF6",
            "gridcolor": "white",
            "gridwidth": 2,
            "linecolor": "white",
            "showbackground": true,
            "ticks": "",
            "zerolinecolor": "white"
           }
          },
          "shapedefaults": {
           "line": {
            "color": "#2a3f5f"
           }
          },
          "ternary": {
           "aaxis": {
            "gridcolor": "white",
            "linecolor": "white",
            "ticks": ""
           },
           "baxis": {
            "gridcolor": "white",
            "linecolor": "white",
            "ticks": ""
           },
           "bgcolor": "#E5ECF6",
           "caxis": {
            "gridcolor": "white",
            "linecolor": "white",
            "ticks": ""
           }
          },
          "title": {
           "x": 0.05
          },
          "xaxis": {
           "automargin": true,
           "gridcolor": "white",
           "linecolor": "white",
           "ticks": "",
           "title": {
            "standoff": 15
           },
           "zerolinecolor": "white",
           "zerolinewidth": 2
          },
          "yaxis": {
           "automargin": true,
           "gridcolor": "white",
           "linecolor": "white",
           "ticks": "",
           "title": {
            "standoff": 15
           },
           "zerolinecolor": "white",
           "zerolinewidth": 2
          }
         }
        },
        "title": {
         "text": "LSTM"
        },
        "xaxis": {
         "title": {
          "text": "Time series"
         }
        },
        "yaxis": {
         "title": {
          "text": "MASE distribution"
         }
        }
       }
      },
      "text/html": [
       "<div>                            <div id=\"666fd364-c21a-4171-ab7b-e9ed3af1d2fb\" class=\"plotly-graph-div\" style=\"height:525px; width:100%;\"></div>            <script type=\"text/javascript\">                require([\"plotly\"], function(Plotly) {                    window.PLOTLYENV=window.PLOTLYENV || {};                                    if (document.getElementById(\"666fd364-c21a-4171-ab7b-e9ed3af1d2fb\")) {                    Plotly.newPlot(                        \"666fd364-c21a-4171-ab7b-e9ed3af1d2fb\",                        [{\"name\": \"grid\", \"type\": \"box\", \"y\": [1.23547745107944, 1.1171429020335122, 0.7993274321385548, 2.1183795343935286, 1.3654891288518574, 1.6989868378112882, 2.136336256443193, 1.2464064115386664, 1.2955410825714222, 0.7400306503522828, 0.7036381697845254, 1.1393532583725903, 1.92668375728067, 1.8386193050825739, 1.770227352937064, 0.880602900359924, 1.4034838598729507, 0.7868948666647183, 2.2941460958013953, 1.678766431123849, 1.9676526113571438, 1.2715129122100806, 1.3142094996562086, 0.8946901131977759, 0.7833009868244336, 1.185205404608998, 1.4496242597059354, 1.3694847353739186, 3.583397694767865, 2.8223650979252968, 1.2001564873190311, 0.6941539591930219, 1.5868498558438444, 1.506019136246795, 1.875881845915804, 1.1764035715417063]}, {\"name\": \"tline_1\", \"type\": \"box\", \"y\": [1.1062047297791726, 1.282747228903166, 1.5544766494181592, 0.6352868504549711, 0.5604423005356051, 0.2723407034305153, 0.22719624263455754, 0.3080355959099372, 0.271551238465374, 1.7227678613142756, 0.5971839325977256, 1.2813101647612837, 1.6634663961982543, 0.2918627836914842, 1.2782822958509283, 1.0924409660922738, 0.6872159777415876, 0.45361192697393565, 1.070004672132278, 0.7618006568769919, 0.3548392884206618, 0.26453741971512296, 0.24277454498978557, 0.2546423729409727, 2.156359928447824, 2.180572472272555, 0.448132095908153, 0.48322700833425886, 4.524385559477933, 1.7353073944630635, 1.3799585183063836, 0.8702033235510263, 0.7542609911818665, 0.6187649428607116, 0.3242253864260629, 0.5344037254712314]}, {\"name\": \"tline_2\", \"type\": \"box\", \"y\": [1.2978134500500507, 1.2458381014309547, 1.0058596465479546, 2.8568826137166092, 1.370176892621966, 2.0683213641470486, 1.6322065323736472, 1.398109806091513, 1.182523449563804, 0.7868359478751497, 0.9707506730240395, 1.448413964293204, 2.2239194873392583, 2.008223954688142, 1.68142029761467, 0.7293469967078844, 1.79525019055048, 1.041322017061723, 2.232460317540966, 2.4017195533091145, 1.7015701285242846, 1.1235871931008554, 1.400044523622789, 0.6868746092505581, 1.723296249545219, 1.084843965347022, 1.2257502091658676, 1.661406815110174, 2.7745542088135933, 3.352755810101963, 1.146858275131281, 0.9938526665888852, 1.4019966077114236, 1.3988614283176288, 1.8065079409729425, 1.0732047813273022]}, {\"name\": \"substation1\", \"type\": \"box\", \"y\": [1.151245023416995, 1.470592539909257, 1.6198247630474363, 0.6478475345288112, 0.5217078800493151, 0.28384753498163395, 0.2580667527322779, 0.21637338688261515, 0.14142175806697863, 1.6758451249495239, 0.7072583254588315, 1.0653175804970954, 1.9868108831156908, 0.36360518401197445, 1.327717092770955, 1.099825794855976, 0.44013105632464883, 0.40329743954517705, 1.2499211173650175, 0.9516274179710563, 0.27244974017829854, 0.24399895963495952, 0.16643431577987955, 0.1126214883556839, 2.209084857930344, 2.325298976420175, 0.3437555080235862, 0.42233616825643105, 4.493310109814379, 1.3779042405006352, 1.4553545083517343, 1.5834608610678864, 0.7254283498108517, 0.7960878644135295, 0.14294387938298375, 0.3522213324693911]}, {\"name\": \"substation2\", \"type\": \"box\", \"y\": [0.9986941539819154, 0.9198060849059121, 1.536533451539841, 0.570817365665713, 0.8040160247693269, 0.2924979289287644, 0.3401059751283967, 0.3149584265851149, 0.30293494933140236, 1.533590121402837, 0.6180282808629908, 1.2168215317799518, 2.0442437338514834, 0.5450979132416722, 1.2665069731902656, 0.7104691873060557, 0.6001758684990504, 0.4855996832723687, 0.9011729226966013, 0.7406785032552798, 0.5406422897028578, 0.3445656664426582, 0.333608196717693, 0.34365258396025417, 1.8196080616502908, 1.4819379951622884, 0.4285137060041201, 0.5741960283453806, 4.146737184783236, 1.7174164674135886, 0.9428881486449627, 1.179166439282379, 0.558621912970311, 0.5943570442927372, 0.34999813928950185, 0.5261478572423851]}, {\"name\": \"substation3\", \"type\": \"box\", \"y\": [1.4464571318190025, 0.877934619778002, 0.8618781963455108, 2.908653031997035, 0.7055781961714516, 1.7192102128909086, 1.7124601683333225, 1.6092602188639125, 1.0704861168922426, 0.8233084045881249, 0.7877576898721314, 1.0553883076082609, 2.414019189399141, 1.2281498008961063, 1.7715611196012024, 0.7210794768393617, 1.5889550809641868, 1.1291290521491533, 2.417988676199537, 2.248921810951745, 0.9954162741818913, 1.2267160674538915, 1.2452136537447551, 0.7944019622321437, 1.3818872108005256, 0.7558682052965768, 0.9148535924169598, 1.8344924534454736, 2.9466542215956077, 3.2079791255691874, 1.2070131816473564, 0.7989930361843472, 1.082047011084324, 1.4901580476441691, 2.176692394036085, 1.595130799352839]}, {\"name\": \"substation4\", \"type\": \"box\", \"y\": [0.7861113579308069, 0.9556458416824422, 1.455238586429482, 0.24692763943772134, 0.6834070879456832, 0.9204087063776972, 1.469992520283903, 0.5719238669370126, 0.7292652769911856, 0.5065982155707734, 0.5608751893184645, 1.3143658787258645, 0.6328104515488056, 0.489971943911012, 1.2754355049682238, 1.1424004835422161, 1.220201515947658, 0.97820626560012, 0.5168969643751964, 0.5866395785094012, 0.6659272743271355, 0.3097009327747791, 1.0113991675525607, 0.5201956137389792, 0.624192770416926, 0.6895856062708167, 1.0856776777776718, 0.5726272141805816, 2.2317836267332587, 1.9184440744381388, 0.6507659405521492, 0.7461234118526084, 1.0151116122153057, 0.9988787557343809, 1.2052944999489572, 0.9026466284886052]}, {\"name\": \"6010\", \"type\": \"box\", \"y\": [0.9013351309137972, 0.8373897783088612, 0.5059745856845409, 0.6130669161664558, 0.09691697871701306, 0.23832340057236942, 0.15486602957385284, 0.1741259911197191, 0.19992299140158026, 1.4353169386214824, 0.9044267893713386, 0.6880738161355379, 0.5810260700139478, 0.3022377900858818, 1.078227605523497, 0.9071849322708136, 0.5488566875606694, 0.43382470246298405, 0.8828553489544994, 0.26672761671876893, 0.17704618441737452, 0.19361976736442998, 0.16386576857792592, 0.19785557432945367, 1.855630943251491, 0.3375984004862585, 0.25507740818864627, 0.28068983871381764, 3.322429162944933, 1.44769890480756, 0.9338516703881954, 0.8325136412834576, 0.5585785282352306, 0.40967402517833484, 0.3006385838150475, 0.28228703697543084]}, {\"name\": \"6014\", \"type\": \"box\", \"y\": [1.1139169013431058, 0.9992510821185724, 0.5051165047762379, 0.6509747523785404, 0.2155660940162347, 0.26695700995346006, 0.26657141203784335, 0.3085848549207954, 0.3262301427677894, 1.7374976025793907, 1.1820131696613558, 0.8839966733534109, 0.7089226298441398, 0.5649947381391295, 1.1127449960962188, 0.9361533509468848, 0.5748531982122312, 0.4623214572486502, 0.876382103392776, 0.3768306449940475, 0.3371608303018444, 0.2864543839370586, 0.26783822856395906, 0.22270956445599435, 2.4132901131836646, 0.6036072627457719, 0.24371219010673154, 0.28235060782661187, 4.0740961185422755, 0.9562719122548008, 1.4089029132729713, 0.9087280012947572, 0.6595599969043237, 0.40600190543824866, 0.3367184636317668, 0.4175295676233092]}, {\"name\": \"6011\", \"type\": \"box\", \"y\": [0.8349764365269012, 0.7137576130029952, 0.326308962515122, 0.40339950056520174, 0.23782911575630342, 0.21307523532830314, 0.2124914256991142, 0.25018545125970393, 0.17108425530257937, 1.3833063438353261, 0.834366908600215, 0.8666720192281012, 0.8034457717956617, 0.2968964759737626, 1.0777762152309125, 0.925050560409192, 0.556837083123439, 0.44281621555328254, 0.5797927413910475, 0.32134636094667385, 0.25499936620765296, 0.292360823671865, 0.2534036215735965, 0.2062655402270687, 1.8174172503760848, 0.46081272793928224, 0.22559875858092998, 0.3251904787338128, 3.778450546692656, 1.393797154762423, 0.8788517104457769, 0.7071459133420209, 0.5137167651729327, 0.33549825296253355, 0.23975249031151286, 0.3836607330134701]}, {\"name\": \"6280\", \"type\": \"box\", \"y\": [1.3653907038171782, 1.843549051034373, 1.1282958128056404, 2.221042751060412, 0.40699727252622175, 1.8595201958734684, 2.019869595068994, 1.0507054939136022, 1.4485427681812564, 1.0649900337031124, 1.0990406838680598, 1.1116775183144363, 1.531337724520064, 1.3241737050467524, 1.5587703799926818, 1.4022870002856962, 2.2727632046337694, 0.9524783771468525, 1.2250183630734928, 1.4925561459112406, 1.3144131911732388, 1.1773636709804456, 1.6594937910787986, 1.1428509861770713, 0.4133666415555937, 1.0412660302708576, 2.070902075057343, 1.9748350298928454, 2.4921087925601375, 1.4459117739646425, 1.1795330957615164, 0.6359540052174087, 0.8733180300086898, 1.3143783278555132, 1.6023967373632444, 0.8565277617255116]}, {\"name\": \"6281\", \"type\": \"box\", \"y\": [1.0419283539237416, 1.04642593206608, 0.47387076151004726, 0.5017745305400766, 0.3707163375593328, 0.5601024258368288, 1.0473786091153092, 0.6867505744093613, 0.7900201767773714, 0.5810328592232396, 0.6121448500865095, 1.3515608940896333, 0.6757532133815548, 0.7144538672273877, 1.3122439295217685, 0.49640449735795666, 0.5302654479057225, 0.7668368334237171, 0.35726988908395907, 1.1833779602294732, 0.39599549091354797, 0.4903213934722828, 0.7415792391508422, 0.7356182137839639, 0.739133663787327, 0.7674686168517321, 0.3276053605935277, 0.7320740306221724, 1.4502817183611298, 0.7923063995665535, 0.8846329888908245, 0.5633019489262494, 0.906505476501393, 0.8508677623643883, 0.48452771356308233, 0.28540529836604017]}, {\"name\": \"6284\", \"type\": \"box\", \"y\": [0.6447383010012607, 0.9362484468340805, 0.41715238491155354, 0.46073817225364033, 0.7524665858026172, 0.9429054700457231, 0.7631511492934532, 0.48209836201456496, 0.47177254232747357, 0.7107043824272937, 0.5830900237955171, 0.6508754554824902, 0.6123070094228169, 0.3212079759442606, 1.1825293825990684, 1.0666413414966116, 1.4713053745302518, 0.5778081509941135, 0.5153828553229475, 0.6159259011518949, 0.49570417839587283, 0.33587801992151883, 0.4516564872558214, 0.4023379375035986, 0.3475948367772507, 0.8996629326938879, 0.7163250305185553, 0.6617771804669875, 1.5989855072753485, 1.0452986027958815, 0.36013718434681746, 0.8396578286123735, 0.48215507909237393, 0.919210034048974, 0.7682618763342012, 0.3735009079931249]}, {\"name\": \"1295864320\", \"type\": \"box\", \"y\": [0.7642981869310421, 1.9960219751447916, 0.9788025487875058, 1.0597072636644482, 0.8512783815541282, 1.4112161070330287, 1.5653437552554461, 1.531199048596236, 1.150441309499534, 0.8341090104466019, 0.7765773600350346, 1.0684860814661528, 0.9442029958270127, 0.869732387766729, 1.4607277397850174, 0.8217408610408778, 2.755191096091234, 1.1542200165204932, 1.0680058749186943, 0.9090342868932627, 1.1360468776523167, 0.6590333549407376, 1.4945824758643675, 0.8913140160210437, 0.43551250150023085, 1.0381674809745876, 1.2585058816970098, 0.7642102217066048, 1.732356750563042, 1.1361034454866592, 2.2344073135522544, 0.9072027526932803, 1.1863276736285475, 1.3795332606280666, 1.2422590565014786, 0.544688963192652]}, {\"name\": \"1247421966\", \"type\": \"box\", \"y\": [1.0161988503286556, 0.7936246987772944, 0.2339519008240683, 0.474298892255182, 0.20978415710618872, 0.24575582315874261, 0.1525978078302291, 0.1711001755922516, 0.24865579390463963, 1.5698434651829378, 0.7776544249101084, 0.9015650312709076, 0.5528448468945861, 0.38616024964978296, 1.0427434793067165, 0.809970057677884, 0.3788744451396397, 0.46245531362995035, 0.8762763085361067, 0.25672614762511625, 0.20646824131832384, 0.17249231987808522, 0.25348336045770686, 0.1981290271524483, 1.9697826327762733, 0.46327163143609357, 0.21772195879021203, 0.2868596670495419, 2.818121443583389, 1.0313671613361624, 1.1270742356307342, 0.6695817948082532, 0.5073068208425235, 0.24878382921835973, 0.21464456796002027, 0.46403868546605026]}, {\"name\": \"2107373071\", \"type\": \"box\", \"y\": [1.2079847888426694, 1.4594787777877447, 0.8940017209925278, 0.857806670153414, 0.45391551828112586, 0.4552442788513589, 0.4936396620903105, 0.577217353551777, 0.5342081290153488, 1.8350421534089087, 1.0987758527324583, 1.1390099916601018, 1.0564287158015757, 0.8833998069682708, 1.2408582272486675, 1.5131228429755408, 0.9562735525799858, 0.6292637054899803, 0.9386622756472216, 0.631427399052612, 0.5317724664886481, 0.48887066363485576, 0.42535684298137993, 0.4739077414205196, 2.322551250838282, 0.554418565436897, 0.5629588203499932, 0.5970257065817298, 4.8454563930738015, 2.197380346762953, 0.9725321723213921, 1.0078794844906678, 0.6944002690810799, 0.5458955954563307, 0.4121765720250525, 0.2953063866317601]}, {\"name\": \"2009066518\", \"type\": \"box\", \"y\": [0.76403718472287, 0.8965526138633327, 0.5151690710568125, 0.7559074605550186, 0.6535768311571628, 1.198452316572025, 0.9696862189374649, 0.7956923613767757, 0.5934551834833874, 0.48197018172894207, 1.1167309761938484, 0.8019784406234453, 0.7543492847895373, 0.5149887833666306, 1.202218605009777, 1.094208876423005, 1.5475622186053264, 0.7442270487336555, 1.005469781607961, 0.8379898145597648, 0.7961737540583605, 0.6925337243718859, 0.38146630487774325, 0.5557561791670843, 0.5887009389460787, 0.8746336529517643, 0.9040363311881677, 0.5480806091218199, 1.8546350165785221, 1.4425458094012529, 1.2057448148101773, 0.6245915923601133, 0.6847435438426476, 1.4987248721369386, 0.6251715705612869, 0.3474388884023369]}, {\"name\": \"972102295\", \"type\": \"box\", \"y\": [0.7638273736446067, 0.7999585024616344, 0.40635381772690043, 0.5009387789887485, 0.5127738951651912, 0.7422321134200743, 1.1416145539933378, 0.4698546409648211, 1.174390318473033, 0.834060193475573, 0.6110841699453049, 0.7196268671420913, 0.7570400994371173, 0.6864363520550306, 1.2387079733159752, 0.4952471019378209, 0.4665018230098584, 0.7526437529726585, 0.4621075650776216, 1.1564761167937032, 0.4620722279761938, 0.5483122638270982, 0.7369511300435718, 0.6765011766996808, 0.8633671182145612, 0.5407625226987982, 0.3404056983330371, 0.861573846696111, 1.4959324433904837, 0.46395421709887047, 1.1379980906246385, 0.5139293196355553, 0.7869495679239824, 0.9733342457477235, 0.4275814663069735, 0.2301988665626162]}, {\"name\": \"1616571925\", \"type\": \"box\", \"y\": [1.264475406963076, 1.20056910893115, 1.3681593113460206, 2.7785593663977473, 1.8192676810784578, 1.689759376312576, 2.328735243008585, 2.3522487434772805, 1.9911750439221838, 1.0310248566920464, 0.6751121465928321, 1.1051033977006148, 1.679699906421778, 1.536395604053279, 2.023620553438084, 0.7192167085198056, 1.0642658776887532, 1.1423629618852513, 1.3247806308281256, 2.0979333727898446, 2.7296969774121997, 1.2740113232987078, 1.2244480311238732, 1.1795639052725588, 0.5797352501085073, 1.225379748610619, 2.2441375466745543, 1.851308946249722, 0.9921299196371544, 0.4649099542795853, 2.386488251128062, 0.9738906659799589, 1.2585796301923053, 1.3178890749041305, 3.7241061982018153, 1.8912923537457356]}, {\"name\": \"806187417\", \"type\": \"box\", \"y\": [0.9707441213288559, 0.6992975687253944, 0.17883715468921607, 0.5219663588911915, 0.22668862184271307, 0.27941200199501426, 0.24491650761597847, 0.17184679976190062, 0.18547804096356132, 1.6147546170979343, 0.8258365673706253, 0.9774601441786416, 0.4339430449796479, 0.35840670559301663, 0.8866066294439674, 0.949939608448502, 0.9172363836967949, 0.552114613704904, 0.7607210220859955, 0.4718824028999995, 0.34875133886463267, 0.19120471343102102, 0.19973612164876467, 0.14976116539769393, 2.0300984483985323, 0.4456658903916439, 0.21810546531381478, 0.28332923095488194, 2.802903723729617, 1.0585901461274554, 1.2111881753275118, 0.9318365290745128, 0.4635841102310236, 0.3580841247038253, 0.15455090992123793, 0.41234174195875395]}, {\"name\": \"771513244\", \"type\": \"box\", \"y\": [1.0920111167864144, 0.8362486718453395, 0.42730470150130934, 0.9151860687138964, 0.32429113390622916, 0.29939388516478077, 0.22042598699657218, 0.2242564991759949, 0.28890276309857377, 1.253808379411341, 0.9751305961305095, 0.7683594586632053, 0.5206627746596162, 0.4096387083740551, 1.0495538432197882, 0.8834655761963096, 0.3643893532860787, 0.43157385033978096, 1.0151940579646868, 0.2506362135176167, 0.24734661439361472, 0.22892827616891534, 0.16958284363637663, 0.1868839921255037, 1.650035336174468, 0.31348008767263247, 0.25552610945169313, 0.40503945167192074, 3.911697200251233, 1.4378920958451251, 0.8377432277305255, 1.0710440374258074, 0.8171657377103912, 0.20653623575949578, 0.16899766281533643, 0.31282894768354863]}, {\"name\": \"1562145181\", \"type\": \"box\", \"y\": [0.7656980116585874, 1.0154710161844813, 0.717173175484085, 0.607389831450915, 0.23842677291627523, 0.3162624282309366, 0.19227130257017105, 0.26206554723326536, 0.24316827234230237, 1.7479880665451666, 0.6848536855969184, 1.1708176705733913, 0.41475624756265717, 0.3125819632298853, 0.9369867880469457, 0.9965226163962211, 0.6264240459285207, 0.518142609800606, 0.8330660751957494, 1.0569787398363464, 0.43733134324745526, 0.24856910961999443, 0.28060668494575913, 0.1390344879727378, 1.895865102782684, 0.8024207008375008, 0.3664145131545608, 0.3515379872271907, 2.953124329732763, 0.9878589004400403, 1.1268385423235556, 1.0766783070513686, 0.7272856480563721, 1.1767076645877719, 0.6998104589018359, 0.5224985909500871]}, {\"name\": \"896338719\", \"type\": \"box\", \"y\": [0.7848793719834092, 0.5587043633797842, 0.2503736256224013, 0.5669801662450688, 0.2548176162287075, 0.2621190385904695, 0.14336260381059493, 0.12791982070681288, 0.15363511213580425, 1.232670338849849, 1.0497936326091928, 0.8386560541249467, 0.6549442539886653, 0.17377597838396927, 0.8993507666594038, 0.6450401502984938, 0.3110337960682605, 0.48606196634431953, 0.7119154420327859, 0.13608597503117986, 0.18056703376277033, 0.23104433294831273, 0.23268151934532028, 0.19330884986924332, 1.7039852840452234, 0.26961467393311, 0.24064507590023626, 0.31154496600744347, 2.969298410102777, 0.7802404310921381, 0.9849520508735549, 0.9320752580563122, 0.42343753135538104, 0.24523459523583768, 0.1889070897607293, 0.26798210960579594]}, {\"name\": \"1113196323\", \"type\": \"box\", \"y\": [1.1009336431662284, 1.1243140079651757, 0.9411943713061189, 0.7266544478592422, 0.9866661906647763, 1.2837542672778606, 1.3677920595339847, 0.9763467707043956, 0.9196879410155948, 0.46936375570987227, 1.1693804899331341, 0.8987432760058006, 1.259898474767045, 1.0435751177930672, 1.6454646751194637, 0.8304209849982511, 1.0206261212750103, 0.871115814520968, 0.8983118444525567, 1.1427239949970123, 0.9422409527377572, 0.7688738086808352, 0.6188759858277157, 0.6736247828201823, 0.2885737630444642, 1.2512855219838568, 0.8685165144004012, 0.5405577533154079, 1.7783360861778714, 0.7631066823077169, 1.3940564993830529, 0.9431275887078634, 1.1891579457438406, 0.6951804289204534, 1.0818026593689611, 0.8468720059288323]}, {\"name\": \"1597760039\", \"type\": \"box\", \"y\": [0.6796451159886386, 0.9862056014225565, 0.5230385591443695, 0.548947089868177, 0.6974442639896806, 0.9782969611208756, 0.5960395683046853, 0.5164368216835783, 0.583939252665569, 0.5089486809189894, 0.9956670881005601, 1.2484116533441938, 0.5764531565012326, 0.6404274627398687, 1.3478127313304857, 0.9601912293147723, 1.2522464229421895, 0.7238927853101235, 0.7232393318402252, 0.48698549984773304, 0.5124447160445988, 0.39880031142855016, 0.4167565178511315, 0.43645416932402326, 0.31405396153424464, 1.0086374275417274, 0.8323848213817462, 0.5165896106599356, 1.3737811955525954, 1.2030664663946304, 0.7025061747930194, 0.7180031539125425, 0.5315506593827392, 1.1525890972956176, 0.8254526860777112, 0.3240333233852179]}, {\"name\": \"317532327\", \"type\": \"box\", \"y\": [1.0524194842948758, 1.2408864812736364, 1.0798325898769425, 0.9621827967405846, 1.055678878167307, 1.3958474208064011, 1.0733053521476035, 0.863708003979702, 0.8901273451506384, 0.8035567467655724, 0.5375455058919228, 0.7066066693702266, 1.3429894150200918, 0.8702819810430771, 1.301965758074106, 1.0197680803526912, 1.5629626068643037, 1.164307679212958, 0.8815903523630721, 0.9398377717357004, 0.8647247246784822, 0.6821448104868654, 0.663780018150138, 0.9798033145651337, 0.5244380693558861, 0.9922686582999238, 1.5590124890718435, 0.8883681120007116, 1.0188730879524788, 1.1397578353160134, 1.5765901560378077, 1.2241513817162768, 0.7167131752530537, 1.0599612090559567, 0.8796143582727055, 0.4675921355749509]}, {\"name\": \"346061612\", \"type\": \"box\", \"y\": [1.273922296184507, 1.5002892695812415, 0.8089706192480767, 0.9119749620474638, 0.5078261205967421, 0.6730612830884957, 0.5635347191722425, 0.6806559760858146, 0.6058834461634535, 1.9224717300597025, 1.475372115621436, 0.8015737976727564, 0.6301499858403344, 0.5887963938223295, 1.4311430114817933, 1.0043647815199408, 0.6912964409778345, 0.512162732587051, 0.892129275256102, 0.45831023864525783, 0.5263295618964202, 0.3513961512075522, 0.3433381718413823, 0.32350841408613806, 2.5430232044380188, 0.6273789981391429, 0.32844090991533326, 0.4754227325644408, 4.542794010732858, 2.3147370200793285, 2.2841929563591794, 1.7214355989409, 0.7782933947937943, 0.8582301327286854, 0.5269481359553826, 0.4498458765219752]}, {\"name\": \"40333612\", \"type\": \"box\", \"y\": [0.8345015381033606, 0.5488319761432481, 0.24723189883373622, 0.4022054919543335, 0.2332999815768719, 0.17408301308352409, 0.2241014924099412, 0.2781907690992985, 0.24167609802564746, 1.3191295278245097, 1.1050247395467128, 0.6568790641760349, 0.49336745299663176, 0.3513081199458449, 1.187747275212642, 0.8651310808503784, 0.5037184971692324, 0.49174492103191775, 0.622213507772565, 0.2657281250611077, 0.22844055167462612, 0.23039132024774672, 0.20154345248278302, 0.19784881830798737, 1.6674026977220495, 0.33055109289965373, 0.195721322535966, 0.459720238282709, 3.0533496529827424, 1.1060665910433334, 1.1162030985698483, 0.80522498576233, 0.559332817787152, 0.27660559845875315, 0.20828430872525375, 0.39065572558704126]}, {\"name\": \"511723709\", \"type\": \"box\", \"y\": [1.000634954256397, 0.7319182467468066, 0.5569803648208828, 0.49874582697388625, 0.2409444412943076, 0.2543501934474435, 0.28396766722997485, 0.4490753928365168, 0.2981307195751535, 1.488613163036575, 1.2066731425514434, 0.7961750708783335, 0.9961527932956998, 0.5991029614565822, 0.9280407706225526, 0.7994143001656818, 0.5965592669898402, 0.49920836998670365, 0.586932724659338, 0.3762815832305649, 0.31861169196820205, 0.24678550106508743, 0.2579190246076713, 0.2786154741463732, 2.020142298237098, 0.4724749252978605, 0.2571576418196518, 0.39615155962427956, 3.1540002544652723, 1.335489396806219, 1.1934541533662384, 1.068622846825934, 0.4860810685062654, 0.48343254218522513, 0.2915825494357437, 0.4734538725928486]}, {\"name\": \"1004972352\", \"type\": \"box\", \"y\": [0.5443151599221244, 0.9798658811489879, 0.6801730596012682, 0.5913443493281865, 0.7500839716402539, 0.7176460762853986, 0.6288274091703221, 0.5022092882317909, 0.3555620731831706, 0.3326159569019523, 0.7330702737560085, 0.8186045083261886, 0.6172678773866086, 0.41892643408512203, 1.0337779952739317, 0.865026732626024, 1.09802069408776, 0.7945204078560211, 0.5678704558952263, 0.985142281800507, 0.9457541324872775, 0.7131652835384072, 0.9842061892393116, 0.6227552412456641, 0.35503421407131536, 0.6886969570552425, 1.075095537895924, 0.618894135903265, 1.26255297411697, 1.064526639178277, 1.0249013159352256, 1.020949823847284, 0.455017225263825, 1.1393605683297356, 1.3370000779202869, 0.3540439792764248]}, {\"name\": \"143824576\", \"type\": \"box\", \"y\": [1.0067967073850066, 0.9159248118585129, 0.18014148831297833, 0.5408231915955528, 0.2209628891686724, 0.26753336698455893, 0.14048321196803523, 0.124725530411413, 0.14541478402910024, 1.271623009051862, 1.3167282193187904, 0.7541603195389914, 0.7972746556267187, 0.34322107151702813, 1.3323241262977423, 0.785653388810183, 0.5395906445162325, 0.531592572733301, 0.8098590008518709, 0.19183249448850523, 0.21758518269809923, 0.3501011132120887, 0.17736165131153783, 0.2964572956098253, 1.7238255096804542, 0.3547283043116791, 0.2475570066160477, 0.3947258245584508, 3.0366743274812165, 1.048440088546901, 1.0498702376159745, 1.1601534825888733, 0.8094247040985091, 0.24545167434822912, 0.11285958747121835, 0.32073615717816567]}, {\"name\": \"368424646\", \"type\": \"box\", \"y\": [3.1923821843955458, 2.378831448794118, 2.288201766242435, 1.9423260812437415, 2.2076840340626167, 1.7810290674696907, 1.7977739348140953, 3.5394784054524737, 1.7832935180192089, 1.140691292840626, 1.3859564583431667, 0.7913642231234451, 1.0535551179294174, 0.8711314326690693, 3.5527004023620714, 2.6789506820870237, 2.3356860532498507, 0.9634951225260349, 0.6761984835561335, 0.9569039938648888, 0.8900117290649866, 3.6193400010252517, 1.9855670183653698, 1.9963693908370814, 0.9435014299147096, 0.9885158297036359, 1.1427076006199188, 1.0835523320043752, 3.4059162109067884, 1.4166536067861115, 1.8076020668651915, 0.6582250030960773, 0.7180915912895784, 1.3080198570239479, 1.48279883190319, 3.046016507357107]}, {\"name\": \"1428227531\", \"type\": \"box\", \"y\": [0.5881237535556371, 1.324759944580326, 0.9037184296188242, 0.9055695178220932, 0.8705610190033857, 0.9632731207365571, 0.8531584451332879, 0.7862292253472397, 0.620946800854758, 0.5854827156422406, 1.0997953117233046, 1.2821042026468537, 0.7513918311249694, 0.6834856303684169, 1.219495712353623, 1.2808374478330602, 1.7263002252076827, 0.7904993126734788, 0.8853573784169048, 0.7763889980689109, 0.818744889318798, 0.4879441325230321, 0.4604479254945436, 0.44995438904046087, 0.5011291933298918, 1.0885340692575354, 0.7975939140319115, 0.26159094714931835, 2.071817124311779, 1.1684991367938298, 1.2844673059565763, 0.6911888316539739, 0.611548776680001, 1.5055873604449752, 1.156189783433962, 0.5270517634978]}, {\"name\": \"2040495184\", \"type\": \"box\", \"y\": [0.6164082845670485, 1.0362486174419574, 0.6831124015075681, 0.6684468163122899, 0.6523007519986034, 1.032680778323574, 0.802372759813332, 0.7237025224448352, 0.7290714931461425, 0.4626753142348808, 0.8691618472316863, 0.7732796967531363, 0.7530822523336793, 0.7168174910177908, 1.1823184190476215, 1.2480552347104825, 1.6556666807266007, 0.8267405907177233, 0.672748028829375, 0.7619468094431266, 0.679269953474429, 0.5480324843659198, 0.2726278269950248, 0.43576035563268495, 0.3377005400215477, 0.6818676069662608, 0.7241186781959333, 0.5204094911097352, 1.637668324366637, 1.3025584484260855, 1.1180593559215606, 0.7798459691087892, 0.8225489869475519, 1.571703122139473, 0.7773007931070774, 0.4434320748072244]}, {\"name\": \"1893337300\", \"type\": \"box\", \"y\": [0.706576009275136, 0.920155778823031, 0.647767809522681, 0.5141626129927789, 0.85553612948027, 1.0519574650788177, 0.6407103644376486, 0.38419326741075616, 0.35496398798537176, 0.38696825326742534, 0.5973065337869871, 0.6805346638620428, 0.7455856426742716, 0.4399717135826888, 1.1580519735326902, 0.9413309086388439, 1.4612677143374866, 0.5717113533329635, 0.5900710287593193, 0.5887658264148724, 0.4750530314053657, 0.3673181309462318, 0.3677070815199544, 0.41122180885316284, 0.5297998355735329, 1.25891001216477, 0.4567213660227571, 0.6008445776378583, 2.165109345767062, 1.4166660555824322, 0.8783344008114659, 0.7751412307593938, 0.6717590361231226, 0.9781540394816606, 0.7642921739406842, 0.4046576565164525]}, {\"name\": \"2117861717\", \"type\": \"box\", \"y\": [0.7611005422498603, 0.7695540427819064, 0.26129587326506937, 0.6405689044739553, 0.19147549506720882, 0.2752507514959536, 0.2538811835034945, 0.22549636167122003, 0.2938299798676861, 1.4418818842446801, 0.7105926576997248, 0.8903773329924572, 0.7157060699522944, 0.3646919451979442, 0.7403888219808433, 0.8719513134635293, 0.31964074645626184, 0.37547703927371284, 0.6282334649310799, 0.20001539854642905, 0.19970807194918438, 0.18452331311749984, 0.14948765286923008, 0.15504337712458297, 1.6975360002915216, 0.32854002069901717, 0.19547331757921285, 0.2888524128436542, 3.1394611563670987, 0.9471806840429097, 0.9993914039893358, 0.6805683591056557, 0.4468968197929863, 0.2678601596311569, 0.17195026358783091, 0.2712797424326699]}, {\"name\": \"1941427679\", \"type\": \"box\", \"y\": [1.1415209602117784, 1.3245318016473877, 0.5991634318337301, 0.6138226792025564, 0.3410520494730384, 0.32828688724612315, 0.4271888799365082, 0.5157961802952811, 0.471441653247386, 1.6883429565920018, 1.1464378993371809, 1.3014570299362347, 0.8729110191162777, 0.664551280673351, 0.9953939579509398, 1.1083005280922376, 0.6824920676787268, 0.7730540244316172, 0.7251903759366802, 0.41346627395673247, 0.3566020071295619, 0.36274412589659516, 0.318617080245802, 0.3307939411515652, 2.53591664587693, 0.844462615547563, 0.40303704015445085, 0.4057419419253743, 3.893302388056799, 1.8076185008735826, 1.5150833498691585, 0.8037915855951835, 0.6794730675998762, 0.7020153183991475, 0.4232052766059458, 0.5005601327436204]}, {\"name\": \"1708098535\", \"type\": \"box\", \"y\": [0.9131972611148659, 0.8735224393163235, 0.4123415907112253, 0.7275815783258491, 0.15428011380713583, 0.2548573384619951, 0.19135616293223603, 0.25591544744930533, 0.27761828665306465, 1.3975934692682124, 1.0570432359928381, 0.7027011481060447, 0.42686001743838103, 0.26796993500592836, 1.057927736791388, 1.1005726937330027, 0.2752167064504131, 0.32262365630889916, 0.9831169745537991, 0.22363846900067938, 0.20438187863134477, 0.20768777260103227, 0.1478349129941526, 0.1641908857738101, 1.7883957818741725, 0.33701912279480223, 0.22345202740161052, 0.2471768297917715, 3.702760891098179, 1.7523163816008438, 0.5390563552621092, 0.9276637173102398, 0.7352276909724943, 0.22815699838088602, 0.21815522811665455, 0.24011749821025385]}, {\"name\": \"456209269\", \"type\": \"box\", \"y\": [0.9229707459617761, 0.676154006240833, 0.2731915391819147, 0.40537931386056564, 0.2185973607624149, 0.25404091041961224, 0.2320894302292073, 0.28092357592246153, 0.24516322195309165, 1.3940087870309164, 0.8997520790846317, 0.7339415192158137, 0.49189573198488734, 0.3893133940781251, 0.8463259754709789, 0.9049163823013506, 0.36987497554042786, 0.3978649301635865, 0.5060460046423376, 0.28520105112906724, 0.20797444807416438, 0.3591530047327821, 0.2679192967647703, 0.2665141961766349, 1.917413046138646, 0.4073808902157043, 0.3181425839310819, 0.3395609408546047, 3.532666791141957, 1.2191557338964134, 0.9885336908752443, 0.9501193752709349, 0.46756938287897765, 0.29200708371370926, 0.18271534947894433, 0.35405633728228547]}],                        {\"showlegend\": false, \"template\": {\"data\": {\"bar\": [{\"error_x\": {\"color\": \"#2a3f5f\"}, \"error_y\": {\"color\": \"#2a3f5f\"}, \"marker\": {\"line\": {\"color\": \"#E5ECF6\", \"width\": 0.5}}, \"type\": \"bar\"}], \"barpolar\": [{\"marker\": {\"line\": {\"color\": \"#E5ECF6\", \"width\": 0.5}}, \"type\": \"barpolar\"}], \"carpet\": [{\"aaxis\": {\"endlinecolor\": \"#2a3f5f\", \"gridcolor\": \"white\", \"linecolor\": \"white\", \"minorgridcolor\": \"white\", \"startlinecolor\": \"#2a3f5f\"}, \"baxis\": {\"endlinecolor\": \"#2a3f5f\", \"gridcolor\": \"white\", \"linecolor\": \"white\", \"minorgridcolor\": \"white\", \"startlinecolor\": \"#2a3f5f\"}, \"type\": \"carpet\"}], \"choropleth\": [{\"colorbar\": {\"outlinewidth\": 0, \"ticks\": \"\"}, \"type\": \"choropleth\"}], \"contour\": [{\"colorbar\": {\"outlinewidth\": 0, \"ticks\": \"\"}, \"colorscale\": [[0.0, \"#0d0887\"], [0.1111111111111111, \"#46039f\"], [0.2222222222222222, \"#7201a8\"], [0.3333333333333333, \"#9c179e\"], [0.4444444444444444, \"#bd3786\"], [0.5555555555555556, \"#d8576b\"], [0.6666666666666666, \"#ed7953\"], [0.7777777777777778, \"#fb9f3a\"], [0.8888888888888888, \"#fdca26\"], [1.0, \"#f0f921\"]], \"type\": \"contour\"}], \"contourcarpet\": [{\"colorbar\": {\"outlinewidth\": 0, \"ticks\": \"\"}, \"type\": \"contourcarpet\"}], \"heatmap\": [{\"colorbar\": {\"outlinewidth\": 0, \"ticks\": \"\"}, \"colorscale\": [[0.0, \"#0d0887\"], [0.1111111111111111, \"#46039f\"], [0.2222222222222222, \"#7201a8\"], [0.3333333333333333, \"#9c179e\"], [0.4444444444444444, \"#bd3786\"], [0.5555555555555556, \"#d8576b\"], [0.6666666666666666, \"#ed7953\"], [0.7777777777777778, \"#fb9f3a\"], [0.8888888888888888, \"#fdca26\"], [1.0, \"#f0f921\"]], \"type\": \"heatmap\"}], \"heatmapgl\": [{\"colorbar\": {\"outlinewidth\": 0, \"ticks\": \"\"}, \"colorscale\": [[0.0, \"#0d0887\"], [0.1111111111111111, \"#46039f\"], [0.2222222222222222, \"#7201a8\"], [0.3333333333333333, \"#9c179e\"], [0.4444444444444444, \"#bd3786\"], [0.5555555555555556, \"#d8576b\"], [0.6666666666666666, \"#ed7953\"], [0.7777777777777778, \"#fb9f3a\"], [0.8888888888888888, \"#fdca26\"], [1.0, \"#f0f921\"]], \"type\": \"heatmapgl\"}], \"histogram\": [{\"marker\": {\"colorbar\": {\"outlinewidth\": 0, \"ticks\": \"\"}}, \"type\": \"histogram\"}], \"histogram2d\": [{\"colorbar\": {\"outlinewidth\": 0, \"ticks\": \"\"}, \"colorscale\": [[0.0, \"#0d0887\"], [0.1111111111111111, \"#46039f\"], [0.2222222222222222, \"#7201a8\"], [0.3333333333333333, \"#9c179e\"], [0.4444444444444444, \"#bd3786\"], [0.5555555555555556, \"#d8576b\"], [0.6666666666666666, \"#ed7953\"], [0.7777777777777778, \"#fb9f3a\"], [0.8888888888888888, \"#fdca26\"], [1.0, \"#f0f921\"]], \"type\": \"histogram2d\"}], \"histogram2dcontour\": [{\"colorbar\": {\"outlinewidth\": 0, \"ticks\": \"\"}, \"colorscale\": [[0.0, \"#0d0887\"], [0.1111111111111111, \"#46039f\"], [0.2222222222222222, \"#7201a8\"], [0.3333333333333333, \"#9c179e\"], [0.4444444444444444, \"#bd3786\"], [0.5555555555555556, \"#d8576b\"], [0.6666666666666666, \"#ed7953\"], [0.7777777777777778, \"#fb9f3a\"], [0.8888888888888888, \"#fdca26\"], [1.0, \"#f0f921\"]], \"type\": \"histogram2dcontour\"}], \"mesh3d\": [{\"colorbar\": {\"outlinewidth\": 0, \"ticks\": \"\"}, \"type\": \"mesh3d\"}], \"parcoords\": [{\"line\": {\"colorbar\": {\"outlinewidth\": 0, \"ticks\": \"\"}}, \"type\": \"parcoords\"}], \"pie\": [{\"automargin\": true, \"type\": \"pie\"}], \"scatter\": [{\"marker\": {\"colorbar\": {\"outlinewidth\": 0, \"ticks\": \"\"}}, \"type\": \"scatter\"}], \"scatter3d\": [{\"line\": {\"colorbar\": {\"outlinewidth\": 0, \"ticks\": \"\"}}, \"marker\": {\"colorbar\": {\"outlinewidth\": 0, \"ticks\": \"\"}}, \"type\": \"scatter3d\"}], \"scattercarpet\": [{\"marker\": {\"colorbar\": {\"outlinewidth\": 0, \"ticks\": \"\"}}, \"type\": \"scattercarpet\"}], \"scattergeo\": [{\"marker\": {\"colorbar\": {\"outlinewidth\": 0, \"ticks\": \"\"}}, \"type\": \"scattergeo\"}], \"scattergl\": [{\"marker\": {\"colorbar\": {\"outlinewidth\": 0, \"ticks\": \"\"}}, \"type\": \"scattergl\"}], \"scattermapbox\": [{\"marker\": {\"colorbar\": {\"outlinewidth\": 0, \"ticks\": \"\"}}, \"type\": \"scattermapbox\"}], \"scatterpolar\": [{\"marker\": {\"colorbar\": {\"outlinewidth\": 0, \"ticks\": \"\"}}, \"type\": \"scatterpolar\"}], \"scatterpolargl\": [{\"marker\": {\"colorbar\": {\"outlinewidth\": 0, \"ticks\": \"\"}}, \"type\": \"scatterpolargl\"}], \"scatterternary\": [{\"marker\": {\"colorbar\": {\"outlinewidth\": 0, \"ticks\": \"\"}}, \"type\": \"scatterternary\"}], \"surface\": [{\"colorbar\": {\"outlinewidth\": 0, \"ticks\": \"\"}, \"colorscale\": [[0.0, \"#0d0887\"], [0.1111111111111111, \"#46039f\"], [0.2222222222222222, \"#7201a8\"], [0.3333333333333333, \"#9c179e\"], [0.4444444444444444, \"#bd3786\"], [0.5555555555555556, \"#d8576b\"], [0.6666666666666666, \"#ed7953\"], [0.7777777777777778, \"#fb9f3a\"], [0.8888888888888888, \"#fdca26\"], [1.0, \"#f0f921\"]], \"type\": \"surface\"}], \"table\": [{\"cells\": {\"fill\": {\"color\": \"#EBF0F8\"}, \"line\": {\"color\": \"white\"}}, \"header\": {\"fill\": {\"color\": \"#C8D4E3\"}, \"line\": {\"color\": \"white\"}}, \"type\": \"table\"}]}, \"layout\": {\"annotationdefaults\": {\"arrowcolor\": \"#2a3f5f\", \"arrowhead\": 0, \"arrowwidth\": 1}, \"autotypenumbers\": \"strict\", \"coloraxis\": {\"colorbar\": {\"outlinewidth\": 0, \"ticks\": \"\"}}, \"colorscale\": {\"diverging\": [[0, \"#8e0152\"], [0.1, \"#c51b7d\"], [0.2, \"#de77ae\"], [0.3, \"#f1b6da\"], [0.4, \"#fde0ef\"], [0.5, \"#f7f7f7\"], [0.6, \"#e6f5d0\"], [0.7, \"#b8e186\"], [0.8, \"#7fbc41\"], [0.9, \"#4d9221\"], [1, \"#276419\"]], \"sequential\": [[0.0, \"#0d0887\"], [0.1111111111111111, \"#46039f\"], [0.2222222222222222, \"#7201a8\"], [0.3333333333333333, \"#9c179e\"], [0.4444444444444444, \"#bd3786\"], [0.5555555555555556, \"#d8576b\"], [0.6666666666666666, \"#ed7953\"], [0.7777777777777778, \"#fb9f3a\"], [0.8888888888888888, \"#fdca26\"], [1.0, \"#f0f921\"]], \"sequentialminus\": [[0.0, \"#0d0887\"], [0.1111111111111111, \"#46039f\"], [0.2222222222222222, \"#7201a8\"], [0.3333333333333333, \"#9c179e\"], [0.4444444444444444, \"#bd3786\"], [0.5555555555555556, \"#d8576b\"], [0.6666666666666666, \"#ed7953\"], [0.7777777777777778, \"#fb9f3a\"], [0.8888888888888888, \"#fdca26\"], [1.0, \"#f0f921\"]]}, \"colorway\": [\"#636efa\", \"#EF553B\", \"#00cc96\", \"#ab63fa\", \"#FFA15A\", \"#19d3f3\", \"#FF6692\", \"#B6E880\", \"#FF97FF\", \"#FECB52\"], \"font\": {\"color\": \"#2a3f5f\"}, \"geo\": {\"bgcolor\": \"white\", \"lakecolor\": \"white\", \"landcolor\": \"#E5ECF6\", \"showlakes\": true, \"showland\": true, \"subunitcolor\": \"white\"}, \"hoverlabel\": {\"align\": \"left\"}, \"hovermode\": \"closest\", \"mapbox\": {\"style\": \"light\"}, \"paper_bgcolor\": \"white\", \"plot_bgcolor\": \"#E5ECF6\", \"polar\": {\"angularaxis\": {\"gridcolor\": \"white\", \"linecolor\": \"white\", \"ticks\": \"\"}, \"bgcolor\": \"#E5ECF6\", \"radialaxis\": {\"gridcolor\": \"white\", \"linecolor\": \"white\", \"ticks\": \"\"}}, \"scene\": {\"xaxis\": {\"backgroundcolor\": \"#E5ECF6\", \"gridcolor\": \"white\", \"gridwidth\": 2, \"linecolor\": \"white\", \"showbackground\": true, \"ticks\": \"\", \"zerolinecolor\": \"white\"}, \"yaxis\": {\"backgroundcolor\": \"#E5ECF6\", \"gridcolor\": \"white\", \"gridwidth\": 2, \"linecolor\": \"white\", \"showbackground\": true, \"ticks\": \"\", \"zerolinecolor\": \"white\"}, \"zaxis\": {\"backgroundcolor\": \"#E5ECF6\", \"gridcolor\": \"white\", \"gridwidth\": 2, \"linecolor\": \"white\", \"showbackground\": true, \"ticks\": \"\", \"zerolinecolor\": \"white\"}}, \"shapedefaults\": {\"line\": {\"color\": \"#2a3f5f\"}}, \"ternary\": {\"aaxis\": {\"gridcolor\": \"white\", \"linecolor\": \"white\", \"ticks\": \"\"}, \"baxis\": {\"gridcolor\": \"white\", \"linecolor\": \"white\", \"ticks\": \"\"}, \"bgcolor\": \"#E5ECF6\", \"caxis\": {\"gridcolor\": \"white\", \"linecolor\": \"white\", \"ticks\": \"\"}}, \"title\": {\"x\": 0.05}, \"xaxis\": {\"automargin\": true, \"gridcolor\": \"white\", \"linecolor\": \"white\", \"ticks\": \"\", \"title\": {\"standoff\": 15}, \"zerolinecolor\": \"white\", \"zerolinewidth\": 2}, \"yaxis\": {\"automargin\": true, \"gridcolor\": \"white\", \"linecolor\": \"white\", \"ticks\": \"\", \"title\": {\"standoff\": 15}, \"zerolinecolor\": \"white\", \"zerolinewidth\": 2}}}, \"title\": {\"text\": \"LSTM\"}, \"xaxis\": {\"title\": {\"text\": \"Time series\"}}, \"yaxis\": {\"title\": {\"text\": \"MASE distribution\"}}},                        {\"responsive\": true}                    ).then(function(){\n",
       "                            \n",
       "var gd = document.getElementById('666fd364-c21a-4171-ab7b-e9ed3af1d2fb');\n",
       "var x = new MutationObserver(function (mutations, observer) {{\n",
       "        var display = window.getComputedStyle(gd).display;\n",
       "        if (!display || display === 'none') {{\n",
       "            console.log([gd, 'removed!']);\n",
       "            Plotly.purge(gd);\n",
       "            observer.disconnect();\n",
       "        }}\n",
       "}});\n",
       "\n",
       "// Listen for the removal of the full notebook cells\n",
       "var notebookContainer = gd.closest('#notebook-container');\n",
       "if (notebookContainer) {{\n",
       "    x.observe(notebookContainer, {childList: true});\n",
       "}}\n",
       "\n",
       "// Listen for the clearing of the current output cell\n",
       "var outputEl = gd.closest('.output');\n",
       "if (outputEl) {{\n",
       "    x.observe(outputEl, {childList: true});\n",
       "}}\n",
       "\n",
       "                        })                };                });            </script>        </div>"
      ]
     },
     "metadata": {},
     "output_type": "display_data"
    }
   ],
   "source": [
    "fig = go.Figure()\n",
    "for col in lstm_dist_ts.keys():\n",
    "    box_data = lstm_dist_ts[col]\n",
    "    fig.add_trace(go.Box(y=box_data, name = col))\n",
    "fig.update_xaxes(title = 'Time series')\n",
    "fig.update_yaxes(title = 'MASE distribution')\n",
    "fig.update_layout(title = \"LSTM\", showlegend= False)"
   ]
  },
  {
   "cell_type": "code",
   "execution_count": 18,
   "metadata": {},
   "outputs": [
    {
     "data": {
      "application/vnd.plotly.v1+json": {
       "config": {
        "plotlyServerURL": "https://plot.ly"
       },
       "data": [
        {
         "name": "grid",
         "type": "box",
         "y": [
          3.4053630071537606,
          3.9336043320261247,
          4.943115464028954,
          5.288742006370496,
          4.712054390061754,
          5.04895820253476,
          5.4229256717237755,
          4.390895517904,
          4.757890353496411,
          4.043340268024233,
          3.666636658782479,
          4.848673635779654,
          5.218897837073379,
          5.26500076073676,
          3.942124784384393,
          3.608355122418069,
          3.1638820405420085,
          4.384345962342484,
          4.817420420561679,
          5.173560896157113,
          5.330607625404893,
          4.345695578155768,
          4.471440943121055,
          4.759207973022852,
          4.026650673499766,
          4.476796030752107,
          5.18310277240383,
          5.038219618234287,
          1.5929341032104312,
          2.1763657574487834,
          2.9342692421173635,
          3.6599821890504667,
          3.9401761866630705,
          3.1538693577488983,
          5.19519390562354,
          4.184911074400843
         ]
        },
        {
         "name": "tline_1",
         "type": "box",
         "y": [
          2.646615275285092,
          3.6323416704765306,
          4.002232026459468,
          3.5208021500681688,
          3.84264763906387,
          3.6210695837671767,
          3.790398239077742,
          3.8202108144163978,
          3.7779904857699065,
          2.7367173451852933,
          2.0816081122888432,
          3.3648474716702923,
          3.8496490568499184,
          3.833631822351287,
          3.0884748949354504,
          3.0425749189004256,
          3.7667815105385998,
          3.666948870361032,
          3.2832037165534445,
          3.879214670014254,
          3.8704672703477776,
          3.8580590874698637,
          3.8296475051220544,
          3.8647563580501396,
          1.8999848075336223,
          3.419099726056122,
          3.9233289296587714,
          3.696935033301692,
          2.2663814507013824,
          1.7434489165032079,
          2.621027283836822,
          3.3918286960266864,
          3.3786012150422002,
          3.9767047672808116,
          3.9691670985804786,
          3.6248149227742137
         ]
        },
        {
         "name": "tline_2",
         "type": "box",
         "y": [
          3.0755066359049605,
          3.379146420507946,
          4.412154216833164,
          5.043484794378663,
          4.1801802993433315,
          4.710647849726063,
          5.102892639440857,
          3.809698900462003,
          4.265709440802959,
          3.939417238509428,
          3.671274909892521,
          4.652138512328456,
          4.823708547981254,
          4.884736364428306,
          3.6075985381530105,
          3.1567987436099223,
          2.3139954484870313,
          3.86319805512154,
          4.6525463203552135,
          4.746242250720735,
          4.943177779995929,
          3.7359643708445707,
          3.9095690125671676,
          4.23669525323873,
          4.217828969705242,
          4.1682606782448,
          4.7581034102553215,
          4.654853018577624,
          1.24769407552525,
          1.9606641169292278,
          2.526262780671289,
          3.1502803102008246,
          3.461346205539884,
          2.2352831014618038,
          4.757256684708742,
          3.6363402634985067
         ]
        },
        {
         "name": "substation1",
         "type": "box",
         "y": [
          2.6192258981167216,
          3.6413157511664616,
          4.030390417472232,
          3.535837297940808,
          3.8410108927250866,
          3.6484934850723483,
          3.815729620745404,
          3.8436554623043873,
          3.7957427506798687,
          2.6763005394753265,
          2.081509231344866,
          3.3518661941098844,
          3.854302291372021,
          3.8218019231178313,
          3.072090501866898,
          3.067520608493339,
          3.8230469366595297,
          3.678520705034908,
          3.236426793815619,
          3.8716317912092113,
          3.880116465072524,
          3.866126183400362,
          3.834353080421549,
          3.881285119107993,
          1.7938762510826725,
          3.4514865645866477,
          3.956243968673182,
          3.6784091907406737,
          2.229623404403464,
          1.7371518670009976,
          2.644855381184446,
          3.4511964627474376,
          3.355692715729226,
          3.9979875507919056,
          4.000048505275947,
          3.603025303799527
         ]
        },
        {
         "name": "substation2",
         "type": "box",
         "y": [
          2.6546357115902786,
          3.5083387689768286,
          3.8318240624662323,
          3.386285050469597,
          3.745280183538921,
          3.4502683560842087,
          3.6288036747454058,
          3.660809005085602,
          3.6308227194146,
          2.8377259817264373,
          2.0670858501891822,
          3.3108797226154336,
          3.746614510591908,
          3.763711627704164,
          3.0501053061954564,
          2.923665673939007,
          3.512284111907355,
          3.538228462894889,
          3.318693235409321,
          3.7969963145009027,
          3.74534583100997,
          3.7462237201536275,
          3.7163018202327764,
          3.7257999160342843,
          2.250756027666194,
          3.2891162738489856,
          3.7279778997367408,
          3.6513120902003946,
          2.3160535499015964,
          1.77096473647905,
          2.490639474770327,
          3.145790073864633,
          3.353705359922808,
          3.8212456304802878,
          3.7785485747082923,
          3.5899304243121817
         ]
        },
        {
         "name": "substation3",
         "type": "box",
         "y": [
          3.075458997578551,
          3.3912102776745696,
          4.41170142306849,
          5.050796901604538,
          4.175471591147432,
          4.736553326850701,
          5.112680385589846,
          3.7987007540325246,
          4.2648544485890625,
          3.932361574468015,
          3.6806079402546916,
          4.665139006360682,
          4.836006667579788,
          4.893046948478102,
          3.5973331659057606,
          3.158999863875888,
          2.317552623969646,
          3.874851824887218,
          4.668689536600587,
          4.760259058754452,
          4.9542798964461054,
          3.7245315727750286,
          3.897815457094382,
          4.230701403610667,
          4.223099930503417,
          4.190376194842425,
          4.763766116549937,
          4.668721922817242,
          1.2498050928240563,
          1.9535709840463868,
          2.530160848369335,
          3.167315230233875,
          3.474851592363842,
          2.248286691449035,
          4.778336191201623,
          3.617864108795534
         ]
        },
        {
         "name": "substation4",
         "type": "box",
         "y": [
          2.2962217072919597,
          2.039692864453858,
          3.3795363435804995,
          3.450894047782879,
          3.2227939093867914,
          2.5236190394766926,
          3.4727547080694596,
          3.3418463533736,
          3.2362759732771194,
          3.1114654962366743,
          2.273588507682891,
          2.968560624425108,
          3.1136593907201986,
          3.297411520757261,
          3.1063820793309596,
          2.1350077250484145,
          1.7118296141943703,
          2.434393081981244,
          2.8167421805965263,
          2.9805607413486834,
          3.2212499822423504,
          3.2828062267815996,
          3.4148246897026087,
          3.279183507329748,
          2.8222326743658046,
          2.1908987668306836,
          3.3963397502768857,
          2.810800847471241,
          0.9053840243123176,
          1.6521707360619686,
          1.7544041836822082,
          1.6267596979885894,
          1.9999485553751606,
          1.4399934959890908,
          2.7660094340262993,
          3.383092804789277
         ]
        },
        {
         "name": "6010",
         "type": "box",
         "y": [
          0.8850545000360601,
          0.5679660318979922,
          1.7853100886961983,
          1.24727909477854,
          1.224310484395309,
          1.296435534330904,
          1.6641749208107044,
          1.4705332229146901,
          0.9733257521221544,
          1.4864259645510205,
          1.0783339541860795,
          0.6405651805100134,
          1.2739677790693935,
          1.0213249394003034,
          1.582562778978945,
          0.7692821917381518,
          0.97937237463499,
          0.9081519929352204,
          1.6369267960658935,
          1.5003503557272186,
          1.4160778918442087,
          1.307129072424722,
          1.4707124798471702,
          1.4826427480049038,
          2.4222815384448007,
          1.272923046628576,
          1.8842441163836674,
          0.43093646652030276,
          2.844963627357918,
          1.0464509858948197,
          0.7318739131347664,
          0.5689543352591983,
          1.224371478525308,
          1.095249637598493,
          1.2938402661448678,
          0.7625486814053143
         ]
        },
        {
         "name": "6014",
         "type": "box",
         "y": [
          1.0151244209561103,
          0.6066141016510384,
          2.1165479072176376,
          1.4665612698017771,
          1.4227910292322317,
          1.457085480440053,
          1.9090670828324605,
          1.6523562254655257,
          1.2506889614851533,
          2.0373632623143276,
          1.299505801265073,
          0.7343594532751352,
          1.7050121371298228,
          1.4016332732481622,
          2.0671505920956625,
          0.4943900296081262,
          1.3443572435667919,
          1.3696521675999007,
          2.0102181829358114,
          1.9802566408883397,
          1.6882777304876915,
          1.611247601928967,
          1.9129034776726386,
          1.9466091487010373,
          3.105629595531735,
          1.5421689953239295,
          2.2275519509088455,
          0.5167453293596613,
          3.3477960357249126,
          1.5999683353000294,
          0.8889087130445354,
          0.598665642619791,
          1.3535259854055746,
          1.5078771123880215,
          1.474648955443434,
          1.0310069430916464
         ]
        },
        {
         "name": "6011",
         "type": "box",
         "y": [
          0.9455383721156749,
          0.5883374672077213,
          1.890906845942134,
          1.1533187844330073,
          1.3256958638432825,
          1.5615829992680008,
          1.8944515563971398,
          1.6787385329142288,
          1.3879222128783566,
          1.786159741882851,
          1.0497884961872612,
          0.8555527523828117,
          1.272938884592501,
          1.08180026586751,
          1.7056707253748933,
          0.8411253389345864,
          1.2335070436306614,
          1.194673288080088,
          1.3353233866518504,
          1.6818281276889342,
          1.5650866462704276,
          1.6335366832609612,
          1.7017057554112784,
          1.7651375078952802,
          2.7296445316415956,
          1.429200820555492,
          2.007908386723885,
          0.5648137384281224,
          2.9251600878868302,
          0.9684776384041374,
          0.7822473871116772,
          0.7487083398361395,
          1.201509658422443,
          1.380559856648951,
          1.3646395209974833,
          1.0090636368490962
         ]
        },
        {
         "name": "6280",
         "type": "box",
         "y": [
          1.866961198557057,
          1.0762638656813617,
          1.4954666182536933,
          1.058819122794979,
          1.0698015059516872,
          1.4681322809779913,
          0.5231491134202634,
          1.7334584979048515,
          1.3458810825258691,
          1.7376650233507507,
          1.195374512731044,
          0.5075670269682068,
          0.9144138135947234,
          0.9722275870431585,
          2.451004124846451,
          0.9883344761009555,
          2.2436111808574295,
          1.0937355765833487,
          0.6820489136511558,
          0.9017177762848656,
          0.583440054434061,
          2.0219585172603884,
          2.080250509249667,
          1.9759308747170141,
          1.1136043025453324,
          0.7407112271129419,
          0.30451771835564,
          0.8199872667312309,
          2.0716571378083812,
          1.719237036597662,
          0.9356539068008016,
          0.7772039007936419,
          0.5125098062653601,
          1.2075731331440094,
          0.693864195875497,
          2.0415924717367058
         ]
        },
        {
         "name": "6281",
         "type": "box",
         "y": [
          0.4954242029640126,
          0.498706041911894,
          0.5813594642600599,
          0.42094823727514113,
          0.582670695175491,
          1.0637144463323893,
          0.42604099723637806,
          0.5791355061793197,
          0.5459804556610982,
          0.9767275588598315,
          0.9200830118568203,
          0.6922325703029958,
          0.5810715097697614,
          0.91750710400562,
          0.8065606251528995,
          0.44731910189703034,
          0.6014956900730438,
          0.7590489264786466,
          0.7073720377291969,
          0.618931789964636,
          0.5388075778462724,
          0.5716486913906731,
          0.8697741789674096,
          0.7964040758972093,
          0.74609953309953,
          0.777279778082128,
          0.6798755588043196,
          0.8379041834254182,
          0.6666318009766573,
          1.165914944692775,
          0.6132739080214966,
          0.619997006556437,
          0.7684015248566185,
          0.7090410263846051,
          0.46274126967506685,
          0.45912884281612026
         ]
        },
        {
         "name": "6284",
         "type": "box",
         "y": [
          1.4581535657092883,
          0.6295287752790056,
          1.2413489642453162,
          0.5034687589157103,
          0.621789515960098,
          0.706600344568433,
          1.2372254530726061,
          1.6574314702124602,
          1.9707264977404784,
          2.127703166120947,
          1.64573590345495,
          0.64958632304474,
          0.821095151495971,
          1.3755041859589494,
          1.0532703314756267,
          0.7561399651160094,
          1.5999724665834276,
          0.8709575143539602,
          1.4083405407979765,
          1.0352485546622938,
          0.8467003848640863,
          1.4136189285344838,
          1.1480039639360133,
          1.7544937599019153,
          1.8017318319461142,
          1.1644394005531027,
          0.8265405573354351,
          0.8564160493720109,
          1.3794454201739204,
          1.6309681241017344,
          0.43980651974993645,
          1.1387132141995122,
          1.3148363462960833,
          1.4801052242457438,
          1.0525692853132271,
          0.9934890280038544
         ]
        },
        {
         "name": "1295864320",
         "type": "box",
         "y": [
          1.1221969090229675,
          1.0590934687835787,
          1.74010654985698,
          1.4906052850457787,
          0.9554875246554311,
          1.121474477636107,
          1.3112001176472674,
          1.1352733110091535,
          1.2293103892343975,
          1.9930529133218882,
          1.6828854729450733,
          0.9155627120001013,
          1.7888160308630021,
          1.935501785282936,
          2.079823132224621,
          0.8002754449978914,
          3.181658604180144,
          1.7213279989131993,
          1.4358681944352514,
          1.2756434380722268,
          1.3722235492747685,
          1.7424299041799354,
          2.834579707743353,
          1.9565810318614403,
          2.2950858861318424,
          1.642291075817955,
          1.046780246695761,
          0.36982338793697744,
          1.9121670698129662,
          2.3450972524382427,
          0.8850457476466679,
          1.0480396784510515,
          0.9095666529214501,
          1.683770660623484,
          0.8853327671063662,
          1.3616543170777302
         ]
        },
        {
         "name": "1247421966",
         "type": "box",
         "y": [
          0.8359180696764692,
          0.45676620805200546,
          1.616310918620874,
          0.9844311687338324,
          1.1267118734257937,
          1.2352026810940386,
          1.64155686384499,
          1.3651722769447316,
          1.1282459943722225,
          1.716775608097443,
          0.9393134121791867,
          0.5836689592766551,
          1.1544786135912635,
          1.0687209567601246,
          1.465167622575514,
          0.5637541393183672,
          0.9248822728859609,
          0.8371363467664515,
          1.513556139385518,
          1.3776200978056519,
          1.3348322363610976,
          1.3250833558811141,
          1.5271421099749172,
          1.6279047110970872,
          2.575556328897632,
          0.9308178107768591,
          1.8224078509189103,
          0.37000981957964946,
          2.606010096693136,
          0.8904915876475713,
          0.8652528987228979,
          0.6534450165292182,
          1.0674219886059135,
          0.925094362358265,
          1.106229145656057,
          0.9451407072798229
         ]
        },
        {
         "name": "2107373071",
         "type": "box",
         "y": [
          1.1970282946127415,
          0.7260319228347688,
          2.2518782897002194,
          1.6184145926691695,
          1.3953793034634174,
          1.4833961325815295,
          2.0023883666523674,
          1.8386151802610473,
          1.3169404154041204,
          1.9250320491171344,
          1.3885104606353873,
          0.7983478707880222,
          1.769496824354397,
          1.5970763543623612,
          2.2325255326508664,
          1.1646075432059442,
          1.3224921533314506,
          1.3515099391675245,
          2.0654924641951107,
          1.9735845405127674,
          1.9362693822481474,
          1.8365624767451354,
          2.0603570494077514,
          2.1039007247598756,
          3.090929908903406,
          1.7431403183676095,
          2.243758286586043,
          0.6361034693662007,
          3.736164959092353,
          1.6845652606974286,
          0.9285645259146765,
          0.6237588081794252,
          1.7615288083489455,
          1.5580867081989134,
          1.7944021038034503,
          1.0168635124361523
         ]
        },
        {
         "name": "2009066518",
         "type": "box",
         "y": [
          1.2143483965809436,
          0.5459963568983524,
          1.59008196748236,
          0.963670017531058,
          0.7923154825650779,
          1.1735652393360585,
          1.0796016020860544,
          0.9860374177722185,
          1.0732675964799328,
          1.7707482112934887,
          1.7885083548321545,
          0.7706715571691715,
          1.42763897384413,
          1.7987401445825901,
          1.7644618252691426,
          1.381196792473555,
          1.6340110563433623,
          0.8531073398670321,
          1.3709404873695894,
          0.9578813968978871,
          1.0325225162111986,
          1.351317742357534,
          1.5557620521460416,
          1.5198946833539588,
          1.785286473763182,
          1.0898951187812513,
          0.8899062530900134,
          0.3514051673591325,
          1.566065342748548,
          1.7054253963253763,
          0.5666523099973323,
          0.7892310012322199,
          0.8238857048509833,
          1.908774798651624,
          0.6171908563828908,
          0.9974021043041084
         ]
        },
        {
         "name": "972102295",
         "type": "box",
         "y": [
          0.5045340882730539,
          0.49538598035265474,
          0.5825822265492704,
          0.3960558569460986,
          0.5896325535059959,
          1.0812184259007351,
          0.44636863813332706,
          0.588327676213656,
          0.5543352131108653,
          1.0325721866594637,
          0.9413166945041572,
          0.7036153287462518,
          0.591900495679437,
          0.9171772821812569,
          0.7872591238969129,
          0.4523433419025632,
          0.6124353328310014,
          0.7514693360408129,
          0.7109046922278004,
          0.6308119846496492,
          0.5357157005722121,
          0.5587514738308402,
          0.8846303804936971,
          0.7631518335860152,
          0.7791145576665913,
          0.7867350924663821,
          0.659420972289029,
          0.8393951713259328,
          0.6698499408345333,
          1.1638680928497742,
          0.6214213635278424,
          0.6215624042361513,
          0.7530657505092468,
          0.7029300497111267,
          0.47319327987144233,
          0.4715183378280097
         ]
        },
        {
         "name": "1616571925",
         "type": "box",
         "y": [
          1.1363752606332258,
          2.0056521947092656,
          1.7573883110910857,
          2.3216897656364996,
          1.5534791312767393,
          1.5859110949512163,
          1.7415538405153754,
          1.3554381688736767,
          1.2733736037277266,
          1.3962658832357249,
          0.8186440119757109,
          1.7111492564894755,
          1.8321891783164677,
          1.5895162444653743,
          2.2324811953612143,
          1.135184301569518,
          1.410207117790246,
          1.9581097489008823,
          1.4782232816627618,
          1.6301168860378508,
          1.4793944536776187,
          1.4367965488237537,
          1.5901303885433131,
          1.055668202646362,
          1.1937479572628642,
          2.3208719507262043,
          2.3812711795521504,
          1.9377116338429323,
          1.157618245010482,
          0.4417619372673336,
          2.231812348980026,
          1.6919083855933066,
          2.1141526754460953,
          0.8692069608104663,
          2.229827866213756,
          1.7924626561439
         ]
        },
        {
         "name": "806187417",
         "type": "box",
         "y": [
          0.8025072310387186,
          0.4838981482425559,
          1.6908754108929784,
          1.1155305951571692,
          1.2896977643233976,
          1.3258950639611025,
          1.6983188080690363,
          1.443644575266459,
          0.995954126913287,
          1.52300667241265,
          0.8791347816565843,
          0.6073158994813658,
          1.150827215501134,
          1.0041271214138876,
          1.4644045760760487,
          0.5074188949301581,
          0.9354373974222749,
          0.7627348422488078,
          1.5987775392158778,
          1.390790338977412,
          1.2904298262586926,
          1.2661902556379208,
          1.3871882974696814,
          1.4033247012285663,
          2.4865157055696856,
          1.093609348780103,
          1.752794078606712,
          0.31508711609078993,
          2.6134655287603126,
          1.0320817739455264,
          0.9030418276754109,
          0.5823812231969493,
          0.8846435347491611,
          0.9018578551225209,
          1.1738289654044858,
          0.7446437351177025
         ]
        },
        {
         "name": "771513244",
         "type": "box",
         "y": [
          0.8609047015596288,
          0.7251650965592995,
          1.8534785129151623,
          1.3779861548168217,
          1.3876910067865367,
          1.3714017706150774,
          1.7163416141698595,
          1.5245445901953671,
          1.0021073214280316,
          1.3979345404142796,
          0.9887472027742211,
          0.7227443645840842,
          1.177541831881949,
          0.9530471735167436,
          1.4685460609912124,
          0.8236007376286641,
          1.0301279473330753,
          0.8391523244721361,
          1.887426164387364,
          1.4910383055266354,
          1.389049961347951,
          1.3160254782502363,
          1.364021891616559,
          1.4523241042906319,
          2.085999751708934,
          1.2790961955581375,
          1.9862776214483229,
          0.6209907121390738,
          2.905792068558275,
          1.109505240814218,
          0.6732992732551063,
          0.6311035826306007,
          1.232229065106429,
          1.0661208570445864,
          1.2617729592100042,
          0.5262206723644665
         ]
        },
        {
         "name": "1562145181",
         "type": "box",
         "y": [
          1.0756027324409072,
          0.5047340428624533,
          1.8422856434331976,
          1.2422502574179166,
          0.9929700712868853,
          1.140850516954867,
          1.4793230491993998,
          1.2456503671808452,
          0.9439486470851044,
          1.894542847480231,
          0.9666005633209245,
          0.6003556103843336,
          1.2168252608638805,
          0.8648983070359637,
          1.731084738682528,
          0.4119595420533183,
          0.9755002911747088,
          0.9471642864722902,
          1.823303682269693,
          1.9100489391509423,
          1.2003259958810968,
          1.1448531171307936,
          1.3452337214221035,
          1.3669736252127007,
          2.523144925102134,
          1.1022105295266147,
          1.7109332329876685,
          0.5769031378444925,
          2.534145701791201,
          1.3250495987256106,
          0.8292267649042345,
          0.44239573092456613,
          1.1845842489261738,
          2.0051356425847455,
          1.0094462971140838,
          0.7328112407810646
         ]
        },
        {
         "name": "896338719",
         "type": "box",
         "y": [
          0.7605221156384067,
          0.4722550141282339,
          1.485167457679548,
          1.0713100543803362,
          1.1167106361276173,
          1.1713062891811814,
          1.4573369096636246,
          1.2533769549599383,
          0.8580606378871065,
          1.2819643247151085,
          0.9528052196531115,
          0.6237707847866542,
          1.0848759829431371,
          0.850429761413286,
          1.3391631808808586,
          0.6741844209740144,
          0.8609510728545416,
          0.8133244668809957,
          1.3823775944612695,
          1.3041772786176067,
          1.1772880954445937,
          1.0823400403863777,
          1.2761707702933653,
          1.2282443270521066,
          2.2151000929457876,
          0.9965596635332561,
          1.6634645166719733,
          0.3906679022032029,
          2.492954938224232,
          0.8425226395815308,
          0.7841048083862453,
          0.5552015551052306,
          1.046708369750493,
          0.9059692133782212,
          1.0823682008064306,
          0.7090733601628256
         ]
        },
        {
         "name": "1113196323",
         "type": "box",
         "y": [
          1.409142687094555,
          0.8228500629200725,
          1.6668087186066654,
          1.4087925682314832,
          0.9657973432929431,
          1.2275987779725348,
          1.1803468529471264,
          0.9459407823357298,
          0.9949539456195406,
          1.6372038133166604,
          1.8766574381472867,
          0.7713361789310855,
          1.559008574884379,
          1.56080548132917,
          1.8397686498853203,
          0.8338104950449036,
          1.034381912496397,
          0.833276934058316,
          1.3795163959347108,
          1.429736700727578,
          1.1267015321191323,
          1.4203265950653587,
          1.573039353538688,
          1.6268469227559645,
          1.851215373405939,
          0.7740597000687481,
          0.98792871452802,
          0.4321344535917026,
          2.0998374190052655,
          1.7167703033816883,
          0.7358859912359366,
          0.7454843746809586,
          1.3892294273907677,
          0.9863870793198232,
          0.7882855402853864,
          1.1249758788676076
         ]
        },
        {
         "name": "1597760039",
         "type": "box",
         "y": [
          1.1119885696011123,
          0.5500140869970518,
          1.337868850575695,
          0.8858845917551272,
          0.635387939184018,
          0.8948347896895871,
          0.8317868031509071,
          0.8161382232485616,
          0.8381770215226159,
          1.504473248981501,
          1.5440997301992467,
          1.2388828652939285,
          1.1388695304533516,
          1.4117749169105802,
          1.5301083264593345,
          1.249897794615732,
          1.4952069370878311,
          0.6922864774632222,
          1.1359228856752834,
          0.964246571332504,
          0.8703916188348716,
          1.0934080763778755,
          1.2152162479056983,
          1.3004472553388005,
          1.491151856161757,
          1.241424239094084,
          0.7263660547900515,
          0.2991774696068033,
          1.3919115860892484,
          1.5361969747144726,
          0.48186870976052176,
          0.747856661656095,
          0.8115724406778794,
          1.7938441104923437,
          0.637682368381414,
          0.8934752555796969
         ]
        },
        {
         "name": "317532327",
         "type": "box",
         "y": [
          0.8050702346244257,
          1.3610561014491742,
          1.5117646239477192,
          1.7634976341711788,
          1.016818319538386,
          1.0620938520614223,
          1.3515686890596845,
          0.9571506426165152,
          1.1345529970900332,
          1.3362514760192215,
          1.5013972067254173,
          0.8137253204733144,
          1.3884860190759678,
          1.462095329299317,
          1.386245911460911,
          1.1777670819585693,
          2.5662008316456264,
          1.5113983534044562,
          1.0780157162098751,
          1.3342285584942117,
          1.333827619760455,
          1.351633903941614,
          1.2183637907204923,
          1.3340120994649804,
          1.547570382333611,
          1.0081276032841842,
          0.8936133069299291,
          0.7219727910872674,
          1.8199502852370009,
          1.630837193338026,
          0.5720067797520999,
          1.6314270160267388,
          1.192821160965124,
          1.3043827309777565,
          0.976344036718339,
          1.3528994043789189
         ]
        },
        {
         "name": "346061612",
         "type": "box",
         "y": [
          1.2039251380543496,
          0.7374334094301557,
          2.3337980548293396,
          1.5067201492302158,
          1.5166198726404512,
          1.4292321592835362,
          1.9537304455540736,
          1.7420230666971537,
          1.4366060716999374,
          2.1275617689323143,
          1.6786243527488185,
          0.9261556459748064,
          2.116132657671755,
          1.801246672119173,
          2.241251688722952,
          0.6189659132408037,
          1.644443154065103,
          1.7072855884141855,
          2.2430293997977504,
          2.2038600105150663,
          2.0239846293787243,
          2.007503675606269,
          2.3029832801931893,
          2.3470591877303733,
          3.4450661585496136,
          1.8496449851923253,
          2.4104500794274277,
          0.6422544696142788,
          3.9639119561597416,
          2.0234034706598143,
          1.1946438674085686,
          0.839491501807791,
          1.623330776255352,
          1.4492153140748667,
          1.6797764022996482,
          1.1016705912636768
         ]
        },
        {
         "name": "40333612",
         "type": "box",
         "y": [
          0.9732153910844775,
          0.6782112692571235,
          1.95634801936834,
          1.2082795069490386,
          1.4646070759895229,
          1.5854545822509218,
          1.9125254692880074,
          1.7317249409099615,
          1.4339675755913637,
          1.7778556027883508,
          1.1944308512595732,
          0.8675579262968446,
          1.3351139462863324,
          1.1492467786706284,
          1.8037009623584659,
          0.9021080995297106,
          1.2566304830723747,
          1.28535302470845,
          1.3549534518959023,
          1.74746198765515,
          1.6122717357541714,
          1.6881776916391382,
          1.7453339744505043,
          1.8261291382797284,
          2.6203190741115883,
          1.4526470189379475,
          2.054873102424029,
          0.7156038647823625,
          2.8552785161018144,
          0.9935033747223665,
          0.9730179264345837,
          0.7433906425252784,
          1.194487114239538,
          1.4674092604401547,
          1.450278422451173,
          1.1080025938626858
         ]
        },
        {
         "name": "511723709",
         "type": "box",
         "y": [
          1.1163929228382596,
          0.7744130850720189,
          2.1489538828407264,
          1.3028443497241533,
          1.4953341183734519,
          1.6314355624463677,
          2.009236752673695,
          1.8002763045566288,
          1.536062008944045,
          1.9898777178920877,
          1.3632656998400237,
          1.039044626876025,
          1.552356305977097,
          1.3997071847462503,
          2.026183908039013,
          0.8166249732798,
          1.4393974015628017,
          1.5429421414882116,
          1.4713139210471309,
          1.9688197711550934,
          1.8381771647805485,
          1.8315161121108883,
          1.934010304370061,
          2.0123724035608697,
          3.1469245668411596,
          1.5140653624533205,
          2.2059326106195445,
          0.672315100297425,
          3.246427346960594,
          1.2915687248753096,
          0.837967995750659,
          0.928986052584707,
          1.3778291268011842,
          1.6627031708266873,
          1.6360879389773804,
          1.29727859460688
         ]
        },
        {
         "name": "1004972352",
         "type": "box",
         "y": [
          1.2668302848053905,
          0.4689165996643987,
          1.7028238753381466,
          0.9563056238222256,
          1.4005375060133185,
          0.9371035125415779,
          1.456045000387107,
          1.4675849165301518,
          1.7713454328305147,
          2.1094613600078906,
          1.591594068281525,
          0.4314226382986268,
          1.0657723032343567,
          1.4456300793097516,
          1.33329216084989,
          1.2195268851423116,
          2.106903724660914,
          1.262796501015417,
          1.2499318660009162,
          0.8793257736183913,
          1.009092783607112,
          1.5304374271292127,
          1.932841012054041,
          1.7852225336976812,
          2.0146934213776557,
          0.7091741321962314,
          1.1134419408213558,
          0.4273853073749992,
          1.6319450270718527,
          1.7639592291513455,
          0.7104085972715898,
          1.0407310352991195,
          0.9216123821130286,
          1.8664755691520494,
          0.554873416968301,
          0.8871393772987428
         ]
        },
        {
         "name": "143824576",
         "type": "box",
         "y": [
          0.9219154261898836,
          0.5745499889456209,
          1.6411339889079528,
          1.044357653850723,
          1.1938304775625121,
          1.331122944064344,
          1.58210813596814,
          1.31887976554888,
          0.9947226450330263,
          1.4554711659907364,
          1.2845386810945598,
          0.7641366331276395,
          1.6142055187538027,
          0.9587770997930353,
          1.8419256791083871,
          0.6856535377029758,
          0.8058255944061266,
          0.8011467326101619,
          1.4455929270263723,
          1.3458961522606068,
          1.239377604327218,
          1.1790810732250427,
          1.3522535629345025,
          1.352863775956411,
          2.367669317431242,
          1.1368901083389318,
          1.6051525517786451,
          0.3989978801347131,
          2.531299103248807,
          0.9162624863836373,
          0.5290974296684361,
          0.7157128131418024,
          1.2456626618328277,
          0.7568371134549441,
          1.0222930819806488,
          0.7273989953324076
         ]
        },
        {
         "name": "368424646",
         "type": "box",
         "y": [
          3.500224911800086,
          1.8228819186806164,
          2.4217354950165038,
          1.3202344454489165,
          2.1170090937568324,
          1.8979629188628853,
          1.03734166239024,
          3.3661717143971495,
          2.2025917645598776,
          2.4857508966938897,
          0.80756096469277,
          0.7412726266990989,
          0.5468840623085877,
          0.49362370851687976,
          3.904873218401097,
          2.1245745960445843,
          2.1496817709600697,
          1.0572337539596037,
          0.8310228272771949,
          1.0372087891599029,
          0.637182576500012,
          3.6128913394241873,
          2.2602200311735716,
          2.5382805208667234,
          0.32827617436780493,
          1.0642325103659631,
          0.8372107700907296,
          1.3059209573120574,
          2.5672830383539744,
          1.5258631740210762,
          1.806140172428835,
          0.8564759705717062,
          0.4897413556022844,
          1.06855772853679,
          1.0353261295442866,
          3.730576232322931
         ]
        },
        {
         "name": "1428227531",
         "type": "box",
         "y": [
          0.950476245944019,
          0.8316785588857382,
          1.3593912417571852,
          1.091175098161172,
          0.7253071869238387,
          1.3514563045607104,
          1.0606248291334486,
          1.023097086188558,
          0.9398770060887671,
          1.5471097311049002,
          1.6302169226751642,
          1.5415553423218857,
          1.438901612270915,
          1.5126939710951661,
          1.7742027193199053,
          1.0852805196121407,
          1.7592664343217732,
          1.0710037697048282,
          1.0571410001356616,
          1.1246260450039176,
          0.909412246649875,
          1.153925294034765,
          1.3098245775844464,
          1.4101934122329207,
          1.6137282251780654,
          1.4596261080371224,
          0.6202402060487557,
          0.39092078133974306,
          1.7255072847901636,
          1.9123867545112507,
          0.627499927127488,
          0.8820852669440346,
          1.007060149250427,
          1.8130103611388004,
          0.7651321710714669,
          1.1986840385516635
         ]
        },
        {
         "name": "2040495184",
         "type": "box",
         "y": [
          1.3084071468649896,
          0.6379531439365608,
          1.7326088049909354,
          1.0949854948364182,
          0.8610470415082697,
          0.9558496758061391,
          1.0454945627785341,
          0.7966465477667644,
          0.8539083759521117,
          1.6360868089484342,
          1.6425523949110854,
          0.8104646752020847,
          1.4152401379292647,
          1.665678155560487,
          1.777372884246803,
          1.3966153488492394,
          1.6781317168895842,
          0.8040667919473111,
          1.2551422652587008,
          1.1173657685570793,
          1.1386247983709394,
          1.216432072245507,
          1.5400792824470984,
          1.4247005103642678,
          1.676126031019615,
          0.676652811544525,
          0.9037703341807164,
          0.42549668995053863,
          1.6087263228289579,
          1.637325776034785,
          0.4943693468347652,
          0.9013701173185095,
          0.6444077082291072,
          1.9247822645729582,
          0.7453896765713643,
          1.081922010562822
         ]
        },
        {
         "name": "1893337300",
         "type": "box",
         "y": [
          1.505855328669153,
          0.6537616312969124,
          1.2596980091901027,
          0.5144279326220726,
          0.6548803326577813,
          0.7426777215465579,
          1.2786749874097034,
          1.6982850403605876,
          2.026660593267098,
          2.188402334073682,
          1.67217966529418,
          0.6378044221158704,
          0.8393300842620789,
          1.4073789971365904,
          1.0829921921051664,
          0.7700883809391778,
          1.6340281943329225,
          0.8878127532344319,
          1.4351077152575749,
          1.046746985740114,
          0.857601049266154,
          1.4455734306016914,
          1.1694318240445316,
          1.7849064521513907,
          1.8354366640573823,
          1.2027514221616176,
          0.8615349272847572,
          0.8600229148389191,
          1.3937589523479235,
          1.6275840295741413,
          0.42304646303823706,
          1.1251331405749643,
          1.344405124530409,
          1.4901262257311252,
          1.0620287004817948,
          1.0060967458312204
         ]
        },
        {
         "name": "2117861717",
         "type": "box",
         "y": [
          0.7859389587955644,
          0.5833695313380662,
          1.6222845390948755,
          1.0426319376919735,
          1.2744315169556484,
          1.4321046430484425,
          1.7972141663387815,
          1.5705853563802241,
          1.1727520724681555,
          1.5776328097712204,
          0.7724777925939724,
          0.7424084989133072,
          0.9707619685843865,
          0.7679033435695529,
          1.4067981200649933,
          0.8207390254231475,
          1.014596837474414,
          0.7676221634345851,
          1.2889615823293654,
          1.389175330819805,
          1.341867601970401,
          1.4728314451327582,
          1.4195055207953615,
          1.4539287703643955,
          2.339199456841558,
          1.2137938986368446,
          1.8183638761244754,
          0.6029478119105941,
          2.666175130057769,
          0.7297226328593507,
          0.8089060736043063,
          0.6656003416529969,
          1.0703373941527352,
          1.0547271033165924,
          1.1147532842640797,
          0.7150214974230042
         ]
        },
        {
         "name": "1941427679",
         "type": "box",
         "y": [
          1.1241388525173885,
          0.5338078963073908,
          2.227529365556203,
          1.5348000898126595,
          1.52087558347106,
          1.4404193736413489,
          1.9593586193545787,
          1.7864758756638746,
          1.239434036978582,
          2.097457924020595,
          1.68581456423757,
          0.9546754976882781,
          1.8759086981952595,
          1.712314063412443,
          2.3695132027286774,
          0.6427021050909575,
          1.4001401332466723,
          1.8379929283432985,
          1.7041569434197898,
          1.963610260909572,
          1.9724149593265263,
          1.8575221504990693,
          2.079297339900135,
          2.191438595840203,
          3.366818656975998,
          1.842215010093311,
          2.1547534440834286,
          0.7182223587936649,
          3.581530181651953,
          2.109084767581954,
          0.8491667420192194,
          0.64732973978843,
          1.3886528787182078,
          1.6020691465596977,
          1.819888663323194,
          1.3436252301937999
         ]
        },
        {
         "name": "1708098535",
         "type": "box",
         "y": [
          0.8869399299743702,
          0.7320425885705083,
          1.8157609054422552,
          1.3795192864188057,
          1.1999133978064276,
          1.3024884219568853,
          1.6985885020657159,
          1.4923525327094114,
          0.9869903102037322,
          1.4554212017359216,
          1.0793186263786543,
          0.6812019701320597,
          1.2710018118442914,
          0.9956879557883974,
          1.579314657073635,
          0.8261367375711378,
          1.0208758790647985,
          0.7794117553118304,
          1.8035647111090278,
          1.469222527154255,
          1.4197560883936735,
          1.3113017499037427,
          1.4475312160137197,
          1.4815214440836442,
          2.321476737686069,
          1.3209312502715487,
          1.944808995974224,
          0.49485838861058645,
          2.8776308725344246,
          1.1689256832031218,
          0.7807114293815748,
          0.4756967877388175,
          1.3671796076314018,
          1.0929244683119324,
          1.2668782974348411,
          0.6023390870385311
         ]
        },
        {
         "name": "456209269",
         "type": "box",
         "y": [
          0.9047310088416429,
          0.5240379393860438,
          1.77932314210094,
          1.1492481548788476,
          1.2841330894990957,
          1.370451986493842,
          1.6199595265937563,
          1.449334944358314,
          1.0594130008782625,
          1.639223649220421,
          1.1398775544459026,
          0.6741557510598636,
          1.2579925467650102,
          1.1300064881576974,
          1.6623581833728864,
          0.7195903696751744,
          1.1005666446572975,
          1.1839982730167902,
          1.3205005687945008,
          1.614130150447929,
          1.4261855601493634,
          1.3136478324773264,
          1.5652864367112513,
          1.571348263083718,
          2.7145248026393665,
          1.1869985092934012,
          1.880234370280242,
          0.6171344002379083,
          2.799040849060739,
          1.0762962307035067,
          0.8375547661723954,
          0.7486375304159953,
          1.237729645641227,
          1.2492569015385357,
          1.407632463979352,
          1.0264751568953454
         ]
        }
       ],
       "layout": {
        "showlegend": false,
        "template": {
         "data": {
          "bar": [
           {
            "error_x": {
             "color": "#2a3f5f"
            },
            "error_y": {
             "color": "#2a3f5f"
            },
            "marker": {
             "line": {
              "color": "#E5ECF6",
              "width": 0.5
             }
            },
            "type": "bar"
           }
          ],
          "barpolar": [
           {
            "marker": {
             "line": {
              "color": "#E5ECF6",
              "width": 0.5
             }
            },
            "type": "barpolar"
           }
          ],
          "carpet": [
           {
            "aaxis": {
             "endlinecolor": "#2a3f5f",
             "gridcolor": "white",
             "linecolor": "white",
             "minorgridcolor": "white",
             "startlinecolor": "#2a3f5f"
            },
            "baxis": {
             "endlinecolor": "#2a3f5f",
             "gridcolor": "white",
             "linecolor": "white",
             "minorgridcolor": "white",
             "startlinecolor": "#2a3f5f"
            },
            "type": "carpet"
           }
          ],
          "choropleth": [
           {
            "colorbar": {
             "outlinewidth": 0,
             "ticks": ""
            },
            "type": "choropleth"
           }
          ],
          "contour": [
           {
            "colorbar": {
             "outlinewidth": 0,
             "ticks": ""
            },
            "colorscale": [
             [
              0,
              "#0d0887"
             ],
             [
              0.1111111111111111,
              "#46039f"
             ],
             [
              0.2222222222222222,
              "#7201a8"
             ],
             [
              0.3333333333333333,
              "#9c179e"
             ],
             [
              0.4444444444444444,
              "#bd3786"
             ],
             [
              0.5555555555555556,
              "#d8576b"
             ],
             [
              0.6666666666666666,
              "#ed7953"
             ],
             [
              0.7777777777777778,
              "#fb9f3a"
             ],
             [
              0.8888888888888888,
              "#fdca26"
             ],
             [
              1,
              "#f0f921"
             ]
            ],
            "type": "contour"
           }
          ],
          "contourcarpet": [
           {
            "colorbar": {
             "outlinewidth": 0,
             "ticks": ""
            },
            "type": "contourcarpet"
           }
          ],
          "heatmap": [
           {
            "colorbar": {
             "outlinewidth": 0,
             "ticks": ""
            },
            "colorscale": [
             [
              0,
              "#0d0887"
             ],
             [
              0.1111111111111111,
              "#46039f"
             ],
             [
              0.2222222222222222,
              "#7201a8"
             ],
             [
              0.3333333333333333,
              "#9c179e"
             ],
             [
              0.4444444444444444,
              "#bd3786"
             ],
             [
              0.5555555555555556,
              "#d8576b"
             ],
             [
              0.6666666666666666,
              "#ed7953"
             ],
             [
              0.7777777777777778,
              "#fb9f3a"
             ],
             [
              0.8888888888888888,
              "#fdca26"
             ],
             [
              1,
              "#f0f921"
             ]
            ],
            "type": "heatmap"
           }
          ],
          "heatmapgl": [
           {
            "colorbar": {
             "outlinewidth": 0,
             "ticks": ""
            },
            "colorscale": [
             [
              0,
              "#0d0887"
             ],
             [
              0.1111111111111111,
              "#46039f"
             ],
             [
              0.2222222222222222,
              "#7201a8"
             ],
             [
              0.3333333333333333,
              "#9c179e"
             ],
             [
              0.4444444444444444,
              "#bd3786"
             ],
             [
              0.5555555555555556,
              "#d8576b"
             ],
             [
              0.6666666666666666,
              "#ed7953"
             ],
             [
              0.7777777777777778,
              "#fb9f3a"
             ],
             [
              0.8888888888888888,
              "#fdca26"
             ],
             [
              1,
              "#f0f921"
             ]
            ],
            "type": "heatmapgl"
           }
          ],
          "histogram": [
           {
            "marker": {
             "colorbar": {
              "outlinewidth": 0,
              "ticks": ""
             }
            },
            "type": "histogram"
           }
          ],
          "histogram2d": [
           {
            "colorbar": {
             "outlinewidth": 0,
             "ticks": ""
            },
            "colorscale": [
             [
              0,
              "#0d0887"
             ],
             [
              0.1111111111111111,
              "#46039f"
             ],
             [
              0.2222222222222222,
              "#7201a8"
             ],
             [
              0.3333333333333333,
              "#9c179e"
             ],
             [
              0.4444444444444444,
              "#bd3786"
             ],
             [
              0.5555555555555556,
              "#d8576b"
             ],
             [
              0.6666666666666666,
              "#ed7953"
             ],
             [
              0.7777777777777778,
              "#fb9f3a"
             ],
             [
              0.8888888888888888,
              "#fdca26"
             ],
             [
              1,
              "#f0f921"
             ]
            ],
            "type": "histogram2d"
           }
          ],
          "histogram2dcontour": [
           {
            "colorbar": {
             "outlinewidth": 0,
             "ticks": ""
            },
            "colorscale": [
             [
              0,
              "#0d0887"
             ],
             [
              0.1111111111111111,
              "#46039f"
             ],
             [
              0.2222222222222222,
              "#7201a8"
             ],
             [
              0.3333333333333333,
              "#9c179e"
             ],
             [
              0.4444444444444444,
              "#bd3786"
             ],
             [
              0.5555555555555556,
              "#d8576b"
             ],
             [
              0.6666666666666666,
              "#ed7953"
             ],
             [
              0.7777777777777778,
              "#fb9f3a"
             ],
             [
              0.8888888888888888,
              "#fdca26"
             ],
             [
              1,
              "#f0f921"
             ]
            ],
            "type": "histogram2dcontour"
           }
          ],
          "mesh3d": [
           {
            "colorbar": {
             "outlinewidth": 0,
             "ticks": ""
            },
            "type": "mesh3d"
           }
          ],
          "parcoords": [
           {
            "line": {
             "colorbar": {
              "outlinewidth": 0,
              "ticks": ""
             }
            },
            "type": "parcoords"
           }
          ],
          "pie": [
           {
            "automargin": true,
            "type": "pie"
           }
          ],
          "scatter": [
           {
            "marker": {
             "colorbar": {
              "outlinewidth": 0,
              "ticks": ""
             }
            },
            "type": "scatter"
           }
          ],
          "scatter3d": [
           {
            "line": {
             "colorbar": {
              "outlinewidth": 0,
              "ticks": ""
             }
            },
            "marker": {
             "colorbar": {
              "outlinewidth": 0,
              "ticks": ""
             }
            },
            "type": "scatter3d"
           }
          ],
          "scattercarpet": [
           {
            "marker": {
             "colorbar": {
              "outlinewidth": 0,
              "ticks": ""
             }
            },
            "type": "scattercarpet"
           }
          ],
          "scattergeo": [
           {
            "marker": {
             "colorbar": {
              "outlinewidth": 0,
              "ticks": ""
             }
            },
            "type": "scattergeo"
           }
          ],
          "scattergl": [
           {
            "marker": {
             "colorbar": {
              "outlinewidth": 0,
              "ticks": ""
             }
            },
            "type": "scattergl"
           }
          ],
          "scattermapbox": [
           {
            "marker": {
             "colorbar": {
              "outlinewidth": 0,
              "ticks": ""
             }
            },
            "type": "scattermapbox"
           }
          ],
          "scatterpolar": [
           {
            "marker": {
             "colorbar": {
              "outlinewidth": 0,
              "ticks": ""
             }
            },
            "type": "scatterpolar"
           }
          ],
          "scatterpolargl": [
           {
            "marker": {
             "colorbar": {
              "outlinewidth": 0,
              "ticks": ""
             }
            },
            "type": "scatterpolargl"
           }
          ],
          "scatterternary": [
           {
            "marker": {
             "colorbar": {
              "outlinewidth": 0,
              "ticks": ""
             }
            },
            "type": "scatterternary"
           }
          ],
          "surface": [
           {
            "colorbar": {
             "outlinewidth": 0,
             "ticks": ""
            },
            "colorscale": [
             [
              0,
              "#0d0887"
             ],
             [
              0.1111111111111111,
              "#46039f"
             ],
             [
              0.2222222222222222,
              "#7201a8"
             ],
             [
              0.3333333333333333,
              "#9c179e"
             ],
             [
              0.4444444444444444,
              "#bd3786"
             ],
             [
              0.5555555555555556,
              "#d8576b"
             ],
             [
              0.6666666666666666,
              "#ed7953"
             ],
             [
              0.7777777777777778,
              "#fb9f3a"
             ],
             [
              0.8888888888888888,
              "#fdca26"
             ],
             [
              1,
              "#f0f921"
             ]
            ],
            "type": "surface"
           }
          ],
          "table": [
           {
            "cells": {
             "fill": {
              "color": "#EBF0F8"
             },
             "line": {
              "color": "white"
             }
            },
            "header": {
             "fill": {
              "color": "#C8D4E3"
             },
             "line": {
              "color": "white"
             }
            },
            "type": "table"
           }
          ]
         },
         "layout": {
          "annotationdefaults": {
           "arrowcolor": "#2a3f5f",
           "arrowhead": 0,
           "arrowwidth": 1
          },
          "autotypenumbers": "strict",
          "coloraxis": {
           "colorbar": {
            "outlinewidth": 0,
            "ticks": ""
           }
          },
          "colorscale": {
           "diverging": [
            [
             0,
             "#8e0152"
            ],
            [
             0.1,
             "#c51b7d"
            ],
            [
             0.2,
             "#de77ae"
            ],
            [
             0.3,
             "#f1b6da"
            ],
            [
             0.4,
             "#fde0ef"
            ],
            [
             0.5,
             "#f7f7f7"
            ],
            [
             0.6,
             "#e6f5d0"
            ],
            [
             0.7,
             "#b8e186"
            ],
            [
             0.8,
             "#7fbc41"
            ],
            [
             0.9,
             "#4d9221"
            ],
            [
             1,
             "#276419"
            ]
           ],
           "sequential": [
            [
             0,
             "#0d0887"
            ],
            [
             0.1111111111111111,
             "#46039f"
            ],
            [
             0.2222222222222222,
             "#7201a8"
            ],
            [
             0.3333333333333333,
             "#9c179e"
            ],
            [
             0.4444444444444444,
             "#bd3786"
            ],
            [
             0.5555555555555556,
             "#d8576b"
            ],
            [
             0.6666666666666666,
             "#ed7953"
            ],
            [
             0.7777777777777778,
             "#fb9f3a"
            ],
            [
             0.8888888888888888,
             "#fdca26"
            ],
            [
             1,
             "#f0f921"
            ]
           ],
           "sequentialminus": [
            [
             0,
             "#0d0887"
            ],
            [
             0.1111111111111111,
             "#46039f"
            ],
            [
             0.2222222222222222,
             "#7201a8"
            ],
            [
             0.3333333333333333,
             "#9c179e"
            ],
            [
             0.4444444444444444,
             "#bd3786"
            ],
            [
             0.5555555555555556,
             "#d8576b"
            ],
            [
             0.6666666666666666,
             "#ed7953"
            ],
            [
             0.7777777777777778,
             "#fb9f3a"
            ],
            [
             0.8888888888888888,
             "#fdca26"
            ],
            [
             1,
             "#f0f921"
            ]
           ]
          },
          "colorway": [
           "#636efa",
           "#EF553B",
           "#00cc96",
           "#ab63fa",
           "#FFA15A",
           "#19d3f3",
           "#FF6692",
           "#B6E880",
           "#FF97FF",
           "#FECB52"
          ],
          "font": {
           "color": "#2a3f5f"
          },
          "geo": {
           "bgcolor": "white",
           "lakecolor": "white",
           "landcolor": "#E5ECF6",
           "showlakes": true,
           "showland": true,
           "subunitcolor": "white"
          },
          "hoverlabel": {
           "align": "left"
          },
          "hovermode": "closest",
          "mapbox": {
           "style": "light"
          },
          "paper_bgcolor": "white",
          "plot_bgcolor": "#E5ECF6",
          "polar": {
           "angularaxis": {
            "gridcolor": "white",
            "linecolor": "white",
            "ticks": ""
           },
           "bgcolor": "#E5ECF6",
           "radialaxis": {
            "gridcolor": "white",
            "linecolor": "white",
            "ticks": ""
           }
          },
          "scene": {
           "xaxis": {
            "backgroundcolor": "#E5ECF6",
            "gridcolor": "white",
            "gridwidth": 2,
            "linecolor": "white",
            "showbackground": true,
            "ticks": "",
            "zerolinecolor": "white"
           },
           "yaxis": {
            "backgroundcolor": "#E5ECF6",
            "gridcolor": "white",
            "gridwidth": 2,
            "linecolor": "white",
            "showbackground": true,
            "ticks": "",
            "zerolinecolor": "white"
           },
           "zaxis": {
            "backgroundcolor": "#E5ECF6",
            "gridcolor": "white",
            "gridwidth": 2,
            "linecolor": "white",
            "showbackground": true,
            "ticks": "",
            "zerolinecolor": "white"
           }
          },
          "shapedefaults": {
           "line": {
            "color": "#2a3f5f"
           }
          },
          "ternary": {
           "aaxis": {
            "gridcolor": "white",
            "linecolor": "white",
            "ticks": ""
           },
           "baxis": {
            "gridcolor": "white",
            "linecolor": "white",
            "ticks": ""
           },
           "bgcolor": "#E5ECF6",
           "caxis": {
            "gridcolor": "white",
            "linecolor": "white",
            "ticks": ""
           }
          },
          "title": {
           "x": 0.05
          },
          "xaxis": {
           "automargin": true,
           "gridcolor": "white",
           "linecolor": "white",
           "ticks": "",
           "title": {
            "standoff": 15
           },
           "zerolinecolor": "white",
           "zerolinewidth": 2
          },
          "yaxis": {
           "automargin": true,
           "gridcolor": "white",
           "linecolor": "white",
           "ticks": "",
           "title": {
            "standoff": 15
           },
           "zerolinecolor": "white",
           "zerolinewidth": 2
          }
         }
        },
        "title": {
         "text": "Dilated Convolutions (Rate - 2)"
        },
        "xaxis": {
         "title": {
          "text": "Time series"
         }
        },
        "yaxis": {
         "title": {
          "text": "MASE distribution"
         }
        }
       }
      },
      "text/html": [
       "<div>                            <div id=\"16809dd4-926c-4127-b751-ee1bfbbc071e\" class=\"plotly-graph-div\" style=\"height:525px; width:100%;\"></div>            <script type=\"text/javascript\">                require([\"plotly\"], function(Plotly) {                    window.PLOTLYENV=window.PLOTLYENV || {};                                    if (document.getElementById(\"16809dd4-926c-4127-b751-ee1bfbbc071e\")) {                    Plotly.newPlot(                        \"16809dd4-926c-4127-b751-ee1bfbbc071e\",                        [{\"name\": \"grid\", \"type\": \"box\", \"y\": [3.4053630071537606, 3.9336043320261247, 4.943115464028954, 5.288742006370496, 4.712054390061754, 5.04895820253476, 5.4229256717237755, 4.390895517904, 4.757890353496411, 4.043340268024233, 3.666636658782479, 4.848673635779654, 5.218897837073379, 5.26500076073676, 3.942124784384393, 3.608355122418069, 3.1638820405420085, 4.384345962342484, 4.817420420561679, 5.173560896157113, 5.330607625404893, 4.345695578155768, 4.471440943121055, 4.759207973022852, 4.026650673499766, 4.476796030752107, 5.18310277240383, 5.038219618234287, 1.5929341032104312, 2.1763657574487834, 2.9342692421173635, 3.6599821890504667, 3.9401761866630705, 3.1538693577488983, 5.19519390562354, 4.184911074400843]}, {\"name\": \"tline_1\", \"type\": \"box\", \"y\": [2.646615275285092, 3.6323416704765306, 4.002232026459468, 3.5208021500681688, 3.84264763906387, 3.6210695837671767, 3.790398239077742, 3.8202108144163978, 3.7779904857699065, 2.7367173451852933, 2.0816081122888432, 3.3648474716702923, 3.8496490568499184, 3.833631822351287, 3.0884748949354504, 3.0425749189004256, 3.7667815105385998, 3.666948870361032, 3.2832037165534445, 3.879214670014254, 3.8704672703477776, 3.8580590874698637, 3.8296475051220544, 3.8647563580501396, 1.8999848075336223, 3.419099726056122, 3.9233289296587714, 3.696935033301692, 2.2663814507013824, 1.7434489165032079, 2.621027283836822, 3.3918286960266864, 3.3786012150422002, 3.9767047672808116, 3.9691670985804786, 3.6248149227742137]}, {\"name\": \"tline_2\", \"type\": \"box\", \"y\": [3.0755066359049605, 3.379146420507946, 4.412154216833164, 5.043484794378663, 4.1801802993433315, 4.710647849726063, 5.102892639440857, 3.809698900462003, 4.265709440802959, 3.939417238509428, 3.671274909892521, 4.652138512328456, 4.823708547981254, 4.884736364428306, 3.6075985381530105, 3.1567987436099223, 2.3139954484870313, 3.86319805512154, 4.6525463203552135, 4.746242250720735, 4.943177779995929, 3.7359643708445707, 3.9095690125671676, 4.23669525323873, 4.217828969705242, 4.1682606782448, 4.7581034102553215, 4.654853018577624, 1.24769407552525, 1.9606641169292278, 2.526262780671289, 3.1502803102008246, 3.461346205539884, 2.2352831014618038, 4.757256684708742, 3.6363402634985067]}, {\"name\": \"substation1\", \"type\": \"box\", \"y\": [2.6192258981167216, 3.6413157511664616, 4.030390417472232, 3.535837297940808, 3.8410108927250866, 3.6484934850723483, 3.815729620745404, 3.8436554623043873, 3.7957427506798687, 2.6763005394753265, 2.081509231344866, 3.3518661941098844, 3.854302291372021, 3.8218019231178313, 3.072090501866898, 3.067520608493339, 3.8230469366595297, 3.678520705034908, 3.236426793815619, 3.8716317912092113, 3.880116465072524, 3.866126183400362, 3.834353080421549, 3.881285119107993, 1.7938762510826725, 3.4514865645866477, 3.956243968673182, 3.6784091907406737, 2.229623404403464, 1.7371518670009976, 2.644855381184446, 3.4511964627474376, 3.355692715729226, 3.9979875507919056, 4.000048505275947, 3.603025303799527]}, {\"name\": \"substation2\", \"type\": \"box\", \"y\": [2.6546357115902786, 3.5083387689768286, 3.8318240624662323, 3.386285050469597, 3.745280183538921, 3.4502683560842087, 3.6288036747454058, 3.660809005085602, 3.6308227194146, 2.8377259817264373, 2.0670858501891822, 3.3108797226154336, 3.746614510591908, 3.763711627704164, 3.0501053061954564, 2.923665673939007, 3.512284111907355, 3.538228462894889, 3.318693235409321, 3.7969963145009027, 3.74534583100997, 3.7462237201536275, 3.7163018202327764, 3.7257999160342843, 2.250756027666194, 3.2891162738489856, 3.7279778997367408, 3.6513120902003946, 2.3160535499015964, 1.77096473647905, 2.490639474770327, 3.145790073864633, 3.353705359922808, 3.8212456304802878, 3.7785485747082923, 3.5899304243121817]}, {\"name\": \"substation3\", \"type\": \"box\", \"y\": [3.075458997578551, 3.3912102776745696, 4.41170142306849, 5.050796901604538, 4.175471591147432, 4.736553326850701, 5.112680385589846, 3.7987007540325246, 4.2648544485890625, 3.932361574468015, 3.6806079402546916, 4.665139006360682, 4.836006667579788, 4.893046948478102, 3.5973331659057606, 3.158999863875888, 2.317552623969646, 3.874851824887218, 4.668689536600587, 4.760259058754452, 4.9542798964461054, 3.7245315727750286, 3.897815457094382, 4.230701403610667, 4.223099930503417, 4.190376194842425, 4.763766116549937, 4.668721922817242, 1.2498050928240563, 1.9535709840463868, 2.530160848369335, 3.167315230233875, 3.474851592363842, 2.248286691449035, 4.778336191201623, 3.617864108795534]}, {\"name\": \"substation4\", \"type\": \"box\", \"y\": [2.2962217072919597, 2.039692864453858, 3.3795363435804995, 3.450894047782879, 3.2227939093867914, 2.5236190394766926, 3.4727547080694596, 3.3418463533736, 3.2362759732771194, 3.1114654962366743, 2.273588507682891, 2.968560624425108, 3.1136593907201986, 3.297411520757261, 3.1063820793309596, 2.1350077250484145, 1.7118296141943703, 2.434393081981244, 2.8167421805965263, 2.9805607413486834, 3.2212499822423504, 3.2828062267815996, 3.4148246897026087, 3.279183507329748, 2.8222326743658046, 2.1908987668306836, 3.3963397502768857, 2.810800847471241, 0.9053840243123176, 1.6521707360619686, 1.7544041836822082, 1.6267596979885894, 1.9999485553751606, 1.4399934959890908, 2.7660094340262993, 3.383092804789277]}, {\"name\": \"6010\", \"type\": \"box\", \"y\": [0.8850545000360601, 0.5679660318979922, 1.7853100886961983, 1.24727909477854, 1.224310484395309, 1.296435534330904, 1.6641749208107044, 1.4705332229146901, 0.9733257521221544, 1.4864259645510205, 1.0783339541860795, 0.6405651805100134, 1.2739677790693935, 1.0213249394003034, 1.582562778978945, 0.7692821917381518, 0.97937237463499, 0.9081519929352204, 1.6369267960658935, 1.5003503557272186, 1.4160778918442087, 1.307129072424722, 1.4707124798471702, 1.4826427480049038, 2.4222815384448007, 1.272923046628576, 1.8842441163836674, 0.43093646652030276, 2.844963627357918, 1.0464509858948197, 0.7318739131347664, 0.5689543352591983, 1.224371478525308, 1.095249637598493, 1.2938402661448678, 0.7625486814053143]}, {\"name\": \"6014\", \"type\": \"box\", \"y\": [1.0151244209561103, 0.6066141016510384, 2.1165479072176376, 1.4665612698017771, 1.4227910292322317, 1.457085480440053, 1.9090670828324605, 1.6523562254655257, 1.2506889614851533, 2.0373632623143276, 1.299505801265073, 0.7343594532751352, 1.7050121371298228, 1.4016332732481622, 2.0671505920956625, 0.4943900296081262, 1.3443572435667919, 1.3696521675999007, 2.0102181829358114, 1.9802566408883397, 1.6882777304876915, 1.611247601928967, 1.9129034776726386, 1.9466091487010373, 3.105629595531735, 1.5421689953239295, 2.2275519509088455, 0.5167453293596613, 3.3477960357249126, 1.5999683353000294, 0.8889087130445354, 0.598665642619791, 1.3535259854055746, 1.5078771123880215, 1.474648955443434, 1.0310069430916464]}, {\"name\": \"6011\", \"type\": \"box\", \"y\": [0.9455383721156749, 0.5883374672077213, 1.890906845942134, 1.1533187844330073, 1.3256958638432825, 1.5615829992680008, 1.8944515563971398, 1.6787385329142288, 1.3879222128783566, 1.786159741882851, 1.0497884961872612, 0.8555527523828117, 1.272938884592501, 1.08180026586751, 1.7056707253748933, 0.8411253389345864, 1.2335070436306614, 1.194673288080088, 1.3353233866518504, 1.6818281276889342, 1.5650866462704276, 1.6335366832609612, 1.7017057554112784, 1.7651375078952802, 2.7296445316415956, 1.429200820555492, 2.007908386723885, 0.5648137384281224, 2.9251600878868302, 0.9684776384041374, 0.7822473871116772, 0.7487083398361395, 1.201509658422443, 1.380559856648951, 1.3646395209974833, 1.0090636368490962]}, {\"name\": \"6280\", \"type\": \"box\", \"y\": [1.866961198557057, 1.0762638656813617, 1.4954666182536933, 1.058819122794979, 1.0698015059516872, 1.4681322809779913, 0.5231491134202634, 1.7334584979048515, 1.3458810825258691, 1.7376650233507507, 1.195374512731044, 0.5075670269682068, 0.9144138135947234, 0.9722275870431585, 2.451004124846451, 0.9883344761009555, 2.2436111808574295, 1.0937355765833487, 0.6820489136511558, 0.9017177762848656, 0.583440054434061, 2.0219585172603884, 2.080250509249667, 1.9759308747170141, 1.1136043025453324, 0.7407112271129419, 0.30451771835564, 0.8199872667312309, 2.0716571378083812, 1.719237036597662, 0.9356539068008016, 0.7772039007936419, 0.5125098062653601, 1.2075731331440094, 0.693864195875497, 2.0415924717367058]}, {\"name\": \"6281\", \"type\": \"box\", \"y\": [0.4954242029640126, 0.498706041911894, 0.5813594642600599, 0.42094823727514113, 0.582670695175491, 1.0637144463323893, 0.42604099723637806, 0.5791355061793197, 0.5459804556610982, 0.9767275588598315, 0.9200830118568203, 0.6922325703029958, 0.5810715097697614, 0.91750710400562, 0.8065606251528995, 0.44731910189703034, 0.6014956900730438, 0.7590489264786466, 0.7073720377291969, 0.618931789964636, 0.5388075778462724, 0.5716486913906731, 0.8697741789674096, 0.7964040758972093, 0.74609953309953, 0.777279778082128, 0.6798755588043196, 0.8379041834254182, 0.6666318009766573, 1.165914944692775, 0.6132739080214966, 0.619997006556437, 0.7684015248566185, 0.7090410263846051, 0.46274126967506685, 0.45912884281612026]}, {\"name\": \"6284\", \"type\": \"box\", \"y\": [1.4581535657092883, 0.6295287752790056, 1.2413489642453162, 0.5034687589157103, 0.621789515960098, 0.706600344568433, 1.2372254530726061, 1.6574314702124602, 1.9707264977404784, 2.127703166120947, 1.64573590345495, 0.64958632304474, 0.821095151495971, 1.3755041859589494, 1.0532703314756267, 0.7561399651160094, 1.5999724665834276, 0.8709575143539602, 1.4083405407979765, 1.0352485546622938, 0.8467003848640863, 1.4136189285344838, 1.1480039639360133, 1.7544937599019153, 1.8017318319461142, 1.1644394005531027, 0.8265405573354351, 0.8564160493720109, 1.3794454201739204, 1.6309681241017344, 0.43980651974993645, 1.1387132141995122, 1.3148363462960833, 1.4801052242457438, 1.0525692853132271, 0.9934890280038544]}, {\"name\": \"1295864320\", \"type\": \"box\", \"y\": [1.1221969090229675, 1.0590934687835787, 1.74010654985698, 1.4906052850457787, 0.9554875246554311, 1.121474477636107, 1.3112001176472674, 1.1352733110091535, 1.2293103892343975, 1.9930529133218882, 1.6828854729450733, 0.9155627120001013, 1.7888160308630021, 1.935501785282936, 2.079823132224621, 0.8002754449978914, 3.181658604180144, 1.7213279989131993, 1.4358681944352514, 1.2756434380722268, 1.3722235492747685, 1.7424299041799354, 2.834579707743353, 1.9565810318614403, 2.2950858861318424, 1.642291075817955, 1.046780246695761, 0.36982338793697744, 1.9121670698129662, 2.3450972524382427, 0.8850457476466679, 1.0480396784510515, 0.9095666529214501, 1.683770660623484, 0.8853327671063662, 1.3616543170777302]}, {\"name\": \"1247421966\", \"type\": \"box\", \"y\": [0.8359180696764692, 0.45676620805200546, 1.616310918620874, 0.9844311687338324, 1.1267118734257937, 1.2352026810940386, 1.64155686384499, 1.3651722769447316, 1.1282459943722225, 1.716775608097443, 0.9393134121791867, 0.5836689592766551, 1.1544786135912635, 1.0687209567601246, 1.465167622575514, 0.5637541393183672, 0.9248822728859609, 0.8371363467664515, 1.513556139385518, 1.3776200978056519, 1.3348322363610976, 1.3250833558811141, 1.5271421099749172, 1.6279047110970872, 2.575556328897632, 0.9308178107768591, 1.8224078509189103, 0.37000981957964946, 2.606010096693136, 0.8904915876475713, 0.8652528987228979, 0.6534450165292182, 1.0674219886059135, 0.925094362358265, 1.106229145656057, 0.9451407072798229]}, {\"name\": \"2107373071\", \"type\": \"box\", \"y\": [1.1970282946127415, 0.7260319228347688, 2.2518782897002194, 1.6184145926691695, 1.3953793034634174, 1.4833961325815295, 2.0023883666523674, 1.8386151802610473, 1.3169404154041204, 1.9250320491171344, 1.3885104606353873, 0.7983478707880222, 1.769496824354397, 1.5970763543623612, 2.2325255326508664, 1.1646075432059442, 1.3224921533314506, 1.3515099391675245, 2.0654924641951107, 1.9735845405127674, 1.9362693822481474, 1.8365624767451354, 2.0603570494077514, 2.1039007247598756, 3.090929908903406, 1.7431403183676095, 2.243758286586043, 0.6361034693662007, 3.736164959092353, 1.6845652606974286, 0.9285645259146765, 0.6237588081794252, 1.7615288083489455, 1.5580867081989134, 1.7944021038034503, 1.0168635124361523]}, {\"name\": \"2009066518\", \"type\": \"box\", \"y\": [1.2143483965809436, 0.5459963568983524, 1.59008196748236, 0.963670017531058, 0.7923154825650779, 1.1735652393360585, 1.0796016020860544, 0.9860374177722185, 1.0732675964799328, 1.7707482112934887, 1.7885083548321545, 0.7706715571691715, 1.42763897384413, 1.7987401445825901, 1.7644618252691426, 1.381196792473555, 1.6340110563433623, 0.8531073398670321, 1.3709404873695894, 0.9578813968978871, 1.0325225162111986, 1.351317742357534, 1.5557620521460416, 1.5198946833539588, 1.785286473763182, 1.0898951187812513, 0.8899062530900134, 0.3514051673591325, 1.566065342748548, 1.7054253963253763, 0.5666523099973323, 0.7892310012322199, 0.8238857048509833, 1.908774798651624, 0.6171908563828908, 0.9974021043041084]}, {\"name\": \"972102295\", \"type\": \"box\", \"y\": [0.5045340882730539, 0.49538598035265474, 0.5825822265492704, 0.3960558569460986, 0.5896325535059959, 1.0812184259007351, 0.44636863813332706, 0.588327676213656, 0.5543352131108653, 1.0325721866594637, 0.9413166945041572, 0.7036153287462518, 0.591900495679437, 0.9171772821812569, 0.7872591238969129, 0.4523433419025632, 0.6124353328310014, 0.7514693360408129, 0.7109046922278004, 0.6308119846496492, 0.5357157005722121, 0.5587514738308402, 0.8846303804936971, 0.7631518335860152, 0.7791145576665913, 0.7867350924663821, 0.659420972289029, 0.8393951713259328, 0.6698499408345333, 1.1638680928497742, 0.6214213635278424, 0.6215624042361513, 0.7530657505092468, 0.7029300497111267, 0.47319327987144233, 0.4715183378280097]}, {\"name\": \"1616571925\", \"type\": \"box\", \"y\": [1.1363752606332258, 2.0056521947092656, 1.7573883110910857, 2.3216897656364996, 1.5534791312767393, 1.5859110949512163, 1.7415538405153754, 1.3554381688736767, 1.2733736037277266, 1.3962658832357249, 0.8186440119757109, 1.7111492564894755, 1.8321891783164677, 1.5895162444653743, 2.2324811953612143, 1.135184301569518, 1.410207117790246, 1.9581097489008823, 1.4782232816627618, 1.6301168860378508, 1.4793944536776187, 1.4367965488237537, 1.5901303885433131, 1.055668202646362, 1.1937479572628642, 2.3208719507262043, 2.3812711795521504, 1.9377116338429323, 1.157618245010482, 0.4417619372673336, 2.231812348980026, 1.6919083855933066, 2.1141526754460953, 0.8692069608104663, 2.229827866213756, 1.7924626561439]}, {\"name\": \"806187417\", \"type\": \"box\", \"y\": [0.8025072310387186, 0.4838981482425559, 1.6908754108929784, 1.1155305951571692, 1.2896977643233976, 1.3258950639611025, 1.6983188080690363, 1.443644575266459, 0.995954126913287, 1.52300667241265, 0.8791347816565843, 0.6073158994813658, 1.150827215501134, 1.0041271214138876, 1.4644045760760487, 0.5074188949301581, 0.9354373974222749, 0.7627348422488078, 1.5987775392158778, 1.390790338977412, 1.2904298262586926, 1.2661902556379208, 1.3871882974696814, 1.4033247012285663, 2.4865157055696856, 1.093609348780103, 1.752794078606712, 0.31508711609078993, 2.6134655287603126, 1.0320817739455264, 0.9030418276754109, 0.5823812231969493, 0.8846435347491611, 0.9018578551225209, 1.1738289654044858, 0.7446437351177025]}, {\"name\": \"771513244\", \"type\": \"box\", \"y\": [0.8609047015596288, 0.7251650965592995, 1.8534785129151623, 1.3779861548168217, 1.3876910067865367, 1.3714017706150774, 1.7163416141698595, 1.5245445901953671, 1.0021073214280316, 1.3979345404142796, 0.9887472027742211, 0.7227443645840842, 1.177541831881949, 0.9530471735167436, 1.4685460609912124, 0.8236007376286641, 1.0301279473330753, 0.8391523244721361, 1.887426164387364, 1.4910383055266354, 1.389049961347951, 1.3160254782502363, 1.364021891616559, 1.4523241042906319, 2.085999751708934, 1.2790961955581375, 1.9862776214483229, 0.6209907121390738, 2.905792068558275, 1.109505240814218, 0.6732992732551063, 0.6311035826306007, 1.232229065106429, 1.0661208570445864, 1.2617729592100042, 0.5262206723644665]}, {\"name\": \"1562145181\", \"type\": \"box\", \"y\": [1.0756027324409072, 0.5047340428624533, 1.8422856434331976, 1.2422502574179166, 0.9929700712868853, 1.140850516954867, 1.4793230491993998, 1.2456503671808452, 0.9439486470851044, 1.894542847480231, 0.9666005633209245, 0.6003556103843336, 1.2168252608638805, 0.8648983070359637, 1.731084738682528, 0.4119595420533183, 0.9755002911747088, 0.9471642864722902, 1.823303682269693, 1.9100489391509423, 1.2003259958810968, 1.1448531171307936, 1.3452337214221035, 1.3669736252127007, 2.523144925102134, 1.1022105295266147, 1.7109332329876685, 0.5769031378444925, 2.534145701791201, 1.3250495987256106, 0.8292267649042345, 0.44239573092456613, 1.1845842489261738, 2.0051356425847455, 1.0094462971140838, 0.7328112407810646]}, {\"name\": \"896338719\", \"type\": \"box\", \"y\": [0.7605221156384067, 0.4722550141282339, 1.485167457679548, 1.0713100543803362, 1.1167106361276173, 1.1713062891811814, 1.4573369096636246, 1.2533769549599383, 0.8580606378871065, 1.2819643247151085, 0.9528052196531115, 0.6237707847866542, 1.0848759829431371, 0.850429761413286, 1.3391631808808586, 0.6741844209740144, 0.8609510728545416, 0.8133244668809957, 1.3823775944612695, 1.3041772786176067, 1.1772880954445937, 1.0823400403863777, 1.2761707702933653, 1.2282443270521066, 2.2151000929457876, 0.9965596635332561, 1.6634645166719733, 0.3906679022032029, 2.492954938224232, 0.8425226395815308, 0.7841048083862453, 0.5552015551052306, 1.046708369750493, 0.9059692133782212, 1.0823682008064306, 0.7090733601628256]}, {\"name\": \"1113196323\", \"type\": \"box\", \"y\": [1.409142687094555, 0.8228500629200725, 1.6668087186066654, 1.4087925682314832, 0.9657973432929431, 1.2275987779725348, 1.1803468529471264, 0.9459407823357298, 0.9949539456195406, 1.6372038133166604, 1.8766574381472867, 0.7713361789310855, 1.559008574884379, 1.56080548132917, 1.8397686498853203, 0.8338104950449036, 1.034381912496397, 0.833276934058316, 1.3795163959347108, 1.429736700727578, 1.1267015321191323, 1.4203265950653587, 1.573039353538688, 1.6268469227559645, 1.851215373405939, 0.7740597000687481, 0.98792871452802, 0.4321344535917026, 2.0998374190052655, 1.7167703033816883, 0.7358859912359366, 0.7454843746809586, 1.3892294273907677, 0.9863870793198232, 0.7882855402853864, 1.1249758788676076]}, {\"name\": \"1597760039\", \"type\": \"box\", \"y\": [1.1119885696011123, 0.5500140869970518, 1.337868850575695, 0.8858845917551272, 0.635387939184018, 0.8948347896895871, 0.8317868031509071, 0.8161382232485616, 0.8381770215226159, 1.504473248981501, 1.5440997301992467, 1.2388828652939285, 1.1388695304533516, 1.4117749169105802, 1.5301083264593345, 1.249897794615732, 1.4952069370878311, 0.6922864774632222, 1.1359228856752834, 0.964246571332504, 0.8703916188348716, 1.0934080763778755, 1.2152162479056983, 1.3004472553388005, 1.491151856161757, 1.241424239094084, 0.7263660547900515, 0.2991774696068033, 1.3919115860892484, 1.5361969747144726, 0.48186870976052176, 0.747856661656095, 0.8115724406778794, 1.7938441104923437, 0.637682368381414, 0.8934752555796969]}, {\"name\": \"317532327\", \"type\": \"box\", \"y\": [0.8050702346244257, 1.3610561014491742, 1.5117646239477192, 1.7634976341711788, 1.016818319538386, 1.0620938520614223, 1.3515686890596845, 0.9571506426165152, 1.1345529970900332, 1.3362514760192215, 1.5013972067254173, 0.8137253204733144, 1.3884860190759678, 1.462095329299317, 1.386245911460911, 1.1777670819585693, 2.5662008316456264, 1.5113983534044562, 1.0780157162098751, 1.3342285584942117, 1.333827619760455, 1.351633903941614, 1.2183637907204923, 1.3340120994649804, 1.547570382333611, 1.0081276032841842, 0.8936133069299291, 0.7219727910872674, 1.8199502852370009, 1.630837193338026, 0.5720067797520999, 1.6314270160267388, 1.192821160965124, 1.3043827309777565, 0.976344036718339, 1.3528994043789189]}, {\"name\": \"346061612\", \"type\": \"box\", \"y\": [1.2039251380543496, 0.7374334094301557, 2.3337980548293396, 1.5067201492302158, 1.5166198726404512, 1.4292321592835362, 1.9537304455540736, 1.7420230666971537, 1.4366060716999374, 2.1275617689323143, 1.6786243527488185, 0.9261556459748064, 2.116132657671755, 1.801246672119173, 2.241251688722952, 0.6189659132408037, 1.644443154065103, 1.7072855884141855, 2.2430293997977504, 2.2038600105150663, 2.0239846293787243, 2.007503675606269, 2.3029832801931893, 2.3470591877303733, 3.4450661585496136, 1.8496449851923253, 2.4104500794274277, 0.6422544696142788, 3.9639119561597416, 2.0234034706598143, 1.1946438674085686, 0.839491501807791, 1.623330776255352, 1.4492153140748667, 1.6797764022996482, 1.1016705912636768]}, {\"name\": \"40333612\", \"type\": \"box\", \"y\": [0.9732153910844775, 0.6782112692571235, 1.95634801936834, 1.2082795069490386, 1.4646070759895229, 1.5854545822509218, 1.9125254692880074, 1.7317249409099615, 1.4339675755913637, 1.7778556027883508, 1.1944308512595732, 0.8675579262968446, 1.3351139462863324, 1.1492467786706284, 1.8037009623584659, 0.9021080995297106, 1.2566304830723747, 1.28535302470845, 1.3549534518959023, 1.74746198765515, 1.6122717357541714, 1.6881776916391382, 1.7453339744505043, 1.8261291382797284, 2.6203190741115883, 1.4526470189379475, 2.054873102424029, 0.7156038647823625, 2.8552785161018144, 0.9935033747223665, 0.9730179264345837, 0.7433906425252784, 1.194487114239538, 1.4674092604401547, 1.450278422451173, 1.1080025938626858]}, {\"name\": \"511723709\", \"type\": \"box\", \"y\": [1.1163929228382596, 0.7744130850720189, 2.1489538828407264, 1.3028443497241533, 1.4953341183734519, 1.6314355624463677, 2.009236752673695, 1.8002763045566288, 1.536062008944045, 1.9898777178920877, 1.3632656998400237, 1.039044626876025, 1.552356305977097, 1.3997071847462503, 2.026183908039013, 0.8166249732798, 1.4393974015628017, 1.5429421414882116, 1.4713139210471309, 1.9688197711550934, 1.8381771647805485, 1.8315161121108883, 1.934010304370061, 2.0123724035608697, 3.1469245668411596, 1.5140653624533205, 2.2059326106195445, 0.672315100297425, 3.246427346960594, 1.2915687248753096, 0.837967995750659, 0.928986052584707, 1.3778291268011842, 1.6627031708266873, 1.6360879389773804, 1.29727859460688]}, {\"name\": \"1004972352\", \"type\": \"box\", \"y\": [1.2668302848053905, 0.4689165996643987, 1.7028238753381466, 0.9563056238222256, 1.4005375060133185, 0.9371035125415779, 1.456045000387107, 1.4675849165301518, 1.7713454328305147, 2.1094613600078906, 1.591594068281525, 0.4314226382986268, 1.0657723032343567, 1.4456300793097516, 1.33329216084989, 1.2195268851423116, 2.106903724660914, 1.262796501015417, 1.2499318660009162, 0.8793257736183913, 1.009092783607112, 1.5304374271292127, 1.932841012054041, 1.7852225336976812, 2.0146934213776557, 0.7091741321962314, 1.1134419408213558, 0.4273853073749992, 1.6319450270718527, 1.7639592291513455, 0.7104085972715898, 1.0407310352991195, 0.9216123821130286, 1.8664755691520494, 0.554873416968301, 0.8871393772987428]}, {\"name\": \"143824576\", \"type\": \"box\", \"y\": [0.9219154261898836, 0.5745499889456209, 1.6411339889079528, 1.044357653850723, 1.1938304775625121, 1.331122944064344, 1.58210813596814, 1.31887976554888, 0.9947226450330263, 1.4554711659907364, 1.2845386810945598, 0.7641366331276395, 1.6142055187538027, 0.9587770997930353, 1.8419256791083871, 0.6856535377029758, 0.8058255944061266, 0.8011467326101619, 1.4455929270263723, 1.3458961522606068, 1.239377604327218, 1.1790810732250427, 1.3522535629345025, 1.352863775956411, 2.367669317431242, 1.1368901083389318, 1.6051525517786451, 0.3989978801347131, 2.531299103248807, 0.9162624863836373, 0.5290974296684361, 0.7157128131418024, 1.2456626618328277, 0.7568371134549441, 1.0222930819806488, 0.7273989953324076]}, {\"name\": \"368424646\", \"type\": \"box\", \"y\": [3.500224911800086, 1.8228819186806164, 2.4217354950165038, 1.3202344454489165, 2.1170090937568324, 1.8979629188628853, 1.03734166239024, 3.3661717143971495, 2.2025917645598776, 2.4857508966938897, 0.80756096469277, 0.7412726266990989, 0.5468840623085877, 0.49362370851687976, 3.904873218401097, 2.1245745960445843, 2.1496817709600697, 1.0572337539596037, 0.8310228272771949, 1.0372087891599029, 0.637182576500012, 3.6128913394241873, 2.2602200311735716, 2.5382805208667234, 0.32827617436780493, 1.0642325103659631, 0.8372107700907296, 1.3059209573120574, 2.5672830383539744, 1.5258631740210762, 1.806140172428835, 0.8564759705717062, 0.4897413556022844, 1.06855772853679, 1.0353261295442866, 3.730576232322931]}, {\"name\": \"1428227531\", \"type\": \"box\", \"y\": [0.950476245944019, 0.8316785588857382, 1.3593912417571852, 1.091175098161172, 0.7253071869238387, 1.3514563045607104, 1.0606248291334486, 1.023097086188558, 0.9398770060887671, 1.5471097311049002, 1.6302169226751642, 1.5415553423218857, 1.438901612270915, 1.5126939710951661, 1.7742027193199053, 1.0852805196121407, 1.7592664343217732, 1.0710037697048282, 1.0571410001356616, 1.1246260450039176, 0.909412246649875, 1.153925294034765, 1.3098245775844464, 1.4101934122329207, 1.6137282251780654, 1.4596261080371224, 0.6202402060487557, 0.39092078133974306, 1.7255072847901636, 1.9123867545112507, 0.627499927127488, 0.8820852669440346, 1.007060149250427, 1.8130103611388004, 0.7651321710714669, 1.1986840385516635]}, {\"name\": \"2040495184\", \"type\": \"box\", \"y\": [1.3084071468649896, 0.6379531439365608, 1.7326088049909354, 1.0949854948364182, 0.8610470415082697, 0.9558496758061391, 1.0454945627785341, 0.7966465477667644, 0.8539083759521117, 1.6360868089484342, 1.6425523949110854, 0.8104646752020847, 1.4152401379292647, 1.665678155560487, 1.777372884246803, 1.3966153488492394, 1.6781317168895842, 0.8040667919473111, 1.2551422652587008, 1.1173657685570793, 1.1386247983709394, 1.216432072245507, 1.5400792824470984, 1.4247005103642678, 1.676126031019615, 0.676652811544525, 0.9037703341807164, 0.42549668995053863, 1.6087263228289579, 1.637325776034785, 0.4943693468347652, 0.9013701173185095, 0.6444077082291072, 1.9247822645729582, 0.7453896765713643, 1.081922010562822]}, {\"name\": \"1893337300\", \"type\": \"box\", \"y\": [1.505855328669153, 0.6537616312969124, 1.2596980091901027, 0.5144279326220726, 0.6548803326577813, 0.7426777215465579, 1.2786749874097034, 1.6982850403605876, 2.026660593267098, 2.188402334073682, 1.67217966529418, 0.6378044221158704, 0.8393300842620789, 1.4073789971365904, 1.0829921921051664, 0.7700883809391778, 1.6340281943329225, 0.8878127532344319, 1.4351077152575749, 1.046746985740114, 0.857601049266154, 1.4455734306016914, 1.1694318240445316, 1.7849064521513907, 1.8354366640573823, 1.2027514221616176, 0.8615349272847572, 0.8600229148389191, 1.3937589523479235, 1.6275840295741413, 0.42304646303823706, 1.1251331405749643, 1.344405124530409, 1.4901262257311252, 1.0620287004817948, 1.0060967458312204]}, {\"name\": \"2117861717\", \"type\": \"box\", \"y\": [0.7859389587955644, 0.5833695313380662, 1.6222845390948755, 1.0426319376919735, 1.2744315169556484, 1.4321046430484425, 1.7972141663387815, 1.5705853563802241, 1.1727520724681555, 1.5776328097712204, 0.7724777925939724, 0.7424084989133072, 0.9707619685843865, 0.7679033435695529, 1.4067981200649933, 0.8207390254231475, 1.014596837474414, 0.7676221634345851, 1.2889615823293654, 1.389175330819805, 1.341867601970401, 1.4728314451327582, 1.4195055207953615, 1.4539287703643955, 2.339199456841558, 1.2137938986368446, 1.8183638761244754, 0.6029478119105941, 2.666175130057769, 0.7297226328593507, 0.8089060736043063, 0.6656003416529969, 1.0703373941527352, 1.0547271033165924, 1.1147532842640797, 0.7150214974230042]}, {\"name\": \"1941427679\", \"type\": \"box\", \"y\": [1.1241388525173885, 0.5338078963073908, 2.227529365556203, 1.5348000898126595, 1.52087558347106, 1.4404193736413489, 1.9593586193545787, 1.7864758756638746, 1.239434036978582, 2.097457924020595, 1.68581456423757, 0.9546754976882781, 1.8759086981952595, 1.712314063412443, 2.3695132027286774, 0.6427021050909575, 1.4001401332466723, 1.8379929283432985, 1.7041569434197898, 1.963610260909572, 1.9724149593265263, 1.8575221504990693, 2.079297339900135, 2.191438595840203, 3.366818656975998, 1.842215010093311, 2.1547534440834286, 0.7182223587936649, 3.581530181651953, 2.109084767581954, 0.8491667420192194, 0.64732973978843, 1.3886528787182078, 1.6020691465596977, 1.819888663323194, 1.3436252301937999]}, {\"name\": \"1708098535\", \"type\": \"box\", \"y\": [0.8869399299743702, 0.7320425885705083, 1.8157609054422552, 1.3795192864188057, 1.1999133978064276, 1.3024884219568853, 1.6985885020657159, 1.4923525327094114, 0.9869903102037322, 1.4554212017359216, 1.0793186263786543, 0.6812019701320597, 1.2710018118442914, 0.9956879557883974, 1.579314657073635, 0.8261367375711378, 1.0208758790647985, 0.7794117553118304, 1.8035647111090278, 1.469222527154255, 1.4197560883936735, 1.3113017499037427, 1.4475312160137197, 1.4815214440836442, 2.321476737686069, 1.3209312502715487, 1.944808995974224, 0.49485838861058645, 2.8776308725344246, 1.1689256832031218, 0.7807114293815748, 0.4756967877388175, 1.3671796076314018, 1.0929244683119324, 1.2668782974348411, 0.6023390870385311]}, {\"name\": \"456209269\", \"type\": \"box\", \"y\": [0.9047310088416429, 0.5240379393860438, 1.77932314210094, 1.1492481548788476, 1.2841330894990957, 1.370451986493842, 1.6199595265937563, 1.449334944358314, 1.0594130008782625, 1.639223649220421, 1.1398775544459026, 0.6741557510598636, 1.2579925467650102, 1.1300064881576974, 1.6623581833728864, 0.7195903696751744, 1.1005666446572975, 1.1839982730167902, 1.3205005687945008, 1.614130150447929, 1.4261855601493634, 1.3136478324773264, 1.5652864367112513, 1.571348263083718, 2.7145248026393665, 1.1869985092934012, 1.880234370280242, 0.6171344002379083, 2.799040849060739, 1.0762962307035067, 0.8375547661723954, 0.7486375304159953, 1.237729645641227, 1.2492569015385357, 1.407632463979352, 1.0264751568953454]}],                        {\"showlegend\": false, \"template\": {\"data\": {\"bar\": [{\"error_x\": {\"color\": \"#2a3f5f\"}, \"error_y\": {\"color\": \"#2a3f5f\"}, \"marker\": {\"line\": {\"color\": \"#E5ECF6\", \"width\": 0.5}}, \"type\": \"bar\"}], \"barpolar\": [{\"marker\": {\"line\": {\"color\": \"#E5ECF6\", \"width\": 0.5}}, \"type\": \"barpolar\"}], \"carpet\": [{\"aaxis\": {\"endlinecolor\": \"#2a3f5f\", \"gridcolor\": \"white\", \"linecolor\": \"white\", \"minorgridcolor\": \"white\", \"startlinecolor\": \"#2a3f5f\"}, \"baxis\": {\"endlinecolor\": \"#2a3f5f\", \"gridcolor\": \"white\", \"linecolor\": \"white\", \"minorgridcolor\": \"white\", \"startlinecolor\": \"#2a3f5f\"}, \"type\": \"carpet\"}], \"choropleth\": [{\"colorbar\": {\"outlinewidth\": 0, \"ticks\": \"\"}, \"type\": \"choropleth\"}], \"contour\": [{\"colorbar\": {\"outlinewidth\": 0, \"ticks\": \"\"}, \"colorscale\": [[0.0, \"#0d0887\"], [0.1111111111111111, \"#46039f\"], [0.2222222222222222, \"#7201a8\"], [0.3333333333333333, \"#9c179e\"], [0.4444444444444444, \"#bd3786\"], [0.5555555555555556, \"#d8576b\"], [0.6666666666666666, \"#ed7953\"], [0.7777777777777778, \"#fb9f3a\"], [0.8888888888888888, \"#fdca26\"], [1.0, \"#f0f921\"]], \"type\": \"contour\"}], \"contourcarpet\": [{\"colorbar\": {\"outlinewidth\": 0, \"ticks\": \"\"}, \"type\": \"contourcarpet\"}], \"heatmap\": [{\"colorbar\": {\"outlinewidth\": 0, \"ticks\": \"\"}, \"colorscale\": [[0.0, \"#0d0887\"], [0.1111111111111111, \"#46039f\"], [0.2222222222222222, \"#7201a8\"], [0.3333333333333333, \"#9c179e\"], [0.4444444444444444, \"#bd3786\"], [0.5555555555555556, \"#d8576b\"], [0.6666666666666666, \"#ed7953\"], [0.7777777777777778, \"#fb9f3a\"], [0.8888888888888888, \"#fdca26\"], [1.0, \"#f0f921\"]], \"type\": \"heatmap\"}], \"heatmapgl\": [{\"colorbar\": {\"outlinewidth\": 0, \"ticks\": \"\"}, \"colorscale\": [[0.0, \"#0d0887\"], [0.1111111111111111, \"#46039f\"], [0.2222222222222222, \"#7201a8\"], [0.3333333333333333, \"#9c179e\"], [0.4444444444444444, \"#bd3786\"], [0.5555555555555556, \"#d8576b\"], [0.6666666666666666, \"#ed7953\"], [0.7777777777777778, \"#fb9f3a\"], [0.8888888888888888, \"#fdca26\"], [1.0, \"#f0f921\"]], \"type\": \"heatmapgl\"}], \"histogram\": [{\"marker\": {\"colorbar\": {\"outlinewidth\": 0, \"ticks\": \"\"}}, \"type\": \"histogram\"}], \"histogram2d\": [{\"colorbar\": {\"outlinewidth\": 0, \"ticks\": \"\"}, \"colorscale\": [[0.0, \"#0d0887\"], [0.1111111111111111, \"#46039f\"], [0.2222222222222222, \"#7201a8\"], [0.3333333333333333, \"#9c179e\"], [0.4444444444444444, \"#bd3786\"], [0.5555555555555556, \"#d8576b\"], [0.6666666666666666, \"#ed7953\"], [0.7777777777777778, \"#fb9f3a\"], [0.8888888888888888, \"#fdca26\"], [1.0, \"#f0f921\"]], \"type\": \"histogram2d\"}], \"histogram2dcontour\": [{\"colorbar\": {\"outlinewidth\": 0, \"ticks\": \"\"}, \"colorscale\": [[0.0, \"#0d0887\"], [0.1111111111111111, \"#46039f\"], [0.2222222222222222, \"#7201a8\"], [0.3333333333333333, \"#9c179e\"], [0.4444444444444444, \"#bd3786\"], [0.5555555555555556, \"#d8576b\"], [0.6666666666666666, \"#ed7953\"], [0.7777777777777778, \"#fb9f3a\"], [0.8888888888888888, \"#fdca26\"], [1.0, \"#f0f921\"]], \"type\": \"histogram2dcontour\"}], \"mesh3d\": [{\"colorbar\": {\"outlinewidth\": 0, \"ticks\": \"\"}, \"type\": \"mesh3d\"}], \"parcoords\": [{\"line\": {\"colorbar\": {\"outlinewidth\": 0, \"ticks\": \"\"}}, \"type\": \"parcoords\"}], \"pie\": [{\"automargin\": true, \"type\": \"pie\"}], \"scatter\": [{\"marker\": {\"colorbar\": {\"outlinewidth\": 0, \"ticks\": \"\"}}, \"type\": \"scatter\"}], \"scatter3d\": [{\"line\": {\"colorbar\": {\"outlinewidth\": 0, \"ticks\": \"\"}}, \"marker\": {\"colorbar\": {\"outlinewidth\": 0, \"ticks\": \"\"}}, \"type\": \"scatter3d\"}], \"scattercarpet\": [{\"marker\": {\"colorbar\": {\"outlinewidth\": 0, \"ticks\": \"\"}}, \"type\": \"scattercarpet\"}], \"scattergeo\": [{\"marker\": {\"colorbar\": {\"outlinewidth\": 0, \"ticks\": \"\"}}, \"type\": \"scattergeo\"}], \"scattergl\": [{\"marker\": {\"colorbar\": {\"outlinewidth\": 0, \"ticks\": \"\"}}, \"type\": \"scattergl\"}], \"scattermapbox\": [{\"marker\": {\"colorbar\": {\"outlinewidth\": 0, \"ticks\": \"\"}}, \"type\": \"scattermapbox\"}], \"scatterpolar\": [{\"marker\": {\"colorbar\": {\"outlinewidth\": 0, \"ticks\": \"\"}}, \"type\": \"scatterpolar\"}], \"scatterpolargl\": [{\"marker\": {\"colorbar\": {\"outlinewidth\": 0, \"ticks\": \"\"}}, \"type\": \"scatterpolargl\"}], \"scatterternary\": [{\"marker\": {\"colorbar\": {\"outlinewidth\": 0, \"ticks\": \"\"}}, \"type\": \"scatterternary\"}], \"surface\": [{\"colorbar\": {\"outlinewidth\": 0, \"ticks\": \"\"}, \"colorscale\": [[0.0, \"#0d0887\"], [0.1111111111111111, \"#46039f\"], [0.2222222222222222, \"#7201a8\"], [0.3333333333333333, \"#9c179e\"], [0.4444444444444444, \"#bd3786\"], [0.5555555555555556, \"#d8576b\"], [0.6666666666666666, \"#ed7953\"], [0.7777777777777778, \"#fb9f3a\"], [0.8888888888888888, \"#fdca26\"], [1.0, \"#f0f921\"]], \"type\": \"surface\"}], \"table\": [{\"cells\": {\"fill\": {\"color\": \"#EBF0F8\"}, \"line\": {\"color\": \"white\"}}, \"header\": {\"fill\": {\"color\": \"#C8D4E3\"}, \"line\": {\"color\": \"white\"}}, \"type\": \"table\"}]}, \"layout\": {\"annotationdefaults\": {\"arrowcolor\": \"#2a3f5f\", \"arrowhead\": 0, \"arrowwidth\": 1}, \"autotypenumbers\": \"strict\", \"coloraxis\": {\"colorbar\": {\"outlinewidth\": 0, \"ticks\": \"\"}}, \"colorscale\": {\"diverging\": [[0, \"#8e0152\"], [0.1, \"#c51b7d\"], [0.2, \"#de77ae\"], [0.3, \"#f1b6da\"], [0.4, \"#fde0ef\"], [0.5, \"#f7f7f7\"], [0.6, \"#e6f5d0\"], [0.7, \"#b8e186\"], [0.8, \"#7fbc41\"], [0.9, \"#4d9221\"], [1, \"#276419\"]], \"sequential\": [[0.0, \"#0d0887\"], [0.1111111111111111, \"#46039f\"], [0.2222222222222222, \"#7201a8\"], [0.3333333333333333, \"#9c179e\"], [0.4444444444444444, \"#bd3786\"], [0.5555555555555556, \"#d8576b\"], [0.6666666666666666, \"#ed7953\"], [0.7777777777777778, \"#fb9f3a\"], [0.8888888888888888, \"#fdca26\"], [1.0, \"#f0f921\"]], \"sequentialminus\": [[0.0, \"#0d0887\"], [0.1111111111111111, \"#46039f\"], [0.2222222222222222, \"#7201a8\"], [0.3333333333333333, \"#9c179e\"], [0.4444444444444444, \"#bd3786\"], [0.5555555555555556, \"#d8576b\"], [0.6666666666666666, \"#ed7953\"], [0.7777777777777778, \"#fb9f3a\"], [0.8888888888888888, \"#fdca26\"], [1.0, \"#f0f921\"]]}, \"colorway\": [\"#636efa\", \"#EF553B\", \"#00cc96\", \"#ab63fa\", \"#FFA15A\", \"#19d3f3\", \"#FF6692\", \"#B6E880\", \"#FF97FF\", \"#FECB52\"], \"font\": {\"color\": \"#2a3f5f\"}, \"geo\": {\"bgcolor\": \"white\", \"lakecolor\": \"white\", \"landcolor\": \"#E5ECF6\", \"showlakes\": true, \"showland\": true, \"subunitcolor\": \"white\"}, \"hoverlabel\": {\"align\": \"left\"}, \"hovermode\": \"closest\", \"mapbox\": {\"style\": \"light\"}, \"paper_bgcolor\": \"white\", \"plot_bgcolor\": \"#E5ECF6\", \"polar\": {\"angularaxis\": {\"gridcolor\": \"white\", \"linecolor\": \"white\", \"ticks\": \"\"}, \"bgcolor\": \"#E5ECF6\", \"radialaxis\": {\"gridcolor\": \"white\", \"linecolor\": \"white\", \"ticks\": \"\"}}, \"scene\": {\"xaxis\": {\"backgroundcolor\": \"#E5ECF6\", \"gridcolor\": \"white\", \"gridwidth\": 2, \"linecolor\": \"white\", \"showbackground\": true, \"ticks\": \"\", \"zerolinecolor\": \"white\"}, \"yaxis\": {\"backgroundcolor\": \"#E5ECF6\", \"gridcolor\": \"white\", \"gridwidth\": 2, \"linecolor\": \"white\", \"showbackground\": true, \"ticks\": \"\", \"zerolinecolor\": \"white\"}, \"zaxis\": {\"backgroundcolor\": \"#E5ECF6\", \"gridcolor\": \"white\", \"gridwidth\": 2, \"linecolor\": \"white\", \"showbackground\": true, \"ticks\": \"\", \"zerolinecolor\": \"white\"}}, \"shapedefaults\": {\"line\": {\"color\": \"#2a3f5f\"}}, \"ternary\": {\"aaxis\": {\"gridcolor\": \"white\", \"linecolor\": \"white\", \"ticks\": \"\"}, \"baxis\": {\"gridcolor\": \"white\", \"linecolor\": \"white\", \"ticks\": \"\"}, \"bgcolor\": \"#E5ECF6\", \"caxis\": {\"gridcolor\": \"white\", \"linecolor\": \"white\", \"ticks\": \"\"}}, \"title\": {\"x\": 0.05}, \"xaxis\": {\"automargin\": true, \"gridcolor\": \"white\", \"linecolor\": \"white\", \"ticks\": \"\", \"title\": {\"standoff\": 15}, \"zerolinecolor\": \"white\", \"zerolinewidth\": 2}, \"yaxis\": {\"automargin\": true, \"gridcolor\": \"white\", \"linecolor\": \"white\", \"ticks\": \"\", \"title\": {\"standoff\": 15}, \"zerolinecolor\": \"white\", \"zerolinewidth\": 2}}}, \"title\": {\"text\": \"Dilated Convolutions (Rate - 2)\"}, \"xaxis\": {\"title\": {\"text\": \"Time series\"}}, \"yaxis\": {\"title\": {\"text\": \"MASE distribution\"}}},                        {\"responsive\": true}                    ).then(function(){\n",
       "                            \n",
       "var gd = document.getElementById('16809dd4-926c-4127-b751-ee1bfbbc071e');\n",
       "var x = new MutationObserver(function (mutations, observer) {{\n",
       "        var display = window.getComputedStyle(gd).display;\n",
       "        if (!display || display === 'none') {{\n",
       "            console.log([gd, 'removed!']);\n",
       "            Plotly.purge(gd);\n",
       "            observer.disconnect();\n",
       "        }}\n",
       "}});\n",
       "\n",
       "// Listen for the removal of the full notebook cells\n",
       "var notebookContainer = gd.closest('#notebook-container');\n",
       "if (notebookContainer) {{\n",
       "    x.observe(notebookContainer, {childList: true});\n",
       "}}\n",
       "\n",
       "// Listen for the clearing of the current output cell\n",
       "var outputEl = gd.closest('.output');\n",
       "if (outputEl) {{\n",
       "    x.observe(outputEl, {childList: true});\n",
       "}}\n",
       "\n",
       "                        })                };                });            </script>        </div>"
      ]
     },
     "metadata": {},
     "output_type": "display_data"
    }
   ],
   "source": [
    "fig = go.Figure()\n",
    "for col in tcn_dist_ts.keys():\n",
    "    box_data = tcn_dist_ts[col]\n",
    "    fig.add_trace(go.Box(y=box_data, name = col))\n",
    "fig.update_xaxes(title = 'Time series')\n",
    "fig.update_yaxes(title = 'MASE distribution')\n",
    "fig.update_layout(title = \"Dilated Convolutions (Rate - 2)\", showlegend= False)"
   ]
  },
  {
   "cell_type": "code",
   "execution_count": 19,
   "metadata": {},
   "outputs": [
    {
     "data": {
      "application/vnd.plotly.v1+json": {
       "config": {
        "plotlyServerURL": "https://plot.ly"
       },
       "data": [
        {
         "name": "grid",
         "type": "box",
         "y": [
          3.4049258866232117,
          3.9334220112095264,
          4.942788892396936,
          5.288426386099644,
          4.711509072822857,
          5.048798694563262,
          5.422680563718374,
          4.3906010895656,
          4.757382937399042,
          4.0428815230821815,
          3.666528116458178,
          4.848621468981584,
          5.21868404798858,
          5.264737337932343,
          3.9418841040094974,
          3.6080082102221196,
          3.163692063193475,
          4.383819271820083,
          4.817164802948127,
          5.17303986550913,
          5.330122148207503,
          4.345239980026764,
          4.47118026642086,
          4.758758356602459,
          4.0262876186331145,
          4.476711800797596,
          5.183062022823071,
          5.037803067270375,
          1.593238842776729,
          2.176263924701763,
          2.934570752919968,
          3.659787897918552,
          3.9402995416702247,
          3.1538568294919953,
          5.19506836106495,
          4.1845591477434745
         ]
        },
        {
         "name": "tline_1",
         "type": "box",
         "y": [
          2.6480675395375046,
          3.63320219632596,
          4.00380672665955,
          3.521897334398994,
          3.8446024154190512,
          3.622757959283008,
          3.7916756681343897,
          3.8225022792284284,
          3.7802874517059903,
          2.7401504134329433,
          2.085395273102798,
          3.3666390363516006,
          3.850866253369405,
          3.8348085730368036,
          3.0896585929031586,
          3.0439812957728463,
          3.768934354567118,
          3.668831115770002,
          3.283312735959235,
          3.881111876348343,
          3.8724940338684815,
          3.859206308929209,
          3.8316626224949806,
          3.866846138395271,
          1.9029598539466221,
          3.421808922018521,
          3.9246489875300994,
          3.699109967261845,
          2.269728464971809,
          1.7446597300309705,
          2.6234589483107564,
          3.3934178048125587,
          3.37987918202563,
          3.9786296000366366,
          3.9711045814176242,
          3.6269366217940098
         ]
        },
        {
         "name": "tline_2",
         "type": "box",
         "y": [
          3.075748476944032,
          3.3792275647724073,
          4.41216788639576,
          5.043505165571701,
          4.180377492453159,
          4.71072938254233,
          5.1028616932920325,
          3.809725726039921,
          4.265732152027444,
          3.9396581765612084,
          3.6715610342907192,
          4.652229952933159,
          4.823778797776316,
          4.884781601967959,
          3.607551221635107,
          3.1570098598261263,
          2.314043170351998,
          3.8632222990746987,
          4.652578176597014,
          4.746268067452795,
          4.943212895002022,
          3.7360086366009773,
          3.909619155694489,
          4.236954821752077,
          4.218125492628286,
          4.168651302165445,
          4.758262378148004,
          4.655132608571232,
          1.2486117485929014,
          1.9618217085240883,
          2.5263745873416306,
          3.1509502884162592,
          3.461594567297027,
          2.235313963270985,
          4.757380599749889,
          3.6366679090820635
         ]
        },
        {
         "name": "substation1",
         "type": "box",
         "y": [
          2.6193626880017784,
          3.6415139143414375,
          4.0301928373988645,
          3.535763921781801,
          3.8408215476881664,
          3.648639933757195,
          3.815514555537716,
          3.8434458454237768,
          3.7955329453107955,
          2.675791601161684,
          2.081756953433795,
          3.35220531233945,
          3.8540916125950675,
          3.8219273736986854,
          3.0718758904409285,
          3.067801577564296,
          3.8232100866560197,
          3.678334188835382,
          3.236679413838931,
          3.87144405448307,
          3.8799216984234706,
          3.8659297483199424,
          3.8341588810780913,
          3.8810868099501916,
          1.7932796171504641,
          3.451678919913017,
          3.956375102691751,
          3.6782060026037064,
          2.2287004403967083,
          1.7363251024846442,
          2.6453021570456974,
          3.4509639646758776,
          3.3558253951829924,
          3.9978018723767903,
          3.999861685995057,
          3.6028264716394287
         ]
        },
        {
         "name": "substation2",
         "type": "box",
         "y": [
          2.6544078832256366,
          3.508227588552028,
          3.83165196186411,
          3.386118047749703,
          3.7450718801369254,
          3.4499953243159784,
          3.6286032869961238,
          3.660618576988971,
          3.6305649137625733,
          2.837356156888233,
          2.066921685375218,
          3.310729615451034,
          3.7464307099037413,
          3.763536086061833,
          3.0501589763004726,
          2.9233126152401288,
          3.5119063341547596,
          3.5380381657897186,
          3.318730788177566,
          3.7968054783232645,
          3.7451786253199617,
          3.7460521771639312,
          3.7161359364941946,
          3.7256271697650414,
          2.250454584368496,
          3.2889716449792594,
          3.727773647335492,
          3.651075461137406,
          2.315724217419536,
          1.7701949726618988,
          2.4904681571683396,
          3.1454897429946342,
          3.3535314933393146,
          3.8210783700186424,
          3.778335430600332,
          3.5896955949579374
         ]
        },
        {
         "name": "substation3",
         "type": "box",
         "y": [
          3.06868234744013,
          3.3876101740136906,
          4.4057251094062435,
          5.045034580900793,
          4.167401413203249,
          4.732996333159121,
          5.10709007782271,
          3.7931621830430013,
          4.259171349476324,
          3.9255527782718027,
          3.675132892034301,
          4.661925007862826,
          4.832017245711987,
          4.888167161383132,
          3.5944334026021303,
          3.1531361451455386,
          2.312782530414004,
          3.869238483019381,
          4.663348366175456,
          4.754698716612928,
          4.949039554122557,
          3.71961529985133,
          3.893107106972806,
          4.22444353418581,
          4.217923914189847,
          4.187987940193425,
          4.762982265209412,
          4.663050546335239,
          1.2528095480294827,
          1.9676297104029294,
          2.5339524270328533,
          3.16595539397834,
          3.4771716475616627,
          2.2479067503564365,
          4.776292650488135,
          3.6135918426144786
         ]
        },
        {
         "name": "substation4",
         "type": "box",
         "y": [
          2.3016291927663337,
          2.0449212887330033,
          3.384228987729292,
          3.456302050487401,
          3.2273946409054233,
          2.52798776643067,
          3.477712305028095,
          3.3473845827319186,
          3.2417855398475166,
          3.116966161959255,
          2.278745346228693,
          2.9731813863993337,
          3.1180338196513246,
          3.30280691903276,
          3.11003501272843,
          2.1404198542597963,
          1.7178815882119671,
          2.439451361914365,
          2.8217496028493847,
          2.9857119341734397,
          3.2266865413551753,
          3.288285398857986,
          3.4202993887234894,
          3.2846338123782344,
          2.8277389647254787,
          2.193776499285204,
          3.399950840073974,
          2.813864331998918,
          0.9117541202061334,
          1.655462013947035,
          1.7549317250963785,
          1.6317601937874873,
          2.003095339440274,
          1.443172930639293,
          2.7700939768690462,
          3.388767541865918
         ]
        },
        {
         "name": "6010",
         "type": "box",
         "y": [
          0.8582366595916973,
          0.5700880475531942,
          1.7862733403449922,
          1.229457405629942,
          1.2565450605587145,
          1.2924205228048713,
          1.6713064430575553,
          1.4723562767591347,
          0.9581024082082495,
          1.4710017336372514,
          1.0742473933200951,
          0.6629289626820655,
          1.2772029157872173,
          1.0313229796070649,
          1.5561523385615306,
          0.7802941754992458,
          0.9885916028469477,
          0.8905962769465032,
          1.6392767157308523,
          1.5154985413285342,
          1.4003385623226785,
          1.2841246395627475,
          1.4477102902410113,
          1.460951689286127,
          2.417072484352782,
          1.2241769294063403,
          1.9013246501364487,
          0.4630773104008682,
          2.8373094936668948,
          1.064203720714063,
          0.7330320950833421,
          0.571699006893356,
          1.2043517504053851,
          1.0800854636645754,
          1.2962617660501532,
          0.747528027544068
         ]
        },
        {
         "name": "6014",
         "type": "box",
         "y": [
          1.0285384147765526,
          0.5941486701358633,
          2.101283384014134,
          1.4669297355097684,
          1.3792879391503805,
          1.4384434329497584,
          1.8990624129624885,
          1.627545510667142,
          1.2515501677178378,
          2.0429065754033213,
          1.3108559757612401,
          0.7096031953611245,
          1.697621109824364,
          1.377233284633575,
          2.0641852065975814,
          0.5217802096648468,
          1.3320924865162291,
          1.348214418512127,
          1.9974136306852397,
          1.9754444041521635,
          1.6775821475842638,
          1.6005545942385115,
          1.8874690247061012,
          1.9365301259879584,
          3.091273343441124,
          1.5257596453604723,
          2.2076515334855875,
          0.4827807449290451,
          3.322935034669057,
          1.6025126803817042,
          0.9015717849488022,
          0.5764811170807533,
          1.3413928474473085,
          1.4915738490801602,
          1.4645626475034088,
          1.0249615743809288
         ]
        },
        {
         "name": "6011",
         "type": "box",
         "y": [
          0.9526644148699075,
          0.6049143264199143,
          1.8963658895015048,
          1.1562962519821898,
          1.3652023035832312,
          1.5695450226207917,
          1.9248101366538501,
          1.7063031489581724,
          1.4179822069295298,
          1.8288867682121686,
          1.017258182784424,
          0.8416446889935107,
          1.245482856954108,
          1.0751676923898812,
          1.7087135292519717,
          0.81446782793907,
          1.2208911528740178,
          1.1480186299955046,
          1.3308684349029765,
          1.670471033980871,
          1.5730790796588414,
          1.6603621268245312,
          1.698612637242141,
          1.7732183759400038,
          2.7180400633039494,
          1.3890887198795627,
          2.038061628209047,
          0.5942088604962849,
          2.940254847349886,
          0.9499337292062691,
          0.783133158184595,
          0.7556219945940362,
          1.1709161608375747,
          1.350088752862439,
          1.3737142177142894,
          0.9889378767253435
         ]
        },
        {
         "name": "6280",
         "type": "box",
         "y": [
          1.860318194800273,
          1.0919795140172799,
          1.4839488567126635,
          1.0567058536232963,
          1.0518341643722633,
          1.495464655290302,
          0.5121648292713695,
          1.7054754232342493,
          1.3508005058484152,
          1.7055046833992658,
          1.1764853771806791,
          0.5431129163041971,
          0.9181978411109688,
          0.957047273789195,
          2.437214497617024,
          0.9660820512222555,
          2.2311183598813438,
          1.0923066321127834,
          0.6908428459859729,
          0.9095447308992295,
          0.5691790407063202,
          2.010637223951015,
          2.0570829848878445,
          1.9661149421282347,
          1.1313444838832454,
          0.7349038767307662,
          0.33309363318747803,
          0.8428883732277008,
          2.05970621038258,
          1.6930639292259837,
          0.9256999981740666,
          0.8003664675682339,
          0.5247388124336162,
          1.179103218057327,
          0.7264124614934815,
          2.0423970882744156
         ]
        },
        {
         "name": "6281",
         "type": "box",
         "y": [
          0.46081230920577865,
          0.4885520469124992,
          0.6090181750751312,
          0.39907066850992023,
          0.5867886066042661,
          1.0614506303057176,
          0.4178402374414074,
          0.6171235655982062,
          0.564933644002067,
          1.0337458421921595,
          0.931083257324876,
          0.6978625535540307,
          0.5902517201561529,
          0.9451928382738153,
          0.8084036296236299,
          0.4564543990484264,
          0.6029224785167985,
          0.7625296577358913,
          0.7025082546316258,
          0.6475568257999317,
          0.5209219353802005,
          0.5674423945040495,
          0.8869238601844088,
          0.8021391510936156,
          0.7706512541437451,
          0.7978641984437056,
          0.666777151384525,
          0.8392709402428029,
          0.6697508958768975,
          1.1513116427521053,
          0.6211948486287336,
          0.6294789352052902,
          0.7482147649480101,
          0.6938373402473299,
          0.4755178178703318,
          0.4807652311076197
         ]
        },
        {
         "name": "6284",
         "type": "box",
         "y": [
          1.4588418812475308,
          0.6180208579450167,
          1.2474051200338372,
          0.5261375629722412,
          0.6381905609447711,
          0.7120965304033,
          1.2372368270983753,
          1.6537647106380664,
          1.9688367420586175,
          2.1249811614691203,
          1.6427650561653153,
          0.6731193364482939,
          0.8164795698170637,
          1.3806152189102148,
          1.0485103699703404,
          0.7595981125868521,
          1.5960539368746345,
          0.8745406166561166,
          1.4065277827724032,
          1.0257748813981082,
          0.8393547333514423,
          1.413728770675537,
          1.1496096644808187,
          1.7419282283963626,
          1.8047999489264281,
          1.1414351336314368,
          0.8291623448001891,
          0.8663276344940926,
          1.3658248718336978,
          1.6108706674585904,
          0.42555063405175103,
          1.1222866803083176,
          1.3077948154795878,
          1.4760449752926164,
          1.0582342842112937,
          1.003791925179314
         ]
        },
        {
         "name": "1295864320",
         "type": "box",
         "y": [
          1.1245483437512116,
          1.0677053838596449,
          1.7270435251290643,
          1.4765820632547277,
          0.9434787328287024,
          1.1710849467697881,
          1.2891657130184757,
          1.1417130351112836,
          1.2572894741777823,
          2.022058426818381,
          1.6646434691060634,
          0.9078146994463282,
          1.788151999272008,
          1.9243128929264286,
          2.0725662754223992,
          0.7986345166184166,
          3.185737380567115,
          1.7252661538245861,
          1.4281479786305378,
          1.2667542988612766,
          1.3656172851093142,
          1.7133208329983132,
          2.8383580332064478,
          1.9851797905983417,
          2.2728648055306215,
          1.6369552420715425,
          1.0357318113001026,
          0.3804072467545122,
          1.9120173302277144,
          2.3361281868237262,
          0.8752201526695462,
          1.0440818507530714,
          0.9125601194256389,
          1.6800372948377098,
          0.8880130768798119,
          1.3643616735057176
         ]
        },
        {
         "name": "1247421966",
         "type": "box",
         "y": [
          0.8076454230189488,
          0.4740891099916423,
          1.6286890854341638,
          0.9528228584691719,
          1.1525554204630761,
          1.235880870439572,
          1.6300295376960394,
          1.3544329791675669,
          1.107676089871086,
          1.7115613846309334,
          0.9308233305751983,
          0.6345757164758038,
          1.1419302318839057,
          1.0888090574405416,
          1.4191715752228138,
          0.56127131633967,
          0.9077584920032643,
          0.8274086610251189,
          1.4914942218035652,
          1.3837308757123163,
          1.3085062244829249,
          1.2951387907476772,
          1.5068367471860744,
          1.598129251585053,
          2.5595780419526837,
          0.919197734641419,
          1.8388784369002944,
          0.34098400932695555,
          2.598522426978033,
          0.9172039138718285,
          0.8700262527076614,
          0.6737122868880316,
          1.0386399850009402,
          0.9080011514158409,
          1.1072513809518632,
          0.9333566388617776
         ]
        },
        {
         "name": "2107373071",
         "type": "box",
         "y": [
          1.170946948072316,
          0.7146491024258237,
          2.266366856617751,
          1.5879162008956051,
          1.3925184266380302,
          1.4652516585035118,
          1.9960044998541944,
          1.832159621120164,
          1.2868438576635295,
          1.9137701470316821,
          1.4191733867833238,
          0.7753370297691664,
          1.7754823387279006,
          1.5819196696160358,
          2.228576091893576,
          1.1938764218563906,
          1.332586053489727,
          1.3423559126111202,
          2.0851978998661083,
          1.9858618466671418,
          1.920771603879054,
          1.8216509664934626,
          2.0283332705404242,
          2.0750660967123555,
          3.0664084295650764,
          1.7524410372496568,
          2.252821594532859,
          0.6321749734363893,
          3.730587545797321,
          1.6849825891693222,
          0.9206436063449657,
          0.6220101296681565,
          1.7774873354407956,
          1.557898953316604,
          1.7924497702305149,
          1.003544002014936
         ]
        },
        {
         "name": "2009066518",
         "type": "box",
         "y": [
          1.2156489069343361,
          0.5072589594003656,
          1.586965257039139,
          0.9418808399638355,
          0.8044892107362872,
          1.240645539339766,
          1.0850077370894635,
          1.0610929220244278,
          1.1425820564723326,
          1.7974536430902803,
          1.7787425702733786,
          0.7707058526436636,
          1.4173010722398494,
          1.7838444949946073,
          1.7519043599888386,
          1.3635054183040423,
          1.644921655440265,
          0.831226220266607,
          1.3797422828016208,
          0.9376771922524513,
          1.0353316880168297,
          1.3518189771269131,
          1.574005428456639,
          1.5507727095287354,
          1.8059832130584716,
          1.0652925525988317,
          0.8953175236569116,
          0.3823341832612243,
          1.5500636359456215,
          1.6819669466931333,
          0.5594492117908879,
          0.8060820160241887,
          0.8262823549985322,
          1.8890589980351873,
          0.5983754191374359,
          0.981642835573652
         ]
        },
        {
         "name": "972102295",
         "type": "box",
         "y": [
          0.5134539390936972,
          0.4970952438178603,
          0.5915955985510187,
          0.4091927700799309,
          0.6043557341958531,
          1.0914872469647696,
          0.4557644699959247,
          0.6010833068555925,
          0.5730125994891627,
          1.0313853732961495,
          0.9458438002121741,
          0.7010731587787075,
          0.6062406422756516,
          0.9361480148899118,
          0.803280496223789,
          0.4634963112652942,
          0.5997072351839586,
          0.7549873296074292,
          0.7272581087946695,
          0.6449521751227164,
          0.5464985570915012,
          0.5691355173022296,
          0.8830539074517371,
          0.8008440508356536,
          0.7796677488997424,
          0.7848938745566644,
          0.6768111550517945,
          0.8386538544829512,
          0.6575351291622414,
          1.1649833672518464,
          0.6299979610970983,
          0.624934698466956,
          0.7521963123743706,
          0.7134023664836678,
          0.48177261361228985,
          0.4813250553845695
         ]
        },
        {
         "name": "1616571925",
         "type": "box",
         "y": [
          1.167034600666027,
          1.9923428813588513,
          1.7608663891112373,
          2.3111480293961444,
          1.5854700042474283,
          1.563489428292367,
          1.757758858711265,
          1.383228436467123,
          1.3384756416350538,
          1.4854586910403882,
          0.8719033357643636,
          1.7421296191269846,
          1.8261956541778626,
          1.5785413737208458,
          2.2153684424163886,
          1.1244206072330685,
          1.4106587567462,
          1.959972981228417,
          1.4856078940061976,
          1.631253297793568,
          1.5163411670483316,
          1.4830635582051972,
          1.6304893929191089,
          1.1319767821857174,
          1.2363860338092898,
          2.296699467119965,
          2.408976575147485,
          1.9374226332023163,
          1.1468646257504906,
          0.41390667310068513,
          2.2143824494977,
          1.6780207206183753,
          2.1304210912559784,
          0.8546417142275989,
          2.22963541512628,
          1.8073906817614962
         ]
        },
        {
         "name": "806187417",
         "type": "box",
         "y": [
          0.777467265457407,
          0.4979046204689692,
          1.650982275169811,
          1.1111690442323903,
          1.2482380747507165,
          1.3034724380632472,
          1.6613325832155401,
          1.406685291131758,
          0.9530099311980295,
          1.5298862159275306,
          0.8606841709853682,
          0.6414575188732388,
          1.1280114594228141,
          0.9666634674255695,
          1.4440838257838884,
          0.5299587368254731,
          0.9012562163922387,
          0.7466549578447407,
          1.5695605387014766,
          1.358339099778602,
          1.2627588183683816,
          1.2504720664192703,
          1.3502477393252525,
          1.368246886583177,
          2.4735913625873045,
          1.0676453611725787,
          1.7014306985740117,
          0.327122656680863,
          2.618289306348401,
          1.0217944909561487,
          0.9226977297491469,
          0.6083464172525306,
          0.878172520366708,
          0.8601796651698692,
          1.1343087804745982,
          0.7105664843278102
         ]
        },
        {
         "name": "771513244",
         "type": "box",
         "y": [
          0.8598737981021873,
          0.7464549646571594,
          1.8492908233560705,
          1.3590362262502873,
          1.3991126169735821,
          1.3791980945218218,
          1.7474842324002164,
          1.5464833925472967,
          1.020836401606862,
          1.4294990176111944,
          0.973210245269421,
          0.7703693682323897,
          1.1664750980890546,
          0.9567578248719583,
          1.428194717003486,
          0.8344193950301234,
          0.9976091639308148,
          0.831350325338834,
          1.8606983710432643,
          1.4764278331630971,
          1.376509897032091,
          1.3262328905131207,
          1.3098916088921098,
          1.4637560547828312,
          2.0554063521188106,
          1.2065639183518084,
          2.0230448482121597,
          0.6903041885213458,
          2.857165840893077,
          1.1230292727563067,
          0.6441051279814337,
          0.6530894037705037,
          1.1851529902234008,
          1.0122403962370776,
          1.225078429058491,
          0.5081291243785437
         ]
        },
        {
         "name": "1562145181",
         "type": "box",
         "y": [
          1.108846308101772,
          0.4958621667259001,
          1.8934095497067023,
          1.2619418337464061,
          1.0105038646421955,
          1.1772607433765432,
          1.5347182081118704,
          1.278842889894367,
          0.9768194757070853,
          1.900267448073263,
          0.9924368667041901,
          0.5967019619925997,
          1.235393196889951,
          0.8894937203765189,
          1.7527075250568187,
          0.3758266777893002,
          1.01300471095781,
          0.9548249144579148,
          1.8492681212739799,
          1.9425484914313673,
          1.2249109568128842,
          1.1654198317892137,
          1.385000620344611,
          1.4063085913272153,
          2.5721887903081746,
          1.139944316965456,
          1.7754383928350883,
          0.5287301878583103,
          2.5539668085589917,
          1.3198635704997217,
          0.8124631247050198,
          0.4606750625838309,
          1.2087330131921963,
          2.041088665328982,
          1.0416432183082087,
          0.7613176838769686
         ]
        },
        {
         "name": "896338719",
         "type": "box",
         "y": [
          0.7661734881608037,
          0.44498534986229216,
          1.4843288336856075,
          1.0453889854039702,
          1.1342559936797916,
          1.1796329681645104,
          1.4503086339259448,
          1.2547089367712307,
          0.8615322812063492,
          1.309065547762444,
          0.9422933224074652,
          0.5936563803804249,
          1.0797716430427136,
          0.8624665920086735,
          1.311457462945986,
          0.6736813738933967,
          0.8660914363707678,
          0.8101288604525889,
          1.3815834585018327,
          1.3085473710905136,
          1.1886240302410105,
          1.0914014351038974,
          1.2917211101394979,
          1.2449520758606736,
          2.2154902549366424,
          0.9983773394914426,
          1.651568424043156,
          0.39818304238172536,
          2.4726317874292834,
          0.8197591665168084,
          0.7778957099582998,
          0.5722989124735551,
          1.0537871592407726,
          0.9182254413179721,
          1.0924561146668765,
          0.7147588848205167
         ]
        },
        {
         "name": "1113196323",
         "type": "box",
         "y": [
          1.3909786634436636,
          0.8140621960685063,
          1.686521586572084,
          1.4235883476976772,
          1.0033978642567445,
          1.2315593308519421,
          1.1830556656280053,
          0.9848867591930566,
          1.0452571991979753,
          1.6422057861355113,
          1.9045268604109002,
          0.8027913792527573,
          1.5726052268292439,
          1.6154808343983154,
          1.8597424919077,
          0.8363489723737116,
          1.0202910880201566,
          0.845066739593326,
          1.4261150119212078,
          1.4405541265647521,
          1.1433620009377772,
          1.4593265218012204,
          1.6086469300892217,
          1.6696464568960483,
          1.8829428648604056,
          0.781738233168418,
          1.0041360157707377,
          0.4318282166389124,
          2.1211426396074837,
          1.7328484066487888,
          0.7436806196117691,
          0.7450966263827297,
          1.4026126183853047,
          1.010431301310327,
          0.7936146133650783,
          1.1397650546497176
         ]
        },
        {
         "name": "1597760039",
         "type": "box",
         "y": [
          1.1172359110890313,
          0.5450393683619624,
          1.3434579965298468,
          0.9003761341347379,
          0.6334263043965912,
          0.9069197834014815,
          0.8306337391788403,
          0.7976727784655223,
          0.807384390527092,
          1.5119352904383345,
          1.5478001617468833,
          1.2206809120086497,
          1.1203166497451023,
          1.423020979292342,
          1.5163002504629886,
          1.2519531363385865,
          1.469152396395263,
          0.6812393775729371,
          1.1432175585895055,
          0.9494370655850984,
          0.8541121457312479,
          1.0863783342528401,
          1.2147024853622845,
          1.2840231635856914,
          1.49940041070865,
          1.2271276309961805,
          0.7315697446624204,
          0.2958861311751271,
          1.3886130552673026,
          1.5184247082149986,
          0.47656624838754,
          0.7524179028159238,
          0.8035078405056882,
          1.7981800236631582,
          0.62840555424351,
          0.8776581122461214
         ]
        },
        {
         "name": "317532327",
         "type": "box",
         "y": [
          0.7989537732147219,
          1.3680479122931695,
          1.4955483628319524,
          1.7559199067204954,
          0.9471930580344562,
          1.0708276736879108,
          1.334493970571777,
          0.9555444403144653,
          1.0672171299935334,
          1.3118926065177288,
          1.4908809970856762,
          0.8186679254272745,
          1.4048315065399712,
          1.445372089509722,
          1.3922653391520725,
          1.1389799532433755,
          2.5419148839390955,
          1.5088813366869185,
          1.0805980217388877,
          1.3386983818854035,
          1.3071194014284624,
          1.3423049289280458,
          1.181691975201129,
          1.3191293085165527,
          1.5196960948239222,
          1.0085312215662896,
          0.9516338704969632,
          0.7060626216514541,
          1.8009279038573356,
          1.6377593740037797,
          0.5744291261901827,
          1.6251187492577464,
          1.210524487307765,
          1.3022464401776168,
          1.0003208982512757,
          1.3380206736996925
         ]
        },
        {
         "name": "346061612",
         "type": "box",
         "y": [
          1.235034600413779,
          0.7720566187882243,
          2.3787627805489047,
          1.5300632146788495,
          1.5282590392701842,
          1.4732541853177392,
          2.026225056767601,
          1.8098135356612737,
          1.4878547704347376,
          2.174272498106576,
          1.705089994310043,
          0.9444488100552392,
          2.133381691225375,
          1.8302401238049646,
          2.287816972548118,
          0.6556352937993479,
          1.6788571211588657,
          1.749396051230967,
          2.2773890213662074,
          2.2366952751752223,
          2.0515638224079824,
          2.031909613517213,
          2.338286634512785,
          2.373382770417859,
          3.4966424849026416,
          1.8713837362580468,
          2.4665729587408065,
          0.6633279091931545,
          3.98191977757974,
          2.03233996327618,
          1.2100683485470063,
          0.8292260206260212,
          1.6338942156721963,
          1.5001243334435141,
          1.7212574925750328,
          1.132624128091262
         ]
        },
        {
         "name": "40333612",
         "type": "box",
         "y": [
          0.9613761236800308,
          0.6640376401246304,
          1.926223955588102,
          1.1816543242510436,
          1.4289686284038454,
          1.568604096253573,
          1.8866844564836838,
          1.7034269820005257,
          1.4402132410832214,
          1.8031722031453532,
          1.1670575968858166,
          0.8460221221455934,
          1.327645914275607,
          1.139049863278335,
          1.766594469798687,
          0.8603027721353884,
          1.2058973847530494,
          1.2537187520087707,
          1.2997021933438062,
          1.7167849931799215,
          1.5954653787505884,
          1.6621179098882626,
          1.7216587584514988,
          1.8219744792193584,
          2.6121266574111752,
          1.3996772491883962,
          2.0310932079291737,
          0.6809330127851796,
          2.841194380979053,
          0.9895527193200213,
          0.9668569362053532,
          0.7223172239713552,
          1.1535307152075471,
          1.3913263495971162,
          1.416506638871389,
          1.0887268746242886
         ]
        },
        {
         "name": "511723709",
         "type": "box",
         "y": [
          1.1177914493446977,
          0.7602617870013769,
          2.148463873840455,
          1.307702137952857,
          1.4989111861052993,
          1.6376101762873085,
          2.0228178156389576,
          1.8208604986839845,
          1.5504503262538682,
          2.0046654113517293,
          1.368474996218168,
          1.0347250918025324,
          1.55544906576352,
          1.4107398227148948,
          2.0334245480545734,
          0.8147730957693632,
          1.445672430481279,
          1.5370087508574894,
          1.4836275439626454,
          1.975749085298254,
          1.8418820720231028,
          1.8523888578656516,
          1.951506775897981,
          2.018881593200744,
          3.1681133096875187,
          1.5303663819429139,
          2.1986929759489224,
          0.6900535596625897,
          3.2703798976246183,
          1.3030538893393722,
          0.8139617060215286,
          0.9377627756403378,
          1.3899273679620274,
          1.6720382914063734,
          1.6489259612743035,
          1.3043142568163595
         ]
        },
        {
         "name": "1004972352",
         "type": "box",
         "y": [
          1.2652839333610175,
          0.47958371230224234,
          1.7068903516981366,
          0.948054801334025,
          1.3920832338788987,
          0.9253856840239961,
          1.457323739253736,
          1.4738021811157491,
          1.7774066286498404,
          2.1212661525793486,
          1.6024291478926032,
          0.45828495724209484,
          1.0580038029379235,
          1.4544708844569427,
          1.3823227926259924,
          1.2514550861651224,
          2.1288695873216463,
          1.247703282019813,
          1.2509268767783401,
          0.8800043888774017,
          1.0103853681015704,
          1.5356450476897918,
          1.9498565498636355,
          1.7861142439915645,
          2.0268895285392436,
          0.7117044354744798,
          1.1168725510517323,
          0.42419398358746907,
          1.6413498104847235,
          1.7865571530817856,
          0.6851396012086577,
          1.0314648650752445,
          0.9367048814045107,
          1.8886109126215782,
          0.5565740503761349,
          0.9015058960949583
         ]
        },
        {
         "name": "143824576",
         "type": "box",
         "y": [
          0.9274581407751467,
          0.5771154496716209,
          1.6569885906895911,
          1.054441241255158,
          1.178231800523718,
          1.33219253860764,
          1.5927871067484343,
          1.336870339282234,
          1.0131944535334063,
          1.4542419331724503,
          1.285676484786237,
          0.763820613300528,
          1.6288226868514075,
          0.9804117252502482,
          1.8691803079399225,
          0.6687696754136169,
          0.8164335698977483,
          0.8126541521894622,
          1.4543300229039304,
          1.3535505152367726,
          1.2430960492675116,
          1.1809764171202466,
          1.3675253584216212,
          1.3658646977593298,
          2.3860954971946673,
          1.1621226571848458,
          1.6206447550690406,
          0.41240182267853714,
          2.5357216606686537,
          0.930551693667368,
          0.4980340595517525,
          0.718498575262972,
          1.2514101860795777,
          0.7579861596817213,
          1.0257021520967213,
          0.7383135499559463
         ]
        },
        {
         "name": "368424646",
         "type": "box",
         "y": [
          3.463206922506258,
          1.81806950619346,
          2.3924189180902222,
          1.309586879682394,
          2.1054320564025844,
          1.9025114100749587,
          1.0396823673706408,
          3.384811046370331,
          2.209331900568271,
          2.449942817585941,
          0.7936089264238805,
          0.7412748526189912,
          0.5406060110250708,
          0.5047955270520862,
          3.8913712579467665,
          2.116366698480332,
          2.138572766709243,
          1.0594796552155075,
          0.8549011647832737,
          1.0388790023397492,
          0.6367995180345803,
          3.607839449770738,
          2.240708114601911,
          2.54020645352217,
          0.3147343153932389,
          1.0521365490970296,
          0.8402060087448024,
          1.3030103068328422,
          2.5616437933720775,
          1.5094988290017457,
          1.8199020825072727,
          0.8524844553513358,
          0.48519875773555265,
          1.0679086471447905,
          1.0342086521421412,
          3.727453884556224
         ]
        },
        {
         "name": "1428227531",
         "type": "box",
         "y": [
          0.9664632568964847,
          0.7991963705004373,
          1.3594558961869687,
          1.0856234525135595,
          0.767415699961157,
          1.3580234880563096,
          1.0369804780306635,
          0.9989623256414005,
          0.907947126173199,
          1.5294870312751627,
          1.6362676800242346,
          1.516711381974617,
          1.4259053308735747,
          1.50583424005803,
          1.7445532997938284,
          1.1003860769254246,
          1.7662632887262824,
          1.0708416759819628,
          1.0577749967261032,
          1.111246698705102,
          0.9041218637858396,
          1.15516606908749,
          1.2850375443654547,
          1.377883050831484,
          1.6050996068099792,
          1.4368589403090883,
          0.6298077756022776,
          0.382766705974171,
          1.7321311447733372,
          1.9055707236251622,
          0.6338860002777164,
          0.9125946797935144,
          1.0061543740884704,
          1.8081124053220434,
          0.757588876022301,
          1.1821234343218396
         ]
        },
        {
         "name": "2040495184",
         "type": "box",
         "y": [
          1.2973397735988157,
          0.6179941223041879,
          1.723571858716,
          1.0597379596477372,
          0.8569477107328175,
          1.0028944420535717,
          1.0472753490477278,
          0.8308365494615807,
          0.8752701926677914,
          1.6531602054004197,
          1.6600831099032283,
          0.8072757113379437,
          1.4312137056818328,
          1.6952536708967414,
          1.786121108510198,
          1.4096674523889483,
          1.6868237032781133,
          0.7818384093762003,
          1.2727700180498347,
          1.097204910956149,
          1.1293287642028937,
          1.2158964839937885,
          1.5499740204877297,
          1.4356371193988742,
          1.6614144351715432,
          0.6419667148668335,
          0.9091254101207971,
          0.4410362311846715,
          1.6137743571900838,
          1.6449608951369952,
          0.4991799332003066,
          0.89156944628048,
          0.6598557232183645,
          1.9307027904741332,
          0.7187231504728974,
          1.0872807682369459
         ]
        },
        {
         "name": "1893337300",
         "type": "box",
         "y": [
          1.4852799960773535,
          0.6497234909323277,
          1.2467764527298555,
          0.5536390700934785,
          0.644994187043425,
          0.7197690206239817,
          1.2424704024678346,
          1.6540787480610228,
          1.9717980484955853,
          2.146126861173751,
          1.657316713125392,
          0.6749223765300512,
          0.8253681143406465,
          1.3931371698624841,
          1.0579334889251975,
          0.7732353576136276,
          1.5823858306606113,
          0.8906513164013862,
          1.4048086913215445,
          1.046252002871993,
          0.8561267309530022,
          1.4273927979563914,
          1.1812703978258383,
          1.7629319587347758,
          1.8147156147486398,
          1.162559779974498,
          0.8307495593762775,
          0.8672953873235217,
          1.3761307584421452,
          1.6202974542025363,
          0.41284984591640417,
          1.1359193659137756,
          1.3114455435251355,
          1.4798254814094776,
          1.0728481115777442,
          1.0320548555272997
         ]
        },
        {
         "name": "2117861717",
         "type": "box",
         "y": [
          0.8062496704174764,
          0.5811524061236836,
          1.6570223957685026,
          1.0684554224571703,
          1.2729362473567711,
          1.4597318784200863,
          1.8298951944393818,
          1.596591989307365,
          1.1973110123880752,
          1.5919050111045085,
          0.7773933640955718,
          0.7324063662440367,
          0.9990059647996484,
          0.7403609547406736,
          1.470423279976838,
          0.8088549367121542,
          1.0580593633712048,
          0.8097072556557533,
          1.3103678480191607,
          1.4075541821930424,
          1.3658470536753704,
          1.493867620108853,
          1.4369226780054465,
          1.4864858433990187,
          2.3649183349082263,
          1.2973532571140596,
          1.8476395420529759,
          0.6293917810213401,
          2.6869196644448006,
          0.7534255329988077,
          0.8073350374710007,
          0.6522870420603878,
          1.0772726928764622,
          1.0983882240059704,
          1.142645927618837,
          0.7015559452607542
         ]
        },
        {
         "name": "1941427679",
         "type": "box",
         "y": [
          1.1533226277305968,
          0.5563467474776927,
          2.3078342594921017,
          1.5865179183085139,
          1.5494121707357629,
          1.4588218075693133,
          1.9668972816621313,
          1.7999055923384562,
          1.2868244305298102,
          2.1310343899484647,
          1.6917105663683227,
          0.9539063374163768,
          1.8810693979340545,
          1.730015470031035,
          2.378111453367874,
          0.5955973894559264,
          1.4685615149118452,
          1.8498190497131564,
          1.7544884565547811,
          2.0096257478591557,
          1.9814274979813316,
          1.8620411208869265,
          2.1101909345649474,
          2.2306748922572908,
          3.3906827435246405,
          1.7985635447637711,
          2.2122621148563146,
          0.7404176198585902,
          3.6232447896457005,
          2.1320270258270555,
          0.784435497827465,
          0.6606256047502501,
          1.430710935754279,
          1.640131810666891,
          1.8606399595502476,
          1.3437798035478046
         ]
        },
        {
         "name": "1708098535",
         "type": "box",
         "y": [
          0.885555029577653,
          0.7324657321934369,
          1.8279764888567709,
          1.3759080263942811,
          1.2034251123901558,
          1.303552051636236,
          1.7129904215582366,
          1.5058232890710108,
          0.9759776074984016,
          1.4673718044138504,
          1.0773571516406588,
          0.6776034549984896,
          1.2749342837989415,
          0.9870091812307981,
          1.5557953753718625,
          0.7988696334094431,
          1.0226521038222847,
          0.7860058531868582,
          1.8272337331593203,
          1.4771116978660601,
          1.4144552914156212,
          1.301977199539518,
          1.4481269868076705,
          1.4812702931226798,
          2.3155482267426266,
          1.2982186452489202,
          1.9759893745828268,
          0.4793947357984956,
          2.877361855667717,
          1.1633681310988038,
          0.7796669285225647,
          0.44598407095930215,
          1.379231612923229,
          1.0989476011786157,
          1.2695566838328702,
          0.607179491801719
         ]
        },
        {
         "name": "456209269",
         "type": "box",
         "y": [
          0.9144215923207557,
          0.537277883709671,
          1.7702475660331292,
          1.1452277960440684,
          1.2772328047073571,
          1.3666507041498712,
          1.6077097746001583,
          1.4403822176477992,
          1.0534230687085766,
          1.6409665037245043,
          1.1121767817109258,
          0.6865477949913842,
          1.259072042425728,
          1.1248163616695581,
          1.6658092872939447,
          0.7173762546476479,
          1.0946079787036498,
          1.1679016426039104,
          1.3180424946000981,
          1.6006495626601007,
          1.4062209734935507,
          1.2999550683932881,
          1.555041104907753,
          1.5421658364001443,
          2.7050113072774775,
          1.1878726673073314,
          1.8629521451612523,
          0.6151975126746999,
          2.7886549733077812,
          1.0717628528366931,
          0.8420879257397201,
          0.7541205320251481,
          1.2409325518746808,
          1.239134170867964,
          1.38807270449553,
          0.9940147282239401
         ]
        }
       ],
       "layout": {
        "showlegend": false,
        "template": {
         "data": {
          "bar": [
           {
            "error_x": {
             "color": "#2a3f5f"
            },
            "error_y": {
             "color": "#2a3f5f"
            },
            "marker": {
             "line": {
              "color": "#E5ECF6",
              "width": 0.5
             }
            },
            "type": "bar"
           }
          ],
          "barpolar": [
           {
            "marker": {
             "line": {
              "color": "#E5ECF6",
              "width": 0.5
             }
            },
            "type": "barpolar"
           }
          ],
          "carpet": [
           {
            "aaxis": {
             "endlinecolor": "#2a3f5f",
             "gridcolor": "white",
             "linecolor": "white",
             "minorgridcolor": "white",
             "startlinecolor": "#2a3f5f"
            },
            "baxis": {
             "endlinecolor": "#2a3f5f",
             "gridcolor": "white",
             "linecolor": "white",
             "minorgridcolor": "white",
             "startlinecolor": "#2a3f5f"
            },
            "type": "carpet"
           }
          ],
          "choropleth": [
           {
            "colorbar": {
             "outlinewidth": 0,
             "ticks": ""
            },
            "type": "choropleth"
           }
          ],
          "contour": [
           {
            "colorbar": {
             "outlinewidth": 0,
             "ticks": ""
            },
            "colorscale": [
             [
              0,
              "#0d0887"
             ],
             [
              0.1111111111111111,
              "#46039f"
             ],
             [
              0.2222222222222222,
              "#7201a8"
             ],
             [
              0.3333333333333333,
              "#9c179e"
             ],
             [
              0.4444444444444444,
              "#bd3786"
             ],
             [
              0.5555555555555556,
              "#d8576b"
             ],
             [
              0.6666666666666666,
              "#ed7953"
             ],
             [
              0.7777777777777778,
              "#fb9f3a"
             ],
             [
              0.8888888888888888,
              "#fdca26"
             ],
             [
              1,
              "#f0f921"
             ]
            ],
            "type": "contour"
           }
          ],
          "contourcarpet": [
           {
            "colorbar": {
             "outlinewidth": 0,
             "ticks": ""
            },
            "type": "contourcarpet"
           }
          ],
          "heatmap": [
           {
            "colorbar": {
             "outlinewidth": 0,
             "ticks": ""
            },
            "colorscale": [
             [
              0,
              "#0d0887"
             ],
             [
              0.1111111111111111,
              "#46039f"
             ],
             [
              0.2222222222222222,
              "#7201a8"
             ],
             [
              0.3333333333333333,
              "#9c179e"
             ],
             [
              0.4444444444444444,
              "#bd3786"
             ],
             [
              0.5555555555555556,
              "#d8576b"
             ],
             [
              0.6666666666666666,
              "#ed7953"
             ],
             [
              0.7777777777777778,
              "#fb9f3a"
             ],
             [
              0.8888888888888888,
              "#fdca26"
             ],
             [
              1,
              "#f0f921"
             ]
            ],
            "type": "heatmap"
           }
          ],
          "heatmapgl": [
           {
            "colorbar": {
             "outlinewidth": 0,
             "ticks": ""
            },
            "colorscale": [
             [
              0,
              "#0d0887"
             ],
             [
              0.1111111111111111,
              "#46039f"
             ],
             [
              0.2222222222222222,
              "#7201a8"
             ],
             [
              0.3333333333333333,
              "#9c179e"
             ],
             [
              0.4444444444444444,
              "#bd3786"
             ],
             [
              0.5555555555555556,
              "#d8576b"
             ],
             [
              0.6666666666666666,
              "#ed7953"
             ],
             [
              0.7777777777777778,
              "#fb9f3a"
             ],
             [
              0.8888888888888888,
              "#fdca26"
             ],
             [
              1,
              "#f0f921"
             ]
            ],
            "type": "heatmapgl"
           }
          ],
          "histogram": [
           {
            "marker": {
             "colorbar": {
              "outlinewidth": 0,
              "ticks": ""
             }
            },
            "type": "histogram"
           }
          ],
          "histogram2d": [
           {
            "colorbar": {
             "outlinewidth": 0,
             "ticks": ""
            },
            "colorscale": [
             [
              0,
              "#0d0887"
             ],
             [
              0.1111111111111111,
              "#46039f"
             ],
             [
              0.2222222222222222,
              "#7201a8"
             ],
             [
              0.3333333333333333,
              "#9c179e"
             ],
             [
              0.4444444444444444,
              "#bd3786"
             ],
             [
              0.5555555555555556,
              "#d8576b"
             ],
             [
              0.6666666666666666,
              "#ed7953"
             ],
             [
              0.7777777777777778,
              "#fb9f3a"
             ],
             [
              0.8888888888888888,
              "#fdca26"
             ],
             [
              1,
              "#f0f921"
             ]
            ],
            "type": "histogram2d"
           }
          ],
          "histogram2dcontour": [
           {
            "colorbar": {
             "outlinewidth": 0,
             "ticks": ""
            },
            "colorscale": [
             [
              0,
              "#0d0887"
             ],
             [
              0.1111111111111111,
              "#46039f"
             ],
             [
              0.2222222222222222,
              "#7201a8"
             ],
             [
              0.3333333333333333,
              "#9c179e"
             ],
             [
              0.4444444444444444,
              "#bd3786"
             ],
             [
              0.5555555555555556,
              "#d8576b"
             ],
             [
              0.6666666666666666,
              "#ed7953"
             ],
             [
              0.7777777777777778,
              "#fb9f3a"
             ],
             [
              0.8888888888888888,
              "#fdca26"
             ],
             [
              1,
              "#f0f921"
             ]
            ],
            "type": "histogram2dcontour"
           }
          ],
          "mesh3d": [
           {
            "colorbar": {
             "outlinewidth": 0,
             "ticks": ""
            },
            "type": "mesh3d"
           }
          ],
          "parcoords": [
           {
            "line": {
             "colorbar": {
              "outlinewidth": 0,
              "ticks": ""
             }
            },
            "type": "parcoords"
           }
          ],
          "pie": [
           {
            "automargin": true,
            "type": "pie"
           }
          ],
          "scatter": [
           {
            "marker": {
             "colorbar": {
              "outlinewidth": 0,
              "ticks": ""
             }
            },
            "type": "scatter"
           }
          ],
          "scatter3d": [
           {
            "line": {
             "colorbar": {
              "outlinewidth": 0,
              "ticks": ""
             }
            },
            "marker": {
             "colorbar": {
              "outlinewidth": 0,
              "ticks": ""
             }
            },
            "type": "scatter3d"
           }
          ],
          "scattercarpet": [
           {
            "marker": {
             "colorbar": {
              "outlinewidth": 0,
              "ticks": ""
             }
            },
            "type": "scattercarpet"
           }
          ],
          "scattergeo": [
           {
            "marker": {
             "colorbar": {
              "outlinewidth": 0,
              "ticks": ""
             }
            },
            "type": "scattergeo"
           }
          ],
          "scattergl": [
           {
            "marker": {
             "colorbar": {
              "outlinewidth": 0,
              "ticks": ""
             }
            },
            "type": "scattergl"
           }
          ],
          "scattermapbox": [
           {
            "marker": {
             "colorbar": {
              "outlinewidth": 0,
              "ticks": ""
             }
            },
            "type": "scattermapbox"
           }
          ],
          "scatterpolar": [
           {
            "marker": {
             "colorbar": {
              "outlinewidth": 0,
              "ticks": ""
             }
            },
            "type": "scatterpolar"
           }
          ],
          "scatterpolargl": [
           {
            "marker": {
             "colorbar": {
              "outlinewidth": 0,
              "ticks": ""
             }
            },
            "type": "scatterpolargl"
           }
          ],
          "scatterternary": [
           {
            "marker": {
             "colorbar": {
              "outlinewidth": 0,
              "ticks": ""
             }
            },
            "type": "scatterternary"
           }
          ],
          "surface": [
           {
            "colorbar": {
             "outlinewidth": 0,
             "ticks": ""
            },
            "colorscale": [
             [
              0,
              "#0d0887"
             ],
             [
              0.1111111111111111,
              "#46039f"
             ],
             [
              0.2222222222222222,
              "#7201a8"
             ],
             [
              0.3333333333333333,
              "#9c179e"
             ],
             [
              0.4444444444444444,
              "#bd3786"
             ],
             [
              0.5555555555555556,
              "#d8576b"
             ],
             [
              0.6666666666666666,
              "#ed7953"
             ],
             [
              0.7777777777777778,
              "#fb9f3a"
             ],
             [
              0.8888888888888888,
              "#fdca26"
             ],
             [
              1,
              "#f0f921"
             ]
            ],
            "type": "surface"
           }
          ],
          "table": [
           {
            "cells": {
             "fill": {
              "color": "#EBF0F8"
             },
             "line": {
              "color": "white"
             }
            },
            "header": {
             "fill": {
              "color": "#C8D4E3"
             },
             "line": {
              "color": "white"
             }
            },
            "type": "table"
           }
          ]
         },
         "layout": {
          "annotationdefaults": {
           "arrowcolor": "#2a3f5f",
           "arrowhead": 0,
           "arrowwidth": 1
          },
          "autotypenumbers": "strict",
          "coloraxis": {
           "colorbar": {
            "outlinewidth": 0,
            "ticks": ""
           }
          },
          "colorscale": {
           "diverging": [
            [
             0,
             "#8e0152"
            ],
            [
             0.1,
             "#c51b7d"
            ],
            [
             0.2,
             "#de77ae"
            ],
            [
             0.3,
             "#f1b6da"
            ],
            [
             0.4,
             "#fde0ef"
            ],
            [
             0.5,
             "#f7f7f7"
            ],
            [
             0.6,
             "#e6f5d0"
            ],
            [
             0.7,
             "#b8e186"
            ],
            [
             0.8,
             "#7fbc41"
            ],
            [
             0.9,
             "#4d9221"
            ],
            [
             1,
             "#276419"
            ]
           ],
           "sequential": [
            [
             0,
             "#0d0887"
            ],
            [
             0.1111111111111111,
             "#46039f"
            ],
            [
             0.2222222222222222,
             "#7201a8"
            ],
            [
             0.3333333333333333,
             "#9c179e"
            ],
            [
             0.4444444444444444,
             "#bd3786"
            ],
            [
             0.5555555555555556,
             "#d8576b"
            ],
            [
             0.6666666666666666,
             "#ed7953"
            ],
            [
             0.7777777777777778,
             "#fb9f3a"
            ],
            [
             0.8888888888888888,
             "#fdca26"
            ],
            [
             1,
             "#f0f921"
            ]
           ],
           "sequentialminus": [
            [
             0,
             "#0d0887"
            ],
            [
             0.1111111111111111,
             "#46039f"
            ],
            [
             0.2222222222222222,
             "#7201a8"
            ],
            [
             0.3333333333333333,
             "#9c179e"
            ],
            [
             0.4444444444444444,
             "#bd3786"
            ],
            [
             0.5555555555555556,
             "#d8576b"
            ],
            [
             0.6666666666666666,
             "#ed7953"
            ],
            [
             0.7777777777777778,
             "#fb9f3a"
            ],
            [
             0.8888888888888888,
             "#fdca26"
            ],
            [
             1,
             "#f0f921"
            ]
           ]
          },
          "colorway": [
           "#636efa",
           "#EF553B",
           "#00cc96",
           "#ab63fa",
           "#FFA15A",
           "#19d3f3",
           "#FF6692",
           "#B6E880",
           "#FF97FF",
           "#FECB52"
          ],
          "font": {
           "color": "#2a3f5f"
          },
          "geo": {
           "bgcolor": "white",
           "lakecolor": "white",
           "landcolor": "#E5ECF6",
           "showlakes": true,
           "showland": true,
           "subunitcolor": "white"
          },
          "hoverlabel": {
           "align": "left"
          },
          "hovermode": "closest",
          "mapbox": {
           "style": "light"
          },
          "paper_bgcolor": "white",
          "plot_bgcolor": "#E5ECF6",
          "polar": {
           "angularaxis": {
            "gridcolor": "white",
            "linecolor": "white",
            "ticks": ""
           },
           "bgcolor": "#E5ECF6",
           "radialaxis": {
            "gridcolor": "white",
            "linecolor": "white",
            "ticks": ""
           }
          },
          "scene": {
           "xaxis": {
            "backgroundcolor": "#E5ECF6",
            "gridcolor": "white",
            "gridwidth": 2,
            "linecolor": "white",
            "showbackground": true,
            "ticks": "",
            "zerolinecolor": "white"
           },
           "yaxis": {
            "backgroundcolor": "#E5ECF6",
            "gridcolor": "white",
            "gridwidth": 2,
            "linecolor": "white",
            "showbackground": true,
            "ticks": "",
            "zerolinecolor": "white"
           },
           "zaxis": {
            "backgroundcolor": "#E5ECF6",
            "gridcolor": "white",
            "gridwidth": 2,
            "linecolor": "white",
            "showbackground": true,
            "ticks": "",
            "zerolinecolor": "white"
           }
          },
          "shapedefaults": {
           "line": {
            "color": "#2a3f5f"
           }
          },
          "ternary": {
           "aaxis": {
            "gridcolor": "white",
            "linecolor": "white",
            "ticks": ""
           },
           "baxis": {
            "gridcolor": "white",
            "linecolor": "white",
            "ticks": ""
           },
           "bgcolor": "#E5ECF6",
           "caxis": {
            "gridcolor": "white",
            "linecolor": "white",
            "ticks": ""
           }
          },
          "title": {
           "x": 0.05
          },
          "xaxis": {
           "automargin": true,
           "gridcolor": "white",
           "linecolor": "white",
           "ticks": "",
           "title": {
            "standoff": 15
           },
           "zerolinecolor": "white",
           "zerolinewidth": 2
          },
          "yaxis": {
           "automargin": true,
           "gridcolor": "white",
           "linecolor": "white",
           "ticks": "",
           "title": {
            "standoff": 15
           },
           "zerolinecolor": "white",
           "zerolinewidth": 2
          }
         }
        },
        "title": {
         "text": "Dilated Convolutions (Rate - 3)"
        },
        "xaxis": {
         "title": {
          "text": "Time series"
         }
        },
        "yaxis": {
         "title": {
          "text": "MASE distribution"
         }
        }
       }
      },
      "text/html": [
       "<div>                            <div id=\"9524375d-751d-4496-b3f0-820ab3f4997a\" class=\"plotly-graph-div\" style=\"height:525px; width:100%;\"></div>            <script type=\"text/javascript\">                require([\"plotly\"], function(Plotly) {                    window.PLOTLYENV=window.PLOTLYENV || {};                                    if (document.getElementById(\"9524375d-751d-4496-b3f0-820ab3f4997a\")) {                    Plotly.newPlot(                        \"9524375d-751d-4496-b3f0-820ab3f4997a\",                        [{\"name\": \"grid\", \"type\": \"box\", \"y\": [3.4049258866232117, 3.9334220112095264, 4.942788892396936, 5.288426386099644, 4.711509072822857, 5.048798694563262, 5.422680563718374, 4.3906010895656, 4.757382937399042, 4.0428815230821815, 3.666528116458178, 4.848621468981584, 5.21868404798858, 5.264737337932343, 3.9418841040094974, 3.6080082102221196, 3.163692063193475, 4.383819271820083, 4.817164802948127, 5.17303986550913, 5.330122148207503, 4.345239980026764, 4.47118026642086, 4.758758356602459, 4.0262876186331145, 4.476711800797596, 5.183062022823071, 5.037803067270375, 1.593238842776729, 2.176263924701763, 2.934570752919968, 3.659787897918552, 3.9402995416702247, 3.1538568294919953, 5.19506836106495, 4.1845591477434745]}, {\"name\": \"tline_1\", \"type\": \"box\", \"y\": [2.6480675395375046, 3.63320219632596, 4.00380672665955, 3.521897334398994, 3.8446024154190512, 3.622757959283008, 3.7916756681343897, 3.8225022792284284, 3.7802874517059903, 2.7401504134329433, 2.085395273102798, 3.3666390363516006, 3.850866253369405, 3.8348085730368036, 3.0896585929031586, 3.0439812957728463, 3.768934354567118, 3.668831115770002, 3.283312735959235, 3.881111876348343, 3.8724940338684815, 3.859206308929209, 3.8316626224949806, 3.866846138395271, 1.9029598539466221, 3.421808922018521, 3.9246489875300994, 3.699109967261845, 2.269728464971809, 1.7446597300309705, 2.6234589483107564, 3.3934178048125587, 3.37987918202563, 3.9786296000366366, 3.9711045814176242, 3.6269366217940098]}, {\"name\": \"tline_2\", \"type\": \"box\", \"y\": [3.075748476944032, 3.3792275647724073, 4.41216788639576, 5.043505165571701, 4.180377492453159, 4.71072938254233, 5.1028616932920325, 3.809725726039921, 4.265732152027444, 3.9396581765612084, 3.6715610342907192, 4.652229952933159, 4.823778797776316, 4.884781601967959, 3.607551221635107, 3.1570098598261263, 2.314043170351998, 3.8632222990746987, 4.652578176597014, 4.746268067452795, 4.943212895002022, 3.7360086366009773, 3.909619155694489, 4.236954821752077, 4.218125492628286, 4.168651302165445, 4.758262378148004, 4.655132608571232, 1.2486117485929014, 1.9618217085240883, 2.5263745873416306, 3.1509502884162592, 3.461594567297027, 2.235313963270985, 4.757380599749889, 3.6366679090820635]}, {\"name\": \"substation1\", \"type\": \"box\", \"y\": [2.6193626880017784, 3.6415139143414375, 4.0301928373988645, 3.535763921781801, 3.8408215476881664, 3.648639933757195, 3.815514555537716, 3.8434458454237768, 3.7955329453107955, 2.675791601161684, 2.081756953433795, 3.35220531233945, 3.8540916125950675, 3.8219273736986854, 3.0718758904409285, 3.067801577564296, 3.8232100866560197, 3.678334188835382, 3.236679413838931, 3.87144405448307, 3.8799216984234706, 3.8659297483199424, 3.8341588810780913, 3.8810868099501916, 1.7932796171504641, 3.451678919913017, 3.956375102691751, 3.6782060026037064, 2.2287004403967083, 1.7363251024846442, 2.6453021570456974, 3.4509639646758776, 3.3558253951829924, 3.9978018723767903, 3.999861685995057, 3.6028264716394287]}, {\"name\": \"substation2\", \"type\": \"box\", \"y\": [2.6544078832256366, 3.508227588552028, 3.83165196186411, 3.386118047749703, 3.7450718801369254, 3.4499953243159784, 3.6286032869961238, 3.660618576988971, 3.6305649137625733, 2.837356156888233, 2.066921685375218, 3.310729615451034, 3.7464307099037413, 3.763536086061833, 3.0501589763004726, 2.9233126152401288, 3.5119063341547596, 3.5380381657897186, 3.318730788177566, 3.7968054783232645, 3.7451786253199617, 3.7460521771639312, 3.7161359364941946, 3.7256271697650414, 2.250454584368496, 3.2889716449792594, 3.727773647335492, 3.651075461137406, 2.315724217419536, 1.7701949726618988, 2.4904681571683396, 3.1454897429946342, 3.3535314933393146, 3.8210783700186424, 3.778335430600332, 3.5896955949579374]}, {\"name\": \"substation3\", \"type\": \"box\", \"y\": [3.06868234744013, 3.3876101740136906, 4.4057251094062435, 5.045034580900793, 4.167401413203249, 4.732996333159121, 5.10709007782271, 3.7931621830430013, 4.259171349476324, 3.9255527782718027, 3.675132892034301, 4.661925007862826, 4.832017245711987, 4.888167161383132, 3.5944334026021303, 3.1531361451455386, 2.312782530414004, 3.869238483019381, 4.663348366175456, 4.754698716612928, 4.949039554122557, 3.71961529985133, 3.893107106972806, 4.22444353418581, 4.217923914189847, 4.187987940193425, 4.762982265209412, 4.663050546335239, 1.2528095480294827, 1.9676297104029294, 2.5339524270328533, 3.16595539397834, 3.4771716475616627, 2.2479067503564365, 4.776292650488135, 3.6135918426144786]}, {\"name\": \"substation4\", \"type\": \"box\", \"y\": [2.3016291927663337, 2.0449212887330033, 3.384228987729292, 3.456302050487401, 3.2273946409054233, 2.52798776643067, 3.477712305028095, 3.3473845827319186, 3.2417855398475166, 3.116966161959255, 2.278745346228693, 2.9731813863993337, 3.1180338196513246, 3.30280691903276, 3.11003501272843, 2.1404198542597963, 1.7178815882119671, 2.439451361914365, 2.8217496028493847, 2.9857119341734397, 3.2266865413551753, 3.288285398857986, 3.4202993887234894, 3.2846338123782344, 2.8277389647254787, 2.193776499285204, 3.399950840073974, 2.813864331998918, 0.9117541202061334, 1.655462013947035, 1.7549317250963785, 1.6317601937874873, 2.003095339440274, 1.443172930639293, 2.7700939768690462, 3.388767541865918]}, {\"name\": \"6010\", \"type\": \"box\", \"y\": [0.8582366595916973, 0.5700880475531942, 1.7862733403449922, 1.229457405629942, 1.2565450605587145, 1.2924205228048713, 1.6713064430575553, 1.4723562767591347, 0.9581024082082495, 1.4710017336372514, 1.0742473933200951, 0.6629289626820655, 1.2772029157872173, 1.0313229796070649, 1.5561523385615306, 0.7802941754992458, 0.9885916028469477, 0.8905962769465032, 1.6392767157308523, 1.5154985413285342, 1.4003385623226785, 1.2841246395627475, 1.4477102902410113, 1.460951689286127, 2.417072484352782, 1.2241769294063403, 1.9013246501364487, 0.4630773104008682, 2.8373094936668948, 1.064203720714063, 0.7330320950833421, 0.571699006893356, 1.2043517504053851, 1.0800854636645754, 1.2962617660501532, 0.747528027544068]}, {\"name\": \"6014\", \"type\": \"box\", \"y\": [1.0285384147765526, 0.5941486701358633, 2.101283384014134, 1.4669297355097684, 1.3792879391503805, 1.4384434329497584, 1.8990624129624885, 1.627545510667142, 1.2515501677178378, 2.0429065754033213, 1.3108559757612401, 0.7096031953611245, 1.697621109824364, 1.377233284633575, 2.0641852065975814, 0.5217802096648468, 1.3320924865162291, 1.348214418512127, 1.9974136306852397, 1.9754444041521635, 1.6775821475842638, 1.6005545942385115, 1.8874690247061012, 1.9365301259879584, 3.091273343441124, 1.5257596453604723, 2.2076515334855875, 0.4827807449290451, 3.322935034669057, 1.6025126803817042, 0.9015717849488022, 0.5764811170807533, 1.3413928474473085, 1.4915738490801602, 1.4645626475034088, 1.0249615743809288]}, {\"name\": \"6011\", \"type\": \"box\", \"y\": [0.9526644148699075, 0.6049143264199143, 1.8963658895015048, 1.1562962519821898, 1.3652023035832312, 1.5695450226207917, 1.9248101366538501, 1.7063031489581724, 1.4179822069295298, 1.8288867682121686, 1.017258182784424, 0.8416446889935107, 1.245482856954108, 1.0751676923898812, 1.7087135292519717, 0.81446782793907, 1.2208911528740178, 1.1480186299955046, 1.3308684349029765, 1.670471033980871, 1.5730790796588414, 1.6603621268245312, 1.698612637242141, 1.7732183759400038, 2.7180400633039494, 1.3890887198795627, 2.038061628209047, 0.5942088604962849, 2.940254847349886, 0.9499337292062691, 0.783133158184595, 0.7556219945940362, 1.1709161608375747, 1.350088752862439, 1.3737142177142894, 0.9889378767253435]}, {\"name\": \"6280\", \"type\": \"box\", \"y\": [1.860318194800273, 1.0919795140172799, 1.4839488567126635, 1.0567058536232963, 1.0518341643722633, 1.495464655290302, 0.5121648292713695, 1.7054754232342493, 1.3508005058484152, 1.7055046833992658, 1.1764853771806791, 0.5431129163041971, 0.9181978411109688, 0.957047273789195, 2.437214497617024, 0.9660820512222555, 2.2311183598813438, 1.0923066321127834, 0.6908428459859729, 0.9095447308992295, 0.5691790407063202, 2.010637223951015, 2.0570829848878445, 1.9661149421282347, 1.1313444838832454, 0.7349038767307662, 0.33309363318747803, 0.8428883732277008, 2.05970621038258, 1.6930639292259837, 0.9256999981740666, 0.8003664675682339, 0.5247388124336162, 1.179103218057327, 0.7264124614934815, 2.0423970882744156]}, {\"name\": \"6281\", \"type\": \"box\", \"y\": [0.46081230920577865, 0.4885520469124992, 0.6090181750751312, 0.39907066850992023, 0.5867886066042661, 1.0614506303057176, 0.4178402374414074, 0.6171235655982062, 0.564933644002067, 1.0337458421921595, 0.931083257324876, 0.6978625535540307, 0.5902517201561529, 0.9451928382738153, 0.8084036296236299, 0.4564543990484264, 0.6029224785167985, 0.7625296577358913, 0.7025082546316258, 0.6475568257999317, 0.5209219353802005, 0.5674423945040495, 0.8869238601844088, 0.8021391510936156, 0.7706512541437451, 0.7978641984437056, 0.666777151384525, 0.8392709402428029, 0.6697508958768975, 1.1513116427521053, 0.6211948486287336, 0.6294789352052902, 0.7482147649480101, 0.6938373402473299, 0.4755178178703318, 0.4807652311076197]}, {\"name\": \"6284\", \"type\": \"box\", \"y\": [1.4588418812475308, 0.6180208579450167, 1.2474051200338372, 0.5261375629722412, 0.6381905609447711, 0.7120965304033, 1.2372368270983753, 1.6537647106380664, 1.9688367420586175, 2.1249811614691203, 1.6427650561653153, 0.6731193364482939, 0.8164795698170637, 1.3806152189102148, 1.0485103699703404, 0.7595981125868521, 1.5960539368746345, 0.8745406166561166, 1.4065277827724032, 1.0257748813981082, 0.8393547333514423, 1.413728770675537, 1.1496096644808187, 1.7419282283963626, 1.8047999489264281, 1.1414351336314368, 0.8291623448001891, 0.8663276344940926, 1.3658248718336978, 1.6108706674585904, 0.42555063405175103, 1.1222866803083176, 1.3077948154795878, 1.4760449752926164, 1.0582342842112937, 1.003791925179314]}, {\"name\": \"1295864320\", \"type\": \"box\", \"y\": [1.1245483437512116, 1.0677053838596449, 1.7270435251290643, 1.4765820632547277, 0.9434787328287024, 1.1710849467697881, 1.2891657130184757, 1.1417130351112836, 1.2572894741777823, 2.022058426818381, 1.6646434691060634, 0.9078146994463282, 1.788151999272008, 1.9243128929264286, 2.0725662754223992, 0.7986345166184166, 3.185737380567115, 1.7252661538245861, 1.4281479786305378, 1.2667542988612766, 1.3656172851093142, 1.7133208329983132, 2.8383580332064478, 1.9851797905983417, 2.2728648055306215, 1.6369552420715425, 1.0357318113001026, 0.3804072467545122, 1.9120173302277144, 2.3361281868237262, 0.8752201526695462, 1.0440818507530714, 0.9125601194256389, 1.6800372948377098, 0.8880130768798119, 1.3643616735057176]}, {\"name\": \"1247421966\", \"type\": \"box\", \"y\": [0.8076454230189488, 0.4740891099916423, 1.6286890854341638, 0.9528228584691719, 1.1525554204630761, 1.235880870439572, 1.6300295376960394, 1.3544329791675669, 1.107676089871086, 1.7115613846309334, 0.9308233305751983, 0.6345757164758038, 1.1419302318839057, 1.0888090574405416, 1.4191715752228138, 0.56127131633967, 0.9077584920032643, 0.8274086610251189, 1.4914942218035652, 1.3837308757123163, 1.3085062244829249, 1.2951387907476772, 1.5068367471860744, 1.598129251585053, 2.5595780419526837, 0.919197734641419, 1.8388784369002944, 0.34098400932695555, 2.598522426978033, 0.9172039138718285, 0.8700262527076614, 0.6737122868880316, 1.0386399850009402, 0.9080011514158409, 1.1072513809518632, 0.9333566388617776]}, {\"name\": \"2107373071\", \"type\": \"box\", \"y\": [1.170946948072316, 0.7146491024258237, 2.266366856617751, 1.5879162008956051, 1.3925184266380302, 1.4652516585035118, 1.9960044998541944, 1.832159621120164, 1.2868438576635295, 1.9137701470316821, 1.4191733867833238, 0.7753370297691664, 1.7754823387279006, 1.5819196696160358, 2.228576091893576, 1.1938764218563906, 1.332586053489727, 1.3423559126111202, 2.0851978998661083, 1.9858618466671418, 1.920771603879054, 1.8216509664934626, 2.0283332705404242, 2.0750660967123555, 3.0664084295650764, 1.7524410372496568, 2.252821594532859, 0.6321749734363893, 3.730587545797321, 1.6849825891693222, 0.9206436063449657, 0.6220101296681565, 1.7774873354407956, 1.557898953316604, 1.7924497702305149, 1.003544002014936]}, {\"name\": \"2009066518\", \"type\": \"box\", \"y\": [1.2156489069343361, 0.5072589594003656, 1.586965257039139, 0.9418808399638355, 0.8044892107362872, 1.240645539339766, 1.0850077370894635, 1.0610929220244278, 1.1425820564723326, 1.7974536430902803, 1.7787425702733786, 0.7707058526436636, 1.4173010722398494, 1.7838444949946073, 1.7519043599888386, 1.3635054183040423, 1.644921655440265, 0.831226220266607, 1.3797422828016208, 0.9376771922524513, 1.0353316880168297, 1.3518189771269131, 1.574005428456639, 1.5507727095287354, 1.8059832130584716, 1.0652925525988317, 0.8953175236569116, 0.3823341832612243, 1.5500636359456215, 1.6819669466931333, 0.5594492117908879, 0.8060820160241887, 0.8262823549985322, 1.8890589980351873, 0.5983754191374359, 0.981642835573652]}, {\"name\": \"972102295\", \"type\": \"box\", \"y\": [0.5134539390936972, 0.4970952438178603, 0.5915955985510187, 0.4091927700799309, 0.6043557341958531, 1.0914872469647696, 0.4557644699959247, 0.6010833068555925, 0.5730125994891627, 1.0313853732961495, 0.9458438002121741, 0.7010731587787075, 0.6062406422756516, 0.9361480148899118, 0.803280496223789, 0.4634963112652942, 0.5997072351839586, 0.7549873296074292, 0.7272581087946695, 0.6449521751227164, 0.5464985570915012, 0.5691355173022296, 0.8830539074517371, 0.8008440508356536, 0.7796677488997424, 0.7848938745566644, 0.6768111550517945, 0.8386538544829512, 0.6575351291622414, 1.1649833672518464, 0.6299979610970983, 0.624934698466956, 0.7521963123743706, 0.7134023664836678, 0.48177261361228985, 0.4813250553845695]}, {\"name\": \"1616571925\", \"type\": \"box\", \"y\": [1.167034600666027, 1.9923428813588513, 1.7608663891112373, 2.3111480293961444, 1.5854700042474283, 1.563489428292367, 1.757758858711265, 1.383228436467123, 1.3384756416350538, 1.4854586910403882, 0.8719033357643636, 1.7421296191269846, 1.8261956541778626, 1.5785413737208458, 2.2153684424163886, 1.1244206072330685, 1.4106587567462, 1.959972981228417, 1.4856078940061976, 1.631253297793568, 1.5163411670483316, 1.4830635582051972, 1.6304893929191089, 1.1319767821857174, 1.2363860338092898, 2.296699467119965, 2.408976575147485, 1.9374226332023163, 1.1468646257504906, 0.41390667310068513, 2.2143824494977, 1.6780207206183753, 2.1304210912559784, 0.8546417142275989, 2.22963541512628, 1.8073906817614962]}, {\"name\": \"806187417\", \"type\": \"box\", \"y\": [0.777467265457407, 0.4979046204689692, 1.650982275169811, 1.1111690442323903, 1.2482380747507165, 1.3034724380632472, 1.6613325832155401, 1.406685291131758, 0.9530099311980295, 1.5298862159275306, 0.8606841709853682, 0.6414575188732388, 1.1280114594228141, 0.9666634674255695, 1.4440838257838884, 0.5299587368254731, 0.9012562163922387, 0.7466549578447407, 1.5695605387014766, 1.358339099778602, 1.2627588183683816, 1.2504720664192703, 1.3502477393252525, 1.368246886583177, 2.4735913625873045, 1.0676453611725787, 1.7014306985740117, 0.327122656680863, 2.618289306348401, 1.0217944909561487, 0.9226977297491469, 0.6083464172525306, 0.878172520366708, 0.8601796651698692, 1.1343087804745982, 0.7105664843278102]}, {\"name\": \"771513244\", \"type\": \"box\", \"y\": [0.8598737981021873, 0.7464549646571594, 1.8492908233560705, 1.3590362262502873, 1.3991126169735821, 1.3791980945218218, 1.7474842324002164, 1.5464833925472967, 1.020836401606862, 1.4294990176111944, 0.973210245269421, 0.7703693682323897, 1.1664750980890546, 0.9567578248719583, 1.428194717003486, 0.8344193950301234, 0.9976091639308148, 0.831350325338834, 1.8606983710432643, 1.4764278331630971, 1.376509897032091, 1.3262328905131207, 1.3098916088921098, 1.4637560547828312, 2.0554063521188106, 1.2065639183518084, 2.0230448482121597, 0.6903041885213458, 2.857165840893077, 1.1230292727563067, 0.6441051279814337, 0.6530894037705037, 1.1851529902234008, 1.0122403962370776, 1.225078429058491, 0.5081291243785437]}, {\"name\": \"1562145181\", \"type\": \"box\", \"y\": [1.108846308101772, 0.4958621667259001, 1.8934095497067023, 1.2619418337464061, 1.0105038646421955, 1.1772607433765432, 1.5347182081118704, 1.278842889894367, 0.9768194757070853, 1.900267448073263, 0.9924368667041901, 0.5967019619925997, 1.235393196889951, 0.8894937203765189, 1.7527075250568187, 0.3758266777893002, 1.01300471095781, 0.9548249144579148, 1.8492681212739799, 1.9425484914313673, 1.2249109568128842, 1.1654198317892137, 1.385000620344611, 1.4063085913272153, 2.5721887903081746, 1.139944316965456, 1.7754383928350883, 0.5287301878583103, 2.5539668085589917, 1.3198635704997217, 0.8124631247050198, 0.4606750625838309, 1.2087330131921963, 2.041088665328982, 1.0416432183082087, 0.7613176838769686]}, {\"name\": \"896338719\", \"type\": \"box\", \"y\": [0.7661734881608037, 0.44498534986229216, 1.4843288336856075, 1.0453889854039702, 1.1342559936797916, 1.1796329681645104, 1.4503086339259448, 1.2547089367712307, 0.8615322812063492, 1.309065547762444, 0.9422933224074652, 0.5936563803804249, 1.0797716430427136, 0.8624665920086735, 1.311457462945986, 0.6736813738933967, 0.8660914363707678, 0.8101288604525889, 1.3815834585018327, 1.3085473710905136, 1.1886240302410105, 1.0914014351038974, 1.2917211101394979, 1.2449520758606736, 2.2154902549366424, 0.9983773394914426, 1.651568424043156, 0.39818304238172536, 2.4726317874292834, 0.8197591665168084, 0.7778957099582998, 0.5722989124735551, 1.0537871592407726, 0.9182254413179721, 1.0924561146668765, 0.7147588848205167]}, {\"name\": \"1113196323\", \"type\": \"box\", \"y\": [1.3909786634436636, 0.8140621960685063, 1.686521586572084, 1.4235883476976772, 1.0033978642567445, 1.2315593308519421, 1.1830556656280053, 0.9848867591930566, 1.0452571991979753, 1.6422057861355113, 1.9045268604109002, 0.8027913792527573, 1.5726052268292439, 1.6154808343983154, 1.8597424919077, 0.8363489723737116, 1.0202910880201566, 0.845066739593326, 1.4261150119212078, 1.4405541265647521, 1.1433620009377772, 1.4593265218012204, 1.6086469300892217, 1.6696464568960483, 1.8829428648604056, 0.781738233168418, 1.0041360157707377, 0.4318282166389124, 2.1211426396074837, 1.7328484066487888, 0.7436806196117691, 0.7450966263827297, 1.4026126183853047, 1.010431301310327, 0.7936146133650783, 1.1397650546497176]}, {\"name\": \"1597760039\", \"type\": \"box\", \"y\": [1.1172359110890313, 0.5450393683619624, 1.3434579965298468, 0.9003761341347379, 0.6334263043965912, 0.9069197834014815, 0.8306337391788403, 0.7976727784655223, 0.807384390527092, 1.5119352904383345, 1.5478001617468833, 1.2206809120086497, 1.1203166497451023, 1.423020979292342, 1.5163002504629886, 1.2519531363385865, 1.469152396395263, 0.6812393775729371, 1.1432175585895055, 0.9494370655850984, 0.8541121457312479, 1.0863783342528401, 1.2147024853622845, 1.2840231635856914, 1.49940041070865, 1.2271276309961805, 0.7315697446624204, 0.2958861311751271, 1.3886130552673026, 1.5184247082149986, 0.47656624838754, 0.7524179028159238, 0.8035078405056882, 1.7981800236631582, 0.62840555424351, 0.8776581122461214]}, {\"name\": \"317532327\", \"type\": \"box\", \"y\": [0.7989537732147219, 1.3680479122931695, 1.4955483628319524, 1.7559199067204954, 0.9471930580344562, 1.0708276736879108, 1.334493970571777, 0.9555444403144653, 1.0672171299935334, 1.3118926065177288, 1.4908809970856762, 0.8186679254272745, 1.4048315065399712, 1.445372089509722, 1.3922653391520725, 1.1389799532433755, 2.5419148839390955, 1.5088813366869185, 1.0805980217388877, 1.3386983818854035, 1.3071194014284624, 1.3423049289280458, 1.181691975201129, 1.3191293085165527, 1.5196960948239222, 1.0085312215662896, 0.9516338704969632, 0.7060626216514541, 1.8009279038573356, 1.6377593740037797, 0.5744291261901827, 1.6251187492577464, 1.210524487307765, 1.3022464401776168, 1.0003208982512757, 1.3380206736996925]}, {\"name\": \"346061612\", \"type\": \"box\", \"y\": [1.235034600413779, 0.7720566187882243, 2.3787627805489047, 1.5300632146788495, 1.5282590392701842, 1.4732541853177392, 2.026225056767601, 1.8098135356612737, 1.4878547704347376, 2.174272498106576, 1.705089994310043, 0.9444488100552392, 2.133381691225375, 1.8302401238049646, 2.287816972548118, 0.6556352937993479, 1.6788571211588657, 1.749396051230967, 2.2773890213662074, 2.2366952751752223, 2.0515638224079824, 2.031909613517213, 2.338286634512785, 2.373382770417859, 3.4966424849026416, 1.8713837362580468, 2.4665729587408065, 0.6633279091931545, 3.98191977757974, 2.03233996327618, 1.2100683485470063, 0.8292260206260212, 1.6338942156721963, 1.5001243334435141, 1.7212574925750328, 1.132624128091262]}, {\"name\": \"40333612\", \"type\": \"box\", \"y\": [0.9613761236800308, 0.6640376401246304, 1.926223955588102, 1.1816543242510436, 1.4289686284038454, 1.568604096253573, 1.8866844564836838, 1.7034269820005257, 1.4402132410832214, 1.8031722031453532, 1.1670575968858166, 0.8460221221455934, 1.327645914275607, 1.139049863278335, 1.766594469798687, 0.8603027721353884, 1.2058973847530494, 1.2537187520087707, 1.2997021933438062, 1.7167849931799215, 1.5954653787505884, 1.6621179098882626, 1.7216587584514988, 1.8219744792193584, 2.6121266574111752, 1.3996772491883962, 2.0310932079291737, 0.6809330127851796, 2.841194380979053, 0.9895527193200213, 0.9668569362053532, 0.7223172239713552, 1.1535307152075471, 1.3913263495971162, 1.416506638871389, 1.0887268746242886]}, {\"name\": \"511723709\", \"type\": \"box\", \"y\": [1.1177914493446977, 0.7602617870013769, 2.148463873840455, 1.307702137952857, 1.4989111861052993, 1.6376101762873085, 2.0228178156389576, 1.8208604986839845, 1.5504503262538682, 2.0046654113517293, 1.368474996218168, 1.0347250918025324, 1.55544906576352, 1.4107398227148948, 2.0334245480545734, 0.8147730957693632, 1.445672430481279, 1.5370087508574894, 1.4836275439626454, 1.975749085298254, 1.8418820720231028, 1.8523888578656516, 1.951506775897981, 2.018881593200744, 3.1681133096875187, 1.5303663819429139, 2.1986929759489224, 0.6900535596625897, 3.2703798976246183, 1.3030538893393722, 0.8139617060215286, 0.9377627756403378, 1.3899273679620274, 1.6720382914063734, 1.6489259612743035, 1.3043142568163595]}, {\"name\": \"1004972352\", \"type\": \"box\", \"y\": [1.2652839333610175, 0.47958371230224234, 1.7068903516981366, 0.948054801334025, 1.3920832338788987, 0.9253856840239961, 1.457323739253736, 1.4738021811157491, 1.7774066286498404, 2.1212661525793486, 1.6024291478926032, 0.45828495724209484, 1.0580038029379235, 1.4544708844569427, 1.3823227926259924, 1.2514550861651224, 2.1288695873216463, 1.247703282019813, 1.2509268767783401, 0.8800043888774017, 1.0103853681015704, 1.5356450476897918, 1.9498565498636355, 1.7861142439915645, 2.0268895285392436, 0.7117044354744798, 1.1168725510517323, 0.42419398358746907, 1.6413498104847235, 1.7865571530817856, 0.6851396012086577, 1.0314648650752445, 0.9367048814045107, 1.8886109126215782, 0.5565740503761349, 0.9015058960949583]}, {\"name\": \"143824576\", \"type\": \"box\", \"y\": [0.9274581407751467, 0.5771154496716209, 1.6569885906895911, 1.054441241255158, 1.178231800523718, 1.33219253860764, 1.5927871067484343, 1.336870339282234, 1.0131944535334063, 1.4542419331724503, 1.285676484786237, 0.763820613300528, 1.6288226868514075, 0.9804117252502482, 1.8691803079399225, 0.6687696754136169, 0.8164335698977483, 0.8126541521894622, 1.4543300229039304, 1.3535505152367726, 1.2430960492675116, 1.1809764171202466, 1.3675253584216212, 1.3658646977593298, 2.3860954971946673, 1.1621226571848458, 1.6206447550690406, 0.41240182267853714, 2.5357216606686537, 0.930551693667368, 0.4980340595517525, 0.718498575262972, 1.2514101860795777, 0.7579861596817213, 1.0257021520967213, 0.7383135499559463]}, {\"name\": \"368424646\", \"type\": \"box\", \"y\": [3.463206922506258, 1.81806950619346, 2.3924189180902222, 1.309586879682394, 2.1054320564025844, 1.9025114100749587, 1.0396823673706408, 3.384811046370331, 2.209331900568271, 2.449942817585941, 0.7936089264238805, 0.7412748526189912, 0.5406060110250708, 0.5047955270520862, 3.8913712579467665, 2.116366698480332, 2.138572766709243, 1.0594796552155075, 0.8549011647832737, 1.0388790023397492, 0.6367995180345803, 3.607839449770738, 2.240708114601911, 2.54020645352217, 0.3147343153932389, 1.0521365490970296, 0.8402060087448024, 1.3030103068328422, 2.5616437933720775, 1.5094988290017457, 1.8199020825072727, 0.8524844553513358, 0.48519875773555265, 1.0679086471447905, 1.0342086521421412, 3.727453884556224]}, {\"name\": \"1428227531\", \"type\": \"box\", \"y\": [0.9664632568964847, 0.7991963705004373, 1.3594558961869687, 1.0856234525135595, 0.767415699961157, 1.3580234880563096, 1.0369804780306635, 0.9989623256414005, 0.907947126173199, 1.5294870312751627, 1.6362676800242346, 1.516711381974617, 1.4259053308735747, 1.50583424005803, 1.7445532997938284, 1.1003860769254246, 1.7662632887262824, 1.0708416759819628, 1.0577749967261032, 1.111246698705102, 0.9041218637858396, 1.15516606908749, 1.2850375443654547, 1.377883050831484, 1.6050996068099792, 1.4368589403090883, 0.6298077756022776, 0.382766705974171, 1.7321311447733372, 1.9055707236251622, 0.6338860002777164, 0.9125946797935144, 1.0061543740884704, 1.8081124053220434, 0.757588876022301, 1.1821234343218396]}, {\"name\": \"2040495184\", \"type\": \"box\", \"y\": [1.2973397735988157, 0.6179941223041879, 1.723571858716, 1.0597379596477372, 0.8569477107328175, 1.0028944420535717, 1.0472753490477278, 0.8308365494615807, 0.8752701926677914, 1.6531602054004197, 1.6600831099032283, 0.8072757113379437, 1.4312137056818328, 1.6952536708967414, 1.786121108510198, 1.4096674523889483, 1.6868237032781133, 0.7818384093762003, 1.2727700180498347, 1.097204910956149, 1.1293287642028937, 1.2158964839937885, 1.5499740204877297, 1.4356371193988742, 1.6614144351715432, 0.6419667148668335, 0.9091254101207971, 0.4410362311846715, 1.6137743571900838, 1.6449608951369952, 0.4991799332003066, 0.89156944628048, 0.6598557232183645, 1.9307027904741332, 0.7187231504728974, 1.0872807682369459]}, {\"name\": \"1893337300\", \"type\": \"box\", \"y\": [1.4852799960773535, 0.6497234909323277, 1.2467764527298555, 0.5536390700934785, 0.644994187043425, 0.7197690206239817, 1.2424704024678346, 1.6540787480610228, 1.9717980484955853, 2.146126861173751, 1.657316713125392, 0.6749223765300512, 0.8253681143406465, 1.3931371698624841, 1.0579334889251975, 0.7732353576136276, 1.5823858306606113, 0.8906513164013862, 1.4048086913215445, 1.046252002871993, 0.8561267309530022, 1.4273927979563914, 1.1812703978258383, 1.7629319587347758, 1.8147156147486398, 1.162559779974498, 0.8307495593762775, 0.8672953873235217, 1.3761307584421452, 1.6202974542025363, 0.41284984591640417, 1.1359193659137756, 1.3114455435251355, 1.4798254814094776, 1.0728481115777442, 1.0320548555272997]}, {\"name\": \"2117861717\", \"type\": \"box\", \"y\": [0.8062496704174764, 0.5811524061236836, 1.6570223957685026, 1.0684554224571703, 1.2729362473567711, 1.4597318784200863, 1.8298951944393818, 1.596591989307365, 1.1973110123880752, 1.5919050111045085, 0.7773933640955718, 0.7324063662440367, 0.9990059647996484, 0.7403609547406736, 1.470423279976838, 0.8088549367121542, 1.0580593633712048, 0.8097072556557533, 1.3103678480191607, 1.4075541821930424, 1.3658470536753704, 1.493867620108853, 1.4369226780054465, 1.4864858433990187, 2.3649183349082263, 1.2973532571140596, 1.8476395420529759, 0.6293917810213401, 2.6869196644448006, 0.7534255329988077, 0.8073350374710007, 0.6522870420603878, 1.0772726928764622, 1.0983882240059704, 1.142645927618837, 0.7015559452607542]}, {\"name\": \"1941427679\", \"type\": \"box\", \"y\": [1.1533226277305968, 0.5563467474776927, 2.3078342594921017, 1.5865179183085139, 1.5494121707357629, 1.4588218075693133, 1.9668972816621313, 1.7999055923384562, 1.2868244305298102, 2.1310343899484647, 1.6917105663683227, 0.9539063374163768, 1.8810693979340545, 1.730015470031035, 2.378111453367874, 0.5955973894559264, 1.4685615149118452, 1.8498190497131564, 1.7544884565547811, 2.0096257478591557, 1.9814274979813316, 1.8620411208869265, 2.1101909345649474, 2.2306748922572908, 3.3906827435246405, 1.7985635447637711, 2.2122621148563146, 0.7404176198585902, 3.6232447896457005, 2.1320270258270555, 0.784435497827465, 0.6606256047502501, 1.430710935754279, 1.640131810666891, 1.8606399595502476, 1.3437798035478046]}, {\"name\": \"1708098535\", \"type\": \"box\", \"y\": [0.885555029577653, 0.7324657321934369, 1.8279764888567709, 1.3759080263942811, 1.2034251123901558, 1.303552051636236, 1.7129904215582366, 1.5058232890710108, 0.9759776074984016, 1.4673718044138504, 1.0773571516406588, 0.6776034549984896, 1.2749342837989415, 0.9870091812307981, 1.5557953753718625, 0.7988696334094431, 1.0226521038222847, 0.7860058531868582, 1.8272337331593203, 1.4771116978660601, 1.4144552914156212, 1.301977199539518, 1.4481269868076705, 1.4812702931226798, 2.3155482267426266, 1.2982186452489202, 1.9759893745828268, 0.4793947357984956, 2.877361855667717, 1.1633681310988038, 0.7796669285225647, 0.44598407095930215, 1.379231612923229, 1.0989476011786157, 1.2695566838328702, 0.607179491801719]}, {\"name\": \"456209269\", \"type\": \"box\", \"y\": [0.9144215923207557, 0.537277883709671, 1.7702475660331292, 1.1452277960440684, 1.2772328047073571, 1.3666507041498712, 1.6077097746001583, 1.4403822176477992, 1.0534230687085766, 1.6409665037245043, 1.1121767817109258, 0.6865477949913842, 1.259072042425728, 1.1248163616695581, 1.6658092872939447, 0.7173762546476479, 1.0946079787036498, 1.1679016426039104, 1.3180424946000981, 1.6006495626601007, 1.4062209734935507, 1.2999550683932881, 1.555041104907753, 1.5421658364001443, 2.7050113072774775, 1.1878726673073314, 1.8629521451612523, 0.6151975126746999, 2.7886549733077812, 1.0717628528366931, 0.8420879257397201, 0.7541205320251481, 1.2409325518746808, 1.239134170867964, 1.38807270449553, 0.9940147282239401]}],                        {\"showlegend\": false, \"template\": {\"data\": {\"bar\": [{\"error_x\": {\"color\": \"#2a3f5f\"}, \"error_y\": {\"color\": \"#2a3f5f\"}, \"marker\": {\"line\": {\"color\": \"#E5ECF6\", \"width\": 0.5}}, \"type\": \"bar\"}], \"barpolar\": [{\"marker\": {\"line\": {\"color\": \"#E5ECF6\", \"width\": 0.5}}, \"type\": \"barpolar\"}], \"carpet\": [{\"aaxis\": {\"endlinecolor\": \"#2a3f5f\", \"gridcolor\": \"white\", \"linecolor\": \"white\", \"minorgridcolor\": \"white\", \"startlinecolor\": \"#2a3f5f\"}, \"baxis\": {\"endlinecolor\": \"#2a3f5f\", \"gridcolor\": \"white\", \"linecolor\": \"white\", \"minorgridcolor\": \"white\", \"startlinecolor\": \"#2a3f5f\"}, \"type\": \"carpet\"}], \"choropleth\": [{\"colorbar\": {\"outlinewidth\": 0, \"ticks\": \"\"}, \"type\": \"choropleth\"}], \"contour\": [{\"colorbar\": {\"outlinewidth\": 0, \"ticks\": \"\"}, \"colorscale\": [[0.0, \"#0d0887\"], [0.1111111111111111, \"#46039f\"], [0.2222222222222222, \"#7201a8\"], [0.3333333333333333, \"#9c179e\"], [0.4444444444444444, \"#bd3786\"], [0.5555555555555556, \"#d8576b\"], [0.6666666666666666, \"#ed7953\"], [0.7777777777777778, \"#fb9f3a\"], [0.8888888888888888, \"#fdca26\"], [1.0, \"#f0f921\"]], \"type\": \"contour\"}], \"contourcarpet\": [{\"colorbar\": {\"outlinewidth\": 0, \"ticks\": \"\"}, \"type\": \"contourcarpet\"}], \"heatmap\": [{\"colorbar\": {\"outlinewidth\": 0, \"ticks\": \"\"}, \"colorscale\": [[0.0, \"#0d0887\"], [0.1111111111111111, \"#46039f\"], [0.2222222222222222, \"#7201a8\"], [0.3333333333333333, \"#9c179e\"], [0.4444444444444444, \"#bd3786\"], [0.5555555555555556, \"#d8576b\"], [0.6666666666666666, \"#ed7953\"], [0.7777777777777778, \"#fb9f3a\"], [0.8888888888888888, \"#fdca26\"], [1.0, \"#f0f921\"]], \"type\": \"heatmap\"}], \"heatmapgl\": [{\"colorbar\": {\"outlinewidth\": 0, \"ticks\": \"\"}, \"colorscale\": [[0.0, \"#0d0887\"], [0.1111111111111111, \"#46039f\"], [0.2222222222222222, \"#7201a8\"], [0.3333333333333333, \"#9c179e\"], [0.4444444444444444, \"#bd3786\"], [0.5555555555555556, \"#d8576b\"], [0.6666666666666666, \"#ed7953\"], [0.7777777777777778, \"#fb9f3a\"], [0.8888888888888888, \"#fdca26\"], [1.0, \"#f0f921\"]], \"type\": \"heatmapgl\"}], \"histogram\": [{\"marker\": {\"colorbar\": {\"outlinewidth\": 0, \"ticks\": \"\"}}, \"type\": \"histogram\"}], \"histogram2d\": [{\"colorbar\": {\"outlinewidth\": 0, \"ticks\": \"\"}, \"colorscale\": [[0.0, \"#0d0887\"], [0.1111111111111111, \"#46039f\"], [0.2222222222222222, \"#7201a8\"], [0.3333333333333333, \"#9c179e\"], [0.4444444444444444, \"#bd3786\"], [0.5555555555555556, \"#d8576b\"], [0.6666666666666666, \"#ed7953\"], [0.7777777777777778, \"#fb9f3a\"], [0.8888888888888888, \"#fdca26\"], [1.0, \"#f0f921\"]], \"type\": \"histogram2d\"}], \"histogram2dcontour\": [{\"colorbar\": {\"outlinewidth\": 0, \"ticks\": \"\"}, \"colorscale\": [[0.0, \"#0d0887\"], [0.1111111111111111, \"#46039f\"], [0.2222222222222222, \"#7201a8\"], [0.3333333333333333, \"#9c179e\"], [0.4444444444444444, \"#bd3786\"], [0.5555555555555556, \"#d8576b\"], [0.6666666666666666, \"#ed7953\"], [0.7777777777777778, \"#fb9f3a\"], [0.8888888888888888, \"#fdca26\"], [1.0, \"#f0f921\"]], \"type\": \"histogram2dcontour\"}], \"mesh3d\": [{\"colorbar\": {\"outlinewidth\": 0, \"ticks\": \"\"}, \"type\": \"mesh3d\"}], \"parcoords\": [{\"line\": {\"colorbar\": {\"outlinewidth\": 0, \"ticks\": \"\"}}, \"type\": \"parcoords\"}], \"pie\": [{\"automargin\": true, \"type\": \"pie\"}], \"scatter\": [{\"marker\": {\"colorbar\": {\"outlinewidth\": 0, \"ticks\": \"\"}}, \"type\": \"scatter\"}], \"scatter3d\": [{\"line\": {\"colorbar\": {\"outlinewidth\": 0, \"ticks\": \"\"}}, \"marker\": {\"colorbar\": {\"outlinewidth\": 0, \"ticks\": \"\"}}, \"type\": \"scatter3d\"}], \"scattercarpet\": [{\"marker\": {\"colorbar\": {\"outlinewidth\": 0, \"ticks\": \"\"}}, \"type\": \"scattercarpet\"}], \"scattergeo\": [{\"marker\": {\"colorbar\": {\"outlinewidth\": 0, \"ticks\": \"\"}}, \"type\": \"scattergeo\"}], \"scattergl\": [{\"marker\": {\"colorbar\": {\"outlinewidth\": 0, \"ticks\": \"\"}}, \"type\": \"scattergl\"}], \"scattermapbox\": [{\"marker\": {\"colorbar\": {\"outlinewidth\": 0, \"ticks\": \"\"}}, \"type\": \"scattermapbox\"}], \"scatterpolar\": [{\"marker\": {\"colorbar\": {\"outlinewidth\": 0, \"ticks\": \"\"}}, \"type\": \"scatterpolar\"}], \"scatterpolargl\": [{\"marker\": {\"colorbar\": {\"outlinewidth\": 0, \"ticks\": \"\"}}, \"type\": \"scatterpolargl\"}], \"scatterternary\": [{\"marker\": {\"colorbar\": {\"outlinewidth\": 0, \"ticks\": \"\"}}, \"type\": \"scatterternary\"}], \"surface\": [{\"colorbar\": {\"outlinewidth\": 0, \"ticks\": \"\"}, \"colorscale\": [[0.0, \"#0d0887\"], [0.1111111111111111, \"#46039f\"], [0.2222222222222222, \"#7201a8\"], [0.3333333333333333, \"#9c179e\"], [0.4444444444444444, \"#bd3786\"], [0.5555555555555556, \"#d8576b\"], [0.6666666666666666, \"#ed7953\"], [0.7777777777777778, \"#fb9f3a\"], [0.8888888888888888, \"#fdca26\"], [1.0, \"#f0f921\"]], \"type\": \"surface\"}], \"table\": [{\"cells\": {\"fill\": {\"color\": \"#EBF0F8\"}, \"line\": {\"color\": \"white\"}}, \"header\": {\"fill\": {\"color\": \"#C8D4E3\"}, \"line\": {\"color\": \"white\"}}, \"type\": \"table\"}]}, \"layout\": {\"annotationdefaults\": {\"arrowcolor\": \"#2a3f5f\", \"arrowhead\": 0, \"arrowwidth\": 1}, \"autotypenumbers\": \"strict\", \"coloraxis\": {\"colorbar\": {\"outlinewidth\": 0, \"ticks\": \"\"}}, \"colorscale\": {\"diverging\": [[0, \"#8e0152\"], [0.1, \"#c51b7d\"], [0.2, \"#de77ae\"], [0.3, \"#f1b6da\"], [0.4, \"#fde0ef\"], [0.5, \"#f7f7f7\"], [0.6, \"#e6f5d0\"], [0.7, \"#b8e186\"], [0.8, \"#7fbc41\"], [0.9, \"#4d9221\"], [1, \"#276419\"]], \"sequential\": [[0.0, \"#0d0887\"], [0.1111111111111111, \"#46039f\"], [0.2222222222222222, \"#7201a8\"], [0.3333333333333333, \"#9c179e\"], [0.4444444444444444, \"#bd3786\"], [0.5555555555555556, \"#d8576b\"], [0.6666666666666666, \"#ed7953\"], [0.7777777777777778, \"#fb9f3a\"], [0.8888888888888888, \"#fdca26\"], [1.0, \"#f0f921\"]], \"sequentialminus\": [[0.0, \"#0d0887\"], [0.1111111111111111, \"#46039f\"], [0.2222222222222222, \"#7201a8\"], [0.3333333333333333, \"#9c179e\"], [0.4444444444444444, \"#bd3786\"], [0.5555555555555556, \"#d8576b\"], [0.6666666666666666, \"#ed7953\"], [0.7777777777777778, \"#fb9f3a\"], [0.8888888888888888, \"#fdca26\"], [1.0, \"#f0f921\"]]}, \"colorway\": [\"#636efa\", \"#EF553B\", \"#00cc96\", \"#ab63fa\", \"#FFA15A\", \"#19d3f3\", \"#FF6692\", \"#B6E880\", \"#FF97FF\", \"#FECB52\"], \"font\": {\"color\": \"#2a3f5f\"}, \"geo\": {\"bgcolor\": \"white\", \"lakecolor\": \"white\", \"landcolor\": \"#E5ECF6\", \"showlakes\": true, \"showland\": true, \"subunitcolor\": \"white\"}, \"hoverlabel\": {\"align\": \"left\"}, \"hovermode\": \"closest\", \"mapbox\": {\"style\": \"light\"}, \"paper_bgcolor\": \"white\", \"plot_bgcolor\": \"#E5ECF6\", \"polar\": {\"angularaxis\": {\"gridcolor\": \"white\", \"linecolor\": \"white\", \"ticks\": \"\"}, \"bgcolor\": \"#E5ECF6\", \"radialaxis\": {\"gridcolor\": \"white\", \"linecolor\": \"white\", \"ticks\": \"\"}}, \"scene\": {\"xaxis\": {\"backgroundcolor\": \"#E5ECF6\", \"gridcolor\": \"white\", \"gridwidth\": 2, \"linecolor\": \"white\", \"showbackground\": true, \"ticks\": \"\", \"zerolinecolor\": \"white\"}, \"yaxis\": {\"backgroundcolor\": \"#E5ECF6\", \"gridcolor\": \"white\", \"gridwidth\": 2, \"linecolor\": \"white\", \"showbackground\": true, \"ticks\": \"\", \"zerolinecolor\": \"white\"}, \"zaxis\": {\"backgroundcolor\": \"#E5ECF6\", \"gridcolor\": \"white\", \"gridwidth\": 2, \"linecolor\": \"white\", \"showbackground\": true, \"ticks\": \"\", \"zerolinecolor\": \"white\"}}, \"shapedefaults\": {\"line\": {\"color\": \"#2a3f5f\"}}, \"ternary\": {\"aaxis\": {\"gridcolor\": \"white\", \"linecolor\": \"white\", \"ticks\": \"\"}, \"baxis\": {\"gridcolor\": \"white\", \"linecolor\": \"white\", \"ticks\": \"\"}, \"bgcolor\": \"#E5ECF6\", \"caxis\": {\"gridcolor\": \"white\", \"linecolor\": \"white\", \"ticks\": \"\"}}, \"title\": {\"x\": 0.05}, \"xaxis\": {\"automargin\": true, \"gridcolor\": \"white\", \"linecolor\": \"white\", \"ticks\": \"\", \"title\": {\"standoff\": 15}, \"zerolinecolor\": \"white\", \"zerolinewidth\": 2}, \"yaxis\": {\"automargin\": true, \"gridcolor\": \"white\", \"linecolor\": \"white\", \"ticks\": \"\", \"title\": {\"standoff\": 15}, \"zerolinecolor\": \"white\", \"zerolinewidth\": 2}}}, \"title\": {\"text\": \"Dilated Convolutions (Rate - 3)\"}, \"xaxis\": {\"title\": {\"text\": \"Time series\"}}, \"yaxis\": {\"title\": {\"text\": \"MASE distribution\"}}},                        {\"responsive\": true}                    ).then(function(){\n",
       "                            \n",
       "var gd = document.getElementById('9524375d-751d-4496-b3f0-820ab3f4997a');\n",
       "var x = new MutationObserver(function (mutations, observer) {{\n",
       "        var display = window.getComputedStyle(gd).display;\n",
       "        if (!display || display === 'none') {{\n",
       "            console.log([gd, 'removed!']);\n",
       "            Plotly.purge(gd);\n",
       "            observer.disconnect();\n",
       "        }}\n",
       "}});\n",
       "\n",
       "// Listen for the removal of the full notebook cells\n",
       "var notebookContainer = gd.closest('#notebook-container');\n",
       "if (notebookContainer) {{\n",
       "    x.observe(notebookContainer, {childList: true});\n",
       "}}\n",
       "\n",
       "// Listen for the clearing of the current output cell\n",
       "var outputEl = gd.closest('.output');\n",
       "if (outputEl) {{\n",
       "    x.observe(outputEl, {childList: true});\n",
       "}}\n",
       "\n",
       "                        })                };                });            </script>        </div>"
      ]
     },
     "metadata": {},
     "output_type": "display_data"
    }
   ],
   "source": [
    "fig = go.Figure()\n",
    "for col in tcn_d3_dist_ts.keys():\n",
    "    box_data = tcn_d3_dist_ts[col]\n",
    "    fig.add_trace(go.Box(y=box_data, name = col))\n",
    "fig.update_xaxes(title = 'Time series')\n",
    "fig.update_yaxes(title = 'MASE distribution')\n",
    "fig.update_layout(title = \"Dilated Convolutions (Rate - 3)\", showlegend= False)"
   ]
  },
  {
   "cell_type": "markdown",
   "metadata": {},
   "source": [
    "## Errors at each level"
   ]
  },
  {
   "cell_type": "code",
   "execution_count": 6,
   "metadata": {},
   "outputs": [],
   "source": [
    "def get_fc_each_level(start, end, mase_dict):\n",
    "    if end == -1:\n",
    "        ts_names = const.TS[start: ]\n",
    "    else:\n",
    "        ts_names = const.TS[start: end]\n",
    "    mase_vals= []\n",
    "    for ts in ts_names: \n",
    "        mase_vals.append(mase_dict[ts])\n",
    "    avg_mase = np.mean(mase_vals)\n",
    "    return avg_mase"
   ]
  },
  {
   "cell_type": "code",
   "execution_count": 7,
   "metadata": {},
   "outputs": [],
   "source": [
    "def get_fc_error_level_model(model_mase_dic):\n",
    "    level_mase = []\n",
    "    grid = get_fc_each_level(0, 1, model_mase_dic)\n",
    "    tl_line = get_fc_each_level(1, 3, model_mase_dic)\n",
    "    sub = get_fc_each_level(3, 7, model_mase_dic)\n",
    "    pc = get_fc_each_level(7, 13, model_mase_dic)\n",
    "    site = get_fc_each_level(13, -1, model_mase_dic)\n",
    "    level_mase.append(grid)\n",
    "    level_mase.append(tl_line)\n",
    "    level_mase.append(sub)\n",
    "    level_mase.append(pc)\n",
    "    level_mase.append(site)\n",
    "    return level_mase"
   ]
  },
  {
   "cell_type": "code",
   "execution_count": 8,
   "metadata": {},
   "outputs": [
    {
     "ename": "NameError",
     "evalue": "name 'lstm_dist_ts' is not defined",
     "output_type": "error",
     "traceback": [
      "\u001b[0;31m---------------------------------------------------------------------------\u001b[0m",
      "\u001b[0;31mNameError\u001b[0m                                 Traceback (most recent call last)",
      "\u001b[0;32m<ipython-input-8-168e70176c58>\u001b[0m in \u001b[0;36m<module>\u001b[0;34m\u001b[0m\n\u001b[0;32m----> 1\u001b[0;31m \u001b[0mlevel_results_lstm\u001b[0m \u001b[0;34m=\u001b[0m \u001b[0mget_fc_error_level_model\u001b[0m\u001b[0;34m(\u001b[0m\u001b[0mlstm_dist_ts\u001b[0m\u001b[0;34m)\u001b[0m\u001b[0;34m\u001b[0m\u001b[0;34m\u001b[0m\u001b[0m\n\u001b[0m",
      "\u001b[0;31mNameError\u001b[0m: name 'lstm_dist_ts' is not defined"
     ]
    }
   ],
   "source": [
    "level_results_lstm = get_fc_error_level_model(lstm_dist_ts)"
   ]
  },
  {
   "cell_type": "code",
   "execution_count": 23,
   "metadata": {},
   "outputs": [
    {
     "data": {
      "text/plain": [
       "[1.4682344960050517,\n",
       " 1.2524747891070842,\n",
       " 1.0567580109364902,\n",
       " 0.812090928778454,\n",
       " 0.8593696732847954]"
      ]
     },
     "execution_count": 23,
     "metadata": {},
     "output_type": "execute_result"
    }
   ],
   "source": [
    "level_results_lstm"
   ]
  },
  {
   "cell_type": "code",
   "execution_count": 24,
   "metadata": {},
   "outputs": [],
   "source": [
    "level_results_tcn = get_fc_error_level_model(tcn_dist_ts)"
   ]
  },
  {
   "cell_type": "code",
   "execution_count": 25,
   "metadata": {},
   "outputs": [
    {
     "data": {
      "application/vnd.plotly.v1+json": {
       "config": {
        "plotlyServerURL": "https://plot.ly"
       },
       "data": [
        {
         "name": "LSTM",
         "type": "bar",
         "x": [
          "grid",
          "tl",
          "sub",
          "postcode",
          "site"
         ],
         "y": [
          1.4682344960050517,
          1.2524747891070842,
          1.0567580109364902,
          0.812090928778454,
          0.8593696732847954
         ]
        },
        {
         "name": "Dilated Convolutions (Rate -2)",
         "type": "bar",
         "x": [
          "grid",
          "tl",
          "sub",
          "postcode",
          "site"
         ],
         "y": [
          4.2918113989711175,
          3.64545652085099,
          3.326984456094053,
          1.218637345560835,
          1.3214618975927295
         ]
        }
       ],
       "layout": {
        "barmode": "group",
        "template": {
         "data": {
          "bar": [
           {
            "error_x": {
             "color": "#2a3f5f"
            },
            "error_y": {
             "color": "#2a3f5f"
            },
            "marker": {
             "line": {
              "color": "#E5ECF6",
              "width": 0.5
             }
            },
            "type": "bar"
           }
          ],
          "barpolar": [
           {
            "marker": {
             "line": {
              "color": "#E5ECF6",
              "width": 0.5
             }
            },
            "type": "barpolar"
           }
          ],
          "carpet": [
           {
            "aaxis": {
             "endlinecolor": "#2a3f5f",
             "gridcolor": "white",
             "linecolor": "white",
             "minorgridcolor": "white",
             "startlinecolor": "#2a3f5f"
            },
            "baxis": {
             "endlinecolor": "#2a3f5f",
             "gridcolor": "white",
             "linecolor": "white",
             "minorgridcolor": "white",
             "startlinecolor": "#2a3f5f"
            },
            "type": "carpet"
           }
          ],
          "choropleth": [
           {
            "colorbar": {
             "outlinewidth": 0,
             "ticks": ""
            },
            "type": "choropleth"
           }
          ],
          "contour": [
           {
            "colorbar": {
             "outlinewidth": 0,
             "ticks": ""
            },
            "colorscale": [
             [
              0,
              "#0d0887"
             ],
             [
              0.1111111111111111,
              "#46039f"
             ],
             [
              0.2222222222222222,
              "#7201a8"
             ],
             [
              0.3333333333333333,
              "#9c179e"
             ],
             [
              0.4444444444444444,
              "#bd3786"
             ],
             [
              0.5555555555555556,
              "#d8576b"
             ],
             [
              0.6666666666666666,
              "#ed7953"
             ],
             [
              0.7777777777777778,
              "#fb9f3a"
             ],
             [
              0.8888888888888888,
              "#fdca26"
             ],
             [
              1,
              "#f0f921"
             ]
            ],
            "type": "contour"
           }
          ],
          "contourcarpet": [
           {
            "colorbar": {
             "outlinewidth": 0,
             "ticks": ""
            },
            "type": "contourcarpet"
           }
          ],
          "heatmap": [
           {
            "colorbar": {
             "outlinewidth": 0,
             "ticks": ""
            },
            "colorscale": [
             [
              0,
              "#0d0887"
             ],
             [
              0.1111111111111111,
              "#46039f"
             ],
             [
              0.2222222222222222,
              "#7201a8"
             ],
             [
              0.3333333333333333,
              "#9c179e"
             ],
             [
              0.4444444444444444,
              "#bd3786"
             ],
             [
              0.5555555555555556,
              "#d8576b"
             ],
             [
              0.6666666666666666,
              "#ed7953"
             ],
             [
              0.7777777777777778,
              "#fb9f3a"
             ],
             [
              0.8888888888888888,
              "#fdca26"
             ],
             [
              1,
              "#f0f921"
             ]
            ],
            "type": "heatmap"
           }
          ],
          "heatmapgl": [
           {
            "colorbar": {
             "outlinewidth": 0,
             "ticks": ""
            },
            "colorscale": [
             [
              0,
              "#0d0887"
             ],
             [
              0.1111111111111111,
              "#46039f"
             ],
             [
              0.2222222222222222,
              "#7201a8"
             ],
             [
              0.3333333333333333,
              "#9c179e"
             ],
             [
              0.4444444444444444,
              "#bd3786"
             ],
             [
              0.5555555555555556,
              "#d8576b"
             ],
             [
              0.6666666666666666,
              "#ed7953"
             ],
             [
              0.7777777777777778,
              "#fb9f3a"
             ],
             [
              0.8888888888888888,
              "#fdca26"
             ],
             [
              1,
              "#f0f921"
             ]
            ],
            "type": "heatmapgl"
           }
          ],
          "histogram": [
           {
            "marker": {
             "colorbar": {
              "outlinewidth": 0,
              "ticks": ""
             }
            },
            "type": "histogram"
           }
          ],
          "histogram2d": [
           {
            "colorbar": {
             "outlinewidth": 0,
             "ticks": ""
            },
            "colorscale": [
             [
              0,
              "#0d0887"
             ],
             [
              0.1111111111111111,
              "#46039f"
             ],
             [
              0.2222222222222222,
              "#7201a8"
             ],
             [
              0.3333333333333333,
              "#9c179e"
             ],
             [
              0.4444444444444444,
              "#bd3786"
             ],
             [
              0.5555555555555556,
              "#d8576b"
             ],
             [
              0.6666666666666666,
              "#ed7953"
             ],
             [
              0.7777777777777778,
              "#fb9f3a"
             ],
             [
              0.8888888888888888,
              "#fdca26"
             ],
             [
              1,
              "#f0f921"
             ]
            ],
            "type": "histogram2d"
           }
          ],
          "histogram2dcontour": [
           {
            "colorbar": {
             "outlinewidth": 0,
             "ticks": ""
            },
            "colorscale": [
             [
              0,
              "#0d0887"
             ],
             [
              0.1111111111111111,
              "#46039f"
             ],
             [
              0.2222222222222222,
              "#7201a8"
             ],
             [
              0.3333333333333333,
              "#9c179e"
             ],
             [
              0.4444444444444444,
              "#bd3786"
             ],
             [
              0.5555555555555556,
              "#d8576b"
             ],
             [
              0.6666666666666666,
              "#ed7953"
             ],
             [
              0.7777777777777778,
              "#fb9f3a"
             ],
             [
              0.8888888888888888,
              "#fdca26"
             ],
             [
              1,
              "#f0f921"
             ]
            ],
            "type": "histogram2dcontour"
           }
          ],
          "mesh3d": [
           {
            "colorbar": {
             "outlinewidth": 0,
             "ticks": ""
            },
            "type": "mesh3d"
           }
          ],
          "parcoords": [
           {
            "line": {
             "colorbar": {
              "outlinewidth": 0,
              "ticks": ""
             }
            },
            "type": "parcoords"
           }
          ],
          "pie": [
           {
            "automargin": true,
            "type": "pie"
           }
          ],
          "scatter": [
           {
            "marker": {
             "colorbar": {
              "outlinewidth": 0,
              "ticks": ""
             }
            },
            "type": "scatter"
           }
          ],
          "scatter3d": [
           {
            "line": {
             "colorbar": {
              "outlinewidth": 0,
              "ticks": ""
             }
            },
            "marker": {
             "colorbar": {
              "outlinewidth": 0,
              "ticks": ""
             }
            },
            "type": "scatter3d"
           }
          ],
          "scattercarpet": [
           {
            "marker": {
             "colorbar": {
              "outlinewidth": 0,
              "ticks": ""
             }
            },
            "type": "scattercarpet"
           }
          ],
          "scattergeo": [
           {
            "marker": {
             "colorbar": {
              "outlinewidth": 0,
              "ticks": ""
             }
            },
            "type": "scattergeo"
           }
          ],
          "scattergl": [
           {
            "marker": {
             "colorbar": {
              "outlinewidth": 0,
              "ticks": ""
             }
            },
            "type": "scattergl"
           }
          ],
          "scattermapbox": [
           {
            "marker": {
             "colorbar": {
              "outlinewidth": 0,
              "ticks": ""
             }
            },
            "type": "scattermapbox"
           }
          ],
          "scatterpolar": [
           {
            "marker": {
             "colorbar": {
              "outlinewidth": 0,
              "ticks": ""
             }
            },
            "type": "scatterpolar"
           }
          ],
          "scatterpolargl": [
           {
            "marker": {
             "colorbar": {
              "outlinewidth": 0,
              "ticks": ""
             }
            },
            "type": "scatterpolargl"
           }
          ],
          "scatterternary": [
           {
            "marker": {
             "colorbar": {
              "outlinewidth": 0,
              "ticks": ""
             }
            },
            "type": "scatterternary"
           }
          ],
          "surface": [
           {
            "colorbar": {
             "outlinewidth": 0,
             "ticks": ""
            },
            "colorscale": [
             [
              0,
              "#0d0887"
             ],
             [
              0.1111111111111111,
              "#46039f"
             ],
             [
              0.2222222222222222,
              "#7201a8"
             ],
             [
              0.3333333333333333,
              "#9c179e"
             ],
             [
              0.4444444444444444,
              "#bd3786"
             ],
             [
              0.5555555555555556,
              "#d8576b"
             ],
             [
              0.6666666666666666,
              "#ed7953"
             ],
             [
              0.7777777777777778,
              "#fb9f3a"
             ],
             [
              0.8888888888888888,
              "#fdca26"
             ],
             [
              1,
              "#f0f921"
             ]
            ],
            "type": "surface"
           }
          ],
          "table": [
           {
            "cells": {
             "fill": {
              "color": "#EBF0F8"
             },
             "line": {
              "color": "white"
             }
            },
            "header": {
             "fill": {
              "color": "#C8D4E3"
             },
             "line": {
              "color": "white"
             }
            },
            "type": "table"
           }
          ]
         },
         "layout": {
          "annotationdefaults": {
           "arrowcolor": "#2a3f5f",
           "arrowhead": 0,
           "arrowwidth": 1
          },
          "autotypenumbers": "strict",
          "coloraxis": {
           "colorbar": {
            "outlinewidth": 0,
            "ticks": ""
           }
          },
          "colorscale": {
           "diverging": [
            [
             0,
             "#8e0152"
            ],
            [
             0.1,
             "#c51b7d"
            ],
            [
             0.2,
             "#de77ae"
            ],
            [
             0.3,
             "#f1b6da"
            ],
            [
             0.4,
             "#fde0ef"
            ],
            [
             0.5,
             "#f7f7f7"
            ],
            [
             0.6,
             "#e6f5d0"
            ],
            [
             0.7,
             "#b8e186"
            ],
            [
             0.8,
             "#7fbc41"
            ],
            [
             0.9,
             "#4d9221"
            ],
            [
             1,
             "#276419"
            ]
           ],
           "sequential": [
            [
             0,
             "#0d0887"
            ],
            [
             0.1111111111111111,
             "#46039f"
            ],
            [
             0.2222222222222222,
             "#7201a8"
            ],
            [
             0.3333333333333333,
             "#9c179e"
            ],
            [
             0.4444444444444444,
             "#bd3786"
            ],
            [
             0.5555555555555556,
             "#d8576b"
            ],
            [
             0.6666666666666666,
             "#ed7953"
            ],
            [
             0.7777777777777778,
             "#fb9f3a"
            ],
            [
             0.8888888888888888,
             "#fdca26"
            ],
            [
             1,
             "#f0f921"
            ]
           ],
           "sequentialminus": [
            [
             0,
             "#0d0887"
            ],
            [
             0.1111111111111111,
             "#46039f"
            ],
            [
             0.2222222222222222,
             "#7201a8"
            ],
            [
             0.3333333333333333,
             "#9c179e"
            ],
            [
             0.4444444444444444,
             "#bd3786"
            ],
            [
             0.5555555555555556,
             "#d8576b"
            ],
            [
             0.6666666666666666,
             "#ed7953"
            ],
            [
             0.7777777777777778,
             "#fb9f3a"
            ],
            [
             0.8888888888888888,
             "#fdca26"
            ],
            [
             1,
             "#f0f921"
            ]
           ]
          },
          "colorway": [
           "#636efa",
           "#EF553B",
           "#00cc96",
           "#ab63fa",
           "#FFA15A",
           "#19d3f3",
           "#FF6692",
           "#B6E880",
           "#FF97FF",
           "#FECB52"
          ],
          "font": {
           "color": "#2a3f5f"
          },
          "geo": {
           "bgcolor": "white",
           "lakecolor": "white",
           "landcolor": "#E5ECF6",
           "showlakes": true,
           "showland": true,
           "subunitcolor": "white"
          },
          "hoverlabel": {
           "align": "left"
          },
          "hovermode": "closest",
          "mapbox": {
           "style": "light"
          },
          "paper_bgcolor": "white",
          "plot_bgcolor": "#E5ECF6",
          "polar": {
           "angularaxis": {
            "gridcolor": "white",
            "linecolor": "white",
            "ticks": ""
           },
           "bgcolor": "#E5ECF6",
           "radialaxis": {
            "gridcolor": "white",
            "linecolor": "white",
            "ticks": ""
           }
          },
          "scene": {
           "xaxis": {
            "backgroundcolor": "#E5ECF6",
            "gridcolor": "white",
            "gridwidth": 2,
            "linecolor": "white",
            "showbackground": true,
            "ticks": "",
            "zerolinecolor": "white"
           },
           "yaxis": {
            "backgroundcolor": "#E5ECF6",
            "gridcolor": "white",
            "gridwidth": 2,
            "linecolor": "white",
            "showbackground": true,
            "ticks": "",
            "zerolinecolor": "white"
           },
           "zaxis": {
            "backgroundcolor": "#E5ECF6",
            "gridcolor": "white",
            "gridwidth": 2,
            "linecolor": "white",
            "showbackground": true,
            "ticks": "",
            "zerolinecolor": "white"
           }
          },
          "shapedefaults": {
           "line": {
            "color": "#2a3f5f"
           }
          },
          "ternary": {
           "aaxis": {
            "gridcolor": "white",
            "linecolor": "white",
            "ticks": ""
           },
           "baxis": {
            "gridcolor": "white",
            "linecolor": "white",
            "ticks": ""
           },
           "bgcolor": "#E5ECF6",
           "caxis": {
            "gridcolor": "white",
            "linecolor": "white",
            "ticks": ""
           }
          },
          "title": {
           "x": 0.05
          },
          "xaxis": {
           "automargin": true,
           "gridcolor": "white",
           "linecolor": "white",
           "ticks": "",
           "title": {
            "standoff": 15
           },
           "zerolinecolor": "white",
           "zerolinewidth": 2
          },
          "yaxis": {
           "automargin": true,
           "gridcolor": "white",
           "linecolor": "white",
           "ticks": "",
           "title": {
            "standoff": 15
           },
           "zerolinecolor": "white",
           "zerolinewidth": 2
          }
         }
        },
        "title": {
         "text": "Avergae MASE at each level - 36 samples per timeseries (1 day ahead - 1 hour resolution)"
        }
       }
      },
      "text/html": [
       "<div>                            <div id=\"3dd197ef-cf31-4c69-8b55-711c7eb95262\" class=\"plotly-graph-div\" style=\"height:525px; width:100%;\"></div>            <script type=\"text/javascript\">                require([\"plotly\"], function(Plotly) {                    window.PLOTLYENV=window.PLOTLYENV || {};                                    if (document.getElementById(\"3dd197ef-cf31-4c69-8b55-711c7eb95262\")) {                    Plotly.newPlot(                        \"3dd197ef-cf31-4c69-8b55-711c7eb95262\",                        [{\"name\": \"LSTM\", \"type\": \"bar\", \"x\": [\"grid\", \"tl\", \"sub\", \"postcode\", \"site\"], \"y\": [1.4682344960050517, 1.2524747891070842, 1.0567580109364902, 0.812090928778454, 0.8593696732847954]}, {\"name\": \"Dilated Convolutions (Rate -2)\", \"type\": \"bar\", \"x\": [\"grid\", \"tl\", \"sub\", \"postcode\", \"site\"], \"y\": [4.2918113989711175, 3.64545652085099, 3.326984456094053, 1.218637345560835, 1.3214618975927295]}],                        {\"barmode\": \"group\", \"template\": {\"data\": {\"bar\": [{\"error_x\": {\"color\": \"#2a3f5f\"}, \"error_y\": {\"color\": \"#2a3f5f\"}, \"marker\": {\"line\": {\"color\": \"#E5ECF6\", \"width\": 0.5}}, \"type\": \"bar\"}], \"barpolar\": [{\"marker\": {\"line\": {\"color\": \"#E5ECF6\", \"width\": 0.5}}, \"type\": \"barpolar\"}], \"carpet\": [{\"aaxis\": {\"endlinecolor\": \"#2a3f5f\", \"gridcolor\": \"white\", \"linecolor\": \"white\", \"minorgridcolor\": \"white\", \"startlinecolor\": \"#2a3f5f\"}, \"baxis\": {\"endlinecolor\": \"#2a3f5f\", \"gridcolor\": \"white\", \"linecolor\": \"white\", \"minorgridcolor\": \"white\", \"startlinecolor\": \"#2a3f5f\"}, \"type\": \"carpet\"}], \"choropleth\": [{\"colorbar\": {\"outlinewidth\": 0, \"ticks\": \"\"}, \"type\": \"choropleth\"}], \"contour\": [{\"colorbar\": {\"outlinewidth\": 0, \"ticks\": \"\"}, \"colorscale\": [[0.0, \"#0d0887\"], [0.1111111111111111, \"#46039f\"], [0.2222222222222222, \"#7201a8\"], [0.3333333333333333, \"#9c179e\"], [0.4444444444444444, \"#bd3786\"], [0.5555555555555556, \"#d8576b\"], [0.6666666666666666, \"#ed7953\"], [0.7777777777777778, \"#fb9f3a\"], [0.8888888888888888, \"#fdca26\"], [1.0, \"#f0f921\"]], \"type\": \"contour\"}], \"contourcarpet\": [{\"colorbar\": {\"outlinewidth\": 0, \"ticks\": \"\"}, \"type\": \"contourcarpet\"}], \"heatmap\": [{\"colorbar\": {\"outlinewidth\": 0, \"ticks\": \"\"}, \"colorscale\": [[0.0, \"#0d0887\"], [0.1111111111111111, \"#46039f\"], [0.2222222222222222, \"#7201a8\"], [0.3333333333333333, \"#9c179e\"], [0.4444444444444444, \"#bd3786\"], [0.5555555555555556, \"#d8576b\"], [0.6666666666666666, \"#ed7953\"], [0.7777777777777778, \"#fb9f3a\"], [0.8888888888888888, \"#fdca26\"], [1.0, \"#f0f921\"]], \"type\": \"heatmap\"}], \"heatmapgl\": [{\"colorbar\": {\"outlinewidth\": 0, \"ticks\": \"\"}, \"colorscale\": [[0.0, \"#0d0887\"], [0.1111111111111111, \"#46039f\"], [0.2222222222222222, \"#7201a8\"], [0.3333333333333333, \"#9c179e\"], [0.4444444444444444, \"#bd3786\"], [0.5555555555555556, \"#d8576b\"], [0.6666666666666666, \"#ed7953\"], [0.7777777777777778, \"#fb9f3a\"], [0.8888888888888888, \"#fdca26\"], [1.0, \"#f0f921\"]], \"type\": \"heatmapgl\"}], \"histogram\": [{\"marker\": {\"colorbar\": {\"outlinewidth\": 0, \"ticks\": \"\"}}, \"type\": \"histogram\"}], \"histogram2d\": [{\"colorbar\": {\"outlinewidth\": 0, \"ticks\": \"\"}, \"colorscale\": [[0.0, \"#0d0887\"], [0.1111111111111111, \"#46039f\"], [0.2222222222222222, \"#7201a8\"], [0.3333333333333333, \"#9c179e\"], [0.4444444444444444, \"#bd3786\"], [0.5555555555555556, \"#d8576b\"], [0.6666666666666666, \"#ed7953\"], [0.7777777777777778, \"#fb9f3a\"], [0.8888888888888888, \"#fdca26\"], [1.0, \"#f0f921\"]], \"type\": \"histogram2d\"}], \"histogram2dcontour\": [{\"colorbar\": {\"outlinewidth\": 0, \"ticks\": \"\"}, \"colorscale\": [[0.0, \"#0d0887\"], [0.1111111111111111, \"#46039f\"], [0.2222222222222222, \"#7201a8\"], [0.3333333333333333, \"#9c179e\"], [0.4444444444444444, \"#bd3786\"], [0.5555555555555556, \"#d8576b\"], [0.6666666666666666, \"#ed7953\"], [0.7777777777777778, \"#fb9f3a\"], [0.8888888888888888, \"#fdca26\"], [1.0, \"#f0f921\"]], \"type\": \"histogram2dcontour\"}], \"mesh3d\": [{\"colorbar\": {\"outlinewidth\": 0, \"ticks\": \"\"}, \"type\": \"mesh3d\"}], \"parcoords\": [{\"line\": {\"colorbar\": {\"outlinewidth\": 0, \"ticks\": \"\"}}, \"type\": \"parcoords\"}], \"pie\": [{\"automargin\": true, \"type\": \"pie\"}], \"scatter\": [{\"marker\": {\"colorbar\": {\"outlinewidth\": 0, \"ticks\": \"\"}}, \"type\": \"scatter\"}], \"scatter3d\": [{\"line\": {\"colorbar\": {\"outlinewidth\": 0, \"ticks\": \"\"}}, \"marker\": {\"colorbar\": {\"outlinewidth\": 0, \"ticks\": \"\"}}, \"type\": \"scatter3d\"}], \"scattercarpet\": [{\"marker\": {\"colorbar\": {\"outlinewidth\": 0, \"ticks\": \"\"}}, \"type\": \"scattercarpet\"}], \"scattergeo\": [{\"marker\": {\"colorbar\": {\"outlinewidth\": 0, \"ticks\": \"\"}}, \"type\": \"scattergeo\"}], \"scattergl\": [{\"marker\": {\"colorbar\": {\"outlinewidth\": 0, \"ticks\": \"\"}}, \"type\": \"scattergl\"}], \"scattermapbox\": [{\"marker\": {\"colorbar\": {\"outlinewidth\": 0, \"ticks\": \"\"}}, \"type\": \"scattermapbox\"}], \"scatterpolar\": [{\"marker\": {\"colorbar\": {\"outlinewidth\": 0, \"ticks\": \"\"}}, \"type\": \"scatterpolar\"}], \"scatterpolargl\": [{\"marker\": {\"colorbar\": {\"outlinewidth\": 0, \"ticks\": \"\"}}, \"type\": \"scatterpolargl\"}], \"scatterternary\": [{\"marker\": {\"colorbar\": {\"outlinewidth\": 0, \"ticks\": \"\"}}, \"type\": \"scatterternary\"}], \"surface\": [{\"colorbar\": {\"outlinewidth\": 0, \"ticks\": \"\"}, \"colorscale\": [[0.0, \"#0d0887\"], [0.1111111111111111, \"#46039f\"], [0.2222222222222222, \"#7201a8\"], [0.3333333333333333, \"#9c179e\"], [0.4444444444444444, \"#bd3786\"], [0.5555555555555556, \"#d8576b\"], [0.6666666666666666, \"#ed7953\"], [0.7777777777777778, \"#fb9f3a\"], [0.8888888888888888, \"#fdca26\"], [1.0, \"#f0f921\"]], \"type\": \"surface\"}], \"table\": [{\"cells\": {\"fill\": {\"color\": \"#EBF0F8\"}, \"line\": {\"color\": \"white\"}}, \"header\": {\"fill\": {\"color\": \"#C8D4E3\"}, \"line\": {\"color\": \"white\"}}, \"type\": \"table\"}]}, \"layout\": {\"annotationdefaults\": {\"arrowcolor\": \"#2a3f5f\", \"arrowhead\": 0, \"arrowwidth\": 1}, \"autotypenumbers\": \"strict\", \"coloraxis\": {\"colorbar\": {\"outlinewidth\": 0, \"ticks\": \"\"}}, \"colorscale\": {\"diverging\": [[0, \"#8e0152\"], [0.1, \"#c51b7d\"], [0.2, \"#de77ae\"], [0.3, \"#f1b6da\"], [0.4, \"#fde0ef\"], [0.5, \"#f7f7f7\"], [0.6, \"#e6f5d0\"], [0.7, \"#b8e186\"], [0.8, \"#7fbc41\"], [0.9, \"#4d9221\"], [1, \"#276419\"]], \"sequential\": [[0.0, \"#0d0887\"], [0.1111111111111111, \"#46039f\"], [0.2222222222222222, \"#7201a8\"], [0.3333333333333333, \"#9c179e\"], [0.4444444444444444, \"#bd3786\"], [0.5555555555555556, \"#d8576b\"], [0.6666666666666666, \"#ed7953\"], [0.7777777777777778, \"#fb9f3a\"], [0.8888888888888888, \"#fdca26\"], [1.0, \"#f0f921\"]], \"sequentialminus\": [[0.0, \"#0d0887\"], [0.1111111111111111, \"#46039f\"], [0.2222222222222222, \"#7201a8\"], [0.3333333333333333, \"#9c179e\"], [0.4444444444444444, \"#bd3786\"], [0.5555555555555556, \"#d8576b\"], [0.6666666666666666, \"#ed7953\"], [0.7777777777777778, \"#fb9f3a\"], [0.8888888888888888, \"#fdca26\"], [1.0, \"#f0f921\"]]}, \"colorway\": [\"#636efa\", \"#EF553B\", \"#00cc96\", \"#ab63fa\", \"#FFA15A\", \"#19d3f3\", \"#FF6692\", \"#B6E880\", \"#FF97FF\", \"#FECB52\"], \"font\": {\"color\": \"#2a3f5f\"}, \"geo\": {\"bgcolor\": \"white\", \"lakecolor\": \"white\", \"landcolor\": \"#E5ECF6\", \"showlakes\": true, \"showland\": true, \"subunitcolor\": \"white\"}, \"hoverlabel\": {\"align\": \"left\"}, \"hovermode\": \"closest\", \"mapbox\": {\"style\": \"light\"}, \"paper_bgcolor\": \"white\", \"plot_bgcolor\": \"#E5ECF6\", \"polar\": {\"angularaxis\": {\"gridcolor\": \"white\", \"linecolor\": \"white\", \"ticks\": \"\"}, \"bgcolor\": \"#E5ECF6\", \"radialaxis\": {\"gridcolor\": \"white\", \"linecolor\": \"white\", \"ticks\": \"\"}}, \"scene\": {\"xaxis\": {\"backgroundcolor\": \"#E5ECF6\", \"gridcolor\": \"white\", \"gridwidth\": 2, \"linecolor\": \"white\", \"showbackground\": true, \"ticks\": \"\", \"zerolinecolor\": \"white\"}, \"yaxis\": {\"backgroundcolor\": \"#E5ECF6\", \"gridcolor\": \"white\", \"gridwidth\": 2, \"linecolor\": \"white\", \"showbackground\": true, \"ticks\": \"\", \"zerolinecolor\": \"white\"}, \"zaxis\": {\"backgroundcolor\": \"#E5ECF6\", \"gridcolor\": \"white\", \"gridwidth\": 2, \"linecolor\": \"white\", \"showbackground\": true, \"ticks\": \"\", \"zerolinecolor\": \"white\"}}, \"shapedefaults\": {\"line\": {\"color\": \"#2a3f5f\"}}, \"ternary\": {\"aaxis\": {\"gridcolor\": \"white\", \"linecolor\": \"white\", \"ticks\": \"\"}, \"baxis\": {\"gridcolor\": \"white\", \"linecolor\": \"white\", \"ticks\": \"\"}, \"bgcolor\": \"#E5ECF6\", \"caxis\": {\"gridcolor\": \"white\", \"linecolor\": \"white\", \"ticks\": \"\"}}, \"title\": {\"x\": 0.05}, \"xaxis\": {\"automargin\": true, \"gridcolor\": \"white\", \"linecolor\": \"white\", \"ticks\": \"\", \"title\": {\"standoff\": 15}, \"zerolinecolor\": \"white\", \"zerolinewidth\": 2}, \"yaxis\": {\"automargin\": true, \"gridcolor\": \"white\", \"linecolor\": \"white\", \"ticks\": \"\", \"title\": {\"standoff\": 15}, \"zerolinecolor\": \"white\", \"zerolinewidth\": 2}}}, \"title\": {\"text\": \"Avergae MASE at each level - 36 samples per timeseries (1 day ahead - 1 hour resolution)\"}},                        {\"responsive\": true}                    ).then(function(){\n",
       "                            \n",
       "var gd = document.getElementById('3dd197ef-cf31-4c69-8b55-711c7eb95262');\n",
       "var x = new MutationObserver(function (mutations, observer) {{\n",
       "        var display = window.getComputedStyle(gd).display;\n",
       "        if (!display || display === 'none') {{\n",
       "            console.log([gd, 'removed!']);\n",
       "            Plotly.purge(gd);\n",
       "            observer.disconnect();\n",
       "        }}\n",
       "}});\n",
       "\n",
       "// Listen for the removal of the full notebook cells\n",
       "var notebookContainer = gd.closest('#notebook-container');\n",
       "if (notebookContainer) {{\n",
       "    x.observe(notebookContainer, {childList: true});\n",
       "}}\n",
       "\n",
       "// Listen for the clearing of the current output cell\n",
       "var outputEl = gd.closest('.output');\n",
       "if (outputEl) {{\n",
       "    x.observe(outputEl, {childList: true});\n",
       "}}\n",
       "\n",
       "                        })                };                });            </script>        </div>"
      ]
     },
     "metadata": {},
     "output_type": "display_data"
    }
   ],
   "source": [
    "x_vals = ['grid', 'tl', 'sub', 'postcode', 'site']\n",
    "fig = go.Figure(data=[\n",
    "    go.Bar(name='LSTM', x=x_vals, y=level_results_lstm),\n",
    "    go.Bar(name='Dilated Convolutions (Rate -2)', x=x_vals, y=level_results_tcn)\n",
    "])\n",
    "# Change the bar mode\n",
    "fig.update_layout(barmode='group')\n",
    "fig.update_layout(title='Avergae MASE at each level - 36 samples per timeseries (1 day ahead - 1 hour resolution)')\n",
    "fig.show()"
   ]
  },
  {
   "cell_type": "markdown",
   "metadata": {},
   "source": [
    "## Grid level Forecasts"
   ]
  },
  {
   "cell_type": "code",
   "execution_count": 4,
   "metadata": {},
   "outputs": [],
   "source": [
    "def sum_fc_results(ts_array, model_path):\n",
    "    dfs = []\n",
    "    for ts in ts_array:\n",
    "        ts_fc = pd.read_csv(f'../{model_path}/final_results/{ts}.csv', index_col=[0])[['average_fc']]\n",
    "        dfs.append(ts_fc)\n",
    "    concat_df = pd.concat(dfs, axis=1).sum(axis=1)\n",
    "    return concat_df"
   ]
  },
  {
   "cell_type": "code",
   "execution_count": 5,
   "metadata": {},
   "outputs": [],
   "source": [
    "def calculate_grid_error(start, end, model_path):\n",
    "    if end == -1:\n",
    "        ts_array = const.TS[start: ]\n",
    "    else:\n",
    "        ts_array = const.TS[start: end]\n",
    "    data = pd.read_csv(f'../ts_data/grid.csv', index_col=[0])\n",
    "    look_back = 14 * 7  # 14 hours in to 7 days\n",
    "\n",
    "    # train, val, test split\n",
    "    train, val, test = util.split_hourly_data(data, look_back)\n",
    "    train_df = train[['power']]\n",
    "    denom = err.calculate_denom(train_df, const.H_SEASONALITY)\n",
    "    \n",
    "    results_df = pd.read_csv(f'../{model_path}/final_results/grid.csv', index_col=[0])\n",
    "    test_sample = results_df['power'].values\n",
    "    forecasts = sum_fc_results(ts_array, model_path).values\n",
    "    horizon = 14\n",
    "    \n",
    "    mean_mase, error_dist = err.test_errors(train_df, test_sample, forecasts, horizon, const.H_SEASONALITY, denom)\n",
    "    return mean_mase, error_dist"
   ]
  },
  {
   "cell_type": "code",
   "execution_count": 6,
   "metadata": {},
   "outputs": [],
   "source": [
    "def mase_grid(model_path):\n",
    "    level_mase = []\n",
    "    level_mase_dist = {}\n",
    "    grid_mase, grid_dist = calculate_grid_error(0, 1, model_path)\n",
    "    tl_mase, tl_dist = calculate_grid_error(1, 3, model_path)\n",
    "    sub_mase, sub_dist = calculate_grid_error(3, 7, model_path)\n",
    "    pc_mase, pc_dist = calculate_grid_error(7, 13, model_path)\n",
    "    site_mase, site_dist = calculate_grid_error(13, -1, model_path)\n",
    "    \n",
    "    level_mase.append(grid_mase)\n",
    "    level_mase.append(tl_mase)\n",
    "    level_mase.append(sub_mase)\n",
    "    level_mase.append(pc_mase)\n",
    "    level_mase.append(site_mase)\n",
    "    \n",
    "    \n",
    "    level_mase_dist['grid'] = grid_dist\n",
    "    level_mase_dist['tl'] = tl_dist\n",
    "    level_mase_dist['sub'] = sub_dist\n",
    "    level_mase_dist['pc'] = pc_dist\n",
    "    level_mase_dist['site'] = site_dist\n",
    "    \n",
    "    return level_mase, level_mase_dist"
   ]
  },
  {
   "cell_type": "code",
   "execution_count": 7,
   "metadata": {},
   "outputs": [],
   "source": [
    "grid_error_naive, grid_error_dist_naive = mase_grid('benchmark_results/naive')"
   ]
  },
  {
   "cell_type": "code",
   "execution_count": 8,
   "metadata": {},
   "outputs": [
    {
     "data": {
      "text/plain": [
       "[1.079391787981906,\n",
       " 1.0793917879819062,\n",
       " 1.0793917879819062,\n",
       " 1.0793917879819062,\n",
       " 1.079391787981906]"
      ]
     },
     "execution_count": 8,
     "metadata": {},
     "output_type": "execute_result"
    }
   ],
   "source": [
    "grid_error_naive"
   ]
  },
  {
   "cell_type": "code",
   "execution_count": 9,
   "metadata": {},
   "outputs": [],
   "source": [
    "grid_error_arima, grid_error_dist_arima = mase_grid('benchmark_results/arima')"
   ]
  },
  {
   "cell_type": "code",
   "execution_count": 10,
   "metadata": {},
   "outputs": [
    {
     "data": {
      "text/plain": [
       "[1.0542174171354008,\n",
       " 1.0232683119331432,\n",
       " 1.0241570683528618,\n",
       " 0.9293869144235187,\n",
       " 1.0084912706608262]"
      ]
     },
     "execution_count": 10,
     "metadata": {},
     "output_type": "execute_result"
    }
   ],
   "source": [
    "grid_error_arima"
   ]
  },
  {
   "cell_type": "code",
   "execution_count": 11,
   "metadata": {},
   "outputs": [],
   "source": [
    "grid_error_tbats, grid_error_dist_tbats = mase_grid('benchmark_results/tbats')"
   ]
  },
  {
   "cell_type": "code",
   "execution_count": 12,
   "metadata": {},
   "outputs": [
    {
     "data": {
      "text/plain": [
       "[1.8748277728587743,\n",
       " 1.749112915806915,\n",
       " 1.7063914310919486,\n",
       " 1.5437416506766883,\n",
       " 1.683218533714505]"
      ]
     },
     "execution_count": 12,
     "metadata": {},
     "output_type": "execute_result"
    }
   ],
   "source": [
    "grid_error_tbats"
   ]
  },
  {
   "cell_type": "code",
   "execution_count": 13,
   "metadata": {},
   "outputs": [],
   "source": [
    "grid_error_prophet, grid_error_dist_prophet = mase_grid('benchmark_results/prophet')"
   ]
  },
  {
   "cell_type": "code",
   "execution_count": 14,
   "metadata": {},
   "outputs": [
    {
     "data": {
      "text/plain": [
       "[1.9623944934883193,\n",
       " 1.9665700550555831,\n",
       " 1.966532036884487,\n",
       " 1.0803983146720393,\n",
       " 1.0899355671492141]"
      ]
     },
     "execution_count": 14,
     "metadata": {},
     "output_type": "execute_result"
    }
   ],
   "source": [
    "grid_error_prophet"
   ]
  },
  {
   "cell_type": "code",
   "execution_count": 15,
   "metadata": {},
   "outputs": [],
   "source": [
    "grid_error, grid_error_dist = mase_grid('lstm_results')"
   ]
  },
  {
   "cell_type": "code",
   "execution_count": 16,
   "metadata": {},
   "outputs": [
    {
     "data": {
      "text/plain": [
       "[1.468234482294422,\n",
       " 1.416183866343975,\n",
       " 1.330124385681185,\n",
       " 1.123227003082377,\n",
       " 1.0130934871185597]"
      ]
     },
     "execution_count": 16,
     "metadata": {},
     "output_type": "execute_result"
    }
   ],
   "source": [
    "grid_error"
   ]
  },
  {
   "cell_type": "code",
   "execution_count": 29,
   "metadata": {},
   "outputs": [],
   "source": [
    "grid_error_lstm2, grid_error_dist_lstm2 = mase_grid('dnn_results/lstm')"
   ]
  },
  {
   "cell_type": "code",
   "execution_count": 30,
   "metadata": {},
   "outputs": [
    {
     "data": {
      "text/plain": [
       "[2.2111054795723497,\n",
       " 2.1320336417143246,\n",
       " 2.197662632715515,\n",
       " 3.4974980491548475,\n",
       " 3.4665786991154675]"
      ]
     },
     "execution_count": 30,
     "metadata": {},
     "output_type": "execute_result"
    }
   ],
   "source": [
    "grid_error_lstm2"
   ]
  },
  {
   "cell_type": "code",
   "execution_count": 17,
   "metadata": {},
   "outputs": [],
   "source": [
    "grid_error_tcn, grid_error_dist_tcn = mase_grid('cnn_results/tcn')"
   ]
  },
  {
   "cell_type": "code",
   "execution_count": 18,
   "metadata": {},
   "outputs": [
    {
     "data": {
      "text/plain": [
       "[4.291811358893434,\n",
       " 4.284694639389833,\n",
       " 4.287845852587354,\n",
       " 1.2286401937003335,\n",
       " 1.2526500181919522]"
      ]
     },
     "execution_count": 18,
     "metadata": {},
     "output_type": "execute_result"
    }
   ],
   "source": [
    "grid_error_tcn"
   ]
  },
  {
   "cell_type": "code",
   "execution_count": 19,
   "metadata": {},
   "outputs": [
    {
     "data": {
      "text/plain": [
       "26"
      ]
     },
     "execution_count": 19,
     "metadata": {},
     "output_type": "execute_result"
    }
   ],
   "source": [
    "# create a dataframe\n",
    "grid_results = grid_error\n",
    "grid_results.extend(grid_error_tcn)\n",
    "grid_results.extend(grid_error_arima)\n",
    "grid_results.extend(grid_error_tbats)\n",
    "grid_results.extend(grid_error_prophet)\n",
    "grid_results.extend([grid_error_naive[0]])\n",
    "len(grid_results)"
   ]
  },
  {
   "cell_type": "code",
   "execution_count": 20,
   "metadata": {},
   "outputs": [],
   "source": [
    "column_names = ['LSTM - Grid', 'LSTM - TL aggregated', 'LSTM - SUB aggregated', 'LSTM - PC aggregated', \n",
    "                'LSTM - Site aggregated', 'CNN - Grid', 'CNN - TL aggregated', 'CNN - SUB aggregated', \n",
    "                'CNN - PC aggregated', 'CNN - Site aggregated', 'AutoARIMA - Grid', 'AutoARIMA - TL aggregated', \n",
    "                'AutoARIMA - SUB aggregated', \n",
    "                'AutoARIMA - PC aggregated', 'AutoARIMA - Site aggregated', 'TBATS - Grid', \n",
    "                'TBATS - TL aggregated', 'TBATS - SUB aggregated', \n",
    "                'TBATS - PC aggregated', 'TBATS - Site aggregated','Prophet - Grid', \n",
    "                'Prophet - TL aggregated', 'Prophet - SUB aggregated', \n",
    "                'Prophet - PC aggregated', 'Prophet - Site aggregated','Seasonal Naive']\n",
    "\n",
    "grid_level_fc_accuracy = pd.DataFrame(grid_results, index = column_names, columns = ['Grid Forecasts mean MASE'])"
   ]
  },
  {
   "cell_type": "code",
   "execution_count": 21,
   "metadata": {},
   "outputs": [],
   "source": [
    "def highlight_min(s):\n",
    "    is_min = grid_level_fc_accuracy.isin(grid_level_fc_accuracy.nsmallest(3, 'Grid Forecasts mean MASE')).values[:,0]\n",
    "    return ['background-color: lightgreen' if v else '' for v in is_min]"
   ]
  },
  {
   "cell_type": "code",
   "execution_count": 22,
   "metadata": {},
   "outputs": [
    {
     "data": {
      "text/html": [
       "<style  type=\"text/css\" >\n",
       "#T_b3f5b_row4_col0,#T_b3f5b_row13_col0,#T_b3f5b_row14_col0{\n",
       "            background-color:  lightgreen;\n",
       "        }</style><table id=\"T_b3f5b_\" ><thead>    <tr>        <th class=\"blank level0\" ></th>        <th class=\"col_heading level0 col0\" >Grid Forecasts mean MASE</th>    </tr></thead><tbody>\n",
       "                <tr>\n",
       "                        <th id=\"T_b3f5b_level0_row0\" class=\"row_heading level0 row0\" >LSTM - Grid</th>\n",
       "                        <td id=\"T_b3f5b_row0_col0\" class=\"data row0 col0\" >1.468234</td>\n",
       "            </tr>\n",
       "            <tr>\n",
       "                        <th id=\"T_b3f5b_level0_row1\" class=\"row_heading level0 row1\" >LSTM - TL aggregated</th>\n",
       "                        <td id=\"T_b3f5b_row1_col0\" class=\"data row1 col0\" >1.416184</td>\n",
       "            </tr>\n",
       "            <tr>\n",
       "                        <th id=\"T_b3f5b_level0_row2\" class=\"row_heading level0 row2\" >LSTM - SUB aggregated</th>\n",
       "                        <td id=\"T_b3f5b_row2_col0\" class=\"data row2 col0\" >1.330124</td>\n",
       "            </tr>\n",
       "            <tr>\n",
       "                        <th id=\"T_b3f5b_level0_row3\" class=\"row_heading level0 row3\" >LSTM - PC aggregated</th>\n",
       "                        <td id=\"T_b3f5b_row3_col0\" class=\"data row3 col0\" >1.123227</td>\n",
       "            </tr>\n",
       "            <tr>\n",
       "                        <th id=\"T_b3f5b_level0_row4\" class=\"row_heading level0 row4\" >LSTM - Site aggregated</th>\n",
       "                        <td id=\"T_b3f5b_row4_col0\" class=\"data row4 col0\" >1.013093</td>\n",
       "            </tr>\n",
       "            <tr>\n",
       "                        <th id=\"T_b3f5b_level0_row5\" class=\"row_heading level0 row5\" >CNN - Grid</th>\n",
       "                        <td id=\"T_b3f5b_row5_col0\" class=\"data row5 col0\" >4.291811</td>\n",
       "            </tr>\n",
       "            <tr>\n",
       "                        <th id=\"T_b3f5b_level0_row6\" class=\"row_heading level0 row6\" >CNN - TL aggregated</th>\n",
       "                        <td id=\"T_b3f5b_row6_col0\" class=\"data row6 col0\" >4.284695</td>\n",
       "            </tr>\n",
       "            <tr>\n",
       "                        <th id=\"T_b3f5b_level0_row7\" class=\"row_heading level0 row7\" >CNN - SUB aggregated</th>\n",
       "                        <td id=\"T_b3f5b_row7_col0\" class=\"data row7 col0\" >4.287846</td>\n",
       "            </tr>\n",
       "            <tr>\n",
       "                        <th id=\"T_b3f5b_level0_row8\" class=\"row_heading level0 row8\" >CNN - PC aggregated</th>\n",
       "                        <td id=\"T_b3f5b_row8_col0\" class=\"data row8 col0\" >1.228640</td>\n",
       "            </tr>\n",
       "            <tr>\n",
       "                        <th id=\"T_b3f5b_level0_row9\" class=\"row_heading level0 row9\" >CNN - Site aggregated</th>\n",
       "                        <td id=\"T_b3f5b_row9_col0\" class=\"data row9 col0\" >1.252650</td>\n",
       "            </tr>\n",
       "            <tr>\n",
       "                        <th id=\"T_b3f5b_level0_row10\" class=\"row_heading level0 row10\" >AutoARIMA - Grid</th>\n",
       "                        <td id=\"T_b3f5b_row10_col0\" class=\"data row10 col0\" >1.054217</td>\n",
       "            </tr>\n",
       "            <tr>\n",
       "                        <th id=\"T_b3f5b_level0_row11\" class=\"row_heading level0 row11\" >AutoARIMA - TL aggregated</th>\n",
       "                        <td id=\"T_b3f5b_row11_col0\" class=\"data row11 col0\" >1.023268</td>\n",
       "            </tr>\n",
       "            <tr>\n",
       "                        <th id=\"T_b3f5b_level0_row12\" class=\"row_heading level0 row12\" >AutoARIMA - SUB aggregated</th>\n",
       "                        <td id=\"T_b3f5b_row12_col0\" class=\"data row12 col0\" >1.024157</td>\n",
       "            </tr>\n",
       "            <tr>\n",
       "                        <th id=\"T_b3f5b_level0_row13\" class=\"row_heading level0 row13\" >AutoARIMA - PC aggregated</th>\n",
       "                        <td id=\"T_b3f5b_row13_col0\" class=\"data row13 col0\" >0.929387</td>\n",
       "            </tr>\n",
       "            <tr>\n",
       "                        <th id=\"T_b3f5b_level0_row14\" class=\"row_heading level0 row14\" >AutoARIMA - Site aggregated</th>\n",
       "                        <td id=\"T_b3f5b_row14_col0\" class=\"data row14 col0\" >1.008491</td>\n",
       "            </tr>\n",
       "            <tr>\n",
       "                        <th id=\"T_b3f5b_level0_row15\" class=\"row_heading level0 row15\" >TBATS - Grid</th>\n",
       "                        <td id=\"T_b3f5b_row15_col0\" class=\"data row15 col0\" >1.874828</td>\n",
       "            </tr>\n",
       "            <tr>\n",
       "                        <th id=\"T_b3f5b_level0_row16\" class=\"row_heading level0 row16\" >TBATS - TL aggregated</th>\n",
       "                        <td id=\"T_b3f5b_row16_col0\" class=\"data row16 col0\" >1.749113</td>\n",
       "            </tr>\n",
       "            <tr>\n",
       "                        <th id=\"T_b3f5b_level0_row17\" class=\"row_heading level0 row17\" >TBATS - SUB aggregated</th>\n",
       "                        <td id=\"T_b3f5b_row17_col0\" class=\"data row17 col0\" >1.706391</td>\n",
       "            </tr>\n",
       "            <tr>\n",
       "                        <th id=\"T_b3f5b_level0_row18\" class=\"row_heading level0 row18\" >TBATS - PC aggregated</th>\n",
       "                        <td id=\"T_b3f5b_row18_col0\" class=\"data row18 col0\" >1.543742</td>\n",
       "            </tr>\n",
       "            <tr>\n",
       "                        <th id=\"T_b3f5b_level0_row19\" class=\"row_heading level0 row19\" >TBATS - Site aggregated</th>\n",
       "                        <td id=\"T_b3f5b_row19_col0\" class=\"data row19 col0\" >1.683219</td>\n",
       "            </tr>\n",
       "            <tr>\n",
       "                        <th id=\"T_b3f5b_level0_row20\" class=\"row_heading level0 row20\" >Prophet - Grid</th>\n",
       "                        <td id=\"T_b3f5b_row20_col0\" class=\"data row20 col0\" >1.962394</td>\n",
       "            </tr>\n",
       "            <tr>\n",
       "                        <th id=\"T_b3f5b_level0_row21\" class=\"row_heading level0 row21\" >Prophet - TL aggregated</th>\n",
       "                        <td id=\"T_b3f5b_row21_col0\" class=\"data row21 col0\" >1.966570</td>\n",
       "            </tr>\n",
       "            <tr>\n",
       "                        <th id=\"T_b3f5b_level0_row22\" class=\"row_heading level0 row22\" >Prophet - SUB aggregated</th>\n",
       "                        <td id=\"T_b3f5b_row22_col0\" class=\"data row22 col0\" >1.966532</td>\n",
       "            </tr>\n",
       "            <tr>\n",
       "                        <th id=\"T_b3f5b_level0_row23\" class=\"row_heading level0 row23\" >Prophet - PC aggregated</th>\n",
       "                        <td id=\"T_b3f5b_row23_col0\" class=\"data row23 col0\" >1.080398</td>\n",
       "            </tr>\n",
       "            <tr>\n",
       "                        <th id=\"T_b3f5b_level0_row24\" class=\"row_heading level0 row24\" >Prophet - Site aggregated</th>\n",
       "                        <td id=\"T_b3f5b_row24_col0\" class=\"data row24 col0\" >1.089936</td>\n",
       "            </tr>\n",
       "            <tr>\n",
       "                        <th id=\"T_b3f5b_level0_row25\" class=\"row_heading level0 row25\" >Seasonal Naive</th>\n",
       "                        <td id=\"T_b3f5b_row25_col0\" class=\"data row25 col0\" >1.079392</td>\n",
       "            </tr>\n",
       "    </tbody></table>"
      ],
      "text/plain": [
       "<pandas.io.formats.style.Styler at 0x128061a00>"
      ]
     },
     "execution_count": 22,
     "metadata": {},
     "output_type": "execute_result"
    }
   ],
   "source": [
    "grid_level_fc_accuracy.style.apply(highlight_min)"
   ]
  },
  {
   "cell_type": "code",
   "execution_count": 25,
   "metadata": {},
   "outputs": [],
   "source": [
    "final_result_csv = grid_level_fc_accuracy.round(3)"
   ]
  },
  {
   "cell_type": "code",
   "execution_count": 26,
   "metadata": {},
   "outputs": [],
   "source": [
    "final_result_csv.to_csv('final_results.csv')"
   ]
  },
  {
   "cell_type": "code",
   "execution_count": 27,
   "metadata": {},
   "outputs": [
    {
     "data": {
      "application/vnd.plotly.v1+json": {
       "config": {
        "plotlyServerURL": "https://plot.ly"
       },
       "data": [
        {
         "boxmean": true,
         "name": "LSTM - Grid",
         "type": "box",
         "y": [
          1.2354774395423362,
          1.117142891601437,
          0.7993274246742958,
          2.118379514611731,
          1.3654891161006817,
          1.6989868219458528,
          2.136336236493712,
          1.2464063998995059,
          1.2955410704734338,
          0.7400306434417475,
          0.7036381632138295,
          1.1393532477331108,
          1.926683739288961,
          1.8386192879132264,
          1.770227336406372,
          0.8806028921367005,
          1.4034838467669737,
          0.7868948593165568,
          2.2941460743782587,
          1.6787664154472353,
          1.9676525929828605,
          1.2715129003364714,
          1.3142094873838912,
          0.8946901048430035,
          0.7833009795098324,
          1.1852053935413431,
          1.4496242461690916,
          1.3694847225854314,
          3.5833976613054728,
          2.8223650715695596,
          1.2001564761117602,
          0.6941539527108913,
          1.5868498410255636,
          1.5060191221833255,
          1.8758818283984922,
          1.1764035605562444
         ]
        },
        {
         "boxmean": true,
         "name": "LSTM - TL aggregated",
         "type": "box",
         "y": [
          1.2565060174497165,
          1.003259752296023,
          1.2863189237892638,
          2.2745277358444524,
          1.1527365698097,
          1.718963869129302,
          1.3909306502685048,
          1.127812515628105,
          1.0007819748129587,
          0.555744964230217,
          0.8820445271138541,
          1.519519976709057,
          2.3655747096350397,
          1.7161247618088722,
          1.662569362263201,
          0.6589237736292282,
          1.4270339797048657,
          0.903337934543747,
          1.96811342900828,
          2.1383426450110496,
          1.4914373012167537,
          0.9283073590485752,
          1.1710828531933752,
          0.6011435568379255,
          0.8316492898181294,
          1.6219005293611806,
          1.144393590629725,
          1.3969034150507853,
          3.722774605738128,
          3.2920229653791826,
          1.2303582793213048,
          0.8379174125207524,
          1.281825271407646,
          1.0582987377452036,
          1.5627522189121894,
          0.8006837295168067
         ]
        },
        {
         "boxmean": true,
         "name": "LSTM - SUB aggregated",
         "type": "box",
         "y": [
          1.3914132828410177,
          0.8787285641898317,
          1.2166071479805718,
          2.283771801539802,
          0.5873153658261671,
          1.3814325977464235,
          1.453705104498556,
          1.3114169459776304,
          0.8885321798222752,
          0.577090592745834,
          0.6888111245462561,
          1.0275077873774585,
          2.6148774327178,
          1.0895104135537745,
          1.743979371076874,
          0.6798350360620242,
          1.2461438018094577,
          0.9487645754482197,
          2.0500196225886547,
          2.0298690376929454,
          0.8560991992685263,
          0.9915283287104387,
          1.02827109976725,
          0.6774028899284437,
          0.9732806155210634,
          1.177147311446156,
          0.8536203257890184,
          1.4718119696082668,
          3.815815020808228,
          3.077535796164642,
          1.2730124776556555,
          0.6585522368834437,
          0.8735041981801795,
          1.0611927726200003,
          1.802482186360669,
          1.2038896697690948
         ]
        },
        {
         "boxmean": true,
         "name": "LSTM - PC aggregated",
         "type": "box",
         "y": [
          1.0894238249953776,
          1.3551896846981977,
          0.8070394741900427,
          1.588776901177034,
          0.3816785319609469,
          1.366728322573813,
          1.603846951943192,
          0.8337623685299966,
          1.142932343021481,
          0.5544579812765232,
          0.7759105060865794,
          1.2258017963201289,
          1.3612243215956312,
          1.1449052037473042,
          1.4545886642479005,
          1.028489376787211,
          1.5960905855156367,
          0.7219746016511266,
          0.7891658590650913,
          1.2858377067224638,
          1.040194110924839,
          0.8356440025250256,
          1.2195274863113088,
          0.8773054857271695,
          0.6049531396769853,
          0.8777933708548463,
          1.4988564190452103,
          1.4468416260871868,
          3.2294684458335907,
          1.567007615063325,
          1.191299236183136,
          0.579310759953629,
          0.5716247115280282,
          0.9568416722276819,
          1.2301474640426455,
          0.60153155887528
         ]
        },
        {
         "boxmean": true,
         "name": "LSTM - Site aggregated",
         "type": "box",
         "y": [
          1.0942807244706505,
          1.1121656808704974,
          0.7514490395081358,
          1.2383249227908735,
          0.389738391541274,
          1.283201638126297,
          1.5094405203124475,
          0.8908982778692865,
          0.9507719250197556,
          0.5203378730979481,
          0.5658775176344965,
          1.0365075680635614,
          1.1634778223960995,
          0.9768067294190235,
          1.495981949555343,
          0.7517060041055926,
          1.4814083900667903,
          0.6569541604481436,
          0.7400435341934389,
          1.0502338379640266,
          1.0596142222649196,
          0.9349651046122042,
          0.9063558557419376,
          0.6782018366280195,
          0.5229285448267803,
          0.6046263274117333,
          1.1000519994818918,
          0.8467439801576508,
          3.1087308825001925,
          1.4386938735181671,
          1.5673356665009852,
          0.5494438485068514,
          0.5332019762299115,
          0.893112772303674,
          1.34163809148877,
          0.7261140466407794
         ]
        },
        {
         "boxmean": true,
         "name": "CNN - Grid",
         "type": "box",
         "y": [
          3.405362975353887,
          3.9336042952934416,
          4.943115417869279,
          5.2887419569833005,
          4.712054346059769,
          5.048958155386708,
          5.42292562108355,
          4.3908954769010515,
          4.7578903090664015,
          4.043340230266816,
          3.666636624542786,
          4.848673590501894,
          5.218897788338401,
          5.265000711571266,
          3.9421247475721444,
          3.6083550887226195,
          3.1638820109971255,
          4.384345921400697,
          4.817420375575766,
          5.173560847845499,
          5.3306075756267495,
          4.345695537574906,
          4.471440901365961,
          4.759207928580537,
          4.026650635898201,
          4.476795988947005,
          5.1831027240031124,
          5.038219571186512,
          1.5929340883353347,
          2.1763657371255003,
          2.934269214716646,
          3.659982154872915,
          3.940176149869018,
          3.153869328297516,
          5.195193857109913,
          4.184911035321414
         ]
        },
        {
         "boxmean": true,
         "name": "CNN - TL aggregated",
         "type": "box",
         "y": [
          3.389664646235049,
          3.931265073498332,
          4.934989487133466,
          5.281249569297892,
          4.6928832615597456,
          5.0462806853689255,
          5.418002551028196,
          4.383828522519221,
          4.739572352668394,
          4.0280105803253345,
          3.6493899752820305,
          4.8453866450159575,
          5.215764452739033,
          5.259655796495428,
          3.93379521020571,
          3.5912263486518663,
          3.1575963201099904,
          4.366898095551325,
          4.810312249701403,
          5.1590841385220125,
          5.317572855175315,
          4.338859329387023,
          4.466647957758124,
          4.746141129903791,
          4.01652201405304,
          4.472837400915216,
          5.187857495392124,
          5.027054561915306,
          1.580438696499453,
          2.171857723497168,
          2.9381075618022456,
          3.660163999411826,
          3.9530541895987987,
          3.161275418166796,
          5.197110081847787,
          4.1786506408006465
         ]
        },
        {
         "boxmean": true,
         "name": "CNN - SUB aggregated",
         "type": "box",
         "y": [
          3.3923589232808107,
          3.9351179312157023,
          4.938987950645942,
          5.285234625027116,
          4.695003269679079,
          5.05019529507347,
          5.421926459456144,
          4.387819972683324,
          4.741891634253407,
          4.030553481583849,
          3.654351826529235,
          4.849619398143443,
          5.21965308643499,
          5.263614061467643,
          3.9351838263453316,
          3.5930499982974546,
          3.1615938372574885,
          4.369096644216487,
          4.814435467073153,
          5.163035842668732,
          5.321510884399035,
          4.342770063148298,
          4.470543255535178,
          4.748674915155698,
          4.019655622567099,
          4.477425510335624,
          5.19148868517096,
          5.029740283324586,
          1.5763305377531533,
          2.1740946856605285,
          2.94005698503125,
          3.663851670748151,
          3.956545943485312,
          3.164724689838059,
          5.200735692633244,
          4.18157773702577
         ]
        },
        {
         "boxmean": true,
         "name": "CNN - PC aggregated",
         "type": "box",
         "y": [
          1.548656609199671,
          0.8335599092016465,
          1.6459962479165546,
          0.9287718735328082,
          1.0828533841732602,
          0.7305743686480005,
          0.8644677384085859,
          1.7043787531631707,
          1.1773742779164849,
          1.6306728476929178,
          1.2860122840621213,
          0.5853964118421539,
          1.0263030021404596,
          1.0668232564318962,
          2.2629245218949445,
          0.7610020990789044,
          1.920242750480948,
          0.9591158633292214,
          0.8397544200851369,
          1.0123155824957584,
          0.8682059408856064,
          1.8700285123690248,
          1.8350654013717869,
          1.9327091678929693,
          1.68041396051966,
          0.8068246902313627,
          0.7918882513599476,
          0.6978677886427427,
          2.5714465142584677,
          1.802334072529011,
          0.8807208431749423,
          0.5784228574934682,
          0.5809178405926548,
          1.3787666633140625,
          0.5333321171916517,
          1.554906149690001
         ]
        },
        {
         "boxmean": true,
         "name": "CNN - Site aggregated",
         "type": "box",
         "y": [
          1.5122787446057318,
          0.8069827630578738,
          1.738498708186712,
          0.9145856116028023,
          1.1509005952066862,
          0.7509741194393211,
          0.8497613291316852,
          1.6646995930641317,
          1.1505410818456114,
          1.6764171915254888,
          1.3196427105093007,
          0.5490693416064659,
          1.0779392044829181,
          1.1382962505573253,
          2.3187305702501217,
          0.7999611479230937,
          1.977375693436733,
          0.9622957737202402,
          0.9614255058139198,
          0.9737486227282746,
          0.89154897591877,
          1.9637918793947928,
          1.8575097088508041,
          1.9292364602878684,
          1.7354825639055826,
          0.791037971263874,
          0.7926677079434461,
          0.6576104837521018,
          2.653633133271792,
          1.8551392701678096,
          0.8661218737365318,
          0.6151563722380985,
          0.6230445720652791,
          1.4449922492623928,
          0.5346605095589045,
          1.5896423645977846
         ]
        },
        {
         "boxmean": true,
         "name": "AutoARIMA - Grid",
         "type": "box",
         "y": [
          1.6853576949368594,
          1.2614247027541112,
          0.6884773300889144,
          0.789304499739047,
          0.5704930601472075,
          0.5211776827953404,
          0.7437049840271515,
          0.7253299905984498,
          0.49963850007962224,
          0.9985240152418069,
          0.9814577478972913,
          0.5675644356173761,
          0.6714383294132533,
          0.6176419140374961,
          1.4917734646469665,
          1.0892238527385738,
          1.5783255893347,
          0.6667860032366376,
          0.8378419462863471,
          0.829941675957614,
          0.9009290825713053,
          0.432213043343397,
          0.7598155958418239,
          0.45140613190211604,
          0.7322972643647959,
          0.5995416240429228,
          0.8925837127925106,
          0.6715439740415531,
          4.462695509950671,
          4.802625806456639,
          0.6022730672793044,
          0.8843115609470243,
          0.8616507722807992,
          0.656635754739094,
          1.8473987737292747,
          0.5784779230164391
         ]
        },
        {
         "boxmean": true,
         "name": "AutoARIMA - TL aggregated",
         "type": "box",
         "y": [
          1.8745646205205138,
          1.0835049877466334,
          0.6357742184356338,
          0.6928529778066556,
          0.6869784872431332,
          0.57211055420136,
          0.6139999809733766,
          0.9054582183606087,
          0.5665766558849897,
          1.109991936393243,
          0.585108324933742,
          0.9049575747893428,
          0.5385268913213943,
          0.4560654004762588,
          1.810641174553524,
          0.9648709637285923,
          1.4103327722163228,
          0.6220011942518164,
          0.7692756489590741,
          0.5899954734620854,
          0.7369602124604077,
          0.6652238653068239,
          0.7641144282027618,
          0.4399931373884252,
          0.8196358321191842,
          0.638553982467457,
          0.8421906356500617,
          0.7304139016435538,
          4.3226291752018335,
          3.4842320938344313,
          1.1904457869499177,
          0.8626696273943174,
          0.9938217048275692,
          0.7336226138787211,
          1.7284205260164325,
          0.49114364999295085
         ]
        },
        {
         "boxmean": true,
         "name": "AutoARIMA - SUB aggregated",
         "type": "box",
         "y": [
          1.6672383811196254,
          1.2599621619234436,
          0.7071800861988409,
          0.7759370010949451,
          0.6481314848804709,
          0.554363005384297,
          0.7394276957435336,
          0.7346092624342436,
          0.5239704006123203,
          1.0426982471058863,
          0.6805209676804003,
          0.7183898318873914,
          0.6200768368547032,
          0.5754932921247854,
          1.6016411997977167,
          1.0489758676873442,
          1.6232273234316055,
          0.7293947497952125,
          0.822160007039621,
          0.7076522598953086,
          0.833123442264527,
          0.5176909105678976,
          0.7722263194464019,
          0.4816601747765691,
          0.7493877257712294,
          0.6042482575260125,
          0.8237508447645941,
          0.7099024867512581,
          4.299909757032919,
          4.43519417361959,
          0.48571593915327405,
          1.007423080725379,
          0.6027460961647506,
          0.7157867131317346,
          1.6268644318764347,
          0.4229740444387623
         ]
        },
        {
         "boxmean": true,
         "name": "AutoARIMA - PC aggregated",
         "type": "box",
         "y": [
          0.9039789425533031,
          0.35419417712580836,
          1.0311292617876673,
          0.6223665494202419,
          0.7427185543610031,
          1.6601331348467296,
          0.520171114597606,
          1.034804220722936,
          0.7144800680440542,
          1.1092622154517626,
          0.939615069592148,
          0.8737867149615098,
          0.7160256764027219,
          0.3872847015444819,
          1.4924934263649472,
          0.5134620935682465,
          1.2944274657332586,
          0.6255853436822141,
          0.41721973166513854,
          0.5453744215808608,
          0.3005486070897783,
          1.3206541885017575,
          1.0968742263077744,
          0.7589073160752805,
          0.9551624264902092,
          0.6034109497141973,
          0.6003162825636197,
          1.5178031586137966,
          2.5100079271338736,
          1.146882550806465,
          1.634738721477056,
          1.1400707135502175,
          0.5615680075578704,
          0.8542013411387829,
          0.9623728234714323,
          0.9958967947479278
         ]
        },
        {
         "boxmean": true,
         "name": "AutoARIMA - Site aggregated",
         "type": "box",
         "y": [
          1.0496335048124212,
          0.6526851057072862,
          1.2583686176884472,
          0.6816962152845688,
          0.9330119954022347,
          1.4655520552057022,
          0.530918809044491,
          1.1585226230448202,
          0.5921815085726108,
          1.3563691679324354,
          0.6951497141273585,
          1.1124391209364028,
          0.7077442895425345,
          0.41247313336068575,
          1.3929080278059705,
          0.5512555922955837,
          1.3177708720673444,
          0.7634044054294369,
          0.5291714390524157,
          0.5524709483951551,
          0.3736796210646908,
          1.3437900720428768,
          1.1603700537481763,
          0.8451283521758858,
          0.7677102114147619,
          0.6894226753995306,
          0.7830257983708131,
          1.4426746664828438,
          2.8541270577857722,
          1.0946491671240504,
          2.0838777102582466,
          1.2678552254529307,
          0.7000498850222076,
          0.796003669997406,
          1.2048645686547503,
          1.1847298630868974
         ]
        },
        {
         "boxmean": true,
         "name": "TBATS - Grid",
         "type": "box",
         "y": [
          2.1869798844491064,
          1.94123104399883,
          1.7974107613980395,
          2.089468139611649,
          1.7155515036385296,
          1.8201608952024748,
          2.002659280577167,
          1.5886212721451973,
          1.29730520187363,
          1.2690635822941267,
          1.0835603093447725,
          1.8494981027969366,
          1.9123619957445757,
          1.814233162241381,
          2.3971521477392783,
          1.7651560178071901,
          1.9787634713217386,
          1.4272351455166772,
          2.3071435199901487,
          1.6878205843333485,
          2.2014318216683475,
          2.106494375600014,
          1.665733828767462,
          1.2930559063665394,
          1.325770841963751,
          1.3978451135397922,
          1.8868203750696961,
          1.6491585938365907,
          4.430603684767729,
          4.558810020684946,
          1.382716096645953,
          1.3470030246930456,
          1.340823145038424,
          1.2930397734796804,
          2.4208959104083125,
          1.262221288360809
         ]
        },
        {
         "boxmean": true,
         "name": "TBATS - TL aggregated",
         "type": "box",
         "y": [
          1.9990410008573145,
          2.1661636219292055,
          1.444175397857522,
          1.6389913331957737,
          1.2924491973362595,
          1.475397021006851,
          1.6878439919663755,
          1.884053237257579,
          1.2005724021739728,
          1.2959375250422447,
          1.0474309499771297,
          1.839621033857329,
          1.6845602756743692,
          1.5274641336359391,
          2.8090761195403986,
          1.389682025386324,
          1.8056266549568443,
          1.3071831457671188,
          1.8312758471617852,
          0.773519749173232,
          1.9426043585506283,
          1.7638073609282625,
          0.9977543914750454,
          1.526209148110923,
          1.4048135647577413,
          1.5210549800963573,
          1.9080080408537563,
          1.6410203662161817,
          4.39894039351588,
          3.38347124015149,
          2.122373002262742,
          1.354574328800685,
          1.2731568831806999,
          1.3471042813577798,
          2.3169023004987657,
          1.966205664538433
         ]
        },
        {
         "boxmean": true,
         "name": "TBATS - SUB aggregated",
         "type": "box",
         "y": [
          2.0192782723758245,
          1.9614748352143878,
          1.5860070935843178,
          1.7180281720296056,
          1.595910016349292,
          0.5464537845418276,
          1.599861751945753,
          1.6584230523255925,
          1.2052415245384271,
          1.0058338069807726,
          0.9817732624500201,
          1.831246062781867,
          1.7249931681548476,
          1.9175098092943983,
          2.3027002774122316,
          1.628161654494416,
          2.0004832822982297,
          1.3605447888072082,
          1.8073024431469975,
          1.5616192049192648,
          1.8727215004471314,
          1.7957064009082058,
          1.547614221724276,
          1.4997001513408896,
          1.1347824100173474,
          1.375000893209642,
          1.7471375567661507,
          1.753084917836327,
          4.344216251677783,
          3.8670369988601343,
          1.0099623583718607,
          0.8243998387715523,
          1.3213516472848317,
          1.3690473837865877,
          2.310228776732466,
          1.6452539479296922
         ]
        },
        {
         "boxmean": true,
         "name": "TBATS - PC aggregated",
         "type": "box",
         "y": [
          2.2795711059721353,
          2.0822599239266597,
          1.7212771956997945,
          1.7518692585849656,
          1.3969349226623478,
          0.8278513789429363,
          1.7967767543487094,
          1.6137038021095769,
          0.8389540612949317,
          1.099365193000944,
          0.873582958137532,
          1.903126952404013,
          1.0266950355264688,
          0.9084355958403518,
          2.1212559570123517,
          1.5204758713608495,
          1.6839920560372368,
          1.4617894716514257,
          1.0224682839240293,
          1.6460140438469213,
          0.8813736634956247,
          0.9317124634966599,
          0.9871120081029273,
          1.2309728996130065,
          1.2516007765125425,
          1.438384973867454,
          1.831932708502953,
          1.6924732273408372,
          4.807806390761672,
          2.655197882659451,
          1.0173819601878458,
          1.3100368956394226,
          1.3570057543260405,
          1.1774719109536758,
          2.2570413788588857,
          1.1707947077575918
         ]
        },
        {
         "boxmean": true,
         "name": "TBATS - Site aggregated",
         "type": "box",
         "y": [
          2.2864693250164536,
          1.7845587900071107,
          1.490966355447867,
          1.8032333903535547,
          1.4609330162108374,
          1.2354315570029921,
          1.4160075665688552,
          1.890287924003794,
          1.0452229723755584,
          1.1073771782891388,
          0.8980015543933428,
          1.7072860315155978,
          1.4591144549684925,
          1.365499993545086,
          2.4678997558170424,
          1.5264245922382038,
          1.7824643693179205,
          1.475409260396974,
          1.950673962978966,
          1.5071310349413414,
          1.2922441644667004,
          1.5909775699244353,
          1.585570161810793,
          1.3147915255392353,
          1.4165592069759751,
          1.4997415295053218,
          1.7830806841464428,
          1.6002708547598563,
          4.4504720939954145,
          3.584062992534734,
          1.3642639824718956,
          1.1234251232713544,
          1.2480419209893316,
          1.3573195100629285,
          2.2668706824854796,
          1.4577821253931484
         ]
        },
        {
         "boxmean": true,
         "name": "Prophet - Grid",
         "type": "box",
         "y": [
          2.1070396885373124,
          2.2211063836811933,
          1.687984661374971,
          1.9424104369511355,
          1.7863473902220208,
          1.7914062176392225,
          1.9671943730672035,
          1.722198269241318,
          1.390462383521621,
          1.3587433397560993,
          1.723932374067403,
          1.8496196922572714,
          1.8453386300974313,
          1.94631410425766,
          2.452890737592689,
          2.1161764372836926,
          2.382035336458408,
          1.6039823733422875,
          2.0480629549726648,
          1.655396128506615,
          2.0393536067592506,
          1.647456466117945,
          1.6593376897879464,
          1.3909467692545083,
          1.528510940821869,
          1.5701683511132916,
          1.8953633903643896,
          1.7655720194217221,
          4.561280107207387,
          5.250522584939957,
          1.6962472472980934,
          1.4777951906786106,
          1.309266003898802,
          1.6596944058523024,
          2.182005766320968,
          1.4140393129142323
         ]
        },
        {
         "boxmean": true,
         "name": "Prophet - TL aggregated",
         "type": "box",
         "y": [
          2.1038163470764393,
          2.2187079347194203,
          1.6881835052273375,
          1.9423947278306473,
          1.7819159084770322,
          1.787441560567358,
          1.9686940790895349,
          1.7205803799624968,
          1.3872118352373968,
          1.3413982064045409,
          1.7141243263892227,
          1.8475488140064145,
          1.8463269656830799,
          1.9460521300136553,
          2.457116419672874,
          2.1283557629660548,
          2.426304882659695,
          1.619233005534243,
          2.047641188574121,
          1.6552592863326852,
          2.0330261254591937,
          1.654176249731925,
          1.6621967584571355,
          1.3905721571488994,
          1.5356493494364405,
          1.5784924921787589,
          1.8883748977915022,
          1.764861630237602,
          4.600508633722259,
          5.274241831126754,
          1.7089499724140935,
          1.5054779991359106,
          1.321597561717244,
          1.6500802426193488,
          2.1790900608710944,
          1.4209187535285845
         ]
        },
        {
         "boxmean": true,
         "name": "Prophet - SUB aggregated",
         "type": "box",
         "y": [
          2.108065513099449,
          2.2224567195586458,
          1.688200963438044,
          1.9424598845631214,
          1.781701410310599,
          1.7878684487312226,
          1.9688095741127967,
          1.7233634354764018,
          1.3873208642983739,
          1.3387203129520484,
          1.712113321541853,
          1.8483726986165565,
          1.8453361596797444,
          1.9463764685917593,
          2.4557232387807026,
          2.1292942001129838,
          2.410359314033898,
          1.6159335251476856,
          2.0477090478217934,
          1.655528571152193,
          2.0334561650553846,
          1.657735198635677,
          1.6629689699272046,
          1.390835150665543,
          1.5347634519253555,
          1.5752005968061447,
          1.889822891383042,
          1.7656646400991411,
          4.6068478283878695,
          5.268188412245194,
          1.7216688361687,
          1.502105456815721,
          1.3136917899510505,
          1.657735458595525,
          2.178237184263218,
          1.4205176248968947
         ]
        },
        {
         "boxmean": true,
         "name": "Prophet - PC aggregated",
         "type": "box",
         "y": [
          1.394914233119005,
          0.8961124747848187,
          1.1570618520397427,
          0.8817690338367468,
          0.7067764220170567,
          1.2183947016215366,
          0.6568315753460051,
          1.194917832188488,
          0.9730908430762703,
          1.110091081050229,
          1.0226473692890266,
          1.0635057412326776,
          0.6658292956091707,
          0.7318697672593263,
          1.7019899180537779,
          0.8502440623283638,
          1.3581638161669982,
          1.018864998821758,
          0.668130040020375,
          0.9270030619098124,
          0.7380305565384883,
          1.361599644244693,
          1.4263042574734122,
          1.0050589283515203,
          1.3071169397719633,
          0.6985795077405857,
          0.7550891534028924,
          1.268473761626455,
          2.1851857632794216,
          1.7882434704491696,
          1.5815739821817973,
          0.8097470302673411,
          0.7455162957086061,
          0.8182149309230162,
          1.0836910451038144,
          1.1237059413590562
         ]
        },
        {
         "boxmean": true,
         "name": "Prophet - Site aggregated",
         "type": "box",
         "y": [
          1.3998005474695214,
          0.9094032420589161,
          1.1678967991179456,
          0.8900908318206714,
          0.7257308618247985,
          1.2211839447756125,
          0.6709031540911486,
          1.2170238948501508,
          0.9870622222266549,
          1.132863299450275,
          1.0595376951066118,
          1.0525566581475307,
          0.6949741898075442,
          0.7622831738854785,
          1.7023876355465906,
          0.8369182439171967,
          1.3711586351420448,
          1.0122216920015592,
          0.6573449016085497,
          0.9403370708970649,
          0.7546349121590902,
          1.3862669663308334,
          1.4318283186252205,
          1.020303799990494,
          1.3222639373231833,
          0.7248160131522127,
          0.7522452217832595,
          1.2715629363523162,
          2.191309026970861,
          1.7769088743076042,
          1.5653033765574826,
          0.7858713500277296,
          0.7647647516412505,
          0.8320879187831701,
          1.1106558552816286,
          1.135178464339499
         ]
        },
        {
         "boxmean": true,
         "name": "Seasonal Naive",
         "type": "box",
         "y": [
          1.4780371894097077,
          0.8108757931193623,
          0.9851368717740118,
          0.8412022613713731,
          0.755382348456642,
          0.612166844090761,
          0.43585031345239544,
          1.1181002430064222,
          0.4924402285622381,
          0.8916435451782548,
          0.41842472894114213,
          1.307384594678476,
          0.2866599834283844,
          0.10984875294350051,
          1.764688845434049,
          0.9703422553926633,
          1.3030478677055288,
          1.437270007020137,
          0.9547229368649363,
          0.6872756624678654,
          0.39006824112300315,
          1.0429523320936664,
          0.6942082552495016,
          0.3899611703689176,
          0.9780913096604256,
          0.7741613096127081,
          0.7323568449568453,
          0.48894410676422506,
          4.763940207017605,
          0.8715147927874495,
          3.877950101747636,
          1.1304166181612112,
          0.8768893514040391,
          1.0180100510191703,
          1.9763814896102938,
          1.191756912474073
         ]
        }
       ],
       "layout": {
        "font": {
         "size": 10
        },
        "showlegend": false,
        "template": {
         "data": {
          "bar": [
           {
            "error_x": {
             "color": "#2a3f5f"
            },
            "error_y": {
             "color": "#2a3f5f"
            },
            "marker": {
             "line": {
              "color": "#E5ECF6",
              "width": 0.5
             }
            },
            "type": "bar"
           }
          ],
          "barpolar": [
           {
            "marker": {
             "line": {
              "color": "#E5ECF6",
              "width": 0.5
             }
            },
            "type": "barpolar"
           }
          ],
          "carpet": [
           {
            "aaxis": {
             "endlinecolor": "#2a3f5f",
             "gridcolor": "white",
             "linecolor": "white",
             "minorgridcolor": "white",
             "startlinecolor": "#2a3f5f"
            },
            "baxis": {
             "endlinecolor": "#2a3f5f",
             "gridcolor": "white",
             "linecolor": "white",
             "minorgridcolor": "white",
             "startlinecolor": "#2a3f5f"
            },
            "type": "carpet"
           }
          ],
          "choropleth": [
           {
            "colorbar": {
             "outlinewidth": 0,
             "ticks": ""
            },
            "type": "choropleth"
           }
          ],
          "contour": [
           {
            "colorbar": {
             "outlinewidth": 0,
             "ticks": ""
            },
            "colorscale": [
             [
              0,
              "#0d0887"
             ],
             [
              0.1111111111111111,
              "#46039f"
             ],
             [
              0.2222222222222222,
              "#7201a8"
             ],
             [
              0.3333333333333333,
              "#9c179e"
             ],
             [
              0.4444444444444444,
              "#bd3786"
             ],
             [
              0.5555555555555556,
              "#d8576b"
             ],
             [
              0.6666666666666666,
              "#ed7953"
             ],
             [
              0.7777777777777778,
              "#fb9f3a"
             ],
             [
              0.8888888888888888,
              "#fdca26"
             ],
             [
              1,
              "#f0f921"
             ]
            ],
            "type": "contour"
           }
          ],
          "contourcarpet": [
           {
            "colorbar": {
             "outlinewidth": 0,
             "ticks": ""
            },
            "type": "contourcarpet"
           }
          ],
          "heatmap": [
           {
            "colorbar": {
             "outlinewidth": 0,
             "ticks": ""
            },
            "colorscale": [
             [
              0,
              "#0d0887"
             ],
             [
              0.1111111111111111,
              "#46039f"
             ],
             [
              0.2222222222222222,
              "#7201a8"
             ],
             [
              0.3333333333333333,
              "#9c179e"
             ],
             [
              0.4444444444444444,
              "#bd3786"
             ],
             [
              0.5555555555555556,
              "#d8576b"
             ],
             [
              0.6666666666666666,
              "#ed7953"
             ],
             [
              0.7777777777777778,
              "#fb9f3a"
             ],
             [
              0.8888888888888888,
              "#fdca26"
             ],
             [
              1,
              "#f0f921"
             ]
            ],
            "type": "heatmap"
           }
          ],
          "heatmapgl": [
           {
            "colorbar": {
             "outlinewidth": 0,
             "ticks": ""
            },
            "colorscale": [
             [
              0,
              "#0d0887"
             ],
             [
              0.1111111111111111,
              "#46039f"
             ],
             [
              0.2222222222222222,
              "#7201a8"
             ],
             [
              0.3333333333333333,
              "#9c179e"
             ],
             [
              0.4444444444444444,
              "#bd3786"
             ],
             [
              0.5555555555555556,
              "#d8576b"
             ],
             [
              0.6666666666666666,
              "#ed7953"
             ],
             [
              0.7777777777777778,
              "#fb9f3a"
             ],
             [
              0.8888888888888888,
              "#fdca26"
             ],
             [
              1,
              "#f0f921"
             ]
            ],
            "type": "heatmapgl"
           }
          ],
          "histogram": [
           {
            "marker": {
             "colorbar": {
              "outlinewidth": 0,
              "ticks": ""
             }
            },
            "type": "histogram"
           }
          ],
          "histogram2d": [
           {
            "colorbar": {
             "outlinewidth": 0,
             "ticks": ""
            },
            "colorscale": [
             [
              0,
              "#0d0887"
             ],
             [
              0.1111111111111111,
              "#46039f"
             ],
             [
              0.2222222222222222,
              "#7201a8"
             ],
             [
              0.3333333333333333,
              "#9c179e"
             ],
             [
              0.4444444444444444,
              "#bd3786"
             ],
             [
              0.5555555555555556,
              "#d8576b"
             ],
             [
              0.6666666666666666,
              "#ed7953"
             ],
             [
              0.7777777777777778,
              "#fb9f3a"
             ],
             [
              0.8888888888888888,
              "#fdca26"
             ],
             [
              1,
              "#f0f921"
             ]
            ],
            "type": "histogram2d"
           }
          ],
          "histogram2dcontour": [
           {
            "colorbar": {
             "outlinewidth": 0,
             "ticks": ""
            },
            "colorscale": [
             [
              0,
              "#0d0887"
             ],
             [
              0.1111111111111111,
              "#46039f"
             ],
             [
              0.2222222222222222,
              "#7201a8"
             ],
             [
              0.3333333333333333,
              "#9c179e"
             ],
             [
              0.4444444444444444,
              "#bd3786"
             ],
             [
              0.5555555555555556,
              "#d8576b"
             ],
             [
              0.6666666666666666,
              "#ed7953"
             ],
             [
              0.7777777777777778,
              "#fb9f3a"
             ],
             [
              0.8888888888888888,
              "#fdca26"
             ],
             [
              1,
              "#f0f921"
             ]
            ],
            "type": "histogram2dcontour"
           }
          ],
          "mesh3d": [
           {
            "colorbar": {
             "outlinewidth": 0,
             "ticks": ""
            },
            "type": "mesh3d"
           }
          ],
          "parcoords": [
           {
            "line": {
             "colorbar": {
              "outlinewidth": 0,
              "ticks": ""
             }
            },
            "type": "parcoords"
           }
          ],
          "pie": [
           {
            "automargin": true,
            "type": "pie"
           }
          ],
          "scatter": [
           {
            "marker": {
             "colorbar": {
              "outlinewidth": 0,
              "ticks": ""
             }
            },
            "type": "scatter"
           }
          ],
          "scatter3d": [
           {
            "line": {
             "colorbar": {
              "outlinewidth": 0,
              "ticks": ""
             }
            },
            "marker": {
             "colorbar": {
              "outlinewidth": 0,
              "ticks": ""
             }
            },
            "type": "scatter3d"
           }
          ],
          "scattercarpet": [
           {
            "marker": {
             "colorbar": {
              "outlinewidth": 0,
              "ticks": ""
             }
            },
            "type": "scattercarpet"
           }
          ],
          "scattergeo": [
           {
            "marker": {
             "colorbar": {
              "outlinewidth": 0,
              "ticks": ""
             }
            },
            "type": "scattergeo"
           }
          ],
          "scattergl": [
           {
            "marker": {
             "colorbar": {
              "outlinewidth": 0,
              "ticks": ""
             }
            },
            "type": "scattergl"
           }
          ],
          "scattermapbox": [
           {
            "marker": {
             "colorbar": {
              "outlinewidth": 0,
              "ticks": ""
             }
            },
            "type": "scattermapbox"
           }
          ],
          "scatterpolar": [
           {
            "marker": {
             "colorbar": {
              "outlinewidth": 0,
              "ticks": ""
             }
            },
            "type": "scatterpolar"
           }
          ],
          "scatterpolargl": [
           {
            "marker": {
             "colorbar": {
              "outlinewidth": 0,
              "ticks": ""
             }
            },
            "type": "scatterpolargl"
           }
          ],
          "scatterternary": [
           {
            "marker": {
             "colorbar": {
              "outlinewidth": 0,
              "ticks": ""
             }
            },
            "type": "scatterternary"
           }
          ],
          "surface": [
           {
            "colorbar": {
             "outlinewidth": 0,
             "ticks": ""
            },
            "colorscale": [
             [
              0,
              "#0d0887"
             ],
             [
              0.1111111111111111,
              "#46039f"
             ],
             [
              0.2222222222222222,
              "#7201a8"
             ],
             [
              0.3333333333333333,
              "#9c179e"
             ],
             [
              0.4444444444444444,
              "#bd3786"
             ],
             [
              0.5555555555555556,
              "#d8576b"
             ],
             [
              0.6666666666666666,
              "#ed7953"
             ],
             [
              0.7777777777777778,
              "#fb9f3a"
             ],
             [
              0.8888888888888888,
              "#fdca26"
             ],
             [
              1,
              "#f0f921"
             ]
            ],
            "type": "surface"
           }
          ],
          "table": [
           {
            "cells": {
             "fill": {
              "color": "#EBF0F8"
             },
             "line": {
              "color": "white"
             }
            },
            "header": {
             "fill": {
              "color": "#C8D4E3"
             },
             "line": {
              "color": "white"
             }
            },
            "type": "table"
           }
          ]
         },
         "layout": {
          "annotationdefaults": {
           "arrowcolor": "#2a3f5f",
           "arrowhead": 0,
           "arrowwidth": 1
          },
          "autotypenumbers": "strict",
          "coloraxis": {
           "colorbar": {
            "outlinewidth": 0,
            "ticks": ""
           }
          },
          "colorscale": {
           "diverging": [
            [
             0,
             "#8e0152"
            ],
            [
             0.1,
             "#c51b7d"
            ],
            [
             0.2,
             "#de77ae"
            ],
            [
             0.3,
             "#f1b6da"
            ],
            [
             0.4,
             "#fde0ef"
            ],
            [
             0.5,
             "#f7f7f7"
            ],
            [
             0.6,
             "#e6f5d0"
            ],
            [
             0.7,
             "#b8e186"
            ],
            [
             0.8,
             "#7fbc41"
            ],
            [
             0.9,
             "#4d9221"
            ],
            [
             1,
             "#276419"
            ]
           ],
           "sequential": [
            [
             0,
             "#0d0887"
            ],
            [
             0.1111111111111111,
             "#46039f"
            ],
            [
             0.2222222222222222,
             "#7201a8"
            ],
            [
             0.3333333333333333,
             "#9c179e"
            ],
            [
             0.4444444444444444,
             "#bd3786"
            ],
            [
             0.5555555555555556,
             "#d8576b"
            ],
            [
             0.6666666666666666,
             "#ed7953"
            ],
            [
             0.7777777777777778,
             "#fb9f3a"
            ],
            [
             0.8888888888888888,
             "#fdca26"
            ],
            [
             1,
             "#f0f921"
            ]
           ],
           "sequentialminus": [
            [
             0,
             "#0d0887"
            ],
            [
             0.1111111111111111,
             "#46039f"
            ],
            [
             0.2222222222222222,
             "#7201a8"
            ],
            [
             0.3333333333333333,
             "#9c179e"
            ],
            [
             0.4444444444444444,
             "#bd3786"
            ],
            [
             0.5555555555555556,
             "#d8576b"
            ],
            [
             0.6666666666666666,
             "#ed7953"
            ],
            [
             0.7777777777777778,
             "#fb9f3a"
            ],
            [
             0.8888888888888888,
             "#fdca26"
            ],
            [
             1,
             "#f0f921"
            ]
           ]
          },
          "colorway": [
           "#636efa",
           "#EF553B",
           "#00cc96",
           "#ab63fa",
           "#FFA15A",
           "#19d3f3",
           "#FF6692",
           "#B6E880",
           "#FF97FF",
           "#FECB52"
          ],
          "font": {
           "color": "#2a3f5f"
          },
          "geo": {
           "bgcolor": "white",
           "lakecolor": "white",
           "landcolor": "#E5ECF6",
           "showlakes": true,
           "showland": true,
           "subunitcolor": "white"
          },
          "hoverlabel": {
           "align": "left"
          },
          "hovermode": "closest",
          "mapbox": {
           "style": "light"
          },
          "paper_bgcolor": "white",
          "plot_bgcolor": "#E5ECF6",
          "polar": {
           "angularaxis": {
            "gridcolor": "white",
            "linecolor": "white",
            "ticks": ""
           },
           "bgcolor": "#E5ECF6",
           "radialaxis": {
            "gridcolor": "white",
            "linecolor": "white",
            "ticks": ""
           }
          },
          "scene": {
           "xaxis": {
            "backgroundcolor": "#E5ECF6",
            "gridcolor": "white",
            "gridwidth": 2,
            "linecolor": "white",
            "showbackground": true,
            "ticks": "",
            "zerolinecolor": "white"
           },
           "yaxis": {
            "backgroundcolor": "#E5ECF6",
            "gridcolor": "white",
            "gridwidth": 2,
            "linecolor": "white",
            "showbackground": true,
            "ticks": "",
            "zerolinecolor": "white"
           },
           "zaxis": {
            "backgroundcolor": "#E5ECF6",
            "gridcolor": "white",
            "gridwidth": 2,
            "linecolor": "white",
            "showbackground": true,
            "ticks": "",
            "zerolinecolor": "white"
           }
          },
          "shapedefaults": {
           "line": {
            "color": "#2a3f5f"
           }
          },
          "ternary": {
           "aaxis": {
            "gridcolor": "white",
            "linecolor": "white",
            "ticks": ""
           },
           "baxis": {
            "gridcolor": "white",
            "linecolor": "white",
            "ticks": ""
           },
           "bgcolor": "#E5ECF6",
           "caxis": {
            "gridcolor": "white",
            "linecolor": "white",
            "ticks": ""
           }
          },
          "title": {
           "x": 0.05
          },
          "xaxis": {
           "automargin": true,
           "gridcolor": "white",
           "linecolor": "white",
           "ticks": "",
           "title": {
            "standoff": 15
           },
           "zerolinecolor": "white",
           "zerolinewidth": 2
          },
          "yaxis": {
           "automargin": true,
           "gridcolor": "white",
           "linecolor": "white",
           "ticks": "",
           "title": {
            "standoff": 15
           },
           "zerolinecolor": "white",
           "zerolinewidth": 2
          }
         }
        },
        "title": {
         "text": "Grid level forecasts (MASE across 36 samples)"
        },
        "xaxis": {
         "title": {
          "text": ""
         }
        },
        "yaxis": {
         "title": {
          "text": "MASE distribution"
         }
        }
       }
      },
      "text/html": [
       "<div>                            <div id=\"cc1bf155-3335-4696-a5ba-2ad32543454d\" class=\"plotly-graph-div\" style=\"height:525px; width:100%;\"></div>            <script type=\"text/javascript\">                require([\"plotly\"], function(Plotly) {                    window.PLOTLYENV=window.PLOTLYENV || {};                                    if (document.getElementById(\"cc1bf155-3335-4696-a5ba-2ad32543454d\")) {                    Plotly.newPlot(                        \"cc1bf155-3335-4696-a5ba-2ad32543454d\",                        [{\"boxmean\": true, \"name\": \"LSTM - Grid\", \"type\": \"box\", \"y\": [1.2354774395423362, 1.117142891601437, 0.7993274246742958, 2.118379514611731, 1.3654891161006817, 1.6989868219458528, 2.136336236493712, 1.2464063998995059, 1.2955410704734338, 0.7400306434417475, 0.7036381632138295, 1.1393532477331108, 1.926683739288961, 1.8386192879132264, 1.770227336406372, 0.8806028921367005, 1.4034838467669737, 0.7868948593165568, 2.2941460743782587, 1.6787664154472353, 1.9676525929828605, 1.2715129003364714, 1.3142094873838912, 0.8946901048430035, 0.7833009795098324, 1.1852053935413431, 1.4496242461690916, 1.3694847225854314, 3.5833976613054728, 2.8223650715695596, 1.2001564761117602, 0.6941539527108913, 1.5868498410255636, 1.5060191221833255, 1.8758818283984922, 1.1764035605562444]}, {\"boxmean\": true, \"name\": \"LSTM - TL aggregated\", \"type\": \"box\", \"y\": [1.2565060174497165, 1.003259752296023, 1.2863189237892638, 2.2745277358444524, 1.1527365698097, 1.718963869129302, 1.3909306502685048, 1.127812515628105, 1.0007819748129587, 0.555744964230217, 0.8820445271138541, 1.519519976709057, 2.3655747096350397, 1.7161247618088722, 1.662569362263201, 0.6589237736292282, 1.4270339797048657, 0.903337934543747, 1.96811342900828, 2.1383426450110496, 1.4914373012167537, 0.9283073590485752, 1.1710828531933752, 0.6011435568379255, 0.8316492898181294, 1.6219005293611806, 1.144393590629725, 1.3969034150507853, 3.722774605738128, 3.2920229653791826, 1.2303582793213048, 0.8379174125207524, 1.281825271407646, 1.0582987377452036, 1.5627522189121894, 0.8006837295168067]}, {\"boxmean\": true, \"name\": \"LSTM - SUB aggregated\", \"type\": \"box\", \"y\": [1.3914132828410177, 0.8787285641898317, 1.2166071479805718, 2.283771801539802, 0.5873153658261671, 1.3814325977464235, 1.453705104498556, 1.3114169459776304, 0.8885321798222752, 0.577090592745834, 0.6888111245462561, 1.0275077873774585, 2.6148774327178, 1.0895104135537745, 1.743979371076874, 0.6798350360620242, 1.2461438018094577, 0.9487645754482197, 2.0500196225886547, 2.0298690376929454, 0.8560991992685263, 0.9915283287104387, 1.02827109976725, 0.6774028899284437, 0.9732806155210634, 1.177147311446156, 0.8536203257890184, 1.4718119696082668, 3.815815020808228, 3.077535796164642, 1.2730124776556555, 0.6585522368834437, 0.8735041981801795, 1.0611927726200003, 1.802482186360669, 1.2038896697690948]}, {\"boxmean\": true, \"name\": \"LSTM - PC aggregated\", \"type\": \"box\", \"y\": [1.0894238249953776, 1.3551896846981977, 0.8070394741900427, 1.588776901177034, 0.3816785319609469, 1.366728322573813, 1.603846951943192, 0.8337623685299966, 1.142932343021481, 0.5544579812765232, 0.7759105060865794, 1.2258017963201289, 1.3612243215956312, 1.1449052037473042, 1.4545886642479005, 1.028489376787211, 1.5960905855156367, 0.7219746016511266, 0.7891658590650913, 1.2858377067224638, 1.040194110924839, 0.8356440025250256, 1.2195274863113088, 0.8773054857271695, 0.6049531396769853, 0.8777933708548463, 1.4988564190452103, 1.4468416260871868, 3.2294684458335907, 1.567007615063325, 1.191299236183136, 0.579310759953629, 0.5716247115280282, 0.9568416722276819, 1.2301474640426455, 0.60153155887528]}, {\"boxmean\": true, \"name\": \"LSTM - Site aggregated\", \"type\": \"box\", \"y\": [1.0942807244706505, 1.1121656808704974, 0.7514490395081358, 1.2383249227908735, 0.389738391541274, 1.283201638126297, 1.5094405203124475, 0.8908982778692865, 0.9507719250197556, 0.5203378730979481, 0.5658775176344965, 1.0365075680635614, 1.1634778223960995, 0.9768067294190235, 1.495981949555343, 0.7517060041055926, 1.4814083900667903, 0.6569541604481436, 0.7400435341934389, 1.0502338379640266, 1.0596142222649196, 0.9349651046122042, 0.9063558557419376, 0.6782018366280195, 0.5229285448267803, 0.6046263274117333, 1.1000519994818918, 0.8467439801576508, 3.1087308825001925, 1.4386938735181671, 1.5673356665009852, 0.5494438485068514, 0.5332019762299115, 0.893112772303674, 1.34163809148877, 0.7261140466407794]}, {\"boxmean\": true, \"name\": \"CNN - Grid\", \"type\": \"box\", \"y\": [3.405362975353887, 3.9336042952934416, 4.943115417869279, 5.2887419569833005, 4.712054346059769, 5.048958155386708, 5.42292562108355, 4.3908954769010515, 4.7578903090664015, 4.043340230266816, 3.666636624542786, 4.848673590501894, 5.218897788338401, 5.265000711571266, 3.9421247475721444, 3.6083550887226195, 3.1638820109971255, 4.384345921400697, 4.817420375575766, 5.173560847845499, 5.3306075756267495, 4.345695537574906, 4.471440901365961, 4.759207928580537, 4.026650635898201, 4.476795988947005, 5.1831027240031124, 5.038219571186512, 1.5929340883353347, 2.1763657371255003, 2.934269214716646, 3.659982154872915, 3.940176149869018, 3.153869328297516, 5.195193857109913, 4.184911035321414]}, {\"boxmean\": true, \"name\": \"CNN - TL aggregated\", \"type\": \"box\", \"y\": [3.389664646235049, 3.931265073498332, 4.934989487133466, 5.281249569297892, 4.6928832615597456, 5.0462806853689255, 5.418002551028196, 4.383828522519221, 4.739572352668394, 4.0280105803253345, 3.6493899752820305, 4.8453866450159575, 5.215764452739033, 5.259655796495428, 3.93379521020571, 3.5912263486518663, 3.1575963201099904, 4.366898095551325, 4.810312249701403, 5.1590841385220125, 5.317572855175315, 4.338859329387023, 4.466647957758124, 4.746141129903791, 4.01652201405304, 4.472837400915216, 5.187857495392124, 5.027054561915306, 1.580438696499453, 2.171857723497168, 2.9381075618022456, 3.660163999411826, 3.9530541895987987, 3.161275418166796, 5.197110081847787, 4.1786506408006465]}, {\"boxmean\": true, \"name\": \"CNN - SUB aggregated\", \"type\": \"box\", \"y\": [3.3923589232808107, 3.9351179312157023, 4.938987950645942, 5.285234625027116, 4.695003269679079, 5.05019529507347, 5.421926459456144, 4.387819972683324, 4.741891634253407, 4.030553481583849, 3.654351826529235, 4.849619398143443, 5.21965308643499, 5.263614061467643, 3.9351838263453316, 3.5930499982974546, 3.1615938372574885, 4.369096644216487, 4.814435467073153, 5.163035842668732, 5.321510884399035, 4.342770063148298, 4.470543255535178, 4.748674915155698, 4.019655622567099, 4.477425510335624, 5.19148868517096, 5.029740283324586, 1.5763305377531533, 2.1740946856605285, 2.94005698503125, 3.663851670748151, 3.956545943485312, 3.164724689838059, 5.200735692633244, 4.18157773702577]}, {\"boxmean\": true, \"name\": \"CNN - PC aggregated\", \"type\": \"box\", \"y\": [1.548656609199671, 0.8335599092016465, 1.6459962479165546, 0.9287718735328082, 1.0828533841732602, 0.7305743686480005, 0.8644677384085859, 1.7043787531631707, 1.1773742779164849, 1.6306728476929178, 1.2860122840621213, 0.5853964118421539, 1.0263030021404596, 1.0668232564318962, 2.2629245218949445, 0.7610020990789044, 1.920242750480948, 0.9591158633292214, 0.8397544200851369, 1.0123155824957584, 0.8682059408856064, 1.8700285123690248, 1.8350654013717869, 1.9327091678929693, 1.68041396051966, 0.8068246902313627, 0.7918882513599476, 0.6978677886427427, 2.5714465142584677, 1.802334072529011, 0.8807208431749423, 0.5784228574934682, 0.5809178405926548, 1.3787666633140625, 0.5333321171916517, 1.554906149690001]}, {\"boxmean\": true, \"name\": \"CNN - Site aggregated\", \"type\": \"box\", \"y\": [1.5122787446057318, 0.8069827630578738, 1.738498708186712, 0.9145856116028023, 1.1509005952066862, 0.7509741194393211, 0.8497613291316852, 1.6646995930641317, 1.1505410818456114, 1.6764171915254888, 1.3196427105093007, 0.5490693416064659, 1.0779392044829181, 1.1382962505573253, 2.3187305702501217, 0.7999611479230937, 1.977375693436733, 0.9622957737202402, 0.9614255058139198, 0.9737486227282746, 0.89154897591877, 1.9637918793947928, 1.8575097088508041, 1.9292364602878684, 1.7354825639055826, 0.791037971263874, 0.7926677079434461, 0.6576104837521018, 2.653633133271792, 1.8551392701678096, 0.8661218737365318, 0.6151563722380985, 0.6230445720652791, 1.4449922492623928, 0.5346605095589045, 1.5896423645977846]}, {\"boxmean\": true, \"name\": \"AutoARIMA - Grid\", \"type\": \"box\", \"y\": [1.6853576949368594, 1.2614247027541112, 0.6884773300889144, 0.789304499739047, 0.5704930601472075, 0.5211776827953404, 0.7437049840271515, 0.7253299905984498, 0.49963850007962224, 0.9985240152418069, 0.9814577478972913, 0.5675644356173761, 0.6714383294132533, 0.6176419140374961, 1.4917734646469665, 1.0892238527385738, 1.5783255893347, 0.6667860032366376, 0.8378419462863471, 0.829941675957614, 0.9009290825713053, 0.432213043343397, 0.7598155958418239, 0.45140613190211604, 0.7322972643647959, 0.5995416240429228, 0.8925837127925106, 0.6715439740415531, 4.462695509950671, 4.802625806456639, 0.6022730672793044, 0.8843115609470243, 0.8616507722807992, 0.656635754739094, 1.8473987737292747, 0.5784779230164391]}, {\"boxmean\": true, \"name\": \"AutoARIMA - TL aggregated\", \"type\": \"box\", \"y\": [1.8745646205205138, 1.0835049877466334, 0.6357742184356338, 0.6928529778066556, 0.6869784872431332, 0.57211055420136, 0.6139999809733766, 0.9054582183606087, 0.5665766558849897, 1.109991936393243, 0.585108324933742, 0.9049575747893428, 0.5385268913213943, 0.4560654004762588, 1.810641174553524, 0.9648709637285923, 1.4103327722163228, 0.6220011942518164, 0.7692756489590741, 0.5899954734620854, 0.7369602124604077, 0.6652238653068239, 0.7641144282027618, 0.4399931373884252, 0.8196358321191842, 0.638553982467457, 0.8421906356500617, 0.7304139016435538, 4.3226291752018335, 3.4842320938344313, 1.1904457869499177, 0.8626696273943174, 0.9938217048275692, 0.7336226138787211, 1.7284205260164325, 0.49114364999295085]}, {\"boxmean\": true, \"name\": \"AutoARIMA - SUB aggregated\", \"type\": \"box\", \"y\": [1.6672383811196254, 1.2599621619234436, 0.7071800861988409, 0.7759370010949451, 0.6481314848804709, 0.554363005384297, 0.7394276957435336, 0.7346092624342436, 0.5239704006123203, 1.0426982471058863, 0.6805209676804003, 0.7183898318873914, 0.6200768368547032, 0.5754932921247854, 1.6016411997977167, 1.0489758676873442, 1.6232273234316055, 0.7293947497952125, 0.822160007039621, 0.7076522598953086, 0.833123442264527, 0.5176909105678976, 0.7722263194464019, 0.4816601747765691, 0.7493877257712294, 0.6042482575260125, 0.8237508447645941, 0.7099024867512581, 4.299909757032919, 4.43519417361959, 0.48571593915327405, 1.007423080725379, 0.6027460961647506, 0.7157867131317346, 1.6268644318764347, 0.4229740444387623]}, {\"boxmean\": true, \"name\": \"AutoARIMA - PC aggregated\", \"type\": \"box\", \"y\": [0.9039789425533031, 0.35419417712580836, 1.0311292617876673, 0.6223665494202419, 0.7427185543610031, 1.6601331348467296, 0.520171114597606, 1.034804220722936, 0.7144800680440542, 1.1092622154517626, 0.939615069592148, 0.8737867149615098, 0.7160256764027219, 0.3872847015444819, 1.4924934263649472, 0.5134620935682465, 1.2944274657332586, 0.6255853436822141, 0.41721973166513854, 0.5453744215808608, 0.3005486070897783, 1.3206541885017575, 1.0968742263077744, 0.7589073160752805, 0.9551624264902092, 0.6034109497141973, 0.6003162825636197, 1.5178031586137966, 2.5100079271338736, 1.146882550806465, 1.634738721477056, 1.1400707135502175, 0.5615680075578704, 0.8542013411387829, 0.9623728234714323, 0.9958967947479278]}, {\"boxmean\": true, \"name\": \"AutoARIMA - Site aggregated\", \"type\": \"box\", \"y\": [1.0496335048124212, 0.6526851057072862, 1.2583686176884472, 0.6816962152845688, 0.9330119954022347, 1.4655520552057022, 0.530918809044491, 1.1585226230448202, 0.5921815085726108, 1.3563691679324354, 0.6951497141273585, 1.1124391209364028, 0.7077442895425345, 0.41247313336068575, 1.3929080278059705, 0.5512555922955837, 1.3177708720673444, 0.7634044054294369, 0.5291714390524157, 0.5524709483951551, 0.3736796210646908, 1.3437900720428768, 1.1603700537481763, 0.8451283521758858, 0.7677102114147619, 0.6894226753995306, 0.7830257983708131, 1.4426746664828438, 2.8541270577857722, 1.0946491671240504, 2.0838777102582466, 1.2678552254529307, 0.7000498850222076, 0.796003669997406, 1.2048645686547503, 1.1847298630868974]}, {\"boxmean\": true, \"name\": \"TBATS - Grid\", \"type\": \"box\", \"y\": [2.1869798844491064, 1.94123104399883, 1.7974107613980395, 2.089468139611649, 1.7155515036385296, 1.8201608952024748, 2.002659280577167, 1.5886212721451973, 1.29730520187363, 1.2690635822941267, 1.0835603093447725, 1.8494981027969366, 1.9123619957445757, 1.814233162241381, 2.3971521477392783, 1.7651560178071901, 1.9787634713217386, 1.4272351455166772, 2.3071435199901487, 1.6878205843333485, 2.2014318216683475, 2.106494375600014, 1.665733828767462, 1.2930559063665394, 1.325770841963751, 1.3978451135397922, 1.8868203750696961, 1.6491585938365907, 4.430603684767729, 4.558810020684946, 1.382716096645953, 1.3470030246930456, 1.340823145038424, 1.2930397734796804, 2.4208959104083125, 1.262221288360809]}, {\"boxmean\": true, \"name\": \"TBATS - TL aggregated\", \"type\": \"box\", \"y\": [1.9990410008573145, 2.1661636219292055, 1.444175397857522, 1.6389913331957737, 1.2924491973362595, 1.475397021006851, 1.6878439919663755, 1.884053237257579, 1.2005724021739728, 1.2959375250422447, 1.0474309499771297, 1.839621033857329, 1.6845602756743692, 1.5274641336359391, 2.8090761195403986, 1.389682025386324, 1.8056266549568443, 1.3071831457671188, 1.8312758471617852, 0.773519749173232, 1.9426043585506283, 1.7638073609282625, 0.9977543914750454, 1.526209148110923, 1.4048135647577413, 1.5210549800963573, 1.9080080408537563, 1.6410203662161817, 4.39894039351588, 3.38347124015149, 2.122373002262742, 1.354574328800685, 1.2731568831806999, 1.3471042813577798, 2.3169023004987657, 1.966205664538433]}, {\"boxmean\": true, \"name\": \"TBATS - SUB aggregated\", \"type\": \"box\", \"y\": [2.0192782723758245, 1.9614748352143878, 1.5860070935843178, 1.7180281720296056, 1.595910016349292, 0.5464537845418276, 1.599861751945753, 1.6584230523255925, 1.2052415245384271, 1.0058338069807726, 0.9817732624500201, 1.831246062781867, 1.7249931681548476, 1.9175098092943983, 2.3027002774122316, 1.628161654494416, 2.0004832822982297, 1.3605447888072082, 1.8073024431469975, 1.5616192049192648, 1.8727215004471314, 1.7957064009082058, 1.547614221724276, 1.4997001513408896, 1.1347824100173474, 1.375000893209642, 1.7471375567661507, 1.753084917836327, 4.344216251677783, 3.8670369988601343, 1.0099623583718607, 0.8243998387715523, 1.3213516472848317, 1.3690473837865877, 2.310228776732466, 1.6452539479296922]}, {\"boxmean\": true, \"name\": \"TBATS - PC aggregated\", \"type\": \"box\", \"y\": [2.2795711059721353, 2.0822599239266597, 1.7212771956997945, 1.7518692585849656, 1.3969349226623478, 0.8278513789429363, 1.7967767543487094, 1.6137038021095769, 0.8389540612949317, 1.099365193000944, 0.873582958137532, 1.903126952404013, 1.0266950355264688, 0.9084355958403518, 2.1212559570123517, 1.5204758713608495, 1.6839920560372368, 1.4617894716514257, 1.0224682839240293, 1.6460140438469213, 0.8813736634956247, 0.9317124634966599, 0.9871120081029273, 1.2309728996130065, 1.2516007765125425, 1.438384973867454, 1.831932708502953, 1.6924732273408372, 4.807806390761672, 2.655197882659451, 1.0173819601878458, 1.3100368956394226, 1.3570057543260405, 1.1774719109536758, 2.2570413788588857, 1.1707947077575918]}, {\"boxmean\": true, \"name\": \"TBATS - Site aggregated\", \"type\": \"box\", \"y\": [2.2864693250164536, 1.7845587900071107, 1.490966355447867, 1.8032333903535547, 1.4609330162108374, 1.2354315570029921, 1.4160075665688552, 1.890287924003794, 1.0452229723755584, 1.1073771782891388, 0.8980015543933428, 1.7072860315155978, 1.4591144549684925, 1.365499993545086, 2.4678997558170424, 1.5264245922382038, 1.7824643693179205, 1.475409260396974, 1.950673962978966, 1.5071310349413414, 1.2922441644667004, 1.5909775699244353, 1.585570161810793, 1.3147915255392353, 1.4165592069759751, 1.4997415295053218, 1.7830806841464428, 1.6002708547598563, 4.4504720939954145, 3.584062992534734, 1.3642639824718956, 1.1234251232713544, 1.2480419209893316, 1.3573195100629285, 2.2668706824854796, 1.4577821253931484]}, {\"boxmean\": true, \"name\": \"Prophet - Grid\", \"type\": \"box\", \"y\": [2.1070396885373124, 2.2211063836811933, 1.687984661374971, 1.9424104369511355, 1.7863473902220208, 1.7914062176392225, 1.9671943730672035, 1.722198269241318, 1.390462383521621, 1.3587433397560993, 1.723932374067403, 1.8496196922572714, 1.8453386300974313, 1.94631410425766, 2.452890737592689, 2.1161764372836926, 2.382035336458408, 1.6039823733422875, 2.0480629549726648, 1.655396128506615, 2.0393536067592506, 1.647456466117945, 1.6593376897879464, 1.3909467692545083, 1.528510940821869, 1.5701683511132916, 1.8953633903643896, 1.7655720194217221, 4.561280107207387, 5.250522584939957, 1.6962472472980934, 1.4777951906786106, 1.309266003898802, 1.6596944058523024, 2.182005766320968, 1.4140393129142323]}, {\"boxmean\": true, \"name\": \"Prophet - TL aggregated\", \"type\": \"box\", \"y\": [2.1038163470764393, 2.2187079347194203, 1.6881835052273375, 1.9423947278306473, 1.7819159084770322, 1.787441560567358, 1.9686940790895349, 1.7205803799624968, 1.3872118352373968, 1.3413982064045409, 1.7141243263892227, 1.8475488140064145, 1.8463269656830799, 1.9460521300136553, 2.457116419672874, 2.1283557629660548, 2.426304882659695, 1.619233005534243, 2.047641188574121, 1.6552592863326852, 2.0330261254591937, 1.654176249731925, 1.6621967584571355, 1.3905721571488994, 1.5356493494364405, 1.5784924921787589, 1.8883748977915022, 1.764861630237602, 4.600508633722259, 5.274241831126754, 1.7089499724140935, 1.5054779991359106, 1.321597561717244, 1.6500802426193488, 2.1790900608710944, 1.4209187535285845]}, {\"boxmean\": true, \"name\": \"Prophet - SUB aggregated\", \"type\": \"box\", \"y\": [2.108065513099449, 2.2224567195586458, 1.688200963438044, 1.9424598845631214, 1.781701410310599, 1.7878684487312226, 1.9688095741127967, 1.7233634354764018, 1.3873208642983739, 1.3387203129520484, 1.712113321541853, 1.8483726986165565, 1.8453361596797444, 1.9463764685917593, 2.4557232387807026, 2.1292942001129838, 2.410359314033898, 1.6159335251476856, 2.0477090478217934, 1.655528571152193, 2.0334561650553846, 1.657735198635677, 1.6629689699272046, 1.390835150665543, 1.5347634519253555, 1.5752005968061447, 1.889822891383042, 1.7656646400991411, 4.6068478283878695, 5.268188412245194, 1.7216688361687, 1.502105456815721, 1.3136917899510505, 1.657735458595525, 2.178237184263218, 1.4205176248968947]}, {\"boxmean\": true, \"name\": \"Prophet - PC aggregated\", \"type\": \"box\", \"y\": [1.394914233119005, 0.8961124747848187, 1.1570618520397427, 0.8817690338367468, 0.7067764220170567, 1.2183947016215366, 0.6568315753460051, 1.194917832188488, 0.9730908430762703, 1.110091081050229, 1.0226473692890266, 1.0635057412326776, 0.6658292956091707, 0.7318697672593263, 1.7019899180537779, 0.8502440623283638, 1.3581638161669982, 1.018864998821758, 0.668130040020375, 0.9270030619098124, 0.7380305565384883, 1.361599644244693, 1.4263042574734122, 1.0050589283515203, 1.3071169397719633, 0.6985795077405857, 0.7550891534028924, 1.268473761626455, 2.1851857632794216, 1.7882434704491696, 1.5815739821817973, 0.8097470302673411, 0.7455162957086061, 0.8182149309230162, 1.0836910451038144, 1.1237059413590562]}, {\"boxmean\": true, \"name\": \"Prophet - Site aggregated\", \"type\": \"box\", \"y\": [1.3998005474695214, 0.9094032420589161, 1.1678967991179456, 0.8900908318206714, 0.7257308618247985, 1.2211839447756125, 0.6709031540911486, 1.2170238948501508, 0.9870622222266549, 1.132863299450275, 1.0595376951066118, 1.0525566581475307, 0.6949741898075442, 0.7622831738854785, 1.7023876355465906, 0.8369182439171967, 1.3711586351420448, 1.0122216920015592, 0.6573449016085497, 0.9403370708970649, 0.7546349121590902, 1.3862669663308334, 1.4318283186252205, 1.020303799990494, 1.3222639373231833, 0.7248160131522127, 0.7522452217832595, 1.2715629363523162, 2.191309026970861, 1.7769088743076042, 1.5653033765574826, 0.7858713500277296, 0.7647647516412505, 0.8320879187831701, 1.1106558552816286, 1.135178464339499]}, {\"boxmean\": true, \"name\": \"Seasonal Naive\", \"type\": \"box\", \"y\": [1.4780371894097077, 0.8108757931193623, 0.9851368717740118, 0.8412022613713731, 0.755382348456642, 0.612166844090761, 0.43585031345239544, 1.1181002430064222, 0.4924402285622381, 0.8916435451782548, 0.41842472894114213, 1.307384594678476, 0.2866599834283844, 0.10984875294350051, 1.764688845434049, 0.9703422553926633, 1.3030478677055288, 1.437270007020137, 0.9547229368649363, 0.6872756624678654, 0.39006824112300315, 1.0429523320936664, 0.6942082552495016, 0.3899611703689176, 0.9780913096604256, 0.7741613096127081, 0.7323568449568453, 0.48894410676422506, 4.763940207017605, 0.8715147927874495, 3.877950101747636, 1.1304166181612112, 0.8768893514040391, 1.0180100510191703, 1.9763814896102938, 1.191756912474073]}],                        {\"font\": {\"size\": 10}, \"showlegend\": false, \"template\": {\"data\": {\"bar\": [{\"error_x\": {\"color\": \"#2a3f5f\"}, \"error_y\": {\"color\": \"#2a3f5f\"}, \"marker\": {\"line\": {\"color\": \"#E5ECF6\", \"width\": 0.5}}, \"type\": \"bar\"}], \"barpolar\": [{\"marker\": {\"line\": {\"color\": \"#E5ECF6\", \"width\": 0.5}}, \"type\": \"barpolar\"}], \"carpet\": [{\"aaxis\": {\"endlinecolor\": \"#2a3f5f\", \"gridcolor\": \"white\", \"linecolor\": \"white\", \"minorgridcolor\": \"white\", \"startlinecolor\": \"#2a3f5f\"}, \"baxis\": {\"endlinecolor\": \"#2a3f5f\", \"gridcolor\": \"white\", \"linecolor\": \"white\", \"minorgridcolor\": \"white\", \"startlinecolor\": \"#2a3f5f\"}, \"type\": \"carpet\"}], \"choropleth\": [{\"colorbar\": {\"outlinewidth\": 0, \"ticks\": \"\"}, \"type\": \"choropleth\"}], \"contour\": [{\"colorbar\": {\"outlinewidth\": 0, \"ticks\": \"\"}, \"colorscale\": [[0.0, \"#0d0887\"], [0.1111111111111111, \"#46039f\"], [0.2222222222222222, \"#7201a8\"], [0.3333333333333333, \"#9c179e\"], [0.4444444444444444, \"#bd3786\"], [0.5555555555555556, \"#d8576b\"], [0.6666666666666666, \"#ed7953\"], [0.7777777777777778, \"#fb9f3a\"], [0.8888888888888888, \"#fdca26\"], [1.0, \"#f0f921\"]], \"type\": \"contour\"}], \"contourcarpet\": [{\"colorbar\": {\"outlinewidth\": 0, \"ticks\": \"\"}, \"type\": \"contourcarpet\"}], \"heatmap\": [{\"colorbar\": {\"outlinewidth\": 0, \"ticks\": \"\"}, \"colorscale\": [[0.0, \"#0d0887\"], [0.1111111111111111, \"#46039f\"], [0.2222222222222222, \"#7201a8\"], [0.3333333333333333, \"#9c179e\"], [0.4444444444444444, \"#bd3786\"], [0.5555555555555556, \"#d8576b\"], [0.6666666666666666, \"#ed7953\"], [0.7777777777777778, \"#fb9f3a\"], [0.8888888888888888, \"#fdca26\"], [1.0, \"#f0f921\"]], \"type\": \"heatmap\"}], \"heatmapgl\": [{\"colorbar\": {\"outlinewidth\": 0, \"ticks\": \"\"}, \"colorscale\": [[0.0, \"#0d0887\"], [0.1111111111111111, \"#46039f\"], [0.2222222222222222, \"#7201a8\"], [0.3333333333333333, \"#9c179e\"], [0.4444444444444444, \"#bd3786\"], [0.5555555555555556, \"#d8576b\"], [0.6666666666666666, \"#ed7953\"], [0.7777777777777778, \"#fb9f3a\"], [0.8888888888888888, \"#fdca26\"], [1.0, \"#f0f921\"]], \"type\": \"heatmapgl\"}], \"histogram\": [{\"marker\": {\"colorbar\": {\"outlinewidth\": 0, \"ticks\": \"\"}}, \"type\": \"histogram\"}], \"histogram2d\": [{\"colorbar\": {\"outlinewidth\": 0, \"ticks\": \"\"}, \"colorscale\": [[0.0, \"#0d0887\"], [0.1111111111111111, \"#46039f\"], [0.2222222222222222, \"#7201a8\"], [0.3333333333333333, \"#9c179e\"], [0.4444444444444444, \"#bd3786\"], [0.5555555555555556, \"#d8576b\"], [0.6666666666666666, \"#ed7953\"], [0.7777777777777778, \"#fb9f3a\"], [0.8888888888888888, \"#fdca26\"], [1.0, \"#f0f921\"]], \"type\": \"histogram2d\"}], \"histogram2dcontour\": [{\"colorbar\": {\"outlinewidth\": 0, \"ticks\": \"\"}, \"colorscale\": [[0.0, \"#0d0887\"], [0.1111111111111111, \"#46039f\"], [0.2222222222222222, \"#7201a8\"], [0.3333333333333333, \"#9c179e\"], [0.4444444444444444, \"#bd3786\"], [0.5555555555555556, \"#d8576b\"], [0.6666666666666666, \"#ed7953\"], [0.7777777777777778, \"#fb9f3a\"], [0.8888888888888888, \"#fdca26\"], [1.0, \"#f0f921\"]], \"type\": \"histogram2dcontour\"}], \"mesh3d\": [{\"colorbar\": {\"outlinewidth\": 0, \"ticks\": \"\"}, \"type\": \"mesh3d\"}], \"parcoords\": [{\"line\": {\"colorbar\": {\"outlinewidth\": 0, \"ticks\": \"\"}}, \"type\": \"parcoords\"}], \"pie\": [{\"automargin\": true, \"type\": \"pie\"}], \"scatter\": [{\"marker\": {\"colorbar\": {\"outlinewidth\": 0, \"ticks\": \"\"}}, \"type\": \"scatter\"}], \"scatter3d\": [{\"line\": {\"colorbar\": {\"outlinewidth\": 0, \"ticks\": \"\"}}, \"marker\": {\"colorbar\": {\"outlinewidth\": 0, \"ticks\": \"\"}}, \"type\": \"scatter3d\"}], \"scattercarpet\": [{\"marker\": {\"colorbar\": {\"outlinewidth\": 0, \"ticks\": \"\"}}, \"type\": \"scattercarpet\"}], \"scattergeo\": [{\"marker\": {\"colorbar\": {\"outlinewidth\": 0, \"ticks\": \"\"}}, \"type\": \"scattergeo\"}], \"scattergl\": [{\"marker\": {\"colorbar\": {\"outlinewidth\": 0, \"ticks\": \"\"}}, \"type\": \"scattergl\"}], \"scattermapbox\": [{\"marker\": {\"colorbar\": {\"outlinewidth\": 0, \"ticks\": \"\"}}, \"type\": \"scattermapbox\"}], \"scatterpolar\": [{\"marker\": {\"colorbar\": {\"outlinewidth\": 0, \"ticks\": \"\"}}, \"type\": \"scatterpolar\"}], \"scatterpolargl\": [{\"marker\": {\"colorbar\": {\"outlinewidth\": 0, \"ticks\": \"\"}}, \"type\": \"scatterpolargl\"}], \"scatterternary\": [{\"marker\": {\"colorbar\": {\"outlinewidth\": 0, \"ticks\": \"\"}}, \"type\": \"scatterternary\"}], \"surface\": [{\"colorbar\": {\"outlinewidth\": 0, \"ticks\": \"\"}, \"colorscale\": [[0.0, \"#0d0887\"], [0.1111111111111111, \"#46039f\"], [0.2222222222222222, \"#7201a8\"], [0.3333333333333333, \"#9c179e\"], [0.4444444444444444, \"#bd3786\"], [0.5555555555555556, \"#d8576b\"], [0.6666666666666666, \"#ed7953\"], [0.7777777777777778, \"#fb9f3a\"], [0.8888888888888888, \"#fdca26\"], [1.0, \"#f0f921\"]], \"type\": \"surface\"}], \"table\": [{\"cells\": {\"fill\": {\"color\": \"#EBF0F8\"}, \"line\": {\"color\": \"white\"}}, \"header\": {\"fill\": {\"color\": \"#C8D4E3\"}, \"line\": {\"color\": \"white\"}}, \"type\": \"table\"}]}, \"layout\": {\"annotationdefaults\": {\"arrowcolor\": \"#2a3f5f\", \"arrowhead\": 0, \"arrowwidth\": 1}, \"autotypenumbers\": \"strict\", \"coloraxis\": {\"colorbar\": {\"outlinewidth\": 0, \"ticks\": \"\"}}, \"colorscale\": {\"diverging\": [[0, \"#8e0152\"], [0.1, \"#c51b7d\"], [0.2, \"#de77ae\"], [0.3, \"#f1b6da\"], [0.4, \"#fde0ef\"], [0.5, \"#f7f7f7\"], [0.6, \"#e6f5d0\"], [0.7, \"#b8e186\"], [0.8, \"#7fbc41\"], [0.9, \"#4d9221\"], [1, \"#276419\"]], \"sequential\": [[0.0, \"#0d0887\"], [0.1111111111111111, \"#46039f\"], [0.2222222222222222, \"#7201a8\"], [0.3333333333333333, \"#9c179e\"], [0.4444444444444444, \"#bd3786\"], [0.5555555555555556, \"#d8576b\"], [0.6666666666666666, \"#ed7953\"], [0.7777777777777778, \"#fb9f3a\"], [0.8888888888888888, \"#fdca26\"], [1.0, \"#f0f921\"]], \"sequentialminus\": [[0.0, \"#0d0887\"], [0.1111111111111111, \"#46039f\"], [0.2222222222222222, \"#7201a8\"], [0.3333333333333333, \"#9c179e\"], [0.4444444444444444, \"#bd3786\"], [0.5555555555555556, \"#d8576b\"], [0.6666666666666666, \"#ed7953\"], [0.7777777777777778, \"#fb9f3a\"], [0.8888888888888888, \"#fdca26\"], [1.0, \"#f0f921\"]]}, \"colorway\": [\"#636efa\", \"#EF553B\", \"#00cc96\", \"#ab63fa\", \"#FFA15A\", \"#19d3f3\", \"#FF6692\", \"#B6E880\", \"#FF97FF\", \"#FECB52\"], \"font\": {\"color\": \"#2a3f5f\"}, \"geo\": {\"bgcolor\": \"white\", \"lakecolor\": \"white\", \"landcolor\": \"#E5ECF6\", \"showlakes\": true, \"showland\": true, \"subunitcolor\": \"white\"}, \"hoverlabel\": {\"align\": \"left\"}, \"hovermode\": \"closest\", \"mapbox\": {\"style\": \"light\"}, \"paper_bgcolor\": \"white\", \"plot_bgcolor\": \"#E5ECF6\", \"polar\": {\"angularaxis\": {\"gridcolor\": \"white\", \"linecolor\": \"white\", \"ticks\": \"\"}, \"bgcolor\": \"#E5ECF6\", \"radialaxis\": {\"gridcolor\": \"white\", \"linecolor\": \"white\", \"ticks\": \"\"}}, \"scene\": {\"xaxis\": {\"backgroundcolor\": \"#E5ECF6\", \"gridcolor\": \"white\", \"gridwidth\": 2, \"linecolor\": \"white\", \"showbackground\": true, \"ticks\": \"\", \"zerolinecolor\": \"white\"}, \"yaxis\": {\"backgroundcolor\": \"#E5ECF6\", \"gridcolor\": \"white\", \"gridwidth\": 2, \"linecolor\": \"white\", \"showbackground\": true, \"ticks\": \"\", \"zerolinecolor\": \"white\"}, \"zaxis\": {\"backgroundcolor\": \"#E5ECF6\", \"gridcolor\": \"white\", \"gridwidth\": 2, \"linecolor\": \"white\", \"showbackground\": true, \"ticks\": \"\", \"zerolinecolor\": \"white\"}}, \"shapedefaults\": {\"line\": {\"color\": \"#2a3f5f\"}}, \"ternary\": {\"aaxis\": {\"gridcolor\": \"white\", \"linecolor\": \"white\", \"ticks\": \"\"}, \"baxis\": {\"gridcolor\": \"white\", \"linecolor\": \"white\", \"ticks\": \"\"}, \"bgcolor\": \"#E5ECF6\", \"caxis\": {\"gridcolor\": \"white\", \"linecolor\": \"white\", \"ticks\": \"\"}}, \"title\": {\"x\": 0.05}, \"xaxis\": {\"automargin\": true, \"gridcolor\": \"white\", \"linecolor\": \"white\", \"ticks\": \"\", \"title\": {\"standoff\": 15}, \"zerolinecolor\": \"white\", \"zerolinewidth\": 2}, \"yaxis\": {\"automargin\": true, \"gridcolor\": \"white\", \"linecolor\": \"white\", \"ticks\": \"\", \"title\": {\"standoff\": 15}, \"zerolinecolor\": \"white\", \"zerolinewidth\": 2}}}, \"title\": {\"text\": \"Grid level forecasts (MASE across 36 samples)\"}, \"xaxis\": {\"title\": {\"text\": \"\"}}, \"yaxis\": {\"title\": {\"text\": \"MASE distribution\"}}},                        {\"responsive\": true}                    ).then(function(){\n",
       "                            \n",
       "var gd = document.getElementById('cc1bf155-3335-4696-a5ba-2ad32543454d');\n",
       "var x = new MutationObserver(function (mutations, observer) {{\n",
       "        var display = window.getComputedStyle(gd).display;\n",
       "        if (!display || display === 'none') {{\n",
       "            console.log([gd, 'removed!']);\n",
       "            Plotly.purge(gd);\n",
       "            observer.disconnect();\n",
       "        }}\n",
       "}});\n",
       "\n",
       "// Listen for the removal of the full notebook cells\n",
       "var notebookContainer = gd.closest('#notebook-container');\n",
       "if (notebookContainer) {{\n",
       "    x.observe(notebookContainer, {childList: true});\n",
       "}}\n",
       "\n",
       "// Listen for the clearing of the current output cell\n",
       "var outputEl = gd.closest('.output');\n",
       "if (outputEl) {{\n",
       "    x.observe(outputEl, {childList: true});\n",
       "}}\n",
       "\n",
       "                        })                };                });            </script>        </div>"
      ]
     },
     "metadata": {},
     "output_type": "display_data"
    }
   ],
   "source": [
    "# name = ['LSTM - Grid', 'LSTM - TL aggregated', 'LSTM - SUB aggregated', 'LSTM - PC aggregated', \n",
    "#                 'LSTM - Site aggregated', 'CNN - Grid', 'CNN - TL aggregated', 'CNN - SUB aggregated', \n",
    "#                 'CNN - PC aggregated', 'CNN - Site aggregated', 'Auto ARIMA - Grid']\n",
    "\n",
    "fig = go.Figure()\n",
    "count = 0\n",
    "for col in grid_error_dist.keys():\n",
    "    box_data = grid_error_dist[col]\n",
    "    fig.add_trace(go.Box(y=box_data, name = column_names[count], boxmean=True))\n",
    "    count = count+1\n",
    "    \n",
    "for col in grid_error_dist_tcn.keys():\n",
    "    box_data = grid_error_dist_tcn[col]\n",
    "    fig.add_trace(go.Box(y=box_data, name = column_names[count], boxmean = True))\n",
    "    count = count+1\n",
    "    \n",
    "for col in grid_error_dist_arima.keys():\n",
    "    box_data = grid_error_dist_arima[col]\n",
    "    fig.add_trace(go.Box(y=box_data, name = column_names[count], boxmean = True))\n",
    "    count = count+1\n",
    "    \n",
    "for col in grid_error_dist_tbats.keys():\n",
    "    box_data = grid_error_dist_tbats[col]\n",
    "    fig.add_trace(go.Box(y=box_data, name = column_names[count], boxmean = True))\n",
    "    count = count+1\n",
    "    \n",
    "for col in grid_error_dist_prophet.keys():\n",
    "    box_data = grid_error_dist_prophet[col]\n",
    "    fig.add_trace(go.Box(y=box_data, name = column_names[count], boxmean = True))\n",
    "    count = count+1\n",
    "    \n",
    "\n",
    "box_data = grid_error_dist_naive['grid']\n",
    "fig.add_trace(go.Box(y=box_data, name = column_names[count], boxmean = True))\n",
    "count = count+1\n",
    "    \n",
    "\n",
    "fig.update_xaxes(title = '')\n",
    "fig.update_yaxes(title = 'MASE distribution')\n",
    "fig.update_layout(title = \"Grid level forecasts (MASE across 36 samples)\", showlegend = False, font = dict(size=10))"
   ]
  },
  {
   "cell_type": "code",
   "execution_count": 31,
   "metadata": {},
   "outputs": [
    {
     "data": {
      "application/vnd.plotly.v1+json": {
       "config": {
        "plotlyServerURL": "https://plot.ly"
       },
       "data": [
        {
         "name": "LSTM",
         "type": "bar",
         "x": [
          "grid",
          "tl",
          "sub",
          "postcode",
          "site"
         ],
         "y": [
          1.4682344960050517,
          1.4161838795685473,
          1.3301243981021185,
          1.1232270135712665,
          1.0460804320469836
         ]
        },
        {
         "name": "Dilated Convolutions",
         "type": "bar",
         "x": [
          "grid",
          "tl",
          "sub",
          "postcode",
          "site"
         ],
         "y": [
          4.2918113989711175,
          4.28469467940106,
          4.287845892628007,
          1.2286402051735898,
          1.1889993045941918
         ]
        }
       ],
       "layout": {
        "barmode": "group",
        "template": {
         "data": {
          "bar": [
           {
            "error_x": {
             "color": "#2a3f5f"
            },
            "error_y": {
             "color": "#2a3f5f"
            },
            "marker": {
             "line": {
              "color": "#E5ECF6",
              "width": 0.5
             }
            },
            "type": "bar"
           }
          ],
          "barpolar": [
           {
            "marker": {
             "line": {
              "color": "#E5ECF6",
              "width": 0.5
             }
            },
            "type": "barpolar"
           }
          ],
          "carpet": [
           {
            "aaxis": {
             "endlinecolor": "#2a3f5f",
             "gridcolor": "white",
             "linecolor": "white",
             "minorgridcolor": "white",
             "startlinecolor": "#2a3f5f"
            },
            "baxis": {
             "endlinecolor": "#2a3f5f",
             "gridcolor": "white",
             "linecolor": "white",
             "minorgridcolor": "white",
             "startlinecolor": "#2a3f5f"
            },
            "type": "carpet"
           }
          ],
          "choropleth": [
           {
            "colorbar": {
             "outlinewidth": 0,
             "ticks": ""
            },
            "type": "choropleth"
           }
          ],
          "contour": [
           {
            "colorbar": {
             "outlinewidth": 0,
             "ticks": ""
            },
            "colorscale": [
             [
              0,
              "#0d0887"
             ],
             [
              0.1111111111111111,
              "#46039f"
             ],
             [
              0.2222222222222222,
              "#7201a8"
             ],
             [
              0.3333333333333333,
              "#9c179e"
             ],
             [
              0.4444444444444444,
              "#bd3786"
             ],
             [
              0.5555555555555556,
              "#d8576b"
             ],
             [
              0.6666666666666666,
              "#ed7953"
             ],
             [
              0.7777777777777778,
              "#fb9f3a"
             ],
             [
              0.8888888888888888,
              "#fdca26"
             ],
             [
              1,
              "#f0f921"
             ]
            ],
            "type": "contour"
           }
          ],
          "contourcarpet": [
           {
            "colorbar": {
             "outlinewidth": 0,
             "ticks": ""
            },
            "type": "contourcarpet"
           }
          ],
          "heatmap": [
           {
            "colorbar": {
             "outlinewidth": 0,
             "ticks": ""
            },
            "colorscale": [
             [
              0,
              "#0d0887"
             ],
             [
              0.1111111111111111,
              "#46039f"
             ],
             [
              0.2222222222222222,
              "#7201a8"
             ],
             [
              0.3333333333333333,
              "#9c179e"
             ],
             [
              0.4444444444444444,
              "#bd3786"
             ],
             [
              0.5555555555555556,
              "#d8576b"
             ],
             [
              0.6666666666666666,
              "#ed7953"
             ],
             [
              0.7777777777777778,
              "#fb9f3a"
             ],
             [
              0.8888888888888888,
              "#fdca26"
             ],
             [
              1,
              "#f0f921"
             ]
            ],
            "type": "heatmap"
           }
          ],
          "heatmapgl": [
           {
            "colorbar": {
             "outlinewidth": 0,
             "ticks": ""
            },
            "colorscale": [
             [
              0,
              "#0d0887"
             ],
             [
              0.1111111111111111,
              "#46039f"
             ],
             [
              0.2222222222222222,
              "#7201a8"
             ],
             [
              0.3333333333333333,
              "#9c179e"
             ],
             [
              0.4444444444444444,
              "#bd3786"
             ],
             [
              0.5555555555555556,
              "#d8576b"
             ],
             [
              0.6666666666666666,
              "#ed7953"
             ],
             [
              0.7777777777777778,
              "#fb9f3a"
             ],
             [
              0.8888888888888888,
              "#fdca26"
             ],
             [
              1,
              "#f0f921"
             ]
            ],
            "type": "heatmapgl"
           }
          ],
          "histogram": [
           {
            "marker": {
             "colorbar": {
              "outlinewidth": 0,
              "ticks": ""
             }
            },
            "type": "histogram"
           }
          ],
          "histogram2d": [
           {
            "colorbar": {
             "outlinewidth": 0,
             "ticks": ""
            },
            "colorscale": [
             [
              0,
              "#0d0887"
             ],
             [
              0.1111111111111111,
              "#46039f"
             ],
             [
              0.2222222222222222,
              "#7201a8"
             ],
             [
              0.3333333333333333,
              "#9c179e"
             ],
             [
              0.4444444444444444,
              "#bd3786"
             ],
             [
              0.5555555555555556,
              "#d8576b"
             ],
             [
              0.6666666666666666,
              "#ed7953"
             ],
             [
              0.7777777777777778,
              "#fb9f3a"
             ],
             [
              0.8888888888888888,
              "#fdca26"
             ],
             [
              1,
              "#f0f921"
             ]
            ],
            "type": "histogram2d"
           }
          ],
          "histogram2dcontour": [
           {
            "colorbar": {
             "outlinewidth": 0,
             "ticks": ""
            },
            "colorscale": [
             [
              0,
              "#0d0887"
             ],
             [
              0.1111111111111111,
              "#46039f"
             ],
             [
              0.2222222222222222,
              "#7201a8"
             ],
             [
              0.3333333333333333,
              "#9c179e"
             ],
             [
              0.4444444444444444,
              "#bd3786"
             ],
             [
              0.5555555555555556,
              "#d8576b"
             ],
             [
              0.6666666666666666,
              "#ed7953"
             ],
             [
              0.7777777777777778,
              "#fb9f3a"
             ],
             [
              0.8888888888888888,
              "#fdca26"
             ],
             [
              1,
              "#f0f921"
             ]
            ],
            "type": "histogram2dcontour"
           }
          ],
          "mesh3d": [
           {
            "colorbar": {
             "outlinewidth": 0,
             "ticks": ""
            },
            "type": "mesh3d"
           }
          ],
          "parcoords": [
           {
            "line": {
             "colorbar": {
              "outlinewidth": 0,
              "ticks": ""
             }
            },
            "type": "parcoords"
           }
          ],
          "pie": [
           {
            "automargin": true,
            "type": "pie"
           }
          ],
          "scatter": [
           {
            "marker": {
             "colorbar": {
              "outlinewidth": 0,
              "ticks": ""
             }
            },
            "type": "scatter"
           }
          ],
          "scatter3d": [
           {
            "line": {
             "colorbar": {
              "outlinewidth": 0,
              "ticks": ""
             }
            },
            "marker": {
             "colorbar": {
              "outlinewidth": 0,
              "ticks": ""
             }
            },
            "type": "scatter3d"
           }
          ],
          "scattercarpet": [
           {
            "marker": {
             "colorbar": {
              "outlinewidth": 0,
              "ticks": ""
             }
            },
            "type": "scattercarpet"
           }
          ],
          "scattergeo": [
           {
            "marker": {
             "colorbar": {
              "outlinewidth": 0,
              "ticks": ""
             }
            },
            "type": "scattergeo"
           }
          ],
          "scattergl": [
           {
            "marker": {
             "colorbar": {
              "outlinewidth": 0,
              "ticks": ""
             }
            },
            "type": "scattergl"
           }
          ],
          "scattermapbox": [
           {
            "marker": {
             "colorbar": {
              "outlinewidth": 0,
              "ticks": ""
             }
            },
            "type": "scattermapbox"
           }
          ],
          "scatterpolar": [
           {
            "marker": {
             "colorbar": {
              "outlinewidth": 0,
              "ticks": ""
             }
            },
            "type": "scatterpolar"
           }
          ],
          "scatterpolargl": [
           {
            "marker": {
             "colorbar": {
              "outlinewidth": 0,
              "ticks": ""
             }
            },
            "type": "scatterpolargl"
           }
          ],
          "scatterternary": [
           {
            "marker": {
             "colorbar": {
              "outlinewidth": 0,
              "ticks": ""
             }
            },
            "type": "scatterternary"
           }
          ],
          "surface": [
           {
            "colorbar": {
             "outlinewidth": 0,
             "ticks": ""
            },
            "colorscale": [
             [
              0,
              "#0d0887"
             ],
             [
              0.1111111111111111,
              "#46039f"
             ],
             [
              0.2222222222222222,
              "#7201a8"
             ],
             [
              0.3333333333333333,
              "#9c179e"
             ],
             [
              0.4444444444444444,
              "#bd3786"
             ],
             [
              0.5555555555555556,
              "#d8576b"
             ],
             [
              0.6666666666666666,
              "#ed7953"
             ],
             [
              0.7777777777777778,
              "#fb9f3a"
             ],
             [
              0.8888888888888888,
              "#fdca26"
             ],
             [
              1,
              "#f0f921"
             ]
            ],
            "type": "surface"
           }
          ],
          "table": [
           {
            "cells": {
             "fill": {
              "color": "#EBF0F8"
             },
             "line": {
              "color": "white"
             }
            },
            "header": {
             "fill": {
              "color": "#C8D4E3"
             },
             "line": {
              "color": "white"
             }
            },
            "type": "table"
           }
          ]
         },
         "layout": {
          "annotationdefaults": {
           "arrowcolor": "#2a3f5f",
           "arrowhead": 0,
           "arrowwidth": 1
          },
          "autotypenumbers": "strict",
          "coloraxis": {
           "colorbar": {
            "outlinewidth": 0,
            "ticks": ""
           }
          },
          "colorscale": {
           "diverging": [
            [
             0,
             "#8e0152"
            ],
            [
             0.1,
             "#c51b7d"
            ],
            [
             0.2,
             "#de77ae"
            ],
            [
             0.3,
             "#f1b6da"
            ],
            [
             0.4,
             "#fde0ef"
            ],
            [
             0.5,
             "#f7f7f7"
            ],
            [
             0.6,
             "#e6f5d0"
            ],
            [
             0.7,
             "#b8e186"
            ],
            [
             0.8,
             "#7fbc41"
            ],
            [
             0.9,
             "#4d9221"
            ],
            [
             1,
             "#276419"
            ]
           ],
           "sequential": [
            [
             0,
             "#0d0887"
            ],
            [
             0.1111111111111111,
             "#46039f"
            ],
            [
             0.2222222222222222,
             "#7201a8"
            ],
            [
             0.3333333333333333,
             "#9c179e"
            ],
            [
             0.4444444444444444,
             "#bd3786"
            ],
            [
             0.5555555555555556,
             "#d8576b"
            ],
            [
             0.6666666666666666,
             "#ed7953"
            ],
            [
             0.7777777777777778,
             "#fb9f3a"
            ],
            [
             0.8888888888888888,
             "#fdca26"
            ],
            [
             1,
             "#f0f921"
            ]
           ],
           "sequentialminus": [
            [
             0,
             "#0d0887"
            ],
            [
             0.1111111111111111,
             "#46039f"
            ],
            [
             0.2222222222222222,
             "#7201a8"
            ],
            [
             0.3333333333333333,
             "#9c179e"
            ],
            [
             0.4444444444444444,
             "#bd3786"
            ],
            [
             0.5555555555555556,
             "#d8576b"
            ],
            [
             0.6666666666666666,
             "#ed7953"
            ],
            [
             0.7777777777777778,
             "#fb9f3a"
            ],
            [
             0.8888888888888888,
             "#fdca26"
            ],
            [
             1,
             "#f0f921"
            ]
           ]
          },
          "colorway": [
           "#636efa",
           "#EF553B",
           "#00cc96",
           "#ab63fa",
           "#FFA15A",
           "#19d3f3",
           "#FF6692",
           "#B6E880",
           "#FF97FF",
           "#FECB52"
          ],
          "font": {
           "color": "#2a3f5f"
          },
          "geo": {
           "bgcolor": "white",
           "lakecolor": "white",
           "landcolor": "#E5ECF6",
           "showlakes": true,
           "showland": true,
           "subunitcolor": "white"
          },
          "hoverlabel": {
           "align": "left"
          },
          "hovermode": "closest",
          "mapbox": {
           "style": "light"
          },
          "paper_bgcolor": "white",
          "plot_bgcolor": "#E5ECF6",
          "polar": {
           "angularaxis": {
            "gridcolor": "white",
            "linecolor": "white",
            "ticks": ""
           },
           "bgcolor": "#E5ECF6",
           "radialaxis": {
            "gridcolor": "white",
            "linecolor": "white",
            "ticks": ""
           }
          },
          "scene": {
           "xaxis": {
            "backgroundcolor": "#E5ECF6",
            "gridcolor": "white",
            "gridwidth": 2,
            "linecolor": "white",
            "showbackground": true,
            "ticks": "",
            "zerolinecolor": "white"
           },
           "yaxis": {
            "backgroundcolor": "#E5ECF6",
            "gridcolor": "white",
            "gridwidth": 2,
            "linecolor": "white",
            "showbackground": true,
            "ticks": "",
            "zerolinecolor": "white"
           },
           "zaxis": {
            "backgroundcolor": "#E5ECF6",
            "gridcolor": "white",
            "gridwidth": 2,
            "linecolor": "white",
            "showbackground": true,
            "ticks": "",
            "zerolinecolor": "white"
           }
          },
          "shapedefaults": {
           "line": {
            "color": "#2a3f5f"
           }
          },
          "ternary": {
           "aaxis": {
            "gridcolor": "white",
            "linecolor": "white",
            "ticks": ""
           },
           "baxis": {
            "gridcolor": "white",
            "linecolor": "white",
            "ticks": ""
           },
           "bgcolor": "#E5ECF6",
           "caxis": {
            "gridcolor": "white",
            "linecolor": "white",
            "ticks": ""
           }
          },
          "title": {
           "x": 0.05
          },
          "xaxis": {
           "automargin": true,
           "gridcolor": "white",
           "linecolor": "white",
           "ticks": "",
           "title": {
            "standoff": 15
           },
           "zerolinecolor": "white",
           "zerolinewidth": 2
          },
          "yaxis": {
           "automargin": true,
           "gridcolor": "white",
           "linecolor": "white",
           "ticks": "",
           "title": {
            "standoff": 15
           },
           "zerolinecolor": "white",
           "zerolinewidth": 2
          }
         }
        },
        "title": {
         "text": "Grid level forecasts - Mean MASE (1 day ahead - 1 hour resolution)"
        }
       }
      },
      "text/html": [
       "<div>                            <div id=\"ce0f9fd8-2380-4568-9be8-99fcfccb431a\" class=\"plotly-graph-div\" style=\"height:525px; width:100%;\"></div>            <script type=\"text/javascript\">                require([\"plotly\"], function(Plotly) {                    window.PLOTLYENV=window.PLOTLYENV || {};                                    if (document.getElementById(\"ce0f9fd8-2380-4568-9be8-99fcfccb431a\")) {                    Plotly.newPlot(                        \"ce0f9fd8-2380-4568-9be8-99fcfccb431a\",                        [{\"name\": \"LSTM\", \"type\": \"bar\", \"x\": [\"grid\", \"tl\", \"sub\", \"postcode\", \"site\"], \"y\": [1.4682344960050517, 1.4161838795685473, 1.3301243981021185, 1.1232270135712665, 1.0460804320469836]}, {\"name\": \"Dilated Convolutions\", \"type\": \"bar\", \"x\": [\"grid\", \"tl\", \"sub\", \"postcode\", \"site\"], \"y\": [4.2918113989711175, 4.28469467940106, 4.287845892628007, 1.2286402051735898, 1.1889993045941918]}],                        {\"barmode\": \"group\", \"template\": {\"data\": {\"bar\": [{\"error_x\": {\"color\": \"#2a3f5f\"}, \"error_y\": {\"color\": \"#2a3f5f\"}, \"marker\": {\"line\": {\"color\": \"#E5ECF6\", \"width\": 0.5}}, \"type\": \"bar\"}], \"barpolar\": [{\"marker\": {\"line\": {\"color\": \"#E5ECF6\", \"width\": 0.5}}, \"type\": \"barpolar\"}], \"carpet\": [{\"aaxis\": {\"endlinecolor\": \"#2a3f5f\", \"gridcolor\": \"white\", \"linecolor\": \"white\", \"minorgridcolor\": \"white\", \"startlinecolor\": \"#2a3f5f\"}, \"baxis\": {\"endlinecolor\": \"#2a3f5f\", \"gridcolor\": \"white\", \"linecolor\": \"white\", \"minorgridcolor\": \"white\", \"startlinecolor\": \"#2a3f5f\"}, \"type\": \"carpet\"}], \"choropleth\": [{\"colorbar\": {\"outlinewidth\": 0, \"ticks\": \"\"}, \"type\": \"choropleth\"}], \"contour\": [{\"colorbar\": {\"outlinewidth\": 0, \"ticks\": \"\"}, \"colorscale\": [[0.0, \"#0d0887\"], [0.1111111111111111, \"#46039f\"], [0.2222222222222222, \"#7201a8\"], [0.3333333333333333, \"#9c179e\"], [0.4444444444444444, \"#bd3786\"], [0.5555555555555556, \"#d8576b\"], [0.6666666666666666, \"#ed7953\"], [0.7777777777777778, \"#fb9f3a\"], [0.8888888888888888, \"#fdca26\"], [1.0, \"#f0f921\"]], \"type\": \"contour\"}], \"contourcarpet\": [{\"colorbar\": {\"outlinewidth\": 0, \"ticks\": \"\"}, \"type\": \"contourcarpet\"}], \"heatmap\": [{\"colorbar\": {\"outlinewidth\": 0, \"ticks\": \"\"}, \"colorscale\": [[0.0, \"#0d0887\"], [0.1111111111111111, \"#46039f\"], [0.2222222222222222, \"#7201a8\"], [0.3333333333333333, \"#9c179e\"], [0.4444444444444444, \"#bd3786\"], [0.5555555555555556, \"#d8576b\"], [0.6666666666666666, \"#ed7953\"], [0.7777777777777778, \"#fb9f3a\"], [0.8888888888888888, \"#fdca26\"], [1.0, \"#f0f921\"]], \"type\": \"heatmap\"}], \"heatmapgl\": [{\"colorbar\": {\"outlinewidth\": 0, \"ticks\": \"\"}, \"colorscale\": [[0.0, \"#0d0887\"], [0.1111111111111111, \"#46039f\"], [0.2222222222222222, \"#7201a8\"], [0.3333333333333333, \"#9c179e\"], [0.4444444444444444, \"#bd3786\"], [0.5555555555555556, \"#d8576b\"], [0.6666666666666666, \"#ed7953\"], [0.7777777777777778, \"#fb9f3a\"], [0.8888888888888888, \"#fdca26\"], [1.0, \"#f0f921\"]], \"type\": \"heatmapgl\"}], \"histogram\": [{\"marker\": {\"colorbar\": {\"outlinewidth\": 0, \"ticks\": \"\"}}, \"type\": \"histogram\"}], \"histogram2d\": [{\"colorbar\": {\"outlinewidth\": 0, \"ticks\": \"\"}, \"colorscale\": [[0.0, \"#0d0887\"], [0.1111111111111111, \"#46039f\"], [0.2222222222222222, \"#7201a8\"], [0.3333333333333333, \"#9c179e\"], [0.4444444444444444, \"#bd3786\"], [0.5555555555555556, \"#d8576b\"], [0.6666666666666666, \"#ed7953\"], [0.7777777777777778, \"#fb9f3a\"], [0.8888888888888888, \"#fdca26\"], [1.0, \"#f0f921\"]], \"type\": \"histogram2d\"}], \"histogram2dcontour\": [{\"colorbar\": {\"outlinewidth\": 0, \"ticks\": \"\"}, \"colorscale\": [[0.0, \"#0d0887\"], [0.1111111111111111, \"#46039f\"], [0.2222222222222222, \"#7201a8\"], [0.3333333333333333, \"#9c179e\"], [0.4444444444444444, \"#bd3786\"], [0.5555555555555556, \"#d8576b\"], [0.6666666666666666, \"#ed7953\"], [0.7777777777777778, \"#fb9f3a\"], [0.8888888888888888, \"#fdca26\"], [1.0, \"#f0f921\"]], \"type\": \"histogram2dcontour\"}], \"mesh3d\": [{\"colorbar\": {\"outlinewidth\": 0, \"ticks\": \"\"}, \"type\": \"mesh3d\"}], \"parcoords\": [{\"line\": {\"colorbar\": {\"outlinewidth\": 0, \"ticks\": \"\"}}, \"type\": \"parcoords\"}], \"pie\": [{\"automargin\": true, \"type\": \"pie\"}], \"scatter\": [{\"marker\": {\"colorbar\": {\"outlinewidth\": 0, \"ticks\": \"\"}}, \"type\": \"scatter\"}], \"scatter3d\": [{\"line\": {\"colorbar\": {\"outlinewidth\": 0, \"ticks\": \"\"}}, \"marker\": {\"colorbar\": {\"outlinewidth\": 0, \"ticks\": \"\"}}, \"type\": \"scatter3d\"}], \"scattercarpet\": [{\"marker\": {\"colorbar\": {\"outlinewidth\": 0, \"ticks\": \"\"}}, \"type\": \"scattercarpet\"}], \"scattergeo\": [{\"marker\": {\"colorbar\": {\"outlinewidth\": 0, \"ticks\": \"\"}}, \"type\": \"scattergeo\"}], \"scattergl\": [{\"marker\": {\"colorbar\": {\"outlinewidth\": 0, \"ticks\": \"\"}}, \"type\": \"scattergl\"}], \"scattermapbox\": [{\"marker\": {\"colorbar\": {\"outlinewidth\": 0, \"ticks\": \"\"}}, \"type\": \"scattermapbox\"}], \"scatterpolar\": [{\"marker\": {\"colorbar\": {\"outlinewidth\": 0, \"ticks\": \"\"}}, \"type\": \"scatterpolar\"}], \"scatterpolargl\": [{\"marker\": {\"colorbar\": {\"outlinewidth\": 0, \"ticks\": \"\"}}, \"type\": \"scatterpolargl\"}], \"scatterternary\": [{\"marker\": {\"colorbar\": {\"outlinewidth\": 0, \"ticks\": \"\"}}, \"type\": \"scatterternary\"}], \"surface\": [{\"colorbar\": {\"outlinewidth\": 0, \"ticks\": \"\"}, \"colorscale\": [[0.0, \"#0d0887\"], [0.1111111111111111, \"#46039f\"], [0.2222222222222222, \"#7201a8\"], [0.3333333333333333, \"#9c179e\"], [0.4444444444444444, \"#bd3786\"], [0.5555555555555556, \"#d8576b\"], [0.6666666666666666, \"#ed7953\"], [0.7777777777777778, \"#fb9f3a\"], [0.8888888888888888, \"#fdca26\"], [1.0, \"#f0f921\"]], \"type\": \"surface\"}], \"table\": [{\"cells\": {\"fill\": {\"color\": \"#EBF0F8\"}, \"line\": {\"color\": \"white\"}}, \"header\": {\"fill\": {\"color\": \"#C8D4E3\"}, \"line\": {\"color\": \"white\"}}, \"type\": \"table\"}]}, \"layout\": {\"annotationdefaults\": {\"arrowcolor\": \"#2a3f5f\", \"arrowhead\": 0, \"arrowwidth\": 1}, \"autotypenumbers\": \"strict\", \"coloraxis\": {\"colorbar\": {\"outlinewidth\": 0, \"ticks\": \"\"}}, \"colorscale\": {\"diverging\": [[0, \"#8e0152\"], [0.1, \"#c51b7d\"], [0.2, \"#de77ae\"], [0.3, \"#f1b6da\"], [0.4, \"#fde0ef\"], [0.5, \"#f7f7f7\"], [0.6, \"#e6f5d0\"], [0.7, \"#b8e186\"], [0.8, \"#7fbc41\"], [0.9, \"#4d9221\"], [1, \"#276419\"]], \"sequential\": [[0.0, \"#0d0887\"], [0.1111111111111111, \"#46039f\"], [0.2222222222222222, \"#7201a8\"], [0.3333333333333333, \"#9c179e\"], [0.4444444444444444, \"#bd3786\"], [0.5555555555555556, \"#d8576b\"], [0.6666666666666666, \"#ed7953\"], [0.7777777777777778, \"#fb9f3a\"], [0.8888888888888888, \"#fdca26\"], [1.0, \"#f0f921\"]], \"sequentialminus\": [[0.0, \"#0d0887\"], [0.1111111111111111, \"#46039f\"], [0.2222222222222222, \"#7201a8\"], [0.3333333333333333, \"#9c179e\"], [0.4444444444444444, \"#bd3786\"], [0.5555555555555556, \"#d8576b\"], [0.6666666666666666, \"#ed7953\"], [0.7777777777777778, \"#fb9f3a\"], [0.8888888888888888, \"#fdca26\"], [1.0, \"#f0f921\"]]}, \"colorway\": [\"#636efa\", \"#EF553B\", \"#00cc96\", \"#ab63fa\", \"#FFA15A\", \"#19d3f3\", \"#FF6692\", \"#B6E880\", \"#FF97FF\", \"#FECB52\"], \"font\": {\"color\": \"#2a3f5f\"}, \"geo\": {\"bgcolor\": \"white\", \"lakecolor\": \"white\", \"landcolor\": \"#E5ECF6\", \"showlakes\": true, \"showland\": true, \"subunitcolor\": \"white\"}, \"hoverlabel\": {\"align\": \"left\"}, \"hovermode\": \"closest\", \"mapbox\": {\"style\": \"light\"}, \"paper_bgcolor\": \"white\", \"plot_bgcolor\": \"#E5ECF6\", \"polar\": {\"angularaxis\": {\"gridcolor\": \"white\", \"linecolor\": \"white\", \"ticks\": \"\"}, \"bgcolor\": \"#E5ECF6\", \"radialaxis\": {\"gridcolor\": \"white\", \"linecolor\": \"white\", \"ticks\": \"\"}}, \"scene\": {\"xaxis\": {\"backgroundcolor\": \"#E5ECF6\", \"gridcolor\": \"white\", \"gridwidth\": 2, \"linecolor\": \"white\", \"showbackground\": true, \"ticks\": \"\", \"zerolinecolor\": \"white\"}, \"yaxis\": {\"backgroundcolor\": \"#E5ECF6\", \"gridcolor\": \"white\", \"gridwidth\": 2, \"linecolor\": \"white\", \"showbackground\": true, \"ticks\": \"\", \"zerolinecolor\": \"white\"}, \"zaxis\": {\"backgroundcolor\": \"#E5ECF6\", \"gridcolor\": \"white\", \"gridwidth\": 2, \"linecolor\": \"white\", \"showbackground\": true, \"ticks\": \"\", \"zerolinecolor\": \"white\"}}, \"shapedefaults\": {\"line\": {\"color\": \"#2a3f5f\"}}, \"ternary\": {\"aaxis\": {\"gridcolor\": \"white\", \"linecolor\": \"white\", \"ticks\": \"\"}, \"baxis\": {\"gridcolor\": \"white\", \"linecolor\": \"white\", \"ticks\": \"\"}, \"bgcolor\": \"#E5ECF6\", \"caxis\": {\"gridcolor\": \"white\", \"linecolor\": \"white\", \"ticks\": \"\"}}, \"title\": {\"x\": 0.05}, \"xaxis\": {\"automargin\": true, \"gridcolor\": \"white\", \"linecolor\": \"white\", \"ticks\": \"\", \"title\": {\"standoff\": 15}, \"zerolinecolor\": \"white\", \"zerolinewidth\": 2}, \"yaxis\": {\"automargin\": true, \"gridcolor\": \"white\", \"linecolor\": \"white\", \"ticks\": \"\", \"title\": {\"standoff\": 15}, \"zerolinecolor\": \"white\", \"zerolinewidth\": 2}}}, \"title\": {\"text\": \"Grid level forecasts - Mean MASE (1 day ahead - 1 hour resolution)\"}},                        {\"responsive\": true}                    ).then(function(){\n",
       "                            \n",
       "var gd = document.getElementById('ce0f9fd8-2380-4568-9be8-99fcfccb431a');\n",
       "var x = new MutationObserver(function (mutations, observer) {{\n",
       "        var display = window.getComputedStyle(gd).display;\n",
       "        if (!display || display === 'none') {{\n",
       "            console.log([gd, 'removed!']);\n",
       "            Plotly.purge(gd);\n",
       "            observer.disconnect();\n",
       "        }}\n",
       "}});\n",
       "\n",
       "// Listen for the removal of the full notebook cells\n",
       "var notebookContainer = gd.closest('#notebook-container');\n",
       "if (notebookContainer) {{\n",
       "    x.observe(notebookContainer, {childList: true});\n",
       "}}\n",
       "\n",
       "// Listen for the clearing of the current output cell\n",
       "var outputEl = gd.closest('.output');\n",
       "if (outputEl) {{\n",
       "    x.observe(outputEl, {childList: true});\n",
       "}}\n",
       "\n",
       "                        })                };                });            </script>        </div>"
      ]
     },
     "metadata": {},
     "output_type": "display_data"
    }
   ],
   "source": [
    "x_vals = ['grid', 'tl', 'sub', 'postcode', 'site']\n",
    "fig = go.Figure(data=[\n",
    "    go.Bar(name='LSTM', x=x_vals, y=grid_error),\n",
    "    go.Bar(name='Dilated Convolutions', x=x_vals, y=grid_error_tcn)\n",
    "])\n",
    "# Change the bar mode\n",
    "fig.update_layout(barmode='group')\n",
    "fig.update_layout(title='Grid level forecasts - Mean MASE (1 day ahead - 1 hour resolution)')\n",
    "fig.show()"
   ]
  },
  {
   "cell_type": "code",
   "execution_count": 35,
   "metadata": {},
   "outputs": [
    {
     "data": {
      "application/vnd.plotly.v1+json": {
       "config": {
        "plotlyServerURL": "https://plot.ly"
       },
       "data": [
        {
         "name": "grid",
         "type": "box",
         "y": [
          1.23547745107944,
          1.1171429020335122,
          0.7993274321385548,
          2.1183795343935286,
          1.3654891288518574,
          1.6989868378112882,
          2.136336256443193,
          1.2464064115386664,
          1.2955410825714222,
          0.7400306503522828,
          0.7036381697845254,
          1.1393532583725903,
          1.92668375728067,
          1.8386193050825739,
          1.770227352937064,
          0.880602900359924,
          1.4034838598729507,
          0.7868948666647183,
          2.2941460958013953,
          1.678766431123849,
          1.9676526113571438,
          1.2715129122100806,
          1.3142094996562086,
          0.8946901131977759,
          0.7833009868244336,
          1.185205404608998,
          1.4496242597059354,
          1.3694847353739186,
          3.583397694767865,
          2.8223650979252968,
          1.2001564873190311,
          0.6941539591930219,
          1.5868498558438444,
          1.506019136246795,
          1.875881845915804,
          1.1764035715417063
         ]
        },
        {
         "name": "tl",
         "type": "box",
         "y": [
          1.256506029183189,
          1.0032597616646375,
          1.2863189358011344,
          2.27452775708439,
          1.1527365805741552,
          1.7189638851812865,
          1.390930663257258,
          1.127812526159815,
          1.0007819841584353,
          0.5557449694198604,
          0.8820445353505396,
          1.5195199908985997,
          2.3655747317251885,
          1.7161247778343445,
          1.6625693777885637,
          0.6589237797823734,
          1.4270339930307578,
          0.9033379429792744,
          1.9681134473868664,
          2.1383426649792665,
          1.4914373151440554,
          0.9283073677172713,
          1.171082864129151,
          0.601143562451509,
          0.8316492975842156,
          1.6219005445067707,
          1.1443936013162719,
          1.3969034280953132,
          3.7227746405020463,
          3.2920229961206675,
          1.2303582908106052,
          0.8379174203453713,
          1.281825283377554,
          1.0582987476277819,
          1.5627522335054422,
          0.8006837369937311
         ]
        },
        {
         "name": "sub",
         "type": "box",
         "y": [
          1.3914132958342778,
          0.8787285723955524,
          1.2166071593414618,
          2.2837718228660613,
          0.5873153713106204,
          1.3814326106464823,
          1.4537051180735077,
          1.3114169582238708,
          0.8885321881195437,
          0.5770905981348067,
          0.6888111309784944,
          1.0275077969725055,
          2.614877457135982,
          1.0895104237278128,
          1.7439793873624578,
          0.6798350424104423,
          1.2461438134461658,
          0.948764584307949,
          2.0500196417320957,
          2.0298690566482165,
          0.8560992072629299,
          0.9915283379695033,
          1.028271109369425,
          0.67740289625415,
          0.9732806246097275,
          1.177147322438563,
          0.8536203337602739,
          1.4718119833523038,
          3.8158150564409747,
          3.0775358249032077,
          1.2730124895432682,
          0.6585522430331193,
          0.8735042063371141,
          1.0611927825296035,
          1.8024822031925622,
          1.2038896810112265
         ]
        },
        {
         "name": "pc",
         "type": "box",
         "y": [
          1.0894238351686074,
          1.3551896973531952,
          0.8070394817263182,
          1.58877691601331,
          0.38167853552512765,
          1.3667283353365605,
          1.6038469669201945,
          0.8337623763158151,
          1.1429323536943825,
          0.5544579864541486,
          0.7759105133321672,
          1.22580180776688,
          1.3612243343069814,
          1.1449052144386285,
          1.454588677831103,
          1.028489386391424,
          1.5960906004202091,
          0.7219746083930515,
          0.7891658664344597,
          1.2858377187298407,
          1.040194120638353,
          0.835644010328415,
          1.219527497699469,
          0.8773054939196011,
          0.6049531453261432,
          0.877793379051834,
          1.498856433041793,
          1.4468416395980463,
          3.2294684759909305,
          1.5670076296963156,
          1.1912992473076962,
          0.5793107653633339,
          0.5716247168659594,
          0.9568416811628363,
          1.2301474755299773,
          0.6015315644924867
         ]
        },
        {
         "name": "site",
         "type": "box",
         "y": [
          1.0485525998434915,
          1.1322375052720883,
          0.77281830390968,
          1.3315791855944243,
          0.4471480112606331,
          1.392655416714112,
          1.619498198087184,
          0.8762127640848533,
          1.0310062550303936,
          0.5054590982175392,
          0.593560061260968,
          1.1323068226066153,
          1.2659903158402261,
          1.0831592278089615,
          1.4580983942515704,
          0.7311030759243397,
          1.4288224169385764,
          0.6835409715871551,
          0.813864478663678,
          1.1599142569417966,
          1.169894877913663,
          0.8931246051531231,
          0.9326214913920724,
          0.7052517533179083,
          0.439191765071324,
          0.6745570357487853,
          1.2058303487755804,
          0.9486584895045113,
          3.017678751870492,
          1.3854282307438255,
          1.6355066058869434,
          0.5854126347703069,
          0.6010995208833927,
          0.8192938494398216,
          1.4529334087085846,
          0.6848848246727857
         ]
        }
       ],
       "layout": {
        "showlegend": false,
        "template": {
         "data": {
          "bar": [
           {
            "error_x": {
             "color": "#2a3f5f"
            },
            "error_y": {
             "color": "#2a3f5f"
            },
            "marker": {
             "line": {
              "color": "#E5ECF6",
              "width": 0.5
             }
            },
            "type": "bar"
           }
          ],
          "barpolar": [
           {
            "marker": {
             "line": {
              "color": "#E5ECF6",
              "width": 0.5
             }
            },
            "type": "barpolar"
           }
          ],
          "carpet": [
           {
            "aaxis": {
             "endlinecolor": "#2a3f5f",
             "gridcolor": "white",
             "linecolor": "white",
             "minorgridcolor": "white",
             "startlinecolor": "#2a3f5f"
            },
            "baxis": {
             "endlinecolor": "#2a3f5f",
             "gridcolor": "white",
             "linecolor": "white",
             "minorgridcolor": "white",
             "startlinecolor": "#2a3f5f"
            },
            "type": "carpet"
           }
          ],
          "choropleth": [
           {
            "colorbar": {
             "outlinewidth": 0,
             "ticks": ""
            },
            "type": "choropleth"
           }
          ],
          "contour": [
           {
            "colorbar": {
             "outlinewidth": 0,
             "ticks": ""
            },
            "colorscale": [
             [
              0,
              "#0d0887"
             ],
             [
              0.1111111111111111,
              "#46039f"
             ],
             [
              0.2222222222222222,
              "#7201a8"
             ],
             [
              0.3333333333333333,
              "#9c179e"
             ],
             [
              0.4444444444444444,
              "#bd3786"
             ],
             [
              0.5555555555555556,
              "#d8576b"
             ],
             [
              0.6666666666666666,
              "#ed7953"
             ],
             [
              0.7777777777777778,
              "#fb9f3a"
             ],
             [
              0.8888888888888888,
              "#fdca26"
             ],
             [
              1,
              "#f0f921"
             ]
            ],
            "type": "contour"
           }
          ],
          "contourcarpet": [
           {
            "colorbar": {
             "outlinewidth": 0,
             "ticks": ""
            },
            "type": "contourcarpet"
           }
          ],
          "heatmap": [
           {
            "colorbar": {
             "outlinewidth": 0,
             "ticks": ""
            },
            "colorscale": [
             [
              0,
              "#0d0887"
             ],
             [
              0.1111111111111111,
              "#46039f"
             ],
             [
              0.2222222222222222,
              "#7201a8"
             ],
             [
              0.3333333333333333,
              "#9c179e"
             ],
             [
              0.4444444444444444,
              "#bd3786"
             ],
             [
              0.5555555555555556,
              "#d8576b"
             ],
             [
              0.6666666666666666,
              "#ed7953"
             ],
             [
              0.7777777777777778,
              "#fb9f3a"
             ],
             [
              0.8888888888888888,
              "#fdca26"
             ],
             [
              1,
              "#f0f921"
             ]
            ],
            "type": "heatmap"
           }
          ],
          "heatmapgl": [
           {
            "colorbar": {
             "outlinewidth": 0,
             "ticks": ""
            },
            "colorscale": [
             [
              0,
              "#0d0887"
             ],
             [
              0.1111111111111111,
              "#46039f"
             ],
             [
              0.2222222222222222,
              "#7201a8"
             ],
             [
              0.3333333333333333,
              "#9c179e"
             ],
             [
              0.4444444444444444,
              "#bd3786"
             ],
             [
              0.5555555555555556,
              "#d8576b"
             ],
             [
              0.6666666666666666,
              "#ed7953"
             ],
             [
              0.7777777777777778,
              "#fb9f3a"
             ],
             [
              0.8888888888888888,
              "#fdca26"
             ],
             [
              1,
              "#f0f921"
             ]
            ],
            "type": "heatmapgl"
           }
          ],
          "histogram": [
           {
            "marker": {
             "colorbar": {
              "outlinewidth": 0,
              "ticks": ""
             }
            },
            "type": "histogram"
           }
          ],
          "histogram2d": [
           {
            "colorbar": {
             "outlinewidth": 0,
             "ticks": ""
            },
            "colorscale": [
             [
              0,
              "#0d0887"
             ],
             [
              0.1111111111111111,
              "#46039f"
             ],
             [
              0.2222222222222222,
              "#7201a8"
             ],
             [
              0.3333333333333333,
              "#9c179e"
             ],
             [
              0.4444444444444444,
              "#bd3786"
             ],
             [
              0.5555555555555556,
              "#d8576b"
             ],
             [
              0.6666666666666666,
              "#ed7953"
             ],
             [
              0.7777777777777778,
              "#fb9f3a"
             ],
             [
              0.8888888888888888,
              "#fdca26"
             ],
             [
              1,
              "#f0f921"
             ]
            ],
            "type": "histogram2d"
           }
          ],
          "histogram2dcontour": [
           {
            "colorbar": {
             "outlinewidth": 0,
             "ticks": ""
            },
            "colorscale": [
             [
              0,
              "#0d0887"
             ],
             [
              0.1111111111111111,
              "#46039f"
             ],
             [
              0.2222222222222222,
              "#7201a8"
             ],
             [
              0.3333333333333333,
              "#9c179e"
             ],
             [
              0.4444444444444444,
              "#bd3786"
             ],
             [
              0.5555555555555556,
              "#d8576b"
             ],
             [
              0.6666666666666666,
              "#ed7953"
             ],
             [
              0.7777777777777778,
              "#fb9f3a"
             ],
             [
              0.8888888888888888,
              "#fdca26"
             ],
             [
              1,
              "#f0f921"
             ]
            ],
            "type": "histogram2dcontour"
           }
          ],
          "mesh3d": [
           {
            "colorbar": {
             "outlinewidth": 0,
             "ticks": ""
            },
            "type": "mesh3d"
           }
          ],
          "parcoords": [
           {
            "line": {
             "colorbar": {
              "outlinewidth": 0,
              "ticks": ""
             }
            },
            "type": "parcoords"
           }
          ],
          "pie": [
           {
            "automargin": true,
            "type": "pie"
           }
          ],
          "scatter": [
           {
            "marker": {
             "colorbar": {
              "outlinewidth": 0,
              "ticks": ""
             }
            },
            "type": "scatter"
           }
          ],
          "scatter3d": [
           {
            "line": {
             "colorbar": {
              "outlinewidth": 0,
              "ticks": ""
             }
            },
            "marker": {
             "colorbar": {
              "outlinewidth": 0,
              "ticks": ""
             }
            },
            "type": "scatter3d"
           }
          ],
          "scattercarpet": [
           {
            "marker": {
             "colorbar": {
              "outlinewidth": 0,
              "ticks": ""
             }
            },
            "type": "scattercarpet"
           }
          ],
          "scattergeo": [
           {
            "marker": {
             "colorbar": {
              "outlinewidth": 0,
              "ticks": ""
             }
            },
            "type": "scattergeo"
           }
          ],
          "scattergl": [
           {
            "marker": {
             "colorbar": {
              "outlinewidth": 0,
              "ticks": ""
             }
            },
            "type": "scattergl"
           }
          ],
          "scattermapbox": [
           {
            "marker": {
             "colorbar": {
              "outlinewidth": 0,
              "ticks": ""
             }
            },
            "type": "scattermapbox"
           }
          ],
          "scatterpolar": [
           {
            "marker": {
             "colorbar": {
              "outlinewidth": 0,
              "ticks": ""
             }
            },
            "type": "scatterpolar"
           }
          ],
          "scatterpolargl": [
           {
            "marker": {
             "colorbar": {
              "outlinewidth": 0,
              "ticks": ""
             }
            },
            "type": "scatterpolargl"
           }
          ],
          "scatterternary": [
           {
            "marker": {
             "colorbar": {
              "outlinewidth": 0,
              "ticks": ""
             }
            },
            "type": "scatterternary"
           }
          ],
          "surface": [
           {
            "colorbar": {
             "outlinewidth": 0,
             "ticks": ""
            },
            "colorscale": [
             [
              0,
              "#0d0887"
             ],
             [
              0.1111111111111111,
              "#46039f"
             ],
             [
              0.2222222222222222,
              "#7201a8"
             ],
             [
              0.3333333333333333,
              "#9c179e"
             ],
             [
              0.4444444444444444,
              "#bd3786"
             ],
             [
              0.5555555555555556,
              "#d8576b"
             ],
             [
              0.6666666666666666,
              "#ed7953"
             ],
             [
              0.7777777777777778,
              "#fb9f3a"
             ],
             [
              0.8888888888888888,
              "#fdca26"
             ],
             [
              1,
              "#f0f921"
             ]
            ],
            "type": "surface"
           }
          ],
          "table": [
           {
            "cells": {
             "fill": {
              "color": "#EBF0F8"
             },
             "line": {
              "color": "white"
             }
            },
            "header": {
             "fill": {
              "color": "#C8D4E3"
             },
             "line": {
              "color": "white"
             }
            },
            "type": "table"
           }
          ]
         },
         "layout": {
          "annotationdefaults": {
           "arrowcolor": "#2a3f5f",
           "arrowhead": 0,
           "arrowwidth": 1
          },
          "autotypenumbers": "strict",
          "coloraxis": {
           "colorbar": {
            "outlinewidth": 0,
            "ticks": ""
           }
          },
          "colorscale": {
           "diverging": [
            [
             0,
             "#8e0152"
            ],
            [
             0.1,
             "#c51b7d"
            ],
            [
             0.2,
             "#de77ae"
            ],
            [
             0.3,
             "#f1b6da"
            ],
            [
             0.4,
             "#fde0ef"
            ],
            [
             0.5,
             "#f7f7f7"
            ],
            [
             0.6,
             "#e6f5d0"
            ],
            [
             0.7,
             "#b8e186"
            ],
            [
             0.8,
             "#7fbc41"
            ],
            [
             0.9,
             "#4d9221"
            ],
            [
             1,
             "#276419"
            ]
           ],
           "sequential": [
            [
             0,
             "#0d0887"
            ],
            [
             0.1111111111111111,
             "#46039f"
            ],
            [
             0.2222222222222222,
             "#7201a8"
            ],
            [
             0.3333333333333333,
             "#9c179e"
            ],
            [
             0.4444444444444444,
             "#bd3786"
            ],
            [
             0.5555555555555556,
             "#d8576b"
            ],
            [
             0.6666666666666666,
             "#ed7953"
            ],
            [
             0.7777777777777778,
             "#fb9f3a"
            ],
            [
             0.8888888888888888,
             "#fdca26"
            ],
            [
             1,
             "#f0f921"
            ]
           ],
           "sequentialminus": [
            [
             0,
             "#0d0887"
            ],
            [
             0.1111111111111111,
             "#46039f"
            ],
            [
             0.2222222222222222,
             "#7201a8"
            ],
            [
             0.3333333333333333,
             "#9c179e"
            ],
            [
             0.4444444444444444,
             "#bd3786"
            ],
            [
             0.5555555555555556,
             "#d8576b"
            ],
            [
             0.6666666666666666,
             "#ed7953"
            ],
            [
             0.7777777777777778,
             "#fb9f3a"
            ],
            [
             0.8888888888888888,
             "#fdca26"
            ],
            [
             1,
             "#f0f921"
            ]
           ]
          },
          "colorway": [
           "#636efa",
           "#EF553B",
           "#00cc96",
           "#ab63fa",
           "#FFA15A",
           "#19d3f3",
           "#FF6692",
           "#B6E880",
           "#FF97FF",
           "#FECB52"
          ],
          "font": {
           "color": "#2a3f5f"
          },
          "geo": {
           "bgcolor": "white",
           "lakecolor": "white",
           "landcolor": "#E5ECF6",
           "showlakes": true,
           "showland": true,
           "subunitcolor": "white"
          },
          "hoverlabel": {
           "align": "left"
          },
          "hovermode": "closest",
          "mapbox": {
           "style": "light"
          },
          "paper_bgcolor": "white",
          "plot_bgcolor": "#E5ECF6",
          "polar": {
           "angularaxis": {
            "gridcolor": "white",
            "linecolor": "white",
            "ticks": ""
           },
           "bgcolor": "#E5ECF6",
           "radialaxis": {
            "gridcolor": "white",
            "linecolor": "white",
            "ticks": ""
           }
          },
          "scene": {
           "xaxis": {
            "backgroundcolor": "#E5ECF6",
            "gridcolor": "white",
            "gridwidth": 2,
            "linecolor": "white",
            "showbackground": true,
            "ticks": "",
            "zerolinecolor": "white"
           },
           "yaxis": {
            "backgroundcolor": "#E5ECF6",
            "gridcolor": "white",
            "gridwidth": 2,
            "linecolor": "white",
            "showbackground": true,
            "ticks": "",
            "zerolinecolor": "white"
           },
           "zaxis": {
            "backgroundcolor": "#E5ECF6",
            "gridcolor": "white",
            "gridwidth": 2,
            "linecolor": "white",
            "showbackground": true,
            "ticks": "",
            "zerolinecolor": "white"
           }
          },
          "shapedefaults": {
           "line": {
            "color": "#2a3f5f"
           }
          },
          "ternary": {
           "aaxis": {
            "gridcolor": "white",
            "linecolor": "white",
            "ticks": ""
           },
           "baxis": {
            "gridcolor": "white",
            "linecolor": "white",
            "ticks": ""
           },
           "bgcolor": "#E5ECF6",
           "caxis": {
            "gridcolor": "white",
            "linecolor": "white",
            "ticks": ""
           }
          },
          "title": {
           "x": 0.05
          },
          "xaxis": {
           "automargin": true,
           "gridcolor": "white",
           "linecolor": "white",
           "ticks": "",
           "title": {
            "standoff": 15
           },
           "zerolinecolor": "white",
           "zerolinewidth": 2
          },
          "yaxis": {
           "automargin": true,
           "gridcolor": "white",
           "linecolor": "white",
           "ticks": "",
           "title": {
            "standoff": 15
           },
           "zerolinecolor": "white",
           "zerolinewidth": 2
          }
         }
        },
        "title": {
         "text": "Grid level forecasts - Model LSTM"
        },
        "xaxis": {
         "title": {
          "text": "BU strategy - ts hierarchy level"
         }
        },
        "yaxis": {
         "title": {
          "text": "MASE distribution"
         }
        }
       }
      },
      "text/html": [
       "<div>                            <div id=\"456df3ce-cd8c-43cd-8ebc-b8b297f83413\" class=\"plotly-graph-div\" style=\"height:525px; width:100%;\"></div>            <script type=\"text/javascript\">                require([\"plotly\"], function(Plotly) {                    window.PLOTLYENV=window.PLOTLYENV || {};                                    if (document.getElementById(\"456df3ce-cd8c-43cd-8ebc-b8b297f83413\")) {                    Plotly.newPlot(                        \"456df3ce-cd8c-43cd-8ebc-b8b297f83413\",                        [{\"name\": \"grid\", \"type\": \"box\", \"y\": [1.23547745107944, 1.1171429020335122, 0.7993274321385548, 2.1183795343935286, 1.3654891288518574, 1.6989868378112882, 2.136336256443193, 1.2464064115386664, 1.2955410825714222, 0.7400306503522828, 0.7036381697845254, 1.1393532583725903, 1.92668375728067, 1.8386193050825739, 1.770227352937064, 0.880602900359924, 1.4034838598729507, 0.7868948666647183, 2.2941460958013953, 1.678766431123849, 1.9676526113571438, 1.2715129122100806, 1.3142094996562086, 0.8946901131977759, 0.7833009868244336, 1.185205404608998, 1.4496242597059354, 1.3694847353739186, 3.583397694767865, 2.8223650979252968, 1.2001564873190311, 0.6941539591930219, 1.5868498558438444, 1.506019136246795, 1.875881845915804, 1.1764035715417063]}, {\"name\": \"tl\", \"type\": \"box\", \"y\": [1.256506029183189, 1.0032597616646375, 1.2863189358011344, 2.27452775708439, 1.1527365805741552, 1.7189638851812865, 1.390930663257258, 1.127812526159815, 1.0007819841584353, 0.5557449694198604, 0.8820445353505396, 1.5195199908985997, 2.3655747317251885, 1.7161247778343445, 1.6625693777885637, 0.6589237797823734, 1.4270339930307578, 0.9033379429792744, 1.9681134473868664, 2.1383426649792665, 1.4914373151440554, 0.9283073677172713, 1.171082864129151, 0.601143562451509, 0.8316492975842156, 1.6219005445067707, 1.1443936013162719, 1.3969034280953132, 3.7227746405020463, 3.2920229961206675, 1.2303582908106052, 0.8379174203453713, 1.281825283377554, 1.0582987476277819, 1.5627522335054422, 0.8006837369937311]}, {\"name\": \"sub\", \"type\": \"box\", \"y\": [1.3914132958342778, 0.8787285723955524, 1.2166071593414618, 2.2837718228660613, 0.5873153713106204, 1.3814326106464823, 1.4537051180735077, 1.3114169582238708, 0.8885321881195437, 0.5770905981348067, 0.6888111309784944, 1.0275077969725055, 2.614877457135982, 1.0895104237278128, 1.7439793873624578, 0.6798350424104423, 1.2461438134461658, 0.948764584307949, 2.0500196417320957, 2.0298690566482165, 0.8560992072629299, 0.9915283379695033, 1.028271109369425, 0.67740289625415, 0.9732806246097275, 1.177147322438563, 0.8536203337602739, 1.4718119833523038, 3.8158150564409747, 3.0775358249032077, 1.2730124895432682, 0.6585522430331193, 0.8735042063371141, 1.0611927825296035, 1.8024822031925622, 1.2038896810112265]}, {\"name\": \"pc\", \"type\": \"box\", \"y\": [1.0894238351686074, 1.3551896973531952, 0.8070394817263182, 1.58877691601331, 0.38167853552512765, 1.3667283353365605, 1.6038469669201945, 0.8337623763158151, 1.1429323536943825, 0.5544579864541486, 0.7759105133321672, 1.22580180776688, 1.3612243343069814, 1.1449052144386285, 1.454588677831103, 1.028489386391424, 1.5960906004202091, 0.7219746083930515, 0.7891658664344597, 1.2858377187298407, 1.040194120638353, 0.835644010328415, 1.219527497699469, 0.8773054939196011, 0.6049531453261432, 0.877793379051834, 1.498856433041793, 1.4468416395980463, 3.2294684759909305, 1.5670076296963156, 1.1912992473076962, 0.5793107653633339, 0.5716247168659594, 0.9568416811628363, 1.2301474755299773, 0.6015315644924867]}, {\"name\": \"site\", \"type\": \"box\", \"y\": [1.0485525998434915, 1.1322375052720883, 0.77281830390968, 1.3315791855944243, 0.4471480112606331, 1.392655416714112, 1.619498198087184, 0.8762127640848533, 1.0310062550303936, 0.5054590982175392, 0.593560061260968, 1.1323068226066153, 1.2659903158402261, 1.0831592278089615, 1.4580983942515704, 0.7311030759243397, 1.4288224169385764, 0.6835409715871551, 0.813864478663678, 1.1599142569417966, 1.169894877913663, 0.8931246051531231, 0.9326214913920724, 0.7052517533179083, 0.439191765071324, 0.6745570357487853, 1.2058303487755804, 0.9486584895045113, 3.017678751870492, 1.3854282307438255, 1.6355066058869434, 0.5854126347703069, 0.6010995208833927, 0.8192938494398216, 1.4529334087085846, 0.6848848246727857]}],                        {\"showlegend\": false, \"template\": {\"data\": {\"bar\": [{\"error_x\": {\"color\": \"#2a3f5f\"}, \"error_y\": {\"color\": \"#2a3f5f\"}, \"marker\": {\"line\": {\"color\": \"#E5ECF6\", \"width\": 0.5}}, \"type\": \"bar\"}], \"barpolar\": [{\"marker\": {\"line\": {\"color\": \"#E5ECF6\", \"width\": 0.5}}, \"type\": \"barpolar\"}], \"carpet\": [{\"aaxis\": {\"endlinecolor\": \"#2a3f5f\", \"gridcolor\": \"white\", \"linecolor\": \"white\", \"minorgridcolor\": \"white\", \"startlinecolor\": \"#2a3f5f\"}, \"baxis\": {\"endlinecolor\": \"#2a3f5f\", \"gridcolor\": \"white\", \"linecolor\": \"white\", \"minorgridcolor\": \"white\", \"startlinecolor\": \"#2a3f5f\"}, \"type\": \"carpet\"}], \"choropleth\": [{\"colorbar\": {\"outlinewidth\": 0, \"ticks\": \"\"}, \"type\": \"choropleth\"}], \"contour\": [{\"colorbar\": {\"outlinewidth\": 0, \"ticks\": \"\"}, \"colorscale\": [[0.0, \"#0d0887\"], [0.1111111111111111, \"#46039f\"], [0.2222222222222222, \"#7201a8\"], [0.3333333333333333, \"#9c179e\"], [0.4444444444444444, \"#bd3786\"], [0.5555555555555556, \"#d8576b\"], [0.6666666666666666, \"#ed7953\"], [0.7777777777777778, \"#fb9f3a\"], [0.8888888888888888, \"#fdca26\"], [1.0, \"#f0f921\"]], \"type\": \"contour\"}], \"contourcarpet\": [{\"colorbar\": {\"outlinewidth\": 0, \"ticks\": \"\"}, \"type\": \"contourcarpet\"}], \"heatmap\": [{\"colorbar\": {\"outlinewidth\": 0, \"ticks\": \"\"}, \"colorscale\": [[0.0, \"#0d0887\"], [0.1111111111111111, \"#46039f\"], [0.2222222222222222, \"#7201a8\"], [0.3333333333333333, \"#9c179e\"], [0.4444444444444444, \"#bd3786\"], [0.5555555555555556, \"#d8576b\"], [0.6666666666666666, \"#ed7953\"], [0.7777777777777778, \"#fb9f3a\"], [0.8888888888888888, \"#fdca26\"], [1.0, \"#f0f921\"]], \"type\": \"heatmap\"}], \"heatmapgl\": [{\"colorbar\": {\"outlinewidth\": 0, \"ticks\": \"\"}, \"colorscale\": [[0.0, \"#0d0887\"], [0.1111111111111111, \"#46039f\"], [0.2222222222222222, \"#7201a8\"], [0.3333333333333333, \"#9c179e\"], [0.4444444444444444, \"#bd3786\"], [0.5555555555555556, \"#d8576b\"], [0.6666666666666666, \"#ed7953\"], [0.7777777777777778, \"#fb9f3a\"], [0.8888888888888888, \"#fdca26\"], [1.0, \"#f0f921\"]], \"type\": \"heatmapgl\"}], \"histogram\": [{\"marker\": {\"colorbar\": {\"outlinewidth\": 0, \"ticks\": \"\"}}, \"type\": \"histogram\"}], \"histogram2d\": [{\"colorbar\": {\"outlinewidth\": 0, \"ticks\": \"\"}, \"colorscale\": [[0.0, \"#0d0887\"], [0.1111111111111111, \"#46039f\"], [0.2222222222222222, \"#7201a8\"], [0.3333333333333333, \"#9c179e\"], [0.4444444444444444, \"#bd3786\"], [0.5555555555555556, \"#d8576b\"], [0.6666666666666666, \"#ed7953\"], [0.7777777777777778, \"#fb9f3a\"], [0.8888888888888888, \"#fdca26\"], [1.0, \"#f0f921\"]], \"type\": \"histogram2d\"}], \"histogram2dcontour\": [{\"colorbar\": {\"outlinewidth\": 0, \"ticks\": \"\"}, \"colorscale\": [[0.0, \"#0d0887\"], [0.1111111111111111, \"#46039f\"], [0.2222222222222222, \"#7201a8\"], [0.3333333333333333, \"#9c179e\"], [0.4444444444444444, \"#bd3786\"], [0.5555555555555556, \"#d8576b\"], [0.6666666666666666, \"#ed7953\"], [0.7777777777777778, \"#fb9f3a\"], [0.8888888888888888, \"#fdca26\"], [1.0, \"#f0f921\"]], \"type\": \"histogram2dcontour\"}], \"mesh3d\": [{\"colorbar\": {\"outlinewidth\": 0, \"ticks\": \"\"}, \"type\": \"mesh3d\"}], \"parcoords\": [{\"line\": {\"colorbar\": {\"outlinewidth\": 0, \"ticks\": \"\"}}, \"type\": \"parcoords\"}], \"pie\": [{\"automargin\": true, \"type\": \"pie\"}], \"scatter\": [{\"marker\": {\"colorbar\": {\"outlinewidth\": 0, \"ticks\": \"\"}}, \"type\": \"scatter\"}], \"scatter3d\": [{\"line\": {\"colorbar\": {\"outlinewidth\": 0, \"ticks\": \"\"}}, \"marker\": {\"colorbar\": {\"outlinewidth\": 0, \"ticks\": \"\"}}, \"type\": \"scatter3d\"}], \"scattercarpet\": [{\"marker\": {\"colorbar\": {\"outlinewidth\": 0, \"ticks\": \"\"}}, \"type\": \"scattercarpet\"}], \"scattergeo\": [{\"marker\": {\"colorbar\": {\"outlinewidth\": 0, \"ticks\": \"\"}}, \"type\": \"scattergeo\"}], \"scattergl\": [{\"marker\": {\"colorbar\": {\"outlinewidth\": 0, \"ticks\": \"\"}}, \"type\": \"scattergl\"}], \"scattermapbox\": [{\"marker\": {\"colorbar\": {\"outlinewidth\": 0, \"ticks\": \"\"}}, \"type\": \"scattermapbox\"}], \"scatterpolar\": [{\"marker\": {\"colorbar\": {\"outlinewidth\": 0, \"ticks\": \"\"}}, \"type\": \"scatterpolar\"}], \"scatterpolargl\": [{\"marker\": {\"colorbar\": {\"outlinewidth\": 0, \"ticks\": \"\"}}, \"type\": \"scatterpolargl\"}], \"scatterternary\": [{\"marker\": {\"colorbar\": {\"outlinewidth\": 0, \"ticks\": \"\"}}, \"type\": \"scatterternary\"}], \"surface\": [{\"colorbar\": {\"outlinewidth\": 0, \"ticks\": \"\"}, \"colorscale\": [[0.0, \"#0d0887\"], [0.1111111111111111, \"#46039f\"], [0.2222222222222222, \"#7201a8\"], [0.3333333333333333, \"#9c179e\"], [0.4444444444444444, \"#bd3786\"], [0.5555555555555556, \"#d8576b\"], [0.6666666666666666, \"#ed7953\"], [0.7777777777777778, \"#fb9f3a\"], [0.8888888888888888, \"#fdca26\"], [1.0, \"#f0f921\"]], \"type\": \"surface\"}], \"table\": [{\"cells\": {\"fill\": {\"color\": \"#EBF0F8\"}, \"line\": {\"color\": \"white\"}}, \"header\": {\"fill\": {\"color\": \"#C8D4E3\"}, \"line\": {\"color\": \"white\"}}, \"type\": \"table\"}]}, \"layout\": {\"annotationdefaults\": {\"arrowcolor\": \"#2a3f5f\", \"arrowhead\": 0, \"arrowwidth\": 1}, \"autotypenumbers\": \"strict\", \"coloraxis\": {\"colorbar\": {\"outlinewidth\": 0, \"ticks\": \"\"}}, \"colorscale\": {\"diverging\": [[0, \"#8e0152\"], [0.1, \"#c51b7d\"], [0.2, \"#de77ae\"], [0.3, \"#f1b6da\"], [0.4, \"#fde0ef\"], [0.5, \"#f7f7f7\"], [0.6, \"#e6f5d0\"], [0.7, \"#b8e186\"], [0.8, \"#7fbc41\"], [0.9, \"#4d9221\"], [1, \"#276419\"]], \"sequential\": [[0.0, \"#0d0887\"], [0.1111111111111111, \"#46039f\"], [0.2222222222222222, \"#7201a8\"], [0.3333333333333333, \"#9c179e\"], [0.4444444444444444, \"#bd3786\"], [0.5555555555555556, \"#d8576b\"], [0.6666666666666666, \"#ed7953\"], [0.7777777777777778, \"#fb9f3a\"], [0.8888888888888888, \"#fdca26\"], [1.0, \"#f0f921\"]], \"sequentialminus\": [[0.0, \"#0d0887\"], [0.1111111111111111, \"#46039f\"], [0.2222222222222222, \"#7201a8\"], [0.3333333333333333, \"#9c179e\"], [0.4444444444444444, \"#bd3786\"], [0.5555555555555556, \"#d8576b\"], [0.6666666666666666, \"#ed7953\"], [0.7777777777777778, \"#fb9f3a\"], [0.8888888888888888, \"#fdca26\"], [1.0, \"#f0f921\"]]}, \"colorway\": [\"#636efa\", \"#EF553B\", \"#00cc96\", \"#ab63fa\", \"#FFA15A\", \"#19d3f3\", \"#FF6692\", \"#B6E880\", \"#FF97FF\", \"#FECB52\"], \"font\": {\"color\": \"#2a3f5f\"}, \"geo\": {\"bgcolor\": \"white\", \"lakecolor\": \"white\", \"landcolor\": \"#E5ECF6\", \"showlakes\": true, \"showland\": true, \"subunitcolor\": \"white\"}, \"hoverlabel\": {\"align\": \"left\"}, \"hovermode\": \"closest\", \"mapbox\": {\"style\": \"light\"}, \"paper_bgcolor\": \"white\", \"plot_bgcolor\": \"#E5ECF6\", \"polar\": {\"angularaxis\": {\"gridcolor\": \"white\", \"linecolor\": \"white\", \"ticks\": \"\"}, \"bgcolor\": \"#E5ECF6\", \"radialaxis\": {\"gridcolor\": \"white\", \"linecolor\": \"white\", \"ticks\": \"\"}}, \"scene\": {\"xaxis\": {\"backgroundcolor\": \"#E5ECF6\", \"gridcolor\": \"white\", \"gridwidth\": 2, \"linecolor\": \"white\", \"showbackground\": true, \"ticks\": \"\", \"zerolinecolor\": \"white\"}, \"yaxis\": {\"backgroundcolor\": \"#E5ECF6\", \"gridcolor\": \"white\", \"gridwidth\": 2, \"linecolor\": \"white\", \"showbackground\": true, \"ticks\": \"\", \"zerolinecolor\": \"white\"}, \"zaxis\": {\"backgroundcolor\": \"#E5ECF6\", \"gridcolor\": \"white\", \"gridwidth\": 2, \"linecolor\": \"white\", \"showbackground\": true, \"ticks\": \"\", \"zerolinecolor\": \"white\"}}, \"shapedefaults\": {\"line\": {\"color\": \"#2a3f5f\"}}, \"ternary\": {\"aaxis\": {\"gridcolor\": \"white\", \"linecolor\": \"white\", \"ticks\": \"\"}, \"baxis\": {\"gridcolor\": \"white\", \"linecolor\": \"white\", \"ticks\": \"\"}, \"bgcolor\": \"#E5ECF6\", \"caxis\": {\"gridcolor\": \"white\", \"linecolor\": \"white\", \"ticks\": \"\"}}, \"title\": {\"x\": 0.05}, \"xaxis\": {\"automargin\": true, \"gridcolor\": \"white\", \"linecolor\": \"white\", \"ticks\": \"\", \"title\": {\"standoff\": 15}, \"zerolinecolor\": \"white\", \"zerolinewidth\": 2}, \"yaxis\": {\"automargin\": true, \"gridcolor\": \"white\", \"linecolor\": \"white\", \"ticks\": \"\", \"title\": {\"standoff\": 15}, \"zerolinecolor\": \"white\", \"zerolinewidth\": 2}}}, \"title\": {\"text\": \"Grid level forecasts - Model LSTM\"}, \"xaxis\": {\"title\": {\"text\": \"BU strategy - ts hierarchy level\"}}, \"yaxis\": {\"title\": {\"text\": \"MASE distribution\"}}},                        {\"responsive\": true}                    ).then(function(){\n",
       "                            \n",
       "var gd = document.getElementById('456df3ce-cd8c-43cd-8ebc-b8b297f83413');\n",
       "var x = new MutationObserver(function (mutations, observer) {{\n",
       "        var display = window.getComputedStyle(gd).display;\n",
       "        if (!display || display === 'none') {{\n",
       "            console.log([gd, 'removed!']);\n",
       "            Plotly.purge(gd);\n",
       "            observer.disconnect();\n",
       "        }}\n",
       "}});\n",
       "\n",
       "// Listen for the removal of the full notebook cells\n",
       "var notebookContainer = gd.closest('#notebook-container');\n",
       "if (notebookContainer) {{\n",
       "    x.observe(notebookContainer, {childList: true});\n",
       "}}\n",
       "\n",
       "// Listen for the clearing of the current output cell\n",
       "var outputEl = gd.closest('.output');\n",
       "if (outputEl) {{\n",
       "    x.observe(outputEl, {childList: true});\n",
       "}}\n",
       "\n",
       "                        })                };                });            </script>        </div>"
      ]
     },
     "metadata": {},
     "output_type": "display_data"
    }
   ],
   "source": [
    "fig = go.Figure()\n",
    "for col in grid_error_dist.keys():\n",
    "    box_data = grid_error_dist[col]\n",
    "    fig.add_trace(go.Box(y=box_data, name = col))\n",
    "fig.update_xaxes(title = 'BU strategy - ts hierarchy level')\n",
    "fig.update_yaxes(title = 'MASE distribution')\n",
    "fig.update_layout(title = \"Grid level forecasts - Model LSTM\", showlegend = False)"
   ]
  },
  {
   "cell_type": "code",
   "execution_count": 34,
   "metadata": {},
   "outputs": [
    {
     "data": {
      "application/vnd.plotly.v1+json": {
       "config": {
        "plotlyServerURL": "https://plot.ly"
       },
       "data": [
        {
         "name": "grid",
         "type": "box",
         "y": [
          3.4053630071537606,
          3.9336043320261247,
          4.943115464028954,
          5.288742006370496,
          4.712054390061754,
          5.04895820253476,
          5.4229256717237755,
          4.390895517904,
          4.757890353496411,
          4.043340268024233,
          3.666636658782479,
          4.848673635779654,
          5.218897837073379,
          5.26500076073676,
          3.942124784384393,
          3.608355122418069,
          3.1638820405420085,
          4.384345962342484,
          4.817420420561679,
          5.173560896157113,
          5.330607625404893,
          4.345695578155768,
          4.471440943121055,
          4.759207973022852,
          4.026650673499766,
          4.476796030752107,
          5.18310277240383,
          5.038219618234287,
          1.5929341032104312,
          2.1763657574487834,
          2.9342692421173635,
          3.6599821890504667,
          3.9401761866630705,
          3.1538693577488983,
          5.19519390562354,
          4.184911074400843
         ]
        },
        {
         "name": "tl",
         "type": "box",
         "y": [
          3.389664677888329,
          3.9312651102091714,
          4.9349895332172595,
          5.281249618615122,
          4.692883305382709,
          5.046280732491974,
          5.418002601622449,
          4.383828563456176,
          4.739572396927346,
          4.0280106179396,
          3.6493900093606713,
          4.845386690263024,
          5.215764501444752,
          5.259655845611012,
          3.9337952469401762,
          3.5912263821873647,
          3.1575963495961754,
          4.366898136330182,
          4.810312294620938,
          5.159084186698441,
          5.317572904831738,
          4.338859369904049,
          4.466647999468463,
          4.746141174224085,
          4.016522051560023,
          4.4728374426833515,
          5.187857543837242,
          5.027054608858818,
          1.5804387112578653,
          2.1718577437783546,
          2.9381075892388067,
          3.660164033591076,
          3.953054226513108,
          3.1612754476873377,
          5.197110130379307,
          4.178650679821616
         ]
        },
        {
         "name": "sub",
         "type": "box",
         "y": [
          3.3923589549592505,
          3.93511796796252,
          4.938987996767073,
          5.285234674381559,
          4.6950033135218385,
          5.050195342233074,
          5.421926510087039,
          4.387820013657552,
          4.741891678534019,
          4.03055351922186,
          3.65435186065421,
          4.8496194434300355,
          5.219653135177021,
          5.26361411062019,
          3.9351838630927647,
          3.5930500318499825,
          3.1615938667810037,
          4.369096685015874,
          4.814435512031191,
          5.163035890882061,
          5.321510934092232,
          4.3427701037018425,
          4.470543297281891,
          4.748674959499653,
          4.0196556601033455,
          4.477425552146604,
          5.1914887336499875,
          5.029740330293178,
          1.5763305524732032,
          2.1740947059626037,
          2.9400570124860153,
          3.6638517049618367,
          3.956545980432228,
          3.1647247193908106,
          5.2007357411986215,
          4.181577776074072
         ]
        },
        {
         "name": "pc",
         "type": "box",
         "y": [
          1.5486566236612964,
          0.8335599169855742,
          1.6459962632871545,
          0.928771882205842,
          1.0828533942851342,
          0.7305743754702314,
          0.8644677464811366,
          1.704378769078957,
          1.1773742889110113,
          1.6306728629204255,
          1.2860122960711284,
          0.5853964173086876,
          1.0263030117242562,
          1.066823266394078,
          2.2629245430265286,
          0.7610021061852746,
          1.92024276841251,
          0.9591158722856127,
          0.8397544279269101,
          1.0123155919489377,
          0.868205948993065,
          1.870028529831677,
          1.8350654185079478,
          1.9327091859409449,
          1.6804139762116588,
          0.8068246977656325,
          0.7918882587547383,
          0.6978677951595538,
          2.5714465382710836,
          1.802334089359521,
          0.880720851399267,
          0.5784228628948818,
          0.580917846017367,
          1.378766676189226,
          0.5333321221720001,
          1.5549061642099857
         ]
        },
        {
         "name": "site",
         "type": "box",
         "y": [
          1.4257249136587333,
          0.7921209907138315,
          1.5982180035379392,
          0.8800748528036915,
          1.0213308953087072,
          0.8837598729012577,
          0.7521789354296659,
          1.5387668286815903,
          1.0575404117690204,
          1.5867496949238002,
          1.2342010850742209,
          0.6004207228176733,
          1.0091254934653788,
          1.0488955277219527,
          2.2463577849367398,
          0.7313025591053112,
          1.9056292004063706,
          0.9311342861664087,
          0.8385547402867864,
          0.9262615491454199,
          0.7984005553057446,
          1.8337085780963682,
          1.7724347861910381,
          1.8139590156261536,
          1.6091344990222212,
          0.7492376269363404,
          0.6860037351633302,
          0.7535025878332674,
          2.5787404282530955,
          1.8071311550151659,
          0.8885497019755216,
          0.5935276487640083,
          0.5867497618626022,
          1.3175138634494812,
          0.4755407587073754,
          1.5314919143346952
         ]
        }
       ],
       "layout": {
        "showlegend": false,
        "template": {
         "data": {
          "bar": [
           {
            "error_x": {
             "color": "#2a3f5f"
            },
            "error_y": {
             "color": "#2a3f5f"
            },
            "marker": {
             "line": {
              "color": "#E5ECF6",
              "width": 0.5
             }
            },
            "type": "bar"
           }
          ],
          "barpolar": [
           {
            "marker": {
             "line": {
              "color": "#E5ECF6",
              "width": 0.5
             }
            },
            "type": "barpolar"
           }
          ],
          "carpet": [
           {
            "aaxis": {
             "endlinecolor": "#2a3f5f",
             "gridcolor": "white",
             "linecolor": "white",
             "minorgridcolor": "white",
             "startlinecolor": "#2a3f5f"
            },
            "baxis": {
             "endlinecolor": "#2a3f5f",
             "gridcolor": "white",
             "linecolor": "white",
             "minorgridcolor": "white",
             "startlinecolor": "#2a3f5f"
            },
            "type": "carpet"
           }
          ],
          "choropleth": [
           {
            "colorbar": {
             "outlinewidth": 0,
             "ticks": ""
            },
            "type": "choropleth"
           }
          ],
          "contour": [
           {
            "colorbar": {
             "outlinewidth": 0,
             "ticks": ""
            },
            "colorscale": [
             [
              0,
              "#0d0887"
             ],
             [
              0.1111111111111111,
              "#46039f"
             ],
             [
              0.2222222222222222,
              "#7201a8"
             ],
             [
              0.3333333333333333,
              "#9c179e"
             ],
             [
              0.4444444444444444,
              "#bd3786"
             ],
             [
              0.5555555555555556,
              "#d8576b"
             ],
             [
              0.6666666666666666,
              "#ed7953"
             ],
             [
              0.7777777777777778,
              "#fb9f3a"
             ],
             [
              0.8888888888888888,
              "#fdca26"
             ],
             [
              1,
              "#f0f921"
             ]
            ],
            "type": "contour"
           }
          ],
          "contourcarpet": [
           {
            "colorbar": {
             "outlinewidth": 0,
             "ticks": ""
            },
            "type": "contourcarpet"
           }
          ],
          "heatmap": [
           {
            "colorbar": {
             "outlinewidth": 0,
             "ticks": ""
            },
            "colorscale": [
             [
              0,
              "#0d0887"
             ],
             [
              0.1111111111111111,
              "#46039f"
             ],
             [
              0.2222222222222222,
              "#7201a8"
             ],
             [
              0.3333333333333333,
              "#9c179e"
             ],
             [
              0.4444444444444444,
              "#bd3786"
             ],
             [
              0.5555555555555556,
              "#d8576b"
             ],
             [
              0.6666666666666666,
              "#ed7953"
             ],
             [
              0.7777777777777778,
              "#fb9f3a"
             ],
             [
              0.8888888888888888,
              "#fdca26"
             ],
             [
              1,
              "#f0f921"
             ]
            ],
            "type": "heatmap"
           }
          ],
          "heatmapgl": [
           {
            "colorbar": {
             "outlinewidth": 0,
             "ticks": ""
            },
            "colorscale": [
             [
              0,
              "#0d0887"
             ],
             [
              0.1111111111111111,
              "#46039f"
             ],
             [
              0.2222222222222222,
              "#7201a8"
             ],
             [
              0.3333333333333333,
              "#9c179e"
             ],
             [
              0.4444444444444444,
              "#bd3786"
             ],
             [
              0.5555555555555556,
              "#d8576b"
             ],
             [
              0.6666666666666666,
              "#ed7953"
             ],
             [
              0.7777777777777778,
              "#fb9f3a"
             ],
             [
              0.8888888888888888,
              "#fdca26"
             ],
             [
              1,
              "#f0f921"
             ]
            ],
            "type": "heatmapgl"
           }
          ],
          "histogram": [
           {
            "marker": {
             "colorbar": {
              "outlinewidth": 0,
              "ticks": ""
             }
            },
            "type": "histogram"
           }
          ],
          "histogram2d": [
           {
            "colorbar": {
             "outlinewidth": 0,
             "ticks": ""
            },
            "colorscale": [
             [
              0,
              "#0d0887"
             ],
             [
              0.1111111111111111,
              "#46039f"
             ],
             [
              0.2222222222222222,
              "#7201a8"
             ],
             [
              0.3333333333333333,
              "#9c179e"
             ],
             [
              0.4444444444444444,
              "#bd3786"
             ],
             [
              0.5555555555555556,
              "#d8576b"
             ],
             [
              0.6666666666666666,
              "#ed7953"
             ],
             [
              0.7777777777777778,
              "#fb9f3a"
             ],
             [
              0.8888888888888888,
              "#fdca26"
             ],
             [
              1,
              "#f0f921"
             ]
            ],
            "type": "histogram2d"
           }
          ],
          "histogram2dcontour": [
           {
            "colorbar": {
             "outlinewidth": 0,
             "ticks": ""
            },
            "colorscale": [
             [
              0,
              "#0d0887"
             ],
             [
              0.1111111111111111,
              "#46039f"
             ],
             [
              0.2222222222222222,
              "#7201a8"
             ],
             [
              0.3333333333333333,
              "#9c179e"
             ],
             [
              0.4444444444444444,
              "#bd3786"
             ],
             [
              0.5555555555555556,
              "#d8576b"
             ],
             [
              0.6666666666666666,
              "#ed7953"
             ],
             [
              0.7777777777777778,
              "#fb9f3a"
             ],
             [
              0.8888888888888888,
              "#fdca26"
             ],
             [
              1,
              "#f0f921"
             ]
            ],
            "type": "histogram2dcontour"
           }
          ],
          "mesh3d": [
           {
            "colorbar": {
             "outlinewidth": 0,
             "ticks": ""
            },
            "type": "mesh3d"
           }
          ],
          "parcoords": [
           {
            "line": {
             "colorbar": {
              "outlinewidth": 0,
              "ticks": ""
             }
            },
            "type": "parcoords"
           }
          ],
          "pie": [
           {
            "automargin": true,
            "type": "pie"
           }
          ],
          "scatter": [
           {
            "marker": {
             "colorbar": {
              "outlinewidth": 0,
              "ticks": ""
             }
            },
            "type": "scatter"
           }
          ],
          "scatter3d": [
           {
            "line": {
             "colorbar": {
              "outlinewidth": 0,
              "ticks": ""
             }
            },
            "marker": {
             "colorbar": {
              "outlinewidth": 0,
              "ticks": ""
             }
            },
            "type": "scatter3d"
           }
          ],
          "scattercarpet": [
           {
            "marker": {
             "colorbar": {
              "outlinewidth": 0,
              "ticks": ""
             }
            },
            "type": "scattercarpet"
           }
          ],
          "scattergeo": [
           {
            "marker": {
             "colorbar": {
              "outlinewidth": 0,
              "ticks": ""
             }
            },
            "type": "scattergeo"
           }
          ],
          "scattergl": [
           {
            "marker": {
             "colorbar": {
              "outlinewidth": 0,
              "ticks": ""
             }
            },
            "type": "scattergl"
           }
          ],
          "scattermapbox": [
           {
            "marker": {
             "colorbar": {
              "outlinewidth": 0,
              "ticks": ""
             }
            },
            "type": "scattermapbox"
           }
          ],
          "scatterpolar": [
           {
            "marker": {
             "colorbar": {
              "outlinewidth": 0,
              "ticks": ""
             }
            },
            "type": "scatterpolar"
           }
          ],
          "scatterpolargl": [
           {
            "marker": {
             "colorbar": {
              "outlinewidth": 0,
              "ticks": ""
             }
            },
            "type": "scatterpolargl"
           }
          ],
          "scatterternary": [
           {
            "marker": {
             "colorbar": {
              "outlinewidth": 0,
              "ticks": ""
             }
            },
            "type": "scatterternary"
           }
          ],
          "surface": [
           {
            "colorbar": {
             "outlinewidth": 0,
             "ticks": ""
            },
            "colorscale": [
             [
              0,
              "#0d0887"
             ],
             [
              0.1111111111111111,
              "#46039f"
             ],
             [
              0.2222222222222222,
              "#7201a8"
             ],
             [
              0.3333333333333333,
              "#9c179e"
             ],
             [
              0.4444444444444444,
              "#bd3786"
             ],
             [
              0.5555555555555556,
              "#d8576b"
             ],
             [
              0.6666666666666666,
              "#ed7953"
             ],
             [
              0.7777777777777778,
              "#fb9f3a"
             ],
             [
              0.8888888888888888,
              "#fdca26"
             ],
             [
              1,
              "#f0f921"
             ]
            ],
            "type": "surface"
           }
          ],
          "table": [
           {
            "cells": {
             "fill": {
              "color": "#EBF0F8"
             },
             "line": {
              "color": "white"
             }
            },
            "header": {
             "fill": {
              "color": "#C8D4E3"
             },
             "line": {
              "color": "white"
             }
            },
            "type": "table"
           }
          ]
         },
         "layout": {
          "annotationdefaults": {
           "arrowcolor": "#2a3f5f",
           "arrowhead": 0,
           "arrowwidth": 1
          },
          "autotypenumbers": "strict",
          "coloraxis": {
           "colorbar": {
            "outlinewidth": 0,
            "ticks": ""
           }
          },
          "colorscale": {
           "diverging": [
            [
             0,
             "#8e0152"
            ],
            [
             0.1,
             "#c51b7d"
            ],
            [
             0.2,
             "#de77ae"
            ],
            [
             0.3,
             "#f1b6da"
            ],
            [
             0.4,
             "#fde0ef"
            ],
            [
             0.5,
             "#f7f7f7"
            ],
            [
             0.6,
             "#e6f5d0"
            ],
            [
             0.7,
             "#b8e186"
            ],
            [
             0.8,
             "#7fbc41"
            ],
            [
             0.9,
             "#4d9221"
            ],
            [
             1,
             "#276419"
            ]
           ],
           "sequential": [
            [
             0,
             "#0d0887"
            ],
            [
             0.1111111111111111,
             "#46039f"
            ],
            [
             0.2222222222222222,
             "#7201a8"
            ],
            [
             0.3333333333333333,
             "#9c179e"
            ],
            [
             0.4444444444444444,
             "#bd3786"
            ],
            [
             0.5555555555555556,
             "#d8576b"
            ],
            [
             0.6666666666666666,
             "#ed7953"
            ],
            [
             0.7777777777777778,
             "#fb9f3a"
            ],
            [
             0.8888888888888888,
             "#fdca26"
            ],
            [
             1,
             "#f0f921"
            ]
           ],
           "sequentialminus": [
            [
             0,
             "#0d0887"
            ],
            [
             0.1111111111111111,
             "#46039f"
            ],
            [
             0.2222222222222222,
             "#7201a8"
            ],
            [
             0.3333333333333333,
             "#9c179e"
            ],
            [
             0.4444444444444444,
             "#bd3786"
            ],
            [
             0.5555555555555556,
             "#d8576b"
            ],
            [
             0.6666666666666666,
             "#ed7953"
            ],
            [
             0.7777777777777778,
             "#fb9f3a"
            ],
            [
             0.8888888888888888,
             "#fdca26"
            ],
            [
             1,
             "#f0f921"
            ]
           ]
          },
          "colorway": [
           "#636efa",
           "#EF553B",
           "#00cc96",
           "#ab63fa",
           "#FFA15A",
           "#19d3f3",
           "#FF6692",
           "#B6E880",
           "#FF97FF",
           "#FECB52"
          ],
          "font": {
           "color": "#2a3f5f"
          },
          "geo": {
           "bgcolor": "white",
           "lakecolor": "white",
           "landcolor": "#E5ECF6",
           "showlakes": true,
           "showland": true,
           "subunitcolor": "white"
          },
          "hoverlabel": {
           "align": "left"
          },
          "hovermode": "closest",
          "mapbox": {
           "style": "light"
          },
          "paper_bgcolor": "white",
          "plot_bgcolor": "#E5ECF6",
          "polar": {
           "angularaxis": {
            "gridcolor": "white",
            "linecolor": "white",
            "ticks": ""
           },
           "bgcolor": "#E5ECF6",
           "radialaxis": {
            "gridcolor": "white",
            "linecolor": "white",
            "ticks": ""
           }
          },
          "scene": {
           "xaxis": {
            "backgroundcolor": "#E5ECF6",
            "gridcolor": "white",
            "gridwidth": 2,
            "linecolor": "white",
            "showbackground": true,
            "ticks": "",
            "zerolinecolor": "white"
           },
           "yaxis": {
            "backgroundcolor": "#E5ECF6",
            "gridcolor": "white",
            "gridwidth": 2,
            "linecolor": "white",
            "showbackground": true,
            "ticks": "",
            "zerolinecolor": "white"
           },
           "zaxis": {
            "backgroundcolor": "#E5ECF6",
            "gridcolor": "white",
            "gridwidth": 2,
            "linecolor": "white",
            "showbackground": true,
            "ticks": "",
            "zerolinecolor": "white"
           }
          },
          "shapedefaults": {
           "line": {
            "color": "#2a3f5f"
           }
          },
          "ternary": {
           "aaxis": {
            "gridcolor": "white",
            "linecolor": "white",
            "ticks": ""
           },
           "baxis": {
            "gridcolor": "white",
            "linecolor": "white",
            "ticks": ""
           },
           "bgcolor": "#E5ECF6",
           "caxis": {
            "gridcolor": "white",
            "linecolor": "white",
            "ticks": ""
           }
          },
          "title": {
           "x": 0.05
          },
          "xaxis": {
           "automargin": true,
           "gridcolor": "white",
           "linecolor": "white",
           "ticks": "",
           "title": {
            "standoff": 15
           },
           "zerolinecolor": "white",
           "zerolinewidth": 2
          },
          "yaxis": {
           "automargin": true,
           "gridcolor": "white",
           "linecolor": "white",
           "ticks": "",
           "title": {
            "standoff": 15
           },
           "zerolinecolor": "white",
           "zerolinewidth": 2
          }
         }
        },
        "title": {
         "text": "Grid level forecasts - Model Dilated Convolutions"
        },
        "xaxis": {
         "title": {
          "text": "BU strategy - ts hierarchy level"
         }
        },
        "yaxis": {
         "title": {
          "text": "MASE distribution"
         }
        }
       }
      },
      "text/html": [
       "<div>                            <div id=\"8ddd4bf2-b6cb-49e7-b573-4796d4f7b71d\" class=\"plotly-graph-div\" style=\"height:525px; width:100%;\"></div>            <script type=\"text/javascript\">                require([\"plotly\"], function(Plotly) {                    window.PLOTLYENV=window.PLOTLYENV || {};                                    if (document.getElementById(\"8ddd4bf2-b6cb-49e7-b573-4796d4f7b71d\")) {                    Plotly.newPlot(                        \"8ddd4bf2-b6cb-49e7-b573-4796d4f7b71d\",                        [{\"name\": \"grid\", \"type\": \"box\", \"y\": [3.4053630071537606, 3.9336043320261247, 4.943115464028954, 5.288742006370496, 4.712054390061754, 5.04895820253476, 5.4229256717237755, 4.390895517904, 4.757890353496411, 4.043340268024233, 3.666636658782479, 4.848673635779654, 5.218897837073379, 5.26500076073676, 3.942124784384393, 3.608355122418069, 3.1638820405420085, 4.384345962342484, 4.817420420561679, 5.173560896157113, 5.330607625404893, 4.345695578155768, 4.471440943121055, 4.759207973022852, 4.026650673499766, 4.476796030752107, 5.18310277240383, 5.038219618234287, 1.5929341032104312, 2.1763657574487834, 2.9342692421173635, 3.6599821890504667, 3.9401761866630705, 3.1538693577488983, 5.19519390562354, 4.184911074400843]}, {\"name\": \"tl\", \"type\": \"box\", \"y\": [3.389664677888329, 3.9312651102091714, 4.9349895332172595, 5.281249618615122, 4.692883305382709, 5.046280732491974, 5.418002601622449, 4.383828563456176, 4.739572396927346, 4.0280106179396, 3.6493900093606713, 4.845386690263024, 5.215764501444752, 5.259655845611012, 3.9337952469401762, 3.5912263821873647, 3.1575963495961754, 4.366898136330182, 4.810312294620938, 5.159084186698441, 5.317572904831738, 4.338859369904049, 4.466647999468463, 4.746141174224085, 4.016522051560023, 4.4728374426833515, 5.187857543837242, 5.027054608858818, 1.5804387112578653, 2.1718577437783546, 2.9381075892388067, 3.660164033591076, 3.953054226513108, 3.1612754476873377, 5.197110130379307, 4.178650679821616]}, {\"name\": \"sub\", \"type\": \"box\", \"y\": [3.3923589549592505, 3.93511796796252, 4.938987996767073, 5.285234674381559, 4.6950033135218385, 5.050195342233074, 5.421926510087039, 4.387820013657552, 4.741891678534019, 4.03055351922186, 3.65435186065421, 4.8496194434300355, 5.219653135177021, 5.26361411062019, 3.9351838630927647, 3.5930500318499825, 3.1615938667810037, 4.369096685015874, 4.814435512031191, 5.163035890882061, 5.321510934092232, 4.3427701037018425, 4.470543297281891, 4.748674959499653, 4.0196556601033455, 4.477425552146604, 5.1914887336499875, 5.029740330293178, 1.5763305524732032, 2.1740947059626037, 2.9400570124860153, 3.6638517049618367, 3.956545980432228, 3.1647247193908106, 5.2007357411986215, 4.181577776074072]}, {\"name\": \"pc\", \"type\": \"box\", \"y\": [1.5486566236612964, 0.8335599169855742, 1.6459962632871545, 0.928771882205842, 1.0828533942851342, 0.7305743754702314, 0.8644677464811366, 1.704378769078957, 1.1773742889110113, 1.6306728629204255, 1.2860122960711284, 0.5853964173086876, 1.0263030117242562, 1.066823266394078, 2.2629245430265286, 0.7610021061852746, 1.92024276841251, 0.9591158722856127, 0.8397544279269101, 1.0123155919489377, 0.868205948993065, 1.870028529831677, 1.8350654185079478, 1.9327091859409449, 1.6804139762116588, 0.8068246977656325, 0.7918882587547383, 0.6978677951595538, 2.5714465382710836, 1.802334089359521, 0.880720851399267, 0.5784228628948818, 0.580917846017367, 1.378766676189226, 0.5333321221720001, 1.5549061642099857]}, {\"name\": \"site\", \"type\": \"box\", \"y\": [1.4257249136587333, 0.7921209907138315, 1.5982180035379392, 0.8800748528036915, 1.0213308953087072, 0.8837598729012577, 0.7521789354296659, 1.5387668286815903, 1.0575404117690204, 1.5867496949238002, 1.2342010850742209, 0.6004207228176733, 1.0091254934653788, 1.0488955277219527, 2.2463577849367398, 0.7313025591053112, 1.9056292004063706, 0.9311342861664087, 0.8385547402867864, 0.9262615491454199, 0.7984005553057446, 1.8337085780963682, 1.7724347861910381, 1.8139590156261536, 1.6091344990222212, 0.7492376269363404, 0.6860037351633302, 0.7535025878332674, 2.5787404282530955, 1.8071311550151659, 0.8885497019755216, 0.5935276487640083, 0.5867497618626022, 1.3175138634494812, 0.4755407587073754, 1.5314919143346952]}],                        {\"showlegend\": false, \"template\": {\"data\": {\"bar\": [{\"error_x\": {\"color\": \"#2a3f5f\"}, \"error_y\": {\"color\": \"#2a3f5f\"}, \"marker\": {\"line\": {\"color\": \"#E5ECF6\", \"width\": 0.5}}, \"type\": \"bar\"}], \"barpolar\": [{\"marker\": {\"line\": {\"color\": \"#E5ECF6\", \"width\": 0.5}}, \"type\": \"barpolar\"}], \"carpet\": [{\"aaxis\": {\"endlinecolor\": \"#2a3f5f\", \"gridcolor\": \"white\", \"linecolor\": \"white\", \"minorgridcolor\": \"white\", \"startlinecolor\": \"#2a3f5f\"}, \"baxis\": {\"endlinecolor\": \"#2a3f5f\", \"gridcolor\": \"white\", \"linecolor\": \"white\", \"minorgridcolor\": \"white\", \"startlinecolor\": \"#2a3f5f\"}, \"type\": \"carpet\"}], \"choropleth\": [{\"colorbar\": {\"outlinewidth\": 0, \"ticks\": \"\"}, \"type\": \"choropleth\"}], \"contour\": [{\"colorbar\": {\"outlinewidth\": 0, \"ticks\": \"\"}, \"colorscale\": [[0.0, \"#0d0887\"], [0.1111111111111111, \"#46039f\"], [0.2222222222222222, \"#7201a8\"], [0.3333333333333333, \"#9c179e\"], [0.4444444444444444, \"#bd3786\"], [0.5555555555555556, \"#d8576b\"], [0.6666666666666666, \"#ed7953\"], [0.7777777777777778, \"#fb9f3a\"], [0.8888888888888888, \"#fdca26\"], [1.0, \"#f0f921\"]], \"type\": \"contour\"}], \"contourcarpet\": [{\"colorbar\": {\"outlinewidth\": 0, \"ticks\": \"\"}, \"type\": \"contourcarpet\"}], \"heatmap\": [{\"colorbar\": {\"outlinewidth\": 0, \"ticks\": \"\"}, \"colorscale\": [[0.0, \"#0d0887\"], [0.1111111111111111, \"#46039f\"], [0.2222222222222222, \"#7201a8\"], [0.3333333333333333, \"#9c179e\"], [0.4444444444444444, \"#bd3786\"], [0.5555555555555556, \"#d8576b\"], [0.6666666666666666, \"#ed7953\"], [0.7777777777777778, \"#fb9f3a\"], [0.8888888888888888, \"#fdca26\"], [1.0, \"#f0f921\"]], \"type\": \"heatmap\"}], \"heatmapgl\": [{\"colorbar\": {\"outlinewidth\": 0, \"ticks\": \"\"}, \"colorscale\": [[0.0, \"#0d0887\"], [0.1111111111111111, \"#46039f\"], [0.2222222222222222, \"#7201a8\"], [0.3333333333333333, \"#9c179e\"], [0.4444444444444444, \"#bd3786\"], [0.5555555555555556, \"#d8576b\"], [0.6666666666666666, \"#ed7953\"], [0.7777777777777778, \"#fb9f3a\"], [0.8888888888888888, \"#fdca26\"], [1.0, \"#f0f921\"]], \"type\": \"heatmapgl\"}], \"histogram\": [{\"marker\": {\"colorbar\": {\"outlinewidth\": 0, \"ticks\": \"\"}}, \"type\": \"histogram\"}], \"histogram2d\": [{\"colorbar\": {\"outlinewidth\": 0, \"ticks\": \"\"}, \"colorscale\": [[0.0, \"#0d0887\"], [0.1111111111111111, \"#46039f\"], [0.2222222222222222, \"#7201a8\"], [0.3333333333333333, \"#9c179e\"], [0.4444444444444444, \"#bd3786\"], [0.5555555555555556, \"#d8576b\"], [0.6666666666666666, \"#ed7953\"], [0.7777777777777778, \"#fb9f3a\"], [0.8888888888888888, \"#fdca26\"], [1.0, \"#f0f921\"]], \"type\": \"histogram2d\"}], \"histogram2dcontour\": [{\"colorbar\": {\"outlinewidth\": 0, \"ticks\": \"\"}, \"colorscale\": [[0.0, \"#0d0887\"], [0.1111111111111111, \"#46039f\"], [0.2222222222222222, \"#7201a8\"], [0.3333333333333333, \"#9c179e\"], [0.4444444444444444, \"#bd3786\"], [0.5555555555555556, \"#d8576b\"], [0.6666666666666666, \"#ed7953\"], [0.7777777777777778, \"#fb9f3a\"], [0.8888888888888888, \"#fdca26\"], [1.0, \"#f0f921\"]], \"type\": \"histogram2dcontour\"}], \"mesh3d\": [{\"colorbar\": {\"outlinewidth\": 0, \"ticks\": \"\"}, \"type\": \"mesh3d\"}], \"parcoords\": [{\"line\": {\"colorbar\": {\"outlinewidth\": 0, \"ticks\": \"\"}}, \"type\": \"parcoords\"}], \"pie\": [{\"automargin\": true, \"type\": \"pie\"}], \"scatter\": [{\"marker\": {\"colorbar\": {\"outlinewidth\": 0, \"ticks\": \"\"}}, \"type\": \"scatter\"}], \"scatter3d\": [{\"line\": {\"colorbar\": {\"outlinewidth\": 0, \"ticks\": \"\"}}, \"marker\": {\"colorbar\": {\"outlinewidth\": 0, \"ticks\": \"\"}}, \"type\": \"scatter3d\"}], \"scattercarpet\": [{\"marker\": {\"colorbar\": {\"outlinewidth\": 0, \"ticks\": \"\"}}, \"type\": \"scattercarpet\"}], \"scattergeo\": [{\"marker\": {\"colorbar\": {\"outlinewidth\": 0, \"ticks\": \"\"}}, \"type\": \"scattergeo\"}], \"scattergl\": [{\"marker\": {\"colorbar\": {\"outlinewidth\": 0, \"ticks\": \"\"}}, \"type\": \"scattergl\"}], \"scattermapbox\": [{\"marker\": {\"colorbar\": {\"outlinewidth\": 0, \"ticks\": \"\"}}, \"type\": \"scattermapbox\"}], \"scatterpolar\": [{\"marker\": {\"colorbar\": {\"outlinewidth\": 0, \"ticks\": \"\"}}, \"type\": \"scatterpolar\"}], \"scatterpolargl\": [{\"marker\": {\"colorbar\": {\"outlinewidth\": 0, \"ticks\": \"\"}}, \"type\": \"scatterpolargl\"}], \"scatterternary\": [{\"marker\": {\"colorbar\": {\"outlinewidth\": 0, \"ticks\": \"\"}}, \"type\": \"scatterternary\"}], \"surface\": [{\"colorbar\": {\"outlinewidth\": 0, \"ticks\": \"\"}, \"colorscale\": [[0.0, \"#0d0887\"], [0.1111111111111111, \"#46039f\"], [0.2222222222222222, \"#7201a8\"], [0.3333333333333333, \"#9c179e\"], [0.4444444444444444, \"#bd3786\"], [0.5555555555555556, \"#d8576b\"], [0.6666666666666666, \"#ed7953\"], [0.7777777777777778, \"#fb9f3a\"], [0.8888888888888888, \"#fdca26\"], [1.0, \"#f0f921\"]], \"type\": \"surface\"}], \"table\": [{\"cells\": {\"fill\": {\"color\": \"#EBF0F8\"}, \"line\": {\"color\": \"white\"}}, \"header\": {\"fill\": {\"color\": \"#C8D4E3\"}, \"line\": {\"color\": \"white\"}}, \"type\": \"table\"}]}, \"layout\": {\"annotationdefaults\": {\"arrowcolor\": \"#2a3f5f\", \"arrowhead\": 0, \"arrowwidth\": 1}, \"autotypenumbers\": \"strict\", \"coloraxis\": {\"colorbar\": {\"outlinewidth\": 0, \"ticks\": \"\"}}, \"colorscale\": {\"diverging\": [[0, \"#8e0152\"], [0.1, \"#c51b7d\"], [0.2, \"#de77ae\"], [0.3, \"#f1b6da\"], [0.4, \"#fde0ef\"], [0.5, \"#f7f7f7\"], [0.6, \"#e6f5d0\"], [0.7, \"#b8e186\"], [0.8, \"#7fbc41\"], [0.9, \"#4d9221\"], [1, \"#276419\"]], \"sequential\": [[0.0, \"#0d0887\"], [0.1111111111111111, \"#46039f\"], [0.2222222222222222, \"#7201a8\"], [0.3333333333333333, \"#9c179e\"], [0.4444444444444444, \"#bd3786\"], [0.5555555555555556, \"#d8576b\"], [0.6666666666666666, \"#ed7953\"], [0.7777777777777778, \"#fb9f3a\"], [0.8888888888888888, \"#fdca26\"], [1.0, \"#f0f921\"]], \"sequentialminus\": [[0.0, \"#0d0887\"], [0.1111111111111111, \"#46039f\"], [0.2222222222222222, \"#7201a8\"], [0.3333333333333333, \"#9c179e\"], [0.4444444444444444, \"#bd3786\"], [0.5555555555555556, \"#d8576b\"], [0.6666666666666666, \"#ed7953\"], [0.7777777777777778, \"#fb9f3a\"], [0.8888888888888888, \"#fdca26\"], [1.0, \"#f0f921\"]]}, \"colorway\": [\"#636efa\", \"#EF553B\", \"#00cc96\", \"#ab63fa\", \"#FFA15A\", \"#19d3f3\", \"#FF6692\", \"#B6E880\", \"#FF97FF\", \"#FECB52\"], \"font\": {\"color\": \"#2a3f5f\"}, \"geo\": {\"bgcolor\": \"white\", \"lakecolor\": \"white\", \"landcolor\": \"#E5ECF6\", \"showlakes\": true, \"showland\": true, \"subunitcolor\": \"white\"}, \"hoverlabel\": {\"align\": \"left\"}, \"hovermode\": \"closest\", \"mapbox\": {\"style\": \"light\"}, \"paper_bgcolor\": \"white\", \"plot_bgcolor\": \"#E5ECF6\", \"polar\": {\"angularaxis\": {\"gridcolor\": \"white\", \"linecolor\": \"white\", \"ticks\": \"\"}, \"bgcolor\": \"#E5ECF6\", \"radialaxis\": {\"gridcolor\": \"white\", \"linecolor\": \"white\", \"ticks\": \"\"}}, \"scene\": {\"xaxis\": {\"backgroundcolor\": \"#E5ECF6\", \"gridcolor\": \"white\", \"gridwidth\": 2, \"linecolor\": \"white\", \"showbackground\": true, \"ticks\": \"\", \"zerolinecolor\": \"white\"}, \"yaxis\": {\"backgroundcolor\": \"#E5ECF6\", \"gridcolor\": \"white\", \"gridwidth\": 2, \"linecolor\": \"white\", \"showbackground\": true, \"ticks\": \"\", \"zerolinecolor\": \"white\"}, \"zaxis\": {\"backgroundcolor\": \"#E5ECF6\", \"gridcolor\": \"white\", \"gridwidth\": 2, \"linecolor\": \"white\", \"showbackground\": true, \"ticks\": \"\", \"zerolinecolor\": \"white\"}}, \"shapedefaults\": {\"line\": {\"color\": \"#2a3f5f\"}}, \"ternary\": {\"aaxis\": {\"gridcolor\": \"white\", \"linecolor\": \"white\", \"ticks\": \"\"}, \"baxis\": {\"gridcolor\": \"white\", \"linecolor\": \"white\", \"ticks\": \"\"}, \"bgcolor\": \"#E5ECF6\", \"caxis\": {\"gridcolor\": \"white\", \"linecolor\": \"white\", \"ticks\": \"\"}}, \"title\": {\"x\": 0.05}, \"xaxis\": {\"automargin\": true, \"gridcolor\": \"white\", \"linecolor\": \"white\", \"ticks\": \"\", \"title\": {\"standoff\": 15}, \"zerolinecolor\": \"white\", \"zerolinewidth\": 2}, \"yaxis\": {\"automargin\": true, \"gridcolor\": \"white\", \"linecolor\": \"white\", \"ticks\": \"\", \"title\": {\"standoff\": 15}, \"zerolinecolor\": \"white\", \"zerolinewidth\": 2}}}, \"title\": {\"text\": \"Grid level forecasts - Model Dilated Convolutions\"}, \"xaxis\": {\"title\": {\"text\": \"BU strategy - ts hierarchy level\"}}, \"yaxis\": {\"title\": {\"text\": \"MASE distribution\"}}},                        {\"responsive\": true}                    ).then(function(){\n",
       "                            \n",
       "var gd = document.getElementById('8ddd4bf2-b6cb-49e7-b573-4796d4f7b71d');\n",
       "var x = new MutationObserver(function (mutations, observer) {{\n",
       "        var display = window.getComputedStyle(gd).display;\n",
       "        if (!display || display === 'none') {{\n",
       "            console.log([gd, 'removed!']);\n",
       "            Plotly.purge(gd);\n",
       "            observer.disconnect();\n",
       "        }}\n",
       "}});\n",
       "\n",
       "// Listen for the removal of the full notebook cells\n",
       "var notebookContainer = gd.closest('#notebook-container');\n",
       "if (notebookContainer) {{\n",
       "    x.observe(notebookContainer, {childList: true});\n",
       "}}\n",
       "\n",
       "// Listen for the clearing of the current output cell\n",
       "var outputEl = gd.closest('.output');\n",
       "if (outputEl) {{\n",
       "    x.observe(outputEl, {childList: true});\n",
       "}}\n",
       "\n",
       "                        })                };                });            </script>        </div>"
      ]
     },
     "metadata": {},
     "output_type": "display_data"
    }
   ],
   "source": [
    "fig = go.Figure()\n",
    "for col in grid_error_dist_tcn.keys():\n",
    "    box_data = grid_error_dist_tcn[col]\n",
    "    fig.add_trace(go.Box(y=box_data, name = col))\n",
    "fig.update_xaxes(title = 'BU strategy - ts hierarchy level')\n",
    "fig.update_yaxes(title = 'MASE distribution')\n",
    "fig.update_layout(title = \"Grid level forecasts - Model Dilated Convolutions\", showlegend=False)"
   ]
  }
 ],
 "metadata": {
  "kernelspec": {
   "display_name": "Python 3",
   "language": "python",
   "name": "python3"
  },
  "language_info": {
   "codemirror_mode": {
    "name": "ipython",
    "version": 3
   },
   "file_extension": ".py",
   "mimetype": "text/x-python",
   "name": "python",
   "nbconvert_exporter": "python",
   "pygments_lexer": "ipython3",
   "version": "3.8.6"
  }
 },
 "nbformat": 4,
 "nbformat_minor": 1
}
