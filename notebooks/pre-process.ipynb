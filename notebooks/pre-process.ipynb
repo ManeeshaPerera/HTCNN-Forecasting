{
 "cells": [
  {
   "cell_type": "code",
   "execution_count": 1,
   "id": "recovered-forward",
   "metadata": {},
   "outputs": [
    {
     "data": {
      "text/html": [
       "        <script type=\"text/javascript\">\n",
       "        window.PlotlyConfig = {MathJaxConfig: 'local'};\n",
       "        if (window.MathJax) {MathJax.Hub.Config({SVG: {font: \"STIX-Web\"}});}\n",
       "        if (typeof require !== 'undefined') {\n",
       "        require.undef(\"plotly\");\n",
       "        requirejs.config({\n",
       "            paths: {\n",
       "                'plotly': ['https://cdn.plot.ly/plotly-latest.min']\n",
       "            }\n",
       "        });\n",
       "        require(['plotly'], function(Plotly) {\n",
       "            window._Plotly = Plotly;\n",
       "        });\n",
       "        }\n",
       "        </script>\n",
       "        "
      ]
     },
     "metadata": {},
     "output_type": "display_data"
    }
   ],
   "source": [
    "import sys\n",
    "sys.path.insert(0, '../')\n",
    "\n",
    "import src.utils as util\n",
    "%load_ext autoreload\n",
    "%autoreload 2\n",
    "\n",
    "import pandas as pd\n",
    "\n",
    "import plotly.graph_objs as go\n",
    "from plotly.offline import init_notebook_mode, iplot\n",
    "init_notebook_mode(connected=True)\n",
    "\n",
    "from solartime import SolarTime\n",
    "from datetime import date\n",
    "\n",
    "from pytz import timezone"
   ]
  },
  {
   "cell_type": "code",
   "execution_count": 14,
   "id": "wicked-jungle",
   "metadata": {},
   "outputs": [],
   "source": [
    "import src.utils as util"
   ]
  },
  {
   "cell_type": "markdown",
   "id": "logical-millennium",
   "metadata": {},
   "source": [
    "We are removing the data before sunrise and after sunset"
   ]
  },
  {
   "cell_type": "code",
   "execution_count": 2,
   "id": "green-purple",
   "metadata": {},
   "outputs": [],
   "source": [
    "data = pd.read_pickle('../input/timeseries')"
   ]
  },
  {
   "cell_type": "code",
   "execution_count": 4,
   "id": "rational-worship",
   "metadata": {},
   "outputs": [],
   "source": [
    "temp_df = data.reset_index()\n",
    "solar_times = []\n",
    "lat, lon = -37.8136, 144.9631\n",
    "localtz = timezone('Australia/Melbourne')\n",
    "sun = SolarTime()"
   ]
  },
  {
   "cell_type": "code",
   "execution_count": 5,
   "id": "early-constant",
   "metadata": {},
   "outputs": [],
   "source": [
    "for val in temp_df['date_str']:\n",
    "    schedule = sun.sun_utc(val, lat, lon)\n",
    "    sunset = schedule['sunset'].astimezone(localtz)\n",
    "    sunrise = schedule['sunrise'].astimezone(localtz)\n",
    "    sunset = pd.Timestamp(sunset).tz_localize(None)\n",
    "    sunrise = pd.Timestamp(sunrise).tz_localize(None)\n",
    "    if val >= sunrise and val <= sunset+pd.DateOffset(hours=2):\n",
    "        solar_times.append(True)\n",
    "    else:\n",
    "        solar_times.append(False)"
   ]
  },
  {
   "cell_type": "code",
   "execution_count": 6,
   "id": "norwegian-schedule",
   "metadata": {},
   "outputs": [
    {
     "data": {
      "text/html": [
       "<div>\n",
       "<style scoped>\n",
       "    .dataframe tbody tr th:only-of-type {\n",
       "        vertical-align: middle;\n",
       "    }\n",
       "\n",
       "    .dataframe tbody tr th {\n",
       "        vertical-align: top;\n",
       "    }\n",
       "\n",
       "    .dataframe thead th {\n",
       "        text-align: right;\n",
       "    }\n",
       "</style>\n",
       "<table border=\"1\" class=\"dataframe\">\n",
       "  <thead>\n",
       "    <tr style=\"text-align: right;\">\n",
       "      <th></th>\n",
       "      <th>date_str</th>\n",
       "      <th>grid</th>\n",
       "      <th>tline_1</th>\n",
       "      <th>tline_2</th>\n",
       "      <th>substation1</th>\n",
       "      <th>substation2</th>\n",
       "      <th>substation3</th>\n",
       "      <th>substation4</th>\n",
       "      <th>6010</th>\n",
       "      <th>6014</th>\n",
       "      <th>...</th>\n",
       "      <th>143824576</th>\n",
       "      <th>368424646</th>\n",
       "      <th>1428227531</th>\n",
       "      <th>2040495184</th>\n",
       "      <th>1893337300</th>\n",
       "      <th>2117861717</th>\n",
       "      <th>1941427679</th>\n",
       "      <th>1708098535</th>\n",
       "      <th>456209269</th>\n",
       "      <th>solar_time</th>\n",
       "    </tr>\n",
       "  </thead>\n",
       "  <tbody>\n",
       "    <tr>\n",
       "      <th>0</th>\n",
       "      <td>2020-02-13 00:00:00</td>\n",
       "      <td>16.88</td>\n",
       "      <td>12.34</td>\n",
       "      <td>4.54</td>\n",
       "      <td>6.93</td>\n",
       "      <td>5.41</td>\n",
       "      <td>4.54</td>\n",
       "      <td>0.00</td>\n",
       "      <td>6.88</td>\n",
       "      <td>0.05</td>\n",
       "      <td>...</td>\n",
       "      <td>0.0</td>\n",
       "      <td>0.0</td>\n",
       "      <td>0.0</td>\n",
       "      <td>1.26</td>\n",
       "      <td>0.00</td>\n",
       "      <td>1.41</td>\n",
       "      <td>0.05</td>\n",
       "      <td>0.0</td>\n",
       "      <td>0.0</td>\n",
       "      <td>False</td>\n",
       "    </tr>\n",
       "    <tr>\n",
       "      <th>1</th>\n",
       "      <td>2020-02-13 00:05:00</td>\n",
       "      <td>17.71</td>\n",
       "      <td>12.34</td>\n",
       "      <td>5.37</td>\n",
       "      <td>7.09</td>\n",
       "      <td>5.25</td>\n",
       "      <td>5.37</td>\n",
       "      <td>0.00</td>\n",
       "      <td>6.96</td>\n",
       "      <td>0.13</td>\n",
       "      <td>...</td>\n",
       "      <td>0.0</td>\n",
       "      <td>0.0</td>\n",
       "      <td>0.0</td>\n",
       "      <td>1.09</td>\n",
       "      <td>0.00</td>\n",
       "      <td>1.29</td>\n",
       "      <td>0.13</td>\n",
       "      <td>0.0</td>\n",
       "      <td>0.0</td>\n",
       "      <td>False</td>\n",
       "    </tr>\n",
       "    <tr>\n",
       "      <th>2</th>\n",
       "      <td>2020-02-13 00:10:00</td>\n",
       "      <td>13.78</td>\n",
       "      <td>12.39</td>\n",
       "      <td>1.39</td>\n",
       "      <td>7.24</td>\n",
       "      <td>5.15</td>\n",
       "      <td>1.39</td>\n",
       "      <td>0.00</td>\n",
       "      <td>7.02</td>\n",
       "      <td>0.22</td>\n",
       "      <td>...</td>\n",
       "      <td>0.0</td>\n",
       "      <td>0.0</td>\n",
       "      <td>0.0</td>\n",
       "      <td>1.02</td>\n",
       "      <td>0.00</td>\n",
       "      <td>1.26</td>\n",
       "      <td>0.22</td>\n",
       "      <td>0.0</td>\n",
       "      <td>0.0</td>\n",
       "      <td>False</td>\n",
       "    </tr>\n",
       "    <tr>\n",
       "      <th>3</th>\n",
       "      <td>2020-02-13 00:15:00</td>\n",
       "      <td>15.60</td>\n",
       "      <td>11.38</td>\n",
       "      <td>4.22</td>\n",
       "      <td>5.76</td>\n",
       "      <td>5.62</td>\n",
       "      <td>4.22</td>\n",
       "      <td>0.00</td>\n",
       "      <td>5.68</td>\n",
       "      <td>0.08</td>\n",
       "      <td>...</td>\n",
       "      <td>0.0</td>\n",
       "      <td>0.0</td>\n",
       "      <td>0.0</td>\n",
       "      <td>1.06</td>\n",
       "      <td>0.00</td>\n",
       "      <td>1.33</td>\n",
       "      <td>0.08</td>\n",
       "      <td>0.0</td>\n",
       "      <td>0.0</td>\n",
       "      <td>False</td>\n",
       "    </tr>\n",
       "    <tr>\n",
       "      <th>4</th>\n",
       "      <td>2020-02-13 00:20:00</td>\n",
       "      <td>16.04</td>\n",
       "      <td>11.33</td>\n",
       "      <td>4.71</td>\n",
       "      <td>5.45</td>\n",
       "      <td>5.88</td>\n",
       "      <td>4.44</td>\n",
       "      <td>0.27</td>\n",
       "      <td>5.39</td>\n",
       "      <td>0.06</td>\n",
       "      <td>...</td>\n",
       "      <td>0.0</td>\n",
       "      <td>0.0</td>\n",
       "      <td>0.0</td>\n",
       "      <td>1.27</td>\n",
       "      <td>0.27</td>\n",
       "      <td>1.37</td>\n",
       "      <td>0.06</td>\n",
       "      <td>0.0</td>\n",
       "      <td>0.0</td>\n",
       "      <td>False</td>\n",
       "    </tr>\n",
       "  </tbody>\n",
       "</table>\n",
       "<p>5 rows × 41 columns</p>\n",
       "</div>"
      ],
      "text/plain": [
       "             date_str   grid  tline_1  tline_2  substation1  substation2  \\\n",
       "0 2020-02-13 00:00:00  16.88    12.34     4.54         6.93         5.41   \n",
       "1 2020-02-13 00:05:00  17.71    12.34     5.37         7.09         5.25   \n",
       "2 2020-02-13 00:10:00  13.78    12.39     1.39         7.24         5.15   \n",
       "3 2020-02-13 00:15:00  15.60    11.38     4.22         5.76         5.62   \n",
       "4 2020-02-13 00:20:00  16.04    11.33     4.71         5.45         5.88   \n",
       "\n",
       "   substation3  substation4  6010  6014  ...  143824576  368424646  \\\n",
       "0         4.54         0.00  6.88  0.05  ...        0.0        0.0   \n",
       "1         5.37         0.00  6.96  0.13  ...        0.0        0.0   \n",
       "2         1.39         0.00  7.02  0.22  ...        0.0        0.0   \n",
       "3         4.22         0.00  5.68  0.08  ...        0.0        0.0   \n",
       "4         4.44         0.27  5.39  0.06  ...        0.0        0.0   \n",
       "\n",
       "   1428227531  2040495184  1893337300  2117861717  1941427679  1708098535  \\\n",
       "0         0.0        1.26        0.00        1.41        0.05         0.0   \n",
       "1         0.0        1.09        0.00        1.29        0.13         0.0   \n",
       "2         0.0        1.02        0.00        1.26        0.22         0.0   \n",
       "3         0.0        1.06        0.00        1.33        0.08         0.0   \n",
       "4         0.0        1.27        0.27        1.37        0.06         0.0   \n",
       "\n",
       "   456209269  solar_time  \n",
       "0        0.0       False  \n",
       "1        0.0       False  \n",
       "2        0.0       False  \n",
       "3        0.0       False  \n",
       "4        0.0       False  \n",
       "\n",
       "[5 rows x 41 columns]"
      ]
     },
     "execution_count": 6,
     "metadata": {},
     "output_type": "execute_result"
    }
   ],
   "source": [
    "temp_df['solar_time'] = solar_times\n",
    "temp_df.head()"
   ]
  },
  {
   "cell_type": "code",
   "execution_count": 7,
   "id": "statewide-country",
   "metadata": {},
   "outputs": [],
   "source": [
    "solar_df = temp_df.loc[temp_df['solar_time'] == True].set_index('date_str')\n",
    "solar_df = solar_df.drop(columns = ['solar_time'])"
   ]
  },
  {
   "cell_type": "code",
   "execution_count": 8,
   "id": "essential-frank",
   "metadata": {},
   "outputs": [],
   "source": [
    "solar_df_temp = solar_df[['grid']].rename(columns ={'grid':'solar_time'})\n",
    "plot_data = pd.concat([solar_df_temp, data[['grid']]], axis=1)"
   ]
  },
  {
   "cell_type": "code",
   "execution_count": 16,
   "id": "divine-breeding",
   "metadata": {},
   "outputs": [],
   "source": [
    "fig = go.Figure()\n",
    "data_size_to_plot = 5000\n",
    "# fig.add_trace(go.Scatter(x=plot_data.index[:data_size_to_plot], y = plot_data['solar_time'][:data_size_to_plot], \n",
    "#                          name = 'solar time data'))"
   ]
  },
  {
   "cell_type": "code",
   "execution_count": 12,
   "id": "impressed-modem",
   "metadata": {},
   "outputs": [],
   "source": [
    "solar_df.to_csv('../input/solar_timeseries.csv')\n",
    "solar_df.to_pickle('../input/solar_timeseries')"
   ]
  },
  {
   "cell_type": "code",
   "execution_count": 13,
   "id": "polyphonic-strength",
   "metadata": {},
   "outputs": [],
   "source": [
    "# train, val, test split\n",
    "n = len(solar_df)\n",
    "train_df = solar_df[0:int(n * 0.7)]\n",
    "val_df = solar_df[:int(n * 0.9)]\n",
    "test_df = solar_df"
   ]
  },
  {
   "cell_type": "code",
   "execution_count": 15,
   "id": "novel-startup",
   "metadata": {},
   "outputs": [
    {
     "data": {
      "image/png": "[encoded data removed]",
      "text/plain": [
       "<Figure size 576x432 with 1 Axes>"
      ]
     },
     "metadata": {
      "needs_background": "light"
     },
     "output_type": "display_data"
    }
   ],
   "source": [
    "util.plot_multiple_series([train_df.index, val_df[int(n * 0.7):].index, test_df[int(n * 0.9):].index],\n",
    "                          [train_df['grid'].values, val_df[int(n * 0.7):]['grid'].values,\n",
    "                          test_df[int(n * 0.9):]['grid'].values])"
   ]
  }
 ],
 "metadata": {
  "kernelspec": {
   "display_name": "Python 3",
   "language": "python",
   "name": "python3"
  },
  "language_info": {
   "codemirror_mode": {
    "name": "ipython",
    "version": 3
   },
   "file_extension": ".py",
   "mimetype": "text/x-python",
   "name": "python",
   "nbconvert_exporter": "python",
   "pygments_lexer": "ipython3",
   "version": "3.8.6"
  }
 },
 "nbformat": 4,
 "nbformat_minor": 5
}
