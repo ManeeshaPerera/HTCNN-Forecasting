{
 "cells": [
  {
   "cell_type": "markdown",
   "id": "political-colors",
   "metadata": {},
   "source": [
    "## Analyzing the LSTM and TCN Hyper-Parameteres"
   ]
  },
  {
   "cell_type": "code",
   "execution_count": 4,
   "id": "racial-sweet",
   "metadata": {},
   "outputs": [],
   "source": [
    "import pandas as pd\n",
    "import sys\n",
    "sys.path.insert(0, '../')\n",
    "import constants as const\n",
    "import src.utils as util\n",
    "import src.calculate_errors as err"
   ]
  },
  {
   "cell_type": "code",
   "execution_count": 5,
   "id": "violent-intellectual",
   "metadata": {},
   "outputs": [
    {
     "data": {
      "text/html": [
       "        <script type=\"text/javascript\">\n",
       "        window.PlotlyConfig = {MathJaxConfig: 'local'};\n",
       "        if (window.MathJax) {MathJax.Hub.Config({SVG: {font: \"STIX-Web\"}});}\n",
       "        if (typeof require !== 'undefined') {\n",
       "        require.undef(\"plotly\");\n",
       "        requirejs.config({\n",
       "            paths: {\n",
       "                'plotly': ['https://cdn.plot.ly/plotly-latest.min']\n",
       "            }\n",
       "        });\n",
       "        require(['plotly'], function(Plotly) {\n",
       "            window._Plotly = Plotly;\n",
       "        });\n",
       "        }\n",
       "        </script>\n",
       "        "
      ]
     },
     "metadata": {},
     "output_type": "display_data"
    }
   ],
   "source": [
    "import plotly.graph_objs as go\n",
    "from plotly.offline import init_notebook_mode, iplot\n",
    "init_notebook_mode(connected=True)"
   ]
  },
  {
   "cell_type": "code",
   "execution_count": 3,
   "id": "federal-decline",
   "metadata": {},
   "outputs": [],
   "source": [
    "lstm_iter_results = pd.read_csv('../lstm_new_results/rmse.csv')"
   ]
  },
  {
   "cell_type": "code",
   "execution_count": 4,
   "id": "animated-exercise",
   "metadata": {},
   "outputs": [
    {
     "data": {
      "text/html": [
       "<div>\n",
       "<style scoped>\n",
       "    .dataframe tbody tr th:only-of-type {\n",
       "        vertical-align: middle;\n",
       "    }\n",
       "\n",
       "    .dataframe tbody tr th {\n",
       "        vertical-align: top;\n",
       "    }\n",
       "\n",
       "    .dataframe thead th {\n",
       "        text-align: right;\n",
       "    }\n",
       "</style>\n",
       "<table border=\"1\" class=\"dataframe\">\n",
       "  <thead>\n",
       "    <tr style=\"text-align: right;\">\n",
       "      <th></th>\n",
       "      <th>Unnamed: 0</th>\n",
       "      <th>Grid</th>\n",
       "      <th>TL - Aggregated</th>\n",
       "      <th>SUB - Aggregated</th>\n",
       "      <th>PC - Aggregated</th>\n",
       "      <th>Site - Aggregated</th>\n",
       "    </tr>\n",
       "  </thead>\n",
       "  <tbody>\n",
       "    <tr>\n",
       "      <th>0</th>\n",
       "      <td>32_3_0.001_1</td>\n",
       "      <td>0.461</td>\n",
       "      <td>0.455</td>\n",
       "      <td>0.447</td>\n",
       "      <td>0.342</td>\n",
       "      <td>0.342</td>\n",
       "    </tr>\n",
       "    <tr>\n",
       "      <th>1</th>\n",
       "      <td>32_3_0.001_3</td>\n",
       "      <td>0.440</td>\n",
       "      <td>0.448</td>\n",
       "      <td>0.491</td>\n",
       "      <td>0.357</td>\n",
       "      <td>0.355</td>\n",
       "    </tr>\n",
       "    <tr>\n",
       "      <th>2</th>\n",
       "      <td>32_3_0.001_7</td>\n",
       "      <td>0.465</td>\n",
       "      <td>0.446</td>\n",
       "      <td>0.472</td>\n",
       "      <td>0.373</td>\n",
       "      <td>0.363</td>\n",
       "    </tr>\n",
       "    <tr>\n",
       "      <th>3</th>\n",
       "      <td>32_3_0.0001_1</td>\n",
       "      <td>0.484</td>\n",
       "      <td>0.479</td>\n",
       "      <td>0.465</td>\n",
       "      <td>0.416</td>\n",
       "      <td>0.376</td>\n",
       "    </tr>\n",
       "    <tr>\n",
       "      <th>4</th>\n",
       "      <td>32_3_0.0001_3</td>\n",
       "      <td>0.451</td>\n",
       "      <td>0.441</td>\n",
       "      <td>0.454</td>\n",
       "      <td>0.452</td>\n",
       "      <td>0.485</td>\n",
       "    </tr>\n",
       "  </tbody>\n",
       "</table>\n",
       "</div>"
      ],
      "text/plain": [
       "      Unnamed: 0   Grid  TL - Aggregated  SUB - Aggregated  PC - Aggregated  \\\n",
       "0   32_3_0.001_1  0.461            0.455             0.447            0.342   \n",
       "1   32_3_0.001_3  0.440            0.448             0.491            0.357   \n",
       "2   32_3_0.001_7  0.465            0.446             0.472            0.373   \n",
       "3  32_3_0.0001_1  0.484            0.479             0.465            0.416   \n",
       "4  32_3_0.0001_3  0.451            0.441             0.454            0.452   \n",
       "\n",
       "   Site - Aggregated  \n",
       "0              0.342  \n",
       "1              0.355  \n",
       "2              0.363  \n",
       "3              0.376  \n",
       "4              0.485  "
      ]
     },
     "execution_count": 4,
     "metadata": {},
     "output_type": "execute_result"
    }
   ],
   "source": [
    "lstm_iter_results.head()"
   ]
  },
  {
   "cell_type": "code",
   "execution_count": 19,
   "id": "automatic-branch",
   "metadata": {},
   "outputs": [],
   "source": [
    "fig = go.Figure()\n",
    "\n",
    "for col in lstm_iter_results.columns[1:]:\n",
    "    fig.add_trace(go.Scatter(x= lstm_iter_results['Unnamed: 0'], y=lstm_iter_results[col],  mode='markers', name=col))"
   ]
  },
  {
   "cell_type": "code",
   "execution_count": 20,
   "id": "obvious-stopping",
   "metadata": {},
   "outputs": [
    {
     "data": {
      "application/vnd.plotly.v1+json": {
       "config": {
        "plotlyServerURL": "https://plot.ly"
       },
       "data": [
        {
         "mode": "markers",
         "name": "Grid",
         "type": "scatter",
         "x": [
          "32_3_0.001_1",
          "32_3_0.001_3",
          "32_3_0.001_7",
          "32_3_0.0001_1",
          "32_3_0.0001_3",
          "32_3_0.0001_7",
          "32_5_0.001_1",
          "32_5_0.001_3",
          "32_5_0.001_7",
          "32_5_0.0001_1",
          "32_5_0.0001_3",
          "32_5_0.0001_7",
          "64_3_0.001_1",
          "64_3_0.001_3",
          "64_3_0.001_7",
          "64_3_0.0001_1",
          "64_3_0.0001_3",
          "64_3_0.0001_7",
          "64_5_0.001_1",
          "64_5_0.001_3",
          "64_5_0.001_7",
          "64_5_0.0001_1",
          "64_5_0.0001_3",
          "64_5_0.0001_7"
         ],
         "y": [
          0.461,
          0.44,
          0.465,
          0.484,
          0.451,
          0.456,
          0.484,
          1.072,
          0.529,
          0.496,
          0.652,
          0.517,
          0.463,
          0.518,
          0.5,
          0.472,
          0.458,
          0.666,
          0.492,
          1.269,
          0.51,
          0.5,
          0.516,
          0.498
         ]
        },
        {
         "mode": "markers",
         "name": "TL - Aggregated",
         "type": "scatter",
         "x": [
          "32_3_0.001_1",
          "32_3_0.001_3",
          "32_3_0.001_7",
          "32_3_0.0001_1",
          "32_3_0.0001_3",
          "32_3_0.0001_7",
          "32_5_0.001_1",
          "32_5_0.001_3",
          "32_5_0.001_7",
          "32_5_0.0001_1",
          "32_5_0.0001_3",
          "32_5_0.0001_7",
          "64_3_0.001_1",
          "64_3_0.001_3",
          "64_3_0.001_7",
          "64_3_0.0001_1",
          "64_3_0.0001_3",
          "64_3_0.0001_7",
          "64_5_0.001_1",
          "64_5_0.001_3",
          "64_5_0.001_7",
          "64_5_0.0001_1",
          "64_5_0.0001_3",
          "64_5_0.0001_7"
         ],
         "y": [
          0.455,
          0.448,
          0.446,
          0.479,
          0.441,
          0.459,
          0.487,
          0.569,
          0.493,
          0.515,
          0.581,
          0.468,
          0.537,
          0.466,
          0.483,
          0.451,
          0.451,
          0.444,
          0.541,
          1.01,
          0.461,
          0.495,
          0.489,
          0.529
         ]
        },
        {
         "mode": "markers",
         "name": "SUB - Aggregated",
         "type": "scatter",
         "x": [
          "32_3_0.001_1",
          "32_3_0.001_3",
          "32_3_0.001_7",
          "32_3_0.0001_1",
          "32_3_0.0001_3",
          "32_3_0.0001_7",
          "32_5_0.001_1",
          "32_5_0.001_3",
          "32_5_0.001_7",
          "32_5_0.0001_1",
          "32_5_0.0001_3",
          "32_5_0.0001_7",
          "64_3_0.001_1",
          "64_3_0.001_3",
          "64_3_0.001_7",
          "64_3_0.0001_1",
          "64_3_0.0001_3",
          "64_3_0.0001_7",
          "64_5_0.001_1",
          "64_5_0.001_3",
          "64_5_0.001_7",
          "64_5_0.0001_1",
          "64_5_0.0001_3",
          "64_5_0.0001_7"
         ],
         "y": [
          0.447,
          0.491,
          0.472,
          0.465,
          0.454,
          0.48,
          0.483,
          0.642,
          0.754,
          0.513,
          0.54,
          0.484,
          0.488,
          0.458,
          0.441,
          0.453,
          0.467,
          0.455,
          0.513,
          0.96,
          0.463,
          0.488,
          0.505,
          0.477
         ]
        },
        {
         "mode": "markers",
         "name": "PC - Aggregated",
         "type": "scatter",
         "x": [
          "32_3_0.001_1",
          "32_3_0.001_3",
          "32_3_0.001_7",
          "32_3_0.0001_1",
          "32_3_0.0001_3",
          "32_3_0.0001_7",
          "32_5_0.001_1",
          "32_5_0.001_3",
          "32_5_0.001_7",
          "32_5_0.0001_1",
          "32_5_0.0001_3",
          "32_5_0.0001_7",
          "64_3_0.001_1",
          "64_3_0.001_3",
          "64_3_0.001_7",
          "64_3_0.0001_1",
          "64_3_0.0001_3",
          "64_3_0.0001_7",
          "64_5_0.001_1",
          "64_5_0.001_3",
          "64_5_0.001_7",
          "64_5_0.0001_1",
          "64_5_0.0001_3",
          "64_5_0.0001_7"
         ],
         "y": [
          0.342,
          0.357,
          0.373,
          0.416,
          0.452,
          0.395,
          0.403,
          0.52,
          0.643,
          0.44,
          0.551,
          0.494,
          0.389,
          0.349,
          0.364,
          0.385,
          0.472,
          0.385,
          0.461,
          0.955,
          1.056,
          0.429,
          0.53,
          0.498
         ]
        },
        {
         "mode": "markers",
         "name": "Site - Aggregated",
         "type": "scatter",
         "x": [
          "32_3_0.001_1",
          "32_3_0.001_3",
          "32_3_0.001_7",
          "32_3_0.0001_1",
          "32_3_0.0001_3",
          "32_3_0.0001_7",
          "32_5_0.001_1",
          "32_5_0.001_3",
          "32_5_0.001_7",
          "32_5_0.0001_1",
          "32_5_0.0001_3",
          "32_5_0.0001_7",
          "64_3_0.001_1",
          "64_3_0.001_3",
          "64_3_0.001_7",
          "64_3_0.0001_1",
          "64_3_0.0001_3",
          "64_3_0.0001_7",
          "64_5_0.001_1",
          "64_5_0.001_3",
          "64_5_0.001_7",
          "64_5_0.0001_1",
          "64_5_0.0001_3",
          "64_5_0.0001_7"
         ],
         "y": [
          0.342,
          0.355,
          0.363,
          0.376,
          0.485,
          0.422,
          0.39,
          0.545,
          0.539,
          0.432,
          0.515,
          0.54,
          0.349,
          0.341,
          0.332,
          0.38,
          0.458,
          0.401,
          0.392,
          0.663,
          0.882,
          0.403,
          0.524,
          0.557
         ]
        }
       ],
       "layout": {
        "template": {
         "data": {
          "bar": [
           {
            "error_x": {
             "color": "#2a3f5f"
            },
            "error_y": {
             "color": "#2a3f5f"
            },
            "marker": {
             "line": {
              "color": "#E5ECF6",
              "width": 0.5
             }
            },
            "type": "bar"
           }
          ],
          "barpolar": [
           {
            "marker": {
             "line": {
              "color": "#E5ECF6",
              "width": 0.5
             }
            },
            "type": "barpolar"
           }
          ],
          "carpet": [
           {
            "aaxis": {
             "endlinecolor": "#2a3f5f",
             "gridcolor": "white",
             "linecolor": "white",
             "minorgridcolor": "white",
             "startlinecolor": "#2a3f5f"
            },
            "baxis": {
             "endlinecolor": "#2a3f5f",
             "gridcolor": "white",
             "linecolor": "white",
             "minorgridcolor": "white",
             "startlinecolor": "#2a3f5f"
            },
            "type": "carpet"
           }
          ],
          "choropleth": [
           {
            "colorbar": {
             "outlinewidth": 0,
             "ticks": ""
            },
            "type": "choropleth"
           }
          ],
          "contour": [
           {
            "colorbar": {
             "outlinewidth": 0,
             "ticks": ""
            },
            "colorscale": [
             [
              0,
              "#0d0887"
             ],
             [
              0.1111111111111111,
              "#46039f"
             ],
             [
              0.2222222222222222,
              "#7201a8"
             ],
             [
              0.3333333333333333,
              "#9c179e"
             ],
             [
              0.4444444444444444,
              "#bd3786"
             ],
             [
              0.5555555555555556,
              "#d8576b"
             ],
             [
              0.6666666666666666,
              "#ed7953"
             ],
             [
              0.7777777777777778,
              "#fb9f3a"
             ],
             [
              0.8888888888888888,
              "#fdca26"
             ],
             [
              1,
              "#f0f921"
             ]
            ],
            "type": "contour"
           }
          ],
          "contourcarpet": [
           {
            "colorbar": {
             "outlinewidth": 0,
             "ticks": ""
            },
            "type": "contourcarpet"
           }
          ],
          "heatmap": [
           {
            "colorbar": {
             "outlinewidth": 0,
             "ticks": ""
            },
            "colorscale": [
             [
              0,
              "#0d0887"
             ],
             [
              0.1111111111111111,
              "#46039f"
             ],
             [
              0.2222222222222222,
              "#7201a8"
             ],
             [
              0.3333333333333333,
              "#9c179e"
             ],
             [
              0.4444444444444444,
              "#bd3786"
             ],
             [
              0.5555555555555556,
              "#d8576b"
             ],
             [
              0.6666666666666666,
              "#ed7953"
             ],
             [
              0.7777777777777778,
              "#fb9f3a"
             ],
             [
              0.8888888888888888,
              "#fdca26"
             ],
             [
              1,
              "#f0f921"
             ]
            ],
            "type": "heatmap"
           }
          ],
          "heatmapgl": [
           {
            "colorbar": {
             "outlinewidth": 0,
             "ticks": ""
            },
            "colorscale": [
             [
              0,
              "#0d0887"
             ],
             [
              0.1111111111111111,
              "#46039f"
             ],
             [
              0.2222222222222222,
              "#7201a8"
             ],
             [
              0.3333333333333333,
              "#9c179e"
             ],
             [
              0.4444444444444444,
              "#bd3786"
             ],
             [
              0.5555555555555556,
              "#d8576b"
             ],
             [
              0.6666666666666666,
              "#ed7953"
             ],
             [
              0.7777777777777778,
              "#fb9f3a"
             ],
             [
              0.8888888888888888,
              "#fdca26"
             ],
             [
              1,
              "#f0f921"
             ]
            ],
            "type": "heatmapgl"
           }
          ],
          "histogram": [
           {
            "marker": {
             "colorbar": {
              "outlinewidth": 0,
              "ticks": ""
             }
            },
            "type": "histogram"
           }
          ],
          "histogram2d": [
           {
            "colorbar": {
             "outlinewidth": 0,
             "ticks": ""
            },
            "colorscale": [
             [
              0,
              "#0d0887"
             ],
             [
              0.1111111111111111,
              "#46039f"
             ],
             [
              0.2222222222222222,
              "#7201a8"
             ],
             [
              0.3333333333333333,
              "#9c179e"
             ],
             [
              0.4444444444444444,
              "#bd3786"
             ],
             [
              0.5555555555555556,
              "#d8576b"
             ],
             [
              0.6666666666666666,
              "#ed7953"
             ],
             [
              0.7777777777777778,
              "#fb9f3a"
             ],
             [
              0.8888888888888888,
              "#fdca26"
             ],
             [
              1,
              "#f0f921"
             ]
            ],
            "type": "histogram2d"
           }
          ],
          "histogram2dcontour": [
           {
            "colorbar": {
             "outlinewidth": 0,
             "ticks": ""
            },
            "colorscale": [
             [
              0,
              "#0d0887"
             ],
             [
              0.1111111111111111,
              "#46039f"
             ],
             [
              0.2222222222222222,
              "#7201a8"
             ],
             [
              0.3333333333333333,
              "#9c179e"
             ],
             [
              0.4444444444444444,
              "#bd3786"
             ],
             [
              0.5555555555555556,
              "#d8576b"
             ],
             [
              0.6666666666666666,
              "#ed7953"
             ],
             [
              0.7777777777777778,
              "#fb9f3a"
             ],
             [
              0.8888888888888888,
              "#fdca26"
             ],
             [
              1,
              "#f0f921"
             ]
            ],
            "type": "histogram2dcontour"
           }
          ],
          "mesh3d": [
           {
            "colorbar": {
             "outlinewidth": 0,
             "ticks": ""
            },
            "type": "mesh3d"
           }
          ],
          "parcoords": [
           {
            "line": {
             "colorbar": {
              "outlinewidth": 0,
              "ticks": ""
             }
            },
            "type": "parcoords"
           }
          ],
          "pie": [
           {
            "automargin": true,
            "type": "pie"
           }
          ],
          "scatter": [
           {
            "marker": {
             "colorbar": {
              "outlinewidth": 0,
              "ticks": ""
             }
            },
            "type": "scatter"
           }
          ],
          "scatter3d": [
           {
            "line": {
             "colorbar": {
              "outlinewidth": 0,
              "ticks": ""
             }
            },
            "marker": {
             "colorbar": {
              "outlinewidth": 0,
              "ticks": ""
             }
            },
            "type": "scatter3d"
           }
          ],
          "scattercarpet": [
           {
            "marker": {
             "colorbar": {
              "outlinewidth": 0,
              "ticks": ""
             }
            },
            "type": "scattercarpet"
           }
          ],
          "scattergeo": [
           {
            "marker": {
             "colorbar": {
              "outlinewidth": 0,
              "ticks": ""
             }
            },
            "type": "scattergeo"
           }
          ],
          "scattergl": [
           {
            "marker": {
             "colorbar": {
              "outlinewidth": 0,
              "ticks": ""
             }
            },
            "type": "scattergl"
           }
          ],
          "scattermapbox": [
           {
            "marker": {
             "colorbar": {
              "outlinewidth": 0,
              "ticks": ""
             }
            },
            "type": "scattermapbox"
           }
          ],
          "scatterpolar": [
           {
            "marker": {
             "colorbar": {
              "outlinewidth": 0,
              "ticks": ""
             }
            },
            "type": "scatterpolar"
           }
          ],
          "scatterpolargl": [
           {
            "marker": {
             "colorbar": {
              "outlinewidth": 0,
              "ticks": ""
             }
            },
            "type": "scatterpolargl"
           }
          ],
          "scatterternary": [
           {
            "marker": {
             "colorbar": {
              "outlinewidth": 0,
              "ticks": ""
             }
            },
            "type": "scatterternary"
           }
          ],
          "surface": [
           {
            "colorbar": {
             "outlinewidth": 0,
             "ticks": ""
            },
            "colorscale": [
             [
              0,
              "#0d0887"
             ],
             [
              0.1111111111111111,
              "#46039f"
             ],
             [
              0.2222222222222222,
              "#7201a8"
             ],
             [
              0.3333333333333333,
              "#9c179e"
             ],
             [
              0.4444444444444444,
              "#bd3786"
             ],
             [
              0.5555555555555556,
              "#d8576b"
             ],
             [
              0.6666666666666666,
              "#ed7953"
             ],
             [
              0.7777777777777778,
              "#fb9f3a"
             ],
             [
              0.8888888888888888,
              "#fdca26"
             ],
             [
              1,
              "#f0f921"
             ]
            ],
            "type": "surface"
           }
          ],
          "table": [
           {
            "cells": {
             "fill": {
              "color": "#EBF0F8"
             },
             "line": {
              "color": "white"
             }
            },
            "header": {
             "fill": {
              "color": "#C8D4E3"
             },
             "line": {
              "color": "white"
             }
            },
            "type": "table"
           }
          ]
         },
         "layout": {
          "annotationdefaults": {
           "arrowcolor": "#2a3f5f",
           "arrowhead": 0,
           "arrowwidth": 1
          },
          "autotypenumbers": "strict",
          "coloraxis": {
           "colorbar": {
            "outlinewidth": 0,
            "ticks": ""
           }
          },
          "colorscale": {
           "diverging": [
            [
             0,
             "#8e0152"
            ],
            [
             0.1,
             "#c51b7d"
            ],
            [
             0.2,
             "#de77ae"
            ],
            [
             0.3,
             "#f1b6da"
            ],
            [
             0.4,
             "#fde0ef"
            ],
            [
             0.5,
             "#f7f7f7"
            ],
            [
             0.6,
             "#e6f5d0"
            ],
            [
             0.7,
             "#b8e186"
            ],
            [
             0.8,
             "#7fbc41"
            ],
            [
             0.9,
             "#4d9221"
            ],
            [
             1,
             "#276419"
            ]
           ],
           "sequential": [
            [
             0,
             "#0d0887"
            ],
            [
             0.1111111111111111,
             "#46039f"
            ],
            [
             0.2222222222222222,
             "#7201a8"
            ],
            [
             0.3333333333333333,
             "#9c179e"
            ],
            [
             0.4444444444444444,
             "#bd3786"
            ],
            [
             0.5555555555555556,
             "#d8576b"
            ],
            [
             0.6666666666666666,
             "#ed7953"
            ],
            [
             0.7777777777777778,
             "#fb9f3a"
            ],
            [
             0.8888888888888888,
             "#fdca26"
            ],
            [
             1,
             "#f0f921"
            ]
           ],
           "sequentialminus": [
            [
             0,
             "#0d0887"
            ],
            [
             0.1111111111111111,
             "#46039f"
            ],
            [
             0.2222222222222222,
             "#7201a8"
            ],
            [
             0.3333333333333333,
             "#9c179e"
            ],
            [
             0.4444444444444444,
             "#bd3786"
            ],
            [
             0.5555555555555556,
             "#d8576b"
            ],
            [
             0.6666666666666666,
             "#ed7953"
            ],
            [
             0.7777777777777778,
             "#fb9f3a"
            ],
            [
             0.8888888888888888,
             "#fdca26"
            ],
            [
             1,
             "#f0f921"
            ]
           ]
          },
          "colorway": [
           "#636efa",
           "#EF553B",
           "#00cc96",
           "#ab63fa",
           "#FFA15A",
           "#19d3f3",
           "#FF6692",
           "#B6E880",
           "#FF97FF",
           "#FECB52"
          ],
          "font": {
           "color": "#2a3f5f"
          },
          "geo": {
           "bgcolor": "white",
           "lakecolor": "white",
           "landcolor": "#E5ECF6",
           "showlakes": true,
           "showland": true,
           "subunitcolor": "white"
          },
          "hoverlabel": {
           "align": "left"
          },
          "hovermode": "closest",
          "mapbox": {
           "style": "light"
          },
          "paper_bgcolor": "white",
          "plot_bgcolor": "#E5ECF6",
          "polar": {
           "angularaxis": {
            "gridcolor": "white",
            "linecolor": "white",
            "ticks": ""
           },
           "bgcolor": "#E5ECF6",
           "radialaxis": {
            "gridcolor": "white",
            "linecolor": "white",
            "ticks": ""
           }
          },
          "scene": {
           "xaxis": {
            "backgroundcolor": "#E5ECF6",
            "gridcolor": "white",
            "gridwidth": 2,
            "linecolor": "white",
            "showbackground": true,
            "ticks": "",
            "zerolinecolor": "white"
           },
           "yaxis": {
            "backgroundcolor": "#E5ECF6",
            "gridcolor": "white",
            "gridwidth": 2,
            "linecolor": "white",
            "showbackground": true,
            "ticks": "",
            "zerolinecolor": "white"
           },
           "zaxis": {
            "backgroundcolor": "#E5ECF6",
            "gridcolor": "white",
            "gridwidth": 2,
            "linecolor": "white",
            "showbackground": true,
            "ticks": "",
            "zerolinecolor": "white"
           }
          },
          "shapedefaults": {
           "line": {
            "color": "#2a3f5f"
           }
          },
          "ternary": {
           "aaxis": {
            "gridcolor": "white",
            "linecolor": "white",
            "ticks": ""
           },
           "baxis": {
            "gridcolor": "white",
            "linecolor": "white",
            "ticks": ""
           },
           "bgcolor": "#E5ECF6",
           "caxis": {
            "gridcolor": "white",
            "linecolor": "white",
            "ticks": ""
           }
          },
          "title": {
           "x": 0.05
          },
          "xaxis": {
           "automargin": true,
           "gridcolor": "white",
           "linecolor": "white",
           "ticks": "",
           "title": {
            "standoff": 15
           },
           "zerolinecolor": "white",
           "zerolinewidth": 2
          },
          "yaxis": {
           "automargin": true,
           "gridcolor": "white",
           "linecolor": "white",
           "ticks": "",
           "title": {
            "standoff": 15
           },
           "zerolinecolor": "white",
           "zerolinewidth": 2
          }
         }
        }
       }
      },
      "text/html": [
       "<div>                            <div id=\"72ca9d3a-83f3-4025-a894-06611b98c69f\" class=\"plotly-graph-div\" style=\"height:525px; width:100%;\"></div>            <script type=\"text/javascript\">                require([\"plotly\"], function(Plotly) {                    window.PLOTLYENV=window.PLOTLYENV || {};                                    if (document.getElementById(\"72ca9d3a-83f3-4025-a894-06611b98c69f\")) {                    Plotly.newPlot(                        \"72ca9d3a-83f3-4025-a894-06611b98c69f\",                        [{\"mode\": \"markers\", \"name\": \"Grid\", \"type\": \"scatter\", \"x\": [\"32_3_0.001_1\", \"32_3_0.001_3\", \"32_3_0.001_7\", \"32_3_0.0001_1\", \"32_3_0.0001_3\", \"32_3_0.0001_7\", \"32_5_0.001_1\", \"32_5_0.001_3\", \"32_5_0.001_7\", \"32_5_0.0001_1\", \"32_5_0.0001_3\", \"32_5_0.0001_7\", \"64_3_0.001_1\", \"64_3_0.001_3\", \"64_3_0.001_7\", \"64_3_0.0001_1\", \"64_3_0.0001_3\", \"64_3_0.0001_7\", \"64_5_0.001_1\", \"64_5_0.001_3\", \"64_5_0.001_7\", \"64_5_0.0001_1\", \"64_5_0.0001_3\", \"64_5_0.0001_7\"], \"y\": [0.461, 0.44, 0.465, 0.484, 0.451, 0.456, 0.484, 1.072, 0.529, 0.496, 0.652, 0.517, 0.463, 0.518, 0.5, 0.472, 0.458, 0.666, 0.492, 1.269, 0.51, 0.5, 0.516, 0.498]}, {\"mode\": \"markers\", \"name\": \"TL - Aggregated\", \"type\": \"scatter\", \"x\": [\"32_3_0.001_1\", \"32_3_0.001_3\", \"32_3_0.001_7\", \"32_3_0.0001_1\", \"32_3_0.0001_3\", \"32_3_0.0001_7\", \"32_5_0.001_1\", \"32_5_0.001_3\", \"32_5_0.001_7\", \"32_5_0.0001_1\", \"32_5_0.0001_3\", \"32_5_0.0001_7\", \"64_3_0.001_1\", \"64_3_0.001_3\", \"64_3_0.001_7\", \"64_3_0.0001_1\", \"64_3_0.0001_3\", \"64_3_0.0001_7\", \"64_5_0.001_1\", \"64_5_0.001_3\", \"64_5_0.001_7\", \"64_5_0.0001_1\", \"64_5_0.0001_3\", \"64_5_0.0001_7\"], \"y\": [0.455, 0.448, 0.446, 0.479, 0.441, 0.459, 0.487, 0.569, 0.493, 0.515, 0.581, 0.468, 0.537, 0.466, 0.483, 0.451, 0.451, 0.444, 0.541, 1.01, 0.461, 0.495, 0.489, 0.529]}, {\"mode\": \"markers\", \"name\": \"SUB - Aggregated\", \"type\": \"scatter\", \"x\": [\"32_3_0.001_1\", \"32_3_0.001_3\", \"32_3_0.001_7\", \"32_3_0.0001_1\", \"32_3_0.0001_3\", \"32_3_0.0001_7\", \"32_5_0.001_1\", \"32_5_0.001_3\", \"32_5_0.001_7\", \"32_5_0.0001_1\", \"32_5_0.0001_3\", \"32_5_0.0001_7\", \"64_3_0.001_1\", \"64_3_0.001_3\", \"64_3_0.001_7\", \"64_3_0.0001_1\", \"64_3_0.0001_3\", \"64_3_0.0001_7\", \"64_5_0.001_1\", \"64_5_0.001_3\", \"64_5_0.001_7\", \"64_5_0.0001_1\", \"64_5_0.0001_3\", \"64_5_0.0001_7\"], \"y\": [0.447, 0.491, 0.472, 0.465, 0.454, 0.48, 0.483, 0.642, 0.754, 0.513, 0.54, 0.484, 0.488, 0.458, 0.441, 0.453, 0.467, 0.455, 0.513, 0.96, 0.463, 0.488, 0.505, 0.477]}, {\"mode\": \"markers\", \"name\": \"PC - Aggregated\", \"type\": \"scatter\", \"x\": [\"32_3_0.001_1\", \"32_3_0.001_3\", \"32_3_0.001_7\", \"32_3_0.0001_1\", \"32_3_0.0001_3\", \"32_3_0.0001_7\", \"32_5_0.001_1\", \"32_5_0.001_3\", \"32_5_0.001_7\", \"32_5_0.0001_1\", \"32_5_0.0001_3\", \"32_5_0.0001_7\", \"64_3_0.001_1\", \"64_3_0.001_3\", \"64_3_0.001_7\", \"64_3_0.0001_1\", \"64_3_0.0001_3\", \"64_3_0.0001_7\", \"64_5_0.001_1\", \"64_5_0.001_3\", \"64_5_0.001_7\", \"64_5_0.0001_1\", \"64_5_0.0001_3\", \"64_5_0.0001_7\"], \"y\": [0.342, 0.357, 0.373, 0.416, 0.452, 0.395, 0.403, 0.52, 0.643, 0.44, 0.551, 0.494, 0.389, 0.349, 0.364, 0.385, 0.472, 0.385, 0.461, 0.955, 1.056, 0.429, 0.53, 0.498]}, {\"mode\": \"markers\", \"name\": \"Site - Aggregated\", \"type\": \"scatter\", \"x\": [\"32_3_0.001_1\", \"32_3_0.001_3\", \"32_3_0.001_7\", \"32_3_0.0001_1\", \"32_3_0.0001_3\", \"32_3_0.0001_7\", \"32_5_0.001_1\", \"32_5_0.001_3\", \"32_5_0.001_7\", \"32_5_0.0001_1\", \"32_5_0.0001_3\", \"32_5_0.0001_7\", \"64_3_0.001_1\", \"64_3_0.001_3\", \"64_3_0.001_7\", \"64_3_0.0001_1\", \"64_3_0.0001_3\", \"64_3_0.0001_7\", \"64_5_0.001_1\", \"64_5_0.001_3\", \"64_5_0.001_7\", \"64_5_0.0001_1\", \"64_5_0.0001_3\", \"64_5_0.0001_7\"], \"y\": [0.342, 0.355, 0.363, 0.376, 0.485, 0.422, 0.39, 0.545, 0.539, 0.432, 0.515, 0.54, 0.349, 0.341, 0.332, 0.38, 0.458, 0.401, 0.392, 0.663, 0.882, 0.403, 0.524, 0.557]}],                        {\"template\": {\"data\": {\"bar\": [{\"error_x\": {\"color\": \"#2a3f5f\"}, \"error_y\": {\"color\": \"#2a3f5f\"}, \"marker\": {\"line\": {\"color\": \"#E5ECF6\", \"width\": 0.5}}, \"type\": \"bar\"}], \"barpolar\": [{\"marker\": {\"line\": {\"color\": \"#E5ECF6\", \"width\": 0.5}}, \"type\": \"barpolar\"}], \"carpet\": [{\"aaxis\": {\"endlinecolor\": \"#2a3f5f\", \"gridcolor\": \"white\", \"linecolor\": \"white\", \"minorgridcolor\": \"white\", \"startlinecolor\": \"#2a3f5f\"}, \"baxis\": {\"endlinecolor\": \"#2a3f5f\", \"gridcolor\": \"white\", \"linecolor\": \"white\", \"minorgridcolor\": \"white\", \"startlinecolor\": \"#2a3f5f\"}, \"type\": \"carpet\"}], \"choropleth\": [{\"colorbar\": {\"outlinewidth\": 0, \"ticks\": \"\"}, \"type\": \"choropleth\"}], \"contour\": [{\"colorbar\": {\"outlinewidth\": 0, \"ticks\": \"\"}, \"colorscale\": [[0.0, \"#0d0887\"], [0.1111111111111111, \"#46039f\"], [0.2222222222222222, \"#7201a8\"], [0.3333333333333333, \"#9c179e\"], [0.4444444444444444, \"#bd3786\"], [0.5555555555555556, \"#d8576b\"], [0.6666666666666666, \"#ed7953\"], [0.7777777777777778, \"#fb9f3a\"], [0.8888888888888888, \"#fdca26\"], [1.0, \"#f0f921\"]], \"type\": \"contour\"}], \"contourcarpet\": [{\"colorbar\": {\"outlinewidth\": 0, \"ticks\": \"\"}, \"type\": \"contourcarpet\"}], \"heatmap\": [{\"colorbar\": {\"outlinewidth\": 0, \"ticks\": \"\"}, \"colorscale\": [[0.0, \"#0d0887\"], [0.1111111111111111, \"#46039f\"], [0.2222222222222222, \"#7201a8\"], [0.3333333333333333, \"#9c179e\"], [0.4444444444444444, \"#bd3786\"], [0.5555555555555556, \"#d8576b\"], [0.6666666666666666, \"#ed7953\"], [0.7777777777777778, \"#fb9f3a\"], [0.8888888888888888, \"#fdca26\"], [1.0, \"#f0f921\"]], \"type\": \"heatmap\"}], \"heatmapgl\": [{\"colorbar\": {\"outlinewidth\": 0, \"ticks\": \"\"}, \"colorscale\": [[0.0, \"#0d0887\"], [0.1111111111111111, \"#46039f\"], [0.2222222222222222, \"#7201a8\"], [0.3333333333333333, \"#9c179e\"], [0.4444444444444444, \"#bd3786\"], [0.5555555555555556, \"#d8576b\"], [0.6666666666666666, \"#ed7953\"], [0.7777777777777778, \"#fb9f3a\"], [0.8888888888888888, \"#fdca26\"], [1.0, \"#f0f921\"]], \"type\": \"heatmapgl\"}], \"histogram\": [{\"marker\": {\"colorbar\": {\"outlinewidth\": 0, \"ticks\": \"\"}}, \"type\": \"histogram\"}], \"histogram2d\": [{\"colorbar\": {\"outlinewidth\": 0, \"ticks\": \"\"}, \"colorscale\": [[0.0, \"#0d0887\"], [0.1111111111111111, \"#46039f\"], [0.2222222222222222, \"#7201a8\"], [0.3333333333333333, \"#9c179e\"], [0.4444444444444444, \"#bd3786\"], [0.5555555555555556, \"#d8576b\"], [0.6666666666666666, \"#ed7953\"], [0.7777777777777778, \"#fb9f3a\"], [0.8888888888888888, \"#fdca26\"], [1.0, \"#f0f921\"]], \"type\": \"histogram2d\"}], \"histogram2dcontour\": [{\"colorbar\": {\"outlinewidth\": 0, \"ticks\": \"\"}, \"colorscale\": [[0.0, \"#0d0887\"], [0.1111111111111111, \"#46039f\"], [0.2222222222222222, \"#7201a8\"], [0.3333333333333333, \"#9c179e\"], [0.4444444444444444, \"#bd3786\"], [0.5555555555555556, \"#d8576b\"], [0.6666666666666666, \"#ed7953\"], [0.7777777777777778, \"#fb9f3a\"], [0.8888888888888888, \"#fdca26\"], [1.0, \"#f0f921\"]], \"type\": \"histogram2dcontour\"}], \"mesh3d\": [{\"colorbar\": {\"outlinewidth\": 0, \"ticks\": \"\"}, \"type\": \"mesh3d\"}], \"parcoords\": [{\"line\": {\"colorbar\": {\"outlinewidth\": 0, \"ticks\": \"\"}}, \"type\": \"parcoords\"}], \"pie\": [{\"automargin\": true, \"type\": \"pie\"}], \"scatter\": [{\"marker\": {\"colorbar\": {\"outlinewidth\": 0, \"ticks\": \"\"}}, \"type\": \"scatter\"}], \"scatter3d\": [{\"line\": {\"colorbar\": {\"outlinewidth\": 0, \"ticks\": \"\"}}, \"marker\": {\"colorbar\": {\"outlinewidth\": 0, \"ticks\": \"\"}}, \"type\": \"scatter3d\"}], \"scattercarpet\": [{\"marker\": {\"colorbar\": {\"outlinewidth\": 0, \"ticks\": \"\"}}, \"type\": \"scattercarpet\"}], \"scattergeo\": [{\"marker\": {\"colorbar\": {\"outlinewidth\": 0, \"ticks\": \"\"}}, \"type\": \"scattergeo\"}], \"scattergl\": [{\"marker\": {\"colorbar\": {\"outlinewidth\": 0, \"ticks\": \"\"}}, \"type\": \"scattergl\"}], \"scattermapbox\": [{\"marker\": {\"colorbar\": {\"outlinewidth\": 0, \"ticks\": \"\"}}, \"type\": \"scattermapbox\"}], \"scatterpolar\": [{\"marker\": {\"colorbar\": {\"outlinewidth\": 0, \"ticks\": \"\"}}, \"type\": \"scatterpolar\"}], \"scatterpolargl\": [{\"marker\": {\"colorbar\": {\"outlinewidth\": 0, \"ticks\": \"\"}}, \"type\": \"scatterpolargl\"}], \"scatterternary\": [{\"marker\": {\"colorbar\": {\"outlinewidth\": 0, \"ticks\": \"\"}}, \"type\": \"scatterternary\"}], \"surface\": [{\"colorbar\": {\"outlinewidth\": 0, \"ticks\": \"\"}, \"colorscale\": [[0.0, \"#0d0887\"], [0.1111111111111111, \"#46039f\"], [0.2222222222222222, \"#7201a8\"], [0.3333333333333333, \"#9c179e\"], [0.4444444444444444, \"#bd3786\"], [0.5555555555555556, \"#d8576b\"], [0.6666666666666666, \"#ed7953\"], [0.7777777777777778, \"#fb9f3a\"], [0.8888888888888888, \"#fdca26\"], [1.0, \"#f0f921\"]], \"type\": \"surface\"}], \"table\": [{\"cells\": {\"fill\": {\"color\": \"#EBF0F8\"}, \"line\": {\"color\": \"white\"}}, \"header\": {\"fill\": {\"color\": \"#C8D4E3\"}, \"line\": {\"color\": \"white\"}}, \"type\": \"table\"}]}, \"layout\": {\"annotationdefaults\": {\"arrowcolor\": \"#2a3f5f\", \"arrowhead\": 0, \"arrowwidth\": 1}, \"autotypenumbers\": \"strict\", \"coloraxis\": {\"colorbar\": {\"outlinewidth\": 0, \"ticks\": \"\"}}, \"colorscale\": {\"diverging\": [[0, \"#8e0152\"], [0.1, \"#c51b7d\"], [0.2, \"#de77ae\"], [0.3, \"#f1b6da\"], [0.4, \"#fde0ef\"], [0.5, \"#f7f7f7\"], [0.6, \"#e6f5d0\"], [0.7, \"#b8e186\"], [0.8, \"#7fbc41\"], [0.9, \"#4d9221\"], [1, \"#276419\"]], \"sequential\": [[0.0, \"#0d0887\"], [0.1111111111111111, \"#46039f\"], [0.2222222222222222, \"#7201a8\"], [0.3333333333333333, \"#9c179e\"], [0.4444444444444444, \"#bd3786\"], [0.5555555555555556, \"#d8576b\"], [0.6666666666666666, \"#ed7953\"], [0.7777777777777778, \"#fb9f3a\"], [0.8888888888888888, \"#fdca26\"], [1.0, \"#f0f921\"]], \"sequentialminus\": [[0.0, \"#0d0887\"], [0.1111111111111111, \"#46039f\"], [0.2222222222222222, \"#7201a8\"], [0.3333333333333333, \"#9c179e\"], [0.4444444444444444, \"#bd3786\"], [0.5555555555555556, \"#d8576b\"], [0.6666666666666666, \"#ed7953\"], [0.7777777777777778, \"#fb9f3a\"], [0.8888888888888888, \"#fdca26\"], [1.0, \"#f0f921\"]]}, \"colorway\": [\"#636efa\", \"#EF553B\", \"#00cc96\", \"#ab63fa\", \"#FFA15A\", \"#19d3f3\", \"#FF6692\", \"#B6E880\", \"#FF97FF\", \"#FECB52\"], \"font\": {\"color\": \"#2a3f5f\"}, \"geo\": {\"bgcolor\": \"white\", \"lakecolor\": \"white\", \"landcolor\": \"#E5ECF6\", \"showlakes\": true, \"showland\": true, \"subunitcolor\": \"white\"}, \"hoverlabel\": {\"align\": \"left\"}, \"hovermode\": \"closest\", \"mapbox\": {\"style\": \"light\"}, \"paper_bgcolor\": \"white\", \"plot_bgcolor\": \"#E5ECF6\", \"polar\": {\"angularaxis\": {\"gridcolor\": \"white\", \"linecolor\": \"white\", \"ticks\": \"\"}, \"bgcolor\": \"#E5ECF6\", \"radialaxis\": {\"gridcolor\": \"white\", \"linecolor\": \"white\", \"ticks\": \"\"}}, \"scene\": {\"xaxis\": {\"backgroundcolor\": \"#E5ECF6\", \"gridcolor\": \"white\", \"gridwidth\": 2, \"linecolor\": \"white\", \"showbackground\": true, \"ticks\": \"\", \"zerolinecolor\": \"white\"}, \"yaxis\": {\"backgroundcolor\": \"#E5ECF6\", \"gridcolor\": \"white\", \"gridwidth\": 2, \"linecolor\": \"white\", \"showbackground\": true, \"ticks\": \"\", \"zerolinecolor\": \"white\"}, \"zaxis\": {\"backgroundcolor\": \"#E5ECF6\", \"gridcolor\": \"white\", \"gridwidth\": 2, \"linecolor\": \"white\", \"showbackground\": true, \"ticks\": \"\", \"zerolinecolor\": \"white\"}}, \"shapedefaults\": {\"line\": {\"color\": \"#2a3f5f\"}}, \"ternary\": {\"aaxis\": {\"gridcolor\": \"white\", \"linecolor\": \"white\", \"ticks\": \"\"}, \"baxis\": {\"gridcolor\": \"white\", \"linecolor\": \"white\", \"ticks\": \"\"}, \"bgcolor\": \"#E5ECF6\", \"caxis\": {\"gridcolor\": \"white\", \"linecolor\": \"white\", \"ticks\": \"\"}}, \"title\": {\"x\": 0.05}, \"xaxis\": {\"automargin\": true, \"gridcolor\": \"white\", \"linecolor\": \"white\", \"ticks\": \"\", \"title\": {\"standoff\": 15}, \"zerolinecolor\": \"white\", \"zerolinewidth\": 2}, \"yaxis\": {\"automargin\": true, \"gridcolor\": \"white\", \"linecolor\": \"white\", \"ticks\": \"\", \"title\": {\"standoff\": 15}, \"zerolinecolor\": \"white\", \"zerolinewidth\": 2}}}},                        {\"responsive\": true}                    ).then(function(){\n",
       "                            \n",
       "var gd = document.getElementById('72ca9d3a-83f3-4025-a894-06611b98c69f');\n",
       "var x = new MutationObserver(function (mutations, observer) {{\n",
       "        var display = window.getComputedStyle(gd).display;\n",
       "        if (!display || display === 'none') {{\n",
       "            console.log([gd, 'removed!']);\n",
       "            Plotly.purge(gd);\n",
       "            observer.disconnect();\n",
       "        }}\n",
       "}});\n",
       "\n",
       "// Listen for the removal of the full notebook cells\n",
       "var notebookContainer = gd.closest('#notebook-container');\n",
       "if (notebookContainer) {{\n",
       "    x.observe(notebookContainer, {childList: true});\n",
       "}}\n",
       "\n",
       "// Listen for the clearing of the current output cell\n",
       "var outputEl = gd.closest('.output');\n",
       "if (outputEl) {{\n",
       "    x.observe(outputEl, {childList: true});\n",
       "}}\n",
       "\n",
       "                        })                };                });            </script>        </div>"
      ]
     },
     "metadata": {},
     "output_type": "display_data"
    }
   ],
   "source": [
    "fig.show()"
   ]
  },
  {
   "cell_type": "code",
   "execution_count": 18,
   "id": "sonic-property",
   "metadata": {},
   "outputs": [
    {
     "data": {
      "text/plain": [
       "Unnamed: 0           32_3_0.0001_1\n",
       "Grid                          0.44\n",
       "TL - Aggregated              0.441\n",
       "SUB - Aggregated             0.441\n",
       "PC - Aggregated              0.342\n",
       "Site - Aggregated            0.332\n",
       "dtype: object"
      ]
     },
     "execution_count": 18,
     "metadata": {},
     "output_type": "execute_result"
    }
   ],
   "source": [
    "lstm_iter_results.min()"
   ]
  },
  {
   "cell_type": "code",
   "execution_count": 78,
   "id": "dominican-longitude",
   "metadata": {},
   "outputs": [],
   "source": [
    "cnn_iter_results = pd.read_csv('../cnn_new_results/rmse.csv')"
   ]
  },
  {
   "cell_type": "code",
   "execution_count": 79,
   "id": "native-stationery",
   "metadata": {},
   "outputs": [
    {
     "data": {
      "text/html": [
       "<div>\n",
       "<style scoped>\n",
       "    .dataframe tbody tr th:only-of-type {\n",
       "        vertical-align: middle;\n",
       "    }\n",
       "\n",
       "    .dataframe tbody tr th {\n",
       "        vertical-align: top;\n",
       "    }\n",
       "\n",
       "    .dataframe thead th {\n",
       "        text-align: right;\n",
       "    }\n",
       "</style>\n",
       "<table border=\"1\" class=\"dataframe\">\n",
       "  <thead>\n",
       "    <tr style=\"text-align: right;\">\n",
       "      <th></th>\n",
       "      <th>Unnamed: 0</th>\n",
       "      <th>Grid</th>\n",
       "      <th>TL - Aggregated</th>\n",
       "      <th>SUB - Aggregated</th>\n",
       "      <th>PC - Aggregated</th>\n",
       "      <th>Site - Aggregated</th>\n",
       "    </tr>\n",
       "  </thead>\n",
       "  <tbody>\n",
       "    <tr>\n",
       "      <th>0</th>\n",
       "      <td>32_4_0.001_1</td>\n",
       "      <td>0.546</td>\n",
       "      <td>0.465</td>\n",
       "      <td>0.467</td>\n",
       "      <td>0.323</td>\n",
       "      <td>0.332</td>\n",
       "    </tr>\n",
       "    <tr>\n",
       "      <th>1</th>\n",
       "      <td>32_4_0.001_3</td>\n",
       "      <td>0.583</td>\n",
       "      <td>0.471</td>\n",
       "      <td>0.486</td>\n",
       "      <td>0.498</td>\n",
       "      <td>0.573</td>\n",
       "    </tr>\n",
       "    <tr>\n",
       "      <th>2</th>\n",
       "      <td>32_4_0.001_7</td>\n",
       "      <td>0.564</td>\n",
       "      <td>0.572</td>\n",
       "      <td>0.503</td>\n",
       "      <td>0.769</td>\n",
       "      <td>0.778</td>\n",
       "    </tr>\n",
       "    <tr>\n",
       "      <th>3</th>\n",
       "      <td>32_4_0.0001_1</td>\n",
       "      <td>0.456</td>\n",
       "      <td>0.405</td>\n",
       "      <td>0.430</td>\n",
       "      <td>0.331</td>\n",
       "      <td>0.328</td>\n",
       "    </tr>\n",
       "    <tr>\n",
       "      <th>4</th>\n",
       "      <td>32_4_0.0001_3</td>\n",
       "      <td>0.446</td>\n",
       "      <td>0.442</td>\n",
       "      <td>0.455</td>\n",
       "      <td>0.357</td>\n",
       "      <td>0.376</td>\n",
       "    </tr>\n",
       "  </tbody>\n",
       "</table>\n",
       "</div>"
      ],
      "text/plain": [
       "      Unnamed: 0   Grid  TL - Aggregated  SUB - Aggregated  PC - Aggregated  \\\n",
       "0   32_4_0.001_1  0.546            0.465             0.467            0.323   \n",
       "1   32_4_0.001_3  0.583            0.471             0.486            0.498   \n",
       "2   32_4_0.001_7  0.564            0.572             0.503            0.769   \n",
       "3  32_4_0.0001_1  0.456            0.405             0.430            0.331   \n",
       "4  32_4_0.0001_3  0.446            0.442             0.455            0.357   \n",
       "\n",
       "   Site - Aggregated  \n",
       "0              0.332  \n",
       "1              0.573  \n",
       "2              0.778  \n",
       "3              0.328  \n",
       "4              0.376  "
      ]
     },
     "execution_count": 79,
     "metadata": {},
     "output_type": "execute_result"
    }
   ],
   "source": [
    "cnn_iter_results.head()"
   ]
  },
  {
   "cell_type": "code",
   "execution_count": 80,
   "id": "molecular-airplane",
   "metadata": {},
   "outputs": [
    {
     "data": {
      "text/plain": [
       "Unnamed: 0           32_4_0.0001_1\n",
       "Grid                         0.426\n",
       "TL - Aggregated              0.405\n",
       "SUB - Aggregated             0.394\n",
       "PC - Aggregated              0.323\n",
       "Site - Aggregated            0.325\n",
       "dtype: object"
      ]
     },
     "execution_count": 80,
     "metadata": {},
     "output_type": "execute_result"
    }
   ],
   "source": [
    "cnn_iter_results.min()"
   ]
  },
  {
   "cell_type": "code",
   "execution_count": 81,
   "id": "christian-sharing",
   "metadata": {},
   "outputs": [
    {
     "data": {
      "application/vnd.plotly.v1+json": {
       "config": {
        "plotlyServerURL": "https://plot.ly"
       },
       "data": [
        {
         "mode": "markers",
         "name": "Grid",
         "type": "scatter",
         "x": [
          "32_4_0.001_1",
          "32_4_0.001_3",
          "32_4_0.001_7",
          "32_4_0.0001_1",
          "32_4_0.0001_3",
          "32_4_0.0001_7",
          "32_6_0.001_1",
          "32_6_0.001_3",
          "32_6_0.001_7",
          "32_6_0.0001_1",
          "32_6_0.0001_3",
          "32_6_0.0001_7",
          "32_8_0.001_1",
          "32_8_0.001_3",
          "32_8_0.001_7"
         ],
         "y": [
          0.546,
          0.583,
          0.564,
          0.456,
          0.446,
          0.503,
          0.501,
          0.465,
          0.538,
          0.427,
          0.506,
          0.426,
          0.489,
          0.476,
          0.6
         ]
        },
        {
         "mode": "markers",
         "name": "TL - Aggregated",
         "type": "scatter",
         "x": [
          "32_4_0.001_1",
          "32_4_0.001_3",
          "32_4_0.001_7",
          "32_4_0.0001_1",
          "32_4_0.0001_3",
          "32_4_0.0001_7",
          "32_6_0.001_1",
          "32_6_0.001_3",
          "32_6_0.001_7",
          "32_6_0.0001_1",
          "32_6_0.0001_3",
          "32_6_0.0001_7",
          "32_8_0.001_1",
          "32_8_0.001_3",
          "32_8_0.001_7"
         ],
         "y": [
          0.465,
          0.471,
          0.572,
          0.405,
          0.442,
          0.427,
          0.462,
          0.48,
          0.494,
          0.42,
          0.485,
          0.463,
          0.429,
          0.443,
          0.523
         ]
        },
        {
         "mode": "markers",
         "name": "SUB - Aggregated",
         "type": "scatter",
         "x": [
          "32_4_0.001_1",
          "32_4_0.001_3",
          "32_4_0.001_7",
          "32_4_0.0001_1",
          "32_4_0.0001_3",
          "32_4_0.0001_7",
          "32_6_0.001_1",
          "32_6_0.001_3",
          "32_6_0.001_7",
          "32_6_0.0001_1",
          "32_6_0.0001_3",
          "32_6_0.0001_7",
          "32_8_0.001_1",
          "32_8_0.001_3",
          "32_8_0.001_7"
         ],
         "y": [
          0.467,
          0.486,
          0.503,
          0.43,
          0.455,
          0.404,
          0.428,
          0.462,
          0.47,
          0.394,
          0.49,
          0.478,
          0.432,
          0.458,
          0.534
         ]
        },
        {
         "mode": "markers",
         "name": "PC - Aggregated",
         "type": "scatter",
         "x": [
          "32_4_0.001_1",
          "32_4_0.001_3",
          "32_4_0.001_7",
          "32_4_0.0001_1",
          "32_4_0.0001_3",
          "32_4_0.0001_7",
          "32_6_0.001_1",
          "32_6_0.001_3",
          "32_6_0.001_7",
          "32_6_0.0001_1",
          "32_6_0.0001_3",
          "32_6_0.0001_7",
          "32_8_0.001_1",
          "32_8_0.001_3",
          "32_8_0.001_7"
         ],
         "y": [
          0.323,
          0.498,
          0.769,
          0.331,
          0.357,
          0.517,
          0.337,
          0.414,
          0.852,
          0.341,
          0.357,
          0.506,
          0.387,
          0.586,
          0.992
         ]
        },
        {
         "mode": "markers",
         "name": "Site - Aggregated",
         "type": "scatter",
         "x": [
          "32_4_0.001_1",
          "32_4_0.001_3",
          "32_4_0.001_7",
          "32_4_0.0001_1",
          "32_4_0.0001_3",
          "32_4_0.0001_7",
          "32_6_0.001_1",
          "32_6_0.001_3",
          "32_6_0.001_7",
          "32_6_0.0001_1",
          "32_6_0.0001_3",
          "32_6_0.0001_7",
          "32_8_0.001_1",
          "32_8_0.001_3",
          "32_8_0.001_7"
         ],
         "y": [
          0.332,
          0.573,
          0.778,
          0.328,
          0.376,
          0.519,
          0.325,
          0.573,
          0.524,
          0.331,
          0.368,
          0.454,
          0.333,
          0.555,
          0.553
         ]
        }
       ],
       "layout": {
        "template": {
         "data": {
          "bar": [
           {
            "error_x": {
             "color": "#2a3f5f"
            },
            "error_y": {
             "color": "#2a3f5f"
            },
            "marker": {
             "line": {
              "color": "#E5ECF6",
              "width": 0.5
             }
            },
            "type": "bar"
           }
          ],
          "barpolar": [
           {
            "marker": {
             "line": {
              "color": "#E5ECF6",
              "width": 0.5
             }
            },
            "type": "barpolar"
           }
          ],
          "carpet": [
           {
            "aaxis": {
             "endlinecolor": "#2a3f5f",
             "gridcolor": "white",
             "linecolor": "white",
             "minorgridcolor": "white",
             "startlinecolor": "#2a3f5f"
            },
            "baxis": {
             "endlinecolor": "#2a3f5f",
             "gridcolor": "white",
             "linecolor": "white",
             "minorgridcolor": "white",
             "startlinecolor": "#2a3f5f"
            },
            "type": "carpet"
           }
          ],
          "choropleth": [
           {
            "colorbar": {
             "outlinewidth": 0,
             "ticks": ""
            },
            "type": "choropleth"
           }
          ],
          "contour": [
           {
            "colorbar": {
             "outlinewidth": 0,
             "ticks": ""
            },
            "colorscale": [
             [
              0,
              "#0d0887"
             ],
             [
              0.1111111111111111,
              "#46039f"
             ],
             [
              0.2222222222222222,
              "#7201a8"
             ],
             [
              0.3333333333333333,
              "#9c179e"
             ],
             [
              0.4444444444444444,
              "#bd3786"
             ],
             [
              0.5555555555555556,
              "#d8576b"
             ],
             [
              0.6666666666666666,
              "#ed7953"
             ],
             [
              0.7777777777777778,
              "#fb9f3a"
             ],
             [
              0.8888888888888888,
              "#fdca26"
             ],
             [
              1,
              "#f0f921"
             ]
            ],
            "type": "contour"
           }
          ],
          "contourcarpet": [
           {
            "colorbar": {
             "outlinewidth": 0,
             "ticks": ""
            },
            "type": "contourcarpet"
           }
          ],
          "heatmap": [
           {
            "colorbar": {
             "outlinewidth": 0,
             "ticks": ""
            },
            "colorscale": [
             [
              0,
              "#0d0887"
             ],
             [
              0.1111111111111111,
              "#46039f"
             ],
             [
              0.2222222222222222,
              "#7201a8"
             ],
             [
              0.3333333333333333,
              "#9c179e"
             ],
             [
              0.4444444444444444,
              "#bd3786"
             ],
             [
              0.5555555555555556,
              "#d8576b"
             ],
             [
              0.6666666666666666,
              "#ed7953"
             ],
             [
              0.7777777777777778,
              "#fb9f3a"
             ],
             [
              0.8888888888888888,
              "#fdca26"
             ],
             [
              1,
              "#f0f921"
             ]
            ],
            "type": "heatmap"
           }
          ],
          "heatmapgl": [
           {
            "colorbar": {
             "outlinewidth": 0,
             "ticks": ""
            },
            "colorscale": [
             [
              0,
              "#0d0887"
             ],
             [
              0.1111111111111111,
              "#46039f"
             ],
             [
              0.2222222222222222,
              "#7201a8"
             ],
             [
              0.3333333333333333,
              "#9c179e"
             ],
             [
              0.4444444444444444,
              "#bd3786"
             ],
             [
              0.5555555555555556,
              "#d8576b"
             ],
             [
              0.6666666666666666,
              "#ed7953"
             ],
             [
              0.7777777777777778,
              "#fb9f3a"
             ],
             [
              0.8888888888888888,
              "#fdca26"
             ],
             [
              1,
              "#f0f921"
             ]
            ],
            "type": "heatmapgl"
           }
          ],
          "histogram": [
           {
            "marker": {
             "colorbar": {
              "outlinewidth": 0,
              "ticks": ""
             }
            },
            "type": "histogram"
           }
          ],
          "histogram2d": [
           {
            "colorbar": {
             "outlinewidth": 0,
             "ticks": ""
            },
            "colorscale": [
             [
              0,
              "#0d0887"
             ],
             [
              0.1111111111111111,
              "#46039f"
             ],
             [
              0.2222222222222222,
              "#7201a8"
             ],
             [
              0.3333333333333333,
              "#9c179e"
             ],
             [
              0.4444444444444444,
              "#bd3786"
             ],
             [
              0.5555555555555556,
              "#d8576b"
             ],
             [
              0.6666666666666666,
              "#ed7953"
             ],
             [
              0.7777777777777778,
              "#fb9f3a"
             ],
             [
              0.8888888888888888,
              "#fdca26"
             ],
             [
              1,
              "#f0f921"
             ]
            ],
            "type": "histogram2d"
           }
          ],
          "histogram2dcontour": [
           {
            "colorbar": {
             "outlinewidth": 0,
             "ticks": ""
            },
            "colorscale": [
             [
              0,
              "#0d0887"
             ],
             [
              0.1111111111111111,
              "#46039f"
             ],
             [
              0.2222222222222222,
              "#7201a8"
             ],
             [
              0.3333333333333333,
              "#9c179e"
             ],
             [
              0.4444444444444444,
              "#bd3786"
             ],
             [
              0.5555555555555556,
              "#d8576b"
             ],
             [
              0.6666666666666666,
              "#ed7953"
             ],
             [
              0.7777777777777778,
              "#fb9f3a"
             ],
             [
              0.8888888888888888,
              "#fdca26"
             ],
             [
              1,
              "#f0f921"
             ]
            ],
            "type": "histogram2dcontour"
           }
          ],
          "mesh3d": [
           {
            "colorbar": {
             "outlinewidth": 0,
             "ticks": ""
            },
            "type": "mesh3d"
           }
          ],
          "parcoords": [
           {
            "line": {
             "colorbar": {
              "outlinewidth": 0,
              "ticks": ""
             }
            },
            "type": "parcoords"
           }
          ],
          "pie": [
           {
            "automargin": true,
            "type": "pie"
           }
          ],
          "scatter": [
           {
            "marker": {
             "colorbar": {
              "outlinewidth": 0,
              "ticks": ""
             }
            },
            "type": "scatter"
           }
          ],
          "scatter3d": [
           {
            "line": {
             "colorbar": {
              "outlinewidth": 0,
              "ticks": ""
             }
            },
            "marker": {
             "colorbar": {
              "outlinewidth": 0,
              "ticks": ""
             }
            },
            "type": "scatter3d"
           }
          ],
          "scattercarpet": [
           {
            "marker": {
             "colorbar": {
              "outlinewidth": 0,
              "ticks": ""
             }
            },
            "type": "scattercarpet"
           }
          ],
          "scattergeo": [
           {
            "marker": {
             "colorbar": {
              "outlinewidth": 0,
              "ticks": ""
             }
            },
            "type": "scattergeo"
           }
          ],
          "scattergl": [
           {
            "marker": {
             "colorbar": {
              "outlinewidth": 0,
              "ticks": ""
             }
            },
            "type": "scattergl"
           }
          ],
          "scattermapbox": [
           {
            "marker": {
             "colorbar": {
              "outlinewidth": 0,
              "ticks": ""
             }
            },
            "type": "scattermapbox"
           }
          ],
          "scatterpolar": [
           {
            "marker": {
             "colorbar": {
              "outlinewidth": 0,
              "ticks": ""
             }
            },
            "type": "scatterpolar"
           }
          ],
          "scatterpolargl": [
           {
            "marker": {
             "colorbar": {
              "outlinewidth": 0,
              "ticks": ""
             }
            },
            "type": "scatterpolargl"
           }
          ],
          "scatterternary": [
           {
            "marker": {
             "colorbar": {
              "outlinewidth": 0,
              "ticks": ""
             }
            },
            "type": "scatterternary"
           }
          ],
          "surface": [
           {
            "colorbar": {
             "outlinewidth": 0,
             "ticks": ""
            },
            "colorscale": [
             [
              0,
              "#0d0887"
             ],
             [
              0.1111111111111111,
              "#46039f"
             ],
             [
              0.2222222222222222,
              "#7201a8"
             ],
             [
              0.3333333333333333,
              "#9c179e"
             ],
             [
              0.4444444444444444,
              "#bd3786"
             ],
             [
              0.5555555555555556,
              "#d8576b"
             ],
             [
              0.6666666666666666,
              "#ed7953"
             ],
             [
              0.7777777777777778,
              "#fb9f3a"
             ],
             [
              0.8888888888888888,
              "#fdca26"
             ],
             [
              1,
              "#f0f921"
             ]
            ],
            "type": "surface"
           }
          ],
          "table": [
           {
            "cells": {
             "fill": {
              "color": "#EBF0F8"
             },
             "line": {
              "color": "white"
             }
            },
            "header": {
             "fill": {
              "color": "#C8D4E3"
             },
             "line": {
              "color": "white"
             }
            },
            "type": "table"
           }
          ]
         },
         "layout": {
          "annotationdefaults": {
           "arrowcolor": "#2a3f5f",
           "arrowhead": 0,
           "arrowwidth": 1
          },
          "autotypenumbers": "strict",
          "coloraxis": {
           "colorbar": {
            "outlinewidth": 0,
            "ticks": ""
           }
          },
          "colorscale": {
           "diverging": [
            [
             0,
             "#8e0152"
            ],
            [
             0.1,
             "#c51b7d"
            ],
            [
             0.2,
             "#de77ae"
            ],
            [
             0.3,
             "#f1b6da"
            ],
            [
             0.4,
             "#fde0ef"
            ],
            [
             0.5,
             "#f7f7f7"
            ],
            [
             0.6,
             "#e6f5d0"
            ],
            [
             0.7,
             "#b8e186"
            ],
            [
             0.8,
             "#7fbc41"
            ],
            [
             0.9,
             "#4d9221"
            ],
            [
             1,
             "#276419"
            ]
           ],
           "sequential": [
            [
             0,
             "#0d0887"
            ],
            [
             0.1111111111111111,
             "#46039f"
            ],
            [
             0.2222222222222222,
             "#7201a8"
            ],
            [
             0.3333333333333333,
             "#9c179e"
            ],
            [
             0.4444444444444444,
             "#bd3786"
            ],
            [
             0.5555555555555556,
             "#d8576b"
            ],
            [
             0.6666666666666666,
             "#ed7953"
            ],
            [
             0.7777777777777778,
             "#fb9f3a"
            ],
            [
             0.8888888888888888,
             "#fdca26"
            ],
            [
             1,
             "#f0f921"
            ]
           ],
           "sequentialminus": [
            [
             0,
             "#0d0887"
            ],
            [
             0.1111111111111111,
             "#46039f"
            ],
            [
             0.2222222222222222,
             "#7201a8"
            ],
            [
             0.3333333333333333,
             "#9c179e"
            ],
            [
             0.4444444444444444,
             "#bd3786"
            ],
            [
             0.5555555555555556,
             "#d8576b"
            ],
            [
             0.6666666666666666,
             "#ed7953"
            ],
            [
             0.7777777777777778,
             "#fb9f3a"
            ],
            [
             0.8888888888888888,
             "#fdca26"
            ],
            [
             1,
             "#f0f921"
            ]
           ]
          },
          "colorway": [
           "#636efa",
           "#EF553B",
           "#00cc96",
           "#ab63fa",
           "#FFA15A",
           "#19d3f3",
           "#FF6692",
           "#B6E880",
           "#FF97FF",
           "#FECB52"
          ],
          "font": {
           "color": "#2a3f5f"
          },
          "geo": {
           "bgcolor": "white",
           "lakecolor": "white",
           "landcolor": "#E5ECF6",
           "showlakes": true,
           "showland": true,
           "subunitcolor": "white"
          },
          "hoverlabel": {
           "align": "left"
          },
          "hovermode": "closest",
          "mapbox": {
           "style": "light"
          },
          "paper_bgcolor": "white",
          "plot_bgcolor": "#E5ECF6",
          "polar": {
           "angularaxis": {
            "gridcolor": "white",
            "linecolor": "white",
            "ticks": ""
           },
           "bgcolor": "#E5ECF6",
           "radialaxis": {
            "gridcolor": "white",
            "linecolor": "white",
            "ticks": ""
           }
          },
          "scene": {
           "xaxis": {
            "backgroundcolor": "#E5ECF6",
            "gridcolor": "white",
            "gridwidth": 2,
            "linecolor": "white",
            "showbackground": true,
            "ticks": "",
            "zerolinecolor": "white"
           },
           "yaxis": {
            "backgroundcolor": "#E5ECF6",
            "gridcolor": "white",
            "gridwidth": 2,
            "linecolor": "white",
            "showbackground": true,
            "ticks": "",
            "zerolinecolor": "white"
           },
           "zaxis": {
            "backgroundcolor": "#E5ECF6",
            "gridcolor": "white",
            "gridwidth": 2,
            "linecolor": "white",
            "showbackground": true,
            "ticks": "",
            "zerolinecolor": "white"
           }
          },
          "shapedefaults": {
           "line": {
            "color": "#2a3f5f"
           }
          },
          "ternary": {
           "aaxis": {
            "gridcolor": "white",
            "linecolor": "white",
            "ticks": ""
           },
           "baxis": {
            "gridcolor": "white",
            "linecolor": "white",
            "ticks": ""
           },
           "bgcolor": "#E5ECF6",
           "caxis": {
            "gridcolor": "white",
            "linecolor": "white",
            "ticks": ""
           }
          },
          "title": {
           "x": 0.05
          },
          "xaxis": {
           "automargin": true,
           "gridcolor": "white",
           "linecolor": "white",
           "ticks": "",
           "title": {
            "standoff": 15
           },
           "zerolinecolor": "white",
           "zerolinewidth": 2
          },
          "yaxis": {
           "automargin": true,
           "gridcolor": "white",
           "linecolor": "white",
           "ticks": "",
           "title": {
            "standoff": 15
           },
           "zerolinecolor": "white",
           "zerolinewidth": 2
          }
         }
        }
       }
      },
      "text/html": [
       "<div>                            <div id=\"2e04d62f-1452-4b94-b62c-8e2a3e3f64ee\" class=\"plotly-graph-div\" style=\"height:525px; width:100%;\"></div>            <script type=\"text/javascript\">                require([\"plotly\"], function(Plotly) {                    window.PLOTLYENV=window.PLOTLYENV || {};                                    if (document.getElementById(\"2e04d62f-1452-4b94-b62c-8e2a3e3f64ee\")) {                    Plotly.newPlot(                        \"2e04d62f-1452-4b94-b62c-8e2a3e3f64ee\",                        [{\"mode\": \"markers\", \"name\": \"Grid\", \"type\": \"scatter\", \"x\": [\"32_4_0.001_1\", \"32_4_0.001_3\", \"32_4_0.001_7\", \"32_4_0.0001_1\", \"32_4_0.0001_3\", \"32_4_0.0001_7\", \"32_6_0.001_1\", \"32_6_0.001_3\", \"32_6_0.001_7\", \"32_6_0.0001_1\", \"32_6_0.0001_3\", \"32_6_0.0001_7\", \"32_8_0.001_1\", \"32_8_0.001_3\", \"32_8_0.001_7\"], \"y\": [0.546, 0.583, 0.564, 0.456, 0.446, 0.503, 0.501, 0.465, 0.538, 0.427, 0.506, 0.426, 0.489, 0.476, 0.6]}, {\"mode\": \"markers\", \"name\": \"TL - Aggregated\", \"type\": \"scatter\", \"x\": [\"32_4_0.001_1\", \"32_4_0.001_3\", \"32_4_0.001_7\", \"32_4_0.0001_1\", \"32_4_0.0001_3\", \"32_4_0.0001_7\", \"32_6_0.001_1\", \"32_6_0.001_3\", \"32_6_0.001_7\", \"32_6_0.0001_1\", \"32_6_0.0001_3\", \"32_6_0.0001_7\", \"32_8_0.001_1\", \"32_8_0.001_3\", \"32_8_0.001_7\"], \"y\": [0.465, 0.471, 0.572, 0.405, 0.442, 0.427, 0.462, 0.48, 0.494, 0.42, 0.485, 0.463, 0.429, 0.443, 0.523]}, {\"mode\": \"markers\", \"name\": \"SUB - Aggregated\", \"type\": \"scatter\", \"x\": [\"32_4_0.001_1\", \"32_4_0.001_3\", \"32_4_0.001_7\", \"32_4_0.0001_1\", \"32_4_0.0001_3\", \"32_4_0.0001_7\", \"32_6_0.001_1\", \"32_6_0.001_3\", \"32_6_0.001_7\", \"32_6_0.0001_1\", \"32_6_0.0001_3\", \"32_6_0.0001_7\", \"32_8_0.001_1\", \"32_8_0.001_3\", \"32_8_0.001_7\"], \"y\": [0.467, 0.486, 0.503, 0.43, 0.455, 0.404, 0.428, 0.462, 0.47, 0.394, 0.49, 0.478, 0.432, 0.458, 0.534]}, {\"mode\": \"markers\", \"name\": \"PC - Aggregated\", \"type\": \"scatter\", \"x\": [\"32_4_0.001_1\", \"32_4_0.001_3\", \"32_4_0.001_7\", \"32_4_0.0001_1\", \"32_4_0.0001_3\", \"32_4_0.0001_7\", \"32_6_0.001_1\", \"32_6_0.001_3\", \"32_6_0.001_7\", \"32_6_0.0001_1\", \"32_6_0.0001_3\", \"32_6_0.0001_7\", \"32_8_0.001_1\", \"32_8_0.001_3\", \"32_8_0.001_7\"], \"y\": [0.323, 0.498, 0.769, 0.331, 0.357, 0.517, 0.337, 0.414, 0.852, 0.341, 0.357, 0.506, 0.387, 0.586, 0.992]}, {\"mode\": \"markers\", \"name\": \"Site - Aggregated\", \"type\": \"scatter\", \"x\": [\"32_4_0.001_1\", \"32_4_0.001_3\", \"32_4_0.001_7\", \"32_4_0.0001_1\", \"32_4_0.0001_3\", \"32_4_0.0001_7\", \"32_6_0.001_1\", \"32_6_0.001_3\", \"32_6_0.001_7\", \"32_6_0.0001_1\", \"32_6_0.0001_3\", \"32_6_0.0001_7\", \"32_8_0.001_1\", \"32_8_0.001_3\", \"32_8_0.001_7\"], \"y\": [0.332, 0.573, 0.778, 0.328, 0.376, 0.519, 0.325, 0.573, 0.524, 0.331, 0.368, 0.454, 0.333, 0.555, 0.553]}],                        {\"template\": {\"data\": {\"bar\": [{\"error_x\": {\"color\": \"#2a3f5f\"}, \"error_y\": {\"color\": \"#2a3f5f\"}, \"marker\": {\"line\": {\"color\": \"#E5ECF6\", \"width\": 0.5}}, \"type\": \"bar\"}], \"barpolar\": [{\"marker\": {\"line\": {\"color\": \"#E5ECF6\", \"width\": 0.5}}, \"type\": \"barpolar\"}], \"carpet\": [{\"aaxis\": {\"endlinecolor\": \"#2a3f5f\", \"gridcolor\": \"white\", \"linecolor\": \"white\", \"minorgridcolor\": \"white\", \"startlinecolor\": \"#2a3f5f\"}, \"baxis\": {\"endlinecolor\": \"#2a3f5f\", \"gridcolor\": \"white\", \"linecolor\": \"white\", \"minorgridcolor\": \"white\", \"startlinecolor\": \"#2a3f5f\"}, \"type\": \"carpet\"}], \"choropleth\": [{\"colorbar\": {\"outlinewidth\": 0, \"ticks\": \"\"}, \"type\": \"choropleth\"}], \"contour\": [{\"colorbar\": {\"outlinewidth\": 0, \"ticks\": \"\"}, \"colorscale\": [[0.0, \"#0d0887\"], [0.1111111111111111, \"#46039f\"], [0.2222222222222222, \"#7201a8\"], [0.3333333333333333, \"#9c179e\"], [0.4444444444444444, \"#bd3786\"], [0.5555555555555556, \"#d8576b\"], [0.6666666666666666, \"#ed7953\"], [0.7777777777777778, \"#fb9f3a\"], [0.8888888888888888, \"#fdca26\"], [1.0, \"#f0f921\"]], \"type\": \"contour\"}], \"contourcarpet\": [{\"colorbar\": {\"outlinewidth\": 0, \"ticks\": \"\"}, \"type\": \"contourcarpet\"}], \"heatmap\": [{\"colorbar\": {\"outlinewidth\": 0, \"ticks\": \"\"}, \"colorscale\": [[0.0, \"#0d0887\"], [0.1111111111111111, \"#46039f\"], [0.2222222222222222, \"#7201a8\"], [0.3333333333333333, \"#9c179e\"], [0.4444444444444444, \"#bd3786\"], [0.5555555555555556, \"#d8576b\"], [0.6666666666666666, \"#ed7953\"], [0.7777777777777778, \"#fb9f3a\"], [0.8888888888888888, \"#fdca26\"], [1.0, \"#f0f921\"]], \"type\": \"heatmap\"}], \"heatmapgl\": [{\"colorbar\": {\"outlinewidth\": 0, \"ticks\": \"\"}, \"colorscale\": [[0.0, \"#0d0887\"], [0.1111111111111111, \"#46039f\"], [0.2222222222222222, \"#7201a8\"], [0.3333333333333333, \"#9c179e\"], [0.4444444444444444, \"#bd3786\"], [0.5555555555555556, \"#d8576b\"], [0.6666666666666666, \"#ed7953\"], [0.7777777777777778, \"#fb9f3a\"], [0.8888888888888888, \"#fdca26\"], [1.0, \"#f0f921\"]], \"type\": \"heatmapgl\"}], \"histogram\": [{\"marker\": {\"colorbar\": {\"outlinewidth\": 0, \"ticks\": \"\"}}, \"type\": \"histogram\"}], \"histogram2d\": [{\"colorbar\": {\"outlinewidth\": 0, \"ticks\": \"\"}, \"colorscale\": [[0.0, \"#0d0887\"], [0.1111111111111111, \"#46039f\"], [0.2222222222222222, \"#7201a8\"], [0.3333333333333333, \"#9c179e\"], [0.4444444444444444, \"#bd3786\"], [0.5555555555555556, \"#d8576b\"], [0.6666666666666666, \"#ed7953\"], [0.7777777777777778, \"#fb9f3a\"], [0.8888888888888888, \"#fdca26\"], [1.0, \"#f0f921\"]], \"type\": \"histogram2d\"}], \"histogram2dcontour\": [{\"colorbar\": {\"outlinewidth\": 0, \"ticks\": \"\"}, \"colorscale\": [[0.0, \"#0d0887\"], [0.1111111111111111, \"#46039f\"], [0.2222222222222222, \"#7201a8\"], [0.3333333333333333, \"#9c179e\"], [0.4444444444444444, \"#bd3786\"], [0.5555555555555556, \"#d8576b\"], [0.6666666666666666, \"#ed7953\"], [0.7777777777777778, \"#fb9f3a\"], [0.8888888888888888, \"#fdca26\"], [1.0, \"#f0f921\"]], \"type\": \"histogram2dcontour\"}], \"mesh3d\": [{\"colorbar\": {\"outlinewidth\": 0, \"ticks\": \"\"}, \"type\": \"mesh3d\"}], \"parcoords\": [{\"line\": {\"colorbar\": {\"outlinewidth\": 0, \"ticks\": \"\"}}, \"type\": \"parcoords\"}], \"pie\": [{\"automargin\": true, \"type\": \"pie\"}], \"scatter\": [{\"marker\": {\"colorbar\": {\"outlinewidth\": 0, \"ticks\": \"\"}}, \"type\": \"scatter\"}], \"scatter3d\": [{\"line\": {\"colorbar\": {\"outlinewidth\": 0, \"ticks\": \"\"}}, \"marker\": {\"colorbar\": {\"outlinewidth\": 0, \"ticks\": \"\"}}, \"type\": \"scatter3d\"}], \"scattercarpet\": [{\"marker\": {\"colorbar\": {\"outlinewidth\": 0, \"ticks\": \"\"}}, \"type\": \"scattercarpet\"}], \"scattergeo\": [{\"marker\": {\"colorbar\": {\"outlinewidth\": 0, \"ticks\": \"\"}}, \"type\": \"scattergeo\"}], \"scattergl\": [{\"marker\": {\"colorbar\": {\"outlinewidth\": 0, \"ticks\": \"\"}}, \"type\": \"scattergl\"}], \"scattermapbox\": [{\"marker\": {\"colorbar\": {\"outlinewidth\": 0, \"ticks\": \"\"}}, \"type\": \"scattermapbox\"}], \"scatterpolar\": [{\"marker\": {\"colorbar\": {\"outlinewidth\": 0, \"ticks\": \"\"}}, \"type\": \"scatterpolar\"}], \"scatterpolargl\": [{\"marker\": {\"colorbar\": {\"outlinewidth\": 0, \"ticks\": \"\"}}, \"type\": \"scatterpolargl\"}], \"scatterternary\": [{\"marker\": {\"colorbar\": {\"outlinewidth\": 0, \"ticks\": \"\"}}, \"type\": \"scatterternary\"}], \"surface\": [{\"colorbar\": {\"outlinewidth\": 0, \"ticks\": \"\"}, \"colorscale\": [[0.0, \"#0d0887\"], [0.1111111111111111, \"#46039f\"], [0.2222222222222222, \"#7201a8\"], [0.3333333333333333, \"#9c179e\"], [0.4444444444444444, \"#bd3786\"], [0.5555555555555556, \"#d8576b\"], [0.6666666666666666, \"#ed7953\"], [0.7777777777777778, \"#fb9f3a\"], [0.8888888888888888, \"#fdca26\"], [1.0, \"#f0f921\"]], \"type\": \"surface\"}], \"table\": [{\"cells\": {\"fill\": {\"color\": \"#EBF0F8\"}, \"line\": {\"color\": \"white\"}}, \"header\": {\"fill\": {\"color\": \"#C8D4E3\"}, \"line\": {\"color\": \"white\"}}, \"type\": \"table\"}]}, \"layout\": {\"annotationdefaults\": {\"arrowcolor\": \"#2a3f5f\", \"arrowhead\": 0, \"arrowwidth\": 1}, \"autotypenumbers\": \"strict\", \"coloraxis\": {\"colorbar\": {\"outlinewidth\": 0, \"ticks\": \"\"}}, \"colorscale\": {\"diverging\": [[0, \"#8e0152\"], [0.1, \"#c51b7d\"], [0.2, \"#de77ae\"], [0.3, \"#f1b6da\"], [0.4, \"#fde0ef\"], [0.5, \"#f7f7f7\"], [0.6, \"#e6f5d0\"], [0.7, \"#b8e186\"], [0.8, \"#7fbc41\"], [0.9, \"#4d9221\"], [1, \"#276419\"]], \"sequential\": [[0.0, \"#0d0887\"], [0.1111111111111111, \"#46039f\"], [0.2222222222222222, \"#7201a8\"], [0.3333333333333333, \"#9c179e\"], [0.4444444444444444, \"#bd3786\"], [0.5555555555555556, \"#d8576b\"], [0.6666666666666666, \"#ed7953\"], [0.7777777777777778, \"#fb9f3a\"], [0.8888888888888888, \"#fdca26\"], [1.0, \"#f0f921\"]], \"sequentialminus\": [[0.0, \"#0d0887\"], [0.1111111111111111, \"#46039f\"], [0.2222222222222222, \"#7201a8\"], [0.3333333333333333, \"#9c179e\"], [0.4444444444444444, \"#bd3786\"], [0.5555555555555556, \"#d8576b\"], [0.6666666666666666, \"#ed7953\"], [0.7777777777777778, \"#fb9f3a\"], [0.8888888888888888, \"#fdca26\"], [1.0, \"#f0f921\"]]}, \"colorway\": [\"#636efa\", \"#EF553B\", \"#00cc96\", \"#ab63fa\", \"#FFA15A\", \"#19d3f3\", \"#FF6692\", \"#B6E880\", \"#FF97FF\", \"#FECB52\"], \"font\": {\"color\": \"#2a3f5f\"}, \"geo\": {\"bgcolor\": \"white\", \"lakecolor\": \"white\", \"landcolor\": \"#E5ECF6\", \"showlakes\": true, \"showland\": true, \"subunitcolor\": \"white\"}, \"hoverlabel\": {\"align\": \"left\"}, \"hovermode\": \"closest\", \"mapbox\": {\"style\": \"light\"}, \"paper_bgcolor\": \"white\", \"plot_bgcolor\": \"#E5ECF6\", \"polar\": {\"angularaxis\": {\"gridcolor\": \"white\", \"linecolor\": \"white\", \"ticks\": \"\"}, \"bgcolor\": \"#E5ECF6\", \"radialaxis\": {\"gridcolor\": \"white\", \"linecolor\": \"white\", \"ticks\": \"\"}}, \"scene\": {\"xaxis\": {\"backgroundcolor\": \"#E5ECF6\", \"gridcolor\": \"white\", \"gridwidth\": 2, \"linecolor\": \"white\", \"showbackground\": true, \"ticks\": \"\", \"zerolinecolor\": \"white\"}, \"yaxis\": {\"backgroundcolor\": \"#E5ECF6\", \"gridcolor\": \"white\", \"gridwidth\": 2, \"linecolor\": \"white\", \"showbackground\": true, \"ticks\": \"\", \"zerolinecolor\": \"white\"}, \"zaxis\": {\"backgroundcolor\": \"#E5ECF6\", \"gridcolor\": \"white\", \"gridwidth\": 2, \"linecolor\": \"white\", \"showbackground\": true, \"ticks\": \"\", \"zerolinecolor\": \"white\"}}, \"shapedefaults\": {\"line\": {\"color\": \"#2a3f5f\"}}, \"ternary\": {\"aaxis\": {\"gridcolor\": \"white\", \"linecolor\": \"white\", \"ticks\": \"\"}, \"baxis\": {\"gridcolor\": \"white\", \"linecolor\": \"white\", \"ticks\": \"\"}, \"bgcolor\": \"#E5ECF6\", \"caxis\": {\"gridcolor\": \"white\", \"linecolor\": \"white\", \"ticks\": \"\"}}, \"title\": {\"x\": 0.05}, \"xaxis\": {\"automargin\": true, \"gridcolor\": \"white\", \"linecolor\": \"white\", \"ticks\": \"\", \"title\": {\"standoff\": 15}, \"zerolinecolor\": \"white\", \"zerolinewidth\": 2}, \"yaxis\": {\"automargin\": true, \"gridcolor\": \"white\", \"linecolor\": \"white\", \"ticks\": \"\", \"title\": {\"standoff\": 15}, \"zerolinecolor\": \"white\", \"zerolinewidth\": 2}}}},                        {\"responsive\": true}                    ).then(function(){\n",
       "                            \n",
       "var gd = document.getElementById('2e04d62f-1452-4b94-b62c-8e2a3e3f64ee');\n",
       "var x = new MutationObserver(function (mutations, observer) {{\n",
       "        var display = window.getComputedStyle(gd).display;\n",
       "        if (!display || display === 'none') {{\n",
       "            console.log([gd, 'removed!']);\n",
       "            Plotly.purge(gd);\n",
       "            observer.disconnect();\n",
       "        }}\n",
       "}});\n",
       "\n",
       "// Listen for the removal of the full notebook cells\n",
       "var notebookContainer = gd.closest('#notebook-container');\n",
       "if (notebookContainer) {{\n",
       "    x.observe(notebookContainer, {childList: true});\n",
       "}}\n",
       "\n",
       "// Listen for the clearing of the current output cell\n",
       "var outputEl = gd.closest('.output');\n",
       "if (outputEl) {{\n",
       "    x.observe(outputEl, {childList: true});\n",
       "}}\n",
       "\n",
       "                        })                };                });            </script>        </div>"
      ]
     },
     "metadata": {},
     "output_type": "display_data"
    }
   ],
   "source": [
    "fig = go.Figure()\n",
    "\n",
    "for col in cnn_iter_results.columns[1:]:\n",
    "    fig.add_trace(go.Scatter(x= cnn_iter_results['Unnamed: 0'], y=cnn_iter_results[col],  mode='markers', name=col))\n",
    "    \n",
    "fig.show()"
   ]
  },
  {
   "cell_type": "markdown",
   "id": "induced-halloween",
   "metadata": {},
   "source": [
    "## Grid + PC level NN"
   ]
  },
  {
   "cell_type": "code",
   "execution_count": 14,
   "id": "latin-ecology",
   "metadata": {},
   "outputs": [],
   "source": [
    "def sum_fc_results(ts_array, model_path):\n",
    "    dfs = []\n",
    "    for ts in ts_array:\n",
    "        ts_fc = pd.read_csv(f'../{model_path}/{ts}.csv', index_col=[0])[['fc']]\n",
    "        dfs.append(ts_fc)\n",
    "    concat_df = pd.concat(dfs, axis=1).sum(axis=1)\n",
    "    return concat_df"
   ]
  },
  {
   "cell_type": "code",
   "execution_count": 15,
   "id": "federal-washington",
   "metadata": {},
   "outputs": [],
   "source": [
    "def calculate_grid_error(start, end, model_path, error_metric):\n",
    "    if end == -1:\n",
    "        ts_array = const.TS[start: ]\n",
    "    else:\n",
    "        ts_array = const.TS[start: end]\n",
    "    data = pd.read_csv(f'../ts_data/grid.csv', index_col=[0])\n",
    "    look_back = 14 * 7  # 14 hours in to 7 days\n",
    "\n",
    "    # train, val, test split\n",
    "    train, val, test = util.split_hourly_data(data, look_back)\n",
    "    train_df = train[['power']]\n",
    "    denom = err.calculate_denom(train_df, const.H_SEASONALITY)\n",
    "    \n",
    "    results_df = pd.read_csv(f'../{model_path}/grid.csv', index_col=[0])\n",
    "    test_sample = results_df['power'].values\n",
    "    forecasts = sum_fc_results(ts_array, model_path).values\n",
    "    horizon = 14\n",
    "    \n",
    "    if error_metric == \"RMSE\":\n",
    "        mean_err, error_dist = err.test_errors_nrmse(train_df.values, test_sample, forecasts, horizon)\n",
    "    else:\n",
    "        mean_err, error_dist = err.test_errors(train_df, test_sample, forecasts, horizon, const.H_SEASONALITY, denom)\n",
    "        \n",
    "    return mean_err, error_dist"
   ]
  },
  {
   "cell_type": "code",
   "execution_count": 43,
   "id": "certified-jimmy",
   "metadata": {},
   "outputs": [],
   "source": [
    "rmse_error, rmse_dist = calculate_grid_error(0, 1, 'combined_nn_results', \"RMSE\")"
   ]
  },
  {
   "cell_type": "code",
   "execution_count": 86,
   "id": "external-harvey",
   "metadata": {},
   "outputs": [
    {
     "data": {
      "text/plain": [
       "0.5857013669439975"
      ]
     },
     "execution_count": 86,
     "metadata": {},
     "output_type": "execute_result"
    }
   ],
   "source": [
    "# rmse_dist\n",
    "rmse_error"
   ]
  },
  {
   "cell_type": "code",
   "execution_count": 55,
   "id": "boring-blink",
   "metadata": {},
   "outputs": [],
   "source": [
    "rmse_error2, rmse_dist2 = calculate_grid_error(0, 1, 'combined_nn_results/loss_0.001', \"RMSE\")"
   ]
  },
  {
   "cell_type": "code",
   "execution_count": 56,
   "id": "julian-break",
   "metadata": {},
   "outputs": [
    {
     "data": {
      "text/plain": [
       "1.26047984138004"
      ]
     },
     "execution_count": 56,
     "metadata": {},
     "output_type": "execute_result"
    }
   ],
   "source": [
    "rmse_error2"
   ]
  },
  {
   "cell_type": "code",
   "execution_count": 64,
   "id": "unusual-central",
   "metadata": {},
   "outputs": [],
   "source": [
    "rmse_error3, rmse_dist3 = calculate_grid_error(0, 1, 'combined_nn_results/model1', \"RMSE\")"
   ]
  },
  {
   "cell_type": "code",
   "execution_count": 65,
   "id": "communist-trinidad",
   "metadata": {},
   "outputs": [
    {
     "data": {
      "text/plain": [
       "0.5863197314945559"
      ]
     },
     "execution_count": 65,
     "metadata": {},
     "output_type": "execute_result"
    }
   ],
   "source": [
    "rmse_error3"
   ]
  },
  {
   "cell_type": "code",
   "execution_count": 66,
   "id": "necessary-mapping",
   "metadata": {},
   "outputs": [],
   "source": [
    "rmse_error4, rmse_dist4 = calculate_grid_error(0, 1, 'combined_nn_results/model2', \"RMSE\")"
   ]
  },
  {
   "cell_type": "code",
   "execution_count": 67,
   "id": "anticipated-album",
   "metadata": {},
   "outputs": [
    {
     "data": {
      "text/plain": [
       "0.6398894618933153"
      ]
     },
     "execution_count": 67,
     "metadata": {},
     "output_type": "execute_result"
    }
   ],
   "source": [
    "rmse_error4"
   ]
  },
  {
   "cell_type": "code",
   "execution_count": 74,
   "id": "chronic-flood",
   "metadata": {},
   "outputs": [],
   "source": [
    "rmse_error5, rmse_dist5 = calculate_grid_error(0, 1, 'combined_nn_results/model3', \"RMSE\")"
   ]
  },
  {
   "cell_type": "code",
   "execution_count": 75,
   "id": "civilian-charles",
   "metadata": {},
   "outputs": [
    {
     "data": {
      "text/plain": [
       "1.0586457223920296"
      ]
     },
     "execution_count": 75,
     "metadata": {},
     "output_type": "execute_result"
    }
   ],
   "source": [
    "rmse_error5"
   ]
  },
  {
   "cell_type": "code",
   "execution_count": 82,
   "id": "continuing-submission",
   "metadata": {},
   "outputs": [],
   "source": [
    "rmse_error6, rmse_dist6 = calculate_grid_error(0, 1, 'combined_nn_results/model4', \"RMSE\")"
   ]
  },
  {
   "cell_type": "code",
   "execution_count": 83,
   "id": "noticed-machine",
   "metadata": {},
   "outputs": [
    {
     "data": {
      "text/plain": [
       "0.7490994565629006"
      ]
     },
     "execution_count": 83,
     "metadata": {},
     "output_type": "execute_result"
    }
   ],
   "source": [
    "rmse_error6"
   ]
  },
  {
   "cell_type": "code",
   "execution_count": 5,
   "id": "exciting-gross",
   "metadata": {},
   "outputs": [],
   "source": [
    "rmse_error7, rmse_dist7 = calculate_grid_error(0, 1, 'combined_nn_results/model5', \"RMSE\")"
   ]
  },
  {
   "cell_type": "code",
   "execution_count": 6,
   "id": "vertical-death",
   "metadata": {},
   "outputs": [
    {
     "data": {
      "text/plain": [
       "0.9768216396148427"
      ]
     },
     "execution_count": 6,
     "metadata": {},
     "output_type": "execute_result"
    }
   ],
   "source": [
    "rmse_error7"
   ]
  },
  {
   "cell_type": "code",
   "execution_count": 13,
   "id": "civilian-dancing",
   "metadata": {},
   "outputs": [],
   "source": [
    "rmse_error8, rmse_dist8 = calculate_grid_error(0, 1, 'combined_nn_results/model6', \"RMSE\")"
   ]
  },
  {
   "cell_type": "code",
   "execution_count": 14,
   "id": "vertical-owner",
   "metadata": {},
   "outputs": [
    {
     "data": {
      "text/plain": [
       "0.63470261003996"
      ]
     },
     "execution_count": 14,
     "metadata": {},
     "output_type": "execute_result"
    }
   ],
   "source": [
    "rmse_error8"
   ]
  },
  {
   "cell_type": "code",
   "execution_count": 19,
   "id": "sporting-agency",
   "metadata": {},
   "outputs": [],
   "source": [
    "rmse_error9, rmse_dist9 = calculate_grid_error(0, 1, 'combined_nn_results/model7', \"RMSE\")"
   ]
  },
  {
   "cell_type": "code",
   "execution_count": 20,
   "id": "assumed-cartoon",
   "metadata": {},
   "outputs": [
    {
     "data": {
      "text/plain": [
       "0.6468553468423276"
      ]
     },
     "execution_count": 20,
     "metadata": {},
     "output_type": "execute_result"
    }
   ],
   "source": [
    "rmse_error9"
   ]
  },
  {
   "cell_type": "code",
   "execution_count": 29,
   "id": "incorrect-poison",
   "metadata": {},
   "outputs": [],
   "source": [
    "rmse_error10, rmse_dist10 = calculate_grid_error(0, 1, 'combined_nn_results/new_models/model1', \"RMSE\")"
   ]
  },
  {
   "cell_type": "code",
   "execution_count": 30,
   "id": "spare-sunday",
   "metadata": {},
   "outputs": [
    {
     "data": {
      "text/plain": [
       "0.6752914283696322"
      ]
     },
     "execution_count": 30,
     "metadata": {},
     "output_type": "execute_result"
    }
   ],
   "source": [
    "rmse_error10"
   ]
  },
  {
   "cell_type": "code",
   "execution_count": 27,
   "id": "atomic-scotland",
   "metadata": {},
   "outputs": [],
   "source": [
    "rmse_error11, rmse_dist11 = calculate_grid_error(0, 1, 'combined_nn_results/new_models/model2', \"RMSE\")"
   ]
  },
  {
   "cell_type": "code",
   "execution_count": 38,
   "id": "federal-replica",
   "metadata": {},
   "outputs": [
    {
     "data": {
      "text/plain": [
       "0.7016178064962285"
      ]
     },
     "execution_count": 38,
     "metadata": {},
     "output_type": "execute_result"
    }
   ],
   "source": [
    "rmse_error11"
   ]
  },
  {
   "cell_type": "code",
   "execution_count": 90,
   "id": "sapphire-elimination",
   "metadata": {},
   "outputs": [
    {
     "data": {
      "application/vnd.plotly.v1+json": {
       "config": {
        "plotlyServerURL": "https://plot.ly"
       },
       "data": [
        {
         "name": "Current Approach (1)",
         "type": "box",
         "y": [
          0.5908299371379412,
          0.5703023564937467,
          0.4994043847409167,
          0.5439039473030666,
          0.4544098139526558,
          0.4900967868342148,
          0.5220556152672474,
          0.6146954053181821,
          0.4929930544305173,
          0.5253222519533094,
          0.4885454620280974,
          0.5510622545988608,
          0.5102723502963203,
          0.48122402333563835,
          0.8201550137094344,
          0.6113047647022007,
          0.871631191709181,
          0.5539579970049272,
          0.48514558436504596,
          0.47089584092708503,
          0.4528833745016835,
          0.5713096186124315,
          0.6553798001512552,
          0.6233013414851745,
          0.6954695351311732,
          0.4892113985834874,
          0.46598493465044305,
          0.4834263641354239,
          1.2262919898719862,
          0.9720363332195838,
          0.5468520001841871,
          0.5220117394343579,
          0.47921534767484936,
          0.5369052901143461,
          0.6964349537090426,
          0.5203271524158937
         ]
        },
        {
         "name": "Current Approach (2)",
         "type": "box",
         "y": [
          0.9601732906540966,
          1.1313015619114184,
          1.4053024526463163,
          1.5551943996911521,
          1.3626880093850398,
          1.5109703407124782,
          1.6042354275798798,
          1.232681197093853,
          1.3491114618340043,
          1.1499870306770852,
          1.10176364533461,
          1.4845293589921638,
          1.533381653560418,
          1.5415618822893506,
          1.121529290877659,
          1.0488378947152988,
          0.8689337036749356,
          1.234934860984181,
          1.4214330947827152,
          1.4811410482958975,
          1.5651852636990191,
          1.2241923056860082,
          1.2728940053496876,
          1.3530842344290197,
          1.1615846002473191,
          1.3741045226995663,
          1.5536928116328634,
          1.46795980818407,
          0.5667778218394021,
          0.7081924302065465,
          0.945554630840877,
          1.1287770407991453,
          1.2348276164868517,
          0.9736354893711289,
          1.5621403576003523,
          1.1849797449170316
         ]
        },
        {
         "name": "Current Approach (3)",
         "type": "box",
         "y": [
          0.5946857740856462,
          0.5565309242927798,
          0.4999100612089187,
          0.48737899417878167,
          0.44753003576722233,
          0.48003425123815097,
          0.48540034465568804,
          0.6072504535507358,
          0.49067132499695804,
          0.5456879334437474,
          0.5034296113975651,
          0.5287722560980281,
          0.48814304189043944,
          0.468669721557862,
          0.8168088972940246,
          0.5922144389915116,
          0.9241094667523162,
          0.5531342436470675,
          0.46726265564339403,
          0.45385757169301766,
          0.45418881453153903,
          0.697784578020089,
          0.6494480523373607,
          0.635685182489578,
          0.714657395698587,
          0.4881479567426391,
          0.46456294235316387,
          0.4734864669705637,
          1.2367459193062347,
          1.0331773677998612,
          0.5571125289710372,
          0.5144822561517991,
          0.4714565575856286,
          0.5499686736384378,
          0.6390248462575596,
          0.5360987925660766
         ]
        },
        {
         "name": "Current Approach (4)",
         "type": "box",
         "y": [
          0.6838888120357588,
          0.7072339521884233,
          0.5543845761163728,
          0.7273800365355239,
          0.45856975682087636,
          0.6035182536306101,
          0.742187784285501,
          0.6337738977359108,
          0.565602386857459,
          0.8810073270027212,
          0.5725676492108279,
          0.6460468921137428,
          0.5072780992752073,
          0.5277469386455365,
          0.9557101389520914,
          0.6838257578509733,
          0.7506032542272987,
          0.5573373146771586,
          0.5644801461808644,
          0.630722733284933,
          0.48202249059070446,
          0.5682953935831673,
          0.751613655937086,
          0.7106048299201613,
          0.8800079343041121,
          0.5365881424639432,
          0.4839887472059103,
          0.5014118279151821,
          0.9687909747382796,
          0.7713625696300392,
          0.6030426535053329,
          0.5861151533231583,
          0.5444221740935962,
          0.5718529500953652,
          0.5452814190771335,
          0.5767540041483862
         ]
        },
        {
         "name": "Current Approach (5)",
         "type": "box",
         "y": [
          0.9604236339012868,
          0.7556464286711203,
          1.452645343895046,
          1.3779258057948818,
          1.3116064598215313,
          0.9090295749402809,
          1.071653241407014,
          0.9116269238200946,
          1.050676351969911,
          1.375533888268513,
          0.6173714291428605,
          0.7376729904073864,
          0.7025322478806286,
          0.7499424778802208,
          1.098476794335331,
          1.19191549081074,
          1.3293961847273985,
          0.9958717812082791,
          0.7836641972253938,
          0.758621202426552,
          1.0366169056244754,
          1.0880994440629272,
          1.0188649858888803,
          1.3837440277095907,
          1.381968762150732,
          0.9075358353005105,
          1.3848361611803182,
          0.8612206812701515,
          1.8830610729111934,
          1.0070657887804206,
          1.2347308548043752,
          0.9932436142370978,
          0.880877773146363,
          0.906794821202131,
          0.6016639862997063,
          1.398688843009717
         ]
        },
        {
         "name": "Current Approach (6)",
         "type": "box",
         "y": [
          0.6498342861391091,
          0.7340081978981948,
          0.7344195670539382,
          0.7727404739638067,
          0.6588684675330679,
          0.7307375653375461,
          0.9400849326805207,
          0.632428481844412,
          0.7404342764298417,
          0.6898138349562483,
          0.690681999652328,
          0.7962866738573978,
          0.8450847460737397,
          0.7816265163381589,
          0.6839887343427993,
          0.5665283082996952,
          0.8035888658948501,
          0.6504902632934514,
          0.708332689517745,
          0.7032873676026309,
          0.842666523980401,
          0.6120558927509101,
          0.7418420271857257,
          0.7448338719290079,
          0.679820082263135,
          0.6746017827013513,
          0.804061511908605,
          0.7582209241821745,
          1.1852966907167994,
          1.308300711244894,
          0.6379010734549052,
          0.6456675055795537,
          0.6607449371884901,
          0.5560689389802705,
          0.9686715067150724,
          0.6335602067736392
         ]
        }
       ],
       "layout": {
        "template": {
         "data": {
          "bar": [
           {
            "error_x": {
             "color": "#2a3f5f"
            },
            "error_y": {
             "color": "#2a3f5f"
            },
            "marker": {
             "line": {
              "color": "#E5ECF6",
              "width": 0.5
             }
            },
            "type": "bar"
           }
          ],
          "barpolar": [
           {
            "marker": {
             "line": {
              "color": "#E5ECF6",
              "width": 0.5
             }
            },
            "type": "barpolar"
           }
          ],
          "carpet": [
           {
            "aaxis": {
             "endlinecolor": "#2a3f5f",
             "gridcolor": "white",
             "linecolor": "white",
             "minorgridcolor": "white",
             "startlinecolor": "#2a3f5f"
            },
            "baxis": {
             "endlinecolor": "#2a3f5f",
             "gridcolor": "white",
             "linecolor": "white",
             "minorgridcolor": "white",
             "startlinecolor": "#2a3f5f"
            },
            "type": "carpet"
           }
          ],
          "choropleth": [
           {
            "colorbar": {
             "outlinewidth": 0,
             "ticks": ""
            },
            "type": "choropleth"
           }
          ],
          "contour": [
           {
            "colorbar": {
             "outlinewidth": 0,
             "ticks": ""
            },
            "colorscale": [
             [
              0,
              "#0d0887"
             ],
             [
              0.1111111111111111,
              "#46039f"
             ],
             [
              0.2222222222222222,
              "#7201a8"
             ],
             [
              0.3333333333333333,
              "#9c179e"
             ],
             [
              0.4444444444444444,
              "#bd3786"
             ],
             [
              0.5555555555555556,
              "#d8576b"
             ],
             [
              0.6666666666666666,
              "#ed7953"
             ],
             [
              0.7777777777777778,
              "#fb9f3a"
             ],
             [
              0.8888888888888888,
              "#fdca26"
             ],
             [
              1,
              "#f0f921"
             ]
            ],
            "type": "contour"
           }
          ],
          "contourcarpet": [
           {
            "colorbar": {
             "outlinewidth": 0,
             "ticks": ""
            },
            "type": "contourcarpet"
           }
          ],
          "heatmap": [
           {
            "colorbar": {
             "outlinewidth": 0,
             "ticks": ""
            },
            "colorscale": [
             [
              0,
              "#0d0887"
             ],
             [
              0.1111111111111111,
              "#46039f"
             ],
             [
              0.2222222222222222,
              "#7201a8"
             ],
             [
              0.3333333333333333,
              "#9c179e"
             ],
             [
              0.4444444444444444,
              "#bd3786"
             ],
             [
              0.5555555555555556,
              "#d8576b"
             ],
             [
              0.6666666666666666,
              "#ed7953"
             ],
             [
              0.7777777777777778,
              "#fb9f3a"
             ],
             [
              0.8888888888888888,
              "#fdca26"
             ],
             [
              1,
              "#f0f921"
             ]
            ],
            "type": "heatmap"
           }
          ],
          "heatmapgl": [
           {
            "colorbar": {
             "outlinewidth": 0,
             "ticks": ""
            },
            "colorscale": [
             [
              0,
              "#0d0887"
             ],
             [
              0.1111111111111111,
              "#46039f"
             ],
             [
              0.2222222222222222,
              "#7201a8"
             ],
             [
              0.3333333333333333,
              "#9c179e"
             ],
             [
              0.4444444444444444,
              "#bd3786"
             ],
             [
              0.5555555555555556,
              "#d8576b"
             ],
             [
              0.6666666666666666,
              "#ed7953"
             ],
             [
              0.7777777777777778,
              "#fb9f3a"
             ],
             [
              0.8888888888888888,
              "#fdca26"
             ],
             [
              1,
              "#f0f921"
             ]
            ],
            "type": "heatmapgl"
           }
          ],
          "histogram": [
           {
            "marker": {
             "colorbar": {
              "outlinewidth": 0,
              "ticks": ""
             }
            },
            "type": "histogram"
           }
          ],
          "histogram2d": [
           {
            "colorbar": {
             "outlinewidth": 0,
             "ticks": ""
            },
            "colorscale": [
             [
              0,
              "#0d0887"
             ],
             [
              0.1111111111111111,
              "#46039f"
             ],
             [
              0.2222222222222222,
              "#7201a8"
             ],
             [
              0.3333333333333333,
              "#9c179e"
             ],
             [
              0.4444444444444444,
              "#bd3786"
             ],
             [
              0.5555555555555556,
              "#d8576b"
             ],
             [
              0.6666666666666666,
              "#ed7953"
             ],
             [
              0.7777777777777778,
              "#fb9f3a"
             ],
             [
              0.8888888888888888,
              "#fdca26"
             ],
             [
              1,
              "#f0f921"
             ]
            ],
            "type": "histogram2d"
           }
          ],
          "histogram2dcontour": [
           {
            "colorbar": {
             "outlinewidth": 0,
             "ticks": ""
            },
            "colorscale": [
             [
              0,
              "#0d0887"
             ],
             [
              0.1111111111111111,
              "#46039f"
             ],
             [
              0.2222222222222222,
              "#7201a8"
             ],
             [
              0.3333333333333333,
              "#9c179e"
             ],
             [
              0.4444444444444444,
              "#bd3786"
             ],
             [
              0.5555555555555556,
              "#d8576b"
             ],
             [
              0.6666666666666666,
              "#ed7953"
             ],
             [
              0.7777777777777778,
              "#fb9f3a"
             ],
             [
              0.8888888888888888,
              "#fdca26"
             ],
             [
              1,
              "#f0f921"
             ]
            ],
            "type": "histogram2dcontour"
           }
          ],
          "mesh3d": [
           {
            "colorbar": {
             "outlinewidth": 0,
             "ticks": ""
            },
            "type": "mesh3d"
           }
          ],
          "parcoords": [
           {
            "line": {
             "colorbar": {
              "outlinewidth": 0,
              "ticks": ""
             }
            },
            "type": "parcoords"
           }
          ],
          "pie": [
           {
            "automargin": true,
            "type": "pie"
           }
          ],
          "scatter": [
           {
            "marker": {
             "colorbar": {
              "outlinewidth": 0,
              "ticks": ""
             }
            },
            "type": "scatter"
           }
          ],
          "scatter3d": [
           {
            "line": {
             "colorbar": {
              "outlinewidth": 0,
              "ticks": ""
             }
            },
            "marker": {
             "colorbar": {
              "outlinewidth": 0,
              "ticks": ""
             }
            },
            "type": "scatter3d"
           }
          ],
          "scattercarpet": [
           {
            "marker": {
             "colorbar": {
              "outlinewidth": 0,
              "ticks": ""
             }
            },
            "type": "scattercarpet"
           }
          ],
          "scattergeo": [
           {
            "marker": {
             "colorbar": {
              "outlinewidth": 0,
              "ticks": ""
             }
            },
            "type": "scattergeo"
           }
          ],
          "scattergl": [
           {
            "marker": {
             "colorbar": {
              "outlinewidth": 0,
              "ticks": ""
             }
            },
            "type": "scattergl"
           }
          ],
          "scattermapbox": [
           {
            "marker": {
             "colorbar": {
              "outlinewidth": 0,
              "ticks": ""
             }
            },
            "type": "scattermapbox"
           }
          ],
          "scatterpolar": [
           {
            "marker": {
             "colorbar": {
              "outlinewidth": 0,
              "ticks": ""
             }
            },
            "type": "scatterpolar"
           }
          ],
          "scatterpolargl": [
           {
            "marker": {
             "colorbar": {
              "outlinewidth": 0,
              "ticks": ""
             }
            },
            "type": "scatterpolargl"
           }
          ],
          "scatterternary": [
           {
            "marker": {
             "colorbar": {
              "outlinewidth": 0,
              "ticks": ""
             }
            },
            "type": "scatterternary"
           }
          ],
          "surface": [
           {
            "colorbar": {
             "outlinewidth": 0,
             "ticks": ""
            },
            "colorscale": [
             [
              0,
              "#0d0887"
             ],
             [
              0.1111111111111111,
              "#46039f"
             ],
             [
              0.2222222222222222,
              "#7201a8"
             ],
             [
              0.3333333333333333,
              "#9c179e"
             ],
             [
              0.4444444444444444,
              "#bd3786"
             ],
             [
              0.5555555555555556,
              "#d8576b"
             ],
             [
              0.6666666666666666,
              "#ed7953"
             ],
             [
              0.7777777777777778,
              "#fb9f3a"
             ],
             [
              0.8888888888888888,
              "#fdca26"
             ],
             [
              1,
              "#f0f921"
             ]
            ],
            "type": "surface"
           }
          ],
          "table": [
           {
            "cells": {
             "fill": {
              "color": "#EBF0F8"
             },
             "line": {
              "color": "white"
             }
            },
            "header": {
             "fill": {
              "color": "#C8D4E3"
             },
             "line": {
              "color": "white"
             }
            },
            "type": "table"
           }
          ]
         },
         "layout": {
          "annotationdefaults": {
           "arrowcolor": "#2a3f5f",
           "arrowhead": 0,
           "arrowwidth": 1
          },
          "autotypenumbers": "strict",
          "coloraxis": {
           "colorbar": {
            "outlinewidth": 0,
            "ticks": ""
           }
          },
          "colorscale": {
           "diverging": [
            [
             0,
             "#8e0152"
            ],
            [
             0.1,
             "#c51b7d"
            ],
            [
             0.2,
             "#de77ae"
            ],
            [
             0.3,
             "#f1b6da"
            ],
            [
             0.4,
             "#fde0ef"
            ],
            [
             0.5,
             "#f7f7f7"
            ],
            [
             0.6,
             "#e6f5d0"
            ],
            [
             0.7,
             "#b8e186"
            ],
            [
             0.8,
             "#7fbc41"
            ],
            [
             0.9,
             "#4d9221"
            ],
            [
             1,
             "#276419"
            ]
           ],
           "sequential": [
            [
             0,
             "#0d0887"
            ],
            [
             0.1111111111111111,
             "#46039f"
            ],
            [
             0.2222222222222222,
             "#7201a8"
            ],
            [
             0.3333333333333333,
             "#9c179e"
            ],
            [
             0.4444444444444444,
             "#bd3786"
            ],
            [
             0.5555555555555556,
             "#d8576b"
            ],
            [
             0.6666666666666666,
             "#ed7953"
            ],
            [
             0.7777777777777778,
             "#fb9f3a"
            ],
            [
             0.8888888888888888,
             "#fdca26"
            ],
            [
             1,
             "#f0f921"
            ]
           ],
           "sequentialminus": [
            [
             0,
             "#0d0887"
            ],
            [
             0.1111111111111111,
             "#46039f"
            ],
            [
             0.2222222222222222,
             "#7201a8"
            ],
            [
             0.3333333333333333,
             "#9c179e"
            ],
            [
             0.4444444444444444,
             "#bd3786"
            ],
            [
             0.5555555555555556,
             "#d8576b"
            ],
            [
             0.6666666666666666,
             "#ed7953"
            ],
            [
             0.7777777777777778,
             "#fb9f3a"
            ],
            [
             0.8888888888888888,
             "#fdca26"
            ],
            [
             1,
             "#f0f921"
            ]
           ]
          },
          "colorway": [
           "#636efa",
           "#EF553B",
           "#00cc96",
           "#ab63fa",
           "#FFA15A",
           "#19d3f3",
           "#FF6692",
           "#B6E880",
           "#FF97FF",
           "#FECB52"
          ],
          "font": {
           "color": "#2a3f5f"
          },
          "geo": {
           "bgcolor": "white",
           "lakecolor": "white",
           "landcolor": "#E5ECF6",
           "showlakes": true,
           "showland": true,
           "subunitcolor": "white"
          },
          "hoverlabel": {
           "align": "left"
          },
          "hovermode": "closest",
          "mapbox": {
           "style": "light"
          },
          "paper_bgcolor": "white",
          "plot_bgcolor": "#E5ECF6",
          "polar": {
           "angularaxis": {
            "gridcolor": "white",
            "linecolor": "white",
            "ticks": ""
           },
           "bgcolor": "#E5ECF6",
           "radialaxis": {
            "gridcolor": "white",
            "linecolor": "white",
            "ticks": ""
           }
          },
          "scene": {
           "xaxis": {
            "backgroundcolor": "#E5ECF6",
            "gridcolor": "white",
            "gridwidth": 2,
            "linecolor": "white",
            "showbackground": true,
            "ticks": "",
            "zerolinecolor": "white"
           },
           "yaxis": {
            "backgroundcolor": "#E5ECF6",
            "gridcolor": "white",
            "gridwidth": 2,
            "linecolor": "white",
            "showbackground": true,
            "ticks": "",
            "zerolinecolor": "white"
           },
           "zaxis": {
            "backgroundcolor": "#E5ECF6",
            "gridcolor": "white",
            "gridwidth": 2,
            "linecolor": "white",
            "showbackground": true,
            "ticks": "",
            "zerolinecolor": "white"
           }
          },
          "shapedefaults": {
           "line": {
            "color": "#2a3f5f"
           }
          },
          "ternary": {
           "aaxis": {
            "gridcolor": "white",
            "linecolor": "white",
            "ticks": ""
           },
           "baxis": {
            "gridcolor": "white",
            "linecolor": "white",
            "ticks": ""
           },
           "bgcolor": "#E5ECF6",
           "caxis": {
            "gridcolor": "white",
            "linecolor": "white",
            "ticks": ""
           }
          },
          "title": {
           "x": 0.05
          },
          "xaxis": {
           "automargin": true,
           "gridcolor": "white",
           "linecolor": "white",
           "ticks": "",
           "title": {
            "standoff": 15
           },
           "zerolinecolor": "white",
           "zerolinewidth": 2
          },
          "yaxis": {
           "automargin": true,
           "gridcolor": "white",
           "linecolor": "white",
           "ticks": "",
           "title": {
            "standoff": 15
           },
           "zerolinecolor": "white",
           "zerolinewidth": 2
          }
         }
        }
       }
      },
      "text/html": [
       "<div>                            <div id=\"bb859c83-0c9c-43e7-922f-e32ec67b3c36\" class=\"plotly-graph-div\" style=\"height:525px; width:100%;\"></div>            <script type=\"text/javascript\">                require([\"plotly\"], function(Plotly) {                    window.PLOTLYENV=window.PLOTLYENV || {};                                    if (document.getElementById(\"bb859c83-0c9c-43e7-922f-e32ec67b3c36\")) {                    Plotly.newPlot(                        \"bb859c83-0c9c-43e7-922f-e32ec67b3c36\",                        [{\"name\": \"Current Approach (1)\", \"type\": \"box\", \"y\": [0.5908299371379412, 0.5703023564937467, 0.4994043847409167, 0.5439039473030666, 0.4544098139526558, 0.4900967868342148, 0.5220556152672474, 0.6146954053181821, 0.4929930544305173, 0.5253222519533094, 0.4885454620280974, 0.5510622545988608, 0.5102723502963203, 0.48122402333563835, 0.8201550137094344, 0.6113047647022007, 0.871631191709181, 0.5539579970049272, 0.48514558436504596, 0.47089584092708503, 0.4528833745016835, 0.5713096186124315, 0.6553798001512552, 0.6233013414851745, 0.6954695351311732, 0.4892113985834874, 0.46598493465044305, 0.4834263641354239, 1.2262919898719862, 0.9720363332195838, 0.5468520001841871, 0.5220117394343579, 0.47921534767484936, 0.5369052901143461, 0.6964349537090426, 0.5203271524158937]}, {\"name\": \"Current Approach (2)\", \"type\": \"box\", \"y\": [0.9601732906540966, 1.1313015619114184, 1.4053024526463163, 1.5551943996911521, 1.3626880093850398, 1.5109703407124782, 1.6042354275798798, 1.232681197093853, 1.3491114618340043, 1.1499870306770852, 1.10176364533461, 1.4845293589921638, 1.533381653560418, 1.5415618822893506, 1.121529290877659, 1.0488378947152988, 0.8689337036749356, 1.234934860984181, 1.4214330947827152, 1.4811410482958975, 1.5651852636990191, 1.2241923056860082, 1.2728940053496876, 1.3530842344290197, 1.1615846002473191, 1.3741045226995663, 1.5536928116328634, 1.46795980818407, 0.5667778218394021, 0.7081924302065465, 0.945554630840877, 1.1287770407991453, 1.2348276164868517, 0.9736354893711289, 1.5621403576003523, 1.1849797449170316]}, {\"name\": \"Current Approach (3)\", \"type\": \"box\", \"y\": [0.5946857740856462, 0.5565309242927798, 0.4999100612089187, 0.48737899417878167, 0.44753003576722233, 0.48003425123815097, 0.48540034465568804, 0.6072504535507358, 0.49067132499695804, 0.5456879334437474, 0.5034296113975651, 0.5287722560980281, 0.48814304189043944, 0.468669721557862, 0.8168088972940246, 0.5922144389915116, 0.9241094667523162, 0.5531342436470675, 0.46726265564339403, 0.45385757169301766, 0.45418881453153903, 0.697784578020089, 0.6494480523373607, 0.635685182489578, 0.714657395698587, 0.4881479567426391, 0.46456294235316387, 0.4734864669705637, 1.2367459193062347, 1.0331773677998612, 0.5571125289710372, 0.5144822561517991, 0.4714565575856286, 0.5499686736384378, 0.6390248462575596, 0.5360987925660766]}, {\"name\": \"Current Approach (4)\", \"type\": \"box\", \"y\": [0.6838888120357588, 0.7072339521884233, 0.5543845761163728, 0.7273800365355239, 0.45856975682087636, 0.6035182536306101, 0.742187784285501, 0.6337738977359108, 0.565602386857459, 0.8810073270027212, 0.5725676492108279, 0.6460468921137428, 0.5072780992752073, 0.5277469386455365, 0.9557101389520914, 0.6838257578509733, 0.7506032542272987, 0.5573373146771586, 0.5644801461808644, 0.630722733284933, 0.48202249059070446, 0.5682953935831673, 0.751613655937086, 0.7106048299201613, 0.8800079343041121, 0.5365881424639432, 0.4839887472059103, 0.5014118279151821, 0.9687909747382796, 0.7713625696300392, 0.6030426535053329, 0.5861151533231583, 0.5444221740935962, 0.5718529500953652, 0.5452814190771335, 0.5767540041483862]}, {\"name\": \"Current Approach (5)\", \"type\": \"box\", \"y\": [0.9604236339012868, 0.7556464286711203, 1.452645343895046, 1.3779258057948818, 1.3116064598215313, 0.9090295749402809, 1.071653241407014, 0.9116269238200946, 1.050676351969911, 1.375533888268513, 0.6173714291428605, 0.7376729904073864, 0.7025322478806286, 0.7499424778802208, 1.098476794335331, 1.19191549081074, 1.3293961847273985, 0.9958717812082791, 0.7836641972253938, 0.758621202426552, 1.0366169056244754, 1.0880994440629272, 1.0188649858888803, 1.3837440277095907, 1.381968762150732, 0.9075358353005105, 1.3848361611803182, 0.8612206812701515, 1.8830610729111934, 1.0070657887804206, 1.2347308548043752, 0.9932436142370978, 0.880877773146363, 0.906794821202131, 0.6016639862997063, 1.398688843009717]}, {\"name\": \"Current Approach (6)\", \"type\": \"box\", \"y\": [0.6498342861391091, 0.7340081978981948, 0.7344195670539382, 0.7727404739638067, 0.6588684675330679, 0.7307375653375461, 0.9400849326805207, 0.632428481844412, 0.7404342764298417, 0.6898138349562483, 0.690681999652328, 0.7962866738573978, 0.8450847460737397, 0.7816265163381589, 0.6839887343427993, 0.5665283082996952, 0.8035888658948501, 0.6504902632934514, 0.708332689517745, 0.7032873676026309, 0.842666523980401, 0.6120558927509101, 0.7418420271857257, 0.7448338719290079, 0.679820082263135, 0.6746017827013513, 0.804061511908605, 0.7582209241821745, 1.1852966907167994, 1.308300711244894, 0.6379010734549052, 0.6456675055795537, 0.6607449371884901, 0.5560689389802705, 0.9686715067150724, 0.6335602067736392]}],                        {\"template\": {\"data\": {\"bar\": [{\"error_x\": {\"color\": \"#2a3f5f\"}, \"error_y\": {\"color\": \"#2a3f5f\"}, \"marker\": {\"line\": {\"color\": \"#E5ECF6\", \"width\": 0.5}}, \"type\": \"bar\"}], \"barpolar\": [{\"marker\": {\"line\": {\"color\": \"#E5ECF6\", \"width\": 0.5}}, \"type\": \"barpolar\"}], \"carpet\": [{\"aaxis\": {\"endlinecolor\": \"#2a3f5f\", \"gridcolor\": \"white\", \"linecolor\": \"white\", \"minorgridcolor\": \"white\", \"startlinecolor\": \"#2a3f5f\"}, \"baxis\": {\"endlinecolor\": \"#2a3f5f\", \"gridcolor\": \"white\", \"linecolor\": \"white\", \"minorgridcolor\": \"white\", \"startlinecolor\": \"#2a3f5f\"}, \"type\": \"carpet\"}], \"choropleth\": [{\"colorbar\": {\"outlinewidth\": 0, \"ticks\": \"\"}, \"type\": \"choropleth\"}], \"contour\": [{\"colorbar\": {\"outlinewidth\": 0, \"ticks\": \"\"}, \"colorscale\": [[0.0, \"#0d0887\"], [0.1111111111111111, \"#46039f\"], [0.2222222222222222, \"#7201a8\"], [0.3333333333333333, \"#9c179e\"], [0.4444444444444444, \"#bd3786\"], [0.5555555555555556, \"#d8576b\"], [0.6666666666666666, \"#ed7953\"], [0.7777777777777778, \"#fb9f3a\"], [0.8888888888888888, \"#fdca26\"], [1.0, \"#f0f921\"]], \"type\": \"contour\"}], \"contourcarpet\": [{\"colorbar\": {\"outlinewidth\": 0, \"ticks\": \"\"}, \"type\": \"contourcarpet\"}], \"heatmap\": [{\"colorbar\": {\"outlinewidth\": 0, \"ticks\": \"\"}, \"colorscale\": [[0.0, \"#0d0887\"], [0.1111111111111111, \"#46039f\"], [0.2222222222222222, \"#7201a8\"], [0.3333333333333333, \"#9c179e\"], [0.4444444444444444, \"#bd3786\"], [0.5555555555555556, \"#d8576b\"], [0.6666666666666666, \"#ed7953\"], [0.7777777777777778, \"#fb9f3a\"], [0.8888888888888888, \"#fdca26\"], [1.0, \"#f0f921\"]], \"type\": \"heatmap\"}], \"heatmapgl\": [{\"colorbar\": {\"outlinewidth\": 0, \"ticks\": \"\"}, \"colorscale\": [[0.0, \"#0d0887\"], [0.1111111111111111, \"#46039f\"], [0.2222222222222222, \"#7201a8\"], [0.3333333333333333, \"#9c179e\"], [0.4444444444444444, \"#bd3786\"], [0.5555555555555556, \"#d8576b\"], [0.6666666666666666, \"#ed7953\"], [0.7777777777777778, \"#fb9f3a\"], [0.8888888888888888, \"#fdca26\"], [1.0, \"#f0f921\"]], \"type\": \"heatmapgl\"}], \"histogram\": [{\"marker\": {\"colorbar\": {\"outlinewidth\": 0, \"ticks\": \"\"}}, \"type\": \"histogram\"}], \"histogram2d\": [{\"colorbar\": {\"outlinewidth\": 0, \"ticks\": \"\"}, \"colorscale\": [[0.0, \"#0d0887\"], [0.1111111111111111, \"#46039f\"], [0.2222222222222222, \"#7201a8\"], [0.3333333333333333, \"#9c179e\"], [0.4444444444444444, \"#bd3786\"], [0.5555555555555556, \"#d8576b\"], [0.6666666666666666, \"#ed7953\"], [0.7777777777777778, \"#fb9f3a\"], [0.8888888888888888, \"#fdca26\"], [1.0, \"#f0f921\"]], \"type\": \"histogram2d\"}], \"histogram2dcontour\": [{\"colorbar\": {\"outlinewidth\": 0, \"ticks\": \"\"}, \"colorscale\": [[0.0, \"#0d0887\"], [0.1111111111111111, \"#46039f\"], [0.2222222222222222, \"#7201a8\"], [0.3333333333333333, \"#9c179e\"], [0.4444444444444444, \"#bd3786\"], [0.5555555555555556, \"#d8576b\"], [0.6666666666666666, \"#ed7953\"], [0.7777777777777778, \"#fb9f3a\"], [0.8888888888888888, \"#fdca26\"], [1.0, \"#f0f921\"]], \"type\": \"histogram2dcontour\"}], \"mesh3d\": [{\"colorbar\": {\"outlinewidth\": 0, \"ticks\": \"\"}, \"type\": \"mesh3d\"}], \"parcoords\": [{\"line\": {\"colorbar\": {\"outlinewidth\": 0, \"ticks\": \"\"}}, \"type\": \"parcoords\"}], \"pie\": [{\"automargin\": true, \"type\": \"pie\"}], \"scatter\": [{\"marker\": {\"colorbar\": {\"outlinewidth\": 0, \"ticks\": \"\"}}, \"type\": \"scatter\"}], \"scatter3d\": [{\"line\": {\"colorbar\": {\"outlinewidth\": 0, \"ticks\": \"\"}}, \"marker\": {\"colorbar\": {\"outlinewidth\": 0, \"ticks\": \"\"}}, \"type\": \"scatter3d\"}], \"scattercarpet\": [{\"marker\": {\"colorbar\": {\"outlinewidth\": 0, \"ticks\": \"\"}}, \"type\": \"scattercarpet\"}], \"scattergeo\": [{\"marker\": {\"colorbar\": {\"outlinewidth\": 0, \"ticks\": \"\"}}, \"type\": \"scattergeo\"}], \"scattergl\": [{\"marker\": {\"colorbar\": {\"outlinewidth\": 0, \"ticks\": \"\"}}, \"type\": \"scattergl\"}], \"scattermapbox\": [{\"marker\": {\"colorbar\": {\"outlinewidth\": 0, \"ticks\": \"\"}}, \"type\": \"scattermapbox\"}], \"scatterpolar\": [{\"marker\": {\"colorbar\": {\"outlinewidth\": 0, \"ticks\": \"\"}}, \"type\": \"scatterpolar\"}], \"scatterpolargl\": [{\"marker\": {\"colorbar\": {\"outlinewidth\": 0, \"ticks\": \"\"}}, \"type\": \"scatterpolargl\"}], \"scatterternary\": [{\"marker\": {\"colorbar\": {\"outlinewidth\": 0, \"ticks\": \"\"}}, \"type\": \"scatterternary\"}], \"surface\": [{\"colorbar\": {\"outlinewidth\": 0, \"ticks\": \"\"}, \"colorscale\": [[0.0, \"#0d0887\"], [0.1111111111111111, \"#46039f\"], [0.2222222222222222, \"#7201a8\"], [0.3333333333333333, \"#9c179e\"], [0.4444444444444444, \"#bd3786\"], [0.5555555555555556, \"#d8576b\"], [0.6666666666666666, \"#ed7953\"], [0.7777777777777778, \"#fb9f3a\"], [0.8888888888888888, \"#fdca26\"], [1.0, \"#f0f921\"]], \"type\": \"surface\"}], \"table\": [{\"cells\": {\"fill\": {\"color\": \"#EBF0F8\"}, \"line\": {\"color\": \"white\"}}, \"header\": {\"fill\": {\"color\": \"#C8D4E3\"}, \"line\": {\"color\": \"white\"}}, \"type\": \"table\"}]}, \"layout\": {\"annotationdefaults\": {\"arrowcolor\": \"#2a3f5f\", \"arrowhead\": 0, \"arrowwidth\": 1}, \"autotypenumbers\": \"strict\", \"coloraxis\": {\"colorbar\": {\"outlinewidth\": 0, \"ticks\": \"\"}}, \"colorscale\": {\"diverging\": [[0, \"#8e0152\"], [0.1, \"#c51b7d\"], [0.2, \"#de77ae\"], [0.3, \"#f1b6da\"], [0.4, \"#fde0ef\"], [0.5, \"#f7f7f7\"], [0.6, \"#e6f5d0\"], [0.7, \"#b8e186\"], [0.8, \"#7fbc41\"], [0.9, \"#4d9221\"], [1, \"#276419\"]], \"sequential\": [[0.0, \"#0d0887\"], [0.1111111111111111, \"#46039f\"], [0.2222222222222222, \"#7201a8\"], [0.3333333333333333, \"#9c179e\"], [0.4444444444444444, \"#bd3786\"], [0.5555555555555556, \"#d8576b\"], [0.6666666666666666, \"#ed7953\"], [0.7777777777777778, \"#fb9f3a\"], [0.8888888888888888, \"#fdca26\"], [1.0, \"#f0f921\"]], \"sequentialminus\": [[0.0, \"#0d0887\"], [0.1111111111111111, \"#46039f\"], [0.2222222222222222, \"#7201a8\"], [0.3333333333333333, \"#9c179e\"], [0.4444444444444444, \"#bd3786\"], [0.5555555555555556, \"#d8576b\"], [0.6666666666666666, \"#ed7953\"], [0.7777777777777778, \"#fb9f3a\"], [0.8888888888888888, \"#fdca26\"], [1.0, \"#f0f921\"]]}, \"colorway\": [\"#636efa\", \"#EF553B\", \"#00cc96\", \"#ab63fa\", \"#FFA15A\", \"#19d3f3\", \"#FF6692\", \"#B6E880\", \"#FF97FF\", \"#FECB52\"], \"font\": {\"color\": \"#2a3f5f\"}, \"geo\": {\"bgcolor\": \"white\", \"lakecolor\": \"white\", \"landcolor\": \"#E5ECF6\", \"showlakes\": true, \"showland\": true, \"subunitcolor\": \"white\"}, \"hoverlabel\": {\"align\": \"left\"}, \"hovermode\": \"closest\", \"mapbox\": {\"style\": \"light\"}, \"paper_bgcolor\": \"white\", \"plot_bgcolor\": \"#E5ECF6\", \"polar\": {\"angularaxis\": {\"gridcolor\": \"white\", \"linecolor\": \"white\", \"ticks\": \"\"}, \"bgcolor\": \"#E5ECF6\", \"radialaxis\": {\"gridcolor\": \"white\", \"linecolor\": \"white\", \"ticks\": \"\"}}, \"scene\": {\"xaxis\": {\"backgroundcolor\": \"#E5ECF6\", \"gridcolor\": \"white\", \"gridwidth\": 2, \"linecolor\": \"white\", \"showbackground\": true, \"ticks\": \"\", \"zerolinecolor\": \"white\"}, \"yaxis\": {\"backgroundcolor\": \"#E5ECF6\", \"gridcolor\": \"white\", \"gridwidth\": 2, \"linecolor\": \"white\", \"showbackground\": true, \"ticks\": \"\", \"zerolinecolor\": \"white\"}, \"zaxis\": {\"backgroundcolor\": \"#E5ECF6\", \"gridcolor\": \"white\", \"gridwidth\": 2, \"linecolor\": \"white\", \"showbackground\": true, \"ticks\": \"\", \"zerolinecolor\": \"white\"}}, \"shapedefaults\": {\"line\": {\"color\": \"#2a3f5f\"}}, \"ternary\": {\"aaxis\": {\"gridcolor\": \"white\", \"linecolor\": \"white\", \"ticks\": \"\"}, \"baxis\": {\"gridcolor\": \"white\", \"linecolor\": \"white\", \"ticks\": \"\"}, \"bgcolor\": \"#E5ECF6\", \"caxis\": {\"gridcolor\": \"white\", \"linecolor\": \"white\", \"ticks\": \"\"}}, \"title\": {\"x\": 0.05}, \"xaxis\": {\"automargin\": true, \"gridcolor\": \"white\", \"linecolor\": \"white\", \"ticks\": \"\", \"title\": {\"standoff\": 15}, \"zerolinecolor\": \"white\", \"zerolinewidth\": 2}, \"yaxis\": {\"automargin\": true, \"gridcolor\": \"white\", \"linecolor\": \"white\", \"ticks\": \"\", \"title\": {\"standoff\": 15}, \"zerolinecolor\": \"white\", \"zerolinewidth\": 2}}}},                        {\"responsive\": true}                    ).then(function(){\n",
       "                            \n",
       "var gd = document.getElementById('bb859c83-0c9c-43e7-922f-e32ec67b3c36');\n",
       "var x = new MutationObserver(function (mutations, observer) {{\n",
       "        var display = window.getComputedStyle(gd).display;\n",
       "        if (!display || display === 'none') {{\n",
       "            console.log([gd, 'removed!']);\n",
       "            Plotly.purge(gd);\n",
       "            observer.disconnect();\n",
       "        }}\n",
       "}});\n",
       "\n",
       "// Listen for the removal of the full notebook cells\n",
       "var notebookContainer = gd.closest('#notebook-container');\n",
       "if (notebookContainer) {{\n",
       "    x.observe(notebookContainer, {childList: true});\n",
       "}}\n",
       "\n",
       "// Listen for the clearing of the current output cell\n",
       "var outputEl = gd.closest('.output');\n",
       "if (outputEl) {{\n",
       "    x.observe(outputEl, {childList: true});\n",
       "}}\n",
       "\n",
       "                        })                };                });            </script>        </div>"
      ]
     },
     "metadata": {},
     "output_type": "display_data"
    }
   ],
   "source": [
    "fig_box = go.Figure()\n",
    "\n",
    "fig_box.add_trace(go.Box(y = rmse_dist, name= \"Current Approach (1)\"))\n",
    "fig_box.add_trace(go.Box(y = rmse_dist2, name= \"Current Approach (2)\"))\n",
    "fig_box.add_trace(go.Box(y = rmse_dist3, name= \"Current Approach (3)\"))\n",
    "fig_box.add_trace(go.Box(y = rmse_dist4, name= \"Current Approach (4)\"))\n",
    "fig_box.add_trace(go.Box(y = rmse_dist5, name= \"Current Approach (5)\"))\n",
    "fig_box.add_trace(go.Box(y = rmse_dist6, name= \"Current Approach (6)\"))\n",
    "fig_box.show()"
   ]
  },
  {
   "cell_type": "code",
   "execution_count": 31,
   "id": "dimensional-cyprus",
   "metadata": {},
   "outputs": [],
   "source": [
    "def read_loss_curve(path):\n",
    "    return pd.read_pickle(f'../{path}/training_loss_grid_iteration')"
   ]
  },
  {
   "cell_type": "code",
   "execution_count": 32,
   "id": "republican-afghanistan",
   "metadata": {},
   "outputs": [],
   "source": [
    "def plot_loss(loss_array, models):\n",
    "\n",
    "    fig = go.Figure()\n",
    "    \n",
    "    i =0\n",
    "    for loss in loss_array:\n",
    "        fig.add_trace(go.Scatter(y= loss['loss'] , name = f'{models[i]}_train-loss' ))\n",
    "#         fig.add_trace(go.Scatter(y= loss['val_loss'], name = f'{models[i]}_val-loss'))\n",
    "        i +=1\n",
    "    fig.show()"
   ]
  },
  {
   "cell_type": "code",
   "execution_count": 33,
   "id": "wrong-naples",
   "metadata": {},
   "outputs": [],
   "source": [
    "loss = read_loss_curve('combined_nn_results/new_models/model1')"
   ]
  },
  {
   "cell_type": "code",
   "execution_count": 36,
   "id": "flexible-fortune",
   "metadata": {},
   "outputs": [],
   "source": [
    "loss2 = read_loss_curve('combined_nn_results/new_models/model2')"
   ]
  },
  {
   "cell_type": "code",
   "execution_count": 37,
   "id": "simplified-aerospace",
   "metadata": {},
   "outputs": [
    {
     "data": {
      "application/vnd.plotly.v1+json": {
       "config": {
        "plotlyServerURL": "https://plot.ly"
       },
       "data": [
        {
         "name": "combined_nn1_train-loss",
         "type": "scatter",
         "y": [
          1.181835651397705,
          0.7215131521224976,
          0.6678490042686462,
          0.6341717839241028,
          0.608681321144104,
          0.589979350566864,
          0.5743985772132874,
          0.5630529522895813,
          0.5516176819801331,
          0.5426406264305115,
          0.5353967547416687,
          0.5288695693016052,
          0.5229594707489014,
          0.5168268084526062,
          0.5123060941696167,
          0.508001983165741,
          0.5038528442382812,
          0.4999150335788727,
          0.49661192297935486,
          0.4938451051712036,
          0.49071332812309265,
          0.48826462030410767,
          0.485910028219223,
          0.4831712543964386,
          0.48107147216796875,
          0.4793921113014221,
          0.47792720794677734,
          0.47642982006073,
          0.4744117558002472,
          0.47333669662475586,
          0.4718136191368103,
          0.4704873263835907,
          0.46981558203697205,
          0.46837857365608215,
          0.4676874577999115,
          0.4666982591152191,
          0.4658234417438507,
          0.4647408127784729,
          0.46400564908981323,
          0.4631502032279968,
          0.4625694453716278,
          0.4618634879589081,
          0.4612806439399719,
          0.4606398642063141,
          0.4600898325443268,
          0.45931142568588257,
          0.4591034948825836,
          0.45831185579299927,
          0.4578951597213745,
          0.4571745693683624,
          0.45709487795829773,
          0.4578383266925812,
          0.4561832547187805,
          0.455718070268631,
          0.4556763172149658,
          0.45508432388305664,
          0.4546804130077362,
          0.45430418848991394,
          0.45397618412971497,
          0.45372462272644043,
          0.45336899161338806,
          0.452970951795578,
          0.45277518033981323,
          0.452438622713089,
          0.451969176530838,
          0.45196425914764404,
          0.45174652338027954,
          0.4516226649284363,
          0.4512326717376709,
          0.4511181116104126,
          0.45101791620254517,
          0.4507655203342438,
          0.4501859247684479,
          0.44989100098609924,
          0.44975176453590393,
          0.4496125876903534,
          0.4494081139564514,
          0.4494771361351013,
          0.4495733082294464,
          0.44890445470809937,
          0.4491104185581207,
          0.4493507742881775,
          0.44856372475624084,
          0.4486253559589386,
          0.44819241762161255,
          0.4479365050792694,
          0.44784167408943176,
          0.4475749433040619,
          0.44768840074539185,
          0.44740840792655945,
          0.44726935029029846,
          0.4473136067390442,
          0.4473814070224762,
          0.44753527641296387,
          0.4467675983905792,
          0.44673973321914673,
          0.4464901089668274,
          0.44635316729545593,
          0.44596394896507263,
          0.4457942247390747,
          0.44581323862075806,
          0.44564715027809143,
          0.4456334114074707,
          0.4454777240753174,
          0.44529715180397034,
          0.44514748454093933,
          0.4449574053287506,
          0.44573602080345154,
          0.44486498832702637,
          0.44453760981559753,
          0.44445592164993286,
          0.4445532560348511,
          0.44437697529792786,
          0.44431811571121216,
          0.44435593485832214,
          0.4443029761314392,
          0.4441203773021698,
          0.4440886676311493,
          0.444129079580307,
          0.44405248761177063,
          0.4438214898109436,
          0.4435061812400818,
          0.44370511174201965,
          0.443516343832016,
          0.4437163174152374,
          0.4434506893157959,
          0.4435458183288574,
          0.44315043091773987,
          0.44352445006370544,
          0.4432371258735657,
          0.4432227611541748,
          0.44299551844596863,
          0.44300922751426697,
          0.4428269565105438,
          0.44304490089416504,
          0.44272172451019287,
          0.443019837141037,
          0.4424474835395813,
          0.44245630502700806,
          0.44249531626701355,
          0.44227901101112366,
          0.44238588213920593,
          0.4424453675746918,
          0.442218154668808,
          0.44198402762413025,
          0.44197043776512146,
          0.44229161739349365,
          0.44197672605514526,
          0.44197800755500793,
          0.4425643980503082,
          0.4422028660774231,
          0.4420930743217468,
          0.44219768047332764,
          0.4419929087162018,
          0.44162842631340027,
          0.44164779782295227,
          0.4416065216064453,
          0.4414385259151459,
          0.4413760006427765,
          0.4413861930370331,
          0.4413602352142334,
          0.4413983225822449,
          0.4414421319961548,
          0.4414149820804596,
          0.44156113266944885,
          0.4410732388496399,
          0.4413381516933441,
          0.44103482365608215,
          0.4411506950855255,
          0.44130855798721313,
          0.441312700510025,
          0.44117528200149536,
          0.44111138582229614,
          0.4410688579082489,
          0.44095754623413086,
          0.44105151295661926,
          0.44096121191978455,
          0.44084906578063965,
          0.44081738591194153,
          0.440641850233078,
          0.4406558573246002,
          0.44074878096580505,
          0.44105610251426697,
          0.4406932294368744,
          0.44058874249458313,
          0.44053617119789124,
          0.4405161738395691,
          0.4404962360858917,
          0.44052910804748535,
          0.4404289424419403,
          0.4404413104057312,
          0.440546452999115,
          0.44037240743637085,
          0.4405381977558136,
          0.4405619204044342,
          0.44079717993736267,
          0.4405531585216522,
          0.4405854642391205,
          0.4405827820301056,
          0.44035035371780396,
          0.4403010606765747,
          0.44014278054237366,
          0.44008228182792664,
          0.44021520018577576,
          0.4402996301651001,
          0.4401300847530365,
          0.44007745385169983,
          0.44008517265319824,
          0.4402243494987488,
          0.4400099515914917,
          0.4399546980857849,
          0.4400922954082489,
          0.44008904695510864,
          0.4400717616081238,
          0.4400152564048767,
          0.4398879408836365,
          0.4398946464061737,
          0.43999019265174866,
          0.4399978518486023,
          0.4400027394294739,
          0.43997618556022644,
          0.43993616104125977,
          0.439837247133255,
          0.4398134648799896,
          0.4398663640022278,
          0.43985578417778015,
          0.4397122263908386,
          0.4397302567958832,
          0.43997102975845337,
          0.4400484263896942,
          0.43971648812294006,
          0.4396800994873047,
          0.4398891031742096,
          0.43984532356262207,
          0.4397673010826111,
          0.43977218866348267,
          0.4398476481437683,
          0.43977367877960205,
          0.4397987425327301,
          0.4396362602710724,
          0.4396306276321411,
          0.43974825739860535,
          0.4396304488182068,
          0.43961581587791443,
          0.4396137595176697,
          0.4398016333580017,
          0.4396840035915375,
          0.43957361578941345,
          0.43950071930885315,
          0.43956637382507324,
          0.4397868812084198,
          0.4395565688610077,
          0.4396122097969055,
          0.43957942724227905,
          0.439542293548584,
          0.43951311707496643,
          0.4395124912261963,
          0.4394426643848419,
          0.43952658772468567,
          0.4396682381629944,
          0.4397328197956085,
          0.4395628869533539,
          0.43952614068984985,
          0.43944987654685974,
          0.43955761194229126,
          0.439558744430542,
          0.43946483731269836,
          0.43942102789878845,
          0.4394742250442505,
          0.4394327402114868,
          0.4394052028656006,
          0.4393945634365082,
          0.4394935071468353,
          0.4394269287586212,
          0.4394475519657135,
          0.4395168125629425,
          0.4394635260105133,
          0.4394541382789612,
          0.43944305181503296,
          0.4396257698535919,
          0.4393334686756134,
          0.4393872916698456,
          0.43946048617362976,
          0.43939051032066345,
          0.43956294655799866,
          0.4393971860408783,
          0.4393385052680969,
          0.43951988220214844,
          0.43940654397010803,
          0.4393382668495178,
          0.43931078910827637,
          0.43949759006500244,
          0.4393506944179535,
          0.4392473101615906,
          0.4392983317375183,
          0.43935272097587585,
          0.43939208984375,
          0.43938201665878296,
          0.43932539224624634,
          0.43927890062332153,
          0.4393240213394165,
          0.43941378593444824,
          0.43924784660339355,
          0.4393055737018585,
          0.4392666816711426,
          0.4392629861831665,
          0.43930989503860474,
          0.4393496811389923,
          0.4392833113670349,
          0.43912774324417114,
          0.43916407227516174,
          0.4392663538455963,
          0.43923771381378174,
          0.43915680050849915,
          0.4392857849597931,
          0.439236581325531,
          0.4392545819282532,
          0.4392904043197632,
          0.4392528235912323,
          0.43909892439842224,
          0.4391525089740753,
          0.4391384720802307,
          0.43920081853866577,
          0.43933579325675964,
          0.4391883313655853,
          0.4391621947288513,
          0.4391506016254425,
          0.43914419412612915,
          0.4391572177410126,
          0.4391067922115326,
          0.43927687406539917,
          0.43911227583885193,
          0.43913236260414124,
          0.4391824007034302,
          0.4391973912715912,
          0.43907639384269714,
          0.43923884630203247,
          0.43919673562049866,
          0.4391198456287384,
          0.43930143117904663,
          0.4391625225543976,
          0.43913736939430237,
          0.43903687596321106,
          0.439203143119812,
          0.4391484558582306,
          0.43938690423965454,
          0.4391001760959625,
          0.4390926659107208,
          0.43920284509658813,
          0.4391525387763977,
          0.43927058577537537,
          0.43908604979515076,
          0.4390823245048523,
          0.43912866711616516,
          0.4391292929649353,
          0.4391102194786072,
          0.4390345513820648,
          0.4390523433685303,
          0.4390667676925659,
          0.43906059861183167,
          0.4390820860862732,
          0.4391080141067505,
          0.4391632676124573,
          0.43900004029273987,
          0.4391712546348572,
          0.43911561369895935,
          0.43906334042549133,
          0.43908071517944336,
          0.4390324652194977,
          0.4389915466308594,
          0.43907371163368225,
          0.4391234517097473,
          0.43905043601989746,
          0.43895554542541504,
          0.43903088569641113,
          0.4390110671520233,
          0.4391170144081116,
          0.43907830119132996,
          0.43897342681884766,
          0.43899956345558167,
          0.43903160095214844,
          0.4389702081680298,
          0.4390380382537842,
          0.4389805495738983,
          0.43898096680641174,
          0.4389415383338928,
          0.439020037651062,
          0.4389601945877075,
          0.4389313757419586,
          0.4389839470386505,
          0.43897807598114014,
          0.4389752745628357,
          0.4390504062175751,
          0.439023494720459,
          0.43904754519462585,
          0.43906348943710327,
          0.4390263259410858,
          0.4390348494052887,
          0.43899962306022644,
          0.4389931559562683,
          0.4389503002166748,
          0.4390912353992462,
          0.43897300958633423,
          0.4389938414096832,
          0.4391389489173889,
          0.4390733242034912,
          0.4391882121562958,
          0.43911856412887573,
          0.4389233887195587,
          0.439031183719635,
          0.4389832615852356,
          0.4389469623565674,
          0.43896716833114624,
          0.4390089809894562,
          0.4390181601047516,
          0.4389781951904297,
          0.43890032172203064,
          0.4389429986476898,
          0.438968688249588,
          0.4389495849609375,
          0.4389759302139282,
          0.4391171336174011,
          0.4390495717525482,
          0.4391593933105469,
          0.4391442537307739,
          0.4389140009880066,
          0.4390067458152771,
          0.4388614296913147,
          0.4388500154018402,
          0.4388817250728607,
          0.43898555636405945,
          0.4389912784099579,
          0.4389292597770691,
          0.43895912170410156,
          0.438949853181839,
          0.43889689445495605,
          0.4389387369155884,
          0.43890711665153503,
          0.43888920545578003,
          0.438942015171051,
          0.4390075206756592,
          0.43893229961395264,
          0.43887564539909363,
          0.4389957785606384,
          0.43894317746162415,
          0.43896517157554626,
          0.43896719813346863,
          0.4389233887195587,
          0.4388740360736847,
          0.4389787018299103,
          0.43888941407203674,
          0.43885570764541626,
          0.43886691331863403,
          0.4389573633670807,
          0.43889477849006653,
          0.43884992599487305,
          0.43881091475486755,
          0.4388841986656189,
          0.4389118254184723,
          0.43889957666397095,
          0.43894627690315247,
          0.4389859735965729,
          0.4388982057571411,
          0.43894141912460327,
          0.4390024244785309,
          0.43892255425453186,
          0.43893176317214966,
          0.4388563632965088,
          0.439014732837677,
          0.43900370597839355,
          0.4389125108718872,
          0.4388875365257263,
          0.4388388693332672,
          0.43881115317344666,
          0.4388676583766937,
          0.4389043152332306,
          0.4390154480934143,
          0.43892499804496765,
          0.438850998878479,
          0.43879467248916626,
          0.43884721398353577,
          0.438866525888443,
          0.4389495253562927,
          0.43889516592025757,
          0.4388405978679657,
          0.4388701021671295,
          0.4388978183269501,
          0.43889114260673523,
          0.43887805938720703,
          0.4388600289821625,
          0.438854843378067,
          0.4388388395309448,
          0.43880289793014526,
          0.43883389234542847,
          0.438816636800766,
          0.43888580799102783,
          0.4388682544231415,
          0.4389381408691406,
          0.43884146213531494,
          0.4388989210128784,
          0.4388907253742218,
          0.43886038661003113,
          0.438846617937088,
          0.43880489468574524,
          0.43880948424339294,
          0.4388136565685272,
          0.43885931372642517,
          0.43890994787216187,
          0.4388885200023651,
          0.43894773721694946,
          0.43889927864074707,
          0.4387948513031006,
          0.4387921690940857,
          0.43881306052207947,
          0.438888281583786,
          0.43880805373191833,
          0.438855916261673,
          0.4387749433517456,
          0.43881192803382874,
          0.43883976340293884,
          0.43885183334350586,
          0.4388282299041748,
          0.4389297366142273,
          0.43879154324531555,
          0.4388566315174103,
          0.43886798620224,
          0.4388023316860199,
          0.4388176202774048,
          0.4388480484485626,
          0.43878331780433655,
          0.43877407908439636,
          0.4388376772403717,
          0.4388870596885681,
          0.43885722756385803,
          0.4387487769126892,
          0.43885374069213867,
          0.43880152702331543,
          0.4388040006160736,
          0.438834547996521,
          0.4388640820980072,
          0.4387878477573395,
          0.43877342343330383,
          0.4388314485549927,
          0.4387897253036499,
          0.4388083219528198,
          0.438776433467865,
          0.4387700855731964,
          0.43878084421157837,
          0.4387974441051483,
          0.4387212097644806,
          0.4387833774089813,
          0.4389570951461792,
          0.4388369023799896,
          0.4387858510017395,
          0.4388079047203064,
          0.4388003945350647,
          0.43875718116760254,
          0.43882113695144653,
          0.43881118297576904,
          0.4387558102607727,
          0.4387768805027008,
          0.43879640102386475,
          0.4387148916721344,
          0.4387534260749817,
          0.4387827217578888,
          0.4388194680213928,
          0.43877455592155457,
          0.43877699971199036,
          0.4388290345668793,
          0.43877533078193665,
          0.4387597143650055,
          0.4388233423233032,
          0.43890616297721863,
          0.43875977396965027,
          0.4387524724006653,
          0.4387519955635071,
          0.4387912452220917,
          0.4388158619403839,
          0.4387379288673401,
          0.4388194680213928,
          0.438772588968277,
          0.43892809748649597,
          0.43881261348724365,
          0.4388141930103302,
          0.4389810264110565,
          0.4388463497161865,
          0.4388244152069092,
          0.4386976659297943,
          0.4387737512588501,
          0.4387584924697876,
          0.43873605132102966,
          0.4387768805027008,
          0.4387631416320801,
          0.4387589991092682,
          0.4387722313404083,
          0.43874630331993103,
          0.4387983977794647,
          0.4388081133365631,
          0.43872958421707153,
          0.4387233555316925,
          0.43870481848716736,
          0.43876469135284424,
          0.4387517273426056,
          0.43874499201774597,
          0.43868449330329895,
          0.43873336911201477,
          0.4387419521808624,
          0.4387286305427551,
          0.438770592212677,
          0.4387056529521942,
          0.43872275948524475,
          0.4387742578983307,
          0.4388318657875061,
          0.4387708604335785,
          0.43880125880241394,
          0.43870511651039124,
          0.4387074112892151,
          0.4388011395931244,
          0.43873709440231323,
          0.43873852491378784,
          0.4387474060058594,
          0.4387071132659912,
          0.4387837052345276,
          0.4387623071670532,
          0.4387589693069458,
          0.43875744938850403,
          0.4387207329273224,
          0.4386937618255615,
          0.43869930505752563,
          0.4387296736240387,
          0.43872761726379395,
          0.4386233985424042,
          0.43867525458335876,
          0.4387291371822357,
          0.43874335289001465,
          0.4388074576854706,
          0.43874648213386536,
          0.4387187659740448,
          0.43872737884521484,
          0.438763290643692,
          0.4386760890483856,
          0.4387631416320801,
          0.4387035667896271,
          0.4386845529079437,
          0.4387107491493225,
          0.4387068748474121,
          0.4387601912021637,
          0.43870672583580017,
          0.43876510858535767,
          0.4387090802192688,
          0.4387046992778778,
          0.4387451410293579,
          0.4388483464717865,
          0.4386902153491974,
          0.43867993354797363,
          0.43873921036720276,
          0.43875211477279663,
          0.4387127459049225,
          0.43868812918663025,
          0.43874165415763855,
          0.4386719763278961,
          0.4386780560016632,
          0.4386809766292572,
          0.4386714994907379,
          0.4387020468711853,
          0.43870505690574646,
          0.4387240707874298,
          0.4387162923812866,
          0.43868499994277954,
          0.4386541545391083,
          0.4386447072029114,
          0.43867728114128113,
          0.4386608600616455,
          0.438688725233078,
          0.4386908710002899,
          0.4388253390789032,
          0.43875566124916077,
          0.43878287076950073,
          0.43870487809181213,
          0.4387231469154358,
          0.43869689106941223,
          0.43864336609840393
         ]
        },
        {
         "name": "combined_nn2_train-loss",
         "type": "scatter",
         "y": [
          1.117897391319275,
          0.7056230306625366,
          0.6491925716400146,
          0.6156207323074341,
          0.5908613801002502,
          0.5741835832595825,
          0.5612540245056152,
          0.549309492111206,
          0.540556788444519,
          0.5324658155441284,
          0.5253309011459351,
          0.5195973515510559,
          0.5139748454093933,
          0.5088723301887512,
          0.5052567720413208,
          0.5006788969039917,
          0.49755626916885376,
          0.49383893609046936,
          0.4899800419807434,
          0.4878467917442322,
          0.48569604754447937,
          0.48301562666893005,
          0.4811505377292633,
          0.47893384099006653,
          0.47685882449150085,
          0.4754078686237335,
          0.4739225208759308,
          0.4723341763019562,
          0.47077473998069763,
          0.46989670395851135,
          0.469122976064682,
          0.4674554467201233,
          0.4663405418395996,
          0.46522295475006104,
          0.4643539488315582,
          0.4635224938392639,
          0.46237120032310486,
          0.46165043115615845,
          0.46108368039131165,
          0.46087396144866943,
          0.45999807119369507,
          0.4590257704257965,
          0.45859017968177795,
          0.45799317955970764,
          0.4577731788158417,
          0.4568164646625519,
          0.4566657245159149,
          0.4559829533100128,
          0.45551708340644836,
          0.45536312460899353,
          0.45496121048927307,
          0.4545389413833618,
          0.45421355962753296,
          0.45370763540267944,
          0.4535755515098572,
          0.45310842990875244,
          0.4528352916240692,
          0.45268288254737854,
          0.45256975293159485,
          0.4523071348667145,
          0.4515860378742218,
          0.45160338282585144,
          0.45163586735725403,
          0.45091748237609863,
          0.4508655369281769,
          0.4504312574863434,
          0.4503374993801117,
          0.45004701614379883,
          0.44984742999076843,
          0.4497353434562683,
          0.4495849609375,
          0.4490371644496918,
          0.44910871982574463,
          0.4489941895008087,
          0.4485112428665161,
          0.44852909445762634,
          0.4491793215274811,
          0.4486883580684662,
          0.44788283109664917,
          0.44823357462882996,
          0.4477395713329315,
          0.4474503993988037,
          0.4472944736480713,
          0.4472516179084778,
          0.447203129529953,
          0.44715914130210876,
          0.4468846917152405,
          0.44681715965270996,
          0.44666171073913574,
          0.44676700234413147,
          0.4464404284954071,
          0.44630345702171326,
          0.44612622261047363,
          0.44601812958717346,
          0.44595351815223694,
          0.4456227421760559,
          0.44561567902565,
          0.44600120186805725,
          0.4456322491168976,
          0.4459491968154907,
          0.44541963934898376,
          0.445110559463501,
          0.445197731256485,
          0.44488653540611267,
          0.44498759508132935,
          0.44492802023887634,
          0.44452643394470215,
          0.44447845220565796,
          0.4447263777256012,
          0.444511353969574,
          0.444643497467041,
          0.44430026412010193,
          0.4440534710884094,
          0.44437381625175476,
          0.44392451643943787,
          0.4440890848636627,
          0.4438306987285614,
          0.44402220845222473,
          0.4438353478908539,
          0.44371306896209717,
          0.4434991180896759,
          0.44367435574531555,
          0.44343429803848267,
          0.44366663694381714,
          0.44353315234184265,
          0.44349509477615356,
          0.44327136874198914,
          0.44295352697372437,
          0.4429236948490143,
          0.4428216516971588,
          0.44275957345962524,
          0.4428107738494873,
          0.4426485002040863,
          0.44260966777801514,
          0.44281089305877686,
          0.4427938759326935,
          0.44264304637908936,
          0.44249776005744934,
          0.4425503611564636,
          0.44245466589927673,
          0.4425885081291199,
          0.4426230490207672,
          0.44234755635261536,
          0.4422745108604431,
          0.44196614623069763,
          0.44209206104278564,
          0.4419133961200714,
          0.44204846024513245,
          0.4418644905090332,
          0.441817969083786,
          0.4420164227485657,
          0.4419066607952118,
          0.4417816698551178,
          0.4417239725589752,
          0.44191476702690125,
          0.44171687960624695,
          0.4417535364627838,
          0.4415401816368103,
          0.4417163133621216,
          0.4414907395839691,
          0.44152194261550903,
          0.441355437040329,
          0.44147592782974243,
          0.44135892391204834,
          0.4418502151966095,
          0.44173482060432434,
          0.44132062792778015,
          0.44125133752822876,
          0.44131147861480713,
          0.44103047251701355,
          0.4410933554172516,
          0.44098442792892456,
          0.44128841161727905,
          0.4414289593696594,
          0.44103115797042847,
          0.4411177933216095,
          0.4410424828529358,
          0.4408603608608246,
          0.4407322406768799,
          0.4407082498073578,
          0.44085752964019775,
          0.4406696856021881,
          0.4406629502773285,
          0.4407592713832855,
          0.44083675742149353,
          0.4405849874019623,
          0.44053202867507935,
          0.4406774044036865,
          0.44067272543907166,
          0.4404769837856293,
          0.44063645601272583,
          0.4403904378414154,
          0.44043928384780884,
          0.4405360519886017,
          0.4404560923576355,
          0.44037824869155884,
          0.44049128890037537,
          0.44019967317581177,
          0.4403510093688965,
          0.4403732717037201,
          0.4403415024280548,
          0.44037893414497375,
          0.440357506275177,
          0.44036146998405457,
          0.4403282403945923,
          0.44034481048583984,
          0.44029977917671204,
          0.4403109848499298,
          0.44026288390159607,
          0.44029584527015686,
          0.4401976466178894,
          0.4400274157524109,
          0.43996280431747437,
          0.44017037749290466,
          0.4400651156902313,
          0.44012251496315,
          0.4399596154689789,
          0.4400511085987091,
          0.4399067163467407,
          0.44017431139945984,
          0.44003811478614807,
          0.43996354937553406,
          0.43994641304016113,
          0.43999361991882324,
          0.44000542163848877,
          0.43986815214157104,
          0.44014766812324524,
          0.4399147033691406,
          0.4398617446422577,
          0.43991005420684814,
          0.4398883879184723,
          0.4398678243160248,
          0.439879447221756,
          0.439843088388443,
          0.43982335925102234,
          0.43989357352256775,
          0.43973422050476074,
          0.4398193061351776,
          0.4399191737174988,
          0.43991756439208984,
          0.43985533714294434,
          0.4396207630634308,
          0.4397640824317932,
          0.43980738520622253,
          0.4397178590297699,
          0.43971413373947144,
          0.43974971771240234,
          0.4400423765182495,
          0.43971067667007446,
          0.43970370292663574,
          0.4397413432598114,
          0.4397350549697876,
          0.43954432010650635,
          0.4396251440048218,
          0.43971115350723267,
          0.43964457511901855,
          0.439601868391037,
          0.43967968225479126,
          0.4399081766605377,
          0.4398234784603119,
          0.43971148133277893,
          0.43980279564857483,
          0.4395277798175812,
          0.4395682215690613,
          0.43960171937942505,
          0.43950900435447693,
          0.43964052200317383,
          0.43954163789749146,
          0.43969112634658813,
          0.43951669335365295,
          0.4395678639411926,
          0.43950605392456055,
          0.43961119651794434,
          0.43962350487709045,
          0.4395984411239624,
          0.4395059645175934,
          0.4395281672477722,
          0.43956559896469116,
          0.43969088792800903,
          0.4394471347332001,
          0.4394359886646271,
          0.43942388892173767,
          0.43957963585853577,
          0.4396815299987793,
          0.439724862575531,
          0.4395153224468231,
          0.43950825929641724,
          0.4394412338733673,
          0.4395705461502075,
          0.4395814836025238,
          0.43974626064300537,
          0.43945223093032837,
          0.43947479128837585,
          0.4395448565483093,
          0.43946146965026855,
          0.4394472539424896,
          0.43952202796936035,
          0.43944793939590454,
          0.43932977318763733,
          0.43933549523353577,
          0.43944627046585083,
          0.4393153488636017,
          0.4394518733024597,
          0.43947839736938477,
          0.439378947019577,
          0.43935927748680115,
          0.43938034772872925,
          0.4394190311431885,
          0.4393596351146698,
          0.4392639398574829,
          0.43935516476631165,
          0.4393695890903473,
          0.43936556577682495,
          0.4393502473831177,
          0.43929803371429443,
          0.4393901526927948,
          0.4393870532512665,
          0.43940046429634094,
          0.4393502175807953,
          0.43932226300239563,
          0.4394565522670746,
          0.43941181898117065,
          0.43928295373916626,
          0.43926358222961426,
          0.4393113851547241,
          0.43946602940559387,
          0.43944817781448364,
          0.43931901454925537,
          0.4392963647842407,
          0.4393024146556854,
          0.4394620358943939,
          0.4392896294593811,
          0.4394674599170685,
          0.43926119804382324,
          0.4392235577106476,
          0.439297616481781,
          0.43920183181762695,
          0.4393210709095001,
          0.4392746090888977,
          0.4391825497150421,
          0.4392920136451721,
          0.4393051564693451,
          0.4392123520374298,
          0.43929314613342285,
          0.439250648021698,
          0.4392505884170532,
          0.43934857845306396,
          0.4393870532512665,
          0.4391970932483673,
          0.43923428654670715,
          0.43930932879447937,
          0.4391821622848511,
          0.43917837738990784,
          0.4392640292644501,
          0.4393085241317749,
          0.4391651749610901,
          0.43915826082229614,
          0.43921715021133423,
          0.4392138719558716,
          0.4394375681877136,
          0.4392809271812439,
          0.4391550123691559,
          0.4390803575515747,
          0.4392010271549225,
          0.4391343295574188,
          0.4391728341579437,
          0.43914222717285156,
          0.43916910886764526,
          0.43913811445236206,
          0.4392012357711792,
          0.43913865089416504,
          0.43910732865333557,
          0.439119428396225,
          0.43911048769950867,
          0.4392658770084381,
          0.4391387403011322,
          0.4391457438468933,
          0.4391529858112335,
          0.43926796317100525,
          0.43915846943855286,
          0.43919357657432556,
          0.43912017345428467,
          0.43925923109054565,
          0.43921059370040894,
          0.43926122784614563,
          0.43913623690605164,
          0.4391951262950897,
          0.4392319619655609,
          0.439263254404068,
          0.43908464908599854,
          0.43921545147895813,
          0.43918663263320923,
          0.4391886591911316,
          0.43945229053497314,
          0.4392062723636627,
          0.4391239583492279,
          0.4390300214290619,
          0.4390565752983093,
          0.43914246559143066,
          0.439238578081131,
          0.43905359506607056,
          0.43909355998039246,
          0.43903690576553345,
          0.43900948762893677,
          0.43904486298561096,
          0.43903329968452454,
          0.43905287981033325,
          0.4390888214111328,
          0.4391985833644867,
          0.43907108902931213,
          0.4392402470111847,
          0.4390285909175873,
          0.4390546977519989,
          0.4390711784362793,
          0.4390818774700165,
          0.4391918480396271,
          0.43919461965560913,
          0.4391383230686188,
          0.4391119182109833,
          0.43902501463890076,
          0.43914857506752014,
          0.43901243805885315,
          0.4390332102775574,
          0.4390663504600525,
          0.4390934109687805,
          0.43905511498451233,
          0.43912744522094727,
          0.43908339738845825,
          0.43908554315567017,
          0.43910449743270874,
          0.43921953439712524,
          0.4391029477119446,
          0.43903857469558716,
          0.4390316605567932,
          0.4390465319156647,
          0.4391326308250427,
          0.43904823064804077,
          0.43900778889656067,
          0.4390247166156769,
          0.4390920400619507,
          0.4390084743499756,
          0.43902987241744995,
          0.43904832005500793,
          0.43900275230407715,
          0.4390537142753601,
          0.43915972113609314,
          0.4390932023525238,
          0.43924200534820557,
          0.4391613304615021,
          0.4390796720981598,
          0.43900397419929504,
          0.43892940878868103,
          0.4389645457267761,
          0.43897783756256104,
          0.4389421045780182,
          0.4390202462673187,
          0.4390692412853241,
          0.4390091896057129,
          0.4390276074409485,
          0.43905767798423767,
          0.4389652907848358,
          0.4389570653438568,
          0.43898558616638184,
          0.4389994442462921,
          0.4389688968658447,
          0.4389553666114807,
          0.4389722943305969,
          0.43900540471076965,
          0.43911007046699524,
          0.43906623125076294,
          0.43910670280456543,
          0.4390340745449066,
          0.4390759766101837,
          0.43896183371543884,
          0.4389607012271881,
          0.43898364901542664,
          0.43893811106681824,
          0.4389989376068115,
          0.4390275478363037,
          0.43898746371269226,
          0.4390118718147278,
          0.4390626847743988,
          0.4390392005443573,
          0.4389446973800659,
          0.4388931691646576,
          0.43893980979919434,
          0.43892911076545715,
          0.43892455101013184,
          0.43894103169441223,
          0.4390239715576172,
          0.4389755129814148,
          0.4389224052429199,
          0.43887925148010254,
          0.438932329416275,
          0.43892598152160645,
          0.43888500332832336,
          0.43887436389923096,
          0.43898454308509827,
          0.43892428278923035,
          0.43889671564102173,
          0.4389447569847107,
          0.4388814866542816,
          0.4388945400714874,
          0.43893590569496155,
          0.4389020800590515,
          0.43887391686439514,
          0.4388844668865204,
          0.4389311373233795,
          0.4390716552734375,
          0.4389945864677429,
          0.4389914572238922,
          0.43888458609580994,
          0.43892890214920044,
          0.43894362449645996,
          0.4388672709465027,
          0.4388542175292969,
          0.4389328062534332,
          0.43895232677459717,
          0.43891245126724243,
          0.43896082043647766,
          0.43885090947151184,
          0.4388095736503601,
          0.43893691897392273,
          0.4388720691204071,
          0.43899935483932495,
          0.43892019987106323,
          0.4388907551765442,
          0.4388333857059479,
          0.43893271684646606,
          0.43882930278778076,
          0.43883204460144043,
          0.43887627124786377,
          0.4388716220855713,
          0.43885043263435364,
          0.438918799161911,
          0.43887796998023987,
          0.43886059522628784,
          0.43885233998298645,
          0.4388427734375,
          0.4388526380062103,
          0.43897300958633423,
          0.4389280080795288,
          0.438912570476532,
          0.4388010501861572,
          0.4388015568256378,
          0.43884602189064026,
          0.4388953149318695,
          0.4389108419418335,
          0.4388751685619354,
          0.43889859318733215,
          0.43889716267585754,
          0.43892598152160645,
          0.4390905797481537,
          0.43887048959732056,
          0.43882113695144653,
          0.4387747645378113,
          0.4387783408164978,
          0.4388619661331177,
          0.4387700855731964,
          0.4388878047466278,
          0.43894174695014954,
          0.43888065218925476,
          0.4388337731361389,
          0.4388919174671173,
          0.43886950612068176,
          0.43891021609306335,
          0.4388766288757324,
          0.43880218267440796,
          0.43888184428215027,
          0.4388297498226166,
          0.43882936239242554,
          0.438847154378891,
          0.43885156512260437,
          0.4388591945171356,
          0.4388137459754944,
          0.43878304958343506,
          0.4388388693332672,
          0.43883776664733887,
          0.4388235807418823,
          0.4388522803783417,
          0.4387897253036499,
          0.4388515055179596,
          0.4388059377670288,
          0.43884262442588806,
          0.4388378858566284,
          0.4388491213321686,
          0.43885505199432373,
          0.43885791301727295,
          0.43884173035621643,
          0.4388878047466278,
          0.4387562870979309,
          0.43879714608192444,
          0.4387788474559784,
          0.4387741684913635,
          0.4388677775859833,
          0.4388090670108795,
          0.43875980377197266,
          0.438766747713089,
          0.4388663172721863,
          0.4388110339641571,
          0.4388434886932373,
          0.4388938844203949,
          0.43878108263015747,
          0.4388125240802765,
          0.43879982829093933,
          0.4388469159603119,
          0.43879234790802,
          0.43881717324256897,
          0.4388200640678406,
          0.4388599991798401,
          0.43883371353149414,
          0.43885791301727295,
          0.4388158619403839,
          0.43881911039352417,
          0.43879151344299316,
          0.4388074576854706,
          0.4388330280780792,
          0.4388495087623596,
          0.43890437483787537,
          0.4389161169528961,
          0.4388635456562042,
          0.4388026297092438,
          0.4387771785259247,
          0.4388123154640198,
          0.438846617937088,
          0.43878358602523804,
          0.43877995014190674,
          0.4388197362422943,
          0.4388285279273987,
          0.43878981471061707,
          0.4389006793498993,
          0.4388576149940491,
          0.43877261877059937,
          0.43874308466911316,
          0.43880918622016907,
          0.4388045370578766,
          0.4387768805027008,
          0.43881767988204956,
          0.4388515055179596,
          0.4387684166431427,
          0.4387478530406952,
          0.43878433108329773,
          0.43875932693481445,
          0.4388701617717743,
          0.43891069293022156,
          0.43878161907196045,
          0.43876683712005615,
          0.43883681297302246,
          0.43880897760391235,
          0.43881115317344666,
          0.4387718439102173,
          0.43874916434288025,
          0.43878230452537537,
          0.4387960433959961,
          0.438849538564682,
          0.43879055976867676,
          0.4388376474380493,
          0.4387989342212677,
          0.4387633204460144,
          0.43875592947006226,
          0.4387311041355133,
          0.4387572705745697,
          0.4387633502483368,
          0.43880921602249146,
          0.4387068748474121,
          0.4387809932231903,
          0.4387299716472626,
          0.43874943256378174,
          0.43881335854530334,
          0.4387599229812622,
          0.43878093361854553,
          0.43876540660858154,
          0.4387631416320801,
          0.43875643610954285,
          0.43872857093811035,
          0.4387865960597992,
          0.4388141334056854,
          0.43877407908439636,
          0.43874719738960266,
          0.43878811597824097,
          0.43874213099479675,
          0.43876731395721436,
          0.4387417733669281,
          0.43875303864479065,
          0.4388815462589264,
          0.4387695789337158,
          0.43876856565475464,
          0.43871763348579407,
          0.4387452304363251,
          0.4388790428638458,
          0.43878263235092163,
          0.4387730360031128,
          0.438728004693985,
          0.4387446343898773,
          0.4387359917163849,
          0.43867027759552,
          0.4387483596801758,
          0.43875372409820557,
          0.43877631425857544,
          0.4387352466583252,
          0.4388016164302826,
          0.43878769874572754,
          0.4387752115726471,
          0.43874257802963257,
          0.43875962495803833,
          0.43891531229019165,
          0.4387804865837097,
          0.4387415051460266,
          0.4387688636779785,
          0.438772588968277,
          0.43880563974380493,
          0.43872374296188354,
          0.438690721988678,
          0.43871957063674927,
          0.43873322010040283,
          0.438712477684021,
          0.4387674331665039,
          0.43875235319137573,
          0.4388425648212433,
          0.4387452304363251,
          0.4387534260749817,
          0.43878018856048584,
          0.43871769309043884,
          0.4388011395931244,
          0.4387619197368622,
          0.4388026297092438,
          0.4387392997741699,
          0.43870511651039124,
          0.43868157267570496,
          0.43869414925575256,
          0.4386896789073944,
          0.4387184679508209,
          0.43874725699424744,
          0.4386642277240753,
          0.4387715458869934,
          0.43876752257347107,
          0.4386805295944214,
          0.43871480226516724,
          0.43874120712280273,
          0.43879345059394836,
          0.43873026967048645,
          0.43869084119796753,
          0.43875113129615784,
          0.43870052695274353,
          0.4387292265892029,
          0.4386945366859436,
          0.43871238827705383,
          0.43880495429039,
          0.43888533115386963,
          0.4387515187263489,
          0.438726007938385,
          0.43871378898620605,
          0.43874162435531616,
          0.4386530816555023,
          0.43866202235221863,
          0.43885231018066406,
          0.43864738941192627,
          0.438679963350296,
          0.43870311975479126,
          0.43876776099205017,
          0.4387519657611847,
          0.4387519061565399,
          0.4387989640235901,
          0.43874531984329224,
          0.4388601779937744,
          0.4387081265449524,
          0.43869897723197937,
          0.4386930465698242,
          0.4387260377407074,
          0.4387125074863434,
          0.43874213099479675,
          0.4387018382549286,
          0.43872684240341187,
          0.43871942162513733,
          0.4386846423149109,
          0.43873029947280884,
          0.43869084119796753,
          0.438719242811203,
          0.4387260973453522,
          0.43867242336273193,
          0.438668817281723,
          0.4386676251888275,
          0.4387194514274597,
          0.43867993354797363,
          0.43869754672050476,
          0.4387194812297821,
          0.4386833608150482,
          0.4387734830379486,
          0.4386664927005768,
          0.4387107491493225,
          0.43870705366134644,
          0.43873557448387146,
          0.43873053789138794,
          0.4387193024158478,
          0.43873128294944763,
          0.43869340419769287,
          0.4386831223964691,
          0.43873029947280884,
          0.4387505054473877,
          0.43875551223754883,
          0.438739150762558,
          0.43873104453086853,
          0.4386541545391083,
          0.4387257993221283,
          0.43873733282089233,
          0.43869489431381226,
          0.43868395686149597
         ]
        }
       ],
       "layout": {
        "template": {
         "data": {
          "bar": [
           {
            "error_x": {
             "color": "#2a3f5f"
            },
            "error_y": {
             "color": "#2a3f5f"
            },
            "marker": {
             "line": {
              "color": "#E5ECF6",
              "width": 0.5
             }
            },
            "type": "bar"
           }
          ],
          "barpolar": [
           {
            "marker": {
             "line": {
              "color": "#E5ECF6",
              "width": 0.5
             }
            },
            "type": "barpolar"
           }
          ],
          "carpet": [
           {
            "aaxis": {
             "endlinecolor": "#2a3f5f",
             "gridcolor": "white",
             "linecolor": "white",
             "minorgridcolor": "white",
             "startlinecolor": "#2a3f5f"
            },
            "baxis": {
             "endlinecolor": "#2a3f5f",
             "gridcolor": "white",
             "linecolor": "white",
             "minorgridcolor": "white",
             "startlinecolor": "#2a3f5f"
            },
            "type": "carpet"
           }
          ],
          "choropleth": [
           {
            "colorbar": {
             "outlinewidth": 0,
             "ticks": ""
            },
            "type": "choropleth"
           }
          ],
          "contour": [
           {
            "colorbar": {
             "outlinewidth": 0,
             "ticks": ""
            },
            "colorscale": [
             [
              0,
              "#0d0887"
             ],
             [
              0.1111111111111111,
              "#46039f"
             ],
             [
              0.2222222222222222,
              "#7201a8"
             ],
             [
              0.3333333333333333,
              "#9c179e"
             ],
             [
              0.4444444444444444,
              "#bd3786"
             ],
             [
              0.5555555555555556,
              "#d8576b"
             ],
             [
              0.6666666666666666,
              "#ed7953"
             ],
             [
              0.7777777777777778,
              "#fb9f3a"
             ],
             [
              0.8888888888888888,
              "#fdca26"
             ],
             [
              1,
              "#f0f921"
             ]
            ],
            "type": "contour"
           }
          ],
          "contourcarpet": [
           {
            "colorbar": {
             "outlinewidth": 0,
             "ticks": ""
            },
            "type": "contourcarpet"
           }
          ],
          "heatmap": [
           {
            "colorbar": {
             "outlinewidth": 0,
             "ticks": ""
            },
            "colorscale": [
             [
              0,
              "#0d0887"
             ],
             [
              0.1111111111111111,
              "#46039f"
             ],
             [
              0.2222222222222222,
              "#7201a8"
             ],
             [
              0.3333333333333333,
              "#9c179e"
             ],
             [
              0.4444444444444444,
              "#bd3786"
             ],
             [
              0.5555555555555556,
              "#d8576b"
             ],
             [
              0.6666666666666666,
              "#ed7953"
             ],
             [
              0.7777777777777778,
              "#fb9f3a"
             ],
             [
              0.8888888888888888,
              "#fdca26"
             ],
             [
              1,
              "#f0f921"
             ]
            ],
            "type": "heatmap"
           }
          ],
          "heatmapgl": [
           {
            "colorbar": {
             "outlinewidth": 0,
             "ticks": ""
            },
            "colorscale": [
             [
              0,
              "#0d0887"
             ],
             [
              0.1111111111111111,
              "#46039f"
             ],
             [
              0.2222222222222222,
              "#7201a8"
             ],
             [
              0.3333333333333333,
              "#9c179e"
             ],
             [
              0.4444444444444444,
              "#bd3786"
             ],
             [
              0.5555555555555556,
              "#d8576b"
             ],
             [
              0.6666666666666666,
              "#ed7953"
             ],
             [
              0.7777777777777778,
              "#fb9f3a"
             ],
             [
              0.8888888888888888,
              "#fdca26"
             ],
             [
              1,
              "#f0f921"
             ]
            ],
            "type": "heatmapgl"
           }
          ],
          "histogram": [
           {
            "marker": {
             "colorbar": {
              "outlinewidth": 0,
              "ticks": ""
             }
            },
            "type": "histogram"
           }
          ],
          "histogram2d": [
           {
            "colorbar": {
             "outlinewidth": 0,
             "ticks": ""
            },
            "colorscale": [
             [
              0,
              "#0d0887"
             ],
             [
              0.1111111111111111,
              "#46039f"
             ],
             [
              0.2222222222222222,
              "#7201a8"
             ],
             [
              0.3333333333333333,
              "#9c179e"
             ],
             [
              0.4444444444444444,
              "#bd3786"
             ],
             [
              0.5555555555555556,
              "#d8576b"
             ],
             [
              0.6666666666666666,
              "#ed7953"
             ],
             [
              0.7777777777777778,
              "#fb9f3a"
             ],
             [
              0.8888888888888888,
              "#fdca26"
             ],
             [
              1,
              "#f0f921"
             ]
            ],
            "type": "histogram2d"
           }
          ],
          "histogram2dcontour": [
           {
            "colorbar": {
             "outlinewidth": 0,
             "ticks": ""
            },
            "colorscale": [
             [
              0,
              "#0d0887"
             ],
             [
              0.1111111111111111,
              "#46039f"
             ],
             [
              0.2222222222222222,
              "#7201a8"
             ],
             [
              0.3333333333333333,
              "#9c179e"
             ],
             [
              0.4444444444444444,
              "#bd3786"
             ],
             [
              0.5555555555555556,
              "#d8576b"
             ],
             [
              0.6666666666666666,
              "#ed7953"
             ],
             [
              0.7777777777777778,
              "#fb9f3a"
             ],
             [
              0.8888888888888888,
              "#fdca26"
             ],
             [
              1,
              "#f0f921"
             ]
            ],
            "type": "histogram2dcontour"
           }
          ],
          "mesh3d": [
           {
            "colorbar": {
             "outlinewidth": 0,
             "ticks": ""
            },
            "type": "mesh3d"
           }
          ],
          "parcoords": [
           {
            "line": {
             "colorbar": {
              "outlinewidth": 0,
              "ticks": ""
             }
            },
            "type": "parcoords"
           }
          ],
          "pie": [
           {
            "automargin": true,
            "type": "pie"
           }
          ],
          "scatter": [
           {
            "marker": {
             "colorbar": {
              "outlinewidth": 0,
              "ticks": ""
             }
            },
            "type": "scatter"
           }
          ],
          "scatter3d": [
           {
            "line": {
             "colorbar": {
              "outlinewidth": 0,
              "ticks": ""
             }
            },
            "marker": {
             "colorbar": {
              "outlinewidth": 0,
              "ticks": ""
             }
            },
            "type": "scatter3d"
           }
          ],
          "scattercarpet": [
           {
            "marker": {
             "colorbar": {
              "outlinewidth": 0,
              "ticks": ""
             }
            },
            "type": "scattercarpet"
           }
          ],
          "scattergeo": [
           {
            "marker": {
             "colorbar": {
              "outlinewidth": 0,
              "ticks": ""
             }
            },
            "type": "scattergeo"
           }
          ],
          "scattergl": [
           {
            "marker": {
             "colorbar": {
              "outlinewidth": 0,
              "ticks": ""
             }
            },
            "type": "scattergl"
           }
          ],
          "scattermapbox": [
           {
            "marker": {
             "colorbar": {
              "outlinewidth": 0,
              "ticks": ""
             }
            },
            "type": "scattermapbox"
           }
          ],
          "scatterpolar": [
           {
            "marker": {
             "colorbar": {
              "outlinewidth": 0,
              "ticks": ""
             }
            },
            "type": "scatterpolar"
           }
          ],
          "scatterpolargl": [
           {
            "marker": {
             "colorbar": {
              "outlinewidth": 0,
              "ticks": ""
             }
            },
            "type": "scatterpolargl"
           }
          ],
          "scatterternary": [
           {
            "marker": {
             "colorbar": {
              "outlinewidth": 0,
              "ticks": ""
             }
            },
            "type": "scatterternary"
           }
          ],
          "surface": [
           {
            "colorbar": {
             "outlinewidth": 0,
             "ticks": ""
            },
            "colorscale": [
             [
              0,
              "#0d0887"
             ],
             [
              0.1111111111111111,
              "#46039f"
             ],
             [
              0.2222222222222222,
              "#7201a8"
             ],
             [
              0.3333333333333333,
              "#9c179e"
             ],
             [
              0.4444444444444444,
              "#bd3786"
             ],
             [
              0.5555555555555556,
              "#d8576b"
             ],
             [
              0.6666666666666666,
              "#ed7953"
             ],
             [
              0.7777777777777778,
              "#fb9f3a"
             ],
             [
              0.8888888888888888,
              "#fdca26"
             ],
             [
              1,
              "#f0f921"
             ]
            ],
            "type": "surface"
           }
          ],
          "table": [
           {
            "cells": {
             "fill": {
              "color": "#EBF0F8"
             },
             "line": {
              "color": "white"
             }
            },
            "header": {
             "fill": {
              "color": "#C8D4E3"
             },
             "line": {
              "color": "white"
             }
            },
            "type": "table"
           }
          ]
         },
         "layout": {
          "annotationdefaults": {
           "arrowcolor": "#2a3f5f",
           "arrowhead": 0,
           "arrowwidth": 1
          },
          "autotypenumbers": "strict",
          "coloraxis": {
           "colorbar": {
            "outlinewidth": 0,
            "ticks": ""
           }
          },
          "colorscale": {
           "diverging": [
            [
             0,
             "#8e0152"
            ],
            [
             0.1,
             "#c51b7d"
            ],
            [
             0.2,
             "#de77ae"
            ],
            [
             0.3,
             "#f1b6da"
            ],
            [
             0.4,
             "#fde0ef"
            ],
            [
             0.5,
             "#f7f7f7"
            ],
            [
             0.6,
             "#e6f5d0"
            ],
            [
             0.7,
             "#b8e186"
            ],
            [
             0.8,
             "#7fbc41"
            ],
            [
             0.9,
             "#4d9221"
            ],
            [
             1,
             "#276419"
            ]
           ],
           "sequential": [
            [
             0,
             "#0d0887"
            ],
            [
             0.1111111111111111,
             "#46039f"
            ],
            [
             0.2222222222222222,
             "#7201a8"
            ],
            [
             0.3333333333333333,
             "#9c179e"
            ],
            [
             0.4444444444444444,
             "#bd3786"
            ],
            [
             0.5555555555555556,
             "#d8576b"
            ],
            [
             0.6666666666666666,
             "#ed7953"
            ],
            [
             0.7777777777777778,
             "#fb9f3a"
            ],
            [
             0.8888888888888888,
             "#fdca26"
            ],
            [
             1,
             "#f0f921"
            ]
           ],
           "sequentialminus": [
            [
             0,
             "#0d0887"
            ],
            [
             0.1111111111111111,
             "#46039f"
            ],
            [
             0.2222222222222222,
             "#7201a8"
            ],
            [
             0.3333333333333333,
             "#9c179e"
            ],
            [
             0.4444444444444444,
             "#bd3786"
            ],
            [
             0.5555555555555556,
             "#d8576b"
            ],
            [
             0.6666666666666666,
             "#ed7953"
            ],
            [
             0.7777777777777778,
             "#fb9f3a"
            ],
            [
             0.8888888888888888,
             "#fdca26"
            ],
            [
             1,
             "#f0f921"
            ]
           ]
          },
          "colorway": [
           "#636efa",
           "#EF553B",
           "#00cc96",
           "#ab63fa",
           "#FFA15A",
           "#19d3f3",
           "#FF6692",
           "#B6E880",
           "#FF97FF",
           "#FECB52"
          ],
          "font": {
           "color": "#2a3f5f"
          },
          "geo": {
           "bgcolor": "white",
           "lakecolor": "white",
           "landcolor": "#E5ECF6",
           "showlakes": true,
           "showland": true,
           "subunitcolor": "white"
          },
          "hoverlabel": {
           "align": "left"
          },
          "hovermode": "closest",
          "mapbox": {
           "style": "light"
          },
          "paper_bgcolor": "white",
          "plot_bgcolor": "#E5ECF6",
          "polar": {
           "angularaxis": {
            "gridcolor": "white",
            "linecolor": "white",
            "ticks": ""
           },
           "bgcolor": "#E5ECF6",
           "radialaxis": {
            "gridcolor": "white",
            "linecolor": "white",
            "ticks": ""
           }
          },
          "scene": {
           "xaxis": {
            "backgroundcolor": "#E5ECF6",
            "gridcolor": "white",
            "gridwidth": 2,
            "linecolor": "white",
            "showbackground": true,
            "ticks": "",
            "zerolinecolor": "white"
           },
           "yaxis": {
            "backgroundcolor": "#E5ECF6",
            "gridcolor": "white",
            "gridwidth": 2,
            "linecolor": "white",
            "showbackground": true,
            "ticks": "",
            "zerolinecolor": "white"
           },
           "zaxis": {
            "backgroundcolor": "#E5ECF6",
            "gridcolor": "white",
            "gridwidth": 2,
            "linecolor": "white",
            "showbackground": true,
            "ticks": "",
            "zerolinecolor": "white"
           }
          },
          "shapedefaults": {
           "line": {
            "color": "#2a3f5f"
           }
          },
          "ternary": {
           "aaxis": {
            "gridcolor": "white",
            "linecolor": "white",
            "ticks": ""
           },
           "baxis": {
            "gridcolor": "white",
            "linecolor": "white",
            "ticks": ""
           },
           "bgcolor": "#E5ECF6",
           "caxis": {
            "gridcolor": "white",
            "linecolor": "white",
            "ticks": ""
           }
          },
          "title": {
           "x": 0.05
          },
          "xaxis": {
           "automargin": true,
           "gridcolor": "white",
           "linecolor": "white",
           "ticks": "",
           "title": {
            "standoff": 15
           },
           "zerolinecolor": "white",
           "zerolinewidth": 2
          },
          "yaxis": {
           "automargin": true,
           "gridcolor": "white",
           "linecolor": "white",
           "ticks": "",
           "title": {
            "standoff": 15
           },
           "zerolinecolor": "white",
           "zerolinewidth": 2
          }
         }
        }
       }
      },
      "text/html": [
       "<div>                            <div id=\"6d7462e8-8b39-4565-a5c9-eacf628b4573\" class=\"plotly-graph-div\" style=\"height:525px; width:100%;\"></div>            <script type=\"text/javascript\">                require([\"plotly\"], function(Plotly) {                    window.PLOTLYENV=window.PLOTLYENV || {};                                    if (document.getElementById(\"6d7462e8-8b39-4565-a5c9-eacf628b4573\")) {                    Plotly.newPlot(                        \"6d7462e8-8b39-4565-a5c9-eacf628b4573\",                        [{\"name\": \"combined_nn1_train-loss\", \"type\": \"scatter\", \"y\": [1.181835651397705, 0.7215131521224976, 0.6678490042686462, 0.6341717839241028, 0.608681321144104, 0.589979350566864, 0.5743985772132874, 0.5630529522895813, 0.5516176819801331, 0.5426406264305115, 0.5353967547416687, 0.5288695693016052, 0.5229594707489014, 0.5168268084526062, 0.5123060941696167, 0.508001983165741, 0.5038528442382812, 0.4999150335788727, 0.49661192297935486, 0.4938451051712036, 0.49071332812309265, 0.48826462030410767, 0.485910028219223, 0.4831712543964386, 0.48107147216796875, 0.4793921113014221, 0.47792720794677734, 0.47642982006073, 0.4744117558002472, 0.47333669662475586, 0.4718136191368103, 0.4704873263835907, 0.46981558203697205, 0.46837857365608215, 0.4676874577999115, 0.4666982591152191, 0.4658234417438507, 0.4647408127784729, 0.46400564908981323, 0.4631502032279968, 0.4625694453716278, 0.4618634879589081, 0.4612806439399719, 0.4606398642063141, 0.4600898325443268, 0.45931142568588257, 0.4591034948825836, 0.45831185579299927, 0.4578951597213745, 0.4571745693683624, 0.45709487795829773, 0.4578383266925812, 0.4561832547187805, 0.455718070268631, 0.4556763172149658, 0.45508432388305664, 0.4546804130077362, 0.45430418848991394, 0.45397618412971497, 0.45372462272644043, 0.45336899161338806, 0.452970951795578, 0.45277518033981323, 0.452438622713089, 0.451969176530838, 0.45196425914764404, 0.45174652338027954, 0.4516226649284363, 0.4512326717376709, 0.4511181116104126, 0.45101791620254517, 0.4507655203342438, 0.4501859247684479, 0.44989100098609924, 0.44975176453590393, 0.4496125876903534, 0.4494081139564514, 0.4494771361351013, 0.4495733082294464, 0.44890445470809937, 0.4491104185581207, 0.4493507742881775, 0.44856372475624084, 0.4486253559589386, 0.44819241762161255, 0.4479365050792694, 0.44784167408943176, 0.4475749433040619, 0.44768840074539185, 0.44740840792655945, 0.44726935029029846, 0.4473136067390442, 0.4473814070224762, 0.44753527641296387, 0.4467675983905792, 0.44673973321914673, 0.4464901089668274, 0.44635316729545593, 0.44596394896507263, 0.4457942247390747, 0.44581323862075806, 0.44564715027809143, 0.4456334114074707, 0.4454777240753174, 0.44529715180397034, 0.44514748454093933, 0.4449574053287506, 0.44573602080345154, 0.44486498832702637, 0.44453760981559753, 0.44445592164993286, 0.4445532560348511, 0.44437697529792786, 0.44431811571121216, 0.44435593485832214, 0.4443029761314392, 0.4441203773021698, 0.4440886676311493, 0.444129079580307, 0.44405248761177063, 0.4438214898109436, 0.4435061812400818, 0.44370511174201965, 0.443516343832016, 0.4437163174152374, 0.4434506893157959, 0.4435458183288574, 0.44315043091773987, 0.44352445006370544, 0.4432371258735657, 0.4432227611541748, 0.44299551844596863, 0.44300922751426697, 0.4428269565105438, 0.44304490089416504, 0.44272172451019287, 0.443019837141037, 0.4424474835395813, 0.44245630502700806, 0.44249531626701355, 0.44227901101112366, 0.44238588213920593, 0.4424453675746918, 0.442218154668808, 0.44198402762413025, 0.44197043776512146, 0.44229161739349365, 0.44197672605514526, 0.44197800755500793, 0.4425643980503082, 0.4422028660774231, 0.4420930743217468, 0.44219768047332764, 0.4419929087162018, 0.44162842631340027, 0.44164779782295227, 0.4416065216064453, 0.4414385259151459, 0.4413760006427765, 0.4413861930370331, 0.4413602352142334, 0.4413983225822449, 0.4414421319961548, 0.4414149820804596, 0.44156113266944885, 0.4410732388496399, 0.4413381516933441, 0.44103482365608215, 0.4411506950855255, 0.44130855798721313, 0.441312700510025, 0.44117528200149536, 0.44111138582229614, 0.4410688579082489, 0.44095754623413086, 0.44105151295661926, 0.44096121191978455, 0.44084906578063965, 0.44081738591194153, 0.440641850233078, 0.4406558573246002, 0.44074878096580505, 0.44105610251426697, 0.4406932294368744, 0.44058874249458313, 0.44053617119789124, 0.4405161738395691, 0.4404962360858917, 0.44052910804748535, 0.4404289424419403, 0.4404413104057312, 0.440546452999115, 0.44037240743637085, 0.4405381977558136, 0.4405619204044342, 0.44079717993736267, 0.4405531585216522, 0.4405854642391205, 0.4405827820301056, 0.44035035371780396, 0.4403010606765747, 0.44014278054237366, 0.44008228182792664, 0.44021520018577576, 0.4402996301651001, 0.4401300847530365, 0.44007745385169983, 0.44008517265319824, 0.4402243494987488, 0.4400099515914917, 0.4399546980857849, 0.4400922954082489, 0.44008904695510864, 0.4400717616081238, 0.4400152564048767, 0.4398879408836365, 0.4398946464061737, 0.43999019265174866, 0.4399978518486023, 0.4400027394294739, 0.43997618556022644, 0.43993616104125977, 0.439837247133255, 0.4398134648799896, 0.4398663640022278, 0.43985578417778015, 0.4397122263908386, 0.4397302567958832, 0.43997102975845337, 0.4400484263896942, 0.43971648812294006, 0.4396800994873047, 0.4398891031742096, 0.43984532356262207, 0.4397673010826111, 0.43977218866348267, 0.4398476481437683, 0.43977367877960205, 0.4397987425327301, 0.4396362602710724, 0.4396306276321411, 0.43974825739860535, 0.4396304488182068, 0.43961581587791443, 0.4396137595176697, 0.4398016333580017, 0.4396840035915375, 0.43957361578941345, 0.43950071930885315, 0.43956637382507324, 0.4397868812084198, 0.4395565688610077, 0.4396122097969055, 0.43957942724227905, 0.439542293548584, 0.43951311707496643, 0.4395124912261963, 0.4394426643848419, 0.43952658772468567, 0.4396682381629944, 0.4397328197956085, 0.4395628869533539, 0.43952614068984985, 0.43944987654685974, 0.43955761194229126, 0.439558744430542, 0.43946483731269836, 0.43942102789878845, 0.4394742250442505, 0.4394327402114868, 0.4394052028656006, 0.4393945634365082, 0.4394935071468353, 0.4394269287586212, 0.4394475519657135, 0.4395168125629425, 0.4394635260105133, 0.4394541382789612, 0.43944305181503296, 0.4396257698535919, 0.4393334686756134, 0.4393872916698456, 0.43946048617362976, 0.43939051032066345, 0.43956294655799866, 0.4393971860408783, 0.4393385052680969, 0.43951988220214844, 0.43940654397010803, 0.4393382668495178, 0.43931078910827637, 0.43949759006500244, 0.4393506944179535, 0.4392473101615906, 0.4392983317375183, 0.43935272097587585, 0.43939208984375, 0.43938201665878296, 0.43932539224624634, 0.43927890062332153, 0.4393240213394165, 0.43941378593444824, 0.43924784660339355, 0.4393055737018585, 0.4392666816711426, 0.4392629861831665, 0.43930989503860474, 0.4393496811389923, 0.4392833113670349, 0.43912774324417114, 0.43916407227516174, 0.4392663538455963, 0.43923771381378174, 0.43915680050849915, 0.4392857849597931, 0.439236581325531, 0.4392545819282532, 0.4392904043197632, 0.4392528235912323, 0.43909892439842224, 0.4391525089740753, 0.4391384720802307, 0.43920081853866577, 0.43933579325675964, 0.4391883313655853, 0.4391621947288513, 0.4391506016254425, 0.43914419412612915, 0.4391572177410126, 0.4391067922115326, 0.43927687406539917, 0.43911227583885193, 0.43913236260414124, 0.4391824007034302, 0.4391973912715912, 0.43907639384269714, 0.43923884630203247, 0.43919673562049866, 0.4391198456287384, 0.43930143117904663, 0.4391625225543976, 0.43913736939430237, 0.43903687596321106, 0.439203143119812, 0.4391484558582306, 0.43938690423965454, 0.4391001760959625, 0.4390926659107208, 0.43920284509658813, 0.4391525387763977, 0.43927058577537537, 0.43908604979515076, 0.4390823245048523, 0.43912866711616516, 0.4391292929649353, 0.4391102194786072, 0.4390345513820648, 0.4390523433685303, 0.4390667676925659, 0.43906059861183167, 0.4390820860862732, 0.4391080141067505, 0.4391632676124573, 0.43900004029273987, 0.4391712546348572, 0.43911561369895935, 0.43906334042549133, 0.43908071517944336, 0.4390324652194977, 0.4389915466308594, 0.43907371163368225, 0.4391234517097473, 0.43905043601989746, 0.43895554542541504, 0.43903088569641113, 0.4390110671520233, 0.4391170144081116, 0.43907830119132996, 0.43897342681884766, 0.43899956345558167, 0.43903160095214844, 0.4389702081680298, 0.4390380382537842, 0.4389805495738983, 0.43898096680641174, 0.4389415383338928, 0.439020037651062, 0.4389601945877075, 0.4389313757419586, 0.4389839470386505, 0.43897807598114014, 0.4389752745628357, 0.4390504062175751, 0.439023494720459, 0.43904754519462585, 0.43906348943710327, 0.4390263259410858, 0.4390348494052887, 0.43899962306022644, 0.4389931559562683, 0.4389503002166748, 0.4390912353992462, 0.43897300958633423, 0.4389938414096832, 0.4391389489173889, 0.4390733242034912, 0.4391882121562958, 0.43911856412887573, 0.4389233887195587, 0.439031183719635, 0.4389832615852356, 0.4389469623565674, 0.43896716833114624, 0.4390089809894562, 0.4390181601047516, 0.4389781951904297, 0.43890032172203064, 0.4389429986476898, 0.438968688249588, 0.4389495849609375, 0.4389759302139282, 0.4391171336174011, 0.4390495717525482, 0.4391593933105469, 0.4391442537307739, 0.4389140009880066, 0.4390067458152771, 0.4388614296913147, 0.4388500154018402, 0.4388817250728607, 0.43898555636405945, 0.4389912784099579, 0.4389292597770691, 0.43895912170410156, 0.438949853181839, 0.43889689445495605, 0.4389387369155884, 0.43890711665153503, 0.43888920545578003, 0.438942015171051, 0.4390075206756592, 0.43893229961395264, 0.43887564539909363, 0.4389957785606384, 0.43894317746162415, 0.43896517157554626, 0.43896719813346863, 0.4389233887195587, 0.4388740360736847, 0.4389787018299103, 0.43888941407203674, 0.43885570764541626, 0.43886691331863403, 0.4389573633670807, 0.43889477849006653, 0.43884992599487305, 0.43881091475486755, 0.4388841986656189, 0.4389118254184723, 0.43889957666397095, 0.43894627690315247, 0.4389859735965729, 0.4388982057571411, 0.43894141912460327, 0.4390024244785309, 0.43892255425453186, 0.43893176317214966, 0.4388563632965088, 0.439014732837677, 0.43900370597839355, 0.4389125108718872, 0.4388875365257263, 0.4388388693332672, 0.43881115317344666, 0.4388676583766937, 0.4389043152332306, 0.4390154480934143, 0.43892499804496765, 0.438850998878479, 0.43879467248916626, 0.43884721398353577, 0.438866525888443, 0.4389495253562927, 0.43889516592025757, 0.4388405978679657, 0.4388701021671295, 0.4388978183269501, 0.43889114260673523, 0.43887805938720703, 0.4388600289821625, 0.438854843378067, 0.4388388395309448, 0.43880289793014526, 0.43883389234542847, 0.438816636800766, 0.43888580799102783, 0.4388682544231415, 0.4389381408691406, 0.43884146213531494, 0.4388989210128784, 0.4388907253742218, 0.43886038661003113, 0.438846617937088, 0.43880489468574524, 0.43880948424339294, 0.4388136565685272, 0.43885931372642517, 0.43890994787216187, 0.4388885200023651, 0.43894773721694946, 0.43889927864074707, 0.4387948513031006, 0.4387921690940857, 0.43881306052207947, 0.438888281583786, 0.43880805373191833, 0.438855916261673, 0.4387749433517456, 0.43881192803382874, 0.43883976340293884, 0.43885183334350586, 0.4388282299041748, 0.4389297366142273, 0.43879154324531555, 0.4388566315174103, 0.43886798620224, 0.4388023316860199, 0.4388176202774048, 0.4388480484485626, 0.43878331780433655, 0.43877407908439636, 0.4388376772403717, 0.4388870596885681, 0.43885722756385803, 0.4387487769126892, 0.43885374069213867, 0.43880152702331543, 0.4388040006160736, 0.438834547996521, 0.4388640820980072, 0.4387878477573395, 0.43877342343330383, 0.4388314485549927, 0.4387897253036499, 0.4388083219528198, 0.438776433467865, 0.4387700855731964, 0.43878084421157837, 0.4387974441051483, 0.4387212097644806, 0.4387833774089813, 0.4389570951461792, 0.4388369023799896, 0.4387858510017395, 0.4388079047203064, 0.4388003945350647, 0.43875718116760254, 0.43882113695144653, 0.43881118297576904, 0.4387558102607727, 0.4387768805027008, 0.43879640102386475, 0.4387148916721344, 0.4387534260749817, 0.4387827217578888, 0.4388194680213928, 0.43877455592155457, 0.43877699971199036, 0.4388290345668793, 0.43877533078193665, 0.4387597143650055, 0.4388233423233032, 0.43890616297721863, 0.43875977396965027, 0.4387524724006653, 0.4387519955635071, 0.4387912452220917, 0.4388158619403839, 0.4387379288673401, 0.4388194680213928, 0.438772588968277, 0.43892809748649597, 0.43881261348724365, 0.4388141930103302, 0.4389810264110565, 0.4388463497161865, 0.4388244152069092, 0.4386976659297943, 0.4387737512588501, 0.4387584924697876, 0.43873605132102966, 0.4387768805027008, 0.4387631416320801, 0.4387589991092682, 0.4387722313404083, 0.43874630331993103, 0.4387983977794647, 0.4388081133365631, 0.43872958421707153, 0.4387233555316925, 0.43870481848716736, 0.43876469135284424, 0.4387517273426056, 0.43874499201774597, 0.43868449330329895, 0.43873336911201477, 0.4387419521808624, 0.4387286305427551, 0.438770592212677, 0.4387056529521942, 0.43872275948524475, 0.4387742578983307, 0.4388318657875061, 0.4387708604335785, 0.43880125880241394, 0.43870511651039124, 0.4387074112892151, 0.4388011395931244, 0.43873709440231323, 0.43873852491378784, 0.4387474060058594, 0.4387071132659912, 0.4387837052345276, 0.4387623071670532, 0.4387589693069458, 0.43875744938850403, 0.4387207329273224, 0.4386937618255615, 0.43869930505752563, 0.4387296736240387, 0.43872761726379395, 0.4386233985424042, 0.43867525458335876, 0.4387291371822357, 0.43874335289001465, 0.4388074576854706, 0.43874648213386536, 0.4387187659740448, 0.43872737884521484, 0.438763290643692, 0.4386760890483856, 0.4387631416320801, 0.4387035667896271, 0.4386845529079437, 0.4387107491493225, 0.4387068748474121, 0.4387601912021637, 0.43870672583580017, 0.43876510858535767, 0.4387090802192688, 0.4387046992778778, 0.4387451410293579, 0.4388483464717865, 0.4386902153491974, 0.43867993354797363, 0.43873921036720276, 0.43875211477279663, 0.4387127459049225, 0.43868812918663025, 0.43874165415763855, 0.4386719763278961, 0.4386780560016632, 0.4386809766292572, 0.4386714994907379, 0.4387020468711853, 0.43870505690574646, 0.4387240707874298, 0.4387162923812866, 0.43868499994277954, 0.4386541545391083, 0.4386447072029114, 0.43867728114128113, 0.4386608600616455, 0.438688725233078, 0.4386908710002899, 0.4388253390789032, 0.43875566124916077, 0.43878287076950073, 0.43870487809181213, 0.4387231469154358, 0.43869689106941223, 0.43864336609840393]}, {\"name\": \"combined_nn2_train-loss\", \"type\": \"scatter\", \"y\": [1.117897391319275, 0.7056230306625366, 0.6491925716400146, 0.6156207323074341, 0.5908613801002502, 0.5741835832595825, 0.5612540245056152, 0.549309492111206, 0.540556788444519, 0.5324658155441284, 0.5253309011459351, 0.5195973515510559, 0.5139748454093933, 0.5088723301887512, 0.5052567720413208, 0.5006788969039917, 0.49755626916885376, 0.49383893609046936, 0.4899800419807434, 0.4878467917442322, 0.48569604754447937, 0.48301562666893005, 0.4811505377292633, 0.47893384099006653, 0.47685882449150085, 0.4754078686237335, 0.4739225208759308, 0.4723341763019562, 0.47077473998069763, 0.46989670395851135, 0.469122976064682, 0.4674554467201233, 0.4663405418395996, 0.46522295475006104, 0.4643539488315582, 0.4635224938392639, 0.46237120032310486, 0.46165043115615845, 0.46108368039131165, 0.46087396144866943, 0.45999807119369507, 0.4590257704257965, 0.45859017968177795, 0.45799317955970764, 0.4577731788158417, 0.4568164646625519, 0.4566657245159149, 0.4559829533100128, 0.45551708340644836, 0.45536312460899353, 0.45496121048927307, 0.4545389413833618, 0.45421355962753296, 0.45370763540267944, 0.4535755515098572, 0.45310842990875244, 0.4528352916240692, 0.45268288254737854, 0.45256975293159485, 0.4523071348667145, 0.4515860378742218, 0.45160338282585144, 0.45163586735725403, 0.45091748237609863, 0.4508655369281769, 0.4504312574863434, 0.4503374993801117, 0.45004701614379883, 0.44984742999076843, 0.4497353434562683, 0.4495849609375, 0.4490371644496918, 0.44910871982574463, 0.4489941895008087, 0.4485112428665161, 0.44852909445762634, 0.4491793215274811, 0.4486883580684662, 0.44788283109664917, 0.44823357462882996, 0.4477395713329315, 0.4474503993988037, 0.4472944736480713, 0.4472516179084778, 0.447203129529953, 0.44715914130210876, 0.4468846917152405, 0.44681715965270996, 0.44666171073913574, 0.44676700234413147, 0.4464404284954071, 0.44630345702171326, 0.44612622261047363, 0.44601812958717346, 0.44595351815223694, 0.4456227421760559, 0.44561567902565, 0.44600120186805725, 0.4456322491168976, 0.4459491968154907, 0.44541963934898376, 0.445110559463501, 0.445197731256485, 0.44488653540611267, 0.44498759508132935, 0.44492802023887634, 0.44452643394470215, 0.44447845220565796, 0.4447263777256012, 0.444511353969574, 0.444643497467041, 0.44430026412010193, 0.4440534710884094, 0.44437381625175476, 0.44392451643943787, 0.4440890848636627, 0.4438306987285614, 0.44402220845222473, 0.4438353478908539, 0.44371306896209717, 0.4434991180896759, 0.44367435574531555, 0.44343429803848267, 0.44366663694381714, 0.44353315234184265, 0.44349509477615356, 0.44327136874198914, 0.44295352697372437, 0.4429236948490143, 0.4428216516971588, 0.44275957345962524, 0.4428107738494873, 0.4426485002040863, 0.44260966777801514, 0.44281089305877686, 0.4427938759326935, 0.44264304637908936, 0.44249776005744934, 0.4425503611564636, 0.44245466589927673, 0.4425885081291199, 0.4426230490207672, 0.44234755635261536, 0.4422745108604431, 0.44196614623069763, 0.44209206104278564, 0.4419133961200714, 0.44204846024513245, 0.4418644905090332, 0.441817969083786, 0.4420164227485657, 0.4419066607952118, 0.4417816698551178, 0.4417239725589752, 0.44191476702690125, 0.44171687960624695, 0.4417535364627838, 0.4415401816368103, 0.4417163133621216, 0.4414907395839691, 0.44152194261550903, 0.441355437040329, 0.44147592782974243, 0.44135892391204834, 0.4418502151966095, 0.44173482060432434, 0.44132062792778015, 0.44125133752822876, 0.44131147861480713, 0.44103047251701355, 0.4410933554172516, 0.44098442792892456, 0.44128841161727905, 0.4414289593696594, 0.44103115797042847, 0.4411177933216095, 0.4410424828529358, 0.4408603608608246, 0.4407322406768799, 0.4407082498073578, 0.44085752964019775, 0.4406696856021881, 0.4406629502773285, 0.4407592713832855, 0.44083675742149353, 0.4405849874019623, 0.44053202867507935, 0.4406774044036865, 0.44067272543907166, 0.4404769837856293, 0.44063645601272583, 0.4403904378414154, 0.44043928384780884, 0.4405360519886017, 0.4404560923576355, 0.44037824869155884, 0.44049128890037537, 0.44019967317581177, 0.4403510093688965, 0.4403732717037201, 0.4403415024280548, 0.44037893414497375, 0.440357506275177, 0.44036146998405457, 0.4403282403945923, 0.44034481048583984, 0.44029977917671204, 0.4403109848499298, 0.44026288390159607, 0.44029584527015686, 0.4401976466178894, 0.4400274157524109, 0.43996280431747437, 0.44017037749290466, 0.4400651156902313, 0.44012251496315, 0.4399596154689789, 0.4400511085987091, 0.4399067163467407, 0.44017431139945984, 0.44003811478614807, 0.43996354937553406, 0.43994641304016113, 0.43999361991882324, 0.44000542163848877, 0.43986815214157104, 0.44014766812324524, 0.4399147033691406, 0.4398617446422577, 0.43991005420684814, 0.4398883879184723, 0.4398678243160248, 0.439879447221756, 0.439843088388443, 0.43982335925102234, 0.43989357352256775, 0.43973422050476074, 0.4398193061351776, 0.4399191737174988, 0.43991756439208984, 0.43985533714294434, 0.4396207630634308, 0.4397640824317932, 0.43980738520622253, 0.4397178590297699, 0.43971413373947144, 0.43974971771240234, 0.4400423765182495, 0.43971067667007446, 0.43970370292663574, 0.4397413432598114, 0.4397350549697876, 0.43954432010650635, 0.4396251440048218, 0.43971115350723267, 0.43964457511901855, 0.439601868391037, 0.43967968225479126, 0.4399081766605377, 0.4398234784603119, 0.43971148133277893, 0.43980279564857483, 0.4395277798175812, 0.4395682215690613, 0.43960171937942505, 0.43950900435447693, 0.43964052200317383, 0.43954163789749146, 0.43969112634658813, 0.43951669335365295, 0.4395678639411926, 0.43950605392456055, 0.43961119651794434, 0.43962350487709045, 0.4395984411239624, 0.4395059645175934, 0.4395281672477722, 0.43956559896469116, 0.43969088792800903, 0.4394471347332001, 0.4394359886646271, 0.43942388892173767, 0.43957963585853577, 0.4396815299987793, 0.439724862575531, 0.4395153224468231, 0.43950825929641724, 0.4394412338733673, 0.4395705461502075, 0.4395814836025238, 0.43974626064300537, 0.43945223093032837, 0.43947479128837585, 0.4395448565483093, 0.43946146965026855, 0.4394472539424896, 0.43952202796936035, 0.43944793939590454, 0.43932977318763733, 0.43933549523353577, 0.43944627046585083, 0.4393153488636017, 0.4394518733024597, 0.43947839736938477, 0.439378947019577, 0.43935927748680115, 0.43938034772872925, 0.4394190311431885, 0.4393596351146698, 0.4392639398574829, 0.43935516476631165, 0.4393695890903473, 0.43936556577682495, 0.4393502473831177, 0.43929803371429443, 0.4393901526927948, 0.4393870532512665, 0.43940046429634094, 0.4393502175807953, 0.43932226300239563, 0.4394565522670746, 0.43941181898117065, 0.43928295373916626, 0.43926358222961426, 0.4393113851547241, 0.43946602940559387, 0.43944817781448364, 0.43931901454925537, 0.4392963647842407, 0.4393024146556854, 0.4394620358943939, 0.4392896294593811, 0.4394674599170685, 0.43926119804382324, 0.4392235577106476, 0.439297616481781, 0.43920183181762695, 0.4393210709095001, 0.4392746090888977, 0.4391825497150421, 0.4392920136451721, 0.4393051564693451, 0.4392123520374298, 0.43929314613342285, 0.439250648021698, 0.4392505884170532, 0.43934857845306396, 0.4393870532512665, 0.4391970932483673, 0.43923428654670715, 0.43930932879447937, 0.4391821622848511, 0.43917837738990784, 0.4392640292644501, 0.4393085241317749, 0.4391651749610901, 0.43915826082229614, 0.43921715021133423, 0.4392138719558716, 0.4394375681877136, 0.4392809271812439, 0.4391550123691559, 0.4390803575515747, 0.4392010271549225, 0.4391343295574188, 0.4391728341579437, 0.43914222717285156, 0.43916910886764526, 0.43913811445236206, 0.4392012357711792, 0.43913865089416504, 0.43910732865333557, 0.439119428396225, 0.43911048769950867, 0.4392658770084381, 0.4391387403011322, 0.4391457438468933, 0.4391529858112335, 0.43926796317100525, 0.43915846943855286, 0.43919357657432556, 0.43912017345428467, 0.43925923109054565, 0.43921059370040894, 0.43926122784614563, 0.43913623690605164, 0.4391951262950897, 0.4392319619655609, 0.439263254404068, 0.43908464908599854, 0.43921545147895813, 0.43918663263320923, 0.4391886591911316, 0.43945229053497314, 0.4392062723636627, 0.4391239583492279, 0.4390300214290619, 0.4390565752983093, 0.43914246559143066, 0.439238578081131, 0.43905359506607056, 0.43909355998039246, 0.43903690576553345, 0.43900948762893677, 0.43904486298561096, 0.43903329968452454, 0.43905287981033325, 0.4390888214111328, 0.4391985833644867, 0.43907108902931213, 0.4392402470111847, 0.4390285909175873, 0.4390546977519989, 0.4390711784362793, 0.4390818774700165, 0.4391918480396271, 0.43919461965560913, 0.4391383230686188, 0.4391119182109833, 0.43902501463890076, 0.43914857506752014, 0.43901243805885315, 0.4390332102775574, 0.4390663504600525, 0.4390934109687805, 0.43905511498451233, 0.43912744522094727, 0.43908339738845825, 0.43908554315567017, 0.43910449743270874, 0.43921953439712524, 0.4391029477119446, 0.43903857469558716, 0.4390316605567932, 0.4390465319156647, 0.4391326308250427, 0.43904823064804077, 0.43900778889656067, 0.4390247166156769, 0.4390920400619507, 0.4390084743499756, 0.43902987241744995, 0.43904832005500793, 0.43900275230407715, 0.4390537142753601, 0.43915972113609314, 0.4390932023525238, 0.43924200534820557, 0.4391613304615021, 0.4390796720981598, 0.43900397419929504, 0.43892940878868103, 0.4389645457267761, 0.43897783756256104, 0.4389421045780182, 0.4390202462673187, 0.4390692412853241, 0.4390091896057129, 0.4390276074409485, 0.43905767798423767, 0.4389652907848358, 0.4389570653438568, 0.43898558616638184, 0.4389994442462921, 0.4389688968658447, 0.4389553666114807, 0.4389722943305969, 0.43900540471076965, 0.43911007046699524, 0.43906623125076294, 0.43910670280456543, 0.4390340745449066, 0.4390759766101837, 0.43896183371543884, 0.4389607012271881, 0.43898364901542664, 0.43893811106681824, 0.4389989376068115, 0.4390275478363037, 0.43898746371269226, 0.4390118718147278, 0.4390626847743988, 0.4390392005443573, 0.4389446973800659, 0.4388931691646576, 0.43893980979919434, 0.43892911076545715, 0.43892455101013184, 0.43894103169441223, 0.4390239715576172, 0.4389755129814148, 0.4389224052429199, 0.43887925148010254, 0.438932329416275, 0.43892598152160645, 0.43888500332832336, 0.43887436389923096, 0.43898454308509827, 0.43892428278923035, 0.43889671564102173, 0.4389447569847107, 0.4388814866542816, 0.4388945400714874, 0.43893590569496155, 0.4389020800590515, 0.43887391686439514, 0.4388844668865204, 0.4389311373233795, 0.4390716552734375, 0.4389945864677429, 0.4389914572238922, 0.43888458609580994, 0.43892890214920044, 0.43894362449645996, 0.4388672709465027, 0.4388542175292969, 0.4389328062534332, 0.43895232677459717, 0.43891245126724243, 0.43896082043647766, 0.43885090947151184, 0.4388095736503601, 0.43893691897392273, 0.4388720691204071, 0.43899935483932495, 0.43892019987106323, 0.4388907551765442, 0.4388333857059479, 0.43893271684646606, 0.43882930278778076, 0.43883204460144043, 0.43887627124786377, 0.4388716220855713, 0.43885043263435364, 0.438918799161911, 0.43887796998023987, 0.43886059522628784, 0.43885233998298645, 0.4388427734375, 0.4388526380062103, 0.43897300958633423, 0.4389280080795288, 0.438912570476532, 0.4388010501861572, 0.4388015568256378, 0.43884602189064026, 0.4388953149318695, 0.4389108419418335, 0.4388751685619354, 0.43889859318733215, 0.43889716267585754, 0.43892598152160645, 0.4390905797481537, 0.43887048959732056, 0.43882113695144653, 0.4387747645378113, 0.4387783408164978, 0.4388619661331177, 0.4387700855731964, 0.4388878047466278, 0.43894174695014954, 0.43888065218925476, 0.4388337731361389, 0.4388919174671173, 0.43886950612068176, 0.43891021609306335, 0.4388766288757324, 0.43880218267440796, 0.43888184428215027, 0.4388297498226166, 0.43882936239242554, 0.438847154378891, 0.43885156512260437, 0.4388591945171356, 0.4388137459754944, 0.43878304958343506, 0.4388388693332672, 0.43883776664733887, 0.4388235807418823, 0.4388522803783417, 0.4387897253036499, 0.4388515055179596, 0.4388059377670288, 0.43884262442588806, 0.4388378858566284, 0.4388491213321686, 0.43885505199432373, 0.43885791301727295, 0.43884173035621643, 0.4388878047466278, 0.4387562870979309, 0.43879714608192444, 0.4387788474559784, 0.4387741684913635, 0.4388677775859833, 0.4388090670108795, 0.43875980377197266, 0.438766747713089, 0.4388663172721863, 0.4388110339641571, 0.4388434886932373, 0.4388938844203949, 0.43878108263015747, 0.4388125240802765, 0.43879982829093933, 0.4388469159603119, 0.43879234790802, 0.43881717324256897, 0.4388200640678406, 0.4388599991798401, 0.43883371353149414, 0.43885791301727295, 0.4388158619403839, 0.43881911039352417, 0.43879151344299316, 0.4388074576854706, 0.4388330280780792, 0.4388495087623596, 0.43890437483787537, 0.4389161169528961, 0.4388635456562042, 0.4388026297092438, 0.4387771785259247, 0.4388123154640198, 0.438846617937088, 0.43878358602523804, 0.43877995014190674, 0.4388197362422943, 0.4388285279273987, 0.43878981471061707, 0.4389006793498993, 0.4388576149940491, 0.43877261877059937, 0.43874308466911316, 0.43880918622016907, 0.4388045370578766, 0.4387768805027008, 0.43881767988204956, 0.4388515055179596, 0.4387684166431427, 0.4387478530406952, 0.43878433108329773, 0.43875932693481445, 0.4388701617717743, 0.43891069293022156, 0.43878161907196045, 0.43876683712005615, 0.43883681297302246, 0.43880897760391235, 0.43881115317344666, 0.4387718439102173, 0.43874916434288025, 0.43878230452537537, 0.4387960433959961, 0.438849538564682, 0.43879055976867676, 0.4388376474380493, 0.4387989342212677, 0.4387633204460144, 0.43875592947006226, 0.4387311041355133, 0.4387572705745697, 0.4387633502483368, 0.43880921602249146, 0.4387068748474121, 0.4387809932231903, 0.4387299716472626, 0.43874943256378174, 0.43881335854530334, 0.4387599229812622, 0.43878093361854553, 0.43876540660858154, 0.4387631416320801, 0.43875643610954285, 0.43872857093811035, 0.4387865960597992, 0.4388141334056854, 0.43877407908439636, 0.43874719738960266, 0.43878811597824097, 0.43874213099479675, 0.43876731395721436, 0.4387417733669281, 0.43875303864479065, 0.4388815462589264, 0.4387695789337158, 0.43876856565475464, 0.43871763348579407, 0.4387452304363251, 0.4388790428638458, 0.43878263235092163, 0.4387730360031128, 0.438728004693985, 0.4387446343898773, 0.4387359917163849, 0.43867027759552, 0.4387483596801758, 0.43875372409820557, 0.43877631425857544, 0.4387352466583252, 0.4388016164302826, 0.43878769874572754, 0.4387752115726471, 0.43874257802963257, 0.43875962495803833, 0.43891531229019165, 0.4387804865837097, 0.4387415051460266, 0.4387688636779785, 0.438772588968277, 0.43880563974380493, 0.43872374296188354, 0.438690721988678, 0.43871957063674927, 0.43873322010040283, 0.438712477684021, 0.4387674331665039, 0.43875235319137573, 0.4388425648212433, 0.4387452304363251, 0.4387534260749817, 0.43878018856048584, 0.43871769309043884, 0.4388011395931244, 0.4387619197368622, 0.4388026297092438, 0.4387392997741699, 0.43870511651039124, 0.43868157267570496, 0.43869414925575256, 0.4386896789073944, 0.4387184679508209, 0.43874725699424744, 0.4386642277240753, 0.4387715458869934, 0.43876752257347107, 0.4386805295944214, 0.43871480226516724, 0.43874120712280273, 0.43879345059394836, 0.43873026967048645, 0.43869084119796753, 0.43875113129615784, 0.43870052695274353, 0.4387292265892029, 0.4386945366859436, 0.43871238827705383, 0.43880495429039, 0.43888533115386963, 0.4387515187263489, 0.438726007938385, 0.43871378898620605, 0.43874162435531616, 0.4386530816555023, 0.43866202235221863, 0.43885231018066406, 0.43864738941192627, 0.438679963350296, 0.43870311975479126, 0.43876776099205017, 0.4387519657611847, 0.4387519061565399, 0.4387989640235901, 0.43874531984329224, 0.4388601779937744, 0.4387081265449524, 0.43869897723197937, 0.4386930465698242, 0.4387260377407074, 0.4387125074863434, 0.43874213099479675, 0.4387018382549286, 0.43872684240341187, 0.43871942162513733, 0.4386846423149109, 0.43873029947280884, 0.43869084119796753, 0.438719242811203, 0.4387260973453522, 0.43867242336273193, 0.438668817281723, 0.4386676251888275, 0.4387194514274597, 0.43867993354797363, 0.43869754672050476, 0.4387194812297821, 0.4386833608150482, 0.4387734830379486, 0.4386664927005768, 0.4387107491493225, 0.43870705366134644, 0.43873557448387146, 0.43873053789138794, 0.4387193024158478, 0.43873128294944763, 0.43869340419769287, 0.4386831223964691, 0.43873029947280884, 0.4387505054473877, 0.43875551223754883, 0.438739150762558, 0.43873104453086853, 0.4386541545391083, 0.4387257993221283, 0.43873733282089233, 0.43869489431381226, 0.43868395686149597]}],                        {\"template\": {\"data\": {\"bar\": [{\"error_x\": {\"color\": \"#2a3f5f\"}, \"error_y\": {\"color\": \"#2a3f5f\"}, \"marker\": {\"line\": {\"color\": \"#E5ECF6\", \"width\": 0.5}}, \"type\": \"bar\"}], \"barpolar\": [{\"marker\": {\"line\": {\"color\": \"#E5ECF6\", \"width\": 0.5}}, \"type\": \"barpolar\"}], \"carpet\": [{\"aaxis\": {\"endlinecolor\": \"#2a3f5f\", \"gridcolor\": \"white\", \"linecolor\": \"white\", \"minorgridcolor\": \"white\", \"startlinecolor\": \"#2a3f5f\"}, \"baxis\": {\"endlinecolor\": \"#2a3f5f\", \"gridcolor\": \"white\", \"linecolor\": \"white\", \"minorgridcolor\": \"white\", \"startlinecolor\": \"#2a3f5f\"}, \"type\": \"carpet\"}], \"choropleth\": [{\"colorbar\": {\"outlinewidth\": 0, \"ticks\": \"\"}, \"type\": \"choropleth\"}], \"contour\": [{\"colorbar\": {\"outlinewidth\": 0, \"ticks\": \"\"}, \"colorscale\": [[0.0, \"#0d0887\"], [0.1111111111111111, \"#46039f\"], [0.2222222222222222, \"#7201a8\"], [0.3333333333333333, \"#9c179e\"], [0.4444444444444444, \"#bd3786\"], [0.5555555555555556, \"#d8576b\"], [0.6666666666666666, \"#ed7953\"], [0.7777777777777778, \"#fb9f3a\"], [0.8888888888888888, \"#fdca26\"], [1.0, \"#f0f921\"]], \"type\": \"contour\"}], \"contourcarpet\": [{\"colorbar\": {\"outlinewidth\": 0, \"ticks\": \"\"}, \"type\": \"contourcarpet\"}], \"heatmap\": [{\"colorbar\": {\"outlinewidth\": 0, \"ticks\": \"\"}, \"colorscale\": [[0.0, \"#0d0887\"], [0.1111111111111111, \"#46039f\"], [0.2222222222222222, \"#7201a8\"], [0.3333333333333333, \"#9c179e\"], [0.4444444444444444, \"#bd3786\"], [0.5555555555555556, \"#d8576b\"], [0.6666666666666666, \"#ed7953\"], [0.7777777777777778, \"#fb9f3a\"], [0.8888888888888888, \"#fdca26\"], [1.0, \"#f0f921\"]], \"type\": \"heatmap\"}], \"heatmapgl\": [{\"colorbar\": {\"outlinewidth\": 0, \"ticks\": \"\"}, \"colorscale\": [[0.0, \"#0d0887\"], [0.1111111111111111, \"#46039f\"], [0.2222222222222222, \"#7201a8\"], [0.3333333333333333, \"#9c179e\"], [0.4444444444444444, \"#bd3786\"], [0.5555555555555556, \"#d8576b\"], [0.6666666666666666, \"#ed7953\"], [0.7777777777777778, \"#fb9f3a\"], [0.8888888888888888, \"#fdca26\"], [1.0, \"#f0f921\"]], \"type\": \"heatmapgl\"}], \"histogram\": [{\"marker\": {\"colorbar\": {\"outlinewidth\": 0, \"ticks\": \"\"}}, \"type\": \"histogram\"}], \"histogram2d\": [{\"colorbar\": {\"outlinewidth\": 0, \"ticks\": \"\"}, \"colorscale\": [[0.0, \"#0d0887\"], [0.1111111111111111, \"#46039f\"], [0.2222222222222222, \"#7201a8\"], [0.3333333333333333, \"#9c179e\"], [0.4444444444444444, \"#bd3786\"], [0.5555555555555556, \"#d8576b\"], [0.6666666666666666, \"#ed7953\"], [0.7777777777777778, \"#fb9f3a\"], [0.8888888888888888, \"#fdca26\"], [1.0, \"#f0f921\"]], \"type\": \"histogram2d\"}], \"histogram2dcontour\": [{\"colorbar\": {\"outlinewidth\": 0, \"ticks\": \"\"}, \"colorscale\": [[0.0, \"#0d0887\"], [0.1111111111111111, \"#46039f\"], [0.2222222222222222, \"#7201a8\"], [0.3333333333333333, \"#9c179e\"], [0.4444444444444444, \"#bd3786\"], [0.5555555555555556, \"#d8576b\"], [0.6666666666666666, \"#ed7953\"], [0.7777777777777778, \"#fb9f3a\"], [0.8888888888888888, \"#fdca26\"], [1.0, \"#f0f921\"]], \"type\": \"histogram2dcontour\"}], \"mesh3d\": [{\"colorbar\": {\"outlinewidth\": 0, \"ticks\": \"\"}, \"type\": \"mesh3d\"}], \"parcoords\": [{\"line\": {\"colorbar\": {\"outlinewidth\": 0, \"ticks\": \"\"}}, \"type\": \"parcoords\"}], \"pie\": [{\"automargin\": true, \"type\": \"pie\"}], \"scatter\": [{\"marker\": {\"colorbar\": {\"outlinewidth\": 0, \"ticks\": \"\"}}, \"type\": \"scatter\"}], \"scatter3d\": [{\"line\": {\"colorbar\": {\"outlinewidth\": 0, \"ticks\": \"\"}}, \"marker\": {\"colorbar\": {\"outlinewidth\": 0, \"ticks\": \"\"}}, \"type\": \"scatter3d\"}], \"scattercarpet\": [{\"marker\": {\"colorbar\": {\"outlinewidth\": 0, \"ticks\": \"\"}}, \"type\": \"scattercarpet\"}], \"scattergeo\": [{\"marker\": {\"colorbar\": {\"outlinewidth\": 0, \"ticks\": \"\"}}, \"type\": \"scattergeo\"}], \"scattergl\": [{\"marker\": {\"colorbar\": {\"outlinewidth\": 0, \"ticks\": \"\"}}, \"type\": \"scattergl\"}], \"scattermapbox\": [{\"marker\": {\"colorbar\": {\"outlinewidth\": 0, \"ticks\": \"\"}}, \"type\": \"scattermapbox\"}], \"scatterpolar\": [{\"marker\": {\"colorbar\": {\"outlinewidth\": 0, \"ticks\": \"\"}}, \"type\": \"scatterpolar\"}], \"scatterpolargl\": [{\"marker\": {\"colorbar\": {\"outlinewidth\": 0, \"ticks\": \"\"}}, \"type\": \"scatterpolargl\"}], \"scatterternary\": [{\"marker\": {\"colorbar\": {\"outlinewidth\": 0, \"ticks\": \"\"}}, \"type\": \"scatterternary\"}], \"surface\": [{\"colorbar\": {\"outlinewidth\": 0, \"ticks\": \"\"}, \"colorscale\": [[0.0, \"#0d0887\"], [0.1111111111111111, \"#46039f\"], [0.2222222222222222, \"#7201a8\"], [0.3333333333333333, \"#9c179e\"], [0.4444444444444444, \"#bd3786\"], [0.5555555555555556, \"#d8576b\"], [0.6666666666666666, \"#ed7953\"], [0.7777777777777778, \"#fb9f3a\"], [0.8888888888888888, \"#fdca26\"], [1.0, \"#f0f921\"]], \"type\": \"surface\"}], \"table\": [{\"cells\": {\"fill\": {\"color\": \"#EBF0F8\"}, \"line\": {\"color\": \"white\"}}, \"header\": {\"fill\": {\"color\": \"#C8D4E3\"}, \"line\": {\"color\": \"white\"}}, \"type\": \"table\"}]}, \"layout\": {\"annotationdefaults\": {\"arrowcolor\": \"#2a3f5f\", \"arrowhead\": 0, \"arrowwidth\": 1}, \"autotypenumbers\": \"strict\", \"coloraxis\": {\"colorbar\": {\"outlinewidth\": 0, \"ticks\": \"\"}}, \"colorscale\": {\"diverging\": [[0, \"#8e0152\"], [0.1, \"#c51b7d\"], [0.2, \"#de77ae\"], [0.3, \"#f1b6da\"], [0.4, \"#fde0ef\"], [0.5, \"#f7f7f7\"], [0.6, \"#e6f5d0\"], [0.7, \"#b8e186\"], [0.8, \"#7fbc41\"], [0.9, \"#4d9221\"], [1, \"#276419\"]], \"sequential\": [[0.0, \"#0d0887\"], [0.1111111111111111, \"#46039f\"], [0.2222222222222222, \"#7201a8\"], [0.3333333333333333, \"#9c179e\"], [0.4444444444444444, \"#bd3786\"], [0.5555555555555556, \"#d8576b\"], [0.6666666666666666, \"#ed7953\"], [0.7777777777777778, \"#fb9f3a\"], [0.8888888888888888, \"#fdca26\"], [1.0, \"#f0f921\"]], \"sequentialminus\": [[0.0, \"#0d0887\"], [0.1111111111111111, \"#46039f\"], [0.2222222222222222, \"#7201a8\"], [0.3333333333333333, \"#9c179e\"], [0.4444444444444444, \"#bd3786\"], [0.5555555555555556, \"#d8576b\"], [0.6666666666666666, \"#ed7953\"], [0.7777777777777778, \"#fb9f3a\"], [0.8888888888888888, \"#fdca26\"], [1.0, \"#f0f921\"]]}, \"colorway\": [\"#636efa\", \"#EF553B\", \"#00cc96\", \"#ab63fa\", \"#FFA15A\", \"#19d3f3\", \"#FF6692\", \"#B6E880\", \"#FF97FF\", \"#FECB52\"], \"font\": {\"color\": \"#2a3f5f\"}, \"geo\": {\"bgcolor\": \"white\", \"lakecolor\": \"white\", \"landcolor\": \"#E5ECF6\", \"showlakes\": true, \"showland\": true, \"subunitcolor\": \"white\"}, \"hoverlabel\": {\"align\": \"left\"}, \"hovermode\": \"closest\", \"mapbox\": {\"style\": \"light\"}, \"paper_bgcolor\": \"white\", \"plot_bgcolor\": \"#E5ECF6\", \"polar\": {\"angularaxis\": {\"gridcolor\": \"white\", \"linecolor\": \"white\", \"ticks\": \"\"}, \"bgcolor\": \"#E5ECF6\", \"radialaxis\": {\"gridcolor\": \"white\", \"linecolor\": \"white\", \"ticks\": \"\"}}, \"scene\": {\"xaxis\": {\"backgroundcolor\": \"#E5ECF6\", \"gridcolor\": \"white\", \"gridwidth\": 2, \"linecolor\": \"white\", \"showbackground\": true, \"ticks\": \"\", \"zerolinecolor\": \"white\"}, \"yaxis\": {\"backgroundcolor\": \"#E5ECF6\", \"gridcolor\": \"white\", \"gridwidth\": 2, \"linecolor\": \"white\", \"showbackground\": true, \"ticks\": \"\", \"zerolinecolor\": \"white\"}, \"zaxis\": {\"backgroundcolor\": \"#E5ECF6\", \"gridcolor\": \"white\", \"gridwidth\": 2, \"linecolor\": \"white\", \"showbackground\": true, \"ticks\": \"\", \"zerolinecolor\": \"white\"}}, \"shapedefaults\": {\"line\": {\"color\": \"#2a3f5f\"}}, \"ternary\": {\"aaxis\": {\"gridcolor\": \"white\", \"linecolor\": \"white\", \"ticks\": \"\"}, \"baxis\": {\"gridcolor\": \"white\", \"linecolor\": \"white\", \"ticks\": \"\"}, \"bgcolor\": \"#E5ECF6\", \"caxis\": {\"gridcolor\": \"white\", \"linecolor\": \"white\", \"ticks\": \"\"}}, \"title\": {\"x\": 0.05}, \"xaxis\": {\"automargin\": true, \"gridcolor\": \"white\", \"linecolor\": \"white\", \"ticks\": \"\", \"title\": {\"standoff\": 15}, \"zerolinecolor\": \"white\", \"zerolinewidth\": 2}, \"yaxis\": {\"automargin\": true, \"gridcolor\": \"white\", \"linecolor\": \"white\", \"ticks\": \"\", \"title\": {\"standoff\": 15}, \"zerolinecolor\": \"white\", \"zerolinewidth\": 2}}}},                        {\"responsive\": true}                    ).then(function(){\n",
       "                            \n",
       "var gd = document.getElementById('6d7462e8-8b39-4565-a5c9-eacf628b4573');\n",
       "var x = new MutationObserver(function (mutations, observer) {{\n",
       "        var display = window.getComputedStyle(gd).display;\n",
       "        if (!display || display === 'none') {{\n",
       "            console.log([gd, 'removed!']);\n",
       "            Plotly.purge(gd);\n",
       "            observer.disconnect();\n",
       "        }}\n",
       "}});\n",
       "\n",
       "// Listen for the removal of the full notebook cells\n",
       "var notebookContainer = gd.closest('#notebook-container');\n",
       "if (notebookContainer) {{\n",
       "    x.observe(notebookContainer, {childList: true});\n",
       "}}\n",
       "\n",
       "// Listen for the clearing of the current output cell\n",
       "var outputEl = gd.closest('.output');\n",
       "if (outputEl) {{\n",
       "    x.observe(outputEl, {childList: true});\n",
       "}}\n",
       "\n",
       "                        })                };                });            </script>        </div>"
      ]
     },
     "metadata": {},
     "output_type": "display_data"
    }
   ],
   "source": [
    "plot_loss([loss, loss2], ['combined_nn1', 'combined_nn2'])"
   ]
  },
  {
   "cell_type": "code",
   "execution_count": 17,
   "id": "communist-research",
   "metadata": {},
   "outputs": [],
   "source": [
    "loss = read_loss_curve('combined_nn_results/model7')"
   ]
  },
  {
   "cell_type": "code",
   "execution_count": 18,
   "id": "ranking-campus",
   "metadata": {},
   "outputs": [
    {
     "data": {
      "application/vnd.plotly.v1+json": {
       "config": {
        "plotlyServerURL": "https://plot.ly"
       },
       "data": [
        {
         "name": "combined_nn_train-loss",
         "type": "scatter",
         "y": [
          1.1232267618179321,
          0.7365588545799255,
          0.6751056909561157,
          0.6408165097236633,
          0.6151019334793091,
          0.5948612093925476,
          0.5779068470001221,
          0.563148558139801,
          0.5507257580757141,
          0.5406332612037659,
          0.5308771729469299,
          0.5232927799224854,
          0.5169821381568909,
          0.5108899474143982,
          0.5052607655525208,
          0.499520868062973,
          0.49538642168045044,
          0.49092748761177063,
          0.487679123878479,
          0.48427531123161316,
          0.4814632833003998,
          0.4780537784099579,
          0.47620564699172974,
          0.47324955463409424,
          0.47095349431037903,
          0.4691144824028015,
          0.4675038158893585,
          0.4653388261795044,
          0.4639164209365845,
          0.4622131288051605,
          0.461178183555603,
          0.46008867025375366,
          0.45850908756256104,
          0.4574562609195709,
          0.4565456807613373,
          0.4566609859466553,
          0.4558038115501404,
          0.4538978040218353,
          0.4536341726779938,
          0.4527024030685425,
          0.45172634720802307,
          0.45045730471611023,
          0.4497626721858978,
          0.4495128095149994,
          0.44908231496810913,
          0.44866296648979187,
          0.44796064496040344,
          0.4472498595714569,
          0.4469810426235199,
          0.4465406537055969,
          0.44591614603996277,
          0.44556504487991333,
          0.4451529085636139,
          0.4449567198753357,
          0.44480636715888977,
          0.4439828395843506,
          0.4431275725364685,
          0.44341740012168884,
          0.4427114725112915,
          0.4424434006214142,
          0.44230711460113525,
          0.44176027178764343,
          0.44174233078956604,
          0.4417617619037628,
          0.44200196862220764,
          0.44100069999694824,
          0.4407915472984314,
          0.4408695697784424,
          0.4401037395000458,
          0.43981432914733887,
          0.4393325448036194,
          0.4394165277481079,
          0.43939051032066345,
          0.43935322761535645,
          0.43887969851493835,
          0.438589870929718,
          0.4383283853530884,
          0.43845734000205994,
          0.4380558133125305,
          0.4376331865787506,
          0.4378964900970459,
          0.43766871094703674,
          0.43751853704452515,
          0.4372852146625519,
          0.43718060851097107,
          0.4369552433490753,
          0.43658676743507385,
          0.4364605247974396,
          0.43637263774871826,
          0.4360101819038391,
          0.4361390173435211,
          0.43602487444877625,
          0.4361670911312103,
          0.4359634816646576,
          0.4357912838459015,
          0.43523725867271423,
          0.43531373143196106,
          0.43524202704429626,
          0.435429185628891,
          0.4350372850894928,
          0.43489018082618713,
          0.4348333775997162,
          0.43512266874313354,
          0.43451470136642456,
          0.4345444142818451,
          0.43416929244995117,
          0.43422433733940125,
          0.434238076210022,
          0.43394190073013306,
          0.43400466442108154,
          0.4338470697402954,
          0.4338914453983307,
          0.4339182376861572,
          0.4340687692165375,
          0.4340232312679291,
          0.4334845542907715,
          0.4333185851573944,
          0.43345800042152405,
          0.43362531065940857,
          0.4335232079029083,
          0.4335273206233978,
          0.43308478593826294,
          0.43302735686302185,
          0.43268051743507385,
          0.4326964020729065,
          0.43308454751968384,
          0.433098703622818,
          0.43223336338996887,
          0.43249019980430603,
          0.4324641525745392,
          0.4324011504650116,
          0.43221643567085266,
          0.432374507188797,
          0.4321746528148651,
          0.4320707619190216,
          0.4320337772369385,
          0.43189725279808044,
          0.43188735842704773,
          0.43245556950569153,
          0.43229910731315613,
          0.4318832755088806,
          0.4315928816795349,
          0.43155398964881897,
          0.43159064650535583,
          0.43145889043807983,
          0.43140241503715515,
          0.431354284286499,
          0.43134215474128723,
          0.43117088079452515,
          0.43104663491249084,
          0.4311233460903168,
          0.43143707513809204,
          0.43136852979660034,
          0.4310102164745331,
          0.4311531186103821,
          0.4310757517814636,
          0.43119537830352783,
          0.43095648288726807,
          0.4308953285217285,
          0.4308869540691376,
          0.4312002658843994,
          0.43072813749313354,
          0.4305998384952545,
          0.43036025762557983,
          0.43059292435646057,
          0.43067169189453125,
          0.4303867220878601,
          0.43089136481285095,
          0.43071410059928894,
          0.4304542541503906,
          0.43047934770584106,
          0.430357962846756,
          0.430316686630249,
          0.43028494715690613,
          0.430480420589447,
          0.4306086599826813,
          0.43011969327926636,
          0.43008285760879517,
          0.4300323724746704,
          0.4302663207054138,
          0.4301052391529083,
          0.43013250827789307,
          0.4299317002296448,
          0.43003877997398376,
          0.43000489473342896,
          0.4301088750362396,
          0.43013182282447815,
          0.4298633635044098,
          0.42984268069267273,
          0.4298399090766907,
          0.429691880941391,
          0.42979130148887634,
          0.4297546148300171,
          0.4296329915523529,
          0.42951270937919617,
          0.4295845031738281,
          0.4297648072242737,
          0.42964398860931396,
          0.4293740689754486,
          0.42932379245758057,
          0.4293324947357178,
          0.42924293875694275,
          0.4295428693294525,
          0.4292740225791931,
          0.42928218841552734,
          0.42946505546569824,
          0.4292750060558319,
          0.42921239137649536,
          0.4291727542877197,
          0.4292425811290741,
          0.4295181930065155,
          0.42951107025146484,
          0.42922666668891907,
          0.42901888489723206,
          0.4291086792945862,
          0.42912742495536804,
          0.42937949299812317,
          0.42915451526641846,
          0.4291404187679291,
          0.4289451837539673,
          0.42906737327575684,
          0.42889317870140076,
          0.4293368458747864,
          0.42917904257774353,
          0.4289461076259613,
          0.42885908484458923,
          0.42886075377464294,
          0.429133802652359,
          0.4288182854652405,
          0.4288578927516937,
          0.4288804233074188,
          0.4287654459476471,
          0.428816020488739,
          0.42894119024276733,
          0.42901507019996643,
          0.42893269658088684,
          0.4290180206298828,
          0.42901498079299927,
          0.4291170835494995,
          0.4288916289806366,
          0.4286998510360718,
          0.42893847823143005,
          0.4287570118904114,
          0.4287601113319397,
          0.42879346013069153,
          0.42888331413269043,
          0.42874807119369507,
          0.4287033677101135,
          0.4286627173423767,
          0.42870691418647766,
          0.42873722314834595,
          0.4286116659641266,
          0.4285753071308136,
          0.4285488724708557,
          0.42855003476142883,
          0.4285271465778351,
          0.42858782410621643,
          0.42853042483329773,
          0.42889025807380676,
          0.42874813079833984,
          0.42857688665390015,
          0.42857447266578674,
          0.4285212457180023,
          0.42870211601257324,
          0.42851802706718445,
          0.42840155959129333,
          0.4284680485725403,
          0.4285336136817932,
          0.4284211993217468,
          0.42835354804992676,
          0.42849406599998474,
          0.42838653922080994,
          0.4284482002258301,
          0.4285285472869873,
          0.42836588621139526,
          0.4283933937549591,
          0.42842304706573486,
          0.4284871518611908,
          0.4283415675163269,
          0.4284105896949768,
          0.428450345993042,
          0.42839398980140686,
          0.42844468355178833,
          0.42830613255500793,
          0.4283386468887329,
          0.42833811044692993,
          0.42842528223991394,
          0.4281972348690033,
          0.4281967580318451,
          0.42830267548561096,
          0.4284459352493286,
          0.42844364047050476,
          0.4282274544239044,
          0.42844459414482117,
          0.4283848702907562,
          0.42825978994369507,
          0.428466796875,
          0.42819276452064514,
          0.4282659888267517,
          0.4283636510372162,
          0.4284343421459198,
          0.4281306862831116,
          0.42816784977912903,
          0.42822784185409546,
          0.42838335037231445,
          0.428180456161499,
          0.42819762229919434,
          0.4280937612056732,
          0.4281476140022278,
          0.42811769247055054,
          0.4280751049518585,
          0.4282926321029663,
          0.42816275358200073,
          0.4281409978866577,
          0.428112655878067,
          0.42816534638404846,
          0.42804479598999023,
          0.42808863520622253,
          0.42811810970306396,
          0.4283686578273773,
          0.4283769428730011,
          0.42843541502952576,
          0.42811062932014465,
          0.42802694439888,
          0.42808833718299866,
          0.42792195081710815,
          0.4280520975589752,
          0.4280436933040619,
          0.4280860722064972,
          0.428080677986145,
          0.4279730021953583,
          0.4279167652130127,
          0.42803946137428284,
          0.42802441120147705,
          0.427974134683609,
          0.4280199408531189,
          0.42796099185943604,
          0.42805787920951843,
          0.42813265323638916,
          0.42801353335380554,
          0.4279782772064209,
          0.42804256081581116,
          0.42797139286994934,
          0.42801034450531006,
          0.42810380458831787,
          0.42792919278144836,
          0.4281565248966217,
          0.4281580448150635,
          0.4280666708946228,
          0.42794203758239746,
          0.42792052030563354,
          0.42789414525032043,
          0.4280751049518585,
          0.4279986321926117,
          0.4279700517654419,
          0.42800143361091614,
          0.4280072748661041,
          0.42804592847824097,
          0.427873820066452,
          0.427910178899765,
          0.42801710963249207,
          0.42797112464904785,
          0.42779281735420227,
          0.4278815984725952,
          0.427962988615036,
          0.42800062894821167,
          0.4280402958393097,
          0.42806297540664673,
          0.4279802441596985,
          0.42782339453697205,
          0.42781350016593933,
          0.4279896020889282,
          0.4279129207134247,
          0.42791247367858887,
          0.4278046190738678,
          0.4279063642024994,
          0.42795202136039734,
          0.4279361963272095,
          0.4279349446296692,
          0.4279196560382843,
          0.4279616177082062,
          0.4278798997402191,
          0.4278121888637543,
          0.42793089151382446,
          0.42782920598983765,
          0.4277861416339874,
          0.42806166410446167,
          0.42798423767089844,
          0.42780882120132446,
          0.42786166071891785,
          0.4279400110244751,
          0.4279033839702606,
          0.4278219938278198,
          0.42782866954803467,
          0.42775312066078186,
          0.42775654792785645,
          0.4277600646018982,
          0.4278835356235504,
          0.42785370349884033,
          0.42786020040512085,
          0.4279656708240509,
          0.4279380142688751,
          0.4278397858142853,
          0.4278797507286072,
          0.42782461643218994,
          0.4277969002723694,
          0.4277976155281067,
          0.4277535378932953,
          0.427837073802948,
          0.4281872510910034,
          0.42793208360671997,
          0.42782753705978394,
          0.42775022983551025,
          0.4277500510215759,
          0.42787864804267883,
          0.4277663826942444,
          0.4277971684932709,
          0.4278058111667633,
          0.4277704656124115,
          0.42768722772598267,
          0.4277212917804718,
          0.42783722281455994,
          0.42784416675567627,
          0.4278443157672882,
          0.4278205633163452,
          0.4277000427246094,
          0.4277539849281311,
          0.4277592599391937,
          0.4277862310409546,
          0.4277397394180298,
          0.4277469217777252,
          0.42775145173072815,
          0.4277063012123108,
          0.42775267362594604,
          0.4277133047580719,
          0.42788925766944885,
          0.42779695987701416,
          0.4276987612247467,
          0.42774030566215515,
          0.4280545115470886,
          0.42781561613082886,
          0.4276728630065918,
          0.4277274012565613,
          0.42770496010780334,
          0.4278346598148346,
          0.4277868866920471,
          0.4277404546737671,
          0.4277699887752533,
          0.4277588129043579,
          0.427831768989563,
          0.4279128313064575,
          0.42775747179985046,
          0.4277442395687103,
          0.4277372658252716,
          0.4277096688747406,
          0.4277830421924591,
          0.4277322590351105,
          0.42764630913734436,
          0.42768824100494385,
          0.4276581406593323,
          0.4276915192604065,
          0.42773663997650146,
          0.42777296900749207,
          0.4276829659938812,
          0.4278792440891266,
          0.42773306369781494,
          0.42771878838539124,
          0.42775118350982666,
          0.4277084767818451,
          0.4278220534324646,
          0.4277563691139221,
          0.4276752173900604,
          0.427664190530777,
          0.4276584982872009,
          0.42768725752830505,
          0.42767420411109924,
          0.42768001556396484,
          0.4276483952999115,
          0.4276393949985504,
          0.42767319083213806,
          0.4275972545146942,
          0.4276679456233978,
          0.4277009069919586,
          0.42769432067871094,
          0.4276602566242218,
          0.42760321497917175,
          0.4275531768798828,
          0.4275622069835663,
          0.42762959003448486,
          0.4276835322380066,
          0.4277034401893616,
          0.4278150200843811,
          0.4276159703731537,
          0.42754825949668884,
          0.42768874764442444,
          0.4277670681476593,
          0.4277394711971283,
          0.42760369181632996,
          0.42763450741767883,
          0.42762550711631775,
          0.4276064932346344,
          0.4276757538318634,
          0.42762652039527893,
          0.42762577533721924,
          0.4276643693447113,
          0.427664190530777,
          0.4276518225669861,
          0.42764538526535034,
          0.4278566837310791,
          0.4277632236480713,
          0.4276793301105499,
          0.4276406168937683,
          0.4277224540710449,
          0.4276616871356964,
          0.4276890754699707,
          0.42764484882354736,
          0.4276008903980255,
          0.4276246130466461,
          0.4275493621826172,
          0.42764294147491455,
          0.42776358127593994,
          0.4277050495147705,
          0.427632212638855,
          0.42770034074783325,
          0.427631139755249,
          0.42763131856918335,
          0.4276637136936188,
          0.4275875389575958,
          0.42758965492248535,
          0.42762893438339233,
          0.4276543855667114,
          0.4276683032512665,
          0.4276994466781616,
          0.4276578426361084,
          0.4276473820209503,
          0.4275832176208496,
          0.42769718170166016,
          0.42773932218551636,
          0.4275722801685333,
          0.4275739789009094,
          0.4276740252971649,
          0.427708238363266,
          0.4275798499584198,
          0.42761915922164917
         ]
        },
        {
         "name": "combined_nn_val-loss",
         "type": "scatter",
         "y": [
          1.054840087890625,
          0.9084879755973816,
          0.8991800546646118,
          0.8060044646263123,
          0.7928359508514404,
          0.7435682415962219,
          0.7505021691322327,
          0.7014381289482117,
          0.6638869047164917,
          0.6198663711547852,
          0.6244909763336182,
          0.5888899564743042,
          0.620658278465271,
          0.5692762136459351,
          0.5561590194702148,
          0.5425952076911926,
          0.5594090819358826,
          0.5603686571121216,
          0.5334163308143616,
          0.5329998731613159,
          0.5327154397964478,
          0.5150023698806763,
          0.5243076682090759,
          0.524246335029602,
          0.5188816785812378,
          0.5268042683601379,
          0.5193902254104614,
          0.5300762057304382,
          0.5212634205818176,
          0.5138959884643555,
          0.5181912779808044,
          0.5081735849380493,
          0.5105512142181396,
          0.5070648789405823,
          0.5178847312927246,
          0.5112447142601013,
          0.5059348940849304,
          0.5000889897346497,
          0.5092032551765442,
          0.5232893228530884,
          0.4994804859161377,
          0.5098577737808228,
          0.5105064511299133,
          0.5132556557655334,
          0.5001007318496704,
          0.5109822154045105,
          0.5194940567016602,
          0.5027755498886108,
          0.5041343569755554,
          0.5138918161392212,
          0.5065979361534119,
          0.5052237510681152,
          0.5030902624130249,
          0.5025405883789062,
          0.5108020901679993,
          0.5072417855262756,
          0.5043683648109436,
          0.49761468172073364,
          0.49935588240623474,
          0.5031591057777405,
          0.5026775598526001,
          0.4944669306278229,
          0.4985942542552948,
          0.4943934977054596,
          0.4931471645832062,
          0.4934062063694,
          0.4941782057285309,
          0.4985716938972473,
          0.5021679997444153,
          0.4926118850708008,
          0.48918184638023376,
          0.5029083490371704,
          0.49403226375579834,
          0.5006582140922546,
          0.4951072335243225,
          0.49151816964149475,
          0.49559837579727173,
          0.49000808596611023,
          0.4976741075515747,
          0.49393168091773987,
          0.5043905377388,
          0.49600470066070557,
          0.48957836627960205,
          0.4991331696510315,
          0.4938284158706665,
          0.4948728382587433,
          0.48741939663887024,
          0.485785573720932,
          0.4879501461982727,
          0.49554604291915894,
          0.49295103549957275,
          0.4947212338447571,
          0.4939644932746887,
          0.5045944452285767,
          0.48968255519866943,
          0.4861520528793335,
          0.4849143326282501,
          0.49128925800323486,
          0.49021095037460327,
          0.4861157536506653,
          0.48674049973487854,
          0.49524328112602234,
          0.491110622882843,
          0.4950433671474457,
          0.48286423087120056,
          0.4869851768016815,
          0.4848482608795166,
          0.48595505952835083,
          0.4877847731113434,
          0.4915587604045868,
          0.4937630891799927,
          0.49195989966392517,
          0.48631489276885986,
          0.48781707882881165,
          0.48821383714675903,
          0.4912244379520416,
          0.48233166337013245,
          0.481586754322052,
          0.47968700528144836,
          0.4858332574367523,
          0.48907607793807983,
          0.48250624537467957,
          0.4818575978279114,
          0.4838683605194092,
          0.4793882668018341,
          0.47900712490081787,
          0.4794829785823822,
          0.4781912863254547,
          0.4800874888896942,
          0.4860157072544098,
          0.4823196828365326,
          0.4828685224056244,
          0.48321232199668884,
          0.4767102301120758,
          0.47725045680999756,
          0.47996407747268677,
          0.484270304441452,
          0.47824639081954956,
          0.4814668595790863,
          0.47612616419792175,
          0.48794713616371155,
          0.48129743337631226,
          0.48421353101730347,
          0.4741487503051758,
          0.4816143214702606,
          0.4869091510772705,
          0.48280617594718933,
          0.47671136260032654,
          0.482382208108902,
          0.4839170575141907,
          0.48317715525627136,
          0.47908011078834534,
          0.47203385829925537,
          0.4790434241294861,
          0.48095211386680603,
          0.4723623991012573,
          0.48116353154182434,
          0.480007141828537,
          0.47085055708885193,
          0.4761239290237427,
          0.48746395111083984,
          0.4774650037288666,
          0.4760619103908539,
          0.4698067009449005,
          0.47230246663093567,
          0.4752991497516632,
          0.48389220237731934,
          0.4797028601169586,
          0.4731287956237793,
          0.4758891463279724,
          0.4824448227882385,
          0.4836028814315796,
          0.4794156849384308,
          0.4777045249938965,
          0.4800303280353546,
          0.4843560755252838,
          0.47502681612968445,
          0.4740385115146637,
          0.4745628237724304,
          0.4772949516773224,
          0.46739283204078674,
          0.47863665223121643,
          0.4775598347187042,
          0.4775944948196411,
          0.4815225899219513,
          0.4719711244106293,
          0.47516676783561707,
          0.47318169474601746,
          0.4747827351093292,
          0.47780290246009827,
          0.46853139996528625,
          0.47877198457717896,
          0.48106467723846436,
          0.4711468815803528,
          0.46824851632118225,
          0.47115856409072876,
          0.47200608253479004,
          0.47509434819221497,
          0.4702315628528595,
          0.4770185947418213,
          0.4743148982524872,
          0.47294071316719055,
          0.47747018933296204,
          0.4796835482120514,
          0.4846588373184204,
          0.4791784882545471,
          0.4725115895271301,
          0.472463458776474,
          0.4745880365371704,
          0.4745696485042572,
          0.4816562831401825,
          0.47602972388267517,
          0.47556272149086,
          0.4783450961112976,
          0.4730657637119293,
          0.47240856289863586,
          0.46928870677948,
          0.47147703170776367,
          0.470938503742218,
          0.469603031873703,
          0.4725622832775116,
          0.47369638085365295,
          0.4797254800796509,
          0.4706862270832062,
          0.47365012764930725,
          0.4754163324832916,
          0.4704710841178894,
          0.46724772453308105,
          0.46936744451522827,
          0.4749539792537689,
          0.4707655608654022,
          0.467194527387619,
          0.4694766402244568,
          0.46222326159477234,
          0.46872806549072266,
          0.46863284707069397,
          0.46352237462997437,
          0.4735032021999359,
          0.4710775911808014,
          0.4712162911891937,
          0.47108468413352966,
          0.47172823548316956,
          0.466556578874588,
          0.4710124433040619,
          0.47100791335105896,
          0.4621330201625824,
          0.4716518819332123,
          0.4628596007823944,
          0.47016027569770813,
          0.46864333748817444,
          0.4692215025424957,
          0.46894603967666626,
          0.4741572439670563,
          0.46498116850852966,
          0.46887892484664917,
          0.4679489731788635,
          0.4746257960796356,
          0.47396987676620483,
          0.4736841917037964,
          0.46302691102027893,
          0.46502354741096497,
          0.4650688171386719,
          0.464727520942688,
          0.46852540969848633,
          0.46302855014801025,
          0.46999356150627136,
          0.46777063608169556,
          0.47109586000442505,
          0.4694351255893707,
          0.4668382704257965,
          0.4690206050872803,
          0.46591100096702576,
          0.47124865651130676,
          0.4694625437259674,
          0.4721691310405731,
          0.4673614203929901,
          0.46646276116371155,
          0.4690941572189331,
          0.46407511830329895,
          0.47468793392181396,
          0.4675464928150177,
          0.47107458114624023,
          0.46559274196624756,
          0.4677925407886505,
          0.4641566872596741,
          0.4676532447338104,
          0.47165557742118835,
          0.46784743666648865,
          0.46916231513023376,
          0.4779001474380493,
          0.46872276067733765,
          0.46317556500434875,
          0.4661361873149872,
          0.46659722924232483,
          0.46748095750808716,
          0.46191224455833435,
          0.47085410356521606,
          0.46187251806259155,
          0.46007150411605835,
          0.469279021024704,
          0.4672783315181732,
          0.46226605772972107,
          0.4619770050048828,
          0.4664382040500641,
          0.4612720310688019,
          0.4601755738258362,
          0.45977169275283813,
          0.4614819586277008,
          0.4581398367881775,
          0.46223312616348267,
          0.457630455493927,
          0.4632423520088196,
          0.4643131196498871,
          0.4615480899810791,
          0.4636695384979248,
          0.46310731768608093,
          0.4681409001350403,
          0.4595482051372528,
          0.4610687792301178,
          0.46654170751571655,
          0.4628530740737915,
          0.45606115460395813,
          0.45795854926109314,
          0.4587920606136322,
          0.4601439833641052,
          0.4626421332359314,
          0.4615051746368408,
          0.4662530720233917,
          0.46171295642852783,
          0.4596293568611145,
          0.45945748686790466,
          0.4592234492301941,
          0.46501365303993225,
          0.45775702595710754,
          0.46082833409309387,
          0.45746761560440063,
          0.46354877948760986,
          0.45514652132987976,
          0.4625738263130188,
          0.45954611897468567,
          0.464036762714386,
          0.4609244167804718,
          0.4609356224536896,
          0.46069467067718506,
          0.45835286378860474,
          0.45316705107688904,
          0.4602360725402832,
          0.4630833566188812,
          0.46252405643463135,
          0.46003326773643494,
          0.45879071950912476,
          0.4580026865005493,
          0.46670323610305786,
          0.46907997131347656,
          0.4537128508090973,
          0.45879364013671875,
          0.4644577205181122,
          0.4595026969909668,
          0.45732706785202026,
          0.46292662620544434,
          0.45941466093063354,
          0.46490052342414856,
          0.4598918855190277,
          0.4582757353782654,
          0.4589185118675232,
          0.4507521688938141,
          0.4570389688014984,
          0.46339112520217896,
          0.4600430428981781,
          0.45617592334747314,
          0.4628017544746399,
          0.4583466947078705,
          0.46166765689849854,
          0.4580667018890381,
          0.45783481001853943,
          0.46227675676345825,
          0.4630524814128876,
          0.4567185342311859,
          0.4550183415412903,
          0.4546990692615509,
          0.4543822407722473,
          0.4543469548225403,
          0.45550230145454407,
          0.45282864570617676,
          0.45601534843444824,
          0.4595484733581543,
          0.4496496021747589,
          0.4562065601348877,
          0.45637860894203186,
          0.4580027759075165,
          0.4501277506351471,
          0.4598296582698822,
          0.45563334226608276,
          0.4530816972255707,
          0.45807528495788574,
          0.4562247395515442,
          0.45390522480010986,
          0.45956873893737793,
          0.45833995938301086,
          0.45380231738090515,
          0.45160117745399475,
          0.4602982997894287,
          0.4592065215110779,
          0.45661109685897827,
          0.4530385732650757,
          0.45589402318000793,
          0.4577822685241699,
          0.45596757531166077,
          0.44784054160118103,
          0.4516049921512604,
          0.45450106263160706,
          0.45400840044021606,
          0.45253050327301025,
          0.45059123635292053,
          0.45515894889831543,
          0.4487200379371643,
          0.4502995014190674,
          0.45564132928848267,
          0.4548434317111969,
          0.4534064829349518,
          0.4559059143066406,
          0.45227041840553284,
          0.4548564553260803,
          0.45264822244644165,
          0.4553655683994293,
          0.4538758397102356,
          0.4546467661857605,
          0.45522791147232056,
          0.45458391308784485,
          0.44971731305122375,
          0.4575808644294739,
          0.4552876651287079,
          0.4499088525772095,
          0.45489490032196045,
          0.4541861116886139,
          0.4497121274471283,
          0.4547710716724396,
          0.4553120732307434,
          0.4458054304122925,
          0.4499146044254303,
          0.4530196189880371,
          0.4554475247859955,
          0.4533984661102295,
          0.4548397362232208,
          0.4516507685184479,
          0.45561644434928894,
          0.4586922824382782,
          0.45141881704330444,
          0.44947555661201477,
          0.4540584087371826,
          0.4516024589538574,
          0.45452970266342163,
          0.44888630509376526,
          0.4508357048034668,
          0.4513779282569885,
          0.4505375027656555,
          0.44838622212409973,
          0.4560588300228119,
          0.4489322006702423,
          0.4491790235042572,
          0.4485757052898407,
          0.44967949390411377,
          0.45187273621559143,
          0.4521292448043823,
          0.4571162164211273,
          0.45252105593681335,
          0.4551253318786621,
          0.4481458067893982,
          0.44891348481178284,
          0.456447571516037,
          0.45092496275901794,
          0.44817325472831726,
          0.4477977752685547,
          0.45347991585731506,
          0.45577579736709595,
          0.45033636689186096,
          0.44989097118377686,
          0.4480867385864258,
          0.4517078995704651,
          0.45070338249206543,
          0.4526074528694153,
          0.448781281709671,
          0.448879212141037,
          0.4494686722755432,
          0.4488215148448944,
          0.4465210437774658,
          0.4482823610305786,
          0.4516831040382385,
          0.4522160291671753,
          0.4497494101524353,
          0.448640912771225,
          0.44884562492370605,
          0.44862574338912964,
          0.4459993541240692,
          0.4515203535556793,
          0.44741711020469666,
          0.44875600934028625,
          0.44864949584007263,
          0.45379266142845154,
          0.44719213247299194,
          0.44285866618156433,
          0.4515407085418701,
          0.45050913095474243,
          0.4500929117202759,
          0.45148351788520813,
          0.4466124475002289,
          0.44797393679618835,
          0.44537487626075745,
          0.4456218183040619,
          0.4532880187034607,
          0.44844546914100647,
          0.4462311863899231,
          0.4480290412902832,
          0.4496803879737854,
          0.4506675601005554,
          0.44921109080314636,
          0.4483356773853302,
          0.4481101930141449,
          0.44885432720184326,
          0.45050108432769775,
          0.44809383153915405,
          0.4451926648616791,
          0.4480625092983246,
          0.4484614431858063,
          0.4446246027946472,
          0.4456610381603241,
          0.44922441244125366,
          0.4437495470046997,
          0.44979387521743774,
          0.451221227645874,
          0.4475312829017639,
          0.446147084236145,
          0.44792044162750244,
          0.44797131419181824,
          0.44302159547805786,
          0.44437992572784424,
          0.4439724087715149,
          0.4491952061653137,
          0.44627684354782104,
          0.45144006609916687,
          0.4477093517780304,
          0.4467829167842865,
          0.44661521911621094,
          0.44526606798171997
         ]
        }
       ],
       "layout": {
        "template": {
         "data": {
          "bar": [
           {
            "error_x": {
             "color": "#2a3f5f"
            },
            "error_y": {
             "color": "#2a3f5f"
            },
            "marker": {
             "line": {
              "color": "#E5ECF6",
              "width": 0.5
             }
            },
            "type": "bar"
           }
          ],
          "barpolar": [
           {
            "marker": {
             "line": {
              "color": "#E5ECF6",
              "width": 0.5
             }
            },
            "type": "barpolar"
           }
          ],
          "carpet": [
           {
            "aaxis": {
             "endlinecolor": "#2a3f5f",
             "gridcolor": "white",
             "linecolor": "white",
             "minorgridcolor": "white",
             "startlinecolor": "#2a3f5f"
            },
            "baxis": {
             "endlinecolor": "#2a3f5f",
             "gridcolor": "white",
             "linecolor": "white",
             "minorgridcolor": "white",
             "startlinecolor": "#2a3f5f"
            },
            "type": "carpet"
           }
          ],
          "choropleth": [
           {
            "colorbar": {
             "outlinewidth": 0,
             "ticks": ""
            },
            "type": "choropleth"
           }
          ],
          "contour": [
           {
            "colorbar": {
             "outlinewidth": 0,
             "ticks": ""
            },
            "colorscale": [
             [
              0,
              "#0d0887"
             ],
             [
              0.1111111111111111,
              "#46039f"
             ],
             [
              0.2222222222222222,
              "#7201a8"
             ],
             [
              0.3333333333333333,
              "#9c179e"
             ],
             [
              0.4444444444444444,
              "#bd3786"
             ],
             [
              0.5555555555555556,
              "#d8576b"
             ],
             [
              0.6666666666666666,
              "#ed7953"
             ],
             [
              0.7777777777777778,
              "#fb9f3a"
             ],
             [
              0.8888888888888888,
              "#fdca26"
             ],
             [
              1,
              "#f0f921"
             ]
            ],
            "type": "contour"
           }
          ],
          "contourcarpet": [
           {
            "colorbar": {
             "outlinewidth": 0,
             "ticks": ""
            },
            "type": "contourcarpet"
           }
          ],
          "heatmap": [
           {
            "colorbar": {
             "outlinewidth": 0,
             "ticks": ""
            },
            "colorscale": [
             [
              0,
              "#0d0887"
             ],
             [
              0.1111111111111111,
              "#46039f"
             ],
             [
              0.2222222222222222,
              "#7201a8"
             ],
             [
              0.3333333333333333,
              "#9c179e"
             ],
             [
              0.4444444444444444,
              "#bd3786"
             ],
             [
              0.5555555555555556,
              "#d8576b"
             ],
             [
              0.6666666666666666,
              "#ed7953"
             ],
             [
              0.7777777777777778,
              "#fb9f3a"
             ],
             [
              0.8888888888888888,
              "#fdca26"
             ],
             [
              1,
              "#f0f921"
             ]
            ],
            "type": "heatmap"
           }
          ],
          "heatmapgl": [
           {
            "colorbar": {
             "outlinewidth": 0,
             "ticks": ""
            },
            "colorscale": [
             [
              0,
              "#0d0887"
             ],
             [
              0.1111111111111111,
              "#46039f"
             ],
             [
              0.2222222222222222,
              "#7201a8"
             ],
             [
              0.3333333333333333,
              "#9c179e"
             ],
             [
              0.4444444444444444,
              "#bd3786"
             ],
             [
              0.5555555555555556,
              "#d8576b"
             ],
             [
              0.6666666666666666,
              "#ed7953"
             ],
             [
              0.7777777777777778,
              "#fb9f3a"
             ],
             [
              0.8888888888888888,
              "#fdca26"
             ],
             [
              1,
              "#f0f921"
             ]
            ],
            "type": "heatmapgl"
           }
          ],
          "histogram": [
           {
            "marker": {
             "colorbar": {
              "outlinewidth": 0,
              "ticks": ""
             }
            },
            "type": "histogram"
           }
          ],
          "histogram2d": [
           {
            "colorbar": {
             "outlinewidth": 0,
             "ticks": ""
            },
            "colorscale": [
             [
              0,
              "#0d0887"
             ],
             [
              0.1111111111111111,
              "#46039f"
             ],
             [
              0.2222222222222222,
              "#7201a8"
             ],
             [
              0.3333333333333333,
              "#9c179e"
             ],
             [
              0.4444444444444444,
              "#bd3786"
             ],
             [
              0.5555555555555556,
              "#d8576b"
             ],
             [
              0.6666666666666666,
              "#ed7953"
             ],
             [
              0.7777777777777778,
              "#fb9f3a"
             ],
             [
              0.8888888888888888,
              "#fdca26"
             ],
             [
              1,
              "#f0f921"
             ]
            ],
            "type": "histogram2d"
           }
          ],
          "histogram2dcontour": [
           {
            "colorbar": {
             "outlinewidth": 0,
             "ticks": ""
            },
            "colorscale": [
             [
              0,
              "#0d0887"
             ],
             [
              0.1111111111111111,
              "#46039f"
             ],
             [
              0.2222222222222222,
              "#7201a8"
             ],
             [
              0.3333333333333333,
              "#9c179e"
             ],
             [
              0.4444444444444444,
              "#bd3786"
             ],
             [
              0.5555555555555556,
              "#d8576b"
             ],
             [
              0.6666666666666666,
              "#ed7953"
             ],
             [
              0.7777777777777778,
              "#fb9f3a"
             ],
             [
              0.8888888888888888,
              "#fdca26"
             ],
             [
              1,
              "#f0f921"
             ]
            ],
            "type": "histogram2dcontour"
           }
          ],
          "mesh3d": [
           {
            "colorbar": {
             "outlinewidth": 0,
             "ticks": ""
            },
            "type": "mesh3d"
           }
          ],
          "parcoords": [
           {
            "line": {
             "colorbar": {
              "outlinewidth": 0,
              "ticks": ""
             }
            },
            "type": "parcoords"
           }
          ],
          "pie": [
           {
            "automargin": true,
            "type": "pie"
           }
          ],
          "scatter": [
           {
            "marker": {
             "colorbar": {
              "outlinewidth": 0,
              "ticks": ""
             }
            },
            "type": "scatter"
           }
          ],
          "scatter3d": [
           {
            "line": {
             "colorbar": {
              "outlinewidth": 0,
              "ticks": ""
             }
            },
            "marker": {
             "colorbar": {
              "outlinewidth": 0,
              "ticks": ""
             }
            },
            "type": "scatter3d"
           }
          ],
          "scattercarpet": [
           {
            "marker": {
             "colorbar": {
              "outlinewidth": 0,
              "ticks": ""
             }
            },
            "type": "scattercarpet"
           }
          ],
          "scattergeo": [
           {
            "marker": {
             "colorbar": {
              "outlinewidth": 0,
              "ticks": ""
             }
            },
            "type": "scattergeo"
           }
          ],
          "scattergl": [
           {
            "marker": {
             "colorbar": {
              "outlinewidth": 0,
              "ticks": ""
             }
            },
            "type": "scattergl"
           }
          ],
          "scattermapbox": [
           {
            "marker": {
             "colorbar": {
              "outlinewidth": 0,
              "ticks": ""
             }
            },
            "type": "scattermapbox"
           }
          ],
          "scatterpolar": [
           {
            "marker": {
             "colorbar": {
              "outlinewidth": 0,
              "ticks": ""
             }
            },
            "type": "scatterpolar"
           }
          ],
          "scatterpolargl": [
           {
            "marker": {
             "colorbar": {
              "outlinewidth": 0,
              "ticks": ""
             }
            },
            "type": "scatterpolargl"
           }
          ],
          "scatterternary": [
           {
            "marker": {
             "colorbar": {
              "outlinewidth": 0,
              "ticks": ""
             }
            },
            "type": "scatterternary"
           }
          ],
          "surface": [
           {
            "colorbar": {
             "outlinewidth": 0,
             "ticks": ""
            },
            "colorscale": [
             [
              0,
              "#0d0887"
             ],
             [
              0.1111111111111111,
              "#46039f"
             ],
             [
              0.2222222222222222,
              "#7201a8"
             ],
             [
              0.3333333333333333,
              "#9c179e"
             ],
             [
              0.4444444444444444,
              "#bd3786"
             ],
             [
              0.5555555555555556,
              "#d8576b"
             ],
             [
              0.6666666666666666,
              "#ed7953"
             ],
             [
              0.7777777777777778,
              "#fb9f3a"
             ],
             [
              0.8888888888888888,
              "#fdca26"
             ],
             [
              1,
              "#f0f921"
             ]
            ],
            "type": "surface"
           }
          ],
          "table": [
           {
            "cells": {
             "fill": {
              "color": "#EBF0F8"
             },
             "line": {
              "color": "white"
             }
            },
            "header": {
             "fill": {
              "color": "#C8D4E3"
             },
             "line": {
              "color": "white"
             }
            },
            "type": "table"
           }
          ]
         },
         "layout": {
          "annotationdefaults": {
           "arrowcolor": "#2a3f5f",
           "arrowhead": 0,
           "arrowwidth": 1
          },
          "autotypenumbers": "strict",
          "coloraxis": {
           "colorbar": {
            "outlinewidth": 0,
            "ticks": ""
           }
          },
          "colorscale": {
           "diverging": [
            [
             0,
             "#8e0152"
            ],
            [
             0.1,
             "#c51b7d"
            ],
            [
             0.2,
             "#de77ae"
            ],
            [
             0.3,
             "#f1b6da"
            ],
            [
             0.4,
             "#fde0ef"
            ],
            [
             0.5,
             "#f7f7f7"
            ],
            [
             0.6,
             "#e6f5d0"
            ],
            [
             0.7,
             "#b8e186"
            ],
            [
             0.8,
             "#7fbc41"
            ],
            [
             0.9,
             "#4d9221"
            ],
            [
             1,
             "#276419"
            ]
           ],
           "sequential": [
            [
             0,
             "#0d0887"
            ],
            [
             0.1111111111111111,
             "#46039f"
            ],
            [
             0.2222222222222222,
             "#7201a8"
            ],
            [
             0.3333333333333333,
             "#9c179e"
            ],
            [
             0.4444444444444444,
             "#bd3786"
            ],
            [
             0.5555555555555556,
             "#d8576b"
            ],
            [
             0.6666666666666666,
             "#ed7953"
            ],
            [
             0.7777777777777778,
             "#fb9f3a"
            ],
            [
             0.8888888888888888,
             "#fdca26"
            ],
            [
             1,
             "#f0f921"
            ]
           ],
           "sequentialminus": [
            [
             0,
             "#0d0887"
            ],
            [
             0.1111111111111111,
             "#46039f"
            ],
            [
             0.2222222222222222,
             "#7201a8"
            ],
            [
             0.3333333333333333,
             "#9c179e"
            ],
            [
             0.4444444444444444,
             "#bd3786"
            ],
            [
             0.5555555555555556,
             "#d8576b"
            ],
            [
             0.6666666666666666,
             "#ed7953"
            ],
            [
             0.7777777777777778,
             "#fb9f3a"
            ],
            [
             0.8888888888888888,
             "#fdca26"
            ],
            [
             1,
             "#f0f921"
            ]
           ]
          },
          "colorway": [
           "#636efa",
           "#EF553B",
           "#00cc96",
           "#ab63fa",
           "#FFA15A",
           "#19d3f3",
           "#FF6692",
           "#B6E880",
           "#FF97FF",
           "#FECB52"
          ],
          "font": {
           "color": "#2a3f5f"
          },
          "geo": {
           "bgcolor": "white",
           "lakecolor": "white",
           "landcolor": "#E5ECF6",
           "showlakes": true,
           "showland": true,
           "subunitcolor": "white"
          },
          "hoverlabel": {
           "align": "left"
          },
          "hovermode": "closest",
          "mapbox": {
           "style": "light"
          },
          "paper_bgcolor": "white",
          "plot_bgcolor": "#E5ECF6",
          "polar": {
           "angularaxis": {
            "gridcolor": "white",
            "linecolor": "white",
            "ticks": ""
           },
           "bgcolor": "#E5ECF6",
           "radialaxis": {
            "gridcolor": "white",
            "linecolor": "white",
            "ticks": ""
           }
          },
          "scene": {
           "xaxis": {
            "backgroundcolor": "#E5ECF6",
            "gridcolor": "white",
            "gridwidth": 2,
            "linecolor": "white",
            "showbackground": true,
            "ticks": "",
            "zerolinecolor": "white"
           },
           "yaxis": {
            "backgroundcolor": "#E5ECF6",
            "gridcolor": "white",
            "gridwidth": 2,
            "linecolor": "white",
            "showbackground": true,
            "ticks": "",
            "zerolinecolor": "white"
           },
           "zaxis": {
            "backgroundcolor": "#E5ECF6",
            "gridcolor": "white",
            "gridwidth": 2,
            "linecolor": "white",
            "showbackground": true,
            "ticks": "",
            "zerolinecolor": "white"
           }
          },
          "shapedefaults": {
           "line": {
            "color": "#2a3f5f"
           }
          },
          "ternary": {
           "aaxis": {
            "gridcolor": "white",
            "linecolor": "white",
            "ticks": ""
           },
           "baxis": {
            "gridcolor": "white",
            "linecolor": "white",
            "ticks": ""
           },
           "bgcolor": "#E5ECF6",
           "caxis": {
            "gridcolor": "white",
            "linecolor": "white",
            "ticks": ""
           }
          },
          "title": {
           "x": 0.05
          },
          "xaxis": {
           "automargin": true,
           "gridcolor": "white",
           "linecolor": "white",
           "ticks": "",
           "title": {
            "standoff": 15
           },
           "zerolinecolor": "white",
           "zerolinewidth": 2
          },
          "yaxis": {
           "automargin": true,
           "gridcolor": "white",
           "linecolor": "white",
           "ticks": "",
           "title": {
            "standoff": 15
           },
           "zerolinecolor": "white",
           "zerolinewidth": 2
          }
         }
        }
       }
      },
      "text/html": [
       "<div>                            <div id=\"535925f4-b9a0-4e1d-a127-aec2a6a10ea0\" class=\"plotly-graph-div\" style=\"height:525px; width:100%;\"></div>            <script type=\"text/javascript\">                require([\"plotly\"], function(Plotly) {                    window.PLOTLYENV=window.PLOTLYENV || {};                                    if (document.getElementById(\"535925f4-b9a0-4e1d-a127-aec2a6a10ea0\")) {                    Plotly.newPlot(                        \"535925f4-b9a0-4e1d-a127-aec2a6a10ea0\",                        [{\"name\": \"combined_nn_train-loss\", \"type\": \"scatter\", \"y\": [1.1232267618179321, 0.7365588545799255, 0.6751056909561157, 0.6408165097236633, 0.6151019334793091, 0.5948612093925476, 0.5779068470001221, 0.563148558139801, 0.5507257580757141, 0.5406332612037659, 0.5308771729469299, 0.5232927799224854, 0.5169821381568909, 0.5108899474143982, 0.5052607655525208, 0.499520868062973, 0.49538642168045044, 0.49092748761177063, 0.487679123878479, 0.48427531123161316, 0.4814632833003998, 0.4780537784099579, 0.47620564699172974, 0.47324955463409424, 0.47095349431037903, 0.4691144824028015, 0.4675038158893585, 0.4653388261795044, 0.4639164209365845, 0.4622131288051605, 0.461178183555603, 0.46008867025375366, 0.45850908756256104, 0.4574562609195709, 0.4565456807613373, 0.4566609859466553, 0.4558038115501404, 0.4538978040218353, 0.4536341726779938, 0.4527024030685425, 0.45172634720802307, 0.45045730471611023, 0.4497626721858978, 0.4495128095149994, 0.44908231496810913, 0.44866296648979187, 0.44796064496040344, 0.4472498595714569, 0.4469810426235199, 0.4465406537055969, 0.44591614603996277, 0.44556504487991333, 0.4451529085636139, 0.4449567198753357, 0.44480636715888977, 0.4439828395843506, 0.4431275725364685, 0.44341740012168884, 0.4427114725112915, 0.4424434006214142, 0.44230711460113525, 0.44176027178764343, 0.44174233078956604, 0.4417617619037628, 0.44200196862220764, 0.44100069999694824, 0.4407915472984314, 0.4408695697784424, 0.4401037395000458, 0.43981432914733887, 0.4393325448036194, 0.4394165277481079, 0.43939051032066345, 0.43935322761535645, 0.43887969851493835, 0.438589870929718, 0.4383283853530884, 0.43845734000205994, 0.4380558133125305, 0.4376331865787506, 0.4378964900970459, 0.43766871094703674, 0.43751853704452515, 0.4372852146625519, 0.43718060851097107, 0.4369552433490753, 0.43658676743507385, 0.4364605247974396, 0.43637263774871826, 0.4360101819038391, 0.4361390173435211, 0.43602487444877625, 0.4361670911312103, 0.4359634816646576, 0.4357912838459015, 0.43523725867271423, 0.43531373143196106, 0.43524202704429626, 0.435429185628891, 0.4350372850894928, 0.43489018082618713, 0.4348333775997162, 0.43512266874313354, 0.43451470136642456, 0.4345444142818451, 0.43416929244995117, 0.43422433733940125, 0.434238076210022, 0.43394190073013306, 0.43400466442108154, 0.4338470697402954, 0.4338914453983307, 0.4339182376861572, 0.4340687692165375, 0.4340232312679291, 0.4334845542907715, 0.4333185851573944, 0.43345800042152405, 0.43362531065940857, 0.4335232079029083, 0.4335273206233978, 0.43308478593826294, 0.43302735686302185, 0.43268051743507385, 0.4326964020729065, 0.43308454751968384, 0.433098703622818, 0.43223336338996887, 0.43249019980430603, 0.4324641525745392, 0.4324011504650116, 0.43221643567085266, 0.432374507188797, 0.4321746528148651, 0.4320707619190216, 0.4320337772369385, 0.43189725279808044, 0.43188735842704773, 0.43245556950569153, 0.43229910731315613, 0.4318832755088806, 0.4315928816795349, 0.43155398964881897, 0.43159064650535583, 0.43145889043807983, 0.43140241503715515, 0.431354284286499, 0.43134215474128723, 0.43117088079452515, 0.43104663491249084, 0.4311233460903168, 0.43143707513809204, 0.43136852979660034, 0.4310102164745331, 0.4311531186103821, 0.4310757517814636, 0.43119537830352783, 0.43095648288726807, 0.4308953285217285, 0.4308869540691376, 0.4312002658843994, 0.43072813749313354, 0.4305998384952545, 0.43036025762557983, 0.43059292435646057, 0.43067169189453125, 0.4303867220878601, 0.43089136481285095, 0.43071410059928894, 0.4304542541503906, 0.43047934770584106, 0.430357962846756, 0.430316686630249, 0.43028494715690613, 0.430480420589447, 0.4306086599826813, 0.43011969327926636, 0.43008285760879517, 0.4300323724746704, 0.4302663207054138, 0.4301052391529083, 0.43013250827789307, 0.4299317002296448, 0.43003877997398376, 0.43000489473342896, 0.4301088750362396, 0.43013182282447815, 0.4298633635044098, 0.42984268069267273, 0.4298399090766907, 0.429691880941391, 0.42979130148887634, 0.4297546148300171, 0.4296329915523529, 0.42951270937919617, 0.4295845031738281, 0.4297648072242737, 0.42964398860931396, 0.4293740689754486, 0.42932379245758057, 0.4293324947357178, 0.42924293875694275, 0.4295428693294525, 0.4292740225791931, 0.42928218841552734, 0.42946505546569824, 0.4292750060558319, 0.42921239137649536, 0.4291727542877197, 0.4292425811290741, 0.4295181930065155, 0.42951107025146484, 0.42922666668891907, 0.42901888489723206, 0.4291086792945862, 0.42912742495536804, 0.42937949299812317, 0.42915451526641846, 0.4291404187679291, 0.4289451837539673, 0.42906737327575684, 0.42889317870140076, 0.4293368458747864, 0.42917904257774353, 0.4289461076259613, 0.42885908484458923, 0.42886075377464294, 0.429133802652359, 0.4288182854652405, 0.4288578927516937, 0.4288804233074188, 0.4287654459476471, 0.428816020488739, 0.42894119024276733, 0.42901507019996643, 0.42893269658088684, 0.4290180206298828, 0.42901498079299927, 0.4291170835494995, 0.4288916289806366, 0.4286998510360718, 0.42893847823143005, 0.4287570118904114, 0.4287601113319397, 0.42879346013069153, 0.42888331413269043, 0.42874807119369507, 0.4287033677101135, 0.4286627173423767, 0.42870691418647766, 0.42873722314834595, 0.4286116659641266, 0.4285753071308136, 0.4285488724708557, 0.42855003476142883, 0.4285271465778351, 0.42858782410621643, 0.42853042483329773, 0.42889025807380676, 0.42874813079833984, 0.42857688665390015, 0.42857447266578674, 0.4285212457180023, 0.42870211601257324, 0.42851802706718445, 0.42840155959129333, 0.4284680485725403, 0.4285336136817932, 0.4284211993217468, 0.42835354804992676, 0.42849406599998474, 0.42838653922080994, 0.4284482002258301, 0.4285285472869873, 0.42836588621139526, 0.4283933937549591, 0.42842304706573486, 0.4284871518611908, 0.4283415675163269, 0.4284105896949768, 0.428450345993042, 0.42839398980140686, 0.42844468355178833, 0.42830613255500793, 0.4283386468887329, 0.42833811044692993, 0.42842528223991394, 0.4281972348690033, 0.4281967580318451, 0.42830267548561096, 0.4284459352493286, 0.42844364047050476, 0.4282274544239044, 0.42844459414482117, 0.4283848702907562, 0.42825978994369507, 0.428466796875, 0.42819276452064514, 0.4282659888267517, 0.4283636510372162, 0.4284343421459198, 0.4281306862831116, 0.42816784977912903, 0.42822784185409546, 0.42838335037231445, 0.428180456161499, 0.42819762229919434, 0.4280937612056732, 0.4281476140022278, 0.42811769247055054, 0.4280751049518585, 0.4282926321029663, 0.42816275358200073, 0.4281409978866577, 0.428112655878067, 0.42816534638404846, 0.42804479598999023, 0.42808863520622253, 0.42811810970306396, 0.4283686578273773, 0.4283769428730011, 0.42843541502952576, 0.42811062932014465, 0.42802694439888, 0.42808833718299866, 0.42792195081710815, 0.4280520975589752, 0.4280436933040619, 0.4280860722064972, 0.428080677986145, 0.4279730021953583, 0.4279167652130127, 0.42803946137428284, 0.42802441120147705, 0.427974134683609, 0.4280199408531189, 0.42796099185943604, 0.42805787920951843, 0.42813265323638916, 0.42801353335380554, 0.4279782772064209, 0.42804256081581116, 0.42797139286994934, 0.42801034450531006, 0.42810380458831787, 0.42792919278144836, 0.4281565248966217, 0.4281580448150635, 0.4280666708946228, 0.42794203758239746, 0.42792052030563354, 0.42789414525032043, 0.4280751049518585, 0.4279986321926117, 0.4279700517654419, 0.42800143361091614, 0.4280072748661041, 0.42804592847824097, 0.427873820066452, 0.427910178899765, 0.42801710963249207, 0.42797112464904785, 0.42779281735420227, 0.4278815984725952, 0.427962988615036, 0.42800062894821167, 0.4280402958393097, 0.42806297540664673, 0.4279802441596985, 0.42782339453697205, 0.42781350016593933, 0.4279896020889282, 0.4279129207134247, 0.42791247367858887, 0.4278046190738678, 0.4279063642024994, 0.42795202136039734, 0.4279361963272095, 0.4279349446296692, 0.4279196560382843, 0.4279616177082062, 0.4278798997402191, 0.4278121888637543, 0.42793089151382446, 0.42782920598983765, 0.4277861416339874, 0.42806166410446167, 0.42798423767089844, 0.42780882120132446, 0.42786166071891785, 0.4279400110244751, 0.4279033839702606, 0.4278219938278198, 0.42782866954803467, 0.42775312066078186, 0.42775654792785645, 0.4277600646018982, 0.4278835356235504, 0.42785370349884033, 0.42786020040512085, 0.4279656708240509, 0.4279380142688751, 0.4278397858142853, 0.4278797507286072, 0.42782461643218994, 0.4277969002723694, 0.4277976155281067, 0.4277535378932953, 0.427837073802948, 0.4281872510910034, 0.42793208360671997, 0.42782753705978394, 0.42775022983551025, 0.4277500510215759, 0.42787864804267883, 0.4277663826942444, 0.4277971684932709, 0.4278058111667633, 0.4277704656124115, 0.42768722772598267, 0.4277212917804718, 0.42783722281455994, 0.42784416675567627, 0.4278443157672882, 0.4278205633163452, 0.4277000427246094, 0.4277539849281311, 0.4277592599391937, 0.4277862310409546, 0.4277397394180298, 0.4277469217777252, 0.42775145173072815, 0.4277063012123108, 0.42775267362594604, 0.4277133047580719, 0.42788925766944885, 0.42779695987701416, 0.4276987612247467, 0.42774030566215515, 0.4280545115470886, 0.42781561613082886, 0.4276728630065918, 0.4277274012565613, 0.42770496010780334, 0.4278346598148346, 0.4277868866920471, 0.4277404546737671, 0.4277699887752533, 0.4277588129043579, 0.427831768989563, 0.4279128313064575, 0.42775747179985046, 0.4277442395687103, 0.4277372658252716, 0.4277096688747406, 0.4277830421924591, 0.4277322590351105, 0.42764630913734436, 0.42768824100494385, 0.4276581406593323, 0.4276915192604065, 0.42773663997650146, 0.42777296900749207, 0.4276829659938812, 0.4278792440891266, 0.42773306369781494, 0.42771878838539124, 0.42775118350982666, 0.4277084767818451, 0.4278220534324646, 0.4277563691139221, 0.4276752173900604, 0.427664190530777, 0.4276584982872009, 0.42768725752830505, 0.42767420411109924, 0.42768001556396484, 0.4276483952999115, 0.4276393949985504, 0.42767319083213806, 0.4275972545146942, 0.4276679456233978, 0.4277009069919586, 0.42769432067871094, 0.4276602566242218, 0.42760321497917175, 0.4275531768798828, 0.4275622069835663, 0.42762959003448486, 0.4276835322380066, 0.4277034401893616, 0.4278150200843811, 0.4276159703731537, 0.42754825949668884, 0.42768874764442444, 0.4277670681476593, 0.4277394711971283, 0.42760369181632996, 0.42763450741767883, 0.42762550711631775, 0.4276064932346344, 0.4276757538318634, 0.42762652039527893, 0.42762577533721924, 0.4276643693447113, 0.427664190530777, 0.4276518225669861, 0.42764538526535034, 0.4278566837310791, 0.4277632236480713, 0.4276793301105499, 0.4276406168937683, 0.4277224540710449, 0.4276616871356964, 0.4276890754699707, 0.42764484882354736, 0.4276008903980255, 0.4276246130466461, 0.4275493621826172, 0.42764294147491455, 0.42776358127593994, 0.4277050495147705, 0.427632212638855, 0.42770034074783325, 0.427631139755249, 0.42763131856918335, 0.4276637136936188, 0.4275875389575958, 0.42758965492248535, 0.42762893438339233, 0.4276543855667114, 0.4276683032512665, 0.4276994466781616, 0.4276578426361084, 0.4276473820209503, 0.4275832176208496, 0.42769718170166016, 0.42773932218551636, 0.4275722801685333, 0.4275739789009094, 0.4276740252971649, 0.427708238363266, 0.4275798499584198, 0.42761915922164917]}, {\"name\": \"combined_nn_val-loss\", \"type\": \"scatter\", \"y\": [1.054840087890625, 0.9084879755973816, 0.8991800546646118, 0.8060044646263123, 0.7928359508514404, 0.7435682415962219, 0.7505021691322327, 0.7014381289482117, 0.6638869047164917, 0.6198663711547852, 0.6244909763336182, 0.5888899564743042, 0.620658278465271, 0.5692762136459351, 0.5561590194702148, 0.5425952076911926, 0.5594090819358826, 0.5603686571121216, 0.5334163308143616, 0.5329998731613159, 0.5327154397964478, 0.5150023698806763, 0.5243076682090759, 0.524246335029602, 0.5188816785812378, 0.5268042683601379, 0.5193902254104614, 0.5300762057304382, 0.5212634205818176, 0.5138959884643555, 0.5181912779808044, 0.5081735849380493, 0.5105512142181396, 0.5070648789405823, 0.5178847312927246, 0.5112447142601013, 0.5059348940849304, 0.5000889897346497, 0.5092032551765442, 0.5232893228530884, 0.4994804859161377, 0.5098577737808228, 0.5105064511299133, 0.5132556557655334, 0.5001007318496704, 0.5109822154045105, 0.5194940567016602, 0.5027755498886108, 0.5041343569755554, 0.5138918161392212, 0.5065979361534119, 0.5052237510681152, 0.5030902624130249, 0.5025405883789062, 0.5108020901679993, 0.5072417855262756, 0.5043683648109436, 0.49761468172073364, 0.49935588240623474, 0.5031591057777405, 0.5026775598526001, 0.4944669306278229, 0.4985942542552948, 0.4943934977054596, 0.4931471645832062, 0.4934062063694, 0.4941782057285309, 0.4985716938972473, 0.5021679997444153, 0.4926118850708008, 0.48918184638023376, 0.5029083490371704, 0.49403226375579834, 0.5006582140922546, 0.4951072335243225, 0.49151816964149475, 0.49559837579727173, 0.49000808596611023, 0.4976741075515747, 0.49393168091773987, 0.5043905377388, 0.49600470066070557, 0.48957836627960205, 0.4991331696510315, 0.4938284158706665, 0.4948728382587433, 0.48741939663887024, 0.485785573720932, 0.4879501461982727, 0.49554604291915894, 0.49295103549957275, 0.4947212338447571, 0.4939644932746887, 0.5045944452285767, 0.48968255519866943, 0.4861520528793335, 0.4849143326282501, 0.49128925800323486, 0.49021095037460327, 0.4861157536506653, 0.48674049973487854, 0.49524328112602234, 0.491110622882843, 0.4950433671474457, 0.48286423087120056, 0.4869851768016815, 0.4848482608795166, 0.48595505952835083, 0.4877847731113434, 0.4915587604045868, 0.4937630891799927, 0.49195989966392517, 0.48631489276885986, 0.48781707882881165, 0.48821383714675903, 0.4912244379520416, 0.48233166337013245, 0.481586754322052, 0.47968700528144836, 0.4858332574367523, 0.48907607793807983, 0.48250624537467957, 0.4818575978279114, 0.4838683605194092, 0.4793882668018341, 0.47900712490081787, 0.4794829785823822, 0.4781912863254547, 0.4800874888896942, 0.4860157072544098, 0.4823196828365326, 0.4828685224056244, 0.48321232199668884, 0.4767102301120758, 0.47725045680999756, 0.47996407747268677, 0.484270304441452, 0.47824639081954956, 0.4814668595790863, 0.47612616419792175, 0.48794713616371155, 0.48129743337631226, 0.48421353101730347, 0.4741487503051758, 0.4816143214702606, 0.4869091510772705, 0.48280617594718933, 0.47671136260032654, 0.482382208108902, 0.4839170575141907, 0.48317715525627136, 0.47908011078834534, 0.47203385829925537, 0.4790434241294861, 0.48095211386680603, 0.4723623991012573, 0.48116353154182434, 0.480007141828537, 0.47085055708885193, 0.4761239290237427, 0.48746395111083984, 0.4774650037288666, 0.4760619103908539, 0.4698067009449005, 0.47230246663093567, 0.4752991497516632, 0.48389220237731934, 0.4797028601169586, 0.4731287956237793, 0.4758891463279724, 0.4824448227882385, 0.4836028814315796, 0.4794156849384308, 0.4777045249938965, 0.4800303280353546, 0.4843560755252838, 0.47502681612968445, 0.4740385115146637, 0.4745628237724304, 0.4772949516773224, 0.46739283204078674, 0.47863665223121643, 0.4775598347187042, 0.4775944948196411, 0.4815225899219513, 0.4719711244106293, 0.47516676783561707, 0.47318169474601746, 0.4747827351093292, 0.47780290246009827, 0.46853139996528625, 0.47877198457717896, 0.48106467723846436, 0.4711468815803528, 0.46824851632118225, 0.47115856409072876, 0.47200608253479004, 0.47509434819221497, 0.4702315628528595, 0.4770185947418213, 0.4743148982524872, 0.47294071316719055, 0.47747018933296204, 0.4796835482120514, 0.4846588373184204, 0.4791784882545471, 0.4725115895271301, 0.472463458776474, 0.4745880365371704, 0.4745696485042572, 0.4816562831401825, 0.47602972388267517, 0.47556272149086, 0.4783450961112976, 0.4730657637119293, 0.47240856289863586, 0.46928870677948, 0.47147703170776367, 0.470938503742218, 0.469603031873703, 0.4725622832775116, 0.47369638085365295, 0.4797254800796509, 0.4706862270832062, 0.47365012764930725, 0.4754163324832916, 0.4704710841178894, 0.46724772453308105, 0.46936744451522827, 0.4749539792537689, 0.4707655608654022, 0.467194527387619, 0.4694766402244568, 0.46222326159477234, 0.46872806549072266, 0.46863284707069397, 0.46352237462997437, 0.4735032021999359, 0.4710775911808014, 0.4712162911891937, 0.47108468413352966, 0.47172823548316956, 0.466556578874588, 0.4710124433040619, 0.47100791335105896, 0.4621330201625824, 0.4716518819332123, 0.4628596007823944, 0.47016027569770813, 0.46864333748817444, 0.4692215025424957, 0.46894603967666626, 0.4741572439670563, 0.46498116850852966, 0.46887892484664917, 0.4679489731788635, 0.4746257960796356, 0.47396987676620483, 0.4736841917037964, 0.46302691102027893, 0.46502354741096497, 0.4650688171386719, 0.464727520942688, 0.46852540969848633, 0.46302855014801025, 0.46999356150627136, 0.46777063608169556, 0.47109586000442505, 0.4694351255893707, 0.4668382704257965, 0.4690206050872803, 0.46591100096702576, 0.47124865651130676, 0.4694625437259674, 0.4721691310405731, 0.4673614203929901, 0.46646276116371155, 0.4690941572189331, 0.46407511830329895, 0.47468793392181396, 0.4675464928150177, 0.47107458114624023, 0.46559274196624756, 0.4677925407886505, 0.4641566872596741, 0.4676532447338104, 0.47165557742118835, 0.46784743666648865, 0.46916231513023376, 0.4779001474380493, 0.46872276067733765, 0.46317556500434875, 0.4661361873149872, 0.46659722924232483, 0.46748095750808716, 0.46191224455833435, 0.47085410356521606, 0.46187251806259155, 0.46007150411605835, 0.469279021024704, 0.4672783315181732, 0.46226605772972107, 0.4619770050048828, 0.4664382040500641, 0.4612720310688019, 0.4601755738258362, 0.45977169275283813, 0.4614819586277008, 0.4581398367881775, 0.46223312616348267, 0.457630455493927, 0.4632423520088196, 0.4643131196498871, 0.4615480899810791, 0.4636695384979248, 0.46310731768608093, 0.4681409001350403, 0.4595482051372528, 0.4610687792301178, 0.46654170751571655, 0.4628530740737915, 0.45606115460395813, 0.45795854926109314, 0.4587920606136322, 0.4601439833641052, 0.4626421332359314, 0.4615051746368408, 0.4662530720233917, 0.46171295642852783, 0.4596293568611145, 0.45945748686790466, 0.4592234492301941, 0.46501365303993225, 0.45775702595710754, 0.46082833409309387, 0.45746761560440063, 0.46354877948760986, 0.45514652132987976, 0.4625738263130188, 0.45954611897468567, 0.464036762714386, 0.4609244167804718, 0.4609356224536896, 0.46069467067718506, 0.45835286378860474, 0.45316705107688904, 0.4602360725402832, 0.4630833566188812, 0.46252405643463135, 0.46003326773643494, 0.45879071950912476, 0.4580026865005493, 0.46670323610305786, 0.46907997131347656, 0.4537128508090973, 0.45879364013671875, 0.4644577205181122, 0.4595026969909668, 0.45732706785202026, 0.46292662620544434, 0.45941466093063354, 0.46490052342414856, 0.4598918855190277, 0.4582757353782654, 0.4589185118675232, 0.4507521688938141, 0.4570389688014984, 0.46339112520217896, 0.4600430428981781, 0.45617592334747314, 0.4628017544746399, 0.4583466947078705, 0.46166765689849854, 0.4580667018890381, 0.45783481001853943, 0.46227675676345825, 0.4630524814128876, 0.4567185342311859, 0.4550183415412903, 0.4546990692615509, 0.4543822407722473, 0.4543469548225403, 0.45550230145454407, 0.45282864570617676, 0.45601534843444824, 0.4595484733581543, 0.4496496021747589, 0.4562065601348877, 0.45637860894203186, 0.4580027759075165, 0.4501277506351471, 0.4598296582698822, 0.45563334226608276, 0.4530816972255707, 0.45807528495788574, 0.4562247395515442, 0.45390522480010986, 0.45956873893737793, 0.45833995938301086, 0.45380231738090515, 0.45160117745399475, 0.4602982997894287, 0.4592065215110779, 0.45661109685897827, 0.4530385732650757, 0.45589402318000793, 0.4577822685241699, 0.45596757531166077, 0.44784054160118103, 0.4516049921512604, 0.45450106263160706, 0.45400840044021606, 0.45253050327301025, 0.45059123635292053, 0.45515894889831543, 0.4487200379371643, 0.4502995014190674, 0.45564132928848267, 0.4548434317111969, 0.4534064829349518, 0.4559059143066406, 0.45227041840553284, 0.4548564553260803, 0.45264822244644165, 0.4553655683994293, 0.4538758397102356, 0.4546467661857605, 0.45522791147232056, 0.45458391308784485, 0.44971731305122375, 0.4575808644294739, 0.4552876651287079, 0.4499088525772095, 0.45489490032196045, 0.4541861116886139, 0.4497121274471283, 0.4547710716724396, 0.4553120732307434, 0.4458054304122925, 0.4499146044254303, 0.4530196189880371, 0.4554475247859955, 0.4533984661102295, 0.4548397362232208, 0.4516507685184479, 0.45561644434928894, 0.4586922824382782, 0.45141881704330444, 0.44947555661201477, 0.4540584087371826, 0.4516024589538574, 0.45452970266342163, 0.44888630509376526, 0.4508357048034668, 0.4513779282569885, 0.4505375027656555, 0.44838622212409973, 0.4560588300228119, 0.4489322006702423, 0.4491790235042572, 0.4485757052898407, 0.44967949390411377, 0.45187273621559143, 0.4521292448043823, 0.4571162164211273, 0.45252105593681335, 0.4551253318786621, 0.4481458067893982, 0.44891348481178284, 0.456447571516037, 0.45092496275901794, 0.44817325472831726, 0.4477977752685547, 0.45347991585731506, 0.45577579736709595, 0.45033636689186096, 0.44989097118377686, 0.4480867385864258, 0.4517078995704651, 0.45070338249206543, 0.4526074528694153, 0.448781281709671, 0.448879212141037, 0.4494686722755432, 0.4488215148448944, 0.4465210437774658, 0.4482823610305786, 0.4516831040382385, 0.4522160291671753, 0.4497494101524353, 0.448640912771225, 0.44884562492370605, 0.44862574338912964, 0.4459993541240692, 0.4515203535556793, 0.44741711020469666, 0.44875600934028625, 0.44864949584007263, 0.45379266142845154, 0.44719213247299194, 0.44285866618156433, 0.4515407085418701, 0.45050913095474243, 0.4500929117202759, 0.45148351788520813, 0.4466124475002289, 0.44797393679618835, 0.44537487626075745, 0.4456218183040619, 0.4532880187034607, 0.44844546914100647, 0.4462311863899231, 0.4480290412902832, 0.4496803879737854, 0.4506675601005554, 0.44921109080314636, 0.4483356773853302, 0.4481101930141449, 0.44885432720184326, 0.45050108432769775, 0.44809383153915405, 0.4451926648616791, 0.4480625092983246, 0.4484614431858063, 0.4446246027946472, 0.4456610381603241, 0.44922441244125366, 0.4437495470046997, 0.44979387521743774, 0.451221227645874, 0.4475312829017639, 0.446147084236145, 0.44792044162750244, 0.44797131419181824, 0.44302159547805786, 0.44437992572784424, 0.4439724087715149, 0.4491952061653137, 0.44627684354782104, 0.45144006609916687, 0.4477093517780304, 0.4467829167842865, 0.44661521911621094, 0.44526606798171997]}],                        {\"template\": {\"data\": {\"bar\": [{\"error_x\": {\"color\": \"#2a3f5f\"}, \"error_y\": {\"color\": \"#2a3f5f\"}, \"marker\": {\"line\": {\"color\": \"#E5ECF6\", \"width\": 0.5}}, \"type\": \"bar\"}], \"barpolar\": [{\"marker\": {\"line\": {\"color\": \"#E5ECF6\", \"width\": 0.5}}, \"type\": \"barpolar\"}], \"carpet\": [{\"aaxis\": {\"endlinecolor\": \"#2a3f5f\", \"gridcolor\": \"white\", \"linecolor\": \"white\", \"minorgridcolor\": \"white\", \"startlinecolor\": \"#2a3f5f\"}, \"baxis\": {\"endlinecolor\": \"#2a3f5f\", \"gridcolor\": \"white\", \"linecolor\": \"white\", \"minorgridcolor\": \"white\", \"startlinecolor\": \"#2a3f5f\"}, \"type\": \"carpet\"}], \"choropleth\": [{\"colorbar\": {\"outlinewidth\": 0, \"ticks\": \"\"}, \"type\": \"choropleth\"}], \"contour\": [{\"colorbar\": {\"outlinewidth\": 0, \"ticks\": \"\"}, \"colorscale\": [[0.0, \"#0d0887\"], [0.1111111111111111, \"#46039f\"], [0.2222222222222222, \"#7201a8\"], [0.3333333333333333, \"#9c179e\"], [0.4444444444444444, \"#bd3786\"], [0.5555555555555556, \"#d8576b\"], [0.6666666666666666, \"#ed7953\"], [0.7777777777777778, \"#fb9f3a\"], [0.8888888888888888, \"#fdca26\"], [1.0, \"#f0f921\"]], \"type\": \"contour\"}], \"contourcarpet\": [{\"colorbar\": {\"outlinewidth\": 0, \"ticks\": \"\"}, \"type\": \"contourcarpet\"}], \"heatmap\": [{\"colorbar\": {\"outlinewidth\": 0, \"ticks\": \"\"}, \"colorscale\": [[0.0, \"#0d0887\"], [0.1111111111111111, \"#46039f\"], [0.2222222222222222, \"#7201a8\"], [0.3333333333333333, \"#9c179e\"], [0.4444444444444444, \"#bd3786\"], [0.5555555555555556, \"#d8576b\"], [0.6666666666666666, \"#ed7953\"], [0.7777777777777778, \"#fb9f3a\"], [0.8888888888888888, \"#fdca26\"], [1.0, \"#f0f921\"]], \"type\": \"heatmap\"}], \"heatmapgl\": [{\"colorbar\": {\"outlinewidth\": 0, \"ticks\": \"\"}, \"colorscale\": [[0.0, \"#0d0887\"], [0.1111111111111111, \"#46039f\"], [0.2222222222222222, \"#7201a8\"], [0.3333333333333333, \"#9c179e\"], [0.4444444444444444, \"#bd3786\"], [0.5555555555555556, \"#d8576b\"], [0.6666666666666666, \"#ed7953\"], [0.7777777777777778, \"#fb9f3a\"], [0.8888888888888888, \"#fdca26\"], [1.0, \"#f0f921\"]], \"type\": \"heatmapgl\"}], \"histogram\": [{\"marker\": {\"colorbar\": {\"outlinewidth\": 0, \"ticks\": \"\"}}, \"type\": \"histogram\"}], \"histogram2d\": [{\"colorbar\": {\"outlinewidth\": 0, \"ticks\": \"\"}, \"colorscale\": [[0.0, \"#0d0887\"], [0.1111111111111111, \"#46039f\"], [0.2222222222222222, \"#7201a8\"], [0.3333333333333333, \"#9c179e\"], [0.4444444444444444, \"#bd3786\"], [0.5555555555555556, \"#d8576b\"], [0.6666666666666666, \"#ed7953\"], [0.7777777777777778, \"#fb9f3a\"], [0.8888888888888888, \"#fdca26\"], [1.0, \"#f0f921\"]], \"type\": \"histogram2d\"}], \"histogram2dcontour\": [{\"colorbar\": {\"outlinewidth\": 0, \"ticks\": \"\"}, \"colorscale\": [[0.0, \"#0d0887\"], [0.1111111111111111, \"#46039f\"], [0.2222222222222222, \"#7201a8\"], [0.3333333333333333, \"#9c179e\"], [0.4444444444444444, \"#bd3786\"], [0.5555555555555556, \"#d8576b\"], [0.6666666666666666, \"#ed7953\"], [0.7777777777777778, \"#fb9f3a\"], [0.8888888888888888, \"#fdca26\"], [1.0, \"#f0f921\"]], \"type\": \"histogram2dcontour\"}], \"mesh3d\": [{\"colorbar\": {\"outlinewidth\": 0, \"ticks\": \"\"}, \"type\": \"mesh3d\"}], \"parcoords\": [{\"line\": {\"colorbar\": {\"outlinewidth\": 0, \"ticks\": \"\"}}, \"type\": \"parcoords\"}], \"pie\": [{\"automargin\": true, \"type\": \"pie\"}], \"scatter\": [{\"marker\": {\"colorbar\": {\"outlinewidth\": 0, \"ticks\": \"\"}}, \"type\": \"scatter\"}], \"scatter3d\": [{\"line\": {\"colorbar\": {\"outlinewidth\": 0, \"ticks\": \"\"}}, \"marker\": {\"colorbar\": {\"outlinewidth\": 0, \"ticks\": \"\"}}, \"type\": \"scatter3d\"}], \"scattercarpet\": [{\"marker\": {\"colorbar\": {\"outlinewidth\": 0, \"ticks\": \"\"}}, \"type\": \"scattercarpet\"}], \"scattergeo\": [{\"marker\": {\"colorbar\": {\"outlinewidth\": 0, \"ticks\": \"\"}}, \"type\": \"scattergeo\"}], \"scattergl\": [{\"marker\": {\"colorbar\": {\"outlinewidth\": 0, \"ticks\": \"\"}}, \"type\": \"scattergl\"}], \"scattermapbox\": [{\"marker\": {\"colorbar\": {\"outlinewidth\": 0, \"ticks\": \"\"}}, \"type\": \"scattermapbox\"}], \"scatterpolar\": [{\"marker\": {\"colorbar\": {\"outlinewidth\": 0, \"ticks\": \"\"}}, \"type\": \"scatterpolar\"}], \"scatterpolargl\": [{\"marker\": {\"colorbar\": {\"outlinewidth\": 0, \"ticks\": \"\"}}, \"type\": \"scatterpolargl\"}], \"scatterternary\": [{\"marker\": {\"colorbar\": {\"outlinewidth\": 0, \"ticks\": \"\"}}, \"type\": \"scatterternary\"}], \"surface\": [{\"colorbar\": {\"outlinewidth\": 0, \"ticks\": \"\"}, \"colorscale\": [[0.0, \"#0d0887\"], [0.1111111111111111, \"#46039f\"], [0.2222222222222222, \"#7201a8\"], [0.3333333333333333, \"#9c179e\"], [0.4444444444444444, \"#bd3786\"], [0.5555555555555556, \"#d8576b\"], [0.6666666666666666, \"#ed7953\"], [0.7777777777777778, \"#fb9f3a\"], [0.8888888888888888, \"#fdca26\"], [1.0, \"#f0f921\"]], \"type\": \"surface\"}], \"table\": [{\"cells\": {\"fill\": {\"color\": \"#EBF0F8\"}, \"line\": {\"color\": \"white\"}}, \"header\": {\"fill\": {\"color\": \"#C8D4E3\"}, \"line\": {\"color\": \"white\"}}, \"type\": \"table\"}]}, \"layout\": {\"annotationdefaults\": {\"arrowcolor\": \"#2a3f5f\", \"arrowhead\": 0, \"arrowwidth\": 1}, \"autotypenumbers\": \"strict\", \"coloraxis\": {\"colorbar\": {\"outlinewidth\": 0, \"ticks\": \"\"}}, \"colorscale\": {\"diverging\": [[0, \"#8e0152\"], [0.1, \"#c51b7d\"], [0.2, \"#de77ae\"], [0.3, \"#f1b6da\"], [0.4, \"#fde0ef\"], [0.5, \"#f7f7f7\"], [0.6, \"#e6f5d0\"], [0.7, \"#b8e186\"], [0.8, \"#7fbc41\"], [0.9, \"#4d9221\"], [1, \"#276419\"]], \"sequential\": [[0.0, \"#0d0887\"], [0.1111111111111111, \"#46039f\"], [0.2222222222222222, \"#7201a8\"], [0.3333333333333333, \"#9c179e\"], [0.4444444444444444, \"#bd3786\"], [0.5555555555555556, \"#d8576b\"], [0.6666666666666666, \"#ed7953\"], [0.7777777777777778, \"#fb9f3a\"], [0.8888888888888888, \"#fdca26\"], [1.0, \"#f0f921\"]], \"sequentialminus\": [[0.0, \"#0d0887\"], [0.1111111111111111, \"#46039f\"], [0.2222222222222222, \"#7201a8\"], [0.3333333333333333, \"#9c179e\"], [0.4444444444444444, \"#bd3786\"], [0.5555555555555556, \"#d8576b\"], [0.6666666666666666, \"#ed7953\"], [0.7777777777777778, \"#fb9f3a\"], [0.8888888888888888, \"#fdca26\"], [1.0, \"#f0f921\"]]}, \"colorway\": [\"#636efa\", \"#EF553B\", \"#00cc96\", \"#ab63fa\", \"#FFA15A\", \"#19d3f3\", \"#FF6692\", \"#B6E880\", \"#FF97FF\", \"#FECB52\"], \"font\": {\"color\": \"#2a3f5f\"}, \"geo\": {\"bgcolor\": \"white\", \"lakecolor\": \"white\", \"landcolor\": \"#E5ECF6\", \"showlakes\": true, \"showland\": true, \"subunitcolor\": \"white\"}, \"hoverlabel\": {\"align\": \"left\"}, \"hovermode\": \"closest\", \"mapbox\": {\"style\": \"light\"}, \"paper_bgcolor\": \"white\", \"plot_bgcolor\": \"#E5ECF6\", \"polar\": {\"angularaxis\": {\"gridcolor\": \"white\", \"linecolor\": \"white\", \"ticks\": \"\"}, \"bgcolor\": \"#E5ECF6\", \"radialaxis\": {\"gridcolor\": \"white\", \"linecolor\": \"white\", \"ticks\": \"\"}}, \"scene\": {\"xaxis\": {\"backgroundcolor\": \"#E5ECF6\", \"gridcolor\": \"white\", \"gridwidth\": 2, \"linecolor\": \"white\", \"showbackground\": true, \"ticks\": \"\", \"zerolinecolor\": \"white\"}, \"yaxis\": {\"backgroundcolor\": \"#E5ECF6\", \"gridcolor\": \"white\", \"gridwidth\": 2, \"linecolor\": \"white\", \"showbackground\": true, \"ticks\": \"\", \"zerolinecolor\": \"white\"}, \"zaxis\": {\"backgroundcolor\": \"#E5ECF6\", \"gridcolor\": \"white\", \"gridwidth\": 2, \"linecolor\": \"white\", \"showbackground\": true, \"ticks\": \"\", \"zerolinecolor\": \"white\"}}, \"shapedefaults\": {\"line\": {\"color\": \"#2a3f5f\"}}, \"ternary\": {\"aaxis\": {\"gridcolor\": \"white\", \"linecolor\": \"white\", \"ticks\": \"\"}, \"baxis\": {\"gridcolor\": \"white\", \"linecolor\": \"white\", \"ticks\": \"\"}, \"bgcolor\": \"#E5ECF6\", \"caxis\": {\"gridcolor\": \"white\", \"linecolor\": \"white\", \"ticks\": \"\"}}, \"title\": {\"x\": 0.05}, \"xaxis\": {\"automargin\": true, \"gridcolor\": \"white\", \"linecolor\": \"white\", \"ticks\": \"\", \"title\": {\"standoff\": 15}, \"zerolinecolor\": \"white\", \"zerolinewidth\": 2}, \"yaxis\": {\"automargin\": true, \"gridcolor\": \"white\", \"linecolor\": \"white\", \"ticks\": \"\", \"title\": {\"standoff\": 15}, \"zerolinecolor\": \"white\", \"zerolinewidth\": 2}}}},                        {\"responsive\": true}                    ).then(function(){\n",
       "                            \n",
       "var gd = document.getElementById('535925f4-b9a0-4e1d-a127-aec2a6a10ea0');\n",
       "var x = new MutationObserver(function (mutations, observer) {{\n",
       "        var display = window.getComputedStyle(gd).display;\n",
       "        if (!display || display === 'none') {{\n",
       "            console.log([gd, 'removed!']);\n",
       "            Plotly.purge(gd);\n",
       "            observer.disconnect();\n",
       "        }}\n",
       "}});\n",
       "\n",
       "// Listen for the removal of the full notebook cells\n",
       "var notebookContainer = gd.closest('#notebook-container');\n",
       "if (notebookContainer) {{\n",
       "    x.observe(notebookContainer, {childList: true});\n",
       "}}\n",
       "\n",
       "// Listen for the clearing of the current output cell\n",
       "var outputEl = gd.closest('.output');\n",
       "if (outputEl) {{\n",
       "    x.observe(outputEl, {childList: true});\n",
       "}}\n",
       "\n",
       "                        })                };                });            </script>        </div>"
      ]
     },
     "metadata": {},
     "output_type": "display_data"
    }
   ],
   "source": [
    "plot_loss([loss], ['combined_nn'])"
   ]
  },
  {
   "cell_type": "markdown",
   "id": "realistic-uncle",
   "metadata": {},
   "source": [
    "plot forecasts"
   ]
  },
  {
   "cell_type": "code",
   "execution_count": 50,
   "id": "encouraging-reducing",
   "metadata": {},
   "outputs": [],
   "source": [
    "results_df = pd.read_csv(f'../combined_nn_results/grid.csv', index_col=[0])"
   ]
  },
  {
   "cell_type": "code",
   "execution_count": 51,
   "id": "actual-limitation",
   "metadata": {},
   "outputs": [
    {
     "data": {
      "text/html": [
       "<div>\n",
       "<style scoped>\n",
       "    .dataframe tbody tr th:only-of-type {\n",
       "        vertical-align: middle;\n",
       "    }\n",
       "\n",
       "    .dataframe tbody tr th {\n",
       "        vertical-align: top;\n",
       "    }\n",
       "\n",
       "    .dataframe thead th {\n",
       "        text-align: right;\n",
       "    }\n",
       "</style>\n",
       "<table border=\"1\" class=\"dataframe\">\n",
       "  <thead>\n",
       "    <tr style=\"text-align: right;\">\n",
       "      <th></th>\n",
       "      <th>power</th>\n",
       "      <th>fc</th>\n",
       "    </tr>\n",
       "    <tr>\n",
       "      <th>date_str</th>\n",
       "      <th></th>\n",
       "      <th></th>\n",
       "    </tr>\n",
       "  </thead>\n",
       "  <tbody>\n",
       "    <tr>\n",
       "      <th>2021-01-09 07:00:00</th>\n",
       "      <td>11.51</td>\n",
       "      <td>94265.117188</td>\n",
       "    </tr>\n",
       "    <tr>\n",
       "      <th>2021-01-09 08:00:00</th>\n",
       "      <td>2827.61</td>\n",
       "      <td>94265.117188</td>\n",
       "    </tr>\n",
       "    <tr>\n",
       "      <th>2021-01-09 09:00:00</th>\n",
       "      <td>19125.99</td>\n",
       "      <td>94265.117188</td>\n",
       "    </tr>\n",
       "    <tr>\n",
       "      <th>2021-01-09 10:00:00</th>\n",
       "      <td>81339.20</td>\n",
       "      <td>94265.117188</td>\n",
       "    </tr>\n",
       "    <tr>\n",
       "      <th>2021-01-09 11:00:00</th>\n",
       "      <td>120248.84</td>\n",
       "      <td>145344.125000</td>\n",
       "    </tr>\n",
       "  </tbody>\n",
       "</table>\n",
       "</div>"
      ],
      "text/plain": [
       "                         power             fc\n",
       "date_str                                     \n",
       "2021-01-09 07:00:00      11.51   94265.117188\n",
       "2021-01-09 08:00:00    2827.61   94265.117188\n",
       "2021-01-09 09:00:00   19125.99   94265.117188\n",
       "2021-01-09 10:00:00   81339.20   94265.117188\n",
       "2021-01-09 11:00:00  120248.84  145344.125000"
      ]
     },
     "execution_count": 51,
     "metadata": {},
     "output_type": "execute_result"
    }
   ],
   "source": [
    "results_df.head()"
   ]
  },
  {
   "cell_type": "code",
   "execution_count": 54,
   "id": "royal-wright",
   "metadata": {},
   "outputs": [
    {
     "data": {
      "application/vnd.plotly.v1+json": {
       "config": {
        "plotlyServerURL": "https://plot.ly"
       },
       "data": [
        {
         "name": "actual",
         "type": "scatter",
         "x": [
          "2021-01-09 07:00:00",
          "2021-01-09 08:00:00",
          "2021-01-09 09:00:00",
          "2021-01-09 10:00:00",
          "2021-01-09 11:00:00",
          "2021-01-09 12:00:00",
          "2021-01-09 13:00:00",
          "2021-01-09 14:00:00",
          "2021-01-09 15:00:00",
          "2021-01-09 16:00:00",
          "2021-01-09 17:00:00",
          "2021-01-09 18:00:00",
          "2021-01-09 19:00:00",
          "2021-01-09 20:00:00",
          "2021-01-10 07:00:00",
          "2021-01-10 08:00:00",
          "2021-01-10 09:00:00",
          "2021-01-10 10:00:00",
          "2021-01-10 11:00:00",
          "2021-01-10 12:00:00",
          "2021-01-10 13:00:00",
          "2021-01-10 14:00:00",
          "2021-01-10 15:00:00",
          "2021-01-10 16:00:00",
          "2021-01-10 17:00:00",
          "2021-01-10 18:00:00",
          "2021-01-10 19:00:00",
          "2021-01-10 20:00:00",
          "2021-01-11 07:00:00",
          "2021-01-11 08:00:00",
          "2021-01-11 09:00:00",
          "2021-01-11 10:00:00",
          "2021-01-11 11:00:00",
          "2021-01-11 12:00:00",
          "2021-01-11 13:00:00",
          "2021-01-11 14:00:00",
          "2021-01-11 15:00:00",
          "2021-01-11 16:00:00",
          "2021-01-11 17:00:00",
          "2021-01-11 18:00:00",
          "2021-01-11 19:00:00",
          "2021-01-11 20:00:00",
          "2021-01-12 07:00:00",
          "2021-01-12 08:00:00",
          "2021-01-12 09:00:00",
          "2021-01-12 10:00:00",
          "2021-01-12 11:00:00",
          "2021-01-12 12:00:00",
          "2021-01-12 13:00:00",
          "2021-01-12 14:00:00",
          "2021-01-12 15:00:00",
          "2021-01-12 16:00:00",
          "2021-01-12 17:00:00",
          "2021-01-12 18:00:00",
          "2021-01-12 19:00:00",
          "2021-01-12 20:00:00",
          "2021-01-13 07:00:00",
          "2021-01-13 08:00:00",
          "2021-01-13 09:00:00",
          "2021-01-13 10:00:00",
          "2021-01-13 11:00:00",
          "2021-01-13 12:00:00",
          "2021-01-13 13:00:00",
          "2021-01-13 14:00:00",
          "2021-01-13 15:00:00",
          "2021-01-13 16:00:00",
          "2021-01-13 17:00:00",
          "2021-01-13 18:00:00",
          "2021-01-13 19:00:00",
          "2021-01-13 20:00:00",
          "2021-01-14 07:00:00",
          "2021-01-14 08:00:00",
          "2021-01-14 09:00:00",
          "2021-01-14 10:00:00",
          "2021-01-14 11:00:00",
          "2021-01-14 12:00:00",
          "2021-01-14 13:00:00",
          "2021-01-14 14:00:00",
          "2021-01-14 15:00:00",
          "2021-01-14 16:00:00",
          "2021-01-14 17:00:00",
          "2021-01-14 18:00:00",
          "2021-01-14 19:00:00",
          "2021-01-14 20:00:00",
          "2021-01-15 07:00:00",
          "2021-01-15 08:00:00",
          "2021-01-15 09:00:00",
          "2021-01-15 10:00:00",
          "2021-01-15 11:00:00",
          "2021-01-15 12:00:00",
          "2021-01-15 13:00:00",
          "2021-01-15 14:00:00",
          "2021-01-15 15:00:00",
          "2021-01-15 16:00:00",
          "2021-01-15 17:00:00",
          "2021-01-15 18:00:00",
          "2021-01-15 19:00:00",
          "2021-01-15 20:00:00",
          "2021-01-16 07:00:00",
          "2021-01-16 08:00:00",
          "2021-01-16 09:00:00",
          "2021-01-16 10:00:00",
          "2021-01-16 11:00:00",
          "2021-01-16 12:00:00",
          "2021-01-16 13:00:00",
          "2021-01-16 14:00:00",
          "2021-01-16 15:00:00",
          "2021-01-16 16:00:00",
          "2021-01-16 17:00:00",
          "2021-01-16 18:00:00",
          "2021-01-16 19:00:00",
          "2021-01-16 20:00:00",
          "2021-01-17 07:00:00",
          "2021-01-17 08:00:00",
          "2021-01-17 09:00:00",
          "2021-01-17 10:00:00",
          "2021-01-17 11:00:00",
          "2021-01-17 12:00:00",
          "2021-01-17 13:00:00",
          "2021-01-17 14:00:00",
          "2021-01-17 15:00:00",
          "2021-01-17 16:00:00",
          "2021-01-17 17:00:00",
          "2021-01-17 18:00:00",
          "2021-01-17 19:00:00",
          "2021-01-17 20:00:00",
          "2021-01-18 07:00:00",
          "2021-01-18 08:00:00",
          "2021-01-18 09:00:00",
          "2021-01-18 10:00:00",
          "2021-01-18 11:00:00",
          "2021-01-18 12:00:00",
          "2021-01-18 13:00:00",
          "2021-01-18 14:00:00",
          "2021-01-18 15:00:00",
          "2021-01-18 16:00:00",
          "2021-01-18 17:00:00",
          "2021-01-18 18:00:00",
          "2021-01-18 19:00:00",
          "2021-01-18 20:00:00",
          "2021-01-19 07:00:00",
          "2021-01-19 08:00:00",
          "2021-01-19 09:00:00",
          "2021-01-19 10:00:00",
          "2021-01-19 11:00:00",
          "2021-01-19 12:00:00",
          "2021-01-19 13:00:00",
          "2021-01-19 14:00:00",
          "2021-01-19 15:00:00",
          "2021-01-19 16:00:00",
          "2021-01-19 17:00:00",
          "2021-01-19 18:00:00",
          "2021-01-19 19:00:00",
          "2021-01-19 20:00:00",
          "2021-01-20 07:00:00",
          "2021-01-20 08:00:00",
          "2021-01-20 09:00:00",
          "2021-01-20 10:00:00",
          "2021-01-20 11:00:00",
          "2021-01-20 12:00:00",
          "2021-01-20 13:00:00",
          "2021-01-20 14:00:00",
          "2021-01-20 15:00:00",
          "2021-01-20 16:00:00",
          "2021-01-20 17:00:00",
          "2021-01-20 18:00:00",
          "2021-01-20 19:00:00",
          "2021-01-20 20:00:00",
          "2021-01-21 07:00:00",
          "2021-01-21 08:00:00",
          "2021-01-21 09:00:00",
          "2021-01-21 10:00:00",
          "2021-01-21 11:00:00",
          "2021-01-21 12:00:00",
          "2021-01-21 13:00:00",
          "2021-01-21 14:00:00",
          "2021-01-21 15:00:00",
          "2021-01-21 16:00:00",
          "2021-01-21 17:00:00",
          "2021-01-21 18:00:00",
          "2021-01-21 19:00:00",
          "2021-01-21 20:00:00",
          "2021-01-22 07:00:00",
          "2021-01-22 08:00:00",
          "2021-01-22 09:00:00",
          "2021-01-22 10:00:00",
          "2021-01-22 11:00:00",
          "2021-01-22 12:00:00",
          "2021-01-22 13:00:00",
          "2021-01-22 14:00:00",
          "2021-01-22 15:00:00",
          "2021-01-22 16:00:00",
          "2021-01-22 17:00:00",
          "2021-01-22 18:00:00",
          "2021-01-22 19:00:00",
          "2021-01-22 20:00:00",
          "2021-01-23 07:00:00",
          "2021-01-23 08:00:00",
          "2021-01-23 09:00:00",
          "2021-01-23 10:00:00",
          "2021-01-23 11:00:00",
          "2021-01-23 12:00:00",
          "2021-01-23 13:00:00",
          "2021-01-23 14:00:00",
          "2021-01-23 15:00:00",
          "2021-01-23 16:00:00",
          "2021-01-23 17:00:00",
          "2021-01-23 18:00:00",
          "2021-01-23 19:00:00",
          "2021-01-23 20:00:00",
          "2021-01-24 07:00:00",
          "2021-01-24 08:00:00",
          "2021-01-24 09:00:00",
          "2021-01-24 10:00:00",
          "2021-01-24 11:00:00",
          "2021-01-24 12:00:00",
          "2021-01-24 13:00:00",
          "2021-01-24 14:00:00",
          "2021-01-24 15:00:00",
          "2021-01-24 16:00:00",
          "2021-01-24 17:00:00",
          "2021-01-24 18:00:00",
          "2021-01-24 19:00:00",
          "2021-01-24 20:00:00",
          "2021-01-25 07:00:00",
          "2021-01-25 08:00:00",
          "2021-01-25 09:00:00",
          "2021-01-25 10:00:00",
          "2021-01-25 11:00:00",
          "2021-01-25 12:00:00",
          "2021-01-25 13:00:00",
          "2021-01-25 14:00:00",
          "2021-01-25 15:00:00",
          "2021-01-25 16:00:00",
          "2021-01-25 17:00:00",
          "2021-01-25 18:00:00",
          "2021-01-25 19:00:00",
          "2021-01-25 20:00:00",
          "2021-01-26 07:00:00",
          "2021-01-26 08:00:00",
          "2021-01-26 09:00:00",
          "2021-01-26 10:00:00",
          "2021-01-26 11:00:00",
          "2021-01-26 12:00:00",
          "2021-01-26 13:00:00",
          "2021-01-26 14:00:00",
          "2021-01-26 15:00:00",
          "2021-01-26 16:00:00",
          "2021-01-26 17:00:00",
          "2021-01-26 18:00:00",
          "2021-01-26 19:00:00",
          "2021-01-26 20:00:00",
          "2021-01-27 07:00:00",
          "2021-01-27 08:00:00",
          "2021-01-27 09:00:00",
          "2021-01-27 10:00:00",
          "2021-01-27 11:00:00",
          "2021-01-27 12:00:00",
          "2021-01-27 13:00:00",
          "2021-01-27 14:00:00",
          "2021-01-27 15:00:00",
          "2021-01-27 16:00:00",
          "2021-01-27 17:00:00",
          "2021-01-27 18:00:00",
          "2021-01-27 19:00:00",
          "2021-01-27 20:00:00",
          "2021-01-28 07:00:00",
          "2021-01-28 08:00:00",
          "2021-01-28 09:00:00",
          "2021-01-28 10:00:00",
          "2021-01-28 11:00:00",
          "2021-01-28 12:00:00",
          "2021-01-28 13:00:00",
          "2021-01-28 14:00:00",
          "2021-01-28 15:00:00",
          "2021-01-28 16:00:00",
          "2021-01-28 17:00:00",
          "2021-01-28 18:00:00",
          "2021-01-28 19:00:00",
          "2021-01-28 20:00:00",
          "2021-01-29 07:00:00",
          "2021-01-29 08:00:00",
          "2021-01-29 09:00:00",
          "2021-01-29 10:00:00",
          "2021-01-29 11:00:00",
          "2021-01-29 12:00:00",
          "2021-01-29 13:00:00",
          "2021-01-29 14:00:00",
          "2021-01-29 15:00:00",
          "2021-01-29 16:00:00",
          "2021-01-29 17:00:00",
          "2021-01-29 18:00:00",
          "2021-01-29 19:00:00",
          "2021-01-29 20:00:00",
          "2021-01-30 07:00:00",
          "2021-01-30 08:00:00",
          "2021-01-30 09:00:00",
          "2021-01-30 10:00:00",
          "2021-01-30 11:00:00",
          "2021-01-30 12:00:00",
          "2021-01-30 13:00:00",
          "2021-01-30 14:00:00",
          "2021-01-30 15:00:00",
          "2021-01-30 16:00:00",
          "2021-01-30 17:00:00",
          "2021-01-30 18:00:00",
          "2021-01-30 19:00:00",
          "2021-01-30 20:00:00",
          "2021-01-31 07:00:00",
          "2021-01-31 08:00:00",
          "2021-01-31 09:00:00",
          "2021-01-31 10:00:00",
          "2021-01-31 11:00:00",
          "2021-01-31 12:00:00",
          "2021-01-31 13:00:00",
          "2021-01-31 14:00:00",
          "2021-01-31 15:00:00",
          "2021-01-31 16:00:00",
          "2021-01-31 17:00:00",
          "2021-01-31 18:00:00",
          "2021-01-31 19:00:00",
          "2021-01-31 20:00:00",
          "2021-02-01 07:00:00",
          "2021-02-01 08:00:00",
          "2021-02-01 09:00:00",
          "2021-02-01 10:00:00",
          "2021-02-01 11:00:00",
          "2021-02-01 12:00:00",
          "2021-02-01 13:00:00",
          "2021-02-01 14:00:00",
          "2021-02-01 15:00:00",
          "2021-02-01 16:00:00",
          "2021-02-01 17:00:00",
          "2021-02-01 18:00:00",
          "2021-02-01 19:00:00",
          "2021-02-01 20:00:00",
          "2021-02-02 07:00:00",
          "2021-02-02 08:00:00",
          "2021-02-02 09:00:00",
          "2021-02-02 10:00:00",
          "2021-02-02 11:00:00",
          "2021-02-02 12:00:00",
          "2021-02-02 13:00:00",
          "2021-02-02 14:00:00",
          "2021-02-02 15:00:00",
          "2021-02-02 16:00:00",
          "2021-02-02 17:00:00",
          "2021-02-02 18:00:00",
          "2021-02-02 19:00:00",
          "2021-02-02 20:00:00",
          "2021-02-03 07:00:00",
          "2021-02-03 08:00:00",
          "2021-02-03 09:00:00",
          "2021-02-03 10:00:00",
          "2021-02-03 11:00:00",
          "2021-02-03 12:00:00",
          "2021-02-03 13:00:00",
          "2021-02-03 14:00:00",
          "2021-02-03 15:00:00",
          "2021-02-03 16:00:00",
          "2021-02-03 17:00:00",
          "2021-02-03 18:00:00",
          "2021-02-03 19:00:00",
          "2021-02-03 20:00:00",
          "2021-02-04 07:00:00",
          "2021-02-04 08:00:00",
          "2021-02-04 09:00:00",
          "2021-02-04 10:00:00",
          "2021-02-04 11:00:00",
          "2021-02-04 12:00:00",
          "2021-02-04 13:00:00",
          "2021-02-04 14:00:00",
          "2021-02-04 15:00:00",
          "2021-02-04 16:00:00",
          "2021-02-04 17:00:00",
          "2021-02-04 18:00:00",
          "2021-02-04 19:00:00",
          "2021-02-04 20:00:00",
          "2021-02-05 07:00:00",
          "2021-02-05 08:00:00",
          "2021-02-05 09:00:00",
          "2021-02-05 10:00:00",
          "2021-02-05 11:00:00",
          "2021-02-05 12:00:00",
          "2021-02-05 13:00:00",
          "2021-02-05 14:00:00",
          "2021-02-05 15:00:00",
          "2021-02-05 16:00:00",
          "2021-02-05 17:00:00",
          "2021-02-05 18:00:00",
          "2021-02-05 19:00:00",
          "2021-02-05 20:00:00",
          "2021-02-06 07:00:00",
          "2021-02-06 08:00:00",
          "2021-02-06 09:00:00",
          "2021-02-06 10:00:00",
          "2021-02-06 11:00:00",
          "2021-02-06 12:00:00",
          "2021-02-06 13:00:00",
          "2021-02-06 14:00:00",
          "2021-02-06 15:00:00",
          "2021-02-06 16:00:00",
          "2021-02-06 17:00:00",
          "2021-02-06 18:00:00",
          "2021-02-06 19:00:00",
          "2021-02-06 20:00:00",
          "2021-02-07 07:00:00",
          "2021-02-07 08:00:00",
          "2021-02-07 09:00:00",
          "2021-02-07 10:00:00",
          "2021-02-07 11:00:00",
          "2021-02-07 12:00:00",
          "2021-02-07 13:00:00",
          "2021-02-07 14:00:00",
          "2021-02-07 15:00:00",
          "2021-02-07 16:00:00",
          "2021-02-07 17:00:00",
          "2021-02-07 18:00:00",
          "2021-02-07 19:00:00",
          "2021-02-07 20:00:00",
          "2021-02-08 07:00:00",
          "2021-02-08 08:00:00",
          "2021-02-08 09:00:00",
          "2021-02-08 10:00:00",
          "2021-02-08 11:00:00",
          "2021-02-08 12:00:00",
          "2021-02-08 13:00:00",
          "2021-02-08 14:00:00",
          "2021-02-08 15:00:00",
          "2021-02-08 16:00:00",
          "2021-02-08 17:00:00",
          "2021-02-08 18:00:00",
          "2021-02-08 19:00:00",
          "2021-02-08 20:00:00",
          "2021-02-09 07:00:00",
          "2021-02-09 08:00:00",
          "2021-02-09 09:00:00",
          "2021-02-09 10:00:00",
          "2021-02-09 11:00:00",
          "2021-02-09 12:00:00",
          "2021-02-09 13:00:00",
          "2021-02-09 14:00:00",
          "2021-02-09 15:00:00",
          "2021-02-09 16:00:00",
          "2021-02-09 17:00:00",
          "2021-02-09 18:00:00",
          "2021-02-09 19:00:00",
          "2021-02-09 20:00:00",
          "2021-02-10 07:00:00",
          "2021-02-10 08:00:00",
          "2021-02-10 09:00:00",
          "2021-02-10 10:00:00",
          "2021-02-10 11:00:00",
          "2021-02-10 12:00:00",
          "2021-02-10 13:00:00",
          "2021-02-10 14:00:00",
          "2021-02-10 15:00:00",
          "2021-02-10 16:00:00",
          "2021-02-10 17:00:00",
          "2021-02-10 18:00:00",
          "2021-02-10 19:00:00",
          "2021-02-10 20:00:00",
          "2021-02-11 07:00:00",
          "2021-02-11 08:00:00",
          "2021-02-11 09:00:00",
          "2021-02-11 10:00:00",
          "2021-02-11 11:00:00",
          "2021-02-11 12:00:00",
          "2021-02-11 13:00:00",
          "2021-02-11 14:00:00",
          "2021-02-11 15:00:00",
          "2021-02-11 16:00:00",
          "2021-02-11 17:00:00",
          "2021-02-11 18:00:00",
          "2021-02-11 19:00:00",
          "2021-02-11 20:00:00",
          "2021-02-12 07:00:00",
          "2021-02-12 08:00:00",
          "2021-02-12 09:00:00",
          "2021-02-12 10:00:00",
          "2021-02-12 11:00:00",
          "2021-02-12 12:00:00",
          "2021-02-12 13:00:00",
          "2021-02-12 14:00:00",
          "2021-02-12 15:00:00",
          "2021-02-12 16:00:00",
          "2021-02-12 17:00:00",
          "2021-02-12 18:00:00",
          "2021-02-12 19:00:00",
          "2021-02-12 20:00:00",
          "2021-02-13 07:00:00",
          "2021-02-13 08:00:00",
          "2021-02-13 09:00:00",
          "2021-02-13 10:00:00",
          "2021-02-13 11:00:00",
          "2021-02-13 12:00:00",
          "2021-02-13 13:00:00",
          "2021-02-13 14:00:00",
          "2021-02-13 15:00:00",
          "2021-02-13 16:00:00",
          "2021-02-13 17:00:00",
          "2021-02-13 18:00:00",
          "2021-02-13 19:00:00",
          "2021-02-13 20:00:00"
         ],
         "y": [
          11.51,
          2827.61,
          19125.99,
          81339.2,
          120248.84,
          138112.28,
          193998.09,
          198199.7,
          221898.65,
          220806.24,
          208875.37,
          225113.79,
          169836.77,
          98231.42,
          9.68,
          1874.08,
          18753.49,
          58166.42,
          108814.06,
          168628.08,
          213157.56,
          237281.68,
          203407.61,
          221005.12,
          246277.37,
          266609.58,
          208908.97,
          117317,
          6.14,
          2161.71,
          25827.02,
          56276.65,
          135925.73,
          217747.01,
          281071.81,
          309890.91,
          264609.44,
          263013.07,
          251036.95,
          263345.38,
          206894.24,
          115868.21,
          5.41,
          2133.38,
          24505.5,
          84336.31,
          155551.63,
          208850.44,
          260587.47,
          306314.97,
          323163.66,
          327811.12,
          312043.92,
          242867.1,
          204081.96,
          117152.03,
          5.4,
          1463.26,
          19166.5,
          83024.11,
          121824.55,
          188928.27,
          242478.05,
          278689.23,
          291603.07,
          293091.68,
          281207.75,
          245114.66,
          170843.89,
          95213.46,
          5.04,
          1624.7,
          25464.03,
          66761.44,
          147238.47,
          214825.54,
          267461.45,
          314078.71,
          324505.12,
          300878.98,
          285004.22,
          251804.12,
          185653.78,
          106537.61,
          5.95,
          1085.46,
          21781.49,
          85087.74,
          161111.33,
          229647.63,
          278492.33,
          310844.58,
          326101.67,
          324116.33,
          307126.86,
          266057.81,
          203145.1,
          113064.39,
          6.32,
          1234.13,
          20990.97,
          80045.86,
          160110.44,
          184304.71,
          218831.28,
          246264.23,
          254507.88,
          253681.91,
          245871.79,
          262008.84,
          204948.76,
          114052.4,
          8.32,
          1145.17,
          20418.63,
          78977.72,
          157607.07,
          221537.97,
          268994.95,
          299374.6,
          257426.7,
          252306.08,
          243547.01,
          253676.97,
          198314.66,
          110071.49,
          11.95,
          1099.32,
          21733.55,
          77548.81,
          144054.95,
          201185.51,
          228247.62,
          266507.49,
          260591.94,
          256967.38,
          231859.95,
          161133.13,
          140958.43,
          81425.99,
          10.15,
          909.01,
          19396.88,
          68189.26,
          143424.14,
          196671.55,
          250164.48,
          231712.98,
          221961.15,
          259044.78,
          225629.87,
          181908.14,
          143796.63,
          81011.46,
          10.32,
          526.64,
          16294.28,
          72804.6,
          129605.73,
          208811.57,
          267034.98,
          301564.33,
          311855.91,
          313041.44,
          283746.31,
          244505.58,
          189180.14,
          102395.52,
          9.79,
          800.16,
          20187.61,
          62433.05,
          149036.49,
          218858.55,
          267407.39,
          299673.21,
          312702.35,
          313896.41,
          299053.63,
          262488.72,
          200483.18,
          108960.69,
          10.25,
          706.44,
          18486.82,
          73793.83,
          150841.77,
          217178.04,
          266226.24,
          296576.79,
          313757.84,
          318016.75,
          303093.46,
          264622.89,
          203043.93,
          112121.66,
          6.37,
          559.13,
          17881.21,
          73548.82,
          148820.6,
          172609.74,
          15616.14,
          210021.24,
          243636.34,
          247209.75,
          236094.45,
          255543.75,
          203462.01,
          103992.61,
          5.92,
          267.56,
          14462.22,
          70403.48,
          88106.54,
          161624.3,
          185411.36,
          207153.29,
          219209.11,
          232135.87,
          243666.9,
          238686.08,
          187771.24,
          99244.43,
          5.72,
          301.41,
          15897,
          43304.63,
          130248.89,
          204045.7,
          215983.71,
          158285.97,
          151867.96,
          166051.15,
          202116.9,
          180685.16,
          179049.48,
          115628.74,
          9.02,
          400.63,
          17961.9,
          62030.06,
          147936.66,
          211546.4,
          229409.37,
          271722.24,
          257599.2,
          206300.71,
          279035.68,
          243559.56,
          148394.62,
          107926.63,
          7.91,
          362.74,
          16685.16,
          70638.8,
          128835.31,
          171030.37,
          231422.4,
          284547.42,
          309129.69,
          314954.08,
          270489.25,
          256074.96,
          205715.77,
          115166.89,
          6.81,
          392.6,
          17330.65,
          72806.93,
          152549.42,
          222746.14,
          272686.47,
          287154.45,
          275332.27,
          288991.42,
          304241.22,
          272308.82,
          208607.85,
          112258.76,
          5.8,
          301.6,
          16332.36,
          72256.65,
          140980.1,
          212495.76,
          272745.12,
          306238.99,
          320842.16,
          320213.35,
          303402.45,
          265490.97,
          203139.13,
          109815.82,
          9.34,
          273.95,
          15691.4,
          69765.91,
          151132.54,
          179782.4,
          217852.06,
          242425.32,
          255853,
          257569.98,
          245838.29,
          257942.89,
          201137.1,
          108597.15,
          10.71,
          235.69,
          15334.85,
          70152.46,
          148675.12,
          216611.2,
          266322.73,
          290996.83,
          194036.45,
          225357.1,
          247972.22,
          260293.64,
          204873.03,
          109325.17,
          11.27,
          192.02,
          14901.18,
          69469.19,
          148908.78,
          220192.14,
          269913.74,
          299779.44,
          256786.52,
          255577.2,
          245084.34,
          253577.53,
          197010.96,
          102244.34,
          11.1,
          206.66,
          15581.17,
          68634.71,
          125977.72,
          180083.5,
          204327.63,
          239176.72,
          278544.05,
          265662.61,
          241503.22,
          209208.26,
          152099.72,
          79437.63,
          10.96,
          102.97,
          14246.2,
          60524.89,
          119678.72,
          212098.7,
          261714.88,
          301703.95,
          298049.75,
          257949.53,
          248982.62,
          253295.95,
          173214.34,
          79500.51,
          6.46,
          103.01,
          14334.04,
          51356.69,
          147667.55,
          220913.37,
          264633.27,
          299830.92,
          316351.19,
          315999.13,
          301920.05,
          268347.53,
          204182.72,
          106619.26,
          6.31,
          67.69,
          14813.43,
          66522.36,
          144728.25,
          202083.35,
          265738.48,
          295002.62,
          318753.35,
          310476.85,
          284552.37,
          238495.03,
          164136.57,
          76093.85,
          5.55,
          6.07,
          7425.59,
          64679.25,
          64386.16,
          64852.45,
          86855.87,
          84027.56,
          93601.25,
          84993.53,
          70884.12,
          67452.74,
          31441.35,
          13269.08,
          6.5,
          6.25,
          1450.9,
          30658.67,
          23653.36,
          32021.73,
          55187.28,
          63816.25,
          58572.41,
          45461.92,
          45429.94,
          39189.7,
          25455.49,
          11562.53,
          5.84,
          6.58,
          10749.7,
          12388.85,
          102174.61,
          160749.38,
          207784.97,
          236877.72,
          196896.82,
          189896.82,
          191888.28,
          196723.4,
          142522.42,
          88440.44,
          5.46,
          5.6,
          12870.29,
          46954.54,
          110431.87,
          158718.61,
          184121.01,
          277605.44,
          267733.06,
          272191.44,
          225975.27,
          165051.53,
          112482.83,
          57786.98,
          6.57,
          5.66,
          11413.5,
          63296.44,
          136809.62,
          186389.09,
          232616.55,
          263235.86,
          256906.1,
          279913.69,
          239647.87,
          231207.09,
          164680.31,
          75767.7,
          5.77,
          6.12,
          9303.5,
          64515.33,
          113036.97,
          136629,
          157670.5,
          204809.24,
          253249.96,
          242951.91,
          202430.29,
          187915.3,
          170439.87,
          90719.88,
          6.23,
          6.3,
          12412.38,
          55026.51,
          132631.89,
          206983.68,
          263017.61,
          304988.57,
          320708.31,
          320346.64,
          306753.99,
          269933.4,
          204080.54,
          101333.65,
          6.34,
          6.59,
          10997.14,
          62266.53,
          143674.13,
          175687.08,
          214049.35,
          239580.82,
          249179.04,
          255891.13,
          231299.37,
          255489.21,
          191863.39,
          92640.44
         ]
        },
        {
         "name": "fc",
         "type": "scatter",
         "x": [
          "2021-01-09 07:00:00",
          "2021-01-09 08:00:00",
          "2021-01-09 09:00:00",
          "2021-01-09 10:00:00",
          "2021-01-09 11:00:00",
          "2021-01-09 12:00:00",
          "2021-01-09 13:00:00",
          "2021-01-09 14:00:00",
          "2021-01-09 15:00:00",
          "2021-01-09 16:00:00",
          "2021-01-09 17:00:00",
          "2021-01-09 18:00:00",
          "2021-01-09 19:00:00",
          "2021-01-09 20:00:00",
          "2021-01-10 07:00:00",
          "2021-01-10 08:00:00",
          "2021-01-10 09:00:00",
          "2021-01-10 10:00:00",
          "2021-01-10 11:00:00",
          "2021-01-10 12:00:00",
          "2021-01-10 13:00:00",
          "2021-01-10 14:00:00",
          "2021-01-10 15:00:00",
          "2021-01-10 16:00:00",
          "2021-01-10 17:00:00",
          "2021-01-10 18:00:00",
          "2021-01-10 19:00:00",
          "2021-01-10 20:00:00",
          "2021-01-11 07:00:00",
          "2021-01-11 08:00:00",
          "2021-01-11 09:00:00",
          "2021-01-11 10:00:00",
          "2021-01-11 11:00:00",
          "2021-01-11 12:00:00",
          "2021-01-11 13:00:00",
          "2021-01-11 14:00:00",
          "2021-01-11 15:00:00",
          "2021-01-11 16:00:00",
          "2021-01-11 17:00:00",
          "2021-01-11 18:00:00",
          "2021-01-11 19:00:00",
          "2021-01-11 20:00:00",
          "2021-01-12 07:00:00",
          "2021-01-12 08:00:00",
          "2021-01-12 09:00:00",
          "2021-01-12 10:00:00",
          "2021-01-12 11:00:00",
          "2021-01-12 12:00:00",
          "2021-01-12 13:00:00",
          "2021-01-12 14:00:00",
          "2021-01-12 15:00:00",
          "2021-01-12 16:00:00",
          "2021-01-12 17:00:00",
          "2021-01-12 18:00:00",
          "2021-01-12 19:00:00",
          "2021-01-12 20:00:00",
          "2021-01-13 07:00:00",
          "2021-01-13 08:00:00",
          "2021-01-13 09:00:00",
          "2021-01-13 10:00:00",
          "2021-01-13 11:00:00",
          "2021-01-13 12:00:00",
          "2021-01-13 13:00:00",
          "2021-01-13 14:00:00",
          "2021-01-13 15:00:00",
          "2021-01-13 16:00:00",
          "2021-01-13 17:00:00",
          "2021-01-13 18:00:00",
          "2021-01-13 19:00:00",
          "2021-01-13 20:00:00",
          "2021-01-14 07:00:00",
          "2021-01-14 08:00:00",
          "2021-01-14 09:00:00",
          "2021-01-14 10:00:00",
          "2021-01-14 11:00:00",
          "2021-01-14 12:00:00",
          "2021-01-14 13:00:00",
          "2021-01-14 14:00:00",
          "2021-01-14 15:00:00",
          "2021-01-14 16:00:00",
          "2021-01-14 17:00:00",
          "2021-01-14 18:00:00",
          "2021-01-14 19:00:00",
          "2021-01-14 20:00:00",
          "2021-01-15 07:00:00",
          "2021-01-15 08:00:00",
          "2021-01-15 09:00:00",
          "2021-01-15 10:00:00",
          "2021-01-15 11:00:00",
          "2021-01-15 12:00:00",
          "2021-01-15 13:00:00",
          "2021-01-15 14:00:00",
          "2021-01-15 15:00:00",
          "2021-01-15 16:00:00",
          "2021-01-15 17:00:00",
          "2021-01-15 18:00:00",
          "2021-01-15 19:00:00",
          "2021-01-15 20:00:00",
          "2021-01-16 07:00:00",
          "2021-01-16 08:00:00",
          "2021-01-16 09:00:00",
          "2021-01-16 10:00:00",
          "2021-01-16 11:00:00",
          "2021-01-16 12:00:00",
          "2021-01-16 13:00:00",
          "2021-01-16 14:00:00",
          "2021-01-16 15:00:00",
          "2021-01-16 16:00:00",
          "2021-01-16 17:00:00",
          "2021-01-16 18:00:00",
          "2021-01-16 19:00:00",
          "2021-01-16 20:00:00",
          "2021-01-17 07:00:00",
          "2021-01-17 08:00:00",
          "2021-01-17 09:00:00",
          "2021-01-17 10:00:00",
          "2021-01-17 11:00:00",
          "2021-01-17 12:00:00",
          "2021-01-17 13:00:00",
          "2021-01-17 14:00:00",
          "2021-01-17 15:00:00",
          "2021-01-17 16:00:00",
          "2021-01-17 17:00:00",
          "2021-01-17 18:00:00",
          "2021-01-17 19:00:00",
          "2021-01-17 20:00:00",
          "2021-01-18 07:00:00",
          "2021-01-18 08:00:00",
          "2021-01-18 09:00:00",
          "2021-01-18 10:00:00",
          "2021-01-18 11:00:00",
          "2021-01-18 12:00:00",
          "2021-01-18 13:00:00",
          "2021-01-18 14:00:00",
          "2021-01-18 15:00:00",
          "2021-01-18 16:00:00",
          "2021-01-18 17:00:00",
          "2021-01-18 18:00:00",
          "2021-01-18 19:00:00",
          "2021-01-18 20:00:00",
          "2021-01-19 07:00:00",
          "2021-01-19 08:00:00",
          "2021-01-19 09:00:00",
          "2021-01-19 10:00:00",
          "2021-01-19 11:00:00",
          "2021-01-19 12:00:00",
          "2021-01-19 13:00:00",
          "2021-01-19 14:00:00",
          "2021-01-19 15:00:00",
          "2021-01-19 16:00:00",
          "2021-01-19 17:00:00",
          "2021-01-19 18:00:00",
          "2021-01-19 19:00:00",
          "2021-01-19 20:00:00",
          "2021-01-20 07:00:00",
          "2021-01-20 08:00:00",
          "2021-01-20 09:00:00",
          "2021-01-20 10:00:00",
          "2021-01-20 11:00:00",
          "2021-01-20 12:00:00",
          "2021-01-20 13:00:00",
          "2021-01-20 14:00:00",
          "2021-01-20 15:00:00",
          "2021-01-20 16:00:00",
          "2021-01-20 17:00:00",
          "2021-01-20 18:00:00",
          "2021-01-20 19:00:00",
          "2021-01-20 20:00:00",
          "2021-01-21 07:00:00",
          "2021-01-21 08:00:00",
          "2021-01-21 09:00:00",
          "2021-01-21 10:00:00",
          "2021-01-21 11:00:00",
          "2021-01-21 12:00:00",
          "2021-01-21 13:00:00",
          "2021-01-21 14:00:00",
          "2021-01-21 15:00:00",
          "2021-01-21 16:00:00",
          "2021-01-21 17:00:00",
          "2021-01-21 18:00:00",
          "2021-01-21 19:00:00",
          "2021-01-21 20:00:00",
          "2021-01-22 07:00:00",
          "2021-01-22 08:00:00",
          "2021-01-22 09:00:00",
          "2021-01-22 10:00:00",
          "2021-01-22 11:00:00",
          "2021-01-22 12:00:00",
          "2021-01-22 13:00:00",
          "2021-01-22 14:00:00",
          "2021-01-22 15:00:00",
          "2021-01-22 16:00:00",
          "2021-01-22 17:00:00",
          "2021-01-22 18:00:00",
          "2021-01-22 19:00:00",
          "2021-01-22 20:00:00",
          "2021-01-23 07:00:00",
          "2021-01-23 08:00:00",
          "2021-01-23 09:00:00",
          "2021-01-23 10:00:00",
          "2021-01-23 11:00:00",
          "2021-01-23 12:00:00",
          "2021-01-23 13:00:00",
          "2021-01-23 14:00:00",
          "2021-01-23 15:00:00",
          "2021-01-23 16:00:00",
          "2021-01-23 17:00:00",
          "2021-01-23 18:00:00",
          "2021-01-23 19:00:00",
          "2021-01-23 20:00:00",
          "2021-01-24 07:00:00",
          "2021-01-24 08:00:00",
          "2021-01-24 09:00:00",
          "2021-01-24 10:00:00",
          "2021-01-24 11:00:00",
          "2021-01-24 12:00:00",
          "2021-01-24 13:00:00",
          "2021-01-24 14:00:00",
          "2021-01-24 15:00:00",
          "2021-01-24 16:00:00",
          "2021-01-24 17:00:00",
          "2021-01-24 18:00:00",
          "2021-01-24 19:00:00",
          "2021-01-24 20:00:00",
          "2021-01-25 07:00:00",
          "2021-01-25 08:00:00",
          "2021-01-25 09:00:00",
          "2021-01-25 10:00:00",
          "2021-01-25 11:00:00",
          "2021-01-25 12:00:00",
          "2021-01-25 13:00:00",
          "2021-01-25 14:00:00",
          "2021-01-25 15:00:00",
          "2021-01-25 16:00:00",
          "2021-01-25 17:00:00",
          "2021-01-25 18:00:00",
          "2021-01-25 19:00:00",
          "2021-01-25 20:00:00",
          "2021-01-26 07:00:00",
          "2021-01-26 08:00:00",
          "2021-01-26 09:00:00",
          "2021-01-26 10:00:00",
          "2021-01-26 11:00:00",
          "2021-01-26 12:00:00",
          "2021-01-26 13:00:00",
          "2021-01-26 14:00:00",
          "2021-01-26 15:00:00",
          "2021-01-26 16:00:00",
          "2021-01-26 17:00:00",
          "2021-01-26 18:00:00",
          "2021-01-26 19:00:00",
          "2021-01-26 20:00:00",
          "2021-01-27 07:00:00",
          "2021-01-27 08:00:00",
          "2021-01-27 09:00:00",
          "2021-01-27 10:00:00",
          "2021-01-27 11:00:00",
          "2021-01-27 12:00:00",
          "2021-01-27 13:00:00",
          "2021-01-27 14:00:00",
          "2021-01-27 15:00:00",
          "2021-01-27 16:00:00",
          "2021-01-27 17:00:00",
          "2021-01-27 18:00:00",
          "2021-01-27 19:00:00",
          "2021-01-27 20:00:00",
          "2021-01-28 07:00:00",
          "2021-01-28 08:00:00",
          "2021-01-28 09:00:00",
          "2021-01-28 10:00:00",
          "2021-01-28 11:00:00",
          "2021-01-28 12:00:00",
          "2021-01-28 13:00:00",
          "2021-01-28 14:00:00",
          "2021-01-28 15:00:00",
          "2021-01-28 16:00:00",
          "2021-01-28 17:00:00",
          "2021-01-28 18:00:00",
          "2021-01-28 19:00:00",
          "2021-01-28 20:00:00",
          "2021-01-29 07:00:00",
          "2021-01-29 08:00:00",
          "2021-01-29 09:00:00",
          "2021-01-29 10:00:00",
          "2021-01-29 11:00:00",
          "2021-01-29 12:00:00",
          "2021-01-29 13:00:00",
          "2021-01-29 14:00:00",
          "2021-01-29 15:00:00",
          "2021-01-29 16:00:00",
          "2021-01-29 17:00:00",
          "2021-01-29 18:00:00",
          "2021-01-29 19:00:00",
          "2021-01-29 20:00:00",
          "2021-01-30 07:00:00",
          "2021-01-30 08:00:00",
          "2021-01-30 09:00:00",
          "2021-01-30 10:00:00",
          "2021-01-30 11:00:00",
          "2021-01-30 12:00:00",
          "2021-01-30 13:00:00",
          "2021-01-30 14:00:00",
          "2021-01-30 15:00:00",
          "2021-01-30 16:00:00",
          "2021-01-30 17:00:00",
          "2021-01-30 18:00:00",
          "2021-01-30 19:00:00",
          "2021-01-30 20:00:00",
          "2021-01-31 07:00:00",
          "2021-01-31 08:00:00",
          "2021-01-31 09:00:00",
          "2021-01-31 10:00:00",
          "2021-01-31 11:00:00",
          "2021-01-31 12:00:00",
          "2021-01-31 13:00:00",
          "2021-01-31 14:00:00",
          "2021-01-31 15:00:00",
          "2021-01-31 16:00:00",
          "2021-01-31 17:00:00",
          "2021-01-31 18:00:00",
          "2021-01-31 19:00:00",
          "2021-01-31 20:00:00",
          "2021-02-01 07:00:00",
          "2021-02-01 08:00:00",
          "2021-02-01 09:00:00",
          "2021-02-01 10:00:00",
          "2021-02-01 11:00:00",
          "2021-02-01 12:00:00",
          "2021-02-01 13:00:00",
          "2021-02-01 14:00:00",
          "2021-02-01 15:00:00",
          "2021-02-01 16:00:00",
          "2021-02-01 17:00:00",
          "2021-02-01 18:00:00",
          "2021-02-01 19:00:00",
          "2021-02-01 20:00:00",
          "2021-02-02 07:00:00",
          "2021-02-02 08:00:00",
          "2021-02-02 09:00:00",
          "2021-02-02 10:00:00",
          "2021-02-02 11:00:00",
          "2021-02-02 12:00:00",
          "2021-02-02 13:00:00",
          "2021-02-02 14:00:00",
          "2021-02-02 15:00:00",
          "2021-02-02 16:00:00",
          "2021-02-02 17:00:00",
          "2021-02-02 18:00:00",
          "2021-02-02 19:00:00",
          "2021-02-02 20:00:00",
          "2021-02-03 07:00:00",
          "2021-02-03 08:00:00",
          "2021-02-03 09:00:00",
          "2021-02-03 10:00:00",
          "2021-02-03 11:00:00",
          "2021-02-03 12:00:00",
          "2021-02-03 13:00:00",
          "2021-02-03 14:00:00",
          "2021-02-03 15:00:00",
          "2021-02-03 16:00:00",
          "2021-02-03 17:00:00",
          "2021-02-03 18:00:00",
          "2021-02-03 19:00:00",
          "2021-02-03 20:00:00",
          "2021-02-04 07:00:00",
          "2021-02-04 08:00:00",
          "2021-02-04 09:00:00",
          "2021-02-04 10:00:00",
          "2021-02-04 11:00:00",
          "2021-02-04 12:00:00",
          "2021-02-04 13:00:00",
          "2021-02-04 14:00:00",
          "2021-02-04 15:00:00",
          "2021-02-04 16:00:00",
          "2021-02-04 17:00:00",
          "2021-02-04 18:00:00",
          "2021-02-04 19:00:00",
          "2021-02-04 20:00:00",
          "2021-02-05 07:00:00",
          "2021-02-05 08:00:00",
          "2021-02-05 09:00:00",
          "2021-02-05 10:00:00",
          "2021-02-05 11:00:00",
          "2021-02-05 12:00:00",
          "2021-02-05 13:00:00",
          "2021-02-05 14:00:00",
          "2021-02-05 15:00:00",
          "2021-02-05 16:00:00",
          "2021-02-05 17:00:00",
          "2021-02-05 18:00:00",
          "2021-02-05 19:00:00",
          "2021-02-05 20:00:00",
          "2021-02-06 07:00:00",
          "2021-02-06 08:00:00",
          "2021-02-06 09:00:00",
          "2021-02-06 10:00:00",
          "2021-02-06 11:00:00",
          "2021-02-06 12:00:00",
          "2021-02-06 13:00:00",
          "2021-02-06 14:00:00",
          "2021-02-06 15:00:00",
          "2021-02-06 16:00:00",
          "2021-02-06 17:00:00",
          "2021-02-06 18:00:00",
          "2021-02-06 19:00:00",
          "2021-02-06 20:00:00",
          "2021-02-07 07:00:00",
          "2021-02-07 08:00:00",
          "2021-02-07 09:00:00",
          "2021-02-07 10:00:00",
          "2021-02-07 11:00:00",
          "2021-02-07 12:00:00",
          "2021-02-07 13:00:00",
          "2021-02-07 14:00:00",
          "2021-02-07 15:00:00",
          "2021-02-07 16:00:00",
          "2021-02-07 17:00:00",
          "2021-02-07 18:00:00",
          "2021-02-07 19:00:00",
          "2021-02-07 20:00:00",
          "2021-02-08 07:00:00",
          "2021-02-08 08:00:00",
          "2021-02-08 09:00:00",
          "2021-02-08 10:00:00",
          "2021-02-08 11:00:00",
          "2021-02-08 12:00:00",
          "2021-02-08 13:00:00",
          "2021-02-08 14:00:00",
          "2021-02-08 15:00:00",
          "2021-02-08 16:00:00",
          "2021-02-08 17:00:00",
          "2021-02-08 18:00:00",
          "2021-02-08 19:00:00",
          "2021-02-08 20:00:00",
          "2021-02-09 07:00:00",
          "2021-02-09 08:00:00",
          "2021-02-09 09:00:00",
          "2021-02-09 10:00:00",
          "2021-02-09 11:00:00",
          "2021-02-09 12:00:00",
          "2021-02-09 13:00:00",
          "2021-02-09 14:00:00",
          "2021-02-09 15:00:00",
          "2021-02-09 16:00:00",
          "2021-02-09 17:00:00",
          "2021-02-09 18:00:00",
          "2021-02-09 19:00:00",
          "2021-02-09 20:00:00",
          "2021-02-10 07:00:00",
          "2021-02-10 08:00:00",
          "2021-02-10 09:00:00",
          "2021-02-10 10:00:00",
          "2021-02-10 11:00:00",
          "2021-02-10 12:00:00",
          "2021-02-10 13:00:00",
          "2021-02-10 14:00:00",
          "2021-02-10 15:00:00",
          "2021-02-10 16:00:00",
          "2021-02-10 17:00:00",
          "2021-02-10 18:00:00",
          "2021-02-10 19:00:00",
          "2021-02-10 20:00:00",
          "2021-02-11 07:00:00",
          "2021-02-11 08:00:00",
          "2021-02-11 09:00:00",
          "2021-02-11 10:00:00",
          "2021-02-11 11:00:00",
          "2021-02-11 12:00:00",
          "2021-02-11 13:00:00",
          "2021-02-11 14:00:00",
          "2021-02-11 15:00:00",
          "2021-02-11 16:00:00",
          "2021-02-11 17:00:00",
          "2021-02-11 18:00:00",
          "2021-02-11 19:00:00",
          "2021-02-11 20:00:00",
          "2021-02-12 07:00:00",
          "2021-02-12 08:00:00",
          "2021-02-12 09:00:00",
          "2021-02-12 10:00:00",
          "2021-02-12 11:00:00",
          "2021-02-12 12:00:00",
          "2021-02-12 13:00:00",
          "2021-02-12 14:00:00",
          "2021-02-12 15:00:00",
          "2021-02-12 16:00:00",
          "2021-02-12 17:00:00",
          "2021-02-12 18:00:00",
          "2021-02-12 19:00:00",
          "2021-02-12 20:00:00",
          "2021-02-13 07:00:00",
          "2021-02-13 08:00:00",
          "2021-02-13 09:00:00",
          "2021-02-13 10:00:00",
          "2021-02-13 11:00:00",
          "2021-02-13 12:00:00",
          "2021-02-13 13:00:00",
          "2021-02-13 14:00:00",
          "2021-02-13 15:00:00",
          "2021-02-13 16:00:00",
          "2021-02-13 17:00:00",
          "2021-02-13 18:00:00",
          "2021-02-13 19:00:00",
          "2021-02-13 20:00:00"
         ],
         "y": [
          94265.1171875,
          94265.1171875,
          94265.1171875,
          94265.1171875,
          145344.125,
          202210.296875,
          250272.75,
          262989.15625,
          282154.375,
          256574.484375,
          219071.03125,
          176550.546875,
          140206.375,
          94265.1171875,
          94265.1171875,
          94265.1171875,
          94265.1171875,
          94265.1171875,
          124091.96875,
          178378.78125,
          208481.65625,
          232318.734375,
          263882.125,
          258818.609375,
          226906.765625,
          188090.875,
          149729.34375,
          94265.1171875,
          94265.1171875,
          94265.1171875,
          94265.1171875,
          94265.1171875,
          145623.109375,
          216857.71875,
          258064.4375,
          293293.875,
          317968.9375,
          306236.59375,
          288410.3125,
          258612.703125,
          198286.203125,
          95287.9765625,
          94265.1171875,
          94265.1171875,
          94265.1171875,
          94265.1171875,
          138986.03125,
          198990.84375,
          237152.109375,
          263516.15625,
          276963.8125,
          266905.25,
          250482.546875,
          219907.421875,
          172037.828125,
          94265.1171875,
          94265.1171875,
          94265.1171875,
          94265.1171875,
          94265.1171875,
          138134.109375,
          195905.34375,
          240812.328125,
          286701.125,
          287395.78125,
          263553.9375,
          257068.90625,
          223652.21875,
          160431.09375,
          94265.1171875,
          94265.1171875,
          94265.1171875,
          94265.1171875,
          94265.1171875,
          113586.3515625,
          190647.109375,
          237713.0625,
          276122.375,
          276321.125,
          287167.375,
          276225.15625,
          251048.453125,
          173696.34375,
          94265.1171875,
          94265.1171875,
          94265.1171875,
          94265.1171875,
          94265.1171875,
          134123.03125,
          212766.171875,
          274722,
          306651.59375,
          292439.15625,
          286251.53125,
          256723.671875,
          217279.234375,
          157163.0625,
          94265.1171875,
          94265.1171875,
          94265.1171875,
          94265.1171875,
          94265.1171875,
          169850.859375,
          242196.09375,
          287810.40625,
          312528.1875,
          311137.4375,
          302087.6875,
          261355.359375,
          218120.4375,
          148450.515625,
          94265.1171875,
          94265.1171875,
          94265.1171875,
          94265.1171875,
          94265.1171875,
          158384.453125,
          238398.15625,
          290777.21875,
          308132.5,
          308925.84375,
          287029.40625,
          260966.59375,
          227391.375,
          165844.453125,
          94265.1171875,
          94265.1171875,
          94265.1171875,
          94265.1171875,
          115225.0234375,
          178666.921875,
          240230.296875,
          279771.625,
          293283.78125,
          292416.375,
          272327.21875,
          251672.3125,
          206558.0625,
          152052.34375,
          94265.1171875,
          94265.1171875,
          94265.1171875,
          94265.1171875,
          94265.1171875,
          137100.75,
          197083.546875,
          241873.578125,
          270875.34375,
          275321.65625,
          257107.484375,
          241511.515625,
          211294.15625,
          148526.0625,
          94265.1171875,
          94265.1171875,
          94265.1171875,
          94265.1171875,
          94265.1171875,
          137059.890625,
          193413.25,
          236206.03125,
          260732.34375,
          275000.40625,
          263498.125,
          239705.859375,
          192662.65625,
          142813.171875,
          94265.1171875,
          94265.1171875,
          94265.1171875,
          94265.1171875,
          96304.234375,
          160465.78125,
          214587.953125,
          244675.15625,
          267533.09375,
          292180.96875,
          279097.53125,
          262169.46875,
          220373.140625,
          162320.265625,
          94265.1171875,
          94265.1171875,
          94265.1171875,
          94265.1171875,
          94265.1171875,
          129699.4375,
          191281.71875,
          235964.953125,
          273052.5625,
          283037.125,
          286125.84375,
          287099.84375,
          259705.640625,
          193145.265625,
          102922.1171875,
          94265.1171875,
          94265.1171875,
          94265.1171875,
          94265.1171875,
          135083,
          194174.75,
          236064.78125,
          280803.9375,
          279113.03125,
          280636.09375,
          265386.71875,
          228693.578125,
          165517.5,
          94265.1171875,
          94265.1171875,
          94265.1171875,
          94265.1171875,
          94265.1171875,
          116976.453125,
          183577.53125,
          225814.34375,
          278472,
          300745.5,
          306323.9375,
          282871.875,
          245243.921875,
          181507.59375,
          94265.1171875,
          94265.1171875,
          94265.1171875,
          94265.1171875,
          94265.1171875,
          119039.7265625,
          187232.375,
          225578.3125,
          268649.03125,
          294904.1875,
          308462.96875,
          291943.15625,
          258494.328125,
          186860.90625,
          94265.1171875,
          94265.1171875,
          94265.1171875,
          94265.1171875,
          94265.1171875,
          163190.21875,
          229435.25,
          268402.96875,
          291129.34375,
          301653.21875,
          296772.28125,
          273379.5625,
          244366.859375,
          177107.265625,
          94265.1171875,
          94265.1171875,
          94265.1171875,
          94265.1171875,
          94265.1171875,
          143696.296875,
          211154.3125,
          253701.625,
          287271.40625,
          292410.125,
          282755.375,
          280743.84375,
          251529.65625,
          177649.484375,
          94265.1171875,
          94265.1171875,
          94265.1171875,
          94265.1171875,
          94265.1171875,
          128926.015625,
          196950.59375,
          237183,
          271500.625,
          273400.3125,
          288960.59375,
          298279.3125,
          269278.875,
          188405.328125,
          94265.1171875,
          94265.1171875,
          94265.1171875,
          94265.1171875,
          94265.1171875,
          139807.5,
          211546.921875,
          267351.4375,
          299608.25,
          308732.375,
          307993.84375,
          290816.59375,
          253637.28125,
          184930.875,
          94265.1171875,
          94265.1171875,
          94265.1171875,
          94265.1171875,
          94265.1171875,
          160817.671875,
          225109.8125,
          269709.6875,
          300995.03125,
          315906.53125,
          307019.6875,
          287169.125,
          254053.625,
          195902.421875,
          115031.671875,
          94265.1171875,
          94265.1171875,
          94265.1171875,
          123107.8515625,
          199597.765625,
          251501.09375,
          285039.96875,
          310773.15625,
          313845.6875,
          304441.0625,
          283128.125,
          252373.828125,
          194448.578125,
          99009.7578125,
          94265.1171875,
          94265.1171875,
          94265.1171875,
          117324.34375,
          179060.703125,
          242304.5625,
          287731.40625,
          321438.375,
          333519.09375,
          337338.21875,
          321434.0625,
          287954.21875,
          211935.28125,
          98054.3203125,
          94265.1171875,
          94265.1171875,
          94265.1171875,
          101790.796875,
          159800.40625,
          235458.03125,
          285225.78125,
          322786.375,
          327480.0625,
          321260.03125,
          299491.46875,
          273417.3125,
          206807.265625,
          117385.0078125,
          94265.1171875,
          94265.1171875,
          94265.1171875,
          94265.1171875,
          157898.78125,
          219523.8125,
          250510.328125,
          274635.28125,
          283087.53125,
          286619.15625,
          271704.375,
          235217.34375,
          172802,
          94265.1171875,
          94265.1171875,
          94265.1171875,
          94265.1171875,
          94265.1171875,
          158251.515625,
          228139.078125,
          274822.96875,
          310731.6875,
          328388.9375,
          327484.78125,
          306633.71875,
          268552,
          190284.78125,
          94265.1171875,
          94265.1171875,
          94265.1171875,
          94265.1171875,
          94265.1171875,
          144419.046875,
          208855.9375,
          248793.484375,
          261262.0625,
          277520.875,
          284197.125,
          280948.96875,
          235251.765625,
          160015.015625,
          94265.1171875,
          94265.1171875,
          94265.1171875,
          94265.1171875,
          94265.1171875,
          122097.7734375,
          172929.328125,
          207306.0625,
          228526.75,
          249418.375,
          245298.453125,
          236821.96875,
          198877.03125,
          127074.015625,
          94265.1171875,
          94265.1171875,
          94265.1171875,
          94265.1171875,
          94265.1171875,
          94265.1171875,
          108139.3828125,
          124211.1328125,
          140946.140625,
          154489.6875,
          172079.0625,
          172209.265625,
          149547.84375,
          98228.84375,
          94265.1171875,
          94265.1171875,
          94265.1171875,
          94265.1171875,
          94265.1171875,
          108491.9375,
          159996.109375,
          191360.5625,
          222950.390625,
          235137.75,
          232118.78125,
          231214.140625,
          185098.78125,
          125510.53125,
          94265.1171875,
          94265.1171875,
          94265.1171875,
          94265.1171875,
          94265.1171875,
          125506.03125,
          165959.609375,
          202885.28125,
          220055.03125,
          250508.578125,
          232959.40625,
          221078.96875,
          172016.515625,
          121612.765625,
          94265.1171875,
          94265.1171875,
          94265.1171875,
          94265.1171875,
          94265.1171875,
          144940,
          183964.515625,
          208792.046875,
          232915.859375,
          258151.296875,
          255783.1875,
          254762.9375,
          220048.65625,
          163798.859375,
          97661.1171875,
          94265.1171875,
          94265.1171875,
          94265.1171875,
          94265.1171875,
          131969.140625,
          195774.359375,
          207604.234375,
          223231.1875,
          221420.328125,
          234202.78125,
          234651.0625,
          219453.53125,
          167232.34375,
          103603.7265625,
          94265.1171875,
          94265.1171875,
          94265.1171875,
          94265.1171875,
          126048.828125,
          184958.671875,
          195935.578125,
          223363.53125,
          224519.4375,
          239727.921875,
          236697.078125,
          234782.4375,
          176830.734375,
          100933.875,
          94265.1171875,
          94265.1171875,
          94265.1171875,
          94265.1171875,
          154417.953125,
          215913.953125,
          251278.09375,
          271857.03125,
          283038.65625,
          281305.6875,
          271678.40625,
          256150.6875,
          194305.328125,
          111703.25
         ]
        }
       ],
       "layout": {
        "template": {
         "data": {
          "bar": [
           {
            "error_x": {
             "color": "#2a3f5f"
            },
            "error_y": {
             "color": "#2a3f5f"
            },
            "marker": {
             "line": {
              "color": "#E5ECF6",
              "width": 0.5
             }
            },
            "type": "bar"
           }
          ],
          "barpolar": [
           {
            "marker": {
             "line": {
              "color": "#E5ECF6",
              "width": 0.5
             }
            },
            "type": "barpolar"
           }
          ],
          "carpet": [
           {
            "aaxis": {
             "endlinecolor": "#2a3f5f",
             "gridcolor": "white",
             "linecolor": "white",
             "minorgridcolor": "white",
             "startlinecolor": "#2a3f5f"
            },
            "baxis": {
             "endlinecolor": "#2a3f5f",
             "gridcolor": "white",
             "linecolor": "white",
             "minorgridcolor": "white",
             "startlinecolor": "#2a3f5f"
            },
            "type": "carpet"
           }
          ],
          "choropleth": [
           {
            "colorbar": {
             "outlinewidth": 0,
             "ticks": ""
            },
            "type": "choropleth"
           }
          ],
          "contour": [
           {
            "colorbar": {
             "outlinewidth": 0,
             "ticks": ""
            },
            "colorscale": [
             [
              0,
              "#0d0887"
             ],
             [
              0.1111111111111111,
              "#46039f"
             ],
             [
              0.2222222222222222,
              "#7201a8"
             ],
             [
              0.3333333333333333,
              "#9c179e"
             ],
             [
              0.4444444444444444,
              "#bd3786"
             ],
             [
              0.5555555555555556,
              "#d8576b"
             ],
             [
              0.6666666666666666,
              "#ed7953"
             ],
             [
              0.7777777777777778,
              "#fb9f3a"
             ],
             [
              0.8888888888888888,
              "#fdca26"
             ],
             [
              1,
              "#f0f921"
             ]
            ],
            "type": "contour"
           }
          ],
          "contourcarpet": [
           {
            "colorbar": {
             "outlinewidth": 0,
             "ticks": ""
            },
            "type": "contourcarpet"
           }
          ],
          "heatmap": [
           {
            "colorbar": {
             "outlinewidth": 0,
             "ticks": ""
            },
            "colorscale": [
             [
              0,
              "#0d0887"
             ],
             [
              0.1111111111111111,
              "#46039f"
             ],
             [
              0.2222222222222222,
              "#7201a8"
             ],
             [
              0.3333333333333333,
              "#9c179e"
             ],
             [
              0.4444444444444444,
              "#bd3786"
             ],
             [
              0.5555555555555556,
              "#d8576b"
             ],
             [
              0.6666666666666666,
              "#ed7953"
             ],
             [
              0.7777777777777778,
              "#fb9f3a"
             ],
             [
              0.8888888888888888,
              "#fdca26"
             ],
             [
              1,
              "#f0f921"
             ]
            ],
            "type": "heatmap"
           }
          ],
          "heatmapgl": [
           {
            "colorbar": {
             "outlinewidth": 0,
             "ticks": ""
            },
            "colorscale": [
             [
              0,
              "#0d0887"
             ],
             [
              0.1111111111111111,
              "#46039f"
             ],
             [
              0.2222222222222222,
              "#7201a8"
             ],
             [
              0.3333333333333333,
              "#9c179e"
             ],
             [
              0.4444444444444444,
              "#bd3786"
             ],
             [
              0.5555555555555556,
              "#d8576b"
             ],
             [
              0.6666666666666666,
              "#ed7953"
             ],
             [
              0.7777777777777778,
              "#fb9f3a"
             ],
             [
              0.8888888888888888,
              "#fdca26"
             ],
             [
              1,
              "#f0f921"
             ]
            ],
            "type": "heatmapgl"
           }
          ],
          "histogram": [
           {
            "marker": {
             "colorbar": {
              "outlinewidth": 0,
              "ticks": ""
             }
            },
            "type": "histogram"
           }
          ],
          "histogram2d": [
           {
            "colorbar": {
             "outlinewidth": 0,
             "ticks": ""
            },
            "colorscale": [
             [
              0,
              "#0d0887"
             ],
             [
              0.1111111111111111,
              "#46039f"
             ],
             [
              0.2222222222222222,
              "#7201a8"
             ],
             [
              0.3333333333333333,
              "#9c179e"
             ],
             [
              0.4444444444444444,
              "#bd3786"
             ],
             [
              0.5555555555555556,
              "#d8576b"
             ],
             [
              0.6666666666666666,
              "#ed7953"
             ],
             [
              0.7777777777777778,
              "#fb9f3a"
             ],
             [
              0.8888888888888888,
              "#fdca26"
             ],
             [
              1,
              "#f0f921"
             ]
            ],
            "type": "histogram2d"
           }
          ],
          "histogram2dcontour": [
           {
            "colorbar": {
             "outlinewidth": 0,
             "ticks": ""
            },
            "colorscale": [
             [
              0,
              "#0d0887"
             ],
             [
              0.1111111111111111,
              "#46039f"
             ],
             [
              0.2222222222222222,
              "#7201a8"
             ],
             [
              0.3333333333333333,
              "#9c179e"
             ],
             [
              0.4444444444444444,
              "#bd3786"
             ],
             [
              0.5555555555555556,
              "#d8576b"
             ],
             [
              0.6666666666666666,
              "#ed7953"
             ],
             [
              0.7777777777777778,
              "#fb9f3a"
             ],
             [
              0.8888888888888888,
              "#fdca26"
             ],
             [
              1,
              "#f0f921"
             ]
            ],
            "type": "histogram2dcontour"
           }
          ],
          "mesh3d": [
           {
            "colorbar": {
             "outlinewidth": 0,
             "ticks": ""
            },
            "type": "mesh3d"
           }
          ],
          "parcoords": [
           {
            "line": {
             "colorbar": {
              "outlinewidth": 0,
              "ticks": ""
             }
            },
            "type": "parcoords"
           }
          ],
          "pie": [
           {
            "automargin": true,
            "type": "pie"
           }
          ],
          "scatter": [
           {
            "marker": {
             "colorbar": {
              "outlinewidth": 0,
              "ticks": ""
             }
            },
            "type": "scatter"
           }
          ],
          "scatter3d": [
           {
            "line": {
             "colorbar": {
              "outlinewidth": 0,
              "ticks": ""
             }
            },
            "marker": {
             "colorbar": {
              "outlinewidth": 0,
              "ticks": ""
             }
            },
            "type": "scatter3d"
           }
          ],
          "scattercarpet": [
           {
            "marker": {
             "colorbar": {
              "outlinewidth": 0,
              "ticks": ""
             }
            },
            "type": "scattercarpet"
           }
          ],
          "scattergeo": [
           {
            "marker": {
             "colorbar": {
              "outlinewidth": 0,
              "ticks": ""
             }
            },
            "type": "scattergeo"
           }
          ],
          "scattergl": [
           {
            "marker": {
             "colorbar": {
              "outlinewidth": 0,
              "ticks": ""
             }
            },
            "type": "scattergl"
           }
          ],
          "scattermapbox": [
           {
            "marker": {
             "colorbar": {
              "outlinewidth": 0,
              "ticks": ""
             }
            },
            "type": "scattermapbox"
           }
          ],
          "scatterpolar": [
           {
            "marker": {
             "colorbar": {
              "outlinewidth": 0,
              "ticks": ""
             }
            },
            "type": "scatterpolar"
           }
          ],
          "scatterpolargl": [
           {
            "marker": {
             "colorbar": {
              "outlinewidth": 0,
              "ticks": ""
             }
            },
            "type": "scatterpolargl"
           }
          ],
          "scatterternary": [
           {
            "marker": {
             "colorbar": {
              "outlinewidth": 0,
              "ticks": ""
             }
            },
            "type": "scatterternary"
           }
          ],
          "surface": [
           {
            "colorbar": {
             "outlinewidth": 0,
             "ticks": ""
            },
            "colorscale": [
             [
              0,
              "#0d0887"
             ],
             [
              0.1111111111111111,
              "#46039f"
             ],
             [
              0.2222222222222222,
              "#7201a8"
             ],
             [
              0.3333333333333333,
              "#9c179e"
             ],
             [
              0.4444444444444444,
              "#bd3786"
             ],
             [
              0.5555555555555556,
              "#d8576b"
             ],
             [
              0.6666666666666666,
              "#ed7953"
             ],
             [
              0.7777777777777778,
              "#fb9f3a"
             ],
             [
              0.8888888888888888,
              "#fdca26"
             ],
             [
              1,
              "#f0f921"
             ]
            ],
            "type": "surface"
           }
          ],
          "table": [
           {
            "cells": {
             "fill": {
              "color": "#EBF0F8"
             },
             "line": {
              "color": "white"
             }
            },
            "header": {
             "fill": {
              "color": "#C8D4E3"
             },
             "line": {
              "color": "white"
             }
            },
            "type": "table"
           }
          ]
         },
         "layout": {
          "annotationdefaults": {
           "arrowcolor": "#2a3f5f",
           "arrowhead": 0,
           "arrowwidth": 1
          },
          "autotypenumbers": "strict",
          "coloraxis": {
           "colorbar": {
            "outlinewidth": 0,
            "ticks": ""
           }
          },
          "colorscale": {
           "diverging": [
            [
             0,
             "#8e0152"
            ],
            [
             0.1,
             "#c51b7d"
            ],
            [
             0.2,
             "#de77ae"
            ],
            [
             0.3,
             "#f1b6da"
            ],
            [
             0.4,
             "#fde0ef"
            ],
            [
             0.5,
             "#f7f7f7"
            ],
            [
             0.6,
             "#e6f5d0"
            ],
            [
             0.7,
             "#b8e186"
            ],
            [
             0.8,
             "#7fbc41"
            ],
            [
             0.9,
             "#4d9221"
            ],
            [
             1,
             "#276419"
            ]
           ],
           "sequential": [
            [
             0,
             "#0d0887"
            ],
            [
             0.1111111111111111,
             "#46039f"
            ],
            [
             0.2222222222222222,
             "#7201a8"
            ],
            [
             0.3333333333333333,
             "#9c179e"
            ],
            [
             0.4444444444444444,
             "#bd3786"
            ],
            [
             0.5555555555555556,
             "#d8576b"
            ],
            [
             0.6666666666666666,
             "#ed7953"
            ],
            [
             0.7777777777777778,
             "#fb9f3a"
            ],
            [
             0.8888888888888888,
             "#fdca26"
            ],
            [
             1,
             "#f0f921"
            ]
           ],
           "sequentialminus": [
            [
             0,
             "#0d0887"
            ],
            [
             0.1111111111111111,
             "#46039f"
            ],
            [
             0.2222222222222222,
             "#7201a8"
            ],
            [
             0.3333333333333333,
             "#9c179e"
            ],
            [
             0.4444444444444444,
             "#bd3786"
            ],
            [
             0.5555555555555556,
             "#d8576b"
            ],
            [
             0.6666666666666666,
             "#ed7953"
            ],
            [
             0.7777777777777778,
             "#fb9f3a"
            ],
            [
             0.8888888888888888,
             "#fdca26"
            ],
            [
             1,
             "#f0f921"
            ]
           ]
          },
          "colorway": [
           "#636efa",
           "#EF553B",
           "#00cc96",
           "#ab63fa",
           "#FFA15A",
           "#19d3f3",
           "#FF6692",
           "#B6E880",
           "#FF97FF",
           "#FECB52"
          ],
          "font": {
           "color": "#2a3f5f"
          },
          "geo": {
           "bgcolor": "white",
           "lakecolor": "white",
           "landcolor": "#E5ECF6",
           "showlakes": true,
           "showland": true,
           "subunitcolor": "white"
          },
          "hoverlabel": {
           "align": "left"
          },
          "hovermode": "closest",
          "mapbox": {
           "style": "light"
          },
          "paper_bgcolor": "white",
          "plot_bgcolor": "#E5ECF6",
          "polar": {
           "angularaxis": {
            "gridcolor": "white",
            "linecolor": "white",
            "ticks": ""
           },
           "bgcolor": "#E5ECF6",
           "radialaxis": {
            "gridcolor": "white",
            "linecolor": "white",
            "ticks": ""
           }
          },
          "scene": {
           "xaxis": {
            "backgroundcolor": "#E5ECF6",
            "gridcolor": "white",
            "gridwidth": 2,
            "linecolor": "white",
            "showbackground": true,
            "ticks": "",
            "zerolinecolor": "white"
           },
           "yaxis": {
            "backgroundcolor": "#E5ECF6",
            "gridcolor": "white",
            "gridwidth": 2,
            "linecolor": "white",
            "showbackground": true,
            "ticks": "",
            "zerolinecolor": "white"
           },
           "zaxis": {
            "backgroundcolor": "#E5ECF6",
            "gridcolor": "white",
            "gridwidth": 2,
            "linecolor": "white",
            "showbackground": true,
            "ticks": "",
            "zerolinecolor": "white"
           }
          },
          "shapedefaults": {
           "line": {
            "color": "#2a3f5f"
           }
          },
          "ternary": {
           "aaxis": {
            "gridcolor": "white",
            "linecolor": "white",
            "ticks": ""
           },
           "baxis": {
            "gridcolor": "white",
            "linecolor": "white",
            "ticks": ""
           },
           "bgcolor": "#E5ECF6",
           "caxis": {
            "gridcolor": "white",
            "linecolor": "white",
            "ticks": ""
           }
          },
          "title": {
           "x": 0.05
          },
          "xaxis": {
           "automargin": true,
           "gridcolor": "white",
           "linecolor": "white",
           "ticks": "",
           "title": {
            "standoff": 15
           },
           "zerolinecolor": "white",
           "zerolinewidth": 2
          },
          "yaxis": {
           "automargin": true,
           "gridcolor": "white",
           "linecolor": "white",
           "ticks": "",
           "title": {
            "standoff": 15
           },
           "zerolinecolor": "white",
           "zerolinewidth": 2
          }
         }
        }
       }
      },
      "text/html": [
       "<div>                            <div id=\"2cd778e7-6c55-415a-b0dc-141f660ebcd7\" class=\"plotly-graph-div\" style=\"height:525px; width:100%;\"></div>            <script type=\"text/javascript\">                require([\"plotly\"], function(Plotly) {                    window.PLOTLYENV=window.PLOTLYENV || {};                                    if (document.getElementById(\"2cd778e7-6c55-415a-b0dc-141f660ebcd7\")) {                    Plotly.newPlot(                        \"2cd778e7-6c55-415a-b0dc-141f660ebcd7\",                        [{\"name\": \"actual\", \"type\": \"scatter\", \"x\": [\"2021-01-09 07:00:00\", \"2021-01-09 08:00:00\", \"2021-01-09 09:00:00\", \"2021-01-09 10:00:00\", \"2021-01-09 11:00:00\", \"2021-01-09 12:00:00\", \"2021-01-09 13:00:00\", \"2021-01-09 14:00:00\", \"2021-01-09 15:00:00\", \"2021-01-09 16:00:00\", \"2021-01-09 17:00:00\", \"2021-01-09 18:00:00\", \"2021-01-09 19:00:00\", \"2021-01-09 20:00:00\", \"2021-01-10 07:00:00\", \"2021-01-10 08:00:00\", \"2021-01-10 09:00:00\", \"2021-01-10 10:00:00\", \"2021-01-10 11:00:00\", \"2021-01-10 12:00:00\", \"2021-01-10 13:00:00\", \"2021-01-10 14:00:00\", \"2021-01-10 15:00:00\", \"2021-01-10 16:00:00\", \"2021-01-10 17:00:00\", \"2021-01-10 18:00:00\", \"2021-01-10 19:00:00\", \"2021-01-10 20:00:00\", \"2021-01-11 07:00:00\", \"2021-01-11 08:00:00\", \"2021-01-11 09:00:00\", \"2021-01-11 10:00:00\", \"2021-01-11 11:00:00\", \"2021-01-11 12:00:00\", \"2021-01-11 13:00:00\", \"2021-01-11 14:00:00\", \"2021-01-11 15:00:00\", \"2021-01-11 16:00:00\", \"2021-01-11 17:00:00\", \"2021-01-11 18:00:00\", \"2021-01-11 19:00:00\", \"2021-01-11 20:00:00\", \"2021-01-12 07:00:00\", \"2021-01-12 08:00:00\", \"2021-01-12 09:00:00\", \"2021-01-12 10:00:00\", \"2021-01-12 11:00:00\", \"2021-01-12 12:00:00\", \"2021-01-12 13:00:00\", \"2021-01-12 14:00:00\", \"2021-01-12 15:00:00\", \"2021-01-12 16:00:00\", \"2021-01-12 17:00:00\", \"2021-01-12 18:00:00\", \"2021-01-12 19:00:00\", \"2021-01-12 20:00:00\", \"2021-01-13 07:00:00\", \"2021-01-13 08:00:00\", \"2021-01-13 09:00:00\", \"2021-01-13 10:00:00\", \"2021-01-13 11:00:00\", \"2021-01-13 12:00:00\", \"2021-01-13 13:00:00\", \"2021-01-13 14:00:00\", \"2021-01-13 15:00:00\", \"2021-01-13 16:00:00\", \"2021-01-13 17:00:00\", \"2021-01-13 18:00:00\", \"2021-01-13 19:00:00\", \"2021-01-13 20:00:00\", \"2021-01-14 07:00:00\", \"2021-01-14 08:00:00\", \"2021-01-14 09:00:00\", \"2021-01-14 10:00:00\", \"2021-01-14 11:00:00\", \"2021-01-14 12:00:00\", \"2021-01-14 13:00:00\", \"2021-01-14 14:00:00\", \"2021-01-14 15:00:00\", \"2021-01-14 16:00:00\", \"2021-01-14 17:00:00\", \"2021-01-14 18:00:00\", \"2021-01-14 19:00:00\", \"2021-01-14 20:00:00\", \"2021-01-15 07:00:00\", \"2021-01-15 08:00:00\", \"2021-01-15 09:00:00\", \"2021-01-15 10:00:00\", \"2021-01-15 11:00:00\", \"2021-01-15 12:00:00\", \"2021-01-15 13:00:00\", \"2021-01-15 14:00:00\", \"2021-01-15 15:00:00\", \"2021-01-15 16:00:00\", \"2021-01-15 17:00:00\", \"2021-01-15 18:00:00\", \"2021-01-15 19:00:00\", \"2021-01-15 20:00:00\", \"2021-01-16 07:00:00\", \"2021-01-16 08:00:00\", \"2021-01-16 09:00:00\", \"2021-01-16 10:00:00\", \"2021-01-16 11:00:00\", \"2021-01-16 12:00:00\", \"2021-01-16 13:00:00\", \"2021-01-16 14:00:00\", \"2021-01-16 15:00:00\", \"2021-01-16 16:00:00\", \"2021-01-16 17:00:00\", \"2021-01-16 18:00:00\", \"2021-01-16 19:00:00\", \"2021-01-16 20:00:00\", \"2021-01-17 07:00:00\", \"2021-01-17 08:00:00\", \"2021-01-17 09:00:00\", \"2021-01-17 10:00:00\", \"2021-01-17 11:00:00\", \"2021-01-17 12:00:00\", \"2021-01-17 13:00:00\", \"2021-01-17 14:00:00\", \"2021-01-17 15:00:00\", \"2021-01-17 16:00:00\", \"2021-01-17 17:00:00\", \"2021-01-17 18:00:00\", \"2021-01-17 19:00:00\", \"2021-01-17 20:00:00\", \"2021-01-18 07:00:00\", \"2021-01-18 08:00:00\", \"2021-01-18 09:00:00\", \"2021-01-18 10:00:00\", \"2021-01-18 11:00:00\", \"2021-01-18 12:00:00\", \"2021-01-18 13:00:00\", \"2021-01-18 14:00:00\", \"2021-01-18 15:00:00\", \"2021-01-18 16:00:00\", \"2021-01-18 17:00:00\", \"2021-01-18 18:00:00\", \"2021-01-18 19:00:00\", \"2021-01-18 20:00:00\", \"2021-01-19 07:00:00\", \"2021-01-19 08:00:00\", \"2021-01-19 09:00:00\", \"2021-01-19 10:00:00\", \"2021-01-19 11:00:00\", \"2021-01-19 12:00:00\", \"2021-01-19 13:00:00\", \"2021-01-19 14:00:00\", \"2021-01-19 15:00:00\", \"2021-01-19 16:00:00\", \"2021-01-19 17:00:00\", \"2021-01-19 18:00:00\", \"2021-01-19 19:00:00\", \"2021-01-19 20:00:00\", \"2021-01-20 07:00:00\", \"2021-01-20 08:00:00\", \"2021-01-20 09:00:00\", \"2021-01-20 10:00:00\", \"2021-01-20 11:00:00\", \"2021-01-20 12:00:00\", \"2021-01-20 13:00:00\", \"2021-01-20 14:00:00\", \"2021-01-20 15:00:00\", \"2021-01-20 16:00:00\", \"2021-01-20 17:00:00\", \"2021-01-20 18:00:00\", \"2021-01-20 19:00:00\", \"2021-01-20 20:00:00\", \"2021-01-21 07:00:00\", \"2021-01-21 08:00:00\", \"2021-01-21 09:00:00\", \"2021-01-21 10:00:00\", \"2021-01-21 11:00:00\", \"2021-01-21 12:00:00\", \"2021-01-21 13:00:00\", \"2021-01-21 14:00:00\", \"2021-01-21 15:00:00\", \"2021-01-21 16:00:00\", \"2021-01-21 17:00:00\", \"2021-01-21 18:00:00\", \"2021-01-21 19:00:00\", \"2021-01-21 20:00:00\", \"2021-01-22 07:00:00\", \"2021-01-22 08:00:00\", \"2021-01-22 09:00:00\", \"2021-01-22 10:00:00\", \"2021-01-22 11:00:00\", \"2021-01-22 12:00:00\", \"2021-01-22 13:00:00\", \"2021-01-22 14:00:00\", \"2021-01-22 15:00:00\", \"2021-01-22 16:00:00\", \"2021-01-22 17:00:00\", \"2021-01-22 18:00:00\", \"2021-01-22 19:00:00\", \"2021-01-22 20:00:00\", \"2021-01-23 07:00:00\", \"2021-01-23 08:00:00\", \"2021-01-23 09:00:00\", \"2021-01-23 10:00:00\", \"2021-01-23 11:00:00\", \"2021-01-23 12:00:00\", \"2021-01-23 13:00:00\", \"2021-01-23 14:00:00\", \"2021-01-23 15:00:00\", \"2021-01-23 16:00:00\", \"2021-01-23 17:00:00\", \"2021-01-23 18:00:00\", \"2021-01-23 19:00:00\", \"2021-01-23 20:00:00\", \"2021-01-24 07:00:00\", \"2021-01-24 08:00:00\", \"2021-01-24 09:00:00\", \"2021-01-24 10:00:00\", \"2021-01-24 11:00:00\", \"2021-01-24 12:00:00\", \"2021-01-24 13:00:00\", \"2021-01-24 14:00:00\", \"2021-01-24 15:00:00\", \"2021-01-24 16:00:00\", \"2021-01-24 17:00:00\", \"2021-01-24 18:00:00\", \"2021-01-24 19:00:00\", \"2021-01-24 20:00:00\", \"2021-01-25 07:00:00\", \"2021-01-25 08:00:00\", \"2021-01-25 09:00:00\", \"2021-01-25 10:00:00\", \"2021-01-25 11:00:00\", \"2021-01-25 12:00:00\", \"2021-01-25 13:00:00\", \"2021-01-25 14:00:00\", \"2021-01-25 15:00:00\", \"2021-01-25 16:00:00\", \"2021-01-25 17:00:00\", \"2021-01-25 18:00:00\", \"2021-01-25 19:00:00\", \"2021-01-25 20:00:00\", \"2021-01-26 07:00:00\", \"2021-01-26 08:00:00\", \"2021-01-26 09:00:00\", \"2021-01-26 10:00:00\", \"2021-01-26 11:00:00\", \"2021-01-26 12:00:00\", \"2021-01-26 13:00:00\", \"2021-01-26 14:00:00\", \"2021-01-26 15:00:00\", \"2021-01-26 16:00:00\", \"2021-01-26 17:00:00\", \"2021-01-26 18:00:00\", \"2021-01-26 19:00:00\", \"2021-01-26 20:00:00\", \"2021-01-27 07:00:00\", \"2021-01-27 08:00:00\", \"2021-01-27 09:00:00\", \"2021-01-27 10:00:00\", \"2021-01-27 11:00:00\", \"2021-01-27 12:00:00\", \"2021-01-27 13:00:00\", \"2021-01-27 14:00:00\", \"2021-01-27 15:00:00\", \"2021-01-27 16:00:00\", \"2021-01-27 17:00:00\", \"2021-01-27 18:00:00\", \"2021-01-27 19:00:00\", \"2021-01-27 20:00:00\", \"2021-01-28 07:00:00\", \"2021-01-28 08:00:00\", \"2021-01-28 09:00:00\", \"2021-01-28 10:00:00\", \"2021-01-28 11:00:00\", \"2021-01-28 12:00:00\", \"2021-01-28 13:00:00\", \"2021-01-28 14:00:00\", \"2021-01-28 15:00:00\", \"2021-01-28 16:00:00\", \"2021-01-28 17:00:00\", \"2021-01-28 18:00:00\", \"2021-01-28 19:00:00\", \"2021-01-28 20:00:00\", \"2021-01-29 07:00:00\", \"2021-01-29 08:00:00\", \"2021-01-29 09:00:00\", \"2021-01-29 10:00:00\", \"2021-01-29 11:00:00\", \"2021-01-29 12:00:00\", \"2021-01-29 13:00:00\", \"2021-01-29 14:00:00\", \"2021-01-29 15:00:00\", \"2021-01-29 16:00:00\", \"2021-01-29 17:00:00\", \"2021-01-29 18:00:00\", \"2021-01-29 19:00:00\", \"2021-01-29 20:00:00\", \"2021-01-30 07:00:00\", \"2021-01-30 08:00:00\", \"2021-01-30 09:00:00\", \"2021-01-30 10:00:00\", \"2021-01-30 11:00:00\", \"2021-01-30 12:00:00\", \"2021-01-30 13:00:00\", \"2021-01-30 14:00:00\", \"2021-01-30 15:00:00\", \"2021-01-30 16:00:00\", \"2021-01-30 17:00:00\", \"2021-01-30 18:00:00\", \"2021-01-30 19:00:00\", \"2021-01-30 20:00:00\", \"2021-01-31 07:00:00\", \"2021-01-31 08:00:00\", \"2021-01-31 09:00:00\", \"2021-01-31 10:00:00\", \"2021-01-31 11:00:00\", \"2021-01-31 12:00:00\", \"2021-01-31 13:00:00\", \"2021-01-31 14:00:00\", \"2021-01-31 15:00:00\", \"2021-01-31 16:00:00\", \"2021-01-31 17:00:00\", \"2021-01-31 18:00:00\", \"2021-01-31 19:00:00\", \"2021-01-31 20:00:00\", \"2021-02-01 07:00:00\", \"2021-02-01 08:00:00\", \"2021-02-01 09:00:00\", \"2021-02-01 10:00:00\", \"2021-02-01 11:00:00\", \"2021-02-01 12:00:00\", \"2021-02-01 13:00:00\", \"2021-02-01 14:00:00\", \"2021-02-01 15:00:00\", \"2021-02-01 16:00:00\", \"2021-02-01 17:00:00\", \"2021-02-01 18:00:00\", \"2021-02-01 19:00:00\", \"2021-02-01 20:00:00\", \"2021-02-02 07:00:00\", \"2021-02-02 08:00:00\", \"2021-02-02 09:00:00\", \"2021-02-02 10:00:00\", \"2021-02-02 11:00:00\", \"2021-02-02 12:00:00\", \"2021-02-02 13:00:00\", \"2021-02-02 14:00:00\", \"2021-02-02 15:00:00\", \"2021-02-02 16:00:00\", \"2021-02-02 17:00:00\", \"2021-02-02 18:00:00\", \"2021-02-02 19:00:00\", \"2021-02-02 20:00:00\", \"2021-02-03 07:00:00\", \"2021-02-03 08:00:00\", \"2021-02-03 09:00:00\", \"2021-02-03 10:00:00\", \"2021-02-03 11:00:00\", \"2021-02-03 12:00:00\", \"2021-02-03 13:00:00\", \"2021-02-03 14:00:00\", \"2021-02-03 15:00:00\", \"2021-02-03 16:00:00\", \"2021-02-03 17:00:00\", \"2021-02-03 18:00:00\", \"2021-02-03 19:00:00\", \"2021-02-03 20:00:00\", \"2021-02-04 07:00:00\", \"2021-02-04 08:00:00\", \"2021-02-04 09:00:00\", \"2021-02-04 10:00:00\", \"2021-02-04 11:00:00\", \"2021-02-04 12:00:00\", \"2021-02-04 13:00:00\", \"2021-02-04 14:00:00\", \"2021-02-04 15:00:00\", \"2021-02-04 16:00:00\", \"2021-02-04 17:00:00\", \"2021-02-04 18:00:00\", \"2021-02-04 19:00:00\", \"2021-02-04 20:00:00\", \"2021-02-05 07:00:00\", \"2021-02-05 08:00:00\", \"2021-02-05 09:00:00\", \"2021-02-05 10:00:00\", \"2021-02-05 11:00:00\", \"2021-02-05 12:00:00\", \"2021-02-05 13:00:00\", \"2021-02-05 14:00:00\", \"2021-02-05 15:00:00\", \"2021-02-05 16:00:00\", \"2021-02-05 17:00:00\", \"2021-02-05 18:00:00\", \"2021-02-05 19:00:00\", \"2021-02-05 20:00:00\", \"2021-02-06 07:00:00\", \"2021-02-06 08:00:00\", \"2021-02-06 09:00:00\", \"2021-02-06 10:00:00\", \"2021-02-06 11:00:00\", \"2021-02-06 12:00:00\", \"2021-02-06 13:00:00\", \"2021-02-06 14:00:00\", \"2021-02-06 15:00:00\", \"2021-02-06 16:00:00\", \"2021-02-06 17:00:00\", \"2021-02-06 18:00:00\", \"2021-02-06 19:00:00\", \"2021-02-06 20:00:00\", \"2021-02-07 07:00:00\", \"2021-02-07 08:00:00\", \"2021-02-07 09:00:00\", \"2021-02-07 10:00:00\", \"2021-02-07 11:00:00\", \"2021-02-07 12:00:00\", \"2021-02-07 13:00:00\", \"2021-02-07 14:00:00\", \"2021-02-07 15:00:00\", \"2021-02-07 16:00:00\", \"2021-02-07 17:00:00\", \"2021-02-07 18:00:00\", \"2021-02-07 19:00:00\", \"2021-02-07 20:00:00\", \"2021-02-08 07:00:00\", \"2021-02-08 08:00:00\", \"2021-02-08 09:00:00\", \"2021-02-08 10:00:00\", \"2021-02-08 11:00:00\", \"2021-02-08 12:00:00\", \"2021-02-08 13:00:00\", \"2021-02-08 14:00:00\", \"2021-02-08 15:00:00\", \"2021-02-08 16:00:00\", \"2021-02-08 17:00:00\", \"2021-02-08 18:00:00\", \"2021-02-08 19:00:00\", \"2021-02-08 20:00:00\", \"2021-02-09 07:00:00\", \"2021-02-09 08:00:00\", \"2021-02-09 09:00:00\", \"2021-02-09 10:00:00\", \"2021-02-09 11:00:00\", \"2021-02-09 12:00:00\", \"2021-02-09 13:00:00\", \"2021-02-09 14:00:00\", \"2021-02-09 15:00:00\", \"2021-02-09 16:00:00\", \"2021-02-09 17:00:00\", \"2021-02-09 18:00:00\", \"2021-02-09 19:00:00\", \"2021-02-09 20:00:00\", \"2021-02-10 07:00:00\", \"2021-02-10 08:00:00\", \"2021-02-10 09:00:00\", \"2021-02-10 10:00:00\", \"2021-02-10 11:00:00\", \"2021-02-10 12:00:00\", \"2021-02-10 13:00:00\", \"2021-02-10 14:00:00\", \"2021-02-10 15:00:00\", \"2021-02-10 16:00:00\", \"2021-02-10 17:00:00\", \"2021-02-10 18:00:00\", \"2021-02-10 19:00:00\", \"2021-02-10 20:00:00\", \"2021-02-11 07:00:00\", \"2021-02-11 08:00:00\", \"2021-02-11 09:00:00\", \"2021-02-11 10:00:00\", \"2021-02-11 11:00:00\", \"2021-02-11 12:00:00\", \"2021-02-11 13:00:00\", \"2021-02-11 14:00:00\", \"2021-02-11 15:00:00\", \"2021-02-11 16:00:00\", \"2021-02-11 17:00:00\", \"2021-02-11 18:00:00\", \"2021-02-11 19:00:00\", \"2021-02-11 20:00:00\", \"2021-02-12 07:00:00\", \"2021-02-12 08:00:00\", \"2021-02-12 09:00:00\", \"2021-02-12 10:00:00\", \"2021-02-12 11:00:00\", \"2021-02-12 12:00:00\", \"2021-02-12 13:00:00\", \"2021-02-12 14:00:00\", \"2021-02-12 15:00:00\", \"2021-02-12 16:00:00\", \"2021-02-12 17:00:00\", \"2021-02-12 18:00:00\", \"2021-02-12 19:00:00\", \"2021-02-12 20:00:00\", \"2021-02-13 07:00:00\", \"2021-02-13 08:00:00\", \"2021-02-13 09:00:00\", \"2021-02-13 10:00:00\", \"2021-02-13 11:00:00\", \"2021-02-13 12:00:00\", \"2021-02-13 13:00:00\", \"2021-02-13 14:00:00\", \"2021-02-13 15:00:00\", \"2021-02-13 16:00:00\", \"2021-02-13 17:00:00\", \"2021-02-13 18:00:00\", \"2021-02-13 19:00:00\", \"2021-02-13 20:00:00\"], \"y\": [11.51, 2827.61, 19125.99, 81339.2, 120248.84, 138112.28, 193998.09, 198199.7, 221898.65, 220806.24, 208875.37, 225113.79, 169836.77, 98231.42, 9.68, 1874.08, 18753.49, 58166.42, 108814.06, 168628.08, 213157.56, 237281.68, 203407.61, 221005.12, 246277.37, 266609.58, 208908.97, 117317.0, 6.14, 2161.71, 25827.02, 56276.65, 135925.73, 217747.01, 281071.81, 309890.91, 264609.44, 263013.07, 251036.95, 263345.38, 206894.24, 115868.21, 5.41, 2133.38, 24505.5, 84336.31, 155551.63, 208850.44, 260587.47, 306314.97, 323163.66, 327811.12, 312043.92, 242867.1, 204081.96, 117152.03, 5.4, 1463.26, 19166.5, 83024.11, 121824.55, 188928.27, 242478.05, 278689.23, 291603.07, 293091.68, 281207.75, 245114.66, 170843.89, 95213.46, 5.04, 1624.7, 25464.03, 66761.44, 147238.47, 214825.54, 267461.45, 314078.71, 324505.12, 300878.98, 285004.22, 251804.12, 185653.78, 106537.61, 5.95, 1085.46, 21781.49, 85087.74, 161111.33, 229647.63, 278492.33, 310844.58, 326101.67, 324116.33, 307126.86, 266057.81, 203145.1, 113064.39, 6.32, 1234.13, 20990.97, 80045.86, 160110.44, 184304.71, 218831.28, 246264.23, 254507.88, 253681.91, 245871.79, 262008.84, 204948.76, 114052.4, 8.32, 1145.17, 20418.63, 78977.72, 157607.07, 221537.97, 268994.95, 299374.6, 257426.7, 252306.08, 243547.01, 253676.97, 198314.66, 110071.49, 11.95, 1099.32, 21733.55, 77548.81, 144054.95, 201185.51, 228247.62, 266507.49, 260591.94, 256967.38, 231859.95, 161133.13, 140958.43, 81425.99, 10.15, 909.01, 19396.88, 68189.26, 143424.14, 196671.55, 250164.48, 231712.98, 221961.15, 259044.78, 225629.87, 181908.14, 143796.63, 81011.46, 10.32, 526.64, 16294.28, 72804.6, 129605.73, 208811.57, 267034.98, 301564.33, 311855.91, 313041.44, 283746.31, 244505.58, 189180.14, 102395.52, 9.79, 800.16, 20187.61, 62433.05, 149036.49, 218858.55, 267407.39, 299673.21, 312702.35, 313896.41, 299053.63, 262488.72, 200483.18, 108960.69, 10.25, 706.44, 18486.82, 73793.83, 150841.77, 217178.04, 266226.24, 296576.79, 313757.84, 318016.75, 303093.46, 264622.89, 203043.93, 112121.66, 6.37, 559.13, 17881.21, 73548.82, 148820.6, 172609.74, 15616.14, 210021.24, 243636.34, 247209.75, 236094.45, 255543.75, 203462.01, 103992.61, 5.92, 267.56, 14462.22, 70403.48, 88106.54, 161624.3, 185411.36, 207153.29, 219209.11, 232135.87, 243666.9, 238686.08, 187771.24, 99244.43, 5.72, 301.41, 15897.0, 43304.63, 130248.89, 204045.7, 215983.71, 158285.97, 151867.96, 166051.15, 202116.9, 180685.16, 179049.48, 115628.74, 9.02, 400.63, 17961.9, 62030.06, 147936.66, 211546.4, 229409.37, 271722.24, 257599.2, 206300.71, 279035.68, 243559.56, 148394.62, 107926.63, 7.91, 362.74, 16685.16, 70638.8, 128835.31, 171030.37, 231422.4, 284547.42, 309129.69, 314954.08, 270489.25, 256074.96, 205715.77, 115166.89, 6.81, 392.6, 17330.65, 72806.93, 152549.42, 222746.14, 272686.47, 287154.45, 275332.27, 288991.42, 304241.22, 272308.82, 208607.85, 112258.76, 5.8, 301.6, 16332.36, 72256.65, 140980.1, 212495.76, 272745.12, 306238.99, 320842.16, 320213.35, 303402.45, 265490.97, 203139.13, 109815.82, 9.34, 273.95, 15691.4, 69765.91, 151132.54, 179782.4, 217852.06, 242425.32, 255853.0, 257569.98, 245838.29, 257942.89, 201137.1, 108597.15, 10.71, 235.69, 15334.85, 70152.46, 148675.12, 216611.2, 266322.73, 290996.83, 194036.45, 225357.1, 247972.22, 260293.64, 204873.03, 109325.17, 11.27, 192.02, 14901.18, 69469.19, 148908.78, 220192.14, 269913.74, 299779.44, 256786.52, 255577.2, 245084.34, 253577.53, 197010.96, 102244.34, 11.1, 206.66, 15581.17, 68634.71, 125977.72, 180083.5, 204327.63, 239176.72, 278544.05, 265662.61, 241503.22, 209208.26, 152099.72, 79437.63, 10.96, 102.97, 14246.2, 60524.89, 119678.72, 212098.7, 261714.88, 301703.95, 298049.75, 257949.53, 248982.62, 253295.95, 173214.34, 79500.51, 6.46, 103.01, 14334.04, 51356.69, 147667.55, 220913.37, 264633.27, 299830.92, 316351.19, 315999.13, 301920.05, 268347.53, 204182.72, 106619.26, 6.31, 67.69, 14813.43, 66522.36, 144728.25, 202083.35, 265738.48, 295002.62, 318753.35, 310476.85, 284552.37, 238495.03, 164136.57, 76093.85, 5.55, 6.07, 7425.59, 64679.25, 64386.16, 64852.45, 86855.87, 84027.56, 93601.25, 84993.53, 70884.12, 67452.74, 31441.35, 13269.08, 6.5, 6.25, 1450.9, 30658.67, 23653.36, 32021.73, 55187.28, 63816.25, 58572.41, 45461.92, 45429.94, 39189.7, 25455.49, 11562.53, 5.84, 6.58, 10749.7, 12388.85, 102174.61, 160749.38, 207784.97, 236877.72, 196896.82, 189896.82, 191888.28, 196723.4, 142522.42, 88440.44, 5.46, 5.6, 12870.29, 46954.54, 110431.87, 158718.61, 184121.01, 277605.44, 267733.06, 272191.44, 225975.27, 165051.53, 112482.83, 57786.98, 6.57, 5.66, 11413.5, 63296.44, 136809.62, 186389.09, 232616.55, 263235.86, 256906.1, 279913.69, 239647.87, 231207.09, 164680.31, 75767.7, 5.77, 6.12, 9303.5, 64515.33, 113036.97, 136629.0, 157670.5, 204809.24, 253249.96, 242951.91, 202430.29, 187915.3, 170439.87, 90719.88, 6.23, 6.3, 12412.38, 55026.51, 132631.89, 206983.68, 263017.61, 304988.57, 320708.31, 320346.64, 306753.99, 269933.4, 204080.54, 101333.65, 6.34, 6.59, 10997.14, 62266.53, 143674.13, 175687.08, 214049.35, 239580.82, 249179.04, 255891.13, 231299.37, 255489.21, 191863.39, 92640.44]}, {\"name\": \"fc\", \"type\": \"scatter\", \"x\": [\"2021-01-09 07:00:00\", \"2021-01-09 08:00:00\", \"2021-01-09 09:00:00\", \"2021-01-09 10:00:00\", \"2021-01-09 11:00:00\", \"2021-01-09 12:00:00\", \"2021-01-09 13:00:00\", \"2021-01-09 14:00:00\", \"2021-01-09 15:00:00\", \"2021-01-09 16:00:00\", \"2021-01-09 17:00:00\", \"2021-01-09 18:00:00\", \"2021-01-09 19:00:00\", \"2021-01-09 20:00:00\", \"2021-01-10 07:00:00\", \"2021-01-10 08:00:00\", \"2021-01-10 09:00:00\", \"2021-01-10 10:00:00\", \"2021-01-10 11:00:00\", \"2021-01-10 12:00:00\", \"2021-01-10 13:00:00\", \"2021-01-10 14:00:00\", \"2021-01-10 15:00:00\", \"2021-01-10 16:00:00\", \"2021-01-10 17:00:00\", \"2021-01-10 18:00:00\", \"2021-01-10 19:00:00\", \"2021-01-10 20:00:00\", \"2021-01-11 07:00:00\", \"2021-01-11 08:00:00\", \"2021-01-11 09:00:00\", \"2021-01-11 10:00:00\", \"2021-01-11 11:00:00\", \"2021-01-11 12:00:00\", \"2021-01-11 13:00:00\", \"2021-01-11 14:00:00\", \"2021-01-11 15:00:00\", \"2021-01-11 16:00:00\", \"2021-01-11 17:00:00\", \"2021-01-11 18:00:00\", \"2021-01-11 19:00:00\", \"2021-01-11 20:00:00\", \"2021-01-12 07:00:00\", \"2021-01-12 08:00:00\", \"2021-01-12 09:00:00\", \"2021-01-12 10:00:00\", \"2021-01-12 11:00:00\", \"2021-01-12 12:00:00\", \"2021-01-12 13:00:00\", \"2021-01-12 14:00:00\", \"2021-01-12 15:00:00\", \"2021-01-12 16:00:00\", \"2021-01-12 17:00:00\", \"2021-01-12 18:00:00\", \"2021-01-12 19:00:00\", \"2021-01-12 20:00:00\", \"2021-01-13 07:00:00\", \"2021-01-13 08:00:00\", \"2021-01-13 09:00:00\", \"2021-01-13 10:00:00\", \"2021-01-13 11:00:00\", \"2021-01-13 12:00:00\", \"2021-01-13 13:00:00\", \"2021-01-13 14:00:00\", \"2021-01-13 15:00:00\", \"2021-01-13 16:00:00\", \"2021-01-13 17:00:00\", \"2021-01-13 18:00:00\", \"2021-01-13 19:00:00\", \"2021-01-13 20:00:00\", \"2021-01-14 07:00:00\", \"2021-01-14 08:00:00\", \"2021-01-14 09:00:00\", \"2021-01-14 10:00:00\", \"2021-01-14 11:00:00\", \"2021-01-14 12:00:00\", \"2021-01-14 13:00:00\", \"2021-01-14 14:00:00\", \"2021-01-14 15:00:00\", \"2021-01-14 16:00:00\", \"2021-01-14 17:00:00\", \"2021-01-14 18:00:00\", \"2021-01-14 19:00:00\", \"2021-01-14 20:00:00\", \"2021-01-15 07:00:00\", \"2021-01-15 08:00:00\", \"2021-01-15 09:00:00\", \"2021-01-15 10:00:00\", \"2021-01-15 11:00:00\", \"2021-01-15 12:00:00\", \"2021-01-15 13:00:00\", \"2021-01-15 14:00:00\", \"2021-01-15 15:00:00\", \"2021-01-15 16:00:00\", \"2021-01-15 17:00:00\", \"2021-01-15 18:00:00\", \"2021-01-15 19:00:00\", \"2021-01-15 20:00:00\", \"2021-01-16 07:00:00\", \"2021-01-16 08:00:00\", \"2021-01-16 09:00:00\", \"2021-01-16 10:00:00\", \"2021-01-16 11:00:00\", \"2021-01-16 12:00:00\", \"2021-01-16 13:00:00\", \"2021-01-16 14:00:00\", \"2021-01-16 15:00:00\", \"2021-01-16 16:00:00\", \"2021-01-16 17:00:00\", \"2021-01-16 18:00:00\", \"2021-01-16 19:00:00\", \"2021-01-16 20:00:00\", \"2021-01-17 07:00:00\", \"2021-01-17 08:00:00\", \"2021-01-17 09:00:00\", \"2021-01-17 10:00:00\", \"2021-01-17 11:00:00\", \"2021-01-17 12:00:00\", \"2021-01-17 13:00:00\", \"2021-01-17 14:00:00\", \"2021-01-17 15:00:00\", \"2021-01-17 16:00:00\", \"2021-01-17 17:00:00\", \"2021-01-17 18:00:00\", \"2021-01-17 19:00:00\", \"2021-01-17 20:00:00\", \"2021-01-18 07:00:00\", \"2021-01-18 08:00:00\", \"2021-01-18 09:00:00\", \"2021-01-18 10:00:00\", \"2021-01-18 11:00:00\", \"2021-01-18 12:00:00\", \"2021-01-18 13:00:00\", \"2021-01-18 14:00:00\", \"2021-01-18 15:00:00\", \"2021-01-18 16:00:00\", \"2021-01-18 17:00:00\", \"2021-01-18 18:00:00\", \"2021-01-18 19:00:00\", \"2021-01-18 20:00:00\", \"2021-01-19 07:00:00\", \"2021-01-19 08:00:00\", \"2021-01-19 09:00:00\", \"2021-01-19 10:00:00\", \"2021-01-19 11:00:00\", \"2021-01-19 12:00:00\", \"2021-01-19 13:00:00\", \"2021-01-19 14:00:00\", \"2021-01-19 15:00:00\", \"2021-01-19 16:00:00\", \"2021-01-19 17:00:00\", \"2021-01-19 18:00:00\", \"2021-01-19 19:00:00\", \"2021-01-19 20:00:00\", \"2021-01-20 07:00:00\", \"2021-01-20 08:00:00\", \"2021-01-20 09:00:00\", \"2021-01-20 10:00:00\", \"2021-01-20 11:00:00\", \"2021-01-20 12:00:00\", \"2021-01-20 13:00:00\", \"2021-01-20 14:00:00\", \"2021-01-20 15:00:00\", \"2021-01-20 16:00:00\", \"2021-01-20 17:00:00\", \"2021-01-20 18:00:00\", \"2021-01-20 19:00:00\", \"2021-01-20 20:00:00\", \"2021-01-21 07:00:00\", \"2021-01-21 08:00:00\", \"2021-01-21 09:00:00\", \"2021-01-21 10:00:00\", \"2021-01-21 11:00:00\", \"2021-01-21 12:00:00\", \"2021-01-21 13:00:00\", \"2021-01-21 14:00:00\", \"2021-01-21 15:00:00\", \"2021-01-21 16:00:00\", \"2021-01-21 17:00:00\", \"2021-01-21 18:00:00\", \"2021-01-21 19:00:00\", \"2021-01-21 20:00:00\", \"2021-01-22 07:00:00\", \"2021-01-22 08:00:00\", \"2021-01-22 09:00:00\", \"2021-01-22 10:00:00\", \"2021-01-22 11:00:00\", \"2021-01-22 12:00:00\", \"2021-01-22 13:00:00\", \"2021-01-22 14:00:00\", \"2021-01-22 15:00:00\", \"2021-01-22 16:00:00\", \"2021-01-22 17:00:00\", \"2021-01-22 18:00:00\", \"2021-01-22 19:00:00\", \"2021-01-22 20:00:00\", \"2021-01-23 07:00:00\", \"2021-01-23 08:00:00\", \"2021-01-23 09:00:00\", \"2021-01-23 10:00:00\", \"2021-01-23 11:00:00\", \"2021-01-23 12:00:00\", \"2021-01-23 13:00:00\", \"2021-01-23 14:00:00\", \"2021-01-23 15:00:00\", \"2021-01-23 16:00:00\", \"2021-01-23 17:00:00\", \"2021-01-23 18:00:00\", \"2021-01-23 19:00:00\", \"2021-01-23 20:00:00\", \"2021-01-24 07:00:00\", \"2021-01-24 08:00:00\", \"2021-01-24 09:00:00\", \"2021-01-24 10:00:00\", \"2021-01-24 11:00:00\", \"2021-01-24 12:00:00\", \"2021-01-24 13:00:00\", \"2021-01-24 14:00:00\", \"2021-01-24 15:00:00\", \"2021-01-24 16:00:00\", \"2021-01-24 17:00:00\", \"2021-01-24 18:00:00\", \"2021-01-24 19:00:00\", \"2021-01-24 20:00:00\", \"2021-01-25 07:00:00\", \"2021-01-25 08:00:00\", \"2021-01-25 09:00:00\", \"2021-01-25 10:00:00\", \"2021-01-25 11:00:00\", \"2021-01-25 12:00:00\", \"2021-01-25 13:00:00\", \"2021-01-25 14:00:00\", \"2021-01-25 15:00:00\", \"2021-01-25 16:00:00\", \"2021-01-25 17:00:00\", \"2021-01-25 18:00:00\", \"2021-01-25 19:00:00\", \"2021-01-25 20:00:00\", \"2021-01-26 07:00:00\", \"2021-01-26 08:00:00\", \"2021-01-26 09:00:00\", \"2021-01-26 10:00:00\", \"2021-01-26 11:00:00\", \"2021-01-26 12:00:00\", \"2021-01-26 13:00:00\", \"2021-01-26 14:00:00\", \"2021-01-26 15:00:00\", \"2021-01-26 16:00:00\", \"2021-01-26 17:00:00\", \"2021-01-26 18:00:00\", \"2021-01-26 19:00:00\", \"2021-01-26 20:00:00\", \"2021-01-27 07:00:00\", \"2021-01-27 08:00:00\", \"2021-01-27 09:00:00\", \"2021-01-27 10:00:00\", \"2021-01-27 11:00:00\", \"2021-01-27 12:00:00\", \"2021-01-27 13:00:00\", \"2021-01-27 14:00:00\", \"2021-01-27 15:00:00\", \"2021-01-27 16:00:00\", \"2021-01-27 17:00:00\", \"2021-01-27 18:00:00\", \"2021-01-27 19:00:00\", \"2021-01-27 20:00:00\", \"2021-01-28 07:00:00\", \"2021-01-28 08:00:00\", \"2021-01-28 09:00:00\", \"2021-01-28 10:00:00\", \"2021-01-28 11:00:00\", \"2021-01-28 12:00:00\", \"2021-01-28 13:00:00\", \"2021-01-28 14:00:00\", \"2021-01-28 15:00:00\", \"2021-01-28 16:00:00\", \"2021-01-28 17:00:00\", \"2021-01-28 18:00:00\", \"2021-01-28 19:00:00\", \"2021-01-28 20:00:00\", \"2021-01-29 07:00:00\", \"2021-01-29 08:00:00\", \"2021-01-29 09:00:00\", \"2021-01-29 10:00:00\", \"2021-01-29 11:00:00\", \"2021-01-29 12:00:00\", \"2021-01-29 13:00:00\", \"2021-01-29 14:00:00\", \"2021-01-29 15:00:00\", \"2021-01-29 16:00:00\", \"2021-01-29 17:00:00\", \"2021-01-29 18:00:00\", \"2021-01-29 19:00:00\", \"2021-01-29 20:00:00\", \"2021-01-30 07:00:00\", \"2021-01-30 08:00:00\", \"2021-01-30 09:00:00\", \"2021-01-30 10:00:00\", \"2021-01-30 11:00:00\", \"2021-01-30 12:00:00\", \"2021-01-30 13:00:00\", \"2021-01-30 14:00:00\", \"2021-01-30 15:00:00\", \"2021-01-30 16:00:00\", \"2021-01-30 17:00:00\", \"2021-01-30 18:00:00\", \"2021-01-30 19:00:00\", \"2021-01-30 20:00:00\", \"2021-01-31 07:00:00\", \"2021-01-31 08:00:00\", \"2021-01-31 09:00:00\", \"2021-01-31 10:00:00\", \"2021-01-31 11:00:00\", \"2021-01-31 12:00:00\", \"2021-01-31 13:00:00\", \"2021-01-31 14:00:00\", \"2021-01-31 15:00:00\", \"2021-01-31 16:00:00\", \"2021-01-31 17:00:00\", \"2021-01-31 18:00:00\", \"2021-01-31 19:00:00\", \"2021-01-31 20:00:00\", \"2021-02-01 07:00:00\", \"2021-02-01 08:00:00\", \"2021-02-01 09:00:00\", \"2021-02-01 10:00:00\", \"2021-02-01 11:00:00\", \"2021-02-01 12:00:00\", \"2021-02-01 13:00:00\", \"2021-02-01 14:00:00\", \"2021-02-01 15:00:00\", \"2021-02-01 16:00:00\", \"2021-02-01 17:00:00\", \"2021-02-01 18:00:00\", \"2021-02-01 19:00:00\", \"2021-02-01 20:00:00\", \"2021-02-02 07:00:00\", \"2021-02-02 08:00:00\", \"2021-02-02 09:00:00\", \"2021-02-02 10:00:00\", \"2021-02-02 11:00:00\", \"2021-02-02 12:00:00\", \"2021-02-02 13:00:00\", \"2021-02-02 14:00:00\", \"2021-02-02 15:00:00\", \"2021-02-02 16:00:00\", \"2021-02-02 17:00:00\", \"2021-02-02 18:00:00\", \"2021-02-02 19:00:00\", \"2021-02-02 20:00:00\", \"2021-02-03 07:00:00\", \"2021-02-03 08:00:00\", \"2021-02-03 09:00:00\", \"2021-02-03 10:00:00\", \"2021-02-03 11:00:00\", \"2021-02-03 12:00:00\", \"2021-02-03 13:00:00\", \"2021-02-03 14:00:00\", \"2021-02-03 15:00:00\", \"2021-02-03 16:00:00\", \"2021-02-03 17:00:00\", \"2021-02-03 18:00:00\", \"2021-02-03 19:00:00\", \"2021-02-03 20:00:00\", \"2021-02-04 07:00:00\", \"2021-02-04 08:00:00\", \"2021-02-04 09:00:00\", \"2021-02-04 10:00:00\", \"2021-02-04 11:00:00\", \"2021-02-04 12:00:00\", \"2021-02-04 13:00:00\", \"2021-02-04 14:00:00\", \"2021-02-04 15:00:00\", \"2021-02-04 16:00:00\", \"2021-02-04 17:00:00\", \"2021-02-04 18:00:00\", \"2021-02-04 19:00:00\", \"2021-02-04 20:00:00\", \"2021-02-05 07:00:00\", \"2021-02-05 08:00:00\", \"2021-02-05 09:00:00\", \"2021-02-05 10:00:00\", \"2021-02-05 11:00:00\", \"2021-02-05 12:00:00\", \"2021-02-05 13:00:00\", \"2021-02-05 14:00:00\", \"2021-02-05 15:00:00\", \"2021-02-05 16:00:00\", \"2021-02-05 17:00:00\", \"2021-02-05 18:00:00\", \"2021-02-05 19:00:00\", \"2021-02-05 20:00:00\", \"2021-02-06 07:00:00\", \"2021-02-06 08:00:00\", \"2021-02-06 09:00:00\", \"2021-02-06 10:00:00\", \"2021-02-06 11:00:00\", \"2021-02-06 12:00:00\", \"2021-02-06 13:00:00\", \"2021-02-06 14:00:00\", \"2021-02-06 15:00:00\", \"2021-02-06 16:00:00\", \"2021-02-06 17:00:00\", \"2021-02-06 18:00:00\", \"2021-02-06 19:00:00\", \"2021-02-06 20:00:00\", \"2021-02-07 07:00:00\", \"2021-02-07 08:00:00\", \"2021-02-07 09:00:00\", \"2021-02-07 10:00:00\", \"2021-02-07 11:00:00\", \"2021-02-07 12:00:00\", \"2021-02-07 13:00:00\", \"2021-02-07 14:00:00\", \"2021-02-07 15:00:00\", \"2021-02-07 16:00:00\", \"2021-02-07 17:00:00\", \"2021-02-07 18:00:00\", \"2021-02-07 19:00:00\", \"2021-02-07 20:00:00\", \"2021-02-08 07:00:00\", \"2021-02-08 08:00:00\", \"2021-02-08 09:00:00\", \"2021-02-08 10:00:00\", \"2021-02-08 11:00:00\", \"2021-02-08 12:00:00\", \"2021-02-08 13:00:00\", \"2021-02-08 14:00:00\", \"2021-02-08 15:00:00\", \"2021-02-08 16:00:00\", \"2021-02-08 17:00:00\", \"2021-02-08 18:00:00\", \"2021-02-08 19:00:00\", \"2021-02-08 20:00:00\", \"2021-02-09 07:00:00\", \"2021-02-09 08:00:00\", \"2021-02-09 09:00:00\", \"2021-02-09 10:00:00\", \"2021-02-09 11:00:00\", \"2021-02-09 12:00:00\", \"2021-02-09 13:00:00\", \"2021-02-09 14:00:00\", \"2021-02-09 15:00:00\", \"2021-02-09 16:00:00\", \"2021-02-09 17:00:00\", \"2021-02-09 18:00:00\", \"2021-02-09 19:00:00\", \"2021-02-09 20:00:00\", \"2021-02-10 07:00:00\", \"2021-02-10 08:00:00\", \"2021-02-10 09:00:00\", \"2021-02-10 10:00:00\", \"2021-02-10 11:00:00\", \"2021-02-10 12:00:00\", \"2021-02-10 13:00:00\", \"2021-02-10 14:00:00\", \"2021-02-10 15:00:00\", \"2021-02-10 16:00:00\", \"2021-02-10 17:00:00\", \"2021-02-10 18:00:00\", \"2021-02-10 19:00:00\", \"2021-02-10 20:00:00\", \"2021-02-11 07:00:00\", \"2021-02-11 08:00:00\", \"2021-02-11 09:00:00\", \"2021-02-11 10:00:00\", \"2021-02-11 11:00:00\", \"2021-02-11 12:00:00\", \"2021-02-11 13:00:00\", \"2021-02-11 14:00:00\", \"2021-02-11 15:00:00\", \"2021-02-11 16:00:00\", \"2021-02-11 17:00:00\", \"2021-02-11 18:00:00\", \"2021-02-11 19:00:00\", \"2021-02-11 20:00:00\", \"2021-02-12 07:00:00\", \"2021-02-12 08:00:00\", \"2021-02-12 09:00:00\", \"2021-02-12 10:00:00\", \"2021-02-12 11:00:00\", \"2021-02-12 12:00:00\", \"2021-02-12 13:00:00\", \"2021-02-12 14:00:00\", \"2021-02-12 15:00:00\", \"2021-02-12 16:00:00\", \"2021-02-12 17:00:00\", \"2021-02-12 18:00:00\", \"2021-02-12 19:00:00\", \"2021-02-12 20:00:00\", \"2021-02-13 07:00:00\", \"2021-02-13 08:00:00\", \"2021-02-13 09:00:00\", \"2021-02-13 10:00:00\", \"2021-02-13 11:00:00\", \"2021-02-13 12:00:00\", \"2021-02-13 13:00:00\", \"2021-02-13 14:00:00\", \"2021-02-13 15:00:00\", \"2021-02-13 16:00:00\", \"2021-02-13 17:00:00\", \"2021-02-13 18:00:00\", \"2021-02-13 19:00:00\", \"2021-02-13 20:00:00\"], \"y\": [94265.1171875, 94265.1171875, 94265.1171875, 94265.1171875, 145344.125, 202210.296875, 250272.75, 262989.15625, 282154.375, 256574.484375, 219071.03125, 176550.546875, 140206.375, 94265.1171875, 94265.1171875, 94265.1171875, 94265.1171875, 94265.1171875, 124091.96875, 178378.78125, 208481.65625, 232318.734375, 263882.125, 258818.609375, 226906.765625, 188090.875, 149729.34375, 94265.1171875, 94265.1171875, 94265.1171875, 94265.1171875, 94265.1171875, 145623.109375, 216857.71875, 258064.4375, 293293.875, 317968.9375, 306236.59375, 288410.3125, 258612.703125, 198286.203125, 95287.9765625, 94265.1171875, 94265.1171875, 94265.1171875, 94265.1171875, 138986.03125, 198990.84375, 237152.109375, 263516.15625, 276963.8125, 266905.25, 250482.546875, 219907.421875, 172037.828125, 94265.1171875, 94265.1171875, 94265.1171875, 94265.1171875, 94265.1171875, 138134.109375, 195905.34375, 240812.328125, 286701.125, 287395.78125, 263553.9375, 257068.90625, 223652.21875, 160431.09375, 94265.1171875, 94265.1171875, 94265.1171875, 94265.1171875, 94265.1171875, 113586.3515625, 190647.109375, 237713.0625, 276122.375, 276321.125, 287167.375, 276225.15625, 251048.453125, 173696.34375, 94265.1171875, 94265.1171875, 94265.1171875, 94265.1171875, 94265.1171875, 134123.03125, 212766.171875, 274722.0, 306651.59375, 292439.15625, 286251.53125, 256723.671875, 217279.234375, 157163.0625, 94265.1171875, 94265.1171875, 94265.1171875, 94265.1171875, 94265.1171875, 169850.859375, 242196.09375, 287810.40625, 312528.1875, 311137.4375, 302087.6875, 261355.359375, 218120.4375, 148450.515625, 94265.1171875, 94265.1171875, 94265.1171875, 94265.1171875, 94265.1171875, 158384.453125, 238398.15625, 290777.21875, 308132.5, 308925.84375, 287029.40625, 260966.59375, 227391.375, 165844.453125, 94265.1171875, 94265.1171875, 94265.1171875, 94265.1171875, 115225.0234375, 178666.921875, 240230.296875, 279771.625, 293283.78125, 292416.375, 272327.21875, 251672.3125, 206558.0625, 152052.34375, 94265.1171875, 94265.1171875, 94265.1171875, 94265.1171875, 94265.1171875, 137100.75, 197083.546875, 241873.578125, 270875.34375, 275321.65625, 257107.484375, 241511.515625, 211294.15625, 148526.0625, 94265.1171875, 94265.1171875, 94265.1171875, 94265.1171875, 94265.1171875, 137059.890625, 193413.25, 236206.03125, 260732.34375, 275000.40625, 263498.125, 239705.859375, 192662.65625, 142813.171875, 94265.1171875, 94265.1171875, 94265.1171875, 94265.1171875, 96304.234375, 160465.78125, 214587.953125, 244675.15625, 267533.09375, 292180.96875, 279097.53125, 262169.46875, 220373.140625, 162320.265625, 94265.1171875, 94265.1171875, 94265.1171875, 94265.1171875, 94265.1171875, 129699.4375, 191281.71875, 235964.953125, 273052.5625, 283037.125, 286125.84375, 287099.84375, 259705.640625, 193145.265625, 102922.1171875, 94265.1171875, 94265.1171875, 94265.1171875, 94265.1171875, 135083.0, 194174.75, 236064.78125, 280803.9375, 279113.03125, 280636.09375, 265386.71875, 228693.578125, 165517.5, 94265.1171875, 94265.1171875, 94265.1171875, 94265.1171875, 94265.1171875, 116976.453125, 183577.53125, 225814.34375, 278472.0, 300745.5, 306323.9375, 282871.875, 245243.921875, 181507.59375, 94265.1171875, 94265.1171875, 94265.1171875, 94265.1171875, 94265.1171875, 119039.7265625, 187232.375, 225578.3125, 268649.03125, 294904.1875, 308462.96875, 291943.15625, 258494.328125, 186860.90625, 94265.1171875, 94265.1171875, 94265.1171875, 94265.1171875, 94265.1171875, 163190.21875, 229435.25, 268402.96875, 291129.34375, 301653.21875, 296772.28125, 273379.5625, 244366.859375, 177107.265625, 94265.1171875, 94265.1171875, 94265.1171875, 94265.1171875, 94265.1171875, 143696.296875, 211154.3125, 253701.625, 287271.40625, 292410.125, 282755.375, 280743.84375, 251529.65625, 177649.484375, 94265.1171875, 94265.1171875, 94265.1171875, 94265.1171875, 94265.1171875, 128926.015625, 196950.59375, 237183.0, 271500.625, 273400.3125, 288960.59375, 298279.3125, 269278.875, 188405.328125, 94265.1171875, 94265.1171875, 94265.1171875, 94265.1171875, 94265.1171875, 139807.5, 211546.921875, 267351.4375, 299608.25, 308732.375, 307993.84375, 290816.59375, 253637.28125, 184930.875, 94265.1171875, 94265.1171875, 94265.1171875, 94265.1171875, 94265.1171875, 160817.671875, 225109.8125, 269709.6875, 300995.03125, 315906.53125, 307019.6875, 287169.125, 254053.625, 195902.421875, 115031.671875, 94265.1171875, 94265.1171875, 94265.1171875, 123107.8515625, 199597.765625, 251501.09375, 285039.96875, 310773.15625, 313845.6875, 304441.0625, 283128.125, 252373.828125, 194448.578125, 99009.7578125, 94265.1171875, 94265.1171875, 94265.1171875, 117324.34375, 179060.703125, 242304.5625, 287731.40625, 321438.375, 333519.09375, 337338.21875, 321434.0625, 287954.21875, 211935.28125, 98054.3203125, 94265.1171875, 94265.1171875, 94265.1171875, 101790.796875, 159800.40625, 235458.03125, 285225.78125, 322786.375, 327480.0625, 321260.03125, 299491.46875, 273417.3125, 206807.265625, 117385.0078125, 94265.1171875, 94265.1171875, 94265.1171875, 94265.1171875, 157898.78125, 219523.8125, 250510.328125, 274635.28125, 283087.53125, 286619.15625, 271704.375, 235217.34375, 172802.0, 94265.1171875, 94265.1171875, 94265.1171875, 94265.1171875, 94265.1171875, 158251.515625, 228139.078125, 274822.96875, 310731.6875, 328388.9375, 327484.78125, 306633.71875, 268552.0, 190284.78125, 94265.1171875, 94265.1171875, 94265.1171875, 94265.1171875, 94265.1171875, 144419.046875, 208855.9375, 248793.484375, 261262.0625, 277520.875, 284197.125, 280948.96875, 235251.765625, 160015.015625, 94265.1171875, 94265.1171875, 94265.1171875, 94265.1171875, 94265.1171875, 122097.7734375, 172929.328125, 207306.0625, 228526.75, 249418.375, 245298.453125, 236821.96875, 198877.03125, 127074.015625, 94265.1171875, 94265.1171875, 94265.1171875, 94265.1171875, 94265.1171875, 94265.1171875, 108139.3828125, 124211.1328125, 140946.140625, 154489.6875, 172079.0625, 172209.265625, 149547.84375, 98228.84375, 94265.1171875, 94265.1171875, 94265.1171875, 94265.1171875, 94265.1171875, 108491.9375, 159996.109375, 191360.5625, 222950.390625, 235137.75, 232118.78125, 231214.140625, 185098.78125, 125510.53125, 94265.1171875, 94265.1171875, 94265.1171875, 94265.1171875, 94265.1171875, 125506.03125, 165959.609375, 202885.28125, 220055.03125, 250508.578125, 232959.40625, 221078.96875, 172016.515625, 121612.765625, 94265.1171875, 94265.1171875, 94265.1171875, 94265.1171875, 94265.1171875, 144940.0, 183964.515625, 208792.046875, 232915.859375, 258151.296875, 255783.1875, 254762.9375, 220048.65625, 163798.859375, 97661.1171875, 94265.1171875, 94265.1171875, 94265.1171875, 94265.1171875, 131969.140625, 195774.359375, 207604.234375, 223231.1875, 221420.328125, 234202.78125, 234651.0625, 219453.53125, 167232.34375, 103603.7265625, 94265.1171875, 94265.1171875, 94265.1171875, 94265.1171875, 126048.828125, 184958.671875, 195935.578125, 223363.53125, 224519.4375, 239727.921875, 236697.078125, 234782.4375, 176830.734375, 100933.875, 94265.1171875, 94265.1171875, 94265.1171875, 94265.1171875, 154417.953125, 215913.953125, 251278.09375, 271857.03125, 283038.65625, 281305.6875, 271678.40625, 256150.6875, 194305.328125, 111703.25]}],                        {\"template\": {\"data\": {\"bar\": [{\"error_x\": {\"color\": \"#2a3f5f\"}, \"error_y\": {\"color\": \"#2a3f5f\"}, \"marker\": {\"line\": {\"color\": \"#E5ECF6\", \"width\": 0.5}}, \"type\": \"bar\"}], \"barpolar\": [{\"marker\": {\"line\": {\"color\": \"#E5ECF6\", \"width\": 0.5}}, \"type\": \"barpolar\"}], \"carpet\": [{\"aaxis\": {\"endlinecolor\": \"#2a3f5f\", \"gridcolor\": \"white\", \"linecolor\": \"white\", \"minorgridcolor\": \"white\", \"startlinecolor\": \"#2a3f5f\"}, \"baxis\": {\"endlinecolor\": \"#2a3f5f\", \"gridcolor\": \"white\", \"linecolor\": \"white\", \"minorgridcolor\": \"white\", \"startlinecolor\": \"#2a3f5f\"}, \"type\": \"carpet\"}], \"choropleth\": [{\"colorbar\": {\"outlinewidth\": 0, \"ticks\": \"\"}, \"type\": \"choropleth\"}], \"contour\": [{\"colorbar\": {\"outlinewidth\": 0, \"ticks\": \"\"}, \"colorscale\": [[0.0, \"#0d0887\"], [0.1111111111111111, \"#46039f\"], [0.2222222222222222, \"#7201a8\"], [0.3333333333333333, \"#9c179e\"], [0.4444444444444444, \"#bd3786\"], [0.5555555555555556, \"#d8576b\"], [0.6666666666666666, \"#ed7953\"], [0.7777777777777778, \"#fb9f3a\"], [0.8888888888888888, \"#fdca26\"], [1.0, \"#f0f921\"]], \"type\": \"contour\"}], \"contourcarpet\": [{\"colorbar\": {\"outlinewidth\": 0, \"ticks\": \"\"}, \"type\": \"contourcarpet\"}], \"heatmap\": [{\"colorbar\": {\"outlinewidth\": 0, \"ticks\": \"\"}, \"colorscale\": [[0.0, \"#0d0887\"], [0.1111111111111111, \"#46039f\"], [0.2222222222222222, \"#7201a8\"], [0.3333333333333333, \"#9c179e\"], [0.4444444444444444, \"#bd3786\"], [0.5555555555555556, \"#d8576b\"], [0.6666666666666666, \"#ed7953\"], [0.7777777777777778, \"#fb9f3a\"], [0.8888888888888888, \"#fdca26\"], [1.0, \"#f0f921\"]], \"type\": \"heatmap\"}], \"heatmapgl\": [{\"colorbar\": {\"outlinewidth\": 0, \"ticks\": \"\"}, \"colorscale\": [[0.0, \"#0d0887\"], [0.1111111111111111, \"#46039f\"], [0.2222222222222222, \"#7201a8\"], [0.3333333333333333, \"#9c179e\"], [0.4444444444444444, \"#bd3786\"], [0.5555555555555556, \"#d8576b\"], [0.6666666666666666, \"#ed7953\"], [0.7777777777777778, \"#fb9f3a\"], [0.8888888888888888, \"#fdca26\"], [1.0, \"#f0f921\"]], \"type\": \"heatmapgl\"}], \"histogram\": [{\"marker\": {\"colorbar\": {\"outlinewidth\": 0, \"ticks\": \"\"}}, \"type\": \"histogram\"}], \"histogram2d\": [{\"colorbar\": {\"outlinewidth\": 0, \"ticks\": \"\"}, \"colorscale\": [[0.0, \"#0d0887\"], [0.1111111111111111, \"#46039f\"], [0.2222222222222222, \"#7201a8\"], [0.3333333333333333, \"#9c179e\"], [0.4444444444444444, \"#bd3786\"], [0.5555555555555556, \"#d8576b\"], [0.6666666666666666, \"#ed7953\"], [0.7777777777777778, \"#fb9f3a\"], [0.8888888888888888, \"#fdca26\"], [1.0, \"#f0f921\"]], \"type\": \"histogram2d\"}], \"histogram2dcontour\": [{\"colorbar\": {\"outlinewidth\": 0, \"ticks\": \"\"}, \"colorscale\": [[0.0, \"#0d0887\"], [0.1111111111111111, \"#46039f\"], [0.2222222222222222, \"#7201a8\"], [0.3333333333333333, \"#9c179e\"], [0.4444444444444444, \"#bd3786\"], [0.5555555555555556, \"#d8576b\"], [0.6666666666666666, \"#ed7953\"], [0.7777777777777778, \"#fb9f3a\"], [0.8888888888888888, \"#fdca26\"], [1.0, \"#f0f921\"]], \"type\": \"histogram2dcontour\"}], \"mesh3d\": [{\"colorbar\": {\"outlinewidth\": 0, \"ticks\": \"\"}, \"type\": \"mesh3d\"}], \"parcoords\": [{\"line\": {\"colorbar\": {\"outlinewidth\": 0, \"ticks\": \"\"}}, \"type\": \"parcoords\"}], \"pie\": [{\"automargin\": true, \"type\": \"pie\"}], \"scatter\": [{\"marker\": {\"colorbar\": {\"outlinewidth\": 0, \"ticks\": \"\"}}, \"type\": \"scatter\"}], \"scatter3d\": [{\"line\": {\"colorbar\": {\"outlinewidth\": 0, \"ticks\": \"\"}}, \"marker\": {\"colorbar\": {\"outlinewidth\": 0, \"ticks\": \"\"}}, \"type\": \"scatter3d\"}], \"scattercarpet\": [{\"marker\": {\"colorbar\": {\"outlinewidth\": 0, \"ticks\": \"\"}}, \"type\": \"scattercarpet\"}], \"scattergeo\": [{\"marker\": {\"colorbar\": {\"outlinewidth\": 0, \"ticks\": \"\"}}, \"type\": \"scattergeo\"}], \"scattergl\": [{\"marker\": {\"colorbar\": {\"outlinewidth\": 0, \"ticks\": \"\"}}, \"type\": \"scattergl\"}], \"scattermapbox\": [{\"marker\": {\"colorbar\": {\"outlinewidth\": 0, \"ticks\": \"\"}}, \"type\": \"scattermapbox\"}], \"scatterpolar\": [{\"marker\": {\"colorbar\": {\"outlinewidth\": 0, \"ticks\": \"\"}}, \"type\": \"scatterpolar\"}], \"scatterpolargl\": [{\"marker\": {\"colorbar\": {\"outlinewidth\": 0, \"ticks\": \"\"}}, \"type\": \"scatterpolargl\"}], \"scatterternary\": [{\"marker\": {\"colorbar\": {\"outlinewidth\": 0, \"ticks\": \"\"}}, \"type\": \"scatterternary\"}], \"surface\": [{\"colorbar\": {\"outlinewidth\": 0, \"ticks\": \"\"}, \"colorscale\": [[0.0, \"#0d0887\"], [0.1111111111111111, \"#46039f\"], [0.2222222222222222, \"#7201a8\"], [0.3333333333333333, \"#9c179e\"], [0.4444444444444444, \"#bd3786\"], [0.5555555555555556, \"#d8576b\"], [0.6666666666666666, \"#ed7953\"], [0.7777777777777778, \"#fb9f3a\"], [0.8888888888888888, \"#fdca26\"], [1.0, \"#f0f921\"]], \"type\": \"surface\"}], \"table\": [{\"cells\": {\"fill\": {\"color\": \"#EBF0F8\"}, \"line\": {\"color\": \"white\"}}, \"header\": {\"fill\": {\"color\": \"#C8D4E3\"}, \"line\": {\"color\": \"white\"}}, \"type\": \"table\"}]}, \"layout\": {\"annotationdefaults\": {\"arrowcolor\": \"#2a3f5f\", \"arrowhead\": 0, \"arrowwidth\": 1}, \"autotypenumbers\": \"strict\", \"coloraxis\": {\"colorbar\": {\"outlinewidth\": 0, \"ticks\": \"\"}}, \"colorscale\": {\"diverging\": [[0, \"#8e0152\"], [0.1, \"#c51b7d\"], [0.2, \"#de77ae\"], [0.3, \"#f1b6da\"], [0.4, \"#fde0ef\"], [0.5, \"#f7f7f7\"], [0.6, \"#e6f5d0\"], [0.7, \"#b8e186\"], [0.8, \"#7fbc41\"], [0.9, \"#4d9221\"], [1, \"#276419\"]], \"sequential\": [[0.0, \"#0d0887\"], [0.1111111111111111, \"#46039f\"], [0.2222222222222222, \"#7201a8\"], [0.3333333333333333, \"#9c179e\"], [0.4444444444444444, \"#bd3786\"], [0.5555555555555556, \"#d8576b\"], [0.6666666666666666, \"#ed7953\"], [0.7777777777777778, \"#fb9f3a\"], [0.8888888888888888, \"#fdca26\"], [1.0, \"#f0f921\"]], \"sequentialminus\": [[0.0, \"#0d0887\"], [0.1111111111111111, \"#46039f\"], [0.2222222222222222, \"#7201a8\"], [0.3333333333333333, \"#9c179e\"], [0.4444444444444444, \"#bd3786\"], [0.5555555555555556, \"#d8576b\"], [0.6666666666666666, \"#ed7953\"], [0.7777777777777778, \"#fb9f3a\"], [0.8888888888888888, \"#fdca26\"], [1.0, \"#f0f921\"]]}, \"colorway\": [\"#636efa\", \"#EF553B\", \"#00cc96\", \"#ab63fa\", \"#FFA15A\", \"#19d3f3\", \"#FF6692\", \"#B6E880\", \"#FF97FF\", \"#FECB52\"], \"font\": {\"color\": \"#2a3f5f\"}, \"geo\": {\"bgcolor\": \"white\", \"lakecolor\": \"white\", \"landcolor\": \"#E5ECF6\", \"showlakes\": true, \"showland\": true, \"subunitcolor\": \"white\"}, \"hoverlabel\": {\"align\": \"left\"}, \"hovermode\": \"closest\", \"mapbox\": {\"style\": \"light\"}, \"paper_bgcolor\": \"white\", \"plot_bgcolor\": \"#E5ECF6\", \"polar\": {\"angularaxis\": {\"gridcolor\": \"white\", \"linecolor\": \"white\", \"ticks\": \"\"}, \"bgcolor\": \"#E5ECF6\", \"radialaxis\": {\"gridcolor\": \"white\", \"linecolor\": \"white\", \"ticks\": \"\"}}, \"scene\": {\"xaxis\": {\"backgroundcolor\": \"#E5ECF6\", \"gridcolor\": \"white\", \"gridwidth\": 2, \"linecolor\": \"white\", \"showbackground\": true, \"ticks\": \"\", \"zerolinecolor\": \"white\"}, \"yaxis\": {\"backgroundcolor\": \"#E5ECF6\", \"gridcolor\": \"white\", \"gridwidth\": 2, \"linecolor\": \"white\", \"showbackground\": true, \"ticks\": \"\", \"zerolinecolor\": \"white\"}, \"zaxis\": {\"backgroundcolor\": \"#E5ECF6\", \"gridcolor\": \"white\", \"gridwidth\": 2, \"linecolor\": \"white\", \"showbackground\": true, \"ticks\": \"\", \"zerolinecolor\": \"white\"}}, \"shapedefaults\": {\"line\": {\"color\": \"#2a3f5f\"}}, \"ternary\": {\"aaxis\": {\"gridcolor\": \"white\", \"linecolor\": \"white\", \"ticks\": \"\"}, \"baxis\": {\"gridcolor\": \"white\", \"linecolor\": \"white\", \"ticks\": \"\"}, \"bgcolor\": \"#E5ECF6\", \"caxis\": {\"gridcolor\": \"white\", \"linecolor\": \"white\", \"ticks\": \"\"}}, \"title\": {\"x\": 0.05}, \"xaxis\": {\"automargin\": true, \"gridcolor\": \"white\", \"linecolor\": \"white\", \"ticks\": \"\", \"title\": {\"standoff\": 15}, \"zerolinecolor\": \"white\", \"zerolinewidth\": 2}, \"yaxis\": {\"automargin\": true, \"gridcolor\": \"white\", \"linecolor\": \"white\", \"ticks\": \"\", \"title\": {\"standoff\": 15}, \"zerolinecolor\": \"white\", \"zerolinewidth\": 2}}}},                        {\"responsive\": true}                    ).then(function(){\n",
       "                            \n",
       "var gd = document.getElementById('2cd778e7-6c55-415a-b0dc-141f660ebcd7');\n",
       "var x = new MutationObserver(function (mutations, observer) {{\n",
       "        var display = window.getComputedStyle(gd).display;\n",
       "        if (!display || display === 'none') {{\n",
       "            console.log([gd, 'removed!']);\n",
       "            Plotly.purge(gd);\n",
       "            observer.disconnect();\n",
       "        }}\n",
       "}});\n",
       "\n",
       "// Listen for the removal of the full notebook cells\n",
       "var notebookContainer = gd.closest('#notebook-container');\n",
       "if (notebookContainer) {{\n",
       "    x.observe(notebookContainer, {childList: true});\n",
       "}}\n",
       "\n",
       "// Listen for the clearing of the current output cell\n",
       "var outputEl = gd.closest('.output');\n",
       "if (outputEl) {{\n",
       "    x.observe(outputEl, {childList: true});\n",
       "}}\n",
       "\n",
       "                        })                };                });            </script>        </div>"
      ]
     },
     "metadata": {},
     "output_type": "display_data"
    }
   ],
   "source": [
    "fig_fc = go.Figure()\n",
    "\n",
    "fig_fc.add_trace(go.Scatter(x=results_df.index, y = results_df['power'], name = 'actual'))\n",
    "fig_fc.add_trace(go.Scatter(x=results_df.index, y = results_df['fc'], name = 'fc'))\n",
    "\n",
    "fig_fc.show()"
   ]
  }
 ],
 "metadata": {
  "kernelspec": {
   "display_name": "Python 3",
   "language": "python",
   "name": "python3"
  },
  "language_info": {
   "codemirror_mode": {
    "name": "ipython",
    "version": 3
   },
   "file_extension": ".py",
   "mimetype": "text/x-python",
   "name": "python",
   "nbconvert_exporter": "python",
   "pygments_lexer": "ipython3",
   "version": "3.8.6"
  }
 },
 "nbformat": 4,
 "nbformat_minor": 5
}
