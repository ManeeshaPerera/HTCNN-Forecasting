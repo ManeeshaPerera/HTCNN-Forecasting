{
 "cells": [
  {
   "cell_type": "code",
   "execution_count": 8,
   "metadata": {},
   "outputs": [],
   "source": [
    "import matplotlib as mpl\n",
    "import matplotlib.pyplot as plt\n",
    "import pandas as pd\n",
    "import seaborn as sns\n",
    "mpl.rcParams['figure.figsize'] = (8, 6)\n",
    "mpl.rcParams['axes.grid'] = False\n",
    "import pickle"
   ]
  },
  {
   "cell_type": "code",
   "execution_count": 2,
   "metadata": {},
   "outputs": [],
   "source": [
    "def plot_series(time, series, format=\"-\", start=0, end=None):\n",
    "    plt.plot(time[start:end], series[start:end], format)\n",
    "    plt.xlabel(\"Time\")\n",
    "    plt.ylabel(\"Value\")\n",
    "    plt.grid(True)"
   ]
  },
  {
   "cell_type": "code",
   "execution_count": 3,
   "metadata": {},
   "outputs": [],
   "source": [
    "data = pd.read_pickle('../input/hf_data')"
   ]
  },
  {
   "cell_type": "code",
   "execution_count": 4,
   "metadata": {},
   "outputs": [
    {
     "data": {
      "text/html": [
       "<div>\n",
       "<style scoped>\n",
       "    .dataframe tbody tr th:only-of-type {\n",
       "        vertical-align: middle;\n",
       "    }\n",
       "\n",
       "    .dataframe tbody tr th {\n",
       "        vertical-align: top;\n",
       "    }\n",
       "\n",
       "    .dataframe thead th {\n",
       "        text-align: right;\n",
       "    }\n",
       "</style>\n",
       "<table border=\"1\" class=\"dataframe\">\n",
       "  <thead>\n",
       "    <tr style=\"text-align: right;\">\n",
       "      <th></th>\n",
       "      <th>grid</th>\n",
       "      <th>tline_1</th>\n",
       "      <th>tline_2</th>\n",
       "      <th>substation1</th>\n",
       "      <th>substation2</th>\n",
       "      <th>substation3</th>\n",
       "      <th>substation4</th>\n",
       "      <th>6010</th>\n",
       "      <th>6014</th>\n",
       "      <th>6011</th>\n",
       "      <th>...</th>\n",
       "      <th>85694558</th>\n",
       "      <th>1182224566</th>\n",
       "      <th>2055472870</th>\n",
       "      <th>650018053</th>\n",
       "      <th>2055472870</th>\n",
       "      <th>1221247069</th>\n",
       "      <th>1824904740</th>\n",
       "      <th>838391054</th>\n",
       "      <th>1833543864</th>\n",
       "      <th>258147159</th>\n",
       "    </tr>\n",
       "  </thead>\n",
       "  <tbody>\n",
       "    <tr>\n",
       "      <th>2020-02-12 20:05:00+08:00</th>\n",
       "      <td>5661.15</td>\n",
       "      <td>3240.70</td>\n",
       "      <td>2420.45</td>\n",
       "      <td>2229.26</td>\n",
       "      <td>1011.44</td>\n",
       "      <td>2392.96</td>\n",
       "      <td>27.49</td>\n",
       "      <td>1587.60</td>\n",
       "      <td>641.66</td>\n",
       "      <td>800.62</td>\n",
       "      <td>...</td>\n",
       "      <td>0.0</td>\n",
       "      <td>0.0</td>\n",
       "      <td>0.0</td>\n",
       "      <td>0.0</td>\n",
       "      <td>0.0</td>\n",
       "      <td>0.0</td>\n",
       "      <td>0.0</td>\n",
       "      <td>0.0</td>\n",
       "      <td>0.0</td>\n",
       "      <td>0.0</td>\n",
       "    </tr>\n",
       "    <tr>\n",
       "      <th>2020-02-12 20:10:00+08:00</th>\n",
       "      <td>6744.40</td>\n",
       "      <td>4073.04</td>\n",
       "      <td>2671.36</td>\n",
       "      <td>2872.01</td>\n",
       "      <td>1201.03</td>\n",
       "      <td>2652.16</td>\n",
       "      <td>19.20</td>\n",
       "      <td>1919.45</td>\n",
       "      <td>952.56</td>\n",
       "      <td>925.42</td>\n",
       "      <td>...</td>\n",
       "      <td>0.0</td>\n",
       "      <td>0.0</td>\n",
       "      <td>0.0</td>\n",
       "      <td>0.0</td>\n",
       "      <td>0.0</td>\n",
       "      <td>0.0</td>\n",
       "      <td>0.0</td>\n",
       "      <td>0.0</td>\n",
       "      <td>0.0</td>\n",
       "      <td>0.0</td>\n",
       "    </tr>\n",
       "    <tr>\n",
       "      <th>2020-02-12 20:15:00+08:00</th>\n",
       "      <td>7133.07</td>\n",
       "      <td>4145.87</td>\n",
       "      <td>2987.20</td>\n",
       "      <td>3054.38</td>\n",
       "      <td>1091.49</td>\n",
       "      <td>2966.00</td>\n",
       "      <td>21.20</td>\n",
       "      <td>1696.12</td>\n",
       "      <td>1358.26</td>\n",
       "      <td>836.98</td>\n",
       "      <td>...</td>\n",
       "      <td>0.0</td>\n",
       "      <td>0.0</td>\n",
       "      <td>0.0</td>\n",
       "      <td>0.0</td>\n",
       "      <td>0.0</td>\n",
       "      <td>0.0</td>\n",
       "      <td>0.0</td>\n",
       "      <td>0.0</td>\n",
       "      <td>0.0</td>\n",
       "      <td>0.0</td>\n",
       "    </tr>\n",
       "    <tr>\n",
       "      <th>2020-02-12 20:20:00+08:00</th>\n",
       "      <td>6402.32</td>\n",
       "      <td>3489.96</td>\n",
       "      <td>2912.36</td>\n",
       "      <td>2503.56</td>\n",
       "      <td>986.40</td>\n",
       "      <td>2890.57</td>\n",
       "      <td>21.79</td>\n",
       "      <td>1437.91</td>\n",
       "      <td>1065.65</td>\n",
       "      <td>760.54</td>\n",
       "      <td>...</td>\n",
       "      <td>0.0</td>\n",
       "      <td>0.0</td>\n",
       "      <td>0.0</td>\n",
       "      <td>0.0</td>\n",
       "      <td>0.0</td>\n",
       "      <td>0.0</td>\n",
       "      <td>0.0</td>\n",
       "      <td>0.0</td>\n",
       "      <td>0.0</td>\n",
       "      <td>0.0</td>\n",
       "    </tr>\n",
       "    <tr>\n",
       "      <th>2020-02-12 20:25:00+08:00</th>\n",
       "      <td>5783.29</td>\n",
       "      <td>3095.92</td>\n",
       "      <td>2687.37</td>\n",
       "      <td>2195.65</td>\n",
       "      <td>900.27</td>\n",
       "      <td>2662.89</td>\n",
       "      <td>24.48</td>\n",
       "      <td>1267.02</td>\n",
       "      <td>928.63</td>\n",
       "      <td>705.38</td>\n",
       "      <td>...</td>\n",
       "      <td>0.0</td>\n",
       "      <td>0.0</td>\n",
       "      <td>0.0</td>\n",
       "      <td>0.0</td>\n",
       "      <td>0.0</td>\n",
       "      <td>0.0</td>\n",
       "      <td>0.0</td>\n",
       "      <td>0.0</td>\n",
       "      <td>0.0</td>\n",
       "      <td>0.0</td>\n",
       "    </tr>\n",
       "  </tbody>\n",
       "</table>\n",
       "<p>5 rows × 90 columns</p>\n",
       "</div>"
      ],
      "text/plain": [
       "                              grid  tline_1  tline_2  substation1  \\\n",
       "2020-02-12 20:05:00+08:00  5661.15  3240.70  2420.45      2229.26   \n",
       "2020-02-12 20:10:00+08:00  6744.40  4073.04  2671.36      2872.01   \n",
       "2020-02-12 20:15:00+08:00  7133.07  4145.87  2987.20      3054.38   \n",
       "2020-02-12 20:20:00+08:00  6402.32  3489.96  2912.36      2503.56   \n",
       "2020-02-12 20:25:00+08:00  5783.29  3095.92  2687.37      2195.65   \n",
       "\n",
       "                           substation2  substation3  substation4     6010  \\\n",
       "2020-02-12 20:05:00+08:00      1011.44      2392.96        27.49  1587.60   \n",
       "2020-02-12 20:10:00+08:00      1201.03      2652.16        19.20  1919.45   \n",
       "2020-02-12 20:15:00+08:00      1091.49      2966.00        21.20  1696.12   \n",
       "2020-02-12 20:20:00+08:00       986.40      2890.57        21.79  1437.91   \n",
       "2020-02-12 20:25:00+08:00       900.27      2662.89        24.48  1267.02   \n",
       "\n",
       "                              6014    6011  ...  85694558  1182224566  \\\n",
       "2020-02-12 20:05:00+08:00   641.66  800.62  ...       0.0         0.0   \n",
       "2020-02-12 20:10:00+08:00   952.56  925.42  ...       0.0         0.0   \n",
       "2020-02-12 20:15:00+08:00  1358.26  836.98  ...       0.0         0.0   \n",
       "2020-02-12 20:20:00+08:00  1065.65  760.54  ...       0.0         0.0   \n",
       "2020-02-12 20:25:00+08:00   928.63  705.38  ...       0.0         0.0   \n",
       "\n",
       "                           2055472870  650018053  2055472870  1221247069  \\\n",
       "2020-02-12 20:05:00+08:00         0.0        0.0         0.0         0.0   \n",
       "2020-02-12 20:10:00+08:00         0.0        0.0         0.0         0.0   \n",
       "2020-02-12 20:15:00+08:00         0.0        0.0         0.0         0.0   \n",
       "2020-02-12 20:20:00+08:00         0.0        0.0         0.0         0.0   \n",
       "2020-02-12 20:25:00+08:00         0.0        0.0         0.0         0.0   \n",
       "\n",
       "                           1824904740  838391054  1833543864  258147159  \n",
       "2020-02-12 20:05:00+08:00         0.0        0.0         0.0        0.0  \n",
       "2020-02-12 20:10:00+08:00         0.0        0.0         0.0        0.0  \n",
       "2020-02-12 20:15:00+08:00         0.0        0.0         0.0        0.0  \n",
       "2020-02-12 20:20:00+08:00         0.0        0.0         0.0        0.0  \n",
       "2020-02-12 20:25:00+08:00         0.0        0.0         0.0        0.0  \n",
       "\n",
       "[5 rows x 90 columns]"
      ]
     },
     "execution_count": 4,
     "metadata": {},
     "output_type": "execute_result"
    }
   ],
   "source": [
    "data.head()"
   ]
  },
  {
   "cell_type": "code",
   "execution_count": 5,
   "metadata": {},
   "outputs": [
    {
     "data": {
      "text/plain": [
       "82404"
      ]
     },
     "execution_count": 5,
     "metadata": {},
     "output_type": "execute_result"
    }
   ],
   "source": [
    "len(data)"
   ]
  },
  {
   "cell_type": "code",
   "execution_count": 11,
   "metadata": {},
   "outputs": [],
   "source": [
    "series = data['grid'][0:50000].values\n",
    "time = data.index[0:50000].values\n",
    "\n",
    "split_time = int(50000 * 0.7)\n",
    "time_train = time[:split_time]\n",
    "x_train = series[:split_time]\n",
    "time_valid = time[split_time:]\n",
    "x_valid = series[split_time:]"
   ]
  },
  {
   "cell_type": "code",
   "execution_count": 9,
   "metadata": {},
   "outputs": [],
   "source": [
    "with open('../results/forecast_region', 'rb') as f:\n",
    "    forecast = pickle.load(f)"
   ]
  },
  {
   "cell_type": "code",
   "execution_count": 10,
   "metadata": {},
   "outputs": [
    {
     "data": {
      "text/plain": [
       "array([9920.382, 9920.382, 9920.382, ..., 9920.381, 9920.381, 9920.381],\n",
       "      dtype=float32)"
      ]
     },
     "execution_count": 10,
     "metadata": {},
     "output_type": "execute_result"
    }
   ],
   "source": [
    "forecast"
   ]
  },
  {
   "cell_type": "code",
   "execution_count": 17,
   "metadata": {},
   "outputs": [
    {
     "data": {
      "image/png": "[encoded data removed]",
      "text/plain": [
       "<Figure size 720x432 with 1 Axes>"
      ]
     },
     "metadata": {
      "needs_background": "light"
     },
     "output_type": "display_data"
    }
   ],
   "source": [
    "plt.figure(figsize=(10, 6))\n",
    "\n",
    "# plot_series(time_valid, x_valid)\n",
    "plot_series(time_valid[0:1000], forecast[0:1000])"
   ]
  }
 ],
 "metadata": {
  "kernelspec": {
   "display_name": "Python 3",
   "language": "python",
   "name": "python3"
  },
  "language_info": {
   "codemirror_mode": {
    "name": "ipython",
    "version": 3
   },
   "file_extension": ".py",
   "mimetype": "text/x-python",
   "name": "python",
   "nbconvert_exporter": "python",
   "pygments_lexer": "ipython3",
   "version": "3.8.6"
  }
 },
 "nbformat": 4,
 "nbformat_minor": 1
}
