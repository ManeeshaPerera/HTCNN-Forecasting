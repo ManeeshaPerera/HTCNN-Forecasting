{
 "cells": [
  {
   "cell_type": "markdown",
   "metadata": {},
   "source": [
    "# Benchmark models for Grid level"
   ]
  },
  {
   "cell_type": "code",
   "execution_count": 1,
   "metadata": {},
   "outputs": [],
   "source": [
    "import sys\n",
    "sys.path.insert(0, '../')\n",
    "\n",
    "import src.utils as util\n",
    "import src.calculate_errors as err\n",
    "import constants as const\n",
    "\n",
    "%load_ext autoreload\n",
    "%autoreload 2"
   ]
  },
  {
   "cell_type": "code",
   "execution_count": 2,
   "metadata": {},
   "outputs": [],
   "source": [
    "import pandas as pd\n",
    "import numpy as np"
   ]
  },
  {
   "cell_type": "code",
   "execution_count": 3,
   "metadata": {},
   "outputs": [],
   "source": [
    "from sktime.forecasting.ets import AutoETS\n",
    "# from sktime.forecasting.bats import TBATS\n",
    "from sktime.forecasting.arima import AutoARIMA"
   ]
  },
  {
   "cell_type": "code",
   "execution_count": 46,
   "metadata": {},
   "outputs": [],
   "source": [
    "data = pd.read_csv(f'../ts_data/6010.csv', index_col=[0])"
   ]
  },
  {
   "cell_type": "code",
   "execution_count": 47,
   "metadata": {},
   "outputs": [
    {
     "data": {
      "text/html": [
       "<div>\n",
       "<style scoped>\n",
       "    .dataframe tbody tr th:only-of-type {\n",
       "        vertical-align: middle;\n",
       "    }\n",
       "\n",
       "    .dataframe tbody tr th {\n",
       "        vertical-align: top;\n",
       "    }\n",
       "\n",
       "    .dataframe thead th {\n",
       "        text-align: right;\n",
       "    }\n",
       "</style>\n",
       "<table border=\"1\" class=\"dataframe\">\n",
       "  <thead>\n",
       "    <tr style=\"text-align: right;\">\n",
       "      <th></th>\n",
       "      <th>power</th>\n",
       "      <th>wind</th>\n",
       "      <th>temperature</th>\n",
       "      <th>dewPoint</th>\n",
       "      <th>cloudCover</th>\n",
       "      <th>humidity</th>\n",
       "      <th>pressure</th>\n",
       "      <th>uvIndex</th>\n",
       "      <th>wind_1</th>\n",
       "      <th>temperature_1</th>\n",
       "      <th>...</th>\n",
       "      <th>humidity_13</th>\n",
       "      <th>pressure_13</th>\n",
       "      <th>uvIndex_13</th>\n",
       "      <th>wind_14</th>\n",
       "      <th>temperature_14</th>\n",
       "      <th>dewPoint_14</th>\n",
       "      <th>cloudCover_14</th>\n",
       "      <th>humidity_14</th>\n",
       "      <th>pressure_14</th>\n",
       "      <th>uvIndex_14</th>\n",
       "    </tr>\n",
       "    <tr>\n",
       "      <th>date_str</th>\n",
       "      <th></th>\n",
       "      <th></th>\n",
       "      <th></th>\n",
       "      <th></th>\n",
       "      <th></th>\n",
       "      <th></th>\n",
       "      <th></th>\n",
       "      <th></th>\n",
       "      <th></th>\n",
       "      <th></th>\n",
       "      <th></th>\n",
       "      <th></th>\n",
       "      <th></th>\n",
       "      <th></th>\n",
       "      <th></th>\n",
       "      <th></th>\n",
       "      <th></th>\n",
       "      <th></th>\n",
       "      <th></th>\n",
       "      <th></th>\n",
       "      <th></th>\n",
       "    </tr>\n",
       "  </thead>\n",
       "  <tbody>\n",
       "  </tbody>\n",
       "</table>\n",
       "<p>0 rows × 106 columns</p>\n",
       "</div>"
      ],
      "text/plain": [
       "Empty DataFrame\n",
       "Columns: [power, wind, temperature, dewPoint, cloudCover, humidity, pressure, uvIndex, wind_1, temperature_1, dewPoint_1, cloudCover_1, humidity_1, pressure_1, uvIndex_1, wind_2, temperature_2, dewPoint_2, cloudCover_2, humidity_2, pressure_2, uvIndex_2, wind_3, temperature_3, dewPoint_3, cloudCover_3, humidity_3, pressure_3, uvIndex_3, wind_4, temperature_4, dewPoint_4, cloudCover_4, humidity_4, pressure_4, uvIndex_4, wind_5, temperature_5, dewPoint_5, cloudCover_5, humidity_5, pressure_5, uvIndex_5, wind_6, temperature_6, dewPoint_6, cloudCover_6, humidity_6, pressure_6, uvIndex_6, wind_7, temperature_7, dewPoint_7, cloudCover_7, humidity_7, pressure_7, uvIndex_7, wind_8, temperature_8, dewPoint_8, cloudCover_8, humidity_8, pressure_8, uvIndex_8, wind_9, temperature_9, dewPoint_9, cloudCover_9, humidity_9, pressure_9, uvIndex_9, wind_10, temperature_10, dewPoint_10, cloudCover_10, humidity_10, pressure_10, uvIndex_10, wind_11, temperature_11, dewPoint_11, cloudCover_11, humidity_11, pressure_11, uvIndex_11, wind_12, temperature_12, dewPoint_12, cloudCover_12, humidity_12, pressure_12, uvIndex_12, wind_13, temperature_13, dewPoint_13, cloudCover_13, humidity_13, pressure_13, uvIndex_13, wind_14, ...]\n",
       "Index: []\n",
       "\n",
       "[0 rows x 106 columns]"
      ]
     },
     "execution_count": 47,
     "metadata": {},
     "output_type": "execute_result"
    }
   ],
   "source": [
    "data.loc[data['power'] < 0]"
   ]
  },
  {
   "cell_type": "code",
   "execution_count": 6,
   "metadata": {},
   "outputs": [],
   "source": [
    "look_back = 14 * 7  # 14 hours in to 7 days\n",
    "# train, val, test split\n",
    "train, val, test = util.split_hourly_data(data, look_back)"
   ]
  },
  {
   "cell_type": "code",
   "execution_count": 7,
   "metadata": {},
   "outputs": [],
   "source": [
    "fh = np.arange(14) + 1"
   ]
  },
  {
   "cell_type": "code",
   "execution_count": 8,
   "metadata": {},
   "outputs": [
    {
     "data": {
      "text/plain": [
       "array([ 1,  2,  3,  4,  5,  6,  7,  8,  9, 10, 11, 12, 13, 14])"
      ]
     },
     "execution_count": 8,
     "metadata": {},
     "output_type": "execute_result"
    }
   ],
   "source": [
    "fh"
   ]
  },
  {
   "cell_type": "markdown",
   "metadata": {},
   "source": [
    "# ARIMA"
   ]
  },
  {
   "cell_type": "code",
   "execution_count": 15,
   "metadata": {},
   "outputs": [],
   "source": [
    "test_series = pd.Series(test[look_back:]['power'].values)"
   ]
  },
  {
   "cell_type": "code",
   "execution_count": 9,
   "metadata": {},
   "outputs": [],
   "source": [
    "train_series = pd.Series(train['power'].values)"
   ]
  },
  {
   "cell_type": "code",
   "execution_count": 11,
   "metadata": {},
   "outputs": [
    {
     "name": "stdout",
     "output_type": "stream",
     "text": [
      "Performing stepwise search to minimize aic\n",
      " ARIMA(2,1,2)(1,0,1)[14] intercept   : AIC=82656.279, Time=10.21 sec\n",
      " ARIMA(0,1,0)(0,0,0)[14] intercept   : AIC=86828.301, Time=0.11 sec\n",
      " ARIMA(1,1,0)(1,0,0)[14] intercept   : AIC=83942.912, Time=1.00 sec\n",
      " ARIMA(0,1,1)(0,0,1)[14] intercept   : AIC=84851.085, Time=1.15 sec\n",
      " ARIMA(0,1,0)(0,0,0)[14]             : AIC=86826.302, Time=0.05 sec\n",
      " ARIMA(2,1,2)(0,0,1)[14] intercept   : AIC=83002.083, Time=9.63 sec\n",
      " ARIMA(2,1,2)(1,0,0)[14] intercept   : AIC=82999.389, Time=9.49 sec\n",
      " ARIMA(2,1,2)(2,0,1)[14] intercept   : AIC=82662.060, Time=28.69 sec\n",
      " ARIMA(2,1,2)(1,0,2)[14] intercept   : AIC=82658.434, Time=24.41 sec\n",
      " ARIMA(2,1,2)(0,0,0)[14] intercept   : AIC=83096.503, Time=3.22 sec\n",
      " ARIMA(2,1,2)(0,0,2)[14] intercept   : AIC=82948.464, Time=35.74 sec\n",
      " ARIMA(2,1,2)(2,0,0)[14] intercept   : AIC=inf, Time=42.69 sec\n",
      " ARIMA(2,1,2)(2,0,2)[14] intercept   : AIC=inf, Time=31.71 sec\n",
      " ARIMA(1,1,2)(1,0,1)[14] intercept   : AIC=inf, Time=11.53 sec\n",
      " ARIMA(2,1,1)(1,0,1)[14] intercept   : AIC=inf, Time=13.53 sec\n",
      " ARIMA(3,1,2)(1,0,1)[14] intercept   : AIC=inf, Time=12.39 sec\n",
      " ARIMA(2,1,3)(1,0,1)[14] intercept   : AIC=inf, Time=17.81 sec\n",
      " ARIMA(1,1,1)(1,0,1)[14] intercept   : AIC=inf, Time=17.21 sec\n",
      " ARIMA(1,1,3)(1,0,1)[14] intercept   : AIC=inf, Time=22.89 sec\n",
      " ARIMA(3,1,1)(1,0,1)[14] intercept   : AIC=inf, Time=5.94 sec\n",
      " ARIMA(3,1,3)(1,0,1)[14] intercept   : AIC=inf, Time=15.39 sec\n",
      " ARIMA(2,1,2)(1,0,1)[14]             : AIC=inf, Time=13.80 sec\n",
      "\n",
      "Best model:  ARIMA(2,1,2)(1,0,1)[14] intercept\n",
      "Total fit time: 328.619 seconds\n"
     ]
    }
   ],
   "source": [
    "forecaster =  AutoARIMA(sp=14, suppress_warnings=True, trace = True)\n",
    "forecaster.fit(train_series)\n",
    "y_pred = forecaster.predict(fh)"
   ]
  },
  {
   "cell_type": "code",
   "execution_count": 72,
   "metadata": {},
   "outputs": [
    {
     "data": {
      "text/plain": [
       "AutoARIMA(sp=14, suppress_warnings=True, trace=True)"
      ]
     },
     "execution_count": 72,
     "metadata": {},
     "output_type": "execute_result"
    }
   ],
   "source": [
    "forecaster"
   ]
  },
  {
   "cell_type": "markdown",
   "metadata": {},
   "source": [
    "Check with pmdarima"
   ]
  },
  {
   "cell_type": "code",
   "execution_count": 40,
   "metadata": {},
   "outputs": [],
   "source": [
    "from pmdarima import auto_arima"
   ]
  },
  {
   "cell_type": "code",
   "execution_count": 66,
   "metadata": {},
   "outputs": [
    {
     "data": {
      "text/plain": [
       "array([7.220000e+00, 3.520000e+00, 1.784060e+03, 4.053400e+02,\n",
       "       1.623232e+04, 2.326704e+04, 2.816688e+04, 2.938593e+04,\n",
       "       2.592064e+04, 2.052662e+04, 2.401799e+04, 2.280440e+04,\n",
       "       1.627074e+04, 8.503380e+03, 4.370000e+00, 2.320000e+00,\n",
       "       1.836860e+03, 8.286030e+03, 1.564794e+04, 2.298999e+04,\n",
       "       2.799102e+04, 3.033929e+04, 3.076921e+04, 3.028986e+04,\n",
       "       2.844307e+04, 2.368641e+04, 1.649783e+04, 8.636240e+03,\n",
       "       6.130000e+00, 3.430000e+00, 5.218500e+02, 7.987260e+03,\n",
       "       9.193460e+03, 8.793710e+03, 9.973850e+03, 1.010616e+04,\n",
       "       9.216950e+03, 8.493740e+03, 1.024442e+04, 1.142906e+04,\n",
       "       1.003188e+04, 3.729940e+03, 1.430000e+00, 6.500000e-01,\n",
       "       9.235700e+02, 3.592280e+03, 1.567526e+04, 1.703402e+04,\n",
       "       2.671945e+04, 3.187269e+04, 3.250274e+04, 3.221833e+04,\n",
       "       3.021931e+04, 2.515554e+04, 1.731551e+04, 8.716740e+03,\n",
       "       3.200000e-01, 2.300000e-01, 1.748390e+03, 7.882250e+03,\n",
       "       1.690552e+04, 2.405457e+04, 2.903128e+04, 3.117284e+04,\n",
       "       3.149671e+04, 3.179191e+04, 2.917807e+04, 2.398982e+04,\n",
       "       1.642623e+04, 8.483420e+03, 2.700000e-01, 1.700000e-01,\n",
       "       2.248300e+03, 8.251320e+03, 1.708310e+04, 2.406109e+04,\n",
       "       2.938720e+04, 2.581490e+03, 2.372021e+04, 2.515966e+04,\n",
       "       2.156356e+04, 2.128439e+04, 1.217859e+04, 6.842980e+03,\n",
       "       4.980000e+00, 3.050000e+00, 1.138350e+03, 7.168950e+03,\n",
       "       1.471654e+04, 1.693983e+04, 2.757702e+04, 2.968354e+04,\n",
       "       2.643839e+04, 2.408132e+04, 2.041314e+04, 2.430852e+04,\n",
       "       1.561418e+04, 8.491890e+03, 1.288000e+01, 7.850000e+00])"
      ]
     },
     "execution_count": 66,
     "metadata": {},
     "output_type": "execute_result"
    }
   ],
   "source": [
    "data.iloc[:, 0].values[0:100]"
   ]
  },
  {
   "cell_type": "code",
   "execution_count": 67,
   "metadata": {},
   "outputs": [
    {
     "data": {
      "text/plain": [
       "array([[3.2000e+00, 2.1920e+01, 1.9280e+01, 2.1000e-01, 8.5000e-01,\n",
       "        1.0112e+03, 0.0000e+00],\n",
       "       [3.1700e+00, 2.2550e+01, 1.9480e+01, 0.0000e+00, 8.3000e-01,\n",
       "        1.0115e+03, 0.0000e+00],\n",
       "       [3.5100e+00, 2.3090e+01, 1.9690e+01, 0.0000e+00, 8.1000e-01,\n",
       "        1.0119e+03, 0.0000e+00],\n",
       "       [4.0000e+00, 2.3980e+01, 1.9830e+01, 0.0000e+00, 7.8000e-01,\n",
       "        1.0123e+03, 0.0000e+00],\n",
       "       [4.2400e+00, 2.5350e+01, 2.0250e+01, 0.0000e+00, 7.3000e-01,\n",
       "        1.0123e+03, 2.0000e+00],\n",
       "       [4.0500e+00, 2.7970e+01, 2.0730e+01, 1.0000e-02, 6.5000e-01,\n",
       "        1.0127e+03, 4.0000e+00],\n",
       "       [3.1000e+00, 2.9810e+01, 2.1050e+01, 1.0000e-02, 5.9000e-01,\n",
       "        1.0122e+03, 8.0000e+00],\n",
       "       [2.7200e+00, 3.0750e+01, 2.1540e+01, 2.0000e-02, 5.8000e-01,\n",
       "        1.0117e+03, 1.0000e+01],\n",
       "       [3.5900e+00, 3.0980e+01, 2.1560e+01, 2.0000e-02, 5.7000e-01,\n",
       "        1.0112e+03, 1.2000e+01],\n",
       "       [5.1200e+00, 3.0470e+01, 2.1350e+01, 3.0000e-02, 5.8000e-01,\n",
       "        1.0107e+03, 1.2000e+01],\n",
       "       [5.7100e+00, 2.9900e+01, 2.1260e+01, 4.0000e-02, 6.0000e-01,\n",
       "        1.0106e+03, 1.0000e+01],\n",
       "       [6.6600e+00, 2.9720e+01, 2.1100e+01, 3.0000e-02, 6.0000e-01,\n",
       "        1.0101e+03, 8.0000e+00],\n",
       "       [7.5800e+00, 2.9350e+01, 2.0850e+01, 2.0000e-02, 6.0000e-01,\n",
       "        1.0098e+03, 5.0000e+00],\n",
       "       [8.0500e+00, 2.8810e+01, 2.0610e+01, 1.0000e-02, 6.1000e-01,\n",
       "        1.0096e+03, 2.0000e+00],\n",
       "       [5.9800e+00, 2.6000e+01, 1.8910e+01, 1.6000e-01, 6.5000e-01,\n",
       "        1.0092e+03, 0.0000e+00],\n",
       "       [5.7600e+00, 2.6240e+01, 1.9250e+01, 0.0000e+00, 6.5000e-01,\n",
       "        1.0093e+03, 0.0000e+00],\n",
       "       [5.6900e+00, 2.6370e+01, 1.9610e+01, 0.0000e+00, 6.6000e-01,\n",
       "        1.0096e+03, 0.0000e+00],\n",
       "       [5.6600e+00, 2.6840e+01, 1.9990e+01, 0.0000e+00, 6.6000e-01,\n",
       "        1.0100e+03, 0.0000e+00],\n",
       "       [5.4500e+00, 2.7810e+01, 2.0390e+01, 0.0000e+00, 6.4000e-01,\n",
       "        1.0102e+03, 2.0000e+00],\n",
       "       [3.3400e+00, 2.8810e+01, 2.0940e+01, 1.0000e-02, 6.2000e-01,\n",
       "        1.0106e+03, 4.0000e+00],\n",
       "       [2.5900e+00, 3.1040e+01, 2.1730e+01, 0.0000e+00, 5.8000e-01,\n",
       "        1.0101e+03, 7.0000e+00],\n",
       "       [2.4100e+00, 3.3050e+01, 2.2250e+01, 0.0000e+00, 5.3000e-01,\n",
       "        1.0095e+03, 1.0000e+01],\n",
       "       [3.2100e+00, 3.3990e+01, 2.1880e+01, 0.0000e+00, 4.9000e-01,\n",
       "        1.0083e+03, 1.2000e+01],\n",
       "       [4.5200e+00, 3.4260e+01, 2.0990e+01, 0.0000e+00, 4.6000e-01,\n",
       "        1.0071e+03, 1.2000e+01],\n",
       "       [5.3000e+00, 3.3360e+01, 2.1250e+01, 1.0000e-02, 4.9000e-01,\n",
       "        1.0064e+03, 1.0000e+01],\n",
       "       [5.5700e+00, 3.2740e+01, 2.1370e+01, 0.0000e+00, 5.1000e-01,\n",
       "        1.0059e+03, 8.0000e+00],\n",
       "       [5.3200e+00, 3.1700e+01, 2.1450e+01, 0.0000e+00, 5.5000e-01,\n",
       "        1.0058e+03, 5.0000e+00],\n",
       "       [4.8000e+00, 3.0440e+01, 2.1370e+01, 0.0000e+00, 5.8000e-01,\n",
       "        1.0058e+03, 2.0000e+00],\n",
       "       [2.5800e+00, 2.1410e+01, 2.1240e+01, 2.0000e-02, 9.9000e-01,\n",
       "        1.0072e+03, 0.0000e+00],\n",
       "       [2.6600e+00, 2.1810e+01, 2.1580e+01, 2.0000e-02, 9.9000e-01,\n",
       "        1.0074e+03, 0.0000e+00],\n",
       "       [2.9100e+00, 2.1980e+01, 2.1810e+01, 3.0000e-02, 9.9000e-01,\n",
       "        1.0078e+03, 0.0000e+00],\n",
       "       [3.2300e+00, 2.2330e+01, 2.2080e+01, 3.0000e-02, 9.8000e-01,\n",
       "        1.0084e+03, 0.0000e+00],\n",
       "       [3.6000e+00, 2.2870e+01, 2.2380e+01, 1.0000e-01, 9.7000e-01,\n",
       "        1.0090e+03, 2.0000e+00],\n",
       "       [3.8600e+00, 2.3570e+01, 2.2900e+01, 3.6000e-01, 9.6000e-01,\n",
       "        1.0104e+03, 4.0000e+00],\n",
       "       [4.3100e+00, 2.4300e+01, 2.2930e+01, 7.1000e-01, 9.2000e-01,\n",
       "        1.0101e+03, 5.0000e+00],\n",
       "       [4.7400e+00, 2.4760e+01, 2.3200e+01, 9.6000e-01, 9.1000e-01,\n",
       "        1.0101e+03, 5.0000e+00],\n",
       "       [5.0800e+00, 2.4650e+01, 2.3080e+01, 9.7000e-01, 9.1000e-01,\n",
       "        1.0098e+03, 6.0000e+00],\n",
       "       [5.4000e+00, 2.4400e+01, 2.2920e+01, 9.7000e-01, 9.1000e-01,\n",
       "        1.0094e+03, 5.0000e+00],\n",
       "       [5.3500e+00, 2.3900e+01, 2.2710e+01, 9.8000e-01, 9.3000e-01,\n",
       "        1.0094e+03, 5.0000e+00],\n",
       "       [5.7700e+00, 2.3760e+01, 2.2570e+01, 9.9000e-01, 9.3000e-01,\n",
       "        1.0095e+03, 4.0000e+00],\n",
       "       [6.2500e+00, 2.3610e+01, 2.2360e+01, 1.0000e+00, 9.3000e-01,\n",
       "        1.0097e+03, 3.0000e+00],\n",
       "       [6.5400e+00, 2.3190e+01, 2.1820e+01, 1.0000e+00, 9.2000e-01,\n",
       "        1.0100e+03, 2.0000e+00],\n",
       "       [5.5200e+00, 1.9710e+01, 1.6890e+01, 8.0000e-01, 8.4000e-01,\n",
       "        1.0127e+03, 0.0000e+00],\n",
       "       [5.4800e+00, 1.9420e+01, 1.6830e+01, 7.1000e-01, 8.5000e-01,\n",
       "        1.0131e+03, 0.0000e+00],\n",
       "       [5.0700e+00, 1.9050e+01, 1.6760e+01, 6.5000e-01, 8.7000e-01,\n",
       "        1.0137e+03, 0.0000e+00],\n",
       "       [4.5500e+00, 1.8880e+01, 1.6760e+01, 5.9000e-01, 8.8000e-01,\n",
       "        1.0147e+03, 0.0000e+00],\n",
       "       [4.2600e+00, 1.9710e+01, 1.7040e+01, 5.0000e-01, 8.5000e-01,\n",
       "        1.0151e+03, 2.0000e+00],\n",
       "       [4.7800e+00, 2.1090e+01, 1.7290e+01, 4.4000e-01, 7.9000e-01,\n",
       "        1.0159e+03, 4.0000e+00],\n",
       "       [4.6700e+00, 2.2390e+01, 1.7660e+01, 3.8000e-01, 7.5000e-01,\n",
       "        1.0157e+03, 6.0000e+00],\n",
       "       [4.8300e+00, 2.3630e+01, 1.8220e+01, 3.2000e-01, 7.2000e-01,\n",
       "        1.0157e+03, 8.0000e+00],\n",
       "       [5.4600e+00, 2.4160e+01, 1.8380e+01, 2.6000e-01, 7.0000e-01,\n",
       "        1.0153e+03, 1.0000e+01],\n",
       "       [6.4100e+00, 2.4240e+01, 1.8230e+01, 2.1000e-01, 6.9000e-01,\n",
       "        1.0147e+03, 1.0000e+01],\n",
       "       [6.4900e+00, 2.4110e+01, 1.8050e+01, 1.5000e-01, 6.9000e-01,\n",
       "        1.0146e+03, 9.0000e+00],\n",
       "       [6.8500e+00, 2.4360e+01, 1.8330e+01, 1.0000e-01, 6.9000e-01,\n",
       "        1.0142e+03, 7.0000e+00],\n",
       "       [7.1400e+00, 2.4350e+01, 1.8830e+01, 4.0000e-02, 7.1000e-01,\n",
       "        1.0142e+03, 4.0000e+00],\n",
       "       [7.3300e+00, 2.3700e+01, 1.9110e+01, 1.0000e-02, 7.5000e-01,\n",
       "        1.0143e+03, 2.0000e+00],\n",
       "       [5.6600e+00, 1.8510e+01, 1.5120e+01, 3.1000e-01, 8.1000e-01,\n",
       "        1.0183e+03, 0.0000e+00],\n",
       "       [5.4500e+00, 1.8440e+01, 1.5200e+01, 4.6000e-01, 8.1000e-01,\n",
       "        1.0187e+03, 0.0000e+00],\n",
       "       [5.3500e+00, 1.8500e+01, 1.5310e+01, 6.0000e-01, 8.2000e-01,\n",
       "        1.0193e+03, 0.0000e+00],\n",
       "       [5.3000e+00, 1.8890e+01, 1.5500e+01, 7.2000e-01, 8.1000e-01,\n",
       "        1.0197e+03, 0.0000e+00],\n",
       "       [5.2000e+00, 1.9850e+01, 1.5850e+01, 7.3000e-01, 7.8000e-01,\n",
       "        1.0201e+03, 2.0000e+00],\n",
       "       [3.5200e+00, 2.2460e+01, 1.6960e+01, 5.5000e-01, 7.1000e-01,\n",
       "        1.0205e+03, 3.0000e+00],\n",
       "       [3.6800e+00, 2.4280e+01, 1.7660e+01, 2.7000e-01, 6.7000e-01,\n",
       "        1.0202e+03, 6.0000e+00],\n",
       "       [3.9800e+00, 2.5840e+01, 1.8310e+01, 7.0000e-02, 6.3000e-01,\n",
       "        1.0197e+03, 9.0000e+00],\n",
       "       [4.4800e+00, 2.6800e+01, 1.8710e+01, 4.0000e-02, 6.1000e-01,\n",
       "        1.0190e+03, 1.1000e+01],\n",
       "       [5.0400e+00, 2.7340e+01, 1.8820e+01, 4.0000e-02, 6.0000e-01,\n",
       "        1.0182e+03, 1.1000e+01],\n",
       "       [4.9300e+00, 2.8200e+01, 1.8430e+01, 6.0000e-02, 5.5000e-01,\n",
       "        1.0176e+03, 9.0000e+00],\n",
       "       [5.3200e+00, 2.8800e+01, 1.7800e+01, 5.0000e-02, 5.1000e-01,\n",
       "        1.0171e+03, 7.0000e+00],\n",
       "       [5.7300e+00, 2.9110e+01, 1.6930e+01, 2.0000e-02, 4.8000e-01,\n",
       "        1.0165e+03, 4.0000e+00],\n",
       "       [5.9000e+00, 2.8410e+01, 1.6090e+01, 0.0000e+00, 4.7000e-01,\n",
       "        1.0162e+03, 2.0000e+00],\n",
       "       [9.3200e+00, 1.8900e+01, 1.1970e+01, 8.2000e-01, 6.4000e-01,\n",
       "        1.0180e+03, 0.0000e+00],\n",
       "       [9.2500e+00, 1.8470e+01, 1.2070e+01, 1.0000e+00, 6.6000e-01,\n",
       "        1.0182e+03, 0.0000e+00],\n",
       "       [9.0400e+00, 1.8310e+01, 1.2440e+01, 1.0000e+00, 6.9000e-01,\n",
       "        1.0183e+03, 0.0000e+00],\n",
       "       [8.8200e+00, 1.8620e+01, 1.2930e+01, 9.6000e-01, 6.9000e-01,\n",
       "        1.0185e+03, 0.0000e+00],\n",
       "       [8.4800e+00, 1.9890e+01, 1.3610e+01, 9.2000e-01, 6.7000e-01,\n",
       "        1.0185e+03, 1.0000e+00],\n",
       "       [6.7800e+00, 2.1700e+01, 1.4130e+01, 9.4000e-01, 6.2000e-01,\n",
       "        1.0184e+03, 3.0000e+00],\n",
       "       [6.3000e+00, 2.4000e+01, 1.5170e+01, 9.8000e-01, 5.8000e-01,\n",
       "        1.0180e+03, 4.0000e+00],\n",
       "       [5.7700e+00, 2.6160e+01, 1.6020e+01, 1.0000e+00, 5.4000e-01,\n",
       "        1.0174e+03, 5.0000e+00],\n",
       "       [5.1100e+00, 2.7780e+01, 1.6870e+01, 1.0000e+00, 5.1000e-01,\n",
       "        1.0165e+03, 5.0000e+00],\n",
       "       [4.4100e+00, 2.9060e+01, 1.7640e+01, 1.0000e+00, 5.0000e-01,\n",
       "        1.0155e+03, 5.0000e+00],\n",
       "       [3.9100e+00, 3.0030e+01, 1.8180e+01, 1.0000e+00, 4.9000e-01,\n",
       "        1.0147e+03, 5.0000e+00],\n",
       "       [3.3500e+00, 3.1010e+01, 1.8240e+01, 1.0000e+00, 4.7000e-01,\n",
       "        1.0137e+03, 4.0000e+00],\n",
       "       [3.2500e+00, 3.1100e+01, 1.8160e+01, 9.9000e-01, 4.6000e-01,\n",
       "        1.0131e+03, 3.0000e+00],\n",
       "       [3.3000e+00, 3.0210e+01, 1.7960e+01, 9.9000e-01, 4.8000e-01,\n",
       "        1.0126e+03, 1.0000e+00],\n",
       "       [3.7900e+00, 2.4700e+01, 1.7210e+01, 1.0000e+00, 6.3000e-01,\n",
       "        1.0121e+03, 0.0000e+00],\n",
       "       [4.1900e+00, 2.4600e+01, 1.7300e+01, 1.0000e+00, 6.4000e-01,\n",
       "        1.0119e+03, 0.0000e+00],\n",
       "       [4.7800e+00, 2.4570e+01, 1.7480e+01, 9.6000e-01, 6.5000e-01,\n",
       "        1.0121e+03, 0.0000e+00],\n",
       "       [5.4900e+00, 2.5520e+01, 1.7740e+01, 9.1000e-01, 6.2000e-01,\n",
       "        1.0123e+03, 0.0000e+00],\n",
       "       [5.6800e+00, 2.6200e+01, 1.8300e+01, 7.8000e-01, 6.2000e-01,\n",
       "        1.0125e+03, 1.0000e+00],\n",
       "       [4.5400e+00, 2.6590e+01, 1.8090e+01, 5.3000e-01, 6.0000e-01,\n",
       "        1.0127e+03, 3.0000e+00],\n",
       "       [3.3500e+00, 2.8660e+01, 1.9630e+01, 2.1000e-01, 5.8000e-01,\n",
       "        1.0125e+03, 6.0000e+00],\n",
       "       [2.5900e+00, 3.0520e+01, 2.1070e+01, 1.0000e-02, 5.7000e-01,\n",
       "        1.0122e+03, 1.0000e+01],\n",
       "       [2.7900e+00, 3.1570e+01, 2.1230e+01, 5.0000e-02, 5.4000e-01,\n",
       "        1.0115e+03, 1.1000e+01],\n",
       "       [3.4900e+00, 3.2110e+01, 2.0680e+01, 2.2000e-01, 5.1000e-01,\n",
       "        1.0106e+03, 1.0000e+01],\n",
       "       [4.1900e+00, 3.1660e+01, 2.0770e+01, 4.0000e-01, 5.3000e-01,\n",
       "        1.0100e+03, 8.0000e+00],\n",
       "       [4.3200e+00, 3.1460e+01, 2.0920e+01, 5.7000e-01, 5.4000e-01,\n",
       "        1.0095e+03, 5.0000e+00],\n",
       "       [4.0900e+00, 3.0810e+01, 2.1060e+01, 7.6000e-01, 5.6000e-01,\n",
       "        1.0091e+03, 3.0000e+00],\n",
       "       [3.8200e+00, 3.0140e+01, 2.0950e+01, 8.8000e-01, 5.8000e-01,\n",
       "        1.0090e+03, 1.0000e+00],\n",
       "       [5.0400e+00, 2.5280e+01, 1.6700e+01, 9.9000e-01, 5.9000e-01,\n",
       "        1.0119e+03, 0.0000e+00],\n",
       "       [5.4200e+00, 2.5240e+01, 1.6110e+01, 1.0000e+00, 5.7000e-01,\n",
       "        1.0122e+03, 0.0000e+00]])"
      ]
     },
     "execution_count": 67,
     "metadata": {},
     "output_type": "execute_result"
    }
   ],
   "source": [
    "data.iloc[:,1:8].values[0:100]"
   ]
  },
  {
   "cell_type": "code",
   "execution_count": 68,
   "metadata": {},
   "outputs": [
    {
     "name": "stdout",
     "output_type": "stream",
     "text": [
      "Performing stepwise search to minimize aic\n",
      " ARIMA(2,0,2)(1,0,1)[14] intercept   : AIC=1966.432, Time=0.93 sec\n",
      " ARIMA(0,0,0)(0,0,0)[14] intercept   : AIC=2005.982, Time=0.02 sec\n",
      " ARIMA(1,0,0)(1,0,0)[14] intercept   : AIC=1976.156, Time=0.27 sec\n",
      " ARIMA(0,0,1)(0,0,1)[14] intercept   : AIC=1980.671, Time=0.13 sec\n",
      " ARIMA(0,0,0)(0,0,0)[14]             : AIC=2003.982, Time=0.27 sec\n",
      " ARIMA(2,0,2)(0,0,1)[14] intercept   : AIC=1964.727, Time=0.46 sec\n",
      " ARIMA(2,0,2)(0,0,0)[14] intercept   : AIC=1963.386, Time=0.16 sec\n",
      " ARIMA(2,0,2)(1,0,0)[14] intercept   : AIC=1964.639, Time=0.44 sec\n",
      " ARIMA(1,0,2)(0,0,0)[14] intercept   : AIC=1986.297, Time=0.09 sec\n",
      " ARIMA(2,0,1)(0,0,0)[14] intercept   : AIC=1978.817, Time=0.32 sec\n",
      " ARIMA(3,0,2)(0,0,0)[14] intercept   : AIC=inf, Time=0.35 sec\n",
      " ARIMA(2,0,3)(0,0,0)[14] intercept   : AIC=inf, Time=0.30 sec\n",
      " ARIMA(1,0,1)(0,0,0)[14] intercept   : AIC=1986.704, Time=0.06 sec\n",
      " ARIMA(1,0,3)(0,0,0)[14] intercept   : AIC=1984.433, Time=0.14 sec\n",
      " ARIMA(3,0,1)(0,0,0)[14] intercept   : AIC=1974.572, Time=0.25 sec\n",
      " ARIMA(3,0,3)(0,0,0)[14] intercept   : AIC=1964.532, Time=0.23 sec\n",
      " ARIMA(2,0,2)(0,0,0)[14]             : AIC=1961.391, Time=0.15 sec\n",
      " ARIMA(2,0,2)(1,0,0)[14]             : AIC=1962.645, Time=0.35 sec\n",
      " ARIMA(2,0,2)(0,0,1)[14]             : AIC=1961.310, Time=0.61 sec\n",
      " ARIMA(2,0,2)(1,0,1)[14]             : AIC=1964.427, Time=0.75 sec\n",
      " ARIMA(2,0,2)(0,0,2)[14]             : AIC=1964.225, Time=0.90 sec\n",
      " ARIMA(2,0,2)(1,0,2)[14]             : AIC=1963.655, Time=1.70 sec\n",
      " ARIMA(1,0,2)(0,0,1)[14]             : AIC=1979.092, Time=0.22 sec\n",
      " ARIMA(2,0,1)(0,0,1)[14]             : AIC=1973.904, Time=0.43 sec\n",
      " ARIMA(3,0,2)(0,0,1)[14]             : AIC=inf, Time=0.56 sec\n",
      " ARIMA(2,0,3)(0,0,1)[14]             : AIC=inf, Time=0.79 sec\n",
      " ARIMA(1,0,1)(0,0,1)[14]             : AIC=1978.720, Time=0.16 sec\n",
      " ARIMA(1,0,3)(0,0,1)[14]             : AIC=inf, Time=0.55 sec\n",
      " ARIMA(3,0,1)(0,0,1)[14]             : AIC=1972.318, Time=0.14 sec\n",
      " ARIMA(3,0,3)(0,0,1)[14]             : AIC=1963.659, Time=0.81 sec\n",
      "\n",
      "Best model:  ARIMA(2,0,2)(0,0,1)[14]          \n",
      "Total fit time: 12.583 seconds\n"
     ]
    }
   ],
   "source": [
    "model = auto_arima(data.iloc[:, 0].values[0:100],data.iloc[:,1:8].values[0:100],\n",
    "                    seasonal=True,\n",
    "                    m=14, trace=True,\n",
    "                    error_action='ignore',\n",
    "                    suppress_warnings=True)"
   ]
  },
  {
   "cell_type": "code",
   "execution_count": 73,
   "metadata": {},
   "outputs": [
    {
     "data": {
      "text/plain": [
       "[2153.9864638367817,\n",
       " 6931.180740323843,\n",
       " 13800.481486818664,\n",
       " 17893.676456408117,\n",
       " 18117.805182270185,\n",
       " 15607.905090138818,\n",
       " 12675.73717147828,\n",
       " 17447.273164522725,\n",
       " 22337.519155518054,\n",
       " 24166.370674223464,\n",
       " 18933.407257196028,\n",
       " 11013.364061756445,\n",
       " 3344.327021242628,\n",
       " 2952.391125824097]"
      ]
     },
     "execution_count": 73,
     "metadata": {},
     "output_type": "execute_result"
    }
   ],
   "source": [
    "model.predict(14, data.iloc[:,1:8].values[100:114]).tolist()"
   ]
  },
  {
   "cell_type": "code",
   "execution_count": 71,
   "metadata": {},
   "outputs": [
    {
     "data": {
      "text/plain": [
       "ARIMA(order=(2, 0, 2), scoring_args={}, seasonal_order=(0, 0, 1, 14),\n",
       "      suppress_warnings=True, with_intercept=False)"
      ]
     },
     "execution_count": 71,
     "metadata": {},
     "output_type": "execute_result"
    }
   ],
   "source": [
    "model"
   ]
  },
  {
   "cell_type": "markdown",
   "metadata": {},
   "source": [
    "## Prophet"
   ]
  },
  {
   "cell_type": "code",
   "execution_count": 3,
   "metadata": {},
   "outputs": [],
   "source": [
    "data = pd.read_csv(f'../ts_data/grid.csv', index_col=[0])"
   ]
  },
  {
   "cell_type": "code",
   "execution_count": 6,
   "metadata": {},
   "outputs": [],
   "source": [
    "new_data = data.reset_index().rename(columns = {'date_str': 'DS', 'power': 'y'})"
   ]
  },
  {
   "cell_type": "code",
   "execution_count": 7,
   "metadata": {},
   "outputs": [
    {
     "data": {
      "text/html": [
       "<div>\n",
       "<style scoped>\n",
       "    .dataframe tbody tr th:only-of-type {\n",
       "        vertical-align: middle;\n",
       "    }\n",
       "\n",
       "    .dataframe tbody tr th {\n",
       "        vertical-align: top;\n",
       "    }\n",
       "\n",
       "    .dataframe thead th {\n",
       "        text-align: right;\n",
       "    }\n",
       "</style>\n",
       "<table border=\"1\" class=\"dataframe\">\n",
       "  <thead>\n",
       "    <tr style=\"text-align: right;\">\n",
       "      <th></th>\n",
       "      <th>DS</th>\n",
       "      <th>y</th>\n",
       "    </tr>\n",
       "  </thead>\n",
       "  <tbody>\n",
       "    <tr>\n",
       "      <th>0</th>\n",
       "      <td>2020-02-13 07:00:00</td>\n",
       "      <td>12.82</td>\n",
       "    </tr>\n",
       "    <tr>\n",
       "      <th>1</th>\n",
       "      <td>2020-02-13 08:00:00</td>\n",
       "      <td>8.69</td>\n",
       "    </tr>\n",
       "    <tr>\n",
       "      <th>2</th>\n",
       "      <td>2020-02-13 09:00:00</td>\n",
       "      <td>13068.87</td>\n",
       "    </tr>\n",
       "    <tr>\n",
       "      <th>3</th>\n",
       "      <td>2020-02-13 10:00:00</td>\n",
       "      <td>2788.11</td>\n",
       "    </tr>\n",
       "    <tr>\n",
       "      <th>4</th>\n",
       "      <td>2020-02-13 11:00:00</td>\n",
       "      <td>131494.69</td>\n",
       "    </tr>\n",
       "    <tr>\n",
       "      <th>...</th>\n",
       "      <td>...</td>\n",
       "      <td>...</td>\n",
       "    </tr>\n",
       "    <tr>\n",
       "      <th>5133</th>\n",
       "      <td>2021-02-13 16:00:00</td>\n",
       "      <td>255891.15</td>\n",
       "    </tr>\n",
       "    <tr>\n",
       "      <th>5134</th>\n",
       "      <td>2021-02-13 17:00:00</td>\n",
       "      <td>231299.38</td>\n",
       "    </tr>\n",
       "    <tr>\n",
       "      <th>5135</th>\n",
       "      <td>2021-02-13 18:00:00</td>\n",
       "      <td>255489.24</td>\n",
       "    </tr>\n",
       "    <tr>\n",
       "      <th>5136</th>\n",
       "      <td>2021-02-13 19:00:00</td>\n",
       "      <td>191863.39</td>\n",
       "    </tr>\n",
       "    <tr>\n",
       "      <th>5137</th>\n",
       "      <td>2021-02-13 20:00:00</td>\n",
       "      <td>92640.43</td>\n",
       "    </tr>\n",
       "  </tbody>\n",
       "</table>\n",
       "<p>5138 rows × 2 columns</p>\n",
       "</div>"
      ],
      "text/plain": [
       "                       DS          y\n",
       "0     2020-02-13 07:00:00      12.82\n",
       "1     2020-02-13 08:00:00       8.69\n",
       "2     2020-02-13 09:00:00   13068.87\n",
       "3     2020-02-13 10:00:00    2788.11\n",
       "4     2020-02-13 11:00:00  131494.69\n",
       "...                   ...        ...\n",
       "5133  2021-02-13 16:00:00  255891.15\n",
       "5134  2021-02-13 17:00:00  231299.38\n",
       "5135  2021-02-13 18:00:00  255489.24\n",
       "5136  2021-02-13 19:00:00  191863.39\n",
       "5137  2021-02-13 20:00:00   92640.43\n",
       "\n",
       "[5138 rows x 2 columns]"
      ]
     },
     "execution_count": 7,
     "metadata": {},
     "output_type": "execute_result"
    }
   ],
   "source": [
    "new_data"
   ]
  },
  {
   "cell_type": "code",
   "execution_count": null,
   "metadata": {},
   "outputs": [],
   "source": []
  }
 ],
 "metadata": {
  "kernelspec": {
   "display_name": "Python 3",
   "language": "python",
   "name": "python3"
  },
  "language_info": {
   "codemirror_mode": {
    "name": "ipython",
    "version": 3
   },
   "file_extension": ".py",
   "mimetype": "text/x-python",
   "name": "python",
   "nbconvert_exporter": "python",
   "pygments_lexer": "ipython3",
   "version": "3.8.6"
  }
 },
 "nbformat": 4,
 "nbformat_minor": 1
}
