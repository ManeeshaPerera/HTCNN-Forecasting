{
 "cells": [
  {
   "cell_type": "markdown",
   "id": "a6b5fcd2",
   "metadata": {},
   "source": [
    "## SWIS DATA ANALYSIS"
   ]
  },
  {
   "cell_type": "code",
   "execution_count": 47,
   "id": "38d3b9a3",
   "metadata": {},
   "outputs": [],
   "source": [
    "import sys\n",
    "sys.path.insert(0, '../')\n",
    "\n",
    "import pandas as pd\n",
    "import swis_data_info\n",
    "import plotly.graph_objects as go"
   ]
  },
  {
   "cell_type": "markdown",
   "id": "a5914ecc",
   "metadata": {},
   "source": [
    "<img src=\"../images/WA.png\">"
   ]
  },
  {
   "cell_type": "code",
   "execution_count": 4,
   "id": "2a1bf9f3",
   "metadata": {},
   "outputs": [],
   "source": [
    "swis_pc = swis_data_info.SWIS_postcodes"
   ]
  },
  {
   "cell_type": "code",
   "execution_count": 5,
   "id": "0885fffe",
   "metadata": {},
   "outputs": [
    {
     "data": {
      "text/plain": [
       "142"
      ]
     },
     "execution_count": 5,
     "metadata": {},
     "output_type": "execute_result"
    }
   ],
   "source": [
    "len(swis_pc)"
   ]
  },
  {
   "cell_type": "code",
   "execution_count": 6,
   "id": "8d6f42ce",
   "metadata": {},
   "outputs": [],
   "source": [
    "swis_sites = swis_data_info.SWIS_site"
   ]
  },
  {
   "cell_type": "code",
   "execution_count": 7,
   "id": "f7e08ab0",
   "metadata": {},
   "outputs": [
    {
     "data": {
      "text/plain": [
       "659"
      ]
     },
     "execution_count": 7,
     "metadata": {},
     "output_type": "execute_result"
    }
   ],
   "source": [
    "len(swis_sites)"
   ]
  },
  {
   "cell_type": "markdown",
   "id": "b72ee082",
   "metadata": {},
   "source": [
    "Read the data with time series information"
   ]
  },
  {
   "cell_type": "code",
   "execution_count": 10,
   "id": "5937c319",
   "metadata": {},
   "outputs": [],
   "source": [
    "data = pd.read_csv(\"../../all_ts_data/all_sites/data-statistics.csv\", index_col = \"site_index\")"
   ]
  },
  {
   "cell_type": "markdown",
   "id": "5bc36299",
   "metadata": {},
   "source": [
    "Extract the time series for the SWIS"
   ]
  },
  {
   "cell_type": "code",
   "execution_count": 17,
   "id": "04056b20",
   "metadata": {},
   "outputs": [],
   "source": [
    "site_ids_int = list(map(int, swis_sites))"
   ]
  },
  {
   "cell_type": "code",
   "execution_count": 19,
   "id": "7a0e5b0e",
   "metadata": {},
   "outputs": [],
   "source": [
    "swis_site_info = data.loc[data['site_id'].isin(site_ids_int)]"
   ]
  },
  {
   "cell_type": "code",
   "execution_count": 20,
   "id": "db9e9631",
   "metadata": {},
   "outputs": [
    {
     "data": {
      "text/html": [
       "<div>\n",
       "<style scoped>\n",
       "    .dataframe tbody tr th:only-of-type {\n",
       "        vertical-align: middle;\n",
       "    }\n",
       "\n",
       "    .dataframe tbody tr th {\n",
       "        vertical-align: top;\n",
       "    }\n",
       "\n",
       "    .dataframe thead th {\n",
       "        text-align: right;\n",
       "    }\n",
       "</style>\n",
       "<table border=\"1\" class=\"dataframe\">\n",
       "  <thead>\n",
       "    <tr style=\"text-align: right;\">\n",
       "      <th></th>\n",
       "      <th>site_id</th>\n",
       "      <th>Data Start</th>\n",
       "      <th>Date End</th>\n",
       "      <th>ts Length</th>\n",
       "      <th>Number of large gaps &gt;=5hrs</th>\n",
       "      <th>Number of small gaps &lt;5hrs</th>\n",
       "      <th>Gap Start Dates</th>\n",
       "      <th>Looks faulty (0 or 1 )</th>\n",
       "      <th>Curtailment \\n(0 or 1)</th>\n",
       "      <th>Notes</th>\n",
       "    </tr>\n",
       "    <tr>\n",
       "      <th>site_index</th>\n",
       "      <th></th>\n",
       "      <th></th>\n",
       "      <th></th>\n",
       "      <th></th>\n",
       "      <th></th>\n",
       "      <th></th>\n",
       "      <th></th>\n",
       "      <th></th>\n",
       "      <th></th>\n",
       "      <th></th>\n",
       "    </tr>\n",
       "  </thead>\n",
       "  <tbody>\n",
       "    <tr>\n",
       "      <th>0</th>\n",
       "      <td>1948717897</td>\n",
       "      <td>2020-02-12 20:05:00+08:00</td>\n",
       "      <td>2021-03-10 16:00:00+08:00</td>\n",
       "      <td>112848</td>\n",
       "      <td>0</td>\n",
       "      <td>0</td>\n",
       "      <td>[]</td>\n",
       "      <td>0</td>\n",
       "      <td>1</td>\n",
       "      <td>NaN</td>\n",
       "    </tr>\n",
       "    <tr>\n",
       "      <th>1</th>\n",
       "      <td>315046204</td>\n",
       "      <td>2020-11-09 00:00:00+08:00</td>\n",
       "      <td>2021-03-10 19:00:00+08:00</td>\n",
       "      <td>35077</td>\n",
       "      <td>1</td>\n",
       "      <td>1</td>\n",
       "      <td>['2020-11-15 22:10:00+08:00', '2020-11-16 00:0...</td>\n",
       "      <td>0</td>\n",
       "      <td>0</td>\n",
       "      <td>NaN</td>\n",
       "    </tr>\n",
       "    <tr>\n",
       "      <th>2</th>\n",
       "      <td>1113196323</td>\n",
       "      <td>2020-02-12 20:05:00+08:00</td>\n",
       "      <td>2021-03-10 17:00:00+08:00</td>\n",
       "      <td>112860</td>\n",
       "      <td>0</td>\n",
       "      <td>0</td>\n",
       "      <td>[]</td>\n",
       "      <td>0</td>\n",
       "      <td>1</td>\n",
       "      <td>NaN</td>\n",
       "    </tr>\n",
       "    <tr>\n",
       "      <th>3</th>\n",
       "      <td>838391054</td>\n",
       "      <td>2020-10-15 12:00:00+08:00</td>\n",
       "      <td>2021-03-10 19:00:00+08:00</td>\n",
       "      <td>42133</td>\n",
       "      <td>0</td>\n",
       "      <td>4</td>\n",
       "      <td>['2020-10-15 13:30:00+08:00', '2020-10-15 19:4...</td>\n",
       "      <td>0</td>\n",
       "      <td>1</td>\n",
       "      <td>NaN</td>\n",
       "    </tr>\n",
       "    <tr>\n",
       "      <th>4</th>\n",
       "      <td>54265949</td>\n",
       "      <td>2020-02-12 20:05:00+08:00</td>\n",
       "      <td>2021-03-10 17:00:00+08:00</td>\n",
       "      <td>112860</td>\n",
       "      <td>0</td>\n",
       "      <td>0</td>\n",
       "      <td>[]</td>\n",
       "      <td>1</td>\n",
       "      <td>1</td>\n",
       "      <td>* faulty - 0 values in between</td>\n",
       "    </tr>\n",
       "  </tbody>\n",
       "</table>\n",
       "</div>"
      ],
      "text/plain": [
       "               site_id                 Data Start                   Date End  \\\n",
       "site_index                                                                     \n",
       "0           1948717897  2020-02-12 20:05:00+08:00  2021-03-10 16:00:00+08:00   \n",
       "1            315046204  2020-11-09 00:00:00+08:00  2021-03-10 19:00:00+08:00   \n",
       "2           1113196323  2020-02-12 20:05:00+08:00  2021-03-10 17:00:00+08:00   \n",
       "3            838391054  2020-10-15 12:00:00+08:00  2021-03-10 19:00:00+08:00   \n",
       "4             54265949  2020-02-12 20:05:00+08:00  2021-03-10 17:00:00+08:00   \n",
       "\n",
       "            ts Length  Number of large gaps >=5hrs  \\\n",
       "site_index                                           \n",
       "0              112848                            0   \n",
       "1               35077                            1   \n",
       "2              112860                            0   \n",
       "3               42133                            0   \n",
       "4              112860                            0   \n",
       "\n",
       "            Number of small gaps <5hrs  \\\n",
       "site_index                               \n",
       "0                                    0   \n",
       "1                                    1   \n",
       "2                                    0   \n",
       "3                                    4   \n",
       "4                                    0   \n",
       "\n",
       "                                              Gap Start Dates  \\\n",
       "site_index                                                      \n",
       "0                                                          []   \n",
       "1           ['2020-11-15 22:10:00+08:00', '2020-11-16 00:0...   \n",
       "2                                                          []   \n",
       "3           ['2020-10-15 13:30:00+08:00', '2020-10-15 19:4...   \n",
       "4                                                          []   \n",
       "\n",
       "            Looks faulty (0 or 1 )  Curtailment \\n(0 or 1)  \\\n",
       "site_index                                                   \n",
       "0                                0                       1   \n",
       "1                                0                       0   \n",
       "2                                0                       1   \n",
       "3                                0                       1   \n",
       "4                                1                       1   \n",
       "\n",
       "                                     Notes  \n",
       "site_index                                  \n",
       "0                                      NaN  \n",
       "1                                      NaN  \n",
       "2                                      NaN  \n",
       "3                                      NaN  \n",
       "4           * faulty - 0 values in between  "
      ]
     },
     "execution_count": 20,
     "metadata": {},
     "output_type": "execute_result"
    }
   ],
   "source": [
    "swis_site_info.head()"
   ]
  },
  {
   "cell_type": "code",
   "execution_count": 21,
   "id": "5e8736e1",
   "metadata": {},
   "outputs": [
    {
     "data": {
      "text/plain": [
       "659"
      ]
     },
     "execution_count": 21,
     "metadata": {},
     "output_type": "execute_result"
    }
   ],
   "source": [
    "len(swis_site_info)"
   ]
  },
  {
   "cell_type": "markdown",
   "id": "9f185bfd",
   "metadata": {},
   "source": [
    "We have 659 sites - Let's see the sites we can use. What are the conditions to use.\n",
    "\n",
    "1) Faulty should be 0 - meaning the time series is not faulty\n",
    "\n",
    "2) For now let's also take time series without large gap - so large gaps should be 0\n",
    "\n",
    "3) We will also check whether time series has a length of at least 100,000"
   ]
  },
  {
   "cell_type": "code",
   "execution_count": 23,
   "id": "0ad32415",
   "metadata": {},
   "outputs": [],
   "source": [
    "condition1 = swis_site_info.loc[swis_site_info['Looks faulty (0 or 1 )'] == 0]"
   ]
  },
  {
   "cell_type": "code",
   "execution_count": 24,
   "id": "d0413047",
   "metadata": {},
   "outputs": [
    {
     "data": {
      "text/plain": [
       "488"
      ]
     },
     "execution_count": 24,
     "metadata": {},
     "output_type": "execute_result"
    }
   ],
   "source": [
    "len(condition1)"
   ]
  },
  {
   "cell_type": "code",
   "execution_count": 26,
   "id": "c1215987",
   "metadata": {},
   "outputs": [
    {
     "data": {
      "text/html": [
       "<div>\n",
       "<style scoped>\n",
       "    .dataframe tbody tr th:only-of-type {\n",
       "        vertical-align: middle;\n",
       "    }\n",
       "\n",
       "    .dataframe tbody tr th {\n",
       "        vertical-align: top;\n",
       "    }\n",
       "\n",
       "    .dataframe thead th {\n",
       "        text-align: right;\n",
       "    }\n",
       "</style>\n",
       "<table border=\"1\" class=\"dataframe\">\n",
       "  <thead>\n",
       "    <tr style=\"text-align: right;\">\n",
       "      <th></th>\n",
       "      <th>site_id</th>\n",
       "      <th>Data Start</th>\n",
       "      <th>Date End</th>\n",
       "      <th>ts Length</th>\n",
       "      <th>Number of large gaps &gt;=5hrs</th>\n",
       "      <th>Number of small gaps &lt;5hrs</th>\n",
       "      <th>Gap Start Dates</th>\n",
       "      <th>Looks faulty (0 or 1 )</th>\n",
       "      <th>Curtailment \\n(0 or 1)</th>\n",
       "      <th>Notes</th>\n",
       "    </tr>\n",
       "    <tr>\n",
       "      <th>site_index</th>\n",
       "      <th></th>\n",
       "      <th></th>\n",
       "      <th></th>\n",
       "      <th></th>\n",
       "      <th></th>\n",
       "      <th></th>\n",
       "      <th></th>\n",
       "      <th></th>\n",
       "      <th></th>\n",
       "      <th></th>\n",
       "    </tr>\n",
       "  </thead>\n",
       "  <tbody>\n",
       "    <tr>\n",
       "      <th>0</th>\n",
       "      <td>1948717897</td>\n",
       "      <td>2020-02-12 20:05:00+08:00</td>\n",
       "      <td>2021-03-10 16:00:00+08:00</td>\n",
       "      <td>112848</td>\n",
       "      <td>0</td>\n",
       "      <td>0</td>\n",
       "      <td>[]</td>\n",
       "      <td>0</td>\n",
       "      <td>1</td>\n",
       "      <td>NaN</td>\n",
       "    </tr>\n",
       "    <tr>\n",
       "      <th>1</th>\n",
       "      <td>315046204</td>\n",
       "      <td>2020-11-09 00:00:00+08:00</td>\n",
       "      <td>2021-03-10 19:00:00+08:00</td>\n",
       "      <td>35077</td>\n",
       "      <td>1</td>\n",
       "      <td>1</td>\n",
       "      <td>['2020-11-15 22:10:00+08:00', '2020-11-16 00:0...</td>\n",
       "      <td>0</td>\n",
       "      <td>0</td>\n",
       "      <td>NaN</td>\n",
       "    </tr>\n",
       "    <tr>\n",
       "      <th>2</th>\n",
       "      <td>1113196323</td>\n",
       "      <td>2020-02-12 20:05:00+08:00</td>\n",
       "      <td>2021-03-10 17:00:00+08:00</td>\n",
       "      <td>112860</td>\n",
       "      <td>0</td>\n",
       "      <td>0</td>\n",
       "      <td>[]</td>\n",
       "      <td>0</td>\n",
       "      <td>1</td>\n",
       "      <td>NaN</td>\n",
       "    </tr>\n",
       "    <tr>\n",
       "      <th>3</th>\n",
       "      <td>838391054</td>\n",
       "      <td>2020-10-15 12:00:00+08:00</td>\n",
       "      <td>2021-03-10 19:00:00+08:00</td>\n",
       "      <td>42133</td>\n",
       "      <td>0</td>\n",
       "      <td>4</td>\n",
       "      <td>['2020-10-15 13:30:00+08:00', '2020-10-15 19:4...</td>\n",
       "      <td>0</td>\n",
       "      <td>1</td>\n",
       "      <td>NaN</td>\n",
       "    </tr>\n",
       "    <tr>\n",
       "      <th>7</th>\n",
       "      <td>1824904740</td>\n",
       "      <td>2020-10-26 14:15:00+08:00</td>\n",
       "      <td>2021-03-10 19:00:00+08:00</td>\n",
       "      <td>38938</td>\n",
       "      <td>0</td>\n",
       "      <td>2</td>\n",
       "      <td>['2020-10-26 17:05:00+08:00', '2020-11-08 23:2...</td>\n",
       "      <td>0</td>\n",
       "      <td>1</td>\n",
       "      <td>NaN</td>\n",
       "    </tr>\n",
       "  </tbody>\n",
       "</table>\n",
       "</div>"
      ],
      "text/plain": [
       "               site_id                 Data Start                   Date End  \\\n",
       "site_index                                                                     \n",
       "0           1948717897  2020-02-12 20:05:00+08:00  2021-03-10 16:00:00+08:00   \n",
       "1            315046204  2020-11-09 00:00:00+08:00  2021-03-10 19:00:00+08:00   \n",
       "2           1113196323  2020-02-12 20:05:00+08:00  2021-03-10 17:00:00+08:00   \n",
       "3            838391054  2020-10-15 12:00:00+08:00  2021-03-10 19:00:00+08:00   \n",
       "7           1824904740  2020-10-26 14:15:00+08:00  2021-03-10 19:00:00+08:00   \n",
       "\n",
       "            ts Length  Number of large gaps >=5hrs  \\\n",
       "site_index                                           \n",
       "0              112848                            0   \n",
       "1               35077                            1   \n",
       "2              112860                            0   \n",
       "3               42133                            0   \n",
       "7               38938                            0   \n",
       "\n",
       "            Number of small gaps <5hrs  \\\n",
       "site_index                               \n",
       "0                                    0   \n",
       "1                                    1   \n",
       "2                                    0   \n",
       "3                                    4   \n",
       "7                                    2   \n",
       "\n",
       "                                              Gap Start Dates  \\\n",
       "site_index                                                      \n",
       "0                                                          []   \n",
       "1           ['2020-11-15 22:10:00+08:00', '2020-11-16 00:0...   \n",
       "2                                                          []   \n",
       "3           ['2020-10-15 13:30:00+08:00', '2020-10-15 19:4...   \n",
       "7           ['2020-10-26 17:05:00+08:00', '2020-11-08 23:2...   \n",
       "\n",
       "            Looks faulty (0 or 1 )  Curtailment \\n(0 or 1) Notes  \n",
       "site_index                                                        \n",
       "0                                0                       1   NaN  \n",
       "1                                0                       0   NaN  \n",
       "2                                0                       1   NaN  \n",
       "3                                0                       1   NaN  \n",
       "7                                0                       1   NaN  "
      ]
     },
     "execution_count": 26,
     "metadata": {},
     "output_type": "execute_result"
    }
   ],
   "source": [
    "condition1.head()"
   ]
  },
  {
   "cell_type": "markdown",
   "id": "b6ac3fcf",
   "metadata": {},
   "source": [
    "There are 488 time series that are not faulty. Now let's check from those which time series don't have large gaps"
   ]
  },
  {
   "cell_type": "code",
   "execution_count": 27,
   "id": "d0316002",
   "metadata": {},
   "outputs": [],
   "source": [
    "condition2 = condition1.loc[condition1['Number of large gaps >=5hrs'] == 0]"
   ]
  },
  {
   "cell_type": "code",
   "execution_count": 28,
   "id": "1d88802b",
   "metadata": {},
   "outputs": [
    {
     "data": {
      "text/html": [
       "<div>\n",
       "<style scoped>\n",
       "    .dataframe tbody tr th:only-of-type {\n",
       "        vertical-align: middle;\n",
       "    }\n",
       "\n",
       "    .dataframe tbody tr th {\n",
       "        vertical-align: top;\n",
       "    }\n",
       "\n",
       "    .dataframe thead th {\n",
       "        text-align: right;\n",
       "    }\n",
       "</style>\n",
       "<table border=\"1\" class=\"dataframe\">\n",
       "  <thead>\n",
       "    <tr style=\"text-align: right;\">\n",
       "      <th></th>\n",
       "      <th>site_id</th>\n",
       "      <th>Data Start</th>\n",
       "      <th>Date End</th>\n",
       "      <th>ts Length</th>\n",
       "      <th>Number of large gaps &gt;=5hrs</th>\n",
       "      <th>Number of small gaps &lt;5hrs</th>\n",
       "      <th>Gap Start Dates</th>\n",
       "      <th>Looks faulty (0 or 1 )</th>\n",
       "      <th>Curtailment \\n(0 or 1)</th>\n",
       "      <th>Notes</th>\n",
       "    </tr>\n",
       "    <tr>\n",
       "      <th>site_index</th>\n",
       "      <th></th>\n",
       "      <th></th>\n",
       "      <th></th>\n",
       "      <th></th>\n",
       "      <th></th>\n",
       "      <th></th>\n",
       "      <th></th>\n",
       "      <th></th>\n",
       "      <th></th>\n",
       "      <th></th>\n",
       "    </tr>\n",
       "  </thead>\n",
       "  <tbody>\n",
       "    <tr>\n",
       "      <th>0</th>\n",
       "      <td>1948717897</td>\n",
       "      <td>2020-02-12 20:05:00+08:00</td>\n",
       "      <td>2021-03-10 16:00:00+08:00</td>\n",
       "      <td>112848</td>\n",
       "      <td>0</td>\n",
       "      <td>0</td>\n",
       "      <td>[]</td>\n",
       "      <td>0</td>\n",
       "      <td>1</td>\n",
       "      <td>NaN</td>\n",
       "    </tr>\n",
       "    <tr>\n",
       "      <th>2</th>\n",
       "      <td>1113196323</td>\n",
       "      <td>2020-02-12 20:05:00+08:00</td>\n",
       "      <td>2021-03-10 17:00:00+08:00</td>\n",
       "      <td>112860</td>\n",
       "      <td>0</td>\n",
       "      <td>0</td>\n",
       "      <td>[]</td>\n",
       "      <td>0</td>\n",
       "      <td>1</td>\n",
       "      <td>NaN</td>\n",
       "    </tr>\n",
       "    <tr>\n",
       "      <th>3</th>\n",
       "      <td>838391054</td>\n",
       "      <td>2020-10-15 12:00:00+08:00</td>\n",
       "      <td>2021-03-10 19:00:00+08:00</td>\n",
       "      <td>42133</td>\n",
       "      <td>0</td>\n",
       "      <td>4</td>\n",
       "      <td>['2020-10-15 13:30:00+08:00', '2020-10-15 19:4...</td>\n",
       "      <td>0</td>\n",
       "      <td>1</td>\n",
       "      <td>NaN</td>\n",
       "    </tr>\n",
       "    <tr>\n",
       "      <th>7</th>\n",
       "      <td>1824904740</td>\n",
       "      <td>2020-10-26 14:15:00+08:00</td>\n",
       "      <td>2021-03-10 19:00:00+08:00</td>\n",
       "      <td>38938</td>\n",
       "      <td>0</td>\n",
       "      <td>2</td>\n",
       "      <td>['2020-10-26 17:05:00+08:00', '2020-11-08 23:2...</td>\n",
       "      <td>0</td>\n",
       "      <td>1</td>\n",
       "      <td>NaN</td>\n",
       "    </tr>\n",
       "    <tr>\n",
       "      <th>9</th>\n",
       "      <td>476839589</td>\n",
       "      <td>2020-06-25 18:20:00+08:00</td>\n",
       "      <td>2021-03-10 18:00:00+08:00</td>\n",
       "      <td>74301</td>\n",
       "      <td>0</td>\n",
       "      <td>0</td>\n",
       "      <td>[]</td>\n",
       "      <td>0</td>\n",
       "      <td>1</td>\n",
       "      <td>NaN</td>\n",
       "    </tr>\n",
       "  </tbody>\n",
       "</table>\n",
       "</div>"
      ],
      "text/plain": [
       "               site_id                 Data Start                   Date End  \\\n",
       "site_index                                                                     \n",
       "0           1948717897  2020-02-12 20:05:00+08:00  2021-03-10 16:00:00+08:00   \n",
       "2           1113196323  2020-02-12 20:05:00+08:00  2021-03-10 17:00:00+08:00   \n",
       "3            838391054  2020-10-15 12:00:00+08:00  2021-03-10 19:00:00+08:00   \n",
       "7           1824904740  2020-10-26 14:15:00+08:00  2021-03-10 19:00:00+08:00   \n",
       "9            476839589  2020-06-25 18:20:00+08:00  2021-03-10 18:00:00+08:00   \n",
       "\n",
       "            ts Length  Number of large gaps >=5hrs  \\\n",
       "site_index                                           \n",
       "0              112848                            0   \n",
       "2              112860                            0   \n",
       "3               42133                            0   \n",
       "7               38938                            0   \n",
       "9               74301                            0   \n",
       "\n",
       "            Number of small gaps <5hrs  \\\n",
       "site_index                               \n",
       "0                                    0   \n",
       "2                                    0   \n",
       "3                                    4   \n",
       "7                                    2   \n",
       "9                                    0   \n",
       "\n",
       "                                              Gap Start Dates  \\\n",
       "site_index                                                      \n",
       "0                                                          []   \n",
       "2                                                          []   \n",
       "3           ['2020-10-15 13:30:00+08:00', '2020-10-15 19:4...   \n",
       "7           ['2020-10-26 17:05:00+08:00', '2020-11-08 23:2...   \n",
       "9                                                          []   \n",
       "\n",
       "            Looks faulty (0 or 1 )  Curtailment \\n(0 or 1) Notes  \n",
       "site_index                                                        \n",
       "0                                0                       1   NaN  \n",
       "2                                0                       1   NaN  \n",
       "3                                0                       1   NaN  \n",
       "7                                0                       1   NaN  \n",
       "9                                0                       1   NaN  "
      ]
     },
     "execution_count": 28,
     "metadata": {},
     "output_type": "execute_result"
    }
   ],
   "source": [
    "condition2.head()"
   ]
  },
  {
   "cell_type": "code",
   "execution_count": 29,
   "id": "51995e4b",
   "metadata": {},
   "outputs": [
    {
     "data": {
      "text/plain": [
       "483"
      ]
     },
     "execution_count": 29,
     "metadata": {},
     "output_type": "execute_result"
    }
   ],
   "source": [
    "len(condition2)"
   ]
  },
  {
   "cell_type": "markdown",
   "id": "f50d3c95",
   "metadata": {},
   "source": [
    "Now we have 483 time series which are not faulty and don't have large gaps in the data. Let's check their length now."
   ]
  },
  {
   "cell_type": "code",
   "execution_count": 34,
   "id": "d454fde4",
   "metadata": {},
   "outputs": [],
   "source": [
    "ts_swis = condition2.copy()"
   ]
  },
  {
   "cell_type": "code",
   "execution_count": 84,
   "id": "1a6a7842",
   "metadata": {},
   "outputs": [
    {
     "data": {
      "application/vnd.plotly.v1+json": {
       "config": {
        "plotlyServerURL": "https://plot.ly"
       },
       "data": [
        {
         "type": "histogram",
         "x": [
          112848,
          112860,
          42133,
          38938,
          74301,
          14182,
          112836,
          77281,
          112836,
          112860,
          80079,
          61435,
          35784,
          112848,
          112860,
          112860,
          112848,
          1703,
          55968,
          22055,
          104535,
          7091,
          112860,
          112848,
          112836,
          40933,
          106608,
          64105,
          94355,
          112860,
          56677,
          112860,
          112848,
          44175,
          94785,
          59125,
          112848,
          112860,
          112860,
          112848,
          15617,
          112836,
          46746,
          39863,
          112860,
          3360,
          28679,
          112848,
          112836,
          112836,
          14137,
          78044,
          112848,
          112824,
          30294,
          112848,
          100979,
          57079,
          93321,
          100278,
          62548,
          78375,
          27404,
          112860,
          112848,
          112848,
          5803,
          2345,
          112860,
          112836,
          112836,
          71201,
          112860,
          112836,
          112860,
          112848,
          20039,
          112848,
          112848,
          28563,
          112836,
          34213,
          112884,
          60249,
          112836,
          112836,
          112860,
          41893,
          109166,
          112884,
          112860,
          112824,
          60709,
          64813,
          64251,
          112836,
          112848,
          79009,
          52992,
          112836,
          26504,
          112848,
          112860,
          9834,
          112824,
          112860,
          112836,
          2321,
          15554,
          112848,
          112860,
          112848,
          35518,
          16871,
          112848,
          46185,
          73187,
          112848,
          112848,
          15598,
          112848,
          112836,
          13580,
          52483,
          44293,
          100979,
          112836,
          48183,
          62534,
          14173,
          93347,
          74589,
          32618,
          112860,
          112836,
          50723,
          112848,
          76667,
          112848,
          38928,
          15899,
          112860,
          112848,
          31711,
          50415,
          40405,
          97067,
          47862,
          112836,
          112848,
          112872,
          46309,
          40710,
          80394,
          112836,
          32882,
          78408,
          112848,
          112836,
          74592,
          112836,
          23998,
          112848,
          112836,
          112836,
          27815,
          36099,
          80654,
          70637,
          112860,
          112848,
          112860,
          112860,
          72096,
          52164,
          112884,
          54757,
          40690,
          112824,
          14136,
          112836,
          76072,
          74607,
          75206,
          75205,
          107206,
          74622,
          112836,
          112848,
          29972,
          70033,
          18733,
          98536,
          92228,
          26870,
          42966,
          112872,
          63959,
          54474,
          58288,
          112860,
          1791,
          29973,
          36372,
          112848,
          112860,
          78682,
          77211,
          112836,
          112860,
          100774,
          55956,
          112836,
          98795,
          112860,
          112860,
          27645,
          112836,
          112848,
          112836,
          112860,
          112836,
          112860,
          12170,
          112860,
          112860,
          112848,
          29389,
          112860,
          112848,
          112860,
          112860,
          112824,
          67998,
          112836,
          112848,
          4362,
          57949,
          66596,
          33804,
          26226,
          112848,
          72862,
          40099,
          112884,
          12146,
          58833,
          112860,
          106838,
          112848,
          112836,
          112848,
          77204,
          102769,
          112836,
          112824,
          102290,
          112860,
          112848,
          112848,
          112860,
          47687,
          112860,
          112836,
          80113,
          112848,
          112836,
          18194,
          48982,
          52450,
          112836,
          28529,
          82259,
          45019,
          112836,
          30282,
          39827,
          4665,
          6741,
          62259,
          112848,
          112848,
          112836,
          62273,
          112848,
          101095,
          60010,
          112860,
          102843,
          9584,
          112836,
          112836,
          52737,
          112836,
          28297,
          112836,
          80368,
          112848,
          112860,
          112848,
          25931,
          112860,
          112848,
          64867,
          112836,
          101422,
          112848,
          112836,
          112860,
          86743,
          104886,
          112860,
          48686,
          88419,
          112848,
          90496,
          53074,
          112848,
          63166,
          52770,
          34334,
          72900,
          26801,
          104281,
          112848,
          72913,
          70636,
          112836,
          84393,
          112836,
          112860,
          112860,
          112860,
          112848,
          112860,
          83255,
          12740,
          112836,
          112836,
          112836,
          82713,
          13890,
          112836,
          112860,
          45904,
          100303,
          112860,
          92492,
          112848,
          112860,
          26241,
          10151,
          112836,
          112848,
          112836,
          2483,
          112860,
          112836,
          40404,
          112836,
          112836,
          112836,
          112860,
          112860,
          112836,
          112836,
          112848,
          42752,
          112848,
          112848,
          44684,
          64255,
          112860,
          22541,
          12114,
          112860,
          112860,
          112836,
          112824,
          87731,
          35077,
          112848,
          112860,
          51000,
          112848,
          112836,
          39971,
          112824,
          112860,
          54760,
          112848,
          112860,
          112860,
          58511,
          61109,
          112836,
          67152,
          32832,
          112848,
          112836,
          112848,
          112836,
          23207,
          83277,
          112836,
          112824,
          112848,
          24802,
          112836,
          112824,
          112848,
          98491,
          17771,
          23667,
          112848,
          112848,
          48469,
          112860,
          61974,
          112836,
          64873,
          112836,
          112860,
          112860,
          112860,
          112848,
          112872,
          78670,
          60572,
          112836,
          112848,
          112836,
          112848,
          112836,
          25957,
          50158,
          22532,
          36961,
          83265,
          112836,
          60031,
          23868,
          112848,
          112848,
          104934,
          13575,
          112836,
          112860,
          57113,
          112848,
          112836,
          112836,
          56246,
          75224,
          56903,
          11564,
          112836,
          94194,
          110309,
          45046,
          55916,
          112860,
          112836,
          112848,
          38649,
          112860,
          50787,
          76700,
          26529,
          82139,
          105414,
          112860,
          112824,
          98279,
          112860,
          112860,
          76698,
          112848,
          42440,
          80426,
          112848,
          112860,
          112860
         ]
        }
       ],
       "layout": {
        "template": {
         "data": {
          "bar": [
           {
            "error_x": {
             "color": "#2a3f5f"
            },
            "error_y": {
             "color": "#2a3f5f"
            },
            "marker": {
             "line": {
              "color": "#E5ECF6",
              "width": 0.5
             }
            },
            "type": "bar"
           }
          ],
          "barpolar": [
           {
            "marker": {
             "line": {
              "color": "#E5ECF6",
              "width": 0.5
             }
            },
            "type": "barpolar"
           }
          ],
          "carpet": [
           {
            "aaxis": {
             "endlinecolor": "#2a3f5f",
             "gridcolor": "white",
             "linecolor": "white",
             "minorgridcolor": "white",
             "startlinecolor": "#2a3f5f"
            },
            "baxis": {
             "endlinecolor": "#2a3f5f",
             "gridcolor": "white",
             "linecolor": "white",
             "minorgridcolor": "white",
             "startlinecolor": "#2a3f5f"
            },
            "type": "carpet"
           }
          ],
          "choropleth": [
           {
            "colorbar": {
             "outlinewidth": 0,
             "ticks": ""
            },
            "type": "choropleth"
           }
          ],
          "contour": [
           {
            "colorbar": {
             "outlinewidth": 0,
             "ticks": ""
            },
            "colorscale": [
             [
              0,
              "#0d0887"
             ],
             [
              0.1111111111111111,
              "#46039f"
             ],
             [
              0.2222222222222222,
              "#7201a8"
             ],
             [
              0.3333333333333333,
              "#9c179e"
             ],
             [
              0.4444444444444444,
              "#bd3786"
             ],
             [
              0.5555555555555556,
              "#d8576b"
             ],
             [
              0.6666666666666666,
              "#ed7953"
             ],
             [
              0.7777777777777778,
              "#fb9f3a"
             ],
             [
              0.8888888888888888,
              "#fdca26"
             ],
             [
              1,
              "#f0f921"
             ]
            ],
            "type": "contour"
           }
          ],
          "contourcarpet": [
           {
            "colorbar": {
             "outlinewidth": 0,
             "ticks": ""
            },
            "type": "contourcarpet"
           }
          ],
          "heatmap": [
           {
            "colorbar": {
             "outlinewidth": 0,
             "ticks": ""
            },
            "colorscale": [
             [
              0,
              "#0d0887"
             ],
             [
              0.1111111111111111,
              "#46039f"
             ],
             [
              0.2222222222222222,
              "#7201a8"
             ],
             [
              0.3333333333333333,
              "#9c179e"
             ],
             [
              0.4444444444444444,
              "#bd3786"
             ],
             [
              0.5555555555555556,
              "#d8576b"
             ],
             [
              0.6666666666666666,
              "#ed7953"
             ],
             [
              0.7777777777777778,
              "#fb9f3a"
             ],
             [
              0.8888888888888888,
              "#fdca26"
             ],
             [
              1,
              "#f0f921"
             ]
            ],
            "type": "heatmap"
           }
          ],
          "heatmapgl": [
           {
            "colorbar": {
             "outlinewidth": 0,
             "ticks": ""
            },
            "colorscale": [
             [
              0,
              "#0d0887"
             ],
             [
              0.1111111111111111,
              "#46039f"
             ],
             [
              0.2222222222222222,
              "#7201a8"
             ],
             [
              0.3333333333333333,
              "#9c179e"
             ],
             [
              0.4444444444444444,
              "#bd3786"
             ],
             [
              0.5555555555555556,
              "#d8576b"
             ],
             [
              0.6666666666666666,
              "#ed7953"
             ],
             [
              0.7777777777777778,
              "#fb9f3a"
             ],
             [
              0.8888888888888888,
              "#fdca26"
             ],
             [
              1,
              "#f0f921"
             ]
            ],
            "type": "heatmapgl"
           }
          ],
          "histogram": [
           {
            "marker": {
             "colorbar": {
              "outlinewidth": 0,
              "ticks": ""
             }
            },
            "type": "histogram"
           }
          ],
          "histogram2d": [
           {
            "colorbar": {
             "outlinewidth": 0,
             "ticks": ""
            },
            "colorscale": [
             [
              0,
              "#0d0887"
             ],
             [
              0.1111111111111111,
              "#46039f"
             ],
             [
              0.2222222222222222,
              "#7201a8"
             ],
             [
              0.3333333333333333,
              "#9c179e"
             ],
             [
              0.4444444444444444,
              "#bd3786"
             ],
             [
              0.5555555555555556,
              "#d8576b"
             ],
             [
              0.6666666666666666,
              "#ed7953"
             ],
             [
              0.7777777777777778,
              "#fb9f3a"
             ],
             [
              0.8888888888888888,
              "#fdca26"
             ],
             [
              1,
              "#f0f921"
             ]
            ],
            "type": "histogram2d"
           }
          ],
          "histogram2dcontour": [
           {
            "colorbar": {
             "outlinewidth": 0,
             "ticks": ""
            },
            "colorscale": [
             [
              0,
              "#0d0887"
             ],
             [
              0.1111111111111111,
              "#46039f"
             ],
             [
              0.2222222222222222,
              "#7201a8"
             ],
             [
              0.3333333333333333,
              "#9c179e"
             ],
             [
              0.4444444444444444,
              "#bd3786"
             ],
             [
              0.5555555555555556,
              "#d8576b"
             ],
             [
              0.6666666666666666,
              "#ed7953"
             ],
             [
              0.7777777777777778,
              "#fb9f3a"
             ],
             [
              0.8888888888888888,
              "#fdca26"
             ],
             [
              1,
              "#f0f921"
             ]
            ],
            "type": "histogram2dcontour"
           }
          ],
          "mesh3d": [
           {
            "colorbar": {
             "outlinewidth": 0,
             "ticks": ""
            },
            "type": "mesh3d"
           }
          ],
          "parcoords": [
           {
            "line": {
             "colorbar": {
              "outlinewidth": 0,
              "ticks": ""
             }
            },
            "type": "parcoords"
           }
          ],
          "pie": [
           {
            "automargin": true,
            "type": "pie"
           }
          ],
          "scatter": [
           {
            "marker": {
             "colorbar": {
              "outlinewidth": 0,
              "ticks": ""
             }
            },
            "type": "scatter"
           }
          ],
          "scatter3d": [
           {
            "line": {
             "colorbar": {
              "outlinewidth": 0,
              "ticks": ""
             }
            },
            "marker": {
             "colorbar": {
              "outlinewidth": 0,
              "ticks": ""
             }
            },
            "type": "scatter3d"
           }
          ],
          "scattercarpet": [
           {
            "marker": {
             "colorbar": {
              "outlinewidth": 0,
              "ticks": ""
             }
            },
            "type": "scattercarpet"
           }
          ],
          "scattergeo": [
           {
            "marker": {
             "colorbar": {
              "outlinewidth": 0,
              "ticks": ""
             }
            },
            "type": "scattergeo"
           }
          ],
          "scattergl": [
           {
            "marker": {
             "colorbar": {
              "outlinewidth": 0,
              "ticks": ""
             }
            },
            "type": "scattergl"
           }
          ],
          "scattermapbox": [
           {
            "marker": {
             "colorbar": {
              "outlinewidth": 0,
              "ticks": ""
             }
            },
            "type": "scattermapbox"
           }
          ],
          "scatterpolar": [
           {
            "marker": {
             "colorbar": {
              "outlinewidth": 0,
              "ticks": ""
             }
            },
            "type": "scatterpolar"
           }
          ],
          "scatterpolargl": [
           {
            "marker": {
             "colorbar": {
              "outlinewidth": 0,
              "ticks": ""
             }
            },
            "type": "scatterpolargl"
           }
          ],
          "scatterternary": [
           {
            "marker": {
             "colorbar": {
              "outlinewidth": 0,
              "ticks": ""
             }
            },
            "type": "scatterternary"
           }
          ],
          "surface": [
           {
            "colorbar": {
             "outlinewidth": 0,
             "ticks": ""
            },
            "colorscale": [
             [
              0,
              "#0d0887"
             ],
             [
              0.1111111111111111,
              "#46039f"
             ],
             [
              0.2222222222222222,
              "#7201a8"
             ],
             [
              0.3333333333333333,
              "#9c179e"
             ],
             [
              0.4444444444444444,
              "#bd3786"
             ],
             [
              0.5555555555555556,
              "#d8576b"
             ],
             [
              0.6666666666666666,
              "#ed7953"
             ],
             [
              0.7777777777777778,
              "#fb9f3a"
             ],
             [
              0.8888888888888888,
              "#fdca26"
             ],
             [
              1,
              "#f0f921"
             ]
            ],
            "type": "surface"
           }
          ],
          "table": [
           {
            "cells": {
             "fill": {
              "color": "#EBF0F8"
             },
             "line": {
              "color": "white"
             }
            },
            "header": {
             "fill": {
              "color": "#C8D4E3"
             },
             "line": {
              "color": "white"
             }
            },
            "type": "table"
           }
          ]
         },
         "layout": {
          "annotationdefaults": {
           "arrowcolor": "#2a3f5f",
           "arrowhead": 0,
           "arrowwidth": 1
          },
          "autotypenumbers": "strict",
          "coloraxis": {
           "colorbar": {
            "outlinewidth": 0,
            "ticks": ""
           }
          },
          "colorscale": {
           "diverging": [
            [
             0,
             "#8e0152"
            ],
            [
             0.1,
             "#c51b7d"
            ],
            [
             0.2,
             "#de77ae"
            ],
            [
             0.3,
             "#f1b6da"
            ],
            [
             0.4,
             "#fde0ef"
            ],
            [
             0.5,
             "#f7f7f7"
            ],
            [
             0.6,
             "#e6f5d0"
            ],
            [
             0.7,
             "#b8e186"
            ],
            [
             0.8,
             "#7fbc41"
            ],
            [
             0.9,
             "#4d9221"
            ],
            [
             1,
             "#276419"
            ]
           ],
           "sequential": [
            [
             0,
             "#0d0887"
            ],
            [
             0.1111111111111111,
             "#46039f"
            ],
            [
             0.2222222222222222,
             "#7201a8"
            ],
            [
             0.3333333333333333,
             "#9c179e"
            ],
            [
             0.4444444444444444,
             "#bd3786"
            ],
            [
             0.5555555555555556,
             "#d8576b"
            ],
            [
             0.6666666666666666,
             "#ed7953"
            ],
            [
             0.7777777777777778,
             "#fb9f3a"
            ],
            [
             0.8888888888888888,
             "#fdca26"
            ],
            [
             1,
             "#f0f921"
            ]
           ],
           "sequentialminus": [
            [
             0,
             "#0d0887"
            ],
            [
             0.1111111111111111,
             "#46039f"
            ],
            [
             0.2222222222222222,
             "#7201a8"
            ],
            [
             0.3333333333333333,
             "#9c179e"
            ],
            [
             0.4444444444444444,
             "#bd3786"
            ],
            [
             0.5555555555555556,
             "#d8576b"
            ],
            [
             0.6666666666666666,
             "#ed7953"
            ],
            [
             0.7777777777777778,
             "#fb9f3a"
            ],
            [
             0.8888888888888888,
             "#fdca26"
            ],
            [
             1,
             "#f0f921"
            ]
           ]
          },
          "colorway": [
           "#636efa",
           "#EF553B",
           "#00cc96",
           "#ab63fa",
           "#FFA15A",
           "#19d3f3",
           "#FF6692",
           "#B6E880",
           "#FF97FF",
           "#FECB52"
          ],
          "font": {
           "color": "#2a3f5f"
          },
          "geo": {
           "bgcolor": "white",
           "lakecolor": "white",
           "landcolor": "#E5ECF6",
           "showlakes": true,
           "showland": true,
           "subunitcolor": "white"
          },
          "hoverlabel": {
           "align": "left"
          },
          "hovermode": "closest",
          "mapbox": {
           "style": "light"
          },
          "paper_bgcolor": "white",
          "plot_bgcolor": "#E5ECF6",
          "polar": {
           "angularaxis": {
            "gridcolor": "white",
            "linecolor": "white",
            "ticks": ""
           },
           "bgcolor": "#E5ECF6",
           "radialaxis": {
            "gridcolor": "white",
            "linecolor": "white",
            "ticks": ""
           }
          },
          "scene": {
           "xaxis": {
            "backgroundcolor": "#E5ECF6",
            "gridcolor": "white",
            "gridwidth": 2,
            "linecolor": "white",
            "showbackground": true,
            "ticks": "",
            "zerolinecolor": "white"
           },
           "yaxis": {
            "backgroundcolor": "#E5ECF6",
            "gridcolor": "white",
            "gridwidth": 2,
            "linecolor": "white",
            "showbackground": true,
            "ticks": "",
            "zerolinecolor": "white"
           },
           "zaxis": {
            "backgroundcolor": "#E5ECF6",
            "gridcolor": "white",
            "gridwidth": 2,
            "linecolor": "white",
            "showbackground": true,
            "ticks": "",
            "zerolinecolor": "white"
           }
          },
          "shapedefaults": {
           "line": {
            "color": "#2a3f5f"
           }
          },
          "ternary": {
           "aaxis": {
            "gridcolor": "white",
            "linecolor": "white",
            "ticks": ""
           },
           "baxis": {
            "gridcolor": "white",
            "linecolor": "white",
            "ticks": ""
           },
           "bgcolor": "#E5ECF6",
           "caxis": {
            "gridcolor": "white",
            "linecolor": "white",
            "ticks": ""
           }
          },
          "title": {
           "x": 0.05
          },
          "xaxis": {
           "automargin": true,
           "gridcolor": "white",
           "linecolor": "white",
           "ticks": "",
           "title": {
            "standoff": 15
           },
           "zerolinecolor": "white",
           "zerolinewidth": 2
          },
          "yaxis": {
           "automargin": true,
           "gridcolor": "white",
           "linecolor": "white",
           "ticks": "",
           "title": {
            "standoff": 15
           },
           "zerolinecolor": "white",
           "zerolinewidth": 2
          }
         }
        },
        "xaxis": {
         "title": {
          "text": "Time series length"
         }
        },
        "yaxis": {
         "title": {
          "text": "Number of time series"
         }
        }
       }
      },
      "text/html": [
       "<div>                            <div id=\"23b3c7f3-af71-495c-bbf9-fff57cfe45cf\" class=\"plotly-graph-div\" style=\"height:525px; width:100%;\"></div>            <script type=\"text/javascript\">                require([\"plotly\"], function(Plotly) {                    window.PLOTLYENV=window.PLOTLYENV || {};                                    if (document.getElementById(\"23b3c7f3-af71-495c-bbf9-fff57cfe45cf\")) {                    Plotly.newPlot(                        \"23b3c7f3-af71-495c-bbf9-fff57cfe45cf\",                        [{\"type\": \"histogram\", \"x\": [112848, 112860, 42133, 38938, 74301, 14182, 112836, 77281, 112836, 112860, 80079, 61435, 35784, 112848, 112860, 112860, 112848, 1703, 55968, 22055, 104535, 7091, 112860, 112848, 112836, 40933, 106608, 64105, 94355, 112860, 56677, 112860, 112848, 44175, 94785, 59125, 112848, 112860, 112860, 112848, 15617, 112836, 46746, 39863, 112860, 3360, 28679, 112848, 112836, 112836, 14137, 78044, 112848, 112824, 30294, 112848, 100979, 57079, 93321, 100278, 62548, 78375, 27404, 112860, 112848, 112848, 5803, 2345, 112860, 112836, 112836, 71201, 112860, 112836, 112860, 112848, 20039, 112848, 112848, 28563, 112836, 34213, 112884, 60249, 112836, 112836, 112860, 41893, 109166, 112884, 112860, 112824, 60709, 64813, 64251, 112836, 112848, 79009, 52992, 112836, 26504, 112848, 112860, 9834, 112824, 112860, 112836, 2321, 15554, 112848, 112860, 112848, 35518, 16871, 112848, 46185, 73187, 112848, 112848, 15598, 112848, 112836, 13580, 52483, 44293, 100979, 112836, 48183, 62534, 14173, 93347, 74589, 32618, 112860, 112836, 50723, 112848, 76667, 112848, 38928, 15899, 112860, 112848, 31711, 50415, 40405, 97067, 47862, 112836, 112848, 112872, 46309, 40710, 80394, 112836, 32882, 78408, 112848, 112836, 74592, 112836, 23998, 112848, 112836, 112836, 27815, 36099, 80654, 70637, 112860, 112848, 112860, 112860, 72096, 52164, 112884, 54757, 40690, 112824, 14136, 112836, 76072, 74607, 75206, 75205, 107206, 74622, 112836, 112848, 29972, 70033, 18733, 98536, 92228, 26870, 42966, 112872, 63959, 54474, 58288, 112860, 1791, 29973, 36372, 112848, 112860, 78682, 77211, 112836, 112860, 100774, 55956, 112836, 98795, 112860, 112860, 27645, 112836, 112848, 112836, 112860, 112836, 112860, 12170, 112860, 112860, 112848, 29389, 112860, 112848, 112860, 112860, 112824, 67998, 112836, 112848, 4362, 57949, 66596, 33804, 26226, 112848, 72862, 40099, 112884, 12146, 58833, 112860, 106838, 112848, 112836, 112848, 77204, 102769, 112836, 112824, 102290, 112860, 112848, 112848, 112860, 47687, 112860, 112836, 80113, 112848, 112836, 18194, 48982, 52450, 112836, 28529, 82259, 45019, 112836, 30282, 39827, 4665, 6741, 62259, 112848, 112848, 112836, 62273, 112848, 101095, 60010, 112860, 102843, 9584, 112836, 112836, 52737, 112836, 28297, 112836, 80368, 112848, 112860, 112848, 25931, 112860, 112848, 64867, 112836, 101422, 112848, 112836, 112860, 86743, 104886, 112860, 48686, 88419, 112848, 90496, 53074, 112848, 63166, 52770, 34334, 72900, 26801, 104281, 112848, 72913, 70636, 112836, 84393, 112836, 112860, 112860, 112860, 112848, 112860, 83255, 12740, 112836, 112836, 112836, 82713, 13890, 112836, 112860, 45904, 100303, 112860, 92492, 112848, 112860, 26241, 10151, 112836, 112848, 112836, 2483, 112860, 112836, 40404, 112836, 112836, 112836, 112860, 112860, 112836, 112836, 112848, 42752, 112848, 112848, 44684, 64255, 112860, 22541, 12114, 112860, 112860, 112836, 112824, 87731, 35077, 112848, 112860, 51000, 112848, 112836, 39971, 112824, 112860, 54760, 112848, 112860, 112860, 58511, 61109, 112836, 67152, 32832, 112848, 112836, 112848, 112836, 23207, 83277, 112836, 112824, 112848, 24802, 112836, 112824, 112848, 98491, 17771, 23667, 112848, 112848, 48469, 112860, 61974, 112836, 64873, 112836, 112860, 112860, 112860, 112848, 112872, 78670, 60572, 112836, 112848, 112836, 112848, 112836, 25957, 50158, 22532, 36961, 83265, 112836, 60031, 23868, 112848, 112848, 104934, 13575, 112836, 112860, 57113, 112848, 112836, 112836, 56246, 75224, 56903, 11564, 112836, 94194, 110309, 45046, 55916, 112860, 112836, 112848, 38649, 112860, 50787, 76700, 26529, 82139, 105414, 112860, 112824, 98279, 112860, 112860, 76698, 112848, 42440, 80426, 112848, 112860, 112860]}],                        {\"template\": {\"data\": {\"bar\": [{\"error_x\": {\"color\": \"#2a3f5f\"}, \"error_y\": {\"color\": \"#2a3f5f\"}, \"marker\": {\"line\": {\"color\": \"#E5ECF6\", \"width\": 0.5}}, \"type\": \"bar\"}], \"barpolar\": [{\"marker\": {\"line\": {\"color\": \"#E5ECF6\", \"width\": 0.5}}, \"type\": \"barpolar\"}], \"carpet\": [{\"aaxis\": {\"endlinecolor\": \"#2a3f5f\", \"gridcolor\": \"white\", \"linecolor\": \"white\", \"minorgridcolor\": \"white\", \"startlinecolor\": \"#2a3f5f\"}, \"baxis\": {\"endlinecolor\": \"#2a3f5f\", \"gridcolor\": \"white\", \"linecolor\": \"white\", \"minorgridcolor\": \"white\", \"startlinecolor\": \"#2a3f5f\"}, \"type\": \"carpet\"}], \"choropleth\": [{\"colorbar\": {\"outlinewidth\": 0, \"ticks\": \"\"}, \"type\": \"choropleth\"}], \"contour\": [{\"colorbar\": {\"outlinewidth\": 0, \"ticks\": \"\"}, \"colorscale\": [[0.0, \"#0d0887\"], [0.1111111111111111, \"#46039f\"], [0.2222222222222222, \"#7201a8\"], [0.3333333333333333, \"#9c179e\"], [0.4444444444444444, \"#bd3786\"], [0.5555555555555556, \"#d8576b\"], [0.6666666666666666, \"#ed7953\"], [0.7777777777777778, \"#fb9f3a\"], [0.8888888888888888, \"#fdca26\"], [1.0, \"#f0f921\"]], \"type\": \"contour\"}], \"contourcarpet\": [{\"colorbar\": {\"outlinewidth\": 0, \"ticks\": \"\"}, \"type\": \"contourcarpet\"}], \"heatmap\": [{\"colorbar\": {\"outlinewidth\": 0, \"ticks\": \"\"}, \"colorscale\": [[0.0, \"#0d0887\"], [0.1111111111111111, \"#46039f\"], [0.2222222222222222, \"#7201a8\"], [0.3333333333333333, \"#9c179e\"], [0.4444444444444444, \"#bd3786\"], [0.5555555555555556, \"#d8576b\"], [0.6666666666666666, \"#ed7953\"], [0.7777777777777778, \"#fb9f3a\"], [0.8888888888888888, \"#fdca26\"], [1.0, \"#f0f921\"]], \"type\": \"heatmap\"}], \"heatmapgl\": [{\"colorbar\": {\"outlinewidth\": 0, \"ticks\": \"\"}, \"colorscale\": [[0.0, \"#0d0887\"], [0.1111111111111111, \"#46039f\"], [0.2222222222222222, \"#7201a8\"], [0.3333333333333333, \"#9c179e\"], [0.4444444444444444, \"#bd3786\"], [0.5555555555555556, \"#d8576b\"], [0.6666666666666666, \"#ed7953\"], [0.7777777777777778, \"#fb9f3a\"], [0.8888888888888888, \"#fdca26\"], [1.0, \"#f0f921\"]], \"type\": \"heatmapgl\"}], \"histogram\": [{\"marker\": {\"colorbar\": {\"outlinewidth\": 0, \"ticks\": \"\"}}, \"type\": \"histogram\"}], \"histogram2d\": [{\"colorbar\": {\"outlinewidth\": 0, \"ticks\": \"\"}, \"colorscale\": [[0.0, \"#0d0887\"], [0.1111111111111111, \"#46039f\"], [0.2222222222222222, \"#7201a8\"], [0.3333333333333333, \"#9c179e\"], [0.4444444444444444, \"#bd3786\"], [0.5555555555555556, \"#d8576b\"], [0.6666666666666666, \"#ed7953\"], [0.7777777777777778, \"#fb9f3a\"], [0.8888888888888888, \"#fdca26\"], [1.0, \"#f0f921\"]], \"type\": \"histogram2d\"}], \"histogram2dcontour\": [{\"colorbar\": {\"outlinewidth\": 0, \"ticks\": \"\"}, \"colorscale\": [[0.0, \"#0d0887\"], [0.1111111111111111, \"#46039f\"], [0.2222222222222222, \"#7201a8\"], [0.3333333333333333, \"#9c179e\"], [0.4444444444444444, \"#bd3786\"], [0.5555555555555556, \"#d8576b\"], [0.6666666666666666, \"#ed7953\"], [0.7777777777777778, \"#fb9f3a\"], [0.8888888888888888, \"#fdca26\"], [1.0, \"#f0f921\"]], \"type\": \"histogram2dcontour\"}], \"mesh3d\": [{\"colorbar\": {\"outlinewidth\": 0, \"ticks\": \"\"}, \"type\": \"mesh3d\"}], \"parcoords\": [{\"line\": {\"colorbar\": {\"outlinewidth\": 0, \"ticks\": \"\"}}, \"type\": \"parcoords\"}], \"pie\": [{\"automargin\": true, \"type\": \"pie\"}], \"scatter\": [{\"marker\": {\"colorbar\": {\"outlinewidth\": 0, \"ticks\": \"\"}}, \"type\": \"scatter\"}], \"scatter3d\": [{\"line\": {\"colorbar\": {\"outlinewidth\": 0, \"ticks\": \"\"}}, \"marker\": {\"colorbar\": {\"outlinewidth\": 0, \"ticks\": \"\"}}, \"type\": \"scatter3d\"}], \"scattercarpet\": [{\"marker\": {\"colorbar\": {\"outlinewidth\": 0, \"ticks\": \"\"}}, \"type\": \"scattercarpet\"}], \"scattergeo\": [{\"marker\": {\"colorbar\": {\"outlinewidth\": 0, \"ticks\": \"\"}}, \"type\": \"scattergeo\"}], \"scattergl\": [{\"marker\": {\"colorbar\": {\"outlinewidth\": 0, \"ticks\": \"\"}}, \"type\": \"scattergl\"}], \"scattermapbox\": [{\"marker\": {\"colorbar\": {\"outlinewidth\": 0, \"ticks\": \"\"}}, \"type\": \"scattermapbox\"}], \"scatterpolar\": [{\"marker\": {\"colorbar\": {\"outlinewidth\": 0, \"ticks\": \"\"}}, \"type\": \"scatterpolar\"}], \"scatterpolargl\": [{\"marker\": {\"colorbar\": {\"outlinewidth\": 0, \"ticks\": \"\"}}, \"type\": \"scatterpolargl\"}], \"scatterternary\": [{\"marker\": {\"colorbar\": {\"outlinewidth\": 0, \"ticks\": \"\"}}, \"type\": \"scatterternary\"}], \"surface\": [{\"colorbar\": {\"outlinewidth\": 0, \"ticks\": \"\"}, \"colorscale\": [[0.0, \"#0d0887\"], [0.1111111111111111, \"#46039f\"], [0.2222222222222222, \"#7201a8\"], [0.3333333333333333, \"#9c179e\"], [0.4444444444444444, \"#bd3786\"], [0.5555555555555556, \"#d8576b\"], [0.6666666666666666, \"#ed7953\"], [0.7777777777777778, \"#fb9f3a\"], [0.8888888888888888, \"#fdca26\"], [1.0, \"#f0f921\"]], \"type\": \"surface\"}], \"table\": [{\"cells\": {\"fill\": {\"color\": \"#EBF0F8\"}, \"line\": {\"color\": \"white\"}}, \"header\": {\"fill\": {\"color\": \"#C8D4E3\"}, \"line\": {\"color\": \"white\"}}, \"type\": \"table\"}]}, \"layout\": {\"annotationdefaults\": {\"arrowcolor\": \"#2a3f5f\", \"arrowhead\": 0, \"arrowwidth\": 1}, \"autotypenumbers\": \"strict\", \"coloraxis\": {\"colorbar\": {\"outlinewidth\": 0, \"ticks\": \"\"}}, \"colorscale\": {\"diverging\": [[0, \"#8e0152\"], [0.1, \"#c51b7d\"], [0.2, \"#de77ae\"], [0.3, \"#f1b6da\"], [0.4, \"#fde0ef\"], [0.5, \"#f7f7f7\"], [0.6, \"#e6f5d0\"], [0.7, \"#b8e186\"], [0.8, \"#7fbc41\"], [0.9, \"#4d9221\"], [1, \"#276419\"]], \"sequential\": [[0.0, \"#0d0887\"], [0.1111111111111111, \"#46039f\"], [0.2222222222222222, \"#7201a8\"], [0.3333333333333333, \"#9c179e\"], [0.4444444444444444, \"#bd3786\"], [0.5555555555555556, \"#d8576b\"], [0.6666666666666666, \"#ed7953\"], [0.7777777777777778, \"#fb9f3a\"], [0.8888888888888888, \"#fdca26\"], [1.0, \"#f0f921\"]], \"sequentialminus\": [[0.0, \"#0d0887\"], [0.1111111111111111, \"#46039f\"], [0.2222222222222222, \"#7201a8\"], [0.3333333333333333, \"#9c179e\"], [0.4444444444444444, \"#bd3786\"], [0.5555555555555556, \"#d8576b\"], [0.6666666666666666, \"#ed7953\"], [0.7777777777777778, \"#fb9f3a\"], [0.8888888888888888, \"#fdca26\"], [1.0, \"#f0f921\"]]}, \"colorway\": [\"#636efa\", \"#EF553B\", \"#00cc96\", \"#ab63fa\", \"#FFA15A\", \"#19d3f3\", \"#FF6692\", \"#B6E880\", \"#FF97FF\", \"#FECB52\"], \"font\": {\"color\": \"#2a3f5f\"}, \"geo\": {\"bgcolor\": \"white\", \"lakecolor\": \"white\", \"landcolor\": \"#E5ECF6\", \"showlakes\": true, \"showland\": true, \"subunitcolor\": \"white\"}, \"hoverlabel\": {\"align\": \"left\"}, \"hovermode\": \"closest\", \"mapbox\": {\"style\": \"light\"}, \"paper_bgcolor\": \"white\", \"plot_bgcolor\": \"#E5ECF6\", \"polar\": {\"angularaxis\": {\"gridcolor\": \"white\", \"linecolor\": \"white\", \"ticks\": \"\"}, \"bgcolor\": \"#E5ECF6\", \"radialaxis\": {\"gridcolor\": \"white\", \"linecolor\": \"white\", \"ticks\": \"\"}}, \"scene\": {\"xaxis\": {\"backgroundcolor\": \"#E5ECF6\", \"gridcolor\": \"white\", \"gridwidth\": 2, \"linecolor\": \"white\", \"showbackground\": true, \"ticks\": \"\", \"zerolinecolor\": \"white\"}, \"yaxis\": {\"backgroundcolor\": \"#E5ECF6\", \"gridcolor\": \"white\", \"gridwidth\": 2, \"linecolor\": \"white\", \"showbackground\": true, \"ticks\": \"\", \"zerolinecolor\": \"white\"}, \"zaxis\": {\"backgroundcolor\": \"#E5ECF6\", \"gridcolor\": \"white\", \"gridwidth\": 2, \"linecolor\": \"white\", \"showbackground\": true, \"ticks\": \"\", \"zerolinecolor\": \"white\"}}, \"shapedefaults\": {\"line\": {\"color\": \"#2a3f5f\"}}, \"ternary\": {\"aaxis\": {\"gridcolor\": \"white\", \"linecolor\": \"white\", \"ticks\": \"\"}, \"baxis\": {\"gridcolor\": \"white\", \"linecolor\": \"white\", \"ticks\": \"\"}, \"bgcolor\": \"#E5ECF6\", \"caxis\": {\"gridcolor\": \"white\", \"linecolor\": \"white\", \"ticks\": \"\"}}, \"title\": {\"x\": 0.05}, \"xaxis\": {\"automargin\": true, \"gridcolor\": \"white\", \"linecolor\": \"white\", \"ticks\": \"\", \"title\": {\"standoff\": 15}, \"zerolinecolor\": \"white\", \"zerolinewidth\": 2}, \"yaxis\": {\"automargin\": true, \"gridcolor\": \"white\", \"linecolor\": \"white\", \"ticks\": \"\", \"title\": {\"standoff\": 15}, \"zerolinecolor\": \"white\", \"zerolinewidth\": 2}}}, \"xaxis\": {\"title\": {\"text\": \"Time series length\"}}, \"yaxis\": {\"title\": {\"text\": \"Number of time series\"}}},                        {\"responsive\": true}                    ).then(function(){\n",
       "                            \n",
       "var gd = document.getElementById('23b3c7f3-af71-495c-bbf9-fff57cfe45cf');\n",
       "var x = new MutationObserver(function (mutations, observer) {{\n",
       "        var display = window.getComputedStyle(gd).display;\n",
       "        if (!display || display === 'none') {{\n",
       "            console.log([gd, 'removed!']);\n",
       "            Plotly.purge(gd);\n",
       "            observer.disconnect();\n",
       "        }}\n",
       "}});\n",
       "\n",
       "// Listen for the removal of the full notebook cells\n",
       "var notebookContainer = gd.closest('#notebook-container');\n",
       "if (notebookContainer) {{\n",
       "    x.observe(notebookContainer, {childList: true});\n",
       "}}\n",
       "\n",
       "// Listen for the clearing of the current output cell\n",
       "var outputEl = gd.closest('.output');\n",
       "if (outputEl) {{\n",
       "    x.observe(outputEl, {childList: true});\n",
       "}}\n",
       "\n",
       "                        })                };                });            </script>        </div>"
      ]
     },
     "metadata": {},
     "output_type": "display_data"
    }
   ],
   "source": [
    "fig = go.Figure(data=[go.Histogram(x=ts_swis['ts Length'])])\n",
    "fig.update_xaxes(title = 'Time series length')\n",
    "fig.update_yaxes(title = 'Number of time series')\n",
    "fig.show()"
   ]
  },
  {
   "cell_type": "code",
   "execution_count": 44,
   "id": "41b39d6b",
   "metadata": {},
   "outputs": [],
   "source": [
    "ts_length_info = pd.DataFrame(ts_swis.groupby(by = 'ts Length').size(), columns = ['Count']).reset_index()"
   ]
  },
  {
   "cell_type": "code",
   "execution_count": 46,
   "id": "1dcaa9cf",
   "metadata": {},
   "outputs": [
    {
     "data": {
      "text/html": [
       "<div>\n",
       "<style scoped>\n",
       "    .dataframe tbody tr th:only-of-type {\n",
       "        vertical-align: middle;\n",
       "    }\n",
       "\n",
       "    .dataframe tbody tr th {\n",
       "        vertical-align: top;\n",
       "    }\n",
       "\n",
       "    .dataframe thead th {\n",
       "        text-align: right;\n",
       "    }\n",
       "</style>\n",
       "<table border=\"1\" class=\"dataframe\">\n",
       "  <thead>\n",
       "    <tr style=\"text-align: right;\">\n",
       "      <th></th>\n",
       "      <th>ts Length</th>\n",
       "      <th>Count</th>\n",
       "    </tr>\n",
       "  </thead>\n",
       "  <tbody>\n",
       "    <tr>\n",
       "      <th>0</th>\n",
       "      <td>1703</td>\n",
       "      <td>1</td>\n",
       "    </tr>\n",
       "    <tr>\n",
       "      <th>1</th>\n",
       "      <td>1791</td>\n",
       "      <td>1</td>\n",
       "    </tr>\n",
       "    <tr>\n",
       "      <th>2</th>\n",
       "      <td>2321</td>\n",
       "      <td>1</td>\n",
       "    </tr>\n",
       "    <tr>\n",
       "      <th>3</th>\n",
       "      <td>2345</td>\n",
       "      <td>1</td>\n",
       "    </tr>\n",
       "    <tr>\n",
       "      <th>4</th>\n",
       "      <td>2483</td>\n",
       "      <td>1</td>\n",
       "    </tr>\n",
       "  </tbody>\n",
       "</table>\n",
       "</div>"
      ],
      "text/plain": [
       "   ts Length  Count\n",
       "0       1703      1\n",
       "1       1791      1\n",
       "2       2321      1\n",
       "3       2345      1\n",
       "4       2483      1"
      ]
     },
     "execution_count": 46,
     "metadata": {},
     "output_type": "execute_result"
    }
   ],
   "source": [
    "ts_length_info.head()"
   ]
  },
  {
   "cell_type": "code",
   "execution_count": 56,
   "id": "a053b8e0",
   "metadata": {},
   "outputs": [
    {
     "data": {
      "text/plain": [
       "243"
      ]
     },
     "execution_count": 56,
     "metadata": {},
     "output_type": "execute_result"
    }
   ],
   "source": [
    "len(ts_length_info)"
   ]
  },
  {
   "cell_type": "code",
   "execution_count": 58,
   "id": "5ea775aa",
   "metadata": {},
   "outputs": [
    {
     "data": {
      "text/plain": [
       "ts Length    112884\n",
       "Count            77\n",
       "dtype: int64"
      ]
     },
     "execution_count": 58,
     "metadata": {},
     "output_type": "execute_result"
    }
   ],
   "source": [
    "ts_length_info.max()"
   ]
  },
  {
   "cell_type": "code",
   "execution_count": 66,
   "id": "6b4d3c59",
   "metadata": {},
   "outputs": [],
   "source": [
    "ts_swis_final = ts_swis.loc[ts_swis['ts Length'] >=100000]"
   ]
  },
  {
   "cell_type": "code",
   "execution_count": 67,
   "id": "59866555",
   "metadata": {},
   "outputs": [
    {
     "data": {
      "text/html": [
       "<div>\n",
       "<style scoped>\n",
       "    .dataframe tbody tr th:only-of-type {\n",
       "        vertical-align: middle;\n",
       "    }\n",
       "\n",
       "    .dataframe tbody tr th {\n",
       "        vertical-align: top;\n",
       "    }\n",
       "\n",
       "    .dataframe thead th {\n",
       "        text-align: right;\n",
       "    }\n",
       "</style>\n",
       "<table border=\"1\" class=\"dataframe\">\n",
       "  <thead>\n",
       "    <tr style=\"text-align: right;\">\n",
       "      <th></th>\n",
       "      <th>site_id</th>\n",
       "      <th>Data Start</th>\n",
       "      <th>Date End</th>\n",
       "      <th>ts Length</th>\n",
       "      <th>Number of large gaps &gt;=5hrs</th>\n",
       "      <th>Number of small gaps &lt;5hrs</th>\n",
       "      <th>Gap Start Dates</th>\n",
       "      <th>Looks faulty (0 or 1 )</th>\n",
       "      <th>Curtailment \\n(0 or 1)</th>\n",
       "      <th>Notes</th>\n",
       "    </tr>\n",
       "    <tr>\n",
       "      <th>site_index</th>\n",
       "      <th></th>\n",
       "      <th></th>\n",
       "      <th></th>\n",
       "      <th></th>\n",
       "      <th></th>\n",
       "      <th></th>\n",
       "      <th></th>\n",
       "      <th></th>\n",
       "      <th></th>\n",
       "      <th></th>\n",
       "    </tr>\n",
       "  </thead>\n",
       "  <tbody>\n",
       "    <tr>\n",
       "      <th>0</th>\n",
       "      <td>1948717897</td>\n",
       "      <td>2020-02-12 20:05:00+08:00</td>\n",
       "      <td>2021-03-10 16:00:00+08:00</td>\n",
       "      <td>112848</td>\n",
       "      <td>0</td>\n",
       "      <td>0</td>\n",
       "      <td>[]</td>\n",
       "      <td>0</td>\n",
       "      <td>1</td>\n",
       "      <td>NaN</td>\n",
       "    </tr>\n",
       "    <tr>\n",
       "      <th>2</th>\n",
       "      <td>1113196323</td>\n",
       "      <td>2020-02-12 20:05:00+08:00</td>\n",
       "      <td>2021-03-10 17:00:00+08:00</td>\n",
       "      <td>112860</td>\n",
       "      <td>0</td>\n",
       "      <td>0</td>\n",
       "      <td>[]</td>\n",
       "      <td>0</td>\n",
       "      <td>1</td>\n",
       "      <td>NaN</td>\n",
       "    </tr>\n",
       "    <tr>\n",
       "      <th>12</th>\n",
       "      <td>1597760039</td>\n",
       "      <td>2020-02-12 20:05:00+08:00</td>\n",
       "      <td>2021-03-10 15:00:00+08:00</td>\n",
       "      <td>112836</td>\n",
       "      <td>0</td>\n",
       "      <td>0</td>\n",
       "      <td>[]</td>\n",
       "      <td>0</td>\n",
       "      <td>0</td>\n",
       "      <td>* May 6th seems off</td>\n",
       "    </tr>\n",
       "    <tr>\n",
       "      <th>14</th>\n",
       "      <td>317532327</td>\n",
       "      <td>2020-02-12 20:05:00+08:00</td>\n",
       "      <td>2021-03-10 15:00:00+08:00</td>\n",
       "      <td>112836</td>\n",
       "      <td>0</td>\n",
       "      <td>0</td>\n",
       "      <td>[]</td>\n",
       "      <td>0</td>\n",
       "      <td>1</td>\n",
       "      <td>* drop after the peak looks weird - straight s...</td>\n",
       "    </tr>\n",
       "    <tr>\n",
       "      <th>16</th>\n",
       "      <td>1295864320</td>\n",
       "      <td>2020-02-12 20:05:00+08:00</td>\n",
       "      <td>2021-03-10 17:00:00+08:00</td>\n",
       "      <td>112860</td>\n",
       "      <td>0</td>\n",
       "      <td>0</td>\n",
       "      <td>[]</td>\n",
       "      <td>0</td>\n",
       "      <td>0</td>\n",
       "      <td>NaN</td>\n",
       "    </tr>\n",
       "  </tbody>\n",
       "</table>\n",
       "</div>"
      ],
      "text/plain": [
       "               site_id                 Data Start                   Date End  \\\n",
       "site_index                                                                     \n",
       "0           1948717897  2020-02-12 20:05:00+08:00  2021-03-10 16:00:00+08:00   \n",
       "2           1113196323  2020-02-12 20:05:00+08:00  2021-03-10 17:00:00+08:00   \n",
       "12          1597760039  2020-02-12 20:05:00+08:00  2021-03-10 15:00:00+08:00   \n",
       "14           317532327  2020-02-12 20:05:00+08:00  2021-03-10 15:00:00+08:00   \n",
       "16          1295864320  2020-02-12 20:05:00+08:00  2021-03-10 17:00:00+08:00   \n",
       "\n",
       "            ts Length  Number of large gaps >=5hrs  \\\n",
       "site_index                                           \n",
       "0              112848                            0   \n",
       "2              112860                            0   \n",
       "12             112836                            0   \n",
       "14             112836                            0   \n",
       "16             112860                            0   \n",
       "\n",
       "            Number of small gaps <5hrs Gap Start Dates  \\\n",
       "site_index                                               \n",
       "0                                    0              []   \n",
       "2                                    0              []   \n",
       "12                                   0              []   \n",
       "14                                   0              []   \n",
       "16                                   0              []   \n",
       "\n",
       "            Looks faulty (0 or 1 )  Curtailment \\n(0 or 1)  \\\n",
       "site_index                                                   \n",
       "0                                0                       1   \n",
       "2                                0                       1   \n",
       "12                               0                       0   \n",
       "14                               0                       1   \n",
       "16                               0                       0   \n",
       "\n",
       "                                                        Notes  \n",
       "site_index                                                     \n",
       "0                                                         NaN  \n",
       "2                                                         NaN  \n",
       "12                                        * May 6th seems off  \n",
       "14          * drop after the peak looks weird - straight s...  \n",
       "16                                                        NaN  "
      ]
     },
     "execution_count": 67,
     "metadata": {},
     "output_type": "execute_result"
    }
   ],
   "source": [
    "ts_swis_final.head()"
   ]
  },
  {
   "cell_type": "code",
   "execution_count": 68,
   "id": "97be9e1b",
   "metadata": {},
   "outputs": [
    {
     "data": {
      "text/plain": [
       "265"
      ]
     },
     "execution_count": 68,
     "metadata": {},
     "output_type": "execute_result"
    }
   ],
   "source": [
    "len(ts_swis_final)"
   ]
  },
  {
   "cell_type": "markdown",
   "id": "4f04c10f",
   "metadata": {},
   "source": [
    "We have 265 time series. Now let's check how many postcodes these come from."
   ]
  },
  {
   "cell_type": "code",
   "execution_count": 70,
   "id": "63ee2ca3",
   "metadata": {},
   "outputs": [],
   "source": [
    "site_info = pd.read_csv(\"../../all_ts_data/all_sites/all_site_info.csv\")"
   ]
  },
  {
   "cell_type": "code",
   "execution_count": 71,
   "id": "be99bbc3",
   "metadata": {},
   "outputs": [
    {
     "data": {
      "text/html": [
       "<div>\n",
       "<style scoped>\n",
       "    .dataframe tbody tr th:only-of-type {\n",
       "        vertical-align: middle;\n",
       "    }\n",
       "\n",
       "    .dataframe tbody tr th {\n",
       "        vertical-align: top;\n",
       "    }\n",
       "\n",
       "    .dataframe thead th {\n",
       "        text-align: right;\n",
       "    }\n",
       "</style>\n",
       "<table border=\"1\" class=\"dataframe\">\n",
       "  <thead>\n",
       "    <tr style=\"text-align: right;\">\n",
       "      <th></th>\n",
       "      <th>site_id</th>\n",
       "      <th>dc_capacity</th>\n",
       "      <th>postcode</th>\n",
       "    </tr>\n",
       "  </thead>\n",
       "  <tbody>\n",
       "    <tr>\n",
       "      <th>0</th>\n",
       "      <td>1354298257</td>\n",
       "      <td>6490</td>\n",
       "      <td>6123</td>\n",
       "    </tr>\n",
       "    <tr>\n",
       "      <th>1</th>\n",
       "      <td>1272386136</td>\n",
       "      <td>10540</td>\n",
       "      <td>6728</td>\n",
       "    </tr>\n",
       "    <tr>\n",
       "      <th>2</th>\n",
       "      <td>1942910158</td>\n",
       "      <td>6600</td>\n",
       "      <td>6014</td>\n",
       "    </tr>\n",
       "    <tr>\n",
       "      <th>3</th>\n",
       "      <td>1706523333</td>\n",
       "      <td>33550</td>\n",
       "      <td>6104</td>\n",
       "    </tr>\n",
       "    <tr>\n",
       "      <th>4</th>\n",
       "      <td>1068121303</td>\n",
       "      <td>3990</td>\n",
       "      <td>6330</td>\n",
       "    </tr>\n",
       "  </tbody>\n",
       "</table>\n",
       "</div>"
      ],
      "text/plain": [
       "      site_id  dc_capacity  postcode\n",
       "0  1354298257         6490      6123\n",
       "1  1272386136        10540      6728\n",
       "2  1942910158         6600      6014\n",
       "3  1706523333        33550      6104\n",
       "4  1068121303         3990      6330"
      ]
     },
     "execution_count": 71,
     "metadata": {},
     "output_type": "execute_result"
    }
   ],
   "source": [
    "site_info.head()"
   ]
  },
  {
   "cell_type": "code",
   "execution_count": 75,
   "id": "8f1c9363",
   "metadata": {},
   "outputs": [],
   "source": [
    "swis_final_sites = ts_swis_final['site_id'].values.tolist()"
   ]
  },
  {
   "cell_type": "code",
   "execution_count": 77,
   "id": "ea9ff22c",
   "metadata": {},
   "outputs": [],
   "source": [
    "swis_final_site_info = site_info.loc[site_info['site_id'].isin(swis_final_sites)]"
   ]
  },
  {
   "cell_type": "code",
   "execution_count": 79,
   "id": "74ff8d8c",
   "metadata": {},
   "outputs": [],
   "source": [
    "swis_final_pcs = pd.DataFrame(swis_final_site_info.groupby('postcode').size(), columns = ['number of sites'])"
   ]
  },
  {
   "cell_type": "code",
   "execution_count": 82,
   "id": "c215a8ee",
   "metadata": {},
   "outputs": [
    {
     "data": {
      "text/html": [
       "<div>\n",
       "<style scoped>\n",
       "    .dataframe tbody tr th:only-of-type {\n",
       "        vertical-align: middle;\n",
       "    }\n",
       "\n",
       "    .dataframe tbody tr th {\n",
       "        vertical-align: top;\n",
       "    }\n",
       "\n",
       "    .dataframe thead th {\n",
       "        text-align: right;\n",
       "    }\n",
       "</style>\n",
       "<table border=\"1\" class=\"dataframe\">\n",
       "  <thead>\n",
       "    <tr style=\"text-align: right;\">\n",
       "      <th></th>\n",
       "      <th>number of sites</th>\n",
       "    </tr>\n",
       "    <tr>\n",
       "      <th>postcode</th>\n",
       "      <th></th>\n",
       "    </tr>\n",
       "  </thead>\n",
       "  <tbody>\n",
       "    <tr>\n",
       "      <th>6000</th>\n",
       "      <td>1</td>\n",
       "    </tr>\n",
       "    <tr>\n",
       "      <th>6005</th>\n",
       "      <td>1</td>\n",
       "    </tr>\n",
       "    <tr>\n",
       "      <th>6006</th>\n",
       "      <td>2</td>\n",
       "    </tr>\n",
       "    <tr>\n",
       "      <th>6007</th>\n",
       "      <td>1</td>\n",
       "    </tr>\n",
       "    <tr>\n",
       "      <th>6008</th>\n",
       "      <td>1</td>\n",
       "    </tr>\n",
       "    <tr>\n",
       "      <th>...</th>\n",
       "      <td>...</td>\n",
       "    </tr>\n",
       "    <tr>\n",
       "      <th>6430</th>\n",
       "      <td>2</td>\n",
       "    </tr>\n",
       "    <tr>\n",
       "      <th>6432</th>\n",
       "      <td>2</td>\n",
       "    </tr>\n",
       "    <tr>\n",
       "      <th>6509</th>\n",
       "      <td>1</td>\n",
       "    </tr>\n",
       "    <tr>\n",
       "      <th>6528</th>\n",
       "      <td>1</td>\n",
       "    </tr>\n",
       "    <tr>\n",
       "      <th>6530</th>\n",
       "      <td>8</td>\n",
       "    </tr>\n",
       "  </tbody>\n",
       "</table>\n",
       "<p>109 rows × 1 columns</p>\n",
       "</div>"
      ],
      "text/plain": [
       "          number of sites\n",
       "postcode                 \n",
       "6000                    1\n",
       "6005                    1\n",
       "6006                    2\n",
       "6007                    1\n",
       "6008                    1\n",
       "...                   ...\n",
       "6430                    2\n",
       "6432                    2\n",
       "6509                    1\n",
       "6528                    1\n",
       "6530                    8\n",
       "\n",
       "[109 rows x 1 columns]"
      ]
     },
     "execution_count": 82,
     "metadata": {},
     "output_type": "execute_result"
    }
   ],
   "source": [
    "swis_final_pcs"
   ]
  },
  {
   "cell_type": "markdown",
   "id": "a16e33c6",
   "metadata": {},
   "source": [
    "We have 109 postcodes in total for the final SWIS analysis"
   ]
  },
  {
   "cell_type": "code",
   "execution_count": null,
   "id": "112b9bb1",
   "metadata": {},
   "outputs": [],
   "source": []
  }
 ],
 "metadata": {
  "kernelspec": {
   "display_name": "Python 3",
   "language": "python",
   "name": "python3"
  },
  "language_info": {
   "codemirror_mode": {
    "name": "ipython",
    "version": 3
   },
   "file_extension": ".py",
   "mimetype": "text/x-python",
   "name": "python",
   "nbconvert_exporter": "python",
   "pygments_lexer": "ipython3",
   "version": "3.8.10"
  }
 },
 "nbformat": 4,
 "nbformat_minor": 5
}
