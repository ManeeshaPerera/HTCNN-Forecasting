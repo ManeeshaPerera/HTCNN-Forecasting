{
 "cells": [
  {
   "cell_type": "code",
   "execution_count": 1,
   "id": "6a7474ad",
   "metadata": {},
   "outputs": [],
   "source": [
    "import pandas as pd\n",
    "import sys\n",
    "sys.path.insert(0, '../')\n",
    "\n",
    "import matplotlib.pyplot as plt\n",
    "import seaborn as sns\n",
    "sns.set_theme(style=\"whitegrid\")"
   ]
  },
  {
   "cell_type": "code",
   "execution_count": 2,
   "id": "c0f39589",
   "metadata": {},
   "outputs": [],
   "source": [
    "error = pd.read_csv('../combined_nn_results/refined_models/multiple_runs/final_errors.csv')"
   ]
  },
  {
   "cell_type": "code",
   "execution_count": 3,
   "id": "ddcaa968",
   "metadata": {},
   "outputs": [
    {
     "data": {
      "text/html": [
       "<div>\n",
       "<style scoped>\n",
       "    .dataframe tbody tr th:only-of-type {\n",
       "        vertical-align: middle;\n",
       "    }\n",
       "\n",
       "    .dataframe tbody tr th {\n",
       "        vertical-align: top;\n",
       "    }\n",
       "\n",
       "    .dataframe thead th {\n",
       "        text-align: right;\n",
       "    }\n",
       "</style>\n",
       "<table border=\"1\" class=\"dataframe\">\n",
       "  <thead>\n",
       "    <tr style=\"text-align: right;\">\n",
       "      <th></th>\n",
       "      <th>Unnamed: 0</th>\n",
       "      <th>mean</th>\n",
       "      <th>std</th>\n",
       "      <th>min</th>\n",
       "      <th>max</th>\n",
       "      <th>median</th>\n",
       "    </tr>\n",
       "  </thead>\n",
       "  <tbody>\n",
       "    <tr>\n",
       "      <th>0</th>\n",
       "      <td>postcode_only_TCN</td>\n",
       "      <td>0.359676</td>\n",
       "      <td>0.040943</td>\n",
       "      <td>0.324565</td>\n",
       "      <td>0.449626</td>\n",
       "      <td>0.342162</td>\n",
       "    </tr>\n",
       "    <tr>\n",
       "      <th>1</th>\n",
       "      <td>last_residual_approach_with_TCN</td>\n",
       "      <td>0.351962</td>\n",
       "      <td>0.022549</td>\n",
       "      <td>0.325881</td>\n",
       "      <td>0.395380</td>\n",
       "      <td>0.348261</td>\n",
       "    </tr>\n",
       "    <tr>\n",
       "      <th>2</th>\n",
       "      <td>local_and_global_conv_approach_with_TCN</td>\n",
       "      <td>0.381831</td>\n",
       "      <td>0.021749</td>\n",
       "      <td>0.352417</td>\n",
       "      <td>0.417327</td>\n",
       "      <td>0.378159</td>\n",
       "    </tr>\n",
       "    <tr>\n",
       "      <th>3</th>\n",
       "      <td>local_conv_with_grid_with_TCN_approach</td>\n",
       "      <td>0.356432</td>\n",
       "      <td>0.021469</td>\n",
       "      <td>0.331469</td>\n",
       "      <td>0.405335</td>\n",
       "      <td>0.352129</td>\n",
       "    </tr>\n",
       "    <tr>\n",
       "      <th>4</th>\n",
       "      <td>local_conv_with_grid_conv_TCN_approach</td>\n",
       "      <td>0.450877</td>\n",
       "      <td>0.198455</td>\n",
       "      <td>0.319985</td>\n",
       "      <td>0.907638</td>\n",
       "      <td>0.350815</td>\n",
       "    </tr>\n",
       "    <tr>\n",
       "      <th>5</th>\n",
       "      <td>pc_and_grid_input_together</td>\n",
       "      <td>0.378261</td>\n",
       "      <td>0.034259</td>\n",
       "      <td>0.343172</td>\n",
       "      <td>0.458297</td>\n",
       "      <td>0.365886</td>\n",
       "    </tr>\n",
       "    <tr>\n",
       "      <th>6</th>\n",
       "      <td>grid_added_at_each_TCN_together</td>\n",
       "      <td>0.355299</td>\n",
       "      <td>0.020756</td>\n",
       "      <td>0.333444</td>\n",
       "      <td>0.390848</td>\n",
       "      <td>0.349570</td>\n",
       "    </tr>\n",
       "    <tr>\n",
       "      <th>7</th>\n",
       "      <td>grid_conv_added_at_each_TCN_together</td>\n",
       "      <td>0.369009</td>\n",
       "      <td>0.025962</td>\n",
       "      <td>0.328719</td>\n",
       "      <td>0.400808</td>\n",
       "      <td>0.370703</td>\n",
       "    </tr>\n",
       "    <tr>\n",
       "      <th>8</th>\n",
       "      <td>frozen_branch_approach_TCN</td>\n",
       "      <td>0.327260</td>\n",
       "      <td>0.014788</td>\n",
       "      <td>0.310499</td>\n",
       "      <td>0.358980</td>\n",
       "      <td>0.324134</td>\n",
       "    </tr>\n",
       "  </tbody>\n",
       "</table>\n",
       "</div>"
      ],
      "text/plain": [
       "                                Unnamed: 0      mean       std       min  \\\n",
       "0                        postcode_only_TCN  0.359676  0.040943  0.324565   \n",
       "1          last_residual_approach_with_TCN  0.351962  0.022549  0.325881   \n",
       "2  local_and_global_conv_approach_with_TCN  0.381831  0.021749  0.352417   \n",
       "3   local_conv_with_grid_with_TCN_approach  0.356432  0.021469  0.331469   \n",
       "4   local_conv_with_grid_conv_TCN_approach  0.450877  0.198455  0.319985   \n",
       "5               pc_and_grid_input_together  0.378261  0.034259  0.343172   \n",
       "6          grid_added_at_each_TCN_together  0.355299  0.020756  0.333444   \n",
       "7     grid_conv_added_at_each_TCN_together  0.369009  0.025962  0.328719   \n",
       "8               frozen_branch_approach_TCN  0.327260  0.014788  0.310499   \n",
       "\n",
       "        max    median  \n",
       "0  0.449626  0.342162  \n",
       "1  0.395380  0.348261  \n",
       "2  0.417327  0.378159  \n",
       "3  0.405335  0.352129  \n",
       "4  0.907638  0.350815  \n",
       "5  0.458297  0.365886  \n",
       "6  0.390848  0.349570  \n",
       "7  0.400808  0.370703  \n",
       "8  0.358980  0.324134  "
      ]
     },
     "execution_count": 3,
     "metadata": {},
     "output_type": "execute_result"
    }
   ],
   "source": [
    "error"
   ]
  },
  {
   "cell_type": "code",
   "execution_count": 31,
   "id": "ca92719d",
   "metadata": {},
   "outputs": [],
   "source": [
    "final_test_models = {'0': {'func': 'postcode_only_TCN', 'model_name': 'Post Code Together Approach'},\n",
    "                     '1': {'func': 'last_residual_approach_with_TCN', 'model_name': 'Last Block Residual'},\n",
    "                     '2': {'func': 'local_and_global_conv_approach_with_TCN',\n",
    "                           'model_name': 'Local and Global Convolution'},\n",
    "                     '3': {'func': 'local_conv_with_grid_with_TCN_approach',\n",
    "                           'model_name': 'Post Code Data Convolution and Grid'},\n",
    "                     '4': {'func': 'local_conv_with_grid_conv_TCN_approach',\n",
    "                           'model_name': 'Post Code Data Conv and Grid Convolution'},\n",
    "                     '5': {'func': 'pc_and_grid_input_together', 'model_name': 'Post Code Data and Grid Data Convolution'},\n",
    "                     '6': {'func': 'grid_added_at_each_TCN_together', 'model_name': 'Gird Data added at each Postcode Conv'},\n",
    "                     '7': {'func': 'grid_conv_added_at_each_TCN_together',\n",
    "                           'model_name': 'Gird Data Conv at each Postcode Conv'},\n",
    "                     '8': {'func': 'frozen_branch_approach_TCN', 'model_name': 'Grid and Postcode Forecast Approach'}}"
   ]
  },
  {
   "cell_type": "code",
   "execution_count": 29,
   "id": "3b18821d",
   "metadata": {},
   "outputs": [],
   "source": [
    "# pd.read_csv('../combined_nn_results/refined_models/multiple_runs/postcode_only_TCN/errors.csv')"
   ]
  },
  {
   "cell_type": "code",
   "execution_count": 32,
   "id": "47e21872",
   "metadata": {},
   "outputs": [],
   "source": [
    "data_df = []\n",
    "\n",
    "for key, model_vals in final_test_models.items():\n",
    "    model_name = model_vals['func']\n",
    "    model_string = model_vals['model_name']\n",
    "    error_model = pd.read_csv(f'../combined_nn_results/refined_models/multiple_runs/{model_name}/errors.csv')\n",
    "    rmse = error_model['nrmse'].tolist()\n",
    "    for rmse_run in rmse:\n",
    "        data_df.append([rmse_run, model_string])"
   ]
  },
  {
   "cell_type": "code",
   "execution_count": 35,
   "id": "31fee169",
   "metadata": {},
   "outputs": [],
   "source": [
    "err_dist = pd.DataFrame(data_df, columns = ['NRMSE', 'Approach'])"
   ]
  },
  {
   "cell_type": "code",
   "execution_count": 37,
   "id": "8b0db899",
   "metadata": {},
   "outputs": [
    {
     "data": {
      "image/png": "[encoded data removed]",
      "text/plain": [
       "<Figure size 1152x720 with 1 Axes>"
      ]
     },
     "metadata": {},
     "output_type": "display_data"
    }
   ],
   "source": [
    "plt.figure(figsize=(16, 10))\n",
    "ax = sns.barplot(x=\"NRMSE\", y=\"Approach\", data=err_dist, capsize=.2)"
   ]
  },
  {
   "cell_type": "code",
   "execution_count": 44,
   "id": "305ef620",
   "metadata": {},
   "outputs": [],
   "source": [
    "final_test_models2 = {'0': {'func': 'postcode_only_TCN', 'model_name': 'Post Code Together Approach'},\n",
    "                     '1': {'func': 'last_residual_approach_with_TCN', 'model_name': 'Last Block Residual'},\n",
    "                     '2': {'func': 'local_and_global_conv_approach_with_TCN',\n",
    "                           'model_name': 'Local and Global Convolution'},\n",
    "                     '6': {'func': 'grid_added_at_each_TCN_together', 'model_name': 'Gird Data added at each Postcode Conv'},\n",
    "                     '7': {'func': 'grid_conv_added_at_each_TCN_together',\n",
    "                           'model_name': 'Gird Data Conv at each Postcode Conv'}}"
   ]
  },
  {
   "cell_type": "code",
   "execution_count": 45,
   "id": "42b73042",
   "metadata": {},
   "outputs": [],
   "source": [
    "data_df = []\n",
    "\n",
    "for key, model_vals in final_test_models2.items():\n",
    "    model_name = model_vals['func']\n",
    "    model_string = model_vals['model_name']\n",
    "    error_model = pd.read_csv(f'../combined_nn_results/refined_models/multiple_runs2/{model_name}/errors.csv')\n",
    "    rmse = error_model['nrmse'].tolist()\n",
    "    for rmse_run in rmse:\n",
    "        data_df.append([rmse_run, model_string])"
   ]
  },
  {
   "cell_type": "code",
   "execution_count": 64,
   "id": "b2d640c5",
   "metadata": {},
   "outputs": [],
   "source": [
    "err_dist = pd.DataFrame(data_df, columns = ['NRMSE', 'Approach'])"
   ]
  },
  {
   "cell_type": "code",
   "execution_count": 65,
   "id": "50df7fe7",
   "metadata": {},
   "outputs": [],
   "source": [
    "arima_df = pd.DataFrame({'NRMSE': 0.3181, 'Approach': 'ARIMA - Postcode Aggregated'}, index = [0])"
   ]
  },
  {
   "cell_type": "code",
   "execution_count": 66,
   "id": "4cbde106",
   "metadata": {},
   "outputs": [],
   "source": [
    "err_dist = err_dist.append(arima_df, ignore_index=True)"
   ]
  },
  {
   "cell_type": "code",
   "execution_count": 69,
   "id": "e15e214b",
   "metadata": {},
   "outputs": [],
   "source": [
    "# err_dist"
   ]
  },
  {
   "cell_type": "code",
   "execution_count": 67,
   "id": "791849b3",
   "metadata": {},
   "outputs": [
    {
     "data": {
      "image/png": "[encoded data removed]",
      "text/plain": [
       "<Figure size 1152x720 with 1 Axes>"
      ]
     },
     "metadata": {},
     "output_type": "display_data"
    }
   ],
   "source": [
    "plt.figure(figsize=(16, 10))\n",
    "ax = sns.barplot(x=\"NRMSE\", y=\"Approach\", data=err_dist, capsize=.2)"
   ]
  },
  {
   "cell_type": "code",
   "execution_count": 82,
   "id": "4e2f17c2",
   "metadata": {},
   "outputs": [],
   "source": [
    "#Lstm\n",
    "errors = pd.read_csv('../conventional_lstm/final_errors.csv')"
   ]
  },
  {
   "cell_type": "code",
   "execution_count": 91,
   "id": "032d6877",
   "metadata": {},
   "outputs": [
    {
     "data": {
      "text/html": [
       "<div>\n",
       "<style scoped>\n",
       "    .dataframe tbody tr th:only-of-type {\n",
       "        vertical-align: middle;\n",
       "    }\n",
       "\n",
       "    .dataframe tbody tr th {\n",
       "        vertical-align: top;\n",
       "    }\n",
       "\n",
       "    .dataframe thead th {\n",
       "        text-align: right;\n",
       "    }\n",
       "</style>\n",
       "<table border=\"1\" class=\"dataframe\">\n",
       "  <thead>\n",
       "    <tr style=\"text-align: right;\">\n",
       "      <th></th>\n",
       "      <th>Unnamed: 0</th>\n",
       "      <th>NRMSE</th>\n",
       "    </tr>\n",
       "    <tr>\n",
       "      <th>Level</th>\n",
       "      <th></th>\n",
       "      <th></th>\n",
       "    </tr>\n",
       "  </thead>\n",
       "  <tbody>\n",
       "    <tr>\n",
       "      <th>grid</th>\n",
       "      <td>22.5</td>\n",
       "      <td>0.363569</td>\n",
       "    </tr>\n",
       "    <tr>\n",
       "      <th>pc</th>\n",
       "      <td>25.5</td>\n",
       "      <td>0.316074</td>\n",
       "    </tr>\n",
       "    <tr>\n",
       "      <th>site</th>\n",
       "      <td>26.5</td>\n",
       "      <td>0.261484</td>\n",
       "    </tr>\n",
       "    <tr>\n",
       "      <th>substation</th>\n",
       "      <td>24.5</td>\n",
       "      <td>0.349540</td>\n",
       "    </tr>\n",
       "    <tr>\n",
       "      <th>tl</th>\n",
       "      <td>23.5</td>\n",
       "      <td>0.350720</td>\n",
       "    </tr>\n",
       "  </tbody>\n",
       "</table>\n",
       "</div>"
      ],
      "text/plain": [
       "            Unnamed: 0     NRMSE\n",
       "Level                           \n",
       "grid              22.5  0.363569\n",
       "pc                25.5  0.316074\n",
       "site              26.5  0.261484\n",
       "substation        24.5  0.349540\n",
       "tl                23.5  0.350720"
      ]
     },
     "execution_count": 91,
     "metadata": {},
     "output_type": "execute_result"
    }
   ],
   "source": [
    "errors.groupby(by='Level').mean()"
   ]
  },
  {
   "cell_type": "code",
   "execution_count": 92,
   "id": "2571e677",
   "metadata": {},
   "outputs": [
    {
     "data": {
      "text/html": [
       "<div>\n",
       "<style scoped>\n",
       "    .dataframe tbody tr th:only-of-type {\n",
       "        vertical-align: middle;\n",
       "    }\n",
       "\n",
       "    .dataframe tbody tr th {\n",
       "        vertical-align: top;\n",
       "    }\n",
       "\n",
       "    .dataframe thead th {\n",
       "        text-align: right;\n",
       "    }\n",
       "</style>\n",
       "<table border=\"1\" class=\"dataframe\">\n",
       "  <thead>\n",
       "    <tr style=\"text-align: right;\">\n",
       "      <th></th>\n",
       "      <th>Unnamed: 0</th>\n",
       "      <th>NRMSE</th>\n",
       "    </tr>\n",
       "    <tr>\n",
       "      <th>Level</th>\n",
       "      <th></th>\n",
       "      <th></th>\n",
       "    </tr>\n",
       "  </thead>\n",
       "  <tbody>\n",
       "    <tr>\n",
       "      <th>grid</th>\n",
       "      <td>15.138252</td>\n",
       "      <td>0.004390</td>\n",
       "    </tr>\n",
       "    <tr>\n",
       "      <th>pc</th>\n",
       "      <td>15.138252</td>\n",
       "      <td>0.010623</td>\n",
       "    </tr>\n",
       "    <tr>\n",
       "      <th>site</th>\n",
       "      <td>15.138252</td>\n",
       "      <td>0.011774</td>\n",
       "    </tr>\n",
       "    <tr>\n",
       "      <th>substation</th>\n",
       "      <td>15.138252</td>\n",
       "      <td>0.006883</td>\n",
       "    </tr>\n",
       "    <tr>\n",
       "      <th>tl</th>\n",
       "      <td>15.138252</td>\n",
       "      <td>0.006789</td>\n",
       "    </tr>\n",
       "  </tbody>\n",
       "</table>\n",
       "</div>"
      ],
      "text/plain": [
       "            Unnamed: 0     NRMSE\n",
       "Level                           \n",
       "grid         15.138252  0.004390\n",
       "pc           15.138252  0.010623\n",
       "site         15.138252  0.011774\n",
       "substation   15.138252  0.006883\n",
       "tl           15.138252  0.006789"
      ]
     },
     "execution_count": 92,
     "metadata": {},
     "output_type": "execute_result"
    }
   ],
   "source": [
    "errors.groupby(by='Level').std()"
   ]
  },
  {
   "cell_type": "code",
   "execution_count": 84,
   "id": "a687dff0",
   "metadata": {},
   "outputs": [
    {
     "data": {
      "image/png": "[encoded data removed]",
      "text/plain": [
       "<Figure size 1152x720 with 1 Axes>"
      ]
     },
     "metadata": {},
     "output_type": "display_data"
    }
   ],
   "source": [
    "plt.figure(figsize=(16, 10))\n",
    "ax = sns.barplot(x=\"NRMSE\", y=\"Level\", data=errors, capsize=.2)"
   ]
  },
  {
   "cell_type": "code",
   "execution_count": 39,
   "id": "a3978e63",
   "metadata": {},
   "outputs": [
    {
     "data": {
      "text/html": [
       "<div>\n",
       "<style scoped>\n",
       "    .dataframe tbody tr th:only-of-type {\n",
       "        vertical-align: middle;\n",
       "    }\n",
       "\n",
       "    .dataframe tbody tr th {\n",
       "        vertical-align: top;\n",
       "    }\n",
       "\n",
       "    .dataframe thead tr th {\n",
       "        text-align: left;\n",
       "    }\n",
       "\n",
       "    .dataframe thead tr:last-of-type th {\n",
       "        text-align: right;\n",
       "    }\n",
       "</style>\n",
       "<table border=\"1\" class=\"dataframe\">\n",
       "  <thead>\n",
       "    <tr>\n",
       "      <th></th>\n",
       "      <th colspan=\"2\" halign=\"left\">NRMSE</th>\n",
       "    </tr>\n",
       "    <tr>\n",
       "      <th></th>\n",
       "      <th>mean</th>\n",
       "      <th>std</th>\n",
       "    </tr>\n",
       "    <tr>\n",
       "      <th>Level</th>\n",
       "      <th></th>\n",
       "      <th></th>\n",
       "    </tr>\n",
       "  </thead>\n",
       "  <tbody>\n",
       "    <tr>\n",
       "      <th>grid</th>\n",
       "      <td>0.368286</td>\n",
       "      <td>0.010205</td>\n",
       "    </tr>\n",
       "    <tr>\n",
       "      <th>pc</th>\n",
       "      <td>0.292210</td>\n",
       "      <td>0.007728</td>\n",
       "    </tr>\n",
       "    <tr>\n",
       "      <th>site</th>\n",
       "      <td>0.262731</td>\n",
       "      <td>0.005053</td>\n",
       "    </tr>\n",
       "    <tr>\n",
       "      <th>substation</th>\n",
       "      <td>0.360834</td>\n",
       "      <td>0.008796</td>\n",
       "    </tr>\n",
       "    <tr>\n",
       "      <th>tl</th>\n",
       "      <td>0.362630</td>\n",
       "      <td>0.008340</td>\n",
       "    </tr>\n",
       "  </tbody>\n",
       "</table>\n",
       "</div>"
      ],
      "text/plain": [
       "               NRMSE          \n",
       "                mean       std\n",
       "Level                         \n",
       "grid        0.368286  0.010205\n",
       "pc          0.292210  0.007728\n",
       "site        0.262731  0.005053\n",
       "substation  0.360834  0.008796\n",
       "tl          0.362630  0.008340"
      ]
     },
     "execution_count": 39,
     "metadata": {},
     "output_type": "execute_result"
    }
   ],
   "source": [
    "#CNN\n",
    "errors = pd.read_csv('../conventional_cnn/final_errors.csv')\n",
    "errors.groupby(by='Level').agg({'NRMSE': ['mean', 'std']})"
   ]
  },
  {
   "cell_type": "code",
   "execution_count": 106,
   "id": "40c4e56c",
   "metadata": {},
   "outputs": [
    {
     "data": {
      "text/html": [
       "<div>\n",
       "<style scoped>\n",
       "    .dataframe tbody tr th:only-of-type {\n",
       "        vertical-align: middle;\n",
       "    }\n",
       "\n",
       "    .dataframe tbody tr th {\n",
       "        vertical-align: top;\n",
       "    }\n",
       "\n",
       "    .dataframe thead tr th {\n",
       "        text-align: left;\n",
       "    }\n",
       "\n",
       "    .dataframe thead tr:last-of-type th {\n",
       "        text-align: right;\n",
       "    }\n",
       "</style>\n",
       "<table border=\"1\" class=\"dataframe\">\n",
       "  <thead>\n",
       "    <tr>\n",
       "      <th></th>\n",
       "      <th colspan=\"2\" halign=\"left\">NRMSE</th>\n",
       "    </tr>\n",
       "    <tr>\n",
       "      <th></th>\n",
       "      <th>mean</th>\n",
       "      <th>std</th>\n",
       "    </tr>\n",
       "    <tr>\n",
       "      <th>Level</th>\n",
       "      <th></th>\n",
       "      <th></th>\n",
       "    </tr>\n",
       "  </thead>\n",
       "  <tbody>\n",
       "    <tr>\n",
       "      <th>grid</th>\n",
       "      <td>0.362444</td>\n",
       "      <td>0.013330</td>\n",
       "    </tr>\n",
       "    <tr>\n",
       "      <th>pc</th>\n",
       "      <td>0.292504</td>\n",
       "      <td>0.013954</td>\n",
       "    </tr>\n",
       "    <tr>\n",
       "      <th>site</th>\n",
       "      <td>0.241595</td>\n",
       "      <td>0.009793</td>\n",
       "    </tr>\n",
       "    <tr>\n",
       "      <th>substation</th>\n",
       "      <td>0.349829</td>\n",
       "      <td>0.010983</td>\n",
       "    </tr>\n",
       "    <tr>\n",
       "      <th>tl</th>\n",
       "      <td>0.354723</td>\n",
       "      <td>0.016418</td>\n",
       "    </tr>\n",
       "  </tbody>\n",
       "</table>\n",
       "</div>"
      ],
      "text/plain": [
       "               NRMSE          \n",
       "                mean       std\n",
       "Level                         \n",
       "grid        0.362444  0.013330\n",
       "pc          0.292504  0.013954\n",
       "site        0.241595  0.009793\n",
       "substation  0.349829  0.010983\n",
       "tl          0.354723  0.016418"
      ]
     },
     "execution_count": 106,
     "metadata": {},
     "output_type": "execute_result"
    }
   ],
   "source": [
    "errors = pd.read_csv('../conventional_tcn/final_errors.csv')\n",
    "errors.groupby(by='Level').agg({'NRMSE': ['mean', 'std']})"
   ]
  },
  {
   "cell_type": "code",
   "execution_count": 40,
   "id": "8be6864d",
   "metadata": {},
   "outputs": [],
   "source": [
    "errors_pc_cnn = errors.loc[errors['Level'] == 'pc']"
   ]
  },
  {
   "cell_type": "code",
   "execution_count": 41,
   "id": "34471fad",
   "metadata": {},
   "outputs": [
    {
     "data": {
      "text/html": [
       "<div>\n",
       "<style scoped>\n",
       "    .dataframe tbody tr th:only-of-type {\n",
       "        vertical-align: middle;\n",
       "    }\n",
       "\n",
       "    .dataframe tbody tr th {\n",
       "        vertical-align: top;\n",
       "    }\n",
       "\n",
       "    .dataframe thead th {\n",
       "        text-align: right;\n",
       "    }\n",
       "</style>\n",
       "<table border=\"1\" class=\"dataframe\">\n",
       "  <thead>\n",
       "    <tr style=\"text-align: right;\">\n",
       "      <th></th>\n",
       "      <th>Unnamed: 0</th>\n",
       "      <th>NRMSE</th>\n",
       "      <th>Level</th>\n",
       "    </tr>\n",
       "  </thead>\n",
       "  <tbody>\n",
       "    <tr>\n",
       "      <th>3</th>\n",
       "      <td>3</td>\n",
       "      <td>0.293724</td>\n",
       "      <td>pc</td>\n",
       "    </tr>\n",
       "    <tr>\n",
       "      <th>8</th>\n",
       "      <td>8</td>\n",
       "      <td>0.286820</td>\n",
       "      <td>pc</td>\n",
       "    </tr>\n",
       "    <tr>\n",
       "      <th>13</th>\n",
       "      <td>13</td>\n",
       "      <td>0.289410</td>\n",
       "      <td>pc</td>\n",
       "    </tr>\n",
       "    <tr>\n",
       "      <th>18</th>\n",
       "      <td>18</td>\n",
       "      <td>0.295006</td>\n",
       "      <td>pc</td>\n",
       "    </tr>\n",
       "    <tr>\n",
       "      <th>23</th>\n",
       "      <td>23</td>\n",
       "      <td>0.290656</td>\n",
       "      <td>pc</td>\n",
       "    </tr>\n",
       "    <tr>\n",
       "      <th>28</th>\n",
       "      <td>28</td>\n",
       "      <td>0.305067</td>\n",
       "      <td>pc</td>\n",
       "    </tr>\n",
       "    <tr>\n",
       "      <th>33</th>\n",
       "      <td>33</td>\n",
       "      <td>0.283093</td>\n",
       "      <td>pc</td>\n",
       "    </tr>\n",
       "    <tr>\n",
       "      <th>38</th>\n",
       "      <td>38</td>\n",
       "      <td>0.289699</td>\n",
       "      <td>pc</td>\n",
       "    </tr>\n",
       "    <tr>\n",
       "      <th>43</th>\n",
       "      <td>43</td>\n",
       "      <td>0.283717</td>\n",
       "      <td>pc</td>\n",
       "    </tr>\n",
       "    <tr>\n",
       "      <th>48</th>\n",
       "      <td>48</td>\n",
       "      <td>0.304905</td>\n",
       "      <td>pc</td>\n",
       "    </tr>\n",
       "  </tbody>\n",
       "</table>\n",
       "</div>"
      ],
      "text/plain": [
       "    Unnamed: 0     NRMSE Level\n",
       "3            3  0.293724    pc\n",
       "8            8  0.286820    pc\n",
       "13          13  0.289410    pc\n",
       "18          18  0.295006    pc\n",
       "23          23  0.290656    pc\n",
       "28          28  0.305067    pc\n",
       "33          33  0.283093    pc\n",
       "38          38  0.289699    pc\n",
       "43          43  0.283717    pc\n",
       "48          48  0.304905    pc"
      ]
     },
     "execution_count": 41,
     "metadata": {},
     "output_type": "execute_result"
    }
   ],
   "source": [
    "errors_pc_cnn"
   ]
  },
  {
   "cell_type": "code",
   "execution_count": 42,
   "id": "6ebcdf75",
   "metadata": {},
   "outputs": [],
   "source": [
    "errors_approachB = pd.read_csv('../combined_nn_results/refined_models/approachB/errors.csv')"
   ]
  },
  {
   "cell_type": "code",
   "execution_count": 43,
   "id": "bebc2350",
   "metadata": {},
   "outputs": [
    {
     "data": {
      "text/html": [
       "<div>\n",
       "<style scoped>\n",
       "    .dataframe tbody tr th:only-of-type {\n",
       "        vertical-align: middle;\n",
       "    }\n",
       "\n",
       "    .dataframe tbody tr th {\n",
       "        vertical-align: top;\n",
       "    }\n",
       "\n",
       "    .dataframe thead th {\n",
       "        text-align: right;\n",
       "    }\n",
       "</style>\n",
       "<table border=\"1\" class=\"dataframe\">\n",
       "  <thead>\n",
       "    <tr style=\"text-align: right;\">\n",
       "      <th></th>\n",
       "      <th>Unnamed: 0</th>\n",
       "      <th>nrmse</th>\n",
       "    </tr>\n",
       "  </thead>\n",
       "  <tbody>\n",
       "    <tr>\n",
       "      <th>0</th>\n",
       "      <td>0</td>\n",
       "      <td>0.284107</td>\n",
       "    </tr>\n",
       "    <tr>\n",
       "      <th>1</th>\n",
       "      <td>1</td>\n",
       "      <td>0.290120</td>\n",
       "    </tr>\n",
       "    <tr>\n",
       "      <th>2</th>\n",
       "      <td>2</td>\n",
       "      <td>0.269562</td>\n",
       "    </tr>\n",
       "    <tr>\n",
       "      <th>3</th>\n",
       "      <td>3</td>\n",
       "      <td>0.284389</td>\n",
       "    </tr>\n",
       "    <tr>\n",
       "      <th>4</th>\n",
       "      <td>4</td>\n",
       "      <td>0.285546</td>\n",
       "    </tr>\n",
       "    <tr>\n",
       "      <th>5</th>\n",
       "      <td>5</td>\n",
       "      <td>0.271499</td>\n",
       "    </tr>\n",
       "    <tr>\n",
       "      <th>6</th>\n",
       "      <td>6</td>\n",
       "      <td>0.271889</td>\n",
       "    </tr>\n",
       "    <tr>\n",
       "      <th>7</th>\n",
       "      <td>7</td>\n",
       "      <td>0.280819</td>\n",
       "    </tr>\n",
       "    <tr>\n",
       "      <th>8</th>\n",
       "      <td>8</td>\n",
       "      <td>0.265184</td>\n",
       "    </tr>\n",
       "    <tr>\n",
       "      <th>9</th>\n",
       "      <td>9</td>\n",
       "      <td>0.263552</td>\n",
       "    </tr>\n",
       "  </tbody>\n",
       "</table>\n",
       "</div>"
      ],
      "text/plain": [
       "   Unnamed: 0     nrmse\n",
       "0           0  0.284107\n",
       "1           1  0.290120\n",
       "2           2  0.269562\n",
       "3           3  0.284389\n",
       "4           4  0.285546\n",
       "5           5  0.271499\n",
       "6           6  0.271889\n",
       "7           7  0.280819\n",
       "8           8  0.265184\n",
       "9           9  0.263552"
      ]
     },
     "execution_count": 43,
     "metadata": {},
     "output_type": "execute_result"
    }
   ],
   "source": [
    "errors_approachB"
   ]
  },
  {
   "cell_type": "code",
   "execution_count": 56,
   "id": "60ad1290",
   "metadata": {},
   "outputs": [],
   "source": [
    "errors_approachB['nrmse']\n",
    "df_plot2 = pd.DataFrame(errors_approachB['nrmse'])\n",
    "df_plot2['Approach'] = 'Approach B'\n",
    "df_plot2 = df_plot2.rename(columns = {'nrmse':'NRMSE'})"
   ]
  },
  {
   "cell_type": "code",
   "execution_count": 57,
   "id": "4cf1546c",
   "metadata": {},
   "outputs": [],
   "source": [
    "df_plot = pd.DataFrame(errors_pc_cnn['NRMSE'])\n",
    "df_plot['Approach'] = 'Benchmark - CNN'"
   ]
  },
  {
   "cell_type": "code",
   "execution_count": 58,
   "id": "d00b8ec1",
   "metadata": {},
   "outputs": [],
   "source": [
    "errors_approachA = pd.read_csv('../combined_nn_results/refined_models/approachA/errors.csv')\n",
    "df_plot3 = pd.DataFrame(errors_approachA['nrmse'])\n",
    "df_plot3['Approach'] = 'Approach A'\n",
    "df_plot3 = df_plot3.rename(columns = {'nrmse':'NRMSE'})"
   ]
  },
  {
   "cell_type": "code",
   "execution_count": 59,
   "id": "e0ddd88a",
   "metadata": {},
   "outputs": [],
   "source": [
    "plt_df = pd.concat([df_plot, df_plot2, df_plot3])"
   ]
  },
  {
   "cell_type": "code",
   "execution_count": 63,
   "id": "050094b9",
   "metadata": {},
   "outputs": [
    {
     "data": {
      "image/png": "[encoded data removed]",
      "text/plain": [
       "<Figure size 1152x720 with 1 Axes>"
      ]
     },
     "metadata": {},
     "output_type": "display_data"
    }
   ],
   "source": [
    "plt.figure(figsize=(16, 10))\n",
    "ax = sns.barplot(x=\"NRMSE\", y=\"Approach\", data=plt_df, capsize=.2, ci=\"sd\")"
   ]
  },
  {
   "cell_type": "code",
   "execution_count": 19,
   "id": "0f53811b",
   "metadata": {},
   "outputs": [
    {
     "name": "stdout",
     "output_type": "stream",
     "text": [
      "p = 0.501456\n",
      "The null hypothesis can be rejected\n"
     ]
    }
   ],
   "source": [
    "from scipy import stats\n",
    "k2, p = stats.normaltest(errors_pc_cnn['NRMSE'])\n",
    "alpha = 1e-3\n",
    "print(\"p = {:g}\".format(p))\n",
    "p = 8.4713e-19\n",
    "\n",
    "if p < alpha:  # null hypothesis: x comes from a normal distribution\n",
    "    print(\"The null hypothesis can be rejected\")\n",
    "else:\n",
    "    print(\"The null hypothesis cannot be rejected\")"
   ]
  },
  {
   "cell_type": "code",
   "execution_count": 20,
   "id": "9f0687e4",
   "metadata": {},
   "outputs": [
    {
     "data": {
      "text/plain": [
       "MannwhitneyuResult(statistic=11.0, pvalue=0.0018052571561648014)"
      ]
     },
     "execution_count": 20,
     "metadata": {},
     "output_type": "execute_result"
    }
   ],
   "source": [
    "stats.mannwhitneyu(errors_pc_cnn['NRMSE'], errors_approachB['nrmse'])"
   ]
  },
  {
   "cell_type": "code",
   "execution_count": 21,
   "id": "552fee2d",
   "metadata": {},
   "outputs": [],
   "source": [
    "errors_approachA = pd.read_csv('../combined_nn_results/refined_models/approachA/errors.csv')"
   ]
  },
  {
   "cell_type": "code",
   "execution_count": 37,
   "id": "1e44b970",
   "metadata": {},
   "outputs": [],
   "source": [
    "# errors_approachA"
   ]
  },
  {
   "cell_type": "code",
   "execution_count": 22,
   "id": "04176b84",
   "metadata": {},
   "outputs": [
    {
     "data": {
      "text/plain": [
       "MannwhitneyuResult(statistic=19.0, pvalue=0.01056696406458055)"
      ]
     },
     "execution_count": 22,
     "metadata": {},
     "output_type": "execute_result"
    }
   ],
   "source": [
    "stats.mannwhitneyu(errors_pc_cnn['NRMSE'], errors_approachA['nrmse'])"
   ]
  },
  {
   "cell_type": "code",
   "execution_count": 34,
   "id": "b15c7f47",
   "metadata": {},
   "outputs": [],
   "source": [
    "errors_approachA_2 = pd.read_csv('../combined_nn_results/refined_models/approachA/possibility4/errors.csv')"
   ]
  },
  {
   "cell_type": "code",
   "execution_count": 35,
   "id": "ffc0fc27",
   "metadata": {},
   "outputs": [
    {
     "data": {
      "text/plain": [
       "MannwhitneyuResult(statistic=45.0, pvalue=0.3668649978481236)"
      ]
     },
     "execution_count": 35,
     "metadata": {},
     "output_type": "execute_result"
    }
   ],
   "source": [
    "stats.mannwhitneyu(errors_pc_cnn['NRMSE'], errors_approachA_2['nrmse'])"
   ]
  },
  {
   "cell_type": "code",
   "execution_count": null,
   "id": "3321e29c",
   "metadata": {},
   "outputs": [],
   "source": [
    "plt.figure(figsize=(16, 10))\n",
    "ax = sns.barplot(x=\"NRMSE\", y=\"Approach\", data=err_dist, capsize=.2)"
   ]
  },
  {
   "cell_type": "markdown",
   "id": "c1eb1d26",
   "metadata": {},
   "source": [
    "## SWIS CONVENTIONAL NNs"
   ]
  },
  {
   "cell_type": "code",
   "execution_count": 2,
   "id": "922d6fe9",
   "metadata": {},
   "outputs": [],
   "source": [
    "errors = pd.read_csv('../swis_conventional_nn_results/conventional_lstm/errors/final_errors.csv')"
   ]
  },
  {
   "cell_type": "code",
   "execution_count": 3,
   "id": "7ec512b6",
   "metadata": {},
   "outputs": [
    {
     "data": {
      "text/html": [
       "<div>\n",
       "<style scoped>\n",
       "    .dataframe tbody tr th:only-of-type {\n",
       "        vertical-align: middle;\n",
       "    }\n",
       "\n",
       "    .dataframe tbody tr th {\n",
       "        vertical-align: top;\n",
       "    }\n",
       "\n",
       "    .dataframe thead th {\n",
       "        text-align: right;\n",
       "    }\n",
       "</style>\n",
       "<table border=\"1\" class=\"dataframe\">\n",
       "  <thead>\n",
       "    <tr style=\"text-align: right;\">\n",
       "      <th></th>\n",
       "      <th>Unnamed: 0</th>\n",
       "      <th>NRMSE</th>\n",
       "    </tr>\n",
       "    <tr>\n",
       "      <th>Level</th>\n",
       "      <th></th>\n",
       "      <th></th>\n",
       "    </tr>\n",
       "  </thead>\n",
       "  <tbody>\n",
       "    <tr>\n",
       "      <th>grid</th>\n",
       "      <td>9</td>\n",
       "      <td>0.255128</td>\n",
       "    </tr>\n",
       "    <tr>\n",
       "      <th>pc</th>\n",
       "      <td>10</td>\n",
       "      <td>0.203182</td>\n",
       "    </tr>\n",
       "  </tbody>\n",
       "</table>\n",
       "</div>"
      ],
      "text/plain": [
       "       Unnamed: 0     NRMSE\n",
       "Level                      \n",
       "grid            9  0.255128\n",
       "pc             10  0.203182"
      ]
     },
     "execution_count": 3,
     "metadata": {},
     "output_type": "execute_result"
    }
   ],
   "source": [
    "errors.groupby(by='Level').mean()"
   ]
  },
  {
   "cell_type": "code",
   "execution_count": 6,
   "id": "66eba0cd",
   "metadata": {},
   "outputs": [
    {
     "data": {
      "text/html": [
       "<div>\n",
       "<style scoped>\n",
       "    .dataframe tbody tr th:only-of-type {\n",
       "        vertical-align: middle;\n",
       "    }\n",
       "\n",
       "    .dataframe tbody tr th {\n",
       "        vertical-align: top;\n",
       "    }\n",
       "\n",
       "    .dataframe thead th {\n",
       "        text-align: right;\n",
       "    }\n",
       "</style>\n",
       "<table border=\"1\" class=\"dataframe\">\n",
       "  <thead>\n",
       "    <tr style=\"text-align: right;\">\n",
       "      <th></th>\n",
       "      <th>Unnamed: 0</th>\n",
       "      <th>NRMSE</th>\n",
       "    </tr>\n",
       "    <tr>\n",
       "      <th>Level</th>\n",
       "      <th></th>\n",
       "      <th></th>\n",
       "    </tr>\n",
       "  </thead>\n",
       "  <tbody>\n",
       "    <tr>\n",
       "      <th>grid</th>\n",
       "      <td>6.055301</td>\n",
       "      <td>0.006773</td>\n",
       "    </tr>\n",
       "    <tr>\n",
       "      <th>pc</th>\n",
       "      <td>6.055301</td>\n",
       "      <td>0.010369</td>\n",
       "    </tr>\n",
       "  </tbody>\n",
       "</table>\n",
       "</div>"
      ],
      "text/plain": [
       "       Unnamed: 0     NRMSE\n",
       "Level                      \n",
       "grid     6.055301  0.006773\n",
       "pc       6.055301  0.010369"
      ]
     },
     "execution_count": 6,
     "metadata": {},
     "output_type": "execute_result"
    }
   ],
   "source": [
    "errors.groupby(by='Level').std()"
   ]
  },
  {
   "cell_type": "code",
   "execution_count": 2,
   "id": "4b3aebfc",
   "metadata": {},
   "outputs": [],
   "source": [
    "errors = pd.read_csv('../swis_conventional_nn_results/conventional_cnn/errors/final_errors.csv')"
   ]
  },
  {
   "cell_type": "code",
   "execution_count": 3,
   "id": "ae4af8b9",
   "metadata": {},
   "outputs": [
    {
     "data": {
      "text/html": [
       "<div>\n",
       "<style scoped>\n",
       "    .dataframe tbody tr th:only-of-type {\n",
       "        vertical-align: middle;\n",
       "    }\n",
       "\n",
       "    .dataframe tbody tr th {\n",
       "        vertical-align: top;\n",
       "    }\n",
       "\n",
       "    .dataframe thead th {\n",
       "        text-align: right;\n",
       "    }\n",
       "</style>\n",
       "<table border=\"1\" class=\"dataframe\">\n",
       "  <thead>\n",
       "    <tr style=\"text-align: right;\">\n",
       "      <th></th>\n",
       "      <th>Unnamed: 0</th>\n",
       "      <th>NRMSE</th>\n",
       "    </tr>\n",
       "    <tr>\n",
       "      <th>Level</th>\n",
       "      <th></th>\n",
       "      <th></th>\n",
       "    </tr>\n",
       "  </thead>\n",
       "  <tbody>\n",
       "    <tr>\n",
       "      <th>grid</th>\n",
       "      <td>9</td>\n",
       "      <td>0.264341</td>\n",
       "    </tr>\n",
       "    <tr>\n",
       "      <th>pc</th>\n",
       "      <td>10</td>\n",
       "      <td>0.190054</td>\n",
       "    </tr>\n",
       "  </tbody>\n",
       "</table>\n",
       "</div>"
      ],
      "text/plain": [
       "       Unnamed: 0     NRMSE\n",
       "Level                      \n",
       "grid            9  0.264341\n",
       "pc             10  0.190054"
      ]
     },
     "execution_count": 3,
     "metadata": {},
     "output_type": "execute_result"
    }
   ],
   "source": [
    "errors.groupby(by='Level').mean()"
   ]
  },
  {
   "cell_type": "code",
   "execution_count": 4,
   "id": "c3f73eb2",
   "metadata": {},
   "outputs": [
    {
     "data": {
      "text/html": [
       "<div>\n",
       "<style scoped>\n",
       "    .dataframe tbody tr th:only-of-type {\n",
       "        vertical-align: middle;\n",
       "    }\n",
       "\n",
       "    .dataframe tbody tr th {\n",
       "        vertical-align: top;\n",
       "    }\n",
       "\n",
       "    .dataframe thead th {\n",
       "        text-align: right;\n",
       "    }\n",
       "</style>\n",
       "<table border=\"1\" class=\"dataframe\">\n",
       "  <thead>\n",
       "    <tr style=\"text-align: right;\">\n",
       "      <th></th>\n",
       "      <th>Unnamed: 0</th>\n",
       "      <th>NRMSE</th>\n",
       "    </tr>\n",
       "    <tr>\n",
       "      <th>Level</th>\n",
       "      <th></th>\n",
       "      <th></th>\n",
       "    </tr>\n",
       "  </thead>\n",
       "  <tbody>\n",
       "    <tr>\n",
       "      <th>grid</th>\n",
       "      <td>6.055301</td>\n",
       "      <td>0.011408</td>\n",
       "    </tr>\n",
       "    <tr>\n",
       "      <th>pc</th>\n",
       "      <td>6.055301</td>\n",
       "      <td>0.004253</td>\n",
       "    </tr>\n",
       "  </tbody>\n",
       "</table>\n",
       "</div>"
      ],
      "text/plain": [
       "       Unnamed: 0     NRMSE\n",
       "Level                      \n",
       "grid     6.055301  0.011408\n",
       "pc       6.055301  0.004253"
      ]
     },
     "execution_count": 4,
     "metadata": {},
     "output_type": "execute_result"
    }
   ],
   "source": [
    "errors.groupby(by='Level').std()"
   ]
  },
  {
   "cell_type": "code",
   "execution_count": 14,
   "id": "af1c88f1",
   "metadata": {},
   "outputs": [],
   "source": [
    "errors = pd.read_csv('../swis_conventional_nn_results/conventional_tcn/errors/final_errors.csv')"
   ]
  },
  {
   "cell_type": "code",
   "execution_count": 18,
   "id": "2f500546",
   "metadata": {},
   "outputs": [],
   "source": [
    "# errors"
   ]
  },
  {
   "cell_type": "code",
   "execution_count": 12,
   "id": "68ca695f",
   "metadata": {},
   "outputs": [
    {
     "data": {
      "text/html": [
       "<div>\n",
       "<style scoped>\n",
       "    .dataframe tbody tr th:only-of-type {\n",
       "        vertical-align: middle;\n",
       "    }\n",
       "\n",
       "    .dataframe tbody tr th {\n",
       "        vertical-align: top;\n",
       "    }\n",
       "\n",
       "    .dataframe thead th {\n",
       "        text-align: right;\n",
       "    }\n",
       "</style>\n",
       "<table border=\"1\" class=\"dataframe\">\n",
       "  <thead>\n",
       "    <tr style=\"text-align: right;\">\n",
       "      <th></th>\n",
       "      <th>Unnamed: 0</th>\n",
       "      <th>NRMSE</th>\n",
       "    </tr>\n",
       "    <tr>\n",
       "      <th>Level</th>\n",
       "      <th></th>\n",
       "      <th></th>\n",
       "    </tr>\n",
       "  </thead>\n",
       "  <tbody>\n",
       "    <tr>\n",
       "      <th>grid</th>\n",
       "      <td>9</td>\n",
       "      <td>0.283288</td>\n",
       "    </tr>\n",
       "    <tr>\n",
       "      <th>pc</th>\n",
       "      <td>10</td>\n",
       "      <td>0.161564</td>\n",
       "    </tr>\n",
       "  </tbody>\n",
       "</table>\n",
       "</div>"
      ],
      "text/plain": [
       "       Unnamed: 0     NRMSE\n",
       "Level                      \n",
       "grid            9  0.283288\n",
       "pc             10  0.161564"
      ]
     },
     "execution_count": 12,
     "metadata": {},
     "output_type": "execute_result"
    }
   ],
   "source": [
    "errors.groupby(by='Level').mean()"
   ]
  },
  {
   "cell_type": "code",
   "execution_count": 13,
   "id": "db50498c",
   "metadata": {},
   "outputs": [
    {
     "data": {
      "text/html": [
       "<div>\n",
       "<style scoped>\n",
       "    .dataframe tbody tr th:only-of-type {\n",
       "        vertical-align: middle;\n",
       "    }\n",
       "\n",
       "    .dataframe tbody tr th {\n",
       "        vertical-align: top;\n",
       "    }\n",
       "\n",
       "    .dataframe thead th {\n",
       "        text-align: right;\n",
       "    }\n",
       "</style>\n",
       "<table border=\"1\" class=\"dataframe\">\n",
       "  <thead>\n",
       "    <tr style=\"text-align: right;\">\n",
       "      <th></th>\n",
       "      <th>Unnamed: 0</th>\n",
       "      <th>NRMSE</th>\n",
       "    </tr>\n",
       "    <tr>\n",
       "      <th>Level</th>\n",
       "      <th></th>\n",
       "      <th></th>\n",
       "    </tr>\n",
       "  </thead>\n",
       "  <tbody>\n",
       "    <tr>\n",
       "      <th>grid</th>\n",
       "      <td>6.055301</td>\n",
       "      <td>0.017420</td>\n",
       "    </tr>\n",
       "    <tr>\n",
       "      <th>pc</th>\n",
       "      <td>6.055301</td>\n",
       "      <td>0.004206</td>\n",
       "    </tr>\n",
       "  </tbody>\n",
       "</table>\n",
       "</div>"
      ],
      "text/plain": [
       "       Unnamed: 0     NRMSE\n",
       "Level                      \n",
       "grid     6.055301  0.017420\n",
       "pc       6.055301  0.004206"
      ]
     },
     "execution_count": 13,
     "metadata": {},
     "output_type": "execute_result"
    }
   ],
   "source": [
    "errors.groupby(by='Level').std()"
   ]
  },
  {
   "cell_type": "markdown",
   "id": "c8e8cc98",
   "metadata": {},
   "source": [
    "## Combined"
   ]
  },
  {
   "cell_type": "code",
   "execution_count": 26,
   "id": "8d684032",
   "metadata": {},
   "outputs": [],
   "source": [
    "errors = pd.read_csv('../swis_combined_nn_results/approachA/SWIS_APPROACH_A/errors/final_errors.csv')"
   ]
  },
  {
   "cell_type": "code",
   "execution_count": 28,
   "id": "c0babb3e",
   "metadata": {},
   "outputs": [],
   "source": [
    "# errors"
   ]
  },
  {
   "cell_type": "code",
   "execution_count": 8,
   "id": "4f9a4473",
   "metadata": {},
   "outputs": [
    {
     "data": {
      "text/html": [
       "<div>\n",
       "<style scoped>\n",
       "    .dataframe tbody tr th:only-of-type {\n",
       "        vertical-align: middle;\n",
       "    }\n",
       "\n",
       "    .dataframe tbody tr th {\n",
       "        vertical-align: top;\n",
       "    }\n",
       "\n",
       "    .dataframe thead th {\n",
       "        text-align: right;\n",
       "    }\n",
       "</style>\n",
       "<table border=\"1\" class=\"dataframe\">\n",
       "  <thead>\n",
       "    <tr style=\"text-align: right;\">\n",
       "      <th></th>\n",
       "      <th>Unnamed: 0</th>\n",
       "      <th>NRMSE</th>\n",
       "    </tr>\n",
       "    <tr>\n",
       "      <th>Level</th>\n",
       "      <th></th>\n",
       "      <th></th>\n",
       "    </tr>\n",
       "  </thead>\n",
       "  <tbody>\n",
       "    <tr>\n",
       "      <th>grid</th>\n",
       "      <td>4.5</td>\n",
       "      <td>0.183275</td>\n",
       "    </tr>\n",
       "  </tbody>\n",
       "</table>\n",
       "</div>"
      ],
      "text/plain": [
       "       Unnamed: 0     NRMSE\n",
       "Level                      \n",
       "grid          4.5  0.183275"
      ]
     },
     "execution_count": 8,
     "metadata": {},
     "output_type": "execute_result"
    }
   ],
   "source": [
    "errors.groupby(by='Level').mean()"
   ]
  },
  {
   "cell_type": "code",
   "execution_count": 10,
   "id": "3579c630",
   "metadata": {},
   "outputs": [
    {
     "data": {
      "text/html": [
       "<div>\n",
       "<style scoped>\n",
       "    .dataframe tbody tr th:only-of-type {\n",
       "        vertical-align: middle;\n",
       "    }\n",
       "\n",
       "    .dataframe tbody tr th {\n",
       "        vertical-align: top;\n",
       "    }\n",
       "\n",
       "    .dataframe thead th {\n",
       "        text-align: right;\n",
       "    }\n",
       "</style>\n",
       "<table border=\"1\" class=\"dataframe\">\n",
       "  <thead>\n",
       "    <tr style=\"text-align: right;\">\n",
       "      <th></th>\n",
       "      <th>Unnamed: 0</th>\n",
       "      <th>NRMSE</th>\n",
       "    </tr>\n",
       "    <tr>\n",
       "      <th>Level</th>\n",
       "      <th></th>\n",
       "      <th></th>\n",
       "    </tr>\n",
       "  </thead>\n",
       "  <tbody>\n",
       "    <tr>\n",
       "      <th>grid</th>\n",
       "      <td>3.02765</td>\n",
       "      <td>0.003579</td>\n",
       "    </tr>\n",
       "  </tbody>\n",
       "</table>\n",
       "</div>"
      ],
      "text/plain": [
       "       Unnamed: 0     NRMSE\n",
       "Level                      \n",
       "grid      3.02765  0.003579"
      ]
     },
     "execution_count": 10,
     "metadata": {},
     "output_type": "execute_result"
    }
   ],
   "source": [
    "errors.groupby(by='Level').std()"
   ]
  },
  {
   "cell_type": "code",
   "execution_count": 20,
   "id": "a55d190a",
   "metadata": {},
   "outputs": [],
   "source": [
    "errors = pd.read_csv('../swis_combined_nn_results/approachB/SWIS_APPROACH_B_with_clustering/errors/final_errors.csv')"
   ]
  },
  {
   "cell_type": "code",
   "execution_count": 21,
   "id": "e9eefdd0",
   "metadata": {},
   "outputs": [
    {
     "data": {
      "text/html": [
       "<div>\n",
       "<style scoped>\n",
       "    .dataframe tbody tr th:only-of-type {\n",
       "        vertical-align: middle;\n",
       "    }\n",
       "\n",
       "    .dataframe tbody tr th {\n",
       "        vertical-align: top;\n",
       "    }\n",
       "\n",
       "    .dataframe thead th {\n",
       "        text-align: right;\n",
       "    }\n",
       "</style>\n",
       "<table border=\"1\" class=\"dataframe\">\n",
       "  <thead>\n",
       "    <tr style=\"text-align: right;\">\n",
       "      <th></th>\n",
       "      <th>Unnamed: 0</th>\n",
       "      <th>NRMSE</th>\n",
       "    </tr>\n",
       "    <tr>\n",
       "      <th>Level</th>\n",
       "      <th></th>\n",
       "      <th></th>\n",
       "    </tr>\n",
       "  </thead>\n",
       "  <tbody>\n",
       "    <tr>\n",
       "      <th>grid</th>\n",
       "      <td>0</td>\n",
       "      <td>0.211362</td>\n",
       "    </tr>\n",
       "  </tbody>\n",
       "</table>\n",
       "</div>"
      ],
      "text/plain": [
       "       Unnamed: 0     NRMSE\n",
       "Level                      \n",
       "grid            0  0.211362"
      ]
     },
     "execution_count": 21,
     "metadata": {},
     "output_type": "execute_result"
    }
   ],
   "source": [
    "errors.groupby(by='Level').mean()"
   ]
  },
  {
   "cell_type": "code",
   "execution_count": 22,
   "id": "55cd4fa5",
   "metadata": {},
   "outputs": [],
   "source": [
    "errors = pd.read_csv('../swis_combined_nn_results/approachB/SWIS_APPROACH_B/errors/final_errors.csv')"
   ]
  },
  {
   "cell_type": "code",
   "execution_count": 23,
   "id": "0d354012",
   "metadata": {},
   "outputs": [
    {
     "data": {
      "text/html": [
       "<div>\n",
       "<style scoped>\n",
       "    .dataframe tbody tr th:only-of-type {\n",
       "        vertical-align: middle;\n",
       "    }\n",
       "\n",
       "    .dataframe tbody tr th {\n",
       "        vertical-align: top;\n",
       "    }\n",
       "\n",
       "    .dataframe thead th {\n",
       "        text-align: right;\n",
       "    }\n",
       "</style>\n",
       "<table border=\"1\" class=\"dataframe\">\n",
       "  <thead>\n",
       "    <tr style=\"text-align: right;\">\n",
       "      <th></th>\n",
       "      <th>Unnamed: 0</th>\n",
       "      <th>NRMSE</th>\n",
       "    </tr>\n",
       "    <tr>\n",
       "      <th>Level</th>\n",
       "      <th></th>\n",
       "      <th></th>\n",
       "    </tr>\n",
       "  </thead>\n",
       "  <tbody>\n",
       "    <tr>\n",
       "      <th>grid</th>\n",
       "      <td>0</td>\n",
       "      <td>0.189056</td>\n",
       "    </tr>\n",
       "  </tbody>\n",
       "</table>\n",
       "</div>"
      ],
      "text/plain": [
       "       Unnamed: 0     NRMSE\n",
       "Level                      \n",
       "grid            0  0.189056"
      ]
     },
     "execution_count": 23,
     "metadata": {},
     "output_type": "execute_result"
    }
   ],
   "source": [
    "errors.groupby(by='Level').mean()"
   ]
  },
  {
   "cell_type": "code",
   "execution_count": 29,
   "id": "a022a879",
   "metadata": {},
   "outputs": [],
   "source": [
    "errors = pd.read_csv('../swis_combined_nn_results/approachA/SWIS_APPROACH_A_SKIP/errors/final_errors.csv')"
   ]
  },
  {
   "cell_type": "code",
   "execution_count": 33,
   "id": "078dfc26",
   "metadata": {},
   "outputs": [],
   "source": [
    "# errors"
   ]
  },
  {
   "cell_type": "code",
   "execution_count": 30,
   "id": "ce5177e7",
   "metadata": {},
   "outputs": [
    {
     "data": {
      "text/html": [
       "<div>\n",
       "<style scoped>\n",
       "    .dataframe tbody tr th:only-of-type {\n",
       "        vertical-align: middle;\n",
       "    }\n",
       "\n",
       "    .dataframe tbody tr th {\n",
       "        vertical-align: top;\n",
       "    }\n",
       "\n",
       "    .dataframe thead th {\n",
       "        text-align: right;\n",
       "    }\n",
       "</style>\n",
       "<table border=\"1\" class=\"dataframe\">\n",
       "  <thead>\n",
       "    <tr style=\"text-align: right;\">\n",
       "      <th></th>\n",
       "      <th>Unnamed: 0</th>\n",
       "      <th>NRMSE</th>\n",
       "    </tr>\n",
       "    <tr>\n",
       "      <th>Level</th>\n",
       "      <th></th>\n",
       "      <th></th>\n",
       "    </tr>\n",
       "  </thead>\n",
       "  <tbody>\n",
       "    <tr>\n",
       "      <th>grid</th>\n",
       "      <td>4.5</td>\n",
       "      <td>0.179876</td>\n",
       "    </tr>\n",
       "  </tbody>\n",
       "</table>\n",
       "</div>"
      ],
      "text/plain": [
       "       Unnamed: 0     NRMSE\n",
       "Level                      \n",
       "grid          4.5  0.179876"
      ]
     },
     "execution_count": 30,
     "metadata": {},
     "output_type": "execute_result"
    }
   ],
   "source": [
    "errors.groupby(by='Level').mean()"
   ]
  },
  {
   "cell_type": "code",
   "execution_count": 31,
   "id": "f5417268",
   "metadata": {},
   "outputs": [
    {
     "data": {
      "text/html": [
       "<div>\n",
       "<style scoped>\n",
       "    .dataframe tbody tr th:only-of-type {\n",
       "        vertical-align: middle;\n",
       "    }\n",
       "\n",
       "    .dataframe tbody tr th {\n",
       "        vertical-align: top;\n",
       "    }\n",
       "\n",
       "    .dataframe thead th {\n",
       "        text-align: right;\n",
       "    }\n",
       "</style>\n",
       "<table border=\"1\" class=\"dataframe\">\n",
       "  <thead>\n",
       "    <tr style=\"text-align: right;\">\n",
       "      <th></th>\n",
       "      <th>Unnamed: 0</th>\n",
       "      <th>NRMSE</th>\n",
       "    </tr>\n",
       "    <tr>\n",
       "      <th>Level</th>\n",
       "      <th></th>\n",
       "      <th></th>\n",
       "    </tr>\n",
       "  </thead>\n",
       "  <tbody>\n",
       "    <tr>\n",
       "      <th>grid</th>\n",
       "      <td>3.02765</td>\n",
       "      <td>0.008465</td>\n",
       "    </tr>\n",
       "  </tbody>\n",
       "</table>\n",
       "</div>"
      ],
      "text/plain": [
       "       Unnamed: 0     NRMSE\n",
       "Level                      \n",
       "grid      3.02765  0.008465"
      ]
     },
     "execution_count": 31,
     "metadata": {},
     "output_type": "execute_result"
    }
   ],
   "source": [
    "errors.groupby(by='Level').std()"
   ]
  },
  {
   "cell_type": "code",
   "execution_count": null,
   "id": "318317d5",
   "metadata": {},
   "outputs": [],
   "source": []
  }
 ],
 "metadata": {
  "kernelspec": {
   "display_name": "Python 3",
   "language": "python",
   "name": "python3"
  },
  "language_info": {
   "codemirror_mode": {
    "name": "ipython",
    "version": 3
   },
   "file_extension": ".py",
   "mimetype": "text/x-python",
   "name": "python",
   "nbconvert_exporter": "python",
   "pygments_lexer": "ipython3",
   "version": "3.8.10"
  }
 },
 "nbformat": 4,
 "nbformat_minor": 5
}
